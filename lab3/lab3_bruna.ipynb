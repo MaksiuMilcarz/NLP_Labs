{
 "cells": [
  {
   "cell_type": "markdown",
   "metadata": {
    "id": "yzKuNRxBvH92",
    "pycharm": {
     "name": "#%% md\n"
    }
   },
   "source": [
    "# NLP 2025\n",
    "# Lab 3: Attention and Pre-trained Models\n",
    "\n",
    "Our practical journey in NLP has so far covered the following:\n",
    "\n",
    "🧪 Lab 1: Tokenize and pre-process text in different ways.\n",
    "\n",
    "🧠 Lab 2: Train different representation models (e.g. TF-IDF) and/or use pre-trained word embeddings with useful applications (such as information retrieval).\n",
    "\n",
    "🚀 We will now escalate from using pre-trained static word embeddings to use pre-trained models (like BERT). The model is pre-trained on vast amounts of data 📚 and that allows for better generalization. As we discussed in class, BERT models are based on transformers 🤖, which use attention to model sequences (in our case sequences of words).\n",
    "\n",
    "💡 BERT provides for contextualized embeddings, aka the embedding vector of a word is only determined once the actual context of that word is known. 👉 Practically, this allows for words to have different embedding vectors depending on their actual context (e.g. think of the word \"bank\" 🏦🏞️ and its multiple meanings in different contexts).\n",
    "\n",
    "In this lab, we will learn how to load and use pre-trained models (e.g. BERT) from Huggingface 🤗."
   ]
  },
  {
   "cell_type": "markdown",
   "metadata": {
    "id": "-Ft-ojwLvH93",
    "pycharm": {
     "name": "#%% md\n"
    }
   },
   "source": [
    "By the end of this lab you should be able to:\n",
    "\n",
    "- 🧠📦Load and/or use pre-trained models and tokenizers to solve different NLP tasks\n",
    "- 🔍🧬 Inspect and analyze the inner workings (hidden layers etc.) of attention models (like BERT)\n",
    "- 🧲📝 Use attention models to get sentence representations (aka sentence embeddings)\n",
    "- 📚🎯 Use BERT sentence embeddings to solve more complicated tasks like information retrieval\n",
    "- ⚖️📊 Compare performance of different models and assess their effectiveness\n",
    "- 🛠️🐍 Load and use the basics of pytorch and huggingface transformers (important frameworks in NLP)\n",
    "\n",
    "### Score breakdown\n",
    "\n",
    "| Exercise            | Points |\n",
    "|---------------------|--------|\n",
    "| [Exercise 1](#e1)   | 1      |\n",
    "| [Exercise 2](#e2)   | 3      |\n",
    "| [Exercise 3](#e3)   | 5      |\n",
    "| [Exercise 4](#e4)   | 2      |\n",
    "| [Exercise 5](#e5)   | 10     |\n",
    "| [Exercise 6](#e6)   | 5      |\n",
    "| [Exercise 7](#e7)   | 10     |\n",
    "| [Exercise 8](#e8)   | 2      |\n",
    "| [Exercise 9](#e9)   | 1      |\n",
    "| [Exercise 10](#e10) | 3      |\n",
    "| [Exercise 11](#e11) | 10     |\n",
    "| [Exercise 12](#e12) | 3      |\n",
    "| [Exercise 13](#e13) | 10     |\n",
    "| [Exercise 14](#e14) | 10     |\n",
    "| [Exercise 15](#e15) | 15     |\n",
    "| [Exercise 16](#e16) | 10     |\n",
    "| Total               | 100    |\n",
    "\n",
    "This score will be scaled down to 1 and that will be your final lab score.\n",
    "\n",
    "### 📌 **Instructions for Delivery** (📅 **Deadline: 2/May 18:00**, 🎭 *wildcards possible*)\n",
    "\n",
    "✅ **Submission Requirements**\n",
    "+ 📄 You need to submit a **PDF of your report** (use the templates provided in **LaTeX** 🖋️ (*preferred*) or **Word** 📑) and a **copy of your notebook** 📓 with the code.\n",
    "+ ⚡ Make sure that **all cells are executed properly** ⚙️ and that **all figures/results/plots** 📊 you include in the report are also visible in your **executed notebook**.\n",
    "\n",
    "✅ **Collaboration & Integrity**\n",
    "+ 🗣️ While you may **discuss** the lab with others, you must **write your solutions with your group only**. If you **discuss specific tasks** with others, please **include their names** in the appendix of the report.\n",
    "+ 📜 **Honor Code applies** to this lab. For more details, check **Syllabus §7.2** ⚖️.\n",
    "+ 📢 **Mandatory Disclosure**:\n",
    "   - Any **websites** 🌐 (e.g., **Stack Overflow** 💡) or **other resources** used must be **listed and disclosed**.\n",
    "   - Any **GenAI tools** 🤖 (e.g., **ChatGPT**) used must be **explicitly mentioned**.\n",
    "   - 🚨 **Failure to disclose these resources is a violation of academic integrity**. See **Syllabus §7.3** for details."
   ]
  },
  {
   "cell_type": "markdown",
   "metadata": {
    "id": "DtIOSNGHvH95",
    "pycharm": {
     "name": "#%% md\n"
    }
   },
   "source": [
    "## 0. Setup (Huggingface + PyTorch  = ❤️)\n",
    "\n",
    "You should know the drill by now. As in the last lab, we will be using huggingface datasets library ([https://huggingface.co/datasets](https://huggingface.co/datasets)). You can find the detailed documentation and tutorials here: [https://huggingface.co/docs/datasets/en/index](https://huggingface.co/docs/datasets/en/index)\n",
    "\n",
    "If you don't have it installed you can run the code below (if in Google Colab) or copy the code to the terminal (if you run locally):"
   ]
  },
  {
   "cell_type": "code",
   "execution_count": 1,
   "metadata": {
    "colab": {
     "base_uri": "https://localhost:8080/"
    },
    "executionInfo": {
     "elapsed": 11091,
     "status": "ok",
     "timestamp": 1715950847455,
     "user": {
      "displayName": "Jerry Spanakis",
      "userId": "13596299027111238536"
     },
     "user_tz": -60
    },
    "id": "BXnS23EOvH95",
    "outputId": "5f8d4cb3-111a-4d1f-c02c-265c691b6366",
    "pycharm": {
     "name": "#%%\n"
    }
   },
   "outputs": [],
   "source": [
    "# ! pip install -U datasets"
   ]
  },
  {
   "cell_type": "markdown",
   "metadata": {
    "id": "guiiBjRS3yDc",
    "pycharm": {
     "name": "#%% md\n"
    }
   },
   "source": [
    "Next, we will need [PyTorch](https://pytorch.org/) installed. It is a very popular deep learning library that offers modularized versions of many of the sequence models we discussed in class. It's an important tool that you may want to practice further if you want to dive deeper into NLP, since much of the current academic and industrial research uses it.\n",
    "\n",
    "Some resources to look further are given below.\n",
    "\n",
    "* [Documentation](https://pytorch.org/docs/stable/index.html) (We will need this soon)\n",
    "\n",
    "* [Installation Instructions](https://pytorch.org/get-started/locally/)\n",
    "\n",
    "* [Quickstart Tutorial](https://pytorch.org/tutorials/beginner/basics/quickstart_tutorial.html)\n",
    "\n",
    "The cell below should install the library:"
   ]
  },
  {
   "cell_type": "code",
   "execution_count": 1,
   "metadata": {
    "colab": {
     "base_uri": "https://localhost:8080/"
    },
    "executionInfo": {
     "elapsed": 69511,
     "status": "ok",
     "timestamp": 1715951458130,
     "user": {
      "displayName": "Jerry Spanakis",
      "userId": "13596299027111238536"
     },
     "user_tz": -60
    },
    "id": "YxhaW5aEvH96",
    "outputId": "23b1bc4b-d892-42e5-8adb-18680d307265",
    "pycharm": {
     "name": "#%%\n"
    }
   },
   "outputs": [
    {
     "name": "stdout",
     "output_type": "stream",
     "text": [
      "Collecting torch\n",
      "  Downloading torch-2.7.0-cp39-cp39-win_amd64.whl (212.4 MB)\n",
      "     -------------------------------------- 212.4/212.4 MB 5.0 MB/s eta 0:00:00\n",
      "Collecting torchvision\n",
      "  Downloading torchvision-0.22.0-cp39-cp39-win_amd64.whl (1.7 MB)\n",
      "     ---------------------------------------- 1.7/1.7 MB 9.1 MB/s eta 0:00:00\n",
      "Collecting torchaudio\n",
      "  Downloading torchaudio-2.7.0-cp39-cp39-win_amd64.whl (2.5 MB)\n",
      "     ---------------------------------------- 2.5/2.5 MB 8.8 MB/s eta 0:00:00\n",
      "Requirement already satisfied: fsspec in c:\\users\\bruna\\anaconda3\\lib\\site-packages (from torch) (2024.9.0)\n",
      "Requirement already satisfied: jinja2 in c:\\users\\bruna\\anaconda3\\lib\\site-packages (from torch) (2.11.3)\n",
      "Requirement already satisfied: typing-extensions>=4.10.0 in c:\\users\\bruna\\anaconda3\\lib\\site-packages (from torch) (4.12.2)\n",
      "Requirement already satisfied: filelock in c:\\users\\bruna\\anaconda3\\lib\\site-packages (from torch) (3.6.0)\n",
      "Collecting sympy>=1.13.3\n",
      "  Downloading sympy-1.13.3-py3-none-any.whl (6.2 MB)\n",
      "     ---------------------------------------- 6.2/6.2 MB 9.4 MB/s eta 0:00:00\n",
      "Requirement already satisfied: networkx in c:\\users\\bruna\\anaconda3\\lib\\site-packages (from torch) (2.8.4)\n",
      "Requirement already satisfied: numpy in c:\\users\\bruna\\anaconda3\\lib\\site-packages (from torchvision) (1.24.4)\n",
      "Requirement already satisfied: pillow!=8.3.*,>=5.3.0 in c:\\users\\bruna\\anaconda3\\lib\\site-packages (from torchvision) (9.2.0)\n",
      "Requirement already satisfied: mpmath<1.4,>=1.1.0 in c:\\users\\bruna\\anaconda3\\lib\\site-packages (from sympy>=1.13.3->torch) (1.2.1)\n",
      "Requirement already satisfied: MarkupSafe>=0.23 in c:\\users\\bruna\\anaconda3\\lib\\site-packages (from jinja2->torch) (2.0.1)\n",
      "Installing collected packages: sympy, torch, torchvision, torchaudio\n",
      "  Attempting uninstall: sympy\n",
      "    Found existing installation: sympy 1.10.1\n",
      "    Uninstalling sympy-1.10.1:\n",
      "      Successfully uninstalled sympy-1.10.1\n",
      "Successfully installed sympy-1.13.3 torch-2.7.0 torchaudio-2.7.0 torchvision-0.22.0\n"
     ]
    }
   ],
   "source": [
    "! pip install torch torchvision torchaudio"
   ]
  },
  {
   "cell_type": "markdown",
   "metadata": {
    "id": "WxQp0Rwj3yDd",
    "pycharm": {
     "name": "#%% md\n"
    }
   },
   "source": [
    "The last bit we need is the huggingface transformers library (here is the documentation [https://huggingface.co/docs/transformers/en/index](https://huggingface.co/docs/transformers/en/index)). Transformers are one of the most influential architectures in handling sequences (not only in language). As we discussed in lectures, they excel at taking into account context (which is the salt-and-pepper of NLP) with mechansisms such as self-attetion, which allows them to weigh the importance of different words in a sentence. If you want to know more, revisit the course material (slides and textbook).\n",
    "\n",
    "We already used huggingface datasets in previous labs and huggingface transformers integrates nicely with that. Apart from the ease of use, huggingface is also providing pre-trained models of different kinds. The list can be found [here](https://huggingface.co/models) ([https://huggingface.co/models](https://huggingface.co/models)). The following line should be enough to install huggingface transformers library:"
   ]
  },
  {
   "cell_type": "code",
   "execution_count": 2,
   "metadata": {
    "colab": {
     "base_uri": "https://localhost:8080/"
    },
    "executionInfo": {
     "elapsed": 17715,
     "status": "ok",
     "timestamp": 1715951690709,
     "user": {
      "displayName": "Jerry Spanakis",
      "userId": "13596299027111238536"
     },
     "user_tz": -60
    },
    "id": "7qGxwe83vH97",
    "outputId": "91d074d8-0cee-43c5-dfe5-f4dcaf5ca58e",
    "pycharm": {
     "name": "#%%\n"
    }
   },
   "outputs": [
    {
     "name": "stdout",
     "output_type": "stream",
     "text": [
      "Collecting transformers\n",
      "  Downloading transformers-4.51.3-py3-none-any.whl (10.4 MB)\n",
      "     --------------------------------------- 10.4/10.4 MB 11.3 MB/s eta 0:00:00\n",
      "Requirement already satisfied: packaging>=20.0 in c:\\users\\bruna\\anaconda3\\lib\\site-packages (from transformers) (21.3)\n",
      "Requirement already satisfied: tqdm>=4.27 in c:\\users\\bruna\\anaconda3\\lib\\site-packages (from transformers) (4.67.1)\n",
      "Requirement already satisfied: numpy>=1.17 in c:\\users\\bruna\\anaconda3\\lib\\site-packages (from transformers) (1.24.4)\n",
      "Collecting tokenizers<0.22,>=0.21\n",
      "  Downloading tokenizers-0.21.1-cp39-abi3-win_amd64.whl (2.4 MB)\n",
      "     ---------------------------------------- 2.4/2.4 MB 11.1 MB/s eta 0:00:00\n",
      "Requirement already satisfied: huggingface-hub<1.0,>=0.30.0 in c:\\users\\bruna\\anaconda3\\lib\\site-packages (from transformers) (0.30.1)\n",
      "Requirement already satisfied: regex!=2019.12.17 in c:\\users\\bruna\\anaconda3\\lib\\site-packages (from transformers) (2022.7.9)\n",
      "Requirement already satisfied: requests in c:\\users\\bruna\\anaconda3\\lib\\site-packages (from transformers) (2.32.3)\n",
      "Requirement already satisfied: filelock in c:\\users\\bruna\\anaconda3\\lib\\site-packages (from transformers) (3.6.0)\n",
      "Requirement already satisfied: pyyaml>=5.1 in c:\\users\\bruna\\anaconda3\\lib\\site-packages (from transformers) (6.0)\n",
      "Collecting safetensors>=0.4.3\n",
      "  Downloading safetensors-0.5.3-cp38-abi3-win_amd64.whl (308 kB)\n",
      "     -------------------------------------- 308.9/308.9 kB 9.6 MB/s eta 0:00:00\n",
      "Requirement already satisfied: typing-extensions>=3.7.4.3 in c:\\users\\bruna\\anaconda3\\lib\\site-packages (from huggingface-hub<1.0,>=0.30.0->transformers) (4.12.2)\n",
      "Requirement already satisfied: fsspec>=2023.5.0 in c:\\users\\bruna\\anaconda3\\lib\\site-packages (from huggingface-hub<1.0,>=0.30.0->transformers) (2024.9.0)\n",
      "Requirement already satisfied: pyparsing!=3.0.5,>=2.0.2 in c:\\users\\bruna\\anaconda3\\lib\\site-packages (from packaging>=20.0->transformers) (3.0.9)\n",
      "Requirement already satisfied: colorama in c:\\users\\bruna\\anaconda3\\lib\\site-packages (from tqdm>=4.27->transformers) (0.4.5)\n",
      "Requirement already satisfied: charset-normalizer<4,>=2 in c:\\users\\bruna\\anaconda3\\lib\\site-packages (from requests->transformers) (2.0.4)\n",
      "Requirement already satisfied: idna<4,>=2.5 in c:\\users\\bruna\\anaconda3\\lib\\site-packages (from requests->transformers) (3.3)\n",
      "Requirement already satisfied: urllib3<3,>=1.21.1 in c:\\users\\bruna\\anaconda3\\lib\\site-packages (from requests->transformers) (1.26.11)\n",
      "Requirement already satisfied: certifi>=2017.4.17 in c:\\users\\bruna\\anaconda3\\lib\\site-packages (from requests->transformers) (2022.9.14)\n",
      "Installing collected packages: safetensors, tokenizers, transformers\n",
      "Successfully installed safetensors-0.5.3 tokenizers-0.21.1 transformers-4.51.3\n"
     ]
    }
   ],
   "source": [
    "! pip install transformers"
   ]
  },
  {
   "cell_type": "markdown",
   "metadata": {
    "id": "6JuIqVctvH97",
    "pycharm": {
     "name": "#%% md\n"
    }
   },
   "source": [
    "As usual, we start by importing some essential Python libraries that we will be using."
   ]
  },
  {
   "cell_type": "code",
   "execution_count": 3,
   "metadata": {
    "id": "TF1I55snvH98",
    "pycharm": {
     "name": "#%%\n"
    }
   },
   "outputs": [],
   "source": [
    "import math\n",
    "\n",
    "import numpy as np\n",
    "import matplotlib.pyplot as plt\n",
    "import datasets\n",
    "import transformers\n",
    "import tqdm\n",
    "import torch"
   ]
  },
  {
   "cell_type": "markdown",
   "metadata": {
    "id": "U5geMu9qvH98",
    "pycharm": {
     "name": "#%% md\n"
    }
   },
   "source": [
    "## 1. Load and Preprocess Data\n",
    "\n",
    "For easiness and comparison purposes, we will ue the same dataset as in the previous lab. That will help us re-visit the approach and see whether contextualized architectures can do better in the same problem/task/dataset.\n",
    "\n",
    "As a reminder:\n",
    "\n",
    "*Sentence compression* involves rephrasing sentences to make them shorter while still retaining the original meaning. A reliable compression system would be valuable for mobile devices and could also serve as a component in an extractive summarization system.\n",
    "\n",
    "The dataset we are going to use can be found on [Huggingface](https://huggingface.co/datasets/embedding-data/sentence-compression). It concerns a set of 180,000 pairs of sentences, aka it is a parallel corpus of sentences and their equivalent compressions. It has been collected by harvesting news articles from the Internet where the headline appears to be similar to the first sentence and that property is used to find an \"extractive\" compression of the sentence.\n",
    "\n",
    "For example, for the sentence\n",
    "\n",
    "`\"Regulators Friday shut down a small Florida bank, bringing to 119 the number of US bank failures this year amid mounting loan defaults\"`\n",
    "\n",
    "the compressed equivalent (based on the dataset) is:\n",
    "\n",
    "`\"Regulators shut down small Florida bank\"`.\n",
    "\n",
    "\n",
    "For more information you can read the original paper (from Google) [here](https://aclanthology.org/D13-1155.pdf)."
   ]
  },
  {
   "cell_type": "markdown",
   "metadata": {
    "id": "JSktNuydvH99",
    "pycharm": {
     "name": "#%% md\n"
    }
   },
   "source": [
    "### 1.1 Loading the Dataset\n",
    "\n",
    "The dataset will be loaded as a huggingface datgaset. This may take a few minutes because of the large size of the data.\n",
    "\n",
    "Make sure to inspect the dataset and make sure it is imported properly."
   ]
  },
  {
   "cell_type": "code",
   "execution_count": 65,
   "metadata": {
    "colab": {
     "base_uri": "https://localhost:8080/",
     "height": 347,
     "referenced_widgets": [
      "75f4576077144777996e164b524a5ecb",
      "25a0c4f3892f4c959f45a607370756f8",
      "8353200218bf4e03bc3b49e769df9834",
      "341afcc2621043a884a008e3494c06c1",
      "95a050eeb65c4bc1b0d1c67fbdcaa59e",
      "f4fefdbbe5744046b1a4eae670550fd8",
      "99d04751ee824986a50a0687cd8c52dd",
      "a70f7ae441944cfab836f421b2ddb35a",
      "62d013cd71a645ea8082d92445428d86",
      "7e41b22f614949bba1ca1ca823a74dab",
      "c6909c4356eb461eaad5f3977011c6ff",
      "e97c720f89f1456f8c72068887fb3398",
      "4298a449034d499dafacaa3a0c7dde3a",
      "05bfaf0a12bb473389f23a34025e8128",
      "450ff7b14e634ceca2fb8ae52f7c6e6f",
      "5d30760f48ac4871ae019df8fff3c677",
      "07e3c49c991f44b6bf59f784bd0e210e",
      "f67cd8e718444e0e9ef48769975d1bcb",
      "8168252d96c6465a90b70b02bec0f790",
      "90f33b107b5346e58f62b007a8a1a3a1",
      "ba310452c27f48718c537c963ac20378",
      "1e05430d67ee42d5a23140d0a83a2ee2",
      "b8a1212fff1f43ecb894c7ce5e0893a1",
      "47eddb1057774f1aa5c314648a73a533",
      "42f73c4103364befbb980be457f12fb9",
      "561aa684d82f44da80438b61e59dcbbb",
      "8aebdb9a12fd4f0db78eb24f204e8b5b",
      "208bef52e3464eb0a73416d3e6fee49a",
      "187a62019d954d1c80f661a11c169b90",
      "4581aaac5949435fbb0d1e97bc27aa6b",
      "780602ee65b843d18ecebee432f5d178",
      "8f75cbef96b24262bef3d81d6a49bd6d",
      "222e1f2e32e843bb93f856e6196e52f9"
     ]
    },
    "executionInfo": {
     "elapsed": 5882,
     "status": "ok",
     "timestamp": 1715951756221,
     "user": {
      "displayName": "Jerry Spanakis",
      "userId": "13596299027111238536"
     },
     "user_tz": -60
    },
    "id": "729opcYhvH9-",
    "outputId": "caa25ebf-a2d3-4e8a-ffc7-c6d0736f5267",
    "pycharm": {
     "name": "#%%\n"
    }
   },
   "outputs": [
    {
     "name": "stdout",
     "output_type": "stream",
     "text": [
      "DatasetDict({\n",
      "    train: Dataset({\n",
      "        features: ['set'],\n",
      "        num_rows: 180000\n",
      "    })\n",
      "})\n"
     ]
    }
   ],
   "source": [
    "ds = datasets.load_dataset('embedding-data/sentence-compression')\n",
    "print(ds)"
   ]
  },
  {
   "cell_type": "code",
   "execution_count": 5,
   "metadata": {
    "colab": {
     "base_uri": "https://localhost:8080/"
    },
    "executionInfo": {
     "elapsed": 3,
     "status": "ok",
     "timestamp": 1715951759919,
     "user": {
      "displayName": "Jerry Spanakis",
      "userId": "13596299027111238536"
     },
     "user_tz": -60
    },
    "id": "OW2K2bIlvH9-",
    "outputId": "0e450724-52e1-478c-cb4d-96b23f98a5dc",
    "pycharm": {
     "name": "#%%\n"
    }
   },
   "outputs": [
    {
     "name": "stdout",
     "output_type": "stream",
     "text": [
      "{'set': [\"The USHL completed an expansion draft on Monday as 10 players who were on the rosters of USHL teams during the 2009-10 season were selected by the League's two newest entries, the Muskegon Lumberjacks and Dubuque Fighting Saints.\", 'USHL completes expansion draft']}\n",
      "{'set': ['Major League Baseball Commissioner Bud Selig will be speaking at St. Norbert College next month.', 'Bud Selig to speak at St. Norbert College']}\n",
      "{'set': [\"It's fresh cherry time in Michigan and the best time to enjoy this delicious and nutritious fruit.\", \"It's cherry time\"]}\n",
      "{'set': ['An Evesham man is facing charges in Pennsylvania after he allegedly dragged his girlfriend from the side of his pickup truck on the campus of Kutztown University in the early morning hours of Dec. 5, police said.', 'Evesham man faces charges for Pa.']}\n",
      "{'set': [\"NRT LLC, one of the nation's largest residential real estate brokerage companies, announced several executive appointments within its Coldwell Banker Residential Brokerage operations in Southern California.\", 'NRT announces executive appointments at its Coldwell Banker operations in Southern California']}\n",
      "{'set': ['THE JSE kept toying with an all time high by midday today as resources continued to fuel the bourse.', 'JSE keeps toying with all time high']}\n",
      "{'set': ['The government is defending the latest police crime statistics despite a worrying rise in the recorded amount of violent offending.', 'Government defends crime statistics']}\n",
      "{'set': ['The renovated Marappalam bridge, which had been opened for two-wheelers last week, was opened for other vehicles also on Friday.', 'Marappalam bridge opened']}\n",
      "{'set': ['A new survey shows 30 percent of Californians use Twitter, and more and more of us are using our smart phones to go online.', 'Survey: 30 percent of Californians use Twitter']}\n",
      "{'set': ['Brightpoint ,a provider of logistic services to the mobile industry, has started operations in the Turkish market.', 'Brightpoint starts operations on Turkish market']}\n"
     ]
    }
   ],
   "source": [
    "for i in range(10):\n",
    "    print(ds['train'][i])"
   ]
  },
  {
   "cell_type": "markdown",
   "metadata": {
    "id": "xPb472EOvH9-",
    "pycharm": {
     "name": "#%% md\n"
    }
   },
   "source": [
    "The dataset comes with a `train` split so we will have to split that into `train`/`test` ourselves with the line below."
   ]
  },
  {
   "cell_type": "code",
   "execution_count": 66,
   "metadata": {
    "colab": {
     "base_uri": "https://localhost:8080/"
    },
    "executionInfo": {
     "elapsed": 15,
     "status": "ok",
     "timestamp": 1715951764850,
     "user": {
      "displayName": "Jerry Spanakis",
      "userId": "13596299027111238536"
     },
     "user_tz": -60
    },
    "id": "-jVcxqAlvH9-",
    "outputId": "90e27627-ceb2-48f5-9cff-0d1fde334ea4",
    "pycharm": {
     "name": "#%%\n"
    }
   },
   "outputs": [
    {
     "name": "stdout",
     "output_type": "stream",
     "text": [
      "DatasetDict({\n",
      "    train: Dataset({\n",
      "        features: ['set'],\n",
      "        num_rows: 144000\n",
      "    })\n",
      "    test: Dataset({\n",
      "        features: ['set'],\n",
      "        num_rows: 36000\n",
      "    })\n",
      "})\n"
     ]
    }
   ],
   "source": [
    "split_ds = ds['train'].train_test_split(test_size=0.2)\n",
    "print(split_ds)"
   ]
  },
  {
   "cell_type": "markdown",
   "metadata": {
    "id": "eFcCNQK-vH9_",
    "pycharm": {
     "name": "#%% md\n"
    }
   },
   "source": [
    "Note that previously, we had very much full control over the vocabulary of the dataset (in terms of pre-processing including tokenization). That is because we wanted to build our own embedding model.\n",
    "\n",
    "By using a *pre-trained* model (like we are going to do at this lab), we need to adhere to the way this model was trained (including the tokenization). Huggingface provides the models, along with the relevant tokenizers, therefore cleaning is not necessary (as in previous labs). You can still include it if you think this would improve the results of the retrieval in the later parts of the lab."
   ]
  },
  {
   "cell_type": "markdown",
   "metadata": {
    "id": "zV_I_tNP3yDf",
    "pycharm": {
     "name": "#%% md\n"
    }
   },
   "source": [
    "<a name='e1'></a>\n",
    "### Exercise 1 Unpacking the set\n",
    "(1p) Instead of cleaning, we will unpack the `set` (containing tuples of full and compressed sentences) column into separate `sentence` and `compressed` columns. This will make it a bit easier for us later.\n",
    "\n",
    "One key difference in this function is the fact that it will accept a batch of examples (instead of a single example in the exercises in the previous lab). You can iterate through the examples this way:\n",
    "\n",
    "```\n",
    "for set in examples['set']\n",
    "```\n",
    "\n",
    "The new columns should be lists containing strings (full or compressed sentences) extracted from the `set` column.\n",
    "\n",
    "Fill in the function below to complete this task"
   ]
  },
  {
   "cell_type": "code",
   "execution_count": 67,
   "metadata": {
    "id": "Y-EAcw6rvH-A",
    "pycharm": {
     "name": "#%%\n"
    }
   },
   "outputs": [],
   "source": [
    "def unpack(examples):\n",
    "    \"\"\"\n",
    "    Unpacks the column `set` into two columns `sentence` and `compressed`.\n",
    "    Args:\n",
    "        examples: a batch of examples from the dataset\n",
    "\n",
    "    Returns: modified examples with two new columns: `sentence` and `compressed`\n",
    "\n",
    "    \"\"\"\n",
    "    sentences = []\n",
    "    compressed_sentences = []\n",
    "\n",
    "    ### YOUR CODE HERE\n",
    "\n",
    "    for set in examples['set']:\n",
    "        sentences.append(set[0])\n",
    "        compressed_sentences.append(set[1])  \n",
    "    \n",
    "    ### YOUR CODE ENDS HERE\n",
    "\n",
    "    examples['sentence'] = sentences\n",
    "    examples['compressed'] = compressed_sentences\n",
    "    return examples"
   ]
  },
  {
   "cell_type": "markdown",
   "metadata": {
    "id": "iHWdv9wf3yDg",
    "pycharm": {
     "name": "#%% md\n"
    }
   },
   "source": [
    "In the next cell, we will apply the `unpack` function to the whole dataset. Notice that we also drop the original `set` column."
   ]
  },
  {
   "cell_type": "code",
   "execution_count": 68,
   "metadata": {
    "colab": {
     "base_uri": "https://localhost:8080/",
     "height": 260,
     "referenced_widgets": [
      "2decc3751a0949c886c6fc8b3ea173e2",
      "87345a68e5074f6b9aad5e6b01e1ba44",
      "06d3220f320741b89b0ace2767b7135c",
      "0d628966116c48d486abe305d4c8f33f",
      "77bfa846ca5145aa9c51bf5b024dc749",
      "933abf9e130c490eada85e1432dd3a0a",
      "33b3ad0742eb407e8546ca6b22e6379d",
      "7cdf6a78d178435f8daaea0e7d3e9a45",
      "a18ba5fa563e4889b7973feb676086cf",
      "d0d932b5dccc42a7858e9df2dace2df3",
      "4bb5d569677b40a08ed7e4b0b624b82b",
      "9ed2a90c8a5041949f10ab88e8d97d64",
      "e40b3b8b9612410498345481aa8dc2f7",
      "025224eb1c3b464c93fdd6d69a70ac5d",
      "b4b8c09f2c574dd696d3ef2eb0d041b0",
      "0f50481b895f4c2abc6cfc273db15a7a",
      "de0723c0ff7746f7ac2bbe1c39db8904",
      "48686b62bac541008f53829f665429c9",
      "66cc1ff2aea34278ad912ac4ddb349e1",
      "6fb817f920a045d6a4398e077f42c057",
      "d1c4714d0a7448028421a3a107906d8a",
      "0de01b53583a426fb3fe931dfae14c9f"
     ]
    },
    "executionInfo": {
     "elapsed": 2320,
     "status": "ok",
     "timestamp": 1715951797840,
     "user": {
      "displayName": "Jerry Spanakis",
      "userId": "13596299027111238536"
     },
     "user_tz": -60
    },
    "id": "WE3A4nlhvH-B",
    "outputId": "66946dbd-ff39-4c5f-d57c-160384e339e0",
    "pycharm": {
     "name": "#%%\n"
    }
   },
   "outputs": [
    {
     "data": {
      "application/vnd.jupyter.widget-view+json": {
       "model_id": "3685b7a2d6e04e98bb21f2b9452cade6",
       "version_major": 2,
       "version_minor": 0
      },
      "text/plain": [
       "Map:   0%|          | 0/144000 [00:00<?, ? examples/s]"
      ]
     },
     "metadata": {},
     "output_type": "display_data"
    },
    {
     "data": {
      "application/vnd.jupyter.widget-view+json": {
       "model_id": "b7ecf2e5f610429b90e3a3e8c64338bd",
       "version_major": 2,
       "version_minor": 0
      },
      "text/plain": [
       "Map:   0%|          | 0/36000 [00:00<?, ? examples/s]"
      ]
     },
     "metadata": {},
     "output_type": "display_data"
    },
    {
     "name": "stdout",
     "output_type": "stream",
     "text": [
      "DatasetDict({\n",
      "    train: Dataset({\n",
      "        features: ['sentence', 'compressed'],\n",
      "        num_rows: 144000\n",
      "    })\n",
      "    test: Dataset({\n",
      "        features: ['sentence', 'compressed'],\n",
      "        num_rows: 36000\n",
      "    })\n",
      "})\n"
     ]
    }
   ],
   "source": [
    "split_ds = split_ds.map(unpack, batched=True, remove_columns=['set'])\n",
    "print(split_ds)"
   ]
  },
  {
   "cell_type": "markdown",
   "metadata": {
    "id": "9C4CriktvH-B",
    "pycharm": {
     "name": "#%% md\n"
    }
   },
   "source": [
    "Let's examine some examples from the dataset and make sure that we got the results we wanted."
   ]
  },
  {
   "cell_type": "code",
   "execution_count": 9,
   "metadata": {
    "colab": {
     "base_uri": "https://localhost:8080/"
    },
    "executionInfo": {
     "elapsed": 474,
     "status": "ok",
     "timestamp": 1715951802493,
     "user": {
      "displayName": "Jerry Spanakis",
      "userId": "13596299027111238536"
     },
     "user_tz": -60
    },
    "id": "FB0CcieNvH-B",
    "outputId": "9b64efc2-3e50-4ebb-b96c-0342680fd12b",
    "pycharm": {
     "name": "#%%\n"
    }
   },
   "outputs": [
    {
     "name": "stdout",
     "output_type": "stream",
     "text": [
      "{'sentence': 'Political blogger Andrew Breitbart died today at age 43, according to a report from ABC News.', 'compressed': 'Political blogger Andrew Breitbart dies at age 43'}\n",
      "{'sentence': 'Lt. Gov. John Sanchez, who dropped his own bid for the Republican US Senate nomination in February, today endorsed his former rival Heather Wilson in the race.', 'compressed': 'John Sanchez endorses Heather Wilson'}\n",
      "{'sentence': \"Two man armed with a hammer and a meat cleaver have robbed a supermarket in Sydney's inner west.\", 'compressed': 'Two men rob supermarket'}\n",
      "{'sentence': \"Günter Grass has written an ``anti-Semitic pamphlet,'' argues historian Michael Wolffsohn.\", 'compressed': \"'Grass has written an anti-Semitic pamphlet'\"}\n",
      "{'sentence': 'A new study suggests British people are divided by as many as seven social classes.', 'compressed': \"British people divided by 'seven social classes'\"}\n",
      "{'sentence': 'Australian drinks maker Coca-Cola Amatil Ltd says it expects weaker earnings growth than previously advised for the second half of fiscal 2010 amid challenging trading conditions.', 'compressed': 'Australian drinks maker Coca-Cola Amatil expects weaker growth'}\n",
      "{'sentence': 'As many as 75 Kashmiris from both sides of the Line of Control, crossed sides through the weekly bus service operating between Muzaffarabad and Srinagar, official sources said.', 'compressed': '75 Kashmiris cross sides through bus service'}\n",
      "{'sentence': 'Canadian freelance journalist Amanda Lindhout and her Australian photographer, Neil Brennan, have been freed in Somalia.', 'compressed': 'Amanda Lindhout, photographer, freed in Somalia'}\n",
      "{'sentence': 'Muttahida Qaumi Movement chief Altaf Hussain has said that international powers were conspiring to dismember Pakistan.', 'compressed': 'International powers conspiring to dismember Pakistan:'}\n",
      "{'sentence': 'The judicial pre-trial for a North Kawartha man facing child porn charges following an online undercover operation involving both the OPP and the FBI will continue in September.', 'compressed': 'Pre-trial for man facing child porn charges continues in September'}\n"
     ]
    }
   ],
   "source": [
    "for i in range(10):\n",
    "    print(split_ds['train'][i])"
   ]
  },
  {
   "cell_type": "markdown",
   "metadata": {
    "id": "PBSo6FUe3yDh",
    "pycharm": {
     "name": "#%% md\n"
    }
   },
   "source": [
    "In this lab, we will be using only pre-trained models. That means that we won't be training any new model. This is the reason we can select only the `test` subset for the rest of the notebook (this is where we will be assessing the performance of the pre-trained models). At the same time, we will save much time, as we will not be processing the `train` subset."
   ]
  },
  {
   "cell_type": "code",
   "execution_count": 69,
   "metadata": {
    "colab": {
     "base_uri": "https://localhost:8080/"
    },
    "executionInfo": {
     "elapsed": 489,
     "status": "ok",
     "timestamp": 1715951806897,
     "user": {
      "displayName": "Jerry Spanakis",
      "userId": "13596299027111238536"
     },
     "user_tz": -60
    },
    "id": "2_O8Q3Be3yDh",
    "outputId": "9999a694-8e25-4caa-c61d-efe081f638b0",
    "pycharm": {
     "name": "#%%\n"
    }
   },
   "outputs": [
    {
     "name": "stdout",
     "output_type": "stream",
     "text": [
      "Dataset({\n",
      "    features: ['sentence', 'compressed'],\n",
      "    num_rows: 36000\n",
      "})\n"
     ]
    }
   ],
   "source": [
    "test_ds = split_ds['test']\n",
    "print(test_ds)"
   ]
  },
  {
   "cell_type": "markdown",
   "metadata": {
    "id": "TNWtEeYovH-B",
    "pycharm": {
     "name": "#%% md\n"
    }
   },
   "source": [
    "### 1.2 Loading the Tokenizer\n",
    "\n",
    "For the first part of this lab, we will be using a pre-trained BERT model from Huggingface, namely the [BERT Uncased](https://huggingface.co/google-bert/bert-base-uncased). You can read the original paper that introduced this model [here](https://aclanthology.org/N19-1423.pdf). This paper has been once of the most cited papers ever (currently having more than 100,000 citations).\n",
    "\n",
    "We will specify the model name that can be found on the model's card on huggingface (revisit the first link). Make sure to check what other information Huggingface is offering (e.g. how to use the model, limitations, how to inference, etc.)."
   ]
  },
  {
   "cell_type": "code",
   "execution_count": 70,
   "metadata": {
    "id": "WDOZFXQW3yDh",
    "pycharm": {
     "name": "#%%\n"
    }
   },
   "outputs": [],
   "source": [
    "model_name = 'google-bert/bert-base-uncased'"
   ]
  },
  {
   "cell_type": "markdown",
   "metadata": {
    "id": "4BQvzgnY3yDh",
    "pycharm": {
     "name": "#%% md\n"
    }
   },
   "source": [
    "The models on huggingface come with their own tokenizers. They are loaded separately from the models. We can use [AutoTokenizer](https://huggingface.co/docs/transformers/v4.40.2/en/model_doc/auto#transformers.AutoTokenizer)'s `from_pretrained()` method to load it.\n",
    "\n",
    "Inspect the output: The loaded object is of `BertTokenizerFast` class. Check the documentation [here](https://huggingface.co/docs/transformers/model_doc/bert#transformers.BertTokenizerFast)."
   ]
  },
  {
   "cell_type": "code",
   "execution_count": 71,
   "metadata": {
    "colab": {
     "base_uri": "https://localhost:8080/",
     "height": 183,
     "referenced_widgets": [
      "2dd77b23e5534d788c6486f6504f9569",
      "341eaeafc8a44628bb7eedad73e3b51e",
      "8e7e3aa344184f1b8857cdd920245908",
      "1651484f24ef411688ba44e32b84e0d9",
      "3ac84b9200c94245b7f66b863bea569e",
      "f77d2dcffda347dd8571b3818154a975",
      "f6d9b9541fd14ae697688f3056dafe01",
      "2a01c0fbfe4e460cb9ff5bd73b3c7d21",
      "c1259360ee184b03940e9abc453c52cc",
      "cea9d628ae8447338a078d3dda36fe85",
      "6cbce0d1a41f49e2aacf72f6a49fd22a",
      "3bd366cf9c1b432c95c2e4e174921227",
      "60ce3ca474ed4a22b8f71a0c7e2e1b4a",
      "dd9bd6a7873a4335b904770a0d214c12",
      "9841d72ffa3c48d69580296721f52021",
      "b3d6e16ad3a14c298ff01057b6ec8d0b",
      "9d1d9550792c43128ef0012f72bc56f5",
      "98854897cc5b475aae14ec5247ea4895",
      "739b6243b4e042e0b16551535224af4a",
      "c6ccb3092e444305bb03cce8e55f604e",
      "d1ce7ef3a4e04989b17ba5dfa4635217",
      "f1b9bf9b4ad64969be5699a1f5fe4e6e",
      "77b7812497ca473baf5da5146b0d791a",
      "9309c640dc914aa1877235f968a61c5f",
      "21bba906891443fa80e5d10314a14c03",
      "cd86af88650140d5b94cb8d5ceb93bb0",
      "3cf835df6d4541d5b19472e8dbfdcbe8",
      "55d5444c1b46465d844eeae43ca37f3e",
      "63e7723716f941ca8fe1af8835be8bd6",
      "9a7c83903527453eafe9640acdc36290",
      "1265ae61891b4e4e9c0bb556c8580626",
      "064b773996684706936d612bb141f5a4",
      "d76779cd8900410fb4b9b55410d02a80",
      "674d13bf8cb840ce86bd1104dd15b686",
      "d887489f02364db485ac301fa43ff9bd",
      "fb484a9f9b5f42fe808565e779786b05",
      "f0d4d518b6bc4e52813c8724554a4d39",
      "2eaff81a3892426e96e236c64b54d456",
      "9e7e4ade0b8041d19ca6327d383f5be9",
      "cd64d187a37549a68b517b244756a0ec",
      "928ccb9c058640418ea98386302e5919",
      "5f45ca7343014d67975527f5669d710c",
      "fe0fd401c06449a8ba446aaca8cf2925",
      "da3ce68fe56e4300be685a331f0bc324"
     ]
    },
    "executionInfo": {
     "elapsed": 1648,
     "status": "ok",
     "timestamp": 1715951870564,
     "user": {
      "displayName": "Jerry Spanakis",
      "userId": "13596299027111238536"
     },
     "user_tz": -60
    },
    "id": "65tANDf83yDh",
    "outputId": "407386c3-36d5-4c29-b70e-0b80402b1a31",
    "pycharm": {
     "name": "#%%\n"
    }
   },
   "outputs": [
    {
     "name": "stdout",
     "output_type": "stream",
     "text": [
      "BertTokenizerFast(name_or_path='google-bert/bert-base-uncased', vocab_size=30522, model_max_length=512, is_fast=True, padding_side='right', truncation_side='right', special_tokens={'unk_token': '[UNK]', 'sep_token': '[SEP]', 'pad_token': '[PAD]', 'cls_token': '[CLS]', 'mask_token': '[MASK]'}, clean_up_tokenization_spaces=False, added_tokens_decoder={\n",
      "\t0: AddedToken(\"[PAD]\", rstrip=False, lstrip=False, single_word=False, normalized=False, special=True),\n",
      "\t100: AddedToken(\"[UNK]\", rstrip=False, lstrip=False, single_word=False, normalized=False, special=True),\n",
      "\t101: AddedToken(\"[CLS]\", rstrip=False, lstrip=False, single_word=False, normalized=False, special=True),\n",
      "\t102: AddedToken(\"[SEP]\", rstrip=False, lstrip=False, single_word=False, normalized=False, special=True),\n",
      "\t103: AddedToken(\"[MASK]\", rstrip=False, lstrip=False, single_word=False, normalized=False, special=True),\n",
      "}\n",
      ")\n"
     ]
    }
   ],
   "source": [
    "tokenizer = transformers.AutoTokenizer.from_pretrained(model_name)\n",
    "print(tokenizer)"
   ]
  },
  {
   "cell_type": "markdown",
   "metadata": {
    "id": "wAsysDPF3yDi",
    "pycharm": {
     "name": "#%% md\n"
    }
   },
   "source": [
    "Next, let's see how we can use it to tokenize some text."
   ]
  },
  {
   "cell_type": "code",
   "execution_count": 72,
   "metadata": {
    "colab": {
     "base_uri": "https://localhost:8080/"
    },
    "executionInfo": {
     "elapsed": 3,
     "status": "ok",
     "timestamp": 1715955059838,
     "user": {
      "displayName": "Jerry Spanakis",
      "userId": "13596299027111238536"
     },
     "user_tz": -60
    },
    "id": "rXuyD9zS3yDi",
    "outputId": "6448b419-a190-40fc-819c-6dd76c34664e",
    "pycharm": {
     "name": "#%%\n"
    }
   },
   "outputs": [
    {
     "name": "stdout",
     "output_type": "stream",
     "text": [
      "The Beach Boys have announced that they'll be kicking off their reunion tour this Sunday at the Grammys, complete with big names Foster the People and Maroon 5!\n",
      "---\n",
      "<class 'transformers.tokenization_utils_base.BatchEncoding'>\n",
      "---\n",
      "{'input_ids': tensor([[  101,  1996,  3509,  3337,  2031,  2623,  2008,  2027,  1005,  2222,\n",
      "          2022, 10209,  2125,  2037, 10301,  2778,  2023,  4465,  2012,  1996,\n",
      "          8922,  2015,  1010,  3143,  2007,  2502,  3415,  6469,  1996,  2111,\n",
      "          1998, 22222,  1019,   999,   102]]), 'token_type_ids': tensor([[0, 0, 0, 0, 0, 0, 0, 0, 0, 0, 0, 0, 0, 0, 0, 0, 0, 0, 0, 0, 0, 0, 0, 0,\n",
      "         0, 0, 0, 0, 0, 0, 0, 0, 0, 0, 0]]), 'attention_mask': tensor([[1, 1, 1, 1, 1, 1, 1, 1, 1, 1, 1, 1, 1, 1, 1, 1, 1, 1, 1, 1, 1, 1, 1, 1,\n",
      "         1, 1, 1, 1, 1, 1, 1, 1, 1, 1, 1]])}\n"
     ]
    }
   ],
   "source": [
    "print(test_ds[0]['sentence'])\n",
    "tokenized = tokenizer(test_ds[0]['sentence'], padding=True, return_tensors='pt')\n",
    "print(\"---\")\n",
    "print(type(tokenized))\n",
    "print(\"---\")\n",
    "print(tokenized)"
   ]
  },
  {
   "cell_type": "markdown",
   "metadata": {
    "id": "p_QbX2W93yDi",
    "pycharm": {
     "name": "#%% md\n"
    }
   },
   "source": [
    "Examine the outputs: The tokenizer returned three things:\n",
    "- `input_ids` - this is a PyTorch tensor ([https://pytorch.org/docs/stable/tensors.html](https://pytorch.org/docs/stable/tensors.html)) with the indices of our tokens. PyTorch tensors are similar to numpy arrays. They hold data in a multidimensional array or matrix. The difference is that PyTorch tensors can be placed and modified on the GPU which greatly improves the speed of execution.\n",
    "- `token_type_ids` - this tensor holds the information about the index of the sentence. This has to do with the classification objective from the original paper, where two sentences were given and the model had to predict if they are connected. Because we only included a single sentence, we have only zeros here. We will not be concerned with it in this lab.\n",
    "- `attention_mask` - holds the mask that the model will use to determine if the tokens in the `input_ids` are the real tokens or *padding*. Padding is a technique used to ensure that all input sequences have the same length. BERT (like many other NLP models) process data in batches and requires each sequence in a batch to have the same length, so sequences that are shorter than the maximum sequence length in the batch are padded with special tokens. In this case, because we only inputted a single sentence, the mask contains only ones. Later you will see examples where this is not the case."
   ]
  },
  {
   "cell_type": "markdown",
   "metadata": {
    "id": "56sjQFDF3yDi",
    "pycharm": {
     "name": "#%% md\n"
    }
   },
   "source": [
    "Let's see how exactly the sentence was tokenized and how we can retrieve the original text. Notice that some words have been split into multiple tokens (remember when we discussed sub-word tokenization in class?). Also pay attention to the added special tokens, namely `CLS` and `SEP`:\n",
    "\n",
    "The `[CLS]` token is a special classification token added at the beginning of every input sequence. It stands for \"classification\" (daah!) and is used by BERT to aggregate information from the entire sequence. The final hidden state corresponding to this token (after passing through the transformer layers) is used as the aggregate sequence representation for classification tasks. We will use this later in the lab!\n",
    "\n",
    "The `[SEP]` token is used to separate different segments or sentences within the input sequence. It stands for \"separator\" (daaah again!)."
   ]
  },
  {
   "cell_type": "code",
   "execution_count": 73,
   "metadata": {
    "colab": {
     "base_uri": "https://localhost:8080/"
    },
    "executionInfo": {
     "elapsed": 3,
     "status": "ok",
     "timestamp": 1715955295075,
     "user": {
      "displayName": "Jerry Spanakis",
      "userId": "13596299027111238536"
     },
     "user_tz": -60
    },
    "id": "lJjEcuCz3yDi",
    "outputId": "6aa1841e-4cc6-482d-8ed1-80016f755d20",
    "pycharm": {
     "name": "#%%\n"
    }
   },
   "outputs": [
    {
     "name": "stdout",
     "output_type": "stream",
     "text": [
      "torch.Size([1, 35])\n",
      "---\n",
      "['[CLS]', 'the', 'beach', 'boys', 'have', 'announced', 'that', 'they', \"'\", 'll', 'be', 'kicking', 'off', 'their', 'reunion', 'tour', 'this', 'sunday', 'at', 'the', 'grammy', '##s', ',', 'complete', 'with', 'big', 'names', 'foster', 'the', 'people', 'and', 'maroon', '5', '!', '[SEP]']\n",
      "---\n",
      "35\n",
      "---\n",
      "[CLS] the beach boys have announced that they ' ll be kicking off their reunion tour this sunday at the grammys, complete with big names foster the people and maroon 5! [SEP]\n",
      "---\n",
      "the beach boys have announced that they ' ll be kicking off their reunion tour this sunday at the grammys, complete with big names foster the people and maroon 5!\n"
     ]
    }
   ],
   "source": [
    "print(tokenized['input_ids'].shape)\n",
    "print(\"---\")\n",
    "print(tokenizer.convert_ids_to_tokens(tokenized['input_ids'][0]))\n",
    "print(\"---\")\n",
    "print(len(tokenizer.convert_ids_to_tokens(tokenized['input_ids'][0])))\n",
    "print(\"---\")\n",
    "print(tokenizer.decode(tokenized['input_ids'][0]))\n",
    "print(\"---\")\n",
    "print(tokenizer.decode(tokenized['input_ids'][0], skip_special_tokens=True))"
   ]
  },
  {
   "cell_type": "markdown",
   "metadata": {
    "id": "R1zOEq9I3yDi",
    "pycharm": {
     "name": "#%% md\n"
    }
   },
   "source": [
    "Tokenizer can process a list of sentences. This will create a batched output with tensor's first dimension corresponding to the batch size (the number of sentences we passed to the tokenizer). Examine the following cell and make sure it makes sense to you."
   ]
  },
  {
   "cell_type": "code",
   "execution_count": 74,
   "metadata": {
    "colab": {
     "base_uri": "https://localhost:8080/"
    },
    "executionInfo": {
     "elapsed": 328,
     "status": "ok",
     "timestamp": 1715955497200,
     "user": {
      "displayName": "Jerry Spanakis",
      "userId": "13596299027111238536"
     },
     "user_tz": -60
    },
    "id": "34OeI7Ae3yDi",
    "outputId": "5d79335f-afe0-447a-ee5d-20924d7da21b",
    "pycharm": {
     "name": "#%%\n"
    }
   },
   "outputs": [
    {
     "name": "stdout",
     "output_type": "stream",
     "text": [
      "[\"The Beach Boys have announced that they'll be kicking off their reunion tour this Sunday at the Grammys, complete with big names Foster the People and Maroon 5!\", 'A convenience store lost $2,150 worth of cigarettes to theft Tuesday, according to a Gastonia Police report.', 'A Mountain Creek Academy student was arrested Friday for having pills in his possession, a spokeswoman at the Murray County Jail said Saturday.']\n",
      "{'input_ids': tensor([[  101,  1996,  3509,  3337,  2031,  2623,  2008,  2027,  1005,  2222,\n",
      "          2022, 10209,  2125,  2037, 10301,  2778,  2023,  4465,  2012,  1996,\n",
      "          8922,  2015,  1010,  3143,  2007,  2502,  3415,  6469,  1996,  2111,\n",
      "          1998, 22222,  1019,   999,   102],\n",
      "        [  101,  1037, 15106,  3573,  2439,  1002,  1016,  1010,  5018,  4276,\n",
      "          1997, 15001,  2000, 11933,  9857,  1010,  2429,  2000,  1037, 18572,\n",
      "          2401,  2610,  3189,  1012,   102,     0,     0,     0,     0,     0,\n",
      "             0,     0,     0,     0,     0],\n",
      "        [  101,  1037,  3137,  3636,  2914,  3076,  2001,  4727,  5958,  2005,\n",
      "          2383, 15345,  1999,  2010,  6664,  1010,  1037,  3764, 26760, 20778,\n",
      "          2012,  1996,  6264,  2221,  7173,  2056,  5095,  1012,   102,     0,\n",
      "             0,     0,     0,     0,     0]]), 'token_type_ids': tensor([[0, 0, 0, 0, 0, 0, 0, 0, 0, 0, 0, 0, 0, 0, 0, 0, 0, 0, 0, 0, 0, 0, 0, 0,\n",
      "         0, 0, 0, 0, 0, 0, 0, 0, 0, 0, 0],\n",
      "        [0, 0, 0, 0, 0, 0, 0, 0, 0, 0, 0, 0, 0, 0, 0, 0, 0, 0, 0, 0, 0, 0, 0, 0,\n",
      "         0, 0, 0, 0, 0, 0, 0, 0, 0, 0, 0],\n",
      "        [0, 0, 0, 0, 0, 0, 0, 0, 0, 0, 0, 0, 0, 0, 0, 0, 0, 0, 0, 0, 0, 0, 0, 0,\n",
      "         0, 0, 0, 0, 0, 0, 0, 0, 0, 0, 0]]), 'attention_mask': tensor([[1, 1, 1, 1, 1, 1, 1, 1, 1, 1, 1, 1, 1, 1, 1, 1, 1, 1, 1, 1, 1, 1, 1, 1,\n",
      "         1, 1, 1, 1, 1, 1, 1, 1, 1, 1, 1],\n",
      "        [1, 1, 1, 1, 1, 1, 1, 1, 1, 1, 1, 1, 1, 1, 1, 1, 1, 1, 1, 1, 1, 1, 1, 1,\n",
      "         1, 0, 0, 0, 0, 0, 0, 0, 0, 0, 0],\n",
      "        [1, 1, 1, 1, 1, 1, 1, 1, 1, 1, 1, 1, 1, 1, 1, 1, 1, 1, 1, 1, 1, 1, 1, 1,\n",
      "         1, 1, 1, 1, 1, 0, 0, 0, 0, 0, 0]])}\n",
      "torch.Size([3, 35])\n",
      "['[CLS]', 'the', 'beach', 'boys', 'have', 'announced', 'that', 'they', \"'\", 'll', 'be', 'kicking', 'off', 'their', 'reunion', 'tour', 'this', 'sunday', 'at', 'the', 'grammy', '##s', ',', 'complete', 'with', 'big', 'names', 'foster', 'the', 'people', 'and', 'maroon', '5', '!', '[SEP]']\n",
      "35\n",
      "[CLS] the beach boys have announced that they ' ll be kicking off their reunion tour this sunday at the grammys, complete with big names foster the people and maroon 5! [SEP]\n",
      "the beach boys have announced that they ' ll be kicking off their reunion tour this sunday at the grammys, complete with big names foster the people and maroon 5!\n"
     ]
    }
   ],
   "source": [
    "print(test_ds[0:3]['sentence'])\n",
    "tokenized = tokenizer(test_ds[0:3]['sentence'], padding=True, return_tensors='pt')\n",
    "print(tokenized)\n",
    "print(tokenized['input_ids'].shape)\n",
    "print(tokenizer.convert_ids_to_tokens(tokenized['input_ids'][0]))\n",
    "print(len(tokenizer.convert_ids_to_tokens(tokenized['input_ids'][0])))\n",
    "print(tokenizer.decode(tokenized['input_ids'][0]))\n",
    "print(tokenizer.decode(tokenized['input_ids'][0], skip_special_tokens=True))"
   ]
  },
  {
   "cell_type": "markdown",
   "metadata": {
    "pycharm": {
     "name": "#%% md\n"
    }
   },
   "source": [
    "<a name='e2'></a>\n",
    "### Exercise 2 Questions about the tokenizer\n",
    "\n",
    "Answer the following questions:\n",
    "- (1p) What is the size of the vocabulary?\n",
    "- (2p) What are the special tokens apart from `[CLS]` and `[SEP]`? What are their functions?"
   ]
  },
  {
   "cell_type": "markdown",
   "metadata": {},
   "source": [
    "BertTokenizerFast(name_or_path='google-bert/bert-base-uncased', vocab_size=30522, model_max_length=512, is_fast=True, padding_side='right', truncation_side='right', special_tokens={'unk_token': '[UNK]', 'sep_token': '[SEP]', 'pad_token': '[PAD]', 'cls_token': '[CLS]', 'mask_token': '[MASK]'}, clean_up_tokenization_spaces=False, added_tokens_decoder={\n",
    "\t0: AddedToken(\"[PAD]\", rstrip=False, lstrip=False, single_word=False, normalized=False, special=True),\n",
    "\t100: AddedToken(\"[UNK]\", rstrip=False, lstrip=False, single_word=False, normalized=False, special=True),\n",
    "\t101: AddedToken(\"[CLS]\", rstrip=False, lstrip=False, single_word=False, normalized=False, special=True),\n",
    "\t102: AddedToken(\"[SEP]\", rstrip=False, lstrip=False, single_word=False, normalized=False, special=True),\n",
    "\t103: AddedToken(\"[MASK]\", rstrip=False, lstrip=False, single_word=False, normalized=False, special=True),\n",
    "}\n",
    ")\n",
    "\n",
    "1. Vocab size == 30522\n",
    "2. WE also have [PAD], [UNK] & [MASK] tokens:\n",
    "\tpadding - for matching sequence lengths, \n",
    "\tunkown - for unkown tokens (depends on what tokenization algorithm was used, but can be some character or sequence not seen in the training dataset), \n",
    "\tmask - for the task of sequence missing word classification later on, we mask a token and try gto predict it suing this [MASK] special token"
   ]
  },
  {
   "cell_type": "markdown",
   "metadata": {
    "id": "8jiItmn_3yDj",
    "pycharm": {
     "name": "#%% md\n"
    }
   },
   "source": [
    "### 1.4 Loading the Model\n",
    "\n",
    "In this section, we will load and examine the model. We will start with selecting the device we will place the model on. This will be a GPU (if one is available) or a CPU.\n",
    "\n",
    "Google Colab offers free access to GPU, provided there is availability (also baed on quotas which may vary based on your usage and the overall demand on Colab's resources). If you are working locally, then if you don't have a GPU, CPU will be selected. For the first parts of the assignment running on CPU might be okay but when we have to load the dataset a GPU will be necessary.\n",
    "\n",
    "The following cell will select the device for us."
   ]
  },
  {
   "cell_type": "code",
   "execution_count": 75,
   "metadata": {
    "colab": {
     "base_uri": "https://localhost:8080/"
    },
    "executionInfo": {
     "elapsed": 996,
     "status": "ok",
     "timestamp": 1715951929211,
     "user": {
      "displayName": "Jerry Spanakis",
      "userId": "13596299027111238536"
     },
     "user_tz": -60
    },
    "id": "uTBSdi8l3yDj",
    "outputId": "96efd18a-4b8b-4684-da5f-7b13747fb34c",
    "pycharm": {
     "name": "#%%\n"
    }
   },
   "outputs": [
    {
     "name": "stdout",
     "output_type": "stream",
     "text": [
      "Device: cpu\n"
     ]
    }
   ],
   "source": [
    "device = 'cuda:0' if torch.cuda.is_available() else 'cpu'\n",
    "\n",
    "# FOR MACS\n",
    "# device = 'mps' if torch.backends.mps.is_available() else 'cpu'\n",
    "\n",
    "print(f'Device: {device}')"
   ]
  },
  {
   "cell_type": "markdown",
   "metadata": {
    "id": "bPkKEm1j3yDj",
    "pycharm": {
     "name": "#%% md\n"
    }
   },
   "source": [
    "Now, let's load the model from huggingface and place it (slowly because it's heavy due to the large number of parameters) on the device from the previous cell (the methods `to()`)."
   ]
  },
  {
   "cell_type": "code",
   "execution_count": 76,
   "metadata": {
    "colab": {
     "base_uri": "https://localhost:8080/",
     "height": 855,
     "referenced_widgets": [
      "07340049c519479db86c4f651bf45a4a",
      "fd16849a5e794eb789818fbce62a2df1",
      "86b2a836173c476ebc7e0045b9f604fb",
      "588327a81f444e41b45c473626155e70",
      "3f5bfb339bba46339ca3cf702953f084",
      "9ea80ddaa82a4277a5e8a0936ba6998d",
      "cd2279baa7694a549243bf8a63acc82e",
      "e34869fd88eb4286af775d676a231438",
      "1315a9b8fed548afbc2ea604db980e22",
      "e45db28f5916432cb4f091e5403f6918",
      "099b36cb3bc8493c80fc7ab3ed5adfd5"
     ]
    },
    "executionInfo": {
     "elapsed": 4825,
     "status": "ok",
     "timestamp": 1715951938926,
     "user": {
      "displayName": "Jerry Spanakis",
      "userId": "13596299027111238536"
     },
     "user_tz": -60
    },
    "id": "NGfllaki3yDj",
    "outputId": "e97063b2-07c0-4724-ad51-66901bcdbe3f",
    "pycharm": {
     "name": "#%%\n"
    }
   },
   "outputs": [
    {
     "name": "stdout",
     "output_type": "stream",
     "text": [
      "BertModel(\n",
      "  (embeddings): BertEmbeddings(\n",
      "    (word_embeddings): Embedding(30522, 768, padding_idx=0)\n",
      "    (position_embeddings): Embedding(512, 768)\n",
      "    (token_type_embeddings): Embedding(2, 768)\n",
      "    (LayerNorm): LayerNorm((768,), eps=1e-12, elementwise_affine=True)\n",
      "    (dropout): Dropout(p=0.1, inplace=False)\n",
      "  )\n",
      "  (encoder): BertEncoder(\n",
      "    (layer): ModuleList(\n",
      "      (0-11): 12 x BertLayer(\n",
      "        (attention): BertAttention(\n",
      "          (self): BertSdpaSelfAttention(\n",
      "            (query): Linear(in_features=768, out_features=768, bias=True)\n",
      "            (key): Linear(in_features=768, out_features=768, bias=True)\n",
      "            (value): Linear(in_features=768, out_features=768, bias=True)\n",
      "            (dropout): Dropout(p=0.1, inplace=False)\n",
      "          )\n",
      "          (output): BertSelfOutput(\n",
      "            (dense): Linear(in_features=768, out_features=768, bias=True)\n",
      "            (LayerNorm): LayerNorm((768,), eps=1e-12, elementwise_affine=True)\n",
      "            (dropout): Dropout(p=0.1, inplace=False)\n",
      "          )\n",
      "        )\n",
      "        (intermediate): BertIntermediate(\n",
      "          (dense): Linear(in_features=768, out_features=3072, bias=True)\n",
      "          (intermediate_act_fn): GELUActivation()\n",
      "        )\n",
      "        (output): BertOutput(\n",
      "          (dense): Linear(in_features=3072, out_features=768, bias=True)\n",
      "          (LayerNorm): LayerNorm((768,), eps=1e-12, elementwise_affine=True)\n",
      "          (dropout): Dropout(p=0.1, inplace=False)\n",
      "        )\n",
      "      )\n",
      "    )\n",
      "  )\n",
      "  (pooler): BertPooler(\n",
      "    (dense): Linear(in_features=768, out_features=768, bias=True)\n",
      "    (activation): Tanh()\n",
      "  )\n",
      ")\n"
     ]
    }
   ],
   "source": [
    "model = transformers.AutoModel.from_pretrained(model_name)\n",
    "model.to(device)\n",
    "print(model)"
   ]
  },
  {
   "cell_type": "markdown",
   "metadata": {
    "id": "ARmJq63Y3yDj",
    "pycharm": {
     "name": "#%% md\n"
    }
   },
   "source": [
    "<a name='e3'></a>\n",
    "### Exercise 3 Questions about the Model\n",
    "\n",
    "Examine the output of the previous cells. Answer the following questions:\n",
    "- (1p) What is the number of transformer layers in this model?\n",
    "- (1p) What is the dimension of the embeddings?\n",
    "- (1p) What is the hidden size of the FFN in the transformer layer?\n",
    "- (1p) What is the total number of parameters of the model (hint: check the `num_parameters()` method of the model)?\n",
    "- (1p) How can you find the vocabulary size from the model?"
   ]
  },
  {
   "cell_type": "code",
   "execution_count": 77,
   "metadata": {},
   "outputs": [
    {
     "data": {
      "text/plain": [
       "(109482240, 30522)"
      ]
     },
     "execution_count": 77,
     "metadata": {},
     "output_type": "execute_result"
    }
   ],
   "source": [
    "model.num_parameters(), tokenizer.vocab_size"
   ]
  },
  {
   "cell_type": "markdown",
   "metadata": {},
   "source": [
    "1. 12\n",
    "2. 768\n",
    "3. 3072\n",
    "4. 109482240\n",
    "5. CHECK WORD EMBEDDING DIMENSIONS - 30522 X 768 (30522 IS THE VOCab size) - or use tokenizer.vocab_size"
   ]
  },
  {
   "cell_type": "markdown",
   "metadata": {
    "id": "nADIgEtC3yDj",
    "pycharm": {
     "name": "#%% md\n"
    }
   },
   "source": [
    "Next, let's use BERT model for inference. We will tokenize the first sentence of our dataset and pass it to the model. We set `output_hidden_states` to `True` in order to have access to the hidden states of the model. Those represent the latent representations after embedding and transformer layers."
   ]
  },
  {
   "cell_type": "code",
   "execution_count": 78,
   "metadata": {
    "colab": {
     "base_uri": "https://localhost:8080/"
    },
    "executionInfo": {
     "elapsed": 868,
     "status": "ok",
     "timestamp": 1715951968649,
     "user": {
      "displayName": "Jerry Spanakis",
      "userId": "13596299027111238536"
     },
     "user_tz": -60
    },
    "id": "dekpp7gB3yDk",
    "outputId": "9c179c36-4fee-4fae-f4e1-9ecdb139cc8c",
    "pycharm": {
     "name": "#%%\n"
    }
   },
   "outputs": [
    {
     "name": "stdout",
     "output_type": "stream",
     "text": [
      "{'input_ids': tensor([[  101,  1996,  3509,  3337,  2031,  2623,  2008,  2027,  1005,  2222,\n",
      "          2022, 10209,  2125,  2037, 10301,  2778,  2023,  4465,  2012,  1996,\n",
      "          8922,  2015,  1010,  3143,  2007,  2502,  3415,  6469,  1996,  2111,\n",
      "          1998, 22222,  1019,   999,   102]]), 'token_type_ids': tensor([[0, 0, 0, 0, 0, 0, 0, 0, 0, 0, 0, 0, 0, 0, 0, 0, 0, 0, 0, 0, 0, 0, 0, 0,\n",
      "         0, 0, 0, 0, 0, 0, 0, 0, 0, 0, 0]]), 'attention_mask': tensor([[1, 1, 1, 1, 1, 1, 1, 1, 1, 1, 1, 1, 1, 1, 1, 1, 1, 1, 1, 1, 1, 1, 1, 1,\n",
      "         1, 1, 1, 1, 1, 1, 1, 1, 1, 1, 1]])}\n"
     ]
    },
    {
     "data": {
      "text/plain": [
       "torch.Size([1, 35])"
      ]
     },
     "execution_count": 78,
     "metadata": {},
     "output_type": "execute_result"
    }
   ],
   "source": [
    "tokenized = tokenizer(test_ds[0]['sentence'], padding=True, return_tensors='pt').to(device)\n",
    "print(tokenized)\n",
    "model_output = model(**tokenized, output_hidden_states=True)\n",
    "tokenized['input_ids'].shape"
   ]
  },
  {
   "cell_type": "markdown",
   "metadata": {
    "id": "OvGsCiyQ3yDk",
    "pycharm": {
     "name": "#%% md\n"
    }
   },
   "source": [
    "Examine the next cell and make sure everything makes sense to you. Consult the [documentation](https://huggingface.co/docs/transformers/model_doc/bert#transformers.BertModel.forward) in case of doubt."
   ]
  },
  {
   "cell_type": "code",
   "execution_count": 79,
   "metadata": {
    "colab": {
     "base_uri": "https://localhost:8080/"
    },
    "executionInfo": {
     "elapsed": 359,
     "status": "ok",
     "timestamp": 1715951974801,
     "user": {
      "displayName": "Jerry Spanakis",
      "userId": "13596299027111238536"
     },
     "user_tz": -60
    },
    "id": "a_4pkd7t3yDk",
    "outputId": "d6dc2f56-a280-4026-bdc4-d0bd37b29112",
    "pycharm": {
     "name": "#%%\n"
    }
   },
   "outputs": [
    {
     "name": "stdout",
     "output_type": "stream",
     "text": [
      "['last_hidden_state', 'pooler_output', 'hidden_states']\n",
      "<class 'torch.Tensor'>\n",
      "torch.Size([1, 768])\n",
      "<class 'tuple'>\n",
      "13\n",
      "<class 'torch.Tensor'>\n",
      "torch.Size([1, 35, 768])\n"
     ]
    }
   ],
   "source": [
    "print(list(model_output.keys()))\n",
    "print(type(model_output['pooler_output']))\n",
    "print(model_output['pooler_output'].shape)\n",
    "print(type(model_output['hidden_states']))\n",
    "print(len(model_output['hidden_states']))\n",
    "print(type(model_output['hidden_states'][0]))\n",
    "print(model_output['hidden_states'][0].shape)"
   ]
  },
  {
   "cell_type": "markdown",
   "metadata": {
    "id": "O719dX7J3yDk",
    "pycharm": {
     "name": "#%% md\n"
    }
   },
   "source": [
    "## 2. Exploring BERT hidden states\n",
    "\n",
    "In this section we will look in more detail into the embeddings (latent representations) of BERT model. As a reminder, BERT embeddings a type of contextual word embeddings generated by the BERT model. They capture the meaning of words in the actual context. Notice the contrast with the static word embeddings we worked with in the previous lab: Then, we only needed a large corpus to compute word embeddings. In the case of BERT, we need to pass the actual sequence through the model to get the equivalent vector. More specifically, we tokenize the sentence (based on the relevant model and tokenizer), add the special tokanes (`CLS` and `SEP`, which are added authomatically by the tokenizer) and pass the sentence in the model."
   ]
  },
  {
   "cell_type": "markdown",
   "metadata": {
    "pycharm": {
     "name": "#%% md\n"
    }
   },
   "source": [
    "<a name='e4'></a>\n",
    "### Exercise 4 Plotting the layer-wise similarities between words \n",
    "\n",
    "(2p) We will use the following function to plot the cosine similarity between tokens in different sentences. It takes `hidden_states` and `tokens_of_interest_ids` arguments. The `hidden_states` is a list of Tensors and contains the hidden states of the sentences. The size of the list is equal to the number of layers in the model (+1 for the initial embedding) and each element is a Tensor with the first dimension corresponding to the sentences in the batch and second to the tokens (see the previous code cell). The third dimension is the size of the embedding. The `tokens_of_interest_ids` is a list of integers of the size equal to the number of sentences. The integers are indices that identify tokens we want to compare with each other.\n",
    "\n",
    "Fill in the function by first extracting the embeddings of the token-of-interest in a `layer` for two sentences `sent1` and `sent2`. Next, calculate the cosine similarity between the embeddings. You can use an existing PyTorch implementation of cosine similarity."
   ]
  },
  {
   "cell_type": "code",
   "execution_count": 80,
   "metadata": {
    "id": "JlyZYhJm3yDk",
    "pycharm": {
     "name": "#%%\n"
    }
   },
   "outputs": [],
   "source": [
    "from typing import List\n",
    "from itertools import combinations\n",
    "\n",
    "def plot_evolving_similarities(hidden_states: List[torch.Tensor], tokens_of_interest_ids: List[int]):\n",
    "    \"\"\"\n",
    "    Plots the evolving cosine similarity between the hidden representation of tokens in different sentences.\n",
    "    Hidden states are provided as a list of tensors where each tensor corresponds to the layer of the model.\n",
    "    Each tensor contains the hidden representations of each token (second dimension) of each sentence (first dimension).\n",
    "    For each sentence there have to be a token of interest (can be the same).\n",
    "    Args:\n",
    "        hidden_states: a list of tensors containing the hidden representations of sentences\n",
    "        tokens_of_interest_ids: a list of indices of tokens of interest\n",
    "    \"\"\"\n",
    "    assert hidden_states[0].shape[0] == len(tokens_of_interest_ids), \\\n",
    "        'The batch size of hidden_states must be equal to the number of tokens of interest'\n",
    "\n",
    "    num_layers = len(hidden_states)\n",
    "    num_sentences = len(tokens_of_interest_ids)\n",
    "    # Creates a list of all possible combinations of sentences\n",
    "    sentence_combinations = list(combinations(range(num_sentences), 2))\n",
    "    similarities = [[] for _ in range(len(sentence_combinations))]\n",
    "    for layer in range(num_layers):\n",
    "        for i, (sent1, sent2) in enumerate(sentence_combinations):\n",
    "\n",
    "            ### YOUR CODE HERE\n",
    "            # 1. Extract embeddings for the tokens of interest in the current layer for sent1 and sent2\n",
    "            # 2. Compute the cosine similarity between the two embeddings\n",
    "\n",
    "            sent1_embedding = hidden_states[layer][sent1][tokens_of_interest_ids[sent1]]\n",
    "            sent2_embedding = hidden_states[layer][sent2][tokens_of_interest_ids[sent2]]\n",
    "            \n",
    "            cosine_similarity = torch.nn.functional.cosine_similarity(sent1_embedding, sent2_embedding, dim=0)\n",
    "            # print(f'Cosine similarity between {sent1 + 1} and {sent2 + 1} in layer {layer}: {cosine_similarity.item()}')\n",
    "\n",
    "            ### YOUR CODE ENDS HERE\n",
    "            \n",
    "            similarities[i].append(cosine_similarity.item())\n",
    "\n",
    "    for i, (sent1, sent2) in enumerate(sentence_combinations):\n",
    "        plt.plot(range(num_layers), similarities[i],\n",
    "            label=f'between {sent1 + 1} and {sent2 + 1}')\n",
    "    plt.xlabel('layer')\n",
    "    plt.ylabel('cosine similarity')\n",
    "    plt.legend()\n",
    "    plt.show()"
   ]
  },
  {
   "cell_type": "markdown",
   "metadata": {
    "id": "E3yOESy83yDk",
    "pycharm": {
     "name": "#%% md\n"
    }
   },
   "source": [
    "Here are three sentences with the word \"bank\". The word form is the same for all, however the meaning is different in the second sentence. Remember polysemy?\n",
    "\n",
    "We can plot how the cosine similarity between the embeddings (and latent representations) of the word \"bank\" in each sentence evolves through the different layers of BERT.\n",
    "\n",
    "The following code follows the procedure we described above."
   ]
  },
  {
   "cell_type": "code",
   "execution_count": 81,
   "metadata": {
    "colab": {
     "base_uri": "https://localhost:8080/",
     "height": 735
    },
    "executionInfo": {
     "elapsed": 1007,
     "status": "ok",
     "timestamp": 1715951991514,
     "user": {
      "displayName": "Jerry Spanakis",
      "userId": "13596299027111238536"
     },
     "user_tz": -60
    },
    "id": "j7cK7CsU3yDk",
    "outputId": "45f9440e-85b2-461f-a357-b9fb4956387e",
    "pycharm": {
     "name": "#%%\n"
    }
   },
   "outputs": [
    {
     "name": "stdout",
     "output_type": "stream",
     "text": [
      "{'input_ids': tensor([[  101,  2057,  2097,  6487,  1037,  2924,  2279,  2733,   999,   102,\n",
      "             0,     0,     0],\n",
      "        [  101,  1996,  2336, 16791,  6386,  2011,  1996,  2924,  1997,  1996,\n",
      "          2314,  1012,   102],\n",
      "        [  101,  1045,  2404,  2769,  1999,  1996,  2924,  1012,   102,     0,\n",
      "             0,     0,     0]]), 'token_type_ids': tensor([[0, 0, 0, 0, 0, 0, 0, 0, 0, 0, 0, 0, 0],\n",
      "        [0, 0, 0, 0, 0, 0, 0, 0, 0, 0, 0, 0, 0],\n",
      "        [0, 0, 0, 0, 0, 0, 0, 0, 0, 0, 0, 0, 0]]), 'attention_mask': tensor([[1, 1, 1, 1, 1, 1, 1, 1, 1, 1, 0, 0, 0],\n",
      "        [1, 1, 1, 1, 1, 1, 1, 1, 1, 1, 1, 1, 1],\n",
      "        [1, 1, 1, 1, 1, 1, 1, 1, 1, 0, 0, 0, 0]])}\n",
      "['[CLS]', 'we', 'will', 'rob', 'a', 'bank', 'next', 'week', '!', '[SEP]', '[PAD]', '[PAD]', '[PAD]']\n",
      "['[CLS]', 'the', 'children', 'skipped', 'stones', 'by', 'the', 'bank', 'of', 'the', 'river', '.', '[SEP]']\n",
      "['[CLS]', 'i', 'put', 'money', 'in', 'the', 'bank', '.', '[SEP]', '[PAD]', '[PAD]', '[PAD]', '[PAD]']\n",
      "bank\n",
      "bank\n",
      "bank\n"
     ]
    },
    {
     "data": {
      "image/png": "[encoded data removed]",
      "text/plain": [
       "<Figure size 640x480 with 1 Axes>"
      ]
     },
     "metadata": {},
     "output_type": "display_data"
    }
   ],
   "source": [
    "text1 = \"We will rob a bank next week!\"\n",
    "text2 = \"The children skipped stones by the bank of the river.\"\n",
    "text3 = \"I put money in the bank.\"\n",
    "tokenized = tokenizer([text1, text2, text3], padding=True, return_tensors='pt').to(device)\n",
    "print(tokenized)\n",
    "\n",
    "tokens1 = tokenizer.convert_ids_to_tokens(tokenized['input_ids'][0])\n",
    "tokens2 = tokenizer.convert_ids_to_tokens(tokenized['input_ids'][1])\n",
    "tokens3 = tokenizer.convert_ids_to_tokens(tokenized['input_ids'][2])\n",
    "print(tokens1)\n",
    "print(tokens2)\n",
    "print(tokens3)\n",
    "\n",
    "tokens_ids_of_interest = [5, 7, 6]\n",
    "print(tokens1[tokens_ids_of_interest[0]])\n",
    "print(tokens2[tokens_ids_of_interest[1]])\n",
    "print(tokens3[tokens_ids_of_interest[2]])\n",
    "\n",
    "model_outputs = model(**tokenized, output_hidden_states=True)\n",
    "plot_evolving_similarities(model_outputs['hidden_states'], tokens_ids_of_interest)"
   ]
  },
  {
   "cell_type": "markdown",
   "metadata": {
    "id": "pVqeYIjh3yDl",
    "pycharm": {
     "name": "#%% md\n"
    }
   },
   "source": [
    "<a name='e5'></a>\n",
    "### Exercise 5 Evolution of embeddings\n",
    "\n",
    "- (3p) Discuss the plots above. Are the plots showing what you expected to see?\n",
    "- (1p) Take a look at the similarity between the word \"bank\" in the first example for the first layer (layer index 0)? This corresponds to the embedding layer of BERT. It is close to `1` but not exactly. Why is that?\n",
    "- (3p) Plot and analyze the similarities between words \"nice\", \"bad\", and \"lovely\" in the sentences \"The weather is nice today.\", \"The weather is bad today.\", and \"The weather is lovely today.\". Comment on the results. Are the plots showing what you expected to see? \n",
    "- (3p) Try a different set of sentences and comment on the results."
   ]
  },
  {
   "cell_type": "markdown",
   "metadata": {},
   "source": [
    "1. As expected the word bank in each senetence starts off with a very strong similarity - after all its the same word. Over time we can observe how the embedding of bank in the context of sentence 2 deviates from the other 2 sentences rapidally. This is because BERT realizes that despite being the same word, the meaning and contextual use is very different. All this happens while the senetences 1 and 3 dont loose as much interconnected meaning, this is because the word bank in both cases is used as financial institution, They too however deviate from each other over time, which might be duo to how one is used in the context of crime and the other in the context as actually using bank as its meant to be, maybe the bank in the 3rd senetence is more of an abstract term for a instituioton where ur money is, while senetnce one is very much the physical building you can rob.\n",
    "\n",
    "2. The slight initial difference might arise from possitional embedding, which differs between each sentence as the word bank appears at different indecies.\n",
    "\n",
    "3. As expected the similarity between nice and lovelly start somewhat similar at ~0.4, and the grows as the model realizes its they are synonyms. A bit more unexpectedly though, the similarity between nice-bad and lovelly-bad, also increases, admitadelly from a worse initial condition but still grows over time to significant amount. This may be due to the fact that despite having an oposite meaning, literlly conveying the oposite emotions and facts, they are nonetheless related, in a way that they are offen used in similar context. Being an antonym they are after all similar to each other in all but some features and hence, the model also begins to capture that over time.\n",
    "\n",
    "4. Bell example further shows the importance of possition on initial similarity between words clearly playing a role. The 2 cases with same index, match perfectly while the other 2 combinations start weaker. AS expecetd both similarities with bell peper fade off relativelly quickly, since its the only bell that doesnt make the ding dong sound. I am also proud of my homie BERT for realizing that my favourite fast food chain is not related to church as much as it initally had thought. However, the final climb in similarity, after hitting an all time low in leyer 9, makes me wonder if there is some underlying shady business going on between the 2 great institions, which is quite simply not humanly understandable, but I guess BERT is 2o dumb to uncover such a conspiracy theory. I shall go ahead and ask chatGPT now, BRB dingdong\n"
   ]
  },
  {
   "cell_type": "code",
   "execution_count": 82,
   "metadata": {},
   "outputs": [
    {
     "name": "stdout",
     "output_type": "stream",
     "text": [
      "bell\n",
      "bell\n",
      "bell\n"
     ]
    },
    {
     "data": {
      "image/png": "[encoded data removed]",
      "text/plain": [
       "<Figure size 640x480 with 1 Axes>"
      ]
     },
     "metadata": {},
     "output_type": "display_data"
    }
   ],
   "source": [
    "text1 = \"Taco Bell ding dong.\"\n",
    "text2 = \"The Church bell wakes me up every fucking morning.\"\n",
    "text3 = \"bell peper is my favorite veggie.\"\n",
    "tokenized = tokenizer([text1, text2, text3], padding=True, return_tensors='pt').to(device)\n",
    "tokens1 = tokenizer.convert_ids_to_tokens(tokenized['input_ids'][0])\n",
    "tokens2 = tokenizer.convert_ids_to_tokens(tokenized['input_ids'][1])\n",
    "tokens3 = tokenizer.convert_ids_to_tokens(tokenized['input_ids'][2])\n",
    "tokens_ids_of_interest = [3, 3, 1]\n",
    "print(tokens1[tokens_ids_of_interest[0]])\n",
    "print(tokens2[tokens_ids_of_interest[1]])\n",
    "print(tokens3[tokens_ids_of_interest[2]])\n",
    "model_outputs = model(**tokenized, output_hidden_states=True)\n",
    "plot_evolving_similarities(model_outputs['hidden_states'], tokens_ids_of_interest)"
   ]
  },
  {
   "cell_type": "code",
   "execution_count": 83,
   "metadata": {
    "id": "f7ce-eZa3yDl",
    "pycharm": {
     "name": "#%%\n"
    }
   },
   "outputs": [
    {
     "data": {
      "image/png": "[encoded data removed]",
      "text/plain": [
       "<Figure size 640x480 with 1 Axes>"
      ]
     },
     "metadata": {},
     "output_type": "display_data"
    }
   ],
   "source": [
    "### YOUR CODE HERE\n",
    "\n",
    "text1 = \"The weather is nice today.\"\n",
    "text2 = \"The weather is bad today.\"\n",
    "text3 = \"The weather is lovely today.\"\n",
    "tokenized = tokenizer([text1, text2, text3], padding=True, return_tensors='pt').to(device)\n",
    "tokens1 = tokenizer.convert_ids_to_tokens(tokenized['input_ids'][0])\n",
    "tokens2 = tokenizer.convert_ids_to_tokens(tokenized['input_ids'][1])\n",
    "tokens3 = tokenizer.convert_ids_to_tokens(tokenized['input_ids'][2])\n",
    "tokens_ids_of_interest = [4, 4, 4]\n",
    "model_outputs = model(**tokenized, output_hidden_states=True)\n",
    "plot_evolving_similarities(model_outputs['hidden_states'], tokens_ids_of_interest)\n",
    "\n",
    "### YOUR CODE ENDS HERE\n",
    "### NOTICE: you can always add more cells if you need them"
   ]
  },
  {
   "cell_type": "markdown",
   "metadata": {
    "id": "pagU_9Be3yDl",
    "pycharm": {
     "name": "#%% md\n"
    }
   },
   "source": [
    "## 3. Calculating BERT sentence embeddings\n",
    "\n",
    "It is finally time to use BERT's hidden states as word embeddings. First, you will write a function to aggregate the BERT's hidden representations of the words in a sentence."
   ]
  },
  {
   "cell_type": "markdown",
   "metadata": {
    "id": "0wcPXukf3yDl",
    "pycharm": {
     "name": "#%% md\n"
    }
   },
   "source": [
    "<a name='e6'></a>\n",
    "### Exercise 6 Implement sentence embeddings\n",
    "\n",
    "(5p) Implement the following function. It will receive the batched input to the model and its output. Calculate the mean embedding of the tokens in each sentence. In particular, get `attention_mask` from the `input_batch` and `hidden_states` from `model_output` (already done for you), and calculate the mean of the hidden states. Remember that you are working with a batch, so both `attention_mask` and `hidden_states` contain multiple sentences (the first dimension of both tensors correspond to the size of the batch). In the end, you should have a tensor with a shape batch_size x embedding_size.\n",
    "\n",
    "Pay attention to the padded tokens (indicated by the attention mask from the input).\n",
    "\n",
    "Additionally, the function will receive the `layer` parameter. It will indicate the index of the layer of which the hidden representations of tokens will be aggregated. The default value of `-1` indicates the last layer. The code already selects the hidden states of the specified layer.\n",
    "\n",
    "Optionally, you can ignore the special tokens `[CLS]` and `[SEP]`."
   ]
  },
  {
   "cell_type": "code",
   "execution_count": 84,
   "metadata": {
    "id": "NlmplNmg3yDl",
    "pycharm": {
     "name": "#%%\n"
    }
   },
   "outputs": [],
   "source": [
    "def calculate_sentence_embeddings(input_batch, model_output, layer=-1):\n",
    "    \"\"\"\n",
    "    Calculates the sentence embeddings of a batch of sentences as a mean of token representations.\n",
    "    The representations are taken from the layer of the index provided as a `layer` parameter.\n",
    "    Args:\n",
    "        input_batch: tokenized batch of sentences (as returned by the tokenizer), contains `input_ids`, `token_type_ids`, and `attention_mask` tensors\n",
    "        model_output: the output of the model given the `input_batch`, contains `last_hidden_state`, `pooler_output`, `hidden_states` tensors\n",
    "        layer: specifies the layer of the hidden states that are used to calculate sentence embedding\n",
    "\n",
    "    Returns: tensor of the averaged hidden states (from the specified layer) for each example in the batch\n",
    "\n",
    "    \"\"\"\n",
    "    attention_mask = input_batch['attention_mask']\n",
    "    hidden_states = model_output['hidden_states'][layer]\n",
    "\n",
    "    ### YOUR CODE HERE\n",
    "\n",
    "    # average out the token representations in the last layer for each sentence, efficiently \n",
    "    # The attention mask is used to ignore the padding tokens in the input batch\n",
    "    sentence_embeddings = torch.sum(hidden_states * attention_mask.unsqueeze(-1), dim=1) / torch.sum(attention_mask, dim=1).unsqueeze(-1)\n",
    "    \n",
    "    ### YOUR CODE ENDS HERE\n",
    "\n",
    "\n",
    "    return sentence_embeddings"
   ]
  },
  {
   "cell_type": "markdown",
   "metadata": {
    "pycharm": {
     "name": "#%% md\n"
    }
   },
   "source": [
    "Let us try out the function."
   ]
  },
  {
   "cell_type": "code",
   "execution_count": 85,
   "metadata": {
    "pycharm": {
     "name": "#%%\n"
    }
   },
   "outputs": [
    {
     "name": "stdout",
     "output_type": "stream",
     "text": [
      "{'input_ids': tensor([[ 101, 1996, 4633, 2003, 3835, 2651, 1012,  102]]), 'token_type_ids': tensor([[0, 0, 0, 0, 0, 0, 0, 0]]), 'attention_mask': tensor([[1, 1, 1, 1, 1, 1, 1, 1]])}\n",
      "torch.Size([1, 8, 768])\n",
      "torch.Size([1, 768])\n"
     ]
    }
   ],
   "source": [
    "text = \"The weather is nice today.\"\n",
    "tokenized = tokenizer(text, padding=True, return_tensors='pt').to(device)\n",
    "print(tokenized)\n",
    "model_output = model(**tokenized, output_hidden_states=True)\n",
    "print(model_output['last_hidden_state'].shape)\n",
    "sentence_embedding = calculate_sentence_embeddings(tokenized, model_output)\n",
    "print(sentence_embedding.shape)"
   ]
  },
  {
   "cell_type": "markdown",
   "metadata": {
    "id": "-CXrzQsP3yDl",
    "pycharm": {
     "name": "#%% md\n"
    }
   },
   "source": [
    "The following function will plot the evolution of cosine similarities between sentence embeddings based on representations of different layers of the model.\n",
    "\n",
    "Notice that it will receive a function that is used to calculate the sentence embeddings (that is the function we implemented above)."
   ]
  },
  {
   "cell_type": "code",
   "execution_count": 86,
   "metadata": {
    "id": "30D-6Nwe3yDm",
    "pycharm": {
     "name": "#%%\n"
    }
   },
   "outputs": [],
   "source": [
    "def plot_evolving_sentence_similarities(input_batch, model_outputs, sentence_embeddings_fn):\n",
    "    num_layers = len(model_outputs['hidden_states'])\n",
    "    num_sentences = input_batch['input_ids'].shape[0]\n",
    "    sentence_combinations = tuple(combinations(range(num_sentences), 2))\n",
    "    similarities = [[] for _ in range(len(sentence_combinations))]\n",
    "\n",
    "    for layer in range(num_layers):\n",
    "        sentence_embeddings = sentence_embeddings_fn(input_batch, model_outputs, layer)\n",
    "        for i, (sent1, sent2) in enumerate(sentence_combinations):\n",
    "            embedding1 = sentence_embeddings[sent1]\n",
    "            embedding2 = sentence_embeddings[sent2]\n",
    "            cosine_similarity = torch.nn.functional.cosine_similarity(embedding1, embedding2, dim=0)\n",
    "            similarities[i].append(cosine_similarity.detach().cpu().numpy())\n",
    "\n",
    "    for i, (sent1, sent2) in enumerate(sentence_combinations):\n",
    "        plt.plot(range(num_layers), similarities[i], label=f'between {sent1 + 1} and {sent2 + 1}')\n",
    "\n",
    "    plt.xlabel('layer')\n",
    "    plt.ylabel('cosine similarity')\n",
    "    plt.legend()\n",
    "    plt.show()\n"
   ]
  },
  {
   "cell_type": "markdown",
   "metadata": {
    "id": "OSmJksev3yDm",
    "pycharm": {
     "name": "#%% md\n"
    }
   },
   "source": [
    "Let's examine the cosine similarities of the sentences with the word \"bank\" from earlier."
   ]
  },
  {
   "cell_type": "code",
   "execution_count": 87,
   "metadata": {
    "colab": {
     "base_uri": "https://localhost:8080/",
     "height": 449
    },
    "executionInfo": {
     "elapsed": 558,
     "status": "ok",
     "timestamp": 1715957477252,
     "user": {
      "displayName": "Jerry Spanakis",
      "userId": "13596299027111238536"
     },
     "user_tz": -60
    },
    "id": "UmFdthvq3yDm",
    "outputId": "1e8c50b9-4587-4621-8405-d633fb48a664",
    "pycharm": {
     "name": "#%%\n"
    }
   },
   "outputs": [
    {
     "data": {
      "image/png": "[encoded data removed]",
      "text/plain": [
       "<Figure size 640x480 with 1 Axes>"
      ]
     },
     "metadata": {},
     "output_type": "display_data"
    }
   ],
   "source": [
    "text1 = \"We will rob a bank next week!\"\n",
    "text2 = \"Let's put our savings into a bank account.\"\n",
    "text3 = \"We will steal some money from the bank.\"\n",
    "\n",
    "tokenized = tokenizer([text1, text2, text3], padding=True, return_tensors='pt').to(device)\n",
    "\n",
    "model_outputs = model(**tokenized, output_hidden_states=True)\n",
    "plot_evolving_sentence_similarities(tokenized, model_outputs, calculate_sentence_embeddings)"
   ]
  },
  {
   "cell_type": "markdown",
   "metadata": {
    "id": "38n3Q-uy3yDm",
    "pycharm": {
     "name": "#%% md\n"
    }
   },
   "source": [
    "<a name='e7'></a>\n",
    "### Exercise 7 Try different sentences\n",
    "\n",
    "(10p) Try out your sentence embeddings on at least two different sets of sentences. Inspect the results in terms of the different layers. Comment on the results. Are they expected?"
   ]
  },
  {
   "cell_type": "code",
   "execution_count": 88,
   "metadata": {
    "id": "3JC6xH8M3yDm",
    "pycharm": {
     "name": "#%%\n"
    }
   },
   "outputs": [
    {
     "data": {
      "image/png": "[encoded data removed]",
      "text/plain": [
       "<Figure size 640x480 with 1 Axes>"
      ]
     },
     "metadata": {},
     "output_type": "display_data"
    },
    {
     "data": {
      "text/plain": [
       "\"\\nGiven a strikingly similar sentence pairs, the similarity between the sentence embeddings should be high.\\nWhat is interesting tough is how they start to deviate from each other slightly over time. \\nInitially they all grow proportionally together. But at some point the model seems to 'grasp the underlying meaning' \\nof the sentences and starts to diverge. While the possitive senetences are still close to each other, the oposit ones take a dive.\\nIt make me wonder if its due to the initially local nature of the model, and how it learns to 'see' the bigger picture over time or\\nsome other phenomena at play. \\n\""
      ]
     },
     "execution_count": 88,
     "metadata": {},
     "output_type": "execute_result"
    }
   ],
   "source": [
    "### YOUR CODE HERE\n",
    "text1 = \"The weather is nice today.\"\n",
    "text2 = \"The weather is bad today.\"\n",
    "text3 = \"The weather is lovely today.\"\n",
    "tokenized = tokenizer([text1, text2, text3], padding=True, return_tensors='pt').to(device)\n",
    "model_outputs = model(**tokenized, output_hidden_states=True)\n",
    "plot_evolving_sentence_similarities(tokenized, model_outputs, calculate_sentence_embeddings)\n",
    "\n",
    "\"\"\"\n",
    "Given a strikingly similar sentence pairs, the similarity between the sentence embeddings should be high.\n",
    "What is interesting tough is how they start to deviate from each other slightly over time. \n",
    "Initially they all grow proportionally together. But at some point the model seems to 'grasp the underlying meaning' \n",
    "of the sentences and starts to diverge. While the possitive senetences are still close to each other, the oposit ones take a dive.\n",
    "It make me wonder if its due to the initially local nature of the model, and how it learns to 'see' the bigger picture over time or\n",
    "some other phenomena at play. \n",
    "\"\"\"\n",
    "### YOUR CODE ENDS HERE"
   ]
  },
  {
   "cell_type": "code",
   "execution_count": 89,
   "metadata": {},
   "outputs": [
    {
     "data": {
      "image/png": "[encoded data removed]",
      "text/plain": [
       "<Figure size 640x480 with 1 Axes>"
      ]
     },
     "metadata": {},
     "output_type": "display_data"
    },
    {
     "data": {
      "text/plain": [
       "\"\\n    I asked chatGPT for pure jiberish unrelated words and these are what I got...\\n    Honestly i have no clue why is the correlation so high between the sentences. Literlly no idea... I will try my best though :D\\n    On one hand I understand they have the CLS and SEP tokens in common, \\n    but on the other hand, the rest of the tokens are completely different, both the meaning (what meaniing????) and the words used.\\n    I guess the model is still able to 'see' the bigger picture and understand that they are all just random words,\\n    And maybe this complete lack of anything in common and lack of any meaning is what makes them similar.\\n    One structural similarity I can see though is that they all describe something that happened in past tense, \\n    and have similar sentence structure.\\n    \\n    Its Nonetheless interesting to observe a~075 simmilarity score only based on similar structre of the senetence and common lack of meaning.\\n\""
      ]
     },
     "execution_count": 89,
     "metadata": {},
     "output_type": "execute_result"
    }
   ],
   "source": [
    "text1 = \"Pineapples attended a jazz funeral for obsolete calculators.\"\n",
    "text2 = \"Cabbages invented hip-hop to protest gravity.\"\n",
    "text3 = \"My shadow started knitting sweaters for invisible hamsters.\"\n",
    "\n",
    "tokenized = tokenizer([text1, text2, text3], padding=True, return_tensors='pt').to(device)\n",
    "model_outputs = model(**tokenized, output_hidden_states=True)\n",
    "plot_evolving_sentence_similarities(tokenized, model_outputs, calculate_sentence_embeddings)\n",
    "\n",
    "\"\"\"\n",
    "    I asked chatGPT for pure jiberish unrelated words and these are what I got...\n",
    "    Honestly i have no clue why is the correlation so high between the sentences. Literlly no idea... I will try my best though :D\n",
    "    On one hand I understand they have the CLS and SEP tokens in common, \n",
    "    but on the other hand, the rest of the tokens are completely different, both the meaning (what meaniing????) and the words used.\n",
    "    I guess the model is still able to 'see' the bigger picture and understand that they are all just random words,\n",
    "    And maybe this complete lack of anything in common and lack of any meaning is what makes them similar.\n",
    "    One structural similarity I can see though is that they all describe something that happened in past tense, \n",
    "    and have similar sentence structure.\n",
    "    \n",
    "    Its Nonetheless interesting to observe a~075 simmilarity score only based on similar structre of the senetence and common lack of meaning.\n",
    "\"\"\""
   ]
  },
  {
   "cell_type": "markdown",
   "metadata": {
    "id": "RdmbugS33yDm",
    "pycharm": {
     "name": "#%% md\n"
    }
   },
   "source": [
    "### 3.1 Applying BERT sentence embeddings\n",
    "\n",
    "Next, we will be calculating the word embeddings on our dataset. This is the moment where having GPU will greatly speed up the computations but fast CPU should do just fine (you might have to wait couple of minutes for embedding the whole dataset).\n",
    "\n",
    "As mentioned before, we can use Google Colab [https://colab.google/](https://colab.google/) for this purpose. It gives you access to a GPU for a limited time (after you used this time you will have to wait for some time to use it again). To use a GPU you need to select the runtime type. Go to \"Runtime -> Change runtime type\". There you can select a CPU or a GPU.\n",
    "\n",
    "<img src=\"data:image/png;base64,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\" alt=\"Alt text that describes the graphic\" width=\"400px\"/>"
   ]
  },
  {
   "cell_type": "markdown",
   "metadata": {
    "id": "PeRJlG3S3yDm",
    "pycharm": {
     "name": "#%% md\n"
    }
   },
   "source": [
    "It might be a good idea to first work on a CPU with a slice of the dataset until your code works without problems. Then you can switch to a GPU runtime and work on the whole dataset. Notice that you will have to run all the cells again as the change of the runtime will effectively start a fresh session.\n",
    "\n",
    "⚠️ **Disclaimer**: Google Colab provides free access to GPUs, but this comes with limitations. Sessions are time-limited (typically ~12 hours), resources are shared (you might not always get access to a GPU) and idle notebooks can be disconnected. If you're using Colab Pro or Pro+, the limits are more relaxed but still not unlimited. Be mindful of these constraints when planning long-running experiments or training large models. Since you're working in a group, you should be able to access up to 3 accounts — keep this in mind as you plan your work.\n",
    "\n",
    "If you have a GPU locally, you don't need to do that, and you can work on the whole dataset from the get go.\n",
    "\n",
    "To select a portion of the dataset uncomment the following cell. Make sure to comment it again when you are ready to run the notebook on the notebook on the GPU."
   ]
  },
  {
   "cell_type": "code",
   "execution_count": null,
   "metadata": {
    "id": "p_C606o93yDm",
    "pycharm": {
     "name": "#%%\n"
    }
   },
   "outputs": [],
   "source": [
    "#test_ds = test_ds.select(range(5000))"
   ]
  },
  {
   "cell_type": "markdown",
   "metadata": {
    "id": "8ATeXVnp3yDm",
    "pycharm": {
     "name": "#%% md\n"
    }
   },
   "source": [
    "<a name='e8'></a>\n",
    "### Exercise 8 Tokenize sentence and compressed\n",
    "(2p) We will first tokenize the dataset. Write two functions that will tokenize the two columns - `sentence` and `compressed` - separately. Do not use padding when tokenizing, as we will later use [DataCollator](https://huggingface.co/docs/transformers/en/main_classes/data_collator) to \"pack and pad\" the examples to form batches.\n",
    "\n",
    "If you have any doubts please check the following [tutorial](https://huggingface.co/docs/datasets/use_dataset) on Huggingface."
   ]
  },
  {
   "cell_type": "code",
   "execution_count": 90,
   "metadata": {
    "id": "cTfuahXg3yDm",
    "pycharm": {
     "name": "#%%\n"
    }
   },
   "outputs": [],
   "source": [
    "def tokenize_sentence(examples):\n",
    "    \"\"\"\n",
    "    Tokenizes the `sentence` column from the batch of examples and returns the whole output of the tokenizer.\n",
    "    Args:\n",
    "        examples: a batch of examples\n",
    "\n",
    "    Returns: the tokenized `sentence` column (returns the whole output of the tokenizer)\n",
    "\n",
    "    \"\"\"\n",
    "    ### YOUR CODE HERE\n",
    "\n",
    "    tokenized_sentence = tokenizer(examples['sentence'], truncation=True)\n",
    "\n",
    "    ### YOUR CODE ENDS HERE\n",
    "    return tokenized_sentence\n",
    "\n",
    "\n",
    "def tokenize_compressed(examples):\n",
    "    \"\"\"\n",
    "    Tokenizes the `compressed` column from the batch of examples and returns the whole output of the tokenizer.\n",
    "    Args:\n",
    "        examples: a batch of examples\n",
    "\n",
    "    Returns: the tokenized `compressed` column (returns the whole output of the tokenizer)\n",
    "\n",
    "    \"\"\"\n",
    "\n",
    "    ### YOUR CODE HERE\n",
    "\n",
    "    tokenized_compressed = tokenizer(examples['compressed'], truncation=True)\n",
    "\n",
    "    ### YOUR CODE ENDS HERE\n",
    "    return tokenized_compressed"
   ]
  },
  {
   "cell_type": "markdown",
   "metadata": {
    "id": "UXftj2bd3yDm",
    "pycharm": {
     "name": "#%% md\n"
    }
   },
   "source": [
    "In the next cell, we will apply the functions that you implemented on the dataset (using `map()` method). We will do it twice to obtain two separate datasets for full and compressed sentence each. Notice that we drop the original columns when we form the new datasets."
   ]
  },
  {
   "cell_type": "code",
   "execution_count": 91,
   "metadata": {
    "colab": {
     "base_uri": "https://localhost:8080/",
     "height": 224,
     "referenced_widgets": [
      "c47aff1a1a654324900747124e7c4657",
      "9f3579b0c13b418bae0c52f6652b7e3c",
      "64d592a3a359478a97b96e8fcf04c1c6",
      "cb1af425520245cd9314d14b26e55bbd",
      "fda74bc3a7c14234929a79818a443d24",
      "bd2612ac07774cba8ae54653adccce0d",
      "c0b12d82356b4075a685bce0f45d9d86",
      "98dc72dda6b54c3baf2ce3f4f4034b8b",
      "9f09b00036f543d9bc2d1d5e4e53ac51",
      "230f00b885ab40f6b2c7b2377f2f1387",
      "13d3a54468b0496ba05cd0eb5ff9a89c",
      "3e5c579203fa4ca3a2790d87de84901f",
      "f2a20b8423d74afe862ed344e96b946b",
      "ab4960df5da74f0c860e7150c05731b3",
      "b15f5218d88f47578eeba261f6482028",
      "f685ef21940546b0ac25b8635df3382f",
      "077a59d8e17e413db662de4251ab855c",
      "585840d7f14045738197c0fb90777d1c",
      "3f7b4c13eb0041bf9150397babf5593d",
      "10b6124e38ca42e18f4380bcf86266ec",
      "e134065b68e94da7bf2bda833526c631",
      "ae82bb5ac9374f7c82be873115f7ae5a"
     ]
    },
    "executionInfo": {
     "elapsed": 7315,
     "status": "ok",
     "timestamp": 1715953055117,
     "user": {
      "displayName": "Jerry Spanakis",
      "userId": "13596299027111238536"
     },
     "user_tz": -60
    },
    "id": "lyj7Qrs43yDn",
    "outputId": "ce04641c-0070-44b8-e3e7-de36f32cdf7a",
    "pycharm": {
     "name": "#%%\n"
    }
   },
   "outputs": [
    {
     "data": {
      "application/vnd.jupyter.widget-view+json": {
       "model_id": "918204e25ea74eb4bb9e2e93afbcbbe8",
       "version_major": 2,
       "version_minor": 0
      },
      "text/plain": [
       "Map:   0%|          | 0/36000 [00:00<?, ? examples/s]"
      ]
     },
     "metadata": {},
     "output_type": "display_data"
    },
    {
     "name": "stdout",
     "output_type": "stream",
     "text": [
      "Dataset({\n",
      "    features: ['input_ids', 'token_type_ids', 'attention_mask'],\n",
      "    num_rows: 36000\n",
      "})\n"
     ]
    },
    {
     "data": {
      "application/vnd.jupyter.widget-view+json": {
       "model_id": "4da830767931443aa78e5627cb406d87",
       "version_major": 2,
       "version_minor": 0
      },
      "text/plain": [
       "Map:   0%|          | 0/36000 [00:00<?, ? examples/s]"
      ]
     },
     "metadata": {},
     "output_type": "display_data"
    },
    {
     "name": "stdout",
     "output_type": "stream",
     "text": [
      "Dataset({\n",
      "    features: ['input_ids', 'token_type_ids', 'attention_mask'],\n",
      "    num_rows: 36000\n",
      "})\n"
     ]
    }
   ],
   "source": [
    "tokenized_sentence_ds = test_ds.map(tokenize_sentence, batched=True, remove_columns=['sentence', 'compressed'])\n",
    "print(tokenized_sentence_ds)\n",
    "\n",
    "tokenized_compressed_ds = test_ds.map(tokenize_compressed, batched=True, remove_columns=['sentence', 'compressed'])\n",
    "print(tokenized_sentence_ds)"
   ]
  },
  {
   "cell_type": "markdown",
   "metadata": {
    "id": "1EiWGZ2N3yDn",
    "pycharm": {
     "name": "#%% md\n"
    }
   },
   "source": [
    "Let's examine the first few examples from both datasets. Make sure that they make sense to you."
   ]
  },
  {
   "cell_type": "code",
   "execution_count": 92,
   "metadata": {
    "colab": {
     "base_uri": "https://localhost:8080/"
    },
    "executionInfo": {
     "elapsed": 313,
     "status": "ok",
     "timestamp": 1715953147535,
     "user": {
      "displayName": "Jerry Spanakis",
      "userId": "13596299027111238536"
     },
     "user_tz": -60
    },
    "id": "pGlbObDb3yDn",
    "outputId": "441f704d-5aa5-4bfa-cd0d-28712072feb9",
    "pycharm": {
     "name": "#%%\n"
    }
   },
   "outputs": [
    {
     "name": "stdout",
     "output_type": "stream",
     "text": [
      "{'input_ids': [[101, 1996, 3509, 3337, 2031, 2623, 2008, 2027, 1005, 2222, 2022, 10209, 2125, 2037, 10301, 2778, 2023, 4465, 2012, 1996, 8922, 2015, 1010, 3143, 2007, 2502, 3415, 6469, 1996, 2111, 1998, 22222, 1019, 999, 102], [101, 1037, 15106, 3573, 2439, 1002, 1016, 1010, 5018, 4276, 1997, 15001, 2000, 11933, 9857, 1010, 2429, 2000, 1037, 18572, 2401, 2610, 3189, 1012, 102], [101, 1037, 3137, 3636, 2914, 3076, 2001, 4727, 5958, 2005, 2383, 15345, 1999, 2010, 6664, 1010, 1037, 3764, 26760, 20778, 2012, 1996, 6264, 2221, 7173, 2056, 5095, 1012, 102]], 'token_type_ids': [[0, 0, 0, 0, 0, 0, 0, 0, 0, 0, 0, 0, 0, 0, 0, 0, 0, 0, 0, 0, 0, 0, 0, 0, 0, 0, 0, 0, 0, 0, 0, 0, 0, 0, 0], [0, 0, 0, 0, 0, 0, 0, 0, 0, 0, 0, 0, 0, 0, 0, 0, 0, 0, 0, 0, 0, 0, 0, 0, 0], [0, 0, 0, 0, 0, 0, 0, 0, 0, 0, 0, 0, 0, 0, 0, 0, 0, 0, 0, 0, 0, 0, 0, 0, 0, 0, 0, 0, 0]], 'attention_mask': [[1, 1, 1, 1, 1, 1, 1, 1, 1, 1, 1, 1, 1, 1, 1, 1, 1, 1, 1, 1, 1, 1, 1, 1, 1, 1, 1, 1, 1, 1, 1, 1, 1, 1, 1], [1, 1, 1, 1, 1, 1, 1, 1, 1, 1, 1, 1, 1, 1, 1, 1, 1, 1, 1, 1, 1, 1, 1, 1, 1], [1, 1, 1, 1, 1, 1, 1, 1, 1, 1, 1, 1, 1, 1, 1, 1, 1, 1, 1, 1, 1, 1, 1, 1, 1, 1, 1, 1, 1]]}\n",
      "{'input_ids': [[101, 1996, 3509, 3337, 2000, 5926, 2125, 10301, 2778, 2012, 8922, 2015, 102], [101, 3573, 12386, 1002, 1016, 1010, 5018, 4276, 1997, 15001, 2000, 11933, 102], [101, 3137, 3636, 2914, 3076, 4727, 102]], 'token_type_ids': [[0, 0, 0, 0, 0, 0, 0, 0, 0, 0, 0, 0, 0], [0, 0, 0, 0, 0, 0, 0, 0, 0, 0, 0, 0, 0], [0, 0, 0, 0, 0, 0, 0]], 'attention_mask': [[1, 1, 1, 1, 1, 1, 1, 1, 1, 1, 1, 1, 1], [1, 1, 1, 1, 1, 1, 1, 1, 1, 1, 1, 1, 1], [1, 1, 1, 1, 1, 1, 1]]}\n"
     ]
    }
   ],
   "source": [
    "print(tokenized_sentence_ds[0:3])\n",
    "print(tokenized_compressed_ds[0:3])"
   ]
  },
  {
   "cell_type": "markdown",
   "metadata": {
    "id": "o0wLB4f13yDn",
    "pycharm": {
     "name": "#%% md\n"
    }
   },
   "source": [
    "In the following cell you can find the function that will apply the provided sentence embedding function to the dataset. It uses the DataCollator we metioned earlier (you are welcome to check the documentation: [https://huggingface.co/docs/transformers/en/main_classes/data_collator](https://huggingface.co/docs/transformers/en/main_classes/data_collator))."
   ]
  },
  {
   "cell_type": "code",
   "execution_count": 93,
   "metadata": {
    "id": "JRwRGEvy3yDn",
    "pycharm": {
     "name": "#%%\n"
    }
   },
   "outputs": [],
   "source": [
    "from torch.utils.data.dataloader import DataLoader\n",
    "\n",
    "def embed_dataset(dataset, model, sentence_embedding_fn, batch_size=8):\n",
    "    data_collator = transformers.DataCollatorWithPadding(tokenizer)\n",
    "    data_loader = DataLoader(dataset, batch_size=batch_size, collate_fn=data_collator)\n",
    "    sentence_embeddings = []\n",
    "    with torch.no_grad():\n",
    "        for batch in tqdm.tqdm(data_loader):\n",
    "            batch.to(device)\n",
    "            model_output = model(**batch, output_hidden_states=True)\n",
    "            batch_sentence_embeddings = sentence_embedding_fn(batch, model_output)\n",
    "            sentence_embeddings.append(batch_sentence_embeddings.detach().cpu())\n",
    "\n",
    "    sentence_embeddings = torch.concat(sentence_embeddings, dim=0)\n",
    "    return sentence_embeddings"
   ]
  },
  {
   "cell_type": "markdown",
   "metadata": {
    "id": "lPDzefUk3yDn",
    "pycharm": {
     "name": "#%% md\n"
    }
   },
   "source": [
    "We will embed the dataset containing sentences by using the function from the previous cell. We will pass your `calculate_sentence_embeddings` function. By default, this function uses the hidden representations of the last layer.\n",
    "\n",
    "If you are not using a GPU this can take some time depending on your system and your implementation.\n",
    "\n",
    "To use different layer you can pass different value for the `layer` parameter using python's `functools.partial` function ([https://docs.python.org/3/library/functools.html#functools.partial](https://docs.python.org/3/library/functools.html#functools.partial))."
   ]
  },
  {
   "cell_type": "code",
   "execution_count": 94,
   "metadata": {
    "colab": {
     "base_uri": "https://localhost:8080/"
    },
    "executionInfo": {
     "elapsed": 128223,
     "status": "ok",
     "timestamp": 1715953281791,
     "user": {
      "displayName": "Jerry Spanakis",
      "userId": "13596299027111238536"
     },
     "user_tz": -60
    },
    "id": "bGrZCqz73yDn",
    "outputId": "3234430a-d414-40b8-92b2-9305cd3b1d78",
    "pycharm": {
     "is_executing": true,
     "name": "#%%\n"
    }
   },
   "outputs": [
    {
     "name": "stderr",
     "output_type": "stream",
     "text": [
      " 49%|████▉     | 2201/4500 [21:02<21:58,  1.74it/s]  \n"
     ]
    },
    {
     "ename": "KeyboardInterrupt",
     "evalue": "",
     "output_type": "error",
     "traceback": [
      "\u001b[1;31m---------------------------------------------------------------------------\u001b[0m",
      "\u001b[1;31mKeyboardInterrupt\u001b[0m                         Traceback (most recent call last)",
      "\u001b[1;32m~\\AppData\\Local\\Temp\\ipykernel_15644\\3966657679.py\u001b[0m in \u001b[0;36m<module>\u001b[1;34m\u001b[0m\n\u001b[1;32m----> 1\u001b[1;33m \u001b[0msentence_embeddings\u001b[0m \u001b[1;33m=\u001b[0m \u001b[0membed_dataset\u001b[0m\u001b[1;33m(\u001b[0m\u001b[0mtokenized_sentence_ds\u001b[0m\u001b[1;33m,\u001b[0m \u001b[0mmodel\u001b[0m\u001b[1;33m,\u001b[0m \u001b[0mcalculate_sentence_embeddings\u001b[0m\u001b[1;33m)\u001b[0m\u001b[1;33m\u001b[0m\u001b[1;33m\u001b[0m\u001b[0m\n\u001b[0m\u001b[0;32m      2\u001b[0m \u001b[0mprint\u001b[0m\u001b[1;33m(\u001b[0m\u001b[0msentence_embeddings\u001b[0m\u001b[1;33m.\u001b[0m\u001b[0mshape\u001b[0m\u001b[1;33m)\u001b[0m\u001b[1;33m\u001b[0m\u001b[1;33m\u001b[0m\u001b[0m\n",
      "\u001b[1;32m~\\AppData\\Local\\Temp\\ipykernel_15644\\949729750.py\u001b[0m in \u001b[0;36membed_dataset\u001b[1;34m(dataset, model, sentence_embedding_fn, batch_size)\u001b[0m\n\u001b[0;32m      8\u001b[0m         \u001b[1;32mfor\u001b[0m \u001b[0mbatch\u001b[0m \u001b[1;32min\u001b[0m \u001b[0mtqdm\u001b[0m\u001b[1;33m.\u001b[0m\u001b[0mtqdm\u001b[0m\u001b[1;33m(\u001b[0m\u001b[0mdata_loader\u001b[0m\u001b[1;33m)\u001b[0m\u001b[1;33m:\u001b[0m\u001b[1;33m\u001b[0m\u001b[1;33m\u001b[0m\u001b[0m\n\u001b[0;32m      9\u001b[0m             \u001b[0mbatch\u001b[0m\u001b[1;33m.\u001b[0m\u001b[0mto\u001b[0m\u001b[1;33m(\u001b[0m\u001b[0mdevice\u001b[0m\u001b[1;33m)\u001b[0m\u001b[1;33m\u001b[0m\u001b[1;33m\u001b[0m\u001b[0m\n\u001b[1;32m---> 10\u001b[1;33m             \u001b[0mmodel_output\u001b[0m \u001b[1;33m=\u001b[0m \u001b[0mmodel\u001b[0m\u001b[1;33m(\u001b[0m\u001b[1;33m**\u001b[0m\u001b[0mbatch\u001b[0m\u001b[1;33m,\u001b[0m \u001b[0moutput_hidden_states\u001b[0m\u001b[1;33m=\u001b[0m\u001b[1;32mTrue\u001b[0m\u001b[1;33m)\u001b[0m\u001b[1;33m\u001b[0m\u001b[1;33m\u001b[0m\u001b[0m\n\u001b[0m\u001b[0;32m     11\u001b[0m             \u001b[0mbatch_sentence_embeddings\u001b[0m \u001b[1;33m=\u001b[0m \u001b[0msentence_embedding_fn\u001b[0m\u001b[1;33m(\u001b[0m\u001b[0mbatch\u001b[0m\u001b[1;33m,\u001b[0m \u001b[0mmodel_output\u001b[0m\u001b[1;33m)\u001b[0m\u001b[1;33m\u001b[0m\u001b[1;33m\u001b[0m\u001b[0m\n\u001b[0;32m     12\u001b[0m             \u001b[0msentence_embeddings\u001b[0m\u001b[1;33m.\u001b[0m\u001b[0mappend\u001b[0m\u001b[1;33m(\u001b[0m\u001b[0mbatch_sentence_embeddings\u001b[0m\u001b[1;33m.\u001b[0m\u001b[0mdetach\u001b[0m\u001b[1;33m(\u001b[0m\u001b[1;33m)\u001b[0m\u001b[1;33m.\u001b[0m\u001b[0mcpu\u001b[0m\u001b[1;33m(\u001b[0m\u001b[1;33m)\u001b[0m\u001b[1;33m)\u001b[0m\u001b[1;33m\u001b[0m\u001b[1;33m\u001b[0m\u001b[0m\n",
      "\u001b[1;32mc:\\Users\\bruna\\anaconda3\\lib\\site-packages\\torch\\nn\\modules\\module.py\u001b[0m in \u001b[0;36m_wrapped_call_impl\u001b[1;34m(self, *args, **kwargs)\u001b[0m\n\u001b[0;32m   1749\u001b[0m             \u001b[1;32mreturn\u001b[0m \u001b[0mself\u001b[0m\u001b[1;33m.\u001b[0m\u001b[0m_compiled_call_impl\u001b[0m\u001b[1;33m(\u001b[0m\u001b[1;33m*\u001b[0m\u001b[0margs\u001b[0m\u001b[1;33m,\u001b[0m \u001b[1;33m**\u001b[0m\u001b[0mkwargs\u001b[0m\u001b[1;33m)\u001b[0m  \u001b[1;31m# type: ignore[misc]\u001b[0m\u001b[1;33m\u001b[0m\u001b[1;33m\u001b[0m\u001b[0m\n\u001b[0;32m   1750\u001b[0m         \u001b[1;32melse\u001b[0m\u001b[1;33m:\u001b[0m\u001b[1;33m\u001b[0m\u001b[1;33m\u001b[0m\u001b[0m\n\u001b[1;32m-> 1751\u001b[1;33m             \u001b[1;32mreturn\u001b[0m \u001b[0mself\u001b[0m\u001b[1;33m.\u001b[0m\u001b[0m_call_impl\u001b[0m\u001b[1;33m(\u001b[0m\u001b[1;33m*\u001b[0m\u001b[0margs\u001b[0m\u001b[1;33m,\u001b[0m \u001b[1;33m**\u001b[0m\u001b[0mkwargs\u001b[0m\u001b[1;33m)\u001b[0m\u001b[1;33m\u001b[0m\u001b[1;33m\u001b[0m\u001b[0m\n\u001b[0m\u001b[0;32m   1752\u001b[0m \u001b[1;33m\u001b[0m\u001b[0m\n\u001b[0;32m   1753\u001b[0m     \u001b[1;31m# torchrec tests the code consistency with the following code\u001b[0m\u001b[1;33m\u001b[0m\u001b[1;33m\u001b[0m\u001b[0m\n",
      "\u001b[1;32mc:\\Users\\bruna\\anaconda3\\lib\\site-packages\\torch\\nn\\modules\\module.py\u001b[0m in \u001b[0;36m_call_impl\u001b[1;34m(self, *args, **kwargs)\u001b[0m\n\u001b[0;32m   1760\u001b[0m                 \u001b[1;32mor\u001b[0m \u001b[0m_global_backward_pre_hooks\u001b[0m \u001b[1;32mor\u001b[0m \u001b[0m_global_backward_hooks\u001b[0m\u001b[1;33m\u001b[0m\u001b[1;33m\u001b[0m\u001b[0m\n\u001b[0;32m   1761\u001b[0m                 or _global_forward_hooks or _global_forward_pre_hooks):\n\u001b[1;32m-> 1762\u001b[1;33m             \u001b[1;32mreturn\u001b[0m \u001b[0mforward_call\u001b[0m\u001b[1;33m(\u001b[0m\u001b[1;33m*\u001b[0m\u001b[0margs\u001b[0m\u001b[1;33m,\u001b[0m \u001b[1;33m**\u001b[0m\u001b[0mkwargs\u001b[0m\u001b[1;33m)\u001b[0m\u001b[1;33m\u001b[0m\u001b[1;33m\u001b[0m\u001b[0m\n\u001b[0m\u001b[0;32m   1763\u001b[0m \u001b[1;33m\u001b[0m\u001b[0m\n\u001b[0;32m   1764\u001b[0m         \u001b[0mresult\u001b[0m \u001b[1;33m=\u001b[0m \u001b[1;32mNone\u001b[0m\u001b[1;33m\u001b[0m\u001b[1;33m\u001b[0m\u001b[0m\n",
      "\u001b[1;32mc:\\Users\\bruna\\anaconda3\\lib\\site-packages\\transformers\\models\\bert\\modeling_bert.py\u001b[0m in \u001b[0;36mforward\u001b[1;34m(self, input_ids, attention_mask, token_type_ids, position_ids, head_mask, inputs_embeds, encoder_hidden_states, encoder_attention_mask, past_key_values, use_cache, output_attentions, output_hidden_states, return_dict)\u001b[0m\n\u001b[0;32m   1142\u001b[0m         \u001b[0mhead_mask\u001b[0m \u001b[1;33m=\u001b[0m \u001b[0mself\u001b[0m\u001b[1;33m.\u001b[0m\u001b[0mget_head_mask\u001b[0m\u001b[1;33m(\u001b[0m\u001b[0mhead_mask\u001b[0m\u001b[1;33m,\u001b[0m \u001b[0mself\u001b[0m\u001b[1;33m.\u001b[0m\u001b[0mconfig\u001b[0m\u001b[1;33m.\u001b[0m\u001b[0mnum_hidden_layers\u001b[0m\u001b[1;33m)\u001b[0m\u001b[1;33m\u001b[0m\u001b[1;33m\u001b[0m\u001b[0m\n\u001b[0;32m   1143\u001b[0m \u001b[1;33m\u001b[0m\u001b[0m\n\u001b[1;32m-> 1144\u001b[1;33m         encoder_outputs = self.encoder(\n\u001b[0m\u001b[0;32m   1145\u001b[0m             \u001b[0membedding_output\u001b[0m\u001b[1;33m,\u001b[0m\u001b[1;33m\u001b[0m\u001b[1;33m\u001b[0m\u001b[0m\n\u001b[0;32m   1146\u001b[0m             \u001b[0mattention_mask\u001b[0m\u001b[1;33m=\u001b[0m\u001b[0mextended_attention_mask\u001b[0m\u001b[1;33m,\u001b[0m\u001b[1;33m\u001b[0m\u001b[1;33m\u001b[0m\u001b[0m\n",
      "\u001b[1;32mc:\\Users\\bruna\\anaconda3\\lib\\site-packages\\torch\\nn\\modules\\module.py\u001b[0m in \u001b[0;36m_wrapped_call_impl\u001b[1;34m(self, *args, **kwargs)\u001b[0m\n\u001b[0;32m   1749\u001b[0m             \u001b[1;32mreturn\u001b[0m \u001b[0mself\u001b[0m\u001b[1;33m.\u001b[0m\u001b[0m_compiled_call_impl\u001b[0m\u001b[1;33m(\u001b[0m\u001b[1;33m*\u001b[0m\u001b[0margs\u001b[0m\u001b[1;33m,\u001b[0m \u001b[1;33m**\u001b[0m\u001b[0mkwargs\u001b[0m\u001b[1;33m)\u001b[0m  \u001b[1;31m# type: ignore[misc]\u001b[0m\u001b[1;33m\u001b[0m\u001b[1;33m\u001b[0m\u001b[0m\n\u001b[0;32m   1750\u001b[0m         \u001b[1;32melse\u001b[0m\u001b[1;33m:\u001b[0m\u001b[1;33m\u001b[0m\u001b[1;33m\u001b[0m\u001b[0m\n\u001b[1;32m-> 1751\u001b[1;33m             \u001b[1;32mreturn\u001b[0m \u001b[0mself\u001b[0m\u001b[1;33m.\u001b[0m\u001b[0m_call_impl\u001b[0m\u001b[1;33m(\u001b[0m\u001b[1;33m*\u001b[0m\u001b[0margs\u001b[0m\u001b[1;33m,\u001b[0m \u001b[1;33m**\u001b[0m\u001b[0mkwargs\u001b[0m\u001b[1;33m)\u001b[0m\u001b[1;33m\u001b[0m\u001b[1;33m\u001b[0m\u001b[0m\n\u001b[0m\u001b[0;32m   1752\u001b[0m \u001b[1;33m\u001b[0m\u001b[0m\n\u001b[0;32m   1753\u001b[0m     \u001b[1;31m# torchrec tests the code consistency with the following code\u001b[0m\u001b[1;33m\u001b[0m\u001b[1;33m\u001b[0m\u001b[0m\n",
      "\u001b[1;32mc:\\Users\\bruna\\anaconda3\\lib\\site-packages\\torch\\nn\\modules\\module.py\u001b[0m in \u001b[0;36m_call_impl\u001b[1;34m(self, *args, **kwargs)\u001b[0m\n\u001b[0;32m   1760\u001b[0m                 \u001b[1;32mor\u001b[0m \u001b[0m_global_backward_pre_hooks\u001b[0m \u001b[1;32mor\u001b[0m \u001b[0m_global_backward_hooks\u001b[0m\u001b[1;33m\u001b[0m\u001b[1;33m\u001b[0m\u001b[0m\n\u001b[0;32m   1761\u001b[0m                 or _global_forward_hooks or _global_forward_pre_hooks):\n\u001b[1;32m-> 1762\u001b[1;33m             \u001b[1;32mreturn\u001b[0m \u001b[0mforward_call\u001b[0m\u001b[1;33m(\u001b[0m\u001b[1;33m*\u001b[0m\u001b[0margs\u001b[0m\u001b[1;33m,\u001b[0m \u001b[1;33m**\u001b[0m\u001b[0mkwargs\u001b[0m\u001b[1;33m)\u001b[0m\u001b[1;33m\u001b[0m\u001b[1;33m\u001b[0m\u001b[0m\n\u001b[0m\u001b[0;32m   1763\u001b[0m \u001b[1;33m\u001b[0m\u001b[0m\n\u001b[0;32m   1764\u001b[0m         \u001b[0mresult\u001b[0m \u001b[1;33m=\u001b[0m \u001b[1;32mNone\u001b[0m\u001b[1;33m\u001b[0m\u001b[1;33m\u001b[0m\u001b[0m\n",
      "\u001b[1;32mc:\\Users\\bruna\\anaconda3\\lib\\site-packages\\transformers\\models\\bert\\modeling_bert.py\u001b[0m in \u001b[0;36mforward\u001b[1;34m(self, hidden_states, attention_mask, head_mask, encoder_hidden_states, encoder_attention_mask, past_key_values, use_cache, output_attentions, output_hidden_states, return_dict)\u001b[0m\n\u001b[0;32m    693\u001b[0m                 )\n\u001b[0;32m    694\u001b[0m             \u001b[1;32melse\u001b[0m\u001b[1;33m:\u001b[0m\u001b[1;33m\u001b[0m\u001b[1;33m\u001b[0m\u001b[0m\n\u001b[1;32m--> 695\u001b[1;33m                 layer_outputs = layer_module(\n\u001b[0m\u001b[0;32m    696\u001b[0m                     \u001b[0mhidden_states\u001b[0m\u001b[1;33m,\u001b[0m\u001b[1;33m\u001b[0m\u001b[1;33m\u001b[0m\u001b[0m\n\u001b[0;32m    697\u001b[0m                     \u001b[0mattention_mask\u001b[0m\u001b[1;33m,\u001b[0m\u001b[1;33m\u001b[0m\u001b[1;33m\u001b[0m\u001b[0m\n",
      "\u001b[1;32mc:\\Users\\bruna\\anaconda3\\lib\\site-packages\\torch\\nn\\modules\\module.py\u001b[0m in \u001b[0;36m_wrapped_call_impl\u001b[1;34m(self, *args, **kwargs)\u001b[0m\n\u001b[0;32m   1749\u001b[0m             \u001b[1;32mreturn\u001b[0m \u001b[0mself\u001b[0m\u001b[1;33m.\u001b[0m\u001b[0m_compiled_call_impl\u001b[0m\u001b[1;33m(\u001b[0m\u001b[1;33m*\u001b[0m\u001b[0margs\u001b[0m\u001b[1;33m,\u001b[0m \u001b[1;33m**\u001b[0m\u001b[0mkwargs\u001b[0m\u001b[1;33m)\u001b[0m  \u001b[1;31m# type: ignore[misc]\u001b[0m\u001b[1;33m\u001b[0m\u001b[1;33m\u001b[0m\u001b[0m\n\u001b[0;32m   1750\u001b[0m         \u001b[1;32melse\u001b[0m\u001b[1;33m:\u001b[0m\u001b[1;33m\u001b[0m\u001b[1;33m\u001b[0m\u001b[0m\n\u001b[1;32m-> 1751\u001b[1;33m             \u001b[1;32mreturn\u001b[0m \u001b[0mself\u001b[0m\u001b[1;33m.\u001b[0m\u001b[0m_call_impl\u001b[0m\u001b[1;33m(\u001b[0m\u001b[1;33m*\u001b[0m\u001b[0margs\u001b[0m\u001b[1;33m,\u001b[0m \u001b[1;33m**\u001b[0m\u001b[0mkwargs\u001b[0m\u001b[1;33m)\u001b[0m\u001b[1;33m\u001b[0m\u001b[1;33m\u001b[0m\u001b[0m\n\u001b[0m\u001b[0;32m   1752\u001b[0m \u001b[1;33m\u001b[0m\u001b[0m\n\u001b[0;32m   1753\u001b[0m     \u001b[1;31m# torchrec tests the code consistency with the following code\u001b[0m\u001b[1;33m\u001b[0m\u001b[1;33m\u001b[0m\u001b[0m\n",
      "\u001b[1;32mc:\\Users\\bruna\\anaconda3\\lib\\site-packages\\torch\\nn\\modules\\module.py\u001b[0m in \u001b[0;36m_call_impl\u001b[1;34m(self, *args, **kwargs)\u001b[0m\n\u001b[0;32m   1760\u001b[0m                 \u001b[1;32mor\u001b[0m \u001b[0m_global_backward_pre_hooks\u001b[0m \u001b[1;32mor\u001b[0m \u001b[0m_global_backward_hooks\u001b[0m\u001b[1;33m\u001b[0m\u001b[1;33m\u001b[0m\u001b[0m\n\u001b[0;32m   1761\u001b[0m                 or _global_forward_hooks or _global_forward_pre_hooks):\n\u001b[1;32m-> 1762\u001b[1;33m             \u001b[1;32mreturn\u001b[0m \u001b[0mforward_call\u001b[0m\u001b[1;33m(\u001b[0m\u001b[1;33m*\u001b[0m\u001b[0margs\u001b[0m\u001b[1;33m,\u001b[0m \u001b[1;33m**\u001b[0m\u001b[0mkwargs\u001b[0m\u001b[1;33m)\u001b[0m\u001b[1;33m\u001b[0m\u001b[1;33m\u001b[0m\u001b[0m\n\u001b[0m\u001b[0;32m   1763\u001b[0m \u001b[1;33m\u001b[0m\u001b[0m\n\u001b[0;32m   1764\u001b[0m         \u001b[0mresult\u001b[0m \u001b[1;33m=\u001b[0m \u001b[1;32mNone\u001b[0m\u001b[1;33m\u001b[0m\u001b[1;33m\u001b[0m\u001b[0m\n",
      "\u001b[1;32mc:\\Users\\bruna\\anaconda3\\lib\\site-packages\\transformers\\models\\bert\\modeling_bert.py\u001b[0m in \u001b[0;36mforward\u001b[1;34m(self, hidden_states, attention_mask, head_mask, encoder_hidden_states, encoder_attention_mask, past_key_value, output_attentions)\u001b[0m\n\u001b[0;32m    583\u001b[0m         \u001b[1;31m# decoder uni-directional self-attention cached key/values tuple is at positions 1,2\u001b[0m\u001b[1;33m\u001b[0m\u001b[1;33m\u001b[0m\u001b[0m\n\u001b[0;32m    584\u001b[0m         \u001b[0mself_attn_past_key_value\u001b[0m \u001b[1;33m=\u001b[0m \u001b[0mpast_key_value\u001b[0m\u001b[1;33m[\u001b[0m\u001b[1;33m:\u001b[0m\u001b[1;36m2\u001b[0m\u001b[1;33m]\u001b[0m \u001b[1;32mif\u001b[0m \u001b[0mpast_key_value\u001b[0m \u001b[1;32mis\u001b[0m \u001b[1;32mnot\u001b[0m \u001b[1;32mNone\u001b[0m \u001b[1;32melse\u001b[0m \u001b[1;32mNone\u001b[0m\u001b[1;33m\u001b[0m\u001b[1;33m\u001b[0m\u001b[0m\n\u001b[1;32m--> 585\u001b[1;33m         self_attention_outputs = self.attention(\n\u001b[0m\u001b[0;32m    586\u001b[0m             \u001b[0mhidden_states\u001b[0m\u001b[1;33m,\u001b[0m\u001b[1;33m\u001b[0m\u001b[1;33m\u001b[0m\u001b[0m\n\u001b[0;32m    587\u001b[0m             \u001b[0mattention_mask\u001b[0m\u001b[1;33m,\u001b[0m\u001b[1;33m\u001b[0m\u001b[1;33m\u001b[0m\u001b[0m\n",
      "\u001b[1;32mc:\\Users\\bruna\\anaconda3\\lib\\site-packages\\torch\\nn\\modules\\module.py\u001b[0m in \u001b[0;36m_wrapped_call_impl\u001b[1;34m(self, *args, **kwargs)\u001b[0m\n\u001b[0;32m   1749\u001b[0m             \u001b[1;32mreturn\u001b[0m \u001b[0mself\u001b[0m\u001b[1;33m.\u001b[0m\u001b[0m_compiled_call_impl\u001b[0m\u001b[1;33m(\u001b[0m\u001b[1;33m*\u001b[0m\u001b[0margs\u001b[0m\u001b[1;33m,\u001b[0m \u001b[1;33m**\u001b[0m\u001b[0mkwargs\u001b[0m\u001b[1;33m)\u001b[0m  \u001b[1;31m# type: ignore[misc]\u001b[0m\u001b[1;33m\u001b[0m\u001b[1;33m\u001b[0m\u001b[0m\n\u001b[0;32m   1750\u001b[0m         \u001b[1;32melse\u001b[0m\u001b[1;33m:\u001b[0m\u001b[1;33m\u001b[0m\u001b[1;33m\u001b[0m\u001b[0m\n\u001b[1;32m-> 1751\u001b[1;33m             \u001b[1;32mreturn\u001b[0m \u001b[0mself\u001b[0m\u001b[1;33m.\u001b[0m\u001b[0m_call_impl\u001b[0m\u001b[1;33m(\u001b[0m\u001b[1;33m*\u001b[0m\u001b[0margs\u001b[0m\u001b[1;33m,\u001b[0m \u001b[1;33m**\u001b[0m\u001b[0mkwargs\u001b[0m\u001b[1;33m)\u001b[0m\u001b[1;33m\u001b[0m\u001b[1;33m\u001b[0m\u001b[0m\n\u001b[0m\u001b[0;32m   1752\u001b[0m \u001b[1;33m\u001b[0m\u001b[0m\n\u001b[0;32m   1753\u001b[0m     \u001b[1;31m# torchrec tests the code consistency with the following code\u001b[0m\u001b[1;33m\u001b[0m\u001b[1;33m\u001b[0m\u001b[0m\n",
      "\u001b[1;32mc:\\Users\\bruna\\anaconda3\\lib\\site-packages\\torch\\nn\\modules\\module.py\u001b[0m in \u001b[0;36m_call_impl\u001b[1;34m(self, *args, **kwargs)\u001b[0m\n\u001b[0;32m   1760\u001b[0m                 \u001b[1;32mor\u001b[0m \u001b[0m_global_backward_pre_hooks\u001b[0m \u001b[1;32mor\u001b[0m \u001b[0m_global_backward_hooks\u001b[0m\u001b[1;33m\u001b[0m\u001b[1;33m\u001b[0m\u001b[0m\n\u001b[0;32m   1761\u001b[0m                 or _global_forward_hooks or _global_forward_pre_hooks):\n\u001b[1;32m-> 1762\u001b[1;33m             \u001b[1;32mreturn\u001b[0m \u001b[0mforward_call\u001b[0m\u001b[1;33m(\u001b[0m\u001b[1;33m*\u001b[0m\u001b[0margs\u001b[0m\u001b[1;33m,\u001b[0m \u001b[1;33m**\u001b[0m\u001b[0mkwargs\u001b[0m\u001b[1;33m)\u001b[0m\u001b[1;33m\u001b[0m\u001b[1;33m\u001b[0m\u001b[0m\n\u001b[0m\u001b[0;32m   1763\u001b[0m \u001b[1;33m\u001b[0m\u001b[0m\n\u001b[0;32m   1764\u001b[0m         \u001b[0mresult\u001b[0m \u001b[1;33m=\u001b[0m \u001b[1;32mNone\u001b[0m\u001b[1;33m\u001b[0m\u001b[1;33m\u001b[0m\u001b[0m\n",
      "\u001b[1;32mc:\\Users\\bruna\\anaconda3\\lib\\site-packages\\transformers\\models\\bert\\modeling_bert.py\u001b[0m in \u001b[0;36mforward\u001b[1;34m(self, hidden_states, attention_mask, head_mask, encoder_hidden_states, encoder_attention_mask, past_key_value, output_attentions)\u001b[0m\n\u001b[0;32m    513\u001b[0m         \u001b[0moutput_attentions\u001b[0m\u001b[1;33m:\u001b[0m \u001b[0mOptional\u001b[0m\u001b[1;33m[\u001b[0m\u001b[0mbool\u001b[0m\u001b[1;33m]\u001b[0m \u001b[1;33m=\u001b[0m \u001b[1;32mFalse\u001b[0m\u001b[1;33m,\u001b[0m\u001b[1;33m\u001b[0m\u001b[1;33m\u001b[0m\u001b[0m\n\u001b[0;32m    514\u001b[0m     ) -> Tuple[torch.Tensor]:\n\u001b[1;32m--> 515\u001b[1;33m         self_outputs = self.self(\n\u001b[0m\u001b[0;32m    516\u001b[0m             \u001b[0mhidden_states\u001b[0m\u001b[1;33m,\u001b[0m\u001b[1;33m\u001b[0m\u001b[1;33m\u001b[0m\u001b[0m\n\u001b[0;32m    517\u001b[0m             \u001b[0mattention_mask\u001b[0m\u001b[1;33m,\u001b[0m\u001b[1;33m\u001b[0m\u001b[1;33m\u001b[0m\u001b[0m\n",
      "\u001b[1;32mc:\\Users\\bruna\\anaconda3\\lib\\site-packages\\torch\\nn\\modules\\module.py\u001b[0m in \u001b[0;36m_wrapped_call_impl\u001b[1;34m(self, *args, **kwargs)\u001b[0m\n\u001b[0;32m   1749\u001b[0m             \u001b[1;32mreturn\u001b[0m \u001b[0mself\u001b[0m\u001b[1;33m.\u001b[0m\u001b[0m_compiled_call_impl\u001b[0m\u001b[1;33m(\u001b[0m\u001b[1;33m*\u001b[0m\u001b[0margs\u001b[0m\u001b[1;33m,\u001b[0m \u001b[1;33m**\u001b[0m\u001b[0mkwargs\u001b[0m\u001b[1;33m)\u001b[0m  \u001b[1;31m# type: ignore[misc]\u001b[0m\u001b[1;33m\u001b[0m\u001b[1;33m\u001b[0m\u001b[0m\n\u001b[0;32m   1750\u001b[0m         \u001b[1;32melse\u001b[0m\u001b[1;33m:\u001b[0m\u001b[1;33m\u001b[0m\u001b[1;33m\u001b[0m\u001b[0m\n\u001b[1;32m-> 1751\u001b[1;33m             \u001b[1;32mreturn\u001b[0m \u001b[0mself\u001b[0m\u001b[1;33m.\u001b[0m\u001b[0m_call_impl\u001b[0m\u001b[1;33m(\u001b[0m\u001b[1;33m*\u001b[0m\u001b[0margs\u001b[0m\u001b[1;33m,\u001b[0m \u001b[1;33m**\u001b[0m\u001b[0mkwargs\u001b[0m\u001b[1;33m)\u001b[0m\u001b[1;33m\u001b[0m\u001b[1;33m\u001b[0m\u001b[0m\n\u001b[0m\u001b[0;32m   1752\u001b[0m \u001b[1;33m\u001b[0m\u001b[0m\n\u001b[0;32m   1753\u001b[0m     \u001b[1;31m# torchrec tests the code consistency with the following code\u001b[0m\u001b[1;33m\u001b[0m\u001b[1;33m\u001b[0m\u001b[0m\n",
      "\u001b[1;32mc:\\Users\\bruna\\anaconda3\\lib\\site-packages\\torch\\nn\\modules\\module.py\u001b[0m in \u001b[0;36m_call_impl\u001b[1;34m(self, *args, **kwargs)\u001b[0m\n\u001b[0;32m   1760\u001b[0m                 \u001b[1;32mor\u001b[0m \u001b[0m_global_backward_pre_hooks\u001b[0m \u001b[1;32mor\u001b[0m \u001b[0m_global_backward_hooks\u001b[0m\u001b[1;33m\u001b[0m\u001b[1;33m\u001b[0m\u001b[0m\n\u001b[0;32m   1761\u001b[0m                 or _global_forward_hooks or _global_forward_pre_hooks):\n\u001b[1;32m-> 1762\u001b[1;33m             \u001b[1;32mreturn\u001b[0m \u001b[0mforward_call\u001b[0m\u001b[1;33m(\u001b[0m\u001b[1;33m*\u001b[0m\u001b[0margs\u001b[0m\u001b[1;33m,\u001b[0m \u001b[1;33m**\u001b[0m\u001b[0mkwargs\u001b[0m\u001b[1;33m)\u001b[0m\u001b[1;33m\u001b[0m\u001b[1;33m\u001b[0m\u001b[0m\n\u001b[0m\u001b[0;32m   1763\u001b[0m \u001b[1;33m\u001b[0m\u001b[0m\n\u001b[0;32m   1764\u001b[0m         \u001b[0mresult\u001b[0m \u001b[1;33m=\u001b[0m \u001b[1;32mNone\u001b[0m\u001b[1;33m\u001b[0m\u001b[1;33m\u001b[0m\u001b[0m\n",
      "\u001b[1;32mc:\\Users\\bruna\\anaconda3\\lib\\site-packages\\transformers\\models\\bert\\modeling_bert.py\u001b[0m in \u001b[0;36mforward\u001b[1;34m(self, hidden_states, attention_mask, head_mask, encoder_hidden_states, encoder_attention_mask, past_key_value, output_attentions)\u001b[0m\n\u001b[0;32m    406\u001b[0m             \u001b[0mkey_layer\u001b[0m\u001b[1;33m,\u001b[0m \u001b[0mvalue_layer\u001b[0m \u001b[1;33m=\u001b[0m \u001b[0mpast_key_value\u001b[0m\u001b[1;33m\u001b[0m\u001b[1;33m\u001b[0m\u001b[0m\n\u001b[0;32m    407\u001b[0m         \u001b[1;32melse\u001b[0m\u001b[1;33m:\u001b[0m\u001b[1;33m\u001b[0m\u001b[1;33m\u001b[0m\u001b[0m\n\u001b[1;32m--> 408\u001b[1;33m             \u001b[0mkey_layer\u001b[0m \u001b[1;33m=\u001b[0m \u001b[0mself\u001b[0m\u001b[1;33m.\u001b[0m\u001b[0mtranspose_for_scores\u001b[0m\u001b[1;33m(\u001b[0m\u001b[0mself\u001b[0m\u001b[1;33m.\u001b[0m\u001b[0mkey\u001b[0m\u001b[1;33m(\u001b[0m\u001b[0mcurrent_states\u001b[0m\u001b[1;33m)\u001b[0m\u001b[1;33m)\u001b[0m\u001b[1;33m\u001b[0m\u001b[1;33m\u001b[0m\u001b[0m\n\u001b[0m\u001b[0;32m    409\u001b[0m             \u001b[0mvalue_layer\u001b[0m \u001b[1;33m=\u001b[0m \u001b[0mself\u001b[0m\u001b[1;33m.\u001b[0m\u001b[0mtranspose_for_scores\u001b[0m\u001b[1;33m(\u001b[0m\u001b[0mself\u001b[0m\u001b[1;33m.\u001b[0m\u001b[0mvalue\u001b[0m\u001b[1;33m(\u001b[0m\u001b[0mcurrent_states\u001b[0m\u001b[1;33m)\u001b[0m\u001b[1;33m)\u001b[0m\u001b[1;33m\u001b[0m\u001b[1;33m\u001b[0m\u001b[0m\n\u001b[0;32m    410\u001b[0m             \u001b[1;32mif\u001b[0m \u001b[0mpast_key_value\u001b[0m \u001b[1;32mis\u001b[0m \u001b[1;32mnot\u001b[0m \u001b[1;32mNone\u001b[0m \u001b[1;32mand\u001b[0m \u001b[1;32mnot\u001b[0m \u001b[0mis_cross_attention\u001b[0m\u001b[1;33m:\u001b[0m\u001b[1;33m\u001b[0m\u001b[1;33m\u001b[0m\u001b[0m\n",
      "\u001b[1;32mc:\\Users\\bruna\\anaconda3\\lib\\site-packages\\torch\\nn\\modules\\module.py\u001b[0m in \u001b[0;36m_wrapped_call_impl\u001b[1;34m(self, *args, **kwargs)\u001b[0m\n\u001b[0;32m   1749\u001b[0m             \u001b[1;32mreturn\u001b[0m \u001b[0mself\u001b[0m\u001b[1;33m.\u001b[0m\u001b[0m_compiled_call_impl\u001b[0m\u001b[1;33m(\u001b[0m\u001b[1;33m*\u001b[0m\u001b[0margs\u001b[0m\u001b[1;33m,\u001b[0m \u001b[1;33m**\u001b[0m\u001b[0mkwargs\u001b[0m\u001b[1;33m)\u001b[0m  \u001b[1;31m# type: ignore[misc]\u001b[0m\u001b[1;33m\u001b[0m\u001b[1;33m\u001b[0m\u001b[0m\n\u001b[0;32m   1750\u001b[0m         \u001b[1;32melse\u001b[0m\u001b[1;33m:\u001b[0m\u001b[1;33m\u001b[0m\u001b[1;33m\u001b[0m\u001b[0m\n\u001b[1;32m-> 1751\u001b[1;33m             \u001b[1;32mreturn\u001b[0m \u001b[0mself\u001b[0m\u001b[1;33m.\u001b[0m\u001b[0m_call_impl\u001b[0m\u001b[1;33m(\u001b[0m\u001b[1;33m*\u001b[0m\u001b[0margs\u001b[0m\u001b[1;33m,\u001b[0m \u001b[1;33m**\u001b[0m\u001b[0mkwargs\u001b[0m\u001b[1;33m)\u001b[0m\u001b[1;33m\u001b[0m\u001b[1;33m\u001b[0m\u001b[0m\n\u001b[0m\u001b[0;32m   1752\u001b[0m \u001b[1;33m\u001b[0m\u001b[0m\n\u001b[0;32m   1753\u001b[0m     \u001b[1;31m# torchrec tests the code consistency with the following code\u001b[0m\u001b[1;33m\u001b[0m\u001b[1;33m\u001b[0m\u001b[0m\n",
      "\u001b[1;32mc:\\Users\\bruna\\anaconda3\\lib\\site-packages\\torch\\nn\\modules\\module.py\u001b[0m in \u001b[0;36m_call_impl\u001b[1;34m(self, *args, **kwargs)\u001b[0m\n\u001b[0;32m   1760\u001b[0m                 \u001b[1;32mor\u001b[0m \u001b[0m_global_backward_pre_hooks\u001b[0m \u001b[1;32mor\u001b[0m \u001b[0m_global_backward_hooks\u001b[0m\u001b[1;33m\u001b[0m\u001b[1;33m\u001b[0m\u001b[0m\n\u001b[0;32m   1761\u001b[0m                 or _global_forward_hooks or _global_forward_pre_hooks):\n\u001b[1;32m-> 1762\u001b[1;33m             \u001b[1;32mreturn\u001b[0m \u001b[0mforward_call\u001b[0m\u001b[1;33m(\u001b[0m\u001b[1;33m*\u001b[0m\u001b[0margs\u001b[0m\u001b[1;33m,\u001b[0m \u001b[1;33m**\u001b[0m\u001b[0mkwargs\u001b[0m\u001b[1;33m)\u001b[0m\u001b[1;33m\u001b[0m\u001b[1;33m\u001b[0m\u001b[0m\n\u001b[0m\u001b[0;32m   1763\u001b[0m \u001b[1;33m\u001b[0m\u001b[0m\n\u001b[0;32m   1764\u001b[0m         \u001b[0mresult\u001b[0m \u001b[1;33m=\u001b[0m \u001b[1;32mNone\u001b[0m\u001b[1;33m\u001b[0m\u001b[1;33m\u001b[0m\u001b[0m\n",
      "\u001b[1;32mc:\\Users\\bruna\\anaconda3\\lib\\site-packages\\torch\\nn\\modules\\linear.py\u001b[0m in \u001b[0;36mforward\u001b[1;34m(self, input)\u001b[0m\n\u001b[0;32m    123\u001b[0m \u001b[1;33m\u001b[0m\u001b[0m\n\u001b[0;32m    124\u001b[0m     \u001b[1;32mdef\u001b[0m \u001b[0mforward\u001b[0m\u001b[1;33m(\u001b[0m\u001b[0mself\u001b[0m\u001b[1;33m,\u001b[0m \u001b[0minput\u001b[0m\u001b[1;33m:\u001b[0m \u001b[0mTensor\u001b[0m\u001b[1;33m)\u001b[0m \u001b[1;33m->\u001b[0m \u001b[0mTensor\u001b[0m\u001b[1;33m:\u001b[0m\u001b[1;33m\u001b[0m\u001b[1;33m\u001b[0m\u001b[0m\n\u001b[1;32m--> 125\u001b[1;33m         \u001b[1;32mreturn\u001b[0m \u001b[0mF\u001b[0m\u001b[1;33m.\u001b[0m\u001b[0mlinear\u001b[0m\u001b[1;33m(\u001b[0m\u001b[0minput\u001b[0m\u001b[1;33m,\u001b[0m \u001b[0mself\u001b[0m\u001b[1;33m.\u001b[0m\u001b[0mweight\u001b[0m\u001b[1;33m,\u001b[0m \u001b[0mself\u001b[0m\u001b[1;33m.\u001b[0m\u001b[0mbias\u001b[0m\u001b[1;33m)\u001b[0m\u001b[1;33m\u001b[0m\u001b[1;33m\u001b[0m\u001b[0m\n\u001b[0m\u001b[0;32m    126\u001b[0m \u001b[1;33m\u001b[0m\u001b[0m\n\u001b[0;32m    127\u001b[0m     \u001b[1;32mdef\u001b[0m \u001b[0mextra_repr\u001b[0m\u001b[1;33m(\u001b[0m\u001b[0mself\u001b[0m\u001b[1;33m)\u001b[0m \u001b[1;33m->\u001b[0m \u001b[0mstr\u001b[0m\u001b[1;33m:\u001b[0m\u001b[1;33m\u001b[0m\u001b[1;33m\u001b[0m\u001b[0m\n",
      "\u001b[1;31mKeyboardInterrupt\u001b[0m: "
     ]
    }
   ],
   "source": [
    "sentence_embeddings = embed_dataset(tokenized_sentence_ds, model, calculate_sentence_embeddings)\n",
    "print(sentence_embeddings.shape)"
   ]
  },
  {
   "cell_type": "markdown",
   "metadata": {
    "id": "hiUM4edR3yDn",
    "pycharm": {
     "name": "#%% md\n"
    }
   },
   "source": [
    "The following cell will embed the compressed sentences. Make sure to pass the same function for calculating the sentence embeddings."
   ]
  },
  {
   "cell_type": "code",
   "execution_count": 37,
   "metadata": {
    "colab": {
     "base_uri": "https://localhost:8080/"
    },
    "executionInfo": {
     "elapsed": 57950,
     "status": "ok",
     "timestamp": 1715953339735,
     "user": {
      "displayName": "Jerry Spanakis",
      "userId": "13596299027111238536"
     },
     "user_tz": -60
    },
    "id": "c8JzteCA3yDn",
    "outputId": "cc37d2b3-a331-434f-d8b5-4a238dd06c9d",
    "pycharm": {
     "is_executing": true,
     "name": "#%%\n"
    }
   },
   "outputs": [
    {
     "name": "stderr",
     "output_type": "stream",
     "text": [
      "100%|██████████| 625/625 [01:38<00:00,  6.36it/s]"
     ]
    },
    {
     "name": "stdout",
     "output_type": "stream",
     "text": [
      "torch.Size([5000, 768])\n"
     ]
    },
    {
     "name": "stderr",
     "output_type": "stream",
     "text": [
      "\n"
     ]
    }
   ],
   "source": [
    "compressed_embeddings = embed_dataset(tokenized_compressed_ds, model, calculate_sentence_embeddings)\n",
    "print(compressed_embeddings.shape)"
   ]
  },
  {
   "cell_type": "markdown",
   "metadata": {
    "id": "GQcY1aP13yDo",
    "pycharm": {
     "name": "#%% md\n"
    }
   },
   "source": [
    "## 4. Retrieving Sentences\n",
    "\n",
    "Guess what? We are going to try the same task/dataset as the previous lab and hopefully get better performance.\n",
    "\n",
    "As a reminder, we will be using vector representations (based on the BERT embeddings) to retrieve only the relevant ones based on some user query. It is similar to the a search retrieval task (based on what we discussed in the relevant lecture) where a user provides a query (that is the compressed sentence) and the system returns the sentences that are more similar to the query.\n",
    "\n",
    "In the information retrieval lecture, we discussed how to solve this retrieval problem by using bag-of-words as a representation basis. In Lab 2, we solved the problem using static word embeddings (learned from our corpus) and by averaring their equivalent vectors per sentence. Now, we are going to use the BERT model (we loaded above) to get contextualized sentence embeddings! Are you as excited as we are?"
   ]
  },
  {
   "cell_type": "markdown",
   "metadata": {
    "id": "E52JWwRu3yDo",
    "pycharm": {
     "name": "#%% md\n"
    }
   },
   "source": [
    "<a name='e9'></a>\n",
    "### Exercise 9 Embed query function\n",
    "\n",
    "(1p) First step to a retrieval task is to embed the query (aka find a proper vector representation). We will do it the same way as we did it in the previous exercises. Complete the following function to return the embedding of the provided text."
   ]
  },
  {
   "cell_type": "code",
   "execution_count": 40,
   "metadata": {
    "id": "qbibmI503yDo",
    "pycharm": {
     "is_executing": true,
     "name": "#%%\n"
    }
   },
   "outputs": [],
   "source": [
    "def embed_query(query, sentence_embedding_fn):\n",
    "    \"\"\"\n",
    "    Embeds the provided query using the model and the `sentence_embedding_fn` function\n",
    "    Args:\n",
    "        query: a str with the query\n",
    "        sentence_embedding_fn: the function used to embed the sentence based on the input and output of the model\n",
    "\n",
    "    Returns: a PyTorch tensor with the embedded query\n",
    "\n",
    "    \"\"\"\n",
    "\n",
    "    #### YOUR CODE HERE\n",
    "\n",
    "    query_tokenized = tokenizer(query, return_tensors=\"pt\", truncation=True)\n",
    "    query_tokenized = {k: v.to(model.device) for k, v in query_tokenized.items()}\n",
    "    model_output = model(**query_tokenized, output_hidden_states=True)\n",
    "    \n",
    "    ### YOUR CODE ENDS HERE\n",
    "\n",
    "    query_embedding = sentence_embedding_fn(query_tokenized, model_output)\n",
    "\n",
    "    return query_embedding.detach().cpu()\n"
   ]
  },
  {
   "cell_type": "markdown",
   "metadata": {
    "id": "ABQMZ72J3yDo",
    "pycharm": {
     "name": "#%% md\n"
    }
   },
   "source": [
    "Next we will embed the query (which is the same as in the previous lab). What is the dimensionality of the embedding?"
   ]
  },
  {
   "cell_type": "code",
   "execution_count": 41,
   "metadata": {
    "colab": {
     "base_uri": "https://localhost:8080/"
    },
    "executionInfo": {
     "elapsed": 364,
     "status": "ok",
     "timestamp": 1715958776069,
     "user": {
      "displayName": "Jerry Spanakis",
      "userId": "13596299027111238536"
     },
     "user_tz": -60
    },
    "id": "-AlI-UUC3yDo",
    "outputId": "1b4d3b84-076c-46dc-9996-962a1296d7a5",
    "pycharm": {
     "is_executing": true,
     "name": "#%%\n"
    }
   },
   "outputs": [
    {
     "name": "stdout",
     "output_type": "stream",
     "text": [
      "volcano erupted\n",
      "torch.Size([1, 768])\n",
      "tensor([[-2.4407e-01, -4.3162e-02, -2.3228e-01, -2.9772e-01, -2.6478e-02,\n",
      "         -4.3528e-01,  7.6832e-01,  6.7760e-01, -2.0859e-02,  2.0260e-01,\n",
      "         -3.2669e-01, -2.4911e-01, -1.2773e-01,  4.2605e-01, -4.0244e-01,\n",
      "         -2.6756e-01,  2.0195e-01, -1.1365e-01,  5.4490e-02,  4.8539e-01,\n",
      "          2.5284e-01, -4.1042e-01, -2.0181e-01,  8.5660e-02,  2.8552e-01,\n",
      "         -1.3665e-01, -7.1692e-01,  4.7204e-01, -2.2398e-01,  6.3613e-02,\n",
      "         -4.6482e-02,  3.3382e-01, -4.0431e-02,  1.8827e-01, -2.3811e-02,\n",
      "         -3.0328e-01,  1.2326e-01,  1.1149e-01, -8.2532e-01,  9.0165e-02,\n",
      "         -4.6962e-01, -2.4502e-01,  3.4935e-01,  3.8621e-01,  1.1002e-01,\n",
      "          9.0557e-02,  9.7116e-02,  3.1299e-01, -4.5225e-01,  5.4962e-02,\n",
      "         -4.5311e-02,  2.9595e-01, -2.7043e-01, -1.0531e-01, -1.8903e-01,\n",
      "          7.9161e-01,  2.8868e-01, -2.5304e-01,  3.0694e-01, -2.1287e-01,\n",
      "         -6.1727e-02,  1.7793e-01, -1.6932e-01, -5.9216e-01, -1.3097e-01,\n",
      "          4.4494e-01, -4.9847e-02,  5.8742e-01, -7.6640e-01, -2.9124e-01,\n",
      "         -6.0903e-02,  3.2374e-01,  2.8220e-01, -2.7633e-01, -1.6309e-02,\n",
      "         -4.4516e-02, -4.7844e-01,  4.4019e-01, -1.9037e-02, -6.9678e-01,\n",
      "         -2.2368e-02,  2.0350e-01, -9.0001e-04,  3.7204e-01,  9.7865e-02,\n",
      "         -2.1819e-01,  1.1888e-02, -9.3608e-02, -2.9719e-01,  4.6185e-01,\n",
      "          6.8253e-02, -2.1770e-01,  1.0859e-01,  7.3606e-02,  2.7781e-02,\n",
      "         -7.0266e-02,  2.9277e-02,  2.9190e-01,  2.3161e-02,  1.0073e-01,\n",
      "         -4.5186e-02, -2.3263e-01,  4.8971e-01,  6.2132e-01, -1.8855e-01,\n",
      "          1.2399e-01,  1.0292e-01,  3.1577e-01,  9.0348e-03, -5.1840e-01,\n",
      "          2.1120e-01, -4.0854e-01, -2.0573e-01, -2.2461e-01, -4.2988e-01,\n",
      "          2.2326e-01,  6.7401e-01, -1.6833e-01,  4.9212e-01, -3.3131e-01,\n",
      "         -2.0714e-01, -3.9285e-01, -3.9982e-01,  1.0673e+00, -2.5086e-01,\n",
      "          1.7532e-01,  5.0453e-02, -3.6496e-01, -6.1988e-02,  2.0161e-01,\n",
      "         -4.0701e-01,  7.0079e-01,  1.3620e-01,  1.3206e-01,  2.8679e-01,\n",
      "          3.9113e-01,  2.4069e-01,  2.1188e-01, -9.0432e-01,  2.1361e-02,\n",
      "         -4.9332e-01,  7.1276e-01, -4.1539e-02, -6.0254e-01,  2.4898e-01,\n",
      "          2.3131e-01, -2.4492e-01,  3.0322e-02,  3.6131e-01,  1.3001e-01,\n",
      "          1.3328e-01, -2.3791e-01, -2.7221e-01,  9.0866e-02, -5.3575e-01,\n",
      "          5.5943e-02, -1.3472e-01,  6.1632e-03,  7.5659e-01,  5.3306e-01,\n",
      "          4.5487e-01,  7.3211e-03,  2.3590e-01,  1.0792e-01, -4.7039e-01,\n",
      "         -8.2141e-02, -1.9057e-01,  4.3784e-01, -3.5369e-01,  5.2115e-02,\n",
      "         -6.1091e-01,  1.0412e-01,  5.5546e-01,  2.9477e-01,  2.4544e-01,\n",
      "         -3.3366e-01, -1.5230e-01,  2.5560e-01, -1.7448e-01,  1.1418e-02,\n",
      "         -2.5687e+00, -1.0524e-01,  1.6858e-01,  5.1803e-01,  6.8477e-01,\n",
      "         -2.1168e-01,  2.8565e-01,  1.2809e-01,  3.3332e-01, -4.9691e-01,\n",
      "         -1.2291e-01,  3.4261e-02, -6.5760e-01,  1.8787e-01,  3.9958e-01,\n",
      "         -4.3986e-01,  3.2615e-01, -3.7310e-01,  4.4631e-01,  4.2711e-01,\n",
      "         -1.9260e-01, -8.8058e-02, -1.5078e-01,  2.9846e-01, -1.5862e-01,\n",
      "          3.0539e-01,  2.0567e-01, -5.5651e-02,  5.6451e-01,  2.2597e-01,\n",
      "         -6.1187e-01,  4.2055e-01,  5.9179e-02, -2.2639e-01,  2.4334e-01,\n",
      "         -9.4408e-02,  1.9632e-01, -2.5680e-01, -1.1521e-01,  2.8791e-01,\n",
      "         -7.0357e-02, -1.6746e-02, -5.0904e-01,  3.9449e-01, -2.0004e-01,\n",
      "         -1.0176e-02,  3.0936e-01,  2.5451e-01, -2.3470e-01, -1.8958e-01,\n",
      "          5.6839e-02, -2.3019e-01,  7.9882e-01,  1.9551e-01, -1.4701e-01,\n",
      "         -1.7113e-01, -2.2724e-01, -4.8243e-01, -2.6413e-01, -6.7404e-01,\n",
      "         -7.0444e-02,  1.7616e-01,  5.4365e-01,  4.1818e-02,  2.3041e-01,\n",
      "         -7.0679e-01,  4.3560e-01,  5.4202e-01,  3.4673e-01,  9.4608e-02,\n",
      "         -6.8139e-02, -5.9934e-01,  3.6791e-01, -4.0789e-01, -1.1812e-01,\n",
      "         -3.3948e-01,  3.1712e-01, -2.9761e-01,  1.4789e-01, -2.0974e-01,\n",
      "          6.1641e-03,  1.0021e-01,  5.9282e-01,  3.3442e-01, -2.9908e-01,\n",
      "          3.6621e-02,  5.4445e-01,  7.1352e-02, -3.0212e-01, -5.6576e-01,\n",
      "          2.3450e-01, -2.0031e-01, -1.9612e-01,  2.1364e-01,  2.6691e-01,\n",
      "         -3.2508e-02,  3.7172e-01, -4.3985e-01, -2.2750e-01, -1.7151e-01,\n",
      "          5.1888e-01,  4.6402e-01, -6.1186e-01,  1.1253e-01, -6.3539e-01,\n",
      "          1.3847e-02, -3.7568e-01,  4.3588e-02, -1.4782e-01, -7.7448e-01,\n",
      "         -2.4644e-01, -1.0917e-01, -5.4685e-03,  9.6578e-02,  1.7839e-01,\n",
      "         -3.7087e-01,  1.3708e-01,  3.2781e-01,  2.6459e-01, -6.7075e-01,\n",
      "         -3.1094e-01, -6.9798e-02, -2.4119e-01,  7.6033e-03, -4.0708e-01,\n",
      "         -7.2958e-02, -2.0852e-01,  5.3911e-01, -2.4140e+00,  1.5347e-01,\n",
      "          1.1943e-01, -8.5141e-01,  4.2776e-01, -3.6174e-01, -2.4721e-02,\n",
      "         -1.3409e-01, -6.0309e-01,  2.2655e-01, -1.0523e-01, -4.1565e-01,\n",
      "          4.0078e-01,  4.4813e-01,  2.4201e-01, -2.7310e-01,  3.5422e-01,\n",
      "         -1.2090e-01, -5.8553e-01,  2.0479e-01, -1.7677e-01, -3.2378e-01,\n",
      "         -1.9575e-01, -2.8904e-01,  7.5633e-01, -3.8025e-01,  9.0833e-02,\n",
      "          5.1249e-01, -3.4584e-01,  5.6533e-02, -1.2077e-01, -2.8528e-01,\n",
      "          3.3760e-01,  2.7689e-01, -2.2276e-01,  1.7305e-01,  2.4825e-01,\n",
      "          2.6546e-01,  5.9205e-01, -5.6889e-02,  1.6822e-01, -3.2883e-01,\n",
      "         -4.7402e-02,  5.2059e-01,  2.0114e-01, -3.0041e-01, -2.1643e-01,\n",
      "         -3.6542e-01, -7.2672e-01,  1.7875e-01,  4.2994e-01, -4.5596e-01,\n",
      "          4.2410e-01, -2.0270e-01, -3.0201e-01,  2.5824e-01,  6.4019e-01,\n",
      "          1.9642e-01, -3.4456e-01, -4.9592e-01,  9.0227e-02, -5.6173e-02,\n",
      "         -1.9114e-01, -1.0829e-01, -1.4031e-01, -3.5716e-01, -6.6903e-03,\n",
      "          8.1643e-02, -3.3385e-02,  3.5996e-01, -1.3966e-01,  2.6673e-01,\n",
      "         -3.1421e-01, -9.3227e-01, -6.1763e-01, -6.5810e-02,  1.0369e-03,\n",
      "          1.5052e-01,  2.4523e-01, -2.4774e-02, -1.5456e-01,  4.9330e-01,\n",
      "         -1.0695e-01, -1.7608e-01,  1.8818e-01, -2.9774e-02,  4.2423e-01,\n",
      "         -2.2769e-01, -2.4435e-03, -3.4660e-01,  1.8799e-01, -1.1539e-01,\n",
      "          3.2985e-01,  7.3759e-01,  2.3005e-01,  2.3868e-01,  1.4556e-01,\n",
      "         -2.7991e-01,  8.1853e-02, -2.1048e-01, -1.0212e-01, -4.8069e-01,\n",
      "          4.4840e-01, -2.3732e-02,  3.8651e-01, -4.4312e-01, -4.4273e-01,\n",
      "         -5.9877e-02, -4.7701e-01,  4.3367e-01,  1.3972e-01, -3.1187e-01,\n",
      "          4.8257e-01,  1.4235e-01,  2.3389e-01,  1.8681e-01,  2.4344e-01,\n",
      "          9.1051e-01,  1.4389e-01,  3.0653e-01,  1.4561e-01, -3.8720e-03,\n",
      "         -3.4204e-02, -4.0744e-01,  1.3473e-01,  4.0003e-01,  3.5529e-01,\n",
      "         -1.7127e-01, -1.0531e-01, -2.7009e-01, -4.1944e-01, -4.8642e-01,\n",
      "         -1.1551e-02,  2.4578e-03,  2.4097e-01, -1.5406e-01, -2.4578e-03,\n",
      "         -2.0569e-01,  3.9071e-01,  4.1270e-01,  3.4000e-01,  2.1084e-02,\n",
      "         -4.7935e-01, -3.2334e-01, -7.0916e-02,  6.5039e-01, -4.6288e-01,\n",
      "          2.4871e-01,  5.1704e-01,  7.2564e-02, -3.4984e-01, -3.2040e-01,\n",
      "         -2.7627e-01, -4.8677e-01, -1.4837e-01, -5.0239e-01,  2.0140e-01,\n",
      "         -1.6141e-01,  2.2996e-02, -3.0659e-01, -5.7968e-01,  2.5872e-01,\n",
      "         -3.5596e-02,  2.1097e-01, -4.6731e-01,  1.8815e-01,  2.5889e-01,\n",
      "         -2.2633e-01, -5.5182e-01,  4.1292e-01,  2.2124e-01, -2.1932e-01,\n",
      "          2.4844e-02, -4.9021e-01, -8.2954e-02,  3.8136e-01, -2.9402e-01,\n",
      "         -3.4481e-01, -6.7959e-02,  3.0937e-01, -2.2746e-02, -5.2376e-01,\n",
      "         -3.4437e-03,  6.7455e-01,  2.1319e-01,  1.8346e-01, -5.8289e-01,\n",
      "         -3.5787e-02,  3.0086e-01,  4.6246e-01,  3.4002e-01,  5.1063e-02,\n",
      "         -4.8208e-01, -5.9033e-02, -1.5453e-01, -1.0873e-01,  2.5194e-01,\n",
      "          8.9563e-02,  7.1931e-01,  4.5800e-02,  3.4160e-01,  1.4906e-01,\n",
      "          3.2169e-01, -6.0452e-02,  2.7860e-01, -7.9944e-02,  2.3539e-02,\n",
      "          9.8579e-02, -6.9587e-01, -1.0440e-01,  7.1061e-01, -6.5950e-01,\n",
      "         -1.3088e+00, -1.9455e-01,  1.5588e-01,  1.7597e-01,  1.0296e-01,\n",
      "          2.1915e-01,  2.3654e-01,  4.0528e-01, -7.1257e-01, -2.6716e-02,\n",
      "         -9.6294e-02, -1.7744e-01, -5.5876e-02, -2.5572e-02, -1.3091e-01,\n",
      "          1.6520e-01, -1.9757e-01, -6.3000e-01, -1.5283e-03,  4.4825e-01,\n",
      "         -1.6802e-01,  2.3587e-01,  6.4806e-01,  3.7263e-01, -3.4475e-01,\n",
      "         -2.7020e-01,  5.4940e-01,  1.9738e-01, -8.6574e-02, -1.5595e-01,\n",
      "          2.7769e-01, -6.2998e-01, -9.7232e-02,  1.8959e-01, -1.6398e-01,\n",
      "          9.0310e-01, -2.0224e-01,  2.7700e-01, -2.0783e-01,  4.5533e-01,\n",
      "         -6.4159e-01, -3.5372e-01,  4.9360e-01, -9.4250e-01, -2.6181e-01,\n",
      "         -3.0379e-01, -1.8888e-01, -2.4419e-01, -5.5392e-01,  5.9967e-02,\n",
      "         -2.0143e-01, -3.0349e-02,  2.8342e-01,  5.8489e-02, -6.3038e-02,\n",
      "          6.2420e-01,  5.3061e-01, -1.6156e-01,  1.4075e-01, -2.3522e-01,\n",
      "         -1.3026e-01, -2.2237e-01, -5.8222e-01,  1.6423e-01,  8.0172e-02,\n",
      "         -7.4334e-01, -1.2071e-01,  5.0247e-02,  8.3692e-03,  3.6380e-01,\n",
      "          2.5673e-01, -3.5061e-01,  4.2420e-01,  1.8605e-01, -6.6855e-01,\n",
      "         -6.4652e-02, -4.8626e-01, -1.0600e-01,  5.5050e-01, -1.7168e-02,\n",
      "         -2.0207e-01, -2.9257e-01,  4.2373e-01,  1.8335e-01,  1.5269e-03,\n",
      "         -3.1707e-01, -7.6322e-01,  3.7836e-01, -2.7404e-01,  4.3222e-01,\n",
      "          3.0671e-01, -3.5923e-02,  1.9051e-01,  6.3887e-02, -4.8819e-01,\n",
      "         -2.6956e-01, -1.8754e-02, -4.5759e-02, -1.4334e-01,  1.1927e-01,\n",
      "          2.5864e-01,  4.9952e-01, -5.6626e-01,  1.2002e-01,  2.3191e-01,\n",
      "         -3.9509e-01, -5.9762e-01,  4.3030e-01,  3.6950e-01, -1.2914e-01,\n",
      "          5.8184e-01,  6.0312e-02,  6.7450e-01,  3.3585e-01, -6.5233e-01,\n",
      "          1.1415e-01, -5.6909e-02, -1.5343e-01,  2.8811e-01,  7.5140e-02,\n",
      "         -2.5318e-01,  1.9571e-01, -1.0273e-01, -3.8225e-01,  9.6575e-02,\n",
      "          2.7304e-01, -1.3666e-01, -2.2178e-01,  2.5475e-01,  2.7881e-01,\n",
      "          3.0565e-01,  1.6917e-01, -6.5994e-02,  1.0425e-01, -6.2607e-02,\n",
      "         -1.0870e-01,  4.5697e-01, -1.6478e-01,  3.5660e-01, -2.8191e-01,\n",
      "          4.7895e-02, -2.0814e-01,  3.7946e-01, -1.6892e-01,  1.2921e-02,\n",
      "          6.7217e-02,  3.0593e-01, -3.8650e-01, -1.4519e-01,  1.5645e-01,\n",
      "         -1.7678e-01, -1.1764e-01,  4.8042e-01,  3.1444e-01, -1.5052e-01,\n",
      "         -1.7055e-01, -4.4214e-01,  1.8351e-02,  7.5613e-01, -1.3169e-01,\n",
      "         -2.7132e-01,  2.3614e-02, -9.9018e-02,  3.8981e-01, -3.1087e-01,\n",
      "          2.4323e-01, -2.4436e-01, -1.8635e-01,  3.5335e-01,  2.4711e-01,\n",
      "         -4.0321e-01, -5.1998e-01,  5.7935e-01, -4.6955e-01, -2.1232e-01,\n",
      "         -1.0349e-01,  2.0732e-01, -5.0552e-03,  6.3059e-01,  7.3419e-02,\n",
      "          4.8553e-02, -1.9995e-01,  1.7837e-01, -4.5113e-02,  4.3623e-01,\n",
      "         -3.2110e-01,  3.3942e-01,  4.0233e-01,  8.5882e-01, -3.6921e-01,\n",
      "         -7.5822e-02,  7.4536e-02, -1.9461e-02,  2.0225e-01,  3.0373e-01,\n",
      "         -1.4319e-02, -1.2429e-01, -2.5711e-01, -2.3537e-01,  3.8424e-01,\n",
      "         -1.0352e+00,  3.1929e-01,  4.1029e-01, -7.3902e-02,  1.3912e-01,\n",
      "          1.8459e-02, -1.7473e-01, -3.8705e-02, -6.0860e-02, -6.0264e-01,\n",
      "          2.9894e-01,  2.1570e-01, -2.2906e-01, -1.1309e-02, -1.1520e-01,\n",
      "          1.0790e-01,  4.6534e-01, -1.2726e-01, -1.5431e-01,  2.8935e-01,\n",
      "         -1.2461e-01,  8.9004e-02,  9.4339e-02,  1.1403e-01, -1.5616e-01,\n",
      "          1.4008e-01, -1.5511e-02, -3.9391e-01,  2.0091e-01, -1.7820e-01,\n",
      "         -1.6579e-03,  9.9516e-02, -9.8056e-01, -4.6953e-01, -1.9585e-01,\n",
      "         -1.9911e-01,  1.3378e-01, -9.3789e-01,  4.1515e-01, -4.7568e-02,\n",
      "         -5.4643e-02, -3.6853e-01, -1.8936e-01, -4.9617e-01, -1.4557e-02,\n",
      "         -4.3200e-01, -1.8777e-01, -3.8508e-01]])\n"
     ]
    }
   ],
   "source": [
    "query = \"volcano erupted\"\n",
    "print(query)\n",
    "\n",
    "query_embedding = embed_query(query, calculate_sentence_embeddings)\n",
    "print(query_embedding.shape)\n",
    "print(query_embedding)"
   ]
  },
  {
   "cell_type": "markdown",
   "metadata": {
    "id": "UKWADqcF3yDo",
    "pycharm": {
     "name": "#%% md\n"
    }
   },
   "source": [
    "<a name='e10'></a>\n",
    "### Exercise 10 Cosine similarity 1 to n in PyTorch\n",
    "\n",
    "(3p) The next step in our retrieval system, would be to calculate the proximity of a query to our retrieval corpus (in our case that is all the sentences).\n",
    "\n",
    "Complete the following function to calculate the cosine similarity between a vector (first parameter `vector`, that will usually be the query vector) and all other vectors (second parameter `other_vectors`, that will be the sentence embeddings in our case).\n",
    "\n",
    "The corresponding function from the previous lab would actually work without changes, as PyTorch's tensors are automatically cast into numpy arrays. That said, convert the function into PyTorch to see how the two libraries are similar to each other.\n",
    "\n",
    "Note that the `other_vectors` parameter is a single PyTorch tensor of size `N x D`, where $N$ is the number of vectors and $D$ is the dimension of each vector."
   ]
  },
  {
   "cell_type": "code",
   "execution_count": 42,
   "metadata": {
    "id": "9GAI3Il03yDo",
    "pycharm": {
     "is_executing": true,
     "name": "#%%\n"
    }
   },
   "outputs": [],
   "source": [
    "def cosine_similarity_1_to_n(vector, other_vectors):\n",
    "    \"\"\"\n",
    "    Calculates the cosine similarity between a single vector and other vectors.\n",
    "    Args:\n",
    "        vector: a tensor representing a vector of D dimensions\n",
    "        other_vectors: a 2D tensor representing other vectors (of the size NxD, where N is the number of vectors and D is their dimension)\n",
    "\n",
    "    Returns: a 1D numpy array of size N containing the cosine similarity between the vector and all the other vectors\n",
    "\n",
    "    \"\"\"\n",
    "\n",
    "    #### YOUR CODE HERE\n",
    "\n",
    "    matrix_multiplication = torch.matmul(other_vectors, vector)\n",
    "\n",
    "    norms = torch.norm(other_vectors, dim=1) * torch.norm(vector)\n",
    "\n",
    "    similarity = matrix_multiplication / (norms + 1e-10)  # avoid division by 0\n",
    "\n",
    "    return similarity\n",
    "\n",
    "    ### YOUR CODE ENDS HERE"
   ]
  },
  {
   "cell_type": "markdown",
   "metadata": {
    "id": "dfdLN9g93yDo",
    "pycharm": {
     "name": "#%% md\n"
    }
   },
   "source": [
    "We will use the function to calculate the similarity of all sentences in the dataset to our query."
   ]
  },
  {
   "cell_type": "code",
   "execution_count": 43,
   "metadata": {
    "colab": {
     "base_uri": "https://localhost:8080/"
    },
    "executionInfo": {
     "elapsed": 12,
     "status": "ok",
     "timestamp": 1715953339735,
     "user": {
      "displayName": "Jerry Spanakis",
      "userId": "13596299027111238536"
     },
     "user_tz": -60
    },
    "id": "FAc_EdPB3yDo",
    "outputId": "386e8589-fc8c-46e8-e151-03fabfb2aff6",
    "pycharm": {
     "is_executing": true,
     "name": "#%%\n"
    }
   },
   "outputs": [
    {
     "name": "stdout",
     "output_type": "stream",
     "text": [
      "torch.Size([5000])\n",
      "tensor([0.3347, 0.4826, 0.4368, 0.3582, 0.4361, 0.5853, 0.4523, 0.4995, 0.4331,\n",
      "        0.4702])\n"
     ]
    }
   ],
   "source": [
    "query_similarity = cosine_similarity_1_to_n(query_embedding[0], sentence_embeddings)\n",
    "print(query_similarity.shape)\n",
    "print(query_similarity[:10])"
   ]
  },
  {
   "cell_type": "markdown",
   "metadata": {
    "id": "-E3ZMPXU3yDo",
    "pycharm": {
     "name": "#%% md\n"
    }
   },
   "source": [
    "The following cell will select the most similar sentence."
   ]
  },
  {
   "cell_type": "code",
   "execution_count": 44,
   "metadata": {
    "colab": {
     "base_uri": "https://localhost:8080/"
    },
    "executionInfo": {
     "elapsed": 11,
     "status": "ok",
     "timestamp": 1715953339735,
     "user": {
      "displayName": "Jerry Spanakis",
      "userId": "13596299027111238536"
     },
     "user_tz": -60
    },
    "id": "wUt2eO5R3yDo",
    "outputId": "0a45e50d-beb3-4d4f-b573-41628cae0588",
    "pycharm": {
     "is_executing": true,
     "name": "#%%\n"
    }
   },
   "outputs": [
    {
     "name": "stdout",
     "output_type": "stream",
     "text": [
      "5\n",
      "tensor(0.5853)\n",
      "At least four are confirmed dead after a powerful earthquake that jolted eastern Indonesia early Monday.\n"
     ]
    }
   ],
   "source": [
    "most_similar = int(np.argmax(query_similarity))\n",
    "print(most_similar)\n",
    "print(query_similarity[most_similar])\n",
    "print(test_ds[most_similar]['sentence'])"
   ]
  },
  {
   "cell_type": "markdown",
   "metadata": {
    "id": "ousONnwp3yDp",
    "pycharm": {
     "name": "#%% md\n"
    }
   },
   "source": [
    "The following function will return the indices of the top-k elements in the array."
   ]
  },
  {
   "cell_type": "code",
   "execution_count": 45,
   "metadata": {
    "id": "9UiYaNUj3yDp",
    "pycharm": {
     "is_executing": true,
     "name": "#%%\n"
    }
   },
   "outputs": [],
   "source": [
    "def top_k_indices(array, k, sorted=True):\n",
    "    \"\"\"\n",
    "    Returns top-k indices from the 1D array. If `sorted` is `True` the returned indices are sorted in the descending order\n",
    "    Args:\n",
    "        array: a 1D numpy array\n",
    "        k: a number of top indices to return\n",
    "        sorted: if True, the returned indices are sorted in descending order\n",
    "\n",
    "    Returns: a 1D array containing top-k indices\n",
    "\n",
    "    \"\"\"\n",
    "    top_k = np.argpartition(array, -k)[-k:]\n",
    "    if sorted:\n",
    "        selected = array[top_k]\n",
    "        sorted_selected = (-selected).argsort()\n",
    "        top_k = top_k[sorted_selected]\n",
    "    return top_k"
   ]
  },
  {
   "cell_type": "code",
   "execution_count": 100,
   "metadata": {
    "colab": {
     "base_uri": "https://localhost:8080/"
    },
    "executionInfo": {
     "elapsed": 9,
     "status": "ok",
     "timestamp": 1715953339736,
     "user": {
      "displayName": "Jerry Spanakis",
      "userId": "13596299027111238536"
     },
     "user_tz": -60
    },
    "id": "_68wOOnV3yDp",
    "outputId": "684c53b2-68a4-42aa-aacf-1bb4f14d8d1b",
    "pycharm": {
     "is_executing": true,
     "name": "#%%\n"
    }
   },
   "outputs": [
    {
     "name": "stdout",
     "output_type": "stream",
     "text": [
      "Jeff Balser, MD, Ph.D., associate vice chancellor for Research for Vanderbilt University Medical Center, has been named dean of Vanderbilt University School of Medicine.\n",
      "similarity: 0.5852988362312317\n",
      "AD Elite U18 basketball team returns home from the United World Games.\n",
      "similarity: 0.580814778804779\n",
      "An armed robber spent nearly 10 minutes on his knees praying with a clerk at an Indianapolis cheque-cashing business before fleeing with 20 dollars from the register.\n",
      "similarity: 0.5578734278678894\n",
      "Secretary Information Pakistan Muslim League Ahsan Iqbal has said the charge sheet against President Musharraf would comprise hundreds of pages.\n",
      "similarity: 0.5544740557670593\n",
      "While the latest round of UN climate change talks is going on in Spain on Nov. 2-6, Yve de Boer, the UN climate chief, said on Tuesday that the Kyoto Protocol needed to continue and industrialized countries should come up with more ambitious targets on emission reduction under the protocol.\n",
      "similarity: 0.5540874004364014\n",
      "Telecommunications equipment provider Orckit Communications has received a purchase order and immediate deployment for its CM-4000 products from Alphion, for deployment in BSNL through ITI.\n",
      "similarity: 0.5503554940223694\n",
      "The Kansas Jayhawks in part two of their Europe trip defeated the Switzerland National Team, 83-79 on Wednesday.\n",
      "similarity: 0.5499632954597473\n",
      "A decision on a proposed gravel pit near the Fox Creek Elementary School may come in April, said the chairman of the McLean County Zoning Board of Appeals.\n",
      "similarity: 0.5471692681312561\n",
      "At last the Tampa Bay Rays have signed experienced infielder Jeff Keppinger to a one year worth $1.525 million deal after a long conversation scuffle with several inside executives who were reluctant to add an infielder for 2012.\n",
      "similarity: 0.5463134050369263\n",
      "QPR boss Jim Magilton said his side lacked a cutting edge today as they lost 2-0 against Swansea City at the Liberty Stadium.\n",
      "similarity: 0.5458303689956665\n"
     ]
    }
   ],
   "source": [
    "top_indices = top_k_indices(query_similarity, k=10).tolist()\n",
    "for idx in top_indices:\n",
    "    print(split_ds['test'][idx]['sentence'])\n",
    "    print(f'similarity: {query_similarity[idx]}')"
   ]
  },
  {
   "cell_type": "markdown",
   "metadata": {
    "id": "3jLh7saZ3yDp",
    "pycharm": {
     "name": "#%% md\n"
    }
   },
   "source": [
    "<a name='e11'></a>\n",
    "### Exercise 11 Experiment with different queries\n",
    "\n",
    "(10p) Experiment with different queries (taking into account the nature of the dataset and your insights from the analysis so far).\n",
    "Try at least 5 different queries and analyze top 5 most similar responses. \n",
    "\n",
    "Does the search perform well? When does it fail? Provide reasons for the good/bad result in each case. \n",
    "\n",
    "Optionally, if you completed the previous lab, try the examples from that case. What do you observe?"
   ]
  },
  {
   "cell_type": "code",
   "execution_count": 99,
   "metadata": {
    "id": "AJ3eSVbC3yDp",
    "pycharm": {
     "is_executing": true,
     "name": "#%%\n"
    }
   },
   "outputs": [
    {
     "name": "stdout",
     "output_type": "stream",
     "text": [
      "\n",
      "Query: \"volcano erupted\"\n",
      "Top 5 similar sentences:\n",
      "\n",
      "Jeff Balser, MD, Ph.D., associate vice chancellor for Research for Vanderbilt University Medical Center, has been named dean of Vanderbilt University School of Medicine.\n",
      "similarity: 0.5852988362312317\n",
      "AD Elite U18 basketball team returns home from the United World Games.\n",
      "similarity: 0.580814778804779\n",
      "An armed robber spent nearly 10 minutes on his knees praying with a clerk at an Indianapolis cheque-cashing business before fleeing with 20 dollars from the register.\n",
      "similarity: 0.5578734278678894\n",
      "Secretary Information Pakistan Muslim League Ahsan Iqbal has said the charge sheet against President Musharraf would comprise hundreds of pages.\n",
      "similarity: 0.5544740557670593\n",
      "While the latest round of UN climate change talks is going on in Spain on Nov. 2-6, Yve de Boer, the UN climate chief, said on Tuesday that the Kyoto Protocol needed to continue and industrialized countries should come up with more ambitious targets on emission reduction under the protocol.\n",
      "similarity: 0.5540874004364014\n",
      "Telecommunications equipment provider Orckit Communications has received a purchase order and immediate deployment for its CM-4000 products from Alphion, for deployment in BSNL through ITI.\n",
      "similarity: 0.5503554940223694\n",
      "The Kansas Jayhawks in part two of their Europe trip defeated the Switzerland National Team, 83-79 on Wednesday.\n",
      "similarity: 0.5499632954597473\n",
      "A decision on a proposed gravel pit near the Fox Creek Elementary School may come in April, said the chairman of the McLean County Zoning Board of Appeals.\n",
      "similarity: 0.5471692681312561\n",
      "At last the Tampa Bay Rays have signed experienced infielder Jeff Keppinger to a one year worth $1.525 million deal after a long conversation scuffle with several inside executives who were reluctant to add an infielder for 2012.\n",
      "similarity: 0.5463134050369263\n",
      "QPR boss Jim Magilton said his side lacked a cutting edge today as they lost 2-0 against Swansea City at the Liberty Stadium.\n",
      "similarity: 0.5458303689956665\n"
     ]
    }
   ],
   "source": [
    "#### YOUR CODE HERE\n",
    "\n",
    "query = \"volcano erupted\"\n",
    "\n",
    "query_embedding = embed_query(query, calculate_sentence_embeddings)\n",
    "\n",
    "query_similarity = cosine_similarity_1_to_n(query_embedding[0], sentence_embeddings)\n",
    "\n",
    "top_indices = top_k_indices(query_similarity, k=10).tolist()\n",
    "\n",
    "print(f\"\\nQuery: \\\"{query}\\\"\\nTop 5 similar sentences:\\n\")\n",
    "for idx in top_indices:\n",
    "    print(split_ds['test'][idx]['sentence'])\n",
    "    print(f'similarity: {query_similarity[idx]}')\n",
    "\n",
    "### YOUR CODE ENDS HERE"
   ]
  },
  {
   "cell_type": "markdown",
   "metadata": {
    "id": "RxgU8y2T3yDq",
    "pycharm": {
     "name": "#%% md\n"
    }
   },
   "source": [
    "## 5. Evaluating Retrieval\n",
    "\n",
    "In this section (as with the previous lab) we will try to evaluate how good our sentence retrieval system is. To keep the computational resources manageable, we will use the test set for that as its size is more manageable.\n",
    "\n",
    "Recall from the lecture in IR that there are several metrics to evaluate retrieval performance by taking into account the relevance of the retrieved results to the query. We will use Recall@K here (for more metrics and more details refer to the lecture slides and the textbooks).\n",
    "\n",
    "RRecall@K is a metric used to measure the effectiveness of a search system in retrieving relevant documents within the top $K$ retrieved documents. It calculates the proportion of relevant documents retrieved within the top-$K$ results, compared to the total number of relevant documents in the collection.\n",
    "\n",
    "$\n",
    "\\text{Recall@K} = \\frac{\\text{Number of relevant documents retrieved in the top }-K}{\\text{Total number of relevant documents}}\n",
    "$\n",
    "\n",
    "In our case, we have a sentence, and it's compressed version. To test our system, we will treat compressed sentences as the queries. Each query will have only a single relevant sentence - the corresponding uncompressed sentence.\n",
    "\n",
    "Therefore, for the calculation of Recall@K we will take into account whether the correct retrieved result is contained within the first $K$ retrieved results. For example, if for a query (i.e. a compressed sentence) we retrieve 10 results and within these we see the relevant one (i.e. the full sentence), then Recall@10 = 1."
   ]
  },
  {
   "cell_type": "markdown",
   "metadata": {
    "id": "5ObAro533yDq",
    "pycharm": {
     "name": "#%% md\n"
    }
   },
   "source": [
    "<a name='e12'></a>\n",
    "### Exercise 12 Cosine similarity m to n in PyTorch\n",
    "\n",
    "(3p) In this exercise you will revisit your implementation of the cosine siliarity. Generalize it so that it can accept two PyTorch tensors containing two sets of vectors (first one containing $M$ vectors and the second one $N$ vectors). Compute the cosine similarity between each pair of vectors coming from the two sets. The result should be a tensor of size $M x N$.\n",
    "\n",
    "Once again, try to write an efficient code. This means no loops. Remember the relation between matrix multiplication and dot product. (Depending on your implementation of the previous function calculating cosine similarity, this one can be almost the same)"
   ]
  },
  {
   "cell_type": "code",
   "execution_count": null,
   "metadata": {
    "id": "xIRg_LJ33yDq",
    "pycharm": {
     "is_executing": true,
     "name": "#%%\n"
    }
   },
   "outputs": [],
   "source": [
    "def cosine_similarity_m_to_n(vectors, other_vectors):\n",
    "    \"\"\"\n",
    "    Calculates the cosine similarity between a multiple vectors and other vectors.\n",
    "    Args:\n",
    "        vectors: a numpy array representing M number of vectors of D dimensions (of the size MxD)\n",
    "        other_vectors: a 2D numpy array representing other vectors (of the size NxD, where N is the number of vectors and D is their dimension)\n",
    "\n",
    "    Returns: a numpy array of cosine similarity between all the vectors and all the other vectors\n",
    "\n",
    "    \"\"\"\n",
    "\n",
    "    #### YOUR CODE HERE\n",
    "\n",
    "    vectors_norm = vectors / (vectors.norm(dim=1, keepdim=True) + 1e-10)\n",
    "    other_vectors_norm = other_vectors / (other_vectors.norm(dim=1, keepdim=True) + 1e-10)\n",
    "\n",
    "    similarity = torch.matmul(vectors_norm, other_vectors_norm.T)\n",
    "\n",
    "    return similarity\n",
    "\n",
    "    ### YOUR CODE ENDS HERE"
   ]
  },
  {
   "cell_type": "markdown",
   "metadata": {
    "id": "3-gi2wOb3yDr",
    "pycharm": {
     "name": "#%% md\n"
    }
   },
   "source": [
    "The following function will use your implementation to calculate Recall@K based on the similarity matrix."
   ]
  },
  {
   "cell_type": "code",
   "execution_count": 60,
   "metadata": {
    "id": "WUj3q52j3yDr",
    "pycharm": {
     "is_executing": true,
     "name": "#%%\n"
    }
   },
   "outputs": [],
   "source": [
    "def calculate_recall(queries, sentences, k, batch_size=1000):\n",
    "    \"\"\"\n",
    "    Calculates recall@k given the embeddings of the queries and sentences.\n",
    "    Assumes that only a single sentence with the same index as query is relevant.\n",
    "    Batching is implemented to avoid high memory usage.\n",
    "    Args:\n",
    "        queries: a numpy array with the embeddings of N queries\n",
    "        sentences: a numpy array with the embeddings of N sentences available for retrieval\n",
    "        k: number of top results to search for the relevant sentence\n",
    "        batch_size: number of queries to process at a time\n",
    "\n",
    "    Returns: calculated recall@k\n",
    "\n",
    "    \"\"\"\n",
    "    n_queries = queries.shape[0]\n",
    "    correct = np.zeros(n_queries, dtype=bool)\n",
    "\n",
    "    with tqdm.tqdm(total=n_queries) as pbar:\n",
    "        for batch_start in range(0, n_queries, batch_size):\n",
    "            batch_end = min(batch_start + batch_size, n_queries)\n",
    "            queries_batch = queries[batch_start:batch_end]\n",
    "            batch_similarity = cosine_similarity_m_to_n(queries_batch, sentences)\n",
    "\n",
    "            for i, similarity_row in enumerate(batch_similarity):\n",
    "                query_index = batch_start + i\n",
    "                top_k = top_k_indices(similarity_row, k=k, sorted=False)\n",
    "\n",
    "                if query_index in top_k:\n",
    "                    correct[query_index] = True\n",
    "\n",
    "                pbar.update(1)\n",
    "\n",
    "    recall = np.sum(correct) / n_queries\n",
    "    return recall"
   ]
  },
  {
   "cell_type": "markdown",
   "metadata": {
    "id": "DgOO6fUg3yDr",
    "pycharm": {
     "name": "#%% md\n"
    }
   },
   "source": [
    "You can use it like so:"
   ]
  },
  {
   "cell_type": "code",
   "execution_count": 61,
   "metadata": {
    "colab": {
     "base_uri": "https://localhost:8080/"
    },
    "executionInfo": {
     "elapsed": 40386,
     "status": "ok",
     "timestamp": 1715953380116,
     "user": {
      "displayName": "Jerry Spanakis",
      "userId": "13596299027111238536"
     },
     "user_tz": -60
    },
    "id": "7oDWTt233yDr",
    "outputId": "384ca33e-d540-4ff5-f214-211140ba688f",
    "pycharm": {
     "is_executing": true,
     "name": "#%%\n"
    }
   },
   "outputs": [
    {
     "name": "stderr",
     "output_type": "stream",
     "text": [
      "100%|██████████| 5000/5000 [00:00<00:00, 11385.32it/s]"
     ]
    },
    {
     "name": "stdout",
     "output_type": "stream",
     "text": [
      "\n",
      "61.28%\n"
     ]
    },
    {
     "name": "stderr",
     "output_type": "stream",
     "text": [
      "\n"
     ]
    }
   ],
   "source": [
    "recall_at_1 = calculate_recall(compressed_embeddings, sentence_embeddings, k=1, batch_size=1000)\n",
    "print(f'\\n{recall_at_1 * 100:.2f}%')"
   ]
  },
  {
   "cell_type": "markdown",
   "metadata": {
    "id": "XKe8Tsvx3yDr",
    "pycharm": {
     "name": "#%% md\n"
    }
   },
   "source": [
    "<a name='e13'></a>\n",
    "### Exercise 13 Recal for different k-s\n",
    "\n",
    "Calculate recall for different values of $K$ (at least 5 different values). Comment on how recall changes based on the value of $K$. Are the results expected or surprising? At this stage, do not experiment further. That will come in the next Sections which are more open ended."
   ]
  },
  {
   "cell_type": "code",
   "execution_count": 64,
   "metadata": {
    "id": "22J3z8p33yDr",
    "pycharm": {
     "is_executing": true,
     "name": "#%%\n"
    }
   },
   "outputs": [
    {
     "name": "stderr",
     "output_type": "stream",
     "text": [
      "100%|██████████| 5000/5000 [00:00<00:00, 12918.52it/s]\n"
     ]
    },
    {
     "name": "stdout",
     "output_type": "stream",
     "text": [
      "Recall at 1: 61.28%\n"
     ]
    },
    {
     "name": "stderr",
     "output_type": "stream",
     "text": [
      "100%|██████████| 5000/5000 [00:00<00:00, 9206.14it/s]\n"
     ]
    },
    {
     "name": "stdout",
     "output_type": "stream",
     "text": [
      "Recall at 3: 74.28%\n"
     ]
    },
    {
     "name": "stderr",
     "output_type": "stream",
     "text": [
      "100%|██████████| 5000/5000 [00:00<00:00, 8590.14it/s]\n"
     ]
    },
    {
     "name": "stdout",
     "output_type": "stream",
     "text": [
      "Recall at 5: 79.30%\n"
     ]
    },
    {
     "name": "stderr",
     "output_type": "stream",
     "text": [
      "100%|██████████| 5000/5000 [00:00<00:00, 9784.51it/s]\n"
     ]
    },
    {
     "name": "stdout",
     "output_type": "stream",
     "text": [
      "Recall at 10: 84.76%\n"
     ]
    },
    {
     "name": "stderr",
     "output_type": "stream",
     "text": [
      "100%|██████████| 5000/5000 [00:00<00:00, 8618.60it/s]\n"
     ]
    },
    {
     "name": "stdout",
     "output_type": "stream",
     "text": [
      "Recall at 20: 89.00%\n"
     ]
    },
    {
     "name": "stderr",
     "output_type": "stream",
     "text": [
      "100%|██████████| 5000/5000 [00:00<00:00, 9053.10it/s]"
     ]
    },
    {
     "name": "stdout",
     "output_type": "stream",
     "text": [
      "Recall at 50: 93.46%\n"
     ]
    },
    {
     "name": "stderr",
     "output_type": "stream",
     "text": [
      "\n"
     ]
    }
   ],
   "source": [
    "#### YOUR CODE HERE\n",
    "\n",
    "ks = [1, 3, 5, 10, 20, 50]\n",
    "recalls = {}\n",
    "\n",
    "for k in ks:\n",
    "    recall = calculate_recall(compressed_embeddings, sentence_embeddings, k=k)\n",
    "    recalls[k] = recall\n",
    "    print(f\"Recall at {k}: {recall * 100:.2f}%\")\n",
    "\n",
    "### YOUR CODE ENDS HERE"
   ]
  },
  {
   "cell_type": "markdown",
   "metadata": {
    "id": "tz4rt1jI3yDr",
    "pycharm": {
     "name": "#%% md\n"
    }
   },
   "source": [
    "## 6. Pushing the performance: Modifying the sentence embeddings\n"
   ]
  },
  {
   "cell_type": "markdown",
   "metadata": {
    "id": "BL1wOwP2K1k0",
    "pycharm": {
     "name": "#%% md\n"
    }
   },
   "source": [
    "<a name='e14'></a>\n",
    "### Exercise 14 Different ways of embedding sentences\n",
    "\n",
    "(10p) Experiment with the way the sentence embedding is calculated and check performance on the task. For example, you can try using the embedding of the `CLS` token or averaging the hidden states of different layer or even averaging the representations of several layers. The choice is yours, but make sure to give a justification of your choice, based on the results and your inspection of the dataset. \n",
    "\n",
    "Inspect the representations of tokens and sentences.\n",
    "\n",
    "Evaluate the modification on the sentence retrieval task."
   ]
  },
  {
   "cell_type": "code",
   "execution_count": null,
   "metadata": {
    "id": "S3WVGggw3yDr",
    "pycharm": {
     "is_executing": true,
     "name": "#%%\n"
    }
   },
   "outputs": [],
   "source": [
    "#### YOUR CODE HERE\n",
    "\n",
    "\n",
    "\n",
    "\n",
    "### YOUR CODE ENDS HERE"
   ]
  },
  {
   "cell_type": "markdown",
   "metadata": {
    "id": "hp3VLgoa3yDs",
    "pycharm": {
     "name": "#%% md\n"
    }
   },
   "source": [
    "## Pushing the performance: Trying different models\n",
    "\n"
   ]
  },
  {
   "cell_type": "markdown",
   "metadata": {
    "id": "x4mA3r7rLbCt",
    "pycharm": {
     "name": "#%% md\n"
    }
   },
   "source": [
    "<a name='e15'></a>\n",
    "### Exercise 15 Different model\n",
    "\n",
    "(15p) In this exercise you are asked to try other BERT-like model from huggingface. You can consider the MSMARCO model [here](https://huggingface.co/sentence-transformers/msmarco-bert-base-dot-v5). Make sure to read the model card on the huggingface website in order to understand how to use it. You don't need to install `sentence-transformers`.\n",
    "\n",
    "As before, inspect the the representations of tokens and sentences. \n",
    "\n",
    "Evaluate the model on sentence retrieval."
   ]
  },
  {
   "cell_type": "code",
   "execution_count": null,
   "metadata": {
    "colab": {
     "base_uri": "https://localhost:8080/",
     "height": 941,
     "referenced_widgets": [
      "76839f5dbd8548cdaa0219ebfaa3d28c",
      "62162fedbfd046a08a3fabae1d112829",
      "1b1b7dd804b740e399ea4fa554ac0dfd",
      "ba9677b6941a4643b22a1d9d55c4906d",
      "613cd2dfb25f43ad862765b05db6f281",
      "955e3526e31f4215b1b7c787c0a2e383",
      "6fd9b9de51d244c59078c1a02ff252c3",
      "03529cffb70449e8b06243b39c73c729",
      "4401ade5390a44008925aa73e1af7a7f",
      "4773cde69ced4dc780878d2e3a8d3ecc",
      "241a1c8fce35450092ac0d6e5dacabe8",
      "cfd89f9f2037434d88a73b3736e02da3",
      "76f2cc947c2d4cf285892321edeed86e",
      "20b299273e494603a2c321bebd6ba1c2",
      "3630faf056d446f3a3a052c29c358af8",
      "f965dcdabca8420e9a50ba9b2fdb6b71",
      "b161717e21c54352b6a990f7b42deace",
      "d563ce1f3738490690352eaa277ea3ec",
      "3585c35b03a64a41b9ff37cde2b83417",
      "6dc84ba180da4d989428c22b0d4afb1d",
      "e48fe1b04eae4ebea7dc2909460bb98c",
      "f9526821ac304f89a35e41f06e9889e2",
      "e99fd863c37240c484a6ab1f516e1441",
      "a0390c18189649909bbaa71613fb4616",
      "d1e65f34f1764ac6acd7f313bb1ab5b1",
      "2d58fd8726b84ce4be72fe6f3acf0e55",
      "af31c034197444c5b462be53b8c049de",
      "3616095883d74e41bc35a71d2b28e458",
      "5e2b16aef2e549fbae8083e7b41d1d28",
      "0000147605ad427ebec370ee2cee5abc",
      "348dfa88d84e4e36bab75460a8a1416e",
      "d45c8cba2f0e42379bfcdc8de5a9c737",
      "993a76942fe04d5ab144e47e4287a184",
      "1d9fa9e8268041d8af614cffaea26d5f",
      "767eadee5a2247ef8aa77b1645a2887b",
      "bec343e8a5994fb9a58032c6f9ac8391",
      "ff61719469934ef5bd89720c172a7c07",
      "5e06eb5741e84fafb9239b70aafcff4f",
      "e3e04b01ef5543389e6d54ccf39abfe2",
      "61906e77a907438eb7820a4bbf4aa82d",
      "2b3595e43c5348668b71c096f0778d29",
      "0351a631e740492b822dd1289ca410a9",
      "9515966c35664487a6f6d31189bf662a",
      "d190fe883a36447ab2fc8a35ff132b67",
      "be3375a4730a488fb960ef51fea2fafb",
      "4f2b2d3fcf3b42ce86a99f3fbd80da44",
      "f1345c8c2c09421982ada43ec7e60cdc",
      "729627842d0147d0aa0466ae7b970b72",
      "a24e281a8a424acb867eddeaf545bd34",
      "f425f3b8bd6a488894b5548e9e0df064",
      "338c2f1421774477bd3e1ff955c5b9ca",
      "76202c412e3240b69cae019793f467bd",
      "0f29845dcac64a87908369cc583f03b1",
      "3cf7cc8eea074f40bcc1c3686550c489",
      "9f1c4557182e4470b288db5a78be3ea9",
      "5ace1f90dccb45c9b19764d1fbfccb8b",
      "3384c2040c4b4c2fafe22ac5e8ed9612",
      "6d54714237ca4fc998bba9a1d7634ec5",
      "7ebbbcd0f5ea47afacbff97527d371dc",
      "6cf61daee29e496e86f8288a23675fec",
      "cfc12ae7949c441688957b6694c48a2b",
      "41522cc42b834dc2b23350c97141e2ae",
      "0cc74bbb637a4c85bb0f96eb4b1d3a91",
      "fc6b32296e4a4f8a9fe0d1b565034572",
      "6a7b77d124554a2cbf1249374312a293",
      "91d3eb11a90944988d2307774cd9aaca"
     ]
    },
    "executionInfo": {
     "elapsed": 9428,
     "status": "ok",
     "timestamp": 1715953625803,
     "user": {
      "displayName": "Jerry Spanakis",
      "userId": "13596299027111238536"
     },
     "user_tz": -60
    },
    "id": "lLQqovEP3yDs",
    "outputId": "3f8aefb0-6e5d-4bef-82d8-ee97231076a4",
    "pycharm": {
     "is_executing": true,
     "name": "#%%\n"
    }
   },
   "outputs": [],
   "source": [
    "#### YOUR CODE HERE\n",
    "\n",
    "\n",
    "\n",
    "\n",
    "### YOUR CODE ENDS HERE"
   ]
  },
  {
   "cell_type": "markdown",
   "metadata": {
    "pycharm": {
     "name": "#%% md\n"
    }
   },
   "source": [
    "### Exercise 16 Comparison between models\n",
    "\n",
    "(10p) Compare the models you used in this lab (and optionally the previous lab if you completed it). Discuss the results and the potential benefits and drawbacks of each method."
   ]
  },
  {
   "cell_type": "code",
   "execution_count": null,
   "metadata": {
    "pycharm": {
     "name": "#%%\n"
    }
   },
   "outputs": [],
   "source": [
    "#### YOUR CODE HERE\n",
    "\n",
    "\n",
    "\n",
    "\n",
    "### YOUR CODE ENDS HERE"
   ]
  }
 ],
 "metadata": {
  "accelerator": "GPU",
  "colab": {
   "gpuType": "T4",
   "provenance": [
    {
     "file_id": "1z8eZfh-MR0oYw1j0vetki8Tus02oyo0h",
     "timestamp": 1716293955500
    }
   ],
   "toc_visible": true
  },
  "kernelspec": {
   "display_name": "base",
   "language": "python",
   "name": "python3"
  },
  "language_info": {
   "codemirror_mode": {
    "name": "ipython",
    "version": 3
   },
   "file_extension": ".py",
   "mimetype": "text/x-python",
   "name": "python",
   "nbconvert_exporter": "python",
   "pygments_lexer": "ipython3",
   "version": "3.9.13"
  },
  "widgets": {
   "application/vnd.jupyter.widget-state+json": {
    "0000147605ad427ebec370ee2cee5abc": {
     "model_module": "@jupyter-widgets/base",
     "model_module_version": "1.2.0",
     "model_name": "LayoutModel",
     "state": {
      "_model_module": "@jupyter-widgets/base",
      "_model_module_version": "1.2.0",
      "_model_name": "LayoutModel",
      "_view_count": null,
      "_view_module": "@jupyter-widgets/base",
      "_view_module_version": "1.2.0",
      "_view_name": "LayoutView",
      "align_content": null,
      "align_items": null,
      "align_self": null,
      "border": null,
      "bottom": null,
      "display": null,
      "flex": null,
      "flex_flow": null,
      "grid_area": null,
      "grid_auto_columns": null,
      "grid_auto_flow": null,
      "grid_auto_rows": null,
      "grid_column": null,
      "grid_gap": null,
      "grid_row": null,
      "grid_template_areas": null,
      "grid_template_columns": null,
      "grid_template_rows": null,
      "height": null,
      "justify_content": null,
      "justify_items": null,
      "left": null,
      "margin": null,
      "max_height": null,
      "max_width": null,
      "min_height": null,
      "min_width": null,
      "object_fit": null,
      "object_position": null,
      "order": null,
      "overflow": null,
      "overflow_x": null,
      "overflow_y": null,
      "padding": null,
      "right": null,
      "top": null,
      "visibility": null,
      "width": null
     }
    },
    "025224eb1c3b464c93fdd6d69a70ac5d": {
     "model_module": "@jupyter-widgets/controls",
     "model_module_version": "1.5.0",
     "model_name": "FloatProgressModel",
     "state": {
      "_dom_classes": [],
      "_model_module": "@jupyter-widgets/controls",
      "_model_module_version": "1.5.0",
      "_model_name": "FloatProgressModel",
      "_view_count": null,
      "_view_module": "@jupyter-widgets/controls",
      "_view_module_version": "1.5.0",
      "_view_name": "ProgressView",
      "bar_style": "success",
      "description": "",
      "description_tooltip": null,
      "layout": "IPY_MODEL_66cc1ff2aea34278ad912ac4ddb349e1",
      "max": 36000,
      "min": 0,
      "orientation": "horizontal",
      "style": "IPY_MODEL_6fb817f920a045d6a4398e077f42c057",
      "value": 36000
     }
    },
    "0351a631e740492b822dd1289ca410a9": {
     "model_module": "@jupyter-widgets/controls",
     "model_module_version": "1.5.0",
     "model_name": "ProgressStyleModel",
     "state": {
      "_model_module": "@jupyter-widgets/controls",
      "_model_module_version": "1.5.0",
      "_model_name": "ProgressStyleModel",
      "_view_count": null,
      "_view_module": "@jupyter-widgets/base",
      "_view_module_version": "1.2.0",
      "_view_name": "StyleView",
      "bar_color": null,
      "description_width": ""
     }
    },
    "03529cffb70449e8b06243b39c73c729": {
     "model_module": "@jupyter-widgets/base",
     "model_module_version": "1.2.0",
     "model_name": "LayoutModel",
     "state": {
      "_model_module": "@jupyter-widgets/base",
      "_model_module_version": "1.2.0",
      "_model_name": "LayoutModel",
      "_view_count": null,
      "_view_module": "@jupyter-widgets/base",
      "_view_module_version": "1.2.0",
      "_view_name": "LayoutView",
      "align_content": null,
      "align_items": null,
      "align_self": null,
      "border": null,
      "bottom": null,
      "display": null,
      "flex": null,
      "flex_flow": null,
      "grid_area": null,
      "grid_auto_columns": null,
      "grid_auto_flow": null,
      "grid_auto_rows": null,
      "grid_column": null,
      "grid_gap": null,
      "grid_row": null,
      "grid_template_areas": null,
      "grid_template_columns": null,
      "grid_template_rows": null,
      "height": null,
      "justify_content": null,
      "justify_items": null,
      "left": null,
      "margin": null,
      "max_height": null,
      "max_width": null,
      "min_height": null,
      "min_width": null,
      "object_fit": null,
      "object_position": null,
      "order": null,
      "overflow": null,
      "overflow_x": null,
      "overflow_y": null,
      "padding": null,
      "right": null,
      "top": null,
      "visibility": null,
      "width": null
     }
    },
    "05bfaf0a12bb473389f23a34025e8128": {
     "model_module": "@jupyter-widgets/controls",
     "model_module_version": "1.5.0",
     "model_name": "FloatProgressModel",
     "state": {
      "_dom_classes": [],
      "_model_module": "@jupyter-widgets/controls",
      "_model_module_version": "1.5.0",
      "_model_name": "FloatProgressModel",
      "_view_count": null,
      "_view_module": "@jupyter-widgets/controls",
      "_view_module_version": "1.5.0",
      "_view_name": "ProgressView",
      "bar_style": "success",
      "description": "",
      "description_tooltip": null,
      "layout": "IPY_MODEL_8168252d96c6465a90b70b02bec0f790",
      "max": 14234582,
      "min": 0,
      "orientation": "horizontal",
      "style": "IPY_MODEL_90f33b107b5346e58f62b007a8a1a3a1",
      "value": 14234582
     }
    },
    "064b773996684706936d612bb141f5a4": {
     "model_module": "@jupyter-widgets/base",
     "model_module_version": "1.2.0",
     "model_name": "LayoutModel",
     "state": {
      "_model_module": "@jupyter-widgets/base",
      "_model_module_version": "1.2.0",
      "_model_name": "LayoutModel",
      "_view_count": null,
      "_view_module": "@jupyter-widgets/base",
      "_view_module_version": "1.2.0",
      "_view_name": "LayoutView",
      "align_content": null,
      "align_items": null,
      "align_self": null,
      "border": null,
      "bottom": null,
      "display": null,
      "flex": null,
      "flex_flow": null,
      "grid_area": null,
      "grid_auto_columns": null,
      "grid_auto_flow": null,
      "grid_auto_rows": null,
      "grid_column": null,
      "grid_gap": null,
      "grid_row": null,
      "grid_template_areas": null,
      "grid_template_columns": null,
      "grid_template_rows": null,
      "height": null,
      "justify_content": null,
      "justify_items": null,
      "left": null,
      "margin": null,
      "max_height": null,
      "max_width": null,
      "min_height": null,
      "min_width": null,
      "object_fit": null,
      "object_position": null,
      "order": null,
      "overflow": null,
      "overflow_x": null,
      "overflow_y": null,
      "padding": null,
      "right": null,
      "top": null,
      "visibility": null,
      "width": null
     }
    },
    "06d3220f320741b89b0ace2767b7135c": {
     "model_module": "@jupyter-widgets/controls",
     "model_module_version": "1.5.0",
     "model_name": "FloatProgressModel",
     "state": {
      "_dom_classes": [],
      "_model_module": "@jupyter-widgets/controls",
      "_model_module_version": "1.5.0",
      "_model_name": "FloatProgressModel",
      "_view_count": null,
      "_view_module": "@jupyter-widgets/controls",
      "_view_module_version": "1.5.0",
      "_view_name": "ProgressView",
      "bar_style": "success",
      "description": "",
      "description_tooltip": null,
      "layout": "IPY_MODEL_7cdf6a78d178435f8daaea0e7d3e9a45",
      "max": 144000,
      "min": 0,
      "orientation": "horizontal",
      "style": "IPY_MODEL_a18ba5fa563e4889b7973feb676086cf",
      "value": 144000
     }
    },
    "07340049c519479db86c4f651bf45a4a": {
     "model_module": "@jupyter-widgets/controls",
     "model_module_version": "1.5.0",
     "model_name": "HBoxModel",
     "state": {
      "_dom_classes": [],
      "_model_module": "@jupyter-widgets/controls",
      "_model_module_version": "1.5.0",
      "_model_name": "HBoxModel",
      "_view_count": null,
      "_view_module": "@jupyter-widgets/controls",
      "_view_module_version": "1.5.0",
      "_view_name": "HBoxView",
      "box_style": "",
      "children": [
       "IPY_MODEL_fd16849a5e794eb789818fbce62a2df1",
       "IPY_MODEL_86b2a836173c476ebc7e0045b9f604fb",
       "IPY_MODEL_588327a81f444e41b45c473626155e70"
      ],
      "layout": "IPY_MODEL_3f5bfb339bba46339ca3cf702953f084"
     }
    },
    "077a59d8e17e413db662de4251ab855c": {
     "model_module": "@jupyter-widgets/base",
     "model_module_version": "1.2.0",
     "model_name": "LayoutModel",
     "state": {
      "_model_module": "@jupyter-widgets/base",
      "_model_module_version": "1.2.0",
      "_model_name": "LayoutModel",
      "_view_count": null,
      "_view_module": "@jupyter-widgets/base",
      "_view_module_version": "1.2.0",
      "_view_name": "LayoutView",
      "align_content": null,
      "align_items": null,
      "align_self": null,
      "border": null,
      "bottom": null,
      "display": null,
      "flex": null,
      "flex_flow": null,
      "grid_area": null,
      "grid_auto_columns": null,
      "grid_auto_flow": null,
      "grid_auto_rows": null,
      "grid_column": null,
      "grid_gap": null,
      "grid_row": null,
      "grid_template_areas": null,
      "grid_template_columns": null,
      "grid_template_rows": null,
      "height": null,
      "justify_content": null,
      "justify_items": null,
      "left": null,
      "margin": null,
      "max_height": null,
      "max_width": null,
      "min_height": null,
      "min_width": null,
      "object_fit": null,
      "object_position": null,
      "order": null,
      "overflow": null,
      "overflow_x": null,
      "overflow_y": null,
      "padding": null,
      "right": null,
      "top": null,
      "visibility": null,
      "width": null
     }
    },
    "07e3c49c991f44b6bf59f784bd0e210e": {
     "model_module": "@jupyter-widgets/base",
     "model_module_version": "1.2.0",
     "model_name": "LayoutModel",
     "state": {
      "_model_module": "@jupyter-widgets/base",
      "_model_module_version": "1.2.0",
      "_model_name": "LayoutModel",
      "_view_count": null,
      "_view_module": "@jupyter-widgets/base",
      "_view_module_version": "1.2.0",
      "_view_name": "LayoutView",
      "align_content": null,
      "align_items": null,
      "align_self": null,
      "border": null,
      "bottom": null,
      "display": null,
      "flex": null,
      "flex_flow": null,
      "grid_area": null,
      "grid_auto_columns": null,
      "grid_auto_flow": null,
      "grid_auto_rows": null,
      "grid_column": null,
      "grid_gap": null,
      "grid_row": null,
      "grid_template_areas": null,
      "grid_template_columns": null,
      "grid_template_rows": null,
      "height": null,
      "justify_content": null,
      "justify_items": null,
      "left": null,
      "margin": null,
      "max_height": null,
      "max_width": null,
      "min_height": null,
      "min_width": null,
      "object_fit": null,
      "object_position": null,
      "order": null,
      "overflow": null,
      "overflow_x": null,
      "overflow_y": null,
      "padding": null,
      "right": null,
      "top": null,
      "visibility": null,
      "width": null
     }
    },
    "099b36cb3bc8493c80fc7ab3ed5adfd5": {
     "model_module": "@jupyter-widgets/controls",
     "model_module_version": "1.5.0",
     "model_name": "DescriptionStyleModel",
     "state": {
      "_model_module": "@jupyter-widgets/controls",
      "_model_module_version": "1.5.0",
      "_model_name": "DescriptionStyleModel",
      "_view_count": null,
      "_view_module": "@jupyter-widgets/base",
      "_view_module_version": "1.2.0",
      "_view_name": "StyleView",
      "description_width": ""
     }
    },
    "0cc74bbb637a4c85bb0f96eb4b1d3a91": {
     "model_module": "@jupyter-widgets/base",
     "model_module_version": "1.2.0",
     "model_name": "LayoutModel",
     "state": {
      "_model_module": "@jupyter-widgets/base",
      "_model_module_version": "1.2.0",
      "_model_name": "LayoutModel",
      "_view_count": null,
      "_view_module": "@jupyter-widgets/base",
      "_view_module_version": "1.2.0",
      "_view_name": "LayoutView",
      "align_content": null,
      "align_items": null,
      "align_self": null,
      "border": null,
      "bottom": null,
      "display": null,
      "flex": null,
      "flex_flow": null,
      "grid_area": null,
      "grid_auto_columns": null,
      "grid_auto_flow": null,
      "grid_auto_rows": null,
      "grid_column": null,
      "grid_gap": null,
      "grid_row": null,
      "grid_template_areas": null,
      "grid_template_columns": null,
      "grid_template_rows": null,
      "height": null,
      "justify_content": null,
      "justify_items": null,
      "left": null,
      "margin": null,
      "max_height": null,
      "max_width": null,
      "min_height": null,
      "min_width": null,
      "object_fit": null,
      "object_position": null,
      "order": null,
      "overflow": null,
      "overflow_x": null,
      "overflow_y": null,
      "padding": null,
      "right": null,
      "top": null,
      "visibility": null,
      "width": null
     }
    },
    "0d628966116c48d486abe305d4c8f33f": {
     "model_module": "@jupyter-widgets/controls",
     "model_module_version": "1.5.0",
     "model_name": "HTMLModel",
     "state": {
      "_dom_classes": [],
      "_model_module": "@jupyter-widgets/controls",
      "_model_module_version": "1.5.0",
      "_model_name": "HTMLModel",
      "_view_count": null,
      "_view_module": "@jupyter-widgets/controls",
      "_view_module_version": "1.5.0",
      "_view_name": "HTMLView",
      "description": "",
      "description_tooltip": null,
      "layout": "IPY_MODEL_d0d932b5dccc42a7858e9df2dace2df3",
      "placeholder": "​",
      "style": "IPY_MODEL_4bb5d569677b40a08ed7e4b0b624b82b",
      "value": " 144000/144000 [00:01&lt;00:00, 106652.30 examples/s]"
     }
    },
    "0de01b53583a426fb3fe931dfae14c9f": {
     "model_module": "@jupyter-widgets/controls",
     "model_module_version": "1.5.0",
     "model_name": "DescriptionStyleModel",
     "state": {
      "_model_module": "@jupyter-widgets/controls",
      "_model_module_version": "1.5.0",
      "_model_name": "DescriptionStyleModel",
      "_view_count": null,
      "_view_module": "@jupyter-widgets/base",
      "_view_module_version": "1.2.0",
      "_view_name": "StyleView",
      "description_width": ""
     }
    },
    "0f29845dcac64a87908369cc583f03b1": {
     "model_module": "@jupyter-widgets/controls",
     "model_module_version": "1.5.0",
     "model_name": "ProgressStyleModel",
     "state": {
      "_model_module": "@jupyter-widgets/controls",
      "_model_module_version": "1.5.0",
      "_model_name": "ProgressStyleModel",
      "_view_count": null,
      "_view_module": "@jupyter-widgets/base",
      "_view_module_version": "1.2.0",
      "_view_name": "StyleView",
      "bar_color": null,
      "description_width": ""
     }
    },
    "0f50481b895f4c2abc6cfc273db15a7a": {
     "model_module": "@jupyter-widgets/base",
     "model_module_version": "1.2.0",
     "model_name": "LayoutModel",
     "state": {
      "_model_module": "@jupyter-widgets/base",
      "_model_module_version": "1.2.0",
      "_model_name": "LayoutModel",
      "_view_count": null,
      "_view_module": "@jupyter-widgets/base",
      "_view_module_version": "1.2.0",
      "_view_name": "LayoutView",
      "align_content": null,
      "align_items": null,
      "align_self": null,
      "border": null,
      "bottom": null,
      "display": null,
      "flex": null,
      "flex_flow": null,
      "grid_area": null,
      "grid_auto_columns": null,
      "grid_auto_flow": null,
      "grid_auto_rows": null,
      "grid_column": null,
      "grid_gap": null,
      "grid_row": null,
      "grid_template_areas": null,
      "grid_template_columns": null,
      "grid_template_rows": null,
      "height": null,
      "justify_content": null,
      "justify_items": null,
      "left": null,
      "margin": null,
      "max_height": null,
      "max_width": null,
      "min_height": null,
      "min_width": null,
      "object_fit": null,
      "object_position": null,
      "order": null,
      "overflow": null,
      "overflow_x": null,
      "overflow_y": null,
      "padding": null,
      "right": null,
      "top": null,
      "visibility": null,
      "width": null
     }
    },
    "10b6124e38ca42e18f4380bcf86266ec": {
     "model_module": "@jupyter-widgets/controls",
     "model_module_version": "1.5.0",
     "model_name": "ProgressStyleModel",
     "state": {
      "_model_module": "@jupyter-widgets/controls",
      "_model_module_version": "1.5.0",
      "_model_name": "ProgressStyleModel",
      "_view_count": null,
      "_view_module": "@jupyter-widgets/base",
      "_view_module_version": "1.2.0",
      "_view_name": "StyleView",
      "bar_color": null,
      "description_width": ""
     }
    },
    "1265ae61891b4e4e9c0bb556c8580626": {
     "model_module": "@jupyter-widgets/controls",
     "model_module_version": "1.5.0",
     "model_name": "ProgressStyleModel",
     "state": {
      "_model_module": "@jupyter-widgets/controls",
      "_model_module_version": "1.5.0",
      "_model_name": "ProgressStyleModel",
      "_view_count": null,
      "_view_module": "@jupyter-widgets/base",
      "_view_module_version": "1.2.0",
      "_view_name": "StyleView",
      "bar_color": null,
      "description_width": ""
     }
    },
    "1315a9b8fed548afbc2ea604db980e22": {
     "model_module": "@jupyter-widgets/controls",
     "model_module_version": "1.5.0",
     "model_name": "ProgressStyleModel",
     "state": {
      "_model_module": "@jupyter-widgets/controls",
      "_model_module_version": "1.5.0",
      "_model_name": "ProgressStyleModel",
      "_view_count": null,
      "_view_module": "@jupyter-widgets/base",
      "_view_module_version": "1.2.0",
      "_view_name": "StyleView",
      "bar_color": null,
      "description_width": ""
     }
    },
    "13d3a54468b0496ba05cd0eb5ff9a89c": {
     "model_module": "@jupyter-widgets/controls",
     "model_module_version": "1.5.0",
     "model_name": "DescriptionStyleModel",
     "state": {
      "_model_module": "@jupyter-widgets/controls",
      "_model_module_version": "1.5.0",
      "_model_name": "DescriptionStyleModel",
      "_view_count": null,
      "_view_module": "@jupyter-widgets/base",
      "_view_module_version": "1.2.0",
      "_view_name": "StyleView",
      "description_width": ""
     }
    },
    "1651484f24ef411688ba44e32b84e0d9": {
     "model_module": "@jupyter-widgets/controls",
     "model_module_version": "1.5.0",
     "model_name": "HTMLModel",
     "state": {
      "_dom_classes": [],
      "_model_module": "@jupyter-widgets/controls",
      "_model_module_version": "1.5.0",
      "_model_name": "HTMLModel",
      "_view_count": null,
      "_view_module": "@jupyter-widgets/controls",
      "_view_module_version": "1.5.0",
      "_view_name": "HTMLView",
      "description": "",
      "description_tooltip": null,
      "layout": "IPY_MODEL_cea9d628ae8447338a078d3dda36fe85",
      "placeholder": "​",
      "style": "IPY_MODEL_6cbce0d1a41f49e2aacf72f6a49fd22a",
      "value": " 48.0/48.0 [00:00&lt;00:00, 3.07kB/s]"
     }
    },
    "187a62019d954d1c80f661a11c169b90": {
     "model_module": "@jupyter-widgets/controls",
     "model_module_version": "1.5.0",
     "model_name": "DescriptionStyleModel",
     "state": {
      "_model_module": "@jupyter-widgets/controls",
      "_model_module_version": "1.5.0",
      "_model_name": "DescriptionStyleModel",
      "_view_count": null,
      "_view_module": "@jupyter-widgets/base",
      "_view_module_version": "1.2.0",
      "_view_name": "StyleView",
      "description_width": ""
     }
    },
    "1b1b7dd804b740e399ea4fa554ac0dfd": {
     "model_module": "@jupyter-widgets/controls",
     "model_module_version": "1.5.0",
     "model_name": "FloatProgressModel",
     "state": {
      "_dom_classes": [],
      "_model_module": "@jupyter-widgets/controls",
      "_model_module_version": "1.5.0",
      "_model_name": "FloatProgressModel",
      "_view_count": null,
      "_view_module": "@jupyter-widgets/controls",
      "_view_module_version": "1.5.0",
      "_view_name": "ProgressView",
      "bar_style": "success",
      "description": "",
      "description_tooltip": null,
      "layout": "IPY_MODEL_03529cffb70449e8b06243b39c73c729",
      "max": 461,
      "min": 0,
      "orientation": "horizontal",
      "style": "IPY_MODEL_4401ade5390a44008925aa73e1af7a7f",
      "value": 461
     }
    },
    "1d9fa9e8268041d8af614cffaea26d5f": {
     "model_module": "@jupyter-widgets/controls",
     "model_module_version": "1.5.0",
     "model_name": "HBoxModel",
     "state": {
      "_dom_classes": [],
      "_model_module": "@jupyter-widgets/controls",
      "_model_module_version": "1.5.0",
      "_model_name": "HBoxModel",
      "_view_count": null,
      "_view_module": "@jupyter-widgets/controls",
      "_view_module_version": "1.5.0",
      "_view_name": "HBoxView",
      "box_style": "",
      "children": [
       "IPY_MODEL_767eadee5a2247ef8aa77b1645a2887b",
       "IPY_MODEL_bec343e8a5994fb9a58032c6f9ac8391",
       "IPY_MODEL_ff61719469934ef5bd89720c172a7c07"
      ],
      "layout": "IPY_MODEL_5e06eb5741e84fafb9239b70aafcff4f"
     }
    },
    "1e05430d67ee42d5a23140d0a83a2ee2": {
     "model_module": "@jupyter-widgets/controls",
     "model_module_version": "1.5.0",
     "model_name": "DescriptionStyleModel",
     "state": {
      "_model_module": "@jupyter-widgets/controls",
      "_model_module_version": "1.5.0",
      "_model_name": "DescriptionStyleModel",
      "_view_count": null,
      "_view_module": "@jupyter-widgets/base",
      "_view_module_version": "1.2.0",
      "_view_name": "StyleView",
      "description_width": ""
     }
    },
    "208bef52e3464eb0a73416d3e6fee49a": {
     "model_module": "@jupyter-widgets/base",
     "model_module_version": "1.2.0",
     "model_name": "LayoutModel",
     "state": {
      "_model_module": "@jupyter-widgets/base",
      "_model_module_version": "1.2.0",
      "_model_name": "LayoutModel",
      "_view_count": null,
      "_view_module": "@jupyter-widgets/base",
      "_view_module_version": "1.2.0",
      "_view_name": "LayoutView",
      "align_content": null,
      "align_items": null,
      "align_self": null,
      "border": null,
      "bottom": null,
      "display": null,
      "flex": null,
      "flex_flow": null,
      "grid_area": null,
      "grid_auto_columns": null,
      "grid_auto_flow": null,
      "grid_auto_rows": null,
      "grid_column": null,
      "grid_gap": null,
      "grid_row": null,
      "grid_template_areas": null,
      "grid_template_columns": null,
      "grid_template_rows": null,
      "height": null,
      "justify_content": null,
      "justify_items": null,
      "left": null,
      "margin": null,
      "max_height": null,
      "max_width": null,
      "min_height": null,
      "min_width": null,
      "object_fit": null,
      "object_position": null,
      "order": null,
      "overflow": null,
      "overflow_x": null,
      "overflow_y": null,
      "padding": null,
      "right": null,
      "top": null,
      "visibility": null,
      "width": null
     }
    },
    "20b299273e494603a2c321bebd6ba1c2": {
     "model_module": "@jupyter-widgets/controls",
     "model_module_version": "1.5.0",
     "model_name": "FloatProgressModel",
     "state": {
      "_dom_classes": [],
      "_model_module": "@jupyter-widgets/controls",
      "_model_module_version": "1.5.0",
      "_model_name": "FloatProgressModel",
      "_view_count": null,
      "_view_module": "@jupyter-widgets/controls",
      "_view_module_version": "1.5.0",
      "_view_name": "ProgressView",
      "bar_style": "success",
      "description": "",
      "description_tooltip": null,
      "layout": "IPY_MODEL_3585c35b03a64a41b9ff37cde2b83417",
      "max": 636,
      "min": 0,
      "orientation": "horizontal",
      "style": "IPY_MODEL_6dc84ba180da4d989428c22b0d4afb1d",
      "value": 636
     }
    },
    "21bba906891443fa80e5d10314a14c03": {
     "model_module": "@jupyter-widgets/controls",
     "model_module_version": "1.5.0",
     "model_name": "FloatProgressModel",
     "state": {
      "_dom_classes": [],
      "_model_module": "@jupyter-widgets/controls",
      "_model_module_version": "1.5.0",
      "_model_name": "FloatProgressModel",
      "_view_count": null,
      "_view_module": "@jupyter-widgets/controls",
      "_view_module_version": "1.5.0",
      "_view_name": "ProgressView",
      "bar_style": "success",
      "description": "",
      "description_tooltip": null,
      "layout": "IPY_MODEL_9a7c83903527453eafe9640acdc36290",
      "max": 231508,
      "min": 0,
      "orientation": "horizontal",
      "style": "IPY_MODEL_1265ae61891b4e4e9c0bb556c8580626",
      "value": 231508
     }
    },
    "222e1f2e32e843bb93f856e6196e52f9": {
     "model_module": "@jupyter-widgets/controls",
     "model_module_version": "1.5.0",
     "model_name": "DescriptionStyleModel",
     "state": {
      "_model_module": "@jupyter-widgets/controls",
      "_model_module_version": "1.5.0",
      "_model_name": "DescriptionStyleModel",
      "_view_count": null,
      "_view_module": "@jupyter-widgets/base",
      "_view_module_version": "1.2.0",
      "_view_name": "StyleView",
      "description_width": ""
     }
    },
    "230f00b885ab40f6b2c7b2377f2f1387": {
     "model_module": "@jupyter-widgets/base",
     "model_module_version": "1.2.0",
     "model_name": "LayoutModel",
     "state": {
      "_model_module": "@jupyter-widgets/base",
      "_model_module_version": "1.2.0",
      "_model_name": "LayoutModel",
      "_view_count": null,
      "_view_module": "@jupyter-widgets/base",
      "_view_module_version": "1.2.0",
      "_view_name": "LayoutView",
      "align_content": null,
      "align_items": null,
      "align_self": null,
      "border": null,
      "bottom": null,
      "display": null,
      "flex": null,
      "flex_flow": null,
      "grid_area": null,
      "grid_auto_columns": null,
      "grid_auto_flow": null,
      "grid_auto_rows": null,
      "grid_column": null,
      "grid_gap": null,
      "grid_row": null,
      "grid_template_areas": null,
      "grid_template_columns": null,
      "grid_template_rows": null,
      "height": null,
      "justify_content": null,
      "justify_items": null,
      "left": null,
      "margin": null,
      "max_height": null,
      "max_width": null,
      "min_height": null,
      "min_width": null,
      "object_fit": null,
      "object_position": null,
      "order": null,
      "overflow": null,
      "overflow_x": null,
      "overflow_y": null,
      "padding": null,
      "right": null,
      "top": null,
      "visibility": null,
      "width": null
     }
    },
    "241a1c8fce35450092ac0d6e5dacabe8": {
     "model_module": "@jupyter-widgets/controls",
     "model_module_version": "1.5.0",
     "model_name": "DescriptionStyleModel",
     "state": {
      "_model_module": "@jupyter-widgets/controls",
      "_model_module_version": "1.5.0",
      "_model_name": "DescriptionStyleModel",
      "_view_count": null,
      "_view_module": "@jupyter-widgets/base",
      "_view_module_version": "1.2.0",
      "_view_name": "StyleView",
      "description_width": ""
     }
    },
    "25a0c4f3892f4c959f45a607370756f8": {
     "model_module": "@jupyter-widgets/controls",
     "model_module_version": "1.5.0",
     "model_name": "HTMLModel",
     "state": {
      "_dom_classes": [],
      "_model_module": "@jupyter-widgets/controls",
      "_model_module_version": "1.5.0",
      "_model_name": "HTMLModel",
      "_view_count": null,
      "_view_module": "@jupyter-widgets/controls",
      "_view_module_version": "1.5.0",
      "_view_name": "HTMLView",
      "description": "",
      "description_tooltip": null,
      "layout": "IPY_MODEL_f4fefdbbe5744046b1a4eae670550fd8",
      "placeholder": "​",
      "style": "IPY_MODEL_99d04751ee824986a50a0687cd8c52dd",
      "value": "Downloading readme: 100%"
     }
    },
    "2a01c0fbfe4e460cb9ff5bd73b3c7d21": {
     "model_module": "@jupyter-widgets/base",
     "model_module_version": "1.2.0",
     "model_name": "LayoutModel",
     "state": {
      "_model_module": "@jupyter-widgets/base",
      "_model_module_version": "1.2.0",
      "_model_name": "LayoutModel",
      "_view_count": null,
      "_view_module": "@jupyter-widgets/base",
      "_view_module_version": "1.2.0",
      "_view_name": "LayoutView",
      "align_content": null,
      "align_items": null,
      "align_self": null,
      "border": null,
      "bottom": null,
      "display": null,
      "flex": null,
      "flex_flow": null,
      "grid_area": null,
      "grid_auto_columns": null,
      "grid_auto_flow": null,
      "grid_auto_rows": null,
      "grid_column": null,
      "grid_gap": null,
      "grid_row": null,
      "grid_template_areas": null,
      "grid_template_columns": null,
      "grid_template_rows": null,
      "height": null,
      "justify_content": null,
      "justify_items": null,
      "left": null,
      "margin": null,
      "max_height": null,
      "max_width": null,
      "min_height": null,
      "min_width": null,
      "object_fit": null,
      "object_position": null,
      "order": null,
      "overflow": null,
      "overflow_x": null,
      "overflow_y": null,
      "padding": null,
      "right": null,
      "top": null,
      "visibility": null,
      "width": null
     }
    },
    "2b3595e43c5348668b71c096f0778d29": {
     "model_module": "@jupyter-widgets/base",
     "model_module_version": "1.2.0",
     "model_name": "LayoutModel",
     "state": {
      "_model_module": "@jupyter-widgets/base",
      "_model_module_version": "1.2.0",
      "_model_name": "LayoutModel",
      "_view_count": null,
      "_view_module": "@jupyter-widgets/base",
      "_view_module_version": "1.2.0",
      "_view_name": "LayoutView",
      "align_content": null,
      "align_items": null,
      "align_self": null,
      "border": null,
      "bottom": null,
      "display": null,
      "flex": null,
      "flex_flow": null,
      "grid_area": null,
      "grid_auto_columns": null,
      "grid_auto_flow": null,
      "grid_auto_rows": null,
      "grid_column": null,
      "grid_gap": null,
      "grid_row": null,
      "grid_template_areas": null,
      "grid_template_columns": null,
      "grid_template_rows": null,
      "height": null,
      "justify_content": null,
      "justify_items": null,
      "left": null,
      "margin": null,
      "max_height": null,
      "max_width": null,
      "min_height": null,
      "min_width": null,
      "object_fit": null,
      "object_position": null,
      "order": null,
      "overflow": null,
      "overflow_x": null,
      "overflow_y": null,
      "padding": null,
      "right": null,
      "top": null,
      "visibility": null,
      "width": null
     }
    },
    "2d58fd8726b84ce4be72fe6f3acf0e55": {
     "model_module": "@jupyter-widgets/controls",
     "model_module_version": "1.5.0",
     "model_name": "HTMLModel",
     "state": {
      "_dom_classes": [],
      "_model_module": "@jupyter-widgets/controls",
      "_model_module_version": "1.5.0",
      "_model_name": "HTMLModel",
      "_view_count": null,
      "_view_module": "@jupyter-widgets/controls",
      "_view_module_version": "1.5.0",
      "_view_name": "HTMLView",
      "description": "",
      "description_tooltip": null,
      "layout": "IPY_MODEL_d45c8cba2f0e42379bfcdc8de5a9c737",
      "placeholder": "​",
      "style": "IPY_MODEL_993a76942fe04d5ab144e47e4287a184",
      "value": " 232k/232k [00:00&lt;00:00, 3.50MB/s]"
     }
    },
    "2dd77b23e5534d788c6486f6504f9569": {
     "model_module": "@jupyter-widgets/controls",
     "model_module_version": "1.5.0",
     "model_name": "HBoxModel",
     "state": {
      "_dom_classes": [],
      "_model_module": "@jupyter-widgets/controls",
      "_model_module_version": "1.5.0",
      "_model_name": "HBoxModel",
      "_view_count": null,
      "_view_module": "@jupyter-widgets/controls",
      "_view_module_version": "1.5.0",
      "_view_name": "HBoxView",
      "box_style": "",
      "children": [
       "IPY_MODEL_341eaeafc8a44628bb7eedad73e3b51e",
       "IPY_MODEL_8e7e3aa344184f1b8857cdd920245908",
       "IPY_MODEL_1651484f24ef411688ba44e32b84e0d9"
      ],
      "layout": "IPY_MODEL_3ac84b9200c94245b7f66b863bea569e"
     }
    },
    "2decc3751a0949c886c6fc8b3ea173e2": {
     "model_module": "@jupyter-widgets/controls",
     "model_module_version": "1.5.0",
     "model_name": "HBoxModel",
     "state": {
      "_dom_classes": [],
      "_model_module": "@jupyter-widgets/controls",
      "_model_module_version": "1.5.0",
      "_model_name": "HBoxModel",
      "_view_count": null,
      "_view_module": "@jupyter-widgets/controls",
      "_view_module_version": "1.5.0",
      "_view_name": "HBoxView",
      "box_style": "",
      "children": [
       "IPY_MODEL_87345a68e5074f6b9aad5e6b01e1ba44",
       "IPY_MODEL_06d3220f320741b89b0ace2767b7135c",
       "IPY_MODEL_0d628966116c48d486abe305d4c8f33f"
      ],
      "layout": "IPY_MODEL_77bfa846ca5145aa9c51bf5b024dc749"
     }
    },
    "2eaff81a3892426e96e236c64b54d456": {
     "model_module": "@jupyter-widgets/base",
     "model_module_version": "1.2.0",
     "model_name": "LayoutModel",
     "state": {
      "_model_module": "@jupyter-widgets/base",
      "_model_module_version": "1.2.0",
      "_model_name": "LayoutModel",
      "_view_count": null,
      "_view_module": "@jupyter-widgets/base",
      "_view_module_version": "1.2.0",
      "_view_name": "LayoutView",
      "align_content": null,
      "align_items": null,
      "align_self": null,
      "border": null,
      "bottom": null,
      "display": null,
      "flex": null,
      "flex_flow": null,
      "grid_area": null,
      "grid_auto_columns": null,
      "grid_auto_flow": null,
      "grid_auto_rows": null,
      "grid_column": null,
      "grid_gap": null,
      "grid_row": null,
      "grid_template_areas": null,
      "grid_template_columns": null,
      "grid_template_rows": null,
      "height": null,
      "justify_content": null,
      "justify_items": null,
      "left": null,
      "margin": null,
      "max_height": null,
      "max_width": null,
      "min_height": null,
      "min_width": null,
      "object_fit": null,
      "object_position": null,
      "order": null,
      "overflow": null,
      "overflow_x": null,
      "overflow_y": null,
      "padding": null,
      "right": null,
      "top": null,
      "visibility": null,
      "width": null
     }
    },
    "3384c2040c4b4c2fafe22ac5e8ed9612": {
     "model_module": "@jupyter-widgets/controls",
     "model_module_version": "1.5.0",
     "model_name": "HTMLModel",
     "state": {
      "_dom_classes": [],
      "_model_module": "@jupyter-widgets/controls",
      "_model_module_version": "1.5.0",
      "_model_name": "HTMLModel",
      "_view_count": null,
      "_view_module": "@jupyter-widgets/controls",
      "_view_module_version": "1.5.0",
      "_view_name": "HTMLView",
      "description": "",
      "description_tooltip": null,
      "layout": "IPY_MODEL_cfc12ae7949c441688957b6694c48a2b",
      "placeholder": "​",
      "style": "IPY_MODEL_41522cc42b834dc2b23350c97141e2ae",
      "value": "model.safetensors: 100%"
     }
    },
    "338c2f1421774477bd3e1ff955c5b9ca": {
     "model_module": "@jupyter-widgets/controls",
     "model_module_version": "1.5.0",
     "model_name": "DescriptionStyleModel",
     "state": {
      "_model_module": "@jupyter-widgets/controls",
      "_model_module_version": "1.5.0",
      "_model_name": "DescriptionStyleModel",
      "_view_count": null,
      "_view_module": "@jupyter-widgets/base",
      "_view_module_version": "1.2.0",
      "_view_name": "StyleView",
      "description_width": ""
     }
    },
    "33b3ad0742eb407e8546ca6b22e6379d": {
     "model_module": "@jupyter-widgets/controls",
     "model_module_version": "1.5.0",
     "model_name": "DescriptionStyleModel",
     "state": {
      "_model_module": "@jupyter-widgets/controls",
      "_model_module_version": "1.5.0",
      "_model_name": "DescriptionStyleModel",
      "_view_count": null,
      "_view_module": "@jupyter-widgets/base",
      "_view_module_version": "1.2.0",
      "_view_name": "StyleView",
      "description_width": ""
     }
    },
    "341afcc2621043a884a008e3494c06c1": {
     "model_module": "@jupyter-widgets/controls",
     "model_module_version": "1.5.0",
     "model_name": "HTMLModel",
     "state": {
      "_dom_classes": [],
      "_model_module": "@jupyter-widgets/controls",
      "_model_module_version": "1.5.0",
      "_model_name": "HTMLModel",
      "_view_count": null,
      "_view_module": "@jupyter-widgets/controls",
      "_view_module_version": "1.5.0",
      "_view_name": "HTMLView",
      "description": "",
      "description_tooltip": null,
      "layout": "IPY_MODEL_7e41b22f614949bba1ca1ca823a74dab",
      "placeholder": "​",
      "style": "IPY_MODEL_c6909c4356eb461eaad5f3977011c6ff",
      "value": " 4.88k/4.88k [00:00&lt;00:00, 308kB/s]"
     }
    },
    "341eaeafc8a44628bb7eedad73e3b51e": {
     "model_module": "@jupyter-widgets/controls",
     "model_module_version": "1.5.0",
     "model_name": "HTMLModel",
     "state": {
      "_dom_classes": [],
      "_model_module": "@jupyter-widgets/controls",
      "_model_module_version": "1.5.0",
      "_model_name": "HTMLModel",
      "_view_count": null,
      "_view_module": "@jupyter-widgets/controls",
      "_view_module_version": "1.5.0",
      "_view_name": "HTMLView",
      "description": "",
      "description_tooltip": null,
      "layout": "IPY_MODEL_f77d2dcffda347dd8571b3818154a975",
      "placeholder": "​",
      "style": "IPY_MODEL_f6d9b9541fd14ae697688f3056dafe01",
      "value": "tokenizer_config.json: 100%"
     }
    },
    "348dfa88d84e4e36bab75460a8a1416e": {
     "model_module": "@jupyter-widgets/controls",
     "model_module_version": "1.5.0",
     "model_name": "ProgressStyleModel",
     "state": {
      "_model_module": "@jupyter-widgets/controls",
      "_model_module_version": "1.5.0",
      "_model_name": "ProgressStyleModel",
      "_view_count": null,
      "_view_module": "@jupyter-widgets/base",
      "_view_module_version": "1.2.0",
      "_view_name": "StyleView",
      "bar_color": null,
      "description_width": ""
     }
    },
    "3585c35b03a64a41b9ff37cde2b83417": {
     "model_module": "@jupyter-widgets/base",
     "model_module_version": "1.2.0",
     "model_name": "LayoutModel",
     "state": {
      "_model_module": "@jupyter-widgets/base",
      "_model_module_version": "1.2.0",
      "_model_name": "LayoutModel",
      "_view_count": null,
      "_view_module": "@jupyter-widgets/base",
      "_view_module_version": "1.2.0",
      "_view_name": "LayoutView",
      "align_content": null,
      "align_items": null,
      "align_self": null,
      "border": null,
      "bottom": null,
      "display": null,
      "flex": null,
      "flex_flow": null,
      "grid_area": null,
      "grid_auto_columns": null,
      "grid_auto_flow": null,
      "grid_auto_rows": null,
      "grid_column": null,
      "grid_gap": null,
      "grid_row": null,
      "grid_template_areas": null,
      "grid_template_columns": null,
      "grid_template_rows": null,
      "height": null,
      "justify_content": null,
      "justify_items": null,
      "left": null,
      "margin": null,
      "max_height": null,
      "max_width": null,
      "min_height": null,
      "min_width": null,
      "object_fit": null,
      "object_position": null,
      "order": null,
      "overflow": null,
      "overflow_x": null,
      "overflow_y": null,
      "padding": null,
      "right": null,
      "top": null,
      "visibility": null,
      "width": null
     }
    },
    "3616095883d74e41bc35a71d2b28e458": {
     "model_module": "@jupyter-widgets/base",
     "model_module_version": "1.2.0",
     "model_name": "LayoutModel",
     "state": {
      "_model_module": "@jupyter-widgets/base",
      "_model_module_version": "1.2.0",
      "_model_name": "LayoutModel",
      "_view_count": null,
      "_view_module": "@jupyter-widgets/base",
      "_view_module_version": "1.2.0",
      "_view_name": "LayoutView",
      "align_content": null,
      "align_items": null,
      "align_self": null,
      "border": null,
      "bottom": null,
      "display": null,
      "flex": null,
      "flex_flow": null,
      "grid_area": null,
      "grid_auto_columns": null,
      "grid_auto_flow": null,
      "grid_auto_rows": null,
      "grid_column": null,
      "grid_gap": null,
      "grid_row": null,
      "grid_template_areas": null,
      "grid_template_columns": null,
      "grid_template_rows": null,
      "height": null,
      "justify_content": null,
      "justify_items": null,
      "left": null,
      "margin": null,
      "max_height": null,
      "max_width": null,
      "min_height": null,
      "min_width": null,
      "object_fit": null,
      "object_position": null,
      "order": null,
      "overflow": null,
      "overflow_x": null,
      "overflow_y": null,
      "padding": null,
      "right": null,
      "top": null,
      "visibility": null,
      "width": null
     }
    },
    "3630faf056d446f3a3a052c29c358af8": {
     "model_module": "@jupyter-widgets/controls",
     "model_module_version": "1.5.0",
     "model_name": "HTMLModel",
     "state": {
      "_dom_classes": [],
      "_model_module": "@jupyter-widgets/controls",
      "_model_module_version": "1.5.0",
      "_model_name": "HTMLModel",
      "_view_count": null,
      "_view_module": "@jupyter-widgets/controls",
      "_view_module_version": "1.5.0",
      "_view_name": "HTMLView",
      "description": "",
      "description_tooltip": null,
      "layout": "IPY_MODEL_e48fe1b04eae4ebea7dc2909460bb98c",
      "placeholder": "​",
      "style": "IPY_MODEL_f9526821ac304f89a35e41f06e9889e2",
      "value": " 636/636 [00:00&lt;00:00, 40.3kB/s]"
     }
    },
    "3ac84b9200c94245b7f66b863bea569e": {
     "model_module": "@jupyter-widgets/base",
     "model_module_version": "1.2.0",
     "model_name": "LayoutModel",
     "state": {
      "_model_module": "@jupyter-widgets/base",
      "_model_module_version": "1.2.0",
      "_model_name": "LayoutModel",
      "_view_count": null,
      "_view_module": "@jupyter-widgets/base",
      "_view_module_version": "1.2.0",
      "_view_name": "LayoutView",
      "align_content": null,
      "align_items": null,
      "align_self": null,
      "border": null,
      "bottom": null,
      "display": null,
      "flex": null,
      "flex_flow": null,
      "grid_area": null,
      "grid_auto_columns": null,
      "grid_auto_flow": null,
      "grid_auto_rows": null,
      "grid_column": null,
      "grid_gap": null,
      "grid_row": null,
      "grid_template_areas": null,
      "grid_template_columns": null,
      "grid_template_rows": null,
      "height": null,
      "justify_content": null,
      "justify_items": null,
      "left": null,
      "margin": null,
      "max_height": null,
      "max_width": null,
      "min_height": null,
      "min_width": null,
      "object_fit": null,
      "object_position": null,
      "order": null,
      "overflow": null,
      "overflow_x": null,
      "overflow_y": null,
      "padding": null,
      "right": null,
      "top": null,
      "visibility": null,
      "width": null
     }
    },
    "3bd366cf9c1b432c95c2e4e174921227": {
     "model_module": "@jupyter-widgets/controls",
     "model_module_version": "1.5.0",
     "model_name": "HBoxModel",
     "state": {
      "_dom_classes": [],
      "_model_module": "@jupyter-widgets/controls",
      "_model_module_version": "1.5.0",
      "_model_name": "HBoxModel",
      "_view_count": null,
      "_view_module": "@jupyter-widgets/controls",
      "_view_module_version": "1.5.0",
      "_view_name": "HBoxView",
      "box_style": "",
      "children": [
       "IPY_MODEL_60ce3ca474ed4a22b8f71a0c7e2e1b4a",
       "IPY_MODEL_dd9bd6a7873a4335b904770a0d214c12",
       "IPY_MODEL_9841d72ffa3c48d69580296721f52021"
      ],
      "layout": "IPY_MODEL_b3d6e16ad3a14c298ff01057b6ec8d0b"
     }
    },
    "3cf7cc8eea074f40bcc1c3686550c489": {
     "model_module": "@jupyter-widgets/base",
     "model_module_version": "1.2.0",
     "model_name": "LayoutModel",
     "state": {
      "_model_module": "@jupyter-widgets/base",
      "_model_module_version": "1.2.0",
      "_model_name": "LayoutModel",
      "_view_count": null,
      "_view_module": "@jupyter-widgets/base",
      "_view_module_version": "1.2.0",
      "_view_name": "LayoutView",
      "align_content": null,
      "align_items": null,
      "align_self": null,
      "border": null,
      "bottom": null,
      "display": null,
      "flex": null,
      "flex_flow": null,
      "grid_area": null,
      "grid_auto_columns": null,
      "grid_auto_flow": null,
      "grid_auto_rows": null,
      "grid_column": null,
      "grid_gap": null,
      "grid_row": null,
      "grid_template_areas": null,
      "grid_template_columns": null,
      "grid_template_rows": null,
      "height": null,
      "justify_content": null,
      "justify_items": null,
      "left": null,
      "margin": null,
      "max_height": null,
      "max_width": null,
      "min_height": null,
      "min_width": null,
      "object_fit": null,
      "object_position": null,
      "order": null,
      "overflow": null,
      "overflow_x": null,
      "overflow_y": null,
      "padding": null,
      "right": null,
      "top": null,
      "visibility": null,
      "width": null
     }
    },
    "3cf835df6d4541d5b19472e8dbfdcbe8": {
     "model_module": "@jupyter-widgets/base",
     "model_module_version": "1.2.0",
     "model_name": "LayoutModel",
     "state": {
      "_model_module": "@jupyter-widgets/base",
      "_model_module_version": "1.2.0",
      "_model_name": "LayoutModel",
      "_view_count": null,
      "_view_module": "@jupyter-widgets/base",
      "_view_module_version": "1.2.0",
      "_view_name": "LayoutView",
      "align_content": null,
      "align_items": null,
      "align_self": null,
      "border": null,
      "bottom": null,
      "display": null,
      "flex": null,
      "flex_flow": null,
      "grid_area": null,
      "grid_auto_columns": null,
      "grid_auto_flow": null,
      "grid_auto_rows": null,
      "grid_column": null,
      "grid_gap": null,
      "grid_row": null,
      "grid_template_areas": null,
      "grid_template_columns": null,
      "grid_template_rows": null,
      "height": null,
      "justify_content": null,
      "justify_items": null,
      "left": null,
      "margin": null,
      "max_height": null,
      "max_width": null,
      "min_height": null,
      "min_width": null,
      "object_fit": null,
      "object_position": null,
      "order": null,
      "overflow": null,
      "overflow_x": null,
      "overflow_y": null,
      "padding": null,
      "right": null,
      "top": null,
      "visibility": null,
      "width": null
     }
    },
    "3e5c579203fa4ca3a2790d87de84901f": {
     "model_module": "@jupyter-widgets/controls",
     "model_module_version": "1.5.0",
     "model_name": "HBoxModel",
     "state": {
      "_dom_classes": [],
      "_model_module": "@jupyter-widgets/controls",
      "_model_module_version": "1.5.0",
      "_model_name": "HBoxModel",
      "_view_count": null,
      "_view_module": "@jupyter-widgets/controls",
      "_view_module_version": "1.5.0",
      "_view_name": "HBoxView",
      "box_style": "",
      "children": [
       "IPY_MODEL_f2a20b8423d74afe862ed344e96b946b",
       "IPY_MODEL_ab4960df5da74f0c860e7150c05731b3",
       "IPY_MODEL_b15f5218d88f47578eeba261f6482028"
      ],
      "layout": "IPY_MODEL_f685ef21940546b0ac25b8635df3382f"
     }
    },
    "3f5bfb339bba46339ca3cf702953f084": {
     "model_module": "@jupyter-widgets/base",
     "model_module_version": "1.2.0",
     "model_name": "LayoutModel",
     "state": {
      "_model_module": "@jupyter-widgets/base",
      "_model_module_version": "1.2.0",
      "_model_name": "LayoutModel",
      "_view_count": null,
      "_view_module": "@jupyter-widgets/base",
      "_view_module_version": "1.2.0",
      "_view_name": "LayoutView",
      "align_content": null,
      "align_items": null,
      "align_self": null,
      "border": null,
      "bottom": null,
      "display": null,
      "flex": null,
      "flex_flow": null,
      "grid_area": null,
      "grid_auto_columns": null,
      "grid_auto_flow": null,
      "grid_auto_rows": null,
      "grid_column": null,
      "grid_gap": null,
      "grid_row": null,
      "grid_template_areas": null,
      "grid_template_columns": null,
      "grid_template_rows": null,
      "height": null,
      "justify_content": null,
      "justify_items": null,
      "left": null,
      "margin": null,
      "max_height": null,
      "max_width": null,
      "min_height": null,
      "min_width": null,
      "object_fit": null,
      "object_position": null,
      "order": null,
      "overflow": null,
      "overflow_x": null,
      "overflow_y": null,
      "padding": null,
      "right": null,
      "top": null,
      "visibility": null,
      "width": null
     }
    },
    "3f7b4c13eb0041bf9150397babf5593d": {
     "model_module": "@jupyter-widgets/base",
     "model_module_version": "1.2.0",
     "model_name": "LayoutModel",
     "state": {
      "_model_module": "@jupyter-widgets/base",
      "_model_module_version": "1.2.0",
      "_model_name": "LayoutModel",
      "_view_count": null,
      "_view_module": "@jupyter-widgets/base",
      "_view_module_version": "1.2.0",
      "_view_name": "LayoutView",
      "align_content": null,
      "align_items": null,
      "align_self": null,
      "border": null,
      "bottom": null,
      "display": null,
      "flex": null,
      "flex_flow": null,
      "grid_area": null,
      "grid_auto_columns": null,
      "grid_auto_flow": null,
      "grid_auto_rows": null,
      "grid_column": null,
      "grid_gap": null,
      "grid_row": null,
      "grid_template_areas": null,
      "grid_template_columns": null,
      "grid_template_rows": null,
      "height": null,
      "justify_content": null,
      "justify_items": null,
      "left": null,
      "margin": null,
      "max_height": null,
      "max_width": null,
      "min_height": null,
      "min_width": null,
      "object_fit": null,
      "object_position": null,
      "order": null,
      "overflow": null,
      "overflow_x": null,
      "overflow_y": null,
      "padding": null,
      "right": null,
      "top": null,
      "visibility": null,
      "width": null
     }
    },
    "41522cc42b834dc2b23350c97141e2ae": {
     "model_module": "@jupyter-widgets/controls",
     "model_module_version": "1.5.0",
     "model_name": "DescriptionStyleModel",
     "state": {
      "_model_module": "@jupyter-widgets/controls",
      "_model_module_version": "1.5.0",
      "_model_name": "DescriptionStyleModel",
      "_view_count": null,
      "_view_module": "@jupyter-widgets/base",
      "_view_module_version": "1.2.0",
      "_view_name": "StyleView",
      "description_width": ""
     }
    },
    "4298a449034d499dafacaa3a0c7dde3a": {
     "model_module": "@jupyter-widgets/controls",
     "model_module_version": "1.5.0",
     "model_name": "HTMLModel",
     "state": {
      "_dom_classes": [],
      "_model_module": "@jupyter-widgets/controls",
      "_model_module_version": "1.5.0",
      "_model_name": "HTMLModel",
      "_view_count": null,
      "_view_module": "@jupyter-widgets/controls",
      "_view_module_version": "1.5.0",
      "_view_name": "HTMLView",
      "description": "",
      "description_tooltip": null,
      "layout": "IPY_MODEL_07e3c49c991f44b6bf59f784bd0e210e",
      "placeholder": "​",
      "style": "IPY_MODEL_f67cd8e718444e0e9ef48769975d1bcb",
      "value": "Downloading data: 100%"
     }
    },
    "42f73c4103364befbb980be457f12fb9": {
     "model_module": "@jupyter-widgets/controls",
     "model_module_version": "1.5.0",
     "model_name": "FloatProgressModel",
     "state": {
      "_dom_classes": [],
      "_model_module": "@jupyter-widgets/controls",
      "_model_module_version": "1.5.0",
      "_model_name": "FloatProgressModel",
      "_view_count": null,
      "_view_module": "@jupyter-widgets/controls",
      "_view_module_version": "1.5.0",
      "_view_name": "ProgressView",
      "bar_style": "success",
      "description": "",
      "description_tooltip": null,
      "layout": "IPY_MODEL_4581aaac5949435fbb0d1e97bc27aa6b",
      "max": 1,
      "min": 0,
      "orientation": "horizontal",
      "style": "IPY_MODEL_780602ee65b843d18ecebee432f5d178",
      "value": 1
     }
    },
    "4401ade5390a44008925aa73e1af7a7f": {
     "model_module": "@jupyter-widgets/controls",
     "model_module_version": "1.5.0",
     "model_name": "ProgressStyleModel",
     "state": {
      "_model_module": "@jupyter-widgets/controls",
      "_model_module_version": "1.5.0",
      "_model_name": "ProgressStyleModel",
      "_view_count": null,
      "_view_module": "@jupyter-widgets/base",
      "_view_module_version": "1.2.0",
      "_view_name": "StyleView",
      "bar_color": null,
      "description_width": ""
     }
    },
    "450ff7b14e634ceca2fb8ae52f7c6e6f": {
     "model_module": "@jupyter-widgets/controls",
     "model_module_version": "1.5.0",
     "model_name": "HTMLModel",
     "state": {
      "_dom_classes": [],
      "_model_module": "@jupyter-widgets/controls",
      "_model_module_version": "1.5.0",
      "_model_name": "HTMLModel",
      "_view_count": null,
      "_view_module": "@jupyter-widgets/controls",
      "_view_module_version": "1.5.0",
      "_view_name": "HTMLView",
      "description": "",
      "description_tooltip": null,
      "layout": "IPY_MODEL_ba310452c27f48718c537c963ac20378",
      "placeholder": "​",
      "style": "IPY_MODEL_1e05430d67ee42d5a23140d0a83a2ee2",
      "value": " 14.2M/14.2M [00:00&lt;00:00, 25.6MB/s]"
     }
    },
    "4581aaac5949435fbb0d1e97bc27aa6b": {
     "model_module": "@jupyter-widgets/base",
     "model_module_version": "1.2.0",
     "model_name": "LayoutModel",
     "state": {
      "_model_module": "@jupyter-widgets/base",
      "_model_module_version": "1.2.0",
      "_model_name": "LayoutModel",
      "_view_count": null,
      "_view_module": "@jupyter-widgets/base",
      "_view_module_version": "1.2.0",
      "_view_name": "LayoutView",
      "align_content": null,
      "align_items": null,
      "align_self": null,
      "border": null,
      "bottom": null,
      "display": null,
      "flex": null,
      "flex_flow": null,
      "grid_area": null,
      "grid_auto_columns": null,
      "grid_auto_flow": null,
      "grid_auto_rows": null,
      "grid_column": null,
      "grid_gap": null,
      "grid_row": null,
      "grid_template_areas": null,
      "grid_template_columns": null,
      "grid_template_rows": null,
      "height": null,
      "justify_content": null,
      "justify_items": null,
      "left": null,
      "margin": null,
      "max_height": null,
      "max_width": null,
      "min_height": null,
      "min_width": null,
      "object_fit": null,
      "object_position": null,
      "order": null,
      "overflow": null,
      "overflow_x": null,
      "overflow_y": null,
      "padding": null,
      "right": null,
      "top": null,
      "visibility": null,
      "width": "20px"
     }
    },
    "4773cde69ced4dc780878d2e3a8d3ecc": {
     "model_module": "@jupyter-widgets/base",
     "model_module_version": "1.2.0",
     "model_name": "LayoutModel",
     "state": {
      "_model_module": "@jupyter-widgets/base",
      "_model_module_version": "1.2.0",
      "_model_name": "LayoutModel",
      "_view_count": null,
      "_view_module": "@jupyter-widgets/base",
      "_view_module_version": "1.2.0",
      "_view_name": "LayoutView",
      "align_content": null,
      "align_items": null,
      "align_self": null,
      "border": null,
      "bottom": null,
      "display": null,
      "flex": null,
      "flex_flow": null,
      "grid_area": null,
      "grid_auto_columns": null,
      "grid_auto_flow": null,
      "grid_auto_rows": null,
      "grid_column": null,
      "grid_gap": null,
      "grid_row": null,
      "grid_template_areas": null,
      "grid_template_columns": null,
      "grid_template_rows": null,
      "height": null,
      "justify_content": null,
      "justify_items": null,
      "left": null,
      "margin": null,
      "max_height": null,
      "max_width": null,
      "min_height": null,
      "min_width": null,
      "object_fit": null,
      "object_position": null,
      "order": null,
      "overflow": null,
      "overflow_x": null,
      "overflow_y": null,
      "padding": null,
      "right": null,
      "top": null,
      "visibility": null,
      "width": null
     }
    },
    "47eddb1057774f1aa5c314648a73a533": {
     "model_module": "@jupyter-widgets/controls",
     "model_module_version": "1.5.0",
     "model_name": "HTMLModel",
     "state": {
      "_dom_classes": [],
      "_model_module": "@jupyter-widgets/controls",
      "_model_module_version": "1.5.0",
      "_model_name": "HTMLModel",
      "_view_count": null,
      "_view_module": "@jupyter-widgets/controls",
      "_view_module_version": "1.5.0",
      "_view_name": "HTMLView",
      "description": "",
      "description_tooltip": null,
      "layout": "IPY_MODEL_208bef52e3464eb0a73416d3e6fee49a",
      "placeholder": "​",
      "style": "IPY_MODEL_187a62019d954d1c80f661a11c169b90",
      "value": "Generating train split: "
     }
    },
    "48686b62bac541008f53829f665429c9": {
     "model_module": "@jupyter-widgets/controls",
     "model_module_version": "1.5.0",
     "model_name": "DescriptionStyleModel",
     "state": {
      "_model_module": "@jupyter-widgets/controls",
      "_model_module_version": "1.5.0",
      "_model_name": "DescriptionStyleModel",
      "_view_count": null,
      "_view_module": "@jupyter-widgets/base",
      "_view_module_version": "1.2.0",
      "_view_name": "StyleView",
      "description_width": ""
     }
    },
    "4bb5d569677b40a08ed7e4b0b624b82b": {
     "model_module": "@jupyter-widgets/controls",
     "model_module_version": "1.5.0",
     "model_name": "DescriptionStyleModel",
     "state": {
      "_model_module": "@jupyter-widgets/controls",
      "_model_module_version": "1.5.0",
      "_model_name": "DescriptionStyleModel",
      "_view_count": null,
      "_view_module": "@jupyter-widgets/base",
      "_view_module_version": "1.2.0",
      "_view_name": "StyleView",
      "description_width": ""
     }
    },
    "4f2b2d3fcf3b42ce86a99f3fbd80da44": {
     "model_module": "@jupyter-widgets/controls",
     "model_module_version": "1.5.0",
     "model_name": "HTMLModel",
     "state": {
      "_dom_classes": [],
      "_model_module": "@jupyter-widgets/controls",
      "_model_module_version": "1.5.0",
      "_model_name": "HTMLModel",
      "_view_count": null,
      "_view_module": "@jupyter-widgets/controls",
      "_view_module_version": "1.5.0",
      "_view_name": "HTMLView",
      "description": "",
      "description_tooltip": null,
      "layout": "IPY_MODEL_f425f3b8bd6a488894b5548e9e0df064",
      "placeholder": "​",
      "style": "IPY_MODEL_338c2f1421774477bd3e1ff955c5b9ca",
      "value": "special_tokens_map.json: 100%"
     }
    },
    "55d5444c1b46465d844eeae43ca37f3e": {
     "model_module": "@jupyter-widgets/base",
     "model_module_version": "1.2.0",
     "model_name": "LayoutModel",
     "state": {
      "_model_module": "@jupyter-widgets/base",
      "_model_module_version": "1.2.0",
      "_model_name": "LayoutModel",
      "_view_count": null,
      "_view_module": "@jupyter-widgets/base",
      "_view_module_version": "1.2.0",
      "_view_name": "LayoutView",
      "align_content": null,
      "align_items": null,
      "align_self": null,
      "border": null,
      "bottom": null,
      "display": null,
      "flex": null,
      "flex_flow": null,
      "grid_area": null,
      "grid_auto_columns": null,
      "grid_auto_flow": null,
      "grid_auto_rows": null,
      "grid_column": null,
      "grid_gap": null,
      "grid_row": null,
      "grid_template_areas": null,
      "grid_template_columns": null,
      "grid_template_rows": null,
      "height": null,
      "justify_content": null,
      "justify_items": null,
      "left": null,
      "margin": null,
      "max_height": null,
      "max_width": null,
      "min_height": null,
      "min_width": null,
      "object_fit": null,
      "object_position": null,
      "order": null,
      "overflow": null,
      "overflow_x": null,
      "overflow_y": null,
      "padding": null,
      "right": null,
      "top": null,
      "visibility": null,
      "width": null
     }
    },
    "561aa684d82f44da80438b61e59dcbbb": {
     "model_module": "@jupyter-widgets/controls",
     "model_module_version": "1.5.0",
     "model_name": "HTMLModel",
     "state": {
      "_dom_classes": [],
      "_model_module": "@jupyter-widgets/controls",
      "_model_module_version": "1.5.0",
      "_model_name": "HTMLModel",
      "_view_count": null,
      "_view_module": "@jupyter-widgets/controls",
      "_view_module_version": "1.5.0",
      "_view_name": "HTMLView",
      "description": "",
      "description_tooltip": null,
      "layout": "IPY_MODEL_8f75cbef96b24262bef3d81d6a49bd6d",
      "placeholder": "​",
      "style": "IPY_MODEL_222e1f2e32e843bb93f856e6196e52f9",
      "value": " 180000/0 [00:00&lt;00:00, 532280.09 examples/s]"
     }
    },
    "585840d7f14045738197c0fb90777d1c": {
     "model_module": "@jupyter-widgets/controls",
     "model_module_version": "1.5.0",
     "model_name": "DescriptionStyleModel",
     "state": {
      "_model_module": "@jupyter-widgets/controls",
      "_model_module_version": "1.5.0",
      "_model_name": "DescriptionStyleModel",
      "_view_count": null,
      "_view_module": "@jupyter-widgets/base",
      "_view_module_version": "1.2.0",
      "_view_name": "StyleView",
      "description_width": ""
     }
    },
    "588327a81f444e41b45c473626155e70": {
     "model_module": "@jupyter-widgets/controls",
     "model_module_version": "1.5.0",
     "model_name": "HTMLModel",
     "state": {
      "_dom_classes": [],
      "_model_module": "@jupyter-widgets/controls",
      "_model_module_version": "1.5.0",
      "_model_name": "HTMLModel",
      "_view_count": null,
      "_view_module": "@jupyter-widgets/controls",
      "_view_module_version": "1.5.0",
      "_view_name": "HTMLView",
      "description": "",
      "description_tooltip": null,
      "layout": "IPY_MODEL_e45db28f5916432cb4f091e5403f6918",
      "placeholder": "​",
      "style": "IPY_MODEL_099b36cb3bc8493c80fc7ab3ed5adfd5",
      "value": " 440M/440M [00:02&lt;00:00, 205MB/s]"
     }
    },
    "5ace1f90dccb45c9b19764d1fbfccb8b": {
     "model_module": "@jupyter-widgets/controls",
     "model_module_version": "1.5.0",
     "model_name": "HBoxModel",
     "state": {
      "_dom_classes": [],
      "_model_module": "@jupyter-widgets/controls",
      "_model_module_version": "1.5.0",
      "_model_name": "HBoxModel",
      "_view_count": null,
      "_view_module": "@jupyter-widgets/controls",
      "_view_module_version": "1.5.0",
      "_view_name": "HBoxView",
      "box_style": "",
      "children": [
       "IPY_MODEL_3384c2040c4b4c2fafe22ac5e8ed9612",
       "IPY_MODEL_6d54714237ca4fc998bba9a1d7634ec5",
       "IPY_MODEL_7ebbbcd0f5ea47afacbff97527d371dc"
      ],
      "layout": "IPY_MODEL_6cf61daee29e496e86f8288a23675fec"
     }
    },
    "5d30760f48ac4871ae019df8fff3c677": {
     "model_module": "@jupyter-widgets/base",
     "model_module_version": "1.2.0",
     "model_name": "LayoutModel",
     "state": {
      "_model_module": "@jupyter-widgets/base",
      "_model_module_version": "1.2.0",
      "_model_name": "LayoutModel",
      "_view_count": null,
      "_view_module": "@jupyter-widgets/base",
      "_view_module_version": "1.2.0",
      "_view_name": "LayoutView",
      "align_content": null,
      "align_items": null,
      "align_self": null,
      "border": null,
      "bottom": null,
      "display": null,
      "flex": null,
      "flex_flow": null,
      "grid_area": null,
      "grid_auto_columns": null,
      "grid_auto_flow": null,
      "grid_auto_rows": null,
      "grid_column": null,
      "grid_gap": null,
      "grid_row": null,
      "grid_template_areas": null,
      "grid_template_columns": null,
      "grid_template_rows": null,
      "height": null,
      "justify_content": null,
      "justify_items": null,
      "left": null,
      "margin": null,
      "max_height": null,
      "max_width": null,
      "min_height": null,
      "min_width": null,
      "object_fit": null,
      "object_position": null,
      "order": null,
      "overflow": null,
      "overflow_x": null,
      "overflow_y": null,
      "padding": null,
      "right": null,
      "top": null,
      "visibility": null,
      "width": null
     }
    },
    "5e06eb5741e84fafb9239b70aafcff4f": {
     "model_module": "@jupyter-widgets/base",
     "model_module_version": "1.2.0",
     "model_name": "LayoutModel",
     "state": {
      "_model_module": "@jupyter-widgets/base",
      "_model_module_version": "1.2.0",
      "_model_name": "LayoutModel",
      "_view_count": null,
      "_view_module": "@jupyter-widgets/base",
      "_view_module_version": "1.2.0",
      "_view_name": "LayoutView",
      "align_content": null,
      "align_items": null,
      "align_self": null,
      "border": null,
      "bottom": null,
      "display": null,
      "flex": null,
      "flex_flow": null,
      "grid_area": null,
      "grid_auto_columns": null,
      "grid_auto_flow": null,
      "grid_auto_rows": null,
      "grid_column": null,
      "grid_gap": null,
      "grid_row": null,
      "grid_template_areas": null,
      "grid_template_columns": null,
      "grid_template_rows": null,
      "height": null,
      "justify_content": null,
      "justify_items": null,
      "left": null,
      "margin": null,
      "max_height": null,
      "max_width": null,
      "min_height": null,
      "min_width": null,
      "object_fit": null,
      "object_position": null,
      "order": null,
      "overflow": null,
      "overflow_x": null,
      "overflow_y": null,
      "padding": null,
      "right": null,
      "top": null,
      "visibility": null,
      "width": null
     }
    },
    "5e2b16aef2e549fbae8083e7b41d1d28": {
     "model_module": "@jupyter-widgets/controls",
     "model_module_version": "1.5.0",
     "model_name": "DescriptionStyleModel",
     "state": {
      "_model_module": "@jupyter-widgets/controls",
      "_model_module_version": "1.5.0",
      "_model_name": "DescriptionStyleModel",
      "_view_count": null,
      "_view_module": "@jupyter-widgets/base",
      "_view_module_version": "1.2.0",
      "_view_name": "StyleView",
      "description_width": ""
     }
    },
    "5f45ca7343014d67975527f5669d710c": {
     "model_module": "@jupyter-widgets/controls",
     "model_module_version": "1.5.0",
     "model_name": "ProgressStyleModel",
     "state": {
      "_model_module": "@jupyter-widgets/controls",
      "_model_module_version": "1.5.0",
      "_model_name": "ProgressStyleModel",
      "_view_count": null,
      "_view_module": "@jupyter-widgets/base",
      "_view_module_version": "1.2.0",
      "_view_name": "StyleView",
      "bar_color": null,
      "description_width": ""
     }
    },
    "60ce3ca474ed4a22b8f71a0c7e2e1b4a": {
     "model_module": "@jupyter-widgets/controls",
     "model_module_version": "1.5.0",
     "model_name": "HTMLModel",
     "state": {
      "_dom_classes": [],
      "_model_module": "@jupyter-widgets/controls",
      "_model_module_version": "1.5.0",
      "_model_name": "HTMLModel",
      "_view_count": null,
      "_view_module": "@jupyter-widgets/controls",
      "_view_module_version": "1.5.0",
      "_view_name": "HTMLView",
      "description": "",
      "description_tooltip": null,
      "layout": "IPY_MODEL_9d1d9550792c43128ef0012f72bc56f5",
      "placeholder": "​",
      "style": "IPY_MODEL_98854897cc5b475aae14ec5247ea4895",
      "value": "config.json: 100%"
     }
    },
    "613cd2dfb25f43ad862765b05db6f281": {
     "model_module": "@jupyter-widgets/base",
     "model_module_version": "1.2.0",
     "model_name": "LayoutModel",
     "state": {
      "_model_module": "@jupyter-widgets/base",
      "_model_module_version": "1.2.0",
      "_model_name": "LayoutModel",
      "_view_count": null,
      "_view_module": "@jupyter-widgets/base",
      "_view_module_version": "1.2.0",
      "_view_name": "LayoutView",
      "align_content": null,
      "align_items": null,
      "align_self": null,
      "border": null,
      "bottom": null,
      "display": null,
      "flex": null,
      "flex_flow": null,
      "grid_area": null,
      "grid_auto_columns": null,
      "grid_auto_flow": null,
      "grid_auto_rows": null,
      "grid_column": null,
      "grid_gap": null,
      "grid_row": null,
      "grid_template_areas": null,
      "grid_template_columns": null,
      "grid_template_rows": null,
      "height": null,
      "justify_content": null,
      "justify_items": null,
      "left": null,
      "margin": null,
      "max_height": null,
      "max_width": null,
      "min_height": null,
      "min_width": null,
      "object_fit": null,
      "object_position": null,
      "order": null,
      "overflow": null,
      "overflow_x": null,
      "overflow_y": null,
      "padding": null,
      "right": null,
      "top": null,
      "visibility": null,
      "width": null
     }
    },
    "61906e77a907438eb7820a4bbf4aa82d": {
     "model_module": "@jupyter-widgets/controls",
     "model_module_version": "1.5.0",
     "model_name": "DescriptionStyleModel",
     "state": {
      "_model_module": "@jupyter-widgets/controls",
      "_model_module_version": "1.5.0",
      "_model_name": "DescriptionStyleModel",
      "_view_count": null,
      "_view_module": "@jupyter-widgets/base",
      "_view_module_version": "1.2.0",
      "_view_name": "StyleView",
      "description_width": ""
     }
    },
    "62162fedbfd046a08a3fabae1d112829": {
     "model_module": "@jupyter-widgets/controls",
     "model_module_version": "1.5.0",
     "model_name": "HTMLModel",
     "state": {
      "_dom_classes": [],
      "_model_module": "@jupyter-widgets/controls",
      "_model_module_version": "1.5.0",
      "_model_name": "HTMLModel",
      "_view_count": null,
      "_view_module": "@jupyter-widgets/controls",
      "_view_module_version": "1.5.0",
      "_view_name": "HTMLView",
      "description": "",
      "description_tooltip": null,
      "layout": "IPY_MODEL_955e3526e31f4215b1b7c787c0a2e383",
      "placeholder": "​",
      "style": "IPY_MODEL_6fd9b9de51d244c59078c1a02ff252c3",
      "value": "tokenizer_config.json: 100%"
     }
    },
    "62d013cd71a645ea8082d92445428d86": {
     "model_module": "@jupyter-widgets/controls",
     "model_module_version": "1.5.0",
     "model_name": "ProgressStyleModel",
     "state": {
      "_model_module": "@jupyter-widgets/controls",
      "_model_module_version": "1.5.0",
      "_model_name": "ProgressStyleModel",
      "_view_count": null,
      "_view_module": "@jupyter-widgets/base",
      "_view_module_version": "1.2.0",
      "_view_name": "StyleView",
      "bar_color": null,
      "description_width": ""
     }
    },
    "63e7723716f941ca8fe1af8835be8bd6": {
     "model_module": "@jupyter-widgets/controls",
     "model_module_version": "1.5.0",
     "model_name": "DescriptionStyleModel",
     "state": {
      "_model_module": "@jupyter-widgets/controls",
      "_model_module_version": "1.5.0",
      "_model_name": "DescriptionStyleModel",
      "_view_count": null,
      "_view_module": "@jupyter-widgets/base",
      "_view_module_version": "1.2.0",
      "_view_name": "StyleView",
      "description_width": ""
     }
    },
    "64d592a3a359478a97b96e8fcf04c1c6": {
     "model_module": "@jupyter-widgets/controls",
     "model_module_version": "1.5.0",
     "model_name": "FloatProgressModel",
     "state": {
      "_dom_classes": [],
      "_model_module": "@jupyter-widgets/controls",
      "_model_module_version": "1.5.0",
      "_model_name": "FloatProgressModel",
      "_view_count": null,
      "_view_module": "@jupyter-widgets/controls",
      "_view_module_version": "1.5.0",
      "_view_name": "ProgressView",
      "bar_style": "success",
      "description": "",
      "description_tooltip": null,
      "layout": "IPY_MODEL_98dc72dda6b54c3baf2ce3f4f4034b8b",
      "max": 36000,
      "min": 0,
      "orientation": "horizontal",
      "style": "IPY_MODEL_9f09b00036f543d9bc2d1d5e4e53ac51",
      "value": 36000
     }
    },
    "66cc1ff2aea34278ad912ac4ddb349e1": {
     "model_module": "@jupyter-widgets/base",
     "model_module_version": "1.2.0",
     "model_name": "LayoutModel",
     "state": {
      "_model_module": "@jupyter-widgets/base",
      "_model_module_version": "1.2.0",
      "_model_name": "LayoutModel",
      "_view_count": null,
      "_view_module": "@jupyter-widgets/base",
      "_view_module_version": "1.2.0",
      "_view_name": "LayoutView",
      "align_content": null,
      "align_items": null,
      "align_self": null,
      "border": null,
      "bottom": null,
      "display": null,
      "flex": null,
      "flex_flow": null,
      "grid_area": null,
      "grid_auto_columns": null,
      "grid_auto_flow": null,
      "grid_auto_rows": null,
      "grid_column": null,
      "grid_gap": null,
      "grid_row": null,
      "grid_template_areas": null,
      "grid_template_columns": null,
      "grid_template_rows": null,
      "height": null,
      "justify_content": null,
      "justify_items": null,
      "left": null,
      "margin": null,
      "max_height": null,
      "max_width": null,
      "min_height": null,
      "min_width": null,
      "object_fit": null,
      "object_position": null,
      "order": null,
      "overflow": null,
      "overflow_x": null,
      "overflow_y": null,
      "padding": null,
      "right": null,
      "top": null,
      "visibility": null,
      "width": null
     }
    },
    "674d13bf8cb840ce86bd1104dd15b686": {
     "model_module": "@jupyter-widgets/controls",
     "model_module_version": "1.5.0",
     "model_name": "HBoxModel",
     "state": {
      "_dom_classes": [],
      "_model_module": "@jupyter-widgets/controls",
      "_model_module_version": "1.5.0",
      "_model_name": "HBoxModel",
      "_view_count": null,
      "_view_module": "@jupyter-widgets/controls",
      "_view_module_version": "1.5.0",
      "_view_name": "HBoxView",
      "box_style": "",
      "children": [
       "IPY_MODEL_d887489f02364db485ac301fa43ff9bd",
       "IPY_MODEL_fb484a9f9b5f42fe808565e779786b05",
       "IPY_MODEL_f0d4d518b6bc4e52813c8724554a4d39"
      ],
      "layout": "IPY_MODEL_2eaff81a3892426e96e236c64b54d456"
     }
    },
    "6a7b77d124554a2cbf1249374312a293": {
     "model_module": "@jupyter-widgets/base",
     "model_module_version": "1.2.0",
     "model_name": "LayoutModel",
     "state": {
      "_model_module": "@jupyter-widgets/base",
      "_model_module_version": "1.2.0",
      "_model_name": "LayoutModel",
      "_view_count": null,
      "_view_module": "@jupyter-widgets/base",
      "_view_module_version": "1.2.0",
      "_view_name": "LayoutView",
      "align_content": null,
      "align_items": null,
      "align_self": null,
      "border": null,
      "bottom": null,
      "display": null,
      "flex": null,
      "flex_flow": null,
      "grid_area": null,
      "grid_auto_columns": null,
      "grid_auto_flow": null,
      "grid_auto_rows": null,
      "grid_column": null,
      "grid_gap": null,
      "grid_row": null,
      "grid_template_areas": null,
      "grid_template_columns": null,
      "grid_template_rows": null,
      "height": null,
      "justify_content": null,
      "justify_items": null,
      "left": null,
      "margin": null,
      "max_height": null,
      "max_width": null,
      "min_height": null,
      "min_width": null,
      "object_fit": null,
      "object_position": null,
      "order": null,
      "overflow": null,
      "overflow_x": null,
      "overflow_y": null,
      "padding": null,
      "right": null,
      "top": null,
      "visibility": null,
      "width": null
     }
    },
    "6cbce0d1a41f49e2aacf72f6a49fd22a": {
     "model_module": "@jupyter-widgets/controls",
     "model_module_version": "1.5.0",
     "model_name": "DescriptionStyleModel",
     "state": {
      "_model_module": "@jupyter-widgets/controls",
      "_model_module_version": "1.5.0",
      "_model_name": "DescriptionStyleModel",
      "_view_count": null,
      "_view_module": "@jupyter-widgets/base",
      "_view_module_version": "1.2.0",
      "_view_name": "StyleView",
      "description_width": ""
     }
    },
    "6cf61daee29e496e86f8288a23675fec": {
     "model_module": "@jupyter-widgets/base",
     "model_module_version": "1.2.0",
     "model_name": "LayoutModel",
     "state": {
      "_model_module": "@jupyter-widgets/base",
      "_model_module_version": "1.2.0",
      "_model_name": "LayoutModel",
      "_view_count": null,
      "_view_module": "@jupyter-widgets/base",
      "_view_module_version": "1.2.0",
      "_view_name": "LayoutView",
      "align_content": null,
      "align_items": null,
      "align_self": null,
      "border": null,
      "bottom": null,
      "display": null,
      "flex": null,
      "flex_flow": null,
      "grid_area": null,
      "grid_auto_columns": null,
      "grid_auto_flow": null,
      "grid_auto_rows": null,
      "grid_column": null,
      "grid_gap": null,
      "grid_row": null,
      "grid_template_areas": null,
      "grid_template_columns": null,
      "grid_template_rows": null,
      "height": null,
      "justify_content": null,
      "justify_items": null,
      "left": null,
      "margin": null,
      "max_height": null,
      "max_width": null,
      "min_height": null,
      "min_width": null,
      "object_fit": null,
      "object_position": null,
      "order": null,
      "overflow": null,
      "overflow_x": null,
      "overflow_y": null,
      "padding": null,
      "right": null,
      "top": null,
      "visibility": null,
      "width": null
     }
    },
    "6d54714237ca4fc998bba9a1d7634ec5": {
     "model_module": "@jupyter-widgets/controls",
     "model_module_version": "1.5.0",
     "model_name": "FloatProgressModel",
     "state": {
      "_dom_classes": [],
      "_model_module": "@jupyter-widgets/controls",
      "_model_module_version": "1.5.0",
      "_model_name": "FloatProgressModel",
      "_view_count": null,
      "_view_module": "@jupyter-widgets/controls",
      "_view_module_version": "1.5.0",
      "_view_name": "ProgressView",
      "bar_style": "success",
      "description": "",
      "description_tooltip": null,
      "layout": "IPY_MODEL_0cc74bbb637a4c85bb0f96eb4b1d3a91",
      "max": 437955512,
      "min": 0,
      "orientation": "horizontal",
      "style": "IPY_MODEL_fc6b32296e4a4f8a9fe0d1b565034572",
      "value": 437955512
     }
    },
    "6dc84ba180da4d989428c22b0d4afb1d": {
     "model_module": "@jupyter-widgets/controls",
     "model_module_version": "1.5.0",
     "model_name": "ProgressStyleModel",
     "state": {
      "_model_module": "@jupyter-widgets/controls",
      "_model_module_version": "1.5.0",
      "_model_name": "ProgressStyleModel",
      "_view_count": null,
      "_view_module": "@jupyter-widgets/base",
      "_view_module_version": "1.2.0",
      "_view_name": "StyleView",
      "bar_color": null,
      "description_width": ""
     }
    },
    "6fb817f920a045d6a4398e077f42c057": {
     "model_module": "@jupyter-widgets/controls",
     "model_module_version": "1.5.0",
     "model_name": "ProgressStyleModel",
     "state": {
      "_model_module": "@jupyter-widgets/controls",
      "_model_module_version": "1.5.0",
      "_model_name": "ProgressStyleModel",
      "_view_count": null,
      "_view_module": "@jupyter-widgets/base",
      "_view_module_version": "1.2.0",
      "_view_name": "StyleView",
      "bar_color": null,
      "description_width": ""
     }
    },
    "6fd9b9de51d244c59078c1a02ff252c3": {
     "model_module": "@jupyter-widgets/controls",
     "model_module_version": "1.5.0",
     "model_name": "DescriptionStyleModel",
     "state": {
      "_model_module": "@jupyter-widgets/controls",
      "_model_module_version": "1.5.0",
      "_model_name": "DescriptionStyleModel",
      "_view_count": null,
      "_view_module": "@jupyter-widgets/base",
      "_view_module_version": "1.2.0",
      "_view_name": "StyleView",
      "description_width": ""
     }
    },
    "729627842d0147d0aa0466ae7b970b72": {
     "model_module": "@jupyter-widgets/controls",
     "model_module_version": "1.5.0",
     "model_name": "HTMLModel",
     "state": {
      "_dom_classes": [],
      "_model_module": "@jupyter-widgets/controls",
      "_model_module_version": "1.5.0",
      "_model_name": "HTMLModel",
      "_view_count": null,
      "_view_module": "@jupyter-widgets/controls",
      "_view_module_version": "1.5.0",
      "_view_name": "HTMLView",
      "description": "",
      "description_tooltip": null,
      "layout": "IPY_MODEL_3cf7cc8eea074f40bcc1c3686550c489",
      "placeholder": "​",
      "style": "IPY_MODEL_9f1c4557182e4470b288db5a78be3ea9",
      "value": " 112/112 [00:00&lt;00:00, 7.85kB/s]"
     }
    },
    "739b6243b4e042e0b16551535224af4a": {
     "model_module": "@jupyter-widgets/base",
     "model_module_version": "1.2.0",
     "model_name": "LayoutModel",
     "state": {
      "_model_module": "@jupyter-widgets/base",
      "_model_module_version": "1.2.0",
      "_model_name": "LayoutModel",
      "_view_count": null,
      "_view_module": "@jupyter-widgets/base",
      "_view_module_version": "1.2.0",
      "_view_name": "LayoutView",
      "align_content": null,
      "align_items": null,
      "align_self": null,
      "border": null,
      "bottom": null,
      "display": null,
      "flex": null,
      "flex_flow": null,
      "grid_area": null,
      "grid_auto_columns": null,
      "grid_auto_flow": null,
      "grid_auto_rows": null,
      "grid_column": null,
      "grid_gap": null,
      "grid_row": null,
      "grid_template_areas": null,
      "grid_template_columns": null,
      "grid_template_rows": null,
      "height": null,
      "justify_content": null,
      "justify_items": null,
      "left": null,
      "margin": null,
      "max_height": null,
      "max_width": null,
      "min_height": null,
      "min_width": null,
      "object_fit": null,
      "object_position": null,
      "order": null,
      "overflow": null,
      "overflow_x": null,
      "overflow_y": null,
      "padding": null,
      "right": null,
      "top": null,
      "visibility": null,
      "width": null
     }
    },
    "75f4576077144777996e164b524a5ecb": {
     "model_module": "@jupyter-widgets/controls",
     "model_module_version": "1.5.0",
     "model_name": "HBoxModel",
     "state": {
      "_dom_classes": [],
      "_model_module": "@jupyter-widgets/controls",
      "_model_module_version": "1.5.0",
      "_model_name": "HBoxModel",
      "_view_count": null,
      "_view_module": "@jupyter-widgets/controls",
      "_view_module_version": "1.5.0",
      "_view_name": "HBoxView",
      "box_style": "",
      "children": [
       "IPY_MODEL_25a0c4f3892f4c959f45a607370756f8",
       "IPY_MODEL_8353200218bf4e03bc3b49e769df9834",
       "IPY_MODEL_341afcc2621043a884a008e3494c06c1"
      ],
      "layout": "IPY_MODEL_95a050eeb65c4bc1b0d1c67fbdcaa59e"
     }
    },
    "76202c412e3240b69cae019793f467bd": {
     "model_module": "@jupyter-widgets/base",
     "model_module_version": "1.2.0",
     "model_name": "LayoutModel",
     "state": {
      "_model_module": "@jupyter-widgets/base",
      "_model_module_version": "1.2.0",
      "_model_name": "LayoutModel",
      "_view_count": null,
      "_view_module": "@jupyter-widgets/base",
      "_view_module_version": "1.2.0",
      "_view_name": "LayoutView",
      "align_content": null,
      "align_items": null,
      "align_self": null,
      "border": null,
      "bottom": null,
      "display": null,
      "flex": null,
      "flex_flow": null,
      "grid_area": null,
      "grid_auto_columns": null,
      "grid_auto_flow": null,
      "grid_auto_rows": null,
      "grid_column": null,
      "grid_gap": null,
      "grid_row": null,
      "grid_template_areas": null,
      "grid_template_columns": null,
      "grid_template_rows": null,
      "height": null,
      "justify_content": null,
      "justify_items": null,
      "left": null,
      "margin": null,
      "max_height": null,
      "max_width": null,
      "min_height": null,
      "min_width": null,
      "object_fit": null,
      "object_position": null,
      "order": null,
      "overflow": null,
      "overflow_x": null,
      "overflow_y": null,
      "padding": null,
      "right": null,
      "top": null,
      "visibility": null,
      "width": null
     }
    },
    "767eadee5a2247ef8aa77b1645a2887b": {
     "model_module": "@jupyter-widgets/controls",
     "model_module_version": "1.5.0",
     "model_name": "HTMLModel",
     "state": {
      "_dom_classes": [],
      "_model_module": "@jupyter-widgets/controls",
      "_model_module_version": "1.5.0",
      "_model_name": "HTMLModel",
      "_view_count": null,
      "_view_module": "@jupyter-widgets/controls",
      "_view_module_version": "1.5.0",
      "_view_name": "HTMLView",
      "description": "",
      "description_tooltip": null,
      "layout": "IPY_MODEL_e3e04b01ef5543389e6d54ccf39abfe2",
      "placeholder": "​",
      "style": "IPY_MODEL_61906e77a907438eb7820a4bbf4aa82d",
      "value": "tokenizer.json: 100%"
     }
    },
    "76839f5dbd8548cdaa0219ebfaa3d28c": {
     "model_module": "@jupyter-widgets/controls",
     "model_module_version": "1.5.0",
     "model_name": "HBoxModel",
     "state": {
      "_dom_classes": [],
      "_model_module": "@jupyter-widgets/controls",
      "_model_module_version": "1.5.0",
      "_model_name": "HBoxModel",
      "_view_count": null,
      "_view_module": "@jupyter-widgets/controls",
      "_view_module_version": "1.5.0",
      "_view_name": "HBoxView",
      "box_style": "",
      "children": [
       "IPY_MODEL_62162fedbfd046a08a3fabae1d112829",
       "IPY_MODEL_1b1b7dd804b740e399ea4fa554ac0dfd",
       "IPY_MODEL_ba9677b6941a4643b22a1d9d55c4906d"
      ],
      "layout": "IPY_MODEL_613cd2dfb25f43ad862765b05db6f281"
     }
    },
    "76f2cc947c2d4cf285892321edeed86e": {
     "model_module": "@jupyter-widgets/controls",
     "model_module_version": "1.5.0",
     "model_name": "HTMLModel",
     "state": {
      "_dom_classes": [],
      "_model_module": "@jupyter-widgets/controls",
      "_model_module_version": "1.5.0",
      "_model_name": "HTMLModel",
      "_view_count": null,
      "_view_module": "@jupyter-widgets/controls",
      "_view_module_version": "1.5.0",
      "_view_name": "HTMLView",
      "description": "",
      "description_tooltip": null,
      "layout": "IPY_MODEL_b161717e21c54352b6a990f7b42deace",
      "placeholder": "​",
      "style": "IPY_MODEL_d563ce1f3738490690352eaa277ea3ec",
      "value": "config.json: 100%"
     }
    },
    "77b7812497ca473baf5da5146b0d791a": {
     "model_module": "@jupyter-widgets/controls",
     "model_module_version": "1.5.0",
     "model_name": "HBoxModel",
     "state": {
      "_dom_classes": [],
      "_model_module": "@jupyter-widgets/controls",
      "_model_module_version": "1.5.0",
      "_model_name": "HBoxModel",
      "_view_count": null,
      "_view_module": "@jupyter-widgets/controls",
      "_view_module_version": "1.5.0",
      "_view_name": "HBoxView",
      "box_style": "",
      "children": [
       "IPY_MODEL_9309c640dc914aa1877235f968a61c5f",
       "IPY_MODEL_21bba906891443fa80e5d10314a14c03",
       "IPY_MODEL_cd86af88650140d5b94cb8d5ceb93bb0"
      ],
      "layout": "IPY_MODEL_3cf835df6d4541d5b19472e8dbfdcbe8"
     }
    },
    "77bfa846ca5145aa9c51bf5b024dc749": {
     "model_module": "@jupyter-widgets/base",
     "model_module_version": "1.2.0",
     "model_name": "LayoutModel",
     "state": {
      "_model_module": "@jupyter-widgets/base",
      "_model_module_version": "1.2.0",
      "_model_name": "LayoutModel",
      "_view_count": null,
      "_view_module": "@jupyter-widgets/base",
      "_view_module_version": "1.2.0",
      "_view_name": "LayoutView",
      "align_content": null,
      "align_items": null,
      "align_self": null,
      "border": null,
      "bottom": null,
      "display": null,
      "flex": null,
      "flex_flow": null,
      "grid_area": null,
      "grid_auto_columns": null,
      "grid_auto_flow": null,
      "grid_auto_rows": null,
      "grid_column": null,
      "grid_gap": null,
      "grid_row": null,
      "grid_template_areas": null,
      "grid_template_columns": null,
      "grid_template_rows": null,
      "height": null,
      "justify_content": null,
      "justify_items": null,
      "left": null,
      "margin": null,
      "max_height": null,
      "max_width": null,
      "min_height": null,
      "min_width": null,
      "object_fit": null,
      "object_position": null,
      "order": null,
      "overflow": null,
      "overflow_x": null,
      "overflow_y": null,
      "padding": null,
      "right": null,
      "top": null,
      "visibility": null,
      "width": null
     }
    },
    "780602ee65b843d18ecebee432f5d178": {
     "model_module": "@jupyter-widgets/controls",
     "model_module_version": "1.5.0",
     "model_name": "ProgressStyleModel",
     "state": {
      "_model_module": "@jupyter-widgets/controls",
      "_model_module_version": "1.5.0",
      "_model_name": "ProgressStyleModel",
      "_view_count": null,
      "_view_module": "@jupyter-widgets/base",
      "_view_module_version": "1.2.0",
      "_view_name": "StyleView",
      "bar_color": null,
      "description_width": ""
     }
    },
    "7cdf6a78d178435f8daaea0e7d3e9a45": {
     "model_module": "@jupyter-widgets/base",
     "model_module_version": "1.2.0",
     "model_name": "LayoutModel",
     "state": {
      "_model_module": "@jupyter-widgets/base",
      "_model_module_version": "1.2.0",
      "_model_name": "LayoutModel",
      "_view_count": null,
      "_view_module": "@jupyter-widgets/base",
      "_view_module_version": "1.2.0",
      "_view_name": "LayoutView",
      "align_content": null,
      "align_items": null,
      "align_self": null,
      "border": null,
      "bottom": null,
      "display": null,
      "flex": null,
      "flex_flow": null,
      "grid_area": null,
      "grid_auto_columns": null,
      "grid_auto_flow": null,
      "grid_auto_rows": null,
      "grid_column": null,
      "grid_gap": null,
      "grid_row": null,
      "grid_template_areas": null,
      "grid_template_columns": null,
      "grid_template_rows": null,
      "height": null,
      "justify_content": null,
      "justify_items": null,
      "left": null,
      "margin": null,
      "max_height": null,
      "max_width": null,
      "min_height": null,
      "min_width": null,
      "object_fit": null,
      "object_position": null,
      "order": null,
      "overflow": null,
      "overflow_x": null,
      "overflow_y": null,
      "padding": null,
      "right": null,
      "top": null,
      "visibility": null,
      "width": null
     }
    },
    "7e41b22f614949bba1ca1ca823a74dab": {
     "model_module": "@jupyter-widgets/base",
     "model_module_version": "1.2.0",
     "model_name": "LayoutModel",
     "state": {
      "_model_module": "@jupyter-widgets/base",
      "_model_module_version": "1.2.0",
      "_model_name": "LayoutModel",
      "_view_count": null,
      "_view_module": "@jupyter-widgets/base",
      "_view_module_version": "1.2.0",
      "_view_name": "LayoutView",
      "align_content": null,
      "align_items": null,
      "align_self": null,
      "border": null,
      "bottom": null,
      "display": null,
      "flex": null,
      "flex_flow": null,
      "grid_area": null,
      "grid_auto_columns": null,
      "grid_auto_flow": null,
      "grid_auto_rows": null,
      "grid_column": null,
      "grid_gap": null,
      "grid_row": null,
      "grid_template_areas": null,
      "grid_template_columns": null,
      "grid_template_rows": null,
      "height": null,
      "justify_content": null,
      "justify_items": null,
      "left": null,
      "margin": null,
      "max_height": null,
      "max_width": null,
      "min_height": null,
      "min_width": null,
      "object_fit": null,
      "object_position": null,
      "order": null,
      "overflow": null,
      "overflow_x": null,
      "overflow_y": null,
      "padding": null,
      "right": null,
      "top": null,
      "visibility": null,
      "width": null
     }
    },
    "7ebbbcd0f5ea47afacbff97527d371dc": {
     "model_module": "@jupyter-widgets/controls",
     "model_module_version": "1.5.0",
     "model_name": "HTMLModel",
     "state": {
      "_dom_classes": [],
      "_model_module": "@jupyter-widgets/controls",
      "_model_module_version": "1.5.0",
      "_model_name": "HTMLModel",
      "_view_count": null,
      "_view_module": "@jupyter-widgets/controls",
      "_view_module_version": "1.5.0",
      "_view_name": "HTMLView",
      "description": "",
      "description_tooltip": null,
      "layout": "IPY_MODEL_6a7b77d124554a2cbf1249374312a293",
      "placeholder": "​",
      "style": "IPY_MODEL_91d3eb11a90944988d2307774cd9aaca",
      "value": " 438M/438M [00:04&lt;00:00, 100MB/s]"
     }
    },
    "8168252d96c6465a90b70b02bec0f790": {
     "model_module": "@jupyter-widgets/base",
     "model_module_version": "1.2.0",
     "model_name": "LayoutModel",
     "state": {
      "_model_module": "@jupyter-widgets/base",
      "_model_module_version": "1.2.0",
      "_model_name": "LayoutModel",
      "_view_count": null,
      "_view_module": "@jupyter-widgets/base",
      "_view_module_version": "1.2.0",
      "_view_name": "LayoutView",
      "align_content": null,
      "align_items": null,
      "align_self": null,
      "border": null,
      "bottom": null,
      "display": null,
      "flex": null,
      "flex_flow": null,
      "grid_area": null,
      "grid_auto_columns": null,
      "grid_auto_flow": null,
      "grid_auto_rows": null,
      "grid_column": null,
      "grid_gap": null,
      "grid_row": null,
      "grid_template_areas": null,
      "grid_template_columns": null,
      "grid_template_rows": null,
      "height": null,
      "justify_content": null,
      "justify_items": null,
      "left": null,
      "margin": null,
      "max_height": null,
      "max_width": null,
      "min_height": null,
      "min_width": null,
      "object_fit": null,
      "object_position": null,
      "order": null,
      "overflow": null,
      "overflow_x": null,
      "overflow_y": null,
      "padding": null,
      "right": null,
      "top": null,
      "visibility": null,
      "width": null
     }
    },
    "8353200218bf4e03bc3b49e769df9834": {
     "model_module": "@jupyter-widgets/controls",
     "model_module_version": "1.5.0",
     "model_name": "FloatProgressModel",
     "state": {
      "_dom_classes": [],
      "_model_module": "@jupyter-widgets/controls",
      "_model_module_version": "1.5.0",
      "_model_name": "FloatProgressModel",
      "_view_count": null,
      "_view_module": "@jupyter-widgets/controls",
      "_view_module_version": "1.5.0",
      "_view_name": "ProgressView",
      "bar_style": "success",
      "description": "",
      "description_tooltip": null,
      "layout": "IPY_MODEL_a70f7ae441944cfab836f421b2ddb35a",
      "max": 4881,
      "min": 0,
      "orientation": "horizontal",
      "style": "IPY_MODEL_62d013cd71a645ea8082d92445428d86",
      "value": 4881
     }
    },
    "86b2a836173c476ebc7e0045b9f604fb": {
     "model_module": "@jupyter-widgets/controls",
     "model_module_version": "1.5.0",
     "model_name": "FloatProgressModel",
     "state": {
      "_dom_classes": [],
      "_model_module": "@jupyter-widgets/controls",
      "_model_module_version": "1.5.0",
      "_model_name": "FloatProgressModel",
      "_view_count": null,
      "_view_module": "@jupyter-widgets/controls",
      "_view_module_version": "1.5.0",
      "_view_name": "ProgressView",
      "bar_style": "success",
      "description": "",
      "description_tooltip": null,
      "layout": "IPY_MODEL_e34869fd88eb4286af775d676a231438",
      "max": 440449768,
      "min": 0,
      "orientation": "horizontal",
      "style": "IPY_MODEL_1315a9b8fed548afbc2ea604db980e22",
      "value": 440449768
     }
    },
    "87345a68e5074f6b9aad5e6b01e1ba44": {
     "model_module": "@jupyter-widgets/controls",
     "model_module_version": "1.5.0",
     "model_name": "HTMLModel",
     "state": {
      "_dom_classes": [],
      "_model_module": "@jupyter-widgets/controls",
      "_model_module_version": "1.5.0",
      "_model_name": "HTMLModel",
      "_view_count": null,
      "_view_module": "@jupyter-widgets/controls",
      "_view_module_version": "1.5.0",
      "_view_name": "HTMLView",
      "description": "",
      "description_tooltip": null,
      "layout": "IPY_MODEL_933abf9e130c490eada85e1432dd3a0a",
      "placeholder": "​",
      "style": "IPY_MODEL_33b3ad0742eb407e8546ca6b22e6379d",
      "value": "Map: 100%"
     }
    },
    "8aebdb9a12fd4f0db78eb24f204e8b5b": {
     "model_module": "@jupyter-widgets/base",
     "model_module_version": "1.2.0",
     "model_name": "LayoutModel",
     "state": {
      "_model_module": "@jupyter-widgets/base",
      "_model_module_version": "1.2.0",
      "_model_name": "LayoutModel",
      "_view_count": null,
      "_view_module": "@jupyter-widgets/base",
      "_view_module_version": "1.2.0",
      "_view_name": "LayoutView",
      "align_content": null,
      "align_items": null,
      "align_self": null,
      "border": null,
      "bottom": null,
      "display": null,
      "flex": null,
      "flex_flow": null,
      "grid_area": null,
      "grid_auto_columns": null,
      "grid_auto_flow": null,
      "grid_auto_rows": null,
      "grid_column": null,
      "grid_gap": null,
      "grid_row": null,
      "grid_template_areas": null,
      "grid_template_columns": null,
      "grid_template_rows": null,
      "height": null,
      "justify_content": null,
      "justify_items": null,
      "left": null,
      "margin": null,
      "max_height": null,
      "max_width": null,
      "min_height": null,
      "min_width": null,
      "object_fit": null,
      "object_position": null,
      "order": null,
      "overflow": null,
      "overflow_x": null,
      "overflow_y": null,
      "padding": null,
      "right": null,
      "top": null,
      "visibility": null,
      "width": null
     }
    },
    "8e7e3aa344184f1b8857cdd920245908": {
     "model_module": "@jupyter-widgets/controls",
     "model_module_version": "1.5.0",
     "model_name": "FloatProgressModel",
     "state": {
      "_dom_classes": [],
      "_model_module": "@jupyter-widgets/controls",
      "_model_module_version": "1.5.0",
      "_model_name": "FloatProgressModel",
      "_view_count": null,
      "_view_module": "@jupyter-widgets/controls",
      "_view_module_version": "1.5.0",
      "_view_name": "ProgressView",
      "bar_style": "success",
      "description": "",
      "description_tooltip": null,
      "layout": "IPY_MODEL_2a01c0fbfe4e460cb9ff5bd73b3c7d21",
      "max": 48,
      "min": 0,
      "orientation": "horizontal",
      "style": "IPY_MODEL_c1259360ee184b03940e9abc453c52cc",
      "value": 48
     }
    },
    "8f75cbef96b24262bef3d81d6a49bd6d": {
     "model_module": "@jupyter-widgets/base",
     "model_module_version": "1.2.0",
     "model_name": "LayoutModel",
     "state": {
      "_model_module": "@jupyter-widgets/base",
      "_model_module_version": "1.2.0",
      "_model_name": "LayoutModel",
      "_view_count": null,
      "_view_module": "@jupyter-widgets/base",
      "_view_module_version": "1.2.0",
      "_view_name": "LayoutView",
      "align_content": null,
      "align_items": null,
      "align_self": null,
      "border": null,
      "bottom": null,
      "display": null,
      "flex": null,
      "flex_flow": null,
      "grid_area": null,
      "grid_auto_columns": null,
      "grid_auto_flow": null,
      "grid_auto_rows": null,
      "grid_column": null,
      "grid_gap": null,
      "grid_row": null,
      "grid_template_areas": null,
      "grid_template_columns": null,
      "grid_template_rows": null,
      "height": null,
      "justify_content": null,
      "justify_items": null,
      "left": null,
      "margin": null,
      "max_height": null,
      "max_width": null,
      "min_height": null,
      "min_width": null,
      "object_fit": null,
      "object_position": null,
      "order": null,
      "overflow": null,
      "overflow_x": null,
      "overflow_y": null,
      "padding": null,
      "right": null,
      "top": null,
      "visibility": null,
      "width": null
     }
    },
    "90f33b107b5346e58f62b007a8a1a3a1": {
     "model_module": "@jupyter-widgets/controls",
     "model_module_version": "1.5.0",
     "model_name": "ProgressStyleModel",
     "state": {
      "_model_module": "@jupyter-widgets/controls",
      "_model_module_version": "1.5.0",
      "_model_name": "ProgressStyleModel",
      "_view_count": null,
      "_view_module": "@jupyter-widgets/base",
      "_view_module_version": "1.2.0",
      "_view_name": "StyleView",
      "bar_color": null,
      "description_width": ""
     }
    },
    "91d3eb11a90944988d2307774cd9aaca": {
     "model_module": "@jupyter-widgets/controls",
     "model_module_version": "1.5.0",
     "model_name": "DescriptionStyleModel",
     "state": {
      "_model_module": "@jupyter-widgets/controls",
      "_model_module_version": "1.5.0",
      "_model_name": "DescriptionStyleModel",
      "_view_count": null,
      "_view_module": "@jupyter-widgets/base",
      "_view_module_version": "1.2.0",
      "_view_name": "StyleView",
      "description_width": ""
     }
    },
    "928ccb9c058640418ea98386302e5919": {
     "model_module": "@jupyter-widgets/base",
     "model_module_version": "1.2.0",
     "model_name": "LayoutModel",
     "state": {
      "_model_module": "@jupyter-widgets/base",
      "_model_module_version": "1.2.0",
      "_model_name": "LayoutModel",
      "_view_count": null,
      "_view_module": "@jupyter-widgets/base",
      "_view_module_version": "1.2.0",
      "_view_name": "LayoutView",
      "align_content": null,
      "align_items": null,
      "align_self": null,
      "border": null,
      "bottom": null,
      "display": null,
      "flex": null,
      "flex_flow": null,
      "grid_area": null,
      "grid_auto_columns": null,
      "grid_auto_flow": null,
      "grid_auto_rows": null,
      "grid_column": null,
      "grid_gap": null,
      "grid_row": null,
      "grid_template_areas": null,
      "grid_template_columns": null,
      "grid_template_rows": null,
      "height": null,
      "justify_content": null,
      "justify_items": null,
      "left": null,
      "margin": null,
      "max_height": null,
      "max_width": null,
      "min_height": null,
      "min_width": null,
      "object_fit": null,
      "object_position": null,
      "order": null,
      "overflow": null,
      "overflow_x": null,
      "overflow_y": null,
      "padding": null,
      "right": null,
      "top": null,
      "visibility": null,
      "width": null
     }
    },
    "9309c640dc914aa1877235f968a61c5f": {
     "model_module": "@jupyter-widgets/controls",
     "model_module_version": "1.5.0",
     "model_name": "HTMLModel",
     "state": {
      "_dom_classes": [],
      "_model_module": "@jupyter-widgets/controls",
      "_model_module_version": "1.5.0",
      "_model_name": "HTMLModel",
      "_view_count": null,
      "_view_module": "@jupyter-widgets/controls",
      "_view_module_version": "1.5.0",
      "_view_name": "HTMLView",
      "description": "",
      "description_tooltip": null,
      "layout": "IPY_MODEL_55d5444c1b46465d844eeae43ca37f3e",
      "placeholder": "​",
      "style": "IPY_MODEL_63e7723716f941ca8fe1af8835be8bd6",
      "value": "vocab.txt: 100%"
     }
    },
    "933abf9e130c490eada85e1432dd3a0a": {
     "model_module": "@jupyter-widgets/base",
     "model_module_version": "1.2.0",
     "model_name": "LayoutModel",
     "state": {
      "_model_module": "@jupyter-widgets/base",
      "_model_module_version": "1.2.0",
      "_model_name": "LayoutModel",
      "_view_count": null,
      "_view_module": "@jupyter-widgets/base",
      "_view_module_version": "1.2.0",
      "_view_name": "LayoutView",
      "align_content": null,
      "align_items": null,
      "align_self": null,
      "border": null,
      "bottom": null,
      "display": null,
      "flex": null,
      "flex_flow": null,
      "grid_area": null,
      "grid_auto_columns": null,
      "grid_auto_flow": null,
      "grid_auto_rows": null,
      "grid_column": null,
      "grid_gap": null,
      "grid_row": null,
      "grid_template_areas": null,
      "grid_template_columns": null,
      "grid_template_rows": null,
      "height": null,
      "justify_content": null,
      "justify_items": null,
      "left": null,
      "margin": null,
      "max_height": null,
      "max_width": null,
      "min_height": null,
      "min_width": null,
      "object_fit": null,
      "object_position": null,
      "order": null,
      "overflow": null,
      "overflow_x": null,
      "overflow_y": null,
      "padding": null,
      "right": null,
      "top": null,
      "visibility": null,
      "width": null
     }
    },
    "9515966c35664487a6f6d31189bf662a": {
     "model_module": "@jupyter-widgets/base",
     "model_module_version": "1.2.0",
     "model_name": "LayoutModel",
     "state": {
      "_model_module": "@jupyter-widgets/base",
      "_model_module_version": "1.2.0",
      "_model_name": "LayoutModel",
      "_view_count": null,
      "_view_module": "@jupyter-widgets/base",
      "_view_module_version": "1.2.0",
      "_view_name": "LayoutView",
      "align_content": null,
      "align_items": null,
      "align_self": null,
      "border": null,
      "bottom": null,
      "display": null,
      "flex": null,
      "flex_flow": null,
      "grid_area": null,
      "grid_auto_columns": null,
      "grid_auto_flow": null,
      "grid_auto_rows": null,
      "grid_column": null,
      "grid_gap": null,
      "grid_row": null,
      "grid_template_areas": null,
      "grid_template_columns": null,
      "grid_template_rows": null,
      "height": null,
      "justify_content": null,
      "justify_items": null,
      "left": null,
      "margin": null,
      "max_height": null,
      "max_width": null,
      "min_height": null,
      "min_width": null,
      "object_fit": null,
      "object_position": null,
      "order": null,
      "overflow": null,
      "overflow_x": null,
      "overflow_y": null,
      "padding": null,
      "right": null,
      "top": null,
      "visibility": null,
      "width": null
     }
    },
    "955e3526e31f4215b1b7c787c0a2e383": {
     "model_module": "@jupyter-widgets/base",
     "model_module_version": "1.2.0",
     "model_name": "LayoutModel",
     "state": {
      "_model_module": "@jupyter-widgets/base",
      "_model_module_version": "1.2.0",
      "_model_name": "LayoutModel",
      "_view_count": null,
      "_view_module": "@jupyter-widgets/base",
      "_view_module_version": "1.2.0",
      "_view_name": "LayoutView",
      "align_content": null,
      "align_items": null,
      "align_self": null,
      "border": null,
      "bottom": null,
      "display": null,
      "flex": null,
      "flex_flow": null,
      "grid_area": null,
      "grid_auto_columns": null,
      "grid_auto_flow": null,
      "grid_auto_rows": null,
      "grid_column": null,
      "grid_gap": null,
      "grid_row": null,
      "grid_template_areas": null,
      "grid_template_columns": null,
      "grid_template_rows": null,
      "height": null,
      "justify_content": null,
      "justify_items": null,
      "left": null,
      "margin": null,
      "max_height": null,
      "max_width": null,
      "min_height": null,
      "min_width": null,
      "object_fit": null,
      "object_position": null,
      "order": null,
      "overflow": null,
      "overflow_x": null,
      "overflow_y": null,
      "padding": null,
      "right": null,
      "top": null,
      "visibility": null,
      "width": null
     }
    },
    "95a050eeb65c4bc1b0d1c67fbdcaa59e": {
     "model_module": "@jupyter-widgets/base",
     "model_module_version": "1.2.0",
     "model_name": "LayoutModel",
     "state": {
      "_model_module": "@jupyter-widgets/base",
      "_model_module_version": "1.2.0",
      "_model_name": "LayoutModel",
      "_view_count": null,
      "_view_module": "@jupyter-widgets/base",
      "_view_module_version": "1.2.0",
      "_view_name": "LayoutView",
      "align_content": null,
      "align_items": null,
      "align_self": null,
      "border": null,
      "bottom": null,
      "display": null,
      "flex": null,
      "flex_flow": null,
      "grid_area": null,
      "grid_auto_columns": null,
      "grid_auto_flow": null,
      "grid_auto_rows": null,
      "grid_column": null,
      "grid_gap": null,
      "grid_row": null,
      "grid_template_areas": null,
      "grid_template_columns": null,
      "grid_template_rows": null,
      "height": null,
      "justify_content": null,
      "justify_items": null,
      "left": null,
      "margin": null,
      "max_height": null,
      "max_width": null,
      "min_height": null,
      "min_width": null,
      "object_fit": null,
      "object_position": null,
      "order": null,
      "overflow": null,
      "overflow_x": null,
      "overflow_y": null,
      "padding": null,
      "right": null,
      "top": null,
      "visibility": null,
      "width": null
     }
    },
    "9841d72ffa3c48d69580296721f52021": {
     "model_module": "@jupyter-widgets/controls",
     "model_module_version": "1.5.0",
     "model_name": "HTMLModel",
     "state": {
      "_dom_classes": [],
      "_model_module": "@jupyter-widgets/controls",
      "_model_module_version": "1.5.0",
      "_model_name": "HTMLModel",
      "_view_count": null,
      "_view_module": "@jupyter-widgets/controls",
      "_view_module_version": "1.5.0",
      "_view_name": "HTMLView",
      "description": "",
      "description_tooltip": null,
      "layout": "IPY_MODEL_d1ce7ef3a4e04989b17ba5dfa4635217",
      "placeholder": "​",
      "style": "IPY_MODEL_f1b9bf9b4ad64969be5699a1f5fe4e6e",
      "value": " 570/570 [00:00&lt;00:00, 40.0kB/s]"
     }
    },
    "98854897cc5b475aae14ec5247ea4895": {
     "model_module": "@jupyter-widgets/controls",
     "model_module_version": "1.5.0",
     "model_name": "DescriptionStyleModel",
     "state": {
      "_model_module": "@jupyter-widgets/controls",
      "_model_module_version": "1.5.0",
      "_model_name": "DescriptionStyleModel",
      "_view_count": null,
      "_view_module": "@jupyter-widgets/base",
      "_view_module_version": "1.2.0",
      "_view_name": "StyleView",
      "description_width": ""
     }
    },
    "98dc72dda6b54c3baf2ce3f4f4034b8b": {
     "model_module": "@jupyter-widgets/base",
     "model_module_version": "1.2.0",
     "model_name": "LayoutModel",
     "state": {
      "_model_module": "@jupyter-widgets/base",
      "_model_module_version": "1.2.0",
      "_model_name": "LayoutModel",
      "_view_count": null,
      "_view_module": "@jupyter-widgets/base",
      "_view_module_version": "1.2.0",
      "_view_name": "LayoutView",
      "align_content": null,
      "align_items": null,
      "align_self": null,
      "border": null,
      "bottom": null,
      "display": null,
      "flex": null,
      "flex_flow": null,
      "grid_area": null,
      "grid_auto_columns": null,
      "grid_auto_flow": null,
      "grid_auto_rows": null,
      "grid_column": null,
      "grid_gap": null,
      "grid_row": null,
      "grid_template_areas": null,
      "grid_template_columns": null,
      "grid_template_rows": null,
      "height": null,
      "justify_content": null,
      "justify_items": null,
      "left": null,
      "margin": null,
      "max_height": null,
      "max_width": null,
      "min_height": null,
      "min_width": null,
      "object_fit": null,
      "object_position": null,
      "order": null,
      "overflow": null,
      "overflow_x": null,
      "overflow_y": null,
      "padding": null,
      "right": null,
      "top": null,
      "visibility": null,
      "width": null
     }
    },
    "993a76942fe04d5ab144e47e4287a184": {
     "model_module": "@jupyter-widgets/controls",
     "model_module_version": "1.5.0",
     "model_name": "DescriptionStyleModel",
     "state": {
      "_model_module": "@jupyter-widgets/controls",
      "_model_module_version": "1.5.0",
      "_model_name": "DescriptionStyleModel",
      "_view_count": null,
      "_view_module": "@jupyter-widgets/base",
      "_view_module_version": "1.2.0",
      "_view_name": "StyleView",
      "description_width": ""
     }
    },
    "99d04751ee824986a50a0687cd8c52dd": {
     "model_module": "@jupyter-widgets/controls",
     "model_module_version": "1.5.0",
     "model_name": "DescriptionStyleModel",
     "state": {
      "_model_module": "@jupyter-widgets/controls",
      "_model_module_version": "1.5.0",
      "_model_name": "DescriptionStyleModel",
      "_view_count": null,
      "_view_module": "@jupyter-widgets/base",
      "_view_module_version": "1.2.0",
      "_view_name": "StyleView",
      "description_width": ""
     }
    },
    "9a7c83903527453eafe9640acdc36290": {
     "model_module": "@jupyter-widgets/base",
     "model_module_version": "1.2.0",
     "model_name": "LayoutModel",
     "state": {
      "_model_module": "@jupyter-widgets/base",
      "_model_module_version": "1.2.0",
      "_model_name": "LayoutModel",
      "_view_count": null,
      "_view_module": "@jupyter-widgets/base",
      "_view_module_version": "1.2.0",
      "_view_name": "LayoutView",
      "align_content": null,
      "align_items": null,
      "align_self": null,
      "border": null,
      "bottom": null,
      "display": null,
      "flex": null,
      "flex_flow": null,
      "grid_area": null,
      "grid_auto_columns": null,
      "grid_auto_flow": null,
      "grid_auto_rows": null,
      "grid_column": null,
      "grid_gap": null,
      "grid_row": null,
      "grid_template_areas": null,
      "grid_template_columns": null,
      "grid_template_rows": null,
      "height": null,
      "justify_content": null,
      "justify_items": null,
      "left": null,
      "margin": null,
      "max_height": null,
      "max_width": null,
      "min_height": null,
      "min_width": null,
      "object_fit": null,
      "object_position": null,
      "order": null,
      "overflow": null,
      "overflow_x": null,
      "overflow_y": null,
      "padding": null,
      "right": null,
      "top": null,
      "visibility": null,
      "width": null
     }
    },
    "9d1d9550792c43128ef0012f72bc56f5": {
     "model_module": "@jupyter-widgets/base",
     "model_module_version": "1.2.0",
     "model_name": "LayoutModel",
     "state": {
      "_model_module": "@jupyter-widgets/base",
      "_model_module_version": "1.2.0",
      "_model_name": "LayoutModel",
      "_view_count": null,
      "_view_module": "@jupyter-widgets/base",
      "_view_module_version": "1.2.0",
      "_view_name": "LayoutView",
      "align_content": null,
      "align_items": null,
      "align_self": null,
      "border": null,
      "bottom": null,
      "display": null,
      "flex": null,
      "flex_flow": null,
      "grid_area": null,
      "grid_auto_columns": null,
      "grid_auto_flow": null,
      "grid_auto_rows": null,
      "grid_column": null,
      "grid_gap": null,
      "grid_row": null,
      "grid_template_areas": null,
      "grid_template_columns": null,
      "grid_template_rows": null,
      "height": null,
      "justify_content": null,
      "justify_items": null,
      "left": null,
      "margin": null,
      "max_height": null,
      "max_width": null,
      "min_height": null,
      "min_width": null,
      "object_fit": null,
      "object_position": null,
      "order": null,
      "overflow": null,
      "overflow_x": null,
      "overflow_y": null,
      "padding": null,
      "right": null,
      "top": null,
      "visibility": null,
      "width": null
     }
    },
    "9e7e4ade0b8041d19ca6327d383f5be9": {
     "model_module": "@jupyter-widgets/base",
     "model_module_version": "1.2.0",
     "model_name": "LayoutModel",
     "state": {
      "_model_module": "@jupyter-widgets/base",
      "_model_module_version": "1.2.0",
      "_model_name": "LayoutModel",
      "_view_count": null,
      "_view_module": "@jupyter-widgets/base",
      "_view_module_version": "1.2.0",
      "_view_name": "LayoutView",
      "align_content": null,
      "align_items": null,
      "align_self": null,
      "border": null,
      "bottom": null,
      "display": null,
      "flex": null,
      "flex_flow": null,
      "grid_area": null,
      "grid_auto_columns": null,
      "grid_auto_flow": null,
      "grid_auto_rows": null,
      "grid_column": null,
      "grid_gap": null,
      "grid_row": null,
      "grid_template_areas": null,
      "grid_template_columns": null,
      "grid_template_rows": null,
      "height": null,
      "justify_content": null,
      "justify_items": null,
      "left": null,
      "margin": null,
      "max_height": null,
      "max_width": null,
      "min_height": null,
      "min_width": null,
      "object_fit": null,
      "object_position": null,
      "order": null,
      "overflow": null,
      "overflow_x": null,
      "overflow_y": null,
      "padding": null,
      "right": null,
      "top": null,
      "visibility": null,
      "width": null
     }
    },
    "9ea80ddaa82a4277a5e8a0936ba6998d": {
     "model_module": "@jupyter-widgets/base",
     "model_module_version": "1.2.0",
     "model_name": "LayoutModel",
     "state": {
      "_model_module": "@jupyter-widgets/base",
      "_model_module_version": "1.2.0",
      "_model_name": "LayoutModel",
      "_view_count": null,
      "_view_module": "@jupyter-widgets/base",
      "_view_module_version": "1.2.0",
      "_view_name": "LayoutView",
      "align_content": null,
      "align_items": null,
      "align_self": null,
      "border": null,
      "bottom": null,
      "display": null,
      "flex": null,
      "flex_flow": null,
      "grid_area": null,
      "grid_auto_columns": null,
      "grid_auto_flow": null,
      "grid_auto_rows": null,
      "grid_column": null,
      "grid_gap": null,
      "grid_row": null,
      "grid_template_areas": null,
      "grid_template_columns": null,
      "grid_template_rows": null,
      "height": null,
      "justify_content": null,
      "justify_items": null,
      "left": null,
      "margin": null,
      "max_height": null,
      "max_width": null,
      "min_height": null,
      "min_width": null,
      "object_fit": null,
      "object_position": null,
      "order": null,
      "overflow": null,
      "overflow_x": null,
      "overflow_y": null,
      "padding": null,
      "right": null,
      "top": null,
      "visibility": null,
      "width": null
     }
    },
    "9ed2a90c8a5041949f10ab88e8d97d64": {
     "model_module": "@jupyter-widgets/controls",
     "model_module_version": "1.5.0",
     "model_name": "HBoxModel",
     "state": {
      "_dom_classes": [],
      "_model_module": "@jupyter-widgets/controls",
      "_model_module_version": "1.5.0",
      "_model_name": "HBoxModel",
      "_view_count": null,
      "_view_module": "@jupyter-widgets/controls",
      "_view_module_version": "1.5.0",
      "_view_name": "HBoxView",
      "box_style": "",
      "children": [
       "IPY_MODEL_e40b3b8b9612410498345481aa8dc2f7",
       "IPY_MODEL_025224eb1c3b464c93fdd6d69a70ac5d",
       "IPY_MODEL_b4b8c09f2c574dd696d3ef2eb0d041b0"
      ],
      "layout": "IPY_MODEL_0f50481b895f4c2abc6cfc273db15a7a"
     }
    },
    "9f09b00036f543d9bc2d1d5e4e53ac51": {
     "model_module": "@jupyter-widgets/controls",
     "model_module_version": "1.5.0",
     "model_name": "ProgressStyleModel",
     "state": {
      "_model_module": "@jupyter-widgets/controls",
      "_model_module_version": "1.5.0",
      "_model_name": "ProgressStyleModel",
      "_view_count": null,
      "_view_module": "@jupyter-widgets/base",
      "_view_module_version": "1.2.0",
      "_view_name": "StyleView",
      "bar_color": null,
      "description_width": ""
     }
    },
    "9f1c4557182e4470b288db5a78be3ea9": {
     "model_module": "@jupyter-widgets/controls",
     "model_module_version": "1.5.0",
     "model_name": "DescriptionStyleModel",
     "state": {
      "_model_module": "@jupyter-widgets/controls",
      "_model_module_version": "1.5.0",
      "_model_name": "DescriptionStyleModel",
      "_view_count": null,
      "_view_module": "@jupyter-widgets/base",
      "_view_module_version": "1.2.0",
      "_view_name": "StyleView",
      "description_width": ""
     }
    },
    "9f3579b0c13b418bae0c52f6652b7e3c": {
     "model_module": "@jupyter-widgets/controls",
     "model_module_version": "1.5.0",
     "model_name": "HTMLModel",
     "state": {
      "_dom_classes": [],
      "_model_module": "@jupyter-widgets/controls",
      "_model_module_version": "1.5.0",
      "_model_name": "HTMLModel",
      "_view_count": null,
      "_view_module": "@jupyter-widgets/controls",
      "_view_module_version": "1.5.0",
      "_view_name": "HTMLView",
      "description": "",
      "description_tooltip": null,
      "layout": "IPY_MODEL_bd2612ac07774cba8ae54653adccce0d",
      "placeholder": "​",
      "style": "IPY_MODEL_c0b12d82356b4075a685bce0f45d9d86",
      "value": "Map: 100%"
     }
    },
    "a0390c18189649909bbaa71613fb4616": {
     "model_module": "@jupyter-widgets/controls",
     "model_module_version": "1.5.0",
     "model_name": "HTMLModel",
     "state": {
      "_dom_classes": [],
      "_model_module": "@jupyter-widgets/controls",
      "_model_module_version": "1.5.0",
      "_model_name": "HTMLModel",
      "_view_count": null,
      "_view_module": "@jupyter-widgets/controls",
      "_view_module_version": "1.5.0",
      "_view_name": "HTMLView",
      "description": "",
      "description_tooltip": null,
      "layout": "IPY_MODEL_3616095883d74e41bc35a71d2b28e458",
      "placeholder": "​",
      "style": "IPY_MODEL_5e2b16aef2e549fbae8083e7b41d1d28",
      "value": "vocab.txt: 100%"
     }
    },
    "a18ba5fa563e4889b7973feb676086cf": {
     "model_module": "@jupyter-widgets/controls",
     "model_module_version": "1.5.0",
     "model_name": "ProgressStyleModel",
     "state": {
      "_model_module": "@jupyter-widgets/controls",
      "_model_module_version": "1.5.0",
      "_model_name": "ProgressStyleModel",
      "_view_count": null,
      "_view_module": "@jupyter-widgets/base",
      "_view_module_version": "1.2.0",
      "_view_name": "StyleView",
      "bar_color": null,
      "description_width": ""
     }
    },
    "a24e281a8a424acb867eddeaf545bd34": {
     "model_module": "@jupyter-widgets/base",
     "model_module_version": "1.2.0",
     "model_name": "LayoutModel",
     "state": {
      "_model_module": "@jupyter-widgets/base",
      "_model_module_version": "1.2.0",
      "_model_name": "LayoutModel",
      "_view_count": null,
      "_view_module": "@jupyter-widgets/base",
      "_view_module_version": "1.2.0",
      "_view_name": "LayoutView",
      "align_content": null,
      "align_items": null,
      "align_self": null,
      "border": null,
      "bottom": null,
      "display": null,
      "flex": null,
      "flex_flow": null,
      "grid_area": null,
      "grid_auto_columns": null,
      "grid_auto_flow": null,
      "grid_auto_rows": null,
      "grid_column": null,
      "grid_gap": null,
      "grid_row": null,
      "grid_template_areas": null,
      "grid_template_columns": null,
      "grid_template_rows": null,
      "height": null,
      "justify_content": null,
      "justify_items": null,
      "left": null,
      "margin": null,
      "max_height": null,
      "max_width": null,
      "min_height": null,
      "min_width": null,
      "object_fit": null,
      "object_position": null,
      "order": null,
      "overflow": null,
      "overflow_x": null,
      "overflow_y": null,
      "padding": null,
      "right": null,
      "top": null,
      "visibility": null,
      "width": null
     }
    },
    "a70f7ae441944cfab836f421b2ddb35a": {
     "model_module": "@jupyter-widgets/base",
     "model_module_version": "1.2.0",
     "model_name": "LayoutModel",
     "state": {
      "_model_module": "@jupyter-widgets/base",
      "_model_module_version": "1.2.0",
      "_model_name": "LayoutModel",
      "_view_count": null,
      "_view_module": "@jupyter-widgets/base",
      "_view_module_version": "1.2.0",
      "_view_name": "LayoutView",
      "align_content": null,
      "align_items": null,
      "align_self": null,
      "border": null,
      "bottom": null,
      "display": null,
      "flex": null,
      "flex_flow": null,
      "grid_area": null,
      "grid_auto_columns": null,
      "grid_auto_flow": null,
      "grid_auto_rows": null,
      "grid_column": null,
      "grid_gap": null,
      "grid_row": null,
      "grid_template_areas": null,
      "grid_template_columns": null,
      "grid_template_rows": null,
      "height": null,
      "justify_content": null,
      "justify_items": null,
      "left": null,
      "margin": null,
      "max_height": null,
      "max_width": null,
      "min_height": null,
      "min_width": null,
      "object_fit": null,
      "object_position": null,
      "order": null,
      "overflow": null,
      "overflow_x": null,
      "overflow_y": null,
      "padding": null,
      "right": null,
      "top": null,
      "visibility": null,
      "width": null
     }
    },
    "ab4960df5da74f0c860e7150c05731b3": {
     "model_module": "@jupyter-widgets/controls",
     "model_module_version": "1.5.0",
     "model_name": "FloatProgressModel",
     "state": {
      "_dom_classes": [],
      "_model_module": "@jupyter-widgets/controls",
      "_model_module_version": "1.5.0",
      "_model_name": "FloatProgressModel",
      "_view_count": null,
      "_view_module": "@jupyter-widgets/controls",
      "_view_module_version": "1.5.0",
      "_view_name": "ProgressView",
      "bar_style": "success",
      "description": "",
      "description_tooltip": null,
      "layout": "IPY_MODEL_3f7b4c13eb0041bf9150397babf5593d",
      "max": 36000,
      "min": 0,
      "orientation": "horizontal",
      "style": "IPY_MODEL_10b6124e38ca42e18f4380bcf86266ec",
      "value": 36000
     }
    },
    "ae82bb5ac9374f7c82be873115f7ae5a": {
     "model_module": "@jupyter-widgets/controls",
     "model_module_version": "1.5.0",
     "model_name": "DescriptionStyleModel",
     "state": {
      "_model_module": "@jupyter-widgets/controls",
      "_model_module_version": "1.5.0",
      "_model_name": "DescriptionStyleModel",
      "_view_count": null,
      "_view_module": "@jupyter-widgets/base",
      "_view_module_version": "1.2.0",
      "_view_name": "StyleView",
      "description_width": ""
     }
    },
    "af31c034197444c5b462be53b8c049de": {
     "model_module": "@jupyter-widgets/base",
     "model_module_version": "1.2.0",
     "model_name": "LayoutModel",
     "state": {
      "_model_module": "@jupyter-widgets/base",
      "_model_module_version": "1.2.0",
      "_model_name": "LayoutModel",
      "_view_count": null,
      "_view_module": "@jupyter-widgets/base",
      "_view_module_version": "1.2.0",
      "_view_name": "LayoutView",
      "align_content": null,
      "align_items": null,
      "align_self": null,
      "border": null,
      "bottom": null,
      "display": null,
      "flex": null,
      "flex_flow": null,
      "grid_area": null,
      "grid_auto_columns": null,
      "grid_auto_flow": null,
      "grid_auto_rows": null,
      "grid_column": null,
      "grid_gap": null,
      "grid_row": null,
      "grid_template_areas": null,
      "grid_template_columns": null,
      "grid_template_rows": null,
      "height": null,
      "justify_content": null,
      "justify_items": null,
      "left": null,
      "margin": null,
      "max_height": null,
      "max_width": null,
      "min_height": null,
      "min_width": null,
      "object_fit": null,
      "object_position": null,
      "order": null,
      "overflow": null,
      "overflow_x": null,
      "overflow_y": null,
      "padding": null,
      "right": null,
      "top": null,
      "visibility": null,
      "width": null
     }
    },
    "b15f5218d88f47578eeba261f6482028": {
     "model_module": "@jupyter-widgets/controls",
     "model_module_version": "1.5.0",
     "model_name": "HTMLModel",
     "state": {
      "_dom_classes": [],
      "_model_module": "@jupyter-widgets/controls",
      "_model_module_version": "1.5.0",
      "_model_name": "HTMLModel",
      "_view_count": null,
      "_view_module": "@jupyter-widgets/controls",
      "_view_module_version": "1.5.0",
      "_view_name": "HTMLView",
      "description": "",
      "description_tooltip": null,
      "layout": "IPY_MODEL_e134065b68e94da7bf2bda833526c631",
      "placeholder": "​",
      "style": "IPY_MODEL_ae82bb5ac9374f7c82be873115f7ae5a",
      "value": " 36000/36000 [00:02&lt;00:00, 18702.53 examples/s]"
     }
    },
    "b161717e21c54352b6a990f7b42deace": {
     "model_module": "@jupyter-widgets/base",
     "model_module_version": "1.2.0",
     "model_name": "LayoutModel",
     "state": {
      "_model_module": "@jupyter-widgets/base",
      "_model_module_version": "1.2.0",
      "_model_name": "LayoutModel",
      "_view_count": null,
      "_view_module": "@jupyter-widgets/base",
      "_view_module_version": "1.2.0",
      "_view_name": "LayoutView",
      "align_content": null,
      "align_items": null,
      "align_self": null,
      "border": null,
      "bottom": null,
      "display": null,
      "flex": null,
      "flex_flow": null,
      "grid_area": null,
      "grid_auto_columns": null,
      "grid_auto_flow": null,
      "grid_auto_rows": null,
      "grid_column": null,
      "grid_gap": null,
      "grid_row": null,
      "grid_template_areas": null,
      "grid_template_columns": null,
      "grid_template_rows": null,
      "height": null,
      "justify_content": null,
      "justify_items": null,
      "left": null,
      "margin": null,
      "max_height": null,
      "max_width": null,
      "min_height": null,
      "min_width": null,
      "object_fit": null,
      "object_position": null,
      "order": null,
      "overflow": null,
      "overflow_x": null,
      "overflow_y": null,
      "padding": null,
      "right": null,
      "top": null,
      "visibility": null,
      "width": null
     }
    },
    "b3d6e16ad3a14c298ff01057b6ec8d0b": {
     "model_module": "@jupyter-widgets/base",
     "model_module_version": "1.2.0",
     "model_name": "LayoutModel",
     "state": {
      "_model_module": "@jupyter-widgets/base",
      "_model_module_version": "1.2.0",
      "_model_name": "LayoutModel",
      "_view_count": null,
      "_view_module": "@jupyter-widgets/base",
      "_view_module_version": "1.2.0",
      "_view_name": "LayoutView",
      "align_content": null,
      "align_items": null,
      "align_self": null,
      "border": null,
      "bottom": null,
      "display": null,
      "flex": null,
      "flex_flow": null,
      "grid_area": null,
      "grid_auto_columns": null,
      "grid_auto_flow": null,
      "grid_auto_rows": null,
      "grid_column": null,
      "grid_gap": null,
      "grid_row": null,
      "grid_template_areas": null,
      "grid_template_columns": null,
      "grid_template_rows": null,
      "height": null,
      "justify_content": null,
      "justify_items": null,
      "left": null,
      "margin": null,
      "max_height": null,
      "max_width": null,
      "min_height": null,
      "min_width": null,
      "object_fit": null,
      "object_position": null,
      "order": null,
      "overflow": null,
      "overflow_x": null,
      "overflow_y": null,
      "padding": null,
      "right": null,
      "top": null,
      "visibility": null,
      "width": null
     }
    },
    "b4b8c09f2c574dd696d3ef2eb0d041b0": {
     "model_module": "@jupyter-widgets/controls",
     "model_module_version": "1.5.0",
     "model_name": "HTMLModel",
     "state": {
      "_dom_classes": [],
      "_model_module": "@jupyter-widgets/controls",
      "_model_module_version": "1.5.0",
      "_model_name": "HTMLModel",
      "_view_count": null,
      "_view_module": "@jupyter-widgets/controls",
      "_view_module_version": "1.5.0",
      "_view_name": "HTMLView",
      "description": "",
      "description_tooltip": null,
      "layout": "IPY_MODEL_d1c4714d0a7448028421a3a107906d8a",
      "placeholder": "​",
      "style": "IPY_MODEL_0de01b53583a426fb3fe931dfae14c9f",
      "value": " 36000/36000 [00:00&lt;00:00, 104594.02 examples/s]"
     }
    },
    "b8a1212fff1f43ecb894c7ce5e0893a1": {
     "model_module": "@jupyter-widgets/controls",
     "model_module_version": "1.5.0",
     "model_name": "HBoxModel",
     "state": {
      "_dom_classes": [],
      "_model_module": "@jupyter-widgets/controls",
      "_model_module_version": "1.5.0",
      "_model_name": "HBoxModel",
      "_view_count": null,
      "_view_module": "@jupyter-widgets/controls",
      "_view_module_version": "1.5.0",
      "_view_name": "HBoxView",
      "box_style": "",
      "children": [
       "IPY_MODEL_47eddb1057774f1aa5c314648a73a533",
       "IPY_MODEL_42f73c4103364befbb980be457f12fb9",
       "IPY_MODEL_561aa684d82f44da80438b61e59dcbbb"
      ],
      "layout": "IPY_MODEL_8aebdb9a12fd4f0db78eb24f204e8b5b"
     }
    },
    "ba310452c27f48718c537c963ac20378": {
     "model_module": "@jupyter-widgets/base",
     "model_module_version": "1.2.0",
     "model_name": "LayoutModel",
     "state": {
      "_model_module": "@jupyter-widgets/base",
      "_model_module_version": "1.2.0",
      "_model_name": "LayoutModel",
      "_view_count": null,
      "_view_module": "@jupyter-widgets/base",
      "_view_module_version": "1.2.0",
      "_view_name": "LayoutView",
      "align_content": null,
      "align_items": null,
      "align_self": null,
      "border": null,
      "bottom": null,
      "display": null,
      "flex": null,
      "flex_flow": null,
      "grid_area": null,
      "grid_auto_columns": null,
      "grid_auto_flow": null,
      "grid_auto_rows": null,
      "grid_column": null,
      "grid_gap": null,
      "grid_row": null,
      "grid_template_areas": null,
      "grid_template_columns": null,
      "grid_template_rows": null,
      "height": null,
      "justify_content": null,
      "justify_items": null,
      "left": null,
      "margin": null,
      "max_height": null,
      "max_width": null,
      "min_height": null,
      "min_width": null,
      "object_fit": null,
      "object_position": null,
      "order": null,
      "overflow": null,
      "overflow_x": null,
      "overflow_y": null,
      "padding": null,
      "right": null,
      "top": null,
      "visibility": null,
      "width": null
     }
    },
    "ba9677b6941a4643b22a1d9d55c4906d": {
     "model_module": "@jupyter-widgets/controls",
     "model_module_version": "1.5.0",
     "model_name": "HTMLModel",
     "state": {
      "_dom_classes": [],
      "_model_module": "@jupyter-widgets/controls",
      "_model_module_version": "1.5.0",
      "_model_name": "HTMLModel",
      "_view_count": null,
      "_view_module": "@jupyter-widgets/controls",
      "_view_module_version": "1.5.0",
      "_view_name": "HTMLView",
      "description": "",
      "description_tooltip": null,
      "layout": "IPY_MODEL_4773cde69ced4dc780878d2e3a8d3ecc",
      "placeholder": "​",
      "style": "IPY_MODEL_241a1c8fce35450092ac0d6e5dacabe8",
      "value": " 461/461 [00:00&lt;00:00, 29.0kB/s]"
     }
    },
    "bd2612ac07774cba8ae54653adccce0d": {
     "model_module": "@jupyter-widgets/base",
     "model_module_version": "1.2.0",
     "model_name": "LayoutModel",
     "state": {
      "_model_module": "@jupyter-widgets/base",
      "_model_module_version": "1.2.0",
      "_model_name": "LayoutModel",
      "_view_count": null,
      "_view_module": "@jupyter-widgets/base",
      "_view_module_version": "1.2.0",
      "_view_name": "LayoutView",
      "align_content": null,
      "align_items": null,
      "align_self": null,
      "border": null,
      "bottom": null,
      "display": null,
      "flex": null,
      "flex_flow": null,
      "grid_area": null,
      "grid_auto_columns": null,
      "grid_auto_flow": null,
      "grid_auto_rows": null,
      "grid_column": null,
      "grid_gap": null,
      "grid_row": null,
      "grid_template_areas": null,
      "grid_template_columns": null,
      "grid_template_rows": null,
      "height": null,
      "justify_content": null,
      "justify_items": null,
      "left": null,
      "margin": null,
      "max_height": null,
      "max_width": null,
      "min_height": null,
      "min_width": null,
      "object_fit": null,
      "object_position": null,
      "order": null,
      "overflow": null,
      "overflow_x": null,
      "overflow_y": null,
      "padding": null,
      "right": null,
      "top": null,
      "visibility": null,
      "width": null
     }
    },
    "be3375a4730a488fb960ef51fea2fafb": {
     "model_module": "@jupyter-widgets/controls",
     "model_module_version": "1.5.0",
     "model_name": "HBoxModel",
     "state": {
      "_dom_classes": [],
      "_model_module": "@jupyter-widgets/controls",
      "_model_module_version": "1.5.0",
      "_model_name": "HBoxModel",
      "_view_count": null,
      "_view_module": "@jupyter-widgets/controls",
      "_view_module_version": "1.5.0",
      "_view_name": "HBoxView",
      "box_style": "",
      "children": [
       "IPY_MODEL_4f2b2d3fcf3b42ce86a99f3fbd80da44",
       "IPY_MODEL_f1345c8c2c09421982ada43ec7e60cdc",
       "IPY_MODEL_729627842d0147d0aa0466ae7b970b72"
      ],
      "layout": "IPY_MODEL_a24e281a8a424acb867eddeaf545bd34"
     }
    },
    "bec343e8a5994fb9a58032c6f9ac8391": {
     "model_module": "@jupyter-widgets/controls",
     "model_module_version": "1.5.0",
     "model_name": "FloatProgressModel",
     "state": {
      "_dom_classes": [],
      "_model_module": "@jupyter-widgets/controls",
      "_model_module_version": "1.5.0",
      "_model_name": "FloatProgressModel",
      "_view_count": null,
      "_view_module": "@jupyter-widgets/controls",
      "_view_module_version": "1.5.0",
      "_view_name": "ProgressView",
      "bar_style": "success",
      "description": "",
      "description_tooltip": null,
      "layout": "IPY_MODEL_2b3595e43c5348668b71c096f0778d29",
      "max": 466248,
      "min": 0,
      "orientation": "horizontal",
      "style": "IPY_MODEL_0351a631e740492b822dd1289ca410a9",
      "value": 466248
     }
    },
    "c0b12d82356b4075a685bce0f45d9d86": {
     "model_module": "@jupyter-widgets/controls",
     "model_module_version": "1.5.0",
     "model_name": "DescriptionStyleModel",
     "state": {
      "_model_module": "@jupyter-widgets/controls",
      "_model_module_version": "1.5.0",
      "_model_name": "DescriptionStyleModel",
      "_view_count": null,
      "_view_module": "@jupyter-widgets/base",
      "_view_module_version": "1.2.0",
      "_view_name": "StyleView",
      "description_width": ""
     }
    },
    "c1259360ee184b03940e9abc453c52cc": {
     "model_module": "@jupyter-widgets/controls",
     "model_module_version": "1.5.0",
     "model_name": "ProgressStyleModel",
     "state": {
      "_model_module": "@jupyter-widgets/controls",
      "_model_module_version": "1.5.0",
      "_model_name": "ProgressStyleModel",
      "_view_count": null,
      "_view_module": "@jupyter-widgets/base",
      "_view_module_version": "1.2.0",
      "_view_name": "StyleView",
      "bar_color": null,
      "description_width": ""
     }
    },
    "c47aff1a1a654324900747124e7c4657": {
     "model_module": "@jupyter-widgets/controls",
     "model_module_version": "1.5.0",
     "model_name": "HBoxModel",
     "state": {
      "_dom_classes": [],
      "_model_module": "@jupyter-widgets/controls",
      "_model_module_version": "1.5.0",
      "_model_name": "HBoxModel",
      "_view_count": null,
      "_view_module": "@jupyter-widgets/controls",
      "_view_module_version": "1.5.0",
      "_view_name": "HBoxView",
      "box_style": "",
      "children": [
       "IPY_MODEL_9f3579b0c13b418bae0c52f6652b7e3c",
       "IPY_MODEL_64d592a3a359478a97b96e8fcf04c1c6",
       "IPY_MODEL_cb1af425520245cd9314d14b26e55bbd"
      ],
      "layout": "IPY_MODEL_fda74bc3a7c14234929a79818a443d24"
     }
    },
    "c6909c4356eb461eaad5f3977011c6ff": {
     "model_module": "@jupyter-widgets/controls",
     "model_module_version": "1.5.0",
     "model_name": "DescriptionStyleModel",
     "state": {
      "_model_module": "@jupyter-widgets/controls",
      "_model_module_version": "1.5.0",
      "_model_name": "DescriptionStyleModel",
      "_view_count": null,
      "_view_module": "@jupyter-widgets/base",
      "_view_module_version": "1.2.0",
      "_view_name": "StyleView",
      "description_width": ""
     }
    },
    "c6ccb3092e444305bb03cce8e55f604e": {
     "model_module": "@jupyter-widgets/controls",
     "model_module_version": "1.5.0",
     "model_name": "ProgressStyleModel",
     "state": {
      "_model_module": "@jupyter-widgets/controls",
      "_model_module_version": "1.5.0",
      "_model_name": "ProgressStyleModel",
      "_view_count": null,
      "_view_module": "@jupyter-widgets/base",
      "_view_module_version": "1.2.0",
      "_view_name": "StyleView",
      "bar_color": null,
      "description_width": ""
     }
    },
    "cb1af425520245cd9314d14b26e55bbd": {
     "model_module": "@jupyter-widgets/controls",
     "model_module_version": "1.5.0",
     "model_name": "HTMLModel",
     "state": {
      "_dom_classes": [],
      "_model_module": "@jupyter-widgets/controls",
      "_model_module_version": "1.5.0",
      "_model_name": "HTMLModel",
      "_view_count": null,
      "_view_module": "@jupyter-widgets/controls",
      "_view_module_version": "1.5.0",
      "_view_name": "HTMLView",
      "description": "",
      "description_tooltip": null,
      "layout": "IPY_MODEL_230f00b885ab40f6b2c7b2377f2f1387",
      "placeholder": "​",
      "style": "IPY_MODEL_13d3a54468b0496ba05cd0eb5ff9a89c",
      "value": " 36000/36000 [00:04&lt;00:00, 8074.09 examples/s]"
     }
    },
    "cd2279baa7694a549243bf8a63acc82e": {
     "model_module": "@jupyter-widgets/controls",
     "model_module_version": "1.5.0",
     "model_name": "DescriptionStyleModel",
     "state": {
      "_model_module": "@jupyter-widgets/controls",
      "_model_module_version": "1.5.0",
      "_model_name": "DescriptionStyleModel",
      "_view_count": null,
      "_view_module": "@jupyter-widgets/base",
      "_view_module_version": "1.2.0",
      "_view_name": "StyleView",
      "description_width": ""
     }
    },
    "cd64d187a37549a68b517b244756a0ec": {
     "model_module": "@jupyter-widgets/controls",
     "model_module_version": "1.5.0",
     "model_name": "DescriptionStyleModel",
     "state": {
      "_model_module": "@jupyter-widgets/controls",
      "_model_module_version": "1.5.0",
      "_model_name": "DescriptionStyleModel",
      "_view_count": null,
      "_view_module": "@jupyter-widgets/base",
      "_view_module_version": "1.2.0",
      "_view_name": "StyleView",
      "description_width": ""
     }
    },
    "cd86af88650140d5b94cb8d5ceb93bb0": {
     "model_module": "@jupyter-widgets/controls",
     "model_module_version": "1.5.0",
     "model_name": "HTMLModel",
     "state": {
      "_dom_classes": [],
      "_model_module": "@jupyter-widgets/controls",
      "_model_module_version": "1.5.0",
      "_model_name": "HTMLModel",
      "_view_count": null,
      "_view_module": "@jupyter-widgets/controls",
      "_view_module_version": "1.5.0",
      "_view_name": "HTMLView",
      "description": "",
      "description_tooltip": null,
      "layout": "IPY_MODEL_064b773996684706936d612bb141f5a4",
      "placeholder": "​",
      "style": "IPY_MODEL_d76779cd8900410fb4b9b55410d02a80",
      "value": " 232k/232k [00:00&lt;00:00, 3.13MB/s]"
     }
    },
    "cea9d628ae8447338a078d3dda36fe85": {
     "model_module": "@jupyter-widgets/base",
     "model_module_version": "1.2.0",
     "model_name": "LayoutModel",
     "state": {
      "_model_module": "@jupyter-widgets/base",
      "_model_module_version": "1.2.0",
      "_model_name": "LayoutModel",
      "_view_count": null,
      "_view_module": "@jupyter-widgets/base",
      "_view_module_version": "1.2.0",
      "_view_name": "LayoutView",
      "align_content": null,
      "align_items": null,
      "align_self": null,
      "border": null,
      "bottom": null,
      "display": null,
      "flex": null,
      "flex_flow": null,
      "grid_area": null,
      "grid_auto_columns": null,
      "grid_auto_flow": null,
      "grid_auto_rows": null,
      "grid_column": null,
      "grid_gap": null,
      "grid_row": null,
      "grid_template_areas": null,
      "grid_template_columns": null,
      "grid_template_rows": null,
      "height": null,
      "justify_content": null,
      "justify_items": null,
      "left": null,
      "margin": null,
      "max_height": null,
      "max_width": null,
      "min_height": null,
      "min_width": null,
      "object_fit": null,
      "object_position": null,
      "order": null,
      "overflow": null,
      "overflow_x": null,
      "overflow_y": null,
      "padding": null,
      "right": null,
      "top": null,
      "visibility": null,
      "width": null
     }
    },
    "cfc12ae7949c441688957b6694c48a2b": {
     "model_module": "@jupyter-widgets/base",
     "model_module_version": "1.2.0",
     "model_name": "LayoutModel",
     "state": {
      "_model_module": "@jupyter-widgets/base",
      "_model_module_version": "1.2.0",
      "_model_name": "LayoutModel",
      "_view_count": null,
      "_view_module": "@jupyter-widgets/base",
      "_view_module_version": "1.2.0",
      "_view_name": "LayoutView",
      "align_content": null,
      "align_items": null,
      "align_self": null,
      "border": null,
      "bottom": null,
      "display": null,
      "flex": null,
      "flex_flow": null,
      "grid_area": null,
      "grid_auto_columns": null,
      "grid_auto_flow": null,
      "grid_auto_rows": null,
      "grid_column": null,
      "grid_gap": null,
      "grid_row": null,
      "grid_template_areas": null,
      "grid_template_columns": null,
      "grid_template_rows": null,
      "height": null,
      "justify_content": null,
      "justify_items": null,
      "left": null,
      "margin": null,
      "max_height": null,
      "max_width": null,
      "min_height": null,
      "min_width": null,
      "object_fit": null,
      "object_position": null,
      "order": null,
      "overflow": null,
      "overflow_x": null,
      "overflow_y": null,
      "padding": null,
      "right": null,
      "top": null,
      "visibility": null,
      "width": null
     }
    },
    "cfd89f9f2037434d88a73b3736e02da3": {
     "model_module": "@jupyter-widgets/controls",
     "model_module_version": "1.5.0",
     "model_name": "HBoxModel",
     "state": {
      "_dom_classes": [],
      "_model_module": "@jupyter-widgets/controls",
      "_model_module_version": "1.5.0",
      "_model_name": "HBoxModel",
      "_view_count": null,
      "_view_module": "@jupyter-widgets/controls",
      "_view_module_version": "1.5.0",
      "_view_name": "HBoxView",
      "box_style": "",
      "children": [
       "IPY_MODEL_76f2cc947c2d4cf285892321edeed86e",
       "IPY_MODEL_20b299273e494603a2c321bebd6ba1c2",
       "IPY_MODEL_3630faf056d446f3a3a052c29c358af8"
      ],
      "layout": "IPY_MODEL_f965dcdabca8420e9a50ba9b2fdb6b71"
     }
    },
    "d0d932b5dccc42a7858e9df2dace2df3": {
     "model_module": "@jupyter-widgets/base",
     "model_module_version": "1.2.0",
     "model_name": "LayoutModel",
     "state": {
      "_model_module": "@jupyter-widgets/base",
      "_model_module_version": "1.2.0",
      "_model_name": "LayoutModel",
      "_view_count": null,
      "_view_module": "@jupyter-widgets/base",
      "_view_module_version": "1.2.0",
      "_view_name": "LayoutView",
      "align_content": null,
      "align_items": null,
      "align_self": null,
      "border": null,
      "bottom": null,
      "display": null,
      "flex": null,
      "flex_flow": null,
      "grid_area": null,
      "grid_auto_columns": null,
      "grid_auto_flow": null,
      "grid_auto_rows": null,
      "grid_column": null,
      "grid_gap": null,
      "grid_row": null,
      "grid_template_areas": null,
      "grid_template_columns": null,
      "grid_template_rows": null,
      "height": null,
      "justify_content": null,
      "justify_items": null,
      "left": null,
      "margin": null,
      "max_height": null,
      "max_width": null,
      "min_height": null,
      "min_width": null,
      "object_fit": null,
      "object_position": null,
      "order": null,
      "overflow": null,
      "overflow_x": null,
      "overflow_y": null,
      "padding": null,
      "right": null,
      "top": null,
      "visibility": null,
      "width": null
     }
    },
    "d190fe883a36447ab2fc8a35ff132b67": {
     "model_module": "@jupyter-widgets/controls",
     "model_module_version": "1.5.0",
     "model_name": "DescriptionStyleModel",
     "state": {
      "_model_module": "@jupyter-widgets/controls",
      "_model_module_version": "1.5.0",
      "_model_name": "DescriptionStyleModel",
      "_view_count": null,
      "_view_module": "@jupyter-widgets/base",
      "_view_module_version": "1.2.0",
      "_view_name": "StyleView",
      "description_width": ""
     }
    },
    "d1c4714d0a7448028421a3a107906d8a": {
     "model_module": "@jupyter-widgets/base",
     "model_module_version": "1.2.0",
     "model_name": "LayoutModel",
     "state": {
      "_model_module": "@jupyter-widgets/base",
      "_model_module_version": "1.2.0",
      "_model_name": "LayoutModel",
      "_view_count": null,
      "_view_module": "@jupyter-widgets/base",
      "_view_module_version": "1.2.0",
      "_view_name": "LayoutView",
      "align_content": null,
      "align_items": null,
      "align_self": null,
      "border": null,
      "bottom": null,
      "display": null,
      "flex": null,
      "flex_flow": null,
      "grid_area": null,
      "grid_auto_columns": null,
      "grid_auto_flow": null,
      "grid_auto_rows": null,
      "grid_column": null,
      "grid_gap": null,
      "grid_row": null,
      "grid_template_areas": null,
      "grid_template_columns": null,
      "grid_template_rows": null,
      "height": null,
      "justify_content": null,
      "justify_items": null,
      "left": null,
      "margin": null,
      "max_height": null,
      "max_width": null,
      "min_height": null,
      "min_width": null,
      "object_fit": null,
      "object_position": null,
      "order": null,
      "overflow": null,
      "overflow_x": null,
      "overflow_y": null,
      "padding": null,
      "right": null,
      "top": null,
      "visibility": null,
      "width": null
     }
    },
    "d1ce7ef3a4e04989b17ba5dfa4635217": {
     "model_module": "@jupyter-widgets/base",
     "model_module_version": "1.2.0",
     "model_name": "LayoutModel",
     "state": {
      "_model_module": "@jupyter-widgets/base",
      "_model_module_version": "1.2.0",
      "_model_name": "LayoutModel",
      "_view_count": null,
      "_view_module": "@jupyter-widgets/base",
      "_view_module_version": "1.2.0",
      "_view_name": "LayoutView",
      "align_content": null,
      "align_items": null,
      "align_self": null,
      "border": null,
      "bottom": null,
      "display": null,
      "flex": null,
      "flex_flow": null,
      "grid_area": null,
      "grid_auto_columns": null,
      "grid_auto_flow": null,
      "grid_auto_rows": null,
      "grid_column": null,
      "grid_gap": null,
      "grid_row": null,
      "grid_template_areas": null,
      "grid_template_columns": null,
      "grid_template_rows": null,
      "height": null,
      "justify_content": null,
      "justify_items": null,
      "left": null,
      "margin": null,
      "max_height": null,
      "max_width": null,
      "min_height": null,
      "min_width": null,
      "object_fit": null,
      "object_position": null,
      "order": null,
      "overflow": null,
      "overflow_x": null,
      "overflow_y": null,
      "padding": null,
      "right": null,
      "top": null,
      "visibility": null,
      "width": null
     }
    },
    "d1e65f34f1764ac6acd7f313bb1ab5b1": {
     "model_module": "@jupyter-widgets/controls",
     "model_module_version": "1.5.0",
     "model_name": "FloatProgressModel",
     "state": {
      "_dom_classes": [],
      "_model_module": "@jupyter-widgets/controls",
      "_model_module_version": "1.5.0",
      "_model_name": "FloatProgressModel",
      "_view_count": null,
      "_view_module": "@jupyter-widgets/controls",
      "_view_module_version": "1.5.0",
      "_view_name": "ProgressView",
      "bar_style": "success",
      "description": "",
      "description_tooltip": null,
      "layout": "IPY_MODEL_0000147605ad427ebec370ee2cee5abc",
      "max": 231508,
      "min": 0,
      "orientation": "horizontal",
      "style": "IPY_MODEL_348dfa88d84e4e36bab75460a8a1416e",
      "value": 231508
     }
    },
    "d45c8cba2f0e42379bfcdc8de5a9c737": {
     "model_module": "@jupyter-widgets/base",
     "model_module_version": "1.2.0",
     "model_name": "LayoutModel",
     "state": {
      "_model_module": "@jupyter-widgets/base",
      "_model_module_version": "1.2.0",
      "_model_name": "LayoutModel",
      "_view_count": null,
      "_view_module": "@jupyter-widgets/base",
      "_view_module_version": "1.2.0",
      "_view_name": "LayoutView",
      "align_content": null,
      "align_items": null,
      "align_self": null,
      "border": null,
      "bottom": null,
      "display": null,
      "flex": null,
      "flex_flow": null,
      "grid_area": null,
      "grid_auto_columns": null,
      "grid_auto_flow": null,
      "grid_auto_rows": null,
      "grid_column": null,
      "grid_gap": null,
      "grid_row": null,
      "grid_template_areas": null,
      "grid_template_columns": null,
      "grid_template_rows": null,
      "height": null,
      "justify_content": null,
      "justify_items": null,
      "left": null,
      "margin": null,
      "max_height": null,
      "max_width": null,
      "min_height": null,
      "min_width": null,
      "object_fit": null,
      "object_position": null,
      "order": null,
      "overflow": null,
      "overflow_x": null,
      "overflow_y": null,
      "padding": null,
      "right": null,
      "top": null,
      "visibility": null,
      "width": null
     }
    },
    "d563ce1f3738490690352eaa277ea3ec": {
     "model_module": "@jupyter-widgets/controls",
     "model_module_version": "1.5.0",
     "model_name": "DescriptionStyleModel",
     "state": {
      "_model_module": "@jupyter-widgets/controls",
      "_model_module_version": "1.5.0",
      "_model_name": "DescriptionStyleModel",
      "_view_count": null,
      "_view_module": "@jupyter-widgets/base",
      "_view_module_version": "1.2.0",
      "_view_name": "StyleView",
      "description_width": ""
     }
    },
    "d76779cd8900410fb4b9b55410d02a80": {
     "model_module": "@jupyter-widgets/controls",
     "model_module_version": "1.5.0",
     "model_name": "DescriptionStyleModel",
     "state": {
      "_model_module": "@jupyter-widgets/controls",
      "_model_module_version": "1.5.0",
      "_model_name": "DescriptionStyleModel",
      "_view_count": null,
      "_view_module": "@jupyter-widgets/base",
      "_view_module_version": "1.2.0",
      "_view_name": "StyleView",
      "description_width": ""
     }
    },
    "d887489f02364db485ac301fa43ff9bd": {
     "model_module": "@jupyter-widgets/controls",
     "model_module_version": "1.5.0",
     "model_name": "HTMLModel",
     "state": {
      "_dom_classes": [],
      "_model_module": "@jupyter-widgets/controls",
      "_model_module_version": "1.5.0",
      "_model_name": "HTMLModel",
      "_view_count": null,
      "_view_module": "@jupyter-widgets/controls",
      "_view_module_version": "1.5.0",
      "_view_name": "HTMLView",
      "description": "",
      "description_tooltip": null,
      "layout": "IPY_MODEL_9e7e4ade0b8041d19ca6327d383f5be9",
      "placeholder": "​",
      "style": "IPY_MODEL_cd64d187a37549a68b517b244756a0ec",
      "value": "tokenizer.json: 100%"
     }
    },
    "da3ce68fe56e4300be685a331f0bc324": {
     "model_module": "@jupyter-widgets/controls",
     "model_module_version": "1.5.0",
     "model_name": "DescriptionStyleModel",
     "state": {
      "_model_module": "@jupyter-widgets/controls",
      "_model_module_version": "1.5.0",
      "_model_name": "DescriptionStyleModel",
      "_view_count": null,
      "_view_module": "@jupyter-widgets/base",
      "_view_module_version": "1.2.0",
      "_view_name": "StyleView",
      "description_width": ""
     }
    },
    "dd9bd6a7873a4335b904770a0d214c12": {
     "model_module": "@jupyter-widgets/controls",
     "model_module_version": "1.5.0",
     "model_name": "FloatProgressModel",
     "state": {
      "_dom_classes": [],
      "_model_module": "@jupyter-widgets/controls",
      "_model_module_version": "1.5.0",
      "_model_name": "FloatProgressModel",
      "_view_count": null,
      "_view_module": "@jupyter-widgets/controls",
      "_view_module_version": "1.5.0",
      "_view_name": "ProgressView",
      "bar_style": "success",
      "description": "",
      "description_tooltip": null,
      "layout": "IPY_MODEL_739b6243b4e042e0b16551535224af4a",
      "max": 570,
      "min": 0,
      "orientation": "horizontal",
      "style": "IPY_MODEL_c6ccb3092e444305bb03cce8e55f604e",
      "value": 570
     }
    },
    "de0723c0ff7746f7ac2bbe1c39db8904": {
     "model_module": "@jupyter-widgets/base",
     "model_module_version": "1.2.0",
     "model_name": "LayoutModel",
     "state": {
      "_model_module": "@jupyter-widgets/base",
      "_model_module_version": "1.2.0",
      "_model_name": "LayoutModel",
      "_view_count": null,
      "_view_module": "@jupyter-widgets/base",
      "_view_module_version": "1.2.0",
      "_view_name": "LayoutView",
      "align_content": null,
      "align_items": null,
      "align_self": null,
      "border": null,
      "bottom": null,
      "display": null,
      "flex": null,
      "flex_flow": null,
      "grid_area": null,
      "grid_auto_columns": null,
      "grid_auto_flow": null,
      "grid_auto_rows": null,
      "grid_column": null,
      "grid_gap": null,
      "grid_row": null,
      "grid_template_areas": null,
      "grid_template_columns": null,
      "grid_template_rows": null,
      "height": null,
      "justify_content": null,
      "justify_items": null,
      "left": null,
      "margin": null,
      "max_height": null,
      "max_width": null,
      "min_height": null,
      "min_width": null,
      "object_fit": null,
      "object_position": null,
      "order": null,
      "overflow": null,
      "overflow_x": null,
      "overflow_y": null,
      "padding": null,
      "right": null,
      "top": null,
      "visibility": null,
      "width": null
     }
    },
    "e134065b68e94da7bf2bda833526c631": {
     "model_module": "@jupyter-widgets/base",
     "model_module_version": "1.2.0",
     "model_name": "LayoutModel",
     "state": {
      "_model_module": "@jupyter-widgets/base",
      "_model_module_version": "1.2.0",
      "_model_name": "LayoutModel",
      "_view_count": null,
      "_view_module": "@jupyter-widgets/base",
      "_view_module_version": "1.2.0",
      "_view_name": "LayoutView",
      "align_content": null,
      "align_items": null,
      "align_self": null,
      "border": null,
      "bottom": null,
      "display": null,
      "flex": null,
      "flex_flow": null,
      "grid_area": null,
      "grid_auto_columns": null,
      "grid_auto_flow": null,
      "grid_auto_rows": null,
      "grid_column": null,
      "grid_gap": null,
      "grid_row": null,
      "grid_template_areas": null,
      "grid_template_columns": null,
      "grid_template_rows": null,
      "height": null,
      "justify_content": null,
      "justify_items": null,
      "left": null,
      "margin": null,
      "max_height": null,
      "max_width": null,
      "min_height": null,
      "min_width": null,
      "object_fit": null,
      "object_position": null,
      "order": null,
      "overflow": null,
      "overflow_x": null,
      "overflow_y": null,
      "padding": null,
      "right": null,
      "top": null,
      "visibility": null,
      "width": null
     }
    },
    "e34869fd88eb4286af775d676a231438": {
     "model_module": "@jupyter-widgets/base",
     "model_module_version": "1.2.0",
     "model_name": "LayoutModel",
     "state": {
      "_model_module": "@jupyter-widgets/base",
      "_model_module_version": "1.2.0",
      "_model_name": "LayoutModel",
      "_view_count": null,
      "_view_module": "@jupyter-widgets/base",
      "_view_module_version": "1.2.0",
      "_view_name": "LayoutView",
      "align_content": null,
      "align_items": null,
      "align_self": null,
      "border": null,
      "bottom": null,
      "display": null,
      "flex": null,
      "flex_flow": null,
      "grid_area": null,
      "grid_auto_columns": null,
      "grid_auto_flow": null,
      "grid_auto_rows": null,
      "grid_column": null,
      "grid_gap": null,
      "grid_row": null,
      "grid_template_areas": null,
      "grid_template_columns": null,
      "grid_template_rows": null,
      "height": null,
      "justify_content": null,
      "justify_items": null,
      "left": null,
      "margin": null,
      "max_height": null,
      "max_width": null,
      "min_height": null,
      "min_width": null,
      "object_fit": null,
      "object_position": null,
      "order": null,
      "overflow": null,
      "overflow_x": null,
      "overflow_y": null,
      "padding": null,
      "right": null,
      "top": null,
      "visibility": null,
      "width": null
     }
    },
    "e3e04b01ef5543389e6d54ccf39abfe2": {
     "model_module": "@jupyter-widgets/base",
     "model_module_version": "1.2.0",
     "model_name": "LayoutModel",
     "state": {
      "_model_module": "@jupyter-widgets/base",
      "_model_module_version": "1.2.0",
      "_model_name": "LayoutModel",
      "_view_count": null,
      "_view_module": "@jupyter-widgets/base",
      "_view_module_version": "1.2.0",
      "_view_name": "LayoutView",
      "align_content": null,
      "align_items": null,
      "align_self": null,
      "border": null,
      "bottom": null,
      "display": null,
      "flex": null,
      "flex_flow": null,
      "grid_area": null,
      "grid_auto_columns": null,
      "grid_auto_flow": null,
      "grid_auto_rows": null,
      "grid_column": null,
      "grid_gap": null,
      "grid_row": null,
      "grid_template_areas": null,
      "grid_template_columns": null,
      "grid_template_rows": null,
      "height": null,
      "justify_content": null,
      "justify_items": null,
      "left": null,
      "margin": null,
      "max_height": null,
      "max_width": null,
      "min_height": null,
      "min_width": null,
      "object_fit": null,
      "object_position": null,
      "order": null,
      "overflow": null,
      "overflow_x": null,
      "overflow_y": null,
      "padding": null,
      "right": null,
      "top": null,
      "visibility": null,
      "width": null
     }
    },
    "e40b3b8b9612410498345481aa8dc2f7": {
     "model_module": "@jupyter-widgets/controls",
     "model_module_version": "1.5.0",
     "model_name": "HTMLModel",
     "state": {
      "_dom_classes": [],
      "_model_module": "@jupyter-widgets/controls",
      "_model_module_version": "1.5.0",
      "_model_name": "HTMLModel",
      "_view_count": null,
      "_view_module": "@jupyter-widgets/controls",
      "_view_module_version": "1.5.0",
      "_view_name": "HTMLView",
      "description": "",
      "description_tooltip": null,
      "layout": "IPY_MODEL_de0723c0ff7746f7ac2bbe1c39db8904",
      "placeholder": "​",
      "style": "IPY_MODEL_48686b62bac541008f53829f665429c9",
      "value": "Map: 100%"
     }
    },
    "e45db28f5916432cb4f091e5403f6918": {
     "model_module": "@jupyter-widgets/base",
     "model_module_version": "1.2.0",
     "model_name": "LayoutModel",
     "state": {
      "_model_module": "@jupyter-widgets/base",
      "_model_module_version": "1.2.0",
      "_model_name": "LayoutModel",
      "_view_count": null,
      "_view_module": "@jupyter-widgets/base",
      "_view_module_version": "1.2.0",
      "_view_name": "LayoutView",
      "align_content": null,
      "align_items": null,
      "align_self": null,
      "border": null,
      "bottom": null,
      "display": null,
      "flex": null,
      "flex_flow": null,
      "grid_area": null,
      "grid_auto_columns": null,
      "grid_auto_flow": null,
      "grid_auto_rows": null,
      "grid_column": null,
      "grid_gap": null,
      "grid_row": null,
      "grid_template_areas": null,
      "grid_template_columns": null,
      "grid_template_rows": null,
      "height": null,
      "justify_content": null,
      "justify_items": null,
      "left": null,
      "margin": null,
      "max_height": null,
      "max_width": null,
      "min_height": null,
      "min_width": null,
      "object_fit": null,
      "object_position": null,
      "order": null,
      "overflow": null,
      "overflow_x": null,
      "overflow_y": null,
      "padding": null,
      "right": null,
      "top": null,
      "visibility": null,
      "width": null
     }
    },
    "e48fe1b04eae4ebea7dc2909460bb98c": {
     "model_module": "@jupyter-widgets/base",
     "model_module_version": "1.2.0",
     "model_name": "LayoutModel",
     "state": {
      "_model_module": "@jupyter-widgets/base",
      "_model_module_version": "1.2.0",
      "_model_name": "LayoutModel",
      "_view_count": null,
      "_view_module": "@jupyter-widgets/base",
      "_view_module_version": "1.2.0",
      "_view_name": "LayoutView",
      "align_content": null,
      "align_items": null,
      "align_self": null,
      "border": null,
      "bottom": null,
      "display": null,
      "flex": null,
      "flex_flow": null,
      "grid_area": null,
      "grid_auto_columns": null,
      "grid_auto_flow": null,
      "grid_auto_rows": null,
      "grid_column": null,
      "grid_gap": null,
      "grid_row": null,
      "grid_template_areas": null,
      "grid_template_columns": null,
      "grid_template_rows": null,
      "height": null,
      "justify_content": null,
      "justify_items": null,
      "left": null,
      "margin": null,
      "max_height": null,
      "max_width": null,
      "min_height": null,
      "min_width": null,
      "object_fit": null,
      "object_position": null,
      "order": null,
      "overflow": null,
      "overflow_x": null,
      "overflow_y": null,
      "padding": null,
      "right": null,
      "top": null,
      "visibility": null,
      "width": null
     }
    },
    "e97c720f89f1456f8c72068887fb3398": {
     "model_module": "@jupyter-widgets/controls",
     "model_module_version": "1.5.0",
     "model_name": "HBoxModel",
     "state": {
      "_dom_classes": [],
      "_model_module": "@jupyter-widgets/controls",
      "_model_module_version": "1.5.0",
      "_model_name": "HBoxModel",
      "_view_count": null,
      "_view_module": "@jupyter-widgets/controls",
      "_view_module_version": "1.5.0",
      "_view_name": "HBoxView",
      "box_style": "",
      "children": [
       "IPY_MODEL_4298a449034d499dafacaa3a0c7dde3a",
       "IPY_MODEL_05bfaf0a12bb473389f23a34025e8128",
       "IPY_MODEL_450ff7b14e634ceca2fb8ae52f7c6e6f"
      ],
      "layout": "IPY_MODEL_5d30760f48ac4871ae019df8fff3c677"
     }
    },
    "e99fd863c37240c484a6ab1f516e1441": {
     "model_module": "@jupyter-widgets/controls",
     "model_module_version": "1.5.0",
     "model_name": "HBoxModel",
     "state": {
      "_dom_classes": [],
      "_model_module": "@jupyter-widgets/controls",
      "_model_module_version": "1.5.0",
      "_model_name": "HBoxModel",
      "_view_count": null,
      "_view_module": "@jupyter-widgets/controls",
      "_view_module_version": "1.5.0",
      "_view_name": "HBoxView",
      "box_style": "",
      "children": [
       "IPY_MODEL_a0390c18189649909bbaa71613fb4616",
       "IPY_MODEL_d1e65f34f1764ac6acd7f313bb1ab5b1",
       "IPY_MODEL_2d58fd8726b84ce4be72fe6f3acf0e55"
      ],
      "layout": "IPY_MODEL_af31c034197444c5b462be53b8c049de"
     }
    },
    "f0d4d518b6bc4e52813c8724554a4d39": {
     "model_module": "@jupyter-widgets/controls",
     "model_module_version": "1.5.0",
     "model_name": "HTMLModel",
     "state": {
      "_dom_classes": [],
      "_model_module": "@jupyter-widgets/controls",
      "_model_module_version": "1.5.0",
      "_model_name": "HTMLModel",
      "_view_count": null,
      "_view_module": "@jupyter-widgets/controls",
      "_view_module_version": "1.5.0",
      "_view_name": "HTMLView",
      "description": "",
      "description_tooltip": null,
      "layout": "IPY_MODEL_fe0fd401c06449a8ba446aaca8cf2925",
      "placeholder": "​",
      "style": "IPY_MODEL_da3ce68fe56e4300be685a331f0bc324",
      "value": " 466k/466k [00:00&lt;00:00, 5.39MB/s]"
     }
    },
    "f1345c8c2c09421982ada43ec7e60cdc": {
     "model_module": "@jupyter-widgets/controls",
     "model_module_version": "1.5.0",
     "model_name": "FloatProgressModel",
     "state": {
      "_dom_classes": [],
      "_model_module": "@jupyter-widgets/controls",
      "_model_module_version": "1.5.0",
      "_model_name": "FloatProgressModel",
      "_view_count": null,
      "_view_module": "@jupyter-widgets/controls",
      "_view_module_version": "1.5.0",
      "_view_name": "ProgressView",
      "bar_style": "success",
      "description": "",
      "description_tooltip": null,
      "layout": "IPY_MODEL_76202c412e3240b69cae019793f467bd",
      "max": 112,
      "min": 0,
      "orientation": "horizontal",
      "style": "IPY_MODEL_0f29845dcac64a87908369cc583f03b1",
      "value": 112
     }
    },
    "f1b9bf9b4ad64969be5699a1f5fe4e6e": {
     "model_module": "@jupyter-widgets/controls",
     "model_module_version": "1.5.0",
     "model_name": "DescriptionStyleModel",
     "state": {
      "_model_module": "@jupyter-widgets/controls",
      "_model_module_version": "1.5.0",
      "_model_name": "DescriptionStyleModel",
      "_view_count": null,
      "_view_module": "@jupyter-widgets/base",
      "_view_module_version": "1.2.0",
      "_view_name": "StyleView",
      "description_width": ""
     }
    },
    "f2a20b8423d74afe862ed344e96b946b": {
     "model_module": "@jupyter-widgets/controls",
     "model_module_version": "1.5.0",
     "model_name": "HTMLModel",
     "state": {
      "_dom_classes": [],
      "_model_module": "@jupyter-widgets/controls",
      "_model_module_version": "1.5.0",
      "_model_name": "HTMLModel",
      "_view_count": null,
      "_view_module": "@jupyter-widgets/controls",
      "_view_module_version": "1.5.0",
      "_view_name": "HTMLView",
      "description": "",
      "description_tooltip": null,
      "layout": "IPY_MODEL_077a59d8e17e413db662de4251ab855c",
      "placeholder": "​",
      "style": "IPY_MODEL_585840d7f14045738197c0fb90777d1c",
      "value": "Map: 100%"
     }
    },
    "f425f3b8bd6a488894b5548e9e0df064": {
     "model_module": "@jupyter-widgets/base",
     "model_module_version": "1.2.0",
     "model_name": "LayoutModel",
     "state": {
      "_model_module": "@jupyter-widgets/base",
      "_model_module_version": "1.2.0",
      "_model_name": "LayoutModel",
      "_view_count": null,
      "_view_module": "@jupyter-widgets/base",
      "_view_module_version": "1.2.0",
      "_view_name": "LayoutView",
      "align_content": null,
      "align_items": null,
      "align_self": null,
      "border": null,
      "bottom": null,
      "display": null,
      "flex": null,
      "flex_flow": null,
      "grid_area": null,
      "grid_auto_columns": null,
      "grid_auto_flow": null,
      "grid_auto_rows": null,
      "grid_column": null,
      "grid_gap": null,
      "grid_row": null,
      "grid_template_areas": null,
      "grid_template_columns": null,
      "grid_template_rows": null,
      "height": null,
      "justify_content": null,
      "justify_items": null,
      "left": null,
      "margin": null,
      "max_height": null,
      "max_width": null,
      "min_height": null,
      "min_width": null,
      "object_fit": null,
      "object_position": null,
      "order": null,
      "overflow": null,
      "overflow_x": null,
      "overflow_y": null,
      "padding": null,
      "right": null,
      "top": null,
      "visibility": null,
      "width": null
     }
    },
    "f4fefdbbe5744046b1a4eae670550fd8": {
     "model_module": "@jupyter-widgets/base",
     "model_module_version": "1.2.0",
     "model_name": "LayoutModel",
     "state": {
      "_model_module": "@jupyter-widgets/base",
      "_model_module_version": "1.2.0",
      "_model_name": "LayoutModel",
      "_view_count": null,
      "_view_module": "@jupyter-widgets/base",
      "_view_module_version": "1.2.0",
      "_view_name": "LayoutView",
      "align_content": null,
      "align_items": null,
      "align_self": null,
      "border": null,
      "bottom": null,
      "display": null,
      "flex": null,
      "flex_flow": null,
      "grid_area": null,
      "grid_auto_columns": null,
      "grid_auto_flow": null,
      "grid_auto_rows": null,
      "grid_column": null,
      "grid_gap": null,
      "grid_row": null,
      "grid_template_areas": null,
      "grid_template_columns": null,
      "grid_template_rows": null,
      "height": null,
      "justify_content": null,
      "justify_items": null,
      "left": null,
      "margin": null,
      "max_height": null,
      "max_width": null,
      "min_height": null,
      "min_width": null,
      "object_fit": null,
      "object_position": null,
      "order": null,
      "overflow": null,
      "overflow_x": null,
      "overflow_y": null,
      "padding": null,
      "right": null,
      "top": null,
      "visibility": null,
      "width": null
     }
    },
    "f67cd8e718444e0e9ef48769975d1bcb": {
     "model_module": "@jupyter-widgets/controls",
     "model_module_version": "1.5.0",
     "model_name": "DescriptionStyleModel",
     "state": {
      "_model_module": "@jupyter-widgets/controls",
      "_model_module_version": "1.5.0",
      "_model_name": "DescriptionStyleModel",
      "_view_count": null,
      "_view_module": "@jupyter-widgets/base",
      "_view_module_version": "1.2.0",
      "_view_name": "StyleView",
      "description_width": ""
     }
    },
    "f685ef21940546b0ac25b8635df3382f": {
     "model_module": "@jupyter-widgets/base",
     "model_module_version": "1.2.0",
     "model_name": "LayoutModel",
     "state": {
      "_model_module": "@jupyter-widgets/base",
      "_model_module_version": "1.2.0",
      "_model_name": "LayoutModel",
      "_view_count": null,
      "_view_module": "@jupyter-widgets/base",
      "_view_module_version": "1.2.0",
      "_view_name": "LayoutView",
      "align_content": null,
      "align_items": null,
      "align_self": null,
      "border": null,
      "bottom": null,
      "display": null,
      "flex": null,
      "flex_flow": null,
      "grid_area": null,
      "grid_auto_columns": null,
      "grid_auto_flow": null,
      "grid_auto_rows": null,
      "grid_column": null,
      "grid_gap": null,
      "grid_row": null,
      "grid_template_areas": null,
      "grid_template_columns": null,
      "grid_template_rows": null,
      "height": null,
      "justify_content": null,
      "justify_items": null,
      "left": null,
      "margin": null,
      "max_height": null,
      "max_width": null,
      "min_height": null,
      "min_width": null,
      "object_fit": null,
      "object_position": null,
      "order": null,
      "overflow": null,
      "overflow_x": null,
      "overflow_y": null,
      "padding": null,
      "right": null,
      "top": null,
      "visibility": null,
      "width": null
     }
    },
    "f6d9b9541fd14ae697688f3056dafe01": {
     "model_module": "@jupyter-widgets/controls",
     "model_module_version": "1.5.0",
     "model_name": "DescriptionStyleModel",
     "state": {
      "_model_module": "@jupyter-widgets/controls",
      "_model_module_version": "1.5.0",
      "_model_name": "DescriptionStyleModel",
      "_view_count": null,
      "_view_module": "@jupyter-widgets/base",
      "_view_module_version": "1.2.0",
      "_view_name": "StyleView",
      "description_width": ""
     }
    },
    "f77d2dcffda347dd8571b3818154a975": {
     "model_module": "@jupyter-widgets/base",
     "model_module_version": "1.2.0",
     "model_name": "LayoutModel",
     "state": {
      "_model_module": "@jupyter-widgets/base",
      "_model_module_version": "1.2.0",
      "_model_name": "LayoutModel",
      "_view_count": null,
      "_view_module": "@jupyter-widgets/base",
      "_view_module_version": "1.2.0",
      "_view_name": "LayoutView",
      "align_content": null,
      "align_items": null,
      "align_self": null,
      "border": null,
      "bottom": null,
      "display": null,
      "flex": null,
      "flex_flow": null,
      "grid_area": null,
      "grid_auto_columns": null,
      "grid_auto_flow": null,
      "grid_auto_rows": null,
      "grid_column": null,
      "grid_gap": null,
      "grid_row": null,
      "grid_template_areas": null,
      "grid_template_columns": null,
      "grid_template_rows": null,
      "height": null,
      "justify_content": null,
      "justify_items": null,
      "left": null,
      "margin": null,
      "max_height": null,
      "max_width": null,
      "min_height": null,
      "min_width": null,
      "object_fit": null,
      "object_position": null,
      "order": null,
      "overflow": null,
      "overflow_x": null,
      "overflow_y": null,
      "padding": null,
      "right": null,
      "top": null,
      "visibility": null,
      "width": null
     }
    },
    "f9526821ac304f89a35e41f06e9889e2": {
     "model_module": "@jupyter-widgets/controls",
     "model_module_version": "1.5.0",
     "model_name": "DescriptionStyleModel",
     "state": {
      "_model_module": "@jupyter-widgets/controls",
      "_model_module_version": "1.5.0",
      "_model_name": "DescriptionStyleModel",
      "_view_count": null,
      "_view_module": "@jupyter-widgets/base",
      "_view_module_version": "1.2.0",
      "_view_name": "StyleView",
      "description_width": ""
     }
    },
    "f965dcdabca8420e9a50ba9b2fdb6b71": {
     "model_module": "@jupyter-widgets/base",
     "model_module_version": "1.2.0",
     "model_name": "LayoutModel",
     "state": {
      "_model_module": "@jupyter-widgets/base",
      "_model_module_version": "1.2.0",
      "_model_name": "LayoutModel",
      "_view_count": null,
      "_view_module": "@jupyter-widgets/base",
      "_view_module_version": "1.2.0",
      "_view_name": "LayoutView",
      "align_content": null,
      "align_items": null,
      "align_self": null,
      "border": null,
      "bottom": null,
      "display": null,
      "flex": null,
      "flex_flow": null,
      "grid_area": null,
      "grid_auto_columns": null,
      "grid_auto_flow": null,
      "grid_auto_rows": null,
      "grid_column": null,
      "grid_gap": null,
      "grid_row": null,
      "grid_template_areas": null,
      "grid_template_columns": null,
      "grid_template_rows": null,
      "height": null,
      "justify_content": null,
      "justify_items": null,
      "left": null,
      "margin": null,
      "max_height": null,
      "max_width": null,
      "min_height": null,
      "min_width": null,
      "object_fit": null,
      "object_position": null,
      "order": null,
      "overflow": null,
      "overflow_x": null,
      "overflow_y": null,
      "padding": null,
      "right": null,
      "top": null,
      "visibility": null,
      "width": null
     }
    },
    "fb484a9f9b5f42fe808565e779786b05": {
     "model_module": "@jupyter-widgets/controls",
     "model_module_version": "1.5.0",
     "model_name": "FloatProgressModel",
     "state": {
      "_dom_classes": [],
      "_model_module": "@jupyter-widgets/controls",
      "_model_module_version": "1.5.0",
      "_model_name": "FloatProgressModel",
      "_view_count": null,
      "_view_module": "@jupyter-widgets/controls",
      "_view_module_version": "1.5.0",
      "_view_name": "ProgressView",
      "bar_style": "success",
      "description": "",
      "description_tooltip": null,
      "layout": "IPY_MODEL_928ccb9c058640418ea98386302e5919",
      "max": 466062,
      "min": 0,
      "orientation": "horizontal",
      "style": "IPY_MODEL_5f45ca7343014d67975527f5669d710c",
      "value": 466062
     }
    },
    "fc6b32296e4a4f8a9fe0d1b565034572": {
     "model_module": "@jupyter-widgets/controls",
     "model_module_version": "1.5.0",
     "model_name": "ProgressStyleModel",
     "state": {
      "_model_module": "@jupyter-widgets/controls",
      "_model_module_version": "1.5.0",
      "_model_name": "ProgressStyleModel",
      "_view_count": null,
      "_view_module": "@jupyter-widgets/base",
      "_view_module_version": "1.2.0",
      "_view_name": "StyleView",
      "bar_color": null,
      "description_width": ""
     }
    },
    "fd16849a5e794eb789818fbce62a2df1": {
     "model_module": "@jupyter-widgets/controls",
     "model_module_version": "1.5.0",
     "model_name": "HTMLModel",
     "state": {
      "_dom_classes": [],
      "_model_module": "@jupyter-widgets/controls",
      "_model_module_version": "1.5.0",
      "_model_name": "HTMLModel",
      "_view_count": null,
      "_view_module": "@jupyter-widgets/controls",
      "_view_module_version": "1.5.0",
      "_view_name": "HTMLView",
      "description": "",
      "description_tooltip": null,
      "layout": "IPY_MODEL_9ea80ddaa82a4277a5e8a0936ba6998d",
      "placeholder": "​",
      "style": "IPY_MODEL_cd2279baa7694a549243bf8a63acc82e",
      "value": "model.safetensors: 100%"
     }
    },
    "fda74bc3a7c14234929a79818a443d24": {
     "model_module": "@jupyter-widgets/base",
     "model_module_version": "1.2.0",
     "model_name": "LayoutModel",
     "state": {
      "_model_module": "@jupyter-widgets/base",
      "_model_module_version": "1.2.0",
      "_model_name": "LayoutModel",
      "_view_count": null,
      "_view_module": "@jupyter-widgets/base",
      "_view_module_version": "1.2.0",
      "_view_name": "LayoutView",
      "align_content": null,
      "align_items": null,
      "align_self": null,
      "border": null,
      "bottom": null,
      "display": null,
      "flex": null,
      "flex_flow": null,
      "grid_area": null,
      "grid_auto_columns": null,
      "grid_auto_flow": null,
      "grid_auto_rows": null,
      "grid_column": null,
      "grid_gap": null,
      "grid_row": null,
      "grid_template_areas": null,
      "grid_template_columns": null,
      "grid_template_rows": null,
      "height": null,
      "justify_content": null,
      "justify_items": null,
      "left": null,
      "margin": null,
      "max_height": null,
      "max_width": null,
      "min_height": null,
      "min_width": null,
      "object_fit": null,
      "object_position": null,
      "order": null,
      "overflow": null,
      "overflow_x": null,
      "overflow_y": null,
      "padding": null,
      "right": null,
      "top": null,
      "visibility": null,
      "width": null
     }
    },
    "fe0fd401c06449a8ba446aaca8cf2925": {
     "model_module": "@jupyter-widgets/base",
     "model_module_version": "1.2.0",
     "model_name": "LayoutModel",
     "state": {
      "_model_module": "@jupyter-widgets/base",
      "_model_module_version": "1.2.0",
      "_model_name": "LayoutModel",
      "_view_count": null,
      "_view_module": "@jupyter-widgets/base",
      "_view_module_version": "1.2.0",
      "_view_name": "LayoutView",
      "align_content": null,
      "align_items": null,
      "align_self": null,
      "border": null,
      "bottom": null,
      "display": null,
      "flex": null,
      "flex_flow": null,
      "grid_area": null,
      "grid_auto_columns": null,
      "grid_auto_flow": null,
      "grid_auto_rows": null,
      "grid_column": null,
      "grid_gap": null,
      "grid_row": null,
      "grid_template_areas": null,
      "grid_template_columns": null,
      "grid_template_rows": null,
      "height": null,
      "justify_content": null,
      "justify_items": null,
      "left": null,
      "margin": null,
      "max_height": null,
      "max_width": null,
      "min_height": null,
      "min_width": null,
      "object_fit": null,
      "object_position": null,
      "order": null,
      "overflow": null,
      "overflow_x": null,
      "overflow_y": null,
      "padding": null,
      "right": null,
      "top": null,
      "visibility": null,
      "width": null
     }
    },
    "ff61719469934ef5bd89720c172a7c07": {
     "model_module": "@jupyter-widgets/controls",
     "model_module_version": "1.5.0",
     "model_name": "HTMLModel",
     "state": {
      "_dom_classes": [],
      "_model_module": "@jupyter-widgets/controls",
      "_model_module_version": "1.5.0",
      "_model_name": "HTMLModel",
      "_view_count": null,
      "_view_module": "@jupyter-widgets/controls",
      "_view_module_version": "1.5.0",
      "_view_name": "HTMLView",
      "description": "",
      "description_tooltip": null,
      "layout": "IPY_MODEL_9515966c35664487a6f6d31189bf662a",
      "placeholder": "​",
      "style": "IPY_MODEL_d190fe883a36447ab2fc8a35ff132b67",
      "value": " 466k/466k [00:00&lt;00:00, 2.41MB/s]"
     }
    }
   }
  }
 },
 "nbformat": 4,
 "nbformat_minor": 1
}
