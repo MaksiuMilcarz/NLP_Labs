{
 "cells": [
  {
   "cell_type": "markdown",
   "metadata": {
    "collapsed": false,
    "id": "od2YkWY8pSOC",
    "pycharm": {
     "name": "#%% md\n"
    }
   },
   "source": [
    "# NLP 2025\n",
    "# Lab 2: Word Vectors and Information Retrieval\n",
    "\n",
    "During the first few weeks, we discussed various ways to represent text 📝. One key question was: What should be the basic unit of representation? Words are the fundamental building blocks 🧱.\n",
    "\n",
    "In this lab, we will explore different text representation models, such as Bag-of-Words (BoW), TF-IDF and word embeddings 🔤➡️🔢. Among these, word embeddings are the most effective in terms of performance. They represent each word as a vector of numbers, where each vector captures the meaning of the word 🧠📊.\n",
    "\n",
    "These numerical representations (or weights) are learned using machine learning models 🤖. We’ll dive deeper into how these vectors are learned in the next lecture 📚.\n",
    "\n",
    "For now, we’ll focus on how different representation methods affect performance in an information retrieval task 🔍."
   ]
  },
  {
   "cell_type": "markdown",
   "metadata": {
    "collapsed": false,
    "id": "s93LS5bspSOD",
    "pycharm": {
     "name": "#%% md\n"
    }
   },
   "source": [
    "By the end of this lab, you should be able to:\n",
    "\n",
    "+ 🧼🔁 Implement and/or use built-in functions to preprocess your data (once again!)\n",
    "+ 🧱👜 Build a Bag-of-Words representation of the dataset\n",
    "+ 📊✨ Implement TF-IDF\n",
    "+ 📥🔤 Load pre-trained word embeddings\n",
    "+ 🔍🧠 Inspect and test word embedding properties\n",
    "+ 🗣️➡️📐 Use word embeddings to get sentence representations (aka sentence embeddings)\n",
    "+ 🧩🔎 Use sentence embeddings to solve more complex tasks like information retrieval\n",
    "+ 🧪📏 Design evaluation frameworks for specific NLP tasks and assess their difficulty\n",
    "\n",
    "### Score breakdown\n",
    "\n",
    "| Exercise            | Points |\n",
    "|---------------------|--------|\n",
    "| [Exercise 1](#e1)   | 1      |\n",
    "| [Exercise 2](#e2)   | 1      |\n",
    "| [Exercise 3](#e3)   | 1      |\n",
    "| [Exercise 4](#e4)   | 1      |\n",
    "| [Exercise 5](#e5)   | 1      |\n",
    "| [Exercise 6](#e6)   | 2      |\n",
    "| [Exercise 7](#e7)   | 10     |\n",
    "| [Exercise 8](#e8)   | 5      |\n",
    "| [Exercise 9](#e9)   | 15     |\n",
    "| [Exercise 10](#e10) | 10     |\n",
    "| [Exercise 11](#e11) | 10     |\n",
    "| [Exercise 12](#e12) | 5      |\n",
    "| [Exercise 13](#e13) | 15     |\n",
    "| [Exercise 14](#e14) | 3      |\n",
    "| [Exercise 15](#e15) | 10     |\n",
    "| [Exercise 16](#e16) | 10     |\n",
    "| Total               | 100    |\n",
    "\n",
    "This score will be scaled down to 1 and that will be your final lab score.\n",
    "\n",
    "### 📌 **Instructions for Delivery** (📅 **Deadline: 18/Apr 18:00**, 🎭 *wildcards possible*)\n",
    "\n",
    "✅ **Submission Requirements**\n",
    "+ 📄 You need to submit a **PDF of your report** (use the templates provided in **LaTeX** 🖋️ (*preferred*) or **Word** 📑) and a **copy of your notebook** 📓 with the code.\n",
    "+ ⚡ Make sure that **all cells are executed properly** ⚙️ and that **all figures/results/plots** 📊 you include in the report are also visible in your **executed notebook**.\n",
    "\n",
    "✅ **Collaboration & Integrity**\n",
    "+ 🗣️ While you may **discuss** the lab with others, you must **write your solutions with your group only**. If you **discuss specific tasks** with others, please **include their names** in the appendix of the report.\n",
    "+ 📜 **Honor Code applies** to this lab. For more details, check **Syllabus §7.2** ⚖️.\n",
    "+ 📢 **Mandatory Disclosure**:\n",
    "   - Any **websites** 🌐 (e.g., **Stack Overflow** 💡) or **other resources** used must be **listed and disclosed**.\n",
    "   - Any **GenAI tools** 🤖 (e.g., **ChatGPT**) used must be **explicitly mentioned**.\n",
    "   - 🚨 **Failure to disclose these resources is a violation of academic integrity**. See **Syllabus §7.3** for details."
   ]
  },
  {
   "cell_type": "markdown",
   "metadata": {
    "collapsed": false,
    "id": "aHYGq5RUpSOD",
    "pycharm": {
     "name": "#%% md\n"
    }
   },
   "source": [
    "## 0. Setup\n",
    "\n",
    "As in the last lab, we will be using huggingface datasets library ([https://huggingface.co/datasets](https://huggingface.co/datasets)). You can find the detailed documentation and tutorials here: [https://huggingface.co/docs/datasets/en/index](https://huggingface.co/docs/datasets/en/index)\n",
    "\n",
    "If you don't have it installed you can run the code below or install it via `pip` in your terminal. If you are using Google Colab, you can uncomment and run the code below in a code cell. Restarting of the runtime may be required after installation (Runtime/Restart session)."
   ]
  },
  {
   "cell_type": "code",
   "execution_count": 2,
   "metadata": {
    "id": "rhEG8hKrpSOE",
    "pycharm": {
     "name": "#%%\n"
    }
   },
   "outputs": [
    {
     "name": "stdout",
     "output_type": "stream",
     "text": [
      "Requirement already satisfied: datasets~=3.5.0 in /Users/maksiuuuuuuu/Desktop/NLP/project/.venv/lib/python3.11/site-packages (3.5.0)\n",
      "Requirement already satisfied: filelock in /Users/maksiuuuuuuu/Desktop/NLP/project/.venv/lib/python3.11/site-packages (from datasets~=3.5.0) (3.18.0)\n",
      "Requirement already satisfied: numpy>=1.17 in /Users/maksiuuuuuuu/Desktop/NLP/project/.venv/lib/python3.11/site-packages (from datasets~=3.5.0) (2.2.4)\n",
      "Requirement already satisfied: pyarrow>=15.0.0 in /Users/maksiuuuuuuu/Desktop/NLP/project/.venv/lib/python3.11/site-packages (from datasets~=3.5.0) (19.0.1)\n",
      "Requirement already satisfied: dill<0.3.9,>=0.3.0 in /Users/maksiuuuuuuu/Desktop/NLP/project/.venv/lib/python3.11/site-packages (from datasets~=3.5.0) (0.3.8)\n",
      "Requirement already satisfied: pandas in /Users/maksiuuuuuuu/Desktop/NLP/project/.venv/lib/python3.11/site-packages (from datasets~=3.5.0) (2.2.3)\n",
      "Requirement already satisfied: requests>=2.32.2 in /Users/maksiuuuuuuu/Desktop/NLP/project/.venv/lib/python3.11/site-packages (from datasets~=3.5.0) (2.32.3)\n",
      "Requirement already satisfied: tqdm>=4.66.3 in /Users/maksiuuuuuuu/Desktop/NLP/project/.venv/lib/python3.11/site-packages (from datasets~=3.5.0) (4.67.1)\n",
      "Requirement already satisfied: xxhash in /Users/maksiuuuuuuu/Desktop/NLP/project/.venv/lib/python3.11/site-packages (from datasets~=3.5.0) (3.5.0)\n",
      "Requirement already satisfied: multiprocess<0.70.17 in /Users/maksiuuuuuuu/Desktop/NLP/project/.venv/lib/python3.11/site-packages (from datasets~=3.5.0) (0.70.16)\n",
      "Requirement already satisfied: fsspec<=2024.12.0,>=2023.1.0 in /Users/maksiuuuuuuu/Desktop/NLP/project/.venv/lib/python3.11/site-packages (from fsspec[http]<=2024.12.0,>=2023.1.0->datasets~=3.5.0) (2024.12.0)\n",
      "Requirement already satisfied: aiohttp in /Users/maksiuuuuuuu/Desktop/NLP/project/.venv/lib/python3.11/site-packages (from datasets~=3.5.0) (3.11.16)\n",
      "Requirement already satisfied: huggingface-hub>=0.24.0 in /Users/maksiuuuuuuu/Desktop/NLP/project/.venv/lib/python3.11/site-packages (from datasets~=3.5.0) (0.30.2)\n",
      "Requirement already satisfied: packaging in /Users/maksiuuuuuuu/Desktop/NLP/project/.venv/lib/python3.11/site-packages (from datasets~=3.5.0) (24.2)\n",
      "Requirement already satisfied: pyyaml>=5.1 in /Users/maksiuuuuuuu/Desktop/NLP/project/.venv/lib/python3.11/site-packages (from datasets~=3.5.0) (6.0.2)\n",
      "Requirement already satisfied: aiohappyeyeballs>=2.3.0 in /Users/maksiuuuuuuu/Desktop/NLP/project/.venv/lib/python3.11/site-packages (from aiohttp->datasets~=3.5.0) (2.6.1)\n",
      "Requirement already satisfied: aiosignal>=1.1.2 in /Users/maksiuuuuuuu/Desktop/NLP/project/.venv/lib/python3.11/site-packages (from aiohttp->datasets~=3.5.0) (1.3.2)\n",
      "Requirement already satisfied: attrs>=17.3.0 in /Users/maksiuuuuuuu/Desktop/NLP/project/.venv/lib/python3.11/site-packages (from aiohttp->datasets~=3.5.0) (25.3.0)\n",
      "Requirement already satisfied: frozenlist>=1.1.1 in /Users/maksiuuuuuuu/Desktop/NLP/project/.venv/lib/python3.11/site-packages (from aiohttp->datasets~=3.5.0) (1.5.0)\n",
      "Requirement already satisfied: multidict<7.0,>=4.5 in /Users/maksiuuuuuuu/Desktop/NLP/project/.venv/lib/python3.11/site-packages (from aiohttp->datasets~=3.5.0) (6.4.3)\n",
      "Requirement already satisfied: propcache>=0.2.0 in /Users/maksiuuuuuuu/Desktop/NLP/project/.venv/lib/python3.11/site-packages (from aiohttp->datasets~=3.5.0) (0.3.1)\n",
      "Requirement already satisfied: yarl<2.0,>=1.17.0 in /Users/maksiuuuuuuu/Desktop/NLP/project/.venv/lib/python3.11/site-packages (from aiohttp->datasets~=3.5.0) (1.19.0)\n",
      "Requirement already satisfied: typing-extensions>=3.7.4.3 in /Users/maksiuuuuuuu/Desktop/NLP/project/.venv/lib/python3.11/site-packages (from huggingface-hub>=0.24.0->datasets~=3.5.0) (4.13.2)\n",
      "Requirement already satisfied: charset-normalizer<4,>=2 in /Users/maksiuuuuuuu/Desktop/NLP/project/.venv/lib/python3.11/site-packages (from requests>=2.32.2->datasets~=3.5.0) (3.4.1)\n",
      "Requirement already satisfied: idna<4,>=2.5 in /Users/maksiuuuuuuu/Desktop/NLP/project/.venv/lib/python3.11/site-packages (from requests>=2.32.2->datasets~=3.5.0) (3.10)\n",
      "Requirement already satisfied: urllib3<3,>=1.21.1 in /Users/maksiuuuuuuu/Desktop/NLP/project/.venv/lib/python3.11/site-packages (from requests>=2.32.2->datasets~=3.5.0) (2.4.0)\n",
      "Requirement already satisfied: certifi>=2017.4.17 in /Users/maksiuuuuuuu/Desktop/NLP/project/.venv/lib/python3.11/site-packages (from requests>=2.32.2->datasets~=3.5.0) (2025.1.31)\n",
      "Requirement already satisfied: python-dateutil>=2.8.2 in /Users/maksiuuuuuuu/Desktop/NLP/project/.venv/lib/python3.11/site-packages (from pandas->datasets~=3.5.0) (2.9.0.post0)\n",
      "Requirement already satisfied: pytz>=2020.1 in /Users/maksiuuuuuuu/Desktop/NLP/project/.venv/lib/python3.11/site-packages (from pandas->datasets~=3.5.0) (2025.2)\n",
      "Requirement already satisfied: tzdata>=2022.7 in /Users/maksiuuuuuuu/Desktop/NLP/project/.venv/lib/python3.11/site-packages (from pandas->datasets~=3.5.0) (2025.2)\n",
      "Requirement already satisfied: six>=1.5 in /Users/maksiuuuuuuu/Desktop/NLP/project/.venv/lib/python3.11/site-packages (from python-dateutil>=2.8.2->pandas->datasets~=3.5.0) (1.17.0)\n",
      "Requirement already satisfied: gensim in /Users/maksiuuuuuuu/Desktop/NLP/project/.venv/lib/python3.11/site-packages (4.3.3)\n",
      "Collecting numpy<2.0,>=1.18.5 (from gensim)\n",
      "  Using cached numpy-1.26.4-cp311-cp311-macosx_11_0_arm64.whl.metadata (114 kB)\n",
      "Requirement already satisfied: scipy<1.14.0,>=1.7.0 in /Users/maksiuuuuuuu/Desktop/NLP/project/.venv/lib/python3.11/site-packages (from gensim) (1.13.1)\n",
      "Requirement already satisfied: smart-open>=1.8.1 in /Users/maksiuuuuuuu/Desktop/NLP/project/.venv/lib/python3.11/site-packages (from gensim) (7.1.0)\n",
      "Requirement already satisfied: wrapt in /Users/maksiuuuuuuu/Desktop/NLP/project/.venv/lib/python3.11/site-packages (from smart-open>=1.8.1->gensim) (1.17.2)\n",
      "Using cached numpy-1.26.4-cp311-cp311-macosx_11_0_arm64.whl (14.0 MB)\n",
      "Installing collected packages: numpy\n",
      "  Attempting uninstall: numpy\n",
      "    Found existing installation: numpy 2.2.4\n",
      "    Uninstalling numpy-2.2.4:\n",
      "      Successfully uninstalled numpy-2.2.4\n",
      "Successfully installed numpy-1.26.4\n",
      "Requirement already satisfied: matplotlib in /Users/maksiuuuuuuu/Desktop/NLP/project/.venv/lib/python3.11/site-packages (3.10.1)\n",
      "Requirement already satisfied: contourpy>=1.0.1 in /Users/maksiuuuuuuu/Desktop/NLP/project/.venv/lib/python3.11/site-packages (from matplotlib) (1.3.1)\n",
      "Requirement already satisfied: cycler>=0.10 in /Users/maksiuuuuuuu/Desktop/NLP/project/.venv/lib/python3.11/site-packages (from matplotlib) (0.12.1)\n",
      "Requirement already satisfied: fonttools>=4.22.0 in /Users/maksiuuuuuuu/Desktop/NLP/project/.venv/lib/python3.11/site-packages (from matplotlib) (4.57.0)\n",
      "Requirement already satisfied: kiwisolver>=1.3.1 in /Users/maksiuuuuuuu/Desktop/NLP/project/.venv/lib/python3.11/site-packages (from matplotlib) (1.4.8)\n",
      "Requirement already satisfied: numpy>=1.23 in /Users/maksiuuuuuuu/Desktop/NLP/project/.venv/lib/python3.11/site-packages (from matplotlib) (1.26.4)\n",
      "Requirement already satisfied: packaging>=20.0 in /Users/maksiuuuuuuu/Desktop/NLP/project/.venv/lib/python3.11/site-packages (from matplotlib) (24.2)\n",
      "Requirement already satisfied: pillow>=8 in /Users/maksiuuuuuuu/Desktop/NLP/project/.venv/lib/python3.11/site-packages (from matplotlib) (11.2.1)\n",
      "Requirement already satisfied: pyparsing>=2.3.1 in /Users/maksiuuuuuuu/Desktop/NLP/project/.venv/lib/python3.11/site-packages (from matplotlib) (3.2.3)\n",
      "Requirement already satisfied: python-dateutil>=2.7 in /Users/maksiuuuuuuu/Desktop/NLP/project/.venv/lib/python3.11/site-packages (from matplotlib) (2.9.0.post0)\n",
      "Requirement already satisfied: six>=1.5 in /Users/maksiuuuuuuu/Desktop/NLP/project/.venv/lib/python3.11/site-packages (from python-dateutil>=2.7->matplotlib) (1.17.0)\n",
      "Requirement already satisfied: nltk in /Users/maksiuuuuuuu/Desktop/NLP/project/.venv/lib/python3.11/site-packages (3.9.1)\n",
      "Requirement already satisfied: click in /Users/maksiuuuuuuu/Desktop/NLP/project/.venv/lib/python3.11/site-packages (from nltk) (8.1.8)\n",
      "Requirement already satisfied: joblib in /Users/maksiuuuuuuu/Desktop/NLP/project/.venv/lib/python3.11/site-packages (from nltk) (1.4.2)\n",
      "Requirement already satisfied: regex>=2021.8.3 in /Users/maksiuuuuuuu/Desktop/NLP/project/.venv/lib/python3.11/site-packages (from nltk) (2024.11.6)\n",
      "Requirement already satisfied: tqdm in /Users/maksiuuuuuuu/Desktop/NLP/project/.venv/lib/python3.11/site-packages (from nltk) (4.67.1)\n",
      "Requirement already satisfied: scikit-learn in /Users/maksiuuuuuuu/Desktop/NLP/project/.venv/lib/python3.11/site-packages (1.6.1)\n",
      "Requirement already satisfied: numpy>=1.19.5 in /Users/maksiuuuuuuu/Desktop/NLP/project/.venv/lib/python3.11/site-packages (from scikit-learn) (1.26.4)\n",
      "Requirement already satisfied: scipy>=1.6.0 in /Users/maksiuuuuuuu/Desktop/NLP/project/.venv/lib/python3.11/site-packages (from scikit-learn) (1.13.1)\n",
      "Requirement already satisfied: joblib>=1.2.0 in /Users/maksiuuuuuuu/Desktop/NLP/project/.venv/lib/python3.11/site-packages (from scikit-learn) (1.4.2)\n",
      "Requirement already satisfied: threadpoolctl>=3.1.0 in /Users/maksiuuuuuuu/Desktop/NLP/project/.venv/lib/python3.11/site-packages (from scikit-learn) (3.6.0)\n"
     ]
    }
   ],
   "source": [
    "! pip install -U datasets~=3.5.0\n",
    "! pip install -U gensim\n",
    "! python -m pip install -U matplotlib\n",
    "! pip install nltk\n",
    "! pip install -U scikit-learn"
   ]
  },
  {
   "cell_type": "markdown",
   "metadata": {
    "collapsed": false,
    "pycharm": {
     "name": "#%% md\n"
    }
   },
   "source": [
    "Previously installed datasets library version of 3.2.0 had an error when combined with numpy version >2. If you encounter an error at some point it might require to update the datasets library to the newer version. You can do that by running the code below. If you are using Google Colab, you can run the code below in a code cell. If you are using Jupyter Notebook, you can run the code below in a code cell or in a terminal."
   ]
  },
  {
   "cell_type": "code",
   "execution_count": 2,
   "metadata": {
    "collapsed": false,
    "pycharm": {
     "name": "#%%\n"
    }
   },
   "outputs": [
    {
     "name": "stdout",
     "output_type": "stream",
     "text": [
      "Collecting datasets\n",
      "  Using cached datasets-3.5.0-py3-none-any.whl.metadata (19 kB)\n",
      "Collecting filelock (from datasets)\n",
      "  Using cached filelock-3.18.0-py3-none-any.whl.metadata (2.9 kB)\n",
      "Collecting numpy>=1.17 (from datasets)\n",
      "  Using cached numpy-2.2.4-cp311-cp311-macosx_14_0_arm64.whl.metadata (62 kB)\n",
      "Collecting pyarrow>=15.0.0 (from datasets)\n",
      "  Using cached pyarrow-19.0.1-cp311-cp311-macosx_12_0_arm64.whl.metadata (3.3 kB)\n",
      "Collecting dill<0.3.9,>=0.3.0 (from datasets)\n",
      "  Using cached dill-0.3.8-py3-none-any.whl.metadata (10 kB)\n",
      "Collecting pandas (from datasets)\n",
      "  Using cached pandas-2.2.3-cp311-cp311-macosx_11_0_arm64.whl.metadata (89 kB)\n",
      "Collecting requests>=2.32.2 (from datasets)\n",
      "  Using cached requests-2.32.3-py3-none-any.whl.metadata (4.6 kB)\n",
      "Collecting tqdm>=4.66.3 (from datasets)\n",
      "  Using cached tqdm-4.67.1-py3-none-any.whl.metadata (57 kB)\n",
      "Collecting xxhash (from datasets)\n",
      "  Using cached xxhash-3.5.0-cp311-cp311-macosx_11_0_arm64.whl.metadata (12 kB)\n",
      "Collecting multiprocess<0.70.17 (from datasets)\n",
      "  Using cached multiprocess-0.70.16-py311-none-any.whl.metadata (7.2 kB)\n",
      "Collecting fsspec<=2024.12.0,>=2023.1.0 (from fsspec[http]<=2024.12.0,>=2023.1.0->datasets)\n",
      "  Using cached fsspec-2024.12.0-py3-none-any.whl.metadata (11 kB)\n",
      "Collecting aiohttp (from datasets)\n",
      "  Using cached aiohttp-3.11.16-cp311-cp311-macosx_11_0_arm64.whl.metadata (7.7 kB)\n",
      "Collecting huggingface-hub>=0.24.0 (from datasets)\n",
      "  Using cached huggingface_hub-0.30.2-py3-none-any.whl.metadata (13 kB)\n",
      "Collecting packaging (from datasets)\n",
      "  Using cached packaging-24.2-py3-none-any.whl.metadata (3.2 kB)\n",
      "Collecting pyyaml>=5.1 (from datasets)\n",
      "  Using cached PyYAML-6.0.2-cp311-cp311-macosx_11_0_arm64.whl.metadata (2.1 kB)\n",
      "Collecting aiohappyeyeballs>=2.3.0 (from aiohttp->datasets)\n",
      "  Using cached aiohappyeyeballs-2.6.1-py3-none-any.whl.metadata (5.9 kB)\n",
      "Collecting aiosignal>=1.1.2 (from aiohttp->datasets)\n",
      "  Using cached aiosignal-1.3.2-py2.py3-none-any.whl.metadata (3.8 kB)\n",
      "Collecting attrs>=17.3.0 (from aiohttp->datasets)\n",
      "  Using cached attrs-25.3.0-py3-none-any.whl.metadata (10 kB)\n",
      "Collecting frozenlist>=1.1.1 (from aiohttp->datasets)\n",
      "  Using cached frozenlist-1.5.0-cp311-cp311-macosx_11_0_arm64.whl.metadata (13 kB)\n",
      "Collecting multidict<7.0,>=4.5 (from aiohttp->datasets)\n",
      "  Using cached multidict-6.4.3-cp311-cp311-macosx_11_0_arm64.whl.metadata (5.3 kB)\n",
      "Collecting propcache>=0.2.0 (from aiohttp->datasets)\n",
      "  Using cached propcache-0.3.1-cp311-cp311-macosx_11_0_arm64.whl.metadata (10 kB)\n",
      "Collecting yarl<2.0,>=1.17.0 (from aiohttp->datasets)\n",
      "  Using cached yarl-1.19.0-cp311-cp311-macosx_11_0_arm64.whl.metadata (71 kB)\n",
      "Collecting typing-extensions>=3.7.4.3 (from huggingface-hub>=0.24.0->datasets)\n",
      "  Using cached typing_extensions-4.13.2-py3-none-any.whl.metadata (3.0 kB)\n",
      "Collecting charset-normalizer<4,>=2 (from requests>=2.32.2->datasets)\n",
      "  Using cached charset_normalizer-3.4.1-cp311-cp311-macosx_10_9_universal2.whl.metadata (35 kB)\n",
      "Collecting idna<4,>=2.5 (from requests>=2.32.2->datasets)\n",
      "  Using cached idna-3.10-py3-none-any.whl.metadata (10 kB)\n",
      "Collecting urllib3<3,>=1.21.1 (from requests>=2.32.2->datasets)\n",
      "  Using cached urllib3-2.4.0-py3-none-any.whl.metadata (6.5 kB)\n",
      "Collecting certifi>=2017.4.17 (from requests>=2.32.2->datasets)\n",
      "  Using cached certifi-2025.1.31-py3-none-any.whl.metadata (2.5 kB)\n",
      "Collecting python-dateutil>=2.8.2 (from pandas->datasets)\n",
      "  Using cached python_dateutil-2.9.0.post0-py2.py3-none-any.whl.metadata (8.4 kB)\n",
      "Collecting pytz>=2020.1 (from pandas->datasets)\n",
      "  Using cached pytz-2025.2-py2.py3-none-any.whl.metadata (22 kB)\n",
      "Collecting tzdata>=2022.7 (from pandas->datasets)\n",
      "  Using cached tzdata-2025.2-py2.py3-none-any.whl.metadata (1.4 kB)\n",
      "Collecting six>=1.5 (from python-dateutil>=2.8.2->pandas->datasets)\n",
      "  Using cached six-1.17.0-py2.py3-none-any.whl.metadata (1.7 kB)\n",
      "Using cached datasets-3.5.0-py3-none-any.whl (491 kB)\n",
      "Using cached dill-0.3.8-py3-none-any.whl (116 kB)\n",
      "Using cached fsspec-2024.12.0-py3-none-any.whl (183 kB)\n",
      "Using cached aiohttp-3.11.16-cp311-cp311-macosx_11_0_arm64.whl (456 kB)\n",
      "Using cached huggingface_hub-0.30.2-py3-none-any.whl (481 kB)\n",
      "Using cached multiprocess-0.70.16-py311-none-any.whl (143 kB)\n",
      "Using cached numpy-2.2.4-cp311-cp311-macosx_14_0_arm64.whl (5.4 MB)\n",
      "Using cached packaging-24.2-py3-none-any.whl (65 kB)\n",
      "Using cached pyarrow-19.0.1-cp311-cp311-macosx_12_0_arm64.whl (30.7 MB)\n",
      "Using cached PyYAML-6.0.2-cp311-cp311-macosx_11_0_arm64.whl (172 kB)\n",
      "Using cached requests-2.32.3-py3-none-any.whl (64 kB)\n",
      "Using cached tqdm-4.67.1-py3-none-any.whl (78 kB)\n",
      "Using cached filelock-3.18.0-py3-none-any.whl (16 kB)\n",
      "Using cached pandas-2.2.3-cp311-cp311-macosx_11_0_arm64.whl (11.3 MB)\n",
      "Using cached xxhash-3.5.0-cp311-cp311-macosx_11_0_arm64.whl (30 kB)\n",
      "Using cached aiohappyeyeballs-2.6.1-py3-none-any.whl (15 kB)\n",
      "Using cached aiosignal-1.3.2-py2.py3-none-any.whl (7.6 kB)\n",
      "Using cached attrs-25.3.0-py3-none-any.whl (63 kB)\n",
      "Using cached certifi-2025.1.31-py3-none-any.whl (166 kB)\n",
      "Using cached charset_normalizer-3.4.1-cp311-cp311-macosx_10_9_universal2.whl (194 kB)\n",
      "Using cached frozenlist-1.5.0-cp311-cp311-macosx_11_0_arm64.whl (52 kB)\n",
      "Using cached idna-3.10-py3-none-any.whl (70 kB)\n",
      "Using cached multidict-6.4.3-cp311-cp311-macosx_11_0_arm64.whl (37 kB)\n",
      "Using cached propcache-0.3.1-cp311-cp311-macosx_11_0_arm64.whl (45 kB)\n",
      "Using cached python_dateutil-2.9.0.post0-py2.py3-none-any.whl (229 kB)\n",
      "Using cached pytz-2025.2-py2.py3-none-any.whl (509 kB)\n",
      "Using cached typing_extensions-4.13.2-py3-none-any.whl (45 kB)\n",
      "Using cached tzdata-2025.2-py2.py3-none-any.whl (347 kB)\n",
      "Using cached urllib3-2.4.0-py3-none-any.whl (128 kB)\n",
      "Using cached yarl-1.19.0-cp311-cp311-macosx_11_0_arm64.whl (94 kB)\n",
      "Using cached six-1.17.0-py2.py3-none-any.whl (11 kB)\n",
      "Installing collected packages: pytz, xxhash, urllib3, tzdata, typing-extensions, tqdm, six, pyyaml, pyarrow, propcache, packaging, numpy, multidict, idna, fsspec, frozenlist, filelock, dill, charset-normalizer, certifi, attrs, aiohappyeyeballs, yarl, requests, python-dateutil, multiprocess, aiosignal, pandas, huggingface-hub, aiohttp, datasets\n",
      "  Attempting uninstall: pytz\n",
      "    Found existing installation: pytz 2025.2\n",
      "    Uninstalling pytz-2025.2:\n",
      "      Successfully uninstalled pytz-2025.2\n",
      "  Attempting uninstall: xxhash\n",
      "    Found existing installation: xxhash 3.5.0\n",
      "    Uninstalling xxhash-3.5.0:\n",
      "      Successfully uninstalled xxhash-3.5.0\n",
      "  Attempting uninstall: urllib3\n",
      "    Found existing installation: urllib3 2.4.0\n",
      "    Uninstalling urllib3-2.4.0:\n",
      "      Successfully uninstalled urllib3-2.4.0\n",
      "  Attempting uninstall: tzdata\n",
      "    Found existing installation: tzdata 2025.2\n",
      "    Uninstalling tzdata-2025.2:\n",
      "      Successfully uninstalled tzdata-2025.2\n",
      "  Attempting uninstall: typing-extensions\n",
      "    Found existing installation: typing_extensions 4.13.2\n",
      "    Uninstalling typing_extensions-4.13.2:\n",
      "      Successfully uninstalled typing_extensions-4.13.2\n",
      "  Attempting uninstall: tqdm\n",
      "    Found existing installation: tqdm 4.67.1\n",
      "    Uninstalling tqdm-4.67.1:\n",
      "      Successfully uninstalled tqdm-4.67.1\n",
      "  Attempting uninstall: six\n",
      "    Found existing installation: six 1.17.0\n",
      "    Uninstalling six-1.17.0:\n",
      "      Successfully uninstalled six-1.17.0\n",
      "  Attempting uninstall: pyyaml\n",
      "    Found existing installation: PyYAML 6.0.2\n",
      "    Uninstalling PyYAML-6.0.2:\n",
      "      Successfully uninstalled PyYAML-6.0.2\n",
      "  Attempting uninstall: pyarrow\n",
      "    Found existing installation: pyarrow 19.0.1\n",
      "    Uninstalling pyarrow-19.0.1:\n",
      "      Successfully uninstalled pyarrow-19.0.1\n",
      "  Attempting uninstall: propcache\n",
      "    Found existing installation: propcache 0.3.1\n",
      "    Uninstalling propcache-0.3.1:\n",
      "      Successfully uninstalled propcache-0.3.1\n",
      "  Attempting uninstall: packaging\n",
      "    Found existing installation: packaging 24.2\n",
      "    Uninstalling packaging-24.2:\n",
      "      Successfully uninstalled packaging-24.2\n",
      "  Attempting uninstall: numpy\n",
      "    Found existing installation: numpy 1.26.4\n",
      "    Uninstalling numpy-1.26.4:\n",
      "      Successfully uninstalled numpy-1.26.4\n",
      "  Attempting uninstall: multidict\n",
      "    Found existing installation: multidict 6.4.3\n",
      "    Uninstalling multidict-6.4.3:\n",
      "      Successfully uninstalled multidict-6.4.3\n",
      "  Attempting uninstall: idna\n",
      "    Found existing installation: idna 3.10\n",
      "    Uninstalling idna-3.10:\n",
      "      Successfully uninstalled idna-3.10\n",
      "  Attempting uninstall: fsspec\n",
      "    Found existing installation: fsspec 2024.12.0\n",
      "    Uninstalling fsspec-2024.12.0:\n",
      "      Successfully uninstalled fsspec-2024.12.0\n",
      "  Attempting uninstall: frozenlist\n",
      "    Found existing installation: frozenlist 1.5.0\n",
      "    Uninstalling frozenlist-1.5.0:\n",
      "      Successfully uninstalled frozenlist-1.5.0\n",
      "  Attempting uninstall: filelock\n",
      "    Found existing installation: filelock 3.18.0\n",
      "    Uninstalling filelock-3.18.0:\n",
      "      Successfully uninstalled filelock-3.18.0\n",
      "  Attempting uninstall: dill\n",
      "    Found existing installation: dill 0.3.8\n",
      "    Uninstalling dill-0.3.8:\n",
      "      Successfully uninstalled dill-0.3.8\n",
      "  Attempting uninstall: charset-normalizer\n",
      "    Found existing installation: charset-normalizer 3.4.1\n",
      "    Uninstalling charset-normalizer-3.4.1:\n",
      "      Successfully uninstalled charset-normalizer-3.4.1\n",
      "  Attempting uninstall: certifi\n",
      "    Found existing installation: certifi 2025.1.31\n",
      "    Uninstalling certifi-2025.1.31:\n",
      "      Successfully uninstalled certifi-2025.1.31\n",
      "  Attempting uninstall: attrs\n",
      "    Found existing installation: attrs 25.3.0\n",
      "    Uninstalling attrs-25.3.0:\n",
      "      Successfully uninstalled attrs-25.3.0\n",
      "  Attempting uninstall: aiohappyeyeballs\n",
      "    Found existing installation: aiohappyeyeballs 2.6.1\n",
      "    Uninstalling aiohappyeyeballs-2.6.1:\n",
      "      Successfully uninstalled aiohappyeyeballs-2.6.1\n",
      "  Attempting uninstall: yarl\n",
      "    Found existing installation: yarl 1.19.0\n",
      "    Uninstalling yarl-1.19.0:\n",
      "      Successfully uninstalled yarl-1.19.0\n",
      "  Attempting uninstall: requests\n",
      "    Found existing installation: requests 2.32.3\n",
      "    Uninstalling requests-2.32.3:\n",
      "      Successfully uninstalled requests-2.32.3\n",
      "  Attempting uninstall: python-dateutil\n",
      "    Found existing installation: python-dateutil 2.9.0.post0\n",
      "    Uninstalling python-dateutil-2.9.0.post0:\n",
      "      Successfully uninstalled python-dateutil-2.9.0.post0\n",
      "  Attempting uninstall: multiprocess\n",
      "    Found existing installation: multiprocess 0.70.16\n",
      "    Uninstalling multiprocess-0.70.16:\n",
      "      Successfully uninstalled multiprocess-0.70.16\n",
      "  Attempting uninstall: aiosignal\n",
      "    Found existing installation: aiosignal 1.3.2\n",
      "    Uninstalling aiosignal-1.3.2:\n",
      "      Successfully uninstalled aiosignal-1.3.2\n",
      "  Attempting uninstall: pandas\n",
      "    Found existing installation: pandas 2.2.3\n",
      "    Uninstalling pandas-2.2.3:\n",
      "      Successfully uninstalled pandas-2.2.3\n",
      "  Attempting uninstall: huggingface-hub\n",
      "    Found existing installation: huggingface-hub 0.30.2\n",
      "    Uninstalling huggingface-hub-0.30.2:\n",
      "      Successfully uninstalled huggingface-hub-0.30.2\n",
      "  Attempting uninstall: aiohttp\n",
      "    Found existing installation: aiohttp 3.11.16\n",
      "    Uninstalling aiohttp-3.11.16:\n",
      "      Successfully uninstalled aiohttp-3.11.16\n",
      "  Attempting uninstall: datasets\n",
      "    Found existing installation: datasets 3.5.0\n",
      "    Uninstalling datasets-3.5.0:\n",
      "      Successfully uninstalled datasets-3.5.0\n",
      "\u001b[31mERROR: pip's dependency resolver does not currently take into account all the packages that are installed. This behaviour is the source of the following dependency conflicts.\n",
      "gensim 4.3.3 requires numpy<2.0,>=1.18.5, but you have numpy 2.2.4 which is incompatible.\u001b[0m\u001b[31m\n",
      "\u001b[0mSuccessfully installed aiohappyeyeballs-2.6.1 aiohttp-3.11.16 aiosignal-1.3.2 attrs-25.3.0 certifi-2025.1.31 charset-normalizer-3.4.1 datasets-3.5.0 dill-0.3.8 filelock-3.18.0 frozenlist-1.5.0 fsspec-2024.12.0 huggingface-hub-0.30.2 idna-3.10 multidict-6.4.3 multiprocess-0.70.16 numpy-2.2.4 packaging-24.2 pandas-2.2.3 propcache-0.3.1 pyarrow-19.0.1 python-dateutil-2.9.0.post0 pytz-2025.2 pyyaml-6.0.2 requests-2.32.3 six-1.17.0 tqdm-4.67.1 typing-extensions-4.13.2 tzdata-2025.2 urllib3-2.4.0 xxhash-3.5.0 yarl-1.19.0\n"
     ]
    }
   ],
   "source": [
    "! pip install --upgrade --force-reinstall datasets"
   ]
  },
  {
   "cell_type": "markdown",
   "metadata": {
    "collapsed": false,
    "id": "5CCI1TPJpSOF",
    "pycharm": {
     "name": "#%% md\n"
    }
   },
   "source": [
    "As usual, we start by importing some essential Python libraries and we will be using. Apart from `gensim` (which is going to be used for word embeddings), we have already seen the others."
   ]
  },
  {
   "cell_type": "code",
   "execution_count": 5,
   "metadata": {},
   "outputs": [
    {
     "name": "stdout",
     "output_type": "stream",
     "text": [
      "Requirement already satisfied: numpy in /Users/maksiuuuuuuu/Desktop/NLP/project/.venv/lib/python3.11/site-packages (1.26.4)\n",
      "Collecting numpy\n",
      "  Using cached numpy-2.2.4-cp311-cp311-macosx_14_0_arm64.whl.metadata (62 kB)\n",
      "Requirement already satisfied: gensim in /Users/maksiuuuuuuu/Desktop/NLP/project/.venv/lib/python3.11/site-packages (4.3.3)\n",
      "Requirement already satisfied: scipy<1.14.0,>=1.7.0 in /Users/maksiuuuuuuu/Desktop/NLP/project/.venv/lib/python3.11/site-packages (from gensim) (1.13.1)\n",
      "Requirement already satisfied: smart-open>=1.8.1 in /Users/maksiuuuuuuu/Desktop/NLP/project/.venv/lib/python3.11/site-packages (from gensim) (7.1.0)\n",
      "Requirement already satisfied: wrapt in /Users/maksiuuuuuuu/Desktop/NLP/project/.venv/lib/python3.11/site-packages (from smart-open>=1.8.1->gensim) (1.17.2)\n"
     ]
    }
   ],
   "source": [
    "!pip install --upgrade numpy gensim\n",
    "\n"
   ]
  },
  {
   "cell_type": "code",
   "execution_count": 1,
   "metadata": {
    "id": "CRe8W4hKpSOF",
    "pycharm": {
     "name": "#%%\n"
    }
   },
   "outputs": [
    {
     "name": "stderr",
     "output_type": "stream",
     "text": [
      "/Users/maksiuuuuuuu/Desktop/NLP/project/.venv/lib/python3.11/site-packages/tqdm/auto.py:21: TqdmWarning: IProgress not found. Please update jupyter and ipywidgets. See https://ipywidgets.readthedocs.io/en/stable/user_install.html\n",
      "  from .autonotebook import tqdm as notebook_tqdm\n",
      "[nltk_data] Error loading punkt_tab: <urlopen error [SSL:\n",
      "[nltk_data]     CERTIFICATE_VERIFY_FAILED] certificate verify failed:\n",
      "[nltk_data]     unable to get local issuer certificate (_ssl.c:992)>\n"
     ]
    },
    {
     "data": {
      "text/plain": [
       "False"
      ]
     },
     "execution_count": 1,
     "metadata": {},
     "output_type": "execute_result"
    }
   ],
   "source": [
    "import re\n",
    "\n",
    "import pandas as pd    \n",
    "import numpy as np\n",
    "import matplotlib.pyplot as plt\n",
    "import gensim\n",
    "import tqdm\n",
    "import datasets\n",
    "import nltk\n",
    "\n",
    "\n",
    "nltk.download('punkt_tab')"
   ]
  },
  {
   "cell_type": "markdown",
   "metadata": {
    "collapsed": false,
    "id": "NXy-1KiCpSOF",
    "pycharm": {
     "name": "#%% md\n"
    }
   },
   "source": [
    "## 1. Load and Preprocess Data\n",
    "\n",
    "*Sentence compression* involves rephrasing sentences to make them shorter while still retaining the original meaning. A reliable compression system would be valuable for mobile devices and could also serve as a component in an extractive summarization system.\n",
    "\n",
    "The dataset we are going to use can be found on [Huggingface](https://huggingface.co/datasets/embedding-data/sentence-compression). It concerns a set of 180,000 pairs of sentences, aka it is a parallel corpus of sentences and their equivalent compressions. It has been collected by harvesting news articles from the Internet where the headline appears to be similar to the first sentence and that property is used to find an \"extractive\" compression of the sentence.\n",
    "\n",
    "For example, for the sentence\n",
    "\n",
    "`\"Regulators Friday shut down a small Florida bank, bringing to 119 the number of US bank failures this year amid mounting loan defaults\"`\n",
    "\n",
    "the compressed equivalent (based on the dataset) is:\n",
    "\n",
    "`\"Regulators shut down small Florida bank\"`.\n",
    "\n",
    "\n",
    "For more information you can read the original paper (from Google) [here](https://aclanthology.org/D13-1155.pdf). We strongly recommend going over the paper to gain further insights. Notice that the paper is from 2013, therefore word embeddings have not been widely introduced yet in NLP tasks, meaning that the methods applied were based on the traditional NLP pipeline (feature extraction + ML)."
   ]
  },
  {
   "cell_type": "markdown",
   "metadata": {
    "collapsed": false,
    "id": "ztJX2GRVpSOF",
    "pycharm": {
     "name": "#%% md\n"
    }
   },
   "source": [
    "### 1.1 Loading the Dataset\n",
    "\n",
    "The dataset will be loaded as a Pandas DataFrame. This may take a few minutes because of the large size of the data.\n",
    "\n",
    "Make sure to inspect the dataset and make sure it is imported properly."
   ]
  },
  {
   "cell_type": "code",
   "execution_count": 2,
   "metadata": {
    "id": "tay2NXPTpSOG",
    "pycharm": {
     "name": "#%%\n"
    }
   },
   "outputs": [
    {
     "name": "stderr",
     "output_type": "stream",
     "text": [
      "Generating train split: 100%|██████████| 180000/180000 [00:00<00:00, 1754796.15 examples/s]\n"
     ]
    },
    {
     "data": {
      "text/plain": [
       "DatasetDict({\n",
       "    train: Dataset({\n",
       "        features: ['set'],\n",
       "        num_rows: 180000\n",
       "    })\n",
       "})"
      ]
     },
     "execution_count": 2,
     "metadata": {},
     "output_type": "execute_result"
    }
   ],
   "source": [
    "ds = datasets.load_dataset('embedding-data/sentence-compression')\n",
    "ds"
   ]
  },
  {
   "cell_type": "code",
   "execution_count": 4,
   "metadata": {
    "id": "bUud3eZVpSOH",
    "pycharm": {
     "name": "#%%\n"
    }
   },
   "outputs": [
    {
     "name": "stdout",
     "output_type": "stream",
     "text": [
      "{'set': [\"The USHL completed an expansion draft on Monday as 10 players who were on the rosters of USHL teams during the 2009-10 season were selected by the League's two newest entries, the Muskegon Lumberjacks and Dubuque Fighting Saints.\", 'USHL completes expansion draft']}\n",
      "{'set': ['Major League Baseball Commissioner Bud Selig will be speaking at St. Norbert College next month.', 'Bud Selig to speak at St. Norbert College']}\n",
      "{'set': [\"It's fresh cherry time in Michigan and the best time to enjoy this delicious and nutritious fruit.\", \"It's cherry time\"]}\n",
      "{'set': ['An Evesham man is facing charges in Pennsylvania after he allegedly dragged his girlfriend from the side of his pickup truck on the campus of Kutztown University in the early morning hours of Dec. 5, police said.', 'Evesham man faces charges for Pa.']}\n",
      "{'set': [\"NRT LLC, one of the nation's largest residential real estate brokerage companies, announced several executive appointments within its Coldwell Banker Residential Brokerage operations in Southern California.\", 'NRT announces executive appointments at its Coldwell Banker operations in Southern California']}\n",
      "{'set': ['THE JSE kept toying with an all time high by midday today as resources continued to fuel the bourse.', 'JSE keeps toying with all time high']}\n",
      "{'set': ['The government is defending the latest police crime statistics despite a worrying rise in the recorded amount of violent offending.', 'Government defends crime statistics']}\n",
      "{'set': ['The renovated Marappalam bridge, which had been opened for two-wheelers last week, was opened for other vehicles also on Friday.', 'Marappalam bridge opened']}\n",
      "{'set': ['A new survey shows 30 percent of Californians use Twitter, and more and more of us are using our smart phones to go online.', 'Survey: 30 percent of Californians use Twitter']}\n",
      "{'set': ['Brightpoint ,a provider of logistic services to the mobile industry, has started operations in the Turkish market.', 'Brightpoint starts operations on Turkish market']}\n"
     ]
    }
   ],
   "source": [
    "for i in range(10):\n",
    "    print(ds['train'][i])"
   ]
  },
  {
   "cell_type": "markdown",
   "metadata": {
    "collapsed": false,
    "id": "HfJSiWxrpSOH",
    "pycharm": {
     "name": "#%% md\n"
    }
   },
   "source": [
    "The dataset comes with only the `train` split so we will have to split it ourselves."
   ]
  },
  {
   "cell_type": "code",
   "execution_count": 5,
   "metadata": {
    "id": "tATL53MWpSOH",
    "pycharm": {
     "name": "#%%\n"
    }
   },
   "outputs": [
    {
     "data": {
      "text/plain": [
       "DatasetDict({\n",
       "    train: Dataset({\n",
       "        features: ['set'],\n",
       "        num_rows: 144000\n",
       "    })\n",
       "    test: Dataset({\n",
       "        features: ['set'],\n",
       "        num_rows: 36000\n",
       "    })\n",
       "})"
      ]
     },
     "execution_count": 5,
     "metadata": {},
     "output_type": "execute_result"
    }
   ],
   "source": [
    "split_ds = ds['train'].train_test_split(test_size=0.2)\n",
    "split_ds"
   ]
  },
  {
   "cell_type": "markdown",
   "metadata": {
    "collapsed": false,
    "id": "L133t3CqpSOH",
    "pycharm": {
     "name": "#%% md\n"
    }
   },
   "source": [
    "### 1.2 Preprocessing the dataset\n",
    "In this section we will prepare the dataset, aka clean the sentences and tokenize.\n",
    "\n",
    "First, let's write the function to clean the text. It can be similar to the one from the previous lab (Lab1) but make sure that it makes sense for this dataset and task.\n",
    "\n",
    "More specifically, think about lower-casing, punctuation, stop-words and lemmatization/stemming and the impact it might have on the dataset. Also reflect on the fact that with word embeddings we want to uncover semantic relationships between words, whereas with bag-of-words we were trying to capture different morphological variations."
   ]
  },
  {
   "cell_type": "markdown",
   "metadata": {
    "collapsed": false,
    "id": "mQszN6GNpSOH",
    "pycharm": {
     "name": "#%% md\n"
    }
   },
   "source": [
    "<a name='e1'></a>\n",
    "### Exercise 1: Clean function\n",
    "(1p) Fill in the following function ot clean the dataset. Implement at least 3 different steps."
   ]
  },
  {
   "cell_type": "code",
   "execution_count": 6,
   "metadata": {
    "id": "TxjfLQj6pSOH",
    "pycharm": {
     "name": "#%%\n"
    }
   },
   "outputs": [],
   "source": [
    "# from nltk.stem import PorterStemmer\n",
    "# ps = PorterStemmer()\n",
    "\n",
    "def clean(text):\n",
    "    \"\"\"\n",
    "    Cleans the given text\n",
    "    Args:\n",
    "        text: a str with the text to clean\n",
    "\n",
    "    Returns: a str with the cleaned text\n",
    "\n",
    "    \"\"\"\n",
    "    \n",
    "\n",
    "    # Empty text\n",
    "    if text == '':\n",
    "        return text\n",
    "\n",
    "    # 'text' from the example can be of type numpy.str_, let's convert it to a python str\n",
    "    text = str(text)\n",
    "\n",
    "    #you might need more\n",
    "    #add them here\n",
    "\n",
    "    ### YOUR CODE HERE\n",
    "\n",
    "# BASIC PROCESSING\n",
    "    # space out punctuation\n",
    "    text = re.sub(r'([.,!?(){}[\\]])', r' \\1 ', text)\n",
    "    \n",
    "    # remove comma between numbers\n",
    "    text = re.sub(r'(\\d+),(\\d+)', r'\\1\\2', text)\n",
    "    \n",
    "    #2 remove #, @, *, ^, () , {} , ...\n",
    "    text = re.sub(r'[@#*^(){}\\'\\`\\\"%\\$&\\[\\]]', \"\", text)\n",
    "    \n",
    "    #3 delete the \"-\" between words\n",
    "    text = re.sub(r'\\-', \"\", text)\n",
    "    \n",
    "    # lowercase\n",
    "    text = text.lower()\n",
    "\n",
    "    # Remove extra spaces\n",
    "    text = re.sub(r'\\s+', ' ', text)\n",
    "    \n",
    "# remove stopwords upper and lowercase - common words\n",
    "    text = re.sub(r'\\b(?:a|an|the)\\b', '', text, flags=re.IGNORECASE)\n",
    "    \n",
    "# stemming \n",
    "    # text = ' '.join([ps.stem(word) for word in text.split()])\n",
    "\n",
    "    ### YOUR CODE ENDS HERE\n",
    "    \n",
    "    text = text.strip()\n",
    "\n",
    "    # Update the example with the cleaned text\n",
    "    return text"
   ]
  },
  {
   "cell_type": "markdown",
   "metadata": {
    "collapsed": false,
    "id": "gAqf1AoupSOJ",
    "pycharm": {
     "name": "#%% md\n"
    }
   },
   "source": [
    "The following function will apply the function (sic) you just wrote to the whole dataset. More specifically, it takes the first entry (`sentence`) from the set of uncompressed/compressed pairs, applies the `clean` function and saves the processed sentence in the field `clean_sentence`. The same is dome for the compressed version of the sentence (saved as `clean_compressed`)."
   ]
  },
  {
   "cell_type": "code",
   "execution_count": 7,
   "metadata": {
    "id": "WZn-M4_vpSOJ",
    "pycharm": {
     "name": "#%%\n"
    }
   },
   "outputs": [],
   "source": [
    "def clean_dataset(example):\n",
    "    \"\"\"\n",
    "    Cleans the sentence and compressed sentence in the example from the Dataset\n",
    "    Args:\n",
    "        example: an example from the Dataset\n",
    "\n",
    "    Returns: updated example with 'clean_sentence' and 'clean_compressed' cleaned\n",
    "\n",
    "    \"\"\"\n",
    "    sentence, compressed = example['set']\n",
    "    clean_sentence = clean(sentence)\n",
    "    clean_compressed = clean(compressed)\n",
    "    example['clean_sentence'] = clean_sentence\n",
    "    example['clean_compressed'] = clean_compressed\n",
    "    return example"
   ]
  },
  {
   "cell_type": "markdown",
   "metadata": {
    "collapsed": false,
    "id": "_KVujosKpSOJ",
    "pycharm": {
     "name": "#%% md\n"
    }
   },
   "source": [
    "Below we apply the function to the whole dataset (using `map`) and we can also inspect the result."
   ]
  },
  {
   "cell_type": "code",
   "execution_count": 8,
   "metadata": {
    "id": "NBS1JbISpSOJ",
    "pycharm": {
     "name": "#%%\n"
    }
   },
   "outputs": [
    {
     "name": "stderr",
     "output_type": "stream",
     "text": [
      "Map: 100%|██████████| 144000/144000 [00:04<00:00, 32180.63 examples/s]\n",
      "Map: 100%|██████████| 36000/36000 [00:01<00:00, 32503.79 examples/s]"
     ]
    },
    {
     "name": "stdout",
     "output_type": "stream",
     "text": [
      "DatasetDict({\n",
      "    train: Dataset({\n",
      "        features: ['set', 'clean_sentence', 'clean_compressed'],\n",
      "        num_rows: 144000\n",
      "    })\n",
      "    test: Dataset({\n",
      "        features: ['set', 'clean_sentence', 'clean_compressed'],\n",
      "        num_rows: 36000\n",
      "    })\n",
      "})\n"
     ]
    },
    {
     "name": "stderr",
     "output_type": "stream",
     "text": [
      "\n"
     ]
    }
   ],
   "source": [
    "split_ds = split_ds.map(clean_dataset)\n",
    "print(split_ds)"
   ]
  },
  {
   "cell_type": "markdown",
   "metadata": {
    "collapsed": false,
    "id": "X_ThE9H-pSOJ",
    "pycharm": {
     "name": "#%% md\n"
    }
   },
   "source": [
    "Let's examine some examples from the dataset and make sure that we got the results we wanted. At this step, it might be necessary to revisit some pre-processing steps if you are not happy with the results."
   ]
  },
  {
   "cell_type": "code",
   "execution_count": 9,
   "metadata": {
    "id": "hP-qOPijpSOJ",
    "pycharm": {
     "name": "#%%\n"
    }
   },
   "outputs": [
    {
     "name": "stdout",
     "output_type": "stream",
     "text": [
      "hazmat team was called to upmc mercy hospital for  oxygen leak early tuesday morning .\n",
      "twinkle toes bruce forsyth signed  £500 , 000 deal to return to strictly come dancing then proved hes still got it by jiving down  catwalk with  model barely  quarter his age .\n",
      "new delhi , march 16  speeding train sunday mowed down two children in northeast delhi ,  railway officer said .\n",
      "armenian parliament adopted bills on biometric passports and ids in  third and final reading on wednesday .\n",
      "us automotive concern ford motor co . reported thursday it returned to  black in  first quarter of 2008 thanks to rigorous costcutting and restructuring , dpa reported .\n",
      "doordarshan will be fully digitised by 2017 . that is  goal we have set . we are also preferring  full dialogue with  industry , said zohra chatterji , joint secretary ib ministry tuesday at  fifth annual india digital networks summit .\n",
      "apple has sold usd 17 billion of bonds , including usd 14 billion of fixedrate securities with maturities from 3 to 30 years and usd 3 billion of floatingrate notes , bloomberg reports .\n",
      "singer chris brown has completed  domestic violence counseling program required as part of his guilty plea to assaulting thengirlfriend rihanna nearly two years ago .\n",
      "horry county police continued monday to investigate  fatal shooting that occurred  day before in  apartment complex parking lot in little river , sgt . robert kegler said .\n",
      "fire departments from corte madera , kentfield , larkspur , ross , ross valley and  college of marin are offering joint community emergency response training july 8 , 10 and 17 .\n",
      "\n",
      "['A hazmat team was called to UPMC Mercy hospital for an oxygen leak early Tuesday morning.', 'Hazmat called to UPMC Mercy hospital']\n",
      "[\"TWINKLE toes Bruce Forsyth signed a £500,000 deal to return to Strictly Come Dancing - then proved he's still got it by jiving down a catwalk with a model barely a quarter his age.\", \"Bruce Forsyth's still got it\"]\n",
      "['New Delhi, March 16 A speeding train Sunday mowed down two children in northeast Delhi, a railway officer said.', 'Train mows down two children']\n",
      "['Armenian Parliament adopted bills on biometric passports and IDs in the third and final reading on Wednesday.', 'Armenian Parliament adopts bills on biometric passports']\n",
      "['US automotive concern Ford Motor Co. reported Thursday it returned to the black in the first quarter of 2008 thanks to rigorous cost-cutting and restructuring, dpa reported.', 'Ford Motor Co. returns to black in first quarter']\n",
      "[\"``Doordarshan will be fully digitised by 2017. That is the goal we have set. We are also preferring a full dialogue with the industry,'' said Zohra Chatterji, joint secretary I&B ministry Tuesday at the fifth annual India Digital Networks Summit.\", 'Doordarshan will be fully digitised by 2017:']\n",
      "['Apple has sold USD 17 billion of bonds, including USD 14 billion of fixed-rate securities with maturities from 3 to 30 years and USD 3 billion of floating-rate notes, Bloomberg reports.', 'Apple sells USD 17 billion of bonds']\n",
      "['Singer Chris Brown has completed a domestic violence counseling program required as part of his guilty plea to assaulting then-girlfriend Rihanna nearly two years ago.', 'Chris Brown completes domestic violence program']\n",
      "['Horry County police continued Monday to investigate a fatal shooting that occurred the day before in an apartment complex parking lot in Little River, Sgt. Robert Kegler said.', 'Horry County police continue to investigate fatal shooting']\n",
      "['Fire departments from Corte Madera, Kentfield, Larkspur, Ross, Ross Valley and the College of Marin are offering joint community emergency response training July 8, 10 and 17.', 'Fire departments offer response training']\n"
     ]
    }
   ],
   "source": [
    "for i in range(10):\n",
    "    print(split_ds['train'][i]['clean_sentence'])\n",
    "    \n",
    "print()\n",
    "\n",
    "for i in range(10):\n",
    "    print(split_ds['train'][i]['set'])"
   ]
  },
  {
   "cell_type": "markdown",
   "metadata": {
    "collapsed": false,
    "id": "7LI2KlfypSOJ",
    "pycharm": {
     "name": "#%% md\n"
    }
   },
   "source": [
    "<a name='e2'></a>\n",
    "### Exercise 2: Tokenize function\n",
    "\n",
    "(1p) As always, we will need to tokenize the dataset in order to create bat-of-words and TF-IDF representations in the next sections. We will use the [Natural Language Toolkit (NLTK) library]([https://www.nltk.org/]) (https://www.nltk.org/). Complete the following function to split the text into tokens using the `word_tokenize()` function. Check the [documentation](https://www.nltk.org/api/nltk.tokenize.word_tokenize.html?highlight=word_tokenize) first.\n",
    "Note that there are different tokenizers e.g. `RegexpTokenizer` where you can enter your own regexp, `WhitespaceTokenizer` (similar to Python's string.split()) and `BlanklineTokenizer`."
   ]
  },
  {
   "cell_type": "code",
   "execution_count": 10,
   "metadata": {
    "id": "sb-M3V6ApSOK",
    "pycharm": {
     "name": "#%%\n"
    }
   },
   "outputs": [],
   "source": [
    "def tokenize(text):\n",
    "    \"\"\"\n",
    "    Tokenizes the `text` parameter using nltk library\n",
    "    Args:\n",
    "        text: a string representing a sentence to be tokenized\n",
    "\n",
    "    Returns: a list of tokens (strings)\n",
    "\n",
    "    \"\"\"\n",
    "\n",
    "    ### YOUR CODE HERE\n",
    "\n",
    "\n",
    "    tokens = nltk.word_tokenize(text)\n",
    "\n",
    "\n",
    "    ### YOUR CODE ENDS HERE\n",
    "    return tokens"
   ]
  },
  {
   "cell_type": "markdown",
   "metadata": {
    "collapsed": false,
    "id": "gwsHqZc9pSOK",
    "pycharm": {
     "name": "#%% md\n"
    }
   },
   "source": [
    "Next, the function will be applied to the whole dataset (as we did with the pre-processing) and `sentence_tokens` field will be created to store the result."
   ]
  },
  {
   "cell_type": "code",
   "execution_count": 11,
   "metadata": {
    "id": "6sTX-AcTpSOK",
    "pycharm": {
     "name": "#%%\n"
    }
   },
   "outputs": [],
   "source": [
    "def tokenize_dataset(example):\n",
    "    \"\"\"\n",
    "    Tokenizes 'clean_sentence' columns in the example from the Dataset\n",
    "    Args:\n",
    "        example: an example from the Dataset\n",
    "\n",
    "    Returns: updated example with 'sentence_tokens' columns\n",
    "\n",
    "    \"\"\"\n",
    "    example['sentence_tokens'] = tokenize(example['clean_sentence'])\n",
    "    example['compressed_tokens'] = tokenize(example['clean_compressed'])\n",
    "    return example"
   ]
  },
  {
   "cell_type": "code",
   "execution_count": 12,
   "metadata": {
    "id": "jvwmXLj2pSOK",
    "pycharm": {
     "name": "#%%\n"
    }
   },
   "outputs": [
    {
     "name": "stderr",
     "output_type": "stream",
     "text": [
      "Map: 100%|██████████| 144000/144000 [00:12<00:00, 11384.11 examples/s]\n",
      "Map: 100%|██████████| 36000/36000 [00:03<00:00, 11326.82 examples/s]\n"
     ]
    }
   ],
   "source": [
    "split_ds = split_ds.map(tokenize_dataset)"
   ]
  },
  {
   "cell_type": "code",
   "execution_count": 13,
   "metadata": {
    "id": "yXnje31SpSOK",
    "pycharm": {
     "name": "#%%\n"
    }
   },
   "outputs": [
    {
     "name": "stdout",
     "output_type": "stream",
     "text": [
      "['hazmat', 'team', 'was', 'called', 'to', 'upmc', 'mercy', 'hospital', 'for', 'oxygen', 'leak', 'early', 'tuesday', 'morning', '.']\n",
      "['twinkle', 'toes', 'bruce', 'forsyth', 'signed', '£500', ',', '000', 'deal', 'to', 'return', 'to', 'strictly', 'come', 'dancing', 'then', 'proved', 'hes', 'still', 'got', 'it', 'by', 'jiving', 'down', 'catwalk', 'with', 'model', 'barely', 'quarter', 'his', 'age', '.']\n",
      "['new', 'delhi', ',', 'march', '16', 'speeding', 'train', 'sunday', 'mowed', 'down', 'two', 'children', 'in', 'northeast', 'delhi', ',', 'railway', 'officer', 'said', '.']\n",
      "['armenian', 'parliament', 'adopted', 'bills', 'on', 'biometric', 'passports', 'and', 'ids', 'in', 'third', 'and', 'final', 'reading', 'on', 'wednesday', '.']\n",
      "['us', 'automotive', 'concern', 'ford', 'motor', 'co', '.', 'reported', 'thursday', 'it', 'returned', 'to', 'black', 'in', 'first', 'quarter', 'of', '2008', 'thanks', 'to', 'rigorous', 'costcutting', 'and', 'restructuring', ',', 'dpa', 'reported', '.']\n",
      "['doordarshan', 'will', 'be', 'fully', 'digitised', 'by', '2017', '.', 'that', 'is', 'goal', 'we', 'have', 'set', '.', 'we', 'are', 'also', 'preferring', 'full', 'dialogue', 'with', 'industry', ',', 'said', 'zohra', 'chatterji', ',', 'joint', 'secretary', 'ib', 'ministry', 'tuesday', 'at', 'fifth', 'annual', 'india', 'digital', 'networks', 'summit', '.']\n",
      "['apple', 'has', 'sold', 'usd', '17', 'billion', 'of', 'bonds', ',', 'including', 'usd', '14', 'billion', 'of', 'fixedrate', 'securities', 'with', 'maturities', 'from', '3', 'to', '30', 'years', 'and', 'usd', '3', 'billion', 'of', 'floatingrate', 'notes', ',', 'bloomberg', 'reports', '.']\n",
      "['singer', 'chris', 'brown', 'has', 'completed', 'domestic', 'violence', 'counseling', 'program', 'required', 'as', 'part', 'of', 'his', 'guilty', 'plea', 'to', 'assaulting', 'thengirlfriend', 'rihanna', 'nearly', 'two', 'years', 'ago', '.']\n",
      "['horry', 'county', 'police', 'continued', 'monday', 'to', 'investigate', 'fatal', 'shooting', 'that', 'occurred', 'day', 'before', 'in', 'apartment', 'complex', 'parking', 'lot', 'in', 'little', 'river', ',', 'sgt', '.', 'robert', 'kegler', 'said', '.']\n",
      "['fire', 'departments', 'from', 'corte', 'madera', ',', 'kentfield', ',', 'larkspur', ',', 'ross', ',', 'ross', 'valley', 'and', 'college', 'of', 'marin', 'are', 'offering', 'joint', 'community', 'emergency', 'response', 'training', 'july', '8', ',', '10', 'and', '17', '.']\n"
     ]
    }
   ],
   "source": [
    "for i in range(10):\n",
    "    print(split_ds['train'][i]['sentence_tokens'])"
   ]
  },
  {
   "cell_type": "markdown",
   "metadata": {
    "collapsed": false,
    "id": "FeF0wFd0pSOL",
    "pycharm": {
     "name": "#%% md\n"
    }
   },
   "source": [
    "Since we will need the tokenized sentences, we can use the following statement to extract them from the `train` split of our dataset."
   ]
  },
  {
   "cell_type": "code",
   "execution_count": 14,
   "metadata": {
    "id": "qYKfXFxQpSOL",
    "pycharm": {
     "name": "#%%\n"
    }
   },
   "outputs": [
    {
     "name": "stdout",
     "output_type": "stream",
     "text": [
      "144000\n",
      "[['hazmat', 'team', 'was', 'called', 'to', 'upmc', 'mercy', 'hospital', 'for', 'oxygen', 'leak', 'early', 'tuesday', 'morning', '.'], ['twinkle', 'toes', 'bruce', 'forsyth', 'signed', '£500', ',', '000', 'deal', 'to', 'return', 'to', 'strictly', 'come', 'dancing', 'then', 'proved', 'hes', 'still', 'got', 'it', 'by', 'jiving', 'down', 'catwalk', 'with', 'model', 'barely', 'quarter', 'his', 'age', '.'], ['new', 'delhi', ',', 'march', '16', 'speeding', 'train', 'sunday', 'mowed', 'down', 'two', 'children', 'in', 'northeast', 'delhi', ',', 'railway', 'officer', 'said', '.'], ['armenian', 'parliament', 'adopted', 'bills', 'on', 'biometric', 'passports', 'and', 'ids', 'in', 'third', 'and', 'final', 'reading', 'on', 'wednesday', '.'], ['us', 'automotive', 'concern', 'ford', 'motor', 'co', '.', 'reported', 'thursday', 'it', 'returned', 'to', 'black', 'in', 'first', 'quarter', 'of', '2008', 'thanks', 'to', 'rigorous', 'costcutting', 'and', 'restructuring', ',', 'dpa', 'reported', '.'], ['doordarshan', 'will', 'be', 'fully', 'digitised', 'by', '2017', '.', 'that', 'is', 'goal', 'we', 'have', 'set', '.', 'we', 'are', 'also', 'preferring', 'full', 'dialogue', 'with', 'industry', ',', 'said', 'zohra', 'chatterji', ',', 'joint', 'secretary', 'ib', 'ministry', 'tuesday', 'at', 'fifth', 'annual', 'india', 'digital', 'networks', 'summit', '.'], ['apple', 'has', 'sold', 'usd', '17', 'billion', 'of', 'bonds', ',', 'including', 'usd', '14', 'billion', 'of', 'fixedrate', 'securities', 'with', 'maturities', 'from', '3', 'to', '30', 'years', 'and', 'usd', '3', 'billion', 'of', 'floatingrate', 'notes', ',', 'bloomberg', 'reports', '.'], ['singer', 'chris', 'brown', 'has', 'completed', 'domestic', 'violence', 'counseling', 'program', 'required', 'as', 'part', 'of', 'his', 'guilty', 'plea', 'to', 'assaulting', 'thengirlfriend', 'rihanna', 'nearly', 'two', 'years', 'ago', '.'], ['horry', 'county', 'police', 'continued', 'monday', 'to', 'investigate', 'fatal', 'shooting', 'that', 'occurred', 'day', 'before', 'in', 'apartment', 'complex', 'parking', 'lot', 'in', 'little', 'river', ',', 'sgt', '.', 'robert', 'kegler', 'said', '.'], ['fire', 'departments', 'from', 'corte', 'madera', ',', 'kentfield', ',', 'larkspur', ',', 'ross', ',', 'ross', 'valley', 'and', 'college', 'of', 'marin', 'are', 'offering', 'joint', 'community', 'emergency', 'response', 'training', 'july', '8', ',', '10', 'and', '17', '.']]\n"
     ]
    }
   ],
   "source": [
    "tokenized_sentences = split_ds['train']['sentence_tokens']\n",
    "print(len(tokenized_sentences))\n",
    "print(tokenized_sentences[:10])"
   ]
  },
  {
   "cell_type": "code",
   "execution_count": 15,
   "metadata": {
    "collapsed": false,
    "pycharm": {
     "name": "#%%\n"
    }
   },
   "outputs": [
    {
     "name": "stdout",
     "output_type": "stream",
     "text": [
      "144000\n",
      "[['hazmat', 'called', 'to', 'upmc', 'mercy', 'hospital'], ['bruce', 'forsyths', 'still', 'got', 'it'], ['train', 'mows', 'down', 'two', 'children'], ['armenian', 'parliament', 'adopts', 'bills', 'on', 'biometric', 'passports'], ['ford', 'motor', 'co', '.', 'returns', 'to', 'black', 'in', 'first', 'quarter'], ['doordarshan', 'will', 'be', 'fully', 'digitised', 'by', '2017', ':'], ['apple', 'sells', 'usd', '17', 'billion', 'of', 'bonds'], ['chris', 'brown', 'completes', 'domestic', 'violence', 'program'], ['horry', 'county', 'police', 'continue', 'to', 'investigate', 'fatal', 'shooting'], ['fire', 'departments', 'offer', 'response', 'training']]\n"
     ]
    }
   ],
   "source": [
    "tokenized_compressed = split_ds['train']['compressed_tokens']\n",
    "print(len(tokenized_compressed))\n",
    "print(tokenized_compressed[:10])"
   ]
  },
  {
   "cell_type": "markdown",
   "metadata": {
    "id": "ZDGwEiZeCA5U",
    "pycharm": {
     "name": "#%% md\n"
    }
   },
   "source": [
    "Notice the difference in the types of the different structures we use. Run the following cell to check the types. Do they make sense to you?"
   ]
  },
  {
   "cell_type": "code",
   "execution_count": 16,
   "metadata": {
    "id": "wKrkFmcZCtOd",
    "pycharm": {
     "name": "#%%\n"
    }
   },
   "outputs": [
    {
     "name": "stdout",
     "output_type": "stream",
     "text": [
      "<class 'datasets.dataset_dict.DatasetDict'>\n",
      "--\n",
      "{'set': [\"TWINKLE toes Bruce Forsyth signed a £500,000 deal to return to Strictly Come Dancing - then proved he's still got it by jiving down a catwalk with a model barely a quarter his age.\", \"Bruce Forsyth's still got it\"], 'clean_sentence': 'twinkle toes bruce forsyth signed  £500 , 000 deal to return to strictly come dancing then proved hes still got it by jiving down  catwalk with  model barely  quarter his age .', 'clean_compressed': 'bruce forsyths still got it', 'sentence_tokens': ['twinkle', 'toes', 'bruce', 'forsyth', 'signed', '£500', ',', '000', 'deal', 'to', 'return', 'to', 'strictly', 'come', 'dancing', 'then', 'proved', 'hes', 'still', 'got', 'it', 'by', 'jiving', 'down', 'catwalk', 'with', 'model', 'barely', 'quarter', 'his', 'age', '.'], 'compressed_tokens': ['bruce', 'forsyths', 'still', 'got', 'it']}\n",
      "<class 'dict'>\n",
      "--\n",
      "twinkle toes bruce forsyth signed  £500 , 000 deal to return to strictly come dancing then proved hes still got it by jiving down  catwalk with  model barely  quarter his age .\n",
      "<class 'str'>\n",
      "--\n",
      "['twinkle', 'toes', 'bruce', 'forsyth', 'signed', '£500', ',', '000', 'deal', 'to', 'return', 'to', 'strictly', 'come', 'dancing', 'then', 'proved', 'hes', 'still', 'got', 'it', 'by', 'jiving', 'down', 'catwalk', 'with', 'model', 'barely', 'quarter', 'his', 'age', '.']\n",
      "<class 'list'>\n",
      "--\n"
     ]
    }
   ],
   "source": [
    "#type of original dataset\n",
    "print(type(split_ds))\n",
    "print(\"--\")\n",
    "#type of original sentence\n",
    "print(split_ds['train'][1])\n",
    "print(type(split_ds['train'][1]))\n",
    "print(\"--\")\n",
    "#type of pre-proceesed sentence\n",
    "print(split_ds['train']['clean_sentence'][1])\n",
    "print(type(split_ds['train']['clean_sentence'][1]))\n",
    "print(\"--\")\n",
    "#type of tokenized sentence\n",
    "print(split_ds['train']['sentence_tokens'][1])\n",
    "print(type(split_ds['train']['sentence_tokens'][1]))\n",
    "print(\"--\")"
   ]
  },
  {
   "cell_type": "markdown",
   "metadata": {
    "collapsed": false,
    "pycharm": {
     "name": "#%% md\n"
    }
   },
   "source": [
    "## 2. Bag of Words\n",
    "In this section you will built a bag-of-words representation of the dataset. We will use numpy arrays to store the results. The bag-of-words representation is a simple and effective way to represent text data. It involves creating a vocabulary of unique words from the dataset and representing each sentence as a vector of word counts. We first need the vocabulary, which we will build from both the full sentences and the compressed sentences. Similar to the first lab, the vocabulary will be a list of unique words from the dataset."
   ]
  },
  {
   "cell_type": "markdown",
   "metadata": {
    "collapsed": false,
    "pycharm": {
     "name": "#%% md\n"
    }
   },
   "source": [
    "<a name='e3'></a>\n",
    "### Exercise 3: Extracting vocabulary counts\n",
    "\n",
    "(1p) In the following cell, you will implement a function that takes a list of tokenized sentences and returns a dictionary with the counts of each word in the vocabulary. The dictionary should be of the form {word: count}. As in previous lab, you will use the `Counter` class from the `collections` module to do this."
   ]
  },
  {
   "cell_type": "code",
   "execution_count": 17,
   "metadata": {
    "collapsed": false,
    "pycharm": {
     "name": "#%%\n"
    }
   },
   "outputs": [],
   "source": [
    "from collections import Counter\n",
    "\n",
    "\n",
    "def extract_vocabulary_counts(tokenized_sentences):\n",
    "    \"\"\"\n",
    "    Extracts the vocabulary from the tokenized sentences\n",
    "    Args:\n",
    "        tokenized_sentences: a list of lists of tokens\n",
    "\n",
    "    Returns: a Counter object with the counts of each word in the vocabulary\n",
    "    \"\"\"\n",
    "\n",
    "    ### YOUR CODE HERE\n",
    "\n",
    "    # use counter and count the tokens in the tokenized sentences\n",
    "    vocab_counts = Counter()\n",
    "    for sentence in tokenized_sentences:\n",
    "        vocab_counts.update(sentence)\n",
    "        \n",
    "    return vocab_counts\n",
    "\n",
    "    ### YOUR CODE ENDS HERE"
   ]
  },
  {
   "cell_type": "code",
   "execution_count": 18,
   "metadata": {
    "collapsed": false,
    "pycharm": {
     "name": "#%%\n"
    }
   },
   "outputs": [
    {
     "name": "stdout",
     "output_type": "stream",
     "text": [
      "116558\n",
      "[('.', 177627), (',', 153209), ('to', 130591), ('in', 113351), ('of', 100759), ('and', 68295), ('on', 56337), ('for', 52021), ('has', 39116), ('with', 31838)]\n"
     ]
    }
   ],
   "source": [
    "vocab_counter = extract_vocabulary_counts(tokenized_sentences + tokenized_compressed)\n",
    "print(len(vocab_counter))\n",
    "print(vocab_counter.most_common(10))"
   ]
  },
  {
   "cell_type": "markdown",
   "metadata": {
    "collapsed": false,
    "pycharm": {
     "name": "#%% md\n"
    }
   },
   "source": [
    "As you can see the size of the vocabulary is quite large. Like the last time, we will limit the vocabulary to the most frequent words. The next cell will create a dictionary that maps each word to an index in the vocabulary. This will be used to create the bag-of-words representation of the sentences."
   ]
  },
  {
   "cell_type": "code",
   "execution_count": 19,
   "metadata": {
    "collapsed": false,
    "pycharm": {
     "name": "#%%\n"
    }
   },
   "outputs": [
    {
     "name": "stdout",
     "output_type": "stream",
     "text": [
      "{'.': 0, ',': 1, 'to': 2, 'in': 3, 'of': 4, 'and': 5, 'on': 6, 'for': 7, 'has': 8, 'with': 9, 'is': 10, 'at': 11, 'that': 12, 'from': 13, 'by': 14, 'as': 15, 'new': 16, 'will': 17, 'said': 18, 'after': 19, 'its': 20, 'his': 21, 'was': 22, 'be': 23, 'it': 24, 'have': 25, 'man': 26, ':': 27, 'us': 28, 'he': 29, 'are': 30, 'been': 31, 'police': 32, 'today': 33, 'this': 34, 'two': 35, 'their': 36, 'her': 37, 'who': 38, 'over': 39, 'first': 40, 'announced': 41, 'not': 42, 'up': 43, 'tuesday': 44, 'more': 45, 'wednesday': 46, 'monday': 47, 'against': 48, 'thursday': 49, 'year': 50, 'state': 51, 'out': 52, 'friday': 53, 'former': 54, 'president': 55, 'says': 56, 'into': 57, 'million': 58, 'one': 59, 'were': 60, 'years': 61, 'which': 62, 'last': 63, 'according': 64, 'county': 65, 'may': 66, 'city': 67, 'about': 68, 'woman': 69, 'than': 70, 'saturday': 71, 'home': 72, 'minister': 73, 'three': 74, 'week': 75, 'sunday': 76, 'government': 77, '1': 78, 'world': 79, 'people': 80, 'during': 81, 'but': 82, '000': 83, 'when': 84, 'she': 85, 'company': 86, 'time': 87, 'off': 88, 'they': 89, 'all': 90, 'night': 91, 'killed': 92, 'india': 93, 'national': 94, 'being': 95, 'south': 96, 'bank': 97, 'day': 98, 'next': 99, 'found': 100, 'court': 101, 'morning': 102, 'died': 103, 'arrested': 104, 'set': 105, 'i': 106, 'school': 107, 'charged': 108, 'had': 109, 'no': 110, 'second': 111, 'back': 112, 'obama': 113, 'could': 114, 'would': 115, 'reported': 116, '2': 117, 'down': 118, 'market': 119, 'group': 120, 'fire': 121, 'international': 122, 'can': 123, 'open': 124, 'season': 125, 'business': 126, '5': 127, 'oil': 128, 'china': 129, 'while': 130, 'car': 131, 'house': 132, 'team': 133, 'service': 134, 'charges': 135, 'early': 136, 'north': 137, 'inc': 138, 'news': 139, 'high': 140, 'reports': 141, 'or': 142, 'star': 143, 'prices': 144, 'global': 145, 'united': 146, 'officials': 147, 'plans': 148, 'now': 149, 'country': 150, 'dies': 151, '?': 152, 'guilty': 153, 'following': 154, 'four': 155, '10': 156, 'some': 157, 'public': 158, 'hospital': 159, 'death': 160, 'report': 161, 'month': 162, '3': 163, 'billion': 164, 'him': 165, 'american': 166, 'health': 167, 'services': 168, 'york': 169, 'yesterday': 170, 'near': 171, 'released': 172, 'say': 173, 'office': 174, 'league': 175, 'chief': 176, 'federal': 177, 'hit': 178, 'end': 179, 'help': 180, 'months': 181, 'just': 182, 'west': 183, 'made': 184, 'financial': 185, 'show': 186, 'under': 187, '2012': 188, 'through': 189, 'security': 190, 'game': 191, 'other': 192, '4': 193, 'most': 194, 'make': 195, 'pakistan': 196, 'indian': 197, 'take': 198, 'five': 199, 'percent': 200, ';': 201, 'accused': 202, 'coach': 203, 'economic': 204, 'before': 205, 'local': 206, 'per': 207, 'states': 208, 'another': 209, 'play': 210, 'launched': 211, 'top': 212, 'british': 213, 'expected': 214, 'john': 215, 'you': 216, 'announces': 217, 'official': 218, 'should': 219, 'life': 220, 'power': 221, 'center': 222, 'jobs': 223, 'work': 224, 'dead': 225, 'european': 226, 'record': 227, 'part': 228, 'third': 229, 'if': 230, 'here': 231, 'launches': 232, 'energy': 233, 'major': 234, 'between': 235, 'deal': 236, 'what': 237, 'trade': 238, 'media': 239, 'general': 240, 'university': 241, 'uk': 242, 'told': 243, 'left': 244, 'return': 245, 'march': 246, 'leader': 247, 'held': 248, 'crash': 249, 'cup': 250, 'days': 251, 'win': 252, '!': 253, 'support': 254, 'because': 255, 'cut': 256, 'stocks': 257, 'officer': 258, 'get': 259, 'shot': 260, 'party': 261, '2010': 262, 'due': 263, 'free': 264, 'close': 265, 'gas': 266, 'air': 267, 'we': 268, 'department': 269, 'foreign': 270, 'street': 271, 'since': 272, '6': 273, 'bill': 274, 'injured': 275, 'area': 276, 'drug': 277, 'mobile': 278, 'head': 279, 'central': 280, 'sales': 281, 'launch': 282, 'economy': 283, 'six': 284, 'release': 285, 'online': 286, 'won': 287, '20': 288, 'road': 289, 'child': 290, 'visit': 291, 'district': 292, 'prime': 293, 'london': 294, '7': 295, 'still': 296, 'called': 297, 'capital': 298, 'family': 299, 'including': 300, 'series': 301, 'weekend': 302, 'st': 303, 'start': 304, '2011': 305, 'quarter': 306, 'club': 307, 'afternoon': 308, 'military': 309, 'face': 310, 'how': 311, 'attack': 312, 'shares': 313, 'students': 314, 'stock': 315, 'com': 316, '11': 317, 'june': 318, 'tour': 319, 'board': 320, 'women': 321, 'system': 322, 'there': 323, 'tax': 324, 'fall': 325, 'david': 326, 'markets': 327, 'campaign': 328, 'best': 329, 'final': 330, 'april': 331, 'development': 332, 'signed': 333, '8': 334, 'where': 335, 'park': 336, 'dollar': 337, 'like': 338, 'australian': 339, 'fell': 340, 'men': 341, 'across': 342, '30': 343, 'them': 344, 'despite': 345, 'go': 346, 'industry': 347, 'water': 348, 'big': 349, 'sentenced': 350, 'film': 351, 'data': 352, 'children': 353, 'barack': 354, 'wins': 355, 'iran': 356, 'way': 357, 'football': 358, 'growth': 359, 'meeting': 360, 'plan': 361, 'talks': 362, 'around': 363, 'east': 364, 'washington': 365, 'cancer': 366, 'corp': 367, 'council': 368, '15': 369, '2013': 370, 'manager': 371, 'management': 372, 'pay': 373, '2009': 374, 'actor': 375, 'afghanistan': 376, 'revealed': 377, 'contract': 378, 'leading': 379, 'australia': 380, 'prison': 381, 'so': 382, 'weeks': 383, 'authorities': 384, 'buy': 385, 'run': 386, 'late': 387, 'law': 388, 'research': 389, 'food': 390, 'move': 391, 'san': 392, 'host': 393, 'money': 394, 'director': 395, 'agency': 396, 'again': 397, 'largest': 398, 'only': 399, 'gold': 400, 'confirmed': 401, 'allegedly': 402, 'case': 403, '12': 404, 'number': 405, 'conference': 406, 'increase': 407, 'white': 408, 'annual': 409, 'price': 410, 'program': 411, 'games': 412, 'rate': 413, 'murder': 414, 'crisis': 415, 'medical': 416, 'private': 417, 'political': 418, 'several': 419, 'music': 420, 'chinese': 421, 'test': 422, 'england': 423, 'do': 424, '100': 425, '9': 426, 'wants': 427, 'budget': 428, 'agreement': 429, 'july': 430, 'recent': 431, 'technology': 432, 'michael': 433, 'closed': 434, 'worlds': 435, 'recently': 436, 'girl': 437, 'saying': 438, 'town': 439, 'higher': 440, 'any': 441, 'union': 442, 'good': 443, 'network': 444, 'press': 445, 'tv': 446, 'firm': 447, 'investment': 448, 'community': 449, 'young': 450, 'latest': 451, 'companies': 452, 'lead': 453, 'am': 454, 'hold': 455, 'workers': 456, 'special': 457, 'share': 458, 'secretary': 459, 'actress': 460, 'right': 461, 'well': 462, 'opened': 463, 'many': 464, 'surgery': 465, 'continue': 466, 'age': 467, 'red': 468, 'nearly': 469, 'senior': 470, 'los': 471, 'demand': 472, 'become': 473, 'live': 474, 'making': 475, 'use': 476, 'away': 477, 'my': 478, '25': 479, 'sex': 480, 'shooting': 481, 'russia': 482, 'trial': 483, 'body': 484, 'pm': 485, 'provider': 486, 'offer': 487, 'college': 488, 'wife': 489, 'rose': 490, 'election': 491, 'taking': 492, 'forces': 493, 'care': 494, 'study': 495, 'production': 496, 'place': 497, 'rs': 498, 'fight': 499, 'lower': 500, 'rise': 501, 'southern': 502, 'store': 503, 'cent': 504, 'own': 505, 'congress': 506, 'rights': 507, 'action': 508, 'named': 509, 'sign': 510, 'texas': 511, 'banks': 512, 'accident': 513, 'japan': 514, '50': 515, 'going': 516, 'presidential': 517, 'credit': 518, 'french': 519, 'centre': 520, 'angeles': 521, 'investors': 522, 'signs': 523, 'long': 524, 'baby': 525, 'rates': 526, 'line': 527, 'senate': 528, 'ahead': 529, 'updated': 530, 'opens': 531, 'meet': 532, 'canada': 533, 'america': 534, 'also': 535, 'mark': 536, 'strong': 537, 'january': 538, 'social': 539, 'debt': 540, 'video': 541, 'korea': 542, 'war': 543, 'assault': 544, 'facing': 545, 'grand': 546, '2008': 547, 'judge': 548, 'members': 549, 'trading': 550, 'likely': 551, 'times': 552, 'points': 553, 'faces': 554, 'premier': 555, 'profit': 556, 'russian': 557, 'emergency': 558, 'paul': 559, '0': 560, 'coast': 561, 'singer': 562, 'building': 563, 'title': 564, 'charge': 565, 'small': 566, 'issued': 567, 'loss': 568, 'plant': 569, 'filed': 570, 'hours': 571, 'google': 572, 'region': 573, 'amid': 574, 'nations': 575, 'future': 576, 'products': 577, 'real': 578, 'fund': 579, 'ago': 580, 'working': 581, 'least': 582, 'nuclear': 583, 'even': 584, 'pleaded': 585, 'information': 586, 'israel': 587, 'calls': 588, 'players': 589, '16': 590, 'interest': 591, 'past': 592, 'both': 593, 'executive': 594, 'old': 595, 'results': 596, 'pleads': 597, 'project': 598, 'leave': 599, 'co': 600, 'february': 601, 'cash': 602, 'player': 603, 'call': 604, 'delhi': 605, 'leaders': 606, 'chairman': 607, 'california': 608, 'fourth': 609, 'schools': 610, 'september': 611, 'without': 612, 'falls': 613, 'agreed': 614, 'taken': 615, 'driver': 616, 'residents': 617, 'student': 618, 'bus': 619, 'reportedly': 620, 'took': 621, 'german': 622, 'army': 623, 'boy': 624, 'governor': 625, '13': 626, 'software': 627, 'ministry': 628, '14': 629, 'beat': 630, 'force': 631, 'apple': 632, 'africa': 633, 'race': 634, 'florida': 635, 'summer': 636, 'site': 637, 'earlier': 638, 'coming': 639, 'order': 640, 'heart': 641, 'asian': 642, 'side': 643, '18': 644, 'james': 645, 'role': 646, '21': 647, 'makes': 648, 'exchange': 649, 'returns': 650, 'traffic': 651, 'seven': 652, 'our': 653, 'france': 654, 'canadian': 655, 'lost': 656, 'human': 657, 'northern': 658, 'gov': 659, 'airlines': 660, 'sell': 661, 'further': 662, 'europe': 663, 'come': 664, 'need': 665, 'corporation': 666, 'forward': 667, 'republican': 668, 'cuts': 669, 'claims': 670, 'injury': 671, 'planning': 672, 'job': 673, 'stop': 674, 'internet': 675, 'education': 676, 'victory': 677, 'suspended': 678, 'countrys': 679, 'station': 680, 'bid': 681, 'opening': 682, 'issues': 683, 'looking': 684, 'operations': 685, '17': 686, 'policy': 687, 'chris': 688, 'sector': 689, 'october': 690, 'change': 691, 'your': 692, 'half': 693, 'key': 694, 'november': 695, 'missing': 696, 'control': 697, '500': 698, 'brown': 699, 'israeli': 700, 'river': 701, 'killing': 702, 'much': 703, 'great': 704, 'jail': 705, 'lake': 706, 'match': 707, 'round': 708, 'album': 709, 'raise': 710, 'fans': 711, 'continues': 712, 'sports': 713, 'keep': 714, 'george': 715, 'driving': 716, 'offering': 717, 'black': 718, 'strike': 719, 'training': 720, 'consumer': 721, 'shows': 722, 'hall': 723, 'guard': 724, 'december': 725, 'parliament': 726, '24': 727, 'issue': 728, 'website': 729, 'insurance': 730, 'august': 731, 'airport': 732, 'countries': 733, 'evening': 734, 'arrest': 735, 'used': 736, 'remains': 737, 'ready': 738, 'manchester': 739, 'remain': 740, 'got': 741, 'led': 742, 'very': 743, 'soon': 744, 'domestic': 745, 'running': 746, 'association': 747, 'customers': 748, 'commission': 749, 'received': 750, 'construction': 751, 'put': 752, 'biggest': 753, 'property': 754, 'must': 755, 'takes': 756, 'train': 757, 'troops': 758, 'getting': 759, 'stage': 760, 'green': 761, 'want': 762, 'ended': 763, 'search': 764, 'investigating': 765, 'better': 766, 'facebook': 767, 'western': 768, 'having': 769, 'vehicle': 770, 'sale': 771, 'vote': 772, 'champion': 773, 'brand': 774, 'see': 775, 'committee': 776, 'african': 777, 'chicago': 778, 'officers': 779, 'sold': 780, 'join': 781, 'session': 782, 'post': 783, 'member': 784, 'low': 785, 'based': 786, 'announce': 787, 'trying': 788, 'weather': 789, 'giant': 790, 'euro': 791, 'robert': 792, 'retail': 793, 'island': 794, 'among': 795, 'statement': 796, 'current': 797, 'safety': 798, 'staff': 799, 'bankruptcy': 800, 'event': 801, 'elections': 802, 'eight': 803, 'full': 804, 'hollywood': 805, 'awards': 806, 'level': 807, 'regional': 808, 'sexual': 809, 'thousands': 810, 'movie': 811, 'behind': 812, 'ban': 813, 'field': 814, 'himself': 815, 'outside': 816, 'sri': 817, 'mother': 818, 'finance': 819, 'sen': 820, 'cricket': 821, 'give': 822, 'little': 823, 'couple': 824, '22': 825, 'career': 826, 'mortgage': 827, 'championship': 828, 'love': 829, 'needs': 830, 'border': 831, 'opposition': 832, 'admitted': 833, 'space': 834, 'target': 835, 'justice': 836, 'iraq': 837, 'debut': 838, 'suicide': 839, 'fuel': 840, 'later': 841, 'storm': 842, 'warned': 843, 'until': 844, 'along': 845, 'son': 846, 'phone': 847, 'solutions': 848, 'singh': 849, 'offers': 850, 'bay': 851, 'within': 852, 'protest': 853, '40': 854, 'struck': 855, 'jackson': 856, 'wall': 857, 'valley': 858, 'history': 859, 'raised': 860, 'peace': 861, 'candidate': 862, 'upcoming': 863, 'performance': 864, 'risk': 865, 'positive': 866, 'im': 867, 'gains': 868, 'build': 869, 'systems': 870, 'loan': 871, 'violence': 872, 'such': 873, 'mumbai': 874, 'those': 875, 'name': 876, 'miss': 877, 'recovery': 878, 'middle': 879, 'selling': 880, 'given': 881, 'sent': 882, 'decision': 883, 'claimed': 884, 'housing': 885, 'hes': 886, 'anniversary': 887, 'japanese': 888, 'ltd': 889, 'practice': 890, 'rock': 891, 'growing': 892, 'leaving': 893, 'protection': 894, 'beach': 895, 'same': 896, 'cost': 897, 'using': 898, 'festival': 899, 'turkey': 900, 'list': 901, 'sources': 902, 'mayor': 903, 'almost': 904, 'olympic': 905, 'losses': 906, 'funds': 907, '19': 908, 'award': 909, 'act': 910, 'spending': 911, 'maker': 912, 'worth': 913, 'truck': 914, 'few': 915, 'mexico': 916, 'officially': 917, 'me': 918, 'alleged': 919, 'hotel': 920, 'flu': 921, 'tonight': 922, 'attacks': 923, 'too': 924, 'fraud': 925, 'microsoft': 926, 'possible': 927, 'employees': 928, 'provide': 929, 'pressure': 930, 'rally': 931, 'travel': 932, 'confidence': 933, 'eastern': 934, 'acquire': 935, 'joint': 936, 'declared': 937, 'un': 938, 'germany': 939, 'battle': 940, 'zealand': 941, 'natural': 942, 'ever': 943, 'robbery': 944, 'owner': 945, 'showed': 946, 'asia': 947, 'church': 948, 'hopes': 949, 'lady': 950, 'defense': 951, 'soldiers': 952, 'plane': 953, 'soldier': 954, 'changes': 955, 'break': 956, 'businesses': 957, 'basketball': 958, 'drive': 959, 'girls': 960, 'approved': 961, 'land': 962, 'captain': 963, 'boston': 964, 'interview': 965, 'dr': 966, 'democratic': 967, '31': 968, 'survey': 969, 'never': 970, 'de': 971, 'television': 972, 'calif': 973, 'radio': 974, 'files': 975, 'continued': 976, 'starting': 977, 'reserve': 978, 'seen': 979, 'heavy': 980, 'britain': 981, 'whose': 982, 'costs': 983, 'legal': 984, 'step': 985, 'warning': 986, 'smith': 987, '200': 988, 'daily': 989, 'williams': 990, 'facility': 991, 'aid': 992, '26': 993, 'asked': 994, 'returned': 995, 'fired': 996, 'convicted': 997, 'deputy': 998, 'projects': 999, 'less': 1000, 'johnson': 1001, 'dont': 1002, 'highway': 1003, 'known': 1004, 'teams': 1005, 'husband': 1006, 'increased': 1007, 'boost': 1008, 'armed': 1009, 'serious': 1010, 'digital': 1011, 'stars': 1012, 'father': 1013, 'single': 1014, 'georgia': 1015, 'dropped': 1016, 'nine': 1017, 'bush': 1018, 'mike': 1019, '23': 1020, 'rep': 1021, 'defence': 1022, 'veteran': 1023, 'does': 1024, 's': 1025, 'falling': 1026, 'stay': 1027, 'administration': 1028, 'jailed': 1029, 'justin': 1030, '27': 1031, 'gay': 1032, 'al': 1033, 'every': 1034, 'joe': 1035, 'nation': 1036, 'inflation': 1037, 'spring': 1038, 'fiscal': 1039, 'went': 1040, 'bond': 1041, 'drop': 1042, 'homes': 1043, 'palestinian': 1044, 'christmas': 1045, 'web': 1046, 'why': 1047, 'champions': 1048, 'acquired': 1049, 'look': 1050, 'popular': 1051, 'turned': 1052, 'common': 1053, 'flights': 1054, 'point': 1055, 'begin': 1056, 'might': 1057, 'main': 1058, 'carolina': 1059, 'areas': 1060, 'baseball': 1061, 'daughter': 1062, 'commercial': 1063, 'winter': 1064, 'division': 1065, 'met': 1066, 'stadium': 1067, 'bomb': 1068, 'earnings': 1069, 'stores': 1070, 'futures': 1071, 'syria': 1072, 'pakistani': 1073, 'total': 1074, 'gun': 1075, 'completed': 1076, 'double': 1077, 'injuries': 1078, 'teacher': 1079, 'did': 1080, 'find': 1081, 'vice': 1082, 'recession': 1083, 'failed': 1084, 'prince': 1085, 'partnership': 1086, 'book': 1087, 'joined': 1088, 'tom': 1089, 'supply': 1090, 'martin': 1091, 'each': 1092, 'bring': 1093, 'watch': 1094, 'twitter': 1095, 'flight': 1096, 'suffered': 1097, 'investigation': 1098, 'straight': 1099, 'front': 1100, 'finally': 1101, 'decided': 1102, 'reached': 1103, 'italian': 1104, 'passed': 1105, 'appointed': 1106, 'once': 1107, 'nfl': 1108, 'know': 1109, 'unit': 1110, 'paid': 1111, 'forced': 1112, 'playing': 1113, 'problems': 1114, '28': 1115, 'ground': 1116, 'steve': 1117, 'drugs': 1118, 'gets': 1119, 'efforts': 1120, 'moving': 1121, 'civil': 1122, 'king': 1123, 'scheduled': 1124, 'wont': 1125, 'raises': 1126, 'striker': 1127, 'large': 1128, 'stake': 1129, 'started': 1130, 'hits': 1131, 'parts': 1132, 'ryan': 1133, 'conditions': 1134, 'banned': 1135, 'iranian': 1136, 'ohio': 1137, 'jones': 1138, 'super': 1139, 'dog': 1140, 'marriage': 1141, 'begins': 1142, 'criminal': 1143, 'khan': 1144, 'winning': 1145, 'person': 1146, 'ceo': 1147, 'concerns': 1148, 'hundreds': 1149, 'goes': 1150, 'expand': 1151, 'leaves': 1152, 'joins': 1153, 'connection': 1154, 'net': 1155, 'supreme': 1156, 'create': 1157, 'cooperation': 1158, 'lawsuit': 1159, 'light': 1160, 'crashed': 1161, 'already': 1162, 'spokesman': 1163, 'published': 1164, 'boss': 1165, 'together': 1166, 'index': 1167, 'treatment': 1168, 'caught': 1169, 'seeking': 1170, 'suspected': 1171, 'birth': 1172, 'banking': 1173, 'michigan': 1174, 'giving': 1175, 'partner': 1176, 'ambassador': 1177, 'attorney': 1178, 'assembly': 1179, 'access': 1180, 'holding': 1181, 'term': 1182, 'groups': 1183, 'retirement': 1184, 'taylor': 1185, 'focus': 1186, 'houston': 1187, 'incident': 1188, 'funding': 1189, 'kill': 1190, 'turkish': 1191, 'improve': 1192, 'rising': 1193, 'unemployment': 1194, 'reach': 1195, 'jan': 1196, 'minor': 1197, 'reduce': 1198, 'suspect': 1199, 'operation': 1200, 'levels': 1201, 'corporate': 1202, 'unveiled': 1203, 'abuse': 1204, 'tony': 1205, 'la': 1206, 'attacked': 1207, 'releases': 1208, 'added': 1209, 'divorce': 1210, 'personal': 1211, 'caused': 1212, 'above': 1213, 'illegal': 1214, 'involved': 1215, 'womens': 1216, 'communications': 1217, 'afghan': 1218, 'patients': 1219, 'base': 1220, 'save': 1221, 'revenue': 1222, 'senator': 1223, 'toronto': 1224, 'spanish': 1225, 'review': 1226, 'lanka': 1227, 'robbed': 1228, 'platform': 1229, 'process': 1230, 'magazine': 1231, 'holiday': 1232, 'range': 1233, 'equity': 1234, 'living': 1235, 'sea': 1236, 'cars': 1237, 'spain': 1238, 'independent': 1239, '29': 1240, 'relations': 1241, 'birthday': 1242, 'period': 1243, 'peter': 1244, 'jury': 1245, 'companys': 1246, 'saudi': 1247, 'whether': 1248, 'worldwide': 1249, 'steel': 1250, 'track': 1251, 'yet': 1252, 'class': 1253, 'producer': 1254, 'village': 1255, 'fox': 1256, 'romney': 1257, 'crude': 1258, 'dollars': 1259, 'celebrate': 1260, 'stabbed': 1261, 'below': 1262, 'appeal': 1263, 'perform': 1264, 'arrived': 1265, 'kim': 1266, 'taliban': 1267, 'eu': 1268, 'solar': 1269, 'tournament': 1270, 'syrian': 1271, 'stand': 1272, 'available': 1273, 'assets': 1274, 'camp': 1275, 'dubai': 1276, 'concert': 1277, 'royal': 1278, 'kansas': 1279, 'celebrates': 1280, 'threat': 1281, 'urged': 1282, 'industrial': 1283, 'earthquake': 1284, 'clinton': 1285, 'cases': 1286, 'jennifer': 1287, 'liverpool': 1288, 'rape': 1289, 'comes': 1290, 'direct': 1291, 'calling': 1292, 'minnesota': 1293, 'proposed': 1294, 'marketing': 1295, 'rest': 1296, 'posted': 1297, 'admits': 1298, 'youth': 1299, 'band': 1300, 'fifth': 1301, 'wanted': 1302, 'damage': 1303, 'fort': 1304, 'singapore': 1305, 'corruption': 1306, 'fashion': 1307, 'province': 1308, 'korean': 1309, 'users': 1310, 'records': 1311, 'manufacturing': 1312, 'expects': 1313, 'others': 1314, 'competition': 1315, 'stolen': 1316, 'rules': 1317, 'ruled': 1318, 'sheriffs': 1319, 'lee': 1320, 'affairs': 1321, 'americans': 1322, 'friends': 1323, 'blue': 1324, 'crime': 1325, 'split': 1326, 'inside': 1327, 'primary': 1328, '60': 1329, 'dividend': 1330, 'gulf': 1331, 'channel': 1332, 'soccer': 1333, 'came': 1334, 'ireland': 1335, 'stealing': 1336, 'entertainment': 1337, 'returning': 1338, 'figures': 1339, 'newspaper': 1340, 'rises': 1341, 'nato': 1342, 'iphone': 1343, 'condition': 1344, 'ali': 1345, 'ship': 1346, 'hard': 1347, 'overnight': 1348, 'scott': 1349, 'jersey': 1350, 'resources': 1351, 'form': 1352, 'potential': 1353, 'technologies': 1354, 'victims': 1355, 'think': 1356, 'midfielder': 1357, 'then': 1358, 'massive': 1359, 'began': 1360, 'teachers': 1361, 'nba': 1362, 'female': 1363, 'receive': 1364, 'felony': 1365, 'militants': 1366, 'paris': 1367, 'pregnant': 1368, 'partners': 1369, 'far': 1370, 'bad': 1371, 'fresh': 1372, 'model': 1373, 'institute': 1374, 'turn': 1375, 'extended': 1376, 'broke': 1377, 'chelsea': 1378, 'moved': 1379, 'discuss': 1380, 'parents': 1381, 'louis': 1382, 'detroit': 1383, 'quarterly': 1384, 'ceremony': 1385, 'helped': 1386, 'played': 1387, 'bridge': 1388, 'deficit': 1389, 'kevin': 1390, 'short': 1391, 'auto': 1392, 'ordered': 1393, 'agent': 1394, 'highest': 1395, 'source': 1396, 'cause': 1397, 'acquisition': 1398, 'operator': 1399, 'planned': 1400, 'barrel': 1401, 'sydney': 1402, 'apartment': 1403, '300': 1404, 'las': 1405, 'suffering': 1406, 'card': 1407, 'scheme': 1408, 'researchers': 1409, 'tomorrow': 1410, 'ties': 1411, 'draft': 1412, 'firefighters': 1413, 'seek': 1414, 'taiwan': 1415, 'challenge': 1416, 'address': 1417, 'pop': 1418, 'previous': 1419, 'cabinet': 1420, 'orders': 1421, 'doctors': 1422, 'limited': 1423, 'teen': 1424, 'scientists': 1425, 'gives': 1426, 'brother': 1427, 'talk': 1428, 'losing': 1429, 'estate': 1430, 'fatal': 1431, 'product': 1432, 'buying': 1433, 'girlfriend': 1434, 'airways': 1435, 'mining': 1436, 'enough': 1437, 'downtown': 1438, 'disease': 1439, 'adding': 1440, 'income': 1441, 'coal': 1442, 'aircraft': 1443, 'room': 1444, 'effort': 1445, 'tiger': 1446, 'controversial': 1447, 'quality': 1448, 'weak': 1449, 'strategic': 1450, 'receives': 1451, 'voted': 1452, 'snow': 1453, 'acquires': 1454, 'brazil': 1455, 'leads': 1456, 'virginia': 1457, 'charity': 1458, 'engaged': 1459, 'operating': 1460, 'bail': 1461, 'compared': 1462, 'course': 1463, 'vehicles': 1464, 'lot': 1465, 'iowa': 1466, 'writer': 1467, 'gaza': 1468, 'legend': 1469, 'investigate': 1470, 'offered': 1471, 'closing': 1472, 'wedding': 1473, 'starts': 1474, 'tried': 1475, 'colorado': 1476, 'view': 1477, 'indicted': 1478, 'blood': 1479, 'exports': 1480, 'egypt': 1481, 'morgan': 1482, 'reform': 1483, 'programme': 1484, 'denied': 1485, 'defender': 1486, 'boat': 1487, 'heard': 1488, 'currently': 1489, 'situation': 1490, 'vegas': 1491, 'libya': 1492, 'sells': 1493, 'italy': 1494, 'hong': 1495, 'average': 1496, 'miami': 1497, 'ministers': 1498, 'protesters': 1499, 'claim': 1500, 'doesnt': 1501, 'hospitalized': 1502, 'cutting': 1503, 'fame': 1504, 'terms': 1505, 'towards': 1506, 'fair': 1507, 'authority': 1508, 'jim': 1509, 'feb': 1510, 'winner': 1511, 'alex': 1512, 'worker': 1513, 'governments': 1514, 'allow': 1515, 'port': 1516, 'mp': 1517, 'draw': 1518, 'celebrated': 1519, 'rain': 1520, 'farmers': 1521, 'labor': 1522, 'pacific': 1523, 'measures': 1524, 'flat': 1525, 'arizona': 1526, 'bills': 1527, 'airline': 1528, 'looks': 1529, 'voters': 1530, 'gave': 1531, 'illinois': 1532, 'memorial': 1533, 'andrew': 1534, 'hill': 1535, 'van': 1536, 'irish': 1537, 'academy': 1538, 'separate': 1539, 'appear': 1540, 'madrid': 1541, 'committed': 1542, 'date': 1543, 'grant': 1544, 'republic': 1545, 'greece': 1546, 'hockey': 1547, 'completes': 1548, 'hearing': 1549, 'farm': 1550, 'benefits': 1551, 'society': 1552, 'protect': 1553, 'kong': 1554, 'summit': 1555, 'celebrity': 1556, 'lose': 1557, 'contest': 1558, 'hand': 1559, 'diego': 1560, 'environment': 1561, 'fined': 1562, 'tennis': 1563, 'pirates': 1564, 'flood': 1565, 'meets': 1566, 'response': 1567, 'hurricane': 1568, 'x': 1569, 'fighting': 1570, 'rebels': 1571, 'swine': 1572, 'rangers': 1573, 'beating': 1574, 'shut': 1575, 'aug': 1576, 'dec': 1577, 'boys': 1578, 'securities': 1579, 'events': 1580, 'malaysia': 1581, 'effective': 1582, 'rival': 1583, 'mission': 1584, 'moves': 1585, 'defeat': 1586, 'atlanta': 1587, 'perry': 1588, 'owners': 1589, 'elderly': 1590, 'introduced': 1591, 'block': 1592, 'boyfriend': 1593, 'films': 1594, 'package': 1595, 'reporting': 1596, 'squad': 1597, 'rescue': 1598, 'climate': 1599, 'dallas': 1600, 'rugby': 1601, 'attempt': 1602, 'becoming': 1603, 'forecast': 1604, 'restaurant': 1605, 'bonds': 1606, 'wind': 1607, 'kelly': 1608, 'cloud': 1609, 'position': 1610, 'chase': 1611, 'worst': 1612, 'millions': 1613, 'tim': 1614, 'venture': 1615, 'woods': 1616, 'mr': 1617, 'queen': 1618, 'motor': 1619, 'though': 1620, 'rating': 1621, 'holds': 1622, 'equipment': 1623, 'theft': 1624, 'dispute': 1625, 'francisco': 1626, 'greek': 1627, 'doing': 1628, 'slightly': 1629, 'additional': 1630, 'loans': 1631, 'drivers': 1632, 'ill': 1633, 'rescued': 1634, 'knee': 1635, 'beginning': 1636, 'lawmakers': 1637, 'critical': 1638, '75': 1639, 'golf': 1640, 'wireless': 1641, 'visits': 1642, 'severe': 1643, 'broken': 1644, 'arrives': 1645, 'developer': 1646, 'friend': 1647, 'multiple': 1648, 'kashmir': 1649, 'decline': 1650, 'progress': 1651, 'threatened': 1652, 'believe': 1653, 'ben': 1654, 'organization': 1655, 'chance': 1656, 'cell': 1657, 'brain': 1658, 'navy': 1659, 'mccain': 1660, 'spot': 1661, 'azerbaijan': 1662, 'computer': 1663, 'beijing': 1664, 'replace': 1665, 'believes': 1666, 'andy': 1667, 'elected': 1668, 'richard': 1669, 'resigned': 1670, 'victim': 1671, 'different': 1672, 'kills': 1673, 'mixed': 1674, 'forest': 1675, 'harry': 1676, 'transfer': 1677, 'gaga': 1678, 'ends': 1679, 'minutes': 1680, 'showing': 1681, 'indonesia': 1682, 'resume': 1683, 'lohan': 1684, 'cities': 1685, 'launching': 1686, 'resign': 1687, 'nov': 1688, 'important': 1689, 'custody': 1690, 'value': 1691, 'version': 1692, 'avoid': 1693, 'develop': 1694, 'families': 1695, 'saw': 1696, 'considering': 1697, 'currency': 1698, 'brought': 1699, 'pulled': 1700, 'retire': 1701, 'successful': 1702, 'turns': 1703, 'oct': 1704, 'indiana': 1705, 'invest': 1706, '400': 1707, 'involving': 1708, 'shop': 1709, 'electric': 1710, 'matt': 1711, 'hope': 1712, 'sir': 1713, 'ford': 1714, 'ratings': 1715, 'kids': 1716, 'headed': 1717, 'township': 1718, 'citizens': 1719, 'crashes': 1720, 'ice': 1721, 'entered': 1722, 'rupee': 1723, 'kate': 1724, 'present': 1725, 'shes': 1726, 'quarterback': 1727, 'lindsay': 1728, 'vs': 1729, 'heat': 1730, 'runs': 1731, 'awarded': 1732, 'santa': 1733, 'application': 1734, 'professional': 1735, 'giants': 1736, 'headquarters': 1737, 'seriously': 1738, 'problem': 1739, 'profits': 1740, 'raising': 1741, 'recovering': 1742, 'directors': 1743, 'wayne': 1744, 'huge': 1745, 'tests': 1746, 'stewart': 1747, 'kardashian': 1748, 'account': 1749, 'conduct': 1750, 'scored': 1751, 'ending': 1752, 'gone': 1753, 'brian': 1754, 'sets': 1755, 'trip': 1756, 'jason': 1757, 'milan': 1758, 'hot': 1759, 'benefit': 1760, 'helping': 1761, 'impact': 1762, 'tribute': 1763, 'landing': 1764, 'assistant': 1765, 'complex': 1766, 'row': 1767, 'needed': 1768, 'bob': 1769, 'strategy': 1770, 'industries': 1771, 'william': 1772, 'design': 1773, 'networks': 1774, 'motors': 1775, 'toyota': 1776, '70': 1777, 'consumers': 1778, 'simon': 1779, 'became': 1780, 'trust': 1781, 'samsung': 1782, 'passes': 1783, 'steps': 1784, 'weapons': 1785, 'seeks': 1786, 'various': 1787, 'via': 1788, 'happy': 1789, 'labour': 1790, 'safe': 1791, 'solution': 1792, 'fears': 1793, 'disaster': 1794, 'distribution': 1795, 'retailer': 1796, 'english': 1797, 'parties': 1798, 'relationship': 1799, 'married': 1800, 'firms': 1801, 'jack': 1802, 'grow': 1803, 'reality': 1804, 'tourism': 1805, 'missouri': 1806, 'gordon': 1807, 'expansion': 1808, 'signing': 1809, 'advanced': 1810, 'outlook': 1811, 'classic': 1812, 'commissioner': 1813, 'increasing': 1814, 'arab': 1815, 'activity': 1816, 'related': 1817, 'leadership': 1818, 'carrier': 1819, '35': 1820, 'cross': 1821, 'result': 1822, 'content': 1823, 'charles': 1824, 'song': 1825, 'mass': 1826, '2007': 1827, 'feels': 1828, 'recall': 1829, 'effect': 1830, 'patent': 1831, 'bringing': 1832, 'remained': 1833, 'charlie': 1834, 'bollywood': 1835, 'transport': 1836, 'science': 1837, 'chain': 1838, 'joining': 1839, 'art': 1840, 'employee': 1841, 'clear': 1842, 'arts': 1843, 'quit': 1844, 'wisconsin': 1845, 'tree': 1846, 'nationwide': 1847, 'alliance': 1848, 'spend': 1849, 'expecting': 1850, 'cant': 1851, 'plants': 1852, 'expectations': 1853, 'usa': 1854, 'really': 1855, 'strikes': 1856, 'protests': 1857, 'poor': 1858, 'send': 1859, 'always': 1860, 'attempted': 1861, 'rick': 1862, 'allegations': 1863, 'candidates': 1864, 'bar': 1865, 'reelection': 1866, 'debate': 1867, 'olympics': 1868, 'things': 1869, 'crimes': 1870, 'embassy': 1871, 'environmental': 1872, 'increases': 1873, '32': 1874, 'placed': 1875, 'regular': 1876, 'seattle': 1877, 'didnt': 1878, 'app': 1879, 'terror': 1880, 'moscow': 1881, 'disabled': 1882, 'journal': 1883, 'aimed': 1884, 'animal': 1885, 'capacity': 1886, 'fan': 1887, 'investor': 1888, 'philadelphia': 1889, 'motorcycle': 1890, 'mountain': 1891, 'breaks': 1892, 'ongoing': 1893, 'zone': 1894, 'file': 1895, 'citing': 1896, 'politics': 1897, 'lawyer': 1898, 'associated': 1899, 'idol': 1900, 'bangladesh': 1901, 'square': 1902, 'ap': 1903, 'manufacturer': 1904, 'poll': 1905, 'story': 1906, 'die': 1907, 'lines': 1908, 'doctor': 1909, 'prevent': 1910, 'attend': 1911, 'throughout': 1912, 'cleveland': 1913, 'foundation': 1914, 'avenue': 1915, 'cast': 1916, 'relief': 1917, 'factor': 1918, 'sarah': 1919, 'toward': 1920, 'causing': 1921, 'holdings': 1922, 'experts': 1923, 'identified': 1924, 'sharply': 1925, 'pilot': 1926, 'appoints': 1927, 'thomas': 1928, 'telecom': 1929, 'mitt': 1930, 'auction': 1931, 'goal': 1932, 'healthcare': 1933, 'gary': 1934, 'activities': 1935, 'metro': 1936, 'majority': 1937, 'wide': 1938, 'brad': 1939, 'streets': 1940, 'bieber': 1941, '80': 1942, 'metal': 1943, 'wake': 1944, 'extend': 1945, 'sox': 1946, 'lives': 1947, 'bowl': 1948, 'brothers': 1949, 'stephen': 1950, 'able': 1951, 'unveils': 1952, 'barcelona': 1953, 'stabbing': 1954, 'electronic': 1955, 'failure': 1956, 'cleared': 1957, 'swiss': 1958, 'struggling': 1959, 'sexually': 1960, 'shopping': 1961, 'mens': 1962, 'purchase': 1963, 'box': 1964, 'allen': 1965, 'jessica': 1966, '600': 1967, 'express': 1968, 'dutch': 1969, 'sentence': 1970, 'receiver': 1971, 'defensive': 1972, 'carrying': 1973, 'rare': 1974, 'dating': 1975, 'punjab': 1976, 'jets': 1977, 'cameron': 1978, 'destroyed': 1979, 'customer': 1980, 'jose': 1981, 'fast': 1982, 'concern': 1983, 'infrastructure': 1984, 'spent': 1985, 'enter': 1986, 'leg': 1987, 'helicopter': 1988, 'marijuana': 1989, 'analysts': 1990, 'bbc': 1991, 'fires': 1992, '150': 1993, 'indias': 1994, 'delivery': 1995, 'battery': 1996, 'anthony': 1997, 'commerce': 1998, 'jr': 1999, 'tackle': 2000, 'southwest': 2001, 'add': 2002, 'crore': 2003, 'consider': 2004, 'immigration': 2005, 'dc': 2006, 'schedule': 2007, 'works': 2008, 'denies': 2009, 'closes': 2010, 'sanctions': 2011, 'setting': 2012, 'posts': 2013, 'rule': 2014, 'gain': 2015, 'tech': 2016, 'daniel': 2017, 'hamilton': 2018, 'significant': 2019, 'declares': 2020, 'ten': 2021, 'fc': 2022, 'offices': 2023, 'clubs': 2024, 'activists': 2025, 'extension': 2026, 'seat': 2027, 'pick': 2028, 'historic': 2029, 'ii': 2030, 'weekly': 2031, 'tennessee': 2032, 'deadly': 2033, '90': 2034, 'islamic': 2035, 'comments': 2036, 'bjp': 2037, 'golden': 2038, 'hills': 2039, 'technical': 2040, 'russell': 2041, 'ukraine': 2042, 'warns': 2043, 'arsenal': 2044, 'visited': 2045, 'satellite': 2046, 'yahoo': 2047, 'applications': 2048, 'parliamentary': 2049, 'promote': 2050, 'closer': 2051, 'plc': 2052, 'cents': 2053, 'n': 2054, '45': 2055, 'stimulus': 2056, 'seized': 2057, 'thought': 2058, 'evidence': 2059, 'activist': 2060, 'philippines': 2061, 'studio': 2062, 'patrol': 2063, 'elizabeth': 2064, 'detained': 2065, 'complete': 2066, 'approves': 2067, 'secret': 2068, 'developing': 2069, 'rural': 2070, 'consecutive': 2071, 'scotland': 2072, 'taxes': 2073, 'developed': 2074, 'reveals': 2075, 'tata': 2076, 'loses': 2077, 'advertising': 2078, 'citys': 2079, 'discovered': 2080, 'experience': 2081, 'sending': 2082, 'tough': 2083, 'crew': 2084, 'subsidiary': 2085, 'terrorism': 2086, 'parking': 2087, 'burglary': 2088, 'cole': 2089, 'offensive': 2090, 'settlement': 2091, 'brazilian': 2092, 'feel': 2093, 'prix': 2094, 'hour': 2095, 'selected': 2096, 'heading': 2097, 'wild': 2098, 'standard': 2099, 'electricity': 2100, 'advisory': 2101, 'expands': 2102, 'kentucky': 2103, 'peoples': 2104, 'these': 2105, 'designed': 2106, 'christian': 2107, 'overall': 2108, 'author': 2109, 'cruise': 2110, 'numbers': 2111, 'comedy': 2112, 'muslim': 2113, 'generation': 2114, 'introduces': 2115, 'adam': 2116, 'scandal': 2117, 'previously': 2118, 'apparently': 2119, 'passenger': 2120, 'davis': 2121, 'voice': 2122, 'homicide': 2123, 'confirms': 2124, 'allowed': 2125, 'sun': 2126, 'providing': 2127, 'democrats': 2128, 'windows': 2129, 'iron': 2130, 'try': 2131, 'pass': 2132, 'supplies': 2133, 'polls': 2134, 'beckham': 2135, 'oklahoma': 2136, 'electronics': 2137, 'granted': 2138, 'nick': 2139, 'mexican': 2140, 'threatening': 2141, 'claiming': 2142, 'done': 2143, 'violent': 2144, 'longer': 2145, 'amy': 2146, 'speed': 2147, 'treasury': 2148, 'overseas': 2149, 'territory': 2150, 'jet': 2151, 'refused': 2152, 'possession': 2153, 'prosecutors': 2154, 'ensure': 2155, 'shareholders': 2156, 'el': 2157, 'indians': 2158, 'cover': 2159, 'devices': 2160, 'melbourne': 2161, 'fine': 2162, 'speak': 2163, 'beaten': 2164, 'agree': 2165, 'wales': 2166, 'orleans': 2167, 'letter': 2168, 'beats': 2169, 'units': 2170, 'speech': 2171, 'kennedy': 2172, 'clash': 2173, 'agencies': 2174, 'hosting': 2175, 'successfully': 2176, 'decade': 2177, 'changed': 2178, 'teenager': 2179, 'success': 2180, 'terrorist': 2181, 'counts': 2182, 'pace': 2183, 'hired': 2184, 'palin': 2185, 'wrong': 2186, 'panel': 2187, 'export': 2188, 'serve': 2189, 'failing': 2190, 'deliver': 2191, 'bear': 2192, 'lewis': 2193, 'kyrgyzstan': 2194, 'collision': 2195, 'photo': 2196, 'arabia': 2197, 'alabama': 2198, 'campus': 2199, 'surprise': 2200, 'childrens': 2201, 'assaulting': 2202, 'qatar': 2203, 'freedom': 2204, 'route': 2205, 'ring': 2206, 'pounds': 2207, 'created': 2208, 'continuing': 2209, 'diagnosed': 2210, 'phoenix': 2211, 'fees': 2212, 'racing': 2213, 'chemical': 2214, 'bin': 2215, 'wounded': 2216, 'broadband': 2217, 'sept': 2218, 'carbon': 2219, 'coalition': 2220, 'palm': 2221, 'sites': 2222, 'mine': 2223, 'pitcher': 2224, 'pradesh': 2225, 'founder': 2226, 'passengers': 2227, 'decades': 2228, 'silver': 2229, 'hurt': 2230, 'sixth': 2231, 'ruling': 2232, 'honored': 2233, 'finds': 2234, 'analyst': 2235, 'prize': 2236, 'hands': 2237, 'laws': 2238, 'appears': 2239, '2014': 2240, 'strip': 2241, 'theatre': 2242, 'adds': 2243, 'expanding': 2244, 'forum': 2245, 'approval': 2246, 'engineering': 2247, 'plea': 2248, 'targets': 2249, 'let': 2250, 'fargo': 2251, 'alcohol': 2252, 'foods': 2253, 'cable': 2254, 'announcement': 2255, 'frank': 2256, 'breaking': 2257, 'statistics': 2258, 'trend': 2259, 'cape': 2260, 'license': 2261, 'recovered': 2262, 'hillary': 2263, 'tropical': 2264, 'clean': 2265, 'walk': 2266, 'voting': 2267, 'victoria': 2268, 'northwest': 2269, 'sony': 2270, 'tokyo': 2271, 'visiting': 2272, 'appearance': 2273, 'hosts': 2274, 'threats': 2275, 'lack': 2276, 'lending': 2277, 'negative': 2278, 'improved': 2279, 'patrick': 2280, 'aged': 2281, 'alert': 2282, 'egyptian': 2283, 'vietnam': 2284, 'stated': 2285, 'linked': 2286, 'dealers': 2287, 'urges': 2288, 'question': 2289, 'receiving': 2290, 'investments': 2291, 'options': 2292, 'stations': 2293, 'enterprise': 2294, 'twins': 2295, 'orange': 2296, 'murray': 2297, 'thanks': 2298, 'questions': 2299, 'sport': 2300, 'artist': 2301, 'cuba': 2302, 'rail': 2303, 'cold': 2304, 'branch': 2305, 'pope': 2306, 'michelle': 2307, 'denver': 2308, 'dogs': 2309, 'serving': 2310, 'undergo': 2311, 'lowest': 2312, 'nelson': 2313, 'programs': 2314, 'formally': 2315, 'movement': 2316, 'iraqi': 2317, 'update': 2318, 'jon': 2319, 'ny': 2320, 'medal': 2321, 'produce': 2322, 'duty': 2323, 'android': 2324, 'pittsburgh': 2325, 'foot': 2326, 'legislation': 2327, 'uae': 2328, 'wells': 2329, 'hire': 2330, 'roads': 2331, 'treated': 2332, 'ghana': 2333, 'rapper': 2334, 'oscar': 2335, 'proposal': 2336, 'bought': 2337, 'weight': 2338, 'journalist': 2339, 'engine': 2340, 'jordan': 2341, 'laid': 2342, 'extends': 2343, 'libyan': 2344, 'believed': 2345, 'keeping': 2346, 'zimbabwe': 2347, 'dangerous': 2348, 'storage': 2349, 'expanded': 2350, 'ipad': 2351, 'longtime': 2352, 'although': 2353, 'portfolio': 2354, 'appeared': 2355, 'democracy': 2356, 'chapter': 2357, 'agriculture': 2358, 'toll': 2359, 'yemen': 2360, 'amount': 2361, 'crews': 2362, '800': 2363, 'campbell': 2364, 'austin': 2365, 'phones': 2366, 'shoot': 2367, 'homeless': 2368, '250': 2369, 'anna': 2370, 'rehab': 2371, 'nigeria': 2372, 'resigns': 2373, 'deals': 2374, 'catholic': 2375, 'veterans': 2376, 'bodies': 2377, 'drama': 2378, 'stopped': 2379, 'provides': 2380, 'reuters': 2381, 'marine': 2382, 'factory': 2383, 'milwaukee': 2384, 'reaches': 2385, 'sees': 2386, 'testing': 2387, 'traders': 2388, 'supporters': 2389, 'acting': 2390, 'famous': 2391, 'miller': 2392, 'assaulted': 2393, 'interior': 2394, 'built': 2395, 'prisoners': 2396, 'assistance': 2397, 'goods': 2398, 'true': 2399, 'causes': 2400, 'pattinson': 2401, 'status': 2402, 'buys': 2403, 'sundays': 2404, 'elementary': 2405, 'cbs': 2406, 'b': 2407, 'collection': 2408, 'strengthen': 2409, 'votes': 2410, 'smart': 2411, 'healthy': 2412, 'bailout': 2413, 'chinas': 2414, 'plays': 2415, 'friendly': 2416, 'message': 2417, 'rejected': 2418, 'speculation': 2419, 'agents': 2420, 'located': 2421, 'scottish': 2422, 'massachusetts': 2423, 'email': 2424, 'finish': 2425, 'rather': 2426, 'nokia': 2427, 'facilities': 2428, 'drops': 2429, 'tigers': 2430, 'nifty': 2431, 'breast': 2432, 'yankees': 2433, 'roger': 2434, 'miles': 2435, 'herself': 2436, 'device': 2437, 'zardari': 2438, 'representative': 2439, 'fully': 2440, 'alive': 2441, 'push': 2442, 'greater': 2443, 'explosion': 2444, 'cocaine': 2445, 'paper': 2446, 'sharp': 2447, 'wilson': 2448, 'arms': 2449, 'stone': 2450, 'teenage': 2451, 'kept': 2452, 'contracts': 2453, 'chiefs': 2454, 'jerry': 2455, 'tamil': 2456, 'screen': 2457, 'powerful': 2458, 'pro': 2459, 'tampa': 2460, 'existing': 2461, 'extra': 2462, 'amazon': 2463, '700': 2464, 'tourists': 2465, 'sudan': 2466, 'suspicion': 2467, 'itself': 2468, 'eye': 2469, 'delegation': 2470, 'museum': 2471, 'americas': 2472, 'sued': 2473, 'religious': 2474, 'shoulder': 2475, 'feature': 2476, 'journalists': 2477, 'details': 2478, 'communities': 2479, 'musical': 2480, 'strength': 2481, 'stronger': 2482, 'ontario': 2483, 'oakland': 2484, 'formula': 2485, 'brands': 2486, 'lifted': 2487, 'welcome': 2488, 'instead': 2489, 'deadline': 2490, 'owned': 2491, 'hell': 2492, 'bureau': 2493, 'venezuela': 2494, 'recalled': 2495, 'nights': 2496, 'moore': 2497, 'challenges': 2498, 'newly': 2499, 'dancing': 2500, 'championships': 2501, 'immediate': 2502, 'apparent': 2503, 'monetary': 2504, 'diplomatic': 2505, 'yen': 2506, 'pension': 2507, 'reporter': 2508, 'note': 2509, 'ticket': 2510, 'buildings': 2511, 'palestinians': 2512, 'cards': 2513, 'rihanna': 2514, 'regions': 2515, 'exercise': 2516, 'initial': 2517, 'eric': 2518, 'missed': 2519, 'library': 2520, 'dance': 2521, 'fellow': 2522, 'cancelled': 2523, 'certain': 2524, 'earth': 2525, 'islands': 2526, 'tells': 2527, 'enters': 2528, 'simpson': 2529, 'dozens': 2530, 'harris': 2531, 'kicked': 2532, 'rio': 2533, 'waste': 2534, 'spears': 2535, 'usd': 2536, 'cheryl': 2537, 'funeral': 2538, 'hoping': 2539, 'nationals': 2540, 'garden': 2541, 'option': 2542, 'advance': 2543, 'payment': 2544, 'spread': 2545, 'recover': 2546, 'ocean': 2547, 'congressional': 2548, 'somali': 2549, 'edwards': 2550, 'abu': 2551, 'twice': 2552, 'resident': 2553, 'honor': 2554, 'suffers': 2555, 'ball': 2556, 'eurozone': 2557, 'malaysian': 2558, 'include': 2559, 'springs': 2560, 'becomes': 2561, 'lions': 2562, 'arena': 2563, 'j': 2564, 'conservative': 2565, 'deaths': 2566, 'native': 2567, 'initiative': 2568, 'residential': 2569, 'expert': 2570, 'lebanon': 2571, 'rivals': 2572, 'exclusive': 2573, 'kings': 2574, 'howard': 2575, 'baltimore': 2576, 'birmingham': 2577, 'stroke': 2578, 'rice': 2579, 'enforcement': 2580, 'angelina': 2581, 'e': 2582, 'shown': 2583, 'designer': 2584, 'stable': 2585, 'sheen': 2586, 'presented': 2587, 'nomination': 2588, 'franchise': 2589, 'mail': 2590, 'policies': 2591, 'window': 2592, 'superstar': 2593, 'approximately': 2594, 'affected': 2595, 'independence': 2596, 'britney': 2597, 'unions': 2598, 'agrees': 2599, 'penalty': 2600, 'entire': 2601, 'vowed': 2602, 'dakota': 2603, 'myanmar': 2604, 'pool': 2605, 'removed': 2606, 'southeast': 2607, 'begun': 2608, 'regarding': 2609, 'hitting': 2610, 'properties': 2611, 'jolie': 2612, 'supports': 2613, 'madison': 2614, 'thats': 2615, 'jeff': 2616, 'atlantic': 2617, 'newcastle': 2618, 'horse': 2619, 'resort': 2620, 'intelligence': 2621, 'awareness': 2622, 'buffalo': 2623, 'hero': 2624, 'carlos': 2625, 'exhibition': 2626, 'winds': 2627, 'aviation': 2628, 'dream': 2629, 'sabha': 2630, 'commander': 2631, 'offender': 2632, 'basis': 2633, 'collapsed': 2634, 'bp': 2635, 'galaxy': 2636, 'w': 2637, 'asks': 2638, 'sensex': 2639, 'emerging': 2640, 'terrorists': 2641, 'kumar': 2642, 'missile': 2643, 'check': 2644, 'presence': 2645, 'waters': 2646, 'heads': 2647, 'sam': 2648, 'highly': 2649, 'putting': 2650, 'patient': 2651, 'saturdays': 2652, 'monthly': 2653, 'filing': 2654, 'hospitals': 2655, 'sides': 2656, 'goals': 2657, 'matter': 2658, 'stanley': 2659, 'invited': 2660, 'payments': 2661, 'fatally': 2662, 'probation': 2663, 'welcomed': 2664, 'secure': 2665, 'katie': 2666, 'felt': 2667, 'ad': 2668, 'speaker': 2669, 'combat': 2670, 'repair': 2671, 'reduced': 2672, 'transportation': 2673, 'demi': 2674, 'discovery': 2675, 'att': 2676, 'tickets': 2677, 'preparing': 2678, 'fear': 2679, 'mall': 2680, 'hudson': 2681, 'spotted': 2682, 'warren': 2683, 'output': 2684, 'judges': 2685, 'employment': 2686, 'negotiations': 2687, 'thailand': 2688, 'gandhi': 2689, 'touch': 2690, 'czech': 2691, 'doors': 2692, 'sa': 2693, 'vancouver': 2694, 'offshore': 2695, 'boxing': 2696, 'comeback': 2697, 'ron': 2698, 'pair': 2699, 'themselves': 2700, 'killer': 2701, 'persons': 2702, 'northeast': 2703, 'whats': 2704, 'coverage': 2705, 'especially': 2706, 'manslaughter': 2707, 'troubled': 2708, 'clinic': 2709, '41': 2710, 'lawyers': 2711, 'active': 2712, 'bulgaria': 2713, 'creek': 2714, 'invasion': 2715, 'immediately': 2716, 'insists': 2717, 'oregon': 2718, 'culture': 2719, 'fishing': 2720, 'junior': 2721, 'copper': 2722, 'fact': 2723, 'columbus': 2724, 'edward': 2725, 'gop': 2726, 'jumped': 2727, 'slow': 2728, 'helps': 2729, '42': 2730, 'page': 2731, 'however': 2732, 'creating': 2733, 'diamond': 2734, 'preliminary': 2735, 'targeting': 2736, 'seasons': 2737, 'orlando': 2738, 'pain': 2739, 'railway': 2740, 'confident': 2741, 'turning': 2742, 'matches': 2743, 'rich': 2744, 'pennsylvania': 2745, 'probe': 2746, 'sugar': 2747, '33': 2748, 'columbia': 2749, 'drunk': 2750, 'del': 2751, 'utah': 2752, 'canceled': 2753, 'c': 2754, 'casino': 2755, 'reporters': 2756, 'scene': 2757, 'welcomes': 2758, 'financing': 2759, 'learned': 2760, 'searching': 2761, 'fish': 2762, 'evacuated': 2763, 'imports': 2764, 'arm': 2765, 'contact': 2766, 'movies': 2767, 'legendary': 2768, 'gang': 2769, 'todays': 2770, 'businessman': 2771, 'illness': 2772, 'opportunities': 2773, 'dialogue': 2774, 'steady': 2775, 'mississippi': 2776, 'wood': 2777, 'clients': 2778, 'anderson': 2779, 'postponed': 2780, 'celebrating': 2781, 'sought': 2782, 'steven': 2783, 'expect': 2784, 'busy': 2785, 'bahrain': 2786, 'regime': 2787, 'virus': 2788, 'renewed': 2789, 'pornography': 2790, 'cargo': 2791, 'asking': 2792, 'sprint': 2793, 'standards': 2794, 'places': 2795, 'pitt': 2796, 'madonna': 2797, 'goldman': 2798, 'notes': 2799, 'outstanding': 2800, 'sentiment': 2801, 'population': 2802, 'fit': 2803, 'ncaa': 2804, 'conducted': 2805, 'craig': 2806, 'broadway': 2807, 'feet': 2808, 'restructuring': 2809, '63': 2810, 'noon': 2811, 'ask': 2812, 'promotion': 2813, 'winehouse': 2814, 'counties': 2815, 'congressman': 2816, 'biden': 2817, 'chavez': 2818, 'positions': 2819, 'opener': 2820, 'considered': 2821, 'introduce': 2822, 'kristen': 2823, '62': 2824, 'pipeline': 2825, 'suspends': 2826, '64': 2827, 'franklin': 2828, 'networking': 2829, 'learn': 2830, 'pedestrian': 2831, 'phil': 2832, 'swedish': 2833, 'suspicious': 2834, 'male': 2835, 'smoke': 2836, 'circuit': 2837, 'fake': 2838, 'penn': 2839, 'benchmark': 2840, 'smartphone': 2841, 'jimmy': 2842, 'documents': 2843, 'reforms': 2844, 'declined': 2845, 'retired': 2846, 'districts': 2847, 'ankle': 2848, 'compete': 2849, 'hosted': 2850, '43': 2851, 'personnel': 2852, 'demands': 2853, 'asset': 2854, 'neighborhood': 2855, 'republicans': 2856, 'accounts': 2857, 'notice': 2858, 'sky': 2859, 'nsw': 2860, 'something': 2861, '/': 2862, 'conflict': 2863, 'born': 2864, 'specialist': 2865, 'theres': 2866, 'nothing': 2867, 'coffee': 2868, 'josh': 2869, 'ride': 2870, 'fallen': 2871, 'escaped': 2872, 'hamas': 2873, 'tested': 2874, 'paying': 2875, 'supplier': 2876, 'manmohan': 2877, 'delayed': 2878, 'participate': 2879, 'henry': 2880, 'marathon': 2881, 'medicine': 2882, 'settle': 2883, 'mac': 2884, 'serbia': 2885, 'fishermen': 2886, 'argentina': 2887, 'britains': 2888, 'recalls': 2889, 'phase': 2890, '36': 2891, 'managed': 2892, 'false': 2893, 'nhl': 2894, 'request': 2895, 'floor': 2896, 'talent': 2897, 'ray': 2898, 'performing': 2899, 'tea': 2900, 'katy': 2901, 'dedicated': 2902, 'announcing': 2903, 'sean': 2904, 'delay': 2905, 'tell': 2906, 'delays': 2907, 'informed': 2908, 'fee': 2909, 'youtube': 2910, 'resolution': 2911, 'centers': 2912, 'luxury': 2913, 'residence': 2914, 'mutual': 2915, 'century': 2916, 'cyrus': 2917, 'philippine': 2918, 'm': 2919, 'disney': 2920, 'lift': 2921, 'mental': 2922, 'utility': 2923, 'sachs': 2924, 'tonnes': 2925, 'tornado': 2926, 'tied': 2927, 'jay': 2928, 'ways': 2929, 'alaska': 2930, 'shanghai': 2931, 'rocket': 2932, 'finished': 2933, 'ed': 2934, 'suspension': 2935, 'institutions': 2936, 'masters': 2937, 'edge': 2938, 'choice': 2939, 'reading': 2940, 'traded': 2941, 'drinking': 2942, 'ferguson': 2943, 'kidnapped': 2944, 'lawrence': 2945, 'fighter': 2946, 'deep': 2947, 'dark': 2948, 'beyond': 2949, 'names': 2950, 'display': 2951, 'responsible': 2952, 'connecticut': 2953, 'assigned': 2954, 'bell': 2955, 'miley': 2956, 'courts': 2957, 'representatives': 2958, 'marks': 2959, 'antonio': 2960, 'deputies': 2961, 'waiting': 2962, 'lankan': 2963, 'bilateral': 2964, 'jump': 2965, 'tight': 2966, 'mount': 2967, 'scam': 2968, 'includes': 2969, 'portland': 2970, 'bulls': 2971, 'arkansas': 2972, 'inmate': 2973, 'features': 2974, 'alan': 2975, '85': 2976, 'bears': 2977, 'drew': 2978, 'identity': 2979, 'swimming': 2980, 'incidents': 2981, 'australias': 2982, 'figure': 2983, 'edition': 2984, 'difficult': 2985, 'neil': 2986, 'pull': 2987, 'trophy': 2988, 'undisclosed': 2989, 'sworn': 2990, 'image': 2991, 'cooper': 2992, 'ease': 2993, 'decide': 2994, '65': 2995, 'warner': 2996, 'lineup': 2997, 'andre': 2998, 'modern': 2999, 'abc': 3000, 'traditional': 3001, 'worked': 3002, 'flag': 3003, 'ibm': 3004, 'convention': 3005, 'eagles': 3006, 'ive': 3007, 'cardinals': 3008, 'azerbaijani': 3009, 'sends': 3010, 'defend': 3011, 'federation': 3012, 'fifa': 3013, 'targeted': 3014, 'bulgarian': 3015, 'language': 3016, 'producers': 3017, 'investigators': 3018, 'raid': 3019, 'pays': 3020, 'betting': 3021, 'cancels': 3022, 'shots': 3023, 'import': 3024, 'nominated': 3025, 'feeling': 3026, 'learning': 3027, 'walmart': 3028, 'stole': 3029, 'bradley': 3030, 'means': 3031, 'blast': 3032, 'suspects': 3033, 'defends': 3034, 'expressed': 3035, 'happened': 3036, 'democrat': 3037, 'queensland': 3038, 'complaint': 3039, 'smoking': 3040, 'kazakhstan': 3041, 'ag': 3042, 'defeated': 3043, 'often': 3044, 'drowned': 3045, 'murdered': 3046, 'indonesian': 3047, 'alternative': 3048, 'processing': 3049, 'registered': 3050, 'virgin': 3051, 'diabetes': 3052, 'tender': 3053, 'wildlife': 3054, 'bull': 3055, 'wait': 3056, 'provided': 3057, 'trafficking': 3058, 'threatens': 3059, 'urban': 3060, 'cowell': 3061, 'sister': 3062, 'rob': 3063, 'reopen': 3064, 'johnny': 3065, 'spill': 3066, 'arrive': 3067, 'proud': 3068, 'organizations': 3069, 'suggests': 3070, 'carry': 3071, 'seems': 3072, 'bruce': 3073, 'reasons': 3074, 'estimates': 3075, 'maintain': 3076, 'featuring': 3077, 'professor': 3078, 'integrated': 3079, 'carried': 3080, 'eve': 3081, 'armenia': 3082, 'commitment': 3083, 'remove': 3084, 'merger': 3085, 'normal': 3086, 'compensation': 3087, 'llc': 3088, 'ukrainian': 3089, 'savings': 3090, 'marry': 3091, 'gunpoint': 3092, 'interstate': 3093, 'reliance': 3094, 'violations': 3095, 'suing': 3096, 'broadcast': 3097, 'blow': 3098, 'everything': 3099, '―': 3100, 'items': 3101, 'guy': 3102, 'visa': 3103, 'improving': 3104, 'transit': 3105, 'kicks': 3106, 'weaker': 3107, 'blackberry': 3108, 'barbara': 3109, 'onto': 3110, 'criticism': 3111, 'pilots': 3112, 'material': 3113, 'follow': 3114, 'maryland': 3115, 'rushed': 3116, 'upper': 3117, 'kenya': 3118, 'bit': 3119, 'petrol': 3120, 'tottenham': 3121, 'jewish': 3122, 'ran': 3123, 'carter': 3124, 'hike': 3125, 'style': 3126, 'euros': 3127, 'swift': 3128, '34': 3129, 'tehran': 3130, 'rookie': 3131, 'anything': 3132, 'images': 3133, 'retailers': 3134, 'suggested': 3135, 'mary': 3136, 'appeals': 3137, 'derby': 3138, 'aims': 3139, 'terry': 3140, 'warrant': 3141, 'indianapolis': 3142, 'wave': 3143, 'location': 3144, 'slowdown': 3145, 'don': 3146, 'thing': 3147, 'boeing': 3148, 'globe': 3149, 'dan': 3150, 'charlotte': 3151, 'fail': 3152, 'montreal': 3153, 'easy': 3154, 'books': 3155, '10th': 3156, 'sons': 3157, 'temporary': 3158, 'internal': 3159, 'performed': 3160, 'materials': 3161, 'recorded': 3162, '55': 3163, 'actually': 3164, 'nbc': 3165, 'flooding': 3166, 'sound': 3167, 'similar': 3168, 'perfect': 3169, 'houses': 3170, 'bobby': 3171, 'escape': 3172, 'nasa': 3173, 'defended': 3174, 'switzerland': 3175, 'roy': 3176, 'managing': 3177, 'maintenance': 3178, 'belarus': 3179, 'roll': 3180, 'burning': 3181, 'streak': 3182, 'charter': 3183, 'asif': 3184, 'bristol': 3185, 'improvement': 3186, 'grants': 3187, 'celebration': 3188, 'medvedev': 3189, 'playoff': 3190, 'taxi': 3191, 'haiti': 3192, 'premiere': 3193, 'word': 3194, 'remaining': 3195, 'delivered': 3196, 'preseason': 3197, 'cowboys': 3198, 'petroleum': 3199, 'maria': 3200, 'flying': 3201, 'prepare': 3202, 'pat': 3203, 'vows': 3204, 'chrysler': 3205, 'scientific': 3206, 'door': 3207, 'supporting': 3208, 'battling': 3209, 'tourist': 3210, 'picked': 3211, 'clashes': 3212, 'halt': 3213, 'sure': 3214, 'pound': 3215, 'cited': 3216, '48': 3217, 'fitness': 3218, 'kidnapping': 3219, 'nashville': 3220, 'kingdom': 3221, 'physical': 3222, 'influence': 3223, 'pictures': 3224, 'regulators': 3225, 'older': 3226, 'depression': 3227, 'crossing': 3228, 'robin': 3229, 'hires': 3230, 'dismissed': 3231, '51': 3232, 'billy': 3233, 'section': 3234, 'regulatory': 3235, 'cincinnati': 3236, 'arrests': 3237, 'villa': 3238, 'benedict': 3239, 'alexander': 3240, 'reopened': 3241, 'dates': 3242, 'aniston': 3243, 'dow': 3244, 'hilton': 3245, '46': 3246, 'balance': 3247, 'cultural': 3248, 'talking': 3249, 'listed': 3250, 'allowing': 3251, '95': 3252, 'barclays': 3253, 'restore': 3254, 'crown': 3255, 'jammu': 3256, 'pitch': 3257, 'speaks': 3258, 'deutsche': 3259, 'suit': 3260, 'constitution': 3261, 'engagement': 3262, 'whole': 3263, 'direction': 3264, 'nicole': 3265, 'damaged': 3266, 'mandela': 3267, 'moment': 3268, 'honoured': 3269, 'lopez': 3270, 'scores': 3271, 'organisation': 3272, 'civilians': 3273, 'provincial': 3274, 'louisiana': 3275, 'withdraws': 3276, 'adopted': 3277, 'lay': 3278, 'murdering': 3279, 'meetings': 3280, 'mostly': 3281, 'gates': 3282, 'shortage': 3283, 'condemned': 3284, 'espn': 3285, 'registration': 3286, 'idea': 3287, 'danny': 3288, 'interim': 3289, 'longterm': 3290, 'parker': 3291, 'matthew': 3292, 'sheriff': 3293, 'intel': 3294, 'emirates': 3295, 'jamie': 3296, 'dealer': 3297, 'core': 3298, 'nevada': 3299, 'faced': 3300, '76': 3301, 'mans': 3302, 'hiring': 3303, 'opportunity': 3304, 'shuttle': 3305, 'restored': 3306, 'verizon': 3307, 'trees': 3308, 'executives': 3309, 'described': 3310, 'threw': 3311, 'agreements': 3312, 'virtual': 3313, 'dodgers': 3314, 'raped': 3315, 'comedian': 3316, 'parks': 3317, 'secured': 3318, 'pc': 3319, 'attorneys': 3320, 'diesel': 3321, 'resistance': 3322, 'upon': 3323, 'dhabi': 3324, 'naval': 3325, 'nascar': 3326, 'pole': 3327, 'trillion': 3328, 'welfare': 3329, 'arson': 3330, 'shah': 3331, 'shoots': 3332, 'occurred': 3333, 'quickly': 3334, 'shortly': 3335, 'brings': 3336, 'plead': 3337, 'sweden': 3338, 'hotels': 3339, 'knife': 3340, 'motion': 3341, 'fails': 3342, 'prominent': 3343, 'probably': 3344, '72': 3345, 'watson': 3346, 'thai': 3347, 'struggle': 3348, 'roberts': 3349, 'accept': 3350, 'produced': 3351, 'animals': 3352, 'tower': 3353, 'wikileaks': 3354, 'rafael': 3355, 'approach': 3356, 'cuban': 3357, 'outfielder': 3358, 'hawaii': 3359, 'walking': 3360, 'd': 3361, 'responsibility': 3362, 'revenues': 3363, 'register': 3364, 'gained': 3365, 'drunken': 3366, 'upgraded': 3367, 'unveil': 3368, 'classes': 3369, 'hedge': 3370, 'plastic': 3371, 'lincoln': 3372, 'accidentally': 3373, 'joseph': 3374, 'crowd': 3375, 'guide': 3376, 'judicial': 3377, 'legislature': 3378, 'chennai': 3379, 'ufc': 3380, 'armstrong': 3381, 'jesse': 3382, 'duke': 3383, 'firefighter': 3384, 'adults': 3385, 'god': 3386, 'cap': 3387, 'patriots': 3388, 'fleet': 3389, 'grew': 3390, 'ac': 3391, 'palace': 3392, 'landed': 3393, 'automotive': 3394, 'liberal': 3395, 'nominee': 3396, '82': 3397, 'musharraf': 3398, 'carl': 3399, 'recording': 3400, 'magic': 3401, 'raiders': 3402, 'parent': 3403, 'minority': 3404, 'drilling': 3405, 'lama': 3406, 'exit': 3407, 'liam': 3408, 'read': 3409, 'jazz': 3410, 'estimated': 3411, 'retiring': 3412, '54': 3413, 'isnt': 3414, 'athletes': 3415, 'armenian': 3416, 'conviction': 3417, 'blamed': 3418, 'casey': 3419, 'respect': 3420, 'risks': 3421, 'witnesses': 3422, 'machine': 3423, 'fixed': 3424, '2006': 3425, 'seventh': 3426, '37': 3427, 'backed': 3428, 'hp': 3429, 'cnn': 3430, 'fastest': 3431, 'temporarily': 3432, 'europes': 3433, 'trail': 3434, 'forthcoming': 3435, 'emerged': 3436, 'municipal': 3437, 'tons': 3438, 'volunteers': 3439, 'honda': 3440, 'rains': 3441, 'fbi': 3442, 'permanent': 3443, 'stepping': 3444, 'delta': 3445, 'powers': 3446, 'checks': 3447, 'wreck': 3448, 'violating': 3449, 'walker': 3450, 'mar': 3451, 'employers': 3452, 'saints': 3453, 'caribbean': 3454, 'promised': 3455, 'linebacker': 3456, 'aaron': 3457, 'legislative': 3458, 'lenders': 3459, 'advantage': 3460, 'netherlands': 3461, 'dalai': 3462, 'reid': 3463, 'creative': 3464, 'picture': 3465, 'hair': 3466, 'shore': 3467, 'downturn': 3468, 'rand': 3469, 'competitive': 3470, 'knowledge': 3471, 'comprehensive': 3472, 'maoists': 3473, 'reaching': 3474, 'camera': 3475, 'larry': 3476, 'captured': 3477, 'bars': 3478, 'knocked': 3479, 'table': 3480, 'undergoing': 3481, 'collaboration': 3482, '61': 3483, 'exploration': 3484, 'rush': 3485, 'greg': 3486, 'recalling': 3487, 'kerala': 3488, 'rolling': 3489, 'tensions': 3490, '52': 3491, 'ashley': 3492, 'leak': 3493, 'restaurants': 3494, 'kolkata': 3495, 'dolphins': 3496, 'unexpectedly': 3497, 'heritage': 3498, 'nigerian': 3499, 'presents': 3500, 'written': 3501, 'commodity': 3502, 'alone': 3503, 'resignation': 3504, 'roster': 3505, 'reason': 3506, 'zoo': 3507, 'enhance': 3508, 'latin': 3509, 'clark': 3510, 'mps': 3511, 'original': 3512, 'beauty': 3513, 'tyler': 3514, 'tribal': 3515, 'gujarat': 3516, 'affect': 3517, 'kapoor': 3518, 'speaking': 3519, 'workforce': 3520, 'heavyweight': 3521, 'salary': 3522, 'plus': 3523, 'lightning': 3524, 'link': 3525, 'nepal': 3526, 'dublin': 3527, 'gaming': 3528, 'undergoes': 3529, 'islamabad': 3530, 'fewer': 3531, 'lender': 3532, 'coordinator': 3533, 'everyone': 3534, 'fitch': 3535, 'score': 3536, 'pushed': 3537, 'currencies': 3538, 'nicolas': 3539, 'stress': 3540, 'collins': 3541, 'withdraw': 3542, 'kuwait': 3543, 'cyprus': 3544, 'endorses': 3545, 'quits': 3546, '900': 3547, 'critically': 3548, 'focused': 3549, 'wearing': 3550, 'tools': 3551, 'communication': 3552, 'lane': 3553, 'sparked': 3554, 'tablet': 3555, 'formed': 3556, '44': 3557, 'theyre': 3558, 'sustained': 3559, 'parade': 3560, 'drink': 3561, 'increasingly': 3562, 'warriors': 3563, 'episode': 3564, 'barry': 3565, 'dramatic': 3566, 'pet': 3567, '38': 3568, 'softball': 3569, 'dry': 3570, 'defending': 3571, 'handed': 3572, 'fun': 3573, 'auckland': 3574, 'politicians': 3575, 'sp': 3576, 'presidents': 3577, 'minimum': 3578, 'reveal': 3579, 'milestone': 3580, 'visitors': 3581, 'triple': 3582, 'lok': 3583, 'inquiry': 3584, 'count': 3585, 'cat': 3586, 'brandon': 3587, 'athletic': 3588, 'sunderland': 3589, 'guns': 3590, 'toddler': 3591, 'passing': 3592, 'reserves': 3593, 'accepting': 3594, 'hunt': 3595, 'highs': 3596, 'collapse': 3597, 'considers': 3598, 'degree': 3599, 'operators': 3600, 'kick': 3601, 'raping': 3602, 'gift': 3603, 'billionaire': 3604, 'principal': 3605, 'established': 3606, 'takeover': 3607, 'universal': 3608, 'sue': 3609, 'lands': 3610, 'required': 3611, 'attention': 3612, 'hugo': 3613, 'code': 3614, 'releasing': 3615, 'fiji': 3616, 'task': 3617, 'putin': 3618, 'stability': 3619, 'revolution': 3620, '67': 3621, 'freed': 3622, 'dave': 3623, 'ricky': 3624, '00': 3625, 'montana': 3626, 'era': 3627, 'bengal': 3628, 'thinks': 3629, 'downgraded': 3630, 'extending': 3631, 'attacking': 3632, 'practices': 3633, 'gilani': 3634, 'abroad': 3635, 'asylum': 3636, 'inter': 3637, 'firing': 3638, 'tanker': 3639, 'forecasts': 3640, 'trouble': 3641, 'rejects': 3642, 'motorola': 3643, 'bike': 3644, 'rome': 3645, 'encounter': 3646, 'kanye': 3647, 'adult': 3648, 'demanded': 3649, 'ranked': 3650, 'served': 3651, 'raw': 3652, 'lakh': 3653, 'measure': 3654, 'ian': 3655, 'humanitarian': 3656, 'aston': 3657, '3d': 3658, 'saved': 3659, 'marking': 3660, 'fed': 3661, 'envoy': 3662, 'roof': 3663, 'twin': 3664, 'quite': 3665, 'puts': 3666, 'moon': 3667, 'malik': 3668, 'colombia': 3669, 'lakers': 3670, 'maine': 3671, 'lord': 3672, 'till': 3673, 'customs': 3674, '53': 3675, 'accepted': 3676, 'size': 3677, 'dick': 3678, 'hear': 3679, 'rachel': 3680, 'graham': 3681, 'strongly': 3682, 'shell': 3683, 'unlikely': 3684, 'someone': 3685, 'innovative': 3686, 'publicly': 3687, 'trucks': 3688, 'munich': 3689, 'dinner': 3690, 'wholesale': 3691, 'interested': 3692, 'included': 3693, 'withdrawn': 3694, 'kind': 3695, 'grove': 3696, 'chile': 3697, 'worries': 3698, 'rallied': 3699, 'anyone': 3700, 'stands': 3701, 'establish': 3702, 'winger': 3703, 'analysis': 3704, 'infection': 3705, 'fla': 3706, 'managers': 3707, 'individual': 3708, 'buyers': 3709, 'interests': 3710, 'citizen': 3711, 'unique': 3712, 'evans': 3713, 'familiar': 3714, '>': 3715, 'shed': 3716, 'wine': 3717, 'tool': 3718, 'browns': 3719, 'neck': 3720, 'coaching': 3721, 'drone': 3722, 'refinance': 3723, 'pak': 3724, 'storms': 3725, '39': 3726, 'drought': 3727, 'conspiracy': 3728, 'writes': 3729, 'raza': 3730, 'possibility': 3731, 'keith': 3732, 'commonwealth': 3733, 'standing': 3734, 'label': 3735, 'effects': 3736, 'nadal': 3737, 'p': 3738, 'trailer': 3739, 'muslims': 3740, 'fly': 3741, 'wealth': 3742, 'weapon': 3743, 'jonathan': 3744, 'pti': 3745, 'prepared': 3746, 'path': 3747, 'icon': 3748, 'sues': 3749, 'gap': 3750, 'skipper': 3751, 'sterling': 3752, 'shipping': 3753, 'endorsed': 3754, 'cook': 3755, 'twoyear': 3756, 'closure': 3757, 'intends': 3758, 'bat': 3759, 'determined': 3760, 'adams': 3761, 'hughes': 3762, 'memory': 3763, 'sarkozy': 3764, 'baghdad': 3765, 'tries': 3766, 'dealing': 3767, 'refuses': 3768, 'faster': 3769, 'poised': 3770, 'hunger': 3771, 'providers': 3772, 'knight': 3773, '66': 3774, 'obamas': 3775, 'developers': 3776, 'innovation': 3777, 'burned': 3778, 'pledged': 3779, 'entry': 3780, 'jeremy': 3781, 'bigger': 3782, 'studios': 3783, 'wear': 3784, 'colombian': 3785, 'accuses': 3786, 'article': 3787, 'ottawa': 3788, 'pharmaceutical': 3789, 'streaming': 3790, 'alongside': 3791, 'keen': 3792, 'salman': 3793, 'liberty': 3794, 'assist': 3795, 'bird': 3796, 'spokeswoman': 3797, 'motorcyclist': 3798, 'qantas': 3799, 'marked': 3800, 'skills': 3801, 'limit': 3802, 'unchanged': 3803, 'restrictions': 3804, 'guidance': 3805, 'hampshire': 3806, 'upset': 3807, 'cubs': 3808, 'mukherjee': 3809, 'demanding': 3810, 'ross': 3811, 'earned': 3812, 'kenny': 3813, 'kerry': 3814, 'roman': 3815, 'routes': 3816, 'temple': 3817, 'controversy': 3818, 'shane': 3819, 'royals': 3820, 'iii': 3821, 'douglas': 3822, 'walked': 3823, 'lying': 3824, 'outbreak': 3825, 'smartphones': 3826, 'bomber': 3827, 'injuring': 3828, '2015': 3829, 'eddie': 3830, 'vatican': 3831, 'publisher': 3832, 'metals': 3833, 'thompson': 3834, 'prosecutor': 3835, 'tie': 3836, 'nebraska': 3837, 'agricultural': 3838, 'citigroup': 3839, 'japans': 3840, 'springfield': 3841, 'mets': 3842, '56': 3843, 'master': 3844, 'mtv': 3845, 'photos': 3846, 'waivers': 3847, 'adviser': 3848, 'sectors': 3849, 'loves': 3850, 'category': 3851, 'fa': 3852, 'select': 3853, 'hip': 3854, 'goalkeeper': 3855, '47': 3856, 'prior': 3857, 'teens': 3858, 'implement': 3859, 'fields': 3860, 'resolve': 3861, 'lebanese': 3862, 'proposes': 3863, 'underwent': 3864, 'guards': 3865, 'computers': 3866, 'mills': 3867, 'perth': 3868, 'pilgrims': 3869, 'holmes': 3870, 'blues': 3871, 'tank': 3872, 'georgian': 3873, 'selection': 3874, 'remarks': 3875, 'entering': 3876, 'throwing': 3877, 'kris': 3878, 'stream': 3879, 'misdemeanor': 3880, 'resumed': 3881, 'northwestern': 3882, 'zuma': 3883, 'edged': 3884, 'berlin': 3885, 'surge': 3886, 'theater': 3887, 'poland': 3888, 'witness': 3889, 'prescription': 3890, 'rollover': 3891, 'affordable': 3892, 'wage': 3893, 'telecommunications': 3894, 'advice': 3895, 'ahmadinejad': 3896, 'worse': 3897, 'rebound': 3898, 'backs': 3899, 'approve': 3900, 'bans': 3901, 'lucky': 3902, 'foreclosure': 3903, 'pit': 3904, 'pleased': 3905, 'favourite': 3906, 'afp': 3907, 'blog': 3908, 'thrown': 3909, 'cells': 3910, 'crack': 3911, 'attempting': 3912, 'http': 3913, 'treat': 3914, 'rochester': 3915, 'finding': 3916, 'wrote': 3917, 'directed': 3918, 'upgrade': 3919, 'ranks': 3920, 'retires': 3921, 'ability': 3922, 'sovereign': 3923, 'prepares': 3924, 'christina': 3925, 'r': 3926, 'vaccine': 3927, '71': 3928, 'character': 3929, 'transaction': 3930, 'kyle': 3931, 'starring': 3932, 'interactive': 3933, 'tsunami': 3934, 'songs': 3935, 'sisters': 3936, 'changing': 3937, 'communist': 3938, 'answer': 3939, 'capitol': 3940, 'mccartney': 3941, 'juan': 3942, 'urging': 3943, 'string': 3944, 'mom': 3945, 'affair': 3946, 'vodafone': 3947, 'faith': 3948, 'sessions': 3949, 'pickup': 3950, 'motorists': 3951, 'kidney': 3952, 'mothers': 3953, 'solo': 3954, 'editor': 3955, 'ted': 3956, 'burns': 3957, 'harper': 3958, 'brett': 3959, 'limits': 3960, 'telling': 3961, 'ore': 3962, 'recycling': 3963, 'nc': 3964, 'momentum': 3965, 'karnataka': 3966, 'scale': 3967, 'vikings': 3968, 'mind': 3969, 'sacramento': 3970, 'pushing': 3971, 'lance': 3972, 'fisher': 3973, 'buried': 3974, 'v': 3975, 'insisted': 3976, 'pizza': 3977, 'standoff': 3978, 'coaches': 3979, 'involvement': 3980, 'jobless': 3981, 'prove': 3982, 'adelaide': 3983, 'jacksonville': 3984, 'opera': 3985, 'senators': 3986, 'crashing': 3987, 'actions': 3988, 'shareholder': 3989, 'rooney': 3990, 'amanda': 3991, 'musician': 3992, 'chosen': 3993, 'oneyear': 3994, 'potentially': 3995, 'acres': 3996, 'angry': 3997, 'renewable': 3998, 'arnold': 3999, 'marshall': 4000, 'emissions': 4001, 'links': 4002, 'imposed': 4003, 'boosted': 4004, 'outdoor': 4005, 'celtic': 4006, 'settled': 4007, 'zero': 4008, 'membership': 4009, 'allstar': 4010, 'sep': 4011, 'finals': 4012, 'wimbledon': 4013, 'photographer': 4014, 'inducted': 4015, 'hub': 4016, 'bachchan': 4017, 'quoted': 4018, 'twenty20': 4019, 'declines': 4020, 'innings': 4021, 'hunting': 4022, '83': 4023, 'pulls': 4024, 'milk': 4025, 'vladimir': 4026, 'stranded': 4027, 'promoted': 4028, 'saint': 4029, 'crackdown': 4030, 'emma': 4031, 'remote': 4032, 'wright': 4033, 'spirit': 4034, 'volleyball': 4035, 'enterprises': 4036, 'parish': 4037, '86': 4038, 'attempts': 4039, 'pub': 4040, 'donald': 4041, 'prostitution': 4042, 'rogers': 4043, 'brief': 4044, 'auburn': 4045, 'promoting': 4046, 'significantly': 4047, 'confirm': 4048, 'revised': 4049, 'studies': 4050, 'rodriguez': 4051, 'variety': 4052, 'papers': 4053, 'temperatures': 4054, 'consulting': 4055, 'towns': 4056, 'vision': 4057, 'praised': 4058, 'equities': 4059, 'structure': 4060, 'illegally': 4061, 'actors': 4062, '74': 4063, '68': 4064, 'promises': 4065, 'cairo': 4066, 'sharks': 4067, 'airports': 4068, 'followed': 4069, 'corps': 4070, 'departments': 4071, 'tracks': 4072, 'qualifying': 4073, 'sandy': 4074, 'reduction': 4075, 'chancellor': 4076, 'venezuelan': 4077, 'slipped': 4078, 'mitchell': 4079, 'queens': 4080, 'leeds': 4081, 'poverty': 4082, 'fighters': 4083, '49': 4084, 'commits': 4085, 'assignment': 4086, 'hunter': 4087, 'mill': 4088, 'pakistans': 4089, 'bone': 4090, 'eagle': 4091, '77': 4092, 'bag': 4093, 'holidays': 4094, 'mahmoud': 4095, 'corner': 4096, 'cruelty': 4097, 'dean': 4098, 'commissioners': 4099, 'seize': 4100, 'irans': 4101, 'reducing': 4102, 'superior': 4103, 'concluded': 4104, 'mario': 4105, 'slash': 4106, 'stepped': 4107, 'either': 4108, 'heidi': 4109, 'peak': 4110, 'randy': 4111, 'presidency': 4112, 'secondary': 4113, 'porn': 4114, 'volume': 4115, 'everton': 4116, 'monitoring': 4117, 'rolled': 4118, 'thieves': 4119, 'earn': 4120, 'kent': 4121, '11th': 4122, 'gm': 4123, 'semifinals': 4124, 'idaho': 4125, 'airbus': 4126, 'adopt': 4127, 'winners': 4128, 'allows': 4129, 'colleges': 4130, 'refinery': 4131, 'trapped': 4132, 'broncos': 4133, 'resumes': 4134, 'bangalore': 4135, 'featured': 4136, 'pete': 4137, 'prospect': 4138, 'neutral': 4139, 'heights': 4140, 'prevention': 4141, 'forcing': 4142, 'pending': 4143, 'nhs': 4144, 'clothing': 4145, 'cyclist': 4146, 'memphis': 4147, 'gene': 4148, 'constitutional': 4149, 'landmark': 4150, 'sustainable': 4151, 'militant': 4152, 'dropping': 4153, 'sciences': 4154, 'ken': 4155, 'tributes': 4156, 'locations': 4157, 'chef': 4158, 'websites': 4159, 'maharashtra': 4160, 'ownership': 4161, 'pharmaceuticals': 4162, 'economies': 4163, 'stops': 4164, 'beef': 4165, 'catch': 4166, 'filmmaker': 4167, 'blame': 4168, 'voluntary': 4169, 'julian': 4170, 'aggravated': 4171, 'sponsor': 4172, 'driven': 4173, 'bayern': 4174, 'saving': 4175, 'cameras': 4176, 'immigrants': 4177, 'rockets': 4178, 'trials': 4179, 'gomez': 4180, 'semifinal': 4181, 'grade': 4182, 'condemns': 4183, 'priority': 4184, 'beer': 4185, 'governors': 4186, 'brisbane': 4187, 'surplus': 4188, 'writing': 4189, 'phillies': 4190, 'terminal': 4191, 'shops': 4192, 'bc': 4193, 'proposals': 4194, 'costa': 4195, 'vital': 4196, 'carey': 4197, 'appointment': 4198, 'regulator': 4199, 'weakened': 4200, 'newest': 4201, 'privacy': 4202, 'text': 4203, 'berlusconi': 4204, 'user': 4205, 'eighth': 4206, 'crystal': 4207, 'species': 4208, 'nursing': 4209, 'replaced': 4210, 'contractor': 4211, 'lung': 4212, 'flash': 4213, 'anne': 4214, 'cambridge': 4215, 'advised': 4216, 'delaware': 4217, 'ambulance': 4218, 'audience': 4219, '88': 4220, 'addition': 4221, 'tracking': 4222, 'yemeni': 4223, 'monitor': 4224, 'liquor': 4225, 'vessel': 4226, '73': 4227, 'ronaldo': 4228, 'throws': 4229, 'cliff': 4230, 'sporting': 4231, 'jacob': 4232, 'completely': 4233, 'hanging': 4234, 'gunmen': 4235, 'imf': 4236, 'concerned': 4237, 'apologized': 4238, 'midnight': 4239, 'exposure': 4240, 'lil': 4241, 'opinion': 4242, 'ham': 4243, 'manufacturers': 4244, 'sick': 4245, 'chamber': 4246, 'ace': 4247, 'potter': 4248, 'offences': 4249, 'keeps': 4250, 'complaints': 4251, 'spokesperson': 4252, 'bottom': 4253, 'efficiency': 4254, 'spoke': 4255, 'forms': 4256, 'bryant': 4257, 'lovato': 4258, 'chest': 4259, 'prostate': 4260, 'plunged': 4261, 'robinson': 4262, 'redskins': 4263, 'nobel': 4264, 'manage': 4265, 'julia': 4266, 'gibson': 4267, 'concussion': 4268, 'greatest': 4269, 'eased': 4270, 'acts': 4271, 'jerusalem': 4272, 'seats': 4273, 'baseman': 4274, 'unable': 4275, 'discussed': 4276, 'flames': 4277, 'farmer': 4278, 'bombing': 4279, 'write': 4280, 'watching': 4281, 'unity': 4282, 'hopeful': 4283, 'indies': 4284, 'wheat': 4285, 'producing': 4286, 'athens': 4287, 'suspend': 4288, 'misses': 4289, 'kosovo': 4290, '57': 4291, 'shelter': 4292, 'refugees': 4293, 'gaddafi': 4294, 'garage': 4295, 'floods': 4296, 'staterun': 4297, 'ships': 4298, 'wellington': 4299, 'documentary': 4300, 'whitney': 4301, 'robberies': 4302, 'brooklyn': 4303, 'blaze': 4304, 'integration': 4305, 'rajasthan': 4306, 'broad': 4307, 'nj': 4308, 'workshop': 4309, 'dui': 4310, 'crucial': 4311, 'blasts': 4312, 'models': 4313, 'karachi': 4314, 'wish': 4315, 'rebel': 4316, 'planes': 4317, 'ashton': 4318, 'tendulkar': 4319, 'ward': 4320, 'portsmouth': 4321, 'bmw': 4322, 'surrounding': 4323, 'external': 4324, 'detention': 4325, 'muhammad': 4326, 'shock': 4327, 'drove': 4328, 'widespread': 4329, 'unknown': 4330, 'mason': 4331, 'rumors': 4332, 'mean': 4333, 'favorite': 4334, '84': 4335, 'picks': 4336, 'jefferson': 4337, 'defenseman': 4338, 'words': 4339, 'meat': 4340, 'cinema': 4341, 'engineers': 4342, 'yes': 4343, 'selena': 4344, 'hiv': 4345, 'heroin': 4346, 'catches': 4347, 'bloomberg': 4348, 'premium': 4349, 'sleep': 4350, '79': 4351, 'martinez': 4352, 'modi': 4353, 'hostage': 4354, 'costar': 4355, 'survive': 4356, 'assange': 4357, 'murphy': 4358, 'lily': 4359, 'makers': 4360, 'spencer': 4361, 'clinical': 4362, 'slammed': 4363, 'hole': 4364, 'federer': 4365, 'uses': 4366, 'ravens': 4367, 'tops': 4368, 'apply': 4369, 'resource': 4370, 'eating': 4371, 'thanksgiving': 4372, 'mugabe': 4373, 'nightclub': 4374, 'ferrari': 4375, 'celebrations': 4376, 'bishop': 4377, 'hate': 4378, 'pregnancy': 4379, 'expenses': 4380, 'guest': 4381, 'type': 4382, 'romania': 4383, 'mahindra': 4384, 'middleton': 4385, 'supported': 4386, 'newspapers': 4387, 'baldwin': 4388, 'susan': 4389, 'grain': 4390, 'rapids': 4391, 'artists': 4392, 'rapid': 4393, 'overhaul': 4394, 'affiliate': 4395, 'conservation': 4396, 'apologizes': 4397, 'trades': 4398, 'recognition': 4399, 'ubs': 4400, 'dmitry': 4401, 'subject': 4402, 'underway': 4403, 'abandoned': 4404, 'burn': 4405, 'screening': 4406, 'drawing': 4407, 'braves': 4408, 'jonas': 4409, 'hasnt': 4410, 'solid': 4411, 'russias': 4412, 'sing': 4413, 'computing': 4414, 'anc': 4415, 'dell': 4416, 'wing': 4417, 'danger': 4418, 'suggesting': 4419, 'riding': 4420, 'skin': 4421, 'easter': 4422, 'rahul': 4423, 'brewers': 4424, 'absence': 4425, 'mars': 4426, 'drowns': 4427, 'extreme': 4428, 'tuesdays': 4429, 'accusing': 4430, 'upgrades': 4431, 'publishing': 4432, 'donated': 4433, 'tommy': 4434, 'versus': 4435, 'respond': 4436, 'bihar': 4437, 'administrative': 4438, 'chidambaram': 4439, 'supermarket': 4440, 'brussels': 4441, 'diplomat': 4442, 'reds': 4443, 'holy': 4444, 'foster': 4445, 'beverly': 4446, 'sharif': 4447, 'richmond': 4448, 'karzai': 4449, 'slide': 4450, 'channels': 4451, 'suburban': 4452, 'improves': 4453, 'damages': 4454, 'remember': 4455, 'nominations': 4456, 'seeing': 4457, 'abortion': 4458, 'lt': 4459, 'peaceful': 4460, 'attract': 4461, 'performs': 4462, 'oldest': 4463, 'regulations': 4464, 'threeyear': 4465, 'anticipated': 4466, 'judiciary': 4467, 'disputed': 4468, 'dumped': 4469, 'slip': 4470, 'steelers': 4471, 'maximum': 4472, 'alberta': 4473, 'playoffs': 4474, 'chip': 4475, 'wwe': 4476, 'inning': 4477, 'fernando': 4478, 'pastor': 4479, 'teenagers': 4480, 'marc': 4481, 'afl': 4482, 'ones': 4483, 'collapses': 4484, 'discrimination': 4485, 'oscars': 4486, 'quick': 4487, 'hailed': 4488, 'discharged': 4489, 'warn': 4490, 'stakes': 4491, 'cancel': 4492, 'pga': 4493, 'basic': 4494, 'fiveyear': 4495, 'convenience': 4496, '120': 4497, 'trains': 4498, 'ninth': 4499, 'cbi': 4500, 'slashed': 4501, 'qaeda': 4502, 'counterpart': 4503, 'watchdog': 4504, 'naked': 4505, 'abdullah': 4506, 'celtics': 4507, 'babies': 4508, 'dj': 4509, 'haryana': 4510, 'honorary': 4511, 'branches': 4512, 'prospects': 4513, 'warehouse': 4514, 'mel': 4515, 'shift': 4516, 'messages': 4517, 'emotional': 4518, 'broadcasting': 4519, 'abusing': 4520, 'cool': 4521, 'accidents': 4522, 'lifetime': 4523, 'disappointing': 4524, 'edmonton': 4525, 'eat': 4526, '20th': 4527, 'bernard': 4528, 'suffer': 4529, 'dozen': 4530, 'attending': 4531, 'roles': 4532, '78': 4533, 'individuals': 4534, 'possibly': 4535, 'investigated': 4536, 'gasoline': 4537, 'overcome': 4538, 'occupy': 4539, 'determine': 4540, 'prisoner': 4541, '100th': 4542, 'recognized': 4543, '50th': 4544, 'civilian': 4545, 'montgomery': 4546, 'easily': 4547, 'fares': 4548, 'branded': 4549, 'dennis': 4550, 'diet': 4551, 'viewers': 4552, 'wire': 4553, 'scare': 4554, 'gross': 4555, 'colin': 4556, '2005': 4557, 'aggressive': 4558, 'youre': 4559, 'fireworks': 4560, 'abbas': 4561, 'switch': 4562, 'timberlake': 4563, 'threeday': 4564, 'obesity': 4565, 'enjoy': 4566, 'census': 4567, 'jesus': 4568, 'swept': 4569, 'rocker': 4570, 'todd': 4571, 'uranium': 4572, 'uttar': 4573, 'aim': 4574, 'athletics': 4575, 'installed': 4576, 'refusing': 4577, 'tape': 4578, 'newton': 4579, 'flagship': 4580, 'twoday': 4581, '20yearold': 4582, 'pioneer': 4583, 'gallagher': 4584, 'gathered': 4585, 'skip': 4586, 'mubarak': 4587, 'exploded': 4588, 'seed': 4589, 'statewide': 4590, 'diseases': 4591, 'argument': 4592, 'lawmaker': 4593, 'default': 4594, 'initiatives': 4595, 'seminar': 4596, 'defeats': 4597, 'seahawks': 4598, 'berry': 4599, 'xinhua': 4600, 'vacant': 4601, 'warming': 4602, 'violation': 4603, 'audio': 4604, 'posting': 4605, 'phillips': 4606, 'petition': 4607, 'nancy': 4608, 'uncertainty': 4609, 'wolves': 4610, 'operate': 4611, 'transplant': 4612, 'nissan': 4613, 'priest': 4614, 'tmz': 4615, 'ski': 4616, 'oracle': 4617, 'couples': 4618, 'aids': 4619, 'guitarist': 4620, 'clarke': 4621, 'hyderabad': 4622, 'seoul': 4623, 'abdul': 4624, 'rb': 4625, 'salt': 4626, 'homeowners': 4627, 'comment': 4628, 'torch': 4629, 'htc': 4630, 'particularly': 4631, 'rolls': 4632, 'donations': 4633, 'identify': 4634, 'minneapolis': 4635, 'childhood': 4636, 'austerity': 4637, 'ann': 4638, 'schwarzenegger': 4639, 'looked': 4640, 'broadcaster': 4641, '350': 4642, 'hu': 4643, 'rumours': 4644, 'glass': 4645, '91': 4646, 'aboard': 4647, 'h1n1': 4648, 'volunteer': 4649, 'crushed': 4650, 'somalia': 4651, 'pink': 4652, 'signal': 4653, 'syed': 4654, 'infant': 4655, 'discussion': 4656, 'norway': 4657, 'frozen': 4658, 'mystery': 4659, 'advances': 4660, 'jake': 4661, 'womans': 4662, 'scrap': 4663, 'amendment': 4664, 'chart': 4665, 'sachin': 4666, 'monroe': 4667, 'transition': 4668, 'honour': 4669, 'client': 4670, 'baku': 4671, 'youths': 4672, 'lakes': 4673, 'chances': 4674, 'johannesburg': 4675, 'command': 4676, 'luke': 4677, 'collided': 4678, 'bags': 4679, 'commodities': 4680, 'topped': 4681, 'sheikh': 4682, 'watched': 4683, 'maritime': 4684, 'occupied': 4685, 'treaty': 4686, 'canadas': 4687, 'jays': 4688, 'feared': 4689, 'unless': 4690, 'daughters': 4691, 'mines': 4692, 'lottery': 4693, 'household': 4694, 'francis': 4695, 'bed': 4696, '£1': 4697, '99': 4698, 'coastal': 4699, 'capture': 4700, 'clothes': 4701, 'louisville': 4702, 'africas': 4703, 'piece': 4704, 'sharing': 4705, 'osbourne': 4706, 'unrest': 4707, '87': 4708, 'rupert': 4709, 'christie': 4710, 'tibetan': 4711, 'angels': 4712, '110': 4713, 'importance': 4714, 'novel': 4715, 'dairy': 4716, '58': 4717, 'slump': 4718, 'castro': 4719, 'cycling': 4720, 'evasion': 4721, 'destroys': 4722, 'sacked': 4723, 'postal': 4724, 'shoppers': 4725, 'races': 4726, 'roberto': 4727, 'sonia': 4728, 'offset': 4729, 'borrowing': 4730, 'shared': 4731, 'packers': 4732, 'placement': 4733, 'blind': 4734, 'rebounds': 4735, 'predicted': 4736, 'specialty': 4737, 'owen': 4738, 'xvi': 4739, 'licence': 4740, 'fundraising': 4741, 'feed': 4742, 'robbie': 4743, 'moss': 4744, 'princess': 4745, 'throw': 4746, 'agenda': 4747, 'pranab': 4748, 'laden': 4749, 'xbox': 4750, 'slams': 4751, 'praises': 4752, 'unbeaten': 4753, 'ethnic': 4754, 'miners': 4755, 'slowed': 4756, 'unidentified': 4757, 'aide': 4758, 'permits': 4759, 'estranged': 4760, 'professionals': 4761, 'canadians': 4762, 'inquest': 4763, 'finger': 4764, 'lynch': 4765, 'eliminate': 4766, 'swim': 4767, 'evacuation': 4768, 'cotton': 4769, 'serial': 4770, 'belgium': 4771, 'universities': 4772, 'playstation': 4773, 'luis': 4774, 'inaugural': 4775, 'billions': 4776, 'deposit': 4777, 'replacing': 4778, 'hugh': 4779, 'tobacco': 4780, 'grid': 4781, 'bounce': 4782, 'investing': 4783, 'delivers': 4784, '1st': 4785, 'machines': 4786, 'damascus': 4787, 'merkel': 4788, 'eyes': 4789, 'lunch': 4790, 'locked': 4791, 'attended': 4792, 'commit': 4793, 'easing': 4794, 'centres': 4795, 'happen': 4796, 'reopens': 4797, 'carriers': 4798, 'stem': 4799, 'gambling': 4800, 'lows': 4801, 'nature': 4802, 'bernanke': 4803, 'parole': 4804, 'stages': 4805, 'purchases': 4806, 'tribune': 4807, 'bids': 4808, 'requirements': 4809, 'guru': 4810, 'pride': 4811, 'pervez': 4812, 'max': 4813, 'titans': 4814, 'electrical': 4815, 'mentally': 4816, 'jewelry': 4817, 'blackburn': 4818, 'graduate': 4819, 'slowing': 4820, 'apa': 4821, 'eva': 4822, 'permission': 4823, 'consumption': 4824, 'fled': 4825, 'gunman': 4826, 'kitchen': 4827, 'portugal': 4828, 'values': 4829, 'critics': 4830, 'islam': 4831, 'pacquiao': 4832, 'moderate': 4833, 'definitely': 4834, 'creation': 4835, 'nearby': 4836, 'outfit': 4837, 'rod': 4838, 'smaller': 4839, 'teaching': 4840, 'reviews': 4841, 'escapes': 4842, 'spurs': 4843, 'wenger': 4844, 'aberdeen': 4845, 'wildfire': 4846, 'racist': 4847, 'aside': 4848, 'lease': 4849, 'steal': 4850, 'completion': 4851, 'blake': 4852, 'ceasefire': 4853, 'designated': 4854, 'telephone': 4855, 'hsbc': 4856, 'empire': 4857, 'johns': 4858, 'leon': 4859, 'pricing': 4860, 'pupils': 4861, 'uefa': 4862, 'poker': 4863, 'educational': 4864, 'uks': 4865, 'oneday': 4866, 'behaviour': 4867, 'invitation': 4868, 'sweep': 4869, 'intersection': 4870, 'titles': 4871, 'beautiful': 4872, 'verdict': 4873, 'fridays': 4874, 'elton': 4875, 'decisions': 4876, 'closely': 4877, 'bands': 4878, 'ms': 4879, 'thursdays': 4880, 'pentagon': 4881, 'sandra': 4882, '89': 4883, 'pleading': 4884, 'observed': 4885, 'automaker': 4886, 'stripped': 4887, 'print': 4888, 'bombs': 4889, 'proceedings': 4890, 'recruiting': 4891, 'abducted': 4892, 'hometown': 4893, 'heath': 4894, 'deer': 4895, 'spectrum': 4896, 'freeze': 4897, 'guarantee': 4898, 'stones': 4899, 'turmoil': 4900, 'blocked': 4901, 'crunch': 4902, 'arbitration': 4903, 'argentine': 4904, 'lights': 4905, '25th': 4906, 'wasnt': 4907, 'chad': 4908, 'discount': 4909, 'rivers': 4910, 'rental': 4911, 'birds': 4912, 'datuk': 4913, 'scenes': 4914, 'multiyear': 4915, '12th': 4916, 'wages': 4917, 'apology': 4918, 'hamid': 4919, 'orioles': 4920, 'titled': 4921, 'mild': 4922, 'unanimously': 4923, 'marcus': 4924, 'swing': 4925, 'elbow': 4926, 'buses': 4927, 'academic': 4928, 'wednesdays': 4929, 'juventus': 4930, 'righthander': 4931, 'bolton': 4932, 'boycott': 4933, 'drinks': 4934, '59': 4935, '130': 4936, 'letters': 4937, 'finland': 4938, 'sitting': 4939, 'hybrid': 4940, 'hull': 4941, 'butler': 4942, 'unprecedented': 4943, 'whom': 4944, 'ballot': 4945, 'mohammed': 4946, 'murdoch': 4947, 'lion': 4948, 'inspired': 4949, 'staged': 4950, 'optimism': 4951, 'necessary': 4952, 'applied': 4953, 'pneumonia': 4954, 'younger': 4955, 'differences': 4956, 'suv': 4957, 'cheating': 4958, 'declining': 4959, 'dam': 4960, 'destination': 4961, 'ads': 4962, 'bowling': 4963, 'gen': 4964, 'apart': 4965, 'polish': 4966, 'k': 4967, 'referendum': 4968, 'cope': 4969, 'briefly': 4970, 'borders': 4971, 'missiles': 4972, 'disclosed': 4973, 'formal': 4974, 'prestigious': 4975, 'desert': 4976, 'quoting': 4977, '69': 4978, 'inmates': 4979, 'peru': 4980, 'northeastern': 4981, 'blair': 4982, '92': 4983, 'surveillance': 4984, 'marion': 4985, 'crop': 4986, 'norwich': 4987, 'understand': 4988, 'u': 4989, '94': 4990, 'entitled': 4991, 'licensing': 4992, 'advisor': 4993, 'midwest': 4994, 'swap': 4995, 'tips': 4996, 'silence': 4997, 'awardwinning': 4998, 'relatives': 4999, 'grammy': 5000, 'smuggling': 5001, 'levy': 5002, '24yearold': 5003, 'philip': 5004, 'ebay': 5005, 'manny': 5006, 'southwestern': 5007, 'newman': 5008, 'understanding': 5009, 'doubled': 5010, 'iconic': 5011, 'serbian': 5012, 'quarterfinals': 5013, '21yearold': 5014, 'siemens': 5015, 'arctic': 5016, 'grocery': 5017, 'twilight': 5018, 'contain': 5019, 'minute': 5020, 'staying': 5021, 'directly': 5022, 'freight': 5023, 'shape': 5024, 'fundraiser': 5025, 'submitted': 5026, 'manhattan': 5027, 'coleman': 5028, 'download': 5029, 'michele': 5030, 'tribunal': 5031, 'survived': 5032, 'shootout': 5033, 'replacement': 5034, 'crowned': 5035, 'dental': 5036, 'dna': 5037, 'quinn': 5038, 'packaging': 5039, 'le': 5040, 'doubles': 5041, 'jumps': 5042, '2004': 5043, 'romanian': 5044, 'readers': 5045, 'audit': 5046, 'cautious': 5047, 'haven': 5048, 'transferred': 5049, 'lived': 5050, 'atomic': 5051, 'striking': 5052, 'belgian': 5053, 'inaugurated': 5054, 'sense': 5055, 'glee': 5056, 'fix': 5057, 'frontman': 5058, 'representing': 5059, 'regulation': 5060, 'accepts': 5061, 'abbott': 5062, 'fill': 5063, 'sebastian': 5064, 'calgary': 5065, 'teammate': 5066, 'bench': 5067, 'endorse': 5068, 'combined': 5069, 'governance': 5070, 'lesbian': 5071, 'cruz': 5072, 'id': 5073, 'downgrades': 5074, 'renew': 5075, 'recommended': 5076, 'unpaid': 5077, 'elect': 5078, 'guidelines': 5079, 'rider': 5080, 'medals': 5081, 'partys': 5082, 'bronze': 5083, 'climbed': 5084, 'suite': 5085, 'surged': 5086, 'knew': 5087, 'burglaries': 5088, 'organised': 5089, 'provinces': 5090, 'christopher': 5091, 'odds': 5092, 'yields': 5093, 'decrease': 5094, 'soft': 5095, 'quiet': 5096, 'oman': 5097, 'jpmorgan': 5098, 'councils': 5099, 'continental': 5100, 'stuck': 5101, 'suzuki': 5102, 'tag': 5103, 'fugitive': 5104, 'execution': 5105, 'citizenship': 5106, 'icc': 5107, 'magnitude': 5108, 'syracuse': 5109, 'netanyahu': 5110, 'donates': 5111, 'dad': 5112, 'doping': 5113, 'extremely': 5114, 'statements': 5115, 'achieved': 5116, 'fines': 5117, 'ist': 5118, 'plot': 5119, 'simple': 5120, 'weekends': 5121, 'pretty': 5122, 'finnish': 5123, 'warnings': 5124, 'triplea': 5125, 'swat': 5126, 'valued': 5127, 'rehabilitation': 5128, 'cheney': 5129, 'angel': 5130, 'eur': 5131, 'preferred': 5132, 'cofounder': 5133, 'weakness': 5134, 'chicken': 5135, 'nintendo': 5136, 'wichita': 5137, 'strengthened': 5138, 'pattern': 5139, 'batsman': 5140, 'dame': 5141, 'organized': 5142, 'curb': 5143, 'appoint': 5144, 'kutcher': 5145, 'pledges': 5146, 'therapy': 5147, 'declare': 5148, 'southeastern': 5149, '81': 5150, 'omaha': 5151, 'chemicals': 5152, 'runway': 5153, 'filming': 5154, 'exposed': 5155, 'santorum': 5156, 'appealing': 5157, 'mt': 5158, 'larger': 5159, 'opec': 5160, 'deposits': 5161, 'catcher': 5162, 'apologised': 5163, 'hardware': 5164, 'refugee': 5165, 'hearts': 5166, 'lp': 5167, 'controls': 5168, 'sioux': 5169, 'pulling': 5170, '19yearold': 5171, 'executed': 5172, 'kabul': 5173, 'promise': 5174, 'easier': 5175, 'robbing': 5176, 'archbishop': 5177, 'anchor': 5178, 'developments': 5179, 'roadside': 5180, 'bound': 5181, 'lifestyle': 5182, 'preparation': 5183, 'nadu': 5184, 'soul': 5185, 'punishment': 5186, 'clooney': 5187, 'diplomats': 5188, 'slam': 5189, 'nathan': 5190, 'questioned': 5191, 'gather': 5192, 'cyber': 5193, 'declaration': 5194, 'freddie': 5195, 'updates': 5196, 'enhanced': 5197, 'farms': 5198, 'retained': 5199, 'definitive': 5200, 'austrian': 5201, 'neighbors': 5202, 'misconduct': 5203, 'worried': 5204, 'compliance': 5205, 'pump': 5206, 'insurer': 5207, 'tours': 5208, 'alqaeda': 5209, 'cedar': 5210, 'darren': 5211, 'danish': 5212, 'breakfast': 5213, 'peninsula': 5214, 'ferry': 5215, 'boats': 5216, 'wars': 5217, 'sensation': 5218, 'semiconductor': 5219, 'engineer': 5220, 'indicated': 5221, 'lexington': 5222, '360': 5223, 'acquitted': 5224, 'ericsson': 5225, 'outlets': 5226, 'pharmacy': 5227, 'participation': 5228, 'reed': 5229, 'capable': 5230, 'hungary': 5231, 'raj': 5232, 'ahmed': 5233, 'intervention': 5234, 'prompting': 5235, 'penguins': 5236, 'leaked': 5237, 'assam': 5238, 'warm': 5239, 'harassment': 5240, 'sustainability': 5241, 'mini': 5242, 'wrestling': 5243, 'ancient': 5244, 'breach': 5245, 'challenging': 5246, 'sharma': 5247, 'rallies': 5248, 'brady': 5249, 'ram': 5250, 'rams': 5251, 'billboard': 5252, 'gaining': 5253, 'promising': 5254, 'obtained': 5255, 'pact': 5256, 'favor': 5257, 'emmy': 5258, 'paso': 5259, 'fat': 5260, 'mega': 5261, 'widely': 5262, 'mondays': 5263, 'brush': 5264, 'kiss': 5265, 'ridge': 5266, 'mile': 5267, 'bradford': 5268, 'bashar': 5269, '2nd': 5270, 'opponents': 5271, 'salem': 5272, 'furniture': 5273, 'neighbours': 5274, 'hang': 5275, 'demonstration': 5276, 'survival': 5277, 'jewellery': 5278, 'innocent': 5279, 'indefinitely': 5280, 'mariners': 5281, 'liver': 5282, 'athlete': 5283, 'presidentelect': 5284, 'distributor': 5285, 'mounting': 5286, 'wigan': 5287, 'lg': 5288, 'impressive': 5289, 'cisco': 5290, 'norman': 5291, 'tablets': 5292, 'migrants': 5293, 'norwegian': 5294, 'clerk': 5295, 'charleston': 5296, 'backing': 5297, 'duties': 5298, 'insider': 5299, 'merge': 5300, 'michaels': 5301, 'osama': 5302, 'amnesty': 5303, 'drill': 5304, 'harbor': 5305, 'pollution': 5306, 'implementation': 5307, 'defeating': 5308, 'covering': 5309, 'document': 5310, 'difference': 5311, 'operational': 5312, 'pensions': 5313, 'fresno': 5314, 'badly': 5315, 'robber': 5316, 'bolster': 5317, 'pledge': 5318, 'seniors': 5319, 'enable': 5320, 'sit': 5321, 'floyd': 5322, 'views': 5323, 'wounds': 5324, 'sanchez': 5325, 'barnes': 5326, 'amitabh': 5327, 'oath': 5328, 'focusing': 5329, 'responding': 5330, 'weighed': 5331, 'norfolk': 5332, 'pa': 5333, 'achieve': 5334, 'suisse': 5335, 'volatile': 5336, 'beyonce': 5337, 'lifts': 5338, 'boxer': 5339, 'eliminated': 5340, 'publication': 5341, 'simply': 5342, 'shoes': 5343, 'remembered': 5344, '22yearold': 5345, 'confessed': 5346, 'likes': 5347, 'nurses': 5348, 'tesco': 5349, 'kicking': 5350, 'wings': 5351, 'seconds': 5352, 'tentative': 5353, 'sc': 5354, 'strain': 5355, 'nrl': 5356, 'gallery': 5357, 'mad': 5358, '18th': 5359, 'cement': 5360, 'speedway': 5361, 'disciplinary': 5362, 'dawn': 5363, 'subscribers': 5364, 'grave': 5365, 'oak': 5366, 'austria': 5367, 'assured': 5368, 'tens': 5369, 'yellow': 5370, 'ca': 5371, 'numerous': 5372, 'apr': 5373, 'rubber': 5374, 'serena': 5375, 'heroes': 5376, 'bankers': 5377, 'amber': 5378, 'availability': 5379, 'tibet': 5380, 'severely': 5381, 'selects': 5382, 'speeding': 5383, 'bath': 5384, 'institution': 5385, 'triggered': 5386, 'inspection': 5387, 'loved': 5388, 'socalled': 5389, 'couldnt': 5390, 'comic': 5391, 'spy': 5392, 'albert': 5393, 'colts': 5394, 'restraining': 5395, 'beta': 5396, 'denmark': 5397, 'recruit': 5398, 'elephant': 5399, 'encourage': 5400, 'longest': 5401, 'insurgents': 5402, 'horror': 5403, 'spreading': 5404, 'employer': 5405, 'retain': 5406, 'emerge': 5407, 'hijacked': 5408, 'supermodel': 5409, 'riot': 5410, 'bachmann': 5411, 'nude': 5412, 'electoral': 5413, 'strategies': 5414, '13th': 5415, 'christchurch': 5416, 'nz': 5417, 'climb': 5418, 'blacks': 5419, 'l': 5420, 'gate': 5421, 'scoring': 5422, 'autopsy': 5423, 'richardson': 5424, 'reverse': 5425, 'domain': 5426, 'qualify': 5427, 'ipl': 5428, 'leagues': 5429, 'fulham': 5430, 'ecommerce': 5431, 'substance': 5432, 'mccarthy': 5433, 'cardiac': 5434, 'crossed': 5435, 'cues': 5436, 'creator': 5437, 'overdose': 5438, '101': 5439, 'nonprofit': 5440, 'gear': 5441, 'bosses': 5442, 'equal': 5443, 'yard': 5444, 'trump': 5445, 'taipei': 5446, 'albany': 5447, 'itunes': 5448, 'nurse': 5449, 'layoffs': 5450, 'resigning': 5451, 'clearing': 5452, 'herald': 5453, 'charging': 5454, 'accounting': 5455, 'sindh': 5456, 'torn': 5457, 'turner': 5458, 'hathaway': 5459, 'welsh': 5460, 'appointments': 5461, 'naomi': 5462, 'largely': 5463, 'vince': 5464, 'suu': 5465, 'flow': 5466, 'withdrew': 5467, 'horses': 5468, 'angela': 5469, 'narrowly': 5470, 'composer': 5471, 'occasion': 5472, 'appearing': 5473, 'modest': 5474, 'eds': 5475, 'tragedy': 5476, 'writers': 5477, 'andhra': 5478, 'behalf': 5479, 'infringement': 5480, 'vacation': 5481, 'vicepresident': 5482, 'silvio': 5483, 'starbucks': 5484, 'hazare': 5485, 'jakarta': 5486, 'protesting': 5487, 'rocky': 5488, 'sap': 5489, 'newark': 5490, 'jamaica': 5491, 'renowned': 5492, 'depot': 5493, 'mainly': 5494, 'portal': 5495, 'walter': 5496, 'lab': 5497, 'regrets': 5498, 'thriller': 5499, 'genetic': 5500, 'creates': 5501, 'routine': 5502, 'vulnerable': 5503, 'sierra': 5504, 'wifi': 5505, 'bryan': 5506, 'finishing': 5507, 'gillard': 5508, 'scientist': 5509, 'underground': 5510, 'privately': 5511, 'lowered': 5512, 'responded': 5513, 'bang': 5514, 'ashes': 5515, 'indefinite': 5516, 'harrison': 5517, 'bruins': 5518, 'correspondent': 5519, 'romantic': 5520, 'certification': 5521, 'koreas': 5522, 'wade': 5523, 'ethics': 5524, 'explosive': 5525, 'bullock': 5526, '25yearold': 5527, 'belt': 5528, 'corn': 5529, 'voter': 5530, 'conrad': 5531, 'shoe': 5532, 'frontier': 5533, 'canal': 5534, 'cricketer': 5535, 'mohammad': 5536, 'indecent': 5537, 'chronic': 5538, 'dirty': 5539, 'arthur': 5540, 'ultimate': 5541, 'relay': 5542, 'expensive': 5543, 'autism': 5544, 'mohamed': 5545, 'deported': 5546, 'substantial': 5547, 'g': 5548, 'desperate': 5549, 'knot': 5550, 'reconciliation': 5551, 'thinking': 5552, 'theme': 5553, 'throat': 5554, 'kyi': 5555, '750': 5556, 'na': 5557, 'muammar': 5558, 'offenders': 5559, 'admitting': 5560, 'overturned': 5561, 'influential': 5562, 'antigovernment': 5563, 'resulted': 5564, 'thousand': 5565, 'affecting': 5566, 'turkmenistan': 5567, 'originally': 5568, 'chargers': 5569, 'intensive': 5570, 'th': 5571, 'glasgow': 5572, 'adrian': 5573, 'hiding': 5574, 'cooperate': 5575, 'catherine': 5576, 'reiterated': 5577, 'waived': 5578, 'colleagues': 5579, 'prosecution': 5580, 'qb': 5581, 'recruitment': 5582, 'noel': 5583, 'personality': 5584, 'controlled': 5585, 'ventures': 5586, 'mayer': 5587, 'carpet': 5588, 'struggles': 5589, 'sorry': 5590, 'economist': 5591, 'apps': 5592, '7th': 5593, 'blocks': 5594, 'nasdaq': 5595, '18yearold': 5596, 'oprah': 5597, 'aiming': 5598, 'rovers': 5599, 'insisting': 5600, 'camps': 5601, 'transmission': 5602, 'raja': 5603, 'talked': 5604, 'discussions': 5605, 'singing': 5606, 'compromise': 5607, 'willing': 5608, 'drives': 5609, 'mariah': 5610, 'thomson': 5611, 'doubt': 5612, 'rankings': 5613, 'yuan': 5614, 'bros': 5615, 'wouldnt': 5616, 'fought': 5617, 'hartford': 5618, 'blockbuster': 5619, 'miner': 5620, 'alberto': 5621, 'extradition': 5622, 'manning': 5623, 'prompted': 5624, 'finances': 5625, 'disappointed': 5626, 'imran': 5627, 'splits': 5628, 'nile': 5629, 'contribution': 5630, 'diving': 5631, 'cardiff': 5632, 'navigation': 5633, 'exporters': 5634, 'delivering': 5635, 'miranda': 5636, 'tmobile': 5637, 'vanessa': 5638, 'framework': 5639, 'plate': 5640, 'civic': 5641, 'edinburgh': 5642, 'teammates': 5643, 'risen': 5644, 'giffords': 5645, 'logo': 5646, 'arraigned': 5647, 'pack': 5648, 'heavily': 5649, 'shield': 5650, 'mogul': 5651, 'maintained': 5652, 'booked': 5653, 'carson': 5654, 'chair': 5655, 'diaz': 5656, 'attractive': 5657, 'joel': 5658, 'grace': 5659, 'extensive': 5660, '911': 5661, 'rbi': 5662, 'lambert': 5663, 'rudd': 5664, 'challenged': 5665, 'jane': 5666, 'quebec': 5667, 'tunisia': 5668, 'renews': 5669, 'lloyd': 5670, 'et': 5671, 'excessive': 5672, 'ports': 5673, 'palmer': 5674, 'suggest': 5675, 'metropolitan': 5676, 'mountains': 5677, 'benjamin': 5678, 'genocide': 5679, '3g': 5680, 'sheffield': 5681, 'richards': 5682, 'cream': 5683, 'procedure': 5684, 'orissa': 5685, 'toss': 5686, 'manuel': 5687, 'cornerback': 5688, 'sensitive': 5689, 'woes': 5690, 'maruti': 5691, 'romance': 5692, 'ideas': 5693, 'reliever': 5694, 'universe': 5695, 'tension': 5696, 'pratt': 5697, 'glenn': 5698, 'petersburg': 5699, 'duo': 5700, 'acquisitions': 5701, 'lahore': 5702, 'reward': 5703, 'lisa': 5704, 'choose': 5705, '23yearold': 5706, 'broker': 5707, 'urge': 5708, '4g': 5709, 'rainfall': 5710, 'f': 5711, 'kid': 5712, 'boulevard': 5713, 'tucson': 5714, 'depp': 5715, 'crush': 5716, 'finale': 5717, 'concept': 5718, 'natalie': 5719, '93': 5720, 'meant': 5721, 'statue': 5722, 'settles': 5723, 'platinum': 5724, 'filled': 5725, 'contractors': 5726, 'boosting': 5727, 'mum': 5728, 'lessons': 5729, 'essential': 5730, 'criminals': 5731, 'harvest': 5732, 'spiritual': 5733, 'whos': 5734, 'railways': 5735, 'keys': 5736, 'tonights': 5737, 'thin': 5738, 'intent': 5739, 'des': 5740, 'geneva': 5741, 'os': 5742, 'vincent': 5743, 'economists': 5744, 'harvard': 5745, 'campaigns': 5746, 'tulsa': 5747, 'outsourcing': 5748, 'bowler': 5749, 'planet': 5750, 'logistics': 5751, 'amtrak': 5752, 'janata': 5753, 'install': 5754, 'newport': 5755, 'trainer': 5756, 'parked': 5757, 'firearms': 5758, 'lineman': 5759, 'secures': 5760, 'trooper': 5761, 'medicare': 5762, 'govt': 5763, 'journey': 5764, 'handling': 5765, 'pose': 5766, 'capabilities': 5767, 'footballer': 5768, 'jean': 5769, 'cemetery': 5770, 'discover': 5771, 'concerts': 5772, 'tinto': 5773, 'licenses': 5774, 'policemen': 5775, 'essex': 5776, 'glen': 5777, 'brooks': 5778, 'checkpoint': 5779, 'disorder': 5780, 'bolt': 5781, 'circle': 5782, 'baker': 5783, 'possessing': 5784, 'remake': 5785, 'villages': 5786, 'blagojevich': 5787, 'tractor': 5788, 'bharti': 5789, 'apologises': 5790, 'ecuador': 5791, 'durham': 5792, 'mortgages': 5793, 'mo': 5794, 'doubleheader': 5795, 'ucla': 5796, 'explore': 5797, 'wyoming': 5798, 'stemming': 5799, 'karl': 5800, 'mercury': 5801, 'boyle': 5802, 'deployed': 5803, 'addressing': 5804, 'bust': 5805, '17th': 5806, 'partially': 5807, 'outage': 5808, 'nyc': 5809, 'exwife': 5810, 'margin': 5811, 'brokerage': 5812, 'suburb': 5813, 'transparency': 5814, 'explain': 5815, 'bhp': 5816, 'cheap': 5817, 'bonuses': 5818, 'trends': 5819, 'ryder': 5820, 'omar': 5821, 'encouraged': 5822, 'gdp': 5823, 'startup': 5824, 'sentencing': 5825, 'cuomo': 5826, 'represent': 5827, 'touched': 5828, 'molestation': 5829, 'contribute': 5830, 'dress': 5831, 'meters': 5832, 'bout': 5833, 'vermont': 5834, 'policeman': 5835, 'picking': 5836, 'ipo': 5837, 'server': 5838, 'radical': 5839, 'politician': 5840, 'londons': 5841, 'cruises': 5842, 'carrie': 5843, 'headon': 5844, 'knicks': 5845, 'miliband': 5846, 'doherty': 5847, 'donation': 5848, 'airtel': 5849, 'proved': 5850, 'wonder': 5851, 'liquidity': 5852, 'fights': 5853, 'tripoli': 5854, 'grounds': 5855, 'excited': 5856, 'ethiopia': 5857, 'walsh': 5858, 'silicon': 5859, 'barn': 5860, 'issuing': 5861, 'fantasy': 5862, 'gardens': 5863, 'riley': 5864, 'singles': 5865, 'ivory': 5866, 'listing': 5867, 'apples': 5868, 'paise': 5869, 'halted': 5870, 'experienced': 5871, 'jumping': 5872, 'slated': 5873, 'devastating': 5874, 'mclaren': 5875, 'expelled': 5876, 'ave': 5877, 'gray': 5878, 'calm': 5879, 'violated': 5880, 'profile': 5881, 'slain': 5882, 'lets': 5883, 'bancorp': 5884, 'courses': 5885, 'derek': 5886, 'skype': 5887, 'betty': 5888, 'foreigners': 5889, 'sec': 5890, 'myers': 5891, 'johansson': 5892, 'protected': 5893, 'superintendent': 5894, 'tap': 5895, 'jintao': 5896, 'hd': 5897, 'va': 5898, 'activated': 5899, 'extraordinary': 5900, 'moodys': 5901, 'cannabis': 5902, 'salaries': 5903, 'soaring': 5904, 'magistrates': 5905, 'juvenile': 5906, 'owns': 5907, 'yorkshire': 5908, 'revealing': 5909, 'exchanges': 5910, '//www': 5911, 'rays': 5912, 'strengthening': 5913, 'portion': 5914, 'travelling': 5915, 'fathers': 5916, 'promotions': 5917, 'exciting': 5918, 'pursue': 5919, 'tsvangirai': 5920, 'wallace': 5921, 'optimistic': 5922, 'paterson': 5923, 'surface': 5924, 'strict': 5925, 'mae': 5926, 'concrete': 5927, 'orchestra': 5928, 'complications': 5929, 'covered': 5930, 'survivors': 5931, 'grown': 5932, 'imported': 5933, 'backup': 5934, 'peterson': 5935, 'conn': 5936, 'destroy': 5937, 'lucas': 5938, 'zambia': 5939, 'longoria': 5940, 'shark': 5941, 'mamata': 5942, 'threaten': 5943, 'dismisses': 5944, 'households': 5945, 'organisers': 5946, '05': 5947, 'newborn': 5948, 'safely': 5949, 'vendor': 5950, 'sudden': 5951, 'buffett': 5952, 'unified': 5953, 'autumn': 5954, 'australians': 5955, 'carroll': 5956, 'qualified': 5957, 'christians': 5958, 'stuart': 5959, 'windsor': 5960, 'plaza': 5961, 'maple': 5962, 'englands': 5963, 'travis': 5964, 'courthouse': 5965, '30yearold': 5966, 'rehman': 5967, 'ios': 5968, 'praise': 5969, 'fred': 5970, 'rockies': 5971, 'bottle': 5972, 'colombo': 5973, 'format': 5974, 'recovers': 5975, 'grows': 5976, 'scarlett': 5977, 'lashed': 5978, 'cats': 5979, 'sluggish': 5980, 'brutal': 5981, 'ally': 5982, 'participants': 5983, 'kenyan': 5984, 'richie': 5985, 'morris': 5986, 'knows': 5987, 'bangkok': 5988, 'elite': 5989, 'productivity': 5990, 'historical': 5991, 'connect': 5992, 'enjoyed': 5993, 'fierce': 5994, 'percentage': 5995, 'boards': 5996, 'chopra': 5997, 'partial': 5998, '2000': 5999, 'deployment': 6000, 'walks': 6001, 'investigations': 6002, 'sudanese': 6003, 'contained': 6004, 'fabio': 6005, 'lsu': 6006, 'boris': 6007, 'swansea': 6008, 'consultancy': 6009, 'button': 6010, 'buyout': 6011, 'hamstring': 6012, 'debts': 6013, 'wishes': 6014, 'coroner': 6015, 'henderson': 6016, 'tougher': 6017, 'di': 6018, 'arrival': 6019, 'shootings': 6020, 'taxpayers': 6021, 'yousuf': 6022, 'lie': 6023, 'du': 6024, 'racial': 6025, 'lebron': 6026, 'religion': 6027, 'whale': 6028, 'stateowned': 6029, 'endorsement': 6030, 'ppp': 6031, 'hindu': 6032, 'strausskahn': 6033, 'hospitalised': 6034, 'stevens': 6035, 'tire': 6036, 'grass': 6037, 'invites': 6038, 'turbine': 6039, 'gathering': 6040, 'bullet': 6041, 'shipments': 6042, 'rapidly': 6043, 'leicester': 6044, 'projected': 6045, 'acquiring': 6046, 'advisers': 6047, 'housewives': 6048, 'kingston': 6049, 'favour': 6050, 'favre': 6051, 'sweet': 6052, 'pretax': 6053, 'winnipeg': 6054, 'gifts': 6055, 'theyve': 6056, 'burst': 6057, 'segment': 6058, 'proceeds': 6059, 'proper': 6060, 'answers': 6061, 'punched': 6062, 'obrien': 6063, 'laundering': 6064, 'alleging': 6065, 'fever': 6066, 'container': 6067, '14th': 6068, 'joy': 6069, 'cain': 6070, 'allies': 6071, 'patil': 6072, 'expo': 6073, 'maintains': 6074, 'pierce': 6075, 'thunder': 6076, 'plunge': 6077, 'cycle': 6078, 'minn': 6079, 'specific': 6080, 'symbol': 6081, 'reception': 6082, 'disputes': 6083, 'wheel': 6084, 'tumbled': 6085, 'webber': 6086, 'unconscious': 6087, 'fouryear': 6088, 'ailing': 6089, 'quest': 6090, '2020': 6091, 'dayton': 6092, 'soil': 6093, 'aguilera': 6094, 'usbased': 6095, 'sydneys': 6096, 'goa': 6097, 'nets': 6098, 'seal': 6099, 'laura': 6100, 'tumor': 6101, 'degrees': 6102, 'robbers': 6103, 'reduces': 6104, 'bribery': 6105, 'torture': 6106, 'minogue': 6107, 'treasurer': 6108, 'castle': 6109, 'satyam': 6110, 'twotime': 6111, 'displaced': 6112, '15th': 6113, 'reckless': 6114, 'carlisle': 6115, '14yearold': 6116, 'rebuild': 6117, '28yearold': 6118, 'istanbul': 6119, 'mysterious': 6120, 'fruit': 6121, 'carnival': 6122, 'aol': 6123, 'patents': 6124, 'bullish': 6125, 'develops': 6126, 'purchased': 6127, 'djokovic': 6128, 'stick': 6129, 'midday': 6130, 'crane': 6131, 'valencia': 6132, 'xi': 6133, 'defamation': 6134, 'holders': 6135, 'thunderstorm': 6136, 'traveling': 6137, 'completing': 6138, 'buzz': 6139, 'kg': 6140, 'oxford': 6141, 'hurricanes': 6142, 'components': 6143, 'maintaining': 6144, 'function': 6145, 'gps': 6146, 'sanjay': 6147, 'arsene': 6148, 'hanged': 6149, 'bennett': 6150, 'honors': 6151, 'ronnie': 6152, 'thackeray': 6153, 'hosni': 6154, 'posed': 6155, 'malta': 6156, 'solidarity': 6157, 'encouraging': 6158, 'else': 6159, 'holder': 6160, 'method': 6161, 'barton': 6162, 'quitting': 6163, 'videos': 6164, 'weve': 6165, 'spoken': 6166, 'mavericks': 6167, '3rd': 6168, 'sleeping': 6169, 'www': 6170, 'secondlargest': 6171, 'impose': 6172, 'pressures': 6173, 'ladies': 6174, 'seem': 6175, 'bombings': 6176, 'bundesliga': 6177, 'astronaut': 6178, 'circumstances': 6179, 'detective': 6180, 'spell': 6181, 'intention': 6182, 'compact': 6183, 'saskatchewan': 6184, 'require': 6185, 'solve': 6186, 'maps': 6187, 'dengue': 6188, 'wickets': 6189, 'consensus': 6190, 'h': 6191, 'rounds': 6192, 'serie': 6193, 'overweight': 6194, 'megan': 6195, 'panasonic': 6196, 'canyon': 6197, 'rajya': 6198, '125': 6199, 'hamburg': 6200, 'o': 6201, 'ge': 6202, 'hornets': 6203, 'dpa': 6204, 'arent': 6205, 'excellent': 6206, 'narendra': 6207, 'trevor': 6208, 'margaret': 6209, 'counter': 6210, 'reynolds': 6211, 'handle': 6212, 'gym': 6213, 'uganda': 6214, 'hunters': 6215, 'effectively': 6216, 'exactly': 6217, 'nicki': 6218, 'stressed': 6219, 'cooperative': 6220, 'associate': 6221, 'restructure': 6222, 'rebounded': 6223, 'perhaps': 6224, 'marketplace': 6225, 'accusations': 6226, 'toys': 6227, 'seconddegree': 6228, 'carmaker': 6229, 'vietnamese': 6230, 'legs': 6231, 'jp': 6232, 'hammer': 6233, 'blew': 6234, '160': 6235, 'stretch': 6236, 'cannon': 6237, 'dhoni': 6238, 'daytona': 6239, 'referee': 6240, '450': 6241, 'advani': 6242, 'benitez': 6243, 'niagara': 6244, 'voluntarily': 6245, 'ballots': 6246, 'helicopters': 6247, 'yoga': 6248, 'dominique': 6249, 'lobby': 6250, 'survives': 6251, 'typhoon': 6252, 'governing': 6253, 'spice': 6254, 'providence': 6255, 'qualifier': 6256, 'jockey': 6257, 'mlb': 6258, 'spree': 6259, 'gilbert': 6260, 'generate': 6261, 'donate': 6262, 'md': 6263, 'crazy': 6264, 'spin': 6265, 'sharon': 6266, 'inspector': 6267, 'workplace': 6268, 'decides': 6269, 'particular': 6270, 'ellen': 6271, 'faculty': 6272, 'lockout': 6273, 'minaj': 6274, 'origin': 6275, 'implemented': 6276, 'interbank': 6277, 'surprised': 6278, 'vick': 6279, 'bengals': 6280, 'beatles': 6281, '2016': 6282, 'performances': 6283, 'aden': 6284, 'schemes': 6285, 'flyers': 6286, 'hawks': 6287, 'acclaimed': 6288, 'exgirlfriend': 6289, 'reunited': 6290, 'dominican': 6291, 'shocking': 6292, 'humans': 6293, 'contributions': 6294, 'struggled': 6295, 'bold': 6296, 'rukh': 6297, 'enjoying': 6298, 'contender': 6299, 'brent': 6300, 'baptist': 6301, 'mandate': 6302, 'hikes': 6303, 'dying': 6304, 'removal': 6305, 'jayz': 6306, 'kidnap': 6307, 'riverside': 6308, 'swings': 6309, 'mph': 6310, 'sena': 6311, 'lyon': 6312, 'chuck': 6313, 'winfrey': 6314, 'doug': 6315, 'brook': 6316, 'boom': 6317, 'leonardo': 6318, 'incumbent': 6319, '140': 6320, 'nice': 6321, 'rough': 6322, 'improvements': 6323, 'powell': 6324, 'macedonia': 6325, 'revive': 6326, 'retreat': 6327, 'hostile': 6328, 'programmes': 6329, 'swung': 6330, 'jharkhand': 6331, 'manila': 6332, 'suppliers': 6333, 'santos': 6334, 'prepaid': 6335, 'amazing': 6336, 'lieutenant': 6337, 'ages': 6338, 'stories': 6339, 'mistakes': 6340, 'repeal': 6341, 'noted': 6342, 'engines': 6343, 'tel': 6344, 'molesting': 6345, 'cristiano': 6346, 'ranch': 6347, 'utilities': 6348, 'pond': 6349, 'mainland': 6350, 'addressed': 6351, 'satellites': 6352, '2002': 6353, '180': 6354, 'marlins': 6355, 'shuts': 6356, 'mouth': 6357, 'mosque': 6358, 'km': 6359, 'aussie': 6360, 'analytics': 6361, 'huntington': 6362, 'sometimes': 6363, 'chat': 6364, 'dvd': 6365, 'breakthrough': 6366, 'astros': 6367, 'canucks': 6368, 'metres': 6369, 'halle': 6370, 'relating': 6371, 'wolf': 6372, 'suddenly': 6373, 'checked': 6374, 'celebrities': 6375, 'inappropriate': 6376, 'portuguese': 6377, 'participating': 6378, 'blasted': 6379, 'absolutely': 6380, 'appealed': 6381, 'cox': 6382, 'intended': 6383, 'councillor': 6384, 'thief': 6385, 'councillors': 6386, 'offseason': 6387, 'abused': 6388, 'fleeing': 6389, '225': 6390, 'oasis': 6391, 'associates': 6392, 'efficient': 6393, 'timothy': 6394, 'hed': 6395, 'resulting': 6396, 'riders': 6397, 'bridges': 6398, 'credits': 6399, 'plenty': 6400, 'hackers': 6401, 'pointed': 6402, 'stunning': 6403, 'sergio': 6404, 'precious': 6405, 'troy': 6406, 'calendar': 6407, 'polling': 6408, 'duncan': 6409, 'fate': 6410, 'vehicular': 6411, 'collected': 6412, 'map': 6413, 'farewell': 6414, 'equality': 6415, 'strengthens': 6416, 'repeatedly': 6417, 'stern': 6418, 'witherspoon': 6419, 'apartments': 6420, 'sofia': 6421, 'invests': 6422, 'marries': 6423, 'victor': 6424, 'hidden': 6425, 'countys': 6426, 't': 6427, 'collective': 6428, 'sponsorship': 6429, 'medium': 6430, 'self': 6431, 'counterparts': 6432, '4th': 6433, 'europa': 6434, 'hezbollah': 6435, 'jaguars': 6436, 'destinations': 6437, 'muscle': 6438, 'associations': 6439, 'assessment': 6440, 'dreams': 6441, 'globally': 6442, 'garbage': 6443, 'vijay': 6444, 'borough': 6445, 'quarterfinal': 6446, 'unusual': 6447, 'deciding': 6448, 'facilitate': 6449, 'sting': 6450, 'creditors': 6451, 'plotting': 6452, 'seekers': 6453, 'heather': 6454, 'avalanche': 6455, 'presenter': 6456, 'youngest': 6457, 'monica': 6458, 'burglar': 6459, 'zones': 6460, 'turkeys': 6461, 'resorts': 6462, 'oscarwinning': 6463, 'distribute': 6464, 'gosselin': 6465, 'steam': 6466, 'outperform': 6467, 'rover': 6468, 'presentation': 6469, 'advocates': 6470, 'gender': 6471, 'retains': 6472, 'nyse': 6473, 'builder': 6474, 'hopkins': 6475, 'stomach': 6476, 'ash': 6477, 'underage': 6478, 'zsa': 6479, 'stoke': 6480, 'pune': 6481, 'grenade': 6482, 'banning': 6483, 'ranking': 6484, 'pipe': 6485, 'prayer': 6486, 'batch': 6487, 'permit': 6488, 'connected': 6489, 'declaring': 6490, 'invitational': 6491, 'convertible': 6492, 'excellence': 6493, 'load': 6494, 'aerospace': 6495, 'sheet': 6496, 'myspace': 6497, 'saves': 6498, 'shutdown': 6499, 'volatility': 6500, 'truth': 6501, 'dragged': 6502, 'certificate': 6503, 'organizers': 6504, 'yesterdays': 6505, 'plymouth': 6506, 'finishes': 6507, 'sharapova': 6508, 'generic': 6509, 'railroad': 6510, 'firstquarter': 6511, 'goodwill': 6512, 'withdrawal': 6513, 'dip': 6514, 'homeland': 6515, 'distributed': 6516, 'fda': 6517, 'etihad': 6518, 'youngsters': 6519, 'wilmington': 6520, 'monsoon': 6521, 'spains': 6522, 'herman': 6523, '96': 6524, 'briefing': 6525, 'coma': 6526, 'perez': 6527, 'bitter': 6528, 'germanys': 6529, 'kyrgyz': 6530, 'battled': 6531, 'pitches': 6532, 'tattoo': 6533, 'seasonal': 6534, 'outages': 6535, 'holland': 6536, 'opposite': 6537, 'raul': 6538, '16yearold': 6539, 'banerjee': 6540, 'underwood': 6541, 'warrants': 6542, 'andrews': 6543, 'reese': 6544, 'desktop': 6545, 'clears': 6546, 'sparks': 6547, 'eases': 6548, 'constable': 6549, 'testify': 6550, 'israels': 6551, 'slovenia': 6552, 'wii': 6553, 'kobe': 6554, 'bounced': 6555, 'revival': 6556, 'reunion': 6557, 'multimillion': 6558, 'batting': 6559, 'priced': 6560, 'anonymous': 6561, 'altercation': 6562, 'guests': 6563, 'approached': 6564, 'coyotes': 6565, 'soap': 6566, 'cellular': 6567, 'nuggets': 6568, 'addresses': 6569, 'ducks': 6570, 'humphries': 6571, 'regain': 6572, 'simmons': 6573, 'packages': 6574, 'gig': 6575, 'frances': 6576, 'comfortable': 6577, 'crawford': 6578, 'guardian': 6579, 'matters': 6580, 'assassination': 6581, 'cheated': 6582, 'covers': 6583, 'nikkei': 6584, 'katrina': 6585, 'toy': 6586, 'noble': 6587, '30th': 6588, 'rifle': 6589, 'freshman': 6590, 'medicaid': 6591, 'meals': 6592, 'marie': 6593, 'swan': 6594, 'repairs': 6595, 'tweet': 6596, 'spray': 6597, 'invested': 6598, 'unite': 6599, 'jun': 6600, 'vettel': 6601, 'coral': 6602, 'lauren': 6603, 'ambitious': 6604, 'exhusband': 6605, 'medicines': 6606, 'shortfall': 6607, 'foul': 6608, '40th': 6609, 'bombers': 6610, 'radiation': 6611, 'marginally': 6612, 'replaces': 6613, 'mourinho': 6614, 'tear': 6615, 'rogue': 6616, 'belfast': 6617, 'bee': 6618, 'cia': 6619, 'adopts': 6620, 'ferdinand': 6621, 'hails': 6622, 'congratulates': 6623, 'salvation': 6624, 'greenhouse': 6625, 'administrators': 6626, 'helen': 6627, 'arriving': 6628, 'lawsuits': 6629, 'dogg': 6630, 'buyer': 6631, 'ryanair': 6632, 'taste': 6633, 'nose': 6634, 'challenger': 6635, 'kirk': 6636, 'cage': 6637, 'steep': 6638, 'merrill': 6639, 'toledo': 6640, 'institutional': 6641, '9/11': 6642, 'khalifa': 6643, 'maiden': 6644, 'greene': 6645, 'erupted': 6646, 'adoption': 6647, 'meaning': 6648, 'amsterdam': 6649, 'brawl': 6650, 'explains': 6651, 'imprisonment': 6652, 'nd': 6653, 'empty': 6654, 'shortstop': 6655, 'detectives': 6656, 'reject': 6657, 'alqaida': 6658, 'diamondbacks': 6659, 'shutting': 6660, 'novak': 6661, 'printing': 6662, 'fisherman': 6663, 'itv': 6664, 'sidelines': 6665, 'wbc': 6666, 'introducing': 6667, 'capello': 6668, 'falcons': 6669, 'dump': 6670, 'notre': 6671, 'recognize': 6672, 'rwanda': 6673, 'roma': 6674, 'oppose': 6675, 'bruno': 6676, 'volkswagen': 6677, 'toxic': 6678, 'reunite': 6679, 'sexy': 6680, 'municipality': 6681, 'sanford': 6682, 'alley': 6683, 'fractured': 6684, '15yearold': 6685, 'travelers': 6686, 'isle': 6687, 'beaches': 6688, 'malaria': 6689, 'oliver': 6690, 'fiat': 6691, 'bend': 6692, 'rescues': 6693, 'draws': 6694, 'earns': 6695, 'hundred': 6696, 'wet': 6697, 'rhode': 6698, 'thus': 6699, 'oneal': 6700, 'offerings': 6701, 'joey': 6702, 'snoop': 6703, 'dragon': 6704, 'disorderly': 6705, 'smash': 6706, 'floating': 6707, 'wounding': 6708, 'combine': 6709, 'trigger': 6710, 'uncertain': 6711, 'gerard': 6712, 'sidelined': 6713, 'broking': 6714, 'mistake': 6715, 'gala': 6716, 'forecasters': 6717, 'economics': 6718, 'exclusively': 6719, 'questioning': 6720, 'wash': 6721, 'bankrupt': 6722, 'hinted': 6723, 'secrets': 6724, 'panels': 6725, 'permanently': 6726, 'inventories': 6727, '26yearold': 6728, 'roots': 6729, 'paulo': 6730, 'pursuit': 6731, 'rd': 6732, 'croatia': 6733, 'ditch': 6734, 'reputation': 6735, 'coup': 6736, 'gubernatorial': 6737, 'appropriate': 6738, 'halifax': 6739, 'immigrant': 6740, 'bailey': 6741, 'sponsored': 6742, 'transactions': 6743, '19th': 6744, 'hungarian': 6745, 'sweeping': 6746, 'patel': 6747, 'cops': 6748, 'rev': 6749, 'mate': 6750, 'surcharge': 6751, 'coventry': 6752, 'claire': 6753, 'somerset': 6754, 'bright': 6755, 'spends': 6756, 'weakens': 6757, 'bhd': 6758, 'frankfurt': 6759, 'scholarship': 6760, 'micro': 6761, 'snap': 6762, '97': 6763, 'edges': 6764, 'compound': 6765, 'suffolk': 6766, 'disabilities': 6767, 'disrupted': 6768, 'restart': 6769, 'tevez': 6770, 'hernandez': 6771, 'tragic': 6772, 'damaging': 6773, 'singers': 6774, 'garcia': 6775, 'congratulated': 6776, 'rap': 6777, 'padres': 6778, 'preserve': 6779, 'horizon': 6780, 'guitar': 6781, 'raids': 6782, 'harvey': 6783, 'penalties': 6784, 'generals': 6785, 'pearl': 6786, 'grandmother': 6787, 'wider': 6788, '21st': 6789, 'lloyds': 6790, 'epic': 6791, 'aaa': 6792, 'laser': 6793, 'tenn': 6794, 'dhaka': 6795, 'satisfaction': 6796, 'nova': 6797, 'renault': 6798, 'engage': 6799, 'reference': 6800, 'restricted': 6801, 'forming': 6802, 'demonstrators': 6803, 'mansion': 6804, 'janet': 6805, 'assad': 6806, 'revenge': 6807, 'snapped': 6808, 'parkway': 6809, 'f1': 6810, 'popularity': 6811, 'neglect': 6812, 'moments': 6813, 'gossip': 6814, 'harbour': 6815, 'albums': 6816, 'reorganization': 6817, 'instruments': 6818, 'remanded': 6819, 'lays': 6820, 'reflecting': 6821, 'bet': 6822, 'slight': 6823, 'toilet': 6824, 'handset': 6825, 'stanford': 6826, 'erie': 6827, 'da': 6828, 'committees': 6829, 'smashed': 6830, 'klum': 6831, 'lock': 6832, 'messaging': 6833, 'loose': 6834, 'confrontation': 6835, 'usc': 6836, 'symptoms': 6837, 'faulty': 6838, 'kraft': 6839, 'stamford': 6840, 'arlington': 6841, 'specifically': 6842, 'legislators': 6843, 'thank': 6844, 'hassan': 6845, 'eventually': 6846, 'shaun': 6847, 'pages': 6848, 'reactor': 6849, 'humanity': 6850, 'ea': 6851, 'coronation': 6852, 'clippers': 6853, 'packed': 6854, 'jd': 6855, 'wed': 6856, 'organic': 6857, 'battles': 6858, 'runoff': 6859, 'li': 6860, 'lighting': 6861, 'vernon': 6862, 'dominated': 6863, '23rd': 6864, 'apparel': 6865, 'drawn': 6866, 'quake': 6867, 'counsel': 6868, 'miguel': 6869, 'eyed': 6870, 'dressed': 6871, 'sank': 6872, 'automation': 6873, 'lanes': 6874, 'folk': 6875, 'caps': 6876, 'pets': 6877, 'egypts': 6878, 'devils': 6879, 'predicts': 6880, 'asean': 6881, 'poisoning': 6882, 'ethanol': 6883, 'mandatory': 6884, 'consequences': 6885, 'reinstated': 6886, 'busch': 6887, 'td': 6888, 'incentives': 6889, 'lowers': 6890, 'postpones': 6891, 'lionel': 6892, 'dylan': 6893, 'abduction': 6894, 'aung': 6895, 'subscription': 6896, 'rig': 6897, 'battered': 6898, 'orbit': 6899, 'submit': 6900, 'pine': 6901, 'krishna': 6902, 'chartered': 6903, 'poses': 6904, 'anil': 6905, 'mode': 6906, 'corrupt': 6907, 'surrender': 6908, 'evacuate': 6909, 'organisations': 6910, 'teeth': 6911, 'wrist': 6912, 'allocation': 6913, 'billiton': 6914, 'doubts': 6915, 'sat': 6916, 'recommendations': 6917, 'pistorius': 6918, 'opposed': 6919, 'accessories': 6920, 'sentences': 6921, 'gabrielle': 6922, 'chaos': 6923, 'courtney': 6924, 'volcano': 6925, '6th': 6926, 'bloody': 6927, 'wizards': 6928, 'burma': 6929, 'tip': 6930, 'robust': 6931, 'tanzania': 6932, 'vale': 6933, 'detected': 6934, 'observers': 6935, 'cocacola': 6936, 'mercedes': 6937, 'clayton': 6938, 'panthers': 6939, 'succeed': 6940, 'golfer': 6941, 'overtime': 6942, 'stood': 6943, 'kurdish': 6944, 'pensioner': 6945, 'donor': 6946, 'damon': 6947, 'bargain': 6948, 'installation': 6949, 'brokers': 6950, 'palestine': 6951, 'accreditation': 6952, 'cattle': 6953, 'gunshot': 6954, 'shocked': 6955, 'dutt': 6956, 'anger': 6957, 'walt': 6958, 'researcher': 6959, 'aamir': 6960, 'legacy': 6961, 'florence': 6962, 'rim': 6963, 'puppy': 6964, 'messi': 6965, 'childs': 6966, 'adele': 6967, '5th': 6968, 'sand': 6969, 'intense': 6970, 'integrity': 6971, 'widened': 6972, 'weakening': 6973, 'capitals': 6974, 'platforms': 6975, 'seng': 6976, 'mobility': 6977, 'barrier': 6978, 'heating': 6979, 'trained': 6980, 'laboratory': 6981, 'planting': 6982, 'prop': 6983, 'awaited': 6984, 'groin': 6985, 'triumph': 6986, 'showcase': 6987, 'graduates': 6988, 'villagers': 6989, 'felipe': 6990, 'bharatiya': 6991, 'subway': 6992, 'vienna': 6993, 'slowly': 6994, 'cavaliers': 6995, 'myself': 6996, 'propose': 6997, 'maradona': 6998, '15day': 6999, 'himachal': 7000, 'accra': 7001, 'ex': 7002, 'welterweight': 7003, 'concerning': 7004, 'unexpected': 7005, 'prairie': 7006, 'locker': 7007, 'hart': 7008, 'texans': 7009, 'collect': 7010, 'criticised': 7011, 'chips': 7012, 'o2': 7013, 'intellectual': 7014, 'hoped': 7015, 'marines': 7016, 'endangered': 7017, 'schumacher': 7018, 'mali': 7019, 'lte': 7020, 'posing': 7021, 'inauguration': 7022, 'gingrich': 7023, 'demolition': 7024, 'franco': 7025, 'hispanic': 7026, 'jackie': 7027, 'victorian': 7028, 'willie': 7029, 'minors': 7030, 'guinea': 7031, 'hayden': 7032, 'troopers': 7033, 'bombay': 7034, 'hat': 7035, 'addiction': 7036, 'ok': 7037, 'axe': 7038, 'relegation': 7039, 'lansing': 7040, 'earthquakes': 7041, 'sanders': 7042, 'eligible': 7043, 'nawaz': 7044, 'reaction': 7045, 'tradition': 7046, 'upa': 7047, 'unemployed': 7048, 'khloe': 7049, 'predict': 7050, 'moral': 7051, 'crosby': 7052, 'formation': 7053, 'riots': 7054, 'operated': 7055, 'cardinal': 7056, 'bret': 7057, 'bart': 7058, 'anthem': 7059, 'recommends': 7060, 'slows': 7061, 'wipro': 7062, 'expresses': 7063, 'accelerated': 7064, 'knox': 7065, 'sometime': 7066, 'flags': 7067, 'requested': 7068, 'highprofile': 7069, 'agreeing': 7070, 'pierre': 7071, 'javier': 7072, 'atletico': 7073, 'offense': 7074, 'shaw': 7075, 'facial': 7076, 'endeavour': 7077, 'ejected': 7078, 'competing': 7079, 'hodgson': 7080, 'consolidation': 7081, 'westminster': 7082, 'delighted': 7083, 'consortium': 7084, 'drake': 7085, 'ministries': 7086, 'iceland': 7087, 'narrow': 7088, 'subsidies': 7089, 'champ': 7090, 'enemy': 7091, 'macau': 7092, 'findings': 7093, 'nottingham': 7094, 'vampire': 7095, 'chilean': 7096, 'sabah': 7097, 'consultant': 7098, 'jointly': 7099, 'walters': 7100, 'difficulties': 7101, 'barrels': 7102, 'sara': 7103, 'pirate': 7104, 'downs': 7105, 'goaltender': 7106, 'flown': 7107, 'poors': 7108, 'paula': 7109, 'massacre': 7110, 'stalking': 7111, 'clemens': 7112, 'columnist': 7113, 'seri': 7114, 'procedures': 7115, 'wa': 7116, 'combination': 7117, 'dodge': 7118, 'spectacular': 7119, 'pointing': 7120, '49ers': 7121, 'lords': 7122, 'signals': 7123, 'fiery': 7124, 'adjusted': 7125, 'algeria': 7126, 'friendship': 7127, 'turnover': 7128, 'ledger': 7129, 'tracy': 7130, 'charities': 7131, 'contempt': 7132, 'profitability': 7133, 'climbing': 7134, 'firstdegree': 7135, 'abbey': 7136, 'marco': 7137, 'boosts': 7138, 'premiership': 7139, 'administrator': 7140, 'subsidiaries': 7141, 'hannah': 7142, 'mercy': 7143, 'nervous': 7144, 'protecting': 7145, 'astronauts': 7146, 'allrounder': 7147, 'belmont': 7148, 'explosives': 7149, 'reelected': 7150, 'spotlight': 7151, 'mayo': 7152, '2001': 7153, 'carlo': 7154, 'jorge': 7155, 'puerto': 7156, 'burlington': 7157, 'chrome': 7158, 'touring': 7159, 'sequel': 7160, 'scrapped': 7161, 'approaches': 7162, 'elements': 7163, 'fm': 7164, 'territorial': 7165, 'ipod': 7166, 'entrepreneurs': 7167, 'dicaprio': 7168, 'rage': 7169, 'chess': 7170, 'flee': 7171, 'merchant': 7172, 'islamist': 7173, 'panic': 7174, 'ounce': 7175, 'raleigh': 7176, 'scanner': 7177, 'exercises': 7178, 'ellis': 7179, 'programming': 7180, 'symphony': 7181, 'samantha': 7182, 'ana': 7183, 'geithner': 7184, 'introduction': 7185, 'vessels': 7186, 'skating': 7187, 'notices': 7188, 'valuable': 7189, 'berkeley': 7190, 'gonzalez': 7191, 'example': 7192, 'sweeps': 7193, '04': 7194, 'luck': 7195, 'killings': 7196, 'indeed': 7197, 'wr': 7198, 'balotelli': 7199, 'acid': 7200, 'rent': 7201, 'ftse': 7202, 'renovation': 7203, 'runner': 7204, 'griffin': 7205, 'flew': 7206, 'portman': 7207, 'wound': 7208, 'rodgers': 7209, 'dubbed': 7210, 'amidst': 7211, 'rory': 7212, 'marsh': 7213, 'asthma': 7214, 'setback': 7215, 'consolidate': 7216, 'manitoba': 7217, 'shahid': 7218, 'laying': 7219, 'explodes': 7220, 'strokes': 7221, 'proposing': 7222, 'repay': 7223, 'cheaper': 7224, 'isaac': 7225, 'indicating': 7226, 'ahmad': 7227, 'negotiating': 7228, 'libel': 7229, 'lawn': 7230, 'diana': 7231, 'dismissal': 7232, 'initially': 7233, 'indie': 7234, 'olmert': 7235, 'stating': 7236, 'ordinary': 7237, 'pancreatic': 7238, 'blackhawks': 7239, 'counterfeit': 7240, 'sum': 7241, 'us1': 7242, 'insurers': 7243, 'acute': 7244, 'speeds': 7245, 'grandfather': 7246, 'resolved': 7247, 'veto': 7248, 'painting': 7249, 'peters': 7250, 'minerals': 7251, 'inches': 7252, 'yadav': 7253, 'slid': 7254, 'mayweather': 7255, 'sanaa': 7256, 'interesting': 7257, '31yearold': 7258, 'lots': 7259, 'mw': 7260, 'desire': 7261, 'midland': 7262, 'clay': 7263, 'les': 7264, 'repeat': 7265, 'bucks': 7266, 'newt': 7267, 'studying': 7268, 'radcliffe': 7269, 'hide': 7270, 'imminent': 7271, 'redknapp': 7272, 'broader': 7273, 'earning': 7274, 'ashok': 7275, 'disruption': 7276, 'brendan': 7277, 'passport': 7278, 'pills': 7279, 'morrison': 7280, 'scout': 7281, 'critic': 7282, 'openly': 7283, 'gwyneth': 7284, 'paltrow': 7285, 'sunny': 7286, 'hiphop': 7287, 'jeffrey': 7288, 'commissions': 7289, 'exam': 7290, '+': 7291, 'maybe': 7292, 'capsized': 7293, 'mesa': 7294, 'trademark': 7295, 'discusses': 7296, 'heels': 7297, 'nitish': 7298, 'raymond': 7299, 'clegg': 7300, 'wen': 7301, 'reconstruction': 7302, 'biopic': 7303, 'afraid': 7304, 'yacht': 7305, 'impaired': 7306, 'blames': 7307, 'uniform': 7308, 'accountability': 7309, 'hewitt': 7310, 'zimbabwean': 7311, 'methods': 7312, 'accidental': 7313, 'disappeared': 7314, 'surgeon': 7315, 'duchess': 7316, 'tyson': 7317, 'brewer': 7318, 'yards': 7319, 'commissioned': 7320, 'reviewing': 7321, 'signature': 7322, 'kindle': 7323, 'cooking': 7324, 'minsk': 7325, 'magistrate': 7326, 'approaching': 7327, 'cal': 7328, 'alice': 7329, 'secretly': 7330, 'operates': 7331, 'lynn': 7332, 'scared': 7333, 'divisions': 7334, '104': 7335, 'imaging': 7336, 'gunfire': 7337, 'motel': 7338, 'reservation': 7339, 'dementia': 7340, 'drummer': 7341, 'stayed': 7342, 'tunnel': 7343, 'happiness': 7344, 'strained': 7345, 'relative': 7346, 'publish': 7347, 'filipino': 7348, 'caution': 7349, 'hbo': 7350, 'notorious': 7351, 'loaded': 7352, 'foreclosures': 7353, 'dock': 7354, 'ip': 7355, 'lou': 7356, 'hood': 7357, 'indexes': 7358, 'publishers': 7359, 'attendant': 7360, 'placing': 7361, 'sprained': 7362, 'majors': 7363, 'washed': 7364, 'derivatives': 7365, 'pietersen': 7366, 'certainly': 7367, 'middleweight': 7368, 'patch': 7369, 'bingo': 7370, 'chocolate': 7371, 'attendance': 7372, 'tuition': 7373, 'tebow': 7374, 'infosys': 7375, 'prefer': 7376, 'lancaster': 7377, 'srinagar': 7378, 'chester': 7379, 'silent': 7380, 'telekom': 7381, 'landslide': 7382, 'treating': 7383, 'blackpool': 7384, 'ceiling': 7385, 'presenting': 7386, 'booking': 7387, 'abandon': 7388, 'mancini': 7389, 'maoist': 7390, 'madoff': 7391, 'curtis': 7392, 'relationships': 7393, 'stalled': 7394, 'hussain': 7395, 'sunshine': 7396, 'aware': 7397, 'represents': 7398, 'length': 7399, 'sussex': 7400, 'shook': 7401, 'christ': 7402, 'regard': 7403, 'mick': 7404, 'samuel': 7405, 'respectively': 7406, 'boise': 7407, 'morocco': 7408, 'manner': 7409, 'rica': 7410, 'jul': 7411, 'surrendered': 7412, 'starter': 7413, 'liability': 7414, 'matthews': 7415, '16th': 7416, 'canberra': 7417, 'preston': 7418, 'murders': 7419, 'consultation': 7420, 'budgets': 7421, 'highlights': 7422, 'indoor': 7423, 'lehman': 7424, 'avoided': 7425, 'priyanka': 7426, '29yearold': 7427, 'daniels': 7428, 'halftime': 7429, 'discipline': 7430, 'winslet': 7431, 'croatian': 7432, 'physically': 7433, 'scotia': 7434, 'skies': 7435, 'hampton': 7436, 'teach': 7437, 'purpose': 7438, 'undercover': 7439, 'adjourned': 7440, 'pushes': 7441, 'albuquerque': 7442, 'pig': 7443, 'nationally': 7444, 'indictment': 7445, 'monument': 7446, 'polar': 7447, 'clinics': 7448, 'ton': 7449, 'containing': 7450, 'councilman': 7451, 'clinched': 7452, 'tighten': 7453, 'aviv': 7454, 'ramirez': 7455, 'scouts': 7456, 'plains': 7457, 'lightweight': 7458, 'nobody': 7459, 'airlifted': 7460, 'burke': 7461, 'exploitation': 7462, 'spa': 7463, 'publishes': 7464, 'publicist': 7465, 'chose': 7466, 'robertson': 7467, 'rossi': 7468, 'sullivan': 7469, 'stays': 7470, 'sounds': 7471, 'trio': 7472, 'zac': 7473, 'vic': 7474, 'nickel': 7475, 'forbes': 7476, 'legends': 7477, 'reliable': 7478, 'secondquarter': 7479, 'commuters': 7480, 'opponent': 7481, 'poultry': 7482, 'revolutionary': 7483, 'chandigarh': 7484, 'fullback': 7485, 'wellknown': 7486, 'consulate': 7487, 'georgetown': 7488, 'vendors': 7489, 'browser': 7490, 'mich': 7491, 'indigenous': 7492, 'devastated': 7493, 'criticized': 7494, 'shortages': 7495, 'millionaire': 7496, 'angola': 7497, 'uzbekistan': 7498, 'requests': 7499, 'logan': 7500, 'fraser': 7501, 'jared': 7502, 'sore': 7503, 'slower': 7504, 'par': 7505, '60th': 7506, 'admit': 7507, 'huntsman': 7508, 'seizure': 7509, 'gloucester': 7510, 'pawlenty': 7511, 'afc': 7512, 'ak': 7513, 'visas': 7514, 'infielder': 7515, 'consideration': 7516, 'earl': 7517, 'preparations': 7518, 'freeway': 7519, 'meth': 7520, 'activate': 7521, 'semi': 7522, 'tears': 7523, 'myrtle': 7524, 'tipped': 7525, 'ike': 7526, 'tornadoes': 7527, 'nearing': 7528, 'gerrard': 7529, 'lone': 7530, 'indicates': 7531, 'payroll': 7532, 'alicia': 7533, 'cyclone': 7534, 'travellers': 7535, 'commons': 7536, 'promotes': 7537, 'hacked': 7538, 'reiterates': 7539, 'slips': 7540, 'clashed': 7541, 'hacking': 7542, 'transfers': 7543, 'automatic': 7544, 'industrys': 7545, 'obsessed': 7546, 'firmly': 7547, 'brave': 7548, 'martial': 7549, 'temperature': 7550, 'telstra': 7551, 'recognised': 7552, 'courtroom': 7553, 'blogger': 7554, 'slim': 7555, 'kingfisher': 7556, 'der': 7557, 'sandusky': 7558, 'trader': 7559, 'quarters': 7560, 'baba': 7561, 'malawi': 7562, 'spirits': 7563, 'proof': 7564, 'laptop': 7565, 'funny': 7566, 'rutgers': 7567, 'cathedral': 7568, 'recreation': 7569, 'designs': 7570, 'crops': 7571, 'highways': 7572, 'ltte': 7573, 'bottles': 7574, 'confirming': 7575, 'arrangements': 7576, 'famed': 7577, 'departure': 7578, 'editorial': 7579, 'yearold': 7580, 'ghost': 7581, 'crossborder': 7582, 'anand': 7583, 'lorry': 7584, 'withdrawing': 7585, 'successor': 7586, 'impossible': 7587, 'melissa': 7588, 'tvs': 7589, 'oval': 7590, 'removing': 7591, 'deserve': 7592, 'longawaited': 7593, 'piracy': 7594, 'monaco': 7595, 'advocate': 7596, 'afghans': 7597, '17yearold': 7598, 'laptops': 7599, 'punch': 7600, 'laboratories': 7601, 'dated': 7602, 'happens': 7603, 'balanced': 7604, 'pelosi': 7605, 'abraham': 7606, 'usual': 7607, 'appreciation': 7608, 'mirza': 7609, 'cigarettes': 7610, 'depth': 7611, 'gazprom': 7612, 'rank': 7613, 'telegraph': 7614, 'ministerial': 7615, 'alarm': 7616, '201112': 7617, 'rocked': 7618, 'suns': 7619, 'penny': 7620, 'bullpen': 7621, 'repeated': 7622, 'kidman': 7623, 'ab': 7624, 'nexus': 7625, 'forests': 7626, 'sergeant': 7627, '170': 7628, '27yearold': 7629, 'concludes': 7630, 'volumes': 7631, 'antony': 7632, 'portable': 7633, 'strictly': 7634, 'ousted': 7635, 'learnt': 7636, 'embattled': 7637, 'bse': 7638, 'freeagent': 7639, 'requires': 7640, 'ramp': 7641, 'debuts': 7642, 'soared': 7643, 'anywhere': 7644, 'factories': 7645, 'casinos': 7646, 'firmer': 7647, 'burnt': 7648, 'shriver': 7649, 'injection': 7650, 'stamp': 7651, 'progressive': 7652, 'punk': 7653, 'admission': 7654, 'cabin': 7655, 'tonne': 7656, 'awaiting': 7657, 'implications': 7658, 'pray': 7659, 'kamal': 7660, 'stopping': 7661, 'successive': 7662, 'kuala': 7663, 'kurt': 7664, 'reno': 7665, 'prayers': 7666, 'audi': 7667, 'directions': 7668, 'rao': 7669, 'burger': 7670, 'wildfires': 7671, 'restoration': 7672, 'fiance': 7673, 'shadow': 7674, 'lacrosse': 7675, 'bump': 7676, 'upheld': 7677, 'ripped': 7678, 'relatively': 7679, 'porsche': 7680, 'hindi': 7681, 'roughly': 7682, 'bt': 7683, 'holocaust': 7684, 'survivor': 7685, 'cleric': 7686, 'arabian': 7687, 'shannon': 7688, 'campaigning': 7689, 'songwriter': 7690, 'fielder': 7691, 'syndrome': 7692, 'usain': 7693, 'debates': 7694, 'katherine': 7695, 'telangana': 7696, 'charts': 7697, 'yorks': 7698, 'textile': 7699, 'slumped': 7700, 'arrivals': 7701, 'lashes': 7702, 'netflix': 7703, '02': 7704, 'aquino': 7705, 'estimate': 7706, 'opposes': 7707, 'founding': 7708, 'deny': 7709, 'carries': 7710, 'bae': 7711, 'ambush': 7712, 'greenback': 7713, 'saga': 7714, 'serves': 7715, 'pains': 7716, 'graduation': 7717, 'bernie': 7718, 'telecoms': 7719, 'statistical': 7720, 'bracing': 7721, 'vandals': 7722, 'cop': 7723, 'oilers': 7724, 'driveby': 7725, 'hungry': 7726, 'requiring': 7727, 'samajwadi': 7728, 'paralympic': 7729, 'roethlisberger': 7730, 'ehud': 7731, 'leonard': 7732, 'balls': 7733, 'automobile': 7734, 'thunderstorms': 7735, 'rcmp': 7736, 'chains': 7737, 'corporations': 7738, 'bnp': 7739, 'item': 7740, 'formerly': 7741, 'burton': 7742, 'cigarette': 7743, 'tanks': 7744, 'tycoon': 7745, 'negotiate': 7746, 'errors': 7747, 'pepper': 7748, 'boil': 7749, 'moines': 7750, 'treasure': 7751, 'glory': 7752, 'irene': 7753, 'highlight': 7754, 'experiencing': 7755, 'upbeat': 7756, 'albion': 7757, 'valentines': 7758, 'informs': 7759, 'yield': 7760, 'monster': 7761, 'allied': 7762, 'height': 7763, 'uruguay': 7764, 'leafs': 7765, 'soviet': 7766, 'showdown': 7767, 'pharma': 7768, 'reddy': 7769, 'pot': 7770, 'cave': 7771, 'ecb': 7772, 'waive': 7773, 'bow': 7774, 'thirdquarter': 7775, 'michel': 7776, 'ga': 7777, 'medication': 7778, 'turnout': 7779, 'trash': 7780, 'lodge': 7781, 'tajikistan': 7782, 'unfair': 7783, 'respects': 7784, 'pfizer': 7785, 'statutory': 7786, 'levi': 7787, 'renewal': 7788, 'dual': 7789, 'remarkable': 7790, 'automated': 7791, 'establishment': 7792, 'inn': 7793, 'disturbance': 7794, 'purdue': 7795, '06': 7796, 'emily': 7797, 'demonstrate': 7798, 'clinch': 7799, 'willis': 7800, 'nolan': 7801, 'sponsors': 7802, 'boots': 7803, 'jackpot': 7804, 'collide': 7805, 'complained': 7806, 'mila': 7807, 'rated': 7808, 'decisive': 7809, 'hurdle': 7810, 'ceremonies': 7811, 'poet': 7812, 'sailing': 7813, 'securing': 7814, 'provisions': 7815, 'businessmen': 7816, 'correctional': 7817, 'kodak': 7818, 'adventure': 7819, 'conservatives': 7820, 'thermal': 7821, 'kerr': 7822, 'honolulu': 7823, 'entrepreneur': 7824, 'consent': 7825, 'islanders': 7826, 'forgery': 7827, 'bases': 7828, 'incorporated': 7829, 'restoring': 7830, 'uncle': 7831, 'casualties': 7832, 'peacefully': 7833, 'amateur': 7834, 'exceed': 7835, 'hepatitis': 7836, 'guys': 7837, 'montag': 7838, 'adaptation': 7839, 'distributing': 7840, 'sailor': 7841, '32yearold': 7842, 'forever': 7843, 'initiated': 7844, 'premises': 7845, 'tiny': 7846, 'fannie': 7847, 'gallon': 7848, 'animation': 7849, 'appetite': 7850, 'tweeted': 7851, 'debris': 7852, 'fourthquarter': 7853, 'mitsubishi': 7854, 'airtran': 7855, 'llp': 7856, 'bread': 7857, 'shiite': 7858, 'firstround': 7859, 'sad': 7860, 'experiences': 7861, 'salmonella': 7862, 'contador': 7863, 'congo': 7864, 'taiwanese': 7865, 'hague': 7866, 'besides': 7867, 'nor': 7868, 'enjoys': 7869, 'bangladeshi': 7870, 'junk': 7871, 'modified': 7872, 'sovereignty': 7873, 'waves': 7874, 'disasters': 7875, 'filling': 7876, 'liberation': 7877, 'prolonged': 7878, 'ponting': 7879, 'livestock': 7880, 'exporter': 7881, 'playboy': 7882, 'evan': 7883, 'choices': 7884, 'database': 7885, 'trim': 7886, 'upside': 7887, 'brunswick': 7888, 'stance': 7889, 'rescuers': 7890, 'augusta': 7891, 'convert': 7892, 'plug': 7893, 're': 7894, 'doctorate': 7895, 'mcdonnell': 7896, 'bias': 7897, 'pcs': 7898, 'kit': 7899, 'nutrition': 7900, 'sight': 7901, 'tenants': 7902, 'trustees': 7903, 'booming': 7904, 'dumping': 7905, 'caroline': 7906, 'sole': 7907, 'paterno': 7908, 'margins': 7909, 'fairfield': 7910, 'clemson': 7911, 'uprising': 7912, 'curfew': 7913, 'bentley': 7914, 'suburbs': 7915, 'demonstrations': 7916, 'wrap': 7917, 'ensuring': 7918, 'deliberately': 7919, 'alonso': 7920, 'lehigh': 7921, 'thefts': 7922, 'undergone': 7923, 'supervisors': 7924, 'felix': 7925, 'torres': 7926, 'mayors': 7927, 'vandalism': 7928, 'founded': 7929, 'commuter': 7930, 'dynamics': 7931, 'aftermath': 7932, 'soar': 7933, 'classroom': 7934, 'monitors': 7935, 'maldives': 7936, 'expense': 7937, 'mls': 7938, 'bible': 7939, 'sao': 7940, 'touching': 7941, 'issuer': 7942, 'mcilroy': 7943, 'harsh': 7944, 'aliyev': 7945, 'menu': 7946, 'watford': 7947, 'followers': 7948, 'audiences': 7949, 'dentist': 7950, 'lagos': 7951, 'confirmation': 7952, 'citi': 7953, 'fragile': 7954, 'singersongwriter': 7955, 'haley': 7956, 'mechanism': 7957, 'venue': 7958, 'powered': 7959, 'trafford': 7960, 'splitting': 7961, 'duff': 7962, 'g20': 7963, 'splash': 7964, 'tan': 7965, 'productions': 7966, 'patience': 7967, 'beloved': 7968, 'zuckerberg': 7969, 'error': 7970, 'whatever': 7971, 'urgent': 7972, 'passage': 7973, 'cure': 7974, 'discussing': 7975, 'vitamin': 7976, 'gesture': 7977, 'qualifiers': 7978, 'zurich': 7979, 'gabriel': 7980, 'ralph': 7981, 'servants': 7982, 'wheelchair': 7983, 'conglomerate': 7984, 'punching': 7985, 'describing': 7986, 'unilever': 7987, 'eid': 7988, 'ramdev': 7989, 'occupation': 7990, 'generations': 7991, 'bride': 7992, 'alzheimers': 7993, 'inventory': 7994, 'endangerment': 7995, 'plunges': 7996, 'arquette': 7997, 'tory': 7998, 'arbor': 7999, 'conferences': 8000, 'acknowledged': 8001, 'boutique': 8002, 'richest': 8003, 'destruction': 8004, 'canterbury': 8005, 'universitys': 8006, 'kunis': 8007, 'denying': 8008, 'cleanup': 8009, 'entrance': 8010, 'clarkson': 8011, '50yearold': 8012, 'spare': 8013, 'factors': 8014, 'intercontinental': 8015, 'provision': 8016, 'cannes': 8017, 'daytime': 8018, 'detainees': 8019, 'tweets': 8020, 'cleaning': 8021, 'shawn': 8022, 'actively': 8023, 'upward': 8024, 'gadhafi': 8025, 'generating': 8026, 'fairfax': 8027, 'committing': 8028, 'hillsborough': 8029, 'spate': 8030, 'biological': 8031, 'klitschko': 8032, 'colonial': 8033, 'affirmed': 8034, 'loud': 8035, 'owens': 8036, 'embezzlement': 8037, 'saeed': 8038, 'breakdown': 8039, 'outgoing': 8040, 'highlighting': 8041, 'purse': 8042, 'grammer': 8043, 'hitachi': 8044, 'fence': 8045, 'worsening': 8046, 'deepening': 8047, 'incentive': 8048, 'examination': 8049, 'evolution': 8050, 'copyright': 8051, 'annually': 8052, 'visual': 8053, 'warship': 8054, 'ind': 8055, 'lafayette': 8056, 'icici': 8057, 'linking': 8058, 'workout': 8059, 'fraudulent': 8060, 'treatments': 8061, 'macquarie': 8062, 'bicycle': 8063, 'infections': 8064, 'mainstream': 8065, 'heathrow': 8066, 'blaming': 8067, 'internationally': 8068, 'lucknow': 8069, 'outlet': 8070, 'litre': 8071, 'leigh': 8072, 'dictator': 8073, 'dipped': 8074, 'explained': 8075, 'nielsen': 8076, 'marched': 8077, 'steroids': 8078, 'bones': 8079, 'psychiatric': 8080, 'fertilizer': 8081, 'stunned': 8082, 'mri': 8083, 'sparking': 8084, 'suspending': 8085, 'bathroom': 8086, 'downloads': 8087, 'diane': 8088, 'motogp': 8089, 'mln': 8090, 'wanderers': 8091, 'yang': 8092, 'grabbed': 8093, 'larceny': 8094, 'deploy': 8095, 'lumpur': 8096, 'dividends': 8097, 'pleasant': 8098, 'airasia': 8099, 'holly': 8100, 'collections': 8101, 'establishes': 8102, 'macon': 8103, 'linda': 8104, 'injures': 8105, 'widens': 8106, 'describes': 8107, '850': 8108, 'hazardous': 8109, 'shiv': 8110, 'conway': 8111, 'lodged': 8112, 'amir': 8113, '1960s': 8114, 'laurent': 8115, 'luther': 8116, 'gore': 8117, 'y/y': 8118, 'fare': 8119, 'silva': 8120, 'brooke': 8121, 'mix': 8122, 'rico': 8123, 'pitching': 8124, 'tube': 8125, 'neighbouring': 8126, 'attacker': 8127, 'lovers': 8128, 'bloom': 8129, 'episodes': 8130, 'vista': 8131, 'helm': 8132, 'contamination': 8133, 'halloween': 8134, 'calf': 8135, 'husbands': 8136, 'avoiding': 8137, 'achievements': 8138, 'sienna': 8139, 'sack': 8140, 'narrowed': 8141, 'qld': 8142, 'ria': 8143, 'refuge': 8144, 'ugly': 8145, 'remainder': 8146, 'disgraced': 8147, '650': 8148, 'toshiba': 8149, 'arcelormittal': 8150, 'denise': 8151, '5m': 8152, 'conducting': 8153, 'donors': 8154, 'alassad': 8155, 'hemsworth': 8156, 'pedro': 8157, 'dominate': 8158, 'johnston': 8159, 'ep': 8160, 'wallabies': 8161, 'principle': 8162, 'aggregate': 8163, 'constituency': 8164, 'roommate': 8165, 'dealt': 8166, 'mayoral': 8167, 'requirement': 8168, 'adobe': 8169, 'tariff': 8170, 'shortterm': 8171, 'alexandra': 8172, 'deeply': 8173, 'midlands': 8174, 'headline': 8175, 'italys': 8176, 'muamba': 8177, 'mentor': 8178, 'kickoff': 8179, 'collecting': 8180, 'biotechnology': 8181, 'automakers': 8182, 'jse': 8183, 'comcast': 8184, 'jenkins': 8185, 'contemporary': 8186, 'flexible': 8187, 'aurora': 8188, 'reservoir': 8189, 'raided': 8190, 'garrett': 8191, 'mcdonald': 8192, 'dover': 8193, 'impersonating': 8194, 'spark': 8195, 'deportation': 8196, 'immunity': 8197, 'freezing': 8198, 'meltdown': 8199, '98': 8200, 'malcolm': 8201, 'commencement': 8202, 'inform': 8203, 'grande': 8204, 'polanski': 8205, 'fourday': 8206, 'stint': 8207, 'nano': 8208, 'laureate': 8209, 'smokers': 8210, 'eager': 8211, 'tightened': 8212, 'von': 8213, 'meredith': 8214, 'summers': 8215, 'conflicts': 8216, 'oral': 8217, 'tariffs': 8218, 'heated': 8219, 'harm': 8220, 'handing': 8221, 'specialists': 8222, 'spokane': 8223, 'anaheim': 8224, 'doha': 8225, 'socialist': 8226, 'blunt': 8227, 'en': 8228, 'johan': 8229, 'chambers': 8230, 'copies': 8231, 'ammunition': 8232, 'shahbaz': 8233, 'eugene': 8234, 'tunisian': 8235, '175': 8236, '01': 8237, 'tumble': 8238, 'landfall': 8239, 'reopening': 8240, 'drain': 8241, 'musicians': 8242, 'lifting': 8243, 'namibia': 8244, 'borrowers': 8245, 'chaudhry': 8246, 'neighboring': 8247, 'neighbor': 8248, 'certified': 8249, 'mozambique': 8250, 'protocol': 8251, 'neighbour': 8252, 'atlantis': 8253, 'cohost': 8254, 'hyundai': 8255, 'widow': 8256, 'makeover': 8257, 'dustin': 8258, 'amongst': 8259, 'paint': 8260, 'protestors': 8261, 'freestyle': 8262, '09': 8263, 'nassau': 8264, 'directing': 8265, 'carpenter': 8266, 'letting': 8267, 'havana': 8268, 'alltime': 8269, 'subdued': 8270, 'rocks': 8271, 'rss': 8272, 'prosperity': 8273, 'scherzinger': 8274, 'rid': 8275, 'uc': 8276, 'bynes': 8277, 'ma': 8278, 'jiabao': 8279, 'westwood': 8280, 'ibrahim': 8281, 'disability': 8282, 'minorities': 8283, 'testimony': 8284, 'russians': 8285, 'lists': 8286, 'testified': 8287, 'wifes': 8288, 'knoxville': 8289, 'spike': 8290, 'tsx': 8291, 'shifted': 8292, 'aloud': 8293, 'topeka': 8294, 'intoxication': 8295, 'coordination': 8296, 'leone': 8297, 'gradually': 8298, 'mickey': 8299, 'contestant': 8300, 'publics': 8301, 'familys': 8302, '106': 8303, 'youve': 8304, 'surpassed': 8305, 'searched': 8306, 'paypal': 8307, 'distance': 8308, 'jade': 8309, 'prodemocracy': 8310, 'trent': 8311, 'auctioned': 8312, 'peers': 8313, 'achievement': 8314, 'attends': 8315, '1970s': 8316, 'escalating': 8317, 'mirror': 8318, 'pieces': 8319, 'happening': 8320, 'joan': 8321, 'theory': 8322, 'aleague': 8323, 'cease': 8324, 'obese': 8325, 'attracted': 8326, 'highlands': 8327, 'mcdonalds': 8328, 'ups': 8329, 'joplin': 8330, 'sailors': 8331, 'sewage': 8332, 'sort': 8333, 'reinstate': 8334, 'migrant': 8335, 'behavior': 8336, 'chevrolet': 8337, 'uss': 8338, 'breakaway': 8339, 'junction': 8340, 'condemn': 8341, 'mideast': 8342, 'havent': 8343, 'deepika': 8344, 'divided': 8345, 'borrow': 8346, 'busted': 8347, 'otherwise': 8348, 'panama': 8349, 'infected': 8350, 'cables': 8351, 'follows': 8352, 'delegates': 8353, 'virtually': 8354, 'piper': 8355, 'overwhelming': 8356, 'transform': 8357, 'mid': 8358, 'iphones': 8359, 'achieving': 8360, 'hangs': 8361, 'canton': 8362, 'dramatically': 8363, 'repurchase': 8364, 'jessie': 8365, 'bearish': 8366, 'webb': 8367, 'quietly': 8368, 'fantastic': 8369, 'jubilee': 8370, 'hayes': 8371, 'msnbc': 8372, 'flick': 8373, 'burnley': 8374, 'entertainer': 8375, 'disclosure': 8376, 'protested': 8377, 'venus': 8378, 'cautioned': 8379, 'establishing': 8380, 'honduras': 8381, 'upsets': 8382, 'benghazi': 8383, 'airspace': 8384, 'articles': 8385, 'vaccines': 8386, 'curry': 8387, 'detection': 8388, 'builds': 8389, 'phelps': 8390, 'pike': 8391, 'ubisoft': 8392, 'jaguar': 8393, 'odi': 8394, 'neither': 8395, 'please': 8396, 'lies': 8397, 'mediterranean': 8398, 'autobiography': 8399, 'tymoshenko': 8400, 'webcast': 8401, 'downing': 8402, 'jindal': 8403, 'wilkinson': 8404, 'eli': 8405, 'southampton': 8406, 'eggs': 8407, 'sinks': 8408, 'knockout': 8409, 'sheboygan': 8410, 'skilled': 8411, 'travolta': 8412, 'frederick': 8413, 'albania': 8414, 'cheese': 8415, 'controller': 8416, 'intensified': 8417, 'attached': 8418, 'deeper': 8419, 'exist': 8420, 'rouge': 8421, 'lennon': 8422, 'breaching': 8423, 'grip': 8424, 'runners': 8425, 'fiber': 8426, 'judgment': 8427, 'gavin': 8428, 'guarantees': 8429, 'guinness': 8430, 'cab': 8431, '000th': 8432, 'freak': 8433, 'highlighted': 8434, 'belonging': 8435, 'emails': 8436, 'blockade': 8437, 'obtain': 8438, 'swimmer': 8439, 'reagan': 8440, 'exhibit': 8441, 'crow': 8442, 'org': 8443, 'highspeed': 8444, 'perdue': 8445, 'detect': 8446, 'balloon': 8447, '8th': 8448, 'extradited': 8449, 'bestselling': 8450, 'lokpal': 8451, 'basin': 8452, 'aj': 8453, 'novosti': 8454, 'safer': 8455, 'dundee': 8456, 'concentrate': 8457, 'disorders': 8458, '7:30': 8459, 'wholly': 8460, 'unanimous': 8461, '35yearold': 8462, 'casting': 8463, 'corridor': 8464, 'wrapped': 8465, 'attitude': 8466, 'commitments': 8467, 'flooded': 8468, 'baron': 8469, 'anticorruption': 8470, 'wachovia': 8471, 'ethiopian': 8472, '40yearold': 8473, 'acted': 8474, 'alec': 8475, 'infamous': 8476, 'understands': 8477, 'oj': 8478, 'pakistanis': 8479, 'rear': 8480, 'diva': 8481, 'epidemic': 8482, 'counting': 8483, 'hostages': 8484, 'focuses': 8485, 'volvo': 8486, 'ft': 8487, 'processor': 8488, 'deemed': 8489, 'greeces': 8490, 'ipads': 8491, 'jude': 8492, '4s': 8493, 'ashore': 8494, 'zach': 8495, 'kuwaiti': 8496, 'rawalpindi': 8497, 'lined': 8498, 'shower': 8499, 'goodbye': 8500, 'fortune': 8501, 'peruvian': 8502, 'drills': 8503, 'pacers': 8504, 'mvp': 8505, 'chapel': 8506, 'auctions': 8507, 'absolute': 8508, 'flowers': 8509, 'anchorage': 8510, 'rumor': 8511, 'beverage': 8512, 'nigel': 8513, 'color': 8514, 'freeman': 8515, 'truly': 8516, 'bahraini': 8517, '550': 8518, '5bn': 8519, 'sbi': 8520, 'efron': 8521, 'ranbir': 8522, 'keegan': 8523, 'roddick': 8524, 'jermaine': 8525, 'barred': 8526, 'huffington': 8527, 'architect': 8528, 'lea': 8529, 'barrymore': 8530, 'affirms': 8531, 'knocks': 8532, 'settlers': 8533, 'onevehicle': 8534, 'surfaced': 8535, 'methodist': 8536, 'reaffirmed': 8537, 'relation': 8538, 'mineral': 8539, 'coroners': 8540, 'roses': 8541, 'brighton': 8542, 'binghamton': 8543, 'leighton': 8544, 'surging': 8545, 'daly': 8546, 'surrey': 8547, 'kissing': 8548, 'viral': 8549, 'manipur': 8550, 'conjunction': 8551, 'lucrative': 8552, '3m': 8553, 'girlfriends': 8554, 'aging': 8555, 'prefers': 8556, '®': 8557, 'fog': 8558, 'yourself': 8559, 'jackets': 8560, '135': 8561, 'firsthalf': 8562, 'backyard': 8563, 'googles': 8564, 'surf': 8565, 'berkshire': 8566, 'impressed': 8567, 'electrocuted': 8568, 'ordinance': 8569, 'fulltime': 8570, 'eliminating': 8571, 'mercer': 8572, 'bribes': 8573, 'appearances': 8574, 'eden': 8575, 'interviews': 8576, 'collaborate': 8577, 'zimmerman': 8578, 'vegetables': 8579, 'sikh': 8580, 'novelist': 8581, 'dissident': 8582, 'custom': 8583, 'carol': 8584, '2003': 8585, 'wis': 8586, 'bulk': 8587, 'brewing': 8588, 'lure': 8589, 'hook': 8590, 'snowmobile': 8591, '107': 8592, 'clearly': 8593, 'julius': 8594, 'modestly': 8595, 'sevilla': 8596, 'hilary': 8597, 'contention': 8598, 'bicyclist': 8599, '03': 8600, 'noting': 8601, 'weighing': 8602, 'alcoholic': 8603, 'fedex': 8604, 'premiums': 8605, 'inspectors': 8606, 'arguing': 8607, 'massa': 8608, 'cornwall': 8609, 'bhutto': 8610, 'greenville': 8611, 'bahamas': 8612, 'lindsey': 8613, 'motorist': 8614, 'pupil': 8615, 'sewer': 8616, 'groupon': 8617, 'polk': 8618, 'sidney': 8619, 'vegetable': 8620, 'bass': 8621, 'burden': 8622, 'measuring': 8623, 'knightley': 8624, '2018': 8625, 'crushing': 8626, 'lengthy': 8627, 'slashing': 8628, 'nazi': 8629, 'boulder': 8630, 'boot': 8631, 'tomas': 8632, 'kashmiri': 8633, 'partly': 8634, 'afford': 8635, 'pmln': 8636, 'connectivity': 8637, 'totally': 8638, 'auditorium': 8639, 'yearonyear': 8640, 'breathing': 8641, 'warplanes': 8642, 'schalke': 8643, 'basket': 8644, 'sultan': 8645, 'demolished': 8646, 'instructor': 8647, 'divers': 8648, 'taught': 8649, 'irvine': 8650, 'hurley': 8651, 'savannah': 8652, 'asiapacific': 8653, 'overturns': 8654, 'slashes': 8655, 'persistent': 8656, 'quincy': 8657, 'elimination': 8658, 'slovakia': 8659, 'assess': 8660, 'crist': 8661, 'realty': 8662, 'towers': 8663, 'capped': 8664, 'checking': 8665, 'dust': 8666, 'footprint': 8667, 'reversing': 8668, 'shirley': 8669, 'davies': 8670, 'ligament': 8671, 'schmidt': 8672, 'bikini': 8673, 'anz': 8674, 'gateway': 8675, 'accord': 8676, '201011': 8677, 'rampage': 8678, 'frame': 8679, 'dancer': 8680, 'corning': 8681, 'palo': 8682, 'seth': 8683, 'straw': 8684, 'integrate': 8685, 'oneill': 8686, 'galway': 8687, 'advocacy': 8688, 'bonus': 8689, 'cumberland': 8690, '201213': 8691, 'concord': 8692, 'weigh': 8693, 'insight': 8694, 'amended': 8695, 'bizarre': 8696, '07': 8697, 'graphic': 8698, 'liquid': 8699, 'pork': 8700, 'honours': 8701, 'kay': 8702, 'candlestick': 8703, 'hotspur': 8704, 'contrary': 8705, 'joke': 8706, 'taxation': 8707, 'nonstop': 8708, 'ronson': 8709, 'fletcher': 8710, 'butt': 8711, '45yearold': 8712, 'devon': 8713, 'wooden': 8714, 'evaluation': 8715, 'est': 8716, 'ole': 8717, 'churches': 8718, 'extremism': 8719, 'desk': 8720, 'priorities': 8721, 'steering': 8722, 'daylight': 8723, 'destroying': 8724, 'conceded': 8725, 'paternity': 8726, '24th': 8727, 'cheltenham': 8728, 'transformation': 8729, 'mahendra': 8730, 'fiction': 8731, 'complaining': 8732, '£5': 8733, 'scrutiny': 8734, 'chandler': 8735, 'lend': 8736, 'favourites': 8737, 'lautner': 8738, 'colon': 8739, 'lara': 8740, 'meal': 8741, 'explorer': 8742, 'braced': 8743, 'staples': 8744, 'spreads': 8745, 'expires': 8746, 'narcotics': 8747, 'durban': 8748, 'cambodia': 8749, 'worcester': 8750, 'interface': 8751, 'salon': 8752, 'dwi': 8753, 'colleague': 8754, 'sections': 8755, 'biel': 8756, 'nixon': 8757, 'promotional': 8758, 'snyder': 8759, 'pan': 8760, 'dale': 8761, 'aides': 8762, 'rupees': 8763, 'bigg': 8764, 'whip': 8765, 'expression': 8766, 'bitten': 8767, 'iris': 8768, 'supermarkets': 8769, 'verge': 8770, 'personally': 8771, 'caucus': 8772, 'affiliated': 8773, 'invite': 8774, 'anticipation': 8775, 'hijack': 8776, 'ipswich': 8777, 'patriot': 8778, 'raceway': 8779, 'bruised': 8780, 'refuse': 8781, 'tightening': 8782, 'spacecraft': 8783, 'ranging': 8784, 'baton': 8785, 'patricks': 8786, 'spelling': 8787, 'panetta': 8788, 'composite': 8789, 'shrank': 8790, 'visitor': 8791, 'harrington': 8792, '220': 8793, 'preventing': 8794, 'ukbased': 8795, 'mrs': 8796, 'isolated': 8797, 'landlord': 8798, 'newsday': 8799, 'gearing': 8800, 'forks': 8801, 'purchasing': 8802, 'wrongful': 8803, 'tier': 8804, 'respiratory': 8805, 'bedroom': 8806, 'shrine': 8807, 'allamerican': 8808, 'leno': 8809, 'machinery': 8810, 'prisons': 8811, 'yusuf': 8812, '111': 8813, 'trips': 8814, 'booker': 8815, 'payable': 8816, 'hiked': 8817, '102': 8818, 'mood': 8819, 'talented': 8820, '105': 8821, 'betterthanexpected': 8822, 'opted': 8823, 'patrols': 8824, 'ratio': 8825, 'surprisingly': 8826, 'murderer': 8827, 'saskatoon': 8828, 'bassist': 8829, 'psychological': 8830, 'driveway': 8831, 'engulfing': 8832, 'tina': 8833, 'ideal': 8834, 'backdrop': 8835, 'donating': 8836, 'alcoa': 8837, 'immune': 8838, '47yearold': 8839, 'sitcom': 8840, 'ho': 8841, 'gurgaon': 8842, 'marina': 8843, 'camden': 8844, 'benson': 8845, 'mob': 8846, 'witnessed': 8847, 'connections': 8848, 'contributed': 8849, 'switching': 8850, 'underlying': 8851, 'chesapeake': 8852, 'persian': 8853, 'beam': 8854, 'shale': 8855, 'convinced': 8856, 'inner': 8857, 'evil': 8858, 'spying': 8859, 'loyal': 8860, 'animated': 8861, 'preview': 8862, 'viktor': 8863, 'seasonally': 8864, 'peas': 8865, 'beirut': 8866, 'kazakh': 8867, 'obligations': 8868, 'chan': 8869, 'delaying': 8870, 'extinction': 8871, 'copa': 8872, 'connecting': 8873, 'bite': 8874, 'amendments': 8875, 'coldplay': 8876, 'il': 8877, 'accelerate': 8878, 'dawson': 8879, 'kia': 8880, 'manufacture': 8881, 'unlimited': 8882, 'clara': 8883, 'pitched': 8884, 'stallone': 8885, 'livingston': 8886, 'crowe': 8887, 'rewards': 8888, 'afridi': 8889, 'carr': 8890, 'mitch': 8891, '9th': 8892, 'module': 8893, 'intensify': 8894, 'undefeated': 8895, 'regulate': 8896, 'importing': 8897, 'flies': 8898, 'belgrade': 8899, 'captures': 8900, 'avery': 8901, 'console': 8902, 'milton': 8903, 'embezzling': 8904, 'greens': 8905, 'collides': 8906, 'contaminated': 8907, 'institutes': 8908, 'diamonds': 8909, 'ballistic': 8910, 'unmanned': 8911, 'prevented': 8912, 'defrauding': 8913, 'hewlettpackard': 8914, 'reflect': 8915, 'rooms': 8916, 'thatcher': 8917, 'furious': 8918, 'conclusion': 8919, 'synthetic': 8920, 'pill': 8921, 'spiderman': 8922, '13yearold': 8923, 'egg': 8924, 'banker': 8925, 'groundbreaking': 8926, 'patriotic': 8927, 'bullying': 8928, '240': 8929, 'yankee': 8930, 'brit': 8931, 'relevant': 8932, 'didier': 8933, 'knights': 8934, 'suarez': 8935, 'shake': 8936, 'lunar': 8937, 'liberals': 8938, 'comparison': 8939, 'separated': 8940, 'lap': 8941, 'continent': 8942, 'nda': 8943, 'radar': 8944, 'consultants': 8945, 'assurance': 8946, 'bald': 8947, 'exboyfriend': 8948, '38yearold': 8949, 'indication': 8950, 'transparent': 8951, 'credible': 8952, 'principles': 8953, 'sealed': 8954, 'akhtar': 8955, 'smartrends': 8956, 'strongest': 8957, 'physicians': 8958, 'icahn': 8959, 'apologize': 8960, 'observe': 8961, 'xavier': 8962, 'sprinter': 8963, 'liga': 8964, 'conan': 8965, 'yeddyurappa': 8966, 'metric': 8967, 'licensed': 8968, 'ramesh': 8969, 'colbert': 8970, 'deepen': 8971, 'types': 8972, 'participated': 8973, 'inch': 8974, 'relegated': 8975, 'apologise': 8976, 'tide': 8977, 'cory': 8978, 'bean': 8979, 'aa': 8980, 'responds': 8981, 'hung': 8982, 'disappointment': 8983, 'architecture': 8984, 'gotten': 8985, 'jenna': 8986, 'discounts': 8987, 'aka': 8988, 'alexandria': 8989, 'candidacy': 8990, 'designate': 8991, 'habitat': 8992, 'finalist': 8993, 'lover': 8994, 'weaken': 8995, 'shahrukh': 8996, 'barker': 8997, 'buenos': 8998, 'aires': 8999, 'gp': 9000, 'letterman': 9001, 'bishops': 9002, 'memories': 9003, 'workshops': 9004, 'crowds': 9005, 'wouldbe': 9006, 'pictured': 9007, 'wembley': 9008, 'poster': 9009, '12yearold': 9010, 'literature': 9011, '11yearold': 9012, 'donovan': 9013, 'instant': 9014, 'pleas': 9015, 'nike': 9016, 'tactics': 9017, 'defenceman': 9018, 'cpi': 9019, 'hospice': 9020, 'nh': 9021, 'dismiss': 9022, 'iftikhar': 9023, 'indices': 9024, 'vast': 9025, 'victorias': 9026, 'flows': 9027, 'batteries': 9028, 'organ': 9029, 'boxes': 9030, 'bloc': 9031, 'showers': 9032, 'apollo': 9033, 'spots': 9034, 'jacobs': 9035, 'osce': 9036, 'paraguay': 9037, 'corey': 9038, 'flame': 9039, 'cohen': 9040, 'underwear': 9041, 'caterpillar': 9042, 'deserves': 9043, 'havoc': 9044, 'odonnell': 9045, 'aust': 9046, 'journalism': 9047, 'ritchie': 9048, 'roland': 9049, 'jenner': 9050, 'shetty': 9051, 'kilometres': 9052, 'sargsyan': 9053, 'ariz': 9054, 'dana': 9055, 'atmosphere': 9056, 'mouse': 9057, 'salisbury': 9058, 'banner': 9059, 'movements': 9060, 'santana': 9061, 'magazines': 9062, 'timberwolves': 9063, 'averages': 9064, 'searches': 9065, 'weisz': 9066, '£2': 9067, 'headlines': 9068, 'rivera': 9069, 'surrounded': 9070, 'merit': 9071, 'situations': 9072, 'millennium': 9073, 'heineken': 9074, 'pepsico': 9075, 'prof': 9076, 'liz': 9077, 'dannii': 9078, 'ronald': 9079, 'directorial': 9080, 'revoked': 9081, 'postpone': 9082, 'colour': 9083, 'teaming': 9084, 'triggering': 9085, 'valuation': 9086, 'listen': 9087, 'acc': 9088, 'omalley': 9089, 'sixmonth': 9090, 'shelves': 9091, 'surfer': 9092, 'aerial': 9093, 'filmed': 9094, 'bulldogs': 9095, 'bogus': 9096, 'properly': 9097, 'washing': 9098, 'nash': 9099, 'seemed': 9100, 'kelsey': 9101, 'brazils': 9102, 'northampton': 9103, 'rajapaksa': 9104, 'soybean': 9105, 'commenced': 9106, 'math': 9107, 'ossetia': 9108, 'ethical': 9109, 'lowering': 9110, 'heres': 9111, 'hogan': 9112, 'labourers': 9113, 'grizzlies': 9114, 'extremists': 9115, 'shoaib': 9116, 'frontline': 9117, 'shepherd': 9118, 'tense': 9119, 'shia': 9120, 'snowfall': 9121, 'indicate': 9122, 'pure': 9123, 'consultations': 9124, 'panda': 9125, 'hancock': 9126, 'enables': 9127, 'longrunning': 9128, '39yearold': 9129, 'moose': 9130, 'highland': 9131, 'designers': 9132, 'regina': 9133, 'pratibha': 9134, 'africans': 9135, '28th': 9136, 'cafe': 9137, 'jackman': 9138, 'astana': 9139, 'handsets': 9140, 'experimental': 9141, 'motorway': 9142, 'controlling': 9143, 'wba': 9144, 'touches': 9145, '230': 9146, 'cardiovascular': 9147, 'exceeded': 9148, 'strange': 9149, 'closures': 9150, 'upto': 9151, 'bipartisan': 9152, 'restive': 9153, 'locals': 9154, 'predators': 9155, 'mellon': 9156, 'rebecca': 9157, 'kourtney': 9158, 'composition': 9159, 'keira': 9160, 'memorandum': 9161, 'stormed': 9162, 'identifying': 9163, 'elephants': 9164, 'guantanamo': 9165, 'bargaining': 9166, 'shrink': 9167, 'knocking': 9168, 'soup': 9169, 'snake': 9170, 'clijsters': 9171, 'clint': 9172, 'unesco': 9173, 'monte': 9174, 'seafood': 9175, 'runaway': 9176, 'khyber': 9177, 'batman': 9178, 'deserved': 9179, 'stupid': 9180, 'territories': 9181, 'wesley': 9182, 'swimmers': 9183, 'stray': 9184, 'leisure': 9185, 'eclipse': 9186, 'interaction': 9187, 'ti': 9188, 'footage': 9189, 'lk': 9190, 'exploring': 9191, 'unsecured': 9192, 'pubs': 9193, 'notebook': 9194, 'breaches': 9195, 'duluth': 9196, 'shakes': 9197, 'steals': 9198, 'mosley': 9199, 'contacts': 9200, 'loyalty': 9201, 'resistances': 9202, 'promoter': 9203, 'homer': 9204, 'iv': 9205, 'monkey': 9206, 'buccaneers': 9207, 'catching': 9208, 'fastgrowing': 9209, 'stimulate': 9210, 'paving': 9211, 'pumps': 9212, 'dominant': 9213, 'twenty': 9214, 'languages': 9215, 'outskirts': 9216, 'lng': 9217, 'sedan': 9218, 'lpga': 9219, 'lazio': 9220, 'eyeing': 9221, 'au': 9222, 'gangs': 9223, 'webster': 9224, 'owed': 9225, 'examine': 9226, 'collapsing': 9227, 'alto': 9228, 'breached': 9229, 'landlords': 9230, 'berth': 9231, 'canadiens': 9232, 'ulster': 9233, 'vigil': 9234, 'respective': 9235, 'cooling': 9236, 'emc': 9237, 'partnerships': 9238, 'julio': 9239, 'stuff': 9240, 'ajay': 9241, 'indy': 9242, 'bypass': 9243, 'freezes': 9244, 'dunn': 9245, 'basu': 9246, 'diversified': 9247, 'debit': 9248, 'overwhelmingly': 9249, 'downgrade': 9250, '22nd': 9251, 'cartel': 9252, 'regret': 9253, 'characters': 9254, 'firearm': 9255, '280': 9256, 'everywhere': 9257, 'everybody': 9258, 'yerevan': 9259, 'screens': 9260, 'leona': 9261, 'lamar': 9262, 'martha': 9263, 'jc': 9264, 'tomorrows': 9265, 'gamble': 9266, 'pared': 9267, 'hearings': 9268, 'elsewhere': 9269, 'strauss': 9270, 'rahman': 9271, 'commence': 9272, 'rescheduled': 9273, 'cry': 9274, 'cairn': 9275, 'osborne': 9276, 'vat': 9277, 'derailed': 9278, 'convoy': 9279, 'usage': 9280, 'spinal': 9281, 'marilyn': 9282, 'ala': 9283, 'phillip': 9284, 'sinking': 9285, 'hon': 9286, 'hai': 9287, 'fabrice': 9288, 'fidel': 9289, 'theaters': 9290, 'dev': 9291, 'misleading': 9292, 'correct': 9293, 'chivas': 9294, 'enemies': 9295, 'finalised': 9296, 'daryl': 9297, 'hulk': 9298, 'cavendish': 9299, 'tyre': 9300, '1/2': 9301, 'missions': 9302, 'cheat': 9303, 'snack': 9304, 'bronx': 9305, 'pepsi': 9306, 'missoula': 9307, 'rai': 9308, 'paedophile': 9309, 'atp': 9310, 'subsidy': 9311, 'arroyo': 9312, 'rings': 9313, 'sylvester': 9314, 'gosling': 9315, 'bermuda': 9316, 'seals': 9317, 'headley': 9318, 'attracting': 9319, 'sas': 9320, 'boating': 9321, 'jews': 9322, 'shelf': 9323, 'scratched': 9324, 'cosmetic': 9325, 'rabies': 9326, 'saab': 9327, 'goalless': 9328, 'registry': 9329, 'lilly': 9330, 'nitin': 9331, 'rejoin': 9332, 'warships': 9333, 'viewing': 9334, 'britons': 9335, 'tired': 9336, 'putnam': 9337, 'locally': 9338, 'sail': 9339, 'surges': 9340, 'mtn': 9341, 'cutler': 9342, 'barely': 9343, 'hacker': 9344, 'downward': 9345, 'competitiveness': 9346, 'imperial': 9347, 'abdominal': 9348, 'smooth': 9349, 'pyongyang': 9350, 'antitrust': 9351, 'antidoping': 9352, 'alba': 9353, 'forestry': 9354, 'senegal': 9355, 'outrage': 9356, 'separatist': 9357, 'hm': 9358, 'belong': 9359, 'wondering': 9360, 'comply': 9361, 'upstate': 9362, 'detailed': 9363, 'swayze': 9364, 'conversation': 9365, 'drogba': 9366, 'bidding': 9367, 'negligent': 9368, 'gangster': 9369, 'shields': 9370, 'tripura': 9371, 'tortured': 9372, 'lille': 9373, 'mound': 9374, 'moammar': 9375, 'enrichment': 9376, 'reshuffle': 9377, 'prolific': 9378, 'georges': 9379, 'drag': 9380, 'ancelotti': 9381, 'olivia': 9382, 'norms': 9383, 'lotus': 9384, 'troubles': 9385, 'niger': 9386, '£3': 9387, 'maori': 9388, 'approvals': 9389, 'enrollment': 9390, '112': 9391, 'mastercard': 9392, 'handgun': 9393, 'stakeholders': 9394, 'amend': 9395, 'eleven': 9396, 'eminem': 9397, 'disposal': 9398, 'norton': 9399, 'incredible': 9400, 'gymnastics': 9401, 'papua': 9402, 'credited': 9403, '10year': 9404, 'huckabee': 9405, 'knifepoint': 9406, 'venues': 9407, 'ki': 9408, 'brace': 9409, 'jong': 9410, 'ilham': 9411, 'cubic': 9412, 'intelligent': 9413, 'decreased': 9414, 'demonstrated': 9415, 'comfort': 9416, 'hints': 9417, 'sticks': 9418, 'victories': 9419, 'weeklong': 9420, 'disrupt': 9421, 'methamphetamine': 9422, 'billings': 9423, 'slapped': 9424, 'versions': 9425, 'java': 9426, 'richter': 9427, 'geological': 9428, 'funded': 9429, 'hospitality': 9430, 'shipyard': 9431, 'lefthander': 9432, 'quentin': 9433, 'controllers': 9434, 'unlawful': 9435, 'tables': 9436, 'belarusian': 9437, 'pursuing': 9438, 'jamaican': 9439, 'geo': 9440, 'precautionary': 9441, 'karan': 9442, 'autonomous': 9443, 'contracted': 9444, 'californias': 9445, 'kylie': 9446, 'selloff': 9447, '33yearold': 9448, 'mgm': 9449, 'salesforce': 9450, 'aground': 9451, 'widening': 9452, 'porter': 9453, 'dining': 9454, 'cousins': 9455, 'conditioning': 9456, 'sword': 9457, 'terrible': 9458, 'scenario': 9459, 'deliveries': 9460, 'cult': 9461, 'waiver': 9462, 'fixing': 9463, 'wonderful': 9464, 'euronext': 9465, 'libraries': 9466, 'helena': 9467, 'hates': 9468, 'qpr': 9469, 'credentials': 9470, 'rosa': 9471, 'booth': 9472, 'bullets': 9473, 'bafana': 9474, 'upholds': 9475, 'grey': 9476, 'orthodox': 9477, 'wolfsburg': 9478, 'hears': 9479, 'vow': 9480, 'sgt': 9481, 'twist': 9482, 'taxpayer': 9483, 'cellphone': 9484, 'continuous': 9485, 'gases': 9486, 'se': 9487, 'exercised': 9488, '1999': 9489, 'hop': 9490, 'umpire': 9491, 'styles': 9492, 'sacred': 9493, 'entirely': 9494, 'improper': 9495, 'landscape': 9496, 'jaipur': 9497, 'miracle': 9498, 'historian': 9499, 'rodham': 9500, 'warne': 9501, 'duet': 9502, 'pawar': 9503, 'hudgens': 9504, 'ordering': 9505, 'supervisor': 9506, 'truce': 9507, 'fergie': 9508, 'thirdlargest': 9509, 'sights': 9510, 'icy': 9511, 'commentator': 9512, 'medalist': 9513, 'conversion': 9514, 'barney': 9515, 'ramadan': 9516, 'paribas': 9517, 'darling': 9518, 'carla': 9519, 'wta': 9520, 'bolivia': 9521, 'sim': 9522, 'wellness': 9523, 'halts': 9524, 'administrations': 9525, 'walgreens': 9526, 'malibu': 9527, 'bernardino': 9528, 'prostitute': 9529, 'asheville': 9530, 'moratorium': 9531, 'pile': 9532, 'multinational': 9533, 'haul': 9534, 'divorced': 9535, 'lied': 9536, 'grains': 9537, 'paulson': 9538, 'keane': 9539, 'balochistan': 9540, 'literacy': 9541, 'frustrated': 9542, 'travels': 9543, 'lecture': 9544, 'cautiously': 9545, 'lounge': 9546, 'chooses': 9547, 'array': 9548, 'mercantile': 9549, 'leap': 9550, 'asda': 9551, 'brigade': 9552, 'inked': 9553, 'cork': 9554, 'advisors': 9555, 'oversight': 9556, 'whilst': 9557, 'goalie': 9558, 'revamped': 9559, 'spector': 9560, 'patterson': 9561, 'cricketers': 9562, 'indicators': 9563, 'shifting': 9564, 'spared': 9565, 'supplements': 9566, 'armenians': 9567, 'aggression': 9568, 'pianist': 9569, 'courtesy': 9570, 'wrongly': 9571, 'turtle': 9572, 'lowe': 9573, 'fibre': 9574, 'precision': 9575, 'conocophillips': 9576, 'jaime': 9577, 'limerick': 9578, 'injunction': 9579, 'fault': 9580, 'lockheed': 9581, 'elvis': 9582, 'deadliest': 9583, 'rodney': 9584, 'fisheries': 9585, 'gyllenhaal': 9586, 'aer': 9587, 'headquartered': 9588, 'sellers': 9589, 'marvel': 9590, 'trainers': 9591, 'twovehicle': 9592, 'byrne': 9593, 'colonel': 9594, 'bash': 9595, 'belief': 9596, 'explosions': 9597, 'payne': 9598, '108': 9599, 'bayer': 9600, 'eastman': 9601, 'kandahar': 9602, 'containers': 9603, 'primetime': 9604, 'confiscated': 9605, 'finalized': 9606, 'none': 9607, 'expired': 9608, 'nate': 9609, 'slugger': 9610, 'jenny': 9611, 'hayward': 9612, 'christine': 9613, 'blocking': 9614, 'palermo': 9615, 'seas': 9616, 'inevitable': 9617, 'worry': 9618, 'optical': 9619, 'gill': 9620, 'doncaster': 9621, 'jurors': 9622, 'keeper': 9623, '90th': 9624, 'gadkari': 9625, 'crosses': 9626, 'seizes': 9627, 'yanukovych': 9628, 'shelton': 9629, 'marvin': 9630, 'climbs': 9631, 'inaugurates': 9632, '2017': 9633, 'hindus': 9634, 'hobbit': 9635, 'extortion': 9636, 'therefore': 9637, 'brilliant': 9638, 'mayawati': 9639, 'zynga': 9640, 'speedy': 9641, 'perjury': 9642, 'mounted': 9643, 'forget': 9644, 'dynamic': 9645, 'darfur': 9646, 'slaying': 9647, 'outer': 9648, 'scottsdale': 9649, 'cornell': 9650, 'pandemic': 9651, 'looming': 9652, 'huawei': 9653, 'competitors': 9654, '27th': 9655, 'touchdown': 9656, '08': 9657, 'pardon': 9658, 'elder': 9659, 'blizzard': 9660, 'pistons': 9661, 'dwight': 9662, 'chattanooga': 9663, 'atop': 9664, 'homage': 9665, 'tbilisi': 9666, 'ark': 9667, 'imposes': 9668, 'duck': 9669, 'festive': 9670, 'lowcost': 9671, 'naming': 9672, 'rejecting': 9673, 'tumour': 9674, 'ravi': 9675, 'harlem': 9676, 'leaking': 9677, 'timing': 9678, 'unnamed': 9679, 'supervision': 9680, 'seaside': 9681, 'reads': 9682, 'iraqs': 9683, 'â€': 9684, 'cameroon': 9685, '37yearold': 9686, 'skiing': 9687, 'burglars': 9688, 'supposed': 9689, 'grounded': 9690, 'qualcomm': 9691, 'appliances': 9692, 'fullyear': 9693, 'speakers': 9694, 'opt': 9695, 'summoned': 9696, 'overshadowed': 9697, 'whopping': 9698, 'secretarygeneral': 9699, 'samoa': 9700, 'municipalities': 9701, 'hiatus': 9702, 'ivan': 9703, 'gears': 9704, 'abuses': 9705, 'pretoria': 9706, 'crusaders': 9707, 'bacteria': 9708, 'reactors': 9709, 'pocket': 9710, 'employed': 9711, 'campaigners': 9712, 'receivers': 9713, 'annan': 9714, 'procurement': 9715, 'column': 9716, 'militia': 9717, 'crossings': 9718, 'philips': 9719, 'barrett': 9720, 'peer': 9721, 'fragrance': 9722, 'baxter': 9723, 'sutherland': 9724, 'confidential': 9725, 'intimate': 9726, 'jain': 9727, 'kristin': 9728, 'rotary': 9729, 'byrd': 9730, 'voip': 9731, 'handful': 9732, 'kimoon': 9733, 'ballet': 9734, 'banquet': 9735, 'jill': 9736, 'edwin': 9737, 'youngster': 9738, 'labrador': 9739, 'elena': 9740, 'sears': 9741, 'hazard': 9742, 'guillen': 9743, 'dragons': 9744, 'kaif': 9745, 'nicholas': 9746, 'feelings': 9747, 'flower': 9748, 'bethlehem': 9749, 'booze': 9750, 'chasing': 9751, 'penelope': 9752, 'choppy': 9753, 'napa': 9754, 'pensioners': 9755, 'mulls': 9756, 'colo': 9757, 'herbert': 9758, 'roanoke': 9759, 'acceptance': 9760, 'pearson': 9761, 'akshay': 9762, 'limiting': 9763, 'overtake': 9764, 'motivated': 9765, 'licences': 9766, 'israelis': 9767, 'ignored': 9768, 'middlesbrough': 9769, 'lorenzo': 9770, 'rumored': 9771, 'beau': 9772, '109': 9773, 'tall': 9774, 'except': 9775, '2g': 9776, 'refining': 9777, 'broward': 9778, 'obstruction': 9779, 'mahama': 9780, 'paddy': 9781, 'exposing': 9782, 'aviva': 9783, 'petraeus': 9784, 'publicity': 9785, 'chevron': 9786, 'jacksons': 9787, 'condolences': 9788, 'cialis': 9789, 'kendra': 9790, 'q1': 9791, 'intoxicated': 9792, 'rainy': 9793, 'lin': 9794, 'scholarships': 9795, 'stab': 9796, 'interviewed': 9797, 'nvidia': 9798, 'emerges': 9799, 'shrinks': 9800, 'elects': 9801, 'counseling': 9802, 'mourning': 9803, 'processors': 9804, 'optimization': 9805, 'recruited': 9806, 'steele': 9807, 'hoffman': 9808, 'ignoring': 9809, 'shrinking': 9810, 'screened': 9811, 'enabling': 9812, 'khurshid': 9813, 'avatar': 9814, 'classified': 9815, 'sands': 9816, 'candy': 9817, 'bribe': 9818, 'threegame': 9819, 'determination': 9820, 'adequate': 9821, 'vogue': 9822, 'assists': 9823, 'pad': 9824, 'lampard': 9825, 'flexibility': 9826, 'endorsing': 9827, 'supplied': 9828, 'tone': 9829, 'telugu': 9830, 'gutted': 9831, 'owes': 9832, 'answered': 9833, 'jj': 9834, 'leinster': 9835, 'polo': 9836, 'marcos': 9837, 'supplying': 9838, 'nephew': 9839, 'tune': 9840, 'goodman': 9841, 'sanctuary': 9842, 'wrestler': 9843, 'regularly': 9844, 'react': 9845, 'onetime': 9846, 'reader': 9847, 'nortel': 9848, 'alligator': 9849, 'boone': 9850, 'identification': 9851, 'thoughts': 9852, 'onboard': 9853, 'surgical': 9854, 'corrections': 9855, 'alumni': 9856, 'welcoming': 9857, 'irrigation': 9858, 'lit': 9859, 'trinity': 9860, 'owing': 9861, 'dangers': 9862, 'pedestrians': 9863, 'princeton': 9864, 'middletown': 9865, 'sonic': 9866, 'premature': 9867, 'photographs': 9868, 'bismarck': 9869, 'trinamool': 9870, 'rancho': 9871, 'secretariat': 9872, 'artificial': 9873, 'contributing': 9874, 'ankara': 9875, 'chi': 9876, 'questionable': 9877, 'linux': 9878, 'jerome': 9879, 'outcome': 9880, 'condoleezza': 9881, 'innovations': 9882, 'advancing': 9883, 'cows': 9884, 'tenure': 9885, 'asias': 9886, 'calhoun': 9887, 'longstanding': 9888, 'hydrogen': 9889, 'penske': 9890, 'abcs': 9891, 'calvin': 9892, 'sania': 9893, '1000': 9894, 'ministrys': 9895, 'imagine': 9896, 'slot': 9897, 'varsity': 9898, 'meningitis': 9899, 'vonn': 9900, 'usher': 9901, 'newfoundland': 9902, 'cruces': 9903, 'voices': 9904, 'habits': 9905, 'referees': 9906, 'lacks': 9907, 'multimedia': 9908, 'wee': 9909, 'intentionally': 9910, 'asbestos': 9911, 'relaunch': 9912, 'foray': 9913, 'grab': 9914, 'quota': 9915, 'crises': 9916, 'naples': 9917, 'dirt': 9918, 'holes': 9919, 'gareth': 9920, 'lethal': 9921, 'cancellation': 9922, 'keynote': 9923, 'mentioned': 9924, 'petty': 9925, 'dressing': 9926, '200809': 9927, 'lingerie': 9928, 'unwanted': 9929, 'stun': 9930, 'harare': 9931, 'starred': 9932, 'thrashers': 9933, 'coli': 9934, 'mcafee': 9935, 'slur': 9936, 'literally': 9937, 'scope': 9938, '31st': 9939, 'weighs': 9940, 'gibb': 9941, 'shipment': 9942, 'welch': 9943, 'pageant': 9944, 'reductions': 9945, 'karen': 9946, 'meyer': 9947, 'emmanuel': 9948, 'goody': 9949, '41yearold': 9950, 'nepali': 9951, 'reply': 9952, 'slalom': 9953, 'fontana': 9954, 'uniteds': 9955, 'attendants': 9956, 'ventura': 9957, 'cesar': 9958, 'exchanged': 9959, 'desmond': 9960, 'solomon': 9961, 'belongs': 9962, 'achieves': 9963, 'arrow': 9964, '103': 9965, 'relocate': 9966, '200th': 9967, 'bluray': 9968, 'separation': 9969, 'predicting': 9970, 'bites': 9971, 'oconnor': 9972, 'axis': 9973, 'annie': 9974, 'bounces': 9975, 'nominates': 9976, 'costcutting': 9977, 'cis': 9978, 'serzh': 9979, 'unveiling': 9980, 'solicitor': 9981, 'nowhere': 9982, 'dragging': 9983, 'categories': 9984, 'downside': 9985, 'mccoy': 9986, 'cartoon': 9987, 'sergei': 9988, 'kathleen': 9989, 'wears': 9990, 'derrick': 9991, '270': 9992, 'captains': 9993, 'bursa': 9994, 'ear': 9995, 'iranians': 9996, 'structural': 9997, 'conspiring': 9998, 'blown': 9999}\n"
     ]
    }
   ],
   "source": [
    "vocab_size = 10_000\n",
    "vocab = vocab_counter.most_common(vocab_size)\n",
    "token_to_id = {word: i for i, (word, _) in enumerate(vocab)}\n",
    "print(token_to_id)"
   ]
  },
  {
   "cell_type": "markdown",
   "metadata": {
    "collapsed": false,
    "pycharm": {
     "name": "#%% md\n"
    }
   },
   "source": [
    "<a name='e4'></a>\n",
    "### Exercise 4: Bag of Words\n",
    "(1p) Here we will create the bag-of-words representation of the sentences. The function will take a single sentence (list of tokens) and return an array of size `vocab_size` with the counts of each word in the vocabulary. The\n",
    "`vocab_size` is calculated as the length of the passed `token_to_id` dictionary. The resulting array should have zeros everywhere but the indices corresponding to the words in the vocabulary where it should have the counts of the words in the sentence. For example, if the sentence is `['fox', 'and', 'deer']` and the vocabulary is `{'fox': 0, 'and': 1, 'deer': 2}`, the resulting array should be `[1, 1, 1]`. If the sentence is `['fox', 'and', 'fox', 'deer']`, the resulting array should be `[2, 1, 1]`."
   ]
  },
  {
   "cell_type": "code",
   "execution_count": 20,
   "metadata": {
    "collapsed": false,
    "pycharm": {
     "name": "#%%\n"
    }
   },
   "outputs": [],
   "source": [
    "def bag_of_words(sentence, token_to_id):\n",
    "    \"\"\"\n",
    "    Creates a bag-of-words representation of the sentence\n",
    "    Args:\n",
    "        sentence: a list of tokens\n",
    "        token_to_id: a dictionary mapping each word to an index in the vocabulary\n",
    "\n",
    "    Returns:: a numpy array of size vocab_size with the counts of each word in the vocabulary\n",
    "\n",
    "    \"\"\"\n",
    "    vocab_size = len(token_to_id)\n",
    "    bow = np.zeros(vocab_size, dtype=int)\n",
    "\n",
    "    ### YOUR CODE HERE\n",
    "\n",
    "    # iterate over the tokens in the sentence\n",
    "    for token in sentence:\n",
    "        # if the token is in the vocabulary, increment its count\n",
    "        if token in token_to_id:\n",
    "            index = token_to_id[token]\n",
    "            bow[index] += 1   \n",
    "\n",
    "    ### YOUR CODE ENDS HERE\n",
    "\n",
    "    return bow"
   ]
  },
  {
   "cell_type": "markdown",
   "metadata": {
    "collapsed": false,
    "pycharm": {
     "name": "#%% md\n"
    }
   },
   "source": [
    "Let's see how the function works on a single sentence. The output should be a numpy array of size `vocab_size` with the counts of each word in the vocabulary."
   ]
  },
  {
   "cell_type": "code",
   "execution_count": 21,
   "metadata": {
    "collapsed": false,
    "pycharm": {
     "name": "#%%\n"
    }
   },
   "outputs": [
    {
     "name": "stdout",
     "output_type": "stream",
     "text": [
      "Tokenized sentence:\n",
      "['hazmat', 'team', 'was', 'called', 'to', 'upmc', 'mercy', 'hospital', 'for', 'oxygen', 'leak', 'early', 'tuesday', 'morning', '.']\n",
      "Bag of words:\n",
      "[1 0 1 ... 0 0 0]\n",
      "Type of bag of words:\n",
      "<class 'numpy.ndarray'>\n",
      "Shape of bag of words:\n",
      "(10000,)\n",
      "Non-zero elements in bag of words:\n",
      "[   0    2    7   22   44  102  133  136  159  297 3493 7143]\n"
     ]
    },
    {
     "data": {
      "text/plain": [
       "1"
      ]
     },
     "execution_count": 21,
     "metadata": {},
     "output_type": "execute_result"
    }
   ],
   "source": [
    "print('Tokenized sentence:')\n",
    "print(tokenized_sentences[0])\n",
    "sentence_bow = bag_of_words(tokenized_sentences[0], token_to_id)\n",
    "\n",
    "print('Bag of words:')\n",
    "print(sentence_bow)\n",
    "print('Type of bag of words:')\n",
    "print(type(sentence_bow))\n",
    "print('Shape of bag of words:')\n",
    "print(sentence_bow.shape)\n",
    "print('Non-zero elements in bag of words:')\n",
    "print(np.nonzero(sentence_bow)[0])"
   ]
  },
  {
   "cell_type": "markdown",
   "metadata": {
    "collapsed": false,
    "pycharm": {
     "name": "#%% md\n"
    }
   },
   "source": [
    "We can also check in detail what words and their counts are in the bag-of-words representation."
   ]
  },
  {
   "cell_type": "code",
   "execution_count": 22,
   "metadata": {
    "collapsed": false,
    "pycharm": {
     "name": "#%%\n"
    }
   },
   "outputs": [
    {
     "name": "stdout",
     "output_type": "stream",
     "text": [
      "Non-zero elements in bag of words:\n",
      "[   0    2    7   22   44  102  133  136  159  297 3493 7143]\n",
      ". : 1\n",
      "to : 1\n",
      "for : 1\n",
      "was : 1\n",
      "tuesday : 1\n",
      "morning : 1\n",
      "team : 1\n",
      "early : 1\n",
      "hospital : 1\n",
      "called : 1\n",
      "leak : 1\n",
      "mercy : 1\n"
     ]
    }
   ],
   "source": [
    "sentence_non_zero_bow = np.nonzero(sentence_bow)[0]\n",
    "print('Non-zero elements in bag of words:')\n",
    "print(sentence_non_zero_bow)\n",
    "for i in sentence_non_zero_bow:\n",
    "    print(vocab[i][0], ':', sentence_bow[i])"
   ]
  },
  {
   "cell_type": "markdown",
   "metadata": {
    "collapsed": false,
    "pycharm": {
     "name": "#%% md\n"
    }
   },
   "source": [
    "The following function will apply all the steps we implemented to a single sentence. It returns a bag of words representation that we will use to calculate the similarity between different sentences."
   ]
  },
  {
   "cell_type": "code",
   "execution_count": 23,
   "metadata": {
    "collapsed": false,
    "pycharm": {
     "name": "#%%\n"
    }
   },
   "outputs": [],
   "source": [
    "def embed_text(text, clean_fn, tokenize_fn, embed_fn):\n",
    "    cleaned = clean_fn(text)\n",
    "    tokens = tokenize_fn(cleaned)\n",
    "    embedding = embed_fn(tokens)\n",
    "    return embedding"
   ]
  },
  {
   "cell_type": "markdown",
   "metadata": {
    "collapsed": false,
    "pycharm": {
     "name": "#%% md\n"
    }
   },
   "source": [
    "<a name='e5'></a>\n",
    "### Exercise 5: Cosine Similarity between two vectors\n",
    "\n",
    "(1p) Complete the following function that given any two vectors will compute the cosine similarity. If you don't remember the formula for the cosine similarity, revisit the course material. Notice that the function receives numpy arrays and recall that you can express cosine similarity as a dot product. Use numpy functions to write an efficient implementation."
   ]
  },
  {
   "cell_type": "code",
   "execution_count": 25,
   "metadata": {
    "collapsed": false,
    "pycharm": {
     "name": "#%%\n"
    }
   },
   "outputs": [],
   "source": [
    "def cosine_similarity(vector1, vector2):\n",
    "    \"\"\"\n",
    "    Computes the cosine similarity between two vectors\n",
    "    Args:\n",
    "        vector1: numpy array of the first vector\n",
    "        vector2: numpy array of the second vector\n",
    "\n",
    "    Returns: cosine similarity\n",
    "\n",
    "    \"\"\"\n",
    "    ### YOUR CODE HERE\n",
    "    # dot product\n",
    "    dot_product = np.dot(vector1, vector2)\n",
    "    \n",
    "    # norms of vectors\n",
    "    norm1 = np.linalg.norm(vector1)\n",
    "    norm2 = np.linalg.norm(vector2)\n",
    "    \n",
    "    cosine_similarity = dot_product / (norm1 * norm2)\n",
    "    return cosine_similarity\n",
    "    ### YOUR CODE ENDS HERE"
   ]
  },
  {
   "cell_type": "code",
   "execution_count": 30,
   "metadata": {
    "collapsed": false,
    "pycharm": {
     "name": "#%%\n"
    }
   },
   "outputs": [
    {
     "data": {
      "text/plain": [
       "-0.9999999999999998"
      ]
     },
     "execution_count": 30,
     "metadata": {},
     "output_type": "execute_result"
    }
   ],
   "source": [
    "cosine_similarity(np.array([0, -1, -2]), np.array([0, 2, 4]))"
   ]
  },
  {
   "cell_type": "code",
   "execution_count": 32,
   "metadata": {
    "collapsed": false,
    "pycharm": {
     "name": "#%%\n"
    }
   },
   "outputs": [
    {
     "name": "stdout",
     "output_type": "stream",
     "text": [
      "Query: fox and deer\n",
      "Cosine Similarity: 0.2182 - Sentence: The quick brown fox jumps over the lazy dog.\n",
      "Cosine Similarity: 0.0000 - Sentence: Some interesting document containin sentences.\n",
      "Cosine Similarity: 0.3482 - Sentence: The quick brown fox jumps over the lazy cat and some other stuff.\n",
      "Cosine Similarity: 0.6547 - Sentence: Fox and deer are not friends.\n",
      "Cosine Similarity: 0.3974 - Sentence: Fox and deer are not friends. But this document is a lot longer than the previous one.\n",
      "Cosine Similarity: 0.3746 - Sentence: Fox and deer are not friends. But this document is a lot longer than the previous one. We can add sentence by sentence and see how the embeddings change.\n"
     ]
    }
   ],
   "source": [
    "sentences = [\n",
    "    'The quick brown fox jumps over the lazy dog.',\n",
    "    'Some interesting document containin sentences.',\n",
    "    'The quick brown fox jumps over the lazy cat and some other stuff.',\n",
    "    'Fox and deer are not friends.',\n",
    "    'Fox and deer are not friends. But this document is a lot longer than the previous one.',\n",
    "    'Fox and deer are not friends. But this document is a lot longer than the previous one. We can add sentence by sentence and see how the embeddings change.',\n",
    "]\n",
    "embedded_sentences = [\n",
    "    embed_text(sentence, clean, tokenize, lambda x: bag_of_words(x, token_to_id))\n",
    "    for sentence in sentences\n",
    "]\n",
    "\n",
    "query = 'fox and deer'\n",
    "embedded_query = embed_text(query, clean, tokenize, lambda x: bag_of_words(x, token_to_id))\n",
    "\n",
    "cosine_similarities = [\n",
    "    cosine_similarity(embedded_query, embedded_sentence)\n",
    "    for embedded_sentence in embedded_sentences\n",
    "]\n",
    "print(f'Query: {query}')\n",
    "for sent, cos_sim in zip(sentences, cosine_similarities):\n",
    "    print(f'Cosine Similarity: {cos_sim:.4f} - Sentence: {sent}')"
   ]
  },
  {
   "cell_type": "markdown",
   "metadata": {
    "collapsed": false,
    "pycharm": {
     "name": "#%% md\n"
    }
   },
   "source": [
    "We will apply the function to the whole dataset. This might take a while, so be patient. The result will be stored in the `sentence_bow` and `compressed_bow` fields of the dataset."
   ]
  },
  {
   "cell_type": "code",
   "execution_count": 33,
   "metadata": {
    "collapsed": false,
    "pycharm": {
     "name": "#%%\n"
    }
   },
   "outputs": [],
   "source": [
    "def bag_of_words_dataset(example):\n",
    "    \"\"\"\n",
    "    Creates a bag-of-words representation of the sentence and compressed sentence in the example from the Dataset\n",
    "    Args:\n",
    "        example: an example from the Dataset\n",
    "\n",
    "    Returns: updated example with 'sentence_bow' and 'compressed_bow' columns\n",
    "\n",
    "    \"\"\"\n",
    "    sentence_tokens = example['sentence_tokens']\n",
    "    compressed_tokens = example['compressed_tokens']\n",
    "\n",
    "    sentence_bow = bag_of_words(sentence_tokens, token_to_id)\n",
    "    compressed_bow = bag_of_words(compressed_tokens, token_to_id)\n",
    "\n",
    "    example['sentence_bow'] = sentence_bow\n",
    "    example['compressed_bow'] = compressed_bow\n",
    "    return example"
   ]
  },
  {
   "cell_type": "markdown",
   "metadata": {
    "collapsed": false,
    "pycharm": {
     "name": "#%% md\n"
    }
   },
   "source": [
    "The following cell will apply the function to the whole dataset. The result will be stored in the `sentence_bow` and `compressed_bow` fields of the dataset. We will also convert the dataset's fields `sentence_bow` and `compressed_bow` to numpy format for easier manipulation."
   ]
  },
  {
   "cell_type": "code",
   "execution_count": 34,
   "metadata": {
    "collapsed": false,
    "pycharm": {
     "name": "#%%\n"
    }
   },
   "outputs": [
    {
     "name": "stderr",
     "output_type": "stream",
     "text": [
      "Map: 100%|██████████| 36000/36000 [00:06<00:00, 5622.10 examples/s]"
     ]
    },
    {
     "name": "stdout",
     "output_type": "stream",
     "text": [
      "Dataset({\n",
      "    features: ['set', 'clean_sentence', 'clean_compressed', 'sentence_tokens', 'compressed_tokens', 'sentence_bow', 'compressed_bow'],\n",
      "    num_rows: 36000\n",
      "})\n"
     ]
    },
    {
     "name": "stderr",
     "output_type": "stream",
     "text": [
      "\n"
     ]
    }
   ],
   "source": [
    "test_ds = split_ds['test'].map(bag_of_words_dataset)\n",
    "test_ds = test_ds.with_format('np', columns=['sentence_bow', 'compressed_bow'], dtype=float)\n",
    "print(test_ds)"
   ]
  },
  {
   "cell_type": "markdown",
   "metadata": {
    "collapsed": false,
    "pycharm": {
     "name": "#%% md\n"
    }
   },
   "source": [
    "Let's check the results. The `sentence_bow` and `compressed_bow` fields should contain the bag-of-words representation of the sentences and compressed sentences, respectively."
   ]
  },
  {
   "cell_type": "code",
   "execution_count": 35,
   "metadata": {
    "collapsed": false,
    "pycharm": {
     "name": "#%%\n"
    }
   },
   "outputs": [
    {
     "name": "stdout",
     "output_type": "stream",
     "text": [
      "{'sentence_bow': array([1., 3., 1., ..., 0., 0., 0.]), 'compressed_bow': array([0., 0., 0., ..., 0., 0., 0.])}\n"
     ]
    }
   ],
   "source": [
    "print(test_ds[0])"
   ]
  },
  {
   "cell_type": "code",
   "execution_count": 36,
   "metadata": {
    "collapsed": false,
    "pycharm": {
     "name": "#%%\n"
    }
   },
   "outputs": [
    {
     "name": "stdout",
     "output_type": "stream",
     "text": [
      "(36000, 10000)\n"
     ]
    }
   ],
   "source": [
    "sentences_bows = test_ds['sentence_bow']\n",
    "print(sentences_bows.shape)"
   ]
  },
  {
   "cell_type": "markdown",
   "metadata": {
    "collapsed": false,
    "pycharm": {
     "name": "#%% md\n"
    }
   },
   "source": [
    "Now we can start building a retriever based on the bag of words representation. The first step is to calculate the cosine similarity between two vectors."
   ]
  },
  {
   "cell_type": "markdown",
   "metadata": {
    "collapsed": false,
    "pycharm": {
     "name": "#%% md\n"
    }
   },
   "source": [
    "<a name='e6'></a>\n",
    "### Exercise 6: Cosine Similarity between a vector and an array of vectors\n",
    "\n",
    "(2p) The next step in our retrieval system, would be to calculate the proximity of a query to our retrieval corpus (in our case that is all the sentences).\n",
    "\n",
    "Complete the following function to calculate the cosine similarity between a vector (first parameter `vector`, that will usually be the query vector) and all other vectors (second parameter `other_vectors`, that will be the sentence embeddings in our case). Note that the `other_vectors` parameter is a single numpy array of size `N x D`, where $N$ is the number of vectors and $D$ is the dimension of each vector.\n",
    "\n",
    "For maximum efficiency (we will need it) do not use loops. Try to write the implementation with numpy functions. Hint: matrix multiplication can be seen as calculating the dot product between rows and columns of the multiplied matrices."
   ]
  },
  {
   "cell_type": "code",
   "execution_count": 41,
   "metadata": {
    "id": "LgaV2b3fpSOR",
    "pycharm": {
     "name": "#%%\n"
    }
   },
   "outputs": [],
   "source": [
    "def cosine_similarity_1_to_n(vector, other_vectors):\n",
    "    \"\"\"\n",
    "    Calculates the cosine similarity between a single vector and other vectors.\n",
    "    Args:\n",
    "        vector: a numpy array representing a vector of D dimensions\n",
    "        other_vectors: a 2D numpy array representing other vectors (of the size NxD, where N is the number of vectors and D is their dimension)\n",
    "\n",
    "    Returns: a 1D numpy array of size N containing the cosine similarity between the vector and all the other vectors\n",
    "\n",
    "    \"\"\"\n",
    "\n",
    "    #### YOUR CODE HERE\n",
    "\n",
    "    # inefficient way\n",
    "    # cosine_similarities = np.array([cosine_similarity(vector, other_vector) for other_vector in other_vectors])\n",
    "    \n",
    "    return np.dot(other_vectors, vector) / (np.linalg.norm(other_vectors, axis=1) * np.linalg.norm(vector))\n",
    "\n",
    "    ### YOUR CODE ENDS HERE"
   ]
  },
  {
   "cell_type": "markdown",
   "metadata": {
    "collapsed": false,
    "id": "irNqAJZLpSOR",
    "pycharm": {
     "name": "#%% md\n"
    }
   },
   "source": [
    "We will use the function to calculate the similarity of all sentences in the dataset to our query."
   ]
  },
  {
   "cell_type": "code",
   "execution_count": 42,
   "metadata": {
    "collapsed": false,
    "pycharm": {
     "name": "#%%\n"
    }
   },
   "outputs": [],
   "source": [
    "query = 'fox and deer'\n",
    "embedded_query = embed_text(query, clean, tokenize, lambda x: bag_of_words(x, token_to_id))"
   ]
  },
  {
   "cell_type": "code",
   "execution_count": 44,
   "metadata": {
    "id": "uD9mVAhYpSOR",
    "pycharm": {
     "name": "#%%\n"
    }
   },
   "outputs": [
    {
     "name": "stdout",
     "output_type": "stream",
     "text": [
      "(36000,)\n",
      "[0.         0.14002801 0.         0.         0.         0.12038585\n",
      " 0.         0.         0.11111111 0.        ]\n",
      "0.4216370213557839\n"
     ]
    }
   ],
   "source": [
    "query_similarity = cosine_similarity_1_to_n(embedded_query, sentences_bows)\n",
    "print(query_similarity.shape)\n",
    "print(query_similarity[:10])"
   ]
  },
  {
   "cell_type": "markdown",
   "metadata": {
    "collapsed": false,
    "id": "_l3erVTNpSOR",
    "pycharm": {
     "name": "#%% md\n"
    }
   },
   "source": [
    "The following cell will select the most similar sentence."
   ]
  },
  {
   "cell_type": "code",
   "execution_count": 40,
   "metadata": {
    "id": "0wWa4AWHpSOR",
    "pycharm": {
     "name": "#%%\n"
    }
   },
   "outputs": [
    {
     "name": "stdout",
     "output_type": "stream",
     "text": [
      "9604\n",
      "0.4216370213557839\n",
      "Commentators on both the right and left and both secular and religious note with disdain that Mormons have irrational practices and beliefs.\n"
     ]
    }
   ],
   "source": [
    "most_similar = int(np.argmax(query_similarity))\n",
    "print(most_similar)\n",
    "print(query_similarity[most_similar])\n",
    "print(split_ds['test'][most_similar]['set'][0]) "
   ]
  },
  {
   "cell_type": "markdown",
   "metadata": {
    "collapsed": false,
    "id": "fpdJHFD1pSOR",
    "pycharm": {
     "name": "#%% md\n"
    }
   },
   "source": [
    "The following function will return the indices of the top-k elements in the array."
   ]
  },
  {
   "cell_type": "code",
   "execution_count": 45,
   "metadata": {
    "id": "QFUNI9elpSOS",
    "pycharm": {
     "name": "#%%\n"
    }
   },
   "outputs": [],
   "source": [
    "def top_k_indices(array, k, sorted=True):\n",
    "    \"\"\"\n",
    "    Returns top-k indices from the 1D array. If `sorted` is `True` the returned indices are sorted in the descending order\n",
    "    Args:\n",
    "        array: a 1D numpy array\n",
    "        k: a number of top indices to return\n",
    "        sorted: if True, the returned indices are sorted in descending order\n",
    "\n",
    "    Returns: a 1D array containing top-k indices\n",
    "\n",
    "    \"\"\"\n",
    "    top_k = np.argpartition(array, -k)[-k:]\n",
    "    if sorted:\n",
    "        selected = array[top_k]\n",
    "        sorted_selected = (-selected).argsort()\n",
    "        top_k = top_k[sorted_selected]\n",
    "    return top_k"
   ]
  },
  {
   "cell_type": "code",
   "execution_count": 46,
   "metadata": {
    "id": "nY8vvJdepSOS",
    "pycharm": {
     "name": "#%%\n"
    }
   },
   "outputs": [
    {
     "name": "stdout",
     "output_type": "stream",
     "text": [
      "Commentators on both the right and left and both secular and religious note with disdain that Mormons have irrational practices and beliefs.\n",
      "similarity: 0.4216370213557839\n",
      "Guitar Hero World Tour is coming to PC and Mac platforms this summer and will feature wireless controllers, online play, ``and a Music Studio feature for composing and editing original rock and roll anthems.''\n",
      "similarity: 0.38235955645093633\n",
      "A Deer Lodge man was shot and killed in a weekend hunting accident at a campground southeast of Deer Lodge.\n",
      "similarity: 0.37796447300922725\n",
      "Terrebonne and Lafourche School Board offices and public schools will be closed Monday and reopen Tuesday.\n",
      "similarity: 0.37796447300922725\n",
      "Police and Rangers continued raids and search operation against targets killers and criminals and during a raid in Maripur locality the Rangers arrested three accused of Lyari gang war.\n",
      "similarity: 0.37463432463267765\n",
      "The Guideline specifies that private capital is attracted and encouraged to enter such fields of science, technology and industry for national defense as scientific research and production of weaponry and equipment, investment and construction of science, technology and industry for national defense, restructuring and reorganization of military industrial enterprises and development of military-civilian dual-use technologies.\n",
      "similarity: 0.37219368415938836\n",
      "Actress TARA REID has completed a 60-day rehab stint and now insists she's ``clean and sober and excited'' about the future.\n",
      "similarity: 0.3611575592573077\n",
      "Tuberculosis recently was found in a captive red and fallow deer herd in Columbia County during routine testing by the Department Agriculture and Markets.\n",
      "similarity: 0.3611575592573077\n",
      "Fox has apologized to Asians after a Fox Sports report made fun of Asian students' accents and knowledge of college football.\n",
      "similarity: 0.3611575592573077\n",
      "China and the United States agreed in Beijing on Tuesday to step up bilateral constructive and cooperative relations and handle the bilateral ties ``in a long-term and strategic perspective.''\n",
      "similarity: 0.360667853866973\n"
     ]
    }
   ],
   "source": [
    "top_indices = top_k_indices(query_similarity, k=10).tolist()\n",
    "for idx in top_indices:\n",
    "    print(split_ds['test'][idx]['set'][0])\n",
    "    print(f'similarity: {query_similarity[idx]}')"
   ]
  },
  {
   "cell_type": "markdown",
   "metadata": {
    "collapsed": false,
    "id": "BuRI2JzQpSOS",
    "pycharm": {
     "name": "#%% md\n"
    }
   },
   "source": [
    "<a name='e7'></a>\n",
    "### Exercise 7: Analyzing and improving BOW search results\n",
    "\n",
    "Experiment with different queries (taking into account the nature of the dataset and your insights from the analysis so far).\n",
    "Answer the following questions:\n",
    "- (5p) Does the search perform well? When does it fail? Discuss several examples that are we get an expected but also unexpected results (find at least 3 from each category). Provide reasons for the good/bad result in each case (e.g. is there some error in the data, is there some linguistic phenomenon that we don't capture, is something wrong with our modeling with average embeddings, ...)\n",
    "- (5p) If you see problems with search, how could you improve your implementation? Change the functions above, if you think there is room for improvement. Describe your changes and how they made the search better or (in case you made no changes) explain what made the search robust enough to work well."
   ]
  },
  {
   "cell_type": "code",
   "execution_count": null,
   "metadata": {
    "id": "sEQKHAvcpSOS",
    "pycharm": {
     "name": "#%%\n"
    }
   },
   "outputs": [],
   "source": [
    "#### YOUR CODE HERE\n",
    "\n",
    "\n",
    "\n",
    "\n",
    "### YOUR CODE ENDS HERE"
   ]
  },
  {
   "cell_type": "markdown",
   "metadata": {
    "id": "eiIGTfq6eFI5",
    "pycharm": {
     "name": "#%% md\n"
    }
   },
   "source": [
    "// your comments"
   ]
  },
  {
   "cell_type": "markdown",
   "metadata": {
    "collapsed": false,
    "pycharm": {
     "name": "#%% md\n"
    }
   },
   "source": [
    "## 3. Term Frequency - Inverse Document Frequency (TF-IDF)\n",
    "\n",
    "In this section we will implement the TF-IDF algorithm. While BOW is a simple way to represent the documents, it has some limitations. For example, it does not take into account the importance of each word in the document. TF-IDF representation takes into account the frequency of each word in the document and the frequency of the word in the whole dataset. It is a widely used technique in information retrieval and text mining. Refer to the lecture slides for more details."
   ]
  },
  {
   "cell_type": "markdown",
   "metadata": {
    "collapsed": false,
    "pycharm": {
     "name": "#%% md\n"
    }
   },
   "source": [
    "<a name='e8'></a>\n",
    "### Exercise 8: Inverse Document Frequency (IDF)\n",
    "(5p) In this exercise, you will implement the TF-IDF algorithm. First, calculate Inverse Document Frequency (IDF) for each word in the vocabulary. Intuitively, it is a measure of how informative a word is based on the whole dataset. Consult the lecture slides for the details. The IDF is calculated as follows:\n",
    "$$\n",
    "IDF(t) = log_{10}(N/df(t))$$\n",
    "where $N$ is the total number of documents (sentences) in the dataset and $df(t)$ is the number of documents containing the word $t$.\n"
   ]
  },
  {
   "cell_type": "code",
   "execution_count": 58,
   "metadata": {
    "collapsed": false,
    "pycharm": {
     "name": "#%%\n"
    }
   },
   "outputs": [],
   "source": [
    "def calculate_idf(bows):\n",
    "    \"\"\"\n",
    "    Calculates the IDF for each word in the vocabulary\n",
    "    Args:\n",
    "        bows: numpty array of size (N x D) where N is the number of documents and D is the vocabulary size\n",
    "\n",
    "    Returns: a numpy array of size D with IDF values for each token\n",
    "    \"\"\"\n",
    "\n",
    "    ### YOUR CODE HERE\n",
    "    # N:\n",
    "    N = bows.shape[0]\n",
    "    \n",
    "    # Df:\n",
    "    DFt = np.zeros(bows.shape[1], dtype=int)\n",
    "    \n",
    "    \n",
    "    # iterate over termps     \n",
    "    for i in range(bows.shape[1]):\n",
    "        DFt[i] = np.count_nonzero(bows[:, i])\n",
    "    \n",
    "    # IDF:\n",
    "    IDFt = np.log(N / (DFt + 1)) # adding 1 to avoid division by zero!!!!!!!!!!!!!!!!!!!!!!!!!!!!!!!!!!!!!\n",
    "    \n",
    "    return IDFt\n",
    "\n",
    "    ### YOUR CODE ENDS HERE\n",
    "\n",
    "idf = calculate_idf(sentences_bows)"
   ]
  },
  {
   "cell_type": "markdown",
   "metadata": {
    "collapsed": false,
    "pycharm": {
     "name": "#%% md\n"
    }
   },
   "source": [
    "<a name='e9'></a>\n",
    "### Exercise 9: TF-IDF\n",
    "- (5p) Calculate TF-IDF on the `test` subset of the dataset.\n",
    "- (5p) Analyze the search results based on your implemented TF-IDF. Does the search perform well? When does it fail? Discuss several examples that are we get an expected but also unexpected results (find at least 3 from each category). Provide reasons for the good/bad result in each case (e.g. is there some error in the data, is there some linguistic phenomenon that we don't capture, is something wrong with our modeling with average embeddings, ...)\n",
    "- (5p) Compare the results with the ones you got with the bag-of-words representation. Discuss the differences and similarities. Do you think TF-IDF is a better representation for this task? Why or why not? Provide examples to support your arguments.\n"
   ]
  },
  {
   "cell_type": "code",
   "execution_count": 65,
   "metadata": {
    "collapsed": false,
    "pycharm": {
     "name": "#%%\n"
    }
   },
   "outputs": [
    {
     "name": "stderr",
     "output_type": "stream",
     "text": [
      "/var/folders/84/sbq4d0yx2vdcrx0_5_cy2hmh0000gn/T/ipykernel_9500/1986818282.py:4: RuntimeWarning: divide by zero encountered in log\n",
      "  TFIDF = (1 + np.log(sentences_bows)) * idf\n"
     ]
    },
    {
     "data": {
      "text/plain": [
       "array([0.02120248, 0.95563258, 1.27546488, ..., 8.88183631, 8.09337894,\n",
       "       8.09337894])"
      ]
     },
     "execution_count": 65,
     "metadata": {},
     "output_type": "execute_result"
    }
   ],
   "source": [
    "### YOUR CODE HERE\n",
    "\n",
    "# TF = sentences_bows\n",
    "TFIDF = (1 + np.log(sentences_bows)) * idf\n",
    "\n",
    "# calculate TFIDF on test dataset\n",
    "test_ds = split_ds['test'].map(bag_of_words_dataset)\n",
    "test_ds = test_ds.with_format('np', columns=['sentence_bow', 'compressed_bow'], dtype=float)\n",
    "test_sentences_bows = test_ds['sentence_bow'] + 1 # add 1 to avoid division by zero\n",
    "TFIDF_test = (1 + np.log(test_sentences_bows)) * idf\n",
    "\n",
    "### YOUR CODE ENDS HERE\n",
    "\n",
    "### YOU CAN ADD MORE CELLS"
   ]
  },
  {
   "cell_type": "code",
   "execution_count": 69,
   "metadata": {},
   "outputs": [
    {
     "name": "stdout",
     "output_type": "stream",
     "text": [
      "[2. 2. 2. 2. 1. 2. 2. 1. 1. 1. 1. 1. 1. 1. 1. 1. 1. 1. 1. 1.]\n",
      "[0.02120248 0.95563258 1.27546488 1.27586451 0.84655739 1.77307473\n",
      " 2.10696771 1.45826786 1.40106965 1.86218193 1.79275997 1.88405752\n",
      " 1.75864712 2.10784102 2.14629385 2.19198831 2.32222107 2.17619721\n",
      " 1.98171005 2.17595244]\n"
     ]
    }
   ],
   "source": [
    "print(test_sentences_bows[1][:20])\n",
    "print(TFIDF_test[1][:20])"
   ]
  },
  {
   "cell_type": "markdown",
   "metadata": {
    "collapsed": false,
    "pycharm": {
     "name": "#%% md\n"
    }
   },
   "source": [
    "// your comments"
   ]
  },
  {
   "cell_type": "markdown",
   "metadata": {
    "collapsed": false,
    "pycharm": {
     "name": "#%% md\n"
    }
   },
   "source": [
    "## 4. Word Embeddings\n",
    "\n",
    "In this section you will load the pre-trained word embeddings model - Glove. You can read more about it [here](https://aclanthology.org/D14-1162/) ([https://aclanthology.org/D14-1162/](https://aclanthology.org/D14-1162/)). The embeddings are trained on a large corpus of text and are available in different dimensions. We will start with the dimension of 100, but later you will be asked to experiment with other dimensions.\n",
    "Gensim library maintains a storage containing some pre-trained models. You can read more about it [here](https://github.com/piskvorky/gensim-data) ([https://github.com/piskvorky/gensim-data](https://github.com/piskvorky/gensim-data)). Be sure to read the README of this repository.\n",
    "\n",
    "Let's first load the info of what models are available."
   ]
  },
  {
   "cell_type": "code",
   "execution_count": null,
   "metadata": {
    "collapsed": false,
    "pycharm": {
     "name": "#%%\n"
    }
   },
   "outputs": [],
   "source": [
    "import json\n",
    "import gensim.downloader as api\n",
    "\n",
    "info = api.info()  # show info about available models/datasets\n",
    "print(json.dumps(info['models'], indent=2))"
   ]
  },
  {
   "cell_type": "code",
   "execution_count": null,
   "metadata": {
    "collapsed": false,
    "pycharm": {
     "name": "#%%\n"
    }
   },
   "outputs": [],
   "source": [
    "glove_model = api.load(\"glove-wiki-gigaword-100\")"
   ]
  },
  {
   "cell_type": "markdown",
   "metadata": {
    "collapsed": false,
    "pycharm": {
     "name": "#%% md\n"
    }
   },
   "source": [
    "We can use the loaded model's `key_to_index` attribute to retrieve the whole vocabulary (aka for how many words we learned embeddings for)."
   ]
  },
  {
   "cell_type": "code",
   "execution_count": null,
   "metadata": {
    "collapsed": false,
    "pycharm": {
     "name": "#%%\n"
    }
   },
   "outputs": [],
   "source": [
    "vocab = list(glove_model.key_to_index)\n",
    "print(len(vocab))"
   ]
  },
  {
   "cell_type": "markdown",
   "metadata": {
    "collapsed": false,
    "pycharm": {
     "name": "#%% md\n"
    }
   },
   "source": [
    "Let's explore a bit further the embeddings. In the following cells, the embedding of a single word is returned. Double-check the dimensions (as sanity check). This is like inspecting the `W` matrix (weights) that we discussed in the lecture."
   ]
  },
  {
   "cell_type": "code",
   "execution_count": null,
   "metadata": {
    "collapsed": false,
    "pycharm": {
     "name": "#%%\n"
    }
   },
   "outputs": [],
   "source": [
    "# vector of a particular model. note that it is 100 dimensional as specified.\n",
    "glove_model['what']"
   ]
  },
  {
   "cell_type": "markdown",
   "metadata": {
    "collapsed": false,
    "pycharm": {
     "name": "#%% md\n"
    }
   },
   "source": [
    "Gensim objects offers different methods to easily run very common tasks. For example, there are different functions to find the most similar words.\n",
    "\n",
    "Check the documentation on how [`most_similar`](https://tedboy.github.io/nlps/generated/generated/gensim.models.Word2Vec.most_similar.html) and [`similar_by_word`](https://tedboy.github.io/nlps/generated/generated/gensim.models.Word2Vec.similar_by_word.html) can be used."
   ]
  },
  {
   "cell_type": "code",
   "execution_count": null,
   "metadata": {
    "collapsed": false,
    "pycharm": {
     "name": "#%%\n"
    }
   },
   "outputs": [],
   "source": [
    "# most similar words to a given word\n",
    "print(glove_model.most_similar('what', topn=10))\n",
    "\n",
    "# also u can use\n",
    "print(glove_model.similar_by_word('miss', topn=5))"
   ]
  },
  {
   "cell_type": "code",
   "execution_count": null,
   "metadata": {
    "collapsed": false,
    "pycharm": {
     "name": "#%%\n"
    }
   },
   "outputs": [],
   "source": [
    "print(glove_model.most_similar('why', topn=10))"
   ]
  },
  {
   "cell_type": "code",
   "execution_count": null,
   "metadata": {
    "collapsed": false,
    "pycharm": {
     "name": "#%%\n"
    }
   },
   "outputs": [],
   "source": [
    "print(glove_model.similar_by_word('who', topn=5))"
   ]
  },
  {
   "cell_type": "markdown",
   "metadata": {
    "collapsed": false,
    "pycharm": {
     "name": "#%% md\n"
    }
   },
   "source": [
    "We can now compare our implementation with the one in the pre-trained model and confirm what we already expected."
   ]
  },
  {
   "cell_type": "code",
   "execution_count": null,
   "metadata": {
    "collapsed": false,
    "pycharm": {
     "name": "#%%\n"
    }
   },
   "outputs": [],
   "source": [
    "# simalarity between two words\n",
    "word1 = 'alive'\n",
    "word2 = 'biology'\n",
    "print(glove_model.similarity(word1, word2))\n",
    "print(cosine_similarity(glove_model[word1], glove_model[word2]))"
   ]
  },
  {
   "cell_type": "code",
   "execution_count": null,
   "metadata": {
    "collapsed": false,
    "pycharm": {
     "name": "#%%\n"
    }
   },
   "outputs": [],
   "source": [
    "# simalarity between two words. similar words\n",
    "word1 = 'alive'\n",
    "word2 = 'life'\n",
    "print(glove_model.similarity(word1, word2))\n",
    "print(cosine_similarity(glove_model[word1], glove_model[word2]))"
   ]
  },
  {
   "cell_type": "code",
   "execution_count": null,
   "metadata": {
    "collapsed": false,
    "pycharm": {
     "name": "#%%\n"
    }
   },
   "outputs": [],
   "source": [
    "# simalarity between two words. dissimilar words\n",
    "word1 = 'alive'\n",
    "word2 = 'dead'\n",
    "print(glove_model.similarity(word1, word2))\n",
    "print(cosine_similarity(glove_model[word1], glove_model[word2]))"
   ]
  },
  {
   "cell_type": "code",
   "execution_count": null,
   "metadata": {
    "collapsed": false,
    "pycharm": {
     "name": "#%%\n"
    }
   },
   "outputs": [],
   "source": [
    "# simalarity between two words. unrelated words\n",
    "word1 = 'alive'\n",
    "word2 = 'horse'\n",
    "print(glove_model.similarity(word1, word2))\n",
    "print(cosine_similarity(glove_model[word1], glove_model[word2]))"
   ]
  },
  {
   "cell_type": "code",
   "execution_count": null,
   "metadata": {
    "collapsed": false,
    "pycharm": {
     "name": "#%%\n"
    }
   },
   "outputs": [],
   "source": [
    "# simalarity between two SAME words\n",
    "glove_model.similarity('equal', 'equal')\n",
    "word1 = 'equal'\n",
    "word2 = 'equal'\n",
    "print(glove_model.similarity(word1, word2))\n",
    "print(cosine_similarity(glove_model[word1], glove_model[word2]))"
   ]
  },
  {
   "cell_type": "markdown",
   "metadata": {
    "collapsed": false,
    "pycharm": {
     "name": "#%% md\n"
    }
   },
   "source": [
    "The next function contains the code to plot a similarity matrix between multiple words (e.g. if we want to compare 10 words and their pair-wise similarities). It requires a matrix with similarities (as input) and labels (aka the words) to display in the final figure."
   ]
  },
  {
   "cell_type": "code",
   "execution_count": null,
   "metadata": {
    "collapsed": false,
    "pycharm": {
     "name": "#%%\n"
    }
   },
   "outputs": [],
   "source": [
    "def plot_similarity_matrix(matrix, labels):\n",
    "    \"\"\"\n",
    "    Displays a plot of the `matrix` of size (N x N) with the labels specified as a list of size N\n",
    "    Args:\n",
    "        matrix: a square-sized (N x N) numpy array\n",
    "        labels: a list of strings of hte size N\n",
    "    \"\"\"\n",
    "\n",
    "    fig, ax = plt.subplots()\n",
    "    im = ax.imshow(matrix)\n",
    "\n",
    "    # Show all ticks and label them with the respective list entries\n",
    "    ax.set_xticks(np.arange(len(labels)), labels=labels)\n",
    "    ax.set_yticks(np.arange(len(labels)), labels=labels)\n",
    "\n",
    "    # Rotate the tick labels and set their alignment.\n",
    "    plt.setp(ax.get_xticklabels(), rotation=45, ha=\"right\",\n",
    "             rotation_mode=\"anchor\")\n",
    "\n",
    "    # Loop over data dimensions and create text annotations.\n",
    "    for i in range(len(labels)):\n",
    "        for j in range(len(labels)):\n",
    "            text = ax.text(j, i, f'{matrix[i, j]:.2f}',\n",
    "                           ha=\"center\", va=\"center\", color=\"w\")\n",
    "\n",
    "    # ax.set_title(\"Give a title if you want\")\n",
    "    fig.tight_layout()\n",
    "    plt.show()"
   ]
  },
  {
   "cell_type": "markdown",
   "metadata": {
    "collapsed": false,
    "pycharm": {
     "name": "#%% md\n"
    }
   },
   "source": [
    "<a name='e10'></a>\n",
    "### Exercise 10: Plotting similarities between words\n",
    "\n",
    "(10p) In the following, we will explore some properties of word embeddings through some examples. We will use 6 example words for this purpose but experiment with other set of words as well. Fill in the next cell to create a similarity matrix between a list of words.\n",
    "\n",
    "Experiment with different words and their similarities plotted. Try at least 3 different sets of words of at least 6 words each. Use the `plot_similarity_matrix` function to visualize the results.\n",
    "Comment on the results. Do they make sense? Why some words are closer to each other than others? What does it mean?"
   ]
  },
  {
   "cell_type": "code",
   "execution_count": null,
   "metadata": {
    "collapsed": false,
    "pycharm": {
     "name": "#%%\n"
    }
   },
   "outputs": [],
   "source": [
    "list_of_words = ['love', 'hate', 'life', 'equal', 'alive', 'dead']\n",
    "\n",
    "similarity_matrix = np.zeros((len(list_of_words), len(list_of_words)), dtype=float)\n",
    "\n",
    "### YOUR CODE HERE\n",
    "\n",
    "\n",
    "\n",
    "\n",
    "\n",
    "### YOUR CODE ENDS HERE\n",
    "\n",
    "\n",
    "plot_similarity_matrix(similarity_matrix, list_of_words)"
   ]
  },
  {
   "cell_type": "code",
   "execution_count": null,
   "metadata": {
    "collapsed": false,
    "pycharm": {
     "name": "#%%\n"
    }
   },
   "outputs": [],
   "source": [
    "#### YOUR CODE HERE\n",
    "\n",
    "\n",
    "\n",
    "### YOUR CODE ENDS HERE"
   ]
  },
  {
   "cell_type": "markdown",
   "metadata": {
    "collapsed": false,
    "pycharm": {
     "name": "#%% md\n"
    }
   },
   "source": [
    "<a name='e11'></a>\n",
    "### Exercise 11: Other pre-trained word embeddings\n",
    "(10p) For this exercise, experiment with at least one different word embedding model. You can choose Glove with different dimensions or other pre-trained models. Use the gensim library to download and use the models.\n",
    "Plot similarity matrices between sets of words you used in the previous exercise and compare the results. Are there noticeable differences? Why (not)?"
   ]
  },
  {
   "cell_type": "code",
   "execution_count": null,
   "metadata": {
    "collapsed": false,
    "pycharm": {
     "name": "#%%\n"
    }
   },
   "outputs": [],
   "source": [
    "#### YOUR CODE HERE\n",
    "\n",
    "\n",
    "\n",
    "### YOUR CODE ENDS HERE"
   ]
  },
  {
   "cell_type": "markdown",
   "metadata": {
    "collapsed": false,
    "pycharm": {
     "name": "#%% md\n"
    }
   },
   "source": [
    "// your comments"
   ]
  },
  {
   "cell_type": "markdown",
   "metadata": {
    "collapsed": false,
    "pycharm": {
     "name": "#%% md\n"
    }
   },
   "source": [
    "## 5. Sentence Embeddings by Averaging Word Embeddings\n",
    "\n",
    "Word embeddings are a powerful model for representing words and their meaning (in terms of distributional similarity). As we discussed in class, we can use them in a wide variety of tasks with more complex architectures. Word vectors offer a dense vector for each word. What if we wanted to represent a sentence (or a document) based on word vectors. How can we do that?\n",
    "\n",
    "In the course, we will see different architectures that take into account the sequence of words (by combining their vectors). A first naive but simple and sometimes (as we are going to see) quite effective approach would be to represent a sentence with an embedding vector that is the average of the word vectors that form the sentence.\n",
    "\n",
    "So formally, this is what we are aiming for:\n",
    "\n",
    "$\n",
    "\\text{Sentence_Embedding} = \\frac{1}{N} \\sum_{i=1}^{N} \\text{Word_Embedding}_i\n",
    "$\n",
    "\n",
    "where:\n",
    "* $N$ is the number of words in a sentence\n",
    "* $\\text{Word_Embedding}_i$ is the word vector for the $i$-th in the sentence.\n",
    "\n",
    "Things to note:\n",
    "* The embedding vector for the sentence will obviously have the same dimension as the word embedding.\n",
    "* This representation ignores the word order (like bag-of-words). During the course we will see how we can overcome this limitation by using sequence models."
   ]
  },
  {
   "cell_type": "markdown",
   "metadata": {
    "collapsed": false,
    "pycharm": {
     "name": "#%% md\n"
    }
   },
   "source": [
    "<a name='e12'></a>\n",
    "### Exercise 12: Sentence Embedding\n",
    "\n",
    "(10p) Complete the function below that takes as input the sentence in the form of tokens (so it's a list of words) and calculates the sentence embedding vector. First, we would need to retrieve the word embeddings for each word from our loaded model and then average the vectors.\n",
    "\n",
    "Note: There can be cases where all tokens from a sentence are out-of-vocabulary words (OOV). Think what to do in this case and make sure to discuss it in the report."
   ]
  },
  {
   "cell_type": "code",
   "execution_count": null,
   "metadata": {
    "collapsed": false,
    "pycharm": {
     "name": "#%%\n"
    }
   },
   "outputs": [],
   "source": [
    "def embed_sentence_word_model(tokens, model):\n",
    "    \"\"\"\n",
    "    Calculates the sentence embedding by averaging the embeddings of the tokens\n",
    "    Args:\n",
    "        tokens: a list of words from the sentence\n",
    "        model: a trained word embeddings model\n",
    "\n",
    "    Returns: a numpy array of the sentence embedding\n",
    "\n",
    "    \"\"\"\n",
    "    #### YOUR CODE HERE\n",
    "    #### CAUTION: be sure to cover the case where all tokens are out-of-vocabulary!!!\n",
    "\n",
    "\n",
    "\n",
    "\n",
    "    ### YOUR CODE ENDS HERE"
   ]
  },
  {
   "cell_type": "markdown",
   "metadata": {
    "collapsed": false,
    "pycharm": {
     "name": "#%% md\n"
    }
   },
   "source": [
    "Now we can apply the function to the whole dataset. Here we do it both for the sentence and the compressed version. You should know it by now, but this operation might take some time. The next cells will apply your function to the whole dataset."
   ]
  },
  {
   "cell_type": "code",
   "execution_count": null,
   "metadata": {
    "collapsed": false,
    "pycharm": {
     "name": "#%%\n"
    }
   },
   "outputs": [],
   "source": [
    "def embed_sentence_word_model_dataset(example, model):\n",
    "    \"\"\"\n",
    "    Embeds the sentence and the compressed sentence in the example from the Dataset\n",
    "    Args:\n",
    "        example: an example from the Dataset\n",
    "        model: a trained word embeddings model\n",
    "\n",
    "    Returns: updated example with 'sentence_embedding' and 'compressed_embedding' columns\n",
    "\n",
    "    \"\"\"\n",
    "    sentence_tokens = example['sentence_tokens']\n",
    "    clean_compressed = example['clean_compressed']\n",
    "    compressed_tokens = tokenize(clean_compressed)\n",
    "\n",
    "    sentence_embedding = embed_sentence_word_model(sentence_tokens, model)\n",
    "    compressed_embedding = embed_sentence_word_model(compressed_tokens, model)\n",
    "\n",
    "    example['sentence_embedding'] = sentence_embedding\n",
    "    example['compressed_embedding'] = compressed_embedding\n",
    "    return example"
   ]
  },
  {
   "cell_type": "code",
   "execution_count": null,
   "metadata": {
    "collapsed": false,
    "pycharm": {
     "name": "#%%\n"
    }
   },
   "outputs": [],
   "source": [
    "test_ds = test_ds.map(embed_sentence_word_model_dataset, fn_kwargs={'model': glove_model})\n",
    "print(test_ds)"
   ]
  },
  {
   "cell_type": "code",
   "execution_count": null,
   "metadata": {
    "collapsed": false,
    "pycharm": {
     "name": "#%%\n"
    }
   },
   "outputs": [],
   "source": [
    "for i in range(10):\n",
    "    print(test_ds[i])"
   ]
  },
  {
   "cell_type": "markdown",
   "metadata": {
    "collapsed": false,
    "pycharm": {
     "name": "#%% md\n"
    }
   },
   "source": [
    "Here you can see that the new dataset returned a single numpy array containing all sentence embeddings in our dataset. This is a lot more efficient than returning a list of arrays (which is the default behaviour). Below we check the type and the dimensionality.\n",
    "\n",
    "We will be using `text` subset from our dataset to not use too much RAM."
   ]
  },
  {
   "cell_type": "code",
   "execution_count": null,
   "metadata": {
    "collapsed": false,
    "pycharm": {
     "name": "#%%\n"
    }
   },
   "outputs": [],
   "source": [
    "sent_embedding = test_ds['sentence_embedding']\n",
    "compr_embedding = test_ds['compressed_embedding']\n",
    "print(type(sent_embedding))\n",
    "print(sent_embedding.shape)\n",
    "print(type(compr_embedding))\n",
    "print(compr_embedding.shape)"
   ]
  },
  {
   "cell_type": "markdown",
   "metadata": {
    "collapsed": false,
    "pycharm": {
     "name": "#%% md\n"
    }
   },
   "source": [
    "Next we try the condensed representatin based on a simple query. Feel free to try different queries with different words. What happens if we have OOV words in a query?"
   ]
  },
  {
   "cell_type": "code",
   "execution_count": null,
   "metadata": {
    "collapsed": false,
    "pycharm": {
     "name": "#%%\n"
    }
   },
   "outputs": [],
   "source": [
    "query = 'fox and deer'\n",
    "print(query)\n",
    "\n",
    "query_embedding = embed_text(query, clean, tokenize, lambda x: embed_sentence_word_model(x, glove_model))\n",
    "print(query_embedding.shape)\n",
    "print(query_embedding)"
   ]
  },
  {
   "cell_type": "markdown",
   "metadata": {
    "collapsed": false,
    "pycharm": {
     "name": "#%% md\n"
    }
   },
   "source": [
    "<a name='e13'></a>\n",
    "### Exercise 13: Analyze sentence embeddings\n",
    "- (5p) Calculate similarity between the word embeddings representations of the selected queries and the dataset sentences.\n",
    "- (5p) Analyze the search results. Does the search work as expected? Discuss the results.\n",
    "- (5p) Compare the results with the ones you got with the bag-of-words and TF-IDF representation. Discuss the differences and similarities."
   ]
  },
  {
   "cell_type": "code",
   "execution_count": null,
   "metadata": {
    "collapsed": false,
    "pycharm": {
     "name": "#%%\n"
    }
   },
   "outputs": [],
   "source": [
    "### YOUR CODE HERE\n",
    "\n",
    "\n",
    "\n",
    "\n",
    "### YOUR CODE ENDS HERE"
   ]
  },
  {
   "cell_type": "markdown",
   "metadata": {
    "id": "ZY2jouFmeHOg",
    "pycharm": {
     "name": "#%% md\n"
    }
   },
   "source": [
    "## 6. Evaluating Retrieval\n",
    "\n",
    "In this last section we will try to evaluate how good our sentence retrieval system is. To keep the computational resources manageable, we will use the test set for that as its size is more manageable.\n",
    "\n",
    "Recall from the lecture in IR that there are several metrics to evaluate retrieval performance by taking into account the relevance of the retrieved results to the query. We will use Recall@K here (for more metrics and more details refer to the lecture slides and the textbooks).\n",
    "\n",
    "RRecall@K is a metric used to measure the effectiveness of a search system in retrieving relevant documents within the top $K$ retrieved documents. It calculates the proportion of relevant documents retrieved within the top-$K$ results, compared to the total number of relevant documents in the collection.\n",
    "\n",
    "$\n",
    "\\text{Recall@K} = \\frac{\\text{Number of relevant documents retrieved in the top }-K}{\\text{Total number of relevant documents}}\n",
    "$\n",
    "\n",
    "In our case, we have a sentence, and it's compressed version. To test our system, we will treat compressed sentences as the queries. Each query will have only a single relevant sentence - the corresponding uncompressed sentence.\n",
    "\n",
    "Therefore, for the calculation of Recall@K we will take into account whether the correct retrieved result is contained within the first $K$ retrieved results. For example, if for a query (i.e. a compressed sentence) we retrieve 10 results and within these we see the relevant one (i.e. the full sentence), then Recall@10 = 1."
   ]
  },
  {
   "cell_type": "markdown",
   "metadata": {
    "id": "QUKPtG-uem9f",
    "pycharm": {
     "name": "#%% md\n"
    }
   },
   "source": [
    "<a name='e14'></a>\n",
    "### Exercise 14: Cosine similarity between two sets of vectors\n",
    "\n",
    "(3p) In this exercise you will revisit your implementation of the cosine similarity. Generalize it so that it can accept two arrays containing two sets of vectors (first one containing $M$ vectors and the second one $N$ vectors). Compute the cosine similarity between each pair of vectors coming from the two sets. The result should be an array of size $M x N$.\n",
    "\n",
    "Once again, try to write an efficient code. This means no loops. Remember the relation between matrix multiplication and dot product. (Depending on your implementation of the previous function calculating cosine similarity, this one can be almost the same)"
   ]
  },
  {
   "cell_type": "code",
   "execution_count": null,
   "metadata": {
    "id": "xKiHDrN9eld7",
    "pycharm": {
     "name": "#%%\n"
    }
   },
   "outputs": [],
   "source": [
    "def cosine_similarity_m_to_n(vectors, other_vectors):\n",
    "    \"\"\"\n",
    "    Calculates the cosine similarity between a multiple vectors and other vectors.\n",
    "    Args:\n",
    "        vectors: a numpy array representing M number of vectors of D dimensions (of the size MxD)\n",
    "        other_vectors: a 2D numpy array representing other vectors (of the size NxD, where N is the number of vectors and D is their dimension)\n",
    "\n",
    "    Returns: a numpy array of cosine similarity between all the vectors and all the other vectors\n",
    "\n",
    "    \"\"\"\n",
    "\n",
    "    #### YOUR CODE HERE\n",
    "\n",
    "\n",
    "\n",
    "\n",
    "    ### YOUR CODE ENDS HERE"
   ]
  },
  {
   "cell_type": "markdown",
   "metadata": {
    "id": "qQ-Yhl1Sgoka",
    "pycharm": {
     "name": "#%% md\n"
    }
   },
   "source": [
    "The following function will use your implementation to calculate Recall@K based on the similarity matrix."
   ]
  },
  {
   "cell_type": "code",
   "execution_count": null,
   "metadata": {
    "id": "z0sLS3uRCfdh",
    "pycharm": {
     "name": "#%%\n"
    }
   },
   "outputs": [],
   "source": [
    "def calculate_recall(queries, sentences, k, batch_size=1000):\n",
    "    \"\"\"\n",
    "    Calculates recall@k given the embeddings of the queries and sentences.\n",
    "    Assumes that only a single sentence with the same index as query is relevant.\n",
    "    Batching is implemented to avoid high memory usage.\n",
    "    Args:\n",
    "        queries: a numpy array with the embeddings of N queries\n",
    "        sentences: a numpy array with the embeddings of N sentences available for retrieval\n",
    "        k: number of top results to search for the relevant sentence\n",
    "        batch_size: number of queries to process at a time\n",
    "\n",
    "    Returns: calculated recall@k\n",
    "\n",
    "    \"\"\"\n",
    "    n_queries = queries.shape[0]\n",
    "    correct = np.zeros(n_queries, dtype=bool)\n",
    "\n",
    "    with tqdm.tqdm(total=n_queries) as pbar:\n",
    "        for batch_start in range(0, n_queries, batch_size):\n",
    "            batch_end = min(batch_start + batch_size, n_queries)\n",
    "            queries_batch = queries[batch_start:batch_end]\n",
    "            batch_similarity = cosine_similarity_m_to_n(queries_batch, sentences)\n",
    "\n",
    "            for i, similarity_row in enumerate(batch_similarity):\n",
    "                query_index = batch_start + i\n",
    "                top_k = top_k_indices(similarity_row, k=k, sorted=False)\n",
    "\n",
    "                if query_index in top_k:\n",
    "                    correct[query_index] = True\n",
    "\n",
    "                pbar.update(1)\n",
    "\n",
    "    recall = np.sum(correct) / n_queries\n",
    "    return recall"
   ]
  },
  {
   "cell_type": "markdown",
   "metadata": {
    "id": "3QgAgMiDgw8m",
    "pycharm": {
     "name": "#%% md\n"
    }
   },
   "source": [
    "You can use it like so:"
   ]
  },
  {
   "cell_type": "code",
   "execution_count": null,
   "metadata": {
    "id": "Yxpex7ZxHM7c",
    "pycharm": {
     "name": "#%%\n"
    }
   },
   "outputs": [],
   "source": [
    "recall_at_1 = calculate_recall(compr_embedding, sent_embedding, k=1, batch_size=1000)\n",
    "print(f'\\n{recall_at_1 * 100:.2f}%')"
   ]
  },
  {
   "cell_type": "markdown",
   "metadata": {
    "id": "zY5ZVq5ogzMI",
    "pycharm": {
     "name": "#%% md\n"
    }
   },
   "source": [
    "<a name='e15'></a>\n",
    "### Exercise 15: Evaluating retrieval methods\n",
    "\n",
    "(10p) Calculate recall for different values of $K$ for all methods:\n",
    "- BOW,\n",
    "- TF-IDF,\n",
    "- Pre-trained embeddings.\n",
    "\n",
    "Discuss the results.\n",
    "Comment on how recall changes based on the value of $K$. Are the results expected or surprising?"
   ]
  },
  {
   "cell_type": "code",
   "execution_count": null,
   "metadata": {
    "collapsed": false,
    "pycharm": {
     "name": "#%%\n"
    }
   },
   "outputs": [],
   "source": [
    "#### YOUR CODE HERE\n",
    "\n",
    "\n",
    "\n",
    "### YOUR CODE ENDS HERE"
   ]
  },
  {
   "cell_type": "markdown",
   "metadata": {
    "collapsed": false,
    "pycharm": {
     "name": "#%% md\n"
    }
   },
   "source": [
    "<a name='e16'></a>\n",
    "### Exercise 16: Improving retrieval\n",
    "\n",
    "(10p) Imagine that you work at a company and are tasked with delivering the best retrieval method. Select the most promising one and try to improve the scores (e.g. by changing the vocab size, loading different model, etc.).\n",
    "Discuss the results you achieve, even if you didn't manage to improve the scores."
   ]
  },
  {
   "cell_type": "code",
   "execution_count": null,
   "metadata": {
    "id": "YA9bEm5ehMq8",
    "pycharm": {
     "name": "#%%\n"
    }
   },
   "outputs": [],
   "source": [
    "#### YOUR CODE HERE\n",
    "\n",
    "\n",
    "\n",
    "### YOUR CODE ENDS HERE"
   ]
  },
  {
   "cell_type": "markdown",
   "metadata": {
    "collapsed": false,
    "pycharm": {
     "name": "#%% md\n"
    }
   },
   "source": [
    "// your comments"
   ]
  }
 ],
 "metadata": {
  "colab": {
   "provenance": [],
   "toc_visible": true
  },
  "kernelspec": {
   "display_name": "Python 3",
   "language": "python",
   "name": "python3"
  },
  "language_info": {
   "codemirror_mode": {
    "name": "ipython",
    "version": 3
   },
   "file_extension": ".py",
   "mimetype": "text/x-python",
   "name": "python",
   "nbconvert_exporter": "python",
   "pygments_lexer": "ipython3",
   "version": "3.11.0"
  }
 },
 "nbformat": 4,
 "nbformat_minor": 0
}
