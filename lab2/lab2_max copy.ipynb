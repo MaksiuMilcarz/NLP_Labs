{
 "cells": [
  {
   "cell_type": "markdown",
   "metadata": {
    "collapsed": false,
    "id": "od2YkWY8pSOC",
    "pycharm": {
     "name": "#%% md\n"
    }
   },
   "source": [
    "# NLP 2025\n",
    "# Lab 2: Word Vectors and Information Retrieval\n",
    "\n",
    "During the first few weeks, we discussed various ways to represent text 📝. One key question was: What should be the basic unit of representation? Words are the fundamental building blocks 🧱.\n",
    "\n",
    "In this lab, we will explore different text representation models, such as Bag-of-Words (BoW), TF-IDF and word embeddings 🔤➡️🔢. Among these, word embeddings are the most effective in terms of performance. They represent each word as a vector of numbers, where each vector captures the meaning of the word 🧠📊.\n",
    "\n",
    "These numerical representations (or weights) are learned using machine learning models 🤖. We’ll dive deeper into how these vectors are learned in the next lecture 📚.\n",
    "\n",
    "For now, we’ll focus on how different representation methods affect performance in an information retrieval task 🔍."
   ]
  },
  {
   "cell_type": "markdown",
   "metadata": {
    "collapsed": false,
    "id": "s93LS5bspSOD",
    "pycharm": {
     "name": "#%% md\n"
    }
   },
   "source": [
    "By the end of this lab, you should be able to:\n",
    "\n",
    "+ 🧼🔁 Implement and/or use built-in functions to preprocess your data (once again!)\n",
    "+ 🧱👜 Build a Bag-of-Words representation of the dataset\n",
    "+ 📊✨ Implement TF-IDF\n",
    "+ 📥🔤 Load pre-trained word embeddings\n",
    "+ 🔍🧠 Inspect and test word embedding properties\n",
    "+ 🗣️➡️📐 Use word embeddings to get sentence representations (aka sentence embeddings)\n",
    "+ 🧩🔎 Use sentence embeddings to solve more complex tasks like information retrieval\n",
    "+ 🧪📏 Design evaluation frameworks for specific NLP tasks and assess their difficulty\n",
    "\n",
    "### Score breakdown\n",
    "\n",
    "| Exercise            | Points |\n",
    "|---------------------|--------|\n",
    "| [Exercise 1](#e1)   | 1      |\n",
    "| [Exercise 2](#e2)   | 1      |\n",
    "| [Exercise 3](#e3)   | 1      |\n",
    "| [Exercise 4](#e4)   | 1      |\n",
    "| [Exercise 5](#e5)   | 1      |\n",
    "| [Exercise 6](#e6)   | 2      |\n",
    "| [Exercise 7](#e7)   | 10     |\n",
    "| [Exercise 8](#e8)   | 5      |\n",
    "| [Exercise 9](#e9)   | 15     |\n",
    "| [Exercise 10](#e10) | 10     |\n",
    "| [Exercise 11](#e11) | 10     |\n",
    "| [Exercise 12](#e12) | 5      |\n",
    "| [Exercise 13](#e13) | 15     |\n",
    "| [Exercise 14](#e14) | 3      |\n",
    "| [Exercise 15](#e15) | 10     |\n",
    "| [Exercise 16](#e16) | 10     |\n",
    "| Total               | 100    |\n",
    "\n",
    "This score will be scaled down to 1 and that will be your final lab score.\n",
    "\n",
    "### 📌 **Instructions for Delivery** (📅 **Deadline: 18/Apr 18:00**, 🎭 *wildcards possible*)\n",
    "\n",
    "✅ **Submission Requirements**\n",
    "+ 📄 You need to submit a **PDF of your report** (use the templates provided in **LaTeX** 🖋️ (*preferred*) or **Word** 📑) and a **copy of your notebook** 📓 with the code.\n",
    "+ ⚡ Make sure that **all cells are executed properly** ⚙️ and that **all figures/results/plots** 📊 you include in the report are also visible in your **executed notebook**.\n",
    "\n",
    "✅ **Collaboration & Integrity**\n",
    "+ 🗣️ While you may **discuss** the lab with others, you must **write your solutions with your group only**. If you **discuss specific tasks** with others, please **include their names** in the appendix of the report.\n",
    "+ 📜 **Honor Code applies** to this lab. For more details, check **Syllabus §7.2** ⚖️.\n",
    "+ 📢 **Mandatory Disclosure**:\n",
    "   - Any **websites** 🌐 (e.g., **Stack Overflow** 💡) or **other resources** used must be **listed and disclosed**.\n",
    "   - Any **GenAI tools** 🤖 (e.g., **ChatGPT**) used must be **explicitly mentioned**.\n",
    "   - 🚨 **Failure to disclose these resources is a violation of academic integrity**. See **Syllabus §7.3** for details."
   ]
  },
  {
   "cell_type": "markdown",
   "metadata": {
    "collapsed": false,
    "id": "aHYGq5RUpSOD",
    "pycharm": {
     "name": "#%% md\n"
    }
   },
   "source": [
    "## 0. Setup\n",
    "\n",
    "As in the last lab, we will be using huggingface datasets library ([https://huggingface.co/datasets](https://huggingface.co/datasets)). You can find the detailed documentation and tutorials here: [https://huggingface.co/docs/datasets/en/index](https://huggingface.co/docs/datasets/en/index)\n",
    "\n",
    "If you don't have it installed you can run the code below or install it via `pip` in your terminal. If you are using Google Colab, you can uncomment and run the code below in a code cell. Restarting of the runtime may be required after installation (Runtime/Restart session)."
   ]
  },
  {
   "cell_type": "code",
   "execution_count": 2,
   "metadata": {
    "id": "rhEG8hKrpSOE",
    "pycharm": {
     "name": "#%%\n"
    }
   },
   "outputs": [
    {
     "name": "stdout",
     "output_type": "stream",
     "text": [
      "Requirement already satisfied: datasets~=3.5.0 in /Users/maksiuuuuuuu/Desktop/NLP/project/.venv/lib/python3.11/site-packages (3.5.0)\n",
      "Requirement already satisfied: filelock in /Users/maksiuuuuuuu/Desktop/NLP/project/.venv/lib/python3.11/site-packages (from datasets~=3.5.0) (3.18.0)\n",
      "Requirement already satisfied: numpy>=1.17 in /Users/maksiuuuuuuu/Desktop/NLP/project/.venv/lib/python3.11/site-packages (from datasets~=3.5.0) (2.2.4)\n",
      "Requirement already satisfied: pyarrow>=15.0.0 in /Users/maksiuuuuuuu/Desktop/NLP/project/.venv/lib/python3.11/site-packages (from datasets~=3.5.0) (19.0.1)\n",
      "Requirement already satisfied: dill<0.3.9,>=0.3.0 in /Users/maksiuuuuuuu/Desktop/NLP/project/.venv/lib/python3.11/site-packages (from datasets~=3.5.0) (0.3.8)\n",
      "Requirement already satisfied: pandas in /Users/maksiuuuuuuu/Desktop/NLP/project/.venv/lib/python3.11/site-packages (from datasets~=3.5.0) (2.2.3)\n",
      "Requirement already satisfied: requests>=2.32.2 in /Users/maksiuuuuuuu/Desktop/NLP/project/.venv/lib/python3.11/site-packages (from datasets~=3.5.0) (2.32.3)\n",
      "Requirement already satisfied: tqdm>=4.66.3 in /Users/maksiuuuuuuu/Desktop/NLP/project/.venv/lib/python3.11/site-packages (from datasets~=3.5.0) (4.67.1)\n",
      "Requirement already satisfied: xxhash in /Users/maksiuuuuuuu/Desktop/NLP/project/.venv/lib/python3.11/site-packages (from datasets~=3.5.0) (3.5.0)\n",
      "Requirement already satisfied: multiprocess<0.70.17 in /Users/maksiuuuuuuu/Desktop/NLP/project/.venv/lib/python3.11/site-packages (from datasets~=3.5.0) (0.70.16)\n",
      "Requirement already satisfied: fsspec<=2024.12.0,>=2023.1.0 in /Users/maksiuuuuuuu/Desktop/NLP/project/.venv/lib/python3.11/site-packages (from fsspec[http]<=2024.12.0,>=2023.1.0->datasets~=3.5.0) (2024.12.0)\n",
      "Requirement already satisfied: aiohttp in /Users/maksiuuuuuuu/Desktop/NLP/project/.venv/lib/python3.11/site-packages (from datasets~=3.5.0) (3.11.16)\n",
      "Requirement already satisfied: huggingface-hub>=0.24.0 in /Users/maksiuuuuuuu/Desktop/NLP/project/.venv/lib/python3.11/site-packages (from datasets~=3.5.0) (0.30.2)\n",
      "Requirement already satisfied: packaging in /Users/maksiuuuuuuu/Desktop/NLP/project/.venv/lib/python3.11/site-packages (from datasets~=3.5.0) (24.2)\n",
      "Requirement already satisfied: pyyaml>=5.1 in /Users/maksiuuuuuuu/Desktop/NLP/project/.venv/lib/python3.11/site-packages (from datasets~=3.5.0) (6.0.2)\n",
      "Requirement already satisfied: aiohappyeyeballs>=2.3.0 in /Users/maksiuuuuuuu/Desktop/NLP/project/.venv/lib/python3.11/site-packages (from aiohttp->datasets~=3.5.0) (2.6.1)\n",
      "Requirement already satisfied: aiosignal>=1.1.2 in /Users/maksiuuuuuuu/Desktop/NLP/project/.venv/lib/python3.11/site-packages (from aiohttp->datasets~=3.5.0) (1.3.2)\n",
      "Requirement already satisfied: attrs>=17.3.0 in /Users/maksiuuuuuuu/Desktop/NLP/project/.venv/lib/python3.11/site-packages (from aiohttp->datasets~=3.5.0) (25.3.0)\n",
      "Requirement already satisfied: frozenlist>=1.1.1 in /Users/maksiuuuuuuu/Desktop/NLP/project/.venv/lib/python3.11/site-packages (from aiohttp->datasets~=3.5.0) (1.5.0)\n",
      "Requirement already satisfied: multidict<7.0,>=4.5 in /Users/maksiuuuuuuu/Desktop/NLP/project/.venv/lib/python3.11/site-packages (from aiohttp->datasets~=3.5.0) (6.4.3)\n",
      "Requirement already satisfied: propcache>=0.2.0 in /Users/maksiuuuuuuu/Desktop/NLP/project/.venv/lib/python3.11/site-packages (from aiohttp->datasets~=3.5.0) (0.3.1)\n",
      "Requirement already satisfied: yarl<2.0,>=1.17.0 in /Users/maksiuuuuuuu/Desktop/NLP/project/.venv/lib/python3.11/site-packages (from aiohttp->datasets~=3.5.0) (1.19.0)\n",
      "Requirement already satisfied: typing-extensions>=3.7.4.3 in /Users/maksiuuuuuuu/Desktop/NLP/project/.venv/lib/python3.11/site-packages (from huggingface-hub>=0.24.0->datasets~=3.5.0) (4.13.2)\n",
      "Requirement already satisfied: charset-normalizer<4,>=2 in /Users/maksiuuuuuuu/Desktop/NLP/project/.venv/lib/python3.11/site-packages (from requests>=2.32.2->datasets~=3.5.0) (3.4.1)\n",
      "Requirement already satisfied: idna<4,>=2.5 in /Users/maksiuuuuuuu/Desktop/NLP/project/.venv/lib/python3.11/site-packages (from requests>=2.32.2->datasets~=3.5.0) (3.10)\n",
      "Requirement already satisfied: urllib3<3,>=1.21.1 in /Users/maksiuuuuuuu/Desktop/NLP/project/.venv/lib/python3.11/site-packages (from requests>=2.32.2->datasets~=3.5.0) (2.4.0)\n",
      "Requirement already satisfied: certifi>=2017.4.17 in /Users/maksiuuuuuuu/Desktop/NLP/project/.venv/lib/python3.11/site-packages (from requests>=2.32.2->datasets~=3.5.0) (2025.1.31)\n",
      "Requirement already satisfied: python-dateutil>=2.8.2 in /Users/maksiuuuuuuu/Desktop/NLP/project/.venv/lib/python3.11/site-packages (from pandas->datasets~=3.5.0) (2.9.0.post0)\n",
      "Requirement already satisfied: pytz>=2020.1 in /Users/maksiuuuuuuu/Desktop/NLP/project/.venv/lib/python3.11/site-packages (from pandas->datasets~=3.5.0) (2025.2)\n",
      "Requirement already satisfied: tzdata>=2022.7 in /Users/maksiuuuuuuu/Desktop/NLP/project/.venv/lib/python3.11/site-packages (from pandas->datasets~=3.5.0) (2025.2)\n",
      "Requirement already satisfied: six>=1.5 in /Users/maksiuuuuuuu/Desktop/NLP/project/.venv/lib/python3.11/site-packages (from python-dateutil>=2.8.2->pandas->datasets~=3.5.0) (1.17.0)\n",
      "Requirement already satisfied: gensim in /Users/maksiuuuuuuu/Desktop/NLP/project/.venv/lib/python3.11/site-packages (4.3.3)\n",
      "Collecting numpy<2.0,>=1.18.5 (from gensim)\n",
      "  Using cached numpy-1.26.4-cp311-cp311-macosx_11_0_arm64.whl.metadata (114 kB)\n",
      "Requirement already satisfied: scipy<1.14.0,>=1.7.0 in /Users/maksiuuuuuuu/Desktop/NLP/project/.venv/lib/python3.11/site-packages (from gensim) (1.13.1)\n",
      "Requirement already satisfied: smart-open>=1.8.1 in /Users/maksiuuuuuuu/Desktop/NLP/project/.venv/lib/python3.11/site-packages (from gensim) (7.1.0)\n",
      "Requirement already satisfied: wrapt in /Users/maksiuuuuuuu/Desktop/NLP/project/.venv/lib/python3.11/site-packages (from smart-open>=1.8.1->gensim) (1.17.2)\n",
      "Using cached numpy-1.26.4-cp311-cp311-macosx_11_0_arm64.whl (14.0 MB)\n",
      "Installing collected packages: numpy\n",
      "  Attempting uninstall: numpy\n",
      "    Found existing installation: numpy 2.2.4\n",
      "    Uninstalling numpy-2.2.4:\n",
      "      Successfully uninstalled numpy-2.2.4\n",
      "Successfully installed numpy-1.26.4\n",
      "Requirement already satisfied: matplotlib in /Users/maksiuuuuuuu/Desktop/NLP/project/.venv/lib/python3.11/site-packages (3.10.1)\n",
      "Requirement already satisfied: contourpy>=1.0.1 in /Users/maksiuuuuuuu/Desktop/NLP/project/.venv/lib/python3.11/site-packages (from matplotlib) (1.3.1)\n",
      "Requirement already satisfied: cycler>=0.10 in /Users/maksiuuuuuuu/Desktop/NLP/project/.venv/lib/python3.11/site-packages (from matplotlib) (0.12.1)\n",
      "Requirement already satisfied: fonttools>=4.22.0 in /Users/maksiuuuuuuu/Desktop/NLP/project/.venv/lib/python3.11/site-packages (from matplotlib) (4.57.0)\n",
      "Requirement already satisfied: kiwisolver>=1.3.1 in /Users/maksiuuuuuuu/Desktop/NLP/project/.venv/lib/python3.11/site-packages (from matplotlib) (1.4.8)\n",
      "Requirement already satisfied: numpy>=1.23 in /Users/maksiuuuuuuu/Desktop/NLP/project/.venv/lib/python3.11/site-packages (from matplotlib) (1.26.4)\n",
      "Requirement already satisfied: packaging>=20.0 in /Users/maksiuuuuuuu/Desktop/NLP/project/.venv/lib/python3.11/site-packages (from matplotlib) (24.2)\n",
      "Requirement already satisfied: pillow>=8 in /Users/maksiuuuuuuu/Desktop/NLP/project/.venv/lib/python3.11/site-packages (from matplotlib) (11.2.1)\n",
      "Requirement already satisfied: pyparsing>=2.3.1 in /Users/maksiuuuuuuu/Desktop/NLP/project/.venv/lib/python3.11/site-packages (from matplotlib) (3.2.3)\n",
      "Requirement already satisfied: python-dateutil>=2.7 in /Users/maksiuuuuuuu/Desktop/NLP/project/.venv/lib/python3.11/site-packages (from matplotlib) (2.9.0.post0)\n",
      "Requirement already satisfied: six>=1.5 in /Users/maksiuuuuuuu/Desktop/NLP/project/.venv/lib/python3.11/site-packages (from python-dateutil>=2.7->matplotlib) (1.17.0)\n",
      "Requirement already satisfied: nltk in /Users/maksiuuuuuuu/Desktop/NLP/project/.venv/lib/python3.11/site-packages (3.9.1)\n",
      "Requirement already satisfied: click in /Users/maksiuuuuuuu/Desktop/NLP/project/.venv/lib/python3.11/site-packages (from nltk) (8.1.8)\n",
      "Requirement already satisfied: joblib in /Users/maksiuuuuuuu/Desktop/NLP/project/.venv/lib/python3.11/site-packages (from nltk) (1.4.2)\n",
      "Requirement already satisfied: regex>=2021.8.3 in /Users/maksiuuuuuuu/Desktop/NLP/project/.venv/lib/python3.11/site-packages (from nltk) (2024.11.6)\n",
      "Requirement already satisfied: tqdm in /Users/maksiuuuuuuu/Desktop/NLP/project/.venv/lib/python3.11/site-packages (from nltk) (4.67.1)\n",
      "Requirement already satisfied: scikit-learn in /Users/maksiuuuuuuu/Desktop/NLP/project/.venv/lib/python3.11/site-packages (1.6.1)\n",
      "Requirement already satisfied: numpy>=1.19.5 in /Users/maksiuuuuuuu/Desktop/NLP/project/.venv/lib/python3.11/site-packages (from scikit-learn) (1.26.4)\n",
      "Requirement already satisfied: scipy>=1.6.0 in /Users/maksiuuuuuuu/Desktop/NLP/project/.venv/lib/python3.11/site-packages (from scikit-learn) (1.13.1)\n",
      "Requirement already satisfied: joblib>=1.2.0 in /Users/maksiuuuuuuu/Desktop/NLP/project/.venv/lib/python3.11/site-packages (from scikit-learn) (1.4.2)\n",
      "Requirement already satisfied: threadpoolctl>=3.1.0 in /Users/maksiuuuuuuu/Desktop/NLP/project/.venv/lib/python3.11/site-packages (from scikit-learn) (3.6.0)\n"
     ]
    }
   ],
   "source": [
    "! pip install -U datasets~=3.5.0\n",
    "! pip install -U gensim\n",
    "! python -m pip install -U matplotlib\n",
    "! pip install nltk\n",
    "! pip install -U scikit-learn"
   ]
  },
  {
   "cell_type": "markdown",
   "metadata": {
    "collapsed": false,
    "pycharm": {
     "name": "#%% md\n"
    }
   },
   "source": [
    "Previously installed datasets library version of 3.2.0 had an error when combined with numpy version >2. If you encounter an error at some point it might require to update the datasets library to the newer version. You can do that by running the code below. If you are using Google Colab, you can run the code below in a code cell. If you are using Jupyter Notebook, you can run the code below in a code cell or in a terminal."
   ]
  },
  {
   "cell_type": "code",
   "execution_count": 2,
   "metadata": {
    "collapsed": false,
    "pycharm": {
     "name": "#%%\n"
    }
   },
   "outputs": [
    {
     "name": "stdout",
     "output_type": "stream",
     "text": [
      "Collecting datasets\n",
      "  Using cached datasets-3.5.0-py3-none-any.whl.metadata (19 kB)\n",
      "Collecting filelock (from datasets)\n",
      "  Using cached filelock-3.18.0-py3-none-any.whl.metadata (2.9 kB)\n",
      "Collecting numpy>=1.17 (from datasets)\n",
      "  Using cached numpy-2.2.4-cp311-cp311-macosx_14_0_arm64.whl.metadata (62 kB)\n",
      "Collecting pyarrow>=15.0.0 (from datasets)\n",
      "  Using cached pyarrow-19.0.1-cp311-cp311-macosx_12_0_arm64.whl.metadata (3.3 kB)\n",
      "Collecting dill<0.3.9,>=0.3.0 (from datasets)\n",
      "  Using cached dill-0.3.8-py3-none-any.whl.metadata (10 kB)\n",
      "Collecting pandas (from datasets)\n",
      "  Using cached pandas-2.2.3-cp311-cp311-macosx_11_0_arm64.whl.metadata (89 kB)\n",
      "Collecting requests>=2.32.2 (from datasets)\n",
      "  Using cached requests-2.32.3-py3-none-any.whl.metadata (4.6 kB)\n",
      "Collecting tqdm>=4.66.3 (from datasets)\n",
      "  Using cached tqdm-4.67.1-py3-none-any.whl.metadata (57 kB)\n",
      "Collecting xxhash (from datasets)\n",
      "  Using cached xxhash-3.5.0-cp311-cp311-macosx_11_0_arm64.whl.metadata (12 kB)\n",
      "Collecting multiprocess<0.70.17 (from datasets)\n",
      "  Using cached multiprocess-0.70.16-py311-none-any.whl.metadata (7.2 kB)\n",
      "Collecting fsspec<=2024.12.0,>=2023.1.0 (from fsspec[http]<=2024.12.0,>=2023.1.0->datasets)\n",
      "  Using cached fsspec-2024.12.0-py3-none-any.whl.metadata (11 kB)\n",
      "Collecting aiohttp (from datasets)\n",
      "  Using cached aiohttp-3.11.16-cp311-cp311-macosx_11_0_arm64.whl.metadata (7.7 kB)\n",
      "Collecting huggingface-hub>=0.24.0 (from datasets)\n",
      "  Using cached huggingface_hub-0.30.2-py3-none-any.whl.metadata (13 kB)\n",
      "Collecting packaging (from datasets)\n",
      "  Using cached packaging-24.2-py3-none-any.whl.metadata (3.2 kB)\n",
      "Collecting pyyaml>=5.1 (from datasets)\n",
      "  Using cached PyYAML-6.0.2-cp311-cp311-macosx_11_0_arm64.whl.metadata (2.1 kB)\n",
      "Collecting aiohappyeyeballs>=2.3.0 (from aiohttp->datasets)\n",
      "  Using cached aiohappyeyeballs-2.6.1-py3-none-any.whl.metadata (5.9 kB)\n",
      "Collecting aiosignal>=1.1.2 (from aiohttp->datasets)\n",
      "  Using cached aiosignal-1.3.2-py2.py3-none-any.whl.metadata (3.8 kB)\n",
      "Collecting attrs>=17.3.0 (from aiohttp->datasets)\n",
      "  Using cached attrs-25.3.0-py3-none-any.whl.metadata (10 kB)\n",
      "Collecting frozenlist>=1.1.1 (from aiohttp->datasets)\n",
      "  Using cached frozenlist-1.5.0-cp311-cp311-macosx_11_0_arm64.whl.metadata (13 kB)\n",
      "Collecting multidict<7.0,>=4.5 (from aiohttp->datasets)\n",
      "  Using cached multidict-6.4.3-cp311-cp311-macosx_11_0_arm64.whl.metadata (5.3 kB)\n",
      "Collecting propcache>=0.2.0 (from aiohttp->datasets)\n",
      "  Using cached propcache-0.3.1-cp311-cp311-macosx_11_0_arm64.whl.metadata (10 kB)\n",
      "Collecting yarl<2.0,>=1.17.0 (from aiohttp->datasets)\n",
      "  Using cached yarl-1.19.0-cp311-cp311-macosx_11_0_arm64.whl.metadata (71 kB)\n",
      "Collecting typing-extensions>=3.7.4.3 (from huggingface-hub>=0.24.0->datasets)\n",
      "  Using cached typing_extensions-4.13.2-py3-none-any.whl.metadata (3.0 kB)\n",
      "Collecting charset-normalizer<4,>=2 (from requests>=2.32.2->datasets)\n",
      "  Using cached charset_normalizer-3.4.1-cp311-cp311-macosx_10_9_universal2.whl.metadata (35 kB)\n",
      "Collecting idna<4,>=2.5 (from requests>=2.32.2->datasets)\n",
      "  Using cached idna-3.10-py3-none-any.whl.metadata (10 kB)\n",
      "Collecting urllib3<3,>=1.21.1 (from requests>=2.32.2->datasets)\n",
      "  Using cached urllib3-2.4.0-py3-none-any.whl.metadata (6.5 kB)\n",
      "Collecting certifi>=2017.4.17 (from requests>=2.32.2->datasets)\n",
      "  Using cached certifi-2025.1.31-py3-none-any.whl.metadata (2.5 kB)\n",
      "Collecting python-dateutil>=2.8.2 (from pandas->datasets)\n",
      "  Using cached python_dateutil-2.9.0.post0-py2.py3-none-any.whl.metadata (8.4 kB)\n",
      "Collecting pytz>=2020.1 (from pandas->datasets)\n",
      "  Using cached pytz-2025.2-py2.py3-none-any.whl.metadata (22 kB)\n",
      "Collecting tzdata>=2022.7 (from pandas->datasets)\n",
      "  Using cached tzdata-2025.2-py2.py3-none-any.whl.metadata (1.4 kB)\n",
      "Collecting six>=1.5 (from python-dateutil>=2.8.2->pandas->datasets)\n",
      "  Using cached six-1.17.0-py2.py3-none-any.whl.metadata (1.7 kB)\n",
      "Using cached datasets-3.5.0-py3-none-any.whl (491 kB)\n",
      "Using cached dill-0.3.8-py3-none-any.whl (116 kB)\n",
      "Using cached fsspec-2024.12.0-py3-none-any.whl (183 kB)\n",
      "Using cached aiohttp-3.11.16-cp311-cp311-macosx_11_0_arm64.whl (456 kB)\n",
      "Using cached huggingface_hub-0.30.2-py3-none-any.whl (481 kB)\n",
      "Using cached multiprocess-0.70.16-py311-none-any.whl (143 kB)\n",
      "Using cached numpy-2.2.4-cp311-cp311-macosx_14_0_arm64.whl (5.4 MB)\n",
      "Using cached packaging-24.2-py3-none-any.whl (65 kB)\n",
      "Using cached pyarrow-19.0.1-cp311-cp311-macosx_12_0_arm64.whl (30.7 MB)\n",
      "Using cached PyYAML-6.0.2-cp311-cp311-macosx_11_0_arm64.whl (172 kB)\n",
      "Using cached requests-2.32.3-py3-none-any.whl (64 kB)\n",
      "Using cached tqdm-4.67.1-py3-none-any.whl (78 kB)\n",
      "Using cached filelock-3.18.0-py3-none-any.whl (16 kB)\n",
      "Using cached pandas-2.2.3-cp311-cp311-macosx_11_0_arm64.whl (11.3 MB)\n",
      "Using cached xxhash-3.5.0-cp311-cp311-macosx_11_0_arm64.whl (30 kB)\n",
      "Using cached aiohappyeyeballs-2.6.1-py3-none-any.whl (15 kB)\n",
      "Using cached aiosignal-1.3.2-py2.py3-none-any.whl (7.6 kB)\n",
      "Using cached attrs-25.3.0-py3-none-any.whl (63 kB)\n",
      "Using cached certifi-2025.1.31-py3-none-any.whl (166 kB)\n",
      "Using cached charset_normalizer-3.4.1-cp311-cp311-macosx_10_9_universal2.whl (194 kB)\n",
      "Using cached frozenlist-1.5.0-cp311-cp311-macosx_11_0_arm64.whl (52 kB)\n",
      "Using cached idna-3.10-py3-none-any.whl (70 kB)\n",
      "Using cached multidict-6.4.3-cp311-cp311-macosx_11_0_arm64.whl (37 kB)\n",
      "Using cached propcache-0.3.1-cp311-cp311-macosx_11_0_arm64.whl (45 kB)\n",
      "Using cached python_dateutil-2.9.0.post0-py2.py3-none-any.whl (229 kB)\n",
      "Using cached pytz-2025.2-py2.py3-none-any.whl (509 kB)\n",
      "Using cached typing_extensions-4.13.2-py3-none-any.whl (45 kB)\n",
      "Using cached tzdata-2025.2-py2.py3-none-any.whl (347 kB)\n",
      "Using cached urllib3-2.4.0-py3-none-any.whl (128 kB)\n",
      "Using cached yarl-1.19.0-cp311-cp311-macosx_11_0_arm64.whl (94 kB)\n",
      "Using cached six-1.17.0-py2.py3-none-any.whl (11 kB)\n",
      "Installing collected packages: pytz, xxhash, urllib3, tzdata, typing-extensions, tqdm, six, pyyaml, pyarrow, propcache, packaging, numpy, multidict, idna, fsspec, frozenlist, filelock, dill, charset-normalizer, certifi, attrs, aiohappyeyeballs, yarl, requests, python-dateutil, multiprocess, aiosignal, pandas, huggingface-hub, aiohttp, datasets\n",
      "  Attempting uninstall: pytz\n",
      "    Found existing installation: pytz 2025.2\n",
      "    Uninstalling pytz-2025.2:\n",
      "      Successfully uninstalled pytz-2025.2\n",
      "  Attempting uninstall: xxhash\n",
      "    Found existing installation: xxhash 3.5.0\n",
      "    Uninstalling xxhash-3.5.0:\n",
      "      Successfully uninstalled xxhash-3.5.0\n",
      "  Attempting uninstall: urllib3\n",
      "    Found existing installation: urllib3 2.4.0\n",
      "    Uninstalling urllib3-2.4.0:\n",
      "      Successfully uninstalled urllib3-2.4.0\n",
      "  Attempting uninstall: tzdata\n",
      "    Found existing installation: tzdata 2025.2\n",
      "    Uninstalling tzdata-2025.2:\n",
      "      Successfully uninstalled tzdata-2025.2\n",
      "  Attempting uninstall: typing-extensions\n",
      "    Found existing installation: typing_extensions 4.13.2\n",
      "    Uninstalling typing_extensions-4.13.2:\n",
      "      Successfully uninstalled typing_extensions-4.13.2\n",
      "  Attempting uninstall: tqdm\n",
      "    Found existing installation: tqdm 4.67.1\n",
      "    Uninstalling tqdm-4.67.1:\n",
      "      Successfully uninstalled tqdm-4.67.1\n",
      "  Attempting uninstall: six\n",
      "    Found existing installation: six 1.17.0\n",
      "    Uninstalling six-1.17.0:\n",
      "      Successfully uninstalled six-1.17.0\n",
      "  Attempting uninstall: pyyaml\n",
      "    Found existing installation: PyYAML 6.0.2\n",
      "    Uninstalling PyYAML-6.0.2:\n",
      "      Successfully uninstalled PyYAML-6.0.2\n",
      "  Attempting uninstall: pyarrow\n",
      "    Found existing installation: pyarrow 19.0.1\n",
      "    Uninstalling pyarrow-19.0.1:\n",
      "      Successfully uninstalled pyarrow-19.0.1\n",
      "  Attempting uninstall: propcache\n",
      "    Found existing installation: propcache 0.3.1\n",
      "    Uninstalling propcache-0.3.1:\n",
      "      Successfully uninstalled propcache-0.3.1\n",
      "  Attempting uninstall: packaging\n",
      "    Found existing installation: packaging 24.2\n",
      "    Uninstalling packaging-24.2:\n",
      "      Successfully uninstalled packaging-24.2\n",
      "  Attempting uninstall: numpy\n",
      "    Found existing installation: numpy 1.26.4\n",
      "    Uninstalling numpy-1.26.4:\n",
      "      Successfully uninstalled numpy-1.26.4\n",
      "  Attempting uninstall: multidict\n",
      "    Found existing installation: multidict 6.4.3\n",
      "    Uninstalling multidict-6.4.3:\n",
      "      Successfully uninstalled multidict-6.4.3\n",
      "  Attempting uninstall: idna\n",
      "    Found existing installation: idna 3.10\n",
      "    Uninstalling idna-3.10:\n",
      "      Successfully uninstalled idna-3.10\n",
      "  Attempting uninstall: fsspec\n",
      "    Found existing installation: fsspec 2024.12.0\n",
      "    Uninstalling fsspec-2024.12.0:\n",
      "      Successfully uninstalled fsspec-2024.12.0\n",
      "  Attempting uninstall: frozenlist\n",
      "    Found existing installation: frozenlist 1.5.0\n",
      "    Uninstalling frozenlist-1.5.0:\n",
      "      Successfully uninstalled frozenlist-1.5.0\n",
      "  Attempting uninstall: filelock\n",
      "    Found existing installation: filelock 3.18.0\n",
      "    Uninstalling filelock-3.18.0:\n",
      "      Successfully uninstalled filelock-3.18.0\n",
      "  Attempting uninstall: dill\n",
      "    Found existing installation: dill 0.3.8\n",
      "    Uninstalling dill-0.3.8:\n",
      "      Successfully uninstalled dill-0.3.8\n",
      "  Attempting uninstall: charset-normalizer\n",
      "    Found existing installation: charset-normalizer 3.4.1\n",
      "    Uninstalling charset-normalizer-3.4.1:\n",
      "      Successfully uninstalled charset-normalizer-3.4.1\n",
      "  Attempting uninstall: certifi\n",
      "    Found existing installation: certifi 2025.1.31\n",
      "    Uninstalling certifi-2025.1.31:\n",
      "      Successfully uninstalled certifi-2025.1.31\n",
      "  Attempting uninstall: attrs\n",
      "    Found existing installation: attrs 25.3.0\n",
      "    Uninstalling attrs-25.3.0:\n",
      "      Successfully uninstalled attrs-25.3.0\n",
      "  Attempting uninstall: aiohappyeyeballs\n",
      "    Found existing installation: aiohappyeyeballs 2.6.1\n",
      "    Uninstalling aiohappyeyeballs-2.6.1:\n",
      "      Successfully uninstalled aiohappyeyeballs-2.6.1\n",
      "  Attempting uninstall: yarl\n",
      "    Found existing installation: yarl 1.19.0\n",
      "    Uninstalling yarl-1.19.0:\n",
      "      Successfully uninstalled yarl-1.19.0\n",
      "  Attempting uninstall: requests\n",
      "    Found existing installation: requests 2.32.3\n",
      "    Uninstalling requests-2.32.3:\n",
      "      Successfully uninstalled requests-2.32.3\n",
      "  Attempting uninstall: python-dateutil\n",
      "    Found existing installation: python-dateutil 2.9.0.post0\n",
      "    Uninstalling python-dateutil-2.9.0.post0:\n",
      "      Successfully uninstalled python-dateutil-2.9.0.post0\n",
      "  Attempting uninstall: multiprocess\n",
      "    Found existing installation: multiprocess 0.70.16\n",
      "    Uninstalling multiprocess-0.70.16:\n",
      "      Successfully uninstalled multiprocess-0.70.16\n",
      "  Attempting uninstall: aiosignal\n",
      "    Found existing installation: aiosignal 1.3.2\n",
      "    Uninstalling aiosignal-1.3.2:\n",
      "      Successfully uninstalled aiosignal-1.3.2\n",
      "  Attempting uninstall: pandas\n",
      "    Found existing installation: pandas 2.2.3\n",
      "    Uninstalling pandas-2.2.3:\n",
      "      Successfully uninstalled pandas-2.2.3\n",
      "  Attempting uninstall: huggingface-hub\n",
      "    Found existing installation: huggingface-hub 0.30.2\n",
      "    Uninstalling huggingface-hub-0.30.2:\n",
      "      Successfully uninstalled huggingface-hub-0.30.2\n",
      "  Attempting uninstall: aiohttp\n",
      "    Found existing installation: aiohttp 3.11.16\n",
      "    Uninstalling aiohttp-3.11.16:\n",
      "      Successfully uninstalled aiohttp-3.11.16\n",
      "  Attempting uninstall: datasets\n",
      "    Found existing installation: datasets 3.5.0\n",
      "    Uninstalling datasets-3.5.0:\n",
      "      Successfully uninstalled datasets-3.5.0\n",
      "\u001b[31mERROR: pip's dependency resolver does not currently take into account all the packages that are installed. This behaviour is the source of the following dependency conflicts.\n",
      "gensim 4.3.3 requires numpy<2.0,>=1.18.5, but you have numpy 2.2.4 which is incompatible.\u001b[0m\u001b[31m\n",
      "\u001b[0mSuccessfully installed aiohappyeyeballs-2.6.1 aiohttp-3.11.16 aiosignal-1.3.2 attrs-25.3.0 certifi-2025.1.31 charset-normalizer-3.4.1 datasets-3.5.0 dill-0.3.8 filelock-3.18.0 frozenlist-1.5.0 fsspec-2024.12.0 huggingface-hub-0.30.2 idna-3.10 multidict-6.4.3 multiprocess-0.70.16 numpy-2.2.4 packaging-24.2 pandas-2.2.3 propcache-0.3.1 pyarrow-19.0.1 python-dateutil-2.9.0.post0 pytz-2025.2 pyyaml-6.0.2 requests-2.32.3 six-1.17.0 tqdm-4.67.1 typing-extensions-4.13.2 tzdata-2025.2 urllib3-2.4.0 xxhash-3.5.0 yarl-1.19.0\n"
     ]
    }
   ],
   "source": [
    "! pip install --upgrade --force-reinstall datasets"
   ]
  },
  {
   "cell_type": "markdown",
   "metadata": {
    "collapsed": false,
    "id": "5CCI1TPJpSOF",
    "pycharm": {
     "name": "#%% md\n"
    }
   },
   "source": [
    "As usual, we start by importing some essential Python libraries and we will be using. Apart from `gensim` (which is going to be used for word embeddings), we have already seen the others."
   ]
  },
  {
   "cell_type": "code",
   "execution_count": 5,
   "metadata": {},
   "outputs": [
    {
     "name": "stdout",
     "output_type": "stream",
     "text": [
      "Requirement already satisfied: numpy in /Users/maksiuuuuuuu/Desktop/NLP/project/.venv/lib/python3.11/site-packages (1.26.4)\n",
      "Collecting numpy\n",
      "  Using cached numpy-2.2.4-cp311-cp311-macosx_14_0_arm64.whl.metadata (62 kB)\n",
      "Requirement already satisfied: gensim in /Users/maksiuuuuuuu/Desktop/NLP/project/.venv/lib/python3.11/site-packages (4.3.3)\n",
      "Requirement already satisfied: scipy<1.14.0,>=1.7.0 in /Users/maksiuuuuuuu/Desktop/NLP/project/.venv/lib/python3.11/site-packages (from gensim) (1.13.1)\n",
      "Requirement already satisfied: smart-open>=1.8.1 in /Users/maksiuuuuuuu/Desktop/NLP/project/.venv/lib/python3.11/site-packages (from gensim) (7.1.0)\n",
      "Requirement already satisfied: wrapt in /Users/maksiuuuuuuu/Desktop/NLP/project/.venv/lib/python3.11/site-packages (from smart-open>=1.8.1->gensim) (1.17.2)\n"
     ]
    }
   ],
   "source": [
    "!pip install --upgrade numpy gensim\n",
    "\n"
   ]
  },
  {
   "cell_type": "code",
   "execution_count": 1,
   "metadata": {
    "id": "CRe8W4hKpSOF",
    "pycharm": {
     "name": "#%%\n"
    }
   },
   "outputs": [
    {
     "name": "stderr",
     "output_type": "stream",
     "text": [
      "/Users/maksiuuuuuuu/Desktop/NLP/project/.venv/lib/python3.11/site-packages/tqdm/auto.py:21: TqdmWarning: IProgress not found. Please update jupyter and ipywidgets. See https://ipywidgets.readthedocs.io/en/stable/user_install.html\n",
      "  from .autonotebook import tqdm as notebook_tqdm\n",
      "[nltk_data] Error loading punkt_tab: <urlopen error [SSL:\n",
      "[nltk_data]     CERTIFICATE_VERIFY_FAILED] certificate verify failed:\n",
      "[nltk_data]     unable to get local issuer certificate (_ssl.c:992)>\n"
     ]
    },
    {
     "data": {
      "text/plain": [
       "False"
      ]
     },
     "execution_count": 1,
     "metadata": {},
     "output_type": "execute_result"
    }
   ],
   "source": [
    "import re\n",
    "\n",
    "import pandas as pd    \n",
    "import numpy as np\n",
    "import matplotlib.pyplot as plt\n",
    "import gensim\n",
    "import tqdm\n",
    "import datasets\n",
    "import nltk\n",
    "\n",
    "\n",
    "nltk.download('punkt_tab')"
   ]
  },
  {
   "cell_type": "markdown",
   "metadata": {
    "collapsed": false,
    "id": "NXy-1KiCpSOF",
    "pycharm": {
     "name": "#%% md\n"
    }
   },
   "source": [
    "## 1. Load and Preprocess Data\n",
    "\n",
    "*Sentence compression* involves rephrasing sentences to make them shorter while still retaining the original meaning. A reliable compression system would be valuable for mobile devices and could also serve as a component in an extractive summarization system.\n",
    "\n",
    "The dataset we are going to use can be found on [Huggingface](https://huggingface.co/datasets/embedding-data/sentence-compression). It concerns a set of 180,000 pairs of sentences, aka it is a parallel corpus of sentences and their equivalent compressions. It has been collected by harvesting news articles from the Internet where the headline appears to be similar to the first sentence and that property is used to find an \"extractive\" compression of the sentence.\n",
    "\n",
    "For example, for the sentence\n",
    "\n",
    "`\"Regulators Friday shut down a small Florida bank, bringing to 119 the number of US bank failures this year amid mounting loan defaults\"`\n",
    "\n",
    "the compressed equivalent (based on the dataset) is:\n",
    "\n",
    "`\"Regulators shut down small Florida bank\"`.\n",
    "\n",
    "\n",
    "For more information you can read the original paper (from Google) [here](https://aclanthology.org/D13-1155.pdf). We strongly recommend going over the paper to gain further insights. Notice that the paper is from 2013, therefore word embeddings have not been widely introduced yet in NLP tasks, meaning that the methods applied were based on the traditional NLP pipeline (feature extraction + ML)."
   ]
  },
  {
   "cell_type": "markdown",
   "metadata": {
    "collapsed": false,
    "id": "ztJX2GRVpSOF",
    "pycharm": {
     "name": "#%% md\n"
    }
   },
   "source": [
    "### 1.1 Loading the Dataset\n",
    "\n",
    "The dataset will be loaded as a Pandas DataFrame. This may take a few minutes because of the large size of the data.\n",
    "\n",
    "Make sure to inspect the dataset and make sure it is imported properly."
   ]
  },
  {
   "cell_type": "code",
   "execution_count": 2,
   "metadata": {
    "id": "tay2NXPTpSOG",
    "pycharm": {
     "name": "#%%\n"
    }
   },
   "outputs": [
    {
     "name": "stderr",
     "output_type": "stream",
     "text": [
      "Generating train split: 100%|██████████| 180000/180000 [00:00<00:00, 1712345.22 examples/s]\n"
     ]
    },
    {
     "data": {
      "text/plain": [
       "DatasetDict({\n",
       "    train: Dataset({\n",
       "        features: ['set'],\n",
       "        num_rows: 180000\n",
       "    })\n",
       "})"
      ]
     },
     "execution_count": 2,
     "metadata": {},
     "output_type": "execute_result"
    }
   ],
   "source": [
    "ds = datasets.load_dataset('embedding-data/sentence-compression')\n",
    "ds"
   ]
  },
  {
   "cell_type": "code",
   "execution_count": 4,
   "metadata": {
    "id": "bUud3eZVpSOH",
    "pycharm": {
     "name": "#%%\n"
    }
   },
   "outputs": [
    {
     "name": "stdout",
     "output_type": "stream",
     "text": [
      "{'set': [\"The USHL completed an expansion draft on Monday as 10 players who were on the rosters of USHL teams during the 2009-10 season were selected by the League's two newest entries, the Muskegon Lumberjacks and Dubuque Fighting Saints.\", 'USHL completes expansion draft']}\n",
      "{'set': ['Major League Baseball Commissioner Bud Selig will be speaking at St. Norbert College next month.', 'Bud Selig to speak at St. Norbert College']}\n",
      "{'set': [\"It's fresh cherry time in Michigan and the best time to enjoy this delicious and nutritious fruit.\", \"It's cherry time\"]}\n",
      "{'set': ['An Evesham man is facing charges in Pennsylvania after he allegedly dragged his girlfriend from the side of his pickup truck on the campus of Kutztown University in the early morning hours of Dec. 5, police said.', 'Evesham man faces charges for Pa.']}\n",
      "{'set': [\"NRT LLC, one of the nation's largest residential real estate brokerage companies, announced several executive appointments within its Coldwell Banker Residential Brokerage operations in Southern California.\", 'NRT announces executive appointments at its Coldwell Banker operations in Southern California']}\n",
      "{'set': ['THE JSE kept toying with an all time high by midday today as resources continued to fuel the bourse.', 'JSE keeps toying with all time high']}\n",
      "{'set': ['The government is defending the latest police crime statistics despite a worrying rise in the recorded amount of violent offending.', 'Government defends crime statistics']}\n",
      "{'set': ['The renovated Marappalam bridge, which had been opened for two-wheelers last week, was opened for other vehicles also on Friday.', 'Marappalam bridge opened']}\n",
      "{'set': ['A new survey shows 30 percent of Californians use Twitter, and more and more of us are using our smart phones to go online.', 'Survey: 30 percent of Californians use Twitter']}\n",
      "{'set': ['Brightpoint ,a provider of logistic services to the mobile industry, has started operations in the Turkish market.', 'Brightpoint starts operations on Turkish market']}\n"
     ]
    }
   ],
   "source": [
    "for i in range(10):\n",
    "    print(ds['train'][i])"
   ]
  },
  {
   "cell_type": "markdown",
   "metadata": {
    "collapsed": false,
    "id": "HfJSiWxrpSOH",
    "pycharm": {
     "name": "#%% md\n"
    }
   },
   "source": [
    "The dataset comes with only the `train` split so we will have to split it ourselves."
   ]
  },
  {
   "cell_type": "code",
   "execution_count": 3,
   "metadata": {
    "id": "tATL53MWpSOH",
    "pycharm": {
     "name": "#%%\n"
    }
   },
   "outputs": [
    {
     "data": {
      "text/plain": [
       "DatasetDict({\n",
       "    train: Dataset({\n",
       "        features: ['set'],\n",
       "        num_rows: 144000\n",
       "    })\n",
       "    test: Dataset({\n",
       "        features: ['set'],\n",
       "        num_rows: 36000\n",
       "    })\n",
       "})"
      ]
     },
     "execution_count": 3,
     "metadata": {},
     "output_type": "execute_result"
    }
   ],
   "source": [
    "split_ds = ds['train'].train_test_split(test_size=0.2)\n",
    "split_ds"
   ]
  },
  {
   "cell_type": "markdown",
   "metadata": {
    "collapsed": false,
    "id": "L133t3CqpSOH",
    "pycharm": {
     "name": "#%% md\n"
    }
   },
   "source": [
    "### 1.2 Preprocessing the dataset\n",
    "In this section we will prepare the dataset, aka clean the sentences and tokenize.\n",
    "\n",
    "First, let's write the function to clean the text. It can be similar to the one from the previous lab (Lab1) but make sure that it makes sense for this dataset and task.\n",
    "\n",
    "More specifically, think about lower-casing, punctuation, stop-words and lemmatization/stemming and the impact it might have on the dataset. Also reflect on the fact that with word embeddings we want to uncover semantic relationships between words, whereas with bag-of-words we were trying to capture different morphological variations."
   ]
  },
  {
   "cell_type": "markdown",
   "metadata": {
    "collapsed": false,
    "id": "mQszN6GNpSOH",
    "pycharm": {
     "name": "#%% md\n"
    }
   },
   "source": [
    "<a name='e1'></a>\n",
    "### Exercise 1: Clean function\n",
    "(1p) Fill in the following function ot clean the dataset. Implement at least 3 different steps."
   ]
  },
  {
   "cell_type": "code",
   "execution_count": 4,
   "metadata": {
    "id": "TxjfLQj6pSOH",
    "pycharm": {
     "name": "#%%\n"
    }
   },
   "outputs": [],
   "source": [
    "# from nltk.stem import PorterStemmer\n",
    "# ps = PorterStemmer()\n",
    "\n",
    "def clean(text):\n",
    "    \"\"\"\n",
    "    Cleans the given text\n",
    "    Args:\n",
    "        text: a str with the text to clean\n",
    "\n",
    "    Returns: a str with the cleaned text\n",
    "\n",
    "    \"\"\"\n",
    "    \n",
    "\n",
    "    # Empty text\n",
    "    if text == '':\n",
    "        return text\n",
    "\n",
    "    # 'text' from the example can be of type numpy.str_, let's convert it to a python str\n",
    "    text = str(text)\n",
    "\n",
    "    #you might need more\n",
    "    #add them here\n",
    "\n",
    "    ### YOUR CODE HERE\n",
    "\n",
    "# BASIC PROCESSING\n",
    "    # space out punctuation\n",
    "    text = re.sub(r'([.,!?(){}[\\]])', r' \\1 ', text)\n",
    "    \n",
    "    # remove comma between numbers\n",
    "    text = re.sub(r'(\\d+),(\\d+)', r'\\1\\2', text)\n",
    "    \n",
    "    #2 remove #, @, *, ^, () , {} , ...\n",
    "    text = re.sub(r'[@#*^(){}\\'\\`\\\"%\\$&\\[\\]]', \"\", text)\n",
    "    \n",
    "    #3 delete the \"-\" between words\n",
    "    text = re.sub(r'\\-', \"\", text)\n",
    "    \n",
    "    # lowercase\n",
    "    text = text.lower()\n",
    "\n",
    "    # Remove extra spaces\n",
    "    text = re.sub(r'\\s+', ' ', text)\n",
    "    \n",
    "# remove stopwords upper and lowercase - common words\n",
    "    text = re.sub(r'\\b(?:a|an|the)\\b', '', text, flags=re.IGNORECASE)\n",
    "    \n",
    "# stemming \n",
    "    # text = ' '.join([ps.stem(word) for word in text.split()])\n",
    "\n",
    "    ### YOUR CODE ENDS HERE\n",
    "    \n",
    "    text = text.strip()\n",
    "\n",
    "    # Update the example with the cleaned text\n",
    "    return text"
   ]
  },
  {
   "cell_type": "markdown",
   "metadata": {
    "collapsed": false,
    "id": "gAqf1AoupSOJ",
    "pycharm": {
     "name": "#%% md\n"
    }
   },
   "source": [
    "The following function will apply the function (sic) you just wrote to the whole dataset. More specifically, it takes the first entry (`sentence`) from the set of uncompressed/compressed pairs, applies the `clean` function and saves the processed sentence in the field `clean_sentence`. The same is dome for the compressed version of the sentence (saved as `clean_compressed`)."
   ]
  },
  {
   "cell_type": "code",
   "execution_count": 5,
   "metadata": {
    "id": "WZn-M4_vpSOJ",
    "pycharm": {
     "name": "#%%\n"
    }
   },
   "outputs": [],
   "source": [
    "def clean_dataset(example):\n",
    "    \"\"\"\n",
    "    Cleans the sentence and compressed sentence in the example from the Dataset\n",
    "    Args:\n",
    "        example: an example from the Dataset\n",
    "\n",
    "    Returns: updated example with 'clean_sentence' and 'clean_compressed' cleaned\n",
    "\n",
    "    \"\"\"\n",
    "    sentence, compressed = example['set']\n",
    "    clean_sentence = clean(sentence)\n",
    "    clean_compressed = clean(compressed)\n",
    "    example['clean_sentence'] = clean_sentence\n",
    "    example['clean_compressed'] = clean_compressed\n",
    "    return example"
   ]
  },
  {
   "cell_type": "markdown",
   "metadata": {
    "collapsed": false,
    "id": "_KVujosKpSOJ",
    "pycharm": {
     "name": "#%% md\n"
    }
   },
   "source": [
    "Below we apply the function to the whole dataset (using `map`) and we can also inspect the result."
   ]
  },
  {
   "cell_type": "code",
   "execution_count": 6,
   "metadata": {
    "id": "NBS1JbISpSOJ",
    "pycharm": {
     "name": "#%%\n"
    }
   },
   "outputs": [
    {
     "name": "stderr",
     "output_type": "stream",
     "text": [
      "Map: 100%|██████████| 144000/144000 [00:04<00:00, 32371.01 examples/s]\n",
      "Map: 100%|██████████| 36000/36000 [00:01<00:00, 32962.05 examples/s]"
     ]
    },
    {
     "name": "stdout",
     "output_type": "stream",
     "text": [
      "DatasetDict({\n",
      "    train: Dataset({\n",
      "        features: ['set', 'clean_sentence', 'clean_compressed'],\n",
      "        num_rows: 144000\n",
      "    })\n",
      "    test: Dataset({\n",
      "        features: ['set', 'clean_sentence', 'clean_compressed'],\n",
      "        num_rows: 36000\n",
      "    })\n",
      "})\n"
     ]
    },
    {
     "name": "stderr",
     "output_type": "stream",
     "text": [
      "\n"
     ]
    }
   ],
   "source": [
    "split_ds = split_ds.map(clean_dataset)\n",
    "print(split_ds)"
   ]
  },
  {
   "cell_type": "markdown",
   "metadata": {
    "collapsed": false,
    "id": "X_ThE9H-pSOJ",
    "pycharm": {
     "name": "#%% md\n"
    }
   },
   "source": [
    "Let's examine some examples from the dataset and make sure that we got the results we wanted. At this step, it might be necessary to revisit some pre-processing steps if you are not happy with the results."
   ]
  },
  {
   "cell_type": "code",
   "execution_count": 9,
   "metadata": {
    "id": "hP-qOPijpSOJ",
    "pycharm": {
     "name": "#%%\n"
    }
   },
   "outputs": [
    {
     "name": "stdout",
     "output_type": "stream",
     "text": [
      "hazmat team was called to upmc mercy hospital for  oxygen leak early tuesday morning .\n",
      "twinkle toes bruce forsyth signed  £500 , 000 deal to return to strictly come dancing then proved hes still got it by jiving down  catwalk with  model barely  quarter his age .\n",
      "new delhi , march 16  speeding train sunday mowed down two children in northeast delhi ,  railway officer said .\n",
      "armenian parliament adopted bills on biometric passports and ids in  third and final reading on wednesday .\n",
      "us automotive concern ford motor co . reported thursday it returned to  black in  first quarter of 2008 thanks to rigorous costcutting and restructuring , dpa reported .\n",
      "doordarshan will be fully digitised by 2017 . that is  goal we have set . we are also preferring  full dialogue with  industry , said zohra chatterji , joint secretary ib ministry tuesday at  fifth annual india digital networks summit .\n",
      "apple has sold usd 17 billion of bonds , including usd 14 billion of fixedrate securities with maturities from 3 to 30 years and usd 3 billion of floatingrate notes , bloomberg reports .\n",
      "singer chris brown has completed  domestic violence counseling program required as part of his guilty plea to assaulting thengirlfriend rihanna nearly two years ago .\n",
      "horry county police continued monday to investigate  fatal shooting that occurred  day before in  apartment complex parking lot in little river , sgt . robert kegler said .\n",
      "fire departments from corte madera , kentfield , larkspur , ross , ross valley and  college of marin are offering joint community emergency response training july 8 , 10 and 17 .\n",
      "\n",
      "['A hazmat team was called to UPMC Mercy hospital for an oxygen leak early Tuesday morning.', 'Hazmat called to UPMC Mercy hospital']\n",
      "[\"TWINKLE toes Bruce Forsyth signed a £500,000 deal to return to Strictly Come Dancing - then proved he's still got it by jiving down a catwalk with a model barely a quarter his age.\", \"Bruce Forsyth's still got it\"]\n",
      "['New Delhi, March 16 A speeding train Sunday mowed down two children in northeast Delhi, a railway officer said.', 'Train mows down two children']\n",
      "['Armenian Parliament adopted bills on biometric passports and IDs in the third and final reading on Wednesday.', 'Armenian Parliament adopts bills on biometric passports']\n",
      "['US automotive concern Ford Motor Co. reported Thursday it returned to the black in the first quarter of 2008 thanks to rigorous cost-cutting and restructuring, dpa reported.', 'Ford Motor Co. returns to black in first quarter']\n",
      "[\"``Doordarshan will be fully digitised by 2017. That is the goal we have set. We are also preferring a full dialogue with the industry,'' said Zohra Chatterji, joint secretary I&B ministry Tuesday at the fifth annual India Digital Networks Summit.\", 'Doordarshan will be fully digitised by 2017:']\n",
      "['Apple has sold USD 17 billion of bonds, including USD 14 billion of fixed-rate securities with maturities from 3 to 30 years and USD 3 billion of floating-rate notes, Bloomberg reports.', 'Apple sells USD 17 billion of bonds']\n",
      "['Singer Chris Brown has completed a domestic violence counseling program required as part of his guilty plea to assaulting then-girlfriend Rihanna nearly two years ago.', 'Chris Brown completes domestic violence program']\n",
      "['Horry County police continued Monday to investigate a fatal shooting that occurred the day before in an apartment complex parking lot in Little River, Sgt. Robert Kegler said.', 'Horry County police continue to investigate fatal shooting']\n",
      "['Fire departments from Corte Madera, Kentfield, Larkspur, Ross, Ross Valley and the College of Marin are offering joint community emergency response training July 8, 10 and 17.', 'Fire departments offer response training']\n"
     ]
    }
   ],
   "source": [
    "for i in range(10):\n",
    "    print(split_ds['train'][i]['clean_sentence'])\n",
    "    \n",
    "print()\n",
    "\n",
    "for i in range(10):\n",
    "    print(split_ds['train'][i]['set'])"
   ]
  },
  {
   "cell_type": "markdown",
   "metadata": {
    "collapsed": false,
    "id": "7LI2KlfypSOJ",
    "pycharm": {
     "name": "#%% md\n"
    }
   },
   "source": [
    "<a name='e2'></a>\n",
    "### Exercise 2: Tokenize function\n",
    "\n",
    "(1p) As always, we will need to tokenize the dataset in order to create bat-of-words and TF-IDF representations in the next sections. We will use the [Natural Language Toolkit (NLTK) library]([https://www.nltk.org/]) (https://www.nltk.org/). Complete the following function to split the text into tokens using the `word_tokenize()` function. Check the [documentation](https://www.nltk.org/api/nltk.tokenize.word_tokenize.html?highlight=word_tokenize) first.\n",
    "Note that there are different tokenizers e.g. `RegexpTokenizer` where you can enter your own regexp, `WhitespaceTokenizer` (similar to Python's string.split()) and `BlanklineTokenizer`."
   ]
  },
  {
   "cell_type": "code",
   "execution_count": 7,
   "metadata": {
    "id": "sb-M3V6ApSOK",
    "pycharm": {
     "name": "#%%\n"
    }
   },
   "outputs": [],
   "source": [
    "def tokenize(text):\n",
    "    \"\"\"\n",
    "    Tokenizes the `text` parameter using nltk library\n",
    "    Args:\n",
    "        text: a string representing a sentence to be tokenized\n",
    "\n",
    "    Returns: a list of tokens (strings)\n",
    "\n",
    "    \"\"\"\n",
    "\n",
    "    ### YOUR CODE HERE\n",
    "\n",
    "\n",
    "    tokens = nltk.word_tokenize(text)\n",
    "\n",
    "\n",
    "    ### YOUR CODE ENDS HERE\n",
    "    return tokens"
   ]
  },
  {
   "cell_type": "markdown",
   "metadata": {
    "collapsed": false,
    "id": "gwsHqZc9pSOK",
    "pycharm": {
     "name": "#%% md\n"
    }
   },
   "source": [
    "Next, the function will be applied to the whole dataset (as we did with the pre-processing) and `sentence_tokens` field will be created to store the result."
   ]
  },
  {
   "cell_type": "code",
   "execution_count": 8,
   "metadata": {
    "id": "6sTX-AcTpSOK",
    "pycharm": {
     "name": "#%%\n"
    }
   },
   "outputs": [],
   "source": [
    "def tokenize_dataset(example):\n",
    "    \"\"\"\n",
    "    Tokenizes 'clean_sentence' columns in the example from the Dataset\n",
    "    Args:\n",
    "        example: an example from the Dataset\n",
    "\n",
    "    Returns: updated example with 'sentence_tokens' columns\n",
    "\n",
    "    \"\"\"\n",
    "    example['sentence_tokens'] = tokenize(example['clean_sentence'])\n",
    "    example['compressed_tokens'] = tokenize(example['clean_compressed'])\n",
    "    return example"
   ]
  },
  {
   "cell_type": "code",
   "execution_count": 9,
   "metadata": {
    "id": "jvwmXLj2pSOK",
    "pycharm": {
     "name": "#%%\n"
    }
   },
   "outputs": [
    {
     "name": "stderr",
     "output_type": "stream",
     "text": [
      "Map: 100%|██████████| 144000/144000 [00:12<00:00, 11808.76 examples/s]\n",
      "Map: 100%|██████████| 36000/36000 [00:03<00:00, 11725.39 examples/s]\n"
     ]
    }
   ],
   "source": [
    "split_ds = split_ds.map(tokenize_dataset)"
   ]
  },
  {
   "cell_type": "code",
   "execution_count": 13,
   "metadata": {
    "id": "yXnje31SpSOK",
    "pycharm": {
     "name": "#%%\n"
    }
   },
   "outputs": [
    {
     "name": "stdout",
     "output_type": "stream",
     "text": [
      "['hazmat', 'team', 'was', 'called', 'to', 'upmc', 'mercy', 'hospital', 'for', 'oxygen', 'leak', 'early', 'tuesday', 'morning', '.']\n",
      "['twinkle', 'toes', 'bruce', 'forsyth', 'signed', '£500', ',', '000', 'deal', 'to', 'return', 'to', 'strictly', 'come', 'dancing', 'then', 'proved', 'hes', 'still', 'got', 'it', 'by', 'jiving', 'down', 'catwalk', 'with', 'model', 'barely', 'quarter', 'his', 'age', '.']\n",
      "['new', 'delhi', ',', 'march', '16', 'speeding', 'train', 'sunday', 'mowed', 'down', 'two', 'children', 'in', 'northeast', 'delhi', ',', 'railway', 'officer', 'said', '.']\n",
      "['armenian', 'parliament', 'adopted', 'bills', 'on', 'biometric', 'passports', 'and', 'ids', 'in', 'third', 'and', 'final', 'reading', 'on', 'wednesday', '.']\n",
      "['us', 'automotive', 'concern', 'ford', 'motor', 'co', '.', 'reported', 'thursday', 'it', 'returned', 'to', 'black', 'in', 'first', 'quarter', 'of', '2008', 'thanks', 'to', 'rigorous', 'costcutting', 'and', 'restructuring', ',', 'dpa', 'reported', '.']\n",
      "['doordarshan', 'will', 'be', 'fully', 'digitised', 'by', '2017', '.', 'that', 'is', 'goal', 'we', 'have', 'set', '.', 'we', 'are', 'also', 'preferring', 'full', 'dialogue', 'with', 'industry', ',', 'said', 'zohra', 'chatterji', ',', 'joint', 'secretary', 'ib', 'ministry', 'tuesday', 'at', 'fifth', 'annual', 'india', 'digital', 'networks', 'summit', '.']\n",
      "['apple', 'has', 'sold', 'usd', '17', 'billion', 'of', 'bonds', ',', 'including', 'usd', '14', 'billion', 'of', 'fixedrate', 'securities', 'with', 'maturities', 'from', '3', 'to', '30', 'years', 'and', 'usd', '3', 'billion', 'of', 'floatingrate', 'notes', ',', 'bloomberg', 'reports', '.']\n",
      "['singer', 'chris', 'brown', 'has', 'completed', 'domestic', 'violence', 'counseling', 'program', 'required', 'as', 'part', 'of', 'his', 'guilty', 'plea', 'to', 'assaulting', 'thengirlfriend', 'rihanna', 'nearly', 'two', 'years', 'ago', '.']\n",
      "['horry', 'county', 'police', 'continued', 'monday', 'to', 'investigate', 'fatal', 'shooting', 'that', 'occurred', 'day', 'before', 'in', 'apartment', 'complex', 'parking', 'lot', 'in', 'little', 'river', ',', 'sgt', '.', 'robert', 'kegler', 'said', '.']\n",
      "['fire', 'departments', 'from', 'corte', 'madera', ',', 'kentfield', ',', 'larkspur', ',', 'ross', ',', 'ross', 'valley', 'and', 'college', 'of', 'marin', 'are', 'offering', 'joint', 'community', 'emergency', 'response', 'training', 'july', '8', ',', '10', 'and', '17', '.']\n"
     ]
    }
   ],
   "source": [
    "for i in range(10):\n",
    "    print(split_ds['train'][i]['sentence_tokens'])"
   ]
  },
  {
   "cell_type": "markdown",
   "metadata": {
    "collapsed": false,
    "id": "FeF0wFd0pSOL",
    "pycharm": {
     "name": "#%% md\n"
    }
   },
   "source": [
    "Since we will need the tokenized sentences, we can use the following statement to extract them from the `train` split of our dataset."
   ]
  },
  {
   "cell_type": "code",
   "execution_count": 10,
   "metadata": {
    "id": "qYKfXFxQpSOL",
    "pycharm": {
     "name": "#%%\n"
    }
   },
   "outputs": [
    {
     "name": "stdout",
     "output_type": "stream",
     "text": [
      "144000\n",
      "[['actor', 'john', 'abraham', ',', 'who', 'turned', 'producer', 'with', 'critically', 'acclaimed', 'vicky', 'donor', ',', 'says', 'industry', 'people', 'have', 'started', 'taking', 'him', 'seriously', 'post', 'success', 'of', 'film', '.'], ['as', 'special', 'cabinet', 'meeting', 'gets', 'underway', 'this', 'morning', 'to', 'discuss', 'whether', 'duty', 'imposed', 'on', 'bottled', 'water', 'should', 'be', 'scrapped', ',', 'interim', 'finance', 'minister', 'mahendra', 'chaudhry', 'stresses', 'that', 'he', 'has', 'excellent', 'relationship', 'with', 'interim', 'prime', 'minister', 'and', 'there', 'are', 'no', 'serious', 'differences', '.'], ['one', 'of', 'worlds', 'largest', 'ferry', 'operators', 'stena', 'line', 'opens', 'new', '£200', 'facility', 'in', 'cairnryan', ',', 'scotland', ',', 'and', 'closes', '150', 'year', 'old', 'port', 'of', 'stranraer', '.'], ['nigeria', 'has', 'launched', 'two', 'satellites', 'into', 'orbit', 'with', 'aim', 'of', 'using', 'them', 'for', 'range', 'of', 'tasks', ',', 'including', 'disaster', 'monitoring', 'and', 'security', ',', 'government', 'statement', 'says', '.'], ['uae', 'ports', 'group', 'gulftainer', 'has', 'recorded', '10', 'increase', 'in', 'total', '2010', 'volumes', ',', 'according', 'to', 'local', 'media', 'reports', '.'], ['reuters', 'reports', 'that', 'former', 'new', 'york', 'giants', 'wide', 'receiver', 'plaxico', 'burress', 'was', 'formally', 'charged', 'with', 'two', 'felony', 'counts', 'of', 'criminal', 'possession', 'of', 'weapon', ',', 'plus', 'one', 'misdemeanor', 'count', 'of', 'reckless', 'endangerment', '.'], ['people', 'need', 'not', 'to', 'panic', 'as', 'nothing', 'extraordinary', 'is', 'going', 'to', 'happen', ',', 'said', 'weathermen', '.'], ['polaroid', 'corp', '.', 'has', 'announced', 'that', 'they', 'have', 'filed', 'for', 'chapter', '11', 'bankruptcy', 'protection', ',', 'as', 'well', 'as', 'their', 'subsidiaries', '.'], ['montanas', 'unemployment', 'rate', 'rose', 'slightly', 'to', '4', '.', '9', 'percent', 'in', 'november', ',', 'but', 'is', 'still', 'below', 'national', 'average', 'of', '6', '.', '7', 'percent', '.'], ['dwight', 'howard', 'works', 'on', 'his', 'free', 'throw', 'shooting', 'with', 'so', 'called', 'free', 'throw', 'master', 'ed', 'palubinskas', '.']]\n"
     ]
    }
   ],
   "source": [
    "tokenized_sentences = split_ds['train']['sentence_tokens']\n",
    "print(len(tokenized_sentences))\n",
    "print(tokenized_sentences[:10])"
   ]
  },
  {
   "cell_type": "code",
   "execution_count": 11,
   "metadata": {
    "collapsed": false,
    "pycharm": {
     "name": "#%%\n"
    }
   },
   "outputs": [
    {
     "name": "stdout",
     "output_type": "stream",
     "text": [
      "144000\n",
      "[['industry', 'people', 'have', 'started', 'taking', 'me', 'seriously', ':'], ['there', 'are', 'no', 'serious', 'differences'], ['stena', 'line', 'opens', 'new', '£200', 'facility', 'in', 'cairnryan', ',', 'scotland'], ['nigeria', 'launches', 'two', 'satellites'], ['uae', 'ports', 'group', 'records', 'increase', 'in', 'volumes'], ['plaxico', 'burress', 'charged', 'with', 'two', 'felony', 'counts'], ['no', 'need', 'to', 'panic', ',', 'say', 'weathermen'], ['polaroid', 'corp', '.', 'files', 'for', 'chapter', '11', 'bankruptcy', 'protection'], ['unemployment', 'rate', 'rises', 'slightly'], ['dwight', 'howard', 'working', 'with', 'free', 'throw', 'master', 'ed', 'palubinskas']]\n"
     ]
    }
   ],
   "source": [
    "tokenized_compressed = split_ds['train']['compressed_tokens']\n",
    "print(len(tokenized_compressed))\n",
    "print(tokenized_compressed[:10])"
   ]
  },
  {
   "cell_type": "markdown",
   "metadata": {
    "id": "ZDGwEiZeCA5U",
    "pycharm": {
     "name": "#%% md\n"
    }
   },
   "source": [
    "Notice the difference in the types of the different structures we use. Run the following cell to check the types. Do they make sense to you?"
   ]
  },
  {
   "cell_type": "code",
   "execution_count": 16,
   "metadata": {
    "id": "wKrkFmcZCtOd",
    "pycharm": {
     "name": "#%%\n"
    }
   },
   "outputs": [
    {
     "name": "stdout",
     "output_type": "stream",
     "text": [
      "<class 'datasets.dataset_dict.DatasetDict'>\n",
      "--\n",
      "{'set': [\"TWINKLE toes Bruce Forsyth signed a £500,000 deal to return to Strictly Come Dancing - then proved he's still got it by jiving down a catwalk with a model barely a quarter his age.\", \"Bruce Forsyth's still got it\"], 'clean_sentence': 'twinkle toes bruce forsyth signed  £500 , 000 deal to return to strictly come dancing then proved hes still got it by jiving down  catwalk with  model barely  quarter his age .', 'clean_compressed': 'bruce forsyths still got it', 'sentence_tokens': ['twinkle', 'toes', 'bruce', 'forsyth', 'signed', '£500', ',', '000', 'deal', 'to', 'return', 'to', 'strictly', 'come', 'dancing', 'then', 'proved', 'hes', 'still', 'got', 'it', 'by', 'jiving', 'down', 'catwalk', 'with', 'model', 'barely', 'quarter', 'his', 'age', '.'], 'compressed_tokens': ['bruce', 'forsyths', 'still', 'got', 'it']}\n",
      "<class 'dict'>\n",
      "--\n",
      "twinkle toes bruce forsyth signed  £500 , 000 deal to return to strictly come dancing then proved hes still got it by jiving down  catwalk with  model barely  quarter his age .\n",
      "<class 'str'>\n",
      "--\n",
      "['twinkle', 'toes', 'bruce', 'forsyth', 'signed', '£500', ',', '000', 'deal', 'to', 'return', 'to', 'strictly', 'come', 'dancing', 'then', 'proved', 'hes', 'still', 'got', 'it', 'by', 'jiving', 'down', 'catwalk', 'with', 'model', 'barely', 'quarter', 'his', 'age', '.']\n",
      "<class 'list'>\n",
      "--\n"
     ]
    }
   ],
   "source": [
    "#type of original dataset\n",
    "print(type(split_ds))\n",
    "print(\"--\")\n",
    "#type of original sentence\n",
    "print(split_ds['train'][1])\n",
    "print(type(split_ds['train'][1]))\n",
    "print(\"--\")\n",
    "#type of pre-proceesed sentence\n",
    "print(split_ds['train']['clean_sentence'][1])\n",
    "print(type(split_ds['train']['clean_sentence'][1]))\n",
    "print(\"--\")\n",
    "#type of tokenized sentence\n",
    "print(split_ds['train']['sentence_tokens'][1])\n",
    "print(type(split_ds['train']['sentence_tokens'][1]))\n",
    "print(\"--\")"
   ]
  },
  {
   "cell_type": "markdown",
   "metadata": {
    "collapsed": false,
    "pycharm": {
     "name": "#%% md\n"
    }
   },
   "source": [
    "## 2. Bag of Words\n",
    "In this section you will built a bag-of-words representation of the dataset. We will use numpy arrays to store the results. The bag-of-words representation is a simple and effective way to represent text data. It involves creating a vocabulary of unique words from the dataset and representing each sentence as a vector of word counts. We first need the vocabulary, which we will build from both the full sentences and the compressed sentences. Similar to the first lab, the vocabulary will be a list of unique words from the dataset."
   ]
  },
  {
   "cell_type": "markdown",
   "metadata": {
    "collapsed": false,
    "pycharm": {
     "name": "#%% md\n"
    }
   },
   "source": [
    "<a name='e3'></a>\n",
    "### Exercise 3: Extracting vocabulary counts\n",
    "\n",
    "(1p) In the following cell, you will implement a function that takes a list of tokenized sentences and returns a dictionary with the counts of each word in the vocabulary. The dictionary should be of the form {word: count}. As in previous lab, you will use the `Counter` class from the `collections` module to do this."
   ]
  },
  {
   "cell_type": "code",
   "execution_count": 12,
   "metadata": {
    "collapsed": false,
    "pycharm": {
     "name": "#%%\n"
    }
   },
   "outputs": [],
   "source": [
    "from collections import Counter\n",
    "\n",
    "\n",
    "def extract_vocabulary_counts(tokenized_sentences):\n",
    "    \"\"\"\n",
    "    Extracts the vocabulary from the tokenized sentences\n",
    "    Args:\n",
    "        tokenized_sentences: a list of lists of tokens\n",
    "\n",
    "    Returns: a Counter object with the counts of each word in the vocabulary\n",
    "    \"\"\"\n",
    "\n",
    "    ### YOUR CODE HERE\n",
    "\n",
    "    # use counter and count the tokens in the tokenized sentences\n",
    "    vocab_counts = Counter()\n",
    "    for sentence in tokenized_sentences:\n",
    "        vocab_counts.update(sentence)\n",
    "        \n",
    "    return vocab_counts\n",
    "\n",
    "    ### YOUR CODE ENDS HERE"
   ]
  },
  {
   "cell_type": "code",
   "execution_count": 13,
   "metadata": {
    "collapsed": false,
    "pycharm": {
     "name": "#%%\n"
    }
   },
   "outputs": [
    {
     "name": "stdout",
     "output_type": "stream",
     "text": [
      "116526\n",
      "[('.', 177344), (',', 153109), ('to', 130418), ('in', 112953), ('of', 100469), ('and', 68396), ('on', 56237), ('for', 52036), ('has', 39215), ('with', 31940)]\n"
     ]
    }
   ],
   "source": [
    "vocab_counter = extract_vocabulary_counts(tokenized_sentences + tokenized_compressed)\n",
    "print(len(vocab_counter))\n",
    "print(vocab_counter.most_common(10))"
   ]
  },
  {
   "cell_type": "markdown",
   "metadata": {
    "collapsed": false,
    "pycharm": {
     "name": "#%% md\n"
    }
   },
   "source": [
    "As you can see the size of the vocabulary is quite large. Like the last time, we will limit the vocabulary to the most frequent words. The next cell will create a dictionary that maps each word to an index in the vocabulary. This will be used to create the bag-of-words representation of the sentences."
   ]
  },
  {
   "cell_type": "code",
   "execution_count": 14,
   "metadata": {
    "collapsed": false,
    "pycharm": {
     "name": "#%%\n"
    }
   },
   "outputs": [
    {
     "name": "stdout",
     "output_type": "stream",
     "text": [
      "{'.': 0, ',': 1, 'to': 2, 'in': 3, 'of': 4, 'and': 5, 'on': 6, 'for': 7, 'has': 8, 'with': 9, 'is': 10, 'at': 11, 'that': 12, 'from': 13, 'by': 14, 'as': 15, 'new': 16, 'will': 17, 'said': 18, 'after': 19, 'its': 20, 'his': 21, 'was': 22, 'be': 23, 'it': 24, 'have': 25, 'man': 26, ':': 27, 'us': 28, 'he': 29, 'are': 30, 'been': 31, 'today': 32, 'police': 33, 'this': 34, 'two': 35, 'their': 36, 'her': 37, 'who': 38, 'first': 39, 'over': 40, 'announced': 41, 'not': 42, 'up': 43, 'tuesday': 44, 'more': 45, 'against': 46, 'monday': 47, 'wednesday': 48, 'thursday': 49, 'year': 50, 'out': 51, 'state': 52, 'friday': 53, 'former': 54, 'president': 55, 'says': 56, 'into': 57, 'one': 58, 'million': 59, 'were': 60, 'which': 61, 'years': 62, 'according': 63, 'last': 64, 'county': 65, 'city': 66, 'may': 67, 'about': 68, 'woman': 69, 'than': 70, 'saturday': 71, 'week': 72, 'minister': 73, 'home': 74, 'three': 75, 'sunday': 76, '1': 77, 'government': 78, 'world': 79, 'during': 80, 'but': 81, '000': 82, 'people': 83, 'company': 84, 'when': 85, 'she': 86, 'they': 87, 'time': 88, 'off': 89, 'india': 90, 'killed': 91, 'all': 92, 'night': 93, 'being': 94, 'national': 95, 'day': 96, 'bank': 97, 'south': 98, 'arrested': 99, 'next': 100, 'found': 101, 'court': 102, 'died': 103, 'morning': 104, 'set': 105, 'i': 106, 'school': 107, 'charged': 108, 'had': 109, 'second': 110, 'would': 111, 'no': 112, 'obama': 113, 'back': 114, 'could': 115, '2': 116, 'reported': 117, 'market': 118, 'down': 119, 'fire': 120, 'group': 121, 'international': 122, 'can': 123, '5': 124, 'business': 125, 'open': 126, 'season': 127, 'while': 128, 'oil': 129, 'house': 130, 'china': 131, 'early': 132, 'inc': 133, 'service': 134, 'reports': 135, 'team': 136, 'car': 137, 'north': 138, 'charges': 139, 'star': 140, 'news': 141, 'united': 142, 'high': 143, 'plans': 144, 'or': 145, 'prices': 146, 'dies': 147, '?': 148, 'four': 149, 'officials': 150, 'now': 151, 'global': 152, 'country': 153, 'guilty': 154, 'following': 155, '10': 156, '3': 157, 'hospital': 158, 'death': 159, 'report': 160, 'some': 161, 'month': 162, 'billion': 163, 'public': 164, 'him': 165, 'york': 166, 'yesterday': 167, 'services': 168, 'american': 169, 'released': 170, 'near': 171, 'health': 172, 'say': 173, 'league': 174, 'chief': 175, 'hit': 176, 'office': 177, 'federal': 178, 'help': 179, 'end': 180, 'just': 181, 'west': 182, 'show': 183, 'under': 184, 'security': 185, 'months': 186, 'pakistan': 187, 'through': 188, 'most': 189, '2012': 190, 'other': 191, 'made': 192, '4': 193, 'game': 194, 'make': 195, 'financial': 196, 'five': 197, 'percent': 198, 'take': 199, 'economic': 200, ';': 201, 'accused': 202, 'before': 203, 'coach': 204, 'indian': 205, 'another': 206, 'states': 207, 'local': 208, 'per': 209, 'top': 210, 'john': 211, 'launched': 212, 'play': 213, 'announces': 214, 'jobs': 215, 'expected': 216, 'life': 217, 'official': 218, 'power': 219, 'work': 220, 'third': 221, 'british': 222, 'if': 223, 'dead': 224, 'major': 225, 'should': 226, 'launches': 227, 'center': 228, 'you': 229, 'here': 230, 'european': 231, 'what': 232, 'between': 233, 'trade': 234, 'part': 235, 'leader': 236, 'march': 237, 'record': 238, 'energy': 239, 'deal': 240, 'uk': 241, 'cup': 242, 'media': 243, 'win': 244, 'university': 245, 'because': 246, 'shot': 247, 'stocks': 248, 'told': 249, 'cut': 250, 'crash': 251, 'held': 252, 'days': 253, '!': 254, 'left': 255, 'general': 256, 'support': 257, 'party': 258, 'close': 259, 'return': 260, 'get': 261, 'gas': 262, 'street': 263, 'air': 264, '2010': 265, 'officer': 266, 'free': 267, '6': 268, 'due': 269, 'we': 270, 'online': 271, 'bill': 272, 'foreign': 273, 'head': 274, 'area': 275, 'six': 276, 'injured': 277, 'department': 278, 'since': 279, 'central': 280, '2011': 281, 'launch': 282, 'economy': 283, 'drug': 284, '7': 285, 'child': 286, 'capital': 287, '20': 288, 'road': 289, 'prime': 290, 'release': 291, 'sales': 292, 'london': 293, 'won': 294, 'series': 295, 'district': 296, 'still': 297, 'weekend': 298, 'afternoon': 299, 'com': 300, 'mobile': 301, 'visit': 302, 'start': 303, 'including': 304, 'club': 305, 'how': 306, 'called': 307, 'family': 308, 'shares': 309, 'st': 310, 'attack': 311, 'face': 312, '11': 313, 'students': 314, 'fall': 315, 'military': 316, 'stock': 317, 'development': 318, 'dollar': 319, 'system': 320, 'campaign': 321, 'tax': 322, 'quarter': 323, 'david': 324, 'tour': 325, 'board': 326, 'like': 327, 'june': 328, 'where': 329, 'there': 330, 'big': 331, 'women': 332, 'men': 333, '30': 334, 'across': 335, 'markets': 336, 'industry': 337, 'april': 338, 'them': 339, 'best': 340, 'park': 341, '8': 342, 'children': 343, 'signed': 344, 'go': 345, 'football': 346, 'australian': 347, 'cancer': 348, 'final': 349, 'despite': 350, 'fell': 351, 'data': 352, 'east': 353, 'wins': 354, 'barack': 355, 'water': 356, 'meeting': 357, 'sentenced': 358, 'way': 359, 'film': 360, 'corp': 361, 'iran': 362, 'growth': 363, 'plan': 364, 'washington': 365, 'gold': 366, 'talks': 367, 'leading': 368, 'afghanistan': 369, 'authorities': 370, 'contract': 371, 'around': 372, 'so': 373, 'management': 374, 'council': 375, '2009': 376, '2013': 377, 'manager': 378, 'revealed': 379, 'pay': 380, 'australia': 381, 'actor': 382, 'research': 383, 'weeks': 384, 'late': 385, 'prison': 386, 'san': 387, 'again': 388, '15': 389, 'case': 390, 'largest': 391, 'confirmed': 392, 'price': 393, 'buy': 394, 'run': 395, 'law': 396, 'food': 397, 'move': 398, 'money': 399, 'wants': 400, 'agency': 401, 'number': 402, 'games': 403, 'only': 404, '12': 405, 'increase': 406, 'director': 407, 'allegedly': 408, 'host': 409, 'music': 410, 'annual': 411, 'michael': 412, 'test': 413, 'murder': 414, 'several': 415, 'chinese': 416, 'political': 417, 'england': 418, 'program': 419, 'crisis': 420, 'white': 421, '100': 422, 'conference': 423, 'medical': 424, 'budget': 425, 'agreement': 426, 'private': 427, 'town': 428, 'union': 429, 'network': 430, 'good': 431, 'any': 432, 'rate': 433, 'firm': 434, 'technology': 435, 'higher': 436, 'recent': 437, 'closed': 438, '9': 439, 'do': 440, 'tv': 441, 'community': 442, 'july': 443, 'worlds': 444, 'saying': 445, 'college': 446, 'hold': 447, 'recently': 448, 'los': 449, 'workers': 450, 'girl': 451, 'secretary': 452, 'investment': 453, 'press': 454, 'live': 455, 'making': 456, 'young': 457, 'offer': 458, 'latest': 459, 'well': 460, 'lead': 461, 'am': 462, 'companies': 463, 'continue': 464, 'russia': 465, 'share': 466, 'senior': 467, 'away': 468, 'provider': 469, 'actress': 470, 'rs': 471, 'taking': 472, 'use': 473, 'opened': 474, 'many': 475, 'demand': 476, 'texas': 477, 'right': 478, 'red': 479, 'nearly': 480, 'my': 481, 'shooting': 482, 'election': 483, 'special': 484, 'become': 485, 'surgery': 486, 'french': 487, 'congress': 488, 'angeles': 489, 'rise': 490, 'long': 491, 'age': 492, 'place': 493, 'care': 494, 'study': 495, 'senate': 496, 'rights': 497, '25': 498, 'production': 499, 'southern': 500, 'own': 501, 'rose': 502, 'fight': 503, 'war': 504, 'pm': 505, 'action': 506, 'line': 507, 'rates': 508, 'lower': 509, 'accident': 510, 'centre': 511, 'banks': 512, 'credit': 513, 'wife': 514, 'trial': 515, 'body': 516, 'trading': 517, 'forces': 518, 'store': 519, 'mark': 520, 'sex': 521, 'investors': 522, 'named': 523, 'assault': 524, 'january': 525, 'opens': 526, 'updated': 527, 'sign': 528, 'cent': 529, 'meet': 530, 'japan': 531, 'america': 532, 'russian': 533, 'korea': 534, 'going': 535, 'also': 536, 'members': 537, 'video': 538, 'presidential': 539, 'debt': 540, '50': 541, 'coast': 542, 'loss': 543, 'likely': 544, 'canada': 545, 'points': 546, 'times': 547, 'signs': 548, 'facing': 549, 'premier': 550, 'filed': 551, 'real': 552, 'singer': 553, 'hours': 554, 'grand': 555, 'social': 556, 'strong': 557, '2008': 558, 'charge': 559, 'judge': 560, '0': 561, 'baby': 562, 'faces': 563, 'emergency': 564, 'information': 565, 'paul': 566, 'even': 567, 'working': 568, 'profit': 569, 'title': 570, 'future': 571, 'building': 572, 'region': 573, 'boy': 574, 'google': 575, 'issued': 576, 'past': 577, 'nations': 578, 'leaders': 579, 'small': 580, 'ahead': 581, 'california': 582, 'players': 583, 'ago': 584, 'project': 585, 'results': 586, 'pleaded': 587, '16': 588, 'both': 589, 'nuclear': 590, 'apple': 591, 'ministry': 592, 'products': 593, 'calls': 594, 'interest': 595, 'chairman': 596, 'israel': 597, 'september': 598, 'delhi': 599, 'amid': 600, 'fund': 601, 'plant': 602, 'force': 603, 'pleads': 604, 'call': 605, 'summer': 606, 'player': 607, 'army': 608, 'bus': 609, 'old': 610, 'february': 611, 'cash': 612, 'race': 613, 'heart': 614, 'least': 615, 'took': 616, 'german': 617, 'executive': 618, 'without': 619, 'beat': 620, 'earlier': 621, 'sell': 622, 'fourth': 623, 'leave': 624, 'schools': 625, 'order': 626, 'agreed': 627, 'seven': 628, 'governor': 629, 'florida': 630, 'residents': 631, 'coming': 632, 'exchange': 633, 'driver': 634, 'falls': 635, 'lost': 636, 'our': 637, '13': 638, 'co': 639, 'asian': 640, 'student': 641, 'africa': 642, 'reportedly': 643, 'human': 644, 'software': 645, '14': 646, 'traffic': 647, 'site': 648, 'change': 649, 'northern': 650, '17': 651, 'taken': 652, '21': 653, 'corporation': 654, 'james': 655, 'airlines': 656, 'makes': 657, 'role': 658, 'europe': 659, 'france': 660, 'injury': 661, 'claims': 662, 'half': 663, '500': 664, 'opening': 665, 'countrys': 666, 'side': 667, '18': 668, 'returns': 669, 'stop': 670, 'november': 671, 'station': 672, 'internet': 673, 'education': 674, 'planning': 675, 'lake': 676, 'gov': 677, 'october': 678, 'come': 679, 'canadian': 680, 'your': 681, 'bid': 682, 'looking': 683, 'sector': 684, 'further': 685, 'policy': 686, 'republican': 687, 'victory': 688, 'operations': 689, 'job': 690, 'jail': 691, 'website': 692, 'brown': 693, 'need': 694, 'december': 695, 'issues': 696, 'suspended': 697, 'round': 698, 'chris': 699, 'continues': 700, 'control': 701, 'forward': 702, 'river': 703, 'cuts': 704, 'great': 705, 'album': 706, 'match': 707, 'issue': 708, 'strike': 709, 'key': 710, 'airport': 711, 'fans': 712, 'black': 713, 'offering': 714, 'raise': 715, 'missing': 716, 'shows': 717, 'remain': 718, 'keep': 719, 'much': 720, 'august': 721, 'green': 722, 'evening': 723, '24': 724, 'used': 725, 'got': 726, 'running': 727, 'countries': 728, 'killing': 729, 'very': 730, 'put': 731, 'parliament': 732, 'led': 733, 'george': 734, 'israeli': 735, 'ready': 736, 'sports': 737, 'sale': 738, 'customers': 739, 'troops': 740, 'association': 741, 'driving': 742, 'domestic': 743, 'insurance': 744, 'arrest': 745, 'guard': 746, 'biggest': 747, 'training': 748, 'hall': 749, 'remains': 750, 'must': 751, 'manchester': 752, 'post': 753, 'soon': 754, 'commission': 755, 'train': 756, 'eight': 757, 'western': 758, 'received': 759, 'getting': 760, 'officers': 761, 'construction': 762, 'full': 763, 'having': 764, 'want': 765, 'property': 766, 'better': 767, 'current': 768, 'trying': 769, 'member': 770, 'chicago': 771, 'search': 772, 'vehicle': 773, 'euro': 774, 'takes': 775, 'facebook': 776, 'robert': 777, 'statement': 778, 'vote': 779, 'among': 780, 'see': 781, 'join': 782, 'consumer': 783, 'african': 784, 'weather': 785, 'himself': 786, 'level': 787, 'sold': 788, 'giant': 789, 'announce': 790, 'bankruptcy': 791, 'ended': 792, 'champion': 793, 'session': 794, 'event': 795, 'brand': 796, 'investigating': 797, 'sen': 798, 'staff': 799, 'retail': 800, 'mortgage': 801, 'low': 802, 'give': 803, 'committee': 804, 'target': 805, 'finance': 806, 'love': 807, 'safety': 808, 'ban': 809, 'outside': 810, 'movie': 811, 'little': 812, 'regional': 813, 'thousands': 814, 'sexual': 815, 'cricket': 816, 'stage': 817, 'border': 818, 'iraq': 819, 'island': 820, 'based': 821, 'later': 822, 'elections': 823, 'field': 824, 'mother': 825, 'along': 826, 'wall': 827, 'sri': 828, 'awards': 829, 'warned': 830, 'behind': 831, 'hollywood': 832, 'debut': 833, 'systems': 834, 'phone': 835, 'couple': 836, 'career': 837, 'needs': 838, 'solutions': 839, 'admitted': 840, 'protest': 841, 'rock': 842, 'space': 843, 'turkey': 844, '22': 845, 'struck': 846, 'opposition': 847, 'storm': 848, 'violence': 849, 'offers': 850, '40': 851, 'recovery': 852, 'fuel': 853, 'bay': 854, 'within': 855, 'award': 856, 'upcoming': 857, 'son': 858, 'justice': 859, 'sent': 860, 'name': 861, 'history': 862, 'hotel': 863, 'maker': 864, 'raised': 865, 'beach': 866, 'jackson': 867, 'until': 868, 'olympic': 869, 'losses': 870, 'risk': 871, 'miss': 872, 'singh': 873, 'gains': 874, 'decision': 875, 'such': 876, 'positive': 877, 'middle': 878, 'hes': 879, 'festival': 880, 'practice': 881, 'mayor': 882, 'championship': 883, 'im': 884, 'suicide': 885, 'protection': 886, '19': 887, 'valley': 888, 'anniversary': 889, 'leaving': 890, 'japanese': 891, 'candidate': 892, 'zealand': 893, 'funds': 894, 'selling': 895, 'peace': 896, 'tonight': 897, 'eastern': 898, 'joint': 899, 'soldiers': 900, 'spending': 901, 'using': 902, 'travel': 903, 'flu': 904, 'officially': 905, 'cost': 906, 'claimed': 907, 'employees': 908, 'attacks': 909, 'list': 910, 'same': 911, 'microsoft': 912, 'ever': 913, 'growing': 914, 'changes': 915, 'housing': 916, 'given': 917, 'businesses': 918, 'mumbai': 919, 'those': 920, 'almost': 921, 'build': 922, 'declared': 923, 'ltd': 924, 'performance': 925, 'owner': 926, 'provide': 927, 'democratic': 928, 'loan': 929, 'rally': 930, 'fraud': 931, 'truck': 932, 'acquire': 933, 'less': 934, 'sources': 935, 'girls': 936, 'returned': 937, 'possible': 938, 'germany': 939, 'battle': 940, 'few': 941, 'britain': 942, 'costs': 943, 'worth': 944, 'robbery': 945, 'captain': 946, 'files': 947, 'lady': 948, 'radio': 949, 'pressure': 950, 'continued': 951, 'basketball': 952, 'act': 953, 'dr': 954, 'serious': 955, 'television': 956, 'too': 957, 'approved': 958, 'mexico': 959, 'johnson': 960, '31': 961, 'husband': 962, 'alleged': 963, 'break': 964, 'never': 965, 'asked': 966, 'calif': 967, 'falling': 968, 'soldier': 969, 'confidence': 970, 'defense': 971, 'smith': 972, 'williams': 973, 'mike': 974, 'me': 975, 'showed': 976, 'starting': 977, 'church': 978, 'un': 979, 'legal': 980, 'joe': 981, 'land': 982, 'bush': 983, 'drive': 984, 'natural': 985, 'inflation': 986, 'seen': 987, 'plane': 988, 'popular': 989, 'single': 990, 'de': 991, 'jailed': 992, 'interview': 993, 'armed': 994, 'commercial': 995, 'veteran': 996, 'survey': 997, 'known': 998, 'heavy': 999, 'georgia': 1000, 'deputy': 1001, 'look': 1002, 'asia': 1003, 'begin': 1004, 'reserve': 1005, 'drugs': 1006, '200': 1007, 'rep': 1008, 'facility': 1009, 'areas': 1010, 'increased': 1011, 'teacher': 1012, 'fired': 1013, 'highway': 1014, 'daily': 1015, 'teams': 1016, 'defence': 1017, 'whose': 1018, 's': 1019, 'common': 1020, 'acquired': 1021, 'step': 1022, 'nine': 1023, 'carolina': 1024, 'fiscal': 1025, 'aid': 1026, 'book': 1027, 'baseball': 1028, 'stores': 1029, 'supply': 1030, 'digital': 1031, 'does': 1032, 'daughter': 1033, 'christmas': 1034, 'hopes': 1035, 'nation': 1036, 'dropped': 1037, 'stars': 1038, 'main': 1039, 'gets': 1040, 'web': 1041, 'every': 1042, 'projects': 1043, 'did': 1044, 'convicted': 1045, 'vice': 1046, 'met': 1047, 'boston': 1048, 'watch': 1049, 'stadium': 1050, 'injuries': 1051, 'justin': 1052, 'warning': 1053, 'super': 1054, 'bond': 1055, 'administration': 1056, 'went': 1057, 'boost': 1058, 'homes': 1059, 'dont': 1060, 'why': 1061, 'playing': 1062, 'martin': 1063, 'suffered': 1064, 'gun': 1065, 'al': 1066, '23': 1067, '26': 1068, '28': 1069, 'bomb': 1070, 'point': 1071, 'king': 1072, 'stay': 1073, 'italian': 1074, 'tom': 1075, 'completed': 1076, 'appointed': 1077, 'might': 1078, 'passed': 1079, 'each': 1080, 'gay': 1081, 'father': 1082, 'flights': 1083, 'person': 1084, 'spring': 1085, '27': 1086, 'scheduled': 1087, 'pakistani': 1088, 'straight': 1089, 'champions': 1090, 'winter': 1091, 'criminal': 1092, 'find': 1093, 'total': 1094, 'joined': 1095, 'term': 1096, 'division': 1097, 'syria': 1098, 'palestinian': 1099, 'futures': 1100, 'unit': 1101, 'suspected': 1102, 'ceo': 1103, 'double': 1104, 'drop': 1105, 'begins': 1106, 'started': 1107, 'published': 1108, 'prince': 1109, 'dog': 1110, 'stake': 1111, 'yet': 1112, 'steve': 1113, 'failed': 1114, 'know': 1115, 'decided': 1116, 'partnership': 1117, 'front': 1118, 'ground': 1119, 'striker': 1120, 'ryan': 1121, 'nfl': 1122, 'turned': 1123, 'finally': 1124, 'expand': 1125, 'paid': 1126, 'moving': 1127, 'treatment': 1128, 'raises': 1129, 'connection': 1130, 'ohio': 1131, 'once': 1132, 'hits': 1133, 'boss': 1134, 'reached': 1135, 'khan': 1136, 'twitter': 1137, 'flight': 1138, 'concerns': 1139, 'net': 1140, 'already': 1141, 'efforts': 1142, 'recession': 1143, 'la': 1144, 'jones': 1145, 'supreme': 1146, 'wont': 1147, 'partner': 1148, 'levels': 1149, 'forced': 1150, 'investigation': 1151, 'spokesman': 1152, 'caught': 1153, 'afghan': 1154, 'large': 1155, 'winning': 1156, 'earnings': 1157, 'abuse': 1158, 'civil': 1159, 'banned': 1160, 'light': 1161, 'banking': 1162, 'cooperation': 1163, 'focus': 1164, 'added': 1165, 'conditions': 1166, 'marriage': 1167, 'goes': 1168, 'groups': 1169, 'patients': 1170, 'nato': 1171, 'bring': 1172, 'hundreds': 1173, 'cars': 1174, 'parts': 1175, 'save': 1176, 'leaves': 1177, 'together': 1178, 'kill': 1179, 'create': 1180, 'lawsuit': 1181, 'access': 1182, 'houston': 1183, 'track': 1184, 'reduce': 1185, 'joins': 1186, 'whether': 1187, 'assembly': 1188, 'above': 1189, 'problems': 1190, 'clinton': 1191, 'releases': 1192, 'index': 1193, 'giving': 1194, 'celebrate': 1195, 'funding': 1196, 'personal': 1197, 'seeking': 1198, 'womens': 1199, 'blue': 1200, 'ambassador': 1201, 'minor': 1202, 'jury': 1203, 'turkish': 1204, 'camp': 1205, 'below': 1206, 'perform': 1207, 'base': 1208, 'divorce': 1209, 'revenue': 1210, 'birth': 1211, 'crashed': 1212, 'stabbed': 1213, 'eu': 1214, 'corporate': 1215, 'incident': 1216, 'communications': 1217, 'living': 1218, 'attorney': 1219, 'range': 1220, 'caused': 1221, 'taylor': 1222, 'scott': 1223, 'senator': 1224, 'kim': 1225, 'earthquake': 1226, 'dollars': 1227, 'records': 1228, 'spain': 1229, 'syrian': 1230, 'gulf': 1231, 'sea': 1232, 'steel': 1233, 'improve': 1234, 'industrial': 1235, 'michigan': 1236, 'process': 1237, 'peter': 1238, 'singapore': 1239, 'unveiled': 1240, 'illegal': 1241, 'unemployment': 1242, 'holding': 1243, 'suspect': 1244, 'equity': 1245, 'posted': 1246, 'fashion': 1247, 'lanka': 1248, 'solar': 1249, 'review': 1250, 'available': 1251, 'reach': 1252, 'liverpool': 1253, 'rising': 1254, 'iphone': 1255, 'operation': 1256, 'class': 1257, 'assets': 1258, 'royal': 1259, 'toronto': 1260, 'companys': 1261, 'sheriffs': 1262, 'worldwide': 1263, 'condition': 1264, 'involved': 1265, '29': 1266, 'agent': 1267, 'birthday': 1268, 'iranian': 1269, 'independent': 1270, 'retirement': 1271, 'disease': 1272, 'ceremony': 1273, 'attacked': 1274, 'concert': 1275, 'cases': 1276, 'robbed': 1277, 'crude': 1278, 'village': 1279, 'figures': 1280, 'spanish': 1281, 'arrived': 1282, 'holiday': 1283, 'direct': 1284, 'stolen': 1285, 'magazine': 1286, 'saudi': 1287, 'tony': 1288, 'ordered': 1289, 'platform': 1290, 'rules': 1291, 'romney': 1292, 'damage': 1293, 'crime': 1294, 'split': 1295, 'jan': 1296, 'admits': 1297, 'proposed': 1298, 'suffering': 1299, 'threat': 1300, 'inside': 1301, 'returning': 1302, 'midfielder': 1303, 'producer': 1304, 'ruled': 1305, 'comes': 1306, 'short': 1307, 'ireland': 1308, 'fox': 1309, 'appeal': 1310, 'tournament': 1311, 'channel': 1312, 'users': 1313, 'rape': 1314, 'researchers': 1315, 'kansas': 1316, 'band': 1317, 'then': 1318, 'calling': 1319, 'friends': 1320, 'stand': 1321, 'dubai': 1322, 'manufacturing': 1323, 'chelsea': 1324, 'primary': 1325, 'province': 1326, 'wanted': 1327, 'felony': 1328, 'affairs': 1329, 'came': 1330, 'celebrates': 1331, 'rest': 1332, 'expects': 1333, 'entertainment': 1334, 'apartment': 1335, 'others': 1336, 'marketing': 1337, 'urged': 1338, 'las': 1339, 'far': 1340, 'youth': 1341, 'dividend': 1342, '60': 1343, 'planned': 1344, 'fort': 1345, 'jennifer': 1346, 'minnesota': 1347, 'lee': 1348, 'cabinet': 1349, 'kevin': 1350, 'form': 1351, 'ship': 1352, 'deficit': 1353, 'technologies': 1354, 'taliban': 1355, 'extended': 1356, 'estate': 1357, 'overnight': 1358, 'relations': 1359, 'fifth': 1360, 'source': 1361, 'quarterly': 1362, 'operator': 1363, 'sydney': 1364, 'resources': 1365, 'massive': 1366, 'receive': 1367, 'strategic': 1368, 'americans': 1369, 'period': 1370, 'fresh': 1371, 'broke': 1372, 'bridge': 1373, 'female': 1374, 'helped': 1375, 'institute': 1376, 'militants': 1377, 'taiwan': 1378, 'seek': 1379, 'acquires': 1380, 'previous': 1381, 'jersey': 1382, 'rises': 1383, 'parents': 1384, 'auto': 1385, 'card': 1386, 'adding': 1387, 'voted': 1388, 'scientists': 1389, 'newspaper': 1390, 'mining': 1391, 'challenge': 1392, 'pregnant': 1393, 'partners': 1394, 'acquisition': 1395, 'model': 1396, 'offered': 1397, 'moved': 1398, 'tomorrow': 1399, '300': 1400, 'ali': 1401, 'scheme': 1402, 'soccer': 1403, 'boat': 1404, 'korean': 1405, 'louis': 1406, 'began': 1407, 'doctors': 1408, 'stealing': 1409, 'gives': 1410, 'controversial': 1411, 'think': 1412, 'barrel': 1413, 'room': 1414, 'date': 1415, 'income': 1416, 'potential': 1417, 'highest': 1418, 'played': 1419, 'firefighters': 1420, 'buying': 1421, 'pop': 1422, 'teachers': 1423, 'competition': 1424, 'corruption': 1425, 'receives': 1426, 'downtown': 1427, 'address': 1428, 'brother': 1429, 'winner': 1430, 'morgan': 1431, 'paris': 1432, 'detroit': 1433, 'hard': 1434, 'italy': 1435, 'turn': 1436, 'appear': 1437, 'limited': 1438, 'cause': 1439, 'losing': 1440, 'bad': 1441, 'towards': 1442, 'vegas': 1443, 'gaza': 1444, 'teen': 1445, 'fair': 1446, 'enough': 1447, 'ties': 1448, 'orders': 1449, 'airways': 1450, 'average': 1451, 'weak': 1452, 'memorial': 1453, 'nba': 1454, 'iowa': 1455, 'malaysia': 1456, 'draw': 1457, 'bills': 1458, 'programme': 1459, 'operating': 1460, 'response': 1461, 'egypt': 1462, 'wedding': 1463, 'charity': 1464, 'looks': 1465, 'tiger': 1466, 'boys': 1467, 'victims': 1468, 'blood': 1469, 'product': 1470, 'perry': 1471, 'discuss': 1472, 'course': 1473, 'society': 1474, 'greece': 1475, 'doesnt': 1476, 'closing': 1477, 'denied': 1478, 'coal': 1479, 'worker': 1480, 'writer': 1481, 'talk': 1482, 'tried': 1483, 'port': 1484, 'miami': 1485, 'allow': 1486, 'rangers': 1487, 'draft': 1488, 'colorado': 1489, 'hill': 1490, 'defeat': 1491, 'kelly': 1492, 'illinois': 1493, 'aircraft': 1494, 'rescue': 1495, 'measures': 1496, 'investigate': 1497, 'sells': 1498, 'effort': 1499, 'virginia': 1500, 'voters': 1501, 'beating': 1502, 'starts': 1503, 'leads': 1504, 'hospitalized': 1505, 'irish': 1506, 'view': 1507, 'defender': 1508, 'authority': 1509, 'dec': 1510, 'compared': 1511, 'bonds': 1512, 'snow': 1513, 'terms': 1514, 'ministers': 1515, 'flood': 1516, 'airline': 1517, 'critical': 1518, 'mission': 1519, 'mp': 1520, 'rating': 1521, 'engaged': 1522, 'farmers': 1523, 'drivers': 1524, 'exports': 1525, 'quality': 1526, 'though': 1527, 'vehicles': 1528, 'equipment': 1529, 'girlfriend': 1530, 'azerbaijan': 1531, 'governments': 1532, 'currently': 1533, 'position': 1534, 'indicted': 1535, 'fatal': 1536, 'climate': 1537, 'heard': 1538, 'feb': 1539, 'hearing': 1540, 'jim': 1541, 'effective': 1542, 'claim': 1543, 'x': 1544, 'cutting': 1545, 'legend': 1546, 'fame': 1547, 'lot': 1548, 'gave': 1549, 'venture': 1550, 'elderly': 1551, 'hand': 1552, 'pacific': 1553, 'arizona': 1554, 'dispute': 1555, 'republic': 1556, 'separate': 1557, 'celebrity': 1558, 'doing': 1559, 'dallas': 1560, 'developer': 1561, 'introduced': 1562, 'academy': 1563, 'transfer': 1564, 'alex': 1565, 'rescued': 1566, 'flat': 1567, 'squad': 1568, 'brazil': 1569, 'wireless': 1570, 'restaurant': 1571, 'lawmakers': 1572, 'hockey': 1573, 'families': 1574, 'ben': 1575, 'protect': 1576, 'completes': 1577, 'beginning': 1578, 'fighting': 1579, 'hong': 1580, 'tim': 1581, 'elected': 1582, 'severe': 1583, 'lose': 1584, 'swine': 1585, 'reporting': 1586, 'shut': 1587, 'greek': 1588, 'slightly': 1589, 'francisco': 1590, 'van': 1591, 'summit': 1592, 'tennis': 1593, 'rival': 1594, 'loans': 1595, 'farm': 1596, 'situation': 1597, 'protesters': 1598, 'atlanta': 1599, 'celebrated': 1600, 'knee': 1601, 'labor': 1602, 'attempt': 1603, 'threatened': 1604, 'andrew': 1605, 'cloud': 1606, 'runs': 1607, 'bail': 1608, 'believes': 1609, 'woods': 1610, 'aug': 1611, 'organization': 1612, 'replace': 1613, 'additional': 1614, 'custody': 1615, 'securities': 1616, 'boyfriend': 1617, 'benefits': 1618, 'develop': 1619, 'reform': 1620, 'environment': 1621, 'hurricane': 1622, 'currency': 1623, 'diego': 1624, 'rebels': 1625, 'friend': 1626, 'libya': 1627, 'grant': 1628, 'fined': 1629, 'wind': 1630, 'package': 1631, 'different': 1632, 'committed': 1633, 'events': 1634, 'queen': 1635, 'computer': 1636, 'chase': 1637, 'films': 1638, 'moves': 1639, 'considering': 1640, 'retire': 1641, 'rain': 1642, 'result': 1643, 'pirates': 1644, 'matt': 1645, 'rugby': 1646, 'ford': 1647, 'brain': 1648, 'owners': 1649, '400': 1650, 'meets': 1651, 'arrives': 1652, 'forecast': 1653, 'block': 1654, 'kong': 1655, 'theft': 1656, 'kills': 1657, 'beijing': 1658, 'saw': 1659, 'becoming': 1660, 'millions': 1661, 'shes': 1662, 'ending': 1663, 'madrid': 1664, 'value': 1665, 'mccain': 1666, 'decline': 1667, 'township': 1668, 'believe': 1669, 'harry': 1670, 'contest': 1671, 'golf': 1672, 'kate': 1673, 'progress': 1674, '75': 1675, 'spot': 1676, 'present': 1677, 'avoid': 1678, 'mixed': 1679, 'nov': 1680, 'professional': 1681, 'hot': 1682, 'pulled': 1683, 'quarterback': 1684, 'giants': 1685, 'industries': 1686, 'holds': 1687, 'resigned': 1688, 'ill': 1689, 'directors': 1690, 'weapons': 1691, 'chance': 1692, 'hope': 1693, 'gaga': 1694, 'conduct': 1695, 'motor': 1696, 'broken': 1697, 'visits': 1698, 'involving': 1699, 'via': 1700, 'outlook': 1701, 'profits': 1702, 'forest': 1703, 'ice': 1704, 'huge': 1705, 'important': 1706, 'reality': 1707, 'safe': 1708, 'retailer': 1709, 'seriously': 1710, 'seeks': 1711, 'relationship': 1712, 'oct': 1713, 'launching': 1714, 'victim': 1715, 'worst': 1716, 'successful': 1717, 'fears': 1718, 'indonesia': 1719, '70': 1720, 'gone': 1721, 'resume': 1722, 'art': 1723, 'capacity': 1724, 'cross': 1725, 'cities': 1726, 'turns': 1727, 'lindsay': 1728, 'disaster': 1729, 'indiana': 1730, 'trust': 1731, 'headquarters': 1732, 'kardashian': 1733, 'santa': 1734, 'sets': 1735, 'electric': 1736, 'multiple': 1737, 'carrier': 1738, 'ratings': 1739, 'mr': 1740, 'firms': 1741, 'version': 1742, 'trip': 1743, 'entered': 1744, 'parties': 1745, 'foundation': 1746, 'simon': 1747, 'lohan': 1748, 'navy': 1749, 'brought': 1750, 'ends': 1751, 'cell': 1752, 'minutes': 1753, 'benefit': 1754, 'charlie': 1755, 'wayne': 1756, 'milan': 1757, 'bringing': 1758, 'solution': 1759, 'rupee': 1760, 'citing': 1761, 'quit': 1762, 'citizens': 1763, 'politics': 1764, 'kashmir': 1765, 'assistant': 1766, 'poor': 1767, 'shop': 1768, 'bollywood': 1769, 'row': 1770, 'transport': 1771, 'stewart': 1772, 'tests': 1773, 'problem': 1774, 'showing': 1775, 'consumers': 1776, 'motors': 1777, 'complex': 1778, 'andy': 1779, 'account': 1780, 'signing': 1781, 'application': 1782, 'song': 1783, 'tourism': 1784, 'content': 1785, 'samsung': 1786, 'design': 1787, 'resign': 1788, 'journal': 1789, 'always': 1790, 'tribute': 1791, 'passes': 1792, 'animal': 1793, 'kids': 1794, 'brian': 1795, 'became': 1796, 'effect': 1797, 'grow': 1798, 'chain': 1799, 'jason': 1800, 'tree': 1801, 'jessica': 1802, 'sir': 1803, 'debate': 1804, 'awarded': 1805, 'cleveland': 1806, 'allen': 1807, 'richard': 1808, 'remained': 1809, 'various': 1810, 'invest': 1811, 'alliance': 1812, 'networks': 1813, 'arsenal': 1814, 'holdings': 1815, 'infrastructure': 1816, 'married': 1817, 'lawyer': 1818, 'attempted': 1819, 'cast': 1820, 'sanctions': 1821, 'marijuana': 1822, 'vs': 1823, 'arts': 1824, 'helping': 1825, 'william': 1826, 'impact': 1827, 'strategy': 1828, 'regular': 1829, 'toyota': 1830, 'headed': 1831, 'doctor': 1832, 'steps': 1833, 'experts': 1834, 'cant': 1835, '2007': 1836, 'bowl': 1837, 'cleared': 1838, 'charles': 1839, 'causing': 1840, 'distribution': 1841, 'expansion': 1842, 'scored': 1843, 'reelection': 1844, 'zone': 1845, 'rick': 1846, 'english': 1847, 'science': 1848, 'manufacturer': 1849, 'mass': 1850, 'missouri': 1851, 'leadership': 1852, 'swiss': 1853, 'send': 1854, 'lives': 1855, 'associated': 1856, 'employee': 1857, 'telecom': 1858, 'feels': 1859, 'labour': 1860, 'bangladesh': 1861, 'protests': 1862, 'wisconsin': 1863, 'expecting': 1864, 'lines': 1865, 'commissioner': 1866, 'raising': 1867, 'mountain': 1868, 'unveils': 1869, 'happy': 1870, 'strikes': 1871, 'wide': 1872, 'related': 1873, 'advanced': 1874, 'bob': 1875, 'environmental': 1876, 'needed': 1877, 'increases': 1878, 'healthcare': 1879, 'closes': 1880, 'landing': 1881, 'auction': 1882, 'factor': 1883, 'file': 1884, 'sarah': 1885, 'die': 1886, 'electronic': 1887, 'classic': 1888, 'heat': 1889, 'aimed': 1890, 'idol': 1891, 'crashes': 1892, 'metro': 1893, 'posts': 1894, 'investor': 1895, 'breaks': 1896, 'app': 1897, 'square': 1898, 'usa': 1899, 'struggling': 1900, 'seattle': 1901, 'bbc': 1902, 'ukraine': 1903, 'terror': 1904, 'fan': 1905, 'increasing': 1906, 'nationwide': 1907, 'appoints': 1908, 'plants': 1909, 'stephen': 1910, 'analysts': 1911, 'delivery': 1912, 'recovering': 1913, 'crimes': 1914, 'activity': 1915, 'philadelphia': 1916, 'recall': 1917, 'sox': 1918, 'spend': 1919, 'historic': 1920, 'customer': 1921, 'embassy': 1922, 'jack': 1923, 'throughout': 1924, 'things': 1925, 'didnt': 1926, 'joining': 1927, 'apparently': 1928, 'jose': 1929, 'receiver': 1930, '35': 1931, 'offices': 1932, 'extend': 1933, 'punjab': 1934, 'motorcycle': 1935, 'jets': 1936, 'jr': 1937, 'clear': 1938, 'bar': 1939, 'cents': 1940, 'expectations': 1941, 'attend': 1942, 'moscow': 1943, 'cruise': 1944, 'candidates': 1945, 'allegations': 1946, 'crore': 1947, 'toward': 1948, 'olympics': 1949, 'disabled': 1950, 'spent': 1951, 'patent': 1952, 'mitt': 1953, 'ii': 1954, 'seized': 1955, 'southwest': 1956, 'leg': 1957, 'pilot': 1958, 'relief': 1959, 'anthony': 1960, 'declares': 1961, 'poll': 1962, 'fast': 1963, 'cameron': 1964, 'defensive': 1965, 'loses': 1966, 'activities': 1967, 'barcelona': 1968, 'box': 1969, 'wake': 1970, 'majority': 1971, 'detained': 1972, 'brazilian': 1973, 'carrying': 1974, 'denies': 1975, 'failing': 1976, 'placed': 1977, 'golden': 1978, 'cole': 1979, 'add': 1980, 'schedule': 1981, 'comedy': 1982, 'extension': 1983, 'failure': 1984, 'avenue': 1985, 'ongoing': 1986, 'beaten': 1987, 'metal': 1988, 'discovered': 1989, 'rural': 1990, 'advertising': 1991, 'offensive': 1992, 'commerce': 1993, 'goal': 1994, 'really': 1995, 'warns': 1996, 'patrol': 1997, 'purchase': 1998, 'bieber': 1999, 'arab': 2000, 'enter': 2001, 'story': 2002, 'activists': 2003, 'sexually': 2004, 'gordon': 2005, 'prevent': 2006, 'applications': 2007, 'terrorism': 2008, 'able': 2009, 'ap': 2010, 'gain': 2011, 'seat': 2012, 'experience': 2013, 'clubs': 2014, '600': 2015, 'mens': 2016, 'homicide': 2017, 'developed': 2018, 'rare': 2019, 'advisory': 2020, 'oklahoma': 2021, 'indias': 2022, 'reveals': 2023, '32': 2024, 'shopping': 2025, 'complete': 2026, 'tackle': 2027, 'possession': 2028, 'hills': 2029, 'theatre': 2030, 'significant': 2031, 'orleans': 2032, 'rule': 2033, 'identified': 2034, 'counts': 2035, 'works': 2036, 'brad': 2037, 'concern': 2038, 'immigration': 2039, 'try': 2040, 'sharply': 2041, 'dc': 2042, 'providing': 2043, 'sentence': 2044, 'express': 2045, 'evidence': 2046, 'sony': 2047, 'hamilton': 2048, 'daniel': 2049, 'helicopter': 2050, 'expands': 2051, 'satellite': 2052, 'visited': 2053, 'developing': 2054, 'fc': 2055, 'thomas': 2056, 'pick': 2057, 'tech': 2058, 'battery': 2059, 'previously': 2060, 'deadly': 2061, '90': 2062, 'scotland': 2063, 'created': 2064, 'setting': 2065, '80': 2066, 'standard': 2067, 'kentucky': 2068, 'nick': 2069, 'thought': 2070, 'heading': 2071, 'democrats': 2072, 'destroyed': 2073, 'subsidiary': 2074, 'el': 2075, 'consider': 2076, 'weekly': 2077, 'route': 2078, 'promote': 2079, 'n': 2080, 'hosting': 2081, 'supplies': 2082, 'campus': 2083, 'pounds': 2084, 'gary': 2085, 'brothers': 2086, 'pass': 2087, 'these': 2088, 'plc': 2089, 'adam': 2090, 'trend': 2091, 'islamic': 2092, 'citys': 2093, 'confirms': 2094, 'longer': 2095, 'iron': 2096, 'sending': 2097, 'done': 2098, 'forum': 2099, 'elizabeth': 2100, 'streets': 2101, 'muslim': 2102, 'wild': 2103, 'approves': 2104, 'success': 2105, 'tennessee': 2106, 'polls': 2107, 'consecutive': 2108, 'bjp': 2109, 'passenger': 2110, 'serve': 2111, 'voice': 2112, 'photo': 2113, 'designed': 2114, 'prosecutors': 2115, 'peoples': 2116, 'speech': 2117, 'tough': 2118, 'windows': 2119, 'hour': 2120, 'technical': 2121, 'racing': 2122, 'beats': 2123, 'closer': 2124, 'stimulus': 2125, 'hillary': 2126, 'wales': 2127, 'burglary': 2128, 'dutch': 2129, 'teenager': 2130, 'phoenix': 2131, 'yahoo': 2132, 'refused': 2133, 'alcohol': 2134, 'assaulting': 2135, 'cover': 2136, 'adds': 2137, 'export': 2138, 'davis': 2139, 'stabbing': 2140, 'chemical': 2141, 'violent': 2142, 'agree': 2143, 'hired': 2144, 'taxes': 2145, 'speak': 2146, 'christian': 2147, 'ring': 2148, 'appears': 2149, 'prize': 2150, 'michelle': 2151, 'cape': 2152, 'comments': 2153, 'engineering': 2154, 'settlement': 2155, 'secret': 2156, 'breaking': 2157, 'enterprise': 2158, 'introduces': 2159, 'fees': 2160, 'beckham': 2161, 'honored': 2162, 'parliamentary': 2163, 'ruling': 2164, 'passengers': 2165, 'founder': 2166, 'successfully': 2167, 'fine': 2168, 'ten': 2169, 'deliver': 2170, 'changed': 2171, 'electronics': 2172, 'fires': 2173, 'voting': 2174, 'finds': 2175, 'nokia': 2176, '150': 2177, 'crew': 2178, 'ensure': 2179, 'dating': 2180, 'kennedy': 2181, 'strip': 2182, 'territory': 2183, 'announcement': 2184, 'feel': 2185, 'studio': 2186, 'author': 2187, 'threatening': 2188, 'carbon': 2189, 'hands': 2190, 'bin': 2191, 'agencies': 2192, 'decades': 2193, 'overseas': 2194, 'collision': 2195, 'activist': 2196, 'melbourne': 2197, 'electricity': 2198, '45': 2199, 'pitcher': 2200, 'chapter': 2201, 'units': 2202, 'update': 2203, 'tata': 2204, 'roads': 2205, 'diagnosed': 2206, 'clash': 2207, 'allowed': 2208, 'pradesh': 2209, 'devices': 2210, 'linked': 2211, 'palin': 2212, 'sept': 2213, 'freedom': 2214, 'serving': 2215, 'shareholders': 2216, 'sun': 2217, 'selected': 2218, 'amy': 2219, 'jet': 2220, 'toll': 2221, 'treasury': 2222, 'arabia': 2223, 'threats': 2224, 'parking': 2225, 'statistics': 2226, 'movement': 2227, 'scandal': 2228, 'generation': 2229, 'expanding': 2230, 'jordan': 2231, 'sixth': 2232, 'mine': 2233, 'silver': 2234, 'scottish': 2235, 'broadband': 2236, 'philippines': 2237, 'continuing': 2238, 'claiming': 2239, 'mexican': 2240, 'speed': 2241, 'letter': 2242, 'wounded': 2243, 'sites': 2244, 'qatar': 2245, 'zimbabwe': 2246, 'laws': 2247, 'agriculture': 2248, 'speculation': 2249, 'hosts': 2250, 'coalition': 2251, 'wrong': 2252, 'patrick': 2253, 'pace': 2254, 'facilities': 2255, 'improved': 2256, 'democracy': 2257, 'childrens': 2258, 'ghana': 2259, 'cable': 2260, 'campbell': 2261, 'overall': 2262, 'pope': 2263, 'kyrgyzstan': 2264, 'granted': 2265, 'prix': 2266, 'tokyo': 2267, 'rail': 2268, 'elementary': 2269, 'northwest': 2270, 'decade': 2271, 'panel': 2272, 'palm': 2273, 'lewis': 2274, 'targets': 2275, 'tamil': 2276, 'denver': 2277, 'appearance': 2278, 'recovered': 2279, 'surprise': 2280, '2014': 2281, 'terrorist': 2282, 'alabama': 2283, 'phones': 2284, 'negative': 2285, 'sundays': 2286, 'marine': 2287, 'dangerous': 2288, 'extends': 2289, 'russell': 2290, 'cbs': 2291, 'true': 2292, 'hurt': 2293, 'numbers': 2294, 'alert': 2295, 'let': 2296, 'receiving': 2297, 'storage': 2298, 'license': 2299, 'engine': 2300, 'sport': 2301, 'interior': 2302, 'bought': 2303, 'rapper': 2304, 'investments': 2305, 'analyst': 2306, 'approval': 2307, 'formally': 2308, 'twins': 2309, 'finish': 2310, 'fargo': 2311, 'cold': 2312, 'greater': 2313, 'clean': 2314, 'jon': 2315, 'assaulted': 2316, 'kept': 2317, 'dealers': 2318, 'indians': 2319, 'supporters': 2320, 'horse': 2321, 'stated': 2322, 'artist': 2323, 'question': 2324, 'longtime': 2325, 'medal': 2326, 'residential': 2327, 'nifty': 2328, 'nelson': 2329, 'lack': 2330, 'communities': 2331, 'oscar': 2332, 'rihanna': 2333, 'yen': 2334, 'aged': 2335, 'iraqi': 2336, 'treated': 2337, 'portfolio': 2338, 'appeared': 2339, 'options': 2340, 'message': 2341, 'undergo': 2342, 'resigns': 2343, 'orange': 2344, 'note': 2345, 'sees': 2346, 'prisoners': 2347, 'questions': 2348, 'victoria': 2349, '700': 2350, 'email': 2351, 'deals': 2352, 'programs': 2353, 'cuba': 2354, 'expanded': 2355, 'frank': 2356, 'religious': 2357, 'formula': 2358, 'foot': 2359, 'representative': 2360, 'rejected': 2361, 'nigeria': 2362, 'thanks': 2363, 'chinas': 2364, 'foods': 2365, 'bear': 2366, 'duty': 2367, 'visiting': 2368, 'tickets': 2369, 'breast': 2370, 'powerful': 2371, 'provides': 2372, 'vietnam': 2373, 'collection': 2374, 'libyan': 2375, 'itself': 2376, 'journalists': 2377, 'wilson': 2378, 'herself': 2379, 'testing': 2380, 'becomes': 2381, 'explosion': 2382, 'regions': 2383, 'bureau': 2384, 'certain': 2385, 'pro': 2386, 'agents': 2387, 'eye': 2388, 'reaches': 2389, 'uae': 2390, 'branch': 2391, 'crews': 2392, 'anna': 2393, 'factory': 2394, 'reuters': 2395, 'hire': 2396, 'fellow': 2397, 'cocaine': 2398, 'bodies': 2399, 'wells': 2400, 'friendly': 2401, 'device': 2402, 'walk': 2403, 'b': 2404, 'payment': 2405, '800': 2406, 'urges': 2407, 'chiefs': 2408, 'rehab': 2409, 'plays': 2410, 'dance': 2411, 'although': 2412, 'miller': 2413, 'details': 2414, 'built': 2415, 'android': 2416, 'believed': 2417, 'arms': 2418, 'produce': 2419, 'newly': 2420, 'tropical': 2421, 'laid': 2422, 'supports': 2423, 'pattinson': 2424, 'push': 2425, 'yemen': 2426, 'ny': 2427, 'pittsburgh': 2428, 'homeless': 2429, 'kicked': 2430, 'dozens': 2431, 'proposal': 2432, 'strength': 2433, 'musical': 2434, 'owned': 2435, 'ipad': 2436, 'abu': 2437, 'drama': 2438, 'arena': 2439, 'famous': 2440, 'moore': 2441, 'ocean': 2442, 'egyptian': 2443, 'rivals': 2444, 'traders': 2445, 'teenage': 2446, 'catholic': 2447, 'americas': 2448, 'miles': 2449, 'paper': 2450, 'contracts': 2451, 'library': 2452, 'shoot': 2453, 'challenges': 2454, 'stations': 2455, 'thats': 2456, 'yankees': 2457, 'lowest': 2458, 'eric': 2459, 'plea': 2460, 'amount': 2461, 'kings': 2462, 'stronger': 2463, 'option': 2464, 'screen': 2465, 'somali': 2466, 'strengthen': 2467, 'rather': 2468, 'lifted': 2469, 'stanley': 2470, 'intelligence': 2471, 'votes': 2472, 'lebanon': 2473, 'harris': 2474, 'bp': 2475, 'shoulder': 2476, 'suspicion': 2477, 'drops': 2478, 'hell': 2479, 'massachusetts': 2480, 'goods': 2481, 'sharp': 2482, 'monetary': 2483, 'feature': 2484, 'tampa': 2485, 'twice': 2486, 'simpson': 2487, 'sued': 2488, 'tigers': 2489, 'cheryl': 2490, 'keeping': 2491, 'milwaukee': 2492, 'diplomatic': 2493, 'pension': 2494, 'rice': 2495, 'existing': 2496, 'austin': 2497, 'speaker': 2498, 'located': 2499, 'healthy': 2500, 'buys': 2501, 'assistance': 2502, 'putting': 2503, 'islands': 2504, 'combat': 2505, 'secure': 2506, 'legislation': 2507, 'welcome': 2508, 'superstar': 2509, 'cancelled': 2510, 'recover': 2511, 'stone': 2512, 'usd': 2513, 'sheen': 2514, 'nights': 2515, 'championships': 2516, 'w': 2517, 'instead': 2518, 'funeral': 2519, 'delegation': 2520, 'sam': 2521, 'honor': 2522, 'birmingham': 2523, 'lending': 2524, 'bailout': 2525, 'vancouver': 2526, 'resort': 2527, 'garden': 2528, 'howard': 2529, 'dogs': 2530, 'missed': 2531, 'enforcement': 2532, 'spread': 2533, 'roger': 2534, 'policies': 2535, 'anderson': 2536, 'newcastle': 2537, 'approximately': 2538, 'sensex': 2539, 'murray': 2540, 'include': 2541, 'jerry': 2542, 'eurozone': 2543, 'conservative': 2544, 'tells': 2545, 'veterans': 2546, 'begun': 2547, 'venezuela': 2548, 'enters': 2549, 'lions': 2550, 'manslaughter': 2551, 'check': 2552, 'hospitals': 2553, 'hoping': 2554, 'oakland': 2555, 'repair': 2556, 'extra': 2557, 'exercise': 2558, 'gandhi': 2559, 'smart': 2560, 'suffers': 2561, 'brands': 2562, 'causes': 2563, 'waste': 2564, 'weight': 2565, 'initial': 2566, 'fishing': 2567, 'themselves': 2568, 'reporter': 2569, 'outstanding': 2570, 'fully': 2571, 'malaysian': 2572, 'nationals': 2573, 'immediate': 2574, 'copper': 2575, 'journalist': 2576, 'missile': 2577, 'window': 2578, 'apparent': 2579, '250': 2580, 'dancing': 2581, 'dream': 2582, 'galaxy': 2583, 'unions': 2584, 'patient': 2585, 'status': 2586, 'financing': 2587, 'fact': 2588, 'dialogue': 2589, 'columbia': 2590, 'felt': 2591, 'j': 2592, 'sudan': 2593, 'e': 2594, 'ball': 2595, 'offshore': 2596, 'mail': 2597, 'affected': 2598, 'cards': 2599, 'native': 2600, 'notes': 2601, 'goals': 2602, 'myanmar': 2603, 'amazon': 2604, 'winds': 2605, 'acting': 2606, 'buildings': 2607, 'katie': 2608, 'masters': 2609, 'sought': 2610, 'independence': 2611, 'presence': 2612, 'pool': 2613, 'asks': 2614, 'madison': 2615, 'fear': 2616, 'population': 2617, 'vowed': 2618, 'stable': 2619, 'designer': 2620, 'museum': 2621, 'railway': 2622, 'earth': 2623, 'comeback': 2624, 'shown': 2625, 'reporters': 2626, 'sa': 2627, 'counties': 2628, 'spotted': 2629, 'carlos': 2630, 'mall': 2631, 'ron': 2632, 'jeff': 2633, 'touch': 2634, 'utah': 2635, 'removed': 2636, 'bulgaria': 2637, 'judges': 2638, 'coverage': 2639, 'edwards': 2640, 'recalled': 2641, 'preparing': 2642, 'expert': 2643, 'stroke': 2644, 'arm': 2645, 'initiative': 2646, 'ontario': 2647, 'fish': 2648, 'seasons': 2649, 'clinic': 2650, 'm': 2651, 'sides': 2652, 'nomination': 2653, 'oregon': 2654, 'culture': 2655, 'orlando': 2656, 'lawyers': 2657, 'palestinians': 2658, 'negotiations': 2659, 'regarding': 2660, 'columbus': 2661, 'broadway': 2662, 'alive': 2663, 'buffalo': 2664, 'highly': 2665, 'offender': 2666, 'commander': 2667, 'persons': 2668, 'networking': 2669, 'exclusive': 2670, 'talent': 2671, 'employment': 2672, 'deadline': 2673, 'madonna': 2674, 'nothing': 2675, 'henry': 2676, 'collapsed': 2677, '33': 2678, 'presented': 2679, 'documents': 2680, 'att': 2681, 'doors': 2682, 'warren': 2683, 'diamond': 2684, 'northeast': 2685, 'goldman': 2686, 'emerging': 2687, 'filing': 2688, 'basis': 2689, 'spears': 2690, 'kumar': 2691, 'czech': 2692, 'legendary': 2693, 'traded': 2694, 'zardari': 2695, 'insists': 2696, 'asking': 2697, 'virus': 2698, 'reduced': 2699, 'celebrating': 2700, 'considered': 2701, 'atlantic': 2702, 'heads': 2703, 'pull': 2704, 'contact': 2705, 'penalty': 2706, 'rio': 2707, 'creating': 2708, 'c': 2709, 'baltimore': 2710, 'preliminary': 2711, 'transportation': 2712, 'properties': 2713, 'settle': 2714, 'britains': 2715, 'carry': 2716, 'sabha': 2717, 'thailand': 2718, 'hitting': 2719, 'pair': 2720, 'fatally': 2721, 'drunk': 2722, 'ticket': 2723, 'pain': 2724, 'britney': 2725, 'dedicated': 2726, 'lineup': 2727, 'restructuring': 2728, '41': 2729, 'aviation': 2730, '63': 2731, 'edition': 2732, 'congressional': 2733, 'creek': 2734, 'boxing': 2735, 'fee': 2736, 'advance': 2737, 'centers': 2738, 'smartphone': 2739, 'clients': 2740, 'matches': 2741, 'hero': 2742, 'steady': 2743, '42': 2744, 'australias': 2745, 'tourists': 2746, 'phil': 2747, 'positions': 2748, 'circuit': 2749, '64': 2750, 'waters': 2751, 'output': 2752, 'edward': 2753, 'troubled': 2754, 'springs': 2755, 'craig': 2756, 'saturdays': 2757, 'regime': 2758, 'whats': 2759, 'agrees': 2760, 'performing': 2761, 'deaths': 2762, 'immediately': 2763, 'stopped': 2764, 'franklin': 2765, 'businessman': 2766, 'delayed': 2767, 'monthly': 2768, 'killer': 2769, 'gop': 2770, 'invited': 2771, 'learn': 2772, 'probation': 2773, 'discovery': 2774, 'declined': 2775, 'movies': 2776, 'luxury': 2777, 'terrorists': 2778, 'southeast': 2779, 'angelina': 2780, 'notice': 2781, 'renewed': 2782, 'imports': 2783, 'entire': 2784, 'slow': 2785, 'specialist': 2786, 'payments': 2787, 'tonnes': 2788, 'jumped': 2789, 'residence': 2790, 'especially': 2791, 'awareness': 2792, 'evacuated': 2793, 'canceled': 2794, 'conducted': 2795, 'opportunities': 2796, 'welcomed': 2797, 'confident': 2798, 'jimmy': 2799, 'casino': 2800, 'suspicious': 2801, 'fake': 2802, 'feet': 2803, 'suspends': 2804, 'andre': 2805, 'managed': 2806, 'bilateral': 2807, 'active': 2808, 'complaint': 2809, 'expect': 2810, 'sachs': 2811, 'pennsylvania': 2812, 'welcomes': 2813, 'junior': 2814, 'however': 2815, 'ad': 2816, 'retired': 2817, 'cargo': 2818, 'kazakhstan': 2819, '36': 2820, 'rocket': 2821, 'suspects': 2822, 'edge': 2823, 'modern': 2824, 'katy': 2825, 'escaped': 2826, 'demi': 2827, 'smoke': 2828, 'josh': 2829, 'internal': 2830, 'illness': 2831, 'shanghai': 2832, 'connecticut': 2833, 'del': 2834, 'floor': 2835, 'sprint': 2836, 'pays': 2837, 'ncaa': 2838, 'ways': 2839, 'matter': 2840, 'personnel': 2841, 'sky': 2842, 'districts': 2843, '34': 2844, 'lift': 2845, '/': 2846, 'busy': 2847, 'searching': 2848, 'jolie': 2849, 'resolution': 2850, 'gang': 2851, 'postponed': 2852, 'ask': 2853, 'born': 2854, 'targeting': 2855, 'figure': 2856, 'penn': 2857, 'noon': 2858, 'ankle': 2859, 'antonio': 2860, 'something': 2861, 'resident': 2862, 'biden': 2863, 'utility': 2864, 'probe': 2865, 'ray': 2866, 'blast': 2867, 'indonesian': 2868, 'page': 2869, 'sugar': 2870, 'steven': 2871, 'betting': 2872, 'demands': 2873, 'places': 2874, 'marry': 2875, 'recorded': 2876, 'dark': 2877, 'asset': 2878, 'false': 2879, 'rich': 2880, 'style': 2881, 'paying': 2882, 'worked': 2883, 'pornography': 2884, 'nsw': 2885, 'raid': 2886, 'hosted': 2887, 'stole': 2888, 'temporary': 2889, 'tested': 2890, 'theres': 2891, 'scene': 2892, 'fighter': 2893, 'invasion': 2894, '62': 2895, 'identity': 2896, 'supplier': 2897, 'standards': 2898, 'turning': 2899, 'exhibition': 2900, 'todays': 2901, 'normal': 2902, 'congressman': 2903, 'cooper': 2904, 'merger': 2905, 'kristen': 2906, 'provided': 2907, 'mount': 2908, 'institutions': 2909, 'bahrain': 2910, 'swedish': 2911, 'franchise': 2912, 'neighborhood': 2913, 'medicine': 2914, 'coffee': 2915, 'participate': 2916, 'bell': 2917, 'queensland': 2918, 'incidents': 2919, 'helps': 2920, 'republicans': 2921, 'battling': 2922, 'dakota': 2923, 'nhl': 2924, 'introduce': 2925, 'guy': 2926, 'abc': 2927, 'waiting': 2928, 'choice': 2929, 'scam': 2930, 'sean': 2931, 'tender': 2932, 'remaining': 2933, 'pipeline': 2934, 'sentiment': 2935, 'tied': 2936, 'tornado': 2937, 'bit': 2938, 'pedestrian': 2939, 'argentina': 2940, 'hamas': 2941, 'phase': 2942, 'reforms': 2943, 'winehouse': 2944, 'features': 2945, 'hudson': 2946, 'tell': 2947, 'convention': 2948, 'deputies': 2949, 'ag': 2950, 'inmate': 2951, 'benchmark': 2952, 'mental': 2953, 'mutual': 2954, 'euros': 2955, 'mac': 2956, 'recalls': 2957, 'cancels': 2958, 'criticism': 2959, 'azerbaijani': 2960, 'defends': 2961, 'derby': 2962, 'request': 2963, '43': 2964, 'informed': 2965, 'opener': 2966, 'producers': 2967, 'barbara': 2968, 'tea': 2969, 'drinking': 2970, 'engagement': 2971, 'ease': 2972, 'tight': 2973, 'cardinals': 2974, 'delays': 2975, 'pitt': 2976, 'courts': 2977, 'fishermen': 2978, 'perfect': 2979, 'conflict': 2980, 'promotion': 2981, 'rushed': 2982, 'cyrus': 2983, 'learned': 2984, 'cowell': 2985, 'boeing': 2986, 'warrant': 2987, 'arkansas': 2988, 'mississippi': 2989, 'suggests': 2990, 'display': 2991, 'alan': 2992, 'defend': 2993, 'democrat': 2994, 'drowned': 2995, 'provincial': 2996, 'dan': 2997, 'threatens': 2998, '85': 2999, 'lankan': 3000, 'manmohan': 3001, 'llc': 3002, 'chavez': 3003, 'everything': 3004, 'serbia': 3005, 'fitness': 3006, 'language': 3007, 'representatives': 3008, 'learning': 3009, 'rob': 3010, 'virgin': 3011, 'investigators': 3012, 'transit': 3013, 'sworn': 3014, 'hike': 3015, 'accounts': 3016, 'portland': 3017, 'announcing': 3018, 'male': 3019, 'alaska': 3020, 'proud': 3021, 'marks': 3022, 'pitch': 3023, 'escape': 3024, 'youtube': 3025, 'nominated': 3026, 'jewish': 3027, 'professor': 3028, 'ed': 3029, 'remove': 3030, 'sweden': 3031, 'weaker': 3032, 'louisiana': 3033, 'often': 3034, 'picked': 3035, 'maryland': 3036, 'fallen': 3037, 'rookie': 3038, 'premiere': 3039, 'meetings': 3040, 'reopened': 3041, '65': 3042, 'cited': 3043, 'dhabi': 3044, 'fit': 3045, 'johnny': 3046, 'compete': 3047, 'estimates': 3048, 'reading': 3049, 'terry': 3050, 'pound': 3051, 'trophy': 3052, 'pictures': 3053, 'wait': 3054, 'century': 3055, 'neil': 3056, 'jay': 3057, 'traditional': 3058, 'featuring': 3059, 'bull': 3060, 'delay': 3061, 'finished': 3062, 'crown': 3063, 'disney': 3064, 'reasons': 3065, 'expressed': 3066, 'table': 3067, 'improving': 3068, 'federation': 3069, 'warner': 3070, 'robin': 3071, 'onto': 3072, 'sends': 3073, 'allowing': 3074, 'chrysler': 3075, 'reliance': 3076, 'drew': 3077, 'follow': 3078, 'bears': 3079, 'registered': 3080, 'deep': 3081, 'ive': 3082, 'defended': 3083, 'books': 3084, 'delivered': 3085, 'flooding': 3086, 'wikileaks': 3087, 'decide': 3088, 'means': 3089, 'responsible': 3090, 'visa': 3091, 'supporting': 3092, 'smoking': 3093, 'commitment': 3094, 'hires': 3095, 'integrated': 3096, 'clashes': 3097, 'interstate': 3098, 'mostly': 3099, 'image': 3100, 'feeling': 3101, 'happened': 3102, 'wave': 3103, 'pilots': 3104, 'globe': 3105, 'trafficking': 3106, 'nicole': 3107, 'items': 3108, 'blackberry': 3109, 'constitution': 3110, 'appeals': 3111, 'easy': 3112, 'switzerland': 3113, 'eve': 3114, '10th': 3115, 'retiring': 3116, 'names': 3117, 'marathon': 3118, 'shots': 3119, 'murdered': 3120, 'alexander': 3121, 'wood': 3122, 'kidnapped': 3123, '55': 3124, 'flag': 3125, 'wildlife': 3126, 'ukrainian': 3127, 'targeted': 3128, 'import': 3129, 'arson': 3130, 'assigned': 3131, 'scientific': 3132, 'seems': 3133, 'medvedev': 3134, 'nbc': 3135, 'p': 3136, 'mans': 3137, 'kolkata': 3138, 'parks': 3139, 'picture': 3140, 'taxi': 3141, 'shortly': 3142, 'organizations': 3143, 'belarus': 3144, 'charlotte': 3145, 'parent': 3146, 'undisclosed': 3147, 'miley': 3148, 'walmart': 3149, 'philippine': 3150, 'mary': 3151, 'swift': 3152, 'verizon': 3153, 'images': 3154, 'halt': 3155, 'location': 3156, 'nevada': 3157, 'dealer': 3158, 'crossing': 3159, 'secured': 3160, 'don': 3161, 'beyond': 3162, 'approach': 3163, 'naval': 3164, 'fifa': 3165, 'lay': 3166, 'preseason': 3167, 'swimming': 3168, 'violations': 3169, 'tourist': 3170, 'emirates': 3171, 'broadcast': 3172, 'advantage': 3173, 'kicks': 3174, 'sound': 3175, 'gunpoint': 3176, 'cowboys': 3177, 'ferguson': 3178, 'urban': 3179, '―': 3180, 'god': 3181, 'carried': 3182, 'direction': 3183, 'cultural': 3184, '76': 3185, 'processing': 3186, 'seventh': 3187, 'compensation': 3188, 'prepare': 3189, 'flying': 3190, 'netherlands': 3191, 'camera': 3192, 'upon': 3193, 'opportunity': 3194, 'eagles': 3195, 'includes': 3196, 'adults': 3197, 'burning': 3198, 'upper': 3199, 'tottenham': 3200, 'legislature': 3201, 'petrol': 3202, 'reopen': 3203, 'bruce': 3204, 'bobby': 3205, 'brings': 3206, 'tons': 3207, 'clark': 3208, 'carter': 3209, 'principal': 3210, 'spill': 3211, 'vows': 3212, 'diabetes': 3213, 'jump': 3214, 'aims': 3215, 'bars': 3216, 'suspension': 3217, '72': 3218, 'hawaii': 3219, 'lopez': 3220, 'regulatory': 3221, 'drunken': 3222, 'adopted': 3223, 'nicolas': 3224, 'suggested': 3225, 'musharraf': 3226, 'playoff': 3227, 'volunteers': 3228, 'roll': 3229, 'speaks': 3230, 'trees': 3231, 'damaged': 3232, 'scores': 3233, 'resistance': 3234, 'defeated': 3235, 'regulators': 3236, 'managing': 3237, 'armenia': 3238, 'roster': 3239, 'murdering': 3240, 'material': 3241, 'civilians': 3242, 'withdraws': 3243, 'gates': 3244, 'talking': 3245, 'savings': 3246, 'grew': 3247, 'ran': 3248, 'classes': 3249, 'tehran': 3250, 'bulgarian': 3251, 'slowdown': 3252, 'liberal': 3253, 'judicial': 3254, 'plead': 3255, 'grants': 3256, 'nepal': 3257, 'dismissed': 3258, 'heritage': 3259, 'petroleum': 3260, 'arrests': 3261, 'billy': 3262, 'jazz': 3263, 'fail': 3264, 'ride': 3265, 'shah': 3266, 'roof': 3267, 'influence': 3268, 'rafael': 3269, 'lincoln': 3270, 'fleet': 3271, 'upgraded': 3272, 'shortage': 3273, 'kenya': 3274, 'whole': 3275, 'bulls': 3276, 'anything': 3277, 'thing': 3278, 'maintain': 3279, 'hiring': 3280, 'honoured': 3281, 'hotels': 3282, 'arrive': 3283, 'revenues': 3284, 'benedict': 3285, 'firefighter': 3286, 'core': 3287, 'restore': 3288, 'nashville': 3289, 'bristol': 3290, 'establish': 3291, '51': 3292, 'employers': 3293, 'cnn': 3294, 'rand': 3295, 'cuban': 3296, 'downturn': 3297, 'alternative': 3298, 'liam': 3299, 'aniston': 3300, 'maintenance': 3301, 'ufc': 3302, 'barry': 3303, 'till': 3304, 'balance': 3305, 'lawrence': 3306, 'fastest': 3307, 'registration': 3308, 'shuttle': 3309, 'matthew': 3310, 'enhance': 3311, 'forthcoming': 3312, 'temporarily': 3313, 'armenian': 3314, 'accidentally': 3315, 'faced': 3316, 'mandela': 3317, 'struggle': 3318, 'sister': 3319, 'interim': 3320, 'celebration': 3321, 'ibm': 3322, 'dates': 3323, 'difficult': 3324, 'barclays': 3325, 'honda': 3326, 'prominent': 3327, 'ac': 3328, 'dinner': 3329, 'performed': 3330, 'actually': 3331, 'sons': 3332, 'promised': 3333, 'exit': 3334, 'collapse': 3335, 'blow': 3336, 'kidnapping': 3337, 'storms': 3338, 'comedian': 3339, 'coordinator': 3340, 'quickly': 3341, 'houses': 3342, 'improvement': 3343, '61': 3344, 'physical': 3345, 'raiders': 3346, 'longterm': 3347, 'section': 3348, 'episode': 3349, 'athletes': 3350, 'estimated': 3351, 'bradley': 3352, 'door': 3353, 'withdraw': 3354, '44': 3355, 'intel': 3356, 'materials': 3357, 'streak': 3358, 'dodgers': 3359, 'triple': 3360, 'ashley': 3361, 'thai': 3362, 'delta': 3363, 'kapoor': 3364, 'defending': 3365, 'reaching': 3366, 'captured': 3367, 'nigerian': 3368, 'suing': 3369, '48': 3370, 'standoff': 3371, 'indianapolis': 3372, 'danny': 3373, 'machine': 3374, 'written': 3375, 'undergoing': 3376, 'cap': 3377, 'europes': 3378, 'montreal': 3379, 'resignation': 3380, 'fitch': 3381, 'customs': 3382, 'blamed': 3383, 'roy': 3384, 'accept': 3385, 'cook': 3386, 'walking': 3387, 'word': 3388, '46': 3389, 'caribbean': 3390, 'shipping': 3391, 'commodity': 3392, 'occurred': 3393, 'drilling': 3394, 'joseph': 3395, 'pat': 3396, 'knowledge': 3397, 'softball': 3398, 'hedge': 3399, 'backed': 3400, 'saints': 3401, 'idea': 3402, 'wearing': 3403, 'lama': 3404, 'aaron': 3405, 'minority': 3406, '900': 3407, 'roberts': 3408, 'municipal': 3409, 'parker': 3410, '2006': 3411, 'passing': 3412, 'maria': 3413, 'degree': 3414, 'shoots': 3415, 'icon': 3416, 'dow': 3417, 'hughes': 3418, 'deutsche': 3419, 'pole': 3420, 'trillion': 3421, 'kingdom': 3422, 'nominee': 3423, 'rome': 3424, 'comprehensive': 3425, '54': 3426, 'probably': 3427, 'knife': 3428, 'sure': 3429, 'rush': 3430, 'read': 3431, 'duke': 3432, '00': 3433, 'armstrong': 3434, 'fbi': 3435, 'responsibility': 3436, 'milestone': 3437, 'cincinnati': 3438, 'restrictions': 3439, 'jesse': 3440, 'similar': 3441, 'gaming': 3442, 'restored': 3443, 'jammu': 3444, 'gained': 3445, 'considers': 3446, 'charter': 3447, 'linebacker': 3448, 'retailers': 3449, 'raped': 3450, 'knocked': 3451, 'jamie': 3452, 'plastic': 3453, 'watson': 3454, 'produced': 3455, 'drink': 3456, 'hp': 3457, 'agreements': 3458, 'capitol': 3459, 'recalling': 3460, 'currencies': 3461, 'dalai': 3462, 'espn': 3463, 'asif': 3464, 'dublin': 3465, 'witnesses': 3466, 'dry': 3467, 'motion': 3468, 'conviction': 3469, '95': 3470, 'formed': 3471, 'greg': 3472, 'reason': 3473, 'chennai': 3474, 'worries': 3475, 'restaurants': 3476, '37': 3477, 'suit': 3478, 'memory': 3479, 'walker': 3480, 'threw': 3481, 'limit': 3482, 'score': 3483, 'plus': 3484, 'motorcyclist': 3485, 'legislative': 3486, 'tensions': 3487, 'affect': 3488, 'twin': 3489, 'focused': 3490, 'fewer': 3491, 'lane': 3492, 'rains': 3493, 'unchanged': 3494, 'trail': 3495, 'lenders': 3496, 'register': 3497, '>': 3498, 'kuwait': 3499, 'endorses': 3500, 'operators': 3501, 'politicians': 3502, 'violating': 3503, 'putin': 3504, 'recording': 3505, 'ricky': 3506, 'diesel': 3507, 'highs': 3508, 'cubs': 3509, 'included': 3510, 'fla': 3511, 'original': 3512, 'downgraded': 3513, 'beauty': 3514, 'isnt': 3515, 'berlin': 3516, 'sunderland': 3517, 'sparked': 3518, 'tribal': 3519, 'guide': 3520, 'saved': 3521, 'quits': 3522, 'guns': 3523, 'thinks': 3524, 'sacramento': 3525, 'adult': 3526, 'twoyear': 3527, 'dave': 3528, 'crowd': 3529, 'powers': 3530, 'brandon': 3531, 'handed': 3532, 'lakers': 3533, 'presidents': 3534, 'described': 3535, 'commonwealth': 3536, 'changing': 3537, 'colombia': 3538, 'leak': 3539, 'automotive': 3540, 'risks': 3541, 'kerala': 3542, 'ian': 3543, 'task': 3544, 'illegally': 3545, 'lightning': 3546, 'revolution': 3547, 'undergoes': 3548, 'intends': 3549, 'patriots': 3550, 'keen': 3551, 'tower': 3552, 'earned': 3553, 'buyers': 3554, 'crack': 3555, 'condemned': 3556, 'executives': 3557, 'tyler': 3558, 'communication': 3559, 'kind': 3560, 'tools': 3561, '82': 3562, 'zoo': 3563, 'mar': 3564, 'hampshire': 3565, 'toddler': 3566, 'magic': 3567, 'gujarat': 3568, 'providers': 3569, 'nascar': 3570, 'reid': 3571, 'presents': 3572, 'analysis': 3573, 'stepping': 3574, 'graham': 3575, 'moment': 3576, 'listed': 3577, 'demanded': 3578, 'cells': 3579, 'competitive': 3580, 'shore': 3581, 'villa': 3582, 'qantas': 3583, 'bird': 3584, 'speaking': 3585, 'increasingly': 3586, 'wine': 3587, 'temple': 3588, 'extending': 3589, 'haiti': 3590, 'goalkeeper': 3591, 'pc': 3592, 'wholesale': 3593, 'rallied': 3594, 'upset': 3595, 'hunger': 3596, 'wreck': 3597, 'larry': 3598, 'fails': 3599, 'kick': 3600, 'auckland': 3601, 'unlikely': 3602, 'carl': 3603, 'welfare': 3604, 'permanent': 3605, 'athletic': 3606, 'familiar': 3607, 'motorola': 3608, 'fields': 3609, 'metals': 3610, 'publicly': 3611, 'ross': 3612, 'tool': 3613, 'emerged': 3614, 'maine': 3615, 'accepted': 3616, 'era': 3617, 'interested': 3618, 'infection': 3619, 'takeover': 3620, 'code': 3621, 'maoists': 3622, 'raping': 3623, 'drought': 3624, 'outfielder': 3625, 'islamabad': 3626, 'rogers': 3627, 'cat': 3628, 'pulls': 3629, 'landed': 3630, 'malik': 3631, 'sterling': 3632, 'link': 3633, 'stress': 3634, 'warriors': 3635, 'minimum': 3636, 'organisation': 3637, 'nasa': 3638, 'pushed': 3639, 'animals': 3640, 'gap': 3641, 'puts': 3642, 'everyone': 3643, 'asylum': 3644, 'managers': 3645, 'foreclosure': 3646, 'nadal': 3647, 'rolling': 3648, 'bengal': 3649, 'unexpectedly': 3650, 'dick': 3651, 'refuses': 3652, 'misdemeanor': 3653, '3d': 3654, 'nebraska': 3655, 'unveil': 3656, 'hair': 3657, '52': 3658, 'inquiry': 3659, 'prove': 3660, 'served': 3661, 'muslims': 3662, 'workforce': 3663, 'billionaire': 3664, '38': 3665, 'latin': 3666, 'developers': 3667, 'kanye': 3668, 'strongly': 3669, 'neck': 3670, 'casey': 3671, 'hip': 3672, 'unique': 3673, 'tracks': 3674, 'dramatic': 3675, 'lands': 3676, 'encounter': 3677, 'humanitarian': 3678, 'category': 3679, 'mothers': 3680, 'knight': 3681, 'sheriff': 3682, 'spokeswoman': 3683, 'measure': 3684, 'sectors': 3685, 'resolve': 3686, 'bachchan': 3687, 'cyprus': 3688, 'hear': 3689, 'drone': 3690, 'perth': 3691, 'hugo': 3692, 'parade': 3693, 'heavyweight': 3694, 'fun': 3695, 'count': 3696, 'conspiracy': 3697, 'terminal': 3698, 'thrown': 3699, 'reduction': 3700, 'lord': 3701, 'jeremy': 3702, 'older': 3703, 'creative': 3704, 'liberty': 3705, 'guidance': 3706, 'inter': 3707, 'tries': 3708, 'loves': 3709, 'stability': 3710, 'selection': 3711, 'pak': 3712, 'monitoring': 3713, 'mtv': 3714, 'endorsed': 3715, 'ranks': 3716, 'closure': 3717, 'praised': 3718, 'mets': 3719, 'hunt': 3720, 'attention': 3721, 'obamas': 3722, 'routes': 3723, 'shed': 3724, 'attorneys': 3725, 'tie': 3726, 'mps': 3727, 'prior': 3728, 'palace': 3729, 'christina': 3730, 'sustained': 3731, 'remarks': 3732, 'sp': 3733, 'bigger': 3734, 'songs': 3735, 'skills': 3736, 'ottawa': 3737, 'seize': 3738, 'critically': 3739, 'practices': 3740, 'lebanese': 3741, 'gilani': 3742, 'marking': 3743, 'pub': 3744, 'solo': 3745, 'gift': 3746, 'proposals': 3747, 'established': 3748, 'reserves': 3749, 'abroad': 3750, 'virtual': 3751, 'sue': 3752, 'salary': 3753, 'lance': 3754, 'attacking': 3755, 'faster': 3756, 'pharmaceutical': 3757, 'grove': 3758, 'freed': 3759, 'entering': 3760, 'sarkozy': 3761, 'entry': 3762, 'twenty20': 3763, 'determined': 3764, 'checks': 3765, 'bat': 3766, 'alone': 3767, 'collins': 3768, 'insisted': 3769, 'someone': 3770, '56': 3771, 'depression': 3772, 'stands': 3773, 'weapon': 3774, 'mukherjee': 3775, 'towns': 3776, 'studies': 3777, 'pti': 3778, 'visitors': 3779, 'lakh': 3780, 'tablet': 3781, 'cameras': 3782, 'label': 3783, 'trailer': 3784, 'crackdown': 3785, 'afp': 3786, 'shell': 3787, 'enterprises': 3788, 'possibility': 3789, 'milk': 3790, 'pushing': 3791, 'dolphins': 3792, 'forcing': 3793, 'springfield': 3794, 'adams': 3795, 'article': 3796, 'prepares': 3797, 'lender': 3798, 'rejects': 3799, 'retires': 3800, 'master': 3801, 'promoted': 3802, 'sciences': 3803, 'lung': 3804, 'respect': 3805, 'trouble': 3806, 'keith': 3807, 'sleep': 3808, 'adviser': 3809, 'structure': 3810, 'lok': 3811, 'zuma': 3812, 'coaching': 3813, 'accuses': 3814, 'kerry': 3815, 'ahmadinejad': 3816, 'standing': 3817, 'wear': 3818, 'fed': 3819, 'pete': 3820, 'approve': 3821, 'ranked': 3822, '53': 3823, 'bangalore': 3824, 'shareholder': 3825, 'affordable': 3826, 'prescription': 3827, 'required': 3828, '49': 3829, 'underwent': 3830, 'blog': 3831, 'studios': 3832, 'indies': 3833, 'wealth': 3834, 'prosecutor': 3835, 'promises': 3836, 'browns': 3837, 'bike': 3838, 'trucks': 3839, 'holmes': 3840, 'skin': 3841, 'collaboration': 3842, 'releasing': 3843, 'significantly': 3844, 'colombian': 3845, 'pickup': 3846, 'imposed': 3847, 'pending': 3848, 'teens': 3849, 'forecasts': 3850, 'raza': 3851, 'affair': 3852, 'refinance': 3853, 'computers': 3854, 'envoy': 3855, 'mill': 3856, 'prospect': 3857, 'sessions': 3858, 'crashing': 3859, 'citizen': 3860, 'allstar': 3861, 'fixed': 3862, 'backs': 3863, 'prepared': 3864, 'featured': 3865, 'burned': 3866, 'hilton': 3867, 'chile': 3868, 'variety': 3869, 'withdrawn': 3870, 'character': 3871, 'finding': 3872, 'eddie': 3873, 'leeds': 3874, 'dropping': 3875, 'thompson': 3876, '67': 3877, 'exploration': 3878, 'anyone': 3879, 'telecommunications': 3880, 'rollover': 3881, 'tanker': 3882, 'firing': 3883, 'angry': 3884, 'fisher': 3885, 'tributes': 3886, 'poland': 3887, 'blues': 3888, 'renewable': 3889, 'wheat': 3890, 'resumes': 3891, 'photos': 3892, 'brief': 3893, '2015': 3894, 'involvement': 3895, 'tank': 3896, 'holidays': 3897, 'coaches': 3898, 'directed': 3899, 'karnataka': 3900, 'roman': 3901, 'georgian': 3902, 'quite': 3903, 'limits': 3904, 'vision': 3905, 'reveal': 3906, 'injuring': 3907, 'fiji': 3908, 'waivers': 3909, 'corps': 3910, 'mason': 3911, 'guards': 3912, 'bc': 3913, 'jobless': 3914, 'expenses': 3915, 'memphis': 3916, 'pledged': 3917, 'd': 3918, 'urging': 3919, 'jonathan': 3920, 'pharmaceuticals': 3921, 'northwestern': 3922, 'promoting': 3923, 'baghdad': 3924, 'pet': 3925, 'finals': 3926, 'favourite': 3927, 'select': 3928, 'motorists': 3929, 'dealing': 3930, 'floods': 3931, 'militant': 3932, 'resumed': 3933, 'path': 3934, 'marked': 3935, 'innovative': 3936, 'costa': 3937, 'cruelty': 3938, 'upgrade': 3939, 'surplus': 3940, 'shane': 3941, 'possibly': 3942, 'size': 3943, 'japans': 3944, 'maharashtra': 3945, 'throwing': 3946, 'priority': 3947, 'brussels': 3948, 'rebound': 3949, 'marshall': 3950, 'tracking': 3951, 'oneyear': 3952, 'sovereign': 3953, 'lucky': 3954, 'jerusalem': 3955, 'nc': 3956, 'fly': 3957, 'theater': 3958, 'fa': 3959, 'vladimir': 3960, 'midnight': 3961, 'ken': 3962, 'semifinals': 3963, 'sustainable': 3964, 'effects': 3965, 'walked': 3966, 'vodafone': 3967, 'carey': 3968, 'rachel': 3969, 'delaware': 3970, 'advice': 3971, 'kyle': 3972, 'thieves': 3973, 'peak': 3974, 'flash': 3975, 'universal': 3976, 'idaho': 3977, 'julian': 3978, 'wright': 3979, 'innings': 3980, 'royals': 3981, 'controversy': 3982, 'gunmen': 3983, 'smartphones': 3984, 'interests': 3985, 'chosen': 3986, 'blame': 3987, 'publisher': 3988, 'brisbane': 3989, 'exposure': 3990, 'potentially': 3991, 'mccartney': 3992, 'demanding': 3993, 'celebrations': 3994, 'montana': 3995, 'ability': 3996, 'wing': 3997, 'broncos': 3998, 'salman': 3999, 'slip': 4000, 'mahmoud': 4001, 'mario': 4002, 'individual': 4003, 'kris': 4004, 'muhammad': 4005, 'transaction': 4006, 'ore': 4007, 'winners': 4008, 'monitor': 4009, 'susan': 4010, 'mills': 4011, 'links': 4012, 'bomber': 4013, 'saving': 4014, 'rochester': 4015, 'accepting': 4016, 'attempting': 4017, 'wrote': 4018, 'sponsor': 4019, 'juan': 4020, 'uses': 4021, 'membership': 4022, 'hub': 4023, 'streaming': 4024, 'chidambaram': 4025, 'kosovo': 4026, 'beer': 4027, 'innovation': 4028, '74': 4029, 'surge': 4030, 'allows': 4031, 'concerned': 4032, 'qualifying': 4033, 'moon': 4034, 'presidency': 4035, 'external': 4036, 'alongside': 4037, 'commissioners': 4038, 'treat': 4039, 'bans': 4040, 'vatican': 4041, 'weakened': 4042, 'iii': 4043, 'stream': 4044, 'wage': 4045, 'donated': 4046, '68': 4047, 'hate': 4048, 'saint': 4049, 'brett': 4050, 'telling': 4051, 'poverty': 4052, 'fighters': 4053, 'acres': 4054, 'communist': 4055, 'emma': 4056, 'recycling': 4057, 'somalia': 4058, 'seats': 4059, 'http': 4060, 'premium': 4061, 'citigroup': 4062, 'lying': 4063, 'assignment': 4064, 'stranded': 4065, 'inducted': 4066, 'proposes': 4067, 'sues': 4068, 'buried': 4069, 'concussion': 4070, 'slipped': 4071, 'models': 4072, 'sep': 4073, 'prevention': 4074, '47': 4075, 'edged': 4076, 'dui': 4077, 'parish': 4078, 'rebel': 4079, 'hanging': 4080, 'prostate': 4081, 'efficiency': 4082, 'kent': 4083, 'implement': 4084, 'mind': 4085, 'shops': 4086, 'hunter': 4087, 'hunting': 4088, 'outbreak': 4089, 'text': 4090, 'picks': 4091, 'chancellor': 4092, 'jacksonville': 4093, 'starring': 4094, 'appointment': 4095, 'landmark': 4096, 'discrimination': 4097, 'witness': 4098, '39': 4099, 'faith': 4100, 'interactive': 4101, 'poised': 4102, 'refugees': 4103, 'harper': 4104, 'actors': 4105, 'immigrants': 4106, 'crucial': 4107, 'opera': 4108, 'writes': 4109, 'pleased': 4110, 'heights': 4111, 'raw': 4112, 'stepped': 4113, 'type': 4114, 'answer': 4115, 'clothing': 4116, 'papers': 4117, 'cairo': 4118, 'eagle': 4119, 'skipper': 4120, '57': 4121, 'departments': 4122, 'cyclist': 4123, 'robbie': 4124, 'assist': 4125, 'slammed': 4126, 'burns': 4127, 'resource': 4128, 'tsunami': 4129, 'replaced': 4130, 'remote': 4131, 'shelter': 4132, 'munich': 4133, 'computing': 4134, 'momentum': 4135, 'actions': 4136, 'venezuelan': 4137, 'feared': 4138, '73': 4139, 'jacob': 4140, 'declines': 4141, 'keeps': 4142, 'douglas': 4143, '120': 4144, 'julia': 4145, 'colleges': 4146, 'porn': 4147, 'temperatures': 4148, 'trapped': 4149, 'adopt': 4150, 'complaints': 4151, 'haryana': 4152, 'privacy': 4153, '71': 4154, 'photographer': 4155, 'throws': 4156, 'senators': 4157, 'catches': 4158, 'commits': 4159, 'wimbledon': 4160, 'bottom': 4161, 'uranium': 4162, 'anne': 4163, 'trains': 4164, 'newest': 4165, 'ace': 4166, 'rolled': 4167, 'settled': 4168, 'slash': 4169, 'sharks': 4170, 'conservation': 4171, 'corner': 4172, 'kidney': 4173, 'disappointing': 4174, 'kenny': 4175, 'boosted': 4176, 'outdoor': 4177, 'agricultural': 4178, 'ward': 4179, 'volleyball': 4180, 'aston': 4181, 'channels': 4182, 'r': 4183, 'followed': 4184, 'bmw': 4185, 'pit': 4186, 'widespread': 4187, 'abandoned': 4188, 'baseman': 4189, 'equities': 4190, 'lily': 4191, 'abortion': 4192, 'websites': 4193, 'addition': 4194, 'v': 4195, 'quick': 4196, 'haven': 4197, 'reducing': 4198, 'theyre': 4199, '11th': 4200, 'ownership': 4201, 'evans': 4202, 'concluded': 4203, 'romania': 4204, 'vikings': 4205, 'bag': 4206, 'pakistans': 4207, 'investigated': 4208, 'regulator': 4209, 'winger': 4210, 'eighth': 4211, 'assange': 4212, 'discharged': 4213, 'nhs': 4214, 'underway': 4215, 'suspend': 4216, 'blaze': 4217, 'beverly': 4218, 'offences': 4219, 'adelaide': 4220, 'semifinal': 4221, 'abdullah': 4222, 'mean': 4223, 'uncertainty': 4224, '77': 4225, 'voluntary': 4226, 'seed': 4227, 'words': 4228, 'watching': 4229, 'rodriguez': 4230, 'defenseman': 4231, 'blasts': 4232, 'gaddafi': 4233, 'refusing': 4234, 'superior': 4235, 'write': 4236, 'prostitution': 4237, 'spirit': 4238, 'advised': 4239, 'trials': 4240, 'trades': 4241, 'confirm': 4242, 'airports': 4243, '86': 4244, 'xinhua': 4245, 'nursing': 4246, 'user': 4247, 'solid': 4248, 'randy': 4249, 'lows': 4250, 'vaccine': 4251, 'workshop': 4252, 'danger': 4253, 'shock': 4254, 'makers': 4255, 'neutral': 4256, 'string': 4257, 'species': 4258, 'sick': 4259, 'berlusconi': 4260, 'dell': 4261, 'attract': 4262, 'messages': 4263, 'warehouse': 4264, 'guest': 4265, 'supermarket': 4266, 'musician': 4267, 'oracle': 4268, 'governors': 4269, 'tops': 4270, 'imf': 4271, 'nj': 4272, 'worse': 4273, 'particularly': 4274, 'postal': 4275, 'pizza': 4276, 'rockets': 4277, 'ski': 4278, 'audience': 4279, 'mom': 4280, 'quoted': 4281, 'deer': 4282, 'rooney': 4283, 'chamber': 4284, 'prospects': 4285, 'donald': 4286, 'either': 4287, 'modi': 4288, 'regulations': 4289, 'contractor': 4290, 'babies': 4291, 'homeowners': 4292, 'foster': 4293, '83': 4294, 'queens': 4295, 'viewers': 4296, 'catch': 4297, 'apologizes': 4298, '66': 4299, 'volume': 4300, 'cancel': 4301, 'determine': 4302, 'chest': 4303, 'pregnancy': 4304, 'cliff': 4305, 'manage': 4306, 'braves': 4307, 'grade': 4308, 'integration': 4309, 'dmitry': 4310, 'locations': 4311, 'licence': 4312, 'karzai': 4313, 'murphy': 4314, 'gomez': 4315, 'planes': 4316, 'forms': 4317, 'titans': 4318, 'moss': 4319, '84': 4320, 'drowns': 4321, 'filmmaker': 4322, 'producing': 4323, 'documentary': 4324, 'celtic': 4325, 'broad': 4326, 'versus': 4327, 'riding': 4328, 'yemeni': 4329, 'ravens': 4330, 'zero': 4331, 'amanda': 4332, 'bloomberg': 4333, 'completely': 4334, '20th': 4335, 'mars': 4336, 'chef': 4337, 'performs': 4338, 'easing': 4339, 'aim': 4340, 'middleton': 4341, 'jefferson': 4342, 'greatest': 4343, 'unable': 4344, 'switch': 4345, 'editor': 4346, 'revised': 4347, 'driven': 4348, 'burn': 4349, 'lawmaker': 4350, 'billions': 4351, 'miners': 4352, 'requirements': 4353, 'sisters': 4354, 'jays': 4355, 'youre': 4356, 'argument': 4357, 'fares': 4358, 'dairy': 4359, 'honour': 4360, 'clinical': 4361, 'sonia': 4362, 'secondary': 4363, 'ted': 4364, 'yes': 4365, 'sing': 4366, 'anc': 4367, 'eating': 4368, 'initiatives': 4369, 'drawing': 4370, 'mines': 4371, 'misses': 4372, 'serial': 4373, 'priest': 4374, 'mitchell': 4375, 'improves': 4376, 'peaceful': 4377, 'artists': 4378, 'wellington': 4379, 'branches': 4380, 'supported': 4381, 'recognized': 4382, 'sacked': 4383, 'ubs': 4384, 'arctic': 4385, 'diplomat': 4386, 'extreme': 4387, 'stops': 4388, 'salt': 4389, 'airbus': 4390, 'torch': 4391, 'athens': 4392, 'census': 4393, 'playstation': 4394, 'slashed': 4395, 'apply': 4396, 'nobel': 4397, 'spencer': 4398, 'creation': 4399, 'stakes': 4400, 'fiveyear': 4401, 'easter': 4402, 'roberto': 4403, 'cotton': 4404, 'pentagon': 4405, 'phillips': 4406, 'agenda': 4407, 'bombing': 4408, 'opinion': 4409, 'bihar': 4410, '20yearold': 4411, 'phillies': 4412, 'economies': 4413, 'auburn': 4414, 'surrounding': 4415, 'plunged': 4416, 'tuesdays': 4417, 'gibson': 4418, 'eased': 4419, 'heroin': 4420, 'dean': 4421, 'irans': 4422, 'gm': 4423, 'scale': 4424, '88': 4425, 'norwegian': 4426, 'hole': 4427, 'shift': 4428, 'attempts': 4429, 'newton': 4430, 'broadcaster': 4431, 'subject': 4432, 'centres': 4433, 'mugabe': 4434, 'naked': 4435, 'refinery': 4436, 'rapid': 4437, 'karachi': 4438, 'novel': 4439, 'earn': 4440, 'evacuation': 4441, 'unknown': 4442, 'bone': 4443, 'acts': 4444, 'rental': 4445, 'newspapers': 4446, 'coastal': 4447, 'dj': 4448, 'gross': 4449, 'jesus': 4450, 'xbox': 4451, 'discussion': 4452, 'writing': 4453, 'consulting': 4454, 'dumped': 4455, 'commodities': 4456, 'flames': 4457, 'amendment': 4458, 'lovato': 4459, 'rider': 4460, 'cinema': 4461, 'redskins': 4462, 'blake': 4463, 'gene': 4464, '350': 4465, 'identify': 4466, '50th': 4467, 'overhaul': 4468, 'grid': 4469, 'bags': 4470, 'abbas': 4471, 'audio': 4472, 'command': 4473, 'cambridge': 4474, 'pranab': 4475, 'womans': 4476, 'ronaldo': 4477, 'tommy': 4478, 'spokesperson': 4479, 'sharif': 4480, 'lil': 4481, 'finger': 4482, 'discussed': 4483, 'maritime': 4484, 'seeing': 4485, 'bolton': 4486, 'spoke': 4487, 'anticipated': 4488, 'warn': 4489, 'austerity': 4490, 'detention': 4491, '12th': 4492, 'heidi': 4493, 'elbow': 4494, 'abdul': 4495, 'petition': 4496, 'syed': 4497, 'hyderabad': 4498, 'martinez': 4499, 'fundraising': 4500, 'hopeful': 4501, 'steal': 4502, 'staterun': 4503, 'lifetime': 4504, 'oldest': 4505, 'monroe': 4506, 'counterpart': 4507, 'bed': 4508, 'costar': 4509, 'gunman': 4510, 'lt': 4511, 'marc': 4512, '79': 4513, 'mentally': 4514, 'spectrum': 4515, 'bryant': 4516, 'playoffs': 4517, 'deposit': 4518, 'robinson': 4519, 'collapses': 4520, 'crystal': 4521, 'clothes': 4522, 'engineers': 4523, 'crushed': 4524, 'uttar': 4525, 'attending': 4526, 'capture': 4527, '78': 4528, '69': 4529, 'broadcasting': 4530, 'laden': 4531, 'hiv': 4532, 'scenes': 4533, 'behaviour': 4534, 'arnold': 4535, 'professionals': 4536, 'inning': 4537, 'smaller': 4538, 'garage': 4539, 'rumors': 4540, 'investing': 4541, 'recognition': 4542, 'meat': 4543, 'canadas': 4544, 'youths': 4545, 'upgrades': 4546, 'abusing': 4547, 'louisville': 4548, 'missiles': 4549, 'nature': 4550, 'roles': 4551, 'damages': 4552, 'drove': 4553, 'hailed': 4554, 'unity': 4555, 'pink': 4556, 'owen': 4557, 'cbi': 4558, 'wire': 4559, 'civilian': 4560, 'fernando': 4561, 'thanksgiving': 4562, 'rajasthan': 4563, 'doubles': 4564, 'estranged': 4565, 'slide': 4566, 'slams': 4567, 'federer': 4568, 'constitutional': 4569, 'promising': 4570, 'tendulkar': 4571, 'seahawks': 4572, 'observed': 4573, 'surveillance': 4574, 'flagship': 4575, 'empire': 4576, 'nissan': 4577, 'overcome': 4578, 'potter': 4579, 'honorary': 4580, 'pilgrims': 4581, 'marion': 4582, 'remember': 4583, 'vessel': 4584, 'athletics': 4585, 'praises': 4586, 'throw': 4587, 'publishing': 4588, 'household': 4589, 'gasoline': 4590, 'wish': 4591, 'warming': 4592, 'statewide': 4593, 'looked': 4594, 'donations': 4595, 'polish': 4596, 'threeday': 4597, '21yearold': 4598, 'inquest': 4599, 'sheikh': 4600, 'apologized': 4601, 'survived': 4602, 'alberta': 4603, 'individuals': 4604, 'favorite': 4605, 'suggesting': 4606, 'accidents': 4607, 'odds': 4608, 'respond': 4609, 'tmz': 4610, 'ballot': 4611, 'nightclub': 4612, 'aggravated': 4613, 'referendum': 4614, 'escapes': 4615, 'christie': 4616, 'unidentified': 4617, 'penguins': 4618, 'liquor': 4619, 'scrap': 4620, 'vital': 4621, 'smuggling': 4622, 'maximum': 4623, 'suburban': 4624, 'obesity': 4625, 'comment': 4626, 'portsmouth': 4627, 'hostage': 4628, 'ceasefire': 4629, 'mel': 4630, 'fireworks': 4631, 'posting': 4632, 'wolves': 4633, 'mystery': 4634, 'htc': 4635, 'mubarak': 4636, 'reds': 4637, 'nominations': 4638, 'pervez': 4639, 'inmates': 4640, 'aboard': 4641, 'ericsson': 4642, 'grocery': 4643, 'ads': 4644, 'mahindra': 4645, 'osbourne': 4646, 'wenger': 4647, 'manhattan': 4648, 'topped': 4649, '81': 4650, 'endorse': 4651, 'rumours': 4652, 'selena': 4653, 'glass': 4654, 'abducted': 4655, 'importance': 4656, 'childhood': 4657, 'freeze': 4658, 'slump': 4659, 'screening': 4660, 'races': 4661, 'applied': 4662, 'stem': 4663, 'default': 4664, '2005': 4665, 'operational': 4666, 'whitney': 4667, 'threeyear': 4668, 'johannesburg': 4669, 'pleading': 4670, 'leon': 4671, 'accusing': 4672, 'grain': 4673, 'advances': 4674, 'critics': 4675, 'emissions': 4676, 'rupert': 4677, 'lottery': 4678, 'ambulance': 4679, 'brewers': 4680, 'transplant': 4681, 'sporting': 4682, 'basic': 4683, 'desperate': 4684, 'rahul': 4685, 'heath': 4686, 'afl': 4687, 'condemns': 4688, 'diplomats': 4689, 'inaugurated': 4690, 'juventus': 4691, 'sandy': 4692, 'boycott': 4693, 'aide': 4694, '130': 4695, 'nadu': 4696, 'nancy': 4697, 'swept': 4698, 'unrest': 4699, 'bernard': 4700, 'administrative': 4701, 'steelers': 4702, 'chip': 4703, 'netanyahu': 4704, 'southeastern': 4705, 'easily': 4706, 'fill': 4707, 'watchdog': 4708, 'bounce': 4709, 'completion': 4710, 'fridays': 4711, 'ones': 4712, 'brooklyn': 4713, 'yard': 4714, 'poker': 4715, 'cool': 4716, 'ashton': 4717, 'hasnt': 4718, 'blackburn': 4719, 'briefly': 4720, 'francis': 4721, 'medals': 4722, 'reopens': 4723, 'differences': 4724, 'richmond': 4725, 'evasion': 4726, 'scare': 4727, 'wednesdays': 4728, 'values': 4729, 'freight': 4730, 'declining': 4731, '58': 4732, 'staying': 4733, 'attended': 4734, 'exploded': 4735, 'academic': 4736, 'todd': 4737, 'affiliate': 4738, 'slowing': 4739, 'unless': 4740, 'sense': 4741, 'pga': 4742, '91': 4743, 'serbian': 4744, 'violation': 4745, 'defeats': 4746, 'branded': 4747, 'pride': 4748, 'siemens': 4749, 'k': 4750, 'clarke': 4751, 'orioles': 4752, 'definitive': 4753, 'rolls': 4754, 'frontman': 4755, '£1': 4756, 'blocked': 4757, 'predicted': 4758, 'rocker': 4759, 'wwe': 4760, 'portugal': 4761, 'wildfire': 4762, 'aside': 4763, 'continental': 4764, 'operate': 4765, 'lights': 4766, 'farmer': 4767, 'apa': 4768, 'manufacturers': 4769, 'volunteer': 4770, 'emotional': 4771, 'telephone': 4772, 'quinn': 4773, 'absence': 4774, 'beef': 4775, 'judiciary': 4776, 'ham': 4777, 'insurgents': 4778, 'ships': 4779, 'everton': 4780, 'replacement': 4781, 'inspired': 4782, 'hometown': 4783, 'qaeda': 4784, 'africas': 4785, 'baldwin': 4786, 'tape': 4787, 'timberlake': 4788, 'montgomery': 4789, 'max': 4790, 'oscars': 4791, 'purchases': 4792, 'crowned': 4793, 'happen': 4794, 'occupy': 4795, 'directly': 4796, 'refugee': 4797, 'hu': 4798, 'sharing': 4799, 'minneapolis': 4800, 'multiyear': 4801, 'spy': 4802, 'iconic': 4803, 'bernanke': 4804, 'inaugural': 4805, 'colin': 4806, 'gear': 4807, 'slowed': 4808, 'delivers': 4809, 'pulling': 4810, 'vacant': 4811, 'doubled': 4812, 'sandra': 4813, 'russias': 4814, 'seoul': 4815, 'chart': 4816, 'collided': 4817, 'ann': 4818, 'guarantee': 4819, 'titled': 4820, 'argentine': 4821, 'robbing': 4822, '99': 4823, 'bishop': 4824, 'gen': 4825, 'placement': 4826, 'unanimously': 4827, 'rod': 4828, 'lp': 4829, 'moderate': 4830, 'weakness': 4831, 'lease': 4832, 'suu': 4833, 'midwest': 4834, 'robberies': 4835, 'belgium': 4836, 'sitting': 4837, 'lunch': 4838, 'definitely': 4839, 'bayern': 4840, 'automaker': 4841, 'tribune': 4842, 'pastor': 4843, 'hsbc': 4844, 'suzuki': 4845, 'gathered': 4846, 'representing': 4847, 'cardiff': 4848, 'teaching': 4849, 'nrl': 4850, 'plot': 4851, 'frozen': 4852, 'quoting': 4853, 'regulation': 4854, 'shared': 4855, 'bands': 4856, 'contain': 4857, 'hamid': 4858, 'survive': 4859, '360': 4860, 'furniture': 4861, 'boats': 4862, 'nearby': 4863, 'robber': 4864, 'audit': 4865, 'ninth': 4866, 'ethnic': 4867, 'prompting': 4868, 'transition': 4869, 'elton': 4870, 'treaty': 4871, 'tours': 4872, 'diseases': 4873, 'beautiful': 4874, 'tobacco': 4875, 'apology': 4876, 'chances': 4877, 'borrowing': 4878, 'offset': 4879, 'installed': 4880, 'lakes': 4881, 'rb': 4882, 'dental': 4883, 'cope': 4884, 'blind': 4885, 'apart': 4886, 'universities': 4887, 'pharmacy': 4888, 'packers': 4889, 'disputed': 4890, 'denmark': 4891, 'nude': 4892, 'amnesty': 4893, 'insurer': 4894, 'grammy': 4895, 'entitled': 4896, 'verdict': 4897, 'disclosed': 4898, 'tips': 4899, 'guru': 4900, 'feed': 4901, 'u': 4902, 'therapy': 4903, 'aberdeen': 4904, 'ashes': 4905, 'kyi': 4906, 'machines': 4907, 'rivers': 4908, 'crunch': 4909, 'educational': 4910, 'bashar': 4911, 'discount': 4912, 'easier': 4913, 'eyes': 4914, 'norway': 4915, 'dad': 4916, 'uks': 4917, 'dam': 4918, 'l': 4919, 'angels': 4920, 'swim': 4921, 'whom': 4922, 'jake': 4923, 'albert': 4924, 'norwich': 4925, 'eat': 4926, 'intervention': 4927, 'necessary': 4928, 'damascus': 4929, 'tibetan': 4930, 'duties': 4931, 'dennis': 4932, 'buses': 4933, 'northeastern': 4934, 'piece': 4935, 'kitchen': 4936, '110': 4937, 'achieved': 4938, 'barnes': 4939, 'joel': 4940, 'sweep': 4941, 'donates': 4942, 'marcus': 4943, 'glasgow': 4944, 'charging': 4945, 'roadside': 4946, 'parole': 4947, 'chemicals': 4948, 'opec': 4949, 'combined': 4950, 'id': 4951, 'sachin': 4952, 'beyonce': 4953, 'simple': 4954, 'cisco': 4955, 'aggressive': 4956, 'brady': 4957, 'swat': 4958, 'hugh': 4959, 'insider': 4960, 'pioneer': 4961, 'merkel': 4962, 'xvi': 4963, 'twoday': 4964, 'pricing': 4965, 'theme': 4966, 'racist': 4967, 'celtics': 4968, 'slam': 4969, 'gambling': 4970, 'cofounder': 4971, 'occupied': 4972, 'updates': 4973, 'baku': 4974, 'sanchez': 4975, 'oneday': 4976, 'daughters': 4977, 'stuck': 4978, 'scoring': 4979, 'unprecedented': 4980, 'gallagher': 4981, 'fled': 4982, 'le': 4983, 'advisor': 4984, '94': 4985, 'enhanced': 4986, 'chad': 4987, 'johns': 4988, 'oak': 4989, 'prestigious': 4990, 'medicare': 4991, 'cautious': 4992, 'rallies': 4993, 'sc': 4994, 'electrical': 4995, 'carriers': 4996, 'newman': 4997, 'severely': 4998, 'murdoch': 4999, 'lion': 5000, 'doping': 5001, 'twilight': 5002, 'jewelry': 5003, 'fat': 5004, 'client': 5005, 'semiconductor': 5006, 'finland': 5007, 'aids': 5008, 'designated': 5009, 'commit': 5010, '92': 5011, 'soul': 5012, 'mohammed': 5013, 'obtained': 5014, 'challenging': 5015, 'suffer': 5016, 'ecommerce': 5017, 'councils': 5018, 'lynch': 5019, 'packaging': 5020, 'bound': 5021, 'arbitration': 5022, 'enjoy': 5023, '87': 5024, 'seminar': 5025, 'luke': 5026, 'fred': 5027, 'pledge': 5028, 'declaration': 5029, 'rebounds': 5030, 'titles': 5031, 'ultimate': 5032, 'bosses': 5033, 'diet': 5034, 'manny': 5035, 'locked': 5036, 'shootout': 5037, '1st': 5038, 'trainer': 5039, 'shoppers': 5040, 'swap': 5041, 'hull': 5042, '89': 5043, 'seniors': 5044, 'michele': 5045, 'holy': 5046, 'wasnt': 5047, 'destroys': 5048, 'worried': 5049, 'executed': 5050, 'horses': 5051, 'harbor': 5052, 'spurs': 5053, 'hybrid': 5054, 'wounds': 5055, 'wages': 5056, 'replacing': 5057, 'underground': 5058, 'achieve': 5059, 'specialty': 5060, 'ecuador': 5061, 'righthander': 5062, 'views': 5063, 'broker': 5064, 'teenagers': 5065, 'suv': 5066, 'pupils': 5067, 'awardwinning': 5068, 'pacquiao': 5069, 'islam': 5070, 'levy': 5071, 'pretty': 5072, 'pa': 5073, 'lived': 5074, 'ram': 5075, 'gillard': 5076, 'wichita': 5077, 'romanian': 5078, 'gate': 5079, 'bombs': 5080, 'skip': 5081, 'wrestling': 5082, 'reviews': 5083, 'mariners': 5084, 'indicated': 5085, 'mild': 5086, 'responded': 5087, 'staged': 5088, 'conrad': 5089, 'pneumonia': 5090, 'civic': 5091, 'cycling': 5092, 'crop': 5093, 'angel': 5094, 'clerk': 5095, 'quarterfinals': 5096, 'bowling': 5097, '59': 5098, 'mile': 5099, 'cruz': 5100, 'bronze': 5101, 'lexington': 5102, 'letters': 5103, 'archbishop': 5104, 'eva': 5105, 'kabul': 5106, 'elephant': 5107, 'cyber': 5108, 'trump': 5109, 'bolt': 5110, 'guitarist': 5111, 'sebastian': 5112, 'jonas': 5113, 'rapids': 5114, 'ridge': 5115, 'decisions': 5116, 'farms': 5117, 'magnitude': 5118, 'belgian': 5119, 'drinks': 5120, 'allies': 5121, 'uefa': 5122, 'promise': 5123, 'liver': 5124, 'appealing': 5125, 'numerous': 5126, 'alqaeda': 5127, 'indefinite': 5128, 'sustainability': 5129, 'infant': 5130, 'ferrari': 5131, 'cardiac': 5132, 'substance': 5133, 'berry': 5134, 'eliminate': 5135, 'lesbian': 5136, 'schwarzenegger': 5137, 'watched': 5138, 'lifestyle': 5139, 'leaked': 5140, 'peninsula': 5141, 'remembered': 5142, 'permission': 5143, 'younger': 5144, 'permits': 5145, 'g': 5146, 'minute': 5147, 'yields': 5148, 'dozen': 5149, 'vince': 5150, '911': 5151, 'surged': 5152, 'declare': 5153, 'submitted': 5154, 'selects': 5155, 'outfit': 5156, '25th': 5157, 'borders': 5158, 'warnings': 5159, 'amitabh': 5160, 'opponents': 5161, 'harrison': 5162, 'closely': 5163, 'compliance': 5164, 'luis': 5165, 'southwestern': 5166, 'runway': 5167, '2004': 5168, 'christopher': 5169, 'weekends': 5170, 'knot': 5171, 'andhra': 5172, 'retain': 5173, 'triplea': 5174, 'malta': 5175, 'jumps': 5176, '750': 5177, 'protesting': 5178, 'print': 5179, 'governance': 5180, 'overdose': 5181, 'gather': 5182, 'burglaries': 5183, 'climb': 5184, 'sharma': 5185, 'teammate': 5186, 'adrian': 5187, 'signal': 5188, 'ist': 5189, 'developments': 5190, 'walter': 5191, 'thursdays': 5192, 'enable': 5193, 'thousand': 5194, 'disciplinary': 5195, 'desert': 5196, 'atomic': 5197, 'inspection': 5198, 'bankers': 5199, 'vincent': 5200, 'responding': 5201, 'warm': 5202, 'ancient': 5203, 'narrowly': 5204, 'norfolk': 5205, 'admitting': 5206, 'consumption': 5207, 'electoral': 5208, 'acquitted': 5209, 'larger': 5210, 'socalled': 5211, 'unpaid': 5212, 'autism': 5213, 'tribunal': 5214, 'shark': 5215, 'sioux': 5216, 'vulnerable': 5217, 'destination': 5218, 'castro': 5219, 'recruiting': 5220, 'valued': 5221, 'blocks': 5222, 'politician': 5223, 'downgrades': 5224, 'grave': 5225, 'finnish': 5226, 'taxpayers': 5227, 'exposed': 5228, 'h1n1': 5229, 'boyle': 5230, 'button': 5231, 'unbeaten': 5232, 'couples': 5233, 'fugitive': 5234, 'silence': 5235, 'nintendo': 5236, 'comic': 5237, 'edinburgh': 5238, 'stones': 5239, 'princess': 5240, 'recruit': 5241, 'qualify': 5242, 'preferred': 5243, 'tens': 5244, 'invitation': 5245, '101': 5246, '100th': 5247, 'stages': 5248, 'trends': 5249, 'intersection': 5250, '22yearold': 5251, 'norman': 5252, 'graduate': 5253, 'oman': 5254, 'housewives': 5255, 'shoes': 5256, 'ebay': 5257, 'suisse': 5258, 'morris': 5259, 'engineer': 5260, 'cycle': 5261, 'document': 5262, 'challenged': 5263, '2nd': 5264, 'speedway': 5265, 'riot': 5266, 'readers': 5267, 'delivering': 5268, 'gaining': 5269, 'cheney': 5270, 'mariah': 5271, 'punishment': 5272, 'keys': 5273, 'tablets': 5274, 'proceedings': 5275, 'layoffs': 5276, 'deported': 5277, 'largely': 5278, 'taipei': 5279, 'mortgages': 5280, 'striking': 5281, 'relay': 5282, 'rehabilitation': 5283, 'tonights': 5284, 'excessive': 5285, 'preparation': 5286, 'fines': 5287, 'bullock': 5288, 'hd': 5289, 'peru': 5290, 'arraigned': 5291, 'transferred': 5292, 'mt': 5293, 'filming': 5294, 'coleman': 5295, 'aiming': 5296, 'restraining': 5297, 'mondays': 5298, 'tragedy': 5299, 'lisa': 5300, 'withdrew': 5301, 'volatile': 5302, 'suite': 5303, 'migrants': 5304, 'controls': 5305, 'wings': 5306, 'fix': 5307, 'kicking': 5308, 'turner': 5309, 'participation': 5310, 'batsman': 5311, 'convenience': 5312, 'jumping': 5313, 'implementation': 5314, 'booked': 5315, 'contractors': 5316, 'johansson': 5317, 'harassment': 5318, 'bids': 5319, 'ca': 5320, 'provinces': 5321, 'controlled': 5322, 'breakfast': 5323, 'dame': 5324, 'apologised': 5325, 'apr': 5326, 'midday': 5327, 'richardson': 5328, 'hearts': 5329, 'boxer': 5330, 'swansea': 5331, 'eur': 5332, 'edmonton': 5333, 'frontier': 5334, 'bros': 5335, 'hungary': 5336, 'pattern': 5337, 'secures': 5338, 'cheating': 5339, 'thriller': 5340, 'pact': 5341, 'prompted': 5342, 'explosive': 5343, 'triggered': 5344, 'bench': 5345, 'confessed': 5346, 'fundraiser': 5347, 'grounds': 5348, 'maruti': 5349, 'ahmed': 5350, 'muammar': 5351, '24yearold': 5352, 'na': 5353, 'bonuses': 5354, 'sensation': 5355, 'osama': 5356, 'ms': 5357, 'presidentelect': 5358, 'mayer': 5359, 'widely': 5360, 'horror': 5361, 'survival': 5362, 'represent': 5363, 'concept': 5364, 'canadians': 5365, 'bang': 5366, 'bath': 5367, 'strengthened': 5368, 'omaha': 5369, 'wifi': 5370, 'mega': 5371, 'vacation': 5372, 'lahore': 5373, 'billboard': 5374, 'behalf': 5375, 'organized': 5376, 'climbed': 5377, 'assured': 5378, 'oath': 5379, 'jpmorgan': 5380, 'emmy': 5381, 'formal': 5382, 'dna': 5383, 'accepts': 5384, 'renew': 5385, 'syracuse': 5386, 'genetic': 5387, 'leagues': 5388, 'routine': 5389, 'nz': 5390, 'urge': 5391, 'recommended': 5392, 'spiritual': 5393, 'freddie': 5394, 'expo': 5395, 'mini': 5396, 'scarlett': 5397, 'defeating': 5398, 'abbott': 5399, 'angela': 5400, 'silvio': 5401, 'athlete': 5402, 'execution': 5403, 'shield': 5404, 'merge': 5405, 'guidelines': 5406, 'decrease': 5407, 'ally': 5408, 'neighbours': 5409, 'glee': 5410, 'philip': 5411, 'blacks': 5412, 'deposits': 5413, 'owns': 5414, 'citizenship': 5415, 'framework': 5416, 'lifts': 5417, 'nurse': 5418, 'des': 5419, 'heavily': 5420, 'extremely': 5421, 'mainly': 5422, 'fulham': 5423, 'pump': 5424, 'darren': 5425, 'raj': 5426, 'catcher': 5427, 'availability': 5428, 'ppp': 5429, 'domain': 5430, 'heroes': 5431, 'cemetery': 5432, 'misconduct': 5433, 'lambert': 5434, 'glenn': 5435, 'partys': 5436, 'prosecution': 5437, 'chair': 5438, 'yellow': 5439, 'dress': 5440, 'conn': 5441, 'counter': 5442, 'affecting': 5443, 'covering': 5444, 'exporters': 5445, 'grace': 5446, 'prisoner': 5447, 'logistics': 5448, 'salem': 5449, 'shape': 5450, 'sec': 5451, 'jamaica': 5452, 'fights': 5453, 'renews': 5454, 'rocky': 5455, 'understanding': 5456, 'lets': 5457, 'obrien': 5458, 'stripped': 5459, 'sindh': 5460, 'cats': 5461, 'outlets': 5462, 'anchor': 5463, 'bowler': 5464, 'railways': 5465, 'drill': 5466, 'questioned': 5467, 'intent': 5468, 'dawn': 5469, 'bancorp': 5470, 'chronic': 5471, 'itunes': 5472, 'quiet': 5473, 'innocent': 5474, 'paso': 5475, 'derek': 5476, 'santorum': 5477, 'understand': 5478, 'badly': 5479, 'birds': 5480, 'boards': 5481, 'drives': 5482, 'nonprofit': 5483, 'pollution': 5484, 'genocide': 5485, 'originally': 5486, 'molestation': 5487, 'michaels': 5488, 'crossed': 5489, 'filled': 5490, 'optimism': 5491, 'starbucks': 5492, 'hardware': 5493, 'londons': 5494, 'os': 5495, 'footballer': 5496, 'apps': 5497, 'capable': 5498, 'swing': 5499, 'yuan': 5500, 'economist': 5501, 'soft': 5502, 'navigation': 5503, 'curb': 5504, 'doubt': 5505, 'rams': 5506, '19yearold': 5507, 'oprah': 5508, 'datuk': 5509, 'suggest': 5510, 'map': 5511, 'christchurch': 5512, 'simply': 5513, 'torn': 5514, 'personality': 5515, 'capabilities': 5516, 'istanbul': 5517, 'relatives': 5518, 'correspondent': 5519, 'acquiring': 5520, 'pursue': 5521, 'explore': 5522, 'bullet': 5523, 'fought': 5524, 'reward': 5525, 'tesco': 5526, 'destroy': 5527, 'tunisia': 5528, 'austria': 5529, 'touched': 5530, 'supermodel': 5531, 'picking': 5532, 'procedure': 5533, 'sit': 5534, 'cooperate': 5535, 'bolster': 5536, 'download': 5537, 'server': 5538, 'vendor': 5539, 'complications': 5540, 'calgary': 5541, 'brent': 5542, 'doubleheader': 5543, '13th': 5544, 'weighed': 5545, 'difference': 5546, 'devastating': 5547, 'pledges': 5548, 'brush': 5549, 'sierra': 5550, 'knew': 5551, 'amber': 5552, 'impressive': 5553, 'jewellery': 5554, 'willing': 5555, 'possessing': 5556, 'thomson': 5557, 'buffett': 5558, 'expelled': 5559, 'christians': 5560, 'occasion': 5561, 'carpet': 5562, 'mistakes': 5563, 'bradford': 5564, 'chicken': 5565, 'loved': 5566, 'seconds': 5567, 'startup': 5568, 'creator': 5569, 'exwife': 5570, 'certification': 5571, 'policemen': 5572, 'licenses': 5573, 'splits': 5574, 'reverse': 5575, 'finances': 5576, 'risen': 5577, 'elect': 5578, 'calm': 5579, 'bhp': 5580, 'insisting': 5581, 'strain': 5582, 'grown': 5583, 'extensive': 5584, 'beta': 5585, 'advisers': 5586, 'acquisitions': 5587, 'regrets': 5588, 'profile': 5589, 'throat': 5590, 'bruins': 5591, 'ronnie': 5592, 'violated': 5593, 'brooks': 5594, 'speeding': 5595, 'nile': 5596, 'foreigners': 5597, 'singing': 5598, 'mad': 5599, 'newborn': 5600, 'connect': 5601, 'stemming': 5602, 'benjamin': 5603, 'rounds': 5604, 'racial': 5605, 'manning': 5606, 'appoint': 5607, 'wigan': 5608, 'aguilera': 5609, 'clearing': 5610, 'qb': 5611, 'hiding': 5612, 'spreading': 5613, 'nicki': 5614, 'minaj': 5615, 'cedar': 5616, 'cues': 5617, 'hacked': 5618, 'danish': 5619, 'butler': 5620, 'mamata': 5621, 'couldnt': 5622, 'subscribers': 5623, 'mohamed': 5624, 'koreas': 5625, 'cuomo': 5626, 'accounting': 5627, 'mogul': 5628, 'criminals': 5629, 'optimistic': 5630, 'ideas': 5631, 'circle': 5632, 'policeman': 5633, 'answers': 5634, 'henderson': 5635, 'tentative': 5636, 'manuel': 5637, 'da': 5638, 'newport': 5639, '4g': 5640, '05': 5641, 'expensive': 5642, 'modest': 5643, 'improvements': 5644, 'privately': 5645, 'fever': 5646, 'reiterated': 5647, 'pipe': 5648, 'organised': 5649, 'rudd': 5650, 'mum': 5651, 'infielder': 5652, 'overturned': 5653, 'holders': 5654, 'mohammad': 5655, 'tractor': 5656, 'turkmenistan': 5657, 'sap': 5658, 'crush': 5659, 'rapidly': 5660, 'survives': 5661, 'extraordinary': 5662, 'winnipeg': 5663, 'focusing': 5664, 'talked': 5665, 'newark': 5666, 'excited': 5667, 'stomach': 5668, '18th': 5669, 'thackeray': 5670, 'elite': 5671, 'declaring': 5672, 'longest': 5673, '14th': 5674, 'villages': 5675, 'hungarian': 5676, 'rubber': 5677, 'retained': 5678, 'experienced': 5679, 'grows': 5680, 'duncan': 5681, 'arrival': 5682, 'bryan': 5683, 'stories': 5684, 'miliband': 5685, 'blockbuster': 5686, 'betty': 5687, 'nathan': 5688, 'corn': 5689, 'concerts': 5690, 'wars': 5691, 'bust': 5692, 'vanessa': 5693, 'appointments': 5694, 'thunder': 5695, 'encourage': 5696, 'praise': 5697, '25yearold': 5698, 'struggles': 5699, 'wickets': 5700, 'detective': 5701, 'kutcher': 5702, 'assam': 5703, 'trooper': 5704, 'substantial': 5705, 'offenders': 5706, 'maintained': 5707, 'albany': 5708, 'richards': 5709, 'nurses': 5710, 'donate': 5711, 'extradition': 5712, 'composer': 5713, 'ferry': 5714, 'naomi': 5715, 'eliminated': 5716, 'neighbors': 5717, 'chargers': 5718, 'baker': 5719, 'diaz': 5720, 'meant': 5721, 'likes': 5722, 'belt': 5723, 'portal': 5724, 'tag': 5725, 'meters': 5726, 'silicon': 5727, 'romance': 5728, 'sheffield': 5729, 'ipl': 5730, 'tulsa': 5731, 'gdp': 5732, 'cooperative': 5733, 'reed': 5734, 'employer': 5735, 'hang': 5736, 'institution': 5737, 'giffords': 5738, 'doherty': 5739, 'retreat': 5740, 'roma': 5741, 'favour': 5742, 'wheel': 5743, 'ryanair': 5744, 'charleston': 5745, 'partial': 5746, 'publication': 5747, 'indecent': 5748, 'attractive': 5749, 'thin': 5750, 'shoe': 5751, 'disorder': 5752, 'austrian': 5753, 'favor': 5754, 'molesting': 5755, 'breach': 5756, 'theyve': 5757, 'gardens': 5758, 'writers': 5759, '3g': 5760, 'vicepresident': 5761, 'exactly': 5762, 'dragged': 5763, 'ucla': 5764, 'celebrities': 5765, 'emerge': 5766, 'blair': 5767, 'hanged': 5768, 'miranda': 5769, 'flow': 5770, 'satellites': 5771, 'lowered': 5772, 'slated': 5773, 'sydneys': 5774, 'rockies': 5775, 'listing': 5776, 'reliever': 5777, 'impose': 5778, 'alberto': 5779, 'cornerback': 5780, '17th': 5781, 'distributor': 5782, 'englands': 5783, 'wade': 5784, 'journey': 5785, 'fleeing': 5786, 'economists': 5787, 'exgirlfriend': 5788, 'catherine': 5789, 'boosting': 5790, 'wyoming': 5791, 'tripoli': 5792, 'gifts': 5793, 'disappointed': 5794, 'lineman': 5795, 'portuguese': 5796, 'rays': 5797, 'wishes': 5798, 'compromise': 5799, 'outsourcing': 5800, 'rankings': 5801, 'autopsy': 5802, 'resigning': 5803, 'burst': 5804, 'zambia': 5805, 'finishing': 5806, 'imported': 5807, 'toss': 5808, 'canal': 5809, 'lloyd': 5810, 'plunge': 5811, 'apologises': 5812, 'mclaren': 5813, 'qualified': 5814, 'rehman': 5815, 'subway': 5816, 'pensions': 5817, 'firearms': 5818, '23yearold': 5819, 'ethics': 5820, 'essential': 5821, 'janata': 5822, 'soaring': 5823, 'kid': 5824, 'finale': 5825, 'colombo': 5826, 'encouraged': 5827, 'voter': 5828, 'solve': 5829, 'recovers': 5830, 'purchased': 5831, 'plate': 5832, 'addressing': 5833, 'mounting': 5834, 'handling': 5835, 'repairs': 5836, 'floyd': 5837, 'lab': 5838, 'waived': 5839, 'licensing': 5840, 'goa': 5841, 'leicester': 5842, 'swan': 5843, 'ryder': 5844, 'cannabis': 5845, 'appearing': 5846, 'wouldnt': 5847, 'backup': 5848, 'proved': 5849, 'icc': 5850, 'proceeds': 5851, 'scientist': 5852, 'historical': 5853, 'welsh': 5854, 'harvest': 5855, 'discussions': 5856, 'tibet': 5857, 'dragon': 5858, 'spell': 5859, 'transmission': 5860, 'bennett': 5861, 'lg': 5862, 'kingston': 5863, 'xi': 5864, 'herald': 5865, 'kiss': 5866, 'quebec': 5867, 'sponsorship': 5868, 'pack': 5869, 'cheap': 5870, 'mainland': 5871, 'hazare': 5872, 'choose': 5873, 'projected': 5874, 'rajya': 5875, 'eds': 5876, 'woes': 5877, 'uganda': 5878, 'favre': 5879, 'boom': 5880, 'creates': 5881, 'clooney': 5882, 'turmoil': 5883, 'collective': 5884, 'suburb': 5885, 'kenyan': 5886, 'minn': 5887, 'adele': 5888, 'mercury': 5889, 'wolf': 5890, 'dirty': 5891, 'exciting': 5892, 'teammates': 5893, 'colts': 5894, 'jakarta': 5895, 'sorry': 5896, 'gathering': 5897, 'indefinitely': 5898, 'mo': 5899, '//www': 5900, 'snap': 5901, 'require': 5902, 'statements': 5903, 'discover': 5904, 'knows': 5905, 'checkpoint': 5906, 'tmobile': 5907, 'ailing': 5908, 'strengthening': 5909, 'fathers': 5910, 'seem': 5911, 'hathaway': 5912, 'whale': 5913, 'gray': 5914, 'arsene': 5915, 'barton': 5916, 'maple': 5917, 'issuing': 5918, 'paise': 5919, 'recruitment': 5920, 'carson': 5921, 'karl': 5922, 'headon': 5923, 'distribute': 5924, 'maintains': 5925, 'kg': 5926, 'sensitive': 5927, 'safely': 5928, 'salaries': 5929, 'serie': 5930, 'destinations': 5931, 'backing': 5932, 'seconddegree': 5933, 'lessons': 5934, 'saves': 5935, 'multimillion': 5936, 'wonder': 5937, 'hornets': 5938, 'religion': 5939, 'sweet': 5940, 'cox': 5941, 'covered': 5942, '15th': 5943, 'mountains': 5944, 'intensive': 5945, 'sidelines': 5946, 'peters': 5947, 'th': 5948, 'moodys': 5949, 'hijacked': 5950, 'bangkok': 5951, 'camps': 5952, 'tucson': 5953, 'marketplace': 5954, 'castle': 5955, 'va': 5956, 'consensus': 5957, 'longoria': 5958, 'courses': 5959, 'pune': 5960, 'margin': 5961, 'contribute': 5962, 'develops': 5963, 'partially': 5964, 'canyon': 5965, 'colleagues': 5966, 'satyam': 5967, 'spin': 5968, 'ranch': 5969, 'heather': 5970, 'veto': 5971, 'ipo': 5972, 'prepaid': 5973, 'overweight': 5974, '7th': 5975, 'ports': 5976, '93': 5977, 'superintendent': 5978, 'vermont': 5979, 'yorkshire': 5980, 'strausskahn': 5981, 'barn': 5982, 'effectively': 5983, 'capitals': 5984, 'richie': 5985, 'lsu': 5986, 'portion': 5987, 'debts': 5988, 'tinto': 5989, 'rd': 5990, 'mistake': 5991, 'radiation': 5992, 'chopra': 5993, 'airtel': 5994, 'endorsement': 5995, 'astros': 5996, 'radical': 5997, 'invites': 5998, 'renowned': 5999, 'investigations': 6000, 'glen': 6001, 'et': 6002, 'duo': 6003, 'activated': 6004, 'whos': 6005, 'hartford': 6006, 'planet': 6007, 'minogue': 6008, 'bright': 6009, 'stretch': 6010, 'participants': 6011, 'niagara': 6012, 'schumacher': 6013, 'timothy': 6014, 'suppliers': 6015, 'cia': 6016, 'jean': 6017, '125': 6018, 'monsoon': 6019, 'reception': 6020, 'defamation': 6021, 'revive': 6022, 'performances': 6023, 'geneva': 6024, 'bachmann': 6025, 'explain': 6026, 'mosque': 6027, 'knicks': 6028, 'orissa': 6029, 'thief': 6030, 'dying': 6031, 'turbine': 6032, 'acclaimed': 6033, 'deployed': 6034, 'europa': 6035, 'rovers': 6036, 'myspace': 6037, 'ages': 6038, 'foul': 6039, 'treasurer': 6040, 'coyotes': 6041, 'parked': 6042, 'australians': 6043, 'stevens': 6044, 'homeland': 6045, 'durham': 6046, 'bout': 6047, 'ivory': 6048, 'intention': 6049, '2020': 6050, 'resulted': 6051, 'antigovernment': 6052, 'specific': 6053, 'enjoyed': 6054, 'ave': 6055, 'stanford': 6056, 'infringement': 6057, 'bribery': 6058, 'influential': 6059, 'boulevard': 6060, 'fabio': 6061, 'rbi': 6062, 'bottle': 6063, 'boris': 6064, 'marlins': 6065, 'essex': 6066, 't': 6067, 'arthur': 6068, 'sweeping': 6069, 'reconciliation': 6070, 'sofia': 6071, 'pond': 6072, 'fruit': 6073, 'bitter': 6074, 'threaten': 6075, 'benitez': 6076, 'jun': 6077, 'depp': 6078, 'astronaut': 6079, 'travelling': 6080, 'juvenile': 6081, 'freshman': 6082, 'manila': 6083, 'intended': 6084, 'jharkhand': 6085, 'arent': 6086, 'else': 6087, 'resulting': 6088, 'warrants': 6089, 'donation': 6090, 'brokerage': 6091, 'tip': 6092, 'vietnamese': 6093, 'sena': 6094, '4th': 6095, 'patil': 6096, 'reunited': 6097, 'lieutenant': 6098, 'pose': 6099, 'outage': 6100, 'petersburg': 6101, 'ash': 6102, 'riverside': 6103, 'myers': 6104, 'organisers': 6105, 'jp': 6106, 'walsh': 6107, 'f': 6108, '14yearold': 6109, 'brook': 6110, 'gallery': 6111, 'plaza': 6112, '28yearold': 6113, 'stateowned': 6114, 'dengue': 6115, 'format': 6116, 'laundering': 6117, 'assessment': 6118, 'hostile': 6119, 'organizers': 6120, 'www': 6121, 'enjoying': 6122, 'borough': 6123, 'hurricanes': 6124, 'tumbled': 6125, 'bend': 6126, 'cricketer': 6127, 'toys': 6128, 'reynolds': 6129, 'magistrates': 6130, 'jane': 6131, 'aung': 6132, 'promotions': 6133, 'brutal': 6134, 'honors': 6135, 'platinum': 6136, 'flags': 6137, 'noel': 6138, 'doug': 6139, 'ventures': 6140, 'somerset': 6141, 'harvard': 6142, 'opposite': 6143, 'campaigns': 6144, 'huntington': 6145, 'explains': 6146, 'muscle': 6147, 'buyout': 6148, 'spoken': 6149, 'nyc': 6150, 'metropolitan': 6151, 'brawl': 6152, 'leonardo': 6153, 'carrie': 6154, 'briefing': 6155, 'alleging': 6156, 'contribution': 6157, 'contender': 6158, 'natalie': 6159, 'mavericks': 6160, 'omar': 6161, 'webber': 6162, 'strategies': 6163, 'absolutely': 6164, 'hospitalised': 6165, 'usbased': 6166, 'contributions': 6167, 'fisherman': 6168, 'deciding': 6169, 'posed': 6170, 'sudden': 6171, '2002': 6172, 'efficient': 6173, 'convertible': 6174, 'du': 6175, 'segment': 6176, 'margaret': 6177, 'fierce': 6178, 'cage': 6179, 'punched': 6180, 'exclusively': 6181, 'tel': 6182, 'referee': 6183, 'ladies': 6184, 'shootings': 6185, '160': 6186, 'deployment': 6187, 'tattoo': 6188, 'erupted': 6189, 'tumor': 6190, 'lock': 6191, 'ranking': 6192, 'councillors': 6193, 'nasdaq': 6194, 'aden': 6195, 'stick': 6196, 'md': 6197, 'govt': 6198, 'patents': 6199, 'sentencing': 6200, 'stern': 6201, 'brendan': 6202, 'quitting': 6203, 'rainfall': 6204, '15yearold': 6205, 'abused': 6206, 'remake': 6207, 'rough': 6208, 'drawn': 6209, 'assad': 6210, 'quest': 6211, 'secondlargest': 6212, 'diving': 6213, 'bankrupt': 6214, 'garbage': 6215, 'invested': 6216, 'protected': 6217, 'tire': 6218, 'dpa': 6219, 'powell': 6220, 'travis': 6221, 'sluggish': 6222, 'organic': 6223, 'opposed': 6224, 'volatility': 6225, 'cement': 6226, 'o': 6227, 'battled': 6228, 'disabilities': 6229, 'kyrgyz': 6230, 'offense': 6231, 'advani': 6232, 'serena': 6233, 'detected': 6234, 'trevor': 6235, 'mobility': 6236, 'suddenly': 6237, 'studying': 6238, 'tenn': 6239, 'creditors': 6240, 'container': 6241, 'noted': 6242, 'equality': 6243, 'transparency': 6244, 'zsa': 6245, 'smashed': 6246, 'restructure': 6247, 'rebounded': 6248, 'halted': 6249, 'zones': 6250, 'jintao': 6251, 'revealing': 6252, 'pensioner': 6253, 'plenty': 6254, 'lucas': 6255, 'crane': 6256, 'implemented': 6257, 'di': 6258, 'singles': 6259, 'resorts': 6260, 'participating': 6261, '180': 6262, 'peterson': 6263, 'apples': 6264, 'flyers': 6265, 'claire': 6266, 'productivity': 6267, 'analytics': 6268, 'presenter': 6269, 'twotime': 6270, 'halifax': 6271, 'hed': 6272, 'containing': 6273, 'slain': 6274, 'function': 6275, 'mccarthy': 6276, 'bengals': 6277, 'weve': 6278, 'aol': 6279, 'hamstring': 6280, 'jul': 6281, 'ethiopia': 6282, 'narendra': 6283, 'tap': 6284, 'mansion': 6285, 'oxford': 6286, 'unconscious': 6287, 'bailey': 6288, 'yoga': 6289, 'fantasy': 6290, 'premiership': 6291, 'disputes': 6292, 'padres': 6293, 'prayer': 6294, 'slovenia': 6295, 'pratt': 6296, 'caps': 6297, 'garcia': 6298, 'associate': 6299, 'tweet': 6300, 'wider': 6301, 'testify': 6302, 'lebron': 6303, 'tension': 6304, 'krishna': 6305, 'lighting': 6306, 'daytona': 6307, 'horizon': 6308, 'spice': 6309, 'install': 6310, 'degrees': 6311, 'bingo': 6312, 'excellence': 6313, 'associations': 6314, 'method': 6315, 'yousuf': 6316, 'uniform': 6317, 'rap': 6318, 'panthers': 6319, 'qualifier': 6320, 'accusations': 6321, 'jockey': 6322, 'kirk': 6323, 'banerjee': 6324, 'pointed': 6325, 'mlb': 6326, 'perhaps': 6327, 'gym': 6328, 'fresno': 6329, 'restricted': 6330, 'sudanese': 6331, 'exchanges': 6332, 'cardinal': 6333, 'hammer': 6334, 'valuable': 6335, 'traveling': 6336, 'soil': 6337, 'marie': 6338, 'gender': 6339, 'alqaida': 6340, '19th': 6341, 'pearl': 6342, 'anthem': 6343, 'nets': 6344, 'bold': 6345, 'depot': 6346, 'unusual': 6347, 'laptop': 6348, 'surprised': 6349, 'harvey': 6350, '450': 6351, 'stoke': 6352, 'truth': 6353, 'blagojevich': 6354, 'chilean': 6355, 'vehicular': 6356, 'marco': 6357, 'marries': 6358, 'steep': 6359, 'offerings': 6360, 'dominique': 6361, 'addresses': 6362, 'load': 6363, 'percentage': 6364, 'jayz': 6365, 'compact': 6366, 'unified': 6367, 'demonstration': 6368, 'cannon': 6369, 'adoption': 6370, 'wii': 6371, 'remanded': 6372, 'winfrey': 6373, 'cruises': 6374, 'cellular': 6375, 'panasonic': 6376, 'ex': 6377, 'burglar': 6378, '30yearold': 6379, 'spree': 6380, 'logo': 6381, 'connected': 6382, 'buzz': 6383, 'bundesliga': 6384, 'shaun': 6385, 'gps': 6386, 'wash': 6387, 'vijay': 6388, 'stressed': 6389, 'wallace': 6390, 'nice': 6391, 'hackers': 6392, 'spends': 6393, 'helen': 6394, 'inappropriate': 6395, '40th': 6396, 'gilbert': 6397, 'windsor': 6398, 'fiat': 6399, 'caution': 6400, 'builder': 6401, 'submit': 6402, 'sidelined': 6403, 'hidden': 6404, 'strict': 6405, 'lie': 6406, 'thinking': 6407, 'acute': 6408, '+': 6409, 'reduces': 6410, 'fouryear': 6411, 'steam': 6412, 'priced': 6413, 'coroner': 6414, 'imran': 6415, 'bharti': 6416, 'surface': 6417, 'settles': 6418, 'congratulates': 6419, 'noble': 6420, '30th': 6421, 'quarters': 6422, 'congratulated': 6423, 'sponsored': 6424, 'assassination': 6425, 'components': 6426, 'relating': 6427, 'oliver': 6428, 'repeal': 6429, 'billiton': 6430, 'lashed': 6431, 'pages': 6432, 'cream': 6433, 'households': 6434, '96': 6435, '21st': 6436, 'ge': 6437, 'seal': 6438, 'youngsters': 6439, 'rogue': 6440, 'courthouse': 6441, 'countys': 6442, 'reference': 6443, 'utilities': 6444, 'medicaid': 6445, 'oscarwinning': 6446, 'laura': 6447, 'les': 6448, 'economics': 6449, 'bullish': 6450, 'tyson': 6451, 'governing': 6452, 'withdrawal': 6453, 'avalanche': 6454, 'pills': 6455, '6th': 6456, 'miner': 6457, 'israels': 6458, 'geithner': 6459, 'poisoning': 6460, 'breakthrough': 6461, 'patel': 6462, 'formation': 6463, 'fate': 6464, 'circumstances': 6465, 'mourinho': 6466, 'coventry': 6467, 'slowly': 6468, 'bounced': 6469, 'survivors': 6470, 'graduation': 6471, 'toilet': 6472, 'thus': 6473, 'witherspoon': 6474, 'typhoon': 6475, 'contained': 6476, 'sting': 6477, 'texans': 6478, 'stamford': 6479, 'lyon': 6480, 'swings': 6481, 'pierce': 6482, 'boosts': 6483, 'dismisses': 6484, 'setback': 6485, '16yearold': 6486, 'succeed': 6487, 'palmer': 6488, 'engines': 6489, 'disorderly': 6490, 'dayton': 6491, 'bee': 6492, 'publish': 6493, 'appealed': 6494, 'nuggets': 6495, 'medium': 6496, 'helicopters': 6497, 'symbol': 6498, 'finishes': 6499, 'humans': 6500, 'incumbent': 6501, 'interbank': 6502, 'schemes': 6503, 'ahmad': 6504, 'reject': 6505, 'meals': 6506, 'gosselin': 6507, 'shutting': 6508, '2016': 6509, 'batting': 6510, '26yearold': 6511, 'bruno': 6512, 'shortfall': 6513, 'cigarette': 6514, 'advocate': 6515, 'rukh': 6516, 'andrews': 6517, 'statue': 6518, 'devils': 6519, 'sanford': 6520, 'ejected': 6521, 'maps': 6522, 'notre': 6523, 'polling': 6524, 'lte': 6525, 'jaguars': 6526, 'hamburg': 6527, 'demolition': 6528, 'showcase': 6529, 'ballots': 6530, 'capello': 6531, 'upa': 6532, 'biopic': 6533, 'programmes': 6534, 'forming': 6535, 'gala': 6536, 'solidarity': 6537, 'liquidity': 6538, 'groin': 6539, 'graduates': 6540, 'bhd': 6541, 'airlifted': 6542, 'walks': 6543, 'medicines': 6544, 'victor': 6545, 'precious': 6546, 'recognize': 6547, 'saskatchewan': 6548, 'mph': 6549, 'marines': 6550, 'globally': 6551, 'crawford': 6552, 'robbers': 6553, 'exhusband': 6554, 'li': 6555, 'crazy': 6556, 'approached': 6557, 'retains': 6558, 'weakens': 6559, 'shipments': 6560, 'stuart': 6561, 'blackhawks': 6562, 'lauren': 6563, 'thunderstorm': 6564, 'inventories': 6565, 'floating': 6566, 'autumn': 6567, 'swung': 6568, 'volkswagen': 6569, 'instruments': 6570, 'councillor': 6571, 'eligible': 6572, 'aaa': 6573, 'guitar': 6574, 'dominican': 6575, 'collected': 6576, 'associates': 6577, 'detectives': 6578, 'soap': 6579, 'pressures': 6580, 'equal': 6581, 'committees': 6582, 'moments': 6583, 'railroad': 6584, 'freeway': 6585, 'wrist': 6586, 'firstquarter': 6587, 'reorganization': 6588, 'lobby': 6589, 'kidman': 6590, 'cheated': 6591, 'apparel': 6592, 'miguel': 6593, 'grass': 6594, 'repeat': 6595, 'falcons': 6596, 'nikkei': 6597, 'aamir': 6598, 'repeatedly': 6599, 'shocking': 6600, 'chips': 6601, 'meaning': 6602, 'hart': 6603, 'handle': 6604, 'pine': 6605, 'opposes': 6606, 'universe': 6607, 'drummer': 6608, 'gig': 6609, 'guardian': 6610, 'chocolate': 6611, 'proper': 6612, 'raids': 6613, 'nova': 6614, 'holder': 6615, 'draws': 6616, 'mae': 6617, 'asthma': 6618, 'sexy': 6619, 'confrontation': 6620, 'burma': 6621, 'paula': 6622, 'tougher': 6623, 'institutional': 6624, 'sleeping': 6625, 'origin': 6626, 'addiction': 6627, 'mandate': 6628, 'kobe': 6629, 'humphries': 6630, 'counterparts': 6631, 'tragic': 6632, 'ledger': 6633, 'beaches': 6634, 'apartments': 6635, 'farewell': 6636, 'rig': 6637, 'usain': 6638, 'invests': 6639, 'shuts': 6640, 'hails': 6641, 'excellent': 6642, 'orbit': 6643, 'nielsen': 6644, 'subsidies': 6645, 'amtrak': 6646, 'km': 6647, 'sergio': 6648, 'decides': 6649, 'macedonia': 6650, 'djokovic': 6651, 'consolidation': 6652, 'introducing': 6653, 'clayton': 6654, 'wilmington': 6655, 'pretax': 6656, 'collect': 6657, 'kidnap': 6658, 'dip': 6659, 'blasted': 6660, 'burlington': 6661, 'sheet': 6662, 'dhaka': 6663, 'riders': 6664, 'indie': 6665, 'boil': 6666, 'laboratory': 6667, 'td': 6668, 'gunshot': 6669, 'dubbed': 6670, 'presentation': 6671, 'thank': 6672, 'outperform': 6673, 'carroll': 6674, 'diamondbacks': 6675, 'printing': 6676, 'unexpected': 6677, 'awaited': 6678, 'gazprom': 6679, 'advocates': 6680, 'yadav': 6681, 'vick': 6682, 'tsvangirai': 6683, 'wed': 6684, 'covers': 6685, 'suns': 6686, 'dreams': 6687, 'plymouth': 6688, 'overtime': 6689, 'challenger': 6690, 'constable': 6691, 'mysterious': 6692, 'earthquakes': 6693, 'batch': 6694, 'hawks': 6695, 'joey': 6696, 'puerto': 6697, 'brokers': 6698, 'publicist': 6699, 'raja': 6700, 'cops': 6701, 'bombings': 6702, 'reese': 6703, 'nd': 6704, 'concerning': 6705, 'blew': 6706, 'hindu': 6707, 'disrupted': 6708, 'sanjay': 6709, 'carmaker': 6710, 'troy': 6711, 'lays': 6712, 'usc': 6713, 'earns': 6714, 'damaging': 6715, 'knox': 6716, 'metres': 6717, 'spray': 6718, 'calendar': 6719, 'guests': 6720, 'cristiano': 6721, 'pelosi': 6722, 'ip': 6723, 'clippers': 6724, 'plotting': 6725, 'regard': 6726, 'belfast': 6727, 'broking': 6728, 'combine': 6729, 'tear': 6730, 'ditch': 6731, 'sore': 6732, 'dvd': 6733, 'voluntarily': 6734, '225': 6735, 'approaching': 6736, 'certificate': 6737, 'nose': 6738, 'videos': 6739, 'ios': 6740, 'rwanda': 6741, 'eventually': 6742, '18yearold': 6743, 'loaded': 6744, 'symptoms': 6745, 'isle': 6746, 'struggled': 6747, 'itv': 6748, 'courtney': 6749, 'checked': 6750, 'ousted': 6751, 'maiden': 6752, 'councilman': 6753, 'aussie': 6754, '23rd': 6755, 'bridges': 6756, 'cain': 6757, 'ea': 6758, 'epic': 6759, 'mandatory': 6760, 'compound': 6761, '2000': 6762, 'crossborder': 6763, 'stood': 6764, 'popularity': 6765, 'motel': 6766, 'questioning': 6767, 'gonzalez': 6768, 'buyer': 6769, 'victorian': 6770, 'islanders': 6771, 'yacht': 6772, 'sparks': 6773, 'bet': 6774, 'torture': 6775, 'counterfeit': 6776, 'malaria': 6777, 'moines': 6778, 'hoped': 6779, 'alicia': 6780, 'baptist': 6781, 'jointly': 6782, 'grandmother': 6783, 'micro': 6784, 'shutdown': 6785, 'lorry': 6786, 'ambitious': 6787, 'legislators': 6788, 'novak': 6789, 'plains': 6790, 'surrender': 6791, 'florence': 6792, 'mouth': 6793, 'revival': 6794, 'burke': 6795, 'ceiling': 6796, 'h': 6797, 'matters': 6798, 'penalties': 6799, 'seekers': 6800, 'imprisonment': 6801, 'canucks': 6802, 'dhoni': 6803, 'hundred': 6804, 'evacuate': 6805, 'hernandez': 6806, 'concrete': 6807, 'sharon': 6808, 'samantha': 6809, 'underage': 6810, 'zac': 6811, 'janet': 6812, 'hosni': 6813, 'turkeys': 6814, 'germanys': 6815, 'clemens': 6816, 'romantic': 6817, 'jackie': 6818, 'ducks': 6819, 'raul': 6820, 'orchestra': 6821, 'bae': 6822, 'aerospace': 6823, 'climbing': 6824, 'sentences': 6825, 'addressed': 6826, 'griffin': 6827, 'encouraging': 6828, 'maoist': 6829, 'filipino': 6830, 'nawaz': 6831, 'pistorius': 6832, 'lloyds': 6833, 'barrels': 6834, 'goodwill': 6835, 'pirate': 6836, 'loose': 6837, 'passport': 6838, 'exam': 6839, 'consultancy': 6840, 'greene': 6841, 'chat': 6842, 'volcano': 6843, 'piracy': 6844, 'tuition': 6845, 'workplace': 6846, 'permanently': 6847, 'administrators': 6848, 'handset': 6849, 'generic': 6850, 'coronation': 6851, 'paterson': 6852, 'respectively': 6853, 'trigger': 6854, 'valentines': 6855, 'coup': 6856, 'cavaliers': 6857, 'underwood': 6858, 'repay': 6859, 'megan': 6860, 'hewitt': 6861, 'joy': 6862, 'goaltender': 6863, 'altercation': 6864, 'maintaining': 6865, 'fda': 6866, 'removal': 6867, 'riots': 6868, 'carnival': 6869, 'reputation': 6870, 'inspector': 6871, 'heating': 6872, 'taste': 6873, 'credits': 6874, 'hikes': 6875, 'resolved': 6876, 'pointing': 6877, 'axe': 6878, 'uncertain': 6879, 'packed': 6880, 'controller': 6881, 'pierre': 6882, 'hinted': 6883, 'spains': 6884, 'rover': 6885, 'rossi': 6886, 'rescues': 6887, 'frankfurt': 6888, 'ramirez': 6889, 'travelers': 6890, 'heels': 6891, 'confirming': 6892, 'taiwanese': 6893, 'posing': 6894, 'regain': 6895, 'nyse': 6896, 'adjourned': 6897, 'counsel': 6898, 'downs': 6899, 'anger': 6900, 'displaced': 6901, 'childs': 6902, 'frances': 6903, 'offseason': 6904, 'battered': 6905, 'renault': 6906, 'ellen': 6907, 'eases': 6908, 'clears': 6909, 'amazing': 6910, 'edges': 6911, 'lowers': 6912, 'demonstrators': 6913, 'drake': 6914, 'propose': 6915, 'quarterfinal': 6916, 'yards': 6917, 'infosys': 6918, '3rd': 6919, 'sometimes': 6920, 'charities': 6921, 'transactions': 6922, 'quake': 6923, 'banning': 6924, 'hezbollah': 6925, 'sank': 6926, 'revolutionary': 6927, 'generate': 6928, 'shaw': 6929, 'toxic': 6930, 'inauguration': 6931, 'tanks': 6932, 'distributed': 6933, 'raymond': 6934, 'maradona': 6935, 'salvation': 6936, 'foreclosures': 6937, 'founding': 6938, 'wa': 6939, 'barrier': 6940, 'packages': 6941, 'gossip': 6942, 'predict': 6943, 'santos': 6944, 'explosives': 6945, 'highprofile': 6946, 'ltte': 6947, 'hopkins': 6948, 'booking': 6949, 'trader': 6950, 'paulo': 6951, 'manitoba': 6952, '140': 6953, 'westminster': 6954, '17yearold': 6955, 'shortstop': 6956, 'providence': 6957, 'lanes': 6958, 'rica': 6959, 'merchant': 6960, 'factories': 6961, 'preston': 6962, 'felipe': 6963, 'firmer': 6964, 'completing': 6965, 'slows': 6966, '04': 6967, 'allocation': 6968, 'youngest': 6969, 'symphony': 6970, 'clashed': 6971, 'firstdegree': 6972, 'intellectual': 6973, 'laser': 6974, 'nobody': 6975, 'vandals': 6976, 'reinstated': 6977, 'predicts': 6978, 'endangered': 6979, 'renovation': 6980, 'rev': 6981, 'relegation': 6982, 'amidst': 6983, 'suffolk': 6984, 'poors': 6985, 'lionel': 6986, 'reaction': 6987, 'rhode': 6988, 'arrangements': 6989, 'neglect': 6990, 'himachal': 6991, 'initially': 6992, 'robertson': 6993, 'etihad': 6994, 'facial': 6995, 'portable': 6996, 'tighten': 6997, 'malawi': 6998, 'harbour': 6999, 'secretly': 7000, 'massacre': 7001, 'chester': 7002, 'removing': 7003, 'arlington': 7004, 'merrill': 7005, 'facilitate': 7006, 'consequences': 7007, 'katrina': 7008, 'dressed': 7009, 'rim': 7010, 'competing': 7011, 'flew': 7012, 'mick': 7013, 'gingrich': 7014, 'balotelli': 7015, 'runoff': 7016, 'lou': 7017, 'reflecting': 7018, 'anil': 7019, 'kraft': 7020, 'rifle': 7021, 'marginally': 7022, '5th': 7023, 'puppy': 7024, 'replaces': 7025, 'evan': 7026, 'stayed': 7027, 'ellis': 7028, 'mesa': 7029, 'consultation': 7030, 'findings': 7031, 'messaging': 7032, 'myrtle': 7033, 'slid': 7034, 'dump': 7035, 'admit': 7036, 'travellers': 7037, 'legs': 7038, 'myself': 7039, 'broader': 7040, 'ministries': 7041, 'oneal': 7042, 'hispanic': 7043, 'consulate': 7044, 'wr': 7045, 'reckless': 7046, 'oppose': 7047, 'endeavour': 7048, 'prairie': 7049, 'herman': 7050, 'hide': 7051, 'painting': 7052, 'asean': 7053, 'elements': 7054, 'negotiating': 7055, 'researcher': 7056, 'narrow': 7057, '31yearold': 7058, 'lords': 7059, 'wound': 7060, 'discusses': 7061, 'damon': 7062, 'comfortable': 7063, 'wellknown': 7064, 'generals': 7065, 'bones': 7066, 'daylight': 7067, 'nervous': 7068, 'crosby': 7069, 'dicaprio': 7070, 'spotlight': 7071, 'progressive': 7072, 'happens': 7073, 'proposing': 7074, 'initiated': 7075, 'driveby': 7076, 'operated': 7077, 'telecoms': 7078, 'avoided': 7079, 'cigarettes': 7080, 'folk': 7081, 'friendship': 7082, 'roots': 7083, 'albums': 7084, 'villagers': 7085, 'der': 7086, 'incentives': 7087, 'columnist': 7088, 'openly': 7089, 'widened': 7090, 'baba': 7091, 'skype': 7092, 'permit': 7093, 'walt': 7094, 'revenge': 7095, '2001': 7096, 'playboy': 7097, 'flown': 7098, 'cure': 7099, 'burnley': 7100, 'nutrition': 7101, 'consultant': 7102, 'troopers': 7103, 'forecasters': 7104, 'dominated': 7105, 'forbes': 7106, 'acid': 7107, 'bret': 7108, 'exercises': 7109, 'aviv': 7110, 'purpose': 7111, 'mate': 7112, 'shahid': 7113, 'riley': 7114, 'wheelchair': 7115, 'champ': 7116, 'zimbabwean': 7117, 'moral': 7118, 'iceland': 7119, 'reviewing': 7120, 'martial': 7121, 'lockout': 7122, 'temperature': 7123, 'carlo': 7124, 'adopts': 7125, 'panic': 7126, 'subsidiaries': 7127, 'makeover': 7128, 'pitches': 7129, 'achievement': 7130, 'unfair': 7131, 'reelected': 7132, 'capsized': 7133, 'deploy': 7134, 'audi': 7135, 'hampton': 7136, 'bharatiya': 7137, 'wen': 7138, 'albuquerque': 7139, 'tracy': 7140, 'fractured': 7141, 'jade': 7142, 'prefer': 7143, 'consent': 7144, 'mode': 7145, 'surcharge': 7146, 'conducting': 7147, 'bargain': 7148, 'rocks': 7149, 'sat': 7150, 'satisfaction': 7151, 'scanner': 7152, 'tebow': 7153, 'lone': 7154, 'self': 7155, 'chuck': 7156, 'dated': 7157, 'singers': 7158, 'pfizer': 7159, 'ministerial': 7160, 'adjusted': 7161, 'strokes': 7162, 'programming': 7163, 'bombay': 7164, 'mercy': 7165, 'promotes': 7166, 'croatian': 7167, 'welterweight': 7168, 'signature': 7169, 'dover': 7170, 'wounding': 7171, 'convert': 7172, 'egypts': 7173, 'hunters': 7174, 'cambodia': 7175, 'informs': 7176, 'snapped': 7177, 'requested': 7178, 'venue': 7179, 'rebuild': 7180, 'lancaster': 7181, 'grenade': 7182, 'silent': 7183, 'engage': 7184, 'skating': 7185, 'unite': 7186, 'planting': 7187, 'administrator': 7188, 'perez': 7189, 'holland': 7190, 'bombers': 7191, 'deserve': 7192, 'laying': 7193, 'punching': 7194, 'dogg': 7195, 'showdown': 7196, 'crops': 7197, 'reno': 7198, 'blames': 7199, 'bitten': 7200, 'wallabies': 7201, 'newt': 7202, 'priyanka': 7203, 'ripped': 7204, 'requests': 7205, 'contempt': 7206, 'kodak': 7207, 'guinea': 7208, 'commissions': 7209, 'fiery': 7210, 'willis': 7211, 'bathroom': 7212, 'lehman': 7213, 'textile': 7214, 'lots': 7215, 'explodes': 7216, 'strengthens': 7217, 'slips': 7218, 'clemson': 7219, 'departure': 7220, 'reddy': 7221, 'accountability': 7222, 'afraid': 7223, 'accelerated': 7224, 'ramp': 7225, 'parkway': 7226, 'sunshine': 7227, 'highlights': 7228, 'anonymous': 7229, 'particular': 7230, 'jd': 7231, 'surrendered': 7232, 'palestine': 7233, 'commissioned': 7234, 'kurt': 7235, 'sunny': 7236, 'mix': 7237, 'unemployed': 7238, 'operates': 7239, 'criticised': 7240, 'corrupt': 7241, 'pursuit': 7242, 'ponting': 7243, '16th': 7244, '29yearold': 7245, 'cyclone': 7246, 'busch': 7247, 'wizards': 7248, 'gabrielle': 7249, 'walters': 7250, 'golfer': 7251, 'hannah': 7252, 'distributing': 7253, '9/11': 7254, 'intense': 7255, 'blackpool': 7256, 'hodgson': 7257, 'shook': 7258, 'weakening': 7259, 'lawsuits': 7260, 'secrets': 7261, 'indexes': 7262, 'punch': 7263, 'tweets': 7264, 'integrity': 7265, 'ceremonies': 7266, 'secondquarter': 7267, 'sanders': 7268, 'scotia': 7269, 'erie': 7270, 'hbo': 7271, 'publishers': 7272, 'poses': 7273, 'monica': 7274, 'sullivan': 7275, 'winslet': 7276, 'eid': 7277, 'explained': 7278, 'malcolm': 7279, 'trained': 7280, 'chaos': 7281, 'preserve': 7282, 'purdue': 7283, 'christ': 7284, 'businessmen': 7285, 'detection': 7286, 'restart': 7287, 'speeds': 7288, 'coma': 7289, '49ers': 7290, 'empty': 7291, 'nottingham': 7292, 'infected': 7293, 'aliyev': 7294, 'beatles': 7295, 'sweeps': 7296, 'semi': 7297, 'repeated': 7298, 'dodge': 7299, 'raleigh': 7300, 'pietersen': 7301, 'premises': 7302, 'subscription': 7303, 'debates': 7304, 'pig': 7305, 'bucks': 7306, 'postpones': 7307, 'scrapped': 7308, 'murders': 7309, 'greenhouse': 7310, 'rcmp': 7311, 'reservation': 7312, 'withdrawing': 7313, 'cab': 7314, 'fourthquarter': 7315, 'telstra': 7316, 'slower': 7317, 'shortages': 7318, 'attendance': 7319, 'alassad': 7320, 'chose': 7321, 'pot': 7322, 'remainder': 7323, 'dynamics': 7324, '15day': 7325, 'peacefully': 7326, 'midland': 7327, 'stamp': 7328, 'toy': 7329, 'indeed': 7330, 'nolan': 7331, 'placing': 7332, 'f1': 7333, 'rajapaksa': 7334, 'fairfax': 7335, 'torres': 7336, 'arriving': 7337, 'vic': 7338, 'ike': 7339, 'admission': 7340, 'editorial': 7341, 'pets': 7342, 'lacrosse': 7343, 'devastated': 7344, 'yesterdays': 7345, 'tipped': 7346, 'casinos': 7347, 'cocacola': 7348, 'surrey': 7349, 'caroline': 7350, 'exhibit': 7351, 'famed': 7352, 'stunning': 7353, 'lightweight': 7354, 'javier': 7355, 'seasonal': 7356, 'designs': 7357, 'allrounder': 7358, 'o2': 7359, 'platforms': 7360, 'us1': 7361, 'ferdinand': 7362, 'disruption': 7363, 'georgetown': 7364, 'boots': 7365, 'firmly': 7366, 'ipod': 7367, 'fielder': 7368, 'runner': 7369, 'freeagent': 7370, 'desktop': 7371, 'telekom': 7372, 'legacy': 7373, 'carlisle': 7374, 'olmert': 7375, 'reunion': 7376, 'halftime': 7377, 'insurers': 7378, 'teach': 7379, 'indicates': 7380, 'jackpot': 7381, 'fm': 7382, 'ethiopian': 7383, 'requiring': 7384, 'halloween': 7385, 'municipality': 7386, 'johnston': 7387, 'rent': 7388, 'dylan': 7389, 'bernie': 7390, 'vettel': 7391, 'netflix': 7392, 'happiness': 7393, 'arquette': 7394, 'protecting': 7395, 'sharapova': 7396, 'relative': 7397, 'presenting': 7398, 'highspeed': 7399, 'accidental': 7400, 'territorial': 7401, 'conservatives': 7402, 'introduction': 7403, 'telegraph': 7404, 'luck': 7405, 'franco': 7406, 'spirits': 7407, 'vista': 7408, 'ralph': 7409, 'irvine': 7410, 'bnp': 7411, 'silva': 7412, 'hiphop': 7413, 'ordinary': 7414, 'stalled': 7415, 'ounce': 7416, 'abduction': 7417, 'upside': 7418, 'yorks': 7419, 'invitational': 7420, 'criticized': 7421, 'halle': 7422, 'nitish': 7423, 'michel': 7424, 'wipro': 7425, 'sand': 7426, 'bass': 7427, 'bart': 7428, 'deny': 7429, 'cannes': 7430, 'cooking': 7431, 'pancreatic': 7432, 'mila': 7433, 'sole': 7434, 'ashok': 7435, 'opponent': 7436, 'hood': 7437, 'patch': 7438, 'cathedral': 7439, 'mercedes': 7440, 'sad': 7441, 'successor': 7442, 'agreeing': 7443, 'undercover': 7444, 'procedures': 7445, 'difficulties': 7446, 'ramdev': 7447, 'landslide': 7448, 'vernon': 7449, 'stopping': 7450, 'humanity': 7451, 'marsh': 7452, 'behavior': 7453, 'concludes': 7454, 'mancini': 7455, 'bump': 7456, 'washed': 7457, 'samuel': 7458, 'outages': 7459, 'italys': 7460, 'tevez': 7461, 'panels': 7462, 'hayden': 7463, 'establishment': 7464, 'luther': 7465, 'workout': 7466, 'berkeley': 7467, 'publishes': 7468, 'industrys': 7469, 'earning': 7470, 'injection': 7471, 'yield': 7472, 'infections': 7473, 'gallon': 7474, 'chartered': 7475, 'jorge': 7476, 'length': 7477, 'oasis': 7478, 'reservoir': 7479, 'accra': 7480, 'recommendations': 7481, 'charts': 7482, 'restoration': 7483, 'afford': 7484, 'vienna': 7485, 'laurent': 7486, 'hemsworth': 7487, 'example': 7488, 'spike': 7489, 'bloody': 7490, '97': 7491, 'disorders': 7492, 'mayweather': 7493, 'deportation': 7494, 'tory': 7495, 'sailing': 7496, 'lynn': 7497, 'upbeat': 7498, 'faculty': 7499, 'faulty': 7500, 'trio': 7501, 'ga': 7502, 'bullpen': 7503, 'hilary': 7504, 'describing': 7505, 'tweeted': 7506, 'bicycle': 7507, 'battles': 7508, 'pubs': 7509, 'gubernatorial': 7510, 'vessels': 7511, 'hat': 7512, 'hacking': 7513, 'diamonds': 7514, 'spa': 7515, 'familys': 7516, 'automation': 7517, 'smash': 7518, 'clinched': 7519, 'experiences': 7520, 'diana': 7521, 'combination': 7522, 'rodgers': 7523, 'mitsubishi': 7524, 'usual': 7525, 'linking': 7526, 'appropriate': 7527, 'scouts': 7528, 'nexus': 7529, 'delighted': 7530, 'jenkins': 7531, 'acknowledged': 7532, 'clinics': 7533, 'entrepreneurs': 7534, 'sailor': 7535, 'teeth': 7536, 'recognised': 7537, 'wilkinson': 7538, 'litre': 7539, 'khloe': 7540, 'liability': 7541, 'rage': 7542, 'sanaa': 7543, 'nickel': 7544, 'jeffrey': 7545, 'gloucester': 7546, 'thunderstorms': 7547, 'dutt': 7548, 'experiencing': 7549, 'tightened': 7550, 'subdued': 7551, 'prosperity': 7552, 'aware': 7553, 'cattle': 7554, 'mayoral': 7555, 'alarm': 7556, '104': 7557, 'saeed': 7558, 'algeria': 7559, 'characters': 7560, 'indictment': 7561, 'wet': 7562, 'wanderers': 7563, 'steroids': 7564, 'contestant': 7565, 'citi': 7566, 'anand': 7567, 'rank': 7568, 'trustees': 7569, 'astronauts': 7570, 'shocked': 7571, 'logan': 7572, 'directions': 7573, 'commuters': 7574, 'truly': 7575, 'specifically': 7576, 'sponsors': 7577, 'ton': 7578, 'belmont': 7579, 'ronson': 7580, 'slight': 7581, 'huffington': 7582, 'glory': 7583, 'reunite': 7584, 'interesting': 7585, 'maybe': 7586, 'flee': 7587, 'burger': 7588, 'mirza': 7589, 'webb': 7590, 'doubts': 7591, 'stalking': 7592, 'sum': 7593, 'wrap': 7594, 'recommends': 7595, 'garrett': 7596, 'tycoon': 7597, 'headline': 7598, 'denise': 7599, 'singersongwriter': 7600, 'lawn': 7601, 'matthews': 7602, 'alley': 7603, 'ftse': 7604, 'chrome': 7605, 'preparations': 7606, 'rory': 7607, 'statutory': 7608, 'khalifa': 7609, 'southampton': 7610, 'bible': 7611, 'mob': 7612, 'macau': 7613, 'abbey': 7614, 'namibia': 7615, 'uzbekistan': 7616, 'porsche': 7617, 'kerr': 7618, 'consortium': 7619, 'entrance': 7620, 'jackets': 7621, 'toshiba': 7622, 'immigrant': 7623, 'approaches': 7624, 'installation': 7625, 'mechanism': 7626, 'inches': 7627, 'greenback': 7628, 'airspace': 7629, 'clay': 7630, 'irene': 7631, 'physically': 7632, 'turnover': 7633, 'maldives': 7634, 'prop': 7635, 'jse': 7636, 'consolidate': 7637, 'strained': 7638, 'mw': 7639, 'valencia': 7640, 'seng': 7641, 'clegg': 7642, 'huntsman': 7643, 'triumph': 7644, 'entrepreneur': 7645, 'infamous': 7646, 'survivor': 7647, 'sometime': 7648, 'curtis': 7649, 'certainly': 7650, 'unilever': 7651, 'methods': 7652, 'tiny': 7653, 'coral': 7654, 'curfew': 7655, 'exceed': 7656, '32yearold': 7657, 'nearing': 7658, 'busted': 7659, 'angola': 7660, 'majors': 7661, 'sequel': 7662, 'signals': 7663, 'hussain': 7664, 'dock': 7665, 'junction': 7666, 'bonus': 7667, 'kunis': 7668, 'notices': 7669, '170': 7670, 'vale': 7671, 'penny': 7672, 'balanced': 7673, 'rupees': 7674, 'tanzania': 7675, 'canberra': 7676, 'gwyneth': 7677, 'paltrow': 7678, 'ethanol': 7679, 'intercontinental': 7680, 'exporter': 7681, 'org': 7682, 'urgent': 7683, 'fog': 7684, 'killings': 7685, 'shawn': 7686, 'congo': 7687, 'morrison': 7688, 'scared': 7689, 'fairfield': 7690, 'flooded': 7691, 'robust': 7692, 'vampire': 7693, 'animation': 7694, 'expresses': 7695, 'abraham': 7696, 'endangerment': 7697, 'fullback': 7698, 'paterno': 7699, 'thermal': 7700, 'array': 7701, 'payroll': 7702, 'disappeared': 7703, 'bearish': 7704, 'slumped': 7705, 'sabah': 7706, 'persistent': 7707, 'sitcom': 7708, 'touring': 7709, 'shrink': 7710, 'kickoff': 7711, 'isaac': 7712, 'reliable': 7713, 'automakers': 7714, 'islamist': 7715, 'hostages': 7716, '550': 7717, 'burnt': 7718, 'mls': 7719, 'reconstruction': 7720, 'enjoys': 7721, 'surpassed': 7722, 'messi': 7723, 'letterman': 7724, 'confirmation': 7725, 'rocked': 7726, 'sara': 7727, 'surgeon': 7728, 'treatments': 7729, 'error': 7730, 'strictly': 7731, 'conglomerate': 7732, 'arguing': 7733, 'minsk': 7734, 'kingfisher': 7735, 'monitors': 7736, 'remarkable': 7737, 'database': 7738, 'indicating': 7739, 'chandigarh': 7740, 'rutgers': 7741, 'tvs': 7742, 'tradition': 7743, 'samajwadi': 7744, 'neighbouring': 7745, 'magistrate': 7746, 'automatic': 7747, 'radcliffe': 7748, 'resistances': 7749, 'arabian': 7750, 'highlighting': 7751, 'whatever': 7752, 'neighbor': 7753, 'russians': 7754, 'spare': 7755, 'bride': 7756, 'factors': 7757, 'lokpal': 7758, 'kuwaiti': 7759, 'lodge': 7760, 'manner': 7761, 'millionaire': 7762, 'ehud': 7763, 'proof': 7764, 'sprained': 7765, 'leafs': 7766, 'jared': 7767, 'shiv': 7768, 'basin': 7769, 'discussing': 7770, 'nano': 7771, 'uncle': 7772, 'critic': 7773, 'baron': 7774, 'thirdquarter': 7775, 'courtroom': 7776, 'stays': 7777, 'levi': 7778, 'universitys': 7779, 'scholarship': 7780, 'roughly': 7781, 'honduras': 7782, 'embattled': 7783, 'anz': 7784, 'westwood': 7785, 'profitability': 7786, 'boise': 7787, 'dementia': 7788, 'eyed': 7789, 'treating': 7790, 'appreciation': 7791, 'rated': 7792, 'ana': 7793, 'nazi': 7794, 'warship': 7795, 'jaguar': 7796, 'dismissal': 7797, 'observers': 7798, 'suburbs': 7799, 'willie': 7800, 'cop': 7801, 'consideration': 7802, 'diane': 7803, 'correctional': 7804, 'visual': 7805, 'lists': 7806, 'richest': 7807, 'besides': 7808, 'chevrolet': 7809, 'respiratory': 7810, 'constituency': 7811, 'monster': 7812, 'highways': 7813, 'bermuda': 7814, 'guantanamo': 7815, 'fiance': 7816, 'impaired': 7817, 'certified': 7818, 'cleanup': 7819, 'pawlenty': 7820, 'uruguay': 7821, 'saga': 7822, 'middleweight': 7823, 'wachovia': 7824, 'kuala': 7825, 'visas': 7826, 'kurdish': 7827, 'allied': 7828, 'dentist': 7829, 'clarkson': 7830, 'nor': 7831, 'formerly': 7832, 'locker': 7833, 'attendant': 7834, 'biel': 7835, 'harm': 7836, 'wbc': 7837, 'monaco': 7838, 'mali': 7839, 'daniels': 7840, 'efron': 7841, 'commencement': 7842, 'fence': 7843, 'bracing': 7844, 'balls': 7845, 'waves': 7846, 'adventure': 7847, 'knoxville': 7848, 'serves': 7849, 'tube': 7850, 'hillsborough': 7851, 'canterbury': 7852, 'mayo': 7853, 'bottles': 7854, 'spectacular': 7855, 'inn': 7856, 'indigenous': 7857, 'derivatives': 7858, 'advisors': 7859, 'sergeant': 7860, 'slim': 7861, 'volvo': 7862, 'bases': 7863, 'xperia': 7864, 'stating': 7865, 'rico': 7866, 'injures': 7867, 'fraser': 7868, 'estimate': 7869, 'gerard': 7870, 'trash': 7871, 'relation': 7872, 'classroom': 7873, 'servants': 7874, 'vandalism': 7875, 'lansing': 7876, 'hospice': 7877, 'guys': 7878, 'sovereignty': 7879, 'colleague': 7880, 'opted': 7881, 'iphones': 7882, 'hangs': 7883, 'longawaited': 7884, 'founded': 7885, '27yearold': 7886, 'joan': 7887, 'bahraini': 7888, 'sienna': 7889, 'emily': 7890, 'pmln': 7891, 'felix': 7892, 'anchorage': 7893, 'poultry': 7894, 'indoor': 7895, 'tumble': 7896, 'ok': 7897, 'minorities': 7898, 'internationally': 7899, 'travolta': 7900, 'songwriter': 7901, 'hates': 7902, 'forever': 7903, 'cavendish': 7904, 'aggregate': 7905, 'demonstrations': 7906, 'safer': 7907, 'gradually': 7908, 'breathing': 7909, 'soviet': 7910, 'starter': 7911, 'redknapp': 7912, 'bhutto': 7913, 'cheaper': 7914, 'entertainer': 7915, 'trafford': 7916, 'ak': 7917, 'deepening': 7918, 'ugly': 7919, 'rao': 7920, 'watford': 7921, 'rid': 7922, 'achievements': 7923, 'transformation': 7924, 'salmonella': 7925, 'snoop': 7926, 'hewlettpackard': 7927, 'earl': 7928, '8th': 7929, 'smokers': 7930, 'stint': 7931, 'gateway': 7932, 'comcast': 7933, 'funny': 7934, 'treasure': 7935, 'klitschko': 7936, 'accelerate': 7937, 'husbands': 7938, 'croatia': 7939, 'lined': 7940, 'immunity': 7941, 'wesley': 7942, 'undergone': 7943, 'imaging': 7944, 'vegetables': 7945, 'pleasant': 7946, 'tonne': 7947, 'escalating': 7948, 'monument': 7949, 'hospitality': 7950, 'chess': 7951, 'pure': 7952, 'organisations': 7953, 'kamal': 7954, 'requirement': 7955, 'oval': 7956, 'srinagar': 7957, 'budgets': 7958, 'contrary': 7959, 'savannah': 7960, 'reactor': 7961, 'nonstop': 7962, 'ghost': 7963, 'accreditation': 7964, 'omalley': 7965, 'morocco': 7966, 'searched': 7967, 'depth': 7968, '02': 7969, 'arrivals': 7970, 'fare': 7971, 'dancer': 7972, 'breakaway': 7973, 'mln': 7974, 'represents': 7975, 'requires': 7976, 'realty': 7977, 'casting': 7978, 'showers': 7979, 'episodes': 7980, 'kit': 7981, 'beirut': 7982, 'wis': 7983, 'imminent': 7984, 'desire': 7985, 'firstround': 7986, 'musicians': 7987, 'stance': 7988, 'describes': 7989, 'attacker': 7990, 'muamba': 7991, 'chaudhry': 7992, 'loud': 7993, 'dipped': 7994, 'eli': 7995, 'recreation': 7996, 'motogp': 7997, 'actively': 7998, 'directing': 7999, 'underwear': 8000, 'pains': 8001, 'pray': 8002, 'mvp': 8003, 'generating': 8004, 'principle': 8005, 'vendors': 8006, 'goody': 8007, 'blunt': 8008, 'macquarie': 8009, 'atletico': 8010, 'elimination': 8011, 'bruised': 8012, 'dwi': 8013, 'obtain': 8014, 'mineral': 8015, 'diva': 8016, 'uprising': 8017, 'handsets': 8018, 'contemporary': 8019, 'gore': 8020, 'cabin': 8021, 'thefts': 8022, 'downloads': 8023, 'nationally': 8024, 'attracted': 8025, 'errors': 8026, 'bargaining': 8027, 'notorious': 8028, 'yeddyurappa': 8029, 'laboratories': 8030, 'item': 8031, 'highlight': 8032, 'expense': 8033, 'grabbed': 8034, 'gavin': 8035, 'bread': 8036, 'alzheimers': 8037, 'hassan': 8038, 'annually': 8039, '175': 8040, 'menu': 8041, '650': 8042, 'cleaning': 8043, 'skies': 8044, 'observe': 8045, 'tsx': 8046, 'persian': 8047, 'gunfire': 8048, 'zuckerberg': 8049, 'cory': 8050, 'disappointment': 8051, 'daytime': 8052, 'distance': 8053, 'doha': 8054, 'generations': 8055, 'atlantis': 8056, 'occupation': 8057, 'scout': 8058, 'virtually': 8059, 'follows': 8060, 'dividends': 8061, 'pharma': 8062, '60th': 8063, 'summers': 8064, 'aftermath': 8065, 'counting': 8066, 'odonnell': 8067, 'provisions': 8068, 'ups': 8069, 'spokane': 8070, 'taught': 8071, 'tunisian': 8072, 'bizarre': 8073, 'teaming': 8074, 'filling': 8075, 'alltime': 8076, 'motorist': 8077, 'toledo': 8078, 'controlling': 8079, 'decisive': 8080, 'rear': 8081, 'kay': 8082, 'brooke': 8083, 'pushes': 8084, 'hazardous': 8085, 'handing': 8086, 'clinch': 8087, 'meth': 8088, 'debris': 8089, 'protocol': 8090, 'statistical': 8091, 'libel': 8092, 'intoxication': 8093, 'evaluation': 8094, 'zimmerman': 8095, 'minors': 8096, 'shelves': 8097, 'desk': 8098, 'shetty': 8099, 'reiterates': 8100, 'rai': 8101, 'liberals': 8102, 'caucus': 8103, 'widens': 8104, 'productions': 8105, 'relationships': 8106, 'disturbance': 8107, 'duchess': 8108, 'greeces': 8109, 'sections': 8110, 'restoring': 8111, 'ibrahim': 8112, 'wholly': 8113, 'macon': 8114, 'tan': 8115, 'jiabao': 8116, 'laptops': 8117, 'adaptation': 8118, 'ecb': 8119, 'hindi': 8120, 'corporations': 8121, 'fragile': 8122, 'shriver': 8123, 'sack': 8124, 'indicate': 8125, 'derailed': 8126, 'protestors': 8127, 'carol': 8128, 'sewer': 8129, 'securing': 8130, 'committing': 8131, 'bangladeshi': 8132, 'contamination': 8133, 'indices': 8134, 'powered': 8135, '201213': 8136, 'lecture': 8137, 'rumor': 8138, 'waive': 8139, 'sort': 8140, '01': 8141, 'jermaine': 8142, 'shale': 8143, 'rampage': 8144, 'butt': 8145, 'grandfather': 8146, 'workshops': 8147, 'beloved': 8148, 'margins': 8149, 'trademark': 8150, 'midlands': 8151, 'gesture': 8152, 'odi': 8153, 'upheld': 8154, 'bse': 8155, '®': 8156, 'casualties': 8157, 'passage': 8158, 'migrant': 8159, 'comparison': 8160, 'cave': 8161, 'ambush': 8162, 'simmons': 8163, 'shannon': 8164, 'ossetia': 8165, 'alec': 8166, 'tomas': 8167, 'lies': 8168, 'fedex': 8169, 'accessories': 8170, 'tears': 8171, 'copa': 8172, 'gutted': 8173, 'bafana': 8174, 'reagan': 8175, 'seizure': 8176, '50yearold': 8177, 'kazakh': 8178, 'jenna': 8179, 'copyright': 8180, 'locals': 8181, 'suspending': 8182, 'yearold': 8183, 'carries': 8184, 'insight': 8185, 'syndrome': 8186, 'greenville': 8187, 'llp': 8188, 'destruction': 8189, 'debuts': 8190, 'katherine': 8191, 'reopening': 8192, 'deliberately': 8193, 'disgraced': 8194, 'polanski': 8195, 'airtran': 8196, 'exploitation': 8197, 'cohen': 8198, 'sounds': 8199, 'plunges': 8200, 'lea': 8201, 'ab': 8202, 're': 8203, 'larceny': 8204, 'montag': 8205, 'wooden': 8206, 'freezing': 8207, 'worcester': 8208, '850': 8209, 'obese': 8210, 'roethlisberger': 8211, 'soared': 8212, 'inform': 8213, 'shadow': 8214, 'divisions': 8215, '06': 8216, 'skilled': 8217, 'mediterranean': 8218, 'brave': 8219, 'responds': 8220, 'spreads': 8221, 'prayers': 8222, 'binghamton': 8223, 'activate': 8224, '12yearold': 8225, 'jude': 8226, 'incorporated': 8227, 'labourers': 8228, 'ammunition': 8229, 'headlines': 8230, '09': 8231, 'graffiti': 8232, 'disasters': 8233, 'albion': 8234, 'disrupt': 8235, 'bedroom': 8236, 'devon': 8237, 'polar': 8238, 'awaiting': 8239, 'protested': 8240, 'mich': 8241, 'detainees': 8242, 'paralympic': 8243, 'freestyle': 8244, 'pitching': 8245, 'bloc': 8246, 'sidney': 8247, 'barrymore': 8248, 'dissident': 8249, 'tariffs': 8250, 'antony': 8251, 'testimony': 8252, 'madoff': 8253, 'scholarships': 8254, 'mcdonalds': 8255, 'divided': 8256, 'rooms': 8257, 'flexible': 8258, 'hearings': 8259, 'alice': 8260, 'psychiatric': 8261, 'basket': 8262, 'respects': 8263, 'lodged': 8264, 'havent': 8265, 'jessie': 8266, 'outlet': 8267, 'icici': 8268, 'automated': 8269, '102': 8270, 'ria': 8271, 'alonso': 8272, 'impressed': 8273, 'attitude': 8274, 'lowcost': 8275, 'delegates': 8276, 'evil': 8277, 'lautner': 8278, 'cal': 8279, 'harsh': 8280, 'panetta': 8281, 'denying': 8282, 'mgm': 8283, 'gabriel': 8284, 'minerals': 8285, 'blogger': 8286, 'embezzling': 8287, 'hurley': 8288, 'followers': 8289, 'boxes': 8290, 'amongst': 8291, 'hague': 8292, 'galway': 8293, 'incentive': 8294, 'rouge': 8295, 'tornadoes': 8296, 'aurora': 8297, 'rescuers': 8298, 'georges': 8299, 'fourday': 8300, 'shirley': 8301, 'aquino': 8302, '220': 8303, 'qualifiers': 8304, 'groundbreaking': 8305, 'articles': 8306, 'camden': 8307, 'klum': 8308, 'duff': 8309, 'arcelormittal': 8310, 'massa': 8311, 'alexandra': 8312, 'mentor': 8313, 'socialist': 8314, 'groupon': 8315, '2003': 8316, 'amir': 8317, 'bulk': 8318, 'sinking': 8319, 'renewal': 8320, 'physicians': 8321, 'learnt': 8322, 'graphic': 8323, 'uss': 8324, 'injunction': 8325, 'grains': 8326, 'colon': 8327, 'zurich': 8328, 'negotiate': 8329, 'ensuring': 8330, 'blockade': 8331, 'aging': 8332, 'forests': 8333, 'impossible': 8334, 'closures': 8335, 'landlord': 8336, 'corning': 8337, 'radar': 8338, 'paving': 8339, 'heathrow': 8340, 'karan': 8341, 'honolulu': 8342, '201011': 8343, 'afc': 8344, 'automobile': 8345, 'harlem': 8346, 'warships': 8347, 'guarantees': 8348, 'cellphone': 8349, 'spark': 8350, 'wifes': 8351, 'sandusky': 8352, 'screens': 8353, 'phillip': 8354, 'donor': 8355, 'volumes': 8356, 'gill': 8357, 'ulster': 8358, 'comfort': 8359, 'panda': 8360, 'supervisors': 8361, 'machinery': 8362, 'snyder': 8363, 'ind': 8364, 'java': 8365, 'borrowers': 8366, 'booming': 8367, 'cease': 8368, 'cumberland': 8369, 'gadhafi': 8370, 'lumpur': 8371, 'outgoing': 8372, 'portman': 8373, 'pedro': 8374, 'shower': 8375, 'onevehicle': 8376, 'salon': 8377, 'concentrate': 8378, 'novosti': 8379, 'snowmobile': 8380, 'knights': 8381, 'boutique': 8382, 'fisheries': 8383, 'auditorium': 8384, 'commuter': 8385, 'downing': 8386, 'flick': 8387, 'legends': 8388, 'transfers': 8389, 'collide': 8390, 'googles': 8391, 'strange': 8392, 'sao': 8393, 'instant': 8394, 'transform': 8395, 'chambers': 8396, 'havana': 8397, 'commons': 8398, 'sailors': 8399, 'purse': 8400, 'blaming': 8401, 'embezzlement': 8402, 'alba': 8403, 'fannie': 8404, 'narcotics': 8405, 'poet': 8406, '35yearold': 8407, 'widow': 8408, 'hogan': 8409, 'regret': 8410, 'directorial': 8411, 'bikini': 8412, 'hyundai': 8413, 'instructor': 8414, 'mrs': 8415, 'slovakia': 8416, 'obsessed': 8417, 'enemy': 8418, 'provision': 8419, 'loyal': 8420, 'medalist': 8421, 'incredible': 8422, 'nassau': 8423, 'concessions': 8424, 'rebecca': 8425, 'baton': 8426, 'conversation': 8427, 'theaters': 8428, 'settlers': 8429, 'peruvian': 8430, 'brunswick': 8431, 'owens': 8432, 'disclosure': 8433, 'shifted': 8434, 'iris': 8435, 'sheboygan': 8436, 'olivia': 8437, 'bt': 8438, 'focuses': 8439, 'jamaican': 8440, 'seri': 8441, 'qld': 8442, 'gerrard': 8443, 'en': 8444, 'attends': 8445, 'height': 8446, 'burden': 8447, 'rewards': 8448, 'transparent': 8449, 'eminem': 8450, '201112': 8451, 'towers': 8452, 'attracting': 8453, 'impersonating': 8454, 'raided': 8455, 'crist': 8456, 'anaheim': 8457, 'listen': 8458, 'lafayette': 8459, 'leone': 8460, 'plug': 8461, 'whip': 8462, 'dining': 8463, 'killers': 8464, 'pratibha': 8465, 'unanimous': 8466, 'candidacy': 8467, 'clearly': 8468, 'conan': 8469, 'hepatitis': 8470, 'shrank': 8471, 'mayors': 8472, 'movements': 8473, 'bow': 8474, 'implications': 8475, 'campaigning': 8476, '28th': 8477, 'panama': 8478, 'abandon': 8479, 'supermarkets': 8480, 'refuge': 8481, 'mid': 8482, '22nd': 8483, 'anywhere': 8484, 'calf': 8485, 'burglars': 8486, 'lovers': 8487, 'albania': 8488, 'achieving': 8489, 'outreach': 8490, 'augusta': 8491, 'jubilee': 8492, 'otherwise': 8493, 'dustin': 8494, 'narrowed': 8495, 'triggering': 8496, 'inventory': 8497, 'bestselling': 8498, 'ideal': 8499, 'payable': 8500, 'hayes': 8501, 'cables': 8502, '39yearold': 8503, 'kia': 8504, 'fiber': 8505, 'zach': 8506, 'quietly': 8507, 'connections': 8508, 'wrapped': 8509, 'belgrade': 8510, 'airasia': 8511, 'chandler': 8512, 'par': 8513, 'rawalpindi': 8514, 'vitamin': 8515, 'noting': 8516, 'curry': 8517, 'smallest': 8518, 'dundee': 8519, 'yang': 8520, 'coroners': 8521, 'lashes': 8522, 'ma': 8523, 'indicators': 8524, 'liquid': 8525, 'shifting': 8526, 'wembley': 8527, 'nate': 8528, 'explorer': 8529, 'freeman': 8530, 'lindsey': 8531, 'punk': 8532, 'blown': 8533, 'sas': 8534, 'shiite': 8535, 'salisbury': 8536, 'farming': 8537, 'totally': 8538, 'livestock': 8539, 'lucknow': 8540, 'churches': 8541, 'holly': 8542, 'marched': 8543, 'doctorate': 8544, 'moratorium': 8545, 'seth': 8546, 'meredith': 8547, 'judgment': 8548, 'integrate': 8549, 'scrutiny': 8550, 'shia': 8551, 'knocks': 8552, 'assess': 8553, 'manipur': 8554, 'inch': 8555, 'shake': 8556, 'viewing': 8557, 'borrow': 8558, 'kindle': 8559, 'donovan': 8560, 'rodney': 8561, 'staples': 8562, 'knockout': 8563, 'affects': 8564, 'neighboring': 8565, '4s': 8566, 'homer': 8567, 'prefers': 8568, 'elects': 8569, 'pumps': 8570, 'piper': 8571, 'attached': 8572, 'demolished': 8573, 'belonging': 8574, 'paint': 8575, 'mayawati': 8576, 'absolute': 8577, 'enables': 8578, 'sears': 8579, 'complained': 8580, 'bias': 8581, 'donors': 8582, 'se': 8583, 'continuous': 8584, 'mickey': 8585, 'sands': 8586, 'obligations': 8587, 'amsterdam': 8588, 'heres': 8589, 'oneill': 8590, 'supervision': 8591, 'hungry': 8592, 'guinness': 8593, 'composite': 8594, 'lure': 8595, 'extradited': 8596, 'scratched': 8597, 'spate': 8598, 'inspectors': 8599, 'barred': 8600, 'kilometres': 8601, 'mozambique': 8602, 'newsday': 8603, 'freak': 8604, 'canton': 8605, 'yourself': 8606, 'exploring': 8607, 'examine': 8608, 'murderer': 8609, 'scherzinger': 8610, 'heated': 8611, '13yearold': 8612, 'turnout': 8613, 'dana': 8614, 'visitor': 8615, 'bulldogs': 8616, 'backdrop': 8617, '1970s': 8618, 'msnbc': 8619, 'abdominal': 8620, 'burton': 8621, 'venus': 8622, 'brewer': 8623, 'stakeholders': 8624, 'eleven': 8625, 'extremists': 8626, 'buenos': 8627, 'aires': 8628, 'negligent': 8629, 'gearing': 8630, 'hung': 8631, 'builds': 8632, 'reductions': 8633, 'relatively': 8634, 'tenants': 8635, 'bahamas': 8636, 'interviewed': 8637, 'cosmetic': 8638, 'convinced': 8639, 'boot': 8640, 'alcoholic': 8641, 'melissa': 8642, 'afridi': 8643, 'breaching': 8644, 'dumping': 8645, 'vaccines': 8646, 'cleric': 8647, 'worsening': 8648, 'mcilroy': 8649, 'discipline': 8650, 'reaffirmed': 8651, 'immune': 8652, 'pepper': 8653, 'allamerican': 8654, 'washing': 8655, 'intensified': 8656, 'collections': 8657, 'benghazi': 8658, 'laureate': 8659, 'biological': 8660, 'harder': 8661, 'patterson': 8662, 'joke': 8663, 'forestry': 8664, 'furious': 8665, 'metric': 8666, 'corey': 8667, 'outcome': 8668, 'expires': 8669, 'historian': 8670, 'conflicts': 8671, 'breached': 8672, 'sophomore': 8673, 'lagos': 8674, 'beck': 8675, 'steals': 8676, 'drones': 8677, 'rotary': 8678, 'banner': 8679, 'freezes': 8680, 'johan': 8681, 'refuse': 8682, 'conway': 8683, 'brazils': 8684, 'asda': 8685, 'hulk': 8686, 'establishes': 8687, 'divers': 8688, 'collides': 8689, 'upward': 8690, 'partnerships': 8691, 'bon': 8692, 'multinational': 8693, 'experimental': 8694, 'liberation': 8695, 'neither': 8696, 'shahbaz': 8697, 'aleague': 8698, 'novelist': 8699, 'memoir': 8700, 'medication': 8701, 'backyard': 8702, 'conferences': 8703, 'affirmed': 8704, 'deepen': 8705, 'issuer': 8706, 'hacker': 8707, 'ritchie': 8708, 'copies': 8709, 'marina': 8710, 'longrunning': 8711, 'tab': 8712, 'bentley': 8713, 'passion': 8714, 'beverage': 8715, 'roommate': 8716, 'solomon': 8717, 'preventing': 8718, 'methodist': 8719, 'arbor': 8720, 'color': 8721, 'g20': 8722, 'owes': 8723, 'bullying': 8724, 'successive': 8725, 'elsewhere': 8726, 'mtn': 8727, 'moose': 8728, 'wba': 8729, 'crow': 8730, 'chapel': 8731, 'processor': 8732, 'apologise': 8733, 'ole': 8734, 'weeklong': 8735, 'types': 8736, 'leigh': 8737, 'oral': 8738, 'nixon': 8739, 'byrd': 8740, 'roland': 8741, 'onetime': 8742, 'rahman': 8743, 'stunned': 8744, 'ahmedabad': 8745, 'nigel': 8746, 'autobiography': 8747, 'spots': 8748, 'specialists': 8749, '40yearold': 8750, 'overwhelming': 8751, 'reflect': 8752, 'appetite': 8753, 'drain': 8754, 'boca': 8755, 'witnessed': 8756, 'touching': 8757, 'honoring': 8758, 'stray': 8759, '111': 8760, 'deemed': 8761, '9th': 8762, 'shepherd': 8763, '10year': 8764, 'carpenter': 8765, 'leaf': 8766, 'paypal': 8767, 'soar': 8768, 'shoaib': 8769, 'ranbir': 8770, 'sight': 8771, 'ronald': 8772, 'patience': 8773, 'yankee': 8774, '2018': 8775, 'pepsico': 8776, 'dominant': 8777, '38yearold': 8778, 'trim': 8779, 'lithuania': 8780, 'collecting': 8781, 'lewd': 8782, 'dual': 8783, 'roddick': 8784, 'lover': 8785, 'sevilla': 8786, 'personally': 8787, 'mainstream': 8788, 'piers': 8789, 'mri': 8790, 'letting': 8791, 'splash': 8792, '112': 8793, 'holocaust': 8794, 'marilyn': 8795, 'aliens': 8796, 'â€': 8797, 'emails': 8798, 'venues': 8799, 'jindal': 8800, 'fletcher': 8801, 'alexandria': 8802, 'viral': 8803, 'overwhelmingly': 8804, 'lifting': 8805, 'splitting': 8806, 'balloon': 8807, 'snake': 8808, 'hai': 8809, 'tightening': 8810, '5m': 8811, 'buck': 8812, 'flies': 8813, '5bn': 8814, 'von': 8815, 'slashes': 8816, 'sinks': 8817, 'lng': 8818, 'fingers': 8819, 'intelligent': 8820, 'eastman': 8821, 'detailed': 8822, 'audiences': 8823, 'whilst': 8824, 'sprinter': 8825, 'fulltime': 8826, 'conversion': 8827, 'junk': 8828, 'stallone': 8829, 'batteries': 8830, 'unsecured': 8831, 'pepsi': 8832, 'jc': 8833, 'substitute': 8834, 'verge': 8835, 'julius': 8836, '98': 8837, 'swimmer': 8838, 'breakdown': 8839, 'emission': 8840, 'preview': 8841, 'amended': 8842, 'outskirts': 8843, 'didier': 8844, 'indication': 8845, 'keeper': 8846, 'secretarygeneral': 8847, 'console': 8848, 'purchasing': 8849, 'lauderdale': 8850, 'please': 8851, 'establishing': 8852, 'linda': 8853, 'asiapacific': 8854, 'bacteria': 8855, 'twist': 8856, 'sotomayor': 8857, 'ramesh': 8858, 'antitrust': 8859, 'jj': 8860, 'crushing': 8861, 'milton': 8862, 'publics': 8863, 'banker': 8864, 'girlfriends': 8865, 'trips': 8866, 'balochistan': 8867, 'schalke': 8868, '280': 8869, 'pike': 8870, '24th': 8871, 'tina': 8872, 'biotechnology': 8873, 'invite': 8874, 'sewage': 8875, 'victorias': 8876, 'categories': 8877, 'aloud': 8878, 'chasing': 8879, 'forgery': 8880, '135': 8881, 'shortterm': 8882, 'lk': 8883, 'truce': 8884, 'ep': 8885, 'airplane': 8886, 'hurdle': 8887, 'ordinance': 8888, 'mouse': 8889, 'snack': 8890, 'grey': 8891, 'trainers': 8892, 'choices': 8893, 'bald': 8894, 'reshuffle': 8895, 'deepika': 8896, 'gotten': 8897, 'ubisoft': 8898, 'spelling': 8899, 'improper': 8900, 'highland': 8901, 'acc': 8902, 'lpga': 8903, 'intentionally': 8904, 'slashing': 8905, 'knightley': 8906, 'accord': 8907, 'rosa': 8908, 'shelf': 8909, 'clara': 8910, 'meltdown': 8911, 'egg': 8912, 'rejoin': 8913, 'custom': 8914, 'fertilizer': 8915, 'licensed': 8916, 'bicyclist': 8917, 'carla': 8918, 'dictator': 8919, 'architect': 8920, 'notebook': 8921, 'checking': 8922, 'braced': 8923, 'interviews': 8924, 'fundamental': 8925, 'oversight': 8926, 'drills': 8927, 'wildfires': 8928, 'davies': 8929, 'memories': 8930, 'browser': 8931, '3m': 8932, 'predators': 8933, 'collapsing': 8934, 'chesapeake': 8935, 'tide': 8936, 'booker': 8937, 'upto': 8938, 'dominate': 8939, 'intensify': 8940, 'aground': 8941, 'shilpa': 8942, 'stupid': 8943, 'havoc': 8944, 'misleading': 8945, 'patricks': 8946, 'apollo': 8947, 'sbi': 8948, 'flows': 8949, 'ilham': 8950, 'surrounded': 8951, 'patrols': 8952, 'ballet': 8953, 'haley': 8954, 'avoiding': 8955, 'repurchase': 8956, 'touches': 8957, 'au': 8958, 'everywhere': 8959, 'lilly': 8960, 'astana': 8961, 'hobbit': 8962, 'crowds': 8963, 'happening': 8964, 'demonstrate': 8965, 'stamps': 8966, 'valuation': 8967, 'rodham': 8968, 'tense': 8969, 'stimulate': 8970, 'neighbour': 8971, 'slapped': 8972, 'situations': 8973, 'interface': 8974, 'xavier': 8975, 'cautioned': 8976, 'surgical': 8977, 'hardy': 8978, 'y/y': 8979, 'relevant': 8980, 'firearm': 8981, 'corrections': 8982, 'bite': 8983, 'exboyfriend': 8984, 'heineken': 8985, 'norton': 8986, 'pleas': 8987, 'prolific': 8988, 'bismarck': 8989, 'quincy': 8990, 'pupil': 8991, 'catching': 8992, 'artificial': 8993, 'ukbased': 8994, 'ti': 8995, 'principles': 8996, 'scenario': 8997, 'youngster': 8998, 'slugger': 8999, 'math': 9000, 'oj': 9001, 'disposal': 9002, 'acted': 9003, 'importing': 9004, 'terrible': 9005, '07': 9006, 'root': 9007, '1960s': 9008, 'mickelson': 9009, 'commitments': 9010, 'adobe': 9011, 'literature': 9012, '190': 9013, 'eliminating': 9014, '31st': 9015, '106': 9016, 'sussex': 9017, 'afghans': 9018, 'fantastic': 9019, 'pieces': 9020, 'waterloo': 9021, 'dawson': 9022, 'competitors': 9023, 'measuring': 9024, 'appalachian': 9025, 'benson': 9026, 'stan': 9027, 'runners': 9028, 'cardiovascular': 9029, 'contention': 9030, 'jenny': 9031, 'multimedia': 9032, 'naples': 9033, 'porter': 9034, 'reversing': 9035, 'weighing': 9036, 'kissing': 9037, 'lille': 9038, 'lesson': 9039, 'taxation': 9040, 'pacers': 9041, 'evolution': 9042, 'belief': 9043, 'lockheed': 9044, 'deserves': 9045, 'helm': 9046, 'cis': 9047, 'pork': 9048, 'leighton': 9049, 'monte': 9050, 'topeka': 9051, 'flower': 9052, 'boating': 9053, 'meal': 9054, 'eager': 9055, 'pyongyang': 9056, 'graphics': 9057, 'dale': 9058, 'seemed': 9059, 'destroying': 9060, 'pensioners': 9061, 'fidel': 9062, 'bloom': 9063, 'flintoff': 9064, 'akhtar': 9065, 'overturns': 9066, 'jam': 9067, 'fault': 9068, 'appliances': 9069, 'intimate': 9070, 'contributed': 9071, 'anticorruption': 9072, 'handful': 9073, 'mercantile': 9074, 'regina': 9075, 'modified': 9076, 'saskatoon': 9077, 'cheltenham': 9078, 'consultants': 9079, 'hon': 9080, 'jews': 9081, 'spiderman': 9082, 'cafe': 9083, 'upsets': 9084, 'cork': 9085, 'eden': 9086, 'colbert': 9087, 'africans': 9088, 'antidoping': 9089, 'donating': 9090, 'leonard': 9091, 'inaugurates': 9092, 'sultan': 9093, 'prevented': 9094, 'ballistic': 9095, 'oconnor': 9096, 'tunnel': 9097, 'starred': 9098, 'karunanidhi': 9099, 'corridor': 9100, 'highlands': 9101, 'deeply': 9102, 'paulson': 9103, 'highlighted': 9104, 'geological': 9105, 'northampton': 9106, 'lotus': 9107, 'stephanie': 9108, 'yearonyear': 9109, 'blocking': 9110, 'deliveries': 9111, 'hitachi': 9112, 'chains': 9113, 'manufacture': 9114, 'tier': 9115, 'funded': 9116, 'jacobs': 9117, 'bypass': 9118, 'loyalty': 9119, 'twovehicle': 9120, 'respective': 9121, 'tomorrows': 9122, 'jaime': 9123, 'testified': 9124, 'fx': 9125, 'rumored': 9126, 'optical': 9127, 'detect': 9128, 'downward': 9129, 'firstever': 9130, 'dish': 9131, 'livingston': 9132, 'goodbye': 9133, 'pakistanis': 9134, 'diverted': 9135, 'dunn': 9136, 'shropshire': 9137, 'pocket': 9138, 'theory': 9139, 'thatcher': 9140, 'properly': 9141, 'kylie': 9142, 'undefeated': 9143, 'oilers': 9144, 'wolfsburg': 9145, 'priorities': 9146, 'darling': 9147, 'animated': 9148, 'caterpillar': 9149, 'phelps': 9150, 'handgun': 9151, 'roses': 9152, 'rides': 9153, '£2': 9154, 'marvel': 9155, 'affiliated': 9156, 'frequent': 9157, 'bullets': 9158, 'senegal': 9159, 'observer': 9160, 'commence': 9161, 'horry': 9162, 'dramatically': 9163, 'prisons': 9164, 'disability': 9165, 'contador': 9166, 'dealt': 9167, '45yearold': 9168, 'supervisor': 9169, 'jill': 9170, 'ariz': 9171, 'malibu': 9172, 'bynes': 9173, 'lucrative': 9174, 'subsidy': 9175, 'turtle': 9176, 'hitler': 9177, 'fraudulent': 9178, 'bachelor': 9179, 'designate': 9180, 'topic': 9181, 'prof': 9182, 'sparking': 9183, 'nicholas': 9184, 'mercer': 9185, 'weigh': 9186, 'telangana': 9187, 'vast': 9188, 'eclipse': 9189, 'module': 9190, 'salesforce': 9191, 'jokes': 9192, 'slalom': 9193, 'jackman': 9194, 'nike': 9195, 'hottest': 9196, 'knocking': 9197, 'revamped': 9198, 'pitched': 9199, 'nvidia': 9200, 'brewing': 9201, 'cult': 9202, 'literacy': 9203, 'firsthalf': 9204, 'frontline': 9205, 'imagine': 9206, 'lap': 9207, 'gareth': 9208, 'filmed': 9209, 'vmware': 9210, 'goodman': 9211, 'pcs': 9212, 'hop': 9213, 'auctioned': 9214, 'convoy': 9215, 'ipads': 9216, 'finalized': 9217, 'mcdonnell': 9218, 'noida': 9219, 'rss': 9220, 'partly': 9221, 'conditioning': 9222, 'seasonally': 9223, 'gears': 9224, 'aishwarya': 9225, 'boyd': 9226, 'flowers': 9227, 'fabrice': 9228, 'halts': 9229, 'elephants': 9230, 'mahendra': 9231, '7:30': 9232, 'searches': 9233, 'asias': 9234, 'electrocuted': 9235, 'amendments': 9236, 'aust': 9237, 'rivera': 9238, 'landscape': 9239, 'wrongful': 9240, 'pearson': 9241, 'lancashire': 9242, 'basu': 9243, 'magazines': 9244, 'surf': 9245, 'advocacy': 9246, 'delaying': 9247, 'languages': 9248, 'favourites': 9249, 'cpi': 9250, 'peer': 9251, 'ravi': 9252, 'paribas': 9253, 'wouldbe': 9254, 'pared': 9255, 'limiting': 9256, 'limerick': 9257, 'raceway': 9258, 'grande': 9259, 'brigade': 9260, 'background': 9261, 'conclusion': 9262, 'enrollment': 9263, 'politically': 9264, 'promoter': 9265, 'commemorate': 9266, 'eugene': 9267, 'marred': 9268, 'separated': 9269, 'lehigh': 9270, 'fiancee': 9271, 'osce': 9272, 'amateur': 9273, 'abhishek': 9274, 'aka': 9275, 'usher': 9276, 'forget': 9277, 'tone': 9278, 'nairobi': 9279, 'barrett': 9280, 'submarine': 9281, 'touchdown': 9282, 'ala': 9283, 'belong': 9284, 'imperial': 9285, 'modestly': 9286, '230': 9287, 'employed': 9288, 'everybody': 9289, 'impending': 9290, 'defrauding': 9291, '240': 9292, 'gibb': 9293, 'powder': 9294, 'expression': 9295, 'relieved': 9296, '£5': 9297, 'icy': 9298, 'opt': 9299, 'niger': 9300, 'premiums': 9301, 'tenure': 9302, 'warplanes': 9303, 'concord': 9304, 'unmanned': 9305, 'runaway': 9306, 'promotional': 9307, 'lengthy': 9308, 'containers': 9309, 'footprint': 9310, 'wrestler': 9311, 'catastrophic': 9312, '11yearold': 9313, 'styles': 9314, 'brilliant': 9315, 'paraguay': 9316, 'threetime': 9317, 'sacred': 9318, 'bean': 9319, 'arroyo': 9320, 'kashmiri': 9321, 'vegetable': 9322, 'salvador': 9323, 'supposed': 9324, 'hotspur': 9325, 'trinamool': 9326, 'coldplay': 9327, 'wbo': 9328, 'cairn': 9329, 'vonn': 9330, 'greens': 9331, 'iraqs': 9332, 'lend': 9333, 'est': 9334, 'dixon': 9335, 'participated': 9336, 'betterthanexpected': 9337, 'humane': 9338, 'trent': 9339, 'tired': 9340, 'schmidt': 9341, 'seals': 9342, 'costing': 9343, 'divorced': 9344, 'kourtney': 9345, 'woody': 9346, 'hints': 9347, 'technological': 9348, 'hazard': 9349, 'bigg': 9350, 'calvin': 9351, 'intoxicated': 9352, 'shelton': 9353, 'candlestick': 9354, 'gurgaon': 9355, 'sword': 9356, 'talented': 9357, 'rabies': 9358, 'cohost': 9359, 'ft': 9360, 'weaken': 9361, 'postpone': 9362, 'credited': 9363, 'hook': 9364, 'reinstate': 9365, 'martha': 9366, 'conceded': 9367, 'oriental': 9368, 'prostitute': 9369, 'stormed': 9370, 'fortune': 9371, 'uc': 9372, 'osborne': 9373, 'barker': 9374, 'cheese': 9375, 'snowden': 9376, 'missions': 9377, 'tongue': 9378, 'tariff': 9379, 'colour': 9380, 'tumour': 9381, 'seizes': 9382, 'wore': 9383, 'webinar': 9384, 'averages': 9385, 'revoked': 9386, 'upstate': 9387, 'suarez': 9388, 'meyer': 9389, 'mosquito': 9390, 'petty': 9391, 'habitat': 9392, 'beam': 9393, 'captures': 9394, 'iv': 9395, 'shipment': 9396, 'enemies': 9397, 'enrichment': 9398, 'mammoth': 9399, 'kane': 9400, 'soup': 9401, 'goalless': 9402, '03': 9403, 'consultations': 9404, 'poster': 9405, 'steering': 9406, 'appearances': 9407, 'prolonged': 9408, 'administrations': 9409, 'ramadan': 9410, 'extinction': 9411, 'jerome': 9412, 'cousins': 9413, 'halfway': 9414, 'migration': 9415, 'putnam': 9416, 'yorkbased': 9417, '33yearold': 9418, 'underlying': 9419, 'ranging': 9420, 'aretha': 9421, 'edwin': 9422, '108': 9423, 'moammar': 9424, 'discounts': 9425, 'sutherland': 9426, 'polio': 9427, 'drowning': 9428, 'organ': 9429, 'billings': 9430, 'boone': 9431, 'publicity': 9432, 'sellers': 9433, 'gamble': 9434, 'booth': 9435, 'rainy': 9436, 'pictured': 9437, 'abcs': 9438, 'tactics': 9439, 'duck': 9440, 'gcc': 9441, 'barely': 9442, 'surprisingly': 9443, 'restrict': 9444, 'chairperson': 9445, 'burmese': 9446, 'reactors': 9447, 'shahrukh': 9448, 'paramedics': 9449, 'yusuf': 9450, 'sikh': 9451, 'cooling': 9452, '08': 9453, 'eggs': 9454, 'gangs': 9455, 'speedy': 9456, 'tune': 9457, 'inked': 9458, 'playground': 9459, 'conspiring': 9460, 'slot': 9461, 'alumni': 9462, 'ipswich': 9463, 'jacksons': 9464, 'diversity': 9465, 'timing': 9466, 'atp': 9467, 'choppy': 9468, 'engulfing': 9469, 'dealerships': 9470, 'builders': 9471, 'credible': 9472, 'lucie': 9473, 'selloff': 9474, 'berkshire': 9475, 'sealed': 9476, 'surging': 9477, 'surfaced': 9478, 'khyber': 9479, 'huawei': 9480, 'patriot': 9481, 'keira': 9482, 'bosnia': 9483, 'dirt': 9484, 'prodemocracy': 9485, 'quentin': 9486, 'pill': 9487, 'supplements': 9488, 'onboard': 9489, 'tournaments': 9490, 'chan': 9491, 'desmond': 9492, 'boulder': 9493, 'cricketers': 9494, 'lisbon': 9495, 'belarusian': 9496, 'stab': 9497, 'liz': 9498, 'caucasus': 9499, 'chevron': 9500, 'paternity': 9501, 'webcast': 9502, 'marvin': 9503, 'clint': 9504, 'dust': 9505, '47yearold': 9506, 'examination': 9507, 'locally': 9508, 'pan': 9509, 'slaying': 9510, 'alcoa': 9511, 'grab': 9512, 'powerball': 9513, 'miracle': 9514, 'deeper': 9515, 'bishops': 9516, 'extremism': 9517, 'kendra': 9518, 'contracted': 9519, 'keane': 9520, 'bidding': 9521, 'knock': 9522, 'condolences': 9523, 'imposes': 9524, 'naming': 9525, 'achieves': 9526, 'timberwolves': 9527, 'adequate': 9528, 'imposing': 9529, 'correct': 9530, 'yanukovych': 9531, 'bethlehem': 9532, 'institutes': 9533, 'dynamo': 9534, 'threegame': 9535, 'complaining': 9536, 'demonstrated': 9537, 'timor': 9538, 'sylvester': 9539, 'soybean': 9540, 'tables': 9541, 'hancock': 9542, 'troubles': 9543, '107': 9544, 'duet': 9545, 'grandson': 9546, 'physician': 9547, 'cnbc': 9548, 'rainbow': 9549, 'militia': 9550, 'leno': 9551, 'beau': 9552, 'therapeutics': 9553, 'owing': 9554, 'victories': 9555, 'elena': 9556, 'budapest': 9557, 'kochi': 9558, 'aluminum': 9559, 'millennium': 9560, 'lifeline': 9561, 'festivals': 9562, 'luncheon': 9563, 'investigator': 9564, 'reply': 9565, 'bursa': 9566, 'epidemic': 9567, 'monoxide': 9568, 'colony': 9569, 'indy': 9570, 'diversified': 9571, 'twoweek': 9572, 'literally': 9573, 'mask': 9574, 'mice': 9575, 'brutally': 9576, 'moreno': 9577, 'airstrike': 9578, 'guaranteed': 9579, 'forged': 9580, 'snowfall': 9581, 'palo': 9582, 'primetime': 9583, 'confidential': 9584, 'mirror': 9585, 'driveway': 9586, 'none': 9587, 'clijsters': 9588, 'thrashers': 9589, 'decreased': 9590, 'circus': 9591, 'straw': 9592, 'steele': 9593, 'mitch': 9594, 'middletown': 9595, 'brit': 9596, 'auctions': 9597, 'ligament': 9598, 'finalist': 9599, 'ultimately': 9600, 'pedestrians': 9601, 'righthanded': 9602, 'mcdonald': 9603, 'looming': 9604, 'ear': 9605, 'exceeded': 9606, 'spying': 9607, 'competitiveness': 9608, 'exist': 9609, 'mideast': 9610, 'anticipation': 9611, 'seafood': 9612, 'penelope': 9613, 'payne': 9614, 'rescheduled': 9615, '41yearold': 9616, 'webster': 9617, 'varsity': 9618, 'umpire': 9619, 'skier': 9620, 'spared': 9621, 'surgeons': 9622, 'dev': 9623, 'smartrends': 9624, 'merit': 9625, 'irelands': 9626, 'unlimited': 9627, 'supplement': 9628, 'lamar': 9629, 'dannii': 9630, 'mahama': 9631, 'samoa': 9632, 'cornwall': 9633, 'copenhagen': 9634, 'surges': 9635, 'processors': 9636, 'pawar': 9637, 'grades': 9638, 'orthodox': 9639, 'negotiators': 9640, 'commenced': 9641, 'acceptance': 9642, 'contaminated': 9643, 'pursuing': 9644, 'norms': 9645, 'quota': 9646, 'santana': 9647, 'axis': 9648, 'flame': 9649, 'gp': 9650, 'lunar': 9651, 'ancelotti': 9652, 'lingerie': 9653, 'grizzlies': 9654, 'capsizes': 9655, 'bronx': 9656, 'vetoes': 9657, 'breaches': 9658, 'shakes': 9659, 'batman': 9660, 'viktor': 9661, 'chhattisgarh': 9662, 'q': 9663, 'aggression': 9664, 'dragging': 9665, 'uniforms': 9666, 'rematch': 9667, 'brighton': 9668, 'disclose': 9669, 'sgt': 9670, 'fastgrowing': 9671, 'jurors': 9672, 'contributing': 9673, 'wellness': 9674, 'sk': 9675, 'crusaders': 9676, 'wardrobe': 9677, 'dynamic': 9678, 'isolated': 9679, 'bolivia': 9680, 'youve': 9681, 'colonel': 9682, 'costcutting': 9683, 'precision': 9684, 'gupta': 9685, 'ajay': 9686, 'mentioned': 9687, 'vigil': 9688, 'q1': 9689, 'butter': 9690, 'overtake': 9691, 'mahinda': 9692, 'grammer': 9693, 'shelters': 9694, 'unwanted': 9695, 'cartoon': 9696, 'entirely': 9697, 'pavilion': 9698, 'versions': 9699, 'twenty': 9700, 'darfur': 9701, 'sixmonth': 9702, 'landfall': 9703, 'eyeing': 9704, 'sai': 9705, 'fullyear': 9706, 'aj': 9707, 'bernardino': 9708, 'strauss': 9709, 'wonderful': 9710, 'diplomacy': 9711, 'mirren': 9712, 'synthetic': 9713, 'unveiling': 9714, 'amar': 9715, 'realtime': 9716, 'troop': 9717, 'bribes': 9718, 'lara': 9719, 'prasad': 9720, 'downgrade': 9721, 'expenditure': 9722, 'stockton': 9723, 'relaunch': 9724, 'hindus': 9725, 'candy': 9726, 'restive': 9727, 'usled': 9728, 'spacecraft': 9729, 'mellon': 9730, 'spinner': 9731, 'carlton': 9732, 'samples': 9733, 'frame': 9734, 'separation': 9735, 'virtualization': 9736, 'speakers': 9737, 'goalie': 9738, 'peso': 9739, 'jain': 9740, 'journalism': 9741, 'inner': 9742, 'madden': 9743, 'kroger': 9744, 'hiked': 9745, 'perspective': 9746, 'comply': 9747, '42yearold': 9748, 'wrongly': 9749, 'il': 9750, 'whistleblower': 9751, 'identifying': 9752, 'switching': 9753, 'welcoming': 9754, 'shaft': 9755, 'bal': 9756, 'dane': 9757, 'vocal': 9758, 'indycar': 9759, 'pep': 9760, 'knifepoint': 9761, 'pled': 9762, 'gangster': 9763, 'tbilisi': 9764, 'ordering': 9765, 'certificates': 9766, 'closet': 9767, 'relocate': 9768, 'avery': 9769, 'parma': 9770, 'condemn': 9771, 'understands': 9772, 'bcci': 9773, 'underwater': 9774, 'berth': 9775, 'jihad': 9776, 'abuses': 9777, 'amd': 9778, 'leann': 9779, 'rimes': 9780, 'chivas': 9781, 'avatar': 9782, 'peers': 9783, 'jenson': 9784, 'influenza': 9785, '1000': 9786, 'bash': 9787, 'closest': 9788, 'peas': 9789, 'fremont': 9790, 'stuff': 9791, 'downside': 9792, 'societe': 9793, 'switched': 9794, 'polk': 9795, 'architecture': 9796, 'felonies': 9797, 'rex': 9798, 'moses': 9799, 'concession': 9800, 'taxpayer': 9801, 'swayze': 9802, 'carr': 9803, 'parenthood': 9804, 'christine': 9805, 'nina': 9806, 'sectarian': 9807, 'grounded': 9808, 'busiest': 9809, 'petraeus': 9810, 'roanoke': 9811, 'upholds': 9812, 'dwight': 9813, 'exposing': 9814, 'smashing': 9815, 'generally': 9816, 'educators': 9817, 'leinster': 9818, 'liga': 9819, 'fayetteville': 9820, 'summoned': 9821, 'coordination': 9822, 'mounted': 9823, 'mere': 9824, 'punished': 9825, 'sanctuary': 9826, 'surfer': 9827, 'keegan': 9828, 'headley': 9829, 'stuttgart': 9830, 'erin': 9831, 'cruces': 9832, 'surprising': 9833, 'organising': 9834, 'pendleton': 9835, 'correction': 9836, 'libraries': 9837, 'expired': 9838, 'courtesy': 9839, 'vita': 9840, 'harrisburg': 9841, 'forks': 9842, 'drogba': 9843, 'grip': 9844, 'britons': 9845, 'peterborough': 9846, 'algerian': 9847, 'incredibly': 9848, 'carney': 9849, 'pretoria': 9850, 'grim': 9851, 'bs': 9852, 'granite': 9853, 'surviving': 9854, 'pageant': 9855, 'innovations': 9856, 'jenner': 9857, 'masses': 9858, 'branding': 9859, 'deadliest': 9860, 'sm': 9861, 'nagar': 9862, 'comics': 9863, 'hiatus': 9864, 'react': 9865, 'homage': 9866, 'bali': 9867, 'motivated': 9868, 'lynchburg': 9869, '2g': 9870, 'foray': 9871, 'commenting': 9872, 'consolidated': 9873, 'endorsing': 9874, 'agencys': 9875, 'usage': 9876, '£3': 9877, 'procurement': 9878, 'continent': 9879, 'colonial': 9880, 'premature': 9881, 'lennon': 9882, 'advancing': 9883, 'zealands': 9884, 'nephew': 9885, 'sliding': 9886, 'bosnian': 9887, 'iftikhar': 9888, 'offenses': 9889, 'disappearance': 9890, 'geo': 9891, 'worry': 9892, 'richter': 9893, 'detain': 9894, 'taiwans': 9895, 'zayed': 9896, 'banquet': 9897, 'basement': 9898, 'randolph': 9899, 'shrine': 9900, 'territories': 9901, 'trauma': 9902, 'bassist': 9903, 'germans': 9904, 'qualcomm': 9905, 'danielle': 9906, 'performer': 9907, 'addict': 9908, 'hijack': 9909, 'lufthansa': 9910, 'karen': 9911, 'cows': 9912, 'dismiss': 9913, 'sheryl': 9914, 'gyllenhaal': 9915, 'legion': 9916, 'wallet': 9917, 'interaction': 9918, 'labrador': 9919, 'implementing': 9920, 'autistic': 9921, 'bremen': 9922, 'counseling': 9923, 'footage': 9924, 'contacts': 9925, '270': 9926, 'campaigners': 9927, 'degeneres': 9928, 'leona': 9929, 'daryl': 9930, 'olive': 9931, 'cutler': 9932, 'nightmare': 9933, 'aides': 9934, 'jupiter': 9935, 'premieres': 9936, 'flats': 9937, 'repaired': 9938, 'clearance': 9939, 'sonic': 9940, 'kiev': 9941, 'sedan': 9942, 'milford': 9943, 'widening': 9944, 'adopting': 9945, 'ratio': 9946, 'pile': 9947, 'honey': 9948, 'buccaneers': 9949, 'philips': 9950, 'bale': 9951, 'gainesville': 9952, 'hulu': 9953, 'photographs': 9954, 'displays': 9955, 'spector': 9956, 'thrilled': 9957, 'romo': 9958, 'sheila': 9959, 'derry': 9960, 'methamphetamine': 9961, 'dion': 9962, 'embrace': 9963, 'tyre': 9964, 'emerges': 9965, 'huckabee': 9966, 'nypd': 9967, 'chooses': 9968, 'dresses': 9969, 'surrenders': 9970, 'surpasses': 9971, 'bounces': 9972, 'shrinks': 9973, 'nominates': 9974, 'nv': 9975, 'usually': 9976, '1999': 9977, 'perkins': 9978, 'acoustic': 9979, 'regulate': 9980, 'estates': 9981, 'outing': 9982, 'leisure': 9983, 'sticks': 9984, 'slipping': 9985, 'deserved': 9986, 'patna': 9987, 'julio': 9988, 'caretaker': 9989, 'sim': 9990, 'missoula': 9991, 'unlawful': 9992, 'amend': 9993, 'pistol': 9994, 'paramount': 9995, 'jacques': 9996, 'lounge': 9997, 'thoughts': 9998, 'santander': 9999}\n"
     ]
    }
   ],
   "source": [
    "vocab_size = 10_000\n",
    "vocab = vocab_counter.most_common(vocab_size)\n",
    "token_to_id = {word: i for i, (word, _) in enumerate(vocab)}\n",
    "print(token_to_id)"
   ]
  },
  {
   "cell_type": "markdown",
   "metadata": {
    "collapsed": false,
    "pycharm": {
     "name": "#%% md\n"
    }
   },
   "source": [
    "<a name='e4'></a>\n",
    "### Exercise 4: Bag of Words\n",
    "(1p) Here we will create the bag-of-words representation of the sentences. The function will take a single sentence (list of tokens) and return an array of size `vocab_size` with the counts of each word in the vocabulary. The\n",
    "`vocab_size` is calculated as the length of the passed `token_to_id` dictionary. The resulting array should have zeros everywhere but the indices corresponding to the words in the vocabulary where it should have the counts of the words in the sentence. For example, if the sentence is `['fox', 'and', 'deer']` and the vocabulary is `{'fox': 0, 'and': 1, 'deer': 2}`, the resulting array should be `[1, 1, 1]`. If the sentence is `['fox', 'and', 'fox', 'deer']`, the resulting array should be `[2, 1, 1]`."
   ]
  },
  {
   "cell_type": "code",
   "execution_count": 15,
   "metadata": {
    "collapsed": false,
    "pycharm": {
     "name": "#%%\n"
    }
   },
   "outputs": [],
   "source": [
    "def bag_of_words(sentence, token_to_id):\n",
    "    \"\"\"\n",
    "    Creates a bag-of-words representation of the sentence\n",
    "    Args:\n",
    "        sentence: a list of tokens\n",
    "        token_to_id: a dictionary mapping each word to an index in the vocabulary\n",
    "\n",
    "    Returns:: a numpy array of size vocab_size with the counts of each word in the vocabulary\n",
    "\n",
    "    \"\"\"\n",
    "    vocab_size = len(token_to_id)\n",
    "    bow = np.zeros(vocab_size, dtype=int)\n",
    "\n",
    "    ### YOUR CODE HERE\n",
    "\n",
    "    # iterate over the tokens in the sentence\n",
    "    for token in sentence:\n",
    "        # if the token is in the vocabulary, increment its count\n",
    "        if token in token_to_id:\n",
    "            index = token_to_id[token]\n",
    "            bow[index] += 1   \n",
    "\n",
    "    ### YOUR CODE ENDS HERE\n",
    "\n",
    "    return bow"
   ]
  },
  {
   "cell_type": "markdown",
   "metadata": {
    "collapsed": false,
    "pycharm": {
     "name": "#%% md\n"
    }
   },
   "source": [
    "Let's see how the function works on a single sentence. The output should be a numpy array of size `vocab_size` with the counts of each word in the vocabulary."
   ]
  },
  {
   "cell_type": "code",
   "execution_count": 16,
   "metadata": {
    "collapsed": false,
    "pycharm": {
     "name": "#%%\n"
    }
   },
   "outputs": [
    {
     "name": "stdout",
     "output_type": "stream",
     "text": [
      "Tokenized sentence:\n",
      "['actor', 'john', 'abraham', ',', 'who', 'turned', 'producer', 'with', 'critically', 'acclaimed', 'vicky', 'donor', ',', 'says', 'industry', 'people', 'have', 'started', 'taking', 'him', 'seriously', 'post', 'success', 'of', 'film', '.']\n",
      "Bag of words:\n",
      "[1 2 0 ... 0 0 0]\n",
      "Type of bag of words:\n",
      "<class 'numpy.ndarray'>\n",
      "Shape of bag of words:\n",
      "(10000,)\n",
      "Non-zero elements in bag of words:\n",
      "[   0    1    4    9   25   38   56   83  165  211  337  360  382  472\n",
      "  753 1107 1123 1304 1710 2105 3739 6033 7696 8355]\n"
     ]
    }
   ],
   "source": [
    "print('Tokenized sentence:')\n",
    "print(tokenized_sentences[0])\n",
    "sentence_bow = bag_of_words(tokenized_sentences[0], token_to_id)\n",
    "\n",
    "print('Bag of words:')\n",
    "print(sentence_bow)\n",
    "print('Type of bag of words:')\n",
    "print(type(sentence_bow))\n",
    "print('Shape of bag of words:')\n",
    "print(sentence_bow.shape)\n",
    "print('Non-zero elements in bag of words:')\n",
    "print(np.nonzero(sentence_bow)[0])"
   ]
  },
  {
   "cell_type": "markdown",
   "metadata": {
    "collapsed": false,
    "pycharm": {
     "name": "#%% md\n"
    }
   },
   "source": [
    "We can also check in detail what words and their counts are in the bag-of-words representation."
   ]
  },
  {
   "cell_type": "code",
   "execution_count": 17,
   "metadata": {
    "collapsed": false,
    "pycharm": {
     "name": "#%%\n"
    }
   },
   "outputs": [
    {
     "name": "stdout",
     "output_type": "stream",
     "text": [
      "Non-zero elements in bag of words:\n",
      "[   0    1    4    9   25   38   56   83  165  211  337  360  382  472\n",
      "  753 1107 1123 1304 1710 2105 3739 6033 7696 8355]\n",
      ". : 1\n",
      ", : 2\n",
      "of : 1\n",
      "with : 1\n",
      "have : 1\n",
      "who : 1\n",
      "says : 1\n",
      "people : 1\n",
      "him : 1\n",
      "john : 1\n",
      "industry : 1\n",
      "film : 1\n",
      "actor : 1\n",
      "taking : 1\n",
      "post : 1\n",
      "started : 1\n",
      "turned : 1\n",
      "producer : 1\n",
      "seriously : 1\n",
      "success : 1\n",
      "critically : 1\n",
      "acclaimed : 1\n",
      "abraham : 1\n",
      "donor : 1\n"
     ]
    }
   ],
   "source": [
    "sentence_non_zero_bow = np.nonzero(sentence_bow)[0]\n",
    "print('Non-zero elements in bag of words:')\n",
    "print(sentence_non_zero_bow)\n",
    "for i in sentence_non_zero_bow:\n",
    "    print(vocab[i][0], ':', sentence_bow[i])"
   ]
  },
  {
   "cell_type": "markdown",
   "metadata": {
    "collapsed": false,
    "pycharm": {
     "name": "#%% md\n"
    }
   },
   "source": [
    "The following function will apply all the steps we implemented to a single sentence. It returns a bag of words representation that we will use to calculate the similarity between different sentences."
   ]
  },
  {
   "cell_type": "code",
   "execution_count": 18,
   "metadata": {
    "collapsed": false,
    "pycharm": {
     "name": "#%%\n"
    }
   },
   "outputs": [],
   "source": [
    "def embed_text(text, clean_fn, tokenize_fn, embed_fn):\n",
    "    cleaned = clean_fn(text)\n",
    "    tokens = tokenize_fn(cleaned)\n",
    "    embedding = embed_fn(tokens)\n",
    "    return embedding"
   ]
  },
  {
   "cell_type": "markdown",
   "metadata": {
    "collapsed": false,
    "pycharm": {
     "name": "#%% md\n"
    }
   },
   "source": [
    "<a name='e5'></a>\n",
    "### Exercise 5: Cosine Similarity between two vectors\n",
    "\n",
    "(1p) Complete the following function that given any two vectors will compute the cosine similarity. If you don't remember the formula for the cosine similarity, revisit the course material. Notice that the function receives numpy arrays and recall that you can express cosine similarity as a dot product. Use numpy functions to write an efficient implementation."
   ]
  },
  {
   "cell_type": "code",
   "execution_count": 19,
   "metadata": {
    "collapsed": false,
    "pycharm": {
     "name": "#%%\n"
    }
   },
   "outputs": [],
   "source": [
    "def cosine_similarity(vector1, vector2):\n",
    "    \"\"\"\n",
    "    Computes the cosine similarity between two vectors\n",
    "    Args:\n",
    "        vector1: numpy array of the first vector\n",
    "        vector2: numpy array of the second vector\n",
    "\n",
    "    Returns: cosine similarity\n",
    "\n",
    "    \"\"\"\n",
    "    ### YOUR CODE HERE\n",
    "    # dot product\n",
    "    dot_product = np.dot(vector1, vector2)\n",
    "    \n",
    "    # norms of vectors\n",
    "    norm1 = np.linalg.norm(vector1)\n",
    "    norm2 = np.linalg.norm(vector2)\n",
    "    \n",
    "    cosine_similarity = dot_product / (norm1 * norm2)\n",
    "    return cosine_similarity\n",
    "    ### YOUR CODE ENDS HERE"
   ]
  },
  {
   "cell_type": "code",
   "execution_count": 20,
   "metadata": {
    "collapsed": false,
    "pycharm": {
     "name": "#%%\n"
    }
   },
   "outputs": [
    {
     "data": {
      "text/plain": [
       "-0.9999999999999998"
      ]
     },
     "execution_count": 20,
     "metadata": {},
     "output_type": "execute_result"
    }
   ],
   "source": [
    "cosine_similarity(np.array([0, -1, -2]), np.array([0, 2, 4]))"
   ]
  },
  {
   "cell_type": "code",
   "execution_count": 22,
   "metadata": {
    "collapsed": false,
    "pycharm": {
     "name": "#%%\n"
    }
   },
   "outputs": [
    {
     "name": "stdout",
     "output_type": "stream",
     "text": [
      "Query: fox and deer\n",
      "Cosine Similarity: 0.2182 - Sentence: The quick brown fox jumps over the lazy dog.\n",
      "Cosine Similarity: 0.0000 - Sentence: Some interesting document containin sentences.\n",
      "Cosine Similarity: 0.3482 - Sentence: The quick brown fox jumps over the lazy cat and some other stuff.\n",
      "Cosine Similarity: 1.0000 - Sentence: Fox and deer\n",
      "Cosine Similarity: 0.8660 - Sentence: Fox and deer.\n",
      "Cosine Similarity: 0.8660 - Sentence: Fox and deer!\n",
      "Cosine Similarity: 0.6547 - Sentence: Fox and deer are not friends.\n",
      "Cosine Similarity: 0.3974 - Sentence: Fox and deer are not friends. But this document is a lot longer than the previous one.\n",
      "Cosine Similarity: 0.3746 - Sentence: Fox and deer are not friends. But this document is a lot longer than the previous one. We can add sentence by sentence and see how the embeddings change.\n"
     ]
    }
   ],
   "source": [
    "sentences = [\n",
    "    'The quick brown fox jumps over the lazy dog.',\n",
    "    'Some interesting document containin sentences.',\n",
    "    'The quick brown fox jumps over the lazy cat and some other stuff.',\n",
    "    'Fox and deer',\n",
    "    'Fox and deer.',\n",
    "    'Fox and deer!',\n",
    "    'Fox and deer are not friends.',\n",
    "    'Fox and deer are not friends. But this document is a lot longer than the previous one.',\n",
    "    'Fox and deer are not friends. But this document is a lot longer than the previous one. We can add sentence by sentence and see how the embeddings change.',\n",
    "]\n",
    "embedded_sentences = [\n",
    "    embed_text(sentence, clean, tokenize, lambda x: bag_of_words(x, token_to_id))\n",
    "    for sentence in sentences\n",
    "]\n",
    "\n",
    "query = 'fox and deer'\n",
    "embedded_query = embed_text(query, clean, tokenize, lambda x: bag_of_words(x, token_to_id))\n",
    "\n",
    "cosine_similarities = [\n",
    "    cosine_similarity(embedded_query, embedded_sentence)\n",
    "    for embedded_sentence in embedded_sentences\n",
    "]\n",
    "print(f'Query: {query}')\n",
    "for sent, cos_sim in zip(sentences, cosine_similarities):\n",
    "    print(f'Cosine Similarity: {cos_sim:.4f} - Sentence: {sent}')"
   ]
  },
  {
   "cell_type": "markdown",
   "metadata": {
    "collapsed": false,
    "pycharm": {
     "name": "#%% md\n"
    }
   },
   "source": [
    "We will apply the function to the whole dataset. This might take a while, so be patient. The result will be stored in the `sentence_bow` and `compressed_bow` fields of the dataset."
   ]
  },
  {
   "cell_type": "code",
   "execution_count": 23,
   "metadata": {
    "collapsed": false,
    "pycharm": {
     "name": "#%%\n"
    }
   },
   "outputs": [],
   "source": [
    "def bag_of_words_dataset(example):\n",
    "    \"\"\"\n",
    "    Creates a bag-of-words representation of the sentence and compressed sentence in the example from the Dataset\n",
    "    Args:\n",
    "        example: an example from the Dataset\n",
    "\n",
    "    Returns: updated example with 'sentence_bow' and 'compressed_bow' columns\n",
    "\n",
    "    \"\"\"\n",
    "    sentence_tokens = example['sentence_tokens']\n",
    "    compressed_tokens = example['compressed_tokens']\n",
    "\n",
    "    sentence_bow = bag_of_words(sentence_tokens, token_to_id)\n",
    "    compressed_bow = bag_of_words(compressed_tokens, token_to_id)\n",
    "\n",
    "    example['sentence_bow'] = sentence_bow\n",
    "    example['compressed_bow'] = compressed_bow\n",
    "    return example"
   ]
  },
  {
   "cell_type": "markdown",
   "metadata": {
    "collapsed": false,
    "pycharm": {
     "name": "#%% md\n"
    }
   },
   "source": [
    "The following cell will apply the function to the whole dataset. The result will be stored in the `sentence_bow` and `compressed_bow` fields of the dataset. We will also convert the dataset's fields `sentence_bow` and `compressed_bow` to numpy format for easier manipulation."
   ]
  },
  {
   "cell_type": "code",
   "execution_count": 24,
   "metadata": {
    "collapsed": false,
    "pycharm": {
     "name": "#%%\n"
    }
   },
   "outputs": [
    {
     "name": "stderr",
     "output_type": "stream",
     "text": [
      "Map:   0%|          | 0/36000 [00:00<?, ? examples/s]"
     ]
    },
    {
     "name": "stderr",
     "output_type": "stream",
     "text": [
      "Map: 100%|██████████| 36000/36000 [00:06<00:00, 5586.16 examples/s]"
     ]
    },
    {
     "name": "stdout",
     "output_type": "stream",
     "text": [
      "Dataset({\n",
      "    features: ['set', 'clean_sentence', 'clean_compressed', 'sentence_tokens', 'compressed_tokens', 'sentence_bow', 'compressed_bow'],\n",
      "    num_rows: 36000\n",
      "})\n"
     ]
    },
    {
     "name": "stderr",
     "output_type": "stream",
     "text": [
      "\n"
     ]
    }
   ],
   "source": [
    "test_ds = split_ds['test'].map(bag_of_words_dataset)\n",
    "test_ds = test_ds.with_format('np', columns=['sentence_bow', 'compressed_bow'], dtype=float)\n",
    "print(test_ds)"
   ]
  },
  {
   "cell_type": "markdown",
   "metadata": {
    "collapsed": false,
    "pycharm": {
     "name": "#%% md\n"
    }
   },
   "source": [
    "Let's check the results. The `sentence_bow` and `compressed_bow` fields should contain the bag-of-words representation of the sentences and compressed sentences, respectively."
   ]
  },
  {
   "cell_type": "code",
   "execution_count": 35,
   "metadata": {
    "collapsed": false,
    "pycharm": {
     "name": "#%%\n"
    }
   },
   "outputs": [
    {
     "name": "stdout",
     "output_type": "stream",
     "text": [
      "{'sentence_bow': array([1., 3., 1., ..., 0., 0., 0.]), 'compressed_bow': array([0., 0., 0., ..., 0., 0., 0.])}\n"
     ]
    }
   ],
   "source": [
    "print(test_ds[0])"
   ]
  },
  {
   "cell_type": "code",
   "execution_count": 25,
   "metadata": {
    "collapsed": false,
    "pycharm": {
     "name": "#%%\n"
    }
   },
   "outputs": [
    {
     "name": "stdout",
     "output_type": "stream",
     "text": [
      "(36000, 10000)\n"
     ]
    }
   ],
   "source": [
    "sentences_bows = test_ds['sentence_bow']\n",
    "print(sentences_bows.shape)"
   ]
  },
  {
   "cell_type": "markdown",
   "metadata": {
    "collapsed": false,
    "pycharm": {
     "name": "#%% md\n"
    }
   },
   "source": [
    "Now we can start building a retriever based on the bag of words representation. The first step is to calculate the cosine similarity between two vectors."
   ]
  },
  {
   "cell_type": "markdown",
   "metadata": {
    "collapsed": false,
    "pycharm": {
     "name": "#%% md\n"
    }
   },
   "source": [
    "<a name='e6'></a>\n",
    "### Exercise 6: Cosine Similarity between a vector and an array of vectors\n",
    "\n",
    "(2p) The next step in our retrieval system, would be to calculate the proximity of a query to our retrieval corpus (in our case that is all the sentences).\n",
    "\n",
    "Complete the following function to calculate the cosine similarity between a vector (first parameter `vector`, that will usually be the query vector) and all other vectors (second parameter `other_vectors`, that will be the sentence embeddings in our case). Note that the `other_vectors` parameter is a single numpy array of size `N x D`, where $N$ is the number of vectors and $D$ is the dimension of each vector.\n",
    "\n",
    "For maximum efficiency (we will need it) do not use loops. Try to write the implementation with numpy functions. Hint: matrix multiplication can be seen as calculating the dot product between rows and columns of the multiplied matrices."
   ]
  },
  {
   "cell_type": "code",
   "execution_count": 26,
   "metadata": {
    "id": "LgaV2b3fpSOR",
    "pycharm": {
     "name": "#%%\n"
    }
   },
   "outputs": [],
   "source": [
    "def cosine_similarity_1_to_n(vector, other_vectors):\n",
    "    \"\"\"\n",
    "    Calculates the cosine similarity between a single vector and other vectors.\n",
    "    Args:\n",
    "        vector: a numpy array representing a vector of D dimensions\n",
    "        other_vectors: a 2D numpy array representing other vectors (of the size NxD, where N is the number of vectors and D is their dimension)\n",
    "\n",
    "    Returns: a 1D numpy array of size N containing the cosine similarity between the vector and all the other vectors\n",
    "\n",
    "    \"\"\"\n",
    "\n",
    "    #### YOUR CODE HERE\n",
    "\n",
    "    # inefficient way\n",
    "    # cosine_similarities = np.array([cosine_similarity(vector, other_vector) for other_vector in other_vectors])\n",
    "    \n",
    "    return np.dot(other_vectors, vector) / (np.linalg.norm(other_vectors, axis=1) * np.linalg.norm(vector))\n",
    "\n",
    "    ### YOUR CODE ENDS HERE"
   ]
  },
  {
   "cell_type": "markdown",
   "metadata": {
    "collapsed": false,
    "id": "irNqAJZLpSOR",
    "pycharm": {
     "name": "#%% md\n"
    }
   },
   "source": [
    "We will use the function to calculate the similarity of all sentences in the dataset to our query."
   ]
  },
  {
   "cell_type": "code",
   "execution_count": 27,
   "metadata": {
    "collapsed": false,
    "pycharm": {
     "name": "#%%\n"
    }
   },
   "outputs": [],
   "source": [
    "query = 'fox and deer'\n",
    "embedded_query = embed_text(query, clean, tokenize, lambda x: bag_of_words(x, token_to_id))"
   ]
  },
  {
   "cell_type": "code",
   "execution_count": 29,
   "metadata": {
    "id": "uD9mVAhYpSOR",
    "pycharm": {
     "name": "#%%\n"
    }
   },
   "outputs": [
    {
     "name": "stdout",
     "output_type": "stream",
     "text": [
      "(36000,)\n",
      "[0.         0.         0.12598816 0.12598816 0.1132277  0.10540926\n",
      " 0.         0.         0.         0.        ]\n",
      "29978\n"
     ]
    }
   ],
   "source": [
    "query_similarity = cosine_similarity_1_to_n(embedded_query, sentences_bows)\n",
    "print(query_similarity.shape)\n",
    "print(query_similarity[:10])"
   ]
  },
  {
   "cell_type": "markdown",
   "metadata": {
    "collapsed": false,
    "id": "_l3erVTNpSOR",
    "pycharm": {
     "name": "#%% md\n"
    }
   },
   "source": [
    "The following cell will select the most similar sentence."
   ]
  },
  {
   "cell_type": "code",
   "execution_count": 30,
   "metadata": {
    "id": "0wWa4AWHpSOR",
    "pycharm": {
     "name": "#%%\n"
    }
   },
   "outputs": [
    {
     "name": "stdout",
     "output_type": "stream",
     "text": [
      "29978\n",
      "0.5282705437953744\n",
      "DirecTV has reached an agreement with FOX to continue carrying all FOX Networks including FOX Soccer, FOX Soccer Plus and FOX Deportes.\n"
     ]
    }
   ],
   "source": [
    "most_similar = int(np.argmax(query_similarity))\n",
    "print(most_similar)\n",
    "print(query_similarity[most_similar])\n",
    "print(split_ds['test'][most_similar]['set'][0]) "
   ]
  },
  {
   "cell_type": "markdown",
   "metadata": {
    "collapsed": false,
    "id": "fpdJHFD1pSOR",
    "pycharm": {
     "name": "#%% md\n"
    }
   },
   "source": [
    "The following function will return the indices of the top-k elements in the array."
   ]
  },
  {
   "cell_type": "code",
   "execution_count": 45,
   "metadata": {
    "id": "QFUNI9elpSOS",
    "pycharm": {
     "name": "#%%\n"
    }
   },
   "outputs": [],
   "source": [
    "def top_k_indices(array, k, sorted=True):\n",
    "    \"\"\"\n",
    "    Returns top-k indices from the 1D array. If `sorted` is `True` the returned indices are sorted in the descending order\n",
    "    Args:\n",
    "        array: a 1D numpy array\n",
    "        k: a number of top indices to return\n",
    "        sorted: if True, the returned indices are sorted in descending order\n",
    "\n",
    "    Returns: a 1D array containing top-k indices\n",
    "\n",
    "    \"\"\"\n",
    "    top_k = np.argpartition(array, -k)[-k:]\n",
    "    if sorted:\n",
    "        selected = array[top_k]\n",
    "        sorted_selected = (-selected).argsort()\n",
    "        top_k = top_k[sorted_selected]\n",
    "    return top_k"
   ]
  },
  {
   "cell_type": "code",
   "execution_count": 46,
   "metadata": {
    "id": "nY8vvJdepSOS",
    "pycharm": {
     "name": "#%%\n"
    }
   },
   "outputs": [
    {
     "name": "stdout",
     "output_type": "stream",
     "text": [
      "Commentators on both the right and left and both secular and religious note with disdain that Mormons have irrational practices and beliefs.\n",
      "similarity: 0.4216370213557839\n",
      "Guitar Hero World Tour is coming to PC and Mac platforms this summer and will feature wireless controllers, online play, ``and a Music Studio feature for composing and editing original rock and roll anthems.''\n",
      "similarity: 0.38235955645093633\n",
      "A Deer Lodge man was shot and killed in a weekend hunting accident at a campground southeast of Deer Lodge.\n",
      "similarity: 0.37796447300922725\n",
      "Terrebonne and Lafourche School Board offices and public schools will be closed Monday and reopen Tuesday.\n",
      "similarity: 0.37796447300922725\n",
      "Police and Rangers continued raids and search operation against targets killers and criminals and during a raid in Maripur locality the Rangers arrested three accused of Lyari gang war.\n",
      "similarity: 0.37463432463267765\n",
      "The Guideline specifies that private capital is attracted and encouraged to enter such fields of science, technology and industry for national defense as scientific research and production of weaponry and equipment, investment and construction of science, technology and industry for national defense, restructuring and reorganization of military industrial enterprises and development of military-civilian dual-use technologies.\n",
      "similarity: 0.37219368415938836\n",
      "Actress TARA REID has completed a 60-day rehab stint and now insists she's ``clean and sober and excited'' about the future.\n",
      "similarity: 0.3611575592573077\n",
      "Tuberculosis recently was found in a captive red and fallow deer herd in Columbia County during routine testing by the Department Agriculture and Markets.\n",
      "similarity: 0.3611575592573077\n",
      "Fox has apologized to Asians after a Fox Sports report made fun of Asian students' accents and knowledge of college football.\n",
      "similarity: 0.3611575592573077\n",
      "China and the United States agreed in Beijing on Tuesday to step up bilateral constructive and cooperative relations and handle the bilateral ties ``in a long-term and strategic perspective.''\n",
      "similarity: 0.360667853866973\n"
     ]
    }
   ],
   "source": [
    "top_indices = top_k_indices(query_similarity, k=10).tolist()\n",
    "for idx in top_indices:\n",
    "    print(split_ds['test'][idx]['set'][0])\n",
    "    print(f'similarity: {query_similarity[idx]}')"
   ]
  },
  {
   "cell_type": "markdown",
   "metadata": {
    "collapsed": false,
    "id": "BuRI2JzQpSOS",
    "pycharm": {
     "name": "#%% md\n"
    }
   },
   "source": [
    "<a name='e7'></a>\n",
    "### Exercise 7: Analyzing and improving BOW search results\n",
    "\n",
    "Experiment with different queries (taking into account the nature of the dataset and your insights from the analysis so far).\n",
    "Answer the following questions:\n",
    "- (5p) Does the search perform well? When does it fail? Discuss several examples that are we get an expected but also unexpected results (find at least 3 from each category). Provide reasons for the good/bad result in each case (e.g. is there some error in the data, is there some linguistic phenomenon that we don't capture, is something wrong with our modeling with average embeddings, ...)\n",
    "- (5p) If you see problems with search, how could you improve your implementation? Change the functions above, if you think there is room for improvement. Describe your changes and how they made the search better or (in case you made no changes) explain what made the search robust enough to work well."
   ]
  },
  {
   "cell_type": "code",
   "execution_count": null,
   "metadata": {
    "id": "sEQKHAvcpSOS",
    "pycharm": {
     "name": "#%%\n"
    }
   },
   "outputs": [],
   "source": [
    "#### YOUR CODE HERE\n",
    "\n",
    "\n",
    "\n",
    "\n",
    "### YOUR CODE ENDS HERE"
   ]
  },
  {
   "cell_type": "markdown",
   "metadata": {
    "id": "eiIGTfq6eFI5",
    "pycharm": {
     "name": "#%% md\n"
    }
   },
   "source": [
    "// your comments"
   ]
  },
  {
   "cell_type": "markdown",
   "metadata": {
    "collapsed": false,
    "pycharm": {
     "name": "#%% md\n"
    }
   },
   "source": [
    "## 3. Term Frequency - Inverse Document Frequency (TF-IDF)\n",
    "\n",
    "In this section we will implement the TF-IDF algorithm. While BOW is a simple way to represent the documents, it has some limitations. For example, it does not take into account the importance of each word in the document. TF-IDF representation takes into account the frequency of each word in the document and the frequency of the word in the whole dataset. It is a widely used technique in information retrieval and text mining. Refer to the lecture slides for more details."
   ]
  },
  {
   "cell_type": "markdown",
   "metadata": {
    "collapsed": false,
    "pycharm": {
     "name": "#%% md\n"
    }
   },
   "source": [
    "<a name='e8'></a>\n",
    "### Exercise 8: Inverse Document Frequency (IDF)\n",
    "(5p) In this exercise, you will implement the TF-IDF algorithm. First, calculate Inverse Document Frequency (IDF) for each word in the vocabulary. Intuitively, it is a measure of how informative a word is based on the whole dataset. Consult the lecture slides for the details. The IDF is calculated as follows:\n",
    "$$\n",
    "IDF(t) = log_{10}(N/df(t))$$\n",
    "where $N$ is the total number of documents (sentences) in the dataset and $df(t)$ is the number of documents containing the word $t$.\n"
   ]
  },
  {
   "cell_type": "code",
   "execution_count": 58,
   "metadata": {
    "collapsed": false,
    "pycharm": {
     "name": "#%%\n"
    }
   },
   "outputs": [],
   "source": [
    "def calculate_idf(bows):\n",
    "    \"\"\"\n",
    "    Calculates the IDF for each word in the vocabulary\n",
    "    Args:\n",
    "        bows: numpty array of size (N x D) where N is the number of documents and D is the vocabulary size\n",
    "\n",
    "    Returns: a numpy array of size D with IDF values for each token\n",
    "    \"\"\"\n",
    "\n",
    "    ### YOUR CODE HERE\n",
    "    # N:\n",
    "    N = bows.shape[0]\n",
    "    \n",
    "    # Df:\n",
    "    DFt = np.zeros(bows.shape[1], dtype=int)\n",
    "    \n",
    "    \n",
    "    # iterate over termps     \n",
    "    for i in range(bows.shape[1]):\n",
    "        DFt[i] = np.count_nonzero(bows[:, i])\n",
    "    \n",
    "    # IDF:\n",
    "    IDFt = np.log(N / (DFt + 1)) # adding 1 to avoid division by zero!!!!!!!!!!!!!!!!!!!!!!!!!!!!!!!!!!!!!\n",
    "    \n",
    "    return IDFt\n",
    "\n",
    "    ### YOUR CODE ENDS HERE\n",
    "\n",
    "idf = calculate_idf(sentences_bows)"
   ]
  },
  {
   "cell_type": "markdown",
   "metadata": {
    "collapsed": false,
    "pycharm": {
     "name": "#%% md\n"
    }
   },
   "source": [
    "<a name='e9'></a>\n",
    "### Exercise 9: TF-IDF\n",
    "- (5p) Calculate TF-IDF on the `test` subset of the dataset.\n",
    "- (5p) Analyze the search results based on your implemented TF-IDF. Does the search perform well? When does it fail? Discuss several examples that are we get an expected but also unexpected results (find at least 3 from each category). Provide reasons for the good/bad result in each case (e.g. is there some error in the data, is there some linguistic phenomenon that we don't capture, is something wrong with our modeling with average embeddings, ...)\n",
    "- (5p) Compare the results with the ones you got with the bag-of-words representation. Discuss the differences and similarities. Do you think TF-IDF is a better representation for this task? Why or why not? Provide examples to support your arguments.\n"
   ]
  },
  {
   "cell_type": "code",
   "execution_count": 65,
   "metadata": {
    "collapsed": false,
    "pycharm": {
     "name": "#%%\n"
    }
   },
   "outputs": [
    {
     "name": "stderr",
     "output_type": "stream",
     "text": [
      "/var/folders/84/sbq4d0yx2vdcrx0_5_cy2hmh0000gn/T/ipykernel_9500/1986818282.py:4: RuntimeWarning: divide by zero encountered in log\n",
      "  TFIDF = (1 + np.log(sentences_bows)) * idf\n"
     ]
    },
    {
     "data": {
      "text/plain": [
       "array([0.02120248, 0.95563258, 1.27546488, ..., 8.88183631, 8.09337894,\n",
       "       8.09337894])"
      ]
     },
     "execution_count": 65,
     "metadata": {},
     "output_type": "execute_result"
    }
   ],
   "source": [
    "### YOUR CODE HERE\n",
    "\n",
    "# TF = sentences_bows\n",
    "TFIDF = (1 + np.log(sentences_bows)) * idf\n",
    "\n",
    "# calculate TFIDF on test dataset\n",
    "test_ds = split_ds['test'].map(bag_of_words_dataset)\n",
    "test_ds = test_ds.with_format('np', columns=['sentence_bow', 'compressed_bow'], dtype=float)\n",
    "test_sentences_bows = test_ds['sentence_bow'] + 1 # add 1 to avoid division by zero\n",
    "TFIDF_test = (1 + np.log(test_sentences_bows)) * idf\n",
    "\n",
    "### YOUR CODE ENDS HERE\n",
    "\n",
    "### YOU CAN ADD MORE CELLS"
   ]
  },
  {
   "cell_type": "code",
   "execution_count": 69,
   "metadata": {},
   "outputs": [
    {
     "name": "stdout",
     "output_type": "stream",
     "text": [
      "[2. 2. 2. 2. 1. 2. 2. 1. 1. 1. 1. 1. 1. 1. 1. 1. 1. 1. 1. 1.]\n",
      "[0.02120248 0.95563258 1.27546488 1.27586451 0.84655739 1.77307473\n",
      " 2.10696771 1.45826786 1.40106965 1.86218193 1.79275997 1.88405752\n",
      " 1.75864712 2.10784102 2.14629385 2.19198831 2.32222107 2.17619721\n",
      " 1.98171005 2.17595244]\n"
     ]
    }
   ],
   "source": [
    "print(test_sentences_bows[1][:20])\n",
    "print(TFIDF_test[1][:20])"
   ]
  },
  {
   "cell_type": "markdown",
   "metadata": {
    "collapsed": false,
    "pycharm": {
     "name": "#%% md\n"
    }
   },
   "source": [
    "// your comments"
   ]
  },
  {
   "cell_type": "markdown",
   "metadata": {
    "collapsed": false,
    "pycharm": {
     "name": "#%% md\n"
    }
   },
   "source": [
    "## 4. Word Embeddings\n",
    "\n",
    "In this section you will load the pre-trained word embeddings model - Glove. You can read more about it [here](https://aclanthology.org/D14-1162/) ([https://aclanthology.org/D14-1162/](https://aclanthology.org/D14-1162/)). The embeddings are trained on a large corpus of text and are available in different dimensions. We will start with the dimension of 100, but later you will be asked to experiment with other dimensions.\n",
    "Gensim library maintains a storage containing some pre-trained models. You can read more about it [here](https://github.com/piskvorky/gensim-data) ([https://github.com/piskvorky/gensim-data](https://github.com/piskvorky/gensim-data)). Be sure to read the README of this repository.\n",
    "\n",
    "Let's first load the info of what models are available."
   ]
  },
  {
   "cell_type": "code",
   "execution_count": null,
   "metadata": {
    "collapsed": false,
    "pycharm": {
     "name": "#%%\n"
    }
   },
   "outputs": [],
   "source": [
    "import json\n",
    "import gensim.downloader as api\n",
    "\n",
    "info = api.info()  # show info about available models/datasets\n",
    "print(json.dumps(info['models'], indent=2))"
   ]
  },
  {
   "cell_type": "code",
   "execution_count": null,
   "metadata": {
    "collapsed": false,
    "pycharm": {
     "name": "#%%\n"
    }
   },
   "outputs": [],
   "source": [
    "glove_model = api.load(\"glove-wiki-gigaword-100\")"
   ]
  },
  {
   "cell_type": "markdown",
   "metadata": {
    "collapsed": false,
    "pycharm": {
     "name": "#%% md\n"
    }
   },
   "source": [
    "We can use the loaded model's `key_to_index` attribute to retrieve the whole vocabulary (aka for how many words we learned embeddings for)."
   ]
  },
  {
   "cell_type": "code",
   "execution_count": null,
   "metadata": {
    "collapsed": false,
    "pycharm": {
     "name": "#%%\n"
    }
   },
   "outputs": [],
   "source": [
    "vocab = list(glove_model.key_to_index)\n",
    "print(len(vocab))"
   ]
  },
  {
   "cell_type": "markdown",
   "metadata": {
    "collapsed": false,
    "pycharm": {
     "name": "#%% md\n"
    }
   },
   "source": [
    "Let's explore a bit further the embeddings. In the following cells, the embedding of a single word is returned. Double-check the dimensions (as sanity check). This is like inspecting the `W` matrix (weights) that we discussed in the lecture."
   ]
  },
  {
   "cell_type": "code",
   "execution_count": null,
   "metadata": {
    "collapsed": false,
    "pycharm": {
     "name": "#%%\n"
    }
   },
   "outputs": [],
   "source": [
    "# vector of a particular model. note that it is 100 dimensional as specified.\n",
    "glove_model['what']"
   ]
  },
  {
   "cell_type": "markdown",
   "metadata": {
    "collapsed": false,
    "pycharm": {
     "name": "#%% md\n"
    }
   },
   "source": [
    "Gensim objects offers different methods to easily run very common tasks. For example, there are different functions to find the most similar words.\n",
    "\n",
    "Check the documentation on how [`most_similar`](https://tedboy.github.io/nlps/generated/generated/gensim.models.Word2Vec.most_similar.html) and [`similar_by_word`](https://tedboy.github.io/nlps/generated/generated/gensim.models.Word2Vec.similar_by_word.html) can be used."
   ]
  },
  {
   "cell_type": "code",
   "execution_count": null,
   "metadata": {
    "collapsed": false,
    "pycharm": {
     "name": "#%%\n"
    }
   },
   "outputs": [],
   "source": [
    "# most similar words to a given word\n",
    "print(glove_model.most_similar('what', topn=10))\n",
    "\n",
    "# also u can use\n",
    "print(glove_model.similar_by_word('miss', topn=5))"
   ]
  },
  {
   "cell_type": "code",
   "execution_count": null,
   "metadata": {
    "collapsed": false,
    "pycharm": {
     "name": "#%%\n"
    }
   },
   "outputs": [],
   "source": [
    "print(glove_model.most_similar('why', topn=10))"
   ]
  },
  {
   "cell_type": "code",
   "execution_count": null,
   "metadata": {
    "collapsed": false,
    "pycharm": {
     "name": "#%%\n"
    }
   },
   "outputs": [],
   "source": [
    "print(glove_model.similar_by_word('who', topn=5))"
   ]
  },
  {
   "cell_type": "markdown",
   "metadata": {
    "collapsed": false,
    "pycharm": {
     "name": "#%% md\n"
    }
   },
   "source": [
    "We can now compare our implementation with the one in the pre-trained model and confirm what we already expected."
   ]
  },
  {
   "cell_type": "code",
   "execution_count": null,
   "metadata": {
    "collapsed": false,
    "pycharm": {
     "name": "#%%\n"
    }
   },
   "outputs": [],
   "source": [
    "# simalarity between two words\n",
    "word1 = 'alive'\n",
    "word2 = 'biology'\n",
    "print(glove_model.similarity(word1, word2))\n",
    "print(cosine_similarity(glove_model[word1], glove_model[word2]))"
   ]
  },
  {
   "cell_type": "code",
   "execution_count": null,
   "metadata": {
    "collapsed": false,
    "pycharm": {
     "name": "#%%\n"
    }
   },
   "outputs": [],
   "source": [
    "# simalarity between two words. similar words\n",
    "word1 = 'alive'\n",
    "word2 = 'life'\n",
    "print(glove_model.similarity(word1, word2))\n",
    "print(cosine_similarity(glove_model[word1], glove_model[word2]))"
   ]
  },
  {
   "cell_type": "code",
   "execution_count": null,
   "metadata": {
    "collapsed": false,
    "pycharm": {
     "name": "#%%\n"
    }
   },
   "outputs": [],
   "source": [
    "# simalarity between two words. dissimilar words\n",
    "word1 = 'alive'\n",
    "word2 = 'dead'\n",
    "print(glove_model.similarity(word1, word2))\n",
    "print(cosine_similarity(glove_model[word1], glove_model[word2]))"
   ]
  },
  {
   "cell_type": "code",
   "execution_count": null,
   "metadata": {
    "collapsed": false,
    "pycharm": {
     "name": "#%%\n"
    }
   },
   "outputs": [],
   "source": [
    "# simalarity between two words. unrelated words\n",
    "word1 = 'alive'\n",
    "word2 = 'horse'\n",
    "print(glove_model.similarity(word1, word2))\n",
    "print(cosine_similarity(glove_model[word1], glove_model[word2]))"
   ]
  },
  {
   "cell_type": "code",
   "execution_count": null,
   "metadata": {
    "collapsed": false,
    "pycharm": {
     "name": "#%%\n"
    }
   },
   "outputs": [],
   "source": [
    "# simalarity between two SAME words\n",
    "glove_model.similarity('equal', 'equal')\n",
    "word1 = 'equal'\n",
    "word2 = 'equal'\n",
    "print(glove_model.similarity(word1, word2))\n",
    "print(cosine_similarity(glove_model[word1], glove_model[word2]))"
   ]
  },
  {
   "cell_type": "markdown",
   "metadata": {
    "collapsed": false,
    "pycharm": {
     "name": "#%% md\n"
    }
   },
   "source": [
    "The next function contains the code to plot a similarity matrix between multiple words (e.g. if we want to compare 10 words and their pair-wise similarities). It requires a matrix with similarities (as input) and labels (aka the words) to display in the final figure."
   ]
  },
  {
   "cell_type": "code",
   "execution_count": null,
   "metadata": {
    "collapsed": false,
    "pycharm": {
     "name": "#%%\n"
    }
   },
   "outputs": [],
   "source": [
    "def plot_similarity_matrix(matrix, labels):\n",
    "    \"\"\"\n",
    "    Displays a plot of the `matrix` of size (N x N) with the labels specified as a list of size N\n",
    "    Args:\n",
    "        matrix: a square-sized (N x N) numpy array\n",
    "        labels: a list of strings of hte size N\n",
    "    \"\"\"\n",
    "\n",
    "    fig, ax = plt.subplots()\n",
    "    im = ax.imshow(matrix)\n",
    "\n",
    "    # Show all ticks and label them with the respective list entries\n",
    "    ax.set_xticks(np.arange(len(labels)), labels=labels)\n",
    "    ax.set_yticks(np.arange(len(labels)), labels=labels)\n",
    "\n",
    "    # Rotate the tick labels and set their alignment.\n",
    "    plt.setp(ax.get_xticklabels(), rotation=45, ha=\"right\",\n",
    "             rotation_mode=\"anchor\")\n",
    "\n",
    "    # Loop over data dimensions and create text annotations.\n",
    "    for i in range(len(labels)):\n",
    "        for j in range(len(labels)):\n",
    "            text = ax.text(j, i, f'{matrix[i, j]:.2f}',\n",
    "                           ha=\"center\", va=\"center\", color=\"w\")\n",
    "\n",
    "    # ax.set_title(\"Give a title if you want\")\n",
    "    fig.tight_layout()\n",
    "    plt.show()"
   ]
  },
  {
   "cell_type": "markdown",
   "metadata": {
    "collapsed": false,
    "pycharm": {
     "name": "#%% md\n"
    }
   },
   "source": [
    "<a name='e10'></a>\n",
    "### Exercise 10: Plotting similarities between words\n",
    "\n",
    "(10p) In the following, we will explore some properties of word embeddings through some examples. We will use 6 example words for this purpose but experiment with other set of words as well. Fill in the next cell to create a similarity matrix between a list of words.\n",
    "\n",
    "Experiment with different words and their similarities plotted. Try at least 3 different sets of words of at least 6 words each. Use the `plot_similarity_matrix` function to visualize the results.\n",
    "Comment on the results. Do they make sense? Why some words are closer to each other than others? What does it mean?"
   ]
  },
  {
   "cell_type": "code",
   "execution_count": null,
   "metadata": {
    "collapsed": false,
    "pycharm": {
     "name": "#%%\n"
    }
   },
   "outputs": [],
   "source": [
    "list_of_words = ['love', 'hate', 'life', 'equal', 'alive', 'dead']\n",
    "\n",
    "similarity_matrix = np.zeros((len(list_of_words), len(list_of_words)), dtype=float)\n",
    "\n",
    "### YOUR CODE HERE\n",
    "\n",
    "\n",
    "\n",
    "\n",
    "\n",
    "### YOUR CODE ENDS HERE\n",
    "\n",
    "\n",
    "plot_similarity_matrix(similarity_matrix, list_of_words)"
   ]
  },
  {
   "cell_type": "code",
   "execution_count": null,
   "metadata": {
    "collapsed": false,
    "pycharm": {
     "name": "#%%\n"
    }
   },
   "outputs": [],
   "source": [
    "#### YOUR CODE HERE\n",
    "\n",
    "\n",
    "\n",
    "### YOUR CODE ENDS HERE"
   ]
  },
  {
   "cell_type": "markdown",
   "metadata": {
    "collapsed": false,
    "pycharm": {
     "name": "#%% md\n"
    }
   },
   "source": [
    "<a name='e11'></a>\n",
    "### Exercise 11: Other pre-trained word embeddings\n",
    "(10p) For this exercise, experiment with at least one different word embedding model. You can choose Glove with different dimensions or other pre-trained models. Use the gensim library to download and use the models.\n",
    "Plot similarity matrices between sets of words you used in the previous exercise and compare the results. Are there noticeable differences? Why (not)?"
   ]
  },
  {
   "cell_type": "code",
   "execution_count": null,
   "metadata": {
    "collapsed": false,
    "pycharm": {
     "name": "#%%\n"
    }
   },
   "outputs": [],
   "source": [
    "#### YOUR CODE HERE\n",
    "\n",
    "\n",
    "\n",
    "### YOUR CODE ENDS HERE"
   ]
  },
  {
   "cell_type": "markdown",
   "metadata": {
    "collapsed": false,
    "pycharm": {
     "name": "#%% md\n"
    }
   },
   "source": [
    "// your comments"
   ]
  },
  {
   "cell_type": "markdown",
   "metadata": {
    "collapsed": false,
    "pycharm": {
     "name": "#%% md\n"
    }
   },
   "source": [
    "## 5. Sentence Embeddings by Averaging Word Embeddings\n",
    "\n",
    "Word embeddings are a powerful model for representing words and their meaning (in terms of distributional similarity). As we discussed in class, we can use them in a wide variety of tasks with more complex architectures. Word vectors offer a dense vector for each word. What if we wanted to represent a sentence (or a document) based on word vectors. How can we do that?\n",
    "\n",
    "In the course, we will see different architectures that take into account the sequence of words (by combining their vectors). A first naive but simple and sometimes (as we are going to see) quite effective approach would be to represent a sentence with an embedding vector that is the average of the word vectors that form the sentence.\n",
    "\n",
    "So formally, this is what we are aiming for:\n",
    "\n",
    "$\n",
    "\\text{Sentence_Embedding} = \\frac{1}{N} \\sum_{i=1}^{N} \\text{Word_Embedding}_i\n",
    "$\n",
    "\n",
    "where:\n",
    "* $N$ is the number of words in a sentence\n",
    "* $\\text{Word_Embedding}_i$ is the word vector for the $i$-th in the sentence.\n",
    "\n",
    "Things to note:\n",
    "* The embedding vector for the sentence will obviously have the same dimension as the word embedding.\n",
    "* This representation ignores the word order (like bag-of-words). During the course we will see how we can overcome this limitation by using sequence models."
   ]
  },
  {
   "cell_type": "markdown",
   "metadata": {
    "collapsed": false,
    "pycharm": {
     "name": "#%% md\n"
    }
   },
   "source": [
    "<a name='e12'></a>\n",
    "### Exercise 12: Sentence Embedding\n",
    "\n",
    "(10p) Complete the function below that takes as input the sentence in the form of tokens (so it's a list of words) and calculates the sentence embedding vector. First, we would need to retrieve the word embeddings for each word from our loaded model and then average the vectors.\n",
    "\n",
    "Note: There can be cases where all tokens from a sentence are out-of-vocabulary words (OOV). Think what to do in this case and make sure to discuss it in the report."
   ]
  },
  {
   "cell_type": "code",
   "execution_count": null,
   "metadata": {
    "collapsed": false,
    "pycharm": {
     "name": "#%%\n"
    }
   },
   "outputs": [],
   "source": [
    "def embed_sentence_word_model(tokens, model):\n",
    "    \"\"\"\n",
    "    Calculates the sentence embedding by averaging the embeddings of the tokens\n",
    "    Args:\n",
    "        tokens: a list of words from the sentence\n",
    "        model: a trained word embeddings model\n",
    "\n",
    "    Returns: a numpy array of the sentence embedding\n",
    "\n",
    "    \"\"\"\n",
    "    #### YOUR CODE HERE\n",
    "    #### CAUTION: be sure to cover the case where all tokens are out-of-vocabulary!!!\n",
    "\n",
    "\n",
    "\n",
    "\n",
    "    ### YOUR CODE ENDS HERE"
   ]
  },
  {
   "cell_type": "markdown",
   "metadata": {
    "collapsed": false,
    "pycharm": {
     "name": "#%% md\n"
    }
   },
   "source": [
    "Now we can apply the function to the whole dataset. Here we do it both for the sentence and the compressed version. You should know it by now, but this operation might take some time. The next cells will apply your function to the whole dataset."
   ]
  },
  {
   "cell_type": "code",
   "execution_count": null,
   "metadata": {
    "collapsed": false,
    "pycharm": {
     "name": "#%%\n"
    }
   },
   "outputs": [],
   "source": [
    "def embed_sentence_word_model_dataset(example, model):\n",
    "    \"\"\"\n",
    "    Embeds the sentence and the compressed sentence in the example from the Dataset\n",
    "    Args:\n",
    "        example: an example from the Dataset\n",
    "        model: a trained word embeddings model\n",
    "\n",
    "    Returns: updated example with 'sentence_embedding' and 'compressed_embedding' columns\n",
    "\n",
    "    \"\"\"\n",
    "    sentence_tokens = example['sentence_tokens']\n",
    "    clean_compressed = example['clean_compressed']\n",
    "    compressed_tokens = tokenize(clean_compressed)\n",
    "\n",
    "    sentence_embedding = embed_sentence_word_model(sentence_tokens, model)\n",
    "    compressed_embedding = embed_sentence_word_model(compressed_tokens, model)\n",
    "\n",
    "    example['sentence_embedding'] = sentence_embedding\n",
    "    example['compressed_embedding'] = compressed_embedding\n",
    "    return example"
   ]
  },
  {
   "cell_type": "code",
   "execution_count": null,
   "metadata": {
    "collapsed": false,
    "pycharm": {
     "name": "#%%\n"
    }
   },
   "outputs": [],
   "source": [
    "test_ds = test_ds.map(embed_sentence_word_model_dataset, fn_kwargs={'model': glove_model})\n",
    "print(test_ds)"
   ]
  },
  {
   "cell_type": "code",
   "execution_count": null,
   "metadata": {
    "collapsed": false,
    "pycharm": {
     "name": "#%%\n"
    }
   },
   "outputs": [],
   "source": [
    "for i in range(10):\n",
    "    print(test_ds[i])"
   ]
  },
  {
   "cell_type": "markdown",
   "metadata": {
    "collapsed": false,
    "pycharm": {
     "name": "#%% md\n"
    }
   },
   "source": [
    "Here you can see that the new dataset returned a single numpy array containing all sentence embeddings in our dataset. This is a lot more efficient than returning a list of arrays (which is the default behaviour). Below we check the type and the dimensionality.\n",
    "\n",
    "We will be using `text` subset from our dataset to not use too much RAM."
   ]
  },
  {
   "cell_type": "code",
   "execution_count": null,
   "metadata": {
    "collapsed": false,
    "pycharm": {
     "name": "#%%\n"
    }
   },
   "outputs": [],
   "source": [
    "sent_embedding = test_ds['sentence_embedding']\n",
    "compr_embedding = test_ds['compressed_embedding']\n",
    "print(type(sent_embedding))\n",
    "print(sent_embedding.shape)\n",
    "print(type(compr_embedding))\n",
    "print(compr_embedding.shape)"
   ]
  },
  {
   "cell_type": "markdown",
   "metadata": {
    "collapsed": false,
    "pycharm": {
     "name": "#%% md\n"
    }
   },
   "source": [
    "Next we try the condensed representatin based on a simple query. Feel free to try different queries with different words. What happens if we have OOV words in a query?"
   ]
  },
  {
   "cell_type": "code",
   "execution_count": null,
   "metadata": {
    "collapsed": false,
    "pycharm": {
     "name": "#%%\n"
    }
   },
   "outputs": [],
   "source": [
    "query = 'fox and deer'\n",
    "print(query)\n",
    "\n",
    "query_embedding = embed_text(query, clean, tokenize, lambda x: embed_sentence_word_model(x, glove_model))\n",
    "print(query_embedding.shape)\n",
    "print(query_embedding)"
   ]
  },
  {
   "cell_type": "markdown",
   "metadata": {
    "collapsed": false,
    "pycharm": {
     "name": "#%% md\n"
    }
   },
   "source": [
    "<a name='e13'></a>\n",
    "### Exercise 13: Analyze sentence embeddings\n",
    "- (5p) Calculate similarity between the word embeddings representations of the selected queries and the dataset sentences.\n",
    "- (5p) Analyze the search results. Does the search work as expected? Discuss the results.\n",
    "- (5p) Compare the results with the ones you got with the bag-of-words and TF-IDF representation. Discuss the differences and similarities."
   ]
  },
  {
   "cell_type": "code",
   "execution_count": null,
   "metadata": {
    "collapsed": false,
    "pycharm": {
     "name": "#%%\n"
    }
   },
   "outputs": [],
   "source": [
    "### YOUR CODE HERE\n",
    "\n",
    "\n",
    "\n",
    "\n",
    "### YOUR CODE ENDS HERE"
   ]
  },
  {
   "cell_type": "markdown",
   "metadata": {
    "id": "ZY2jouFmeHOg",
    "pycharm": {
     "name": "#%% md\n"
    }
   },
   "source": [
    "## 6. Evaluating Retrieval\n",
    "\n",
    "In this last section we will try to evaluate how good our sentence retrieval system is. To keep the computational resources manageable, we will use the test set for that as its size is more manageable.\n",
    "\n",
    "Recall from the lecture in IR that there are several metrics to evaluate retrieval performance by taking into account the relevance of the retrieved results to the query. We will use Recall@K here (for more metrics and more details refer to the lecture slides and the textbooks).\n",
    "\n",
    "RRecall@K is a metric used to measure the effectiveness of a search system in retrieving relevant documents within the top $K$ retrieved documents. It calculates the proportion of relevant documents retrieved within the top-$K$ results, compared to the total number of relevant documents in the collection.\n",
    "\n",
    "$\n",
    "\\text{Recall@K} = \\frac{\\text{Number of relevant documents retrieved in the top }-K}{\\text{Total number of relevant documents}}\n",
    "$\n",
    "\n",
    "In our case, we have a sentence, and it's compressed version. To test our system, we will treat compressed sentences as the queries. Each query will have only a single relevant sentence - the corresponding uncompressed sentence.\n",
    "\n",
    "Therefore, for the calculation of Recall@K we will take into account whether the correct retrieved result is contained within the first $K$ retrieved results. For example, if for a query (i.e. a compressed sentence) we retrieve 10 results and within these we see the relevant one (i.e. the full sentence), then Recall@10 = 1."
   ]
  },
  {
   "cell_type": "markdown",
   "metadata": {
    "id": "QUKPtG-uem9f",
    "pycharm": {
     "name": "#%% md\n"
    }
   },
   "source": [
    "<a name='e14'></a>\n",
    "### Exercise 14: Cosine similarity between two sets of vectors\n",
    "\n",
    "(3p) In this exercise you will revisit your implementation of the cosine similarity. Generalize it so that it can accept two arrays containing two sets of vectors (first one containing $M$ vectors and the second one $N$ vectors). Compute the cosine similarity between each pair of vectors coming from the two sets. The result should be an array of size $M x N$.\n",
    "\n",
    "Once again, try to write an efficient code. This means no loops. Remember the relation between matrix multiplication and dot product. (Depending on your implementation of the previous function calculating cosine similarity, this one can be almost the same)"
   ]
  },
  {
   "cell_type": "code",
   "execution_count": null,
   "metadata": {
    "id": "xKiHDrN9eld7",
    "pycharm": {
     "name": "#%%\n"
    }
   },
   "outputs": [],
   "source": [
    "def cosine_similarity_m_to_n(vectors, other_vectors):\n",
    "    \"\"\"\n",
    "    Calculates the cosine similarity between a multiple vectors and other vectors.\n",
    "    Args:\n",
    "        vectors: a numpy array representing M number of vectors of D dimensions (of the size MxD)\n",
    "        other_vectors: a 2D numpy array representing other vectors (of the size NxD, where N is the number of vectors and D is their dimension)\n",
    "\n",
    "    Returns: a numpy array of cosine similarity between all the vectors and all the other vectors\n",
    "\n",
    "    \"\"\"\n",
    "\n",
    "    #### YOUR CODE HERE\n",
    "\n",
    "\n",
    "\n",
    "\n",
    "    ### YOUR CODE ENDS HERE"
   ]
  },
  {
   "cell_type": "markdown",
   "metadata": {
    "id": "qQ-Yhl1Sgoka",
    "pycharm": {
     "name": "#%% md\n"
    }
   },
   "source": [
    "The following function will use your implementation to calculate Recall@K based on the similarity matrix."
   ]
  },
  {
   "cell_type": "code",
   "execution_count": null,
   "metadata": {
    "id": "z0sLS3uRCfdh",
    "pycharm": {
     "name": "#%%\n"
    }
   },
   "outputs": [],
   "source": [
    "def calculate_recall(queries, sentences, k, batch_size=1000):\n",
    "    \"\"\"\n",
    "    Calculates recall@k given the embeddings of the queries and sentences.\n",
    "    Assumes that only a single sentence with the same index as query is relevant.\n",
    "    Batching is implemented to avoid high memory usage.\n",
    "    Args:\n",
    "        queries: a numpy array with the embeddings of N queries\n",
    "        sentences: a numpy array with the embeddings of N sentences available for retrieval\n",
    "        k: number of top results to search for the relevant sentence\n",
    "        batch_size: number of queries to process at a time\n",
    "\n",
    "    Returns: calculated recall@k\n",
    "\n",
    "    \"\"\"\n",
    "    n_queries = queries.shape[0]\n",
    "    correct = np.zeros(n_queries, dtype=bool)\n",
    "\n",
    "    with tqdm.tqdm(total=n_queries) as pbar:\n",
    "        for batch_start in range(0, n_queries, batch_size):\n",
    "            batch_end = min(batch_start + batch_size, n_queries)\n",
    "            queries_batch = queries[batch_start:batch_end]\n",
    "            batch_similarity = cosine_similarity_m_to_n(queries_batch, sentences)\n",
    "\n",
    "            for i, similarity_row in enumerate(batch_similarity):\n",
    "                query_index = batch_start + i\n",
    "                top_k = top_k_indices(similarity_row, k=k, sorted=False)\n",
    "\n",
    "                if query_index in top_k:\n",
    "                    correct[query_index] = True\n",
    "\n",
    "                pbar.update(1)\n",
    "\n",
    "    recall = np.sum(correct) / n_queries\n",
    "    return recall"
   ]
  },
  {
   "cell_type": "markdown",
   "metadata": {
    "id": "3QgAgMiDgw8m",
    "pycharm": {
     "name": "#%% md\n"
    }
   },
   "source": [
    "You can use it like so:"
   ]
  },
  {
   "cell_type": "code",
   "execution_count": null,
   "metadata": {
    "id": "Yxpex7ZxHM7c",
    "pycharm": {
     "name": "#%%\n"
    }
   },
   "outputs": [],
   "source": [
    "recall_at_1 = calculate_recall(compr_embedding, sent_embedding, k=1, batch_size=1000)\n",
    "print(f'\\n{recall_at_1 * 100:.2f}%')"
   ]
  },
  {
   "cell_type": "markdown",
   "metadata": {
    "id": "zY5ZVq5ogzMI",
    "pycharm": {
     "name": "#%% md\n"
    }
   },
   "source": [
    "<a name='e15'></a>\n",
    "### Exercise 15: Evaluating retrieval methods\n",
    "\n",
    "(10p) Calculate recall for different values of $K$ for all methods:\n",
    "- BOW,\n",
    "- TF-IDF,\n",
    "- Pre-trained embeddings.\n",
    "\n",
    "Discuss the results.\n",
    "Comment on how recall changes based on the value of $K$. Are the results expected or surprising?"
   ]
  },
  {
   "cell_type": "code",
   "execution_count": null,
   "metadata": {
    "collapsed": false,
    "pycharm": {
     "name": "#%%\n"
    }
   },
   "outputs": [],
   "source": [
    "#### YOUR CODE HERE\n",
    "\n",
    "\n",
    "\n",
    "### YOUR CODE ENDS HERE"
   ]
  },
  {
   "cell_type": "markdown",
   "metadata": {
    "collapsed": false,
    "pycharm": {
     "name": "#%% md\n"
    }
   },
   "source": [
    "<a name='e16'></a>\n",
    "### Exercise 16: Improving retrieval\n",
    "\n",
    "(10p) Imagine that you work at a company and are tasked with delivering the best retrieval method. Select the most promising one and try to improve the scores (e.g. by changing the vocab size, loading different model, etc.).\n",
    "Discuss the results you achieve, even if you didn't manage to improve the scores."
   ]
  },
  {
   "cell_type": "code",
   "execution_count": null,
   "metadata": {
    "id": "YA9bEm5ehMq8",
    "pycharm": {
     "name": "#%%\n"
    }
   },
   "outputs": [],
   "source": [
    "#### YOUR CODE HERE\n",
    "\n",
    "\n",
    "\n",
    "### YOUR CODE ENDS HERE"
   ]
  },
  {
   "cell_type": "markdown",
   "metadata": {
    "collapsed": false,
    "pycharm": {
     "name": "#%% md\n"
    }
   },
   "source": [
    "// your comments"
   ]
  }
 ],
 "metadata": {
  "colab": {
   "provenance": [],
   "toc_visible": true
  },
  "kernelspec": {
   "display_name": "Python 3",
   "language": "python",
   "name": "python3"
  },
  "language_info": {
   "codemirror_mode": {
    "name": "ipython",
    "version": 3
   },
   "file_extension": ".py",
   "mimetype": "text/x-python",
   "name": "python",
   "nbconvert_exporter": "python",
   "pygments_lexer": "ipython3",
   "version": "3.11.0"
  }
 },
 "nbformat": 4,
 "nbformat_minor": 0
}
