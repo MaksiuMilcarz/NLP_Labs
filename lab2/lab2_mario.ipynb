{
 "cells": [
  {
   "cell_type": "markdown",
   "metadata": {
    "collapsed": false,
    "id": "od2YkWY8pSOC",
    "pycharm": {
     "name": "#%% md\n"
    }
   },
   "source": [
    "# NLP 2025\n",
    "# Lab 2: Word Vectors and Information Retrieval\n",
    "\n",
    "During the first few weeks, we discussed various ways to represent text 📝. One key question was: What should be the basic unit of representation? Words are the fundamental building blocks 🧱.\n",
    "\n",
    "In this lab, we will explore different text representation models, such as Bag-of-Words (BoW), TF-IDF and word embeddings 🔤➡️🔢. Among these, word embeddings are the most effective in terms of performance. They represent each word as a vector of numbers, where each vector captures the meaning of the word 🧠📊.\n",
    "\n",
    "These numerical representations (or weights) are learned using machine learning models 🤖. We’ll dive deeper into how these vectors are learned in the next lecture 📚.\n",
    "\n",
    "For now, we’ll focus on how different representation methods affect performance in an information retrieval task 🔍."
   ]
  },
  {
   "cell_type": "markdown",
   "metadata": {
    "collapsed": false,
    "id": "s93LS5bspSOD",
    "pycharm": {
     "name": "#%% md\n"
    }
   },
   "source": [
    "By the end of this lab, you should be able to:\n",
    "\n",
    "+ 🧼🔁 Implement and/or use built-in functions to preprocess your data (once again!)\n",
    "+ 🧱👜 Build a Bag-of-Words representation of the dataset\n",
    "+ 📊✨ Implement TF-IDF\n",
    "+ 📥🔤 Load pre-trained word embeddings\n",
    "+ 🔍🧠 Inspect and test word embedding properties\n",
    "+ 🗣️➡️📐 Use word embeddings to get sentence representations (aka sentence embeddings)\n",
    "+ 🧩🔎 Use sentence embeddings to solve more complex tasks like information retrieval\n",
    "+ 🧪📏 Design evaluation frameworks for specific NLP tasks and assess their difficulty\n",
    "\n",
    "### Score breakdown\n",
    "\n",
    "| Exercise            | Points |\n",
    "|---------------------|--------|\n",
    "| [Exercise 1](#e1)   | 1      |\n",
    "| [Exercise 2](#e2)   | 1      |\n",
    "| [Exercise 3](#e3)   | 1      |\n",
    "| [Exercise 4](#e4)   | 1      |\n",
    "| [Exercise 5](#e5)   | 1      |\n",
    "| [Exercise 6](#e6)   | 2      |\n",
    "| [Exercise 7](#e7)   | 10     |\n",
    "| [Exercise 8](#e8)   | 5      |\n",
    "| [Exercise 9](#e9)   | 15     |\n",
    "| [Exercise 10](#e10) | 10     |\n",
    "| [Exercise 11](#e11) | 10     |\n",
    "| [Exercise 12](#e12) | 5      |\n",
    "| [Exercise 13](#e13) | 15     |\n",
    "| [Exercise 14](#e14) | 3      |\n",
    "| [Exercise 15](#e15) | 10     |\n",
    "| [Exercise 16](#e16) | 10     |\n",
    "| Total               | 100    |\n",
    "\n",
    "This score will be scaled down to 1 and that will be your final lab score.\n",
    "\n",
    "### 📌 **Instructions for Delivery** (📅 **Deadline: 18/Apr 18:00**, 🎭 *wildcards possible*)\n",
    "\n",
    "✅ **Submission Requirements**\n",
    "+ 📄 You need to submit a **PDF of your report** (use the templates provided in **LaTeX** 🖋️ (*preferred*) or **Word** 📑) and a **copy of your notebook** 📓 with the code.\n",
    "+ ⚡ Make sure that **all cells are executed properly** ⚙️ and that **all figures/results/plots** 📊 you include in the report are also visible in your **executed notebook**.\n",
    "\n",
    "✅ **Collaboration & Integrity**\n",
    "+ 🗣️ While you may **discuss** the lab with others, you must **write your solutions with your group only**. If you **discuss specific tasks** with others, please **include their names** in the appendix of the report.\n",
    "+ 📜 **Honor Code applies** to this lab. For more details, check **Syllabus §7.2** ⚖️.\n",
    "+ 📢 **Mandatory Disclosure**:\n",
    "   - Any **websites** 🌐 (e.g., **Stack Overflow** 💡) or **other resources** used must be **listed and disclosed**.\n",
    "   - Any **GenAI tools** 🤖 (e.g., **ChatGPT**) used must be **explicitly mentioned**.\n",
    "   - 🚨 **Failure to disclose these resources is a violation of academic integrity**. See **Syllabus §7.3** for details."
   ]
  },
  {
   "cell_type": "markdown",
   "metadata": {
    "collapsed": false,
    "id": "aHYGq5RUpSOD",
    "pycharm": {
     "name": "#%% md\n"
    }
   },
   "source": [
    "## 0. Setup\n",
    "\n",
    "As in the last lab, we will be using huggingface datasets library ([https://huggingface.co/datasets](https://huggingface.co/datasets)). You can find the detailed documentation and tutorials here: [https://huggingface.co/docs/datasets/en/index](https://huggingface.co/docs/datasets/en/index)\n",
    "\n",
    "If you don't have it installed you can run the code below or install it via `pip` in your terminal. If you are using Google Colab, you can uncomment and run the code below in a code cell. Restarting of the runtime may be required after installation (Runtime/Restart session)."
   ]
  },
  {
   "cell_type": "markdown",
   "source": [
    "Previously installed datasets library version of 3.2.0 had an error when combined with numpy version >2. If you encounter an error at some point it might require to update the datasets library to the newer version. You can do that by running the code below. If you are using Google Colab, you can run the code below in a code cell. If you are using Jupyter Notebook, you can run the code below in a code cell or in a terminal."
   ],
   "metadata": {
    "collapsed": false,
    "pycharm": {
     "name": "#%% md\n"
    }
   }
  },
  {
   "cell_type": "code",
   "source": "#! pip install --upgrade --force-reinstall datasets",
   "metadata": {
    "collapsed": false,
    "pycharm": {
     "name": "#%%\n"
    },
    "ExecuteTime": {
     "end_time": "2025-04-16T15:17:20.928340Z",
     "start_time": "2025-04-16T15:17:20.924921Z"
    }
   },
   "outputs": [],
   "execution_count": 2
  },
  {
   "cell_type": "markdown",
   "metadata": {
    "collapsed": false,
    "id": "5CCI1TPJpSOF",
    "pycharm": {
     "name": "#%% md\n"
    }
   },
   "source": [
    "As usual, we start by importing some essential Python libraries and we will be using. Apart from `gensim` (which is going to be used for word embeddings), we have already seen the others."
   ]
  },
  {
   "cell_type": "code",
   "metadata": {
    "id": "CRe8W4hKpSOF",
    "pycharm": {
     "name": "#%%\n"
    },
    "ExecuteTime": {
     "end_time": "2025-04-16T15:17:27.127640Z",
     "start_time": "2025-04-16T15:17:20.944789Z"
    }
   },
   "source": [
    "import re\n",
    "\n",
    "import numpy as np\n",
    "import matplotlib.pyplot as plt\n",
    "import datasets\n",
    "\n",
    "import ssl\n",
    "\n",
    "try:\n",
    "    _create_unverified_https_context = ssl._create_unverified_context\n",
    "except AttributeError:\n",
    "    pass\n",
    "else:\n",
    "    ssl._create_default_https_context = _create_unverified_https_context\n",
    "\n",
    "import nltk\n",
    "nltk.download('punkt_tab')\n",
    "\n",
    "import tqdm\n",
    "import gensim\n",
    "\n"
   ],
   "outputs": [
    {
     "name": "stderr",
     "output_type": "stream",
     "text": [
      "/Users/mariowettig/PycharmProjects/NLP_Labs/.venv/lib/python3.11/site-packages/tqdm/auto.py:21: TqdmWarning: IProgress not found. Please update jupyter and ipywidgets. See https://ipywidgets.readthedocs.io/en/stable/user_install.html\n",
      "  from .autonotebook import tqdm as notebook_tqdm\n",
      "[nltk_data] Downloading package punkt_tab to\n",
      "[nltk_data]     /Users/mariowettig/nltk_data...\n",
      "[nltk_data]   Package punkt_tab is already up-to-date!\n"
     ]
    }
   ],
   "execution_count": 3
  },
  {
   "cell_type": "markdown",
   "metadata": {
    "collapsed": false,
    "id": "NXy-1KiCpSOF",
    "pycharm": {
     "name": "#%% md\n"
    }
   },
   "source": [
    "p## 1. Load and Preprocess Data\n",
    "\n",
    "*Sentence compression* involves rephrasing sentences to make them shorter while still retaining the original meaning. A reliable compression system would be valuable for mobile devices and could also serve as a component in an extractive summarization system.\n",
    "\n",
    "The dataset we are going to use can be found on [Huggingface](https://huggingface.co/datasets/embedding-data/sentence-compression). It concerns a set of 180,000 pairs of sentences, aka it is a parallel corpus of sentences and their equivalent compressions. It has been collected by harvesting news articles from the Internet where the headline appears to be similar to the first sentence and that property is used to find an \"extractive\" compression of the sentence.\n",
    "\n",
    "For example, for the sentence\n",
    "\n",
    "`\"Regulators Friday shut down a small Florida bank, bringing to 119 the number of US bank failures this year amid mounting loan defaults\"`\n",
    "\n",
    "the compressed equivalent (based on the dataset) is:\n",
    "\n",
    "`\"Regulators shut down small Florida bank\"`.\n",
    "\n",
    "\n",
    "For more information you can read the original paper (from Google) [here](https://aclanthology.org/D13-1155.pdf). We strongly recommend going over the paper to gain further insights. Notice that the paper is from 2013, therefore word embeddings have not been widely introduced yet in NLP tasks, meaning that the methods applied were based on the traditional NLP pipeline (feature extraction + ML)."
   ]
  },
  {
   "cell_type": "markdown",
   "metadata": {
    "collapsed": false,
    "id": "ztJX2GRVpSOF",
    "pycharm": {
     "name": "#%% md\n"
    }
   },
   "source": [
    "### 1.1 Loading the Dataset\n",
    "\n",
    "The dataset will be loaded as a Pandas DataFrame. This may take a few minutes because of the large size of the data.\n",
    "\n",
    "Make sure to inspect the dataset and make sure it is imported properly."
   ]
  },
  {
   "cell_type": "code",
   "metadata": {
    "id": "tay2NXPTpSOG",
    "pycharm": {
     "name": "#%%\n"
    },
    "ExecuteTime": {
     "end_time": "2025-04-16T15:17:29.016754Z",
     "start_time": "2025-04-16T15:17:27.170353Z"
    }
   },
   "source": [
    "ds = datasets.load_dataset('embedding-data/sentence-compression')\n",
    "print(ds)"
   ],
   "outputs": [
    {
     "name": "stdout",
     "output_type": "stream",
     "text": [
      "DatasetDict({\n",
      "    train: Dataset({\n",
      "        features: ['set'],\n",
      "        num_rows: 180000\n",
      "    })\n",
      "})\n"
     ]
    }
   ],
   "execution_count": 4
  },
  {
   "cell_type": "code",
   "metadata": {
    "id": "bUud3eZVpSOH",
    "pycharm": {
     "name": "#%%\n"
    },
    "ExecuteTime": {
     "end_time": "2025-04-16T15:17:29.034957Z",
     "start_time": "2025-04-16T15:17:29.029641Z"
    }
   },
   "source": [
    "for i in range(100):\n",
    "    print(ds['train'][i])"
   ],
   "outputs": [
    {
     "name": "stdout",
     "output_type": "stream",
     "text": [
      "{'set': [\"The USHL completed an expansion draft on Monday as 10 players who were on the rosters of USHL teams during the 2009-10 season were selected by the League's two newest entries, the Muskegon Lumberjacks and Dubuque Fighting Saints.\", 'USHL completes expansion draft']}\n",
      "{'set': ['Major League Baseball Commissioner Bud Selig will be speaking at St. Norbert College next month.', 'Bud Selig to speak at St. Norbert College']}\n",
      "{'set': [\"It's fresh cherry time in Michigan and the best time to enjoy this delicious and nutritious fruit.\", \"It's cherry time\"]}\n",
      "{'set': ['An Evesham man is facing charges in Pennsylvania after he allegedly dragged his girlfriend from the side of his pickup truck on the campus of Kutztown University in the early morning hours of Dec. 5, police said.', 'Evesham man faces charges for Pa.']}\n",
      "{'set': [\"NRT LLC, one of the nation's largest residential real estate brokerage companies, announced several executive appointments within its Coldwell Banker Residential Brokerage operations in Southern California.\", 'NRT announces executive appointments at its Coldwell Banker operations in Southern California']}\n",
      "{'set': ['THE JSE kept toying with an all time high by midday today as resources continued to fuel the bourse.', 'JSE keeps toying with all time high']}\n",
      "{'set': ['The government is defending the latest police crime statistics despite a worrying rise in the recorded amount of violent offending.', 'Government defends crime statistics']}\n",
      "{'set': ['The renovated Marappalam bridge, which had been opened for two-wheelers last week, was opened for other vehicles also on Friday.', 'Marappalam bridge opened']}\n",
      "{'set': ['A new survey shows 30 percent of Californians use Twitter, and more and more of us are using our smart phones to go online.', 'Survey: 30 percent of Californians use Twitter']}\n",
      "{'set': ['Brightpoint ,a provider of logistic services to the mobile industry, has started operations in the Turkish market.', 'Brightpoint starts operations on Turkish market']}\n",
      "{'set': ['A WOMAN has been seriously injured in a collision with a police van in North Devon.', 'Woman seriously injured in collision with police van']}\n",
      "{'set': ['Alfalfa sprouts recalled because of salmonella poisoning were sold to more than 400 Wal-Mart stores in 15 states.', 'Alfalfa sprouts recall']}\n",
      "{'set': ['A strip club will open in Rochester High Street tonight, 15 months after it was approved.', 'Strip club opens tonight']}\n",
      "{'set': [\"Hypermarcas SA, Brazil's fourth- largest consumer-goods company by market value, declined the most in two weeks after JPMorgan Chase & Co. cut its rating on concern the company may struggle to integrate recent acquisitions.\", 'Hypermarcas declines most in two weeks as JPMorgan cuts rating']}\n",
      "{'set': ['It is being reported that Los Angeles police are looking for an apparently suicidal man who was released from a hospital, after being brought there by police upon being found hanging by his neck in a holding cell.', 'La police looking for suicidal man']}\n",
      "{'set': ['The Jersey Shore cast is being refused at many Miami hotspots since filming began.', 'Jersey Shore cast being refused at many Miami hotspots']}\n",
      "{'set': ['A tourist in China get a shock when a brown bear charges his car.', 'Brown bear charges car']}\n",
      "{'set': ['A team of RMIT students won a supply chain simulation game hosted by Victoria University in June.', 'RMIT students win supply chain simulation']}\n",
      "{'set': ['After months of speculation over mental stability, the Deerfield murder suspect was deemed fit to stand trial Friday.', 'Deerfield murder suspect deemed fit to stand trial']}\n",
      "{'set': ['Marriott International has filled top leadership positions on its newly formed Middle East and Africa regional team, based here in Dubai, announced Mark Satterfield, chief operations officer.', 'Marriott International fills top leadership positions on its Middle East and Africa regional team']}\n",
      "{'set': ['The war of words between Team Anna and the government grew intense on Sunday, with Kiran Bedi describing Prime Minister Manmohan Singh as Dhritarashtra.', \"Team Anna's Kiran Bedi describes Manmohan Singh as 'Dhritarashtra'\"]}\n",
      "{'set': ['Kendis Gibson has been named a Correspondent for CBS Newspath out of the Los Angeles bureau of CBS News.', 'Kendis Gibson named correspondent for CBS Newspath']}\n",
      "{'set': [\"San Francisco Giants All-Star outfielder Melky Cabrera was suspended for 50 games Wednesday for testosterone, violating MLB's Joint Drug Prevention and Treatment Program.\", 'Melky Cabrera suspended 50 games for testosterone']}\n",
      "{'set': ['Yamaha Motor Co., Ltd. has announced that it will withdraw from its life science business as of the end of December 2010 due to expected difficulties in achieving profitability attributed to limited market size and future growth prospects.', 'Yamaha Motor to withdraw from life science business']}\n",
      "{'set': [\"More land for commercial development opened on the city's East End when the Jefferson City Planning and Zoning Commission approved two zoning requests Thursday.\", 'Land for commercial development opens up on East End']}\n",
      "{'set': ['>>> three years after that massive government bailout saved it, general motors is reporting its highest profits ever.', 'General motors reports highest profits ever']}\n",
      "{'set': ['A new study published in the Journal of Clinical Investigation has found that vitamin D may be an effective therapeutic agent to treat or prevent allergy to a common mold that can complicate asthma and frequently affect patients with Cystic Fibrosis.', 'Vitamin D may treat or prevent allergy to common mold']}\n",
      "{'set': [\"At a regular press conference of the Ministry of National Defense of the People's Republic of China held on June 28, 2012, Geng Yansheng, spokesman of the MND, said the maritime liaison mechanism between the defense departments of China and Japan can help to avoid maritime misunderstanding and misjudgment.\", 'Maritime liaison mechanism between China and Japan can help to avoid maritime misunderstanding and misjudgment']}\n",
      "{'set': ['Motorcycle mogul Jesse James has moved on in life with Kat Von D -- just after two months of his divorce from Sandra Bullock.', 'Jesse James moves on with Kat Von D']}\n",
      "{'set': ['A person walking on a Gaston County road was hit by a fire truck early Wednesday morning.', 'Person hit by fire truck']}\n",
      "{'set': ['Moga, July 15 Two unidentified migrant labourers were crushed to death by a speeding vehicle near Chuharchak village here when they were standing near the roadside.', 'Two migrant labourers crushed to death']}\n",
      "{'set': ['US young adults seem to worry as much about their online privacy like the older adults, only difference being that they are naive, a study has revealed.', 'Young adults worry as much about privacy like older adults']}\n",
      "{'set': ['Neste Oil will publish its fourth quarter and full year 2011 results on Friday, 3 February 2012 at approximately 9 am.', 'Neste Oil to publish its 2011 results on 3 February 2012']}\n",
      "{'set': ['Clearwater Marine Aquarium staff released 46 sea turtles back into the wild this morning at Honeymoon Island State Park.', 'Clearwater Marine Aquarium releases turtles']}\n",
      "{'set': ['Microsoft has put together an incident management team to monitor the swine flu outbreak and provide assistance to affected employees.', \"Microsoft's incident management team monitors swine flu\"]}\n",
      "{'set': [\"The day is the second day of the second month in China's lunar calendar, which is popularly known as the day when the dragon raises its head.\", 'Dragon raises its head']}\n",
      "{'set': [\"Albion boss Gus Poyet will make changes to both the team and tactics against Huddersfield at Withdean tomorrow night in an attempt to cure the Seagulls' wretched home form.\", 'Poyet to make changes']}\n",
      "{'set': ['ESPN on Tuesday began making a significant reduction of its work force, laying off more than 100 employees at its Bristol, Conn., headquarters and in at least one regional technology center.', 'ESPN lays off more than 100 employees']}\n",
      "{'set': ['Swift died on 18 April at his Manhattan home.', 'Voice actor Swift dies']}\n",
      "{'set': ['As reported by EGaming Review: ``Dedicated egaming bank Ivobank is refusing new customers amid doubt over its future.', 'Ivobank refusing new customers']}\n",
      "{'set': [\"Partition affected the Indian Muslims adversely, especially those in the country's northern and eastern regions, and its socio-economic impact remains understudied, said Vice President Hamid Ansari on Monday.\", 'Partition affected Muslims adversely:']}\n",
      "{'set': ['Google is reportedly updating its privacy policy after the settlement of privacy lawsuit over its Buzz.', 'Google updates its privacy policy']}\n",
      "{'set': ['A book club that meets monthly in The Victoria Park pub on Raymend Road is hoping to welcome new members to its next meeting, at 7.30pm on Tuesday, 22 March 2011.', 'Bedminster book club welcomes new members']}\n",
      "{'set': ['Premier Mario Monti formed a new Italian government without a single politician Wednesday, drawing from the ranks of bankers, diplomats and business executives to create a team to steer Italy away from financial disaster.', 'Monti forms Italian government with no politicians']}\n",
      "{'set': ['US President Barack Obama arrived in Brazil Saturday, launching the first leg of a Latin America tour focused on trade and job creation.', 'President Obama arrives in Brazil']}\n",
      "{'set': ['Dive teams searched Skaneateles Lake Wednesday night, looking for a possible missing boater.', 'Dive teams looking for possible missing boater']}\n",
      "{'set': ['A LIT firework was shoved through the letterbox of a house while a couple slept.', 'Lit firework shoved through letterbox']}\n",
      "{'set': [\"London, March 11 American singer Lady Gaga has no boundaries on her relationships and says she won't mind falling in love with a woman.\", \"Won't mind falling in love with a woman:\"]}\n",
      "{'set': ['Jennifer Aniston did her own stunts in The Bounty Hunter, despite her high heels.', 'Jennifer Aniston does stunt in heels']}\n",
      "{'set': ['The International Olympic Committee today announced that it has disqualified Syrian athlete Ghfran Almouhamad from the Games of the XXX Olympiad in London for an anti-doping rule violation.', 'Ioc disqualifies hurdler Almouhamad for anti-doping violation']}\n",
      "{'set': ['Motorola has just unveiled its gallery of conceptual handsets from the bowels of its design studios in order to celebrate 25 years of the cell phone, and we wish Motorola the best in whatever endeavors they embark upon with their future handset designs.', 'Motorola celebrates 25 years of cell phones']}\n",
      "{'set': ['Major private security companies signed a code of conduct Tuesday, pledging to respect human rights and the rule of law in conflict zones such as Iraq and Afghanistan, where some have been accused of abuses against the local population and reckless behavior.', 'Private security companies sign code of conduct']}\n",
      "{'set': ['Florida quarterback Tim Tebow was taken to a hospital in the back of an ambulance following a hard hit in the third quarter against Kentucky on Saturday night.', 'Tebow taken to hospital after hard hit']}\n",
      "{'set': ['In occupied Kashmir, several houses were gutted in a fire in Bandipore district.', 'Several house gutted in fire in Bandipore']}\n",
      "{'set': ['A lesbian couple, who eloped last week from this district, has been traced to Roorkee after a complaint by the family of one of the girls, police said on Saturday.', 'Lesbian couple traced to Roorkee']}\n",
      "{'set': ['YouTube today is launching XL, a new interface for the site that is customized for televisions.', 'YouTube launches xl:']}\n",
      "{'set': ['Flyers forward Jaromir Jagr, who left the Winter Classic with a leg injury on Monday, has a mild left groin strain, and will miss seven to 10 days.', 'Flyers forward Jaromir Jagr has a left groin strain, could miss up to 10 days']}\n",
      "{'set': ['Kyrgyzstan is to enter the Customs Union of Russia, Belorussia and Kazakhstan.', 'Kyrgyzstan to enter Customs Union']}\n",
      "{'set': ['Nigel Hasselbaink is back in contention for Hamilton`s Scottish Cup clash against Alloa after recovering from a knee injury.', 'Hasselbaink could be back']}\n",
      "{'set': ['England beat Bangladesh by 181 runs on the fifth day of the first test at the Zohur Ahmed Chowdhury Stadium on Tuesday.', 'England beat Bangladesh 181 runs in first test']}\n",
      "{'set': ['Apple has paid around GBP 3 million to buy 8.2 million shares in UK-based digital radio maker Imagination Technologies.', 'Apple buys into digital radio maker Imagination Technologies']}\n",
      "{'set': ['A US national was kidnapped in Pakistan in the eastern city of Lahore, police officials said on Saturday.', 'US national kidnapped in Pakistan, police say']}\n",
      "{'set': ['Trinidad and Tobago`s murder toll for this year jumped to 420 Thursday with the brutal murder of two Swedish nationals.', 'Trinidad & Tobago`s murder toll jumps with murder of Swedish nationals']}\n",
      "{'set': [\"Newly wedded Innocent Ujah Idibia popularly called 2face turned 'pastor' in Ibadan while performing on the Star Trek stage on May 25, 2012.\", '2face turns pastor in Ibadan']}\n",
      "{'set': ['Long-time anchorman Jack Williams is leaving the 11 pm newscast at WBZ-TV, but will continue to co-anchor the 6 pm newscast with Lisa Hughes, according to Ro Dooley Webster, Boston market director of communications at WBZ-TV.', 'Jack Williams leaving 11 pm newscast']}\n",
      "{'set': ['Governor Brown visited a Riverside elementary school to try to gain Republican support to extend temporary tax hikes.', 'Governor Brown visits Riverside to gain Republican support']}\n",
      "{'set': ['Two small bombs exploded overnight outside the office of an anti-government protest leader amid intensifying political tension as street protests entered their fourth week, police said Monday.', 'Two small bombs explode outside office of anti-government protest leader, police say']}\n",
      "{'set': ['Western Union says its profit fell in the fourth quarter on slower demand for money transfers and bill payments.', 'Western Union profit falls on slowing demand']}\n",
      "{'set': [\"For anyone who is trying to get pregnant, the most important question you should ask is ``how to calculate ovulation?''\", 'How to calculate ovulation?']}\n",
      "{'set': [\"Benton County Sheriff's deputies say a Prosser boy was stabbed multiple times last night over a narcotics dispute.\", 'Prosser boy stabbed multiple times']}\n",
      "{'set': ['Percy Harvin returned to practice with the Vikings Thursday and reported no lingering effects from his latest migraine episode.', 'Percy Harvin returns to practice']}\n",
      "{'set': [\"Paul McCartney says that The Beatles almost reformed while they were all still alive, but decided against it so they wouldn't ruin their legacy.\", 'The Beatles almost reformed while they were all still alive']}\n",
      "{'set': [\"Several hundred mourners have gathered to farewell Thomas Kelly at a private school in Sydney's west.\", 'Hundreds gather to farewell Thomas Kelly']}\n",
      "{'set': ['In a story by David Biderman from the Wall St. Journal, the Boston Red Sox are the second most despised team in baseball, behind only the Cleveland Indians.', 'Red Sox are second most despised team in baseball']}\n",
      "{'set': [\"Malta's register has attracted 35 additional aircraft since the new legal and regulatory framework was launched in January 2011, bringing the total to 111, the Transport Ministry has told The Times Business.\", 'Malta register attracts 35 additional aircraft']}\n",
      "{'set': [\"But in an interview with Bloomberg Business Week, Obama said he doesn't ``begrudge'' the $17 million bonus awarded to JPMorgan Chase CEO Jamie Dimon or the $9 million issued to Goldman Sachs CEO Lloyd Blankfein.\", \"Obama doesn't 'begrudge' bonuses\"]}\n",
      "{'set': ['One in 10 workers has taken time off because of depression, a poll of 7,000 people in seven European countries has found.', 'One in 10 workers has taken time off for depression']}\n",
      "{'set': [\"Michael Boley says Giants showed they 'are a team to be reckoned with' Champions aren't crowned in October, but Sunday's win over the 49ers had so much physicality and emotional intensity that it was easy to forget the leaves are still on the trees.\", \"Michael Boley says Giants showed they 'are a team to be reckoned with'\"]}\n",
      "{'set': ['The Army bomb squad has arrived at the scene of a bomb scare in Hastings .', 'Bomb squad arrives']}\n",
      "{'set': [\"Australian death metallers Impetuous Ritual are currently streaming two new songs online from their debut album ``Relentless Execution Of Ceremonial Excrescence.''\", 'Impetuous Ritual streaming two new songs online']}\n",
      "{'set': ['An 8-year-old boy has died after he was hit by a car driven by his own mother at a shopping centre north of Brisbane.', 'Boy dies after being hit by car']}\n",
      "{'set': ['SMART Technologies Inc. announced a corporate restructuring that will sharpen focus on each of its target markets in Education and Enterprise while simultaneously streamlining its corporate support functions.', 'Smart Technologies announces corporate restructuring']}\n",
      "{'set': ['Sega and Obsidian Entertainment announced today Alpha Protocol, a new espionage role-playing game set in the modern world.', 'SEGA announces Alpha Protocol']}\n",
      "{'set': ['Wichita Mayor Carl Brewer has been hospitalized after experiencing chest pains on Tuesday, City of Wichita officials said.', 'Mayor Brewer hospitalized']}\n",
      "{'set': ['Idaho football coach Robb Akey will be in Boise and Twin Falls on Saturday as part of his statewide signing day tour.', \"Idaho's Akey will be in Boise on Saturday\"]}\n",
      "{'set': [\"A University of Iowa study found that women who make their sexual debut as young teens are more likely to divorce, especially if ``the first time'' was unwanted, or if she had mixed feelings about it.\", 'Women who make their sexual debut as young teens more likely to divorce']}\n",
      "{'set': ['The parents of Chelsea king will hold a community forum as part of their campaign to push for tougher laws against sex offenders tonight.', 'The parents of Chelsea king to hold community forum']}\n",
      "{'set': ['Perth, Feb 23 Australian pacer Brett Lee is set to retire from Test cricket on the advice of England rival and close friend Andrew Flintoff.', 'Australian pacer Brett Lee to retire from Test cricket']}\n",
      "{'set': ['When animals attack wanders into Japan and that leads us to a very odd story.', 'When animals attack:']}\n",
      "{'set': ['Dutch Premier League leaders PSV Eindhoven lost 0-1 at home to ADO Den Haag on Saturday evening.', 'Dutch Premier League leaders lose at home']}\n",
      "{'set': ['War veterans who served in Malaya in the 1950s and 1960s have been denied the right to wear medals of gratitude given to them by the Malaysian government.', 'Veterans denied right to wear medals']}\n",
      "{'set': ['Philips Electronics warned of sharply lower profits at its lighting division and toasters-to-shavers consumer business, due to weak demand in Europe.', 'Philips warns of lower profits in lighting and consumer business']}\n",
      "{'set': ['The Murphysboro Apple Festival Funland tickets and pageant tickets will go on sale starting Monday, August 15.', 'Murphysboro Apple festival tickets to go on sale']}\n",
      "{'set': ['European stocks edged lower in early trading Friday, after another weak session for Wall Street, with banks, miners and oil companies all losing ground.', 'European stocks edged lower in early trading']}\n",
      "{'set': ['Percy Harvin will be limited in practice Tuesday for the Minnesota Vikings due to an apparent knee injury.', 'Percy Harvin limited in practice Tuesday with knee injury:']}\n",
      "{'set': ['ESPN has dropped Hank Williams Jr. from opening Monday Night Football tonight after controversial comments Monday about President Obama, USA Today first reported.', \"Espn drops Hank Williams Jr. from 'Monday Night Football'\"]}\n",
      "{'set': [\"Sakio Bika, the ``Contender'' season-three champion, says former champion Anthony Mundine is scared to fight him.\", \"Sakio Bika: ``Anthony Mundine is scared to fight me''\"]}\n",
      "{'set': ['Labour unions say different electricity tariffs by Eskom and municipalities are becoming a significant trigger for service delivery protests.', \"'Electricity tariffs trigger service delivery protests'\"]}\n",
      "{'set': [\"Quality Technology Services, one of the nation's largest privately held providers of data center facilities and managed services, announced today that Ultimate Software, the leading provider of unified HR, payroll, and talent management solutions, has renewed its contract with QTS' Miami data center facility.\", 'Ultimate Software renews contract with QTS data center']}\n",
      "{'set': [\"The mum of the model shot dead by Oscar Pistorius wept yesterday: ``Why would he kill my angel?''\", \"``Why would he kill my angel?''\"]}\n"
     ]
    }
   ],
   "execution_count": 5
  },
  {
   "cell_type": "markdown",
   "metadata": {
    "collapsed": false,
    "id": "HfJSiWxrpSOH",
    "pycharm": {
     "name": "#%% md\n"
    }
   },
   "source": [
    "The dataset comes with only the `train` split so we will have to split it ourselves."
   ]
  },
  {
   "cell_type": "code",
   "metadata": {
    "id": "tATL53MWpSOH",
    "pycharm": {
     "name": "#%%\n"
    },
    "ExecuteTime": {
     "end_time": "2025-04-16T15:17:29.093232Z",
     "start_time": "2025-04-16T15:17:29.066078Z"
    }
   },
   "source": [
    "split_ds = ds['train'].train_test_split(test_size=0.2)\n",
    "print(split_ds)"
   ],
   "outputs": [
    {
     "name": "stdout",
     "output_type": "stream",
     "text": [
      "DatasetDict({\n",
      "    train: Dataset({\n",
      "        features: ['set'],\n",
      "        num_rows: 144000\n",
      "    })\n",
      "    test: Dataset({\n",
      "        features: ['set'],\n",
      "        num_rows: 36000\n",
      "    })\n",
      "})\n"
     ]
    }
   ],
   "execution_count": 6
  },
  {
   "cell_type": "markdown",
   "metadata": {
    "collapsed": false,
    "id": "L133t3CqpSOH",
    "pycharm": {
     "name": "#%% md\n"
    }
   },
   "source": [
    "### 1.2 Preprocessing the dataset\n",
    "In this section we will prepare the dataset, aka clean the sentences and tokenize.\n",
    "\n",
    "First, let's write the function to clean the text. It can be similar to the one from the previous lab (Lab1) but make sure that it makes sense for this dataset and task.\n",
    "\n",
    "More specifically, think about lower-casing, punctuation, stop-words and lemmatization/stemming and the impact it might have on the dataset. Also reflect on the fact that with word embeddings we want to uncover semantic relationships between words, whereas with bag-of-words we were trying to capture different morphological variations."
   ]
  },
  {
   "cell_type": "markdown",
   "metadata": {
    "collapsed": false,
    "id": "mQszN6GNpSOH",
    "pycharm": {
     "name": "#%% md\n"
    }
   },
   "source": [
    "<a name='e1'></a>\n",
    "### Exercise 1: Clean function\n",
    "(1p) Fill in the following function to clean the dataset. Implement at least 3 different steps."
   ]
  },
  {
   "cell_type": "code",
   "metadata": {
    "id": "TxjfLQj6pSOH",
    "pycharm": {
     "name": "#%%\n"
    },
    "ExecuteTime": {
     "end_time": "2025-04-16T15:17:29.102603Z",
     "start_time": "2025-04-16T15:17:29.098325Z"
    }
   },
   "source": [
    "\n",
    "def clean(text):\n",
    "    \"\"\"\n",
    "    Cleans the given text\n",
    "    Args:\n",
    "        text: a str with the text to clean\n",
    "\n",
    "    Returns: a str with the cleaned text\n",
    "\n",
    "    \"\"\"\n",
    "\n",
    "    # Empty text\n",
    "    if text == '':\n",
    "        return text\n",
    "\n",
    "    # 'text' from the example can be of type numpy.str_, let's convert it to a python str\n",
    "    text = str(text)\n",
    "\n",
    "    #you might need more\n",
    "    #add them here\n",
    "\n",
    "    ### YOUR CODE HERE\n",
    "\n",
    "    text = re.sub(r'\\'s', '', text)\n",
    "    text = re.sub(r\"\\`\\`\", '\"', text)\n",
    "    text = re.sub(r\"\\'\\'\", '\"', text)\n",
    "    text = re.sub(r\"\\'\", '\"', text)\n",
    "    text = re.sub(r'\\,', '', text)\n",
    "    text = re.sub(r'\\-', ' ', text)\n",
    "    text = re.sub(r'(?<!\\d)\\.(?!\\d)', '', text)\n",
    "\n",
    "    # # remove stop words\n",
    "    # stopwords = ['a','i','the','in','of','for','at','to','on','with','from','that','he','she','it','is','by','as', 'an','what','his','her','they','those','these','its','was','has','and']\n",
    "    # stopword_pattern = re.compile(rf\"\\b({'|'.join(map(re.escape, stopwords))})\\b\", re.IGNORECASE)\n",
    "    # text = stopword_pattern.sub('', text)\n",
    "\n",
    "\n",
    "    # replace contractions (a bit extensive)\n",
    "    text = text.replace(\"’\", \"'\").replace(\"‘\", \"'\").replace(\"“\", '\"').replace(\"”\", '\"')\n",
    "    text = re.sub(r\"\\b(what|who|where|when|why|how|there|it|here|she|he|that)\\'s\\b\", r\"\\1 is\", text, flags=re.IGNORECASE)\n",
    "    text = re.sub(r\"\\'re\\b\", \" are\", text, flags=re.IGNORECASE)\n",
    "    text = re.sub(r\"\\'ve\\b\", \" have\", text, flags=re.IGNORECASE)\n",
    "    text = re.sub(r\"\\'ll\\b\", \" will\", text, flags=re.IGNORECASE)\n",
    "    text = re.sub(r\"\\'d\\b\", \" would\", text, flags=re.IGNORECASE)\n",
    "    text = re.sub(r\"can\\'t\\b\", \"can not\", text, flags=re.IGNORECASE)\n",
    "    text = re.sub(r\"won\\'t\\b\", \"will not\", text, flags=re.IGNORECASE)\n",
    "    text = re.sub(r\"n\\'t\\b\", \" not\", text, flags=re.IGNORECASE)\n",
    "\n",
    "    # Space out punctuation\n",
    "    text = re.sub(r'(?<!\\d)([.,:;!?])(?!\\d)', r' \\1 ', text)\n",
    "\n",
    "\n",
    "    # remove repeated spaces\n",
    "    text = re.sub(r'\\s+', ' ', text)\n",
    "\n",
    "    ### YOUR CODE ENDS HERE\n",
    "\n",
    "    text = text.strip()\n",
    "\n",
    "    # Update the example with the cleaned text\n",
    "    return text"
   ],
   "outputs": [],
   "execution_count": 7
  },
  {
   "cell_type": "markdown",
   "metadata": {
    "collapsed": false,
    "id": "gAqf1AoupSOJ",
    "pycharm": {
     "name": "#%% md\n"
    }
   },
   "source": [
    "The following function will apply the function (sic) you just wrote to the whole dataset. More specifically, it takes the first entry (`sentence`) from the set of uncompressed/compressed pairs, applies the `clean` function and saves the processed sentence in the field `clean_sentence`. The same is dome for the compressed version of the sentence (saved as `clean_compressed`)."
   ]
  },
  {
   "cell_type": "code",
   "metadata": {
    "id": "WZn-M4_vpSOJ",
    "pycharm": {
     "name": "#%%\n"
    },
    "ExecuteTime": {
     "end_time": "2025-04-16T15:17:29.118700Z",
     "start_time": "2025-04-16T15:17:29.116729Z"
    }
   },
   "source": [
    "def clean_dataset(example):\n",
    "    \"\"\"\n",
    "    Cleans the sentence and compressed sentence in the example from the Dataset\n",
    "    Args:\n",
    "        example: an example from the Dataset\n",
    "\n",
    "    Returns: updated example with 'clean_sentence' and 'clean_compressed' cleaned\n",
    "\n",
    "    \"\"\"\n",
    "    sentence, compressed = example['set']\n",
    "    clean_sentence = clean(sentence)\n",
    "    clean_compressed = clean(compressed)\n",
    "    example['clean_sentence'] = clean_sentence\n",
    "    example['clean_compressed'] = clean_compressed\n",
    "    return example"
   ],
   "outputs": [],
   "execution_count": 8
  },
  {
   "cell_type": "markdown",
   "metadata": {
    "collapsed": false,
    "id": "_KVujosKpSOJ",
    "pycharm": {
     "name": "#%% md\n"
    }
   },
   "source": [
    "Below we apply the function to the whole dataset (using `map`) and we can also inspect the result."
   ]
  },
  {
   "cell_type": "code",
   "metadata": {
    "id": "NBS1JbISpSOJ",
    "pycharm": {
     "name": "#%%\n"
    },
    "ExecuteTime": {
     "end_time": "2025-04-16T15:17:44.094187Z",
     "start_time": "2025-04-16T15:17:29.137523Z"
    }
   },
   "source": [
    "split_ds = split_ds.map(clean_dataset)\n",
    "print(split_ds)\n"
   ],
   "outputs": [
    {
     "name": "stderr",
     "output_type": "stream",
     "text": [
      "Map: 100%|██████████| 144000/144000 [00:12<00:00, 11901.43 examples/s]\n",
      "Map: 100%|██████████| 36000/36000 [00:02<00:00, 12639.30 examples/s]"
     ]
    },
    {
     "name": "stdout",
     "output_type": "stream",
     "text": [
      "DatasetDict({\n",
      "    train: Dataset({\n",
      "        features: ['set', 'clean_sentence', 'clean_compressed'],\n",
      "        num_rows: 144000\n",
      "    })\n",
      "    test: Dataset({\n",
      "        features: ['set', 'clean_sentence', 'clean_compressed'],\n",
      "        num_rows: 36000\n",
      "    })\n",
      "})\n"
     ]
    },
    {
     "name": "stderr",
     "output_type": "stream",
     "text": [
      "\n"
     ]
    }
   ],
   "execution_count": 9
  },
  {
   "metadata": {
    "ExecuteTime": {
     "end_time": "2025-04-16T15:17:44.144944Z",
     "start_time": "2025-04-16T15:17:44.140584Z"
    }
   },
   "cell_type": "code",
   "source": [
    "for i in range(10):\n",
    "    print(split_ds['train'][i])\n",
    "\n",
    "for i in range(10):\n",
    "    print(split_ds['train'][i]['clean_compressed'])"
   ],
   "outputs": [
    {
     "name": "stdout",
     "output_type": "stream",
     "text": [
      "{'set': [\"PN deputy leader Simon Busuttil keeps up the pressure on Labour over Anglu Farrugia interview, insists that PL is 'morally bankrupt'.\", \"Busuttil insists that PL is 'morally bankrupt'\"], 'clean_sentence': 'PN deputy leader Simon Busuttil keeps up pressure Labour over Anglu Farrugia interview insists PL \"morally bankrupt\"', 'clean_compressed': 'Busuttil insists PL \"morally bankrupt\"'}\n",
      "{'set': [\"Denny's used its first Super Bowl ad to offer a free Grand Slam breakfast to customers on Tuesday.\", \"Denny's offers free Grand Slam breakfast:\"], 'clean_sentence': 'Denny used first Super Bowl ad offer free Grand Slam breakfast customers Tuesday', 'clean_compressed': 'Denny offers free Grand Slam breakfast :'}\n",
      "{'set': [\"In eGain's latest research, North American retail sector ranked first overall in customer service.\", 'Retail sector ranks first in customer service:'], 'clean_sentence': 'eGain latest research North American retail sector ranked first overall customer service', 'clean_compressed': 'Retail sector ranks first customer service :'}\n",
      "{'set': ['A premature baby with a blood infection that killed another baby earlier this week is said to be doing well.', \"Premature baby with blood infection 'doing well'\"], 'clean_sentence': 'premature baby blood infection killed another baby earlier this week said be doing well', 'clean_compressed': 'Premature baby blood infection \"doing well\"'}\n",
      "{'set': ['Hunger in our nation is not something Congress and the administration can ignore, especially as they look at ways to reduce the federal deficit.', 'Hunger in our nation is not something we can ignore'], 'clean_sentence': 'Hunger our nation not something Congress administration can ignore especially look ways reduce federal deficit', 'clean_compressed': 'Hunger our nation not something we can ignore'}\n",
      "{'set': ['17-time Grand Slam champion Roger Federer is considered as one of the greatest tennis player in open era, he is going to skip from the seven ATP Tour events in 2013 season.', 'Roger Federer skips from seven ATP events in 2013'], 'clean_sentence': '17 time Grand Slam champion Roger Federer considered one greatest tennis player open era going skip seven ATP Tour events 2013 season', 'clean_compressed': 'Roger Federer skips seven ATP events 2013'}\n",
      "{'set': [\"Arkham City will get it's own music album in time for the game's launch.\", 'Arkham City gets music album'], 'clean_sentence': 'Arkham City will get own music album time game launch', 'clean_compressed': 'Arkham City gets music album'}\n",
      "{'set': [\"Automatic Data Processing Inc., a $9 billion provider of payroll and other business outsourcing services, said it plans to hire ``hundreds'' of employees to staff a new location in Moon.\", \"ADP plans to hire 'hundreds' in Moon\"], 'clean_sentence': 'Automatic Data Processing Inc $9 billion provider payroll other business outsourcing services said plans hire \"hundreds\" employees staff new location Moon', 'clean_compressed': 'ADP plans hire \"hundreds\" Moon'}\n",
      "{'set': ['Actress Eva Longoria enjoyed a date with a mystery man in Hollywood.', 'Eva Longoria dating mystery man?'], 'clean_sentence': 'Actress Eva Longoria enjoyed date mystery man Hollywood', 'clean_compressed': 'Eva Longoria dating mystery man ?'}\n",
      "{'set': ['A Turkish news agency, quoting Iraqi Kurds, says Turkish warplanes have hit Kurdish rebel targets in northern Iraq.', 'Turkish warplanes hit Kurdish rebel targets'], 'clean_sentence': 'Turkish news agency quoting Iraqi Kurds says Turkish warplanes have hit Kurdish rebel targets northern Iraq', 'clean_compressed': 'Turkish warplanes hit Kurdish rebel targets'}\n",
      "Busuttil insists PL \"morally bankrupt\"\n",
      "Denny offers free Grand Slam breakfast :\n",
      "Retail sector ranks first customer service :\n",
      "Premature baby blood infection \"doing well\"\n",
      "Hunger our nation not something we can ignore\n",
      "Roger Federer skips seven ATP events 2013\n",
      "Arkham City gets music album\n",
      "ADP plans hire \"hundreds\" Moon\n",
      "Eva Longoria dating mystery man ?\n",
      "Turkish warplanes hit Kurdish rebel targets\n"
     ]
    }
   ],
   "execution_count": 10
  },
  {
   "cell_type": "markdown",
   "metadata": {
    "collapsed": false,
    "id": "X_ThE9H-pSOJ",
    "pycharm": {
     "name": "#%% md\n"
    }
   },
   "source": [
    "Let's examine some examples from the dataset and make sure that we got the results we wanted. At this step, it might be necessary to revisit some pre-processing steps if you are not happy with the results."
   ]
  },
  {
   "cell_type": "code",
   "metadata": {
    "id": "hP-qOPijpSOJ",
    "pycharm": {
     "name": "#%%\n"
    },
    "ExecuteTime": {
     "end_time": "2025-04-16T15:17:44.172064Z",
     "start_time": "2025-04-16T15:17:44.169026Z"
    }
   },
   "source": [
    "for i in range(10):\n",
    "    print(split_ds['train'][i])"
   ],
   "outputs": [
    {
     "name": "stdout",
     "output_type": "stream",
     "text": [
      "{'set': [\"PN deputy leader Simon Busuttil keeps up the pressure on Labour over Anglu Farrugia interview, insists that PL is 'morally bankrupt'.\", \"Busuttil insists that PL is 'morally bankrupt'\"], 'clean_sentence': 'PN deputy leader Simon Busuttil keeps up pressure Labour over Anglu Farrugia interview insists PL \"morally bankrupt\"', 'clean_compressed': 'Busuttil insists PL \"morally bankrupt\"'}\n",
      "{'set': [\"Denny's used its first Super Bowl ad to offer a free Grand Slam breakfast to customers on Tuesday.\", \"Denny's offers free Grand Slam breakfast:\"], 'clean_sentence': 'Denny used first Super Bowl ad offer free Grand Slam breakfast customers Tuesday', 'clean_compressed': 'Denny offers free Grand Slam breakfast :'}\n",
      "{'set': [\"In eGain's latest research, North American retail sector ranked first overall in customer service.\", 'Retail sector ranks first in customer service:'], 'clean_sentence': 'eGain latest research North American retail sector ranked first overall customer service', 'clean_compressed': 'Retail sector ranks first customer service :'}\n",
      "{'set': ['A premature baby with a blood infection that killed another baby earlier this week is said to be doing well.', \"Premature baby with blood infection 'doing well'\"], 'clean_sentence': 'premature baby blood infection killed another baby earlier this week said be doing well', 'clean_compressed': 'Premature baby blood infection \"doing well\"'}\n",
      "{'set': ['Hunger in our nation is not something Congress and the administration can ignore, especially as they look at ways to reduce the federal deficit.', 'Hunger in our nation is not something we can ignore'], 'clean_sentence': 'Hunger our nation not something Congress administration can ignore especially look ways reduce federal deficit', 'clean_compressed': 'Hunger our nation not something we can ignore'}\n",
      "{'set': ['17-time Grand Slam champion Roger Federer is considered as one of the greatest tennis player in open era, he is going to skip from the seven ATP Tour events in 2013 season.', 'Roger Federer skips from seven ATP events in 2013'], 'clean_sentence': '17 time Grand Slam champion Roger Federer considered one greatest tennis player open era going skip seven ATP Tour events 2013 season', 'clean_compressed': 'Roger Federer skips seven ATP events 2013'}\n",
      "{'set': [\"Arkham City will get it's own music album in time for the game's launch.\", 'Arkham City gets music album'], 'clean_sentence': 'Arkham City will get own music album time game launch', 'clean_compressed': 'Arkham City gets music album'}\n",
      "{'set': [\"Automatic Data Processing Inc., a $9 billion provider of payroll and other business outsourcing services, said it plans to hire ``hundreds'' of employees to staff a new location in Moon.\", \"ADP plans to hire 'hundreds' in Moon\"], 'clean_sentence': 'Automatic Data Processing Inc $9 billion provider payroll other business outsourcing services said plans hire \"hundreds\" employees staff new location Moon', 'clean_compressed': 'ADP plans hire \"hundreds\" Moon'}\n",
      "{'set': ['Actress Eva Longoria enjoyed a date with a mystery man in Hollywood.', 'Eva Longoria dating mystery man?'], 'clean_sentence': 'Actress Eva Longoria enjoyed date mystery man Hollywood', 'clean_compressed': 'Eva Longoria dating mystery man ?'}\n",
      "{'set': ['A Turkish news agency, quoting Iraqi Kurds, says Turkish warplanes have hit Kurdish rebel targets in northern Iraq.', 'Turkish warplanes hit Kurdish rebel targets'], 'clean_sentence': 'Turkish news agency quoting Iraqi Kurds says Turkish warplanes have hit Kurdish rebel targets northern Iraq', 'clean_compressed': 'Turkish warplanes hit Kurdish rebel targets'}\n"
     ]
    }
   ],
   "execution_count": 11
  },
  {
   "cell_type": "markdown",
   "metadata": {
    "collapsed": false,
    "id": "7LI2KlfypSOJ",
    "pycharm": {
     "name": "#%% md\n"
    }
   },
   "source": [
    "<a name='e2'></a>\n",
    "### Exercise 2: Tokenize function\n",
    "\n",
    "(1p) As always, we will need to tokenize the dataset in order to create bat-of-words and TF-IDF representations in the next sections. We will use the [Natural Language Toolkit (NLTK) library]([https://www.nltk.org/]) (https://www.nltk.org/). Complete the following function to split the text into tokens using the `word_tokenize()` function. Check the [documentation](https://www.nltk.org/api/nltk.tokenize.word_tokenize.html?highlight=word_tokenize) first.\n",
    "Note that there are different tokenizers e.g. `RegexpTokenizer` where you can enter your own regexp, `WhitespaceTokenizer` (similar to Python's string.split()) and `BlanklineTokenizer`."
   ]
  },
  {
   "cell_type": "code",
   "metadata": {
    "id": "sb-M3V6ApSOK",
    "pycharm": {
     "name": "#%%\n"
    },
    "ExecuteTime": {
     "end_time": "2025-04-16T15:17:44.197319Z",
     "start_time": "2025-04-16T15:17:44.195135Z"
    }
   },
   "source": [
    "def tokenize(text):\n",
    "    \"\"\"\n",
    "    Tokenizes the `text` parameter using nltk library\n",
    "    Args:\n",
    "        text: a string representing a sentence to be tokenized\n",
    "\n",
    "    Returns: a list of tokens (strings)\n",
    "\n",
    "    \"\"\"\n",
    "\n",
    "    ### YOUR CODE HERE\n",
    "\n",
    "    tokens = nltk.tokenize.word_tokenize(text, language='english', preserve_line=False)\n",
    "\n",
    "    ### YOUR CODE ENDS HERE\n",
    "    return tokens"
   ],
   "outputs": [],
   "execution_count": 12
  },
  {
   "cell_type": "markdown",
   "metadata": {
    "collapsed": false,
    "id": "gwsHqZc9pSOK",
    "pycharm": {
     "name": "#%% md\n"
    }
   },
   "source": [
    "Next, the function will be applied to the whole dataset (as we did with the pre-processing) and `sentence_tokens` field will be created to store the result."
   ]
  },
  {
   "cell_type": "code",
   "metadata": {
    "id": "6sTX-AcTpSOK",
    "pycharm": {
     "name": "#%%\n"
    },
    "ExecuteTime": {
     "end_time": "2025-04-16T15:17:44.216101Z",
     "start_time": "2025-04-16T15:17:44.207488Z"
    }
   },
   "source": [
    "def tokenize_dataset(example):\n",
    "    \"\"\"\n",
    "    Tokenizes 'clean_sentence' columns in the example from the Dataset\n",
    "    Args:\n",
    "        example: an example from the Dataset\n",
    "\n",
    "    Returns: updated example with 'sentence_tokens' columns\n",
    "\n",
    "    \"\"\"\n",
    "    example['sentence_tokens'] = tokenize(example['clean_sentence'])\n",
    "    example['compressed_tokens'] = tokenize(example['clean_compressed'])\n",
    "    return example"
   ],
   "outputs": [],
   "execution_count": 13
  },
  {
   "cell_type": "code",
   "metadata": {
    "id": "jvwmXLj2pSOK",
    "pycharm": {
     "name": "#%%\n"
    },
    "ExecuteTime": {
     "end_time": "2025-04-16T15:18:01.856087Z",
     "start_time": "2025-04-16T15:17:44.230330Z"
    }
   },
   "source": [
    "split_ds = split_ds.map(tokenize_dataset)"
   ],
   "outputs": [
    {
     "name": "stderr",
     "output_type": "stream",
     "text": [
      "Map: 100%|██████████| 144000/144000 [00:14<00:00, 10221.61 examples/s]\n",
      "Map: 100%|██████████| 36000/36000 [00:03<00:00, 10232.70 examples/s]\n"
     ]
    }
   ],
   "execution_count": 14
  },
  {
   "cell_type": "code",
   "metadata": {
    "id": "yXnje31SpSOK",
    "pycharm": {
     "name": "#%%\n"
    },
    "ExecuteTime": {
     "end_time": "2025-04-16T15:18:01.874068Z",
     "start_time": "2025-04-16T15:18:01.868595Z"
    }
   },
   "source": [
    "for i in range(30):\n",
    "    print(split_ds['train'][i])\n"
   ],
   "outputs": [
    {
     "name": "stdout",
     "output_type": "stream",
     "text": [
      "{'set': [\"PN deputy leader Simon Busuttil keeps up the pressure on Labour over Anglu Farrugia interview, insists that PL is 'morally bankrupt'.\", \"Busuttil insists that PL is 'morally bankrupt'\"], 'clean_sentence': 'PN deputy leader Simon Busuttil keeps up pressure Labour over Anglu Farrugia interview insists PL \"morally bankrupt\"', 'clean_compressed': 'Busuttil insists PL \"morally bankrupt\"', 'sentence_tokens': ['PN', 'deputy', 'leader', 'Simon', 'Busuttil', 'keeps', 'up', 'pressure', 'Labour', 'over', 'Anglu', 'Farrugia', 'interview', 'insists', 'PL', '``', 'morally', 'bankrupt', \"''\"], 'compressed_tokens': ['Busuttil', 'insists', 'PL', '``', 'morally', 'bankrupt', \"''\"]}\n",
      "{'set': [\"Denny's used its first Super Bowl ad to offer a free Grand Slam breakfast to customers on Tuesday.\", \"Denny's offers free Grand Slam breakfast:\"], 'clean_sentence': 'Denny used first Super Bowl ad offer free Grand Slam breakfast customers Tuesday', 'clean_compressed': 'Denny offers free Grand Slam breakfast :', 'sentence_tokens': ['Denny', 'used', 'first', 'Super', 'Bowl', 'ad', 'offer', 'free', 'Grand', 'Slam', 'breakfast', 'customers', 'Tuesday'], 'compressed_tokens': ['Denny', 'offers', 'free', 'Grand', 'Slam', 'breakfast', ':']}\n",
      "{'set': [\"In eGain's latest research, North American retail sector ranked first overall in customer service.\", 'Retail sector ranks first in customer service:'], 'clean_sentence': 'eGain latest research North American retail sector ranked first overall customer service', 'clean_compressed': 'Retail sector ranks first customer service :', 'sentence_tokens': ['eGain', 'latest', 'research', 'North', 'American', 'retail', 'sector', 'ranked', 'first', 'overall', 'customer', 'service'], 'compressed_tokens': ['Retail', 'sector', 'ranks', 'first', 'customer', 'service', ':']}\n",
      "{'set': ['A premature baby with a blood infection that killed another baby earlier this week is said to be doing well.', \"Premature baby with blood infection 'doing well'\"], 'clean_sentence': 'premature baby blood infection killed another baby earlier this week said be doing well', 'clean_compressed': 'Premature baby blood infection \"doing well\"', 'sentence_tokens': ['premature', 'baby', 'blood', 'infection', 'killed', 'another', 'baby', 'earlier', 'this', 'week', 'said', 'be', 'doing', 'well'], 'compressed_tokens': ['Premature', 'baby', 'blood', 'infection', '``', 'doing', 'well', \"''\"]}\n",
      "{'set': ['Hunger in our nation is not something Congress and the administration can ignore, especially as they look at ways to reduce the federal deficit.', 'Hunger in our nation is not something we can ignore'], 'clean_sentence': 'Hunger our nation not something Congress administration can ignore especially look ways reduce federal deficit', 'clean_compressed': 'Hunger our nation not something we can ignore', 'sentence_tokens': ['Hunger', 'our', 'nation', 'not', 'something', 'Congress', 'administration', 'can', 'ignore', 'especially', 'look', 'ways', 'reduce', 'federal', 'deficit'], 'compressed_tokens': ['Hunger', 'our', 'nation', 'not', 'something', 'we', 'can', 'ignore']}\n",
      "{'set': ['17-time Grand Slam champion Roger Federer is considered as one of the greatest tennis player in open era, he is going to skip from the seven ATP Tour events in 2013 season.', 'Roger Federer skips from seven ATP events in 2013'], 'clean_sentence': '17 time Grand Slam champion Roger Federer considered one greatest tennis player open era going skip seven ATP Tour events 2013 season', 'clean_compressed': 'Roger Federer skips seven ATP events 2013', 'sentence_tokens': ['17', 'time', 'Grand', 'Slam', 'champion', 'Roger', 'Federer', 'considered', 'one', 'greatest', 'tennis', 'player', 'open', 'era', 'going', 'skip', 'seven', 'ATP', 'Tour', 'events', '2013', 'season'], 'compressed_tokens': ['Roger', 'Federer', 'skips', 'seven', 'ATP', 'events', '2013']}\n",
      "{'set': [\"Arkham City will get it's own music album in time for the game's launch.\", 'Arkham City gets music album'], 'clean_sentence': 'Arkham City will get own music album time game launch', 'clean_compressed': 'Arkham City gets music album', 'sentence_tokens': ['Arkham', 'City', 'will', 'get', 'own', 'music', 'album', 'time', 'game', 'launch'], 'compressed_tokens': ['Arkham', 'City', 'gets', 'music', 'album']}\n",
      "{'set': [\"Automatic Data Processing Inc., a $9 billion provider of payroll and other business outsourcing services, said it plans to hire ``hundreds'' of employees to staff a new location in Moon.\", \"ADP plans to hire 'hundreds' in Moon\"], 'clean_sentence': 'Automatic Data Processing Inc $9 billion provider payroll other business outsourcing services said plans hire \"hundreds\" employees staff new location Moon', 'clean_compressed': 'ADP plans hire \"hundreds\" Moon', 'sentence_tokens': ['Automatic', 'Data', 'Processing', 'Inc', '$', '9', 'billion', 'provider', 'payroll', 'other', 'business', 'outsourcing', 'services', 'said', 'plans', 'hire', '``', 'hundreds', \"''\", 'employees', 'staff', 'new', 'location', 'Moon'], 'compressed_tokens': ['ADP', 'plans', 'hire', '``', 'hundreds', \"''\", 'Moon']}\n",
      "{'set': ['Actress Eva Longoria enjoyed a date with a mystery man in Hollywood.', 'Eva Longoria dating mystery man?'], 'clean_sentence': 'Actress Eva Longoria enjoyed date mystery man Hollywood', 'clean_compressed': 'Eva Longoria dating mystery man ?', 'sentence_tokens': ['Actress', 'Eva', 'Longoria', 'enjoyed', 'date', 'mystery', 'man', 'Hollywood'], 'compressed_tokens': ['Eva', 'Longoria', 'dating', 'mystery', 'man', '?']}\n",
      "{'set': ['A Turkish news agency, quoting Iraqi Kurds, says Turkish warplanes have hit Kurdish rebel targets in northern Iraq.', 'Turkish warplanes hit Kurdish rebel targets'], 'clean_sentence': 'Turkish news agency quoting Iraqi Kurds says Turkish warplanes have hit Kurdish rebel targets northern Iraq', 'clean_compressed': 'Turkish warplanes hit Kurdish rebel targets', 'sentence_tokens': ['Turkish', 'news', 'agency', 'quoting', 'Iraqi', 'Kurds', 'says', 'Turkish', 'warplanes', 'have', 'hit', 'Kurdish', 'rebel', 'targets', 'northern', 'Iraq'], 'compressed_tokens': ['Turkish', 'warplanes', 'hit', 'Kurdish', 'rebel', 'targets']}\n",
      "{'set': ['A strong 6.4 magnitude earthquake jolted Punjab, NWFP, Northern Areas and few parts of Baluchistan at 01:51 AM on Friday.', '6.4 magnitude earthquake jolts Punjab, NWFP'], 'clean_sentence': 'strong 6.4 magnitude earthquake jolted Punjab NWFP Northern Areas few parts Baluchistan 01:51 AM Friday', 'clean_compressed': '6.4 magnitude earthquake jolts Punjab NWFP', 'sentence_tokens': ['strong', '6.4', 'magnitude', 'earthquake', 'jolted', 'Punjab', 'NWFP', 'Northern', 'Areas', 'few', 'parts', 'Baluchistan', '01:51', 'AM', 'Friday'], 'compressed_tokens': ['6.4', 'magnitude', 'earthquake', 'jolts', 'Punjab', 'NWFP']}\n",
      "{'set': ['BJP today tabled a notice for an adjournment motion on blackmoney issue in Lok Sabha and demanded suspension of Question Hour in Rajya Sabha while deciding to continue its boycott of Home Minister P Chidambaram in Parliament.', 'BJP tables notice for adjournment motion on blackmoney'], 'clean_sentence': 'BJP today tabled notice adjournment motion blackmoney issue Lok Sabha demanded suspension Question Hour Rajya Sabha while deciding continue boycott Home Minister P Chidambaram Parliament', 'clean_compressed': 'BJP tables notice adjournment motion blackmoney', 'sentence_tokens': ['BJP', 'today', 'tabled', 'notice', 'adjournment', 'motion', 'blackmoney', 'issue', 'Lok', 'Sabha', 'demanded', 'suspension', 'Question', 'Hour', 'Rajya', 'Sabha', 'while', 'deciding', 'continue', 'boycott', 'Home', 'Minister', 'P', 'Chidambaram', 'Parliament'], 'compressed_tokens': ['BJP', 'tables', 'notice', 'adjournment', 'motion', 'blackmoney']}\n",
      "{'set': ['German cable network operator Unitymedia has started to upgrade its network in Bad Wildungen and surrounding region.', 'Unitymedia starts upgrade in Bad Wildungen'], 'clean_sentence': 'German cable network operator Unitymedia started upgrade network Bad Wildungen surrounding region', 'clean_compressed': 'Unitymedia starts upgrade Bad Wildungen', 'sentence_tokens': ['German', 'cable', 'network', 'operator', 'Unitymedia', 'started', 'upgrade', 'network', 'Bad', 'Wildungen', 'surrounding', 'region'], 'compressed_tokens': ['Unitymedia', 'starts', 'upgrade', 'Bad', 'Wildungen']}\n",
      "{'set': [\"Global investment banker Goldman Sachs Group Inc. has applied for a commercial banking licence in the country, L. Brooks Entwistle, who runs the US company's operations in India, said on Tuesday.\", 'Goldman Sachs applies for banking licence'], 'clean_sentence': 'Global investment banker Goldman Sachs Group Inc applied commercial banking licence country L Brooks Entwistle who runs US company operations India said Tuesday', 'clean_compressed': 'Goldman Sachs applies banking licence', 'sentence_tokens': ['Global', 'investment', 'banker', 'Goldman', 'Sachs', 'Group', 'Inc', 'applied', 'commercial', 'banking', 'licence', 'country', 'L', 'Brooks', 'Entwistle', 'who', 'runs', 'US', 'company', 'operations', 'India', 'said', 'Tuesday'], 'compressed_tokens': ['Goldman', 'Sachs', 'applies', 'banking', 'licence']}\n",
      "{'set': ['US auto sales skidded in May compared with a year earlier, as supply concerns weighed on the market in the wake of the March 11 earthquake in Japan.', 'US auto sales skidded in May'], 'clean_sentence': 'US auto sales skidded May compared year earlier supply concerns weighed market wake March 11 earthquake Japan', 'clean_compressed': 'US auto sales skidded May', 'sentence_tokens': ['US', 'auto', 'sales', 'skidded', 'May', 'compared', 'year', 'earlier', 'supply', 'concerns', 'weighed', 'market', 'wake', 'March', '11', 'earthquake', 'Japan'], 'compressed_tokens': ['US', 'auto', 'sales', 'skidded', 'May']}\n",
      "{'set': ['DryShips Inc., owner of commodity carriers and deep-water drill ships, rose 28 percent after signing a three-year, $630 million contract with Petroleo Brasileiro SA for exploratory drilling in the Black Sea.', 'DryShips rises after signing $630 million contract'], 'clean_sentence': 'DryShips Inc owner commodity carriers deep water drill ships rose 28 percent after signing three year $630 million contract Petroleo Brasileiro SA exploratory drilling Black Sea', 'clean_compressed': 'DryShips rises after signing $630 million contract', 'sentence_tokens': ['DryShips', 'Inc', 'owner', 'commodity', 'carriers', 'deep', 'water', 'drill', 'ships', 'rose', '28', 'percent', 'after', 'signing', 'three', 'year', '$', '630', 'million', 'contract', 'Petroleo', 'Brasileiro', 'SA', 'exploratory', 'drilling', 'Black', 'Sea'], 'compressed_tokens': ['DryShips', 'rises', 'after', 'signing', '$', '630', 'million', 'contract']}\n",
      "{'set': [\"The Sheriff's Department here said an Amber Alert issued through cell phone text messages Monday night was a hoax.\", 'Cell phone Amber Alert was a hoax'], 'clean_sentence': 'Sheriff Department here said Amber Alert issued through cell phone text messages Monday night hoax', 'clean_compressed': 'Cell phone Amber Alert hoax', 'sentence_tokens': ['Sheriff', 'Department', 'here', 'said', 'Amber', 'Alert', 'issued', 'through', 'cell', 'phone', 'text', 'messages', 'Monday', 'night', 'hoax'], 'compressed_tokens': ['Cell', 'phone', 'Amber', 'Alert', 'hoax']}\n",
      "{'set': [\"Mason will miss his side's clash with Parramatta on Friday night and says he won't make the same mistake twice.\", \"Mason won't make mistake twice\"], 'clean_sentence': 'Mason will miss side clash Parramatta Friday night says won\"t make same mistake twice', 'clean_compressed': 'Mason won\"t make mistake twice', 'sentence_tokens': ['Mason', 'will', 'miss', 'side', 'clash', 'Parramatta', 'Friday', 'night', 'says', 'won', \"''\", 't', 'make', 'same', 'mistake', 'twice'], 'compressed_tokens': ['Mason', 'won', \"''\", 't', 'make', 'mistake', 'twice']}\n",
      "{'set': [\"Jose Padilla, once accused of plotting with al-Qaida to blow up a radioactive ``dirty bomb,'' was sentenced Tuesday to 17 years and four months on terrorism conspiracy charges that don't mention those initial allegations.The sentence imposed by US District Judge Marcia Cooke marks another step in the extraordinary personal and legal odyssey for the 37-year-old Muslim convert, a US citizen who was held for 3 1/2 years as an enemy combatant after his 2002 arrest amid the ``dirty bomb'' allegations.\", 'Jose Padilla is sentenced to 17 years'], 'clean_sentence': 'Jose Padilla once accused plotting al Qaida blow up radioactive \"dirty bomb\" sentenced Tuesday 17 years four months terrorism conspiracy charges don\"t mention initial allegationsThe sentence imposed US District Judge Marcia Cooke marks another step extraordinary personal legal odyssey 37 year old Muslim convert US citizen who held 3 1/2 years enemy combatant after 2002 arrest amid \"dirty bomb\" allegations', 'clean_compressed': 'Jose Padilla sentenced 17 years', 'sentence_tokens': ['Jose', 'Padilla', 'once', 'accused', 'plotting', 'al', 'Qaida', 'blow', 'up', 'radioactive', '``', 'dirty', 'bomb', \"''\", 'sentenced', 'Tuesday', '17', 'years', 'four', 'months', 'terrorism', 'conspiracy', 'charges', 'don', \"''\", 't', 'mention', 'initial', 'allegationsThe', 'sentence', 'imposed', 'US', 'District', 'Judge', 'Marcia', 'Cooke', 'marks', 'another', 'step', 'extraordinary', 'personal', 'legal', 'odyssey', '37', 'year', 'old', 'Muslim', 'convert', 'US', 'citizen', 'who', 'held', '3', '1/2', 'years', 'enemy', 'combatant', 'after', '2002', 'arrest', 'amid', '``', 'dirty', 'bomb', \"''\", 'allegations'], 'compressed_tokens': ['Jose', 'Padilla', 'sentenced', '17', 'years']}\n",
      "{'set': [\"KATY Perry says she's finally got over her Justin Bieber crush now she's married to Russell Brand.\", \"Katy Perry's finally over her Justin Bieber crush\"], 'clean_sentence': 'KATY Perry says finally got over Justin Bieber crush now married Russell Brand', 'clean_compressed': 'Katy Perry finally over Justin Bieber crush', 'sentence_tokens': ['KATY', 'Perry', 'says', 'finally', 'got', 'over', 'Justin', 'Bieber', 'crush', 'now', 'married', 'Russell', 'Brand'], 'compressed_tokens': ['Katy', 'Perry', 'finally', 'over', 'Justin', 'Bieber', 'crush']}\n",
      "{'set': ['Beijing will raise minimum monthly wages for workers in the municipality by 20% to RMB 960, Beijing Daily reported June 4 citing the Beijing Human Resource and Social Security Bureau.', 'Beijing raises minimum monthly wage by 20%'], 'clean_sentence': 'Beijing will raise minimum monthly wages workers municipality 20% RMB 960 Beijing Daily reported June 4 citing Beijing Human Resource Social Security Bureau', 'clean_compressed': 'Beijing raises minimum monthly wage 20%', 'sentence_tokens': ['Beijing', 'will', 'raise', 'minimum', 'monthly', 'wages', 'workers', 'municipality', '20', '%', 'RMB', '960', 'Beijing', 'Daily', 'reported', 'June', '4', 'citing', 'Beijing', 'Human', 'Resource', 'Social', 'Security', 'Bureau'], 'compressed_tokens': ['Beijing', 'raises', 'minimum', 'monthly', 'wage', '20', '%']}\n",
      "{'set': ['OSCE Minsk Group co-chairs Bernard Fassier of France, Robert Bradtke of USA and Igor Popov of Russian Federation will arrive in Armenia today, Armenian MFA spokesman Tigran Balayan told Panorama.am.', 'Osce Minsk Group co-chairs arrive in Armenia today'], 'clean_sentence': 'OSCE Minsk Group co chairs Bernard Fassier France Robert Bradtke USA Igor Popov Russian Federation will arrive Armenia today Armenian MFA spokesman Tigran Balayan told Panoramaam', 'clean_compressed': 'Osce Minsk Group co chairs arrive Armenia today', 'sentence_tokens': ['OSCE', 'Minsk', 'Group', 'co', 'chairs', 'Bernard', 'Fassier', 'France', 'Robert', 'Bradtke', 'USA', 'Igor', 'Popov', 'Russian', 'Federation', 'will', 'arrive', 'Armenia', 'today', 'Armenian', 'MFA', 'spokesman', 'Tigran', 'Balayan', 'told', 'Panoramaam'], 'compressed_tokens': ['Osce', 'Minsk', 'Group', 'co', 'chairs', 'arrive', 'Armenia', 'today']}\n",
      "{'set': ['The Fort Edward girls basketball team defeated Hammond 64-45 in the Class D regional final game on Saturday at SUNY Adirondack.', 'Fort Edward defeats Hammond in Class D regional final'], 'clean_sentence': 'Fort Edward girls basketball team defeated Hammond 64 45 Class D regional final game Saturday SUNY Adirondack', 'clean_compressed': 'Fort Edward defeats Hammond Class D regional final', 'sentence_tokens': ['Fort', 'Edward', 'girls', 'basketball', 'team', 'defeated', 'Hammond', '64', '45', 'Class', 'D', 'regional', 'final', 'game', 'Saturday', 'SUNY', 'Adirondack'], 'compressed_tokens': ['Fort', 'Edward', 'defeats', 'Hammond', 'Class', 'D', 'regional', 'final']}\n",
      "{'set': [\"Country star Brad Paisley makes a bold statement with his new album, ``This Is Country Music.''\", 'Paisley makes bold statement on new album'], 'clean_sentence': 'Country star Brad Paisley makes bold statement new album \"This Country Music\"', 'clean_compressed': 'Paisley makes bold statement new album', 'sentence_tokens': ['Country', 'star', 'Brad', 'Paisley', 'makes', 'bold', 'statement', 'new', 'album', '``', 'This', 'Country', 'Music', \"''\"], 'compressed_tokens': ['Paisley', 'makes', 'bold', 'statement', 'new', 'album']}\n",
      "{'set': ['An autistic singing sensation from Gwithian made his live debut at Holifield Festival last weekend.', 'Autistic singing sensation makes live debut'], 'clean_sentence': 'autistic singing sensation Gwithian made live debut Holifield Festival last weekend', 'clean_compressed': 'Autistic singing sensation makes live debut', 'sentence_tokens': ['autistic', 'singing', 'sensation', 'Gwithian', 'made', 'live', 'debut', 'Holifield', 'Festival', 'last', 'weekend'], 'compressed_tokens': ['Autistic', 'singing', 'sensation', 'makes', 'live', 'debut']}\n",
      "{'set': ['Qatar Airways plans Philadelphia expansion The head of fast-growing Qatar Airways says it plans to add Philadelphia to its routes next year as part of alliances with American Airlines and other US-based carriers.', 'Qatar Airways plans Philadelphia expansion'], 'clean_sentence': 'Qatar Airways plans Philadelphia expansion head fast growing Qatar Airways says plans add Philadelphia routes next year part alliances American Airlines other US based carriers', 'clean_compressed': 'Qatar Airways plans Philadelphia expansion', 'sentence_tokens': ['Qatar', 'Airways', 'plans', 'Philadelphia', 'expansion', 'head', 'fast', 'growing', 'Qatar', 'Airways', 'says', 'plans', 'add', 'Philadelphia', 'routes', 'next', 'year', 'part', 'alliances', 'American', 'Airlines', 'other', 'US', 'based', 'carriers'], 'compressed_tokens': ['Qatar', 'Airways', 'plans', 'Philadelphia', 'expansion']}\n",
      "{'set': ['TMX Group and Bermuda Stock Exchange today announced that TMX Group has purchased a 16% minority stake in the BSX.', 'TMX purchases 16% stake of Bermuda Stock Exchange'], 'clean_sentence': 'TMX Group Bermuda Stock Exchange today announced TMX Group purchased 16% minority stake BSX', 'clean_compressed': 'TMX purchases 16% stake Bermuda Stock Exchange', 'sentence_tokens': ['TMX', 'Group', 'Bermuda', 'Stock', 'Exchange', 'today', 'announced', 'TMX', 'Group', 'purchased', '16', '%', 'minority', 'stake', 'BSX'], 'compressed_tokens': ['TMX', 'purchases', '16', '%', 'stake', 'Bermuda', 'Stock', 'Exchange']}\n",
      "{'set': ['Symantec, Mountain View, Calif., has been assigned a patent developed by Sourabh Satish, Fremont, Calif., for a data access security.', 'Symantec assigned patent for data access security'], 'clean_sentence': 'Symantec Mountain View Calif been assigned patent developed Sourabh Satish Fremont Calif data access security', 'clean_compressed': 'Symantec assigned patent data access security', 'sentence_tokens': ['Symantec', 'Mountain', 'View', 'Calif', 'been', 'assigned', 'patent', 'developed', 'Sourabh', 'Satish', 'Fremont', 'Calif', 'data', 'access', 'security'], 'compressed_tokens': ['Symantec', 'assigned', 'patent', 'data', 'access', 'security']}\n",
      "{'set': ['Johnson backs Jones to captain Lions Updated: 13:31, Thursday March 21, 2013 Two-time British and Irish Lions captain Martin Johnson has said Wales lock Alun Wyn Jones could skipper the combined side on their tour of Australia later this year despite a lack of leadership experience at Test level.', 'Johnson backs Jones to captain Lions'], 'clean_sentence': 'Johnson backs Jones captain Lions Updated : 13:31 Thursday March 21 2013 Two time British Irish Lions captain Martin Johnson said Wales lock Alun Wyn Jones could skipper combined side their tour Australia later this year despite lack leadership experience Test level', 'clean_compressed': 'Johnson backs Jones captain Lions', 'sentence_tokens': ['Johnson', 'backs', 'Jones', 'captain', 'Lions', 'Updated', ':', '13:31', 'Thursday', 'March', '21', '2013', 'Two', 'time', 'British', 'Irish', 'Lions', 'captain', 'Martin', 'Johnson', 'said', 'Wales', 'lock', 'Alun', 'Wyn', 'Jones', 'could', 'skipper', 'combined', 'side', 'their', 'tour', 'Australia', 'later', 'this', 'year', 'despite', 'lack', 'leadership', 'experience', 'Test', 'level'], 'compressed_tokens': ['Johnson', 'backs', 'Jones', 'captain', 'Lions']}\n",
      "{'set': ['Country singer Lorrie Morgan has filed for bankruptcy for primarily business related debts, according to a court filing.', 'Country singer Lorrie Morgan files for bankruptcy'], 'clean_sentence': 'Country singer Lorrie Morgan filed bankruptcy primarily business related debts according court filing', 'clean_compressed': 'Country singer Lorrie Morgan files bankruptcy', 'sentence_tokens': ['Country', 'singer', 'Lorrie', 'Morgan', 'filed', 'bankruptcy', 'primarily', 'business', 'related', 'debts', 'according', 'court', 'filing'], 'compressed_tokens': ['Country', 'singer', 'Lorrie', 'Morgan', 'files', 'bankruptcy']}\n"
     ]
    }
   ],
   "execution_count": 15
  },
  {
   "cell_type": "markdown",
   "metadata": {
    "collapsed": false,
    "id": "FeF0wFd0pSOL",
    "pycharm": {
     "name": "#%% md\n"
    }
   },
   "source": [
    "Since we will need the tokenized sentences, we can use the following statement to extract them from the `train` split of our dataset."
   ]
  },
  {
   "cell_type": "code",
   "metadata": {
    "id": "qYKfXFxQpSOL",
    "pycharm": {
     "name": "#%%\n"
    },
    "ExecuteTime": {
     "end_time": "2025-04-16T15:18:03.347878Z",
     "start_time": "2025-04-16T15:18:01.907312Z"
    }
   },
   "source": [
    "tokenized_sentences = split_ds['train']['sentence_tokens']\n",
    "print(len(tokenized_sentences))\n",
    "print(tokenized_sentences[:10])"
   ],
   "outputs": [
    {
     "name": "stdout",
     "output_type": "stream",
     "text": [
      "144000\n",
      "[['PN', 'deputy', 'leader', 'Simon', 'Busuttil', 'keeps', 'up', 'pressure', 'Labour', 'over', 'Anglu', 'Farrugia', 'interview', 'insists', 'PL', '``', 'morally', 'bankrupt', \"''\"], ['Denny', 'used', 'first', 'Super', 'Bowl', 'ad', 'offer', 'free', 'Grand', 'Slam', 'breakfast', 'customers', 'Tuesday'], ['eGain', 'latest', 'research', 'North', 'American', 'retail', 'sector', 'ranked', 'first', 'overall', 'customer', 'service'], ['premature', 'baby', 'blood', 'infection', 'killed', 'another', 'baby', 'earlier', 'this', 'week', 'said', 'be', 'doing', 'well'], ['Hunger', 'our', 'nation', 'not', 'something', 'Congress', 'administration', 'can', 'ignore', 'especially', 'look', 'ways', 'reduce', 'federal', 'deficit'], ['17', 'time', 'Grand', 'Slam', 'champion', 'Roger', 'Federer', 'considered', 'one', 'greatest', 'tennis', 'player', 'open', 'era', 'going', 'skip', 'seven', 'ATP', 'Tour', 'events', '2013', 'season'], ['Arkham', 'City', 'will', 'get', 'own', 'music', 'album', 'time', 'game', 'launch'], ['Automatic', 'Data', 'Processing', 'Inc', '$', '9', 'billion', 'provider', 'payroll', 'other', 'business', 'outsourcing', 'services', 'said', 'plans', 'hire', '``', 'hundreds', \"''\", 'employees', 'staff', 'new', 'location', 'Moon'], ['Actress', 'Eva', 'Longoria', 'enjoyed', 'date', 'mystery', 'man', 'Hollywood'], ['Turkish', 'news', 'agency', 'quoting', 'Iraqi', 'Kurds', 'says', 'Turkish', 'warplanes', 'have', 'hit', 'Kurdish', 'rebel', 'targets', 'northern', 'Iraq']]\n"
     ]
    }
   ],
   "execution_count": 16
  },
  {
   "cell_type": "code",
   "source": [
    "tokenized_compressed = split_ds['train']['compressed_tokens']\n",
    "print(len(tokenized_compressed))\n",
    "print(tokenized_compressed[:10])"
   ],
   "metadata": {
    "collapsed": false,
    "pycharm": {
     "name": "#%%\n"
    },
    "ExecuteTime": {
     "end_time": "2025-04-16T15:18:04.213053Z",
     "start_time": "2025-04-16T15:18:03.364362Z"
    }
   },
   "outputs": [
    {
     "name": "stdout",
     "output_type": "stream",
     "text": [
      "144000\n",
      "[['Busuttil', 'insists', 'PL', '``', 'morally', 'bankrupt', \"''\"], ['Denny', 'offers', 'free', 'Grand', 'Slam', 'breakfast', ':'], ['Retail', 'sector', 'ranks', 'first', 'customer', 'service', ':'], ['Premature', 'baby', 'blood', 'infection', '``', 'doing', 'well', \"''\"], ['Hunger', 'our', 'nation', 'not', 'something', 'we', 'can', 'ignore'], ['Roger', 'Federer', 'skips', 'seven', 'ATP', 'events', '2013'], ['Arkham', 'City', 'gets', 'music', 'album'], ['ADP', 'plans', 'hire', '``', 'hundreds', \"''\", 'Moon'], ['Eva', 'Longoria', 'dating', 'mystery', 'man', '?'], ['Turkish', 'warplanes', 'hit', 'Kurdish', 'rebel', 'targets']]\n"
     ]
    }
   ],
   "execution_count": 17
  },
  {
   "cell_type": "markdown",
   "metadata": {
    "id": "ZDGwEiZeCA5U",
    "pycharm": {
     "name": "#%% md\n"
    }
   },
   "source": [
    "Notice the difference in the types of the different structures we use. Run the following cell to check the types. Do they make sense to you?"
   ]
  },
  {
   "cell_type": "code",
   "metadata": {
    "id": "wKrkFmcZCtOd",
    "pycharm": {
     "name": "#%%\n"
    },
    "ExecuteTime": {
     "end_time": "2025-04-16T15:18:07.376606Z",
     "start_time": "2025-04-16T15:18:04.226854Z"
    }
   },
   "source": [
    "#type of original dataset\n",
    "print(type(split_ds))\n",
    "print(\"--\")\n",
    "#type of original sentence\n",
    "print(split_ds['train'][1])\n",
    "print(type(split_ds['train'][1]))\n",
    "print(\"--\")\n",
    "#type of pre-proceesed sentence\n",
    "print(split_ds['train']['clean_sentence'][1])\n",
    "print(type(split_ds['train']['clean_sentence'][1]))\n",
    "print(\"--\")\n",
    "#type of tokenized sentence\n",
    "print(split_ds['train']['sentence_tokens'][1])\n",
    "print(type(split_ds['train']['sentence_tokens'][1]))\n",
    "print(\"--\")"
   ],
   "outputs": [
    {
     "name": "stdout",
     "output_type": "stream",
     "text": [
      "<class 'datasets.dataset_dict.DatasetDict'>\n",
      "--\n",
      "{'set': [\"Denny's used its first Super Bowl ad to offer a free Grand Slam breakfast to customers on Tuesday.\", \"Denny's offers free Grand Slam breakfast:\"], 'clean_sentence': 'Denny used first Super Bowl ad offer free Grand Slam breakfast customers Tuesday', 'clean_compressed': 'Denny offers free Grand Slam breakfast :', 'sentence_tokens': ['Denny', 'used', 'first', 'Super', 'Bowl', 'ad', 'offer', 'free', 'Grand', 'Slam', 'breakfast', 'customers', 'Tuesday'], 'compressed_tokens': ['Denny', 'offers', 'free', 'Grand', 'Slam', 'breakfast', ':']}\n",
      "<class 'dict'>\n",
      "--\n",
      "Denny used first Super Bowl ad offer free Grand Slam breakfast customers Tuesday\n",
      "<class 'str'>\n",
      "--\n",
      "['Denny', 'used', 'first', 'Super', 'Bowl', 'ad', 'offer', 'free', 'Grand', 'Slam', 'breakfast', 'customers', 'Tuesday']\n",
      "<class 'list'>\n",
      "--\n"
     ]
    }
   ],
   "execution_count": 18
  },
  {
   "cell_type": "markdown",
   "source": [
    "## 2. Bag of Words\n",
    "In this section you will built a bag-of-words representation of the dataset. We will use numpy arrays to store the results. The bag-of-words representation is a simple and effective way to represent text data. It involves creating a vocabulary of unique words from the dataset and representing each sentence as a vector of word counts. We first need the vocabulary, which we will build from both the full sentences and the compressed sentences. Similar to the first lab, the vocabulary will be a list of unique words from the dataset."
   ],
   "metadata": {
    "collapsed": false,
    "pycharm": {
     "name": "#%% md\n"
    }
   }
  },
  {
   "cell_type": "markdown",
   "source": [
    "<a name='e3'></a>\n",
    "### Exercise 3: Extracting vocabulary counts\n",
    "\n",
    "(1p) In the following cell, you will implement a function that takes a list of tokenized sentences and returns a dictionary with the counts of each word in the vocabulary. The dictionary should be of the form {word: count}. As in previous lab, you will use the `Counter` class from the `collections` module to do this."
   ],
   "metadata": {
    "collapsed": false,
    "pycharm": {
     "name": "#%% md\n"
    }
   }
  },
  {
   "cell_type": "code",
   "source": [
    "from collections import Counter\n",
    "\n",
    "\n",
    "def extract_vocabulary_counts(tokenized_sentences):\n",
    "    \"\"\"\n",
    "    Extracts the vocabulary from the tokenized sentences\n",
    "    Args:\n",
    "        tokenized_sentences: a list of lists of tokens\n",
    "\n",
    "    Returns: a Counter object with the counts of each word in the vocabulary\n",
    "    \"\"\"\n",
    "\n",
    "    ### YOUR CODE HERE\n",
    "\n",
    "    vocab = Counter()\n",
    "    for sentence in tokenized_sentences:\n",
    "        vocab.update(sentence)\n",
    "    return vocab\n",
    "\n",
    "\n",
    "    ### YOUR CODE ENDS HERE"
   ],
   "metadata": {
    "collapsed": false,
    "pycharm": {
     "name": "#%%\n"
    },
    "ExecuteTime": {
     "end_time": "2025-04-16T15:18:07.385143Z",
     "start_time": "2025-04-16T15:18:07.382725Z"
    }
   },
   "outputs": [],
   "execution_count": 19
  },
  {
   "cell_type": "code",
   "source": [
    "vocab_counter = extract_vocabulary_counts(tokenized_sentences + tokenized_compressed)\n",
    "print(len(vocab_counter))\n",
    "print(vocab_counter.most_common(20))"
   ],
   "metadata": {
    "collapsed": false,
    "pycharm": {
     "name": "#%%\n"
    },
    "ExecuteTime": {
     "end_time": "2025-04-16T15:18:07.728213Z",
     "start_time": "2025-04-16T15:18:07.396365Z"
    }
   },
   "outputs": [
    {
     "name": "stdout",
     "output_type": "stream",
     "text": [
      "126655\n",
      "[(\"''\", 34892), ('``', 30111), ('said', 19870), ('will', 19766), ('after', 18521), ('be', 14340), ('new', 13841), ('have', 12471), ('year', 11828), (':', 11649), ('US', 11159), ('are', 10702), ('been', 10625), ('$', 9870), ('today', 9682), ('man', 9563), ('this', 8982), ('their', 8911), ('over', 8098), ('who', 7906)]\n"
     ]
    }
   ],
   "execution_count": 20
  },
  {
   "cell_type": "markdown",
   "source": [
    "As you can see the size of the vocabulary is quite large. Like the last time, we will limit the vocabulary to the most frequent words. The next cell will create a dictionary that maps each word to an index in the vocabulary. This will be used to create the bag-of-words representation of the sentences."
   ],
   "metadata": {
    "collapsed": false,
    "pycharm": {
     "name": "#%% md\n"
    }
   }
  },
  {
   "cell_type": "code",
   "source": [
    "vocab_size = 10_000\n",
    "vocab = vocab_counter.most_common(vocab_size)\n",
    "token_to_id = {word: i for i, (word, _) in enumerate(vocab)}\n",
    "print(token_to_id)"
   ],
   "metadata": {
    "collapsed": false,
    "pycharm": {
     "name": "#%%\n"
    },
    "ExecuteTime": {
     "end_time": "2025-04-16T15:18:07.808609Z",
     "start_time": "2025-04-16T15:18:07.786386Z"
    }
   },
   "outputs": [
    {
     "name": "stdout",
     "output_type": "stream",
     "text": [
      "{\"''\": 0, '``': 1, 'said': 2, 'will': 3, 'after': 4, 'be': 5, 'new': 6, 'have': 7, 'year': 8, ':': 9, 'US': 10, 'are': 11, 'been': 12, '$': 13, 'today': 14, 'man': 15, 'this': 16, 'their': 17, 'over': 18, 'who': 19, 'up': 20, 'first': 21, 'announced': 22, 'two': 23, 'Tuesday': 24, 'not': 25, 'Wednesday': 26, 'Thursday': 27, 'Monday': 28, 'against': 29, 'police': 30, 'out': 31, 'Friday': 32, 'more': 33, 'says': 34, 'New': 35, 'million': 36, 'into': 37, '.': 38, 'which': 39, 'were': 40, 'one': 41, 'according': 42, 'last': 43, 'Saturday': 44, 'week': 45, 'than': 46, 'about': 47, 'President': 48, 'County': 49, 'years': 50, 'Sunday': 51, 'time': 52, 'old': 53, 'India': 54, 'during': 55, 'off': 56, 'home': 57, 'state': 58, 'three': 59, 'but': 60, 'people': 61, 'killed': 62, 'company': 63, 'night': 64, 'woman': 65, 'when': 66, 'government': 67, 'being': 68, 'found': 69, 'next': 70, 'arrested': 71, 'all': 72, 'second': 73, 'Minister': 74, 'charged': 75, 'morning': 76, 'died': 77, 'set': 78, 'had': 79, 'back': 80, 'would': 81, 'day': 82, 'may': 83, 'Obama': 84, 'country': 85, 'world': 86, 'could': 87, 'can': 88, 'reported': 89, 'South': 90, 'down': 91, 'former': 92, 'season': 93, 'China': 94, 'month': 95, 'State': 96, 'market': 97, 't': 98, 'Former': 99, '1': 100, 'City': 101, 'team': 102, '&': 103, 'Police': 104, 'Inc': 105, 'early': 106, 'or': 107, 'charges': 108, 'while': 109, 'United': 110, 'car': 111, 'prices': 112, 'fire': 113, 'star': 114, 'reports': 115, 'plans': 116, 'dies': 117, 'guilty': 118, 'billion': 119, '2': 120, 'American': 121, '?': 122, 'business': 123, 'following': 124, 'officials': 125, 'him': 126, '%': 127, 'Man': 128, 'yesterday': 129, 'Bank': 130, 'World': 131, 'school': 132, 'death': 133, 'near': 134, 'four': 135, 'hit': 136, 'now': 137, 'released': 138, 'city': 139, 'report': 140, 'under': 141, 'York': 142, 'Pakistan': 143, 'North': 144, '2012': 145, 'end': 146, 'Two': 147, 'say': 148, 'National': 149, '10': 150, 'some': 151, 'no': 152, 'help': 153, 'made': 154, 'through': 155, 'based': 156, 'service': 157, 'high': 158, 'court': 159, 'other': 160, 'open': 161, 'won': 162, 'game': 163, '3': 164, 'make': 165, 'Indian': 166, 'global': 167, 'months': 168, 'public': 169, ';': 170, 'per': 171, 'percent': 172, 'accused': 173, 'before': 174, 'expected': 175, 'just': 176, 'take': 177, 'hospital': 178, 'five': 179, 'third': 180, 'services': 181, 'launched': 182, 'oil': 183, 'announces': 184, 'most': 185, 'John': 186, 'play': 187, 'British': 188, 'show': 189, 'official': 190, 'part': 191, 'coach': 192, 'European': 193, 'launches': 194, 'West': 195, 'UK': 196, 'work': 197, 'cut': 198, 'League': 199, 'deal': 200, 'economic': 201, '2010': 202, 'top': 203, 'group': 204, 'between': 205, 'held': 206, 'win': 207, 'here': 208, 'another': 209, 'crash': 210, 'left': 211, 'return': 212, 'dead': 213, 'quarter': 214, 'told': 215, 'Cup': 216, 'shot': 217, 'president': 218, 'should': 219, 'because': 220, 'get': 221, 'record': 222, '!': 223, 'jobs': 224, 'support': 225, 'you': 226, 'close': 227, 'life': 228, 'local': 229, 'due': 230, 'financial': 231, 'health': 232, 'security': 233, 'days': 234, 'University': 235, '2011': 236, 'injured': 237, 'May': 238, 'March': 239, 'if': 240, 'called': 241, 'leader': 242, 'since': 243, 'London': 244, 'trade': 245, 'free': 246, 'major': 247, 'launch': 248, 'office': 249, 'weekend': 250, 'sales': 251, 'six': 252, 'visit': 253, 'head': 254, 'federal': 255, 'including': 256, 'international': 257, 'release': 258, 'area': 259, '20': 260, 'officer': 261, 'afternoon': 262, 'power': 263, 'start': 264, 'face': 265, 'International': 266, 'economy': 267, 'signed': 268, 'child': 269, 'still': 270, '5': 271, 'House': 272, 'June': 273, 'men': 274, 'Australia': 275, 'women': 276, 'national': 277, 'run': 278, 'Iran': 279, 'St': 280, '4': 281, 'stocks': 282, 'final': 283, 'children': 284, 'news': 285, 'Court': 286, 'bank': 287, 'April': 288, 'gas': 289, 'attack': 290, 'online': 291, 'tax': 292, 'drug': 293, 'like': 294, '2009': 295, 'largest': 296, 'David': 297, 'campaign': 298, 'them': 299, 'fall': 300, '2013': 301, '6': 302, 'shares': 303, 'Australian': 304, 'military': 305, 'long': 306, 'sentenced': 307, 'Afghanistan': 308, 'chief': 309, 'fell': 310, 'dollar': 311, '11': 312, 'media': 313, 'wins': 314, 'Group': 315, 'where': 316, 'family': 317, 'across': 318, 're': 319, 'pay': 320, '15': 321, 'system': 322, '12': 323, 'Corp': 324, 'leading': 325, 'Barack': 326, 'go': 327, 'again': 328, 'revealed': 329, 'data': 330, 'allegedly': 331, 'Street': 332, 'Washington': 333, 'host': 334, 'growth': 335, 'talks': 336, 'England': 337, '30': 338, 'mobile': 339, 'house': 340, 'series': 341, 'industry': 342, 'right': 343, 'meeting': 344, 'election': 345, 'contract': 346, 'around': 347, 'cancer': 348, 'rate': 349, 'confirmed': 350, 'Department': 351, 'case': 352, 'wants': 353, 'late': 354, 'move': 355, 'way': 356, 'party': 357, 'murder': 358, 'San': 359, 'markets': 360, 'Prime': 361, 'prison': 362, 'best': 363, 'July': 364, 'students': 365, 'increase': 366, 'Michael': 367, 'Chinese': 368, 'firm': 369, 'States': 370, 'money': 371, 'America': 372, 'plan': 373, 'manager': 374, 'Japan': 375, 'club': 376, 'water': 377, 'there': 378, 'despite': 379, 'so': 380, 'Russia': 381, 'film': 382, 'News': 383, 'well': 384, 'closed': 385, 'crisis': 386, 'program': 387, 'only': 388, 'any': 389, 'saying': 390, 'TV': 391, 'higher': 392, 'wife': 393, 'do': 394, 'stock': 395, 'continue': 396, 'Canada': 397, 'recent': 398, 'political': 399, 'lead': 400, 'East': 401, 'agreement': 402, 'surgery': 403, 'making': 404, 'use': 405, 'recently': 406, 'we': 407, 'number': 408, 'opened': 409, 'General': 410, 'sign': 411, 'hold': 412, 'become': 413, 'away': 414, 'provider': 415, 'latest': 416, 'buy': 417, 'law': 418, 'taking': 419, 'School': 420, 'shooting': 421, 'French': 422, 'price': 423, 'offer': 424, 'demand': 425, 'energy': 426, '7': 427, 'annual': 428, 'rise': 429, 'Park': 430, 'Korea': 431, 'age': 432, 'companies': 433, 'January': 434, 'workers': 435, 'Day': 436, 'Texas': 437, 'capital': 438, 'development': 439, 'No': 440, '2008': 441, 'trial': 442, 'share': 443, 'Los': 444, 'several': 445, 'opens': 446, 'minister': 447, 'private': 448, 'Congress': 449, 'Russian': 450, 'weeks': 451, 'rates': 452, 'likely': 453, 'signs': 454, 'cent': 455, 'study': 456, '25': 457, 'football': 458, 'budget': 459, 'charge': 460, 'named': 461, 'debt': 462, 'Woman': 463, 'production': 464, 'fight': 465, 'ahead': 466, 'Israel': 467, 'Center': 468, 'meet': 469, 'Angeles': 470, 'how': 471, 'accident': 472, 'line': 473, 'tour': 474, 'also': 475, 'sex': 476, 'own': 477, 'going': 478, 'lower': 479, 'loss': 480, 'assault': 481, 'High': 482, 'facing': 483, 'food': 484, 'place': 485, 'Europe': 486, 'nearly': 487, '100': 488, 'Senate': 489, 'care': 490, 'management': 491, 'half': 492, 'points': 493, 'action': 494, 'profit': 495, 'good': 496, 'trading': 497, 'girl': 498, 'faces': 499, 'director': 500, 'ago': 501, 'investment': 502, 'California': 503, 'title': 504, 'Africa': 505, 'Paul': 506, 'France': 507, '14': 508, 'fourth': 509, 'filed': 510, 'round': 511, 'many': 512, 'Three': 513, 'forces': 514, 'Google': 515, 'White': 516, 'past': 517, '13': 518, '18': 519, 'Council': 520, 'baby': 521, 'Rs': 522, 'Apple': 523, 'members': 524, 'pleaded': 525, 'One': 526, 'working': 527, 'Air': 528, 'authorities': 529, 'German': 530, 'took': 531, 'September': 532, 'investors': 533, 'body': 534, 'hours': 535, 'store': 536, 'bill': 537, 'agreed': 538, 'issued': 539, 'research': 540, 'least': 541, 'interest': 542, 'nuclear': 543, 'actor': 544, 'pleads': 545, 'region': 546, 'results': 547, 'pm': 548, 'rose': 549, '50': 550, 'Oil': 551, 'Delhi': 552, 'role': 553, '8': 554, 'products': 555, 'amid': 556, 'site': 557, 'calls': 558, 'without': 559, 'coming': 560, 'call': 561, '16': 562, 'rights': 563, 'Updated': 564, 'nation': 565, 'leave': 566, 'Asian': 567, 'technology': 568, 'taken': 569, 'February': 570, 'Florida': 571, 'players': 572, 'Co': 573, 'video': 574, 'district': 575, 'am': 576, 'beat': 577, 'plant': 578, 'both': 579, 'stop': 580, 'even': 581, 'future': 582, 'Chief': 583, 'conference': 584, 'November': 585, 'Government': 586, 'leaders': 587, 'led': 588, 'match': 589, 'strong': 590, 'board': 591, 'much': 592, 'foreign': 593, 'cash': 594, 'sell': 595, 'network': 596, 'singer': 597, 'Canadian': 598, 'full': 599, 'community': 600, 'opening': 601, 'reportedly': 602, 'presidential': 603, 'earlier': 604, 'player': 605, 'order': 606, 'senior': 607, 'live': 608, 'makes': 609, 'road': 610, 'special': 611, 'further': 612, 'James': 613, '17': 614, 'center': 615, 'music': 616, 'claims': 617, 'summer': 618, 'killing': 619, 'race': 620, 'After': 621, 'injury': 622, 'side': 623, 'driver': 624, 'suspended': 625, 'emergency': 626, 'returns': 627, 'Republican': 628, 'need': 629, 'heart': 630, 'looking': 631, 'Gov': 632, 'lost': 633, 'October': 634, 'seven': 635, 'bus': 636, 'bid': 637, 'building': 638, 'test': 639, '24': 640, 'credit': 641, 'sector': 642, '0': 643, 'vehicle': 644, 'keep': 645, 'cuts': 646, 'running': 647, 'small': 648, 'town': 649, 'Union': 650, 'student': 651, 'games': 652, ')': 653, 'war': 654, 'change': 655, 'biggest': 656, 'job': 657, 'December': 658, 'victory': 659, 'forward': 660, 'album': 661, 'level': 662, 'continues': 663, 'traffic': 664, 'big': 665, 'Chris': 666, 'We': 667, 'used': 668, 'missing': 669, 'Brown': 670, 'raise': 671, 'agency': 672, 'must': 673, 'website': 674, 'air': 675, 'issues': 676, 'Secretary': 677, 'come': 678, 'George': 679, 'fans': 680, 'project': 681, 'banks': 682, 'Britain': 683, 'August': 684, 'my': 685, 'countries': 686, 'operations': 687, 'strike': 688, 'low': 689, 'Israeli': 690, 'issue': 691, 'winning': 692, 'Premier': 693, 'young': 694, 'offering': 695, 'policy': 696, 'put': 697, 'Central': 698, 'Corporation': 699, 'remain': 700, 'ready': 701, 'sale': 702, 'African': 703, 'evening': 704, 'better': 705, 'Energy': 706, 'trying': 707, 'information': 708, 'driving': 709, 'Chicago': 710, 'takes': 711, 'domestic': 712, 'Manchester': 713, 'medical': 714, 'actress': 715, 'vote': 716, 'ended': 717, 'key': 718, 'our': 719, 'join': 720, 'sold': 721, 'getting': 722, 'central': 723, 'residents': 724, 'Red': 725, 'term': 726, 'Open': 727, 'social': 728, 'training': 729, 'very': 730, 'press': 731, 'received': 732, 'session': 733, 'control': 734, 'having': 735, 'arrest': 736, 'soon': 737, 'College': 738, 'Federal': 739, '21': 740, 'see': 741, 'troops': 742, 'member': 743, '(': 744, 'jail': 745, 'Robert': 746, 'Sri': 747, 'investigating': 748, 'shows': 749, 'anti': 750, 'Facebook': 751, 'Airlines': 752, 'event': 753, 'remains': 754, 'announce': 755, 'Health': 756, 'son': 757, 'boy': 758, 'give': 759, 'Lake': 760, 'planning': 761, 'judge': 762, 'Sen': 763, '`': 764, 'eight': 765, 'general': 766, 'Iraq': 767, '9': 768, 'bankruptcy': 769, 'got': 770, 'All': 771, '22': 772, '19': 773, 'among': 774, 'customers': 775, 'career': 776, 'your': 777, 'schools': 778, 'current': 779, 'cost': 780, 'Foreign': 781, 'sexual': 782, 'Germany': 783, 'software': 784, 'debut': 785, 'himself': 786, 'Turkey': 787, 'Jackson': 788, 'executive': 789, 'Hollywood': 790, 'southern': 791, 'outside': 792, 'train': 793, 'upcoming': 794, 'giant': 795, 'warned': 796, 'along': 797, 'Mark': 798, 'station': 799, 'border': 800, 'Singh': 801, 'struck': 802, 'husband': 803, 'admitted': 804, 'statement': 805, 'behind': 806, 'stage': 807, 'want': 808, 'officers': 809, 'maker': 810, 'us': 811, 'selling': 812, 'same': 813, 'risk': 814, 'Office': 815, 'Road': 816, 'fuel': 817, 'Association': 818, 'fund': 819, 'property': 820, 'growing': 821, 'build': 822, 'elections': 823, 'within': 824, 'until': 825, 'Asia': 826, 'ban': 827, 'such': 828, 'sent': 829, 'search': 830, 'gold': 831, 'performance': 832, 'known': 833, 'ever': 834, 'claimed': 835, 'later': 836, 'Zealand': 837, 'District': 838, 'using': 839, 'Coast': 840, 'co': 841, 'offers': 842, 'leaving': 843, 'raised': 844, 'gains': 845, 'protest': 846, 'name': 847, 'Valley': 848, 'spending': 849, 'Mexico': 850, 'movie': 851, 'violence': 852, 'needs': 853, 'decision': 854, 'm': 855, 'Ministry': 856, 'single': 857, 'Bay': 858, 'Ltd': 859, 'Mumbai': 860, 'O': 861, 'human': 862, 'Olympic': 863, 'suicide': 864, 'provide': 865, 'Party': 866, 'UN': 867, 'Al': 868, 'tonight': 869, 'practice': 870, 'league': 871, 'Microsoft': 872, 'staff': 873, 'loan': 874, 'officially': 875, 'falls': 876, 'Japanese': 877, 'losses': 878, 'champion': 879, 'list': 880, 'centre': 881, 'given': 882, 'break': 883, 'positive': 884, '23': 885, 'Hall': 886, 'River': 887, 'Company': 888, 'Grand': 889, 'Johnson': 890, 'recovery': 891, 'target': 892, 'non': 893, 'fraud': 894, 'attacks': 895, 'couple': 896, 'candidate': 897, '40': 898, 'Bill': 899, 'declared': 900, 'few': 901, 'mother': 902, 'Commission': 903, 'phone': 904, 'brand': 905, 'less': 906, 'construction': 907, 'safety': 908, 'showed': 909, 'funds': 910, 'continued': 911, 'history': 912, 'costs': 913, 'Gold': 914, 'fired': 915, 'flu': 916, 'seen': 917, 'Smith': 918, 'confidence': 919, 'alleged': 920, 'post': 921, 'almost': 922, 'Georgia': 923, 'robbery': 924, 'possible': 925, 'acquire': 926, 'anniversary': 927, 'Service': 928, 'soldiers': 929, 'approved': 930, 'pressure': 931, 'changes': 932, 'owner': 933, '26': 934, 'files': 935, 'too': 936, 'asked': 937, 'Williams': 938, '28': 939, 'starting': 940, 'Calif': 941, 'truck': 942, 'opposition': 943, 'employees': 944, 'step': 945, 'Carolina': 946, 'Big': 947, 'battle': 948, 'insurance': 949, 'weather': 950, '27': 951, 'real': 952, 'Christmas': 953, 'First': 954, 'Dr': 955, 'Wall': 956, 'appointed': 957, 'Internet': 958, 'rally': 959, 'education': 960, 'retail': 961, 'chairman': 962, 'never': 963, 'businesses': 964, 'boost': 965, 'turned': 966, 'paid': 967, 'acquired': 968, 'daughter': 969, 'returned': 970, 'Four': 971, 'increased': 972, 'Italian': 973, 'Governor': 974, 'Boston': 975, 'might': 976, 'worth': 977, 'interview': 978, 'stay': 979, 'warning': 980, 'force': 981, 'great': 982, 'begin': 983, 'ex': 984, 'look': 985, 'hopes': 986, 'Bush': 987, 'convicted': 988, 'joint': 989, 'double': 990, 'Syria': 991, 'falling': 992, 'Mike': 993, 'don': 994, 'playing': 995, 'south': 996, 'suffered': 997, 'Board': 998, 'Justin': 999, 'drop': 1000, 'Joe': 1001, 'dropped': 1002, 'travel': 1003, 'plane': 1004, 'mortgage': 1005, 'gets': 1006, 'legal': 1007, 'whose': 1008, 'S': 1009, 'sources': 1010, 'Martin': 1011, 'create': 1012, 'Pakistani': 1013, 'straight': 1014, 'captain': 1015, 'injuries': 1016, 'More': 1017, 'serious': 1018, 'euro': 1019, 'jailed': 1020, 'Jones': 1021, 'little': 1022, 'does': 1023, 'peace': 1024, 'scheduled': 1025, 'Khan': 1026, 'decided': 1027, 'protection': 1028, 'gay': 1029, 'consumer': 1030, 'moving': 1031, 'joined': 1032, 'find': 1033, 'father': 1034, 'did': 1035, 'reached': 1036, 'went': 1037, 'girlfriend': 1038, 'projects': 1039, 'Lanka': 1040, 'Palestinian': 1041, 'supply': 1042, 'earnings': 1043, 'facility': 1044, 'areas': 1045, 'solutions': 1046, 'Steve': 1047, 'Tom': 1048, 'failed': 1049, 'passed': 1050, 'fiscal': 1051, 'suspected': 1052, 'storm': 1053, 'soldier': 1054, 'aid': 1055, 'Spain': 1056, 'field': 1057, 'completed': 1058, 'Times': 1059, 'know': 1060, 'flights': 1061, 'bring': 1062, 'Ohio': 1063, 'connection': 1064, 'Fire': 1065, 'concerns': 1066, 'Security': 1067, 'This': 1068, 'already': 1069, 'NFL': 1070, 'drugs': 1071, 'popular': 1072, 'large': 1073, 'me': 1074, 'Turkish': 1075, 'futures': 1076, 'involved': 1077, 'once': 1078, 'Rep': 1079, 'love': 1080, 'person': 1081, 'expand': 1082, 'operation': 1083, 'Army': 1084, 'started': 1085, 'Michigan': 1086, 'Democratic': 1087, 'hits': 1088, 'efforts': 1089, 'Supreme': 1090, 'stake': 1091, 'de': 1092, 'raises': 1093, 'conditions': 1094, 'stores': 1095, 'recession': 1096, '31': 1097, 'Prince': 1098, 'begins': 1099, 'finally': 1100, 'Sydney': 1101, 'CEO': 1102, 'basketball': 1103, 'striker': 1104, 'north': 1105, 'forced': 1106, 'Afghan': 1107, 'reduce': 1108, 'Global': 1109, 'regional': 1110, 'added': 1111, 'space': 1112, 'each': 1113, 'Ryan': 1114, 'northern': 1115, 'Twitter': 1116, 'above': 1117, 'short': 1118, 'book': 1119, 'Beach': 1120, 'times': 1121, 'homes': 1122, 'armed': 1123, 'nine': 1124, 'every': 1125, '29': 1126, 'spokesman': 1127, 'Iranian': 1128, 'range': 1129, 'common': 1130, 'yet': 1131, 'television': 1132, 'giving': 1133, 'seeking': 1134, 'survey': 1135, 'published': 1136, 'leaves': 1137, 'crashed': 1138, 'improve': 1139, 'goes': 1140, 'treatment': 1141, 'banned': 1142, 'commercial': 1143, 'robbed': 1144, 'Green': 1145, 'partner': 1146, 'joins': 1147, 'abuse': 1148, 'thousands': 1149, 'award': 1150, 'caused': 1151, 'partnership': 1152, 'Black': 1153, 'front': 1154, 'unveiled': 1155, 'caught': 1156, 'Island': 1157, 'Houston': 1158, 'Dubai': 1159, 'incident': 1160, 'ruled': 1161, 'guard': 1162, 'met': 1163, 'miss': 1164, 'attacked': 1165, 'Taylor': 1166, 'Tour': 1167, 'point': 1168, 'levels': 1169, 'gun': 1170, 'releases': 1171, 'parts': 1172, 'Parliament': 1173, 'arrived': 1174, 'ground': 1175, 'Peter': 1176, 'hard': 1177, 'together': 1178, 'drive': 1179, 'stabbed': 1180, 'retirement': 1181, 'birth': 1182, 'whether': 1183, 'Syrian': 1184, 'Business': 1185, 'inflation': 1186, 'celebrate': 1187, 'cricket': 1188, 'problems': 1189, 'Ireland': 1190, 'ordered': 1191, 'posted': 1192, 'unit': 1193, 'patients': 1194, 'flight': 1195, 'Capital': 1196, 'EU': 1197, 'reach': 1198, 'urged': 1199, 'divorce': 1200, 'Home': 1201, 'Liverpool': 1202, 'perform': 1203, 'Club': 1204, 'track': 1205, 'available': 1206, 'Hospital': 1207, 'Tony': 1208, 'Egypt': 1209, 'states': 1210, '500': 1211, 'Lee': 1212, 'Toronto': 1213, 'funding': 1214, 'cases': 1215, 'stand': 1216, 'Saudi': 1217, 'Lady': 1218, 'teacher': 1219, 'period': 1220, 'Taliban': 1221, 'assets': 1222, 'King': 1223, 'Scott': 1224, 'Minnesota': 1225, 'housing': 1226, 'below': 1227, 'lawsuit': 1228, 'agent': 1229, 'suspect': 1230, 'Romney': 1231, 'marriage': 1232, 'dog': 1233, 'boss': 1234, 'Jan': 1235, 'platform': 1236, 'Singapore': 1237, 'investigation': 1238, 'dollars': 1239, 'kill': 1240, 'celebrates': 1241, 'save': 1242, 'Reserve': 1243, 'then': 1244, 'process': 1245, 'hotel': 1246, 'Jennifer': 1247, 'rising': 1248, 'returning': 1249, 'Italy': 1250, 'natural': 1251, 'exchange': 1252, 'Agency': 1253, 'Brazil': 1254, 'damage': 1255, 'Real': 1256, 'total': 1257, 'admits': 1258, 'rules': 1259, 'turn': 1260, 'midfielder': 1261, 'Financial': 1262, 'bomb': 1263, 'Korean': 1264, 'ceremony': 1265, 'Kansas': 1266, 'Spanish': 1267, 'minor': 1268, 'suffering': 1269, 'Middle': 1270, 'birthday': 1271, 'related': 1272, 'tomorrow': 1273, 'Western': 1274, 'net': 1275, 'producer': 1276, 'proposed': 1277, 'rape': 1278, 'comes': 1279, 'came': 1280, 'main': 1281, 'Gulf': 1282, 'rest': 1283, 'Ali': 1284, 'condition': 1285, 'T': 1286, 'base': 1287, 'seek': 1288, 'Kevin': 1289, 'wanted': 1290, 'cars': 1291, 'Kim': 1292, 'stolen': 1293, 'banking': 1294, 'orders': 1295, 'NATO': 1296, 'Clinton': 1297, 'figures': 1298, 'concert': 1299, 'ship': 1300, 'Americans': 1301, 'iPhone': 1302, 'stealing': 1303, 'personal': 1304, 'elected': 1305, 'others': 1306, 'Exchange': 1307, 'Chelsea': 1308, 'users': 1309, 'Louis': 1310, 'expects': 1311, 'broke': 1312, 'Star': 1313, 'Medical': 1314, 'corruption': 1315, 'card': 1316, 'illegal': 1317, 'appear': 1318, 'Sheriff': 1319, 'calling': 1320, 'e': 1321, 'governor': 1322, 'potential': 1323, 'al': 1324, 'access': 1325, 'offered': 1326, 'Highway': 1327, 'helped': 1328, 'earthquake': 1329, 'gives': 1330, 'band': 1331, 'airport': 1332, 'threat': 1333, 'review': 1334, 'played': 1335, 'digital': 1336, 'cutting': 1337, 'split': 1338, 'People': 1339, 'watch': 1340, 'county': 1341, 'receive': 1342, 'corporate': 1343, 'holiday': 1344, 'NBA': 1345, 'equity': 1346, 'indicted': 1347, 'land': 1348, 'Actor': 1349, 'criminal': 1350, 'owned': 1351, 'fifth': 1352, 'massive': 1353, 'dividend': 1354, 'Iowa': 1355, 'girls': 1356, 'previous': 1357, 'inside': 1358, 'overnight': 1359, 'highest': 1360, 'Taiwan': 1361, 'buying': 1362, 'moved': 1363, 'extended': 1364, 'militants': 1365, 'heavy': 1366, 'Games': 1367, 'pre': 1368, 'How': 1369, 'Five': 1370, 'competition': 1371, 'light': 1372, 'Colorado': 1373, 'Awards': 1374, 'Greece': 1375, 'quarterly': 1376, 'operator': 1377, 'Fort': 1378, 'Morgan': 1379, 'winner': 1380, 'source': 1381, 'holding': 1382, 'Women': 1383, 'living': 1384, 'adding': 1385, 'class': 1386, 'Public': 1387, 'newspaper': 1388, 'sports': 1389, 'Paris': 1390, 'Justice': 1391, 'Miami': 1392, 'think': 1393, 'll': 1394, 'felony': 1395, 'Gaza': 1396, 'Championship': 1397, 'form': 1398, 'cause': 1399, 'Feb': 1400, 'began': 1401, 'street': 1402, 'X': 1403, 'Committee': 1404, 'losing': 1405, 'cooperation': 1406, 'Stadium': 1407, 'Jersey': 1408, 'weak': 1409, 'There': 1410, 'far': 1411, 'deficit': 1412, 'barrel': 1413, 'model': 1414, 'planned': 1415, 'Las': 1416, 'Pacific': 1417, 'boyfriend': 1418, 'receives': 1419, 'towards': 1420, 'wide': 1421, 'Mayor': 1422, 'revenue': 1423, 'radio': 1424, 'bond': 1425, 'compared': 1426, 'address': 1427, 'Malaysia': 1428, 'rises': 1429, 'army': 1430, 'administration': 1431, 'crime': 1432, 'discuss': 1433, '60': 1434, 'apartment': 1435, 'Airways': 1436, 'Press': 1437, 'tried': 1438, 'strategic': 1439, 'Services': 1440, 'acquisition': 1441, 'acquires': 1442, 'Super': 1443, 'Perry': 1444, 'appeal': 1445, 'female': 1446, 'manufacturing': 1447, 'marketing': 1448, 'Arizona': 1449, 'closing': 1450, 'scheme': 1451, 'voted': 1452, 'terms': 1453, 'spring': 1454, 'fatal': 1455, 'talk': 1456, 'Detroit': 1457, 'date': 1458, 'disease': 1459, 'Centre': 1460, 'MP': 1461, 'sells': 1462, 'Actress': 1463, 'Chairman': 1464, 'product': 1465, 'allow': 1466, 'council': 1467, 'Vegas': 1468, 'claim': 1469, 'multi': 1470, 'starts': 1471, 'hour': 1472, 'Virginia': 1473, '200': 1474, 'Irish': 1475, 'Libya': 1476, 'west': 1477, 'denied': 1478, 'jury': 1479, 'Nations': 1480, 'department': 1481, 'aircraft': 1482, 'enough': 1483, 'direct': 1484, 's': 1485, 'investigate': 1486, 'Mobile': 1487, 'quality': 1488, 'Power': 1489, 'Fox': 1490, 'victims': 1491, 'draw': 1492, 'magazine': 1493, 'Development': 1494, 'Azerbaijan': 1495, 'ties': 1496, 'gave': 1497, 'Airport': 1498, 'downtown': 1499, 'celebrated': 1500, 'boat': 1501, 'defeat': 1502, 'attempt': 1503, 'Southern': 1504, 'hand': 1505, 'Royal': 1506, 'engaged': 1507, 'separate': 1508, 'Rock': 1509, 'operating': 1510, 'flat': 1511, 'Illinois': 1512, 'province': 1513, 'Atlanta': 1514, 'coast': 1515, 'Town': 1516, 'currently': 1517, 'response': 1518, 'Francisco': 1519, 'reform': 1520, 'looks': 1521, 'Northern': 1522, 'effort': 1523, 'relations': 1524, 'college': 1525, 'doesn': 1526, 'hospitalized': 1527, 'Dec': 1528, 'custody': 1529, 'estate': 1530, 'Jim': 1531, 'exports': 1532, 'dispute': 1533, 'Andrew': 1534, 'Hill': 1535, 'groups': 1536, 'knee': 1537, 'leads': 1538, 'friend': 1539, 'situation': 1540, 'Kelly': 1541, 'measures': 1542, 'worker': 1543, 'airline': 1544, 'income': 1545, 'vehicles': 1546, 'tournament': 1547, 'fighting': 1548, 'introduced': 1549, 'heard': 1550, 'defender': 1551, 'charity': 1552, 'beating': 1553, 'lose': 1554, 'Madrid': 1555, 'rescued': 1556, 'decline': 1557, 'teams': 1558, 'Dallas': 1559, 'Ben': 1560, 'systems': 1561, 'Alex': 1562, 'shut': 1563, 've': 1564, 'Test': 1565, 'Kong': 1566, 'red': 1567, 'worst': 1568, 'veteran': 1569, 'bail': 1570, 'foot': 1571, 'primary': 1572, 'Sports': 1573, 'programme': 1574, 'Rangers': 1575, 'Diego': 1576, 'lot': 1577, 'camp': 1578, 'Tim': 1579, 'protect': 1580, 'Today': 1581, 'civil': 1582, 'eastern': 1583, 'completes': 1584, 'fresh': 1585, 'Institute': 1586, 'Vice': 1587, 'rival': 1588, 'Finance': 1589, 'position': 1590, 'Blue': 1591, 'Year': 1592, 'wedding': 1593, 'Queen': 1594, 'arrives': 1595, 'McCain': 1596, 'You': 1597, 'replace': 1598, 'Kate': 1599, 'considering': 1600, 'ending': 1601, 'independent': 1602, 'room': 1603, 'winter': 1604, 'Hong': 1605, 'currency': 1606, 'slightly': 1607, 'spot': 1608, 'Indonesia': 1609, 'effective': 1610, 'becoming': 1611, 'doing': 1612, 'theft': 1613, 'committed': 1614, 'Kashmir': 1615, '2007': 1616, 'D': 1617, 'retire': 1618, 'critical': 1619, 'meets': 1620, 'Beijing': 1621, 'Oscar': 1622, 'hearing': 1623, 'Greek': 1624, 'moves': 1625, 'legend': 1626, 'course': 1627, 'why': 1628, 'important': 1629, 'draft': 1630, 'unemployment': 1631, 'additional': 1632, 'worldwide': 1633, 'Nov': 1634, 'Champions': 1635, 'pregnant': 1636, 'Tiger': 1637, 'baseball': 1638, 'forecast': 1639, 'bad': 1640, 'Ford': 1641, 'Mr': 1642, 'believe': 1643, 'reporting': 1644, 'equipment': 1645, 'resume': 1646, 'pulled': 1647, 'Milan': 1648, 'prime': 1649, 'saw': 1650, 'Republic': 1651, 'park': 1652, 'threatened': 1653, 'B': 1654, 'defense': 1655, 'needed': 1656, 'industrial': 1657, 'Academy': 1658, 'fined': 1659, 'controversial': 1660, 'Aug': 1661, 'transfer': 1662, 'focus': 1663, 'conduct': 1664, 'Media': 1665, 'union': 1666, 'Young': 1667, 'founder': 1668, 'Web': 1669, 'kills': 1670, 'chain': 1671, 'squad': 1672, 'avoid': 1673, 'holds': 1674, 'rating': 1675, 'M': 1676, 'Research': 1677, 'retailer': 1678, 'develop': 1679, 'Matt': 1680, 'mark': 1681, 'events': 1682, 'Andy': 1683, 'solar': 1684, 'Richard': 1685, 'launching': 1686, 'victim': 1687, 'contest': 1688, 'turns': 1689, 'different': 1690, 'blood': 1691, 'runs': 1692, 'rain': 1693, 'capacity': 1694, 'loans': 1695, 'Ukraine': 1696, 'Force': 1697, 'present': 1698, 'ends': 1699, 'black': 1700, 'version': 1701, 'involving': 1702, 'soccer': 1703, 'east': 1704, 'effect': 1705, 'grand': 1706, 'English': 1707, 'result': 1708, 'sets': 1709, 'package': 1710, 'beginning': 1711, 'fast': 1712, 'rebels': 1713, 'challenge': 1714, 'benefits': 1715, 'Conference': 1716, 'Stock': 1717, 'believes': 1718, 'Oct': 1719, 'Charlie': 1720, 'though': 1721, 'weapons': 1722, 'developer': 1723, 'Director': 1724, 'seeks': 1725, 'entered': 1726, 'block': 1727, 'fashion': 1728, 'brought': 1729, 'profits': 1730, 'Harry': 1731, 'division': 1732, 'Lindsay': 1733, 'William': 1734, 'causing': 1735, 'showing': 1736, 'headquarters': 1737, 'festival': 1738, 'headed': 1739, 'AP': 1740, 'index': 1741, 'Toyota': 1742, 'broken': 1743, 'poor': 1744, 'recovering': 1745, 'Lohan': 1746, 'became': 1747, 'solution': 1748, 'Senator': 1749, 'owners': 1750, 'parents': 1751, 'coal': 1752, 'voters': 1753, 'carrier': 1754, 'protesters': 1755, 'account': 1756, 'R': 1757, 'placed': 1758, 'marijuana': 1759, 'Guard': 1760, 'Barcelona': 1761, 'problem': 1762, 'value': 1763, 'benefit': 1764, 'attempted': 1765, 'Bangladesh': 1766, 'bringing': 1767, 'Wisconsin': 1768, 'finance': 1769, 'passes': 1770, 'terrorism': 1771, 'cleared': 1772, 'trip': 1773, 'mixed': 1774, 'Festival': 1775, 'Wayne': 1776, 'raising': 1777, 'Attorney': 1778, 'grow': 1779, 'committee': 1780, 'Allen': 1781, 'seriously': 1782, 'helping': 1783, 'Football': 1784, 'manufacturer': 1785, 'row': 1786, 'restaurant': 1787, 'Indiana': 1788, 'aimed': 1789, 'brain': 1790, 'Post': 1791, 'visits': 1792, 'western': 1793, 'chance': 1794, 'invest': 1795, 'awarded': 1796, 'terror': 1797, 'vice': 1798, 'successful': 1799, 'Bollywood': 1800, 'huge': 1801, 'tests': 1802, 'impact': 1803, 'various': 1804, 'Woods': 1805, 'climate': 1806, 'rescue': 1807, 'Simon': 1808, 'citing': 1809, 'Music': 1810, 'parliament': 1811, 'distribution': 1812, 'records': 1813, 'signing': 1814, 'married': 1815, 'Sir': 1816, 'quarterback': 1817, 'defence': 1818, 'increases': 1819, 'mining': 1820, 'Missouri': 1821, 'village': 1822, 'employee': 1823, 'Cleveland': 1824, 'Show': 1825, 'flood': 1826, 'quit': 1827, 'tribute': 1828, 'Sox': 1829, 'Jason': 1830, 'average': 1831, 'La': 1832, 'crashes': 1833, 'struggling': 1834, 'Series': 1835, 'daily': 1836, 'friends': 1837, 'always': 1838, 'Bob': 1839, 'secretary': 1840, 'Community': 1841, 'swine': 1842, 'Samsung': 1843, 'scored': 1844, 'safe': 1845, 'Fund': 1846, 'relationship': 1847, 'multiple': 1848, 'crude': 1849, 'Church': 1850, 'Jack': 1851, 'enter': 1852, 'carrying': 1853, 'expecting': 1854, 'Brian': 1855, 'cast': 1856, 'goal': 1857, 'shop': 1858, 'didn': 1859, 'degree': 1860, 'remained': 1861, 'battery': 1862, 'green': 1863, 'joining': 1864, 'Food': 1865, 'Seattle': 1866, 'families': 1867, 'teachers': 1868, 'Swiss': 1869, 'increasing': 1870, 'ambassador': 1871, 'Local': 1872, 'feels': 1873, 'Charles': 1874, 'cell': 1875, 'debate': 1876, 'activity': 1877, 'via': 1878, 'landing': 1879, 'Punjab': 1880, 'allegations': 1881, 'II': 1882, 'Arab': 1883, 'Tennessee': 1884, 'discovered': 1885, 'expectations': 1886, 'leg': 1887, 'investor': 1888, 'Santa': 1889, 'Victoria': 1890, 'appoints': 1891, 'Philadelphia': 1892, 'N': 1893, 'sanctions': 1894, 'Award': 1895, 'doctors': 1896, 'Affairs': 1897, 'mission': 1898, 'ministry': 1899, 'USA': 1900, 'stars': 1901, 'Jessica': 1902, 'Stephen': 1903, 'protests': 1904, 'act': 1905, 'customer': 1906, 'developing': 1907, 'Scotland': 1908, 'Sony': 1909, 'Kardashian': 1910, 'Rick': 1911, 'content': 1912, 'breaks': 1913, 'steps': 1914, 'Cameron': 1915, 'elderly': 1916, 'attend': 1917, 'rock': 1918, 'regular': 1919, 'extend': 1920, 'closes': 1921, 'denies': 1922, 'expansion': 1923, 'add': 1924, 'farmers': 1925, 'tackle': 1926, 'fears': 1927, 'Stewart': 1928, 'pick': 1929, 'wind': 1930, 'Islamic': 1931, 'Management': 1932, 'deputy': 1933, 'hundreds': 1934, 'strategy': 1935, 'Best': 1936, 'poll': 1937, 'linked': 1938, 'strikes': 1939, 'Avenue': 1940, 'disaster': 1941, 'Motors': 1942, 'story': 1943, 'parties': 1944, 'lawyer': 1945, 'Navy': 1946, 'unveils': 1947, 'zone': 1948, 'sexually': 1949, 'view': 1950, 'application': 1951, 'Six': 1952, 'Thomas': 1953, 'vs': 1954, 'Dutch': 1955, 'BJP': 1956, 'Qatar': 1957, 'Moscow': 1958, 'Technologies': 1959, 'cities': 1960, 'motorcycle': 1961, 'Gordon': 1962, 'citizens': 1963, 'recall': 1964, 'Orleans': 1965, 'Sarah': 1966, 'Brad': 1967, 'lives': 1968, 'minutes': 1969, 'teen': 1970, 'Will': 1971, 'Bieber': 1972, 'My': 1973, 'outlook': 1974, 'Township': 1975, 'song': 1976, 'bills': 1977, 'Brazilian': 1978, 'Education': 1979, 'seized': 1980, 'crimes': 1981, 'crore': 1982, 'Life': 1983, 'purchase': 1984, 'file': 1985, 'throughout': 1986, 'Mitt': 1987, 'spend': 1988, 'progress': 1989, 'decade': 1990, 'lawmakers': 1991, 'prevent': 1992, 'gone': 1993, 'send': 1994, 'But': 1995, 'plants': 1996, 'able': 1997, 'drivers': 1998, 'posts': 1999, 'leadership': 2000, 'subsidiary': 2001, 'Kentucky': 2002, 'schedule': 2003, '70': 2004, 'really': 2005, 'BBC': 2006, 'Systems': 2007, 'ongoing': 2008, 'promote': 2009, 'Jose': 2010, 'receiver': 2011, 'researchers': 2012, 'toward': 2013, 'identified': 2014, 'detained': 2015, 'millions': 2016, 'awards': 2017, 'assaulting': 2018, 'fan': 2019, 'films': 2020, 'try': 2021, 'Authorities': 2022, 'scandal': 2023, 'activities': 2024, 'allowed': 2025, 'Zimbabwe': 2026, 'warns': 2027, 'Jr': 2028, 'Great': 2029, 'Assembly': 2030, 'die': 2031, 'Gary': 2032, 'setting': 2033, 'sharply': 2034, 'complete': 2035, 'loses': 2036, 'Muslim': 2037, 'Arsenal': 2038, 'politics': 2039, 'consumers': 2040, 'internet': 2041, 'Eastern': 2042, 'generation': 2043, 'created': 2044, 'Gaga': 2045, 'Olympics': 2046, 'friendly': 2047, 'sentence': 2048, 'cents': 2049, 'computer': 2050, 'defensive': 2051, 'threatening': 2052, 'church': 2053, 'DC': 2054, 'spent': 2055, 'previously': 2056, '1000': 2057, 'Daniel': 2058, 'cloud': 2059, 'Fame': 2060, 'C': 2061, 'Kyrgyzstan': 2062, 'patent': 2063, 'youth': 2064, 'decades': 2065, 'severe': 2066, 'seat': 2067, 'disabled': 2068, 'mid': 2069, 'counts': 2070, 'delivery': 2071, 'Lewis': 2072, '35': 2073, 'Kennedy': 2074, 'mayor': 2075, 'closer': 2076, 'Major': 2077, 'things': 2078, 'clear': 2079, 'Elizabeth': 2080, 'reveals': 2081, 'Network': 2082, 'gain': 2083, 'adds': 2084, 'Pradesh': 2085, 'deadly': 2086, 'visited': 2087, 'Cole': 2088, 'export': 2089, 'professional': 2090, 'thought': 2091, 'stabbing': 2092, 'sending': 2093, 'developed': 2094, 'Technology': 2095, 'auction': 2096, 'concern': 2097, 'offensive': 2098, 'failing': 2099, 'homicide': 2100, 'Judge': 2101, 'Anthony': 2102, 'experts': 2103, 'championship': 2104, 'venture': 2105, 'dating': 2106, 'declares': 2107, 'done': 2108, 'steel': 2109, 'activist': 2110, 'complex': 2111, 'designed': 2112, 'feel': 2113, 'ruling': 2114, 'Patrick': 2115, 'significant': 2116, 'Hurricane': 2117, 'Men': 2118, 'confirms': 2119, 'fires': 2120, 'Wales': 2121, 'Memorial': 2122, 'FC': 2123, 'failure': 2124, 'reality': 2125, 'Family': 2126, 'Davis': 2127, 'hosts': 2128, 'Melbourne': 2129, 'Daily': 2130, 'speed': 2131, 'fair': 2132, 'Deputy': 2133, 'consecutive': 2134, 'brother': 2135, 'farm': 2136, 'heading': 2137, '300': 2138, 'approves': 2139, '90': 2140, 'finds': 2141, 'pounds': 2142, 'beaten': 2143, 'historic': 2144, '2014': 2145, 'helicopter': 2146, 'Russell': 2147, '80': 2148, 'Holdings': 2149, 'candidates': 2150, 'agree': 2151, 'Yahoo': 2152, 'organization': 2153, 'hosting': 2154, 'breaking': 2155, 'Arabia': 2156, 'stimulus': 2157, 'offices': 2158, 'appears': 2159, 'War': 2160, 'infrastructure': 2161, 'Act': 2162, 'island': 2163, 'evidence': 2164, 'serving': 2165, 'agencies': 2166, 'hired': 2167, 'granted': 2168, 'destroyed': 2169, 'speech': 2170, 'consider': 2171, 'Phoenix': 2172, 'possession': 2173, 'Nigeria': 2174, 'burglary': 2175, 'taxes': 2176, 'voting': 2177, 'doctor': 2178, 'providing': 2179, 'expands': 2180, 'auto': 2181, 'clash': 2182, 'advanced': 2183, 'extension': 2184, 'undergo': 2185, 'Journal': 2186, 'speak': 2187, 'Cuba': 2188, 'Hamilton': 2189, 'firms': 2190, 'Port': 2191, 'summit': 2192, 'Beckham': 2193, 'longer': 2194, 'El': 2195, 'fees': 2196, 'Christian': 2197, 'design': 2198, 'pilot': 2199, 'happy': 2200, 'Stocks': 2201, 'deliver': 2202, 'ratings': 2203, 'honored': 2204, 'justice': 2205, 'applications': 2206, 'snow': 2207, 'Sept': 2208, 'tennis': 2209, 'Nokia': 2210, 'claiming': 2211, 'hands': 2212, 'resigned': 2213, 'Indians': 2214, 'Vietnam': 2215, 'E': 2216, 'P': 2217, 'Democrats': 2218, 'tough': 2219, 'hope': 2220, 'refused': 2221, 'Defense': 2222, 'Michelle': 2223, 'Bowl': 2224, 'wake': 2225, 'Jordan': 2226, 'ensure': 2227, 'When': 2228, 'activists': 2229, 'Motor': 2230, 'recovered': 2231, 'beats': 2232, 'overall': 2233, 'serve': 2234, 'successfully': 2235, 'Alabama': 2236, 'relief': 2237, 'Amy': 2238, 'introduces': 2239, 'bonds': 2240, 'cover': 2241, 'Nick': 2242, 'selected': 2243, 'Idol': 2244, 'Philippines': 2245, 'continuing': 2246, 'hot': 2247, 'built': 2248, 'd': 2249, 'expanding': 2250, 'license': 2251, 'cross': 2252, 'Live': 2253, 'urges': 2254, 'Top': 2255, 'supplies': 2256, 'satellite': 2257, 'Authority': 2258, 'majority': 2259, 'Communications': 2260, 'overseas': 2261, 'box': 2262, 'NEW': 2263, 'settlement': 2264, 'treated': 2265, 'UAE': 2266, 'Moore': 2267, 'violent': 2268, 'boys': 2269, 'Mexican': 2270, 'Sea': 2271, 'channel': 2272, 'analysts': 2273, 'Trade': 2274, 'ice': 2275, 'campus': 2276, 'advertising': 2277, 'receiving': 2278, 'wrong': 2279, 'threats': 2280, 'Tamil': 2281, 'collision': 2282, 'Time': 2283, 'Palin': 2284, 'firefighters': 2285, 'lowest': 2286, 'Adam': 2287, 'Egyptian': 2288, 'duty': 2289, 'diagnosed': 2290, 'Country': 2291, 'laid': 2292, 'Denver': 2293, 'let': 2294, 'CBS': 2295, 'rule': 2296, 'announcement': 2297, 'rare': 2298, 'pop': 2299, 'works': 2300, 'terrorist': 2301, 'Stars': 2302, 'improved': 2303, 'Venezuela': 2304, 'experience': 2305, 'Fargo': 2306, 'Nelson': 2307, 'success': 2308, 'immigration': 2309, 'Tata': 2310, 'Rihanna': 2311, 'tree': 2312, 'apparently': 2313, 'metal': 2314, 'visiting': 2315, 'comments': 2316, 'Scottish': 2317, 'Pittsburgh': 2318, 'Oklahoma': 2319, 'Falls': 2320, 'Consumer': 2321, 'Defence': 2322, 'plea': 2323, 'stroke': 2324, 'Long': 2325, 'shopping': 2326, 'update': 2327, 'ring': 2328, 'Some': 2329, 'Ghana': 2330, 'speculation': 2331, 'Milwaukee': 2332, 'Iraqi': 2333, 'aged': 2334, 'Hills': 2335, 'changed': 2336, 'Frank': 2337, 'wounded': 2338, 'negative': 2339, 'alcohol': 2340, 'stated': 2341, 'bridge': 2342, 'Android': 2343, 'shoot': 2344, 'Cross': 2345, 'surprise': 2346, 'born': 2347, 'Entertainment': 2348, 'web': 2349, 'Campbell': 2350, 'passengers': 2351, 'J': 2352, 'Commerce': 2353, 'Students': 2354, 'Executive': 2355, 'appearance': 2356, 'Foundation': 2357, 'Miller': 2358, 'Lebanon': 2359, 'questions': 2360, 'Jay': 2361, 'suspicion': 2362, 'facilities': 2363, 'animal': 2364, 'bar': 2365, 'app': 2366, 'Euro': 2367, 'targets': 2368, 'scientists': 2369, 'Market': 2370, 'stronger': 2371, 'Senior': 2372, 'laws': 2373, 'message': 2374, 'Murray': 2375, 'Prix': 2376, 'Officer': 2377, 'ministers': 2378, 'believed': 2379, 'formally': 2380, 'units': 2381, 'Golden': 2382, 'fully': 2383, 'Yemen': 2384, 'sites': 2385, 'expanded': 2386, 'Cape': 2387, 'electricity': 2388, 'testing': 2389, 'legislation': 2390, 'resign': 2391, 'Tokyo': 2392, 'Wilson': 2393, 'Massachusetts': 2394, 'cabinet': 2395, 'middle': 2396, 'dealers': 2397, 'Giants': 2398, 'pitcher': 2399, 'Division': 2400, 'extends': 2401, 'twice': 2402, '75': 2403, 'Libyan': 2404, 'attorney': 2405, 'Hillary': 2406, 'sees': 2407, 'backed': 2408, '400': 2409, 'iPad': 2410, 'Yankees': 2411, 'Factor': 2412, 'becomes': 2413, 'kept': 2414, 'ABC': 2415, 'streets': 2416, 'numbers': 2417, 'crew': 2418, 'Pattinson': 2419, 'assistant': 2420, 'carbon': 2421, 'broadband': 2422, 'Social': 2423, 'comedy': 2424, 'chase': 2425, 'devices': 2426, 'tourism': 2427, 'shareholders': 2428, 'kids': 2429, 'Jon': 2430, 'toll': 2431, 'If': 2432, 'studio': 2433, 'passenger': 2434, 'mail': 2435, 'environmental': 2436, 'democracy': 2437, 'golf': 2438, 'supports': 2439, 'Nifty': 2440, 'programs': 2441, 'plays': 2442, 'advisory': 2443, 'Ontario': 2444, 'amount': 2445, 'Economic': 2446, 'strengthen': 2447, 'push': 2448, 'art': 2449, 'territory': 2450, 'reaches': 2451, 'Children': 2452, 'pace': 2453, 'dangerous': 2454, 'Newcastle': 2455, 'device': 2456, 'grant': 2457, 'Harris': 2458, 'herself': 2459, 'itself': 2460, 'Austin': 2461, 'polls': 2462, 'kicked': 2463, 'finish': 2464, 'pro': 2465, 'options': 2466, 'Resources': 2467, 'spread': 2468, 'nomination': 2469, 'cocaine': 2470, 'panel': 2471, 'Society': 2472, 'white': 2473, 'environment': 2474, 'Cricket': 2475, 'assaulted': 2476, 'Eric': 2477, 'Sun': 2478, 'hire': 2479, 'Anna': 2480, 'rejected': 2481, 'appeared': 2482, 'Catholic': 2483, 'BP': 2484, 'hurt': 2485, 'Sudan': 2486, 'check': 2487, 'produce': 2488, 'Writer': 2489, 'deals': 2490, 'hoping': 2491, 'status': 2492, 'Zardari': 2493, 'Bulgaria': 2494, 'challenges': 2495, 'hitting': 2496, 'rehab': 2497, 'Sam': 2498, 'Insurance': 2499, 'sought': 2500, 'Reuters': 2501, 'engine': 2502, 'Atlantic': 2503, 'resident': 2504, 'Singer': 2505, 'resigns': 2506, '45': 2507, 'sea': 2508, 'payment': 2509, 'goods': 2510, 'Now': 2511, 'sixth': 2512, 'provides': 2513, 'mine': 2514, 'Human': 2515, 'weekly': 2516, 'thanks': 2517, 'bought': 2518, 'Industries': 2519, 'fellow': 2520, 'newly': 2521, 'Abu': 2522, 'Film': 2523, 'Limited': 2524, 'Oregon': 2525, 'photo': 2526, 'semi': 2527, 'Online': 2528, 'agents': 2529, 'causes': 2530, 'Law': 2531, 'drops': 2532, 'strength': 2533, 'parking': 2534, 'supporters': 2535, '32': 2536, 'Ron': 2537, 'Labour': 2538, 'Roger': 2539, 'weight': 2540, 'letter': 2541, 'Sensex': 2542, 'USD': 2543, 'communications': 2544, 'screen': 2545, 'author': 2546, 'immediate': 2547, 'pass': 2548, 'Girl': 2549, 'Broadway': 2550, 'suffers': 2551, 'Gandhi': 2552, 'parliamentary': 2553, 'feature': 2554, 'Cabinet': 2555, 'Spears': 2556, 'keeping': 2557, 'clean': 2558, 'initial': 2559, 'certain': 2560, 'policies': 2561, 'begun': 2562, 'Labor': 2563, 'Simpson': 2564, 'offender': 2565, 'Boy': 2566, 'extra': 2567, 'embassy': 2568, 'enters': 2569, 'existing': 2570, 'putting': 2571, 'electric': 2572, 'approval': 2573, 'question': 2574, 'lifted': 2575, 'details': 2576, 'portfolio': 2577, 'Stanley': 2578, 'van': 2579, 'collection': 2580, 'lack': 2581, 'bin': 2582, 'rather': 2583, 'missed': 2584, 'residential': 2585, 'recover': 2586, 'buys': 2587, 'coalition': 2588, 'shown': 2589, 'Orange': 2590, 'arms': 2591, 'Cheryl': 2592, 'Forest': 2593, 'Game': 2594, 'Channel': 2595, 'teenager': 2596, 'Gas': 2597, 'apparent': 2598, 'stopped': 2599, 'located': 2600, 'vowed': 2601, 'sued': 2602, 'Rio': 2603, 'Myanmar': 2604, 'Bureau': 2605, 'Buffalo': 2606, 'Mary': 2607, 'asks': 2608, 'lending': 2609, 'include': 2610, 'phones': 2611, 'artist': 2612, 'Despite': 2613, 'tells': 2614, 'branch': 2615, 'drama': 2616, 'Vancouver': 2617, 'combat': 2618, 'rupee': 2619, 'welcome': 2620, 'regime': 2621, 'proposal': 2622, 'nominated': 2623, 'shoulder': 2624, 'spotted': 2625, 'patient': 2626, 'Disney': 2627, 'delegation': 2628, 'Special': 2629, 'rural': 2630, 'recalled': 2631, 'nationwide': 2632, 'Team': 2633, 'repair': 2634, 'Argentina': 2635, 'basis': 2636, 'Qaeda': 2637, 'floor': 2638, 'Serbia': 2639, 'ranked': 2640, 'asking': 2641, 'Utah': 2642, 'Information': 2643, 'presence': 2644, 'famous': 2645, 'note': 2646, 'fact': 2647, 'themselves': 2648, '150': 2649, 'franchise': 2650, 'explosion': 2651, 'Metro': 2652, 'wireless': 2653, 'traders': 2654, 'diplomatic': 2655, 'Kumar': 2656, 'contracts': 2657, 'regarding': 2658, 'Bridge': 2659, 'trend': 2660, 'removed': 2661, 'Treasury': 2662, 'Thailand': 2663, 'Tigers': 2664, 'lines': 2665, 'bailout': 2666, 'penalty': 2667, 'votes': 2668, 'entertainment': 2669, 'powerful': 2670, 'communities': 2671, 'GOP': 2672, 'yen': 2673, 'Birmingham': 2674, 'restructuring': 2675, 'Britney': 2676, 'Pope': 2677, 'Oakland': 2678, 'partners': 2679, 'Radio': 2680, 'Carlos': 2681, 'fine': 2682, 'preparing': 2683, 'pair': 2684, 'Hamas': 2685, 'Formula': 2686, 'Wells': 2687, 'musical': 2688, 'Car': 2689, 'Katie': 2690, 'Theatre': 2691, 'Regional': 2692, 'Express': 2693, 'arm': 2694, 'handed': 2695, 'ill': 2696, 'networking': 2697, 'Columbus': 2698, 'highly': 2699, 'Index': 2700, 'output': 2701, 'storage': 2702, 'Malaysian': 2703, 'creating': 2704, 'missile': 2705, 'Madison': 2706, 'secure': 2707, 'comeback': 2708, 'breast': 2709, 'Sabha': 2710, 'Mountain': 2711, 'journalist': 2712, 'Pro': 2713, 'stable': 2714, 'Anderson': 2715, 'eye': 2716, 'Hudson': 2717, 'Who': 2718, 'Somali': 2719, 'traded': 2720, 'agrees': 2721, 'Square': 2722, 'W': 2723, 'Pennsylvania': 2724, 'tonnes': 2725, 'affected': 2726, 'Jolie': 2727, 'jumped': 2728, 'Jerry': 2729, 'filing': 2730, 'Orlando': 2731, 'Hundreds': 2732, 'Swedish': 2733, 'miles': 2734, 'rivals': 2735, 'entire': 2736, 'reduced': 2737, 'Springs': 2738, 'exclusive': 2739, 'coverage': 2740, 'Sheen': 2741, 'electronic': 2742, 'Howard': 2743, 'Madonna': 2744, 'insists': 2745, 'considered': 2746, 'collapsed': 2747, 'ticket': 2748, 'directors': 2749, 'helps': 2750, 'conducted': 2751, 'Veteran': 2752, 'Jeff': 2753, 'approximately': 2754, 'elect': 2755, 'Field': 2756, 'roads': 2757, 'Angelina': 2758, 'Columbia': 2759, 'factory': 2760, 'healthcare': 2761, 'felt': 2762, 'canceled': 2763, 'Baltimore': 2764, 'celebrating': 2765, 'cancelled': 2766, 'Chapter': 2767, 'Edwards': 2768, 'Weather': 2769, 'Windows': 2770, 'honor': 2771, 'Kazakhstan': 2772, 'society': 2773, 'limited': 2774, 'expert': 2775, 'clients': 2776, 'Palm': 2777, 'Warren': 2778, 'cards': 2779, 'Another': 2780, 'evacuated': 2781, 'style': 2782, 'deaths': 2783, 'buildings': 2784, 'Mississippi': 2785, 'Jimmy': 2786, 'healthy': 2787, 'Arts': 2788, 'window': 2789, 'Kings': 2790, 'winds': 2791, 'false': 2792, 'university': 2793, 'super': 2794, 'bodies': 2795, 'declined': 2796, 'virus': 2797, 'presented': 2798, '600': 2799, 'confident': 2800, 'Shanghai': 2801, 'goals': 2802, 'persons': 2803, 'searching': 2804, 'paper': 2805, 'matches': 2806, 'illness': 2807, 'notes': 2808, '/': 2809, 'homeless': 2810, 'postponed': 2811, 'transport': 2812, 'recalls': 2813, 'Most': 2814, 'Lions': 2815, 'alive': 2816, 'NCAA': 2817, 'option': 2818, 'welcomed': 2819, 'dogs': 2820, 'probe': 2821, 'negotiations': 2822, 'Tampa': 2823, 'pirates': 2824, 'manslaughter': 2825, 'welcomes': 2826, 'suspends': 2827, 'medal': 2828, 'ease': 2829, 'champions': 2830, 'Louisiana': 2831, 'carry': 2832, 'Franklin': 2833, 'voice': 2834, 'Foods': 2835, 'heat': 2836, 'scene': 2837, 'exercise': 2838, 'fishing': 2839, 'Leader': 2840, 'managed': 2841, 'probation': 2842, 'Software': 2843, 'Arkansas': 2844, 'Securities': 2845, 'fear': 2846, 'Winehouse': 2847, 'sworn': 2848, '2000': 2849, 'Seven': 2850, 'Why': 2851, 'gang': 2852, 'Commissioner': 2853, 'Dakota': 2854, 'journalists': 2855, 'ankle': 2856, 'waste': 2857, 'Celebrity': 2858, 'NHL': 2859, 'fit': 2860, 'fee': 2861, 'resources': 2862, 'Steel': 2863, 'Chavez': 2864, 'While': 2865, 'Baseball': 2866, 'assistance': 2867, 'NSW': 2868, 'feet': 2869, 'Administration': 2870, 'Galaxy': 2871, 'Palestinians': 2872, 'instead': 2873, 'pension': 2874, 'reporters': 2875, 'Sean': 2876, 'true': 2877, 'pull': 2878, 'secret': 2879, 'Pitt': 2880, 'pays': 2881, 'ways': 2882, 'complaint': 2883, 'supplier': 2884, 'financing': 2885, 'assembly': 2886, 'pool': 2887, 'tourists': 2888, 'self': 2889, 'busy': 2890, 'turning': 2891, 'opportunities': 2892, 'settle': 2893, 'renewed': 2894, 'tested': 2895, 'Thousands': 2896, 'drinking': 2897, 'reforms': 2898, 'Partners': 2899, 'delayed': 2900, 'Ambassador': 2901, 'Just': 2902, 'prisoners': 2903, 'heads': 2904, 'NBC': 2905, 'Associated': 2906, 'Little': 2907, 'Steven': 2908, '10000': 2909, 'figure': 2910, 'outstanding': 2911, 'advance': 2912, 'retired': 2913, 'stations': 2914, 'Water': 2915, 'Switzerland': 2916, 'Aniston': 2917, 'Edward': 2918, 'informed': 2919, 'immediately': 2920, 'learned': 2921, 'conflict': 2922, 'demands': 2923, 'Credit': 2924, '33': 2925, 'lift': 2926, 'Marine': 2927, 'performing': 2928, 'places': 2929, 'dialogue': 2930, 'walk': 2931, 'Czech': 2932, 'Demi': 2933, 'monthly': 2934, 'import': 2935, 'NY': 2936, 'Bahrain': 2937, 'Connecticut': 2938, 'river': 2939, 'Antonio': 2940, 'payments': 2941, 'incidents': 2942, 'cold': 2943, 'Andre': 2944, 'weaker': 2945, 'prosecutors': 2946, 'Manmohan': 2947, 'targeting': 2948, 'Trust': 2949, 'Patrol': 2950, 'tickets': 2951, 'Pop': 2952, 'raid': 2953, 'Portland': 2954, 'jet': 2955, 'expect': 2956, 'Queensland': 2957, 'standards': 2958, 'request': 2959, 'bilateral': 2960, 'rugby': 2961, 'Miss': 2962, 'betting': 2963, 'celebrity': 2964, 'ad': 2965, 'invited': 2966, 'Tech': 2967, 'premier': 2968, 'mass': 2969, 'commitment': 2970, 'Alaska': 2971, 'investments': 2972, 'location': 2973, 'hosted': 2974, 'Hockey': 2975, 'Boeing': 2976, 'tied': 2977, 'teenage': 2978, 'Biden': 2979, 'movement': 2980, 'Cyrus': 2981, 'bit': 2982, 'Officials': 2983, 'escaped': 2984, 'contact': 2985, 'slow': 2986, 'dedicated': 2987, 'Republicans': 2988, 'notice': 2989, 'although': 2990, 'residence': 2991, 'pain': 2992, 'Industry': 2993, 'designer': 2994, 'Stone': 2995, 'accounts': 2996, 'religious': 2997, 'Van': 2998, 'hockey': 2999, 'bear': 3000, 'invasion': 3001, 'especially': 3002, 'Kenya': 3003, 'sentiment': 3004, 'listed': 3005, 'tight': 3006, 'decide': 3007, 'sheriff': 3008, 'hike': 3009, '65': 3010, 'finished': 3011, 'matter': 3012, 'fatally': 3013, 'Henry': 3014, 'Josh': 3015, 'Goldman': 3016, 'Old': 3017, 'Interior': 3018, 'Classic': 3019, 'defend': 3020, 'touch': 3021, 'worked': 3022, 'pornography': 3023, 'threatens': 3024, 'Standard': 3025, 'something': 3026, 'SA': 3027, 'responsible': 3028, 'Warner': 3029, 'Free': 3030, 'writer': 3031, 'Penn': 3032, 'documents': 3033, 'hospitals': 3034, 'Charlotte': 3035, 'emerging': 3036, 'waiting': 3037, 'battling': 3038, 'Philippine': 3039, 'Telecom': 3040, 'Phil': 3041, 'Dollar': 3042, 'technical': 3043, 'Ray': 3044, 'onto': 3045, 'kick': 3046, 'Katy': 3047, 'deadline': 3048, 'enforcement': 3049, 'cancels': 3050, 'recorded': 3051, 'counties': 3052, 'picked': 3053, 'engineering': 3054, 'Dan': 3055, '*': 3056, 'chemical': 3057, 'ten': 3058, 'science': 3059, 'movies': 3060, 'suggests': 3061, 'Jobs': 3062, 'alert': 3063, 'expressed': 3064, 'Dhabi': 3065, 'Bobby': 3066, 'Good': 3067, 'Ukrainian': 3068, 'Alan': 3069, 'scam': 3070, 'rushed': 3071, 'sends': 3072, 'Earth': 3073, 'Head': 3074, 'Armenia': 3075, 'acting': 3076, 'BC': 3077, 'edition': 3078, 'Azerbaijani': 3079, 'Mac': 3080, 'Amazon': 3081, 'defends': 3082, 'follow': 3083, 'offshore': 3084, '34': 3085, 'Carter': 3086, 'Alexander': 3087, 'Barclays': 3088, 'preliminary': 3089, 'nations': 3090, 'features': 3091, 'produced': 3092, 'Miley': 3093, 'specialist': 3094, 'engagement': 3095, 'supporting': 3096, 'benchmark': 3097, 'Lankan': 3098, 'aims': 3099, 'remaining': 3100, 'kidnapped': 3101, 'suspects': 3102, 'tender': 3103, 'population': 3104, 'seems': 3105, 'Chrysler': 3106, 'waters': 3107, 'crews': 3108, 'Terry': 3109, 'analyst': 3110, '42': 3111, 'ran': 3112, 'paying': 3113, 'criticism': 3114, 'Private': 3115, 'Heavy': 3116, 'steady': 3117, 'delay': 3118, 'troubled': 3119, 'tell': 3120, 'native': 3121, 'Ferguson': 3122, 'Jewish': 3123, 'Dancing': 3124, 'CNN': 3125, 'normal': 3126, 'Body': 3127, 'institutions': 3128, 'Democrat': 3129, 'learn': 3130, 'Lincoln': 3131, 'enterprise': 3132, 'provided': 3133, 'feeling': 3134, 'blast': 3135, 'delivered': 3136, 'announcing': 3137, 'approach': 3138, 'Cuban': 3139, 'merger': 3140, 'Indonesian': 3141, 'Space': 3142, 'route': 3143, 'names': 3144, 'page': 3145, 'Eagles': 3146, 'doors': 3147, 'initiative': 3148, 'LA': 3149, 'Bristol': 3150, 'Night': 3151, 'registered': 3152, 'maintain': 3153, 'Winter': 3154, 'killer': 3155, 'shortage': 3156, 'Robin': 3157, 'producers': 3158, 'businessman': 3159, 'stole': 3160, 'identity': 3161, 'Scientists': 3162, 'Maryland': 3163, 'Retail': 3164, 'euros': 3165, 'Week': 3166, 'greater': 3167, 'active': 3168, 'suing': 3169, 'arrests': 3170, 'jump': 3171, 'participate': 3172, 'includes': 3173, 'Price': 3174, '100000': 3175, 'compete': 3176, 'freedom': 3177, 'Bradley': 3178, 'positions': 3179, 'Villa': 3180, 'targeted': 3181, 'Area': 3182, 'neighborhood': 3183, 'Lawrence': 3184, 'wait': 3185, 'dance': 3186, 'marry': 3187, 'drowned': 3188, 'introduce': 3189, 'items': 3190, 'language': 3191, 'dates': 3192, 'often': 3193, 'highway': 3194, 'Colombia': 3195, 'knife': 3196, 'delays': 3197, 'Cowell': 3198, 'Drug': 3199, 'blow': 3200, 'alliance': 3201, 'districts': 3202, 'opener': 3203, 'utility': 3204, 'Rafael': 3205, 'Kristen': 3206, 'Lopez': 3207, 'trafficking': 3208, 'commander': 3209, 'smoking': 3210, 'processing': 3211, 'dismissed': 3212, 'cargo': 3213, 'AG': 3214, 'Nashville': 3215, 'Love': 3216, 'means': 3217, 'personnel': 3218, 'arrive': 3219, 'imports': 3220, 'featuring': 3221, '41': 3222, 'Clark': 3223, 'judges': 3224, 'Ocean': 3225, 'finals': 3226, 'noon': 3227, 'temporary': 3228, 'Cooper': 3229, 'YouTube': 3230, 'Sachs': 3231, 'deep': 3232, 'YORK': 3233, 'seasons': 3234, 'Kolkata': 3235, 'superstar': 3236, 'rail': 3237, 'Neil': 3238, 'sharp': 3239, 'Rugby': 3240, 'Cardinals': 3241, 'Alliance': 3242, 'Bruce': 3243, 'assigned': 3244, 'remove': 3245, 'Drive': 3246, 'flooding': 3247, 'hall': 3248, 'murdered': 3249, 'estimated': 3250, 'Tottenham': 3251, 'Girls': 3252, 'defended': 3253, 'Inter': 3254, 'Jets': 3255, 'pound': 3256, 'fail': 3257, 'Mother': 3258, 'withdraws': 3259, 'defeated': 3260, 'Cincinnati': 3261, 'ask': 3262, 'Craig': 3263, '10th': 3264, 'civilians': 3265, '―': 3266, 'escape': 3267, 'happened': 3268, 'secured': 3269, 'smoke': 3270, 'Us': 3271, 'difficult': 3272, 'fallen': 3273, 'violations': 3274, 'halt': 3275, 'reasons': 3276, 'allowing': 3277, 'fishermen': 3278, 'perfect': 3279, 'century': 3280, 'awareness': 3281, 'PM': 3282, 'Auto': 3283, 'burning': 3284, 'undisclosed': 3285, 'Musharraf': 3286, 'traditional': 3287, 'Haiti': 3288, 'terrorists': 3289, 'drunk': 3290, 'Construction': 3291, 'IBM': 3292, 'faced': 3293, 'resolution': 3294, 'books': 3295, 'wild': 3296, 'male': 3297, 'LLC': 3298, 'minute': 3299, 'flying': 3300, 'Bengal': 3301, 'smartphone': 3302, 'Caribbean': 3303, 'gained': 3304, 'written': 3305, 'beyond': 3306, 'spill': 3307, 'Jammu': 3308, 'improving': 3309, 'Storm': 3310, 'kicks': 3311, 'temporarily': 3312, 'Bulgarian': 3313, 'gunpoint': 3314, 'upgraded': 3315, '37': 3316, 'Tehran': 3317, 'Buy': 3318, 'Small': 3319, 'reaching': 3320, 'Armstrong': 3321, 'described': 3322, 'core': 3323, '48': 3324, 'culture': 3325, 'pipeline': 3326, 'damaged': 3327, 'Researchers': 3328, 'Mortgage': 3329, 'Don': 3330, 'cable': 3331, 'sport': 3332, 'suggested': 3333, 'focused': 3334, 'trust': 3335, 'prepare': 3336, 'proud': 3337, 'Nepal': 3338, 'pushed': 3339, 'clashes': 3340, 'mostly': 3341, 'mental': 3342, 'roll': 3343, 'material': 3344, '5000': 3345, 'luxury': 3346, 'Investment': 3347, 'horse': 3348, 'Watson': 3349, 'influence': 3350, 'considers': 3351, 'hires': 3352, 'suspension': 3353, 'carried': 3354, 'Medvedev': 3355, 'Belarus': 3356, 'Nicole': 3357, 'ride': 3358, 'shoots': 3359, 'accept': 3360, 'revenues': 3361, 'slowdown': 3362, 'northwest': 3363, 'honoured': 3364, 'promotion': 3365, 'employment': 3366, 'streak': 3367, 'phase': 3368, 'Sunderland': 3369, 'Science': 3370, 'till': 3371, 'seventh': 3372, 'Netherlands': 3373, 'estimates': 3374, 'Virgin': 3375, 'Creek': 3376, 'display': 3377, 'Maria': 3378, 'Barbara': 3379, 'Hawaii': 3380, 'anything': 3381, 'tie': 3382, 'brings': 3383, 'performed': 3384, 'Barry': 3385, 'arson': 3386, 'lay': 3387, 'Honda': 3388, 'bars': 3389, 'Several': 3390, 'warrant': 3391, 'Dublin': 3392, 'thing': 3393, 'NASA': 3394, 'Delta': 3395, 'exhibition': 3396, 'unexpectedly': 3397, 'Networks': 3398, 'Parker': 3399, 'Manager': 3400, 'Billy': 3401, 'Brandon': 3402, 'Brand': 3403, 'Armenian': 3404, 'Jamie': 3405, 'scale': 3406, 'fake': 3407, 'entry': 3408, 'suspicious': 3409, 'wreck': 3410, 'maintenance': 3411, 'Hotel': 3412, 'Land': 3413, 'Masters': 3414, 'rocket': 3415, 'Roy': 3416, '85': 3417, 'southwest': 3418, 'Maoists': 3419, 'athletes': 3420, '2006': 3421, 'sister': 3422, 'Liam': 3423, 'speaks': 3424, 'door': 3425, 'Mandela': 3426, 'promised': 3427, 'hiring': 3428, 'Way': 3429, 'murdering': 3430, 'premiere': 3431, 'Sky': 3432, 'Asif': 3433, 'fastest': 3434, 'recalling': 3435, 'kidnapping': 3436, 'Brothers': 3437, 'Verizon': 3438, 'earned': 3439, 'iron': 3440, 'Housing': 3441, 'compensation': 3442, 'forthcoming': 3443, 'edge': 3444, 'NASCAR': 3445, 'march': 3446, 'savings': 3447, 'Mets': 3448, 'Joseph': 3449, 'Nevada': 3450, '250': 3451, 'nothing': 3452, 'cited': 3453, 'intelligence': 3454, 'fixed': 3455, 'Cyprus': 3456, 'plead': 3457, 'Malik': 3458, 'Matthew': 3459, 'Shah': 3460, 'resignation': 3461, 'violating': 3462, '36': 3463, 'actually': 3464, 'bound': 3465, 'Dodgers': 3466, 'retiring': 3467, 'Intel': 3468, 'labor': 3469, 'representative': 3470, 'vows': 3471, 'comprehensive': 3472, 'Wood': 3473, 'threw': 3474, 'Montreal': 3475, 'raped': 3476, 'Reliance': 3477, 'shots': 3478, 'table': 3479, 'Cowboys': 3480, 'Sweden': 3481, 'Deutsche': 3482, 'reopen': 3483, 'probably': 3484, 'upon': 3485, 'unions': 3486, 'lineup': 3487, 'suit': 3488, 'K': 3489, 'parent': 3490, 'unchanged': 3491, 'clinic': 3492, 'competitive': 3493, 'securities': 3494, 'MAN': 3495, 'occurred': 3496, 'Station': 3497, 'Chennai': 3498, 'email': 3499, 'nominee': 3500, 'responsibility': 3501, 'score': 3502, 'longtime': 3503, 'sides': 3504, '1.5': 3505, 'restore': 3506, 'withdraw': 3507, 'UFC': 3508, 'adopted': 3509, 'Casey': 3510, 'Ed': 3511, 'reason': 3512, 'Point': 3513, 'dozens': 3514, 'Statistics': 3515, 'exit': 3516, 'trillion': 3517, 'Maine': 3518, 'balance': 3519, 'Hampshire': 3520, 'rains': 3521, 'FBI': 3522, 'checks': 3523, 'resistance': 3524, 'undergoes': 3525, 'AC': 3526, 'Fitch': 3527, 'Benedict': 3528, 'Ricky': 3529, 'Speaker': 3530, 'cap': 3531, '47': 3532, 'accidentally': 3533, 'talking': 3534, 'Nebraska': 3535, 'Danny': 3536, 'swimming': 3537, 'undergoing': 3538, 'ESPN': 3539, 'emerged': 3540, 'So': 3541, 'Greg': 3542, 'III': 3543, 'landed': 3544, 'Interstate': 3545, 'Over': 3546, 'raping': 3547, 'Johnny': 3548, 'Nicolas': 3549, 'bigger': 3550, 'crowd': 3551, 'infection': 3552, 'imposed': 3553, '49': 3554, 'learning': 3555, 'similar': 3556, 'flag': 3557, 'drunken': 3558, 'improvement': 3559, 'Putin': 3560, 'Poland': 3561, 'drink': 3562, 'Carl': 3563, 'Roberts': 3564, 'downturn': 3565, '38': 3566, 'Youth': 3567, 'isn': 3568, 'rich': 3569, 'establish': 3570, 'Hugo': 3571, 'Firefighters': 3572, 'accepted': 3573, 'enhance': 3574, 'Swift': 3575, 'Arena': 3576, 'HP': 3577, 'fighter': 3578, 'Strip': 3579, 'broadcast': 3580, 'tons': 3581, 'leak': 3582, 'Thompson': 3583, 'grew': 3584, 'registration': 3585, 'strongly': 3586, 'playoff': 3587, 'dream': 3588, 'scores': 3589, 'Project': 3590, 'agreements': 3591, 'commission': 3592, 'racing': 3593, 'image': 3594, 'everything': 3595, 'Rights': 3596, 'Bell': 3597, '39': 3598, 'Wireless': 3599, 'Sprint': 3600, 'Mount': 3601, 'worries': 3602, 'Dave': 3603, 'Lama': 3604, 'camera': 3605, 'formed': 3606, 'Museum': 3607, 'Spring': 3608, '55': 3609, 'tries': 3610, 'episode': 3611, 'Last': 3612, 'blamed': 3613, 'collapse': 3614, 'recording': 3615, 'endorses': 3616, 'AM': 3617, 'funeral': 3618, 'Kerala': 3619, 'Salman': 3620, 'Nigerian': 3621, 'standing': 3622, 'Assad': 3623, 'integrated': 3624, 'tourist': 3625, 'physical': 3626, 'established': 3627, 'wearing': 3628, 'shortly': 3629, 'entering': 3630, 'Thai': 3631, 'Latin': 3632, 'PC': 3633, 'Pirates': 3634, 'hip': 3635, 'meetings': 3636, 'Fiji': 3637, '700': 3638, 'hero': 3639, 'wave': 3640, 'restored': 3641, 'Banks': 3642, '>': 3643, 'Indianapolis': 3644, '800': 3645, 'quickly': 3646, 'Jesse': 3647, 'Electric': 3648, 'unveil': 3649, 'Hilton': 3650, 'Dow': 3651, 'trees': 3652, 'reserve': 3653, 'talent': 3654, 'asset': 3655, 'boxing': 3656, 'Warriors': 3657, 'Gujarat': 3658, 'clubs': 3659, 'encounter': 3660, 'Fashion': 3661, 'directed': 3662, 'struggle': 3663, 'Aaron': 3664, 'era': 3665, 'Lok': 3666, 'God': 3667, 'Reid': 3668, 'forum': 3669, 'captured': 3670, '72': 3671, 'Hughes': 3672, 'collaboration': 3673, 'reporter': 3674, 'linebacker': 3675, 'Crude': 3676, 'association': 3677, 'seize': 3678, 'Can': 3679, 'Pat': 3680, 'port': 3681, 'conviction': 3682, 'Larry': 3683, 'Colombian': 3684, 'presents': 3685, 'Cancer': 3686, '3000': 3687, 'demanded': 3688, 'wear': 3689, 'edged': 3690, 'ball': 3691, 'word': 3692, 'Dick': 3693, 'Dalai': 3694, 'Rob': 3695, 'permanent': 3696, 'changing': 3697, 'Bears': 3698, 'inmate': 3699, 'interested': 3700, 'publicly': 3701, 'Brother': 3702, 'drilling': 3703, 'Walker': 3704, 'Environment': 3705, 'stepping': 3706, 'profile': 3707, 'Rogers': 3708, 'withdrawn': 3709, 'Collins': 3710, 'pitch': 3711, 'sure': 3712, 'pole': 3713, 'alone': 3714, 'required': 3715, 'illegally': 3716, 'Fla': 3717, 'stress': 3718, 'Holmes': 3719, 'Marshall': 3720, 'downgraded': 3721, 'quits': 3722, 'trailer': 3723, 'Emirates': 3724, 'retailers': 3725, 'centers': 3726, 'visa': 3727, 'About': 3728, 'cells': 3729, 'exploration': 3730, 'reveal': 3731, 'adults': 3732, 'Saint': 3733, 'risks': 3734, 'Nadal': 3735, 'Perth': 3736, 'Bond': 3737, 'upset': 3738, 'tracks': 3739, 'backs': 3740, '68': 3741, 'Auckland': 3742, 'classes': 3743, 'Second': 3744, 'Aston': 3745, 'http': 3746, 'speaking': 3747, 'Christina': 3748, 'awaited': 3749, 'unlikely': 3750, 'promises': 3751, 'increasingly': 3752, 'outfielder': 3753, 'limit': 3754, 'abroad': 3755, 'size': 3756, 'Civil': 3757, 'reopened': 3758, 'Kerry': 3759, '44': 3760, 'Springfield': 3761, 'Cruise': 3762, 'Class': 3763, 'electronics': 3764, 'attention': 3765, 'Rose': 3766, 'Montana': 3767, 'whole': 3768, 'lawyers': 3769, 'everyone': 3770, 'resort': 3771, 'tensions': 3772, 'wrote': 3773, 'starring': 3774, 'choice': 3775, 'moment': 3776, 'pedestrian': 3777, 'advantage': 3778, 'Romania': 3779, 'regulators': 3780, 'Graham': 3781, 'Agriculture': 3782, 'firing': 3783, 'conspiracy': 3784, 'Federation': 3785, 'copper': 3786, 'familiar': 3787, 'passing': 3788, 'rallied': 3789, 'MTV': 3790, 'Prize': 3791, 'provincial': 3792, 'cultural': 3793, 'dealer': 3794, 'unique': 3795, 'thrown': 3796, 'Raiders': 3797, 'sharing': 3798, 'thinks': 3799, 'lender': 3800, 'tool': 3801, 'Sarkozy': 3802, 'icon': 3803, 'misdemeanor': 3804, 'cruise': 3805, 'takeover': 3806, 'label': 3807, 'prepared': 3808, 'deputies': 3809, 'served': 3810, 'Tyler': 3811, 'respect': 3812, 'softball': 3813, 'throwing': 3814, 'practices': 3815, 'organizations': 3816, 'currencies': 3817, 'fleet': 3818, 'Ian': 3819, 'salary': 3820, 'affairs': 3821, 'affect': 3822, 'Annual': 3823, 'Douglas': 3824, 'humanitarian': 3825, 'controlled': 3826, 'Under': 3827, 'Duke': 3828, 'weapon': 3829, 'pilots': 3830, 'commodity': 3831, 'McCartney': 3832, 'During': 3833, 'walking': 3834, 'Residents': 3835, 'Village': 3836, 'square': 3837, 'houses': 3838, 'puts': 3839, 'opportunity': 3840, 'Lord': 3841, 'FIFA': 3842, 'hair': 3843, 'Wright': 3844, 'Commonwealth': 3845, 'roster': 3846, 'tropical': 3847, 'endorsed': 3848, 'Chiefs': 3849, 'diesel': 3850, 'interim': 3851, 'independence': 3852, 'Chile': 3853, 'insisted': 3854, 'selection': 3855, 'easy': 3856, 'Lakers': 3857, 'Roman': 3858, 'Zuma': 3859, 'Dell': 3860, 'alternative': 3861, 'saved': 3862, 'kind': 3863, 'rebound': 3864, 'Fair': 3865, 'Qantas': 3866, 'Mass': 3867, 'Jean': 3868, 'Up': 3869, 'Ex': 3870, 'hedge': 3871, 'intends': 3872, 'Gaddafi': 3873, 'writes': 3874, 'dealing': 3875, 'saving': 3876, 'sparked': 3877, 'beach': 3878, 'celebration': 3879, 'drought': 3880, 'included': 3881, 'twins': 3882, 'Abdullah': 3883, 'Kuwait': 3884, 'Georgian': 3885, 'hear': 3886, 'forcing': 3887, 'defending': 3888, 'Rome': 3889, '66': 3890, 'reduction': 3891, 'memorial': 3892, 'AFP': 3893, 'Gates': 3894, 'Harper': 3895, 'brands': 3896, 'quite': 3897, 'Mar': 3898, 'condemned': 3899, 'Cairo': 3900, 'original': 3901, 'stands': 3902, 'solo': 3903, 'keen': 3904, 'critically': 3905, 'driven': 3906, 'guidance': 3907, 'pledged': 3908, 'workforce': 3909, 'tornado': 3910, 'Kris': 3911, 'dry': 3912, 'Election': 3913, 'Silver': 3914, 'fails': 3915, 'neck': 3916, 'idea': 3917, 'Kenny': 3918, 'Kingdom': 3919, 'settled': 3920, 'silver': 3921, 'Capitol': 3922, 'Gilani': 3923, 'technologies': 3924, 'restrictions': 3925, 'properties': 3926, 'worse': 3927, 'extending': 3928, 'grants': 3929, 'controversy': 3930, 'fitness': 3931, 'modern': 3932, 'dinner': 3933, 'tools': 3934, '67': 3935, 'Congressman': 3936, 'elementary': 3937, 'drone': 3938, 'Royals': 3939, 'routes': 3940, 'Ashley': 3941, 'powers': 3942, 'innovative': 3943, 'stability': 3944, 'knocked': 3945, 'supported': 3946, 'Knight': 3947, 'surge': 3948, 'sustained': 3949, 'triple': 3950, 'promoting': 3951, 'promoted': 3952, 'older': 3953, 'tablet': 3954, 'resolve': 3955, 'diabetes': 3956, 'measure': 3957, 'marking': 3958, 'Bachchan': 3959, 'eighth': 3960, 'dropping': 3961, 'prove': 3962, 'Venezuelan': 3963, 'remarks': 3964, 'classic': 3965, 'veterans': 3966, 'Lance': 3967, 'bat': 3968, 'winger': 3969, 'Solutions': 3970, 'refuses': 3971, 'Natural': 3972, 'Kent': 3973, 'Opposition': 3974, 'dramatic': 3975, '76': 3976, 'forecasts': 3977, 'Ross': 3978, 'congressional': 3979, 'crossing': 3980, 'accuses': 3981, 'Emergency': 3982, 'politicians': 3983, 'Adams': 3984, 'proposes': 3985, 'Cubs': 3986, 'praised': 3987, 'ranks': 3988, 'involvement': 3989, 'underwent': 3990, 'smart': 3991, 'lakh': 3992, 'Vikings': 3993, 'sponsor': 3994, 'crackdown': 3995, 'Soccer': 3996, 'photos': 3997, 'effects': 3998, 'conservative': 3999, 'Somalia': 4000, 'Munich': 4001, 'Mario': 4002, 'skills': 4003, 'crashing': 4004, 'materials': 4005, 'Schools': 4006, 'milestone': 4007, 'Shane': 4008, 'momentum': 4009, 'section': 4010, 'injuring': 4011, 'pushing': 4012, 'tanker': 4013, 'picks': 4014, 'marks': 4015, 'resumed': 4016, 'demanding': 4017, 'Ahmadinejad': 4018, 'accepting': 4019, 'Jefferson': 4020, 'Leeds': 4021, 'link': 4022, 'Bulls': 4023, 'pleased': 4024, 'trapped': 4025, 'buyers': 4026, 'Brisbane': 4027, '43': 4028, 'Lebanese': 4029, 'Rochester': 4030, 'internal': 4031, '53': 4032, 'alongside': 4033, 'Kapoor': 4034, 'trouble': 4035, 'Rachel': 4036, 'depression': 4037, 'NC': 4038, 'releasing': 4039, 'Iron': 4040, 'jets': 4041, 'shipping': 4042, 'Evans': 4043, 'Saints': 4044, 'stadium': 4045, 'Kanye': 4046, 'Kosovo': 4047, 'retires': 4048, 'Grant': 4049, 'telling': 4050, 'anyone': 4051, 'standoff': 4052, 'quoted': 4053, 'Jonathan': 4054, 'addition': 4055, 'coordinator': 4056, 'FA': 4057, 'Nationals': 4058, '51': 4059, 'Markets': 4060, 'senator': 4061, 'determined': 4062, 'Citigroup': 4063, 'Islam': 4064, 'boosted': 4065, 'coaching': 4066, 'Anti': 4067, 'finding': 4068, '82': 4069, 'Ted': 4070, 'DUI': 4071, 'lands': 4072, 'rejects': 4073, 'minimum': 4074, 'Coach': 4075, 'marked': 4076, 'Bihar': 4077, 'faster': 4078, 'Delaware': 4079, 'interests': 4080, 'firefighter': 4081, 'Vladimir': 4082, 'burned': 4083, 'rollover': 4084, 'Eight': 4085, 'watching': 4086, 'executives': 4087, 'Ottawa': 4088, 'limits': 4089, 'crack': 4090, '3D': 4091, 'Celtic': 4092, 'slammed': 4093, 'Budget': 4094, 'Region': 4095, 'Keith': 4096, 'trucks': 4097, 'attacking': 4098, 'spokeswoman': 4099, 'authority': 4100, 'witnesses': 4101, 'Vatican': 4102, 'Raza': 4103, 'goalkeeper': 4104, '56': 4105, 'possibility': 4106, 'manage': 4107, 'closure': 4108, 'BlackBerry': 4109, 'Grammy': 4110, 'Patriots': 4111, 'Muslims': 4112, 'sectors': 4113, 'appeals': 4114, 'sue': 4115, 'Your': 4116, 'approve': 4117, 'Death': 4118, 'Chidambaram': 4119, 'Fisher': 4120, 'walked': 4121, 'highs': 4122, '11th': 4123, 'Jacob': 4124, 'structure': 4125, 'governments': 4126, 'PTI': 4127, 'computers': 4128, '63': 4129, '62': 4130, 'Auburn': 4131, 'virtual': 4132, 'lying': 4133, 'either': 4134, 'bomber': 4135, 'lenders': 4136, 'inquiry': 4137, 'slipped': 4138, 'attempts': 4139, 'prior': 4140, 'Motorola': 4141, 'Julia': 4142, 'picture': 4143, 'sleep': 4144, 'rookie': 4145, 'Transport': 4146, 'transaction': 4147, 'Circuit': 4148, 'operators': 4149, 'Haryana': 4150, 'pulls': 4151, 'buried': 4152, 'rapper': 4153, 'plastic': 4154, 'prize': 4155, 'chosen': 4156, 'commerce': 4157, 'kidney': 4158, 'hander': 4159, 'attempting': 4160, 'regulatory': 4161, 'significantly': 4162, 'Memphis': 4163, 'anticipated': 4164, 'urging': 4165, 'tracking': 4166, 'hunting': 4167, 'individual': 4168, 'casino': 4169, 'earn': 4170, 'knowledge': 4171, 'memory': 4172, 'inducted': 4173, 'judicial': 4174, 'wage': 4175, 'bans': 4176, 'Palace': 4177, 'adviser': 4178, 'prominent': 4179, 'eurozone': 4180, 'volunteers': 4181, 'fun': 4182, 'Adelaide': 4183, 'Brett': 4184, 'managers': 4185, '#': 4186, 'Juan': 4187, 'heavyweight': 4188, 'publisher': 4189, 'favourite': 4190, 'Digital': 4191, 'hole': 4192, 'fish': 4193, 'apologizes': 4194, 'appointment': 4195, 'potentially': 4196, 'counter': 4197, 'Karnataka': 4198, 'Middleton': 4199, 'Safety': 4200, 'Costa': 4201, 'Child': 4202, 'L': 4203, 'locations': 4204, 'sugar': 4205, 'managing': 4206, 'apologized': 4207, 'providers': 4208, 'MPs': 4209, 'Tribune': 4210, 'user': 4211, 'fly': 4212, 'Twenty20': 4213, 'However': 4214, 'bag': 4215, 'Rice': 4216, 'prepares': 4217, 'plunged': 4218, 'affair': 4219, 'Video': 4220, 'Store': 4221, 'register': 4222, 'donated': 4223, 'Susan': 4224, 'commissioner': 4225, 'animals': 4226, 'resumes': 4227, 'Student': 4228, 'sues': 4229, 'monitoring': 4230, '2015': 4231, '54': 4232, 'wing': 4233, 'article': 4234, 'adult': 4235, 'Islamabad': 4236, 'innings': 4237, 'volume': 4238, 'stranded': 4239, 'prescription': 4240, 'monetary': 4241, 'rolled': 4242, 'Care': 4243, 'tsunami': 4244, 'torn': 4245, 'direction': 4246, 'blame': 4247, 'updated': 4248, 'loves': 4249, 'Norway': 4250, 'shuttle': 4251, 'networks': 4252, '69': 4253, '58': 4254, 'adopt': 4255, 'implement': 4256, 'Sex': 4257, 'remote': 4258, 'asylum': 4259, 'F': 4260, 'wall': 4261, 'communication': 4262, 'Wimbledon': 4263, 'producing': 4264, 'taxi': 4265, 'Ten': 4266, 'visitors': 4267, 'streaming': 4268, 'write': 4269, 'advice': 4270, 'surplus': 4271, 'apply': 4272, 'Gibson': 4273, 'eating': 4274, 'Berlin': 4275, 'count': 4276, '71': 4277, 'Jacksonville': 4278, 'tribal': 4279, 'blog': 4280, 'bombing': 4281, 'stops': 4282, 'Mukherjee': 4283, 'GM': 4284, 'championships': 4285, 'Broncos': 4286, 'Derby': 4287, 'Heidi': 4288, 'Nine': 4289, 'pending': 4290, 'commits': 4291, 'shift': 4292, 'Indies': 4293, 'favorite': 4294, 'models': 4295, 'poised': 4296, 'Television': 4297, 'Sacramento': 4298, 'Montgomery': 4299, 'character': 4300, 'shareholder': 4301, 'Baghdad': 4302, 'Tommy': 4303, 'Bangalore': 4304, 'bike': 4305, 'concussion': 4306, 'throws': 4307, 'keeps': 4308, 'path': 4309, 'Strauss': 4310, 'investigators': 4311, 'poverty': 4312, 'hopeful': 4313, 'Jazz': 4314, 'uses': 4315, 'read': 4316, 'aviation': 4317, 'discrimination': 4318, 'pub': 4319, 'abortion': 4320, 'railway': 4321, 'Our': 4322, 'IMF': 4323, 'legislative': 4324, 'roof': 4325, 'refusing': 4326, 'Jeremy': 4327, 'Diamond': 4328, 'Mahmoud': 4329, 'qualifying': 4330, 'telecom': 4331, 'coffee': 4332, 'Carey': 4333, 'Dolphins': 4334, 'Liberal': 4335, 'Liberty': 4336, 'Pete': 4337, 'associated': 4338, 'assignment': 4339, 'Everton': 4340, 'seats': 4341, 'waivers': 4342, 'replaced': 4343, 'mind': 4344, 'Fed': 4345, 'gaming': 4346, 'Grove': 4347, 'songs': 4348, 'principal': 4349, 'Art': 4350, 'freed': 4351, 'mountain': 4352, 'regions': 4353, 'Military': 4354, 'Records': 4355, 'Garden': 4356, 'upgrade': 4357, 'restaurants': 4358, 'answer': 4359, 'Jerusalem': 4360, 'Mitchell': 4361, 'efficiency': 4362, 'assist': 4363, 'G': 4364, 'NHS': 4365, 'Julian': 4366, 'allows': 4367, 'renewable': 4368, 'Main': 4369, 'ability': 4370, 'crucial': 4371, '61': 4372, 'treat': 4373, 'branded': 4374, 'magnitude': 4375, 'minority': 4376, 'ore': 4377, 'Arnold': 4378, 'possibly': 4379, 'Berlusconi': 4380, 'overcome': 4381, 'forms': 4382, 'weakened': 4383, 'Anne': 4384, 'Presidential': 4385, 'Cook': 4386, 'branches': 4387, 'Nancy': 4388, 'confirm': 4389, 'audience': 4390, 'Sep': 4391, 'respond': 4392, 'Electronics': 4393, 'overhaul': 4394, 'Ferrari': 4395, 'predicted': 4396, 'analysis': 4397, 'pit': 4398, 'tank': 4399, 'Idaho': 4400, 'Lily': 4401, 'lady': 4402, '46': 4403, 'someone': 4404, 'Solar': 4405, 'Federer': 4406, 'Wellington': 4407, 'Championships': 4408, 'slip': 4409, 'stepped': 4410, 'Forum': 4411, 'Elementary': 4412, 'Portsmouth': 4413, 'newest': 4414, 'Only': 4415, 'Half': 4416, 'Airbus': 4417, 'witness': 4418, 'declines': 4419, 'economies': 4420, 'toddler': 4421, 'improves': 4422, 'envoy': 4423, 'concluded': 4424, 'Ken': 4425, 'licence': 4426, 'argument': 4427, 'cameras': 4428, 'courts': 4429, 'skin': 4430, 'porn': 4431, 'metals': 4432, 'jobless': 4433, 'Triple': 4434, 'Mubarak': 4435, 'mutual': 4436, 'DJ': 4437, 'discussed': 4438, 'hanging': 4439, 'Murphy': 4440, 'grade': 4441, 'throw': 4442, 'creative': 4443, 'revised': 4444, 'refinance': 4445, 'reducing': 4446, 'Nobel': 4447, 'actions': 4448, 'beef': 4449, 'Directors': 4450, 'aggravated': 4451, 'Baku': 4452, 'Assange': 4453, 'concerned': 4454, 'reserves': 4455, 'Chancellor': 4456, 'disappointing': 4457, 'discovery': 4458, 'investigated': 4459, 'Bloomberg': 4460, 'teens': 4461, 'Steelers': 4462, 'Not': 4463, 'Maharashtra': 4464, 'AFL': 4465, 'recycling': 4466, 'Richmond': 4467, 'Gomez': 4468, 'links': 4469, 'tops': 4470, 'messages': 4471, 'Bernard': 4472, '64': 4473, 'skipper': 4474, 'Sonia': 4475, 'followed': 4476, 'accidents': 4477, 'arts': 4478, 'Organization': 4479, 'Muhammad': 4480, 'oldest': 4481, 'Library': 4482, 'regulations': 4483, 'outbreak': 4484, 'topped': 4485, 'bottom': 4486, 'Petroleum': 4487, 'gift': 4488, 'blasts': 4489, 'Southwest': 4490, 'celebrations': 4491, 'Heart': 4492, 'Ann': 4493, 'Peru': 4494, 'abandoned': 4495, 'Celtics': 4496, 'cruelty': 4497, 'feared': 4498, 'Rooney': 4499, 'beauty': 4500, 'wheat': 4501, 'clothing': 4502, 'Tendulkar': 4503, 'austerity': 4504, 'hunger': 4505, 'Elton': 4506, 'Baby': 4507, 'Golf': 4508, 'System': 4509, 'Chase': 4510, 'prostate': 4511, 'Karachi': 4512, 'versus': 4513, 'robbing': 4514, 'Bayern': 4515, 'Modi': 4516, 'shed': 4517, 'immigrants': 4518, 'prosecutor': 4519, 'Brooklyn': 4520, 'Rodriguez': 4521, 'Friends': 4522, 'sovereign': 4523, 'midnight': 4524, 'APA': 4525, 'junior': 4526, '74': 4527, 'shock': 4528, 'Xinhua': 4529, 'Eddie': 4530, 'Braves': 4531, 'Trophy': 4532, 'airlines': 4533, 'WikiLeaks': 4534, 'voluntary': 4535, 'privately': 4536, 'exposure': 4537, 'baseman': 4538, 'advised': 4539, 'tech': 4540, '95': 4541, 'pet': 4542, 'Line': 4543, 'pharmaceutical': 4544, 'unknown': 4545, 'privacy': 4546, 'inspired': 4547, 'Yemeni': 4548, 'brief': 4549, 'pregnancy': 4550, 'catches': 4551, 'Pak': 4552, 'Industrial': 4553, 'lawmaker': 4554, 'drove': 4555, 'Mart': 4556, 'Donald': 4557, 'employers': 4558, 'Redskins': 4559, 'gap': 4560, 'defenseman': 4561, 'Syed': 4562, 'PGA': 4563, 'Peace': 4564, 'opinion': 4565, 'Nation': 4566, 'Racing': 4567, 'particularly': 4568, 'piece': 4569, 'absence': 4570, 'chest': 4571, 'identify': 4572, 'spokesperson': 4573, 'fields': 4574, 'Ravens': 4575, 'Abdul': 4576, 'riding': 4577, 'heroin': 4578, '20th': 4579, 'completely': 4580, 'peaceful': 4581, 'Alberta': 4582, 'Rajasthan': 4583, 'sustainable': 4584, 'drowns': 4585, 'text': 4586, 'De': 4587, '83': 4588, 'petrol': 4589, 'accusing': 4590, '50000': 4591, '120': 4592, 'Browns': 4593, 'Summit': 4594, 'crushed': 4595, 'twin': 4596, 'forest': 4597, 'damages': 4598, 'Sheikh': 4599, 'acres': 4600, 'Nissan': 4601, 'Pharmaceuticals': 4602, 'Number': 4603, 'library': 4604, 'underway': 4605, 'shops': 4606, 'NJ': 4607, 'billionaire': 4608, 'Heat': 4609, 'Castro': 4610, 'holidays': 4611, 'charter': 4612, 'Hyderabad': 4613, 'Crown': 4614, 'Lil': 4615, '77': 4616, 'fighters': 4617, 'determine': 4618, 'Merkel': 4619, 'Cloud': 4620, '59': 4621, 'representatives': 4622, 'proposals': 4623, 'BMW': 4624, 'Karzai': 4625, 'prospect': 4626, 'standard': 4627, '1st': 4628, 'misses': 4629, 'greatest': 4630, 'rebel': 4631, 'Schwarzenegger': 4632, 'Pervez': 4633, 'doping': 4634, 'guns': 4635, 'Spencer': 4636, 'fled': 4637, 'Pentagon': 4638, 'Freedom': 4639, 'Bryant': 4640, 'Emma': 4641, 'task': 4642, 'hub': 4643, 'Seoul': 4644, 'guest': 4645, 'rice': 4646, 'brothers': 4647, 'guarantee': 4648, 'Baldwin': 4649, 'papers': 4650, 'priority': 4651, 'machine': 4652, 'politician': 4653, 'scoring': 4654, 'Mugabe': 4655, 'seeing': 4656, 'emissions': 4657, 'wealth': 4658, 'editor': 4659, 'Sandy': 4660, 'storms': 4661, 'lung': 4662, 'rush': 4663, 'volleyball': 4664, 'Dmitry': 4665, 'nightclub': 4666, 'suggesting': 4667, 'operate': 4668, 'parade': 4669, 'agriculture': 4670, 'Sharif': 4671, 'Wild': 4672, 'inning': 4673, 'Pacquiao': 4674, 'Francis': 4675, 'ownership': 4676, 'Heights': 4677, 'slashed': 4678, 'suspend': 4679, 'industries': 4680, 'prospects': 4681, 'string': 4682, '86': 4683, 'militant': 4684, 'Clarke': 4685, 'Amanda': 4686, 'Randy': 4687, 'Camp': 4688, 'prostitution': 4689, 'blaze': 4690, 'Portugal': 4691, 'transplant': 4692, 'Del': 4693, 'condemns': 4694, 'Mason': 4695, 'milk': 4696, 'unrest': 4697, 'requirements': 4698, 'Building': 4699, 'discharged': 4700, 'beer': 4701, 'Louisville': 4702, 'Globe': 4703, 'vaccine': 4704, 'smartphones': 4705, 'billions': 4706, 'reading': 4707, 'automaker': 4708, 'featured': 4709, 'Kyle': 4710, 'Oracle': 4711, 'advances': 4712, 'bed': 4713, 'writing': 4714, 'petition': 4715, 'foreclosure': 4716, 'northeast': 4717, 'planes': 4718, 'Belgium': 4719, 'makers': 4720, 'ballot': 4721, 'warming': 4722, 'gathered': 4723, 'Laden': 4724, 'Newton': 4725, 'values': 4726, 'fares': 4727, 'easing': 4728, 'expenses': 4729, 'viewers': 4730, 'Xbox': 4731, 'Sachin': 4732, 'Third': 4733, 'Potter': 4734, 'suffer': 4735, 'Many': 4736, 'enjoy': 4737, 'recognized': 4738, 'doubled': 4739, 'equities': 4740, 'deposit': 4741, 'developers': 4742, 'Emmy': 4743, 'species': 4744, 'refinery': 4745, 'Athens': 4746, 'vessel': 4747, 'seed': 4748, '12th': 4749, 'refugees': 4750, 'Lloyd': 4751, 'welfare': 4752, 'danger': 4753, 'Where': 4754, 'Wenger': 4755, 'guards': 4756, 'southeast': 4757, 'scare': 4758, 'Nintendo': 4759, 'warn': 4760, 'abusing': 4761, 'Vodafone': 4762, 'delivers': 4763, 'performs': 4764, 'offences': 4765, 'Owen': 4766, 'Abbas': 4767, 'websites': 4768, 'burn': 4769, 'Robinson': 4770, 'Blues': 4771, 'mile': 4772, '50th': 4773, 'detention': 4774, 'Program': 4775, 'mean': 4776, 'fewer': 4777, 'winners': 4778, 'watched': 4779, 'membership': 4780, 'Reports': 4781, 'discussion': 4782, 'WWE': 4783, 'lake': 4784, 'Mall': 4785, 'Route': 4786, 'consumption': 4787, 'artists': 4788, 'garden': 4789, 'counterpart': 4790, 'presidency': 4791, 'HIV': 4792, 'Rahul': 4793, 'Phillies': 4794, 'sing': 4795, 'Mel': 4796, 'lows': 4797, 'Rapper': 4798, 'Legislature': 4799, 'regulator': 4800, 'Ashton': 4801, 'Driver': 4802, 'Roberto': 4803, 'Eve': 4804, 'robberies': 4805, 'attract': 4806, 'Rupee': 4807, 'praises': 4808, 'trades': 4809, 'Report': 4810, 'titled': 4811, 'Bashar': 4812, 'king': 4813, 'sense': 4814, 'solid': 4815, 'ANC': 4816, 'Side': 4817, 'Chad': 4818, 'Uttar': 4819, 'PLC': 4820, 'Guy': 4821, 'naval': 4822, 'Father': 4823, 'strip': 4824, 'pickup': 4825, 'Z': 4826, 'Phillips': 4827, 'Cambridge': 4828, '73': 4829, 'Superior': 4830, 'unable': 4831, 'Salem': 4832, 'Tennis': 4833, 'Jesus': 4834, 'Bills': 4835, 'View': 4836, 'unidentified': 4837, 'patrol': 4838, 'dozen': 4839, 'Osbourne': 4840, 'doubles': 4841, 'roles': 4842, 'locked': 4843, 'Timberlake': 4844, 'achieved': 4845, 'creation': 4846, 'innovation': 4847, 'eased': 4848, 'Easter': 4849, 'Sandra': 4850, 'catch': 4851, 'installed': 4852, 'sound': 4853, 'finger': 4854, 'cancel': 4855, 'wholesale': 4856, 'staying': 4857, 'Tropical': 4858, 'Murdoch': 4859, 'Money': 4860, 'pricing': 4861, 'Brussels': 4862, 'upgrades': 4863, 'Gillard': 4864, 'investing': 4865, '100th': 4866, 'Rapids': 4867, 'stream': 4868, 'survived': 4869, 'missiles': 4870, 'Marc': 4871, '88': 4872, 'purchases': 4873, 'Martinez': 4874, 'Canadians': 4875, 'Independent': 4876, 'Ham': 4877, '2004': 4878, 'Twins': 4879, 'burns': 4880, 'CBI': 4881, 'comment': 4882, 'hostage': 4883, 'Forces': 4884, 'slide': 4885, 'chart': 4886, 'Polish': 4887, '900': 4888, 'Snow': 4889, 'labour': 4890, 'swept': 4891, 'Manhattan': 4892, 'wish': 4893, 'floods': 4894, 'WASHINGTON': 4895, 'plus': 4896, 'capture': 4897, 'Ericsson': 4898, 'Christie': 4899, '2005': 4900, 'centres': 4901, 'donates': 4902, 'coaches': 4903, 'documentary': 4904, 'hailed': 4905, 'Fernando': 4906, 'quick': 4907, 'ceasefire': 4908, 'Teen': 4909, 'Todd': 4910, 'Lane': 4911, 'subject': 4912, 'temperatures': 4913, 'slump': 4914, 'Islands': 4915, 'photographer': 4916, 'lived': 4917, '1500': 4918, 'integration': 4919, 'Rupert': 4920, 'odds': 4921, 'Coal': 4922, 'aboard': 4923, 'mall': 4924, 'guide': 4925, 'Barnes': 4926, 'motor': 4927, 'Suzuki': 4928, 'defeats': 4929, 'citizen': 4930, 'blocked': 4931, 'wine': 4932, 'Titans': 4933, 'Monroe': 4934, 'contractor': 4935, 'Juventus': 4936, 'Sport': 4937, 'evasion': 4938, 'Netanyahu': 4939, 'Serbian': 4940, 'HTC': 4941, 'affiliate': 4942, 'stripped': 4943, 'resource': 4944, 'Jonas': 4945, 'words': 4946, 'Moss': 4947, 'diplomats': 4948, 'monitor': 4949, 'uncertainty': 4950, 'Ahmed': 4951, 'Technical': 4952, 'spoke': 4953, 'initiatives': 4954, 'democratic': 4955, 'Property': 4956, 'hasn': 4957, 'fundraiser': 4958, 'Armed': 4959, 'Blake': 4960, 'Lovato': 4961, 'collapses': 4962, 'Eva': 4963, 'quoting': 4964, 'ships': 4965, 'Cisco': 4966, 'Dennis': 4967, 'violation': 4968, 'Parish': 4969, 'Mills': 4970, 'recognition': 4971, 'switch': 4972, 'disclosed': 4973, 'Tibetan': 4974, 'larger': 4975, 'shelter': 4976, 'Electronic': 4977, 'aide': 4978, 'Plc': 4979, 'posting': 4980, 'cat': 4981, 'Blair': 4982, 'Aviation': 4983, 'sitting': 4984, 'bone': 4985, 'Max': 4986, 'bounce': 4987, 'buses': 4988, 'Finland': 4989, 'Conservative': 4990, 'Early': 4991, 'type': 4992, 'Edmonton': 4993, 'Selena': 4994, 'Heath': 4995, 'slams': 4996, 'Staff': 4997, 'Wal': 4998, 'Congressional': 4999, 'garage': 5000, 'preseason': 5001, 'placement': 5002, 'Aberdeen': 5003, 'looked': 5004, 'transition': 5005, 'civilian': 5006, 'differences': 5007, 'Packers': 5008, 'code': 5009, 'closely': 5010, 'eat': 5011, 'elbow': 5012, 'supermarket': 5013, 'Ecuador': 5014, 'Argentine': 5015, 'contain': 5016, 'declining': 5017, 'chances': 5018, 'professionals': 5019, '@': 5020, 'workshop': 5021, 'misconduct': 5022, 'survive': 5023, 'Unemployment': 5024, 'Dame': 5025, 'Glasgow': 5026, 'Drew': 5027, 'trains': 5028, 'complaints': 5029, 'Gen': 5030, 'disputed': 5031, 'races': 5032, 'referendum': 5033, 'unbeaten': 5034, 'Whitney': 5035, 'destroys': 5036, 'surrounding': 5037, 'observed': 5038, 'briefly': 5039, 'Magazine': 5040, 'hate': 5041, 'Beverly': 5042, 'easier': 5043, 'steal': 5044, 'Christopher': 5045, 'representing': 5046, 'Monetary': 5047, 'exploded': 5048, 'abducted': 5049, 'affordable': 5050, 'broad': 5051, 'unity': 5052, 'shared': 5053, 'NRL': 5054, 'Marathon': 5055, 'client': 5056, 'Legendary': 5057, 'slash': 5058, '52': 5059, 'charging': 5060, 'musician': 5061, 'diplomat': 5062, 'Hungary': 5063, 'clothes': 5064, 'trials': 5065, 'Orioles': 5066, 'Boys': 5067, 'automotive': 5068, 'watchdog': 5069, 'chip': 5070, 'babies': 5071, 'legendary': 5072, 'commit': 5073, 'convention': 5074, 'clinical': 5075, 'Johannesburg': 5076, 'parks': 5077, 'Sciences': 5078, 'loved': 5079, 'youths': 5080, 'peak': 5081, 'Bernanke': 5082, 'liquor': 5083, 'suburban': 5084, 'computing': 5085, 'attended': 5086, 'rental': 5087, 'slowed': 5088, 'rolls': 5089, 'Environmental': 5090, 'definitive': 5091, 'offset': 5092, 'necessary': 5093, 'unanimously': 5094, 'Omaha': 5095, 'acquitted': 5096, 'individuals': 5097, 'widespread': 5098, 'ethnic': 5099, 'sessions': 5100, 'Colin': 5101, 'Hugh': 5102, 'sacked': 5103, 'transportation': 5104, 'aim': 5105, 'Ronaldo': 5106, 'outfit': 5107, 'Eagle': 5108, 'honour': 5109, 'ninth': 5110, 'Jet': 5111, 'declare': 5112, 'Quinn': 5113, 'borrowing': 5114, 'SUV': 5115, 'Glee': 5116, 'gather': 5117, 'submitted': 5118, 'Luke': 5119, 'Leon': 5120, 'H1N1': 5121, 'invitation': 5122, 'Hamid': 5123, 'smuggling': 5124, 'slowing': 5125, 'Mars': 5126, 'Chemical': 5127, 'tea': 5128, 'rumors': 5129, 'estranged': 5130, 'replacing': 5131, 'agricultural': 5132, 'sub': 5133, 'Salt': 5134, 'directly': 5135, 'jumps': 5136, 'Jays': 5137, 'channels': 5138, 'wasn': 5139, 'downgrades': 5140, 'scientific': 5141, 'Lines': 5142, 'Twilight': 5143, 'outdoor': 5144, '25th': 5145, 'flagship': 5146, 'responded': 5147, 'Thanksgiving': 5148, 'striking': 5149, 'tape': 5150, 'completion': 5151, 'ambulance': 5152, 'Belgian': 5153, 'Me': 5154, 'novel': 5155, 'H': 5156, 'Bolton': 5157, 'wire': 5158, 'promising': 5159, 'Rand': 5160, '57': 5161, 'scenes': 5162, 'enable': 5163, 'decrease': 5164, 'Mahindra': 5165, 'updates': 5166, 'Magic': 5167, 'acts': 5168, 'drawing': 5169, 'Morning': 5170, 'default': 5171, 'nominations': 5172, 'hybrid': 5173, 'Arctic': 5174, 'Pranab': 5175, 'frontman': 5176, 'Nadu': 5177, 'Teacher': 5178, 'fought': 5179, 'whom': 5180, 'importance': 5181, 'upper': 5182, 'blue': 5183, 'Crystal': 5184, 'prestigious': 5185, 'ski': 5186, 'Angels': 5187, 'Manny': 5188, 'guitarist': 5189, 'titles': 5190, 'harassment': 5191, 'understand': 5192, 'maximum': 5193, 'inaugurated': 5194, 'filmmaker': 5195, 'emerge': 5196, 'drinks': 5197, 'sweep': 5198, 'Hu': 5199, 'Independence': 5200, 'optimism': 5201, 'telephone': 5202, 'UBS': 5203, 'UEFA': 5204, 'Province': 5205, 'occupied': 5206, 'easily': 5207, 'Minneapolis': 5208, 'Beyonce': 5209, 'Lt': 5210, 'stem': 5211, 'Lynch': 5212, 'zero': 5213, 'aggressive': 5214, 'permits': 5215, '2.5': 5216, '81': 5217, 'Protection': 5218, 'Marcus': 5219, 'Seahawks': 5220, 'Parents': 5221, 'boycott': 5222, 'Cardiff': 5223, 'bosses': 5224, 'Rudd': 5225, '84': 5226, 'challenging': 5227, 'qualify': 5228, 'stuck': 5229, 'Farm': 5230, 'select': 5231, 'PlayStation': 5232, 'filled': 5233, 'Calgary': 5234, 'implementation': 5235, 'Christchurch': 5236, '2nd': 5237, 'scrap': 5238, 'studies': 5239, 'covering': 5240, 'graduate': 5241, 'Sharks': 5242, 'fill': 5243, 'freeze': 5244, 'Travel': 5245, 'hunt': 5246, 'Wichita': 5247, 'airports': 5248, 'preferred': 5249, 'Transportation': 5250, 'behaviour': 5251, 'Doctors': 5252, 'racist': 5253, 'medals': 5254, 'Light': 5255, 'Brewers': 5256, 'escapes': 5257, 'obtained': 5258, 'Dean': 5259, 'Wolves': 5260, 'Dead': 5261, 'apology': 5262, 'staged': 5263, 'medium': 5264, 'nearby': 5265, 'obesity': 5266, 'freight': 5267, 'crossed': 5268, 'Gallagher': 5269, 'AIDS': 5270, 'inaugural': 5271, 'Jane': 5272, 'Romanian': 5273, 'meat': 5274, 'grave': 5275, 'Worldwide': 5276, 'Sanchez': 5277, 'Myers': 5278, 'appealing': 5279, 'Hull': 5280, 'cyber': 5281, 'Healthcare': 5282, 'younger': 5283, 'pleading': 5284, 'arbitration': 5285, 'honorary': 5286, 'duties': 5287, 'haven': 5288, 'Albert': 5289, 'hurricane': 5290, 'Robbie': 5291, 'naked': 5292, 'questioned': 5293, 'collided': 5294, 'replacement': 5295, 'Sterling': 5296, 'tower': 5297, 'Mohammed': 5298, 'reviews': 5299, 'destination': 5300, 'Mayer': 5301, 'deported': 5302, 'faith': 5303, 'achieve': 5304, 'wounds': 5305, 'mounting': 5306, 'Athletic': 5307, 'sponsored': 5308, 'HSBC': 5309, 'convenience': 5310, 'operational': 5311, 'attending': 5312, 'deposits': 5313, 'premium': 5314, 'Assam': 5315, 'warm': 5316, 'decisions': 5317, 'Final': 5318, 'academic': 5319, 'rebounds': 5320, 'Albany': 5321, 'Shares': 5322, 'stages': 5323, 'Cheney': 5324, 'Harrison': 5325, 'Denmark': 5326, 'aside': 5327, 'Medicine': 5328, 'Reds': 5329, 'vacant': 5330, 'End': 5331, 'Summer': 5332, 'eliminated': 5333, 'landmark': 5334, 'Cable': 5335, 'Studios': 5336, 'Convention': 5337, 'uranium': 5338, 'Left': 5339, 'Data': 5340, 'Osama': 5341, 'surged': 5342, 'eyes': 5343, 'Trump': 5344, 'IST': 5345, 'Norwegian': 5346, 'variety': 5347, 'Tax': 5348, 'donations': 5349, 'mentally': 5350, 'cautious': 5351, 'Bullock': 5352, '78': 5353, 'Mohammad': 5354, 'diseases': 5355, 'cyclist': 5356, 'Sebastian': 5357, 'TMZ': 5358, 'cycling': 5359, 'worried': 5360, 'permission': 5361, 'jewelry': 5362, 'vital': 5363, 'Abbott': 5364, 'gaining': 5365, 'administrative': 5366, 'smaller': 5367, 'bags': 5368, 'severely': 5369, 'Philip': 5370, 'professor': 5371, 'knew': 5372, 'medicine': 5373, 'bird': 5374, 'fame': 5375, 'Raj': 5376, 'Norman': 5377, 'raw': 5378, 'terminal': 5379, '1.2': 5380, 'kicking': 5381, 'Moon': 5382, 'Amber': 5383, 'sensation': 5384, 'swap': 5385, 'household': 5386, 'cinema': 5387, 'definitely': 5388, 'boats': 5389, 'climbed': 5390, 'Herald': 5391, 'longest': 5392, 'Syracuse': 5393, 'Finnish': 5394, 'Clooney': 5395, 'Sharma': 5396, 'universities': 5397, 'statewide': 5398, 'volatile': 5399, 'indicated': 5400, 'Le': 5401, 'consulting': 5402, 'Suu': 5403, 'Kyi': 5404, 'emotional': 5405, 'valued': 5406, 'Mariners': 5407, 'guidelines': 5408, 'commodities': 5409, 'explosive': 5410, 'participation': 5411, 'playoffs': 5412, 'grocery': 5413, 'Andhra': 5414, '360': 5415, 'cheating': 5416, 'fix': 5417, 'unless': 5418, 'OPEC': 5419, 'Manning': 5420, 'fundraising': 5421, 'refugee': 5422, 'broadcaster': 5423, 'Tea': 5424, '20000': 5425, 'diamond': 5426, 'Heritage': 5427, 'Transit': 5428, 'Challenge': 5429, 'selects': 5430, 'wages': 5431, 'foundation': 5432, 'download': 5433, 'endorse': 5434, 'Jury': 5435, 'municipal': 5436, 'Future': 5437, 'Southeast': 5438, 'migrants': 5439, 'Oscars': 5440, 'Blackburn': 5441, 'Economy': 5442, 'formal': 5443, 'Floyd': 5444, 'designated': 5445, 'insurer': 5446, 'intervention': 5447, 'Images': 5448, 'widely': 5449, 'Shore': 5450, 'Apr': 5451, 'moderate': 5452, 'Inflation': 5453, 'basic': 5454, 'tractor': 5455, 'childhood': 5456, 'Amitabh': 5457, 'songwriter': 5458, 'crunch': 5459, 'miners': 5460, '4000': 5461, 'recommended': 5462, 'Angela': 5463, 'Boyle': 5464, 'responding': 5465, 'Lambert': 5466, 'exposed': 5467, 'triggered': 5468, 'rallies': 5469, 'Watch': 5470, 'hometown': 5471, 'Coleman': 5472, 'Newman': 5473, 'Jake': 5474, 'Vince': 5475, 'Junior': 5476, 'reopens': 5477, 'Scientific': 5478, 'Bros': 5479, 'Kids': 5480, 'pilgrims': 5481, 'nationals': 5482, 'surveillance': 5483, 'availability': 5484, 'Basketball': 5485, 'Mission': 5486, 'recruit': 5487, 'eliminate': 5488, 'gasoline': 5489, 'Kabul': 5490, 'Should': 5491, 'soft': 5492, 'agenda': 5493, 'spectrum': 5494, 'LP': 5495, 'Quebec': 5496, 'constitution': 5497, 'Farmers': 5498, 'offenders': 5499, 'shootout': 5500, '79': 5501, 'statements': 5502, 'Hunter': 5503, 'backing': 5504, '500000': 5505, 'Zoo': 5506, 'Chamber': 5507, 'Mohamed': 5508, 'dark': 5509, 'Maruti': 5510, 'critics': 5511, 'Siemens': 5512, 'liver': 5513, 'lucky': 5514, 'Edinburgh': 5515, 'blocks': 5516, 'entitled': 5517, 'Marion': 5518, 'UCLA': 5519, 'ads': 5520, 'Brent': 5521, 'Fred': 5522, 'pneumonia': 5523, '94': 5524, 'statistics': 5525, 'lightning': 5526, 'Control': 5527, 'unprecedented': 5528, 'neutral': 5529, 'tentative': 5530, 'creator': 5531, 'Tonight': 5532, 'yields': 5533, 'manufacturers': 5534, 'rumours': 5535, 'employer': 5536, 'Kahn': 5537, 'Customs': 5538, 'Hot': 5539, 'Engineering': 5540, 'dad': 5541, 'Lexington': 5542, 'trail': 5543, 'newspapers': 5544, 'seminar': 5545, 'Cruz': 5546, 'distributor': 5547, 'broker': 5548, 'spreading': 5549, 'Cedar': 5550, 'climb': 5551, 'Sierra': 5552, 'pledges': 5553, 'bids': 5554, 'pledge': 5555, 'Mercedes': 5556, 'serial': 5557, 'Serena': 5558, 'Strong': 5559, 'behalf': 5560, 'combined': 5561, 'Rehman': 5562, 'boosting': 5563, 'opponents': 5564, 'retained': 5565, 'numerous': 5566, 'leaked': 5567, 'Datuk': 5568, 'drives': 5569, 'pulling': 5570, 'Danish': 5571, 'compliance': 5572, 'Vermont': 5573, 'inmates': 5574, 'machines': 5575, 'molesting': 5576, 'corner': 5577, 'U': 5578, 'warnings': 5579, 'organised': 5580, 'Ridge': 5581, 'departments': 5582, 'Bull': 5583, 'capabilities': 5584, 'lights': 5585, 'FORMER': 5586, 'quiet': 5587, 'Baker': 5588, 'Voice': 5589, 'ranking': 5590, 'apart': 5591, '91': 5592, 'Place': 5593, 'brush': 5594, 'extremely': 5595, 'electrical': 5596, 'museum': 5597, 'frozen': 5598, 'transit': 5599, 'Brien': 5600, 'mate': 5601, 'Even': 5602, 'Turner': 5603, 'teaching': 5604, 'withdrew': 5605, 'torch': 5606, 'meters': 5607, 'fireworks': 5608, 'XVI': 5609, 'Expo': 5610, 'bull': 5611, 'lifts': 5612, 'weighed': 5613, 'executed': 5614, 'guy': 5615, 'Walsh': 5616, 'Damascus': 5617, 'evacuation': 5618, 'cues': 5619, 'calm': 5620, 'Veterans': 5621, 'SC': 5622, 'efficient': 5623, 'sick': 5624, 'verdict': 5625, 'sit': 5626, 'metro': 5627, 'coastal': 5628, 'crowned': 5629, 'Conn': 5630, 'Sheffield': 5631, 'lifestyle': 5632, 'promise': 5633, 'Lucas': 5634, 'specialty': 5635, 'pact': 5636, 'Professor': 5637, 'gambling': 5638, 'flash': 5639, 'Ball': 5640, 'Ethiopia': 5641, 'signal': 5642, 'Sioux': 5643, 'Tesco': 5644, 'accepts': 5645, 'Kutcher': 5646, 'Out': 5647, 'shoppers': 5648, 'dumped': 5649, 'flow': 5650, 'bombs': 5651, 'images': 5652, 'McCarthy': 5653, 'shark': 5654, 'Bus': 5655, 'inquest': 5656, 'runner': 5657, 'audio': 5658, 'screening': 5659, 'booked': 5660, 'theme': 5661, 'Berry': 5662, 'Foster': 5663, 'Lisa': 5664, 'nursing': 5665, 'Richardson': 5666, 'substantial': 5667, 'unpaid': 5668, '87': 5669, 'Shell': 5670, '1.3': 5671, 'Investors': 5672, 'Criminal': 5673, 'Rockies': 5674, 'Bradford': 5675, 'fat': 5676, 'Champion': 5677, 'narrowly': 5678, 'badly': 5679, 'burglaries': 5680, 'oath': 5681, 'Austria': 5682, 'glass': 5683, 'Orissa': 5684, 'parole': 5685, 'Darren': 5686, 'defeating': 5687, 'subscribers': 5688, 'impressive': 5689, 'prompting': 5690, 'Roma': 5691, 'Austrian': 5692, 'Reed': 5693, 'angry': 5694, 'Michele': 5695, 'Buffett': 5696, 'indefinitely': 5697, 'enhanced': 5698, 'Derek': 5699, 'Mining': 5700, 'disorder': 5701, 'bust': 5702, 'Santorum': 5703, 'largely': 5704, 'tablets': 5705, 'excited': 5706, 'Cox': 5707, 'pattern': 5708, 'motorists': 5709, 'hiding': 5710, 'insider': 5711, 'accounting': 5712, 'semifinals': 5713, 'retain': 5714, 'mini': 5715, 'moon': 5716, 'Enterprise': 5717, 'survives': 5718, 'Tourism': 5719, 'Casino': 5720, 'secondary': 5721, 'happen': 5722, 'rankings': 5723, 'proceedings': 5724, 'Aguilera': 5725, 'lunch': 5726, 'Morris': 5727, 'infant': 5728, 'Speedway': 5729, 'Jail': 5730, 'master': 5731, 'represent': 5732, 'apologised': 5733, 'Medicare': 5734, 'appoint': 5735, 'capable': 5736, 'simple': 5737, 'comedian': 5738, 'eve': 5739, 'Bar': 5740, 'focusing': 5741, 'Maoist': 5742, 'developments': 5743, 'delivering': 5744, 'overdose': 5745, 'favour': 5746, 'Wigan': 5747, 'remembered': 5748, 'punishment': 5749, 'declaration': 5750, 'Continental': 5751, 'priest': 5752, 'heavily': 5753, 'gunmen': 5754, 'Eurozone': 5755, 'drill': 5756, 'singing': 5757, 'urban': 5758, 'judiciary': 5759, 'mild': 5760, 'tag': 5761, 'DNA': 5762, 'robber': 5763, '1.4': 5764, 'regrets': 5765, 'ace': 5766, 'ICC': 5767, 'donate': 5768, 'cope': 5769, 'appearing': 5770, 'Opera': 5771, 'tragedy': 5772, 'crop': 5773, 'suggest': 5774, 'McDonald': 5775, 'diet': 5776, 'document': 5777, 'tobacco': 5778, 'hotels': 5779, 'indecent': 5780, 'Planning': 5781, 'sensitive': 5782, 'outlets': 5783, 'assured': 5784, 'telecommunications': 5785, 'Norwich': 5786, 'Penguins': 5787, 'strengthened': 5788, 'gross': 5789, 'batsman': 5790, 'prisoner': 5791, 'pastor': 5792, 'Leicester': 5793, 'shape': 5794, 'however': 5795, 'views': 5796, 'OS': 5797, 'expensive': 5798, 'Moody': 5799, 'clerk': 5800, 'Luis': 5801, 'Tibet': 5802, 'bonuses': 5803, 'Malta': 5804, 'experienced': 5805, 'Renault': 5806, 'settles': 5807, 'motion': 5808, 'bench': 5809, 'aiming': 5810, 'tear': 5811, 'filming': 5812, 'colleges': 5813, 'teenagers': 5814, 'Vincent': 5815, 'weakness': 5816, 'vendor': 5817, 'Bryan': 5818, 'appointments': 5819, 'Kenyan': 5820, 'homeowners': 5821, 'swing': 5822, 'finances': 5823, 'Copper': 5824, 'Lahore': 5825, 'feed': 5826, 'Train': 5827, 'lineman': 5828, 'intensive': 5829, 'grown': 5830, 'Occupy': 5831, 'ones': 5832, 'Plan': 5833, 'explore': 5834, 'plot': 5835, 'Favre': 5836, 'iTunes': 5837, 'Wildlife': 5838, 'Spurs': 5839, 'pump': 5840, 'recovers': 5841, 'survival': 5842, 'Jakarta': 5843, 'Universal': 5844, '92': 5845, 'doubleheader': 5846, 'V': 5847, 'discussions': 5848, 'Ministers': 5849, 'favor': 5850, 'trends': 5851, 'educational': 5852, 'Welsh': 5853, 'Hope': 5854, 'nude': 5855, 'Dark': 5856, 'knows': 5857, 'roadside': 5858, 'Essex': 5859, 'Jamaica': 5860, 'Keys': 5861, 'protesting': 5862, 'fleeing': 5863, 'concept': 5864, 'Corps': 5865, 'confessed': 5866, 'renew': 5867, 'intersection': 5868, 'Norfolk': 5869, 'Rod': 5870, 'willing': 5871, 'Rams': 5872, 'Margaret': 5873, 'Dog': 5874, 'Michaels': 5875, 'Butler': 5876, 'Australians': 5877, '1.1': 5878, 'Tournament': 5879, 'complications': 5880, 'Giffords': 5881, 'turmoil': 5882, '110': 5883, 'fines': 5884, 'renews': 5885, '200000': 5886, 'warehouse': 5887, 'northwestern': 5888, 'maintained': 5889, '7th': 5890, 'Oprah': 5891, 'interactive': 5892, 'towns': 5893, 'Band': 5894, 'organisation': 5895, 'ailing': 5896, 'Gay': 5897, 'Wyoming': 5898, 'Walter': 5899, 'acquiring': 5900, 'transferred': 5901, 'enjoying': 5902, 'prompted': 5903, 'picking': 5904, 'Winnipeg': 5905, 'Wind': 5906, 'contribute': 5907, 'remember': 5908, 'thin': 5909, 'Animal': 5910, 'Haven': 5911, 'specific': 5912, 'silence': 5913, 'mill': 5914, 'thriller': 5915, 'Housewives': 5916, 'mistakes': 5917, 'sponsorship': 5918, '3rd': 5919, 'Fabio': 5920, 'mainly': 5921, 'Sindh': 5922, 'Arsene': 5923, 'PPP': 5924, 'Q': 5925, 'Next': 5926, 'vacation': 5927, 'Average': 5928, 'Catherine': 5929, 'vulnerable': 5930, 'Crews': 5931, 'Colombo': 5932, 'Diaz': 5933, 'Ronnie': 5934, 'spy': 5935, 'Miliband': 5936, 'discount': 5937, 'Tulsa': 5938, 'conservation': 5939, 'marathon': 5940, 'theatre': 5941, 'demonstration': 5942, 'Thackeray': 5943, 'couldn': 5944, 'parked': 5945, 'Bonds': 5946, 'vision': 5947, 'Archbishop': 5948, 'flames': 5949, 'procedure': 5950, 'Nawaz': 5951, 'renowned': 5952, 'Temple': 5953, 'Northwest': 5954, 'cliff': 5955, 'Chargers': 5956, 'licenses': 5957, 'wickets': 5958, 'Nile': 5959, 'innocent': 5960, 'contribution': 5961, 'mom': 5962, 'admitting': 5963, 'lease': 5964, 'touched': 5965, 'Janata': 5966, 'overturned': 5967, 'indefinite': 5968, '101': 5969, 'governance': 5970, 'attractive': 5971, '130': 5972, 'Sofia': 5973, 'Slovenia': 5974, 'extradition': 5975, '911': 5976, 'Oman': 5977, 'grain': 5978, 'urge': 5979, 'Comedian': 5980, 'Key': 5981, 'develops': 5982, '89': 5983, 'Newport': 5984, 'organized': 5985, 'royal': 5986, 'bronze': 5987, 'WOMAN': 5988, 'Karl': 5989, 'policemen': 5990, 'Airtel': 5991, 'Mariah': 5992, 'actors': 5993, 'tours': 5994, 'Cuomo': 5995, 'creates': 5996, 'constitutional': 5997, 'relatives': 5998, 'punched': 5999, 'difference': 6000, 'Eds': 6001, 'Silvio': 6002, 'substance': 6003, 'require': 6004, 'earth': 6005, 'Meeting': 6006, 'reward': 6007, 'extreme': 6008, 'iconic': 6009, 'thinking': 6010, 'dress': 6011, '3.5': 6012, 'JPMorgan': 6013, '30000': 6014, 'carpet': 6015, 'th': 6016, 'Harbor': 6017, 'reiterated': 6018, 'beta': 6019, 'Ryder': 6020, 'camps': 6021, 'preparation': 6022, 'lottery': 6023, 'publishing': 6024, 'recruitment': 6025, 'execution': 6026, 'portal': 6027, 'Total': 6028, 'aren': 6029, 'Ram': 6030, '4th': 6031, 'curb': 6032, 'Peterson': 6033, 'Hathaway': 6034, 'Suisse': 6035, 'jumping': 6036, '1.6': 6037, 'Barton': 6038, 'Representative': 6039, 'bowler': 6040, 'Survey': 6041, 'Month': 6042, 'Swansea': 6043, 'meant': 6044, 'Christians': 6045, 'Colts': 6046, 'Bharti': 6047, '13th': 6048, 'Brook': 6049, 'lowered': 6050, 'Secret': 6051, 'breakfast': 6052, 'mystery': 6053, 'applied': 6054, 'packaging': 6055, 'Discovery': 6056, 'quarterfinals': 6057, 'wishes': 6058, 'regulation': 6059, 'par': 6060, 'certification': 6061, 'Zambia': 6062, 'else': 6063, 'Mo': 6064, 'Ivory': 6065, 'Natalie': 6066, 'Swan': 6067, 'controls': 6068, 'pictures': 6069, 'northeastern': 6070, 'expelled': 6071, 'Newark': 6072, 'resulted': 6073, 'Nearly': 6074, 'Duncan': 6075, 'encouraged': 6076, 'proved': 6077, 'Conrad': 6078, 'print': 6079, 'stemming': 6080, 'chiefs': 6081, 'readers': 6082, 'acquisitions': 6083, 'ethics': 6084, 'insurgents': 6085, 'suburb': 6086, 'occasion': 6087, 'hijacked': 6088, 'Geneva': 6089, 'Nathan': 6090, '17th': 6091, 'yard': 6092, 'throat': 6093, 'grows': 6094, 'Revenue': 6095, 'Minaj': 6096, 'shootings': 6097, 'mortgages': 6098, 'Starbucks': 6099, 'Canyon': 6100, 'audit': 6101, 'cool': 6102, 'wildfire': 6103, 'waived': 6104, 'knot': 6105, 'Boris': 6106, 'outage': 6107, 'Neal': 6108, 'recruiting': 6109, 'shoes': 6110, 'handling': 6111, 'pollution': 6112, 'endorsement': 6113, 'Couple': 6114, 'splits': 6115, 'Soldier': 6116, 'carriers': 6117, 'Constitution': 6118, 'Freddie': 6119, 'finishing': 6120, 'Glenn': 6121, 'Resort': 6122, 'cornerback': 6123, 'nature': 6124, 'Ratings': 6125, 'merge': 6126, 'Vanessa': 6127, 'ditch': 6128, 'Miranda': 6129, 'inter': 6130, 'revolution': 6131, 'Oak': 6132, 'wheel': 6133, 'reverse': 6134, 'Upper': 6135, 'volunteer': 6136, 'explain': 6137, 'spell': 6138, 'Thomson': 6139, 'Hazare': 6140, 'Banking': 6141, 'Pune': 6142, 'Action': 6143, 'Teachers': 6144, 'pursue': 6145, 'Glen': 6146, 'rider': 6147, 'Cola': 6148, 'Capello': 6149, 'Charleston': 6150, 'Djokovic': 6151, 'exciting': 6152, 'Hornets': 6153, 'unconscious': 6154, 'corn': 6155, 'Thunder': 6156, 'arrival': 6157, 'FOCUS': 6158, 'laundering': 6159, 'Valentine': 6160, 'covered': 6161, 'Imran': 6162, 'fights': 6163, 'choose': 6164, 'Bruins': 6165, 'neighbor': 6166, 'athlete': 6167, 'reduces': 6168, 'Work': 6169, 'bitter': 6170, 'Brady': 6171, 'talked': 6172, 'chronic': 6173, 'Organisation': 6174, 'Paterson': 6175, 'prosecution': 6176, 'Manuel': 6177, 'Bancorp': 6178, 'turbine': 6179, 'kitchen': 6180, 'Mamata': 6181, 'withdrawal': 6182, 'qualifier': 6183, 'McLaren': 6184, 'gunman': 6185, 'yuan': 6186, 'allies': 6187, 'woes': 6188, 'drew': 6189, 'Maple': 6190, 'effectively': 6191, 'EUR': 6192, 'Alberto': 6193, 'Computer': 6194, 'Doherty': 6195, 'Ill': 6196, 'Nicki': 6197, 'compromise': 6198, 'Railway': 6199, 'HBO': 6200, 'imported': 6201, 'safely': 6202, 'duo': 6203, 'pose': 6204, 'rolling': 6205, 'Workers': 6206, '15th': 6207, 'Taipei': 6208, 'SAP': 6209, 'swim': 6210, 'Tunisia': 6211, 'Charges': 6212, 'apologises': 6213, 'destroy': 6214, 'Longoria': 6215, 'Mail': 6216, 'Ryanair': 6217, 'grounds': 6218, 'insisting': 6219, 'Paso': 6220, '18th': 6221, 'piracy': 6222, 'Pratt': 6223, 'Bennett': 6224, 'Sena': 6225, 'Muammar': 6226, 'stomach': 6227, 'trainer': 6228, 'Urban': 6229, 'factor': 6230, 'answers': 6231, 'layoffs': 6232, 'resulting': 6233, 'Pictures': 6234, 'participating': 6235, 'intention': 6236, 'IPL': 6237, 'retreat': 6238, 'neighbours': 6239, 'History': 6240, 'encouraging': 6241, 'Stevens': 6242, 'projected': 6243, 'Webber': 6244, 'Satyam': 6245, 'hop': 6246, 'Direct': 6247, 'Sharapova': 6248, 'Mae': 6249, 'Coca': 6250, 'bullet': 6251, 'breach': 6252, '4G': 6253, 'Tucson': 6254, 'Bundesliga': 6255, 'lesbian': 6256, 'Jharkhand': 6257, 'tumor': 6258, 'violated': 6259, 'brawl': 6260, 'thieves': 6261, 'install': 6262, 'disciplinary': 6263, 'Gene': 6264, 'commissioners': 6265, 'secures': 6266, '2002': 6267, 'Princess': 6268, 'Harvard': 6269, 'threaten': 6270, 'Tyson': 6271, 'concrete': 6272, 'Serie': 6273, 'pack': 6274, '14th': 6275, 'Minn': 6276, 'Marlins': 6277, 'remake': 6278, 'Europa': 6279, 'Kirk': 6280, 'modest': 6281, 'revealing': 6282, 'Nationwide': 6283, 'communist': 6284, 'Like': 6285, 'bolster': 6286, 'IPO': 6287, 'Omar': 6288, 'wholly': 6289, 'quake': 6290, 'struggles': 6291, 'SEC': 6292, 'Analyst': 6293, 'plunge': 6294, 'Palmer': 6295, 'Venture': 6296, 'Witherspoon': 6297, 'miner': 6298, 'Record': 6299, 'Master': 6300, 'containing': 6301, 'Laura': 6302, 'hospitalised': 6303, 'Wade': 6304, 'Embassy': 6305, 'Tripoli': 6306, 'risen': 6307, 'molestation': 6308, 'Goa': 6309, 'Manila': 6310, 'exporters': 6311, 'PML': 6312, 'seniors': 6313, 'Chopra': 6314, 'Riverside': 6315, 'Joel': 6316, 'LSU': 6317, '1/2': 6318, 'Traffic': 6319, 'Book': 6320, 'Bolt': 6321, '1200': 6322, 'footballer': 6323, 'cheap': 6324, 'owns': 6325, 'intent': 6326, 'colleagues': 6327, 'horses': 6328, 'prevention': 6329, 'rubber': 6330, 'Ward': 6331, 'foreigners': 6332, 'engineer': 6333, 'posed': 6334, 'Rolling': 6335, 'segment': 6336, 'romance': 6337, 'riot': 6338, 'optimistic': 6339, 'cardiac': 6340, 'thousand': 6341, 'Front': 6342, 'Yorkshire': 6343, 'Tinto': 6344, 'deployed': 6345, 'Smart': 6346, 'Oxford': 6347, 'Revolution': 6348, 'BHP': 6349, 'Helen': 6350, '09': 6351, 'Naomi': 6352, 'originally': 6353, 'Political': 6354, 'teammate': 6355, 'Tsvangirai': 6356, 'Border': 6357, 'Claire': 6358, 'dragged': 6359, 'maritime': 6360, 'Poor': 6361, 'Boulevard': 6362, 'hanged': 6363, 'abused': 6364, 'navigation': 6365, 'mines': 6366, 'bribery': 6367, 'Plus': 6368, 'slain': 6369, 'concerts': 6370, 'Arthur': 6371, 'speeding': 6372, 'Qaida': 6373, 'purchased': 6374, '350': 6375, 'Johansson': 6376, 'noted': 6377, 'arraigned': 6378, 'remanded': 6379, 'taxpayers': 6380, 'therapy': 6381, 'encourage': 6382, 'Benjamin': 6383, 'AAA': 6384, 'LG': 6385, 'express': 6386, 'guru': 6387, 'lashed': 6388, 'clearing': 6389, 'racial': 6390, 'Patil': 6391, 'campaigns': 6392, 'discover': 6393, 'impose': 6394, 'holders': 6395, 'bout': 6396, 'lifetime': 6397, 'Sergio': 6398, 'chair': 6399, 'ancient': 6400, 'Well': 6401, 'Ground': 6402, 'activated': 6403, 'sudden': 6404, 'Pregnant': 6405, 'genetic': 6406, 'Equity': 6407, 'anchor': 6408, 'quarters': 6409, 'devastating': 6410, 'doubt': 6411, 'Commercial': 6412, 'farmer': 6413, 'Ellen': 6414, 'trooper': 6415, 'runway': 6416, 'Tri': 6417, 'Cain': 6418, 'assessment': 6419, 'Stoke': 6420, 'issuing': 6421, 'seconds': 6422, 'powered': 6423, '19th': 6424, 'queen': 6425, 'levy': 6426, 'citizenship': 6427, 'exchanges': 6428, 'paise': 6429, 'Henderson': 6430, 'villages': 6431, 'Brooks': 6432, 'crush': 6433, 'UPA': 6434, 'beautiful': 6435, 'Rovers': 6436, '2016': 6437, 'warrants': 6438, 'protected': 6439, 'courses': 6440, 'Mid': 6441, 'Hartford': 6442, 'traveling': 6443, '25000': 6444, '3G': 6445, 'Trend': 6446, 'Stuart': 6447, 'LOS': 6448, 'policeman': 6449, 'challenged': 6450, 'Doctor': 6451, 'essential': 6452, 'Noel': 6453, 'Greater': 6454, 'underground': 6455, 'infringement': 6456, 'rehabilitation': 6457, 'Bomb': 6458, 'spray': 6459, 'Ave': 6460, 'Assistant': 6461, 'spoken': 6462, 'Late': 6463, 'whale': 6464, 'romantic': 6465, 'Marie': 6466, 'Bear': 6467, 'Lakes': 6468, 'plc': 6469, 'possessing': 6470, 'Sanjay': 6471, 'vehicular': 6472, 'Dhoni': 6473, 'foul': 6474, 'suite': 6475, 'treaty': 6476, 'dying': 6477, 'HD': 6478, 'subscription': 6479, 'Sugar': 6480, 'disappointed': 6481, 'likes': 6482, 'Search': 6483, 'strain': 6484, 'Wi': 6485, 'Fi': 6486, 'slated': 6487, 'Turkmenistan': 6488, 'Ice': 6489, 'Raja': 6490, 'diving': 6491, 'Income': 6492, 'dip': 6493, 'acclaimed': 6494, 'institution': 6495, 'apps': 6496, 'Hindu': 6497, 'invites': 6498, 'Tenn': 6499, 'arena': 6500, 'Garcia': 6501, 'equal': 6502, 'advisers': 6503, 'Angel': 6504, 'margin': 6505, 'Voters': 6506, 'pointed': 6507, 'qualified': 6508, 'map': 6509, 'opposed': 6510, 'Hamburg': 6511, 'Railways': 6512, 'Representatives': 6513, '21st': 6514, 'Hotels': 6515, 'Postal': 6516, 'teeth': 6517, 'rebounded': 6518, 'chemicals': 6519, 'sluggish': 6520, 'improvements': 6521, 'wider': 6522, 'saves': 6523, 'trained': 6524, 'Rescue': 6525, 'Carroll': 6526, 'wildlife': 6527, 'torture': 6528, 'cannabis': 6529, 'Depp': 6530, 'Millions': 6531, 'Hungarian': 6532, 'solve': 6533, 'tougher': 6534, 'finale': 6535, 'Kingston': 6536, 'toilet': 6537, 'surcharge': 6538, 'Panasonic': 6539, 'Communist': 6540, 'dismisses': 6541, 'Got': 6542, 'Burma': 6543, 'strengthening': 6544, 'Huntington': 6545, 'CA': 6546, 'Ashes': 6547, 'Jaguars': 6548, 'Fiat': 6549, 'halted': 6550, 'detected': 6551, 'Earthquake': 6552, 'Study': 6553, 'Volkswagen': 6554, 'TWO': 6555, 'revive': 6556, 'inappropriate': 6557, 'lab': 6558, 'praise': 6559, 'Access': 6560, 'satellites': 6561, 'marries': 6562, 'credits': 6563, 'Uganda': 6564, 'rounds': 6565, 'helicopters': 6566, 'ranging': 6567, 'Yes': 6568, 'repeatedly': 6569, 'tips': 6570, 'Portuguese': 6571, 'ANGELES': 6572, 'Jong': 6573, 'Sullivan': 6574, 'Des': 6575, 'intended': 6576, 'load': 6577, 'Timothy': 6578, 'birds': 6579, 'Texans': 6580, 'dominated': 6581, 'Noble': 6582, 'Flood': 6583, 'Dominique': 6584, 'affecting': 6585, 'Benitez': 6586, 'steep': 6587, 'Megan': 6588, 'Jintao': 6589, 'Narendra': 6590, 'engineers': 6591, 'routine': 6592, 'understanding': 6593, 'connected': 6594, 'acute': 6595, 'composer': 6596, 'drawn': 6597, 'Travis': 6598, 'provinces': 6599, 'Halifax': 6600, 'circumstances': 6601, 'Schumacher': 6602, 'Truck': 6603, 'handle': 6604, 'bankers': 6605, 'Hawks': 6606, 'Richie': 6607, 'Providence': 6608, 'Minogue': 6609, 'strict': 6610, 'rocker': 6611, 'motorcyclist': 6612, 'Walmart': 6613, 'hikes': 6614, 'repairs': 6615, 'honors': 6616, 'Blacks': 6617, 'Rail': 6618, 'wouldn': 6619, 'Istanbul': 6620, 'hinted': 6621, 'Fulham': 6622, 'cricketer': 6623, 'mogul': 6624, 'Dozens': 6625, 'Yousuf': 6626, 'spin': 6627, 'letters': 6628, 'gathering': 6629, 'sporting': 6630, 'pretty': 6631, 'repeal': 6632, 'alarm': 6633, '40th': 6634, 'reconciliation': 6635, 'tribunal': 6636, 'stretch': 6637, 'Trail': 6638, 'Rocky': 6639, 'temple': 6640, 'popularity': 6641, 'fugitive': 6642, 'Mourinho': 6643, 'Patel': 6644, 'dental': 6645, 'Naval': 6646, 'shoe': 6647, 'Durham': 6648, 'addressing': 6649, 'restraining': 6650, 'Blagojevich': 6651, 'Brands': 6652, 'Reese': 6653, 'Infosys': 6654, 'ray': 6655, 'pressures': 6656, 'Alicia': 6657, 'Joint': 6658, 'extensive': 6659, 'destinations': 6660, 'survivors': 6661, 'Relations': 6662, '2.2': 6663, 'restructure': 6664, 'Sanford': 6665, 'cooperate': 6666, 'Race': 6667, '9/11': 6668, 'sustainability': 6669, 'bowling': 6670, 'Falcons': 6671, 'southwestern': 6672, 'Properties': 6673, 'stone': 6674, '125': 6675, 'IP': 6676, 'Bangkok': 6677, 'fixing': 6678, 'Winfrey': 6679, 'circuit': 6680, 'barrels': 6681, 'Adele': 6682, 'alleging': 6683, 'Powell': 6684, 'schemes': 6685, 'DVD': 6686, 'Victor': 6687, 'ET': 6688, 'islands': 6689, 'Ahmad': 6690, 'JP': 6691, 'battled': 6692, 'horror': 6693, 'Wii': 6694, 'slowly': 6695, 'sorry': 6696, 'inspection': 6697, 'battered': 6698, 'Charter': 6699, 'Rain': 6700, 'hostile': 6701, 'Theater': 6702, 'Wallace': 6703, 'humans': 6704, 'Geithner': 6705, 'blew': 6706, 'Troy': 6707, 'Belfast': 6708, 'journal': 6709, 'shortfall': 6710, 'dairy': 6711, 'Guinea': 6712, 'grid': 6713, 'Captain': 6714, 'Right': 6715, 'catcher': 6716, 'simply': 6717, 'Baptist': 6718, 'mph': 6719, 'completing': 6720, 'TD': 6721, 'Busch': 6722, 'farewell': 6723, 'Climate': 6724, 'Vietnamese': 6725, 'percentage': 6726, 'walks': 6727, 'Holland': 6728, 'tattoo': 6729, 'Mutual': 6730, 'consensus': 6731, 'Herman': 6732, 'hacked': 6733, 'Athletics': 6734, 'AOL': 6735, 'rated': 6736, 'EA': 6737, 'dressed': 6738, 'Windsor': 6739, 'congratulates': 6740, 'partially': 6741, 'advisor': 6742, 'Rodgers': 6743, '93': 6744, 'finishes': 6745, 'Elderly': 6746, 'earns': 6747, 'deciding': 6748, 'debts': 6749, 'southeastern': 6750, 'nose': 6751, 'rainfall': 6752, 'LONDON': 6753, 'inventories': 6754, 'Marco': 6755, 'cycle': 6756, 'CIA': 6757, 'sidelined': 6758, 'Hopkins': 6759, 'publication': 6760, 'excessive': 6761, 'Dayton': 6762, 'Kobe': 6763, 'backup': 6764, 'Andrews': 6765, 'appealed': 6766, 'governing': 6767, 'journey': 6768, 'Somerset': 6769, 'Hosni': 6770, 'Jun': 6771, 'jewellery': 6772, 'Target': 6773, 'symptoms': 6774, 'Mavericks': 6775, 'Vick': 6776, 'Felipe': 6777, 'Aamir': 6778, 'damaging': 6779, 'sweeping': 6780, 'tension': 6781, 'salaries': 6782, 'fever': 6783, 'approaching': 6784, 'Blood': 6785, 'Reading': 6786, 'Weekly': 6787, 'brutal': 6788, 'Saskatchewan': 6789, 'Notre': 6790, 'Advani': 6791, 'function': 6792, 'Broadcasting': 6793, 'Novak': 6794, 'Betty': 6795, 'bounced': 6796, 'Tree': 6797, 'navy': 6798, 'Hezbollah': 6799, 'firearms': 6800, 'hardware': 6801, 'exactly': 6802, 'Kyrgyz': 6803, 'NZ': 6804, 'addresses': 6805, 'nurse': 6806, 'Crime': 6807, 'collect': 6808, 'checkpoint': 6809, 'Niagara': 6810, 'autism': 6811, 'eco': 6812, 'Coyotes': 6813, 'transmission': 6814, 'Pierce': 6815, 'Croatia': 6816, 'lie': 6817, 'Fresh': 6818, 'Slam': 6819, 'outsourcing': 6820, 'Beatles': 6821, 'Enterprises': 6822, 'Diana': 6823, 'logo': 6824, 'Nato': 6825, 'reaction': 6826, 'Sabah': 6827, 'Scarlett': 6828, 'Rhode': 6829, 'listing': 6830, 'deer': 6831, 'criminals': 6832, 'seekers': 6833, 'Joey': 6834, 'collected': 6835, 'evacuate': 6836, 'symbol': 6837, 'marine': 6838, 'reliever': 6839, 'portion': 6840, 'du': 6841, 'Motion': 6842, 'Katrina': 6843, 'valuable': 6844, 'Sudanese': 6845, 'relegation': 6846, 'format': 6847, 'participants': 6848, 'priced': 6849, 'influential': 6850, 'liquidity': 6851, 'disrupted': 6852, 'chat': 6853, 'gifts': 6854, 'rough': 6855, 'GDP': 6856, 'Walt': 6857, 'pupils': 6858, 'penalties': 6859, 'Carson': 6860, 'Walk': 6861, 'chicken': 6862, 'reception': 6863, 'contained': 6864, 'donation': 6865, 'Pistorius': 6866, 'stressed': 6867, 'formation': 6868, 'Petersburg': 6869, 'engines': 6870, 'cotton': 6871, 'Billboard': 6872, 'checked': 6873, 'giants': 6874, 'Greene': 6875, 'sidelines': 6876, 'tonne': 6877, 'legs': 6878, 'Etihad': 6879, 'pensions': 6880, 'distributed': 6881, 'myself': 6882, 'Fall': 6883, 'Chilean': 6884, 'neglect': 6885, 'Rajya': 6886, 'Cold': 6887, 'Clinic': 6888, 'Midwest': 6889, 'Humphries': 6890, 'tens': 6891, 'soil': 6892, 'shortstop': 6893, 'sank': 6894, 'flee': 6895, 'electoral': 6896, 'sisters': 6897, 'fruit': 6898, 'Cardinal': 6899, '2020': 6900, 'Banerjee': 6901, 'travelling': 6902, 'Investments': 6903, 'disputes': 6904, 'Wilkinson': 6905, 'Gray': 6906, 'Panthers': 6907, 'licensing': 6908, 'referee': 6909, 'Rockets': 6910, 'uncertain': 6911, 'Empire': 6912, 'seem': 6913, 'offense': 6914, 'Gilbert': 6915, 'couples': 6916, 'Rich': 6917, 'depth': 6918, 'programmes': 6919, 'concerning': 6920, 'soaring': 6921, 'Arlington': 6922, 'Prosecutors': 6923, 'counterparts': 6924, 'Rays': 6925, 'globally': 6926, 'hamstring': 6927, 'Dylan': 6928, 'Lionel': 6929, 'Vijay': 6930, 'aware': 6931, 'GE': 6932, 'videos': 6933, 'arriving': 6934, '2500': 6935, 'deployment': 6936, 'sons': 6937, 'Draft': 6938, 'Sharon': 6939, 'scientist': 6940, 'performances': 6941, '000': 6942, 'v': 6943, 'ally': 6944, 'unusual': 6945, 'Dhaka': 6946, 'framework': 6947, 'tumbled': 6948, 'FDA': 6949, 'amendment': 6950, 'Senators': 6951, 'Gardens': 6952, 'Investigation': 6953, 'Plane': 6954, 'enjoyed': 6955, 'mistake': 6956, 'convert': 6957, 'stood': 6958, 'Blackhawks': 6959, 'batting': 6960, 'Filipino': 6961, 'protecting': 6962, 'spiritual': 6963, 'reunite': 6964, 'toxic': 6965, 'promotions': 6966, 'adoption': 6967, 'Fish': 6968, 'toss': 6969, 'Lyon': 6970, 'pursuit': 6971, 'regain': 6972, 'Symphony': 6973, 'Islamist': 6974, 'youngest': 6975, 'tip': 6976, 'declaring': 6977, 'suppliers': 6978, 'Nuggets': 6979, 'Phone': 6980, 'packed': 6981, '30th': 6982, 'opposite': 6983, 'Madoff': 6984, 'Boss': 6985, 'invested': 6986, 'swung': 6987, 'proper': 6988, 'truth': 6989, 'ideas': 6990, 'hoped': 6991, 'FM': 6992, 'erupted': 6993, 'Stamford': 6994, 'Ellis': 6995, 'tuition': 6996, 'Clemens': 6997, 'biopic': 6998, 'nurses': 6999, 'religion': 7000, 'disorderly': 7001, 'maintains': 7002, 'Reynolds': 7003, 'shuts': 7004, 'heating': 7005, 'Adrian': 7006, 'Holding': 7007, 'Worth': 7008, 'Cristiano': 7009, 'patents': 7010, 'Zone': 7011, 'Here': 7012, 'Valencia': 7013, 'Iceland': 7014, 'Zsa': 7015, 'expresses': 7016, 'Author': 7017, 'weakens': 7018, 'Alert': 7019, 'n': 7020, 'Northeast': 7021, 'Olmert': 7022, 'Tel': 7023, 'underage': 7024, 'Ki': 7025, 'enterprises': 7026, 'Raul': 7027, 'Nikkei': 7028, 'platforms': 7029, 'Nielsen': 7030, 'atomic': 7031, 'lessons': 7032, 'Oliver': 7033, 'Wings': 7034, 'Skip': 7035, 'Intelligence': 7036, 'Aung': 7037, 'Hassan': 7038, 'iOS': 7039, 'presentation': 7040, 'Samuel': 7041, 'heritage': 7042, 'midday': 7043, 'Knicks': 7044, 'category': 7045, 'subsidiaries': 7046, 'Training': 7047, 'quitting': 7048, 'Clippers': 7049, 'pioneer': 7050, 'Tanzania': 7051, 'stick': 7052, 'organisers': 7053, 'monsoon': 7054, 'infielder': 7055, '140': 7056, 'economists': 7057, 'coma': 7058, '2001': 7059, 'lockout': 7060, 'pointing': 7061, 'displaced': 7062, 'removing': 7063, 'Run': 7064, 'slid': 7065, 'Be': 7066, 'contender': 7067, 'Ferdinand': 7068, 'matters': 7069, 'LeBron': 7070, 'collective': 7071, 'Griffin': 7072, 'shipments': 7073, 'suddenly': 7074, 'smashed': 7075, 'RBI': 7076, 'lock': 7077, 'Dominican': 7078, 'incentives': 7079, 'subway': 7080, 'resigning': 7081, 'addressed': 7082, 'Puerto': 7083, 'partial': 7084, 'dubbed': 7085, 'radical': 7086, 'loaded': 7087, 'Estate': 7088, 'productivity': 7089, 'Share': 7090, 'blind': 7091, 'defamation': 7092, 'offerings': 7093, 'sheet': 7094, 'Pelosi': 7095, 'broader': 7096, 'rapidly': 7097, 'struggled': 7098, 'spirit': 7099, 'contributions': 7100, 'Pearl': 7101, '400000': 7102, 'Policy': 7103, 'wrist': 7104, 'reflecting': 7105, 'surprised': 7106, '300000': 7107, 'pizza': 7108, 'coroner': 7109, 'imprisonment': 7110, '+': 7111, 'Down': 7112, 'Nitish': 7113, 'clears': 7114, 'approached': 7115, 'Ventures': 7116, 'kidnap': 7117, 'stalking': 7118, 'accusations': 7119, 'particular': 7120, 'flown': 7121, 'bottle': 7122, 'Pierre': 7123, 'voluntarily': 7124, 'congratulated': 7125, 'components': 7126, 'allocation': 7127, 'breakthrough': 7128, 'Aden': 7129, 'Leonardo': 7130, 'km': 7131, 'commissioned': 7132, 'reviewing': 7133, 'Hart': 7134, 'rand': 7135, 'administrator': 7136, 'Vernon': 7137, 'error': 7138, 'Amsterdam': 7139, 'bullish': 7140, 'Drake': 7141, 'proceeds': 7142, 'Algeria': 7143, 'veto': 7144, 'excellent': 7145, 'sentencing': 7146, 'delighted': 7147, 'muscle': 7148, '6000': 7149, 'voter': 7150, 'pharmacy': 7151, 'Lightning': 7152, 'Rica': 7153, 'swings': 7154, 'Burlington': 7155, 'replaces': 7156, 'interesting': 7157, 'Balotelli': 7158, 'F1': 7159, 'addiction': 7160, 'Swine': 7161, 'Tebow': 7162, 'bombings': 7163, 'bullying': 7164, 'Stanford': 7165, 'posing': 7166, 'bargain': 7167, 'decides': 7168, 'Nets': 7169, 'exclusively': 7170, 'ambitious': 7171, 'specifically': 7172, 'confrontation': 7173, 'plug': 7174, 'gear': 7175, 'Bath': 7176, 'dictator': 7177, 'Spice': 7178, 'pond': 7179, 'Investigators': 7180, 'Coalition': 7181, 'Pfizer': 7182, 'Reality': 7183, 'Hurricanes': 7184, 'Movie': 7185, 'Rukh': 7186, 'Carrie': 7187, 'fate': 7188, 'Astros': 7189, 'organizers': 7190, 'Plymouth': 7191, 'generate': 7192, 'Bharatiya': 7193, 'container': 7194, 'washed': 7195, 'airlifted': 7196, 'Parkway': 7197, 'purpose': 7198, 'stayed': 7199, 'Frontier': 7200, 'ocean': 7201, 'succeed': 7202, 'zoo': 7203, 'Modern': 7204, 'greenhouse': 7205, 'comfortable': 7206, 'lion': 7207, 'creditors': 7208, 'blasted': 7209, 'Franco': 7210, 'Burke': 7211, 'pills': 7212, 'sun': 7213, 'Heather': 7214, 'floating': 7215, 'seasonal': 7216, 'programming': 7217, 'Tevez': 7218, 'consolidate': 7219, 'brokerage': 7220, 'Gonzalez': 7221, 'shake': 7222, '96': 7223, 'Toledo': 7224, 'del': 7225, 'Base': 7226, 'Richards': 7227, 'Fresno': 7228, 'removal': 7229, 'Skype': 7230, 'Himachal': 7231, 'Sanders': 7232, 'Gazprom': 7233, 'permanently': 7234, 'USC': 7235, 'Ledger': 7236, 'blames': 7237, 'raids': 7238, 'strategies': 7239, 'grass': 7240, 'Angola': 7241, 'lays': 7242, 'retains': 7243, 'postpones': 7244, 'Lawyers': 7245, 'Interactive': 7246, 'furniture': 7247, 'CNBC': 7248, 'Products': 7249, 'speaker': 7250, 'interior': 7251, 'Rivers': 7252, 'fractured': 7253, 'Coventry': 7254, 'firmer': 7255, 'Atletico': 7256, 'Nuclear': 7257, 'ton': 7258, 'opposes': 7259, 'length': 7260, 'propose': 7261, 'Diamondbacks': 7262, 'stories': 7263, 'strained': 7264, 'ceiling': 7265, 'passport': 7266, 'Krishna': 7267, '15000': 7268, 'Rapid': 7269, 'revival': 7270, 'Damon': 7271, 'ejected': 7272, 'Bhd': 7273, 'Primary': 7274, 'facilitate': 7275, 'yards': 7276, 'metres': 7277, 'Restaurant': 7278, 'celebrities': 7279, 'Bin': 7280, 'Neill': 7281, 'personality': 7282, 'rebuild': 7283, 'implemented': 7284, 'showcase': 7285, 'Cash': 7286, 'NYC': 7287, 'earning': 7288, 'relative': 7289, 'academy': 7290, 'degrees': 7291, 'Talent': 7292, 'Bruno': 7293, 'edges': 7294, 'organic': 7295, 'chef': 7296, 'households': 7297, 'elite': 7298, 'rig': 7299, 'uniform': 7300, 'Nottingham': 7301, 'Rwanda': 7302, 'shocking': 7303, 'Li': 7304, 'genocide': 7305, 'eBay': 7306, 'respectively': 7307, 'shore': 7308, 'Order': 7309, 'Hero': 7310, 'marginally': 7311, 'Commander': 7312, 'Kraft': 7313, 'Maradona': 7314, 'Canucks': 7315, 'Pilot': 7316, 'lowers': 7317, 'Kurdish': 7318, 'Bad': 7319, 'Lou': 7320, 'lover': 7321, 'middleweight': 7322, 'Marketing': 7323, 'golfer': 7324, 'studying': 7325, 'polling': 7326, 'Kidman': 7327, 'amazing': 7328, 'Hemsworth': 7329, 'altercation': 7330, 'grandmother': 7331, 'Florence': 7332, 'cheated': 7333, 'pitches': 7334, 'bump': 7335, 'volatility': 7336, 'restricted': 7337, 'Slovakia': 7338, 'meaning': 7339, 'Bishop': 7340, 'Movement': 7341, 'neighbors': 7342, 'Nova': 7343, 'derby': 7344, 'Bailey': 7345, '1.7': 7346, 'contractors': 7347, 'calendar': 7348, 'Daytona': 7349, 'poisoning': 7350, 'graduates': 7351, 'distribute': 7352, 'Carlo': 7353, 'Davidson': 7354, 'weakening': 7355, 'hacking': 7356, 'Amtrak': 7357, 'chips': 7358, 'dump': 7359, 'pipe': 7360, 'burst': 7361, 'Carlisle': 7362, 'portable': 7363, 'teammates': 7364, 'analytics': 7365, 'advocates': 7366, 'buyer': 7367, 'reference': 7368, 'Hewlett': 7369, 'Reddy': 7370, 'murders': 7371, 'singles': 7372, 'Messi': 7373, 'adjourned': 7374, 'Brendan': 7375, 'chapter': 7376, 'Kurt': 7377, 'panels': 7378, 'sore': 7379, 'ounce': 7380, 'Erie': 7381, 'Stores': 7382, 'stakes': 7383, 'admit': 7384, 'compound': 7385, 'eventually': 7386, 'Winston': 7387, 'Lawmakers': 7388, 'wrestling': 7389, 'Merrill': 7390, 'guests': 7391, 'presenter': 7392, 'historical': 7393, 'massacre': 7394, 'boosts': 7395, 'Santos': 7396, 'Trevor': 7397, 'Preston': 7398, 'slower': 7399, 'reject': 7400, 'Choice': 7401, 'tanks': 7402, 'Gosselin': 7403, 'secretly': 7404, 'adopts': 7405, 'eligible': 7406, 'sprint': 7407, 'snapped': 7408, 'Nasdaq': 7409, 'capsized': 7410, 'regard': 7411, 'Pizza': 7412, 'theater': 7413, 'cease': 7414, 'truly': 7415, 'method': 7416, 'procedures': 7417, 'linking': 7418, 'recommendations': 7419, 'Silicon': 7420, 'nervous': 7421, 'repeated': 7422, 'requested': 7423, 'shutting': 7424, 'carmaker': 7425, 'explains': 7426, 'recognised': 7427, '16th': 7428, 'Players': 7429, 'Kindle': 7430, 'Billiton': 7431, 'Khalifa': 7432, 'absolutely': 7433, 'elephant': 7434, 'Pawlenty': 7435, 'Category': 7436, '6th': 7437, 'external': 7438, 'Fourth': 7439, 'Clayton': 7440, 'mansion': 7441, 'institutional': 7442, 'plenty': 7443, 'Newly': 7444, 'desperate': 7445, 'Aussie': 7446, 'operated': 7447, 'Wilmington': 7448, 'Depot': 7449, 'Parks': 7450, 'stays': 7451, 'sentences': 7452, 'Lower': 7453, 'repay': 7454, 'overtime': 7455, 'iPod': 7456, 'snap': 7457, 'certificate': 7458, 'Bachmann': 7459, 'introducing': 7460, 'seeded': 7461, 'engage': 7462, 'rescues': 7463, 'Back': 7464, 'Gabrielle': 7465, 'Rev': 7466, '0.5': 7467, 'Days': 7468, 'signals': 7469, 'App': 7470, 'newborn': 7471, 'firmly': 7472, 'Age': 7473, 'fierce': 7474, 'distance': 7475, 'vessels': 7476, '2003': 7477, 'maintaining': 7478, 'mum': 7479, 'cream': 7480, 'JD': 7481, 'Amid': 7482, 'Mayo': 7483, 'ages': 7484, 'garbage': 7485, 'Perez': 7486, 'Rossi': 7487, 'predict': 7488, 'caution': 7489, 'Aliyev': 7490, 'Trading': 7491, 'buyout': 7492, 'spends': 7493, 'albums': 7494, 'gig': 7495, 'laying': 7496, 'Zac': 7497, 'founded': 7498, 'hammer': 7499, 'Vettel': 7500, 'Myrtle': 7501, 'Chester': 7502, 'Palestine': 7503, 'laser': 7504, 'investigations': 7505, 'gunshot': 7506, 'Hampton': 7507, 'spree': 7508, 'proof': 7509, 'submit': 7510, 'sleeping': 7511, 'contempt': 7512, 'farms': 7513, 'tipped': 7514, 'scrapped': 7515, 'trigger': 7516, 'wounding': 7517, 'reckless': 7518, 'tributes': 7519, '160': 7520, 'Member': 7521, '12000': 7522, 'panic': 7523, 'Shaw': 7524, 'forming': 7525, 'Knox': 7526, 'indicates': 7527, 'Stern': 7528, 'shutdown': 7529, 'permit': 7530, 'banning': 7531, 'counterfeit': 7532, 'External': 7533, 'Jeffrey': 7534, 'Reporter': 7535, 'consultation': 7536, '99': 7537, 'convertible': 7538, 'Lancaster': 7539, 'Dutt': 7540, 'Citi': 7541, 'sized': 7542, 'booking': 7543, 'invests': 7544, 'slips': 7545, 'extraordinary': 7546, '2.7': 7547, 'imminent': 7548, 'Bengals': 7549, 'rent': 7550, 'Appeal': 7551, 'challenger': 7552, 'Aviv': 7553, 'battles': 7554, 'incumbent': 7555, 'associate': 7556, 'faculty': 7557, '250000': 7558, 'volumes': 7559, 'reunion': 7560, 'pitching': 7561, 'Janet': 7562, 'opera': 7563, 'Flyers': 7564, 'SAN': 7565, 'ramp': 7566, 'devastated': 7567, 'sequel': 7568, 'Caroline': 7569, 'Immigration': 7570, 'thus': 7571, 'reliable': 7572, 'Morocco': 7573, 'coup': 7574, 'Paltrow': 7575, 'reputation': 7576, 'Hyundai': 7577, 'Nazi': 7578, 'Raleigh': 7579, 'MySpace': 7580, 'Sara': 7581, 'boom': 7582, 'venue': 7583, 'Packard': 7584, 'Roethlisberger': 7585, 'Victorian': 7586, 'Prison': 7587, 'Anand': 7588, 'mysterious': 7589, 'Hewitt': 7590, 'Growth': 7591, 'Crawford': 7592, 'handset': 7593, 'consultancy': 7594, 'relating': 7595, 'Hispanic': 7596, 'negotiating': 7597, '2.0': 7598, 'publish': 7599, 'Around': 7600, 'Hilary': 7601, 'Netflix': 7602, 'Horizon': 7603, 'Box': 7604, 'overweight': 7605, 'criticised': 7606, 'Lehman': 7607, 'poses': 7608, 'eases': 7609, 'puppy': 7610, 'Invitational': 7611, 'Harvey': 7612, 'marketplace': 7613, 'Tower': 7614, 'Mick': 7615, 'discusses': 7616, 'Eid': 7617, 'mothers': 7618, 'wed': 7619, 'Tracy': 7620, 'Yadav': 7621, 'consolidation': 7622, 'LTE': 7623, 'burden': 7624, 'resolved': 7625, 'Isle': 7626, 'Gloucester': 7627, 'exercises': 7628, 'Brunswick': 7629, 'surrender': 7630, 'scanner': 7631, 'Ponting': 7632, 'Flight': 7633, 'strengthens': 7634, 'proposing': 7635, 'Curtis': 7636, 'Westminster': 7637, 'indeed': 7638, 'Malcolm': 7639, 'Usain': 7640, 'meter': 7641, 'questioning': 7642, 'Miguel': 7643, 'Amazoncom': 7644, 'grenade': 7645, 'asthma': 7646, 'perhaps': 7647, 'testify': 7648, 'assassination': 7649, '4.5': 7650, 'ultimate': 7651, 'foreclosures': 7652, 'Kerr': 7653, 'Against': 7654, 'transactions': 7655, 'enhancing': 7656, 'Suffolk': 7657, 'unexpected': 7658, 'tap': 7659, 'crown': 7660, 'tragic': 7661, 'Macedonia': 7662, 'economist': 7663, 'soul': 7664, 'Matthews': 7665, 'Samantha': 7666, 'stunning': 7667, 'avoided': 7668, 'friendship': 7669, 'lawsuits': 7670, 'trophy': 7671, 'adjusted': 7672, 'Paula': 7673, 'initiated': 7674, 'temperature': 7675, 'Wipro': 7676, 'reunited': 7677, 'orbit': 7678, 'covers': 7679, 'Cal': 7680, 'shale': 7681, 'Les': 7682, 'Katherine': 7683, 'Shahid': 7684, 'boards': 7685, 'Dogg': 7686, 'workplace': 7687, 'Bird': 7688, 'Culture': 7689, 'openly': 7690, 'domain': 7691, 'Ramirez': 7692, 'Pine': 7693, 'Gate': 7694, 'clashed': 7695, 'AK': 7696, 'belt': 7697, 'Season': 7698, 'Internal': 7699, 'approaches': 7700, 'Levi': 7701, 'Klum': 7702, 'barn': 7703, 'safer': 7704, 'packages': 7705, 'oppose': 7706, 'Chrome': 7707, 'prayer': 7708, '23rd': 7709, 'flew': 7710, 'confirming': 7711, 'shocked': 7712, '6.5': 7713, 'MLS': 7714, 'Cannon': 7715, 'Fairfield': 7716, 'tweet': 7717, 'Hussain': 7718, 'dpa': 7719, 'publishes': 7720, 'administrators': 7721, 'Mancini': 7722, 'corporation': 7723, 'appropriate': 7724, 'Dream': 7725, 'Stakes': 7726, 'hundred': 7727, 'Rory': 7728, 'Trial': 7729, 'Female': 7730, 'plunges': 7731, 'hails': 7732, 'gender': 7733, 'disappeared': 7734, 'Employment': 7735, '49ers': 7736, 'Ehud': 7737, 'Raymond': 7738, 'predicts': 7739, 'killings': 7740, '2.3': 7741, 'Portman': 7742, 'Canberra': 7743, 'Bombay': 7744, 'correspondent': 7745, 'funded': 7746, 'messaging': 7747, '8.5': 7748, 'poker': 7749, 'afraid': 7750, 'automatic': 7751, 'plate': 7752, 'Bret': 7753, 'mandate': 7754, 'builder': 7755, 'Michel': 7756, 'Demand': 7757, 'Rutgers': 7758, 'restart': 7759, 'Underwood': 7760, 'windows': 7761, 'ballots': 7762, 'Hague': 7763, 'treating': 7764, 'Plant': 7765, 'valley': 7766, 'elements': 7767, 'Qld': 7768, 'Boxing': 7769, 'comic': 7770, 'Gwyneth': 7771, 'accessories': 7772, 'example': 7773, 'recognize': 7774, 'competing': 7775, 'Canterbury': 7776, 'pride': 7777, 'yield': 7778, 'fiery': 7779, 'criticized': 7780, 'dam': 7781, 'Huntsman': 7782, 'jointly': 7783, 'lanes': 7784, 'burglar': 7785, 'ND': 7786, 'facial': 7787, 'Simmons': 7788, 'bathroom': 7789, 'Model': 7790, 'Metal': 7791, 'o': 7792, 'Reno': 7793, 'Button': 7794, 'observers': 7795, 'daughters': 7796, 'Malawi': 7797, 'presenting': 7798, 'Pietersen': 7799, 'mandatory': 7800, 'Coffee': 7801, 'mode': 7802, 'withdrawing': 7803, 'Legal': 7804, 'globe': 7805, '60th': 7806, 'ICICI': 7807, 'Premiership': 7808, 'Sales': 7809, 'reorganization': 7810, 'immigrant': 7811, 'attendance': 7812, 'Lansing': 7813, 'scratched': 7814, 'Winslet': 7815, 'Playboy': 7816, 'mouth': 7817, 'Severe': 7818, 'stance': 7819, 'Pre': 7820, 'Claude': 7821, 'Tributes': 7822, 'Evan': 7823, 'plotting': 7824, 'equality': 7825, 'clinched': 7826, 'Majority': 7827, 'Telegraph': 7828, 'Prairie': 7829, 'remarkable': 7830, 'Islanders': 7831, 'institute': 7832, 'satisfaction': 7833, 'Rico': 7834, 'Radcliffe': 7835, 'moments': 7836, 'installation': 7837, 'Earl': 7838, 'Kamal': 7839, 'manner': 7840, 'requires': 7841, 'bowl': 7842, 'autumn': 7843, 'Treasurer': 7844, 'gala': 7845, 'Sound': 7846, 'repeat': 7847, 'unfair': 7848, 'consultant': 7849, 'agreeing': 7850, 'Re': 7851, 'cemetery': 7852, 'endangered': 7853, 'beaches': 7854, 'sprained': 7855, 'surface': 7856, 'Duchess': 7857, 'compact': 7858, 'Mayweather': 7859, 'detective': 7860, 'amnesty': 7861, 'ports': 7862, 'sometime': 7863, 'Hodgson': 7864, 'Automotive': 7865, 'conglomerate': 7866, 'rep': 7867, 'libel': 7868, 'Halle': 7869, 'enjoys': 7870, 'Scotia': 7871, 'slight': 7872, 'medicines': 7873, 'Bernie': 7874, 'autopsy': 7875, 'shortages': 7876, 'stating': 7877, 'behavior': 7878, 'Zuckerberg': 7879, '5th': 7880, 'Sporting': 7881, 'Daniels': 7882, 'mainland': 7883, 'exam': 7884, 'Kingfisher': 7885, 'burnt': 7886, 'Shield': 7887, 'disruption': 7888, 'motel': 7889, 'Jenkins': 7890, 'Rally': 7891, 'Queens': 7892, 'Parliamentary': 7893, 'Aurora': 7894, 'pot': 7895, 'Mali': 7896, 'widened': 7897, 'estimate': 7898, 'pancreatic': 7899, 'prefer': 7900, 'Croatian': 7901, 'Bend': 7902, 'wicket': 7903, 'Accra': 7904, 'customs': 7905, 'setback': 7906, 'flags': 7907, 'Belmont': 7908, 'Forbes': 7909, 'laptop': 7910, 'prop': 7911, 'Christ': 7912, 'Mom': 7913, 'Motorcyclist': 7914, 'chaos': 7915, 'fiance': 7916, 'initially': 7917, 'draws': 7918, 'intense': 7919, 'accidental': 7920, 'Karabakh': 7921, 'servants': 7922, 'Hayden': 7923, 'dengue': 7924, 'athletic': 7925, 'meals': 7926, 'hidden': 7927, 'founding': 7928, 'FOX': 7929, 'loose': 7930, 'XI': 7931, 'Mesa': 7932, 'accelerated': 7933, 'certainly': 7934, '1.8': 7935, 'dated': 7936, 'Ethiopian': 7937, 'unite': 7938, 'surrendered': 7939, 'designs': 7940, '450': 7941, 'unemployed': 7942, 'thank': 7943, 'budgets': 7944, 'Medicaid': 7945, 'Command': 7946, 'Maldives': 7947, 'soared': 7948, 'Hearts': 7949, 'Shaun': 7950, 'legislature': 7951, 'rap': 7952, '225': 7953, 'Aquino': 7954, 'Lynn': 7955, 'Silva': 7956, 'nationally': 7957, 'Corporate': 7958, 'O2': 7959, 'Jaguar': 7960, 'Rural': 7961, 'Anil': 7962, 'publicist': 7963, 'placing': 7964, 'divisions': 7965, 'Peninsula': 7966, 'adaptation': 7967, 'painting': 7968, 'Manitoba': 7969, 'Rajapaksa': 7970, 'Guardian': 7971, '104': 7972, 'Grande': 7973, 'Change': 7974, 'attracted': 7975, 'Americas': 7976, 'robbers': 7977, 'collections': 7978, 'Audi': 7979, 'attorneys': 7980, 'server': 7981, '97': 7982, 'indices': 7983, 'gallon': 7984, 'roots': 7985, 'promotes': 7986, 'Census': 7987, 'Seng': 7988, 'Felix': 7989, 'dementia': 7990, 'inch': 7991, 'narrow': 7992, 'requests': 7993, 'visas': 7994, 'batch': 7995, 'Novosti': 7996, 'Horse': 7997, 'Spirit': 7998, 'preparations': 7999, 'lobby': 8000, 'Walters': 8001, 'Comic': 8002, 'Georgetown': 8003, 'respiratory': 8004, 'Arquette': 8005, '2.1': 8006, 'Robertson': 8007, 'planting': 8008, 'AFC': 8009, 'borders': 8010, 'Professional': 8011, 'climbing': 8012, 'bias': 8013, 'sweeps': 8014, 'Unilever': 8015, 'Coronation': 8016, 'Pedestrian': 8017, 'explodes': 8018, 'pak': 8019, 'Alzheimer': 8020, 'highlight': 8021, 'councillors': 8022, 'lets': 8023, 'Montag': 8024, 'Complex': 8025, 'statutory': 8026, 'factories': 8027, 'warship': 8028, 'printing': 8029, 'deny': 8030, 'Fifth': 8031, 'discussing': 8032, 'acknowledged': 8033, 'hide': 8034, 'TSX': 8035, 'Zimbabwean': 8036, 'recommends': 8037, 'cabin': 8038, 'internationally': 8039, 'inches': 8040, 'Cities': 8041, 'Infrastructure': 8042, 'searched': 8043, 'undergone': 8044, 'Desert': 8045, 'deserve': 8046, 'dumping': 8047, 'remainder': 8048, 'Monica': 8049, 'signature': 8050, 'Oasis': 8051, 'Chuck': 8052, 'petroleum': 8053, 'JSE': 8054, 'statue': 8055, 'Willis': 8056, 'ordinary': 8057, 'ripped': 8058, 'Abbey': 8059, 'Trent': 8060, 'Bucks': 8061, 'infected': 8062, 'Hindi': 8063, 'Srinagar': 8064, '8th': 8065, 'difficulties': 8066, 'Leafs': 8067, 'Hernandez': 8068, 'ITV': 8069, 'cheaper': 8070, 'sum': 8071, 'jackpot': 8072, 'Living': 8073, 'Logan': 8074, 'Player': 8075, 'charities': 8076, 'astronaut': 8077, 'Pink': 8078, 'Cliff': 8079, 'Telstra': 8080, 'arguing': 8081, 'explosives': 8082, 'Cotton': 8083, 'exceed': 8084, 'Italia': 8085, 'Kuwaiti': 8086, 'Commons': 8087, 'Halloween': 8088, 'famed': 8089, 'bullpen': 8090, 'bedroom': 8091, 'establishment': 8092, 'waves': 8093, '40000': 8094, 'intellectual': 8095, 'boxer': 8096, 'desire': 8097, 'pig': 8098, 'nor': 8099, 'represents': 8100, 'rage': 8101, 'lighting': 8102, 'Common': 8103, 'embezzlement': 8104, 'corrupt': 8105, 'yellow': 8106, 'MVP': 8107, 'fragile': 8108, 'demonstrators': 8109, 'graduation': 8110, 'Midland': 8111, 'holy': 8112, 'Ralph': 8113, 'Ronson': 8114, 'rockets': 8115, 'Met': 8116, 'Priyanka': 8117, 'LTTE': 8118, 'Berkeley': 8119, 'speeds': 8120, 'Cannes': 8121, 'Irene': 8122, 'Fannie': 8123, 'seizure': 8124, 'pushes': 8125, 'Cavaliers': 8126, 'busted': 8127, 'slows': 8128, 'enemy': 8129, 'Soviet': 8130, 'indictment': 8131, 'Eden': 8132, 'foods': 8133, 'hangs': 8134, 'Burton': 8135, 'rapid': 8136, 'requiring': 8137, 'surpassed': 8138, 'Review': 8139, 'tire': 8140, 'teach': 8141, 'subsidies': 8142, 'happiness': 8143, 'Dale': 8144, 'choices': 8145, 'punch': 8146, 'abduction': 8147, 'Baba': 8148, 'generic': 8149, 'formerly': 8150, 'Riley': 8151, 'Ashok': 8152, 'Come': 8153, 'premises': 8154, 'Jackie': 8155, 'debates': 8156, 'Russians': 8157, 'preserve': 8158, 'Plains': 8159, 'achievements': 8160, 'combination': 8161, 'consequences': 8162, 'touching': 8163, 'indie': 8164, 'Rover': 8165, 'POLICE': 8166, 'showdown': 8167, 'describing': 8168, 'entrepreneurs': 8169, 'raided': 8170, 'doubts': 8171, 'Plaza': 8172, 'prayers': 8173, 'drain': 8174, 'Huffington': 8175, 'Yesterday': 8176, 'cement': 8177, 'Volvo': 8178, 'obligations': 8179, 'welterweight': 8180, 'Jul': 8181, 'tweeted': 8182, 'opponent': 8183, 'Salvation': 8184, 'factors': 8185, 'methods': 8186, 'outages': 8187, 'Round': 8188, 'Paulo': 8189, 'Polanski': 8190, 'gym': 8191, 'Hang': 8192, 'harm': 8193, 'PCs': 8194, 'legislators': 8195, 'arrangements': 8196, 'toy': 8197, 'Grace': 8198, 'successor': 8199, 'turnover': 8200, 'GaGa': 8201, 'monitors': 8202, 'Eye': 8203, 'starter': 8204, 'Vienna': 8205, 'litre': 8206, 'cup': 8207, 'concessions': 8208, 'Doug': 8209, 'ousted': 8210, 'Lowe': 8211, 'Efron': 8212, 'Twin': 8213, 'headline': 8214, 'Burnley': 8215, 'Taiwanese': 8216, 'lashes': 8217, 'Stones': 8218, 'thief': 8219, 'reiterates': 8220, 'payroll': 8221, 'Minsk': 8222, 'Bermuda': 8223, 'sponsors': 8224, 'obtain': 8225, 'Seri': 8226, 'Shiv': 8227, 'maiden': 8228, 'Stage': 8229, 'neighboring': 8230, 'operates': 8231, 'Tunisian': 8232, 'bridges': 8233, 'Frankfurt': 8234, 'la': 8235, '8000': 8236, 'Westwood': 8237, 'senators': 8238, 'Speed': 8239, 'mega': 8240, 'Dance': 8241, 'advocate': 8242, 'Mich': 8243, 'Resorts': 8244, 'conducting': 8245, 'reactor': 8246, 'FTSE': 8247, 'Sussex': 8248, 'worsening': 8249, 'Redknapp': 8250, 'lots': 8251, 'afford': 8252, 'Nolan': 8253, 'Jared': 8254, 'zones': 8255, 'logistics': 8256, 'Universe': 8257, 'command': 8258, 'WBC': 8259, 'ferry': 8260, 'harvest': 8261, 'Airline': 8262, 'Tornado': 8263, 'Massa': 8264, 'Domestic': 8265, 'Jorge': 8266, 'axe': 8267, 'bottles': 8268, 'Telekom': 8269, 'spare': 8270, 'lane': 8271, 'Ike': 8272, 'errors': 8273, 'gunfire': 8274, 'Padres': 8275, 'donor': 8276, 'cats': 8277, 'Antony': 8278, 'Carnival': 8279, 'Go': 8280, 'soar': 8281, 'shook': 8282, 'ECB': 8283, 'Municipal': 8284, 'deploy': 8285, 'Shannon': 8286, 'Asset': 8287, 'Holy': 8288, 'NYSE': 8289, 'crops': 8290, 'Duff': 8291, 'greenback': 8292, 'trash': 8293, 'sometimes': 8294, 'Doha': 8295, 'Popular': 8296, 'startup': 8297, 'Blackpool': 8298, 'sting': 8299, 'avoiding': 8300, 'inauguration': 8301, 'Wars': 8302, 'Rush': 8303, 'accreditation': 8304, 'Mercury': 8305, 'reinstated': 8306, 'turnout': 8307, 'waive': 8308, 'Venus': 8309, 'Surrey': 8310, 'Congo': 8311, 'Malley': 8312, 'incentive': 8313, 'Design': 8314, 'sinks': 8315, 'Branch': 8316, 'physically': 8317, 'flooded': 8318, 'MRI': 8319, 'Wife': 8320, 'Swat': 8321, 'Porsche': 8322, 'notices': 8323, 'Leone': 8324, 'Endeavour': 8325, 'requirement': 8326, 'sexy': 8327, 'der': 8328, 'Sevilla': 8329, 'Homeless': 8330, 'Teenager': 8331, 'Play': 8332, 'Cathedral': 8333, 'Wholesale': 8334, 'acid': 8335, 'Clegg': 8336, 'Pakistanis': 8337, 'attitude': 8338, 'gubernatorial': 8339, 'Gerard': 8340, 'exist': 8341, 'upside': 8342, 'rid': 8343, 'bonus': 8344, 'Photo': 8345, 'surgeon': 8346, 'Johnston': 8347, 'Orchestra': 8348, 'urgent': 8349, 'Both': 8350, 'soap': 8351, 'Guns': 8352, 'cab': 8353, 'Pratibha': 8354, 'awaiting': 8355, 'Augusta': 8356, 'barrier': 8357, 'BSE': 8358, 'combine': 8359, 'stricken': 8360, 'flexible': 8361, 'minors': 8362, 'slumped': 8363, 'consideration': 8364, 'discipline': 8365, 'SP': 8366, 'robust': 8367, 'ultra': 8368, 'mosque': 8369, 'connect': 8370, 'skating': 8371, 'bicycle': 8372, '1400': 8373, 'steam': 8374, 'dipped': 8375, 'handing': 8376, 'Isaac': 8377, 'Campaign': 8378, 'highlights': 8379, '750': 8380, 'disrupt': 8381, 'spotlight': 8382, 'Wen': 8383, 'informs': 8384, 'McIlroy': 8385, 'ST': 8386, 'Page': 8387, 'Southampton': 8388, 'MSNBC': 8389, 'browser': 8390, 'nearing': 8391, 'Davies': 8392, 'Lokpal': 8393, 'sergeant': 8394, 'empty': 8395, 'Albania': 8396, 'confirmation': 8397, 'upheld': 8398, 'Cage': 8399, 'Panama': 8400, 'sparking': 8401, 'Bafana': 8402, 'Mitsubishi': 8403, 'classroom': 8404, 'Garrett': 8405, 'nice': 8406, 'Members': 8407, 'concludes': 8408, 'meth': 8409, 'widens': 8410, 'Mrs': 8411, 'fare': 8412, 'Devils': 8413, 'indicating': 8414, 'tycoon': 8415, 'wet': 8416, 'explained': 8417, 'Ban': 8418, 'transparency': 8419, 'Guide': 8420, 'successive': 8421, 'examine': 8422, 'rifle': 8423, 'integrity': 8424, 'Fraser': 8425, 'Letterman': 8426, 'Pass': 8427, 'anger': 8428, 'AB': 8429, 'Alonso': 8430, 'Lauren': 8431, 'Vale': 8432, 'impaired': 8433, 'wrap': 8434, 'Uruguay': 8435, 'Chevrolet': 8436, 'Focus': 8437, 'Quality': 8438, 'debuts': 8439, 'happens': 8440, 'Eugene': 8441, 'sitcom': 8442, 'apologise': 8443, 'fisherman': 8444, '5.5': 8445, 'breached': 8446, 'gutted': 8447, 'consent': 8448, 'rear': 8449, 'tiger': 8450, 'columnist': 8451, 'organisations': 8452, 'relatively': 8453, 'Luther': 8454, 'Gadhafi': 8455, 'Mega': 8456, 'Moines': 8457, 'obsessed': 8458, 'roughly': 8459, 'Amir': 8460, 'infections': 8461, 'tradition': 8462, 'ceremonies': 8463, 'havoc': 8464, 'Due': 8465, 'DiCaprio': 8466, 'radiation': 8467, 'Almost': 8468, 'Mirza': 8469, 'departure': 8470, 'Irvine': 8471, 'lightweight': 8472, 'RCMP': 8473, 'Dodge': 8474, 'drummer': 8475, 'Aid': 8476, 'Alec': 8477, 'opted': 8478, 'tier': 8479, 'McDonnell': 8480, 'prolonged': 8481, 'peacefully': 8482, 'congressman': 8483, 'meltdown': 8484, 'Sons': 8485, 'spinner': 8486, 'sovereignty': 8487, 'Companies': 8488, 'kiss': 8489, 'offseason': 8490, 'detectives': 8491, 'Lehigh': 8492, 'CPI': 8493, 'rounder': 8494, 'freezing': 8495, 'RIA': 8496, 'embattled': 8497, 'skies': 8498, 'Courtney': 8499, 'Albuquerque': 8500, 'Petrol': 8501, 'Uzbekistan': 8502, 'stopping': 8503, 'dual': 8504, 'entrance': 8505, 'counsel': 8506, 'Call': 8507, 'viral': 8508, 'committing': 8509, 'injures': 8510, 'disturbance': 8511, 'tighten': 8512, 'landfall': 8513, 'tumble': 8514, 'clinics': 8515, 'bankrupt': 8516, 'researcher': 8517, 'liability': 8518, 'Tajikistan': 8519, 'Take': 8520, 'Webb': 8521, 'colleague': 8522, 'guys': 8523, 'metric': 8524, 'relay': 8525, 'tightened': 8526, 'BNP': 8527, 'precious': 8528, 'wrapped': 8529, 'Mila': 8530, 'prepaid': 8531, 'lap': 8532, 'Zimmerman': 8533, 'supermodel': 8534, 'designate': 8535, 'Paper': 8536, 'Wolf': 8537, 'AirTran': 8538, 'Bolivia': 8539, 'sole': 8540, 'instant': 8541, 'stalled': 8542, 'grandfather': 8543, 'Inn': 8544, 'tightening': 8545, 'relationships': 8546, 'rocked': 8547, 'Wesley': 8548, 'roommate': 8549, 'sky': 8550, 'Macon': 8551, 'Cruises': 8552, 'Non': 8553, 'Earlier': 8554, 'Sienna': 8555, 'Connor': 8556, 'expense': 8557, 'disabilities': 8558, 'episodes': 8559, 'Lagos': 8560, 'Wembley': 8561, 'Morrison': 8562, 'juvenile': 8563, 'Magistrate': 8564, 'merchant': 8565, 'punching': 8566, 'True': 8567, 'Gingrich': 8568, 'weigh': 8569, 'bases': 8570, 'strokes': 8571, 'stunned': 8572, 'freshman': 8573, 'bitten': 8574, 'indexes': 8575, 'learnt': 8576, 'Hannah': 8577, 'Atlantis': 8578, 'processor': 8579, 'Bang': 8580, 'ensuring': 8581, 'chose': 8582, 'Ossetia': 8583, 'characters': 8584, 'Wizards': 8585, 'Owens': 8586, 'Lea': 8587, 'dealt': 8588, 'richest': 8589, 'QB': 8590, 'Eli': 8591, 'ash': 8592, 'Progress': 8593, 'Do': 8594, 'malaria': 8595, 'concentrate': 8596, 'blown': 8597, 'introduction': 8598, 'lists': 8599, 'Elections': 8600, 'conferences': 8601, 'abandon': 8602, 'PayPal': 8603, 'Guantanamo': 8604, 'Sharp': 8605, 'dismissal': 8606, 'heels': 8607, 'Willie': 8608, 'ASEAN': 8609, 'undercover': 8610, 'rupees': 8611, 'wheelchair': 8612, 'marched': 8613, 'Samajwadi': 8614, 'FedEx': 8615, 'Crosby': 8616, 'micro': 8617, 'hackers': 8618, 'golden': 8619, 'indigenous': 8620, 'protested': 8621, 'actively': 8622, 'admission': 8623, 'Freeman': 8624, 'elects': 8625, 'Bentley': 8626, 'census': 8627, 'extradited': 8628, 'Boise': 8629, 'constable': 8630, 'Leonard': 8631, 'Suicide': 8632, 'Pride': 8633, 'pink': 8634, 'acted': 8635, 'thunderstorm': 8636, 'responds': 8637, 'operative': 8638, 'dirty': 8639, 'directing': 8640, 'solidarity': 8641, 'Shawn': 8642, 'courthouse': 8643, 'chocolate': 8644, 'cleaning': 8645, 'Lindsey': 8646, 'dentist': 8647, 'cigarettes': 8648, 'notorious': 8649, 'findings': 8650, '1600': 8651, 'vegetables': 8652, 'steroids': 8653, 'Sidney': 8654, 'negotiate': 8655, 'boil': 8656, 'yacht': 8657, 'desktop': 8658, 'serves': 8659, 'Ramdev': 8660, 'detailed': 8661, 'Fuel': 8662, 'editorial': 8663, 'youngsters': 8664, '150000': 8665, 'attracting': 8666, 'Arabian': 8667, 'Indo': 8668, 'consortium': 8669, 'impressed': 8670, 'moral': 8671, 'Haley': 8672, 'MGM': 8673, 'neighbouring': 8674, 'examination': 8675, 'Fifa': 8676, 'passage': 8677, 'Castle': 8678, 'Chaudhry': 8679, 'Every': 8680, 'Scherzinger': 8681, 'Low': 8682, 'goaltender': 8683, 'item': 8684, 'Shetty': 8685, 'Afghans': 8686, 'Pike': 8687, 'qualifiers': 8688, 'councillor': 8689, 'stint': 8690, 'guitar': 8691, 'maybe': 8692, 'Kodak': 8693, 'clinch': 8694, 'Albion': 8695, 'exploitation': 8696, 'scared': 8697, 'inspector': 8698, 'BT': 8699, 'Honduras': 8700, 'Di': 8701, 'controlling': 8702, 'backyard': 8703, 'Donnell': 8704, 'stamp': 8705, 'Khloe': 8706, 'focuses': 8707, 'Jessie': 8708, 'deliberately': 8709, 'downloads': 8710, 'crushing': 8711, 'usual': 8712, 'canal': 8713, 'Parkinson': 8714, 'gradually': 8715, 'Newsday': 8716, 'dramatically': 8717, 'relation': 8718, 'mechanism': 8719, 'Lloyds': 8720, 'casting': 8721, 'pensioner': 8722, 'Sandusky': 8723, 'Song': 8724, 'resistances': 8725, 'Jermaine': 8726, 'cops': 8727, 'Bahamas': 8728, 'belonging': 8729, 'demolition': 8730, 'Deepika': 8731, 'majors': 8732, 'Torres': 8733, 'Kuala': 8734, 'ODI': 8735, 'Gore': 8736, 'Topeka': 8737, 'Emily': 8738, 'Toshiba': 8739, 'relegated': 8740, 'Dover': 8741, 'provision': 8742, 'magic': 8743, 'Suns': 8744, 'Cohen': 8745, 'barred': 8746, 'pets': 8747, 'Factory': 8748, 'Sheboygan': 8749, 'tunnel': 8750, 'Crist': 8751, 'suspending': 8752, 'champ': 8753, 'Although': 8754, 'Higher': 8755, 'Saskatoon': 8756, 'Chandigarh': 8757, 'demonstrate': 8758, 'Controversial': 8759, 'Pyongyang': 8760, 'appearances': 8761, 'Johan': 8762, 'territorial': 8763, 'attached': 8764, 'experiencing': 8765, 'Comedy': 8766, 'shower': 8767, 'Honolulu': 8768, 'Fine': 8769, 'Melissa': 8770, 'secrets': 8771, 'destruction': 8772, 'splitting': 8773, 'commitments': 8774, 'bribes': 8775, 'wound': 8776, 'donors': 8777, 'pictured': 8778, '7:30': 8779, 'goodbye': 8780, 'tiny': 8781, 'Enforcement': 8782, 'sat': 8783, 'ashore': 8784, 'acre': 8785, '180': 8786, 'deportation': 8787, 'lodged': 8788, 'continent': 8789, 'complained': 8790, 'LLP': 8791, 'eggs': 8792, 'machinery': 8793, 'Works': 8794, 'directions': 8795, 'Colbert': 8796, 'haul': 8797, 'amidst': 8798, 'Tomas': 8799, 'Tory': 8800, 'blaming': 8801, 'tariff': 8802, 'Macquarie': 8803, 'followers': 8804, 'publishers': 8805, 'implications': 8806, 'Arroyo': 8807, 'Yang': 8808, 'clock': 8809, 'Alice': 8810, 'Cooperation': 8811, 'copies': 8812, 'writers': 8813, 'Victory': 8814, 'upward': 8815, 'Lion': 8816, 'Karan': 8817, 'describes': 8818, 'Vista': 8819, 'Recovery': 8820, 'Superstar': 8821, 'Ms': 8822, 'Holder': 8823, 'Gabriel': 8824, 'detainees': 8825, 'Jackets': 8826, 'aggregate': 8827, 'Historic': 8828, 'builds': 8829, '24th': 8830, 'Khyber': 8831, 'trio': 8832, 'labourers': 8833, 'Purdue': 8834, 'Fairfax': 8835, 'amongst': 8836, 'Macau': 8837, 'bands': 8838, 'automation': 8839, 'Bhutto': 8840, 'database': 8841, 'GP': 8842, 'attacker': 8843, 'balanced': 8844, 'Dynamics': 8845, 'insurers': 8846, 'Manufacturing': 8847, 'Cavendish': 8848, 'Watford': 8849, 'dancing': 8850, 'Palo': 8851, 'Jude': 8852, 'upbeat': 8853, 'attends': 8854, 'slashes': 8855, 'Prosecutor': 8856, 'disqualified': 8857, 'Editor': 8858, 'casualties': 8859, 'Dundee': 8860, 'WBA': 8861, 'Chan': 8862, 'bulk': 8863, '7000': 8864, 'Deputies': 8865, 'generating': 8866, 'principle': 8867, 'aftermath': 8868, 'lined': 8869, 'profitability': 8870, 'Milton': 8871, 'holdings': 8872, 'mln': 8873, 'annually': 8874, 'Roses': 8875, 'WA': 8876, 'evaluation': 8877, 'immunity': 8878, 'Roanoke': 8879, 'distributing': 8880, 'Namibia': 8881, 'Corning': 8882, 'Jade': 8883, 'assess': 8884, 'contestant': 8885, 'Belgrade': 8886, 'reinstate': 8887, 'Manipur': 8888, 'faulty': 8889, 'Apollo': 8890, 'Denise': 8891, 'Dawn': 8892, 'breakdown': 8893, 'entrepreneur': 8894, 'Holocaust': 8895, 'Strictly': 8896, 'grabbed': 8897, 'disasters': 8898, 'Olivia': 8899, 'Managing': 8900, 'reconstruction': 8901, 'MTN': 8902, 'prostitute': 8903, 'crazy': 8904, 'Cairn': 8905, 'lieutenant': 8906, 'Gavin': 8907, 'infamous': 8908, '98': 8909, 'Snyder': 8910, 'Beirut': 8911, 'Pa': 8912, 'Jiabao': 8913, 'Wallabies': 8914, 'Telangana': 8915, 'Diane': 8916, 'Cory': 8917, 'Kunis': 8918, 'Sisters': 8919, 'MotoGP': 8920, 'cigarette': 8921, 'Prevention': 8922, 'sweet': 8923, 'Barker': 8924, 'Downs': 8925, 'hazardous': 8926, 'heated': 8927, 'Advisory': 8928, 'Galway': 8929, 'slashing': 8930, 'Poker': 8931, 'Holly': 8932, 'Kristin': 8933, 'Micro': 8934, 'persistent': 8935, 'Persian': 8936, 'Jenna': 8937, 'LED': 8938, 'Laurent': 8939, 'Hogan': 8940, 'thefts': 8941, 'origin': 8942, 'Keane': 8943, 'Midlands': 8944, 'RIM': 8945, 'joke': 8946, 'makeover': 8947, 'subdued': 8948, 'groin': 8949, 'hungry': 8950, 'Thatcher': 8951, 'hunters': 8952, 'Ulster': 8953, 'legacy': 8954, 'Jindal': 8955, 'en': 8956, 'runoff': 8957, 'Guinness': 8958, 'Bangladeshi': 8959, 'Hillsborough': 8960, 'achievement': 8961, 'mayoral': 8962, 'debris': 8963, 'Groupon': 8964, 'Chevron': 8965, 'Javier': 8966, 'Chhattisgarh': 8967, 'forgery': 8968, 'thermal': 8969, 'Job': 8970, 'Helicopter': 8971, 'tweets': 8972, 'Sikh': 8973, 'certified': 8974, 'Solomon': 8975, 'Yankee': 8976, 'respects': 8977, 'defrauding': 8978, 'brokers': 8979, 'types': 8980, 'lewd': 8981, 'restoration': 8982, 'affirmed': 8983, 'Hudgens': 8984, 'workout': 8985, 'Paralympic': 8986, 'Harlem': 8987, 'occupation': 8988, 'procurement': 8989, 'filling': 8990, 'Clay': 8991, 'regret': 8992, 'Coroner': 8993, 'Muamba': 8994, 'courtroom': 8995, 'Lucknow': 8996, 'Battle': 8997, 'Joan': 8998, 'riots': 8999, 'Binghamton': 9000, 'bracing': 9001, 'rogue': 9002, 'x': 9003, 'Alexandra': 9004, '107': 9005, 'cooking': 9006, 'blogger': 9007, 'weighing': 9008, 'BAE': 9009, 'Capitals': 9010, 'Saleh': 9011, 'Unit': 9012, 'Marsh': 9013, 'lowering': 9014, 'Far': 9015, 'Shia': 9016, 'Shriver': 9017, 'borrowers': 9018, 'breaching': 9019, 'Biel': 9020, 'Zero': 9021, 'cables': 9022, 'dreams': 9023, 'Wis': 9024, 'eliminating': 9025, 'Nate': 9026, 'demolished': 9027, 'blockade': 9028, 'Hard': 9029, 'Blu': 9030, 'prosperity': 9031, 'charts': 9032, 'closures': 9033, 'Programme': 9034, 'Mercer': 9035, 'lifting': 9036, 'Jews': 9037, 'Nano': 9038, 'partly': 9039, 'Kay': 9040, 'Ahmedabad': 9041, 'sailor': 9042, 'kg': 9043, 'heroes': 9044, 'federation': 9045, 'separated': 9046, 'sailing': 9047, 'Mad': 9048, 'Samoa': 9049, 'Partnership': 9050, 'collaborate': 9051, 'Hood': 9052, 'Copa': 9053, 'bargaining': 9054, 'Worcester': 9055, 'Instruments': 9056, 'Semiconductor': 9057, 'Julio': 9058, 'injection': 9059, 'triggering': 9060, 'warships': 9061, 'hat': 9062, 'Contador': 9063, 'trademark': 9064, 'clearly': 9065, 'transfers': 9066, 'township': 9067, 'outlet': 9068, 'appetite': 9069, 'indicate': 9070, 'Blockbuster': 9071, 'sounds': 9072, '22nd': 9073, 'Adobe': 9074, 'Heineken': 9075, 'Citizens': 9076, 'lethal': 9077, 'Ducks': 9078, 'Tina': 9079, 'lucrative': 9080, 'revenge': 9081, 'Shahrukh': 9082, 'lengthy': 9083, 'Gerrard': 9084, 'activate': 9085, 'larceny': 9086, 'gearing': 9087, 'transparent': 9088, 'lure': 9089, 'Chef': 9090, 'Which': 9091, 'versions': 9092, 'treatments': 9093, 'na': 9094, 'lies': 9095, 'renovation': 9096, 'overwhelming': 9097, 'Carol': 9098, 'Hurley': 9099, 'Oval': 9100, '7.5': 9101, 'outcome': 9102, 'cattle': 9103, 'Ranch': 9104, 'exporter': 9105, 'slapped': 9106, 'nonprofit': 9107, 'audiences': 9108, 'Byrd': 9109, 'Medal': 9110, 'dominate': 9111, 'weaken': 9112, 'Pretoria': 9113, 'Leighton': 9114, 'poet': 9115, 'Kazakh': 9116, 'Funeral': 9117, 'repurchase': 9118, 'Brighton': 9119, 'Kendra': 9120, 'Downtown': 9121, 'syndrome': 9122, 'apparel': 9123, 'mainstream': 9124, 'Zurich': 9125, 'Aust': 9126, 'Fidel': 9127, 'Metropolitan': 9128, 'Better': 9129, 'folk': 9130, 'Rouge': 9131, 'Dixon': 9132, 'Dustin': 9133, 'embezzling': 9134, 'peers': 9135, 'Corruption': 9136, 'properly': 9137, 'spectacular': 9138, 'bishop': 9139, 'Alba': 9140, 'Brooke': 9141, 'Newt': 9142, 'Clemson': 9143, 'modified': 9144, 'Machine': 9145, 'Stallone': 9146, 'exceeded': 9147, 'telecoms': 9148, 'besides': 9149, 'Ho': 9150, 'delegates': 9151, 'Afridi': 9152, 'Eyed': 9153, 'derivatives': 9154, 'sack': 9155, 'Saeed': 9156, 'wrongful': 9157, 'Waste': 9158, 'rumored': 9159, 'virtually': 9160, 'briefing': 9161, 'consulate': 9162, 'Heathrow': 9163, 'epidemic': 9164, 'reflect': 9165, 'glory': 9166, 'railroad': 9167, 'washing': 9168, 'gesture': 9169, 'Superintendent': 9170, 'donating': 9171, 'checking': 9172, 'Oilers': 9173, 'Dana': 9174, 'Bosnian': 9175, '1960s': 9176, 'scenario': 9177, 'Hitachi': 9178, 'respective': 9179, 'Yeddyurappa': 9180, 'Panetta': 9181, 'mountains': 9182, 'OK': 9183, 'Payne': 9184, 'Ultimate': 9185, 'sort': 9186, 'Basu': 9187, 'Scouts': 9188, 'vaccines': 9189, 'Hip': 9190, 'conversation': 9191, 'categories': 9192, 'uprising': 9193, 'Timor': 9194, 'bride': 9195, 'Rahman': 9196, 'judgment': 9197, 'taught': 9198, 'listen': 9199, 'Tan': 9200, 'Marvel': 9201, 'ANZ': 9202, 'Tymoshenko': 9203, 'Mozambique': 9204, 'seemed': 9205, 'Million': 9206, 'steals': 9207, 'Perdue': 9208, 'firearm': 9209, 'Pound': 9210, 'margins': 9211, 'Volunteers': 9212, 'Still': 9213, 'united': 9214, 'Spider': 9215, 'Camden': 9216, 'Ibrahim': 9217, 'IV': 9218, 'cleric': 9219, 'blocking': 9220, 'airspace': 9221, 'Breast': 9222, 'Could': 9223, 'Vic': 9224, 'vandalism': 9225, 'Donovan': 9226, 'fraudulent': 9227, 'Grey': 9228, 'hoax': 9229, 'bold': 9230, 'constituency': 9231, 'Peters': 9232, 'Less': 9233, 'antitrust': 9234, 'Vonn': 9235, 'Schmidt': 9236, 'semifinal': 9237, 'comparison': 9238, 'Platinum': 9239, 'suburbs': 9240, 'Associates': 9241, 'Batman': 9242, 'Writers': 9243, 'screens': 9244, 'Crowe': 9245, 'neighbour': 9246, 'harsh': 9247, 'Curry': 9248, '1970s': 9249, 'Highland': 9250, 'bright': 9251, 'color': 9252, 'Telecommunications': 9253, 'Mill': 9254, 'Shirley': 9255, 'Klitschko': 9256, 'highlighting': 9257, 'outreach': 9258, 'vast': 9259, 'intoxication': 9260, 'reversing': 9261, 'Lotus': 9262, 'pages': 9263, 'Timberwolves': 9264, 'contaminated': 9265, 'honoring': 9266, 'smallest': 9267, 'appreciation': 9268, 'shifting': 9269, 'Fight': 9270, 'broadcasting': 9271, 'inventory': 9272, 'viewing': 9273, '2018': 9274, 'patrols': 9275, 'finalized': 9276, 'experiences': 9277, 'calf': 9278, 'Luxembourg': 9279, 'Monte': 9280, 'flick': 9281, 'Spokane': 9282, 'touring': 9283, '31st': 9284, 'digit': 9285, 'provisions': 9286, 'diva': 9287, 'Direction': 9288, 'Ubisoft': 9289, 'dawn': 9290, 'wildfires': 9291, 'councils': 9292, 'Caucasus': 9293, 'headquartered': 9294, 'upto': 9295, 'liberal': 9296, 'Reagan': 9297, 'Officers': 9298, 'aging': 9299, 'finalist': 9300, 'Variety': 9301, 'measuring': 9302, 'pains': 9303, 'govt': 9304, 'Films': 9305, 'shifted': 9306, 'shipment': 9307, 'Reilly': 9308, 'Chattanooga': 9309, 'desert': 9310, 'Rawalpindi': 9311, 'impersonating': 9312, 'contamination': 9313, 'Soul': 9314, 'Arbor': 9315, 'Highlands': 9316, 'barely': 9317, 'kilometres': 9318, 'Northampton': 9319, 'letting': 9320, 'Shiite': 9321, 'interviewed': 9322, 'Pedro': 9323, 'Huawei': 9324, 'Wanderers': 9325, 'injunction': 9326, 'Liga': 9327, 'Taxi': 9328, 'Ana': 9329, 'relevant': 9330, 'Sultan': 9331, 'hunter': 9332, 'Fans': 9333, 'Julius': 9334, 'spying': 9335, 'inspectors': 9336, 'mentor': 9337, 'Knoxville': 9338, 'whatever': 9339, 'bombers': 9340, '®': 9341, 'lacrosse': 9342, 'Get': 9343, 'Ariz': 9344, 'leaking': 9345, 'Belarusian': 9346, 'Savannah': 9347, 'collide': 9348, 'Salisbury': 9349, 'spots': 9350, 'fence': 9351, 'convoy': 9352, 'Ind': 9353, 'Fallon': 9354, 'Peruvian': 9355, 'Rosa': 9356, 'Alto': 9357, 'Durban': 9358, 'Jackman': 9359, 'Lockheed': 9360, 'Nixon': 9361, 'gallery': 9362, 'MT': 9363, 'Large': 9364, 'Crash': 9365, 'ATP': 9366, 'Greenville': 9367, 'Rao': 9368, 'establishes': 9369, 'SWAT': 9370, 'patch': 9371, 'bypass': 9372, 'LPGA': 9373, 'Erin': 9374, 'Dairy': 9375, 'Frederick': 9376, 'Lautner': 9377, 'medalist': 9378, 'SAS': 9379, 'spreads': 9380, 'Advanced': 9381, 'mad': 9382, 'exploring': 9383, 'Shahbaz': 9384, 'ligament': 9385, 'Colo': 9386, 'achieving': 9387, 'inner': 9388, 'Luxury': 9389, 'Harare': 9390, 'palm': 9391, 'semiconductor': 9392, 'ordinance': 9393, 'Maritime': 9394, 'gotten': 9395, 'Disease': 9396, 'conditioning': 9397, 'derailed': 9398, 'Aviva': 9399, 'Democracy': 9400, 'dividends': 9401, 'Seth': 9402, 'spate': 9403, 'Roland': 9404, 'braced': 9405, 'Bashir': 9406, '1300': 9407, 'trim': 9408, 'valuation': 9409, 'Official': 9410, 'renewal': 9411, 'grades': 9412, 'conflicts': 9413, 'sewer': 9414, 'destroying': 9415, 'freezes': 9416, 'Harley': 9417, 'skilled': 9418, 'delaying': 9419, 'Welfare': 9420, 'deepen': 9421, 'Phillip': 9422, 'establishing': 9423, 'halftime': 9424, 'refuse': 9425, 'paving': 9426, 'Piper': 9427, 'Ole': 9428, 'accelerate': 9429, 'tense': 9430, 'spared': 9431, 'denying': 9432, 'spacecraft': 9433, 'Linda': 9434, 'Snoop': 9435, 'Woody': 9436, 'narrowed': 9437, 'funny': 9438, 'nights': 9439, 'gene': 9440, '105': 9441, 'collecting': 9442, 'Chatham': 9443, 'sections': 9444, 'Lufthansa': 9445, 'Abraham': 9446, 'Barrett': 9447, 'Martha': 9448, 'disorders': 9449, 'Leigh': 9450, 'bruised': 9451, 'hostages': 9452, 'planet': 9453, 'economics': 9454, 'testified': 9455, 'Viktor': 9456, 'animated': 9457, 'beloved': 9458, 'Room': 9459, 'sophomore': 9460, 'decisive': 9461, 'balls': 9462, 'Lisbon': 9463, 'disappointment': 9464, 'platinum': 9465, '102': 9466, 'Clarkson': 9467, 'Hold': 9468, 'Lafayette': 9469, 'Ramesh': 9470, 'convinced': 9471, 'Agreement': 9472, 'Cambodia': 9473, 'laptops': 9474, 'caps': 9475, 'emerges': 9476, 'catching': 9477, 'conspiring': 9478, 'Relief': 9479, 'priorities': 9480, 'EMC': 9481, 'Paterno': 9482, 'YEAR': 9483, 'overtake': 9484, 'Circle': 9485, 'taxpayer': 9486, 'Planet': 9487, 'freak': 9488, 'Shelton': 9489, 'promotional': 9490, 'MW': 9491, 'unlawful': 9492, 'scholarship': 9493, 'Lumpur': 9494, 'Royce': 9495, 'Knights': 9496, 'conjunction': 9497, 'pubs': 9498, 'scholarships': 9499, 'Vehicle': 9500, 'Thieves': 9501, 'Prices': 9502, 'keeper': 9503, 'Marines': 9504, 'menu': 9505, 'footprint': 9506, 'poultry': 9507, 'jersey': 9508, 'Carr': 9509, 'Bee': 9510, 'Goody': 9511, 'exhibit': 9512, 'frequent': 9513, 'pieces': 9514, 'Families': 9515, 'divided': 9516, 'Lilly': 9517, 'colour': 9518, 'Protesters': 9519, 'halts': 9520, 'televised': 9521, 'dust': 9522, 'booming': 9523, '9th': 9524, 'troopers': 9525, '0.3': 9526, 'Rebecca': 9527, 'Laboratories': 9528, 'enabling': 9529, 'martial': 9530, 'enables': 9531, 'surfaced': 9532, 'Patterson': 9533, 'Illegal': 9534, 'ambush': 9535, 'extremism': 9536, 'jazz': 9537, 'pitched': 9538, 'dining': 9539, 'drones': 9540, 'Methodist': 9541, 'Ilham': 9542, 'Webster': 9543, 'tariffs': 9544, 'mix': 9545, 'NDA': 9546, 'impossible': 9547, 'ravaged': 9548, 'wonder': 9549, 'Nexus': 9550, 'choppy': 9551, 'observe': 9552, 'forests': 9553, 'flows': 9554, 'Coral': 9555, 'scrutiny': 9556, 'immune': 9557, 'strongest': 9558, 'Buccaneers': 9559, 'Die': 9560, 'astronauts': 9561, 'USS': 9562, 'Icahn': 9563, 'Pepsi': 9564, 'Jill': 9565, 'asbestos': 9566, 'Booker': 9567, 'Amnesty': 9568, 'emission': 9569, '1800': 9570, 'Typhoon': 9571, 'bearish': 9572, 'Maori': 9573, 'MD': 9574, 'LK': 9575, 'ministerial': 9576, 'Things': 9577, 'background': 9578, 'Edwin': 9579, 'Devon': 9580, 'Gun': 9581, 'understands': 9582, 'Clijsters': 9583, 'Eastman': 9584, '1700': 9585, 'Mosley': 9586, 'Holiday': 9587, 'movements': 9588, 'DWI': 9589, 'humanity': 9590, 'fantasy': 9591, 'Kylie': 9592, 'Hotspur': 9593, 'sterling': 9594, 'sand': 9595, 'downward': 9596, 'Duluth': 9597, 'pray': 9598, 'yourself': 9599, 'Coldplay': 9600, 'quest': 9601, 'Once': 9602, 'surrounded': 9603, 'lecture': 9604, 'Wine': 9605, 'Lazio': 9606, 'connectivity': 9607, 'Cellular': 9608, 'Lithuania': 9609, 'Yusuf': 9610, 'Dynamo': 9611, 'detect': 9612, 'committees': 9613, 'Boyd': 9614, 'preventing': 9615, 'thunderstorms': 9616, 'integrate': 9617, 'Didier': 9618, 'Ugandan': 9619, 'escalating': 9620, 'doctorate': 9621, 'Grizzlies': 9622, 'Rai': 9623, 'invite': 9624, 'casinos': 9625, 'Polk': 9626, 'republic': 9627, 'showers': 9628, 'Niger': 9629, 'Fitness': 9630, 'Tbilisi': 9631, 'Provincial': 9632, 'hell': 9633, 'Uk': 9634, 'halfway': 9635, 'hates': 9636, 'Strategic': 9637, 'hints': 9638, 'webcast': 9639, 'swimmer': 9640, 'contracted': 9641, 'totally': 9642, 'Cutler': 9643, 'Dragon': 9644, 'Appeals': 9645, 'paternity': 9646, 'instructor': 9647, 'Sunshine': 9648, 'sinking': 9649, 'Stephanie': 9650, 'Hunt': 9651, 'Giant': 9652, 'Chandler': 9653, 'Commissioners': 9654, 'treasury': 9655, 'negligent': 9656, 'triumph': 9657, 'Consumers': 9658, 'slalom': 9659, 'Osborne': 9660, 'dominant': 9661, 'Marvin': 9662, 'Stafford': 9663, 'flies': 9664, 'composition': 9665, 'Xavier': 9666, '4.2': 9667, 'hung': 9668, 'Canton': 9669, 'Nagorno': 9670, 'boxes': 9671, 'GPS': 9672, 'daytime': 9673, 'Ronald': 9674, 'controller': 9675, 'Chivas': 9676, 'bite': 9677, 'snowfall': 9678, 'surging': 9679, 'filmed': 9680, '2G': 9681, 'talented': 9682, 'Pharma': 9683, 'ArcelorMittal': 9684, 'cellphone': 9685, 'teaming': 9686, 'Israelis': 9687, 'experimental': 9688, 'connections': 9689, 'starred': 9690, 'peninsula': 9691, 'Jaime': 9692, 'revoked': 9693, 'enrollment': 9694, 'wrongly': 9695, 'Phase': 9696, 'deepening': 9697, 'otherwise': 9698, 'bloody': 9699, 'curfew': 9700, 'recruits': 9701, 'Realty': 9702, 'Flash': 9703, 'cricketers': 9704, 'Mitch': 9705, 'Full': 9706, 'Section': 9707, 'condemn': 9708, 'goodwill': 9709, 'extremists': 9710, 'alcoholic': 9711, 'opt': 9712, 'Africans': 9713, '112': 9714, '175': 9715, 'captures': 9716, 'conceded': 9717, 'Kan': 9718, 'Principal': 9719, 'voiced': 9720, 'Serb': 9721, 'unmanned': 9722, 'Chartered': 9723, 'Shop': 9724, 'sealed': 9725, 'comply': 9726, 'freestyle': 9727, 'Roddick': 9728, 'partnerships': 9729, 'Jacques': 9730, 'licences': 9731, 'testimony': 9732, 'critic': 9733, '28th': 9734, 'participated': 9735, 'CITY': 9736, 'moratorium': 9737, 'Code': 9738, 'elsewhere': 9739, 'bloc': 9740, 'ethanol': 9741, '0.1': 9742, 'ammunition': 9743, 'Pacers': 9744, 'liquid': 9745, 'Drogba': 9746, 'disclosure': 9747, 'volcano': 9748, 'breathing': 9749, 'Rare': 9750, 'Cumberland': 9751, 'indoor': 9752, 'intensified': 9753, 'bizarre': 9754, 'theaters': 9755, 'trader': 9756, 'ideal': 9757, 'homage': 9758, 'Johns': 9759, 'businessmen': 9760, 'Bernardino': 9761, 'subsidy': 9762, 'lovers': 9763, 'Studies': 9764, 'reactors': 9765, 'autobiography': 9766, 'Atomic': 9767, 'expired': 9768, 'happening': 9769, 'umpire': 9770, 'Ferry': 9771, 'decreased': 9772, 'accountability': 9773, 'Schalke': 9774, 'pill': 9775, 'eyeing': 9776, 'NH': 9777, 'Avalanche': 9778, 'Homes': 9779, 'Bynes': 9780, 'bow': 9781, 'endangerment': 9782, 'employed': 9783, '90th': 9784, 'regulate': 9785, 'epic': 9786, 'sad': 9787, 'Pearson': 9788, 'Conservation': 9789, 'Minerals': 9790, 'Supply': 9791, 'enrichment': 9792, 'Lennon': 9793, 'batteries': 9794, 'Knightley': 9795, 'slaying': 9796, '2.6': 9797, 'affirms': 9798, 'Mellon': 9799, 'Gill': 9800, 'Zach': 9801, 'Deer': 9802, 'intentionally': 9803, 'carries': 9804, 'strange': 9805, 'surges': 9806, 'collides': 9807, 'inaugurates': 9808, 'revamped': 9809, 'AJ': 9810, 'reshuffle': 9811, 'Chesapeake': 9812, 'Leinster': 9813, 'Double': 9814, 'Benson': 9815, 'searches': 9816, 'slipping': 9817, 'Violence': 9818, 'meal': 9819, 'demonstrations': 9820, 'travelers': 9821, 'Mediterranean': 9822, '0.2': 9823, 'smooth': 9824, 'isolated': 9825, 'affects': 9826, 'tears': 9827, 'contributed': 9828, 'unanimous': 9829, 'candidacy': 9830, 'touchdown': 9831, 'mistakenly': 9832, 'interviews': 9833, 'UC': 9834, 'Aloud': 9835, 'highlighted': 9836, 'breakaway': 9837, 'catastrophic': 9838, 'deeply': 9839, 'Putnam': 9840, 'Conway': 9841, 'holder': 9842, 'handsets': 9843, 'Alexandria': 9844, 'bulls': 9845, 'witnessed': 9846, 'Civic': 9847, 'Farrell': 9848, 'Carlyle': 9849, 'Horry': 9850, 'Wachovia': 9851, 'sights': 9852, '27th': 9853, 'landscape': 9854, 'kingdom': 9855, 'Mahendra': 9856, 'Estonia': 9857, 'reaffirmed': 9858, 'wondering': 9859, 'Anchorage': 9860, 'fiancee': 9861, 'pared': 9862, 'correct': 9863, 'verge': 9864, 'Millionaire': 9865, 'marred': 9866, 'Napoli': 9867, 'lesson': 9868, 'Yerevan': 9869, 'notebook': 9870, 'elimination': 9871, 'psychiatric': 9872, 'accord': 9873, 'Bigg': 9874, 'riders': 9875, 'laureate': 9876, 'luck': 9877, 'Off': 9878, 'Richter': 9879, 'Crow': 9880, 'wonderful': 9881, 'tornadoes': 9882, 'Conan': 9883, 'mobility': 9884, 'Incorporated': 9885, 'pupil': 9886, 'averages': 9887, 'commuter': 9888, 'pan': 9889, 'Mines': 9890, 'Astana': 9891, 'backdrop': 9892, 'Cell': 9893, 'Mahama': 9894, 'Cheltenham': 9895, 'Bulldogs': 9896, 'forever': 9897, 'snowmobile': 9898, 'outgoing': 9899, 'sedan': 9900, 'owed': 9901, 'Danielle': 9902, 'ratio': 9903, 'thirds': 9904, 'Linux': 9905, 'Caterpillar': 9906, 'sellers': 9907, 'Va': 9908, 'obese': 9909, 'slot': 9910, 'approvals': 9911, 'Waterloo': 9912, 'literacy': 9913, 'memories': 9914, 'LinkedIn': 9915, 'Talk': 9916, 'Marilyn': 9917, 'Swayze': 9918, 'collapsing': 9919, 'architecture': 9920, 'Ritchie': 9921, 'twist': 9922, 'deemed': 9923, 'Travolta': 9924, 'Jenny': 9925, 'stun': 9926, 'peer': 9927, 'Pawar': 9928, 'Berkshire': 9929, 'Balochistan': 9930, 'Boulder': 9931, 'tables': 9932, 'Weston': 9933, 'RSS': 9934, 'vitamin': 9935, 'ordering': 9936, 'BART': 9937, 'Fighter': 9938, 'stormed': 9939, 'closest': 9940, 'kissing': 9941, 'congress': 9942, 'preview': 9943, 'prefers': 9944, 'Uttarakhand': 9945, 'fingers': 9946, 'bullets': 9947, 'Nicholas': 9948, 'Newfoundland': 9949, 'Keegan': 9950, 'aides': 9951, 'Gareth': 9952, 'stones': 9953, 'Phelps': 9954, 'touches': 9955, 'hould': 9956, 'skip': 9957, 'OSCE': 9958, 'Trafford': 9959, 'shrank': 9960, '3.8': 9961, 'iPads': 9962, 'skiing': 9963, 'Easy': 9964, 'boots': 9965, 'Nassau': 9966, 'expression': 9967, 'Rodham': 9968, 'Regina': 9969, 'Livingston': 9970, 'Paribas': 9971, 'lied': 9972, 'Visa': 9973, '1999': 9974, 'Dawson': 9975, 'latter': 9976, 'extinction': 9977, 'determination': 9978, 'taste': 9979, 'Jo': 9980, 'Unified': 9981, 'frame': 9982, 'importing': 9983, 'Story': 9984, 'fiction': 9985, 'Fabrice': 9986, '2.4': 9987, 'produces': 9988, 'indictments': 9989, 'Porter': 9990, 'AirAsia': 9991, 'Condoleezza': 9992, 'Consulting': 9993, 'deeper': 9994, 'auctions': 9995, 'whilst': 9996, 'Beck': 9997, 'multimedia': 9998, 'height': 9999}\n"
     ]
    }
   ],
   "execution_count": 21
  },
  {
   "cell_type": "markdown",
   "source": [
    "<a name='e4'></a>\n",
    "### Exercise 4: Bag of Words\n",
    "(1p) Here we will create the bag-of-words representation of the sentences. The function will take a single sentence (list of tokens) and return an array of size `vocab_size` with the counts of each word in the vocabulary. The\n",
    "`vocab_size` is calculated as the length of the passed `token_to_id` dictionary. The resulting array should have zeros everywhere but the indices corresponding to the words in the vocabulary where it should have the counts of the words in the sentence. For example, if the sentence is `['fox', 'and', 'deer']` and the vocabulary is `{'fox': 0, 'and': 1, 'deer': 2}`, the resulting array should be `[1, 1, 1]`. If the sentence is `['fox', 'and', 'fox', 'deer']`, the resulting array should be `[2, 1, 1]`."
   ],
   "metadata": {
    "collapsed": false,
    "pycharm": {
     "name": "#%% md\n"
    }
   }
  },
  {
   "cell_type": "code",
   "source": [
    "def bag_of_words(sentence, token_to_id):\n",
    "    \"\"\"\n",
    "    Creates a bag-of-words representation of the sentence\n",
    "    Args:\n",
    "        sentence: a list of tokens\n",
    "        token_to_id: a dictionary mapping each word to an index in the vocabulary\n",
    "\n",
    "    Returns:: a numpy array of size vocab_size with the counts of each word in the vocabulary\n",
    "\n",
    "    \"\"\"\n",
    "    vocab_size = len(token_to_id)\n",
    "    bow = np.zeros(vocab_size, dtype=int)\n",
    "\n",
    "    ### YOUR CODE HERE\n",
    "\n",
    "    for token in sentence:\n",
    "        if token in token_to_id:\n",
    "            bow[token_to_id[token]] += 1\n",
    "\n",
    "    ### YOUR CODE ENDS HERE\n",
    "\n",
    "    return bow"
   ],
   "metadata": {
    "collapsed": false,
    "pycharm": {
     "name": "#%%\n"
    },
    "ExecuteTime": {
     "end_time": "2025-04-16T15:18:07.981962Z",
     "start_time": "2025-04-16T15:18:07.979207Z"
    }
   },
   "outputs": [],
   "execution_count": 22
  },
  {
   "cell_type": "markdown",
   "source": [
    "Let's see how the function works on a single sentence. The output should be a numpy array of size `vocab_size` with the counts of each word in the vocabulary."
   ],
   "metadata": {
    "collapsed": false,
    "pycharm": {
     "name": "#%% md\n"
    }
   }
  },
  {
   "cell_type": "code",
   "source": [
    "print('Tokenized sentence:')\n",
    "print(tokenized_sentences[0])\n",
    "sentence_bow = bag_of_words(tokenized_sentences[0], token_to_id)\n",
    "\n",
    "print('Bag of words:')\n",
    "print(sentence_bow)\n",
    "print('Type of bag of words:')\n",
    "print(type(sentence_bow))\n",
    "print('Shape of bag of words:')\n",
    "print(sentence_bow.shape)\n",
    "print('Non-zero elements in bag of words:')\n",
    "print(np.nonzero(sentence_bow)[0])"
   ],
   "metadata": {
    "collapsed": false,
    "pycharm": {
     "name": "#%%\n"
    },
    "ExecuteTime": {
     "end_time": "2025-04-16T15:18:07.999657Z",
     "start_time": "2025-04-16T15:18:07.991061Z"
    }
   },
   "outputs": [
    {
     "name": "stdout",
     "output_type": "stream",
     "text": [
      "Tokenized sentence:\n",
      "['PN', 'deputy', 'leader', 'Simon', 'Busuttil', 'keeps', 'up', 'pressure', 'Labour', 'over', 'Anglu', 'Farrugia', 'interview', 'insists', 'PL', '``', 'morally', 'bankrupt', \"''\"]\n",
      "Bag of words:\n",
      "[1 1 0 ... 0 0 0]\n",
      "Type of bag of words:\n",
      "<class 'numpy.ndarray'>\n",
      "Shape of bag of words:\n",
      "(10000,)\n",
      "Non-zero elements in bag of words:\n",
      "[   0    1   18   20  242  931  978 1808 1933 2538 2745 4308 8516]\n"
     ]
    }
   ],
   "execution_count": 23
  },
  {
   "cell_type": "markdown",
   "source": [
    "We can also check in detail what words and their counts are in the bag-of-words representation."
   ],
   "metadata": {
    "collapsed": false,
    "pycharm": {
     "name": "#%% md\n"
    }
   }
  },
  {
   "cell_type": "code",
   "source": [
    "sentence_non_zero_bow = np.nonzero(sentence_bow)[0]\n",
    "print('Non-zero elements in bag of words:')\n",
    "print(sentence_non_zero_bow)\n",
    "for i in sentence_non_zero_bow:\n",
    "    print(vocab[i][0], ':', sentence_bow[i])"
   ],
   "metadata": {
    "collapsed": false,
    "pycharm": {
     "name": "#%%\n"
    },
    "ExecuteTime": {
     "end_time": "2025-04-16T15:18:08.090832Z",
     "start_time": "2025-04-16T15:18:08.087113Z"
    }
   },
   "outputs": [
    {
     "name": "stdout",
     "output_type": "stream",
     "text": [
      "Non-zero elements in bag of words:\n",
      "[   0    1   18   20  242  931  978 1808 1933 2538 2745 4308 8516]\n",
      "'' : 1\n",
      "`` : 1\n",
      "over : 1\n",
      "up : 1\n",
      "leader : 1\n",
      "pressure : 1\n",
      "interview : 1\n",
      "Simon : 1\n",
      "deputy : 1\n",
      "Labour : 1\n",
      "insists : 1\n",
      "keeps : 1\n",
      "bankrupt : 1\n"
     ]
    }
   ],
   "execution_count": 24
  },
  {
   "cell_type": "markdown",
   "source": [
    "The following function will apply all the steps we implemented to a single sentence. It returns a bag of words representation that we will use to calculate the similarity between different sentences."
   ],
   "metadata": {
    "collapsed": false,
    "pycharm": {
     "name": "#%% md\n"
    }
   }
  },
  {
   "cell_type": "code",
   "source": [
    "def embed_text(text, clean_fn, tokenize_fn, embed_fn):\n",
    "    cleaned = clean_fn(text)\n",
    "    tokens = tokenize_fn(cleaned)\n",
    "    embedding = embed_fn(tokens)\n",
    "    return embedding"
   ],
   "metadata": {
    "collapsed": false,
    "pycharm": {
     "name": "#%%\n"
    },
    "ExecuteTime": {
     "end_time": "2025-04-16T15:18:08.181303Z",
     "start_time": "2025-04-16T15:18:08.178766Z"
    }
   },
   "outputs": [],
   "execution_count": 25
  },
  {
   "cell_type": "markdown",
   "source": [
    "<a name='e5'></a>\n",
    "### Exercise 5: Cosine Similarity between two vectors\n",
    "\n",
    "(1p) Complete the following function that given any two vectors will compute the cosine similarity. If you don't remember the formula for the cosine similarity, revisit the course material. Notice that the function receives numpy arrays and recall that you can express cosine similarity as a dot product. Use numpy functions to write an efficient implementation."
   ],
   "metadata": {
    "collapsed": false,
    "pycharm": {
     "name": "#%% md\n"
    }
   }
  },
  {
   "cell_type": "code",
   "source": [
    "def cosine_similarity(vector1, vector2):\n",
    "    \"\"\"\n",
    "    Computes the cosine similarity between two vectors\n",
    "    Args:\n",
    "        vector1: numpy array of the first vector\n",
    "        vector2: numpy array of the second vector\n",
    "\n",
    "    Returns: cosine similarity\n",
    "\n",
    "    \"\"\"\n",
    "    ### YOUR CODE HERE\n",
    "\n",
    "    cosine = np.dot(vector1, vector2)/(np.linalg.norm(vector1) * np.linalg.norm(vector2))\n",
    "    return cosine\n",
    "\n",
    "    ### YOUR CODE ENDS HERE"
   ],
   "metadata": {
    "collapsed": false,
    "pycharm": {
     "name": "#%%\n"
    },
    "ExecuteTime": {
     "end_time": "2025-04-16T15:18:08.280096Z",
     "start_time": "2025-04-16T15:18:08.276808Z"
    }
   },
   "outputs": [],
   "execution_count": 26
  },
  {
   "cell_type": "code",
   "source": [
    "cosine_similarity(np.array([0, 1, 2]), np.array([0, 2, 4]))"
   ],
   "metadata": {
    "collapsed": false,
    "pycharm": {
     "name": "#%%\n"
    },
    "ExecuteTime": {
     "end_time": "2025-04-16T15:18:08.434455Z",
     "start_time": "2025-04-16T15:18:08.409042Z"
    }
   },
   "outputs": [
    {
     "data": {
      "text/plain": [
       "0.9999999999999998"
      ]
     },
     "execution_count": 27,
     "metadata": {},
     "output_type": "execute_result"
    }
   ],
   "execution_count": 27
  },
  {
   "cell_type": "code",
   "source": [
    "sentences = [\n",
    "    'The quick brown fox jumps over the lazy dog.',\n",
    "    'Some interesting document containing sentences.',\n",
    "    'The quick brown fox jumps over the lazy cat and some other stuff.',\n",
    "    'Fox and deer are not friends.',\n",
    "    'fox and deer',\n",
    "    'Fox and deer are not friends. But this document is a lot longer than the previous one. We can add sentence by sentence and see how the embeddings change.',\n",
    "]\n",
    "embedded_sentences = [\n",
    "    embed_text(sentence, clean, tokenize, lambda x: bag_of_words(x, token_to_id))\n",
    "    for sentence in sentences\n",
    "]\n",
    "\n",
    "query = 'fox and deer'\n",
    "embedded_query = embed_text(query, clean, tokenize, lambda x: bag_of_words(x, token_to_id))\n",
    "\n",
    "cosine_similarities = [\n",
    "    cosine_similarity(embedded_query, embedded_sentence)\n",
    "    for embedded_sentence in embedded_sentences\n",
    "]\n",
    "print(f'Query: {query}')\n",
    "for sent, cos_sim in zip(sentences, cosine_similarities):\n",
    "    print(f'Cosine Similarity: {cos_sim:.4f} - Sentence: {sent}')\n",
    "\n",
    "\n",
    "sent = tokenize('The quick brown fox jumps over the lazy dog.')\n",
    "vec = bag_of_words(sent, token_to_id)\n",
    "vec2 = bag_of_words(query, token_to_id)\n",
    "print(cosine_similarity(vec, vec2))\n",
    "print('fox' in token_to_id)"
   ],
   "metadata": {
    "collapsed": false,
    "pycharm": {
     "name": "#%%\n"
    },
    "ExecuteTime": {
     "end_time": "2025-04-16T20:40:02.825986Z",
     "start_time": "2025-04-16T20:40:02.768881Z"
    }
   },
   "outputs": [
    {
     "name": "stdout",
     "output_type": "stream",
     "text": [
      "Query: fox and deer\n",
      "Cosine Similarity: 0.0000 - Sentence: The quick brown fox jumps over the lazy dog.\n",
      "Cosine Similarity: 0.0000 - Sentence: Some interesting document containing sentences.\n",
      "Cosine Similarity: 0.0000 - Sentence: The quick brown fox jumps over the lazy cat and some other stuff.\n",
      "Cosine Similarity: 0.4472 - Sentence: Fox and deer are not friends.\n",
      "Cosine Similarity: 1.0000 - Sentence: fox and deer\n",
      "Cosine Similarity: 0.2085 - Sentence: Fox and deer are not friends. But this document is a lot longer than the previous one. We can add sentence by sentence and see how the embeddings change.\n",
      "0.0\n",
      "False\n"
     ]
    }
   ],
   "execution_count": 125
  },
  {
   "cell_type": "markdown",
   "source": [
    "We will apply the function to the whole dataset. This might take a while, so be patient. The result will be stored in the `sentence_bow` and `compressed_bow` fields of the dataset."
   ],
   "metadata": {
    "collapsed": false,
    "pycharm": {
     "name": "#%% md\n"
    }
   }
  },
  {
   "cell_type": "code",
   "source": [
    "def bag_of_words_dataset(example):\n",
    "    \"\"\"\n",
    "    Creates a bag-of-words representation of the sentence and compressed sentence in the example from the Dataset\n",
    "    Args:\n",
    "        example: an example from the Dataset\n",
    "\n",
    "    Returns: updated example with 'sentence_bow' and 'compressed_bow' columns\n",
    "\n",
    "    \"\"\"\n",
    "    sentence_tokens = example['sentence_tokens']\n",
    "    compressed_tokens = example['compressed_tokens']\n",
    "\n",
    "    sentence_bow = bag_of_words(sentence_tokens, token_to_id)\n",
    "    compressed_bow = bag_of_words(compressed_tokens, token_to_id)\n",
    "\n",
    "    example['sentence_bow'] = sentence_bow\n",
    "    example['compressed_bow'] = compressed_bow\n",
    "    return example"
   ],
   "metadata": {
    "collapsed": false,
    "pycharm": {
     "name": "#%%\n"
    },
    "ExecuteTime": {
     "end_time": "2025-04-16T15:18:08.764923Z",
     "start_time": "2025-04-16T15:18:08.762320Z"
    }
   },
   "outputs": [],
   "execution_count": 29
  },
  {
   "cell_type": "markdown",
   "source": [
    "The following cell will apply the function to the whole dataset. The result will be stored in the `sentence_bow` and `compressed_bow` fields of the dataset. We will also convert the dataset's fields `sentence_bow` and `compressed_bow` to numpy format for easier manipulation."
   ],
   "metadata": {
    "collapsed": false,
    "pycharm": {
     "name": "#%% md\n"
    }
   }
  },
  {
   "cell_type": "code",
   "source": [
    "test_ds = split_ds['test'].map(bag_of_words_dataset)\n",
    "test_ds = test_ds.with_format('np', columns=['sentence_bow', 'compressed_bow'], dtype=float)\n",
    "print(test_ds)"
   ],
   "metadata": {
    "collapsed": false,
    "pycharm": {
     "name": "#%%\n"
    },
    "ExecuteTime": {
     "end_time": "2025-04-16T15:18:18.416359Z",
     "start_time": "2025-04-16T15:18:08.774495Z"
    }
   },
   "outputs": [
    {
     "name": "stderr",
     "output_type": "stream",
     "text": [
      "Map: 100%|██████████| 36000/36000 [00:09<00:00, 3744.30 examples/s]"
     ]
    },
    {
     "name": "stdout",
     "output_type": "stream",
     "text": [
      "Dataset({\n",
      "    features: ['set', 'clean_sentence', 'clean_compressed', 'sentence_tokens', 'compressed_tokens', 'sentence_bow', 'compressed_bow'],\n",
      "    num_rows: 36000\n",
      "})\n"
     ]
    },
    {
     "name": "stderr",
     "output_type": "stream",
     "text": [
      "\n"
     ]
    }
   ],
   "execution_count": 30
  },
  {
   "cell_type": "markdown",
   "source": [
    "Let's check the results. The `sentence_bow` and `compressed_bow` fields should contain the bag-of-words representation of the sentences and compressed sentences, respectively."
   ],
   "metadata": {
    "collapsed": false,
    "pycharm": {
     "name": "#%% md\n"
    }
   }
  },
  {
   "cell_type": "code",
   "source": [
    "print(test_ds[0])"
   ],
   "metadata": {
    "collapsed": false,
    "pycharm": {
     "name": "#%%\n"
    },
    "ExecuteTime": {
     "end_time": "2025-04-16T15:18:18.577429Z",
     "start_time": "2025-04-16T15:18:18.535695Z"
    }
   },
   "outputs": [
    {
     "name": "stdout",
     "output_type": "stream",
     "text": [
      "{'sentence_bow': array([0., 0., 0., ..., 0., 0., 0.]), 'compressed_bow': array([0., 0., 0., ..., 0., 0., 0.])}\n"
     ]
    }
   ],
   "execution_count": 31
  },
  {
   "cell_type": "code",
   "source": [
    "sentences_bows = test_ds['sentence_bow']\n",
    "print(sentences_bows.shape)"
   ],
   "metadata": {
    "collapsed": false,
    "pycharm": {
     "name": "#%%\n"
    },
    "ExecuteTime": {
     "end_time": "2025-04-16T15:18:28.984576Z",
     "start_time": "2025-04-16T15:18:18.669320Z"
    }
   },
   "outputs": [
    {
     "name": "stdout",
     "output_type": "stream",
     "text": [
      "(36000, 10000)\n"
     ]
    }
   ],
   "execution_count": 32
  },
  {
   "cell_type": "markdown",
   "source": [
    "Now we can start building a retriever based on the bag of words representation. The first step is to calculate the cosine similarity between two vectors."
   ],
   "metadata": {
    "collapsed": false,
    "pycharm": {
     "name": "#%% md\n"
    }
   }
  },
  {
   "cell_type": "markdown",
   "source": [
    "<a name='e6'></a>\n",
    "### Exercise 6: Cosine Similarity between a vector and an array of vectors\n",
    "\n",
    "(2p) The next step in our retrieval system, would be to calculate the proximity of a query to our retrieval corpus (in our case that is all the sentences).\n",
    "\n",
    "Complete the following function to calculate the cosine similarity between a vector (first parameter `vector`, that will usually be the query vector) and all other vectors (second parameter `other_vectors`, that will be the sentence embeddings in our case). Note that the `other_vectors` parameter is a single numpy array of size `N x D`, where $N$ is the number of vectors and $D$ is the dimension of each vector.\n",
    "\n",
    "For maximum efficiency (we will need it) do not use loops. Try to write the implementation with numpy functions. Hint: matrix multiplication can be seen as calculating the dot product between rows and columns of the multiplied matrices."
   ],
   "metadata": {
    "collapsed": false,
    "pycharm": {
     "name": "#%% md\n"
    }
   }
  },
  {
   "cell_type": "code",
   "metadata": {
    "id": "LgaV2b3fpSOR",
    "pycharm": {
     "name": "#%%\n"
    },
    "ExecuteTime": {
     "end_time": "2025-04-16T15:18:29.113545Z",
     "start_time": "2025-04-16T15:18:29.110185Z"
    }
   },
   "source": [
    "def cosine_similarity_1_to_n(vector, other_vectors):\n",
    "    \"\"\"\n",
    "    Calculates the cosine similarity between a single vector and other vectors.\n",
    "    Args:\n",
    "        vector: a numpy array representing a vector of D dimensions\n",
    "        other_vectors: a 2D numpy array representing other vectors (of the size NxD, where N is the number of vectors and D is their dimension)\n",
    "\n",
    "    Returns: a 1D numpy array of size N containing the cosine similarity between the vector and all the other vectors\n",
    "\n",
    "    \"\"\"\n",
    "\n",
    "    #### YOUR CODE HERE\n",
    "\n",
    "    matrix_multiplication = other_vectors @ vector\n",
    "    norms = np.linalg.norm(other_vectors, axis=1) * np.linalg.norm(vector)\n",
    "    return matrix_multiplication / (norms+1e-10) # divide by 0 error\n",
    "\n",
    "    ### YOUR CODE ENDS HERE"
   ],
   "outputs": [],
   "execution_count": 33
  },
  {
   "cell_type": "markdown",
   "metadata": {
    "collapsed": false,
    "id": "irNqAJZLpSOR",
    "pycharm": {
     "name": "#%% md\n"
    }
   },
   "source": [
    "We will use the function to calculate the similarity of all sentences in the dataset to our query."
   ]
  },
  {
   "cell_type": "code",
   "source": [
    "query = 'fox and deer'\n",
    "embedded_query = embed_text(query, clean, tokenize, lambda x: bag_of_words(x, token_to_id))"
   ],
   "metadata": {
    "collapsed": false,
    "pycharm": {
     "name": "#%%\n"
    },
    "ExecuteTime": {
     "end_time": "2025-04-16T15:18:29.191204Z",
     "start_time": "2025-04-16T15:18:29.188513Z"
    }
   },
   "outputs": [],
   "execution_count": 34
  },
  {
   "cell_type": "code",
   "metadata": {
    "id": "uD9mVAhYpSOR",
    "pycharm": {
     "name": "#%%\n"
    },
    "ExecuteTime": {
     "end_time": "2025-04-16T15:18:32.036931Z",
     "start_time": "2025-04-16T15:18:29.260878Z"
    }
   },
   "source": [
    "query_similarity = cosine_similarity_1_to_n(embedded_query, sentences_bows)\n",
    "print(query_similarity.shape)\n",
    "print(query_similarity[:10])\n",
    "matrix =  sentences_bows @ embedded_query\n",
    "print(matrix[6471])"
   ],
   "outputs": [
    {
     "name": "stdout",
     "output_type": "stream",
     "text": [
      "(36000,)\n",
      "[0. 0. 0. 0. 0. 0. 0. 0. 0. 0.]\n",
      "0.0\n"
     ]
    }
   ],
   "execution_count": 35
  },
  {
   "metadata": {
    "ExecuteTime": {
     "end_time": "2025-04-16T15:18:32.387703Z",
     "start_time": "2025-04-16T15:18:32.385190Z"
    }
   },
   "cell_type": "code",
   "source": "print(tokenized_sentences[3])",
   "outputs": [
    {
     "name": "stdout",
     "output_type": "stream",
     "text": [
      "['premature', 'baby', 'blood', 'infection', 'killed', 'another', 'baby', 'earlier', 'this', 'week', 'said', 'be', 'doing', 'well']\n"
     ]
    }
   ],
   "execution_count": 36
  },
  {
   "cell_type": "markdown",
   "metadata": {
    "collapsed": false,
    "id": "_l3erVTNpSOR",
    "pycharm": {
     "name": "#%% md\n"
    }
   },
   "source": [
    "The following cell will select the most similar sentence."
   ]
  },
  {
   "cell_type": "code",
   "metadata": {
    "id": "0wWa4AWHpSOR",
    "pycharm": {
     "name": "#%%\n"
    },
    "ExecuteTime": {
     "end_time": "2025-04-16T15:18:32.486745Z",
     "start_time": "2025-04-16T15:18:32.474238Z"
    }
   },
   "source": [
    "most_similar = int(np.argmax(query_similarity))\n",
    "print(most_similar)\n",
    "print(query_similarity[most_similar])\n",
    "print(split_ds['test'][most_similar]['set'][0])\n",
    "print(\"Dot product:\", np.dot(embedded_query, sentences_bows[6471]))\n",
    "print(\"Query norm:\", np.linalg.norm(embedded_query))\n",
    "print(\"Target norm:\", np.linalg.norm(sentences_bows[6471]))\n",
    "print(\"Expected cosine:\", np.dot(embedded_query, sentences_bows[6471]) /\n",
    "                          (np.linalg.norm(embedded_query) * np.linalg.norm(sentences_bows[6471])))\n",
    "print(\"Actual cosine:\", query_similarity[6471])"
   ],
   "outputs": [
    {
     "name": "stdout",
     "output_type": "stream",
     "text": [
      "23597\n",
      "0.35355339058077373\n",
      "A hunter was found dead in a deer stand in the Conecuh National Forest Thursday.\n",
      "Dot product: 0.0\n",
      "Query norm: 1.0\n",
      "Target norm: 4.47213595499958\n",
      "Expected cosine: 0.0\n",
      "Actual cosine: 0.0\n"
     ]
    }
   ],
   "execution_count": 37
  },
  {
   "cell_type": "markdown",
   "metadata": {
    "collapsed": false,
    "id": "fpdJHFD1pSOR",
    "pycharm": {
     "name": "#%% md\n"
    }
   },
   "source": [
    "The following function will return the indices of the top-k elements in the array."
   ]
  },
  {
   "cell_type": "code",
   "metadata": {
    "id": "QFUNI9elpSOS",
    "pycharm": {
     "name": "#%%\n"
    },
    "ExecuteTime": {
     "end_time": "2025-04-16T15:18:32.494265Z",
     "start_time": "2025-04-16T15:18:32.491411Z"
    }
   },
   "source": [
    "def top_k_indices(array, k, sorted=True):\n",
    "    \"\"\"\n",
    "    Returns top-k indices from the 1D array. If `sorted` is `True` the returned indices are sorted in the descending order\n",
    "    Args:\n",
    "        array: a 1D numpy array\n",
    "        k: a number of top indices to return\n",
    "        sorted: if True, the returned indices are sorted in descending order\n",
    "\n",
    "    Returns: a 1D array containing top-k indices\n",
    "\n",
    "    \"\"\"\n",
    "    top_k = np.argpartition(array, -k)[-k:]\n",
    "    if sorted:\n",
    "        selected = array[top_k]\n",
    "        sorted_selected = (-selected).argsort()\n",
    "        top_k = top_k[sorted_selected]\n",
    "    return top_k"
   ],
   "outputs": [],
   "execution_count": 38
  },
  {
   "cell_type": "code",
   "metadata": {
    "id": "nY8vvJdepSOS",
    "pycharm": {
     "name": "#%%\n"
    },
    "ExecuteTime": {
     "end_time": "2025-04-16T15:18:32.668297Z",
     "start_time": "2025-04-16T15:18:32.655464Z"
    }
   },
   "source": [
    "top_indices = top_k_indices(query_similarity, k=10).tolist()\n",
    "for idx in top_indices:\n",
    "    print(split_ds['test'][idx]['set'][0])\n",
    "    print(f'similarity: {query_similarity[idx]}')"
   ],
   "outputs": [
    {
     "name": "stdout",
     "output_type": "stream",
     "text": [
      "A hunter was found dead in a deer stand in the Conecuh National Forest Thursday.\n",
      "similarity: 0.35355339058077373\n",
      "What time of the day is best for hunting deer during a full moon?\n",
      "similarity: 0.3333333333222222\n",
      "Drivers in the Borders and south of Scotland are being warned to watch out for deer on the road.\n",
      "similarity: 0.3333333333222222\n",
      "Missouri lawmakers will spend their summer and fall studying Medicaid, elections and a disease that afflicts deer.\n",
      "similarity: 0.2886751345864796\n",
      "Actor Kyle Chandler rescued a newborn deer after he found it caught up in a cactus patch on his Texas ranch.\n",
      "similarity: 0.2886751345864796\n",
      "State wildlife officials have approved a November primitive weapon deer season to be held in November.\n",
      "similarity: 0.26726124190528155\n",
      "AP Sports Writer Vijay Singh has withdrawn from the Phoenix Open, a day after saying he used deer-antler spray.\n",
      "similarity: 0.26726124190528155\n",
      "A 70-year-old Clinton Township man sitting in his home was shot in the abdomen Thursday by a stray shotgun slug fired by a hunter shooting at a deer.\n",
      "similarity: 0.26726124190528155\n",
      "A white-tailed deer on a Portage County hunting preserve has tested positive for chronic wasting disease, State Veterinarian Dr. Robert Ehlenfeldt announced today\n",
      "similarity: 0.26726124190528155\n",
      "At least three Wisconsin hunters have died of natural causes since the weekend opening of the state's gun-deer hunt.\n",
      "similarity: 0.25819888974049443\n"
     ]
    }
   ],
   "execution_count": 39
  },
  {
   "cell_type": "markdown",
   "metadata": {
    "collapsed": false,
    "id": "BuRI2JzQpSOS",
    "pycharm": {
     "name": "#%% md\n"
    }
   },
   "source": [
    "<a name='e7'></a>\n",
    "### Exercise 7: Analyzing and improving BOW search results\n",
    "\n",
    "Experiment with different queries (taking into account the nature of the dataset and your insights from the analysis so far).\n",
    "Answer the following questions:\n",
    "- (5p) Does the search perform well? When does it fail? Discuss several examples that are we get an expected but also unexpected results (find at least 3 from each category). Provide reasons for the good/bad result in each case (e.g. is there some error in the data, is there some linguistic phenomenon that we don't capture, is something wrong with our modeling with average embeddings, ...)\n",
    "- (5p) If you see problems with search, how could you improve your implementation? Change the functions above, if you think there is room for improvement. Describe your changes and how they made the search better or (in case you made no changes) explain what made the search robust enough to work well."
   ]
  },
  {
   "cell_type": "code",
   "metadata": {
    "id": "sEQKHAvcpSOS",
    "pycharm": {
     "name": "#%%\n"
    },
    "ExecuteTime": {
     "end_time": "2025-04-16T15:18:32.673353Z",
     "start_time": "2025-04-16T15:18:32.671958Z"
    }
   },
   "source": [
    "#### YOUR CODE HERE\n",
    "\n",
    "\n",
    "\n",
    "\n",
    "### YOUR CODE ENDS HERE"
   ],
   "outputs": [],
   "execution_count": 40
  },
  {
   "cell_type": "markdown",
   "metadata": {
    "id": "eiIGTfq6eFI5",
    "pycharm": {
     "name": "#%% md\n"
    }
   },
   "source": [
    "// your comments"
   ]
  },
  {
   "cell_type": "markdown",
   "source": [
    "## 3. Term Frequency - Inverse Document Frequency (TF-IDF)\n",
    "\n",
    "In this section we will implement the TF-IDF algorithm. While BOW is a simple way to represent the documents, it has some limitations. For example, it does not take into account the importance of each word in the document. TF-IDF representation takes into account the frequency of each word in the document and the frequency of the word in the whole dataset. It is a widely used technique in information retrieval and text mining. Refer to the lecture slides for more details."
   ],
   "metadata": {
    "collapsed": false,
    "pycharm": {
     "name": "#%% md\n"
    }
   }
  },
  {
   "cell_type": "markdown",
   "source": [
    "<a name='e8'></a>\n",
    "### Exercise 8: Inverse Document Frequency (IDF)\n",
    "(5p) In this exercise, you will implement the TF-IDF algorithm. First, calculate Inverse Document Frequency (IDF) for each word in the vocabulary. Intuitively, it is a measure of how informative a word is based on the whole dataset. Consult the lecture slides for the details. The IDF is calculated as follows:\n",
    "$$\n",
    "IDF(t) = log_{10}(N/df(t))$$\n",
    "where $N$ is the total number of documents (sentences) in the dataset and $df(t)$ is the number of documents containing the word $t$.\n"
   ],
   "metadata": {
    "collapsed": false,
    "pycharm": {
     "name": "#%% md\n"
    }
   }
  },
  {
   "cell_type": "code",
   "source": [
    "def calculate_idf(bows):\n",
    "    \"\"\"\n",
    "    Calculates the IDF for each word in the vocabulary\n",
    "    Args:\n",
    "        bows: numpy array of size (N x D) where N is the number of documents and D is the vocabulary size\n",
    "\n",
    "    Returns: a numpy array of size D with IDF values for each token\n",
    "    \"\"\"\n",
    "\n",
    "    ### YOUR CODE HERE\n",
    "\n",
    "    N = bows.shape[0]\n",
    "    df = np.count_nonzero(bows > 0, axis=0)\n",
    "    idf = np.log(N /(df+1)) # df+1 divide by 0 issues)\n",
    "\n",
    "    return idf\n",
    "\n",
    "\n",
    "    ### YOUR CODE ENDS HERE\n",
    "\n",
    "idf = calculate_idf(sentences_bows)"
   ],
   "metadata": {
    "collapsed": false,
    "pycharm": {
     "name": "#%%\n"
    },
    "ExecuteTime": {
     "end_time": "2025-04-16T15:18:33.873302Z",
     "start_time": "2025-04-16T15:18:32.810666Z"
    }
   },
   "outputs": [],
   "execution_count": 41
  },
  {
   "cell_type": "markdown",
   "source": [
    "<a name='e9'></a>\n",
    "### Exercise 9: TF-IDF\n",
    "- (5p) Calculate TF-IDF on the `test` subset of the dataset.\n",
    "- (5p) Analyze the search results based on your implemented TF-IDF. Does the search perform well? When does it fail? Discuss several examples that are we get an expected but also unexpected results (find at least 3 from each category). Provide reasons for the good/bad result in each case (e.g. is there some error in the data, is there some linguistic phenomenon that we don't capture, is something wrong with our modeling with average embeddings, ...)\n",
    "- (5p) Compare the results with the ones you got with the bag-of-words representation. Discuss the differences and similarities. Do you think TF-IDF is a better representation for this task? Why or why not? Provide examples to support your arguments.\n"
   ],
   "metadata": {
    "collapsed": false,
    "pycharm": {
     "name": "#%% md\n"
    }
   }
  },
  {
   "cell_type": "code",
   "source": [
    "### YOUR CODE HERE\n",
    "\n",
    "\n",
    "\n",
    "\n",
    "### YOUR CODE ENDS HERE\n",
    "\n",
    "### YOU CAN ADD MORE CELLS"
   ],
   "metadata": {
    "collapsed": false,
    "pycharm": {
     "name": "#%%\n"
    },
    "ExecuteTime": {
     "end_time": "2025-04-16T15:18:33.891667Z",
     "start_time": "2025-04-16T15:18:33.889143Z"
    }
   },
   "outputs": [],
   "execution_count": 42
  },
  {
   "cell_type": "markdown",
   "source": [
    "// your comments"
   ],
   "metadata": {
    "collapsed": false,
    "pycharm": {
     "name": "#%% md\n"
    }
   }
  },
  {
   "cell_type": "markdown",
   "source": [
    "## 4. Word Embeddings\n",
    "\n",
    "In this section you will load the pre-trained word embeddings model - Glove. You can read more about it [here](https://aclanthology.org/D14-1162/) ([https://aclanthology.org/D14-1162/](https://aclanthology.org/D14-1162/)). The embeddings are trained on a large corpus of text and are available in different dimensions. We will start with the dimension of 100, but later you will be asked to experiment with other dimensions.\n",
    "Gensim library maintains a storage containing some pre-trained models. You can read more about it [here](https://github.com/piskvorky/gensim-data) ([https://github.com/piskvorky/gensim-data](https://github.com/piskvorky/gensim-data)). Be sure to read the README of this repository.\n",
    "\n",
    "Let's first load the info of what models are available."
   ],
   "metadata": {
    "collapsed": false,
    "pycharm": {
     "name": "#%% md\n"
    }
   }
  },
  {
   "cell_type": "code",
   "source": [
    "import json\n",
    "import gensim.downloader as api\n",
    "\n",
    "info = api.info()  # show info about available models/datasets\n",
    "print(json.dumps(info['models'], indent=2))"
   ],
   "metadata": {
    "collapsed": false,
    "pycharm": {
     "name": "#%%\n"
    },
    "ExecuteTime": {
     "end_time": "2025-04-16T15:18:34.260635Z",
     "start_time": "2025-04-16T15:18:34.095184Z"
    }
   },
   "outputs": [
    {
     "name": "stdout",
     "output_type": "stream",
     "text": [
      "{\n",
      "  \"fasttext-wiki-news-subwords-300\": {\n",
      "    \"num_records\": 999999,\n",
      "    \"file_size\": 1005007116,\n",
      "    \"base_dataset\": \"Wikipedia 2017, UMBC webbase corpus and statmt.org news dataset (16B tokens)\",\n",
      "    \"reader_code\": \"https://github.com/RaRe-Technologies/gensim-data/releases/download/fasttext-wiki-news-subwords-300/__init__.py\",\n",
      "    \"license\": \"https://creativecommons.org/licenses/by-sa/3.0/\",\n",
      "    \"parameters\": {\n",
      "      \"dimension\": 300\n",
      "    },\n",
      "    \"description\": \"1 million word vectors trained on Wikipedia 2017, UMBC webbase corpus and statmt.org news dataset (16B tokens).\",\n",
      "    \"read_more\": [\n",
      "      \"https://fasttext.cc/docs/en/english-vectors.html\",\n",
      "      \"https://arxiv.org/abs/1712.09405\",\n",
      "      \"https://arxiv.org/abs/1607.01759\"\n",
      "    ],\n",
      "    \"checksum\": \"de2bb3a20c46ce65c9c131e1ad9a77af\",\n",
      "    \"file_name\": \"fasttext-wiki-news-subwords-300.gz\",\n",
      "    \"parts\": 1\n",
      "  },\n",
      "  \"conceptnet-numberbatch-17-06-300\": {\n",
      "    \"num_records\": 1917247,\n",
      "    \"file_size\": 1225497562,\n",
      "    \"base_dataset\": \"ConceptNet, word2vec, GloVe, and OpenSubtitles 2016\",\n",
      "    \"reader_code\": \"https://github.com/RaRe-Technologies/gensim-data/releases/download/conceptnet-numberbatch-17-06-300/__init__.py\",\n",
      "    \"license\": \"https://github.com/commonsense/conceptnet-numberbatch/blob/master/LICENSE.txt\",\n",
      "    \"parameters\": {\n",
      "      \"dimension\": 300\n",
      "    },\n",
      "    \"description\": \"ConceptNet Numberbatch consists of state-of-the-art semantic vectors (also known as word embeddings) that can be used directly as a representation of word meanings or as a starting point for further machine learning. ConceptNet Numberbatch is part of the ConceptNet open data project. ConceptNet provides lots of ways to compute with word meanings, one of which is word embeddings. ConceptNet Numberbatch is a snapshot of just the word embeddings. It is built using an ensemble that combines data from ConceptNet, word2vec, GloVe, and OpenSubtitles 2016, using a variation on retrofitting.\",\n",
      "    \"read_more\": [\n",
      "      \"http://aaai.org/ocs/index.php/AAAI/AAAI17/paper/view/14972\",\n",
      "      \"https://github.com/commonsense/conceptnet-numberbatch\",\n",
      "      \"http://conceptnet.io/\"\n",
      "    ],\n",
      "    \"checksum\": \"fd642d457adcd0ea94da0cd21b150847\",\n",
      "    \"file_name\": \"conceptnet-numberbatch-17-06-300.gz\",\n",
      "    \"parts\": 1\n",
      "  },\n",
      "  \"word2vec-ruscorpora-300\": {\n",
      "    \"num_records\": 184973,\n",
      "    \"file_size\": 208427381,\n",
      "    \"base_dataset\": \"Russian National Corpus (about 250M words)\",\n",
      "    \"reader_code\": \"https://github.com/RaRe-Technologies/gensim-data/releases/download/word2vec-ruscorpora-300/__init__.py\",\n",
      "    \"license\": \"https://creativecommons.org/licenses/by/4.0/deed.en\",\n",
      "    \"parameters\": {\n",
      "      \"dimension\": 300,\n",
      "      \"window_size\": 10\n",
      "    },\n",
      "    \"description\": \"Word2vec Continuous Skipgram vectors trained on full Russian National Corpus (about 250M words). The model contains 185K words.\",\n",
      "    \"preprocessing\": \"The corpus was lemmatized and tagged with Universal PoS\",\n",
      "    \"read_more\": [\n",
      "      \"https://www.academia.edu/24306935/WebVectors_a_Toolkit_for_Building_Web_Interfaces_for_Vector_Semantic_Models\",\n",
      "      \"http://rusvectores.org/en/\",\n",
      "      \"https://github.com/RaRe-Technologies/gensim-data/issues/3\"\n",
      "    ],\n",
      "    \"checksum\": \"9bdebdc8ae6d17d20839dd9b5af10bc4\",\n",
      "    \"file_name\": \"word2vec-ruscorpora-300.gz\",\n",
      "    \"parts\": 1\n",
      "  },\n",
      "  \"word2vec-google-news-300\": {\n",
      "    \"num_records\": 3000000,\n",
      "    \"file_size\": 1743563840,\n",
      "    \"base_dataset\": \"Google News (about 100 billion words)\",\n",
      "    \"reader_code\": \"https://github.com/RaRe-Technologies/gensim-data/releases/download/word2vec-google-news-300/__init__.py\",\n",
      "    \"license\": \"not found\",\n",
      "    \"parameters\": {\n",
      "      \"dimension\": 300\n",
      "    },\n",
      "    \"description\": \"Pre-trained vectors trained on a part of the Google News dataset (about 100 billion words). The model contains 300-dimensional vectors for 3 million words and phrases. The phrases were obtained using a simple data-driven approach described in 'Distributed Representations of Words and Phrases and their Compositionality' (https://code.google.com/archive/p/word2vec/).\",\n",
      "    \"read_more\": [\n",
      "      \"https://code.google.com/archive/p/word2vec/\",\n",
      "      \"https://arxiv.org/abs/1301.3781\",\n",
      "      \"https://arxiv.org/abs/1310.4546\",\n",
      "      \"https://www.microsoft.com/en-us/research/publication/linguistic-regularities-in-continuous-space-word-representations/?from=http%3A%2F%2Fresearch.microsoft.com%2Fpubs%2F189726%2Frvecs.pdf\"\n",
      "    ],\n",
      "    \"checksum\": \"a5e5354d40acb95f9ec66d5977d140ef\",\n",
      "    \"file_name\": \"word2vec-google-news-300.gz\",\n",
      "    \"parts\": 1\n",
      "  },\n",
      "  \"glove-wiki-gigaword-50\": {\n",
      "    \"num_records\": 400000,\n",
      "    \"file_size\": 69182535,\n",
      "    \"base_dataset\": \"Wikipedia 2014 + Gigaword 5 (6B tokens, uncased)\",\n",
      "    \"reader_code\": \"https://github.com/RaRe-Technologies/gensim-data/releases/download/glove-wiki-gigaword-50/__init__.py\",\n",
      "    \"license\": \"http://opendatacommons.org/licenses/pddl/\",\n",
      "    \"parameters\": {\n",
      "      \"dimension\": 50\n",
      "    },\n",
      "    \"description\": \"Pre-trained vectors based on Wikipedia 2014 + Gigaword, 5.6B tokens, 400K vocab, uncased (https://nlp.stanford.edu/projects/glove/).\",\n",
      "    \"preprocessing\": \"Converted to w2v format with `python -m gensim.scripts.glove2word2vec -i <fname> -o glove-wiki-gigaword-50.txt`.\",\n",
      "    \"read_more\": [\n",
      "      \"https://nlp.stanford.edu/projects/glove/\",\n",
      "      \"https://nlp.stanford.edu/pubs/glove.pdf\"\n",
      "    ],\n",
      "    \"checksum\": \"c289bc5d7f2f02c6dc9f2f9b67641813\",\n",
      "    \"file_name\": \"glove-wiki-gigaword-50.gz\",\n",
      "    \"parts\": 1\n",
      "  },\n",
      "  \"glove-wiki-gigaword-100\": {\n",
      "    \"num_records\": 400000,\n",
      "    \"file_size\": 134300434,\n",
      "    \"base_dataset\": \"Wikipedia 2014 + Gigaword 5 (6B tokens, uncased)\",\n",
      "    \"reader_code\": \"https://github.com/RaRe-Technologies/gensim-data/releases/download/glove-wiki-gigaword-100/__init__.py\",\n",
      "    \"license\": \"http://opendatacommons.org/licenses/pddl/\",\n",
      "    \"parameters\": {\n",
      "      \"dimension\": 100\n",
      "    },\n",
      "    \"description\": \"Pre-trained vectors based on Wikipedia 2014 + Gigaword 5.6B tokens, 400K vocab, uncased (https://nlp.stanford.edu/projects/glove/).\",\n",
      "    \"preprocessing\": \"Converted to w2v format with `python -m gensim.scripts.glove2word2vec -i <fname> -o glove-wiki-gigaword-100.txt`.\",\n",
      "    \"read_more\": [\n",
      "      \"https://nlp.stanford.edu/projects/glove/\",\n",
      "      \"https://nlp.stanford.edu/pubs/glove.pdf\"\n",
      "    ],\n",
      "    \"checksum\": \"40ec481866001177b8cd4cb0df92924f\",\n",
      "    \"file_name\": \"glove-wiki-gigaword-100.gz\",\n",
      "    \"parts\": 1\n",
      "  },\n",
      "  \"glove-wiki-gigaword-200\": {\n",
      "    \"num_records\": 400000,\n",
      "    \"file_size\": 264336934,\n",
      "    \"base_dataset\": \"Wikipedia 2014 + Gigaword 5 (6B tokens, uncased)\",\n",
      "    \"reader_code\": \"https://github.com/RaRe-Technologies/gensim-data/releases/download/glove-wiki-gigaword-200/__init__.py\",\n",
      "    \"license\": \"http://opendatacommons.org/licenses/pddl/\",\n",
      "    \"parameters\": {\n",
      "      \"dimension\": 200\n",
      "    },\n",
      "    \"description\": \"Pre-trained vectors based on Wikipedia 2014 + Gigaword, 5.6B tokens, 400K vocab, uncased (https://nlp.stanford.edu/projects/glove/).\",\n",
      "    \"preprocessing\": \"Converted to w2v format with `python -m gensim.scripts.glove2word2vec -i <fname> -o glove-wiki-gigaword-200.txt`.\",\n",
      "    \"read_more\": [\n",
      "      \"https://nlp.stanford.edu/projects/glove/\",\n",
      "      \"https://nlp.stanford.edu/pubs/glove.pdf\"\n",
      "    ],\n",
      "    \"checksum\": \"59652db361b7a87ee73834a6c391dfc1\",\n",
      "    \"file_name\": \"glove-wiki-gigaword-200.gz\",\n",
      "    \"parts\": 1\n",
      "  },\n",
      "  \"glove-wiki-gigaword-300\": {\n",
      "    \"num_records\": 400000,\n",
      "    \"file_size\": 394362229,\n",
      "    \"base_dataset\": \"Wikipedia 2014 + Gigaword 5 (6B tokens, uncased)\",\n",
      "    \"reader_code\": \"https://github.com/RaRe-Technologies/gensim-data/releases/download/glove-wiki-gigaword-300/__init__.py\",\n",
      "    \"license\": \"http://opendatacommons.org/licenses/pddl/\",\n",
      "    \"parameters\": {\n",
      "      \"dimension\": 300\n",
      "    },\n",
      "    \"description\": \"Pre-trained vectors based on Wikipedia 2014 + Gigaword, 5.6B tokens, 400K vocab, uncased (https://nlp.stanford.edu/projects/glove/).\",\n",
      "    \"preprocessing\": \"Converted to w2v format with `python -m gensim.scripts.glove2word2vec -i <fname> -o glove-wiki-gigaword-300.txt`.\",\n",
      "    \"read_more\": [\n",
      "      \"https://nlp.stanford.edu/projects/glove/\",\n",
      "      \"https://nlp.stanford.edu/pubs/glove.pdf\"\n",
      "    ],\n",
      "    \"checksum\": \"29e9329ac2241937d55b852e8284e89b\",\n",
      "    \"file_name\": \"glove-wiki-gigaword-300.gz\",\n",
      "    \"parts\": 1\n",
      "  },\n",
      "  \"glove-twitter-25\": {\n",
      "    \"num_records\": 1193514,\n",
      "    \"file_size\": 109885004,\n",
      "    \"base_dataset\": \"Twitter (2B tweets, 27B tokens, 1.2M vocab, uncased)\",\n",
      "    \"reader_code\": \"https://github.com/RaRe-Technologies/gensim-data/releases/download/glove-twitter-25/__init__.py\",\n",
      "    \"license\": \"http://opendatacommons.org/licenses/pddl/\",\n",
      "    \"parameters\": {\n",
      "      \"dimension\": 25\n",
      "    },\n",
      "    \"description\": \"Pre-trained vectors based on 2B tweets, 27B tokens, 1.2M vocab, uncased (https://nlp.stanford.edu/projects/glove/).\",\n",
      "    \"preprocessing\": \"Converted to w2v format with `python -m gensim.scripts.glove2word2vec -i <fname> -o glove-twitter-25.txt`.\",\n",
      "    \"read_more\": [\n",
      "      \"https://nlp.stanford.edu/projects/glove/\",\n",
      "      \"https://nlp.stanford.edu/pubs/glove.pdf\"\n",
      "    ],\n",
      "    \"checksum\": \"50db0211d7e7a2dcd362c6b774762793\",\n",
      "    \"file_name\": \"glove-twitter-25.gz\",\n",
      "    \"parts\": 1\n",
      "  },\n",
      "  \"glove-twitter-50\": {\n",
      "    \"num_records\": 1193514,\n",
      "    \"file_size\": 209216938,\n",
      "    \"base_dataset\": \"Twitter (2B tweets, 27B tokens, 1.2M vocab, uncased)\",\n",
      "    \"reader_code\": \"https://github.com/RaRe-Technologies/gensim-data/releases/download/glove-twitter-50/__init__.py\",\n",
      "    \"license\": \"http://opendatacommons.org/licenses/pddl/\",\n",
      "    \"parameters\": {\n",
      "      \"dimension\": 50\n",
      "    },\n",
      "    \"description\": \"Pre-trained vectors based on 2B tweets, 27B tokens, 1.2M vocab, uncased (https://nlp.stanford.edu/projects/glove/)\",\n",
      "    \"preprocessing\": \"Converted to w2v format with `python -m gensim.scripts.glove2word2vec -i <fname> -o glove-twitter-50.txt`.\",\n",
      "    \"read_more\": [\n",
      "      \"https://nlp.stanford.edu/projects/glove/\",\n",
      "      \"https://nlp.stanford.edu/pubs/glove.pdf\"\n",
      "    ],\n",
      "    \"checksum\": \"c168f18641f8c8a00fe30984c4799b2b\",\n",
      "    \"file_name\": \"glove-twitter-50.gz\",\n",
      "    \"parts\": 1\n",
      "  },\n",
      "  \"glove-twitter-100\": {\n",
      "    \"num_records\": 1193514,\n",
      "    \"file_size\": 405932991,\n",
      "    \"base_dataset\": \"Twitter (2B tweets, 27B tokens, 1.2M vocab, uncased)\",\n",
      "    \"reader_code\": \"https://github.com/RaRe-Technologies/gensim-data/releases/download/glove-twitter-100/__init__.py\",\n",
      "    \"license\": \"http://opendatacommons.org/licenses/pddl/\",\n",
      "    \"parameters\": {\n",
      "      \"dimension\": 100\n",
      "    },\n",
      "    \"description\": \"Pre-trained vectors based on  2B tweets, 27B tokens, 1.2M vocab, uncased (https://nlp.stanford.edu/projects/glove/)\",\n",
      "    \"preprocessing\": \"Converted to w2v format with `python -m gensim.scripts.glove2word2vec -i <fname> -o glove-twitter-100.txt`.\",\n",
      "    \"read_more\": [\n",
      "      \"https://nlp.stanford.edu/projects/glove/\",\n",
      "      \"https://nlp.stanford.edu/pubs/glove.pdf\"\n",
      "    ],\n",
      "    \"checksum\": \"b04f7bed38756d64cf55b58ce7e97b15\",\n",
      "    \"file_name\": \"glove-twitter-100.gz\",\n",
      "    \"parts\": 1\n",
      "  },\n",
      "  \"glove-twitter-200\": {\n",
      "    \"num_records\": 1193514,\n",
      "    \"file_size\": 795373100,\n",
      "    \"base_dataset\": \"Twitter (2B tweets, 27B tokens, 1.2M vocab, uncased)\",\n",
      "    \"reader_code\": \"https://github.com/RaRe-Technologies/gensim-data/releases/download/glove-twitter-200/__init__.py\",\n",
      "    \"license\": \"http://opendatacommons.org/licenses/pddl/\",\n",
      "    \"parameters\": {\n",
      "      \"dimension\": 200\n",
      "    },\n",
      "    \"description\": \"Pre-trained vectors based on 2B tweets, 27B tokens, 1.2M vocab, uncased (https://nlp.stanford.edu/projects/glove/).\",\n",
      "    \"preprocessing\": \"Converted to w2v format with `python -m gensim.scripts.glove2word2vec -i <fname> -o glove-twitter-200.txt`.\",\n",
      "    \"read_more\": [\n",
      "      \"https://nlp.stanford.edu/projects/glove/\",\n",
      "      \"https://nlp.stanford.edu/pubs/glove.pdf\"\n",
      "    ],\n",
      "    \"checksum\": \"e52e8392d1860b95d5308a525817d8f9\",\n",
      "    \"file_name\": \"glove-twitter-200.gz\",\n",
      "    \"parts\": 1\n",
      "  },\n",
      "  \"__testing_word2vec-matrix-synopsis\": {\n",
      "    \"description\": \"[THIS IS ONLY FOR TESTING] Word vecrors of the movie matrix.\",\n",
      "    \"parameters\": {\n",
      "      \"dimensions\": 50\n",
      "    },\n",
      "    \"preprocessing\": \"Converted to w2v using a preprocessed corpus. Converted to w2v format with `python3.5 -m gensim.models.word2vec -train <input_filename> -iter 50 -output <output_filename>`.\",\n",
      "    \"read_more\": [],\n",
      "    \"checksum\": \"534dcb8b56a360977a269b7bfc62d124\",\n",
      "    \"file_name\": \"__testing_word2vec-matrix-synopsis.gz\",\n",
      "    \"parts\": 1\n",
      "  }\n",
      "}\n"
     ]
    }
   ],
   "execution_count": 43
  },
  {
   "cell_type": "code",
   "source": [
    "glove_model = api.load(\"glove-wiki-gigaword-100\")"
   ],
   "metadata": {
    "collapsed": false,
    "pycharm": {
     "name": "#%%\n"
    },
    "ExecuteTime": {
     "end_time": "2025-04-16T15:18:44.565658Z",
     "start_time": "2025-04-16T15:18:34.274742Z"
    }
   },
   "outputs": [],
   "execution_count": 44
  },
  {
   "cell_type": "markdown",
   "source": [
    "We can use the loaded model's `key_to_index` attribute to retrieve the whole vocabulary (aka for how many words we learned embeddings for)."
   ],
   "metadata": {
    "collapsed": false,
    "pycharm": {
     "name": "#%% md\n"
    }
   }
  },
  {
   "cell_type": "code",
   "source": [
    "vocab = list(glove_model.key_to_index)\n",
    "print(len(vocab))"
   ],
   "metadata": {
    "collapsed": false,
    "pycharm": {
     "name": "#%%\n"
    },
    "ExecuteTime": {
     "end_time": "2025-04-16T15:18:44.770610Z",
     "start_time": "2025-04-16T15:18:44.764503Z"
    }
   },
   "outputs": [
    {
     "name": "stdout",
     "output_type": "stream",
     "text": [
      "400000\n"
     ]
    }
   ],
   "execution_count": 45
  },
  {
   "cell_type": "markdown",
   "source": [
    "Let's explore a bit further the embeddings. In the following cells, the embedding of a single word is returned. Double-check the dimensions (as sanity check). This is like inspecting the `W` matrix (weights) that we discussed in the lecture."
   ],
   "metadata": {
    "collapsed": false,
    "pycharm": {
     "name": "#%% md\n"
    }
   }
  },
  {
   "cell_type": "code",
   "source": [
    "# vector of a particular model. note that it is 100 dimensional as specified.\n",
    "glove_model['what']"
   ],
   "metadata": {
    "collapsed": false,
    "pycharm": {
     "name": "#%%\n"
    },
    "ExecuteTime": {
     "end_time": "2025-04-16T15:18:44.930501Z",
     "start_time": "2025-04-16T15:18:44.924999Z"
    }
   },
   "outputs": [
    {
     "data": {
      "text/plain": [
       "array([-1.5180e-01,  3.8409e-01,  8.9340e-01, -4.2421e-01, -9.2161e-01,\n",
       "        3.7988e-02, -3.2026e-01,  3.4119e-03,  2.2101e-01, -2.2045e-01,\n",
       "        1.6661e-01,  2.1956e-01,  2.5325e-01, -2.9267e-01,  1.0171e-01,\n",
       "       -7.5491e-02, -6.0406e-02,  2.8194e-01, -5.8519e-01,  4.8271e-01,\n",
       "        1.7504e-02, -1.2086e-01, -1.0990e-01, -6.9554e-01,  1.5600e-01,\n",
       "        7.0558e-02, -1.5058e-01, -8.1811e-01, -1.8535e-01, -3.6863e-01,\n",
       "        3.1650e-02,  7.6616e-01,  8.4041e-02,  2.6928e-03, -2.7440e-01,\n",
       "        2.1815e-01, -3.5157e-02,  3.2569e-01,  1.0032e-01, -6.0932e-01,\n",
       "       -7.0316e-01,  1.8299e-01,  3.3134e-01, -1.2416e-01, -9.0542e-01,\n",
       "       -3.9157e-02,  4.4719e-01, -5.7338e-01, -4.0172e-01, -8.2234e-01,\n",
       "        5.5740e-01,  1.5101e-01,  2.4598e-01,  1.0113e+00, -4.6626e-01,\n",
       "       -2.7133e+00,  4.3273e-01, -1.6314e-01,  1.5828e+00,  5.5081e-01,\n",
       "       -2.4738e-01,  1.4184e+00, -1.6867e-02, -1.9368e-01,  1.0090e+00,\n",
       "       -5.9864e-02,  9.1853e-01,  4.3022e-01, -2.0624e-01,  7.6127e-02,\n",
       "        2.1595e-01, -2.6834e-01, -3.3342e-01, -3.7151e-01,  4.5197e-01,\n",
       "       -8.2460e-02,  3.2984e-01, -5.7376e-01, -1.3042e+00,  2.7121e-01,\n",
       "        6.6277e-01, -7.9626e-02, -7.9167e-01, -5.3662e-03, -1.7916e+00,\n",
       "       -3.3298e-01, -3.0698e-01, -3.3980e-01, -5.5618e-01, -6.9471e-01,\n",
       "        2.7427e-01, -2.1898e-01, -2.6714e-01,  2.2561e-03, -5.0178e-01,\n",
       "       -3.2775e-01, -4.5670e-01, -2.7123e-01,  2.2157e-01,  9.2112e-01],\n",
       "      dtype=float32)"
      ]
     },
     "execution_count": 46,
     "metadata": {},
     "output_type": "execute_result"
    }
   ],
   "execution_count": 46
  },
  {
   "cell_type": "markdown",
   "source": [
    "Gensim objects offers different methods to easily run very common tasks. For example, there are different functions to find the most similar words.\n",
    "\n",
    "Check the documentation on how [`most_similar`](https://tedboy.github.io/nlps/generated/generated/gensim.models.Word2Vec.most_similar.html) and [`similar_by_word`](https://tedboy.github.io/nlps/generated/generated/gensim.models.Word2Vec.similar_by_word.html) can be used."
   ],
   "metadata": {
    "collapsed": false,
    "pycharm": {
     "name": "#%% md\n"
    }
   }
  },
  {
   "cell_type": "code",
   "source": [
    "# most similar words to a given word\n",
    "print(glove_model.most_similar('what', topn=10))\n",
    "\n",
    "# also u can use\n",
    "print(glove_model.similar_by_word('miss', topn=5))"
   ],
   "metadata": {
    "collapsed": false,
    "pycharm": {
     "name": "#%%\n"
    },
    "ExecuteTime": {
     "end_time": "2025-04-16T15:18:45.107986Z",
     "start_time": "2025-04-16T15:18:44.948246Z"
    }
   },
   "outputs": [
    {
     "name": "stdout",
     "output_type": "stream",
     "text": [
      "[('how', 0.930321455001831), ('why', 0.9196362495422363), ('fact', 0.9069437980651855), ('know', 0.8876389861106873), ('that', 0.8810365796089172), ('think', 0.8772969841957092), ('so', 0.8753098249435425), ('even', 0.8751895427703857), ('something', 0.874744176864624), ('if', 0.8702542781829834)]\n",
      "[('play', 0.6266525387763977), ('missed', 0.608065128326416), ('she', 0.596325695514679), ('chance', 0.5839369297027588), ('tournament', 0.5722586512565613)]\n"
     ]
    }
   ],
   "execution_count": 47
  },
  {
   "cell_type": "code",
   "source": [
    "print(glove_model.most_similar('why', topn=10))"
   ],
   "metadata": {
    "collapsed": false,
    "pycharm": {
     "name": "#%%\n"
    },
    "ExecuteTime": {
     "end_time": "2025-04-16T15:18:45.261781Z",
     "start_time": "2025-04-16T15:18:45.243190Z"
    }
   },
   "outputs": [
    {
     "name": "stdout",
     "output_type": "stream",
     "text": [
      "[('know', 0.9440940618515015), ('what', 0.9196362495422363), ('think', 0.9086559414863586), ('how', 0.9020735621452332), ('tell', 0.8923122882843018), (\"n't\", 0.8890628814697266), ('sure', 0.8870969414710999), ('thought', 0.8747684955596924), ('believe', 0.8745115995407104), ('say', 0.8730074763298035)]\n"
     ]
    }
   ],
   "execution_count": 48
  },
  {
   "cell_type": "code",
   "source": [
    "print(glove_model.similar_by_word('who', topn=5))"
   ],
   "metadata": {
    "collapsed": false,
    "pycharm": {
     "name": "#%%\n"
    },
    "ExecuteTime": {
     "end_time": "2025-04-16T15:18:45.408170Z",
     "start_time": "2025-04-16T15:18:45.386264Z"
    }
   },
   "outputs": [
    {
     "name": "stdout",
     "output_type": "stream",
     "text": [
      "[('whom', 0.8642492890357971), ('he', 0.8201969861984253), ('whose', 0.8143677711486816), ('had', 0.8035845160484314), ('others', 0.7708419561386108)]\n"
     ]
    }
   ],
   "execution_count": 49
  },
  {
   "cell_type": "markdown",
   "source": [
    "We can now compare our implementation with the one in the pre-trained model and confirm what we already expected."
   ],
   "metadata": {
    "collapsed": false,
    "pycharm": {
     "name": "#%% md\n"
    }
   }
  },
  {
   "cell_type": "code",
   "source": [
    "# simalarity between two words\n",
    "word1 = 'alive'\n",
    "word2 = 'biology'\n",
    "print(glove_model.similarity(word1, word2))\n",
    "print(cosine_similarity(glove_model[word1], glove_model[word2]))"
   ],
   "metadata": {
    "collapsed": false,
    "pycharm": {
     "name": "#%%\n"
    },
    "ExecuteTime": {
     "end_time": "2025-04-16T15:18:45.668853Z",
     "start_time": "2025-04-16T15:18:45.666446Z"
    }
   },
   "outputs": [
    {
     "name": "stdout",
     "output_type": "stream",
     "text": [
      "0.15712574\n",
      "0.15712576\n"
     ]
    }
   ],
   "execution_count": 50
  },
  {
   "cell_type": "code",
   "source": [
    "# simalarity between two words. similar words\n",
    "word1 = 'alive'\n",
    "word2 = 'life'\n",
    "print(glove_model.similarity(word1, word2))\n",
    "print(cosine_similarity(glove_model[word1], glove_model[word2]))"
   ],
   "metadata": {
    "collapsed": false,
    "pycharm": {
     "name": "#%%\n"
    },
    "ExecuteTime": {
     "end_time": "2025-04-16T15:18:45.676960Z",
     "start_time": "2025-04-16T15:18:45.674843Z"
    }
   },
   "outputs": [
    {
     "name": "stdout",
     "output_type": "stream",
     "text": [
      "0.6400604\n",
      "0.6400604\n"
     ]
    }
   ],
   "execution_count": 51
  },
  {
   "cell_type": "code",
   "source": [
    "# simalarity between two words. dissimilar words\n",
    "word1 = 'alive'\n",
    "word2 = 'dead'\n",
    "print(glove_model.similarity(word1, word2))\n",
    "print(cosine_similarity(glove_model[word1], glove_model[word2]))"
   ],
   "metadata": {
    "collapsed": false,
    "pycharm": {
     "name": "#%%\n"
    },
    "ExecuteTime": {
     "end_time": "2025-04-16T15:18:45.752559Z",
     "start_time": "2025-04-16T15:18:45.750329Z"
    }
   },
   "outputs": [
    {
     "name": "stdout",
     "output_type": "stream",
     "text": [
      "0.71035177\n",
      "0.71035177\n"
     ]
    }
   ],
   "execution_count": 52
  },
  {
   "cell_type": "code",
   "source": [
    "# simalarity between two words. unrelated words\n",
    "word1 = 'alive'\n",
    "word2 = 'horse'\n",
    "print(glove_model.similarity(word1, word2))\n",
    "print(cosine_similarity(glove_model[word1], glove_model[word2]))"
   ],
   "metadata": {
    "collapsed": false,
    "pycharm": {
     "name": "#%%\n"
    },
    "ExecuteTime": {
     "end_time": "2025-04-16T15:18:45.825838Z",
     "start_time": "2025-04-16T15:18:45.823501Z"
    }
   },
   "outputs": [
    {
     "name": "stdout",
     "output_type": "stream",
     "text": [
      "0.34625494\n",
      "0.34625494\n"
     ]
    }
   ],
   "execution_count": 53
  },
  {
   "cell_type": "code",
   "source": [
    "# simalarity between two SAME words\n",
    "glove_model.similarity('equal', 'equal')\n",
    "word1 = 'equal'\n",
    "word2 = 'equal'\n",
    "print(glove_model.similarity(word1, word2))\n",
    "print(cosine_similarity(glove_model[word1], glove_model[word2]))"
   ],
   "metadata": {
    "collapsed": false,
    "pycharm": {
     "name": "#%%\n"
    },
    "ExecuteTime": {
     "end_time": "2025-04-16T15:18:45.915241Z",
     "start_time": "2025-04-16T15:18:45.912910Z"
    }
   },
   "outputs": [
    {
     "name": "stdout",
     "output_type": "stream",
     "text": [
      "1.0\n",
      "1.0000001\n"
     ]
    }
   ],
   "execution_count": 54
  },
  {
   "cell_type": "markdown",
   "source": [
    "The next function contains the code to plot a similarity matrix between multiple words (e.g. if we want to compare 10 words and their pair-wise similarities). It requires a matrix with similarities (as input) and labels (aka the words) to display in the final figure."
   ],
   "metadata": {
    "collapsed": false,
    "pycharm": {
     "name": "#%% md\n"
    }
   }
  },
  {
   "cell_type": "code",
   "source": [
    "def plot_similarity_matrix(matrix, labels):\n",
    "    \"\"\"\n",
    "    Displays a plot of the `matrix` of size (N x N) with the labels specified as a list of size N\n",
    "    Args:\n",
    "        matrix: a square-sized (N x N) numpy array\n",
    "        labels: a list of strings of hte size N\n",
    "    \"\"\"\n",
    "\n",
    "    fig, ax = plt.subplots()\n",
    "    im = ax.imshow(matrix)\n",
    "\n",
    "    # Show all ticks and label them with the respective list entries\n",
    "    ax.set_xticks(np.arange(len(labels)), labels=labels)\n",
    "    ax.set_yticks(np.arange(len(labels)), labels=labels)\n",
    "\n",
    "    # Rotate the tick labels and set their alignment.\n",
    "    plt.setp(ax.get_xticklabels(), rotation=45, ha=\"right\",\n",
    "             rotation_mode=\"anchor\")\n",
    "\n",
    "    # Loop over data dimensions and create text annotations.\n",
    "    for i in range(len(labels)):\n",
    "        for j in range(len(labels)):\n",
    "            text = ax.text(j, i, f'{matrix[i, j]:.2f}',\n",
    "                           ha=\"center\", va=\"center\", color=\"w\")\n",
    "\n",
    "    # ax.set_title(\"Give a title if you want\")\n",
    "    fig.tight_layout()\n",
    "    plt.show()"
   ],
   "metadata": {
    "collapsed": false,
    "pycharm": {
     "name": "#%%\n"
    },
    "ExecuteTime": {
     "end_time": "2025-04-16T15:18:46.070679Z",
     "start_time": "2025-04-16T15:18:46.067289Z"
    }
   },
   "outputs": [],
   "execution_count": 55
  },
  {
   "cell_type": "markdown",
   "source": [
    "<a name='e10'></a>\n",
    "### Exercise 10: Plotting similarities between words\n",
    "\n",
    "(10p) In the following, we will explore some properties of word embeddings through some examples. We will use 6 example words for this purpose but experiment with other set of words as well. Fill in the next cell to create a similarity matrix between a list of words.\n",
    "\n",
    "Experiment with different words and their similarities plotted. Try at least 3 different sets of words of at least 6 words each. Use the `plot_similarity_matrix` function to visualize the results.\n",
    "Comment on the results. Do they make sense? Why some words are closer to each other than others? What does it mean?"
   ],
   "metadata": {
    "collapsed": false,
    "pycharm": {
     "name": "#%% md\n"
    }
   }
  },
  {
   "cell_type": "code",
   "source": [
    "list_of_words = ['love', 'hate', 'life', 'equal', 'alive', 'dead']\n",
    "\n",
    "similarity_matrix = np.zeros((len(list_of_words), len(list_of_words)), dtype=float)\n",
    "\n",
    "### YOUR CODE HERE\n",
    "\n",
    "def build_similarity_matrix(similarity_matrix, list_of_words):\n",
    "    for i in range(len(list_of_words)):\n",
    "        for j in range(len(list_of_words)):\n",
    "            similarity_matrix[i, j] = glove_model.similarity(list_of_words[i], list_of_words[j])\n",
    "\n",
    "    return similarity_matrix\n",
    "\n",
    "### YOUR CODE ENDS HERE\n",
    "\n",
    "\n",
    "plot_similarity_matrix(build_similarity_matrix(similarity_matrix, list_of_words), list_of_words)"
   ],
   "metadata": {
    "collapsed": false,
    "pycharm": {
     "name": "#%%\n"
    },
    "ExecuteTime": {
     "end_time": "2025-04-16T15:18:46.952712Z",
     "start_time": "2025-04-16T15:18:46.075590Z"
    }
   },
   "outputs": [
    {
     "data": {
      "text/plain": [
       "<Figure size 640x480 with 1 Axes>"
      ],
      "image/png": "[encoded data removed]"
     },
     "metadata": {},
     "output_type": "display_data"
    }
   ],
   "execution_count": 56
  },
  {
   "cell_type": "code",
   "source": [
    "#### YOUR CODE HERE\n",
    "\n",
    "list_of_words = ['money', 'capitalism', 'war', 'missiles', 'stocks', 'flower']\n",
    "list_of_words_2 = ['ambulance', 'doctor', 'war', 'celebrity', 'ice', 'polar']\n",
    "list_of_words_3 = ['sword', 'shield', 'toilet', 'paper', 'punishment', 'crime']\n",
    "\n",
    "similarity_matrix = np.zeros((len(list_of_words), len(list_of_words)), dtype=float)\n",
    "\n",
    "\n",
    "plot_similarity_matrix(build_similarity_matrix(similarity_matrix, list_of_words), list_of_words)\n",
    "plot_similarity_matrix(build_similarity_matrix(similarity_matrix, list_of_words_2), list_of_words_2)\n",
    "plot_similarity_matrix(build_similarity_matrix(similarity_matrix, list_of_words_3), list_of_words_3)\n",
    "\n",
    "### YOUR CODE ENDS HERE"
   ],
   "metadata": {
    "collapsed": false,
    "pycharm": {
     "name": "#%%\n"
    },
    "ExecuteTime": {
     "end_time": "2025-04-16T15:18:47.231893Z",
     "start_time": "2025-04-16T15:18:47.030827Z"
    }
   },
   "outputs": [
    {
     "data": {
      "text/plain": [
       "<Figure size 640x480 with 1 Axes>"
      ],
      "image/png": "[encoded data removed]"
     },
     "metadata": {},
     "output_type": "display_data"
    },
    {
     "data": {
      "text/plain": [
       "<Figure size 640x480 with 1 Axes>"
      ],
      "image/png": "[encoded data removed]"
     },
     "metadata": {},
     "output_type": "display_data"
    },
    {
     "data": {
      "text/plain": [
       "<Figure size 640x480 with 1 Axes>"
      ],
      "image/png": "[encoded data removed]"
     },
     "metadata": {},
     "output_type": "display_data"
    }
   ],
   "execution_count": 57
  },
  {
   "cell_type": "markdown",
   "source": [
    "<a name='e11'></a>\n",
    "### Exercise 11: Other pre-trained word embeddings\n",
    "(10p) For this exercise, experiment with at least one different word embedding model. You can choose Glove with different dimensions or other pre-trained models. Use the gensim library to download and use the models.\n",
    "Plot similarity matrices between sets of words you used in the previous exercise and compare the results. Are there noticeable differences? Why (not)?\n",
    "Across models 2 and 3, we observe that the models consistently capture similar types of word associations. This suggests that the core semantic structure is preserved, which is to be expected, as both models were trained on Wikipedia data. However, with an increase in dimensionality, cosine similarity values tend to decrease. Comparing the 100D (glove model) and 200D wiki-trained model, we see that most similarity scores are weaker in the higher-dimensional space. While speculative, this may be due to a larger vector space weakening strong and common word associations in order to better capture more nuanced and complex relationships.\n",
    "Model 1 (the Twitter model) reflects some different kind of behavior, likely due to its training data. Words from list 2, such as 'sunny', 'celebrity', 'health', 'body', 'life', 'bad', show much stronger associations in the Twitter-based model than in the Wikipedia-trained ones, despite both models being 100D. This could be because such words frequently co-occur in informal or emotional contexts typical of tweets.\n",
    "Conversely, scientific terms like those in list 3; 'neutron', 'atom', 'photosynthesis', 'acid', 'amino', 'chlorophyll', are more strongly associated in Wikipedia-trained models. For instance, 'amino' and 'acid' have a cosine similarity of 0.74 in the 100D wiki model, but only 0.43 in the Twitter model. This highlights how the training corpus influences word meaning where context shapes association.\n",
    "However, without further investigation the conclusions above are, as mentioned, speculative."
   ],
   "metadata": {
    "collapsed": false,
    "pycharm": {
     "name": "#%% md\n"
    }
   }
  },
  {
   "cell_type": "code",
   "source": [
    "#### YOUR CODE HERE\n",
    "light_model = api.load(\"glove-twitter-100\")\n",
    "strong_model = api.load(\"glove-wiki-gigaword-200\")\n"
   ],
   "metadata": {
    "collapsed": false,
    "pycharm": {
     "name": "#%%\n"
    },
    "ExecuteTime": {
     "end_time": "2025-04-16T16:22:15.175146Z",
     "start_time": "2025-04-16T16:20:30.393836Z"
    }
   },
   "outputs": [
    {
     "name": "stdout",
     "output_type": "stream",
     "text": [
      "[===-----------------------------------------------] 6.1% 23.4/387.1MB downloaded"
     ]
    },
    {
     "name": "stderr",
     "output_type": "stream",
     "text": [
      "IOPub message rate exceeded.\n",
      "The Jupyter server will temporarily stop sending output\n",
      "to the client in order to avoid crashing it.\n",
      "To change this limit, set the config variable\n",
      "`--ServerApp.iopub_msg_rate_limit`.\n",
      "\n",
      "Current values:\n",
      "ServerApp.iopub_msg_rate_limit=1000.0 (msgs/sec)\n",
      "ServerApp.rate_limit_window=3.0 (secs)\n",
      "\n"
     ]
    },
    {
     "name": "stdout",
     "output_type": "stream",
     "text": [
      "[=======-------------------------------------------] 14.1% 54.7/387.1MB downloaded"
     ]
    },
    {
     "name": "stderr",
     "output_type": "stream",
     "text": [
      "IOPub message rate exceeded.\n",
      "The Jupyter server will temporarily stop sending output\n",
      "to the client in order to avoid crashing it.\n",
      "To change this limit, set the config variable\n",
      "`--ServerApp.iopub_msg_rate_limit`.\n",
      "\n",
      "Current values:\n",
      "ServerApp.iopub_msg_rate_limit=1000.0 (msgs/sec)\n",
      "ServerApp.rate_limit_window=3.0 (secs)\n",
      "\n"
     ]
    },
    {
     "name": "stdout",
     "output_type": "stream",
     "text": [
      "[=========-----------------------------------------] 19.7% 76.4/387.1MB downloaded"
     ]
    },
    {
     "name": "stderr",
     "output_type": "stream",
     "text": [
      "IOPub message rate exceeded.\n",
      "The Jupyter server will temporarily stop sending output\n",
      "to the client in order to avoid crashing it.\n",
      "To change this limit, set the config variable\n",
      "`--ServerApp.iopub_msg_rate_limit`.\n",
      "\n",
      "Current values:\n",
      "ServerApp.iopub_msg_rate_limit=1000.0 (msgs/sec)\n",
      "ServerApp.rate_limit_window=3.0 (secs)\n",
      "\n"
     ]
    },
    {
     "name": "stdout",
     "output_type": "stream",
     "text": [
      "[============--------------------------------------] 24.3% 94.0/387.1MB downloaded"
     ]
    },
    {
     "name": "stderr",
     "output_type": "stream",
     "text": [
      "IOPub message rate exceeded.\n",
      "The Jupyter server will temporarily stop sending output\n",
      "to the client in order to avoid crashing it.\n",
      "To change this limit, set the config variable\n",
      "`--ServerApp.iopub_msg_rate_limit`.\n",
      "\n",
      "Current values:\n",
      "ServerApp.iopub_msg_rate_limit=1000.0 (msgs/sec)\n",
      "ServerApp.rate_limit_window=3.0 (secs)\n",
      "\n"
     ]
    },
    {
     "name": "stdout",
     "output_type": "stream",
     "text": [
      "[===============-----------------------------------] 30.7% 118.8/387.1MB downloaded"
     ]
    },
    {
     "name": "stderr",
     "output_type": "stream",
     "text": [
      "IOPub message rate exceeded.\n",
      "The Jupyter server will temporarily stop sending output\n",
      "to the client in order to avoid crashing it.\n",
      "To change this limit, set the config variable\n",
      "`--ServerApp.iopub_msg_rate_limit`.\n",
      "\n",
      "Current values:\n",
      "ServerApp.iopub_msg_rate_limit=1000.0 (msgs/sec)\n",
      "ServerApp.rate_limit_window=3.0 (secs)\n",
      "\n"
     ]
    },
    {
     "name": "stdout",
     "output_type": "stream",
     "text": [
      "[=================---------------------------------] 35.0% 135.6/387.1MB downloaded"
     ]
    },
    {
     "name": "stderr",
     "output_type": "stream",
     "text": [
      "IOPub message rate exceeded.\n",
      "The Jupyter server will temporarily stop sending output\n",
      "to the client in order to avoid crashing it.\n",
      "To change this limit, set the config variable\n",
      "`--ServerApp.iopub_msg_rate_limit`.\n",
      "\n",
      "Current values:\n",
      "ServerApp.iopub_msg_rate_limit=1000.0 (msgs/sec)\n",
      "ServerApp.rate_limit_window=3.0 (secs)\n",
      "\n"
     ]
    },
    {
     "name": "stdout",
     "output_type": "stream",
     "text": [
      "[========================--------------------------] 50.0% 193.5/387.1MB downloaded"
     ]
    },
    {
     "name": "stderr",
     "output_type": "stream",
     "text": [
      "IOPub message rate exceeded.\n",
      "The Jupyter server will temporarily stop sending output\n",
      "to the client in order to avoid crashing it.\n",
      "To change this limit, set the config variable\n",
      "`--ServerApp.iopub_msg_rate_limit`.\n",
      "\n",
      "Current values:\n",
      "ServerApp.iopub_msg_rate_limit=1000.0 (msgs/sec)\n",
      "ServerApp.rate_limit_window=3.0 (secs)\n",
      "\n"
     ]
    },
    {
     "name": "stdout",
     "output_type": "stream",
     "text": [
      "[==============================--------------------] 61.4% 237.8/387.1MB downloaded"
     ]
    },
    {
     "name": "stderr",
     "output_type": "stream",
     "text": [
      "IOPub message rate exceeded.\n",
      "The Jupyter server will temporarily stop sending output\n",
      "to the client in order to avoid crashing it.\n",
      "To change this limit, set the config variable\n",
      "`--ServerApp.iopub_msg_rate_limit`.\n",
      "\n",
      "Current values:\n",
      "ServerApp.iopub_msg_rate_limit=1000.0 (msgs/sec)\n",
      "ServerApp.rate_limit_window=3.0 (secs)\n",
      "\n"
     ]
    },
    {
     "name": "stdout",
     "output_type": "stream",
     "text": [
      "[===================================---------------] 70.1% 271.3/387.1MB downloaded"
     ]
    },
    {
     "name": "stderr",
     "output_type": "stream",
     "text": [
      "IOPub message rate exceeded.\n",
      "The Jupyter server will temporarily stop sending output\n",
      "to the client in order to avoid crashing it.\n",
      "To change this limit, set the config variable\n",
      "`--ServerApp.iopub_msg_rate_limit`.\n",
      "\n",
      "Current values:\n",
      "ServerApp.iopub_msg_rate_limit=1000.0 (msgs/sec)\n",
      "ServerApp.rate_limit_window=3.0 (secs)\n",
      "\n"
     ]
    },
    {
     "name": "stdout",
     "output_type": "stream",
     "text": [
      "[======================================------------] 77.0% 297.9/387.1MB downloaded"
     ]
    },
    {
     "name": "stderr",
     "output_type": "stream",
     "text": [
      "IOPub message rate exceeded.\n",
      "The Jupyter server will temporarily stop sending output\n",
      "to the client in order to avoid crashing it.\n",
      "To change this limit, set the config variable\n",
      "`--ServerApp.iopub_msg_rate_limit`.\n",
      "\n",
      "Current values:\n",
      "ServerApp.iopub_msg_rate_limit=1000.0 (msgs/sec)\n",
      "ServerApp.rate_limit_window=3.0 (secs)\n",
      "\n"
     ]
    },
    {
     "name": "stdout",
     "output_type": "stream",
     "text": [
      "[==========================================--------] 84.2% 326.0/387.1MB downloaded"
     ]
    },
    {
     "name": "stderr",
     "output_type": "stream",
     "text": [
      "IOPub message rate exceeded.\n",
      "The Jupyter server will temporarily stop sending output\n",
      "to the client in order to avoid crashing it.\n",
      "To change this limit, set the config variable\n",
      "`--ServerApp.iopub_msg_rate_limit`.\n",
      "\n",
      "Current values:\n",
      "ServerApp.iopub_msg_rate_limit=1000.0 (msgs/sec)\n",
      "ServerApp.rate_limit_window=3.0 (secs)\n",
      "\n"
     ]
    },
    {
     "name": "stdout",
     "output_type": "stream",
     "text": [
      "[================================================--] 96.3% 372.7/387.1MB downloaded"
     ]
    },
    {
     "name": "stderr",
     "output_type": "stream",
     "text": [
      "IOPub message rate exceeded.\n",
      "The Jupyter server will temporarily stop sending output\n",
      "to the client in order to avoid crashing it.\n",
      "To change this limit, set the config variable\n",
      "`--ServerApp.iopub_msg_rate_limit`.\n",
      "\n",
      "Current values:\n",
      "ServerApp.iopub_msg_rate_limit=1000.0 (msgs/sec)\n",
      "ServerApp.rate_limit_window=3.0 (secs)\n",
      "\n"
     ]
    },
    {
     "name": "stdout",
     "output_type": "stream",
     "text": [
      "[==================================================] 100.0% 387.1/387.1MB downloaded\n"
     ]
    }
   ],
   "execution_count": 91
  },
  {
   "metadata": {
    "ExecuteTime": {
     "end_time": "2025-04-16T16:22:23.721097Z",
     "start_time": "2025-04-16T16:22:23.706051Z"
    }
   },
   "cell_type": "code",
   "source": [
    "def plot_similarity_matrix_adapted(matrix, labels, ax=None, title=None):\n",
    "    \"\"\"\n",
    "    Displays a plot of the `matrix` with the given `labels`\n",
    "    Optionally draws it on a given `ax` (for subplotting)\n",
    "    \"\"\"\n",
    "\n",
    "    if ax is None:\n",
    "        fig, ax = plt.subplots()\n",
    "\n",
    "    im = ax.imshow(matrix)\n",
    "\n",
    "    ax.set_xticks(np.arange(len(labels)))\n",
    "    ax.set_yticks(np.arange(len(labels)))\n",
    "    ax.set_xticklabels(labels, rotation=45, ha=\"right\", rotation_mode=\"anchor\")\n",
    "    ax.set_yticklabels(labels)\n",
    "\n",
    "    for i in range(len(labels)):\n",
    "        for j in range(len(labels)):\n",
    "            ax.text(j, i, f'{matrix[i, j]:.2f}', ha=\"center\", va=\"center\", color=\"w\")\n",
    "\n",
    "    if title:\n",
    "        ax.set_title(title)\n"
   ],
   "outputs": [],
   "execution_count": 92
  },
  {
   "metadata": {
    "ExecuteTime": {
     "end_time": "2025-04-16T16:41:34.680184Z",
     "start_time": "2025-04-16T16:41:33.413187Z"
    }
   },
   "cell_type": "code",
   "source": [
    "def build_similarity_matrix(model, list_of_words):\n",
    "    size = len(list_of_words)\n",
    "    similarity_matrix = np.zeros((size, size), dtype=float)\n",
    "\n",
    "    for i in range(size):\n",
    "        for j in range(size):\n",
    "            similarity_matrix[i, j] = model.similarity(list_of_words[i], list_of_words[j])\n",
    "\n",
    "    return similarity_matrix\n",
    "\n",
    "\n",
    "list_of_words = ['money', 'capitalism', 'war', 'missiles', 'stocks', 'communism']\n",
    "list_of_words_2 = ['sunny', 'celebrity', 'health', 'body', 'life', 'bad']\n",
    "list_of_words_3 = ['neutron', 'atom', 'photosynthesis', 'acid', 'amino', 'chlorophyll']\n",
    "\n",
    "\n",
    "\n",
    "models = [light_model, glove_model,strong_model]\n",
    "model_names = ['twitter model (100)','glove model (wiki 100)','wiki-200 model']\n",
    "\n",
    "\n",
    "selected_words = list_of_words\n",
    "selected_words_2 = list_of_words_2\n",
    "selected_words_3 = list_of_words_3\n",
    "\n",
    "fig, axes = plt.subplots(3, len(models), figsize=(15, 12))\n",
    "\n",
    "for row, word_list in enumerate([selected_words, selected_words_2, selected_words_3]):\n",
    "    for col, model in enumerate(models):\n",
    "        sim_matrix = build_similarity_matrix(model, word_list)\n",
    "        plot_similarity_matrix_adapted(sim_matrix, word_list, ax=axes[row, col], title=model_names[col])\n",
    "\n",
    "plt.tight_layout()\n",
    "plt.show()\n",
    "### YOUR CODE ENDS HERE"
   ],
   "outputs": [
    {
     "data": {
      "text/plain": [
       "<Figure size 1500x1200 with 9 Axes>"
      ],
      "image/png": "[encoded data removed]"
     },
     "metadata": {},
     "output_type": "display_data"
    }
   ],
   "execution_count": 108
  },
  {
   "cell_type": "markdown",
   "source": [
    "// your comments"
   ],
   "metadata": {
    "collapsed": false,
    "pycharm": {
     "name": "#%% md\n"
    }
   }
  },
  {
   "cell_type": "markdown",
   "source": [
    "## 5. Sentence Embeddings by Averaging Word Embeddings\n",
    "\n",
    "Word embeddings are a powerful model for representing words and their meaning (in terms of distributional similarity). As we discussed in class, we can use them in a wide variety of tasks with more complex architectures. Word vectors offer a dense vector for each word. What if we wanted to represent a sentence (or a document) based on word vectors. How can we do that?\n",
    "\n",
    "In the course, we will see different architectures that take into account the sequence of words (by combining their vectors). A first naive but simple and sometimes (as we are going to see) quite effective approach would be to represent a sentence with an embedding vector that is the average of the word vectors that form the sentence.\n",
    "\n",
    "So formally, this is what we are aiming for:\n",
    "\n",
    "$\n",
    "\\text{Sentence_Embedding} = \\frac{1}{N} \\sum_{i=1}^{N} \\text{Word_Embedding}_i\n",
    "$\n",
    "\n",
    "where:\n",
    "* $N$ is the number of words in a sentence\n",
    "* $\\text{Word_Embedding}_i$ is the word vector for the $i$-th in the sentence.\n",
    "\n",
    "Things to note:\n",
    "* The embedding vector for the sentence will obviously have the same dimension as the word embedding.\n",
    "* This representation ignores the word order (like bag-of-words). During the course we will see how we can overcome this limitation by using sequence models."
   ],
   "metadata": {
    "collapsed": false,
    "pycharm": {
     "name": "#%% md\n"
    }
   }
  },
  {
   "cell_type": "markdown",
   "source": [
    "<a name='e12'></a>\n",
    "### Exercise 12: Sentence Embedding\n",
    "\n",
    "(10p) Complete the function below that takes as input the sentence in the form of tokens (so it's a list of words) and calculates the sentence embedding vector. First, we would need to retrieve the word embeddings for each word from our loaded model and then average the vectors.\n",
    "\n",
    "Note: There can be cases where all tokens from a sentence are out-of-vocabulary words (OOV). Think what to do in this case and make sure to discuss it in the report."
   ],
   "metadata": {
    "collapsed": false,
    "pycharm": {
     "name": "#%% md\n"
    }
   }
  },
  {
   "cell_type": "code",
   "source": [
    "def embed_sentence_word_model(tokens, model):\n",
    "    \"\"\"\n",
    "    Calculates the sentence embedding by averaging the embeddings of the tokens\n",
    "    Args:\n",
    "        tokens: a list of words from the sentence\n",
    "        model: a trained word embeddings model\n",
    "\n",
    "    Returns: a numpy array of the sentence embedding\n",
    "\n",
    "    \"\"\"\n",
    "    #### YOUR CODE HERE\n",
    "    #### CAUTION: be sure to cover the case where all tokens are out-of-vocabulary!!!\n",
    "\n",
    "    embeddings = []\n",
    "\n",
    "    for token in tokens:\n",
    "        if token in model:\n",
    "            embeddings.append(model[token])\n",
    "\n",
    "    sentence_embedding = np.mean(embeddings, axis=0).astype(np.float32)\n",
    "\n",
    "    return sentence_embedding\n",
    "\n",
    "    ### YOUR CODE ENDS HERE"
   ],
   "metadata": {
    "collapsed": false,
    "pycharm": {
     "name": "#%%\n"
    },
    "ExecuteTime": {
     "end_time": "2025-04-16T17:28:17.900593Z",
     "start_time": "2025-04-16T17:28:17.873955Z"
    }
   },
   "outputs": [],
   "execution_count": 112
  },
  {
   "cell_type": "markdown",
   "source": [
    "Now we can apply the function to the whole dataset. Here we do it both for the sentence and the compressed version. You should know it by now, but this operation might take some time. The next cells will apply your function to the whole dataset."
   ],
   "metadata": {
    "collapsed": false,
    "pycharm": {
     "name": "#%% md\n"
    }
   }
  },
  {
   "cell_type": "code",
   "source": [
    "def embed_sentence_word_model_dataset(example, model):\n",
    "    \"\"\"\n",
    "    Embeds the sentence and the compressed sentence in the example from the Dataset\n",
    "    Args:\n",
    "        example: an example from the Dataset\n",
    "        model: a trained word embeddings model\n",
    "\n",
    "    Returns: updated example with 'sentence_embedding' and 'compressed_embedding' columns\n",
    "\n",
    "    \"\"\"\n",
    "    sentence_tokens = example['sentence_tokens']\n",
    "    clean_compressed = example['clean_compressed']\n",
    "    compressed_tokens = tokenize(clean_compressed)\n",
    "\n",
    "    sentence_embedding = embed_sentence_word_model(sentence_tokens, model)\n",
    "    compressed_embedding = embed_sentence_word_model(compressed_tokens, model)\n",
    "\n",
    "    example['sentence_embedding'] = sentence_embedding\n",
    "    example['compressed_embedding'] = compressed_embedding\n",
    "    return example"
   ],
   "metadata": {
    "collapsed": false,
    "pycharm": {
     "name": "#%%\n"
    },
    "ExecuteTime": {
     "end_time": "2025-04-16T17:28:19.013Z",
     "start_time": "2025-04-16T17:28:19.008171Z"
    }
   },
   "outputs": [],
   "execution_count": 113
  },
  {
   "cell_type": "code",
   "source": [
    "test_ds = test_ds.map(embed_sentence_word_model_dataset, fn_kwargs={'model': glove_model})\n",
    "print(test_ds)"
   ],
   "metadata": {
    "collapsed": false,
    "pycharm": {
     "name": "#%%\n"
    },
    "ExecuteTime": {
     "end_time": "2025-04-16T17:29:55.477892Z",
     "start_time": "2025-04-16T17:29:10.988367Z"
    }
   },
   "outputs": [
    {
     "name": "stderr",
     "output_type": "stream",
     "text": [
      "Map: 100%|██████████| 36000/36000 [00:42<00:00, 840.39 examples/s] "
     ]
    },
    {
     "name": "stdout",
     "output_type": "stream",
     "text": [
      "Dataset({\n",
      "    features: ['set', 'clean_sentence', 'clean_compressed', 'sentence_tokens', 'compressed_tokens', 'sentence_bow', 'compressed_bow', 'sentence_embedding', 'compressed_embedding'],\n",
      "    num_rows: 36000\n",
      "})\n"
     ]
    },
    {
     "name": "stderr",
     "output_type": "stream",
     "text": [
      "\n"
     ]
    }
   ],
   "execution_count": 115
  },
  {
   "cell_type": "code",
   "source": [
    "for i in range(10):\n",
    "    print(test_ds[i])"
   ],
   "metadata": {
    "collapsed": false,
    "pycharm": {
     "name": "#%%\n"
    },
    "ExecuteTime": {
     "end_time": "2025-04-16T17:29:55.621076Z",
     "start_time": "2025-04-16T17:29:55.570949Z"
    }
   },
   "outputs": [
    {
     "name": "stdout",
     "output_type": "stream",
     "text": [
      "{'sentence_bow': array([0., 0., 0., ..., 0., 0., 0.]), 'compressed_bow': array([0., 0., 0., ..., 0., 0., 0.]), 'sentence_embedding': array([ 2.63616323e-01,  6.44152164e-02, -1.04665756e-03, -1.73926666e-01,\n",
      "        3.14628661e-01,  2.90247440e-01, -2.19042331e-01,  8.18181187e-02,\n",
      "        4.04644012e-03, -6.52228892e-02,  1.35399133e-01,  2.16491781e-02,\n",
      "        5.27814478e-02,  1.64718881e-01, -2.32587203e-01, -3.06247920e-01,\n",
      "        9.47026685e-02,  2.41909906e-01, -2.82642454e-01,  9.97011140e-02,\n",
      "        3.26688975e-01,  2.71904439e-01,  2.40680218e-01, -9.09758881e-02,\n",
      "        4.80675511e-02,  4.01033312e-02,  2.95033336e-01, -6.35649979e-01,\n",
      "       -4.42456692e-01,  8.10833275e-02,  2.59136319e-01,  2.18711555e-01,\n",
      "       -4.18311097e-02, -2.27340773e-01,  2.81173229e-01,  3.01879138e-01,\n",
      "        1.15914993e-01, -1.16326183e-01,  3.02666961e-03, -1.93636656e-01,\n",
      "       -1.05018564e-01, -4.39916551e-01,  3.60127777e-01, -4.12097812e-01,\n",
      "        1.48881987e-01, -1.21988334e-01,  1.56009227e-01, -1.89439446e-01,\n",
      "        1.88611113e-02, -5.05093336e-01,  1.98507771e-01, -1.50483310e-01,\n",
      "       -2.11903125e-01,  1.06818545e+00, -2.39844490e-02, -1.46918464e+00,\n",
      "       -1.77291095e-01, -2.40332440e-01,  1.66417778e+00,  3.70031476e-01,\n",
      "       -3.08374524e-01,  3.65456671e-01,  6.44035637e-02,  8.01777765e-02,\n",
      "        4.73330706e-01,  1.17611140e-02,  7.86633253e-01,  1.53169557e-01,\n",
      "        2.37081900e-01, -1.90682352e-01, -1.75274432e-01, -1.32843435e-01,\n",
      "       -3.13141108e-01, -3.90584543e-02, -2.58988261e-01,  9.31830406e-02,\n",
      "        1.19574994e-01, -1.86623372e-02, -7.33847916e-01,  7.78706670e-02,\n",
      "        8.14933360e-01, -8.46879855e-02, -4.58778918e-01,  1.55974790e-01,\n",
      "       -1.05782104e+00, -5.50444424e-01, -1.94855019e-01, -1.08833656e-01,\n",
      "       -2.91255593e-01, -3.15944433e-01, -1.98481113e-01, -1.16537556e-01,\n",
      "       -9.09822285e-02, -3.31972122e-01, -2.85574198e-01,  2.07688636e-03,\n",
      "       -1.96862325e-01, -5.18357679e-02,  1.14445662e+00, -4.75077778e-02]), 'compressed_embedding': array([ 0.52005541, -0.27289861, -0.20994601, -0.09746881,  0.30500159,\n",
      "        0.1683774 ,  0.09190899,  0.074374  ,  0.130422  ,  0.0502316 ,\n",
      "       -0.02619898, -0.08542345, -0.00476801, -0.14256001, -0.210538  ,\n",
      "       -0.2672081 ,  0.37386841,  0.233126  , -0.1048864 ,  0.334894  ,\n",
      "        0.3353942 ,  0.18872002,  0.08694641, -0.25862318, -0.1243124 ,\n",
      "        0.009828  ,  0.25923282, -0.67464399, -0.51963621,  0.40224758,\n",
      "        0.20996201,  0.64650804, -0.077036  , -0.33398199,  0.1513118 ,\n",
      "        0.231832  ,  0.017256  , -0.10188916,  0.075106  , -0.26522398,\n",
      "       -0.03672741, -0.51780844,  0.35154739, -0.51796997,  0.1063868 ,\n",
      "       -0.22414961, -0.0309692 , -0.42448822,  0.06639561, -0.63140404,\n",
      "        0.21714202,  0.00732403, -0.10774161,  0.73635399, -0.09175   ,\n",
      "       -1.10367239, -0.38402   , -0.17371759,  1.86563993,  0.24004459,\n",
      "        0.03421979,  0.28977799,  0.0272784 , -0.01023999,  0.33792251,\n",
      "       -0.10067201,  0.86623204,  0.15402041,  0.49734896, -0.16707198,\n",
      "       -0.148178  , -0.19135758, -0.302818  ,  0.00667801, -0.45798403,\n",
      "        0.07263999,  0.10628401, -0.108458  , -0.97661602,  0.14982441,\n",
      "        0.86794204,  0.0320278 , -0.36547199,  0.12274359, -0.91618001,\n",
      "       -0.54741997, -0.00864401, -0.26217121, -0.46939382, -0.33924198,\n",
      "       -0.20938301, -0.179442  ,  0.02292   , -0.51457798, -0.26289803,\n",
      "        0.16060999, -0.0718746 ,  0.0089592 ,  1.18677402, -0.19667001])}\n",
      "{'sentence_bow': array([0., 0., 0., ..., 0., 0., 0.]), 'compressed_bow': array([0., 0., 0., ..., 0., 0., 0.]), 'sentence_embedding': array([ 7.56181926e-02,  5.00831842e-01,  2.33930454e-01,  5.05230911e-02,\n",
      "        7.22813606e-02, -4.92776692e-01, -1.76166117e-01,  8.56843591e-02,\n",
      "       -1.10511594e-01, -1.78696383e-02,  5.67842759e-02, -1.40185148e-01,\n",
      "        2.31805459e-01,  4.33758693e-03,  2.79726624e-01, -1.33517817e-01,\n",
      "       -1.73131272e-01, -5.24157733e-02, -9.04472694e-02,  2.41437107e-01,\n",
      "        4.30883616e-01, -9.03246328e-02,  3.46449822e-01,  5.29395044e-01,\n",
      "        8.26303586e-02, -1.44915178e-01,  3.49030942e-02, -3.70315462e-01,\n",
      "        6.15121834e-02, -4.66298200e-02,  1.01721905e-01,  1.90771997e-01,\n",
      "       -2.21989378e-01, -2.03662008e-01, -3.69090936e-04,  3.63605648e-01,\n",
      "        4.91380483e-01,  2.34023467e-01, -3.09821367e-01, -1.51048541e-01,\n",
      "       -3.27776164e-01, -4.09077823e-01,  1.63736358e-01,  2.01138347e-01,\n",
      "        3.25522870e-01, -2.24808559e-01,  1.57477990e-01, -4.20625657e-01,\n",
      "       -1.05832741e-01, -1.21938181e+00,  6.36335928e-03, -1.95544630e-01,\n",
      "        6.92781806e-02,  9.38696265e-01, -1.35798261e-01, -1.96839094e+00,\n",
      "       -3.18257451e-01, -3.73102635e-01,  1.85499084e+00,  2.88270205e-01,\n",
      "       -1.64628163e-01,  3.17750007e-01, -5.98895013e-01,  3.86473797e-02,\n",
      "        2.20594555e-01,  2.09820926e-01,  4.99452800e-02, -2.87127286e-01,\n",
      "        6.29532695e-01, -7.60881752e-02,  3.79135571e-02, -8.17814618e-02,\n",
      "       -1.43470272e-01,  4.75682728e-02,  1.14479987e-02, -4.54725288e-02,\n",
      "       -2.88241267e-01,  1.33712113e-01, -9.25000012e-01, -9.69981849e-02,\n",
      "        6.92978203e-01,  1.22550987e-01, -4.58384424e-01,  6.47418201e-02,\n",
      "       -9.80374575e-01, -5.08151054e-01,  8.68491828e-02, -1.16097085e-01,\n",
      "        1.70811832e-01, -2.90324360e-01, -2.37431806e-02,  7.01681897e-02,\n",
      "       -1.89301550e-01, -2.62723640e-02, -6.88464582e-01,  1.15497731e-01,\n",
      "       -1.58162713e-02, -9.33065414e-02,  6.07010007e-01, -2.09111825e-01]), 'compressed_embedding': array([ 1.33085415e-01,  6.70415759e-01,  4.01467830e-01,  3.15955691e-02,\n",
      "        2.08753571e-01, -6.38414264e-01, -3.36198568e-01,  1.62817270e-01,\n",
      "        9.15828422e-02, -5.26208542e-02,  8.50555748e-02, -1.77829713e-01,\n",
      "        8.18499997e-02,  1.41632572e-01,  2.77797103e-01, -9.98831466e-02,\n",
      "       -1.39259562e-01,  3.12112235e-02, -1.70642853e-01,  3.80935401e-01,\n",
      "        2.60194570e-01, -3.28901410e-02,  4.32915688e-01,  4.78685707e-01,\n",
      "        4.77378555e-02, -4.49141450e-02,  7.65305683e-02, -4.49794322e-01,\n",
      "        1.36895701e-01, -1.30531430e-01, -1.42534137e-01,  3.52698833e-01,\n",
      "       -2.53390729e-01, -2.59149998e-01, -6.11285828e-02,  3.67788136e-01,\n",
      "        7.16868579e-01,  1.89553291e-01, -3.42699856e-01,  1.51167130e-02,\n",
      "       -4.55442339e-01, -3.74417990e-01,  8.64428654e-02,  1.25405237e-01,\n",
      "        3.53687137e-01, -3.60855311e-01, -3.27602848e-02, -3.53799134e-01,\n",
      "       -2.74325699e-01, -1.11655152e+00, -9.01581496e-02, -2.05473706e-01,\n",
      "       -1.25515431e-01,  7.80841410e-01, -1.79379001e-01, -1.88069999e+00,\n",
      "       -3.67985725e-01, -3.02052826e-01,  1.72440720e+00,  1.36341721e-01,\n",
      "       -1.48429186e-03,  7.66921267e-02, -6.14932895e-01,  1.00442814e-02,\n",
      "        1.87634721e-01,  2.28432864e-01, -3.70145701e-02, -2.45642871e-01,\n",
      "        6.33174539e-01,  7.34380111e-02,  4.53400090e-02, -4.69657220e-02,\n",
      "       -1.71826571e-01,  6.64614290e-02,  1.49431854e-01, -4.14367020e-02,\n",
      "       -1.86076269e-01,  3.19557153e-02, -8.20959985e-01, -1.90156013e-01,\n",
      "        6.70094311e-01,  1.12791575e-01, -4.47081417e-01,  2.36695156e-01,\n",
      "       -7.68189967e-01, -6.20612979e-01,  1.04070149e-01, -1.52834281e-01,\n",
      "        3.31359863e-01, -1.23814002e-01,  5.16720042e-02,  1.06024280e-01,\n",
      "       -1.63277149e-01, -2.42067128e-01, -7.60128558e-01,  9.89378691e-02,\n",
      "       -7.23595694e-02, -5.70302829e-02,  7.10609972e-01, -1.84335709e-01])}\n",
      "{'sentence_bow': array([0., 0., 0., ..., 0., 0., 0.]), 'compressed_bow': array([1., 1., 0., ..., 0., 0., 0.]), 'sentence_embedding': array([ 1.07205011e-01,  1.61877006e-01,  1.84600398e-01, -2.19827011e-01,\n",
      "        5.56659922e-02,  1.79000676e-01, -9.64600965e-02,  7.15204030e-02,\n",
      "        1.98699674e-03,  6.46358952e-02, -5.55063002e-02, -6.15705028e-02,\n",
      "        2.61608690e-01, -8.21747631e-02, -2.76831035e-02, -2.73114026e-01,\n",
      "        2.84271598e-01, -2.25507811e-01, -5.83402991e-01,  4.24613088e-01,\n",
      "        5.65636046e-02, -2.34211143e-02,  2.48850733e-01, -1.73435211e-02,\n",
      "        3.07699945e-02, -1.03998985e-02, -2.49396086e-01, -4.62113231e-01,\n",
      "        2.78763711e-01,  1.76263720e-01, -4.61033992e-02,  6.34742975e-01,\n",
      "       -1.54068973e-02,  6.47275969e-02,  7.40741044e-02, -1.39197018e-02,\n",
      "        7.17860013e-02,  2.45782688e-01, -2.51967013e-01, -5.24256006e-02,\n",
      "       -6.32324100e-01, -1.43649038e-02,  4.36816067e-01, -3.22199821e-01,\n",
      "        4.48324978e-02,  4.44400404e-03, -5.11030070e-02, -2.95976341e-01,\n",
      "        2.36387610e-01, -5.32582045e-01, -1.66473493e-01, -4.06140000e-01,\n",
      "        2.17263699e-01,  9.68105018e-01, -8.80593956e-02, -2.01425982e+00,\n",
      "       -4.58256632e-01, -2.04108119e-01,  1.23145580e+00,  4.17356014e-01,\n",
      "        1.54543296e-01,  4.23793018e-01, -1.76019669e-01, -1.21974804e-01,\n",
      "        5.53632021e-01,  4.15438972e-02,  2.49928683e-01,  5.45873582e-01,\n",
      "        1.87948704e-01,  1.11452993e-02,  2.93848008e-01, -2.88875490e-01,\n",
      "       -5.32235563e-01, -3.71760577e-01, -5.50086126e-02,  2.52440214e-01,\n",
      "       -1.12467885e-01,  1.51301205e-01, -7.48457372e-01, -1.90261990e-01,\n",
      "        6.04227066e-01,  1.02970086e-01, -1.50972098e-01, -6.03991151e-02,\n",
      "       -1.16001999e+00, -4.54942226e-01, -5.66163957e-02,  1.64363518e-01,\n",
      "       -3.64089310e-01, -5.01878977e-01,  1.39197096e-01, -2.77670294e-01,\n",
      "        6.32639080e-02, -5.82720041e-02, -7.42123961e-01,  1.88586205e-01,\n",
      "       -3.04422498e-01, -1.06875397e-01,  2.62866408e-01, -8.58762041e-02]), 'compressed_embedding': array([-0.23026949,  0.26070374,  0.70089501, -0.6120075 , -0.18705176,\n",
      "        0.1506055 ,  0.14816749, -0.41961998,  0.0756825 , -0.09712999,\n",
      "       -0.2393375 , -0.15944812,  0.1235655 , -0.05560343, -0.02031   ,\n",
      "        0.0401909 ,  0.05039275,  0.00414249, -0.4088825 ,  0.76264   ,\n",
      "        0.249455  ,  0.2319575 ,  0.06090502, -0.38446701,  0.41900998,\n",
      "        0.32046801, -0.34103251, -0.766945  ,  0.0913175 , -0.34576148,\n",
      "        0.01587223,  0.59360647,  0.22521825,  0.02864001, -0.0775205 ,\n",
      "        0.269265  ,  0.0867075 ,  0.12841275,  0.1668175 , -0.44692701,\n",
      "       -0.314695  ,  0.21713623,  0.30001751, -0.16311625, -0.43111849,\n",
      "       -0.38131499,  0.15311   , -0.63537252, -0.26896   , -0.32073751,\n",
      "       -0.13195901, -0.16325501,  0.33542001,  0.8240425 , -0.4194755 ,\n",
      "       -1.56693506,  0.12396248,  0.32872498,  0.95248246,  0.4028275 ,\n",
      "        0.007736  ,  0.60389996, -0.19385125, -0.17684001,  0.68189502,\n",
      "       -0.1967525 ,  0.97466743,  0.46210551,  0.324395  ,  0.34897101,\n",
      "        0.40595752, -0.34621274, -0.14934251, -0.30438   ,  0.1172375 ,\n",
      "       -0.05794625,  0.05995078, -0.06620274, -0.4892475 , -0.33218402,\n",
      "        0.46348602, -0.156808  , -0.21099749,  0.1026025 , -0.78634501,\n",
      "       -0.44807425, -0.17511201, -0.094755  , -0.1315435 , -0.84589249,\n",
      "        0.26796702, -0.45856249,  0.15069425,  0.40724474, -0.1957175 ,\n",
      "        0.31782001,  0.0393075 , -0.3189525 , -0.2389715 ,  0.54526001])}\n",
      "{'sentence_bow': array([0., 0., 0., ..., 0., 0., 0.]), 'compressed_bow': array([0., 0., 0., ..., 0., 0., 0.]), 'sentence_embedding': array([ 2.43942559e-01,  8.28772336e-02,  2.48933867e-01, -1.68595344e-01,\n",
      "       -1.47312880e-01, -8.76233354e-02,  3.37395996e-01,  1.60760343e-01,\n",
      "       -4.06900086e-02, -1.61154512e-02, -1.43548548e-01,  4.73396629e-02,\n",
      "        7.10541010e-01, -1.59581050e-01,  2.16496781e-01, -5.43813920e-03,\n",
      "        1.63892999e-01, -1.00010887e-01, -5.16157806e-01,  5.28448820e-02,\n",
      "        2.65271038e-01, -3.79139185e-02,  1.59570903e-01,  2.72048861e-01,\n",
      "       -4.38069403e-01, -1.86648235e-01,  4.70740944e-01, -2.73884654e-01,\n",
      "       -1.15962349e-01,  2.31577873e-01,  1.99762657e-01,  3.33318084e-01,\n",
      "       -1.43506661e-01,  3.55856478e-01,  3.52292180e-01,  9.31036286e-03,\n",
      "        1.41565567e-02,  1.98302448e-01, -2.37715900e-01,  1.42912671e-01,\n",
      "       -6.47404909e-01, -1.35287583e-01,  1.61222681e-01, -4.09258872e-01,\n",
      "        5.07255852e-01, -2.91165616e-02,  2.15676688e-02, -5.61723113e-01,\n",
      "       -6.19708896e-02, -5.29097199e-01,  3.77893567e-01, -3.31227779e-01,\n",
      "        4.24131118e-02,  6.98042154e-01, -2.25811660e-01, -1.71488881e+00,\n",
      "       -4.28025573e-01, -8.91188905e-02,  1.25543106e+00,  5.25853336e-01,\n",
      "       -1.18313879e-01,  6.29750013e-01, -1.46044999e-01, -2.45227776e-02,\n",
      "        4.51034427e-01,  4.15132225e-01,  2.46284474e-02,  3.41623992e-01,\n",
      "        2.39529103e-01,  1.60141990e-01, -1.25972450e-01, -9.59334522e-02,\n",
      "       -1.22988090e-01, -1.29745454e-01,  2.68268347e-01,  1.56776771e-01,\n",
      "        1.19622219e-02, -1.17454447e-01, -1.15840769e+00, -1.65551126e-01,\n",
      "        6.33154690e-01, -1.38907224e-01, -4.81111795e-01, -1.24627322e-01,\n",
      "       -1.16660774e+00, -1.77350774e-01,  4.00494456e-01,  9.60169137e-02,\n",
      "       -4.56243366e-01,  1.46166980e-03,  4.58048917e-02, -1.07123017e-01,\n",
      "       -6.19039945e-02, -7.06533249e-03, -4.94948864e-01,  6.13624454e-01,\n",
      "       -3.86409998e-01, -3.27330768e-01,  1.53753445e-01, -2.37219989e-01]), 'compressed_embedding': array([ 0.08514199,  0.48819083,  0.53135598, -0.1173202 , -0.39052197,\n",
      "        0.016346  ,  0.19797799,  0.13887259, -0.262916  , -0.08802002,\n",
      "       -0.27018499, -0.126918  ,  0.41153178,  0.05770801,  0.38488799,\n",
      "        0.342186  ,  0.0920994 ,  0.0466124 , -0.155838  ,  0.32173401,\n",
      "        0.10822801,  0.01634235,  0.00832799,  0.2571044 , -0.17152718,\n",
      "        0.22256541,  0.49353281, -0.38479599, -0.24218941,  0.25229797,\n",
      "       -0.19821319,  0.366936  , -0.146424  ,  0.24578997,  0.44344369,\n",
      "       -0.16699001,  0.01083919,  0.014076  , -0.346708  , -0.05059999,\n",
      "       -0.72403401,  0.049882  , -0.08883979, -0.65031797,  0.48964757,\n",
      "        0.14958401,  0.01378119, -0.41545758, -0.30608758, -0.45722002,\n",
      "        0.415198  , -0.08088478, -0.0595564 ,  0.62197381, -0.2964856 ,\n",
      "       -1.7694    , -0.46421799,  0.007866  ,  1.06331003,  0.16875401,\n",
      "       -0.19675599,  0.65688801, -0.0437202 , -0.11914001,  0.58044606,\n",
      "        0.614236  ,  0.10354002,  0.0229472 ,  0.30912402,  0.18016079,\n",
      "       -0.14782819,  0.098588  , -0.1523252 , -0.06604379,  0.4430728 ,\n",
      "        0.19159119,  0.043934  , -0.21228799, -0.96385401, -0.55443203,\n",
      "        0.53643835, -0.253618  , -0.57858521, -0.14008141, -1.22356594,\n",
      "        0.06811859,  0.35189602, -0.01385055, -0.4752326 ,  0.08359881,\n",
      "       -0.1865418 ,  0.06167258,  0.31005818,  0.1319886 , -0.19403999,\n",
      "        0.65997499, -0.158508  , -0.5167442 ,  0.0238498 , -0.1416184 ])}\n",
      "{'sentence_bow': array([0., 0., 0., ..., 0., 0., 0.]), 'compressed_bow': array([0., 0., 0., ..., 0., 0., 0.]), 'sentence_embedding': array([-0.17210609, -0.27868539,  0.26396683, -0.46930268,  0.20178603,\n",
      "       -0.17361917, -0.03365518,  0.09658018, -0.12834892,  0.0822459 ,\n",
      "        0.17797817, -0.08287463,  0.34193298,  0.02117809, -0.24054109,\n",
      "       -0.28655455,  0.4920474 , -0.26295272, -0.63622183,  0.11838754,\n",
      "        0.08855163, -0.30722344,  0.00801673,  0.29296362, -0.22651416,\n",
      "       -0.40627006,  0.12010904, -0.32952544, -0.02656155,  0.25177273,\n",
      "        0.05232209,  0.38448828, -0.39665538, -0.13006271, -0.34154898,\n",
      "        0.35395548, -0.12047637,  0.25715637,  0.04286354, -0.13832365,\n",
      "       -0.55128914, -0.15458071, -0.02468817, -0.06132736,  0.06657536,\n",
      "        0.05172328, -0.07486532, -0.4690178 , -0.19337992, -0.57586902,\n",
      "        0.2479382 , -0.27475139,  0.02713727,  0.8093546 , -0.03719709,\n",
      "       -2.14417267, -0.29536271, -0.08900472,  1.62439382,  0.43088916,\n",
      "       -0.09600005,  0.2465813 , -0.24975619, -0.09660713,  0.65463215,\n",
      "       -0.26136819,  0.21850428,  0.68155646,  0.51817727,  0.3578991 ,\n",
      "        0.06631572, -0.11350965, -0.41957542, -0.50181681,  0.05736845,\n",
      "       -0.14740343, -0.07739236,  0.19470009, -1.05746174, -0.1201648 ,\n",
      "        0.90640181, -0.10145681, -0.08270509, -0.14189717, -1.06415093,\n",
      "       -0.50000304,  0.01589528, -0.04446728,  0.15468548, -0.47380418,\n",
      "        0.42234728, -0.12972838,  0.10704391, -0.01988646, -0.14101954,\n",
      "        0.42095453,  0.09556147, -0.23364638,  0.3585445 ,  0.18704353]), 'compressed_embedding': array([-0.12746002,  0.52354002,  0.47432998, -0.53518999, -0.26951998,\n",
      "        0.17611   , -0.27667999,  0.33764499, -0.18013999, -0.06854001,\n",
      "        0.371975  , -0.385115  ,  0.1177645 ,  0.189785  , -0.10557   ,\n",
      "       -0.36103499,  0.49842   ,  0.11536501, -0.69438505,  1.04100001,\n",
      "        0.13167401, -0.19047411, -0.21834499,  0.01039001,  0.09569   ,\n",
      "       -0.18145999, -0.26549798, -0.610165  ,  0.04389   , -0.44984001,\n",
      "       -0.60017002,  0.54462498, -0.39963502, -0.44549   , -0.27120501,\n",
      "        0.45403501,  0.01523   , -0.036725  ,  0.19121501, -0.159446  ,\n",
      "       -0.05517   , -0.137706  , -0.28707498, -0.51937997, -0.101522  ,\n",
      "       -0.16921701, -0.31599501, -0.23344001, -0.240485  , -0.54821998,\n",
      "       -0.13517   ,  0.076465  , -0.49136502,  1.02087998, -0.38156101,\n",
      "       -1.71815002,  0.0426105 ,  0.01566   ,  1.19280005, -0.03092501,\n",
      "       -0.510575  ,  0.2798    , -0.06367499, -0.29999402,  0.91339499,\n",
      "       -0.249245  ,  0.427935  ,  0.58542502,  0.19763499,  0.31777   ,\n",
      "        0.02941   , -0.13239999, -0.71920502, -0.384395  ,  0.3057    ,\n",
      "       -0.2499    ,  0.30265102,  0.25343502, -0.63247895, -0.66813999,\n",
      "        0.75699002, -0.45209002, -0.24935   , -0.53359503, -0.81924999,\n",
      "       -0.1351825 ,  0.03767   , -0.06202999, -0.1637565 , -0.22536799,\n",
      "        0.1194055 ,  0.16152149,  0.43171999, -0.50748003, -0.15806499,\n",
      "       -0.1596075 , -0.13328502, -0.13552999,  0.41207999, -0.171086  ])}\n",
      "{'sentence_bow': array([0., 0., 0., ..., 0., 0., 0.]), 'compressed_bow': array([0., 0., 0., ..., 0., 0., 0.]), 'sentence_embedding': array([-0.07252831,  0.446228  ,  0.20693493,  0.26849544, -0.01241581,\n",
      "       -0.26676351, -0.10529955,  0.185866  , -0.11509936, -0.044646  ,\n",
      "        0.03221349, -0.33181345,  0.07305317, -0.13108373,  0.30026877,\n",
      "       -0.36741814,  0.00986044, -0.03072125, -0.44447938,  0.30350703,\n",
      "        0.05227287,  0.16079706,  0.21614525,  0.33929542, -0.27906165,\n",
      "       -0.26791617,  0.31993765, -0.20859733, -0.14474069, -0.02233788,\n",
      "        0.04673844,  0.40896264, -0.08953914, -0.12823874, -0.09343451,\n",
      "        0.26433045,  0.1930133 ,  0.19316857, -0.4601067 ,  0.21534543,\n",
      "       -0.18970048, -0.4044221 , -0.01347731, -0.01156306,  0.02720675,\n",
      "       -0.21356322,  0.02924632, -0.26750782, -0.27955988, -0.64379412,\n",
      "       -0.04118376, -0.17425168, -0.15660244,  0.78659725, -0.0726883 ,\n",
      "       -1.52056682,  0.15804894, -0.45236686,  1.36329329,  0.39249232,\n",
      "       -0.054399  ,  0.23222004, -0.33570927, -0.36066884,  0.43345255,\n",
      "        0.30634919, -0.06434201,  0.00290681,  0.68044108, -0.05752832,\n",
      "        0.01259932, -0.0768181 , -0.09836476,  0.11573876,  0.09345963,\n",
      "        0.17434239, -0.22872944, -0.12584256, -0.57764995, -0.22303882,\n",
      "        0.46044061,  0.2161915 , -0.16788606, -0.06131431, -1.06649542,\n",
      "       -0.16203438, -0.09759595, -0.17103925, -0.12499952, -0.04392456,\n",
      "        0.07986621, -0.04387651,  0.06562507, -0.333354  , -0.64728391,\n",
      "        0.34562948, -0.07873125, -0.21143274,  0.55341005, -0.14764686]), 'compressed_embedding': array([-7.94735029e-02,  5.85273743e-01,  2.06749499e-01,  3.19246858e-01,\n",
      "       -1.35903722e-02, -2.37015203e-01, -4.38200012e-02,  3.84952754e-01,\n",
      "       -1.26174986e-02, -1.33689493e-01,  3.04152369e-01, -2.59187251e-01,\n",
      "       -5.53601161e-02,  1.35398135e-01,  4.98631239e-01, -5.71672559e-01,\n",
      "        1.66032374e-01, -5.63131198e-02, -5.86546302e-01,  4.45767522e-01,\n",
      "        2.19157517e-01,  1.40092507e-01,  3.51641744e-01,  4.48438764e-01,\n",
      "       -1.59220994e-01, -2.63867736e-01,  4.48433757e-01, -1.83282122e-01,\n",
      "       -1.19907558e-02, -5.99218756e-02, -5.30228689e-02,  4.93280381e-01,\n",
      "        5.99433742e-02, -4.95287478e-01, -1.48215011e-01,  3.92799616e-01,\n",
      "        3.42917502e-01,  3.33992511e-01, -3.59352589e-01,  3.24252218e-01,\n",
      "       -2.38108516e-01, -6.68063521e-01,  1.76541265e-02, -1.84372723e-01,\n",
      "        1.26313746e-01, -4.84349698e-01, -9.87887457e-02, -2.22480014e-01,\n",
      "       -3.82700622e-01, -6.25693738e-01, -3.14700007e-01, -2.11749971e-01,\n",
      "       -2.38068998e-01,  9.58708763e-01, -3.18039268e-01, -2.01982498e+00,\n",
      "       -3.39806229e-02, -6.26876175e-01,  1.68133748e+00,  5.32416999e-01,\n",
      "       -9.57664996e-02,  1.82919979e-01, -4.73703742e-01, -1.85807988e-01,\n",
      "        3.84383768e-01,  5.90169966e-01, -1.92901507e-01,  9.12420005e-02,\n",
      "        8.72895718e-01, -6.32474292e-03, -6.81680068e-02, -1.32865429e-01,\n",
      "       -1.78666756e-01,  1.04931615e-01,  1.38926625e-01,  3.28868814e-02,\n",
      "       -1.88974619e-01, -1.26190819e-02, -7.03159988e-01, -2.36302495e-01,\n",
      "        5.34377515e-01,  1.72364995e-01, -3.71212751e-01,  1.65240437e-01,\n",
      "       -9.46019590e-01, -1.09592505e-01,  1.42496079e-04, -3.35337520e-02,\n",
      "        8.81506130e-04, -3.37875076e-02,  3.65374982e-03, -2.38663722e-02,\n",
      "       -1.31088242e-01, -1.87033117e-01, -9.37726200e-01,  3.68930250e-01,\n",
      "       -1.20457485e-01, -2.09831253e-01,  6.78554952e-01, -3.98564249e-01])}\n",
      "{'sentence_bow': array([0., 0., 0., ..., 0., 0., 0.]), 'compressed_bow': array([0., 0., 0., ..., 0., 0., 0.]), 'sentence_embedding': array([ 0.34365097,  0.49007118,  0.38733846, -0.19641195, -0.1859152 ,\n",
      "       -0.23236617, -0.11965038,  0.19519001,  0.04718499,  0.0643637 ,\n",
      "        0.22839758,  0.27534553, -0.06605824, -0.0356389 ,  0.25448546,\n",
      "       -0.55024666,  0.01171282, -0.13339709, -0.18139608,  0.3691788 ,\n",
      "        0.64916819,  0.21198359,  0.32420358,  0.42927068,  0.02554942,\n",
      "       -0.66693747,  0.04204206, -0.35045913, -0.0140491 , -0.29499987,\n",
      "        0.35474008,  0.04314378, -0.08974753, -0.0620263 , -0.13546053,\n",
      "        0.28495809,  0.28196457,  0.19328181, -0.18650493,  0.09315506,\n",
      "       -0.37940857, -0.46577585,  0.16071653, -0.12467903,  0.08749589,\n",
      "        0.00451364,  0.14807531, -0.2900624 , -0.02961382, -1.01695359,\n",
      "       -0.2482748 , -0.32864085,  0.01029441,  1.10146809, -0.15176252,\n",
      "       -1.8693924 , -0.09347059, -0.27743495,  1.55636311,  0.67715472,\n",
      "        0.09981499,  0.16213261, -0.41854694, -0.03548006,  0.17113809,\n",
      "        0.27049688,  0.24162497,  0.26872945,  0.67876261, -0.05253112,\n",
      "       -0.18396647,  0.01803329, -0.49049309,  0.03538347, -0.01539753,\n",
      "        0.13896701, -0.24250953,  0.25093344, -0.96332359, -0.05494259,\n",
      "        0.65740603,  0.15569286, -0.38622355,  0.09636995, -1.06541991,\n",
      "       -0.49544311,  0.12611599,  0.02314694, -0.18560471, -0.07987183,\n",
      "        0.0430047 , -0.05457924, -0.17509718, -0.01329481, -0.9508577 ,\n",
      "        0.13107549, -0.091886  , -0.04348019,  0.50619352, -0.27595499]), 'compressed_embedding': array([ 0.41843301,  0.94090492,  0.56796503,  0.0911725 , -0.14300574,\n",
      "       -0.68971753, -0.4020375 ,  0.03907   ,  0.19645375,  0.19277249,\n",
      "        0.14041749,  0.34413999, -0.59011447,  0.0121425 ,  0.99755007,\n",
      "       -0.3585625 , -0.49064973, -0.15275475, -0.06856975,  0.27577251,\n",
      "        0.61688501,  0.27702749, -0.016753  ,  0.94609749,  0.02702325,\n",
      "       -1.00586295,  0.18026724, -0.26418251, -0.35829502, -0.7912575 ,\n",
      "        0.31285501, -0.01210922,  0.27561399, -0.21111125, -0.17178027,\n",
      "        0.53775501,  0.72750497, -0.27723503, -0.07465913,  0.20198599,\n",
      "       -0.22817501, -0.19578975, -0.25949627,  0.24769306,  0.22263977,\n",
      "       -0.01142399,  0.09954824, -0.39589751, -0.06012675, -1.26822996,\n",
      "       -0.13123649, -0.60966253,  0.127066  ,  0.99930501, -0.29437798,\n",
      "       -1.22621691,  0.08291251, -0.43079752,  1.21176243,  0.32075751,\n",
      "        0.419     , -0.52366424, -0.50325501, -0.26148   , -0.33366001,\n",
      "        0.9012    ,  0.16990501, -0.592825  ,  1.18311501, -0.10900875,\n",
      "       -0.13563   ,  0.121286  , -0.62561524,  0.52758253,  0.39326251,\n",
      "        0.0414615 , -0.26455301,  0.34464476, -0.31993249, -0.47920749,\n",
      "        0.448008  ,  0.52351749, -0.36761749,  0.02819   , -0.36856499,\n",
      "       -1.1488775 ,  0.39125443, -0.13844225,  0.39370999,  0.1584025 ,\n",
      "        0.211715  ,  0.158013  , -0.33036271, -0.1619125 , -0.78498501,\n",
      "        0.13606249,  0.07185251, -0.1397    ,  0.64974499, -0.71999753])}\n",
      "{'sentence_bow': array([0., 0., 0., ..., 0., 0., 0.]), 'compressed_bow': array([0., 0., 0., ..., 0., 0., 0.]), 'sentence_embedding': array([ 0.04395064,  0.11460961,  0.29703301, -0.00391774,  0.10466735,\n",
      "       -0.47409114,  0.00445656,  0.15392986,  0.13016631,  0.13428828,\n",
      "        0.05037967,  0.0356657 ,  0.1012964 , -0.25981539, -0.11184964,\n",
      "       -0.16405781,  0.13212515, -0.06083668, -0.09581105,  0.16882877,\n",
      "        0.47092351,  0.00437852,  0.04678975,  0.42460132, -0.03425213,\n",
      "       -0.29249835,  0.01989496, -0.19505602, -0.04100195, -0.11068908,\n",
      "       -0.0119127 ,  0.34022334, -0.1354406 , -0.1252936 , -0.02746165,\n",
      "        0.37222439,  0.30847454,  0.03063126, -0.10782244,  0.0711436 ,\n",
      "       -0.02311387, -0.37039205,  0.10266364,  0.07490474,  0.01118257,\n",
      "       -0.03047322,  0.21479353, -0.3233833 , -0.06239566, -0.86474222,\n",
      "       -0.1274852 , -0.12201392, -0.16393425,  0.65794027, -0.13360517,\n",
      "       -1.82263219, -0.44765523, -0.24836656,  1.61167729,  0.28614122,\n",
      "       -0.06463653,  0.19605848, -0.15248571,  0.27252588,  0.36386511,\n",
      "        0.07199818,  0.10872232,  0.10404243,  0.36374909, -0.12193675,\n",
      "        0.14761396, -0.12216934, -0.38527244, -0.19219437,  0.05669725,\n",
      "        0.08307078, -0.04384527,  0.00595391, -0.94829959, -0.13384451,\n",
      "        0.67662174,  0.09474657, -0.31735596,  0.20082246, -0.84348553,\n",
      "       -0.32419464,  0.00604415, -0.09274913, -0.06070174, -0.21035893,\n",
      "        0.15741716,  0.1371856 , -0.13813861, -0.2476785 , -0.60757864,\n",
      "        0.12661684,  0.07097387, -0.1099968 ,  0.83777213, -0.00846053]), 'compressed_embedding': array([ 0.146291  , -0.22679999, -0.22505499,  0.49728501,  0.30098999,\n",
      "       -0.62888503, -0.067265  ,  0.3851555 ,  0.61368001,  0.57175499,\n",
      "       -0.47454199, -0.10768   ,  0.22013751, -0.50126004, -0.212926  ,\n",
      "       -0.14680001,  0.42232999,  0.38652998, -0.12138002,  0.28089499,\n",
      "        0.32182902,  0.36485499, -0.1122295 ,  0.22005901, -0.0518895 ,\n",
      "       -0.1822335 ,  0.1081855 , -0.43889499,  0.034262  ,  0.17825873,\n",
      "       -0.12114501,  0.787705  ,  0.1113445 , -0.09515499, -0.156754  ,\n",
      "        0.76696002,  0.30279398, -0.69442499,  0.00799501,  0.086325  ,\n",
      "        0.73408496, -0.52921003, -0.16760001,  0.0753055 , -0.41532248,\n",
      "        0.47999001,  0.22455201,  0.10302451,  0.32227999, -0.66109502,\n",
      "       -0.428895  ,  0.126615  , -0.449525  ,  0.35590002,  0.236285  ,\n",
      "       -0.8133235 , -0.38494   , -0.41284499,  1.39824998,  0.08995225,\n",
      "        0.09374999,  0.04483205,  0.25892001,  0.40417498,  0.34634998,\n",
      "       -0.05582   ,  0.1112    ,  0.30363056,  0.38006002,  0.181256  ,\n",
      "        0.62581497, -0.254857  , -0.233005  , -1.04907   ,  0.036768  ,\n",
      "       -0.24830499,  0.18794999, -0.209638  , -0.64508998,  0.1203285 ,\n",
      "        0.35516   ,  0.1212105 , -0.03824   ,  0.216675  , -0.25577   ,\n",
      "        0.02846   ,  0.18021001, -0.152815  , -0.47218001,  0.097815  ,\n",
      "        0.28122652,  0.1398415 ,  0.34114   , -0.82399005, -0.24255499,\n",
      "        0.071115  ,  0.21988499,  0.244372  ,  1.07969999,  0.30413851])}\n",
      "{'sentence_bow': array([0., 0., 0., ..., 0., 0., 0.]), 'compressed_bow': array([0., 0., 0., ..., 0., 0., 0.]), 'sentence_embedding': array([-0.22430563, -0.02510554,  0.39518252, -0.16638204, -0.25748172,\n",
      "        0.22413388,  0.10951427,  0.46318665, -0.58998543, -0.18804426,\n",
      "        0.01621655, -0.24716455,  0.21020383,  0.06898721, -0.06093918,\n",
      "       -0.12876129,  0.18884225,  0.16462217, -0.47697419,  0.03570727,\n",
      "        0.13990301, -0.15052091,  0.20618701,  0.20379944,  0.03783527,\n",
      "       -0.22420126,  0.06449468, -0.128262  ,  0.28104454,  0.03731   ,\n",
      "       -0.25913084,  0.22224088,  0.03354273, -0.00351963,  0.10548976,\n",
      "       -0.07858363, -0.13544056,  0.26765767, -0.33574909, -0.11087155,\n",
      "       -0.33827826, -0.27631974,  0.25494337, -0.47525832,  0.13502727,\n",
      "       -0.15223466,  0.29793027, -0.31031546, -0.11619199, -0.81219083,\n",
      "       -0.04035246, -0.19925617,  0.06664224,  0.9135921 ,  0.0648438 ,\n",
      "       -2.29150915, -0.09342919, -0.24960309,  1.33320916,  0.66977906,\n",
      "       -0.61085087,  0.41010427, -0.20678264,  0.11547918,  0.52704793,\n",
      "       -0.03201382,  0.07761273,  0.53561479, -0.00257382,  0.05066728,\n",
      "       -0.12325037, -0.21142457, -0.1913816 , -0.47078669,  0.23376827,\n",
      "        0.06562364, -0.13055056,  0.05067345, -0.76844633,  0.13306054,\n",
      "        0.62169093,  0.0762991 , -0.4638162 , -0.068525  , -1.12952435,\n",
      "       -0.26233739, -0.18789244,  0.17066564,  0.0719931 , -0.12213695,\n",
      "       -0.23830418, -0.12178636, -0.30686653,  0.45652637, -0.38965836,\n",
      "        0.15503384, -0.13985246,  0.11318001,  0.62719631, -0.01853365]), 'compressed_embedding': array([-2.16615796e-01, -2.31323410e-02,  2.97548652e-01, -1.40148059e-01,\n",
      "       -1.41029894e-01,  1.63199216e-01,  3.37418839e-02,  3.70641440e-01,\n",
      "       -5.17388880e-01, -1.41099989e-01, -4.90931086e-02, -2.59229988e-01,\n",
      "        3.35229069e-01,  1.09675467e-01, -1.22907214e-01, -1.40708238e-01,\n",
      "        2.13398993e-01,  1.08998217e-01, -5.28278887e-01,  6.81999326e-03,\n",
      "        1.05842777e-01, -1.21387787e-01,  2.64848590e-01,  1.90220430e-01,\n",
      "       -1.50024667e-01, -3.14398199e-01, -3.06187440e-02, -1.99689329e-01,\n",
      "        2.10854456e-01,  6.86688945e-02, -1.58429921e-01,  1.80238843e-01,\n",
      "       -8.03667307e-03,  1.26571106e-02,  4.25974801e-02, -3.54833342e-02,\n",
      "       -2.55108695e-04,  3.11361641e-01, -2.59533316e-01, -2.30541136e-02,\n",
      "       -4.71575409e-01, -2.94879675e-01,  2.78909683e-01, -5.27592421e-01,\n",
      "        1.89176664e-01, -1.31345257e-01,  3.64594787e-01, -2.88470000e-01,\n",
      "       -1.76771104e-01, -7.47177839e-01,  2.36442516e-04, -2.25409776e-01,\n",
      "        2.79605184e-02,  9.69629288e-01,  4.99835424e-02, -2.29434443e+00,\n",
      "       -4.21578921e-02, -3.37458014e-01,  1.47635341e+00,  6.65306628e-01,\n",
      "       -5.31149983e-01,  3.67314458e-01, -7.62454420e-02,  1.98388994e-01,\n",
      "        6.09200180e-01, -2.04122234e-02,  8.79011080e-02,  5.38718104e-01,\n",
      "        1.15187563e-01,  1.02948897e-01, -1.66671544e-01, -2.10491106e-01,\n",
      "       -2.91787744e-01, -5.47157526e-01,  1.39285669e-01,  7.14999856e-03,\n",
      "       -1.11095138e-01,  1.23110875e-01, -9.10741091e-01,  7.59028867e-02,\n",
      "        7.00065553e-01,  1.72901094e-01, -4.81190890e-01, -1.52316689e-02,\n",
      "       -1.15924323e+00, -2.13432342e-01, -3.52663286e-02,  7.02824444e-02,\n",
      "        1.72851548e-01, -1.88662946e-01, -2.54374027e-01, -1.69750005e-01,\n",
      "       -4.03985560e-01,  4.15103316e-01, -4.21189100e-01,  1.76576480e-01,\n",
      "       -2.33312234e-01, -4.39981610e-04,  6.70223296e-01, -1.28603339e-01])}\n",
      "{'sentence_bow': array([1., 0., 0., ..., 0., 0., 0.]), 'compressed_bow': array([1., 0., 0., ..., 0., 0., 0.]), 'sentence_embedding': array([ 0.23432258, -0.05949235,  0.06829844, -0.23282079,  0.09380628,\n",
      "        0.27937314, -0.47779557,  0.10293109, -0.06479557, -0.26105398,\n",
      "       -0.13756357, -0.31660798, -0.12032216, -0.04332823, -0.00626443,\n",
      "       -0.05755686,  0.32232285,  0.20561899, -0.43799463,  0.11967257,\n",
      "        0.32810593, -0.03594095,  0.31548163,  0.02604301,  0.01843986,\n",
      "       -0.08202571, -0.09653912, -0.6030854 , -0.43645546, -0.13505329,\n",
      "        0.34628996,  0.40715647,  0.13694812, -0.02813358, -0.02725215,\n",
      "       -0.02621372,  0.1124417 , -0.09863637, -0.34869379,  0.18804815,\n",
      "       -0.26408634, -0.21177498,  0.07288561, -0.00796233, -0.27890885,\n",
      "       -0.28160787, -0.05182436, -0.24823821, -0.28883308, -0.5563336 ,\n",
      "        0.03521242,  0.01092207, -0.06253064,  0.65338898, -0.28373399,\n",
      "       -1.30105209,  0.25624856, -0.0730703 ,  1.33271754,  0.34801826,\n",
      "       -0.27753982,  0.09764238, -0.00868933, -0.0770005 ,  0.68927401,\n",
      "        0.105987  ,  0.1610305 ,  0.41186357,  0.298765  , -0.18265678,\n",
      "        0.12253536, -0.33739322, -0.23176743, -0.0155815 ,  0.02103929,\n",
      "       -0.08213242, -0.15668564, -0.07044337, -0.83074147, -0.28495413,\n",
      "        0.332158  , -0.54915798,  0.18823287,  0.00284914, -1.09243011,\n",
      "       -0.03292264,  0.088485  , -0.16444494,  0.05093769, -0.16677502,\n",
      "        0.08972878, -0.49805215, -0.28480127,  0.21466349, -0.192112  ,\n",
      "        0.25624809, -0.14627694, -0.11521321,  0.44096687, -0.18256047]), 'compressed_embedding': array([ 2.96371639e-01,  3.28570120e-02,  9.67616364e-02, -3.42468292e-01,\n",
      "        6.37379959e-02,  2.62553990e-01, -4.43932533e-01,  1.84804574e-02,\n",
      "       -2.14909807e-01, -3.56509566e-01, -1.69657290e-01, -3.46727490e-01,\n",
      "       -2.05735460e-01, -3.86131965e-02,  1.90090318e-03,  1.05303572e-02,\n",
      "        3.36713612e-01,  2.80830532e-01, -4.76853102e-01,  1.21987820e-01,\n",
      "        3.11683834e-01, -1.32405013e-01,  4.13503647e-01, -9.66370776e-02,\n",
      "        2.49885276e-01,  4.45527285e-02, -2.23587990e-01, -7.16175020e-01,\n",
      "       -3.71438771e-01, -1.52946010e-01,  3.61695468e-01,  5.52940309e-01,\n",
      "        1.16357610e-01,  1.57790948e-02, -2.65972782e-02,  2.61570867e-02,\n",
      "       -3.42016196e-04, -2.37071887e-02, -2.84111202e-01,  1.50457278e-01,\n",
      "       -2.63721704e-01, -2.70587265e-01,  1.18215322e-01, -1.59284547e-02,\n",
      "       -3.06301296e-01, -3.97095472e-01, -8.17327499e-02, -1.64710432e-01,\n",
      "       -2.85908729e-01, -6.59078181e-01,  7.25649074e-02, -1.71553660e-02,\n",
      "       -3.42099257e-02,  6.84456646e-01, -2.17757791e-01, -1.44318354e+00,\n",
      "        2.14241803e-01, -5.15507348e-02,  1.48748553e+00,  3.08085442e-01,\n",
      "       -2.36126170e-01,  4.79235537e-02,  2.43109092e-02, -1.08322717e-01,\n",
      "        7.77252734e-01,  5.64889051e-02,  2.69937009e-01,  4.73149210e-01,\n",
      "        2.54393637e-01, -1.90599531e-01,  1.94449529e-01, -3.59752029e-01,\n",
      "       -2.26518571e-01, -1.86327323e-02, -3.14545408e-02, -9.09559205e-02,\n",
      "       -1.74329907e-01, -9.82479155e-02, -7.83730924e-01, -2.83440739e-01,\n",
      "        3.34761083e-01, -6.65571153e-01,  3.32942694e-01, -4.31209058e-02,\n",
      "       -1.19763100e+00, -1.74063712e-03,  7.84636289e-02, -1.30795375e-01,\n",
      "        7.60570765e-02, -1.78042278e-01,  1.42057240e-02, -5.60929060e-01,\n",
      "       -1.80567086e-01,  2.99890399e-01, -5.08214459e-02,  2.53736675e-01,\n",
      "       -1.70466095e-01, -1.08188629e-01,  4.46580589e-01, -6.58179075e-02])}\n"
     ]
    }
   ],
   "execution_count": 116
  },
  {
   "cell_type": "markdown",
   "source": [
    "Here you can see that the new dataset returned a single numpy array containing all sentence embeddings in our dataset. This is a lot more efficient than returning a list of arrays (which is the default behaviour). Below we check the type and the dimensionality.\n",
    "\n",
    "We will be using `text` subset from our dataset to not use too much RAM."
   ],
   "metadata": {
    "collapsed": false,
    "pycharm": {
     "name": "#%% md\n"
    }
   }
  },
  {
   "cell_type": "code",
   "source": [
    "sent_embedding = test_ds['sentence_embedding']\n",
    "compr_embedding = test_ds['compressed_embedding']\n",
    "print(type(sent_embedding))\n",
    "print(sent_embedding.shape)\n",
    "print(type(compr_embedding))\n",
    "print(compr_embedding.shape)"
   ],
   "metadata": {
    "collapsed": false,
    "pycharm": {
     "name": "#%%\n"
    },
    "ExecuteTime": {
     "end_time": "2025-04-16T17:30:12.047366Z",
     "start_time": "2025-04-16T17:30:11.293325Z"
    }
   },
   "outputs": [
    {
     "name": "stdout",
     "output_type": "stream",
     "text": [
      "<class 'numpy.ndarray'>\n",
      "(36000,)\n",
      "<class 'numpy.ndarray'>\n",
      "(36000,)\n"
     ]
    }
   ],
   "execution_count": 117
  },
  {
   "cell_type": "markdown",
   "source": "Next we try the condensed representation based on a simple query. Feel free to try different queries with different words. What happens if we have OOV words in a query?",
   "metadata": {
    "collapsed": false,
    "pycharm": {
     "name": "#%% md\n"
    }
   }
  },
  {
   "cell_type": "code",
   "source": [
    "query = 'fox and deer'\n",
    "print(query)\n",
    "\n",
    "query_embedding = embed_text(query, clean, tokenize, lambda x: embed_sentence_word_model(x, glove_model))\n",
    "print(query_embedding.shape)\n",
    "print(query_embedding)"
   ],
   "metadata": {
    "collapsed": false,
    "pycharm": {
     "name": "#%%\n"
    },
    "ExecuteTime": {
     "end_time": "2025-04-16T17:30:59.935211Z",
     "start_time": "2025-04-16T17:30:59.925105Z"
    }
   },
   "outputs": [
    {
     "name": "stdout",
     "output_type": "stream",
     "text": [
      "fox and deer\n",
      "(100,)\n",
      "[-0.083385   -0.63719     0.254075   -0.65408504 -0.12458149 -0.57695\n",
      "  0.1151895   0.47937998 -0.05304    -1.16922    -0.479265   -0.117604\n",
      "  0.67665505 -0.2181845   0.86132     0.46395     0.149115    0.352275\n",
      " -0.00642499  0.42123    -0.108593    0.51331     0.1666895  -0.19212\n",
      "  0.552625    0.777605   -0.17123    -0.00441501 -0.62225     0.180445\n",
      "  0.263865    0.50187397  0.22722     0.504755    0.49651998  0.29571\n",
      " -0.273479    0.186705    0.66161     0.42644    -0.10568     0.00512\n",
      " -0.715195    0.4271345  -0.19899699  0.007035    0.217155   -0.270865\n",
      " -0.20389499 -0.205845   -0.847275   -0.370445    0.102978    0.56117\n",
      " -0.4170775  -1.50664    -0.1817145   0.170645    0.528605    0.030635\n",
      "  0.0378895   0.82403004  0.55395997 -0.18147999  1.257       0.539876\n",
      "  0.069414   -0.21291    -0.002545    1.04205    -0.26154    -0.20421065\n",
      " -0.1738185  -0.096082   -0.14954099 -0.209345   -0.749255    0.131181\n",
      " -0.7742      0.45635498  0.2506     -0.2636805  -0.01942    -0.479955\n",
      " -0.233609    0.10405    -0.441785    0.35395798  0.71454     0.4964\n",
      " -0.123225   -1.070775    0.348805   -0.19064    -1.2590001  -0.74045503\n",
      " -0.618595   -0.032615    0.564905   -0.28883   ]\n"
     ]
    }
   ],
   "execution_count": 120
  },
  {
   "cell_type": "markdown",
   "source": [
    "<a name='e13'></a>\n",
    "### Exercise 13: Analyze sentence embeddings\n",
    "- (5p) Calculate similarity between the word embeddings representations of the selected queries and the dataset sentences.\n",
    "- (5p) Analyze the search results. Does the search work as expected? Discuss the results.\n",
    "- (5p) Compare the results with the ones you got with the bag-of-words and TF-IDF representation. Discuss the differences and similarities."
   ],
   "metadata": {
    "collapsed": false,
    "pycharm": {
     "name": "#%% md\n"
    }
   }
  },
  {
   "cell_type": "code",
   "execution_count": null,
   "outputs": [],
   "source": [
    "### YOUR CODE HERE\n",
    "\n",
    "\n",
    "\n",
    "\n",
    "### YOUR CODE ENDS HERE"
   ],
   "metadata": {
    "collapsed": false,
    "pycharm": {
     "name": "#%%\n"
    }
   }
  },
  {
   "cell_type": "markdown",
   "metadata": {
    "id": "ZY2jouFmeHOg",
    "pycharm": {
     "name": "#%% md\n"
    }
   },
   "source": [
    "## 6. Evaluating Retrieval\n",
    "\n",
    "In this last section we will try to evaluate how good our sentence retrieval system is. To keep the computational resources manageable, we will use the test set for that as its size is more manageable.\n",
    "\n",
    "Recall from the lecture in IR that there are several metrics to evaluate retrieval performance by taking into account the relevance of the retrieved results to the query. We will use Recall@K here (for more metrics and more details refer to the lecture slides and the textbooks).\n",
    "\n",
    "RRecall@K is a metric used to measure the effectiveness of a search system in retrieving relevant documents within the top $K$ retrieved documents. It calculates the proportion of relevant documents retrieved within the top-$K$ results, compared to the total number of relevant documents in the collection.\n",
    "\n",
    "$\n",
    "\\text{Recall@K} = \\frac{\\text{Number of relevant documents retrieved in the top }-K}{\\text{Total number of relevant documents}}\n",
    "$\n",
    "\n",
    "In our case, we have a sentence, and it's compressed version. To test our system, we will treat compressed sentences as the queries. Each query will have only a single relevant sentence - the corresponding uncompressed sentence.\n",
    "\n",
    "Therefore, for the calculation of Recall@K we will take into account whether the correct retrieved result is contained within the first $K$ retrieved results. For example, if for a query (i.e. a compressed sentence) we retrieve 10 results and within these we see the relevant one (i.e. the full sentence), then Recall@10 = 1."
   ]
  },
  {
   "cell_type": "markdown",
   "metadata": {
    "id": "QUKPtG-uem9f",
    "pycharm": {
     "name": "#%% md\n"
    }
   },
   "source": [
    "<a name='e14'></a>\n",
    "### Exercise 14: Cosine similarity between two sets of vectors\n",
    "\n",
    "(3p) In this exercise you will revisit your implementation of the cosine similarity. Generalize it so that it can accept two arrays containing two sets of vectors (first one containing $M$ vectors and the second one $N$ vectors). Compute the cosine similarity between each pair of vectors coming from the two sets. The result should be an array of size $M x N$.\n",
    "\n",
    "Once again, try to write an efficient code. This means no loops. Remember the relation between matrix multiplication and dot product. (Depending on your implementation of the previous function calculating cosine similarity, this one can be almost the same)"
   ]
  },
  {
   "cell_type": "code",
   "execution_count": null,
   "metadata": {
    "id": "xKiHDrN9eld7",
    "pycharm": {
     "name": "#%%\n"
    }
   },
   "outputs": [],
   "source": [
    "def cosine_similarity_m_to_n(vectors, other_vectors):\n",
    "    \"\"\"\n",
    "    Calculates the cosine similarity between a multiple vectors and other vectors.\n",
    "    Args:\n",
    "        vectors: a numpy array representing M number of vectors of D dimensions (of the size MxD)\n",
    "        other_vectors: a 2D numpy array representing other vectors (of the size NxD, where N is the number of vectors and D is their dimension)\n",
    "\n",
    "    Returns: a numpy array of cosine similarity between all the vectors and all the other vectors\n",
    "\n",
    "    \"\"\"\n",
    "\n",
    "    #### YOUR CODE HERE\n",
    "\n",
    "\n",
    "\n",
    "\n",
    "    ### YOUR CODE ENDS HERE"
   ]
  },
  {
   "cell_type": "markdown",
   "metadata": {
    "id": "qQ-Yhl1Sgoka",
    "pycharm": {
     "name": "#%% md\n"
    }
   },
   "source": [
    "The following function will use your implementation to calculate Recall@K based on the similarity matrix."
   ]
  },
  {
   "cell_type": "code",
   "execution_count": null,
   "metadata": {
    "id": "z0sLS3uRCfdh",
    "pycharm": {
     "name": "#%%\n"
    }
   },
   "outputs": [],
   "source": [
    "def calculate_recall(queries, sentences, k, batch_size=1000):\n",
    "    \"\"\"\n",
    "    Calculates recall@k given the embeddings of the queries and sentences.\n",
    "    Assumes that only a single sentence with the same index as query is relevant.\n",
    "    Batching is implemented to avoid high memory usage.\n",
    "    Args:\n",
    "        queries: a numpy array with the embeddings of N queries\n",
    "        sentences: a numpy array with the embeddings of N sentences available for retrieval\n",
    "        k: number of top results to search for the relevant sentence\n",
    "        batch_size: number of queries to process at a time\n",
    "\n",
    "    Returns: calculated recall@k\n",
    "\n",
    "    \"\"\"\n",
    "    n_queries = queries.shape[0]\n",
    "    correct = np.zeros(n_queries, dtype=bool)\n",
    "\n",
    "    with tqdm.tqdm(total=n_queries) as pbar:\n",
    "        for batch_start in range(0, n_queries, batch_size):\n",
    "            batch_end = min(batch_start + batch_size, n_queries)\n",
    "            queries_batch = queries[batch_start:batch_end]\n",
    "            batch_similarity = cosine_similarity_m_to_n(queries_batch, sentences)\n",
    "\n",
    "            for i, similarity_row in enumerate(batch_similarity):\n",
    "                query_index = batch_start + i\n",
    "                top_k = top_k_indices(similarity_row, k=k, sorted=False)\n",
    "\n",
    "                if query_index in top_k:\n",
    "                    correct[query_index] = True\n",
    "\n",
    "                pbar.update(1)\n",
    "\n",
    "    recall = np.sum(correct) / n_queries\n",
    "    return recall"
   ]
  },
  {
   "cell_type": "markdown",
   "metadata": {
    "id": "3QgAgMiDgw8m",
    "pycharm": {
     "name": "#%% md\n"
    }
   },
   "source": [
    "You can use it like so:"
   ]
  },
  {
   "cell_type": "code",
   "execution_count": null,
   "metadata": {
    "id": "Yxpex7ZxHM7c",
    "pycharm": {
     "name": "#%%\n"
    }
   },
   "outputs": [],
   "source": [
    "recall_at_1 = calculate_recall(compr_embedding, sent_embedding, k=1, batch_size=1000)\n",
    "print(f'\\n{recall_at_1 * 100:.2f}%')"
   ]
  },
  {
   "cell_type": "markdown",
   "metadata": {
    "id": "zY5ZVq5ogzMI",
    "pycharm": {
     "name": "#%% md\n"
    }
   },
   "source": [
    "<a name='e15'></a>\n",
    "### Exercise 15: Evaluating retrieval methods\n",
    "\n",
    "(10p) Calculate recall for different values of $K$ for all methods:\n",
    "- BOW,\n",
    "- TF-IDF,\n",
    "- Pre-trained embeddings.\n",
    "\n",
    "Discuss the results.\n",
    "Comment on how recall changes based on the value of $K$. Are the results expected or surprising?"
   ]
  },
  {
   "cell_type": "code",
   "execution_count": null,
   "outputs": [],
   "source": [
    "#### YOUR CODE HERE\n",
    "\n",
    "\n",
    "\n",
    "### YOUR CODE ENDS HERE"
   ],
   "metadata": {
    "collapsed": false,
    "pycharm": {
     "name": "#%%\n"
    }
   }
  },
  {
   "cell_type": "markdown",
   "source": [
    "<a name='e16'></a>\n",
    "### Exercise 16: Improving retrieval\n",
    "\n",
    "(10p) Imagine that you work at a company and are tasked with delivering the best retrieval method. Select the most promising one and try to improve the scores (e.g. by changing the vocab size, loading different model, etc.).\n",
    "Discuss the results you achieve, even if you didn't manage to improve the scores."
   ],
   "metadata": {
    "collapsed": false,
    "pycharm": {
     "name": "#%% md\n"
    }
   }
  },
  {
   "cell_type": "code",
   "execution_count": null,
   "metadata": {
    "id": "YA9bEm5ehMq8",
    "pycharm": {
     "name": "#%%\n"
    }
   },
   "outputs": [],
   "source": [
    "#### YOUR CODE HERE\n",
    "\n",
    "\n",
    "\n",
    "### YOUR CODE ENDS HERE"
   ]
  },
  {
   "cell_type": "markdown",
   "source": [
    "// your comments"
   ],
   "metadata": {
    "collapsed": false,
    "pycharm": {
     "name": "#%% md\n"
    }
   }
  }
 ],
 "metadata": {
  "colab": {
   "toc_visible": true,
   "provenance": []
  },
  "kernelspec": {
   "display_name": "Python (nlp-labs)",
   "language": "python",
   "name": "nlp-labs"
  },
  "language_info": {
   "codemirror_mode": {
    "name": "ipython",
    "version": 2
   },
   "file_extension": ".py",
   "mimetype": "text/x-python",
   "name": "python",
   "nbconvert_exporter": "python",
   "pygments_lexer": "ipython2",
   "version": "2.7.6"
  }
 },
 "nbformat": 4,
 "nbformat_minor": 0
}
