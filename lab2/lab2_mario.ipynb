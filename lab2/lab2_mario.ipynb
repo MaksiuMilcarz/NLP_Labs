{
 "cells": [
  {
   "cell_type": "markdown",
   "metadata": {
    "collapsed": false,
    "id": "od2YkWY8pSOC",
    "pycharm": {
     "name": "#%% md\n"
    }
   },
   "source": [
    "# NLP 2025\n",
    "# Lab 2: Word Vectors and Information Retrieval\n",
    "\n",
    "During the first few weeks, we discussed various ways to represent text 📝. One key question was: What should be the basic unit of representation? Words are the fundamental building blocks 🧱.\n",
    "\n",
    "In this lab, we will explore different text representation models, such as Bag-of-Words (BoW), TF-IDF and word embeddings 🔤➡️🔢. Among these, word embeddings are the most effective in terms of performance. They represent each word as a vector of numbers, where each vector captures the meaning of the word 🧠📊.\n",
    "\n",
    "These numerical representations (or weights) are learned using machine learning models 🤖. We’ll dive deeper into how these vectors are learned in the next lecture 📚.\n",
    "\n",
    "For now, we’ll focus on how different representation methods affect performance in an information retrieval task 🔍."
   ]
  },
  {
   "cell_type": "markdown",
   "metadata": {
    "collapsed": false,
    "id": "s93LS5bspSOD",
    "pycharm": {
     "name": "#%% md\n"
    }
   },
   "source": [
    "By the end of this lab, you should be able to:\n",
    "\n",
    "+ 🧼🔁 Implement and/or use built-in functions to preprocess your data (once again!)\n",
    "+ 🧱👜 Build a Bag-of-Words representation of the dataset\n",
    "+ 📊✨ Implement TF-IDF\n",
    "+ 📥🔤 Load pre-trained word embeddings\n",
    "+ 🔍🧠 Inspect and test word embedding properties\n",
    "+ 🗣️➡️📐 Use word embeddings to get sentence representations (aka sentence embeddings)\n",
    "+ 🧩🔎 Use sentence embeddings to solve more complex tasks like information retrieval\n",
    "+ 🧪📏 Design evaluation frameworks for specific NLP tasks and assess their difficulty\n",
    "\n",
    "### Score breakdown\n",
    "\n",
    "| Exercise            | Points |\n",
    "|---------------------|--------|\n",
    "| [Exercise 1](#e1)   | 1      |\n",
    "| [Exercise 2](#e2)   | 1      |\n",
    "| [Exercise 3](#e3)   | 1      |\n",
    "| [Exercise 4](#e4)   | 1      |\n",
    "| [Exercise 5](#e5)   | 1      |\n",
    "| [Exercise 6](#e6)   | 2      |\n",
    "| [Exercise 7](#e7)   | 10     |\n",
    "| [Exercise 8](#e8)   | 5      |\n",
    "| [Exercise 9](#e9)   | 15     |\n",
    "| [Exercise 10](#e10) | 10     |\n",
    "| [Exercise 11](#e11) | 10     |\n",
    "| [Exercise 12](#e12) | 5      |\n",
    "| [Exercise 13](#e13) | 15     |\n",
    "| [Exercise 14](#e14) | 3      |\n",
    "| [Exercise 15](#e15) | 10     |\n",
    "| [Exercise 16](#e16) | 10     |\n",
    "| Total               | 100    |\n",
    "\n",
    "This score will be scaled down to 1 and that will be your final lab score.\n",
    "\n",
    "### 📌 **Instructions for Delivery** (📅 **Deadline: 18/Apr 18:00**, 🎭 *wildcards possible*)\n",
    "\n",
    "✅ **Submission Requirements**\n",
    "+ 📄 You need to submit a **PDF of your report** (use the templates provided in **LaTeX** 🖋️ (*preferred*) or **Word** 📑) and a **copy of your notebook** 📓 with the code.\n",
    "+ ⚡ Make sure that **all cells are executed properly** ⚙️ and that **all figures/results/plots** 📊 you include in the report are also visible in your **executed notebook**.\n",
    "\n",
    "✅ **Collaboration & Integrity**\n",
    "+ 🗣️ While you may **discuss** the lab with others, you must **write your solutions with your group only**. If you **discuss specific tasks** with others, please **include their names** in the appendix of the report.\n",
    "+ 📜 **Honor Code applies** to this lab. For more details, check **Syllabus §7.2** ⚖️.\n",
    "+ 📢 **Mandatory Disclosure**:\n",
    "   - Any **websites** 🌐 (e.g., **Stack Overflow** 💡) or **other resources** used must be **listed and disclosed**.\n",
    "   - Any **GenAI tools** 🤖 (e.g., **ChatGPT**) used must be **explicitly mentioned**.\n",
    "   - 🚨 **Failure to disclose these resources is a violation of academic integrity**. See **Syllabus §7.3** for details."
   ]
  },
  {
   "cell_type": "markdown",
   "metadata": {
    "collapsed": false,
    "id": "aHYGq5RUpSOD",
    "pycharm": {
     "name": "#%% md\n"
    }
   },
   "source": [
    "## 0. Setup\n",
    "\n",
    "As in the last lab, we will be using huggingface datasets library ([https://huggingface.co/datasets](https://huggingface.co/datasets)). You can find the detailed documentation and tutorials here: [https://huggingface.co/docs/datasets/en/index](https://huggingface.co/docs/datasets/en/index)\n",
    "\n",
    "If you don't have it installed you can run the code below or install it via `pip` in your terminal. If you are using Google Colab, you can uncomment and run the code below in a code cell. Restarting of the runtime may be required after installation (Runtime/Restart session)."
   ]
  },
  {
   "cell_type": "markdown",
   "source": [
    "Previously installed datasets library version of 3.2.0 had an error when combined with numpy version >2. If you encounter an error at some point it might require to update the datasets library to the newer version. You can do that by running the code below. If you are using Google Colab, you can run the code below in a code cell. If you are using Jupyter Notebook, you can run the code below in a code cell or in a terminal."
   ],
   "metadata": {
    "collapsed": false,
    "pycharm": {
     "name": "#%% md\n"
    }
   }
  },
  {
   "cell_type": "code",
   "source": "#! pip install --upgrade --force-reinstall datasets",
   "metadata": {
    "collapsed": false,
    "pycharm": {
     "name": "#%%\n"
    },
    "ExecuteTime": {
     "end_time": "2025-04-16T12:55:44.915034Z",
     "start_time": "2025-04-16T12:55:44.893317Z"
    }
   },
   "outputs": [],
   "execution_count": 216
  },
  {
   "cell_type": "markdown",
   "metadata": {
    "collapsed": false,
    "id": "5CCI1TPJpSOF",
    "pycharm": {
     "name": "#%% md\n"
    }
   },
   "source": [
    "As usual, we start by importing some essential Python libraries and we will be using. Apart from `gensim` (which is going to be used for word embeddings), we have already seen the others."
   ]
  },
  {
   "cell_type": "code",
   "metadata": {
    "id": "CRe8W4hKpSOF",
    "pycharm": {
     "name": "#%%\n"
    },
    "ExecuteTime": {
     "end_time": "2025-04-16T12:55:45.085211Z",
     "start_time": "2025-04-16T12:55:44.932218Z"
    }
   },
   "source": [
    "import re\n",
    "\n",
    "import numpy as np\n",
    "import matplotlib.pyplot as plt\n",
    "import datasets\n",
    "\n",
    "import ssl\n",
    "\n",
    "try:\n",
    "    _create_unverified_https_context = ssl._create_unverified_context\n",
    "except AttributeError:\n",
    "    pass\n",
    "else:\n",
    "    ssl._create_default_https_context = _create_unverified_https_context\n",
    "\n",
    "import nltk\n",
    "nltk.download('punkt_tab')\n",
    "\n",
    "import tqdm\n",
    "import gensim\n",
    "\n"
   ],
   "outputs": [
    {
     "name": "stderr",
     "output_type": "stream",
     "text": [
      "[nltk_data] Downloading package punkt_tab to\n",
      "[nltk_data]     /Users/mariowettig/nltk_data...\n",
      "[nltk_data]   Package punkt_tab is already up-to-date!\n"
     ]
    }
   ],
   "execution_count": 217
  },
  {
   "cell_type": "markdown",
   "metadata": {
    "collapsed": false,
    "id": "NXy-1KiCpSOF",
    "pycharm": {
     "name": "#%% md\n"
    }
   },
   "source": [
    "p## 1. Load and Preprocess Data\n",
    "\n",
    "*Sentence compression* involves rephrasing sentences to make them shorter while still retaining the original meaning. A reliable compression system would be valuable for mobile devices and could also serve as a component in an extractive summarization system.\n",
    "\n",
    "The dataset we are going to use can be found on [Huggingface](https://huggingface.co/datasets/embedding-data/sentence-compression). It concerns a set of 180,000 pairs of sentences, aka it is a parallel corpus of sentences and their equivalent compressions. It has been collected by harvesting news articles from the Internet where the headline appears to be similar to the first sentence and that property is used to find an \"extractive\" compression of the sentence.\n",
    "\n",
    "For example, for the sentence\n",
    "\n",
    "`\"Regulators Friday shut down a small Florida bank, bringing to 119 the number of US bank failures this year amid mounting loan defaults\"`\n",
    "\n",
    "the compressed equivalent (based on the dataset) is:\n",
    "\n",
    "`\"Regulators shut down small Florida bank\"`.\n",
    "\n",
    "\n",
    "For more information you can read the original paper (from Google) [here](https://aclanthology.org/D13-1155.pdf). We strongly recommend going over the paper to gain further insights. Notice that the paper is from 2013, therefore word embeddings have not been widely introduced yet in NLP tasks, meaning that the methods applied were based on the traditional NLP pipeline (feature extraction + ML)."
   ]
  },
  {
   "cell_type": "markdown",
   "metadata": {
    "collapsed": false,
    "id": "ztJX2GRVpSOF",
    "pycharm": {
     "name": "#%% md\n"
    }
   },
   "source": [
    "### 1.1 Loading the Dataset\n",
    "\n",
    "The dataset will be loaded as a Pandas DataFrame. This may take a few minutes because of the large size of the data.\n",
    "\n",
    "Make sure to inspect the dataset and make sure it is imported properly."
   ]
  },
  {
   "cell_type": "code",
   "metadata": {
    "id": "tay2NXPTpSOG",
    "pycharm": {
     "name": "#%%\n"
    },
    "ExecuteTime": {
     "end_time": "2025-04-16T12:55:46.931362Z",
     "start_time": "2025-04-16T12:55:45.392472Z"
    }
   },
   "source": [
    "ds = datasets.load_dataset('embedding-data/sentence-compression')\n",
    "print(ds)"
   ],
   "outputs": [
    {
     "name": "stdout",
     "output_type": "stream",
     "text": [
      "DatasetDict({\n",
      "    train: Dataset({\n",
      "        features: ['set'],\n",
      "        num_rows: 180000\n",
      "    })\n",
      "})\n"
     ]
    }
   ],
   "execution_count": 218
  },
  {
   "cell_type": "code",
   "metadata": {
    "id": "bUud3eZVpSOH",
    "pycharm": {
     "name": "#%%\n"
    },
    "ExecuteTime": {
     "end_time": "2025-04-16T12:55:46.951628Z",
     "start_time": "2025-04-16T12:55:46.946185Z"
    }
   },
   "source": [
    "for i in range(100):\n",
    "    print(ds['train'][i])"
   ],
   "outputs": [
    {
     "name": "stdout",
     "output_type": "stream",
     "text": [
      "{'set': [\"The USHL completed an expansion draft on Monday as 10 players who were on the rosters of USHL teams during the 2009-10 season were selected by the League's two newest entries, the Muskegon Lumberjacks and Dubuque Fighting Saints.\", 'USHL completes expansion draft']}\n",
      "{'set': ['Major League Baseball Commissioner Bud Selig will be speaking at St. Norbert College next month.', 'Bud Selig to speak at St. Norbert College']}\n",
      "{'set': [\"It's fresh cherry time in Michigan and the best time to enjoy this delicious and nutritious fruit.\", \"It's cherry time\"]}\n",
      "{'set': ['An Evesham man is facing charges in Pennsylvania after he allegedly dragged his girlfriend from the side of his pickup truck on the campus of Kutztown University in the early morning hours of Dec. 5, police said.', 'Evesham man faces charges for Pa.']}\n",
      "{'set': [\"NRT LLC, one of the nation's largest residential real estate brokerage companies, announced several executive appointments within its Coldwell Banker Residential Brokerage operations in Southern California.\", 'NRT announces executive appointments at its Coldwell Banker operations in Southern California']}\n",
      "{'set': ['THE JSE kept toying with an all time high by midday today as resources continued to fuel the bourse.', 'JSE keeps toying with all time high']}\n",
      "{'set': ['The government is defending the latest police crime statistics despite a worrying rise in the recorded amount of violent offending.', 'Government defends crime statistics']}\n",
      "{'set': ['The renovated Marappalam bridge, which had been opened for two-wheelers last week, was opened for other vehicles also on Friday.', 'Marappalam bridge opened']}\n",
      "{'set': ['A new survey shows 30 percent of Californians use Twitter, and more and more of us are using our smart phones to go online.', 'Survey: 30 percent of Californians use Twitter']}\n",
      "{'set': ['Brightpoint ,a provider of logistic services to the mobile industry, has started operations in the Turkish market.', 'Brightpoint starts operations on Turkish market']}\n",
      "{'set': ['A WOMAN has been seriously injured in a collision with a police van in North Devon.', 'Woman seriously injured in collision with police van']}\n",
      "{'set': ['Alfalfa sprouts recalled because of salmonella poisoning were sold to more than 400 Wal-Mart stores in 15 states.', 'Alfalfa sprouts recall']}\n",
      "{'set': ['A strip club will open in Rochester High Street tonight, 15 months after it was approved.', 'Strip club opens tonight']}\n",
      "{'set': [\"Hypermarcas SA, Brazil's fourth- largest consumer-goods company by market value, declined the most in two weeks after JPMorgan Chase & Co. cut its rating on concern the company may struggle to integrate recent acquisitions.\", 'Hypermarcas declines most in two weeks as JPMorgan cuts rating']}\n",
      "{'set': ['It is being reported that Los Angeles police are looking for an apparently suicidal man who was released from a hospital, after being brought there by police upon being found hanging by his neck in a holding cell.', 'La police looking for suicidal man']}\n",
      "{'set': ['The Jersey Shore cast is being refused at many Miami hotspots since filming began.', 'Jersey Shore cast being refused at many Miami hotspots']}\n",
      "{'set': ['A tourist in China get a shock when a brown bear charges his car.', 'Brown bear charges car']}\n",
      "{'set': ['A team of RMIT students won a supply chain simulation game hosted by Victoria University in June.', 'RMIT students win supply chain simulation']}\n",
      "{'set': ['After months of speculation over mental stability, the Deerfield murder suspect was deemed fit to stand trial Friday.', 'Deerfield murder suspect deemed fit to stand trial']}\n",
      "{'set': ['Marriott International has filled top leadership positions on its newly formed Middle East and Africa regional team, based here in Dubai, announced Mark Satterfield, chief operations officer.', 'Marriott International fills top leadership positions on its Middle East and Africa regional team']}\n",
      "{'set': ['The war of words between Team Anna and the government grew intense on Sunday, with Kiran Bedi describing Prime Minister Manmohan Singh as Dhritarashtra.', \"Team Anna's Kiran Bedi describes Manmohan Singh as 'Dhritarashtra'\"]}\n",
      "{'set': ['Kendis Gibson has been named a Correspondent for CBS Newspath out of the Los Angeles bureau of CBS News.', 'Kendis Gibson named correspondent for CBS Newspath']}\n",
      "{'set': [\"San Francisco Giants All-Star outfielder Melky Cabrera was suspended for 50 games Wednesday for testosterone, violating MLB's Joint Drug Prevention and Treatment Program.\", 'Melky Cabrera suspended 50 games for testosterone']}\n",
      "{'set': ['Yamaha Motor Co., Ltd. has announced that it will withdraw from its life science business as of the end of December 2010 due to expected difficulties in achieving profitability attributed to limited market size and future growth prospects.', 'Yamaha Motor to withdraw from life science business']}\n",
      "{'set': [\"More land for commercial development opened on the city's East End when the Jefferson City Planning and Zoning Commission approved two zoning requests Thursday.\", 'Land for commercial development opens up on East End']}\n",
      "{'set': ['>>> three years after that massive government bailout saved it, general motors is reporting its highest profits ever.', 'General motors reports highest profits ever']}\n",
      "{'set': ['A new study published in the Journal of Clinical Investigation has found that vitamin D may be an effective therapeutic agent to treat or prevent allergy to a common mold that can complicate asthma and frequently affect patients with Cystic Fibrosis.', 'Vitamin D may treat or prevent allergy to common mold']}\n",
      "{'set': [\"At a regular press conference of the Ministry of National Defense of the People's Republic of China held on June 28, 2012, Geng Yansheng, spokesman of the MND, said the maritime liaison mechanism between the defense departments of China and Japan can help to avoid maritime misunderstanding and misjudgment.\", 'Maritime liaison mechanism between China and Japan can help to avoid maritime misunderstanding and misjudgment']}\n",
      "{'set': ['Motorcycle mogul Jesse James has moved on in life with Kat Von D -- just after two months of his divorce from Sandra Bullock.', 'Jesse James moves on with Kat Von D']}\n",
      "{'set': ['A person walking on a Gaston County road was hit by a fire truck early Wednesday morning.', 'Person hit by fire truck']}\n",
      "{'set': ['Moga, July 15 Two unidentified migrant labourers were crushed to death by a speeding vehicle near Chuharchak village here when they were standing near the roadside.', 'Two migrant labourers crushed to death']}\n",
      "{'set': ['US young adults seem to worry as much about their online privacy like the older adults, only difference being that they are naive, a study has revealed.', 'Young adults worry as much about privacy like older adults']}\n",
      "{'set': ['Neste Oil will publish its fourth quarter and full year 2011 results on Friday, 3 February 2012 at approximately 9 am.', 'Neste Oil to publish its 2011 results on 3 February 2012']}\n",
      "{'set': ['Clearwater Marine Aquarium staff released 46 sea turtles back into the wild this morning at Honeymoon Island State Park.', 'Clearwater Marine Aquarium releases turtles']}\n",
      "{'set': ['Microsoft has put together an incident management team to monitor the swine flu outbreak and provide assistance to affected employees.', \"Microsoft's incident management team monitors swine flu\"]}\n",
      "{'set': [\"The day is the second day of the second month in China's lunar calendar, which is popularly known as the day when the dragon raises its head.\", 'Dragon raises its head']}\n",
      "{'set': [\"Albion boss Gus Poyet will make changes to both the team and tactics against Huddersfield at Withdean tomorrow night in an attempt to cure the Seagulls' wretched home form.\", 'Poyet to make changes']}\n",
      "{'set': ['ESPN on Tuesday began making a significant reduction of its work force, laying off more than 100 employees at its Bristol, Conn., headquarters and in at least one regional technology center.', 'ESPN lays off more than 100 employees']}\n",
      "{'set': ['Swift died on 18 April at his Manhattan home.', 'Voice actor Swift dies']}\n",
      "{'set': ['As reported by EGaming Review: ``Dedicated egaming bank Ivobank is refusing new customers amid doubt over its future.', 'Ivobank refusing new customers']}\n",
      "{'set': [\"Partition affected the Indian Muslims adversely, especially those in the country's northern and eastern regions, and its socio-economic impact remains understudied, said Vice President Hamid Ansari on Monday.\", 'Partition affected Muslims adversely:']}\n",
      "{'set': ['Google is reportedly updating its privacy policy after the settlement of privacy lawsuit over its Buzz.', 'Google updates its privacy policy']}\n",
      "{'set': ['A book club that meets monthly in The Victoria Park pub on Raymend Road is hoping to welcome new members to its next meeting, at 7.30pm on Tuesday, 22 March 2011.', 'Bedminster book club welcomes new members']}\n",
      "{'set': ['Premier Mario Monti formed a new Italian government without a single politician Wednesday, drawing from the ranks of bankers, diplomats and business executives to create a team to steer Italy away from financial disaster.', 'Monti forms Italian government with no politicians']}\n",
      "{'set': ['US President Barack Obama arrived in Brazil Saturday, launching the first leg of a Latin America tour focused on trade and job creation.', 'President Obama arrives in Brazil']}\n",
      "{'set': ['Dive teams searched Skaneateles Lake Wednesday night, looking for a possible missing boater.', 'Dive teams looking for possible missing boater']}\n",
      "{'set': ['A LIT firework was shoved through the letterbox of a house while a couple slept.', 'Lit firework shoved through letterbox']}\n",
      "{'set': [\"London, March 11 American singer Lady Gaga has no boundaries on her relationships and says she won't mind falling in love with a woman.\", \"Won't mind falling in love with a woman:\"]}\n",
      "{'set': ['Jennifer Aniston did her own stunts in The Bounty Hunter, despite her high heels.', 'Jennifer Aniston does stunt in heels']}\n",
      "{'set': ['The International Olympic Committee today announced that it has disqualified Syrian athlete Ghfran Almouhamad from the Games of the XXX Olympiad in London for an anti-doping rule violation.', 'Ioc disqualifies hurdler Almouhamad for anti-doping violation']}\n",
      "{'set': ['Motorola has just unveiled its gallery of conceptual handsets from the bowels of its design studios in order to celebrate 25 years of the cell phone, and we wish Motorola the best in whatever endeavors they embark upon with their future handset designs.', 'Motorola celebrates 25 years of cell phones']}\n",
      "{'set': ['Major private security companies signed a code of conduct Tuesday, pledging to respect human rights and the rule of law in conflict zones such as Iraq and Afghanistan, where some have been accused of abuses against the local population and reckless behavior.', 'Private security companies sign code of conduct']}\n",
      "{'set': ['Florida quarterback Tim Tebow was taken to a hospital in the back of an ambulance following a hard hit in the third quarter against Kentucky on Saturday night.', 'Tebow taken to hospital after hard hit']}\n",
      "{'set': ['In occupied Kashmir, several houses were gutted in a fire in Bandipore district.', 'Several house gutted in fire in Bandipore']}\n",
      "{'set': ['A lesbian couple, who eloped last week from this district, has been traced to Roorkee after a complaint by the family of one of the girls, police said on Saturday.', 'Lesbian couple traced to Roorkee']}\n",
      "{'set': ['YouTube today is launching XL, a new interface for the site that is customized for televisions.', 'YouTube launches xl:']}\n",
      "{'set': ['Flyers forward Jaromir Jagr, who left the Winter Classic with a leg injury on Monday, has a mild left groin strain, and will miss seven to 10 days.', 'Flyers forward Jaromir Jagr has a left groin strain, could miss up to 10 days']}\n",
      "{'set': ['Kyrgyzstan is to enter the Customs Union of Russia, Belorussia and Kazakhstan.', 'Kyrgyzstan to enter Customs Union']}\n",
      "{'set': ['Nigel Hasselbaink is back in contention for Hamilton`s Scottish Cup clash against Alloa after recovering from a knee injury.', 'Hasselbaink could be back']}\n",
      "{'set': ['England beat Bangladesh by 181 runs on the fifth day of the first test at the Zohur Ahmed Chowdhury Stadium on Tuesday.', 'England beat Bangladesh 181 runs in first test']}\n",
      "{'set': ['Apple has paid around GBP 3 million to buy 8.2 million shares in UK-based digital radio maker Imagination Technologies.', 'Apple buys into digital radio maker Imagination Technologies']}\n",
      "{'set': ['A US national was kidnapped in Pakistan in the eastern city of Lahore, police officials said on Saturday.', 'US national kidnapped in Pakistan, police say']}\n",
      "{'set': ['Trinidad and Tobago`s murder toll for this year jumped to 420 Thursday with the brutal murder of two Swedish nationals.', 'Trinidad & Tobago`s murder toll jumps with murder of Swedish nationals']}\n",
      "{'set': [\"Newly wedded Innocent Ujah Idibia popularly called 2face turned 'pastor' in Ibadan while performing on the Star Trek stage on May 25, 2012.\", '2face turns pastor in Ibadan']}\n",
      "{'set': ['Long-time anchorman Jack Williams is leaving the 11 pm newscast at WBZ-TV, but will continue to co-anchor the 6 pm newscast with Lisa Hughes, according to Ro Dooley Webster, Boston market director of communications at WBZ-TV.', 'Jack Williams leaving 11 pm newscast']}\n",
      "{'set': ['Governor Brown visited a Riverside elementary school to try to gain Republican support to extend temporary tax hikes.', 'Governor Brown visits Riverside to gain Republican support']}\n",
      "{'set': ['Two small bombs exploded overnight outside the office of an anti-government protest leader amid intensifying political tension as street protests entered their fourth week, police said Monday.', 'Two small bombs explode outside office of anti-government protest leader, police say']}\n",
      "{'set': ['Western Union says its profit fell in the fourth quarter on slower demand for money transfers and bill payments.', 'Western Union profit falls on slowing demand']}\n",
      "{'set': [\"For anyone who is trying to get pregnant, the most important question you should ask is ``how to calculate ovulation?''\", 'How to calculate ovulation?']}\n",
      "{'set': [\"Benton County Sheriff's deputies say a Prosser boy was stabbed multiple times last night over a narcotics dispute.\", 'Prosser boy stabbed multiple times']}\n",
      "{'set': ['Percy Harvin returned to practice with the Vikings Thursday and reported no lingering effects from his latest migraine episode.', 'Percy Harvin returns to practice']}\n",
      "{'set': [\"Paul McCartney says that The Beatles almost reformed while they were all still alive, but decided against it so they wouldn't ruin their legacy.\", 'The Beatles almost reformed while they were all still alive']}\n",
      "{'set': [\"Several hundred mourners have gathered to farewell Thomas Kelly at a private school in Sydney's west.\", 'Hundreds gather to farewell Thomas Kelly']}\n",
      "{'set': ['In a story by David Biderman from the Wall St. Journal, the Boston Red Sox are the second most despised team in baseball, behind only the Cleveland Indians.', 'Red Sox are second most despised team in baseball']}\n",
      "{'set': [\"Malta's register has attracted 35 additional aircraft since the new legal and regulatory framework was launched in January 2011, bringing the total to 111, the Transport Ministry has told The Times Business.\", 'Malta register attracts 35 additional aircraft']}\n",
      "{'set': [\"But in an interview with Bloomberg Business Week, Obama said he doesn't ``begrudge'' the $17 million bonus awarded to JPMorgan Chase CEO Jamie Dimon or the $9 million issued to Goldman Sachs CEO Lloyd Blankfein.\", \"Obama doesn't 'begrudge' bonuses\"]}\n",
      "{'set': ['One in 10 workers has taken time off because of depression, a poll of 7,000 people in seven European countries has found.', 'One in 10 workers has taken time off for depression']}\n",
      "{'set': [\"Michael Boley says Giants showed they 'are a team to be reckoned with' Champions aren't crowned in October, but Sunday's win over the 49ers had so much physicality and emotional intensity that it was easy to forget the leaves are still on the trees.\", \"Michael Boley says Giants showed they 'are a team to be reckoned with'\"]}\n",
      "{'set': ['The Army bomb squad has arrived at the scene of a bomb scare in Hastings .', 'Bomb squad arrives']}\n",
      "{'set': [\"Australian death metallers Impetuous Ritual are currently streaming two new songs online from their debut album ``Relentless Execution Of Ceremonial Excrescence.''\", 'Impetuous Ritual streaming two new songs online']}\n",
      "{'set': ['An 8-year-old boy has died after he was hit by a car driven by his own mother at a shopping centre north of Brisbane.', 'Boy dies after being hit by car']}\n",
      "{'set': ['SMART Technologies Inc. announced a corporate restructuring that will sharpen focus on each of its target markets in Education and Enterprise while simultaneously streamlining its corporate support functions.', 'Smart Technologies announces corporate restructuring']}\n",
      "{'set': ['Sega and Obsidian Entertainment announced today Alpha Protocol, a new espionage role-playing game set in the modern world.', 'SEGA announces Alpha Protocol']}\n",
      "{'set': ['Wichita Mayor Carl Brewer has been hospitalized after experiencing chest pains on Tuesday, City of Wichita officials said.', 'Mayor Brewer hospitalized']}\n",
      "{'set': ['Idaho football coach Robb Akey will be in Boise and Twin Falls on Saturday as part of his statewide signing day tour.', \"Idaho's Akey will be in Boise on Saturday\"]}\n",
      "{'set': [\"A University of Iowa study found that women who make their sexual debut as young teens are more likely to divorce, especially if ``the first time'' was unwanted, or if she had mixed feelings about it.\", 'Women who make their sexual debut as young teens more likely to divorce']}\n",
      "{'set': ['The parents of Chelsea king will hold a community forum as part of their campaign to push for tougher laws against sex offenders tonight.', 'The parents of Chelsea king to hold community forum']}\n",
      "{'set': ['Perth, Feb 23 Australian pacer Brett Lee is set to retire from Test cricket on the advice of England rival and close friend Andrew Flintoff.', 'Australian pacer Brett Lee to retire from Test cricket']}\n",
      "{'set': ['When animals attack wanders into Japan and that leads us to a very odd story.', 'When animals attack:']}\n",
      "{'set': ['Dutch Premier League leaders PSV Eindhoven lost 0-1 at home to ADO Den Haag on Saturday evening.', 'Dutch Premier League leaders lose at home']}\n",
      "{'set': ['War veterans who served in Malaya in the 1950s and 1960s have been denied the right to wear medals of gratitude given to them by the Malaysian government.', 'Veterans denied right to wear medals']}\n",
      "{'set': ['Philips Electronics warned of sharply lower profits at its lighting division and toasters-to-shavers consumer business, due to weak demand in Europe.', 'Philips warns of lower profits in lighting and consumer business']}\n",
      "{'set': ['The Murphysboro Apple Festival Funland tickets and pageant tickets will go on sale starting Monday, August 15.', 'Murphysboro Apple festival tickets to go on sale']}\n",
      "{'set': ['European stocks edged lower in early trading Friday, after another weak session for Wall Street, with banks, miners and oil companies all losing ground.', 'European stocks edged lower in early trading']}\n",
      "{'set': ['Percy Harvin will be limited in practice Tuesday for the Minnesota Vikings due to an apparent knee injury.', 'Percy Harvin limited in practice Tuesday with knee injury:']}\n",
      "{'set': ['ESPN has dropped Hank Williams Jr. from opening Monday Night Football tonight after controversial comments Monday about President Obama, USA Today first reported.', \"Espn drops Hank Williams Jr. from 'Monday Night Football'\"]}\n",
      "{'set': [\"Sakio Bika, the ``Contender'' season-three champion, says former champion Anthony Mundine is scared to fight him.\", \"Sakio Bika: ``Anthony Mundine is scared to fight me''\"]}\n",
      "{'set': ['Labour unions say different electricity tariffs by Eskom and municipalities are becoming a significant trigger for service delivery protests.', \"'Electricity tariffs trigger service delivery protests'\"]}\n",
      "{'set': [\"Quality Technology Services, one of the nation's largest privately held providers of data center facilities and managed services, announced today that Ultimate Software, the leading provider of unified HR, payroll, and talent management solutions, has renewed its contract with QTS' Miami data center facility.\", 'Ultimate Software renews contract with QTS data center']}\n",
      "{'set': [\"The mum of the model shot dead by Oscar Pistorius wept yesterday: ``Why would he kill my angel?''\", \"``Why would he kill my angel?''\"]}\n"
     ]
    }
   ],
   "execution_count": 219
  },
  {
   "cell_type": "markdown",
   "metadata": {
    "collapsed": false,
    "id": "HfJSiWxrpSOH",
    "pycharm": {
     "name": "#%% md\n"
    }
   },
   "source": [
    "The dataset comes with only the `train` split so we will have to split it ourselves."
   ]
  },
  {
   "cell_type": "code",
   "metadata": {
    "id": "tATL53MWpSOH",
    "pycharm": {
     "name": "#%%\n"
    },
    "ExecuteTime": {
     "end_time": "2025-04-16T12:55:47.136689Z",
     "start_time": "2025-04-16T12:55:47.052609Z"
    }
   },
   "source": [
    "split_ds = ds['train'].train_test_split(test_size=0.2)\n",
    "print(split_ds)"
   ],
   "outputs": [
    {
     "name": "stdout",
     "output_type": "stream",
     "text": [
      "DatasetDict({\n",
      "    train: Dataset({\n",
      "        features: ['set'],\n",
      "        num_rows: 144000\n",
      "    })\n",
      "    test: Dataset({\n",
      "        features: ['set'],\n",
      "        num_rows: 36000\n",
      "    })\n",
      "})\n"
     ]
    }
   ],
   "execution_count": 220
  },
  {
   "cell_type": "markdown",
   "metadata": {
    "collapsed": false,
    "id": "L133t3CqpSOH",
    "pycharm": {
     "name": "#%% md\n"
    }
   },
   "source": [
    "### 1.2 Preprocessing the dataset\n",
    "In this section we will prepare the dataset, aka clean the sentences and tokenize.\n",
    "\n",
    "First, let's write the function to clean the text. It can be similar to the one from the previous lab (Lab1) but make sure that it makes sense for this dataset and task.\n",
    "\n",
    "More specifically, think about lower-casing, punctuation, stop-words and lemmatization/stemming and the impact it might have on the dataset. Also reflect on the fact that with word embeddings we want to uncover semantic relationships between words, whereas with bag-of-words we were trying to capture different morphological variations."
   ]
  },
  {
   "cell_type": "markdown",
   "metadata": {
    "collapsed": false,
    "id": "mQszN6GNpSOH",
    "pycharm": {
     "name": "#%% md\n"
    }
   },
   "source": [
    "<a name='e1'></a>\n",
    "### Exercise 1: Clean function\n",
    "(1p) Fill in the following function to clean the dataset. Implement at least 3 different steps."
   ]
  },
  {
   "cell_type": "code",
   "metadata": {
    "id": "TxjfLQj6pSOH",
    "pycharm": {
     "name": "#%%\n"
    },
    "ExecuteTime": {
     "end_time": "2025-04-16T12:55:47.316084Z",
     "start_time": "2025-04-16T12:55:47.308564Z"
    }
   },
   "source": [
    "\n",
    "def clean(text):\n",
    "    \"\"\"\n",
    "    Cleans the given text\n",
    "    Args:\n",
    "        text: a str with the text to clean\n",
    "\n",
    "    Returns: a str with the cleaned text\n",
    "\n",
    "    \"\"\"\n",
    "\n",
    "    # Empty text\n",
    "    if text == '':\n",
    "        return text\n",
    "\n",
    "    # 'text' from the example can be of type numpy.str_, let's convert it to a python str\n",
    "    text = str(text)\n",
    "\n",
    "    #you might need more\n",
    "    #add them here\n",
    "\n",
    "    ### YOUR CODE HERE\n",
    "\n",
    "    text = re.sub(r'\\'s', '', text)\n",
    "    text = re.sub(r\"\\`\\`\", '\"', text)\n",
    "    text = re.sub(r\"\\'\\'\", '\"', text)\n",
    "    text = re.sub(r\"\\'\", '\"', text)\n",
    "    text = re.sub(r'\\,', '', text)\n",
    "    text = re.sub(r'\\-', ' ', text)\n",
    "    text = re.sub(r'(?<!\\d)\\.(?!\\d)', '', text)\n",
    "\n",
    "    # remove stop words\n",
    "    stopwords = ['a','i','the','in','of','for','at','to','on','with','from','that','he','she','it','is','by','as', 'an','what','his','her','they','those','these','its','was','has','and']\n",
    "    stopword_pattern = re.compile(rf\"\\b({'|'.join(map(re.escape, stopwords))})\\b\", re.IGNORECASE)\n",
    "    text = stopword_pattern.sub('', text)\n",
    "\n",
    "\n",
    "    # replace contractions (a bit extensive)\n",
    "    text = text.replace(\"’\", \"'\").replace(\"‘\", \"'\").replace(\"“\", '\"').replace(\"”\", '\"')\n",
    "    text = re.sub(r\"\\b(what|who|where|when|why|how|there|it|here|she|he|that)\\'s\\b\", r\"\\1 is\", text, flags=re.IGNORECASE)\n",
    "    text = re.sub(r\"\\'re\\b\", \" are\", text, flags=re.IGNORECASE)\n",
    "    text = re.sub(r\"\\'ve\\b\", \" have\", text, flags=re.IGNORECASE)\n",
    "    text = re.sub(r\"\\'ll\\b\", \" will\", text, flags=re.IGNORECASE)\n",
    "    text = re.sub(r\"\\'d\\b\", \" would\", text, flags=re.IGNORECASE)\n",
    "    text = re.sub(r\"can\\'t\\b\", \"can not\", text, flags=re.IGNORECASE)\n",
    "    text = re.sub(r\"won\\'t\\b\", \"will not\", text, flags=re.IGNORECASE)\n",
    "    text = re.sub(r\"n\\'t\\b\", \" not\", text, flags=re.IGNORECASE)\n",
    "\n",
    "    # Space out punctuation\n",
    "    text = re.sub(r'(?<!\\d)([.,:;!?])(?!\\d)', r' \\1 ', text)\n",
    "\n",
    "\n",
    "    # remove repeated spaces\n",
    "    text = re.sub(r'\\s+', ' ', text)\n",
    "\n",
    "    ### YOUR CODE ENDS HERE\n",
    "\n",
    "    text = text.strip()\n",
    "\n",
    "    # Update the example with the cleaned text\n",
    "    return text"
   ],
   "outputs": [],
   "execution_count": 221
  },
  {
   "cell_type": "markdown",
   "metadata": {
    "collapsed": false,
    "id": "gAqf1AoupSOJ",
    "pycharm": {
     "name": "#%% md\n"
    }
   },
   "source": [
    "The following function will apply the function (sic) you just wrote to the whole dataset. More specifically, it takes the first entry (`sentence`) from the set of uncompressed/compressed pairs, applies the `clean` function and saves the processed sentence in the field `clean_sentence`. The same is dome for the compressed version of the sentence (saved as `clean_compressed`)."
   ]
  },
  {
   "cell_type": "code",
   "metadata": {
    "id": "WZn-M4_vpSOJ",
    "pycharm": {
     "name": "#%%\n"
    },
    "ExecuteTime": {
     "end_time": "2025-04-16T12:55:47.327019Z",
     "start_time": "2025-04-16T12:55:47.324832Z"
    }
   },
   "source": [
    "def clean_dataset(example):\n",
    "    \"\"\"\n",
    "    Cleans the sentence and compressed sentence in the example from the Dataset\n",
    "    Args:\n",
    "        example: an example from the Dataset\n",
    "\n",
    "    Returns: updated example with 'clean_sentence' and 'clean_compressed' cleaned\n",
    "\n",
    "    \"\"\"\n",
    "    sentence, compressed = example['set']\n",
    "    clean_sentence = clean(sentence)\n",
    "    clean_compressed = clean(compressed)\n",
    "    example['clean_sentence'] = clean_sentence\n",
    "    example['clean_compressed'] = clean_compressed\n",
    "    return example"
   ],
   "outputs": [],
   "execution_count": 222
  },
  {
   "cell_type": "markdown",
   "metadata": {
    "collapsed": false,
    "id": "_KVujosKpSOJ",
    "pycharm": {
     "name": "#%% md\n"
    }
   },
   "source": [
    "Below we apply the function to the whole dataset (using `map`) and we can also inspect the result."
   ]
  },
  {
   "cell_type": "code",
   "metadata": {
    "id": "NBS1JbISpSOJ",
    "pycharm": {
     "name": "#%%\n"
    },
    "ExecuteTime": {
     "end_time": "2025-04-16T12:56:02.183014Z",
     "start_time": "2025-04-16T12:55:47.495729Z"
    }
   },
   "source": [
    "split_ds = split_ds.map(clean_dataset)\n",
    "print(split_ds)\n"
   ],
   "outputs": [
    {
     "name": "stderr",
     "output_type": "stream",
     "text": [
      "Map: 100%|██████████| 144000/144000 [00:11<00:00, 12243.37 examples/s]\n",
      "Map: 100%|██████████| 36000/36000 [00:02<00:00, 12367.86 examples/s]"
     ]
    },
    {
     "name": "stdout",
     "output_type": "stream",
     "text": [
      "DatasetDict({\n",
      "    train: Dataset({\n",
      "        features: ['set', 'clean_sentence', 'clean_compressed'],\n",
      "        num_rows: 144000\n",
      "    })\n",
      "    test: Dataset({\n",
      "        features: ['set', 'clean_sentence', 'clean_compressed'],\n",
      "        num_rows: 36000\n",
      "    })\n",
      "})\n"
     ]
    },
    {
     "name": "stderr",
     "output_type": "stream",
     "text": [
      "\n"
     ]
    }
   ],
   "execution_count": 223
  },
  {
   "metadata": {
    "ExecuteTime": {
     "end_time": "2025-04-16T12:56:02.214486Z",
     "start_time": "2025-04-16T12:56:02.210457Z"
    }
   },
   "cell_type": "code",
   "source": [
    "for i in range(10):\n",
    "    print(split_ds['train'][i])\n",
    "\n",
    "for i in range(10):\n",
    "    print(split_ds['train'][i]['clean_compressed'])"
   ],
   "outputs": [
    {
     "name": "stdout",
     "output_type": "stream",
     "text": [
      "{'set': ['Servisair, a new Angolan airline, is due to start operating Wednesday with a flight between the cities of Luanda and Lubango in Huíla province, the company said in a statement published in Luanda Monday.', 'New Angolan airlines starts operating Wednesday'], 'clean_sentence': 'Servisair new Angolan airline due start operating Wednesday flight between cities Luanda Lubango Huíla province company said statement published Luanda Monday', 'clean_compressed': 'New Angolan airlines starts operating Wednesday'}\n",
      "{'set': [\"Reese Witherspoon has revealed that she feels ``sexier'' than she ever did and is more comfortable with herself than she was in the past.\", \"Reese Witherspoon feels ``sexier than ever''\"], 'clean_sentence': 'Reese Witherspoon revealed feels \"sexier\" than ever did more comfortable herself than past', 'clean_compressed': 'Reese Witherspoon feels \"sexier than ever\"'}\n",
      "{'set': ['Gridlock is the real problem with both politics and the economy.', 'Gridlock is problem in politics, economy'], 'clean_sentence': 'Gridlock real problem both politics economy', 'clean_compressed': 'Gridlock problem politics economy'}\n",
      "{'set': [\"Economic and social activities were again disrupted in Yenagoa, the Bayelsa State capital, yesterday when repentant militants protested alleged non-payment of allowances promised them by the Federal Government's amnesty committee.\", 'Repentant militants protest non-payment of allowances'], 'clean_sentence': 'Economic social activities were again disrupted Yenagoa Bayelsa State capital yesterday when repentant militants protested alleged non payment allowances promised them Federal Government amnesty committee', 'clean_compressed': 'Repentant militants protest non payment allowances'}\n",
      "{'set': ['White Sox manager Ozzie Guillen said on Saturday that he asked his son to resign from his position with the team because the younger Guillen had made a mistake.', 'Guillen says he asked his son to resign'], 'clean_sentence': 'White Sox manager Ozzie Guillen said Saturday asked son resign position team because younger Guillen had made mistake', 'clean_compressed': 'Guillen says asked son resign'}\n",
      "{'set': ['A recent repatriation deal with Tunisia is working, with 330 Tunisian migrants sent back home, Italian Interior Minister Roberto Maroni said on Sunday.', 'Repatriation deal with Tunisia working:'], 'clean_sentence': 'recent repatriation deal Tunisia working 330 Tunisian migrants sent back home Italian Interior Minister Roberto Maroni said Sunday', 'clean_compressed': 'Repatriation deal Tunisia working :'}\n",
      "{'set': [\"Patriots quarterback Tom Brady, who was questionable on the injury report with right shoulder and foot injuries, is active for today's game and is expected to start.\", 'Brady active and expected to start'], 'clean_sentence': 'Patriots quarterback Tom Brady who questionable injury report right shoulder foot injuries active today game expected start', 'clean_compressed': 'Brady active expected start'}\n",
      "{'set': ['Former Red Sox outfielder Carl Everett was arrested late Monday on charges of aggravated assault with a deadly weapon and tampering with a witness.', 'Carl Everett arrested for aggravated assault'], 'clean_sentence': 'Former Red Sox outfielder Carl Everett arrested late Monday charges aggravated assault deadly weapon tampering witness', 'clean_compressed': 'Carl Everett arrested aggravated assault'}\n",
      "{'set': [\"If you're wondering how debt consolidation works, this article will help to explain it.\", 'How does debt consolidation work'], 'clean_sentence': 'If you\"re wondering how debt consolidation works this article will help explain', 'clean_compressed': 'How does debt consolidation work'}\n",
      "{'set': [\"How far can a brand be stretched before it's stretched too thin?\", 'How far can a brand be stretched:'], 'clean_sentence': 'How far can brand be stretched before stretched too thin ?', 'clean_compressed': 'How far can brand be stretched :'}\n",
      "New Angolan airlines starts operating Wednesday\n",
      "Reese Witherspoon feels \"sexier than ever\"\n",
      "Gridlock problem politics economy\n",
      "Repentant militants protest non payment allowances\n",
      "Guillen says asked son resign\n",
      "Repatriation deal Tunisia working :\n",
      "Brady active expected start\n",
      "Carl Everett arrested aggravated assault\n",
      "How does debt consolidation work\n",
      "How far can brand be stretched :\n"
     ]
    }
   ],
   "execution_count": 224
  },
  {
   "cell_type": "markdown",
   "metadata": {
    "collapsed": false,
    "id": "X_ThE9H-pSOJ",
    "pycharm": {
     "name": "#%% md\n"
    }
   },
   "source": [
    "Let's examine some examples from the dataset and make sure that we got the results we wanted. At this step, it might be necessary to revisit some pre-processing steps if you are not happy with the results."
   ]
  },
  {
   "cell_type": "code",
   "metadata": {
    "id": "hP-qOPijpSOJ",
    "pycharm": {
     "name": "#%%\n"
    },
    "ExecuteTime": {
     "end_time": "2025-04-16T12:56:02.493744Z",
     "start_time": "2025-04-16T12:56:02.487075Z"
    }
   },
   "source": [
    "for i in range(10):\n",
    "    print(split_ds['train'][i])"
   ],
   "outputs": [
    {
     "name": "stdout",
     "output_type": "stream",
     "text": [
      "{'set': ['Servisair, a new Angolan airline, is due to start operating Wednesday with a flight between the cities of Luanda and Lubango in Huíla province, the company said in a statement published in Luanda Monday.', 'New Angolan airlines starts operating Wednesday'], 'clean_sentence': 'Servisair new Angolan airline due start operating Wednesday flight between cities Luanda Lubango Huíla province company said statement published Luanda Monday', 'clean_compressed': 'New Angolan airlines starts operating Wednesday'}\n",
      "{'set': [\"Reese Witherspoon has revealed that she feels ``sexier'' than she ever did and is more comfortable with herself than she was in the past.\", \"Reese Witherspoon feels ``sexier than ever''\"], 'clean_sentence': 'Reese Witherspoon revealed feels \"sexier\" than ever did more comfortable herself than past', 'clean_compressed': 'Reese Witherspoon feels \"sexier than ever\"'}\n",
      "{'set': ['Gridlock is the real problem with both politics and the economy.', 'Gridlock is problem in politics, economy'], 'clean_sentence': 'Gridlock real problem both politics economy', 'clean_compressed': 'Gridlock problem politics economy'}\n",
      "{'set': [\"Economic and social activities were again disrupted in Yenagoa, the Bayelsa State capital, yesterday when repentant militants protested alleged non-payment of allowances promised them by the Federal Government's amnesty committee.\", 'Repentant militants protest non-payment of allowances'], 'clean_sentence': 'Economic social activities were again disrupted Yenagoa Bayelsa State capital yesterday when repentant militants protested alleged non payment allowances promised them Federal Government amnesty committee', 'clean_compressed': 'Repentant militants protest non payment allowances'}\n",
      "{'set': ['White Sox manager Ozzie Guillen said on Saturday that he asked his son to resign from his position with the team because the younger Guillen had made a mistake.', 'Guillen says he asked his son to resign'], 'clean_sentence': 'White Sox manager Ozzie Guillen said Saturday asked son resign position team because younger Guillen had made mistake', 'clean_compressed': 'Guillen says asked son resign'}\n",
      "{'set': ['A recent repatriation deal with Tunisia is working, with 330 Tunisian migrants sent back home, Italian Interior Minister Roberto Maroni said on Sunday.', 'Repatriation deal with Tunisia working:'], 'clean_sentence': 'recent repatriation deal Tunisia working 330 Tunisian migrants sent back home Italian Interior Minister Roberto Maroni said Sunday', 'clean_compressed': 'Repatriation deal Tunisia working :'}\n",
      "{'set': [\"Patriots quarterback Tom Brady, who was questionable on the injury report with right shoulder and foot injuries, is active for today's game and is expected to start.\", 'Brady active and expected to start'], 'clean_sentence': 'Patriots quarterback Tom Brady who questionable injury report right shoulder foot injuries active today game expected start', 'clean_compressed': 'Brady active expected start'}\n",
      "{'set': ['Former Red Sox outfielder Carl Everett was arrested late Monday on charges of aggravated assault with a deadly weapon and tampering with a witness.', 'Carl Everett arrested for aggravated assault'], 'clean_sentence': 'Former Red Sox outfielder Carl Everett arrested late Monday charges aggravated assault deadly weapon tampering witness', 'clean_compressed': 'Carl Everett arrested aggravated assault'}\n",
      "{'set': [\"If you're wondering how debt consolidation works, this article will help to explain it.\", 'How does debt consolidation work'], 'clean_sentence': 'If you\"re wondering how debt consolidation works this article will help explain', 'clean_compressed': 'How does debt consolidation work'}\n",
      "{'set': [\"How far can a brand be stretched before it's stretched too thin?\", 'How far can a brand be stretched:'], 'clean_sentence': 'How far can brand be stretched before stretched too thin ?', 'clean_compressed': 'How far can brand be stretched :'}\n"
     ]
    }
   ],
   "execution_count": 225
  },
  {
   "cell_type": "markdown",
   "metadata": {
    "collapsed": false,
    "id": "7LI2KlfypSOJ",
    "pycharm": {
     "name": "#%% md\n"
    }
   },
   "source": [
    "<a name='e2'></a>\n",
    "### Exercise 2: Tokenize function\n",
    "\n",
    "(1p) As always, we will need to tokenize the dataset in order to create bat-of-words and TF-IDF representations in the next sections. We will use the [Natural Language Toolkit (NLTK) library]([https://www.nltk.org/]) (https://www.nltk.org/). Complete the following function to split the text into tokens using the `word_tokenize()` function. Check the [documentation](https://www.nltk.org/api/nltk.tokenize.word_tokenize.html?highlight=word_tokenize) first.\n",
    "Note that there are different tokenizers e.g. `RegexpTokenizer` where you can enter your own regexp, `WhitespaceTokenizer` (similar to Python's string.split()) and `BlanklineTokenizer`."
   ]
  },
  {
   "cell_type": "code",
   "metadata": {
    "id": "sb-M3V6ApSOK",
    "pycharm": {
     "name": "#%%\n"
    },
    "ExecuteTime": {
     "end_time": "2025-04-16T12:56:02.663013Z",
     "start_time": "2025-04-16T12:56:02.657975Z"
    }
   },
   "source": [
    "def tokenize(text):\n",
    "    \"\"\"\n",
    "    Tokenizes the `text` parameter using nltk library\n",
    "    Args:\n",
    "        text: a string representing a sentence to be tokenized\n",
    "\n",
    "    Returns: a list of tokens (strings)\n",
    "\n",
    "    \"\"\"\n",
    "\n",
    "    ### YOUR CODE HERE\n",
    "\n",
    "    tokens = nltk.tokenize.word_tokenize(text, language='english', preserve_line=False)\n",
    "\n",
    "    ### YOUR CODE ENDS HERE\n",
    "    return tokens"
   ],
   "outputs": [],
   "execution_count": 226
  },
  {
   "cell_type": "markdown",
   "metadata": {
    "collapsed": false,
    "id": "gwsHqZc9pSOK",
    "pycharm": {
     "name": "#%% md\n"
    }
   },
   "source": [
    "Next, the function will be applied to the whole dataset (as we did with the pre-processing) and `sentence_tokens` field will be created to store the result."
   ]
  },
  {
   "cell_type": "code",
   "metadata": {
    "id": "6sTX-AcTpSOK",
    "pycharm": {
     "name": "#%%\n"
    },
    "ExecuteTime": {
     "end_time": "2025-04-16T12:56:02.798733Z",
     "start_time": "2025-04-16T12:56:02.791390Z"
    }
   },
   "source": [
    "def tokenize_dataset(example):\n",
    "    \"\"\"\n",
    "    Tokenizes 'clean_sentence' columns in the example from the Dataset\n",
    "    Args:\n",
    "        example: an example from the Dataset\n",
    "\n",
    "    Returns: updated example with 'sentence_tokens' columns\n",
    "\n",
    "    \"\"\"\n",
    "    example['sentence_tokens'] = tokenize(example['clean_sentence'])\n",
    "    example['compressed_tokens'] = tokenize(example['clean_compressed'])\n",
    "    return example"
   ],
   "outputs": [],
   "execution_count": 227
  },
  {
   "cell_type": "code",
   "metadata": {
    "id": "jvwmXLj2pSOK",
    "pycharm": {
     "name": "#%%\n"
    },
    "ExecuteTime": {
     "end_time": "2025-04-16T12:56:22.657210Z",
     "start_time": "2025-04-16T12:56:02.947066Z"
    }
   },
   "source": [
    "split_ds = split_ds.map(tokenize_dataset)"
   ],
   "outputs": [
    {
     "name": "stderr",
     "output_type": "stream",
     "text": [
      "Map: 100%|██████████| 144000/144000 [00:15<00:00, 9002.81 examples/s] \n",
      "Map: 100%|██████████| 36000/36000 [00:03<00:00, 9724.15 examples/s] \n"
     ]
    }
   ],
   "execution_count": 228
  },
  {
   "cell_type": "code",
   "metadata": {
    "id": "yXnje31SpSOK",
    "pycharm": {
     "name": "#%%\n"
    },
    "ExecuteTime": {
     "end_time": "2025-04-16T12:56:22.972697Z",
     "start_time": "2025-04-16T12:56:22.956734Z"
    }
   },
   "source": [
    "for i in range(30):\n",
    "    print(split_ds['train'][i])\n"
   ],
   "outputs": [
    {
     "name": "stdout",
     "output_type": "stream",
     "text": [
      "{'set': ['Servisair, a new Angolan airline, is due to start operating Wednesday with a flight between the cities of Luanda and Lubango in Huíla province, the company said in a statement published in Luanda Monday.', 'New Angolan airlines starts operating Wednesday'], 'clean_sentence': 'Servisair new Angolan airline due start operating Wednesday flight between cities Luanda Lubango Huíla province company said statement published Luanda Monday', 'clean_compressed': 'New Angolan airlines starts operating Wednesday', 'sentence_tokens': ['Servisair', 'new', 'Angolan', 'airline', 'due', 'start', 'operating', 'Wednesday', 'flight', 'between', 'cities', 'Luanda', 'Lubango', 'Huíla', 'province', 'company', 'said', 'statement', 'published', 'Luanda', 'Monday'], 'compressed_tokens': ['New', 'Angolan', 'airlines', 'starts', 'operating', 'Wednesday']}\n",
      "{'set': [\"Reese Witherspoon has revealed that she feels ``sexier'' than she ever did and is more comfortable with herself than she was in the past.\", \"Reese Witherspoon feels ``sexier than ever''\"], 'clean_sentence': 'Reese Witherspoon revealed feels \"sexier\" than ever did more comfortable herself than past', 'clean_compressed': 'Reese Witherspoon feels \"sexier than ever\"', 'sentence_tokens': ['Reese', 'Witherspoon', 'revealed', 'feels', '``', 'sexier', \"''\", 'than', 'ever', 'did', 'more', 'comfortable', 'herself', 'than', 'past'], 'compressed_tokens': ['Reese', 'Witherspoon', 'feels', '``', 'sexier', 'than', 'ever', \"''\"]}\n",
      "{'set': ['Gridlock is the real problem with both politics and the economy.', 'Gridlock is problem in politics, economy'], 'clean_sentence': 'Gridlock real problem both politics economy', 'clean_compressed': 'Gridlock problem politics economy', 'sentence_tokens': ['Gridlock', 'real', 'problem', 'both', 'politics', 'economy'], 'compressed_tokens': ['Gridlock', 'problem', 'politics', 'economy']}\n",
      "{'set': [\"Economic and social activities were again disrupted in Yenagoa, the Bayelsa State capital, yesterday when repentant militants protested alleged non-payment of allowances promised them by the Federal Government's amnesty committee.\", 'Repentant militants protest non-payment of allowances'], 'clean_sentence': 'Economic social activities were again disrupted Yenagoa Bayelsa State capital yesterday when repentant militants protested alleged non payment allowances promised them Federal Government amnesty committee', 'clean_compressed': 'Repentant militants protest non payment allowances', 'sentence_tokens': ['Economic', 'social', 'activities', 'were', 'again', 'disrupted', 'Yenagoa', 'Bayelsa', 'State', 'capital', 'yesterday', 'when', 'repentant', 'militants', 'protested', 'alleged', 'non', 'payment', 'allowances', 'promised', 'them', 'Federal', 'Government', 'amnesty', 'committee'], 'compressed_tokens': ['Repentant', 'militants', 'protest', 'non', 'payment', 'allowances']}\n",
      "{'set': ['White Sox manager Ozzie Guillen said on Saturday that he asked his son to resign from his position with the team because the younger Guillen had made a mistake.', 'Guillen says he asked his son to resign'], 'clean_sentence': 'White Sox manager Ozzie Guillen said Saturday asked son resign position team because younger Guillen had made mistake', 'clean_compressed': 'Guillen says asked son resign', 'sentence_tokens': ['White', 'Sox', 'manager', 'Ozzie', 'Guillen', 'said', 'Saturday', 'asked', 'son', 'resign', 'position', 'team', 'because', 'younger', 'Guillen', 'had', 'made', 'mistake'], 'compressed_tokens': ['Guillen', 'says', 'asked', 'son', 'resign']}\n",
      "{'set': ['A recent repatriation deal with Tunisia is working, with 330 Tunisian migrants sent back home, Italian Interior Minister Roberto Maroni said on Sunday.', 'Repatriation deal with Tunisia working:'], 'clean_sentence': 'recent repatriation deal Tunisia working 330 Tunisian migrants sent back home Italian Interior Minister Roberto Maroni said Sunday', 'clean_compressed': 'Repatriation deal Tunisia working :', 'sentence_tokens': ['recent', 'repatriation', 'deal', 'Tunisia', 'working', '330', 'Tunisian', 'migrants', 'sent', 'back', 'home', 'Italian', 'Interior', 'Minister', 'Roberto', 'Maroni', 'said', 'Sunday'], 'compressed_tokens': ['Repatriation', 'deal', 'Tunisia', 'working', ':']}\n",
      "{'set': [\"Patriots quarterback Tom Brady, who was questionable on the injury report with right shoulder and foot injuries, is active for today's game and is expected to start.\", 'Brady active and expected to start'], 'clean_sentence': 'Patriots quarterback Tom Brady who questionable injury report right shoulder foot injuries active today game expected start', 'clean_compressed': 'Brady active expected start', 'sentence_tokens': ['Patriots', 'quarterback', 'Tom', 'Brady', 'who', 'questionable', 'injury', 'report', 'right', 'shoulder', 'foot', 'injuries', 'active', 'today', 'game', 'expected', 'start'], 'compressed_tokens': ['Brady', 'active', 'expected', 'start']}\n",
      "{'set': ['Former Red Sox outfielder Carl Everett was arrested late Monday on charges of aggravated assault with a deadly weapon and tampering with a witness.', 'Carl Everett arrested for aggravated assault'], 'clean_sentence': 'Former Red Sox outfielder Carl Everett arrested late Monday charges aggravated assault deadly weapon tampering witness', 'clean_compressed': 'Carl Everett arrested aggravated assault', 'sentence_tokens': ['Former', 'Red', 'Sox', 'outfielder', 'Carl', 'Everett', 'arrested', 'late', 'Monday', 'charges', 'aggravated', 'assault', 'deadly', 'weapon', 'tampering', 'witness'], 'compressed_tokens': ['Carl', 'Everett', 'arrested', 'aggravated', 'assault']}\n",
      "{'set': [\"If you're wondering how debt consolidation works, this article will help to explain it.\", 'How does debt consolidation work'], 'clean_sentence': 'If you\"re wondering how debt consolidation works this article will help explain', 'clean_compressed': 'How does debt consolidation work', 'sentence_tokens': ['If', 'you', \"''\", 're', 'wondering', 'how', 'debt', 'consolidation', 'works', 'this', 'article', 'will', 'help', 'explain'], 'compressed_tokens': ['How', 'does', 'debt', 'consolidation', 'work']}\n",
      "{'set': [\"How far can a brand be stretched before it's stretched too thin?\", 'How far can a brand be stretched:'], 'clean_sentence': 'How far can brand be stretched before stretched too thin ?', 'clean_compressed': 'How far can brand be stretched :', 'sentence_tokens': ['How', 'far', 'can', 'brand', 'be', 'stretched', 'before', 'stretched', 'too', 'thin', '?'], 'compressed_tokens': ['How', 'far', 'can', 'brand', 'be', 'stretched', ':']}\n",
      "{'set': ['It has finally happened, Rangers have file the necessary papers at the Court of Session in Edinburgh to go into administration.', 'Rangers to go into administration'], 'clean_sentence': 'finally happened Rangers have file necessary papers Court Session Edinburgh go into administration', 'clean_compressed': 'Rangers go into administration', 'sentence_tokens': ['finally', 'happened', 'Rangers', 'have', 'file', 'necessary', 'papers', 'Court', 'Session', 'Edinburgh', 'go', 'into', 'administration'], 'compressed_tokens': ['Rangers', 'go', 'into', 'administration']}\n",
      "{'set': ['Ruud van Nistelrooy says he is only moving to Bundesliga club Hamburg from Real Madrid to play more often.', 'Ruud van Nistelrooy says he is only moving to Hamburg to play more'], 'clean_sentence': 'Ruud van Nistelrooy says only moving Bundesliga club Hamburg Real Madrid play more often', 'clean_compressed': 'Ruud van Nistelrooy says only moving Hamburg play more', 'sentence_tokens': ['Ruud', 'van', 'Nistelrooy', 'says', 'only', 'moving', 'Bundesliga', 'club', 'Hamburg', 'Real', 'Madrid', 'play', 'more', 'often'], 'compressed_tokens': ['Ruud', 'van', 'Nistelrooy', 'says', 'only', 'moving', 'Hamburg', 'play', 'more']}\n",
      "{'set': ['Whitesnake drummer Brian Tichy broke his collarbone in a mountain biking accident this past weekend.', 'Whitesnake drummer Brian Tichy breaks collarbone'], 'clean_sentence': 'Whitesnake drummer Brian Tichy broke collarbone mountain biking accident this past weekend', 'clean_compressed': 'Whitesnake drummer Brian Tichy breaks collarbone', 'sentence_tokens': ['Whitesnake', 'drummer', 'Brian', 'Tichy', 'broke', 'collarbone', 'mountain', 'biking', 'accident', 'this', 'past', 'weekend'], 'compressed_tokens': ['Whitesnake', 'drummer', 'Brian', 'Tichy', 'breaks', 'collarbone']}\n",
      "{'set': [\"Stella D'oro workers took to the streets of the Bronx Saturday urging people to boycott the company's products.\", \"Stella D'oro workers urge people to boycott products\"], 'clean_sentence': 'Stella D\"oro workers took streets Bronx Saturday urging people boycott company products', 'clean_compressed': 'Stella D\"oro workers urge people boycott products', 'sentence_tokens': ['Stella', 'D', \"''\", 'oro', 'workers', 'took', 'streets', 'Bronx', 'Saturday', 'urging', 'people', 'boycott', 'company', 'products'], 'compressed_tokens': ['Stella', 'D', \"''\", 'oro', 'workers', 'urge', 'people', 'boycott', 'products']}\n",
      "{'set': ['A 47-year-old La Mesa man was convicted Tuesday of making threats against President Barack Obama during the 2008 presidential campaign, ranting in an Internet post that the candidate should be shot.', 'La Mesa man convicted of making threats against president Obama'], 'clean_sentence': '47 year old La Mesa man convicted Tuesday making threats against President Barack Obama during 2008 presidential campaign ranting Internet post candidate should be shot', 'clean_compressed': 'La Mesa man convicted making threats against president Obama', 'sentence_tokens': ['47', 'year', 'old', 'La', 'Mesa', 'man', 'convicted', 'Tuesday', 'making', 'threats', 'against', 'President', 'Barack', 'Obama', 'during', '2008', 'presidential', 'campaign', 'ranting', 'Internet', 'post', 'candidate', 'should', 'be', 'shot'], 'compressed_tokens': ['La', 'Mesa', 'man', 'convicted', 'making', 'threats', 'against', 'president', 'Obama']}\n",
      "{'set': ['County police charged a 31-year-old man following a knife fight in Pasadena early yesterday morning.', 'Police charge man after knife fight'], 'clean_sentence': 'County police charged 31 year old man following knife fight Pasadena early yesterday morning', 'clean_compressed': 'Police charge man after knife fight', 'sentence_tokens': ['County', 'police', 'charged', '31', 'year', 'old', 'man', 'following', 'knife', 'fight', 'Pasadena', 'early', 'yesterday', 'morning'], 'compressed_tokens': ['Police', 'charge', 'man', 'after', 'knife', 'fight']}\n",
      "{'set': [\"``I regret the active diplomacy failed because of Turkey, which put forth new preconditions over Nagorno-Karabakh at a period when it practically should have ratified the protocols, already ready, signed. It's disappointing that Turkey couldn't go farther in the normalization process with Armenia,'' Belgian Senate Chairman Armand De Decker said at the meeting with the Armenian Speaker Hovik Abrahamyan in Brussels.\", \"It's disappointing Turkey couldn't go farther in the normalization process with Armenia\"], 'clean_sentence': '\" regret active diplomacy failed because Turkey which put forth new preconditions over Nagorno Karabakh period when practically should have ratified protocols already ready signed disappointing Turkey couldn\"t go farther normalization process Armenia\" Belgian Senate Chairman Armand De Decker said meeting Armenian Speaker Hovik Abrahamyan Brussels', 'clean_compressed': 'disappointing Turkey couldn\"t go farther normalization process Armenia', 'sentence_tokens': ['``', 'regret', 'active', 'diplomacy', 'failed', 'because', 'Turkey', 'which', 'put', 'forth', 'new', 'preconditions', 'over', 'Nagorno', 'Karabakh', 'period', 'when', 'practically', 'should', 'have', 'ratified', 'protocols', 'already', 'ready', 'signed', 'disappointing', 'Turkey', 'couldn', \"''\", 't', 'go', 'farther', 'normalization', 'process', 'Armenia', \"''\", 'Belgian', 'Senate', 'Chairman', 'Armand', 'De', 'Decker', 'said', 'meeting', 'Armenian', 'Speaker', 'Hovik', 'Abrahamyan', 'Brussels'], 'compressed_tokens': ['disappointing', 'Turkey', 'couldn', \"''\", 't', 'go', 'farther', 'normalization', 'process', 'Armenia']}\n",
      "{'set': ['Plexxikon Inc. Kathleen Sereda Glaub, 510-647-4009 President kglaub@plexxikon.com or For Plexxikon Inc. Jennifer Cook Williams, 360-668-3701 jennifer@cwcomm.org Plexxikon Inc. today announced that it has initiated a Phase 1 human clinical trial for PLX5568, a novel kinase inhibitor targeted for the treatment of at least two major indications with unmet medical needs: pain as well as', 'Plexxikon initiates Phase 1 trial for PLX5568'], 'clean_sentence': 'Plexxikon Inc Kathleen Sereda Glaub 510 647 4009 President kglaub@plexxikoncom or Plexxikon Inc Jennifer Cook Williams 360 668 3701 jennifer@cwcommorg Plexxikon Inc today announced initiated Phase 1 human clinical trial PLX5568 novel kinase inhibitor targeted treatment least two major indications unmet medical needs : pain well', 'clean_compressed': 'Plexxikon initiates Phase 1 trial PLX5568', 'sentence_tokens': ['Plexxikon', 'Inc', 'Kathleen', 'Sereda', 'Glaub', '510', '647', '4009', 'President', 'kglaub', '@', 'plexxikoncom', 'or', 'Plexxikon', 'Inc', 'Jennifer', 'Cook', 'Williams', '360', '668', '3701', 'jennifer', '@', 'cwcommorg', 'Plexxikon', 'Inc', 'today', 'announced', 'initiated', 'Phase', '1', 'human', 'clinical', 'trial', 'PLX5568', 'novel', 'kinase', 'inhibitor', 'targeted', 'treatment', 'least', 'two', 'major', 'indications', 'unmet', 'medical', 'needs', ':', 'pain', 'well'], 'compressed_tokens': ['Plexxikon', 'initiates', 'Phase', '1', 'trial', 'PLX5568']}\n",
      "{'set': [\"Chris Martin often feels like an 'idiot' at home as he is the only member of the household who doesn't speak Spanish.\", 'Chris Martin feels an idiot at home'], 'clean_sentence': 'Chris Martin often feels like \"idiot\" home only member household who doesn\"t speak Spanish', 'clean_compressed': 'Chris Martin feels idiot home', 'sentence_tokens': ['Chris', 'Martin', 'often', 'feels', 'like', '``', 'idiot', \"''\", 'home', 'only', 'member', 'household', 'who', 'doesn', \"''\", 't', 'speak', 'Spanish'], 'compressed_tokens': ['Chris', 'Martin', 'feels', 'idiot', 'home']}\n",
      "{'set': ['Kareena Kapoor started the size zero fad in Bollywood when she lost oodles of weight for a bikini stint in her 2008 film Tashan.', 'Should Kareena Kapoor Lose weight?'], 'clean_sentence': 'Kareena Kapoor started size zero fad Bollywood when lost oodles weight bikini stint 2008 film Tashan', 'clean_compressed': 'Should Kareena Kapoor Lose weight ?', 'sentence_tokens': ['Kareena', 'Kapoor', 'started', 'size', 'zero', 'fad', 'Bollywood', 'when', 'lost', 'oodles', 'weight', 'bikini', 'stint', '2008', 'film', 'Tashan'], 'compressed_tokens': ['Should', 'Kareena', 'Kapoor', 'Lose', 'weight', '?']}\n",
      "{'set': [\"Goodfellows of Washington County will begin taking applications Monday for this year's Christmas drive.\", 'Goodfellows to begin taking applications Monday'], 'clean_sentence': 'Goodfellows Washington County will begin taking applications Monday this year Christmas drive', 'clean_compressed': 'Goodfellows begin taking applications Monday', 'sentence_tokens': ['Goodfellows', 'Washington', 'County', 'will', 'begin', 'taking', 'applications', 'Monday', 'this', 'year', 'Christmas', 'drive'], 'compressed_tokens': ['Goodfellows', 'begin', 'taking', 'applications', 'Monday']}\n",
      "{'set': ['The National Bureau of Property Administration, Inc. says that the current market conditions offer significant opportunities in property tax reductions for commercial and industrial property owners and lessees.', 'Current market conditions offer significant property tax reductions for commercial and industrial property owners and lessees'], 'clean_sentence': 'National Bureau Property Administration Inc says current market conditions offer significant opportunities property tax reductions commercial industrial property owners lessees', 'clean_compressed': 'Current market conditions offer significant property tax reductions commercial industrial property owners lessees', 'sentence_tokens': ['National', 'Bureau', 'Property', 'Administration', 'Inc', 'says', 'current', 'market', 'conditions', 'offer', 'significant', 'opportunities', 'property', 'tax', 'reductions', 'commercial', 'industrial', 'property', 'owners', 'lessees'], 'compressed_tokens': ['Current', 'market', 'conditions', 'offer', 'significant', 'property', 'tax', 'reductions', 'commercial', 'industrial', 'property', 'owners', 'lessees']}\n",
      "{'set': [\"Nintendo has said it puts out the ``right number of Mario games based on what fans are asking for,'' according to Nintendo of America senior director of corporate communications Charlie Scibetta.\", 'Nintendo puts out the ``right number of Mario games``'], 'clean_sentence': 'Nintendo said puts out \"right number Mario games based fans are asking \" according Nintendo America senior director corporate communications Charlie Scibetta', 'clean_compressed': 'Nintendo puts out \"right number Mario games\"', 'sentence_tokens': ['Nintendo', 'said', 'puts', 'out', '``', 'right', 'number', 'Mario', 'games', 'based', 'fans', 'are', 'asking', '``', 'according', 'Nintendo', 'America', 'senior', 'director', 'corporate', 'communications', 'Charlie', 'Scibetta'], 'compressed_tokens': ['Nintendo', 'puts', 'out', '``', 'right', 'number', 'Mario', 'games', \"''\"]}\n",
      "{'set': ['US airlines increase fares after fuel prices skyrocketed in the past weeks.', 'US airlines increase fares'], 'clean_sentence': 'US airlines increase fares after fuel prices skyrocketed past weeks', 'clean_compressed': 'US airlines increase fares', 'sentence_tokens': ['US', 'airlines', 'increase', 'fares', 'after', 'fuel', 'prices', 'skyrocketed', 'past', 'weeks'], 'compressed_tokens': ['US', 'airlines', 'increase', 'fares']}\n",
      "{'set': ['A man and woman were found shot dead in their San Jose home early Monday morning in an apparent double homicide, a police sergeant said.', 'Man, woman found shot dead in San Jose home'], 'clean_sentence': 'man woman were found shot dead their San Jose home early Monday morning apparent double homicide police sergeant said', 'clean_compressed': 'Man woman found shot dead San Jose home', 'sentence_tokens': ['man', 'woman', 'were', 'found', 'shot', 'dead', 'their', 'San', 'Jose', 'home', 'early', 'Monday', 'morning', 'apparent', 'double', 'homicide', 'police', 'sergeant', 'said'], 'compressed_tokens': ['Man', 'woman', 'found', 'shot', 'dead', 'San', 'Jose', 'home']}\n",
      "{'set': ['A very pregnant Kim Kardashian models her baby bump in lingerie in the upcoming season of Keeping Up With the Kardashians.', 'Pregnant Kim Kardashian models bump in lingerie;'], 'clean_sentence': 'very pregnant Kim Kardashian models baby bump lingerie upcoming season Keeping Up Kardashians', 'clean_compressed': 'Pregnant Kim Kardashian models bump lingerie ;', 'sentence_tokens': ['very', 'pregnant', 'Kim', 'Kardashian', 'models', 'baby', 'bump', 'lingerie', 'upcoming', 'season', 'Keeping', 'Up', 'Kardashians'], 'compressed_tokens': ['Pregnant', 'Kim', 'Kardashian', 'models', 'bump', 'lingerie', ';']}\n",
      "{'set': ['Residents of Mollington fear that the sale of a local golf course could see house prices plummet by as much as £50,000.', 'Sale of golf course could see house prices plummet'], 'clean_sentence': 'Residents Mollington fear sale local golf course could see house prices plummet much £50000.', 'clean_compressed': 'Sale golf course could see house prices plummet', 'sentence_tokens': ['Residents', 'Mollington', 'fear', 'sale', 'local', 'golf', 'course', 'could', 'see', 'house', 'prices', 'plummet', 'much', '£50000', '.'], 'compressed_tokens': ['Sale', 'golf', 'course', 'could', 'see', 'house', 'prices', 'plummet']}\n",
      "{'set': ['The National Weather Service has issued a dense fog advisory for the Mississippi Gulf Coast and Southeast Louisiana Coastal areas from 6 pm this evening through 6 am Tuesday.', 'National Weather Service issues fog advisory through 6 am Tuesday'], 'clean_sentence': 'National Weather Service issued dense fog advisory Mississippi Gulf Coast Southeast Louisiana Coastal areas 6 pm this evening through 6 am Tuesday', 'clean_compressed': 'National Weather Service issues fog advisory through 6 am Tuesday', 'sentence_tokens': ['National', 'Weather', 'Service', 'issued', 'dense', 'fog', 'advisory', 'Mississippi', 'Gulf', 'Coast', 'Southeast', 'Louisiana', 'Coastal', 'areas', '6', 'pm', 'this', 'evening', 'through', '6', 'am', 'Tuesday'], 'compressed_tokens': ['National', 'Weather', 'Service', 'issues', 'fog', 'advisory', 'through', '6', 'am', 'Tuesday']}\n",
      "{'set': ['The 2012 DiversityInc Top 50 Companies for Diversity list was announced April 24 at our event in New York.', 'The 2012 DiversityInc top 50 companies for diversity announced'], 'clean_sentence': '2012 DiversityInc Top 50 Companies Diversity list announced April 24 our event New York', 'clean_compressed': '2012 DiversityInc top 50 companies diversity announced', 'sentence_tokens': ['2012', 'DiversityInc', 'Top', '50', 'Companies', 'Diversity', 'list', 'announced', 'April', '24', 'our', 'event', 'New', 'York'], 'compressed_tokens': ['2012', 'DiversityInc', 'top', '50', 'companies', 'diversity', 'announced']}\n",
      "{'set': ['Albertsons in Mount Dora will close its doors in October.', 'Albertsons in Mount Dora to close'], 'clean_sentence': 'Albertsons Mount Dora will close doors October', 'clean_compressed': 'Albertsons Mount Dora close', 'sentence_tokens': ['Albertsons', 'Mount', 'Dora', 'will', 'close', 'doors', 'October'], 'compressed_tokens': ['Albertsons', 'Mount', 'Dora', 'close']}\n"
     ]
    }
   ],
   "execution_count": 229
  },
  {
   "cell_type": "markdown",
   "metadata": {
    "collapsed": false,
    "id": "FeF0wFd0pSOL",
    "pycharm": {
     "name": "#%% md\n"
    }
   },
   "source": [
    "Since we will need the tokenized sentences, we can use the following statement to extract them from the `train` split of our dataset."
   ]
  },
  {
   "cell_type": "code",
   "metadata": {
    "id": "qYKfXFxQpSOL",
    "pycharm": {
     "name": "#%%\n"
    },
    "ExecuteTime": {
     "end_time": "2025-04-16T12:56:25.318614Z",
     "start_time": "2025-04-16T12:56:23.138026Z"
    }
   },
   "source": [
    "tokenized_sentences = split_ds['train']['sentence_tokens']\n",
    "print(len(tokenized_sentences))\n",
    "print(tokenized_sentences[:10])"
   ],
   "outputs": [
    {
     "name": "stdout",
     "output_type": "stream",
     "text": [
      "144000\n",
      "[['Servisair', 'new', 'Angolan', 'airline', 'due', 'start', 'operating', 'Wednesday', 'flight', 'between', 'cities', 'Luanda', 'Lubango', 'Huíla', 'province', 'company', 'said', 'statement', 'published', 'Luanda', 'Monday'], ['Reese', 'Witherspoon', 'revealed', 'feels', '``', 'sexier', \"''\", 'than', 'ever', 'did', 'more', 'comfortable', 'herself', 'than', 'past'], ['Gridlock', 'real', 'problem', 'both', 'politics', 'economy'], ['Economic', 'social', 'activities', 'were', 'again', 'disrupted', 'Yenagoa', 'Bayelsa', 'State', 'capital', 'yesterday', 'when', 'repentant', 'militants', 'protested', 'alleged', 'non', 'payment', 'allowances', 'promised', 'them', 'Federal', 'Government', 'amnesty', 'committee'], ['White', 'Sox', 'manager', 'Ozzie', 'Guillen', 'said', 'Saturday', 'asked', 'son', 'resign', 'position', 'team', 'because', 'younger', 'Guillen', 'had', 'made', 'mistake'], ['recent', 'repatriation', 'deal', 'Tunisia', 'working', '330', 'Tunisian', 'migrants', 'sent', 'back', 'home', 'Italian', 'Interior', 'Minister', 'Roberto', 'Maroni', 'said', 'Sunday'], ['Patriots', 'quarterback', 'Tom', 'Brady', 'who', 'questionable', 'injury', 'report', 'right', 'shoulder', 'foot', 'injuries', 'active', 'today', 'game', 'expected', 'start'], ['Former', 'Red', 'Sox', 'outfielder', 'Carl', 'Everett', 'arrested', 'late', 'Monday', 'charges', 'aggravated', 'assault', 'deadly', 'weapon', 'tampering', 'witness'], ['If', 'you', \"''\", 're', 'wondering', 'how', 'debt', 'consolidation', 'works', 'this', 'article', 'will', 'help', 'explain'], ['How', 'far', 'can', 'brand', 'be', 'stretched', 'before', 'stretched', 'too', 'thin', '?']]\n"
     ]
    }
   ],
   "execution_count": 230
  },
  {
   "cell_type": "code",
   "source": [
    "tokenized_compressed = split_ds['train']['compressed_tokens']\n",
    "print(len(tokenized_compressed))\n",
    "print(tokenized_compressed[:10])"
   ],
   "metadata": {
    "collapsed": false,
    "pycharm": {
     "name": "#%%\n"
    },
    "ExecuteTime": {
     "end_time": "2025-04-16T12:56:26.421897Z",
     "start_time": "2025-04-16T12:56:25.551247Z"
    }
   },
   "outputs": [
    {
     "name": "stdout",
     "output_type": "stream",
     "text": [
      "144000\n",
      "[['New', 'Angolan', 'airlines', 'starts', 'operating', 'Wednesday'], ['Reese', 'Witherspoon', 'feels', '``', 'sexier', 'than', 'ever', \"''\"], ['Gridlock', 'problem', 'politics', 'economy'], ['Repentant', 'militants', 'protest', 'non', 'payment', 'allowances'], ['Guillen', 'says', 'asked', 'son', 'resign'], ['Repatriation', 'deal', 'Tunisia', 'working', ':'], ['Brady', 'active', 'expected', 'start'], ['Carl', 'Everett', 'arrested', 'aggravated', 'assault'], ['How', 'does', 'debt', 'consolidation', 'work'], ['How', 'far', 'can', 'brand', 'be', 'stretched', ':']]\n"
     ]
    }
   ],
   "execution_count": 231
  },
  {
   "cell_type": "markdown",
   "metadata": {
    "id": "ZDGwEiZeCA5U",
    "pycharm": {
     "name": "#%% md\n"
    }
   },
   "source": [
    "Notice the difference in the types of the different structures we use. Run the following cell to check the types. Do they make sense to you?"
   ]
  },
  {
   "cell_type": "code",
   "metadata": {
    "id": "wKrkFmcZCtOd",
    "pycharm": {
     "name": "#%%\n"
    },
    "ExecuteTime": {
     "end_time": "2025-04-16T12:56:29.687246Z",
     "start_time": "2025-04-16T12:56:26.603673Z"
    }
   },
   "source": [
    "#type of original dataset\n",
    "print(type(split_ds))\n",
    "print(\"--\")\n",
    "#type of original sentence\n",
    "print(split_ds['train'][1])\n",
    "print(type(split_ds['train'][1]))\n",
    "print(\"--\")\n",
    "#type of pre-proceesed sentence\n",
    "print(split_ds['train']['clean_sentence'][1])\n",
    "print(type(split_ds['train']['clean_sentence'][1]))\n",
    "print(\"--\")\n",
    "#type of tokenized sentence\n",
    "print(split_ds['train']['sentence_tokens'][1])\n",
    "print(type(split_ds['train']['sentence_tokens'][1]))\n",
    "print(\"--\")"
   ],
   "outputs": [
    {
     "name": "stdout",
     "output_type": "stream",
     "text": [
      "<class 'datasets.dataset_dict.DatasetDict'>\n",
      "--\n",
      "{'set': [\"Reese Witherspoon has revealed that she feels ``sexier'' than she ever did and is more comfortable with herself than she was in the past.\", \"Reese Witherspoon feels ``sexier than ever''\"], 'clean_sentence': 'Reese Witherspoon revealed feels \"sexier\" than ever did more comfortable herself than past', 'clean_compressed': 'Reese Witherspoon feels \"sexier than ever\"', 'sentence_tokens': ['Reese', 'Witherspoon', 'revealed', 'feels', '``', 'sexier', \"''\", 'than', 'ever', 'did', 'more', 'comfortable', 'herself', 'than', 'past'], 'compressed_tokens': ['Reese', 'Witherspoon', 'feels', '``', 'sexier', 'than', 'ever', \"''\"]}\n",
      "<class 'dict'>\n",
      "--\n",
      "Reese Witherspoon revealed feels \"sexier\" than ever did more comfortable herself than past\n",
      "<class 'str'>\n",
      "--\n",
      "['Reese', 'Witherspoon', 'revealed', 'feels', '``', 'sexier', \"''\", 'than', 'ever', 'did', 'more', 'comfortable', 'herself', 'than', 'past']\n",
      "<class 'list'>\n",
      "--\n"
     ]
    }
   ],
   "execution_count": 232
  },
  {
   "cell_type": "markdown",
   "source": [
    "## 2. Bag of Words\n",
    "In this section you will built a bag-of-words representation of the dataset. We will use numpy arrays to store the results. The bag-of-words representation is a simple and effective way to represent text data. It involves creating a vocabulary of unique words from the dataset and representing each sentence as a vector of word counts. We first need the vocabulary, which we will build from both the full sentences and the compressed sentences. Similar to the first lab, the vocabulary will be a list of unique words from the dataset."
   ],
   "metadata": {
    "collapsed": false,
    "pycharm": {
     "name": "#%% md\n"
    }
   }
  },
  {
   "cell_type": "markdown",
   "source": [
    "<a name='e3'></a>\n",
    "### Exercise 3: Extracting vocabulary counts\n",
    "\n",
    "(1p) In the following cell, you will implement a function that takes a list of tokenized sentences and returns a dictionary with the counts of each word in the vocabulary. The dictionary should be of the form {word: count}. As in previous lab, you will use the `Counter` class from the `collections` module to do this."
   ],
   "metadata": {
    "collapsed": false,
    "pycharm": {
     "name": "#%% md\n"
    }
   }
  },
  {
   "cell_type": "code",
   "source": [
    "from collections import Counter\n",
    "\n",
    "\n",
    "def extract_vocabulary_counts(tokenized_sentences):\n",
    "    \"\"\"\n",
    "    Extracts the vocabulary from the tokenized sentences\n",
    "    Args:\n",
    "        tokenized_sentences: a list of lists of tokens\n",
    "\n",
    "    Returns: a Counter object with the counts of each word in the vocabulary\n",
    "    \"\"\"\n",
    "\n",
    "    ### YOUR CODE HERE\n",
    "\n",
    "    vocab = Counter()\n",
    "    for sentence in tokenized_sentences:\n",
    "        vocab.update(sentence)\n",
    "    return vocab\n",
    "\n",
    "\n",
    "    ### YOUR CODE ENDS HERE"
   ],
   "metadata": {
    "collapsed": false,
    "pycharm": {
     "name": "#%%\n"
    },
    "ExecuteTime": {
     "end_time": "2025-04-16T12:56:29.697258Z",
     "start_time": "2025-04-16T12:56:29.693678Z"
    }
   },
   "outputs": [],
   "execution_count": 233
  },
  {
   "cell_type": "code",
   "source": [
    "vocab_counter = extract_vocabulary_counts(tokenized_sentences + tokenized_compressed)\n",
    "print(len(vocab_counter))\n",
    "print(vocab_counter.most_common(20))"
   ],
   "metadata": {
    "collapsed": false,
    "pycharm": {
     "name": "#%%\n"
    },
    "ExecuteTime": {
     "end_time": "2025-04-16T12:56:30.114882Z",
     "start_time": "2025-04-16T12:56:29.790431Z"
    }
   },
   "outputs": [
    {
     "name": "stdout",
     "output_type": "stream",
     "text": [
      "126583\n",
      "[(\"''\", 34721), ('``', 29969), ('said', 20033), ('will', 19707), ('after', 18434), ('be', 14327), ('new', 13732), ('have', 12414), ('year', 11760), (':', 11584), ('US', 11271), ('are', 10611), ('been', 10520), ('$', 9852), ('today', 9700), ('man', 9562), ('this', 9002), ('their', 8940), ('over', 8026), ('who', 7963)]\n"
     ]
    }
   ],
   "execution_count": 234
  },
  {
   "cell_type": "markdown",
   "source": [
    "As you can see the size of the vocabulary is quite large. Like the last time, we will limit the vocabulary to the most frequent words. The next cell will create a dictionary that maps each word to an index in the vocabulary. This will be used to create the bag-of-words representation of the sentences."
   ],
   "metadata": {
    "collapsed": false,
    "pycharm": {
     "name": "#%% md\n"
    }
   }
  },
  {
   "cell_type": "code",
   "source": [
    "vocab_size = 10_000\n",
    "vocab = vocab_counter.most_common(vocab_size)\n",
    "token_to_id = {word: i for i, (word, _) in enumerate(vocab)}\n",
    "print(token_to_id)"
   ],
   "metadata": {
    "collapsed": false,
    "pycharm": {
     "name": "#%%\n"
    },
    "ExecuteTime": {
     "end_time": "2025-04-16T12:56:30.227304Z",
     "start_time": "2025-04-16T12:56:30.196747Z"
    }
   },
   "outputs": [
    {
     "name": "stdout",
     "output_type": "stream",
     "text": [
      "{\"''\": 0, '``': 1, 'said': 2, 'will': 3, 'after': 4, 'be': 5, 'new': 6, 'have': 7, 'year': 8, ':': 9, 'US': 10, 'are': 11, 'been': 12, '$': 13, 'today': 14, 'man': 15, 'this': 16, 'their': 17, 'over': 18, 'who': 19, 'first': 20, 'up': 21, 'announced': 22, 'two': 23, 'Tuesday': 24, 'not': 25, 'Wednesday': 26, 'Monday': 27, 'against': 28, 'Thursday': 29, 'police': 30, 'Friday': 31, 'out': 32, 'more': 33, 'says': 34, 'New': 35, 'into': 36, 'million': 37, '.': 38, 'which': 39, 'one': 40, 'were': 41, 'according': 42, 'last': 43, 'Saturday': 44, 'than': 45, 'week': 46, 'about': 47, 'President': 48, 'County': 49, 'Sunday': 50, 'years': 51, 'time': 52, 'India': 53, 'off': 54, 'old': 55, 'home': 56, 'state': 57, 'during': 58, 'three': 59, 'people': 60, 'but': 61, 'government': 62, 'woman': 63, 'night': 64, 'company': 65, 'killed': 66, 'when': 67, 'being': 68, 'next': 69, 'arrested': 70, 'found': 71, 'all': 72, 'died': 73, 'Minister': 74, 'second': 75, 'morning': 76, 'set': 77, 'charged': 78, 'Obama': 79, 'day': 80, 'had': 81, 'may': 82, 'would': 83, 'back': 84, 'could': 85, 'country': 86, 'world': 87, 'reported': 88, 'can': 89, 'South': 90, 'former': 91, 'down': 92, 'State': 93, 'season': 94, 'China': 95, 'month': 96, 'market': 97, 'Former': 98, 't': 99, '1': 100, 'City': 101, 'team': 102, '&': 103, 'Police': 104, 'Inc': 105, 'early': 106, 'fire': 107, 'while': 108, 'or': 109, 'reports': 110, 'United': 111, 'charges': 112, 'prices': 113, 'plans': 114, 'car': 115, '?': 116, 'dies': 117, 'guilty': 118, 'American': 119, 'following': 120, 'star': 121, 'billion': 122, '2': 123, 'business': 124, '%': 125, 'him': 126, 'officials': 127, 'Man': 128, 'hit': 129, 'Bank': 130, 'report': 131, 'released': 132, 'now': 133, 'yesterday': 134, 'school': 135, 'death': 136, 'four': 137, 'city': 138, 'near': 139, 'York': 140, 'World': 141, 'Pakistan': 142, 'North': 143, 'National': 144, 'end': 145, 'under': 146, 'Two': 147, '2012': 148, 'some': 149, 'say': 150, '10': 151, 'help': 152, 'no': 153, 'court': 154, 'made': 155, 'service': 156, 'based': 157, 'open': 158, 'months': 159, 'Indian': 160, 'through': 161, 'percent': 162, 'won': 163, 'other': 164, 'high': 165, 'make': 166, ';': 167, '3': 168, 'global': 169, 'public': 170, 'accused': 171, 'before': 172, 'game': 173, 'take': 174, 'expected': 175, 'per': 176, 'third': 177, 'just': 178, 'five': 179, 'oil': 180, 'hospital': 181, 'most': 182, 'John': 183, 'services': 184, 'launched': 185, 'show': 186, 'British': 187, 'coach': 188, 'play': 189, 'announces': 190, 'European': 191, 'League': 192, 'part': 193, 'official': 194, 'West': 195, 'left': 196, 'economic': 197, 'top': 198, 'between': 199, 'should': 200, 'launches': 201, 'group': 202, '2010': 203, 'here': 204, 'work': 205, 'cut': 206, 'UK': 207, 'record': 208, 'quarter': 209, 'dead': 210, 'win': 211, 'told': 212, 'deal': 213, 'another': 214, 'held': 215, 'shot': 216, 'close': 217, 'because': 218, 'president': 219, 'crash': 220, '!': 221, 'return': 222, 'support': 223, 'you': 224, 'jobs': 225, 'Cup': 226, 'life': 227, 'get': 228, '2011': 229, 'local': 230, 'financial': 231, 'due': 232, 'University': 233, 'days': 234, 'March': 235, 'since': 236, 'security': 237, 'called': 238, 'launch': 239, 'London': 240, 'May': 241, 'leader': 242, 'if': 243, 'injured': 244, 'free': 245, 'office': 246, 'weekend': 247, 'trade': 248, 'six': 249, 'sales': 250, 'health': 251, 'international': 252, 'major': 253, 'visit': 254, 'power': 255, 'face': 256, 'release': 257, 'including': 258, 'House': 259, 'head': 260, 'women': 261, 'start': 262, 'economy': 263, 'area': 264, 'federal': 265, 'officer': 266, 'International': 267, 'gas': 268, 'signed': 269, 'men': 270, 'run': 271, '20': 272, 'afternoon': 273, 'still': 274, 'June': 275, 'child': 276, 'April': 277, 'news': 278, 'Australia': 279, 'stocks': 280, '4': 281, 'national': 282, 'final': 283, 'bank': 284, 'Iran': 285, 'Australian': 286, 'online': 287, 'like': 288, 'children': 289, '5': 290, 'Court': 291, 'David': 292, 'tax': 293, 'attack': 294, 'St': 295, '2009': 296, 'media': 297, 'shares': 298, 'drug': 299, '6': 300, 'fall': 301, 'them': 302, 'fell': 303, 'largest': 304, '2013': 305, 'military': 306, 'chief': 307, 'campaign': 308, 'across': 309, 'dollar': 310, 'Group': 311, 'Barack': 312, '11': 313, 'long': 314, 'wins': 315, 'Corp': 316, 'go': 317, 'pay': 318, 'where': 319, 'sentenced': 320, 'leading': 321, '15': 322, 'system': 323, 'Afghanistan': 324, 'family': 325, 'industry': 326, 'election': 327, 'revealed': 328, '12': 329, 'talks': 330, 're': 331, 'around': 332, 'Street': 333, 'Washington': 334, '30': 335, 'mobile': 336, 'right': 337, 'house': 338, 'England': 339, 'allegedly': 340, 'meeting': 341, 'growth': 342, 'data': 343, 'host': 344, 'plan': 345, 'cancer': 346, 'Department': 347, 'contract': 348, 'markets': 349, 'rate': 350, 'again': 351, 'Chinese': 352, 'series': 353, 'late': 354, 'move': 355, 'confirmed': 356, 'San': 357, 'case': 358, 'so': 359, 'party': 360, 'July': 361, 'Prime': 362, 'increase': 363, 'prison': 364, 'firm': 365, 'despite': 366, 'States': 367, 'America': 368, 'Russia': 369, 'wants': 370, 'way': 371, 'TV': 372, 'Michael': 373, 'closed': 374, 'News': 375, 'do': 376, 'well': 377, 'murder': 378, 'money': 379, 'Japan': 380, 'club': 381, 'agreement': 382, 'students': 383, 'best': 384, 'only': 385, 'water': 386, 'film': 387, 'there': 388, 'manager': 389, 'crisis': 390, 'higher': 391, 'wife': 392, 'making': 393, 'any': 394, 'East': 395, 'General': 396, 'saying': 397, 'recently': 398, 'use': 399, 'political': 400, 'we': 401, 'program': 402, 'Park': 403, 'continue': 404, 'recent': 405, 'sign': 406, 'number': 407, 'stock': 408, 'Canada': 409, 'taking': 410, 'opened': 411, 'hold': 412, 'latest': 413, 'School': 414, 'surgery': 415, 'provider': 416, 'price': 417, 'buy': 418, 'law': 419, 'offer': 420, 'French': 421, 'shooting': 422, 'share': 423, 'Texas': 424, 'companies': 425, 'budget': 426, 'away': 427, 'lead': 428, 'Korea': 429, 'demand': 430, '7': 431, 'become': 432, 'annual': 433, '2008': 434, 'Day': 435, 'workers': 436, 'several': 437, 'rise': 438, 'capital': 439, 'how': 440, 'own': 441, 'opens': 442, 'minister': 443, 'energy': 444, 'development': 445, 'Israel': 446, 'lower': 447, 'production': 448, 'meet': 449, 'No': 450, 'signs': 451, 'likely': 452, 'Europe': 453, 'cent': 454, 'accident': 455, 'named': 456, 'fight': 457, 'facing': 458, 'weeks': 459, 'football': 460, 'January': 461, 'debt': 462, 'Senate': 463, 'study': 464, 'nearly': 465, 'place': 466, 'profit': 467, '25': 468, 'Congress': 469, 'age': 470, 'private': 471, 'action': 472, 'Center': 473, 'rates': 474, 'Africa': 475, 'Woman': 476, '100': 477, 'trial': 478, 'faces': 479, 'fourth': 480, 'going': 481, 'assault': 482, 'ahead': 483, 'charge': 484, 'High': 485, '14': 486, 'Los': 487, 'management': 488, 'Russian': 489, 'loss': 490, 'tour': 491, 'filed': 492, 'investment': 493, 'White': 494, 'Apple': 495, 'sex': 496, 'One': 497, 'points': 498, 'also': 499, 'line': 500, 'many': 501, 'Google': 502, 'trading': 503, '18': 504, 'ago': 505, 'Angeles': 506, 'German': 507, 'care': 508, 'Paul': 509, 'California': 510, 'round': 511, 'Rs': 512, 'food': 513, 'store': 514, 'half': 515, 'Delhi': 516, 'good': 517, 'France': 518, 'issued': 519, 'pleaded': 520, 'research': 521, 'authorities': 522, '13': 523, 'director': 524, 'call': 525, 'Council': 526, 'February': 527, 'interest': 528, 'September': 529, 'rose': 530, 'nuclear': 531, 'Air': 532, 'agreed': 533, 'past': 534, 'investors': 535, 'pleads': 536, 'least': 537, 'results': 538, 'baby': 539, 'pm': 540, 'presidential': 541, 'actor': 542, 'hours': 543, 'girl': 544, 'technology': 545, 'Co': 546, 'leaders': 547, 'Florida': 548, 'members': 549, 'plant': 550, '8': 551, 'forces': 552, 'title': 553, 'order': 554, 'bill': 555, 'took': 556, 'working': 557, 'without': 558, 'Oil': 559, 'body': 560, 'taken': 561, 'region': 562, 'board': 563, 'calls': 564, 'beat': 565, 'November': 566, 'amid': 567, 'Updated': 568, 'rights': 569, 'Chief': 570, 'coming': 571, 'products': 572, 'nation': 573, 'leave': 574, 'building': 575, 'Three': 576, 'role': 577, 'sell': 578, '50': 579, 'much': 580, 'stop': 581, 'players': 582, 'Asian': 583, '16': 584, 'both': 585, 'Union': 586, 'strong': 587, 'future': 588, 'site': 589, 'opening': 590, 'player': 591, 'special': 592, 'network': 593, 'music': 594, 'Canadian': 595, 'foreign': 596, 'emergency': 597, 'am': 598, 'further': 599, 'claims': 600, 'video': 601, 'reportedly': 602, 'full': 603, 'need': 604, 'conference': 605, 'match': 606, 'Government': 607, 'even': 608, 'center': 609, 'community': 610, 'injury': 611, 'looking': 612, 'cash': 613, 'returns': 614, 'race': 615, 'district': 616, 'cuts': 617, 'led': 618, 'makes': 619, 'Republican': 620, 'credit': 621, 'Secretary': 622, 'vehicle': 623, 'driver': 624, 'Gov': 625, 'side': 626, 'James': 627, 'After': 628, 'singer': 629, 'lost': 630, 'October': 631, 'sector': 632, 'bid': 633, 'earlier': 634, 'seven': 635, ')': 636, 'live': 637, 'running': 638, 'Israeli': 639, 'project': 640, 'town': 641, 'road': 642, 'test': 643, 'We': 644, 'forward': 645, 'senior': 646, 'suspended': 647, 'war': 648, 'small': 649, 'December': 650, 'low': 651, 'heart': 652, 'biggest': 653, 'social': 654, 'issues': 655, 'August': 656, 'continues': 657, 'George': 658, 'summer': 659, 'killing': 660, 'bus': 661, 'Corporation': 662, 'raise': 663, '24': 664, 'Chris': 665, 'Brown': 666, 'level': 667, 'student': 668, 'air': 669, 'album': 670, 'big': 671, 'traffic': 672, 'come': 673, 'central': 674, 'driving': 675, 'Premier': 676, 'change': 677, 'used': 678, 'operations': 679, 'remain': 680, 'agency': 681, '17': 682, 'victory': 683, 'banks': 684, 'fans': 685, 'must': 686, 'ready': 687, 'keep': 688, 'evening': 689, 'issue': 690, 'missing': 691, 'job': 692, 'my': 693, 'games': 694, 'control': 695, 'website': 696, 'offering': 697, 'information': 698, 'winning': 699, 'Chicago': 700, 'soon': 701, 'countries': 702, '0': 703, 'put': 704, 'Energy': 705, 'policy': 706, 'better': 707, 'arrest': 708, 'Britain': 709, 'our': 710, 'African': 711, 'Airlines': 712, 'actress': 713, 'young': 714, '(': 715, 'very': 716, 'press': 717, 'join': 718, 'vote': 719, 'Manchester': 720, 'strike': 721, 'getting': 722, 'College': 723, 'Central': 724, 'domestic': 725, 'customers': 726, 'planning': 727, 'ended': 728, 'training': 729, 'trying': 730, 'medical': 731, 'residents': 732, 'session': 733, 'received': 734, 'give': 735, 'troops': 736, 'sold': 737, 'term': 738, 'key': 739, 'Open': 740, 'Federal': 741, 'member': 742, 'judge': 743, 'shows': 744, 'Robert': 745, 'anti': 746, 'takes': 747, 'Red': 748, 'see': 749, 'himself': 750, 'jail': 751, 'software': 752, 'investigating': 753, 'boy': 754, 'Lake': 755, 'remains': 756, 'your': 757, 'having': 758, 'eight': 759, 'Sri': 760, 'sale': 761, 'got': 762, '21': 763, 'stage': 764, 'selling': 765, 'event': 766, 'Facebook': 767, 'Health': 768, '`': 769, 'giant': 770, 'announce': 771, 'current': 772, 'Sen': 773, '19': 774, 'maker': 775, 'schools': 776, 'among': 777, 'bankruptcy': 778, 'cost': 779, 'Mark': 780, 'Hollywood': 781, 'All': 782, 'train': 783, 'behind': 784, '22': 785, 'executive': 786, 'Zealand': 787, 'career': 788, 'want': 789, 'son': 790, 'outside': 791, 'Foreign': 792, 'Singh': 793, 'statement': 794, 'Office': 795, 'Iraq': 796, 'Turkey': 797, 'debut': 798, 'Jackson': 799, '9': 800, 'growing': 801, 'general': 802, 'admitted': 803, 'Germany': 804, 'elections': 805, 'sexual': 806, 'District': 807, 'gains': 808, 'us': 809, 'Road': 810, 'border': 811, 'along': 812, 'same': 813, 'later': 814, 'risk': 815, 'until': 816, 'needs': 817, 'husband': 818, 'movie': 819, 'Association': 820, 'officers': 821, 'positive': 822, 'violence': 823, 'search': 824, 'ban': 825, 'within': 826, 'fuel': 827, 'upcoming': 828, 'performance': 829, 'warned': 830, 'fund': 831, 'southern': 832, 'gold': 833, 'Mumbai': 834, 'station': 835, 'practice': 836, 'loan': 837, 'Asia': 838, '23': 839, 'offers': 840, 'using': 841, 'co': 842, 'raised': 843, 'known': 844, 'sent': 845, 'property': 846, 'losses': 847, 'Bay': 848, 'falls': 849, 'leaving': 850, 'tonight': 851, 'ever': 852, 'single': 853, 'claimed': 854, 'River': 855, 'struck': 856, 'centre': 857, 'Bill': 858, 'Al': 859, 'decision': 860, 'candidate': 861, 'name': 862, 'm': 863, 'protest': 864, 'given': 865, 'build': 866, 'such': 867, 'champion': 868, 'Mexico': 869, 'suicide': 870, 'Company': 871, 'spending': 872, 'Olympic': 873, 'Party': 874, 'Commission': 875, 'couple': 876, 'Microsoft': 877, 'break': 878, 'safety': 879, 'Japanese': 880, 'human': 881, 'non': 882, 'Ltd': 883, 'phone': 884, 'staff': 885, 'Grand': 886, 'provide': 887, 'alleged': 888, 'anniversary': 889, 'Gold': 890, 'Coast': 891, 'Valley': 892, 'recovery': 893, 'acquire': 894, 'list': 895, 'UN': 896, 'files': 897, 'officially': 898, 'step': 899, 'funds': 900, 'construction': 901, 'fraud': 902, 'fired': 903, '40': 904, 'Ministry': 905, 'approved': 906, 'possible': 907, 'Hall': 908, 'O': 909, 'attacks': 910, 'showed': 911, 'Williams': 912, 'Service': 913, 'target': 914, 'Carolina': 915, 'continued': 916, 'post': 917, 'Georgia': 918, 'Johnson': 919, 'brand': 920, 'league': 921, 'declared': 922, 'owner': 923, 'changes': 924, 'employees': 925, 'confidence': 926, 'turned': 927, 'pressure': 928, '28': 929, 'few': 930, 'Calif': 931, 'flu': 932, 'stay': 933, 'history': 934, 'robbery': 935, 'mother': 936, 'Governor': 937, 'jailed': 938, 'retail': 939, '26': 940, 'soldiers': 941, 'costs': 942, 'asked': 943, 'almost': 944, 'battle': 945, 'too': 946, 'opposition': 947, 'joint': 948, 'Big': 949, 'Internet': 950, 'truck': 951, 'less': 952, 'Mike': 953, 'boost': 954, 'starting': 955, 'real': 956, 'consumer': 957, 'Wall': 958, 'weather': 959, 'Smith': 960, 'seen': 961, 'appointed': 962, 'sources': 963, 'south': 964, 'returned': 965, 'First': 966, 'More': 967, 'dropped': 968, 'falling': 969, 'serious': 970, 'solutions': 971, 'force': 972, 'businesses': 973, 'hopes': 974, 'injuries': 975, 'whose': 976, 'never': 977, 'Dr': 978, '27': 979, 'worth': 980, 'S': 981, 'insurance': 982, 'rally': 983, 'Board': 984, 'daughter': 985, 'Justin': 986, 'convicted': 987, 'double': 988, 'paid': 989, 'protection': 990, 'legal': 991, 'Jones': 992, 'flights': 993, 'Four': 994, 'straight': 995, 'acquired': 996, 'might': 997, 'Bush': 998, 'Syria': 999, 'Joe': 1000, 'drop': 1001, 'Pakistani': 1002, 'playing': 1003, 'increased': 1004, 'chairman': 1005, 'ex': 1006, 'euro': 1007, 'Boston': 1008, 'begin': 1009, 'great': 1010, 'Times': 1011, 'Christmas': 1012, 'fiscal': 1013, 'Spain': 1014, 'mortgage': 1015, 'areas': 1016, 'warning': 1017, 'travel': 1018, 'gets': 1019, 'decided': 1020, 'joined': 1021, 'plane': 1022, 'does': 1023, 'Khan': 1024, 'facility': 1025, 'interview': 1026, 'Italian': 1027, 'little': 1028, 'field': 1029, 'look': 1030, 'homes': 1031, 'Palestinian': 1032, 'went': 1033, 'projects': 1034, 'education': 1035, 'supply': 1036, 'Martin': 1037, 'captain': 1038, 'reached': 1039, 'passed': 1040, 'raises': 1041, 'concerns': 1042, 'space': 1043, 'bring': 1044, 'Global': 1045, 'me': 1046, 'father': 1047, 'soldier': 1048, 'This': 1049, 'Turkish': 1050, 'storm': 1051, 'nine': 1052, 'love': 1053, 'earnings': 1054, 'gun': 1055, 'conditions': 1056, 'peace': 1057, 'recession': 1058, 'suspected': 1059, 'large': 1060, 'expand': 1061, 'point': 1062, 'moving': 1063, 'each': 1064, 'Army': 1065, 'find': 1066, 'television': 1067, 'connection': 1068, 'basketball': 1069, 'Rep': 1070, 'met': 1071, 'did': 1072, 'suffered': 1073, 'person': 1074, 'know': 1075, 'northern': 1076, 'Security': 1077, 'popular': 1078, 'Ohio': 1079, 'don': 1080, 'Lanka': 1081, 'Beach': 1082, 'range': 1083, 'gay': 1084, 'already': 1085, 'operation': 1086, 'times': 1087, 'Tom': 1088, 'Ryan': 1089, 'failed': 1090, 'striker': 1091, 'Fire': 1092, 'levels': 1093, 'goes': 1094, 'survey': 1095, '31': 1096, 'every': 1097, 'efforts': 1098, 'CEO': 1099, 'aid': 1100, 'Democratic': 1101, 'completed': 1102, 'Supreme': 1103, 'yet': 1104, 'hits': 1105, 'NFL': 1106, 'Steve': 1107, 'problems': 1108, 'involved': 1109, 'banned': 1110, 'Prince': 1111, 'Capital': 1112, 'started': 1113, 'create': 1114, 'Ireland': 1115, '29': 1116, 'thousands': 1117, 'joins': 1118, 'regional': 1119, 'Afghan': 1120, 'futures': 1121, 'forced': 1122, 'releases': 1123, 'drugs': 1124, 'Lee': 1125, 'added': 1126, 'begins': 1127, 'Houston': 1128, 'once': 1129, 'flight': 1130, 'scheduled': 1131, 'funding': 1132, 'de': 1133, 'above': 1134, 'divorce': 1135, 'caused': 1136, 'Iranian': 1137, 'published': 1138, 'exchange': 1139, 'Business': 1140, 'seeking': 1141, 'treatment': 1142, 'front': 1143, 'giving': 1144, 'finally': 1145, 'Sydney': 1146, 'commercial': 1147, 'producer': 1148, 'Dubai': 1149, 'lawsuit': 1150, 'Hospital': 1151, 'cricket': 1152, 'Twitter': 1153, 'abuse': 1154, 'drive': 1155, 'improve': 1156, 'housing': 1157, 'bomb': 1158, 'robbed': 1159, 'ground': 1160, 'Green': 1161, 'attacked': 1162, 'girlfriend': 1163, 'Parliament': 1164, 'period': 1165, 'unveiled': 1166, 'armed': 1167, 'short': 1168, 'award': 1169, 'north': 1170, 'stores': 1171, 'ruled': 1172, 'caught': 1173, 'Saudi': 1174, 'crashed': 1175, 'reach': 1176, 'kill': 1177, 'common': 1178, 'together': 1179, 'incident': 1180, 'Michigan': 1181, 'book': 1182, 'Peter': 1183, 'leaves': 1184, 'partnership': 1185, 'stake': 1186, 'wanted': 1187, 'hotel': 1188, 'celebrate': 1189, 'parts': 1190, 'partner': 1191, 'reduce': 1192, 'Clinton': 1193, 'spokesman': 1194, 'unit': 1195, 'available': 1196, 'birth': 1197, 'EU': 1198, 'Toronto': 1199, 'arrived': 1200, 'Tony': 1201, 'Romney': 1202, 'assets': 1203, 'whether': 1204, 'King': 1205, 'patients': 1206, 'Agency': 1207, 'guard': 1208, 'inflation': 1209, 'Club': 1210, 'Singapore': 1211, 'ordered': 1212, 'platform': 1213, 'Liverpool': 1214, 'suspect': 1215, 'states': 1216, 'Taylor': 1217, 'perform': 1218, 'T': 1219, 'natural': 1220, 'Tour': 1221, 'stabbed': 1222, 'Spanish': 1223, 'damage': 1224, 'rape': 1225, 'Kim': 1226, 'Syrian': 1227, 'investigation': 1228, 'condition': 1229, 'Taliban': 1230, 'Gulf': 1231, 'marriage': 1232, 'Lady': 1233, 'Middle': 1234, 'Island': 1235, 'then': 1236, 'iPhone': 1237, 'total': 1238, 'Black': 1239, 'celebrates': 1240, 'related': 1241, 'stand': 1242, 'miss': 1243, 'proposed': 1244, 'retirement': 1245, 'Italy': 1246, 'hard': 1247, 'Western': 1248, 'corruption': 1249, 'agent': 1250, 'Kansas': 1251, 'process': 1252, '500': 1253, 'Financial': 1254, 'How': 1255, 'track': 1256, 'boss': 1257, 'calling': 1258, 'cutting': 1259, 'turn': 1260, 'tomorrow': 1261, 'users': 1262, 'rising': 1263, 'rest': 1264, 'illegal': 1265, 'Medical': 1266, 'cars': 1267, 'Egypt': 1268, 'access': 1269, 'posted': 1270, 'comes': 1271, 'Fort': 1272, 'expects': 1273, 'dog': 1274, 'urged': 1275, 'Minnesota': 1276, 'NATO': 1277, 'minor': 1278, 'suffering': 1279, 'stolen': 1280, 'below': 1281, 'cases': 1282, 'Reserve': 1283, 'Jan': 1284, 'county': 1285, 'Real': 1286, 'Jennifer': 1287, 'teacher': 1288, 'Sheriff': 1289, 'corporate': 1290, 'NBA': 1291, 'Taiwan': 1292, 'returning': 1293, 'Exchange': 1294, 'Americans': 1295, 'Louis': 1296, 'admits': 1297, 'ship': 1298, 'receive': 1299, 'figures': 1300, 'net': 1301, 'broke': 1302, 'X': 1303, 'came': 1304, 'Home': 1305, 'discuss': 1306, 'orders': 1307, 'main': 1308, 'watch': 1309, 'dollars': 1310, 'rules': 1311, 'Ali': 1312, 'deficit': 1313, 'Scott': 1314, 'Paris': 1315, 'save': 1316, 'earthquake': 1317, 'personal': 1318, 'criminal': 1319, 'Gaza': 1320, 'Chelsea': 1321, 'midfielder': 1322, 'Public': 1323, 'appear': 1324, 'birthday': 1325, 'al': 1326, 'split': 1327, 'ceremony': 1328, 'highest': 1329, 'losing': 1330, 'land': 1331, 'class': 1332, 'Five': 1333, 'helped': 1334, 'digital': 1335, 'seek': 1336, 'card': 1337, 'Brazil': 1338, 'review': 1339, 'began': 1340, 'stealing': 1341, 'others': 1342, 'buying': 1343, 'apartment': 1344, 'Airways': 1345, 'People': 1346, 'previous': 1347, 'Centre': 1348, '60': 1349, 'Star': 1350, 'light': 1351, 'e': 1352, 'Pacific': 1353, 'potential': 1354, 'weak': 1355, 'holiday': 1356, 'pre': 1357, 'fifth': 1358, 'governor': 1359, 'threat': 1360, 'massive': 1361, 'Mayor': 1362, 'banking': 1363, 'band': 1364, 'street': 1365, 'Kevin': 1366, 'concert': 1367, 'girls': 1368, 'voted': 1369, 'operator': 1370, 'model': 1371, 'far': 1372, 'Korean': 1373, 'competition': 1374, 'revenue': 1375, 'felony': 1376, 'moved': 1377, 'barrel': 1378, 'source': 1379, 'Committee': 1380, 'gives': 1381, 'living': 1382, 'dividend': 1383, 'played': 1384, 'extended': 1385, 'manufacturing': 1386, 'base': 1387, 'Games': 1388, 'Malaysia': 1389, 'Justice': 1390, '200': 1391, 'cooperation': 1392, 'adding': 1393, 'Services': 1394, 'direct': 1395, 'offered': 1396, 'quarterly': 1397, 'Highway': 1398, 'Actor': 1399, 'Perry': 1400, 'inside': 1401, 'address': 1402, 'Jersey': 1403, 'Airport': 1404, 'heavy': 1405, 'holding': 1406, 'equity': 1407, 'disease': 1408, 'winner': 1409, 'Awards': 1410, 'Super': 1411, 'Iowa': 1412, 'airport': 1413, 'Morgan': 1414, 'owned': 1415, 'Virginia': 1416, 'marketing': 1417, 'army': 1418, 'acquires': 1419, 'overnight': 1420, 'Arizona': 1421, 'newspaper': 1422, 'Rock': 1423, 'beating': 1424, 'rises': 1425, 'administration': 1426, 'denied': 1427, 'elected': 1428, 'Colorado': 1429, 'Illinois': 1430, 'department': 1431, 'receives': 1432, 'ties': 1433, 'tried': 1434, 'jury': 1435, 'crime': 1436, 'vehicles': 1437, 'Press': 1438, 'think': 1439, 'planned': 1440, 'form': 1441, 'scheme': 1442, 'Diego': 1443, 's': 1444, 'cause': 1445, 'Azerbaijan': 1446, 'effort': 1447, 'indicted': 1448, 'Town': 1449, 'spring': 1450, 'multi': 1451, 'Greece': 1452, 'hospitalized': 1453, 'starts': 1454, 'militants': 1455, 'wide': 1456, 'terms': 1457, 'radio': 1458, 'Northern': 1459, 'Miami': 1460, 'Championship': 1461, 'towards': 1462, 'fatal': 1463, 'council': 1464, 'Las': 1465, 'separate': 1466, 'Sports': 1467, 'Stadium': 1468, 'allow': 1469, 'bond': 1470, 'acquisition': 1471, 'There': 1472, 'compared': 1473, 'Fox': 1474, 'Chairman': 1475, 'looks': 1476, 'draw': 1477, 'strategic': 1478, 'flat': 1479, 'boyfriend': 1480, 'Women': 1481, 'hour': 1482, 'Irish': 1483, 'll': 1484, 'Libya': 1485, 'room': 1486, 'airline': 1487, 'Institute': 1488, 'aircraft': 1489, 'investigate': 1490, 'Nations': 1491, 'product': 1492, 'west': 1493, 'custody': 1494, 'leads': 1495, 'systems': 1496, 'relations': 1497, 'sells': 1498, 'claim': 1499, 'Power': 1500, 'date': 1501, 'defender': 1502, 'sports': 1503, 'primary': 1504, 'gave': 1505, 'charity': 1506, 'boat': 1507, 'Media': 1508, 'committed': 1509, 'civil': 1510, 'hand': 1511, 'Blue': 1512, 'Tiger': 1513, 'operating': 1514, 'talk': 1515, 'doesn': 1516, 'attempt': 1517, 'industrial': 1518, 'quality': 1519, 'lot': 1520, 'college': 1521, 'Mobile': 1522, 'red': 1523, 'Feb': 1524, 'Actress': 1525, 'closing': 1526, 'Royal': 1527, 'magazine': 1528, 'female': 1529, 'Alex': 1530, 'baseball': 1531, 'Finance': 1532, 'fined': 1533, 'engaged': 1534, 'Greek': 1535, 'measures': 1536, 'groups': 1537, 'downtown': 1538, 'currently': 1539, 'income': 1540, 'position': 1541, 'appeal': 1542, 'defeat': 1543, 'Southern': 1544, 'province': 1545, 'resume': 1546, 'protect': 1547, 'programme': 1548, 'Jim': 1549, 'tournament': 1550, 'heard': 1551, 'Kelly': 1552, 'Rangers': 1553, 'veteran': 1554, 'moves': 1555, 'rating': 1556, 'runs': 1557, 'Development': 1558, 'Dallas': 1559, 'Francisco': 1560, 'McCain': 1561, 'rival': 1562, 'fresh': 1563, 'celebrated': 1564, 'exports': 1565, 'Beijing': 1566, 'unemployment': 1567, 'worker': 1568, 'Ford': 1569, 'arrives': 1570, 'Year': 1571, 'decline': 1572, 'Today': 1573, 'introduced': 1574, 'victims': 1575, 'teams': 1576, 'ending': 1577, 'winter': 1578, 'Dec': 1579, 'focus': 1580, 'Vegas': 1581, 'enough': 1582, 'lose': 1583, 'meets': 1584, 'replace': 1585, 'Andrew': 1586, 'MP': 1587, 'Research': 1588, 'estate': 1589, 'dispute': 1590, 'wedding': 1591, 'fighting': 1592, 'Test': 1593, 'critical': 1594, 'worst': 1595, 'saw': 1596, 'Champions': 1597, 'hearing': 1598, 'friend': 1599, 'Kong': 1600, 'different': 1601, 'loans': 1602, 'Hill': 1603, 'camp': 1604, 'holds': 1605, 'rescued': 1606, 'Atlanta': 1607, 'threatened': 1608, 'Senator': 1609, 'situation': 1610, 'controversial': 1611, 'union': 1612, 'knee': 1613, 'M': 1614, 'develop': 1615, 'Hong': 1616, 'Aug': 1617, 'bad': 1618, 'You': 1619, 'blood': 1620, 've': 1621, 'defense': 1622, 'pulled': 1623, 'considering': 1624, 'Woods': 1625, 'present': 1626, 'spot': 1627, 'Vice': 1628, 'reform': 1629, 'Ben': 1630, 'headed': 1631, 'Detroit': 1632, 'Madrid': 1633, 'pregnant': 1634, 'equipment': 1635, 'successful': 1636, 'independent': 1637, 'Richard': 1638, 'course': 1639, 'becoming': 1640, 'Kashmir': 1641, 'solar': 1642, 'response': 1643, 'grand': 1644, 'Force': 1645, 'Oscar': 1646, 'Conference': 1647, 'Matt': 1648, 'completes': 1649, 'D': 1650, 'reporting': 1651, 'effective': 1652, 'developer': 1653, 'shut': 1654, 'Republic': 1655, 'involving': 1656, 'legend': 1657, 'squad': 1658, 'doing': 1659, 'invest': 1660, 'prime': 1661, 'turns': 1662, 'result': 1663, 'bail': 1664, 'Queen': 1665, 'important': 1666, 'foot': 1667, 'eastern': 1668, 'ends': 1669, 'beginning': 1670, 'Tim': 1671, 'forecast': 1672, 'victim': 1673, 'soccer': 1674, 'Church': 1675, 'fashion': 1676, 'worldwide': 1677, 'visits': 1678, 'benefits': 1679, 'founder': 1680, 'park': 1681, 'Lohan': 1682, 'transfer': 1683, 'theft': 1684, 'Sir': 1685, 'Kate': 1686, 'coast': 1687, 'sets': 1688, 'profits': 1689, 'Indonesia': 1690, 'believes': 1691, 'Missouri': 1692, 'currency': 1693, 'Stock': 1694, 'Nov': 1695, 'challenge': 1696, 'additional': 1697, 'broken': 1698, 'Lindsay': 1699, 'block': 1700, 'teachers': 1701, 'brought': 1702, 'retire': 1703, 'owners': 1704, 'awarded': 1705, 'believe': 1706, 'entered': 1707, 'raising': 1708, 'though': 1709, 'B': 1710, 'seeks': 1711, 'fast': 1712, 'grow': 1713, 'why': 1714, 'William': 1715, 'slightly': 1716, 'Kardashian': 1717, 'kills': 1718, 'recovering': 1719, 'launching': 1720, 'Wayne': 1721, 'events': 1722, 'mining': 1723, 'English': 1724, 'rain': 1725, 'division': 1726, 'finance': 1727, 'value': 1728, 'carrier': 1729, 'draft': 1730, 'needed': 1731, 'Show': 1732, 'mixed': 1733, 'seriously': 1734, 'weapons': 1735, 'committee': 1736, 'bringing': 1737, 'package': 1738, 'Director': 1739, 'Football': 1740, 'causing': 1741, 'Mr': 1742, 'Attorney': 1743, 'conduct': 1744, 'Andy': 1745, 'remained': 1746, 'cleared': 1747, 'Samsung': 1748, 'Academy': 1749, 'placed': 1750, 'Indiana': 1751, 'east': 1752, 'Arab': 1753, 'Punjab': 1754, 'chain': 1755, 'records': 1756, 'brain': 1757, 'Seattle': 1758, 'Wisconsin': 1759, 'Charlie': 1760, 'retailer': 1761, 'Harry': 1762, 'Local': 1763, 'tests': 1764, 'protests': 1765, 'festival': 1766, 'Education': 1767, 'flood': 1768, 'Brian': 1769, 'Bollywood': 1770, 'western': 1771, 'Simon': 1772, 'parliament': 1773, 'green': 1774, 'increasing': 1775, 'helping': 1776, 'became': 1777, 'Swiss': 1778, 'spend': 1779, 'Festival': 1780, 'debate': 1781, 'avoid': 1782, 'Ukraine': 1783, 'Fund': 1784, 'degree': 1785, 'feels': 1786, 'capacity': 1787, 'row': 1788, 'various': 1789, 'solution': 1790, 'struggling': 1791, 'R': 1792, 'Web': 1793, 'crashes': 1794, 'protesters': 1795, 'huge': 1796, 'account': 1797, 'mark': 1798, 'ministry': 1799, 'daily': 1800, 'village': 1801, 'scored': 1802, 'trip': 1803, 'stars': 1804, 'secretary': 1805, '2007': 1806, 'expansion': 1807, 'strategy': 1808, 'expecting': 1809, 'multiple': 1810, 'Food': 1811, 'defence': 1812, 'relationship': 1813, 'quit': 1814, 'parties': 1815, 'black': 1816, 'poor': 1817, 'Charles': 1818, 'crore': 1819, 'showing': 1820, 'appoints': 1821, 'Oct': 1822, 'families': 1823, 'increases': 1824, 'signing': 1825, 'II': 1826, 'leg': 1827, 'effect': 1828, 'add': 1829, 'Music': 1830, 'Bieber': 1831, 'parents': 1832, 'rescue': 1833, 'problem': 1834, 'crude': 1835, '70': 1836, 'rebels': 1837, 'vice': 1838, 'send': 1839, 'Bob': 1840, 'fears': 1841, 'gone': 1842, 'restaurant': 1843, 'swine': 1844, 'Best': 1845, 'chance': 1846, 'application': 1847, 'Milan': 1848, 'Young': 1849, 'terrorism': 1850, 'passes': 1851, 'complete': 1852, 'allegations': 1853, 'benefit': 1854, 'contest': 1855, 'drivers': 1856, 'quarterback': 1857, 'La': 1858, 'strikes': 1859, 'distribution': 1860, 'shop': 1861, 'hundreds': 1862, 'Post': 1863, 'Cleveland': 1864, 'doctors': 1865, 'via': 1866, 'Series': 1867, 'rock': 1868, 'version': 1869, 'headquarters': 1870, 'cell': 1871, 'lawmakers': 1872, 'Philadelphia': 1873, 'landing': 1874, 'aimed': 1875, 'bills': 1876, 'didn': 1877, 'employee': 1878, 'terror': 1879, 'sexually': 1880, 'safe': 1881, 'citing': 1882, 'Toyota': 1883, 'voters': 1884, 'recall': 1885, 'attempted': 1886, 'Barcelona': 1887, 'regular': 1888, 'Rick': 1889, 'attend': 1890, 'average': 1891, 'deputy': 1892, 'story': 1893, 'unveils': 1894, 'extend': 1895, 'activity': 1896, 'act': 1897, 'Gordon': 1898, 'manufacturer': 1899, 'steps': 1900, 'minutes': 1901, 'file': 1902, 'Moscow': 1903, 'index': 1904, 'coal': 1905, 'BBC': 1906, 'prevent': 1907, 'marijuana': 1908, 'friends': 1909, 'breaks': 1910, 'Affairs': 1911, 'Allen': 1912, 'Bangladesh': 1913, 'seized': 1914, 'married': 1915, 'always': 1916, 'tribute': 1917, 'Jason': 1918, 'cities': 1919, 'activities': 1920, 'venture': 1921, 'USA': 1922, 'Technologies': 1923, 'Motors': 1924, 'Assembly': 1925, 'farmers': 1926, 'plants': 1927, 'Community': 1928, 'Mitt': 1929, 'elderly': 1930, 'able': 1931, 'Arsenal': 1932, 'die': 1933, 'teen': 1934, 'Jack': 1935, 'Guard': 1936, 'disaster': 1937, 'Award': 1938, 'discovered': 1939, 'Sox': 1940, 'Gary': 1941, 'impact': 1942, 'sanctions': 1943, 'AP': 1944, 'delivery': 1945, 'climate': 1946, 'Olympics': 1947, 'Sarah': 1948, 'Systems': 1949, 'clear': 1950, 'ongoing': 1951, 'reveals': 1952, 'lives': 1953, 'promote': 1954, 'decade': 1955, 'Kentucky': 1956, 'closes': 1957, 'Family': 1958, 'Kennedy': 1959, 'Anthony': 1960, 'enter': 1961, 'Six': 1962, 'Life': 1963, 'goal': 1964, 'Gaga': 1965, 'Thomas': 1966, 'But': 1967, 'Santa': 1968, 'Network': 1969, 'Management': 1970, 'Sony': 1971, 'Authorities': 1972, 'created': 1973, 'N': 1974, 'song': 1975, 'offices': 1976, 'consumers': 1977, 'setting': 1978, 'ambassador': 1979, 'wind': 1980, 'Cameron': 1981, 'Islamic': 1982, 'films': 1983, 'detained': 1984, 'brother': 1985, 'Stewart': 1986, 'fan': 1987, 'crimes': 1988, 'battery': 1989, 'analysts': 1990, 'toward': 1991, 'Scotland': 1992, 'denies': 1993, 'offensive': 1994, 'threatening': 1995, 'Jessica': 1996, 'patent': 1997, 'Township': 1998, 'identified': 1999, 'Hamilton': 2000, 'joining': 2001, 'millions': 2002, 'computer': 2003, 'carrying': 2004, 'approves': 2005, '35': 2006, 'customer': 2007, 'Muslim': 2008, 'visited': 2009, 'posts': 2010, 'destroyed': 2011, 'disabled': 2012, 'Navy': 2013, 'lawyer': 2014, 'expectations': 2015, 'seat': 2016, 'schedule': 2017, 'internet': 2018, 'cast': 2019, 'consider': 2020, 'vs': 2021, 'warns': 2022, 'researchers': 2023, 'Brazilian': 2024, 'things': 2025, 'Victoria': 2026, 'expands': 2027, 'poll': 2028, 'really': 2029, 'outlook': 2030, 'fires': 2031, 'Technology': 2032, 'Oklahoma': 2033, 'decades': 2034, 'loses': 2035, 'developing': 2036, 'developed': 2037, 'Major': 2038, 'Hurricane': 2039, 'pick': 2040, 'Qatar': 2041, 'auction': 2042, 'awards': 2043, 'gain': 2044, 'try': 2045, 'view': 2046, 'receiver': 2047, 'progress': 2048, 'cents': 2049, 'Stocks': 2050, 'mission': 2051, 'advanced': 2052, 'tackle': 2053, 'Dutch': 2054, 'Idol': 2055, 'snow': 2056, 'church': 2057, 'Eastern': 2058, 'content': 2059, 'motorcycle': 2060, 'sharply': 2061, 'Stephen': 2062, 'declares': 2063, 'Daily': 2064, 'Jr': 2065, 'Davis': 2066, 'linked': 2067, 'deadly': 2068, 'applications': 2069, 'speed': 2070, 'assaulting': 2071, 'design': 2072, 'championship': 2073, 'generation': 2074, 'defensive': 2075, 'Zimbabwe': 2076, 'auto': 2077, 'citizens': 2078, 'serve': 2079, 'Melbourne': 2080, 'breaking': 2081, 'Avenue': 2082, 'Jose': 2083, 'youth': 2084, '80': 2085, 'possession': 2086, 'DC': 2087, 'Great': 2088, 'Judge': 2089, 'Deputy': 2090, 'politics': 2091, 'selected': 2092, 'stimulus': 2093, 'concern': 2094, 'farm': 2095, 'comments': 2096, 'closer': 2097, 'consecutive': 2098, 'Tennessee': 2099, '1000': 2100, 'failure': 2101, 'allowed': 2102, 'experts': 2103, 'mid': 2104, 'Alabama': 2105, 'organization': 2106, 'relief': 2107, 'beaten': 2108, 'thought': 2109, 'Orleans': 2110, 'zone': 2111, 'tree': 2112, 'Egyptian': 2113, 'settlement': 2114, 'hands': 2115, 'island': 2116, 'stabbing': 2117, 'claiming': 2118, 'speech': 2119, '300': 2120, 'sending': 2121, 'Will': 2122, 'FC': 2123, 'complex': 2124, '90': 2125, 'purchase': 2126, 'failing': 2127, 'ensure': 2128, 'happy': 2129, 'spent': 2130, 'leadership': 2131, 'Cole': 2132, 'reality': 2133, 'steel': 2134, 'Pradesh': 2135, 'designed': 2136, 'firms': 2137, 'Brad': 2138, 'Yahoo': 2139, 'significant': 2140, 'Act': 2141, 'scandal': 2142, 'BJP': 2143, 'Christian': 2144, 'Russell': 2145, 'Patrick': 2146, 'investor': 2147, 'providing': 2148, 'subsidiary': 2149, 'Daniel': 2150, 'severe': 2151, 'Bowl': 2152, 'friendly': 2153, 'sentence': 2154, 'professional': 2155, 'Wales': 2156, 'Palin': 2157, 'Time': 2158, 'Mexican': 2159, 'recovered': 2160, 'War': 2161, 'Fame': 2162, 'throughout': 2163, 'previously': 2164, 'adds': 2165, 'beats': 2166, 'Authority': 2167, 'activists': 2168, 'pounds': 2169, 'continuing': 2170, 'Jordan': 2171, 'serving': 2172, 'cover': 2173, 'duty': 2174, 'hosting': 2175, 'Vietnam': 2176, 'fees': 2177, 'export': 2178, 'justice': 2179, 'changed': 2180, 'wake': 2181, 'appears': 2182, 'honored': 2183, 'bonds': 2184, 'longer': 2185, 'satellite': 2186, 'campus': 2187, 'Live': 2188, 'finds': 2189, 'hired': 2190, 'success': 2191, 'Factor': 2192, 'counts': 2193, 'confirms': 2194, 'speak': 2195, 'homicide': 2196, 'resigned': 2197, 'refused': 2198, 'Amy': 2199, 'democracy': 2200, 'My': 2201, 'Adam': 2202, 'license': 2203, 'burglary': 2204, 'heading': 2205, 'El': 2206, 'Nokia': 2207, 'supplies': 2208, 'Tata': 2209, 'Elizabeth': 2210, 'Defense': 2211, 'Journal': 2212, 'apparently': 2213, 'Arabia': 2214, 'tough': 2215, 'done': 2216, 'Cuba': 2217, 'Port': 2218, 'shopping': 2219, 'evidence': 2220, 'granted': 2221, 'laid': 2222, 'Phoenix': 2223, 'appearance': 2224, 'doctor': 2225, 'summit': 2226, 'agree': 2227, 'candidates': 2228, 'channel': 2229, 'When': 2230, 'Sept': 2231, 'terrorist': 2232, 'rare': 2233, 'historic': 2234, 'NEW': 2235, 'hosts': 2236, 'Memorial': 2237, 'clash': 2238, 'hope': 2239, 'Hillary': 2240, 'Nigeria': 2241, 'Kyrgyzstan': 2242, 'undergo': 2243, 'aged': 2244, 'Consumer': 2245, 'shareholders': 2246, 'P': 2247, 'pop': 2248, 'Venezuela': 2249, 'web': 2250, 'mayor': 2251, 'communications': 2252, 'Holdings': 2253, 'cloud': 2254, 'hot': 2255, 'expanding': 2256, 'Men': 2257, 'Democrats': 2258, 'update': 2259, 'firefighters': 2260, 'threats': 2261, 'diagnosed': 2262, 'Android': 2263, 'Frank': 2264, 'activist': 2265, 'pitcher': 2266, 'extension': 2267, 'ratings': 2268, 'Campbell': 2269, 'deliver': 2270, 'ice': 2271, 'feel': 2272, 'experience': 2273, 'Motor': 2274, '2014': 2275, 'Lewis': 2276, 'Tamil': 2277, 'Tokyo': 2278, 'dealers': 2279, 'UAE': 2280, 'Communications': 2281, 'Executive': 2282, 'Fargo': 2283, 'Hills': 2284, 'passenger': 2285, 'dating': 2286, 'Defence': 2287, 'CBS': 2288, 'Michelle': 2289, 'Nick': 2290, 'introduces': 2291, 'box': 2292, 'wounded': 2293, 'ministers': 2294, 'Beckham': 2295, 'Giants': 2296, 'd': 2297, 'successfully': 2298, 'E': 2299, 'announcement': 2300, 'ruling': 2301, 'Foundation': 2302, 'immigration': 2303, 'expanded': 2304, 'hire': 2305, 'advertising': 2306, 'let': 2307, 'treated': 2308, 'bought': 2309, 'Indians': 2310, 'Denver': 2311, 'fully': 2312, 'rule': 2313, 'assistant': 2314, 'metal': 2315, 'Sea': 2316, 'pilot': 2317, 'rejected': 2318, 'Stars': 2319, 'Falls': 2320, 'urges': 2321, 'infrastructure': 2322, 'app': 2323, 'taxes': 2324, 'polls': 2325, 'visiting': 2326, 'devices': 2327, 'Officer': 2328, 'pro': 2329, 'J': 2330, 'wrong': 2331, 'voting': 2332, 'Nelson': 2333, 'Commerce': 2334, 'extends': 2335, 'facilities': 2336, 'Top': 2337, 'parking': 2338, 'kept': 2339, 'Philippines': 2340, 'approval': 2341, 'tourism': 2342, 'tennis': 2343, 'crew': 2344, 'device': 2345, 'lowest': 2346, 'boys': 2347, 'shoot': 2348, 'overseas': 2349, 'animal': 2350, 'Economic': 2351, 'works': 2352, 'streets': 2353, 'iPad': 2354, 'stated': 2355, 'Some': 2356, 'passengers': 2357, '75': 2358, 'violent': 2359, 'believed': 2360, 'Ghana': 2361, 'Moore': 2362, 'golf': 2363, 'Sudan': 2364, 'alcohol': 2365, 'appeared': 2366, 'fair': 2367, 'Long': 2368, 'Trade': 2369, 'Murray': 2370, 'stronger': 2371, 'built': 2372, 'laws': 2373, 'Cricket': 2374, 'Market': 2375, '45': 2376, 'Cape': 2377, 'Rihanna': 2378, 'Resources': 2379, 'white': 2380, 'targets': 2381, 'cross': 2382, 'message': 2383, 'Iraqi': 2384, 'negative': 2385, 'pace': 2386, 'Abu': 2387, 'plea': 2388, 'fellow': 2389, 'sea': 2390, 'options': 2391, 'born': 2392, 'Country': 2393, 'advisory': 2394, 'Oregon': 2395, 'Massachusetts': 2396, 'Game': 2397, 'agencies': 2398, 'collision': 2399, 'Jay': 2400, 'C': 2401, 'Reuters': 2402, 'Singer': 2403, 'helicopter': 2404, 'territory': 2405, 'stroke': 2406, 'Anna': 2407, 'electricity': 2408, 'ring': 2409, 'Catholic': 2410, 'kids': 2411, 'panel': 2412, 'proposal': 2413, 'scientists': 2414, 'If': 2415, 'Libyan': 2416, 'majority': 2417, 'cocaine': 2418, 'Prix': 2419, 'status': 2420, 'amount': 2421, 'broadband': 2422, 'grant': 2423, 'engine': 2424, 'bridge': 2425, 'sites': 2426, 'Eric': 2427, 'push': 2428, 'feature': 2429, 'existing': 2430, 'produce': 2431, 'sixth': 2432, 'resign': 2433, 'screen': 2434, 'middle': 2435, 'Milwaukee': 2436, 'Utah': 2437, 'Children': 2438, 'surprise': 2439, 'Sensex': 2440, 'Sun': 2441, 'lending': 2442, 'yen': 2443, 'Human': 2444, 'question': 2445, 'reaches': 2446, 'formally': 2447, 'Windows': 2448, 'Now': 2449, 'Nifty': 2450, 'supports': 2451, 'cabinet': 2452, 'overall': 2453, 'Cross': 2454, 'check': 2455, 'numbers': 2456, 'shoulder': 2457, 'receiving': 2458, 'rupee': 2459, 'Metro': 2460, 'Gandhi': 2461, 'chase': 2462, 'Entertainment': 2463, 'note': 2464, 'comedy': 2465, 'suspicion': 2466, 'Scottish': 2467, 'drops': 2468, 'weekly': 2469, 'attorney': 2470, 'include': 2471, 'supporters': 2472, 'causes': 2473, 'carbon': 2474, 'Atlantic': 2475, 'studio': 2476, 'Wilson': 2477, 'goods': 2478, 'Senior': 2479, 'mine': 2480, 'Euro': 2481, 'lack': 2482, 'questions': 2483, 'strengthen': 2484, 'pass': 2485, 'Pittsburgh': 2486, 'speculation': 2487, 'Bulgaria': 2488, 'units': 2489, 'newly': 2490, 'keeping': 2491, 'clean': 2492, 'embassy': 2493, 'hurt': 2494, 'improved': 2495, 'weight': 2496, 'Miller': 2497, 'Students': 2498, 'toll': 2499, 'environmental': 2500, 'challenges': 2501, 'Spears': 2502, 'ABC': 2503, 'deals': 2504, 'herself': 2505, 'fine': 2506, 'Yemen': 2507, 'assaulted': 2508, 'buys': 2509, 'payment': 2510, 'contracts': 2511, 'Pattinson': 2512, 'phones': 2513, 'Insurance': 2514, 'itself': 2515, 'Jon': 2516, 'Forest': 2517, 'Online': 2518, 'details': 2519, 'located': 2520, 'Treasury': 2521, 'kicked': 2522, 'storage': 2523, 'parliamentary': 2524, 'testing': 2525, 'art': 2526, 'Yankees': 2527, 'Limited': 2528, 'Simpson': 2529, 'mail': 2530, 'Social': 2531, '400': 2532, 'explosion': 2533, 'stations': 2534, 'legislation': 2535, 'shown': 2536, 'hitting': 2537, 'delegation': 2538, 'sees': 2539, 'plays': 2540, 'Law': 2541, 'backed': 2542, 'lines': 2543, 'environment': 2544, 'votes': 2545, 'Film': 2546, 'portfolio': 2547, 'letter': 2548, 'dangerous': 2549, '150': 2550, 'Jerry': 2551, 'Stanley': 2552, 'programs': 2553, 'residential': 2554, 'rather': 2555, 'spread': 2556, 'Ontario': 2557, 'roads': 2558, 'Newcastle': 2559, 'recover': 2560, 'missile': 2561, 'Harris': 2562, 'heat': 2563, 'initial': 2564, 'policies': 2565, 'bar': 2566, 'rehab': 2567, 'Baltimore': 2568, 'agents': 2569, 'Madison': 2570, 'Division': 2571, 'Commissioner': 2572, 'handed': 2573, 'provides': 2574, 'Another': 2575, 'Tampa': 2576, 'hoping': 2577, 'agrees': 2578, 'exercise': 2579, 'Labor': 2580, 'sought': 2581, 'religious': 2582, 'Austin': 2583, 'invited': 2584, 'enters': 2585, 'apparent': 2586, 'Roger': 2587, 'lifted': 2588, 'cards': 2589, 'begun': 2590, 'recalled': 2591, 'alive': 2592, 'rivals': 2593, 'Lebanon': 2594, 'rural': 2595, 'Orange': 2596, 'Boy': 2597, 'Palm': 2598, 'Britney': 2599, 'Sam': 2600, 'Hamas': 2601, 'extra': 2602, 'partners': 2603, 'teenager': 2604, '32': 2605, 'Industries': 2606, 'Thailand': 2607, 'Car': 2608, 'affected': 2609, 'Golden': 2610, 'nationwide': 2611, 'tells': 2612, 'immediate': 2613, 'ranked': 2614, 'wireless': 2615, 'sued': 2616, 'creating': 2617, 'tourists': 2618, 'option': 2619, 'becomes': 2620, 'photo': 2621, 'stable': 2622, 'comeback': 2623, 'author': 2624, 'arms': 2625, 'window': 2626, 'thanks': 2627, 'Weather': 2628, 'fact': 2629, 'traded': 2630, 'diplomatic': 2631, 'nomination': 2632, 'Howard': 2633, 'penalty': 2634, 'BP': 2635, 'patient': 2636, 'powerful': 2637, 'Pope': 2638, 'collection': 2639, 'removed': 2640, 'Square': 2641, 'cancelled': 2642, 'vowed': 2643, 'Chapter': 2644, 'Vancouver': 2645, 'repair': 2646, 'drama': 2647, 'putting': 2648, 'Zardari': 2649, 'missed': 2650, 'delayed': 2651, 'Miss': 2652, 'Regional': 2653, 'Somali': 2654, 'certain': 2655, 'coalition': 2656, 'bailout': 2657, 'resigns': 2658, 'strength': 2659, 'assistance': 2660, 'famous': 2661, 'matches': 2662, 'Special': 2663, 'Girl': 2664, 'floor': 2665, 'artist': 2666, 'stopped': 2667, 'Carlos': 2668, 'Argentina': 2669, 'offender': 2670, 'Jeff': 2671, 'feet': 2672, 'bin': 2673, 'nominated': 2674, 'style': 2675, 'reduced': 2676, 'Broadway': 2677, 'semi': 2678, 'Writer': 2679, 'Who': 2680, 'Arts': 2681, 'Cheryl': 2682, 'franchise': 2683, 'medal': 2684, 'Celebrity': 2685, 'Labour': 2686, 'illness': 2687, 'twice': 2688, 'presented': 2689, 'suffers': 2690, 'lift': 2691, 'USD': 2692, 'Radio': 2693, 'NCAA': 2694, 'Pennsylvania': 2695, 'traders': 2696, 'highly': 2697, 'ticket': 2698, 'filing': 2699, 'deaths': 2700, 'entire': 2701, 'Myanmar': 2702, 'welcomed': 2703, 'asking': 2704, 'finish': 2705, 'themselves': 2706, 'directors': 2707, 'Team': 2708, 'Birmingham': 2709, 'exclusive': 2710, 'Index': 2711, 'tickets': 2712, 'Formula': 2713, 'Warren': 2714, 'Buffalo': 2715, 'Jimmy': 2716, 'Why': 2717, 'miles': 2718, 'secret': 2719, 'Society': 2720, 'Kumar': 2721, 'Serbia': 2722, 'advance': 2723, 'Bridge': 2724, 'electric': 2725, 'restructuring': 2726, 'felt': 2727, 'NY': 2728, 'W': 2729, 'manslaughter': 2730, 'prisoners': 2731, 'Mary': 2732, 'evacuated': 2733, 'collapsed': 2734, 'Steel': 2735, 'branch': 2736, 'celebrating': 2737, 'output': 2738, '/': 2739, 'Madonna': 2740, 'Columbia': 2741, 'Sheen': 2742, 'pain': 2743, 'Edward': 2744, 'networking': 2745, 'communities': 2746, 'Information': 2747, 'Channel': 2748, 'trend': 2749, 'Despite': 2750, 'NBC': 2751, 'university': 2752, 'Gas': 2753, 'dogs': 2754, 'Veteran': 2755, 'electronic': 2756, 'Most': 2757, 'Dakota': 2758, 'preparing': 2759, 'scene': 2760, 'Rio': 2761, 'Katie': 2762, 'Springs': 2763, 'Azerbaijani': 2764, 'Partners': 2765, 'Shanghai': 2766, 'Bureau': 2767, 'resident': 2768, 'sworn': 2769, 'presence': 2770, 'goals': 2771, 'voice': 2772, 'society': 2773, 'Malaysian': 2774, 'betting': 2775, 'secure': 2776, 'asks': 2777, 'pirates': 2778, 'regarding': 2779, 'musical': 2780, 'factory': 2781, 'Sabha': 2782, 'Orlando': 2783, 'demands': 2784, 'celebrity': 2785, '10000': 2786, 'honor': 2787, 'Qaeda': 2788, 'Oakland': 2789, 'spotted': 2790, 'Express': 2791, 'Demi': 2792, 'Hundreds': 2793, 'recalls': 2794, 'emerging': 2795, 'bodies': 2796, 'resources': 2797, 'buildings': 2798, 'super': 2799, 'probe': 2800, 'Anderson': 2801, 'paper': 2802, 'slow': 2803, 'financing': 2804, 'Mississippi': 2805, 'approximately': 2806, 'eye': 2807, 'Penn': 2808, 'combat': 2809, 'jumped': 2810, 'Edwards': 2811, 'Disney': 2812, 'Chavez': 2813, 'Securities': 2814, 'breast': 2815, 'welcome': 2816, 'Czech': 2817, 'helps': 2818, 'Wells': 2819, 'Republicans': 2820, 'Biden': 2821, 'journalist': 2822, 'contact': 2823, 'renewed': 2824, 'Columbus': 2825, 'Hudson': 2826, 'Pro': 2827, 'pull': 2828, 'basis': 2829, 'Palestinians': 2830, 'Henry': 2831, 'NSW': 2832, 'Kazakhstan': 2833, 'Mac': 2834, 'drinking': 2835, 'learned': 2836, 'postponed': 2837, 'champions': 2838, 'Alaska': 2839, 'gang': 2840, 'transport': 2841, 'designer': 2842, 'Andre': 2843, 'winds': 2844, 'journalists': 2845, 'Katy': 2846, 'entertainment': 2847, 'Old': 2848, 'listed': 2849, 'conducted': 2850, 'regime': 2851, 'healthy': 2852, 'informed': 2853, 'virus': 2854, 'Foods': 2855, 'prosecutors': 2856, 'confident': 2857, 'Tigers': 2858, 'carry': 2859, 'places': 2860, 'Winehouse': 2861, 'Sean': 2862, 'opportunities': 2863, 'Ray': 2864, 'reporters': 2865, 'participate': 2866, 'premier': 2867, 'Switzerland': 2868, 'healthcare': 2869, 'Kings': 2870, 'Tech': 2871, 'coverage': 2872, 'incidents': 2873, 'Dollar': 2874, 'Mountain': 2875, 'considered': 2876, 'Ron': 2877, 'fatally': 2878, 'instead': 2879, 'complaint': 2880, 'conflict': 2881, 'probation': 2882, 'insists': 2883, 'ad': 2884, 'preliminary': 2885, 'Water': 2886, 'acting': 2887, 'Administration': 2888, 'Theatre': 2889, 'tested': 2890, 'hosted': 2891, 'Leader': 2892, 'Love': 2893, 'Industry': 2894, 'pension': 2895, 'Seven': 2896, 'tonnes': 2897, 'writer': 2898, 'sentiment': 2899, 'worked': 2900, 'walk': 2901, 'fear': 2902, 'dialogue': 2903, 'Galaxy': 2904, 'technical': 2905, 'While': 2906, 'dedicated': 2907, 'especially': 2908, 'monthly': 2909, 'canceled': 2910, 'normal': 2911, 'mass': 2912, 'NHL': 2913, 'self': 2914, 'population': 2915, 'opener': 2916, 'searching': 2917, 'residence': 2918, '600': 2919, 'weaker': 2920, 'settle': 2921, 'Credit': 2922, 'false': 2923, 'notice': 2924, 'seems': 2925, 'enforcement': 2926, 'limited': 2927, 'BC': 2928, 'Thousands': 2929, 'Cabinet': 2930, 'ways': 2931, 'Franklin': 2932, 'negotiations': 2933, 'Goldman': 2934, 'documents': 2935, 'Trust': 2936, 'defend': 2937, 'Associated': 2938, 'expect': 2939, 'elect': 2940, 'steady': 2941, 'Baseball': 2942, 'Swedish': 2943, 'welcomes': 2944, 'pool': 2945, 'Bahrain': 2946, 'stole': 2947, 'notes': 2948, 'hockey': 2949, 'matter': 2950, 'assembly': 2951, 'declined': 2952, 'Classic': 2953, 'bilateral': 2954, 'van': 2955, 'pair': 2956, 'Angelina': 2957, 'Bristol': 2958, 'Dhabi': 2959, 'turning': 2960, 'invasion': 2961, 'raid': 2962, 'positions': 2963, 'Just': 2964, 'scam': 2965, 'fishing': 2966, 'Queensland': 2967, 'Louisiana': 2968, 'movement': 2969, 'recorded': 2970, 'promotion': 2971, 'ankle': 2972, 'GOP': 2973, 'Drug': 2974, 'Jolie': 2975, 'Alan': 2976, 'payments': 2977, '2000': 2978, 'ill': 2979, 'Connecticut': 2980, 'pornography': 2981, 'arm': 2982, 'Lions': 2983, 'Software': 2984, 'Boeing': 2985, 'fake': 2986, 'Sweden': 2987, 'paying': 2988, 'Portland': 2989, 'Haiti': 2990, 'Field': 2991, 'businessman': 2992, 'Antonio': 2993, 'Bulgarian': 2994, 'homeless': 2995, 'heads': 2996, 'suspends': 2997, 'identity': 2998, 'kidnapped': 2999, 'busy': 3000, 'performing': 3001, 'noon': 3002, 'decide': 3003, 'tell': 3004, 'alert': 3005, 'immediately': 3006, 'river': 3007, 'crews': 3008, 'Stone': 3009, 'persons': 3010, 'Chrysler': 3011, 'active': 3012, 'Armenia': 3013, 'Free': 3014, 'deadline': 3015, 'ease': 3016, 'Hockey': 3017, 'Phil': 3018, 'tied': 3019, 'expert': 3020, 'merger': 3021, 'SA': 3022, 'retired': 3023, 'Ocean': 3024, 'rushed': 3025, 'Lankan': 3026, 'Space': 3027, '*': 3028, 'finished': 3029, 'science': 3030, 'initiative': 3031, 'Standard': 3032, '65': 3033, 'Marine': 3034, 'includes': 3035, 'Manmohan': 3036, 'investments': 3037, 'outstanding': 3038, 'Winter': 3039, 'Scientists': 3040, 'true': 3041, 'movies': 3042, 'fit': 3043, 'Alexander': 3044, 'delays': 3045, 'doors': 3046, 'teenage': 3047, 'fastest': 3048, 'exhibition': 3049, 'escaped': 3050, 'Maryland': 3051, 'bit': 3052, 'Patrol': 3053, 'Indonesian': 3054, 'Ambassador': 3055, 'onto': 3056, 'suspects': 3057, 'Area': 3058, 'troubled': 3059, '33': 3060, 'Little': 3061, 'YouTube': 3062, 'defends': 3063, 'Interior': 3064, 'announcing': 3065, '10th': 3066, 'request': 3067, 'producers': 3068, 'Cowell': 3069, 'analyst': 3070, 'expressed': 3071, 'blast': 3072, 'assigned': 3073, 'import': 3074, 'suggests': 3075, 'Officials': 3076, 'responsible': 3077, 'Alliance': 3078, '―': 3079, 'although': 3080, 'Pitt': 3081, 'delay': 3082, 'cold': 3083, 'Nicole': 3084, 'clients': 3085, 'Sachs': 3086, 'language': 3087, 'ask': 3088, 'rail': 3089, 'Billy': 3090, 'battling': 3091, 'supplier': 3092, 'Van': 3093, 'suspension': 3094, 'resolution': 3095, 'wait': 3096, 'pays': 3097, 'utility': 3098, 'jet': 3099, 'figure': 3100, 'freedom': 3101, 'threatens': 3102, 'Democrat': 3103, 'suspicious': 3104, 'Housing': 3105, 'Telecom': 3106, 'lay': 3107, 'Warner': 3108, 'Amazon': 3109, 'Armenian': 3110, 'chemical': 3111, 'Kristen': 3112, 'waters': 3113, 'estimates': 3114, 'brings': 3115, 'rugby': 3116, 'targeting': 3117, 'AG': 3118, 'fee': 3119, 'personnel': 3120, 'arrive': 3121, 'specialist': 3122, 'drunk': 3123, 'hall': 3124, 'often': 3125, 'LLC': 3126, 'revenues': 3127, 'Steven': 3128, 'features': 3129, 'Jewish': 3130, 'managed': 3131, 'processing': 3132, 'greater': 3133, 'kicks': 3134, 'provided': 3135, 'display': 3136, 'Kolkata': 3137, 'Rugby': 3138, 'maintain': 3139, 'Ukrainian': 3140, 'Craig': 3141, 'awareness': 3142, 'commander': 3143, 'Kenya': 3144, 'gunpoint': 3145, 'Bruce': 3146, 'items': 3147, 'century': 3148, 'native': 3149, 'tight': 3150, 'Josh': 3151, 'Caribbean': 3152, 'Statistics': 3153, 'CNN': 3154, '41': 3155, 'edition': 3156, 'smartphone': 3157, 'sends': 3158, 'marry': 3159, 'male': 3160, 'ride': 3161, 'touch': 3162, 'means': 3163, 'remaining': 3164, 'alliance': 3165, 'finals': 3166, 'offshore': 3167, 'Heavy': 3168, 'Tottenham': 3169, 'Dan': 3170, 'Barclays': 3171, 'engineering': 3172, 'cancels': 3173, 'IBM': 3174, 'sharp': 3175, 'drowned': 3176, 'standards': 3177, 'Head': 3178, 'damaged': 3179, 'Honda': 3180, 'rocket': 3181, 'Week': 3182, 'Terry': 3183, 'produced': 3184, 'temporary': 3185, 'Over': 3186, 'Don': 3187, 'YORK': 3188, 'flooding': 3189, 'arrests': 3190, 'Nicolas': 3191, 'Cardinals': 3192, 'defended': 3193, 'Carter': 3194, 'commitment': 3195, 'waste': 3196, 'restore': 3197, 'Belarus': 3198, 'Price': 3199, 'scale': 3200, 'benchmark': 3201, 'killer': 3202, 'suggested': 3203, 'Good': 3204, 'LA': 3205, 'Colombia': 3206, 'dance': 3207, 'learn': 3208, 'bear': 3209, 'Eagles': 3210, 'similar': 3211, 'gained': 3212, 'Arkansas': 3213, 'Body': 3214, 'featuring': 3215, 'institutions': 3216, 'trust': 3217, 'improving': 3218, 'route': 3219, 'flying': 3220, 'UFC': 3221, 'tender': 3222, 'feeling': 3223, 'aims': 3224, 'escape': 3225, 'enterprise': 3226, 'Clark': 3227, 'Buy': 3228, 'Nepal': 3229, '37': 3230, 'Hotel': 3231, 'burning': 3232, 'Armstrong': 3233, 'drink': 3234, 'follow': 3235, 'sheriff': 3236, 'tons': 3237, 'blow': 3238, 'Ferguson': 3239, 'Cooper': 3240, 'criticism': 3241, 'Philippine': 3242, 'waiting': 3243, 'remove': 3244, 'hike': 3245, 'targeted': 3246, 'undisclosed': 3247, 'horse': 3248, 'seasons': 3249, 'Gujarat': 3250, '42': 3251, 'allowing': 3252, 'march': 3253, 'Investment': 3254, 'Small': 3255, 'Neil': 3256, 'Cuban': 3257, 'Villa': 3258, '250': 3259, 'violations': 3260, 'smoking': 3261, 'sport': 3262, 'Cyrus': 3263, 'Masters': 3264, 'fishermen': 3265, 'focused': 3266, 'Cincinnati': 3267, 'Charlotte': 3268, 'engagement': 3269, 'shortage': 3270, 'compensation': 3271, 'reforms': 3272, 'cargo': 3273, 'introduce': 3274, 'counties': 3275, 'accept': 3276, 'ten': 3277, 'districts': 3278, 'terrorists': 3279, 'registered': 3280, 'Drive': 3281, 'trafficking': 3282, 'bars': 3283, 'fixed': 3284, 'Construction': 3285, 'murdering': 3286, 'ran': 3287, 'superstar': 3288, 'trillion': 3289, 'securities': 3290, 'slowdown': 3291, 'accounts': 3292, 'reaching': 3293, 'location': 3294, 'Shah': 3295, 'NASA': 3296, 'Networks': 3297, 'pipeline': 3298, '34': 3299, 'delivered': 3300, 'raped': 3301, 'Night': 3302, 'Creek': 3303, 'something': 3304, 'defeated': 3305, 'blamed': 3306, 'Lopez': 3307, 'books': 3308, 'fail': 3309, 'traditional': 3310, 'Emirates': 3311, 'Montreal': 3312, 'page': 3313, 'Pop': 3314, '100000': 3315, 'supporting': 3316, 'fallen': 3317, 'Brand': 3318, 'deep': 3319, 'hospitals': 3320, 'vows': 3321, 'Aniston': 3322, 'Speaker': 3323, 'Dublin': 3324, 'nations': 3325, 'Intel': 3326, 'phase': 3327, 'secured': 3328, 'Bradley': 3329, '5000': 3330, 'difficult': 3331, 'compete': 3332, 'Lawrence': 3333, 'PM': 3334, 'Dodgers': 3335, 'honoured': 3336, 'Land': 3337, 'Roy': 3338, 'unions': 3339, 'Barbara': 3340, 'Virgin': 3341, 'Mortgage': 3342, 'suing': 3343, 'described': 3344, 'Nevada': 3345, 'Jobs': 3346, 'Jammu': 3347, 'picked': 3348, 'adopted': 3349, 'wearing': 3350, 'mental': 3351, 'influence': 3352, 'unchanged': 3353, 'temporarily': 3354, 'dismissed': 3355, 'clashes': 3356, 'door': 3357, 'Retail': 3358, 'hires': 3359, 'Rafael': 3360, 'Maoists': 3361, 'neighborhood': 3362, 'proud': 3363, 'So': 3364, 'smoke': 3365, 'Private': 3366, '55': 3367, 'Storm': 3368, 'Girls': 3369, '48': 3370, 'beyond': 3371, 'Cancer': 3372, 'Youth': 3373, 'Earth': 3374, 'Ricky': 3375, 'warrant': 3376, 'talking': 3377, 'civilians': 3378, 'downturn': 3379, 'iron': 3380, '49': 3381, 'luxury': 3382, 'Manager': 3383, '700': 3384, 'Dancing': 3385, 'Ed': 3386, 'Poland': 3387, 'promised': 3388, 'imports': 3389, 'Delta': 3390, 'streak': 3391, 'thing': 3392, 'mostly': 3393, 'pitch': 3394, 'Civil': 3395, 'halt': 3396, 'premiere': 3397, 'Researchers': 3398, 'Mother': 3399, 'ESPN': 3400, 'shots': 3401, 'alone': 3402, 'retiring': 3403, 'roll': 3404, 'Strip': 3405, 'Bell': 3406, 'cited': 3407, 'minute': 3408, 'Auto': 3409, 'murdered': 3410, 'funeral': 3411, 'Firefighters': 3412, 'withdraws': 3413, 'knife': 3414, 'Parker': 3415, 'beach': 3416, 'judges': 3417, 'occurred': 3418, 'core': 3419, 'Bobby': 3420, 'HP': 3421, 'Musharraf': 3422, 'Tehran': 3423, 'performed': 3424, 'grew': 3425, 'upgraded': 3426, 'Colombian': 3427, 'Jets': 3428, 'Jamie': 3429, 'meetings': 3430, 'cap': 3431, 'email': 3432, 'crowd': 3433, 'cable': 3434, 'Sky': 3435, 'Johnny': 3436, 'approach': 3437, 'roster': 3438, 'jump': 3439, 'Crude': 3440, 'Medvedev': 3441, 'NASCAR': 3442, 'Station': 3443, 'Latin': 3444, 'plead': 3445, 'Way': 3446, 'reasons': 3447, 'southwest': 3448, 'rich': 3449, 'Point': 3450, 'maintenance': 3451, 'seventh': 3452, 'parent': 3453, 'Bengal': 3454, 'perfect': 3455, 'Cyprus': 3456, 'hiring': 3457, 'undergoing': 3458, 'Deutsche': 3459, 'material': 3460, 'Barry': 3461, 'pound': 3462, 'Us': 3463, 'nothing': 3464, 'Cowboys': 3465, 'happened': 3466, '72': 3467, 'estimated': 3468, 'Bond': 3469, 'physical': 3470, 'adults': 3471, 'Netherlands': 3472, 'recalling': 3473, 'visa': 3474, 'grants': 3475, 'hero': 3476, 'Wood': 3477, 'tourist': 3478, 'edge': 3479, 'spill': 3480, 'Hilton': 3481, 'God': 3482, 'kick': 3483, 'shoots': 3484, 'Miley': 3485, 'cells': 3486, 'pilots': 3487, 'Chennai': 3488, 'resignation': 3489, 'Sunderland': 3490, 'Lincoln': 3491, 'employment': 3492, 'dinner': 3493, 'carried': 3494, 'image': 3495, 'keen': 3496, '38': 3497, 'tries': 3498, 'landed': 3499, 'risks': 3500, 'fighter': 3501, 'violating': 3502, 'faced': 3503, 'kind': 3504, 'nominee': 3505, 'northwest': 3506, 'suit': 3507, 'Asif': 3508, 'Rights': 3509, 'everything': 3510, '36': 3511, 'opportunity': 3512, 'prepare': 3513, 'ball': 3514, 'dealer': 3515, 'talent': 3516, 'Maria': 3517, 'scores': 3518, '1.5': 3519, 'Casey': 3520, 'Matthew': 3521, 'condemned': 3522, 'collapse': 3523, 'accidentally': 3524, 'competitive': 3525, 'houses': 3526, 'probably': 3527, 'table': 3528, 'stepping': 3529, 'reserve': 3530, 'Interstate': 3531, 'Joseph': 3532, 'Nebraska': 3533, 'Spring': 3534, 'improvement': 3535, 'bound': 3536, 'lawyers': 3537, 'interested': 3538, 'Grant': 3539, 'MAN': 3540, 'kidnapping': 3541, 'Brother': 3542, 'dates': 3543, 'cruise': 3544, '2006': 3545, 'Jesse': 3546, 'lineup': 3547, 'Reid': 3548, 'reporter': 3549, 'Dow': 3550, 'checks': 3551, 'Watson': 3552, 'flag': 3553, 'Brothers': 3554, 'names': 3555, 'speaks': 3556, 'intends': 3557, 'earned': 3558, 'Maine': 3559, 'entry': 3560, 'AM': 3561, 'Reliance': 3562, 'Electric': 3563, 'Fiji': 3564, 'balance': 3565, 'trees': 3566, 'FBI': 3567, 'Thompson': 3568, 'raping': 3569, 'Banks': 3570, 'considers': 3571, 'Liam': 3572, 'Assad': 3573, 'hear': 3574, 'forthcoming': 3575, 'Inter': 3576, 'episode': 3577, 'Auckland': 3578, 'pushed': 3579, 'alternative': 3580, 'Hawaii': 3581, 'formed': 3582, 'Several': 3583, 'Nashville': 3584, 'restrictions': 3585, 'sister': 3586, 'actually': 3587, 'Aaron': 3588, 'Duke': 3589, 'independence': 3590, 'attention': 3591, 'Mandela': 3592, 'responsibility': 3593, 'unexpectedly': 3594, 'emerged': 3595, 'Cruise': 3596, 'Verizon': 3597, 'written': 3598, 'Malik': 3599, 'highway': 3600, 'dream': 3601, 'reason': 3602, 'interim': 3603, 'Collins': 3604, 'Robin': 3605, 'till': 3606, 'PC': 3607, 'Islamabad': 3608, 'collaboration': 3609, 'Keith': 3610, 'Fitch': 3611, 'tie': 3612, 'agreements': 3613, 'savings': 3614, 'establish': 3615, 'wild': 3616, 'isn': 3617, 'established': 3618, 'enhance': 3619, 'Mount': 3620, 'playoff': 3621, '85': 3622, 'shortly': 3623, 'captured': 3624, 'misdemeanor': 3625, 'Arena': 3626, 'crossing': 3627, 'square': 3628, 'smart': 3629, 'classes': 3630, 'culture': 3631, 'knocked': 3632, 'moment': 3633, 'stranded': 3634, 'Nigerian': 3635, 'abroad': 3636, 'Science': 3637, 'representative': 3638, 'trailer': 3639, 'Ross': 3640, 'Kosovo': 3641, 'leak': 3642, 'Danny': 3643, 'swimming': 3644, 'marking': 3645, 'Nationals': 3646, 'Ex': 3647, 'Benedict': 3648, 'Pirates': 3649, 'Kerry': 3650, 'freed': 3651, 'wave': 3652, 'sustained': 3653, 'technologies': 3654, 'Wireless': 3655, 'downgraded': 3656, 'unveil': 3657, 'dozens': 3658, 'euros': 3659, 'restored': 3660, 'outfielder': 3661, 'Ian': 3662, 'Hampshire': 3663, 'inmate': 3664, 'integrated': 3665, 'Swift': 3666, 'driven': 3667, 'reveal': 3668, 'Bears': 3669, 'arson': 3670, 'Second': 3671, 'learning': 3672, 'Pat': 3673, 'upset': 3674, 'affairs': 3675, 'drilling': 3676, 'score': 3677, 'exit': 3678, 'label': 3679, 'clubs': 3680, 'organizations': 3681, 'memorial': 3682, 'Carl': 3683, 'hip': 3684, 'whole': 3685, 'anticipated': 3686, 'speaking': 3687, 'sides': 3688, 'imposed': 3689, 'struggle': 3690, 'labor': 3691, 'wear': 3692, '39': 3693, 'highs': 3694, 'During': 3695, 'Sarkozy': 3696, 'puts': 3697, 'sure': 3698, 'fly': 3699, 'Nadal': 3700, 'thinks': 3701, 'boxing': 3702, 'Indianapolis': 3703, 'properties': 3704, 'older': 3705, 'intelligence': 3706, 'demanded': 3707, 'publicly': 3708, 'Hughes': 3709, 'directed': 3710, 'walking': 3711, 'forum': 3712, 'changing': 3713, 'passing': 3714, 'Holmes': 3715, 'endorses': 3716, 'currencies': 3717, 'Schools': 3718, 'accepted': 3719, 'Museum': 3720, 'Ahmadinejad': 3721, 'Kingdom': 3722, 'coordinator': 3723, 'asset': 3724, 'Raiders': 3725, '>': 3726, 'broadcast': 3727, 'Kerala': 3728, 'increasingly': 3729, 'threw': 3730, 'resort': 3731, 'Walker': 3732, 'Mets': 3733, 'Montana': 3734, 'seize': 3735, 'tablet': 3736, 'ranks': 3737, 'routes': 3738, 'athletes': 3739, 'About': 3740, 'Greg': 3741, 'AC': 3742, 'milestone': 3743, 'reopen': 3744, 'Opposition': 3745, 'limit': 3746, 'Ashley': 3747, 'spokeswoman': 3748, 'Saint': 3749, 'Mar': 3750, 'write': 3751, 'dealing': 3752, 'served': 3753, 'Georgian': 3754, 'pole': 3755, 'exploration': 3756, 'Budget': 3757, 'resistance': 3758, 'extending': 3759, 'anything': 3760, 'longtime': 3761, 'comprehensive': 3762, 'entering': 3763, 'quickly': 3764, 'Roberts': 3765, 'easy': 3766, 'Christina': 3767, 'Congressman': 3768, 'Hugo': 3769, 'conspiracy': 3770, 'Last': 3771, 'Salman': 3772, 'sharing': 3773, 'racing': 3774, 'Fair': 3775, 'Larry': 3776, 'Saints': 3777, 'association': 3778, 'minimum': 3779, 'strongly': 3780, 'rejects': 3781, 'size': 3782, 'Dave': 3783, 'saved': 3784, 'modern': 3785, 'included': 3786, 'respect': 3787, 'praised': 3788, 'Lord': 3789, 'powers': 3790, 'registration': 3791, 'Commonwealth': 3792, 'conviction': 3793, 'Aston': 3794, 'Kuwait': 3795, 'commission': 3796, '#': 3797, 'Fla': 3798, 'Agriculture': 3799, 'Jean': 3800, 'resolve': 3801, '800': 3802, 'Patriots': 3803, 'Muslims': 3804, 'Pete': 3805, 'practices': 3806, '62': 3807, 'Coach': 3808, 'trucks': 3809, 'upon': 3810, 'Putin': 3811, 'Vikings': 3812, 'advantage': 3813, 'dry': 3814, 'Graham': 3815, 'recording': 3816, 'original': 3817, 'fish': 3818, 'prepared': 3819, 'Lama': 3820, 'Under': 3821, 'Kapoor': 3822, 'defending': 3823, 'Environment': 3824, 'cultural': 3825, 'workforce': 3826, 'word': 3827, 'retailers': 3828, 'remarks': 3829, 'Dick': 3830, 'backs': 3831, 'Rogers': 3832, 'Kent': 3833, 'Kanye': 3834, 'Lok': 3835, 'jets': 3836, 'presents': 3837, 'Chiefs': 3838, 'linebacker': 3839, 'Jonathan': 3840, 'Romania': 3841, '68': 3842, 'operators': 3843, 'quits': 3844, 'rookie': 3845, 'classic': 3846, 'Ottawa': 3847, 'shuttle': 3848, 'witnesses': 3849, 'encounter': 3850, 'bigger': 3851, 'elementary': 3852, 'interests': 3853, 'tracking': 3854, 'diesel': 3855, 'retires': 3856, 'buyers': 3857, 'Lebanese': 3858, 'prize': 3859, 'unlikely': 3860, 'withdrawn': 3861, 'Rome': 3862, 'Raza': 3863, 'Thai': 3864, 'wing': 3865, 'volunteers': 3866, 'dramatic': 3867, 'edged': 3868, 'Fashion': 3869, 'icon': 3870, 'forcing': 3871, 'skin': 3872, 'Brandon': 3873, 'tensions': 3874, '66': 3875, 'K': 3876, 'Lance': 3877, 'Douglas': 3878, 'fleet': 3879, 'brands': 3880, 'takeover': 3881, 'wage': 3882, 'determined': 3883, 'alongside': 3884, 'Harper': 3885, 'Dalai': 3886, 'diabetes': 3887, 'undergoes': 3888, 'Warriors': 3889, 'infection': 3890, '3000': 3891, 'Lakers': 3892, '71': 3893, 'Mahmoud': 3894, 'salary': 3895, 'worries': 3896, 'thrown': 3897, 'executives': 3898, 'winger': 3899, 'lying': 3900, 'roof': 3901, 'stress': 3902, 'port': 3903, 'Wright': 3904, 'electronics': 3905, 'virtual': 3906, 'required': 3907, 'senator': 3908, 'pulls': 3909, 'dropping': 3910, 'Natural': 3911, 'supported': 3912, 'computers': 3913, 'possibility': 3914, 'silver': 3915, 'choice': 3916, '2015': 3917, 'goalkeeper': 3918, 'Karnataka': 3919, 'Liberty': 3920, 'injuring': 3921, 'lender': 3922, 'http': 3923, 'reduction': 3924, 'withdraw': 3925, 'promises': 3926, 'prove': 3927, 'wreck': 3928, 'everyone': 3929, 'wrote': 3930, 'standing': 3931, 'Rob': 3932, 'streaming': 3933, 'writes': 3934, 'Mukherjee': 3935, 'poised': 3936, 'accuses': 3937, 'Marshall': 3938, 'effects': 3939, 'marks': 3940, 'tanker': 3941, 'pushing': 3942, 'centers': 3943, 'Gaddafi': 3944, 'provincial': 3945, 'MTV': 3946, 'era': 3947, 'familiar': 3948, 'fitness': 3949, 'Kenny': 3950, 'resumed': 3951, 'Gates': 3952, 'crack': 3953, 'drought': 3954, 'stadium': 3955, 'copper': 3956, 'drunken': 3957, 'judicial': 3958, 'envoy': 3959, 'Motorola': 3960, 'McCartney': 3961, 'refuses': 3962, 'closure': 3963, 'discovery': 3964, 'lands': 3965, 'Perth': 3966, 'Your': 3967, 'sustainable': 3968, 'profile': 3969, 'quite': 3970, 'controlled': 3971, 'Capitol': 3972, 'hedge': 3973, 'Chile': 3974, 'F': 3975, 'sparked': 3976, 'releasing': 3977, 'Citigroup': 3978, 'providers': 3979, 'rallied': 3980, 'insisted': 3981, 'Soccer': 3982, 'Village': 3983, 'Ted': 3984, 'materials': 3985, '67': 3986, 'Bangalore': 3987, 'bike': 3988, 'Vodafone': 3989, 'Rochester': 3990, '3D': 3991, 'Electronics': 3992, 'Springfield': 3993, 'plastic': 3994, 'Residents': 3995, 'Sprint': 3996, 'Dell': 3997, 'animals': 3998, 'Twenty20': 3999, 'rapper': 4000, 'commodity': 4001, 'FIFA': 4002, 'crackdown': 4003, '82': 4004, 'knowledge': 4005, 'starring': 4006, 'Safety': 4007, 'boosted': 4008, 'taxi': 4009, 'significantly': 4010, 'Gilani': 4011, 'Emergency': 4012, 'III': 4013, 'surge': 4014, 'tool': 4015, 'Delaware': 4016, 'solo': 4017, 'BlackBerry': 4018, 'remote': 4019, 'fails': 4020, 'coaching': 4021, 'neck': 4022, 'attempting': 4023, 'Markets': 4024, 'settled': 4025, 'chosen': 4026, 'illegally': 4027, 'Silver': 4028, 'Abdullah': 4029, 'saving': 4030, 'rains': 4031, 'resumes': 4032, 'Islam': 4033, 'stability': 4034, 'pedestrian': 4035, 'hole': 4036, 'Student': 4037, 'weapon': 4038, 'Up': 4039, 'Leeds': 4040, 'conservative': 4041, 'endorsed': 4042, 'Cairo': 4043, 'finding': 4044, 'regulatory': 4045, 'lakh': 4046, 'Records': 4047, 'Zuma': 4048, 'Adelaide': 4049, 'Idaho': 4050, 'internal': 4051, 'authority': 4052, 'stands': 4053, 'selection': 4054, 'veterans': 4055, 'Modi': 4056, 'direction': 4057, 'bans': 4058, 'eighth': 4059, 'tornado': 4060, 'appeals': 4061, 'link': 4062, 'Jeremy': 4063, 'celebration': 4064, 'approve': 4065, 'affect': 4066, 'Celtic': 4067, 'promoted': 4068, 'regulators': 4069, 'tank': 4070, 'Shane': 4071, 'railway': 4072, 'Federation': 4073, 'rebound': 4074, 'humanitarian': 4075, 'Bihar': 4076, 'waivers': 4077, 'Project': 4078, 'Art': 4079, 'burned': 4080, 'stepped': 4081, 'pleased': 4082, 'unique': 4083, 'marked': 4084, 'Transport': 4085, 'tropical': 4086, 'Child': 4087, 'Cook': 4088, 'sue': 4089, 'appointment': 4090, 'declines': 4091, 'Baghdad': 4092, 'accepting': 4093, 'camera': 4094, 'Nine': 4095, 'Brisbane': 4096, 'AFP': 4097, 'politicians': 4098, 'gift': 4099, 'register': 4100, 'prepares': 4101, 'blog': 4102, 'pledged': 4103, 'Rose': 4104, 'Bachchan': 4105, 'reopened': 4106, 'deputies': 4107, 'proposes': 4108, 'Industrial': 4109, 'discrimination': 4110, 'Digital': 4111, 'commits': 4112, 'analysis': 4113, 'assist': 4114, '69': 4115, 'firing': 4116, 'Forum': 4117, 'Prize': 4118, 'Sep': 4119, 'slip': 4120, 'Costa': 4121, 'sectors': 4122, 'demanding': 4123, 'outbreak': 4124, 'sponsor': 4125, 'individual': 4126, 'promoting': 4127, '63': 4128, 'rollover': 4129, 'Evans': 4130, 'heavyweight': 4131, 'bat': 4132, 'qualifying': 4133, 'affair': 4134, 'Annual': 4135, 'Qantas': 4136, 'Grammy': 4137, 'momentum': 4138, 'Adams': 4139, 'potentially': 4140, 'Kyle': 4141, 'loves': 4142, 'tsunami': 4143, 'counter': 4144, 'disappointing': 4145, 'Election': 4146, 'managers': 4147, 'courts': 4148, 'Solutions': 4149, 'manage': 4150, 'NC': 4151, 'underwent': 4152, 'Tyler': 4153, 'tracks': 4154, 'firefighter': 4155, 'Abdul': 4156, 'upgrade': 4157, 'measure': 4158, 'controversy': 4159, 'Can': 4160, 'Indies': 4161, 'pub': 4162, 'hander': 4163, 'Berlusconi': 4164, 'Mass': 4165, 'PTI': 4166, 'depression': 4167, 'walked': 4168, 'investigated': 4169, 'Somalia': 4170, 'monitoring': 4171, 'IMF': 4172, 'article': 4173, 'ability': 4174, 'clinic': 4175, 'throwing': 4176, 'slammed': 4177, 'abortion': 4178, 'Our': 4179, 'networks': 4180, 'twins': 4181, 'Juan': 4182, 'softball': 4183, '11th': 4184, 'Main': 4185, 'watching': 4186, 'Death': 4187, 'Care': 4188, 'character': 4189, 'Sacramento': 4190, 'reducing': 4191, 'Jerusalem': 4192, 'crucial': 4193, 'Lily': 4194, 'attacking': 4195, 'plunged': 4196, 'links': 4197, 'Murphy': 4198, 'tools': 4199, 'Rahul': 4200, 'trouble': 4201, '44': 4202, 'Memphis': 4203, 'path': 4204, 'drone': 4205, 'sues': 4206, 'storms': 4207, 'casino': 4208, 'permanent': 4209, 'innovative': 4210, 'refinance': 4211, 'Liberal': 4212, 'eurozone': 4213, 'Kris': 4214, 'proposals': 4215, '43': 4216, 'allows': 4217, 'Knight': 4218, 'Cubs': 4219, 'Tendulkar': 4220, 'mind': 4221, 'innings': 4222, 'shipping': 4223, 'Bulls': 4224, 'suspend': 4225, 'fun': 4226, 'Fisher': 4227, 'apply': 4228, 'triple': 4229, '47': 4230, 'audience': 4231, 'gaming': 4232, 'attempts': 4233, 'Brett': 4234, 'Auburn': 4235, 'shift': 4236, 'producing': 4237, 'Carey': 4238, 'pregnancy': 4239, 'assignment': 4240, 'anyone': 4241, 'underway': 4242, 'asylum': 4243, 'Class': 4244, 'tribal': 4245, 'Solar': 4246, '64': 4247, 'reserves': 4248, 'Trophy': 4249, 'Eight': 4250, 'Browns': 4251, 'picture': 4252, '58': 4253, 'Anti': 4254, 'rolled': 4255, 'inquiry': 4256, 'slipped': 4257, 'Chidambaram': 4258, 'Everton': 4259, 'Phillies': 4260, 'voluntary': 4261, 'managing': 4262, 'Wimbledon': 4263, 'regions': 4264, 'torn': 4265, 'Gomez': 4266, 'renewable': 4267, 'favourite': 4268, 'Rachel': 4269, 'skipper': 4270, 'Salem': 4271, 'congressional': 4272, 'crashing': 4273, 'sugar': 4274, 'Triple': 4275, 'worse': 4276, 'guidance': 4277, 'Vatican': 4278, '95': 4279, 'sleep': 4280, 'Julian': 4281, 'updated': 4282, 'buried': 4283, 'membership': 4284, 'Bryant': 4285, 'minority': 4286, 'Rooney': 4287, 'Ravens': 4288, 'prominent': 4289, 'Martinez': 4290, 'addition': 4291, 'structure': 4292, '120': 4293, 'prospect': 4294, 'Number': 4295, 'brief': 4296, 'possibly': 4297, 'Venezuelan': 4298, 'seeing': 4299, 'hunting': 4300, 'Vladimir': 4301, 'commerce': 4302, 'Cambridge': 4303, 'clothing': 4304, 'Store': 4305, 'weakened': 4306, 'seats': 4307, 'DUI': 4308, 'NJ': 4309, 'NHS': 4310, 'urging': 4311, 'Mubarak': 4312, 'someone': 4313, 'advised': 4314, 'telecom': 4315, 'transaction': 4316, 'militant': 4317, 'Susan': 4318, 'Grove': 4319, 'confirm': 4320, 'Jacksonville': 4321, 'Ten': 4322, 'shed': 4323, 'Phillips': 4324, 'FA': 4325, 'songs': 4326, 'Middleton': 4327, 'photos': 4328, 'quoted': 4329, '52': 4330, 'priority': 4331, 'Tommy': 4332, 'Jays': 4333, 'pending': 4334, '46': 4335, 'picks': 4336, 'regulations': 4337, 'efficiency': 4338, 'associated': 4339, 'cameras': 4340, 'awaited': 4341, 'faster': 4342, 'writing': 4343, 'Norway': 4344, 'Chancellor': 4345, 'Broncos': 4346, 'Jacob': 4347, 'discussed': 4348, 'eating': 4349, 'Library': 4350, 'Video': 4351, 'Circuit': 4352, 'Roman': 4353, 'abusing': 4354, 'Ferrari': 4355, '56': 4356, 'Assange': 4357, 'GM': 4358, 'Royals': 4359, 'branded': 4360, 'standoff': 4361, '53': 4362, 'limits': 4363, 'Golf': 4364, 'fares': 4365, 'memory': 4366, 'hanging': 4367, 'However': 4368, 'followed': 4369, 'user': 4370, 'forecasts': 4371, 'advice': 4372, 'prescription': 4373, 'foreclosure': 4374, 'baseman': 4375, 'counterpart': 4376, 'ore': 4377, 'standard': 4378, 'attract': 4379, 'recognized': 4380, 'WikiLeaks': 4381, 'wall': 4382, 'implement': 4383, 'Palace': 4384, 'type': 4385, 'Arnold': 4386, 'Derby': 4387, 'catches': 4388, 'Mario': 4389, 'Mitchell': 4390, 'northeast': 4391, 'governments': 4392, 'Berlin': 4393, 'answer': 4394, 'nightclub': 4395, 'skills': 4396, 'Maharashtra': 4397, 'critically': 4398, 'pit': 4399, 'acts': 4400, 'subject': 4401, 'lenders': 4402, 'APA': 4403, 'prior': 4404, 'toddler': 4405, 'actions': 4406, 'temperatures': 4407, '73': 4408, 'Region': 4409, 'adviser': 4410, 'count': 4411, 'bomber': 4412, 'Montgomery': 4413, 'treat': 4414, 'shareholder': 4415, 'beef': 4416, 'investigators': 4417, 'tops': 4418, 'immigrants': 4419, 'arts': 4420, 'Eddie': 4421, '74': 4422, 'guide': 4423, 'Petroleum': 4424, 'bottom': 4425, 'junior': 4426, 'either': 4427, 'communication': 4428, 'licence': 4429, 'Iron': 4430, 'Muhammad': 4431, 'emissions': 4432, 'Julia': 4433, '76': 4434, 'MPs': 4435, 'beauty': 4436, 'Presidential': 4437, 'expenses': 4438, 'holidays': 4439, 'discharged': 4440, 'Donald': 4441, '59': 4442, 'machine': 4443, 'agriculture': 4444, 'Lovato': 4445, 'prospects': 4446, 'Sheikh': 4447, 'Athens': 4448, 'equities': 4449, 'telling': 4450, 'Marc': 4451, 'Mason': 4452, 'bag': 4453, 'versus': 4454, 'topped': 4455, 'earn': 4456, 'Airbus': 4457, 'photographer': 4458, 'volume': 4459, 'pet': 4460, 'Crown': 4461, 'Max': 4462, 'select': 4463, 'petrol': 4464, '54': 4465, 'midnight': 4466, 'Dolphins': 4467, 'keeps': 4468, 'praises': 4469, 'defenseman': 4470, 'newest': 4471, 'innovation': 4472, 'Ann': 4473, 'Southwest': 4474, 'respond': 4475, 'Thanksgiving': 4476, 'catch': 4477, 'branches': 4478, 'read': 4479, 'HIV': 4480, 'prostate': 4481, 'cruelty': 4482, 'visitors': 4483, 'DJ': 4484, '12th': 4485, 'idea': 4486, 'grade': 4487, 'greatest': 4488, 'bone': 4489, 'Sport': 4490, 'publisher': 4491, 'monetary': 4492, 'uses': 4493, 'hopeful': 4494, 'L': 4495, '51': 4496, 'restaurants': 4497, 'celebrations': 4498, 'representatives': 4499, 'Islands': 4500, 'section': 4501, 'Steelers': 4502, 'swept': 4503, 'vaccine': 4504, 'replaced': 4505, 'Portsmouth': 4506, 'particularly': 4507, 'Chase': 4508, 'Yemeni': 4509, 'throws': 4510, 'Military': 4511, 'airlines': 4512, 'Sonia': 4513, '50th': 4514, 'Nissan': 4515, 'opinion': 4516, 'feared': 4517, 'Merkel': 4518, 'poverty': 4519, 'burn': 4520, 'principal': 4521, 'trapped': 4522, 'inspired': 4523, 'Munich': 4524, 'Christie': 4525, 'Independent': 4526, 'involvement': 4527, 'adult': 4528, 'Friends': 4529, 'Garden': 4530, 'misses': 4531, 'Brussels': 4532, 'slide': 4533, 'Jefferson': 4534, 'wealth': 4535, 'employers': 4536, 'locations': 4537, 'concussion': 4538, 'completely': 4539, 'shock': 4540, 'cancel': 4541, '86': 4542, 'hair': 4543, 'CBI': 4544, 'Where': 4545, 'argument': 4546, '61': 4547, 'adopt': 4548, 'string': 4549, 'View': 4550, 'Sex': 4551, 'Emma': 4552, 'gap': 4553, 'Jazz': 4554, 'tech': 4555, 'operate': 4556, 'forms': 4557, 'locked': 4558, 'Only': 4559, 'Line': 4560, 'Baby': 4561, 'drowns': 4562, 'models': 4563, 'outdoor': 4564, 'Legislature': 4565, 'Sharif': 4566, 'refugees': 4567, 'twin': 4568, 'donated': 4569, 'Racing': 4570, 'creative': 4571, '20th': 4572, 'hub': 4573, 'viewers': 4574, 'prostitution': 4575, 'Oracle': 4576, 'Tribune': 4577, 'Uttar': 4578, 'stops': 4579, 'mutual': 4580, 'revised': 4581, 'featured': 4582, 'Robbie': 4583, 'Karzai': 4584, 'forest': 4585, 'slashed': 4586, 'refusing': 4587, 'sovereign': 4588, 'Anne': 4589, 'improves': 4590, 'G': 4591, 'BMW': 4592, 'milk': 4593, 'Nobel': 4594, 'Del': 4595, 'Murdoch': 4596, 'violation': 4597, 'Drew': 4598, 'integration': 4599, 'AFL': 4600, 'Rapper': 4601, 'Television': 4602, 'titled': 4603, 'planes': 4604, 'Reports': 4605, 'economies': 4606, 'watched': 4607, 'accusing': 4608, 'refinery': 4609, 'Camp': 4610, 'Braves': 4611, 'surplus': 4612, 'metals': 4613, 'Sterling': 4614, 'Brooklyn': 4615, 'drove': 4616, 'Dmitry': 4617, 'warn': 4618, 'exploded': 4619, 'apologized': 4620, 'lake': 4621, 'trials': 4622, 'concluded': 4623, 'jobless': 4624, 'Schwarzenegger': 4625, 'Healthcare': 4626, 'billionaire': 4627, 'aggravated': 4628, 'acres': 4629, 'concerned': 4630, '900': 4631, 'Third': 4632, 'observed': 4633, 'briefly': 4634, 'inning': 4635, 'Sachin': 4636, '50000': 4637, 'determine': 4638, 'Ham': 4639, 'Bernard': 4640, 'garden': 4641, 'surrounding': 4642, 'Haryana': 4643, 'Summit': 4644, 'lady': 4645, 'beer': 4646, 'code': 4647, 'Amanda': 4648, 'commissioner': 4649, 'coffee': 4650, 'predicted': 4651, 'apologizes': 4652, 'championships': 4653, 'Globe': 4654, 'Report': 4655, 'Ericsson': 4656, 'Twins': 4657, '91': 4658, 'peaceful': 4659, 'Ken': 4660, 'fields': 4661, 'Fed': 4662, 'advances': 4663, 'Heidi': 4664, 'attended': 4665, 'preseason': 4666, 'reading': 4667, 'guest': 4668, 'Osbourne': 4669, 'smartphones': 4670, '77': 4671, '1st': 4672, 'hate': 4673, 'inducted': 4674, 'System': 4675, 'municipal': 4676, 'seed': 4677, 'Pak': 4678, 'dozen': 4679, 'Side': 4680, 'Norwegian': 4681, 'blasts': 4682, 'blaze': 4683, 'accidents': 4684, 'Property': 4685, 'words': 4686, 'ANC': 4687, 'Money': 4688, 'Laden': 4689, 'bombing': 4690, 'PLC': 4691, 'Juventus': 4692, 'Half': 4693, 'Pharmaceuticals': 4694, 'Ronaldo': 4695, 'favorite': 4696, 'chances': 4697, 'Hu': 4698, 'Syed': 4699, 'sound': 4700, 'evasion': 4701, 'Jesus': 4702, 'library': 4703, 'Polish': 4704, '1500': 4705, 'studies': 4706, 'Xinhua': 4707, 'Timberlake': 4708, 'Wellington': 4709, 'gathered': 4710, 'Mall': 4711, 'throw': 4712, 'Louisville': 4713, 'Teen': 4714, 'Seahawks': 4715, 'Pranab': 4716, 'Mart': 4717, 'legislative': 4718, 'Sandy': 4719, 'rush': 4720, 'Rupee': 4721, 'spokesperson': 4722, 'steal': 4723, 'Mugabe': 4724, 'Wenger': 4725, 'musician': 4726, 'hailed': 4727, 'looked': 4728, 'Lil': 4729, 'guards': 4730, 'overhaul': 4731, 'species': 4732, 'quoting': 4733, 'winners': 4734, 'crowned': 4735, 'Championships': 4736, 'easing': 4737, 'makers': 4738, 'Newton': 4739, 'Arctic': 4740, 'absence': 4741, 'Karachi': 4742, 'unable': 4743, 'riding': 4744, 'Rodriguez': 4745, 'prosecutor': 4746, 'Gibson': 4747, 'hunger': 4748, 'doping': 4749, 'shops': 4750, 'blame': 4751, 'witness': 4752, 'pricing': 4753, 'privately': 4754, 'attending': 4755, 'clothes': 4756, 'honour': 4757, 'austerity': 4758, 'Nadu': 4759, 'Pentagon': 4760, 'bed': 4761, 'professor': 4762, 'hurricane': 4763, 'diplomat': 4764, 'lung': 4765, 'petition': 4766, 'doubled': 4767, '2005': 4768, 'WWE': 4769, 'danger': 4770, 'decisions': 4771, 'burns': 4772, 'cat': 4773, 'Bloomberg': 4774, 'consumption': 4775, 'Colin': 4776, 'Suu': 4777, 'Kyi': 4778, 'chip': 4779, 'Heath': 4780, 'condemns': 4781, 'enjoy': 4782, 'politician': 4783, 'messages': 4784, 'Bashar': 4785, 'requirements': 4786, 'Legendary': 4787, 'Alberta': 4788, 'monitor': 4789, 'emotional': 4790, 'Robinson': 4791, 'strengthened': 4792, 'presidency': 4793, 'Heart': 4794, '100th': 4795, 'agricultural': 4796, 'Abbas': 4797, 'permits': 4798, 'billions': 4799, 'Suzuki': 4800, 'citizen': 4801, 'uranium': 4802, 'creation': 4803, 'honorary': 4804, 'finger': 4805, 'lived': 4806, 'contractor': 4807, 'papers': 4808, 'boycott': 4809, 'rebel': 4810, 'Building': 4811, 'Elementary': 4812, 'Directors': 4813, 'Pervez': 4814, 'hasn': 4815, 'charging': 4816, 'Selena': 4817, 'slams': 4818, 'suffer': 4819, 'sacked': 4820, 'hunt': 4821, 'oldest': 4822, 'strip': 4823, 'Mel': 4824, 'unknown': 4825, 'overcome': 4826, 'affiliate': 4827, 'wine': 4828, 'Spencer': 4829, 'Sharks': 4830, 'parade': 4831, 'supermarket': 4832, 'fighters': 4833, 'aboard': 4834, 'easily': 4835, '83': 4836, 'comment': 4837, 'scoring': 4838, 'chart': 4839, 'Many': 4840, 'slowed': 4841, 'damages': 4842, 'Pacquiao': 4843, 'Guy': 4844, '57': 4845, 'ownership': 4846, 'magnitude': 4847, 'Randy': 4848, 'aide': 4849, 'Federer': 4850, 'Organization': 4851, 'identify': 4852, 'PlayStation': 4853, 'H': 4854, 'suggesting': 4855, 'delivers': 4856, 'downgrades': 4857, 'De': 4858, 'novel': 4859, 'Monetary': 4860, 'robberies': 4861, 'websites': 4862, 'submitted': 4863, 'drawing': 4864, 'Rajasthan': 4865, 'Baku': 4866, 'spoke': 4867, 'Edmonton': 4868, 'Redskins': 4869, 'survived': 4870, 'Richmond': 4871, 'Packers': 4872, 'Rand': 4873, 'Boys': 4874, 'unrest': 4875, 'exposure': 4876, 'shared': 4877, 'Wild': 4878, 'elbow': 4879, 'king': 4880, 'behaviour': 4881, 'volleyball': 4882, 'Seoul': 4883, 'Heat': 4884, 'Easter': 4885, 'kidney': 4886, 'eased': 4887, 'Todd': 4888, 'Rupert': 4889, 'wasn': 4890, 'misconduct': 4891, 'necessary': 4892, 'text': 4893, 'performs': 4894, 'Heritage': 4895, 'Peace': 4896, 'fought': 4897, 'lucky': 4898, 'ships': 4899, 'Protection': 4900, 'task': 4901, 'Fernando': 4902, 'fewer': 4903, 'abandoned': 4904, '1.2': 4905, 'sense': 4906, 'Canadians': 4907, 'evacuation': 4908, 'robbing': 4909, 'metro': 4910, 'unidentified': 4911, 'heroin': 4912, 'Shore': 4913, 'disclosed': 4914, 'scenes': 4915, 'Nation': 4916, 'uncertainty': 4917, 'pharmaceutical': 4918, 'Roberto': 4919, 'doubles': 4920, 'Damascus': 4921, 'whom': 4922, 'Freedom': 4923, 'Eagle': 4924, 'switch': 4925, 'Not': 4926, 'UBS': 4927, 'estranged': 4928, 'offences': 4929, 'privacy': 4930, 'wheat': 4931, 'Reds': 4932, 'formal': 4933, 'torch': 4934, 'races': 4935, 'blue': 4936, 'plus': 4937, 'southeast': 4938, 'coaches': 4939, 'Bills': 4940, 'freeze': 4941, 'automaker': 4942, 'Dame': 4943, 'Leon': 4944, '2004': 4945, 'eliminate': 4946, 'industries': 4947, 'chest': 4948, 'Unemployment': 4949, 'Chemical': 4950, 'sing': 4951, 'recycling': 4952, 'client': 4953, 'Strauss': 4954, 'vessel': 4955, 'Monroe': 4956, 'offset': 4957, 'WASHINGTON': 4958, 'Cloud': 4959, 'Argentine': 4960, 'filled': 4961, 'unity': 4962, 'Ashton': 4963, 'medicine': 4964, 'Marcus': 4965, 'Forces': 4966, 'Province': 4967, 'Electronic': 4968, 'solid': 4969, 'Portugal': 4970, 'guns': 4971, 'Tourism': 4972, 'Bayern': 4973, 'labour': 4974, 'patrol': 4975, 'Moss': 4976, 'floods': 4977, 'democratic': 4978, 'wish': 4979, 'stem': 4980, 'Tennis': 4981, 'trades': 4982, 'Diamond': 4983, 'declining': 4984, 'Tropical': 4985, 'porn': 4986, 'recognition': 4987, 'guarantee': 4988, '@': 4989, 'Magic': 4990, 'convenience': 4991, 'peak': 4992, 'designated': 4993, 'pickup': 4994, 'youths': 4995, 'scare': 4996, 'charter': 4997, 'Congressional': 4998, 'Hyderabad': 4999, 'fundraising': 5000, 'Summer': 5001, 'Armed': 5002, 'Barnes': 5003, 'plot': 5004, 'Father': 5005, 'Bernanke': 5006, 'broad': 5007, 'rallies': 5008, 'bags': 5009, 'transplant': 5010, 'Belgium': 5011, 'trains': 5012, 'collided': 5013, 'Clarke': 5014, 'agenda': 5015, 'developers': 5016, 'Blues': 5017, 'survive': 5018, 'mall': 5019, '84': 5020, 'HSBC': 5021, 'optimism': 5022, 'Owen': 5023, 'investing': 5024, 'directly': 5025, 'workshop': 5026, 'promising': 5027, 'professionals': 5028, 'stuck': 5029, 'pleading': 5030, 'fled': 5031, 'piece': 5032, 'bird': 5033, 'Potter': 5034, 'contain': 5035, 'Datuk': 5036, 'convention': 5037, 'civilian': 5038, 'Johannesburg': 5039, 'terminal': 5040, 'maximum': 5041, 'Snow': 5042, 'Beverly': 5043, 'rice': 5044, 'documentary': 5045, 'Brewers': 5046, 'rebounds': 5047, 'warming': 5048, 'Cisco': 5049, 'missiles': 5050, 'aviation': 5051, 'airports': 5052, 'Finland': 5053, 'completion': 5054, 'acquitted': 5055, 'transition': 5056, 'NRL': 5057, 'endorse': 5058, 'Luke': 5059, 'lows': 5060, 'clinical': 5061, 'Nintendo': 5062, 'operational': 5063, 'Images': 5064, 'flagship': 5065, 'watchdog': 5066, 'striking': 5067, 'diplomats': 5068, 'Santorum': 5069, 'resource': 5070, 'channels': 5071, 'signal': 5072, 'Plc': 5073, 'mean': 5074, 'Aviation': 5075, 'mile': 5076, 'artists': 5077, 'sitting': 5078, 'pilgrims': 5079, 'Lane': 5080, 'loved': 5081, 'posting': 5082, 'gather': 5083, 'occupied': 5084, 'legendary': 5085, 'Athletic': 5086, 'odds': 5087, 'Rice': 5088, 'Quinn': 5089, 'motor': 5090, 'Baldwin': 5091, 'disputed': 5092, 'nearby': 5093, 'slash': 5094, 'liquor': 5095, 'childhood': 5096, 'rental': 5097, 'responded': 5098, 'Romanian': 5099, 'Light': 5100, 'corner': 5101, 'Corps': 5102, 'transportation': 5103, 'installed': 5104, 'wire': 5105, 'Newman': 5106, 'Lynch': 5107, 'Hungary': 5108, 'Lt': 5109, 'initiatives': 5110, 'constitution': 5111, 'Driver': 5112, 'Chad': 5113, 'rolls': 5114, 'Eva': 5115, 'Convention': 5116, 'slowing': 5117, 'outlets': 5118, 'Heights': 5119, 'Mahindra': 5120, 'Environmental': 5121, 'achieved': 5122, 'Xbox': 5123, 'tape': 5124, 'Sciences': 5125, 'Peru': 5126, 'aggressive': 5127, 'Sharma': 5128, 'tea': 5129, 'covering': 5130, 'regulator': 5131, 'detention': 5132, 'ethnic': 5133, 'sessions': 5134, 'longest': 5135, 'babies': 5136, 'Quebec': 5137, 'inaugural': 5138, 'Jet': 5139, 'Coal': 5140, 'individuals': 5141, 'commit': 5142, 'collapses': 5143, 'Mohammed': 5144, 'computing': 5145, 'HTC': 5146, 'Oscars': 5147, 'Enterprise': 5148, 'Francis': 5149, 'theme': 5150, 'broker': 5151, 'enable': 5152, 'fill': 5153, 'declare': 5154, 'Mail': 5155, 'Challenge': 5156, 'Mission': 5157, 'Parish': 5158, 'shelter': 5159, 'dark': 5160, 'purchases': 5161, 'inaugurated': 5162, 'definitive': 5163, 'stripped': 5164, 'obtained': 5165, 'brothers': 5166, 'wages': 5167, 'statistics': 5168, 'Rapids': 5169, 'substance': 5170, 'appoint': 5171, 'Elton': 5172, 'aside': 5173, 'larger': 5174, 'Coleman': 5175, 'slump': 5176, 'Wal': 5177, 'suburban': 5178, 'teaching': 5179, 'Ahmed': 5180, 'valued': 5181, 'Z': 5182, 'Bolton': 5183, 'defeats': 5184, 'ads': 5185, 'Doctors': 5186, 'Occupy': 5187, 'Mills': 5188, 'worried': 5189, 'inquest': 5190, 'automotive': 5191, 'Gen': 5192, 'eat': 5193, 'Hamid': 5194, 'staying': 5195, 'ski': 5196, 'discussion': 5197, 'Omaha': 5198, 'Manhattan': 5199, 'smaller': 5200, 'Nancy': 5201, 'FOCUS': 5202, 'Sanchez': 5203, 'meat': 5204, 'Tibetan': 5205, 'Serbian': 5206, 'PGA': 5207, 'songwriter': 5208, 'H1N1': 5209, 'Austria': 5210, 'verdict': 5211, 'critics': 5212, 'teens': 5213, 'Netanyahu': 5214, 'Beyonce': 5215, 'Blair': 5216, 'Economy': 5217, 'updates': 5218, 'mountain': 5219, 'Titans': 5220, 'quick': 5221, 'Early': 5222, 'buses': 5223, 'entitled': 5224, 'Blake': 5225, 'exposed': 5226, 'Norman': 5227, 'Computer': 5228, 'landmark': 5229, 'Tax': 5230, 'swing': 5231, 'Jonas': 5232, 'Moon': 5233, 'Watch': 5234, 'ballot': 5235, 'complaints': 5236, 'apology': 5237, 'Emmy': 5238, 'nominations': 5239, 'invitation': 5240, 'Norwich': 5241, 'Control': 5242, 'Eve': 5243, 'naval': 5244, 'welfare': 5245, 'commodities': 5246, 'Glasgow': 5247, 'borrowing': 5248, 'racist': 5249, 'intervention': 5250, 'Celtics': 5251, 'upgrades': 5252, 'harassment': 5253, 'destroys': 5254, 'staged': 5255, 'scrap': 5256, 'cyclist': 5257, 'Me': 5258, '20000': 5259, 'End': 5260, 'Superior': 5261, 'prestigious': 5262, 'Program': 5263, 'surged': 5264, 'widespread': 5265, 'combined': 5266, 'vital': 5267, 'Clooney': 5268, 'Farmers': 5269, 'swap': 5270, 'broadcaster': 5271, 'widely': 5272, 'renew': 5273, 'replacing': 5274, 'Blackburn': 5275, 'hybrid': 5276, 'sub': 5277, 'Christopher': 5278, 'sweep': 5279, 'dumped': 5280, 'Manny': 5281, 'Moody': 5282, 'Universal': 5283, 'Oprah': 5284, 'mate': 5285, 'referendum': 5286, 'Place': 5287, 'qualify': 5288, 'premium': 5289, 'Cable': 5290, 'Route': 5291, 'fix': 5292, 'Sandra': 5293, 'arbitration': 5294, 'Scientific': 5295, 'Orioles': 5296, 'feed': 5297, 'Travel': 5298, 'zero': 5299, 'creator': 5300, 'Jake': 5301, 'values': 5302, 'motorists': 5303, 'capture': 5304, 'Magazine': 5305, 'enhanced': 5306, 'Abbott': 5307, 'Dean': 5308, 'bounce': 5309, 'unanimously': 5310, 'Engineering': 5311, 'blocked': 5312, 'titles': 5313, 'capable': 5314, 'donations': 5315, 'vacant': 5316, 'cheating': 5317, 'pictures': 5318, 'deposit': 5319, 'Salt': 5320, 'yields': 5321, 'roles': 5322, 'Aberdeen': 5323, 'volatile': 5324, 'apologised': 5325, 'Syracuse': 5326, 'Calgary': 5327, 'abducted': 5328, 'Oak': 5329, 'Myers': 5330, 'lifts': 5331, 'donates': 5332, 'couldn': 5333, 'closely': 5334, 'permission': 5335, 'Worldwide': 5336, 'climbed': 5337, 'Mars': 5338, 'easier': 5339, 'Out': 5340, 'prisoner': 5341, 'Transportation': 5342, 'importance': 5343, 'prompting': 5344, 'FORMER': 5345, 'Luis': 5346, 'moderate': 5347, 'employer': 5348, 'crushed': 5349, 'outfit': 5350, '81': 5351, 'Angels': 5352, 'UEFA': 5353, 'parks': 5354, 'Joel': 5355, 'Ridge': 5356, 'reviews': 5357, 'jumps': 5358, 'escapes': 5359, 'younger': 5360, 'Belgian': 5361, '360': 5362, 'angry': 5363, 'gunmen': 5364, 'capabilities': 5365, 'statewide': 5366, 'execution': 5367, 'carpet': 5368, 'screening': 5369, 'guitarist': 5370, 'serial': 5371, 'bosses': 5372, 'playoffs': 5373, 'filmmaker': 5374, 'weighed': 5375, 'fundraiser': 5376, 'triggered': 5377, 'Hull': 5378, 'Christchurch': 5379, 'deposits': 5380, 'Technical': 5381, 'challenging': 5382, 'pastor': 5383, '79': 5384, 'pneumonia': 5385, 'neutral': 5386, 'restraining': 5387, 'Butler': 5388, 'obesity': 5389, 'XVI': 5390, 'compliance': 5391, 'Mining': 5392, 'organised': 5393, 'survival': 5394, 'faith': 5395, 'rumours': 5396, 'fame': 5397, 'Kabul': 5398, 'default': 5399, 'Ball': 5400, 'severely': 5401, 'explore': 5402, 'Left': 5403, 'Shares': 5404, 'Dennis': 5405, 'Edinburgh': 5406, 'Southeast': 5407, 'leaked': 5408, 'duties': 5409, 'Giffords': 5410, '25th': 5411, 'sponsored': 5412, 'Lisa': 5413, 'Mariners': 5414, 'bull': 5415, 'Cuomo': 5416, 'images': 5417, 'pledge': 5418, 'guidelines': 5419, '130': 5420, 'extremely': 5421, 'publishing': 5422, 'diseases': 5423, 'Conservative': 5424, 'delivering': 5425, 'ceasefire': 5426, 'opponents': 5427, '2nd': 5428, 'pact': 5429, 'Customs': 5430, 'Minneapolis': 5431, 'Strong': 5432, 'inmates': 5433, 'colleges': 5434, 'rumors': 5435, 'warm': 5436, 'Marion': 5437, '78': 5438, 'affordable': 5439, 'accepts': 5440, 'comedian': 5441, '101': 5442, 'Mohammad': 5443, 'miners': 5444, 'remember': 5445, 'upper': 5446, 'smuggling': 5447, 'Mercedes': 5448, 'Oman': 5449, 'Brady': 5450, 'cycling': 5451, 'Dead': 5452, 'Final': 5453, 'lunch': 5454, 'newspapers': 5455, 'Twilight': 5456, 'variety': 5457, 'Tonight': 5458, 'Angela': 5459, 'Albany': 5460, 'bids': 5461, 'apart': 5462, 'efficient': 5463, 'U': 5464, 'Data': 5465, 'urban': 5466, 'Kenyan': 5467, 'Albert': 5468, 'diamond': 5469, '500000': 5470, 'kicking': 5471, 'Castro': 5472, 'differences': 5473, 'Jane': 5474, 'Conrad': 5475, 'Whitney': 5476, 'UCLA': 5477, 'cinema': 5478, 'Marathon': 5479, 'raw': 5480, 'Criminal': 5481, 'Future': 5482, 'haven': 5483, 'replacement': 5484, 'weakness': 5485, '2.5': 5486, 'Zoo': 5487, 'naked': 5488, 'SUV': 5489, 'recovers': 5490, 'Charleston': 5491, 'indefinitely': 5492, 'museum': 5493, 'Inflation': 5494, 'crop': 5495, 'hostage': 5496, 'definitely': 5497, 'audit': 5498, 'Crystal': 5499, 'Should': 5500, 'household': 5501, 'Fred': 5502, 'Staff': 5503, 'Tulsa': 5504, 'achieve': 5505, 'Tibet': 5506, 'Glee': 5507, 'appealing': 5508, 'trail': 5509, 'Floyd': 5510, 'download': 5511, 'Denmark': 5512, 'Average': 5513, 'cautious': 5514, 'Gillard': 5515, 'quiet': 5516, 'executed': 5517, 'Basketball': 5518, 'TMZ': 5519, 'defeating': 5520, 'royal': 5521, 'Sioux': 5522, 'wickets': 5523, 'gambling': 5524, 'Trump': 5525, 'unbeaten': 5526, 'withdrew': 5527, 'Malta': 5528, 'eyes': 5529, 'Parents': 5530, 'Lloyd': 5531, 'transit': 5532, 'burglaries': 5533, 'document': 5534, 'mini': 5535, 'Tesco': 5536, 'sensitive': 5537, 'Studios': 5538, 'badly': 5539, 'turmoil': 5540, 'Morris': 5541, 'Sebastian': 5542, 'scientific': 5543, 'distributor': 5544, 'Mayer': 5545, 'retained': 5546, 'Harbor': 5547, '25000': 5548, 'booked': 5549, 'Richardson': 5550, 'Medicine': 5551, 'Harrison': 5552, 'Investors': 5553, 'Finnish': 5554, 'views': 5555, 'Rudd': 5556, 'garage': 5557, 'reopens': 5558, 'demonstration': 5559, 'mainly': 5560, 'roadside': 5561, 'fines': 5562, 'representing': 5563, 'indicated': 5564, 'Morning': 5565, 'woes': 5566, 'Wildlife': 5567, 'Midwest': 5568, 'sick': 5569, 'Independence': 5570, 'telephone': 5571, 'departments': 5572, 'largely': 5573, 'Le': 5574, 'placement': 5575, '87': 5576, 'breach': 5577, 'eliminated': 5578, 'gaining': 5579, 'Transit': 5580, 'merge': 5581, 'discount': 5582, 'recommended': 5583, 'bolster': 5584, 'robber': 5585, 'transferred': 5586, '1.3': 5587, 'hometown': 5588, 'batsman': 5589, 'Bull': 5590, 'aim': 5591, 'tower': 5592, 'Siemens': 5593, 'tractor': 5594, 'Taipei': 5595, 'secondary': 5596, 'lineman': 5597, 'Walsh': 5598, 'Wichita': 5599, 'reverse': 5600, 'basic': 5601, 'universities': 5602, 'Assam': 5603, 'pledges': 5604, 'Teacher': 5605, 'Haven': 5606, 'Hartford': 5607, 'surveillance': 5608, 'manufacturers': 5609, 'Lines': 5610, 'insurgents': 5611, 'unpaid': 5612, 'expensive': 5613, 'narrowly': 5614, 'climb': 5615, 'dress': 5616, 'gunman': 5617, 'contribute': 5618, 'sensation': 5619, 'frontman': 5620, 'ninth': 5621, 'Newark': 5622, 'spectrum': 5623, 'cope': 5624, 'Amitabh': 5625, 'organized': 5626, 'Travis': 5627, 'audio': 5628, 'Wigan': 5629, 'remembered': 5630, 'editor': 5631, 'Osama': 5632, 'aiming': 5633, 'Lahore': 5634, 'Key': 5635, 'grounds': 5636, 'nude': 5637, 'splits': 5638, 'silence': 5639, 'Philip': 5640, 'impressive': 5641, 'selects': 5642, 'thin': 5643, 'Conn': 5644, 'Walter': 5645, 'Hazare': 5646, 'backing': 5647, 'Mariah': 5648, 'Istanbul': 5649, 'electrical': 5650, 'Amber': 5651, 'preparation': 5652, 'Discovery': 5653, 'Turner': 5654, 'Andhra': 5655, 'responding': 5656, 'knot': 5657, 'Boyle': 5658, 'grain': 5659, 'statements': 5660, 'Swansea': 5661, 'pulling': 5662, 'pattern': 5663, 'appearing': 5664, 'waived': 5665, 'participation': 5666, 'lightning': 5667, 'vision': 5668, 'motion': 5669, 'iconic': 5670, 'ambulance': 5671, 'heavily': 5672, 'Bus': 5673, 'Train': 5674, 'Farm': 5675, 'Jury': 5676, 'centres': 5677, 'Nearly': 5678, 'mentally': 5679, 'Month': 5680, 'strain': 5681, 'teenagers': 5682, 'Norfolk': 5683, 'sit': 5684, 'Rehman': 5685, 'farmer': 5686, 'decrease': 5687, 'print': 5688, 'Continental': 5689, 'Tunisia': 5690, 'migrants': 5691, 'EUR': 5692, 'indefinite': 5693, 'drives': 5694, 'recruit': 5695, 'Even': 5696, 'Survey': 5697, 'drill': 5698, 'extreme': 5699, 'stages': 5700, 'LP': 5701, 'organisation': 5702, 'Glenn': 5703, 'iTunes': 5704, 'Sheffield': 5705, 'OPEC': 5706, 'Constitution': 5707, 'Mohamed': 5708, 'unprecedented': 5709, 'nursing': 5710, 'Manning': 5711, 'knew': 5712, 'encouraged': 5713, 'pump': 5714, 'northwestern': 5715, 'crossed': 5716, '89': 5717, 'wildlife': 5718, 'punishment': 5719, 'renowned': 5720, 'focusing': 5721, 'Winnipeg': 5722, 'preferred': 5723, 'jewelry': 5724, 'cyber': 5725, 'challenged': 5726, 'tag': 5727, 'throat': 5728, 'dad': 5729, 'Gallagher': 5730, 'destination': 5731, 'Derek': 5732, 'Sena': 5733, 'Raj': 5734, 'academic': 5735, 'Austrian': 5736, 'telecommunications': 5737, 'master': 5738, 'wholesale': 5739, 'numerous': 5740, 'Brien': 5741, 'Captain': 5742, 'mounting': 5743, 'Hunter': 5744, 'Opera': 5745, 'IPL': 5746, 'yard': 5747, 'swim': 5748, 'lawmaker': 5749, 'indecent': 5750, 'hiding': 5751, 'Q': 5752, 'safely': 5753, 'Rockies': 5754, 'renews': 5755, 'crunch': 5756, 'DNA': 5757, 'rankings': 5758, 'optimistic': 5759, 'behalf': 5760, 'gasoline': 5761, '92': 5762, 'travelling': 5763, 'therapy': 5764, 'grocery': 5765, 'Gay': 5766, 'unless': 5767, 'Richie': 5768, 'gross': 5769, 'Omar': 5770, 'reiterated': 5771, 'overdose': 5772, 'fireworks': 5773, 'subscribers': 5774, 'curb': 5775, 'ranking': 5776, 'Band': 5777, 'ones': 5778, 'priest': 5779, 'thousand': 5780, 'occasion': 5781, 'Hindu': 5782, 'graduate': 5783, 'contribution': 5784, 'publication': 5785, 'acquiring': 5786, 'parole': 5787, 'McDonald': 5788, 'Bar': 5789, 'anchor': 5790, 'wounds': 5791, 'mom': 5792, 'foundation': 5793, 'retain': 5794, 'Urban': 5795, 'governance': 5796, 'happen': 5797, 'mild': 5798, 'semifinals': 5799, 'tablets': 5800, 'Jail': 5801, 'Pune': 5802, 'Junior': 5803, 'tentative': 5804, 'concept': 5805, 'guy': 5806, 'medals': 5807, 'Sierra': 5808, 'carriers': 5809, 'favour': 5810, 'Dog': 5811, 'ace': 5812, 'IST': 5813, 'Hot': 5814, 'fat': 5815, 'mill': 5816, 'pollution': 5817, 'exciting': 5818, 'McLaren': 5819, 'flames': 5820, 'Doherty': 5821, 'Bullock': 5822, 'mistakes': 5823, 'Chamber': 5824, 'Cheney': 5825, 'seminar': 5826, 'pose': 5827, 'qualified': 5828, 'imported': 5829, 'Apr': 5830, 'intersection': 5831, 'effectively': 5832, 'Lexington': 5833, 'proceedings': 5834, 'Diaz': 5835, 'Hugh': 5836, 'Maruti': 5837, 'administrative': 5838, 'Wade': 5839, 'expelled': 5840, 'frozen': 5841, 'runner': 5842, 'risen': 5843, 'Brent': 5844, 'allies': 5845, 'recruiting': 5846, 'Ill': 5847, 'bench': 5848, '13th': 5849, 'grows': 5850, 'offenders': 5851, 'understand': 5852, 'brush': 5853, 'Turkmenistan': 5854, 'nationals': 5855, 'suburb': 5856, 'projected': 5857, 'fights': 5858, 'Voice': 5859, 'grave': 5860, 'th': 5861, 'Ecuador': 5862, 'warnings': 5863, 'Charges': 5864, 'coastal': 5865, 'intent': 5866, 'Gene': 5867, 'Representative': 5868, 'educational': 5869, 'spy': 5870, 'towns': 5871, 'readers': 5872, 'Freddie': 5873, 'Shell': 5874, 'grown': 5875, 'lifestyle': 5876, 'Buffett': 5877, 'protesting': 5878, 'deported': 5879, 'Valentine': 5880, 'Satyam': 5881, 'Narendra': 5882, 'Professor': 5883, '17th': 5884, 'shape': 5885, 'beautiful': 5886, 'Wind': 5887, 'McCarthy': 5888, 'modest': 5889, '1.4': 5890, 'Baker': 5891, 'Newport': 5892, 'Berry': 5893, 'Lucas': 5894, 'Thackeray': 5895, 'pursue': 5896, 'Wyoming': 5897, 'infant': 5898, 'threaten': 5899, 'Orissa': 5900, '200000': 5901, 'answers': 5902, 'Cruz': 5903, 'Ryanair': 5904, 'Motion': 5905, 'Michele': 5906, 'drinks': 5907, 'Keys': 5908, 'Bradford': 5909, 'meters': 5910, 'molestation': 5911, 'Dark': 5912, 'oath': 5913, 'questioned': 5914, 'certification': 5915, 'likes': 5916, 'knows': 5917, 'Arsene': 5918, '14th': 5919, 'Foster': 5920, 'Reed': 5921, 'declaration': 5922, 'Maple': 5923, 'inter': 5924, 'Goa': 5925, 'simple': 5926, 'chiefs': 5927, 'Bear': 5928, 'Jharkhand': 5929, 'freight': 5930, 'admitting': 5931, 'Rod': 5932, 'mystery': 5933, 'Johansson': 5934, 'machines': 5935, 'checkpoint': 5936, 'plc': 5937, 'infringement': 5938, '3G': 5939, 'Vincent': 5940, 'Rays': 5941, 'Target': 5942, 'ethics': 5943, 'handling': 5944, 'reduces': 5945, 'portal': 5946, 'disappointed': 5947, 'substantial': 5948, 'Mutual': 5949, 'secures': 5950, 'developments': 5951, 'willing': 5952, 'availability': 5953, 'vendor': 5954, 'reconciliation': 5955, 'talked': 5956, 'assured': 5957, 'Muammar': 5958, 'lesbian': 5959, 'thriller': 5960, 'implementation': 5961, 'lease': 5962, 'holders': 5963, 'medium': 5964, 'flow': 5965, 'Champion': 5966, 'Walmart': 5967, 'routine': 5968, 'Darren': 5969, 'survives': 5970, 'chair': 5971, 'Medicare': 5972, 'dairy': 5973, 'explosive': 5974, 'Sugar': 5975, 'Welsh': 5976, 'Wolves': 5977, 'parked': 5978, 'innocent': 5979, 'Cox': 5980, 'destroy': 5981, 'Action': 5982, 'Record': 5983, 'licenses': 5984, 'emerge': 5985, 'maintained': 5986, 'Qaida': 5987, 'Animal': 5988, 'promise': 5989, 'Bonds': 5990, 'stream': 5991, '88': 5992, 'soft': 5993, 'Speedway': 5994, 'packaging': 5995, 'camps': 5996, 'Pictures': 5997, 'urge': 5998, 'Colombo': 5999, 'settles': 6000, 'apologises': 6001, 'calm': 6002, 'Tournament': 6003, 'Properties': 6004, '7th': 6005, 'Smart': 6006, 'confessed': 6007, 'earth': 6008, 'disciplinary': 6009, 'essential': 6010, 'Vanessa': 6011, 'interactive': 6012, 'category': 6013, 'bust': 6014, 'insurer': 6015, 'specific': 6016, 'diet': 6017, 'Ratings': 6018, 'Jintao': 6019, 'Maoist': 6020, 'connected': 6021, 'Ronnie': 6022, 'boosting': 6023, 'require': 6024, 'homeowners': 6025, 'Somerset': 6026, 'yuan': 6027, 'glass': 6028, 'Silvio': 6029, 'corn': 6030, 'Vermont': 6031, 'Panasonic': 6032, 'rapidly': 6033, 'Herald': 6034, 'Border': 6035, 'colleagues': 6036, 'Slovenia': 6037, 'boats': 6038, 'Yorkshire': 6039, 'concerts': 6040, 'tobacco': 6041, 'LG': 6042, 'ICC': 6043, 'Master': 6044, 'clearing': 6045, 'cues': 6046, 'moon': 6047, 'discussions': 6048, 'arraigned': 6049, 'Amtrak': 6050, 'Bros': 6051, 'Adrian': 6052, 'Jong': 6053, 'slated': 6054, 'honors': 6055, 'seconds': 6056, '94': 6057, 'hijacked': 6058, 'Nathan': 6059, 'creates': 6060, 'Teachers': 6061, 'vulnerable': 6062, 'Peterson': 6063, 'Ashes': 6064, 'constitutional': 6065, 'Naomi': 6066, 'Vince': 6067, 'SEC': 6068, 'trends': 6069, 'pupils': 6070, 'Bryan': 6071, 'Spurs': 6072, 'chronic': 6073, '2016': 6074, 'Airtel': 6075, 'finances': 6076, 'tours': 6077, 'revolution': 6078, 'Traffic': 6079, 'BHP': 6080, 'Winfrey': 6081, 'Starbucks': 6082, 'activated': 6083, 'flash': 6084, 'exporters': 6085, 'layoffs': 6086, 'Catherine': 6087, 'Ward': 6088, 'Suisse': 6089, 'equal': 6090, 'hop': 6091, 'Stoke': 6092, 'underground': 6093, 'Paterson': 6094, 'Blagojevich': 6095, 'Rovers': 6096, 'donate': 6097, 'plunge': 6098, 'Witherspoon': 6099, 'OS': 6100, 'rubber': 6101, 'Rocky': 6102, 'Nawaz': 6103, 'consulting': 6104, 'Penguins': 6105, 'mortgages': 6106, 'cardiac': 6107, 'Kutcher': 6108, 'Commercial': 6109, 'choose': 6110, 'riot': 6111, 'invites': 6112, 'suggest': 6113, 'liver': 6114, 'Portuguese': 6115, 'logo': 6116, 'difference': 6117, 'NZ': 6118, 'Rescue': 6119, 'ailing': 6120, 'sentencing': 6121, 'Poor': 6122, 'percentage': 6123, 'prompted': 6124, 'racial': 6125, 'Boulevard': 6126, 'Kids': 6127, 'Oxford': 6128, 'Northwest': 6129, 'lottery': 6130, 'gathering': 6131, 'Macedonia': 6132, 'unconscious': 6133, 'donation': 6134, 'AIDS': 6135, 'SC': 6136, 'Rail': 6137, 'represent': 6138, 'Sindh': 6139, '09': 6140, 'reward': 6141, 'Hungarian': 6142, 'spell': 6143, 'Tri': 6144, 'DVD': 6145, 'Plan': 6146, 'install': 6147, 'Thomson': 6148, 'quarterfinals': 6149, 'Couple': 6150, 'Hamburg': 6151, 'Brook': 6152, 'Essex': 6153, 'eve': 6154, 'hardware': 6155, 'owns': 6156, 'Mamata': 6157, 'purchased': 6158, 'regulation': 6159, 'Lakes': 6160, 'Minn': 6161, 'soaring': 6162, 'disorder': 6163, 'filming': 6164, 'Duncan': 6165, 'Veterans': 6166, 'wouldn': 6167, 'bombs': 6168, 'bowler': 6169, 'bonuses': 6170, 'speeding': 6171, 'aren': 6172, 'spreading': 6173, 'Leicester': 6174, '4000': 6175, 'finale': 6176, 'hotels': 6177, 'Cedar': 6178, 'encourage': 6179, 'Nile': 6180, 'Jamaica': 6181, 'insisting': 6182, 'originally': 6183, 'nature': 6184, 'molesting': 6185, 'cool': 6186, 'JPMorgan': 6187, 'Aguilera': 6188, 'Michaels': 6189, 'touched': 6190, 'hamstring': 6191, 'mogul': 6192, 'Cold': 6193, 'toss': 6194, 'Guinea': 6195, 'addresses': 6196, 'suite': 6197, 'applied': 6198, 'Study': 6199, 'Benjamin': 6200, 'singing': 6201, 'bronze': 6202, 'PPP': 6203, 'Bennett': 6204, 'Housewives': 6205, 'Longoria': 6206, 'beta': 6207, 'overturned': 6208, 'affecting': 6209, 'revealing': 6210, 'Greater': 6211, 'alleging': 6212, 'clerk': 6213, 'insider': 6214, 'procedure': 6215, 'thinking': 6216, 'Mae': 6217, 'Lambert': 6218, 'shoppers': 6219, 'volunteer': 6220, 'Richards': 6221, 'shootings': 6222, 'Janata': 6223, 'Carrie': 6224, 'Bharti': 6225, 'Daytona': 6226, 'Mo': 6227, 'Miliband': 6228, 'resulted': 6229, 'provinces': 6230, 'Natalie': 6231, 'intensive': 6232, 'Miranda': 6233, 'Zsa': 6234, 'cooperate': 6235, 'Workers': 6236, 'traveling': 6237, 'Planning': 6238, 'Henderson': 6239, 'impose': 6240, 'TWO': 6241, 'appointments': 6242, 'Organisation': 6243, 'remanded': 6244, 'Harvard': 6245, 'Manuel': 6246, 'struggles': 6247, 'blocks': 6248, 'Temple': 6249, 'Knicks': 6250, 'Kahn': 6251, 'apps': 6252, 'rehabilitation': 6253, 'Nationwide': 6254, 'lights': 6255, 'Christians': 6256, 'Flood': 6257, 'Serena': 6258, 'Hope': 6259, 'Eds': 6260, 'Next': 6261, 'Crime': 6262, 'trainer': 6263, 'powered': 6264, 'blew': 6265, 'extradition': 6266, 'southwestern': 6267, 'favor': 6268, 'wildfire': 6269, 'express': 6270, 'Assistant': 6271, '1.1': 6272, 'seem': 6273, 'foul': 6274, 'devastating': 6275, 'rainfall': 6276, 'Saskatchewan': 6277, 'absolutely': 6278, 'Powell': 6279, 'Athletics': 6280, 'lowered': 6281, 'else': 6282, 'shootout': 6283, 'tumor': 6284, 'km': 6285, 'Casino': 6286, 'picking': 6287, 'bullet': 6288, 'excessive': 6289, 'HD': 6290, 'Hezbollah': 6291, 'Arthur': 6292, 'GDP': 6293, 'guru': 6294, 'Total': 6295, 'Bancorp': 6296, 'Geneva': 6297, 'however': 6298, 'controls': 6299, '1.6': 6300, 'Vietnamese': 6301, 'Tea': 6302, 'Kobe': 6303, 'symptoms': 6304, 'SAP': 6305, 'tens': 6306, 'walks': 6307, 'Expo': 6308, 'Work': 6309, 'develops': 6310, '2002': 6311, 'Danish': 6312, 'romantic': 6313, 'V': 6314, 'offerings': 6315, 'Canyon': 6316, 'extensive': 6317, 'intention': 6318, 'Zambia': 6319, 'remake': 6320, 'Depp': 6321, 'Tsvangirai': 6322, 'Rich': 6323, 'Right': 6324, 'refugee': 6325, 'Rolling': 6326, '4G': 6327, 'Holding': 6328, 'cheap': 6329, 'enjoyed': 6330, 'Revenue': 6331, 'finishes': 6332, 'Margaret': 6333, 'marathon': 6334, 'arrival': 6335, 'Uganda': 6336, 'theatre': 6337, 'issuing': 6338, '350': 6339, 'breakfast': 6340, 'Dayton': 6341, 'conservation': 6342, 'prevention': 6343, 'fleeing': 6344, 'Glen': 6345, 'Patil': 6346, 'Alberto': 6347, 'globally': 6348, 'policemen': 6349, 'Stuart': 6350, 'Burma': 6351, 'spin': 6352, 'meant': 6353, 'listing': 6354, 'Hathaway': 6355, 'Volkswagen': 6356, 'stemming': 6357, 'excited': 6358, 'Book': 6359, 'Harvey': 6360, 'sustainability': 6361, 'Rams': 6362, 'Djokovic': 6363, 'citizenship': 6364, '18th': 6365, 'exactly': 6366, 'dragged': 6367, 'Reese': 6368, 'navy': 6369, 'accounting': 6370, 'jumping': 6371, 'Europa': 6372, 'cornerback': 6373, 'format': 6374, 'deployment': 6375, 'specialty': 6376, 'containing': 6377, 'revive': 6378, 'Bolt': 6379, 'Sharon': 6380, 'Infosys': 6381, 'neighbor': 6382, 'Des': 6383, 'Karl': 6384, 'strengthening': 6385, 'Helen': 6386, 'backup': 6387, 'Nikkei': 6388, 'Chopra': 6389, 'Palmer': 6390, 'Skype': 6391, 'Comedian': 6392, '15th': 6393, 'Beatles': 6394, '1.7': 6395, 'proved': 6396, 'Yousuf': 6397, 'paise': 6398, 'Analyst': 6399, 'shark': 6400, 'doubleheader': 6401, 'Bruins': 6402, 'vehicular': 6403, 'Cardiff': 6404, 'penalties': 6405, 'Webber': 6406, 'Theater': 6407, 'abused': 6408, 'athlete': 6409, 'par': 6410, 'taxpayers': 6411, 'attractive': 6412, 'institution': 6413, 'halted': 6414, 'Kyrgyz': 6415, 'appealed': 6416, 'compromise': 6417, 'horror': 6418, 'framework': 6419, 'Aung': 6420, 'encouraging': 6421, 'Rain': 6422, 'repairs': 6423, 'warehouse': 6424, 'hospitalised': 6425, 'bitter': 6426, 'interior': 6427, 'Stevens': 6428, '911': 6429, 'pensions': 6430, 'prosecution': 6431, 'defamation': 6432, 'Chargers': 6433, 'Plus': 6434, 'Kingston': 6435, 'trained': 6436, 'Hosni': 6437, 'ancient': 6438, 'cliff': 6439, 'Tripoli': 6440, 'inspection': 6441, 'Representatives': 6442, 'satellites': 6443, 'proceeds': 6444, 'motorcyclist': 6445, 'Sullivan': 6446, 'Fabio': 6447, 'Renault': 6448, 'WOMAN': 6449, 'Like': 6450, 'Colts': 6451, 'shoes': 6452, 'catcher': 6453, 'licensing': 6454, 'Ellen': 6455, 'circumstances': 6456, 'disputes': 6457, 'Secret': 6458, 'Fulham': 6459, 'ideas': 6460, 'Paso': 6461, 'seniors': 6462, 'regrets': 6463, 'posed': 6464, 'communist': 6465, 'foreigners': 6466, 'Brands': 6467, 'battered': 6468, 'Ice': 6469, 'Boris': 6470, 'Scarlett': 6471, '2500': 6472, 'Dozens': 6473, 'infielder': 6474, '2020': 6475, 'shipments': 6476, 'analytics': 6477, 'rider': 6478, 'Jaguars': 6479, 'stick': 6480, 'elephant': 6481, 'Bomb': 6482, 'Archbishop': 6483, 'Niagara': 6484, 'Fall': 6485, 'Busch': 6486, 'policeman': 6487, 'Capello': 6488, 'Bhd': 6489, 'margin': 6490, 'Imran': 6491, 'iOS': 6492, 'pack': 6493, 'scientist': 6494, 'Eurozone': 6495, 'Prosecutors': 6496, 'Blacks': 6497, 'correspondent': 6498, 'destinations': 6499, 'tips': 6500, 'Millions': 6501, 'Tel': 6502, '1200': 6503, 'amendment': 6504, '3.5': 6505, 'outsourcing': 6506, 'neighbours': 6507, 'PML': 6508, 'runway': 6509, 'judiciary': 6510, 'Broadcasting': 6511, 'vacation': 6512, 'Oliver': 6513, 'piracy': 6514, 'governing': 6515, 'productivity': 6516, 'Ram': 6517, 'pond': 6518, 'experienced': 6519, 'Sudanese': 6520, 'Political': 6521, 'miner': 6522, 'complications': 6523, 'imprisonment': 6524, 'turbine': 6525, 'IPO': 6526, 'Australians': 6527, 'ET': 6528, 'priced': 6529, 'understanding': 6530, 'Dhoni': 6531, 'journal': 6532, 'Raja': 6533, 'commissioners': 6534, 'declaring': 6535, 'LONDON': 6536, 'praise': 6537, 'mines': 6538, 'possessing': 6539, 'Rodgers': 6540, 'spree': 6541, 'damaging': 6542, 'levy': 6543, 'Fish': 6544, 'resulting': 6545, 'Princess': 6546, 'Adele': 6547, 'courses': 6548, 'Coca': 6549, '4th': 6550, 'autism': 6551, 'violated': 6552, 'Neal': 6553, 'dental': 6554, 'shortfall': 6555, 'Bachmann': 6556, 'Ethiopia': 6557, 'Hornets': 6558, 'Huntington': 6559, 'doubt': 6560, '15000': 6561, 'congratulates': 6562, 'Soldier': 6563, 'hinted': 6564, 'Durham': 6565, 'Providence': 6566, 'publish': 6567, 'handle': 6568, 'navigation': 6569, 'Rukh': 6570, 'Railways': 6571, 'Brendan': 6572, 'qualifier': 6573, 'pretty': 6574, 'Got': 6575, 'Petersburg': 6576, 'bout': 6577, 'Worth': 6578, 'Fresh': 6579, 'liquidity': 6580, 'kitchen': 6581, 'punched': 6582, 'Copper': 6583, 'Late': 6584, 'zoo': 6585, 'restructure': 6586, 'burst': 6587, 'rocker': 6588, '30000': 6589, 'Boss': 6590, 'History': 6591, 'surcharge': 6592, 'Joint': 6593, 'Kirk': 6594, 'stressed': 6595, 'actors': 6596, 'Monica': 6597, 'Resort': 6598, '000': 6599, 'maintains': 6600, 'Ave': 6601, 'addressed': 6602, 'villages': 6603, 'sorry': 6604, 'warrants': 6605, 'Reynolds': 6606, 'participating': 6607, 'Serie': 6608, 'Laura': 6609, 'Roma': 6610, 'bankers': 6611, 'rebounded': 6612, 'battled': 6613, 'teammate': 6614, 'Cola': 6615, 'Texans': 6616, 'sons': 6617, 'beaches': 6618, '40th': 6619, 'Reading': 6620, 'northeastern': 6621, 'endorsement': 6622, 'legs': 6623, 'reception': 6624, 'Relations': 6625, 'soil': 6626, 'Brooks': 6627, 'Upper': 6628, 'Wii': 6629, 'tip': 6630, 'deployed': 6631, 'symbol': 6632, 'Angel': 6633, 'tragedy': 6634, 'consensus': 6635, 'assessment': 6636, '110': 6637, 'genetic': 6638, 'congratulated': 6639, 'southeastern': 6640, 'salaries': 6641, 'ditch': 6642, 'toilet': 6643, 'hikes': 6644, 'Marco': 6645, 'Earthquake': 6646, 'personality': 6647, 'lab': 6648, 'Here': 6649, 'Cardinal': 6650, 'Down': 6651, 'solve': 6652, 'Mid': 6653, 'acquisitions': 6654, 'wholly': 6655, 'Yes': 6656, 'SAN': 6657, 'simply': 6658, 'gear': 6659, 'JP': 6660, 'Wallace': 6661, 'mum': 6662, 'pointed': 6663, 'Walt': 6664, 'Race': 6665, 'Pierce': 6666, 'repeatedly': 6667, 'engineer': 6668, 'Sharapova': 6669, 'Ivory': 6670, 'journey': 6671, 'discover': 6672, 'marries': 6673, 'explain': 6674, 'bounced': 6675, 'Aden': 6676, 'n': 6677, 'Front': 6678, 'LOS': 6679, 'Barton': 6680, 'contributions': 6681, 'formation': 6682, 'Timothy': 6683, 'wheel': 6684, 'segment': 6685, 'mph': 6686, 'letters': 6687, 'earns': 6688, 'enjoying': 6689, 'Marie': 6690, 'quarters': 6691, 'Favre': 6692, 'Doug': 6693, 'Bangkok': 6694, 'muscle': 6695, 'Rajya': 6696, 'transmission': 6697, 'Naval': 6698, 'intended': 6699, '140': 6700, 'Manila': 6701, 'addressing': 6702, 'Mourinho': 6703, 'Bruno': 6704, 'Direct': 6705, 'bribery': 6706, 'genocide': 6707, '9/11': 6708, 'Valencia': 6709, 'Carroll': 6710, 'bottle': 6711, 'deciding': 6712, 'torture': 6713, 'Notre': 6714, 'Voters': 6715, 'deer': 6716, 'treaty': 6717, 'Elderly': 6718, 'Astros': 6719, 'dismisses': 6720, 'weakens': 6721, 'Bundesliga': 6722, 'Tevez': 6723, 'generate': 6724, 'reunited': 6725, 'Betty': 6726, 'completing': 6727, 'Ground': 6728, 'HBO': 6729, 'Thunder': 6730, 'Geithner': 6731, 'convertible': 6732, 'Tucson': 6733, 'Riley': 6734, 'Banerjee': 6735, 'laundering': 6736, 'seekers': 6737, 'debts': 6738, 'Gilbert': 6739, 'Megan': 6740, 'Chuck': 6741, 'Interactive': 6742, 'Cash': 6743, 'spiritual': 6744, 'newborn': 6745, 'moments': 6746, 'Estate': 6747, 'marine': 6748, 'Minogue': 6749, 'wrist': 6750, 'noted': 6751, 'LSU': 6752, 'patents': 6753, 'Sofia': 6754, 'repeal': 6755, 'Senators': 6756, 'Lauren': 6757, 'erupted': 6758, 'Lionel': 6759, 'tension': 6760, 'spoken': 6761, 'Search': 6762, 'crush': 6763, 'tear': 6764, 'fugitive': 6765, 'Income': 6766, 'Sanjay': 6767, 'jewellery': 6768, 'criminals': 6769, 'proper': 6770, 'Suffolk': 6771, 'outage': 6772, 'Meeting': 6773, 'gifts': 6774, 'Khalifa': 6775, 'Enterprises': 6776, 'Minaj': 6777, 'Patel': 6778, '1/2': 6779, 'Tinto': 6780, 'Griffin': 6781, 'panic': 6782, 'Puerto': 6783, 'duo': 6784, 'Railway': 6785, 'operated': 6786, 'Well': 6787, 'Pregnant': 6788, 'Share': 6789, 'Jun': 6790, 'dominated': 6791, 'load': 6792, 'strengthens': 6793, 'slain': 6794, 'reject': 6795, 'disrupted': 6796, 'Hopkins': 6797, '2.2': 6798, 'whale': 6799, 'questioning': 6800, 'ANGELES': 6801, 'bowling': 6802, 'Gabrielle': 6803, 'economists': 6804, 'Bishop': 6805, 'plotting': 6806, 'chef': 6807, 'uncertain': 6808, 'sweeping': 6809, 'Parliamentary': 6810, 'exchanges': 6811, '93': 6812, 'stretch': 6813, 'quake': 6814, 'excellent': 6815, 'Equity': 6816, 'distributed': 6817, 'sidelined': 6818, 'Commander': 6819, 'partially': 6820, 'EA': 6821, 'quitting': 6822, 'factor': 6823, '3rd': 6824, 'retreat': 6825, 'Jakarta': 6826, 'Etihad': 6827, '6.5': 6828, 'Troy': 6829, 'circuit': 6830, 'Doctor': 6831, 'Bailey': 6832, 'recruitment': 6833, 'Angola': 6834, 'batting': 6835, 'degrees': 6836, 'wishes': 6837, 'Charter': 6838, 'horses': 6839, 'Halifax': 6840, 'Wi': 6841, 'lessons': 6842, 'religion': 6843, 'acclaimed': 6844, 'cycle': 6845, 'Nicki': 6846, 'relatives': 6847, 'Neill': 6848, 'Aamir': 6849, 'Ryder': 6850, 'reference': 6851, 'surprised': 6852, 'strategies': 6853, 'collective': 6854, 'dying': 6855, 'Rural': 6856, 'Tree': 6857, 'edges': 6858, 'guests': 6859, 'Benitez': 6860, 'Lawyers': 6861, 'retains': 6862, 'Windsor': 6863, 'steep': 6864, 'distribute': 6865, 'Ahmad': 6866, 'fiance': 6867, 'command': 6868, 'advisor': 6869, 'Nielsen': 6870, 'programmes': 6871, '19th': 6872, 'Pre': 6873, 'Carlo': 6874, 'del': 6875, 'referee': 6876, 'footballer': 6877, 'partial': 6878, 'metres': 6879, 'AOL': 6880, 'drawn': 6881, 'matters': 6882, 'monsoon': 6883, 'garbage': 6884, 'singles': 6885, 'server': 6886, 'thieves': 6887, 'checked': 6888, 'struggled': 6889, 'Joey': 6890, 'adjusted': 6891, 'collected': 6892, '0.5': 6893, 'Castle': 6894, 'composer': 6895, 'Dhaka': 6896, 'covered': 6897, 'withdrawal': 6898, 'printing': 6899, 'lie': 6900, 'transactions': 6901, 'UPA': 6902, 'temple': 6903, 'regain': 6904, 'Trevor': 6905, 'Pfizer': 6906, 'advisers': 6907, 'sluggish': 6908, 'hanged': 6909, 'Belfast': 6910, 'IP': 6911, 'Reality': 6912, 'bombings': 6913, 'trooper': 6914, 'Croatia': 6915, 'Falcons': 6916, 'dip': 6917, 'Garcia': 6918, 'Victor': 6919, 'Trend': 6920, 'Blackhawks': 6921, 'Flight': 6922, 'shuts': 6923, 'consolidation': 6924, 'Maradona': 6925, 'sudden': 6926, 'rated': 6927, 'Marlins': 6928, 'Filipino': 6929, 'ranging': 6930, '21st': 6931, 'offense': 6932, 'portion': 6933, 'Bin': 6934, 'chicken': 6935, 'poisoning': 6936, 'Empire': 6937, 'presentation': 6938, 'counterparts': 6939, 'Base': 6940, 'Cristiano': 6941, 'lock': 6942, 'length': 6943, 'Arlington': 6944, 'participants': 6945, 'studying': 6946, 'overtime': 6947, 'buyout': 6948, 'Coventry': 6949, 'detected': 6950, 'eligible': 6951, 'rebuild': 6952, 'Novak': 6953, 'relating': 6954, 'Noel': 6955, 'NYC': 6956, 'tribunal': 6957, 'birds': 6958, 'Plymouth': 6959, 'approaching': 6960, 'Sanford': 6961, 'tougher': 6962, 'sponsorship': 6963, 'presenter': 6964, 'sidelines': 6965, 'meaning': 6966, 'veto': 6967, 'Fresno': 6968, 'Fiat': 6969, 'Movie': 6970, 'Gonzalez': 6971, 'reckless': 6972, 'Fi': 6973, 'finishing': 6974, 'function': 6975, 'strict': 6976, 'AAA': 6977, 'organisers': 6978, 'Schumacher': 6979, 'extraordinary': 6980, 'reliever': 6981, 'Dominican': 6982, '6th': 6983, 'rand': 6984, 'queen': 6985, 'Bath': 6986, 'Hotels': 6987, 'Knox': 6988, 'adopts': 6989, 'postpones': 6990, 'Mesa': 6991, 'coroner': 6992, 'drew': 6993, 'maritime': 6994, 'astronaut': 6995, 'Baptist': 6996, 'tanks': 6997, 'Lightning': 6998, 'grid': 6999, 'Mavericks': 7000, 'saves': 7001, 'Lyon': 7002, 'Preston': 7003, 'flew': 7004, 'Scotia': 7005, 'FDA': 7006, 'fixing': 7007, 'resigning': 7008, 'reaction': 7009, 'belt': 7010, 'contender': 7011, 'Noble': 7012, 'suddenly': 7013, 'empty': 7014, 'brutal': 7015, 'sank': 7016, 'rounds': 7017, 'maintaining': 7018, 'GE': 7019, 'wrestling': 7020, 'improvements': 7021, 'packed': 7022, 'ramp': 7023, 'Spice': 7024, 'Revolution': 7025, 'Flyers': 7026, 'Riverside': 7027, 'Shaun': 7028, 'brawl': 7029, 'Draft': 7030, '125': 7031, 'globe': 7032, 'Weekly': 7033, 'Chilean': 7034, 'farewell': 7035, 'O2': 7036, 'dubbed': 7037, 'sisters': 7038, 'Gray': 7039, 'Aussie': 7040, 'cannabis': 7041, 'Venture': 7042, 'collect': 7043, 'pioneer': 7044, 'Myrtle': 7045, 'du': 7046, 'pizza': 7047, 'Pizza': 7048, 'heritage': 7049, 'consequences': 7050, 'surrender': 7051, 'components': 7052, 'engineers': 7053, 'stayed': 7054, 'reviewing': 7055, 'Postal': 7056, 'Ministers': 7057, 'Clippers': 7058, 'cream': 7059, 'shore': 7060, 'map': 7061, 'implemented': 7062, 'propose': 7063, 'protected': 7064, 'Perez': 7065, 'campaigns': 7066, 'ray': 7067, 'lawsuits': 7068, 'Ledger': 7069, 'swings': 7070, 'decides': 7071, 'hails': 7072, 'promotions': 7073, 'Clemens': 7074, 'Back': 7075, 'orbit': 7076, 'mandatory': 7077, 'acute': 7078, 'Erie': 7079, 'Vijay': 7080, 'testify': 7081, 'truth': 7082, 'F1': 7083, 'Policy': 7084, 'chips': 7085, 'method': 7086, 'Winston': 7087, 'fate': 7088, 'external': 7089, 'Swan': 7090, 'institute': 7091, 'CA': 7092, 'consultancy': 7093, 'theater': 7094, 'biopic': 7095, 'hundred': 7096, 'medicines': 7097, 'subscription': 7098, 'Underwood': 7099, 'lifetime': 7100, 'CIA': 7101, 'Ki': 7102, 'publicist': 7103, 'accusations': 7104, 'Fourth': 7105, 'speaker': 7106, 'rolling': 7107, 'athletic': 7108, 'Communist': 7109, 'purpose': 7110, 'Carlisle': 7111, '6000': 7112, 'tattoo': 7113, 'polling': 7114, 'Pratt': 7115, 'restart': 7116, 'Greene': 7117, 'Blood': 7118, 'Banking': 7119, 'popularity': 7120, 'Training': 7121, 'Severe': 7122, 'Padres': 7123, 'Georgetown': 7124, 'rough': 7125, 'survivors': 7126, 'contained': 7127, 'amazing': 7128, 'arena': 7129, 'Medicaid': 7130, 'batch': 7131, 'particular': 7132, 'stakes': 7133, 'Zone': 7134, 'lockout': 7135, 'kidnap': 7136, 'handset': 7137, 'Alicia': 7138, 'Merrill': 7139, 'Boxing': 7140, 'platforms': 7141, 'explodes': 7142, 'Rivers': 7143, 'Reddy': 7144, 'voter': 7145, 'opposite': 7146, 'inappropriate': 7147, 'influential': 7148, 'revival': 7149, 'stomach': 7150, 'swung': 7151, 'Yadav': 7152, 'Krishna': 7153, 'setback': 7154, 'eBay': 7155, '400000': 7156, 'electoral': 7157, 'chemicals': 7158, 'organic': 7159, 'approached': 7160, 'Olmert': 7161, 'Phone': 7162, 'Leonardo': 7163, 'Sabah': 7164, 'Santos': 7165, 'ballots': 7166, 'Reporter': 7167, 'breakthrough': 7168, 'ally': 7169, 'blasted': 7170, 'concrete': 7171, 'pipe': 7172, 'Humphries': 7173, 'requested': 7174, 'hoped': 7175, 'pointing': 7176, 'Duchess': 7177, 'Billiton': 7178, 'romance': 7179, 'Clayton': 7180, 'prayer': 7181, 'predict': 7182, 'forming': 7183, 'invested': 7184, 'dumping': 7185, 'performances': 7186, 'oppose': 7187, 'Toledo': 7188, 'founded': 7189, 'furniture': 7190, 'Billboard': 7191, 'Bengals': 7192, 'Nottingham': 7193, 'competing': 7194, 'disorderly': 7195, 'Modern': 7196, 'Toshiba': 7197, 'meter': 7198, 'fierce': 7199, 'smashed': 7200, 'Shiv': 7201, 'cotton': 7202, 'Rossi': 7203, 'Crews': 7204, 'Holy': 7205, 'Netflix': 7206, 'Miguel': 7207, 'Sales': 7208, 'Investigators': 7209, 'Demand': 7210, 'replaces': 7211, 'midday': 7212, 'Plane': 7213, 'comfortable': 7214, 'drummer': 7215, 'seeded': 7216, 'adoption': 7217, 'sheet': 7218, 'washed': 7219, 'protecting': 7220, 'sore': 7221, 'boards': 7222, 'Coyotes': 7223, 'physically': 7224, 'pharmacy': 7225, 'Intelligence': 7226, 'shoe': 7227, 'stories': 7228, 'middleweight': 7229, 'corporation': 7230, 'Nova': 7231, 'Aviv': 7232, 'households': 7233, 'dressed': 7234, 'radical': 7235, 'Spider': 7236, 'Christ': 7237, 'loaded': 7238, 'panels': 7239, 'dpa': 7240, 'disappeared': 7241, 'ITV': 7242, 'Burlington': 7243, 'showcase': 7244, 'facial': 7245, 'altercation': 7246, 'stunning': 7247, 'tumbled': 7248, 'Amazoncom': 7249, 'facilitate': 7250, 'Tracy': 7251, 'permanently': 7252, 'sentences': 7253, 'eco': 7254, 'Bharatiya': 7255, 'Atletico': 7256, 'Age': 7257, 'Palestine': 7258, 'heating': 7259, 'Andrews': 7260, 'buyer': 7261, 'Eid': 7262, 'Janet': 7263, 'Anil': 7264, 'uniform': 7265, 'credits': 7266, 'Sergio': 7267, 'Gingrich': 7268, 'lashed': 7269, 'Internal': 7270, 'voluntarily': 7271, 'relay': 7272, 'burglar': 7273, 'WBC': 7274, 'golfer': 7275, 'videos': 7276, 'teammates': 7277, 'sun': 7278, 'tuition': 7279, 'Zac': 7280, 'laser': 7281, 'Wings': 7282, 'subsidies': 7283, 'opposes': 7284, 'concerning': 7285, 'Northeast': 7286, 'Hawks': 7287, 'eases': 7288, 'rescues': 7289, 'initiated': 7290, 'Raul': 7291, 'specifically': 7292, 'enhancing': 7293, 'unusual': 7294, 'Lancaster': 7295, 'humans': 7296, 'Spirit': 7297, 'Prairie': 7298, 'mouth': 7299, 'borders': 7300, 'nurses': 7301, 'FM': 7302, 'Jeffrey': 7303, 'Talent': 7304, 'institutional': 7305, 'Author': 7306, 'RBI': 7307, 'Brunswick': 7308, 'depth': 7309, '99': 7310, 'underage': 7311, '5th': 7312, 'Trail': 7313, 'gender': 7314, 'nurse': 7315, 'CNBC': 7316, 'linking': 7317, 'lover': 7318, 'lowers': 7319, 'farms': 7320, 'wider': 7321, 'desperate': 7322, 'promotes': 7323, 'Messi': 7324, '2001': 7325, 'brokerage': 7326, 'detective': 7327, 'Investments': 7328, 'covers': 7329, 'Clinic': 7330, 'succeed': 7331, 'Embassy': 7332, 'Matthews': 7333, 'Rockets': 7334, 'Irene': 7335, 'relative': 7336, 'wheelchair': 7337, 'exercises': 7338, 'designs': 7339, 'reunite': 7340, 'mothers': 7341, 'narrow': 7342, 'Katrina': 7343, 'Tyson': 7344, 'aware': 7345, 'Purdue': 7346, 'Lower': 7347, 'eventually': 7348, 'Days': 7349, 'derby': 7350, 'Diana': 7351, 'giants': 7352, 'clears': 7353, 'Nato': 7354, 'grenade': 7355, 'stone': 7356, 'Member': 7357, 'Claire': 7358, 'sleeping': 7359, 'Queens': 7360, 'Vick': 7361, 'graduates': 7362, 'advocates': 7363, 'Hodgson': 7364, 'Season': 7365, 'USC': 7366, 'snapped': 7367, 'incumbent': 7368, 'Panthers': 7369, 'diving': 7370, 'atomic': 7371, 'plenty': 7372, 'allocation': 7373, 'shocking': 7374, 'sprint': 7375, 'Ike': 7376, '30th': 7377, 'Seri': 7378, 'tragic': 7379, 'sporting': 7380, 'displaced': 7381, 'Gadhafi': 7382, 'yield': 7383, 'Carson': 7384, 'perhaps': 7385, 'bargain': 7386, 'interesting': 7387, 'Investigation': 7388, 'Madoff': 7389, 'strained': 7390, 'creditors': 7391, 'Hart': 7392, 'Wen': 7393, 'Category': 7394, 'laying': 7395, 'volatility': 7396, 'raids': 7397, 'Chandigarh': 7398, 'valuable': 7399, 'suppliers': 7400, 'lobby': 7401, 'Tenn': 7402, 'Anand': 7403, 'planting': 7404, 'Halloween': 7405, 'islands': 7406, 'Burke': 7407, 'Burton': 7408, 'indicates': 7409, 'logistics': 7410, 'exclusively': 7411, 'fever': 7412, 'floating': 7413, 'Gosselin': 7414, 'Islamist': 7415, 'Aliyev': 7416, 'pressures': 7417, 'fiery': 7418, 'evacuate': 7419, 'Dylan': 7420, 'Walk': 7421, 'Felipe': 7422, 'Restaurant': 7423, 'economist': 7424, 'Holland': 7425, 'successor': 7426, 'admit': 7427, 'flown': 7428, 'tiger': 7429, 'lays': 7430, 'bullying': 7431, 'messaging': 7432, 'permit': 7433, '250000': 7434, 'Claude': 7435, 'convert': 7436, 'laptop': 7437, 'engines': 7438, 'ton': 7439, 'puppy': 7440, 'mistake': 7441, 'Kraft': 7442, 'investigations': 7443, 'deploy': 7444, 'initially': 7445, 'passport': 7446, 'presenting': 7447, 'welterweight': 7448, 'Stones': 7449, 'iPod': 7450, 'Damon': 7451, 'Morocco': 7452, 'stood': 7453, 'ocean': 7454, 'container': 7455, 'nationally': 7456, 'respectively': 7457, 'Jul': 7458, 'Coalition': 7459, 'juvenile': 7460, 'dam': 7461, 'requests': 7462, 'App': 7463, 'rapid': 7464, 'bullish': 7465, 'Malawi': 7466, 'XI': 7467, 'Stamford': 7468, '160': 7469, '2.3': 7470, 'Paltrow': 7471, 'accidental': 7472, 'neighbors': 7473, 'Hayden': 7474, '2.7': 7475, 'Gardens': 7476, 'Algeria': 7477, 'Hussain': 7478, 'Hilary': 7479, 'secretly': 7480, 'Blackpool': 7481, 'albums': 7482, 'hostile': 7483, 'resolved': 7484, 'spends': 7485, 'Baba': 7486, 'confrontation': 7487, 'Fifth': 7488, 'Products': 7489, 'chat': 7490, 'hacked': 7491, 'Wilmington': 7492, 'opposed': 7493, 'Hero': 7494, 'elements': 7495, 'consolidate': 7496, 'Hurricanes': 7497, 'Ellis': 7498, 'carmaker': 7499, 'Kidman': 7500, 'shutting': 7501, 'Alert': 7502, 'arriving': 7503, 'Vettel': 7504, 'Gazprom': 7505, 'Hyundai': 7506, 'Johnston': 7507, 'intellectual': 7508, 'Gate': 7509, 'pak': 7510, 'RIM': 7511, 'pig': 7512, 'marginally': 7513, 'Mayo': 7514, 'Mayweather': 7515, 'historical': 7516, 'clinched': 7517, 'comic': 7518, 'ASEAN': 7519, 'massacre': 7520, 'draws': 7521, 'Diamondbacks': 7522, 'capsized': 7523, 'explains': 7524, 'ceiling': 7525, 'Vernon': 7526, 'mode': 7527, 'estimate': 7528, 'Khloe': 7529, 'Beirut': 7530, 'fruit': 7531, 'Button': 7532, 'Against': 7533, 'calendar': 7534, 'advocate': 7535, '225': 7536, 'Li': 7537, 'ash': 7538, 'ages': 7539, 'reputation': 7540, 'unite': 7541, 'Primary': 7542, 'scanner': 7543, 'Crawford': 7544, 'Paula': 7545, 'Members': 7546, 'Gwyneth': 7547, 'experiences': 7548, 'Marketing': 7549, 'Fairfax': 7550, 'entrepreneurs': 7551, 'agreeing': 7552, 'youngest': 7553, 'Clegg': 7554, 'flee': 7555, 'battles': 7556, 'BSE': 7557, 'Swine': 7558, 'adjourned': 7559, 'posing': 7560, 'funded': 7561, 'wounding': 7562, 'autopsy': 7563, 'booking': 7564, 'unexpected': 7565, 'Newt': 7566, 'hacking': 7567, 'Silva': 7568, 'banning': 7569, 'Grace': 7570, 'Common': 7571, 'Heather': 7572, 'MRI': 7573, 'Truck': 7574, 'Jade': 7575, 'Stores': 7576, 'Pilot': 7577, 'speeds': 7578, 'shortages': 7579, 'killings': 7580, 'approaches': 7581, 'Complex': 7582, '300000': 7583, 'barrels': 7584, 'restricted': 7585, 'Invitational': 7586, 'establishment': 7587, 'Dominique': 7588, 'predicts': 7589, 'Davidson': 7590, 'Skip': 7591, 'Tower': 7592, 'plug': 7593, 'windows': 7594, 'Pine': 7595, 'Drake': 7596, 'Fannie': 7597, 'firmer': 7598, 'highlights': 7599, 'blames': 7600, 'soul': 7601, 'seasonal': 7602, '4.5': 7603, '180': 7604, 'publishes': 7605, 'contempt': 7606, 'sweeps': 7607, 'slows': 7608, 'Parks': 7609, 'celebrities': 7610, 'Movement': 7611, 'Lion': 7612, 'operates': 7613, 'cricketer': 7614, 'Petrol': 7615, 'thus': 7616, 'shake': 7617, 'coup': 7618, 'Nuclear': 7619, 'Plant': 7620, 'contractors': 7621, 'Uzbekistan': 7622, 'Citi': 7623, 'Crosby': 7624, 'certainly': 7625, 'Rica': 7626, 'discusses': 7627, 'burden': 7628, 'negotiating': 7629, 'LTE': 7630, '+': 7631, 'subway': 7632, 'fractured': 7633, 'External': 7634, 'pink': 7635, 'Zimbabwean': 7636, 'Bernie': 7637, 'Corporate': 7638, 'ripped': 7639, 'neglect': 7640, 'Hewitt': 7641, 'Nasdaq': 7642, 'Raleigh': 7643, 'builder': 7644, 'spirit': 7645, 'boom': 7646, 'AFC': 7647, 'helicopters': 7648, 'disabilities': 7649, 'Pierre': 7650, 'schemes': 7651, 'Himachal': 7652, 'Climate': 7653, 'Change': 7654, 'Player': 7655, 'stating': 7656, 'connect': 7657, 'certificate': 7658, 'Arabian': 7659, 'poses': 7660, 'Ventures': 7661, 'Bang': 7662, 'deny': 7663, 'Rhode': 7664, 'firearms': 7665, 'teach': 7666, 'organizers': 7667, 'Access': 7668, 'tipped': 7669, 'TD': 7670, 'clashed': 7671, 'Order': 7672, 'precious': 7673, 'Amid': 7674, 'Bird': 7675, 'imminent': 7676, 'appropriate': 7677, 'busted': 7678, 'Shaw': 7679, 'caution': 7680, 'Comedy': 7681, 'Cannon': 7682, 'Ethiopian': 7683, 'Bad': 7684, 'Reno': 7685, 'teeth': 7686, 'NYSE': 7687, 'Popular': 7688, 'Manitoba': 7689, 'recognize': 7690, 'Dutt': 7691, 'Courtney': 7692, '49ers': 7693, 'ND': 7694, 'mandate': 7695, 'Nuggets': 7696, 'Lou': 7697, 'Arquette': 7698, 'congressman': 7699, 'mainland': 7700, 'treating': 7701, 'Sara': 7702, 'riots': 7703, 'introduction': 7704, 'commissioned': 7705, 'boosts': 7706, 'Pistorius': 7707, 'recommends': 7708, 'dated': 7709, 'Telstra': 7710, 'Players': 7711, 'Lansing': 7712, 'Cal': 7713, 'Culture': 7714, 'Growth': 7715, 'Kingfisher': 7716, 'daughters': 7717, 'invests': 7718, 'Motorcyclist': 7719, 'ambitious': 7720, 'slight': 7721, 'AB': 7722, 'manner': 7723, 'formerly': 7724, 'repeated': 7725, 'researcher': 7726, 'plate': 7727, 'tap': 7728, 'Seng': 7729, 'repay': 7730, 'notices': 7731, 'Srinagar': 7732, 'administrator': 7733, 'ultimate': 7734, 'highlight': 7735, 'endangered': 7736, 'inventories': 7737, 'Priyanka': 7738, 'Logan': 7739, 'grass': 7740, 'airlifted': 7741, 'recognised': 7742, 'Be': 7743, 'intense': 7744, 'Slam': 7745, 'marketplace': 7746, 'Midland': 7747, 'chapter': 7748, 'Bombay': 7749, 'Mercury': 7750, 'alarm': 7751, 'Around': 7752, 'Florence': 7753, '104': 7754, 'behavior': 7755, 'meth': 7756, 'spray': 7757, 'Soviet': 7758, 'ounce': 7759, 'magic': 7760, 'earning': 7761, 'associate': 7762, 'doubts': 7763, 'axe': 7764, 'sole': 7765, 'Halle': 7766, 'meals': 7767, 'Croatian': 7768, 'bonus': 7769, '16th': 7770, 'Kerr': 7771, 'Design': 7772, 'Vale': 7773, 'Lehman': 7774, 'maiden': 7775, 'cement': 7776, 'balanced': 7777, 'compact': 7778, 'pitches': 7779, 'grandmother': 7780, 'Herman': 7781, 'ousted': 7782, 'addiction': 7783, 'bankrupt': 7784, 'immigrant': 7785, 'delighted': 7786, 'Italia': 7787, 'Rev': 7788, 'chaos': 7789, 'engage': 7790, 'pursuit': 7791, 'prefer': 7792, 'reinstated': 7793, 'Wallabies': 7794, 'bullpen': 7795, 'Ramirez': 7796, 'Westminster': 7797, 'pride': 7798, 'Abraham': 7799, 'nose': 7800, 'v': 7801, 'moral': 7802, 'unemployed': 7803, 'Morrison': 7804, 'Homeless': 7805, 'Jenkins': 7806, 'JD': 7807, 'expresses': 7808, 'Forbes': 7809, 'infected': 7810, 'soared': 7811, 'conducting': 7812, 'gunshot': 7813, 'Nazi': 7814, 'Kurt': 7815, '23rd': 7816, 'removal': 7817, 'Telegraph': 7818, 'Volvo': 7819, 'Rahman': 7820, 'assassination': 7821, 'tighten': 7822, 'crops': 7823, 'barn': 7824, 'POLICE': 7825, 'greenback': 7826, 'Hernandez': 7827, 'Michel': 7828, 'Letterman': 7829, 'Leafs': 7830, 'Low': 7831, 'rep': 7832, 'Simmons': 7833, 'hidden': 7834, 'consultation': 7835, 'myself': 7836, '1.8': 7837, 'afraid': 7838, 'loose': 7839, 'Abbey': 7840, 'Chrome': 7841, 'Pyongyang': 7842, 'weakening': 7843, 'sprained': 7844, 'cemetery': 7845, 'inch': 7846, 'Mick': 7847, 'upside': 7848, 'Asset': 7849, 'climbing': 7850, 'contestant': 7851, 'Samantha': 7852, 'Marines': 7853, 'proposing': 7854, 'Rico': 7855, 'Symphony': 7856, 'relegation': 7857, 'Iceland': 7858, 'injures': 7859, 'Isaac': 7860, 'Portman': 7861, 'Bend': 7862, 'Dream': 7863, 'Telekom': 7864, 'slowly': 7865, 'introducing': 7866, 'motel': 7867, 'ejected': 7868, 'Aid': 7869, 'copyright': 7870, 'Quality': 7871, 'Sanders': 7872, 'Cain': 7873, 'showdown': 7874, 'stalking': 7875, 'Unilever': 7876, 'Gerrard': 7877, 'acknowledged': 7878, 'enemy': 7879, 'bicycle': 7880, 'shortstop': 7881, 'accessories': 7882, 'SP': 7883, 'recommendations': 7884, 'stopping': 7885, 'Diane': 7886, 'compound': 7887, 'Focus': 7888, 'Cannes': 7889, 'Endeavour': 7890, 'greenhouse': 7891, 'counterfeit': 7892, 'Amsterdam': 7893, 'demonstrate': 7894, 'Qld': 7895, 'Tunisian': 7896, 'sometime': 7897, 'CPI': 7898, 'dual': 7899, 'Box': 7900, 'sparking': 7901, 'departure': 7902, 'Ponting': 7903, 'arrivals': 7904, 'Branch': 7905, 'o': 7906, 'firmly': 7907, '40000': 7908, 'hammer': 7909, 'enjoys': 7910, 'Albion': 7911, 'Silicon': 7912, 'wicket': 7913, 'tier': 7914, 'Adobe': 7915, 'Katherine': 7916, 'autumn': 7917, 'enterprises': 7918, 'confirming': 7919, 'Zuckerberg': 7920, 'Hague': 7921, 'domain': 7922, 'trader': 7923, 'shutdown': 7924, '2003': 7925, 'Jews': 7926, 'Huntsman': 7927, 'Take': 7928, 'thunderstorm': 7929, 'administrators': 7930, 'Maldives': 7931, 'directing': 7932, 'elite': 7933, 'slower': 7934, 'removing': 7935, 'Go': 7936, 'packages': 7937, 'Stanford': 7938, 'signals': 7939, 'Hearts': 7940, 'organisations': 7941, 'Nets': 7942, 'rage': 7943, 'startup': 7944, 'robust': 7945, 'thief': 7946, 'Nitish': 7947, 'challenger': 7948, 'rocked': 7949, 'premises': 7950, 'preparations': 7951, 'couples': 7952, 'dump': 7953, 'Suns': 7954, 'widened': 7955, 'slid': 7956, 'Guantanamo': 7957, 'Evan': 7958, 'outages': 7959, 'bathroom': 7960, 'Cavaliers': 7961, 'Employment': 7962, 'gubernatorial': 7963, 'Manipur': 7964, 'Bret': 7965, 'informs': 7966, 'Ramdev': 7967, 'gig': 7968, 'Prison': 7969, 'incentives': 7970, 'explained': 7971, 'budgets': 7972, 'secrets': 7973, 'browser': 7974, 'dismissal': 7975, 'tonne': 7976, 'Non': 7977, 'peacefully': 7978, 'mysterious': 7979, 'criticised': 7980, 'placing': 7981, 'Minsk': 7982, 'origin': 7983, 'Shahid': 7984, '8.5': 7985, 'Macau': 7986, 'Webb': 7987, 'Cage': 7988, 'LTTE': 7989, 'Pelosi': 7990, 'Balotelli': 7991, 'Mitsubishi': 7992, 'Jessie': 7993, 'Pride': 7994, 'equality': 7995, 'pushes': 7996, 'Karabakh': 7997, 'Sporting': 7998, 'factors': 7999, 'Hassan': 8000, 'Comic': 8001, 'Klum': 8002, 'criticized': 8003, 'shocked': 8004, 'Canterbury': 8005, 'Immigration': 8006, 'Samuel': 8007, 'Due': 8008, 'Municipal': 8009, 'trash': 8010, 'pills': 8011, 'trim': 8012, 'faculty': 8013, 'reconstruction': 8014, 'rear': 8015, 'Ralph': 8016, 'Cities': 8017, 'Plains': 8018, 'Novosti': 8019, 'evaluation': 8020, 'Moines': 8021, 'murders': 8022, 'sized': 8023, 'Hewlett': 8024, 'Wipro': 8025, 'pages': 8026, 'Run': 8027, 'blind': 8028, 'submit': 8029, 'Ehud': 8030, 'workplace': 8031, 'Census': 8032, 'trigger': 8033, 'explosives': 8034, 'continent': 8035, 'accreditation': 8036, 'Alonso': 8037, 'Coffee': 8038, 'Daniels': 8039, 'yacht': 8040, 'Owens': 8041, 'temperature': 8042, 'graduation': 8043, 'Winslet': 8044, 'Paulo': 8045, 'deportation': 8046, 'detect': 8047, 'Devils': 8048, 'regard': 8049, 'blockade': 8050, 'barred': 8051, 'fence': 8052, 'sitcom': 8053, 'waves': 8054, 'Round': 8055, 'Denise': 8056, 'petroleum': 8057, 'usual': 8058, 'Rover': 8059, 'disruption': 8060, 'Pearl': 8061, 'subsidiaries': 8062, 'Advani': 8063, 'Surrey': 8064, 'Frankfurt': 8065, 'surrendered': 8066, 'LeBron': 8067, 'tire': 8068, 'poker': 8069, 'tightened': 8070, 'conglomerate': 8071, 'waive': 8072, 'Nolan': 8073, 'portable': 8074, 'demonstrators': 8075, 'Rally': 8076, 'classroom': 8077, 'Wilkinson': 8078, 'withdrawing': 8079, 'Metal': 8080, 'Kuwaiti': 8081, 'Female': 8082, 'Accra': 8083, 'starter': 8084, 'Horizon': 8085, 'founding': 8086, 'Jackie': 8087, 'embezzlement': 8088, 'dipped': 8089, 'Kunis': 8090, 'crown': 8091, 'plunges': 8092, 'Frontier': 8093, 'Trent': 8094, 'Salvation': 8095, 'amnesty': 8096, 'findings': 8097, 'headline': 8098, 'Premiership': 8099, 'Guardian': 8100, 'Majority': 8101, 'fare': 8102, 'sting': 8103, 'admission': 8104, 'Les': 8105, 'reorganization': 8106, 'destruction': 8107, 'snap': 8108, 'factories': 8109, 'Connor': 8110, 'prolonged': 8111, 'upheld': 8112, 'Yesterday': 8113, 'grabbed': 8114, 'bedroom': 8115, 'describing': 8116, 'Malcolm': 8117, 'Hang': 8118, 'donor': 8119, 'stance': 8120, 'observers': 8121, 'Raymond': 8122, 'installation': 8123, 'gym': 8124, 'holy': 8125, 'yellow': 8126, 'steam': 8127, 'harvest': 8128, 'Islanders': 8129, 'payroll': 8130, '450': 8131, 'Victory': 8132, 'foods': 8133, 'example': 8134, 'yards': 8135, 'Eugene': 8136, 'toxic': 8137, 'Every': 8138, 'AK': 8139, 'cheated': 8140, 'jointly': 8141, 'nearing': 8142, 'editorial': 8143, 'JSE': 8144, 'Mozambique': 8145, '1400': 8146, 'semiconductor': 8147, 'indictment': 8148, 'Leonard': 8149, 'valley': 8150, 'profitability': 8151, 'notorious': 8152, 'visas': 8153, 'renovation': 8154, 'respiratory': 8155, 'Luther': 8156, 'Parkinson': 8157, 'exceed': 8158, 'Willie': 8159, 'accelerated': 8160, 'sat': 8161, 'counsel': 8162, 'coma': 8163, 'Duff': 8164, 'Playboy': 8165, 'Mega': 8166, 'arguing': 8167, 'handing': 8168, 'Hold': 8169, 'Cavendish': 8170, 'Pound': 8171, 'academy': 8172, 'concessions': 8173, 'Trading': 8174, 'inauguration': 8175, 'Parkway': 8176, 'sum': 8177, 'McDonnell': 8178, 'reunion': 8179, 'Alice': 8180, 'dictator': 8181, 'exist': 8182, 'ceremonies': 8183, 'lets': 8184, 'nor': 8185, 'automation': 8186, 'Re': 8187, 'roots': 8188, 'Trial': 8189, 'DiCaprio': 8190, 'MLS': 8191, 'Lehigh': 8192, 'satisfaction': 8193, 'RCMP': 8194, 'Russians': 8195, 'Shield': 8196, 'Saeed': 8197, 'Rajapaksa': 8198, 'Gavin': 8199, 'exam': 8200, 'methods': 8201, 'vessels': 8202, 'mega': 8203, 'Dodge': 8204, 'Tebow': 8205, 'Eli': 8206, 'hostages': 8207, 'abduction': 8208, 'Dogg': 8209, 'hackers': 8210, 'highlighting': 8211, 'Brooke': 8212, 'endangerment': 8213, 'MySpace': 8214, 'Albuquerque': 8215, 'Mila': 8216, 'activate': 8217, 'Earl': 8218, 'attorneys': 8219, 'Metropolitan': 8220, 'Choice': 8221, 'Boise': 8222, 'slips': 8223, 'stint': 8224, 'bump': 8225, 'appetite': 8226, 'uprising': 8227, 'Stern': 8228, 'BNP': 8229, 'Caroline': 8230, 'solidarity': 8231, 'trophy': 8232, 'statue': 8233, 'Sons': 8234, 'stalled': 8235, 'generic': 8236, 'rent': 8237, 'Grande': 8238, 'shook': 8239, 'Belmont': 8240, 'insurers': 8241, 'harm': 8242, 'prop': 8243, 'prepaid': 8244, 'mansion': 8245, 'Professional': 8246, 'Hemsworth': 8247, 'Dale': 8248, 'Historic': 8249, 'Airline': 8250, 'freshman': 8251, 'consultant': 8252, 'Met': 8253, 'rifle': 8254, 'automatic': 8255, 'lengthy': 8256, 'suspending': 8257, 'meltdown': 8258, 'Campaign': 8259, 'spotlight': 8260, 'Magistrate': 8261, 'sexy': 8262, 'relation': 8263, 'Ban': 8264, 'Dustin': 8265, '97': 8266, 'upward': 8267, 'minors': 8268, 'pot': 8269, 'Usain': 8270, 'Lokpal': 8271, 'opponent': 8272, 'Elections': 8273, 'difficulties': 8274, 'Blockbuster': 8275, 'Melissa': 8276, 'Suicide': 8277, 'indeed': 8278, 'Bolivia': 8279, 'turnover': 8280, 'burnt': 8281, 'gala': 8282, 'Mali': 8283, 'territorial': 8284, 'trio': 8285, 'cigarettes': 8286, 'Americas': 8287, 'Desert': 8288, 'scholarships': 8289, 'Willis': 8290, 'radiation': 8291, 'medication': 8292, 'Franco': 8293, 'Ind': 8294, 'BAE': 8295, 'bottles': 8296, 'discussing': 8297, 'Belgrade': 8298, 'Holly': 8299, 'MVP': 8300, 'Efron': 8301, 'clinics': 8302, 'procedures': 8303, 'neighbouring': 8304, 'Watford': 8305, 'Universe': 8306, 'Canberra': 8307, 'Gerard': 8308, 'ferry': 8309, 'dawn': 8310, 'Pink': 8311, 'nice': 8312, 'preserve': 8313, 'flexible': 8314, 'Curtis': 8315, 'consent': 8316, 'statutory': 8317, 'Congo': 8318, 'Bulldogs': 8319, 'unfair': 8320, 'Panama': 8321, 'Dynamics': 8322, 'Teenager': 8323, 'Kodak': 8324, 'sinks': 8325, 'Automotive': 8326, 'Hispanic': 8327, 'Slovakia': 8328, 'remarkable': 8329, '2.0': 8330, 'requiring': 8331, 'bands': 8332, 'totally': 8333, 'Dance': 8334, 'havoc': 8335, 'Irvine': 8336, 'Wis': 8337, '12000': 8338, 'successive': 8339, 'actively': 8340, 'friendship': 8341, 'exhibit': 8342, 'legislature': 8343, 'Packard': 8344, 'Hip': 8345, 'punching': 8346, 'awaiting': 8347, 'Eden': 8348, 'tradition': 8349, 'columnist': 8350, 'Jiabao': 8351, 'undergone': 8352, 'Platinum': 8353, 'Monaco': 8354, 'champ': 8355, 'Both': 8356, 'signature': 8357, 'Southampton': 8358, 'Plaza': 8359, 'requirement': 8360, 'Review': 8361, 'roughly': 8362, 'hide': 8363, 'Massa': 8364, 'debuts': 8365, 'negotiate': 8366, 'thank': 8367, 'Ferdinand': 8368, 'wet': 8369, 'sad': 8370, 'venue': 8371, 'prayers': 8372, 'customs': 8373, 'Zurich': 8374, 'rockets': 8375, 'Wanderers': 8376, 'legislators': 8377, 'gallon': 8378, 'wrap': 8379, 'stricken': 8380, 'lighting': 8381, 'implications': 8382, 'discipline': 8383, 'deserve': 8384, 'Mancini': 8385, 'Jaguar': 8386, 'Telangana': 8387, 'councillor': 8388, 'Chester': 8389, 'spare': 8390, 'Tanzania': 8391, 'treatments': 8392, 'cleaning': 8393, 'lightweight': 8394, 'PayPal': 8395, 'soap': 8396, 'safer': 8397, 'Mediterranean': 8398, 'Lucknow': 8399, 'Amnesty': 8400, 'Dover': 8401, 'patch': 8402, 'golden': 8403, 'transparency': 8404, 'jackpot': 8405, 'ports': 8406, 'Haley': 8407, 'reliable': 8408, 'Victorian': 8409, 'DWI': 8410, 'Roethlisberger': 8411, 'Jared': 8412, 'disasters': 8413, 'constable': 8414, 'MSNBC': 8415, 'Instruments': 8416, 'error': 8417, 'lion': 8418, 'flies': 8419, 'Kindle': 8420, 'Freeman': 8421, 'devastated': 8422, 'Alzheimer': 8423, 'truly': 8424, 'Tributes': 8425, 'Pharma': 8426, 'Canucks': 8427, 'foreclosures': 8428, 'debates': 8429, 'reiterates': 8430, 'Better': 8431, 'appearances': 8432, 'Augusta': 8433, 'escalating': 8434, 'menu': 8435, 'amidst': 8436, 'nervous': 8437, 'supermodel': 8438, 'census': 8439, 'Hindi': 8440, 'Heathrow': 8441, 'slapped': 8442, 'Coroner': 8443, 'gesture': 8444, 'ODI': 8445, 'tributes': 8446, 'reactor': 8447, 'unsecured': 8448, 'Command': 8449, 'Do': 8450, 'Stakes': 8451, 'Dragon': 8452, 'Taiwanese': 8453, 'Mill': 8454, 'Model': 8455, 'touring': 8456, '2.4': 8457, 'remainder': 8458, 'groin': 8459, 'lined': 8460, 'dealt': 8461, '60th': 8462, 'heated': 8463, 'inches': 8464, 'FTSE': 8465, 'Grammer': 8466, 'Methodist': 8467, 'Samajwadi': 8468, 'pitching': 8469, 'repeat': 8470, 'attendance': 8471, 'distance': 8472, 'Shannon': 8473, 'derailed': 8474, 'breaching': 8475, '1600': 8476, '2.1': 8477, 'demonstrations': 8478, 'obligations': 8479, 'Cotton': 8480, 'gotten': 8481, 'Javier': 8482, 'Ronson': 8483, 'rig': 8484, 'Tymoshenko': 8485, 'pancreatic': 8486, 'tweet': 8487, 'Sultan': 8488, 'Knoxville': 8489, 'Redknapp': 8490, 'Lagos': 8491, 'Medal': 8492, 'annually': 8493, 'Kurdish': 8494, 'cats': 8495, '8000': 8496, 'Mom': 8497, 'travellers': 8498, 'distributing': 8499, 'Once': 8500, 'Goody': 8501, 'Clemson': 8502, 'Hampton': 8503, 'Cruises': 8504, 'integrity': 8505, 'dancing': 8506, 'Levi': 8507, 'Bosnia': 8508, 'Lawmakers': 8509, 'raided': 8510, 'Hillsborough': 8511, 'Sharp': 8512, 'Sandusky': 8513, 'attends': 8514, 'detainees': 8515, 'openly': 8516, 'Vic': 8517, 'sequel': 8518, 'PCs': 8519, 'aggregate': 8520, 'la': 8521, 'Barrymore': 8522, 'embattled': 8523, '750': 8524, 'Oval': 8525, 'monitors': 8526, 'stays': 8527, 'Guinness': 8528, 'Ashok': 8529, 'scared': 8530, 'internationally': 8531, 'famed': 8532, 'programming': 8533, 'avoided': 8534, 'Paralympic': 8535, 'Kuala': 8536, 'thefts': 8537, 'mechanism': 8538, 'revenge': 8539, 'bias': 8540, 'Di': 8541, 'bruised': 8542, 'followers': 8543, 'Oasis': 8544, 'Semiconductor': 8545, 'establishes': 8546, 'Westwood': 8547, 'drills': 8548, 'Speed': 8549, 'establishing': 8550, 'trademark': 8551, 'Isle': 8552, 'corrupt': 8553, 'litre': 8554, 'respects': 8555, 'dementia': 8556, 'broader': 8557, 'represents': 8558, 'volumes': 8559, 'ultra': 8560, 'opera': 8561, 'ICICI': 8562, 'richest': 8563, 'Uruguay': 8564, 'subdued': 8565, 'seizure': 8566, 'tunnel': 8567, 'collections': 8568, 'Although': 8569, 'bowl': 8570, 'Rapid': 8571, 'senators': 8572, 'Managing': 8573, 'Sienna': 8574, 'laptops': 8575, 'conversation': 8576, 'Resorts': 8577, 'reservation': 8578, 'backyard': 8579, 'committing': 8580, 'attached': 8581, 'Porsche': 8582, 'dengue': 8583, 'malaria': 8584, 'Leone': 8585, 'lane': 8586, 'Arbor': 8587, 'destroying': 8588, '96': 8589, 'experiencing': 8590, 'Bucks': 8591, 'complained': 8592, 'Holocaust': 8593, 'cops': 8594, 'Caterpillar': 8595, 'Maritime': 8596, 'Aquino': 8597, 'finalist': 8598, 'ethanol': 8599, 'happiness': 8600, 'mln': 8601, 'indicating': 8602, 'RIA': 8603, 'Amir': 8604, 'serves': 8605, 'Orchestra': 8606, 'consideration': 8607, 'impaired': 8608, 'guys': 8609, 'entrance': 8610, 'Circle': 8611, 'Living': 8612, 'Macquarie': 8613, 'Aurora': 8614, 'dirty': 8615, 'indexes': 8616, 'aging': 8617, 'kiss': 8618, 'surface': 8619, 'adventure': 8620, 'Ranch': 8621, 'Malley': 8622, 'Audi': 8623, 'Hitachi': 8624, 'requires': 8625, 'finalized': 8626, 'Robertson': 8627, 'attitude': 8628, 'happens': 8629, 'Fraser': 8630, 'Lea': 8631, 'flooded': 8632, 'downloads': 8633, 'lanes': 8634, 'Bermuda': 8635, 'drain': 8636, 'achievements': 8637, 'Domestic': 8638, 'Flash': 8639, 'briefing': 8640, 'QB': 8641, 'arrangements': 8642, 'demolition': 8643, 'bases': 8644, 'Barker': 8645, 'Wolf': 8646, 'Horse': 8647, 'canal': 8648, 'Pietersen': 8649, 'Carnival': 8650, 'Coronation': 8651, 'scratched': 8652, 'abandon': 8653, 'Klitschko': 8654, 'Shriver': 8655, 'Gabriel': 8656, 'characters': 8657, 'reflecting': 8658, 'rounder': 8659, 'rogue': 8660, 'gradually': 8661, 'Giant': 8662, 'asthma': 8663, 'resistances': 8664, 'charts': 8665, 'Burnley': 8666, 'sections': 8667, 'Rouge': 8668, 'screens': 8669, 'mad': 8670, 'indicate': 8671, 'provisions': 8672, 'generating': 8673, 'wrapped': 8674, 'deepening': 8675, 'councils': 8676, 'Heineken': 8677, 'shale': 8678, 'Walters': 8679, 'WA': 8680, 'Rory': 8681, 'Depot': 8682, 'publishers': 8683, 'Crist': 8684, 'Rwanda': 8685, 'servants': 8686, 'courtroom': 8687, 'anger': 8688, 'Partnership': 8689, 'Seth': 8690, 'barrier': 8691, 'cleric': 8692, 'Worcester': 8693, 'dissident': 8694, 'desktop': 8695, 'hunters': 8696, 'courthouse': 8697, '98': 8698, 'majors': 8699, 'Fine': 8700, 'Greenville': 8701, 'inventory': 8702, '150000': 8703, 'gene': 8704, 'Chesapeake': 8705, 'Felix': 8706, 'haul': 8707, 'Lennon': 8708, 'choices': 8709, 'Song': 8710, 'Disease': 8711, 'Tory': 8712, 'blogger': 8713, 'metric': 8714, 'combine': 8715, 'Indo': 8716, 'relatively': 8717, 'Devon': 8718, 'presidents': 8719, 'Bentley': 8720, 'roommate': 8721, 'Joan': 8722, 'Mercer': 8723, 'Polk': 8724, 'bridges': 8725, 'Supply': 8726, 'Pedestrian': 8727, 'breakdown': 8728, 'tweeted': 8729, 'combination': 8730, 'Afghans': 8731, 'indie': 8732, 'Antony': 8733, 'Vehicle': 8734, 'fragile': 8735, 'airspace': 8736, 'critic': 8737, 'sky': 8738, 'gearing': 8739, 'stray': 8740, 'besides': 8741, 'acid': 8742, 'Wholesale': 8743, 'Lowe': 8744, 'ordinary': 8745, 'workout': 8746, 'Companies': 8747, 'goaltender': 8748, 'poultry': 8749, 'Rawalpindi': 8750, 'desire': 8751, 'wed': 8752, 'lots': 8753, 'chamber': 8754, 'rid': 8755, 'Marvel': 8756, 'Cathedral': 8757, 'spreads': 8758, 'pensioner': 8759, 'cabin': 8760, 'errors': 8761, 'bearish': 8762, 'instructor': 8763, 'Wembley': 8764, 'afford': 8765, 'Ultimate': 8766, 'bombers': 8767, 'strokes': 8768, 'contamination': 8769, 'MTN': 8770, 'Newly': 8771, 'Ramesh': 8772, 'choppy': 8773, 'searched': 8774, 'businessmen': 8775, 'FedEx': 8776, 'Snyder': 8777, 'intimate': 8778, 'undercover': 8779, 'ideal': 8780, 'ravaged': 8781, 'robbers': 8782, 'lap': 8783, 'clearly': 8784, 'Bahamas': 8785, 'sometimes': 8786, 'spinner': 8787, 'expense': 8788, 'Rai': 8789, 'Peninsula': 8790, 'Sound': 8791, 'detectives': 8792, 'overweight': 8793, 'Rush': 8794, 'Biel': 8795, 'vast': 8796, 'Jindal': 8797, 'Progress': 8798, 'upbeat': 8799, 'railroad': 8800, 'Chevrolet': 8801, 'waiver': 8802, 'responds': 8803, 'Cambodia': 8804, 'commuters': 8805, 'punch': 8806, 'Direction': 8807, 'Grey': 8808, 'toy': 8809, 'clock': 8810, 'occupation': 8811, 'Infrastructure': 8812, 'Dundee': 8813, 'Saskatoon': 8814, 'negligent': 8815, 'gutted': 8816, '8th': 8817, 'chose': 8818, 'Nixon': 8819, 'scrapped': 8820, 'cease': 8821, 'tycoon': 8822, 'episodes': 8823, 'apparel': 8824, 'Sikh': 8825, 'shrank': 8826, 'Macon': 8827, 'libel': 8828, 'embezzling': 8829, 'consulate': 8830, 'Fairfield': 8831, 'Timor': 8832, 'boil': 8833, 'Shiite': 8834, 'Sisters': 8835, 'campaigning': 8836, 'Belarusian': 8837, 'lewd': 8838, 'designate': 8839, 'shower': 8840, 'kissing': 8841, 'faulty': 8842, 'Vienna': 8843, 'legacy': 8844, 'flags': 8845, 'Official': 8846, 'MotoGP': 8847, 'describes': 8848, 'tears': 8849, 'Rutgers': 8850, 'Stallone': 8851, 'intentionally': 8852, 'tumble': 8853, 'infections': 8854, 'slashes': 8855, 'protested': 8856, 'Binghamton': 8857, 'Micro': 8858, 'Olivia': 8859, 'Chaudhry': 8860, 'accelerate': 8861, 'Dawn': 8862, 'stamp': 8863, 'transform': 8864, 'copies': 8865, 'wound': 8866, 'Yang': 8867, 'heels': 8868, 'Mad': 8869, 'boxer': 8870, 'makeover': 8871, 'Stage': 8872, 'Jamaican': 8873, 'folk': 8874, 'neighboring': 8875, 'Venus': 8876, 'vegetables': 8877, 'Treasurer': 8878, 'Twin': 8879, 'casting': 8880, 'provision': 8881, 'Wars': 8882, 'pared': 8883, 'assess': 8884, 'Wizards': 8885, 'attracting': 8886, 'auctions': 8887, 'Durban': 8888, 'narrowed': 8889, 'obtain': 8890, 'harsh': 8891, 'Huffington': 8892, 'ST': 8893, 'Ibrahim': 8894, 'renewal': 8895, 'booming': 8896, 'Atlantis': 8897, 'vaccines': 8898, 'FOX': 8899, 'desert': 8900, 'colleague': 8901, 'Advisory': 8902, 'Shawn': 8903, 'Citizens': 8904, 'relationships': 8905, 'casualties': 8906, 'Legal': 8907, 'sovereignty': 8908, 'debris': 8909, 'govt': 8910, 'Groupon': 8911, 'witnessed': 8912, 'appreciation': 8913, 'margins': 8914, 'Cliff': 8915, '2018': 8916, 'Commons': 8917, 'Recovery': 8918, 'Gore': 8919, 'Fans': 8920, 'merchant': 8921, 'Tajikistan': 8922, 'focuses': 8923, 'Civic': 8924, 'intensified': 8925, 'Midlands': 8926, 'deliberately': 8927, 'Pakistanis': 8928, 'platinum': 8929, 'Lindsey': 8930, 'Deputies': 8931, 'federation': 8932, 'AirTran': 8933, '28th': 8934, 'Operation': 8935, 'Patterson': 8936, 'aftermath': 8937, 'Paterno': 8938, 'Chevron': 8939, 'Play': 8940, 'commitments': 8941, 'Lafayette': 8942, 'Torres': 8943, 'invite': 8944, 'bargaining': 8945, 'Keane': 8946, 'Didier': 8947, 'Plans': 8948, 'hungry': 8949, 'Afridi': 8950, 'principle': 8951, 'dreams': 8952, 'proof': 8953, '7.5': 8954, 'Bismarck': 8955, 'steroids': 8956, 'surpassed': 8957, 'Porter': 8958, 'Provincial': 8959, 'certified': 8960, 'GaGa': 8961, 'Jorge': 8962, 'elects': 8963, 'Which': 8964, 'ammunition': 8965, 'youngsters': 8966, 'prefers': 8967, 'Newsday': 8968, 'sergeant': 8969, 'martial': 8970, 'Batman': 8971, 'checking': 8972, 'outcome': 8973, 'Ipswich': 8974, 'Julius': 8975, 'Pike': 8976, 'Oilers': 8977, 'Clarkson': 8978, 'loyal': 8979, 'Pa': 8980, 'Hard': 8981, 'passage': 8982, 'bidding': 8983, 'zones': 8984, 'liability': 8985, 'Cornwall': 8986, 'Downtown': 8987, 'Boulder': 8988, 'GPS': 8989, 'Films': 8990, 'Palo': 8991, 'lashes': 8992, 'Controversial': 8993, 'testified': 8994, 'BT': 8995, 'audiences': 8996, 'broadcasting': 8997, 'downgrade': 8998, 'Appeal': 8999, 'attracted': 9000, 'Bigg': 9001, 'joke': 9002, 'ensuring': 9003, 'spots': 9004, 'fraudulent': 9005, 'Shahbaz': 9006, 'Bee': 9007, 'Pass': 9008, 'directions': 9009, 'injection': 9010, 'Panetta': 9011, 'examination': 9012, 'painting': 9013, 'experimental': 9014, 'landslide': 9015, 'learnt': 9016, 'mayoral': 9017, '9th': 9018, 'councillors': 9019, 'persistent': 9020, 'prosperity': 9021, 'Booker': 9022, 'borrow': 9023, 'carries': 9024, 'Jermaine': 9025, 'Higher': 9026, 'Nexus': 9027, 'lies': 9028, 'Montag': 9029, 'fisherman': 9030, 'indices': 9031, 'Mrs': 9032, 'astronauts': 9033, 'Variety': 9034, 'doctorate': 9035, 'sponsors': 9036, 'webcast': 9037, 'Copa': 9038, 'volcano': 9039, 'capped': 9040, 'cigarette': 9041, 'observe': 9042, 'manufacture': 9043, 'flick': 9044, 'Bynes': 9045, 'pray': 9046, 'vandalism': 9047, 'Laurent': 9048, 'anywhere': 9049, 'Homes': 9050, 'Recent': 9051, 'virtually': 9052, 'Corruption': 9053, 'palm': 9054, 'disturbance': 9055, 'Earlier': 9056, 'Galway': 9057, 'Vista': 9058, 'affirmed': 9059, 'keeper': 9060, 'spate': 9061, 'Come': 9062, 'impersonating': 9063, 'deeper': 9064, 'opted': 9065, 'scholarship': 9066, 'Rebecca': 9067, 'Tbilisi': 9068, 'sweet': 9069, 'tired': 9070, 'MW': 9071, 'Pratibha': 9072, 'cautioned': 9073, 'Zach': 9074, 'exploitation': 9075, 'pets': 9076, 'Highland': 9077, 'blown': 9078, 'Minor': 9079, 'organ': 9080, 'wrongful': 9081, 'eggs': 9082, 'universal': 9083, 'Arroyo': 9084, 'Lumpur': 9085, 'epic': 9086, 'poet': 9087, 'avoiding': 9088, 'Dawson': 9089, 'Ana': 9090, 'bitten': 9091, 'Funeral': 9092, 'sack': 9093, 'handsets': 9094, 'Albania': 9095, 'ArcelorMittal': 9096, 'apologise': 9097, 'True': 9098, 'Muamba': 9099, 'x': 9100, 'sewer': 9101, 'Wife': 9102, 'belonging': 9103, 'eager': 9104, 'divisions': 9105, 'Harlem': 9106, 'viral': 9107, 'borrowers': 9108, 'otherwise': 9109, '®': 9110, 'outlet': 9111, 'banker': 9112, 'Dana': 9113, 'donating': 9114, 'Cutler': 9115, 'disorders': 9116, 'Bosnian': 9117, 'Coral': 9118, 'Pawlenty': 9119, 'convoy': 9120, 'daytime': 9121, 'Get': 9122, 'commemorate': 9123, 'blaming': 9124, 'optical': 9125, 'bright': 9126, 'Cooperation': 9127, 'frequent': 9128, 'Leigh': 9129, 'Agreement': 9130, 'Travolta': 9131, 'lifting': 9132, 'Bhutto': 9133, 'Lynn': 9134, 'weigh': 9135, 'guitar': 9136, 'wildfires': 9137, 'owed': 9138, 'boxes': 9139, 'adaptation': 9140, 'sailors': 9141, 'Alec': 9142, 'touchdown': 9143, 'bishop': 9144, 'disappointment': 9145, 'ECB': 9146, 'seemed': 9147, 'committees': 9148, 'sinking': 9149, 'Mayawati': 9150, 'filling': 9151, 'Fight': 9152, '0.3': 9153, 'Unified': 9154, 'Cellular': 9155, 'reinstate': 9156, 'amended': 9157, 'unanimous': 9158, 'opt': 9159, 'Downs': 9160, 'Berkeley': 9161, 'Lilly': 9162, 'impressed': 9163, 'mounted': 9164, 'icy': 9165, 'Kamal': 9166, 'Prevention': 9167, 'Linux': 9168, 'derivatives': 9169, 'peers': 9170, 'Bayer': 9171, 'jersey': 9172, 'Conservation': 9173, 'Ubisoft': 9174, 'acre': 9175, 'Unit': 9176, 'spying': 9177, 'Teenage': 9178, 'sterling': 9179, 'marched': 9180, 'Cohen': 9181, 'cup': 9182, 'lodged': 9183, 'confirmation': 9184, 'kilometres': 9185, 'Bashir': 9186, 'tweets': 9187, 'Heroes': 9188, 'congress': 9189, 'Yeddyurappa': 9190, 'notebook': 9191, 'denying': 9192, 'Peters': 9193, 'Conan': 9194, '5.5': 9195, 'Zimmerman': 9196, 'pieces': 9197, 'adequate': 9198, 'spectacular': 9199, 'obsessed': 9200, 'disrupt': 9201, 'headquartered': 9202, 'follows': 9203, 'Schmidt': 9204, 'Hayes': 9205, 'Schalke': 9206, 'Works': 9207, 'delaying': 9208, 'candidacy': 9209, 'wonder': 9210, 'Ahmedabad': 9211, 'YEAR': 9212, 'footprint': 9213, 'Milton': 9214, 'EP': 9215, 'dust': 9216, 'bears': 9217, 'braced': 9218, 'ministries': 9219, 'Consumers': 9220, '4S': 9221, 'Chef': 9222, 'Alexandria': 9223, 'urgent': 9224, '1300': 9225, 'washing': 9226, 'widens': 9227, 'mosque': 9228, 'Ulster': 9229, 'Niger': 9230, 'Persian': 9231, 'MT': 9232, 'postal': 9233, 'dancer': 9234, 'Battle': 9235, 'Job': 9236, 'Kourtney': 9237, 'incentive': 9238, 'catching': 9239, 'dock': 9240, 'jazz': 9241, 'ambush': 9242, 'surgeon': 9243, 'collide': 9244, 'fog': 9245, 'Story': 9246, 'maps': 9247, 'landlord': 9248, 'weaken': 9249, 'cheaper': 9250, 'starred': 9251, 'conflicts': 9252, 'Beck': 9253, 'LLP': 9254, 'ligament': 9255, 'Mich': 9256, '6.2': 9257, 'syndrome': 9258, 'planet': 9259, 'Paper': 9260, 'comparison': 9261, 'outgoing': 9262, 'bloc': 9263, 'achieving': 9264, 'lucrative': 9265, 'Monte': 9266, 'mainstream': 9267, 'fundamental': 9268, 'postpone': 9269, 'Prices': 9270, '1970s': 9271, 'offseason': 9272, 'charities': 9273, 'exporter': 9274, 'achievement': 9275, 'securing': 9276, 'Pawar': 9277, 'Emily': 9278, 'Anniversary': 9279, 'Shetty': 9280, 'machinery': 9281, 'dramatically': 9282, 'Marsh': 9283, 'Alcoa': 9284, 'operative': 9285, 'GP': 9286, 'tiny': 9287, 'Nash': 9288, 'halftime': 9289, '1960s': 9290, 'qualifiers': 9291, '0.2': 9292, 'concentrate': 9293, 'Hotspur': 9294, 'database': 9295, '31st': 9296, 'Call': 9297, 'Jenna': 9298, 'rupees': 9299, 'Luxury': 9300, 'Byrd': 9301, '7000': 9302, 'Ilham': 9303, 'Mickey': 9304, 'Hai': 9305, 'seasonally': 9306, 'slumped': 9307, 'travelers': 9308, 'Chartered': 9309, 'reaffirmed': 9310, 'attacker': 9311, 'acted': 9312, 'bracing': 9313, 'freezing': 9314, 'Salisbury': 9315, 'soar': 9316, 'detailed': 9317, 'Wesley': 9318, 'hat': 9319, 'Penney': 9320, 'Pedro': 9321, 'AJ': 9322, 'exceeded': 9323, 'nickel': 9324, 'Guatemala': 9325, 'wardrobe': 9326, 'Mitch': 9327, 'WBA': 9328, 'Horry': 9329, 'lecture': 9330, 'eliminating': 9331, 'Carr': 9332, 'banner': 9333, 'Deepika': 9334, 'PA': 9335, 'quietly': 9336, 'smallest': 9337, 'kingdom': 9338, 'Photo': 9339, 'forgery': 9340, 'sand': 9341, 'cab': 9342, 'Ossetia': 9343, 'Akron': 9344, 'Typhoon': 9345, 'extradited': 9346, 'Doha': 9347, 'Coldplay': 9348, 'stunned': 9349, 'dentist': 9350, 'Wachovia': 9351, 'clinch': 9352, 'Bangladeshi': 9353, 'Daly': 9354, 'Snoop': 9355, 'Tomas': 9356, 'Ritchie': 9357, 'laboratory': 9358, 'physician': 9359, 'breathing': 9360, 'pope': 9361, 'reflect': 9362, 'amongst': 9363, 'Aust': 9364, 'Radcliffe': 9365, 'Cory': 9366, 'JC': 9367, 'Taxi': 9368, 'regret': 9369, 'Johns': 9370, 'Dwight': 9371, 'Things': 9372, 'Tornado': 9373, 'item': 9374, 'Balochistan': 9375, 'Dixon': 9376, 'un': 9377, 'glory': 9378, 'conjunction': 9379, '0.1': 9380, 'hates': 9381, 'Sidney': 9382, 'busiest': 9383, 'nonprofit': 9384, 'defrauding': 9385, 'Scherzinger': 9386, 'goalless': 9387, 'apartments': 9388, 'Mellon': 9389, 'Donnell': 9390, 'Woody': 9391, 'driveway': 9392, 'Wake': 9393, 'Still': 9394, 'Ancelotti': 9395, 'sophomore': 9396, 'accountability': 9397, 'Phillip': 9398, 'closures': 9399, 'Northampton': 9400, 'Guns': 9401, 'Regina': 9402, 'Carol': 9403, 'consultations': 9404, 'Benson': 9405, 'calf': 9406, 'Avalanche': 9407, 'Gill': 9408, 'Superstar': 9409, 'Inn': 9410, 'Rosa': 9411, 'warship': 9412, '107': 9413, 'valuation': 9414, 'cables': 9415, 'constituency': 9416, 'automated': 9417, 'Thieves': 9418, 'electrocuted': 9419, 'types': 9420, 'tariff': 9421, 'Enforcement': 9422, 'mix': 9423, 'exploring': 9424, 'civic': 9425, 'consortium': 9426, 'grains': 9427, 'sight': 9428, 'Programme': 9429, 'united': 9430, 'math': 9431, 'Hardy': 9432, 'Ms': 9433, '1100': 9434, 'slashing': 9435, 'moratorium': 9436, 'isolated': 9437, 'Almost': 9438, 'Manufacturing': 9439, 'skating': 9440, 'Namibia': 9441, 'biological': 9442, 'LPGA': 9443, 'trick': 9444, 'Anchorage': 9445, 'Sheboygan': 9446, 'Linda': 9447, 'cattle': 9448, 'pumps': 9449, 'beloved': 9450, 'Xperia': 9451, 'revoked': 9452, 'guarantees': 9453, 'broking': 9454, 'examine': 9455, 'cooking': 9456, 'foster': 9457, 'crazy': 9458, 'brokers': 9459, 'Budapest': 9460, 'Livingston': 9461, 'oversight': 9462, 'rap': 9463, 'Happy': 9464, 'indigenous': 9465, 'expression': 9466, 'Pan': 9467, 'landfall': 9468, 'Atomic': 9469, 'entrepreneur': 9470, 'Chandler': 9471, 'mentor': 9472, 'Tan': 9473, 'Rodney': 9474, 'thermal': 9475, 'caps': 9476, 'Hogan': 9477, 'Julio': 9478, 'suburbs': 9479, 'Associates': 9480, 'hints': 9481, 'Ariz': 9482, 'IV': 9483, 'patience': 9484, 'Hannah': 9485, '1800': 9486, 'Commissioners': 9487, 'pubs': 9488, 'Easy': 9489, 'Wikileaks': 9490, 'Fayetteville': 9491, 'Camden': 9492, 'Blu': 9493, 'lieutenant': 9494, 'Khyber': 9495, 'Full': 9496, 'Bafana': 9497, 'steals': 9498, 'Could': 9499, 'riders': 9500, 'listen': 9501, 'ANZ': 9502, 'restoring': 9503, 'Code': 9504, 'processor': 9505, 'Lautner': 9506, 'marred': 9507, 'contention': 9508, 'en': 9509, 'commencement': 9510, 'Norton': 9511, 'Roland': 9512, 'FX': 9513, 'Liz': 9514, 'Hurley': 9515, 'pitched': 9516, 'AirAsia': 9517, 'owes': 9518, 'Kristin': 9519, 'tightening': 9520, 'Laboratories': 9521, 'Moammar': 9522, 'bloody': 9523, 'republic': 9524, '22nd': 9525, 'Alto': 9526, 'custom': 9527, 'overwhelmingly': 9528, 'harder': 9529, 'tornadoes': 9530, 'Prosecutor': 9531, 'Superintendent': 9532, 'Democracy': 9533, 'Debt': 9534, 'bride': 9535, 'convinced': 9536, 'Colbert': 9537, 'cheat': 9538, 'contributed': 9539, 'intensify': 9540, 'triggering': 9541, 'inspectors': 9542, 'fantasy': 9543, 'spark': 9544, 'obstruction': 9545, 'Huawei': 9546, 'bribes': 9547, 'Guide': 9548, 'Fallon': 9549, 'dividends': 9550, 'knock': 9551, 'MLB': 9552, '3500': 9553, 'fingers': 9554, 'Liga': 9555, 'labourers': 9556, 'grandfather': 9557, 'divided': 9558, 'lethal': 9559, 'y/y': 9560, 'indicators': 9561, 'blocking': 9562, 'affirms': 9563, 'Stan': 9564, 'expires': 9565, 'Nano': 9566, 'Waste': 9567, 'Yerevan': 9568, 'repurchase': 9569, 'surging': 9570, 'governors': 9571, 'Volunteers': 9572, 'voiced': 9573, 'turnout': 9574, 'kg': 9575, 'collecting': 9576, 'Fifa': 9577, 'sailing': 9578, 'chocolate': 9579, 'underlying': 9580, 'umpire': 9581, 'Writers': 9582, 'cellphone': 9583, 'Honduras': 9584, 'Ducks': 9585, 'controlling': 9586, 'firearm': 9587, 'Million': 9588, 'Breast': 9589, 'properly': 9590, 'generations': 9591, 'mob': 9592, 'Petraeus': 9593, 'warships': 9594, 'improper': 9595, 'Prakash': 9596, 'slur': 9597, 'Crowe': 9598, 'regulate': 9599, 'separated': 9600, 'Kia': 9601, 'conceded': 9602, 'pictured': 9603, 'reversing': 9604, 'intelligent': 9605, 'shrink': 9606, 'Violence': 9607, 'Fuel': 9608, 'Appeals': 9609, 'transparent': 9610, 'USS': 9611, 'fertilizer': 9612, 'Stephanie': 9613, 'cooling': 9614, 'licensed': 9615, 'memories': 9616, 'Soul': 9617, 'measuring': 9618, 'Mirza': 9619, 'discounts': 9620, 'Martha': 9621, 'treasury': 9622, 'Holiday': 9623, 'trustees': 9624, 'imaging': 9625, 'preview': 9626, 'theaters': 9627, 'patrols': 9628, 'Officers': 9629, 'Jo': 9630, 'Alexandra': 9631, 'Contador': 9632, 'captures': 9633, 'deliveries': 9634, 'Eastman': 9635, 'Jackets': 9636, 'Gunmen': 9637, 'seizes': 9638, 'concludes': 9639, 'Sears': 9640, 'collides': 9641, 'weighing': 9642, 'Napoli': 9643, 'Vision': 9644, 'superintendent': 9645, 'Sotomayor': 9646, 'Kay': 9647, 'Conway': 9648, 'Ajay': 9649, 'contacts': 9650, '24th': 9651, 'payable': 9652, 'Tina': 9653, 'Comcast': 9654, 'sort': 9655, 'OK': 9656, 'bet': 9657, 'Jaime': 9658, 'surrounded': 9659, 'interviews': 9660, 'promotional': 9661, 'Solomon': 9662, 'naming': 9663, 'Large': 9664, 'intoxication': 9665, 'Chan': 9666, 'Kylie': 9667, 'township': 9668, 'dangers': 9669, 'cop': 9670, 'Patna': 9671, 'terrible': 9672, 'judgment': 9673, 'lasting': 9674, 'economics': 9675, 'viewing': 9676, 'Dannii': 9677, 'Kelsey': 9678, 'gunfire': 9679, 'decisive': 9680, 'psychiatric': 9681, 'UC': 9682, 'contaminated': 9683, 'lists': 9684, 'settlements': 9685, '0.4': 9686, 'Paulson': 9687, 'partly': 9688, 'memoir': 9689, 'writers': 9690, 'Hudgens': 9691, 'servers': 9692, 'upto': 9693, 'Eye': 9694, 'surges': 9695, 'digit': 9696, 'commence': 9697, 'Davies': 9698, 'ordinance': 9699, 'testimony': 9700, 'MD': 9701, 'Osborne': 9702, 'Fewer': 9703, 'leaking': 9704, 'Topeka': 9705, 'Amar': 9706, 'immunity': 9707, 'console': 9708, 'Byrne': 9709, 'Holder': 9710, 'background': 9711, 'Saleh': 9712, 'hazardous': 9713, 'â€': 9714, 'paternity': 9715, 'comply': 9716, 'Lin': 9717, 'Lithuania': 9718, 'Nigel': 9719, 'Honolulu': 9720, 'Donovan': 9721, 'micro': 9722, 'Support': 9723, 'RSS': 9724, 'Quincy': 9725, 'Swat': 9726, 'neighbour': 9727, 'honours': 9728, 'transfers': 9729, 'Die': 9730, 'Bahraini': 9731, 'Minerals': 9732, 'Drogba': 9733, 'deserves': 9734, 'Clay': 9735, 'Shia': 9736, 'surfaced': 9737, 'loud': 9738, 'Perdue': 9739, 'outperform': 9740, 'Marina': 9741, 'Garrett': 9742, 'rescheduled': 9743, 'Principal': 9744, 'extremism': 9745, 'goodwill': 9746, 'SAS': 9747, 'conferences': 9748, 'Marvin': 9749, 'Nursing': 9750, 'Illegal': 9751, 'TI': 9752, 'Capitals': 9753, 'Reagan': 9754, 'maybe': 9755, 'fiancee': 9756, 'Lufthansa': 9757, 'troopers': 9758, 'disqualified': 9759, 'worsening': 9760, 'instant': 9761, 'Cherokee': 9762, 'Quest': 9763, 'obese': 9764, 'dominate': 9765, 'Crash': 9766, 'Centers': 9767, 'enrichment': 9768, 'scrutiny': 9769, 'premieres': 9770, 'hiked': 9771, 'Blackberry': 9772, 'indication': 9773, 'regularly': 9774, 'personally': 9775, 'Productions': 9776, 'Serb': 9777, 'Warne': 9778, 'comprising': 9779, 'reviewed': 9780, 'victories': 9781, 'Sutherland': 9782, 'versions': 9783, 'continuous': 9784, 'thunderstorms': 9785, 'teaming': 9786, 'Are': 9787, 'Elena': 9788, 'contracted': 9789, 'infamous': 9790, 'misleading': 9791, 'showers': 9792, 'DeGeneres': 9793, 'Calhoun': 9794, 'touching': 9795, 'Raceway': 9796, 'lorry': 9797, 'troubles': 9798, 'Germain': 9799, 'Picture': 9800, '650': 9801, 'yoga': 9802, 'Sonic': 9803, 'eyeing': 9804, 'Machine': 9805, '27th': 9806, 'Rule': 9807, 'identifying': 9808, 'migrant': 9809, 'candlestick': 9810, 'engulfing': 9811, 'flows': 9812, 'ID': 9813, 'Register': 9814, 'athletics': 9815, 'catastrophic': 9816, 'aerospace': 9817, 'priorities': 9818, 'minorities': 9819, 'emission': 9820, 'disclosure': 9821, 'preventing': 9822, 'lovers': 9823, 'Kazakh': 9824, 'Charity': 9825, 'Patriot': 9826, 'Khurshid': 9827, 'Yusuf': 9828, 'truce': 9829, 'Fitness': 9830, 'Gurgaon': 9831, 'Shirley': 9832, 'shadow': 9833, 'Editor': 9834, 'rooms': 9835, 'Mahendra': 9836, 'nobody': 9837, 'Kyiv': 9838, 'injunction': 9839, 'mentioned': 9840, 'Poker': 9841, 'prevented': 9842, 'architect': 9843, 'TSX': 9844, 'bingo': 9845, 'balls': 9846, 'skies': 9847, 'Gabor': 9848, 'auctioned': 9849, 'semifinal': 9850, 'importing': 9851, 'Rivera': 9852, 'Carbon': 9853, 'headlines': 9854, 'Johan': 9855, 'Zero': 9856, 'column': 9857, 'racism': 9858, 'grades': 9859, 'Basu': 9860, 'politically': 9861, 'Ranbir': 9862, 'Mercy': 9863, 'Families': 9864, 'balcony': 9865, 'stab': 9866, 'stimulate': 9867, 'Initiative': 9868, 'Less': 9869, 'Consulting': 9870, 'tariffs': 9871, 'Corning': 9872, 'Trafford': 9873, 'latter': 9874, 'narcotics': 9875, 'Lieberman': 9876, 'condemn': 9877, 'indoor': 9878, 'Jude': 9879, 'Il': 9880, 'Indy': 9881, 'bell': 9882, 'issuer': 9883, 'thrilled': 9884, 'autobiography': 9885, 'backdrop': 9886, 'iPhones': 9887, 'delegates': 9888, 'Harley': 9889, 'OLD': 9890, 'Roanoke': 9891, 'Rodham': 9892, 'According': 9893, 'Sevilla': 9894, 'automakers': 9895, 'Fletcher': 9896, 'aides': 9897, 'determination': 9898, 'filmed': 9899, 'Richter': 9900, 'Incorporated': 9901, 'Tripura': 9902, '7:30': 9903, 'attendants': 9904, 'vendors': 9905, 'Francois': 9906, 'Astana': 9907, 'sailor': 9908, 'knocks': 9909, 'Karan': 9910, 'Millionaire': 9911, 'shoplifting': 9912, 'Crow': 9913, 'finalists': 9914, 'premiums': 9915, 'Shahrukh': 9916, 'pan': 9917, 'addict': 9918, 'conditioning': 9919, 'Bon': 9920, 'highlighted': 9921, 'Brewer': 9922, 'Gloucester': 9923, 'bold': 9924, 'Webster': 9925, '2.6': 9926, 'Cheltenham': 9927, 'Asda': 9928, 'der': 9929, 'except': 9930, 'Colo': 9931, 'PepsiCo': 9932, 'Nature': 9933, 'villagers': 9934, 'Fabrice': 9935, 'warplanes': 9936, 'detain': 9937, 'Sylvester': 9938, 'Payne': 9939, 'halts': 9940, 'inaugurates': 9941, 'Bronx': 9942, 'Nagorno': 9943, 'musicians': 9944, 'Advanced': 9945, '102': 9946, 'Hitler': 9947, 'decreased': 9948, 'scenario': 9949, 'tenants': 9950, 'nights': 9951, 'shifting': 9952, 'referred': 9953, 'slot': 9954, 'extremists': 9955, 'Baton': 9956, 'enables': 9957, 'Cat': 9958, 'Chhattisgarh': 9959, 'sellers': 9960, 'holdings': 9961, 'Scout': 9962, 'Lotus': 9963, 'spared': 9964, 'jockey': 9965, 'Marks': 9966, 'ashore': 9967, 'Buccaneers': 9968, 'festive': 9969, 'SWAT': 9970, 'entirely': 9971, 'undefeated': 9972, 'Anonymous': 9973, 'goodbye': 9974, 'Apollo': 9975, 'Cesar': 9976, 'ministerial': 9977, 'eagle': 9978, 'strongest': 9979, 'disposal': 9980, 'Ugandan': 9981, 'homage': 9982, 'bulk': 9983, 'demonstrated': 9984, 'bypass': 9985, 'landscape': 9986, 'Boone': 9987, '3.7': 9988, 'Rao': 9989, 'Frederick': 9990, 'Lockheed': 9991, 'Hunt': 9992, 'inspector': 9993, 'Progressive': 9994, 'breached': 9995, 'Knightley': 9996, 'Yankee': 9997, 'rejoin': 9998, 'Ferry': 9999}\n"
     ]
    }
   ],
   "execution_count": 235
  },
  {
   "cell_type": "markdown",
   "source": [
    "<a name='e4'></a>\n",
    "### Exercise 4: Bag of Words\n",
    "(1p) Here we will create the bag-of-words representation of the sentences. The function will take a single sentence (list of tokens) and return an array of size `vocab_size` with the counts of each word in the vocabulary. The\n",
    "`vocab_size` is calculated as the length of the passed `token_to_id` dictionary. The resulting array should have zeros everywhere but the indices corresponding to the words in the vocabulary where it should have the counts of the words in the sentence. For example, if the sentence is `['fox', 'and', 'deer']` and the vocabulary is `{'fox': 0, 'and': 1, 'deer': 2}`, the resulting array should be `[1, 1, 1]`. If the sentence is `['fox', 'and', 'fox', 'deer']`, the resulting array should be `[2, 1, 1]`."
   ],
   "metadata": {
    "collapsed": false,
    "pycharm": {
     "name": "#%% md\n"
    }
   }
  },
  {
   "cell_type": "code",
   "source": [
    "def bag_of_words(sentence, token_to_id):\n",
    "    \"\"\"\n",
    "    Creates a bag-of-words representation of the sentence\n",
    "    Args:\n",
    "        sentence: a list of tokens\n",
    "        token_to_id: a dictionary mapping each word to an index in the vocabulary\n",
    "\n",
    "    Returns:: a numpy array of size vocab_size with the counts of each word in the vocabulary\n",
    "\n",
    "    \"\"\"\n",
    "    vocab_size = len(token_to_id)\n",
    "    bow = np.zeros(vocab_size, dtype=int)\n",
    "\n",
    "    ### YOUR CODE HERE\n",
    "\n",
    "    for token in sentence:\n",
    "        if token in token_to_id:\n",
    "            bow[token_to_id[token]] += 1\n",
    "\n",
    "    ### YOUR CODE ENDS HERE\n",
    "\n",
    "    return bow"
   ],
   "metadata": {
    "collapsed": false,
    "pycharm": {
     "name": "#%%\n"
    },
    "ExecuteTime": {
     "end_time": "2025-04-16T12:56:30.307744Z",
     "start_time": "2025-04-16T12:56:30.305512Z"
    }
   },
   "outputs": [],
   "execution_count": 236
  },
  {
   "cell_type": "markdown",
   "source": [
    "Let's see how the function works on a single sentence. The output should be a numpy array of size `vocab_size` with the counts of each word in the vocabulary."
   ],
   "metadata": {
    "collapsed": false,
    "pycharm": {
     "name": "#%% md\n"
    }
   }
  },
  {
   "cell_type": "code",
   "source": [
    "print('Tokenized sentence:')\n",
    "print(tokenized_sentences[0])\n",
    "sentence_bow = bag_of_words(tokenized_sentences[0], token_to_id)\n",
    "\n",
    "print('Bag of words:')\n",
    "print(sentence_bow)\n",
    "print('Type of bag of words:')\n",
    "print(type(sentence_bow))\n",
    "print('Shape of bag of words:')\n",
    "print(sentence_bow.shape)\n",
    "print('Non-zero elements in bag of words:')\n",
    "print(np.nonzero(sentence_bow)[0])"
   ],
   "metadata": {
    "collapsed": false,
    "pycharm": {
     "name": "#%%\n"
    },
    "ExecuteTime": {
     "end_time": "2025-04-16T12:56:30.389852Z",
     "start_time": "2025-04-16T12:56:30.385922Z"
    }
   },
   "outputs": [
    {
     "name": "stdout",
     "output_type": "stream",
     "text": [
      "Tokenized sentence:\n",
      "['Servisair', 'new', 'Angolan', 'airline', 'due', 'start', 'operating', 'Wednesday', 'flight', 'between', 'cities', 'Luanda', 'Lubango', 'Huíla', 'province', 'company', 'said', 'statement', 'published', 'Luanda', 'Monday']\n",
      "Bag of words:\n",
      "[0 0 1 ... 0 0 0]\n",
      "Type of bag of words:\n",
      "<class 'numpy.ndarray'>\n",
      "Shape of bag of words:\n",
      "(10000,)\n",
      "Non-zero elements in bag of words:\n",
      "[   2    6   26   27   65  199  232  262  794 1130 1138 1487 1514 1545\n",
      " 1919]\n"
     ]
    }
   ],
   "execution_count": 237
  },
  {
   "cell_type": "markdown",
   "source": [
    "We can also check in detail what words and their counts are in the bag-of-words representation."
   ],
   "metadata": {
    "collapsed": false,
    "pycharm": {
     "name": "#%% md\n"
    }
   }
  },
  {
   "cell_type": "code",
   "source": [
    "sentence_non_zero_bow = np.nonzero(sentence_bow)[0]\n",
    "print('Non-zero elements in bag of words:')\n",
    "print(sentence_non_zero_bow)\n",
    "for i in sentence_non_zero_bow:\n",
    "    print(vocab[i][0], ':', sentence_bow[i])"
   ],
   "metadata": {
    "collapsed": false,
    "pycharm": {
     "name": "#%%\n"
    },
    "ExecuteTime": {
     "end_time": "2025-04-16T12:56:30.479599Z",
     "start_time": "2025-04-16T12:56:30.476737Z"
    }
   },
   "outputs": [
    {
     "name": "stdout",
     "output_type": "stream",
     "text": [
      "Non-zero elements in bag of words:\n",
      "[   2    6   26   27   65  199  232  262  794 1130 1138 1487 1514 1545\n",
      " 1919]\n",
      "said : 1\n",
      "new : 1\n",
      "Wednesday : 1\n",
      "Monday : 1\n",
      "company : 1\n",
      "between : 1\n",
      "due : 1\n",
      "start : 1\n",
      "statement : 1\n",
      "flight : 1\n",
      "published : 1\n",
      "airline : 1\n",
      "operating : 1\n",
      "province : 1\n",
      "cities : 1\n"
     ]
    }
   ],
   "execution_count": 238
  },
  {
   "cell_type": "markdown",
   "source": [
    "The following function will apply all the steps we implemented to a single sentence. It returns a bag of words representation that we will use to calculate the similarity between different sentences."
   ],
   "metadata": {
    "collapsed": false,
    "pycharm": {
     "name": "#%% md\n"
    }
   }
  },
  {
   "cell_type": "code",
   "source": [
    "def embed_text(text, clean_fn, tokenize_fn, embed_fn):\n",
    "    cleaned = clean_fn(text)\n",
    "    tokens = tokenize_fn(cleaned)\n",
    "    embedding = embed_fn(tokens)\n",
    "    return embedding"
   ],
   "metadata": {
    "collapsed": false,
    "pycharm": {
     "name": "#%%\n"
    },
    "ExecuteTime": {
     "end_time": "2025-04-16T12:56:30.559403Z",
     "start_time": "2025-04-16T12:56:30.556935Z"
    }
   },
   "outputs": [],
   "execution_count": 239
  },
  {
   "cell_type": "markdown",
   "source": [
    "<a name='e5'></a>\n",
    "### Exercise 5: Cosine Similarity between two vectors\n",
    "\n",
    "(1p) Complete the following function that given any two vectors will compute the cosine similarity. If you don't remember the formula for the cosine similarity, revisit the course material. Notice that the function receives numpy arrays and recall that you can express cosine similarity as a dot product. Use numpy functions to write an efficient implementation."
   ],
   "metadata": {
    "collapsed": false,
    "pycharm": {
     "name": "#%% md\n"
    }
   }
  },
  {
   "cell_type": "code",
   "source": [
    "def cosine_similarity(vector1, vector2):\n",
    "    \"\"\"\n",
    "    Computes the cosine similarity between two vectors\n",
    "    Args:\n",
    "        vector1: numpy array of the first vector\n",
    "        vector2: numpy array of the second vector\n",
    "\n",
    "    Returns: cosine similarity\n",
    "\n",
    "    \"\"\"\n",
    "    ### YOUR CODE HERE\n",
    "\n",
    "    cosine = np.dot(vector1, vector2)/(np.linalg.norm(vector1) * np.linalg.norm(vector2))\n",
    "    return cosine\n",
    "\n",
    "    ### YOUR CODE ENDS HERE"
   ],
   "metadata": {
    "collapsed": false,
    "pycharm": {
     "name": "#%%\n"
    },
    "ExecuteTime": {
     "end_time": "2025-04-16T12:56:30.641234Z",
     "start_time": "2025-04-16T12:56:30.638906Z"
    }
   },
   "outputs": [],
   "execution_count": 240
  },
  {
   "cell_type": "code",
   "source": [
    "cosine_similarity(np.array([0, 1, 2]), np.array([0, 2, 4]))"
   ],
   "metadata": {
    "collapsed": false,
    "pycharm": {
     "name": "#%%\n"
    },
    "ExecuteTime": {
     "end_time": "2025-04-16T12:56:30.724205Z",
     "start_time": "2025-04-16T12:56:30.720744Z"
    }
   },
   "outputs": [
    {
     "data": {
      "text/plain": [
       "0.9999999999999998"
      ]
     },
     "execution_count": 241,
     "metadata": {},
     "output_type": "execute_result"
    }
   ],
   "execution_count": 241
  },
  {
   "cell_type": "code",
   "source": [
    "sentences = [\n",
    "    'The quick brown fox jumps over the lazy dog.',\n",
    "    'Some interesting document containing sentences.',\n",
    "    'The quick brown fox jumps over the lazy cat and some other stuff.',\n",
    "    'Fox and deer are not friends.',\n",
    "    'fox and deer',\n",
    "    'Fox and deer are not friends. But this document is a lot longer than the previous one. We can add sentence by sentence and see how the embeddings change.',\n",
    "]\n",
    "embedded_sentences = [\n",
    "    embed_text(sentence, clean, tokenize, lambda x: bag_of_words(x, token_to_id))\n",
    "    for sentence in sentences\n",
    "]\n",
    "\n",
    "query = 'fox and deer'\n",
    "embedded_query = embed_text(query, clean, tokenize, lambda x: bag_of_words(x, token_to_id))\n",
    "\n",
    "cosine_similarities = [\n",
    "    cosine_similarity(embedded_query, embedded_sentence)\n",
    "    for embedded_sentence in embedded_sentences\n",
    "]\n",
    "print(f'Query: {query}')\n",
    "for sent, cos_sim in zip(sentences, cosine_similarities):\n",
    "    print(f'Cosine Similarity: {cos_sim:.4f} - Sentence: {sent}')"
   ],
   "metadata": {
    "collapsed": false,
    "pycharm": {
     "name": "#%%\n"
    },
    "ExecuteTime": {
     "end_time": "2025-04-16T12:56:30.828714Z",
     "start_time": "2025-04-16T12:56:30.823076Z"
    }
   },
   "outputs": [
    {
     "name": "stdout",
     "output_type": "stream",
     "text": [
      "Query: fox and deer\n",
      "Cosine Similarity: 0.0000 - Sentence: The quick brown fox jumps over the lazy dog.\n",
      "Cosine Similarity: 0.0000 - Sentence: Some interesting document containing sentences.\n",
      "Cosine Similarity: 0.0000 - Sentence: The quick brown fox jumps over the lazy cat and some other stuff.\n",
      "Cosine Similarity: 0.4472 - Sentence: Fox and deer are not friends.\n",
      "Cosine Similarity: 1.0000 - Sentence: fox and deer\n",
      "Cosine Similarity: 0.2085 - Sentence: Fox and deer are not friends. But this document is a lot longer than the previous one. We can add sentence by sentence and see how the embeddings change.\n"
     ]
    }
   ],
   "execution_count": 242
  },
  {
   "cell_type": "markdown",
   "source": [
    "We will apply the function to the whole dataset. This might take a while, so be patient. The result will be stored in the `sentence_bow` and `compressed_bow` fields of the dataset."
   ],
   "metadata": {
    "collapsed": false,
    "pycharm": {
     "name": "#%% md\n"
    }
   }
  },
  {
   "cell_type": "code",
   "source": [
    "def bag_of_words_dataset(example):\n",
    "    \"\"\"\n",
    "    Creates a bag-of-words representation of the sentence and compressed sentence in the example from the Dataset\n",
    "    Args:\n",
    "        example: an example from the Dataset\n",
    "\n",
    "    Returns: updated example with 'sentence_bow' and 'compressed_bow' columns\n",
    "\n",
    "    \"\"\"\n",
    "    sentence_tokens = example['sentence_tokens']\n",
    "    compressed_tokens = example['compressed_tokens']\n",
    "\n",
    "    sentence_bow = bag_of_words(sentence_tokens, token_to_id)\n",
    "    compressed_bow = bag_of_words(compressed_tokens, token_to_id)\n",
    "\n",
    "    example['sentence_bow'] = sentence_bow\n",
    "    example['compressed_bow'] = compressed_bow\n",
    "    return example"
   ],
   "metadata": {
    "collapsed": false,
    "pycharm": {
     "name": "#%%\n"
    },
    "ExecuteTime": {
     "end_time": "2025-04-16T12:56:30.908645Z",
     "start_time": "2025-04-16T12:56:30.904840Z"
    }
   },
   "outputs": [],
   "execution_count": 243
  },
  {
   "cell_type": "markdown",
   "source": [
    "The following cell will apply the function to the whole dataset. The result will be stored in the `sentence_bow` and `compressed_bow` fields of the dataset. We will also convert the dataset's fields `sentence_bow` and `compressed_bow` to numpy format for easier manipulation."
   ],
   "metadata": {
    "collapsed": false,
    "pycharm": {
     "name": "#%% md\n"
    }
   }
  },
  {
   "cell_type": "code",
   "source": [
    "test_ds = split_ds['test'].map(bag_of_words_dataset)\n",
    "test_ds = test_ds.with_format('np', columns=['sentence_bow', 'compressed_bow'], dtype=float)\n",
    "print(test_ds)"
   ],
   "metadata": {
    "collapsed": false,
    "pycharm": {
     "name": "#%%\n"
    },
    "ExecuteTime": {
     "end_time": "2025-04-16T12:56:41.755194Z",
     "start_time": "2025-04-16T12:56:30.995536Z"
    }
   },
   "outputs": [
    {
     "name": "stderr",
     "output_type": "stream",
     "text": [
      "Map: 100%|██████████| 36000/36000 [00:10<00:00, 3355.62 examples/s]"
     ]
    },
    {
     "name": "stdout",
     "output_type": "stream",
     "text": [
      "Dataset({\n",
      "    features: ['set', 'clean_sentence', 'clean_compressed', 'sentence_tokens', 'compressed_tokens', 'sentence_bow', 'compressed_bow'],\n",
      "    num_rows: 36000\n",
      "})\n"
     ]
    },
    {
     "name": "stderr",
     "output_type": "stream",
     "text": [
      "\n"
     ]
    }
   ],
   "execution_count": 244
  },
  {
   "cell_type": "markdown",
   "source": [
    "Let's check the results. The `sentence_bow` and `compressed_bow` fields should contain the bag-of-words representation of the sentences and compressed sentences, respectively."
   ],
   "metadata": {
    "collapsed": false,
    "pycharm": {
     "name": "#%% md\n"
    }
   }
  },
  {
   "cell_type": "code",
   "source": [
    "print(test_ds[0])"
   ],
   "metadata": {
    "collapsed": false,
    "pycharm": {
     "name": "#%%\n"
    },
    "ExecuteTime": {
     "end_time": "2025-04-16T12:56:41.845163Z",
     "start_time": "2025-04-16T12:56:41.839909Z"
    }
   },
   "outputs": [
    {
     "name": "stdout",
     "output_type": "stream",
     "text": [
      "{'sentence_bow': array([0., 0., 0., ..., 0., 0., 0.]), 'compressed_bow': array([0., 0., 0., ..., 0., 0., 0.])}\n"
     ]
    }
   ],
   "execution_count": 245
  },
  {
   "cell_type": "code",
   "source": [
    "sentences_bows = test_ds['sentence_bow']\n",
    "print(sentences_bows.shape)"
   ],
   "metadata": {
    "collapsed": false,
    "pycharm": {
     "name": "#%%\n"
    },
    "ExecuteTime": {
     "end_time": "2025-04-16T12:56:49.475504Z",
     "start_time": "2025-04-16T12:56:42.031898Z"
    }
   },
   "outputs": [
    {
     "name": "stdout",
     "output_type": "stream",
     "text": [
      "(36000, 10000)\n"
     ]
    }
   ],
   "execution_count": 246
  },
  {
   "cell_type": "markdown",
   "source": [
    "Now we can start building a retriever based on the bag of words representation. The first step is to calculate the cosine similarity between two vectors."
   ],
   "metadata": {
    "collapsed": false,
    "pycharm": {
     "name": "#%% md\n"
    }
   }
  },
  {
   "cell_type": "markdown",
   "source": [
    "<a name='e6'></a>\n",
    "### Exercise 6: Cosine Similarity between a vector and an array of vectors\n",
    "\n",
    "(2p) The next step in our retrieval system, would be to calculate the proximity of a query to our retrieval corpus (in our case that is all the sentences).\n",
    "\n",
    "Complete the following function to calculate the cosine similarity between a vector (first parameter `vector`, that will usually be the query vector) and all other vectors (second parameter `other_vectors`, that will be the sentence embeddings in our case). Note that the `other_vectors` parameter is a single numpy array of size `N x D`, where $N$ is the number of vectors and $D$ is the dimension of each vector.\n",
    "\n",
    "For maximum efficiency (we will need it) do not use loops. Try to write the implementation with numpy functions. Hint: matrix multiplication can be seen as calculating the dot product between rows and columns of the multiplied matrices."
   ],
   "metadata": {
    "collapsed": false,
    "pycharm": {
     "name": "#%% md\n"
    }
   }
  },
  {
   "cell_type": "code",
   "metadata": {
    "id": "LgaV2b3fpSOR",
    "pycharm": {
     "name": "#%%\n"
    },
    "ExecuteTime": {
     "end_time": "2025-04-16T12:56:49.636597Z",
     "start_time": "2025-04-16T12:56:49.632610Z"
    }
   },
   "source": [
    "def cosine_similarity_1_to_n(vector, other_vectors):\n",
    "    \"\"\"\n",
    "    Calculates the cosine similarity between a single vector and other vectors.\n",
    "    Args:\n",
    "        vector: a numpy array representing a vector of D dimensions\n",
    "        other_vectors: a 2D numpy array representing other vectors (of the size NxD, where N is the number of vectors and D is their dimension)\n",
    "\n",
    "    Returns: a 1D numpy array of size N containing the cosine similarity between the vector and all the other vectors\n",
    "\n",
    "    \"\"\"\n",
    "\n",
    "    #### YOUR CODE HERE\n",
    "\n",
    "    matrix_multiplication = other_vectors @ vector\n",
    "    norms = np.linalg.norm(other_vectors, axis=1) * np.linalg.norm(vector)\n",
    "    return matrix_multiplication / (norms+1e-10) # divide by 0 error\n",
    "\n",
    "    ### YOUR CODE ENDS HERE"
   ],
   "outputs": [],
   "execution_count": 247
  },
  {
   "cell_type": "markdown",
   "metadata": {
    "collapsed": false,
    "id": "irNqAJZLpSOR",
    "pycharm": {
     "name": "#%% md\n"
    }
   },
   "source": [
    "We will use the function to calculate the similarity of all sentences in the dataset to our query."
   ]
  },
  {
   "cell_type": "code",
   "source": [
    "query = 'fox and deer'\n",
    "embedded_query = embed_text(query, clean, tokenize, lambda x: bag_of_words(x, token_to_id))"
   ],
   "metadata": {
    "collapsed": false,
    "pycharm": {
     "name": "#%%\n"
    },
    "ExecuteTime": {
     "end_time": "2025-04-16T12:56:49.649975Z",
     "start_time": "2025-04-16T12:56:49.647112Z"
    }
   },
   "outputs": [],
   "execution_count": 248
  },
  {
   "cell_type": "code",
   "metadata": {
    "id": "uD9mVAhYpSOR",
    "pycharm": {
     "name": "#%%\n"
    },
    "ExecuteTime": {
     "end_time": "2025-04-16T12:56:52.439178Z",
     "start_time": "2025-04-16T12:56:49.733165Z"
    }
   },
   "source": [
    "query_similarity = cosine_similarity_1_to_n(embedded_query, sentences_bows)\n",
    "print(query_similarity.shape)\n",
    "print(query_similarity[:10])\n",
    "matrix =  sentences_bows @ embedded_query\n",
    "print(matrix[6471])"
   ],
   "outputs": [
    {
     "name": "stdout",
     "output_type": "stream",
     "text": [
      "(36000,)\n",
      "[0. 0. 0. 0. 0. 0. 0. 0. 0. 0.]\n",
      "0.0\n"
     ]
    }
   ],
   "execution_count": 249
  },
  {
   "metadata": {
    "ExecuteTime": {
     "end_time": "2025-04-16T12:56:52.781854Z",
     "start_time": "2025-04-16T12:56:52.778966Z"
    }
   },
   "cell_type": "code",
   "source": "print(tokenized_sentences[3])",
   "outputs": [
    {
     "name": "stdout",
     "output_type": "stream",
     "text": [
      "['Economic', 'social', 'activities', 'were', 'again', 'disrupted', 'Yenagoa', 'Bayelsa', 'State', 'capital', 'yesterday', 'when', 'repentant', 'militants', 'protested', 'alleged', 'non', 'payment', 'allowances', 'promised', 'them', 'Federal', 'Government', 'amnesty', 'committee']\n"
     ]
    }
   ],
   "execution_count": 250
  },
  {
   "cell_type": "markdown",
   "metadata": {
    "collapsed": false,
    "id": "_l3erVTNpSOR",
    "pycharm": {
     "name": "#%% md\n"
    }
   },
   "source": [
    "The following cell will select the most similar sentence."
   ]
  },
  {
   "cell_type": "code",
   "metadata": {
    "id": "0wWa4AWHpSOR",
    "pycharm": {
     "name": "#%%\n"
    },
    "ExecuteTime": {
     "end_time": "2025-04-16T12:56:52.790922Z",
     "start_time": "2025-04-16T12:56:52.785782Z"
    }
   },
   "source": [
    "most_similar = int(np.argmax(query_similarity))\n",
    "print(most_similar)\n",
    "print(query_similarity[most_similar])\n",
    "print(split_ds['test'][most_similar]['set'][0])\n",
    "print(\"Dot product:\", np.dot(embedded_query, sentences_bows[6471]))\n",
    "print(\"Query norm:\", np.linalg.norm(embedded_query))\n",
    "print(\"Target norm:\", np.linalg.norm(sentences_bows[6471]))\n",
    "print(\"Expected cosine:\", np.dot(embedded_query, sentences_bows[6471]) /\n",
    "                          (np.linalg.norm(embedded_query) * np.linalg.norm(sentences_bows[6471])))\n",
    "print(\"Actual cosine:\", query_similarity[6471])"
   ],
   "outputs": [
    {
     "name": "stdout",
     "output_type": "stream",
     "text": [
      "8102\n",
      "0.3333333333222222\n",
      "On Friday, high school students from Eveleth Gilbert spent the day collecting deer ticks.\n",
      "Dot product: 0.0\n",
      "Query norm: 1.0\n",
      "Target norm: 4.69041575982343\n",
      "Expected cosine: 0.0\n",
      "Actual cosine: 0.0\n"
     ]
    }
   ],
   "execution_count": 251
  },
  {
   "cell_type": "markdown",
   "metadata": {
    "collapsed": false,
    "id": "fpdJHFD1pSOR",
    "pycharm": {
     "name": "#%% md\n"
    }
   },
   "source": [
    "The following function will return the indices of the top-k elements in the array."
   ]
  },
  {
   "cell_type": "code",
   "metadata": {
    "id": "QFUNI9elpSOS",
    "pycharm": {
     "name": "#%%\n"
    },
    "ExecuteTime": {
     "end_time": "2025-04-16T12:56:52.873776Z",
     "start_time": "2025-04-16T12:56:52.871129Z"
    }
   },
   "source": [
    "def top_k_indices(array, k, sorted=True):\n",
    "    \"\"\"\n",
    "    Returns top-k indices from the 1D array. If `sorted` is `True` the returned indices are sorted in the descending order\n",
    "    Args:\n",
    "        array: a 1D numpy array\n",
    "        k: a number of top indices to return\n",
    "        sorted: if True, the returned indices are sorted in descending order\n",
    "\n",
    "    Returns: a 1D array containing top-k indices\n",
    "\n",
    "    \"\"\"\n",
    "    top_k = np.argpartition(array, -k)[-k:]\n",
    "    if sorted:\n",
    "        selected = array[top_k]\n",
    "        sorted_selected = (-selected).argsort()\n",
    "        top_k = top_k[sorted_selected]\n",
    "    return top_k"
   ],
   "outputs": [],
   "execution_count": 252
  },
  {
   "cell_type": "code",
   "metadata": {
    "id": "nY8vvJdepSOS",
    "pycharm": {
     "name": "#%%\n"
    },
    "ExecuteTime": {
     "end_time": "2025-04-16T12:56:52.967344Z",
     "start_time": "2025-04-16T12:56:52.955786Z"
    }
   },
   "source": [
    "top_indices = top_k_indices(query_similarity, k=10).tolist()\n",
    "for idx in top_indices:\n",
    "    print(split_ds['test'][idx]['set'][0])\n",
    "    print(f'similarity: {query_similarity[idx]}')"
   ],
   "outputs": [
    {
     "name": "stdout",
     "output_type": "stream",
     "text": [
      "Drivers in the Borders and south of Scotland are being warned to watch out for deer on the road.\n",
      "similarity: 0.3333333333222222\n",
      "On Friday, high school students from Eveleth Gilbert spent the day collecting deer ticks.\n",
      "similarity: 0.3333333333222222\n",
      "It's deer hunting season, and that means some lucky hunters will bring home venison.\n",
      "similarity: 0.31622776600683794\n",
      "Actor Kyle Chandler rescued a newborn deer after he found it caught up in a cactus patch on his Texas ranch.\n",
      "similarity: 0.2886751345864796\n",
      "Dead deer found in corn fields near Wee Town and Vergas have been linked to mold in corn.\n",
      "similarity: 0.2773500981049223\n",
      "A Quincy man swerved to avoid a deer early Thursday morning and lost control of his motorcycle, which slid into a ditch.\n",
      "similarity: 0.26726124190528155\n",
      "AP Sports Writer Vijay Singh has withdrawn from the Phoenix Open, a day after saying he used deer-antler spray.\n",
      "similarity: 0.26726124190528155\n",
      "The legal battle over a 7-year-old deer named Snowball has cost the state of Oregon more than $86,000 so far.\n",
      "similarity: 0.24999999999375\n",
      "Firearm hunters in Whiteside and Carroll counties harvested 160 less deer this season, according to preliminary data released by the Illinois Department of Natural Resources on Wednesday.\n",
      "similarity: 0.24253562503045062\n",
      "Green Valley State Park will be closed to the general public Nov. 17-18, for the ninth annual special park deer hunt.\n",
      "similarity: 0.2357022603899603\n"
     ]
    }
   ],
   "execution_count": 253
  },
  {
   "cell_type": "markdown",
   "metadata": {
    "collapsed": false,
    "id": "BuRI2JzQpSOS",
    "pycharm": {
     "name": "#%% md\n"
    }
   },
   "source": [
    "<a name='e7'></a>\n",
    "### Exercise 7: Analyzing and improving BOW search results\n",
    "\n",
    "Experiment with different queries (taking into account the nature of the dataset and your insights from the analysis so far).\n",
    "Answer the following questions:\n",
    "- (5p) Does the search perform well? When does it fail? Discuss several examples that are we get an expected but also unexpected results (find at least 3 from each category). Provide reasons for the good/bad result in each case (e.g. is there some error in the data, is there some linguistic phenomenon that we don't capture, is something wrong with our modeling with average embeddings, ...)\n",
    "- (5p) If you see problems with search, how could you improve your implementation? Change the functions above, if you think there is room for improvement. Describe your changes and how they made the search better or (in case you made no changes) explain what made the search robust enough to work well."
   ]
  },
  {
   "cell_type": "code",
   "metadata": {
    "id": "sEQKHAvcpSOS",
    "pycharm": {
     "name": "#%%\n"
    },
    "ExecuteTime": {
     "end_time": "2025-04-16T12:56:53.123922Z",
     "start_time": "2025-04-16T12:56:53.122358Z"
    }
   },
   "source": [
    "#### YOUR CODE HERE\n",
    "\n",
    "\n",
    "\n",
    "### YOUR CODE ENDS HERE"
   ],
   "outputs": [],
   "execution_count": 254
  },
  {
   "cell_type": "markdown",
   "metadata": {
    "id": "eiIGTfq6eFI5",
    "pycharm": {
     "name": "#%% md\n"
    }
   },
   "source": [
    "// your comments"
   ]
  },
  {
   "cell_type": "markdown",
   "source": [
    "## 3. Term Frequency - Inverse Document Frequency (TF-IDF)\n",
    "\n",
    "In this section we will implement the TF-IDF algorithm. While BOW is a simple way to represent the documents, it has some limitations. For example, it does not take into account the importance of each word in the document. TF-IDF representation takes into account the frequency of each word in the document and the frequency of the word in the whole dataset. It is a widely used technique in information retrieval and text mining. Refer to the lecture slides for more details."
   ],
   "metadata": {
    "collapsed": false,
    "pycharm": {
     "name": "#%% md\n"
    }
   }
  },
  {
   "cell_type": "markdown",
   "source": [
    "<a name='e8'></a>\n",
    "### Exercise 8: Inverse Document Frequency (IDF)\n",
    "(5p) In this exercise, you will implement the TF-IDF algorithm. First, calculate Inverse Document Frequency (IDF) for each word in the vocabulary. Intuitively, it is a measure of how informative a word is based on the whole dataset. Consult the lecture slides for the details. The IDF is calculated as follows:\n",
    "$$\n",
    "IDF(t) = log_{10}(N/df(t))$$\n",
    "where $N$ is the total number of documents (sentences) in the dataset and $df(t)$ is the number of documents containing the word $t$.\n"
   ],
   "metadata": {
    "collapsed": false,
    "pycharm": {
     "name": "#%% md\n"
    }
   }
  },
  {
   "cell_type": "code",
   "source": [
    "def calculate_idf(bows):\n",
    "    \"\"\"\n",
    "    Calculates the IDF for each word in the vocabulary\n",
    "    Args:\n",
    "        bows: numpy array of size (N x D) where N is the number of documents and D is the vocabulary size\n",
    "\n",
    "    Returns: a numpy array of size D with IDF values for each token\n",
    "    \"\"\"\n",
    "\n",
    "    ### YOUR CODE HERE\n",
    "\n",
    "    N = bows.shape[0]\n",
    "    df = np.count_nonzero(bows > 0, axis=0)\n",
    "    idf = np.log(N /(df+1)) # df+1 divide by 0 issues)\n",
    "\n",
    "    return idf\n",
    "\n",
    "\n",
    "    ### YOUR CODE ENDS HERE\n",
    "\n",
    "idf = calculate_idf(sentences_bows)"
   ],
   "metadata": {
    "collapsed": false,
    "pycharm": {
     "name": "#%%\n"
    },
    "ExecuteTime": {
     "end_time": "2025-04-16T14:06:16.414004Z",
     "start_time": "2025-04-16T14:06:14.658541Z"
    }
   },
   "outputs": [],
   "execution_count": 280
  },
  {
   "cell_type": "markdown",
   "source": [
    "<a name='e9'></a>\n",
    "### Exercise 9: TF-IDF\n",
    "- (5p) Calculate TF-IDF on the `test` subset of the dataset.\n",
    "- (5p) Analyze the search results based on your implemented TF-IDF. Does the search perform well? When does it fail? Discuss several examples that are we get an expected but also unexpected results (find at least 3 from each category). Provide reasons for the good/bad result in each case (e.g. is there some error in the data, is there some linguistic phenomenon that we don't capture, is something wrong with our modeling with average embeddings, ...)\n",
    "- (5p) Compare the results with the ones you got with the bag-of-words representation. Discuss the differences and similarities. Do you think TF-IDF is a better representation for this task? Why or why not? Provide examples to support your arguments.\n"
   ],
   "metadata": {
    "collapsed": false,
    "pycharm": {
     "name": "#%% md\n"
    }
   }
  },
  {
   "cell_type": "code",
   "source": [
    "### YOUR CODE HERE\n",
    "\n",
    "\n",
    "\n",
    "\n",
    "### YOUR CODE ENDS HERE\n",
    "\n",
    "### YOU CAN ADD MORE CELLS"
   ],
   "metadata": {
    "collapsed": false,
    "pycharm": {
     "name": "#%%\n"
    },
    "ExecuteTime": {
     "end_time": "2025-04-16T12:56:53.198800Z",
     "start_time": "2025-04-16T12:56:53.196353Z"
    }
   },
   "outputs": [],
   "execution_count": 256
  },
  {
   "cell_type": "markdown",
   "source": [
    "// your comments"
   ],
   "metadata": {
    "collapsed": false,
    "pycharm": {
     "name": "#%% md\n"
    }
   }
  },
  {
   "cell_type": "markdown",
   "source": [
    "## 4. Word Embeddings\n",
    "\n",
    "In this section you will load the pre-trained word embeddings model - Glove. You can read more about it [here](https://aclanthology.org/D14-1162/) ([https://aclanthology.org/D14-1162/](https://aclanthology.org/D14-1162/)). The embeddings are trained on a large corpus of text and are available in different dimensions. We will start with the dimension of 100, but later you will be asked to experiment with other dimensions.\n",
    "Gensim library maintains a storage containing some pre-trained models. You can read more about it [here](https://github.com/piskvorky/gensim-data) ([https://github.com/piskvorky/gensim-data](https://github.com/piskvorky/gensim-data)). Be sure to read the README of this repository.\n",
    "\n",
    "Let's first load the info of what models are available."
   ],
   "metadata": {
    "collapsed": false,
    "pycharm": {
     "name": "#%% md\n"
    }
   }
  },
  {
   "cell_type": "code",
   "source": [
    "import json\n",
    "import gensim.downloader as api\n",
    "\n",
    "info = api.info()  # show info about available models/datasets\n",
    "print(json.dumps(info['models'], indent=2))"
   ],
   "metadata": {
    "collapsed": false,
    "pycharm": {
     "name": "#%%\n"
    },
    "ExecuteTime": {
     "end_time": "2025-04-16T14:08:23.348127Z",
     "start_time": "2025-04-16T14:08:23.124864Z"
    }
   },
   "outputs": [
    {
     "name": "stdout",
     "output_type": "stream",
     "text": [
      "{\n",
      "  \"fasttext-wiki-news-subwords-300\": {\n",
      "    \"num_records\": 999999,\n",
      "    \"file_size\": 1005007116,\n",
      "    \"base_dataset\": \"Wikipedia 2017, UMBC webbase corpus and statmt.org news dataset (16B tokens)\",\n",
      "    \"reader_code\": \"https://github.com/RaRe-Technologies/gensim-data/releases/download/fasttext-wiki-news-subwords-300/__init__.py\",\n",
      "    \"license\": \"https://creativecommons.org/licenses/by-sa/3.0/\",\n",
      "    \"parameters\": {\n",
      "      \"dimension\": 300\n",
      "    },\n",
      "    \"description\": \"1 million word vectors trained on Wikipedia 2017, UMBC webbase corpus and statmt.org news dataset (16B tokens).\",\n",
      "    \"read_more\": [\n",
      "      \"https://fasttext.cc/docs/en/english-vectors.html\",\n",
      "      \"https://arxiv.org/abs/1712.09405\",\n",
      "      \"https://arxiv.org/abs/1607.01759\"\n",
      "    ],\n",
      "    \"checksum\": \"de2bb3a20c46ce65c9c131e1ad9a77af\",\n",
      "    \"file_name\": \"fasttext-wiki-news-subwords-300.gz\",\n",
      "    \"parts\": 1\n",
      "  },\n",
      "  \"conceptnet-numberbatch-17-06-300\": {\n",
      "    \"num_records\": 1917247,\n",
      "    \"file_size\": 1225497562,\n",
      "    \"base_dataset\": \"ConceptNet, word2vec, GloVe, and OpenSubtitles 2016\",\n",
      "    \"reader_code\": \"https://github.com/RaRe-Technologies/gensim-data/releases/download/conceptnet-numberbatch-17-06-300/__init__.py\",\n",
      "    \"license\": \"https://github.com/commonsense/conceptnet-numberbatch/blob/master/LICENSE.txt\",\n",
      "    \"parameters\": {\n",
      "      \"dimension\": 300\n",
      "    },\n",
      "    \"description\": \"ConceptNet Numberbatch consists of state-of-the-art semantic vectors (also known as word embeddings) that can be used directly as a representation of word meanings or as a starting point for further machine learning. ConceptNet Numberbatch is part of the ConceptNet open data project. ConceptNet provides lots of ways to compute with word meanings, one of which is word embeddings. ConceptNet Numberbatch is a snapshot of just the word embeddings. It is built using an ensemble that combines data from ConceptNet, word2vec, GloVe, and OpenSubtitles 2016, using a variation on retrofitting.\",\n",
      "    \"read_more\": [\n",
      "      \"http://aaai.org/ocs/index.php/AAAI/AAAI17/paper/view/14972\",\n",
      "      \"https://github.com/commonsense/conceptnet-numberbatch\",\n",
      "      \"http://conceptnet.io/\"\n",
      "    ],\n",
      "    \"checksum\": \"fd642d457adcd0ea94da0cd21b150847\",\n",
      "    \"file_name\": \"conceptnet-numberbatch-17-06-300.gz\",\n",
      "    \"parts\": 1\n",
      "  },\n",
      "  \"word2vec-ruscorpora-300\": {\n",
      "    \"num_records\": 184973,\n",
      "    \"file_size\": 208427381,\n",
      "    \"base_dataset\": \"Russian National Corpus (about 250M words)\",\n",
      "    \"reader_code\": \"https://github.com/RaRe-Technologies/gensim-data/releases/download/word2vec-ruscorpora-300/__init__.py\",\n",
      "    \"license\": \"https://creativecommons.org/licenses/by/4.0/deed.en\",\n",
      "    \"parameters\": {\n",
      "      \"dimension\": 300,\n",
      "      \"window_size\": 10\n",
      "    },\n",
      "    \"description\": \"Word2vec Continuous Skipgram vectors trained on full Russian National Corpus (about 250M words). The model contains 185K words.\",\n",
      "    \"preprocessing\": \"The corpus was lemmatized and tagged with Universal PoS\",\n",
      "    \"read_more\": [\n",
      "      \"https://www.academia.edu/24306935/WebVectors_a_Toolkit_for_Building_Web_Interfaces_for_Vector_Semantic_Models\",\n",
      "      \"http://rusvectores.org/en/\",\n",
      "      \"https://github.com/RaRe-Technologies/gensim-data/issues/3\"\n",
      "    ],\n",
      "    \"checksum\": \"9bdebdc8ae6d17d20839dd9b5af10bc4\",\n",
      "    \"file_name\": \"word2vec-ruscorpora-300.gz\",\n",
      "    \"parts\": 1\n",
      "  },\n",
      "  \"word2vec-google-news-300\": {\n",
      "    \"num_records\": 3000000,\n",
      "    \"file_size\": 1743563840,\n",
      "    \"base_dataset\": \"Google News (about 100 billion words)\",\n",
      "    \"reader_code\": \"https://github.com/RaRe-Technologies/gensim-data/releases/download/word2vec-google-news-300/__init__.py\",\n",
      "    \"license\": \"not found\",\n",
      "    \"parameters\": {\n",
      "      \"dimension\": 300\n",
      "    },\n",
      "    \"description\": \"Pre-trained vectors trained on a part of the Google News dataset (about 100 billion words). The model contains 300-dimensional vectors for 3 million words and phrases. The phrases were obtained using a simple data-driven approach described in 'Distributed Representations of Words and Phrases and their Compositionality' (https://code.google.com/archive/p/word2vec/).\",\n",
      "    \"read_more\": [\n",
      "      \"https://code.google.com/archive/p/word2vec/\",\n",
      "      \"https://arxiv.org/abs/1301.3781\",\n",
      "      \"https://arxiv.org/abs/1310.4546\",\n",
      "      \"https://www.microsoft.com/en-us/research/publication/linguistic-regularities-in-continuous-space-word-representations/?from=http%3A%2F%2Fresearch.microsoft.com%2Fpubs%2F189726%2Frvecs.pdf\"\n",
      "    ],\n",
      "    \"checksum\": \"a5e5354d40acb95f9ec66d5977d140ef\",\n",
      "    \"file_name\": \"word2vec-google-news-300.gz\",\n",
      "    \"parts\": 1\n",
      "  },\n",
      "  \"glove-wiki-gigaword-50\": {\n",
      "    \"num_records\": 400000,\n",
      "    \"file_size\": 69182535,\n",
      "    \"base_dataset\": \"Wikipedia 2014 + Gigaword 5 (6B tokens, uncased)\",\n",
      "    \"reader_code\": \"https://github.com/RaRe-Technologies/gensim-data/releases/download/glove-wiki-gigaword-50/__init__.py\",\n",
      "    \"license\": \"http://opendatacommons.org/licenses/pddl/\",\n",
      "    \"parameters\": {\n",
      "      \"dimension\": 50\n",
      "    },\n",
      "    \"description\": \"Pre-trained vectors based on Wikipedia 2014 + Gigaword, 5.6B tokens, 400K vocab, uncased (https://nlp.stanford.edu/projects/glove/).\",\n",
      "    \"preprocessing\": \"Converted to w2v format with `python -m gensim.scripts.glove2word2vec -i <fname> -o glove-wiki-gigaword-50.txt`.\",\n",
      "    \"read_more\": [\n",
      "      \"https://nlp.stanford.edu/projects/glove/\",\n",
      "      \"https://nlp.stanford.edu/pubs/glove.pdf\"\n",
      "    ],\n",
      "    \"checksum\": \"c289bc5d7f2f02c6dc9f2f9b67641813\",\n",
      "    \"file_name\": \"glove-wiki-gigaword-50.gz\",\n",
      "    \"parts\": 1\n",
      "  },\n",
      "  \"glove-wiki-gigaword-100\": {\n",
      "    \"num_records\": 400000,\n",
      "    \"file_size\": 134300434,\n",
      "    \"base_dataset\": \"Wikipedia 2014 + Gigaword 5 (6B tokens, uncased)\",\n",
      "    \"reader_code\": \"https://github.com/RaRe-Technologies/gensim-data/releases/download/glove-wiki-gigaword-100/__init__.py\",\n",
      "    \"license\": \"http://opendatacommons.org/licenses/pddl/\",\n",
      "    \"parameters\": {\n",
      "      \"dimension\": 100\n",
      "    },\n",
      "    \"description\": \"Pre-trained vectors based on Wikipedia 2014 + Gigaword 5.6B tokens, 400K vocab, uncased (https://nlp.stanford.edu/projects/glove/).\",\n",
      "    \"preprocessing\": \"Converted to w2v format with `python -m gensim.scripts.glove2word2vec -i <fname> -o glove-wiki-gigaword-100.txt`.\",\n",
      "    \"read_more\": [\n",
      "      \"https://nlp.stanford.edu/projects/glove/\",\n",
      "      \"https://nlp.stanford.edu/pubs/glove.pdf\"\n",
      "    ],\n",
      "    \"checksum\": \"40ec481866001177b8cd4cb0df92924f\",\n",
      "    \"file_name\": \"glove-wiki-gigaword-100.gz\",\n",
      "    \"parts\": 1\n",
      "  },\n",
      "  \"glove-wiki-gigaword-200\": {\n",
      "    \"num_records\": 400000,\n",
      "    \"file_size\": 264336934,\n",
      "    \"base_dataset\": \"Wikipedia 2014 + Gigaword 5 (6B tokens, uncased)\",\n",
      "    \"reader_code\": \"https://github.com/RaRe-Technologies/gensim-data/releases/download/glove-wiki-gigaword-200/__init__.py\",\n",
      "    \"license\": \"http://opendatacommons.org/licenses/pddl/\",\n",
      "    \"parameters\": {\n",
      "      \"dimension\": 200\n",
      "    },\n",
      "    \"description\": \"Pre-trained vectors based on Wikipedia 2014 + Gigaword, 5.6B tokens, 400K vocab, uncased (https://nlp.stanford.edu/projects/glove/).\",\n",
      "    \"preprocessing\": \"Converted to w2v format with `python -m gensim.scripts.glove2word2vec -i <fname> -o glove-wiki-gigaword-200.txt`.\",\n",
      "    \"read_more\": [\n",
      "      \"https://nlp.stanford.edu/projects/glove/\",\n",
      "      \"https://nlp.stanford.edu/pubs/glove.pdf\"\n",
      "    ],\n",
      "    \"checksum\": \"59652db361b7a87ee73834a6c391dfc1\",\n",
      "    \"file_name\": \"glove-wiki-gigaword-200.gz\",\n",
      "    \"parts\": 1\n",
      "  },\n",
      "  \"glove-wiki-gigaword-300\": {\n",
      "    \"num_records\": 400000,\n",
      "    \"file_size\": 394362229,\n",
      "    \"base_dataset\": \"Wikipedia 2014 + Gigaword 5 (6B tokens, uncased)\",\n",
      "    \"reader_code\": \"https://github.com/RaRe-Technologies/gensim-data/releases/download/glove-wiki-gigaword-300/__init__.py\",\n",
      "    \"license\": \"http://opendatacommons.org/licenses/pddl/\",\n",
      "    \"parameters\": {\n",
      "      \"dimension\": 300\n",
      "    },\n",
      "    \"description\": \"Pre-trained vectors based on Wikipedia 2014 + Gigaword, 5.6B tokens, 400K vocab, uncased (https://nlp.stanford.edu/projects/glove/).\",\n",
      "    \"preprocessing\": \"Converted to w2v format with `python -m gensim.scripts.glove2word2vec -i <fname> -o glove-wiki-gigaword-300.txt`.\",\n",
      "    \"read_more\": [\n",
      "      \"https://nlp.stanford.edu/projects/glove/\",\n",
      "      \"https://nlp.stanford.edu/pubs/glove.pdf\"\n",
      "    ],\n",
      "    \"checksum\": \"29e9329ac2241937d55b852e8284e89b\",\n",
      "    \"file_name\": \"glove-wiki-gigaword-300.gz\",\n",
      "    \"parts\": 1\n",
      "  },\n",
      "  \"glove-twitter-25\": {\n",
      "    \"num_records\": 1193514,\n",
      "    \"file_size\": 109885004,\n",
      "    \"base_dataset\": \"Twitter (2B tweets, 27B tokens, 1.2M vocab, uncased)\",\n",
      "    \"reader_code\": \"https://github.com/RaRe-Technologies/gensim-data/releases/download/glove-twitter-25/__init__.py\",\n",
      "    \"license\": \"http://opendatacommons.org/licenses/pddl/\",\n",
      "    \"parameters\": {\n",
      "      \"dimension\": 25\n",
      "    },\n",
      "    \"description\": \"Pre-trained vectors based on 2B tweets, 27B tokens, 1.2M vocab, uncased (https://nlp.stanford.edu/projects/glove/).\",\n",
      "    \"preprocessing\": \"Converted to w2v format with `python -m gensim.scripts.glove2word2vec -i <fname> -o glove-twitter-25.txt`.\",\n",
      "    \"read_more\": [\n",
      "      \"https://nlp.stanford.edu/projects/glove/\",\n",
      "      \"https://nlp.stanford.edu/pubs/glove.pdf\"\n",
      "    ],\n",
      "    \"checksum\": \"50db0211d7e7a2dcd362c6b774762793\",\n",
      "    \"file_name\": \"glove-twitter-25.gz\",\n",
      "    \"parts\": 1\n",
      "  },\n",
      "  \"glove-twitter-50\": {\n",
      "    \"num_records\": 1193514,\n",
      "    \"file_size\": 209216938,\n",
      "    \"base_dataset\": \"Twitter (2B tweets, 27B tokens, 1.2M vocab, uncased)\",\n",
      "    \"reader_code\": \"https://github.com/RaRe-Technologies/gensim-data/releases/download/glove-twitter-50/__init__.py\",\n",
      "    \"license\": \"http://opendatacommons.org/licenses/pddl/\",\n",
      "    \"parameters\": {\n",
      "      \"dimension\": 50\n",
      "    },\n",
      "    \"description\": \"Pre-trained vectors based on 2B tweets, 27B tokens, 1.2M vocab, uncased (https://nlp.stanford.edu/projects/glove/)\",\n",
      "    \"preprocessing\": \"Converted to w2v format with `python -m gensim.scripts.glove2word2vec -i <fname> -o glove-twitter-50.txt`.\",\n",
      "    \"read_more\": [\n",
      "      \"https://nlp.stanford.edu/projects/glove/\",\n",
      "      \"https://nlp.stanford.edu/pubs/glove.pdf\"\n",
      "    ],\n",
      "    \"checksum\": \"c168f18641f8c8a00fe30984c4799b2b\",\n",
      "    \"file_name\": \"glove-twitter-50.gz\",\n",
      "    \"parts\": 1\n",
      "  },\n",
      "  \"glove-twitter-100\": {\n",
      "    \"num_records\": 1193514,\n",
      "    \"file_size\": 405932991,\n",
      "    \"base_dataset\": \"Twitter (2B tweets, 27B tokens, 1.2M vocab, uncased)\",\n",
      "    \"reader_code\": \"https://github.com/RaRe-Technologies/gensim-data/releases/download/glove-twitter-100/__init__.py\",\n",
      "    \"license\": \"http://opendatacommons.org/licenses/pddl/\",\n",
      "    \"parameters\": {\n",
      "      \"dimension\": 100\n",
      "    },\n",
      "    \"description\": \"Pre-trained vectors based on  2B tweets, 27B tokens, 1.2M vocab, uncased (https://nlp.stanford.edu/projects/glove/)\",\n",
      "    \"preprocessing\": \"Converted to w2v format with `python -m gensim.scripts.glove2word2vec -i <fname> -o glove-twitter-100.txt`.\",\n",
      "    \"read_more\": [\n",
      "      \"https://nlp.stanford.edu/projects/glove/\",\n",
      "      \"https://nlp.stanford.edu/pubs/glove.pdf\"\n",
      "    ],\n",
      "    \"checksum\": \"b04f7bed38756d64cf55b58ce7e97b15\",\n",
      "    \"file_name\": \"glove-twitter-100.gz\",\n",
      "    \"parts\": 1\n",
      "  },\n",
      "  \"glove-twitter-200\": {\n",
      "    \"num_records\": 1193514,\n",
      "    \"file_size\": 795373100,\n",
      "    \"base_dataset\": \"Twitter (2B tweets, 27B tokens, 1.2M vocab, uncased)\",\n",
      "    \"reader_code\": \"https://github.com/RaRe-Technologies/gensim-data/releases/download/glove-twitter-200/__init__.py\",\n",
      "    \"license\": \"http://opendatacommons.org/licenses/pddl/\",\n",
      "    \"parameters\": {\n",
      "      \"dimension\": 200\n",
      "    },\n",
      "    \"description\": \"Pre-trained vectors based on 2B tweets, 27B tokens, 1.2M vocab, uncased (https://nlp.stanford.edu/projects/glove/).\",\n",
      "    \"preprocessing\": \"Converted to w2v format with `python -m gensim.scripts.glove2word2vec -i <fname> -o glove-twitter-200.txt`.\",\n",
      "    \"read_more\": [\n",
      "      \"https://nlp.stanford.edu/projects/glove/\",\n",
      "      \"https://nlp.stanford.edu/pubs/glove.pdf\"\n",
      "    ],\n",
      "    \"checksum\": \"e52e8392d1860b95d5308a525817d8f9\",\n",
      "    \"file_name\": \"glove-twitter-200.gz\",\n",
      "    \"parts\": 1\n",
      "  },\n",
      "  \"__testing_word2vec-matrix-synopsis\": {\n",
      "    \"description\": \"[THIS IS ONLY FOR TESTING] Word vecrors of the movie matrix.\",\n",
      "    \"parameters\": {\n",
      "      \"dimensions\": 50\n",
      "    },\n",
      "    \"preprocessing\": \"Converted to w2v using a preprocessed corpus. Converted to w2v format with `python3.5 -m gensim.models.word2vec -train <input_filename> -iter 50 -output <output_filename>`.\",\n",
      "    \"read_more\": [],\n",
      "    \"checksum\": \"534dcb8b56a360977a269b7bfc62d124\",\n",
      "    \"file_name\": \"__testing_word2vec-matrix-synopsis.gz\",\n",
      "    \"parts\": 1\n",
      "  }\n",
      "}\n"
     ]
    }
   ],
   "execution_count": 281
  },
  {
   "cell_type": "code",
   "source": [
    "glove_model = api.load(\"glove-wiki-gigaword-100\")"
   ],
   "metadata": {
    "collapsed": false,
    "pycharm": {
     "name": "#%%\n"
    },
    "ExecuteTime": {
     "end_time": "2025-04-16T12:57:16.721166Z",
     "start_time": "2025-04-16T12:56:53.404286Z"
    }
   },
   "outputs": [
    {
     "name": "stdout",
     "output_type": "stream",
     "text": [
      "[=========-----------------------------------------] 18.3% 23.4/128.1MB downloaded"
     ]
    },
    {
     "name": "stderr",
     "output_type": "stream",
     "text": [
      "IOPub message rate exceeded.\n",
      "The Jupyter server will temporarily stop sending output\n",
      "to the client in order to avoid crashing it.\n",
      "To change this limit, set the config variable\n",
      "`--ServerApp.iopub_msg_rate_limit`.\n",
      "\n",
      "Current values:\n",
      "ServerApp.iopub_msg_rate_limit=1000.0 (msgs/sec)\n",
      "ServerApp.rate_limit_window=3.0 (secs)\n",
      "\n"
     ]
    },
    {
     "name": "stdout",
     "output_type": "stream",
     "text": [
      "[=========================-------------------------] 50.5% 64.7/128.1MB downloaded"
     ]
    },
    {
     "name": "stderr",
     "output_type": "stream",
     "text": [
      "IOPub message rate exceeded.\n",
      "The Jupyter server will temporarily stop sending output\n",
      "to the client in order to avoid crashing it.\n",
      "To change this limit, set the config variable\n",
      "`--ServerApp.iopub_msg_rate_limit`.\n",
      "\n",
      "Current values:\n",
      "ServerApp.iopub_msg_rate_limit=1000.0 (msgs/sec)\n",
      "ServerApp.rate_limit_window=3.0 (secs)\n",
      "\n"
     ]
    },
    {
     "name": "stdout",
     "output_type": "stream",
     "text": [
      "[=========================================---------] 82.7% 105.9/128.1MB downloaded"
     ]
    },
    {
     "name": "stderr",
     "output_type": "stream",
     "text": [
      "IOPub message rate exceeded.\n",
      "The Jupyter server will temporarily stop sending output\n",
      "to the client in order to avoid crashing it.\n",
      "To change this limit, set the config variable\n",
      "`--ServerApp.iopub_msg_rate_limit`.\n",
      "\n",
      "Current values:\n",
      "ServerApp.iopub_msg_rate_limit=1000.0 (msgs/sec)\n",
      "ServerApp.rate_limit_window=3.0 (secs)\n",
      "\n"
     ]
    },
    {
     "name": "stdout",
     "output_type": "stream",
     "text": [
      "[==================================================] 100.0% 128.1/128.1MB downloaded\n"
     ]
    }
   ],
   "execution_count": 258
  },
  {
   "cell_type": "markdown",
   "source": [
    "We can use the loaded model's `key_to_index` attribute to retrieve the whole vocabulary (aka for how many words we learned embeddings for)."
   ],
   "metadata": {
    "collapsed": false,
    "pycharm": {
     "name": "#%% md\n"
    }
   }
  },
  {
   "cell_type": "code",
   "source": [
    "vocab = list(glove_model.key_to_index)\n",
    "print(len(vocab))"
   ],
   "metadata": {
    "collapsed": false,
    "pycharm": {
     "name": "#%%\n"
    },
    "ExecuteTime": {
     "end_time": "2025-04-16T14:08:41.829348Z",
     "start_time": "2025-04-16T14:08:41.709829Z"
    }
   },
   "outputs": [
    {
     "name": "stdout",
     "output_type": "stream",
     "text": [
      "400000\n"
     ]
    }
   ],
   "execution_count": 282
  },
  {
   "cell_type": "markdown",
   "source": [
    "Let's explore a bit further the embeddings. In the following cells, the embedding of a single word is returned. Double-check the dimensions (as sanity check). This is like inspecting the `W` matrix (weights) that we discussed in the lecture."
   ],
   "metadata": {
    "collapsed": false,
    "pycharm": {
     "name": "#%% md\n"
    }
   }
  },
  {
   "cell_type": "code",
   "source": [
    "# vector of a particular model. note that it is 100 dimensional as specified.\n",
    "glove_model['what']"
   ],
   "metadata": {
    "collapsed": false,
    "pycharm": {
     "name": "#%%\n"
    },
    "ExecuteTime": {
     "end_time": "2025-04-16T14:09:11.138208Z",
     "start_time": "2025-04-16T14:09:11.114035Z"
    }
   },
   "outputs": [
    {
     "data": {
      "text/plain": [
       "array([-1.5180e-01,  3.8409e-01,  8.9340e-01, -4.2421e-01, -9.2161e-01,\n",
       "        3.7988e-02, -3.2026e-01,  3.4119e-03,  2.2101e-01, -2.2045e-01,\n",
       "        1.6661e-01,  2.1956e-01,  2.5325e-01, -2.9267e-01,  1.0171e-01,\n",
       "       -7.5491e-02, -6.0406e-02,  2.8194e-01, -5.8519e-01,  4.8271e-01,\n",
       "        1.7504e-02, -1.2086e-01, -1.0990e-01, -6.9554e-01,  1.5600e-01,\n",
       "        7.0558e-02, -1.5058e-01, -8.1811e-01, -1.8535e-01, -3.6863e-01,\n",
       "        3.1650e-02,  7.6616e-01,  8.4041e-02,  2.6928e-03, -2.7440e-01,\n",
       "        2.1815e-01, -3.5157e-02,  3.2569e-01,  1.0032e-01, -6.0932e-01,\n",
       "       -7.0316e-01,  1.8299e-01,  3.3134e-01, -1.2416e-01, -9.0542e-01,\n",
       "       -3.9157e-02,  4.4719e-01, -5.7338e-01, -4.0172e-01, -8.2234e-01,\n",
       "        5.5740e-01,  1.5101e-01,  2.4598e-01,  1.0113e+00, -4.6626e-01,\n",
       "       -2.7133e+00,  4.3273e-01, -1.6314e-01,  1.5828e+00,  5.5081e-01,\n",
       "       -2.4738e-01,  1.4184e+00, -1.6867e-02, -1.9368e-01,  1.0090e+00,\n",
       "       -5.9864e-02,  9.1853e-01,  4.3022e-01, -2.0624e-01,  7.6127e-02,\n",
       "        2.1595e-01, -2.6834e-01, -3.3342e-01, -3.7151e-01,  4.5197e-01,\n",
       "       -8.2460e-02,  3.2984e-01, -5.7376e-01, -1.3042e+00,  2.7121e-01,\n",
       "        6.6277e-01, -7.9626e-02, -7.9167e-01, -5.3662e-03, -1.7916e+00,\n",
       "       -3.3298e-01, -3.0698e-01, -3.3980e-01, -5.5618e-01, -6.9471e-01,\n",
       "        2.7427e-01, -2.1898e-01, -2.6714e-01,  2.2561e-03, -5.0178e-01,\n",
       "       -3.2775e-01, -4.5670e-01, -2.7123e-01,  2.2157e-01,  9.2112e-01],\n",
       "      dtype=float32)"
      ]
     },
     "execution_count": 283,
     "metadata": {},
     "output_type": "execute_result"
    }
   ],
   "execution_count": 283
  },
  {
   "cell_type": "markdown",
   "source": [
    "Gensim objects offers different methods to easily run very common tasks. For example, there are different functions to find the most similar words.\n",
    "\n",
    "Check the documentation on how [`most_similar`](https://tedboy.github.io/nlps/generated/generated/gensim.models.Word2Vec.most_similar.html) and [`similar_by_word`](https://tedboy.github.io/nlps/generated/generated/gensim.models.Word2Vec.similar_by_word.html) can be used."
   ],
   "metadata": {
    "collapsed": false,
    "pycharm": {
     "name": "#%% md\n"
    }
   }
  },
  {
   "cell_type": "code",
   "source": [
    "# most similar words to a given word\n",
    "print(glove_model.most_similar('what', topn=10))\n",
    "\n",
    "# also u can use\n",
    "print(glove_model.similar_by_word('miss', topn=5))"
   ],
   "metadata": {
    "collapsed": false,
    "pycharm": {
     "name": "#%%\n"
    },
    "ExecuteTime": {
     "end_time": "2025-04-16T14:09:30.485887Z",
     "start_time": "2025-04-16T14:09:30.242595Z"
    }
   },
   "outputs": [
    {
     "name": "stdout",
     "output_type": "stream",
     "text": [
      "[('how', 0.930321455001831), ('why', 0.9196362495422363), ('fact', 0.9069437980651855), ('know', 0.8876389861106873), ('that', 0.8810365796089172), ('think', 0.8772969841957092), ('so', 0.8753098249435425), ('even', 0.8751895427703857), ('something', 0.874744176864624), ('if', 0.8702542781829834)]\n",
      "[('play', 0.6266525387763977), ('missed', 0.608065128326416), ('she', 0.596325695514679), ('chance', 0.5839369297027588), ('tournament', 0.5722586512565613)]\n"
     ]
    }
   ],
   "execution_count": 284
  },
  {
   "cell_type": "code",
   "source": [
    "print(glove_model.most_similar('why', topn=10))"
   ],
   "metadata": {
    "collapsed": false,
    "pycharm": {
     "name": "#%%\n"
    },
    "ExecuteTime": {
     "end_time": "2025-04-16T12:57:17.508849Z",
     "start_time": "2025-04-16T12:57:17.494047Z"
    }
   },
   "outputs": [
    {
     "name": "stdout",
     "output_type": "stream",
     "text": [
      "[('know', 0.9440940618515015), ('what', 0.9196362495422363), ('think', 0.9086559414863586), ('how', 0.9020735621452332), ('tell', 0.8923122882843018), (\"n't\", 0.8890628814697266), ('sure', 0.8870969414710999), ('thought', 0.8747684955596924), ('believe', 0.8745115995407104), ('say', 0.8730074763298035)]\n"
     ]
    }
   ],
   "execution_count": 262
  },
  {
   "cell_type": "code",
   "source": [
    "print(glove_model.similar_by_word('who', topn=5))"
   ],
   "metadata": {
    "collapsed": false,
    "pycharm": {
     "name": "#%%\n"
    },
    "ExecuteTime": {
     "end_time": "2025-04-16T12:57:17.691947Z",
     "start_time": "2025-04-16T12:57:17.636615Z"
    }
   },
   "outputs": [
    {
     "name": "stdout",
     "output_type": "stream",
     "text": [
      "[('whom', 0.8642492890357971), ('he', 0.8201969861984253), ('whose', 0.8143677711486816), ('had', 0.8035845160484314), ('others', 0.7708419561386108)]\n"
     ]
    }
   ],
   "execution_count": 263
  },
  {
   "cell_type": "markdown",
   "source": [
    "We can now compare our implementation with the one in the pre-trained model and confirm what we already expected."
   ],
   "metadata": {
    "collapsed": false,
    "pycharm": {
     "name": "#%% md\n"
    }
   }
  },
  {
   "cell_type": "code",
   "source": [
    "# simalarity between two words\n",
    "word1 = 'alive'\n",
    "word2 = 'biology'\n",
    "print(glove_model.similarity(word1, word2))\n",
    "print(cosine_similarity(glove_model[word1], glove_model[word2]))"
   ],
   "metadata": {
    "collapsed": false,
    "pycharm": {
     "name": "#%%\n"
    },
    "ExecuteTime": {
     "end_time": "2025-04-16T14:10:30.379337Z",
     "start_time": "2025-04-16T14:10:30.353952Z"
    }
   },
   "outputs": [
    {
     "name": "stdout",
     "output_type": "stream",
     "text": [
      "0.15712574\n",
      "0.15712576\n"
     ]
    }
   ],
   "execution_count": 285
  },
  {
   "cell_type": "code",
   "source": [
    "# simalarity between two words. similar words\n",
    "word1 = 'alive'\n",
    "word2 = 'life'\n",
    "print(glove_model.similarity(word1, word2))\n",
    "print(cosine_similarity(glove_model[word1], glove_model[word2]))"
   ],
   "metadata": {
    "collapsed": false,
    "pycharm": {
     "name": "#%%\n"
    },
    "ExecuteTime": {
     "end_time": "2025-04-16T14:10:49.671101Z",
     "start_time": "2025-04-16T14:10:49.650453Z"
    }
   },
   "outputs": [
    {
     "name": "stdout",
     "output_type": "stream",
     "text": [
      "0.6400604\n",
      "0.6400604\n"
     ]
    }
   ],
   "execution_count": 286
  },
  {
   "cell_type": "code",
   "source": [
    "# simalarity between two words. dissimilar words\n",
    "word1 = 'alive'\n",
    "word2 = 'dead'\n",
    "print(glove_model.similarity(word1, word2))\n",
    "print(cosine_similarity(glove_model[word1], glove_model[word2]))"
   ],
   "metadata": {
    "collapsed": false,
    "pycharm": {
     "name": "#%%\n"
    },
    "ExecuteTime": {
     "end_time": "2025-04-16T14:10:54.564204Z",
     "start_time": "2025-04-16T14:10:54.553766Z"
    }
   },
   "outputs": [
    {
     "name": "stdout",
     "output_type": "stream",
     "text": [
      "0.71035177\n",
      "0.71035177\n"
     ]
    }
   ],
   "execution_count": 287
  },
  {
   "cell_type": "code",
   "source": [
    "# simalarity between two words. unrelated words\n",
    "word1 = 'alive'\n",
    "word2 = 'horse'\n",
    "print(glove_model.similarity(word1, word2))\n",
    "print(cosine_similarity(glove_model[word1], glove_model[word2]))"
   ],
   "metadata": {
    "collapsed": false,
    "pycharm": {
     "name": "#%%\n"
    },
    "ExecuteTime": {
     "end_time": "2025-04-16T14:10:55.431289Z",
     "start_time": "2025-04-16T14:10:55.416055Z"
    }
   },
   "outputs": [
    {
     "name": "stdout",
     "output_type": "stream",
     "text": [
      "0.34625494\n",
      "0.34625494\n"
     ]
    }
   ],
   "execution_count": 288
  },
  {
   "cell_type": "code",
   "source": [
    "# simalarity between two SAME words\n",
    "glove_model.similarity('equal', 'equal')\n",
    "word1 = 'equal'\n",
    "word2 = 'equal'\n",
    "print(glove_model.similarity(word1, word2))\n",
    "print(cosine_similarity(glove_model[word1], glove_model[word2]))"
   ],
   "metadata": {
    "collapsed": false,
    "pycharm": {
     "name": "#%%\n"
    },
    "ExecuteTime": {
     "end_time": "2025-04-16T14:14:17.530916Z",
     "start_time": "2025-04-16T14:14:17.511537Z"
    }
   },
   "outputs": [
    {
     "name": "stdout",
     "output_type": "stream",
     "text": [
      "1.0\n",
      "1.0000001\n"
     ]
    }
   ],
   "execution_count": 292
  },
  {
   "cell_type": "markdown",
   "source": [
    "The next function contains the code to plot a similarity matrix between multiple words (e.g. if we want to compare 10 words and their pair-wise similarities). It requires a matrix with similarities (as input) and labels (aka the words) to display in the final figure."
   ],
   "metadata": {
    "collapsed": false,
    "pycharm": {
     "name": "#%% md\n"
    }
   }
  },
  {
   "cell_type": "code",
   "source": [
    "def plot_similarity_matrix(matrix, labels):\n",
    "    \"\"\"\n",
    "    Displays a plot of the `matrix` of size (N x N) with the labels specified as a list of size N\n",
    "    Args:\n",
    "        matrix: a square-sized (N x N) numpy array\n",
    "        labels: a list of strings of hte size N\n",
    "    \"\"\"\n",
    "\n",
    "    fig, ax = plt.subplots()\n",
    "    im = ax.imshow(matrix)\n",
    "\n",
    "    # Show all ticks and label them with the respective list entries\n",
    "    ax.set_xticks(np.arange(len(labels)), labels=labels)\n",
    "    ax.set_yticks(np.arange(len(labels)), labels=labels)\n",
    "\n",
    "    # Rotate the tick labels and set their alignment.\n",
    "    plt.setp(ax.get_xticklabels(), rotation=45, ha=\"right\",\n",
    "             rotation_mode=\"anchor\")\n",
    "\n",
    "    # Loop over data dimensions and create text annotations.\n",
    "    for i in range(len(labels)):\n",
    "        for j in range(len(labels)):\n",
    "            text = ax.text(j, i, f'{matrix[i, j]:.2f}',\n",
    "                           ha=\"center\", va=\"center\", color=\"w\")\n",
    "\n",
    "    # ax.set_title(\"Give a title if you want\")\n",
    "    fig.tight_layout()\n",
    "    plt.show()"
   ],
   "metadata": {
    "collapsed": false,
    "pycharm": {
     "name": "#%%\n"
    },
    "ExecuteTime": {
     "end_time": "2025-04-16T14:14:18.720185Z",
     "start_time": "2025-04-16T14:14:18.702893Z"
    }
   },
   "outputs": [],
   "execution_count": 293
  },
  {
   "cell_type": "markdown",
   "source": [
    "<a name='e10'></a>\n",
    "### Exercise 10: Plotting similarities between words\n",
    "\n",
    "(10p) In the following, we will explore some properties of word embeddings through some examples. We will use 6 example words for this purpose but experiment with other set of words as well. Fill in the next cell to create a similarity matrix between a list of words.\n",
    "\n",
    "Experiment with different words and their similarities plotted. Try at least 3 different sets of words of at least 6 words each. Use the `plot_similarity_matrix` function to visualize the results.\n",
    "Comment on the results. Do they make sense? Why some words are closer to each other than others? What does it mean?"
   ],
   "metadata": {
    "collapsed": false,
    "pycharm": {
     "name": "#%% md\n"
    }
   }
  },
  {
   "cell_type": "code",
   "source": [
    "list_of_words = ['love', 'hate', 'life', 'equal', 'alive', 'dead']\n",
    "\n",
    "similarity_matrix = np.zeros((len(list_of_words), len(list_of_words)), dtype=float)\n",
    "\n",
    "### YOUR CODE HERE\n",
    "\n",
    "\n",
    "\n",
    "\n",
    "\n",
    "### YOUR CODE ENDS HERE\n",
    "\n",
    "\n",
    "plot_similarity_matrix(similarity_matrix, list_of_words)"
   ],
   "metadata": {
    "collapsed": false,
    "pycharm": {
     "name": "#%%\n"
    },
    "ExecuteTime": {
     "end_time": "2025-04-16T12:57:18.933477Z",
     "start_time": "2025-04-16T12:57:18.394148Z"
    }
   },
   "outputs": [
    {
     "data": {
      "text/plain": [
       "<Figure size 640x480 with 1 Axes>"
      ],
      "image/png": "[encoded data removed]"
     },
     "metadata": {},
     "output_type": "display_data"
    }
   ],
   "execution_count": 270
  },
  {
   "cell_type": "code",
   "source": [
    "#### YOUR CODE HERE\n",
    "\n",
    "\n",
    "\n",
    "### YOUR CODE ENDS HERE"
   ],
   "metadata": {
    "collapsed": false,
    "pycharm": {
     "name": "#%%\n"
    },
    "ExecuteTime": {
     "end_time": "2025-04-16T12:57:18.942263Z",
     "start_time": "2025-04-16T12:57:18.939824Z"
    }
   },
   "outputs": [],
   "execution_count": 271
  },
  {
   "cell_type": "markdown",
   "source": [
    "<a name='e11'></a>\n",
    "### Exercise 11: Other pre-trained word embeddings\n",
    "(10p) For this exercise, experiment with at least one different word embedding model. You can choose Glove with different dimensions or other pre-trained models. Use the gensim library to download and use the models.\n",
    "Plot similarity matrices between sets of words you used in the previous exercise and compare the results. Are there noticeable differences? Why (not)?"
   ],
   "metadata": {
    "collapsed": false,
    "pycharm": {
     "name": "#%% md\n"
    }
   }
  },
  {
   "cell_type": "code",
   "source": [
    "#### YOUR CODE HERE\n",
    "\n",
    "\n",
    "\n",
    "### YOUR CODE ENDS HERE"
   ],
   "metadata": {
    "collapsed": false,
    "pycharm": {
     "name": "#%%\n"
    },
    "ExecuteTime": {
     "end_time": "2025-04-16T12:57:19.151259Z",
     "start_time": "2025-04-16T12:57:19.149379Z"
    }
   },
   "outputs": [],
   "execution_count": 272
  },
  {
   "cell_type": "markdown",
   "source": [
    "// your comments"
   ],
   "metadata": {
    "collapsed": false,
    "pycharm": {
     "name": "#%% md\n"
    }
   }
  },
  {
   "cell_type": "markdown",
   "source": [
    "## 5. Sentence Embeddings by Averaging Word Embeddings\n",
    "\n",
    "Word embeddings are a powerful model for representing words and their meaning (in terms of distributional similarity). As we discussed in class, we can use them in a wide variety of tasks with more complex architectures. Word vectors offer a dense vector for each word. What if we wanted to represent a sentence (or a document) based on word vectors. How can we do that?\n",
    "\n",
    "In the course, we will see different architectures that take into account the sequence of words (by combining their vectors). A first naive but simple and sometimes (as we are going to see) quite effective approach would be to represent a sentence with an embedding vector that is the average of the word vectors that form the sentence.\n",
    "\n",
    "So formally, this is what we are aiming for:\n",
    "\n",
    "$\n",
    "\\text{Sentence_Embedding} = \\frac{1}{N} \\sum_{i=1}^{N} \\text{Word_Embedding}_i\n",
    "$\n",
    "\n",
    "where:\n",
    "* $N$ is the number of words in a sentence\n",
    "* $\\text{Word_Embedding}_i$ is the word vector for the $i$-th in the sentence.\n",
    "\n",
    "Things to note:\n",
    "* The embedding vector for the sentence will obviously have the same dimension as the word embedding.\n",
    "* This representation ignores the word order (like bag-of-words). During the course we will see how we can overcome this limitation by using sequence models."
   ],
   "metadata": {
    "collapsed": false,
    "pycharm": {
     "name": "#%% md\n"
    }
   }
  },
  {
   "cell_type": "markdown",
   "source": [
    "<a name='e12'></a>\n",
    "### Exercise 12: Sentence Embedding\n",
    "\n",
    "(10p) Complete the function below that takes as input the sentence in the form of tokens (so it's a list of words) and calculates the sentence embedding vector. First, we would need to retrieve the word embeddings for each word from our loaded model and then average the vectors.\n",
    "\n",
    "Note: There can be cases where all tokens from a sentence are out-of-vocabulary words (OOV). Think what to do in this case and make sure to discuss it in the report."
   ],
   "metadata": {
    "collapsed": false,
    "pycharm": {
     "name": "#%% md\n"
    }
   }
  },
  {
   "cell_type": "code",
   "source": [
    "def embed_sentence_word_model(tokens, model):\n",
    "    \"\"\"\n",
    "    Calculates the sentence embedding by averaging the embeddings of the tokens\n",
    "    Args:\n",
    "        tokens: a list of words from the sentence\n",
    "        model: a trained word embeddings model\n",
    "\n",
    "    Returns: a numpy array of the sentence embedding\n",
    "\n",
    "    \"\"\"\n",
    "    #### YOUR CODE HERE\n",
    "    #### CAUTION: be sure to cover the case where all tokens are out-of-vocabulary!!!\n",
    "\n",
    "\n",
    "\n",
    "\n",
    "    ### YOUR CODE ENDS HERE"
   ],
   "metadata": {
    "collapsed": false,
    "pycharm": {
     "name": "#%%\n"
    },
    "ExecuteTime": {
     "end_time": "2025-04-16T12:57:19.155660Z",
     "start_time": "2025-04-16T12:57:19.154056Z"
    }
   },
   "outputs": [],
   "execution_count": 273
  },
  {
   "cell_type": "markdown",
   "source": [
    "Now we can apply the function to the whole dataset. Here we do it both for the sentence and the compressed version. You should know it by now, but this operation might take some time. The next cells will apply your function to the whole dataset."
   ],
   "metadata": {
    "collapsed": false,
    "pycharm": {
     "name": "#%% md\n"
    }
   }
  },
  {
   "cell_type": "code",
   "source": [
    "def embed_sentence_word_model_dataset(example, model):\n",
    "    \"\"\"\n",
    "    Embeds the sentence and the compressed sentence in the example from the Dataset\n",
    "    Args:\n",
    "        example: an example from the Dataset\n",
    "        model: a trained word embeddings model\n",
    "\n",
    "    Returns: updated example with 'sentence_embedding' and 'compressed_embedding' columns\n",
    "\n",
    "    \"\"\"\n",
    "    sentence_tokens = example['sentence_tokens']\n",
    "    clean_compressed = example['clean_compressed']\n",
    "    compressed_tokens = tokenize(clean_compressed)\n",
    "\n",
    "    sentence_embedding = embed_sentence_word_model(sentence_tokens, model)\n",
    "    compressed_embedding = embed_sentence_word_model(compressed_tokens, model)\n",
    "\n",
    "    example['sentence_embedding'] = sentence_embedding\n",
    "    example['compressed_embedding'] = compressed_embedding\n",
    "    return example"
   ],
   "metadata": {
    "collapsed": false,
    "pycharm": {
     "name": "#%%\n"
    },
    "ExecuteTime": {
     "end_time": "2025-04-16T12:57:19.220657Z",
     "start_time": "2025-04-16T12:57:19.218512Z"
    }
   },
   "outputs": [],
   "execution_count": 274
  },
  {
   "cell_type": "code",
   "source": [
    "test_ds = test_ds.map(embed_sentence_word_model_dataset, fn_kwargs={'model': glove_model})\n",
    "print(test_ds)"
   ],
   "metadata": {
    "collapsed": false,
    "pycharm": {
     "name": "#%%\n"
    },
    "ExecuteTime": {
     "end_time": "2025-04-16T12:57:54.709005Z",
     "start_time": "2025-04-16T12:57:19.287836Z"
    }
   },
   "outputs": [
    {
     "name": "stderr",
     "output_type": "stream",
     "text": [
      "Map: 100%|██████████| 36000/36000 [00:33<00:00, 1059.44 examples/s]"
     ]
    },
    {
     "name": "stdout",
     "output_type": "stream",
     "text": [
      "Dataset({\n",
      "    features: ['set', 'clean_sentence', 'clean_compressed', 'sentence_tokens', 'compressed_tokens', 'sentence_bow', 'compressed_bow', 'sentence_embedding', 'compressed_embedding'],\n",
      "    num_rows: 36000\n",
      "})\n"
     ]
    },
    {
     "name": "stderr",
     "output_type": "stream",
     "text": [
      "\n"
     ]
    }
   ],
   "execution_count": 275
  },
  {
   "cell_type": "code",
   "source": [
    "for i in range(10):\n",
    "    print(test_ds[i])"
   ],
   "metadata": {
    "collapsed": false,
    "pycharm": {
     "name": "#%%\n"
    },
    "ExecuteTime": {
     "end_time": "2025-04-16T12:57:54.912550Z",
     "start_time": "2025-04-16T12:57:54.900148Z"
    }
   },
   "outputs": [
    {
     "name": "stdout",
     "output_type": "stream",
     "text": [
      "{'sentence_bow': array([0., 0., 0., ..., 0., 0., 0.]), 'compressed_bow': array([0., 0., 0., ..., 0., 0., 0.]), 'sentence_embedding': None, 'compressed_embedding': None}\n",
      "{'sentence_bow': array([0., 0., 0., ..., 0., 0., 0.]), 'compressed_bow': array([0., 0., 0., ..., 0., 0., 0.]), 'sentence_embedding': None, 'compressed_embedding': None}\n",
      "{'sentence_bow': array([0., 0., 1., ..., 0., 0., 0.]), 'compressed_bow': array([0., 0., 0., ..., 0., 0., 0.]), 'sentence_embedding': None, 'compressed_embedding': None}\n",
      "{'sentence_bow': array([0., 0., 0., ..., 0., 0., 0.]), 'compressed_bow': array([0., 0., 0., ..., 0., 0., 0.]), 'sentence_embedding': None, 'compressed_embedding': None}\n",
      "{'sentence_bow': array([2., 2., 0., ..., 0., 0., 0.]), 'compressed_bow': array([1., 1., 0., ..., 0., 0., 0.]), 'sentence_embedding': None, 'compressed_embedding': None}\n",
      "{'sentence_bow': array([0., 0., 0., ..., 0., 0., 0.]), 'compressed_bow': array([0., 0., 0., ..., 0., 0., 0.]), 'sentence_embedding': None, 'compressed_embedding': None}\n",
      "{'sentence_bow': array([0., 0., 0., ..., 0., 0., 0.]), 'compressed_bow': array([0., 0., 0., ..., 0., 0., 0.]), 'sentence_embedding': None, 'compressed_embedding': None}\n",
      "{'sentence_bow': array([0., 0., 0., ..., 0., 0., 0.]), 'compressed_bow': array([0., 0., 0., ..., 0., 0., 0.]), 'sentence_embedding': None, 'compressed_embedding': None}\n",
      "{'sentence_bow': array([0., 0., 1., ..., 0., 0., 0.]), 'compressed_bow': array([0., 0., 0., ..., 0., 0., 0.]), 'sentence_embedding': None, 'compressed_embedding': None}\n",
      "{'sentence_bow': array([0., 0., 0., ..., 0., 0., 0.]), 'compressed_bow': array([0., 0., 0., ..., 0., 0., 0.]), 'sentence_embedding': None, 'compressed_embedding': None}\n"
     ]
    }
   ],
   "execution_count": 276
  },
  {
   "cell_type": "markdown",
   "source": [
    "Here you can see that the new dataset returned a single numpy array containing all sentence embeddings in our dataset. This is a lot more efficient than returning a list of arrays (which is the default behaviour). Below we check the type and the dimensionality.\n",
    "\n",
    "We will be using `text` subset from our dataset to not use too much RAM."
   ],
   "metadata": {
    "collapsed": false,
    "pycharm": {
     "name": "#%% md\n"
    }
   }
  },
  {
   "cell_type": "code",
   "source": [
    "sent_embedding = test_ds['sentence_embedding']\n",
    "compr_embedding = test_ds['compressed_embedding']\n",
    "print(type(sent_embedding))\n",
    "print(sent_embedding.shape)\n",
    "print(type(compr_embedding))\n",
    "print(compr_embedding.shape)"
   ],
   "metadata": {
    "collapsed": false,
    "pycharm": {
     "name": "#%%\n"
    },
    "ExecuteTime": {
     "end_time": "2025-04-16T12:57:55.049222Z",
     "start_time": "2025-04-16T12:57:54.996760Z"
    }
   },
   "outputs": [
    {
     "name": "stdout",
     "output_type": "stream",
     "text": [
      "<class 'numpy.ndarray'>\n",
      "(36000,)\n",
      "<class 'numpy.ndarray'>\n",
      "(36000,)\n"
     ]
    }
   ],
   "execution_count": 277
  },
  {
   "cell_type": "markdown",
   "source": [
    "Next we try the condensed representatin based on a simple query. Feel free to try different queries with different words. What happens if we have OOV words in a query?"
   ],
   "metadata": {
    "collapsed": false,
    "pycharm": {
     "name": "#%% md\n"
    }
   }
  },
  {
   "cell_type": "code",
   "source": [
    "query = 'fox and deer'\n",
    "print(query)\n",
    "\n",
    "query_embedding = embed_text(query, clean, tokenize, lambda x: embed_sentence_word_model(x, glove_model))\n",
    "print(query_embedding.shape)\n",
    "print(query_embedding)"
   ],
   "metadata": {
    "collapsed": false,
    "pycharm": {
     "name": "#%%\n"
    },
    "ExecuteTime": {
     "end_time": "2025-04-16T12:57:55.158845Z",
     "start_time": "2025-04-16T12:57:55.116843Z"
    }
   },
   "outputs": [
    {
     "name": "stdout",
     "output_type": "stream",
     "text": [
      "fox and deer\n"
     ]
    },
    {
     "ename": "AttributeError",
     "evalue": "'NoneType' object has no attribute 'shape'",
     "output_type": "error",
     "traceback": [
      "\u001B[31m---------------------------------------------------------------------------\u001B[39m",
      "\u001B[31mAttributeError\u001B[39m                            Traceback (most recent call last)",
      "\u001B[36mCell\u001B[39m\u001B[36m \u001B[39m\u001B[32mIn[278]\u001B[39m\u001B[32m, line 5\u001B[39m\n\u001B[32m      2\u001B[39m \u001B[38;5;28mprint\u001B[39m(query)\n\u001B[32m      4\u001B[39m query_embedding = embed_text(query, clean, tokenize, \u001B[38;5;28;01mlambda\u001B[39;00m x: embed_sentence_word_model(x, glove_model))\n\u001B[32m----> \u001B[39m\u001B[32m5\u001B[39m \u001B[38;5;28mprint\u001B[39m(\u001B[43mquery_embedding\u001B[49m\u001B[43m.\u001B[49m\u001B[43mshape\u001B[49m)\n\u001B[32m      6\u001B[39m \u001B[38;5;28mprint\u001B[39m(query_embedding)\n",
      "\u001B[31mAttributeError\u001B[39m: 'NoneType' object has no attribute 'shape'"
     ]
    }
   ],
   "execution_count": 278
  },
  {
   "cell_type": "markdown",
   "source": [
    "<a name='e13'></a>\n",
    "### Exercise 13: Analyze sentence embeddings\n",
    "- (5p) Calculate similarity between the word embeddings representations of the selected queries and the dataset sentences.\n",
    "- (5p) Analyze the search results. Does the search work as expected? Discuss the results.\n",
    "- (5p) Compare the results with the ones you got with the bag-of-words and TF-IDF representation. Discuss the differences and similarities."
   ],
   "metadata": {
    "collapsed": false,
    "pycharm": {
     "name": "#%% md\n"
    }
   }
  },
  {
   "cell_type": "code",
   "execution_count": null,
   "outputs": [],
   "source": [
    "### YOUR CODE HERE\n",
    "\n",
    "\n",
    "\n",
    "\n",
    "### YOUR CODE ENDS HERE"
   ],
   "metadata": {
    "collapsed": false,
    "pycharm": {
     "name": "#%%\n"
    }
   }
  },
  {
   "cell_type": "markdown",
   "metadata": {
    "id": "ZY2jouFmeHOg",
    "pycharm": {
     "name": "#%% md\n"
    }
   },
   "source": [
    "## 6. Evaluating Retrieval\n",
    "\n",
    "In this last section we will try to evaluate how good our sentence retrieval system is. To keep the computational resources manageable, we will use the test set for that as its size is more manageable.\n",
    "\n",
    "Recall from the lecture in IR that there are several metrics to evaluate retrieval performance by taking into account the relevance of the retrieved results to the query. We will use Recall@K here (for more metrics and more details refer to the lecture slides and the textbooks).\n",
    "\n",
    "RRecall@K is a metric used to measure the effectiveness of a search system in retrieving relevant documents within the top $K$ retrieved documents. It calculates the proportion of relevant documents retrieved within the top-$K$ results, compared to the total number of relevant documents in the collection.\n",
    "\n",
    "$\n",
    "\\text{Recall@K} = \\frac{\\text{Number of relevant documents retrieved in the top }-K}{\\text{Total number of relevant documents}}\n",
    "$\n",
    "\n",
    "In our case, we have a sentence, and it's compressed version. To test our system, we will treat compressed sentences as the queries. Each query will have only a single relevant sentence - the corresponding uncompressed sentence.\n",
    "\n",
    "Therefore, for the calculation of Recall@K we will take into account whether the correct retrieved result is contained within the first $K$ retrieved results. For example, if for a query (i.e. a compressed sentence) we retrieve 10 results and within these we see the relevant one (i.e. the full sentence), then Recall@10 = 1."
   ]
  },
  {
   "cell_type": "markdown",
   "metadata": {
    "id": "QUKPtG-uem9f",
    "pycharm": {
     "name": "#%% md\n"
    }
   },
   "source": [
    "<a name='e14'></a>\n",
    "### Exercise 14: Cosine similarity between two sets of vectors\n",
    "\n",
    "(3p) In this exercise you will revisit your implementation of the cosine similarity. Generalize it so that it can accept two arrays containing two sets of vectors (first one containing $M$ vectors and the second one $N$ vectors). Compute the cosine similarity between each pair of vectors coming from the two sets. The result should be an array of size $M x N$.\n",
    "\n",
    "Once again, try to write an efficient code. This means no loops. Remember the relation between matrix multiplication and dot product. (Depending on your implementation of the previous function calculating cosine similarity, this one can be almost the same)"
   ]
  },
  {
   "cell_type": "code",
   "execution_count": null,
   "metadata": {
    "id": "xKiHDrN9eld7",
    "pycharm": {
     "name": "#%%\n"
    }
   },
   "outputs": [],
   "source": [
    "def cosine_similarity_m_to_n(vectors, other_vectors):\n",
    "    \"\"\"\n",
    "    Calculates the cosine similarity between a multiple vectors and other vectors.\n",
    "    Args:\n",
    "        vectors: a numpy array representing M number of vectors of D dimensions (of the size MxD)\n",
    "        other_vectors: a 2D numpy array representing other vectors (of the size NxD, where N is the number of vectors and D is their dimension)\n",
    "\n",
    "    Returns: a numpy array of cosine similarity between all the vectors and all the other vectors\n",
    "\n",
    "    \"\"\"\n",
    "\n",
    "    #### YOUR CODE HERE\n",
    "\n",
    "\n",
    "\n",
    "\n",
    "    ### YOUR CODE ENDS HERE"
   ]
  },
  {
   "cell_type": "markdown",
   "metadata": {
    "id": "qQ-Yhl1Sgoka",
    "pycharm": {
     "name": "#%% md\n"
    }
   },
   "source": [
    "The following function will use your implementation to calculate Recall@K based on the similarity matrix."
   ]
  },
  {
   "cell_type": "code",
   "execution_count": null,
   "metadata": {
    "id": "z0sLS3uRCfdh",
    "pycharm": {
     "name": "#%%\n"
    }
   },
   "outputs": [],
   "source": [
    "def calculate_recall(queries, sentences, k, batch_size=1000):\n",
    "    \"\"\"\n",
    "    Calculates recall@k given the embeddings of the queries and sentences.\n",
    "    Assumes that only a single sentence with the same index as query is relevant.\n",
    "    Batching is implemented to avoid high memory usage.\n",
    "    Args:\n",
    "        queries: a numpy array with the embeddings of N queries\n",
    "        sentences: a numpy array with the embeddings of N sentences available for retrieval\n",
    "        k: number of top results to search for the relevant sentence\n",
    "        batch_size: number of queries to process at a time\n",
    "\n",
    "    Returns: calculated recall@k\n",
    "\n",
    "    \"\"\"\n",
    "    n_queries = queries.shape[0]\n",
    "    correct = np.zeros(n_queries, dtype=bool)\n",
    "\n",
    "    with tqdm.tqdm(total=n_queries) as pbar:\n",
    "        for batch_start in range(0, n_queries, batch_size):\n",
    "            batch_end = min(batch_start + batch_size, n_queries)\n",
    "            queries_batch = queries[batch_start:batch_end]\n",
    "            batch_similarity = cosine_similarity_m_to_n(queries_batch, sentences)\n",
    "\n",
    "            for i, similarity_row in enumerate(batch_similarity):\n",
    "                query_index = batch_start + i\n",
    "                top_k = top_k_indices(similarity_row, k=k, sorted=False)\n",
    "\n",
    "                if query_index in top_k:\n",
    "                    correct[query_index] = True\n",
    "\n",
    "                pbar.update(1)\n",
    "\n",
    "    recall = np.sum(correct) / n_queries\n",
    "    return recall"
   ]
  },
  {
   "cell_type": "markdown",
   "metadata": {
    "id": "3QgAgMiDgw8m",
    "pycharm": {
     "name": "#%% md\n"
    }
   },
   "source": [
    "You can use it like so:"
   ]
  },
  {
   "cell_type": "code",
   "execution_count": null,
   "metadata": {
    "id": "Yxpex7ZxHM7c",
    "pycharm": {
     "name": "#%%\n"
    }
   },
   "outputs": [],
   "source": [
    "recall_at_1 = calculate_recall(compr_embedding, sent_embedding, k=1, batch_size=1000)\n",
    "print(f'\\n{recall_at_1 * 100:.2f}%')"
   ]
  },
  {
   "cell_type": "markdown",
   "metadata": {
    "id": "zY5ZVq5ogzMI",
    "pycharm": {
     "name": "#%% md\n"
    }
   },
   "source": [
    "<a name='e15'></a>\n",
    "### Exercise 15: Evaluating retrieval methods\n",
    "\n",
    "(10p) Calculate recall for different values of $K$ for all methods:\n",
    "- BOW,\n",
    "- TF-IDF,\n",
    "- Pre-trained embeddings.\n",
    "\n",
    "Discuss the results.\n",
    "Comment on how recall changes based on the value of $K$. Are the results expected or surprising?"
   ]
  },
  {
   "cell_type": "code",
   "execution_count": null,
   "outputs": [],
   "source": [
    "#### YOUR CODE HERE\n",
    "\n",
    "\n",
    "\n",
    "### YOUR CODE ENDS HERE"
   ],
   "metadata": {
    "collapsed": false,
    "pycharm": {
     "name": "#%%\n"
    }
   }
  },
  {
   "cell_type": "markdown",
   "source": [
    "<a name='e16'></a>\n",
    "### Exercise 16: Improving retrieval\n",
    "\n",
    "(10p) Imagine that you work at a company and are tasked with delivering the best retrieval method. Select the most promising one and try to improve the scores (e.g. by changing the vocab size, loading different model, etc.).\n",
    "Discuss the results you achieve, even if you didn't manage to improve the scores."
   ],
   "metadata": {
    "collapsed": false,
    "pycharm": {
     "name": "#%% md\n"
    }
   }
  },
  {
   "cell_type": "code",
   "execution_count": null,
   "metadata": {
    "id": "YA9bEm5ehMq8",
    "pycharm": {
     "name": "#%%\n"
    }
   },
   "outputs": [],
   "source": [
    "#### YOUR CODE HERE\n",
    "\n",
    "\n",
    "\n",
    "### YOUR CODE ENDS HERE"
   ]
  },
  {
   "cell_type": "markdown",
   "source": [
    "// your comments"
   ],
   "metadata": {
    "collapsed": false,
    "pycharm": {
     "name": "#%% md\n"
    }
   }
  }
 ],
 "metadata": {
  "colab": {
   "toc_visible": true,
   "provenance": []
  },
  "kernelspec": {
   "display_name": "Python (nlp-labs)",
   "language": "python",
   "name": "nlp-labs"
  },
  "language_info": {
   "codemirror_mode": {
    "name": "ipython",
    "version": 2
   },
   "file_extension": ".py",
   "mimetype": "text/x-python",
   "name": "python",
   "nbconvert_exporter": "python",
   "pygments_lexer": "ipython2",
   "version": "2.7.6"
  }
 },
 "nbformat": 4,
 "nbformat_minor": 0
}
