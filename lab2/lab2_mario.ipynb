{
 "cells": [
  {
   "cell_type": "markdown",
   "metadata": {
    "collapsed": false,
    "id": "od2YkWY8pSOC",
    "pycharm": {
     "name": "#%% md\n"
    }
   },
   "source": [
    "# NLP 2025\n",
    "# Lab 2: Word Vectors and Information Retrieval\n",
    "\n",
    "During the first few weeks, we discussed various ways to represent text 📝. One key question was: What should be the basic unit of representation? Words are the fundamental building blocks 🧱.\n",
    "\n",
    "In this lab, we will explore different text representation models, such as Bag-of-Words (BoW), TF-IDF and word embeddings 🔤➡️🔢. Among these, word embeddings are the most effective in terms of performance. They represent each word as a vector of numbers, where each vector captures the meaning of the word 🧠📊.\n",
    "\n",
    "These numerical representations (or weights) are learned using machine learning models 🤖. We’ll dive deeper into how these vectors are learned in the next lecture 📚.\n",
    "\n",
    "For now, we’ll focus on how different representation methods affect performance in an information retrieval task 🔍."
   ]
  },
  {
   "cell_type": "markdown",
   "metadata": {
    "collapsed": false,
    "id": "s93LS5bspSOD",
    "pycharm": {
     "name": "#%% md\n"
    }
   },
   "source": [
    "By the end of this lab, you should be able to:\n",
    "\n",
    "+ 🧼🔁 Implement and/or use built-in functions to preprocess your data (once again!)\n",
    "+ 🧱👜 Build a Bag-of-Words representation of the dataset\n",
    "+ 📊✨ Implement TF-IDF\n",
    "+ 📥🔤 Load pre-trained word embeddings\n",
    "+ 🔍🧠 Inspect and test word embedding properties\n",
    "+ 🗣️➡️📐 Use word embeddings to get sentence representations (aka sentence embeddings)\n",
    "+ 🧩🔎 Use sentence embeddings to solve more complex tasks like information retrieval\n",
    "+ 🧪📏 Design evaluation frameworks for specific NLP tasks and assess their difficulty\n",
    "\n",
    "### Score breakdown\n",
    "\n",
    "| Exercise            | Points |\n",
    "|---------------------|--------|\n",
    "| [Exercise 1](#e1)   | 1      |\n",
    "| [Exercise 2](#e2)   | 1      |\n",
    "| [Exercise 3](#e3)   | 1      |\n",
    "| [Exercise 4](#e4)   | 1      |\n",
    "| [Exercise 5](#e5)   | 1      |\n",
    "| [Exercise 6](#e6)   | 2      |\n",
    "| [Exercise 7](#e7)   | 10     |\n",
    "| [Exercise 8](#e8)   | 5      |\n",
    "| [Exercise 9](#e9)   | 15     |\n",
    "| [Exercise 10](#e10) | 10     |\n",
    "| [Exercise 11](#e11) | 10     |\n",
    "| [Exercise 12](#e12) | 5      |\n",
    "| [Exercise 13](#e13) | 15     |\n",
    "| [Exercise 14](#e14) | 3      |\n",
    "| [Exercise 15](#e15) | 10     |\n",
    "| [Exercise 16](#e16) | 10     |\n",
    "| Total               | 100    |\n",
    "\n",
    "This score will be scaled down to 1 and that will be your final lab score.\n",
    "\n",
    "### 📌 **Instructions for Delivery** (📅 **Deadline: 18/Apr 18:00**, 🎭 *wildcards possible*)\n",
    "\n",
    "✅ **Submission Requirements**\n",
    "+ 📄 You need to submit a **PDF of your report** (use the templates provided in **LaTeX** 🖋️ (*preferred*) or **Word** 📑) and a **copy of your notebook** 📓 with the code.\n",
    "+ ⚡ Make sure that **all cells are executed properly** ⚙️ and that **all figures/results/plots** 📊 you include in the report are also visible in your **executed notebook**.\n",
    "\n",
    "✅ **Collaboration & Integrity**\n",
    "+ 🗣️ While you may **discuss** the lab with others, you must **write your solutions with your group only**. If you **discuss specific tasks** with others, please **include their names** in the appendix of the report.\n",
    "+ 📜 **Honor Code applies** to this lab. For more details, check **Syllabus §7.2** ⚖️.\n",
    "+ 📢 **Mandatory Disclosure**:\n",
    "   - Any **websites** 🌐 (e.g., **Stack Overflow** 💡) or **other resources** used must be **listed and disclosed**.\n",
    "   - Any **GenAI tools** 🤖 (e.g., **ChatGPT**) used must be **explicitly mentioned**.\n",
    "   - 🚨 **Failure to disclose these resources is a violation of academic integrity**. See **Syllabus §7.3** for details."
   ]
  },
  {
   "cell_type": "markdown",
   "metadata": {
    "collapsed": false,
    "id": "aHYGq5RUpSOD",
    "pycharm": {
     "name": "#%% md\n"
    }
   },
   "source": [
    "## 0. Setup\n",
    "\n",
    "As in the last lab, we will be using huggingface datasets library ([https://huggingface.co/datasets](https://huggingface.co/datasets)). You can find the detailed documentation and tutorials here: [https://huggingface.co/docs/datasets/en/index](https://huggingface.co/docs/datasets/en/index)\n",
    "\n",
    "If you don't have it installed you can run the code below or install it via `pip` in your terminal. If you are using Google Colab, you can uncomment and run the code below in a code cell. Restarting of the runtime may be required after installation (Runtime/Restart session)."
   ]
  },
  {
   "cell_type": "markdown",
   "metadata": {
    "collapsed": false,
    "pycharm": {
     "name": "#%% md\n"
    }
   },
   "source": [
    "Previously installed datasets library version of 3.2.0 had an error when combined with numpy version >2. If you encounter an error at some point it might require to update the datasets library to the newer version. You can do that by running the code below. If you are using Google Colab, you can run the code below in a code cell. If you are using Jupyter Notebook, you can run the code below in a code cell or in a terminal."
   ]
  },
  {
   "cell_type": "code",
   "execution_count": null,
   "metadata": {
    "ExecuteTime": {
     "end_time": "2025-04-16T15:17:20.928340Z",
     "start_time": "2025-04-16T15:17:20.924921Z"
    },
    "collapsed": false,
    "pycharm": {
     "name": "#%%\n"
    }
   },
   "outputs": [
    {
     "ename": "",
     "evalue": "",
     "output_type": "error",
     "traceback": [
      "\u001b[1;31mRunning cells with 'Python 3.12.9' requires the ipykernel package.\n",
      "\u001b[1;31mRun the following command to install 'ipykernel' into the Python environment. \n",
      "\u001b[1;31mCommand: '/opt/homebrew/bin/python3.12 -m pip install ipykernel -U --user --force-reinstall'"
     ]
    }
   ],
   "source": [
    "#! pip install --upgrade --force-reinstall datasets\n"
   ]
  },
  {
   "cell_type": "markdown",
   "metadata": {
    "collapsed": false,
    "id": "5CCI1TPJpSOF",
    "pycharm": {
     "name": "#%% md\n"
    }
   },
   "source": [
    "As usual, we start by importing some essential Python libraries and we will be using. Apart from `gensim` (which is going to be used for word embeddings), we have already seen the others."
   ]
  },
  {
   "cell_type": "code",
   "execution_count": 1,
   "metadata": {
    "ExecuteTime": {
     "end_time": "2025-04-16T21:53:23.499750Z",
     "start_time": "2025-04-16T21:53:22.423589Z"
    },
    "id": "CRe8W4hKpSOF",
    "pycharm": {
     "name": "#%%\n"
    }
   },
   "outputs": [
    {
     "name": "stderr",
     "output_type": "stream",
     "text": [
      "/Users/mariowettig/VS/NLP_Labs/.venv/lib/python3.11/site-packages/tqdm/auto.py:21: TqdmWarning: IProgress not found. Please update jupyter and ipywidgets. See https://ipywidgets.readthedocs.io/en/stable/user_install.html\n",
      "  from .autonotebook import tqdm as notebook_tqdm\n",
      "[nltk_data] Downloading package punkt_tab to\n",
      "[nltk_data]     /Users/mariowettig/nltk_data...\n",
      "[nltk_data]   Package punkt_tab is already up-to-date!\n"
     ]
    }
   ],
   "source": [
    "import re\n",
    "\n",
    "import numpy as np\n",
    "import matplotlib.pyplot as plt\n",
    "import datasets\n",
    "\n",
    "import ssl\n",
    "\n",
    "try:\n",
    "    _create_unverified_https_context = ssl._create_unverified_context\n",
    "except AttributeError:\n",
    "    pass\n",
    "else:\n",
    "    ssl._create_default_https_context = _create_unverified_https_context\n",
    "\n",
    "import nltk\n",
    "nltk.download('punkt_tab')\n",
    "\n",
    "import tqdm\n",
    "import gensim\n",
    "\n",
    "\n"
   ]
  },
  {
   "cell_type": "markdown",
   "metadata": {
    "collapsed": false,
    "id": "NXy-1KiCpSOF",
    "pycharm": {
     "name": "#%% md\n"
    }
   },
   "source": [
    "p## 1. Load and Preprocess Data\n",
    "\n",
    "*Sentence compression* involves rephrasing sentences to make them shorter while still retaining the original meaning. A reliable compression system would be valuable for mobile devices and could also serve as a component in an extractive summarization system.\n",
    "\n",
    "The dataset we are going to use can be found on [Huggingface](https://huggingface.co/datasets/embedding-data/sentence-compression). It concerns a set of 180,000 pairs of sentences, aka it is a parallel corpus of sentences and their equivalent compressions. It has been collected by harvesting news articles from the Internet where the headline appears to be similar to the first sentence and that property is used to find an \"extractive\" compression of the sentence.\n",
    "\n",
    "For example, for the sentence\n",
    "\n",
    "`\"Regulators Friday shut down a small Florida bank, bringing to 119 the number of US bank failures this year amid mounting loan defaults\"`\n",
    "\n",
    "the compressed equivalent (based on the dataset) is:\n",
    "\n",
    "`\"Regulators shut down small Florida bank\"`.\n",
    "\n",
    "\n",
    "For more information you can read the original paper (from Google) [here](https://aclanthology.org/D13-1155.pdf). We strongly recommend going over the paper to gain further insights. Notice that the paper is from 2013, therefore word embeddings have not been widely introduced yet in NLP tasks, meaning that the methods applied were based on the traditional NLP pipeline (feature extraction + ML)."
   ]
  },
  {
   "cell_type": "markdown",
   "metadata": {
    "collapsed": false,
    "id": "ztJX2GRVpSOF",
    "pycharm": {
     "name": "#%% md\n"
    }
   },
   "source": [
    "### 1.1 Loading the Dataset\n",
    "\n",
    "The dataset will be loaded as a Pandas DataFrame. This may take a few minutes because of the large size of the data.\n",
    "\n",
    "Make sure to inspect the dataset and make sure it is imported properly."
   ]
  },
  {
   "cell_type": "code",
   "execution_count": 2,
   "metadata": {
    "ExecuteTime": {
     "end_time": "2025-04-16T21:53:26.450151Z",
     "start_time": "2025-04-16T21:53:24.506530Z"
    },
    "id": "tay2NXPTpSOG",
    "pycharm": {
     "name": "#%%\n"
    }
   },
   "outputs": [
    {
     "name": "stdout",
     "output_type": "stream",
     "text": [
      "DatasetDict({\n",
      "    train: Dataset({\n",
      "        features: ['set'],\n",
      "        num_rows: 180000\n",
      "    })\n",
      "})\n"
     ]
    }
   ],
   "source": [
    "ds = datasets.load_dataset('embedding-data/sentence-compression')\n",
    "print(ds)"
   ]
  },
  {
   "cell_type": "code",
   "execution_count": 45,
   "metadata": {
    "ExecuteTime": {
     "end_time": "2025-04-16T21:53:26.475293Z",
     "start_time": "2025-04-16T21:53:26.466090Z"
    },
    "id": "bUud3eZVpSOH",
    "pycharm": {
     "name": "#%%\n"
    }
   },
   "outputs": [
    {
     "name": "stdout",
     "output_type": "stream",
     "text": [
      "{'set': [\"The USHL completed an expansion draft on Monday as 10 players who were on the rosters of USHL teams during the 2009-10 season were selected by the League's two newest entries, the Muskegon Lumberjacks and Dubuque Fighting Saints.\", 'USHL completes expansion draft']}\n",
      "{'set': ['Major League Baseball Commissioner Bud Selig will be speaking at St. Norbert College next month.', 'Bud Selig to speak at St. Norbert College']}\n",
      "{'set': [\"It's fresh cherry time in Michigan and the best time to enjoy this delicious and nutritious fruit.\", \"It's cherry time\"]}\n",
      "{'set': ['An Evesham man is facing charges in Pennsylvania after he allegedly dragged his girlfriend from the side of his pickup truck on the campus of Kutztown University in the early morning hours of Dec. 5, police said.', 'Evesham man faces charges for Pa.']}\n",
      "{'set': [\"NRT LLC, one of the nation's largest residential real estate brokerage companies, announced several executive appointments within its Coldwell Banker Residential Brokerage operations in Southern California.\", 'NRT announces executive appointments at its Coldwell Banker operations in Southern California']}\n",
      "{'set': ['THE JSE kept toying with an all time high by midday today as resources continued to fuel the bourse.', 'JSE keeps toying with all time high']}\n",
      "{'set': ['The government is defending the latest police crime statistics despite a worrying rise in the recorded amount of violent offending.', 'Government defends crime statistics']}\n",
      "{'set': ['The renovated Marappalam bridge, which had been opened for two-wheelers last week, was opened for other vehicles also on Friday.', 'Marappalam bridge opened']}\n",
      "{'set': ['A new survey shows 30 percent of Californians use Twitter, and more and more of us are using our smart phones to go online.', 'Survey: 30 percent of Californians use Twitter']}\n",
      "{'set': ['Brightpoint ,a provider of logistic services to the mobile industry, has started operations in the Turkish market.', 'Brightpoint starts operations on Turkish market']}\n",
      "{'set': ['A WOMAN has been seriously injured in a collision with a police van in North Devon.', 'Woman seriously injured in collision with police van']}\n",
      "{'set': ['Alfalfa sprouts recalled because of salmonella poisoning were sold to more than 400 Wal-Mart stores in 15 states.', 'Alfalfa sprouts recall']}\n",
      "{'set': ['A strip club will open in Rochester High Street tonight, 15 months after it was approved.', 'Strip club opens tonight']}\n",
      "{'set': [\"Hypermarcas SA, Brazil's fourth- largest consumer-goods company by market value, declined the most in two weeks after JPMorgan Chase & Co. cut its rating on concern the company may struggle to integrate recent acquisitions.\", 'Hypermarcas declines most in two weeks as JPMorgan cuts rating']}\n",
      "{'set': ['It is being reported that Los Angeles police are looking for an apparently suicidal man who was released from a hospital, after being brought there by police upon being found hanging by his neck in a holding cell.', 'La police looking for suicidal man']}\n",
      "{'set': ['The Jersey Shore cast is being refused at many Miami hotspots since filming began.', 'Jersey Shore cast being refused at many Miami hotspots']}\n",
      "{'set': ['A tourist in China get a shock when a brown bear charges his car.', 'Brown bear charges car']}\n",
      "{'set': ['A team of RMIT students won a supply chain simulation game hosted by Victoria University in June.', 'RMIT students win supply chain simulation']}\n",
      "{'set': ['After months of speculation over mental stability, the Deerfield murder suspect was deemed fit to stand trial Friday.', 'Deerfield murder suspect deemed fit to stand trial']}\n",
      "{'set': ['Marriott International has filled top leadership positions on its newly formed Middle East and Africa regional team, based here in Dubai, announced Mark Satterfield, chief operations officer.', 'Marriott International fills top leadership positions on its Middle East and Africa regional team']}\n",
      "{'set': ['The war of words between Team Anna and the government grew intense on Sunday, with Kiran Bedi describing Prime Minister Manmohan Singh as Dhritarashtra.', \"Team Anna's Kiran Bedi describes Manmohan Singh as 'Dhritarashtra'\"]}\n",
      "{'set': ['Kendis Gibson has been named a Correspondent for CBS Newspath out of the Los Angeles bureau of CBS News.', 'Kendis Gibson named correspondent for CBS Newspath']}\n",
      "{'set': [\"San Francisco Giants All-Star outfielder Melky Cabrera was suspended for 50 games Wednesday for testosterone, violating MLB's Joint Drug Prevention and Treatment Program.\", 'Melky Cabrera suspended 50 games for testosterone']}\n",
      "{'set': ['Yamaha Motor Co., Ltd. has announced that it will withdraw from its life science business as of the end of December 2010 due to expected difficulties in achieving profitability attributed to limited market size and future growth prospects.', 'Yamaha Motor to withdraw from life science business']}\n",
      "{'set': [\"More land for commercial development opened on the city's East End when the Jefferson City Planning and Zoning Commission approved two zoning requests Thursday.\", 'Land for commercial development opens up on East End']}\n",
      "{'set': ['>>> three years after that massive government bailout saved it, general motors is reporting its highest profits ever.', 'General motors reports highest profits ever']}\n",
      "{'set': ['A new study published in the Journal of Clinical Investigation has found that vitamin D may be an effective therapeutic agent to treat or prevent allergy to a common mold that can complicate asthma and frequently affect patients with Cystic Fibrosis.', 'Vitamin D may treat or prevent allergy to common mold']}\n",
      "{'set': [\"At a regular press conference of the Ministry of National Defense of the People's Republic of China held on June 28, 2012, Geng Yansheng, spokesman of the MND, said the maritime liaison mechanism between the defense departments of China and Japan can help to avoid maritime misunderstanding and misjudgment.\", 'Maritime liaison mechanism between China and Japan can help to avoid maritime misunderstanding and misjudgment']}\n",
      "{'set': ['Motorcycle mogul Jesse James has moved on in life with Kat Von D -- just after two months of his divorce from Sandra Bullock.', 'Jesse James moves on with Kat Von D']}\n",
      "{'set': ['A person walking on a Gaston County road was hit by a fire truck early Wednesday morning.', 'Person hit by fire truck']}\n",
      "{'set': ['Moga, July 15 Two unidentified migrant labourers were crushed to death by a speeding vehicle near Chuharchak village here when they were standing near the roadside.', 'Two migrant labourers crushed to death']}\n",
      "{'set': ['US young adults seem to worry as much about their online privacy like the older adults, only difference being that they are naive, a study has revealed.', 'Young adults worry as much about privacy like older adults']}\n",
      "{'set': ['Neste Oil will publish its fourth quarter and full year 2011 results on Friday, 3 February 2012 at approximately 9 am.', 'Neste Oil to publish its 2011 results on 3 February 2012']}\n",
      "{'set': ['Clearwater Marine Aquarium staff released 46 sea turtles back into the wild this morning at Honeymoon Island State Park.', 'Clearwater Marine Aquarium releases turtles']}\n",
      "{'set': ['Microsoft has put together an incident management team to monitor the swine flu outbreak and provide assistance to affected employees.', \"Microsoft's incident management team monitors swine flu\"]}\n",
      "{'set': [\"The day is the second day of the second month in China's lunar calendar, which is popularly known as the day when the dragon raises its head.\", 'Dragon raises its head']}\n",
      "{'set': [\"Albion boss Gus Poyet will make changes to both the team and tactics against Huddersfield at Withdean tomorrow night in an attempt to cure the Seagulls' wretched home form.\", 'Poyet to make changes']}\n",
      "{'set': ['ESPN on Tuesday began making a significant reduction of its work force, laying off more than 100 employees at its Bristol, Conn., headquarters and in at least one regional technology center.', 'ESPN lays off more than 100 employees']}\n",
      "{'set': ['Swift died on 18 April at his Manhattan home.', 'Voice actor Swift dies']}\n",
      "{'set': ['As reported by EGaming Review: ``Dedicated egaming bank Ivobank is refusing new customers amid doubt over its future.', 'Ivobank refusing new customers']}\n",
      "{'set': [\"Partition affected the Indian Muslims adversely, especially those in the country's northern and eastern regions, and its socio-economic impact remains understudied, said Vice President Hamid Ansari on Monday.\", 'Partition affected Muslims adversely:']}\n",
      "{'set': ['Google is reportedly updating its privacy policy after the settlement of privacy lawsuit over its Buzz.', 'Google updates its privacy policy']}\n",
      "{'set': ['A book club that meets monthly in The Victoria Park pub on Raymend Road is hoping to welcome new members to its next meeting, at 7.30pm on Tuesday, 22 March 2011.', 'Bedminster book club welcomes new members']}\n",
      "{'set': ['Premier Mario Monti formed a new Italian government without a single politician Wednesday, drawing from the ranks of bankers, diplomats and business executives to create a team to steer Italy away from financial disaster.', 'Monti forms Italian government with no politicians']}\n",
      "{'set': ['US President Barack Obama arrived in Brazil Saturday, launching the first leg of a Latin America tour focused on trade and job creation.', 'President Obama arrives in Brazil']}\n",
      "{'set': ['Dive teams searched Skaneateles Lake Wednesday night, looking for a possible missing boater.', 'Dive teams looking for possible missing boater']}\n",
      "{'set': ['A LIT firework was shoved through the letterbox of a house while a couple slept.', 'Lit firework shoved through letterbox']}\n",
      "{'set': [\"London, March 11 American singer Lady Gaga has no boundaries on her relationships and says she won't mind falling in love with a woman.\", \"Won't mind falling in love with a woman:\"]}\n",
      "{'set': ['Jennifer Aniston did her own stunts in The Bounty Hunter, despite her high heels.', 'Jennifer Aniston does stunt in heels']}\n",
      "{'set': ['The International Olympic Committee today announced that it has disqualified Syrian athlete Ghfran Almouhamad from the Games of the XXX Olympiad in London for an anti-doping rule violation.', 'Ioc disqualifies hurdler Almouhamad for anti-doping violation']}\n",
      "{'set': ['Motorola has just unveiled its gallery of conceptual handsets from the bowels of its design studios in order to celebrate 25 years of the cell phone, and we wish Motorola the best in whatever endeavors they embark upon with their future handset designs.', 'Motorola celebrates 25 years of cell phones']}\n",
      "{'set': ['Major private security companies signed a code of conduct Tuesday, pledging to respect human rights and the rule of law in conflict zones such as Iraq and Afghanistan, where some have been accused of abuses against the local population and reckless behavior.', 'Private security companies sign code of conduct']}\n",
      "{'set': ['Florida quarterback Tim Tebow was taken to a hospital in the back of an ambulance following a hard hit in the third quarter against Kentucky on Saturday night.', 'Tebow taken to hospital after hard hit']}\n",
      "{'set': ['In occupied Kashmir, several houses were gutted in a fire in Bandipore district.', 'Several house gutted in fire in Bandipore']}\n",
      "{'set': ['A lesbian couple, who eloped last week from this district, has been traced to Roorkee after a complaint by the family of one of the girls, police said on Saturday.', 'Lesbian couple traced to Roorkee']}\n",
      "{'set': ['YouTube today is launching XL, a new interface for the site that is customized for televisions.', 'YouTube launches xl:']}\n",
      "{'set': ['Flyers forward Jaromir Jagr, who left the Winter Classic with a leg injury on Monday, has a mild left groin strain, and will miss seven to 10 days.', 'Flyers forward Jaromir Jagr has a left groin strain, could miss up to 10 days']}\n",
      "{'set': ['Kyrgyzstan is to enter the Customs Union of Russia, Belorussia and Kazakhstan.', 'Kyrgyzstan to enter Customs Union']}\n",
      "{'set': ['Nigel Hasselbaink is back in contention for Hamilton`s Scottish Cup clash against Alloa after recovering from a knee injury.', 'Hasselbaink could be back']}\n",
      "{'set': ['England beat Bangladesh by 181 runs on the fifth day of the first test at the Zohur Ahmed Chowdhury Stadium on Tuesday.', 'England beat Bangladesh 181 runs in first test']}\n",
      "{'set': ['Apple has paid around GBP 3 million to buy 8.2 million shares in UK-based digital radio maker Imagination Technologies.', 'Apple buys into digital radio maker Imagination Technologies']}\n",
      "{'set': ['A US national was kidnapped in Pakistan in the eastern city of Lahore, police officials said on Saturday.', 'US national kidnapped in Pakistan, police say']}\n",
      "{'set': ['Trinidad and Tobago`s murder toll for this year jumped to 420 Thursday with the brutal murder of two Swedish nationals.', 'Trinidad & Tobago`s murder toll jumps with murder of Swedish nationals']}\n",
      "{'set': [\"Newly wedded Innocent Ujah Idibia popularly called 2face turned 'pastor' in Ibadan while performing on the Star Trek stage on May 25, 2012.\", '2face turns pastor in Ibadan']}\n",
      "{'set': ['Long-time anchorman Jack Williams is leaving the 11 pm newscast at WBZ-TV, but will continue to co-anchor the 6 pm newscast with Lisa Hughes, according to Ro Dooley Webster, Boston market director of communications at WBZ-TV.', 'Jack Williams leaving 11 pm newscast']}\n",
      "{'set': ['Governor Brown visited a Riverside elementary school to try to gain Republican support to extend temporary tax hikes.', 'Governor Brown visits Riverside to gain Republican support']}\n",
      "{'set': ['Two small bombs exploded overnight outside the office of an anti-government protest leader amid intensifying political tension as street protests entered their fourth week, police said Monday.', 'Two small bombs explode outside office of anti-government protest leader, police say']}\n",
      "{'set': ['Western Union says its profit fell in the fourth quarter on slower demand for money transfers and bill payments.', 'Western Union profit falls on slowing demand']}\n",
      "{'set': [\"For anyone who is trying to get pregnant, the most important question you should ask is ``how to calculate ovulation?''\", 'How to calculate ovulation?']}\n",
      "{'set': [\"Benton County Sheriff's deputies say a Prosser boy was stabbed multiple times last night over a narcotics dispute.\", 'Prosser boy stabbed multiple times']}\n",
      "{'set': ['Percy Harvin returned to practice with the Vikings Thursday and reported no lingering effects from his latest migraine episode.', 'Percy Harvin returns to practice']}\n",
      "{'set': [\"Paul McCartney says that The Beatles almost reformed while they were all still alive, but decided against it so they wouldn't ruin their legacy.\", 'The Beatles almost reformed while they were all still alive']}\n",
      "{'set': [\"Several hundred mourners have gathered to farewell Thomas Kelly at a private school in Sydney's west.\", 'Hundreds gather to farewell Thomas Kelly']}\n",
      "{'set': ['In a story by David Biderman from the Wall St. Journal, the Boston Red Sox are the second most despised team in baseball, behind only the Cleveland Indians.', 'Red Sox are second most despised team in baseball']}\n",
      "{'set': [\"Malta's register has attracted 35 additional aircraft since the new legal and regulatory framework was launched in January 2011, bringing the total to 111, the Transport Ministry has told The Times Business.\", 'Malta register attracts 35 additional aircraft']}\n",
      "{'set': [\"But in an interview with Bloomberg Business Week, Obama said he doesn't ``begrudge'' the $17 million bonus awarded to JPMorgan Chase CEO Jamie Dimon or the $9 million issued to Goldman Sachs CEO Lloyd Blankfein.\", \"Obama doesn't 'begrudge' bonuses\"]}\n",
      "{'set': ['One in 10 workers has taken time off because of depression, a poll of 7,000 people in seven European countries has found.', 'One in 10 workers has taken time off for depression']}\n",
      "{'set': [\"Michael Boley says Giants showed they 'are a team to be reckoned with' Champions aren't crowned in October, but Sunday's win over the 49ers had so much physicality and emotional intensity that it was easy to forget the leaves are still on the trees.\", \"Michael Boley says Giants showed they 'are a team to be reckoned with'\"]}\n",
      "{'set': ['The Army bomb squad has arrived at the scene of a bomb scare in Hastings .', 'Bomb squad arrives']}\n",
      "{'set': [\"Australian death metallers Impetuous Ritual are currently streaming two new songs online from their debut album ``Relentless Execution Of Ceremonial Excrescence.''\", 'Impetuous Ritual streaming two new songs online']}\n",
      "{'set': ['An 8-year-old boy has died after he was hit by a car driven by his own mother at a shopping centre north of Brisbane.', 'Boy dies after being hit by car']}\n",
      "{'set': ['SMART Technologies Inc. announced a corporate restructuring that will sharpen focus on each of its target markets in Education and Enterprise while simultaneously streamlining its corporate support functions.', 'Smart Technologies announces corporate restructuring']}\n",
      "{'set': ['Sega and Obsidian Entertainment announced today Alpha Protocol, a new espionage role-playing game set in the modern world.', 'SEGA announces Alpha Protocol']}\n",
      "{'set': ['Wichita Mayor Carl Brewer has been hospitalized after experiencing chest pains on Tuesday, City of Wichita officials said.', 'Mayor Brewer hospitalized']}\n",
      "{'set': ['Idaho football coach Robb Akey will be in Boise and Twin Falls on Saturday as part of his statewide signing day tour.', \"Idaho's Akey will be in Boise on Saturday\"]}\n",
      "{'set': [\"A University of Iowa study found that women who make their sexual debut as young teens are more likely to divorce, especially if ``the first time'' was unwanted, or if she had mixed feelings about it.\", 'Women who make their sexual debut as young teens more likely to divorce']}\n",
      "{'set': ['The parents of Chelsea king will hold a community forum as part of their campaign to push for tougher laws against sex offenders tonight.', 'The parents of Chelsea king to hold community forum']}\n",
      "{'set': ['Perth, Feb 23 Australian pacer Brett Lee is set to retire from Test cricket on the advice of England rival and close friend Andrew Flintoff.', 'Australian pacer Brett Lee to retire from Test cricket']}\n",
      "{'set': ['When animals attack wanders into Japan and that leads us to a very odd story.', 'When animals attack:']}\n",
      "{'set': ['Dutch Premier League leaders PSV Eindhoven lost 0-1 at home to ADO Den Haag on Saturday evening.', 'Dutch Premier League leaders lose at home']}\n",
      "{'set': ['War veterans who served in Malaya in the 1950s and 1960s have been denied the right to wear medals of gratitude given to them by the Malaysian government.', 'Veterans denied right to wear medals']}\n",
      "{'set': ['Philips Electronics warned of sharply lower profits at its lighting division and toasters-to-shavers consumer business, due to weak demand in Europe.', 'Philips warns of lower profits in lighting and consumer business']}\n",
      "{'set': ['The Murphysboro Apple Festival Funland tickets and pageant tickets will go on sale starting Monday, August 15.', 'Murphysboro Apple festival tickets to go on sale']}\n",
      "{'set': ['European stocks edged lower in early trading Friday, after another weak session for Wall Street, with banks, miners and oil companies all losing ground.', 'European stocks edged lower in early trading']}\n",
      "{'set': ['Percy Harvin will be limited in practice Tuesday for the Minnesota Vikings due to an apparent knee injury.', 'Percy Harvin limited in practice Tuesday with knee injury:']}\n",
      "{'set': ['ESPN has dropped Hank Williams Jr. from opening Monday Night Football tonight after controversial comments Monday about President Obama, USA Today first reported.', \"Espn drops Hank Williams Jr. from 'Monday Night Football'\"]}\n",
      "{'set': [\"Sakio Bika, the ``Contender'' season-three champion, says former champion Anthony Mundine is scared to fight him.\", \"Sakio Bika: ``Anthony Mundine is scared to fight me''\"]}\n",
      "{'set': ['Labour unions say different electricity tariffs by Eskom and municipalities are becoming a significant trigger for service delivery protests.', \"'Electricity tariffs trigger service delivery protests'\"]}\n",
      "{'set': [\"Quality Technology Services, one of the nation's largest privately held providers of data center facilities and managed services, announced today that Ultimate Software, the leading provider of unified HR, payroll, and talent management solutions, has renewed its contract with QTS' Miami data center facility.\", 'Ultimate Software renews contract with QTS data center']}\n",
      "{'set': [\"The mum of the model shot dead by Oscar Pistorius wept yesterday: ``Why would he kill my angel?''\", \"``Why would he kill my angel?''\"]}\n"
     ]
    }
   ],
   "source": [
    "for i in range(100):\n",
    "    print(ds['train'][i])"
   ]
  },
  {
   "cell_type": "markdown",
   "metadata": {
    "collapsed": false,
    "id": "HfJSiWxrpSOH",
    "pycharm": {
     "name": "#%% md\n"
    }
   },
   "source": [
    "The dataset comes with only the `train` split so we will have to split it ourselves."
   ]
  },
  {
   "cell_type": "code",
   "execution_count": 46,
   "metadata": {
    "ExecuteTime": {
     "end_time": "2025-04-16T21:53:26.542506Z",
     "start_time": "2025-04-16T21:53:26.508397Z"
    },
    "id": "tATL53MWpSOH",
    "pycharm": {
     "name": "#%%\n"
    }
   },
   "outputs": [
    {
     "name": "stdout",
     "output_type": "stream",
     "text": [
      "DatasetDict({\n",
      "    train: Dataset({\n",
      "        features: ['set'],\n",
      "        num_rows: 144000\n",
      "    })\n",
      "    test: Dataset({\n",
      "        features: ['set'],\n",
      "        num_rows: 36000\n",
      "    })\n",
      "})\n"
     ]
    }
   ],
   "source": [
    "split_ds = ds['train'].train_test_split(test_size=0.2)\n",
    "print(split_ds)"
   ]
  },
  {
   "cell_type": "markdown",
   "metadata": {
    "collapsed": false,
    "id": "L133t3CqpSOH",
    "pycharm": {
     "name": "#%% md\n"
    }
   },
   "source": [
    "### 1.2 Preprocessing the dataset\n",
    "In this section we will prepare the dataset, aka clean the sentences and tokenize.\n",
    "\n",
    "First, let's write the function to clean the text. It can be similar to the one from the previous lab (Lab1) but make sure that it makes sense for this dataset and task.\n",
    "\n",
    "More specifically, think about lower-casing, punctuation, stop-words and lemmatization/stemming and the impact it might have on the dataset. Also reflect on the fact that with word embeddings we want to uncover semantic relationships between words, whereas with bag-of-words we were trying to capture different morphological variations."
   ]
  },
  {
   "cell_type": "markdown",
   "metadata": {
    "collapsed": false,
    "id": "mQszN6GNpSOH",
    "pycharm": {
     "name": "#%% md\n"
    }
   },
   "source": [
    "<a name='e1'></a>\n",
    "### Exercise 1: Clean function\n",
    "(1p) Fill in the following function to clean the dataset. Implement at least 3 different steps."
   ]
  },
  {
   "cell_type": "code",
   "execution_count": 47,
   "metadata": {
    "ExecuteTime": {
     "end_time": "2025-04-16T21:53:26.801040Z",
     "start_time": "2025-04-16T21:53:26.796220Z"
    },
    "id": "TxjfLQj6pSOH",
    "pycharm": {
     "name": "#%%\n"
    }
   },
   "outputs": [],
   "source": [
    "def clean(text):\n",
    "    \"\"\"\n",
    "    Cleans the given text\n",
    "    Args:\n",
    "        text: a str with the text to clean\n",
    "\n",
    "    Returns: a str with the cleaned text\n",
    "\n",
    "    \"\"\"\n",
    "\n",
    "    # Empty text\n",
    "    if text == '':\n",
    "        return text\n",
    "\n",
    "    # 'text' from the example can be of type numpy.str_, let's convert it to a python str\n",
    "    text = str(text)\n",
    "\n",
    "    #you might need more\n",
    "    #add them here\n",
    "\n",
    "    ### YOUR CODE HERE\n",
    "\n",
    "    text = re.sub(r'\\'s', '', text)\n",
    "    text = re.sub(r\"\\`\\`\", '\"', text)\n",
    "    text = re.sub(r\"\\'\\'\", '\"', text)\n",
    "    text = re.sub(r\"\\'\", '\"', text)\n",
    "    text = re.sub(r'\\,', '', text)\n",
    "    text = re.sub(r'\\-', ' ', text)\n",
    "    text = re.sub(r'(?<!\\d)\\.(?!\\d)', '', text)\n",
    "\n",
    "    # replace contractions (a bit extensive)\n",
    "    text = text.replace(\"’\", \"'\").replace(\"‘\", \"'\").replace(\"“\", '\"').replace(\"”\", '\"')\n",
    "    text = re.sub(r\"\\b(what|who|where|when|why|how|there|it|here|she|he|that)\\'s\\b\", r\"\\1 is\", text, flags=re.IGNORECASE)\n",
    "    text = re.sub(r\"\\'re\\b\", \" are\", text, flags=re.IGNORECASE)\n",
    "    text = re.sub(r\"\\'ve\\b\", \" have\", text, flags=re.IGNORECASE)\n",
    "    text = re.sub(r\"\\'ll\\b\", \" will\", text, flags=re.IGNORECASE)\n",
    "    text = re.sub(r\"\\'d\\b\", \" would\", text, flags=re.IGNORECASE)\n",
    "    text = re.sub(r\"can\\'t\\b\", \"can not\", text, flags=re.IGNORECASE)\n",
    "    text = re.sub(r\"won\\'t\\b\", \"will not\", text, flags=re.IGNORECASE)\n",
    "    text = re.sub(r\"n\\'t\\b\", \" not\", text, flags=re.IGNORECASE)\n",
    "\n",
    "    # remove stop words\n",
    "    stopwords = ['a','i','the','in','of','for','at','to','on','with','from','that','he','she','it','is','by','as','an','what','his','her','they','those','these','its','was','has','and','will','have','had','has','said','be','because','since','however']\n",
    "    stopword_pattern = re.compile(rf\"\\b({'|'.join(map(re.escape, stopwords))})\\b\", re.IGNORECASE)\n",
    "    text = stopword_pattern.sub('', text)\n",
    "\n",
    "    # Space out punctuation\n",
    "    text = re.sub(r'(?<!\\d)([.,:;!?])(?!\\d)', r' \\1 ', text)\n",
    "\n",
    "\n",
    "    # remove repeated spaces\n",
    "    text = re.sub(r'\\s+', ' ', text)\n",
    "\n",
    "    ### YOUR CODE ENDS HERE\n",
    "\n",
    "    text = text.strip()\n",
    "\n",
    "    # Update the example with the cleaned text\n",
    "    return text"
   ]
  },
  {
   "cell_type": "markdown",
   "metadata": {
    "collapsed": false,
    "id": "gAqf1AoupSOJ",
    "pycharm": {
     "name": "#%% md\n"
    }
   },
   "source": [
    "The following function will apply the function (sic) you just wrote to the whole dataset. More specifically, it takes the first entry (`sentence`) from the set of uncompressed/compressed pairs, applies the `clean` function and saves the processed sentence in the field `clean_sentence`. The same is dome for the compressed version of the sentence (saved as `clean_compressed`)."
   ]
  },
  {
   "cell_type": "code",
   "execution_count": 48,
   "metadata": {
    "ExecuteTime": {
     "end_time": "2025-04-16T21:53:27.565407Z",
     "start_time": "2025-04-16T21:53:27.563153Z"
    },
    "id": "WZn-M4_vpSOJ",
    "pycharm": {
     "name": "#%%\n"
    }
   },
   "outputs": [],
   "source": [
    "def clean_dataset(example):\n",
    "    \"\"\"\n",
    "    Cleans the sentence and compressed sentence in the example from the Dataset\n",
    "    Args:\n",
    "        example: an example from the Dataset\n",
    "\n",
    "    Returns: updated example with 'clean_sentence' and 'clean_compressed' cleaned\n",
    "\n",
    "    \"\"\"\n",
    "    sentence, compressed = example['set']\n",
    "    clean_sentence = clean(sentence)\n",
    "    clean_compressed = clean(compressed)\n",
    "    example['clean_sentence'] = clean_sentence\n",
    "    example['clean_compressed'] = clean_compressed\n",
    "    return example"
   ]
  },
  {
   "cell_type": "markdown",
   "metadata": {
    "collapsed": false,
    "id": "_KVujosKpSOJ",
    "pycharm": {
     "name": "#%% md\n"
    }
   },
   "source": [
    "Below we apply the function to the whole dataset (using `map`) and we can also inspect the result."
   ]
  },
  {
   "cell_type": "code",
   "execution_count": 49,
   "metadata": {
    "ExecuteTime": {
     "end_time": "2025-04-16T21:53:44.407325Z",
     "start_time": "2025-04-16T21:53:27.936508Z"
    },
    "id": "NBS1JbISpSOJ",
    "pycharm": {
     "name": "#%%\n"
    }
   },
   "outputs": [
    {
     "name": "stderr",
     "output_type": "stream",
     "text": [
      "Map: 100%|██████████| 144000/144000 [00:13<00:00, 11007.40 examples/s]\n",
      "Map: 100%|██████████| 36000/36000 [00:03<00:00, 11236.96 examples/s]"
     ]
    },
    {
     "name": "stdout",
     "output_type": "stream",
     "text": [
      "DatasetDict({\n",
      "    train: Dataset({\n",
      "        features: ['set', 'clean_sentence', 'clean_compressed'],\n",
      "        num_rows: 144000\n",
      "    })\n",
      "    test: Dataset({\n",
      "        features: ['set', 'clean_sentence', 'clean_compressed'],\n",
      "        num_rows: 36000\n",
      "    })\n",
      "})\n"
     ]
    },
    {
     "name": "stderr",
     "output_type": "stream",
     "text": [
      "\n"
     ]
    }
   ],
   "source": [
    "split_ds = split_ds.map(clean_dataset)\n",
    "print(split_ds)\n"
   ]
  },
  {
   "cell_type": "code",
   "execution_count": 50,
   "metadata": {
    "ExecuteTime": {
     "end_time": "2025-04-16T21:53:44.425332Z",
     "start_time": "2025-04-16T21:53:44.421623Z"
    }
   },
   "outputs": [
    {
     "name": "stdout",
     "output_type": "stream",
     "text": [
      "{'set': [\"Brittany Murphy had a heart murmur and the actress' mother believes that's what may have killed her.\", 'Brittany Murphy had heart murmur'], 'clean_sentence': 'Brittany Murphy heart murmur actress\" mother believes may killed', 'clean_compressed': 'Brittany Murphy heart murmur'}\n",
      "{'set': [\"To help TV viewers understand how this momentous change will affect them, Broadcasting & Cable, the leading industry source for news and analysis on the business of television, with the help of how-to video site MonkeySee.com, has created 'DTV Transition 101,' an online video guide now viewable on www.Broadcastingcable.com/DTV101 and on www.MonkeySee.com.\", 'Broadcasting & Cable creates ``DTV transition 101:'], 'clean_sentence': 'help TV viewers understand how this momentous change affect them Broadcasting & Cable leading industry source news analysis business television help how video site MonkeySeecom created \"DTV Transition 101\" online video guide now viewable wwwBroadcastingcablecom/DTV101 wwwMonkeySeecom', 'clean_compressed': 'Broadcasting & Cable creates \"DTV transition 101:'}\n",
      "{'set': [\"After reading here that there isn't yet a test for gluten sensitivity, several readers wrote to tell me there are in fact tests; they're just not well known and not offered by most physicians.\", 'Can you test for gluten sensitivity?'], 'clean_sentence': 'After reading here there isn\"t yet test gluten sensitivity several readers wrote tell me there are fact tests ; \"re just not well known not offered most physicians', 'clean_compressed': 'Can you test gluten sensitivity ?'}\n",
      "{'set': ['Delta is to buy a Pennsylvania oil refinery from ConocoPhillips for $180 million, which is the first ever purchase of a refinery by an airline, the company says.', 'Delta air lines buying oil refinery'], 'clean_sentence': 'Delta buy Pennsylvania oil refinery ConocoPhillips $180 million which first ever purchase refinery airline company says', 'clean_compressed': 'Delta air lines buying oil refinery'}\n",
      "{'set': ['Cuba received from January to October a record number of 64,705 visitors from Argentina, in a year in which the island is expected to welcome around 2.7 million international tourists.', 'Cuba received record number of visitors from Argentina'], 'clean_sentence': 'Cuba received January October record number 64705 visitors Argentina year which island expected welcome around 2.7 million international tourists', 'clean_compressed': 'Cuba received record number visitors Argentina'}\n",
      "{'set': [\"Here's how we test tablets -- from examining screens and build quality to battery life, performance and more.\", 'How we test tablets'], 'clean_sentence': 'Here how we test tablets examining screens build quality battery life performance more', 'clean_compressed': 'How we test tablets'}\n",
      "{'set': ['Residents in the region are discussing snow removal, after a heavy weekend snowfall.', 'Residents discuss snow removal'], 'clean_sentence': 'Residents region are discussing snow removal after heavy weekend snowfall', 'clean_compressed': 'Residents discuss snow removal'}\n",
      "{'set': [\"``The name change are totally false, he is still Diddy. He is currently in ``Sean John'' mode as the upcoming Sean John fashion show is scheduled for February 8th in New York,'' states a spokesperson for Sean Combs.\", \"My name is ``Diddy''\"], 'clean_sentence': '\" name change are totally false still Diddy currently \"Sean John\" mode upcoming Sean John fashion show scheduled February 8th New York\" states spokesperson Sean Combs', 'clean_compressed': 'My name \"Diddy\"'}\n",
      "{'set': ['With this win Bangladesh has clean swept West Indies by 3-0 in the ODI series.', 'Bangladesh clean sweeps West Indies in ODI series'], 'clean_sentence': 'this win Bangladesh clean swept West Indies 3 0 ODI series', 'clean_compressed': 'Bangladesh clean sweeps West Indies ODI series'}\n",
      "{'set': ['Danny Care has been fined an undisclosed amount by Harlequins following his arrest for being drunk and disorderly.', 'Danny Care fined by Harlequins after arrest'], 'clean_sentence': 'Danny Care been fined undisclosed amount Harlequins following arrest being drunk disorderly', 'clean_compressed': 'Danny Care fined Harlequins after arrest'}\n",
      "Brittany Murphy heart murmur\n",
      "Broadcasting & Cable creates \"DTV transition 101:\n",
      "Can you test gluten sensitivity ?\n",
      "Delta air lines buying oil refinery\n",
      "Cuba received record number visitors Argentina\n",
      "How we test tablets\n",
      "Residents discuss snow removal\n",
      "My name \"Diddy\"\n",
      "Bangladesh clean sweeps West Indies ODI series\n",
      "Danny Care fined Harlequins after arrest\n"
     ]
    }
   ],
   "source": [
    "for i in range(10):\n",
    "    print(split_ds['train'][i])\n",
    "\n",
    "for i in range(10):\n",
    "    print(split_ds['train'][i]['clean_compressed'])"
   ]
  },
  {
   "cell_type": "markdown",
   "metadata": {
    "collapsed": false,
    "id": "X_ThE9H-pSOJ",
    "pycharm": {
     "name": "#%% md\n"
    }
   },
   "source": [
    "Let's examine some examples from the dataset and make sure that we got the results we wanted. At this step, it might be necessary to revisit some pre-processing steps if you are not happy with the results."
   ]
  },
  {
   "cell_type": "code",
   "execution_count": 51,
   "metadata": {
    "ExecuteTime": {
     "end_time": "2025-04-16T21:53:44.450304Z",
     "start_time": "2025-04-16T21:53:44.447708Z"
    },
    "id": "hP-qOPijpSOJ",
    "pycharm": {
     "name": "#%%\n"
    }
   },
   "outputs": [
    {
     "name": "stdout",
     "output_type": "stream",
     "text": [
      "{'set': [\"Brittany Murphy had a heart murmur and the actress' mother believes that's what may have killed her.\", 'Brittany Murphy had heart murmur'], 'clean_sentence': 'Brittany Murphy heart murmur actress\" mother believes may killed', 'clean_compressed': 'Brittany Murphy heart murmur'}\n",
      "{'set': [\"To help TV viewers understand how this momentous change will affect them, Broadcasting & Cable, the leading industry source for news and analysis on the business of television, with the help of how-to video site MonkeySee.com, has created 'DTV Transition 101,' an online video guide now viewable on www.Broadcastingcable.com/DTV101 and on www.MonkeySee.com.\", 'Broadcasting & Cable creates ``DTV transition 101:'], 'clean_sentence': 'help TV viewers understand how this momentous change affect them Broadcasting & Cable leading industry source news analysis business television help how video site MonkeySeecom created \"DTV Transition 101\" online video guide now viewable wwwBroadcastingcablecom/DTV101 wwwMonkeySeecom', 'clean_compressed': 'Broadcasting & Cable creates \"DTV transition 101:'}\n",
      "{'set': [\"After reading here that there isn't yet a test for gluten sensitivity, several readers wrote to tell me there are in fact tests; they're just not well known and not offered by most physicians.\", 'Can you test for gluten sensitivity?'], 'clean_sentence': 'After reading here there isn\"t yet test gluten sensitivity several readers wrote tell me there are fact tests ; \"re just not well known not offered most physicians', 'clean_compressed': 'Can you test gluten sensitivity ?'}\n",
      "{'set': ['Delta is to buy a Pennsylvania oil refinery from ConocoPhillips for $180 million, which is the first ever purchase of a refinery by an airline, the company says.', 'Delta air lines buying oil refinery'], 'clean_sentence': 'Delta buy Pennsylvania oil refinery ConocoPhillips $180 million which first ever purchase refinery airline company says', 'clean_compressed': 'Delta air lines buying oil refinery'}\n",
      "{'set': ['Cuba received from January to October a record number of 64,705 visitors from Argentina, in a year in which the island is expected to welcome around 2.7 million international tourists.', 'Cuba received record number of visitors from Argentina'], 'clean_sentence': 'Cuba received January October record number 64705 visitors Argentina year which island expected welcome around 2.7 million international tourists', 'clean_compressed': 'Cuba received record number visitors Argentina'}\n",
      "{'set': [\"Here's how we test tablets -- from examining screens and build quality to battery life, performance and more.\", 'How we test tablets'], 'clean_sentence': 'Here how we test tablets examining screens build quality battery life performance more', 'clean_compressed': 'How we test tablets'}\n",
      "{'set': ['Residents in the region are discussing snow removal, after a heavy weekend snowfall.', 'Residents discuss snow removal'], 'clean_sentence': 'Residents region are discussing snow removal after heavy weekend snowfall', 'clean_compressed': 'Residents discuss snow removal'}\n",
      "{'set': [\"``The name change are totally false, he is still Diddy. He is currently in ``Sean John'' mode as the upcoming Sean John fashion show is scheduled for February 8th in New York,'' states a spokesperson for Sean Combs.\", \"My name is ``Diddy''\"], 'clean_sentence': '\" name change are totally false still Diddy currently \"Sean John\" mode upcoming Sean John fashion show scheduled February 8th New York\" states spokesperson Sean Combs', 'clean_compressed': 'My name \"Diddy\"'}\n",
      "{'set': ['With this win Bangladesh has clean swept West Indies by 3-0 in the ODI series.', 'Bangladesh clean sweeps West Indies in ODI series'], 'clean_sentence': 'this win Bangladesh clean swept West Indies 3 0 ODI series', 'clean_compressed': 'Bangladesh clean sweeps West Indies ODI series'}\n",
      "{'set': ['Danny Care has been fined an undisclosed amount by Harlequins following his arrest for being drunk and disorderly.', 'Danny Care fined by Harlequins after arrest'], 'clean_sentence': 'Danny Care been fined undisclosed amount Harlequins following arrest being drunk disorderly', 'clean_compressed': 'Danny Care fined Harlequins after arrest'}\n"
     ]
    }
   ],
   "source": [
    "for i in range(10):\n",
    "    print(split_ds['train'][i])"
   ]
  },
  {
   "cell_type": "markdown",
   "metadata": {
    "collapsed": false,
    "id": "7LI2KlfypSOJ",
    "pycharm": {
     "name": "#%% md\n"
    }
   },
   "source": [
    "<a name='e2'></a>\n",
    "### Exercise 2: Tokenize function\n",
    "\n",
    "(1p) As always, we will need to tokenize the dataset in order to create bat-of-words and TF-IDF representations in the next sections. We will use the [Natural Language Toolkit (NLTK) library]([https://www.nltk.org/]) (https://www.nltk.org/). Complete the following function to split the text into tokens using the `word_tokenize()` function. Check the [documentation](https://www.nltk.org/api/nltk.tokenize.word_tokenize.html?highlight=word_tokenize) first.\n",
    "Note that there are different tokenizers e.g. `RegexpTokenizer` where you can enter your own regexp, `WhitespaceTokenizer` (similar to Python's string.split()) and `BlanklineTokenizer`."
   ]
  },
  {
   "cell_type": "code",
   "execution_count": 52,
   "metadata": {
    "ExecuteTime": {
     "end_time": "2025-04-16T21:53:44.477668Z",
     "start_time": "2025-04-16T21:53:44.475204Z"
    },
    "id": "sb-M3V6ApSOK",
    "pycharm": {
     "name": "#%%\n"
    }
   },
   "outputs": [],
   "source": [
    "def tokenize(text):\n",
    "    \"\"\"\n",
    "    Tokenizes the `text` parameter using nltk library\n",
    "    Args:\n",
    "        text: a string representing a sentence to be tokenized\n",
    "\n",
    "    Returns: a list of tokens (strings)\n",
    "\n",
    "    \"\"\"\n",
    "\n",
    "    ### YOUR CODE HERE\n",
    "\n",
    "    tokens = nltk.tokenize.word_tokenize(text, language='english', preserve_line=False)\n",
    "\n",
    "    ### YOUR CODE ENDS HERE\n",
    "    return tokens"
   ]
  },
  {
   "cell_type": "markdown",
   "metadata": {
    "collapsed": false,
    "id": "gwsHqZc9pSOK",
    "pycharm": {
     "name": "#%% md\n"
    }
   },
   "source": [
    "Next, the function will be applied to the whole dataset (as we did with the pre-processing) and `sentence_tokens` field will be created to store the result."
   ]
  },
  {
   "cell_type": "code",
   "execution_count": 53,
   "metadata": {
    "ExecuteTime": {
     "end_time": "2025-04-16T21:53:44.487548Z",
     "start_time": "2025-04-16T21:53:44.485476Z"
    },
    "id": "6sTX-AcTpSOK",
    "pycharm": {
     "name": "#%%\n"
    }
   },
   "outputs": [],
   "source": [
    "def tokenize_dataset(example):\n",
    "    \"\"\"\n",
    "    Tokenizes 'clean_sentence' columns in the example from the Dataset\n",
    "    Args:\n",
    "        example: an example from the Dataset\n",
    "\n",
    "    Returns: updated example with 'sentence_tokens' columns\n",
    "\n",
    "    \"\"\"\n",
    "    example['sentence_tokens'] = tokenize(example['clean_sentence'])\n",
    "    example['compressed_tokens'] = tokenize(example['clean_compressed'])\n",
    "    return example"
   ]
  },
  {
   "cell_type": "code",
   "execution_count": 54,
   "metadata": {
    "ExecuteTime": {
     "end_time": "2025-04-16T21:54:01.365914Z",
     "start_time": "2025-04-16T21:53:44.500017Z"
    },
    "id": "jvwmXLj2pSOK",
    "pycharm": {
     "name": "#%%\n"
    }
   },
   "outputs": [
    {
     "name": "stderr",
     "output_type": "stream",
     "text": [
      "Map: 100%|██████████| 144000/144000 [00:13<00:00, 10313.92 examples/s]\n",
      "Map: 100%|██████████| 36000/36000 [00:03<00:00, 10158.96 examples/s]\n"
     ]
    }
   ],
   "source": [
    "split_ds = split_ds.map(tokenize_dataset)"
   ]
  },
  {
   "cell_type": "code",
   "execution_count": 55,
   "metadata": {
    "ExecuteTime": {
     "end_time": "2025-04-16T21:54:01.394439Z",
     "start_time": "2025-04-16T21:54:01.389396Z"
    },
    "id": "yXnje31SpSOK",
    "pycharm": {
     "name": "#%%\n"
    }
   },
   "outputs": [
    {
     "name": "stdout",
     "output_type": "stream",
     "text": [
      "{'set': [\"Brittany Murphy had a heart murmur and the actress' mother believes that's what may have killed her.\", 'Brittany Murphy had heart murmur'], 'clean_sentence': 'Brittany Murphy heart murmur actress\" mother believes may killed', 'clean_compressed': 'Brittany Murphy heart murmur', 'sentence_tokens': ['Brittany', 'Murphy', 'heart', 'murmur', 'actress', \"''\", 'mother', 'believes', 'may', 'killed'], 'compressed_tokens': ['Brittany', 'Murphy', 'heart', 'murmur']}\n",
      "{'set': [\"To help TV viewers understand how this momentous change will affect them, Broadcasting & Cable, the leading industry source for news and analysis on the business of television, with the help of how-to video site MonkeySee.com, has created 'DTV Transition 101,' an online video guide now viewable on www.Broadcastingcable.com/DTV101 and on www.MonkeySee.com.\", 'Broadcasting & Cable creates ``DTV transition 101:'], 'clean_sentence': 'help TV viewers understand how this momentous change affect them Broadcasting & Cable leading industry source news analysis business television help how video site MonkeySeecom created \"DTV Transition 101\" online video guide now viewable wwwBroadcastingcablecom/DTV101 wwwMonkeySeecom', 'clean_compressed': 'Broadcasting & Cable creates \"DTV transition 101:', 'sentence_tokens': ['help', 'TV', 'viewers', 'understand', 'how', 'this', 'momentous', 'change', 'affect', 'them', 'Broadcasting', '&', 'Cable', 'leading', 'industry', 'source', 'news', 'analysis', 'business', 'television', 'help', 'how', 'video', 'site', 'MonkeySeecom', 'created', '``', 'DTV', 'Transition', '101', \"''\", 'online', 'video', 'guide', 'now', 'viewable', 'wwwBroadcastingcablecom/DTV101', 'wwwMonkeySeecom'], 'compressed_tokens': ['Broadcasting', '&', 'Cable', 'creates', '``', 'DTV', 'transition', '101', ':']}\n",
      "{'set': [\"After reading here that there isn't yet a test for gluten sensitivity, several readers wrote to tell me there are in fact tests; they're just not well known and not offered by most physicians.\", 'Can you test for gluten sensitivity?'], 'clean_sentence': 'After reading here there isn\"t yet test gluten sensitivity several readers wrote tell me there are fact tests ; \"re just not well known not offered most physicians', 'clean_compressed': 'Can you test gluten sensitivity ?', 'sentence_tokens': ['After', 'reading', 'here', 'there', 'isn', \"''\", 't', 'yet', 'test', 'gluten', 'sensitivity', 'several', 'readers', 'wrote', 'tell', 'me', 'there', 'are', 'fact', 'tests', ';', '``', 're', 'just', 'not', 'well', 'known', 'not', 'offered', 'most', 'physicians'], 'compressed_tokens': ['Can', 'you', 'test', 'gluten', 'sensitivity', '?']}\n",
      "{'set': ['Delta is to buy a Pennsylvania oil refinery from ConocoPhillips for $180 million, which is the first ever purchase of a refinery by an airline, the company says.', 'Delta air lines buying oil refinery'], 'clean_sentence': 'Delta buy Pennsylvania oil refinery ConocoPhillips $180 million which first ever purchase refinery airline company says', 'clean_compressed': 'Delta air lines buying oil refinery', 'sentence_tokens': ['Delta', 'buy', 'Pennsylvania', 'oil', 'refinery', 'ConocoPhillips', '$', '180', 'million', 'which', 'first', 'ever', 'purchase', 'refinery', 'airline', 'company', 'says'], 'compressed_tokens': ['Delta', 'air', 'lines', 'buying', 'oil', 'refinery']}\n",
      "{'set': ['Cuba received from January to October a record number of 64,705 visitors from Argentina, in a year in which the island is expected to welcome around 2.7 million international tourists.', 'Cuba received record number of visitors from Argentina'], 'clean_sentence': 'Cuba received January October record number 64705 visitors Argentina year which island expected welcome around 2.7 million international tourists', 'clean_compressed': 'Cuba received record number visitors Argentina', 'sentence_tokens': ['Cuba', 'received', 'January', 'October', 'record', 'number', '64705', 'visitors', 'Argentina', 'year', 'which', 'island', 'expected', 'welcome', 'around', '2.7', 'million', 'international', 'tourists'], 'compressed_tokens': ['Cuba', 'received', 'record', 'number', 'visitors', 'Argentina']}\n",
      "{'set': [\"Here's how we test tablets -- from examining screens and build quality to battery life, performance and more.\", 'How we test tablets'], 'clean_sentence': 'Here how we test tablets examining screens build quality battery life performance more', 'clean_compressed': 'How we test tablets', 'sentence_tokens': ['Here', 'how', 'we', 'test', 'tablets', 'examining', 'screens', 'build', 'quality', 'battery', 'life', 'performance', 'more'], 'compressed_tokens': ['How', 'we', 'test', 'tablets']}\n",
      "{'set': ['Residents in the region are discussing snow removal, after a heavy weekend snowfall.', 'Residents discuss snow removal'], 'clean_sentence': 'Residents region are discussing snow removal after heavy weekend snowfall', 'clean_compressed': 'Residents discuss snow removal', 'sentence_tokens': ['Residents', 'region', 'are', 'discussing', 'snow', 'removal', 'after', 'heavy', 'weekend', 'snowfall'], 'compressed_tokens': ['Residents', 'discuss', 'snow', 'removal']}\n",
      "{'set': [\"``The name change are totally false, he is still Diddy. He is currently in ``Sean John'' mode as the upcoming Sean John fashion show is scheduled for February 8th in New York,'' states a spokesperson for Sean Combs.\", \"My name is ``Diddy''\"], 'clean_sentence': '\" name change are totally false still Diddy currently \"Sean John\" mode upcoming Sean John fashion show scheduled February 8th New York\" states spokesperson Sean Combs', 'clean_compressed': 'My name \"Diddy\"', 'sentence_tokens': ['``', 'name', 'change', 'are', 'totally', 'false', 'still', 'Diddy', 'currently', '``', 'Sean', 'John', \"''\", 'mode', 'upcoming', 'Sean', 'John', 'fashion', 'show', 'scheduled', 'February', '8th', 'New', 'York', \"''\", 'states', 'spokesperson', 'Sean', 'Combs'], 'compressed_tokens': ['My', 'name', '``', 'Diddy', \"''\"]}\n",
      "{'set': ['With this win Bangladesh has clean swept West Indies by 3-0 in the ODI series.', 'Bangladesh clean sweeps West Indies in ODI series'], 'clean_sentence': 'this win Bangladesh clean swept West Indies 3 0 ODI series', 'clean_compressed': 'Bangladesh clean sweeps West Indies ODI series', 'sentence_tokens': ['this', 'win', 'Bangladesh', 'clean', 'swept', 'West', 'Indies', '3', '0', 'ODI', 'series'], 'compressed_tokens': ['Bangladesh', 'clean', 'sweeps', 'West', 'Indies', 'ODI', 'series']}\n",
      "{'set': ['Danny Care has been fined an undisclosed amount by Harlequins following his arrest for being drunk and disorderly.', 'Danny Care fined by Harlequins after arrest'], 'clean_sentence': 'Danny Care been fined undisclosed amount Harlequins following arrest being drunk disorderly', 'clean_compressed': 'Danny Care fined Harlequins after arrest', 'sentence_tokens': ['Danny', 'Care', 'been', 'fined', 'undisclosed', 'amount', 'Harlequins', 'following', 'arrest', 'being', 'drunk', 'disorderly'], 'compressed_tokens': ['Danny', 'Care', 'fined', 'Harlequins', 'after', 'arrest']}\n",
      "{'set': ['AuthenTec, a leading provider of security and identity management solutions, today announced that it will report its third quarter 2011 financial results for the period ending September 30, 2011 on Thursday, November 3, 2011 after the market closes.', 'AuthenTec to announce third quarter 2011 financial results'], 'clean_sentence': 'AuthenTec leading provider security identity management solutions today announced report third quarter 2011 financial results period ending September 30 2011 Thursday November 3 2011 after market closes', 'clean_compressed': 'AuthenTec announce third quarter 2011 financial results', 'sentence_tokens': ['AuthenTec', 'leading', 'provider', 'security', 'identity', 'management', 'solutions', 'today', 'announced', 'report', 'third', 'quarter', '2011', 'financial', 'results', 'period', 'ending', 'September', '30', '2011', 'Thursday', 'November', '3', '2011', 'after', 'market', 'closes'], 'compressed_tokens': ['AuthenTec', 'announce', 'third', 'quarter', '2011', 'financial', 'results']}\n",
      "{'set': ['The United States is ready to discuss further arms reduction efforts with Russia, including tactical nuclear weapons, a high-ranking State Department official said.', 'US ready to discuss further arms reduction with Russia - official'], 'clean_sentence': 'United States ready discuss further arms reduction efforts Russia including tactical nuclear weapons high ranking State Department official', 'clean_compressed': 'US ready discuss further arms reduction Russia official', 'sentence_tokens': ['United', 'States', 'ready', 'discuss', 'further', 'arms', 'reduction', 'efforts', 'Russia', 'including', 'tactical', 'nuclear', 'weapons', 'high', 'ranking', 'State', 'Department', 'official'], 'compressed_tokens': ['US', 'ready', 'discuss', 'further', 'arms', 'reduction', 'Russia', 'official']}\n",
      "{'set': ['Vietnamese Ambassador to Russia and Turkmenistan Pham Xuan Son has presented his credentials to Chairwoman of the Turkmen Parliament Akja Nurberdyeva.', 'Vietnamese ambassador to Turkmenistan presents credentials'], 'clean_sentence': 'Vietnamese Ambassador Russia Turkmenistan Pham Xuan Son presented credentials Chairwoman Turkmen Parliament Akja Nurberdyeva', 'clean_compressed': 'Vietnamese ambassador Turkmenistan presents credentials', 'sentence_tokens': ['Vietnamese', 'Ambassador', 'Russia', 'Turkmenistan', 'Pham', 'Xuan', 'Son', 'presented', 'credentials', 'Chairwoman', 'Turkmen', 'Parliament', 'Akja', 'Nurberdyeva'], 'compressed_tokens': ['Vietnamese', 'ambassador', 'Turkmenistan', 'presents', 'credentials']}\n",
      "{'set': ['British rocker Pete Doherty has been charged with cocaine possession following an investigation into the death of filmmaker Robin Whitehead.', 'Pete Doherty charged with cocaine possession'], 'clean_sentence': 'British rocker Pete Doherty been charged cocaine possession following investigation into death filmmaker Robin Whitehead', 'clean_compressed': 'Pete Doherty charged cocaine possession', 'sentence_tokens': ['British', 'rocker', 'Pete', 'Doherty', 'been', 'charged', 'cocaine', 'possession', 'following', 'investigation', 'into', 'death', 'filmmaker', 'Robin', 'Whitehead'], 'compressed_tokens': ['Pete', 'Doherty', 'charged', 'cocaine', 'possession']}\n",
      "{'set': ['Pakistani protesters clashed with police on Sunday as former prime minister and opposition leader Nawaz Sharif said the government had turned the country into a police state.', 'Pakistani protesters clash with police'], 'clean_sentence': 'Pakistani protesters clashed police Sunday former prime minister opposition leader Nawaz Sharif government turned country into police state', 'clean_compressed': 'Pakistani protesters clash police', 'sentence_tokens': ['Pakistani', 'protesters', 'clashed', 'police', 'Sunday', 'former', 'prime', 'minister', 'opposition', 'leader', 'Nawaz', 'Sharif', 'government', 'turned', 'country', 'into', 'police', 'state'], 'compressed_tokens': ['Pakistani', 'protesters', 'clash', 'police']}\n",
      "{'set': ['Three Morehouse College athletes have been accused of rape and other charges from an alleged assault in March.', 'Three Morehouse College athletes accused of rape'], 'clean_sentence': 'Three Morehouse College athletes been accused rape other charges alleged assault March', 'clean_compressed': 'Three Morehouse College athletes accused rape', 'sentence_tokens': ['Three', 'Morehouse', 'College', 'athletes', 'been', 'accused', 'rape', 'other', 'charges', 'alleged', 'assault', 'March'], 'compressed_tokens': ['Three', 'Morehouse', 'College', 'athletes', 'accused', 'rape']}\n",
      "{'set': ['His son, Tyrone, says Kaiser died Monday following a fall at his home in Southfield, Mich.', 'Former Negro leagues pitcher Cecil Kaiser dies'], 'clean_sentence': 'son Tyrone says Kaiser died Monday following fall home Southfield Mich', 'clean_compressed': 'Former Negro leagues pitcher Cecil Kaiser dies', 'sentence_tokens': ['son', 'Tyrone', 'says', 'Kaiser', 'died', 'Monday', 'following', 'fall', 'home', 'Southfield', 'Mich'], 'compressed_tokens': ['Former', 'Negro', 'leagues', 'pitcher', 'Cecil', 'Kaiser', 'dies']}\n",
      "{'set': ['NORTH Dorset MP Bob Walter visited an award winning care home to congratulate staff and meet residents.', 'MP visits award-winning care home'], 'clean_sentence': 'NORTH Dorset MP Bob Walter visited award winning care home congratulate staff meet residents', 'clean_compressed': 'MP visits award winning care home', 'sentence_tokens': ['NORTH', 'Dorset', 'MP', 'Bob', 'Walter', 'visited', 'award', 'winning', 'care', 'home', 'congratulate', 'staff', 'meet', 'residents'], 'compressed_tokens': ['MP', 'visits', 'award', 'winning', 'care', 'home']}\n",
      "{'set': [\"A Broward Sheriff's Office deputy was injured in a car crash early Thursday after he stopped to help another driver.\", \"Broward Sheriff's Office deputy injured in crash\"], 'clean_sentence': 'Broward Sheriff Office deputy injured car crash early Thursday after stopped help another driver', 'clean_compressed': 'Broward Sheriff Office deputy injured crash', 'sentence_tokens': ['Broward', 'Sheriff', 'Office', 'deputy', 'injured', 'car', 'crash', 'early', 'Thursday', 'after', 'stopped', 'help', 'another', 'driver'], 'compressed_tokens': ['Broward', 'Sheriff', 'Office', 'deputy', 'injured', 'crash']}\n",
      "{'set': [\"Britain's Princess Diana and her lover Dodi Fayed were unlawfully killed due to the ``gross negligence'' of driver Henri Paul and the pursuing paparazzi, their inquest has ruled.\", \"Diana and lover Dodi Fayed were unlawfully killed due to the ``gross negligence''\"], 'clean_sentence': 'Britain Princess Diana lover Dodi Fayed were unlawfully killed due \"gross negligence\" driver Henri Paul pursuing paparazzi their inquest ruled', 'clean_compressed': 'Diana lover Dodi Fayed were unlawfully killed due \"gross negligence\"', 'sentence_tokens': ['Britain', 'Princess', 'Diana', 'lover', 'Dodi', 'Fayed', 'were', 'unlawfully', 'killed', 'due', '``', 'gross', 'negligence', \"''\", 'driver', 'Henri', 'Paul', 'pursuing', 'paparazzi', 'their', 'inquest', 'ruled'], 'compressed_tokens': ['Diana', 'lover', 'Dodi', 'Fayed', 'were', 'unlawfully', 'killed', 'due', '``', 'gross', 'negligence', \"''\"]}\n",
      "{'set': ['Qantas is cancelling its order for 35 B787-9 Dreamliner aircraft from Boeing in order to reduce its spending.', 'Qantas cancels order for 35 dreamliners'], 'clean_sentence': 'Qantas cancelling order 35 B787 9 Dreamliner aircraft Boeing order reduce spending', 'clean_compressed': 'Qantas cancels order 35 dreamliners', 'sentence_tokens': ['Qantas', 'cancelling', 'order', '35', 'B787', '9', 'Dreamliner', 'aircraft', 'Boeing', 'order', 'reduce', 'spending'], 'compressed_tokens': ['Qantas', 'cancels', 'order', '35', 'dreamliners']}\n",
      "{'set': ['Hundreds of Trenton residents had their bank accounts drained after their debit cards had been illegally copied in what appears to be the work of a major fraud ring.', 'Bank accounts drained'], 'clean_sentence': 'Hundreds Trenton residents their bank accounts drained after their debit cards been illegally copied appears work major fraud ring', 'clean_compressed': 'Bank accounts drained', 'sentence_tokens': ['Hundreds', 'Trenton', 'residents', 'their', 'bank', 'accounts', 'drained', 'after', 'their', 'debit', 'cards', 'been', 'illegally', 'copied', 'appears', 'work', 'major', 'fraud', 'ring'], 'compressed_tokens': ['Bank', 'accounts', 'drained']}\n",
      "{'set': ['Minneapolis musician, singer and songwriter, Tim Mahoney, will perform the National Anthem at the Life Time Fitness Triathlon on Saturday, July 12.', 'Tim Mahoney to perform National Anthem at Life Time Fitness Triathlon on July 12'], 'clean_sentence': 'Minneapolis musician singer songwriter Tim Mahoney perform National Anthem Life Time Fitness Triathlon Saturday July 12.', 'clean_compressed': 'Tim Mahoney perform National Anthem Life Time Fitness Triathlon July 12', 'sentence_tokens': ['Minneapolis', 'musician', 'singer', 'songwriter', 'Tim', 'Mahoney', 'perform', 'National', 'Anthem', 'Life', 'Time', 'Fitness', 'Triathlon', 'Saturday', 'July', '12', '.'], 'compressed_tokens': ['Tim', 'Mahoney', 'perform', 'National', 'Anthem', 'Life', 'Time', 'Fitness', 'Triathlon', 'July', '12']}\n",
      "{'set': ['Matthew Zions of Australia shot a 2-under 69 to win his first European Tour title Sunday at the Saint-Omer Open.', 'Matthew Zions of Australia wins Saint-Omer Open'], 'clean_sentence': 'Matthew Zions Australia shot 2 under 69 win first European Tour title Sunday Saint Omer Open', 'clean_compressed': 'Matthew Zions Australia wins Saint Omer Open', 'sentence_tokens': ['Matthew', 'Zions', 'Australia', 'shot', '2', 'under', '69', 'win', 'first', 'European', 'Tour', 'title', 'Sunday', 'Saint', 'Omer', 'Open'], 'compressed_tokens': ['Matthew', 'Zions', 'Australia', 'wins', 'Saint', 'Omer', 'Open']}\n",
      "{'set': [\"Debt-laden and recession-hit Greece must accelerate structural reforms and slow down on deficit reduction, the head of the IMF's inspection team for Greece was quoted as saying today.\", \"Greece 'must accelerate reforms'\"], 'clean_sentence': 'Debt laden recession hit Greece must accelerate structural reforms slow down deficit reduction head IMF inspection team Greece quoted saying today', 'clean_compressed': 'Greece \"must accelerate reforms\"', 'sentence_tokens': ['Debt', 'laden', 'recession', 'hit', 'Greece', 'must', 'accelerate', 'structural', 'reforms', 'slow', 'down', 'deficit', 'reduction', 'head', 'IMF', 'inspection', 'team', 'Greece', 'quoted', 'saying', 'today'], 'compressed_tokens': ['Greece', '``', 'must', 'accelerate', 'reforms', \"''\"]}\n",
      "{'set': ['More than 100 Australian organisations are expected to visit India in March this year to further enhance and develop business links with India.', '100 Australian organisations expected to visit India in March'], 'clean_sentence': 'More than 100 Australian organisations are expected visit India March this year further enhance develop business links India', 'clean_compressed': '100 Australian organisations expected visit India March', 'sentence_tokens': ['More', 'than', '100', 'Australian', 'organisations', 'are', 'expected', 'visit', 'India', 'March', 'this', 'year', 'further', 'enhance', 'develop', 'business', 'links', 'India'], 'compressed_tokens': ['100', 'Australian', 'organisations', 'expected', 'visit', 'India', 'March']}\n",
      "{'set': ['Denise Richards has designed shoes for ShoeDazzle and has unveiled a pink stiletto named the Eloise.', 'Denise Richards designs for ShoeDazzle'], 'clean_sentence': 'Denise Richards designed shoes ShoeDazzle unveiled pink stiletto named Eloise', 'clean_compressed': 'Denise Richards designs ShoeDazzle', 'sentence_tokens': ['Denise', 'Richards', 'designed', 'shoes', 'ShoeDazzle', 'unveiled', 'pink', 'stiletto', 'named', 'Eloise'], 'compressed_tokens': ['Denise', 'Richards', 'designs', 'ShoeDazzle']}\n",
      "{'set': ['Howard Mudd has told the team that he will return to coach the offensive line in 2012.', 'Mudd returning in 2012'], 'clean_sentence': 'Howard Mudd told team return coach offensive line 2012.', 'clean_compressed': 'Mudd returning 2012', 'sentence_tokens': ['Howard', 'Mudd', 'told', 'team', 'return', 'coach', 'offensive', 'line', '2012', '.'], 'compressed_tokens': ['Mudd', 'returning', '2012']}\n",
      "{'set': ['Zimbabwe would be shut down if it were a private company, the finance minister has declared, days after joking that it only had $217 in the bank account.', \"Zimbabwe 'would be shut down if it was a company'\"], 'clean_sentence': 'Zimbabwe would shut down if were private company finance minister declared days after joking only $217 bank account', 'clean_compressed': 'Zimbabwe \"would shut down if company\"', 'sentence_tokens': ['Zimbabwe', 'would', 'shut', 'down', 'if', 'were', 'private', 'company', 'finance', 'minister', 'declared', 'days', 'after', 'joking', 'only', '$', '217', 'bank', 'account'], 'compressed_tokens': ['Zimbabwe', '``', 'would', 'shut', 'down', 'if', 'company', \"''\"]}\n",
      "{'set': [\"I've never had that said to me before on the air - ``Andy, you will get death threats''.\", \"``Andy - you will get death threats''\"], 'clean_sentence': '\"ve never me before air \"Andy you get death threats\"', 'clean_compressed': '\"Andy you get death threats\"', 'sentence_tokens': ['``', 've', 'never', 'me', 'before', 'air', '``', 'Andy', 'you', 'get', 'death', 'threats', \"''\"], 'compressed_tokens': ['``', 'Andy', 'you', 'get', 'death', 'threats', \"''\"]}\n"
     ]
    }
   ],
   "source": [
    "for i in range(30):\n",
    "    print(split_ds['train'][i])\n"
   ]
  },
  {
   "cell_type": "markdown",
   "metadata": {
    "collapsed": false,
    "id": "FeF0wFd0pSOL",
    "pycharm": {
     "name": "#%% md\n"
    }
   },
   "source": [
    "Since we will need the tokenized sentences, we can use the following statement to extract them from the `train` split of our dataset."
   ]
  },
  {
   "cell_type": "code",
   "execution_count": 56,
   "metadata": {
    "ExecuteTime": {
     "end_time": "2025-04-16T21:54:02.796997Z",
     "start_time": "2025-04-16T21:54:01.424745Z"
    },
    "id": "qYKfXFxQpSOL",
    "pycharm": {
     "name": "#%%\n"
    }
   },
   "outputs": [
    {
     "name": "stdout",
     "output_type": "stream",
     "text": [
      "144000\n",
      "[['Brittany', 'Murphy', 'heart', 'murmur', 'actress', \"''\", 'mother', 'believes', 'may', 'killed'], ['help', 'TV', 'viewers', 'understand', 'how', 'this', 'momentous', 'change', 'affect', 'them', 'Broadcasting', '&', 'Cable', 'leading', 'industry', 'source', 'news', 'analysis', 'business', 'television', 'help', 'how', 'video', 'site', 'MonkeySeecom', 'created', '``', 'DTV', 'Transition', '101', \"''\", 'online', 'video', 'guide', 'now', 'viewable', 'wwwBroadcastingcablecom/DTV101', 'wwwMonkeySeecom'], ['After', 'reading', 'here', 'there', 'isn', \"''\", 't', 'yet', 'test', 'gluten', 'sensitivity', 'several', 'readers', 'wrote', 'tell', 'me', 'there', 'are', 'fact', 'tests', ';', '``', 're', 'just', 'not', 'well', 'known', 'not', 'offered', 'most', 'physicians'], ['Delta', 'buy', 'Pennsylvania', 'oil', 'refinery', 'ConocoPhillips', '$', '180', 'million', 'which', 'first', 'ever', 'purchase', 'refinery', 'airline', 'company', 'says'], ['Cuba', 'received', 'January', 'October', 'record', 'number', '64705', 'visitors', 'Argentina', 'year', 'which', 'island', 'expected', 'welcome', 'around', '2.7', 'million', 'international', 'tourists'], ['Here', 'how', 'we', 'test', 'tablets', 'examining', 'screens', 'build', 'quality', 'battery', 'life', 'performance', 'more'], ['Residents', 'region', 'are', 'discussing', 'snow', 'removal', 'after', 'heavy', 'weekend', 'snowfall'], ['``', 'name', 'change', 'are', 'totally', 'false', 'still', 'Diddy', 'currently', '``', 'Sean', 'John', \"''\", 'mode', 'upcoming', 'Sean', 'John', 'fashion', 'show', 'scheduled', 'February', '8th', 'New', 'York', \"''\", 'states', 'spokesperson', 'Sean', 'Combs'], ['this', 'win', 'Bangladesh', 'clean', 'swept', 'West', 'Indies', '3', '0', 'ODI', 'series'], ['Danny', 'Care', 'been', 'fined', 'undisclosed', 'amount', 'Harlequins', 'following', 'arrest', 'being', 'drunk', 'disorderly']]\n"
     ]
    }
   ],
   "source": [
    "tokenized_sentences = split_ds['train']['sentence_tokens']\n",
    "print(len(tokenized_sentences))\n",
    "print(tokenized_sentences[:10])"
   ]
  },
  {
   "cell_type": "code",
   "execution_count": 57,
   "metadata": {
    "ExecuteTime": {
     "end_time": "2025-04-16T21:54:03.441127Z",
     "start_time": "2025-04-16T21:54:02.815559Z"
    },
    "collapsed": false,
    "pycharm": {
     "name": "#%%\n"
    }
   },
   "outputs": [
    {
     "name": "stdout",
     "output_type": "stream",
     "text": [
      "144000\n",
      "[['Brittany', 'Murphy', 'heart', 'murmur'], ['Broadcasting', '&', 'Cable', 'creates', '``', 'DTV', 'transition', '101', ':'], ['Can', 'you', 'test', 'gluten', 'sensitivity', '?'], ['Delta', 'air', 'lines', 'buying', 'oil', 'refinery'], ['Cuba', 'received', 'record', 'number', 'visitors', 'Argentina'], ['How', 'we', 'test', 'tablets'], ['Residents', 'discuss', 'snow', 'removal'], ['My', 'name', '``', 'Diddy', \"''\"], ['Bangladesh', 'clean', 'sweeps', 'West', 'Indies', 'ODI', 'series'], ['Danny', 'Care', 'fined', 'Harlequins', 'after', 'arrest']]\n"
     ]
    }
   ],
   "source": [
    "tokenized_compressed = split_ds['train']['compressed_tokens']\n",
    "print(len(tokenized_compressed))\n",
    "print(tokenized_compressed[:10])"
   ]
  },
  {
   "cell_type": "markdown",
   "metadata": {
    "id": "ZDGwEiZeCA5U",
    "pycharm": {
     "name": "#%% md\n"
    }
   },
   "source": [
    "Notice the difference in the types of the different structures we use. Run the following cell to check the types. Do they make sense to you?"
   ]
  },
  {
   "cell_type": "code",
   "execution_count": 58,
   "metadata": {
    "ExecuteTime": {
     "end_time": "2025-04-16T21:54:06.222460Z",
     "start_time": "2025-04-16T21:54:03.447984Z"
    },
    "id": "wKrkFmcZCtOd",
    "pycharm": {
     "name": "#%%\n"
    }
   },
   "outputs": [
    {
     "name": "stdout",
     "output_type": "stream",
     "text": [
      "<class 'datasets.dataset_dict.DatasetDict'>\n",
      "--\n",
      "{'set': [\"To help TV viewers understand how this momentous change will affect them, Broadcasting & Cable, the leading industry source for news and analysis on the business of television, with the help of how-to video site MonkeySee.com, has created 'DTV Transition 101,' an online video guide now viewable on www.Broadcastingcable.com/DTV101 and on www.MonkeySee.com.\", 'Broadcasting & Cable creates ``DTV transition 101:'], 'clean_sentence': 'help TV viewers understand how this momentous change affect them Broadcasting & Cable leading industry source news analysis business television help how video site MonkeySeecom created \"DTV Transition 101\" online video guide now viewable wwwBroadcastingcablecom/DTV101 wwwMonkeySeecom', 'clean_compressed': 'Broadcasting & Cable creates \"DTV transition 101:', 'sentence_tokens': ['help', 'TV', 'viewers', 'understand', 'how', 'this', 'momentous', 'change', 'affect', 'them', 'Broadcasting', '&', 'Cable', 'leading', 'industry', 'source', 'news', 'analysis', 'business', 'television', 'help', 'how', 'video', 'site', 'MonkeySeecom', 'created', '``', 'DTV', 'Transition', '101', \"''\", 'online', 'video', 'guide', 'now', 'viewable', 'wwwBroadcastingcablecom/DTV101', 'wwwMonkeySeecom'], 'compressed_tokens': ['Broadcasting', '&', 'Cable', 'creates', '``', 'DTV', 'transition', '101', ':']}\n",
      "<class 'dict'>\n",
      "--\n",
      "help TV viewers understand how this momentous change affect them Broadcasting & Cable leading industry source news analysis business television help how video site MonkeySeecom created \"DTV Transition 101\" online video guide now viewable wwwBroadcastingcablecom/DTV101 wwwMonkeySeecom\n",
      "<class 'str'>\n",
      "--\n",
      "['help', 'TV', 'viewers', 'understand', 'how', 'this', 'momentous', 'change', 'affect', 'them', 'Broadcasting', '&', 'Cable', 'leading', 'industry', 'source', 'news', 'analysis', 'business', 'television', 'help', 'how', 'video', 'site', 'MonkeySeecom', 'created', '``', 'DTV', 'Transition', '101', \"''\", 'online', 'video', 'guide', 'now', 'viewable', 'wwwBroadcastingcablecom/DTV101', 'wwwMonkeySeecom']\n",
      "<class 'list'>\n",
      "--\n"
     ]
    }
   ],
   "source": [
    "#type of original dataset\n",
    "print(type(split_ds))\n",
    "print(\"--\")\n",
    "#type of original sentence\n",
    "print(split_ds['train'][1])\n",
    "print(type(split_ds['train'][1]))\n",
    "print(\"--\")\n",
    "#type of pre-proceesed sentence\n",
    "print(split_ds['train']['clean_sentence'][1])\n",
    "print(type(split_ds['train']['clean_sentence'][1]))\n",
    "print(\"--\")\n",
    "#type of tokenized sentence\n",
    "print(split_ds['train']['sentence_tokens'][1])\n",
    "print(type(split_ds['train']['sentence_tokens'][1]))\n",
    "print(\"--\")"
   ]
  },
  {
   "cell_type": "markdown",
   "metadata": {
    "collapsed": false,
    "pycharm": {
     "name": "#%% md\n"
    }
   },
   "source": [
    "## 2. Bag of Words\n",
    "In this section you will built a bag-of-words representation of the dataset. We will use numpy arrays to store the results. The bag-of-words representation is a simple and effective way to represent text data. It involves creating a vocabulary of unique words from the dataset and representing each sentence as a vector of word counts. We first need the vocabulary, which we will build from both the full sentences and the compressed sentences. Similar to the first lab, the vocabulary will be a list of unique words from the dataset."
   ]
  },
  {
   "cell_type": "markdown",
   "metadata": {
    "collapsed": false,
    "pycharm": {
     "name": "#%% md\n"
    }
   },
   "source": [
    "<a name='e3'></a>\n",
    "### Exercise 3: Extracting vocabulary counts\n",
    "\n",
    "(1p) In the following cell, you will implement a function that takes a list of tokenized sentences and returns a dictionary with the counts of each word in the vocabulary. The dictionary should be of the form {word: count}. As in previous lab, you will use the `Counter` class from the `collections` module to do this."
   ]
  },
  {
   "cell_type": "code",
   "execution_count": 59,
   "metadata": {
    "ExecuteTime": {
     "end_time": "2025-04-16T21:54:06.230916Z",
     "start_time": "2025-04-16T21:54:06.228844Z"
    },
    "collapsed": false,
    "pycharm": {
     "name": "#%%\n"
    }
   },
   "outputs": [],
   "source": [
    "from collections import Counter\n",
    "\n",
    "\n",
    "def extract_vocabulary_counts(tokenized_sentences):\n",
    "    \"\"\"\n",
    "    Extracts the vocabulary from the tokenized sentences\n",
    "    Args:\n",
    "        tokenized_sentences: a list of lists of tokens\n",
    "\n",
    "    Returns: a Counter object with the counts of each word in the vocabulary\n",
    "    \"\"\"\n",
    "\n",
    "    ### YOUR CODE HERE\n",
    "\n",
    "    vocab = Counter()\n",
    "    for sentence in tokenized_sentences:\n",
    "        vocab.update(sentence)\n",
    "    return vocab\n",
    "\n",
    "\n",
    "    ### YOUR CODE ENDS HERE"
   ]
  },
  {
   "cell_type": "code",
   "execution_count": 60,
   "metadata": {
    "ExecuteTime": {
     "end_time": "2025-04-16T21:54:06.541042Z",
     "start_time": "2025-04-16T21:54:06.242369Z"
    },
    "collapsed": false,
    "pycharm": {
     "name": "#%%\n"
    }
   },
   "outputs": [
    {
     "name": "stdout",
     "output_type": "stream",
     "text": [
      "126400\n",
      "[(\"''\", 34875), ('``', 30184), ('after', 18460), ('new', 13719), ('year', 11830), (':', 11573), ('US', 11225), ('been', 10693), ('are', 10685), ('$', 9922), ('today', 9589), ('man', 9574), ('this', 8984), ('their', 8843), ('over', 8033), ('who', 7929), ('first', 7780), ('up', 7757), ('announced', 7652), ('two', 7600)]\n"
     ]
    }
   ],
   "source": [
    "vocab_counter = extract_vocabulary_counts(tokenized_sentences + tokenized_compressed)\n",
    "print(len(vocab_counter))\n",
    "print(vocab_counter.most_common(20))"
   ]
  },
  {
   "cell_type": "markdown",
   "metadata": {
    "collapsed": false,
    "pycharm": {
     "name": "#%% md\n"
    }
   },
   "source": [
    "As you can see the size of the vocabulary is quite large. Like the last time, we will limit the vocabulary to the most frequent words. The next cell will create a dictionary that maps each word to an index in the vocabulary. This will be used to create the bag-of-words representation of the sentences."
   ]
  },
  {
   "cell_type": "code",
   "execution_count": 61,
   "metadata": {
    "ExecuteTime": {
     "end_time": "2025-04-16T21:54:06.644763Z",
     "start_time": "2025-04-16T21:54:06.600682Z"
    },
    "collapsed": false,
    "pycharm": {
     "name": "#%%\n"
    }
   },
   "outputs": [
    {
     "name": "stdout",
     "output_type": "stream",
     "text": [
      "{\"''\": 0, '``': 1, 'after': 2, 'new': 3, 'year': 4, ':': 5, 'US': 6, 'been': 7, 'are': 8, '$': 9, 'today': 10, 'man': 11, 'this': 12, 'their': 13, 'over': 14, 'who': 15, 'first': 16, 'up': 17, 'announced': 18, 'two': 19, 'Tuesday': 20, 'not': 21, 'Wednesday': 22, 'Thursday': 23, 'Monday': 24, 'against': 25, 'police': 26, 'Friday': 27, 'out': 28, 'more': 29, 'says': 30, 'New': 31, 'into': 32, 'million': 33, '.': 34, 'which': 35, 'according': 36, 'last': 37, 'were': 38, 'one': 39, 'Saturday': 40, 'County': 41, 'week': 42, 'than': 43, 'about': 44, 'President': 45, 'Sunday': 46, 'years': 47, 'time': 48, 'India': 49, 'three': 50, 'off': 51, 'old': 52, 'during': 53, 'home': 54, 'state': 55, 'but': 56, 'people': 57, 'night': 58, 'company': 59, 'government': 60, 'killed': 61, 'when': 62, 'being': 63, 'woman': 64, 'arrested': 65, 'next': 66, 'found': 67, 'second': 68, 'all': 69, 'Minister': 70, 'died': 71, 'morning': 72, 'set': 73, 'charged': 74, 'Obama': 75, 'day': 76, 'would': 77, 'back': 78, 'may': 79, 'country': 80, 'reported': 81, 'world': 82, 'can': 83, 'could': 84, 'South': 85, 'China': 86, 'down': 87, 'season': 88, 'former': 89, 'State': 90, 'month': 91, 'market': 92, 'Former': 93, '1': 94, 'City': 95, 't': 96, 'team': 97, 'Police': 98, '&': 99, 'Inc': 100, 'charges': 101, 'or': 102, 'United': 103, 'prices': 104, 'early': 105, 'while': 106, 'fire': 107, '?': 108, 'reports': 109, 'dies': 110, 'billion': 111, 'guilty': 112, 'plans': 113, 'car': 114, 'following': 115, 'star': 116, '2': 117, 'American': 118, 'him': 119, 'Man': 120, 'business': 121, 'officials': 122, 'death': 123, 'now': 124, '%': 125, 'released': 126, 'report': 127, 'yesterday': 128, 'World': 129, 'near': 130, 'four': 131, 'Bank': 132, 'end': 133, 'school': 134, 'city': 135, 'hit': 136, 'under': 137, '2012': 138, 'Two': 139, 'North': 140, 'Pakistan': 141, 'some': 142, 'York': 143, '10': 144, 'say': 145, 'National': 146, 'help': 147, 'no': 148, 'court': 149, 'made': 150, 'open': 151, 'through': 152, 'service': 153, 'high': 154, 'Indian': 155, 'based': 156, 'other': 157, 'make': 158, 'months': 159, 'won': 160, 'accused': 161, 'take': 162, 'game': 163, ';': 164, '3': 165, 'global': 166, 'before': 167, 'percent': 168, 'public': 169, 'expected': 170, 'per': 171, 'third': 172, 'just': 173, 'hospital': 174, 'five': 175, 'oil': 176, 'John': 177, 'launched': 178, 'most': 179, 'services': 180, 'play': 181, 'British': 182, 'show': 183, 'official': 184, 'coach': 185, 'West': 186, 'part': 187, 'European': 188, 'announces': 189, 'between': 190, 'top': 191, 'launches': 192, 'work': 193, 'League': 194, 'held': 195, 'record': 196, 'economic': 197, 'UK': 198, 'cut': 199, 'here': 200, 'deal': 201, 'left': 202, 'told': 203, 'quarter': 204, 'should': 205, 'shot': 206, 'Cup': 207, 'jobs': 208, 'dead': 209, 'win': 210, 'group': 211, 'another': 212, 'get': 213, '2010': 214, 'return': 215, 'financial': 216, 'crash': 217, 'president': 218, 'life': 219, 'close': 220, '!': 221, '2011': 222, 'due': 223, 'you': 224, 'local': 225, 'support': 226, 'security': 227, 'if': 228, 'days': 229, 'May': 230, 'University': 231, 'free': 232, 'health': 233, 'March': 234, 'trade': 235, 'office': 236, 'injured': 237, 'called': 238, 'leader': 239, 'including': 240, 'major': 241, 'head': 242, 'launch': 243, 'London': 244, 'international': 245, 'power': 246, 'weekend': 247, 'area': 248, 'visit': 249, 'release': 250, 'still': 251, 'afternoon': 252, 'start': 253, 'six': 254, 'face': 255, 'House': 256, '20': 257, 'officer': 258, 'signed': 259, 'sales': 260, 'federal': 261, 'International': 262, 'child': 263, 'St': 264, 'men': 265, 'women': 266, 'Iran': 267, 'economy': 268, 'gas': 269, 'run': 270, 'news': 271, 'Australia': 272, '5': 273, 'stocks': 274, 'national': 275, 'June': 276, 'final': 277, '4': 278, 'attack': 279, 'April': 280, 'David': 281, 'bank': 282, 'drug': 283, 'online': 284, '2013': 285, 'sentenced': 286, 'tax': 287, 'fall': 288, '2009': 289, 'Court': 290, 'children': 291, 'media': 292, '6': 293, 'campaign': 294, 'like': 295, 'largest': 296, 'them': 297, 'shares': 298, 'military': 299, 'Australian': 300, 'dollar': 301, 'Group': 302, 'wins': 303, 'long': 304, 'fell': 305, 'Corp': 306, 'go': 307, 'across': 308, 'Barack': 309, 'chief': 310, '11': 311, 'pay': 312, 'where': 313, 're': 314, '15': 315, 'system': 316, 'around': 317, 'leading': 318, '12': 319, 'Afghanistan': 320, 'election': 321, 'talks': 322, 'host': 323, 'revealed': 324, 'data': 325, 'meeting': 326, 'Washington': 327, 'house': 328, 'England': 329, 'industry': 330, 'contract': 331, 'series': 332, '30': 333, 'Street': 334, 'markets': 335, 'allegedly': 336, 'Chinese': 337, 'case': 338, 'family': 339, 'confirmed': 340, 'Department': 341, 'Prime': 342, 'again': 343, 'growth': 344, 'plan': 345, 'cancer': 346, 'wants': 347, 'late': 348, 'murder': 349, 'way': 350, 'San': 351, 'mobile': 352, 'move': 353, 'States': 354, 'News': 355, 'prison': 356, 'closed': 357, 'rate': 358, 'America': 359, 'right': 360, 'despite': 361, 'so': 362, 'TV': 363, 'party': 364, 'increase': 365, 'there': 366, 'Russia': 367, 'students': 368, 'crisis': 369, 'July': 370, 'firm': 371, 'money': 372, 'best': 373, 'saying': 374, 'manager': 375, 'Japan': 376, 'higher': 377, 'Michael': 378, 'club': 379, 'film': 380, 'water': 381, 'wife': 382, 'well': 383, 'program': 384, 'any': 385, 'continue': 386, 'agreement': 387, 'Canada': 388, 'we': 389, 'taking': 390, 'do': 391, 'political': 392, 'only': 393, 'stock': 394, 'recently': 395, 'number': 396, 'surgery': 397, 'General': 398, 'opened': 399, 'recent': 400, 'offer': 401, 'making': 402, 'sign': 403, 'buy': 404, 'hold': 405, 'shooting': 406, 'School': 407, 'become': 408, 'latest': 409, 'Texas': 410, 'use': 411, 'Park': 412, 'East': 413, 'French': 414, 'law': 415, 'companies': 416, 'price': 417, 'Korea': 418, 'lead': 419, 'demand': 420, 'trial': 421, 'rise': 422, 'football': 423, 'minister': 424, 'annual': 425, 'provider': 426, 'Day': 427, 'several': 428, 'workers': 429, 'capital': 430, 'named': 431, 'signs': 432, 'No': 433, 'Israel': 434, 'away': 435, '2008': 436, 'energy': 437, 'cent': 438, 'own': 439, 'opens': 440, 'share': 441, 'January': 442, 'likely': 443, 'development': 444, 'study': 445, 'age': 446, 'going': 447, 'accident': 448, '7': 449, 'how': 450, 'Woman': 451, 'weeks': 452, 'ahead': 453, '25': 454, 'nearly': 455, '100': 456, 'budget': 457, 'Russian': 458, 'rates': 459, 'Europe': 460, 'fight': 461, 'facing': 462, 'production': 463, 'place': 464, 'private': 465, 'debt': 466, 'Los': 467, 'faces': 468, 'Paul': 469, 'meet': 470, 'management': 471, 'California': 472, 'Congress': 473, 'also': 474, 'Africa': 475, 'loss': 476, 'profit': 477, 'many': 478, 'action': 479, 'investment': 480, 'assault': 481, 'High': 482, 'points': 483, 'Senate': 484, '14': 485, 'fourth': 486, 'line': 487, 'Center': 488, 'Angeles': 489, 'tour': 490, 'round': 491, 'half': 492, 'charge': 493, 'White': 494, 'ago': 495, 'good': 496, 'Rs': 497, 'care': 498, 'Google': 499, 'filed': 500, 'sex': 501, 'food': 502, 'hours': 503, 'trading': 504, 'February': 505, 'nuclear': 506, 'title': 507, 'past': 508, 'director': 509, 'girl': 510, 'lower': 511, 'Three': 512, 'forces': 513, 'Apple': 514, 'authorities': 515, 'pleaded': 516, 'working': 517, '13': 518, 'issued': 519, 'September': 520, 'research': 521, 'Delhi': 522, 'actor': 523, 'store': 524, 'members': 525, 'pleads': 526, 'rose': 527, 'France': 528, '18': 529, 'One': 530, 'coming': 531, 'least': 532, 'products': 533, '8': 534, 'Updated': 535, 'body': 536, 'investors': 537, 'bill': 538, 'baby': 539, 'results': 540, 'agreed': 541, 'injury': 542, 'Oil': 543, 'beat': 544, 'Council': 545, 'sell': 546, 'took': 547, 'rights': 548, 'German': 549, 'Asian': 550, 'interest': 551, 'leaders': 552, 'foreign': 553, 'pm': 554, 'board': 555, 'Florida': 556, 'Chief': 557, 'reportedly': 558, 'both': 559, 'presidential': 560, 'Co': 561, 'Air': 562, 'site': 563, '50': 564, 'am': 565, 'nation': 566, 'call': 567, 'plant': 568, 'district': 569, '16': 570, 'network': 571, 'without': 572, 'technology': 573, 'region': 574, 'much': 575, 'player': 576, 'full': 577, 'players': 578, 'calls': 579, 'taken': 580, 'leave': 581, 'role': 582, 'makes': 583, 'cash': 584, 'order': 585, 'match': 586, 'looking': 587, 'amid': 588, 'conference': 589, 'opening': 590, 'strong': 591, 'Government': 592, 'road': 593, 'building': 594, 'claims': 595, 'emergency': 596, 'stop': 597, 'Canadian': 598, 'even': 599, 'James': 600, 'further': 601, 'music': 602, 'side': 603, 'singer': 604, 'Republican': 605, 'Union': 606, 'live': 607, 'video': 608, 'credit': 609, 'Gov': 610, 'future': 611, 'vehicle': 612, 'October': 613, 'special': 614, 'center': 615, 'November': 616, 'led': 617, 'After': 618, 'bid': 619, '24': 620, 'lost': 621, 'community': 622, 'earlier': 623, 'race': 624, 'returns': 625, 'senior': 626, 'running': 627, 'cuts': 628, 'come': 629, 'town': 630, 'war': 631, 'Israeli': 632, 'driver': 633, 'seven': 634, ')': 635, 'student': 636, 'August': 637, 'Secretary': 638, 'issues': 639, 'summer': 640, 'sector': 641, 'victory': 642, 'forward': 643, 'need': 644, 'December': 645, 'Brown': 646, 'test': 647, 'We': 648, 'continues': 649, '17': 650, 'Corporation': 651, 'bus': 652, 'heart': 653, 'big': 654, 'killing': 655, '0': 656, 'small': 657, 'level': 658, 'agency': 659, 'Chris': 660, 'website': 661, 'used': 662, 'air': 663, 'games': 664, 'George': 665, 'my': 666, 'must': 667, 'album': 668, 'change': 669, 'suspended': 670, 'low': 671, 'missing': 672, 'raise': 673, 'biggest': 674, 'evening': 675, 'social': 676, 'Central': 677, 'offering': 678, 'job': 679, 'actress': 680, 'traffic': 681, 'keep': 682, 'operations': 683, 'central': 684, 'policy': 685, 'remain': 686, 'Premier': 687, 'fans': 688, 'join': 689, 'young': 690, 'put': 691, 'banks': 692, 'project': 693, 'ready': 694, 'Britain': 695, 'Open': 696, 'residents': 697, 'driving': 698, 'issue': 699, 'remains': 700, 'strike': 701, 'Manchester': 702, 'information': 703, 'winning': 704, 'Energy': 705, 'medical': 706, 'trying': 707, 'Airlines': 708, 'term': 709, 'arrest': 710, 'countries': 711, 'received': 712, 'African': 713, 'our': 714, 'Chicago': 715, 'getting': 716, '21': 717, 'very': 718, '(': 719, 'Federal': 720, 'planning': 721, 'shows': 722, 'key': 723, 'soon': 724, 'College': 725, 'takes': 726, 'training': 727, 'Robert': 728, 'customers': 729, 'control': 730, 'sale': 731, 'ended': 732, 'better': 733, 'judge': 734, 'see': 735, 'anti': 736, 'Red': 737, '9': 738, 'Lake': 739, 'investigating': 740, 'troops': 741, 'jail': 742, 'announce': 743, 'statement': 744, 'Health': 745, 'session': 746, 'got': 747, 'Facebook': 748, 'sold': 749, '22': 750, 'domestic': 751, 'press': 752, 'vote': 753, 'boy': 754, 'event': 755, 'himself': 756, 'give': 757, 'schools': 758, '19': 759, 'member': 760, 'software': 761, 'general': 762, 'want': 763, 'having': 764, 'son': 765, 'giant': 766, '`': 767, 'Sri': 768, 'Hollywood': 769, 'career': 770, 'sexual': 771, 'outside': 772, 'selling': 773, 'All': 774, 'debut': 775, 'your': 776, 'border': 777, 'Foreign': 778, 'current': 779, 'among': 780, 'Singh': 781, 'cost': 782, 'fund': 783, 'eight': 784, 'stage': 785, 'admitted': 786, 'officers': 787, 'search': 788, 'Sen': 789, 'Iraq': 790, 'maker': 791, 'train': 792, 'until': 793, 'behind': 794, 'growing': 795, 'bankruptcy': 796, 'Office': 797, 'struck': 798, 'Mark': 799, 'station': 800, 'Zealand': 801, 'Road': 802, 'along': 803, 'later': 804, 'upcoming': 805, 'Asia': 806, 'warned': 807, 'using': 808, 'ever': 809, 'needs': 810, 'ban': 811, 'Association': 812, 'southern': 813, 'champion': 814, 'us': 815, 'Ministry': 816, 'District': 817, 'Germany': 818, 'husband': 819, 'elections': 820, 'Mexico': 821, 'violence': 822, 'gains': 823, 'Jackson': 824, 'Bill': 825, 'Bay': 826, 'executive': 827, 'm': 828, 'suicide': 829, '23': 830, 'performance': 831, 'co': 832, 'such': 833, 'centre': 834, 'same': 835, 'loan': 836, 'within': 837, 'Turkey': 838, 'risk': 839, 'movie': 840, 'Grand': 841, 'offers': 842, 'Microsoft': 843, 'Al': 844, 'known': 845, 'property': 846, 'Company': 847, 'fuel': 848, 'Olympic': 849, 'single': 850, 'Mumbai': 851, 'tonight': 852, 'Ltd': 853, 'raised': 854, 'claimed': 855, 'gold': 856, 'O': 857, 'provide': 858, 'protest': 859, 'Johnson': 860, 'sent': 861, 'falls': 862, 'build': 863, 'post': 864, 'practice': 865, 'decision': 866, 'break': 867, 'couple': 868, 'spending': 869, 'leaving': 870, 'recovery': 871, 'positive': 872, 'Gold': 873, 'Party': 874, 'human': 875, 'Commission': 876, 'Coast': 877, 'River': 878, 'name': 879, 'attacks': 880, 'candidate': 881, 'Hall': 882, 'officially': 883, 'declared': 884, 'Service': 885, 'staff': 886, 'target': 887, 'losses': 888, 'safety': 889, 'alleged': 890, 'construction': 891, 'given': 892, 'brand': 893, 'Japanese': 894, 'non': 895, 'Williams': 896, 'flu': 897, 'UN': 898, 'continued': 899, 'anniversary': 900, 'history': 901, 'possible': 902, 'league': 903, 'confidence': 904, '40': 905, 'showed': 906, 'owner': 907, 'phone': 908, 'costs': 909, 'acquire': 910, 'files': 911, 'Smith': 912, '28': 913, 'approved': 914, 'almost': 915, 'employees': 916, 'asked': 917, 'list': 918, 'fired': 919, 'Georgia': 920, 'Valley': 921, 'mother': 922, 'seen': 923, '27': 924, 'Carolina': 925, 'returned': 926, 'daughter': 927, '26': 928, 'boost': 929, 'changes': 930, 'few': 931, 'turned': 932, 'less': 933, 'too': 934, 'soldiers': 935, 'double': 936, 'battle': 937, 'Calif': 938, 'Mike': 939, 'step': 940, 'robbery': 941, 'pressure': 942, 'Dr': 943, 'force': 944, 'serious': 945, 'Internet': 946, 'jailed': 947, 'More': 948, 'real': 949, 'businesses': 950, 'dropped': 951, 'weather': 952, 'insurance': 953, 'straight': 954, 'falling': 955, 'Christmas': 956, 'funds': 957, 'whose': 958, 'interview': 959, 'opposition': 960, 'Joe': 961, 'sources': 962, 'increased': 963, 'hopes': 964, 'Four': 965, 'never': 966, 'Governor': 967, 'begin': 968, 'ex': 969, 'retail': 970, 'rally': 971, 'education': 972, 'First': 973, 'warning': 974, 'gets': 975, 'acquired': 976, 'worth': 977, 'joint': 978, 'stay': 979, 'Bush': 980, 'fraud': 981, 'south': 982, 'great': 983, 'captain': 984, 'plane': 985, 'Wall': 986, 'Board': 987, 'legal': 988, 'Boston': 989, 'paid': 990, 'Palestinian': 991, 'does': 992, 'might': 993, 'starting': 994, 'Jones': 995, 'convicted': 996, 'injuries': 997, 'Martin': 998, 'drop': 999, 'consumer': 1000, 'went': 1001, 'fiscal': 1002, 'euro': 1003, 'field': 1004, 'Pakistani': 1005, 'Italian': 1006, 'protection': 1007, 'bring': 1008, 'S': 1009, 'peace': 1010, 'Syria': 1011, 'Fire': 1012, 'solutions': 1013, 'chairman': 1014, 'did': 1015, 'facility': 1016, 'earnings': 1017, 'truck': 1018, 'Khan': 1019, 'me': 1020, 'travel': 1021, 'projects': 1022, 'gay': 1023, 'playing': 1024, 'passed': 1025, 'failed': 1026, 'reached': 1027, 'This': 1028, 'Justin': 1029, 'little': 1030, 'appointed': 1031, 'look': 1032, 'father': 1033, 'storm': 1034, 'find': 1035, 'homes': 1036, 'Army': 1037, 'NFL': 1038, 'Times': 1039, 'love': 1040, 'joined': 1041, 'drugs': 1042, 'supply': 1043, 'areas': 1044, 'completed': 1045, 'Big': 1046, 'Security': 1047, 'flights': 1048, 'Houston': 1049, 'suffered': 1050, 'north': 1051, 'survey': 1052, 'know': 1053, 'met': 1054, 'Tom': 1055, 'large': 1056, 'each': 1057, 'aid': 1058, 'don': 1059, 'hits': 1060, 'concerns': 1061, 'decided': 1062, 'started': 1063, 'suspected': 1064, 'conditions': 1065, 'Spain': 1066, 'recession': 1067, 'futures': 1068, 'begins': 1069, 'efforts': 1070, '31': 1071, 'girlfriend': 1072, 'Michigan': 1073, 'raises': 1074, 'moving': 1075, 'nine': 1076, 'popular': 1077, 'Lanka': 1078, 'Ryan': 1079, 'de': 1080, 'expand': 1081, 'times': 1082, 'crashed': 1083, 'finally': 1084, 'problems': 1085, 'scheduled': 1086, 'create': 1087, 'front': 1088, 'operation': 1089, 'goes': 1090, 'already': 1091, 'connection': 1092, 'striker': 1093, 'television': 1094, 'range': 1095, 'forced': 1096, 'space': 1097, 'Rep': 1098, 'person': 1099, 'giving': 1100, 'Iranian': 1101, 'levels': 1102, 'once': 1103, 'Prince': 1104, 'Ireland': 1105, 'Ohio': 1106, 'basketball': 1107, 'published': 1108, 'point': 1109, 'Steve': 1110, 'Hospital': 1111, 'Global': 1112, 'birth': 1113, 'mortgage': 1114, 'gun': 1115, 'stores': 1116, 'banned': 1117, 'Turkish': 1118, 'Democratic': 1119, 'thousands': 1120, 'Afghan': 1121, 'treatment': 1122, 'robbed': 1123, 'Beach': 1124, 'lawsuit': 1125, 'partnership': 1126, 'caught': 1127, 'every': 1128, 'northern': 1129, 'commercial': 1130, 'soldier': 1131, 'guard': 1132, 'added': 1133, 'abuse': 1134, 'Capital': 1135, 'CEO': 1136, 'Sydney': 1137, 'spokesman': 1138, 'Business': 1139, 'ruled': 1140, 'caused': 1141, 'seeking': 1142, 'stake': 1143, 'award': 1144, 'drive': 1145, 'common': 1146, 'Parliament': 1147, '29': 1148, 'arrived': 1149, 'short': 1150, 'regional': 1151, 'miss': 1152, 'reduce': 1153, 'Tour': 1154, 'improve': 1155, 'attacked': 1156, 'book': 1157, 'track': 1158, 'Lee': 1159, 'cricket': 1160, 'flight': 1161, 'states': 1162, 'joins': 1163, 'Egypt': 1164, 'Peter': 1165, 'Supreme': 1166, 'releases': 1167, 'leaves': 1168, 'Dubai': 1169, 'partner': 1170, 'Twitter': 1171, 'unveiled': 1172, 'natural': 1173, 'together': 1174, 'Toronto': 1175, 'Syrian': 1176, 'yet': 1177, 'retirement': 1178, 'unit': 1179, 'marriage': 1180, 'parts': 1181, 'Taylor': 1182, 'exchange': 1183, 'Korean': 1184, 'above': 1185, 'Island': 1186, 'platform': 1187, 'assets': 1188, 'bomb': 1189, 'total': 1190, 'funding': 1191, 'divorce': 1192, 'reach': 1193, 'Romney': 1194, 'EU': 1195, 'whether': 1196, 'agent': 1197, '500': 1198, 'ground': 1199, 'celebrate': 1200, 'inflation': 1201, 'patients': 1202, 'Black': 1203, 'Singapore': 1204, 'involved': 1205, 'Clinton': 1206, 'kill': 1207, 'Saudi': 1208, 'Tony': 1209, 'hard': 1210, 'broke': 1211, 'investigation': 1212, 'Spanish': 1213, 'then': 1214, 'Liverpool': 1215, 'condition': 1216, 'Kim': 1217, 'Home': 1218, 'rape': 1219, 'Taliban': 1220, 'available': 1221, 'posted': 1222, 'incident': 1223, 'hotel': 1224, 'county': 1225, 'process': 1226, 'King': 1227, 'housing': 1228, 'cases': 1229, 'period': 1230, 'Green': 1231, 'Agency': 1232, 'stand': 1233, 'suspect': 1234, 'below': 1235, 'celebrates': 1236, 'suffering': 1237, 'turn': 1238, 'cars': 1239, 'Lady': 1240, 'teacher': 1241, 'expects': 1242, 'dog': 1243, 'Gulf': 1244, 'ordered': 1245, 'iPhone': 1246, 'Jan': 1247, 'rules': 1248, 'armed': 1249, 'urged': 1250, 'Italy': 1251, 'save': 1252, 'Exchange': 1253, 'rest': 1254, 'dollars': 1255, 'dividend': 1256, 'Sheriff': 1257, 'damage': 1258, 'admits': 1259, 'Middle': 1260, 'ceremony': 1261, 'Taiwan': 1262, 'Minnesota': 1263, 'comes': 1264, 'receive': 1265, 'stealing': 1266, 'Club': 1267, 'Gaza': 1268, 'Jennifer': 1269, 'perform': 1270, 'corruption': 1271, 'stabbed': 1272, 'boss': 1273, 'producer': 1274, 'Scott': 1275, 'Real': 1276, 'Americans': 1277, 'Western': 1278, 'light': 1279, 'related': 1280, 'tomorrow': 1281, 'Reserve': 1282, 'How': 1283, 'Brazil': 1284, 'wanted': 1285, 'came': 1286, 'Greece': 1287, 'cutting': 1288, 'Five': 1289, 'main': 1290, 'rising': 1291, 'personal': 1292, 'access': 1293, 'digital': 1294, 'Financial': 1295, 'proposed': 1296, 'elected': 1297, 'Ali': 1298, 'deficit': 1299, 'orders': 1300, 'T': 1301, 'Fort': 1302, 'earthquake': 1303, 'threat': 1304, 'midfielder': 1305, 'pre': 1306, 'users': 1307, 'Medical': 1308, 'calling': 1309, 'minor': 1310, 'think': 1311, 'ship': 1312, 'buying': 1313, 'net': 1314, 'figures': 1315, 'Chelsea': 1316, 'NATO': 1317, 'inside': 1318, 'watch': 1319, 'extended': 1320, 'stolen': 1321, 'Kevin': 1322, 'X': 1323, 'offered': 1324, 'land': 1325, 'card': 1326, 'illegal': 1327, 'NBA': 1328, 'fifth': 1329, 'Kansas': 1330, 'seek': 1331, 'helped': 1332, 'planned': 1333, 'source': 1334, 'base': 1335, 'highest': 1336, 'split': 1337, 'birthday': 1338, 'sports': 1339, 'owned': 1340, 'operator': 1341, 'equity': 1342, 'far': 1343, 'began': 1344, 'holiday': 1345, 'losing': 1346, 'living': 1347, 'Actor': 1348, 'banking': 1349, 'heavy': 1350, 'Justice': 1351, 'returning': 1352, 'Pacific': 1353, 'e': 1354, 'al': 1355, 'criminal': 1356, 'newspaper': 1357, 'played': 1358, 'Paris': 1359, 'indicted': 1360, '60': 1361, 'Games': 1362, 'band': 1363, 'cause': 1364, 'moved': 1365, 'corporate': 1366, 'holding': 1367, 'radio': 1368, 'Highway': 1369, 'previous': 1370, 'barrel': 1371, 'gives': 1372, 'discuss': 1373, 'Stadium': 1374, 'Arizona': 1375, 'address': 1376, 'girls': 1377, 'street': 1378, 'others': 1379, 'Centre': 1380, 'll': 1381, 'There': 1382, 'revenue': 1383, 'Las': 1384, 'army': 1385, 'tried': 1386, 'appear': 1387, 'Super': 1388, 'winner': 1389, 'beating': 1390, 'Awards': 1391, 'overnight': 1392, 'Morgan': 1393, 'Public': 1394, 'massive': 1395, '200': 1396, 'scheme': 1397, 'acquisition': 1398, 'quarterly': 1399, 'receives': 1400, 'airport': 1401, 'Perry': 1402, 'Mayor': 1403, 'bond': 1404, 'ties': 1405, 'governor': 1406, 'Louis': 1407, 'concert': 1408, 'apartment': 1409, 'cooperation': 1410, 'Jersey': 1411, 'rises': 1412, 'felony': 1413, 'Colorado': 1414, 'Championship': 1415, 'Libya': 1416, 'department': 1417, 'manufacturing': 1418, 'Services': 1419, 'crime': 1420, 'boyfriend': 1421, 'adding': 1422, 'compared': 1423, 'review': 1424, 'weak': 1425, 'Rock': 1426, 'potential': 1427, 'Malaysia': 1428, 'form': 1429, 'fatal': 1430, 'leads': 1431, 'militants': 1432, 'marketing': 1433, 'Miami': 1434, 'Virginia': 1435, 'Committee': 1436, 'hospitalized': 1437, 'class': 1438, 'competition': 1439, 'college': 1440, 'Mobile': 1441, 'draw': 1442, 'acquires': 1443, 'Airport': 1444, 'voted': 1445, 'starts': 1446, 'Airways': 1447, 'council': 1448, 'multi': 1449, 'Vegas': 1450, 'date': 1451, 'Iowa': 1452, 'appeal': 1453, 'hand': 1454, 'Women': 1455, 'female': 1456, 'closing': 1457, 'People': 1458, 'Nations': 1459, 'allow': 1460, 'looks': 1461, 'Detroit': 1462, 'Press': 1463, 'Kelly': 1464, 'primary': 1465, 'denied': 1466, 'administration': 1467, 'effort': 1468, 'terms': 1469, 'lot': 1470, 'wedding': 1471, 'model': 1472, 'disease': 1473, 'sells': 1474, 'investigate': 1475, 'spring': 1476, 'wide': 1477, 'towards': 1478, 'Chairman': 1479, 'magazine': 1480, 'west': 1481, 'strategic': 1482, 'Star': 1483, 'hour': 1484, 'Actress': 1485, 'Diego': 1486, 'victims': 1487, 'protect': 1488, 'jury': 1489, 'aircraft': 1490, 'winter': 1491, 'exports': 1492, 'Fox': 1493, 'custody': 1494, 'Sports': 1495, 'Feb': 1496, 'gave': 1497, 'engaged': 1498, 'heard': 1499, 'bail': 1500, 'talk': 1501, 'fined': 1502, 'attempt': 1503, 'Town': 1504, 'Development': 1505, 'Illinois': 1506, 'Year': 1507, 'boat': 1508, 'Greek': 1509, 'rival': 1510, 's': 1511, 'measures': 1512, 'doesn': 1513, 'vehicles': 1514, 'programme': 1515, 'downtown': 1516, 'product': 1517, 'retire': 1518, 'committed': 1519, 'Southern': 1520, 'flat': 1521, 'defender': 1522, 'direct': 1523, 'Hill': 1524, 'Irish': 1525, 'Power': 1526, 'runs': 1527, 'defeat': 1528, 'operating': 1529, 'response': 1530, 'rescued': 1531, 'Alex': 1532, 'veteran': 1533, 'You': 1534, 'Royal': 1535, 'Atlanta': 1536, 'Dec': 1537, 'unemployment': 1538, 'Dallas': 1539, 'Test': 1540, 'separate': 1541, 'park': 1542, 'claim': 1543, 'Francisco': 1544, 'quality': 1545, 'Tim': 1546, 'Northern': 1547, 'Today': 1548, 'legend': 1549, 'room': 1550, 'income': 1551, 'Finance': 1552, 'tournament': 1553, 'decline': 1554, 'enough': 1555, 'Kong': 1556, 'Indonesia': 1557, 'worker': 1558, 'arrives': 1559, 'controversial': 1560, 'introduced': 1561, 'Hong': 1562, 'McCain': 1563, 'lose': 1564, 'fighting': 1565, 'bad': 1566, 'different': 1567, 'coast': 1568, 'knee': 1569, 'hearing': 1570, 'Vice': 1571, 'red': 1572, 'doing': 1573, 'beginning': 1574, 'systems': 1575, 'blood': 1576, 'province': 1577, 'Andrew': 1578, 'Media': 1579, 'Jim': 1580, 'teams': 1581, 'situation': 1582, 'Beijing': 1583, 've': 1584, 'baseball': 1585, 'headed': 1586, 'worst': 1587, 'loans': 1588, 'Madrid': 1589, 'Institute': 1590, 'Azerbaijan': 1591, 'Kate': 1592, 'course': 1593, 'moves': 1594, 'reform': 1595, 'Rangers': 1596, 'reporting': 1597, 'Ford': 1598, 'currently': 1599, 'Champions': 1600, 'civil': 1601, 'transfer': 1602, 'Ben': 1603, 'celebrated': 1604, 'MP': 1605, 'Blue': 1606, 'eastern': 1607, 'groups': 1608, 'industrial': 1609, 'holds': 1610, 'fresh': 1611, 'replace': 1612, 'rating': 1613, 'equipment': 1614, 'successful': 1615, 'draft': 1616, 'relations': 1617, 'Harry': 1618, 'airline': 1619, 'spot': 1620, '2007': 1621, 'M': 1622, 'camp': 1623, 'becoming': 1624, 'Church': 1625, 'needed': 1626, 'position': 1627, 'estate': 1628, 'meets': 1629, 'dispute': 1630, 'completes': 1631, 'independent': 1632, 'package': 1633, 'worldwide': 1634, 'founder': 1635, 'sets': 1636, 'considering': 1637, 'critical': 1638, 'visits': 1639, 'develop': 1640, 'Aug': 1641, 'pregnant': 1642, 'slightly': 1643, 'protesters': 1644, 'prime': 1645, 'avoid': 1646, 'friend': 1647, 'block': 1648, 'charity': 1649, 'squad': 1650, 'Force': 1651, 'threatened': 1652, 'Stock': 1653, 'victim': 1654, 'present': 1655, 'focus': 1656, 'challenge': 1657, 'developer': 1658, 'saw': 1659, 'resume': 1660, 'shut': 1661, 'Oct': 1662, 'B': 1663, 'turns': 1664, 'currency': 1665, 'union': 1666, 'Oscar': 1667, 'mixed': 1668, 'Tiger': 1669, 'effective': 1670, 'Senator': 1671, 'Andy': 1672, 'festival': 1673, 'placed': 1674, 'involving': 1675, 'Web': 1676, 'Research': 1677, 'ending': 1678, 'grand': 1679, 'kills': 1680, 'east': 1681, 'Nov': 1682, 'theft': 1683, 'Republic': 1684, 'Show': 1685, 'finance': 1686, 'Kashmir': 1687, 'fast': 1688, 'Conference': 1689, 'Bob': 1690, 'committee': 1691, 'broken': 1692, 'causing': 1693, 'why': 1694, 'believe': 1695, 'relationship': 1696, 'Wayne': 1697, 'solar': 1698, 'believes': 1699, 'result': 1700, 'though': 1701, 'Matt': 1702, 'families': 1703, 'pulled': 1704, 'defense': 1705, 'benefits': 1706, 'green': 1707, 'Mr': 1708, 'Indiana': 1709, 'Simon': 1710, 'Lindsay': 1711, 'trip': 1712, 'Bangladesh': 1713, 'foot': 1714, 'black': 1715, 'important': 1716, 'scored': 1717, 'English': 1718, 'problem': 1719, 'conduct': 1720, 'invest': 1721, 'Milan': 1722, 'Football': 1723, 'Missouri': 1724, 'village': 1725, 'seeks': 1726, 'Fund': 1727, 'effect': 1728, 'ends': 1729, 'Lohan': 1730, 'Sir': 1731, 'multiple': 1732, 'version': 1733, 'Arab': 1734, 'D': 1735, 'fashion': 1736, 'William': 1737, 'via': 1738, 'voters': 1739, 'chance': 1740, 'additional': 1741, 'Woods': 1742, 'crashes': 1743, 'parties': 1744, 'huge': 1745, 'owners': 1746, 'Philadelphia': 1747, 'rain': 1748, 'bringing': 1749, 'profits': 1750, 'value': 1751, 'landing': 1752, 'events': 1753, 'Bollywood': 1754, 'Queen': 1755, 'Academy': 1756, 'records': 1757, 'R': 1758, 'brought': 1759, 'cents': 1760, 'headquarters': 1761, 'attempted': 1762, 'Richard': 1763, 'carrier': 1764, 'fears': 1765, 'flood': 1766, 'helping': 1767, 'entered': 1768, 'Punjab': 1769, 'hundreds': 1770, 'recovering': 1771, 'tests': 1772, 'Life': 1773, 'degree': 1774, 'rebels': 1775, 'row': 1776, 'quit': 1777, 'retailer': 1778, 'seriously': 1779, 'parliament': 1780, 'signing': 1781, 'citing': 1782, 'mining': 1783, 'Stewart': 1784, 'coal': 1785, 'account': 1786, 'quarterback': 1787, 'soccer': 1788, 'ministry': 1789, 'distribution': 1790, 'Festival': 1791, 'secretary': 1792, 'weapons': 1793, 'showing': 1794, 'capacity': 1795, 'Local': 1796, 'Kardashian': 1797, 'remained': 1798, 'Young': 1799, 'became': 1800, 'II': 1801, 'Charlie': 1802, 'Moscow': 1803, 'Seattle': 1804, 'breaks': 1805, 'aimed': 1806, 'Jason': 1807, 'Brian': 1808, 'Ukraine': 1809, 'safe': 1810, 'western': 1811, 'closes': 1812, 'mark': 1813, 'brain': 1814, 'Series': 1815, 'solution': 1816, 'swine': 1817, '70': 1818, 'contest': 1819, 'crore': 1820, 'increases': 1821, 'grow': 1822, 'Music': 1823, 'Attorney': 1824, 'daily': 1825, 'defence': 1826, 'mission': 1827, 'Rick': 1828, 'always': 1829, 'raising': 1830, 'cast': 1831, 'leg': 1832, 'act': 1833, 'poor': 1834, 'average': 1835, 'Scotland': 1836, 'AP': 1837, 'Education': 1838, 'Post': 1839, 'Toyota': 1840, 'parents': 1841, 'index': 1842, 'Community': 1843, 'Barcelona': 1844, 'forecast': 1845, 'Guard': 1846, 'sexually': 1847, 'various': 1848, 'Director': 1849, 'tribute': 1850, 'Samsung': 1851, 'strategy': 1852, 'BJP': 1853, 'manufacturer': 1854, 'able': 1855, 'Best': 1856, 'division': 1857, 'lawmakers': 1858, 'Cameron': 1859, 'marijuana': 1860, 'Gordon': 1861, 'Affairs': 1862, 'protests': 1863, 'feels': 1864, 'passes': 1865, 'terror': 1866, 'Dutch': 1867, 'cleared': 1868, 'awarded': 1869, 'content': 1870, 'married': 1871, 'stars': 1872, 'spend': 1873, 'debate': 1874, 'unveils': 1875, 'benefit': 1876, 'Food': 1877, 'didn': 1878, 'crude': 1879, 'restaurant': 1880, 'USA': 1881, 'vice': 1882, 'Jack': 1883, 'BBC': 1884, 'friends': 1885, 'sharply': 1886, 'goal': 1887, 'crimes': 1888, 'application': 1889, 'struggling': 1890, 'allegations': 1891, 'chain': 1892, 'rock': 1893, 'identified': 1894, 'La': 1895, 'launching': 1896, 'activity': 1897, 'Cleveland': 1898, 'disabled': 1899, 'patent': 1900, 'Kentucky': 1901, 'Management': 1902, 'seized': 1903, 'farm': 1904, 'bills': 1905, 'Charles': 1906, 'minutes': 1907, 'Swiss': 1908, 'regular': 1909, 'shop': 1910, 'pick': 1911, 'gone': 1912, 'attend': 1913, 'Wisconsin': 1914, 'deputy': 1915, 'Hamilton': 1916, 'Navy': 1917, 'complete': 1918, 'Sony': 1919, 'Technologies': 1920, 'Eastern': 1921, 'employee': 1922, 'politics': 1923, 'leadership': 1924, 'computer': 1925, 'climate': 1926, 'cities': 1927, 'Stephen': 1928, 'impact': 1929, 'Sox': 1930, 'Victoria': 1931, 'teachers': 1932, 'cell': 1933, 'lawyer': 1934, 'carrying': 1935, 'tackle': 1936, 'doctors': 1937, 'story': 1938, 'steps': 1939, 'warns': 1940, 'vs': 1941, 'happy': 1942, 'researchers': 1943, 'rescue': 1944, 'really': 1945, 'developed': 1946, 'Motors': 1947, 'recall': 1948, 'Santa': 1949, 'ongoing': 1950, 'Authorities': 1951, 'declares': 1952, 'Mitt': 1953, 'expansion': 1954, 'throughout': 1955, 'wind': 1956, 'denies': 1957, 'Zimbabwe': 1958, 'strikes': 1959, 'increasing': 1960, 'prevent': 1961, 'teen': 1962, 'expectations': 1963, 'toward': 1964, 'song': 1965, 'gain': 1966, 'films': 1967, 'Russell': 1968, 'poll': 1969, 'Thomas': 1970, 'ambassador': 1971, 'zone': 1972, 'terrorism': 1973, 'spent': 1974, 'Avenue': 1975, 'enter': 1976, 'seat': 1977, 'created': 1978, 'possession': 1979, 'visited': 1980, 'Patrick': 1981, 'Allen': 1982, 'Six': 1983, 'sanctions': 1984, 'developing': 1985, 'Tennessee': 1986, 'purchase': 1987, 'discovered': 1988, 'church': 1989, 'Arsenal': 1990, 'elderly': 1991, 'linked': 1992, 'setting': 1993, '35': 1994, '1000': 1995, 'Melbourne': 1996, 'Anthony': 1997, 'assaulting': 1998, 'battery': 1999, 'stimulus': 2000, 'extend': 2001, 'Gary': 2002, 'add': 2003, 'loses': 2004, 'outlook': 2005, 'detained': 2006, 'plants': 2007, 'lives': 2008, 'fan': 2009, 'friendly': 2010, 'subsidiary': 2011, 'Award': 2012, 'Olympics': 2013, 'candidates': 2014, 'destroyed': 2015, 'Network': 2016, 'posts': 2017, 'drivers': 2018, 'progress': 2019, 'citizens': 2020, 'Systems': 2021, 'motorcycle': 2022, 'disaster': 2023, 'Wales': 2024, 'clear': 2025, 'cloud': 2026, 'joining': 2027, 'stabbing': 2028, 'homicide': 2029, 'appoints': 2030, 'deadly': 2031, 'Sarah': 2032, '300': 2033, 'N': 2034, 'view': 2035, 'DC': 2036, 'try': 2037, 'decade': 2038, 'awards': 2039, 'Brazilian': 2040, 'extension': 2041, 'Great': 2042, 'expecting': 2043, 'investor': 2044, 'export': 2045, '2014': 2046, 'brother': 2047, 'honored': 2048, 'Muslim': 2049, 'Oklahoma': 2050, 'millions': 2051, 'adds': 2052, 'Judge': 2053, 'analysts': 2054, 'Assembly': 2055, 'schedule': 2056, 'agree': 2057, 'die': 2058, 'customer': 2059, 'activities': 2060, 'War': 2061, 'channel': 2062, 'scandal': 2063, 'steel': 2064, 'Yahoo': 2065, 'activist': 2066, 'justice': 2067, 'venture': 2068, 'championship': 2069, 'taxes': 2070, 'Cole': 2071, 'speed': 2072, 'generation': 2073, 'internet': 2074, 'Daily': 2075, 'allowed': 2076, 'Bieber': 2077, 'farmers': 2078, 'approves': 2079, 'pounds': 2080, 'fires': 2081, 'Orleans': 2082, 'delivery': 2083, 'Gaga': 2084, 'Phoenix': 2085, 'done': 2086, 'Family': 2087, 'Jessica': 2088, 'promote': 2089, 'snow': 2090, 'Islamic': 2091, 'Technology': 2092, 'failing': 2093, 'confirms': 2094, 'firms': 2095, 'closer': 2096, 'But': 2097, 'My': 2098, 'youth': 2099, 'thought': 2100, 'Davis': 2101, 'Qatar': 2102, 'resigned': 2103, 'file': 2104, 'concern': 2105, 'sending': 2106, 'Brad': 2107, 'threatening': 2108, 'Hurricane': 2109, 'island': 2110, 'Daniel': 2111, 'beaten': 2112, 'speech': 2113, 'Beckham': 2114, 'Fame': 2115, 'Act': 2116, 'Kennedy': 2117, 'mid': 2118, 'complex': 2119, 'hands': 2120, 'defensive': 2121, 'Stocks': 2122, 'Lewis': 2123, 'Pradesh': 2124, 'send': 2125, 'Top': 2126, 'E': 2127, 'Sept': 2128, 'box': 2129, 'Township': 2130, 'receiver': 2131, 'mayor': 2132, 'Vietnam': 2133, 'counts': 2134, 'Egyptian': 2135, 'firefighters': 2136, 'hope': 2137, 'fees': 2138, 'clash': 2139, 'Bowl': 2140, 'Christian': 2141, 'serving': 2142, 'Kyrgyzstan': 2143, 'Memorial': 2144, 'hot': 2145, 'shopping': 2146, 'Men': 2147, 'auto': 2148, 'sentence': 2149, 'advanced': 2150, 'professional': 2151, 'consumers': 2152, 'decades': 2153, 'Deputy': 2154, 'Idol': 2155, 'granted': 2156, 'relief': 2157, 'helicopter': 2158, 'expands': 2159, 'offensive': 2160, 'Port': 2161, 'selected': 2162, 'hosting': 2163, 'Authority': 2164, 'design': 2165, 'cover': 2166, 'Holdings': 2167, 'Journal': 2168, 'designed': 2169, '90': 2170, 'offices': 2171, 'previously': 2172, 'reveals': 2173, 'Nick': 2174, 'evidence': 2175, 'aged': 2176, 'ensure': 2177, 'C': 2178, 'feel': 2179, 'burglary': 2180, 'appears': 2181, 'Time': 2182, 'Arabia': 2183, 'Adam': 2184, 'serve': 2185, 'organization': 2186, 'applications': 2187, 'activists': 2188, 'dating': 2189, 'pilot': 2190, 'bonds': 2191, 'Elizabeth': 2192, 'hired': 2193, 'Mexican': 2194, 'consider': 2195, 'breaking': 2196, 'passengers': 2197, 'longer': 2198, 'doctor': 2199, 'NEW': 2200, 'threats': 2201, 'Major': 2202, 'campus': 2203, 'appearance': 2204, 'Nigeria': 2205, 'FC': 2206, 'introduces': 2207, 'historic': 2208, 'severe': 2209, 'Palin': 2210, 'Jr': 2211, 'supplies': 2212, '80': 2213, 'providing': 2214, 'significant': 2215, 'experts': 2216, 'fair': 2217, 'P': 2218, 'Tamil': 2219, 'recovered': 2220, 'advertising': 2221, 'apparently': 2222, 'settlement': 2223, 'successfully': 2224, 'agencies': 2225, 'summit': 2226, 'd': 2227, 'Defense': 2228, 'tennis': 2229, 'auction': 2230, 'success': 2231, 'rule': 2232, 'comments': 2233, 'El': 2234, 'consecutive': 2235, 'failure': 2236, 'reality': 2237, 'speak': 2238, 'finds': 2239, 'Democrats': 2240, 'claiming': 2241, 'wake': 2242, 'Nokia': 2243, 'heading': 2244, 'Philippines': 2245, 'polls': 2246, 'continuing': 2247, 'Jose': 2248, 'produce': 2249, 'chase': 2250, 'Alabama': 2251, 'comedy': 2252, 'Live': 2253, 'ratings': 2254, 'Country': 2255, 'surprise': 2256, 'rare': 2257, 'hosts': 2258, 'dealers': 2259, 'resign': 2260, 'overseas': 2261, 'infrastructure': 2262, 'alcohol': 2263, 'Moore': 2264, 'tree': 2265, 'laid': 2266, 'Yemen': 2267, 'expanding': 2268, 'works': 2269, 'democracy': 2270, 'urges': 2271, 'Frank': 2272, 'Campbell': 2273, 'Denver': 2274, 'Economic': 2275, 'terrorist': 2276, 'stated': 2277, 'metal': 2278, 'Foundation': 2279, 'rejected': 2280, 'extends': 2281, 'pop': 2282, 'wrong': 2283, 'Prix': 2284, 'Factor': 2285, 'built': 2286, 'Venezuela': 2287, 'Long': 2288, 'ruling': 2289, 'Sea': 2290, 'Motor': 2291, 'undergo': 2292, 'grant': 2293, 'When': 2294, 'things': 2295, 'Indians': 2296, 'born': 2297, 'Tokyo': 2298, 'passenger': 2299, 'pitcher': 2300, '75': 2301, 'boys': 2302, 'update': 2303, 'Some': 2304, 'web': 2305, 'treated': 2306, 'deliver': 2307, 'appeared': 2308, 'Hillary': 2309, 'Defence': 2310, 'changed': 2311, 'Trade': 2312, 'violent': 2313, 'Scottish': 2314, 'beats': 2315, 'pro': 2316, 'Android': 2317, 'parking': 2318, 'Sun': 2319, 'Stars': 2320, 'Iraqi': 2321, 'J': 2322, 'UAE': 2323, 'satellite': 2324, 'Tata': 2325, 'Resources': 2326, 'Oregon': 2327, 'assaulted': 2328, 'crew': 2329, 'ring': 2330, 'app': 2331, 'tourism': 2332, 'targets': 2333, 'experience': 2334, 'CBS': 2335, 'expanded': 2336, 'announcement': 2337, 'overall': 2338, 'duty': 2339, 'refused': 2340, 'Jordan': 2341, 'negative': 2342, 'Communications': 2343, 'ministers': 2344, 'Yankees': 2345, 'visiting': 2346, 'Michelle': 2347, 'Cape': 2348, 'Pattinson': 2349, 'golf': 2350, 'bought': 2351, 'diagnosed': 2352, 'Amy': 2353, 'Falls': 2354, 'units': 2355, 'BP': 2356, 'Senior': 2357, 'Euro': 2358, 'cocaine': 2359, 'sixth': 2360, 'becomes': 2361, 'Consumer': 2362, 'laws': 2363, 'Libyan': 2364, 'Officer': 2365, 'shareholders': 2366, 'Nifty': 2367, 'Lebanon': 2368, 'sees': 2369, 'Fargo': 2370, 'voting': 2371, 'Cuba': 2372, 'itself': 2373, 'tough': 2374, 'receiving': 2375, 'cross': 2376, 'majority': 2377, '45': 2378, 'wounded': 2379, 'hire': 2380, 'collision': 2381, 'Sudan': 2382, 'toll': 2383, 'kids': 2384, 'improved': 2385, 'kept': 2386, 'plea': 2387, 'Wilson': 2388, 'spread': 2389, 'devices': 2390, 'advisory': 2391, 'amount': 2392, 'fully': 2393, 'middle': 2394, 'Hills': 2395, 'let': 2396, 'push': 2397, 'numbers': 2398, 'Game': 2399, 'Pittsburgh': 2400, 'Rihanna': 2401, 'Catholic': 2402, 'options': 2403, 'device': 2404, 'newly': 2405, 'engine': 2406, 'Law': 2407, 'Students': 2408, 'contracts': 2409, 'reaches': 2410, 'Murray': 2411, 'Executive': 2412, 'sites': 2413, 'immediate': 2414, 'Jay': 2415, 'testing': 2416, 'drops': 2417, 'Market': 2418, 'Film': 2419, 'believed': 2420, 'assistant': 2421, 'carbon': 2422, 'provides': 2423, 'Labor': 2424, 'facilities': 2425, 'iPad': 2426, 'electricity': 2427, 'Harris': 2428, 'Nelson': 2429, 'shoot': 2430, 'hurt': 2431, 'question': 2432, 'Ghana': 2433, 'strength': 2434, 'bridge': 2435, 'Forest': 2436, 'Anna': 2437, 'animal': 2438, 'studio': 2439, 'scientists': 2440, 'Eric': 2441, 'Human': 2442, 'thanks': 2443, 'Children': 2444, 'Golden': 2445, 'art': 2446, 'ice': 2447, 'Commerce': 2448, 'twice': 2449, 'weekly': 2450, 'immigration': 2451, 'Reuters': 2452, 'deals': 2453, 'lack': 2454, 'embassy': 2455, 'goods': 2456, 'Hamas': 2457, 'recover': 2458, 'formally': 2459, 'pace': 2460, 'ABC': 2461, 'programs': 2462, 'Entertainment': 2463, 'nationwide': 2464, 'Myanmar': 2465, 'Miller': 2466, 'Giants': 2467, 'status': 2468, 'speculation': 2469, 'Stanley': 2470, 'Social': 2471, 'lowest': 2472, 'fellow': 2473, 'Writer': 2474, 'attorney': 2475, 'lending': 2476, 'stronger': 2477, 'streets': 2478, 'white': 2479, 'traders': 2480, 'Jon': 2481, 'finish': 2482, 'Ontario': 2483, 'Bulgaria': 2484, 'buys': 2485, 'causes': 2486, 'dangerous': 2487, 'panel': 2488, 'Massachusetts': 2489, 'hoping': 2490, 'Treasury': 2491, 'If': 2492, 'Another': 2493, 'combat': 2494, 'feature': 2495, 'lines': 2496, 'herself': 2497, 'check': 2498, 'Orange': 2499, 'environmental': 2500, 'Girl': 2501, 'approval': 2502, 'include': 2503, 'license': 2504, 'Cricket': 2505, 'proposal': 2506, 'Atlantic': 2507, 'message': 2508, 'legislation': 2509, 'Utah': 2510, 'reduced': 2511, 'Labour': 2512, 'Cheryl': 2513, 'Vancouver': 2514, 'environment': 2515, 'fine': 2516, 'bar': 2517, 'challenges': 2518, 'territory': 2519, 'sought': 2520, 'extra': 2521, 'communications': 2522, 'strengthen': 2523, 'begun': 2524, 'supports': 2525, '150': 2526, 'screen': 2527, 'Industries': 2528, 'stroke': 2529, 'author': 2530, 'mail': 2531, 'putting': 2532, 'preparing': 2533, 'financing': 2534, 'nomination': 2535, '400': 2536, 'drama': 2537, 'sea': 2538, 'shown': 2539, 'Baltimore': 2540, 'questions': 2541, 'Jerry': 2542, 'Howard': 2543, 'phones': 2544, 'existing': 2545, 'rehab': 2546, 'presented': 2547, 'kicked': 2548, 'pass': 2549, 'backed': 2550, 'keeping': 2551, 'plays': 2552, 'option': 2553, 'Now': 2554, 'style': 2555, 'clean': 2556, 'religious': 2557, 'Milwaukee': 2558, 'Insurance': 2559, 'suspicion': 2560, 'tells': 2561, 'hitting': 2562, 'yen': 2563, 'bailout': 2564, 'Online': 2565, 'broadband': 2566, 'affected': 2567, 'Thailand': 2568, 'located': 2569, 'Division': 2570, 'bodies': 2571, 'Somali': 2572, 'Broadway': 2573, 'Singer': 2574, 'Zardari': 2575, 'Sam': 2576, 'Abu': 2577, 'heat': 2578, 'penalty': 2579, 'Pope': 2580, 'resigns': 2581, 'welcome': 2582, 'missed': 2583, 'supporters': 2584, 'recalled': 2585, 'Spears': 2586, 'Cross': 2587, 'Channel': 2588, 'apparent': 2589, 'Pennsylvania': 2590, '32': 2591, 'powerful': 2592, 'semi': 2593, 'certain': 2594, 'filing': 2595, 'Austin': 2596, 'rivals': 2597, 'patient': 2598, 'note': 2599, 'highly': 2600, 'agents': 2601, 'removed': 2602, 'portfolio': 2603, 'policies': 2604, 'Newcastle': 2605, 'missile': 2606, 'storage': 2607, 'rupee': 2608, 'Sabha': 2609, 'payment': 2610, 'Car': 2611, 'shoulder': 2612, 'vowed': 2613, 'electric': 2614, 'cabinet': 2615, 'repair': 2616, 'Bureau': 2617, 'asks': 2618, 'creating': 2619, 'Madonna': 2620, 'Tigers': 2621, 'wireless': 2622, 'explosion': 2623, 'Who': 2624, 'regime': 2625, 'rural': 2626, 'trend': 2627, 'pirates': 2628, 'sued': 2629, 'Sensex': 2630, 'suffers': 2631, 'weight': 2632, 'famous': 2633, 'nominated': 2634, 'cancelled': 2635, 'delegation': 2636, 'enters': 2637, 'cards': 2638, 'Anderson': 2639, 'Roger': 2640, 'lifted': 2641, 'directors': 2642, 'Free': 2643, 'branch': 2644, 'Disney': 2645, 'assistance': 2646, 'Limited': 2647, 'Despite': 2648, 'presence': 2649, 'medal': 2650, 'Carlos': 2651, 'welcomed': 2652, 'stable': 2653, 'breast': 2654, 'Britney': 2655, 'Warren': 2656, 'instead': 2657, 'deaths': 2658, 'teenager': 2659, 'asking': 2660, 'Special': 2661, 'ways': 2662, 'votes': 2663, 'Mountain': 2664, 'handed': 2665, 'collection': 2666, 'fact': 2667, 'letter': 2668, 'basis': 2669, 'entertainment': 2670, 'parliamentary': 2671, 'Field': 2672, 'ranked': 2673, 'Radio': 2674, 'Express': 2675, 'mine': 2676, 'Veteran': 2677, 'comeback': 2678, 'Information': 2679, 'details': 2680, 'Serbia': 2681, 'Gandhi': 2682, 'Malaysian': 2683, 'Simpson': 2684, 'initial': 2685, 'Lions': 2686, 'tickets': 2687, 'artist': 2688, 'resident': 2689, 'Regional': 2690, 'goals': 2691, 'bin': 2692, 'Katie': 2693, 'Cabinet': 2694, 'approximately': 2695, 'exercise': 2696, 'coalition': 2697, 'window': 2698, 'Buffalo': 2699, 'Wells': 2700, 'Why': 2701, 'Rio': 2702, 'Argentina': 2703, 'stopped': 2704, 'floor': 2705, 'champions': 2706, 'rather': 2707, 'confident': 2708, 'traded': 2709, 'Miss': 2710, 'Edwards': 2711, 'Shanghai': 2712, 'university': 2713, 'helps': 2714, 'felt': 2715, 'Palestinians': 2716, 'delayed': 2717, 'advance': 2718, 'Team': 2719, 'Dakota': 2720, 'renewed': 2721, 'Boy': 2722, 'Windows': 2723, 'agrees': 2724, 'Commissioner': 2725, 'Seven': 2726, 'GOP': 2727, 'Marine': 2728, 'Gas': 2729, 'Steel': 2730, 'considered': 2731, 'Sheen': 2732, 'jumped': 2733, 'roads': 2734, 'stations': 2735, 'Metro': 2736, 'ticket': 2737, 'Formula': 2738, 'Columbus': 2739, 'scene': 2740, 'franchise': 2741, 'Biden': 2742, 'slow': 2743, 'conducted': 2744, 'Mississippi': 2745, 'Ron': 2746, 'carry': 2747, 'mass': 2748, 'secure': 2749, 'celebrating': 2750, 'journalist': 2751, 'probation': 2752, 'paper': 2753, 'USD': 2754, 'residential': 2755, 'Republicans': 2756, 'Credit': 2757, 'Index': 2758, 'expect': 2759, 'Springs': 2760, 'Columbia': 2761, 'exclusive': 2762, 'Tampa': 2763, 'voice': 2764, 'output': 2765, 'pair': 2766, 'NHL': 2767, 'electronic': 2768, 'eye': 2769, 'healthy': 2770, 'searching': 2771, 'regarding': 2772, 'factory': 2773, 'themselves': 2774, 'Katy': 2775, 'fishing': 2776, 'Kumar': 2777, 'W': 2778, 'Jimmy': 2779, 'Securities': 2780, 'super': 2781, 'restructuring': 2782, 'Demi': 2783, 'Jeff': 2784, 'spotted': 2785, '/': 2786, '600': 2787, 'healthcare': 2788, 'Palm': 2789, 'Orlando': 2790, 'drinking': 2791, 'van': 2792, 'Angelina': 2793, 'Society': 2794, 'dialogue': 2795, 'tested': 2796, 'entire': 2797, 'Birmingham': 2798, 'lift': 2799, 'expert': 2800, 'fatally': 2801, 'pension': 2802, 'diplomatic': 2803, 'coverage': 2804, 'Jolie': 2805, 'illness': 2806, 'Henry': 2807, 'manslaughter': 2808, 'Bahrain': 2809, 'collapsed': 2810, 'offender': 2811, 'sworn': 2812, 'virus': 2813, 'prisoners': 2814, 'recalls': 2815, 'invited': 2816, 'buildings': 2817, 'journalists': 2818, 'demands': 2819, 'contact': 2820, 'NY': 2821, 'Little': 2822, 'gang': 2823, 'networking': 2824, 'Tech': 2825, 'Cooper': 2826, 'Kazakhstan': 2827, 'Portland': 2828, 'NBC': 2829, 'Dollar': 2830, 'opportunities': 2831, 'especially': 2832, 'society': 2833, 'Most': 2834, 'true': 2835, 'feet': 2836, 'learned': 2837, 'documents': 2838, 'Qaeda': 2839, 'Oakland': 2840, 'Hundreds': 2841, 'Franklin': 2842, 'negotiations': 2843, 'notes': 2844, 'Edward': 2845, 'probe': 2846, 'Square': 2847, 'false': 2848, 'communities': 2849, 'reporters': 2850, 'photo': 2851, 'miles': 2852, 'emerging': 2853, 'secret': 2854, 'immediately': 2855, 'invasion': 2856, 'Hudson': 2857, 'pornography': 2858, 'Swedish': 2859, 'arm': 2860, 'Connecticut': 2861, 'winds': 2862, 'targeting': 2863, 'elect': 2864, 'Weather': 2865, 'Partners': 2866, 'transport': 2867, 'alive': 2868, 'walk': 2869, 'doors': 2870, 'pool': 2871, 'Alaska': 2872, 'ad': 2873, 'Arts': 2874, 'Mary': 2875, 'Pro': 2876, 'homeless': 2877, 'musical': 2878, 'betting': 2879, 'specialist': 2880, 'drunk': 2881, 'celebrity': 2882, 'Leader': 2883, 'outstanding': 2884, 'insists': 2885, 'paying': 2886, 'fit': 2887, 'Just': 2888, 'arms': 2889, 'postponed': 2890, 'Chapter': 2891, 'Madison': 2892, 'tonnes': 2893, 'canceled': 2894, 'designer': 2895, 'Administration': 2896, 'figure': 2897, 'matches': 2898, '10000': 2899, 'Antonio': 2900, 'Baseball': 2901, 'learn': 2902, 'fear': 2903, 'escaped': 2904, 'writer': 2905, 'Switzerland': 2906, 'Andre': 2907, 'welcomes': 2908, 'worked': 2909, 'Goldman': 2910, 'Software': 2911, 'positions': 2912, 'heads': 2913, 'NSW': 2914, 'monthly': 2915, 'Queensland': 2916, 'Thousands': 2917, 'pays': 2918, 'tourists': 2919, 'Ray': 2920, 'Penn': 2921, 'finished': 2922, 'assembly': 2923, 'declined': 2924, '33': 2925, 'conflict': 2926, 'defend': 2927, 'tied': 2928, 'clients': 2929, 'residence': 2930, 'recorded': 2931, 'ill': 2932, 'movement': 2933, 'Czech': 2934, 'persons': 2935, 'prosecutors': 2936, 'fee': 2937, 'Galaxy': 2938, 'pain': 2939, 'Associated': 2940, 'Pitt': 2941, 'chemical': 2942, 'payments': 2943, 'Sean': 2944, 'limited': 2945, 'investments': 2946, 'hosted': 2947, 'technical': 2948, 'import': 2949, 'horse': 2950, 'premier': 2951, 'incidents': 2952, 'sheriff': 2953, 'self': 2954, 'Manmohan': 2955, 'Foods': 2956, '2000': 2957, 'teenage': 2958, 'Theatre': 2959, 'Love': 2960, 'pull': 2961, 'partners': 2962, 'introduce': 2963, 'Water': 2964, 'waste': 2965, 'Louisiana': 2966, 'delays': 2967, 'busy': 2968, 'Steven': 2969, 'informed': 2970, 'matter': 2971, 'Area': 2972, 'Phil': 2973, 'scam': 2974, 'waiting': 2975, 'honor': 2976, 'ankle': 2977, 'stole': 2978, 'dogs': 2979, 'jet': 2980, 'suspends': 2981, 'reforms': 2982, 'although': 2983, 'steady': 2984, 'rushed': 2985, 'evacuated': 2986, 'Warner': 2987, 'ease': 2988, 'movies': 2989, 'commitment': 2990, 'Chavez': 2991, 'Ambassador': 2992, 'active': 2993, 'resources': 2994, 'BC': 2995, '5000': 2996, 'Telecom': 2997, 'features': 2998, 'opener': 2999, 'Johnny': 3000, 'cancels': 3001, 'lay': 3002, 'Charlotte': 3003, 'threatens': 3004, 'places': 3005, 'Old': 3006, 'Patrol': 3007, 'exhibition': 3008, 'Craig': 3009, 'Dan': 3010, 'dedicated': 3011, 'complaint': 3012, 'cold': 3013, 'engineering': 3014, 'Bulgarian': 3015, 'Armenia': 3016, 'Van': 3017, 'Maryland': 3018, 'announcing': 3019, 'Kristen': 3020, 'Don': 3021, 'raid': 3022, 'Tottenham': 3023, 'Winehouse': 3024, 'Industry': 3025, 'Alan': 3026, 'Kings': 3027, 'Drug': 3028, 'request': 3029, 'Neil': 3030, 'language': 3031, 'Ocean': 3032, 'damaged': 3033, 'trafficking': 3034, 'acting': 3035, 'hockey': 3036, 'Pop': 3037, 'NCAA': 3038, 'merger': 3039, 'Belarus': 3040, 'Cowell': 3041, 'sentiment': 3042, 'smartphone': 3043, 'Kenya': 3044, 'tight': 3045, 'male': 3046, 'tell': 3047, 'Josh': 3048, 'Mac': 3049, 'responsible': 3050, 'enforcement': 3051, 'Bridge': 3052, 'Azerbaijani': 3053, 'turning': 3054, 'Celebrity': 3055, 'Space': 3056, 'offshore': 3057, 'enterprise': 3058, 'Scientists': 3059, 'suggests': 3060, 'escape': 3061, 'participate': 3062, 'Winter': 3063, 'listed': 3064, 'rugby': 3065, 'assigned': 3066, 'spill': 3067, 'Democrat': 3068, 'Haiti': 3069, 'improving': 3070, 'resolution': 3071, 'notice': 3072, 'alert': 3073, 'fallen': 3074, 'engagement': 3075, 'drowned': 3076, '42': 3077, 'fishermen': 3078, 'Officials': 3079, 'noon': 3080, 'awareness': 3081, 'tender': 3082, 'performing': 3083, 'managed': 3084, 'YouTube': 3085, 'SA': 3086, 'Musharraf': 3087, 'Small': 3088, 'Hockey': 3089, 'Sweden': 3090, 'ask': 3091, 'processing': 3092, 'Classic': 3093, 'Lankan': 3094, 'Boeing': 3095, 'accounts': 3096, 'bilateral': 3097, 'provided': 3098, '65': 3099, 'targeted': 3100, 'personnel': 3101, 'featuring': 3102, 'deadline': 3103, 'suspects': 3104, 'tons': 3105, 'river': 3106, 'smoke': 3107, 'perfect': 3108, 'crews': 3109, 'criticism': 3110, 'dance': 3111, 'Buy': 3112, 'Week': 3113, 'superstar': 3114, 'Price': 3115, 'hall': 3116, 'Trust': 3117, 'nothing': 3118, 'settle': 3119, 'onto': 3120, 'delay': 3121, 'While': 3122, 'route': 3123, 'sends': 3124, 'defends': 3125, 'undisclosed': 3126, 'counties': 3127, 'bit': 3128, '―': 3129, 'Arkansas': 3130, 'violations': 3131, 'Amazon': 3132, 'promotion': 3133, 'CNN': 3134, 'suggested': 3135, 'murdering': 3136, 'hospitals': 3137, 'Ukrainian': 3138, 'supplier': 3139, 'AG': 3140, 'something': 3141, 'follow': 3142, 'Sachs': 3143, 'Rugby': 3144, 'ten': 3145, 'approach': 3146, 'estimates': 3147, 'seems': 3148, 'Jewish': 3149, 'institutions': 3150, 'preliminary': 3151, 'arrive': 3152, 'Intel': 3153, 'Villa': 3154, 'Us': 3155, 'identity': 3156, 'Brand': 3157, 'decide': 3158, 'Nepal': 3159, 'blamed': 3160, 'Stone': 3161, 'Lopez': 3162, 'killer': 3163, 'Private': 3164, 'native': 3165, 'expressed': 3166, 'burning': 3167, 'neighborhood': 3168, 'aims': 3169, 'kicks': 3170, 'Robin': 3171, 'maintain': 3172, 'blast': 3173, 'picked': 3174, 'kick': 3175, 'weaker': 3176, 'deep': 3177, 'Construction': 3178, 'items': 3179, '*': 3180, 'brings': 3181, 'Interior': 3182, 'troubled': 3183, 'location': 3184, 'scale': 3185, 'So': 3186, 'Masters': 3187, 'population': 3188, 'shortage': 3189, 'Cyrus': 3190, 'Armstrong': 3191, 'smoking': 3192, 'remove': 3193, 'Good': 3194, 'trillion': 3195, 'often': 3196, 'Dhabi': 3197, 'touch': 3198, 'YORK': 3199, 'IBM': 3200, 'gunpoint': 3201, 'Drive': 3202, 'PM': 3203, 'ran': 3204, 'sharp': 3205, 'Dancing': 3206, 'finals': 3207, 'Auto': 3208, 'judges': 3209, 'Cuban': 3210, 'Creek': 3211, 'fake': 3212, 'jump': 3213, 'Standard': 3214, 'battling': 3215, 'estimated': 3216, 'terrorists': 3217, 'Eagles': 3218, 'temporarily': 3219, 'standards': 3220, 'temporary': 3221, 'arrests': 3222, 'utility': 3223, 'Strip': 3224, 'bear': 3225, 'includes': 3226, 'Nicole': 3227, 'Roy': 3228, 'door': 3229, 'Ricky': 3230, 'happened': 3231, 'Inter': 3232, 'hike': 3233, 'analyst': 3234, 'Clark': 3235, 'Wood': 3236, 'dismissed': 3237, 'defended': 3238, 'Head': 3239, '85': 3240, 'normal': 3241, 'page': 3242, 'proud': 3243, 'supporting': 3244, '34': 3245, 'trust': 3246, 'focused': 3247, 'retired': 3248, 'waters': 3249, 'Hotel': 3250, 'flying': 3251, 'Benedict': 3252, 'Statistics': 3253, 'Jets': 3254, 'Kolkata': 3255, 'Maria': 3256, 'Body': 3257, 'Lincoln': 3258, 'Philippine': 3259, 'Nicolas': 3260, 'display': 3261, 'pound': 3262, 'flooding': 3263, 'Bristol': 3264, 'LLC': 3265, 'Way': 3266, 'carried': 3267, 'Colombia': 3268, 'century': 3269, 'rocket': 3270, 'remaining': 3271, 'core': 3272, 'LA': 3273, 'employment': 3274, 'Virgin': 3275, 'Over': 3276, 'registered': 3277, 'Networks': 3278, 'hiring': 3279, 'Night': 3280, 'fail': 3281, 'Bruce': 3282, 'suing': 3283, 'feeling': 3284, 'upgraded': 3285, 'Barbara': 3286, 'Ed': 3287, 'cap': 3288, 'Verizon': 3289, 'marry': 3290, 'Storm': 3291, 'Miley': 3292, 'Lawrence': 3293, 'initiative': 3294, 'alliance': 3295, 'Billy': 3296, 'actually': 3297, 'compete': 3298, 'iron': 3299, 'wait': 3300, 'Terry': 3301, 'rail': 3302, 'pipeline': 3303, 'Cardinals': 3304, '10th': 3305, 'cargo': 3306, '72': 3307, 'mental': 3308, 'wild': 3309, 'Indonesian': 3310, 'districts': 3311, 'Liam': 3312, 'produced': 3313, 'accept': 3314, 'emerged': 3315, 'Honda': 3316, 'email': 3317, 'fastest': 3318, 'imports': 3319, 'mostly': 3320, 'vows': 3321, 'Shah': 3322, 'suspicious': 3323, '49': 3324, 'businessman': 3325, 'secured': 3326, 'Station': 3327, 'minute': 3328, 'Mortgage': 3329, 'Girls': 3330, 'slowdown': 3331, 'Hawaii': 3332, 'Chrysler': 3333, '41': 3334, '48': 3335, 'Dublin': 3336, 'Heavy': 3337, 'greater': 3338, 'tie': 3339, '100000': 3340, 'Rights': 3341, 'thing': 3342, 'kidnapping': 3343, 'Mother': 3344, 'faced': 3345, 'restore': 3346, 'plead': 3347, 'euros': 3348, 'prepare': 3349, 'Netherlands': 3350, 'difficult': 3351, 'crowd': 3352, 'accidentally': 3353, 'Bond': 3354, 'Tehran': 3355, 'Alliance': 3356, 'Carter': 3357, 'means': 3358, 'bound': 3359, 'MAN': 3360, 'science': 3361, 'Putin': 3362, '36': 3363, 'Housing': 3364, 'kidnapped': 3365, 'Saint': 3366, 'knife': 3367, 'suspension': 3368, 'Bears': 3369, 'benchmark': 3370, 'kind': 3371, 'image': 3372, 'roster': 3373, 'sister': 3374, 'NASCAR': 3375, 'Cincinnati': 3376, 'allowing': 3377, 'flag': 3378, 'luxury': 3379, 'traditional': 3380, 'reasons': 3381, 'premiere': 3382, 'Dodgers': 3383, 'nations': 3384, 'civilians': 3385, 'violating': 3386, 'Asif': 3387, 'formed': 3388, 'warrant': 3389, 'streak': 3390, 'Emirates': 3391, 'Dick': 3392, 'hero': 3393, 'pitch': 3394, 'edition': 3395, 'march': 3396, 'talking': 3397, 'unions': 3398, '38': 3399, 'Bengal': 3400, 'Bradley': 3401, 'Lama': 3402, 'arson': 3403, 'hires': 3404, 'isn': 3405, 'retiring': 3406, 'adopted': 3407, 'culture': 3408, 'Maoists': 3409, 'influence': 3410, 'defeated': 3411, 'forum': 3412, 'till': 3413, 'producers': 3414, 'blow': 3415, 'longtime': 3416, 'withdraws': 3417, 'southwest': 3418, 'downgraded': 3419, 'Kuwait': 3420, 'condemned': 3421, 'Maine': 3422, 'comprehensive': 3423, 'Aaron': 3424, 'Retail': 3425, 'honoured': 3426, 'phase': 3427, 'meetings': 3428, 'clubs': 3429, 'dozens': 3430, 'wearing': 3431, 'books': 3432, 'unexpectedly': 3433, 'everything': 3434, 'threw': 3435, 'Barclays': 3436, 'Brothers': 3437, 'Science': 3438, 'Earth': 3439, 'entry': 3440, 'halt': 3441, 'shortly': 3442, 'murdered': 3443, 'properties': 3444, 'Researchers': 3445, '37': 3446, 'Roberts': 3447, 'highway': 3448, 'Barry': 3449, 'commander': 3450, 'intelligence': 3451, 'Caribbean': 3452, 'gained': 3453, 'similar': 3454, 'funeral': 3455, 'parent': 3456, 'delivered': 3457, 'Joseph': 3458, 'undergoing': 3459, 'drink': 3460, 'reaching': 3461, 'Aniston': 3462, 'wave': 3463, 'quickly': 3464, 'Mandela': 3465, 'sure': 3466, 'improvement': 3467, 'Manager': 3468, 'Dalai': 3469, 'trailer': 3470, 'Danny': 3471, 'grew': 3472, 'revenues': 3473, 'occurred': 3474, 'racing': 3475, 'landed': 3476, 'anything': 3477, 'promised': 3478, 'Environment': 3479, 'Spring': 3480, 'Parker': 3481, '250': 3482, 'fighter': 3483, 'Alexander': 3484, 'shoots': 3485, 'asset': 3486, 'roll': 3487, 'UFC': 3488, 'Delta': 3489, 'Carl': 3490, 'Nevada': 3491, 'beyond': 3492, 'AM': 3493, 'bars': 3494, 'fixed': 3495, 'pushed': 3496, 'Armenian': 3497, 'Rafael': 3498, 'edge': 3499, 'freedom': 3500, 'risks': 3501, 'seasons': 3502, '1.5': 3503, 'Kerala': 3504, 'ESPN': 3505, 'K': 3506, 'registration': 3507, 'hip': 3508, 'cited': 3509, 'wear': 3510, 'HP': 3511, 'tourist': 3512, 'Nashville': 3513, 'Christina': 3514, 'collaboration': 3515, 'Jobs': 3516, 'Point': 3517, 'Bobby': 3518, 'grants': 3519, 'forthcoming': 3520, 'performed': 3521, 'raping': 3522, 'rich': 3523, 'securities': 3524, '2006': 3525, 'commission': 3526, 'upon': 3527, 'resort': 3528, 'Youth': 3529, 'ball': 3530, 'Casey': 3531, 'currencies': 3532, 'pole': 3533, 'Jammu': 3534, 'ride': 3535, 'playoff': 3536, 'Sarkozy': 3537, 'labor': 3538, 'wreck': 3539, 'cultural': 3540, 'balance': 3541, 'Speaker': 3542, 'reserve': 3543, 'drunken': 3544, 'representative': 3545, 'described': 3546, 'Hilton': 3547, 'Auckland': 3548, 'attention': 3549, 'nominee': 3550, 'cells': 3551, 'interim': 3552, 'exit': 3553, 'dealer': 3554, 'northwest': 3555, 'Medvedev': 3556, 'Indianapolis': 3557, 'standing': 3558, 'Nigerian': 3559, 'swimming': 3560, 'About': 3561, 'restored': 3562, 'dream': 3563, 'Thompson': 3564, 'integrated': 3565, 'seventh': 3566, 'stepping': 3567, 'checks': 3568, 'Montreal': 3569, 'NASA': 3570, 'Dave': 3571, 'table': 3572, '>': 3573, 'broadcast': 3574, 'cable': 3575, 'considers': 3576, 'Prize': 3577, 'Thai': 3578, 'speaks': 3579, 'unchanged': 3580, 'adults': 3581, 'Ferguson': 3582, 'beach': 3583, 'compensation': 3584, 'Civil': 3585, 'Cruise': 3586, 'learning': 3587, 'Matthew': 3588, '700': 3589, 'moment': 3590, 'savings': 3591, 'Sprint': 3592, 'Crude': 3593, 'downturn': 3594, 'dinner': 3595, 'visa': 3596, 'Firefighters': 3597, 'Kerry': 3598, 'Banks': 3599, 'word': 3600, 'maintenance': 3601, 'interested': 3602, 'resignation': 3603, 'Investment': 3604, 'dates': 3605, 'competitive': 3606, 'written': 3607, 'Walker': 3608, 'strongly': 3609, 'lineup': 3610, 'suit': 3611, 'accepted': 3612, 'Lok': 3613, 'Nebraska': 3614, 'clashes': 3615, 'unveil': 3616, 'clinic': 3617, 'Dow': 3618, 'God': 3619, 'Cancer': 3620, 'material': 3621, 'linebacker': 3622, 'undergoes': 3623, 'entering': 3624, 'agreements': 3625, 'Fiji': 3626, 'Arena': 3627, 'score': 3628, 'Annual': 3629, 'establish': 3630, 'camera': 3631, 'Rogers': 3632, 'Hughes': 3633, 'illegally': 3634, 'enhance': 3635, 'Gujarat': 3636, 'celebration': 3637, 'abroad': 3638, 'Gaddafi': 3639, 'fails': 3640, '39': 3641, 'AC': 3642, 'older': 3643, 'scores': 3644, 'During': 3645, 'Duke': 3646, 'sport': 3647, 'Cyprus': 3648, 'crossing': 3649, 'captured': 3650, 'bigger': 3651, 'choice': 3652, 'changing': 3653, 'Fashion': 3654, 'Land': 3655, 'prize': 3656, 'shots': 3657, 'Museum': 3658, 'Wireless': 3659, 'Deutsche': 3660, 'Montana': 3661, 'Fitch': 3662, 'inmate': 3663, 'insisted': 3664, 'FBI': 3665, 'extending': 3666, 'alone': 3667, 'sharing': 3668, 'whole': 3669, 'Reliance': 3670, 'raped': 3671, 'Interstate': 3672, 'responsibility': 3673, 'physical': 3674, 'seize': 3675, 'publicly': 3676, 'Jesse': 3677, '2015': 3678, 'praised': 3679, 'lawyers': 3680, 'Kosovo': 3681, 'measure': 3682, 'Pirates': 3683, 'Kapoor': 3684, 'Chennai': 3685, 'Rob': 3686, 'Malik': 3687, 'upset': 3688, 'boxing': 3689, 'hair': 3690, 'exploration': 3691, 'Kingdom': 3692, 'Grant': 3693, 'intends': 3694, 'puts': 3695, 'conviction': 3696, 'Pat': 3697, 'Project': 3698, 'earned': 3699, 'cruise': 3700, 'names': 3701, 'Commonwealth': 3702, 'Poland': 3703, 'reporter': 3704, 'Evans': 3705, 'Opposition': 3706, '55': 3707, 'trees': 3708, 'Graham': 3709, 'restrictions': 3710, 'Saints': 3711, 'tablet': 3712, 'tropical': 3713, 'demanded': 3714, 'witnesses': 3715, 'prove': 3716, 'knocked': 3717, 'independence': 3718, 'Watson': 3719, 'marks': 3720, 'Schools': 3721, 'Rome': 3722, 'sparked': 3723, 'recalling': 3724, 'Mount': 3725, 'Cowboys': 3726, 'copper': 3727, 'Sunderland': 3728, 'Islamabad': 3729, 'Mets': 3730, 'Markets': 3731, 'era': 3732, 'Patriots': 3733, 'hedge': 3734, 'Jamie': 3735, 'Agriculture': 3736, 'Fla': 3737, 'Last': 3738, 'Mar': 3739, 'saved': 3740, 'everyone': 3741, 'Federation': 3742, 'tries': 3743, 'presents': 3744, 'Village': 3745, 'withdraw': 3746, 'directed': 3747, 'throwing': 3748, 'rallied': 3749, 'passing': 3750, 'Aston': 3751, '66': 3752, 'port': 3753, 'Raza': 3754, 'quite': 3755, 'easy': 3756, 'Lance': 3757, 'Lakers': 3758, 'Collins': 3759, 'Kanye': 3760, 'Vladimir': 3761, 'probably': 3762, 'alternative': 3763, 'reopened': 3764, 'marking': 3765, 'idea': 3766, 'taxi': 3767, 'accepting': 3768, 'collapse': 3769, 'operators': 3770, 'Can': 3771, 'Swift': 3772, 'Baghdad': 3773, 'athletes': 3774, 'accuses': 3775, 'opportunity': 3776, 'misdemeanor': 3777, 'talent': 3778, 'Chiefs': 3779, 'pledged': 3780, 'firing': 3781, 'prepared': 3782, 'technologies': 3783, 'demanding': 3784, 'Reid': 3785, 'Ashley': 3786, 'lender': 3787, 'keen': 3788, 'Fair': 3789, 'increasingly': 3790, 'rookie': 3791, 'interests': 3792, 'quits': 3793, 'endorses': 3794, 'defending': 3795, 'rapper': 3796, 'crack': 3797, 'Gates': 3798, 'highs': 3799, 'Bulls': 3800, 'prominent': 3801, 'bat': 3802, 'infection': 3803, 'determined': 3804, 'struggle': 3805, 'hear': 3806, 'modern': 3807, 'episode': 3808, 'Ross': 3809, 'salary': 3810, '3000': 3811, 'reopen': 3812, 'burned': 3813, 'affect': 3814, 'wrote': 3815, 'Brandon': 3816, 'sides': 3817, 'powers': 3818, 'computers': 3819, 'advantage': 3820, 'centers': 3821, 'AFP': 3822, 'Chile': 3823, 'fish': 3824, 'reason': 3825, 'sustained': 3826, 'unique': 3827, 'Colombian': 3828, 'takeover': 3829, 'Several': 3830, 'Under': 3831, 'Qantas': 3832, 'link': 3833, 'Raiders': 3834, 'Bachchan': 3835, 'served': 3836, 'freed': 3837, 'tornado': 3838, 'provincial': 3839, 'organizations': 3840, 'included': 3841, 'deputies': 3842, 'Romania': 3843, 'Salman': 3844, 'rains': 3845, 'speaking': 3846, 'rejects': 3847, 'Ex': 3848, 'stress': 3849, 'encounter': 3850, 'conspiracy': 3851, 'Larry': 3852, 'association': 3853, 'pleased': 3854, 'Greg': 3855, 'electronics': 3856, 'starring': 3857, 'Coach': 3858, 'drought': 3859, '47': 3860, 'brands': 3861, 'Twenty20': 3862, 'winger': 3863, 'controversy': 3864, 'weapon': 3865, 'FA': 3866, 'Leeds': 3867, 'Kyle': 3868, 'materials': 3869, 'edged': 3870, 'Zuma': 3871, '800': 3872, 'drilling': 3873, '67': 3874, '62': 3875, 'familiar': 3876, 'FIFA': 3877, 'Class': 3878, 'sectors': 3879, 'classic': 3880, 'backs': 3881, 'releasing': 3882, 'houses': 3883, 'fitness': 3884, 'Sky': 3885, 'triple': 3886, 'classes': 3887, 'McCartney': 3888, 'Shane': 3889, 'pedestrian': 3890, 'authority': 3891, 'promises': 3892, 'Murphy': 3893, 'III': 3894, 'silver': 3895, 'dealing': 3896, 'Gilani': 3897, 'commodity': 3898, '68': 3899, 'monetary': 3900, 'tensions': 3901, 'label': 3902, 'pushing': 3903, 'coffee': 3904, 'appeals': 3905, 'recording': 3906, 'Cubs': 3907, 'Motorola': 3908, 'knowledge': 3909, 'respect': 3910, 'direction': 3911, 'original': 3912, 'Holmes': 3913, 'Keith': 3914, 'Hugo': 3915, 'promoted': 3916, 'Kenny': 3917, '76': 3918, 'IMF': 3919, 'quoted': 3920, 'innovative': 3921, 'ranks': 3922, 'outfielder': 3923, 'saving': 3924, 'Emergency': 3925, 'allows': 3926, 'plastic': 3927, 'employers': 3928, 'Jeremy': 3929, 'leak': 3930, 'square': 3931, 'discovery': 3932, 'providers': 3933, 'Harper': 3934, 'stadium': 3935, 'abortion': 3936, 'attacking': 3937, 'Congressman': 3938, 'established': 3939, 'worse': 3940, 'guidance': 3941, 'Ahmadinejad': 3942, 'Bell': 3943, 'executives': 3944, 'Pete': 3945, 'dropping': 3946, 'diesel': 3947, 'limits': 3948, '64': 3949, 'Kris': 3950, 'neck': 3951, 'Perth': 3952, 'controlled': 3953, 'coordinator': 3954, 'profile': 3955, 'critically': 3956, 'forcing': 3957, 'Brother': 3958, 'firefighter': 3959, 'Hampshire': 3960, 'resolve': 3961, 'worries': 3962, 'milestone': 3963, 'endorsed': 3964, 'crashing': 3965, 'Roman': 3966, 'imposed': 3967, 'size': 3968, 'walking': 3969, '58': 3970, 'prepares': 3971, 'shipping': 3972, 'Second': 3973, 'Silver': 3974, 'sues': 3975, 'visitors': 3976, 'lakh': 3977, 'elementary': 3978, 'PC': 3979, 'eighth': 3980, 'Julia': 3981, 'Tyler': 3982, 'Capitol': 3983, 'Election': 3984, 'Lebanese': 3985, 'goalkeeper': 3986, 'withdrawn': 3987, 'streaming': 3988, '82': 3989, 'Electric': 3990, 'Up': 3991, 'Latin': 3992, 'resistance': 3993, 'Cairo': 3994, 'trucks': 3995, 'wall': 3996, 'Electronics': 3997, 'Nationals': 3998, 'driven': 3999, 'humanitarian': 4000, 'rebound': 4001, 'Ian': 4002, 'senator': 4003, 'icon': 4004, 'minimum': 4005, 'fly': 4006, 'http': 4007, 'Jonathan': 4008, 'stranded': 4009, 'permanent': 4010, 'tracking': 4011, 'gift': 4012, 'Kent': 4013, 'Douglas': 4014, 'jets': 4015, 'awaited': 4016, 'coaching': 4017, 'Jerusalem': 4018, 'refuses': 4019, 'crackdown': 4020, 'Memphis': 4021, 'Jacksonville': 4022, 'vaccine': 4023, 'rollover': 4024, 'Transport': 4025, 'Citigroup': 4026, 'Indies': 4027, 'alongside': 4028, 'fleet': 4029, 'retailers': 4030, 'Safety': 4031, 'assignment': 4032, 'railway': 4033, 'Child': 4034, 'MPs': 4035, 'workforce': 4036, 'Rochester': 4037, 'faster': 4038, 'regulators': 4039, 'injuring': 4040, 'routes': 4041, '#': 4042, 'Lord': 4043, 'stability': 4044, 'thinks': 4045, 'ability': 4046, 'BlackBerry': 4047, 'Berlusconi': 4048, 'buyers': 4049, 'associated': 4050, 'Ottawa': 4051, 'resumed': 4052, 'Karnataka': 4053, 'lands': 4054, 'required': 4055, 'networks': 4056, 'MTV': 4057, 'Anti': 4058, 'sugar': 4059, 'bans': 4060, 'stands': 4061, 'Presidential': 4062, 'inquiry': 4063, 'asylum': 4064, 'attempting': 4065, 'mind': 4066, 'surge': 4067, 'retires': 4068, 'thrown': 4069, 'picks': 4070, 'Munich': 4071, 'article': 4072, 'write': 4073, 'unlikely': 4074, 'pilots': 4075, 'internal': 4076, 'NC': 4077, 'significantly': 4078, 'Mukherjee': 4079, 'prior': 4080, 'tools': 4081, 'Sep': 4082, 'telecom': 4083, 'Liberty': 4084, 'structure': 4085, 'publisher': 4086, 'Julian': 4087, 'Mahmoud': 4088, 'smart': 4089, 'remarks': 4090, 'selection': 4091, 'Warriors': 4092, 'prescription': 4093, 'Iron': 4094, 'analysis': 4095, 'links': 4096, 'hole': 4097, 'Adams': 4098, 'judicial': 4099, 'Muslims': 4100, 'Vikings': 4101, 'dramatic': 4102, 'boosted': 4103, 'Vatican': 4104, 'marked': 4105, 'Your': 4106, 'Rachel': 4107, 'appointment': 4108, 'DUI': 4109, 'Mario': 4110, 'gaming': 4111, 'finding': 4112, 'picture': 4113, 'expenses': 4114, 'practices': 4115, 'Assad': 4116, 'limit': 4117, 'torn': 4118, 'Rose': 4119, 'anticipated': 4120, 'proposals': 4121, 'Braves': 4122, 'possibility': 4123, 'memorial': 4124, 'reveal': 4125, 'trouble': 4126, 'commits': 4127, 'Student': 4128, 'toddler': 4129, 'Abdullah': 4130, 'Georgian': 4131, 'Wright': 4132, 'addition': 4133, 'potentially': 4134, 'favourite': 4135, '63': 4136, 'Mubarak': 4137, 'blog': 4138, 'spokeswoman': 4139, 'tsunami': 4140, '56': 4141, 'watching': 4142, 'sponsor': 4143, 'Sacramento': 4144, '51': 4145, '3D': 4146, 'either': 4147, 'Eddie': 4148, 'counter': 4149, 'lung': 4150, 'Karzai': 4151, 'Bihar': 4152, 'character': 4153, 'tank': 4154, 'cancel': 4155, 'upgrade': 4156, 'Baby': 4157, 'Grammy': 4158, 'declines': 4159, 'Gomez': 4160, 'Tendulkar': 4161, 'volunteers': 4162, 'Brett': 4163, 'reduction': 4164, 'managers': 4165, 'wing': 4166, 'Circuit': 4167, 'wage': 4168, 'veterans': 4169, 'Juan': 4170, 'treat': 4171, 'rolled': 4172, 'photos': 4173, 'Dell': 4174, 'writes': 4175, 'bombing': 4176, 'membership': 4177, 'Natural': 4178, 'eurozone': 4179, 'Jean': 4180, 'donated': 4181, 'promoting': 4182, 'Celtic': 4183, 'replaced': 4184, '69': 4185, 'minority': 4186, 'uses': 4187, 'underwent': 4188, 'diabetes': 4189, 'skills': 4190, 'Broncos': 4191, 'Racing': 4192, '74': 4193, 'walked': 4194, 'PTI': 4195, 'forest': 4196, '44': 4197, 'twins': 4198, 'bike': 4199, 'assist': 4200, 'Eight': 4201, 'tribal': 4202, 'Marshall': 4203, 'Budget': 4204, 'Nadal': 4205, 'Pak': 4206, 'memory': 4207, 'Residents': 4208, 'Solutions': 4209, 'supported': 4210, 'implement': 4211, 'Tribune': 4212, 'hander': 4213, 'Forum': 4214, 'Arnold': 4215, 'fun': 4216, 'involvement': 4217, 'Chidambaram': 4218, 'discrimination': 4219, 'Jefferson': 4220, '43': 4221, 'register': 4222, 'Art': 4223, 'affair': 4224, 'apply': 4225, 'crucial': 4226, 'Middleton': 4227, 'beauty': 4228, 'GM': 4229, 'Jazz': 4230, '50000': 4231, 'pub': 4232, 'Grove': 4233, 'Care': 4234, 'Mass': 4235, 'depression': 4236, 'Soccer': 4237, 'concussion': 4238, 'Bloomberg': 4239, 'efficiency': 4240, 'telling': 4241, 'Fisher': 4242, 'guest': 4243, 'Nine': 4244, 'congressional': 4245, 'affairs': 4246, 'monitoring': 4247, 'conservative': 4248, 'Assange': 4249, 'someone': 4250, 'commissioner': 4251, 'producing': 4252, 'individual': 4253, 'Brisbane': 4254, 'heavyweight': 4255, '50th': 4256, 'Video': 4257, 'Derby': 4258, 'loves': 4259, 'proposes': 4260, 'Costa': 4261, 'Royals': 4262, 'throws': 4263, 'pending': 4264, 'solo': 4265, '46': 4266, 'stops': 4267, 'Delaware': 4268, 'bomber': 4269, 'Dolphins': 4270, 'Liberal': 4271, '54': 4272, 'Industrial': 4273, 'Idaho': 4274, 'Southwest': 4275, 'tanker': 4276, 'Rajasthan': 4277, 'hopeful': 4278, 'Knight': 4279, 'regulatory': 4280, 'Modi': 4281, 'prospects': 4282, 'abusing': 4283, 'grade': 4284, 'catches': 4285, 'resumes': 4286, 'pulls': 4287, 'count': 4288, 'holidays': 4289, 'Jacob': 4290, 'Abdul': 4291, 'regions': 4292, 'politicians': 4293, 'weakened': 4294, 'poised': 4295, 'tracks': 4296, 'section': 4297, 'Library': 4298, 'branded': 4299, 'Yemeni': 4300, 'Celtics': 4301, 'Cloud': 4302, 'Solar': 4303, 'roof': 4304, 'Rodriguez': 4305, 'L': 4306, 'blame': 4307, 'Ronaldo': 4308, 'lying': 4309, 'Death': 4310, 'Marc': 4311, 'transaction': 4312, 'austerity': 4313, 'legislative': 4314, 'animals': 4315, 'Bryant': 4316, 'revised': 4317, 'Auburn': 4318, 'string': 4319, 'hailed': 4320, 'Tommy': 4321, 'Islam': 4322, 'settled': 4323, 'Carey': 4324, 'qualifying': 4325, 'Ten': 4326, 'advice': 4327, 'Records': 4328, 'buried': 4329, 'forecasts': 4330, 'Ted': 4331, 'Independent': 4332, 'G': 4333, 'northeast': 4334, 'Diamond': 4335, 'cameras': 4336, 'skin': 4337, 'standard': 4338, '11th': 4339, 'featured': 4340, 'updated': 4341, 'closure': 4342, 'outbreak': 4343, 'Rooney': 4344, 'Islands': 4345, 'pit': 4346, 'Salem': 4347, 'seats': 4348, 'Montgomery': 4349, 'strip': 4350, 'envoy': 4351, 'AFL': 4352, 'Adelaide': 4353, 'tool': 4354, 'Airbus': 4355, 'Springfield': 4356, 'Triple': 4357, 'storms': 4358, 'manage': 4359, 'locations': 4360, 'slipped': 4361, 'path': 4362, 'Palace': 4363, 'Everton': 4364, 'Garden': 4365, 'Bangalore': 4366, 'Ken': 4367, 'messages': 4368, 'HTC': 4369, 'commerce': 4370, 'discharged': 4371, 'bag': 4372, 'eating': 4373, 'versus': 4374, 'petrol': 4375, 'Syed': 4376, 'eased': 4377, 'Our': 4378, 'feared': 4379, 'Haryana': 4380, 'user': 4381, 'trapped': 4382, 'Digital': 4383, 'Robbie': 4384, 'Richmond': 4385, 'ore': 4386, 'Ann': 4387, 'shuttle': 4388, 'Venezuelan': 4389, 'Trophy': 4390, 'teens': 4391, 'WikiLeaks': 4392, 'urging': 4393, '71': 4394, 'Donald': 4395, 'lady': 4396, 'waivers': 4397, 'forms': 4398, 'Fernando': 4399, 'immigrants': 4400, 'Phillips': 4401, 'Brussels': 4402, 'representatives': 4403, 'Susan': 4404, 'overhaul': 4405, 'junior': 4406, 'tops': 4407, 'creative': 4408, 'innings': 4409, '83': 4410, '20th': 4411, 'sleep': 4412, 'operate': 4413, 'Golf': 4414, 'courts': 4415, 'confirm': 4416, 'voluntary': 4417, 'stepped': 4418, 'chosen': 4419, 'earn': 4420, 'NHS': 4421, 'surrounding': 4422, 'Not': 4423, 'slip': 4424, 'praises': 4425, 'drowns': 4426, 'favorite': 4427, 'agriculture': 4428, 'Lil': 4429, '52': 4430, 'economies': 4431, 'tech': 4432, 'Heart': 4433, 'shareholder': 4434, '73': 4435, 'Chase': 4436, '53': 4437, 'billions': 4438, '77': 4439, 'dry': 4440, 'lenders': 4441, 'suspend': 4442, 'danger': 4443, 'reserves': 4444, 'photographer': 4445, 'investigated': 4446, 'attempts': 4447, 'answer': 4448, '86': 4449, 'approve': 4450, 'industries': 4451, 'integration': 4452, 'virtual': 4453, 'acts': 4454, 'BMW': 4455, 'Nobel': 4456, 'seed': 4457, 'Portsmouth': 4458, 'particularly': 4459, 'Cambridge': 4460, 'adopt': 4461, 'effects': 4462, 'shock': 4463, 'improves': 4464, 'Ravens': 4465, 'condemns': 4466, 'Third': 4467, 'Line': 4468, 'drone': 4469, 'Bayern': 4470, 'investigators': 4471, 'opinion': 4472, 'advised': 4473, 'smartphones': 4474, 'Friends': 4475, 'shift': 4476, 'gap': 4477, 'slammed': 4478, 'Store': 4479, 'Gibson': 4480, 'inducted': 4481, 'refusing': 4482, 'vessel': 4483, 'kidney': 4484, 'priority': 4485, 'APA': 4486, 'keeps': 4487, 'acres': 4488, 'followed': 4489, 'Mugabe': 4490, 'mean': 4491, 'seeing': 4492, 'adult': 4493, 'reducing': 4494, 'read': 4495, 'DJ': 4496, 'Muhammad': 4497, 'witness': 4498, 'prostate': 4499, 'Mason': 4500, 'Sex': 4501, 'Legislature': 4502, 'actions': 4503, 'restaurants': 4504, 'prospect': 4505, 'races': 4506, 'baseman': 4507, 'apologized': 4508, 'Berlin': 4509, 'Main': 4510, 'CBI': 4511, 'softball': 4512, 'Pervez': 4513, 'citizen': 4514, 'porn': 4515, 'managing': 4516, 'counterpart': 4517, 'Elementary': 4518, 'Randy': 4519, 'Strauss': 4520, 'prostitution': 4521, 'Nissan': 4522, 'Max': 4523, 'volume': 4524, 'drove': 4525, 'piece': 4526, 'Wellington': 4527, 'governments': 4528, 'blasts': 4529, 'dozen': 4530, 'Sachin': 4531, 'hunting': 4532, 'songs': 4533, 'View': 4534, 'respond': 4535, 'newest': 4536, '61': 4537, 'Phillies': 4538, 'Xinhua': 4539, 'topped': 4540, '120': 4541, 'disappointing': 4542, 'riding': 4543, 'remote': 4544, 'casino': 4545, 'mutual': 4546, 'cruelty': 4547, 'Amanda': 4548, 'sustainable': 4549, 'possibly': 4550, 'airlines': 4551, 'type': 4552, 'metals': 4553, 'inning': 4554, '57': 4555, 'innovation': 4556, 'Reports': 4557, 'privacy': 4558, 'Clarke': 4559, 'emissions': 4560, 'licence': 4561, 'ownership': 4562, 'brief': 4563, 'anyone': 4564, 'Dame': 4565, 'Region': 4566, 'adviser': 4567, 'arts': 4568, 'attract': 4569, 'De': 4570, 'Bernard': 4571, 'concerned': 4572, 'recognized': 4573, 'Jake': 4574, 'Lane': 4575, 'Seoul': 4576, 'concluded': 4577, 'bone': 4578, 'Steelers': 4579, 'ships': 4580, 'skipper': 4581, 'Half': 4582, 'rebel': 4583, 'Freedom': 4584, 'jobless': 4585, 'audience': 4586, 'momentum': 4587, 'Somalia': 4588, 'Merkel': 4589, 'recycling': 4590, 'titled': 4591, 'enjoy': 4592, 'Schwarzenegger': 4593, 'Vodafone': 4594, 'lows': 4595, 'Serbian': 4596, 'standoff': 4597, 'Redskins': 4598, 'hub': 4599, 'pregnancy': 4600, 'Browns': 4601, 'library': 4602, 'equities': 4603, 'Baku': 4604, 'transplant': 4605, 'Louisville': 4606, 'Rapper': 4607, 'switch': 4608, 'websites': 4609, 'prosecutor': 4610, 'regulations': 4611, 'crowned': 4612, 'papers': 4613, 'surplus': 4614, 'unknown': 4615, 'Petroleum': 4616, 'accidents': 4617, 'machine': 4618, 'transportation': 4619, 'Emma': 4620, 'Robinson': 4621, 'Maharashtra': 4622, 'billionaire': 4623, 'species': 4624, 'sacked': 4625, 'Ferrari': 4626, 'F': 4627, 'guide': 4628, 'System': 4629, '95': 4630, 'milk': 4631, 'Military': 4632, 'militant': 4633, 'necessary': 4634, 'shed': 4635, 'Baldwin': 4636, 'abandoned': 4637, 'Ham': 4638, 'hate': 4639, 'task': 4640, 'Chancellor': 4641, 'recognition': 4642, 'youths': 4643, 'championships': 4644, 'completely': 4645, 'Easter': 4646, 'Owen': 4647, 'Directors': 4648, 'warming': 4649, 'Rahul': 4650, 'beef': 4651, 'Monroe': 4652, 'Roberto': 4653, 'sing': 4654, 'Mel': 4655, 'slowed': 4656, 'lawmaker': 4657, 'Portugal': 4658, 'subject': 4659, 'Osbourne': 4660, 'Wenger': 4661, 'hanging': 4662, 'select': 4663, 'Ashton': 4664, 'rolls': 4665, 'reading': 4666, 'spokesperson': 4667, 'suffer': 4668, 'nightclub': 4669, 'celebrations': 4670, 'Laden': 4671, 'Whitney': 4672, 'labour': 4673, 'Eve': 4674, 'identify': 4675, 'Heidi': 4676, 'code': 4677, 'poverty': 4678, 'offences': 4679, 'Crown': 4680, 'Sheikh': 4681, 'charter': 4682, 'garden': 4683, 'Eagle': 4684, 'resource': 4685, 'Drew': 4686, 'Organization': 4687, 'sound': 4688, 'text': 4689, 'oldest': 4690, 'consumption': 4691, 'bottom': 4692, 'blaze': 4693, 'Number': 4694, 'discussed': 4695, '59': 4696, 'complaints': 4697, 'Cook': 4698, 'Only': 4699, 'Driver': 4700, 'Xbox': 4701, 'underway': 4702, 'easing': 4703, 'Anne': 4704, 'clothing': 4705, 'Fed': 4706, 'refinery': 4707, 'winners': 4708, 'models': 4709, 'throw': 4710, 'HIV': 4711, 'affordable': 4712, 'Tropical': 4713, 'Lily': 4714, 'behaviour': 4715, 'temperatures': 4716, 'aviation': 4717, 'Where': 4718, 'brothers': 4719, 'scrap': 4720, 'peaceful': 4721, 'Parish': 4722, 'Monetary': 4723, 'Timberlake': 4724, 'Suzuki': 4725, 'Wild': 4726, 'writing': 4727, 'convention': 4728, 'wine': 4729, 'Christie': 4730, 'H1N1': 4731, 'doping': 4732, 'refinance': 4733, 'hunger': 4734, 'Property': 4735, 'democratic': 4736, 'robberies': 4737, 'Potter': 4738, 'catch': 4739, 'professor': 4740, 'tea': 4741, 'defeats': 4742, 'Pentagon': 4743, 'overcome': 4744, 'NJ': 4745, 'Hyderabad': 4746, 'channels': 4747, 'rice': 4748, 'Juventus': 4749, 'Building': 4750, 'ANC': 4751, 'Moss': 4752, 'observed': 4753, 'trials': 4754, 'principal': 4755, 'roles': 4756, 'PGA': 4757, 'Athens': 4758, 'Television': 4759, 'Blues': 4760, 'makers': 4761, 'rebounds': 4762, 'Mart': 4763, 'slump': 4764, 'landmark': 4765, 'Camp': 4766, 'Nadu': 4767, 'magnitude': 4768, 'Norway': 4769, 'Del': 4770, 'Edmonton': 4771, 'Report': 4772, 'exposure': 4773, 'mountain': 4774, 'spoke': 4775, 'client': 4776, 'Nintendo': 4777, 'misses': 4778, 'stuck': 4779, 'apologizes': 4780, 'apology': 4781, 'finger': 4782, 'aggravated': 4783, 'pharmaceutical': 4784, 'absence': 4785, '81': 4786, 'sovereign': 4787, 'sue': 4788, 'warn': 4789, 'larger': 4790, 'predicted': 4791, 'uncertainty': 4792, 'unrest': 4793, 'Martinez': 4794, 'guards': 4795, 'rush': 4796, '1500': 4797, 'HSBC': 4798, '12th': 4799, 'fields': 4800, 'Peru': 4801, 'viewers': 4802, 'swept': 4803, 'Dennis': 4804, 'Thanksgiving': 4805, 'Dmitry': 4806, 'Rice': 4807, 'Karachi': 4808, 'politician': 4809, 'Nation': 4810, 'fares': 4811, 'initiatives': 4812, 'locked': 4813, 'attending': 4814, 'Bills': 4815, 'unidentified': 4816, 'Reds': 4817, 'blue': 4818, 'Mall': 4819, 'promising': 4820, 'mall': 4821, '1st': 4822, 'determine': 4823, 'Belgium': 4824, 'Hamid': 4825, 'Globe': 4826, 'Heights': 4827, 'refugees': 4828, 'Spencer': 4829, 'slide': 4830, 'twin': 4831, 'inspired': 4832, 'Netanyahu': 4833, 'Selena': 4834, 'Lovato': 4835, 'Crystal': 4836, 'destroys': 4837, 'donates': 4838, 'renewable': 4839, 'Economy': 4840, 'odds': 4841, 'Congressional': 4842, '91': 4843, 'Finland': 4844, 'aide': 4845, 'installed': 4846, 'chest': 4847, 'steal': 4848, 'planes': 4849, 'Mills': 4850, 'clothes': 4851, 'disputed': 4852, 'aggressive': 4853, 'greatest': 4854, 'Heath': 4855, 'contractor': 4856, 'comment': 4857, 'burn': 4858, 'scenes': 4859, 'suggesting': 4860, 'drawing': 4861, 'plunged': 4862, 'Side': 4863, 'accusing': 4864, 'Omaha': 4865, 'chances': 4866, 'Championships': 4867, 'purchases': 4868, 'computing': 4869, 'violation': 4870, 'Todd': 4871, 'quoting': 4872, 'Suu': 4873, 'Kyi': 4874, 'watched': 4875, 'presidency': 4876, 'Abbas': 4877, 'peak': 4878, 'slams': 4879, 'creation': 4880, 'lake': 4881, 'importance': 4882, 'novel': 4883, 'Teen': 4884, 'hostage': 4885, 'Sharif': 4886, 'Minneapolis': 4887, 'midnight': 4888, 'Convention': 4889, 'misconduct': 4890, 'honour': 4891, 'vital': 4892, 'slashed': 4893, 'nearby': 4894, 'Polish': 4895, 'fewer': 4896, 'Nancy': 4897, 'Blake': 4898, 'Peace': 4899, 'patrol': 4900, 'briefly': 4901, 'pickup': 4902, 'Summit': 4903, 'Francis': 4904, 'looked': 4905, 'Healthcare': 4906, 'Heat': 4907, 'floods': 4908, 'slash': 4909, 'beer': 4910, 'Gen': 4911, 'welfare': 4912, 'Norman': 4913, 'branches': 4914, 'fled': 4915, 'upgrades': 4916, 'metro': 4917, 'PLC': 4918, 'Jays': 4919, 'Pacquiao': 4920, '2005': 4921, 'Gillard': 4922, 'completion': 4923, 'suburban': 4924, 'Oracle': 4925, 'Hu': 4926, 'exploded': 4927, 'shared': 4928, 'ambulance': 4929, 'garage': 4930, 'solid': 4931, 'Federer': 4932, 'Lynch': 4933, 'Elton': 4934, 'Uttar': 4935, 'argument': 4936, 'Sandy': 4937, 'naval': 4938, 'borrowing': 4939, 'individuals': 4940, 'maximum': 4941, 'Jesus': 4942, 'estranged': 4943, 'Rapids': 4944, 'Rupee': 4945, 'inquest': 4946, 'Glasgow': 4947, 'chip': 4948, 'decisions': 4949, 'attended': 4950, 'pricing': 4951, 'constitution': 4952, 'collided': 4953, 'performs': 4954, 'blocked': 4955, 'trades': 4956, 'Datuk': 4957, 'Aviation': 4958, 'Province': 4959, 'cat': 4960, 'robbing': 4961, '100th': 4962, 'Mars': 4963, 'permits': 4964, 'Forces': 4965, 'regulator': 4966, 'Plc': 4967, 'hunt': 4968, 'exposed': 4969, 'evacuation': 4970, 'Murdoch': 4971, 'gasoline': 4972, 'doubles': 4973, '900': 4974, 'scoring': 4975, 'covering': 4976, 'rallies': 4977, 'directly': 4978, 'contain': 4979, 'Sonia': 4980, 'upper': 4981, 'Money': 4982, 'wire': 4983, 'watchdog': 4984, 'Mahindra': 4985, 'Denmark': 4986, 'Luke': 4987, 'babies': 4988, 'Bolton': 4989, 'sub': 4990, 'Legendary': 4991, 'Colin': 4992, 'declining': 4993, 'automotive': 4994, 'detention': 4995, 'Johannesburg': 4996, 'Coal': 4997, 'discussion': 4998, 'Titans': 4999, 'fighters': 5000, 'advances': 5001, 'parade': 5002, 'guitarist': 5003, 'Magic': 5004, 'wish': 5005, 'centres': 5006, '@': 5007, 'definitely': 5008, 'volatile': 5009, 'aboard': 5010, 'Packers': 5011, 'naked': 5012, 'filmmaker': 5013, 'king': 5014, 'unable': 5015, 'requirements': 5016, 'Route': 5017, 'designated': 5018, 'transition': 5019, 'wholesale': 5020, 'frontman': 5021, 'words': 5022, 'coaches': 5023, 'plus': 5024, 'deposit': 5025, 'Transportation': 5026, 'Mitchell': 5027, 'cycling': 5028, 'foreclosure': 5029, 'Pranab': 5030, 'wounds': 5031, 'Orioles': 5032, 'editor': 5033, 'achieved': 5034, 'supermarket': 5035, 'screening': 5036, 'Emmy': 5037, 'UBS': 5038, 'freeze': 5039, 'elbow': 5040, 'lucky': 5041, 'honorary': 5042, 'Rupert': 5043, 'pilgrims': 5044, 'Tibetan': 5045, 'PlayStation': 5046, 'widespread': 5047, 'Travel': 5048, 'Wimbledon': 5049, 'Argentine': 5050, 'gather': 5051, 'pleading': 5052, 'Jet': 5053, 'terminal': 5054, 'Many': 5055, 'crunch': 5056, 'Magazine': 5057, 'motor': 5058, 'quick': 5059, 'lived': 5060, 'offset': 5061, 'wheat': 5062, 'sense': 5063, 'mile': 5064, 'XVI': 5065, 'privately': 5066, 'Abbott': 5067, 'H': 5068, 'damages': 5069, 'eat': 5070, 'easily': 5071, 'values': 5072, 'studies': 5073, 'invitation': 5074, 'staged': 5075, 'broad': 5076, 'smaller': 5077, 'feed': 5078, 'chart': 5079, 'parks': 5080, 'legendary': 5081, 'Leon': 5082, 'blocks': 5083, 'meat': 5084, 'agricultural': 5085, 'cyclist': 5086, 'moderate': 5087, 'Harrison': 5088, 'harassment': 5089, 'Sharks': 5090, 'sick': 5091, 'operational': 5092, 'Quinn': 5093, 'Environmental': 5094, 'shops': 5095, 'Castro': 5096, 'wealth': 5097, 'defenseman': 5098, 'dark': 5099, 'guns': 5100, 'Sharma': 5101, 'Morning': 5102, 'Marathon': 5103, 'flagship': 5104, 'disclosed': 5105, 'outfit': 5106, 'Gallagher': 5107, 'developers': 5108, 'Siemens': 5109, 'Calgary': 5110, 'Wichita': 5111, 'abducted': 5112, 'Blair': 5113, 'boats': 5114, 'diplomats': 5115, 'commit': 5116, 'Guy': 5117, 'diplomat': 5118, '78': 5119, 'replacing': 5120, 'WWE': 5121, 'southeast': 5122, 'zero': 5123, 'Ahmed': 5124, 'definitive': 5125, '2004': 5126, 'charging': 5127, 'Electronic': 5128, 'End': 5129, 'Myers': 5130, 'Seahawks': 5131, 'worried': 5132, 'convenience': 5133, 'bounce': 5134, 'climbed': 5135, 'Heritage': 5136, 'artists': 5137, 'affiliate': 5138, 'Moody': 5139, 'downgrades': 5140, 'survived': 5141, '88': 5142, 'Early': 5143, 'smuggling': 5144, '84': 5145, 'teaching': 5146, 'Rand': 5147, 'petition': 5148, 'Bernanke': 5149, 'Brooklyn': 5150, 'Chad': 5151, 'Lloyd': 5152, 'fundraising': 5153, 'pneumonia': 5154, 'Boyle': 5155, 'closely': 5156, 'Armed': 5157, 'ethnic': 5158, 'plot': 5159, 'workshop': 5160, 'Me': 5161, 'Superior': 5162, 'Canadians': 5163, 'communication': 5164, 'jumps': 5165, 'Angels': 5166, 'Sport': 5167, 'wages': 5168, 'valued': 5169, 'trail': 5170, 'commodities': 5171, 'boycott': 5172, 'accepts': 5173, 'hasn': 5174, 'preseason': 5175, 'Newton': 5176, 'crushed': 5177, 'submitted': 5178, 'clinical': 5179, 'arbitration': 5180, 'fill': 5181, 'Program': 5182, 'Light': 5183, 'permission': 5184, 'reopens': 5185, 'scare': 5186, 'endorse': 5187, 'automaker': 5188, 'liquor': 5189, 'burns': 5190, 'civilian': 5191, 'unpaid': 5192, 'prisoner': 5193, 'titles': 5194, 'bags': 5195, 'surged': 5196, 'Protection': 5197, 'unanimously': 5198, 'administrative': 5199, 'scientific': 5200, 'faith': 5201, 'Data': 5202, 'ceasefire': 5203, 'wasn': 5204, 'gathered': 5205, 'Manhattan': 5206, 'Romanian': 5207, 'Z': 5208, 'capture': 5209, 'U': 5210, 'inmates': 5211, 'deposits': 5212, 'broadcaster': 5213, 'uranium': 5214, 'Conservative': 5215, 'Snow': 5216, 'Marcus': 5217, 'tower': 5218, 'Hull': 5219, 'executed': 5220, 'Unemployment': 5221, 'Farm': 5222, 'shelter': 5223, 'Sciences': 5224, 'Transit': 5225, 'escapes': 5226, 'collapses': 5227, 'outdoor': 5228, 'pet': 5229, 'Beverly': 5230, 'stream': 5231, 'bull': 5232, 'premium': 5233, 'acquitted': 5234, 'Wal': 5235, 'telephone': 5236, 'responding': 5237, 'slowing': 5238, 'documentary': 5239, 'placement': 5240, 'backing': 5241, 'ninth': 5242, 'playoffs': 5243, 'Enterprise': 5244, 'evasion': 5245, 'questioned': 5246, 'Mohammed': 5247, 'aside': 5248, 'triggered': 5249, 'Pharmaceuticals': 5250, 'Aberdeen': 5251, 'Jong': 5252, 'eliminate': 5253, 'Jonas': 5254, 'Sanchez': 5255, 'Blackburn': 5256, 'responded': 5257, 'decrease': 5258, 'destination': 5259, 'fought': 5260, 'Ericsson': 5261, 'eyes': 5262, 'inaugural': 5263, 'Alberta': 5264, 'tape': 5265, 'grocery': 5266, 'Christopher': 5267, 'Rod': 5268, 'sitting': 5269, 'bed': 5270, 'kicking': 5271, 'airports': 5272, '500000': 5273, 'pledges': 5274, 'Watch': 5275, 'Father': 5276, 'dad': 5277, 'strengthened': 5278, 'missiles': 5279, 'heroin': 5280, 'Amitabh': 5281, 'medicine': 5282, 'Tourism': 5283, 'appealing': 5284, 'Floyd': 5285, 'Lt': 5286, 'Jury': 5287, 'medals': 5288, 'obtained': 5289, 'guarantee': 5290, 'migrants': 5291, 'statistics': 5292, 'Baker': 5293, 'referendum': 5294, 'Barnes': 5295, 'robber': 5296, 'monitor': 5297, 'agenda': 5298, 'sessions': 5299, 'cheating': 5300, 'Cisco': 5301, 'Shares': 5302, '1.2': 5303, 'bird': 5304, 'WASHINGTON': 5305, 'Marion': 5306, 'nominations': 5307, 'childhood': 5308, 'fix': 5309, 'statewide': 5310, 'filled': 5311, 'angry': 5312, 'burglaries': 5313, 'replacement': 5314, 'stem': 5315, 'bids': 5316, 'yields': 5317, 'Mercedes': 5318, 'formal': 5319, 'cinema': 5320, 'striking': 5321, 'vision': 5322, 'declare': 5323, 'differences': 5324, 'execution': 5325, 'optimism': 5326, 'rumors': 5327, 'Dean': 5328, 'weakness': 5329, 'Universal': 5330, 'qualify': 5331, 'expelled': 5332, 'pact': 5333, 'Philip': 5334, 'household': 5335, 'Kabul': 5336, 'Twilight': 5337, 'apart': 5338, 'Cardiff': 5339, 'UEFA': 5340, 'NRL': 5341, 'pledge': 5342, 'hybrid': 5343, 'duties': 5344, 'Doctors': 5345, 'fireworks': 5346, 'staying': 5347, 'Mariners': 5348, 'obesity': 5349, 'Hungary': 5350, 'Depp': 5351, 'theme': 5352, 'haven': 5353, 'dumped': 5354, 'Final': 5355, 'tractor': 5356, 'ads': 5357, 'museum': 5358, 'Salt': 5359, 'prestigious': 5360, 'Farmers': 5361, 'Mohammad': 5362, 'fame': 5363, 'priest': 5364, 'Studios': 5365, 'soft': 5366, 'pictures': 5367, 'trains': 5368, 'delivering': 5369, 'iconic': 5370, 'doubled': 5371, 'unbeaten': 5372, 'Taipei': 5373, 'employer': 5374, 'municipal': 5375, 'Ridge': 5376, 'Damascus': 5377, 'critics': 5378, 'bosses': 5379, 'Conrad': 5380, 'apologised': 5381, 'numerous': 5382, 'Angela': 5383, 'Bashar': 5384, 'substance': 5385, 'fundraiser': 5386, 'signal': 5387, 'volleyball': 5388, 'Mayer': 5389, '87': 5390, 'Boys': 5391, 'Staff': 5392, 'Santorum': 5393, 'glass': 5394, 'Sierra': 5395, 'sweep': 5396, 'Zambia': 5397, 'Spurs': 5398, 'Austrian': 5399, 'Serena': 5400, 'universities': 5401, 'Raj': 5402, 'newspapers': 5403, 'Norfolk': 5404, 'Control': 5405, 'pastor': 5406, 'mentally': 5407, 'cautious': 5408, 'Oprah': 5409, 'capable': 5410, 'ballot': 5411, 'knot': 5412, 'Finnish': 5413, 'updates': 5414, 'Tax': 5415, 'inaugurated': 5416, 'Zoo': 5417, 'opponents': 5418, 'Sioux': 5419, 'Worldwide': 5420, 'posting': 5421, 'Berry': 5422, 'Corps': 5423, 'statements': 5424, 'donations': 5425, 'Survey': 5426, 'electrical': 5427, '79': 5428, 'unless': 5429, 'appoint': 5430, 'spreading': 5431, 'sponsored': 5432, 'Inflation': 5433, 'Engineering': 5434, 'torch': 5435, 'aim': 5436, 'swap': 5437, 'Kutcher': 5438, 'Oman': 5439, 'bolster': 5440, 'distributor': 5441, 'disorder': 5442, 'easier': 5443, 'variety': 5444, 'investing': 5445, 'seminar': 5446, 'Andhra': 5447, 'machines': 5448, 'Sterling': 5449, 'grown': 5450, 'Glee': 5451, '92': 5452, 'professionals': 5453, 'indicated': 5454, 'stripped': 5455, 'turmoil': 5456, 'corner': 5457, 'racist': 5458, 'Cheney': 5459, 'subscribers': 5460, 'boosting': 5461, 'Comedian': 5462, 'Wildlife': 5463, 'Jane': 5464, 'favor': 5465, 'buses': 5466, 'mill': 5467, 'refugee': 5468, 'Tibet': 5469, 'Buffett': 5470, 'fines': 5471, 'admitting': 5472, 'Wade': 5473, 'infant': 5474, 'ski': 5475, 'fat': 5476, '25th': 5477, 'Moon': 5478, 'Brady': 5479, 'motorists': 5480, 'arraigned': 5481, 'pulling': 5482, 'Ball': 5483, 'deported': 5484, 'longest': 5485, 'challenging': 5486, 'Brewers': 5487, 'AIDS': 5488, 'Tulsa': 5489, 'delivers': 5490, 'Should': 5491, 'tablets': 5492, 'musician': 5493, 'Strong': 5494, 'Shore': 5495, 'Sebastian': 5496, 'mounting': 5497, '2nd': 5498, 'Albert': 5499, 'Lahore': 5500, 'neutral': 5501, 'Norwich': 5502, 'Planning': 5503, 'cope': 5504, 'Ecuador': 5505, 'recommended': 5506, 'UCLA': 5507, 'Haven': 5508, 'Mail': 5509, 'indefinitely': 5510, 'default': 5511, 'Lexington': 5512, 'Champion': 5513, 'Even': 5514, 'Sandra': 5515, 'SUV': 5516, 'Mamata': 5517, 'challenged': 5518, 'largely': 5519, 'miners': 5520, 'survive': 5521, 'badly': 5522, 'Apr': 5523, 'royal': 5524, 'swing': 5525, 'unity': 5526, 'Average': 5527, 'emotional': 5528, 'nude': 5529, 'gambling': 5530, 'jewelry': 5531, 'participation': 5532, 'breach': 5533, 'Tennis': 5534, 'selects': 5535, 'views': 5536, 'Hartford': 5537, 'extremely': 5538, 'behalf': 5539, 'risen': 5540, 'Herald': 5541, 'Manny': 5542, 'drill': 5543, 'graduate': 5544, 'Brien': 5545, 'Customs': 5546, 'Eva': 5547, 'representing': 5548, 'bench': 5549, 'extreme': 5550, 'verdict': 5551, 'runner': 5552, 'Welsh': 5553, 'Left': 5554, 'acquiring': 5555, 'Arctic': 5556, 'defeating': 5557, 'intervention': 5558, 'Quebec': 5559, 'emerge': 5560, 'happen': 5561, 'Mining': 5562, 'remember': 5563, 'LG': 5564, 'crop': 5565, 'Teacher': 5566, 'prompting': 5567, 'capabilities': 5568, 'manufacturers': 5569, 'enhanced': 5570, 'Voice': 5571, 'Gay': 5572, 'IST': 5573, 'Kids': 5574, 'Christchurch': 5575, 'ones': 5576, 'confessed': 5577, 'Twins': 5578, 'Hugh': 5579, 'intersection': 5580, 'reviews': 5581, 'Wolves': 5582, 'Vanessa': 5583, 'Amber': 5584, 'Darren': 5585, 'renowned': 5586, 'serial': 5587, 'Images': 5588, 'finances': 5589, 'dress': 5590, 'Newman': 5591, 'ranking': 5592, 'promise': 5593, 'diet': 5594, 'towns': 5595, 'warm': 5596, 'Bull': 5597, 'parole': 5598, 'Summer': 5599, 'ICC': 5600, 'urban': 5601, 'whom': 5602, 'Diaz': 5603, 'efficient': 5604, 'Dead': 5605, 'Essex': 5606, 'widely': 5607, 'rider': 5608, 'surveillance': 5609, 'Mission': 5610, 'Wind': 5611, 'basic': 5612, 'survival': 5613, 'Midwest': 5614, 'Chemical': 5615, 'Investors': 5616, 'diamond': 5617, 'master': 5618, 'Freddie': 5619, 'rumours': 5620, 'combined': 5621, 'recruiting': 5622, 'reward': 5623, 'chiefs': 5624, 'EUR': 5625, 'compliance': 5626, 'drinks': 5627, 'Syracuse': 5628, 'Norwegian': 5629, 'Oscars': 5630, 'Computer': 5631, 'renews': 5632, 'Belgian': 5633, 'renew': 5634, 'colleges': 5635, 'Osama': 5636, 'TMZ': 5637, 'contribution': 5638, 'occupied': 5639, 'lunch': 5640, 'mate': 5641, 'Speedway': 5642, 'singing': 5643, 'governance': 5644, 'Challenge': 5645, 'rental': 5646, 'McLaren': 5647, 'nursing': 5648, 'SAP': 5649, 'insurer': 5650, 'inter': 5651, 'Tri': 5652, 'Cruz': 5653, 'strain': 5654, 'hometown': 5655, 'mom': 5656, 'Tesco': 5657, 'knew': 5658, 'Maruti': 5659, 'preparation': 5660, 'Luis': 5661, 'freight': 5662, 'images': 5663, 'Malta': 5664, 'transferred': 5665, 'narrowly': 5666, 'Future': 5667, 'Trump': 5668, 'proceedings': 5669, 'innocent': 5670, 'grounds': 5671, 'Beyonce': 5672, 'vacant': 5673, 'insider': 5674, 'Criminal': 5675, 'Place': 5676, 'Aguilera': 5677, 'Suisse': 5678, '4000': 5679, 'eliminated': 5680, '7th': 5681, 'Turkmenistan': 5682, 'Muammar': 5683, 'Orissa': 5684, 'withdrew': 5685, 'severely': 5686, 'motion': 5687, 'consulting': 5688, 'unprecedented': 5689, 'enable': 5690, 'grain': 5691, 'Lakes': 5692, 'aiming': 5693, 'nationals': 5694, 'Omar': 5695, 'punishment': 5696, 'Plan': 5697, 'pose': 5698, 'lifts': 5699, 'FORMER': 5700, 'broker': 5701, 'Lambert': 5702, 'offenders': 5703, 'Sindh': 5704, 'simple': 5705, 'Harvard': 5706, 'Joel': 5707, 'encourage': 5708, 'LP': 5709, 'Austria': 5710, 'Tunisia': 5711, 'audio': 5712, 'Nathan': 5713, 'Junior': 5714, 'impressive': 5715, 'Assam': 5716, 'Lisa': 5717, 'Favre': 5718, 'Medicine': 5719, 'McCarthy': 5720, 'batsman': 5721, 'Coleman': 5722, '911': 5723, 'Representative': 5724, 'diseases': 5725, 'thin': 5726, 'flames': 5727, 'knows': 5728, 'expensive': 5729, 'Scientific': 5730, 'Le': 5731, 'jumping': 5732, 'Occupy': 5733, 'Oak': 5734, 'Hunter': 5735, 'OPEC': 5736, 'retained': 5737, 'camps': 5738, 'coastal': 5739, 'demonstration': 5740, 'homeowners': 5741, 'Tonight': 5742, 'Rockies': 5743, 'talked': 5744, 'Michele': 5745, 'gaining': 5746, 'organisation': 5747, 'Silvio': 5748, 'comedian': 5749, 'maintained': 5750, 'couldn': 5751, 'th': 5752, 'academic': 5753, 'silence': 5754, 'Paterson': 5755, '360': 5756, 'Athletic': 5757, 'weighed': 5758, 'creates': 5759, 'northwestern': 5760, 'secures': 5761, 'songwriter': 5762, 'Walsh': 5763, 'bronze': 5764, 'bombs': 5765, 'raw': 5766, 'constitutional': 5767, 'sensation': 5768, 'Bar': 5769, 'achieve': 5770, 'Manning': 5771, 'DNA': 5772, 'protesting': 5773, 'reverse': 5774, 'frozen': 5775, 'Penguins': 5776, 'audit': 5777, 'sit': 5778, 'leaked': 5779, 'availability': 5780, 'publishing': 5781, 'flow': 5782, '13th': 5783, 'OS': 5784, 'Winnipeg': 5785, 'Shell': 5786, 'Basketball': 5787, '1.6': 5788, 'Hazare': 5789, 'entitled': 5790, 'possessing': 5791, 'crossed': 5792, 'Continental': 5793, 'shape': 5794, 'meters': 5795, 'Sena': 5796, 'quiet': 5797, 'yard': 5798, 'developments': 5799, 'brush': 5800, 'Band': 5801, 'Princess': 5802, 'Bradford': 5803, 'hotels': 5804, 'booked': 5805, 'Veterans': 5806, 'Minn': 5807, 'favour': 5808, 'Mohamed': 5809, 'foundation': 5810, 'Mariah': 5811, 'Christians': 5812, 'Teachers': 5813, 'tentative': 5814, 'represent': 5815, 'Discovery': 5816, 'gunman': 5817, 'ace': 5818, 'mainly': 5819, 'JPMorgan': 5820, 'guy': 5821, 'Vince': 5822, 'Glen': 5823, 'lease': 5824, 'download': 5825, 'outlets': 5826, 'Rehman': 5827, 'implementation': 5828, 'HD': 5829, '2.5': 5830, 'insisting': 5831, 'Lines': 5832, 'Jamaica': 5833, 'explore': 5834, 'focusing': 5835, 'Ryanair': 5836, 'lightning': 5837, 'attractive': 5838, 'telecommunications': 5839, 'transit': 5840, 'Independence': 5841, 'beta': 5842, '1.3': 5843, 'Pune': 5844, 'Edinburgh': 5845, 'wildlife': 5846, 'Bolt': 5847, '20000': 5848, 'Sudanese': 5849, 'Valentine': 5850, 'contribute': 5851, 'FOCUS': 5852, 'cyber': 5853, 'Cable': 5854, 'shoes': 5855, 'Nearly': 5856, 'violated': 5857, 'vulnerable': 5858, 'medium': 5859, 'difference': 5860, 'Glenn': 5861, 'McDonald': 5862, 'policemen': 5863, 'climb': 5864, 'Charleston': 5865, 'Harbor': 5866, 'Assistant': 5867, 'lifestyle': 5868, 'prompted': 5869, 'spectrum': 5870, 'disciplinary': 5871, 'Rudd': 5872, 'Tournament': 5873, 'restraining': 5874, 'roadside': 5875, 'reduces': 5876, 'listing': 5877, 'Technical': 5878, 'remembered': 5879, 'Miliband': 5880, 'shootings': 5881, 'Benjamin': 5882, '1.1': 5883, 'Wigan': 5884, 'Southeast': 5885, 'arrival': 5886, 'Danish': 5887, 'Eurozone': 5888, 'tragedy': 5889, 'plc': 5890, 'Study': 5891, 'Tea': 5892, 'farmer': 5893, 'Meeting': 5894, 'Airtel': 5895, 'filming': 5896, 'Arsene': 5897, 'affecting': 5898, 'Bullock': 5899, 'Bus': 5900, 'PPP': 5901, 'Ram': 5902, 'apologises': 5903, 'Slovenia': 5904, 'safely': 5905, 'controls': 5906, 'Ethiopia': 5907, 'spy': 5908, 'picking': 5909, 'parked': 5910, 'concerts': 5911, '3G': 5912, 'complications': 5913, 'Bros': 5914, 'carriers': 5915, 'Minogue': 5916, 'bust': 5917, 'heavily': 5918, 'Marco': 5919, 'Newark': 5920, 'Turner': 5921, 'History': 5922, 'appearing': 5923, 'checkpoint': 5924, 'Colombo': 5925, 'lineman': 5926, 'Ward': 5927, 'Kahn': 5928, '200000': 5929, 'liver': 5930, 'Ill': 5931, 'Vermont': 5932, 'guidelines': 5933, 'document': 5934, 'Target': 5935, 'hiding': 5936, 'category': 5937, 'Parents': 5938, 'younger': 5939, 'Bryan': 5940, 'thousand': 5941, 'trends': 5942, 'modest': 5943, 'Out': 5944, 'Clooney': 5945, 'Fulham': 5946, 'punched': 5947, 'Doherty': 5948, 'encouraged': 5949, 'Naomi': 5950, 'lowered': 5951, 'lesbian': 5952, 'occasion': 5953, 'Kingston': 5954, 'fights': 5955, 'Hopkins': 5956, 'molestation': 5957, 'recruit': 5958, 'vendor': 5959, 'Nationwide': 5960, 'Swan': 5961, 'willing': 5962, 'pump': 5963, 'Albany': 5964, 'fleeing': 5965, 'specialty': 5966, 'explain': 5967, 'devastating': 5968, 'Banerjee': 5969, 'Johansson': 5970, 'waived': 5971, 'Knicks': 5972, 'regulation': 5973, 'install': 5974, 'Swansea': 5975, 'corn': 5976, 'Crime': 5977, 'Patil': 5978, 'urge': 5979, 'Temple': 5980, 'semifinals': 5981, 'pollution': 5982, 'framework': 5983, 'Margaret': 5984, 'retain': 5985, 'Dark': 5986, 'destroy': 5987, 'specific': 5988, 'torture': 5989, 'disappointed': 5990, 'Billboard': 5991, 'rankings': 5992, 'hurricane': 5993, 'shootout': 5994, 'appointments': 5995, 'Northwest': 5996, 'discount': 5997, 'Amtrak': 5998, 'eve': 5999, 'cues': 6000, 'Jharkhand': 6001, 'warnings': 6002, 'stages': 6003, 'toss': 6004, 'motorcyclist': 6005, 'Jail': 6006, 'revolution': 6007, 'warehouse': 6008, 'recovers': 6009, 'understand': 6010, 'readers': 6011, 'Vietnamese': 6012, 'gross': 6013, 'iTunes': 6014, 'overturned': 6015, 'organised': 6016, 'curb': 6017, 'Notre': 6018, 'lab': 6019, 'Ashes': 6020, 'spell': 6021, 'routine': 6022, 'Urban': 6023, 'preferred': 6024, 'Stevens': 6025, 'guru': 6026, 'theatre': 6027, 'mistakes': 6028, 'actors': 6029, 'Total': 6030, 'owns': 6031, 'Goa': 6032, 'underground': 6033, 'racial': 6034, 'proved': 6035, 'struggles': 6036, 'Renault': 6037, 'Baptist': 6038, 'accounting': 6039, 'require': 6040, 'print': 6041, 'Thomson': 6042, 'Workers': 6043, 'Catherine': 6044, 'strengthening': 6045, 'SC': 6046, 'gunmen': 6047, 'Hathaway': 6048, 'explosive': 6049, 'solve': 6050, 'Copper': 6051, 'Skype': 6052, 'Expo': 6053, 'ailing': 6054, 'Fred': 6055, 'carpet': 6056, 'Henderson': 6057, 'Action': 6058, 'remanded': 6059, '2016': 6060, 'oath': 6061, 'Peterson': 6062, 'insurgents': 6063, 'Richardson': 6064, 'Cold': 6065, 'Butler': 6066, 'else': 6067, 'colleagues': 6068, 'portal': 6069, 'prosecution': 6070, 'Bharti': 6071, 'hospitalised': 6072, 'Captain': 6073, 'earth': 6074, 'marathon': 6075, 'Newport': 6076, 'mogul': 6077, 'Laura': 6078, 'educational': 6079, 'Month': 6080, 'Jintao': 6081, 'finishing': 6082, 'Crews': 6083, 'enjoyed': 6084, 'Wallace': 6085, 'moon': 6086, 'interactive': 6087, 'indefinite': 6088, 'publication': 6089, 'hardware': 6090, 'Athletics': 6091, 'creator': 6092, 'suburb': 6093, 'stemming': 6094, 'suggest': 6095, 'Roma': 6096, 'Key': 6097, 'Blagojevich': 6098, '17th': 6099, 'Resort': 6100, 'Wyoming': 6101, 'substantial': 6102, 'Thackeray': 6103, 'duo': 6104, 'wildfire': 6105, 'Q': 6106, 'hamstring': 6107, 'Rajya': 6108, 'Secret': 6109, 'tougher': 6110, 'logo': 6111, 'Cedar': 6112, 'settles': 6113, 'Couple': 6114, '101': 6115, 'Bonds': 6116, 'campaigns': 6117, 'TWO': 6118, 'effectively': 6119, 'Yousuf': 6120, 'wheel': 6121, 'cardiac': 6122, 'Constitution': 6123, 'Arthur': 6124, 'Vincent': 6125, '14th': 6126, 'Brands': 6127, 'queen': 6128, 'extradition': 6129, 'addressed': 6130, 'lights': 6131, 'Railway': 6132, 'breakfast': 6133, 'Eds': 6134, 'SEC': 6135, 'Tsvangirai': 6136, 'wholly': 6137, 'concept': 6138, '18th': 6139, 'Narendra': 6140, 'Organisation': 6141, 'Upper': 6142, 'loved': 6143, 'Cuomo': 6144, 'sidelines': 6145, 'laundering': 6146, 'likes': 6147, 'revive': 6148, 'bullet': 6149, 'halted': 6150, 'anchor': 6151, 'donate': 6152, 'Ivory': 6153, 'Commercial': 6154, 'Work': 6155, 'speeding': 6156, 'neighbor': 6157, 'Conn': 6158, 'calm': 6159, 'impose': 6160, 'marries': 6161, 'par': 6162, '4G': 6163, 'unconscious': 6164, 'Serie': 6165, 'Ratings': 6166, 'Noel': 6167, 'Cox': 6168, 'Giffords': 6169, 'Keys': 6170, 'Hosni': 6171, 'shoppers': 6172, 'Manuel': 6173, 'touched': 6174, 'Archbishop': 6175, 'Thunder': 6176, 'relatives': 6177, 'navigation': 6178, 'judiciary': 6179, 'Hot': 6180, '09': 6181, 'reiterated': 6182, 'Travis': 6183, 'dragged': 6184, 'Bruins': 6185, 'Properties': 6186, 'Tyson': 6187, 'thriller': 6188, 'Animal': 6189, 'mines': 6190, 'organized': 6191, 'Panasonic': 6192, 'Timothy': 6193, 'Heather': 6194, 'Flood': 6195, 'throat': 6196, 'Ronnie': 6197, 'riot': 6198, 'Karl': 6199, 'mini': 6200, 'Adele': 6201, 'hop': 6202, 'hacked': 6203, 'threaten': 6204, 'Bennett': 6205, 'Embassy': 6206, 'Kenyan': 6207, 'experienced': 6208, 'traveling': 6209, 'Somerset': 6210, 'Rocky': 6211, 'Webber': 6212, '110': 6213, 'survivors': 6214, 'Alberto': 6215, 'NZ': 6216, 'Rams': 6217, 'clerk': 6218, 'splits': 6219, 'Representatives': 6220, 'travelling': 6221, 'Dog': 6222, 'extensive': 6223, 'equal': 6224, 'Riley': 6225, 'Janata': 6226, 'cannabis': 6227, 'regrets': 6228, 'Natalie': 6229, 'grave': 6230, 'gathering': 6231, 'Front': 6232, 'chair': 6233, 'infringement': 6234, 'reliever': 6235, 'beautiful': 6236, 'Master': 6237, 'Satyam': 6238, 'kitchen': 6239, 'praise': 6240, 'chef': 6241, 'Morris': 6242, 'seconds': 6243, 'Hamburg': 6244, '3rd': 6245, 'Bear': 6246, 'excessive': 6247, 'quarters': 6248, 'Railways': 6249, 'qualified': 6250, 'secondary': 6251, 'lifetime': 6252, '25000': 6253, 'reconciliation': 6254, 'teenagers': 6255, 'recruitment': 6256, 'Motion': 6257, 'mild': 6258, '350': 6259, 'swim': 6260, 'Kobe': 6261, 'resulting': 6262, 'Next': 6263, 'yuan': 6264, 'procedure': 6265, 'remake': 6266, 'powered': 6267, 'meant': 6268, 'drives': 6269, 'connected': 6270, 'finale': 6271, 'acquisitions': 6272, 'survives': 6273, 'develops': 6274, 'elephant': 6275, 'Walter': 6276, 'wickets': 6277, 'Rail': 6278, 'Nile': 6279, 'Lawyers': 6280, 'drawn': 6281, 'Hotels': 6282, 'partially': 6283, 'apps': 6284, '1/2': 6285, 'Housewives': 6286, 'tens': 6287, 'rebounded': 6288, 'sentencing': 6289, 'athlete': 6290, 'originally': 6291, 'sensitive': 6292, 'levy': 6293, '15000': 6294, 'Mavericks': 6295, 'Ryder': 6296, 'Qaida': 6297, 'lottery': 6298, 'assessment': 6299, 'Charges': 6300, 'assured': 6301, 'Enterprises': 6302, 'intensive': 6303, 'foreigners': 6304, 'Minaj': 6305, 'Ave': 6306, 'Sheffield': 6307, 'Border': 6308, 'projected': 6309, 'northeastern': 6310, 'horses': 6311, '94': 6312, 'acute': 6313, 'IPL': 6314, 'Brook': 6315, 'Petersburg': 6316, 'strict': 6317, 'rehabilitation': 6318, 'Brent': 6319, 'Barton': 6320, 'Sharapova': 6321, 'Raja': 6322, 'Powell': 6323, 'donation': 6324, 'Rovers': 6325, 'BHP': 6326, 'Medicare': 6327, 'Climate': 6328, 'Smart': 6329, 'turbine': 6330, 'wishes': 6331, 'Hope': 6332, 'finishes': 6333, 'tattoo': 6334, 'Tinto': 6335, 'grows': 6336, 'packaging': 6337, 'Chopra': 6338, 'ranging': 6339, '2.2': 6340, 'revealing': 6341, 'Ministers': 6342, 'trainer': 6343, 'tip': 6344, 'vehicular': 6345, 'tips': 6346, 'Professor': 6347, 'strategies': 6348, 'Krishna': 6349, 'Naval': 6350, 'Foster': 6351, 'Istanbul': 6352, 'Carroll': 6353, 'Aung': 6354, 'genetic': 6355, 'Worth': 6356, 'citizenship': 6357, 'pattern': 6358, 'Cola': 6359, 'therapy': 6360, 'activated': 6361, 'burst': 6362, 'Scarlett': 6363, 'map': 6364, 'exciting': 6365, 'restructure': 6366, 'Hart': 6367, 'flash': 6368, 'GDP': 6369, 'circumstances': 6370, 'performances': 6371, 'ditch': 6372, 'Nicki': 6373, 'deployed': 6374, 'Chamber': 6375, 'birds': 6376, 'journal': 6377, 'seem': 6378, 'cliff': 6379, '89': 6380, 'V': 6381, 'stomach': 6382, 'tours': 6383, '3.5': 6384, '15th': 6385, 'liquidity': 6386, 'Ice': 6387, 'hijacked': 6388, 'mortgages': 6389, '1.4': 6390, 'Imran': 6391, 'Geithner': 6392, 'sponsorship': 6393, 'Raul': 6394, 'rocker': 6395, 'globally': 6396, 'intended': 6397, 'Stuart': 6398, 'debts': 6399, 'thinking': 6400, 'Colts': 6401, 'purchased': 6402, 'exactly': 6403, 'declaration': 6404, 'spin': 6405, 'quarterfinals': 6406, 'Advani': 6407, 'sons': 6408, 'Kirk': 6409, 'tension': 6410, 'Winfrey': 6411, 'Bundesliga': 6412, 'Starbucks': 6413, 'piracy': 6414, 'Australians': 6415, 'handling': 6416, 'soaring': 6417, 'Analyst': 6418, 'Miranda': 6419, 'Millions': 6420, 'Canyon': 6421, 'participating': 6422, 'Book': 6423, 'issuing': 6424, 'Coca': 6425, 'packed': 6426, 'inappropriate': 6427, 'dairy': 6428, 'reception': 6429, 'Banking': 6430, 'molesting': 6431, 'couples': 6432, 'Neal': 6433, 'Saskatchewan': 6434, 'Rolling': 6435, 'Fall': 6436, 'AAA': 6437, 'abused': 6438, 'Train': 6439, 'miner': 6440, 'acclaimed': 6441, 'stretch': 6442, 'distribute': 6443, 'foul': 6444, 'Like': 6445, 'Jaguars': 6446, 'addressing': 6447, 'bottle': 6448, 'Poor': 6449, 'answers': 6450, 'Doctor': 6451, 'Riverside': 6452, 'shark': 6453, 'walks': 6454, 'Gene': 6455, 'overdose': 6456, 'Reed': 6457, 'hails': 6458, 'tobacco': 6459, 'dismisses': 6460, 'inspection': 6461, 'Richards': 6462, 'sidelined': 6463, 'Wi': 6464, 'Bangkok': 6465, 'disrupted': 6466, 'communist': 6467, 'Mae': 6468, 'gifts': 6469, 'Mid': 6470, 'format': 6471, 'resulted': 6472, 'convertible': 6473, 'Venture': 6474, 'Tucson': 6475, 'Geneva': 6476, 'invested': 6477, 'Boulevard': 6478, 'Fabio': 6479, 'choose': 6480, 'Chargers': 6481, 'Palmer': 6482, 'exporters': 6483, 'covered': 6484, 'layoffs': 6485, 'quake': 6486, 'optimistic': 6487, 'departments': 6488, 'nose': 6489, 'Cash': 6490, 'Dozens': 6491, 'rated': 6492, 'Hindu': 6493, 'merge': 6494, 'Maple': 6495, 'vacation': 6496, 'pretty': 6497, 'seniors': 6498, 'allies': 6499, 'courses': 6500, 'indecent': 6501, 'express': 6502, 'Kyrgyz': 6503, 'containing': 6504, 'Noble': 6505, 'Down': 6506, 'Trevor': 6507, 'commissioners': 6508, 'holders': 6509, 'rapidly': 6510, 'Paso': 6511, 'Betty': 6512, 'pensions': 6513, 'discussions': 6514, 'Greater': 6515, '130': 6516, 'mystery': 6517, 'Sanford': 6518, 'Record': 6519, 'composer': 6520, 'Traffic': 6521, 'Pratt': 6522, 'Political': 6523, 'Pictures': 6524, 'hikes': 6525, 'Here': 6526, '2002': 6527, 'priced': 6528, 'engineers': 6529, 'components': 6530, 'Plymouth': 6531, 'institution': 6532, 'Fi': 6533, 'endorsement': 6534, 'Halifax': 6535, 'Uganda': 6536, 'LTE': 6537, 'Richie': 6538, 'Garcia': 6539, 'Oxford': 6540, 'Lucas': 6541, 'applied': 6542, 'Lightning': 6543, 'Marie': 6544, 'bonuses': 6545, 'Longoria': 6546, 'Griffin': 6547, 'grid': 6548, 'brawl': 6549, 'repeatedly': 6550, 'slain': 6551, 'Duncan': 6552, 'Rays': 6553, 'legs': 6554, 'pursue': 6555, 'Benitez': 6556, 'wider': 6557, 'Cardinal': 6558, 'navy': 6559, 'licensing': 6560, 'temple': 6561, 'Durham': 6562, 'protected': 6563, 'excited': 6564, 'Nato': 6565, 'Opera': 6566, 'Yes': 6567, 'metres': 6568, 'Wings': 6569, 'Huntington': 6570, 'aren': 6571, 'economists': 6572, 'drew': 6573, 'doubt': 6574, 'declaring': 6575, 'Yorkshire': 6576, 'offerings': 6577, 'Carrie': 6578, 'pond': 6579, 'deciding': 6580, 'trained': 6581, 'IPO': 6582, 'Income': 6583, 'Theater': 6584, 'honors': 6585, 'Rescue': 6586, 'bowler': 6587, 'Carlisle': 6588, 'Windsor': 6589, 'Tree': 6590, 'Gilbert': 6591, 'Coyotes': 6592, 'hinted': 6593, 'function': 6594, 'policeman': 6595, 'runway': 6596, 'Clemens': 6597, 'catcher': 6598, 'rounds': 6599, 'newborn': 6600, 'collected': 6601, 'hacking': 6602, 'Revenue': 6603, 'stone': 6604, 'Fourth': 6605, 'Texans': 6606, 'Harvey': 6607, 'Capello': 6608, 'hostile': 6609, 'factor': 6610, 'Carson': 6611, 'tear': 6612, 'Wilmington': 6613, 'Holding': 6614, 'Volkswagen': 6615, 'Tripoli': 6616, 'arena': 6617, 'bribery': 6618, 'Michaels': 6619, 'essential': 6620, 'blew': 6621, 'transmission': 6622, 'testify': 6623, '1.7': 6624, 'romantic': 6625, 'pupils': 6626, 'ancient': 6627, 'Rukh': 6628, 'lessons': 6629, 'Sergio': 6630, 'Postal': 6631, 'Portuguese': 6632, 'imprisonment': 6633, 'Ground': 6634, 'understanding': 6635, 'load': 6636, '1200': 6637, 'alleging': 6638, 'Sharon': 6639, 'Rain': 6640, '2020': 6641, 'Helen': 6642, 'personality': 6643, 'qualifier': 6644, 'woes': 6645, 'Maoist': 6646, 'Senators': 6647, 'Bishop': 6648, 'grass': 6649, 'trooper': 6650, 'exchanges': 6651, 'opposite': 6652, 'Casino': 6653, 'patents': 6654, 'Des': 6655, 'Providence': 6656, 'Marlins': 6657, 'sorry': 6658, 'discover': 6659, 'invites': 6660, 'Broadcasting': 6661, 'religion': 6662, 'stressed': 6663, 'sweeping': 6664, 'defamation': 6665, 'simply': 6666, 'seeded': 6667, 'Mutual': 6668, 'southeastern': 6669, 'approached': 6670, 'implemented': 6671, 'Clinic': 6672, 'stood': 6673, 'cycle': 6674, 'PML': 6675, 'voter': 6676, 'productivity': 6677, 'LSU': 6678, 'seekers': 6679, 'Infosys': 6680, 'concerning': 6681, 'Race': 6682, 'Boss': 6683, 'adoption': 6684, 'absolutely': 6685, 'tag': 6686, 'battled': 6687, 'bowling': 6688, 'suppliers': 6689, 'neglect': 6690, 'salaries': 6691, 'LOS': 6692, 'DVD': 6693, 'overtime': 6694, 'cricketer': 6695, 'compromise': 6696, 'paise': 6697, 'footballer': 6698, 'Troy': 6699, 'Jakarta': 6700, '160': 6701, 'cool': 6702, 'Bachmann': 6703, 'Walmart': 6704, 'nature': 6705, 'circuit': 6706, 'stakes': 6707, 'sudden': 6708, 'interior': 6709, 'shortfall': 6710, 'plunge': 6711, 'HBO': 6712, 'Adrian': 6713, 'Policy': 6714, 'engineer': 6715, 'mph': 6716, 'Zsa': 6717, 'Sugar': 6718, 'conservation': 6719, 'Bird': 6720, 'Voters': 6721, 'Katrina': 6722, 'symptoms': 6723, 'hanged': 6724, 'Busch': 6725, '19th': 6726, 'autism': 6727, 'Well': 6728, 'Dylan': 6729, 'Rockets': 6730, 'Days': 6731, 'CA': 6732, 'infielder': 6733, 'correspondent': 6734, 'Got': 6735, 'rainfall': 6736, 'Patel': 6737, 'Truck': 6738, 'Pizza': 6739, '99': 6740, 'programmes': 6741, 'veto': 6742, 'Aden': 6743, 'pack': 6744, 'intent': 6745, 'contender': 6746, 'enjoying': 6747, 'Ellen': 6748, 'Joint': 6749, 'Base': 6750, 'shipments': 6751, '4th': 6752, 'Santos': 6753, 'Cristiano': 6754, 'smashed': 6755, 'certification': 6756, 'mouth': 6757, 'du': 6758, 'nurses': 6759, 'posed': 6760, 'cheap': 6761, 'Dhoni': 6762, 'Bomb': 6763, 'biopic': 6764, 'appealed': 6765, 'tumbled': 6766, 'radical': 6767, 'rebuild': 6768, 'taxpayers': 6769, 'organisers': 6770, 'Skip': 6771, 'USC': 6772, 'Diamondbacks': 6773, 'wouldn': 6774, 'Trend': 6775, 'Guinea': 6776, 'Phone': 6777, 'collective': 6778, 'marine': 6779, 'handle': 6780, 'proceeds': 6781, 'suddenly': 6782, 'maritime': 6783, '9/11': 6784, 'disputes': 6785, 'Share': 6786, 'Croatia': 6787, 'Canucks': 6788, 'Sullivan': 6789, 'amendment': 6790, 'Angel': 6791, 'scientist': 6792, 'licenses': 6793, 'spiritual': 6794, 'dying': 6795, 'Boris': 6796, 'slowly': 6797, 'edges': 6798, 'disorderly': 6799, 'pills': 6800, 'youngest': 6801, 'speaker': 6802, 'iOS': 6803, 'segment': 6804, 'quitting': 6805, 'Dhaka': 6806, 'noted': 6807, 'presenter': 6808, 'laptop': 6809, 'Manila': 6810, 'thieves': 6811, 'neighbours': 6812, 'clearing': 6813, 'lawsuits': 6814, 'floating': 6815, 'Fish': 6816, 'alarm': 6817, 'tumor': 6818, 'Derek': 6819, 'ET': 6820, 'uncertain': 6821, 'particular': 6822, 'lashed': 6823, 'Stoke': 6824, 'Draft': 6825, 'Beatles': 6826, 'neighbors': 6827, 'Gonzalez': 6828, 'Weekly': 6829, 'Witherspoon': 6830, 'lie': 6831, 'moments': 6832, 'breakthrough': 6833, '0.5': 6834, 'globe': 6835, 'rand': 6836, 'Late': 6837, 'Mo': 6838, 'stories': 6839, 'eases': 6840, 'boosts': 6841, 'ocean': 6842, 'consensus': 6843, 'bitter': 6844, 'container': 6845, 'mistake': 6846, 'margin': 6847, 'cornerback': 6848, 'engines': 6849, 'Blacks': 6850, 'Tel': 6851, 'destinations': 6852, 'poisoning': 6853, 'FDA': 6854, '30000': 6855, 'LONDON': 6856, 'crush': 6857, 'Interactive': 6858, 'chicken': 6859, 'Niagara': 6860, 'Reynolds': 6861, 'retreat': 6862, 'depth': 6863, 'wrist': 6864, 'concrete': 6865, 'stick': 6866, 'oppose': 6867, 'outage': 6868, 'weakens': 6869, 'Plane': 6870, '40th': 6871, 'Right': 6872, 'operated': 6873, 'hoped': 6874, 'jewellery': 6875, 'WOMAN': 6876, 'satellites': 6877, 'JP': 6878, 'sporting': 6879, 'Plus': 6880, 'pointed': 6881, 'detected': 6882, 'rolling': 6883, 'dubbed': 6884, 'criminals': 6885, 'Monica': 6886, 'submit': 6887, 'Burma': 6888, '21st': 6889, 'Gosselin': 6890, 'brutal': 6891, 'ANGELES': 6892, 'repairs': 6893, 'snap': 6894, 'comfortable': 6895, 'blasted': 6896, 'Wii': 6897, 'ceiling': 6898, 'letters': 6899, 'warrants': 6900, '000': 6901, 'sisters': 6902, 'batch': 6903, 'Sofia': 6904, 'improvements': 6905, 'Soldier': 6906, 'Humphries': 6907, 'daughters': 6908, 'penalties': 6909, 'Merrill': 6910, 'Fiat': 6911, 'Rivers': 6912, 'Bin': 6913, 'ethics': 6914, 'Suffolk': 6915, 'Mourinho': 6916, 'Gazprom': 6917, 'Simmons': 6918, 'volunteer': 6919, 'surcharge': 6920, 'Daytona': 6921, 'flown': 6922, 'popularity': 6923, 'rig': 6924, 'Rich': 6925, 'Rodgers': 6926, 'congratulates': 6927, 'struggled': 6928, 'Bancorp': 6929, 'guests': 6930, 'Greene': 6931, 'Paula': 6932, 'regain': 6933, 'percentage': 6934, 'Ahmad': 6935, 'completing': 6936, 'videos': 6937, 'Dayton': 6938, 'Leicester': 6939, 'caution': 6940, 'Hornets': 6941, 'helicopters': 6942, 'kidnap': 6943, 'intention': 6944, 'firearms': 6945, 'reviewing': 6946, 'brokerage': 6947, 'Movement': 6948, 'rough': 6949, 'excellent': 6950, 'spoken': 6951, 'Bhd': 6952, 'encouraging': 6953, 'explains': 6954, 'Restaurant': 6955, 'teammate': 6956, 'Ellis': 6957, 'teammates': 6958, 'sluggish': 6959, 'incumbent': 6960, 'Dominican': 6961, 'printing': 6962, 'Growth': 6963, 'dental': 6964, 'ITV': 6965, 'shocking': 6966, 'Dominique': 6967, 'Modern': 6968, 'dpa': 6969, 'Brendan': 6970, 'Padres': 6971, 'Empire': 6972, 'gear': 6973, 'Bend': 6974, 'Samuel': 6975, 'opposed': 6976, 'Fresno': 6977, 'advisor': 6978, 'meaning': 6979, 'stunning': 6980, 'unusual': 6981, 'contained': 6982, 'dressed': 6983, 'slated': 6984, 'SAN': 6985, 'Sanjay': 6986, 'erupted': 6987, 'Maradona': 6988, 'Chuck': 6989, 'Aamir': 6990, 'spree': 6991, 'broader': 6992, 'Amazoncom': 6993, 'withdrawal': 6994, 'swings': 6995, 'facilitate': 6996, 'lockout': 6997, 'IP': 6998, 'Chilean': 6999, 'Reading': 7000, 'flee': 7001, 'saves': 7002, 'Blood': 7003, 'southwestern': 7004, 'addresses': 7005, 'presentation': 7006, 'Brooks': 7007, 'Shahid': 7008, 'dumping': 7009, 'v': 7010, 'Relations': 7011, 'CIA': 7012, 'counterparts': 7013, 'Boxing': 7014, 'lock': 7015, 'studying': 7016, 'chronic': 7017, '125': 7018, 'approaching': 7019, 'outsourcing': 7020, 'strengthens': 7021, 'diving': 7022, 'intense': 7023, 'gunshot': 7024, 'forming': 7025, 'spirit': 7026, 'nurse': 7027, 'proper': 7028, 'maintains': 7029, 'Prosecutors': 7030, 'farewell': 7031, 'chaos': 7032, 'Vijay': 7033, 'offense': 7034, 'NYC': 7035, 'UPA': 7036, 'Lyon': 7037, 'packages': 7038, 'bombings': 7039, 'surrender': 7040, 'Isle': 7041, 'symbol': 7042, 'influential': 7043, 'adjusted': 7044, 'coroner': 7045, 'Tenn': 7046, 'Equity': 7047, 'postpones': 7048, 'trigger': 7049, 'repeal': 7050, 'furniture': 7051, 'referee': 7052, 'Ventures': 7053, 'damaging': 7054, 'snapped': 7055, 'Vick': 7056, 'boom': 7057, 'congratulated': 7058, 'fugitive': 7059, 'tipped': 7060, 'credits': 7061, 'km': 7062, '93': 7063, 'prevention': 7064, 'RBI': 7065, 'treaty': 7066, 'Bad': 7067, 'deer': 7068, 'Direct': 7069, 'EA': 7070, 'Earthquake': 7071, 'Crawford': 7072, 'earns': 7073, 'Nawaz': 7074, 'lover': 7075, '2500': 7076, 'posing': 7077, 'bounced': 7078, 'derby': 7079, 'Rica': 7080, 'creditors': 7081, 'Filipino': 7082, 'sank': 7083, 'rubber': 7084, 'partial': 7085, 'Button': 7086, 'dam': 7087, 'valuable': 7088, 'buyout': 7089, 'addiction': 7090, 'restricted': 7091, 'Member': 7092, 'Seri': 7093, 'requested': 7094, 'reference': 7095, 'Training': 7096, 'Macedonia': 7097, 'Lionel': 7098, 'Hurricanes': 7099, 'Reese': 7100, 'Olmert': 7101, 'purpose': 7102, 'Lauren': 7103, 'mandate': 7104, 'electoral': 7105, 'Swine': 7106, 'heritage': 7107, 'deployment': 7108, 'Parliamentary': 7109, 'eBay': 7110, 'Tanzania': 7111, 'pitches': 7112, 'Willis': 7113, 'administrators': 7114, 'compact': 7115, 'displaced': 7116, 'romance': 7117, 'journey': 7118, 'Doug': 7119, 'Demand': 7120, 'generate': 7121, 'publicist': 7122, 'exercises': 7123, 'consolidation': 7124, 'Paulo': 7125, 'Neill': 7126, 'whale': 7127, 'swung': 7128, 'notices': 7129, 'Iceland': 7130, 'bankers': 7131, 'steep': 7132, 'dip': 7133, 'Slam': 7134, 'TD': 7135, 'pharmacy': 7136, 'Winston': 7137, 'Walk': 7138, 'assassination': 7139, 'arriving': 7140, 'Pre': 7141, 'logistics': 7142, 'retains': 7143, 'enterprises': 7144, 'accusations': 7145, 'Elderly': 7146, 'clashed': 7147, 'Atletico': 7148, 'cotton': 7149, 'Tevez': 7150, '+': 7151, 'WBC': 7152, 'zoo': 7153, 'incentives': 7154, 'introducing': 7155, 'Northeast': 7156, 'Living': 7157, 'Bruno': 7158, 'horror': 7159, 'Kurt': 7160, 'Alicia': 7161, 'Zac': 7162, 'Palestine': 7163, 'afraid': 7164, 'amazing': 7165, 'Movie': 7166, 'Players': 7167, 'reflecting': 7168, 'Erie': 7169, 'Amid': 7170, 'polling': 7171, 'radiation': 7172, 'Revolution': 7173, 'villages': 7174, 'Damon': 7175, 'volatility': 7176, 'Gray': 7177, 'wrestling': 7178, 'Symphony': 7179, 'Nikkei': 7180, 'fractured': 7181, 'Hayden': 7182, 'nervous': 7183, 'suite': 7184, 'maintaining': 7185, 'Astros': 7186, 'Falcons': 7187, 'batting': 7188, 'fever': 7189, 'Due': 7190, 'Primary': 7191, 'Pearl': 7192, 'Anil': 7193, 'Back': 7194, 'bout': 7195, 'ideas': 7196, 'spray': 7197, 'Holland': 7198, 'Cal': 7199, 'cooperate': 7200, 'Hewitt': 7201, 'compound': 7202, 'Jun': 7203, 'Malawi': 7204, 'lowers': 7205, 'Jeffrey': 7206, 'loaded': 7207, 'Li': 7208, 'sheet': 7209, 'islands': 7210, 'Hungarian': 7211, 'Walt': 7212, 'ramp': 7213, 'climbing': 7214, 'Dream': 7215, 'administrator': 7216, 'Stores': 7217, 'battered': 7218, 'Billiton': 7219, 'Felipe': 7220, 'shutdown': 7221, 'Pregnant': 7222, 'Marketing': 7223, 'Tracy': 7224, 'Megan': 7225, 'Pfizer': 7226, 'Estate': 7227, 'revival': 7228, 'GE': 7229, 'Hero': 7230, 'Diana': 7231, 'Fifth': 7232, 'Charter': 7233, 'Search': 7234, 'booking': 7235, 'Zone': 7236, 'Horizon': 7237, 'fruit': 7238, 'Spice': 7239, 'Gabrielle': 7240, 'degrees': 7241, 'lanes': 7242, 'Knox': 7243, 'publish': 7244, 'Fresh': 7245, 'shutting': 7246, 'Nova': 7247, 'pursuit': 7248, '6th': 7249, 'Perez': 7250, 'Hernandez': 7251, 'monsoon': 7252, 'subscription': 7253, 'negotiating': 7254, 'questioning': 7255, 'Reality': 7256, 'reunite': 7257, 'Islamist': 7258, 'belt': 7259, 'slower': 7260, 'harvest': 7261, 'formation': 7262, 'propose': 7263, 'Devils': 7264, 'narrow': 7265, 'Kraft': 7266, 'athletic': 7267, 'inventories': 7268, '400000': 7269, 'Tower': 7270, 'bedroom': 7271, 'Newly': 7272, '6000': 7273, 'Hodgson': 7274, 'Hussain': 7275, 'Belfast': 7276, 'Carlo': 7277, 'weakening': 7278, 'server': 7279, 'Reporter': 7280, 'Aviv': 7281, 'Products': 7282, 'heating': 7283, 'Invitational': 7284, 'Joey': 7285, 'AOL': 7286, 'Run': 7287, 'extraordinary': 7288, 'Coalition': 7289, 'sustainability': 7290, 'lobby': 7291, 'Take': 7292, 'Oliver': 7293, 'Census': 7294, 'Puerto': 7295, 'FTSE': 7296, 'mandatory': 7297, 'Bath': 7298, 'Sanders': 7299, 'burnt': 7300, 'combine': 7301, 'n': 7302, 'overweight': 7303, 'Europa': 7304, '12000': 7305, 'backup': 7306, 'underage': 7307, 'invests': 7308, 'deploy': 7309, 'dictator': 7310, 'blind': 7311, 'Talent': 7312, 'Khalifa': 7313, 'celebrities': 7314, 'Samantha': 7315, '96': 7316, 'Against': 7317, 'ounce': 7318, 'Leonardo': 7319, 'pressures': 7320, 'funded': 7321, 'surface': 7322, 'Access': 7323, 'dominated': 7324, 'repay': 7325, 'ASEAN': 7326, 'Valencia': 7327, 'Metal': 7328, 'beaches': 7329, '30th': 7330, 'Messi': 7331, 'faculty': 7332, 'permanently': 7333, 'method': 7334, 'Blackpool': 7335, 'Season': 7336, 'shake': 7337, 'mysterious': 7338, '2001': 7339, 'meals': 7340, 'governing': 7341, 'disabilities': 7342, 'robbers': 7343, 'Rossi': 7344, 'Trading': 7345, 'hundred': 7346, 'Algeria': 7347, 'Jackie': 7348, 'treating': 7349, 'Intelligence': 7350, 'surprised': 7351, 'Nuclear': 7352, 'tragic': 7353, 'Claude': 7354, 'reaction': 7355, 'stating': 7356, 'altercation': 7357, 'provinces': 7358, 'barn': 7359, 'wed': 7360, 'Yadav': 7361, 'strained': 7362, 'pioneer': 7363, 'Bombay': 7364, 'Culture': 7365, 'Hemsworth': 7366, 'boards': 7367, 'startup': 7368, 'chapter': 7369, 'Trail': 7370, 'replaces': 7371, 'Cannon': 7372, 'pipe': 7373, 'decides': 7374, 'shoe': 7375, 'eventually': 7376, 'Underwood': 7377, 'o': 7378, 'initiated': 7379, 'Pierce': 7380, 'Gingrich': 7381, 'portion': 7382, 'lays': 7383, 'transactions': 7384, 'Coventry': 7385, 'speeds': 7386, 'shuts': 7387, '180': 7388, 'rage': 7389, 'Comedy': 7390, 'barrels': 7391, 'pointing': 7392, 'requiring': 7393, 'Telekom': 7394, 'aware': 7395, 'Mayweather': 7396, 'Schumacher': 7397, 'trader': 7398, 'Crosby': 7399, 'Etihad': 7400, 'messaging': 7401, 'chat': 7402, 'relative': 7403, 'accidental': 7404, 'golfer': 7405, 'academy': 7406, 'expresses': 7407, 'chemicals': 7408, 'plotting': 7409, 'permit': 7410, 'Les': 7411, 'Netflix': 7412, 'wounding': 7413, 'bargain': 7414, 'battles': 7415, 'challenger': 7416, 'Peninsula': 7417, 'Rural': 7418, 'atomic': 7419, 'Prairie': 7420, 'Westminster': 7421, 'Vernon': 7422, 'Hawks': 7423, 'analytics': 7424, 'unexpected': 7425, 'economist': 7426, 'seasonal': 7427, 'Jenkins': 7428, 'Ki': 7429, 'pig': 7430, 'carmaker': 7431, 'Legal': 7432, 'Pierre': 7433, 'marginally': 7434, 'thus': 7435, '16th': 7436, 'hidden': 7437, 'contributions': 7438, 'Toledo': 7439, 'prayer': 7440, 'Parks': 7441, 'schemes': 7442, 'imported': 7443, 'Djokovic': 7444, 'widened': 7445, 'shortstop': 7446, 'Miguel': 7447, 'magic': 7448, 'Shiv': 7449, 'Bailey': 7450, 'Player': 7451, 'setback': 7452, 'doubleheader': 7453, 'malaria': 7454, 'burglar': 7455, 'crops': 7456, 'Alert': 7457, 'reunited': 7458, 'founded': 7459, 'eco': 7460, 'Mayo': 7461, 'LTTE': 7462, 'Reno': 7463, 'chips': 7464, 'teeth': 7465, 'Nuggets': 7466, 'Claire': 7467, 'blames': 7468, 'spends': 7469, 'Halle': 7470, '2.7': 7471, 'enhancing': 7472, 'Hannah': 7473, 'Bharatiya': 7474, 'trophy': 7475, 'tightened': 7476, 'Corporate': 7477, 'Bengals': 7478, 'Janet': 7479, 'Burke': 7480, 'Investigation': 7481, 'linking': 7482, 'Hezbollah': 7483, 'coup': 7484, 'meter': 7485, 'Asset': 7486, 'plenty': 7487, 'fierce': 7488, 'medicines': 7489, 'raids': 7490, 'tweet': 7491, 'removing': 7492, 'advocates': 7493, 'panic': 7494, 'tribunal': 7495, 'facial': 7496, 'ripped': 7497, 'presenting': 7498, 'Caroline': 7499, 'ally': 7500, 'Rory': 7501, 'MLS': 7502, 'Medicaid': 7503, 'External': 7504, 'historical': 7505, 'Ponting': 7506, 'Order': 7507, 'Hispanic': 7508, 'poker': 7509, 'slid': 7510, 'Rev': 7511, '2003': 7512, 'lion': 7513, 'Raymond': 7514, 'ballots': 7515, 'nationally': 7516, 'Victor': 7517, 'AK': 7518, 'Silva': 7519, 'collect': 7520, 'cement': 7521, 'Stamford': 7522, 'checked': 7523, 'showcase': 7524, 'Matthews': 7525, 'eligible': 7526, 'tanks': 7527, 'workplace': 7528, 'covers': 7529, 'length': 7530, 'tap': 7531, 'endangered': 7532, 'succeed': 7533, 'Communist': 7534, 'gender': 7535, 'adjourned': 7536, 'Nottingham': 7537, 'sun': 7538, 'FM': 7539, 'sentences': 7540, 'Tebow': 7541, 'Professional': 7542, 'slight': 7543, 'humans': 7544, 'inch': 7545, 'Dance': 7546, 'Author': 7547, 'Bernie': 7548, 'reject': 7549, 'explodes': 7550, 'clears': 7551, 'removal': 7552, 'consequences': 7553, 'pride': 7554, 'relegation': 7555, 'robust': 7556, 'initially': 7557, 'subsidiaries': 7558, 'regard': 7559, 'Prison': 7560, 'Redknapp': 7561, 'operates': 7562, 'seizure': 7563, 'certificate': 7564, 'institutional': 7565, 'Balotelli': 7566, 'platforms': 7567, 'Clippers': 7568, '5th': 7569, 'lots': 7570, 'reactor': 7571, 'MySpace': 7572, '225': 7573, 'JSE': 7574, 'Frontier': 7575, 'jackpot': 7576, 'Mercury': 7577, '2.3': 7578, 'theater': 7579, 'Pyongyang': 7580, 'consultancy': 7581, 'Pawlenty': 7582, 'Wipro': 7583, 'statutory': 7584, 'Members': 7585, 'killings': 7586, 'departure': 7587, 'truth': 7588, 'Lower': 7589, 'requests': 7590, 'poses': 7591, 'voluntarily': 7592, 'Hassan': 7593, 'Ledger': 7594, 'Arlington': 7595, 'cease': 7596, 'Purdue': 7597, 'Ferdinand': 7598, 'corporation': 7599, 'counterfeit': 7600, 'Trial': 7601, 'resolved': 7602, 'Cain': 7603, 'Depot': 7604, 'Zimbabwean': 7605, 'competing': 7606, 'ray': 7607, 'Premiership': 7608, 'massacre': 7609, 'Choice': 7610, 'physically': 7611, 'contempt': 7612, 'ton': 7613, 'Kindle': 7614, 'thief': 7615, 'pizza': 7616, 'mum': 7617, 'Progress': 7618, 'firmly': 7619, 'ultimate': 7620, 'respectively': 7621, 'repeated': 7622, 'Stanford': 7623, 'Kingfisher': 7624, 'toilet': 7625, 'difficulties': 7626, 'giants': 7627, 'desperate': 7628, 'Plains': 7629, '23rd': 7630, 'tighten': 7631, 'Lancaster': 7632, 'muscle': 7633, 'outages': 7634, 'Vale': 7635, 'Unilever': 7636, 'uniform': 7637, 'Davidson': 7638, 'participants': 7639, 'Mali': 7640, 'distributed': 7641, 'peacefully': 7642, 'recognize': 7643, 'specifically': 7644, 'perhaps': 7645, 'Pistorius': 7646, 'plug': 7647, 'borders': 7648, 'welterweight': 7649, 'Mesa': 7650, 'App': 7651, 'rocked': 7652, 'Gwyneth': 7653, 'Paltrow': 7654, 'Andrews': 7655, 'Hyundai': 7656, 'soil': 7657, '97': 7658, 'exclusively': 7659, 'Georgetown': 7660, 'convert': 7661, 'tonne': 7662, 'Ramirez': 7663, 'Croatian': 7664, 'Telegraph': 7665, 'coma': 7666, 'iPod': 7667, 'ages': 7668, 'Courtney': 7669, 'prepaid': 7670, 'jointly': 7671, 'visas': 7672, '1.8': 7673, 'groin': 7674, 'predict': 7675, 'Burlington': 7676, 'interesting': 7677, 'embezzlement': 7678, 'sequel': 7679, 'Spirit': 7680, 'libel': 7681, 'Seng': 7682, 'Internal': 7683, 'graduates': 7684, 'tuition': 7685, 'organizers': 7686, 'cream': 7687, 'Yesterday': 7688, 'resigning': 7689, 'Rwanda': 7690, 'elements': 7691, 'Italia': 7692, 'Zuckerberg': 7693, 'Manitoba': 7694, 'reputation': 7695, 'acid': 7696, 'Low': 7697, 'discusses': 7698, 'bullish': 7699, 'Jorge': 7700, 'organic': 7701, 'Cavaliers': 7702, 'Surrey': 7703, 'informs': 7704, 'wheelchair': 7705, 'evacuate': 7706, 'procedures': 7707, 'Infrastructure': 7708, 'Dover': 7709, 'gig': 7710, 'waive': 7711, 'shore': 7712, 'sparking': 7713, 'designs': 7714, 'Aid': 7715, 'singles': 7716, 'passport': 7717, 'calendar': 7718, 'slips': 7719, 'equality': 7720, 'stayed': 7721, 'Connor': 7722, 'Angola': 7723, 'mainland': 7724, 'JD': 7725, 'confrontation': 7726, 'Change': 7727, 'dated': 7728, 'Hampton': 7729, 'Category': 7730, 'flags': 7731, 'O2': 7732, 'Coffee': 7733, 'approaches': 7734, 'bankrupt': 7735, 'Myrtle': 7736, 'abduction': 7737, 'Rally': 7738, 'rescues': 7739, 'Motorcyclist': 7740, 'discussing': 7741, 'Guardian': 7742, 'crown': 7743, 'burden': 7744, 'motel': 7745, '4.5': 7746, 'detective': 7747, '250000': 7748, 'upbeat': 7749, 'Severe': 7750, 'Nielsen': 7751, 'Victorian': 7752, 'Scotia': 7753, 'richest': 7754, 'Khloe': 7755, 'loose': 7756, 'consultation': 7757, 'experiences': 7758, 'earning': 7759, 'Chandigarh': 7760, 'Pelosi': 7761, 'sore': 7762, 'Tunisian': 7763, 'Complex': 7764, 'Pilot': 7765, 'Canterbury': 7766, 'farms': 7767, 'thunderstorm': 7768, 'Daniels': 7769, 'admit': 7770, 'devastated': 7771, 'Florence': 7772, 'waves': 7773, 'precious': 7774, 'vessels': 7775, 'ambitious': 7776, 'Gadhafi': 7777, 'advisers': 7778, 'Vienna': 7779, 'cheaper': 7780, 'Flight': 7781, 'deserve': 7782, 'payroll': 7783, 'conducting': 7784, 'sometime': 7785, 'Nolan': 7786, 'autumn': 7787, 'shook': 7788, 'Lansing': 7789, 'Usain': 7790, 'consolidate': 7791, 'boxer': 7792, 'Stern': 7793, '8.5': 7794, 'findings': 7795, 'commissioned': 7796, 'FOX': 7797, 'autopsy': 7798, 'Reddy': 7799, 'midday': 7800, 'predicts': 7801, 'Clayton': 7802, 'Robertson': 7803, 'mansion': 7804, 'moral': 7805, '140': 7806, 'Citi': 7807, 'foods': 7808, 'gubernatorial': 7809, 'Pietersen': 7810, 'BSE': 7811, 'banning': 7812, 'contractors': 7813, 'secretly': 7814, 'garbage': 7815, 'yield': 7816, 'greenhouse': 7817, 'Alec': 7818, '104': 7819, 'sprint': 7820, 'criticised': 7821, 'fixing': 7822, 'ordinary': 7823, 'showdown': 7824, 'relating': 7825, 'recommendations': 7826, 'drummer': 7827, 'Kidman': 7828, 'Holy': 7829, 'Franco': 7830, 'error': 7831, 'undergone': 7832, 'Klum': 7833, 'proof': 7834, 'toxic': 7835, '40000': 7836, 'unemployed': 7837, '2.1': 7838, 'soared': 7839, 'cooking': 7840, 'temperature': 7841, 'ferry': 7842, 'subsidies': 7843, 'Sabah': 7844, 'stalking': 7845, 'fate': 7846, 'Mega': 7847, '6.5': 7848, 'starter': 7849, 'treatments': 7850, 'turnover': 7851, 'puppy': 7852, 'attendance': 7853, 'preserve': 7854, 'greenback': 7855, 'opponent': 7856, 'ejected': 7857, 'rockets': 7858, 'Michel': 7859, 'inches': 7860, 'Amsterdam': 7861, 'establishment': 7862, 'Arabian': 7863, 'introduction': 7864, 'Canberra': 7865, 'Tajikistan': 7866, 'Gardens': 7867, 'matters': 7868, 'del': 7869, 'Lucknow': 7870, 'CPI': 7871, 'amnesty': 7872, 'Herman': 7873, 'axe': 7874, 'Domestic': 7875, 'Suns': 7876, 'Blackhawks': 7877, 'avoided': 7878, 'Novak': 7879, '49ers': 7880, 'plate': 7881, 'POLICE': 7882, 'laying': 7883, 'Hilary': 7884, 'Dutt': 7885, 'statue': 7886, 'Rhode': 7887, 'Himachal': 7888, 'Americas': 7889, 'sum': 7890, 'Paterno': 7891, 'windows': 7892, 'airlifted': 7893, 'Curtis': 7894, 'Higher': 7895, 'Victory': 7896, 'Javier': 7897, 'Jul': 7898, 'delighted': 7899, 'represents': 7900, 'Newt': 7901, 'Salvation': 7902, 'Bang': 7903, 'Winslet': 7904, 'adopts': 7905, 'pak': 7906, 'relationships': 7907, 'reiterates': 7908, 'Wen': 7909, 'Congo': 7910, 'soul': 7911, 'CNBC': 7912, 'tiger': 7913, 'Leonard': 7914, 'Portman': 7915, 'Telstra': 7916, 'harm': 7917, 'exam': 7918, 'cheated': 7919, 'handset': 7920, 'indicating': 7921, 'Lehman': 7922, 'unfair': 7923, 'sat': 7924, 'customs': 7925, 'sole': 7926, 'Comic': 7927, 'murders': 7928, 'painting': 7929, 'heels': 7930, 'Duchess': 7931, 'Johnston': 7932, 'generating': 7933, 'grenade': 7934, 'relay': 7935, 'Kurdish': 7936, 'Nitish': 7937, 'Malley': 7938, 'Female': 7939, 'Antony': 7940, 'happiness': 7941, 'rear': 7942, 'subway': 7943, 'Irene': 7944, 'shortages': 7945, 'graduation': 7946, 'lane': 7947, 'Hewlett': 7948, 'lets': 7949, 'recognised': 7950, 'Playboy': 7951, '300000': 7952, 'proposing': 7953, 'Aurora': 7954, 'Uzbekistan': 7955, 'reconstruction': 7956, 'builder': 7957, 'surrendered': 7958, 'opera': 7959, 'placing': 7960, 'premises': 7961, 'Torres': 7962, 'asthma': 7963, 'Shriver': 7964, 'Investments': 7965, 'reorganization': 7966, 'bullpen': 7967, 'Around': 7968, 'buyer': 7969, 'Westwood': 7970, 'flew': 7971, 'Halloween': 7972, 'Ralph': 7973, 'ND': 7974, 'Volvo': 7975, 'Oasis': 7976, 'sweeps': 7977, 'anger': 7978, 'wicket': 7979, 'satisfaction': 7980, 'Maldives': 7981, 'Pass': 7982, 'Commander': 7983, 'Laurent': 7984, 'command': 7985, 'Do': 7986, 'Diane': 7987, 'Walters': 7988, 'riots': 7989, 'Islanders': 7990, 'desktop': 7991, 'surgeon': 7992, '7.5': 7993, 'acknowledged': 7994, 'volumes': 7995, 'Webb': 7996, 'busted': 7997, 'requires': 7998, 'publishes': 7999, 'indicates': 8000, 'petroleum': 8001, 'upward': 8002, 'yards': 8003, 'liability': 8004, 'debuts': 8005, 'Clegg': 8006, 'protecting': 8007, 'ousted': 8008, 'methods': 8009, 'Raleigh': 8010, 'imminent': 8011, 'manner': 8012, 'AFC': 8013, 'Both': 8014, 'opposes': 8015, 'Castle': 8016, 'rapid': 8017, '60th': 8018, 'pages': 8019, 'stricken': 8020, 'Orchestra': 8021, 'AB': 8022, 'injection': 8023, 'minors': 8024, 'Bret': 8025, 'successor': 8026, 'Ehud': 8027, 'Cambodia': 8028, 'Guantanamo': 8029, 'external': 8030, 'Accra': 8031, 'prop': 8032, 'Evan': 8033, 'legislature': 8034, 'certainly': 8035, 'Dynamics': 8036, 'laser': 8037, 'describes': 8038, 'Employment': 8039, 'grandfather': 8040, 'budgets': 8041, 'Novosti': 8042, 'installation': 8043, 'monitors': 8044, 'juvenile': 8045, 'unite': 8046, 'Fine': 8047, 'slows': 8048, 'comic': 8049, 'secrets': 8050, 'yellow': 8051, 'Every': 8052, 'debates': 8053, 'stopping': 8054, 'Preston': 8055, 'golden': 8056, 'Panthers': 8057, 'havoc': 8058, 'sky': 8059, 'Ashok': 8060, 'collections': 8061, 'headline': 8062, 'orbit': 8063, 'Shaw': 8064, 'stance': 8065, 'myself': 8066, 'Lynn': 8067, 'activate': 8068, 'BNP': 8069, 'mothers': 8070, 'Wallabies': 8071, 'Moines': 8072, 'fragile': 8073, 'Belmont': 8074, 'Alonso': 8075, 'Sales': 8076, 'highlights': 8077, 'bitten': 8078, 'bowl': 8079, 'rifle': 8080, 'disturbance': 8081, 'trademark': 8082, 'Cities': 8083, 'Downs': 8084, 'Parkway': 8085, 'Eye': 8086, 'truly': 8087, 'sleeping': 8088, 'Carnival': 8089, 'restart': 8090, 'factories': 8091, 'exhibit': 8092, 'fiance': 8093, 'punching': 8094, 'factors': 8095, 'prefer': 8096, 'planting': 8097, 'SP': 8098, 'Gerard': 8099, 'Fannie': 8100, 'RIM': 8101, 'Funeral': 8102, 'draws': 8103, 'organisations': 8104, 'exploitation': 8105, 'enemy': 8106, 'negotiate': 8107, 'Anand': 8108, 'allocation': 8109, 'Flyers': 8110, 'Ethiopian': 8111, 'Kamal': 8112, 'Morrison': 8113, 'behavior': 8114, 'Chesapeake': 8115, 'Immigration': 8116, 'lighting': 8117, 'shocked': 8118, 'appropriate': 8119, 'disappeared': 8120, 'Eid': 8121, 'tightening': 8122, 'Madoff': 8123, 'obsessed': 8124, 'gallon': 8125, 'recommends': 8126, 'Grace': 8127, 'Kerr': 8128, 'Manufacturing': 8129, 'associate': 8130, 'Christ': 8131, 'steam': 8132, 'observers': 8133, 'sized': 8134, 'Durban': 8135, 'ECB': 8136, 'rid': 8137, 'Huntsman': 8138, 'Slovakia': 8139, 'Paper': 8140, 'Sandusky': 8141, 'rent': 8142, 'divisions': 8143, 'middleweight': 8144, 'intellectual': 8145, 'Majority': 8146, 'clinched': 8147, 'describing': 8148, 'Endeavour': 8149, 'Horse': 8150, 'Dogg': 8151, 'researcher': 8152, 'deliberately': 8153, 'Non': 8154, 'signals': 8155, 'Stones': 8156, 'engage': 8157, 'Rutgers': 8158, 'Investigators': 8159, 'pushes': 8160, 'Hang': 8161, 'Priyanka': 8162, 'impaired': 8163, 'conglomerate': 8164, 'annually': 8165, 'advocate': 8166, 'spotlight': 8167, 'Boise': 8168, 'remainder': 8169, 'Klitschko': 8170, 'Srinagar': 8171, 'reunion': 8172, 'Nazi': 8173, 'Roethlisberger': 8174, 'sponsors': 8175, 'ash': 8176, 'explained': 8177, 'rogue': 8178, 'Logan': 8179, 'households': 8180, 'yacht': 8181, 'Hearts': 8182, 'hazardous': 8183, 'sexy': 8184, 'Polanski': 8185, 'famed': 8186, 'attorneys': 8187, 'Cage': 8188, 'formerly': 8189, 'Qld': 8190, 'hide': 8191, 'gala': 8192, 'demonstrators': 8193, 'Groupon': 8194, 'confirming': 8195, 'stalled': 8196, 'Brooke': 8197, 'Mitsubishi': 8198, 'Fairfield': 8199, 'Shaun': 8200, 'promotes': 8201, 'Panama': 8202, 'deny': 8203, 'lashes': 8204, 'Spider': 8205, 'Rajapaksa': 8206, 'dismissal': 8207, 'Wizards': 8208, 'infected': 8209, 'wound': 8210, 'meth': 8211, 'Rico': 8212, 'Recovery': 8213, 'disasters': 8214, 'Shield': 8215, 'awaiting': 8216, 'Levi': 8217, 'founding': 8218, 'Efron': 8219, 'errors': 8220, 'Midland': 8221, 'contestant': 8222, 'preparations': 8223, 'openly': 8224, 'wrap': 8225, 'washed': 8226, 'gym': 8227, 'arrangements': 8228, 'territorial': 8229, 'disorders': 8230, 'distributing': 8231, 'Magistrate': 8232, 'solidarity': 8233, 'operative': 8234, 'internationally': 8235, 'DWI': 8236, 'Amnesty': 8237, 'youngsters': 8238, 'embattled': 8239, 'Lennon': 8240, 'Grey': 8241, 'Katherine': 8242, 'withdrawing': 8243, 'litre': 8244, 'Porsche': 8245, 'Rapid': 8246, 'elite': 8247, 'Beirut': 8248, 'estimate': 8249, 'scrapped': 8250, 'indie': 8251, 'astronaut': 8252, 'learnt': 8253, 'guitar': 8254, 'Packard': 8255, 'Linda': 8256, 'Pride': 8257, 'Gavin': 8258, '8000': 8259, 'domain': 8260, 'exceed': 8261, 'bullying': 8262, 'Appeal': 8263, 'Sara': 8264, 'Alice': 8265, '5.5': 8266, 'congressman': 8267, 'NYSE': 8268, 'trash': 8269, 'Lowe': 8270, 'Amir': 8271, 'courtroom': 8272, 'nearing': 8273, 'Radcliffe': 8274, 'Call': 8275, 'Focus': 8276, 'classroom': 8277, 'indigenous': 8278, 'Duff': 8279, 'Cruises': 8280, 'sometimes': 8281, 'Toshiba': 8282, 'Ranch': 8283, 'Yeddyurappa': 8284, 'doubts': 8285, 'cops': 8286, 'Quality': 8287, 'Zach': 8288, 'lengthy': 8289, 'Holder': 8290, 'inauguration': 8291, 'signature': 8292, 'marketplace': 8293, 'Chester': 8294, 'Coronation': 8295, 'Automotive': 8296, 'bias': 8297, 'pancreatic': 8298, 'tradition': 8299, 'Go': 8300, 'Dodge': 8301, 'grandmother': 8302, 'Bafana': 8303, 'Lafayette': 8304, 'ODI': 8305, 'Mich': 8306, 'upheld': 8307, 'continent': 8308, 'respects': 8309, 'tributes': 8310, 'searched': 8311, 'neighbour': 8312, 'directing': 8313, 'reliable': 8314, 'confirmation': 8315, 'Alzheimer': 8316, 'Vettel': 8317, 'Round': 8318, 'Pink': 8319, 'Wachovia': 8320, 'Sidney': 8321, 'Minsk': 8322, 'belonging': 8323, 'reckless': 8324, 'Dragon': 8325, 'Met': 8326, 'trio': 8327, 'bonus': 8328, 'Age': 8329, 'Tomas': 8330, 'faulty': 8331, 'legacy': 8332, 'lightweight': 8333, 'concludes': 8334, 'example': 8335, 'empty': 8336, 'Command': 8337, 'Ducks': 8338, 'genocide': 8339, 'bases': 8340, 'Story': 8341, 'entrance': 8342, 'neighbouring': 8343, 'councillors': 8344, 'balanced': 8345, 'maiden': 8346, 'agreeing': 8347, 'donor': 8348, 'Jermaine': 8349, 'Doha': 8350, 'Abraham': 8351, 'highlighting': 8352, 'denying': 8353, 'RCMP': 8354, 'Adobe': 8355, 'offseason': 8356, 'Medal': 8357, 'Zimmerman': 8358, 'stays': 8359, 'cigarette': 8360, 'drain': 8361, 'contamination': 8362, 'Mediterranean': 8363, 'Coroner': 8364, 'dirty': 8365, 'gradually': 8366, 'valley': 8367, '1400': 8368, 'Job': 8369, 'Inn': 8370, 'Kunis': 8371, 'Ibrahim': 8372, 'teach': 8373, 'finalized': 8374, 'lap': 8375, 'Stakes': 8376, 'Sons': 8377, 'raided': 8378, 'Di': 8379, 'Jude': 8380, 'connect': 8381, 'albums': 8382, 'friendship': 8383, 'enjoys': 8384, 'Soviet': 8385, 'urgent': 8386, 'MW': 8387, 'cigarettes': 8388, 'transparency': 8389, 'portable': 8390, 'endangerment': 8391, 'flooded': 8392, 'Cotton': 8393, 'Isaac': 8394, 'scratched': 8395, 'designate': 8396, 'pink': 8397, 'barred': 8398, 'Savannah': 8399, 'repeat': 8400, 'concessions': 8401, 'flexible': 8402, 'TSX': 8403, 'Trent': 8404, 'dealt': 8405, 'panels': 8406, 'Plans': 8407, 'colleague': 8408, 'Dawn': 8409, 'Clarkson': 8410, 'Southampton': 8411, 'nor': 8412, 'notorious': 8413, 'volcano': 8414, 'warship': 8415, 'institute': 8416, 'Chevrolet': 8417, 'Wesley': 8418, 'fiery': 8419, 'Prevention': 8420, 'choices': 8421, 'Malcolm': 8422, 'Plant': 8423, 'Earlier': 8424, 'Model': 8425, 'workout': 8426, 'Re': 8427, 'Jade': 8428, 'sailors': 8429, 'McIlroy': 8430, 'F1': 8431, 'Oilers': 8432, 'Hague': 8433, 'Cathedral': 8434, 'cemetery': 8435, 'Melissa': 8436, 'disrupt': 8437, 'Treasurer': 8438, 'chose': 8439, 'Arquette': 8440, 'prolonged': 8441, 'Municipal': 8442, 'tariff': 8443, 'Frankfurt': 8444, 'prayers': 8445, 'lined': 8446, 'Newsday': 8447, 'scared': 8448, 'Ike': 8449, 'Flash': 8450, 'chocolate': 8451, 'Nets': 8452, 'Bentley': 8453, 'transfers': 8454, 'Shawn': 8455, 'Knoxville': 8456, '1600': 8457, 'appearances': 8458, 'attacker': 8459, 'automatic': 8460, 'Mila': 8461, 'hammer': 8462, 'bishop': 8463, 'indices': 8464, 'accessories': 8465, 'Vic': 8466, 'Almost': 8467, 'item': 8468, 'Sienna': 8469, 'LED': 8470, 'Jared': 8471, 'steroids': 8472, 'Luther': 8473, 'complained': 8474, 'sprained': 8475, 'landfall': 8476, 'nonprofit': 8477, 'usual': 8478, 'Joan': 8479, 'Shannon': 8480, 'distance': 8481, 'clearly': 8482, 'indexes': 8483, 'arguing': 8484, 'Lehigh': 8485, 'detect': 8486, 'consent': 8487, 'Kourtney': 8488, 'pot': 8489, 'Popular': 8490, 'Binghamton': 8491, 'Willie': 8492, 'Plaza': 8493, 'Jessie': 8494, 'Sharp': 8495, 'widens': 8496, 'Teenager': 8497, 'Homeless': 8498, 'elects': 8499, 'totally': 8500, 'mode': 8501, '8th': 8502, 'Branch': 8503, 'interviews': 8504, 'renovation': 8505, 'pitching': 8506, 'Sporting': 8507, 'consideration': 8508, 'blaming': 8509, 'promotions': 8510, 'blockade': 8511, 'prefers': 8512, 'Managing': 8513, 'briefing': 8514, 'slumped': 8515, 'constable': 8516, 'trim': 8517, 'acted': 8518, 'capsized': 8519, 'sitcom': 8520, 'cabin': 8521, 'Gerrard': 8522, 'LeBron': 8523, 'Kodak': 8524, 'dentist': 8525, 'thank': 8526, 'Ana': 8527, 'upside': 8528, 'menu': 8529, 'Blockbuster': 8530, 'census': 8531, 'MGM': 8532, 'criticized': 8533, 'Chandler': 8534, 'dengue': 8535, 'Mick': 8536, 'Vista': 8537, 'sinking': 8538, 'gunfire': 8539, '750': 8540, 'admission': 8541, 'Shahbaz': 8542, 'Letterman': 8543, 'entrepreneurs': 8544, 'Come': 8545, '2.0': 8546, 'mayoral': 8547, 'Burnley': 8548, 'Twin': 8549, 'spare': 8550, '450': 8551, 'casting': 8552, 'holy': 8553, 'Giant': 8554, 'Airline': 8555, 'safer': 8556, 'deepening': 8557, 'fisherman': 8558, 'Wilkinson': 8559, 'gesture': 8560, 'Felix': 8561, 'handing': 8562, 'haul': 8563, 'Gate': 8564, 'downloads': 8565, 'afford': 8566, 'la': 8567, 'successive': 8568, '®': 8569, 'Which': 8570, 'Reilly': 8571, 'Leone': 8572, 'Swat': 8573, 'grabbed': 8574, 'Films': 8575, 'Dawson': 8576, 'Bashir': 8577, 'rep': 8578, 'GaGa': 8579, 'Cohen': 8580, 'actively': 8581, 'evaluation': 8582, 'Macquarie': 8583, 'drills': 8584, 'columnist': 8585, 'Russians': 8586, 'Dale': 8587, 'Guide': 8588, 'Cooperation': 8589, 'patch': 8590, 'Hindi': 8591, 'bottles': 8592, 'Emily': 8593, 'XI': 8594, 'provision': 8595, 'Nexus': 8596, 'origin': 8597, 'freshman': 8598, 'ethanol': 8599, 'Million': 8600, 'bump': 8601, 'Mancini': 8602, 'worsening': 8603, 'Pedestrian': 8604, 'barrier': 8605, 'kiss': 8606, 'generic': 8607, 'Bucks': 8608, 'majors': 8609, 'PCs': 8610, 'attracting': 8611, 'Crist': 8612, 'unanimous': 8613, 'detailed': 8614, 'Johns': 8615, 'constituency': 8616, 'toy': 8617, 'critic': 8618, 'Trafford': 8619, 'pieces': 8620, 'fence': 8621, 'dementia': 8622, 'tweets': 8623, 'Honduras': 8624, 'casualties': 8625, 'DiCaprio': 8626, 'consultant': 8627, 'councils': 8628, 'cup': 8629, 'examination': 8630, 'animated': 8631, 'Karan': 8632, 'champ': 8633, 'Ramdev': 8634, 'Waste': 8635, 'Albania': 8636, 'Song': 8637, 'Garrett': 8638, 'bargaining': 8639, 'automation': 8640, 'Aquino': 8641, 'Balochistan': 8642, 'revenge': 8643, 'Commons': 8644, 'wet': 8645, 'catching': 8646, 'infections': 8647, 'MRI': 8648, 'Tymoshenko': 8649, 'Sikh': 8650, 'Common': 8651, 'Queens': 8652, 'narrowed': 8653, 'Carr': 8654, 'Berkeley': 8655, 'federation': 8656, 'Macau': 8657, 'implications': 8658, 'RIA': 8659, 'Timor': 8660, 'episodes': 8661, 'Bahamas': 8662, 'Hold': 8663, 'debris': 8664, 'Brunswick': 8665, 'thermal': 8666, 'immigrant': 8667, 'desire': 8668, 'tiny': 8669, 'tycoon': 8670, 'supermodel': 8671, 'Afghans': 8672, 'shifted': 8673, 'Box': 8674, 'Ubisoft': 8675, 'Chaudhry': 8676, 'metric': 8677, 'Historic': 8678, 'tier': 8679, 'Civic': 8680, 'accreditation': 8681, 'acre': 8682, 'donors': 8683, 'vegetables': 8684, 'corrupt': 8685, 'Lawmakers': 8686, 'apartments': 8687, 'mechanism': 8688, 'checking': 8689, 'avoiding': 8690, 'united': 8691, 'bearish': 8692, 'Design': 8693, '9th': 8694, 'Better': 8695, 'bathroom': 8696, 'integrity': 8697, 'Afridi': 8698, 'crushing': 8699, 'sovereignty': 8700, 'Holiday': 8701, 'Indo': 8702, 'Shetty': 8703, 'immunity': 8704, 'counsel': 8705, 'Bermuda': 8706, 'roommate': 8707, 'Drake': 8708, 'Aussie': 8709, 'Bangladeshi': 8710, 'injures': 8711, 'Poker': 8712, 'screens': 8713, 'shifting': 8714, 'Pedro': 8715, 'bombers': 8716, 'skies': 8717, 'Pratibha': 8718, 'entrepreneur': 8719, 'Rahman': 8720, 'ultra': 8721, 'demonstrate': 8722, 'Lokpal': 8723, 'Clay': 8724, 'Beck': 8725, 'Kuwaiti': 8726, 'Review': 8727, 'spreads': 8728, 'Enforcement': 8729, 'semiconductor': 8730, 'reinstated': 8731, 'turnout': 8732, 'Wolf': 8733, 'copyright': 8734, 'Sotomayor': 8735, 'Freeman': 8736, 'clinch': 8737, 'Sheboygan': 8738, 'fraudulent': 8739, 'Baba': 8740, 'Bigg': 8741, 'spectacular': 8742, 'Fairfax': 8743, 'autobiography': 8744, '150000': 8745, 'plunges': 8746, 'Yang': 8747, 'affirmed': 8748, 'shale': 8749, 'hunters': 8750, 'breathing': 8751, 'Mirza': 8752, 'Nasdaq': 8753, 'ST': 8754, 'Watford': 8755, 'amongst': 8756, 'appetite': 8757, 'divided': 8758, 'Chevron': 8759, 'kilometres': 8760, 'slot': 8761, 'Aliyev': 8762, 'margins': 8763, 'bracing': 8764, 'fare': 8765, 'ANZ': 8766, 'Rawalpindi': 8767, 'bloody': 8768, '2.4': 8769, 'capped': 8770, 'Speed': 8771, 'goaltender': 8772, 'Leigh': 8773, 'Rush': 8774, 'Daly': 8775, 'medication': 8776, 'councillor': 8777, 'hates': 8778, 'Comcast': 8779, 'medalist': 8780, 'persistent': 8781, 'ports': 8782, 'mega': 8783, 'auctioned': 8784, 'Samajwadi': 8785, 'destroying': 8786, 'focuses': 8787, 'tumble': 8788, 'theaters': 8789, 'bands': 8790, 'Pike': 8791, 'ceremonies': 8792, 'jazz': 8793, 'USS': 8794, 'Burton': 8795, 'Chrome': 8796, 'obligations': 8797, 'captures': 8798, 'apologise': 8799, 'Mom': 8800, 'cleric': 8801, 'epidemic': 8802, 'highlighted': 8803, 'testimony': 8804, 'neighboring': 8805, 'Pine': 8806, 'hangs': 8807, 'Partnership': 8808, 'indeed': 8809, 'lure': 8810, 'uprising': 8811, 'Haley': 8812, 'Cannes': 8813, 'investigations': 8814, 'editorial': 8815, 'Mrs': 8816, 'indicate': 8817, 'disruption': 8818, 'forgery': 8819, 'Mill': 8820, 'scanner': 8821, 'Kia': 8822, 'Companies': 8823, 'commitments': 8824, 'accelerated': 8825, 'Deepika': 8826, 'nice': 8827, 'legislators': 8828, 'Photo': 8829, 'Mad': 8830, 'Hillsborough': 8831, 'syndrome': 8832, 'mainstream': 8833, 'hostages': 8834, 'Sevilla': 8835, 'Suicide': 8836, 'slashing': 8837, 'closures': 8838, 'Mozambique': 8839, 'Jiabao': 8840, 'firmer': 8841, 'Eli': 8842, 'Manipur': 8843, 'Taiwanese': 8844, 'Aust': 8845, 'relatively': 8846, 'Campaign': 8847, 'gallery': 8848, 'Although': 8849, 'defrauding': 8850, 'Saeed': 8851, 'Silicon': 8852, 'GPS': 8853, 'carries': 8854, 'vast': 8855, 'marched': 8856, 'resistances': 8857, 'Colbert': 8858, 'explosives': 8859, 'Bahraini': 8860, 'protested': 8861, 'snowmobile': 8862, 'Ramesh': 8863, 'clinics': 8864, 'Polk': 8865, 'attached': 8866, 'Morocco': 8867, 'travelers': 8868, 'astronauts': 8869, 'roots': 8870, 'Marines': 8871, 'ravaged': 8872, 'Namibia': 8873, 'bicycle': 8874, 'Augusta': 8875, 'incentive': 8876, 'Sound': 8877, 'Downtown': 8878, 'Resorts': 8879, 'browser': 8880, 'attendant': 8881, 'Irvine': 8882, 'roughly': 8883, 'lieutenant': 8884, 'Viktor': 8885, 'sting': 8886, 'Macon': 8887, 'indictment': 8888, 'Corning': 8889, 'profitability': 8890, 'sinks': 8891, 'transparent': 8892, 'suspending': 8893, 'Elections': 8894, 'Parkinson': 8895, 'inspectors': 8896, 'Alexandra': 8897, 'labourers': 8898, 'Sussex': 8899, 'Il': 8900, 'venue': 8901, 'cattle': 8902, 'Wholesale': 8903, 'weigh': 8904, 'Lea': 8905, 'builds': 8906, 'attitude': 8907, 'deportation': 8908, 'Telangana': 8909, 'otherwise': 8910, 'hat': 8911, 'thefts': 8912, 'Gloucester': 8913, 'relation': 8914, 'freezing': 8915, 'Paralympic': 8916, 'Lithuania': 8917, 'achievements': 8918, 'Palo': 8919, 'Page': 8920, 'Honolulu': 8921, 'expense': 8922, 'Massa': 8923, 'Deputies': 8924, 'detectives': 8925, 'Forbes': 8926, 'integrate': 8927, 'dramatically': 8928, 'hackers': 8929, 'Atlantis': 8930, 'AJ': 8931, '175': 8932, 'harder': 8933, 'riders': 8934, 'Cairn': 8935, 'Jews': 8936, 'destruction': 8937, 'Dannii': 8938, 'Platinum': 8939, 'Ranbir': 8940, 'Hogan': 8941, 'ICICI': 8942, 'Webster': 8943, 'Camden': 8944, 'Martha': 8945, 'Pound': 8946, 'mosque': 8947, 'examine': 8948, 'Gabriel': 8949, 'aground': 8950, 'charts': 8951, 'detainees': 8952, 'spate': 8953, 'charities': 8954, 'Eugene': 8955, 'harsh': 8956, 'renewal': 8957, 'Akron': 8958, 'fielder': 8959, 'adaptation': 8960, 'cleaning': 8961, 'rounder': 8962, 'abandon': 8963, 'outlet': 8964, 'Bible': 8965, 'Davies': 8966, 'Kay': 8967, '7:30': 8968, 'impersonating': 8969, 'suburbs': 8970, 'database': 8971, 'insurers': 8972, 'planet': 8973, 'Hood': 8974, 'folk': 8975, 'Abbey': 8976, 'Eden': 8977, 'extradited': 8978, 'characters': 8979, 'processor': 8980, 'micro': 8981, 'comparison': 8982, 'BT': 8983, 'Petrol': 8984, 'balls': 8985, 'dipped': 8986, 'subdued': 8987, 'minorities': 8988, 'True': 8989, 'Johan': 8990, 'anywhere': 8991, 'Canton': 8992, 'achievement': 8993, 'collapsing': 8994, 'Eminem': 8995, 'downward': 8996, 'LLP': 8997, 'freak': 8998, 'concentrate': 8999, 'ammunition': 9000, 'steals': 9001, '1970s': 9002, 'Tan': 9003, 'Booker': 9004, 'grip': 9005, 'programming': 9006, 'collide': 9007, 'auctions': 9008, 'Dixon': 9009, 'tweeted': 9010, 'lists': 9011, 'judgment': 9012, 'Prices': 9013, 'Knightley': 9014, 'mad': 9015, 'arrivals': 9016, 'attends': 9017, 'Greenville': 9018, 'Ms': 9019, 'eggs': 9020, 'lodged': 9021, 'handsets': 9022, 'aftermath': 9023, 'wildfires': 9024, 'Wanderers': 9025, 'Marsh': 9026, 'Julius': 9027, 'observe': 9028, 'Homes': 9029, 'preventing': 9030, 'Lou': 9031, 'meltdown': 9032, 'pictured': 9033, 'zones': 9034, 'Machine': 9035, 'publishers': 9036, 'requirement': 9037, 'Icahn': 9038, 'Play': 9039, 'heated': 9040, 'measuring': 9041, 'Paraguay': 9042, 'Hip': 9043, 'Brighton': 9044, 'Guns': 9045, 'Ind': 9046, 'committees': 9047, 'Pakistanis': 9048, 'soar': 9049, 'Cavendish': 9050, 'slashes': 9051, 'Tornado': 9052, 'Could': 9053, 'Fitness': 9054, 'Denise': 9055, 'organ': 9056, 'premiums': 9057, 'Semiconductor': 9058, 'Minor': 9059, 'sergeant': 9060, 'demonstrations': 9061, 'basket': 9062, 'dual': 9063, 'passage': 9064, 'diverted': 9065, 'viral': 9066, 'Ronson': 9067, 'gene': 9068, 'troopers': 9069, 'Superintendent': 9070, 'merchant': 9071, '2018': 9072, 'lucrative': 9073, 'cop': 9074, 'colour': 9075, 'blogger': 9076, 'MTN': 9077, 'qualifiers': 9078, 'witnessed': 9079, 'highlight': 9080, 'surpassed': 9081, 'brokers': 9082, 'Lagos': 9083, 'participated': 9084, 'govt': 9085, 'pets': 9086, 'na': 9087, 'Chan': 9088, 'Phillip': 9089, 'finalist': 9090, 'fantasy': 9091, 'Stage': 9092, 'apparel': 9093, 'Illegal': 9094, 'occupation': 9095, 'semifinal': 9096, 'servants': 9097, 'caps': 9098, 'Fans': 9099, 'Ban': 9100, 'Nixon': 9101, 'Nigel': 9102, 'disappointment': 9103, 'Nature': 9104, 'laptops': 9105, 'starred': 9106, 'sailor': 9107, 'pared': 9108, 'consultations': 9109, '7000': 9110, 'testified': 9111, 'canal': 9112, 'pitched': 9113, 'reversing': 9114, 'palm': 9115, 'Crisis': 9116, 'stamp': 9117, 'Wis': 9118, 'Charity': 9119, 'Hard': 9120, 'spinner': 9121, 'Leno': 9122, 'poultry': 9123, 'Sao': 9124, 'Cutler': 9125, 'Dana': 9126, 'Hitachi': 9127, 'pray': 9128, 'repurchase': 9129, 'Sisters': 9130, 'copies': 9131, 'psychiatric': 9132, 'accountability': 9133, 'treasury': 9134, 'Albuquerque': 9135, 'chamber': 9136, 'Cliff': 9137, 'Shirley': 9138, 'shipment': 9139, 'exist': 9140, 'hoax': 9141, 'Pepsi': 9142, 'Crow': 9143, 'attracted': 9144, 'establishes': 9145, 'Sultan': 9146, 'Recent': 9147, 'purse': 9148, 'Universe': 9149, 'MVP': 9150, 'Owens': 9151, 'prosperity': 9152, 'TI': 9153, 'derailed': 9154, 'Desert': 9155, 'AirTran': 9156, 'stint': 9157, 'discipline': 9158, 'Factory': 9159, 'scenario': 9160, 'Schalke': 9161, 'mix': 9162, 'Kaif': 9163, 'lies': 9164, 'Contador': 9165, 'blown': 9166, 'Barrett': 9167, 'Patterson': 9168, 'Oval': 9169, 'spying': 9170, 'virtually': 9171, 'Eyed': 9172, 'reservation': 9173, 'Unit': 9174, '98': 9175, 'certified': 9176, 'larceny': 9177, 'x': 9178, 'lorry': 9179, 'notebook': 9180, 'weaken': 9181, 'Worcester': 9182, 'McDonnell': 9183, 'Dynamo': 9184, 'collides': 9185, 'catastrophic': 9186, 'Yusuf': 9187, 'Jacques': 9188, 'demolished': 9189, 'McAfee': 9190, 'footprint': 9191, 'Prosecutor': 9192, 'railroad': 9193, 'bizarre': 9194, 'kingdom': 9195, 'Spokane': 9196, 'forever': 9197, 'Coldplay': 9198, 'exploring': 9199, 'headlines': 9200, 'Anniversary': 9201, 'revamped': 9202, 'Keane': 9203, 'bloc': 9204, 'instant': 9205, 'Ariz': 9206, 'Jill': 9207, 'exceeded': 9208, 'Kylie': 9209, 'shrank': 9210, 'glory': 9211, 'abdominal': 9212, '2.6': 9213, 'splitting': 9214, 'Kashmiri': 9215, 'generations': 9216, 'provisions': 9217, 'contracted': 9218, 'Bee': 9219, 'deeper': 9220, 'Fallon': 9221, 'Gore': 9222, 'Fraser': 9223, 'directions': 9224, 'Zurich': 9225, 'experiencing': 9226, 'Lloyds': 9227, 'Hai': 9228, 'Cheltenham': 9229, 'Micro': 9230, 'punch': 9231, 'tire': 9232, 'bridges': 9233, 'guarantees': 9234, 'backyard': 9235, 'outcome': 9236, 'controller': 9237, 'stunned': 9238, 'purchasing': 9239, 'foreclosures': 9240, 'disclosure': 9241, 'voiced': 9242, 'remarkable': 9243, 'ensuring': 9244, 'Typhoon': 9245, 'peers': 9246, 'Sears': 9247, 'followers': 9248, 'PayPal': 9249, 'goalless': 9250, 'Bolivia': 9251, 'follows': 9252, 'Metropolitan': 9253, 'bright': 9254, 'MSNBC': 9255, 'Mercer': 9256, 'Conservation': 9257, 'Dunn': 9258, 'pensioner': 9259, 'commenced': 9260, 'Harare': 9261, 'nickel': 9262, 'Commissioners': 9263, 'sellers': 9264, 'aggregate': 9265, 'Peruvian': 9266, 'vandalism': 9267, 'letting': 9268, 'achieving': 9269, 'Ole': 9270, 'decreased': 9271, 'Rebecca': 9272, 'bold': 9273, 'Uruguay': 9274, 'tenants': 9275, 'jockey': 9276, 'Editor': 9277, 'Ladies': 9278, 'escalating': 9279, 'Lautner': 9280, 'workshops': 9281, 'poet': 9282, 'Tina': 9283, 'airspace': 9284, 'PA': 9285, 'whatever': 9286, 'separated': 9287, 'hungry': 9288, 'latter': 9289, 'BAE': 9290, 'Rosa': 9291, 'Hudgens': 9292, 'Programme': 9293, 'opt': 9294, 'Bulldogs': 9295, 'touching': 9296, 'opted': 9297, 'Advisory': 9298, 'downgrade': 9299, 'LPGA': 9300, 'RSS': 9301, 'crazy': 9302, 'Ritchie': 9303, 'der': 9304, 'isolated': 9305, 'convinced': 9306, '107': 9307, 'Cumberland': 9308, 'searches': 9309, 'cats': 9310, 'boil': 9311, 'responds': 9312, 'eliminating': 9313, 'martial': 9314, 'invite': 9315, '0.1': 9316, 'ministries': 9317, 'Ipswich': 9318, 'soap': 9319, 'Knights': 9320, 'Huawei': 9321, 'Barrymore': 9322, 'Leafs': 9323, 'broadcasting': 9324, 'determination': 9325, 'Byrne': 9326, 'cables': 9327, 'slalom': 9328, 'Grande': 9329, 'Luxury': 9330, 'interviewed': 9331, 'Nano': 9332, 'Swayze': 9333, 'Benson': 9334, 'clock': 9335, 'gearing': 9336, 'ambush': 9337, 'skating': 9338, 'prostitute': 9339, 'flies': 9340, 'negligent': 9341, 'surges': 9342, '102': 9343, 'Gunmen': 9344, 'senators': 9345, 'landslide': 9346, 'assess': 9347, 'makeover': 9348, 'filling': 9349, 'knifepoint': 9350, 'QB': 9351, 'FedEx': 9352, 'breaching': 9353, 'polio': 9354, 'Karunanidhi': 9355, 'broking': 9356, 'landlord': 9357, 'affects': 9358, 'vendors': 9359, 'bulk': 9360, 'epic': 9361, 'dividends': 9362, 'rumored': 9363, 'sweet': 9364, 'Barker': 9365, 'Methodist': 9366, 'Full': 9367, 'cellphone': 9368, 'Pawar': 9369, 'ward': 9370, 'tired': 9371, 'guys': 9372, 'leaking': 9373, 'undercover': 9374, 'Huffington': 9375, 'conjunction': 9376, 'committing': 9377, 'Pharma': 9378, 'Copa': 9379, 'bell': 9380, 'Corruption': 9381, 'Belarusian': 9382, 'Regina': 9383, 'physician': 9384, 'wrapped': 9385, 'Marvel': 9386, 'moratorium': 9387, 'Saskatoon': 9388, 'Jaime': 9389, 'demolition': 9390, 'delaying': 9391, 'Wife': 9392, 'Yerevan': 9393, 'Snoop': 9394, 'civic': 9395, 'Thatcher': 9396, 'Jackets': 9397, 'principle': 9398, 'array': 9399, 'Audi': 9400, 'jersey': 9401, 'discounts': 9402, 'competitors': 9403, 'skip': 9404, 'obtain': 9405, 'console': 9406, 'reflect': 9407, 'conceded': 9408, 'seasonally': 9409, 'pupil': 9410, 'Fletcher': 9411, 'bet': 9412, 'sections': 9413, 'deserves': 9414, 'slaying': 9415, 'Chhattisgarh': 9416, 'Ahmedabad': 9417, 'antitrust': 9418, 'Fuel': 9419, 'Jenna': 9420, 'balloon': 9421, 'teaming': 9422, 'reinstate': 9423, '1700': 9424, 'washing': 9425, 'dreams': 9426, 'comply': 9427, 'Moammar': 9428, '2G': 9429, 'boxes': 9430, 'Thieves': 9431, 'Nate': 9432, 'Maritime': 9433, 'diva': 9434, 'shelves': 9435, 'impossible': 9436, 'Alto': 9437, 'hell': 9438, 'rupees': 9439, 'dissident': 9440, 'webcast': 9441, 'Didier': 9442, 'businessmen': 9443, 'Holocaust': 9444, 'Arbor': 9445, 'Carol': 9446, '28th': 9447, 'filmed': 9448, 'Large': 9449, 'Grammer': 9450, 'Germain': 9451, 'en': 9452, 'CITY': 9453, 'Lifetime': 9454, 'impressed': 9455, 'Bhutto': 9456, 'frequent': 9457, 'serves': 9458, 'kg': 9459, 'GP': 9460, 'Heineken': 9461, 'transform': 9462, 'indication': 9463, 'contention': 9464, 'Payne': 9465, 'keeper': 9466, 'Mickey': 9467, 'Sunshine': 9468, 'Writers': 9469, 'Herbert': 9470, 'shower': 9471, 'Montag': 9472, 'Protesters': 9473, 'tunnel': 9474, 'partly': 9475, 'mln': 9476, 'Volunteers': 9477, 'dust': 9478, 'climbs': 9479, 'accelerate': 9480, 'Harley': 9481, 'Heathrow': 9482, 'Kochi': 9483, 'hints': 9484, 'deserved': 9485, 'Arroyo': 9486, 'Far': 9487, 'intoxication': 9488, 'Milton': 9489, 'tornadoes': 9490, 'stormed': 9491, 'Hotspur': 9492, 'peninsula': 9493, 'Boulder': 9494, 'strokes': 9495, 'Ferry': 9496, 'promotional': 9497, 'Fifa': 9498, 'marred': 9499, 'Farrell': 9500, 'dock': 9501, 'township': 9502, 'Bynes': 9503, 'Paulson': 9504, 'inventory': 9505, 'Caterpillar': 9506, 'Trinamool': 9507, 'maybe': 9508, 'movements': 9509, 'unlawful': 9510, 'pumps': 9511, 'Lion': 9512, 'JC': 9513, 'undefeated': 9514, 'smallest': 9515, 'audiences': 9516, 'ministerial': 9517, 'Conan': 9518, 'Snyder': 9519, 'Block': 9520, 'enrollment': 9521, 'MD': 9522, 'Benghazi': 9523, 'nobody': 9524, 'WA': 9525, 'happens': 9526, 'Kuala': 9527, 'liberal': 9528, 'platinum': 9529, 'bypass': 9530, 'lethal': 9531, 'Jaguar': 9532, 'Olivia': 9533, 'homage': 9534, 'backdrop': 9535, 'Motorists': 9536, 'Dustin': 9537, 'owes': 9538, 'Cellular': 9539, 'Capitals': 9540, 'Rai': 9541, 'Salisbury': 9542, 'laboratory': 9543, 'Tbilisi': 9544, 'composition': 9545, 'unsecured': 9546, 'Va': 9547, 'conclusion': 9548, 'besides': 9549, 'Advanced': 9550, '24th': 9551, 'math': 9552, 'infamous': 9553, 'honours': 9554, 'banker': 9555, 'Staples': 9556, 'sort': 9557, 'controlling': 9558, 'sack': 9559, 'Billings': 9560, 'Keira': 9561, 'grades': 9562, 'Helicopter': 9563, 'humanity': 9564, 'fertilizer': 9565, 'Phase': 9566, 'bribes': 9567, 'instructor': 9568, 'Vehicle': 9569, 'Deer': 9570, 'Relief': 9571, 'ArcelorMittal': 9572, 'Asda': 9573, 'Visa': 9574, 'headquartered': 9575, 'Byrd': 9576, 'owed': 9577, 'Ossetia': 9578, 'Edwin': 9579, 'condemn': 9580, 'amended': 9581, 'Agreement': 9582, 'scrutiny': 9583, 'deepen': 9584, 'Consumers': 9585, 'Shelton': 9586, 'subsidy': 9587, 'EP': 9588, 'Pretoria': 9589, 'tears': 9590, 'triumph': 9591, 'Muamba': 9592, 'intimate': 9593, 'drowning': 9594, 'Democracy': 9595, 'Anchorage': 9596, 'Piper': 9597, 'Laboratories': 9598, 'cautioned': 9599, 'Official': 9600, 'Mosley': 9601, 'Conway': 9602, 'collaborate': 9603, 'Earl': 9604, 'circle': 9605, 'Benz': 9606, 'bulls': 9607, 'embezzling': 9608, 'Donovan': 9609, 'Roses': 9610, 'IV': 9611, 'Venus': 9612, 'Timberwolves': 9613, 'Bosnia': 9614, 'Suarez': 9615, '0.4': 9616, 'Rivera': 9617, 'VMware': 9618, 'pursuing': 9619, 'scholarship': 9620, 'tariffs': 9621, 'knockout': 9622, 'Lauderdale': 9623, 'LK': 9624, 'touring': 9625, 'Get': 9626, 'dawn': 9627, 'freestyle': 9628, 'Peoples': 9629, 'Noida': 9630, 'custom': 9631, 'expires': 9632, 'hearings': 9633, 'Shahrukh': 9634, 'Lamar': 9635, 'Peters': 9636, 'payable': 9637, 'Chatham': 9638, 'donating': 9639, 'Pa': 9640, 'loyal': 9641, 'Leighton': 9642, 'Indy': 9643, 'thunderstorms': 9644, 'holdings': 9645, 'Mellon': 9646, 'Lucie': 9647, 'Kazakh': 9648, 'sophomore': 9649, 'Meredith': 9650, 'triggering': 9651, 'Gibb': 9652, 'postpone': 9653, 'joke': 9654, 'Holly': 9655, 'spark': 9656, 'exporter': 9657, 'surfaced': 9658, 'Aviva': 9659, 'Hon': 9660, 'borrowers': 9661, 'Goody': 9662, 'designers': 9663, 'Once': 9664, 'Superstar': 9665, 'nod': 9666, 'spots': 9667, 'banner': 9668, 'fiction': 9669, 'column': 9670, 'Hawke': 9671, 'breached': 9672, 'Happy': 9673, 'Basu': 9674, 'Buzz': 9675, 'Warne': 9676, 'attendants': 9677, 'forests': 9678, 'dump': 9679, 'usage': 9680, 'patience': 9681, 'closet': 9682, 'intelligent': 9683, 'Blind': 9684, 'vaccines': 9685, 'spacecraft': 9686, 'endorsing': 9687, 'wonder': 9688, 'Die': 9689, 'elimination': 9690, 'Topeka': 9691, 'Crowe': 9692, 'Kid': 9693, 'liquid': 9694, 'interface': 9695, 'Ronald': 9696, 'synthetic': 9697, '1960s': 9698, 'Liga': 9699, 'breakdown': 9700, 'knock': 9701, 'caucus': 9702, 'securing': 9703, 'Tripura': 9704, 'Devon': 9705, 'supposed': 9706, 'Avalanche': 9707, 'properly': 9708, 'slapped': 9709, 'happening': 9710, 'displays': 9711, 'Rao': 9712, 'presidents': 9713, 'aerospace': 9714, 'experimental': 9715, 'Batman': 9716, 'Mercy': 9717, 'mountains': 9718, '1300': 9719, 'Scouts': 9720, 'connections': 9721, 'lifting': 9722, 'Monaco': 9723, 'da': 9724, 'motivated': 9725, 'Officers': 9726, 'decisive': 9727, 'taste': 9728, 'Pearson': 9729, 'Tributes': 9730, 'switching': 9731, 'reader': 9732, 'Q1': 9733, 'delegates': 9734, 'televised': 9735, 'Breast': 9736, 'Ga': 9737, 'bribe': 9738, 'Lilly': 9739, 'emission': 9740, 'Norton': 9741, 'Mirren': 9742, 'Provincial': 9743, 'types': 9744, 'rumor': 9745, 'choppy': 9746, 'goodbye': 9747, 'icy': 9748, 'indoor': 9749, 'disposal': 9750, 'restoration': 9751, 'injunction': 9752, 'Wembley': 9753, 'hunter': 9754, 'Dundee': 9755, 'Mayawati': 9756, 'sterling': 9757, '3.4': 9758, 'Appalachian': 9759, 'Quincy': 9760, 'OK': 9761, 'Sonoma': 9762, 'universal': 9763, 'Soul': 9764, 'quest': 9765, 'extremists': 9766, 'Crash': 9767, 'y/y': 9768, 'improper': 9769, 'consulate': 9770, 'curfew': 9771, 'Carlyle': 9772, 'Son': 9773, 'UC': 9774, 'drag': 9775, 'elsewhere': 9776, 'joy': 9777, 'Panetta': 9778, 'migrant': 9779, 'drones': 9780, 'contaminated': 9781, 'wrongly': 9782, 'Eleven': 9783, 'consortium': 9784, 'Circle': 9785, 'sand': 9786, 'Pioneer': 9787, 'Code': 9788, 'amidst': 9789, 'categories': 9790, 'DMK': 9791, 'IRIS': 9792, 'Scottsdale': 9793, 'Heroes': 9794, 'cleanup': 9795, 'MLB': 9796, 'Variety': 9797, 'height': 9798, 'Fenway': 9799, 'Harbour': 9800, 'bikini': 9801, 'Julio': 9802, 'strange': 9803, 'Talk': 9804, 'Astana': 9805, 'servers': 9806, 'punish': 9807, 'Violent': 9808, 'Businesses': 9809, '26th': 9810, 'ligament': 9811, 'cautiously': 9812, 'Violence': 9813, 'Nassau': 9814, 'Stan': 9815, 'Coral': 9816, 'condolences': 9817, 'lewd': 9818, 'granting': 9819, 'Rouge': 9820, 'trips': 9821, 'Neutral': 9822, 'Linux': 9823, 'automated': 9824, 'sailing': 9825, 'Sargsyan': 9826, 'runners': 9827, 'slur': 9828, 'showers': 9829, 'module': 9830, 'warplanes': 9831, 'YEAR': 9832, 'Chef': 9833, 'mounted': 9834, 'combination': 9835, 'Africans': 9836, 'batteries': 9837, 'wood': 9838, 'Strictly': 9839, '08': 9840, 'reaffirmed': 9841, 'kissing': 9842, 'Reagan': 9843, 'courthouse': 9844, 'lowering': 9845, 'Sutherland': 9846, 'Solomon': 9847, 'derivatives': 9848, 'adequate': 9849, 'Ugandan': 9850, 'Clara': 9851, 'goodwill': 9852, 'Lorenzo': 9853, 'Controversial': 9854, 'Hardy': 9855, 'bidding': 9856, 'Prasad': 9857, '22nd': 9858, 'biological': 9859, 'luck': 9860, 'Geological': 9861, 'Bismarck': 9862, 'Cameroon': 9863, 'Java': 9864, 'ideal': 9865, 'respiratory': 9866, 'Donnell': 9867, 'correct': 9868, 'trick': 9869, 'Guinness': 9870, 'overwhelmingly': 9871, 'manufacture': 9872, 'Zero': 9873, 'mobility': 9874, 'VoIP': 9875, 'commuters': 9876, 'identifying': 9877, 'commence': 9878, 'versions': 9879, 'establishing': 9880, 'boutique': 9881, 'stimulate': 9882, 'inner': 9883, '1800': 9884, 'Magistrates': 9885, 'convoy': 9886, 'Biel': 9887, 'sewer': 9888, 'relocate': 9889, 'AirAsia': 9890, 'Bosnian': 9891, 'Pharmaceutical': 9892, 'procurement': 9893, 'Caucasus': 9894, 'mentor': 9895, 'Gyllenhaal': 9896, 'quietly': 9897, 'Cory': 9898, 'wondering': 9899, 'shakes': 9900, 'Rover': 9901, 'deficits': 9902, 'obese': 9903, 'Citizens': 9904, 'Picture': 9905, 'Akhtar': 9906, 'Pearce': 9907, 'surging': 9908, 'FCC': 9909, 'Fidel': 9910, 'importing': 9911, 'PepsiCo': 9912, 'Double': 9913, 'Mt': 9914, 'Chattanooga': 9915, 'embrace': 9916, 'Porter': 9917, 'deemed': 9918, 'Wake': 9919, 'Fight': 9920, 'Teenage': 9921, 'Debt': 9922, 'obstruction': 9923, 'preview': 9924, 'Appeals': 9925, 'Consulting': 9926, '787': 9927, 'extremism': 9928, 'Planet': 9929, 'amendments': 9930, 'halfway': 9931, 'bones': 9932, 'architect': 9933, 'Persian': 9934, 'Raceway': 9935, 'Ulster': 9936, 'ID': 9937, 'excellence': 9938, 'desert': 9939, 'Less': 9940, 'Rule': 9941, 'Madhya': 9942, 'reelection': 9943, 'contributed': 9944, '106': 9945, 'Meyer': 9946, 'fog': 9947, 'Unified': 9948, 'Nash': 9949, 'fantastic': 9950, 'writers': 9951, 'basement': 9952, 'predicting': 9953, 'inked': 9954, 'Con': 9955, 'intentionally': 9956, 'deeply': 9957, 'NDA': 9958, 'fingers': 9959, 'Gupta': 9960, 'seemed': 9961, 'knocking': 9962, 'Galway': 9963, 'Saleh': 9964, 'Atomic': 9965, 'Armenians': 9966, 'Guatemala': 9967, 'memoir': 9968, 'Khyber': 9969, 'borrow': 9970, 'nights': 9971, 'yoga': 9972, 'Israelis': 9973, 'wrongful': 9974, 'ACC': 9975, '5.2': 9976, 'everywhere': 9977, 'un': 9978, 'literacy': 9979, 'component': 9980, 'funny': 9981, 'noise': 9982, 'Richter': 9983, 'flick': 9984, 'Still': 9985, 'Karabakh': 9986, 'approvals': 9987, 'casinos': 9988, 'Dairy': 9989, 'EST': 9990, 'lied': 9991, 'immune': 9992, 'Disease': 9993, 'waiver': 9994, 'connectivity': 9995, 'Colo': 9996, 'licensed': 9997, 'â€': 9998, 'JetBlue': 9999}\n"
     ]
    }
   ],
   "source": [
    "vocab_size = 10_000\n",
    "vocab = vocab_counter.most_common(vocab_size)\n",
    "token_to_id = {word: i for i, (word, _) in enumerate(vocab)}\n",
    "print(token_to_id)"
   ]
  },
  {
   "cell_type": "markdown",
   "metadata": {
    "collapsed": false,
    "pycharm": {
     "name": "#%% md\n"
    }
   },
   "source": [
    "<a name='e4'></a>\n",
    "### Exercise 4: Bag of Words\n",
    "(1p) Here we will create the bag-of-words representation of the sentences. The function will take a single sentence (list of tokens) and return an array of size `vocab_size` with the counts of each word in the vocabulary. The\n",
    "`vocab_size` is calculated as the length of the passed `token_to_id` dictionary. The resulting array should have zeros everywhere but the indices corresponding to the words in the vocabulary where it should have the counts of the words in the sentence. For example, if the sentence is `['fox', 'and', 'deer']` and the vocabulary is `{'fox': 0, 'and': 1, 'deer': 2}`, the resulting array should be `[1, 1, 1]`. If the sentence is `['fox', 'and', 'fox', 'deer']`, the resulting array should be `[2, 1, 1]`."
   ]
  },
  {
   "cell_type": "code",
   "execution_count": 62,
   "metadata": {
    "ExecuteTime": {
     "end_time": "2025-04-16T21:54:06.765365Z",
     "start_time": "2025-04-16T21:54:06.757031Z"
    },
    "collapsed": false,
    "pycharm": {
     "name": "#%%\n"
    }
   },
   "outputs": [],
   "source": [
    "def bag_of_words(sentence, token_to_id):\n",
    "    \"\"\"\n",
    "    Creates a bag-of-words representation of the sentence\n",
    "    Args:\n",
    "        sentence: a list of tokens\n",
    "        token_to_id: a dictionary mapping each word to an index in the vocabulary\n",
    "\n",
    "    Returns:: a numpy array of size vocab_size with the counts of each word in the vocabulary\n",
    "\n",
    "    \"\"\"\n",
    "    vocab_size = len(token_to_id)\n",
    "    bow = np.zeros(vocab_size, dtype=int)\n",
    "\n",
    "    ### YOUR CODE HERE\n",
    "\n",
    "    for token in sentence:\n",
    "        if token in token_to_id:\n",
    "            bow[token_to_id[token]] += 1\n",
    "\n",
    "    ### YOUR CODE ENDS HERE\n",
    "\n",
    "    return bow"
   ]
  },
  {
   "cell_type": "markdown",
   "metadata": {
    "collapsed": false,
    "pycharm": {
     "name": "#%% md\n"
    }
   },
   "source": [
    "Let's see how the function works on a single sentence. The output should be a numpy array of size `vocab_size` with the counts of each word in the vocabulary."
   ]
  },
  {
   "cell_type": "code",
   "execution_count": 63,
   "metadata": {
    "ExecuteTime": {
     "end_time": "2025-04-16T21:54:06.861885Z",
     "start_time": "2025-04-16T21:54:06.850844Z"
    },
    "collapsed": false,
    "pycharm": {
     "name": "#%%\n"
    }
   },
   "outputs": [
    {
     "name": "stdout",
     "output_type": "stream",
     "text": [
      "Tokenized sentence:\n",
      "['Brittany', 'Murphy', 'heart', 'murmur', 'actress', \"''\", 'mother', 'believes', 'may', 'killed']\n",
      "Bag of words:\n",
      "[1 0 0 ... 0 0 0]\n",
      "Type of bag of words:\n",
      "<class 'numpy.ndarray'>\n",
      "Shape of bag of words:\n",
      "(10000,)\n",
      "Non-zero elements in bag of words:\n",
      "[   0   61   79  653  680  922 1699 3893]\n"
     ]
    }
   ],
   "source": [
    "print('Tokenized sentence:')\n",
    "print(tokenized_sentences[0])\n",
    "sentence_bow = bag_of_words(tokenized_sentences[0], token_to_id)\n",
    "\n",
    "print('Bag of words:')\n",
    "print(sentence_bow)\n",
    "print('Type of bag of words:')\n",
    "print(type(sentence_bow))\n",
    "print('Shape of bag of words:')\n",
    "print(sentence_bow.shape)\n",
    "print('Non-zero elements in bag of words:')\n",
    "print(np.nonzero(sentence_bow)[0])"
   ]
  },
  {
   "cell_type": "markdown",
   "metadata": {
    "collapsed": false,
    "pycharm": {
     "name": "#%% md\n"
    }
   },
   "source": [
    "We can also check in detail what words and their counts are in the bag-of-words representation."
   ]
  },
  {
   "cell_type": "code",
   "execution_count": 64,
   "metadata": {
    "ExecuteTime": {
     "end_time": "2025-04-16T21:54:06.940726Z",
     "start_time": "2025-04-16T21:54:06.938113Z"
    },
    "collapsed": false,
    "pycharm": {
     "name": "#%%\n"
    }
   },
   "outputs": [
    {
     "name": "stdout",
     "output_type": "stream",
     "text": [
      "Non-zero elements in bag of words:\n",
      "[   0   61   79  653  680  922 1699 3893]\n",
      "'' : 1\n",
      "killed : 1\n",
      "may : 1\n",
      "heart : 1\n",
      "actress : 1\n",
      "mother : 1\n",
      "believes : 1\n",
      "Murphy : 1\n"
     ]
    }
   ],
   "source": [
    "sentence_non_zero_bow = np.nonzero(sentence_bow)[0]\n",
    "print('Non-zero elements in bag of words:')\n",
    "print(sentence_non_zero_bow)\n",
    "for i in sentence_non_zero_bow:\n",
    "    print(vocab[i][0], ':', sentence_bow[i])"
   ]
  },
  {
   "cell_type": "markdown",
   "metadata": {
    "collapsed": false,
    "pycharm": {
     "name": "#%% md\n"
    }
   },
   "source": [
    "The following function will apply all the steps we implemented to a single sentence. It returns a bag of words representation that we will use to calculate the similarity between different sentences."
   ]
  },
  {
   "cell_type": "code",
   "execution_count": 65,
   "metadata": {
    "ExecuteTime": {
     "end_time": "2025-04-16T21:54:07.053148Z",
     "start_time": "2025-04-16T21:54:07.044104Z"
    },
    "collapsed": false,
    "pycharm": {
     "name": "#%%\n"
    }
   },
   "outputs": [],
   "source": [
    "def embed_text(text, clean_fn, tokenize_fn, embed_fn):\n",
    "    cleaned = clean_fn(text)\n",
    "    tokens = tokenize_fn(cleaned)\n",
    "    embedding = embed_fn(tokens)\n",
    "    return embedding"
   ]
  },
  {
   "cell_type": "markdown",
   "metadata": {
    "collapsed": false,
    "pycharm": {
     "name": "#%% md\n"
    }
   },
   "source": [
    "<a name='e5'></a>\n",
    "### Exercise 5: Cosine Similarity between two vectors\n",
    "\n",
    "(1p) Complete the following function that given any two vectors will compute the cosine similarity. If you don't remember the formula for the cosine similarity, revisit the course material. Notice that the function receives numpy arrays and recall that you can express cosine similarity as a dot product. Use numpy functions to write an efficient implementation."
   ]
  },
  {
   "cell_type": "code",
   "execution_count": 66,
   "metadata": {
    "ExecuteTime": {
     "end_time": "2025-04-16T21:54:07.130221Z",
     "start_time": "2025-04-16T21:54:07.127934Z"
    },
    "collapsed": false,
    "pycharm": {
     "name": "#%%\n"
    }
   },
   "outputs": [],
   "source": [
    "def cosine_similarity(vector1, vector2):\n",
    "    \"\"\"\n",
    "    Computes the cosine similarity between two vectors\n",
    "    Args:\n",
    "        vector1: numpy array of the first vector\n",
    "        vector2: numpy array of the second vector\n",
    "\n",
    "    Returns: cosine similarity\n",
    "\n",
    "    \"\"\"\n",
    "    ### YOUR CODE HERE\n",
    "\n",
    "    cosine = np.dot(vector1, vector2)/(np.linalg.norm(vector1) * np.linalg.norm(vector2))\n",
    "    return cosine\n",
    "\n",
    "    ### YOUR CODE ENDS HERE"
   ]
  },
  {
   "cell_type": "code",
   "execution_count": 67,
   "metadata": {
    "ExecuteTime": {
     "end_time": "2025-04-16T21:54:07.215915Z",
     "start_time": "2025-04-16T21:54:07.205134Z"
    },
    "collapsed": false,
    "pycharm": {
     "name": "#%%\n"
    }
   },
   "outputs": [
    {
     "data": {
      "text/plain": [
       "0.9999999999999998"
      ]
     },
     "execution_count": 67,
     "metadata": {},
     "output_type": "execute_result"
    }
   ],
   "source": [
    "cosine_similarity(np.array([0, 1, 2]), np.array([0, 2, 4]))"
   ]
  },
  {
   "cell_type": "code",
   "execution_count": 68,
   "metadata": {
    "ExecuteTime": {
     "end_time": "2025-04-16T21:54:07.357889Z",
     "start_time": "2025-04-16T21:54:07.351210Z"
    },
    "collapsed": false,
    "pycharm": {
     "name": "#%%\n"
    }
   },
   "outputs": [
    {
     "name": "stdout",
     "output_type": "stream",
     "text": [
      "Query: fox and deer\n",
      "Cosine Similarity: 0.0000 - Sentence: The quick brown fox jumps over the lazy dog.\n",
      "Cosine Similarity: 0.0000 - Sentence: Some interesting document containing sentences.\n",
      "Cosine Similarity: 0.0000 - Sentence: The quick brown fox jumps over the lazy cat and some other stuff.\n",
      "Cosine Similarity: 0.4472 - Sentence: Fox and deer are not friends.\n",
      "Cosine Similarity: 1.0000 - Sentence: fox and deer\n",
      "Cosine Similarity: 0.2085 - Sentence: Fox and deer are not friends. But this document is a lot longer than the previous one. We can add sentence by sentence and see how the embeddings change.\n",
      "0.0\n",
      "False\n"
     ]
    }
   ],
   "source": [
    "sentences = [\n",
    "    'The quick brown fox jumps over the lazy dog.',\n",
    "    'Some interesting document containing sentences.',\n",
    "    'The quick brown fox jumps over the lazy cat and some other stuff.',\n",
    "    'Fox and deer are not friends.',\n",
    "    'fox and deer',\n",
    "    'Fox and deer are not friends. But this document is a lot longer than the previous one. We can add sentence by sentence and see how the embeddings change.',\n",
    "]\n",
    "embedded_sentences = [\n",
    "    embed_text(sentence, clean, tokenize, lambda x: bag_of_words(x, token_to_id))\n",
    "    for sentence in sentences\n",
    "]\n",
    "\n",
    "query = 'fox and deer'\n",
    "embedded_query = embed_text(query, clean, tokenize, lambda x: bag_of_words(x, token_to_id))\n",
    "\n",
    "cosine_similarities = [\n",
    "    cosine_similarity(embedded_query, embedded_sentence)\n",
    "    for embedded_sentence in embedded_sentences\n",
    "]\n",
    "print(f'Query: {query}')\n",
    "for sent, cos_sim in zip(sentences, cosine_similarities):\n",
    "    print(f'Cosine Similarity: {cos_sim:.4f} - Sentence: {sent}')\n",
    "\n",
    "\n",
    "sent = tokenize('The quick brown fox jumps over the lazy dog.')\n",
    "vec = bag_of_words(sent, token_to_id)\n",
    "vec2 = bag_of_words(query, token_to_id)\n",
    "print(cosine_similarity(vec, vec2))\n",
    "print('fox' in token_to_id)"
   ]
  },
  {
   "cell_type": "markdown",
   "metadata": {
    "collapsed": false,
    "pycharm": {
     "name": "#%% md\n"
    }
   },
   "source": [
    "We will apply the function to the whole dataset. This might take a while, so be patient. The result will be stored in the `sentence_bow` and `compressed_bow` fields of the dataset."
   ]
  },
  {
   "cell_type": "code",
   "execution_count": 69,
   "metadata": {
    "ExecuteTime": {
     "end_time": "2025-04-16T21:54:07.378209Z",
     "start_time": "2025-04-16T21:54:07.375014Z"
    },
    "collapsed": false,
    "pycharm": {
     "name": "#%%\n"
    }
   },
   "outputs": [],
   "source": [
    "def bag_of_words_dataset(example):\n",
    "    \"\"\"\n",
    "    Creates a bag-of-words representation of the sentence and compressed sentence in the example from the Dataset\n",
    "    Args:\n",
    "        example: an example from the Dataset\n",
    "\n",
    "    Returns: updated example with 'sentence_bow' and 'compressed_bow' columns\n",
    "\n",
    "    \"\"\"\n",
    "    sentence_tokens = example['sentence_tokens']\n",
    "    compressed_tokens = example['compressed_tokens']\n",
    "\n",
    "    sentence_bow = bag_of_words(sentence_tokens, token_to_id)\n",
    "    compressed_bow = bag_of_words(compressed_tokens, token_to_id)\n",
    "\n",
    "    example['sentence_bow'] = sentence_bow\n",
    "    example['compressed_bow'] = compressed_bow\n",
    "    return example"
   ]
  },
  {
   "cell_type": "markdown",
   "metadata": {
    "collapsed": false,
    "pycharm": {
     "name": "#%% md\n"
    }
   },
   "source": [
    "The following cell will apply the function to the whole dataset. The result will be stored in the `sentence_bow` and `compressed_bow` fields of the dataset. We will also convert the dataset's fields `sentence_bow` and `compressed_bow` to numpy format for easier manipulation."
   ]
  },
  {
   "cell_type": "code",
   "execution_count": 70,
   "metadata": {
    "ExecuteTime": {
     "end_time": "2025-04-16T21:54:22.594401Z",
     "start_time": "2025-04-16T21:54:07.515568Z"
    },
    "collapsed": false,
    "pycharm": {
     "name": "#%%\n"
    }
   },
   "outputs": [
    {
     "name": "stderr",
     "output_type": "stream",
     "text": [
      "Map: 100%|██████████| 36000/36000 [00:08<00:00, 4061.36 examples/s]"
     ]
    },
    {
     "name": "stdout",
     "output_type": "stream",
     "text": [
      "Dataset({\n",
      "    features: ['set', 'clean_sentence', 'clean_compressed', 'sentence_tokens', 'compressed_tokens', 'sentence_bow', 'compressed_bow'],\n",
      "    num_rows: 36000\n",
      "})\n"
     ]
    },
    {
     "name": "stderr",
     "output_type": "stream",
     "text": [
      "\n"
     ]
    }
   ],
   "source": [
    "test_ds = split_ds['test'].map(bag_of_words_dataset)\n",
    "test_ds = test_ds.with_format('np', columns=['sentence_bow', 'compressed_bow'], dtype=float)\n",
    "print(test_ds)"
   ]
  },
  {
   "cell_type": "markdown",
   "metadata": {
    "collapsed": false,
    "pycharm": {
     "name": "#%% md\n"
    }
   },
   "source": [
    "Let's check the results. The `sentence_bow` and `compressed_bow` fields should contain the bag-of-words representation of the sentences and compressed sentences, respectively."
   ]
  },
  {
   "cell_type": "code",
   "execution_count": 71,
   "metadata": {
    "ExecuteTime": {
     "end_time": "2025-04-16T21:54:22.620427Z",
     "start_time": "2025-04-16T21:54:22.614697Z"
    },
    "collapsed": false,
    "pycharm": {
     "name": "#%%\n"
    }
   },
   "outputs": [
    {
     "name": "stdout",
     "output_type": "stream",
     "text": [
      "{'sentence_bow': array([1., 1., 1., ..., 0., 0., 0.]), 'compressed_bow': array([0., 0., 1., ..., 0., 0., 0.])}\n"
     ]
    }
   ],
   "source": [
    "print(test_ds[0])"
   ]
  },
  {
   "cell_type": "code",
   "execution_count": 72,
   "metadata": {
    "ExecuteTime": {
     "start_time": "2025-04-16T21:54:22.748460Z"
    },
    "collapsed": false,
    "jupyter": {
     "is_executing": true
    },
    "pycharm": {
     "name": "#%%\n"
    }
   },
   "outputs": [
    {
     "name": "stdout",
     "output_type": "stream",
     "text": [
      "(36000, 10000)\n"
     ]
    }
   ],
   "source": [
    "sentences_bows = test_ds['sentence_bow']\n",
    "print(sentences_bows.shape)"
   ]
  },
  {
   "cell_type": "markdown",
   "metadata": {
    "collapsed": false,
    "pycharm": {
     "name": "#%% md\n"
    }
   },
   "source": [
    "Now we can start building a retriever based on the bag of words representation. The first step is to calculate the cosine similarity between two vectors."
   ]
  },
  {
   "cell_type": "markdown",
   "metadata": {
    "collapsed": false,
    "pycharm": {
     "name": "#%% md\n"
    }
   },
   "source": [
    "<a name='e6'></a>\n",
    "### Exercise 6: Cosine Similarity between a vector and an array of vectors\n",
    "\n",
    "(2p) The next step in our retrieval system, would be to calculate the proximity of a query to our retrieval corpus (in our case that is all the sentences).\n",
    "\n",
    "Complete the following function to calculate the cosine similarity between a vector (first parameter `vector`, that will usually be the query vector) and all other vectors (second parameter `other_vectors`, that will be the sentence embeddings in our case). Note that the `other_vectors` parameter is a single numpy array of size `N x D`, where $N$ is the number of vectors and $D$ is the dimension of each vector.\n",
    "\n",
    "For maximum efficiency (we will need it) do not use loops. Try to write the implementation with numpy functions. Hint: matrix multiplication can be seen as calculating the dot product between rows and columns of the multiplied matrices."
   ]
  },
  {
   "cell_type": "code",
   "execution_count": 73,
   "metadata": {
    "ExecuteTime": {
     "end_time": "2025-04-16T21:38:01.159068Z",
     "start_time": "2025-04-16T21:38:01.155960Z"
    },
    "id": "LgaV2b3fpSOR",
    "pycharm": {
     "name": "#%%\n"
    }
   },
   "outputs": [],
   "source": [
    "def cosine_similarity_1_to_n(vector, other_vectors):\n",
    "    \"\"\"\n",
    "    Calculates the cosine similarity between a single vector and other vectors.\n",
    "    Args:\n",
    "        vector: a numpy array representing a vector of D dimensions\n",
    "        other_vectors: a 2D numpy array representing other vectors (of the size NxD, where N is the number of vectors and D is their dimension)\n",
    "\n",
    "    Returns: a 1D numpy array of size N containing the cosine similarity between the vector and all the other vectors\n",
    "\n",
    "    \"\"\"\n",
    "\n",
    "    #### YOUR CODE HERE\n",
    "\n",
    "    matrix_multiplication = other_vectors @ vector\n",
    "    norms = np.linalg.norm(other_vectors, axis=1) * np.linalg.norm(vector)\n",
    "    return matrix_multiplication / (norms+1e-10) # divide by 0 error\n",
    "\n",
    "    ### YOUR CODE ENDS HERE"
   ]
  },
  {
   "cell_type": "markdown",
   "metadata": {
    "collapsed": false,
    "id": "irNqAJZLpSOR",
    "pycharm": {
     "name": "#%% md\n"
    }
   },
   "source": [
    "We will use the function to calculate the similarity of all sentences in the dataset to our query."
   ]
  },
  {
   "cell_type": "code",
   "execution_count": 74,
   "metadata": {
    "ExecuteTime": {
     "end_time": "2025-04-16T21:38:01.232880Z",
     "start_time": "2025-04-16T21:38:01.229488Z"
    },
    "collapsed": false,
    "pycharm": {
     "name": "#%%\n"
    }
   },
   "outputs": [],
   "source": [
    "query = 'fox and deer'\n",
    "embedded_query = embed_text(query, clean, tokenize, lambda x: bag_of_words(x, token_to_id))"
   ]
  },
  {
   "cell_type": "code",
   "execution_count": 75,
   "metadata": {
    "ExecuteTime": {
     "end_time": "2025-04-16T21:38:04.120761Z",
     "start_time": "2025-04-16T21:38:01.294444Z"
    },
    "id": "uD9mVAhYpSOR",
    "pycharm": {
     "name": "#%%\n"
    }
   },
   "outputs": [
    {
     "name": "stdout",
     "output_type": "stream",
     "text": [
      "(36000,)\n",
      "[0. 0. 0. 0. 0. 0. 0. 0. 0. 0.]\n",
      "0.0\n"
     ]
    }
   ],
   "source": [
    "query_similarity = cosine_similarity_1_to_n(embedded_query, sentences_bows)\n",
    "print(query_similarity.shape)\n",
    "print(query_similarity[:10])\n",
    "matrix =  sentences_bows @ embedded_query\n",
    "print(matrix[6471])"
   ]
  },
  {
   "cell_type": "code",
   "execution_count": 76,
   "metadata": {
    "ExecuteTime": {
     "end_time": "2025-04-16T21:38:04.439321Z",
     "start_time": "2025-04-16T21:38:04.436699Z"
    }
   },
   "outputs": [
    {
     "name": "stdout",
     "output_type": "stream",
     "text": [
      "['Delta', 'buy', 'Pennsylvania', 'oil', 'refinery', 'ConocoPhillips', '$', '180', 'million', 'which', 'first', 'ever', 'purchase', 'refinery', 'airline', 'company', 'says']\n"
     ]
    }
   ],
   "source": [
    "print(tokenized_sentences[3])"
   ]
  },
  {
   "cell_type": "markdown",
   "metadata": {
    "collapsed": false,
    "id": "_l3erVTNpSOR",
    "pycharm": {
     "name": "#%% md\n"
    }
   },
   "source": [
    "The following cell will select the most similar sentence."
   ]
  },
  {
   "cell_type": "code",
   "execution_count": 77,
   "metadata": {
    "ExecuteTime": {
     "end_time": "2025-04-16T21:38:04.533147Z",
     "start_time": "2025-04-16T21:38:04.525249Z"
    },
    "id": "0wWa4AWHpSOR",
    "pycharm": {
     "name": "#%%\n"
    }
   },
   "outputs": [
    {
     "name": "stdout",
     "output_type": "stream",
     "text": [
      "22624\n",
      "0.35355339058077373\n",
      "On Friday, high school students from Eveleth Gilbert spent the day collecting deer ticks.\n",
      "Dot product: 0.0\n",
      "Query norm: 1.0\n",
      "Target norm: 5.291502622129181\n",
      "Expected cosine: 0.0\n",
      "Actual cosine: 0.0\n"
     ]
    }
   ],
   "source": [
    "most_similar = int(np.argmax(query_similarity))\n",
    "print(most_similar)\n",
    "print(query_similarity[most_similar])\n",
    "print(split_ds['test'][most_similar]['set'][0])\n",
    "print(\"Dot product:\", np.dot(embedded_query, sentences_bows[6471]))\n",
    "print(\"Query norm:\", np.linalg.norm(embedded_query))\n",
    "print(\"Target norm:\", np.linalg.norm(sentences_bows[6471]))\n",
    "print(\"Expected cosine:\", np.dot(embedded_query, sentences_bows[6471]) /\n",
    "                          (np.linalg.norm(embedded_query) * np.linalg.norm(sentences_bows[6471])))\n",
    "print(\"Actual cosine:\", query_similarity[6471])"
   ]
  },
  {
   "cell_type": "markdown",
   "metadata": {
    "collapsed": false,
    "id": "fpdJHFD1pSOR",
    "pycharm": {
     "name": "#%% md\n"
    }
   },
   "source": [
    "The following function will return the indices of the top-k elements in the array."
   ]
  },
  {
   "cell_type": "code",
   "execution_count": 78,
   "metadata": {
    "ExecuteTime": {
     "end_time": "2025-04-16T21:38:04.602230Z",
     "start_time": "2025-04-16T21:38:04.598989Z"
    },
    "id": "QFUNI9elpSOS",
    "pycharm": {
     "name": "#%%\n"
    }
   },
   "outputs": [],
   "source": [
    "def top_k_indices(array, k, sorted=True):\n",
    "    \"\"\"\n",
    "    Returns top-k indices from the 1D array. If `sorted` is `True` the returned indices are sorted in the descending order\n",
    "    Args:\n",
    "        array: a 1D numpy array\n",
    "        k: a number of top indices to return\n",
    "        sorted: if True, the returned indices are sorted in descending order\n",
    "\n",
    "    Returns: a 1D array containing top-k indices\n",
    "\n",
    "    \"\"\"\n",
    "    top_k = np.argpartition(array, -k)[-k:]\n",
    "    if sorted:\n",
    "        selected = array[top_k]\n",
    "        sorted_selected = (-selected).argsort()\n",
    "        top_k = top_k[sorted_selected]\n",
    "    return top_k"
   ]
  },
  {
   "cell_type": "code",
   "execution_count": 79,
   "metadata": {
    "ExecuteTime": {
     "end_time": "2025-04-16T21:38:04.632029Z",
     "start_time": "2025-04-16T21:38:04.609522Z"
    },
    "id": "nY8vvJdepSOS",
    "pycharm": {
     "name": "#%%\n"
    }
   },
   "outputs": [
    {
     "name": "stdout",
     "output_type": "stream",
     "text": [
      "On Friday, high school students from Eveleth Gilbert spent the day collecting deer ticks.\n",
      "similarity: 0.35355339058077373\n",
      "What time of the day is best for hunting deer during a full moon?\n",
      "similarity: 0.3333333333222222\n",
      "A Wisconsin man has been injured while deer hunting in western Iowa.\n",
      "similarity: 0.3333333333222222\n",
      "For the third straight year, DeForest will hire sharpshooters to kill about 50 deer in an effort to control the encroaching population.\n",
      "similarity: 0.30151134456867273\n",
      "A state appeals court has upheld a Superior man's conviction for having sex with a dead deer.\n",
      "similarity: 0.30151134456867273\n",
      "Two bicyclists were struck Thursday morning by a deer that was flung across the roadway after being hit by a car, police said.\n",
      "similarity: 0.2886751345864796\n",
      "Officials say a deer jumped through the window of a Saginaw County consignment store, leaving behind broken glass and spattered blood.\n",
      "similarity: 0.2773500981049223\n",
      "BUTTE, Mont. A 61-year-old woman got into a tussle with an aggressive deer after it attacked one of her poodles at her home on Monday.\n",
      "similarity: 0.2773500981049223\n",
      "A white-tailed deer on a Portage County hunting preserve has tested positive for chronic wasting disease, State Veterinarian Dr. Robert Ehlenfeldt announced today\n",
      "similarity: 0.26726124190528155\n",
      "AP Sports Writer Vijay Singh has withdrawn from the Phoenix Open, a day after saying he used deer-antler spray.\n",
      "similarity: 0.26726124190528155\n"
     ]
    }
   ],
   "source": [
    "top_indices = top_k_indices(query_similarity, k=10).tolist()\n",
    "for idx in top_indices:\n",
    "    print(split_ds['test'][idx]['set'][0])\n",
    "    print(f'similarity: {query_similarity[idx]}')"
   ]
  },
  {
   "cell_type": "markdown",
   "metadata": {
    "collapsed": false,
    "id": "BuRI2JzQpSOS",
    "pycharm": {
     "name": "#%% md\n"
    }
   },
   "source": [
    "<a name='e7'></a>\n",
    "### Exercise 7: Analyzing and improving BOW search results\n",
    "\n",
    "Experiment with different queries (taking into account the nature of the dataset and your insights from the analysis so far).\n",
    "Answer the following questions:\n",
    "- (5p) Does the search perform well? When does it fail? Discuss several examples that are we get an expected but also unexpected results (find at least 3 from each category). Provide reasons for the good/bad result in each case (e.g. is there some error in the data, is there some linguistic phenomenon that we don't capture, is something wrong with our modeling with average embeddings, ...)\n",
    "- (5p) If you see problems with search, how could you improve your implementation? Change the functions above, if you think there is room for improvement. Describe your changes and how they made the search better or (in case you made no changes) explain what made the search robust enough to work well."
   ]
  },
  {
   "cell_type": "code",
   "execution_count": 81,
   "metadata": {
    "ExecuteTime": {
     "end_time": "2025-04-16T21:52:52.693237Z",
     "start_time": "2025-04-16T21:52:52.629584Z"
    },
    "id": "sEQKHAvcpSOS",
    "pycharm": {
     "name": "#%%\n"
    }
   },
   "outputs": [
    {
     "name": "stderr",
     "output_type": "stream",
     "text": [
      "Map: 100%|██████████| 36000/36000 [00:08<00:00, 4195.14 examples/s]\n"
     ]
    },
    {
     "data": {
      "text/plain": [
       "0"
      ]
     },
     "execution_count": 81,
     "metadata": {},
     "output_type": "execute_result"
    }
   ],
   "source": [
    "#### YOUR CODE HERE\n",
    "from datasets import DatasetDict\n",
    "import gc\n",
    "\n",
    "\n",
    "# well i identified that cleaning makes a big difference especially if you get rid of stops words because the current querying system will end up matching texts that have no relation but share the most stop words\n",
    "\n",
    "def clean2(text):\n",
    "    # Empty text\n",
    "    if text == '':\n",
    "        return text\n",
    "\n",
    "    # 'text' from the example can be of type numpy.str_, let's convert it to a python str\n",
    "    text = str(text)\n",
    "\n",
    "    text = re.sub(r'\\'s', '', text)\n",
    "    text = re.sub(r\"\\`\\`\", '\"', text)\n",
    "    text = re.sub(r\"\\'\\'\", '\"', text)\n",
    "    text = re.sub(r\"\\'\", '\"', text)\n",
    "    text = re.sub(r'\\,', '', text)\n",
    "    text = re.sub(r'\\-', ' ', text)\n",
    "    text = re.sub(r'(?<!\\d)\\.(?!\\d)', '', text)\n",
    "\n",
    "    # replace contractions (a bit extensive)\n",
    "    text = text.replace(\"’\", \"'\").replace(\"‘\", \"'\").replace(\"“\", '\"').replace(\"”\", '\"')\n",
    "    text = re.sub(r\"\\b(what|who|where|when|why|how|there|it|here|she|he|that)\\'s\\b\", r\"\\1 is\", text, flags=re.IGNORECASE)\n",
    "    text = re.sub(r\"\\'re\\b\", \" are\", text, flags=re.IGNORECASE)\n",
    "    text = re.sub(r\"\\'ve\\b\", \" have\", text, flags=re.IGNORECASE)\n",
    "    text = re.sub(r\"\\'ll\\b\", \" will\", text, flags=re.IGNORECASE)\n",
    "    text = re.sub(r\"\\'d\\b\", \" would\", text, flags=re.IGNORECASE)\n",
    "    text = re.sub(r\"can\\'t\\b\", \"can not\", text, flags=re.IGNORECASE)\n",
    "    text = re.sub(r\"won\\'t\\b\", \"will not\", text, flags=re.IGNORECASE)\n",
    "    text = re.sub(r\"n\\'t\\b\", \" not\", text, flags=re.IGNORECASE)\n",
    "\n",
    "    # Space out punctuation\n",
    "    text = re.sub(r'(?<!\\d)([.,:;!?])(?!\\d)', r' \\1 ', text)\n",
    "\n",
    "    # remove repeated spaces\n",
    "    text = re.sub(r'\\s+', ' ', text)\n",
    "\n",
    "    text = text.strip()\n",
    "    return text\n",
    "\n",
    "def clean_dataset_2(example):\n",
    "    sentence, compressed = example['set']\n",
    "    clean_sentence = clean(sentence)\n",
    "    clean_compressed = clean(compressed)\n",
    "    example['clean_sentence'] = clean_sentence\n",
    "    example['clean_compressed'] = clean_compressed\n",
    "    return example\n",
    "\n",
    "\n",
    "split_ds_2 = DatasetDict(split_ds)\n",
    "split_ds_2 = split_ds_2.map(clean_dataset_2)\n",
    "split_ds_2 = split_ds_2.map(tokenize_dataset)\n",
    "tokenized_compressed_2 = split_ds_2['train']['compressed_tokens']\n",
    "tokenized_sentences_2 = split_ds_2['train']['sentence_tokens']\n",
    "vocab_counter_2 = extract_vocabulary_counts(tokenized_sentences_2 + tokenized_compressed_2)\n",
    "token_to_id_2 = {word: i for i, (word, _) in enumerate(vocab_2)}\n",
    "test_ds_2 = split_ds_2['test'].map(bag_of_words_dataset)\n",
    "test_ds_2 = test_ds_2.with_format('np', columns=['sentence_bow', 'compressed_bow'], dtype=float)\n",
    "\n",
    "vocab_2 = vocab_counter_2.most_common(vocab_size)\n",
    "del split_ds_2\n",
    "del tokenized_compressed_2\n",
    "del tokenized_sentences_2\n",
    "del vocab_counter_2\n",
    "gc.collect()\n",
    "\n",
    "\n",
    "\n",
    "\n",
    "### YOUR CODE ENDS HERE"
   ]
  },
  {
   "cell_type": "code",
   "execution_count": null,
   "metadata": {
    "ExecuteTime": {
     "start_time": "2025-04-16T21:23:08.401479Z"
    },
    "jupyter": {
     "is_executing": true
    }
   },
   "outputs": [],
   "source": [
    "sentences_bows_2 = test_ds_2['sentence_bow']\n",
    "\n",
    "\n"
   ]
  },
  {
   "cell_type": "markdown",
   "metadata": {
    "id": "eiIGTfq6eFI5",
    "pycharm": {
     "name": "#%% md\n"
    }
   },
   "source": [
    "// your comments"
   ]
  },
  {
   "cell_type": "markdown",
   "metadata": {
    "collapsed": false,
    "pycharm": {
     "name": "#%% md\n"
    }
   },
   "source": [
    "## 3. Term Frequency - Inverse Document Frequency (TF-IDF)\n",
    "\n",
    "In this section we will implement the TF-IDF algorithm. While BOW is a simple way to represent the documents, it has some limitations. For example, it does not take into account the importance of each word in the document. TF-IDF representation takes into account the frequency of each word in the document and the frequency of the word in the whole dataset. It is a widely used technique in information retrieval and text mining. Refer to the lecture slides for more details."
   ]
  },
  {
   "cell_type": "markdown",
   "metadata": {
    "collapsed": false,
    "pycharm": {
     "name": "#%% md\n"
    }
   },
   "source": [
    "<a name='e8'></a>\n",
    "### Exercise 8: Inverse Document Frequency (IDF)\n",
    "(5p) In this exercise, you will implement the TF-IDF algorithm. First, calculate Inverse Document Frequency (IDF) for each word in the vocabulary. Intuitively, it is a measure of how informative a word is based on the whole dataset. Consult the lecture slides for the details. The IDF is calculated as follows:\n",
    "$$\n",
    "IDF(t) = log_{10}(N/df(t))$$\n",
    "where $N$ is the total number of documents (sentences) in the dataset and $df(t)$ is the number of documents containing the word $t$.\n"
   ]
  },
  {
   "cell_type": "code",
   "execution_count": null,
   "metadata": {
    "ExecuteTime": {
     "end_time": "2025-04-16T15:18:33.873302Z",
     "start_time": "2025-04-16T15:18:32.810666Z"
    },
    "collapsed": false,
    "pycharm": {
     "name": "#%%\n"
    }
   },
   "outputs": [],
   "source": [
    "def calculate_idf(bows):\n",
    "    \"\"\"\n",
    "    Calculates the IDF for each word in the vocabulary\n",
    "    Args:\n",
    "        bows: numpy array of size (N x D) where N is the number of documents and D is the vocabulary size\n",
    "\n",
    "    Returns: a numpy array of size D with IDF values for each token\n",
    "    \"\"\"\n",
    "\n",
    "    ### YOUR CODE HERE\n",
    "\n",
    "    N = bows.shape[0]\n",
    "    df = np.count_nonzero(bows > 0, axis=0)\n",
    "    idf = np.log(N /(df+1)) # df+1 divide by 0 issues)\n",
    "\n",
    "    return idf\n",
    "\n",
    "\n",
    "    ### YOUR CODE ENDS HERE\n",
    "\n",
    "idf = calculate_idf(sentences_bows)"
   ]
  },
  {
   "cell_type": "markdown",
   "metadata": {
    "collapsed": false,
    "pycharm": {
     "name": "#%% md\n"
    }
   },
   "source": [
    "<a name='e9'></a>\n",
    "### Exercise 9: TF-IDF\n",
    "- (5p) Calculate TF-IDF on the `test` subset of the dataset.\n",
    "- (5p) Analyze the search results based on your implemented TF-IDF. Does the search perform well? When does it fail? Discuss several examples that are we get an expected but also unexpected results (find at least 3 from each category). Provide reasons for the good/bad result in each case (e.g. is there some error in the data, is there some linguistic phenomenon that we don't capture, is something wrong with our modeling with average embeddings, ...)\n",
    "- (5p) Compare the results with the ones you got with the bag-of-words representation. Discuss the differences and similarities. Do you think TF-IDF is a better representation for this task? Why or why not? Provide examples to support your arguments.\n"
   ]
  },
  {
   "cell_type": "code",
   "execution_count": null,
   "metadata": {
    "ExecuteTime": {
     "end_time": "2025-04-16T15:18:33.891667Z",
     "start_time": "2025-04-16T15:18:33.889143Z"
    },
    "collapsed": false,
    "pycharm": {
     "name": "#%%\n"
    }
   },
   "outputs": [],
   "source": [
    "### YOUR CODE HERE\n",
    "\n",
    "\n",
    "\n",
    "\n",
    "### YOUR CODE ENDS HERE\n",
    "\n",
    "### YOU CAN ADD MORE CELLS"
   ]
  },
  {
   "cell_type": "markdown",
   "metadata": {
    "collapsed": false,
    "pycharm": {
     "name": "#%% md\n"
    }
   },
   "source": [
    "// your comments"
   ]
  },
  {
   "cell_type": "markdown",
   "metadata": {
    "collapsed": false,
    "pycharm": {
     "name": "#%% md\n"
    }
   },
   "source": [
    "## 4. Word Embeddings\n",
    "\n",
    "In this section you will load the pre-trained word embeddings model - Glove. You can read more about it [here](https://aclanthology.org/D14-1162/) ([https://aclanthology.org/D14-1162/](https://aclanthology.org/D14-1162/)). The embeddings are trained on a large corpus of text and are available in different dimensions. We will start with the dimension of 100, but later you will be asked to experiment with other dimensions.\n",
    "Gensim library maintains a storage containing some pre-trained models. You can read more about it [here](https://github.com/piskvorky/gensim-data) ([https://github.com/piskvorky/gensim-data](https://github.com/piskvorky/gensim-data)). Be sure to read the README of this repository.\n",
    "\n",
    "Let's first load the info of what models are available."
   ]
  },
  {
   "cell_type": "code",
   "execution_count": 43,
   "metadata": {
    "ExecuteTime": {
     "end_time": "2025-04-16T15:18:34.260635Z",
     "start_time": "2025-04-16T15:18:34.095184Z"
    },
    "collapsed": false,
    "pycharm": {
     "name": "#%%\n"
    }
   },
   "outputs": [
    {
     "name": "stdout",
     "output_type": "stream",
     "text": [
      "{\n",
      "  \"fasttext-wiki-news-subwords-300\": {\n",
      "    \"num_records\": 999999,\n",
      "    \"file_size\": 1005007116,\n",
      "    \"base_dataset\": \"Wikipedia 2017, UMBC webbase corpus and statmt.org news dataset (16B tokens)\",\n",
      "    \"reader_code\": \"https://github.com/RaRe-Technologies/gensim-data/releases/download/fasttext-wiki-news-subwords-300/__init__.py\",\n",
      "    \"license\": \"https://creativecommons.org/licenses/by-sa/3.0/\",\n",
      "    \"parameters\": {\n",
      "      \"dimension\": 300\n",
      "    },\n",
      "    \"description\": \"1 million word vectors trained on Wikipedia 2017, UMBC webbase corpus and statmt.org news dataset (16B tokens).\",\n",
      "    \"read_more\": [\n",
      "      \"https://fasttext.cc/docs/en/english-vectors.html\",\n",
      "      \"https://arxiv.org/abs/1712.09405\",\n",
      "      \"https://arxiv.org/abs/1607.01759\"\n",
      "    ],\n",
      "    \"checksum\": \"de2bb3a20c46ce65c9c131e1ad9a77af\",\n",
      "    \"file_name\": \"fasttext-wiki-news-subwords-300.gz\",\n",
      "    \"parts\": 1\n",
      "  },\n",
      "  \"conceptnet-numberbatch-17-06-300\": {\n",
      "    \"num_records\": 1917247,\n",
      "    \"file_size\": 1225497562,\n",
      "    \"base_dataset\": \"ConceptNet, word2vec, GloVe, and OpenSubtitles 2016\",\n",
      "    \"reader_code\": \"https://github.com/RaRe-Technologies/gensim-data/releases/download/conceptnet-numberbatch-17-06-300/__init__.py\",\n",
      "    \"license\": \"https://github.com/commonsense/conceptnet-numberbatch/blob/master/LICENSE.txt\",\n",
      "    \"parameters\": {\n",
      "      \"dimension\": 300\n",
      "    },\n",
      "    \"description\": \"ConceptNet Numberbatch consists of state-of-the-art semantic vectors (also known as word embeddings) that can be used directly as a representation of word meanings or as a starting point for further machine learning. ConceptNet Numberbatch is part of the ConceptNet open data project. ConceptNet provides lots of ways to compute with word meanings, one of which is word embeddings. ConceptNet Numberbatch is a snapshot of just the word embeddings. It is built using an ensemble that combines data from ConceptNet, word2vec, GloVe, and OpenSubtitles 2016, using a variation on retrofitting.\",\n",
      "    \"read_more\": [\n",
      "      \"http://aaai.org/ocs/index.php/AAAI/AAAI17/paper/view/14972\",\n",
      "      \"https://github.com/commonsense/conceptnet-numberbatch\",\n",
      "      \"http://conceptnet.io/\"\n",
      "    ],\n",
      "    \"checksum\": \"fd642d457adcd0ea94da0cd21b150847\",\n",
      "    \"file_name\": \"conceptnet-numberbatch-17-06-300.gz\",\n",
      "    \"parts\": 1\n",
      "  },\n",
      "  \"word2vec-ruscorpora-300\": {\n",
      "    \"num_records\": 184973,\n",
      "    \"file_size\": 208427381,\n",
      "    \"base_dataset\": \"Russian National Corpus (about 250M words)\",\n",
      "    \"reader_code\": \"https://github.com/RaRe-Technologies/gensim-data/releases/download/word2vec-ruscorpora-300/__init__.py\",\n",
      "    \"license\": \"https://creativecommons.org/licenses/by/4.0/deed.en\",\n",
      "    \"parameters\": {\n",
      "      \"dimension\": 300,\n",
      "      \"window_size\": 10\n",
      "    },\n",
      "    \"description\": \"Word2vec Continuous Skipgram vectors trained on full Russian National Corpus (about 250M words). The model contains 185K words.\",\n",
      "    \"preprocessing\": \"The corpus was lemmatized and tagged with Universal PoS\",\n",
      "    \"read_more\": [\n",
      "      \"https://www.academia.edu/24306935/WebVectors_a_Toolkit_for_Building_Web_Interfaces_for_Vector_Semantic_Models\",\n",
      "      \"http://rusvectores.org/en/\",\n",
      "      \"https://github.com/RaRe-Technologies/gensim-data/issues/3\"\n",
      "    ],\n",
      "    \"checksum\": \"9bdebdc8ae6d17d20839dd9b5af10bc4\",\n",
      "    \"file_name\": \"word2vec-ruscorpora-300.gz\",\n",
      "    \"parts\": 1\n",
      "  },\n",
      "  \"word2vec-google-news-300\": {\n",
      "    \"num_records\": 3000000,\n",
      "    \"file_size\": 1743563840,\n",
      "    \"base_dataset\": \"Google News (about 100 billion words)\",\n",
      "    \"reader_code\": \"https://github.com/RaRe-Technologies/gensim-data/releases/download/word2vec-google-news-300/__init__.py\",\n",
      "    \"license\": \"not found\",\n",
      "    \"parameters\": {\n",
      "      \"dimension\": 300\n",
      "    },\n",
      "    \"description\": \"Pre-trained vectors trained on a part of the Google News dataset (about 100 billion words). The model contains 300-dimensional vectors for 3 million words and phrases. The phrases were obtained using a simple data-driven approach described in 'Distributed Representations of Words and Phrases and their Compositionality' (https://code.google.com/archive/p/word2vec/).\",\n",
      "    \"read_more\": [\n",
      "      \"https://code.google.com/archive/p/word2vec/\",\n",
      "      \"https://arxiv.org/abs/1301.3781\",\n",
      "      \"https://arxiv.org/abs/1310.4546\",\n",
      "      \"https://www.microsoft.com/en-us/research/publication/linguistic-regularities-in-continuous-space-word-representations/?from=http%3A%2F%2Fresearch.microsoft.com%2Fpubs%2F189726%2Frvecs.pdf\"\n",
      "    ],\n",
      "    \"checksum\": \"a5e5354d40acb95f9ec66d5977d140ef\",\n",
      "    \"file_name\": \"word2vec-google-news-300.gz\",\n",
      "    \"parts\": 1\n",
      "  },\n",
      "  \"glove-wiki-gigaword-50\": {\n",
      "    \"num_records\": 400000,\n",
      "    \"file_size\": 69182535,\n",
      "    \"base_dataset\": \"Wikipedia 2014 + Gigaword 5 (6B tokens, uncased)\",\n",
      "    \"reader_code\": \"https://github.com/RaRe-Technologies/gensim-data/releases/download/glove-wiki-gigaword-50/__init__.py\",\n",
      "    \"license\": \"http://opendatacommons.org/licenses/pddl/\",\n",
      "    \"parameters\": {\n",
      "      \"dimension\": 50\n",
      "    },\n",
      "    \"description\": \"Pre-trained vectors based on Wikipedia 2014 + Gigaword, 5.6B tokens, 400K vocab, uncased (https://nlp.stanford.edu/projects/glove/).\",\n",
      "    \"preprocessing\": \"Converted to w2v format with `python -m gensim.scripts.glove2word2vec -i <fname> -o glove-wiki-gigaword-50.txt`.\",\n",
      "    \"read_more\": [\n",
      "      \"https://nlp.stanford.edu/projects/glove/\",\n",
      "      \"https://nlp.stanford.edu/pubs/glove.pdf\"\n",
      "    ],\n",
      "    \"checksum\": \"c289bc5d7f2f02c6dc9f2f9b67641813\",\n",
      "    \"file_name\": \"glove-wiki-gigaword-50.gz\",\n",
      "    \"parts\": 1\n",
      "  },\n",
      "  \"glove-wiki-gigaword-100\": {\n",
      "    \"num_records\": 400000,\n",
      "    \"file_size\": 134300434,\n",
      "    \"base_dataset\": \"Wikipedia 2014 + Gigaword 5 (6B tokens, uncased)\",\n",
      "    \"reader_code\": \"https://github.com/RaRe-Technologies/gensim-data/releases/download/glove-wiki-gigaword-100/__init__.py\",\n",
      "    \"license\": \"http://opendatacommons.org/licenses/pddl/\",\n",
      "    \"parameters\": {\n",
      "      \"dimension\": 100\n",
      "    },\n",
      "    \"description\": \"Pre-trained vectors based on Wikipedia 2014 + Gigaword 5.6B tokens, 400K vocab, uncased (https://nlp.stanford.edu/projects/glove/).\",\n",
      "    \"preprocessing\": \"Converted to w2v format with `python -m gensim.scripts.glove2word2vec -i <fname> -o glove-wiki-gigaword-100.txt`.\",\n",
      "    \"read_more\": [\n",
      "      \"https://nlp.stanford.edu/projects/glove/\",\n",
      "      \"https://nlp.stanford.edu/pubs/glove.pdf\"\n",
      "    ],\n",
      "    \"checksum\": \"40ec481866001177b8cd4cb0df92924f\",\n",
      "    \"file_name\": \"glove-wiki-gigaword-100.gz\",\n",
      "    \"parts\": 1\n",
      "  },\n",
      "  \"glove-wiki-gigaword-200\": {\n",
      "    \"num_records\": 400000,\n",
      "    \"file_size\": 264336934,\n",
      "    \"base_dataset\": \"Wikipedia 2014 + Gigaword 5 (6B tokens, uncased)\",\n",
      "    \"reader_code\": \"https://github.com/RaRe-Technologies/gensim-data/releases/download/glove-wiki-gigaword-200/__init__.py\",\n",
      "    \"license\": \"http://opendatacommons.org/licenses/pddl/\",\n",
      "    \"parameters\": {\n",
      "      \"dimension\": 200\n",
      "    },\n",
      "    \"description\": \"Pre-trained vectors based on Wikipedia 2014 + Gigaword, 5.6B tokens, 400K vocab, uncased (https://nlp.stanford.edu/projects/glove/).\",\n",
      "    \"preprocessing\": \"Converted to w2v format with `python -m gensim.scripts.glove2word2vec -i <fname> -o glove-wiki-gigaword-200.txt`.\",\n",
      "    \"read_more\": [\n",
      "      \"https://nlp.stanford.edu/projects/glove/\",\n",
      "      \"https://nlp.stanford.edu/pubs/glove.pdf\"\n",
      "    ],\n",
      "    \"checksum\": \"59652db361b7a87ee73834a6c391dfc1\",\n",
      "    \"file_name\": \"glove-wiki-gigaword-200.gz\",\n",
      "    \"parts\": 1\n",
      "  },\n",
      "  \"glove-wiki-gigaword-300\": {\n",
      "    \"num_records\": 400000,\n",
      "    \"file_size\": 394362229,\n",
      "    \"base_dataset\": \"Wikipedia 2014 + Gigaword 5 (6B tokens, uncased)\",\n",
      "    \"reader_code\": \"https://github.com/RaRe-Technologies/gensim-data/releases/download/glove-wiki-gigaword-300/__init__.py\",\n",
      "    \"license\": \"http://opendatacommons.org/licenses/pddl/\",\n",
      "    \"parameters\": {\n",
      "      \"dimension\": 300\n",
      "    },\n",
      "    \"description\": \"Pre-trained vectors based on Wikipedia 2014 + Gigaword, 5.6B tokens, 400K vocab, uncased (https://nlp.stanford.edu/projects/glove/).\",\n",
      "    \"preprocessing\": \"Converted to w2v format with `python -m gensim.scripts.glove2word2vec -i <fname> -o glove-wiki-gigaword-300.txt`.\",\n",
      "    \"read_more\": [\n",
      "      \"https://nlp.stanford.edu/projects/glove/\",\n",
      "      \"https://nlp.stanford.edu/pubs/glove.pdf\"\n",
      "    ],\n",
      "    \"checksum\": \"29e9329ac2241937d55b852e8284e89b\",\n",
      "    \"file_name\": \"glove-wiki-gigaword-300.gz\",\n",
      "    \"parts\": 1\n",
      "  },\n",
      "  \"glove-twitter-25\": {\n",
      "    \"num_records\": 1193514,\n",
      "    \"file_size\": 109885004,\n",
      "    \"base_dataset\": \"Twitter (2B tweets, 27B tokens, 1.2M vocab, uncased)\",\n",
      "    \"reader_code\": \"https://github.com/RaRe-Technologies/gensim-data/releases/download/glove-twitter-25/__init__.py\",\n",
      "    \"license\": \"http://opendatacommons.org/licenses/pddl/\",\n",
      "    \"parameters\": {\n",
      "      \"dimension\": 25\n",
      "    },\n",
      "    \"description\": \"Pre-trained vectors based on 2B tweets, 27B tokens, 1.2M vocab, uncased (https://nlp.stanford.edu/projects/glove/).\",\n",
      "    \"preprocessing\": \"Converted to w2v format with `python -m gensim.scripts.glove2word2vec -i <fname> -o glove-twitter-25.txt`.\",\n",
      "    \"read_more\": [\n",
      "      \"https://nlp.stanford.edu/projects/glove/\",\n",
      "      \"https://nlp.stanford.edu/pubs/glove.pdf\"\n",
      "    ],\n",
      "    \"checksum\": \"50db0211d7e7a2dcd362c6b774762793\",\n",
      "    \"file_name\": \"glove-twitter-25.gz\",\n",
      "    \"parts\": 1\n",
      "  },\n",
      "  \"glove-twitter-50\": {\n",
      "    \"num_records\": 1193514,\n",
      "    \"file_size\": 209216938,\n",
      "    \"base_dataset\": \"Twitter (2B tweets, 27B tokens, 1.2M vocab, uncased)\",\n",
      "    \"reader_code\": \"https://github.com/RaRe-Technologies/gensim-data/releases/download/glove-twitter-50/__init__.py\",\n",
      "    \"license\": \"http://opendatacommons.org/licenses/pddl/\",\n",
      "    \"parameters\": {\n",
      "      \"dimension\": 50\n",
      "    },\n",
      "    \"description\": \"Pre-trained vectors based on 2B tweets, 27B tokens, 1.2M vocab, uncased (https://nlp.stanford.edu/projects/glove/)\",\n",
      "    \"preprocessing\": \"Converted to w2v format with `python -m gensim.scripts.glove2word2vec -i <fname> -o glove-twitter-50.txt`.\",\n",
      "    \"read_more\": [\n",
      "      \"https://nlp.stanford.edu/projects/glove/\",\n",
      "      \"https://nlp.stanford.edu/pubs/glove.pdf\"\n",
      "    ],\n",
      "    \"checksum\": \"c168f18641f8c8a00fe30984c4799b2b\",\n",
      "    \"file_name\": \"glove-twitter-50.gz\",\n",
      "    \"parts\": 1\n",
      "  },\n",
      "  \"glove-twitter-100\": {\n",
      "    \"num_records\": 1193514,\n",
      "    \"file_size\": 405932991,\n",
      "    \"base_dataset\": \"Twitter (2B tweets, 27B tokens, 1.2M vocab, uncased)\",\n",
      "    \"reader_code\": \"https://github.com/RaRe-Technologies/gensim-data/releases/download/glove-twitter-100/__init__.py\",\n",
      "    \"license\": \"http://opendatacommons.org/licenses/pddl/\",\n",
      "    \"parameters\": {\n",
      "      \"dimension\": 100\n",
      "    },\n",
      "    \"description\": \"Pre-trained vectors based on  2B tweets, 27B tokens, 1.2M vocab, uncased (https://nlp.stanford.edu/projects/glove/)\",\n",
      "    \"preprocessing\": \"Converted to w2v format with `python -m gensim.scripts.glove2word2vec -i <fname> -o glove-twitter-100.txt`.\",\n",
      "    \"read_more\": [\n",
      "      \"https://nlp.stanford.edu/projects/glove/\",\n",
      "      \"https://nlp.stanford.edu/pubs/glove.pdf\"\n",
      "    ],\n",
      "    \"checksum\": \"b04f7bed38756d64cf55b58ce7e97b15\",\n",
      "    \"file_name\": \"glove-twitter-100.gz\",\n",
      "    \"parts\": 1\n",
      "  },\n",
      "  \"glove-twitter-200\": {\n",
      "    \"num_records\": 1193514,\n",
      "    \"file_size\": 795373100,\n",
      "    \"base_dataset\": \"Twitter (2B tweets, 27B tokens, 1.2M vocab, uncased)\",\n",
      "    \"reader_code\": \"https://github.com/RaRe-Technologies/gensim-data/releases/download/glove-twitter-200/__init__.py\",\n",
      "    \"license\": \"http://opendatacommons.org/licenses/pddl/\",\n",
      "    \"parameters\": {\n",
      "      \"dimension\": 200\n",
      "    },\n",
      "    \"description\": \"Pre-trained vectors based on 2B tweets, 27B tokens, 1.2M vocab, uncased (https://nlp.stanford.edu/projects/glove/).\",\n",
      "    \"preprocessing\": \"Converted to w2v format with `python -m gensim.scripts.glove2word2vec -i <fname> -o glove-twitter-200.txt`.\",\n",
      "    \"read_more\": [\n",
      "      \"https://nlp.stanford.edu/projects/glove/\",\n",
      "      \"https://nlp.stanford.edu/pubs/glove.pdf\"\n",
      "    ],\n",
      "    \"checksum\": \"e52e8392d1860b95d5308a525817d8f9\",\n",
      "    \"file_name\": \"glove-twitter-200.gz\",\n",
      "    \"parts\": 1\n",
      "  },\n",
      "  \"__testing_word2vec-matrix-synopsis\": {\n",
      "    \"description\": \"[THIS IS ONLY FOR TESTING] Word vecrors of the movie matrix.\",\n",
      "    \"parameters\": {\n",
      "      \"dimensions\": 50\n",
      "    },\n",
      "    \"preprocessing\": \"Converted to w2v using a preprocessed corpus. Converted to w2v format with `python3.5 -m gensim.models.word2vec -train <input_filename> -iter 50 -output <output_filename>`.\",\n",
      "    \"read_more\": [],\n",
      "    \"checksum\": \"534dcb8b56a360977a269b7bfc62d124\",\n",
      "    \"file_name\": \"__testing_word2vec-matrix-synopsis.gz\",\n",
      "    \"parts\": 1\n",
      "  }\n",
      "}\n"
     ]
    }
   ],
   "source": [
    "import json\n",
    "import gensim.downloader as api\n",
    "\n",
    "info = api.info()  # show info about available models/datasets\n",
    "print(json.dumps(info['models'], indent=2))"
   ]
  },
  {
   "cell_type": "code",
   "execution_count": 44,
   "metadata": {
    "ExecuteTime": {
     "end_time": "2025-04-16T15:18:44.565658Z",
     "start_time": "2025-04-16T15:18:34.274742Z"
    },
    "collapsed": false,
    "pycharm": {
     "name": "#%%\n"
    }
   },
   "outputs": [],
   "source": [
    "glove_model = api.load(\"glove-wiki-gigaword-100\")"
   ]
  },
  {
   "cell_type": "markdown",
   "metadata": {
    "collapsed": false,
    "pycharm": {
     "name": "#%% md\n"
    }
   },
   "source": [
    "We can use the loaded model's `key_to_index` attribute to retrieve the whole vocabulary (aka for how many words we learned embeddings for)."
   ]
  },
  {
   "cell_type": "code",
   "execution_count": 45,
   "metadata": {
    "ExecuteTime": {
     "end_time": "2025-04-16T15:18:44.770610Z",
     "start_time": "2025-04-16T15:18:44.764503Z"
    },
    "collapsed": false,
    "pycharm": {
     "name": "#%%\n"
    }
   },
   "outputs": [
    {
     "name": "stdout",
     "output_type": "stream",
     "text": [
      "400000\n"
     ]
    }
   ],
   "source": [
    "vocab = list(glove_model.key_to_index)\n",
    "print(len(vocab))"
   ]
  },
  {
   "cell_type": "markdown",
   "metadata": {
    "collapsed": false,
    "pycharm": {
     "name": "#%% md\n"
    }
   },
   "source": [
    "Let's explore a bit further the embeddings. In the following cells, the embedding of a single word is returned. Double-check the dimensions (as sanity check). This is like inspecting the `W` matrix (weights) that we discussed in the lecture."
   ]
  },
  {
   "cell_type": "code",
   "execution_count": 46,
   "metadata": {
    "ExecuteTime": {
     "end_time": "2025-04-16T15:18:44.930501Z",
     "start_time": "2025-04-16T15:18:44.924999Z"
    },
    "collapsed": false,
    "pycharm": {
     "name": "#%%\n"
    }
   },
   "outputs": [
    {
     "data": {
      "text/plain": [
       "array([-1.5180e-01,  3.8409e-01,  8.9340e-01, -4.2421e-01, -9.2161e-01,\n",
       "        3.7988e-02, -3.2026e-01,  3.4119e-03,  2.2101e-01, -2.2045e-01,\n",
       "        1.6661e-01,  2.1956e-01,  2.5325e-01, -2.9267e-01,  1.0171e-01,\n",
       "       -7.5491e-02, -6.0406e-02,  2.8194e-01, -5.8519e-01,  4.8271e-01,\n",
       "        1.7504e-02, -1.2086e-01, -1.0990e-01, -6.9554e-01,  1.5600e-01,\n",
       "        7.0558e-02, -1.5058e-01, -8.1811e-01, -1.8535e-01, -3.6863e-01,\n",
       "        3.1650e-02,  7.6616e-01,  8.4041e-02,  2.6928e-03, -2.7440e-01,\n",
       "        2.1815e-01, -3.5157e-02,  3.2569e-01,  1.0032e-01, -6.0932e-01,\n",
       "       -7.0316e-01,  1.8299e-01,  3.3134e-01, -1.2416e-01, -9.0542e-01,\n",
       "       -3.9157e-02,  4.4719e-01, -5.7338e-01, -4.0172e-01, -8.2234e-01,\n",
       "        5.5740e-01,  1.5101e-01,  2.4598e-01,  1.0113e+00, -4.6626e-01,\n",
       "       -2.7133e+00,  4.3273e-01, -1.6314e-01,  1.5828e+00,  5.5081e-01,\n",
       "       -2.4738e-01,  1.4184e+00, -1.6867e-02, -1.9368e-01,  1.0090e+00,\n",
       "       -5.9864e-02,  9.1853e-01,  4.3022e-01, -2.0624e-01,  7.6127e-02,\n",
       "        2.1595e-01, -2.6834e-01, -3.3342e-01, -3.7151e-01,  4.5197e-01,\n",
       "       -8.2460e-02,  3.2984e-01, -5.7376e-01, -1.3042e+00,  2.7121e-01,\n",
       "        6.6277e-01, -7.9626e-02, -7.9167e-01, -5.3662e-03, -1.7916e+00,\n",
       "       -3.3298e-01, -3.0698e-01, -3.3980e-01, -5.5618e-01, -6.9471e-01,\n",
       "        2.7427e-01, -2.1898e-01, -2.6714e-01,  2.2561e-03, -5.0178e-01,\n",
       "       -3.2775e-01, -4.5670e-01, -2.7123e-01,  2.2157e-01,  9.2112e-01],\n",
       "      dtype=float32)"
      ]
     },
     "execution_count": 46,
     "metadata": {},
     "output_type": "execute_result"
    }
   ],
   "source": [
    "# vector of a particular model. note that it is 100 dimensional as specified.\n",
    "glove_model['what']"
   ]
  },
  {
   "cell_type": "markdown",
   "metadata": {
    "collapsed": false,
    "pycharm": {
     "name": "#%% md\n"
    }
   },
   "source": [
    "Gensim objects offers different methods to easily run very common tasks. For example, there are different functions to find the most similar words.\n",
    "\n",
    "Check the documentation on how [`most_similar`](https://tedboy.github.io/nlps/generated/generated/gensim.models.Word2Vec.most_similar.html) and [`similar_by_word`](https://tedboy.github.io/nlps/generated/generated/gensim.models.Word2Vec.similar_by_word.html) can be used."
   ]
  },
  {
   "cell_type": "code",
   "execution_count": 47,
   "metadata": {
    "ExecuteTime": {
     "end_time": "2025-04-16T15:18:45.107986Z",
     "start_time": "2025-04-16T15:18:44.948246Z"
    },
    "collapsed": false,
    "pycharm": {
     "name": "#%%\n"
    }
   },
   "outputs": [
    {
     "name": "stdout",
     "output_type": "stream",
     "text": [
      "[('how', 0.930321455001831), ('why', 0.9196362495422363), ('fact', 0.9069437980651855), ('know', 0.8876389861106873), ('that', 0.8810365796089172), ('think', 0.8772969841957092), ('so', 0.8753098249435425), ('even', 0.8751895427703857), ('something', 0.874744176864624), ('if', 0.8702542781829834)]\n",
      "[('play', 0.6266525387763977), ('missed', 0.608065128326416), ('she', 0.596325695514679), ('chance', 0.5839369297027588), ('tournament', 0.5722586512565613)]\n"
     ]
    }
   ],
   "source": [
    "# most similar words to a given word\n",
    "print(glove_model.most_similar('what', topn=10))\n",
    "\n",
    "# also u can use\n",
    "print(glove_model.similar_by_word('miss', topn=5))"
   ]
  },
  {
   "cell_type": "code",
   "execution_count": 48,
   "metadata": {
    "ExecuteTime": {
     "end_time": "2025-04-16T15:18:45.261781Z",
     "start_time": "2025-04-16T15:18:45.243190Z"
    },
    "collapsed": false,
    "pycharm": {
     "name": "#%%\n"
    }
   },
   "outputs": [
    {
     "name": "stdout",
     "output_type": "stream",
     "text": [
      "[('know', 0.9440940618515015), ('what', 0.9196362495422363), ('think', 0.9086559414863586), ('how', 0.9020735621452332), ('tell', 0.8923122882843018), (\"n't\", 0.8890628814697266), ('sure', 0.8870969414710999), ('thought', 0.8747684955596924), ('believe', 0.8745115995407104), ('say', 0.8730074763298035)]\n"
     ]
    }
   ],
   "source": [
    "print(glove_model.most_similar('why', topn=10))"
   ]
  },
  {
   "cell_type": "code",
   "execution_count": 49,
   "metadata": {
    "ExecuteTime": {
     "end_time": "2025-04-16T15:18:45.408170Z",
     "start_time": "2025-04-16T15:18:45.386264Z"
    },
    "collapsed": false,
    "pycharm": {
     "name": "#%%\n"
    }
   },
   "outputs": [
    {
     "name": "stdout",
     "output_type": "stream",
     "text": [
      "[('whom', 0.8642492890357971), ('he', 0.8201969861984253), ('whose', 0.8143677711486816), ('had', 0.8035845160484314), ('others', 0.7708419561386108)]\n"
     ]
    }
   ],
   "source": [
    "print(glove_model.similar_by_word('who', topn=5))"
   ]
  },
  {
   "cell_type": "markdown",
   "metadata": {
    "collapsed": false,
    "pycharm": {
     "name": "#%% md\n"
    }
   },
   "source": [
    "We can now compare our implementation with the one in the pre-trained model and confirm what we already expected."
   ]
  },
  {
   "cell_type": "code",
   "execution_count": 50,
   "metadata": {
    "ExecuteTime": {
     "end_time": "2025-04-16T15:18:45.668853Z",
     "start_time": "2025-04-16T15:18:45.666446Z"
    },
    "collapsed": false,
    "pycharm": {
     "name": "#%%\n"
    }
   },
   "outputs": [
    {
     "name": "stdout",
     "output_type": "stream",
     "text": [
      "0.15712574\n",
      "0.15712576\n"
     ]
    }
   ],
   "source": [
    "# simalarity between two words\n",
    "word1 = 'alive'\n",
    "word2 = 'biology'\n",
    "print(glove_model.similarity(word1, word2))\n",
    "print(cosine_similarity(glove_model[word1], glove_model[word2]))"
   ]
  },
  {
   "cell_type": "code",
   "execution_count": 51,
   "metadata": {
    "ExecuteTime": {
     "end_time": "2025-04-16T15:18:45.676960Z",
     "start_time": "2025-04-16T15:18:45.674843Z"
    },
    "collapsed": false,
    "pycharm": {
     "name": "#%%\n"
    }
   },
   "outputs": [
    {
     "name": "stdout",
     "output_type": "stream",
     "text": [
      "0.6400604\n",
      "0.6400604\n"
     ]
    }
   ],
   "source": [
    "# simalarity between two words. similar words\n",
    "word1 = 'alive'\n",
    "word2 = 'life'\n",
    "print(glove_model.similarity(word1, word2))\n",
    "print(cosine_similarity(glove_model[word1], glove_model[word2]))"
   ]
  },
  {
   "cell_type": "code",
   "execution_count": 52,
   "metadata": {
    "ExecuteTime": {
     "end_time": "2025-04-16T15:18:45.752559Z",
     "start_time": "2025-04-16T15:18:45.750329Z"
    },
    "collapsed": false,
    "pycharm": {
     "name": "#%%\n"
    }
   },
   "outputs": [
    {
     "name": "stdout",
     "output_type": "stream",
     "text": [
      "0.71035177\n",
      "0.71035177\n"
     ]
    }
   ],
   "source": [
    "# simalarity between two words. dissimilar words\n",
    "word1 = 'alive'\n",
    "word2 = 'dead'\n",
    "print(glove_model.similarity(word1, word2))\n",
    "print(cosine_similarity(glove_model[word1], glove_model[word2]))"
   ]
  },
  {
   "cell_type": "code",
   "execution_count": 53,
   "metadata": {
    "ExecuteTime": {
     "end_time": "2025-04-16T15:18:45.825838Z",
     "start_time": "2025-04-16T15:18:45.823501Z"
    },
    "collapsed": false,
    "pycharm": {
     "name": "#%%\n"
    }
   },
   "outputs": [
    {
     "name": "stdout",
     "output_type": "stream",
     "text": [
      "0.34625494\n",
      "0.34625494\n"
     ]
    }
   ],
   "source": [
    "# simalarity between two words. unrelated words\n",
    "word1 = 'alive'\n",
    "word2 = 'horse'\n",
    "print(glove_model.similarity(word1, word2))\n",
    "print(cosine_similarity(glove_model[word1], glove_model[word2]))"
   ]
  },
  {
   "cell_type": "code",
   "execution_count": 54,
   "metadata": {
    "ExecuteTime": {
     "end_time": "2025-04-16T15:18:45.915241Z",
     "start_time": "2025-04-16T15:18:45.912910Z"
    },
    "collapsed": false,
    "pycharm": {
     "name": "#%%\n"
    }
   },
   "outputs": [
    {
     "name": "stdout",
     "output_type": "stream",
     "text": [
      "1.0\n",
      "1.0000001\n"
     ]
    }
   ],
   "source": [
    "# simalarity between two SAME words\n",
    "glove_model.similarity('equal', 'equal')\n",
    "word1 = 'equal'\n",
    "word2 = 'equal'\n",
    "print(glove_model.similarity(word1, word2))\n",
    "print(cosine_similarity(glove_model[word1], glove_model[word2]))"
   ]
  },
  {
   "cell_type": "markdown",
   "metadata": {
    "collapsed": false,
    "pycharm": {
     "name": "#%% md\n"
    }
   },
   "source": [
    "The next function contains the code to plot a similarity matrix between multiple words (e.g. if we want to compare 10 words and their pair-wise similarities). It requires a matrix with similarities (as input) and labels (aka the words) to display in the final figure."
   ]
  },
  {
   "cell_type": "code",
   "execution_count": 55,
   "metadata": {
    "ExecuteTime": {
     "end_time": "2025-04-16T15:18:46.070679Z",
     "start_time": "2025-04-16T15:18:46.067289Z"
    },
    "collapsed": false,
    "pycharm": {
     "name": "#%%\n"
    }
   },
   "outputs": [],
   "source": [
    "def plot_similarity_matrix(matrix, labels):\n",
    "    \"\"\"\n",
    "    Displays a plot of the `matrix` of size (N x N) with the labels specified as a list of size N\n",
    "    Args:\n",
    "        matrix: a square-sized (N x N) numpy array\n",
    "        labels: a list of strings of hte size N\n",
    "    \"\"\"\n",
    "\n",
    "    fig, ax = plt.subplots()\n",
    "    im = ax.imshow(matrix)\n",
    "\n",
    "    # Show all ticks and label them with the respective list entries\n",
    "    ax.set_xticks(np.arange(len(labels)), labels=labels)\n",
    "    ax.set_yticks(np.arange(len(labels)), labels=labels)\n",
    "\n",
    "    # Rotate the tick labels and set their alignment.\n",
    "    plt.setp(ax.get_xticklabels(), rotation=45, ha=\"right\",\n",
    "             rotation_mode=\"anchor\")\n",
    "\n",
    "    # Loop over data dimensions and create text annotations.\n",
    "    for i in range(len(labels)):\n",
    "        for j in range(len(labels)):\n",
    "            text = ax.text(j, i, f'{matrix[i, j]:.2f}',\n",
    "                           ha=\"center\", va=\"center\", color=\"w\")\n",
    "\n",
    "    # ax.set_title(\"Give a title if you want\")\n",
    "    fig.tight_layout()\n",
    "    plt.show()"
   ]
  },
  {
   "cell_type": "markdown",
   "metadata": {
    "collapsed": false,
    "pycharm": {
     "name": "#%% md\n"
    }
   },
   "source": [
    "<a name='e10'></a>\n",
    "### Exercise 10: Plotting similarities between words\n",
    "\n",
    "(10p) In the following, we will explore some properties of word embeddings through some examples. We will use 6 example words for this purpose but experiment with other set of words as well. Fill in the next cell to create a similarity matrix between a list of words.\n",
    "\n",
    "Experiment with different words and their similarities plotted. Try at least 3 different sets of words of at least 6 words each. Use the `plot_similarity_matrix` function to visualize the results.\n",
    "Comment on the results. Do they make sense? Why some words are closer to each other than others? What does it mean?"
   ]
  },
  {
   "cell_type": "code",
   "execution_count": 56,
   "metadata": {
    "ExecuteTime": {
     "end_time": "2025-04-16T15:18:46.952712Z",
     "start_time": "2025-04-16T15:18:46.075590Z"
    },
    "collapsed": false,
    "pycharm": {
     "name": "#%%\n"
    }
   },
   "outputs": [
    {
     "data": {
      "image/png": "[encoded data removed]",
      "text/plain": [
       "<Figure size 640x480 with 1 Axes>"
      ]
     },
     "metadata": {},
     "output_type": "display_data"
    }
   ],
   "source": [
    "list_of_words = ['love', 'hate', 'life', 'equal', 'alive', 'dead']\n",
    "\n",
    "similarity_matrix = np.zeros((len(list_of_words), len(list_of_words)), dtype=float)\n",
    "\n",
    "### YOUR CODE HERE\n",
    "\n",
    "def build_similarity_matrix(similarity_matrix, list_of_words):\n",
    "    for i in range(len(list_of_words)):\n",
    "        for j in range(len(list_of_words)):\n",
    "            similarity_matrix[i, j] = glove_model.similarity(list_of_words[i], list_of_words[j])\n",
    "\n",
    "    return similarity_matrix\n",
    "\n",
    "### YOUR CODE ENDS HERE\n",
    "\n",
    "\n",
    "plot_similarity_matrix(build_similarity_matrix(similarity_matrix, list_of_words), list_of_words)"
   ]
  },
  {
   "cell_type": "code",
   "execution_count": 57,
   "metadata": {
    "ExecuteTime": {
     "end_time": "2025-04-16T15:18:47.231893Z",
     "start_time": "2025-04-16T15:18:47.030827Z"
    },
    "collapsed": false,
    "pycharm": {
     "name": "#%%\n"
    }
   },
   "outputs": [
    {
     "data": {
      "image/png": "[encoded data removed]",
      "text/plain": [
       "<Figure size 640x480 with 1 Axes>"
      ]
     },
     "metadata": {},
     "output_type": "display_data"
    },
    {
     "data": {
      "image/png": "[encoded data removed]",
      "text/plain": [
       "<Figure size 640x480 with 1 Axes>"
      ]
     },
     "metadata": {},
     "output_type": "display_data"
    },
    {
     "data": {
      "image/png": "[encoded data removed]",
      "text/plain": [
       "<Figure size 640x480 with 1 Axes>"
      ]
     },
     "metadata": {},
     "output_type": "display_data"
    }
   ],
   "source": [
    "#### YOUR CODE HERE\n",
    "\n",
    "list_of_words = ['money', 'capitalism', 'war', 'missiles', 'stocks', 'flower']\n",
    "list_of_words_2 = ['ambulance', 'doctor', 'war', 'celebrity', 'ice', 'polar']\n",
    "list_of_words_3 = ['sword', 'shield', 'toilet', 'paper', 'punishment', 'crime']\n",
    "\n",
    "similarity_matrix = np.zeros((len(list_of_words), len(list_of_words)), dtype=float)\n",
    "\n",
    "\n",
    "plot_similarity_matrix(build_similarity_matrix(similarity_matrix, list_of_words), list_of_words)\n",
    "plot_similarity_matrix(build_similarity_matrix(similarity_matrix, list_of_words_2), list_of_words_2)\n",
    "plot_similarity_matrix(build_similarity_matrix(similarity_matrix, list_of_words_3), list_of_words_3)\n",
    "\n",
    "### YOUR CODE ENDS HERE"
   ]
  },
  {
   "cell_type": "markdown",
   "metadata": {
    "collapsed": false,
    "pycharm": {
     "name": "#%% md\n"
    }
   },
   "source": [
    "<a name='e11'></a>\n",
    "### Exercise 11: Other pre-trained word embeddings\n",
    "(10p) For this exercise, experiment with at least one different word embedding model. You can choose Glove with different dimensions or other pre-trained models. Use the gensim library to download and use the models.\n",
    "Plot similarity matrices between sets of words you used in the previous exercise and compare the results. Are there noticeable differences? Why (not)?\n",
    "Across models 2 and 3, we observe that the models consistently capture similar types of word associations. This suggests that the core semantic structure is preserved, which is to be expected, as both models were trained on Wikipedia data. However, with an increase in dimensionality, cosine similarity values tend to decrease. Comparing the 100D (glove model) and 200D wiki-trained model, we see that most similarity scores are weaker in the higher-dimensional space. While speculative, this may be due to a larger vector space weakening strong and common word associations in order to better capture more nuanced and complex relationships.\n",
    "Model 1 (the Twitter model) reflects some different kind of behavior, likely due to its training data. Words from list 2, such as 'sunny', 'celebrity', 'health', 'body', 'life', 'bad', show much stronger associations in the Twitter-based model than in the Wikipedia-trained ones, despite both models being 100D. This could be because such words frequently co-occur in informal or emotional contexts typical of tweets.\n",
    "Conversely, scientific terms like those in list 3; 'neutron', 'atom', 'photosynthesis', 'acid', 'amino', 'chlorophyll', are more strongly associated in Wikipedia-trained models. For instance, 'amino' and 'acid' have a cosine similarity of 0.74 in the 100D wiki model, but only 0.43 in the Twitter model. This highlights how the training corpus influences word meaning where context shapes association.\n",
    "However, without further investigation the conclusions above are, as mentioned, speculative."
   ]
  },
  {
   "cell_type": "code",
   "execution_count": 91,
   "metadata": {
    "ExecuteTime": {
     "end_time": "2025-04-16T16:22:15.175146Z",
     "start_time": "2025-04-16T16:20:30.393836Z"
    },
    "collapsed": false,
    "pycharm": {
     "name": "#%%\n"
    }
   },
   "outputs": [
    {
     "name": "stdout",
     "output_type": "stream",
     "text": [
      "[===-----------------------------------------------] 6.1% 23.4/387.1MB downloaded"
     ]
    },
    {
     "name": "stderr",
     "output_type": "stream",
     "text": [
      "IOPub message rate exceeded.\n",
      "The Jupyter server will temporarily stop sending output\n",
      "to the client in order to avoid crashing it.\n",
      "To change this limit, set the config variable\n",
      "`--ServerApp.iopub_msg_rate_limit`.\n",
      "\n",
      "Current values:\n",
      "ServerApp.iopub_msg_rate_limit=1000.0 (msgs/sec)\n",
      "ServerApp.rate_limit_window=3.0 (secs)\n",
      "\n"
     ]
    },
    {
     "name": "stdout",
     "output_type": "stream",
     "text": [
      "[=======-------------------------------------------] 14.1% 54.7/387.1MB downloaded"
     ]
    },
    {
     "name": "stderr",
     "output_type": "stream",
     "text": [
      "IOPub message rate exceeded.\n",
      "The Jupyter server will temporarily stop sending output\n",
      "to the client in order to avoid crashing it.\n",
      "To change this limit, set the config variable\n",
      "`--ServerApp.iopub_msg_rate_limit`.\n",
      "\n",
      "Current values:\n",
      "ServerApp.iopub_msg_rate_limit=1000.0 (msgs/sec)\n",
      "ServerApp.rate_limit_window=3.0 (secs)\n",
      "\n"
     ]
    },
    {
     "name": "stdout",
     "output_type": "stream",
     "text": [
      "[=========-----------------------------------------] 19.7% 76.4/387.1MB downloaded"
     ]
    },
    {
     "name": "stderr",
     "output_type": "stream",
     "text": [
      "IOPub message rate exceeded.\n",
      "The Jupyter server will temporarily stop sending output\n",
      "to the client in order to avoid crashing it.\n",
      "To change this limit, set the config variable\n",
      "`--ServerApp.iopub_msg_rate_limit`.\n",
      "\n",
      "Current values:\n",
      "ServerApp.iopub_msg_rate_limit=1000.0 (msgs/sec)\n",
      "ServerApp.rate_limit_window=3.0 (secs)\n",
      "\n"
     ]
    },
    {
     "name": "stdout",
     "output_type": "stream",
     "text": [
      "[============--------------------------------------] 24.3% 94.0/387.1MB downloaded"
     ]
    },
    {
     "name": "stderr",
     "output_type": "stream",
     "text": [
      "IOPub message rate exceeded.\n",
      "The Jupyter server will temporarily stop sending output\n",
      "to the client in order to avoid crashing it.\n",
      "To change this limit, set the config variable\n",
      "`--ServerApp.iopub_msg_rate_limit`.\n",
      "\n",
      "Current values:\n",
      "ServerApp.iopub_msg_rate_limit=1000.0 (msgs/sec)\n",
      "ServerApp.rate_limit_window=3.0 (secs)\n",
      "\n"
     ]
    },
    {
     "name": "stdout",
     "output_type": "stream",
     "text": [
      "[===============-----------------------------------] 30.7% 118.8/387.1MB downloaded"
     ]
    },
    {
     "name": "stderr",
     "output_type": "stream",
     "text": [
      "IOPub message rate exceeded.\n",
      "The Jupyter server will temporarily stop sending output\n",
      "to the client in order to avoid crashing it.\n",
      "To change this limit, set the config variable\n",
      "`--ServerApp.iopub_msg_rate_limit`.\n",
      "\n",
      "Current values:\n",
      "ServerApp.iopub_msg_rate_limit=1000.0 (msgs/sec)\n",
      "ServerApp.rate_limit_window=3.0 (secs)\n",
      "\n"
     ]
    },
    {
     "name": "stdout",
     "output_type": "stream",
     "text": [
      "[=================---------------------------------] 35.0% 135.6/387.1MB downloaded"
     ]
    },
    {
     "name": "stderr",
     "output_type": "stream",
     "text": [
      "IOPub message rate exceeded.\n",
      "The Jupyter server will temporarily stop sending output\n",
      "to the client in order to avoid crashing it.\n",
      "To change this limit, set the config variable\n",
      "`--ServerApp.iopub_msg_rate_limit`.\n",
      "\n",
      "Current values:\n",
      "ServerApp.iopub_msg_rate_limit=1000.0 (msgs/sec)\n",
      "ServerApp.rate_limit_window=3.0 (secs)\n",
      "\n"
     ]
    },
    {
     "name": "stdout",
     "output_type": "stream",
     "text": [
      "[========================--------------------------] 50.0% 193.5/387.1MB downloaded"
     ]
    },
    {
     "name": "stderr",
     "output_type": "stream",
     "text": [
      "IOPub message rate exceeded.\n",
      "The Jupyter server will temporarily stop sending output\n",
      "to the client in order to avoid crashing it.\n",
      "To change this limit, set the config variable\n",
      "`--ServerApp.iopub_msg_rate_limit`.\n",
      "\n",
      "Current values:\n",
      "ServerApp.iopub_msg_rate_limit=1000.0 (msgs/sec)\n",
      "ServerApp.rate_limit_window=3.0 (secs)\n",
      "\n"
     ]
    },
    {
     "name": "stdout",
     "output_type": "stream",
     "text": [
      "[==============================--------------------] 61.4% 237.8/387.1MB downloaded"
     ]
    },
    {
     "name": "stderr",
     "output_type": "stream",
     "text": [
      "IOPub message rate exceeded.\n",
      "The Jupyter server will temporarily stop sending output\n",
      "to the client in order to avoid crashing it.\n",
      "To change this limit, set the config variable\n",
      "`--ServerApp.iopub_msg_rate_limit`.\n",
      "\n",
      "Current values:\n",
      "ServerApp.iopub_msg_rate_limit=1000.0 (msgs/sec)\n",
      "ServerApp.rate_limit_window=3.0 (secs)\n",
      "\n"
     ]
    },
    {
     "name": "stdout",
     "output_type": "stream",
     "text": [
      "[===================================---------------] 70.1% 271.3/387.1MB downloaded"
     ]
    },
    {
     "name": "stderr",
     "output_type": "stream",
     "text": [
      "IOPub message rate exceeded.\n",
      "The Jupyter server will temporarily stop sending output\n",
      "to the client in order to avoid crashing it.\n",
      "To change this limit, set the config variable\n",
      "`--ServerApp.iopub_msg_rate_limit`.\n",
      "\n",
      "Current values:\n",
      "ServerApp.iopub_msg_rate_limit=1000.0 (msgs/sec)\n",
      "ServerApp.rate_limit_window=3.0 (secs)\n",
      "\n"
     ]
    },
    {
     "name": "stdout",
     "output_type": "stream",
     "text": [
      "[======================================------------] 77.0% 297.9/387.1MB downloaded"
     ]
    },
    {
     "name": "stderr",
     "output_type": "stream",
     "text": [
      "IOPub message rate exceeded.\n",
      "The Jupyter server will temporarily stop sending output\n",
      "to the client in order to avoid crashing it.\n",
      "To change this limit, set the config variable\n",
      "`--ServerApp.iopub_msg_rate_limit`.\n",
      "\n",
      "Current values:\n",
      "ServerApp.iopub_msg_rate_limit=1000.0 (msgs/sec)\n",
      "ServerApp.rate_limit_window=3.0 (secs)\n",
      "\n"
     ]
    },
    {
     "name": "stdout",
     "output_type": "stream",
     "text": [
      "[==========================================--------] 84.2% 326.0/387.1MB downloaded"
     ]
    },
    {
     "name": "stderr",
     "output_type": "stream",
     "text": [
      "IOPub message rate exceeded.\n",
      "The Jupyter server will temporarily stop sending output\n",
      "to the client in order to avoid crashing it.\n",
      "To change this limit, set the config variable\n",
      "`--ServerApp.iopub_msg_rate_limit`.\n",
      "\n",
      "Current values:\n",
      "ServerApp.iopub_msg_rate_limit=1000.0 (msgs/sec)\n",
      "ServerApp.rate_limit_window=3.0 (secs)\n",
      "\n"
     ]
    },
    {
     "name": "stdout",
     "output_type": "stream",
     "text": [
      "[================================================--] 96.3% 372.7/387.1MB downloaded"
     ]
    },
    {
     "name": "stderr",
     "output_type": "stream",
     "text": [
      "IOPub message rate exceeded.\n",
      "The Jupyter server will temporarily stop sending output\n",
      "to the client in order to avoid crashing it.\n",
      "To change this limit, set the config variable\n",
      "`--ServerApp.iopub_msg_rate_limit`.\n",
      "\n",
      "Current values:\n",
      "ServerApp.iopub_msg_rate_limit=1000.0 (msgs/sec)\n",
      "ServerApp.rate_limit_window=3.0 (secs)\n",
      "\n"
     ]
    },
    {
     "name": "stdout",
     "output_type": "stream",
     "text": [
      "[==================================================] 100.0% 387.1/387.1MB downloaded\n"
     ]
    }
   ],
   "source": [
    "#### YOUR CODE HERE\n",
    "light_model = api.load(\"glove-twitter-100\")\n",
    "strong_model = api.load(\"glove-wiki-gigaword-200\")\n"
   ]
  },
  {
   "cell_type": "code",
   "execution_count": 92,
   "metadata": {
    "ExecuteTime": {
     "end_time": "2025-04-16T16:22:23.721097Z",
     "start_time": "2025-04-16T16:22:23.706051Z"
    }
   },
   "outputs": [],
   "source": [
    "def plot_similarity_matrix_adapted(matrix, labels, ax=None, title=None):\n",
    "    \"\"\"\n",
    "    Displays a plot of the `matrix` with the given `labels`\n",
    "    Optionally draws it on a given `ax` (for subplotting)\n",
    "    \"\"\"\n",
    "\n",
    "    if ax is None:\n",
    "        fig, ax = plt.subplots()\n",
    "\n",
    "    im = ax.imshow(matrix)\n",
    "\n",
    "    ax.set_xticks(np.arange(len(labels)))\n",
    "    ax.set_yticks(np.arange(len(labels)))\n",
    "    ax.set_xticklabels(labels, rotation=45, ha=\"right\", rotation_mode=\"anchor\")\n",
    "    ax.set_yticklabels(labels)\n",
    "\n",
    "    for i in range(len(labels)):\n",
    "        for j in range(len(labels)):\n",
    "            ax.text(j, i, f'{matrix[i, j]:.2f}', ha=\"center\", va=\"center\", color=\"w\")\n",
    "\n",
    "    if title:\n",
    "        ax.set_title(title)\n"
   ]
  },
  {
   "cell_type": "code",
   "execution_count": 108,
   "metadata": {
    "ExecuteTime": {
     "end_time": "2025-04-16T16:41:34.680184Z",
     "start_time": "2025-04-16T16:41:33.413187Z"
    }
   },
   "outputs": [
    {
     "data": {
      "image/png": "[encoded data removed]",
      "text/plain": [
       "<Figure size 1500x1200 with 9 Axes>"
      ]
     },
     "metadata": {},
     "output_type": "display_data"
    }
   ],
   "source": [
    "def build_similarity_matrix(model, list_of_words):\n",
    "    size = len(list_of_words)\n",
    "    similarity_matrix = np.zeros((size, size), dtype=float)\n",
    "\n",
    "    for i in range(size):\n",
    "        for j in range(size):\n",
    "            similarity_matrix[i, j] = model.similarity(list_of_words[i], list_of_words[j])\n",
    "\n",
    "    return similarity_matrix\n",
    "\n",
    "\n",
    "list_of_words = ['money', 'capitalism', 'war', 'missiles', 'stocks', 'communism']\n",
    "list_of_words_2 = ['sunny', 'celebrity', 'health', 'body', 'life', 'bad']\n",
    "list_of_words_3 = ['neutron', 'atom', 'photosynthesis', 'acid', 'amino', 'chlorophyll']\n",
    "\n",
    "\n",
    "\n",
    "models = [light_model, glove_model,strong_model]\n",
    "model_names = ['twitter model (100)','glove model (wiki 100)','wiki-200 model']\n",
    "\n",
    "\n",
    "selected_words = list_of_words\n",
    "selected_words_2 = list_of_words_2\n",
    "selected_words_3 = list_of_words_3\n",
    "\n",
    "fig, axes = plt.subplots(3, len(models), figsize=(15, 12))\n",
    "\n",
    "for row, word_list in enumerate([selected_words, selected_words_2, selected_words_3]):\n",
    "    for col, model in enumerate(models):\n",
    "        sim_matrix = build_similarity_matrix(model, word_list)\n",
    "        plot_similarity_matrix_adapted(sim_matrix, word_list, ax=axes[row, col], title=model_names[col])\n",
    "\n",
    "plt.tight_layout()\n",
    "plt.show()\n",
    "### YOUR CODE ENDS HERE"
   ]
  },
  {
   "cell_type": "markdown",
   "metadata": {
    "collapsed": false,
    "pycharm": {
     "name": "#%% md\n"
    }
   },
   "source": [
    "// your comments"
   ]
  },
  {
   "cell_type": "markdown",
   "metadata": {
    "collapsed": false,
    "pycharm": {
     "name": "#%% md\n"
    }
   },
   "source": [
    "## 5. Sentence Embeddings by Averaging Word Embeddings\n",
    "\n",
    "Word embeddings are a powerful model for representing words and their meaning (in terms of distributional similarity). As we discussed in class, we can use them in a wide variety of tasks with more complex architectures. Word vectors offer a dense vector for each word. What if we wanted to represent a sentence (or a document) based on word vectors. How can we do that?\n",
    "\n",
    "In the course, we will see different architectures that take into account the sequence of words (by combining their vectors). A first naive but simple and sometimes (as we are going to see) quite effective approach would be to represent a sentence with an embedding vector that is the average of the word vectors that form the sentence.\n",
    "\n",
    "So formally, this is what we are aiming for:\n",
    "\n",
    "$\n",
    "\\text{Sentence_Embedding} = \\frac{1}{N} \\sum_{i=1}^{N} \\text{Word_Embedding}_i\n",
    "$\n",
    "\n",
    "where:\n",
    "* $N$ is the number of words in a sentence\n",
    "* $\\text{Word_Embedding}_i$ is the word vector for the $i$-th in the sentence.\n",
    "\n",
    "Things to note:\n",
    "* The embedding vector for the sentence will obviously have the same dimension as the word embedding.\n",
    "* This representation ignores the word order (like bag-of-words). During the course we will see how we can overcome this limitation by using sequence models."
   ]
  },
  {
   "cell_type": "markdown",
   "metadata": {
    "collapsed": false,
    "pycharm": {
     "name": "#%% md\n"
    }
   },
   "source": [
    "<a name='e12'></a>\n",
    "### Exercise 12: Sentence Embedding\n",
    "\n",
    "(10p) Complete the function below that takes as input the sentence in the form of tokens (so it's a list of words) and calculates the sentence embedding vector. First, we would need to retrieve the word embeddings for each word from our loaded model and then average the vectors.\n",
    "\n",
    "Note: There can be cases where all tokens from a sentence are out-of-vocabulary words (OOV). Think what to do in this case and make sure to discuss it in the report."
   ]
  },
  {
   "cell_type": "code",
   "execution_count": 112,
   "metadata": {
    "ExecuteTime": {
     "end_time": "2025-04-16T17:28:17.900593Z",
     "start_time": "2025-04-16T17:28:17.873955Z"
    },
    "collapsed": false,
    "pycharm": {
     "name": "#%%\n"
    }
   },
   "outputs": [],
   "source": [
    "def embed_sentence_word_model(tokens, model):\n",
    "    \"\"\"\n",
    "    Calculates the sentence embedding by averaging the embeddings of the tokens\n",
    "    Args:\n",
    "        tokens: a list of words from the sentence\n",
    "        model: a trained word embeddings model\n",
    "\n",
    "    Returns: a numpy array of the sentence embedding\n",
    "\n",
    "    \"\"\"\n",
    "    #### YOUR CODE HERE\n",
    "    #### CAUTION: be sure to cover the case where all tokens are out-of-vocabulary!!!\n",
    "\n",
    "    embeddings = []\n",
    "\n",
    "    for token in tokens:\n",
    "        if token in model:\n",
    "            embeddings.append(model[token])\n",
    "\n",
    "    sentence_embedding = np.mean(embeddings, axis=0).astype(np.float32)\n",
    "\n",
    "    return sentence_embedding\n",
    "\n",
    "    ### YOUR CODE ENDS HERE"
   ]
  },
  {
   "cell_type": "markdown",
   "metadata": {
    "collapsed": false,
    "pycharm": {
     "name": "#%% md\n"
    }
   },
   "source": [
    "Now we can apply the function to the whole dataset. Here we do it both for the sentence and the compressed version. You should know it by now, but this operation might take some time. The next cells will apply your function to the whole dataset."
   ]
  },
  {
   "cell_type": "code",
   "execution_count": 113,
   "metadata": {
    "ExecuteTime": {
     "end_time": "2025-04-16T17:28:19.013Z",
     "start_time": "2025-04-16T17:28:19.008171Z"
    },
    "collapsed": false,
    "pycharm": {
     "name": "#%%\n"
    }
   },
   "outputs": [],
   "source": [
    "def embed_sentence_word_model_dataset(example, model):\n",
    "    \"\"\"\n",
    "    Embeds the sentence and the compressed sentence in the example from the Dataset\n",
    "    Args:\n",
    "        example: an example from the Dataset\n",
    "        model: a trained word embeddings model\n",
    "\n",
    "    Returns: updated example with 'sentence_embedding' and 'compressed_embedding' columns\n",
    "\n",
    "    \"\"\"\n",
    "    sentence_tokens = example['sentence_tokens']\n",
    "    clean_compressed = example['clean_compressed']\n",
    "    compressed_tokens = tokenize(clean_compressed)\n",
    "\n",
    "    sentence_embedding = embed_sentence_word_model(sentence_tokens, model)\n",
    "    compressed_embedding = embed_sentence_word_model(compressed_tokens, model)\n",
    "\n",
    "    example['sentence_embedding'] = sentence_embedding\n",
    "    example['compressed_embedding'] = compressed_embedding\n",
    "    return example"
   ]
  },
  {
   "cell_type": "code",
   "execution_count": 115,
   "metadata": {
    "ExecuteTime": {
     "end_time": "2025-04-16T17:29:55.477892Z",
     "start_time": "2025-04-16T17:29:10.988367Z"
    },
    "collapsed": false,
    "pycharm": {
     "name": "#%%\n"
    }
   },
   "outputs": [
    {
     "name": "stderr",
     "output_type": "stream",
     "text": [
      "Map: 100%|██████████| 36000/36000 [00:42<00:00, 840.39 examples/s] "
     ]
    },
    {
     "name": "stdout",
     "output_type": "stream",
     "text": [
      "Dataset({\n",
      "    features: ['set', 'clean_sentence', 'clean_compressed', 'sentence_tokens', 'compressed_tokens', 'sentence_bow', 'compressed_bow', 'sentence_embedding', 'compressed_embedding'],\n",
      "    num_rows: 36000\n",
      "})\n"
     ]
    },
    {
     "name": "stderr",
     "output_type": "stream",
     "text": [
      "\n"
     ]
    }
   ],
   "source": [
    "test_ds = test_ds.map(embed_sentence_word_model_dataset, fn_kwargs={'model': glove_model})\n",
    "print(test_ds)"
   ]
  },
  {
   "cell_type": "code",
   "execution_count": 116,
   "metadata": {
    "ExecuteTime": {
     "end_time": "2025-04-16T17:29:55.621076Z",
     "start_time": "2025-04-16T17:29:55.570949Z"
    },
    "collapsed": false,
    "pycharm": {
     "name": "#%%\n"
    }
   },
   "outputs": [
    {
     "name": "stdout",
     "output_type": "stream",
     "text": [
      "{'sentence_bow': array([0., 0., 0., ..., 0., 0., 0.]), 'compressed_bow': array([0., 0., 0., ..., 0., 0., 0.]), 'sentence_embedding': array([ 2.63616323e-01,  6.44152164e-02, -1.04665756e-03, -1.73926666e-01,\n",
      "        3.14628661e-01,  2.90247440e-01, -2.19042331e-01,  8.18181187e-02,\n",
      "        4.04644012e-03, -6.52228892e-02,  1.35399133e-01,  2.16491781e-02,\n",
      "        5.27814478e-02,  1.64718881e-01, -2.32587203e-01, -3.06247920e-01,\n",
      "        9.47026685e-02,  2.41909906e-01, -2.82642454e-01,  9.97011140e-02,\n",
      "        3.26688975e-01,  2.71904439e-01,  2.40680218e-01, -9.09758881e-02,\n",
      "        4.80675511e-02,  4.01033312e-02,  2.95033336e-01, -6.35649979e-01,\n",
      "       -4.42456692e-01,  8.10833275e-02,  2.59136319e-01,  2.18711555e-01,\n",
      "       -4.18311097e-02, -2.27340773e-01,  2.81173229e-01,  3.01879138e-01,\n",
      "        1.15914993e-01, -1.16326183e-01,  3.02666961e-03, -1.93636656e-01,\n",
      "       -1.05018564e-01, -4.39916551e-01,  3.60127777e-01, -4.12097812e-01,\n",
      "        1.48881987e-01, -1.21988334e-01,  1.56009227e-01, -1.89439446e-01,\n",
      "        1.88611113e-02, -5.05093336e-01,  1.98507771e-01, -1.50483310e-01,\n",
      "       -2.11903125e-01,  1.06818545e+00, -2.39844490e-02, -1.46918464e+00,\n",
      "       -1.77291095e-01, -2.40332440e-01,  1.66417778e+00,  3.70031476e-01,\n",
      "       -3.08374524e-01,  3.65456671e-01,  6.44035637e-02,  8.01777765e-02,\n",
      "        4.73330706e-01,  1.17611140e-02,  7.86633253e-01,  1.53169557e-01,\n",
      "        2.37081900e-01, -1.90682352e-01, -1.75274432e-01, -1.32843435e-01,\n",
      "       -3.13141108e-01, -3.90584543e-02, -2.58988261e-01,  9.31830406e-02,\n",
      "        1.19574994e-01, -1.86623372e-02, -7.33847916e-01,  7.78706670e-02,\n",
      "        8.14933360e-01, -8.46879855e-02, -4.58778918e-01,  1.55974790e-01,\n",
      "       -1.05782104e+00, -5.50444424e-01, -1.94855019e-01, -1.08833656e-01,\n",
      "       -2.91255593e-01, -3.15944433e-01, -1.98481113e-01, -1.16537556e-01,\n",
      "       -9.09822285e-02, -3.31972122e-01, -2.85574198e-01,  2.07688636e-03,\n",
      "       -1.96862325e-01, -5.18357679e-02,  1.14445662e+00, -4.75077778e-02]), 'compressed_embedding': array([ 0.52005541, -0.27289861, -0.20994601, -0.09746881,  0.30500159,\n",
      "        0.1683774 ,  0.09190899,  0.074374  ,  0.130422  ,  0.0502316 ,\n",
      "       -0.02619898, -0.08542345, -0.00476801, -0.14256001, -0.210538  ,\n",
      "       -0.2672081 ,  0.37386841,  0.233126  , -0.1048864 ,  0.334894  ,\n",
      "        0.3353942 ,  0.18872002,  0.08694641, -0.25862318, -0.1243124 ,\n",
      "        0.009828  ,  0.25923282, -0.67464399, -0.51963621,  0.40224758,\n",
      "        0.20996201,  0.64650804, -0.077036  , -0.33398199,  0.1513118 ,\n",
      "        0.231832  ,  0.017256  , -0.10188916,  0.075106  , -0.26522398,\n",
      "       -0.03672741, -0.51780844,  0.35154739, -0.51796997,  0.1063868 ,\n",
      "       -0.22414961, -0.0309692 , -0.42448822,  0.06639561, -0.63140404,\n",
      "        0.21714202,  0.00732403, -0.10774161,  0.73635399, -0.09175   ,\n",
      "       -1.10367239, -0.38402   , -0.17371759,  1.86563993,  0.24004459,\n",
      "        0.03421979,  0.28977799,  0.0272784 , -0.01023999,  0.33792251,\n",
      "       -0.10067201,  0.86623204,  0.15402041,  0.49734896, -0.16707198,\n",
      "       -0.148178  , -0.19135758, -0.302818  ,  0.00667801, -0.45798403,\n",
      "        0.07263999,  0.10628401, -0.108458  , -0.97661602,  0.14982441,\n",
      "        0.86794204,  0.0320278 , -0.36547199,  0.12274359, -0.91618001,\n",
      "       -0.54741997, -0.00864401, -0.26217121, -0.46939382, -0.33924198,\n",
      "       -0.20938301, -0.179442  ,  0.02292   , -0.51457798, -0.26289803,\n",
      "        0.16060999, -0.0718746 ,  0.0089592 ,  1.18677402, -0.19667001])}\n",
      "{'sentence_bow': array([0., 0., 0., ..., 0., 0., 0.]), 'compressed_bow': array([0., 0., 0., ..., 0., 0., 0.]), 'sentence_embedding': array([ 7.56181926e-02,  5.00831842e-01,  2.33930454e-01,  5.05230911e-02,\n",
      "        7.22813606e-02, -4.92776692e-01, -1.76166117e-01,  8.56843591e-02,\n",
      "       -1.10511594e-01, -1.78696383e-02,  5.67842759e-02, -1.40185148e-01,\n",
      "        2.31805459e-01,  4.33758693e-03,  2.79726624e-01, -1.33517817e-01,\n",
      "       -1.73131272e-01, -5.24157733e-02, -9.04472694e-02,  2.41437107e-01,\n",
      "        4.30883616e-01, -9.03246328e-02,  3.46449822e-01,  5.29395044e-01,\n",
      "        8.26303586e-02, -1.44915178e-01,  3.49030942e-02, -3.70315462e-01,\n",
      "        6.15121834e-02, -4.66298200e-02,  1.01721905e-01,  1.90771997e-01,\n",
      "       -2.21989378e-01, -2.03662008e-01, -3.69090936e-04,  3.63605648e-01,\n",
      "        4.91380483e-01,  2.34023467e-01, -3.09821367e-01, -1.51048541e-01,\n",
      "       -3.27776164e-01, -4.09077823e-01,  1.63736358e-01,  2.01138347e-01,\n",
      "        3.25522870e-01, -2.24808559e-01,  1.57477990e-01, -4.20625657e-01,\n",
      "       -1.05832741e-01, -1.21938181e+00,  6.36335928e-03, -1.95544630e-01,\n",
      "        6.92781806e-02,  9.38696265e-01, -1.35798261e-01, -1.96839094e+00,\n",
      "       -3.18257451e-01, -3.73102635e-01,  1.85499084e+00,  2.88270205e-01,\n",
      "       -1.64628163e-01,  3.17750007e-01, -5.98895013e-01,  3.86473797e-02,\n",
      "        2.20594555e-01,  2.09820926e-01,  4.99452800e-02, -2.87127286e-01,\n",
      "        6.29532695e-01, -7.60881752e-02,  3.79135571e-02, -8.17814618e-02,\n",
      "       -1.43470272e-01,  4.75682728e-02,  1.14479987e-02, -4.54725288e-02,\n",
      "       -2.88241267e-01,  1.33712113e-01, -9.25000012e-01, -9.69981849e-02,\n",
      "        6.92978203e-01,  1.22550987e-01, -4.58384424e-01,  6.47418201e-02,\n",
      "       -9.80374575e-01, -5.08151054e-01,  8.68491828e-02, -1.16097085e-01,\n",
      "        1.70811832e-01, -2.90324360e-01, -2.37431806e-02,  7.01681897e-02,\n",
      "       -1.89301550e-01, -2.62723640e-02, -6.88464582e-01,  1.15497731e-01,\n",
      "       -1.58162713e-02, -9.33065414e-02,  6.07010007e-01, -2.09111825e-01]), 'compressed_embedding': array([ 1.33085415e-01,  6.70415759e-01,  4.01467830e-01,  3.15955691e-02,\n",
      "        2.08753571e-01, -6.38414264e-01, -3.36198568e-01,  1.62817270e-01,\n",
      "        9.15828422e-02, -5.26208542e-02,  8.50555748e-02, -1.77829713e-01,\n",
      "        8.18499997e-02,  1.41632572e-01,  2.77797103e-01, -9.98831466e-02,\n",
      "       -1.39259562e-01,  3.12112235e-02, -1.70642853e-01,  3.80935401e-01,\n",
      "        2.60194570e-01, -3.28901410e-02,  4.32915688e-01,  4.78685707e-01,\n",
      "        4.77378555e-02, -4.49141450e-02,  7.65305683e-02, -4.49794322e-01,\n",
      "        1.36895701e-01, -1.30531430e-01, -1.42534137e-01,  3.52698833e-01,\n",
      "       -2.53390729e-01, -2.59149998e-01, -6.11285828e-02,  3.67788136e-01,\n",
      "        7.16868579e-01,  1.89553291e-01, -3.42699856e-01,  1.51167130e-02,\n",
      "       -4.55442339e-01, -3.74417990e-01,  8.64428654e-02,  1.25405237e-01,\n",
      "        3.53687137e-01, -3.60855311e-01, -3.27602848e-02, -3.53799134e-01,\n",
      "       -2.74325699e-01, -1.11655152e+00, -9.01581496e-02, -2.05473706e-01,\n",
      "       -1.25515431e-01,  7.80841410e-01, -1.79379001e-01, -1.88069999e+00,\n",
      "       -3.67985725e-01, -3.02052826e-01,  1.72440720e+00,  1.36341721e-01,\n",
      "       -1.48429186e-03,  7.66921267e-02, -6.14932895e-01,  1.00442814e-02,\n",
      "        1.87634721e-01,  2.28432864e-01, -3.70145701e-02, -2.45642871e-01,\n",
      "        6.33174539e-01,  7.34380111e-02,  4.53400090e-02, -4.69657220e-02,\n",
      "       -1.71826571e-01,  6.64614290e-02,  1.49431854e-01, -4.14367020e-02,\n",
      "       -1.86076269e-01,  3.19557153e-02, -8.20959985e-01, -1.90156013e-01,\n",
      "        6.70094311e-01,  1.12791575e-01, -4.47081417e-01,  2.36695156e-01,\n",
      "       -7.68189967e-01, -6.20612979e-01,  1.04070149e-01, -1.52834281e-01,\n",
      "        3.31359863e-01, -1.23814002e-01,  5.16720042e-02,  1.06024280e-01,\n",
      "       -1.63277149e-01, -2.42067128e-01, -7.60128558e-01,  9.89378691e-02,\n",
      "       -7.23595694e-02, -5.70302829e-02,  7.10609972e-01, -1.84335709e-01])}\n",
      "{'sentence_bow': array([0., 0., 0., ..., 0., 0., 0.]), 'compressed_bow': array([1., 1., 0., ..., 0., 0., 0.]), 'sentence_embedding': array([ 1.07205011e-01,  1.61877006e-01,  1.84600398e-01, -2.19827011e-01,\n",
      "        5.56659922e-02,  1.79000676e-01, -9.64600965e-02,  7.15204030e-02,\n",
      "        1.98699674e-03,  6.46358952e-02, -5.55063002e-02, -6.15705028e-02,\n",
      "        2.61608690e-01, -8.21747631e-02, -2.76831035e-02, -2.73114026e-01,\n",
      "        2.84271598e-01, -2.25507811e-01, -5.83402991e-01,  4.24613088e-01,\n",
      "        5.65636046e-02, -2.34211143e-02,  2.48850733e-01, -1.73435211e-02,\n",
      "        3.07699945e-02, -1.03998985e-02, -2.49396086e-01, -4.62113231e-01,\n",
      "        2.78763711e-01,  1.76263720e-01, -4.61033992e-02,  6.34742975e-01,\n",
      "       -1.54068973e-02,  6.47275969e-02,  7.40741044e-02, -1.39197018e-02,\n",
      "        7.17860013e-02,  2.45782688e-01, -2.51967013e-01, -5.24256006e-02,\n",
      "       -6.32324100e-01, -1.43649038e-02,  4.36816067e-01, -3.22199821e-01,\n",
      "        4.48324978e-02,  4.44400404e-03, -5.11030070e-02, -2.95976341e-01,\n",
      "        2.36387610e-01, -5.32582045e-01, -1.66473493e-01, -4.06140000e-01,\n",
      "        2.17263699e-01,  9.68105018e-01, -8.80593956e-02, -2.01425982e+00,\n",
      "       -4.58256632e-01, -2.04108119e-01,  1.23145580e+00,  4.17356014e-01,\n",
      "        1.54543296e-01,  4.23793018e-01, -1.76019669e-01, -1.21974804e-01,\n",
      "        5.53632021e-01,  4.15438972e-02,  2.49928683e-01,  5.45873582e-01,\n",
      "        1.87948704e-01,  1.11452993e-02,  2.93848008e-01, -2.88875490e-01,\n",
      "       -5.32235563e-01, -3.71760577e-01, -5.50086126e-02,  2.52440214e-01,\n",
      "       -1.12467885e-01,  1.51301205e-01, -7.48457372e-01, -1.90261990e-01,\n",
      "        6.04227066e-01,  1.02970086e-01, -1.50972098e-01, -6.03991151e-02,\n",
      "       -1.16001999e+00, -4.54942226e-01, -5.66163957e-02,  1.64363518e-01,\n",
      "       -3.64089310e-01, -5.01878977e-01,  1.39197096e-01, -2.77670294e-01,\n",
      "        6.32639080e-02, -5.82720041e-02, -7.42123961e-01,  1.88586205e-01,\n",
      "       -3.04422498e-01, -1.06875397e-01,  2.62866408e-01, -8.58762041e-02]), 'compressed_embedding': array([-0.23026949,  0.26070374,  0.70089501, -0.6120075 , -0.18705176,\n",
      "        0.1506055 ,  0.14816749, -0.41961998,  0.0756825 , -0.09712999,\n",
      "       -0.2393375 , -0.15944812,  0.1235655 , -0.05560343, -0.02031   ,\n",
      "        0.0401909 ,  0.05039275,  0.00414249, -0.4088825 ,  0.76264   ,\n",
      "        0.249455  ,  0.2319575 ,  0.06090502, -0.38446701,  0.41900998,\n",
      "        0.32046801, -0.34103251, -0.766945  ,  0.0913175 , -0.34576148,\n",
      "        0.01587223,  0.59360647,  0.22521825,  0.02864001, -0.0775205 ,\n",
      "        0.269265  ,  0.0867075 ,  0.12841275,  0.1668175 , -0.44692701,\n",
      "       -0.314695  ,  0.21713623,  0.30001751, -0.16311625, -0.43111849,\n",
      "       -0.38131499,  0.15311   , -0.63537252, -0.26896   , -0.32073751,\n",
      "       -0.13195901, -0.16325501,  0.33542001,  0.8240425 , -0.4194755 ,\n",
      "       -1.56693506,  0.12396248,  0.32872498,  0.95248246,  0.4028275 ,\n",
      "        0.007736  ,  0.60389996, -0.19385125, -0.17684001,  0.68189502,\n",
      "       -0.1967525 ,  0.97466743,  0.46210551,  0.324395  ,  0.34897101,\n",
      "        0.40595752, -0.34621274, -0.14934251, -0.30438   ,  0.1172375 ,\n",
      "       -0.05794625,  0.05995078, -0.06620274, -0.4892475 , -0.33218402,\n",
      "        0.46348602, -0.156808  , -0.21099749,  0.1026025 , -0.78634501,\n",
      "       -0.44807425, -0.17511201, -0.094755  , -0.1315435 , -0.84589249,\n",
      "        0.26796702, -0.45856249,  0.15069425,  0.40724474, -0.1957175 ,\n",
      "        0.31782001,  0.0393075 , -0.3189525 , -0.2389715 ,  0.54526001])}\n",
      "{'sentence_bow': array([0., 0., 0., ..., 0., 0., 0.]), 'compressed_bow': array([0., 0., 0., ..., 0., 0., 0.]), 'sentence_embedding': array([ 2.43942559e-01,  8.28772336e-02,  2.48933867e-01, -1.68595344e-01,\n",
      "       -1.47312880e-01, -8.76233354e-02,  3.37395996e-01,  1.60760343e-01,\n",
      "       -4.06900086e-02, -1.61154512e-02, -1.43548548e-01,  4.73396629e-02,\n",
      "        7.10541010e-01, -1.59581050e-01,  2.16496781e-01, -5.43813920e-03,\n",
      "        1.63892999e-01, -1.00010887e-01, -5.16157806e-01,  5.28448820e-02,\n",
      "        2.65271038e-01, -3.79139185e-02,  1.59570903e-01,  2.72048861e-01,\n",
      "       -4.38069403e-01, -1.86648235e-01,  4.70740944e-01, -2.73884654e-01,\n",
      "       -1.15962349e-01,  2.31577873e-01,  1.99762657e-01,  3.33318084e-01,\n",
      "       -1.43506661e-01,  3.55856478e-01,  3.52292180e-01,  9.31036286e-03,\n",
      "        1.41565567e-02,  1.98302448e-01, -2.37715900e-01,  1.42912671e-01,\n",
      "       -6.47404909e-01, -1.35287583e-01,  1.61222681e-01, -4.09258872e-01,\n",
      "        5.07255852e-01, -2.91165616e-02,  2.15676688e-02, -5.61723113e-01,\n",
      "       -6.19708896e-02, -5.29097199e-01,  3.77893567e-01, -3.31227779e-01,\n",
      "        4.24131118e-02,  6.98042154e-01, -2.25811660e-01, -1.71488881e+00,\n",
      "       -4.28025573e-01, -8.91188905e-02,  1.25543106e+00,  5.25853336e-01,\n",
      "       -1.18313879e-01,  6.29750013e-01, -1.46044999e-01, -2.45227776e-02,\n",
      "        4.51034427e-01,  4.15132225e-01,  2.46284474e-02,  3.41623992e-01,\n",
      "        2.39529103e-01,  1.60141990e-01, -1.25972450e-01, -9.59334522e-02,\n",
      "       -1.22988090e-01, -1.29745454e-01,  2.68268347e-01,  1.56776771e-01,\n",
      "        1.19622219e-02, -1.17454447e-01, -1.15840769e+00, -1.65551126e-01,\n",
      "        6.33154690e-01, -1.38907224e-01, -4.81111795e-01, -1.24627322e-01,\n",
      "       -1.16660774e+00, -1.77350774e-01,  4.00494456e-01,  9.60169137e-02,\n",
      "       -4.56243366e-01,  1.46166980e-03,  4.58048917e-02, -1.07123017e-01,\n",
      "       -6.19039945e-02, -7.06533249e-03, -4.94948864e-01,  6.13624454e-01,\n",
      "       -3.86409998e-01, -3.27330768e-01,  1.53753445e-01, -2.37219989e-01]), 'compressed_embedding': array([ 0.08514199,  0.48819083,  0.53135598, -0.1173202 , -0.39052197,\n",
      "        0.016346  ,  0.19797799,  0.13887259, -0.262916  , -0.08802002,\n",
      "       -0.27018499, -0.126918  ,  0.41153178,  0.05770801,  0.38488799,\n",
      "        0.342186  ,  0.0920994 ,  0.0466124 , -0.155838  ,  0.32173401,\n",
      "        0.10822801,  0.01634235,  0.00832799,  0.2571044 , -0.17152718,\n",
      "        0.22256541,  0.49353281, -0.38479599, -0.24218941,  0.25229797,\n",
      "       -0.19821319,  0.366936  , -0.146424  ,  0.24578997,  0.44344369,\n",
      "       -0.16699001,  0.01083919,  0.014076  , -0.346708  , -0.05059999,\n",
      "       -0.72403401,  0.049882  , -0.08883979, -0.65031797,  0.48964757,\n",
      "        0.14958401,  0.01378119, -0.41545758, -0.30608758, -0.45722002,\n",
      "        0.415198  , -0.08088478, -0.0595564 ,  0.62197381, -0.2964856 ,\n",
      "       -1.7694    , -0.46421799,  0.007866  ,  1.06331003,  0.16875401,\n",
      "       -0.19675599,  0.65688801, -0.0437202 , -0.11914001,  0.58044606,\n",
      "        0.614236  ,  0.10354002,  0.0229472 ,  0.30912402,  0.18016079,\n",
      "       -0.14782819,  0.098588  , -0.1523252 , -0.06604379,  0.4430728 ,\n",
      "        0.19159119,  0.043934  , -0.21228799, -0.96385401, -0.55443203,\n",
      "        0.53643835, -0.253618  , -0.57858521, -0.14008141, -1.22356594,\n",
      "        0.06811859,  0.35189602, -0.01385055, -0.4752326 ,  0.08359881,\n",
      "       -0.1865418 ,  0.06167258,  0.31005818,  0.1319886 , -0.19403999,\n",
      "        0.65997499, -0.158508  , -0.5167442 ,  0.0238498 , -0.1416184 ])}\n",
      "{'sentence_bow': array([0., 0., 0., ..., 0., 0., 0.]), 'compressed_bow': array([0., 0., 0., ..., 0., 0., 0.]), 'sentence_embedding': array([-0.17210609, -0.27868539,  0.26396683, -0.46930268,  0.20178603,\n",
      "       -0.17361917, -0.03365518,  0.09658018, -0.12834892,  0.0822459 ,\n",
      "        0.17797817, -0.08287463,  0.34193298,  0.02117809, -0.24054109,\n",
      "       -0.28655455,  0.4920474 , -0.26295272, -0.63622183,  0.11838754,\n",
      "        0.08855163, -0.30722344,  0.00801673,  0.29296362, -0.22651416,\n",
      "       -0.40627006,  0.12010904, -0.32952544, -0.02656155,  0.25177273,\n",
      "        0.05232209,  0.38448828, -0.39665538, -0.13006271, -0.34154898,\n",
      "        0.35395548, -0.12047637,  0.25715637,  0.04286354, -0.13832365,\n",
      "       -0.55128914, -0.15458071, -0.02468817, -0.06132736,  0.06657536,\n",
      "        0.05172328, -0.07486532, -0.4690178 , -0.19337992, -0.57586902,\n",
      "        0.2479382 , -0.27475139,  0.02713727,  0.8093546 , -0.03719709,\n",
      "       -2.14417267, -0.29536271, -0.08900472,  1.62439382,  0.43088916,\n",
      "       -0.09600005,  0.2465813 , -0.24975619, -0.09660713,  0.65463215,\n",
      "       -0.26136819,  0.21850428,  0.68155646,  0.51817727,  0.3578991 ,\n",
      "        0.06631572, -0.11350965, -0.41957542, -0.50181681,  0.05736845,\n",
      "       -0.14740343, -0.07739236,  0.19470009, -1.05746174, -0.1201648 ,\n",
      "        0.90640181, -0.10145681, -0.08270509, -0.14189717, -1.06415093,\n",
      "       -0.50000304,  0.01589528, -0.04446728,  0.15468548, -0.47380418,\n",
      "        0.42234728, -0.12972838,  0.10704391, -0.01988646, -0.14101954,\n",
      "        0.42095453,  0.09556147, -0.23364638,  0.3585445 ,  0.18704353]), 'compressed_embedding': array([-0.12746002,  0.52354002,  0.47432998, -0.53518999, -0.26951998,\n",
      "        0.17611   , -0.27667999,  0.33764499, -0.18013999, -0.06854001,\n",
      "        0.371975  , -0.385115  ,  0.1177645 ,  0.189785  , -0.10557   ,\n",
      "       -0.36103499,  0.49842   ,  0.11536501, -0.69438505,  1.04100001,\n",
      "        0.13167401, -0.19047411, -0.21834499,  0.01039001,  0.09569   ,\n",
      "       -0.18145999, -0.26549798, -0.610165  ,  0.04389   , -0.44984001,\n",
      "       -0.60017002,  0.54462498, -0.39963502, -0.44549   , -0.27120501,\n",
      "        0.45403501,  0.01523   , -0.036725  ,  0.19121501, -0.159446  ,\n",
      "       -0.05517   , -0.137706  , -0.28707498, -0.51937997, -0.101522  ,\n",
      "       -0.16921701, -0.31599501, -0.23344001, -0.240485  , -0.54821998,\n",
      "       -0.13517   ,  0.076465  , -0.49136502,  1.02087998, -0.38156101,\n",
      "       -1.71815002,  0.0426105 ,  0.01566   ,  1.19280005, -0.03092501,\n",
      "       -0.510575  ,  0.2798    , -0.06367499, -0.29999402,  0.91339499,\n",
      "       -0.249245  ,  0.427935  ,  0.58542502,  0.19763499,  0.31777   ,\n",
      "        0.02941   , -0.13239999, -0.71920502, -0.384395  ,  0.3057    ,\n",
      "       -0.2499    ,  0.30265102,  0.25343502, -0.63247895, -0.66813999,\n",
      "        0.75699002, -0.45209002, -0.24935   , -0.53359503, -0.81924999,\n",
      "       -0.1351825 ,  0.03767   , -0.06202999, -0.1637565 , -0.22536799,\n",
      "        0.1194055 ,  0.16152149,  0.43171999, -0.50748003, -0.15806499,\n",
      "       -0.1596075 , -0.13328502, -0.13552999,  0.41207999, -0.171086  ])}\n",
      "{'sentence_bow': array([0., 0., 0., ..., 0., 0., 0.]), 'compressed_bow': array([0., 0., 0., ..., 0., 0., 0.]), 'sentence_embedding': array([-0.07252831,  0.446228  ,  0.20693493,  0.26849544, -0.01241581,\n",
      "       -0.26676351, -0.10529955,  0.185866  , -0.11509936, -0.044646  ,\n",
      "        0.03221349, -0.33181345,  0.07305317, -0.13108373,  0.30026877,\n",
      "       -0.36741814,  0.00986044, -0.03072125, -0.44447938,  0.30350703,\n",
      "        0.05227287,  0.16079706,  0.21614525,  0.33929542, -0.27906165,\n",
      "       -0.26791617,  0.31993765, -0.20859733, -0.14474069, -0.02233788,\n",
      "        0.04673844,  0.40896264, -0.08953914, -0.12823874, -0.09343451,\n",
      "        0.26433045,  0.1930133 ,  0.19316857, -0.4601067 ,  0.21534543,\n",
      "       -0.18970048, -0.4044221 , -0.01347731, -0.01156306,  0.02720675,\n",
      "       -0.21356322,  0.02924632, -0.26750782, -0.27955988, -0.64379412,\n",
      "       -0.04118376, -0.17425168, -0.15660244,  0.78659725, -0.0726883 ,\n",
      "       -1.52056682,  0.15804894, -0.45236686,  1.36329329,  0.39249232,\n",
      "       -0.054399  ,  0.23222004, -0.33570927, -0.36066884,  0.43345255,\n",
      "        0.30634919, -0.06434201,  0.00290681,  0.68044108, -0.05752832,\n",
      "        0.01259932, -0.0768181 , -0.09836476,  0.11573876,  0.09345963,\n",
      "        0.17434239, -0.22872944, -0.12584256, -0.57764995, -0.22303882,\n",
      "        0.46044061,  0.2161915 , -0.16788606, -0.06131431, -1.06649542,\n",
      "       -0.16203438, -0.09759595, -0.17103925, -0.12499952, -0.04392456,\n",
      "        0.07986621, -0.04387651,  0.06562507, -0.333354  , -0.64728391,\n",
      "        0.34562948, -0.07873125, -0.21143274,  0.55341005, -0.14764686]), 'compressed_embedding': array([-7.94735029e-02,  5.85273743e-01,  2.06749499e-01,  3.19246858e-01,\n",
      "       -1.35903722e-02, -2.37015203e-01, -4.38200012e-02,  3.84952754e-01,\n",
      "       -1.26174986e-02, -1.33689493e-01,  3.04152369e-01, -2.59187251e-01,\n",
      "       -5.53601161e-02,  1.35398135e-01,  4.98631239e-01, -5.71672559e-01,\n",
      "        1.66032374e-01, -5.63131198e-02, -5.86546302e-01,  4.45767522e-01,\n",
      "        2.19157517e-01,  1.40092507e-01,  3.51641744e-01,  4.48438764e-01,\n",
      "       -1.59220994e-01, -2.63867736e-01,  4.48433757e-01, -1.83282122e-01,\n",
      "       -1.19907558e-02, -5.99218756e-02, -5.30228689e-02,  4.93280381e-01,\n",
      "        5.99433742e-02, -4.95287478e-01, -1.48215011e-01,  3.92799616e-01,\n",
      "        3.42917502e-01,  3.33992511e-01, -3.59352589e-01,  3.24252218e-01,\n",
      "       -2.38108516e-01, -6.68063521e-01,  1.76541265e-02, -1.84372723e-01,\n",
      "        1.26313746e-01, -4.84349698e-01, -9.87887457e-02, -2.22480014e-01,\n",
      "       -3.82700622e-01, -6.25693738e-01, -3.14700007e-01, -2.11749971e-01,\n",
      "       -2.38068998e-01,  9.58708763e-01, -3.18039268e-01, -2.01982498e+00,\n",
      "       -3.39806229e-02, -6.26876175e-01,  1.68133748e+00,  5.32416999e-01,\n",
      "       -9.57664996e-02,  1.82919979e-01, -4.73703742e-01, -1.85807988e-01,\n",
      "        3.84383768e-01,  5.90169966e-01, -1.92901507e-01,  9.12420005e-02,\n",
      "        8.72895718e-01, -6.32474292e-03, -6.81680068e-02, -1.32865429e-01,\n",
      "       -1.78666756e-01,  1.04931615e-01,  1.38926625e-01,  3.28868814e-02,\n",
      "       -1.88974619e-01, -1.26190819e-02, -7.03159988e-01, -2.36302495e-01,\n",
      "        5.34377515e-01,  1.72364995e-01, -3.71212751e-01,  1.65240437e-01,\n",
      "       -9.46019590e-01, -1.09592505e-01,  1.42496079e-04, -3.35337520e-02,\n",
      "        8.81506130e-04, -3.37875076e-02,  3.65374982e-03, -2.38663722e-02,\n",
      "       -1.31088242e-01, -1.87033117e-01, -9.37726200e-01,  3.68930250e-01,\n",
      "       -1.20457485e-01, -2.09831253e-01,  6.78554952e-01, -3.98564249e-01])}\n",
      "{'sentence_bow': array([0., 0., 0., ..., 0., 0., 0.]), 'compressed_bow': array([0., 0., 0., ..., 0., 0., 0.]), 'sentence_embedding': array([ 0.34365097,  0.49007118,  0.38733846, -0.19641195, -0.1859152 ,\n",
      "       -0.23236617, -0.11965038,  0.19519001,  0.04718499,  0.0643637 ,\n",
      "        0.22839758,  0.27534553, -0.06605824, -0.0356389 ,  0.25448546,\n",
      "       -0.55024666,  0.01171282, -0.13339709, -0.18139608,  0.3691788 ,\n",
      "        0.64916819,  0.21198359,  0.32420358,  0.42927068,  0.02554942,\n",
      "       -0.66693747,  0.04204206, -0.35045913, -0.0140491 , -0.29499987,\n",
      "        0.35474008,  0.04314378, -0.08974753, -0.0620263 , -0.13546053,\n",
      "        0.28495809,  0.28196457,  0.19328181, -0.18650493,  0.09315506,\n",
      "       -0.37940857, -0.46577585,  0.16071653, -0.12467903,  0.08749589,\n",
      "        0.00451364,  0.14807531, -0.2900624 , -0.02961382, -1.01695359,\n",
      "       -0.2482748 , -0.32864085,  0.01029441,  1.10146809, -0.15176252,\n",
      "       -1.8693924 , -0.09347059, -0.27743495,  1.55636311,  0.67715472,\n",
      "        0.09981499,  0.16213261, -0.41854694, -0.03548006,  0.17113809,\n",
      "        0.27049688,  0.24162497,  0.26872945,  0.67876261, -0.05253112,\n",
      "       -0.18396647,  0.01803329, -0.49049309,  0.03538347, -0.01539753,\n",
      "        0.13896701, -0.24250953,  0.25093344, -0.96332359, -0.05494259,\n",
      "        0.65740603,  0.15569286, -0.38622355,  0.09636995, -1.06541991,\n",
      "       -0.49544311,  0.12611599,  0.02314694, -0.18560471, -0.07987183,\n",
      "        0.0430047 , -0.05457924, -0.17509718, -0.01329481, -0.9508577 ,\n",
      "        0.13107549, -0.091886  , -0.04348019,  0.50619352, -0.27595499]), 'compressed_embedding': array([ 0.41843301,  0.94090492,  0.56796503,  0.0911725 , -0.14300574,\n",
      "       -0.68971753, -0.4020375 ,  0.03907   ,  0.19645375,  0.19277249,\n",
      "        0.14041749,  0.34413999, -0.59011447,  0.0121425 ,  0.99755007,\n",
      "       -0.3585625 , -0.49064973, -0.15275475, -0.06856975,  0.27577251,\n",
      "        0.61688501,  0.27702749, -0.016753  ,  0.94609749,  0.02702325,\n",
      "       -1.00586295,  0.18026724, -0.26418251, -0.35829502, -0.7912575 ,\n",
      "        0.31285501, -0.01210922,  0.27561399, -0.21111125, -0.17178027,\n",
      "        0.53775501,  0.72750497, -0.27723503, -0.07465913,  0.20198599,\n",
      "       -0.22817501, -0.19578975, -0.25949627,  0.24769306,  0.22263977,\n",
      "       -0.01142399,  0.09954824, -0.39589751, -0.06012675, -1.26822996,\n",
      "       -0.13123649, -0.60966253,  0.127066  ,  0.99930501, -0.29437798,\n",
      "       -1.22621691,  0.08291251, -0.43079752,  1.21176243,  0.32075751,\n",
      "        0.419     , -0.52366424, -0.50325501, -0.26148   , -0.33366001,\n",
      "        0.9012    ,  0.16990501, -0.592825  ,  1.18311501, -0.10900875,\n",
      "       -0.13563   ,  0.121286  , -0.62561524,  0.52758253,  0.39326251,\n",
      "        0.0414615 , -0.26455301,  0.34464476, -0.31993249, -0.47920749,\n",
      "        0.448008  ,  0.52351749, -0.36761749,  0.02819   , -0.36856499,\n",
      "       -1.1488775 ,  0.39125443, -0.13844225,  0.39370999,  0.1584025 ,\n",
      "        0.211715  ,  0.158013  , -0.33036271, -0.1619125 , -0.78498501,\n",
      "        0.13606249,  0.07185251, -0.1397    ,  0.64974499, -0.71999753])}\n",
      "{'sentence_bow': array([0., 0., 0., ..., 0., 0., 0.]), 'compressed_bow': array([0., 0., 0., ..., 0., 0., 0.]), 'sentence_embedding': array([ 0.04395064,  0.11460961,  0.29703301, -0.00391774,  0.10466735,\n",
      "       -0.47409114,  0.00445656,  0.15392986,  0.13016631,  0.13428828,\n",
      "        0.05037967,  0.0356657 ,  0.1012964 , -0.25981539, -0.11184964,\n",
      "       -0.16405781,  0.13212515, -0.06083668, -0.09581105,  0.16882877,\n",
      "        0.47092351,  0.00437852,  0.04678975,  0.42460132, -0.03425213,\n",
      "       -0.29249835,  0.01989496, -0.19505602, -0.04100195, -0.11068908,\n",
      "       -0.0119127 ,  0.34022334, -0.1354406 , -0.1252936 , -0.02746165,\n",
      "        0.37222439,  0.30847454,  0.03063126, -0.10782244,  0.0711436 ,\n",
      "       -0.02311387, -0.37039205,  0.10266364,  0.07490474,  0.01118257,\n",
      "       -0.03047322,  0.21479353, -0.3233833 , -0.06239566, -0.86474222,\n",
      "       -0.1274852 , -0.12201392, -0.16393425,  0.65794027, -0.13360517,\n",
      "       -1.82263219, -0.44765523, -0.24836656,  1.61167729,  0.28614122,\n",
      "       -0.06463653,  0.19605848, -0.15248571,  0.27252588,  0.36386511,\n",
      "        0.07199818,  0.10872232,  0.10404243,  0.36374909, -0.12193675,\n",
      "        0.14761396, -0.12216934, -0.38527244, -0.19219437,  0.05669725,\n",
      "        0.08307078, -0.04384527,  0.00595391, -0.94829959, -0.13384451,\n",
      "        0.67662174,  0.09474657, -0.31735596,  0.20082246, -0.84348553,\n",
      "       -0.32419464,  0.00604415, -0.09274913, -0.06070174, -0.21035893,\n",
      "        0.15741716,  0.1371856 , -0.13813861, -0.2476785 , -0.60757864,\n",
      "        0.12661684,  0.07097387, -0.1099968 ,  0.83777213, -0.00846053]), 'compressed_embedding': array([ 0.146291  , -0.22679999, -0.22505499,  0.49728501,  0.30098999,\n",
      "       -0.62888503, -0.067265  ,  0.3851555 ,  0.61368001,  0.57175499,\n",
      "       -0.47454199, -0.10768   ,  0.22013751, -0.50126004, -0.212926  ,\n",
      "       -0.14680001,  0.42232999,  0.38652998, -0.12138002,  0.28089499,\n",
      "        0.32182902,  0.36485499, -0.1122295 ,  0.22005901, -0.0518895 ,\n",
      "       -0.1822335 ,  0.1081855 , -0.43889499,  0.034262  ,  0.17825873,\n",
      "       -0.12114501,  0.787705  ,  0.1113445 , -0.09515499, -0.156754  ,\n",
      "        0.76696002,  0.30279398, -0.69442499,  0.00799501,  0.086325  ,\n",
      "        0.73408496, -0.52921003, -0.16760001,  0.0753055 , -0.41532248,\n",
      "        0.47999001,  0.22455201,  0.10302451,  0.32227999, -0.66109502,\n",
      "       -0.428895  ,  0.126615  , -0.449525  ,  0.35590002,  0.236285  ,\n",
      "       -0.8133235 , -0.38494   , -0.41284499,  1.39824998,  0.08995225,\n",
      "        0.09374999,  0.04483205,  0.25892001,  0.40417498,  0.34634998,\n",
      "       -0.05582   ,  0.1112    ,  0.30363056,  0.38006002,  0.181256  ,\n",
      "        0.62581497, -0.254857  , -0.233005  , -1.04907   ,  0.036768  ,\n",
      "       -0.24830499,  0.18794999, -0.209638  , -0.64508998,  0.1203285 ,\n",
      "        0.35516   ,  0.1212105 , -0.03824   ,  0.216675  , -0.25577   ,\n",
      "        0.02846   ,  0.18021001, -0.152815  , -0.47218001,  0.097815  ,\n",
      "        0.28122652,  0.1398415 ,  0.34114   , -0.82399005, -0.24255499,\n",
      "        0.071115  ,  0.21988499,  0.244372  ,  1.07969999,  0.30413851])}\n",
      "{'sentence_bow': array([0., 0., 0., ..., 0., 0., 0.]), 'compressed_bow': array([0., 0., 0., ..., 0., 0., 0.]), 'sentence_embedding': array([-0.22430563, -0.02510554,  0.39518252, -0.16638204, -0.25748172,\n",
      "        0.22413388,  0.10951427,  0.46318665, -0.58998543, -0.18804426,\n",
      "        0.01621655, -0.24716455,  0.21020383,  0.06898721, -0.06093918,\n",
      "       -0.12876129,  0.18884225,  0.16462217, -0.47697419,  0.03570727,\n",
      "        0.13990301, -0.15052091,  0.20618701,  0.20379944,  0.03783527,\n",
      "       -0.22420126,  0.06449468, -0.128262  ,  0.28104454,  0.03731   ,\n",
      "       -0.25913084,  0.22224088,  0.03354273, -0.00351963,  0.10548976,\n",
      "       -0.07858363, -0.13544056,  0.26765767, -0.33574909, -0.11087155,\n",
      "       -0.33827826, -0.27631974,  0.25494337, -0.47525832,  0.13502727,\n",
      "       -0.15223466,  0.29793027, -0.31031546, -0.11619199, -0.81219083,\n",
      "       -0.04035246, -0.19925617,  0.06664224,  0.9135921 ,  0.0648438 ,\n",
      "       -2.29150915, -0.09342919, -0.24960309,  1.33320916,  0.66977906,\n",
      "       -0.61085087,  0.41010427, -0.20678264,  0.11547918,  0.52704793,\n",
      "       -0.03201382,  0.07761273,  0.53561479, -0.00257382,  0.05066728,\n",
      "       -0.12325037, -0.21142457, -0.1913816 , -0.47078669,  0.23376827,\n",
      "        0.06562364, -0.13055056,  0.05067345, -0.76844633,  0.13306054,\n",
      "        0.62169093,  0.0762991 , -0.4638162 , -0.068525  , -1.12952435,\n",
      "       -0.26233739, -0.18789244,  0.17066564,  0.0719931 , -0.12213695,\n",
      "       -0.23830418, -0.12178636, -0.30686653,  0.45652637, -0.38965836,\n",
      "        0.15503384, -0.13985246,  0.11318001,  0.62719631, -0.01853365]), 'compressed_embedding': array([-2.16615796e-01, -2.31323410e-02,  2.97548652e-01, -1.40148059e-01,\n",
      "       -1.41029894e-01,  1.63199216e-01,  3.37418839e-02,  3.70641440e-01,\n",
      "       -5.17388880e-01, -1.41099989e-01, -4.90931086e-02, -2.59229988e-01,\n",
      "        3.35229069e-01,  1.09675467e-01, -1.22907214e-01, -1.40708238e-01,\n",
      "        2.13398993e-01,  1.08998217e-01, -5.28278887e-01,  6.81999326e-03,\n",
      "        1.05842777e-01, -1.21387787e-01,  2.64848590e-01,  1.90220430e-01,\n",
      "       -1.50024667e-01, -3.14398199e-01, -3.06187440e-02, -1.99689329e-01,\n",
      "        2.10854456e-01,  6.86688945e-02, -1.58429921e-01,  1.80238843e-01,\n",
      "       -8.03667307e-03,  1.26571106e-02,  4.25974801e-02, -3.54833342e-02,\n",
      "       -2.55108695e-04,  3.11361641e-01, -2.59533316e-01, -2.30541136e-02,\n",
      "       -4.71575409e-01, -2.94879675e-01,  2.78909683e-01, -5.27592421e-01,\n",
      "        1.89176664e-01, -1.31345257e-01,  3.64594787e-01, -2.88470000e-01,\n",
      "       -1.76771104e-01, -7.47177839e-01,  2.36442516e-04, -2.25409776e-01,\n",
      "        2.79605184e-02,  9.69629288e-01,  4.99835424e-02, -2.29434443e+00,\n",
      "       -4.21578921e-02, -3.37458014e-01,  1.47635341e+00,  6.65306628e-01,\n",
      "       -5.31149983e-01,  3.67314458e-01, -7.62454420e-02,  1.98388994e-01,\n",
      "        6.09200180e-01, -2.04122234e-02,  8.79011080e-02,  5.38718104e-01,\n",
      "        1.15187563e-01,  1.02948897e-01, -1.66671544e-01, -2.10491106e-01,\n",
      "       -2.91787744e-01, -5.47157526e-01,  1.39285669e-01,  7.14999856e-03,\n",
      "       -1.11095138e-01,  1.23110875e-01, -9.10741091e-01,  7.59028867e-02,\n",
      "        7.00065553e-01,  1.72901094e-01, -4.81190890e-01, -1.52316689e-02,\n",
      "       -1.15924323e+00, -2.13432342e-01, -3.52663286e-02,  7.02824444e-02,\n",
      "        1.72851548e-01, -1.88662946e-01, -2.54374027e-01, -1.69750005e-01,\n",
      "       -4.03985560e-01,  4.15103316e-01, -4.21189100e-01,  1.76576480e-01,\n",
      "       -2.33312234e-01, -4.39981610e-04,  6.70223296e-01, -1.28603339e-01])}\n",
      "{'sentence_bow': array([1., 0., 0., ..., 0., 0., 0.]), 'compressed_bow': array([1., 0., 0., ..., 0., 0., 0.]), 'sentence_embedding': array([ 0.23432258, -0.05949235,  0.06829844, -0.23282079,  0.09380628,\n",
      "        0.27937314, -0.47779557,  0.10293109, -0.06479557, -0.26105398,\n",
      "       -0.13756357, -0.31660798, -0.12032216, -0.04332823, -0.00626443,\n",
      "       -0.05755686,  0.32232285,  0.20561899, -0.43799463,  0.11967257,\n",
      "        0.32810593, -0.03594095,  0.31548163,  0.02604301,  0.01843986,\n",
      "       -0.08202571, -0.09653912, -0.6030854 , -0.43645546, -0.13505329,\n",
      "        0.34628996,  0.40715647,  0.13694812, -0.02813358, -0.02725215,\n",
      "       -0.02621372,  0.1124417 , -0.09863637, -0.34869379,  0.18804815,\n",
      "       -0.26408634, -0.21177498,  0.07288561, -0.00796233, -0.27890885,\n",
      "       -0.28160787, -0.05182436, -0.24823821, -0.28883308, -0.5563336 ,\n",
      "        0.03521242,  0.01092207, -0.06253064,  0.65338898, -0.28373399,\n",
      "       -1.30105209,  0.25624856, -0.0730703 ,  1.33271754,  0.34801826,\n",
      "       -0.27753982,  0.09764238, -0.00868933, -0.0770005 ,  0.68927401,\n",
      "        0.105987  ,  0.1610305 ,  0.41186357,  0.298765  , -0.18265678,\n",
      "        0.12253536, -0.33739322, -0.23176743, -0.0155815 ,  0.02103929,\n",
      "       -0.08213242, -0.15668564, -0.07044337, -0.83074147, -0.28495413,\n",
      "        0.332158  , -0.54915798,  0.18823287,  0.00284914, -1.09243011,\n",
      "       -0.03292264,  0.088485  , -0.16444494,  0.05093769, -0.16677502,\n",
      "        0.08972878, -0.49805215, -0.28480127,  0.21466349, -0.192112  ,\n",
      "        0.25624809, -0.14627694, -0.11521321,  0.44096687, -0.18256047]), 'compressed_embedding': array([ 2.96371639e-01,  3.28570120e-02,  9.67616364e-02, -3.42468292e-01,\n",
      "        6.37379959e-02,  2.62553990e-01, -4.43932533e-01,  1.84804574e-02,\n",
      "       -2.14909807e-01, -3.56509566e-01, -1.69657290e-01, -3.46727490e-01,\n",
      "       -2.05735460e-01, -3.86131965e-02,  1.90090318e-03,  1.05303572e-02,\n",
      "        3.36713612e-01,  2.80830532e-01, -4.76853102e-01,  1.21987820e-01,\n",
      "        3.11683834e-01, -1.32405013e-01,  4.13503647e-01, -9.66370776e-02,\n",
      "        2.49885276e-01,  4.45527285e-02, -2.23587990e-01, -7.16175020e-01,\n",
      "       -3.71438771e-01, -1.52946010e-01,  3.61695468e-01,  5.52940309e-01,\n",
      "        1.16357610e-01,  1.57790948e-02, -2.65972782e-02,  2.61570867e-02,\n",
      "       -3.42016196e-04, -2.37071887e-02, -2.84111202e-01,  1.50457278e-01,\n",
      "       -2.63721704e-01, -2.70587265e-01,  1.18215322e-01, -1.59284547e-02,\n",
      "       -3.06301296e-01, -3.97095472e-01, -8.17327499e-02, -1.64710432e-01,\n",
      "       -2.85908729e-01, -6.59078181e-01,  7.25649074e-02, -1.71553660e-02,\n",
      "       -3.42099257e-02,  6.84456646e-01, -2.17757791e-01, -1.44318354e+00,\n",
      "        2.14241803e-01, -5.15507348e-02,  1.48748553e+00,  3.08085442e-01,\n",
      "       -2.36126170e-01,  4.79235537e-02,  2.43109092e-02, -1.08322717e-01,\n",
      "        7.77252734e-01,  5.64889051e-02,  2.69937009e-01,  4.73149210e-01,\n",
      "        2.54393637e-01, -1.90599531e-01,  1.94449529e-01, -3.59752029e-01,\n",
      "       -2.26518571e-01, -1.86327323e-02, -3.14545408e-02, -9.09559205e-02,\n",
      "       -1.74329907e-01, -9.82479155e-02, -7.83730924e-01, -2.83440739e-01,\n",
      "        3.34761083e-01, -6.65571153e-01,  3.32942694e-01, -4.31209058e-02,\n",
      "       -1.19763100e+00, -1.74063712e-03,  7.84636289e-02, -1.30795375e-01,\n",
      "        7.60570765e-02, -1.78042278e-01,  1.42057240e-02, -5.60929060e-01,\n",
      "       -1.80567086e-01,  2.99890399e-01, -5.08214459e-02,  2.53736675e-01,\n",
      "       -1.70466095e-01, -1.08188629e-01,  4.46580589e-01, -6.58179075e-02])}\n"
     ]
    }
   ],
   "source": [
    "for i in range(10):\n",
    "    print(test_ds[i])"
   ]
  },
  {
   "cell_type": "markdown",
   "metadata": {
    "collapsed": false,
    "pycharm": {
     "name": "#%% md\n"
    }
   },
   "source": [
    "Here you can see that the new dataset returned a single numpy array containing all sentence embeddings in our dataset. This is a lot more efficient than returning a list of arrays (which is the default behaviour). Below we check the type and the dimensionality.\n",
    "\n",
    "We will be using `text` subset from our dataset to not use too much RAM."
   ]
  },
  {
   "cell_type": "code",
   "execution_count": 117,
   "metadata": {
    "ExecuteTime": {
     "end_time": "2025-04-16T17:30:12.047366Z",
     "start_time": "2025-04-16T17:30:11.293325Z"
    },
    "collapsed": false,
    "pycharm": {
     "name": "#%%\n"
    }
   },
   "outputs": [
    {
     "name": "stdout",
     "output_type": "stream",
     "text": [
      "<class 'numpy.ndarray'>\n",
      "(36000,)\n",
      "<class 'numpy.ndarray'>\n",
      "(36000,)\n"
     ]
    }
   ],
   "source": [
    "sent_embedding = test_ds['sentence_embedding']\n",
    "compr_embedding = test_ds['compressed_embedding']\n",
    "print(type(sent_embedding))\n",
    "print(sent_embedding.shape)\n",
    "print(type(compr_embedding))\n",
    "print(compr_embedding.shape)"
   ]
  },
  {
   "cell_type": "markdown",
   "metadata": {
    "collapsed": false,
    "pycharm": {
     "name": "#%% md\n"
    }
   },
   "source": [
    "Next we try the condensed representation based on a simple query. Feel free to try different queries with different words. What happens if we have OOV words in a query?"
   ]
  },
  {
   "cell_type": "code",
   "execution_count": 120,
   "metadata": {
    "ExecuteTime": {
     "end_time": "2025-04-16T17:30:59.935211Z",
     "start_time": "2025-04-16T17:30:59.925105Z"
    },
    "collapsed": false,
    "pycharm": {
     "name": "#%%\n"
    }
   },
   "outputs": [
    {
     "name": "stdout",
     "output_type": "stream",
     "text": [
      "fox and deer\n",
      "(100,)\n",
      "[-0.083385   -0.63719     0.254075   -0.65408504 -0.12458149 -0.57695\n",
      "  0.1151895   0.47937998 -0.05304    -1.16922    -0.479265   -0.117604\n",
      "  0.67665505 -0.2181845   0.86132     0.46395     0.149115    0.352275\n",
      " -0.00642499  0.42123    -0.108593    0.51331     0.1666895  -0.19212\n",
      "  0.552625    0.777605   -0.17123    -0.00441501 -0.62225     0.180445\n",
      "  0.263865    0.50187397  0.22722     0.504755    0.49651998  0.29571\n",
      " -0.273479    0.186705    0.66161     0.42644    -0.10568     0.00512\n",
      " -0.715195    0.4271345  -0.19899699  0.007035    0.217155   -0.270865\n",
      " -0.20389499 -0.205845   -0.847275   -0.370445    0.102978    0.56117\n",
      " -0.4170775  -1.50664    -0.1817145   0.170645    0.528605    0.030635\n",
      "  0.0378895   0.82403004  0.55395997 -0.18147999  1.257       0.539876\n",
      "  0.069414   -0.21291    -0.002545    1.04205    -0.26154    -0.20421065\n",
      " -0.1738185  -0.096082   -0.14954099 -0.209345   -0.749255    0.131181\n",
      " -0.7742      0.45635498  0.2506     -0.2636805  -0.01942    -0.479955\n",
      " -0.233609    0.10405    -0.441785    0.35395798  0.71454     0.4964\n",
      " -0.123225   -1.070775    0.348805   -0.19064    -1.2590001  -0.74045503\n",
      " -0.618595   -0.032615    0.564905   -0.28883   ]\n"
     ]
    }
   ],
   "source": [
    "query = 'fox and deer'\n",
    "print(query)\n",
    "\n",
    "query_embedding = embed_text(query, clean, tokenize, lambda x: embed_sentence_word_model(x, glove_model))\n",
    "print(query_embedding.shape)\n",
    "print(query_embedding)"
   ]
  },
  {
   "cell_type": "markdown",
   "metadata": {
    "collapsed": false,
    "pycharm": {
     "name": "#%% md\n"
    }
   },
   "source": [
    "<a name='e13'></a>\n",
    "### Exercise 13: Analyze sentence embeddings\n",
    "- (5p) Calculate similarity between the word embeddings representations of the selected queries and the dataset sentences.\n",
    "- (5p) Analyze the search results. Does the search work as expected? Discuss the results.\n",
    "- (5p) Compare the results with the ones you got with the bag-of-words and TF-IDF representation. Discuss the differences and similarities."
   ]
  },
  {
   "cell_type": "code",
   "execution_count": null,
   "metadata": {
    "collapsed": false,
    "pycharm": {
     "name": "#%%\n"
    }
   },
   "outputs": [],
   "source": [
    "### YOUR CODE HERE\n",
    "\n",
    "\n",
    "\n",
    "\n",
    "### YOUR CODE ENDS HERE"
   ]
  },
  {
   "cell_type": "markdown",
   "metadata": {
    "id": "ZY2jouFmeHOg",
    "pycharm": {
     "name": "#%% md\n"
    }
   },
   "source": [
    "## 6. Evaluating Retrieval\n",
    "\n",
    "In this last section we will try to evaluate how good our sentence retrieval system is. To keep the computational resources manageable, we will use the test set for that as its size is more manageable.\n",
    "\n",
    "Recall from the lecture in IR that there are several metrics to evaluate retrieval performance by taking into account the relevance of the retrieved results to the query. We will use Recall@K here (for more metrics and more details refer to the lecture slides and the textbooks).\n",
    "\n",
    "RRecall@K is a metric used to measure the effectiveness of a search system in retrieving relevant documents within the top $K$ retrieved documents. It calculates the proportion of relevant documents retrieved within the top-$K$ results, compared to the total number of relevant documents in the collection.\n",
    "\n",
    "$\n",
    "\\text{Recall@K} = \\frac{\\text{Number of relevant documents retrieved in the top }-K}{\\text{Total number of relevant documents}}\n",
    "$\n",
    "\n",
    "In our case, we have a sentence, and it's compressed version. To test our system, we will treat compressed sentences as the queries. Each query will have only a single relevant sentence - the corresponding uncompressed sentence.\n",
    "\n",
    "Therefore, for the calculation of Recall@K we will take into account whether the correct retrieved result is contained within the first $K$ retrieved results. For example, if for a query (i.e. a compressed sentence) we retrieve 10 results and within these we see the relevant one (i.e. the full sentence), then Recall@10 = 1."
   ]
  },
  {
   "cell_type": "markdown",
   "metadata": {
    "id": "QUKPtG-uem9f",
    "pycharm": {
     "name": "#%% md\n"
    }
   },
   "source": [
    "<a name='e14'></a>\n",
    "### Exercise 14: Cosine similarity between two sets of vectors\n",
    "\n",
    "(3p) In this exercise you will revisit your implementation of the cosine similarity. Generalize it so that it can accept two arrays containing two sets of vectors (first one containing $M$ vectors and the second one $N$ vectors). Compute the cosine similarity between each pair of vectors coming from the two sets. The result should be an array of size $M x N$.\n",
    "\n",
    "Once again, try to write an efficient code. This means no loops. Remember the relation between matrix multiplication and dot product. (Depending on your implementation of the previous function calculating cosine similarity, this one can be almost the same)"
   ]
  },
  {
   "cell_type": "code",
   "execution_count": null,
   "metadata": {
    "id": "xKiHDrN9eld7",
    "pycharm": {
     "name": "#%%\n"
    }
   },
   "outputs": [],
   "source": [
    "def cosine_similarity_m_to_n(vectors, other_vectors):\n",
    "    \"\"\"\n",
    "    Calculates the cosine similarity between a multiple vectors and other vectors.\n",
    "    Args:\n",
    "        vectors: a numpy array representing M number of vectors of D dimensions (of the size MxD)\n",
    "        other_vectors: a 2D numpy array representing other vectors (of the size NxD, where N is the number of vectors and D is their dimension)\n",
    "\n",
    "    Returns: a numpy array of cosine similarity between all the vectors and all the other vectors\n",
    "\n",
    "    \"\"\"\n",
    "\n",
    "    #### YOUR CODE HERE\n",
    "\n",
    "\n",
    "\n",
    "\n",
    "    ### YOUR CODE ENDS HERE"
   ]
  },
  {
   "cell_type": "markdown",
   "metadata": {
    "id": "qQ-Yhl1Sgoka",
    "pycharm": {
     "name": "#%% md\n"
    }
   },
   "source": [
    "The following function will use your implementation to calculate Recall@K based on the similarity matrix."
   ]
  },
  {
   "cell_type": "code",
   "execution_count": null,
   "metadata": {
    "id": "z0sLS3uRCfdh",
    "pycharm": {
     "name": "#%%\n"
    }
   },
   "outputs": [],
   "source": [
    "def calculate_recall(queries, sentences, k, batch_size=1000):\n",
    "    \"\"\"\n",
    "    Calculates recall@k given the embeddings of the queries and sentences.\n",
    "    Assumes that only a single sentence with the same index as query is relevant.\n",
    "    Batching is implemented to avoid high memory usage.\n",
    "    Args:\n",
    "        queries: a numpy array with the embeddings of N queries\n",
    "        sentences: a numpy array with the embeddings of N sentences available for retrieval\n",
    "        k: number of top results to search for the relevant sentence\n",
    "        batch_size: number of queries to process at a time\n",
    "\n",
    "    Returns: calculated recall@k\n",
    "\n",
    "    \"\"\"\n",
    "    n_queries = queries.shape[0]\n",
    "    correct = np.zeros(n_queries, dtype=bool)\n",
    "\n",
    "    with tqdm.tqdm(total=n_queries) as pbar:\n",
    "        for batch_start in range(0, n_queries, batch_size):\n",
    "            batch_end = min(batch_start + batch_size, n_queries)\n",
    "            queries_batch = queries[batch_start:batch_end]\n",
    "            batch_similarity = cosine_similarity_m_to_n(queries_batch, sentences)\n",
    "\n",
    "            for i, similarity_row in enumerate(batch_similarity):\n",
    "                query_index = batch_start + i\n",
    "                top_k = top_k_indices(similarity_row, k=k, sorted=False)\n",
    "\n",
    "                if query_index in top_k:\n",
    "                    correct[query_index] = True\n",
    "\n",
    "                pbar.update(1)\n",
    "\n",
    "    recall = np.sum(correct) / n_queries\n",
    "    return recall"
   ]
  },
  {
   "cell_type": "markdown",
   "metadata": {
    "id": "3QgAgMiDgw8m",
    "pycharm": {
     "name": "#%% md\n"
    }
   },
   "source": [
    "You can use it like so:"
   ]
  },
  {
   "cell_type": "code",
   "execution_count": null,
   "metadata": {
    "id": "Yxpex7ZxHM7c",
    "pycharm": {
     "name": "#%%\n"
    }
   },
   "outputs": [],
   "source": [
    "recall_at_1 = calculate_recall(compr_embedding, sent_embedding, k=1, batch_size=1000)\n",
    "print(f'\\n{recall_at_1 * 100:.2f}%')"
   ]
  },
  {
   "cell_type": "markdown",
   "metadata": {
    "id": "zY5ZVq5ogzMI",
    "pycharm": {
     "name": "#%% md\n"
    }
   },
   "source": [
    "<a name='e15'></a>\n",
    "### Exercise 15: Evaluating retrieval methods\n",
    "\n",
    "(10p) Calculate recall for different values of $K$ for all methods:\n",
    "- BOW,\n",
    "- TF-IDF,\n",
    "- Pre-trained embeddings.\n",
    "\n",
    "Discuss the results.\n",
    "Comment on how recall changes based on the value of $K$. Are the results expected or surprising?"
   ]
  },
  {
   "cell_type": "code",
   "execution_count": null,
   "metadata": {
    "collapsed": false,
    "pycharm": {
     "name": "#%%\n"
    }
   },
   "outputs": [],
   "source": [
    "#### YOUR CODE HERE\n",
    "\n",
    "\n",
    "\n",
    "### YOUR CODE ENDS HERE"
   ]
  },
  {
   "cell_type": "markdown",
   "metadata": {
    "collapsed": false,
    "pycharm": {
     "name": "#%% md\n"
    }
   },
   "source": [
    "<a name='e16'></a>\n",
    "### Exercise 16: Improving retrieval\n",
    "\n",
    "(10p) Imagine that you work at a company and are tasked with delivering the best retrieval method. Select the most promising one and try to improve the scores (e.g. by changing the vocab size, loading different model, etc.).\n",
    "Discuss the results you achieve, even if you didn't manage to improve the scores."
   ]
  },
  {
   "cell_type": "code",
   "execution_count": null,
   "metadata": {
    "id": "YA9bEm5ehMq8",
    "pycharm": {
     "name": "#%%\n"
    }
   },
   "outputs": [],
   "source": [
    "#### YOUR CODE HERE\n",
    "\n",
    "\n",
    "\n",
    "### YOUR CODE ENDS HERE"
   ]
  },
  {
   "cell_type": "markdown",
   "metadata": {
    "collapsed": false,
    "pycharm": {
     "name": "#%% md\n"
    }
   },
   "source": [
    "// your comments"
   ]
  }
 ],
 "metadata": {
  "colab": {
   "provenance": [],
   "toc_visible": true
  },
  "kernelspec": {
   "display_name": ".venv",
   "language": "python",
   "name": "python3"
  },
  "language_info": {
   "codemirror_mode": {
    "name": "ipython",
    "version": 3
   },
   "file_extension": ".py",
   "mimetype": "text/x-python",
   "name": "python",
   "nbconvert_exporter": "python",
   "pygments_lexer": "ipython3",
   "version": "3.11.8"
  }
 },
 "nbformat": 4,
 "nbformat_minor": 0
}
