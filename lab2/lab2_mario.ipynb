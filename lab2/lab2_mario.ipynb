{
 "cells": [
  {
   "cell_type": "markdown",
   "metadata": {
    "collapsed": false,
    "id": "od2YkWY8pSOC",
    "pycharm": {
     "name": "#%% md\n"
    }
   },
   "source": [
    "# NLP 2025\n",
    "# Lab 2: Word Vectors and Information Retrieval\n",
    "\n",
    "During the first few weeks, we discussed various ways to represent text 📝. One key question was: What should be the basic unit of representation? Words are the fundamental building blocks 🧱.\n",
    "\n",
    "In this lab, we will explore different text representation models, such as Bag-of-Words (BoW), TF-IDF and word embeddings 🔤➡️🔢. Among these, word embeddings are the most effective in terms of performance. They represent each word as a vector of numbers, where each vector captures the meaning of the word 🧠📊.\n",
    "\n",
    "These numerical representations (or weights) are learned using machine learning models 🤖. We’ll dive deeper into how these vectors are learned in the next lecture 📚.\n",
    "\n",
    "For now, we’ll focus on how different representation methods affect performance in an information retrieval task 🔍."
   ]
  },
  {
   "cell_type": "markdown",
   "metadata": {
    "collapsed": false,
    "id": "s93LS5bspSOD",
    "pycharm": {
     "name": "#%% md\n"
    }
   },
   "source": [
    "By the end of this lab, you should be able to:\n",
    "\n",
    "+ 🧼🔁 Implement and/or use built-in functions to preprocess your data (once again!)\n",
    "+ 🧱👜 Build a Bag-of-Words representation of the dataset\n",
    "+ 📊✨ Implement TF-IDF\n",
    "+ 📥🔤 Load pre-trained word embeddings\n",
    "+ 🔍🧠 Inspect and test word embedding properties\n",
    "+ 🗣️➡️📐 Use word embeddings to get sentence representations (aka sentence embeddings)\n",
    "+ 🧩🔎 Use sentence embeddings to solve more complex tasks like information retrieval\n",
    "+ 🧪📏 Design evaluation frameworks for specific NLP tasks and assess their difficulty\n",
    "\n",
    "### Score breakdown\n",
    "\n",
    "| Exercise            | Points |\n",
    "|---------------------|--------|\n",
    "| [Exercise 1](#e1)   | 1      |\n",
    "| [Exercise 2](#e2)   | 1      |\n",
    "| [Exercise 3](#e3)   | 1      |\n",
    "| [Exercise 4](#e4)   | 1      |\n",
    "| [Exercise 5](#e5)   | 1      |\n",
    "| [Exercise 6](#e6)   | 2      |\n",
    "| [Exercise 7](#e7)   | 10     |\n",
    "| [Exercise 8](#e8)   | 5      |\n",
    "| [Exercise 9](#e9)   | 15     |\n",
    "| [Exercise 10](#e10) | 10     |\n",
    "| [Exercise 11](#e11) | 10     |\n",
    "| [Exercise 12](#e12) | 5      |\n",
    "| [Exercise 13](#e13) | 15     |\n",
    "| [Exercise 14](#e14) | 3      |\n",
    "| [Exercise 15](#e15) | 10     |\n",
    "| [Exercise 16](#e16) | 10     |\n",
    "| Total               | 100    |\n",
    "\n",
    "This score will be scaled down to 1 and that will be your final lab score.\n",
    "\n",
    "### 📌 **Instructions for Delivery** (📅 **Deadline: 18/Apr 18:00**, 🎭 *wildcards possible*)\n",
    "\n",
    "✅ **Submission Requirements**\n",
    "+ 📄 You need to submit a **PDF of your report** (use the templates provided in **LaTeX** 🖋️ (*preferred*) or **Word** 📑) and a **copy of your notebook** 📓 with the code.\n",
    "+ ⚡ Make sure that **all cells are executed properly** ⚙️ and that **all figures/results/plots** 📊 you include in the report are also visible in your **executed notebook**.\n",
    "\n",
    "✅ **Collaboration & Integrity**\n",
    "+ 🗣️ While you may **discuss** the lab with others, you must **write your solutions with your group only**. If you **discuss specific tasks** with others, please **include their names** in the appendix of the report.\n",
    "+ 📜 **Honor Code applies** to this lab. For more details, check **Syllabus §7.2** ⚖️.\n",
    "+ 📢 **Mandatory Disclosure**:\n",
    "   - Any **websites** 🌐 (e.g., **Stack Overflow** 💡) or **other resources** used must be **listed and disclosed**.\n",
    "   - Any **GenAI tools** 🤖 (e.g., **ChatGPT**) used must be **explicitly mentioned**.\n",
    "   - 🚨 **Failure to disclose these resources is a violation of academic integrity**. See **Syllabus §7.3** for details."
   ]
  },
  {
   "cell_type": "markdown",
   "metadata": {
    "collapsed": false,
    "id": "aHYGq5RUpSOD",
    "pycharm": {
     "name": "#%% md\n"
    }
   },
   "source": [
    "## 0. Setup\n",
    "\n",
    "As in the last lab, we will be using huggingface datasets library ([https://huggingface.co/datasets](https://huggingface.co/datasets)). You can find the detailed documentation and tutorials here: [https://huggingface.co/docs/datasets/en/index](https://huggingface.co/docs/datasets/en/index)\n",
    "\n",
    "If you don't have it installed you can run the code below or install it via `pip` in your terminal. If you are using Google Colab, you can uncomment and run the code below in a code cell. Restarting of the runtime may be required after installation (Runtime/Restart session)."
   ]
  },
  {
   "cell_type": "markdown",
   "source": [
    "Previously installed datasets library version of 3.2.0 had an error when combined with numpy version >2. If you encounter an error at some point it might require to update the datasets library to the newer version. You can do that by running the code below. If you are using Google Colab, you can run the code below in a code cell. If you are using Jupyter Notebook, you can run the code below in a code cell or in a terminal."
   ],
   "metadata": {
    "collapsed": false,
    "pycharm": {
     "name": "#%% md\n"
    }
   }
  },
  {
   "cell_type": "code",
   "source": "#! pip install --upgrade --force-reinstall datasets",
   "metadata": {
    "collapsed": false,
    "pycharm": {
     "name": "#%%\n"
    },
    "ExecuteTime": {
     "end_time": "2025-04-16T15:17:20.928340Z",
     "start_time": "2025-04-16T15:17:20.924921Z"
    }
   },
   "outputs": [],
   "execution_count": 2
  },
  {
   "cell_type": "markdown",
   "metadata": {
    "collapsed": false,
    "id": "5CCI1TPJpSOF",
    "pycharm": {
     "name": "#%% md\n"
    }
   },
   "source": [
    "As usual, we start by importing some essential Python libraries and we will be using. Apart from `gensim` (which is going to be used for word embeddings), we have already seen the others."
   ]
  },
  {
   "cell_type": "code",
   "metadata": {
    "id": "CRe8W4hKpSOF",
    "pycharm": {
     "name": "#%%\n"
    },
    "ExecuteTime": {
     "end_time": "2025-04-16T21:53:23.499750Z",
     "start_time": "2025-04-16T21:53:22.423589Z"
    }
   },
   "source": [
    "import re\n",
    "\n",
    "import numpy as np\n",
    "import matplotlib.pyplot as plt\n",
    "import datasets\n",
    "from datasets import DatasetDict\n",
    "\n",
    "import ssl\n",
    "\n",
    "try:\n",
    "    _create_unverified_https_context = ssl._create_unverified_context\n",
    "except AttributeError:\n",
    "    pass\n",
    "else:\n",
    "    ssl._create_default_https_context = _create_unverified_https_context\n",
    "\n",
    "import nltk\n",
    "nltk.download('punkt_tab')\n",
    "\n",
    "import tqdm\n",
    "import gensim"
   ],
   "outputs": [
    {
     "name": "stderr",
     "output_type": "stream",
     "text": [
      "[nltk_data] Downloading package punkt_tab to\n",
      "[nltk_data]     /Users/mariowettig/nltk_data...\n",
      "[nltk_data]   Package punkt_tab is already up-to-date!\n"
     ]
    }
   ],
   "execution_count": 3
  },
  {
   "cell_type": "markdown",
   "metadata": {
    "collapsed": false,
    "id": "NXy-1KiCpSOF",
    "pycharm": {
     "name": "#%% md\n"
    }
   },
   "source": [
    "p## 1. Load and Preprocess Data\n",
    "\n",
    "*Sentence compression* involves rephrasing sentences to make them shorter while still retaining the original meaning. A reliable compression system would be valuable for mobile devices and could also serve as a component in an extractive summarization system.\n",
    "\n",
    "The dataset we are going to use can be found on [Huggingface](https://huggingface.co/datasets/embedding-data/sentence-compression). It concerns a set of 180,000 pairs of sentences, aka it is a parallel corpus of sentences and their equivalent compressions. It has been collected by harvesting news articles from the Internet where the headline appears to be similar to the first sentence and that property is used to find an \"extractive\" compression of the sentence.\n",
    "\n",
    "For example, for the sentence\n",
    "\n",
    "`\"Regulators Friday shut down a small Florida bank, bringing to 119 the number of US bank failures this year amid mounting loan defaults\"`\n",
    "\n",
    "the compressed equivalent (based on the dataset) is:\n",
    "\n",
    "`\"Regulators shut down small Florida bank\"`.\n",
    "\n",
    "\n",
    "For more information you can read the original paper (from Google) [here](https://aclanthology.org/D13-1155.pdf). We strongly recommend going over the paper to gain further insights. Notice that the paper is from 2013, therefore word embeddings have not been widely introduced yet in NLP tasks, meaning that the methods applied were based on the traditional NLP pipeline (feature extraction + ML)."
   ]
  },
  {
   "cell_type": "markdown",
   "metadata": {
    "collapsed": false,
    "id": "ztJX2GRVpSOF",
    "pycharm": {
     "name": "#%% md\n"
    }
   },
   "source": [
    "### 1.1 Loading the Dataset\n",
    "\n",
    "The dataset will be loaded as a Pandas DataFrame. This may take a few minutes because of the large size of the data.\n",
    "\n",
    "Make sure to inspect the dataset and make sure it is imported properly."
   ]
  },
  {
   "cell_type": "code",
   "metadata": {
    "id": "tay2NXPTpSOG",
    "pycharm": {
     "name": "#%%\n"
    },
    "ExecuteTime": {
     "end_time": "2025-04-16T21:53:26.450151Z",
     "start_time": "2025-04-16T21:53:24.506530Z"
    }
   },
   "source": [
    "ds = datasets.load_dataset('embedding-data/sentence-compression')\n",
    "print(ds)"
   ],
   "outputs": [
    {
     "name": "stdout",
     "output_type": "stream",
     "text": [
      "DatasetDict({\n",
      "    train: Dataset({\n",
      "        features: ['set'],\n",
      "        num_rows: 180000\n",
      "    })\n",
      "})\n"
     ]
    }
   ],
   "execution_count": 4
  },
  {
   "cell_type": "code",
   "metadata": {
    "id": "bUud3eZVpSOH",
    "pycharm": {
     "name": "#%%\n"
    },
    "ExecuteTime": {
     "end_time": "2025-04-16T21:53:26.475293Z",
     "start_time": "2025-04-16T21:53:26.466090Z"
    }
   },
   "source": [
    "for i in range(100):\n",
    "    print(ds['train'][i])"
   ],
   "outputs": [
    {
     "name": "stdout",
     "output_type": "stream",
     "text": [
      "{'set': [\"The USHL completed an expansion draft on Monday as 10 players who were on the rosters of USHL teams during the 2009-10 season were selected by the League's two newest entries, the Muskegon Lumberjacks and Dubuque Fighting Saints.\", 'USHL completes expansion draft']}\n",
      "{'set': ['Major League Baseball Commissioner Bud Selig will be speaking at St. Norbert College next month.', 'Bud Selig to speak at St. Norbert College']}\n",
      "{'set': [\"It's fresh cherry time in Michigan and the best time to enjoy this delicious and nutritious fruit.\", \"It's cherry time\"]}\n",
      "{'set': ['An Evesham man is facing charges in Pennsylvania after he allegedly dragged his girlfriend from the side of his pickup truck on the campus of Kutztown University in the early morning hours of Dec. 5, police said.', 'Evesham man faces charges for Pa.']}\n",
      "{'set': [\"NRT LLC, one of the nation's largest residential real estate brokerage companies, announced several executive appointments within its Coldwell Banker Residential Brokerage operations in Southern California.\", 'NRT announces executive appointments at its Coldwell Banker operations in Southern California']}\n",
      "{'set': ['THE JSE kept toying with an all time high by midday today as resources continued to fuel the bourse.', 'JSE keeps toying with all time high']}\n",
      "{'set': ['The government is defending the latest police crime statistics despite a worrying rise in the recorded amount of violent offending.', 'Government defends crime statistics']}\n",
      "{'set': ['The renovated Marappalam bridge, which had been opened for two-wheelers last week, was opened for other vehicles also on Friday.', 'Marappalam bridge opened']}\n",
      "{'set': ['A new survey shows 30 percent of Californians use Twitter, and more and more of us are using our smart phones to go online.', 'Survey: 30 percent of Californians use Twitter']}\n",
      "{'set': ['Brightpoint ,a provider of logistic services to the mobile industry, has started operations in the Turkish market.', 'Brightpoint starts operations on Turkish market']}\n",
      "{'set': ['A WOMAN has been seriously injured in a collision with a police van in North Devon.', 'Woman seriously injured in collision with police van']}\n",
      "{'set': ['Alfalfa sprouts recalled because of salmonella poisoning were sold to more than 400 Wal-Mart stores in 15 states.', 'Alfalfa sprouts recall']}\n",
      "{'set': ['A strip club will open in Rochester High Street tonight, 15 months after it was approved.', 'Strip club opens tonight']}\n",
      "{'set': [\"Hypermarcas SA, Brazil's fourth- largest consumer-goods company by market value, declined the most in two weeks after JPMorgan Chase & Co. cut its rating on concern the company may struggle to integrate recent acquisitions.\", 'Hypermarcas declines most in two weeks as JPMorgan cuts rating']}\n",
      "{'set': ['It is being reported that Los Angeles police are looking for an apparently suicidal man who was released from a hospital, after being brought there by police upon being found hanging by his neck in a holding cell.', 'La police looking for suicidal man']}\n",
      "{'set': ['The Jersey Shore cast is being refused at many Miami hotspots since filming began.', 'Jersey Shore cast being refused at many Miami hotspots']}\n",
      "{'set': ['A tourist in China get a shock when a brown bear charges his car.', 'Brown bear charges car']}\n",
      "{'set': ['A team of RMIT students won a supply chain simulation game hosted by Victoria University in June.', 'RMIT students win supply chain simulation']}\n",
      "{'set': ['After months of speculation over mental stability, the Deerfield murder suspect was deemed fit to stand trial Friday.', 'Deerfield murder suspect deemed fit to stand trial']}\n",
      "{'set': ['Marriott International has filled top leadership positions on its newly formed Middle East and Africa regional team, based here in Dubai, announced Mark Satterfield, chief operations officer.', 'Marriott International fills top leadership positions on its Middle East and Africa regional team']}\n",
      "{'set': ['The war of words between Team Anna and the government grew intense on Sunday, with Kiran Bedi describing Prime Minister Manmohan Singh as Dhritarashtra.', \"Team Anna's Kiran Bedi describes Manmohan Singh as 'Dhritarashtra'\"]}\n",
      "{'set': ['Kendis Gibson has been named a Correspondent for CBS Newspath out of the Los Angeles bureau of CBS News.', 'Kendis Gibson named correspondent for CBS Newspath']}\n",
      "{'set': [\"San Francisco Giants All-Star outfielder Melky Cabrera was suspended for 50 games Wednesday for testosterone, violating MLB's Joint Drug Prevention and Treatment Program.\", 'Melky Cabrera suspended 50 games for testosterone']}\n",
      "{'set': ['Yamaha Motor Co., Ltd. has announced that it will withdraw from its life science business as of the end of December 2010 due to expected difficulties in achieving profitability attributed to limited market size and future growth prospects.', 'Yamaha Motor to withdraw from life science business']}\n",
      "{'set': [\"More land for commercial development opened on the city's East End when the Jefferson City Planning and Zoning Commission approved two zoning requests Thursday.\", 'Land for commercial development opens up on East End']}\n",
      "{'set': ['>>> three years after that massive government bailout saved it, general motors is reporting its highest profits ever.', 'General motors reports highest profits ever']}\n",
      "{'set': ['A new study published in the Journal of Clinical Investigation has found that vitamin D may be an effective therapeutic agent to treat or prevent allergy to a common mold that can complicate asthma and frequently affect patients with Cystic Fibrosis.', 'Vitamin D may treat or prevent allergy to common mold']}\n",
      "{'set': [\"At a regular press conference of the Ministry of National Defense of the People's Republic of China held on June 28, 2012, Geng Yansheng, spokesman of the MND, said the maritime liaison mechanism between the defense departments of China and Japan can help to avoid maritime misunderstanding and misjudgment.\", 'Maritime liaison mechanism between China and Japan can help to avoid maritime misunderstanding and misjudgment']}\n",
      "{'set': ['Motorcycle mogul Jesse James has moved on in life with Kat Von D -- just after two months of his divorce from Sandra Bullock.', 'Jesse James moves on with Kat Von D']}\n",
      "{'set': ['A person walking on a Gaston County road was hit by a fire truck early Wednesday morning.', 'Person hit by fire truck']}\n",
      "{'set': ['Moga, July 15 Two unidentified migrant labourers were crushed to death by a speeding vehicle near Chuharchak village here when they were standing near the roadside.', 'Two migrant labourers crushed to death']}\n",
      "{'set': ['US young adults seem to worry as much about their online privacy like the older adults, only difference being that they are naive, a study has revealed.', 'Young adults worry as much about privacy like older adults']}\n",
      "{'set': ['Neste Oil will publish its fourth quarter and full year 2011 results on Friday, 3 February 2012 at approximately 9 am.', 'Neste Oil to publish its 2011 results on 3 February 2012']}\n",
      "{'set': ['Clearwater Marine Aquarium staff released 46 sea turtles back into the wild this morning at Honeymoon Island State Park.', 'Clearwater Marine Aquarium releases turtles']}\n",
      "{'set': ['Microsoft has put together an incident management team to monitor the swine flu outbreak and provide assistance to affected employees.', \"Microsoft's incident management team monitors swine flu\"]}\n",
      "{'set': [\"The day is the second day of the second month in China's lunar calendar, which is popularly known as the day when the dragon raises its head.\", 'Dragon raises its head']}\n",
      "{'set': [\"Albion boss Gus Poyet will make changes to both the team and tactics against Huddersfield at Withdean tomorrow night in an attempt to cure the Seagulls' wretched home form.\", 'Poyet to make changes']}\n",
      "{'set': ['ESPN on Tuesday began making a significant reduction of its work force, laying off more than 100 employees at its Bristol, Conn., headquarters and in at least one regional technology center.', 'ESPN lays off more than 100 employees']}\n",
      "{'set': ['Swift died on 18 April at his Manhattan home.', 'Voice actor Swift dies']}\n",
      "{'set': ['As reported by EGaming Review: ``Dedicated egaming bank Ivobank is refusing new customers amid doubt over its future.', 'Ivobank refusing new customers']}\n",
      "{'set': [\"Partition affected the Indian Muslims adversely, especially those in the country's northern and eastern regions, and its socio-economic impact remains understudied, said Vice President Hamid Ansari on Monday.\", 'Partition affected Muslims adversely:']}\n",
      "{'set': ['Google is reportedly updating its privacy policy after the settlement of privacy lawsuit over its Buzz.', 'Google updates its privacy policy']}\n",
      "{'set': ['A book club that meets monthly in The Victoria Park pub on Raymend Road is hoping to welcome new members to its next meeting, at 7.30pm on Tuesday, 22 March 2011.', 'Bedminster book club welcomes new members']}\n",
      "{'set': ['Premier Mario Monti formed a new Italian government without a single politician Wednesday, drawing from the ranks of bankers, diplomats and business executives to create a team to steer Italy away from financial disaster.', 'Monti forms Italian government with no politicians']}\n",
      "{'set': ['US President Barack Obama arrived in Brazil Saturday, launching the first leg of a Latin America tour focused on trade and job creation.', 'President Obama arrives in Brazil']}\n",
      "{'set': ['Dive teams searched Skaneateles Lake Wednesday night, looking for a possible missing boater.', 'Dive teams looking for possible missing boater']}\n",
      "{'set': ['A LIT firework was shoved through the letterbox of a house while a couple slept.', 'Lit firework shoved through letterbox']}\n",
      "{'set': [\"London, March 11 American singer Lady Gaga has no boundaries on her relationships and says she won't mind falling in love with a woman.\", \"Won't mind falling in love with a woman:\"]}\n",
      "{'set': ['Jennifer Aniston did her own stunts in The Bounty Hunter, despite her high heels.', 'Jennifer Aniston does stunt in heels']}\n",
      "{'set': ['The International Olympic Committee today announced that it has disqualified Syrian athlete Ghfran Almouhamad from the Games of the XXX Olympiad in London for an anti-doping rule violation.', 'Ioc disqualifies hurdler Almouhamad for anti-doping violation']}\n",
      "{'set': ['Motorola has just unveiled its gallery of conceptual handsets from the bowels of its design studios in order to celebrate 25 years of the cell phone, and we wish Motorola the best in whatever endeavors they embark upon with their future handset designs.', 'Motorola celebrates 25 years of cell phones']}\n",
      "{'set': ['Major private security companies signed a code of conduct Tuesday, pledging to respect human rights and the rule of law in conflict zones such as Iraq and Afghanistan, where some have been accused of abuses against the local population and reckless behavior.', 'Private security companies sign code of conduct']}\n",
      "{'set': ['Florida quarterback Tim Tebow was taken to a hospital in the back of an ambulance following a hard hit in the third quarter against Kentucky on Saturday night.', 'Tebow taken to hospital after hard hit']}\n",
      "{'set': ['In occupied Kashmir, several houses were gutted in a fire in Bandipore district.', 'Several house gutted in fire in Bandipore']}\n",
      "{'set': ['A lesbian couple, who eloped last week from this district, has been traced to Roorkee after a complaint by the family of one of the girls, police said on Saturday.', 'Lesbian couple traced to Roorkee']}\n",
      "{'set': ['YouTube today is launching XL, a new interface for the site that is customized for televisions.', 'YouTube launches xl:']}\n",
      "{'set': ['Flyers forward Jaromir Jagr, who left the Winter Classic with a leg injury on Monday, has a mild left groin strain, and will miss seven to 10 days.', 'Flyers forward Jaromir Jagr has a left groin strain, could miss up to 10 days']}\n",
      "{'set': ['Kyrgyzstan is to enter the Customs Union of Russia, Belorussia and Kazakhstan.', 'Kyrgyzstan to enter Customs Union']}\n",
      "{'set': ['Nigel Hasselbaink is back in contention for Hamilton`s Scottish Cup clash against Alloa after recovering from a knee injury.', 'Hasselbaink could be back']}\n",
      "{'set': ['England beat Bangladesh by 181 runs on the fifth day of the first test at the Zohur Ahmed Chowdhury Stadium on Tuesday.', 'England beat Bangladesh 181 runs in first test']}\n",
      "{'set': ['Apple has paid around GBP 3 million to buy 8.2 million shares in UK-based digital radio maker Imagination Technologies.', 'Apple buys into digital radio maker Imagination Technologies']}\n",
      "{'set': ['A US national was kidnapped in Pakistan in the eastern city of Lahore, police officials said on Saturday.', 'US national kidnapped in Pakistan, police say']}\n",
      "{'set': ['Trinidad and Tobago`s murder toll for this year jumped to 420 Thursday with the brutal murder of two Swedish nationals.', 'Trinidad & Tobago`s murder toll jumps with murder of Swedish nationals']}\n",
      "{'set': [\"Newly wedded Innocent Ujah Idibia popularly called 2face turned 'pastor' in Ibadan while performing on the Star Trek stage on May 25, 2012.\", '2face turns pastor in Ibadan']}\n",
      "{'set': ['Long-time anchorman Jack Williams is leaving the 11 pm newscast at WBZ-TV, but will continue to co-anchor the 6 pm newscast with Lisa Hughes, according to Ro Dooley Webster, Boston market director of communications at WBZ-TV.', 'Jack Williams leaving 11 pm newscast']}\n",
      "{'set': ['Governor Brown visited a Riverside elementary school to try to gain Republican support to extend temporary tax hikes.', 'Governor Brown visits Riverside to gain Republican support']}\n",
      "{'set': ['Two small bombs exploded overnight outside the office of an anti-government protest leader amid intensifying political tension as street protests entered their fourth week, police said Monday.', 'Two small bombs explode outside office of anti-government protest leader, police say']}\n",
      "{'set': ['Western Union says its profit fell in the fourth quarter on slower demand for money transfers and bill payments.', 'Western Union profit falls on slowing demand']}\n",
      "{'set': [\"For anyone who is trying to get pregnant, the most important question you should ask is ``how to calculate ovulation?''\", 'How to calculate ovulation?']}\n",
      "{'set': [\"Benton County Sheriff's deputies say a Prosser boy was stabbed multiple times last night over a narcotics dispute.\", 'Prosser boy stabbed multiple times']}\n",
      "{'set': ['Percy Harvin returned to practice with the Vikings Thursday and reported no lingering effects from his latest migraine episode.', 'Percy Harvin returns to practice']}\n",
      "{'set': [\"Paul McCartney says that The Beatles almost reformed while they were all still alive, but decided against it so they wouldn't ruin their legacy.\", 'The Beatles almost reformed while they were all still alive']}\n",
      "{'set': [\"Several hundred mourners have gathered to farewell Thomas Kelly at a private school in Sydney's west.\", 'Hundreds gather to farewell Thomas Kelly']}\n",
      "{'set': ['In a story by David Biderman from the Wall St. Journal, the Boston Red Sox are the second most despised team in baseball, behind only the Cleveland Indians.', 'Red Sox are second most despised team in baseball']}\n",
      "{'set': [\"Malta's register has attracted 35 additional aircraft since the new legal and regulatory framework was launched in January 2011, bringing the total to 111, the Transport Ministry has told The Times Business.\", 'Malta register attracts 35 additional aircraft']}\n",
      "{'set': [\"But in an interview with Bloomberg Business Week, Obama said he doesn't ``begrudge'' the $17 million bonus awarded to JPMorgan Chase CEO Jamie Dimon or the $9 million issued to Goldman Sachs CEO Lloyd Blankfein.\", \"Obama doesn't 'begrudge' bonuses\"]}\n",
      "{'set': ['One in 10 workers has taken time off because of depression, a poll of 7,000 people in seven European countries has found.', 'One in 10 workers has taken time off for depression']}\n",
      "{'set': [\"Michael Boley says Giants showed they 'are a team to be reckoned with' Champions aren't crowned in October, but Sunday's win over the 49ers had so much physicality and emotional intensity that it was easy to forget the leaves are still on the trees.\", \"Michael Boley says Giants showed they 'are a team to be reckoned with'\"]}\n",
      "{'set': ['The Army bomb squad has arrived at the scene of a bomb scare in Hastings .', 'Bomb squad arrives']}\n",
      "{'set': [\"Australian death metallers Impetuous Ritual are currently streaming two new songs online from their debut album ``Relentless Execution Of Ceremonial Excrescence.''\", 'Impetuous Ritual streaming two new songs online']}\n",
      "{'set': ['An 8-year-old boy has died after he was hit by a car driven by his own mother at a shopping centre north of Brisbane.', 'Boy dies after being hit by car']}\n",
      "{'set': ['SMART Technologies Inc. announced a corporate restructuring that will sharpen focus on each of its target markets in Education and Enterprise while simultaneously streamlining its corporate support functions.', 'Smart Technologies announces corporate restructuring']}\n",
      "{'set': ['Sega and Obsidian Entertainment announced today Alpha Protocol, a new espionage role-playing game set in the modern world.', 'SEGA announces Alpha Protocol']}\n",
      "{'set': ['Wichita Mayor Carl Brewer has been hospitalized after experiencing chest pains on Tuesday, City of Wichita officials said.', 'Mayor Brewer hospitalized']}\n",
      "{'set': ['Idaho football coach Robb Akey will be in Boise and Twin Falls on Saturday as part of his statewide signing day tour.', \"Idaho's Akey will be in Boise on Saturday\"]}\n",
      "{'set': [\"A University of Iowa study found that women who make their sexual debut as young teens are more likely to divorce, especially if ``the first time'' was unwanted, or if she had mixed feelings about it.\", 'Women who make their sexual debut as young teens more likely to divorce']}\n",
      "{'set': ['The parents of Chelsea king will hold a community forum as part of their campaign to push for tougher laws against sex offenders tonight.', 'The parents of Chelsea king to hold community forum']}\n",
      "{'set': ['Perth, Feb 23 Australian pacer Brett Lee is set to retire from Test cricket on the advice of England rival and close friend Andrew Flintoff.', 'Australian pacer Brett Lee to retire from Test cricket']}\n",
      "{'set': ['When animals attack wanders into Japan and that leads us to a very odd story.', 'When animals attack:']}\n",
      "{'set': ['Dutch Premier League leaders PSV Eindhoven lost 0-1 at home to ADO Den Haag on Saturday evening.', 'Dutch Premier League leaders lose at home']}\n",
      "{'set': ['War veterans who served in Malaya in the 1950s and 1960s have been denied the right to wear medals of gratitude given to them by the Malaysian government.', 'Veterans denied right to wear medals']}\n",
      "{'set': ['Philips Electronics warned of sharply lower profits at its lighting division and toasters-to-shavers consumer business, due to weak demand in Europe.', 'Philips warns of lower profits in lighting and consumer business']}\n",
      "{'set': ['The Murphysboro Apple Festival Funland tickets and pageant tickets will go on sale starting Monday, August 15.', 'Murphysboro Apple festival tickets to go on sale']}\n",
      "{'set': ['European stocks edged lower in early trading Friday, after another weak session for Wall Street, with banks, miners and oil companies all losing ground.', 'European stocks edged lower in early trading']}\n",
      "{'set': ['Percy Harvin will be limited in practice Tuesday for the Minnesota Vikings due to an apparent knee injury.', 'Percy Harvin limited in practice Tuesday with knee injury:']}\n",
      "{'set': ['ESPN has dropped Hank Williams Jr. from opening Monday Night Football tonight after controversial comments Monday about President Obama, USA Today first reported.', \"Espn drops Hank Williams Jr. from 'Monday Night Football'\"]}\n",
      "{'set': [\"Sakio Bika, the ``Contender'' season-three champion, says former champion Anthony Mundine is scared to fight him.\", \"Sakio Bika: ``Anthony Mundine is scared to fight me''\"]}\n",
      "{'set': ['Labour unions say different electricity tariffs by Eskom and municipalities are becoming a significant trigger for service delivery protests.', \"'Electricity tariffs trigger service delivery protests'\"]}\n",
      "{'set': [\"Quality Technology Services, one of the nation's largest privately held providers of data center facilities and managed services, announced today that Ultimate Software, the leading provider of unified HR, payroll, and talent management solutions, has renewed its contract with QTS' Miami data center facility.\", 'Ultimate Software renews contract with QTS data center']}\n",
      "{'set': [\"The mum of the model shot dead by Oscar Pistorius wept yesterday: ``Why would he kill my angel?''\", \"``Why would he kill my angel?''\"]}\n"
     ]
    }
   ],
   "execution_count": 5
  },
  {
   "cell_type": "markdown",
   "metadata": {
    "collapsed": false,
    "id": "HfJSiWxrpSOH",
    "pycharm": {
     "name": "#%% md\n"
    }
   },
   "source": [
    "The dataset comes with only the `train` split so we will have to split it ourselves."
   ]
  },
  {
   "cell_type": "code",
   "metadata": {
    "id": "tATL53MWpSOH",
    "pycharm": {
     "name": "#%%\n"
    },
    "ExecuteTime": {
     "end_time": "2025-04-16T21:53:26.542506Z",
     "start_time": "2025-04-16T21:53:26.508397Z"
    }
   },
   "source": [
    "split_ds = ds['train'].train_test_split(test_size=0.2)\n",
    "split_ds_2 = DatasetDict(split_ds)\n",
    "print(split_ds)"
   ],
   "outputs": [
    {
     "name": "stdout",
     "output_type": "stream",
     "text": [
      "DatasetDict({\n",
      "    train: Dataset({\n",
      "        features: ['set'],\n",
      "        num_rows: 144000\n",
      "    })\n",
      "    test: Dataset({\n",
      "        features: ['set'],\n",
      "        num_rows: 36000\n",
      "    })\n",
      "})\n"
     ]
    }
   ],
   "execution_count": 6
  },
  {
   "cell_type": "markdown",
   "metadata": {
    "collapsed": false,
    "id": "L133t3CqpSOH",
    "pycharm": {
     "name": "#%% md\n"
    }
   },
   "source": [
    "### 1.2 Preprocessing the dataset\n",
    "In this section we will prepare the dataset, aka clean the sentences and tokenize.\n",
    "\n",
    "First, let's write the function to clean the text. It can be similar to the one from the previous lab (Lab1) but make sure that it makes sense for this dataset and task.\n",
    "\n",
    "More specifically, think about lower-casing, punctuation, stop-words and lemmatization/stemming and the impact it might have on the dataset. Also reflect on the fact that with word embeddings we want to uncover semantic relationships between words, whereas with bag-of-words we were trying to capture different morphological variations."
   ]
  },
  {
   "cell_type": "markdown",
   "metadata": {
    "collapsed": false,
    "id": "mQszN6GNpSOH",
    "pycharm": {
     "name": "#%% md\n"
    }
   },
   "source": [
    "<a name='e1'></a>\n",
    "### Exercise 1: Clean function\n",
    "(1p) Fill in the following function to clean the dataset. Implement at least 3 different steps."
   ]
  },
  {
   "cell_type": "code",
   "metadata": {
    "id": "TxjfLQj6pSOH",
    "pycharm": {
     "name": "#%%\n"
    },
    "ExecuteTime": {
     "end_time": "2025-04-16T21:53:26.801040Z",
     "start_time": "2025-04-16T21:53:26.796220Z"
    }
   },
   "source": [
    "def clean(text):\n",
    "    \"\"\"\n",
    "    Cleans the given text\n",
    "    Args:\n",
    "        text: a str with the text to clean\n",
    "\n",
    "    Returns: a str with the cleaned text\n",
    "\n",
    "    \"\"\"\n",
    "\n",
    "    # Empty text\n",
    "    if text == '':\n",
    "        return text\n",
    "\n",
    "    # 'text' from the example can be of type numpy.str_, let's convert it to a python str\n",
    "    text = str(text)\n",
    "\n",
    "    #you might need more\n",
    "    #add them here\n",
    "\n",
    "    ### YOUR CODE HERE\n",
    "\n",
    "    text = re.sub(r'\\'s', '', text)\n",
    "    text = re.sub(r\"\\`\\`\", '', text)\n",
    "    text = re.sub(r\"\\'\\'\", '', text)\n",
    "    text = re.sub(r\"\\'\", '', text)\n",
    "    text = re.sub(r'\\,', '', text)\n",
    "    text = re.sub(r'\\-', ' ', text)\n",
    "    text = re.sub(r'(?<!\\d)\\.(?!\\d)', '', text)\n",
    "\n",
    "    # replace contractions (a bit extensive)\n",
    "    text = text.replace(\"’\", \"'\").replace(\"‘\", \"'\").replace(\"“\", '\"').replace(\"”\", '\"')\n",
    "    text = re.sub(r\"\\b(what|who|where|when|why|how|there|it|here|she|he|that)\\'s\\b\", r\"\\1 is\", text, flags=re.IGNORECASE)\n",
    "    text = re.sub(r\"\\'re\\b\", \" are\", text, flags=re.IGNORECASE)\n",
    "    text = re.sub(r\"\\'ve\\b\", \" have\", text, flags=re.IGNORECASE)\n",
    "    text = re.sub(r\"\\'ll\\b\", \" will\", text, flags=re.IGNORECASE)\n",
    "    text = re.sub(r\"\\'d\\b\", \" would\", text, flags=re.IGNORECASE)\n",
    "    text = re.sub(r\"can\\'t\\b\", \"can not\", text, flags=re.IGNORECASE)\n",
    "    text = re.sub(r\"won\\'t\\b\", \"will not\", text, flags=re.IGNORECASE)\n",
    "    text = re.sub(r\"n\\'t\\b\", \" not\", text, flags=re.IGNORECASE)\n",
    "\n",
    "    # remove stop words\n",
    "    stopwords = ['a','i','the','in','of','for','at','to','on','with','from','that','he','she','it','is','by','as','an','what','his','her','they',\n",
    "                 'those','these','its','was','has','and','will','have','had','has','be','are','because','since','however','this','their','who',\n",
    "                 'whom']\n",
    "    stopword_pattern = re.compile(rf\"\\b({'|'.join(map(re.escape, stopwords))})\\b\", re.IGNORECASE)\n",
    "    text = stopword_pattern.sub('', text)\n",
    "\n",
    "    # Space out punctuation\n",
    "    text = re.sub(r'([^\\w\\s])', r' \\1 ', text)\n",
    "\n",
    "    text = re.sub(r'\\d', r' \\g<0> ', text)\n",
    "\n",
    "    # remove repeated spaces\n",
    "    text = re.sub(r'\\s+', ' ', text)\n",
    "\n",
    "    ### YOUR CODE ENDS HERE\n",
    "\n",
    "    text = text.strip()\n",
    "\n",
    "    # Update the example with the cleaned text\n",
    "    return text"
   ],
   "outputs": [],
   "execution_count": 7
  },
  {
   "cell_type": "markdown",
   "metadata": {
    "collapsed": false,
    "id": "gAqf1AoupSOJ",
    "pycharm": {
     "name": "#%% md\n"
    }
   },
   "source": [
    "The following function will apply the function (sic) you just wrote to the whole dataset. More specifically, it takes the first entry (`sentence`) from the set of uncompressed/compressed pairs, applies the `clean` function and saves the processed sentence in the field `clean_sentence`. The same is dome for the compressed version of the sentence (saved as `clean_compressed`)."
   ]
  },
  {
   "cell_type": "code",
   "metadata": {
    "id": "WZn-M4_vpSOJ",
    "pycharm": {
     "name": "#%%\n"
    },
    "ExecuteTime": {
     "end_time": "2025-04-16T21:53:27.565407Z",
     "start_time": "2025-04-16T21:53:27.563153Z"
    }
   },
   "source": [
    "def clean_dataset(example):\n",
    "    \"\"\"\n",
    "    Cleans the sentence and compressed sentence in the example from the Dataset\n",
    "    Args:\n",
    "        example: an example from the Dataset\n",
    "\n",
    "    Returns: updated example with 'clean_sentence' and 'clean_compressed' cleaned\n",
    "\n",
    "    \"\"\"\n",
    "    sentence, compressed = example['set']\n",
    "    clean_sentence = clean(sentence)\n",
    "    clean_compressed = clean(compressed)\n",
    "    example['clean_sentence'] = clean_sentence\n",
    "    example['clean_compressed'] = clean_compressed\n",
    "    return example"
   ],
   "outputs": [],
   "execution_count": 8
  },
  {
   "cell_type": "markdown",
   "metadata": {
    "collapsed": false,
    "id": "_KVujosKpSOJ",
    "pycharm": {
     "name": "#%% md\n"
    }
   },
   "source": [
    "Below we apply the function to the whole dataset (using `map`) and we can also inspect the result."
   ]
  },
  {
   "cell_type": "code",
   "metadata": {
    "id": "NBS1JbISpSOJ",
    "pycharm": {
     "name": "#%%\n"
    },
    "ExecuteTime": {
     "end_time": "2025-04-16T21:53:44.407325Z",
     "start_time": "2025-04-16T21:53:27.936508Z"
    }
   },
   "source": [
    "split_ds = split_ds.map(clean_dataset)\n",
    "print(split_ds)\n"
   ],
   "outputs": [
    {
     "name": "stderr",
     "output_type": "stream",
     "text": [
      "Map: 100%|██████████| 144000/144000 [00:13<00:00, 10759.33 examples/s]\n",
      "Map: 100%|██████████| 36000/36000 [00:03<00:00, 11703.37 examples/s]"
     ]
    },
    {
     "name": "stdout",
     "output_type": "stream",
     "text": [
      "DatasetDict({\n",
      "    train: Dataset({\n",
      "        features: ['set', 'clean_sentence', 'clean_compressed'],\n",
      "        num_rows: 144000\n",
      "    })\n",
      "    test: Dataset({\n",
      "        features: ['set', 'clean_sentence', 'clean_compressed'],\n",
      "        num_rows: 36000\n",
      "    })\n",
      "})\n"
     ]
    },
    {
     "name": "stderr",
     "output_type": "stream",
     "text": [
      "\n"
     ]
    }
   ],
   "execution_count": 9
  },
  {
   "metadata": {
    "ExecuteTime": {
     "end_time": "2025-04-16T21:53:44.425332Z",
     "start_time": "2025-04-16T21:53:44.421623Z"
    }
   },
   "cell_type": "code",
   "source": [
    "for i in range(10):\n",
    "    print(split_ds['train'][i])\n",
    "\n",
    "for i in range(10):\n",
    "    print(split_ds['train'][i]['clean_compressed'])"
   ],
   "outputs": [
    {
     "name": "stdout",
     "output_type": "stream",
     "text": [
      "{'set': [\"The NAACP today issued a report detailing ``the links between certain Tea Party factions and acknowledged racist hate groups in the United States.''\", \"NAACP issues report on links between Tea Party factions and ``racist hate groups''\"], 'clean_sentence': 'NAACP today issued report detailing \" links between certain Tea Party factions acknowledged racist hate groups United States\"', 'clean_compressed': 'NAACP issues report links between Tea Party factions \"racist hate groups\"'}\n",
      "{'set': ['India spot gold closed 2.14 pct lower, but off intraday lows, tracking global market cues.', 'India spot gold closes down but off intraday lows'], 'clean_sentence': 'India spot gold closed 2.14 pct lower but off intraday lows tracking global market cues', 'clean_compressed': 'India spot gold closes down but off intraday lows'}\n",
      "{'set': ['Best Buddies Qatar has held a series of ceremonies to mark the closing of its clubs at Qatar University and Carnegie Mellon University-Qatar having completed academic year 2010-2011.', 'Best Buddies Qatar holds ceremonies'], 'clean_sentence': 'Best Buddies Qatar held series ceremonies mark closing clubs Qatar University Carnegie Mellon University Qatar having completed academic year 2010 2011.', 'clean_compressed': 'Best Buddies Qatar holds ceremonies'}\n",
      "{'set': [\"Sarah Palin could run for president in 2012 ``if nobody else were to step up'' to get the economy back on track and fight those ``on the extreme left who seem to want to dismantle some of our national security tools,'' she said Wednesday.\", 'Sarah Palin would run in 2012 --'], 'clean_sentence': 'Sarah Palin could run president 2012 \"if nobody else were step up\" get economy back track fight \" extreme left who seem want dismantle some our national security tools\" Wednesday', 'clean_compressed': 'Sarah Palin would run 2012'}\n",
      "{'set': ['A man was found dead over the weekend in a northeast Houston field, KPRC Local 2 reported.', 'Man found dead in field'], 'clean_sentence': 'man found dead over weekend northeast Houston field KPRC Local 2 reported', 'clean_compressed': 'Man found dead field'}\n",
      "{'set': [\"Some local baseball moms are making a pitch to 'strike out' brain cancer.\", \"Moms make pitch to 'strike out' brain cancer\"], 'clean_sentence': 'Some local baseball moms are making pitch trike out\" brain cancer', 'clean_compressed': 'Moms make pitch trike out\" brain cancer'}\n",
      "{'set': ['Boy George has been banned from performing in the US as he has been denied a visa.', 'Boy George banned from performing in the US'], 'clean_sentence': 'Boy George been banned performing US been denied visa', 'clean_compressed': 'Boy George banned performing US'}\n",
      "{'set': ['PNC Financial Services Group Inc., the fifth-largest bank by deposits, said it may sell as many as 15 million shares.', 'PNC may sell 15 million shares'], 'clean_sentence': 'PNC Financial Services Group Inc fifth largest bank deposits may sell many 15 million shares', 'clean_compressed': 'PNC may sell 15 million shares'}\n",
      "{'set': ['J&K CM Omar Abdullah has slammed BJP by saying ``who are the BJP guys to tell me to keep shut.', 'Omar Abdullah slams BJP'], 'clean_sentence': 'J&K CM Omar Abdullah slammed BJP saying \"who are BJP guys tell me keep shut', 'clean_compressed': 'Omar Abdullah slams BJP'}\n",
      "{'set': ['Azure Dynamics Corporation, a world leader in the development and production of hybrid electric and electric components and powertrain systems for medium duty and light commercial vehicles, today announced 21 new Ford Transit Connect Electric sales, including a five unit sale to Western Michigan University.', 'Azure Dynamics announces 21 Transit Connect Electric sales'], 'clean_sentence': 'Azure Dynamics Corporation world leader development production hybrid electric electric components powertrain systems medium duty light commercial vehicles today announced 21 new Ford Transit Connect Electric sales including five unit sale Western Michigan University', 'clean_compressed': 'Azure Dynamics announces 21 Transit Connect Electric sales'}\n",
      "NAACP issues report links between Tea Party factions \"racist hate groups\"\n",
      "India spot gold closes down but off intraday lows\n",
      "Best Buddies Qatar holds ceremonies\n",
      "Sarah Palin would run 2012\n",
      "Man found dead field\n",
      "Moms make pitch trike out\" brain cancer\n",
      "Boy George banned performing US\n",
      "PNC may sell 15 million shares\n",
      "Omar Abdullah slams BJP\n",
      "Azure Dynamics announces 21 Transit Connect Electric sales\n"
     ]
    }
   ],
   "execution_count": 10
  },
  {
   "cell_type": "markdown",
   "metadata": {
    "collapsed": false,
    "id": "X_ThE9H-pSOJ",
    "pycharm": {
     "name": "#%% md\n"
    }
   },
   "source": [
    "Let's examine some examples from the dataset and make sure that we got the results we wanted. At this step, it might be necessary to revisit some pre-processing steps if you are not happy with the results."
   ]
  },
  {
   "cell_type": "code",
   "metadata": {
    "id": "hP-qOPijpSOJ",
    "pycharm": {
     "name": "#%%\n"
    },
    "ExecuteTime": {
     "end_time": "2025-04-16T21:53:44.450304Z",
     "start_time": "2025-04-16T21:53:44.447708Z"
    }
   },
   "source": [
    "for i in range(10):\n",
    "    print(split_ds['train'][i])"
   ],
   "outputs": [
    {
     "name": "stdout",
     "output_type": "stream",
     "text": [
      "{'set': [\"The NAACP today issued a report detailing ``the links between certain Tea Party factions and acknowledged racist hate groups in the United States.''\", \"NAACP issues report on links between Tea Party factions and ``racist hate groups''\"], 'clean_sentence': 'NAACP today issued report detailing \" links between certain Tea Party factions acknowledged racist hate groups United States\"', 'clean_compressed': 'NAACP issues report links between Tea Party factions \"racist hate groups\"'}\n",
      "{'set': ['India spot gold closed 2.14 pct lower, but off intraday lows, tracking global market cues.', 'India spot gold closes down but off intraday lows'], 'clean_sentence': 'India spot gold closed 2.14 pct lower but off intraday lows tracking global market cues', 'clean_compressed': 'India spot gold closes down but off intraday lows'}\n",
      "{'set': ['Best Buddies Qatar has held a series of ceremonies to mark the closing of its clubs at Qatar University and Carnegie Mellon University-Qatar having completed academic year 2010-2011.', 'Best Buddies Qatar holds ceremonies'], 'clean_sentence': 'Best Buddies Qatar held series ceremonies mark closing clubs Qatar University Carnegie Mellon University Qatar having completed academic year 2010 2011.', 'clean_compressed': 'Best Buddies Qatar holds ceremonies'}\n",
      "{'set': [\"Sarah Palin could run for president in 2012 ``if nobody else were to step up'' to get the economy back on track and fight those ``on the extreme left who seem to want to dismantle some of our national security tools,'' she said Wednesday.\", 'Sarah Palin would run in 2012 --'], 'clean_sentence': 'Sarah Palin could run president 2012 \"if nobody else were step up\" get economy back track fight \" extreme left who seem want dismantle some our national security tools\" Wednesday', 'clean_compressed': 'Sarah Palin would run 2012'}\n",
      "{'set': ['A man was found dead over the weekend in a northeast Houston field, KPRC Local 2 reported.', 'Man found dead in field'], 'clean_sentence': 'man found dead over weekend northeast Houston field KPRC Local 2 reported', 'clean_compressed': 'Man found dead field'}\n",
      "{'set': [\"Some local baseball moms are making a pitch to 'strike out' brain cancer.\", \"Moms make pitch to 'strike out' brain cancer\"], 'clean_sentence': 'Some local baseball moms are making pitch trike out\" brain cancer', 'clean_compressed': 'Moms make pitch trike out\" brain cancer'}\n",
      "{'set': ['Boy George has been banned from performing in the US as he has been denied a visa.', 'Boy George banned from performing in the US'], 'clean_sentence': 'Boy George been banned performing US been denied visa', 'clean_compressed': 'Boy George banned performing US'}\n",
      "{'set': ['PNC Financial Services Group Inc., the fifth-largest bank by deposits, said it may sell as many as 15 million shares.', 'PNC may sell 15 million shares'], 'clean_sentence': 'PNC Financial Services Group Inc fifth largest bank deposits may sell many 15 million shares', 'clean_compressed': 'PNC may sell 15 million shares'}\n",
      "{'set': ['J&K CM Omar Abdullah has slammed BJP by saying ``who are the BJP guys to tell me to keep shut.', 'Omar Abdullah slams BJP'], 'clean_sentence': 'J&K CM Omar Abdullah slammed BJP saying \"who are BJP guys tell me keep shut', 'clean_compressed': 'Omar Abdullah slams BJP'}\n",
      "{'set': ['Azure Dynamics Corporation, a world leader in the development and production of hybrid electric and electric components and powertrain systems for medium duty and light commercial vehicles, today announced 21 new Ford Transit Connect Electric sales, including a five unit sale to Western Michigan University.', 'Azure Dynamics announces 21 Transit Connect Electric sales'], 'clean_sentence': 'Azure Dynamics Corporation world leader development production hybrid electric electric components powertrain systems medium duty light commercial vehicles today announced 21 new Ford Transit Connect Electric sales including five unit sale Western Michigan University', 'clean_compressed': 'Azure Dynamics announces 21 Transit Connect Electric sales'}\n"
     ]
    }
   ],
   "execution_count": 11
  },
  {
   "cell_type": "markdown",
   "metadata": {
    "collapsed": false,
    "id": "7LI2KlfypSOJ",
    "pycharm": {
     "name": "#%% md\n"
    }
   },
   "source": [
    "<a name='e2'></a>\n",
    "### Exercise 2: Tokenize function\n",
    "\n",
    "(1p) As always, we will need to tokenize the dataset in order to create bat-of-words and TF-IDF representations in the next sections. We will use the [Natural Language Toolkit (NLTK) library]([https://www.nltk.org/]) (https://www.nltk.org/). Complete the following function to split the text into tokens using the `word_tokenize()` function. Check the [documentation](https://www.nltk.org/api/nltk.tokenize.word_tokenize.html?highlight=word_tokenize) first.\n",
    "Note that there are different tokenizers e.g. `RegexpTokenizer` where you can enter your own regexp, `WhitespaceTokenizer` (similar to Python's string.split()) and `BlanklineTokenizer`."
   ]
  },
  {
   "cell_type": "code",
   "metadata": {
    "id": "sb-M3V6ApSOK",
    "pycharm": {
     "name": "#%%\n"
    },
    "ExecuteTime": {
     "end_time": "2025-04-16T21:53:44.477668Z",
     "start_time": "2025-04-16T21:53:44.475204Z"
    }
   },
   "source": [
    "def tokenize(text):\n",
    "    \"\"\"\n",
    "    Tokenizes the `text` parameter using nltk library\n",
    "    Args:\n",
    "        text: a string representing a sentence to be tokenized\n",
    "\n",
    "    Returns: a list of tokens (strings)\n",
    "\n",
    "    \"\"\"\n",
    "\n",
    "    ### YOUR CODE HERE\n",
    "\n",
    "    tokens = nltk.tokenize.word_tokenize(text, language='english', preserve_line=False)\n",
    "\n",
    "    ### YOUR CODE ENDS HERE\n",
    "    return tokens"
   ],
   "outputs": [],
   "execution_count": 12
  },
  {
   "cell_type": "markdown",
   "metadata": {
    "collapsed": false,
    "id": "gwsHqZc9pSOK",
    "pycharm": {
     "name": "#%% md\n"
    }
   },
   "source": [
    "Next, the function will be applied to the whole dataset (as we did with the pre-processing) and `sentence_tokens` field will be created to store the result."
   ]
  },
  {
   "cell_type": "code",
   "metadata": {
    "id": "6sTX-AcTpSOK",
    "pycharm": {
     "name": "#%%\n"
    },
    "ExecuteTime": {
     "end_time": "2025-04-16T21:53:44.487548Z",
     "start_time": "2025-04-16T21:53:44.485476Z"
    }
   },
   "source": [
    "def tokenize_dataset(example):\n",
    "    \"\"\"\n",
    "    Tokenizes 'clean_sentence' columns in the example from the Dataset\n",
    "    Args:\n",
    "        example: an example from the Dataset\n",
    "\n",
    "    Returns: updated example with 'sentence_tokens' columns\n",
    "\n",
    "    \"\"\"\n",
    "    example['sentence_tokens'] = tokenize(example['clean_sentence'])\n",
    "    example['compressed_tokens'] = tokenize(example['clean_compressed'])\n",
    "    return example"
   ],
   "outputs": [],
   "execution_count": 13
  },
  {
   "cell_type": "code",
   "metadata": {
    "id": "jvwmXLj2pSOK",
    "pycharm": {
     "name": "#%%\n"
    },
    "ExecuteTime": {
     "end_time": "2025-04-16T21:54:01.365914Z",
     "start_time": "2025-04-16T21:53:44.500017Z"
    }
   },
   "source": [
    "split_ds = split_ds.map(tokenize_dataset)"
   ],
   "outputs": [
    {
     "name": "stderr",
     "output_type": "stream",
     "text": [
      "Map: 100%|██████████| 144000/144000 [00:13<00:00, 10606.45 examples/s]\n",
      "Map: 100%|██████████| 36000/36000 [00:03<00:00, 10964.82 examples/s]\n"
     ]
    }
   ],
   "execution_count": 14
  },
  {
   "cell_type": "code",
   "metadata": {
    "id": "yXnje31SpSOK",
    "pycharm": {
     "name": "#%%\n"
    },
    "ExecuteTime": {
     "end_time": "2025-04-16T21:54:01.394439Z",
     "start_time": "2025-04-16T21:54:01.389396Z"
    }
   },
   "source": [
    "for i in range(30):\n",
    "    print(split_ds['train'][i])\n"
   ],
   "outputs": [
    {
     "name": "stdout",
     "output_type": "stream",
     "text": [
      "{'set': [\"The NAACP today issued a report detailing ``the links between certain Tea Party factions and acknowledged racist hate groups in the United States.''\", \"NAACP issues report on links between Tea Party factions and ``racist hate groups''\"], 'clean_sentence': 'NAACP today issued report detailing \" links between certain Tea Party factions acknowledged racist hate groups United States\"', 'clean_compressed': 'NAACP issues report links between Tea Party factions \"racist hate groups\"', 'sentence_tokens': ['NAACP', 'today', 'issued', 'report', 'detailing', '``', 'links', 'between', 'certain', 'Tea', 'Party', 'factions', 'acknowledged', 'racist', 'hate', 'groups', 'United', 'States', \"''\"], 'compressed_tokens': ['NAACP', 'issues', 'report', 'links', 'between', 'Tea', 'Party', 'factions', '``', 'racist', 'hate', 'groups', \"''\"]}\n",
      "{'set': ['India spot gold closed 2.14 pct lower, but off intraday lows, tracking global market cues.', 'India spot gold closes down but off intraday lows'], 'clean_sentence': 'India spot gold closed 2.14 pct lower but off intraday lows tracking global market cues', 'clean_compressed': 'India spot gold closes down but off intraday lows', 'sentence_tokens': ['India', 'spot', 'gold', 'closed', '2.14', 'pct', 'lower', 'but', 'off', 'intraday', 'lows', 'tracking', 'global', 'market', 'cues'], 'compressed_tokens': ['India', 'spot', 'gold', 'closes', 'down', 'but', 'off', 'intraday', 'lows']}\n",
      "{'set': ['Best Buddies Qatar has held a series of ceremonies to mark the closing of its clubs at Qatar University and Carnegie Mellon University-Qatar having completed academic year 2010-2011.', 'Best Buddies Qatar holds ceremonies'], 'clean_sentence': 'Best Buddies Qatar held series ceremonies mark closing clubs Qatar University Carnegie Mellon University Qatar having completed academic year 2010 2011.', 'clean_compressed': 'Best Buddies Qatar holds ceremonies', 'sentence_tokens': ['Best', 'Buddies', 'Qatar', 'held', 'series', 'ceremonies', 'mark', 'closing', 'clubs', 'Qatar', 'University', 'Carnegie', 'Mellon', 'University', 'Qatar', 'having', 'completed', 'academic', 'year', '2010', '2011', '.'], 'compressed_tokens': ['Best', 'Buddies', 'Qatar', 'holds', 'ceremonies']}\n",
      "{'set': [\"Sarah Palin could run for president in 2012 ``if nobody else were to step up'' to get the economy back on track and fight those ``on the extreme left who seem to want to dismantle some of our national security tools,'' she said Wednesday.\", 'Sarah Palin would run in 2012 --'], 'clean_sentence': 'Sarah Palin could run president 2012 \"if nobody else were step up\" get economy back track fight \" extreme left who seem want dismantle some our national security tools\" Wednesday', 'clean_compressed': 'Sarah Palin would run 2012', 'sentence_tokens': ['Sarah', 'Palin', 'could', 'run', 'president', '2012', '``', 'if', 'nobody', 'else', 'were', 'step', 'up', \"''\", 'get', 'economy', 'back', 'track', 'fight', '``', 'extreme', 'left', 'who', 'seem', 'want', 'dismantle', 'some', 'our', 'national', 'security', 'tools', \"''\", 'Wednesday'], 'compressed_tokens': ['Sarah', 'Palin', 'would', 'run', '2012']}\n",
      "{'set': ['A man was found dead over the weekend in a northeast Houston field, KPRC Local 2 reported.', 'Man found dead in field'], 'clean_sentence': 'man found dead over weekend northeast Houston field KPRC Local 2 reported', 'clean_compressed': 'Man found dead field', 'sentence_tokens': ['man', 'found', 'dead', 'over', 'weekend', 'northeast', 'Houston', 'field', 'KPRC', 'Local', '2', 'reported'], 'compressed_tokens': ['Man', 'found', 'dead', 'field']}\n",
      "{'set': [\"Some local baseball moms are making a pitch to 'strike out' brain cancer.\", \"Moms make pitch to 'strike out' brain cancer\"], 'clean_sentence': 'Some local baseball moms are making pitch trike out\" brain cancer', 'clean_compressed': 'Moms make pitch trike out\" brain cancer', 'sentence_tokens': ['Some', 'local', 'baseball', 'moms', 'are', 'making', 'pitch', 'trike', 'out', \"''\", 'brain', 'cancer'], 'compressed_tokens': ['Moms', 'make', 'pitch', 'trike', 'out', \"''\", 'brain', 'cancer']}\n",
      "{'set': ['Boy George has been banned from performing in the US as he has been denied a visa.', 'Boy George banned from performing in the US'], 'clean_sentence': 'Boy George been banned performing US been denied visa', 'clean_compressed': 'Boy George banned performing US', 'sentence_tokens': ['Boy', 'George', 'been', 'banned', 'performing', 'US', 'been', 'denied', 'visa'], 'compressed_tokens': ['Boy', 'George', 'banned', 'performing', 'US']}\n",
      "{'set': ['PNC Financial Services Group Inc., the fifth-largest bank by deposits, said it may sell as many as 15 million shares.', 'PNC may sell 15 million shares'], 'clean_sentence': 'PNC Financial Services Group Inc fifth largest bank deposits may sell many 15 million shares', 'clean_compressed': 'PNC may sell 15 million shares', 'sentence_tokens': ['PNC', 'Financial', 'Services', 'Group', 'Inc', 'fifth', 'largest', 'bank', 'deposits', 'may', 'sell', 'many', '15', 'million', 'shares'], 'compressed_tokens': ['PNC', 'may', 'sell', '15', 'million', 'shares']}\n",
      "{'set': ['J&K CM Omar Abdullah has slammed BJP by saying ``who are the BJP guys to tell me to keep shut.', 'Omar Abdullah slams BJP'], 'clean_sentence': 'J&K CM Omar Abdullah slammed BJP saying \"who are BJP guys tell me keep shut', 'clean_compressed': 'Omar Abdullah slams BJP', 'sentence_tokens': ['J', '&', 'K', 'CM', 'Omar', 'Abdullah', 'slammed', 'BJP', 'saying', '``', 'who', 'are', 'BJP', 'guys', 'tell', 'me', 'keep', 'shut'], 'compressed_tokens': ['Omar', 'Abdullah', 'slams', 'BJP']}\n",
      "{'set': ['Azure Dynamics Corporation, a world leader in the development and production of hybrid electric and electric components and powertrain systems for medium duty and light commercial vehicles, today announced 21 new Ford Transit Connect Electric sales, including a five unit sale to Western Michigan University.', 'Azure Dynamics announces 21 Transit Connect Electric sales'], 'clean_sentence': 'Azure Dynamics Corporation world leader development production hybrid electric electric components powertrain systems medium duty light commercial vehicles today announced 21 new Ford Transit Connect Electric sales including five unit sale Western Michigan University', 'clean_compressed': 'Azure Dynamics announces 21 Transit Connect Electric sales', 'sentence_tokens': ['Azure', 'Dynamics', 'Corporation', 'world', 'leader', 'development', 'production', 'hybrid', 'electric', 'electric', 'components', 'powertrain', 'systems', 'medium', 'duty', 'light', 'commercial', 'vehicles', 'today', 'announced', '21', 'new', 'Ford', 'Transit', 'Connect', 'Electric', 'sales', 'including', 'five', 'unit', 'sale', 'Western', 'Michigan', 'University'], 'compressed_tokens': ['Azure', 'Dynamics', 'announces', '21', 'Transit', 'Connect', 'Electric', 'sales']}\n",
      "{'set': ['A NSW police prosecutor has been charged with assaulting a male undercover operative and masturbating beside him in a car for 40 minutes.', 'Police prosecutor charged with assault'], 'clean_sentence': 'NSW police prosecutor been charged assaulting male undercover operative masturbating beside him car 40 minutes', 'clean_compressed': 'Police prosecutor charged assault', 'sentence_tokens': ['NSW', 'police', 'prosecutor', 'been', 'charged', 'assaulting', 'male', 'undercover', 'operative', 'masturbating', 'beside', 'him', 'car', '40', 'minutes'], 'compressed_tokens': ['Police', 'prosecutor', 'charged', 'assault']}\n",
      "{'set': ['Goldman Sachs Group Inc. is promising to be more transparent about how it does business following widespread criticism that it put its own interests ahead of its clients.', 'Goldman Sachs promising to be more transparent'], 'clean_sentence': 'Goldman Sachs Group Inc promising more transparent about how does business following widespread criticism put own interests ahead clients', 'clean_compressed': 'Goldman Sachs promising more transparent', 'sentence_tokens': ['Goldman', 'Sachs', 'Group', 'Inc', 'promising', 'more', 'transparent', 'about', 'how', 'does', 'business', 'following', 'widespread', 'criticism', 'put', 'own', 'interests', 'ahead', 'clients'], 'compressed_tokens': ['Goldman', 'Sachs', 'promising', 'more', 'transparent']}\n",
      "{'set': ['Green Roofs for Healthy Cities has released results of its 2011 Annual Industry Survey of Corporate Members which found that the green roof industry grew by 28.5 percent over the course of 2010, up significantly from 16 percent growth recorded in 2009.', 'Green roof industry grew by 28.5 percent in 2010'], 'clean_sentence': 'Green Roofs Healthy Cities released results 2011 Annual Industry Survey Corporate Members which found green roof industry grew 28.5 percent over course 2010 up significantly 16 percent growth recorded 2009.', 'clean_compressed': 'Green roof industry grew 28.5 percent 2010', 'sentence_tokens': ['Green', 'Roofs', 'Healthy', 'Cities', 'released', 'results', '2011', 'Annual', 'Industry', 'Survey', 'Corporate', 'Members', 'which', 'found', 'green', 'roof', 'industry', 'grew', '28.5', 'percent', 'over', 'course', '2010', 'up', 'significantly', '16', 'percent', 'growth', 'recorded', '2009', '.'], 'compressed_tokens': ['Green', 'roof', 'industry', 'grew', '28.5', 'percent', '2010']}\n",
      "{'set': ['Russian miner Mechel, which tapped the loan market twice this year, has issued a waiver request on its $1.5 billion facility signed in May that backed its acquisition of Oriel Resources in the US.', 'Mechel issues waiver request'], 'clean_sentence': 'Russian miner Mechel which tapped loan market twice this year issued waiver request $1.5 billion facility signed May backed acquisition Oriel Resources US', 'clean_compressed': 'Mechel issues waiver request', 'sentence_tokens': ['Russian', 'miner', 'Mechel', 'which', 'tapped', 'loan', 'market', 'twice', 'this', 'year', 'issued', 'waiver', 'request', '$', '1.5', 'billion', 'facility', 'signed', 'May', 'backed', 'acquisition', 'Oriel', 'Resources', 'US'], 'compressed_tokens': ['Mechel', 'issues', 'waiver', 'request']}\n",
      "{'set': ['Tributes have been paid to the British soldier killed in Afghanistan on Monday after he was named by the Ministry of Defence.', 'Tributes for soldier killed in Afghanistan'], 'clean_sentence': 'Tributes been paid British soldier killed Afghanistan Monday after named Ministry Defence', 'clean_compressed': 'Tributes soldier killed Afghanistan', 'sentence_tokens': ['Tributes', 'been', 'paid', 'British', 'soldier', 'killed', 'Afghanistan', 'Monday', 'after', 'named', 'Ministry', 'Defence'], 'compressed_tokens': ['Tributes', 'soldier', 'killed', 'Afghanistan']}\n",
      "{'set': [\"Om Puri has apologised for calling politicians ``uneducated'' and ``incompetent'' during his speech at the Ramlila Maidan and says his choice of words was inappropriate.\", \"Om Puri apologises for calling politicians 'uneducated'\"], 'clean_sentence': 'Om Puri apologised calling politicians \"uneducated\" \"incompetent\" during speech Ramlila Maidan says choice words inappropriate', 'clean_compressed': 'Om Puri apologises calling politicians \"uneducated\"', 'sentence_tokens': ['Om', 'Puri', 'apologised', 'calling', 'politicians', '``', 'uneducated', \"''\", '``', 'incompetent', \"''\", 'during', 'speech', 'Ramlila', 'Maidan', 'says', 'choice', 'words', 'inappropriate'], 'compressed_tokens': ['Om', 'Puri', 'apologises', 'calling', 'politicians', '``', 'uneducated', \"''\"]}\n",
      "{'set': ['Spokesman Jesse Jacobs says Byrd died peacefully at about 3 am Monday at Inova Hospital in Fairfax, Va.', 'Sen. Robert Byrd dies'], 'clean_sentence': 'Spokesman Jesse Jacobs says Byrd died peacefully about 3 am Monday Inova Hospital Fairfax Va', 'clean_compressed': 'Sen Robert Byrd dies', 'sentence_tokens': ['Spokesman', 'Jesse', 'Jacobs', 'says', 'Byrd', 'died', 'peacefully', 'about', '3', 'am', 'Monday', 'Inova', 'Hospital', 'Fairfax', 'Va'], 'compressed_tokens': ['Sen', 'Robert', 'Byrd', 'dies']}\n",
      "{'set': [\"HEARTS will pay players' wages in time to avoid a mass walkout at Tynecastle over breached contracts.\", \"Hearts to pay players' wages to avoid mass walkout\"], 'clean_sentence': 'HEARTS pay players\" wages time avoid mass walkout Tynecastle over breached contracts', 'clean_compressed': 'Hearts pay players\" wages avoid mass walkout', 'sentence_tokens': ['HEARTS', 'pay', 'players', \"''\", 'wages', 'time', 'avoid', 'mass', 'walkout', 'Tynecastle', 'over', 'breached', 'contracts'], 'compressed_tokens': ['Hearts', 'pay', 'players', \"''\", 'wages', 'avoid', 'mass', 'walkout']}\n",
      "{'set': [\"Brazilian football legend Ronaldo, who helped his country to two World Cup trophies and is still the tournament's top scorer, retired yesterday, Brazilian media reported.\", 'Brazilian legend Ronaldo retires'], 'clean_sentence': 'Brazilian football legend Ronaldo who helped country two World Cup trophies still tournament top scorer retired yesterday Brazilian media reported', 'clean_compressed': 'Brazilian legend Ronaldo retires', 'sentence_tokens': ['Brazilian', 'football', 'legend', 'Ronaldo', 'who', 'helped', 'country', 'two', 'World', 'Cup', 'trophies', 'still', 'tournament', 'top', 'scorer', 'retired', 'yesterday', 'Brazilian', 'media', 'reported'], 'compressed_tokens': ['Brazilian', 'legend', 'Ronaldo', 'retires']}\n",
      "{'set': [\"An immigration Bill passed by the US Senate on Thursday brings undocumented Irish in the US a step closer to being allowed to ``emerge from the shadows'', the Tánaiste Eamon Gilmore has said.\", \"Immigration Bill brings undocumented Irish a step closer to 'emerging from the shadows' - Gilmore\"], 'clean_sentence': 'immigration Bill passed US Senate Thursday brings undocumented Irish US step closer being allowed \"emerge shadows\" Tánaiste Eamon Gilmore', 'clean_compressed': 'Immigration Bill brings undocumented Irish step closer \"emerging shadows\" Gilmore', 'sentence_tokens': ['immigration', 'Bill', 'passed', 'US', 'Senate', 'Thursday', 'brings', 'undocumented', 'Irish', 'US', 'step', 'closer', 'being', 'allowed', '``', 'emerge', 'shadows', \"''\", 'Tánaiste', 'Eamon', 'Gilmore'], 'compressed_tokens': ['Immigration', 'Bill', 'brings', 'undocumented', 'Irish', 'step', 'closer', '``', 'emerging', 'shadows', \"''\", 'Gilmore']}\n",
      "{'set': ['Sustainable Energy Cities take the lead on climate change: the European Commission launches the Covenant of Mayors.', 'The European Commission launches the Covenant of Mayors'], 'clean_sentence': 'Sustainable Energy Cities take lead climate change : European Commission launches Covenant Mayors', 'clean_compressed': 'European Commission launches Covenant Mayors', 'sentence_tokens': ['Sustainable', 'Energy', 'Cities', 'take', 'lead', 'climate', 'change', ':', 'European', 'Commission', 'launches', 'Covenant', 'Mayors'], 'compressed_tokens': ['European', 'Commission', 'launches', 'Covenant', 'Mayors']}\n",
      "{'set': [\"The CCP recently waived its library entrance fee so the public can provide free access to its library collection, facilities and services, and in a way contribute to the government's mass education.\", 'CCP waives library entrance fee'], 'clean_sentence': 'CCP recently waived library entrance fee so public can provide free access library collection facilities services way contribute government mass education', 'clean_compressed': 'CCP waives library entrance fee', 'sentence_tokens': ['CCP', 'recently', 'waived', 'library', 'entrance', 'fee', 'so', 'public', 'can', 'provide', 'free', 'access', 'library', 'collection', 'facilities', 'services', 'way', 'contribute', 'government', 'mass', 'education'], 'compressed_tokens': ['CCP', 'waives', 'library', 'entrance', 'fee']}\n",
      "{'set': ['A leading business group says the spending cuts announced by Treasurer Wayne Swan may not be enough to return the budget to surplus.', 'Cuts may not be enough for surplus:'], 'clean_sentence': 'leading business group says spending cuts announced Treasurer Wayne Swan may not enough return budget surplus', 'clean_compressed': 'Cuts may not enough surplus :', 'sentence_tokens': ['leading', 'business', 'group', 'says', 'spending', 'cuts', 'announced', 'Treasurer', 'Wayne', 'Swan', 'may', 'not', 'enough', 'return', 'budget', 'surplus'], 'compressed_tokens': ['Cuts', 'may', 'not', 'enough', 'surplus', ':']}\n",
      "{'set': ['In a blockbuster mobile deal, AT&T announced today it had agreed to acquire T-Mobile USA from Deutsche Telecom for $39 million.', 'AT&T to acquire T-mobile USA for $39 million'], 'clean_sentence': 'blockbuster mobile deal &T announced today agreed acquire T Mobile USA Deutsche Telecom $39 million', 'clean_compressed': '&T acquire T mobile USA $39 million', 'sentence_tokens': ['blockbuster', 'mobile', 'deal', '&', 'T', 'announced', 'today', 'agreed', 'acquire', 'T', 'Mobile', 'USA', 'Deutsche', 'Telecom', '$', '39', 'million'], 'compressed_tokens': ['&', 'T', 'acquire', 'T', 'mobile', 'USA', '$', '39', 'million']}\n",
      "{'set': ['A short tale for why my sister wants to work for Apple, and why I told her not to.', 'My sister wants to work for Apple;'], 'clean_sentence': 'short tale why my sister wants work Apple why told not', 'clean_compressed': 'My sister wants work Apple ;', 'sentence_tokens': ['short', 'tale', 'why', 'my', 'sister', 'wants', 'work', 'Apple', 'why', 'told', 'not'], 'compressed_tokens': ['My', 'sister', 'wants', 'work', 'Apple', ';']}\n",
      "{'set': ['Democrats in the House of Representatives unveiled their economic stimulus plan on Thursday, proposing $275 billion in tax cuts and credits to jump-start the economy and $550 billion in spending for clean energy, road construction, social welfare programs and emergency assistance to states.', 'Democrats unveil stimulus plan;'], 'clean_sentence': 'Democrats House Representatives unveiled their economic stimulus plan Thursday proposing $275 billion tax cuts credits jump start economy $550 billion spending clean energy road construction social welfare programs emergency assistance states', 'clean_compressed': 'Democrats unveil stimulus plan ;', 'sentence_tokens': ['Democrats', 'House', 'Representatives', 'unveiled', 'their', 'economic', 'stimulus', 'plan', 'Thursday', 'proposing', '$', '275', 'billion', 'tax', 'cuts', 'credits', 'jump', 'start', 'economy', '$', '550', 'billion', 'spending', 'clean', 'energy', 'road', 'construction', 'social', 'welfare', 'programs', 'emergency', 'assistance', 'states'], 'compressed_tokens': ['Democrats', 'unveil', 'stimulus', 'plan', ';']}\n",
      "{'set': ['Wegmans, which has two supermarkets in the Erie area, is recalling ice cream containing peanut butter as the government investigates a salmonella outbreak that has killed at least six people around the nation.', 'Wegmans recalls ice cream'], 'clean_sentence': 'Wegmans which two supermarkets Erie area recalling ice cream containing peanut butter government investigates salmonella outbreak killed least six people around nation', 'clean_compressed': 'Wegmans recalls ice cream', 'sentence_tokens': ['Wegmans', 'which', 'two', 'supermarkets', 'Erie', 'area', 'recalling', 'ice', 'cream', 'containing', 'peanut', 'butter', 'government', 'investigates', 'salmonella', 'outbreak', 'killed', 'least', 'six', 'people', 'around', 'nation'], 'compressed_tokens': ['Wegmans', 'recalls', 'ice', 'cream']}\n",
      "{'set': ['Barnes Group Inc. Appoints Chief Operating Officer Patrick J. Dempsey to President and Chief Executive Officer Barnes Group Inc., an international aerospace and industrial manufacturer and service provider, today announced that its Board of Directors has appointed Chief Operating Officer Patrick J. Dempsey, 48, to President and Chief Executive Officer of the Company, effective March 1, 2013.', 'Barnes Group Inc. Appoints Chief Operating Officer Patrick J. Dempsey to President and Chief Executive Officer'], 'clean_sentence': 'Barnes Group Inc Appoints Chief Operating Officer Patrick J Dempsey President Chief Executive Officer Barnes Group Inc international aerospace industrial manufacturer service provider today announced Board Directors appointed Chief Operating Officer Patrick J Dempsey 48 President Chief Executive Officer Company effective March 1 2013.', 'clean_compressed': 'Barnes Group Inc Appoints Chief Operating Officer Patrick J Dempsey President Chief Executive Officer', 'sentence_tokens': ['Barnes', 'Group', 'Inc', 'Appoints', 'Chief', 'Operating', 'Officer', 'Patrick', 'J', 'Dempsey', 'President', 'Chief', 'Executive', 'Officer', 'Barnes', 'Group', 'Inc', 'international', 'aerospace', 'industrial', 'manufacturer', 'service', 'provider', 'today', 'announced', 'Board', 'Directors', 'appointed', 'Chief', 'Operating', 'Officer', 'Patrick', 'J', 'Dempsey', '48', 'President', 'Chief', 'Executive', 'Officer', 'Company', 'effective', 'March', '1', '2013', '.'], 'compressed_tokens': ['Barnes', 'Group', 'Inc', 'Appoints', 'Chief', 'Operating', 'Officer', 'Patrick', 'J', 'Dempsey', 'President', 'Chief', 'Executive', 'Officer']}\n",
      "{'set': [\"What's a little contamination among friends, especially when it means millions of federal tax stimulus dollars being available to local governments and area developers?\", \"What's a little contamination among friends?\"], 'clean_sentence': 'little contamination among friends especially when means millions federal tax stimulus dollars being available local governments area developers ?', 'clean_compressed': 'little contamination among friends ?', 'sentence_tokens': ['little', 'contamination', 'among', 'friends', 'especially', 'when', 'means', 'millions', 'federal', 'tax', 'stimulus', 'dollars', 'being', 'available', 'local', 'governments', 'area', 'developers', '?'], 'compressed_tokens': ['little', 'contamination', 'among', 'friends', '?']}\n",
      "{'set': ['The Uttarakhand school education board Class 12 results for 2012 have been declared on Tuesday on May 29.', 'Uttarakhand board Class 12 results declared'], 'clean_sentence': 'Uttarakhand school education board Class 12 results 2012 been declared Tuesday May 29.', 'clean_compressed': 'Uttarakhand board Class 12 results declared', 'sentence_tokens': ['Uttarakhand', 'school', 'education', 'board', 'Class', '12', 'results', '2012', 'been', 'declared', 'Tuesday', 'May', '29', '.'], 'compressed_tokens': ['Uttarakhand', 'board', 'Class', '12', 'results', 'declared']}\n"
     ]
    }
   ],
   "execution_count": 15
  },
  {
   "cell_type": "markdown",
   "metadata": {
    "collapsed": false,
    "id": "FeF0wFd0pSOL",
    "pycharm": {
     "name": "#%% md\n"
    }
   },
   "source": [
    "Since we will need the tokenized sentences, we can use the following statement to extract them from the `train` split of our dataset."
   ]
  },
  {
   "cell_type": "code",
   "metadata": {
    "id": "qYKfXFxQpSOL",
    "pycharm": {
     "name": "#%%\n"
    },
    "ExecuteTime": {
     "end_time": "2025-04-16T21:54:02.796997Z",
     "start_time": "2025-04-16T21:54:01.424745Z"
    }
   },
   "source": [
    "tokenized_sentences = split_ds['train']['sentence_tokens']\n",
    "print(len(tokenized_sentences))\n",
    "print(tokenized_sentences[:10])"
   ],
   "outputs": [
    {
     "name": "stdout",
     "output_type": "stream",
     "text": [
      "144000\n",
      "[['NAACP', 'today', 'issued', 'report', 'detailing', '``', 'links', 'between', 'certain', 'Tea', 'Party', 'factions', 'acknowledged', 'racist', 'hate', 'groups', 'United', 'States', \"''\"], ['India', 'spot', 'gold', 'closed', '2.14', 'pct', 'lower', 'but', 'off', 'intraday', 'lows', 'tracking', 'global', 'market', 'cues'], ['Best', 'Buddies', 'Qatar', 'held', 'series', 'ceremonies', 'mark', 'closing', 'clubs', 'Qatar', 'University', 'Carnegie', 'Mellon', 'University', 'Qatar', 'having', 'completed', 'academic', 'year', '2010', '2011', '.'], ['Sarah', 'Palin', 'could', 'run', 'president', '2012', '``', 'if', 'nobody', 'else', 'were', 'step', 'up', \"''\", 'get', 'economy', 'back', 'track', 'fight', '``', 'extreme', 'left', 'who', 'seem', 'want', 'dismantle', 'some', 'our', 'national', 'security', 'tools', \"''\", 'Wednesday'], ['man', 'found', 'dead', 'over', 'weekend', 'northeast', 'Houston', 'field', 'KPRC', 'Local', '2', 'reported'], ['Some', 'local', 'baseball', 'moms', 'are', 'making', 'pitch', 'trike', 'out', \"''\", 'brain', 'cancer'], ['Boy', 'George', 'been', 'banned', 'performing', 'US', 'been', 'denied', 'visa'], ['PNC', 'Financial', 'Services', 'Group', 'Inc', 'fifth', 'largest', 'bank', 'deposits', 'may', 'sell', 'many', '15', 'million', 'shares'], ['J', '&', 'K', 'CM', 'Omar', 'Abdullah', 'slammed', 'BJP', 'saying', '``', 'who', 'are', 'BJP', 'guys', 'tell', 'me', 'keep', 'shut'], ['Azure', 'Dynamics', 'Corporation', 'world', 'leader', 'development', 'production', 'hybrid', 'electric', 'electric', 'components', 'powertrain', 'systems', 'medium', 'duty', 'light', 'commercial', 'vehicles', 'today', 'announced', '21', 'new', 'Ford', 'Transit', 'Connect', 'Electric', 'sales', 'including', 'five', 'unit', 'sale', 'Western', 'Michigan', 'University']]\n"
     ]
    }
   ],
   "execution_count": 16
  },
  {
   "cell_type": "code",
   "source": [
    "tokenized_compressed = split_ds['train']['compressed_tokens']\n",
    "print(len(tokenized_compressed))\n",
    "print(tokenized_compressed[:10])"
   ],
   "metadata": {
    "collapsed": false,
    "pycharm": {
     "name": "#%%\n"
    },
    "ExecuteTime": {
     "end_time": "2025-04-16T21:54:03.441127Z",
     "start_time": "2025-04-16T21:54:02.815559Z"
    }
   },
   "outputs": [
    {
     "name": "stdout",
     "output_type": "stream",
     "text": [
      "144000\n",
      "[['NAACP', 'issues', 'report', 'links', 'between', 'Tea', 'Party', 'factions', '``', 'racist', 'hate', 'groups', \"''\"], ['India', 'spot', 'gold', 'closes', 'down', 'but', 'off', 'intraday', 'lows'], ['Best', 'Buddies', 'Qatar', 'holds', 'ceremonies'], ['Sarah', 'Palin', 'would', 'run', '2012'], ['Man', 'found', 'dead', 'field'], ['Moms', 'make', 'pitch', 'trike', 'out', \"''\", 'brain', 'cancer'], ['Boy', 'George', 'banned', 'performing', 'US'], ['PNC', 'may', 'sell', '15', 'million', 'shares'], ['Omar', 'Abdullah', 'slams', 'BJP'], ['Azure', 'Dynamics', 'announces', '21', 'Transit', 'Connect', 'Electric', 'sales']]\n"
     ]
    }
   ],
   "execution_count": 17
  },
  {
   "cell_type": "markdown",
   "metadata": {
    "id": "ZDGwEiZeCA5U",
    "pycharm": {
     "name": "#%% md\n"
    }
   },
   "source": [
    "Notice the difference in the types of the different structures we use. Run the following cell to check the types. Do they make sense to you?"
   ]
  },
  {
   "cell_type": "code",
   "metadata": {
    "id": "wKrkFmcZCtOd",
    "pycharm": {
     "name": "#%%\n"
    },
    "ExecuteTime": {
     "end_time": "2025-04-16T21:54:06.222460Z",
     "start_time": "2025-04-16T21:54:03.447984Z"
    }
   },
   "source": [
    "#type of original dataset\n",
    "print(type(split_ds))\n",
    "print(\"--\")\n",
    "#type of original sentence\n",
    "print(split_ds['train'][1])\n",
    "print(type(split_ds['train'][1]))\n",
    "print(\"--\")\n",
    "#type of pre-proceesed sentence\n",
    "print(split_ds['train']['clean_sentence'][1])\n",
    "print(type(split_ds['train']['clean_sentence'][1]))\n",
    "print(\"--\")\n",
    "#type of tokenized sentence\n",
    "print(split_ds['train']['sentence_tokens'][1])\n",
    "print(type(split_ds['train']['sentence_tokens'][1]))\n",
    "print(\"--\")"
   ],
   "outputs": [
    {
     "name": "stdout",
     "output_type": "stream",
     "text": [
      "<class 'datasets.dataset_dict.DatasetDict'>\n",
      "--\n",
      "{'set': ['India spot gold closed 2.14 pct lower, but off intraday lows, tracking global market cues.', 'India spot gold closes down but off intraday lows'], 'clean_sentence': 'India spot gold closed 2.14 pct lower but off intraday lows tracking global market cues', 'clean_compressed': 'India spot gold closes down but off intraday lows', 'sentence_tokens': ['India', 'spot', 'gold', 'closed', '2.14', 'pct', 'lower', 'but', 'off', 'intraday', 'lows', 'tracking', 'global', 'market', 'cues'], 'compressed_tokens': ['India', 'spot', 'gold', 'closes', 'down', 'but', 'off', 'intraday', 'lows']}\n",
      "<class 'dict'>\n",
      "--\n",
      "India spot gold closed 2.14 pct lower but off intraday lows tracking global market cues\n",
      "<class 'str'>\n",
      "--\n",
      "['India', 'spot', 'gold', 'closed', '2.14', 'pct', 'lower', 'but', 'off', 'intraday', 'lows', 'tracking', 'global', 'market', 'cues']\n",
      "<class 'list'>\n",
      "--\n"
     ]
    }
   ],
   "execution_count": 18
  },
  {
   "cell_type": "markdown",
   "source": [
    "## 2. Bag of Words\n",
    "In this section you will built a bag-of-words representation of the dataset. We will use numpy arrays to store the results. The bag-of-words representation is a simple and effective way to represent text data. It involves creating a vocabulary of unique words from the dataset and representing each sentence as a vector of word counts. We first need the vocabulary, which we will build from both the full sentences and the compressed sentences. Similar to the first lab, the vocabulary will be a list of unique words from the dataset."
   ],
   "metadata": {
    "collapsed": false,
    "pycharm": {
     "name": "#%% md\n"
    }
   }
  },
  {
   "cell_type": "markdown",
   "source": [
    "<a name='e3'></a>\n",
    "### Exercise 3: Extracting vocabulary counts\n",
    "\n",
    "(1p) In the following cell, you will implement a function that takes a list of tokenized sentences and returns a dictionary with the counts of each word in the vocabulary. The dictionary should be of the form {word: count}. As in previous lab, you will use the `Counter` class from the `collections` module to do this."
   ],
   "metadata": {
    "collapsed": false,
    "pycharm": {
     "name": "#%% md\n"
    }
   }
  },
  {
   "cell_type": "code",
   "source": [
    "from collections import Counter\n",
    "\n",
    "\n",
    "def extract_vocabulary_counts(tokenized_sentences):\n",
    "    \"\"\"\n",
    "    Extracts the vocabulary from the tokenized sentences\n",
    "    Args:\n",
    "        tokenized_sentences: a list of lists of tokens\n",
    "\n",
    "    Returns: a Counter object with the counts of each word in the vocabulary\n",
    "    \"\"\"\n",
    "\n",
    "    ### YOUR CODE HERE\n",
    "\n",
    "    vocab = Counter()\n",
    "    for sentence in tokenized_sentences:\n",
    "        vocab.update(sentence)\n",
    "    return vocab\n",
    "\n",
    "\n",
    "    ### YOUR CODE ENDS HERE"
   ],
   "metadata": {
    "collapsed": false,
    "pycharm": {
     "name": "#%%\n"
    },
    "ExecuteTime": {
     "end_time": "2025-04-16T21:54:06.230916Z",
     "start_time": "2025-04-16T21:54:06.228844Z"
    }
   },
   "outputs": [],
   "execution_count": 19
  },
  {
   "cell_type": "code",
   "source": [
    "vocab_counter = extract_vocabulary_counts(tokenized_sentences + tokenized_compressed)\n",
    "print(len(vocab_counter))\n",
    "print(vocab_counter.most_common(20))"
   ],
   "metadata": {
    "collapsed": false,
    "pycharm": {
     "name": "#%%\n"
    },
    "ExecuteTime": {
     "end_time": "2025-04-16T21:54:06.541042Z",
     "start_time": "2025-04-16T21:54:06.242369Z"
    }
   },
   "outputs": [
    {
     "name": "stdout",
     "output_type": "stream",
     "text": [
      "126431\n",
      "[(\"''\", 34727), ('``', 30108), ('after', 18369), ('new', 13696), ('year', 11851), (':', 11497), ('US', 11215), ('are', 10662), ('been', 10558), ('$', 9912), ('today', 9677), ('man', 9436), ('this', 9069), ('their', 8893), ('over', 8063), ('who', 7922), ('first', 7864), ('up', 7800), ('announced', 7699), ('two', 7640)]\n"
     ]
    }
   ],
   "execution_count": 20
  },
  {
   "cell_type": "markdown",
   "source": [
    "As you can see the size of the vocabulary is quite large. Like the last time, we will limit the vocabulary to the most frequent words. The next cell will create a dictionary that maps each word to an index in the vocabulary. This will be used to create the bag-of-words representation of the sentences."
   ],
   "metadata": {
    "collapsed": false,
    "pycharm": {
     "name": "#%% md\n"
    }
   }
  },
  {
   "cell_type": "code",
   "source": [
    "vocab_size = 10_000\n",
    "vocab = vocab_counter.most_common(vocab_size)\n",
    "token_to_id = {word: i for i, (word, _) in enumerate(vocab)}\n",
    "print(token_to_id)"
   ],
   "metadata": {
    "collapsed": false,
    "pycharm": {
     "name": "#%%\n"
    },
    "ExecuteTime": {
     "end_time": "2025-04-16T21:54:06.644763Z",
     "start_time": "2025-04-16T21:54:06.600682Z"
    }
   },
   "outputs": [
    {
     "name": "stdout",
     "output_type": "stream",
     "text": [
      "{\"''\": 0, '``': 1, 'after': 2, 'new': 3, 'year': 4, ':': 5, 'US': 6, 'are': 7, 'been': 8, '$': 9, 'today': 10, 'man': 11, 'this': 12, 'their': 13, 'over': 14, 'who': 15, 'first': 16, 'up': 17, 'announced': 18, 'two': 19, 'Tuesday': 20, 'not': 21, 'Wednesday': 22, 'Monday': 23, 'Thursday': 24, 'against': 25, 'out': 26, 'police': 27, 'Friday': 28, 'more': 29, 'says': 30, 'New': 31, 'into': 32, 'million': 33, '.': 34, 'which': 35, 'one': 36, 'were': 37, 'according': 38, 'last': 39, 'Saturday': 40, 'week': 41, 'than': 42, 'County': 43, 'President': 44, 'Sunday': 45, 'about': 46, 'years': 47, 'time': 48, 'off': 49, 'three': 50, 'home': 51, 'during': 52, 'India': 53, 'old': 54, 'state': 55, 'people': 56, 'but': 57, 'night': 58, 'government': 59, 'company': 60, 'killed': 61, 'when': 62, 'woman': 63, 'being': 64, 'next': 65, 'all': 66, 'second': 67, 'found': 68, 'arrested': 69, 'died': 70, 'morning': 71, 'set': 72, 'Minister': 73, 'charged': 74, 'day': 75, 'would': 76, 'back': 77, 'Obama': 78, 'may': 79, 'country': 80, 'reported': 81, 'could': 82, 'world': 83, 'South': 84, 'can': 85, 'China': 86, 'former': 87, 'season': 88, 'down': 89, 'month': 90, 'State': 91, 'Former': 92, 'market': 93, 't': 94, '1': 95, 'team': 96, 'City': 97, '&': 98, 'Police': 99, 'Inc': 100, 'or': 101, 'United': 102, 'charges': 103, 'early': 104, 'reports': 105, 'prices': 106, 'car': 107, 'while': 108, '?': 109, 'dies': 110, 'plans': 111, 'star': 112, 'fire': 113, 'billion': 114, 'guilty': 115, 'American': 116, 'following': 117, 'business': 118, '2': 119, 'officials': 120, 'Man': 121, 'him': 122, 'report': 123, '%': 124, 'yesterday': 125, 'school': 126, 'hit': 127, 'Bank': 128, 'death': 129, 'four': 130, 'near': 131, 'now': 132, 'released': 133, 'World': 134, 'say': 135, '2012': 136, 'Two': 137, 'under': 138, 'end': 139, 'city': 140, 'York': 141, 'Pakistan': 142, 'North': 143, 'no': 144, 'help': 145, '10': 146, 'some': 147, 'made': 148, 'National': 149, 'open': 150, 'service': 151, 'court': 152, 'Indian': 153, 'high': 154, 'based': 155, 'make': 156, 'months': 157, 'through': 158, 'other': 159, 'percent': 160, 'won': 161, ';': 162, 'global': 163, 'take': 164, '3': 165, 'game': 166, 'public': 167, 'before': 168, 'per': 169, 'hospital': 170, 'accused': 171, 'expected': 172, 'just': 173, 'five': 174, 'John': 175, 'most': 176, 'third': 177, 'coach': 178, 'show': 179, 'play': 180, 'launched': 181, 'services': 182, 'oil': 183, 'official': 184, 'announces': 185, 'part': 186, 'British': 187, 'between': 188, 'League': 189, 'launches': 190, 'European': 191, 'top': 192, 'left': 193, 'economic': 194, 'work': 195, 'quarter': 196, 'deal': 197, 'held': 198, 'record': 199, 'here': 200, 'win': 201, 'West': 202, 'cut': 203, 'group': 204, '2010': 205, 'UK': 206, 'president': 207, 'told': 208, 'dead': 209, 'should': 210, 'close': 211, 'jobs': 212, 'shot': 213, 'life': 214, 'Cup': 215, 'return': 216, 'crash': 217, 'another': 218, '2011': 219, 'financial': 220, 'support': 221, '!': 222, 'local': 223, 'get': 224, 'days': 225, 'due': 226, 'you': 227, 'March': 228, 'University': 229, 'London': 230, 'May': 231, 'called': 232, 'if': 233, 'trade': 234, 'health': 235, 'free': 236, 'major': 237, 'leader': 238, 'security': 239, 'launch': 240, 'injured': 241, 'release': 242, 'weekend': 243, 'six': 244, 'sales': 245, 'start': 246, 'visit': 247, 'head': 248, 'face': 249, 'international': 250, 'afternoon': 251, 'office': 252, 'including': 253, 'gas': 254, 'signed': 255, 'House': 256, 'area': 257, 'power': 258, 'child': 259, 'women': 260, 'economy': 261, 'news': 262, 'Iran': 263, 'still': 264, 'run': 265, '20': 266, '4': 267, 'International': 268, 'federal': 269, 'St': 270, 'men': 271, 'national': 272, '5': 273, 'June': 274, 'final': 275, 'April': 276, 'Australia': 277, 'attack': 278, 'officer': 279, 'online': 280, 'stocks': 281, 'children': 282, 'drug': 283, 'military': 284, 'fall': 285, 'like': 286, 'them': 287, 'bank': 288, 'David': 289, 'Court': 290, 'media': 291, '11': 292, 'shares': 293, 'tax': 294, 'chief': 295, '6': 296, '2013': 297, '2009': 298, 'fell': 299, 'long': 300, 'dollar': 301, 'campaign': 302, 'across': 303, 'largest': 304, 'Corp': 305, 'Australian': 306, 'wins': 307, 'Group': 308, 're': 309, 'go': 310, '15': 311, 'where': 312, 'pay': 313, 'Barack': 314, 'leading': 315, 'system': 316, 'family': 317, '12': 318, 'sentenced': 319, 'house': 320, 'host': 321, 'Afghanistan': 322, 'mobile': 323, 'Washington': 324, 'series': 325, 'data': 326, 'revealed': 327, 'election': 328, '30': 329, 'around': 330, 'again': 331, 'England': 332, 'growth': 333, 'late': 334, 'contract': 335, 'talks': 336, 'Street': 337, 'plan': 338, 'Michael': 339, 'rate': 340, 'industry': 341, 'move': 342, 'meeting': 343, 'confirmed': 344, 'allegedly': 345, 'markets': 346, 'Department': 347, 'right': 348, 'San': 349, 'way': 350, 'students': 351, 'Chinese': 352, 'case': 353, 'increase': 354, 'closed': 355, 'America': 356, 'despite': 357, 'wants': 358, 'Prime': 359, 'murder': 360, 'water': 361, 'News': 362, 'party': 363, 'States': 364, 'agreement': 365, 'club': 366, 'prison': 367, 'cancer': 368, 'TV': 369, 'so': 370, 'any': 371, 'best': 372, 'crisis': 373, 'July': 374, 'do': 375, 'money': 376, 'firm': 377, 'Russia': 378, 'film': 379, 'manager': 380, 'Canada': 381, 'saying': 382, 'only': 383, 'stock': 384, 'we': 385, 'higher': 386, 'wife': 387, 'there': 388, 'political': 389, 'making': 390, 'continue': 391, 'program': 392, 'Japan': 393, 'taking': 394, 'General': 395, 'well': 396, 'workers': 397, 'recently': 398, 'recent': 399, 'sign': 400, 'become': 401, 'use': 402, 'buy': 403, 'lead': 404, 'opened': 405, 'latest': 406, 'School': 407, 'French': 408, 'away': 409, 'hold': 410, 'annual': 411, 'number': 412, 'cent': 413, 'surgery': 414, 'Texas': 415, 'price': 416, 'Senate': 417, 'Park': 418, 'provider': 419, 'offer': 420, 'shooting': 421, 'rise': 422, 'companies': 423, 'East': 424, 'Korea': 425, 'energy': 426, '2008': 427, 'share': 428, 'law': 429, 'No': 430, 'how': 431, 'development': 432, 'Day': 433, 'several': 434, 'capital': 435, '7': 436, 'football': 437, 'budget': 438, 'January': 439, 'Congress': 440, 'profit': 441, 'demand': 442, 'age': 443, 'accident': 444, 'weeks': 445, 'trial': 446, 'production': 447, 'signs': 448, 'Israel': 449, 'own': 450, 'opens': 451, 'line': 452, 'fight': 453, 'nearly': 454, '100': 455, 'assault': 456, 'meet': 457, 'Woman': 458, 'study': 459, 'private': 460, 'management': 461, 'named': 462, 'Los': 463, 'charge': 464, 'rates': 465, 'Africa': 466, 'lower': 467, 'going': 468, 'many': 469, 'Europe': 470, 'Rs': 471, 'also': 472, 'Center': 473, 'High': 474, 'sex': 475, 'Russian': 476, 'minister': 477, 'debt': 478, 'loss': 479, 'action': 480, 'place': 481, 'likely': 482, 'One': 483, '25': 484, 'White': 485, 'facing': 486, 'Angeles': 487, 'fourth': 488, 'ago': 489, '14': 490, 'investment': 491, 'filed': 492, 'faces': 493, 'California': 494, 'food': 495, 'director': 496, 'ahead': 497, 'points': 498, 'past': 499, 'Paul': 500, 'Air': 501, 'care': 502, 'half': 503, 'trading': 504, 'title': 505, 'good': 506, 'rose': 507, 'Google': 508, 'tour': 509, 'Delhi': 510, 'Apple': 511, 'German': 512, 'issued': 513, 'investors': 514, 'bill': 515, 'February': 516, 'authorities': 517, 'hours': 518, 'members': 519, 'baby': 520, 'pleaded': 521, 'nuclear': 522, 'September': 523, 'research': 524, 'pleads': 525, 'round': 526, 'Three': 527, 'girl': 528, '18': 529, 'actor': 530, 'rights': 531, 'working': 532, 'took': 533, 'Co': 534, 'least': 535, 'Council': 536, 'calls': 537, 'results': 538, '13': 539, '8': 540, 'leave': 541, 'without': 542, 'plant': 543, 'amid': 544, 'pm': 545, 'store': 546, 'agreed': 547, 'network': 548, 'France': 549, 'Chief': 550, 'reportedly': 551, '16': 552, 'presidential': 553, 'Florida': 554, 'Oil': 555, 'match': 556, 'foreign': 557, 'forces': 558, 'interest': 559, 'sell': 560, 'region': 561, 'both': 562, 'much': 563, 'November': 564, 'coming': 565, 'products': 566, 'body': 567, 'conference': 568, 'role': 569, 'call': 570, 'nation': 571, 'special': 572, 'Asian': 573, 'players': 574, 'full': 575, 'makes': 576, 'cash': 577, 'test': 578, 'technology': 579, 'taken': 580, 'stop': 581, 'Canadian': 582, 'injury': 583, 'board': 584, 'player': 585, 'order': 586, 'even': 587, 'leaders': 588, 'Government': 589, 'video': 590, 'building': 591, 'community': 592, 'Updated': 593, 'site': 594, '50': 595, 'Republican': 596, 'singer': 597, 'summer': 598, 'strong': 599, 'am': 600, 'led': 601, 'Gov': 602, 'emergency': 603, 'James': 604, 'race': 605, 'credit': 606, 'beat': 607, 'district': 608, 'music': 609, 'lost': 610, 'future': 611, 'need': 612, 'returns': 613, 'seven': 614, 'opening': 615, 'claims': 616, 'side': 617, 'vehicle': 618, 'looking': 619, 'live': 620, 'forward': 621, 'December': 622, 'running': 623, 'center': 624, 'senior': 625, 'earlier': 626, 'Union': 627, 'issues': 628, 'road': 629, 'October': 630, 'sector': 631, '24': 632, 'further': 633, 'bid': 634, 'George': 635, 'change': 636, 'cuts': 637, 'suspended': 638, 'Chris': 639, ')': 640, 'come': 641, 'driver': 642, 'After': 643, 'agency': 644, 'town': 645, 'Secretary': 646, '0': 647, 'big': 648, 'Corporation': 649, 'heart': 650, '17': 651, 'war': 652, 'banks': 653, 'raise': 654, 'traffic': 655, 'evening': 656, 'games': 657, 'missing': 658, 'operations': 659, 'Chicago': 660, 'We': 661, 'Israeli': 662, 'biggest': 663, 'Brown': 664, 'small': 665, 'bus': 666, 'project': 667, 'website': 668, 'album': 669, 'low': 670, 'student': 671, 'driving': 672, 'African': 673, 'Premier': 674, 'better': 675, 'central': 676, 'victory': 677, 'my': 678, 'continues': 679, 'air': 680, 'social': 681, 'level': 682, 'must': 683, 'Energy': 684, 'issue': 685, 'fans': 686, 'Central': 687, 'ready': 688, 'used': 689, 'August': 690, 'policy': 691, 'Britain': 692, 'key': 693, 'killing': 694, 'arrest': 695, 'vote': 696, 'countries': 697, 'planning': 698, 'remains': 699, 'term': 700, 'job': 701, 'Open': 702, 'medical': 703, 'young': 704, 'Manchester': 705, 'trying': 706, 'keep': 707, 'remain': 708, 'information': 709, 'offering': 710, 'strike': 711, 'our': 712, 'join': 713, 'shows': 714, 'winning': 715, 'put': 716, 'Red': 717, 'actress': 718, 'investigating': 719, 'anti': 720, 'received': 721, 'very': 722, 'training': 723, '(': 724, 'soon': 725, 'Federal': 726, 'domestic': 727, 'getting': 728, 'customers': 729, 'want': 730, 'ended': 731, 'Airlines': 732, 'general': 733, 'press': 734, 'control': 735, 'career': 736, 'himself': 737, 'schools': 738, 'Robert': 739, 'Sen': 740, 'jail': 741, 'Iraq': 742, 'takes': 743, 'Sri': 744, 'College': 745, 'sale': 746, 'sold': 747, 'statement': 748, 'troops': 749, '21': 750, 'cost': 751, 'judge': 752, 'residents': 753, 'Health': 754, 'session': 755, 'current': 756, 'Facebook': 757, 'event': 758, 'giant': 759, 'ban': 760, 'boy': 761, '9': 762, 'Lake': 763, 'see': 764, 'having': 765, 'member': 766, 'announce': 767, 'among': 768, 'Hollywood': 769, 'selling': 770, '`': 771, 'software': 772, 'bankruptcy': 773, 'Foreign': 774, '22': 775, 'debut': 776, 'sexual': 777, 'All': 778, '19': 779, 'got': 780, 'growing': 781, 'Jackson': 782, 'son': 783, 'admitted': 784, 'elections': 785, 'upcoming': 786, 'outside': 787, 'eight': 788, 'your': 789, 'give': 790, 'warned': 791, 'border': 792, 'Germany': 793, 'executive': 794, 'human': 795, 'along': 796, 'train': 797, 'Turkey': 798, 'Singh': 799, 'officers': 800, 'maker': 801, 'stage': 802, 'performance': 803, 'husband': 804, 'property': 805, 'needs': 806, 'Office': 807, 'southern': 808, 'Association': 809, 'until': 810, 'search': 811, 'sent': 812, 'us': 813, 'District': 814, 'behind': 815, 'using': 816, 'later': 817, 'same': 818, 'gains': 819, 'decision': 820, 'gold': 821, 'ever': 822, 'Mark': 823, 'raised': 824, 'break': 825, 'movie': 826, 'struck': 827, 'Hall': 828, 'Al': 829, 'known': 830, 'Asia': 831, 'single': 832, 'loan': 833, 'fuel': 834, 'Microsoft': 835, 'violence': 836, 'practice': 837, 'name': 838, 'provide': 839, 'risk': 840, 'River': 841, 'falls': 842, 'centre': 843, 'suicide': 844, 'station': 845, 'Bay': 846, 'Ministry': 847, 'protest': 848, 'such': 849, 'attacks': 850, 'leaving': 851, 'Zealand': 852, 'officially': 853, 'positive': 854, 'Mexico': 855, 'O': 856, 'claimed': 857, 'Road': 858, 'build': 859, 'Company': 860, 'tonight': 861, 'Party': 862, 'couple': 863, 'champion': 864, 'Bill': 865, 'mother': 866, 'losses': 867, 'fund': 868, 'offers': 869, 'spending': 870, 'Olympic': 871, 'Mumbai': 872, 'list': 873, 'within': 874, 'phone': 875, '40': 876, 'co': 877, 'given': 878, 'candidate': 879, 'approved': 880, 'Ltd': 881, 'brand': 882, 'Commission': 883, 'Japanese': 884, 'few': 885, 'target': 886, 'confidence': 887, '23': 888, 'Gold': 889, 'anniversary': 890, 'owner': 891, 'Valley': 892, 'Johnson': 893, 'm': 894, 'non': 895, 'construction': 896, 'possible': 897, 'staff': 898, 'showed': 899, 'alleged': 900, 'fired': 901, 'declared': 902, 'post': 903, 'funds': 904, 'recovery': 905, 'Grand': 906, 'safety': 907, 'continued': 908, 'Williams': 909, 'fraud': 910, 'Smith': 911, 'league': 912, 'acquire': 913, 'soldiers': 914, 'insurance': 915, 'step': 916, 'files': 917, '28': 918, 'too': 919, 'changes': 920, '26': 921, 'pressure': 922, 'Georgia': 923, 'history': 924, 'flu': 925, 'Calif': 926, 'almost': 927, 'force': 928, 'returned': 929, 'UN': 930, 'costs': 931, 'Service': 932, 'Carolina': 933, 'Mike': 934, 'Coast': 935, 'real': 936, 'Syria': 937, 'businesses': 938, 'asked': 939, 'Dr': 940, 'Boston': 941, 'joint': 942, 'Joe': 943, 'truck': 944, 'robbery': 945, 'weather': 946, 'Bush': 947, 'interview': 948, '27': 949, 'employees': 950, 'turned': 951, 'daughter': 952, 'less': 953, 'battle': 954, 'Governor': 955, 'seen': 956, 'begin': 957, 'retail': 958, 'rally': 959, 'increased': 960, 'Board': 961, 'solutions': 962, 'hopes': 963, 'starting': 964, 'falling': 965, 'injuries': 966, 'boost': 967, 'whose': 968, 'opposition': 969, 'Internet': 970, 'chairman': 971, 'mortgage': 972, 'peace': 973, 'stay': 974, 'convicted': 975, 'protection': 976, 'Justin': 977, 'plane': 978, 'captain': 979, 'consumer': 980, 'gets': 981, 'worth': 982, 'Christmas': 983, 'facility': 984, 'flights': 985, 'dropped': 986, 'double': 987, 'never': 988, 'might': 989, 'jailed': 990, 'serious': 991, 'fiscal': 992, 'Martin': 993, 'appointed': 994, 'ex': 995, 'euro': 996, 'More': 997, 'did': 998, 'passed': 999, 'S': 1000, 'Big': 1001, 'sources': 1002, 'south': 1003, 'Palestinian': 1004, 'acquired': 1005, 'completed': 1006, 'First': 1007, 'Jones': 1008, 'Wall': 1009, 'father': 1010, 'decided': 1011, 'paid': 1012, 'warning': 1013, 'Rep': 1014, 'drop': 1015, 'playing': 1016, 'Khan': 1017, 'field': 1018, 'legal': 1019, 'does': 1020, 'look': 1021, 'This': 1022, 'went': 1023, 'Four': 1024, 'great': 1025, 'education': 1026, 'earnings': 1027, 'me': 1028, 'Italian': 1029, 'Fire': 1030, 'areas': 1031, 'projects': 1032, 'Tom': 1033, 'each': 1034, 'concerns': 1035, 'moving': 1036, 'person': 1037, 'expand': 1038, 'homes': 1039, 'gay': 1040, 'straight': 1041, 'Afghan': 1042, 'Democratic': 1043, 'raises': 1044, 'large': 1045, 'supply': 1046, 'Lanka': 1047, 'joined': 1048, 'travel': 1049, 'scheduled': 1050, 'suffered': 1051, 'find': 1052, 'know': 1053, 'failed': 1054, 'connection': 1055, 'already': 1056, 'Pakistani': 1057, 'recession': 1058, 'Turkish': 1059, 'CEO': 1060, 'futures': 1061, 'every': 1062, 'soldier': 1063, 'reached': 1064, 'begins': 1065, 'Houston': 1066, 'Times': 1067, 'aid': 1068, 'giving': 1069, 'Beach': 1070, 'don': 1071, 'north': 1072, 'NFL': 1073, 'create': 1074, 'suspected': 1075, 'little': 1076, 'bring': 1077, 'girlfriend': 1078, 'Spain': 1079, 'hits': 1080, 'levels': 1081, 'Ryan': 1082, '31': 1083, 'finally': 1084, 'joins': 1085, 'striker': 1086, 'met': 1087, 'Ohio': 1088, 'ruled': 1089, 'drugs': 1090, 'Security': 1091, 'love': 1092, 'nine': 1093, 'conditions': 1094, 'seeking': 1095, 'Iranian': 1096, 'regional': 1097, 'Peter': 1098, 'leaves': 1099, 'crashed': 1100, 'Army': 1101, 'stores': 1102, 'inflation': 1103, 'treatment': 1104, 'started': 1105, 'goes': 1106, 'Prince': 1107, 'funding': 1108, 'once': 1109, 'abuse': 1110, 'banned': 1111, 'Global': 1112, 'caught': 1113, 'times': 1114, 'Steve': 1115, 'point': 1116, 'celebrate': 1117, 'space': 1118, 'storm': 1119, 'Twitter': 1120, 'Ireland': 1121, 'ground': 1122, 'stake': 1123, 'forced': 1124, 'popular': 1125, 'northern': 1126, 'operation': 1127, 'survey': 1128, 'birth': 1129, 'common': 1130, 'yet': 1131, 'Hospital': 1132, 'book': 1133, 'partner': 1134, 'short': 1135, 'basketball': 1136, 'cricket': 1137, 'television': 1138, 'spokesman': 1139, 'published': 1140, 'commercial': 1141, '29': 1142, 'incident': 1143, 'efforts': 1144, 'range': 1145, 'Sydney': 1146, 'caused': 1147, 'Dubai': 1148, 'added': 1149, 'releases': 1150, 'guard': 1151, 'thousands': 1152, 'unit': 1153, 'Michigan': 1154, 'Black': 1155, 'front': 1156, 'partnership': 1157, 'producer': 1158, 'together': 1159, 'drive': 1160, 'involved': 1161, 'reduce': 1162, 'Saudi': 1163, 'Parliament': 1164, 'improve': 1165, 'flight': 1166, 'Taylor': 1167, 'miss': 1168, 'EU': 1169, 'Toronto': 1170, 'Minnesota': 1171, 'exchange': 1172, 'problems': 1173, 'bomb': 1174, 'Business': 1175, 'robbed': 1176, 'award': 1177, 'gun': 1178, 'unveiled': 1179, '500': 1180, 'de': 1181, 'lawsuit': 1182, 'King': 1183, 'process': 1184, 'Supreme': 1185, 'retirement': 1186, 'Island': 1187, 'below': 1188, 'stand': 1189, 'Romney': 1190, 'agent': 1191, 'Real': 1192, 'attacked': 1193, 'track': 1194, 'housing': 1195, 'Liverpool': 1196, 'hotel': 1197, 'Spanish': 1198, 'rest': 1199, 'armed': 1200, 'posted': 1201, 'natural': 1202, 'Syrian': 1203, 'reach': 1204, 'suspect': 1205, 'Capital': 1206, 'perform': 1207, 'above': 1208, 'assets': 1209, 'Agency': 1210, 'main': 1211, 'arrived': 1212, 'Green': 1213, 'urged': 1214, 'marriage': 1215, 'teacher': 1216, 'hard': 1217, 'whether': 1218, 'Lee': 1219, 'Home': 1220, 'Jan': 1221, 'Tour': 1222, 'Clinton': 1223, 'condition': 1224, 'card': 1225, 'Scott': 1226, 'boss': 1227, 'Western': 1228, 'tomorrow': 1229, 'suffering': 1230, 'kill': 1231, 'rising': 1232, 'birthday': 1233, 'figures': 1234, 'parts': 1235, 'Tony': 1236, 'total': 1237, 'rules': 1238, 'ordered': 1239, 'states': 1240, 'Gulf': 1241, 'Lady': 1242, 'Italy': 1243, 'turn': 1244, 'Brazil': 1245, 'divorce': 1246, 'patients': 1247, 'Singapore': 1248, 'Taliban': 1249, 'midfielder': 1250, 'comes': 1251, 'platform': 1252, 'Taiwan': 1253, 'Korean': 1254, 'stolen': 1255, 'Club': 1256, 'How': 1257, 'net': 1258, 'stabbed': 1259, 'users': 1260, 'county': 1261, 'period': 1262, 'Egypt': 1263, 'investigation': 1264, 'Financial': 1265, 'save': 1266, 'Kansas': 1267, 'People': 1268, 'cases': 1269, 'NBA': 1270, 'expects': 1271, 'related': 1272, 'cars': 1273, 'celebrates': 1274, 'operator': 1275, 'iPhone': 1276, 'damage': 1277, 'access': 1278, 'broke': 1279, 'dog': 1280, 'Kim': 1281, 'rape': 1282, 'extended': 1283, 'Sheriff': 1284, 'calling': 1285, 'available': 1286, 'elected': 1287, 'buying': 1288, 'light': 1289, 'split': 1290, 'seek': 1291, 'Jennifer': 1292, 'Five': 1293, 'dollars': 1294, 'barrel': 1295, 'admits': 1296, 'minor': 1297, 'Reserve': 1298, 'helped': 1299, 'dividend': 1300, 'Greece': 1301, 'pre': 1302, 'came': 1303, 'banking': 1304, 'T': 1305, 'NATO': 1306, 'competition': 1307, 'wanted': 1308, 'inside': 1309, 'Medical': 1310, 'Kevin': 1311, 'Americans': 1312, 'moved': 1313, 'Ali': 1314, 'returning': 1315, 'stealing': 1316, 'ceremony': 1317, 'holiday': 1318, 'governor': 1319, 'then': 1320, 'source': 1321, 'Jersey': 1322, 'began': 1323, 'quarterly': 1324, 'proposed': 1325, 'criminal': 1326, 'Paris': 1327, 'Public': 1328, 'ship': 1329, 'previous': 1330, 'cutting': 1331, 'corruption': 1332, 'receive': 1333, 'band': 1334, 'Middle': 1335, 'watch': 1336, 'land': 1337, 'Fort': 1338, 'Justice': 1339, 'gives': 1340, 'Louis': 1341, 'owned': 1342, 'highest': 1343, 'acquisition': 1344, 'Committee': 1345, 'offered': 1346, 'Iowa': 1347, 'base': 1348, 'illegal': 1349, 'Highway': 1350, 'concert': 1351, 'orders': 1352, 'heavy': 1353, 'threat': 1354, 'Stadium': 1355, 'Pacific': 1356, 'potential': 1357, 'al': 1358, 'Awards': 1359, 'deficit': 1360, 'class': 1361, 'personal': 1362, 'far': 1363, 'earthquake': 1364, 'discuss': 1365, '60': 1366, 'Actor': 1367, 'Exchange': 1368, 'Virginia': 1369, 'digital': 1370, 'living': 1371, 'Chelsea': 1372, 'street': 1373, 'administration': 1374, 'fifth': 1375, 'department': 1376, 'cooperation': 1377, 'model': 1378, 'played': 1379, 'corporate': 1380, 'e': 1381, 'receives': 1382, 'cause': 1383, 'Star': 1384, 'others': 1385, 'revenue': 1386, 'Super': 1387, 'overnight': 1388, 'X': 1389, 'massive': 1390, 'girls': 1391, 'Colorado': 1392, 'felony': 1393, 'Services': 1394, 'Rock': 1395, 'starts': 1396, 'appear': 1397, 'winner': 1398, 'adding': 1399, 'Airport': 1400, 'weak': 1401, 'Morgan': 1402, 'looks': 1403, 'Detroit': 1404, 'marketing': 1405, 'Miami': 1406, 'Championship': 1407, '200': 1408, 'apartment': 1409, 'allow': 1410, 'Women': 1411, 'Town': 1412, 'address': 1413, 'voted': 1414, 'rises': 1415, 'terms': 1416, 'Alex': 1417, 'leads': 1418, 'tried': 1419, 'Nations': 1420, 'Power': 1421, 'beating': 1422, 'There': 1423, 'equity': 1424, 'Perry': 1425, 'jury': 1426, 'radio': 1427, 'charity': 1428, 'multi': 1429, 'investigate': 1430, 'Irish': 1431, 'form': 1432, 'think': 1433, 'hand': 1434, 'newspaper': 1435, 'review': 1436, 'Andrew': 1437, 'compared': 1438, 'Mayor': 1439, 'Azerbaijan': 1440, 'losing': 1441, 'primary': 1442, 'boyfriend': 1443, 'appeal': 1444, 'manufacturing': 1445, 'Sports': 1446, 'crime': 1447, 'towards': 1448, 'Press': 1449, 'Illinois': 1450, 'ties': 1451, 'acquires': 1452, 'council': 1453, 'Centre': 1454, 'sells': 1455, 'Arizona': 1456, 'll': 1457, 'talk': 1458, 'vehicles': 1459, 'wide': 1460, 'scheme': 1461, 'committed': 1462, 'bond': 1463, 'Chairman': 1464, 'Gaza': 1465, 'date': 1466, 'holding': 1467, 'sports': 1468, 'Las': 1469, 'disease': 1470, 'magazine': 1471, 'planned': 1472, 'army': 1473, 'effort': 1474, 'claim': 1475, 'indicted': 1476, 'hospitalized': 1477, 'Feb': 1478, 'hour': 1479, 'Hill': 1480, 'Games': 1481, 'victims': 1482, 'spring': 1483, 'Jim': 1484, 'militants': 1485, 'Southern': 1486, 'doesn': 1487, 'denied': 1488, 'defeat': 1489, 'quality': 1490, 'direct': 1491, 'McCain': 1492, 'Kelly': 1493, 'MP': 1494, 'airport': 1495, 'Malaysia': 1496, 'attempt': 1497, 'room': 1498, 'winter': 1499, 'Mobile': 1500, 'Fox': 1501, 'college': 1502, 'response': 1503, 'female': 1504, 'defender': 1505, 'Francisco': 1506, 'bail': 1507, 'Finance': 1508, 'Diego': 1509, 'engaged': 1510, 'Madrid': 1511, 'Kong': 1512, 'boat': 1513, 'separate': 1514, 'lot': 1515, 'Actress': 1516, 's': 1517, 'aircraft': 1518, 'product': 1519, 'tournament': 1520, 'Dallas': 1521, 'groups': 1522, 'Hong': 1523, 'Airways': 1524, 'Northern': 1525, 'Atlanta': 1526, 'fatal': 1527, 'west': 1528, 'draw': 1529, 'camp': 1530, 'programme': 1531, 'strategic': 1532, 'hearing': 1533, 'protect': 1534, 'Today': 1535, 'different': 1536, 'Vice': 1537, 'Vegas': 1538, 'Libya': 1539, 'knee': 1540, 'friend': 1541, 'systems': 1542, 'gave': 1543, 'rival': 1544, 'position': 1545, 'You': 1546, 'Royal': 1547, 'Development': 1548, 'downtown': 1549, 'province': 1550, 'operating': 1551, 'Ben': 1552, 'Champions': 1553, 'completes': 1554, 'considering': 1555, 'situation': 1556, 'runs': 1557, 'reporting': 1558, 'baseball': 1559, 'Year': 1560, 'meets': 1561, 'fined': 1562, 'heard': 1563, 'flat': 1564, 'wedding': 1565, 'rescued': 1566, 'retire': 1567, 'critical': 1568, 'Dec': 1569, 'relations': 1570, 'Ford': 1571, 'reform': 1572, 'D': 1573, 'enough': 1574, 'measures': 1575, 'estate': 1576, 'Beijing': 1577, 'Media': 1578, 'decline': 1579, 'Rangers': 1580, 'park': 1581, 'custody': 1582, 'fighting': 1583, 'conduct': 1584, 'becoming': 1585, 'union': 1586, 'legend': 1587, 'rating': 1588, 'Blue': 1589, 'Force': 1590, 'currently': 1591, 'closing': 1592, 'celebrated': 1593, 'Tim': 1594, 'arrives': 1595, 'Matt': 1596, 'fresh': 1597, 'present': 1598, 've': 1599, 'moves': 1600, 'holds': 1601, 'doing': 1602, 'ending': 1603, 'veteran': 1604, 'Indiana': 1605, 'Institute': 1606, 'exports': 1607, 'industrial': 1608, 'saw': 1609, 'Harry': 1610, 'course': 1611, 'effective': 1612, 'coast': 1613, 'civil': 1614, 'worker': 1615, 'Richard': 1616, 'income': 1617, 'beginning': 1618, 'contest': 1619, 'founder': 1620, 'slightly': 1621, 'worldwide': 1622, 'equipment': 1623, 'replace': 1624, 'Bollywood': 1625, 'worst': 1626, 'visits': 1627, 'threatened': 1628, 'turns': 1629, 'involving': 1630, 'focus': 1631, 'additional': 1632, 'Greek': 1633, 'forecast': 1634, 'shut': 1635, 'why': 1636, 'eastern': 1637, 'draft': 1638, 'lose': 1639, 'headed': 1640, 'B': 1641, 'developer': 1642, 'controversial': 1643, 'mixed': 1644, 'unemployment': 1645, 'Republic': 1646, 'Toyota': 1647, 'profits': 1648, 'airline': 1649, 'Tiger': 1650, 'Senator': 1651, 'Test': 1652, '2007': 1653, 'Milan': 1654, 'Andy': 1655, 'victim': 1656, 'red': 1657, 'develop': 1658, 'dispute': 1659, 'independent': 1660, 'M': 1661, 'Indonesia': 1662, 'Kate': 1663, 'teams': 1664, 'bad': 1665, 'resume': 1666, 'Stock': 1667, 'Kashmir': 1668, 'needed': 1669, 'loans': 1670, 'introduced': 1671, 'blood': 1672, 'launching': 1673, 'spot': 1674, 'committee': 1675, 'invest': 1676, 'Conference': 1677, 'squad': 1678, 'Bob': 1679, 'prime': 1680, 'Lindsay': 1681, 'Lohan': 1682, 'Queen': 1683, 'currency': 1684, 'problem': 1685, 'English': 1686, 'Church': 1687, 'benefits': 1688, 'package': 1689, 'Research': 1690, 'theft': 1691, 'believes': 1692, 'pregnant': 1693, 'protesters': 1694, 'pulled': 1695, 'events': 1696, 'east': 1697, 'believe': 1698, 'Local': 1699, 'fashion': 1700, 'chain': 1701, 'Football': 1702, 'division': 1703, 'challenge': 1704, 'defense': 1705, 'Missouri': 1706, 'successful': 1707, 'Young': 1708, 'daily': 1709, 'became': 1710, 'sets': 1711, 'account': 1712, 'raising': 1713, 'finance': 1714, 'Nov': 1715, 'records': 1716, 'citing': 1717, 'version': 1718, 'grand': 1719, 'mark': 1720, 'showing': 1721, 'Mr': 1722, 'secretary': 1723, 'festival': 1724, 'Wisconsin': 1725, 'fast': 1726, 'important': 1727, 'parliament': 1728, 'kills': 1729, 'owners': 1730, 'relationship': 1731, 'mining': 1732, 'Oscar': 1733, 'seriously': 1734, 'solar': 1735, 'Aug': 1736, 'tribute': 1737, 'Charlie': 1738, 'Director': 1739, 'remained': 1740, 'Oct': 1741, 'brought': 1742, 'soccer': 1743, 'crashes': 1744, 'avoid': 1745, 'quarterback': 1746, 'foot': 1747, 'leg': 1748, 'causing': 1749, 'Kardashian': 1750, 'Barcelona': 1751, 'black': 1752, 'Seattle': 1753, 'William': 1754, 'though': 1755, 'average': 1756, 'parties': 1757, 'broken': 1758, 'recall': 1759, 'Bangladesh': 1760, 'awarded': 1761, 'R': 1762, 'effect': 1763, 'carrier': 1764, 'various': 1765, 'cleared': 1766, 'entered': 1767, 'Academy': 1768, 'Woods': 1769, 'weapons': 1770, 'manufacturer': 1771, 'multiple': 1772, 'retailer': 1773, 'increasing': 1774, 'married': 1775, 'benefit': 1776, 'result': 1777, 'block': 1778, 'seeks': 1779, 'passes': 1780, 'restaurant': 1781, 'Philadelphia': 1782, 'via': 1783, 'act': 1784, 'feels': 1785, 'village': 1786, 'Show': 1787, 'signing': 1788, 'ends': 1789, 'row': 1790, 'teachers': 1791, 'crude': 1792, 'degree': 1793, 'voters': 1794, 'bringing': 1795, 'Festival': 1796, 'headquarters': 1797, 'poor': 1798, 'capacity': 1799, 'Arab': 1800, 'transfer': 1801, 'defence': 1802, 'Simon': 1803, 'Attorney': 1804, 'attempted': 1805, 'fears': 1806, 'rebels': 1807, 'crore': 1808, 'huge': 1809, 'scored': 1810, 'parents': 1811, 'Brian': 1812, 'index': 1813, 'coal': 1814, 'trip': 1815, 'Motors': 1816, 'Web': 1817, 'Samsung': 1818, 'protests': 1819, 'gone': 1820, 'western': 1821, 'Sir': 1822, 'hundreds': 1823, 'Stewart': 1824, 'Gordon': 1825, 'II': 1826, 'quit': 1827, 'rock': 1828, 'distribution': 1829, 'enter': 1830, 'Affairs': 1831, 'impact': 1832, 'Post': 1833, 'Santa': 1834, 'rescue': 1835, 'Sox': 1836, 'ministry': 1837, 'Food': 1838, 'green': 1839, 'Ukraine': 1840, 'landing': 1841, 'Community': 1842, 'debate': 1843, 'families': 1844, 'sanctions': 1845, 'placed': 1846, 'Cleveland': 1847, 'vice': 1848, 'Jason': 1849, 'steps': 1850, 'brain': 1851, 'Life': 1852, 'cell': 1853, 'Music': 1854, 'struggling': 1855, 'swine': 1856, 'value': 1857, 'La': 1858, 'Charles': 1859, 'Series': 1860, 'die': 1861, 'Punjab': 1862, 'flood': 1863, 'cast': 1864, 'USA': 1865, 'friends': 1866, 'Thomas': 1867, 'employee': 1868, 'helping': 1869, 'Rick': 1870, 'grow': 1871, 'ambassador': 1872, 'teen': 1873, 'strikes': 1874, 'recovering': 1875, 'solution': 1876, 'joining': 1877, 'rain': 1878, 'chance': 1879, 'plants': 1880, 'Allen': 1881, 'pick': 1882, 'Fame': 1883, 'Education': 1884, 'cents': 1885, 'breaks': 1886, 'bills': 1887, 'expectations': 1888, 'regular': 1889, 'expecting': 1890, 'minutes': 1891, 'goal': 1892, 'safe': 1893, 'tests': 1894, 'lawmakers': 1895, 'Olympics': 1896, 'spend': 1897, 'terror': 1898, 'aimed': 1899, 'Swiss': 1900, 'application': 1901, 'Kennedy': 1902, 'Sarah': 1903, 'Tennessee': 1904, 'Authorities': 1905, 'Moscow': 1906, 'unveils': 1907, 'cities': 1908, 'content': 1909, 'send': 1910, 'song': 1911, 'farmers': 1912, 'doctors': 1913, 'sharply': 1914, 'really': 1915, 'youth': 1916, 'Wayne': 1917, 'Cameron': 1918, 'AP': 1919, 'sexually': 1920, 'increases': 1921, 'extend': 1922, 'expands': 1923, 'venture': 1924, 'didn': 1925, 'activity': 1926, 'researchers': 1927, 'marijuana': 1928, 'seat': 1929, '70': 1930, 'tackle': 1931, 'Scotland': 1932, 'zone': 1933, 'disabled': 1934, 'climate': 1935, 'BBC': 1936, 'carrying': 1937, 'decade': 1938, 'failure': 1939, 'Bieber': 1940, 'church': 1941, 'progress': 1942, 'strategy': 1943, 'attend': 1944, 'citizens': 1945, 'customer': 1946, 'Technologies': 1947, 'BJP': 1948, 'destroyed': 1949, 'setting': 1950, 'stars': 1951, 'Fund': 1952, 'toward': 1953, 'battery': 1954, 'Hamilton': 1955, 'always': 1956, 'Dutch': 1957, 'terrorism': 1958, 'add': 1959, 'closes': 1960, 'Jack': 1961, 'Anthony': 1962, 'drivers': 1963, 'appoints': 1964, 'Best': 1965, 'vs': 1966, 'politics': 1967, 'snow': 1968, 'developed': 1969, 'elderly': 1970, 'crimes': 1971, 'allegations': 1972, 'Jessica': 1973, 'spent': 1974, 'schedule': 1975, 'subsidiary': 1976, 'Network': 1977, 'discovered': 1978, 'Islamic': 1979, 'longer': 1980, 'able': 1981, 'Mitt': 1982, 'view': 1983, 'fan': 1984, 'Guard': 1985, 'Victoria': 1986, 'prevent': 1987, 'denies': 1988, 'leadership': 1989, 'But': 1990, 'Sony': 1991, 'Arsenal': 1992, 'Idol': 1993, 'poll': 1994, 'Stocks': 1995, 'Six': 1996, 'shop': 1997, 'Family': 1998, 'Avenue': 1999, 'posts': 2000, 'patent': 2001, 'Elizabeth': 2002, 'warns': 2003, 'Brazilian': 2004, 'defensive': 2005, 'Orleans': 2006, 'brother': 2007, 'activities': 2008, 'Systems': 2009, 'failing': 2010, 'investor': 2011, 'outlook': 2012, 'Zimbabwe': 2013, 'Davis': 2014, 'throughout': 2015, 'auction': 2016, 'Muslim': 2017, 'file': 2018, 'receiver': 2019, 'films': 2020, 'expansion': 2021, 'complete': 2022, 'Assembly': 2023, 'Patrick': 2024, 'approves': 2025, 'lawyer': 2026, 'things': 2027, 'firms': 2028, 'friendly': 2029, 'loses': 2030, 'experts': 2031, 'thought': 2032, 'seized': 2033, 'campus': 2034, 'declares': 2035, 'threatening': 2036, 'created': 2037, 'stimulus': 2038, 'deputy': 2039, 'Gaga': 2040, 'millions': 2041, 'Jose': 2042, 'cover': 2043, 'concern': 2044, 'Kentucky': 2045, 'activist': 2046, 'consumers': 2047, 'reveals': 2048, 'computer': 2049, 'offices': 2050, 'stabbing': 2051, 'generation': 2052, 'Jr': 2053, 'gain': 2054, 'severe': 2055, 'Brad': 2056, 'Eastern': 2057, 'Navy': 2058, 'closer': 2059, 'allowed': 2060, 'complex': 2061, 'N': 2062, 'championship': 2063, 'Stephen': 2064, 'Act': 2065, 'Township': 2066, 'ongoing': 2067, 'Cole': 2068, 'Democrats': 2069, 'lives': 2070, 'Great': 2071, 'Nigeria': 2072, 'motorcycle': 2073, 'mayor': 2074, 'Award': 2075, '1000': 2076, 'Daily': 2077, 'FC': 2078, 'counts': 2079, 'Holdings': 2080, 'Lewis': 2081, 'detained': 2082, 'linked': 2083, 'fires': 2084, 'Deputy': 2085, 'selected': 2086, 'visited': 2087, 'deadly': 2088, 'taxes': 2089, 'built': 2090, 'finds': 2091, 'previously': 2092, 'developing': 2093, 'cloud': 2094, '80': 2095, 'professional': 2096, 'sentence': 2097, 'farm': 2098, 'promote': 2099, 'Qatar': 2100, 'Daniel': 2101, 'appears': 2102, 'happy': 2103, 'internet': 2104, 'providing': 2105, 'serve': 2106, 'Wales': 2107, 'My': 2108, 'clear': 2109, 'identified': 2110, 'E': 2111, 'DC': 2112, 'sending': 2113, 'purchase': 2114, 'disaster': 2115, 'advanced': 2116, 'island': 2117, 'Jordan': 2118, 'consecutive': 2119, 'Arabia': 2120, '35': 2121, 'steel': 2122, '2014': 2123, 'Port': 2124, 'Live': 2125, 'Management': 2126, 'Palin': 2127, 'mission': 2128, 'story': 2129, 'applications': 2130, 'doctor': 2131, 'bonds': 2132, 'wind': 2133, 'extension': 2134, 'possession': 2135, 'Yahoo': 2136, 'export': 2137, 'supplies': 2138, 'dating': 2139, '90': 2140, 'clash': 2141, 'candidates': 2142, 'adds': 2143, 'speech': 2144, 'Journal': 2145, 'Murray': 2146, 'consider': 2147, 'Gary': 2148, 'try': 2149, 'shopping': 2150, 'designed': 2151, 'offensive': 2152, 'tennis': 2153, 'Judge': 2154, 'introduces': 2155, 'breaking': 2156, 'scandal': 2157, 'Russell': 2158, 'laid': 2159, 'Sept': 2160, 'decades': 2161, 'delivery': 2162, 'web': 2163, 'appearance': 2164, 'honored': 2165, 'expanding': 2166, 'Mexican': 2167, 'significant': 2168, 'auto': 2169, 'Hurricane': 2170, 'El': 2171, 'Melbourne': 2172, 'Bowl': 2173, 'fees': 2174, 'feel': 2175, 'ice': 2176, 'beats': 2177, 'd': 2178, 'analysts': 2179, 'Technology': 2180, 'speed': 2181, 'settlement': 2182, 'Men': 2183, 'confirms': 2184, 'Major': 2185, 'serving': 2186, 'speak': 2187, 'Christian': 2188, 'hired': 2189, 'rule': 2190, 'Pradesh': 2191, 'reality': 2192, 'overseas': 2193, 'Vietnam': 2194, 'app': 2195, 'organization': 2196, 'agree': 2197, 'C': 2198, 'awards': 2199, 'assistant': 2200, 'Time': 2201, 'justice': 2202, 'refused': 2203, 'mid': 2204, 'Indians': 2205, 'receiving': 2206, 'pilot': 2207, 'War': 2208, 'hosting': 2209, 'expanded': 2210, '300': 2211, 'infrastructure': 2212, 'pounds': 2213, 'beaten': 2214, 'Nick': 2215, 'claiming': 2216, 'majority': 2217, 'ratings': 2218, 'Philippines': 2219, 'homicide': 2220, 'Hills': 2221, 'channel': 2222, 'Egyptian': 2223, 'done': 2224, 'Top': 2225, 'resigned': 2226, 'success': 2227, 'CBS': 2228, 'boys': 2229, 'NEW': 2230, 'Country': 2231, 'Phoenix': 2232, 'Tamil': 2233, 'Beckham': 2234, 'assaulting': 2235, 'Executive': 2236, 'apparently': 2237, 'Oklahoma': 2238, 'undergo': 2239, 'granted': 2240, 'Factor': 2241, 'extends': 2242, 'duty': 2243, 'activists': 2244, 'continuing': 2245, 'agencies': 2246, 'urges': 2247, 'alcohol': 2248, 'box': 2249, 'wake': 2250, 'license': 2251, 'recovered': 2252, 'terrorist': 2253, 'Fargo': 2254, 'hands': 2255, 'deliver': 2256, 'Stars': 2257, 'historic': 2258, 'Entertainment': 2259, 'summit': 2260, 'Nokia': 2261, 'Giants': 2262, 'polls': 2263, 'heading': 2264, 'numbers': 2265, 'evidence': 2266, 'Campbell': 2267, 'announcement': 2268, 'UAE': 2269, 'approval': 2270, 'lowest': 2271, 'Communications': 2272, 'animal': 2273, 'tough': 2274, 'experience': 2275, 'Authority': 2276, 'Adam': 2277, 'treated': 2278, 'overall': 2279, 'Nelson': 2280, 'fair': 2281, 'diagnosed': 2282, 'burglary': 2283, 'Reuters': 2284, 'cross': 2285, 'ensure': 2286, 'relief': 2287, 'threats': 2288, 'Moore': 2289, 'successfully': 2290, 'P': 2291, 'Pattinson': 2292, 'aged': 2293, 'Alabama': 2294, 'units': 2295, 'voting': 2296, 'works': 2297, 'Venezuela': 2298, 'changed': 2299, 'collision': 2300, 'firefighters': 2301, 'Amy': 2302, 'bar': 2303, 'Sun': 2304, 'ruling': 2305, 'Wilson': 2306, 'comments': 2307, 'Motor': 2308, 'Cape': 2309, 'Defense': 2310, 'Tata': 2311, 'advertising': 2312, 'J': 2313, 'Defence': 2314, 'improved': 2315, 'Iraqi': 2316, 'ring': 2317, 'pop': 2318, 'hosts': 2319, 'bought': 2320, 'negative': 2321, 'Memorial': 2322, 'resign': 2323, '75': 2324, 'democracy': 2325, 'speculation': 2326, 'sees': 2327, 'Trade': 2328, 'Commerce': 2329, 'bridge': 2330, 'pro': 2331, 'Cuba': 2332, 'helicopter': 2333, 'suspicion': 2334, '45': 2335, 'produce': 2336, 'plea': 2337, 'Some': 2338, 'When': 2339, 'design': 2340, 'pace': 2341, 'Hillary': 2342, 'Ghana': 2343, 'dealers': 2344, 'Long': 2345, 'Senior': 2346, 'Consumer': 2347, 'visiting': 2348, 'Bulgaria': 2349, 'kept': 2350, 'Falls': 2351, 'cocaine': 2352, 'Kyrgyzstan': 2353, 'streets': 2354, 'Rihanna': 2355, 'Denver': 2356, 'update': 2357, 'Tokyo': 2358, 'stronger': 2359, 'born': 2360, 'shareholders': 2361, 'surprise': 2362, 'Market': 2363, 'rare': 2364, 'tree': 2365, 'Euro': 2366, 'hot': 2367, 'electricity': 2368, 'appeared': 2369, 'kids': 2370, 'Resources': 2371, 'facilities': 2372, 'scientists': 2373, 'questions': 2374, 'satellite': 2375, 'pitcher': 2376, 'let': 2377, 'devices': 2378, 'sea': 2379, 'Pittsburgh': 2380, 'Foundation': 2381, 'herself': 2382, 'rejected': 2383, 'Human': 2384, 'challenges': 2385, 'parking': 2386, 'Another': 2387, 'toll': 2388, 'Nifty': 2389, 'art': 2390, 'passengers': 2391, 'question': 2392, 'Prix': 2393, 'ABC': 2394, 'hope': 2395, 'amount': 2396, 'passenger': 2397, 'Android': 2398, 'panel': 2399, 'metal': 2400, 'itself': 2401, 'drops': 2402, 'newly': 2403, 'shoot': 2404, 'Cross': 2405, 'believed': 2406, 'Stanley': 2407, 'wrong': 2408, 'Sudan': 2409, 'contracts': 2410, 'immigration': 2411, 'middle': 2412, 'tourism': 2413, 'reaches': 2414, 'territory': 2415, 'golf': 2416, 'Cricket': 2417, 'message': 2418, 'crew': 2419, 'assaulted': 2420, 'attorney': 2421, 'chase': 2422, 'feature': 2423, 'sites': 2424, 'hire': 2425, 'Myanmar': 2426, 'Lebanon': 2427, 'iPad': 2428, 'located': 2429, 'options': 2430, 'Sea': 2431, 'Gandhi': 2432, 'Golden': 2433, 'Massachusetts': 2434, 'supports': 2435, 'Miller': 2436, 'stated': 2437, 'stroke': 2438, 'sixth': 2439, 'kicked': 2440, 'advisory': 2441, 'violent': 2442, 'Austin': 2443, 'Catholic': 2444, 'author': 2445, 'ministers': 2446, 'immediate': 2447, 'Online': 2448, 'Game': 2449, 'Jon': 2450, 'phones': 2451, 'Students': 2452, 'fellow': 2453, '400': 2454, 'becomes': 2455, 'nomination': 2456, 'laws': 2457, 'engine': 2458, 'Economic': 2459, 'communications': 2460, 'buys': 2461, 'begun': 2462, 'carbon': 2463, 'shoulder': 2464, 'missed': 2465, 'formally': 2466, 'Social': 2467, 'Officer': 2468, 'embassy': 2469, 'device': 2470, 'Film': 2471, 'Yemen': 2472, 'status': 2473, 'legislation': 2474, 'Frank': 2475, 'provides': 2476, 'Harris': 2477, 'Michelle': 2478, 'wounded': 2479, 'Labour': 2480, 'weight': 2481, 'broadband': 2482, 'targets': 2483, 'weekly': 2484, 'lifted': 2485, 'proposal': 2486, 'Jay': 2487, 'rehab': 2488, 'grant': 2489, 'agents': 2490, '150': 2491, 'Milwaukee': 2492, 'testing': 2493, 'Regional': 2494, 'lending': 2495, 'Spears': 2496, 'twice': 2497, 'backed': 2498, 'Anna': 2499, 'votes': 2500, 'push': 2501, 'dangerous': 2502, 'Atlantic': 2503, 'causes': 2504, 'Yankees': 2505, 'Children': 2506, 'Windows': 2507, 'mine': 2508, 'policies': 2509, 'environment': 2510, 'Forest': 2511, 'Law': 2512, 'famous': 2513, 'details': 2514, 'payment': 2515, 'Libyan': 2516, 'keeping': 2517, 'Division': 2518, 'Scottish': 2519, 'mail': 2520, 'fully': 2521, 'Oregon': 2522, 'floor': 2523, 'Insurance': 2524, 'deals': 2525, 'nominated': 2526, 'rural': 2527, 'Formula': 2528, 'spotted': 2529, 'comedy': 2530, 'output': 2531, 'Express': 2532, 'rupee': 2533, 'screen': 2534, 'recover': 2535, 'rivals': 2536, 'Sensex': 2537, 'Singer': 2538, 'Jerry': 2539, 'hitting': 2540, 'recalls': 2541, 'affected': 2542, '32': 2543, 'parliamentary': 2544, 'environmental': 2545, 'spread': 2546, 'lack': 2547, 'Limited': 2548, 'clean': 2549, 'Labor': 2550, 'white': 2551, 'Jimmy': 2552, 'Now': 2553, 'offender': 2554, 'Eric': 2555, 'Field': 2556, 'photo': 2557, 'Newcastle': 2558, 'goods': 2559, 'pass': 2560, 'combat': 2561, 'enters': 2562, 'Industries': 2563, 'certain': 2564, 'Utah': 2565, 'Ontario': 2566, 'apparent': 2567, 'letter': 2568, 'USD': 2569, 'stations': 2570, 'tells': 2571, 'yen': 2572, 'Baltimore': 2573, 'sued': 2574, 'initial': 2575, 'existing': 2576, 'Car': 2577, 'finish': 2578, 'programs': 2579, 'Metro': 2580, 'sought': 2581, 'drama': 2582, 'Somali': 2583, 'directors': 2584, 'cancelled': 2585, 'delegation': 2586, 'BP': 2587, 'Cheryl': 2588, 'reduced': 2589, 'religious': 2590, 'electric': 2591, 'Girl': 2592, 'semi': 2593, 'welcome': 2594, 'bailout': 2595, 'plays': 2596, 'nationwide': 2597, 'Britney': 2598, 'studio': 2599, 'regarding': 2600, 'Writer': 2601, 'Roger': 2602, 'Broadway': 2603, 'agrees': 2604, 'If': 2605, 'Orange': 2606, 'highly': 2607, 'Treasury': 2608, 'Sam': 2609, 'ill': 2610, 'option': 2611, 'assistance': 2612, 'Chapter': 2613, 'Katie': 2614, 'handed': 2615, 'Tampa': 2616, 'Gas': 2617, 'artist': 2618, 'resigns': 2619, 'collection': 2620, 'stopped': 2621, 'heat': 2622, 'Channel': 2623, 'paper': 2624, 'university': 2625, 'hurt': 2626, 'putting': 2627, 'secure': 2628, 'missile': 2629, 'Kumar': 2630, 'Wells': 2631, 'Boy': 2632, 'fine': 2633, 'patient': 2634, 'traded': 2635, 'lines': 2636, 'Demi': 2637, 'Abu': 2638, 'lift': 2639, 'thanks': 2640, 'suffers': 2641, 'filing': 2642, 'vowed': 2643, 'strength': 2644, 'Who': 2645, 'instead': 2646, 'coalition': 2647, 'Team': 2648, 'Pennsylvania': 2649, 'Palm': 2650, 'Buffalo': 2651, 'Special': 2652, 'presence': 2653, 'Madonna': 2654, 'traders': 2655, 'Sheen': 2656, 'Pope': 2657, 'strengthen': 2658, 'recalled': 2659, 'Jeff': 2660, 'ranked': 2661, 'shown': 2662, 'super': 2663, 'hoping': 2664, 'rather': 2665, 'Carlos': 2666, 'roads': 2667, 'Mountain': 2668, 'Argentina': 2669, 'resources': 2670, 'Tigers': 2671, 'removed': 2672, 'Goldman': 2673, 'Anderson': 2674, 'champions': 2675, 'manslaughter': 2676, 'journalist': 2677, 'check': 2678, 'turning': 2679, 'Mary': 2680, 'creating': 2681, 'cards': 2682, 'honor': 2683, 'celebrating': 2684, 'Ron': 2685, 'penalty': 2686, 'Orlando': 2687, 'wireless': 2688, 'Thailand': 2689, 'Howard': 2690, 'style': 2691, 'Lions': 2692, 'Sabha': 2693, 'Zardari': 2694, 'Steel': 2695, 'Most': 2696, 'expect': 2697, 'Society': 2698, 'powerful': 2699, 'portfolio': 2700, 'pair': 2701, 'Warren': 2702, 'dialogue': 2703, 'Edwards': 2704, 'Qaeda': 2705, 'include': 2706, 'note': 2707, 'teenager': 2708, 'preparing': 2709, 'eye': 2710, 'arms': 2711, 'pays': 2712, 'presented': 2713, 'fact': 2714, 'Angelina': 2715, 'Vancouver': 2716, 'Despite': 2717, 'diplomatic': 2718, 'asks': 2719, 'residential': 2720, 'Arts': 2721, 'Azerbaijani': 2722, 'GOP': 2723, 'cabinet': 2724, 'Jolie': 2725, 'Swedish': 2726, 'reporters': 2727, 'franchise': 2728, 'Katy': 2729, 'partners': 2730, 'Index': 2731, 'limited': 2732, 'Kazakhstan': 2733, 'Commissioner': 2734, 'listed': 2735, 'basis': 2736, 'secret': 2737, 'Veteran': 2738, 'trend': 2739, 'negotiations': 2740, 'invited': 2741, 'supporters': 2742, 'helps': 2743, 'entire': 2744, 'Radio': 2745, 'notes': 2746, 'considered': 2747, 'incidents': 2748, 'alive': 2749, 'Tech': 2750, 'Simpson': 2751, 'assembly': 2752, 'jumped': 2753, 'bodies': 2754, 'prisoners': 2755, 'Biden': 2756, 'electronic': 2757, 'slow': 2758, 'storage': 2759, 'extra': 2760, 'elect': 2761, 'settle': 2762, 'Dakota': 2763, 'medal': 2764, 'Alaska': 2765, 'Mississippi': 2766, 'regime': 2767, 'Bureau': 2768, 'asking': 2769, 'bin': 2770, 'Springs': 2771, 'pirates': 2772, 'branch': 2773, 'conflict': 2774, 'Penn': 2775, 'pool': 2776, 'comeback': 2777, 'Water': 2778, 'ankle': 2779, 'themselves': 2780, 'tickets': 2781, 'voice': 2782, 'financing': 2783, 'W': 2784, 'Baseball': 2785, 'Thousands': 2786, 'Foods': 2787, 'Republicans': 2788, 'conducted': 2789, 'welcomed': 2790, 'Rio': 2791, 'stable': 2792, 'drinking': 2793, 'fatally': 2794, 'Square': 2795, 'virus': 2796, 'Galaxy': 2797, 'tourists': 2798, 'monthly': 2799, 'approximately': 2800, 'Cabinet': 2801, 'ways': 2802, 'Securities': 2803, 'Bahrain': 2804, 'Pitt': 2805, 'Oakland': 2806, 'deaths': 2807, 'steady': 2808, 'Sachs': 2809, '600': 2810, 'Phil': 2811, 'Marine': 2812, '2000': 2813, 'advance': 2814, '/': 2815, 'informed': 2816, 'betting': 2817, 'places': 2818, 'Malaysian': 2819, 'musical': 2820, 'entertainment': 2821, 'explosion': 2822, 'demands': 2823, 'homeless': 2824, '10000': 2825, 'restructuring': 2826, 'exclusive': 2827, 'dedicated': 2828, 'repair': 2829, 'Seven': 2830, 'breast': 2831, 'postponed': 2832, 'resident': 2833, 'Czech': 2834, 'exercise': 2835, 'Bridge': 2836, 'renewed': 2837, 'healthy': 2838, 'Disney': 2839, 'pull': 2840, 'ticket': 2841, 'delayed': 2842, 'Birmingham': 2843, 'contact': 2844, 'evacuated': 2845, 'felt': 2846, 'NSW': 2847, 'matches': 2848, 'pension': 2849, 'Credit': 2850, 'complaint': 2851, 'Theatre': 2852, 'Serbia': 2853, 'Chrysler': 2854, 'technical': 2855, 'opener': 2856, 'investments': 2857, 'especially': 2858, 'population': 2859, 'fear': 2860, 'feet': 2861, 'goals': 2862, 'opportunities': 2863, 'Hamas': 2864, 'Standard': 2865, 'payments': 2866, 'Columbus': 2867, 'initiative': 2868, 'NBC': 2869, 'Connecticut': 2870, 'Old': 2871, 'Josh': 2872, 'Shanghai': 2873, 'Pro': 2874, 'coverage': 2875, 'movement': 2876, 'Little': 2877, 'journalists': 2878, 'bilateral': 2879, 'confident': 2880, 'declined': 2881, 'window': 2882, 'Palestinians': 2883, 'Classic': 2884, 'factory': 2885, 'self': 2886, 'Partners': 2887, 'NHL': 2888, 'While': 2889, 'fishing': 2890, 'ad': 2891, 'Madison': 2892, 'Dollar': 2893, 'communities': 2894, 'Weather': 2895, 'preliminary': 2896, 'van': 2897, 'buildings': 2898, 'noon': 2899, 'suspends': 2900, 'retired': 2901, 'fee': 2902, 'notice': 2903, 'healthcare': 2904, 'Arkansas': 2905, 'NY': 2906, 'Pop': 2907, 'Miss': 2908, 'miles': 2909, 'raid': 2910, 'sentiment': 2911, 'tonnes': 2912, 'collapsed': 2913, 'request': 2914, 'Columbia': 2915, 'Information': 2916, 'Administration': 2917, 'Edward': 2918, 'provided': 2919, 'smartphone': 2920, 'suspects': 2921, 'dogs': 2922, 'Hudson': 2923, 'teenage': 2924, 'Associated': 2925, 'recorded': 2926, 'participate': 2927, 'arm': 2928, 'matter': 2929, 'Kings': 2930, 'false': 2931, 'probe': 2932, 'Portland': 2933, 'rugby': 2934, 'busy': 2935, 'native': 2936, 'expert': 2937, 'ease': 2938, 'society': 2939, 'Ambassador': 2940, 'Switzerland': 2941, 'weaker': 2942, 'targeting': 2943, 'Why': 2944, 'true': 2945, 'jet': 2946, 'gang': 2947, 'Chavez': 2948, 'sends': 2949, 'Boeing': 2950, 'hospitals': 2951, 'Software': 2952, 'expressed': 2953, 'Steven': 2954, 'residence': 2955, 'illness': 2956, 'battling': 2957, 'emerging': 2958, 'mass': 2959, 'fit': 2960, 'finished': 2961, '*': 2962, 'Price': 2963, 'outstanding': 2964, 'Ray': 2965, 'escaped': 2966, 'Bulgarian': 2967, 'pain': 2968, 'Warner': 2969, 'Queensland': 2970, 'managed': 2971, 'movies': 2972, 'cancels': 2973, 'introduce': 2974, 'Buy': 2975, 'Kristen': 2976, 'Trust': 2977, 'Hundreds': 2978, 'drunk': 2979, 'terrorists': 2980, 'carry': 2981, 'Drug': 2982, 'performing': 2983, 'worked': 2984, 'networking': 2985, 'Bristol': 2986, 'rushed': 2987, 'Antonio': 2988, 'Stone': 2989, 'Andre': 2990, 'celebrity': 2991, 'scene': 2992, 'Cooper': 2993, 'transport': 2994, 'prosecutors': 2995, 'Winehouse': 2996, 'canceled': 2997, 'Leader': 2998, '65': 2999, 'estimates': 3000, 'documents': 3001, 'writer': 3002, 'searching': 3003, 'winds': 3004, 'probation': 3005, 'Celebrity': 3006, 'heads': 3007, 'Sean': 3008, 'Mac': 3009, 'onto': 3010, 'Just': 3011, 'figure': 3012, 'merger': 3013, 'although': 3014, 'scam': 3015, '33': 3016, 'dance': 3017, 'page': 3018, 'learn': 3019, 'resolution': 3020, 'invasion': 3021, 'Louisiana': 3022, 'registered': 3023, 'Ocean': 3024, 'Johnny': 3025, 'active': 3026, 'insists': 3027, 'wait': 3028, 'Henry': 3029, 'doors': 3030, 'Sweden': 3031, 'standards': 3032, 'Haiti': 3033, 'supplier': 3034, 'sheriff': 3035, 'pornography': 3036, 'tested': 3037, 'bit': 3038, 'nothing': 3039, 'welcomes': 3040, 'Industry': 3041, 'hike': 3042, 'Week': 3043, 'hosted': 3044, 'Eagles': 3045, 'defend': 3046, 'premier': 3047, 'chemical': 3048, 'sworn': 3049, 'seems': 3050, 'import': 3051, 'Telecom': 3052, 'remove': 3053, 'troubled': 3054, 'waiting': 3055, 'march': 3056, '34': 3057, 'trafficking': 3058, 'immediately': 3059, 'touch': 3060, 'paying': 3061, 'Clark': 3062, 'institutions': 3063, 'Don': 3064, 'CNN': 3065, 'waste': 3066, 'tender': 3067, 'walk': 3068, 'Amazon': 3069, 'sharp': 3070, 'Space': 3071, 'tell': 3072, 'analyst': 3073, '5000': 3074, 'specialist': 3075, 'YouTube': 3076, 'Bruce': 3077, 'Democrat': 3078, 'Jewish': 3079, 'ran': 3080, 'announcing': 3081, 'targeted': 3082, 'Franklin': 3083, 'river': 3084, 'Cuban': 3085, 'tons': 3086, '―': 3087, 'compete': 3088, 'difficult': 3089, 'tied': 3090, 'SA': 3091, 'AG': 3092, 'stole': 3093, 'Lincoln': 3094, 'tight': 3095, 'Van': 3096, 'personnel': 3097, 'reforms': 3098, 'Love': 3099, 'Charlotte': 3100, 'shortage': 3101, 'threatens': 3102, 'clients': 3103, 'enforcement': 3104, '41': 3105, 'So': 3106, 'horse': 3107, 'Neil': 3108, 'Maryland': 3109, 'crews': 3110, 'follow': 3111, 'engineering': 3112, 'Scientists': 3113, 'LLC': 3114, 'includes': 3115, 'superstar': 3116, 'normal': 3117, 'temporary': 3118, 'businessman': 3119, 'Patrol': 3120, 'Dan': 3121, 'assigned': 3122, 'acting': 3123, 'hockey': 3124, 'Small': 3125, 'kidnapped': 3126, 'kicks': 3127, 'escape': 3128, 'exhibition': 3129, 'Rugby': 3130, 'Area': 3131, 'Night': 3132, 'Kenya': 3133, 'Indonesian': 3134, 'Us': 3135, 'BC': 3136, 'drowned': 3137, 'ten': 3138, 'Belarus': 3139, 'Ukrainian': 3140, 'marry': 3141, 'male': 3142, 'Craig': 3143, 'alert': 3144, 'something': 3145, 'features': 3146, 'produced': 3147, 'Manmohan': 3148, 'Officials': 3149, 'processing': 3150, 'Creek': 3151, 'blow': 3152, 'fallen': 3153, 'gunpoint': 3154, 'Dancing': 3155, 'Lawrence': 3156, 'Maria': 3157, 'Barclays': 3158, 'Lankan': 3159, 'proud': 3160, 'engagement': 3161, 'cold': 3162, 'highway': 3163, 'Shah': 3164, 'aims': 3165, 'arrive': 3166, 'estimated': 3167, 'suspension': 3168, 'display': 3169, 'rocket': 3170, 'faced': 3171, 'Terry': 3172, 'Inter': 3173, 'picked': 3174, 'deadline': 3175, 'Ed': 3176, 'clashes': 3177, 'benchmark': 3178, 'designer': 3179, 'Private': 3180, 'fastest': 3181, 'dismissed': 3182, 'Intel': 3183, 'persons': 3184, 'learned': 3185, 'Free': 3186, 'Masters': 3187, 'means': 3188, 'alliance': 3189, 'bear': 3190, 'slowdown': 3191, 'commitment': 3192, 'feeling': 3193, 'greater': 3194, 'nations': 3195, '10th': 3196, 'allowing': 3197, 'Statistics': 3198, 'suing': 3199, 'NCAA': 3200, 'delay': 3201, 'fake': 3202, 'Alexander': 3203, 'lay': 3204, 'Interior': 3205, 'smoking': 3206, 'defended': 3207, 'decide': 3208, 'suggested': 3209, 'positions': 3210, 'edition': 3211, 'delays': 3212, 'hall': 3213, '37': 3214, 'killer': 3215, 'Cincinnati': 3216, 'defends': 3217, 'criticism': 3218, 'Billy': 3219, 'restore': 3220, 'utility': 3221, 'Cowell': 3222, 'Alan': 3223, 'smoke': 3224, 'vows': 3225, 'Robin': 3226, 'LA': 3227, 'imports': 3228, 'supporting': 3229, 'finals': 3230, 'perfect': 3231, 'iron': 3232, 'door': 3233, 'producers': 3234, 'balance': 3235, 'Armenia': 3236, 'accounts': 3237, 'Aniston': 3238, 'commander': 3239, 'rail': 3240, 'Philippine': 3241, 'fixed': 3242, 'maintain': 3243, 'suggests': 3244, 'PM': 3245, 'identity': 3246, 'judges': 3247, 'murdering': 3248, 'improving': 3249, 'Nicolas': 3250, 'Lopez': 3251, 'Way': 3252, 'focused': 3253, 'suit': 3254, 'Speaker': 3255, 'Winter': 3256, 'Miley': 3257, 'Cyrus': 3258, 'Armstrong': 3259, 'arrests': 3260, 'roster': 3261, 'Virgin': 3262, 'Hotel': 3263, 'Mandela': 3264, 'districts': 3265, 'ask': 3266, 'wearing': 3267, 'pipeline': 3268, '100000': 3269, 'Dhabi': 3270, 'Netherlands': 3271, 'Honda': 3272, 'Construction': 3273, 'promotion': 3274, 'warrant': 3275, 'Tottenham': 3276, 'knife': 3277, 'blast': 3278, 'Heavy': 3279, 'approach': 3280, 'location': 3281, 'Hockey': 3282, 'traditional': 3283, '55': 3284, 'undisclosed': 3285, 'featuring': 3286, 'suspicious': 3287, 'performed': 3288, 'Dublin': 3289, 'Nicole': 3290, 'Colombia': 3291, 'Armenian': 3292, 'Cancer': 3293, 'Carter': 3294, 'Barbara': 3295, 'awareness': 3296, 'century': 3297, 'Caribbean': 3298, 'enterprise': 3299, 'Mother': 3300, 'waters': 3301, 'recalling': 3302, 'Station': 3303, 'pound': 3304, 'language': 3305, 'secured': 3306, '2006': 3307, 'premiere': 3308, 'Ferguson': 3309, 'thing': 3310, 'YORK': 3311, 'Networks': 3312, 'books': 3313, 'responsible': 3314, 'Bears': 3315, 'sister': 3316, 'Jobs': 3317, 'isn': 3318, 'Over': 3319, 'maintenance': 3320, 'similar': 3321, 'Bobby': 3322, '42': 3323, 'Jets': 3324, 'beach': 3325, 'Investment': 3326, 'Verizon': 3327, 'UFC': 3328, 'adopted': 3329, 'kick': 3330, 'earned': 3331, 'carried': 3332, 'Watson': 3333, 'Alliance': 3334, 'meetings': 3335, 'Body': 3336, 'hires': 3337, 'jump': 3338, 'Parker': 3339, 'delivered': 3340, 'Jamie': 3341, 'upgraded': 3342, 'deep': 3343, 'Storm': 3344, 'temporarily': 3345, 'hero': 3346, 'Tehran': 3347, 'Manager': 3348, 'resistance': 3349, 'Housing': 3350, 'revenues': 3351, 'offshore': 3352, 'reasons': 3353, 'blamed': 3354, 'speaks': 3355, 'Villa': 3356, 'gained': 3357, 'cited': 3358, 'brings': 3359, 'counties': 3360, 'freedom': 3361, 'happened': 3362, 'Nepal': 3363, 'opportunity': 3364, 'edge': 3365, 'Duke': 3366, 'accept': 3367, 'Head': 3368, 'Thai': 3369, 'withdraws': 3370, 'Jammu': 3371, 'Girls': 3372, 'material': 3373, 'mostly': 3374, 'remaining': 3375, 'violations': 3376, 'pitch': 3377, 'murdered': 3378, 'sport': 3379, 'spill': 3380, 'beyond': 3381, 'comprehensive': 3382, 'trust': 3383, 'forthcoming': 3384, 'Brothers': 3385, 'Wireless': 3386, 'IBM': 3387, 'Cowboys': 3388, 'Hilton': 3389, 'science': 3390, 'Auto': 3391, 'swimming': 3392, 'halt': 3393, 'seasons': 3394, 'flying': 3395, 'often': 3396, 'actually': 3397, 'Drive': 3398, 'threw': 3399, 'hiring': 3400, 'flooding': 3401, 'Nashville': 3402, 'civilians': 3403, 'tie': 3404, 'reaching': 3405, 'Poland': 3406, 'defeated': 3407, 'funeral': 3408, 'parent': 3409, 'securities': 3410, 'intelligence': 3411, 'occurred': 3412, 'mental': 3413, 'crowd': 3414, 'shortly': 3415, 'described': 3416, 'Maine': 3417, 'wild': 3418, 'minute': 3419, 'core': 3420, 'honoured': 3421, 'Good': 3422, 'Jesse': 3423, '48': 3424, 'reserve': 3425, 'nominee': 3426, 'scale': 3427, 'damaged': 3428, 'unions': 3429, '36': 3430, 'Montreal': 3431, 'culture': 3432, 'Pat': 3433, '85': 3434, 'southwest': 3435, 'NASCAR': 3436, 'longtime': 3437, 'influence': 3438, 'FBI': 3439, 'wave': 3440, 'Emirates': 3441, 'Point': 3442, '38': 3443, 'prepare': 3444, 'dream': 3445, 'Reliance': 3446, 'undergoing': 3447, 'registration': 3448, 'Pirates': 3449, 'flag': 3450, 'Land': 3451, 'Hawaii': 3452, 'Chennai': 3453, 'Bradley': 3454, 'Brand': 3455, 'trillion': 3456, 'fail': 3457, 'emerged': 3458, 'till': 3459, 'employment': 3460, 'entry': 3461, 'resignation': 3462, 'Ex': 3463, 'route': 3464, 'items': 3465, 'Benedict': 3466, 'Ricky': 3467, 'euros': 3468, 'Rights': 3469, 'Matthew': 3470, 'Medvedev': 3471, 'image': 3472, 'leak': 3473, 'NASA': 3474, 'seventh': 3475, 'Wood': 3476, 'drunken': 3477, 'ball': 3478, 'Rafael': 3479, 'Delta': 3480, 'Musharraf': 3481, 'cruise': 3482, 'establish': 3483, 'rich': 3484, 'Electric': 3485, '39': 3486, 'dates': 3487, 'Youth': 3488, 'phase': 3489, 'considers': 3490, 'Kolkata': 3491, 'learning': 3492, 'Gujarat': 3493, 'dozens': 3494, 'pushed': 3495, 'cap': 3496, 'Cardinals': 3497, 'Muslims': 3498, 'rookie': 3499, '700': 3500, 'Lama': 3501, '>': 3502, 'accepted': 3503, '72': 3504, 'write': 3505, 'formed': 3506, 'promised': 3507, 'commission': 3508, 'Nevada': 3509, 'drilling': 3510, 'Casey': 3511, 'violating': 3512, 'enhance': 3513, 'ride': 3514, 'God': 3515, 'burning': 3516, 'luxury': 3517, 'Deutsche': 3518, 'table': 3519, 'extending': 3520, 'Retail': 3521, 'improvement': 3522, 'Joseph': 3523, 'moment': 3524, 'northwest': 3525, 'streak': 3526, 'fishermen': 3527, 'Firefighters': 3528, 'competitive': 3529, 'prepared': 3530, 'HP': 3531, 'standing': 3532, 'Mets': 3533, 'names': 3534, 'marks': 3535, 'Mortgage': 3536, 'tries': 3537, 'measure': 3538, 'bars': 3539, 'Roberts': 3540, 'classes': 3541, 'Banks': 3542, 'Indianapolis': 3543, 'landed': 3544, 'savings': 3545, 'Sarkozy': 3546, 'fighter': 3547, 'Fitch': 3548, 'written': 3549, 'Roy': 3550, 'Sky': 3551, 'word': 3552, 'labor': 3553, 'Motorola': 3554, 'shoots': 3555, 'risks': 3556, 'grew': 3557, '1.5': 3558, 'Kerala': 3559, 'AC': 3560, 'sides': 3561, 'downgraded': 3562, 'agreements': 3563, 'Asif': 3564, 'outfielder': 3565, 'Nigerian': 3566, 'cable': 3567, 'shots': 3568, 'struggle': 3569, 'marking': 3570, 'quickly': 3571, 'kidnapping': 3572, 'Museum': 3573, 'Colombian': 3574, 'respect': 3575, 'email': 3576, 'Sunderland': 3577, 'restored': 3578, 'neighborhood': 3579, 'condemned': 3580, 'Civil': 3581, 'Fla': 3582, 'cargo': 3583, 'Earth': 3584, 'representative': 3585, 'Bond': 3586, 'Ian': 3587, 'reporter': 3588, 'Spring': 3589, 'dealer': 3590, 'easy': 3591, 'forum': 3592, 'retiring': 3593, 'tensions': 3594, 'Carl': 3595, 'strongly': 3596, 'currencies': 3597, 'plead': 3598, 'Bengal': 3599, 'Nebraska': 3600, 'episode': 3601, 'Dodgers': 3602, 'unchanged': 3603, 'sparked': 3604, 'endorses': 3605, 'compensation': 3606, 'About': 3607, 'Danny': 3608, 'Reid': 3609, 'infection': 3610, 'scores': 3611, 'Dow': 3612, 'organizations': 3613, 'Silver': 3614, 'recording': 3615, 'Last': 3616, 'roll': 3617, '49': 3618, 'imposed': 3619, 'pilots': 3620, 'upon': 3621, 'III': 3622, 'Larry': 3623, 'bound': 3624, 'asset': 3625, 'Liam': 3626, 'Dalai': 3627, 'arson': 3628, 'inmate': 3629, 'withdraw': 3630, 'adults': 3631, 'Brandon': 3632, 'talking': 3633, 'Kapoor': 3634, 'Kuwait': 3635, 'stepping': 3636, 'integrated': 3637, 'Kosovo': 3638, 'entering': 3639, 'quits': 3640, 'AM': 3641, 'tourist': 3642, 'Patriots': 3643, 'changing': 3644, 'Cruise': 3645, 'sure': 3646, 'trailer': 3647, 'athletes': 3648, 'reopen': 3649, 'visa': 3650, 'exit': 3651, 'boxing': 3652, 'Collins': 3653, 'Cyprus': 3654, 'rallied': 3655, 'raped': 3656, 'alone': 3657, 'fitness': 3658, 'grants': 3659, 'Hughes': 3660, 'demanded': 3661, 'Agriculture': 3662, 'ESPN': 3663, 'lineup': 3664, '76': 3665, 'attention': 3666, 'Swift': 3667, 'Saint': 3668, 'Mukherjee': 3669, 'Opposition': 3670, 'pole': 3671, 'interim': 3672, 'established': 3673, 'seize': 3674, 'Strip': 3675, 'Latin': 3676, 'Graham': 3677, 'powers': 3678, 'kind': 3679, 'directed': 3680, 'MAN': 3681, 'Lakers': 3682, 'Walker': 3683, 'dinner': 3684, 'Aaron': 3685, 'sharing': 3686, 'Georgian': 3687, 'accidentally': 3688, 'anything': 3689, 'bigger': 3690, 'Researchers': 3691, '250': 3692, 'cells': 3693, 'Environment': 3694, 'Montana': 3695, 'captured': 3696, 'BlackBerry': 3697, 'celebration': 3698, 'crossing': 3699, 'twins': 3700, 'clinic': 3701, 'worse': 3702, 'camera': 3703, 'Ashley': 3704, 'Lok': 3705, '62': 3706, 'K': 3707, 'Commonwealth': 3708, 'Several': 3709, 'label': 3710, 'Science': 3711, 'Schools': 3712, 'materials': 3713, 'everything': 3714, 'era': 3715, 'drink': 3716, 'familiar': 3717, 'releasing': 3718, 'Lord': 3719, 'Second': 3720, 'Kenny': 3721, 'awaited': 3722, '800': 3723, 'determined': 3724, 'Auckland': 3725, 'pedestrian': 3726, 'memorial': 3727, 'Hampshire': 3728, 'Shane': 3729, 'Hugo': 3730, '47': 3731, 'Fashion': 3732, 'checks': 3733, 'illegally': 3734, 'choice': 3735, 'saved': 3736, 'Mar': 3737, 'size': 3738, 'resort': 3739, 'houses': 3740, 'edged': 3741, 'Interstate': 3742, 'executives': 3743, 'accuses': 3744, 'praised': 3745, 'lender': 3746, 'Sprint': 3747, 'PC': 3748, 'intends': 3749, 'Tyler': 3750, 'racing': 3751, 'misdemeanor': 3752, 'dramatic': 3753, 'Maoists': 3754, 'association': 3755, 'downturn': 3756, 'Ottawa': 3757, 'clubs': 3758, 'During': 3759, 'Dick': 3760, 'starring': 3761, 'Keith': 3762, 'linebacker': 3763, 'operators': 3764, 'wreck': 3765, 'Salman': 3766, 'crackdown': 3767, 'stands': 3768, 'raping': 3769, 'Arena': 3770, 'Dave': 3771, 'defending': 3772, 'Lance': 3773, 'responsibility': 3774, 'lawyers': 3775, 'prize': 3776, 'wear': 3777, 'reason': 3778, 'commodity': 3779, 'abroad': 3780, 'Christina': 3781, 'minimum': 3782, 'Bachchan': 3783, 'Crude': 3784, 'affairs': 3785, 'physical': 3786, 'lakh': 3787, 'Greg': 3788, 'sustained': 3789, 'burned': 3790, 'attacking': 3791, 'firefighter': 3792, 'Romania': 3793, 'broadcast': 3794, 'undergoes': 3795, 'resolve': 3796, 'http': 3797, 'Prize': 3798, 'older': 3799, 'freed': 3800, 'Fiji': 3801, 'Nationals': 3802, 'backs': 3803, 'Bulls': 3804, 'stadium': 3805, 'knocked': 3806, 'silver': 3807, 'Cubs': 3808, 'Budget': 3809, 'controlled': 3810, 'collaboration': 3811, 'rapper': 3812, 'reveal': 3813, 'firing': 3814, 'Idaho': 3815, 'wrote': 3816, 'retailers': 3817, 'buyers': 3818, 'Fair': 3819, 'hip': 3820, 'Aston': 3821, 'talent': 3822, 'Assad': 3823, 'Brother': 3824, 'coaching': 3825, 'included': 3826, 'thrown': 3827, 'diesel': 3828, 'writes': 3829, 'regulators': 3830, 'takeover': 3831, 'railway': 3832, 'Election': 3833, 'highs': 3834, 'Bell': 3835, '#': 3836, 'speaking': 3837, 'Ted': 3838, 'worries': 3839, 'Raiders': 3840, 'icon': 3841, 'encounter': 3842, 'Barry': 3843, 'shipping': 3844, 'profile': 3845, 'fleet': 3846, 'surge': 3847, 'diabetes': 3848, 'innovative': 3849, 'cultural': 3850, 'Gaddafi': 3851, 'technologies': 3852, 'affect': 3853, 'hear': 3854, 'increasingly': 3855, 'presents': 3856, 'whole': 3857, 'anticipated': 3858, 'Project': 3859, 'Federation': 3860, 'everyone': 3861, 'brands': 3862, 'copper': 3863, 'reopened': 3864, 'hair': 3865, 'Village': 3866, 'Holmes': 3867, 'centers': 3868, 'driven': 3869, 'restrictions': 3870, 'unlikely': 3871, 'conviction': 3872, 'Saints': 3873, 'idea': 3874, 'internal': 3875, 'ranks': 3876, 'quoted': 3877, 'publicly': 3878, 'deputies': 3879, 'properties': 3880, 'Annual': 3881, 'electronics': 3882, 'independence': 3883, 'Douglas': 3884, 'senator': 3885, 'exploration': 3886, 'networks': 3887, 'blog': 3888, '3000': 3889, 'Kyle': 3890, 'Kerry': 3891, 'injuring': 3892, 'Rome': 3893, 'score': 3894, 'throwing': 3895, 'veterans': 3896, 'Kanye': 3897, 'probably': 3898, 'collapse': 3899, 'Nadal': 3900, 'Islamabad': 3901, 'unexpectedly': 3902, 'trees': 3903, 'Rooney': 3904, 'Emergency': 3905, 'register': 3906, 'bat': 3907, 'promises': 3908, 'Putin': 3909, 'promoting': 3910, 'Kingdom': 3911, 'Gates': 3912, 'Rose': 3913, 'puts': 3914, 'Wright': 3915, 'Bihar': 3916, 'alternative': 3917, 'plastic': 3918, 'dry': 3919, 'tablet': 3920, 'Child': 3921, 'thinks': 3922, 'refuses': 3923, 'Cairo': 3924, 'demanding': 3925, 'Class': 3926, 'endorsed': 3927, 'permanent': 3928, 'stress': 3929, 'Springfield': 3930, '67': 3931, 'pending': 3932, 'manage': 3933, 'Residents': 3934, 'Chile': 3935, '82': 3936, 'marked': 3937, 'reserves': 3938, 'playoff': 3939, 'Up': 3940, 'port': 3941, 'rebound': 3942, 'Baghdad': 3943, 'passing': 3944, 'walking': 3945, 'lands': 3946, 'drought': 3947, 'FIFA': 3948, 'Perth': 3949, 'softball': 3950, 'square': 3951, 'promoted': 3952, 'classic': 3953, 'milestone': 3954, 'Everton': 3955, 'Chiefs': 3956, 'practices': 3957, 'fish': 3958, '68': 3959, 'pushing': 3960, 'winger': 3961, 'Art': 3962, 'advantage': 3963, 'jets': 3964, 'required': 3965, 'conspiracy': 3966, 'volunteers': 3967, 'trouble': 3968, 'tools': 3969, '2015': 3970, 'producing': 3971, 'poised': 3972, 'seats': 3973, '66': 3974, '51': 3975, 'assignment': 3976, 'Mount': 3977, 'Brisbane': 3978, 'settled': 3979, 'prove': 3980, 'sugar': 3981, 'authority': 3982, 'spokeswoman': 3983, 'served': 3984, 'critically': 3985, 'bike': 3986, 'telling': 3987, 'watching': 3988, 'remarks': 3989, 'someone': 3990, 'conservative': 3991, 'sectors': 3992, 'hander': 3993, 'Vikings': 3994, 'rains': 3995, 'modern': 3996, 'Malik': 3997, 'NC': 3998, 'withdrawn': 3999, 'fly': 4000, 'fails': 4001, 'Abdullah': 4002, 'interests': 4003, 'regulatory': 4004, 'PTI': 4005, 'dealing': 4006, 'tracks': 4007, 'quite': 4008, 'Zuma': 4009, 'sponsor': 4010, 'reduction': 4011, 'original': 4012, 'limits': 4013, 'pleased': 4014, 'MTV': 4015, 'Rogers': 4016, 'pledged': 4017, 'Coach': 4018, 'Rob': 4019, 'Congressman': 4020, 'Dell': 4021, 'loves': 4022, 'crashing': 4023, 'Markets': 4024, 'Grant': 4025, 'insisted': 4026, 'Adams': 4027, 'resumes': 4028, '69': 4029, 'urging': 4030, 'Thompson': 4031, 'suspend': 4032, 'boosted': 4033, 'analysis': 4034, 'momentum': 4035, 'proposes': 4036, 'wage': 4037, 'Under': 4038, 'anyone': 4039, 'Berlin': 4040, 'Fisher': 4041, 'heavyweight': 4042, 'rejects': 4043, 'Kent': 4044, 'appeals': 4045, 'Royals': 4046, 'resumed': 4047, 'read': 4048, 'unique': 4049, 'Celtic': 4050, 'stepped': 4051, 'closure': 4052, 'Mubarak': 4053, 'Marshall': 4054, 'saving': 4055, '64': 4056, 'Natural': 4057, 'Southwest': 4058, 'coordinator': 4059, 'Records': 4060, 'Library': 4061, 'Grove': 4062, 'forecasts': 4063, 'innings': 4064, 'upset': 4065, 'Can': 4066, 'bag': 4067, 'principal': 4068, 'Rochester': 4069, 'Adelaide': 4070, 'shuttle': 4071, 'sues': 4072, 'slammed': 4073, '3D': 4074, 'fun': 4075, 'alongside': 4076, 'Julia': 4077, 'tool': 4078, 'Lebanese': 4079, 'Warriors': 4080, 'Ross': 4081, 'guidance': 4082, 'keen': 4083, 'solo': 4084, 'Jean': 4085, 'elementary': 4086, 'memory': 4087, 'count': 4088, 'trucks': 4089, '44': 4090, 'Capitol': 4091, 'dropping': 4092, 'crack': 4093, 'streaming': 4094, 'mind': 4095, 'regions': 4096, 'photos': 4097, 'Haryana': 4098, 'retires': 4099, 'underwent': 4100, 'Care': 4101, 'article': 4102, '11th': 4103, 'songs': 4104, 'DUI': 4105, 'effects': 4106, 'weapon': 4107, 'communication': 4108, 'Jacksonville': 4109, 'interested': 4110, 'Pete': 4111, 'assist': 4112, 'AFP': 4113, 'eighth': 4114, 'Jeremy': 4115, 'remote': 4116, 'limit': 4117, 'unveil': 4118, 'smart': 4119, 'witnesses': 4120, 'supported': 4121, 'publisher': 4122, 'forcing': 4123, 'tank': 4124, 'gift': 4125, 'possibility': 4126, 'proposals': 4127, 'Pak': 4128, 'commits': 4129, 'lying': 4130, 'foreclosure': 4131, 'workforce': 4132, 'Liberty': 4133, 'buried': 4134, 'brief': 4135, 'Grammy': 4136, 'Ahmadinejad': 4137, 'Susan': 4138, 'Islam': 4139, 'Baby': 4140, 'Dolphins': 4141, 'upgrade': 4142, 'selection': 4143, 'Death': 4144, 'goalkeeper': 4145, 'Anti': 4146, 'Cook': 4147, 'locations': 4148, 'Harper': 4149, 'Braves': 4150, 'Juan': 4151, 'roof': 4152, 'inquiry': 4153, 'Derby': 4154, 'allows': 4155, 'Raza': 4156, 'Karnataka': 4157, 'potentially': 4158, 'branded': 4159, 'faster': 4160, 'Delaware': 4161, 'link': 4162, 'prior': 4163, 'renewable': 4164, 'Mahmoud': 4165, 'humanitarian': 4166, 'Your': 4167, 'chosen': 4168, 'prepares': 4169, 'structure': 4170, 'salary': 4171, 'Tendulkar': 4172, 'Julian': 4173, 'Modi': 4174, 'rollover': 4175, 'standoff': 4176, 'drone': 4177, 'Rachel': 4178, 'direction': 4179, 'advice': 4180, 'provincial': 4181, 'commerce': 4182, 'Gilani': 4183, 'monetary': 4184, 'minority': 4185, 'Crown': 4186, 'Nation': 4187, 'pub': 4188, 'Region': 4189, 'employers': 4190, 'eurozone': 4191, 'MPs': 4192, 'routes': 4193, 'animals': 4194, 'finding': 4195, 'Our': 4196, 'picks': 4197, 'providers': 4198, 'Bryant': 4199, 'hedge': 4200, 'transaction': 4201, 'discrimination': 4202, 'Ravens': 4203, '43': 4204, 'Eight': 4205, 'Sep': 4206, 'Roman': 4207, 'attempts': 4208, 'Jazz': 4209, 'Costa': 4210, 'Palace': 4211, 'junior': 4212, 'prominent': 4213, 'Liberal': 4214, 'Jonathan': 4215, 'Mass': 4216, '74': 4217, 'Venezuelan': 4218, 'declines': 4219, 'involvement': 4220, 'Murphy': 4221, 'inducted': 4222, '63': 4223, 'attempting': 4224, 'trials': 4225, 'adult': 4226, 'privacy': 4227, 'Jacob': 4228, 'Racing': 4229, 'hunting': 4230, 'tropical': 4231, 'counter': 4232, 'Berlusconi': 4233, 'casino': 4234, 'IMF': 4235, '58': 4236, 'affair': 4237, 'Vodafone': 4238, 'updated': 4239, 'G': 4240, 'Knight': 4241, 'managing': 4242, 'revised': 4243, 'knowledge': 4244, 'photographer': 4245, 'Assange': 4246, 'Iron': 4247, 'pulls': 4248, 'misses': 4249, 'Soccer': 4250, 'swept': 4251, 'writing': 4252, 'Mario': 4253, 'prescription': 4254, 'Airbus': 4255, 'stability': 4256, 'earn': 4257, 'baseman': 4258, 'Mason': 4259, 'Elementary': 4260, 'computers': 4261, 'trapped': 4262, 'machine': 4263, 'messages': 4264, 'Leeds': 4265, 'Video': 4266, 'section': 4267, 'Electronics': 4268, 'legislative': 4269, 'NJ': 4270, 'concussion': 4271, 'toddler': 4272, 'Munich': 4273, 'abortion': 4274, 'priority': 4275, 'Jefferson': 4276, 'bans': 4277, 'Diamond': 4278, 'approve': 4279, 'appointment': 4280, 'skipper': 4281, 'volume': 4282, 'arts': 4283, 'Wimbledon': 4284, 'favorite': 4285, 'Middleton': 4286, 'Sacramento': 4287, 'Anne': 4288, 'torn': 4289, 'Portsmouth': 4290, 'Ferrari': 4291, 'addition': 4292, 'Gomez': 4293, 'disappointing': 4294, 'Evans': 4295, 'controversy': 4296, 'replaced': 4297, 'virtual': 4298, 'seed': 4299, 'F': 4300, 'taxi': 4301, 'hanging': 4302, 'Eddie': 4303, 'celebrations': 4304, 'Strauss': 4305, 'Directors': 4306, 'discovery': 4307, 'triple': 4308, 'depression': 4309, 'Heat': 4310, 'discussed': 4311, 'beef': 4312, 'licence': 4313, 'weakened': 4314, 'vessel': 4315, 'Industrial': 4316, 'Sex': 4317, 'visitors': 4318, 'ore': 4319, 'slipped': 4320, 'qualifying': 4321, 'HIV': 4322, 'WikiLeaks': 4323, 'Student': 4324, '71': 4325, 'Abbas': 4326, 'Vatican': 4327, 'standard': 4328, 'individual': 4329, 'Roberto': 4330, 'Rajasthan': 4331, 'judicial': 4332, 'Potter': 4333, 'Solutions': 4334, 'spoke': 4335, 'donated': 4336, 'either': 4337, '53': 4338, 'lady': 4339, 'mutual': 4340, 'grade': 4341, 'cancel': 4342, 'tornado': 4343, 'featured': 4344, 'Salem': 4345, 'Circuit': 4346, 'picture': 4347, 'Phillies': 4348, 'models': 4349, 'Vladimir': 4350, 'links': 4351, 'tracking': 4352, 'outbreak': 4353, 'hole': 4354, 'answer': 4355, 'efficiency': 4356, 'envoy': 4357, '56': 4358, 'Brett': 4359, 'concluded': 4360, 'Lovato': 4361, 'neck': 4362, 'ability': 4363, 'skills': 4364, 'Belgium': 4365, 'blame': 4366, '95': 4367, 'Spencer': 4368, 'Transport': 4369, 'wheat': 4370, 'Christie': 4371, 'opinion': 4372, 'Presidential': 4373, 'character': 4374, 'Jesus': 4375, 'walked': 4376, 'Jays': 4377, 'agriculture': 4378, 'prosecutor': 4379, 'wing': 4380, 'Abdul': 4381, 'defenseman': 4382, 'asylum': 4383, 'guest': 4384, 'tanker': 4385, 'implement': 4386, 'FA': 4387, 'Not': 4388, 'newest': 4389, 'Muhammad': 4390, 'gaming': 4391, 'beauty': 4392, 'holidays': 4393, 'Broncos': 4394, 'lenders': 4395, 'pet': 4396, 'wall': 4397, 'Golf': 4398, 'bomber': 4399, 'Qantas': 4400, 'Tommy': 4401, 'Citigroup': 4402, 'Amanda': 4403, 'Championships': 4404, 'inning': 4405, 'significantly': 4406, 'politicians': 4407, 'tech': 4408, 'Military': 4409, 'Chidambaram': 4410, 'Line': 4411, 'Cambridge': 4412, 'papers': 4413, 'treat': 4414, 'GM': 4415, 'expenses': 4416, 'path': 4417, 'coffee': 4418, 'exposure': 4419, 'type': 4420, 'View': 4421, 'chest': 4422, 'Rodriguez': 4423, 'versus': 4424, 'petrol': 4425, 'shock': 4426, 'restaurants': 4427, 'Yemeni': 4428, 'user': 4429, 'Bangalore': 4430, 'Easter': 4431, 'Memphis': 4432, 'prospects': 4433, 'favourite': 4434, '120': 4435, 'cameras': 4436, 'refinance': 4437, 'hate': 4438, 'fares': 4439, 'prospect': 4440, 'watched': 4441, 'Robinson': 4442, 'Merkel': 4443, 'McCartney': 4444, 'hopeful': 4445, 'topped': 4446, 'kidney': 4447, 'Nine': 4448, 'sovereign': 4449, 'Building': 4450, 'reducing': 4451, 'petition': 4452, 'advised': 4453, 'Trophy': 4454, 'Main': 4455, 'Arnold': 4456, 'performs': 4457, 'shift': 4458, 'courts': 4459, 'sound': 4460, 'feared': 4461, 'concerned': 4462, 'keeps': 4463, 'Martinez': 4464, 'abusing': 4465, 'Forum': 4466, 'Karzai': 4467, 'accepting': 4468, 'drowns': 4469, 'lows': 4470, 'membership': 4471, 'audience': 4472, 'Chancellor': 4473, 'predicted': 4474, 'Norway': 4475, 'counterpart': 4476, 'investigators': 4477, 'seeing': 4478, 'Safety': 4479, 'surrounding': 4480, 'Pentagon': 4481, 'adviser': 4482, 'midnight': 4483, 'labour': 4484, 'Carey': 4485, 'Emma': 4486, 'creation': 4487, 'Property': 4488, 'gap': 4489, '54': 4490, 'slip': 4491, 'managers': 4492, 'Nadu': 4493, 'Heart': 4494, 'Randy': 4495, 'followed': 4496, 'Nissan': 4497, 'Kris': 4498, '50th': 4499, 'vaccine': 4500, 'stops': 4501, 'Browns': 4502, 'rolled': 4503, 'northeast': 4504, 'governments': 4505, 'eating': 4506, 'citizen': 4507, 'austerity': 4508, 'smartphones': 4509, 'possibly': 4510, 'uses': 4511, '73': 4512, '86': 4513, 'porn': 4514, 'Petroleum': 4515, 'Twenty20': 4516, 'string': 4517, 'crucial': 4518, 'equities': 4519, 'telecom': 4520, 'Wellington': 4521, 'respond': 4522, 'Cloud': 4523, 'Store': 4524, 'Nintendo': 4525, 'Reds': 4526, 'Indies': 4527, 'Independent': 4528, 'shops': 4529, 'throws': 4530, 'praises': 4531, 'industries': 4532, 'aggravated': 4533, 'Montgomery': 4534, 'Schwarzenegger': 4535, 'Maharashtra': 4536, 'refugees': 4537, 'sustainable': 4538, 'attract': 4539, 'operate': 4540, 'economies': 4541, 'voluntary': 4542, 'Fed': 4543, 'Timberlake': 4544, 'Solar': 4545, 'throw': 4546, 'sleep': 4547, 'completely': 4548, 'WWE': 4549, 'trades': 4550, 'Somalia': 4551, 'Osbourne': 4552, 'improves': 4553, 'commissioner': 4554, 'mean': 4555, 'ANC': 4556, 'waivers': 4557, 'poverty': 4558, 'apply': 4559, 'Where': 4560, 'catches': 4561, 'Sonia': 4562, 'Triple': 4563, 'APA': 4564, 'clothing': 4565, 'teens': 4566, 'Steelers': 4567, 'adopt': 4568, 'Gibson': 4569, 'greatest': 4570, 'lung': 4571, 'complaints': 4572, 'recognized': 4573, 'Mitchell': 4574, 'slashed': 4575, 'hailed': 4576, 'Syed': 4577, 'Ann': 4578, 'drove': 4579, 'Ten': 4580, 'Organization': 4581, 'regulations': 4582, 'forms': 4583, 'Todd': 4584, 'burn': 4585, 'Phillips': 4586, 'titled': 4587, 'congressional': 4588, '61': 4589, 'HTC': 4590, 'Garden': 4591, 'guards': 4592, 'blasts': 4593, 'Dame': 4594, 'code': 4595, 'Bernanke': 4596, 'storms': 4597, 'confirm': 4598, 'blaze': 4599, 'stranded': 4600, 'Reports': 4601, 'beer': 4602, 'twin': 4603, 'Ham': 4604, 'Chase': 4605, 'Digital': 4606, 'AFL': 4607, 'outdoor': 4608, 'Sharif': 4609, 'identify': 4610, 'websites': 4611, 'overcome': 4612, 'clinical': 4613, 'cruelty': 4614, 'guns': 4615, 'creative': 4616, 'strip': 4617, 'Mugabe': 4618, 'accusing': 4619, 'text': 4620, 'Rahul': 4621, 'aviation': 4622, 'acres': 4623, 'doubles': 4624, 'Heidi': 4625, 'doping': 4626, 'Sachin': 4627, 'Jerusalem': 4628, 'witness': 4629, 'shed': 4630, 'Half': 4631, 'reading': 4632, 'Moss': 4633, 'sue': 4634, 'militant': 4635, 'monitoring': 4636, 'hub': 4637, '50000': 4638, 'tops': 4639, 'clothes': 4640, 'associated': 4641, 'Tribune': 4642, 'wish': 4643, 'coaches': 4644, 'Ken': 4645, 'Del': 4646, 'Louisville': 4647, 'prostitution': 4648, 'Castro': 4649, 'hostage': 4650, 'spokesperson': 4651, '91': 4652, 'plunged': 4653, 'upgrades': 4654, 'sacked': 4655, 'Globe': 4656, 'Sport': 4657, 'Camp': 4658, 'pit': 4659, 'democratic': 4660, 'Report': 4661, 'airlines': 4662, 'looked': 4663, 'Alberta': 4664, '900': 4665, 'Nobel': 4666, 'Bolton': 4667, 'Ronaldo': 4668, 'library': 4669, 'finger': 4670, 'Lily': 4671, 'unrest': 4672, 'championships': 4673, 'Edmonton': 4674, 'bottom': 4675, 'Titans': 4676, 'Friends': 4677, 'southeast': 4678, 'warn': 4679, 'billionaire': 4680, 'Brooklyn': 4681, 'Donald': 4682, 'task': 4683, 'evasion': 4684, 'warming': 4685, 'Rice': 4686, 'billions': 4687, 'ships': 4688, 'mall': 4689, 'Karachi': 4690, 'danger': 4691, 'Wild': 4692, 'skin': 4693, 'civilian': 4694, 'rush': 4695, 'apologizes': 4696, 'uncertainty': 4697, 'shared': 4698, 'Marc': 4699, 'Baldwin': 4700, 'Ashton': 4701, 'Pranab': 4702, 'decisions': 4703, 'contractor': 4704, 'L': 4705, 'suggesting': 4706, 'Richmond': 4707, 'Owen': 4708, 'pharmaceutical': 4709, 'PGA': 4710, 'Redskins': 4711, 'Uttar': 4712, 'underway': 4713, 'piece': 4714, 'transportation': 4715, 'catch': 4716, 'Sandy': 4717, 'Max': 4718, 'requirements': 4719, 'Brussels': 4720, 'Blues': 4721, 'motor': 4722, 'enjoy': 4723, 'Number': 4724, 'attending': 4725, 'Lloyd': 4726, 'slash': 4727, '46': 4728, 'CBI': 4729, 'developers': 4730, 'viewers': 4731, 'inspired': 4732, 'Federer': 4733, 'temperatures': 4734, 'Beverly': 4735, 'NHS': 4736, 'Pharmaceuticals': 4737, 'Juventus': 4738, 'branches': 4739, '77': 4740, 'eased': 4741, 'damages': 4742, 'recycling': 4743, 'Rupert': 4744, 'Murdoch': 4745, 'apologized': 4746, 'determine': 4747, 'forest': 4748, 'Francis': 4749, 'robberies': 4750, 'regulator': 4751, 'Bloomberg': 4752, 'observed': 4753, 'ownership': 4754, 'Robbie': 4755, 'Teen': 4756, 'Xinhua': 4757, 'diplomat': 4758, 'bombing': 4759, 'winners': 4760, 'disclosed': 4761, 'Bernard': 4762, 'Wenger': 4763, 'Only': 4764, 'attended': 4765, '52': 4766, 'DJ': 4767, 'refusing': 4768, 'particularly': 4769, 'Summit': 4770, 'Mart': 4771, 'immigrants': 4772, 'metals': 4773, 'affiliate': 4774, 'milk': 4775, 'peaceful': 4776, 'Polish': 4777, 'Dennis': 4778, 'shareholder': 4779, 'Mall': 4780, 'disputed': 4781, 'slide': 4782, 'Heath': 4783, 'dumped': 4784, 'Legislature': 4785, 'actions': 4786, 'rice': 4787, 'Sandra': 4788, '83': 4789, 'garden': 4790, 'Chemical': 4791, 'transplant': 4792, 'wine': 4793, 'bed': 4794, 'Tropical': 4795, 'quick': 4796, 'patrol': 4797, 'presidency': 4798, 'Pacquiao': 4799, 'System': 4800, '1st': 4801, 'Mills': 4802, 'abandoned': 4803, 'posting': 4804, 'hunger': 4805, 'dozen': 4806, 'honour': 4807, 'Auburn': 4808, 'representatives': 4809, 'emissions': 4810, 'values': 4811, 'easing': 4812, 'discharged': 4813, 'BMW': 4814, 'hunt': 4815, 'Suzuki': 4816, 'defeats': 4817, 'condemns': 4818, 'prostate': 4819, 'Television': 4820, 'hasn': 4821, 'automaker': 4822, 'Third': 4823, 'documentary': 4824, 'computing': 4825, '79': 4826, 'brothers': 4827, 'Legendary': 4828, 'achieved': 4829, '20th': 4830, 'chip': 4831, 'integration': 4832, 'Peru': 4833, 'species': 4834, 'Monroe': 4835, 'fighters': 4836, 'jobless': 4837, 'Hyderabad': 4838, 'necessary': 4839, 'Blair': 4840, 'select': 4841, 'Arctic': 4842, 'freeze': 4843, 'terminal': 4844, 'mile': 4845, 'Manhattan': 4846, 'acts': 4847, 'Lil': 4848, 'tribal': 4849, 'suffer': 4850, 'purchases': 4851, 'parade': 4852, 'broad': 4853, 'unidentified': 4854, 'subject': 4855, 'individuals': 4856, 'oldest': 4857, 'Thanksgiving': 4858, 'nightclub': 4859, 'Dmitry': 4860, 'parks': 4861, '12th': 4862, 'Seahawks': 4863, 'Lane': 4864, 'flagship': 4865, 'Bills': 4866, 'fields': 4867, 'slams': 4868, 'words': 4869, 'surplus': 4870, 'welfare': 4871, 'Money': 4872, 'planes': 4873, 'gathered': 4874, 'rolls': 4875, 'refinery': 4876, 'Drew': 4877, 'legendary': 4878, 'boycott': 4879, 'Santorum': 4880, 'Sheikh': 4881, 'contain': 4882, 'charter': 4883, '2005': 4884, 'staying': 4885, 'recognition': 4886, 'aggressive': 4887, 'bone': 4888, 'trains': 4889, 'investigated': 4890, 'tsunami': 4891, 'Plc': 4892, 'heroin': 4893, 'Nancy': 4894, 'Johannesburg': 4895, 'Rapper': 4896, 'Bayern': 4897, 'downgrades': 4898, 'offences': 4899, 'landmark': 4900, 'shelter': 4901, 'promising': 4902, 'pregnancy': 4903, 'preseason': 4904, 'transition': 4905, '@': 4906, 'sweep': 4907, 'plus': 4908, 'invitation': 4909, 'Guy': 4910, 'Whitney': 4911, 'solid': 4912, 'filmmaker': 4913, 'Economy': 4914, 'honorary': 4915, 'importance': 4916, 'Islands': 4917, 'rental': 4918, 'Superior': 4919, 'endorse': 4920, 'gasoline': 4921, 'Program': 4922, 'Freedom': 4923, 'replacing': 4924, 'obtained': 4925, 'wasn': 4926, 'estranged': 4927, 'Rupee': 4928, 'Athens': 4929, 'makers': 4930, 'Summer': 4931, 'rebel': 4932, 'longest': 4933, 'sing': 4934, 'Parish': 4935, 'sick': 4936, 'Laden': 4937, 'Netanyahu': 4938, 'Emmy': 4939, 'guide': 4940, 'Clarke': 4941, 'Sterling': 4942, 'ballot': 4943, 'rebounds': 4944, 'directly': 4945, 'switch': 4946, 'screening': 4947, 'sub': 4948, 'privately': 4949, 'riding': 4950, 'youths': 4951, 'Transportation': 4952, 'Fernando': 4953, 'installed': 4954, 'doubled': 4955, 'Snow': 4956, 'briefly': 4957, 'slowed': 4958, 'fame': 4959, 'apart': 4960, 'accidents': 4961, 'metro': 4962, 'easily': 4963, 'Side': 4964, 'Aviation': 4965, 'zero': 4966, 'De': 4967, 'advances': 4968, 'Salt': 4969, 'stripped': 4970, '59': 4971, 'HSBC': 4972, 'discussion': 4973, 'hybrid': 4974, 'wages': 4975, 'Eva': 4976, 'filled': 4977, 'scoring': 4978, 'titles': 4979, 'Shares': 4980, 'UBS': 4981, 'maximum': 4982, 'larger': 4983, 'responded': 4984, 'crushed': 4985, '81': 4986, 'combined': 4987, '1500': 4988, 'feed': 4989, 'Twins': 4990, 'Wichita': 4991, 'violation': 4992, 'diplomats': 4993, 'argument': 4994, 'unknown': 4995, 'Hu': 4996, 'torch': 4997, 'Ericsson': 4998, 'commodities': 4999, 'destroys': 5000, 'Belgian': 5001, 'naval': 5002, 'Seoul': 5003, 'Peace': 5004, 'missiles': 5005, 'magnitude': 5006, 'Blake': 5007, 'medicine': 5008, 'overhaul': 5009, 'Heritage': 5010, 'emotional': 5011, 'updates': 5012, '57': 5013, 'uranium': 5014, 'agenda': 5015, 'widespread': 5016, 'Barnes': 5017, 'drawing': 5018, 'plot': 5019, 'apology': 5020, 'Packers': 5021, 'Lt': 5022, 'Baku': 5023, 'stuck': 5024, 'mountain': 5025, 'lawmaker': 5026, 'permits': 5027, 'Many': 5028, 'babies': 5029, 'steal': 5030, 'roles': 5031, 'scrap': 5032, 'lake': 5033, 'Unemployment': 5034, 'Healthcare': 5035, 'quoting': 5036, 'professor': 5037, 'Selena': 5038, 'Canadians': 5039, 'Jake': 5040, 'Rand': 5041, 'burns': 5042, 'locked': 5043, 'outfit': 5044, 'ads': 5045, 'reopens': 5046, 'appoint': 5047, 'rumors': 5048, 'editor': 5049, 'musician': 5050, 'exploded': 5051, 'Twilight': 5052, 'gather': 5053, 'crowned': 5054, 'Newton': 5055, 'cat': 5056, 'collided': 5057, 'sessions': 5058, 'wire': 5059, 'UEFA': 5060, 'whom': 5061, 'guarantee': 5062, 'pickup': 5063, 'verdict': 5064, 'Newman': 5065, 'politician': 5066, 'operational': 5067, 'behaviour': 5068, 'unity': 5069, 'aim': 5070, 'smuggling': 5071, 'constitution': 5072, 'lived': 5073, 'Pervez': 5074, 'chart': 5075, '100th': 5076, '84': 5077, 'innovation': 5078, 'detention': 5079, 'extremely': 5080, 'Eagle': 5081, 'client': 5082, 'views': 5083, 'Marcus': 5084, 'PLC': 5085, 'yields': 5086, 'suburban': 5087, 'Amitabh': 5088, 'vital': 5089, 'absence': 5090, 'robbing': 5091, 'Data': 5092, '500000': 5093, 'elbow': 5094, 'default': 5095, 'Gallagher': 5096, 'Ball': 5097, 'borrowing': 5098, 'Boyle': 5099, '1.2': 5100, 'challenging': 5101, 'scenes': 5102, 'Elton': 5103, 'Colin': 5104, 'aide': 5105, 'Eve': 5106, 'novel': 5107, 'Crystal': 5108, 'odds': 5109, 'covering': 5110, 'Beyonce': 5111, 'Portugal': 5112, '20000': 5113, 'wealth': 5114, 'rallies': 5115, 'accepts': 5116, 'collapses': 5117, 'slump': 5118, 'Heights': 5119, 'consumption': 5120, 'Gillard': 5121, 'watchdog': 5122, '88': 5123, 'fled': 5124, 'Electronic': 5125, 'supermarket': 5126, 'Cisco': 5127, 'ski': 5128, '2.5': 5129, 'eliminate': 5130, 'completion': 5131, 'closely': 5132, 'floods': 5133, 'commit': 5134, 'Corps': 5135, 'garage': 5136, 'upper': 5137, 'Scientific': 5138, 'capable': 5139, 'Early': 5140, 'Finland': 5141, 'Celtics': 5142, 'peak': 5143, 'Armed': 5144, 'executed': 5145, 'Mel': 5146, 'triggered': 5147, 'designated': 5148, 'achieve': 5149, 'critics': 5150, 'PlayStation': 5151, 'pleading': 5152, 'prestigious': 5153, 'chances': 5154, 'XVI': 5155, 'widely': 5156, 'Wal': 5157, 'delivers': 5158, 'Sciences': 5159, 'Rapids': 5160, 'WASHINGTON': 5161, 'SUV': 5162, 'artists': 5163, 'pilgrims': 5164, 'volleyball': 5165, 'Mahindra': 5166, 'stem': 5167, 'Me': 5168, 'Luke': 5169, 'Minneapolis': 5170, 'declare': 5171, 'Austria': 5172, 'Floyd': 5173, 'mentally': 5174, 'nominations': 5175, 'H1N1': 5176, 'vacant': 5177, 'Hull': 5178, 'aside': 5179, 'channels': 5180, 'Bullock': 5181, 'unanimously': 5182, 'Orioles': 5183, 'cheating': 5184, 'Congressional': 5185, 'survive': 5186, 'Cuomo': 5187, 'Tennis': 5188, 'dark': 5189, 'affordable': 5190, 'climbed': 5191, 'gambling': 5192, 'fill': 5193, 'surged': 5194, 'Hungary': 5195, 'capture': 5196, 'inaugurated': 5197, 'Technical': 5198, 'pricing': 5199, 'king': 5200, 'cycling': 5201, 'deposit': 5202, 'studies': 5203, 'representing': 5204, 'unless': 5205, 'Lynch': 5206, 'Brady': 5207, 'Hugh': 5208, 'inmates': 5209, 'warm': 5210, 'Denmark': 5211, 'sitting': 5212, 'wholesale': 5213, 'Independence': 5214, 'Cruz': 5215, 'Z': 5216, 'submitted': 5217, 'acquitted': 5218, 'Tax': 5219, 'Mars': 5220, 'survived': 5221, 'Jonas': 5222, 'Hamid': 5223, 'tea': 5224, 'apologised': 5225, 'burglaries': 5226, 'Datuk': 5227, 'professionals': 5228, 'resource': 5229, 'Cardiff': 5230, 'abducted': 5231, 'worried': 5232, 'stream': 5233, '87': 5234, '25th': 5235, 'haven': 5236, 'strengthened': 5237, 'centres': 5238, 'offset': 5239, 'meat': 5240, 'easier': 5241, 'eat': 5242, 'races': 5243, 'striking': 5244, 'teaching': 5245, 'escapes': 5246, 'H': 5247, 'Bashar': 5248, 'rumours': 5249, 'Jury': 5250, 'Conrad': 5251, 'prisoner': 5252, 'tower': 5253, 'donates': 5254, 'Protection': 5255, 'decrease': 5256, 'fix': 5257, 'TMZ': 5258, 'Glasgow': 5259, 'bids': 5260, 'Studios': 5261, 'Ahmed': 5262, 'leaked': 5263, '2004': 5264, 'premium': 5265, 'appealing': 5266, 'monitor': 5267, 'Boys': 5268, 'Serbian': 5269, 'silence': 5270, 'Amber': 5271, 'Lisa': 5272, 'Manny': 5273, 'neutral': 5274, 'enable': 5275, 'workshop': 5276, 'Jane': 5277, 'Romanian': 5278, 'remember': 5279, 'Monetary': 5280, 'Albert': 5281, 'inquest': 5282, 'childhood': 5283, 'crossed': 5284, 'Suu': 5285, 'Kyi': 5286, 'Chad': 5287, 'prompting': 5288, 'efficient': 5289, 'bird': 5290, 'boats': 5291, 'questioned': 5292, 'pattern': 5293, 'Marathon': 5294, 'sense': 5295, 'Herald': 5296, 'lifts': 5297, 'optimism': 5298, 'investing': 5299, 'Berry': 5300, 'motion': 5301, 'hometown': 5302, 'Province': 5303, 'pastor': 5304, 'Convention': 5305, 'eyes': 5306, 'Xbox': 5307, 'scare': 5308, 'definitive': 5309, 'Enterprise': 5310, 'Sharks': 5311, 'charging': 5312, 'convention': 5313, 'ethnic': 5314, 'Norwegian': 5315, 'challenged': 5316, 'referendum': 5317, 'Conservative': 5318, 'naked': 5319, 'DNA': 5320, 'lucky': 5321, 'fewer': 5322, 'fundraiser': 5323, 'slowing': 5324, 'fought': 5325, 'Oscars': 5326, 'Constitution': 5327, 'Tourism': 5328, 'Fred': 5329, 'Le': 5330, 'blue': 5331, 'Tibetan': 5332, 'Norwich': 5333, 'dress': 5334, 'scientific': 5335, 'LP': 5336, 'Philip': 5337, 'volatile': 5338, 'harassment': 5339, 'universities': 5340, 'Finnish': 5341, 'Calgary': 5342, 'Light': 5343, 'preferred': 5344, 'Norman': 5345, 'statistics': 5346, 'diseases': 5347, 'Medicine': 5348, 'loved': 5349, 'Harrison': 5350, 'automotive': 5351, 'evacuation': 5352, 'Magazine': 5353, 'differences': 5354, 'moderate': 5355, 'entitled': 5356, 'implementation': 5357, 'occupied': 5358, 'swap': 5359, 'mounting': 5360, 'tentative': 5361, 'donations': 5362, 'fundraising': 5363, 'unbeaten': 5364, 'Midwest': 5365, 'expensive': 5366, 'Worldwide': 5367, 'initiatives': 5368, 'Place': 5369, 'Morning': 5370, 'Father': 5371, 'Moody': 5372, 'tape': 5373, 'selects': 5374, 'Omar': 5375, 'Zoo': 5376, 'Angela': 5377, 'bench': 5378, 'Damascus': 5379, 'Forces': 5380, 'Gen': 5381, 'audit': 5382, 'corner': 5383, 'Route': 5384, 'staged': 5385, 'Mail': 5386, 'weakness': 5387, 'broker': 5388, 'outlets': 5389, 'Edinburgh': 5390, 'ambulance': 5391, 'retained': 5392, 'Athletic': 5393, 'Engineering': 5394, 'broadcaster': 5395, 'comment': 5396, 'Watch': 5397, 'Mohammad': 5398, 'formal': 5399, 'indicated': 5400, 'pledge': 5401, 'Myers': 5402, 'Cheney': 5403, 'U': 5404, 'nearby': 5405, 'convenience': 5406, 'lightning': 5407, 'misconduct': 5408, 'royal': 5409, 'retain': 5410, 'Driver': 5411, 'Aberdeen': 5412, 'Final': 5413, 'Brien': 5414, 'promise': 5415, 'Parents': 5416, 'Tibet': 5417, 'grown': 5418, 'inaugural': 5419, 'jewelry': 5420, 'blocked': 5421, 'basic': 5422, 'drinks': 5423, '92': 5424, 'duties': 5425, 'Sharma': 5426, 'bull': 5427, 'agricultural': 5428, 'signal': 5429, 'Leon': 5430, '78': 5431, 'Lahore': 5432, 'Aguilera': 5433, 'Joel': 5434, 'graduate': 5435, 'bounce': 5436, 'Jet': 5437, 'Taipei': 5438, 'McLaren': 5439, 'Bus': 5440, 'fat': 5441, 'vision': 5442, 'angry': 5443, 'Travel': 5444, 'Quinn': 5445, 'obesity': 5446, 'cyclist': 5447, 'Depp': 5448, 'medals': 5449, 'transferred': 5450, 'Blackburn': 5451, 'permission': 5452, 'placement': 5453, 'gunmen': 5454, 'Albany': 5455, 'Bull': 5456, 'nationals': 5457, 'liquor': 5458, 'jumps': 5459, 'Conn': 5460, 'Newport': 5461, 'mainly': 5462, 'Farm': 5463, 'bags': 5464, 'Tesco': 5465, 'Quebec': 5466, 'Junior': 5467, 'unprecedented': 5468, 'reviews': 5469, 'cinema': 5470, 'miners': 5471, 'pneumonia': 5472, 'Christopher': 5473, 'songwriter': 5474, 'Bros': 5475, 'valued': 5476, 'boosting': 5477, 'Sierra': 5478, 'municipal': 5479, 'Continental': 5480, 'declining': 5481, 'statewide': 5482, 'aboard': 5483, 'faith': 5484, 'pulling': 5485, 'Future': 5486, 'Angels': 5487, 'pact': 5488, 'grave': 5489, 'Mining': 5490, 'governance': 5491, 'shootout': 5492, 'Magic': 5493, 'motorists': 5494, 'Baker': 5495, 'frontman': 5496, 'surveillance': 5497, 'End': 5498, 'towns': 5499, 'waived': 5500, 'bosses': 5501, 'Butler': 5502, 'Staff': 5503, 'airports': 5504, 'knows': 5505, 'destination': 5506, 'teenagers': 5507, 'severely': 5508, 'Mercedes': 5509, 'Key': 5510, 'wildlife': 5511, 'newspapers': 5512, 'Nathan': 5513, 'grounds': 5514, 'Cox': 5515, 'Mohammed': 5516, 'Sioux': 5517, 'wounds': 5518, 'Ecuador': 5519, 'soft': 5520, 'crop': 5521, 'Even': 5522, 'electrical': 5523, 'subscribers': 5524, 'Plan': 5525, 'Animal': 5526, 'unable': 5527, 'intervention': 5528, 'shark': 5529, 'FOCUS': 5530, 'guy': 5531, 'Customs': 5532, 'participation': 5533, 'Mo': 5534, 'Shore': 5535, 'Average': 5536, 'Cable': 5537, 'Moon': 5538, 'Ridge': 5539, 'Should': 5540, 'dad': 5541, 'sit': 5542, 'Kutcher': 5543, 'OPEC': 5544, 'Swansea': 5545, 'Teacher': 5546, 'Veterans': 5547, 'racist': 5548, 'Kabul': 5549, 'ranking': 5550, 'Reed': 5551, 'liver': 5552, 'Princess': 5553, 'theme': 5554, 'Omaha': 5555, 'Turkmenistan': 5556, 'discount': 5557, 'ninth': 5558, 'variety': 5559, 'represent': 5560, 'understand': 5561, 'Wildlife': 5562, 'NRL': 5563, 'acquiring': 5564, '101': 5565, 'ones': 5566, 'manufacturers': 5567, 'gaining': 5568, 'Oak': 5569, 'curb': 5570, 'Marion': 5571, 'cyber': 5572, 'Morris': 5573, 'Jamaica': 5574, 'UCLA': 5575, 'AIDS': 5576, 'buses': 5577, 'younger': 5578, 'definitely': 5579, 'mate': 5580, 'iconic': 5581, 'northwestern': 5582, 'Malta': 5583, 'sponsored': 5584, 'Kids': 5585, 'master': 5586, 'Trump': 5587, 'diamond': 5588, 'Inflation': 5589, 'runner': 5590, 'fireworks': 5591, 'Sheffield': 5592, 'protesting': 5593, 'pose': 5594, 'Rudd': 5595, 'playoffs': 5596, 'Lexington': 5597, 'compliance': 5598, 'smaller': 5599, 'remembered': 5600, 'Argentine': 5601, 'turmoil': 5602, 'Darren': 5603, 'Medicare': 5604, 'lunch': 5605, 'Transit': 5606, 'preparation': 5607, 'Suisse': 5608, 'Charges': 5609, 'risen': 5610, 'renowned': 5611, 'bust': 5612, 'recruit': 5613, 'enhanced': 5614, 'thin': 5615, 'oath': 5616, 'Newark': 5617, 'restraining': 5618, 'Tonight': 5619, 'responding': 5620, 'Dean': 5621, 'Month': 5622, 'tag': 5623, 'foundation': 5624, 'lifestyle': 5625, 'glass': 5626, 'guitarist': 5627, 'Cedar': 5628, 'mom': 5629, 'crunch': 5630, 'Farmers': 5631, 'Environmental': 5632, 'Kahn': 5633, 'Siemens': 5634, 'raw': 5635, 'refugee': 5636, 'replacement': 5637, 'Norfolk': 5638, 'resulted': 5639, 'Challenge': 5640, 'Professor': 5641, 'Teachers': 5642, 'ceasefire': 5643, 'IST': 5644, 'Oracle': 5645, 'Coal': 5646, 'roadside': 5647, 'opponents': 5648, 'household': 5649, 'impressive': 5650, 'FORMER': 5651, 'Raj': 5652, 'Thackeray': 5653, 'spreading': 5654, 'focusing': 5655, 'mill': 5656, 'largely': 5657, 'grocery': 5658, 'Renault': 5659, 'singing': 5660, 'Freddie': 5661, 'proceedings': 5662, 'Universal': 5663, 'struggles': 5664, 'Basketball': 5665, 'Syracuse': 5666, 'flash': 5667, 'Clooney': 5668, 'Tulsa': 5669, '3G': 5670, 'sensation': 5671, 'Coleman': 5672, 'mini': 5673, 'Occupy': 5674, 'disciplinary': 5675, 'strain': 5676, 'modest': 5677, 'Next': 5678, 'wouldn': 5679, 'Left': 5680, 'Mayer': 5681, 'secures': 5682, 'deposits': 5683, 'Survey': 5684, 'serial': 5685, 'tractor': 5686, 'creator': 5687, 'parole': 5688, 'pump': 5689, 'hotels': 5690, 'Poor': 5691, 'flow': 5692, 'Silvio': 5693, 'Sindh': 5694, 'thriller': 5695, 'execution': 5696, 'Wade': 5697, 'Luis': 5698, 'telecommunications': 5699, 'Walter': 5700, 'exposed': 5701, 'Diaz': 5702, 'audio': 5703, 'trends': 5704, 'equal': 5705, '1.3': 5706, 'Abbott': 5707, 'Richardson': 5708, 'Mission': 5709, 'Rockies': 5710, 'organised': 5711, 'Vince': 5712, 'Copper': 5713, 'employer': 5714, '25000': 5715, 'Hot': 5716, 'Panasonic': 5717, 'Thomson': 5718, 'secondary': 5719, 'recommended': 5720, 'dragged': 5721, '4000': 5722, 'Giffords': 5723, 'Manning': 5724, 'pledges': 5725, 'emerge': 5726, 'administrative': 5727, 'transit': 5728, 'Control': 5729, '2nd': 5730, 'Voice': 5731, 'machines': 5732, 'cautious': 5733, 'numerous': 5734, 'behalf': 5735, 'vendor': 5736, 'Southeast': 5737, 'substance': 5738, 'Action': 5739, 'Upper': 5740, 'Danish': 5741, 'Apr': 5742, 'Urban': 5743, 'Sanchez': 5744, 'chiefs': 5745, 'swing': 5746, 'hiding': 5747, 'Sebastian': 5748, 'unpaid': 5749, 'kicking': 5750, 'hurricane': 5751, 'priest': 5752, 'Christchurch': 5753, 'telephone': 5754, 'Mariners': 5755, '200000': 5756, 'delivering': 5757, 'reward': 5758, 'ace': 5759, 'flames': 5760, 'demonstration': 5761, 'consulting': 5762, 'Hathaway': 5763, 'Tsvangirai': 5764, 'concept': 5765, 'Glee': 5766, 'insurer': 5767, 'departments': 5768, 'bolster': 5769, 'infringement': 5770, 'overdose': 5771, 'Representative': 5772, 'Goa': 5773, 'lights': 5774, 'capabilities': 5775, 'lowered': 5776, 'discussions': 5777, 'assured': 5778, 'constitutional': 5779, 'Rescue': 5780, 'fines': 5781, 'effectively': 5782, 'Keys': 5783, 'batsman': 5784, 'Doctors': 5785, 'knew': 5786, 'robber': 5787, 'EUR': 5788, 'statements': 5789, 'Temple': 5790, 'spell': 5791, 'Planning': 5792, 'Strong': 5793, 'shootings': 5794, 'Christians': 5795, 'appearing': 5796, 'stemming': 5797, 'warnings': 5798, 'happen': 5799, 'organized': 5800, 'Bradford': 5801, 'Maruti': 5802, 'guidelines': 5803, 'renews': 5804, 'academic': 5805, 'reverse': 5806, 'indecent': 5807, 'explore': 5808, 'defeating': 5809, 'Karl': 5810, 'renew': 5811, 'indefinitely': 5812, 'pretty': 5813, 'Lambert': 5814, 'hijacked': 5815, 'withdrew': 5816, 'Stevens': 5817, 'Rocky': 5818, 'Vermont': 5819, 'Shell': 5820, 'Brewers': 5821, 'Hazare': 5822, 'Welsh': 5823, 'narrowly': 5824, '360': 5825, 'appointments': 5826, '13th': 5827, 'quiet': 5828, 'encouraged': 5829, 'Smart': 5830, 'Paterson': 5831, 'knot': 5832, '1.1': 5833, 'swim': 5834, 'logo': 5835, 'eliminated': 5836, '89': 5837, 'Out': 5838, 'therapy': 5839, 'Tunisia': 5840, 'reduces': 5841, 'wildfire': 5842, 'Train': 5843, 'publishing': 5844, 'Brent': 5845, 'deported': 5846, 'chair': 5847, 'extreme': 5848, 'gross': 5849, 'couldn': 5850, 'lease': 5851, 'judiciary': 5852, 'margin': 5853, 'frozen': 5854, 'Wolves': 5855, 'arbitration': 5856, 'carpet': 5857, 'pictures': 5858, 'insisting': 5859, 'Peterson': 5860, 'freight': 5861, 'sensitive': 5862, 'Colts': 5863, 'eve': 5864, 'qualify': 5865, 'images': 5866, 'admitting': 5867, 'Orissa': 5868, 'tragedy': 5869, 'cardiac': 5870, 'cope': 5871, 'extensive': 5872, 'elephant': 5873, 'Assam': 5874, 'Michele': 5875, 'warehouse': 5876, 'Minaj': 5877, '17th': 5878, 'IPL': 5879, 'foreigners': 5880, 'mild': 5881, 'homeowners': 5882, 'Andhra': 5883, 'Buffett': 5884, 'Valentine': 5885, 'Gay': 5886, 'recruiting': 5887, 'ICC': 5888, 'layoffs': 5889, 'Casino': 5890, 'Mohamed': 5891, 'indefinite': 5892, 'trail': 5893, 'participating': 5894, 'SC': 5895, 'bronze': 5896, 'Noel': 5897, 'tablets': 5898, 'Crime': 5899, 'availability': 5900, 'seminar': 5901, 'intersection': 5902, 'touched': 5903, 'punishment': 5904, 'Adrian': 5905, 'apologises': 5906, 'Tea': 5907, 'cues': 5908, 'Representatives': 5909, 'Housewives': 5910, 'affecting': 5911, 'pollution': 5912, '93': 5913, 'Tri': 5914, 'Q': 5915, 'Fulham': 5916, 'McCarthy': 5917, 'handling': 5918, 'V': 5919, 'download': 5920, 'doubleheader': 5921, 'packaging': 5922, 'print': 5923, 'Marie': 5924, 'educational': 5925, 'Manila': 5926, 'Sena': 5927, 'Leicester': 5928, 'contribution': 5929, 'backing': 5930, 'Nearly': 5931, 'Dark': 5932, 'farmer': 5933, 'Properties': 5934, 'breach': 5935, 'Ashes': 5936, 'Ill': 5937, 'infant': 5938, 'developments': 5939, 'Athletics': 5940, 'Jail': 5941, 'owns': 5942, 'Mamata': 5943, 'nursing': 5944, 'suggest': 5945, 'Rod': 5946, 'Resort': 5947, 'overturned': 5948, 'duo': 5949, 'spectrum': 5950, 'anchor': 5951, 'expelled': 5952, 'Naomi': 5953, 'Images': 5954, 'distributor': 5955, 'Railways': 5956, 'Minn': 5957, 'Nationwide': 5958, '1.4': 5959, 'rankings': 5960, 'Ethiopia': 5961, 'Winnipeg': 5962, 'install': 5963, 'offenders': 5964, 'Longoria': 5965, 'readers': 5966, 'Palmer': 5967, 'prompted': 5968, 'experienced': 5969, 'Marlins': 5970, 'Favre': 5971, 'colleges': 5972, 'Champion': 5973, 'proved': 5974, 'urban': 5975, 'theatre': 5976, 'Sudanese': 5977, 'drill': 5978, 'Border': 5979, 'Bancorp': 5980, 'Plus': 5981, 'Ratings': 5982, 'insurgents': 5983, 'Glenn': 5984, 'volunteer': 5985, 'Northwest': 5986, 'recovers': 5987, 'Oprah': 5988, 'Nicki': 5989, 'favor': 5990, 'grain': 5991, 'Lakes': 5992, 'Narendra': 5993, 'attractive': 5994, 'publication': 5995, 'abused': 5996, 'answers': 5997, 'pursue': 5998, 'confessed': 5999, 'Mourinho': 6000, 'blocks': 6001, 'Benjamin': 6002, 'difference': 6003, 'Mariah': 6004, 'Knicks': 6005, 'horses': 6006, 'Dead': 6007, 'tips': 6008, 'Railway': 6009, 'Niagara': 6010, 'Stoke': 6011, 'contribute': 6012, 'Michaels': 6013, 'gunman': 6014, 'Vietnamese': 6015, 'disappointed': 6016, 'Thunder': 6017, 'thousand': 6018, 'Osama': 6019, 'Arsene': 6020, 'punched': 6021, 'Ryanair': 6022, 'thieves': 6023, 'Qaida': 6024, 'Rovers': 6025, 'filming': 6026, 'Penguins': 6027, 'violated': 6028, 'Durham': 6029, 'connected': 6030, 'Arthur': 6031, 'wickets': 6032, 'meters': 6033, 'licensing': 6034, 'qualified': 6035, 'actors': 6036, 'parked': 6037, 'Criminal': 6038, '350': 6039, 'Providence': 6040, 'tours': 6041, 'require': 6042, 'fleeing': 6043, 'heavily': 6044, 'specialty': 6045, 'comedian': 6046, 'Helen': 6047, 'Bryan': 6048, 'Austrian': 6049, 'plc': 6050, 'holders': 6051, 'finances': 6052, 'Betty': 6053, 'ailing': 6054, 'mortgages': 6055, 'Maoist': 6056, 'Lines': 6057, 'traveling': 6058, 'lessons': 6059, 'exciting': 6060, 'Book': 6061, 'rolling': 6062, 'shape': 6063, 'Dog': 6064, 'Hunter': 6065, 'Guinea': 6066, 'survives': 6067, 'splits': 6068, 'seem': 6069, 'earth': 6070, 'Hope': 6071, 'museum': 6072, 'Janata': 6073, 'Spurs': 6074, 'Kirk': 6075, 'spin': 6076, 'speeding': 6077, 'SAP': 6078, 'revealing': 6079, '1.6': 6080, 'JPMorgan': 6081, 'stages': 6082, 'praise': 6083, '4th': 6084, 'Bonds': 6085, 'Theater': 6086, 'remake': 6087, 'drives': 6088, 'Doherty': 6089, 'beta': 6090, 'weighed': 6091, 'Dhoni': 6092, 'yard': 6093, 'jumping': 6094, 'ethics': 6095, 'trainer': 6096, 'Rail': 6097, 'Banking': 6098, 'document': 6099, 'powered': 6100, 'enjoyed': 6101, 'Bar': 6102, 'nude': 6103, 'impose': 6104, 'aiming': 6105, 'molestation': 6106, 'mystery': 6107, 'Speedway': 6108, 'Band': 6109, 'Organisation': 6110, 'racial': 6111, 'recruitment': 6112, 'Slovenia': 6113, 'Zambia': 6114, 'Wigan': 6115, 'Rams': 6116, '18th': 6117, 'Opera': 6118, 'spy': 6119, 'Somerset': 6120, 'Notre': 6121, 'explosive': 6122, 'throat': 6123, 'Serena': 6124, 'Jong': 6125, 'PPP': 6126, 'Couple': 6127, 'hikes': 6128, 'Expo': 6129, 'molesting': 6130, 'survival': 6131, 'Haven': 6132, 'woes': 6133, 'maintained': 6134, 'bombs': 6135, 'Eurozone': 6136, 'Eds': 6137, 'pupils': 6138, 'specific': 6139, 'cheap': 6140, 'format': 6141, 'Meeting': 6142, 'Revenue': 6143, 'Walsh': 6144, 'Rich': 6145, 'Reading': 6146, 'Hosni': 6147, 'possessing': 6148, '94': 6149, 'portal': 6150, 'Flood': 6151, 'Charleston': 6152, 'bonuses': 6153, 'colleagues': 6154, 'travelling': 6155, 'Jintao': 6156, 'Riley': 6157, 'Pratt': 6158, 'Muammar': 6159, 'Workers': 6160, '130': 6161, 'meant': 6162, 'bullet': 6163, 'Bishop': 6164, 'checkpoint': 6165, 'riot': 6166, 'simple': 6167, 'tear': 6168, 'Manuel': 6169, 'Wind': 6170, 'Comedian': 6171, 'aren': 6172, 'Glen': 6173, 'Mutual': 6174, 'marries': 6175, 'Roma': 6176, 'scientist': 6177, 'carriers': 6178, 'booked': 6179, 'sentencing': 6180, 'Witherspoon': 6181, 'Rockets': 6182, 'controls': 6183, '911': 6184, 'excited': 6185, 'substantial': 6186, 'strengthening': 6187, 'organisation': 6188, 'Bundesliga': 6189, 'cool': 6190, 'TWO': 6191, 'tobacco': 6192, 'Stuart': 6193, 'Bear': 6194, 'extradition': 6195, 'Chopra': 6196, 'routine': 6197, 'Jaguars': 6198, 'devastating': 6199, 'HD': 6200, 'Walmart': 6201, 'explain': 6202, 'Colombo': 6203, 'Walk': 6204, 'develops': 6205, 'Turner': 6206, 'wholly': 6207, '110': 6208, 'clerk': 6209, 'seconds': 6210, 'donation': 6211, 'intent': 6212, 'marathon': 6213, 'Embassy': 6214, 'talked': 6215, 'favour': 6216, 'Brook': 6217, 'Work': 6218, 'mistakes': 6219, 'Chamber': 6220, 'Amtrak': 6221, 'absolutely': 6222, '09': 6223, 'hop': 6224, 'Paso': 6225, 'Assistant': 6226, 'Webber': 6227, 'Fiat': 6228, 'Foster': 6229, '4G': 6230, 'drawn': 6231, 'badly': 6232, 'Reese': 6233, 'Total': 6234, 'kitchen': 6235, 'Archbishop': 6236, 'Senators': 6237, 'framework': 6238, 'Pictures': 6239, 'semifinals': 6240, 'Traffic': 6241, 'settles': 6242, 'containing': 6243, 'Oxford': 6244, '14th': 6245, 'rocker': 6246, 'category': 6247, 'northeastern': 6248, 'stressed': 6249, 'Political': 6250, 'Ryder': 6251, 'revolution': 6252, 'Bennett': 6253, 'solve': 6254, 'Estate': 6255, 'Holding': 6256, 'Hornets': 6257, 'Coca': 6258, 'influential': 6259, 'acquisitions': 6260, 'Natalie': 6261, 'projected': 6262, 'Boulevard': 6263, 'posed': 6264, 'arrival': 6265, 'th': 6266, 'runway': 6267, 'Australians': 6268, 'Study': 6269, 'brush': 6270, 'iTunes': 6271, 'licenses': 6272, 'hacked': 6273, 'bowler': 6274, 'Johansson': 6275, 'Tinto': 6276, 'queen': 6277, 'inter': 6278, 'generate': 6279, 'Investors': 6280, 'Boris': 6281, 'Blagojevich': 6282, 'Mid': 6283, '30000': 6284, 'journal': 6285, 'Late': 6286, 'Powell': 6287, 'Sanjay': 6288, 'Tournament': 6289, 'improvements': 6290, 'n': 6291, 'Pune': 6292, 'newborn': 6293, 'toss': 6294, 'Rehman': 6295, 'GE': 6296, 'factor': 6297, 'Weekly': 6298, 'intensive': 6299, 'Busch': 6300, 'circuit': 6301, 'conservation': 6302, 'yuan': 6303, 'grows': 6304, 'sponsorship': 6305, 'Miliband': 6306, 'citizenship': 6307, 'Sharapova': 6308, 'creates': 6309, 'else': 6310, 'medium': 6311, 'motorcyclist': 6312, 'FDA': 6313, '1.7': 6314, 'horror': 6315, 'Rajya': 6316, 'wheel': 6317, 'transmission': 6318, 'merge': 6319, 'ditch': 6320, 'Analyst': 6321, 'optimistic': 6322, 'courses': 6323, 'mogul': 6324, 'occasion': 6325, 'inspection': 6326, 'drew': 6327, 'rounds': 6328, 'arraigned': 6329, 'migrants': 6330, 'Discovery': 6331, 'History': 6332, 'mph': 6333, 'Essex': 6334, 'Wyoming': 6335, 'vulnerable': 6336, 'protected': 6337, 'EA': 6338, 'blew': 6339, 'calm': 6340, 'Fall': 6341, 'Tree': 6342, 'Minogue': 6343, 'slated': 6344, 'encouraging': 6345, 'lifetime': 6346, 'picking': 6347, 'Ministers': 6348, 'WOMAN': 6349, 'fugitive': 6350, 'videos': 6351, 'threaten': 6352, 'Airtel': 6353, 'cooperate': 6354, 'Nile': 6355, 'tumbled': 6356, 'tension': 6357, 'Vijay': 6358, 'rapidly': 6359, 'Got': 6360, 'acute': 6361, 'Cola': 6362, 'encourage': 6363, 'brawl': 6364, 'diet': 6365, 'tougher': 6366, 'Henderson': 6367, 'qualifier': 6368, 'halted': 6369, 'Bangkok': 6370, 'underground': 6371, 'assessment': 6372, 'liquidity': 6373, 'Miranda': 6374, 'coastal': 6375, 'Ram': 6376, 'defamation': 6377, 'chef': 6378, 'Ave': 6379, 'excessive': 6380, 'temple': 6381, 'Istanbul': 6382, 'hamstring': 6383, 'declaration': 6384, 'moon': 6385, 'chronic': 6386, 'seniors': 6387, 'reconciliation': 6388, 'prosecution': 6389, 'finale': 6390, 'Secret': 6391, 'OS': 6392, 'communist': 6393, 'shoppers': 6394, 'Windsor': 6395, 'complications': 6396, '3rd': 6397, 'Serie': 6398, 'hanged': 6399, 'GDP': 6400, 'intended': 6401, 'activated': 6402, 'concerts': 6403, 'safely': 6404, 'athlete': 6405, 'Oman': 6406, 'Record': 6407, 'NZ': 6408, 'Flight': 6409, 'corn': 6410, 'Portuguese': 6411, 'Neal': 6412, 'function': 6413, '2016': 6414, 'torture': 6415, 'Derek': 6416, 'gear': 6417, 'wishes': 6418, 'Richie': 6419, 'discover': 6420, 'finishes': 6421, 'Kobe': 6422, 'dental': 6423, 'willing': 6424, 'alleging': 6425, 'Worth': 6426, 'rehabilitation': 6427, 'plunge': 6428, '15th': 6429, 'Ward': 6430, 'stone': 6431, 'survivors': 6432, 'convertible': 6433, 'Draft': 6434, 'chemicals': 6435, 'sidelines': 6436, 'exporters': 6437, 'Djokovic': 6438, 'Kingston': 6439, 'lesbian': 6440, 'deployed': 6441, 'Motion': 6442, 'CA': 6443, 'purchased': 6444, 'underage': 6445, 'symptoms': 6446, 'Huntington': 6447, 'Imran': 6448, 'choose': 6449, 'Laura': 6450, 'Well': 6451, 'deciding': 6452, 'lottery': 6453, 'certification': 6454, 'Yes': 6455, 'Hawks': 6456, 'Harbor': 6457, 'spoken': 6458, 'remanded': 6459, 'Rukh': 6460, 'Des': 6461, 'battled': 6462, 'CIA': 6463, 'whale': 6464, 'catcher': 6465, 'simply': 6466, 'tumor': 6467, 'originally': 6468, 'thinking': 6469, 'BHP': 6470, 'suddenly': 6471, 'rider': 6472, '000': 6473, 'shortfall': 6474, 'honors': 6475, 'insider': 6476, 'handle': 6477, 'issuing': 6478, 'Patel': 6479, 'AAA': 6480, 'unconscious': 6481, 'Garcia': 6482, '7th': 6483, 'Wi': 6484, 'urge': 6485, 'cliff': 6486, 'Truck': 6487, 'imported': 6488, 'Vanessa': 6489, 'retains': 6490, 'Chargers': 6491, 'earns': 6492, 'Brooks': 6493, 'southeastern': 6494, 'fights': 6495, 'referee': 6496, 'Fish': 6497, 'Commercial': 6498, 'Margaret': 6499, 'ranging': 6500, 'circumstances': 6501, 'allies': 6502, 'Computer': 6503, 'Bharti': 6504, 'dairy': 6505, 'express': 6506, 'pack': 6507, 'engineers': 6508, 'Travis': 6509, 'navy': 6510, 'reiterated': 6511, 'Scarlett': 6512, 'quarters': 6513, 'accounting': 6514, 'giants': 6515, 'vehicular': 6516, 'foul': 6517, 'Kenyan': 6518, 'proper': 6519, 'Fresno': 6520, 'regrets': 6521, 'apps': 6522, 'vacation': 6523, 'relatives': 6524, 'wider': 6525, 'neglect': 6526, 'testify': 6527, 'Cold': 6528, 'Vincent': 6529, 'donate': 6530, 'compromise': 6531, 'cornerback': 6532, 'Jakarta': 6533, 'Dominique': 6534, 'Gene': 6535, 'Millions': 6536, 'fate': 6537, 'cricketer': 6538, 'Tyson': 6539, 'stomach': 6540, 'Starbucks': 6541, 'Wii': 6542, 'shoes': 6543, 'contained': 6544, 'Mavericks': 6545, 'regulation': 6546, 'batting': 6547, 'dip': 6548, 'beautiful': 6549, 'Naval': 6550, 'burst': 6551, 'teammate': 6552, 'romance': 6553, 'neighbours': 6554, '9/11': 6555, 'McDonald': 6556, 'invested': 6557, 'hardware': 6558, 'camps': 6559, 'performances': 6560, 'legs': 6561, 'stick': 6562, 'bribery': 6563, 'Hartford': 6564, 'Brands': 6565, 'Here': 6566, 'Nawaz': 6567, 'NYC': 6568, 'interactive': 6569, 'destroy': 6570, '6000': 6571, 'footballer': 6572, 'Tripoli': 6573, 'cycle': 6574, 'Climate': 6575, 'Patil': 6576, 'brutal': 6577, 'climb': 6578, 'Alicia': 6579, 'Sullivan': 6580, 'laundering': 6581, 'acclaimed': 6582, 'pensions': 6583, '2002': 6584, 'Ronnie': 6585, 'repairs': 6586, 'plotting': 6587, 'Sharon': 6588, 'rubber': 6589, 'Search': 6590, 'par': 6591, 'ET': 6592, 'Dhaka': 6593, 'Blacks': 6594, 'arena': 6595, 'organisers': 6596, 'revive': 6597, 'Trend': 6598, 'Share': 6599, 'Pregnant': 6600, 'detected': 6601, 'addressed': 6602, 'Astros': 6603, 'IPO': 6604, 'finishing': 6605, 'Hindu': 6606, 'map': 6607, 'Timothy': 6608, 'load': 6609, 'SEC': 6610, 'reliever': 6611, 'southwestern': 6612, 'LG': 6613, 'policeman': 6614, 'likes': 6615, 'Front': 6616, 'Catherine': 6617, '2020': 6618, 'sons': 6619, 'hails': 6620, 'Soldier': 6621, 'miner': 6622, 'Aden': 6623, 'taxpayers': 6624, 'Harvey': 6625, 'nature': 6626, 'rainfall': 6627, 'Hotels': 6628, 'Sugar': 6629, 'Maple': 6630, 'Benitez': 6631, 'Master': 6632, 'Nikkei': 6633, 'sluggish': 6634, 'Barton': 6635, 'infielder': 6636, 'Direct': 6637, 'commissioners': 6638, 'LSU': 6639, 'Tucson': 6640, 'cannabis': 6641, 'appealed': 6642, 'Hungarian': 6643, 'essential': 6644, 'Charter': 6645, 'composer': 6646, 'strategies': 6647, 'Duncan': 6648, 'Hamburg': 6649, '3.5': 6650, 'suite': 6651, '140': 6652, 'procedure': 6653, 'imprisonment': 6654, 'gathering': 6655, 'prevention': 6656, 'breakfast': 6657, 'Canucks': 6658, 'ideas': 6659, 'dying': 6660, 'paise': 6661, 'covered': 6662, 'amendment': 6663, 'turbine': 6664, 'rebounded': 6665, 'Elderly': 6666, 'Stamford': 6667, 'Raja': 6668, 'partial': 6669, 'Carroll': 6670, 'Rodgers': 6671, 'Ground': 6672, 'Aamir': 6673, 'Angel': 6674, 'Training': 6675, 'Sofia': 6676, 'dismisses': 6677, 'components': 6678, '1/2': 6679, 'Mae': 6680, 'studying': 6681, 'disorder': 6682, 'genetic': 6683, 'furniture': 6684, 'Captain': 6685, '2500': 6686, 'LONDON': 6687, 'Falcons': 6688, 'sustainability': 6689, 'pharmacy': 6690, 'DVD': 6691, 'applied': 6692, 'Ice': 6693, 'patents': 6694, 'concrete': 6695, 'relating': 6696, 'mines': 6697, 'segment': 6698, 'Claire': 6699, 'lineman': 6700, 'stretch': 6701, 'approached': 6702, 'Dayton': 6703, 'Lucas': 6704, 'Like': 6705, '2.2': 6706, 'voter': 6707, '40th': 6708, 'Heather': 6709, 'Banerjee': 6710, 'Clinic': 6711, 'letters': 6712, 'Dozens': 6713, 'quarterfinals': 6714, 'AOL': 6715, 'tens': 6716, 'disorderly': 6717, 'mistake': 6718, 'Yorkshire': 6719, 'Greene': 6720, 'Harvard': 6721, 'RBI': 6722, 'sore': 6723, 'chicken': 6724, 'uncertain': 6725, 'correspondent': 6726, 'permanently': 6727, 'Race': 6728, 'Macedonia': 6729, 'Diana': 6730, 'policemen': 6731, 'Etihad': 6732, 'length': 6733, 'listing': 6734, '4.5': 6735, 'invites': 6736, 'addresses': 6737, '15000': 6738, 'walks': 6739, 'edges': 6740, 'congratulates': 6741, 'Swan': 6742, 'Fabio': 6743, 'bitter': 6744, 'Marco': 6745, 'soil': 6746, 'Hezbollah': 6747, 'portion': 6748, 'Venture': 6749, 'Hopkins': 6750, 'intention': 6751, 'Doctor': 6752, 'radical': 6753, 'interior': 6754, 'Amazoncom': 6755, 'excellent': 6756, 'Doug': 6757, 'Bailey': 6758, 'advisor': 6759, '160': 6760, 'Pierce': 6761, 'campaigns': 6762, 'nurse': 6763, 'Volkswagen': 6764, 'Revolution': 6765, 'opposed': 6766, 'Aung': 6767, 'lie': 6768, 'Lower': 6769, 'suburb': 6770, 'Gilbert': 6771, 'ballots': 6772, 'Relations': 6773, 'USC': 6774, 'adoption': 6775, 'Wings': 6776, 'trooper': 6777, 'Geithner': 6778, 'Anil': 6779, 'implemented': 6780, 'Wallace': 6781, 'UPA': 6782, 'personality': 6783, 'HBO': 6784, 'piracy': 6785, 'destinations': 6786, 'shipments': 6787, 'Jharkhand': 6788, 'Silicon': 6789, 'Primary': 6790, 'Talent': 6791, 'Gonzalez': 6792, 'religion': 6793, 'incentives': 6794, 'understanding': 6795, 'Pierre': 6796, 'subsidiaries': 6797, 'bout': 6798, 'Canyon': 6799, 'assassination': 6800, 'Hart': 6801, 'LOS': 6802, 'journey': 6803, 'Saskatchewan': 6804, 'addressing': 6805, 'Winfrey': 6806, 'marine': 6807, 'Bruins': 6808, 'Run': 6809, '6th': 6810, 'Mayo': 6811, 'Tevez': 6812, 'Tel': 6813, 'Baptist': 6814, 'exactly': 6815, 'Satyam': 6816, 'Prosecutors': 6817, 'suppliers': 6818, 'retreat': 6819, 'sweeping': 6820, 'facilitate': 6821, 'iOS': 6822, 'Cash': 6823, 'Fourth': 6824, 'km': 6825, 'unusual': 6826, 'spiritual': 6827, 'approaching': 6828, 'outage': 6829, 'laptop': 6830, 'Rain': 6831, 'Tenn': 6832, 'speaker': 6833, 'Right': 6834, 'quitting': 6835, 'Panthers': 6836, 'Zsa': 6837, 'Rolling': 6838, 'endorsement': 6839, 'Sergio': 6840, 'Tanzania': 6841, 'Lightning': 6842, 'Schumacher': 6843, 'Stanford': 6844, 'Bolt': 6845, 'collected': 6846, 'sweeps': 6847, 'weakens': 6848, 'Blood': 6849, 'noted': 6850, 'globally': 6851, 'Richards': 6852, 'Advani': 6853, 'Capello': 6854, 'Down': 6855, 'packed': 6856, 'trained': 6857, 'relegation': 6858, 'hospitalised': 6859, 'maritime': 6860, 'Restaurant': 6861, 'counterfeit': 6862, 'brokerage': 6863, 'Base': 6864, 'stunning': 6865, 'resulting': 6866, 'declaring': 6867, '1200': 6868, 'Daytona': 6869, 'submit': 6870, 'Fresh': 6871, 'deer': 6872, 'salaries': 6873, 'Infosys': 6874, 'accusations': 6875, 'subscription': 6876, 'spree': 6877, 'eco': 6878, 'Vick': 6879, 'dated': 6880, 'overtime': 6881, 'Europa': 6882, 'damaging': 6883, 'jewellery': 6884, 'Willis': 6885, 'battered': 6886, 'withdrawal': 6887, 'Dutt': 6888, 'Spice': 6889, 'requested': 6890, 'Geneva': 6891, 'offense': 6892, 'zoo': 6893, 'Wilmington': 6894, 'reception': 6895, 'Halifax': 6896, 'engines': 6897, 'crush': 6898, 'rough': 6899, 'poisoning': 6900, 'warrants': 6901, 'ages': 6902, 'displaced': 6903, 'mandate': 6904, 'shore': 6905, 'Yadav': 6906, 'quake': 6907, 'veto': 6908, 'Clippers': 6909, 'MySpace': 6910, 'guru': 6911, 'Shaun': 6912, 'nose': 6913, 'sisters': 6914, 'arriving': 6915, 'grid': 6916, 'rated': 6917, 'meaning': 6918, 'sudden': 6919, 'wrist': 6920, 'deployment': 6921, 'genocide': 6922, 'diving': 6923, 'lawsuits': 6924, 'proceeds': 6925, 'moments': 6926, 'guests': 6927, 'Sanford': 6928, 'fixing': 6929, 'Policy': 6930, 'covers': 6931, 'Alert': 6932, 'teammates': 6933, 'broader': 6934, 'Change': 6935, 'Riverside': 6936, 'clearing': 6937, 'FM': 6938, 'Products': 6939, 'debts': 6940, 'checked': 6941, 'disputes': 6942, 'borders': 6943, '0.5': 6944, 'symbol': 6945, 'Petersburg': 6946, 'Texans': 6947, 'presentation': 6948, 'Noble': 6949, 'ally': 6950, 'soaring': 6951, 'analytics': 6952, 'Troy': 6953, 'Button': 6954, 'Belfast': 6955, 'raids': 6956, 'fiance': 6957, 'Carrie': 6958, 'doubt': 6959, 'advisers': 6960, 'Ellen': 6961, 'Joey': 6962, 'sorry': 6963, 'priced': 6964, 'partially': 6965, 'Billboard': 6966, 'completing': 6967, 'shoe': 6968, '19th': 6969, 'reckless': 6970, 'Fi': 6971, 'dominated': 6972, 'Target': 6973, 'chapter': 6974, 'Plymouth': 6975, 'uniform': 6976, 'tip': 6977, 'ocean': 6978, 'Bomb': 6979, 'Nova': 6980, 'Ledger': 6981, 'farewell': 6982, 'Ivory': 6983, 'questioning': 6984, 'publishes': 6985, 'muscle': 6986, 'Kraft': 6987, 'polling': 6988, 'adopts': 6989, 'shuts': 6990, 'inappropriate': 6991, 'hundred': 6992, 'contributions': 6993, 'Bharatiya': 6994, 'Greater': 6995, 'particular': 6996, 'teeth': 6997, 'perhaps': 6998, 'chaos': 6999, 'couples': 7000, 'counterparts': 7001, 'Toledo': 7002, 'Burlington': 7003, 'exchanges': 7004, 'Phone': 7005, 'bombings': 7006, 'Communist': 7007, 'Novak': 7008, 'saves': 7009, 'islands': 7010, 'TD': 7011, 'pointing': 7012, 'ANGELES': 7013, 'founded': 7014, 'sporting': 7015, 'Empire': 7016, 'backup': 7017, 'container': 7018, 'romantic': 7019, 'Trail': 7020, 'IP': 7021, 'Cardinal': 7022, 'desperate': 7023, 'windows': 7024, 'altercation': 7025, 'maintains': 7026, 'bullish': 7027, 'Oliver': 7028, 'Ahmad': 7029, 'pointed': 7030, 'recognize': 7031, 'ancient': 7032, 'Equity': 7033, 'Boxing': 7034, 'consolidation': 7035, 'Rays': 7036, 'Islamist': 7037, 'bankers': 7038, 'Billiton': 7039, 'Demand': 7040, '21st': 7041, 'contender': 7042, 'Srinagar': 7043, 'birds': 7044, 'sidelined': 7045, 'floating': 7046, 'heritage': 7047, 'outsourcing': 7048, 'laying': 7049, 'Valencia': 7050, 'decides': 7051, 'hinted': 7052, 'Joint': 7053, 'offerings': 7054, 'Pre': 7055, 'forming': 7056, 'enhancing': 7057, 'innocent': 7058, 'collect': 7059, 'v': 7060, 'swings': 7061, 'credits': 7062, 'sank': 7063, 'percentage': 7064, 'Rivers': 7065, 'wounding': 7066, 'Adele': 7067, 'spirit': 7068, 'bottle': 7069, 'bowling': 7070, 'Gray': 7071, 'toilet': 7072, 'pipe': 7073, 'mum': 7074, 'villages': 7075, 'Kyrgyz': 7076, 'Brendan': 7077, 'recommendations': 7078, 'compact': 7079, 'depth': 7080, 'provinces': 7081, 'stayed': 7082, 'Padres': 7083, 'XI': 7084, 'LTE': 7085, 'reference': 7086, 'navigation': 7087, 'Bhd': 7088, 'introducing': 7089, 'Sales': 7090, 'Trevor': 7091, 'daughters': 7092, 'ton': 7093, 'Lyon': 7094, 'eventually': 7095, 'Griffin': 7096, 'Puerto': 7097, 'Pizza': 7098, 'Felipe': 7099, 'Crews': 7100, 'Dylan': 7101, 'bounced': 7102, 'helicopters': 7103, 'tanks': 7104, 'exercises': 7105, '125': 7106, 'Earthquake': 7107, 'alarm': 7108, 'Swine': 7109, 'institution': 7110, 'Florence': 7111, 'congratulated': 7112, 'Nato': 7113, 'Tower': 7114, 'Malawi': 7115, 'gifts': 7116, 'premises': 7117, 'Pistorius': 7118, 'statue': 7119, 'snap': 7120, 'enterprises': 7121, 'Beatles': 7122, 'Bend': 7123, 'Gabrielle': 7124, 'Bath': 7125, 'Holland': 7126, 'boosts': 7127, 'publish': 7128, 'rig': 7129, 'Gazprom': 7130, 'massacre': 7131, 'biopic': 7132, '30th': 7133, 'smashed': 7134, 'barn': 7135, 'contractors': 7136, 'Cain': 7137, 'Reddy': 7138, 'Voters': 7139, 'valuable': 7140, 'gunshot': 7141, 'kidnap': 7142, 'Algeria': 7143, 'burglar': 7144, 'removing': 7145, 'breakthrough': 7146, 'packages': 7147, 'popularity': 7148, 'erupted': 7149, 'golfer': 7150, 'repeal': 7151, 'Devils': 7152, 'Preston': 7153, 'PML': 7154, 'approaches': 7155, 'formation': 7156, 'external': 7157, 'autopsy': 7158, 'tuition': 7159, 'messaging': 7160, 'economists': 7161, 'Lynn': 7162, 'Playboy': 7163, '23rd': 7164, 'shocking': 7165, 'Merrill': 7166, 'Broadcasting': 7167, 'transactions': 7168, 'puppy': 7169, 'stakes': 7170, 'Sabah': 7171, 'Boss': 7172, 'seasonal': 7173, 'inventories': 7174, 'globe': 7175, 'regain': 7176, 'Jun': 7177, 'neighbor': 7178, 'Burke': 7179, 'Bachmann': 7180, '97': 7181, 'JP': 7182, 'flown': 7183, 'metres': 7184, 'organic': 7185, 'Hero': 7186, 'distribute': 7187, 'neighbors': 7188, 'strict': 7189, 'Davidson': 7190, 'Zone': 7191, 'ceiling': 7192, 'Purdue': 7193, 'Diamondbacks': 7194, 'engineer': 7195, 'Slam': 7196, 'enjoying': 7197, '99': 7198, 'Bruno': 7199, 'Modern': 7200, 'collective': 7201, 'rand': 7202, 'marginally': 7203, 'Dominican': 7204, 'youngest': 7205, 'subsidies': 7206, 'Underwood': 7207, 'Santos': 7208, 'reaction': 7209, 'organizers': 7210, 'celebrities': 7211, 'Croatia': 7212, 'Filipino': 7213, 'pond': 7214, 'reorganization': 7215, 'propose': 7216, 'Skype': 7217, 'humans': 7218, 'Bret': 7219, 'amazing': 7220, 'Palestine': 7221, 'Monica': 7222, 'Rural': 7223, 'Balotelli': 7224, 'buyout': 7225, 'challenger': 7226, 'tonne': 7227, 'Lauren': 7228, 'Pfizer': 7229, 'Yousuf': 7230, 'restructure': 7231, 'barrels': 7232, 'programmes': 7233, 'Lehman': 7234, 'conducting': 7235, 'Enterprises': 7236, 'Hispanic': 7237, 'tipped': 7238, 'Rhode': 7239, 'eBay': 7240, 'hoped': 7241, 'succeed': 7242, 'consensus': 7243, 'draws': 7244, 'Investigation': 7245, 'repeatedly': 7246, 'distributed': 7247, 'coroner': 7248, 'Ferdinand': 7249, 'Katrina': 7250, 'AK': 7251, 'singles': 7252, 'disrupted': 7253, 'Khloe': 7254, 'cotton': 7255, 'criticised': 7256, 'revival': 7257, 'Hemsworth': 7258, 'Janet': 7259, 'Wilkinson': 7260, 'criticized': 7261, 'consequences': 7262, 'battles': 7263, 'platforms': 7264, 'tribunal': 7265, 'maintaining': 7266, 'plug': 7267, 'Cristiano': 7268, 'cement': 7269, 'chips': 7270, 'JD': 7271, 'Scotia': 7272, 'Leonardo': 7273, 'lock': 7274, 'Drake': 7275, 'Rwanda': 7276, 'levy': 7277, 'lab': 7278, 'regard': 7279, 'Andrews': 7280, 'electoral': 7281, 'Frontier': 7282, 'schemes': 7283, 'commissioned': 7284, 'Hassan': 7285, 'treaty': 7286, 'ray': 7287, 'Plane': 7288, 'postpones': 7289, 'Bad': 7290, 'struggled': 7291, 'Fifth': 7292, 'Halle': 7293, 'Mancini': 7294, 'lashed': 7295, 'derby': 7296, 'scrapped': 7297, 'shutting': 7298, 'stating': 7299, 'dumping': 7300, 'Ventures': 7301, 'Symphony': 7302, 'snapped': 7303, 'swung': 7304, 'NYSE': 7305, 'Raul': 7306, 'strained': 7307, 'Pink': 7308, 'concerning': 7309, 'medicines': 7310, 'eligible': 7311, 'presenter': 7312, 'Back': 7313, 'gubernatorial': 7314, 'replaces': 7315, 'Grace': 7316, 'reviewing': 7317, 'bedroom': 7318, 'Hilary': 7319, 'Alberto': 7320, 'extraordinary': 7321, 'administrator': 7322, 'Aviv': 7323, 'confrontation': 7324, 'posing': 7325, 'poses': 7326, 'airlifted': 7327, 'Krishna': 7328, 'prefer': 7329, 'FOX': 7330, 'voluntarily': 7331, 'plenty': 7332, 'comic': 7333, 'tragic': 7334, 'requiring': 7335, 'Gingrich': 7336, 'Kurt': 7337, 'afraid': 7338, 'reflecting': 7339, 'fever': 7340, 'Interactive': 7341, 'satellites': 7342, 'protecting': 7343, 'Hayden': 7344, 'Postal': 7345, 'Silva': 7346, 'Players': 7347, 'inch': 7348, 'Flyers': 7349, 'marketplace': 7350, 'Coalition': 7351, 'Knox': 7352, 'Movement': 7353, 'historical': 7354, 'Dream': 7355, 'Bengals': 7356, 'sheet': 7357, 'stays': 7358, 'unite': 7359, 'ambitious': 7360, 'elite': 7361, 'Bernie': 7362, 'nervous': 7363, 'Suffolk': 7364, 'minors': 7365, 'Connor': 7366, 'Damon': 7367, 'fierce': 7368, 'Mesa': 7369, 'clears': 7370, 'Season': 7371, 'Reynolds': 7372, 'ejected': 7373, 'Uganda': 7374, '400000': 7375, 'Erie': 7376, 'cream': 7377, 'promotions': 7378, 'Miguel': 7379, 'rage': 7380, 'Castle': 7381, 'steep': 7382, 'Take': 7383, 'Vale': 7384, 'Amsterdam': 7385, 'stood': 7386, 'Radcliffe': 7387, 'mouth': 7388, 'example': 7389, 'Jeffrey': 7390, 'Myrtle': 7391, 'mysterious': 7392, 'slowly': 7393, 'lobby': 7394, 'pressures': 7395, 'productivity': 7396, 'Prairie': 7397, 'Priyanka': 7398, 'appropriate': 7399, 'opposes': 7400, 'CNBC': 7401, 'Arlington': 7402, 'adjusted': 7403, 'Pyongyang': 7404, 'busted': 7405, 'MLS': 7406, 'washed': 7407, 'cheated': 7408, 'Culture': 7409, 'distance': 7410, 'sequel': 7411, 'ultimate': 7412, 'welterweight': 7413, 'Khalifa': 7414, 'penalties': 7415, 'Income': 7416, 'buyer': 7417, 'Manipur': 7418, 'ramp': 7419, 'criminals': 7420, 'Victor': 7421, 'greenhouse': 7422, 'Surrey': 7423, 'monsoon': 7424, '16th': 7425, 'dpa': 7426, 'corporation': 7427, 'Blackhawks': 7428, 'combine': 7429, 'Holy': 7430, 'beaches': 7431, 'Zimbabwean': 7432, 'tire': 7433, 'aware': 7434, 'Katherine': 7435, 'midday': 7436, 'Rossi': 7437, 'subway': 7438, 'Bin': 7439, 'Hodgson': 7440, 'opera': 7441, 'respectively': 7442, 'Lionel': 7443, 'Rally': 7444, 'AB': 7445, 'Nolan': 7446, 'tributes': 7447, 'Atletico': 7448, 'drain': 7449, '2.3': 7450, 'Telegraph': 7451, 'heating': 7452, 'Internal': 7453, 'consultancy': 7454, 'Living': 7455, 'predict': 7456, 'contempt': 7457, 'degrees': 7458, 'fiery': 7459, 'governing': 7460, 'graduates': 7461, 'Winston': 7462, 'Olmert': 7463, 'Author': 7464, 'painting': 7465, '104': 7466, 'invests': 7467, 'slips': 7468, 'Members': 7469, 'engage': 7470, 'shutdown': 7471, 'compound': 7472, 'dictator': 7473, 'Shahid': 7474, 'domain': 7475, 'albums': 7476, 'operates': 7477, 'Maldives': 7478, 'server': 7479, 'Commander': 7480, 'carmaker': 7481, 'Player': 7482, 'Coffee': 7483, 'mainland': 7484, 'permit': 7485, 'murders': 7486, 'Against': 7487, 'unexpected': 7488, 'trophy': 7489, 'SAN': 7490, 'Pietersen': 7491, 'Congo': 7492, 'Redknapp': 7493, 'Nuggets': 7494, 'expresses': 7495, 'Shaw': 7496, 'slows': 7497, 'Claude': 7498, 'intense': 7499, 'Samuel': 7500, 'athletic': 7501, 'Maradona': 7502, 'rescues': 7503, 'indicates': 7504, 'ODI': 7505, 'Frankfurt': 7506, 'Ramirez': 7507, 'bullying': 7508, 'seizure': 7509, 'Trading': 7510, 'Dogg': 7511, 'Michel': 7512, 'caution': 7513, 'loaded': 7514, 'Mayweather': 7515, 'Investments': 7516, 'stories': 7517, 'Les': 7518, 'comfortable': 7519, 'lover': 7520, 'myself': 7521, 'Jul': 7522, 'booking': 7523, 'adjourned': 7524, 'showcase': 7525, 'RIM': 7526, 'Raleigh': 7527, '5th': 7528, 'reunited': 7529, 'Coyotes': 7530, 'Nets': 7531, 'Wipro': 7532, 'Crawford': 7533, 'yards': 7534, 'Paula': 7535, 'lanes': 7536, 'spray': 7537, 'firearms': 7538, 'rockets': 7539, 'upbeat': 7540, 'Belmont': 7541, 'explodes': 7542, 'blames': 7543, 'lowers': 7544, 'lays': 7545, 'Corporate': 7546, 'shortstop': 7547, 'Fannie': 7548, 'Skip': 7549, 'census': 7550, 'Ashok': 7551, 'endangered': 7552, 'tattoo': 7553, 'hostile': 7554, 'wheelchair': 7555, '96': 7556, 'nationally': 7557, '2001': 7558, 'bracing': 7559, 'Invitational': 7560, 'participants': 7561, 'faculty': 7562, 'Medicaid': 7563, 'bargain': 7564, 'lion': 7565, 'Around': 7566, 'Jackie': 7567, 'Nielsen': 7568, 'belt': 7569, 'soul': 7570, 'Nitish': 7571, 'Ellis': 7572, 'programming': 7573, 'rocked': 7574, 'operated': 7575, 'Alzheimer': 7576, 'Clemens': 7577, 'restart': 7578, 'Karabakh': 7579, 'Burma': 7580, 'Reality': 7581, 'Carlisle': 7582, 'Parliamentary': 7583, 'institute': 7584, 'seekers': 7585, '+': 7586, 'sexy': 7587, 'Sara': 7588, 'pills': 7589, 'Gosselin': 7590, 'abduction': 7591, 'blasted': 7592, 'Municipal': 7593, 'Bombay': 7594, 'Vienna': 7595, 'command': 7596, 'climbing': 7597, 'Jenkins': 7598, 'atomic': 7599, 'economist': 7600, 'acid': 7601, 'Reporter': 7602, 'External': 7603, 'coma': 7604, 'certificate': 7605, 'households': 7606, 'Klitschko': 7607, 'grass': 7608, 'Hurricanes': 7609, 'advocates': 7610, 'Parks': 7611, 'Simmons': 7612, 'Volvo': 7613, 'iPod': 7614, 'Mega': 7615, 'usual': 7616, 'surcharge': 7617, 'Pearl': 7618, 'Vernon': 7619, 'asthma': 7620, 'Luther': 7621, 'oppose': 7622, 'Motorcyclist': 7623, 'ceremonies': 7624, 'pitching': 7625, 'Fairfield': 7626, '180': 7627, 'Toshiba': 7628, 'pushes': 7629, '49ers': 7630, 'disappeared': 7631, 'exclusively': 7632, '250000': 7633, 'Intelligence': 7634, 'elements': 7635, 'relay': 7636, 'handset': 7637, 'thunderstorm': 7638, 'initiated': 7639, 'resolved': 7640, 'Gate': 7641, 'Box': 7642, 'laser': 7643, 'firmer': 7644, 'middleweight': 7645, 'meals': 7646, 'pitches': 7647, 'headline': 7648, 'sitcom': 7649, 'printing': 7650, 'logistics': 7651, 'columnist': 7652, 'shocked': 7653, 'Wallabies': 7654, 'Northeast': 7655, 'autumn': 7656, 'creditors': 7657, 'ounce': 7658, 'ousted': 7659, 'Asset': 7660, 'dam': 7661, 'Growth': 7662, 'Rev': 7663, 'batch': 7664, 'Netflix': 7665, 'lighting': 7666, 'surrender': 7667, 'volatility': 7668, 'Chilean': 7669, 'chat': 7670, 'Dance': 7671, 'Endeavour': 7672, 'waves': 7673, 'Both': 7674, 'founding': 7675, 'Berkeley': 7676, 'radiation': 7677, 'Pelosi': 7678, 'agreeing': 7679, 'sized': 7680, 'slain': 7681, 'nurses': 7682, 'Cal': 7683, 'Seri': 7684, 'strengthens': 7685, 'slower': 7686, 'negotiating': 7687, 'Citi': 7688, 'Newly': 7689, 'trigger': 7690, 'Perez': 7691, 'grandmother': 7692, 'wed': 7693, 'sun': 7694, 'del': 7695, 'Movie': 7696, 'Messi': 7697, 'pioneer': 7698, 'rifle': 7699, 'rebuild': 7700, 'Cannon': 7701, 'Raymond': 7702, 'sleeping': 7703, 'clashed': 7704, 'awaiting': 7705, 'Iceland': 7706, 'Sound': 7707, 'revenge': 7708, 'Levi': 7709, 'discussing': 7710, 'consolidate': 7711, 'meter': 7712, 'Severe': 7713, 'eases': 7714, 'proposing': 7715, 'Telekom': 7716, 'greenback': 7717, 'accidental': 7718, 'Paulo': 7719, 'roughly': 7720, 'nor': 7721, 'surface': 7722, 'debates': 7723, 'designs': 7724, 'Crosby': 7725, 'Canberra': 7726, 'Kingfisher': 7727, 'linking': 7728, 'jointly': 7729, 'restricted': 7730, 'gallon': 7731, 'Isle': 7732, 'Mick': 7733, 'Lawmakers': 7734, 'fruit': 7735, '2003': 7736, 'poker': 7737, 'Depot': 7738, 'moral': 7739, 'explains': 7740, 'lashes': 7741, 'Huffington': 7742, 'Spirit': 7743, 'heels': 7744, 'sentences': 7745, 'Angola': 7746, 'dirty': 7747, 'Ponting': 7748, 'indicating': 7749, 'installation': 7750, 'Herman': 7751, 'workplace': 7752, 'Chuck': 7753, 'ITV': 7754, 'Order': 7755, 'Peninsula': 7756, 'competing': 7757, 'mansion': 7758, 'Alonso': 7759, 'capsized': 7760, 'Antony': 7761, 'admit': 7762, 'budgets': 7763, 'statutory': 7764, 'Ki': 7765, 'institutional': 7766, 'Neill': 7767, 'stance': 7768, 'Italia': 7769, 'Croatian': 7770, 'WBC': 7771, 'Hewitt': 7772, 'ultra': 7773, 'requires': 7774, 'removal': 7775, 'flee': 7776, 'Aid': 7777, 'panic': 7778, 'flooded': 7779, 'ND': 7780, 'Age': 7781, 'JSE': 7782, 'Airline': 7783, 'error': 7784, 'autism': 7785, 'Stakes': 7786, 'Mercury': 7787, 'LeBron': 7788, 'Newt': 7789, 'Met': 7790, 'pursuit': 7791, 'Earlier': 7792, 'Access': 7793, 'slight': 7794, 'Lawyers': 7795, 'resigning': 7796, 'Pine': 7797, 'Gwyneth': 7798, 'Paltrow': 7799, 'Samantha': 7800, 'Westminster': 7801, 'Mali': 7802, 'setback': 7803, 'truth': 7804, 'ASEAN': 7805, 'incumbent': 7806, 'Yesterday': 7807, 'reject': 7808, 'coup': 7809, 'Member': 7810, 'spends': 7811, 'observers': 7812, 'libel': 7813, 'Aliyev': 7814, 'Cities': 7815, 'burden': 7816, 'Gerard': 7817, 'collections': 7818, 'Rajapaksa': 7819, 'opponent': 7820, 'LTTE': 7821, 'astronaut': 7822, 'funded': 7823, 'widened': 7824, '300000': 7825, 'openly': 7826, 'stalled': 7827, 'researcher': 7828, 'lockout': 7829, 'Johnston': 7830, 'prayers': 7831, 'Eden': 7832, 'delighted': 7833, 'Employment': 7834, 'teach': 7835, 'Low': 7836, 'harvest': 7837, 'Films': 7838, 'bump': 7839, '450': 7840, 'harm': 7841, 'Automotive': 7842, 'Abraham': 7843, 'signature': 7844, 'ripped': 7845, 'soap': 7846, 'Yang': 7847, 'mothers': 7848, 'drummer': 7849, 'wrestling': 7850, 'Duff': 7851, 'manner': 7852, 'characters': 7853, 'difficulties': 7854, 'Javier': 7855, 'truly': 7856, 'classroom': 7857, 'matters': 7858, 'flew': 7859, 'Owens': 7860, 'disabilities': 7861, 'sting': 7862, 'predicts': 7863, 'Pilot': 7864, 'Giant': 7865, 'infected': 7866, 'scanner': 7867, 'Christ': 7868, 'tighten': 7869, 'discusses': 7870, 'magic': 7871, 'CPI': 7872, 'theater': 7873, 'unemployed': 7874, 'Hernandez': 7875, 'Marketing': 7876, 'imminent': 7877, 'Arabian': 7878, 'hide': 7879, 'presenting': 7880, 'Arquette': 7881, 'informs': 7882, 'Professional': 7883, 'toxic': 7884, 'Zac': 7885, 'tumble': 7886, 'la': 7887, 'slid': 7888, 'F1': 7889, 'Vettel': 7890, 'highlights': 7891, 'academy': 7892, 'thief': 7893, 'Legal': 7894, 'Funeral': 7895, '6.5': 7896, 'Orchestra': 7897, 'Panama': 7898, 'startup': 7899, 'Domestic': 7900, 'Megan': 7901, 'pak': 7902, 'Tributes': 7903, 'POLICE': 7904, 'hidden': 7905, 'Infrastructure': 7906, 'Tebow': 7907, 'Due': 7908, 'cup': 7909, 'Di': 7910, 'attendance': 7911, 'consultant': 7912, 'mandatory': 7913, 'Portman': 7914, 'garbage': 7915, 'customs': 7916, 'foods': 7917, 'Gerrard': 7918, 'Tajikistan': 7919, 'lined': 7920, 'advocate': 7921, 'behavior': 7922, 'Plant': 7923, 'repay': 7924, 'Aquino': 7925, 'introduction': 7926, 'holy': 7927, 'Chester': 7928, 'temperature': 7929, 'Sanders': 7930, 'notices': 7931, 'initially': 7932, 'prop': 7933, 'bonus': 7934, 'McDonnell': 7935, 'yellow': 7936, 'boxer': 7937, 'Focus': 7938, 'balanced': 7939, 'treatments': 7940, 'sprint': 7941, 'consultation': 7942, 'charities': 7943, 'Medal': 7944, 'Days': 7945, 'Rico': 7946, 'robbers': 7947, 'turnover': 7948, 'portable': 7949, 'Courtney': 7950, 'robust': 7951, 'Telangana': 7952, 'publicist': 7953, 'calendar': 7954, 'Eid': 7955, 'tradition': 7956, 'banning': 7957, 'generic': 7958, 'Manitoba': 7959, 'ferry': 7960, 'BNP': 7961, 'Shiv': 7962, 'GaGa': 7963, 'outages': 7964, 'doubts': 7965, 'embattled': 7966, 'Holder': 7967, 'bitten': 7968, 'Kamal': 7969, 'consent': 7970, 'bullpen': 7971, 'Carlo': 7972, 'Duchess': 7973, 'investigations': 7974, 'associate': 7975, 'requests': 7976, 'Bird': 7977, 'Taiwanese': 7978, 'inauguration': 7979, 'Slovakia': 7980, 'Hearts': 7981, 'renovation': 7982, 'Chrome': 7983, 'Majority': 7984, 'Americas': 7985, 'transparency': 7986, 'consideration': 7987, 'venue': 7988, 'farms': 7989, 'Rica': 7990, 'Eye': 7991, 'Kidman': 7992, 'acknowledged': 7993, 'deny': 7994, 'repurchase': 7995, 'tweet': 7996, 'Horizon': 7997, 'Resorts': 7998, 'remainder': 7999, 'Kurdish': 8000, 'pages': 8001, 'payroll': 8002, 'famed': 8003, 'connect': 8004, 'tiger': 8005, 'trader': 8006, 'boards': 8007, 'offseason': 8008, 'dramatically': 8009, 'Pride': 8010, 'narrow': 8011, 'ICICI': 8012, 'profitability': 8013, 'Kerr': 8014, 'Choice': 8015, 'Hampton': 8016, 'contestant': 8017, 'stopping': 8018, 'Huntsman': 8019, 'Montag': 8020, 'Halloween': 8021, 'dump': 8022, 'Victorian': 8023, 'blind': 8024, 'resistances': 8025, 'convert': 8026, 'deportation': 8027, 'suspending': 8028, 'formerly': 8029, 'demonstrators': 8030, 'Morocco': 8031, 'Dale': 8032, 'Pawlenty': 8033, 'Amir': 8034, 'Stern': 8035, 'Coronation': 8036, 'sprained': 8037, 'physically': 8038, 'administrators': 8039, 'valley': 8040, 'dual': 8041, '225': 8042, 'Franco': 8043, 'Play': 8044, 'stricken': 8045, 'planting': 8046, 'methods': 8047, 'crops': 8048, 'Nuclear': 8049, 'gala': 8050, 'wicket': 8051, 'sum': 8052, 'Daniels': 8053, 'Tomas': 8054, 'withdrawing': 8055, 'attorneys': 8056, 'addiction': 8057, 'avoided': 8058, 'Aurora': 8059, 'describing': 8060, 'Malcolm': 8061, 'overweight': 8062, 'Lucknow': 8063, 'organisations': 8064, 'neighbouring': 8065, 'Clegg': 8066, 'groin': 8067, 'Comic': 8068, 'endangerment': 8069, 'method': 8070, 'Million': 8071, 'shortages': 8072, 'crown': 8073, 'Gadhafi': 8074, 'Zimmerman': 8075, 'Appeal': 8076, 'Telstra': 8077, 'Oasis': 8078, 'placing': 8079, 'Spider': 8080, 'senators': 8081, 'Canterbury': 8082, 'concludes': 8083, 'Branch': 8084, 'Blockbuster': 8085, 'recognised': 8086, 'Lehigh': 8087, 'Walters': 8088, '1400': 8089, 'entrepreneurs': 8090, 'Hood': 8091, 'reputation': 8092, 'AFC': 8093, 'Seng': 8094, 'reunite': 8095, 'Brunswick': 8096, 'responds': 8097, 'deploy': 8098, 'mln': 8099, 'transfers': 8100, 'injures': 8101, 'Pedestrian': 8102, 'cheaper': 8103, 'wound': 8104, 'Minsk': 8105, 'Lautner': 8106, 'allocation': 8107, 'anger': 8108, 'surprised': 8109, 'sky': 8110, 'platinum': 8111, 'Curtis': 8112, 'indigenous': 8113, 'Rutgers': 8114, 'rapid': 8115, 'browser': 8116, 'Popular': 8117, 'Georgetown': 8118, 'enjoys': 8119, 'loose': 8120, 'Haley': 8121, 'sponsors': 8122, 'Gardens': 8123, 'hammer': 8124, 'explosives': 8125, 'blockade': 8126, 'treating': 8127, 'earning': 8128, 'upside': 8129, 'Bermuda': 8130, 'SP': 8131, 'nearing': 8132, 'Mich': 8133, 'indeed': 8134, 'Accra': 8135, 'du': 8136, 'BSE': 8137, 'clinched': 8138, 'dubbed': 8139, 'Premiership': 8140, 'experiences': 8141, 'facial': 8142, 'cigarettes': 8143, 'kiss': 8144, 'weakening': 8145, 'Category': 8146, 'thus': 8147, 'litre': 8148, 'Aussie': 8149, 'Alice': 8150, 'Anand': 8151, 'Horse': 8152, 'Matthews': 8153, 'departure': 8154, 'pride': 8155, 'Bucks': 8156, 'exist': 8157, 'Jenna': 8158, 'mode': 8159, 'Robertson': 8160, 'Re': 8161, 'FTSE': 8162, 'purpose': 8163, 'Lancaster': 8164, 'reactor': 8165, 'boom': 8166, 'passport': 8167, 'precious': 8168, 'infections': 8169, 'dipped': 8170, 'Carson': 8171, 'Carr': 8172, 'cemetery': 8173, 'Himachal': 8174, 'desktop': 8175, 'procedures': 8176, 'desire': 8177, 'editorial': 8178, 'uprising': 8179, 'riots': 8180, 'Novosti': 8181, 'Shield': 8182, 'Felix': 8183, 'Sons': 8184, 'Managing': 8185, 'confirmation': 8186, 'o': 8187, 'yield': 8188, 'Mitsubishi': 8189, 'dressed': 8190, 'Hussain': 8191, '8000': 8192, 'Wizards': 8193, 'casting': 8194, 'Lansing': 8195, 'lane': 8196, 'fisherman': 8197, 'Carnival': 8198, 'proof': 8199, 'Sporting': 8200, 'Historic': 8201, 'malaria': 8202, 'Dodge': 8203, 'opposite': 8204, 'Jade': 8205, 'shook': 8206, 'Ike': 8207, 'Lafayette': 8208, 'Albuquerque': 8209, 'fractured': 8210, 'Amid': 8211, 'Muamba': 8212, 'na': 8213, 'QB': 8214, 'orbit': 8215, 'Alexandra': 8216, 'Morrison': 8217, 'casualties': 8218, 'LED': 8219, 'Fairfax': 8220, 'Walt': 8221, 'Dragon': 8222, 'Willie': 8223, 'jackpot': 8224, 'upheld': 8225, 'tap': 8226, 'worsening': 8227, 'Shannon': 8228, 'Plains': 8229, 'Yeddyurappa': 8230, 'Although': 8231, 'appearances': 8232, 'Soviet': 8233, 'equality': 8234, 'legislators': 8235, 'Investigators': 8236, 'gig': 8237, 'preparations': 8238, 'Review': 8239, 'RCMP': 8240, 'reunion': 8241, 'freezing': 8242, 'Stores': 8243, 'goaltender': 8244, 'surpassed': 8245, 'conglomerate': 8246, 'Parkway': 8247, 'congressman': 8248, 'deserve': 8249, 'Leafs': 8250, 'Isaac': 8251, 'estimate': 8252, 'Common': 8253, 'Dover': 8254, 'satisfaction': 8255, 'Evan': 8256, 'Progress': 8257, 'graduation': 8258, 'factors': 8259, '2.0': 8260, 'grenade': 8261, 'origin': 8262, 'Clemson': 8263, 'cleaning': 8264, 'bathroom': 8265, 'Prison': 8266, 'builder': 8267, 'Moines': 8268, 'Kodak': 8269, 'App': 8270, 'reliable': 8271, 'Li': 8272, 'directing': 8273, 'rap': 8274, 'flags': 8275, 'exam': 8276, 'lightweight': 8277, 'Census': 8278, 'bias': 8279, 'pig': 8280, 'gym': 8281, 'empty': 8282, 'backyard': 8283, 'sometimes': 8284, 'repeated': 8285, 'Brooke': 8286, 'Shawn': 8287, 'Diane': 8288, 'Rory': 8289, 'Hyundai': 8290, 'sometime': 8291, 'monitors': 8292, 'Logan': 8293, 'blown': 8294, 'Paper': 8295, 'vegetables': 8296, 'exhibit': 8297, 'mega': 8298, 'Davies': 8299, 'Bang': 8300, 'Blackpool': 8301, 'unfair': 8302, 'hostages': 8303, 'relation': 8304, 'Hang': 8305, 'factories': 8306, 'Zuckerberg': 8307, 'Fidel': 8308, 'waive': 8309, 'peacefully': 8310, 'entrance': 8311, 'Lou': 8312, 'visas': 8313, 'Binghamton': 8314, 'blaming': 8315, 'Sidney': 8316, 'Recovery': 8317, 'Companies': 8318, 'attendant': 8319, 'ordinary': 8320, 'Shriver': 8321, 'confirming': 8322, 'sweet': 8323, 'Audi': 8324, 'establishment': 8325, 'seeded': 8326, 'hacking': 8327, 'MVP': 8328, 'detective': 8329, 'thank': 8330, 'Cotton': 8331, 'maiden': 8332, 'warship': 8333, 'Uzbekistan': 8334, 'interesting': 8335, 'Holocaust': 8336, '40000': 8337, 'freshman': 8338, 'automated': 8339, 'rid': 8340, 'Page': 8341, 'Qld': 8342, 'Leone': 8343, 'Hillsborough': 8344, 'Macau': 8345, 'DWI': 8346, '2.7': 8347, 'courthouse': 8348, 'clearly': 8349, 'Unit': 8350, 'sparking': 8351, 'briefing': 8352, 'Lloyds': 8353, 'Samajwadi': 8354, 'prayer': 8355, 'Petrol': 8356, 'Forbes': 8357, 'Immigration': 8358, 'persistent': 8359, 'Pass': 8360, 'disturbance': 8361, '2.1': 8362, 'tightened': 8363, 'Better': 8364, 'signals': 8365, 'followers': 8366, 'Burton': 8367, 'mosque': 8368, 'grabbed': 8369, 'Circle': 8370, 'continent': 8371, 'Jaguar': 8372, 'achievements': 8373, 'pizza': 8374, 'Bosnia': 8375, 'bearish': 8376, '8.5': 8377, 'micro': 8378, 'Copa': 8379, 'rounder': 8380, 'secretly': 8381, 'notorious': 8382, 'gender': 8383, 'convinced': 8384, 'relative': 8385, 'Klum': 8386, 'lots': 8387, 'Hogan': 8388, 'evacuate': 8389, 'Winslet': 8390, 'tycoon': 8391, 'Campaign': 8392, 'Hague': 8393, 'kilometres': 8394, 'workout': 8395, 'DiCaprio': 8396, 'belonging': 8397, 'stalking': 8398, 'highlight': 8399, 'Gloucester': 8400, 'nice': 8401, 'negotiate': 8402, 'Deepika': 8403, 'Knoxville': 8404, 'exceed': 8405, 'Clayton': 8406, 'Complex': 8407, 'demolished': 8408, 'Ronson': 8409, 'lodged': 8410, 'Caroline': 8411, 'divisions': 8412, 'reconstruction': 8413, 'councillor': 8414, 'annually': 8415, 'Manufacturing': 8416, 'explained': 8417, 'Paterno': 8418, 'Kourtney': 8419, 'activate': 8420, 'Johan': 8421, 'Treasurer': 8422, 'dementia': 8423, 'Guardian': 8424, 'dawn': 8425, '8th': 8426, 'sole': 8427, 'Dawn': 8428, 'Southampton': 8429, 'debuts': 8430, 'Metropolitan': 8431, 'Irene': 8432, 'cleric': 8433, 'Jared': 8434, 'Letterman': 8435, 'Nazi': 8436, 'entrepreneur': 8437, 'dentist': 8438, 'margins': 8439, 'wrapped': 8440, 'canal': 8441, 'borrow': 8442, 'publishers': 8443, 'Adobe': 8444, 'findings': 8445, 'critic': 8446, 'theaters': 8447, 'Burnley': 8448, 'Partnership': 8449, 'Eli': 8450, 'lengthy': 8451, 'Shetty': 8452, 'liability': 8453, 'obsessed': 8454, 'Ban': 8455, 'tier': 8456, 'destruction': 8457, 'Linda': 8458, 'nonprofit': 8459, 'Holly': 8460, 'bases': 8461, 'Leonard': 8462, 'supermodel': 8463, 'mentor': 8464, 'Snoop': 8465, 'clinics': 8466, 'skies': 8467, 'Ms': 8468, 'Kuala': 8469, 'Go': 8470, 'decisive': 8471, 'accelerated': 8472, 'inches': 8473, 'slot': 8474, '150000': 8475, 'Jorge': 8476, 'boil': 8477, '5.5': 8478, 'Ethiopian': 8479, 'councillors': 8480, 'subdued': 8481, 'lets': 8482, 'passage': 8483, 'combination': 8484, 'mayoral': 8485, 'urgent': 8486, 'Abbey': 8487, 'examination': 8488, 'cabin': 8489, 'Metal': 8490, 'Female': 8491, 'Queens': 8492, 'sad': 8493, 'immigrant': 8494, 'Stones': 8495, 'Caterpillar': 8496, 'exploitation': 8497, 'dividends': 8498, 'Mirza': 8499, 'roots': 8500, 'committing': 8501, 'rep': 8502, 'Maritime': 8503, 'aggregate': 8504, 'yacht': 8505, 'Newsday': 8506, 'petroleum': 8507, 'spotlight': 8508, 'Lagos': 8509, 'Cannes': 8510, 'axe': 8511, 'eggs': 8512, 'preserve': 8513, 'immunity': 8514, 'hungry': 8515, 'Fraser': 8516, 'Cruises': 8517, 'reinstated': 8518, 'burnt': 8519, 'attitude': 8520, 'Hip': 8521, 'elects': 8522, 'Dynamics': 8523, 'marched': 8524, 'biological': 8525, 'Jews': 8526, 'presidents': 8527, 'internationally': 8528, 'fertilizer': 8529, 'guitar': 8530, 'arrangements': 8531, '12000': 8532, 'intellectual': 8533, '1.8': 8534, 'shake': 8535, 'arguing': 8536, 'neighbour': 8537, 'merchant': 8538, 'flexible': 8539, 'obligations': 8540, 'evaluation': 8541, 'Indo': 8542, 'Chevrolet': 8543, 'deliberately': 8544, 'Micro': 8545, 'Downs': 8546, 'plate': 8547, 'Parkinson': 8548, 'Lindsey': 8549, 'pieces': 8550, 'Trent': 8551, 'Hold': 8552, 'lists': 8553, 'legislature': 8554, 'Lithuania': 8555, 'Dustin': 8556, 'Command': 8557, 'generating': 8558, 'highlighting': 8559, 'cooking': 8560, 'fare': 8561, 'represents': 8562, 'prefers': 8563, 'firmly': 8564, 'Watford': 8565, 'Mad': 8566, 'Durban': 8567, 'vandalism': 8568, 'commitments': 8569, 'Ariz': 8570, 'specifically': 8571, 'Ehud': 8572, 'Martha': 8573, '28th': 8574, 'implications': 8575, 'shifted': 8576, 'aground': 8577, 'indices': 8578, 'devastated': 8579, 'escalating': 8580, 'Vista': 8581, 'corrupt': 8582, 'RIA': 8583, 'Bafana': 8584, 'disorders': 8585, 'killings': 8586, 'soared': 8587, 'successive': 8588, 'cease': 8589, 'deepening': 8590, 'Sandusky': 8591, 'Conan': 8592, 'majors': 8593, 'Oilers': 8594, 'Guantanamo': 8595, 'relationships': 8596, 'McIlroy': 8597, 'Ibrahim': 8598, 'ash': 8599, 'certainly': 8600, 'Laurent': 8601, '60th': 8602, 'sinks': 8603, 'sovereignty': 8604, 'Suns': 8605, 'Pharma': 8606, 'Madoff': 8607, 'Humphries': 8608, 'O2': 8609, 'appreciation': 8610, 'motel': 8611, 'Cavaliers': 8612, 'Ranbir': 8613, 'recommends': 8614, 'Coroner': 8615, 'bankrupt': 8616, 'surrendered': 8617, 'autobiography': 8618, 'happens': 8619, 'Lion': 8620, 'hangs': 8621, 'MRI': 8622, 'Bangladeshi': 8623, 'breakdown': 8624, 'guys': 8625, 'transparent': 8626, 'Denise': 8627, 'faulty': 8628, 'Civic': 8629, 'Platinum': 8630, 'Lennon': 8631, 'thefts': 8632, 'Wembley': 8633, 'chose': 8634, 'united': 8635, 'vessels': 8636, 'Shahbaz': 8637, 'Amnesty': 8638, 'hazardous': 8639, 'laptops': 8640, 'serves': 8641, 'demolition': 8642, 'Gallery': 8643, 'principle': 8644, 'Sussex': 8645, 'Kay': 8646, 'martial': 8647, 'Coventry': 8648, 'cats': 8649, 'Arroyo': 8650, 'repeat': 8651, 'reflect': 8652, 'discipline': 8653, 'steam': 8654, 'opted': 8655, 'owes': 8656, 'Nottingham': 8657, 'Non': 8658, 'Mozambique': 8659, 'Wanderers': 8660, 'pray': 8661, 'mechanism': 8662, 'breaching': 8663, 'respiratory': 8664, 'pot': 8665, 'Oval': 8666, 'Elections': 8667, 'sewer': 8668, 'Cathedral': 8669, 'washing': 8670, 'USS': 8671, 'Doha': 8672, 'Tunisian': 8673, 'nights': 8674, 'bottles': 8675, 'RSS': 8676, 'federation': 8677, 'happiness': 8678, 'scratched': 8679, 'concessions': 8680, 'GP': 8681, 'experiencing': 8682, 'dismissal': 8683, 'hat': 8684, 'Ralph': 8685, 'MW': 8686, 'abandon': 8687, 'dancing': 8688, 'metric': 8689, 'rogue': 8690, 'tweeted': 8691, 'Saeed': 8692, 'Plans': 8693, 'Arbor': 8694, 'collecting': 8695, 'Garrett': 8696, 'Roethlisberger': 8697, 'territorial': 8698, 'Leigh': 8699, 'accreditation': 8700, 'exporter': 8701, 'Reilly': 8702, 'Salvation': 8703, 'Supply': 8704, 'blogger': 8705, 'Commons': 8706, 'wrap': 8707, 'promotes': 8708, 'expires': 8709, 'volumes': 8710, 'hates': 8711, 'contaminated': 8712, 'instant': 8713, 'Chandigarh': 8714, 'indictment': 8715, 'starter': 8716, 'mad': 8717, 'Grey': 8718, 'Pound': 8719, 'unmanned': 8720, 'reiterates': 8721, 'Sikh': 8722, 'deeper': 8723, 'Vic': 8724, 'Islanders': 8725, 'designate': 8726, 'Timor': 8727, 'enemy': 8728, '2.6': 8729, 'thermal': 8730, 'airspace': 8731, 'impaired': 8732, 'collide': 8733, 'plunges': 8734, 'slashes': 8735, 'undercover': 8736, 'contamination': 8737, 'indie': 8738, 'MD': 8739, 'surgeon': 8740, 'trim': 8741, 'owed': 8742, 'Beirut': 8743, 'Homeless': 8744, 'finalist': 8745, 'whatever': 8746, 'outlet': 8747, 'Nixon': 8748, 'fragile': 8749, 'Officers': 8750, 'Malley': 8751, 'railroad': 8752, 'Comedy': 8753, 'Ana': 8754, 'Hewlett': 8755, 'skating': 8756, 'Hannah': 8757, 'legacy': 8758, 'seemed': 8759, 'preventing': 8760, 'appetite': 8761, 'automation': 8762, 'complained': 8763, 'sat': 8764, 'pink': 8765, 'demonstrate': 8766, 'Cooperation': 8767, 'downloads': 8768, 'hunters': 8769, 'bold': 8770, 'secrets': 8771, 'landfall': 8772, 'foreclosures': 8773, 'scared': 8774, 'splitting': 8775, 'conferences': 8776, 'Tina': 8777, 'Twin': 8778, 'Hitachi': 8779, 'YEAR': 8780, 'donor': 8781, 'respects': 8782, 'Tornado': 8783, 'Ramdev': 8784, 'tariffs': 8785, 'champ': 8786, 'pursuing': 8787, 'Mom': 8788, 'narrowed': 8789, 'Jermaine': 8790, 'Bolivia': 8791, 'amongst': 8792, 'interviews': 8793, 'dreams': 8794, 'actively': 8795, 'indexes': 8796, 'Song': 8797, 'richest': 8798, 'hiked': 8799, 'Fine': 8800, 'Afghans': 8801, 'cops': 8802, 'Tan': 8803, 'checking': 8804, 'rent': 8805, 'observe': 8806, 'courtroom': 8807, 'gene': 8808, 'Hindi': 8809, 'tightening': 8810, 'stint': 8811, 'Nexus': 8812, 'Webb': 8813, 'automatic': 8814, 'dominate': 8815, 'Superstar': 8816, 'indication': 8817, 'Rush': 8818, 'Earl': 8819, 'punch': 8820, 'juvenile': 8821, 'Dawson': 8822, 'Scouts': 8823, 'concentrate': 8824, 'Venus': 8825, 'bowl': 8826, 'slumped': 8827, 'Mercy': 8828, 'servants': 8829, 'Victory': 8830, 'trademark': 8831, 'Hurley': 8832, 'Lowe': 8833, 'Universe': 8834, 'Design': 8835, 'PCs': 8836, 'provisions': 8837, 'Augusta': 8838, 'True': 8839, 'booming': 8840, 'weigh': 8841, 'Marvel': 8842, 'Consumers': 8843, 'Usain': 8844, 'Flash': 8845, 'Trial': 8846, 'Suicide': 8847, 'arrivals': 8848, 'Zach': 8849, 'vendors': 8850, 'heated': 8851, 'reelection': 8852, 'embezzlement': 8853, 'panels': 8854, 'conjunction': 8855, 'Reagan': 8856, 'Clarkson': 8857, 'desert': 8858, 'focuses': 8859, 'Uruguay': 8860, 'hackers': 8861, 'disruption': 8862, 'protested': 8863, 'apparel': 8864, 'Boise': 8865, 'Cambodia': 8866, 'LLP': 8867, 'achievement': 8868, 'Melissa': 8869, 'Prices': 8870, 'Higher': 8871, 'showdown': 8872, 'Cage': 8873, 'Hai': 8874, 'Rivera': 8875, 'bridges': 8876, 'ravaged': 8877, 'Stage': 8878, 'Cohen': 8879, 'Kindle': 8880, 'assess': 8881, 'ports': 8882, '750': 8883, 'Groupon': 8884, 'Reno': 8885, 'Blu': 8886, 'Booker': 8887, 'banker': 8888, 'councils': 8889, 'Karan': 8890, 'witnessed': 8891, 'toy': 8892, 'handing': 8893, 'Kuwaiti': 8894, 'denying': 8895, 'Every': 8896, 'Rover': 8897, 'Trafford': 8898, 'Yerevan': 8899, 'Desert': 8900, 'caps': 8901, 'aftermath': 8902, 'Illegal': 8903, 'dealt': 8904, 'bloc': 8905, 'judgment': 8906, 'UC': 8907, 'minorities': 8908, 'Shirley': 8909, 'learnt': 8910, 'finalized': 8911, 'Debt': 8912, 'mix': 8913, 'overwhelming': 8914, 'crushing': 8915, 'disasters': 8916, 'acre': 8917, 'lecture': 8918, 'upto': 8919, 'chocolate': 8920, 'Marsh': 8921, 'letting': 8922, 'Julius': 8923, 'Round': 8924, 'expense': 8925, 'zones': 8926, 'Chevron': 8927, 'bet': 8928, 'Massa': 8929, 'cab': 8930, 'spinner': 8931, 'Ranch': 8932, 'Westwood': 8933, 'filling': 8934, 'Tory': 8935, 'WBA': 8936, 'Goody': 8937, 'liquid': 8938, 'Ipswich': 8939, 'Mila': 8940, 'Kunis': 8941, 'Fight': 8942, 'sections': 8943, 'Lea': 8944, 'attracted': 8945, 'rear': 8946, 'Joan': 8947, 'Wife': 8948, 'separated': 8949, 'Albania': 8950, 'MSNBC': 8951, 'bombers': 8952, 'reinstate': 8953, 'intensified': 8954, 'Savannah': 8955, 'bands': 8956, 'builds': 8957, 'Pakistanis': 8958, 'Crash': 8959, 'apologise': 8960, 'Mellon': 8961, 'touring': 8962, 'Emily': 8963, 'Nigel': 8964, 'touchdown': 8965, 'kg': 8966, 'friendship': 8967, 'semiconductor': 8968, 'committees': 8969, 'Ritchie': 8970, 'Johns': 8971, 'Belgrade': 8972, 'prolonged': 8973, 'ligament': 8974, 'stamp': 8975, 'Instruments': 8976, 'Superintendent': 8977, 'Mickey': 8978, 'catching': 8979, 'Gabriel': 8980, 'Which': 8981, 'Rapid': 8982, 'Lilly': 8983, 'Hunt': 8984, 'successor': 8985, 'divided': 8986, 'Speed': 8987, 'Guinness': 8988, 'Do': 8989, 'Ultimate': 8990, 'Model': 8991, 'Nasdaq': 8992, 'Corning': 8993, 'crazy': 8994, 'roommate': 8995, 'disqualified': 8996, 'pictured': 8997, 'forgery': 8998, 'virtually': 8999, 'spare': 9000, 'Icahn': 9001, 'Leinster': 9002, 'Warne': 9003, 'Marks': 9004, 'occupation': 9005, 'taught': 9006, 'Shiite': 9007, '0.1': 9008, 'Chaudhry': 9009, 'Midland': 9010, 'golden': 9011, 'Zurich': 9012, 'medication': 9013, 'adaptation': 9014, 'spots': 9015, 'Rebecca': 9016, 'Come': 9017, 'Homes': 9018, 'candlestick': 9019, 'broking': 9020, 'Fifa': 9021, 'dengue': 9022, 'Peters': 9023, 'trio': 9024, 'haul': 9025, 'Prevention': 9026, 'smash': 9027, 'Controversial': 9028, 'Highland': 9029, 'Jude': 9030, 'calf': 9031, 'Vehicle': 9032, '24th': 9033, 'gotten': 9034, 'spreads': 9035, '102': 9036, 'Jessie': 9037, 'sack': 9038, 'Efron': 9039, 'bishop': 9040, 'item': 9041, 'apartments': 9042, 'closures': 9043, 'Santana': 9044, 'organ': 9045, 'afford': 9046, 'adventure': 9047, 'ammunition': 9048, 'punching': 9049, 'Sheboygan': 9050, 'commuters': 9051, 'viral': 9052, 'Code': 9053, 'Palo': 9054, 'clock': 9055, 'notebook': 9056, 'Mayawati': 9057, 'Magistrate': 9058, 'Editor': 9059, 'landslide': 9060, 'collapsing': 9061, 'controller': 9062, 'Knights': 9063, 'premiums': 9064, 'lewd': 9065, 'integrity': 9066, 'Fuel': 9067, 'steals': 9068, 'larceny': 9069, 'rescheduled': 9070, 'shale': 9071, 'disrupt': 9072, 'ensuring': 9073, 'laboratory': 9074, 'breathing': 9075, 'steroids': 9076, 'brokers': 9077, 'Afridi': 9078, 'accessories': 9079, 'comparison': 9080, 'Chan': 9081, 'Pike': 9082, 'Irvine': 9083, 'impressed': 9084, 'Topeka': 9085, 'fog': 9086, 'Swat': 9087, 'Thieves': 9088, 'Call': 9089, 'shrink': 9090, 'experimental': 9091, '6.2': 9092, 'Biel': 9093, 'Packard': 9094, 'Official': 9095, 'sort': 9096, '2.4': 9097, 'Lokpal': 9098, 'folk': 9099, 'Bee': 9100, 'admission': 9101, 'Wars': 9102, 'Pepsi': 9103, 'gunfire': 9104, 'Rahman': 9105, 'Cavendish': 9106, 'menu': 9107, 'Appeals': 9108, 'tiny': 9109, 'understands': 9110, 'Carol': 9111, 'distributing': 9112, 'Families': 9113, 'breakaway': 9114, 'holdings': 9115, 'Methodist': 9116, 'otherwise': 9117, 'planet': 9118, 'tired': 9119, 'lies': 9120, 'Donnell': 9121, 'auctions': 9122, 'modestly': 9123, 'shrank': 9124, 'telecoms': 9125, '0.3': 9126, 'Daly': 9127, 'engulfing': 9128, 'diva': 9129, 'Grande': 9130, 'Napoli': 9131, 'postal': 9132, 'Midlands': 9133, 'pitched': 9134, 'Bentley': 9135, 'conclusion': 9136, 'Almost': 9137, 'MotoGP': 9138, 'youngsters': 9139, 'overwhelmingly': 9140, 'conceded': 9141, 'Eugene': 9142, '1600': 9143, 'meth': 9144, 'Waste': 9145, 'volcano': 9146, 'bloody': 9147, 'havoc': 9148, 'PayPal': 9149, '7.5': 9150, 'BAE': 9151, 'heroes': 9152, 'Keane': 9153, 'Benson': 9154, 'comply': 9155, 'Marines': 9156, 'Job': 9157, 'runoff': 9158, 'array': 9159, 'AirAsia': 9160, 'Cliff': 9161, 'Avalanche': 9162, 'Disease': 9163, 'solidarity': 9164, 'Monaco': 9165, 'Harlem': 9166, 'starred': 9167, 'controlling': 9168, 'Chandler': 9169, 'Shahrukh': 9170, 'transform': 9171, 'touching': 9172, 'Deputies': 9173, 'honoring': 9174, 'lovers': 9175, 'derivatives': 9176, 'demonstrations': 9177, 'describes': 9178, 'wrongful': 9179, 'Wen': 9180, 'meltdown': 9181, 'carries': 9182, 'Wholesale': 9183, 'Fallon': 9184, 'exploring': 9185, 'Millionaire': 9186, 'constable': 9187, 'overturns': 9188, 'Factory': 9189, 'Sevilla': 9190, 'Didier': 9191, 'Namibia': 9192, 'Byrne': 9193, 'Kid': 9194, 'Large': 9195, 'Baba': 9196, 'Comcast': 9197, 'Kochi': 9198, 'Wesley': 9199, 'Teenager': 9200, 'operative': 9201, 'Va': 9202, 'aerospace': 9203, 'pared': 9204, 'sterling': 9205, 'amended': 9206, 'bruised': 9207, 'soar': 9208, 'Seth': 9209, 'machinery': 9210, 'requirement': 9211, 'prosperity': 9212, 'inspectors': 9213, 'detailed': 9214, 'Crisis': 9215, 'Volunteers': 9216, 'wet': 9217, 'ST': 9218, 'pancreatic': 9219, 'Nate': 9220, 'Osborne': 9221, 'lap': 9222, 'voiced': 9223, 'skilled': 9224, 'Ramesh': 9225, 'Semiconductor': 9226, 'spectacular': 9227, 'derailed': 9228, 'suburbs': 9229, 'slaying': 9230, 'eager': 9231, 'landlord': 9232, 'undefeated': 9233, 'clinch': 9234, 'upward': 9235, 'Macon': 9236, 'counsel': 9237, 'da': 9238, 'Direction': 9239, 'accelerate': 9240, 'sinking': 9241, 'Hon': 9242, 'accord': 9243, 'frequent': 9244, 'Bosnian': 9245, 'congress': 9246, 'businessmen': 9247, 'swimmer': 9248, 'eyeing': 9249, 'Once': 9250, 'Hawke': 9251, 'Greenville': 9252, 'speeds': 9253, 'Ronald': 9254, 'ECB': 9255, 'consulate': 9256, 'Webster': 9257, 'ideal': 9258, 'endorsing': 9259, 'Spokane': 9260, 'catastrophic': 9261, 'tactics': 9262, 'revamped': 9263, 'rupees': 9264, 'Kylie': 9265, 'relatively': 9266, 'destroying': 9267, 'Yankee': 9268, 'grades': 9269, 'manufacture': 9270, 'Harley': 9271, 'Lumpur': 9272, 'vast': 9273, 'Macquarie': 9274, 'certified': 9275, 'Bhutto': 9276, 'Crist': 9277, 'conflicts': 9278, 'incentive': 9279, 'bikini': 9280, 'Jindal': 9281, 'purchasing': 9282, 'errors': 9283, 'outgoing': 9284, 'ministerial': 9285, 'episodes': 9286, 'dock': 9287, 'harsh': 9288, 'bargaining': 9289, 'webcast': 9290, 'grandfather': 9291, 'misleading': 9292, 'Rouge': 9293, 'Olivia': 9294, 'TI': 9295, 'Unilever': 9296, 'ambush': 9297, 'types': 9298, 'Alec': 9299, 'balls': 9300, 'Coldplay': 9301, 'renewal': 9302, 'neighboring': 9303, 'Wachovia': 9304, 'extradited': 9305, 'Mill': 9306, 'interviewed': 9307, 'Room': 9308, 'Marilyn': 9309, 'pensioner': 9310, 'EMC': 9311, 'restoration': 9312, 'Akron': 9313, 'Coral': 9314, 'Galway': 9315, 'dancer': 9316, 'Sienna': 9317, 'cigarette': 9318, 'Protesters': 9319, 'epic': 9320, 'raided': 9321, 'travelers': 9322, 'skip': 9323, 'shifting': 9324, 'articles': 9325, 'auctioned': 9326, 'Quality': 9327, 'Thatcher': 9328, 'Ghost': 9329, 'conditioning': 9330, 'Torres': 9331, 'attends': 9332, 'Bashir': 9333, 'choices': 9334, 'MT': 9335, 'Sisters': 9336, 'Ubisoft': 9337, 'flick': 9338, 'tweets': 9339, 'polio': 9340, 'Downtown': 9341, 'climbs': 9342, 'captures': 9343, 'widens': 9344, 'halts': 9345, 'forever': 9346, 'glory': 9347, 'Photo': 9348, 'eliminating': 9349, 'tunnel': 9350, 'Camden': 9351, 'Think': 9352, 'elsewhere': 9353, 'marred': 9354, 'Carlyle': 9355, 'directions': 9356, 'Principal': 9357, 'anywhere': 9358, 'trash': 9359, 'Bayer': 9360, 'backdrop': 9361, 'Clay': 9362, 'Barrymore': 9363, 'sailing': 9364, 'MTN': 9365, 'Citizens': 9366, 'tears': 9367, 'Northampton': 9368, 'defrauding': 9369, 'Pratibha': 9370, 'Incorporated': 9371, '1800': 9372, 'Lauderdale': 9373, 'mainstream': 9374, 'lasting': 9375, 'Worcester': 9376, 'digit': 9377, 'weighing': 9378, 'bride': 9379, 'Highlands': 9380, 'barrier': 9381, 'funny': 9382, 'outcome': 9383, 'JC': 9384, 'measuring': 9385, '9th': 9386, 'testified': 9387, 'Porsche': 9388, 'Peruvian': 9389, 'Rao': 9390, '106': 9391, 'invite': 9392, 'footprint': 9393, 'Advisory': 9394, 'Breast': 9395, 'Cheltenham': 9396, 'preview': 9397, 'noting': 9398, 'SWAT': 9399, 'talented': 9400, '1960s': 9401, 'Francois': 9402, 'According': 9403, 'Chatham': 9404, 'Knightley': 9405, 'disclosure': 9406, 'daytime': 9407, 'patch': 9408, 'injection': 9409, 'Kendra': 9410, 'fantastic': 9411, 'Gavin': 9412, 'curfew': 9413, 'happening': 9414, 'headlines': 9415, 'bizarre': 9416, 'subsidy': 9417, 'der': 9418, 'insurers': 9419, 'Telecommunications': 9420, 'Prosecutor': 9421, '98': 9422, 'Yusuf': 9423, 'runners': 9424, 'keeper': 9425, 'gesture': 9426, 'Honduras': 9427, 'safer': 9428, 'Travolta': 9429, 'lied': 9430, 'Benghazi': 9431, 'Sharp': 9432, 'consultations': 9433, 'shelves': 9434, 'Alba': 9435, 'Rosa': 9436, 'Chartered': 9437, 'undergone': 9438, 'ethanol': 9439, 'Cornwall': 9440, 'attacker': 9441, 'payable': 9442, 'Bahamas': 9443, '650': 9444, 'Cherokee': 9445, 'Balochistan': 9446, 'establishes': 9447, 'Polk': 9448, 'Holiday': 9449, 'amnesty': 9450, 'gallery': 9451, 'purse': 9452, 'Tymoshenko': 9453, 'Aviva': 9454, 'Tracy': 9455, 'ID': 9456, 'promotional': 9457, 'Julio': 9458, 'wildfires': 9459, 'scenario': 9460, 'Machine': 9461, 'Commissioners': 9462, 'poultry': 9463, 'Ducks': 9464, 'LNG': 9465, 'Alto': 9466, 'Leighton': 9467, 'pets': 9468, 'lifting': 9469, 'Leno': 9470, 'Rita': 9471, 'Hard': 9472, 'knocks': 9473, 'fingers': 9474, 'quietly': 9475, 'hell': 9476, 'spate': 9477, 'Snyder': 9478, 'Operation': 9479, 'reservation': 9480, 'Ilham': 9481, 'Cameroon': 9482, 'sailors': 9483, 'bright': 9484, 'Roland': 9485, 'epidemic': 9486, 'nobody': 9487, 'Happy': 9488, 'Stallone': 9489, 'pumps': 9490, 'headquartered': 9491, 'Could': 9492, 'employed': 9493, 'joy': 9494, 'Sears': 9495, 'boxes': 9496, 'Persian': 9497, 'Poker': 9498, 'Bulldogs': 9499, 'Chef': 9500, 'Polanski': 9501, 'township': 9502, 'highlighted': 9503, 'tenure': 9504, 'outreach': 9505, 'properly': 9506, 'Fletcher': 9507, 'revoked': 9508, 'debris': 9509, 'restoring': 9510, 'searched': 9511, 'embezzling': 9512, 'deserved': 9513, 'mounted': 9514, 'doctorate': 9515, 'ANZ': 9516, 'credited': 9517, 'impossible': 9518, 'universal': 9519, 'besides': 9520, 'unlawful': 9521, 'riders': 9522, 'Dana': 9523, 'ArcelorMittal': 9524, 'Viktor': 9525, 'establishing': 9526, 'generations': 9527, 'slalom': 9528, 'maybe': 9529, 'delegates': 9530, 'Rai': 9531, 'indicate': 9532, 'murderer': 9533, 'favourites': 9534, 'ward': 9535, 'Ossetia': 9536, 'wonder': 9537, 'gradually': 9538, 'OLD': 9539, '7000': 9540, 'Scherzinger': 9541, 'Cutler': 9542, 'ratio': 9543, 'categories': 9544, 'taste': 9545, 'borrowers': 9546, 'remarkable': 9547, 'Gore': 9548, 'delaying': 9549, 'liberal': 9550, 'Alcoa': 9551, 'semifinal': 9552, 'examine': 9553, 'sealed': 9554, 'Mosley': 9555, 'injunction': 9556, 'enrichment': 9557, 'Plaza': 9558, 'lure': 9559, 'Paribas': 9560, 'Soul': 9561, 'Eastman': 9562, 'Far': 9563, 'dining': 9564, 'donating': 9565, 'strokes': 9566, 'Albion': 9567, 'prepaid': 9568, 'Sultan': 9569, 'triggering': 9570, 'attached': 9571, 'Freeman': 9572, 'Roddick': 9573, 'Gibb': 9574, 'impersonating': 9575, 'poster': 9576, 'monoxide': 9577, 'Teenage': 9578, 'trick': 9579, 'Gareth': 9580, 'Pawar': 9581, 'wars': 9582, 'truce': 9583, 'Phelps': 9584, 'turkey': 9585, 'Akhtar': 9586, 'Penske': 9587, '2018': 9588, 'handsets': 9589, 'Shia': 9590, 'audiences': 9591, 'connecting': 9592, 'bribe': 9593, 'relevant': 9594, 'paternity': 9595, '22nd': 9596, 'Basin': 9597, '27th': 9598, 'looming': 9599, 'opt': 9600, 'copyright': 9601, 'barred': 9602, 'broadcasting': 9603, 'IV': 9604, 'Jacques': 9605, '®': 9606, 'Petraeus': 9607, 'Nano': 9608, 'punish': 9609, 'fraudulent': 9610, 'Mediterranean': 9611, 'Register': 9612, 'acted': 9613, 'Fabrice': 9614, 'Paralympic': 9615, 'Bynes': 9616, 'Rawalpindi': 9617, 'FedEx': 9618, 'Salisbury': 9619, 'Milton': 9620, 'travellers': 9621, '112': 9622, 'Khyber': 9623, 'bulk': 9624, 'cricketers': 9625, 'Mirren': 9626, 'slashing': 9627, 'Roanoke': 9628, 'drills': 9629, 'Il': 9630, 'inaugurates': 9631, 'AJ': 9632, 'reversing': 9633, 'Sotomayor': 9634, 'Sao': 9635, 'Samoa': 9636, 'Mercer': 9637, 'strange': 9638, 'sand': 9639, 'rank': 9640, 'tackling': 9641, 'WA': 9642, 'Huckabee': 9643, 'Conservation': 9644, 'Duluth': 9645, 'Flintoff': 9646, 'screens': 9647, 'goodwill': 9648, 'profitable': 9649, 'detectives': 9650, 'Heineken': 9651, 'capability': 9652, 'Mahendra': 9653, 'decreased': 9654, 'Quincy': 9655, 'holes': 9656, 'drowning': 9657, 'Sutherland': 9658, 'triumph': 9659, 'smallest': 9660, 'lowering': 9661, 'Copenhagen': 9662, 'bones': 9663, 'aides': 9664, 'bears': 9665, 'surging': 9666, 'Shilpa': 9667, 'Eyed': 9668, 'freak': 9669, 'snowmobile': 9670, 'Roads': 9671, 'detect': 9672, 'licensed': 9673, 'anxiety': 9674, 'Pa': 9675, '1970s': 9676, 'contracted': 9677, 'Wikileaks': 9678, 'joke': 9679, 'extremists': 9680, 'Wis': 9681, 'Die': 9682, 'Saleh': 9683, 'dismal': 9684, 'medalist': 9685, 'Christine': 9686, 'Belarusian': 9687, 'FX': 9688, 'unanimous': 9689, 'participated': 9690, 'fence': 9691, 'Democracy': 9692, 'Lisbon': 9693, 'Wash': 9694, 'Harare': 9695, 'Works': 9696, 'collides': 9697, 'Basu': 9698, 'Variety': 9699, 'MGM': 9700, 'TNA': 9701, 'Elena': 9702, 'pan': 9703, 'tornadoes': 9704, 'Partner': 9705, 'shower': 9706, 'colleague': 9707, 'Phillip': 9708, 'disappointment': 9709, 'mob': 9710, 'paint': 9711, 'Sonoma': 9712, 'spying': 9713, 'loud': 9714, 'helm': 9715, '1.9': 9716, 'Charity': 9717, 'Carla': 9718, 'NH': 9719, 'bicycle': 9720, 'G20': 9721, 'OK': 9722, 'kissing': 9723, 'TSX': 9724, 'en': 9725, 'provision': 9726, 'dealerships': 9727, 'Wake': 9728, 'junk': 9729, 'Chhattisgarh': 9730, '26th': 9731, 'trips': 9732, 'Atlantis': 9733, 'ear': 9734, 'Meredith': 9735, 'instructor': 9736, 'Dundee': 9737, 'Dixon': 9738, 'module': 9739, 'cables': 9740, 'ministries': 9741, 'dissident': 9742, '175': 9743, 'pubs': 9744, 'Jill': 9745, 'Paulson': 9746, 'Herbert': 9747, 'Guns': 9748, 'forests': 9749, 'convoy': 9750, 'follows': 9751, 'narcotics': 9752, 'Russians': 9753, 'stunned': 9754, 'guarantees': 9755, 'testimony': 9756, 'Woody': 9757, 'achieving': 9758, 'limiting': 9759, 'candidacy': 9760, 'supposed': 9761, 'Luxury': 9762, 'Talk': 9763, 'except': 9764, 'prevented': 9765, 'fielder': 9766, 'deeply': 9767, 'vaccines': 9768, 'imposes': 9769, 'Tbilisi': 9770, 'Nagorno': 9771, 'Still': 9772, 'Minor': 9773, 'paving': 9774, '70000': 9775, 'holder': 9776, 'GPS': 9777, 'loyal': 9778, 'strongest': 9779, 'Self': 9780, 'optical': 9781, 'Nature': 9782, 'upsets': 9783, 'EP': 9784, 'lieutenant': 9785, 'improper': 9786, 'freezes': 9787, 'gutted': 9788, 'Violence': 9789, 'Timberwolves': 9790, 'Ho': 9791, 'Cory': 9792, 'Fans': 9793, 'surges': 9794, 'upholds': 9795, 'Jacobs': 9796, 'breached': 9797, 'quota': 9798, 'seal': 9799, 'Hitler': 9800, 'Son': 9801, 'LK': 9802, 'rumored': 9803, 'Weisz': 9804, 'Part': 9805, 'Ole': 9806, 'Ga': 9807, 'revolutionary': 9808, 'Consulting': 9809, 'attracting': 9810, 'twitter': 9811, 'Jamaican': 9812, 'Hindus': 9813, 'Royce': 9814, 'sword': 9815, 'Clijsters': 9816, 'Gunmen': 9817, 'Conway': 9818, 'Berkshire': 9819, 'indicators': 9820, 'venues': 9821, 'Schalke': 9822, 'totally': 9823, 'condemn': 9824, 'Hunger': 9825, 'nutrition': 9826, 'Staples': 9827, 'Patterson': 9828, 'animated': 9829, 'timing': 9830, 'flows': 9831, 'intentionally': 9832, '0.2': 9833, 'Ugandan': 9834, 'apartheid': 9835, 'Buenos': 9836, 'Aires': 9837, 'Vonn': 9838, 'wardrobe': 9839, '1997': 9840, 'column': 9841, 'jockey': 9842, 'Things': 9843, 'procurement': 9844, 'teaming': 9845, 'jersey': 9846, 'jazz': 9847, 'Richter': 9848, 'Battle': 9849, 'constituency': 9850, 'deemed': 9851, 'Provincial': 9852, 'lesson': 9853, 'Porter': 9854, 'migrant': 9855, 'hearings': 9856, 'turnout': 9857, 'Eminem': 9858, 'charts': 9859, 'PA': 9860, 'Keira': 9861, 'averages': 9862, 'intoxication': 9863, 'Benz': 9864, 'inventory': 9865, 'homage': 9866, 'Penney': 9867, 'stimulate': 9868, 'Mickelson': 9869, 'bidding': 9870, 'adequate': 9871, 'Dannii': 9872, 'EST': 9873, 'stamps': 9874, 'inner': 9875, 'abuses': 9876, 'Supermodel': 9877, 'slept': 9878, 'councilman': 9879, 'relegated': 9880, 'AirTran': 9881, 'deepen': 9882, 'immune': 9883, 'sellers': 9884, 'obtain': 9885, 'oral': 9886, 'emerges': 9887, 'Programme': 9888, 'Kyiv': 9889, 'Joplin': 9890, 'lingering': 9891, 'Brighton': 9892, 'treasury': 9893, 'Businesses': 9894, 'Canton': 9895, 'shipment': 9896, 'Penelope': 9897, '107': 9898, 'Bible': 9899, 'poet': 9900, 'multinational': 9901, 'expired': 9902, 'amidst': 9903, 'showers': 9904, 'detection': 9905, 'psychiatric': 9906, 'steering': 9907, 'y/y': 9908, 'Jenson': 9909, 'Batman': 9910, 'postpone': 9911, 'Zero': 9912, 'ACC': 9913, 'LPGA': 9914, 'Karunanidhi': 9915, 'Taxi': 9916, 'Parade': 9917, 'accountability': 9918, 'Orthodox': 9919, 'dominant': 9920, 'Prakash': 9921, 'Kia': 9922, 'processor': 9923, 'Asda': 9924, 'nickel': 9925, 'Acting': 9926, 'Bahraini': 9927, 'pirate': 9928, 'Typhoon': 9929, 'choppy': 9930, 'continuous': 9931, 'Mountains': 9932, 'movements': 9933, 'Norton': 9934, 'Scout': 9935, 'Alexandria': 9936, 'meal': 9937, 'scholarship': 9938, 'fantasy': 9939, 'commence': 9940, 'bite': 9941, 'mood': 9942, 'contributed': 9943, 'fibre': 9944, 'drones': 9945, 'Perdue': 9946, 'turtle': 9947, 'intoxicated': 9948, 'Dunn': 9949, 'Bal': 9950, 'barely': 9951, 'Billings': 9952, 'seizes': 9953, 'Byrd': 9954, 'salmonella': 9955, 'Block': 9956, 'OSCE': 9957, 'Guide': 9958, 'overtake': 9959, 'counting': 9960, 'database': 9961, 'Mahinda': 9962, 'searches': 9963, 'Violent': 9964, 'sailor': 9965, 'studios': 9966, 'Microsystems': 9967, 'deserves': 9968, 'Phase': 9969, 'Ulster': 9970, 'commenced': 9971, 'disposal': 9972, 'Trinamool': 9973, 'enrollment': 9974, 'Ind': 9975, 'Pacers': 9976, 'basement': 9977, 'unsecured': 9978, 'infamous': 9979, 'Planet': 9980, 'Piers': 9981, 'Shop': 9982, 'Full': 9983, 'Harbour': 9984, 'loving': 9985, 'Bon': 9986, 'seasonally': 9987, 'supplements': 9988, 'ATP': 9989, '1300': 9990, 'Liga': 9991, 'Barrett': 9992, 'Astana': 9993, 'plagued': 9994, 'condolences': 9995, 'Fast': 9996, 'Bigg': 9997, 'Spector': 9998, 'thrilled': 9999}\n"
     ]
    }
   ],
   "execution_count": 21
  },
  {
   "cell_type": "markdown",
   "source": [
    "<a name='e4'></a>\n",
    "### Exercise 4: Bag of Words\n",
    "(1p) Here we will create the bag-of-words representation of the sentences. The function will take a single sentence (list of tokens) and return an array of size `vocab_size` with the counts of each word in the vocabulary. The\n",
    "`vocab_size` is calculated as the length of the passed `token_to_id` dictionary. The resulting array should have zeros everywhere but the indices corresponding to the words in the vocabulary where it should have the counts of the words in the sentence. For example, if the sentence is `['fox', 'and', 'deer']` and the vocabulary is `{'fox': 0, 'and': 1, 'deer': 2}`, the resulting array should be `[1, 1, 1]`. If the sentence is `['fox', 'and', 'fox', 'deer']`, the resulting array should be `[2, 1, 1]`."
   ],
   "metadata": {
    "collapsed": false,
    "pycharm": {
     "name": "#%% md\n"
    }
   }
  },
  {
   "cell_type": "code",
   "source": [
    "def bag_of_words(sentence, token_to_id):\n",
    "    \"\"\"\n",
    "    Creates a bag-of-words representation of the sentence\n",
    "    Args:\n",
    "        sentence: a list of tokens\n",
    "        token_to_id: a dictionary mapping each word to an index in the vocabulary\n",
    "\n",
    "    Returns:: a numpy array of size vocab_size with the counts of each word in the vocabulary\n",
    "\n",
    "    \"\"\"\n",
    "    vocab_size = len(token_to_id)\n",
    "    bow = np.zeros(vocab_size, dtype=int)\n",
    "\n",
    "    ### YOUR CODE HERE\n",
    "\n",
    "    for token in sentence:\n",
    "        if token in token_to_id:\n",
    "            bow[token_to_id[token]] += 1\n",
    "\n",
    "    ### YOUR CODE ENDS HERE\n",
    "\n",
    "    return bow"
   ],
   "metadata": {
    "collapsed": false,
    "pycharm": {
     "name": "#%%\n"
    },
    "ExecuteTime": {
     "end_time": "2025-04-16T21:54:06.765365Z",
     "start_time": "2025-04-16T21:54:06.757031Z"
    }
   },
   "outputs": [],
   "execution_count": 22
  },
  {
   "cell_type": "markdown",
   "source": [
    "Let's see how the function works on a single sentence. The output should be a numpy array of size `vocab_size` with the counts of each word in the vocabulary."
   ],
   "metadata": {
    "collapsed": false,
    "pycharm": {
     "name": "#%% md\n"
    }
   }
  },
  {
   "cell_type": "code",
   "source": [
    "print('Tokenized sentence:')\n",
    "print(tokenized_sentences[0])\n",
    "sentence_bow = bag_of_words(tokenized_sentences[0], token_to_id)\n",
    "\n",
    "print('Bag of words:')\n",
    "print(sentence_bow)\n",
    "print('Type of bag of words:')\n",
    "print(type(sentence_bow))\n",
    "print('Shape of bag of words:')\n",
    "print(sentence_bow.shape)\n",
    "print('Non-zero elements in bag of words:')\n",
    "print(np.nonzero(sentence_bow)[0])"
   ],
   "metadata": {
    "collapsed": false,
    "pycharm": {
     "name": "#%%\n"
    },
    "ExecuteTime": {
     "end_time": "2025-04-16T21:54:06.861885Z",
     "start_time": "2025-04-16T21:54:06.850844Z"
    }
   },
   "outputs": [
    {
     "name": "stdout",
     "output_type": "stream",
     "text": [
      "Tokenized sentence:\n",
      "['NAACP', 'today', 'issued', 'report', 'detailing', '``', 'links', 'between', 'certain', 'Tea', 'Party', 'factions', 'acknowledged', 'racist', 'hate', 'groups', 'United', 'States', \"''\"]\n",
      "Bag of words:\n",
      "[1 1 0 ... 0 0 0]\n",
      "Type of bag of words:\n",
      "<class 'numpy.ndarray'>\n",
      "Shape of bag of words:\n",
      "(10000,)\n",
      "Non-zero elements in bag of words:\n",
      "[   0    1   10  102  123  188  364  513  862 1522 2564 4351 4438 5548\n",
      " 5907 7993]\n"
     ]
    }
   ],
   "execution_count": 23
  },
  {
   "cell_type": "markdown",
   "source": [
    "We can also check in detail what words and their counts are in the bag-of-words representation."
   ],
   "metadata": {
    "collapsed": false,
    "pycharm": {
     "name": "#%% md\n"
    }
   }
  },
  {
   "cell_type": "code",
   "source": [
    "sentence_non_zero_bow = np.nonzero(sentence_bow)[0]\n",
    "print('Non-zero elements in bag of words:')\n",
    "print(sentence_non_zero_bow)\n",
    "for i in sentence_non_zero_bow:\n",
    "    print(vocab[i][0], ':', sentence_bow[i])"
   ],
   "metadata": {
    "collapsed": false,
    "pycharm": {
     "name": "#%%\n"
    },
    "ExecuteTime": {
     "end_time": "2025-04-16T21:54:06.940726Z",
     "start_time": "2025-04-16T21:54:06.938113Z"
    }
   },
   "outputs": [
    {
     "name": "stdout",
     "output_type": "stream",
     "text": [
      "Non-zero elements in bag of words:\n",
      "[   0    1   10  102  123  188  364  513  862 1522 2564 4351 4438 5548\n",
      " 5907 7993]\n",
      "'' : 1\n",
      "`` : 1\n",
      "today : 1\n",
      "United : 1\n",
      "report : 1\n",
      "between : 1\n",
      "States : 1\n",
      "issued : 1\n",
      "Party : 1\n",
      "groups : 1\n",
      "certain : 1\n",
      "links : 1\n",
      "hate : 1\n",
      "racist : 1\n",
      "Tea : 1\n",
      "acknowledged : 1\n"
     ]
    }
   ],
   "execution_count": 24
  },
  {
   "cell_type": "markdown",
   "source": [
    "The following function will apply all the steps we implemented to a single sentence. It returns a bag of words representation that we will use to calculate the similarity between different sentences."
   ],
   "metadata": {
    "collapsed": false,
    "pycharm": {
     "name": "#%% md\n"
    }
   }
  },
  {
   "cell_type": "code",
   "source": [
    "def embed_text(text, clean_fn, tokenize_fn, embed_fn):\n",
    "    cleaned = clean_fn(text)\n",
    "    tokens = tokenize_fn(cleaned)\n",
    "    embedding = embed_fn(tokens)\n",
    "    return embedding"
   ],
   "metadata": {
    "collapsed": false,
    "pycharm": {
     "name": "#%%\n"
    },
    "ExecuteTime": {
     "end_time": "2025-04-16T21:54:07.053148Z",
     "start_time": "2025-04-16T21:54:07.044104Z"
    }
   },
   "outputs": [],
   "execution_count": 25
  },
  {
   "cell_type": "markdown",
   "source": [
    "<a name='e5'></a>\n",
    "### Exercise 5: Cosine Similarity between two vectors\n",
    "\n",
    "(1p) Complete the following function that given any two vectors will compute the cosine similarity. If you don't remember the formula for the cosine similarity, revisit the course material. Notice that the function receives numpy arrays and recall that you can express cosine similarity as a dot product. Use numpy functions to write an efficient implementation."
   ],
   "metadata": {
    "collapsed": false,
    "pycharm": {
     "name": "#%% md\n"
    }
   }
  },
  {
   "cell_type": "code",
   "source": [
    "def cosine_similarity(vector1, vector2):\n",
    "    \"\"\"\n",
    "    Computes the cosine similarity between two vectors\n",
    "    Args:\n",
    "        vector1: numpy array of the first vector\n",
    "        vector2: numpy array of the second vector\n",
    "\n",
    "    Returns: cosine similarity\n",
    "\n",
    "    \"\"\"\n",
    "    ### YOUR CODE HERE\n",
    "\n",
    "    cosine = np.dot(vector1, vector2)/(np.linalg.norm(vector1) * np.linalg.norm(vector2))\n",
    "    return cosine\n",
    "\n",
    "    ### YOUR CODE ENDS HERE"
   ],
   "metadata": {
    "collapsed": false,
    "pycharm": {
     "name": "#%%\n"
    },
    "ExecuteTime": {
     "end_time": "2025-04-16T21:54:07.130221Z",
     "start_time": "2025-04-16T21:54:07.127934Z"
    }
   },
   "outputs": [],
   "execution_count": 26
  },
  {
   "cell_type": "code",
   "source": [
    "cosine_similarity(np.array([0, 1, 2]), np.array([0, 2, 4]))"
   ],
   "metadata": {
    "collapsed": false,
    "pycharm": {
     "name": "#%%\n"
    },
    "ExecuteTime": {
     "end_time": "2025-04-16T21:54:07.215915Z",
     "start_time": "2025-04-16T21:54:07.205134Z"
    }
   },
   "outputs": [
    {
     "data": {
      "text/plain": [
       "0.9999999999999998"
      ]
     },
     "execution_count": 27,
     "metadata": {},
     "output_type": "execute_result"
    }
   ],
   "execution_count": 27
  },
  {
   "cell_type": "code",
   "source": [
    "sentences = [\n",
    "    'The quick brown fox jumps over the lazy dog.',\n",
    "    'Some interesting document containing sentences.',\n",
    "    'The quick brown fox jumps over the lazy cat and some other stuff.',\n",
    "    'Fox and deer are not friends.',\n",
    "    'fox and deer',\n",
    "    'Fox and deer are not friends. But this document is a lot longer than the previous one. We can add sentence by sentence and see how the embeddings change.',\n",
    "]\n",
    "embedded_sentences = [\n",
    "    embed_text(sentence, clean, tokenize, lambda x: bag_of_words(x, token_to_id))\n",
    "    for sentence in sentences\n",
    "]\n",
    "\n",
    "query = 'fox and deer'\n",
    "embedded_query = embed_text(query, clean, tokenize, lambda x: bag_of_words(x, token_to_id))\n",
    "\n",
    "cosine_similarities = [\n",
    "    cosine_similarity(embedded_query, embedded_sentence)\n",
    "    for embedded_sentence in embedded_sentences\n",
    "]\n",
    "print(f'Query: {query}')\n",
    "for sent, cos_sim in zip(sentences, cosine_similarities):\n",
    "    print(f'Cosine Similarity: {cos_sim:.4f} - Sentence: {sent}')\n",
    "\n",
    "\n",
    "sent = tokenize('The quick brown fox jumps over the lazy dog.')\n",
    "vec = bag_of_words(sent, token_to_id)\n",
    "vec2 = bag_of_words(query, token_to_id)\n",
    "print(cosine_similarity(vec, vec2))\n",
    "print('fox' in token_to_id)"
   ],
   "metadata": {
    "collapsed": false,
    "pycharm": {
     "name": "#%%\n"
    },
    "ExecuteTime": {
     "end_time": "2025-04-16T21:54:07.357889Z",
     "start_time": "2025-04-16T21:54:07.351210Z"
    }
   },
   "outputs": [
    {
     "name": "stdout",
     "output_type": "stream",
     "text": [
      "Query: fox and deer\n",
      "Cosine Similarity: 0.0000 - Sentence: The quick brown fox jumps over the lazy dog.\n",
      "Cosine Similarity: 0.0000 - Sentence: Some interesting document containing sentences.\n",
      "Cosine Similarity: 0.0000 - Sentence: The quick brown fox jumps over the lazy cat and some other stuff.\n",
      "Cosine Similarity: 0.4472 - Sentence: Fox and deer are not friends.\n",
      "Cosine Similarity: 1.0000 - Sentence: fox and deer\n",
      "Cosine Similarity: 0.2085 - Sentence: Fox and deer are not friends. But this document is a lot longer than the previous one. We can add sentence by sentence and see how the embeddings change.\n",
      "0.0\n",
      "False\n"
     ]
    }
   ],
   "execution_count": 28
  },
  {
   "cell_type": "markdown",
   "source": [
    "We will apply the function to the whole dataset. This might take a while, so be patient. The result will be stored in the `sentence_bow` and `compressed_bow` fields of the dataset."
   ],
   "metadata": {
    "collapsed": false,
    "pycharm": {
     "name": "#%% md\n"
    }
   }
  },
  {
   "cell_type": "code",
   "source": [
    "def bag_of_words_dataset(example):\n",
    "    \"\"\"\n",
    "    Creates a bag-of-words representation of the sentence and compressed sentence in the example from the Dataset\n",
    "    Args:\n",
    "        example: an example from the Dataset\n",
    "\n",
    "    Returns: updated example with 'sentence_bow' and 'compressed_bow' columns\n",
    "\n",
    "    \"\"\"\n",
    "    sentence_tokens = example['sentence_tokens']\n",
    "    compressed_tokens = example['compressed_tokens']\n",
    "\n",
    "    sentence_bow = bag_of_words(sentence_tokens, token_to_id)\n",
    "    compressed_bow = bag_of_words(compressed_tokens, token_to_id)\n",
    "\n",
    "    example['sentence_bow'] = sentence_bow\n",
    "    example['compressed_bow'] = compressed_bow\n",
    "    return example"
   ],
   "metadata": {
    "collapsed": false,
    "pycharm": {
     "name": "#%%\n"
    },
    "ExecuteTime": {
     "end_time": "2025-04-16T21:54:07.378209Z",
     "start_time": "2025-04-16T21:54:07.375014Z"
    }
   },
   "outputs": [],
   "execution_count": 29
  },
  {
   "cell_type": "markdown",
   "source": [
    "The following cell will apply the function to the whole dataset. The result will be stored in the `sentence_bow` and `compressed_bow` fields of the dataset. We will also convert the dataset's fields `sentence_bow` and `compressed_bow` to numpy format for easier manipulation."
   ],
   "metadata": {
    "collapsed": false,
    "pycharm": {
     "name": "#%% md\n"
    }
   }
  },
  {
   "cell_type": "code",
   "source": [
    "test_ds = split_ds['test'].map(bag_of_words_dataset)\n",
    "test_ds = test_ds.with_format('np', columns=['sentence_bow', 'compressed_bow'], dtype=float)\n",
    "print(test_ds)"
   ],
   "metadata": {
    "collapsed": false,
    "pycharm": {
     "name": "#%%\n"
    },
    "ExecuteTime": {
     "end_time": "2025-04-16T21:54:22.594401Z",
     "start_time": "2025-04-16T21:54:07.515568Z"
    }
   },
   "outputs": [
    {
     "name": "stderr",
     "output_type": "stream",
     "text": [
      "Map: 100%|██████████| 36000/36000 [00:15<00:00, 2391.83 examples/s]"
     ]
    },
    {
     "name": "stdout",
     "output_type": "stream",
     "text": [
      "Dataset({\n",
      "    features: ['set', 'clean_sentence', 'clean_compressed', 'sentence_tokens', 'compressed_tokens', 'sentence_bow', 'compressed_bow'],\n",
      "    num_rows: 36000\n",
      "})\n"
     ]
    },
    {
     "name": "stderr",
     "output_type": "stream",
     "text": [
      "\n"
     ]
    }
   ],
   "execution_count": 30
  },
  {
   "cell_type": "markdown",
   "source": [
    "Let's check the results. The `sentence_bow` and `compressed_bow` fields should contain the bag-of-words representation of the sentences and compressed sentences, respectively."
   ],
   "metadata": {
    "collapsed": false,
    "pycharm": {
     "name": "#%% md\n"
    }
   }
  },
  {
   "cell_type": "code",
   "source": [
    "print(test_ds[0])"
   ],
   "metadata": {
    "collapsed": false,
    "pycharm": {
     "name": "#%%\n"
    },
    "ExecuteTime": {
     "end_time": "2025-04-16T21:54:22.620427Z",
     "start_time": "2025-04-16T21:54:22.614697Z"
    }
   },
   "outputs": [
    {
     "name": "stdout",
     "output_type": "stream",
     "text": [
      "{'sentence_bow': array([0., 0., 0., ..., 0., 0., 0.]), 'compressed_bow': array([0., 0., 0., ..., 0., 0., 0.])}\n"
     ]
    }
   ],
   "execution_count": 31
  },
  {
   "cell_type": "code",
   "source": [
    "sentences_bows = test_ds['sentence_bow']\n",
    "print(sentences_bows.shape)"
   ],
   "metadata": {
    "collapsed": false,
    "pycharm": {
     "name": "#%%\n"
    },
    "jupyter": {
     "is_executing": true
    },
    "ExecuteTime": {
     "start_time": "2025-04-16T21:54:22.748460Z"
    }
   },
   "outputs": [],
   "execution_count": null
  },
  {
   "cell_type": "markdown",
   "source": [
    "Now we can start building a retriever based on the bag of words representation. The first step is to calculate the cosine similarity between two vectors."
   ],
   "metadata": {
    "collapsed": false,
    "pycharm": {
     "name": "#%% md\n"
    }
   }
  },
  {
   "cell_type": "markdown",
   "source": [
    "<a name='e6'></a>\n",
    "### Exercise 6: Cosine Similarity between a vector and an array of vectors\n",
    "\n",
    "(2p) The next step in our retrieval system, would be to calculate the proximity of a query to our retrieval corpus (in our case that is all the sentences).\n",
    "\n",
    "Complete the following function to calculate the cosine similarity between a vector (first parameter `vector`, that will usually be the query vector) and all other vectors (second parameter `other_vectors`, that will be the sentence embeddings in our case). Note that the `other_vectors` parameter is a single numpy array of size `N x D`, where $N$ is the number of vectors and $D$ is the dimension of each vector.\n",
    "\n",
    "For maximum efficiency (we will need it) do not use loops. Try to write the implementation with numpy functions. Hint: matrix multiplication can be seen as calculating the dot product between rows and columns of the multiplied matrices."
   ],
   "metadata": {
    "collapsed": false,
    "pycharm": {
     "name": "#%% md\n"
    }
   }
  },
  {
   "cell_type": "code",
   "metadata": {
    "id": "LgaV2b3fpSOR",
    "pycharm": {
     "name": "#%%\n"
    },
    "ExecuteTime": {
     "end_time": "2025-04-16T21:38:01.159068Z",
     "start_time": "2025-04-16T21:38:01.155960Z"
    }
   },
   "source": [
    "def cosine_similarity_1_to_n(vector, other_vectors):\n",
    "    \"\"\"\n",
    "    Calculates the cosine similarity between a single vector and other vectors.\n",
    "    Args:\n",
    "        vector: a numpy array representing a vector of D dimensions\n",
    "        other_vectors: a 2D numpy array representing other vectors (of the size NxD, where N is the number of vectors and D is their dimension)\n",
    "\n",
    "    Returns: a 1D numpy array of size N containing the cosine similarity between the vector and all the other vectors\n",
    "\n",
    "    \"\"\"\n",
    "\n",
    "    #### YOUR CODE HERE\n",
    "\n",
    "    matrix_multiplication = other_vectors @ vector\n",
    "    norms = np.linalg.norm(other_vectors, axis=1) * np.linalg.norm(vector)\n",
    "    return matrix_multiplication / (norms+1e-10) # divide by 0 error\n",
    "\n",
    "    ### YOUR CODE ENDS HERE"
   ],
   "outputs": [],
   "execution_count": 31
  },
  {
   "cell_type": "markdown",
   "metadata": {
    "collapsed": false,
    "id": "irNqAJZLpSOR",
    "pycharm": {
     "name": "#%% md\n"
    }
   },
   "source": [
    "We will use the function to calculate the similarity of all sentences in the dataset to our query."
   ]
  },
  {
   "cell_type": "code",
   "source": [
    "query = 'fox and deer'\n",
    "embedded_query = embed_text(query, clean, tokenize, lambda x: bag_of_words(x, token_to_id))"
   ],
   "metadata": {
    "collapsed": false,
    "pycharm": {
     "name": "#%%\n"
    },
    "ExecuteTime": {
     "end_time": "2025-04-16T21:38:01.232880Z",
     "start_time": "2025-04-16T21:38:01.229488Z"
    }
   },
   "outputs": [],
   "execution_count": 32
  },
  {
   "cell_type": "code",
   "metadata": {
    "id": "uD9mVAhYpSOR",
    "pycharm": {
     "name": "#%%\n"
    },
    "ExecuteTime": {
     "end_time": "2025-04-16T21:38:04.120761Z",
     "start_time": "2025-04-16T21:38:01.294444Z"
    }
   },
   "source": [
    "query_similarity = cosine_similarity_1_to_n(embedded_query, sentences_bows)\n",
    "print(query_similarity.shape)\n",
    "print(query_similarity[:10])\n",
    "# matrix =  sentences_bows @ embedded_query\n",
    "# print(matrix[6471])"
   ],
   "outputs": [
    {
     "name": "stdout",
     "output_type": "stream",
     "text": [
      "(36000,)\n",
      "[0. 0. 0. 0. 0. 0. 0. 0. 0. 0.]\n",
      "0.0\n"
     ]
    }
   ],
   "execution_count": 33
  },
  {
   "metadata": {
    "ExecuteTime": {
     "end_time": "2025-04-16T21:38:04.439321Z",
     "start_time": "2025-04-16T21:38:04.436699Z"
    }
   },
   "cell_type": "code",
   "source": "print(tokenized_sentences[3])",
   "outputs": [
    {
     "name": "stdout",
     "output_type": "stream",
     "text": [
      "['CNN', 'poised', 'finish', 'March', 'third', 'prime', 'time', 'weeknight', 'ratings', 'behind', 'Fox', 'News', 'Channel', 'MSNBC', 'first', 'time', 'this', 'ever', 'happened', 'channel', 'pioneered', 'cable', 'news', 'genre', 'nearly', 'three', 'decades', 'ago']\n"
     ]
    }
   ],
   "execution_count": 34
  },
  {
   "cell_type": "markdown",
   "metadata": {
    "collapsed": false,
    "id": "_l3erVTNpSOR",
    "pycharm": {
     "name": "#%% md\n"
    }
   },
   "source": [
    "The following cell will select the most similar sentence."
   ]
  },
  {
   "cell_type": "code",
   "metadata": {
    "id": "0wWa4AWHpSOR",
    "pycharm": {
     "name": "#%%\n"
    },
    "ExecuteTime": {
     "end_time": "2025-04-16T21:38:04.533147Z",
     "start_time": "2025-04-16T21:38:04.525249Z"
    }
   },
   "source": [
    "most_similar = int(np.argmax(query_similarity))\n",
    "print(most_similar)\n",
    "print(query_similarity[most_similar])\n",
    "print(split_ds['test'][most_similar]['set'][0])\n",
    "# print(\"Dot product:\", np.dot(embedded_query, sentences_bows[6471]))\n",
    "# print(\"Query norm:\", np.linalg.norm(embedded_query))\n",
    "# print(\"Target norm:\", np.linalg.norm(sentences_bows[6471]))\n",
    "# print(\"Expected cosine:\", np.dot(embedded_query, sentences_bows[6471]) /\n",
    "#                           (np.linalg.norm(embedded_query) * np.linalg.norm(sentences_bows[6471])))\n",
    "# print(\"Actual cosine:\", query_similarity[6471])"
   ],
   "outputs": [
    {
     "name": "stdout",
     "output_type": "stream",
     "text": [
      "12102\n",
      "0.4082482904471964\n",
      "Divers found the body of a missing deer hunter, near Laurie, in Camden County.\n",
      "Dot product: 0.0\n",
      "Query norm: 1.0\n",
      "Target norm: 3.7416573867739413\n",
      "Expected cosine: 0.0\n",
      "Actual cosine: 0.0\n"
     ]
    }
   ],
   "execution_count": 35
  },
  {
   "cell_type": "markdown",
   "metadata": {
    "collapsed": false,
    "id": "fpdJHFD1pSOR",
    "pycharm": {
     "name": "#%% md\n"
    }
   },
   "source": [
    "The following function will return the indices of the top-k elements in the array."
   ]
  },
  {
   "cell_type": "code",
   "metadata": {
    "id": "QFUNI9elpSOS",
    "pycharm": {
     "name": "#%%\n"
    },
    "ExecuteTime": {
     "end_time": "2025-04-16T21:38:04.602230Z",
     "start_time": "2025-04-16T21:38:04.598989Z"
    }
   },
   "source": [
    "def top_k_indices(array, k, sorted=True):\n",
    "    \"\"\"\n",
    "    Returns top-k indices from the 1D array. If `sorted` is `True` the returned indices are sorted in the descending order\n",
    "    Args:\n",
    "        array: a 1D numpy array\n",
    "        k: a number of top indices to return\n",
    "        sorted: if True, the returned indices are sorted in descending order\n",
    "\n",
    "    Returns: a 1D array containing top-k indices\n",
    "\n",
    "    \"\"\"\n",
    "    top_k = np.argpartition(array, -k)[-k:]\n",
    "    if sorted:\n",
    "        selected = array[top_k]\n",
    "        sorted_selected = (-selected).argsort()\n",
    "        top_k = top_k[sorted_selected]\n",
    "    return top_k"
   ],
   "outputs": [],
   "execution_count": 36
  },
  {
   "cell_type": "code",
   "metadata": {
    "id": "nY8vvJdepSOS",
    "pycharm": {
     "name": "#%%\n"
    },
    "ExecuteTime": {
     "end_time": "2025-04-16T21:38:04.632029Z",
     "start_time": "2025-04-16T21:38:04.609522Z"
    }
   },
   "source": [
    "top_indices = top_k_indices(query_similarity, k=10).tolist()\n",
    "for idx in top_indices:\n",
    "    print(split_ds['test'][idx]['set'][0])\n",
    "    print(f'similarity: {query_similarity[idx]}')\n",
    "    # print(len(split_ds['test'][idx]['sentence_tokens']))\n",
    "    # print(idx)\n",
    "    # print(f'similarity: {query_similarity[idx]}')"
   ],
   "outputs": [
    {
     "name": "stdout",
     "output_type": "stream",
     "text": [
      "The tough winter in northcentral Montana is taking a toll on mule deer.\n",
      "similarity: 0.4082482904471964\n",
      "Divers found the body of a missing deer hunter, near Laurie, in Camden County.\n",
      "similarity: 0.4082482904471964\n",
      "Israel rescued four Persian fallow deer from Iran in 1978.\n",
      "similarity: 0.4082482904471964\n",
      "A hunter was found dead in a deer stand in the Conecuh National Forest Thursday.\n",
      "similarity: 0.3779644729949415\n",
      "Information is being sought in a deer poaching case east of Deer Lodge this week.\n",
      "similarity: 0.3333333333222222\n",
      "The DNR is reminding hunters not to move firewood out of quarantine areas to deer camp in other parts of the state.\n",
      "similarity: 0.31622776600683794\n",
      "No one was injured when a city of Princeton ambulance collided with a deer late Monday night.\n",
      "similarity: 0.30151134456867273\n",
      "The Ministry of Natural Resources reminds people that it is not necessary to feed local deer this winter.\n",
      "similarity: 0.30151134456867273\n",
      "A state appeals court has upheld a Superior man's conviction for having sex with a dead deer.\n",
      "similarity: 0.30151134456867273\n",
      "Tuberculosis recently was found in a captive red and fallow deer herd in Columbia County during routine testing by the Department Agriculture and Markets.\n",
      "similarity: 0.2886751345864796\n"
     ]
    }
   ],
   "execution_count": 37
  },
  {
   "cell_type": "markdown",
   "metadata": {
    "collapsed": false,
    "id": "BuRI2JzQpSOS",
    "pycharm": {
     "name": "#%% md\n"
    }
   },
   "source": [
    "<a name='e7'></a>\n",
    "### Exercise 7: Analyzing and improving BOW search results\n",
    "\n",
    "Experiment with different queries (taking into account the nature of the dataset and your insights from the analysis so far).\n",
    "Answer the following questions:\n",
    "- (5p) Does the search perform well? When does it fail? Discuss several examples that are we get an expected but also unexpected results (find at least 3 from each category). Provide reasons for the good/bad result in each case (e.g. is there some error in the data, is there some linguistic phenomenon that we don't capture, is something wrong with our modeling with average embeddings, ...)\n",
    "- (5p) If you see problems with search, how could you improve your implementation? Change the functions above, if you think there is room for improvement. Describe your changes and how they made the search better or (in case you made no changes) explain what made the search robust enough to work well."
   ]
  },
  {
   "cell_type": "code",
   "metadata": {
    "id": "sEQKHAvcpSOS",
    "pycharm": {
     "name": "#%%\n"
    },
    "ExecuteTime": {
     "end_time": "2025-04-16T21:52:52.693237Z",
     "start_time": "2025-04-16T21:52:52.629584Z"
    }
   },
   "source": [
    "#### YOUR CODE HERE\n",
    "import gc\n",
    "\n",
    "# made shitty version with stop words\n",
    "\n",
    "def clean2(text):\n",
    "    # Empty text\n",
    "    if text == '':\n",
    "        return text\n",
    "\n",
    "    # 'text' from the example can be of type numpy.str_, let's convert it to a python str\n",
    "    text = str(text)\n",
    "\n",
    "    text = re.sub(r'\\'s', '', text)\n",
    "    text = re.sub(r\"\\`\\`\", '\"', text)\n",
    "    text = re.sub(r\"\\'\\'\", '\"', text)\n",
    "    text = re.sub(r\"\\'\", '\"', text)\n",
    "    text = re.sub(r'\\,', '', text)\n",
    "    text = re.sub(r'\\-', ' ', text)\n",
    "    text = re.sub(r'(?<!\\d)\\.(?!\\d)', '', text)\n",
    "\n",
    "    # replace contractions (a bit extensive)\n",
    "    text = text.replace(\"’\", \"'\").replace(\"‘\", \"'\").replace(\"“\", '\"').replace(\"”\", '\"')\n",
    "    text = re.sub(r\"\\b(what|who|where|when|why|how|there|it|here|she|he|that)\\'s\\b\", r\"\\1 is\", text, flags=re.IGNORECASE)\n",
    "    text = re.sub(r\"\\'re\\b\", \" are\", text, flags=re.IGNORECASE)\n",
    "    text = re.sub(r\"\\'ve\\b\", \" have\", text, flags=re.IGNORECASE)\n",
    "    text = re.sub(r\"\\'ll\\b\", \" will\", text, flags=re.IGNORECASE)\n",
    "    text = re.sub(r\"\\'d\\b\", \" would\", text, flags=re.IGNORECASE)\n",
    "    text = re.sub(r\"can\\'t\\b\", \"can not\", text, flags=re.IGNORECASE)\n",
    "    text = re.sub(r\"won\\'t\\b\", \"will not\", text, flags=re.IGNORECASE)\n",
    "    text = re.sub(r\"n\\'t\\b\", \" not\", text, flags=re.IGNORECASE)\n",
    "\n",
    "    # Space out punctuation\n",
    "    text = re.sub(r'(?<!\\d)([.,:;!?])(?!\\d)', r' \\1 ', text)\n",
    "\n",
    "    # remove repeated spaces\n",
    "    text = re.sub(r'\\s+', ' ', text)\n",
    "\n",
    "    text = text.strip()\n",
    "    return text\n",
    "\n",
    "def clean_dataset_2(example):\n",
    "    sentence, compressed = example['set']\n",
    "    clean_sentence = clean2(sentence)\n",
    "    clean_compressed = clean2(compressed)\n",
    "    example['clean_sentence'] = clean_sentence\n",
    "    example['clean_compressed'] = clean_compressed\n",
    "    return example\n",
    "\n",
    "def bag_of_words_dataset_2(example):\n",
    "    sentence_tokens = example['sentence_tokens']\n",
    "    compressed_tokens = example['compressed_tokens']\n",
    "\n",
    "    sentence_bow = bag_of_words(sentence_tokens, token_to_id_2)\n",
    "    compressed_bow = bag_of_words(compressed_tokens, token_to_id_2)\n",
    "\n",
    "    example['sentence_bow'] = sentence_bow\n",
    "    example['compressed_bow'] = compressed_bow\n",
    "    return example\n",
    "\n",
    "\n",
    "# recreating shit\n",
    "\n",
    "split_ds_2 = split_ds_2.map(clean_dataset_2)\n",
    "print(split_ds_2['train'][0]['clean_sentence'])  # from new cleaning\n",
    "print(split_ds['train'][0]['clean_sentence'])    # from old cleaning\n",
    "\n",
    "split_ds_2 = split_ds_2.map(tokenize_dataset)\n",
    "\n",
    "\n",
    "tokenized_compressed_2 = split_ds_2['train']['compressed_tokens']\n",
    "tokenized_sentences_2 = split_ds_2['train']['sentence_tokens']\n",
    "vocab_counter_2 = extract_vocabulary_counts(tokenized_sentences_2 + tokenized_compressed_2)\n",
    "vocab_2 = vocab_counter_2.most_common(10000)\n",
    "token_to_id_2 = {word: i for i, (word, _) in enumerate(vocab_2)}\n",
    "test_ds_2 = split_ds_2['test'].map(bag_of_words_dataset_2)\n",
    "test_ds_2 = test_ds_2.with_format('np', columns=['sentence_bow', 'compressed_bow'], dtype=float)\n",
    "\n"
   ],
   "outputs": [
    {
     "ename": "NameError",
     "evalue": "name 'split_ds' is not defined",
     "output_type": "error",
     "traceback": [
      "\u001B[31m---------------------------------------------------------------------------\u001B[39m",
      "\u001B[31mNameError\u001B[39m                                 Traceback (most recent call last)",
      "\u001B[36mCell\u001B[39m\u001B[36m \u001B[39m\u001B[32mIn[2]\u001B[39m\u001B[32m, line 52\u001B[39m\n\u001B[32m     48\u001B[39m     example[\u001B[33m'\u001B[39m\u001B[33mclean_compressed\u001B[39m\u001B[33m'\u001B[39m] = clean_compressed\n\u001B[32m     49\u001B[39m     \u001B[38;5;28;01mreturn\u001B[39;00m example\n\u001B[32m---> \u001B[39m\u001B[32m52\u001B[39m split_ds_2 = DatasetDict(\u001B[43msplit_ds\u001B[49m)\n\u001B[32m     53\u001B[39m split_ds_2 = split_ds_2.map(clean_dataset_2)\n\u001B[32m     54\u001B[39m split_ds_2 = split_ds_2.map(tokenize_dataset)\n",
      "\u001B[31mNameError\u001B[39m: name 'split_ds' is not defined"
     ]
    }
   ],
   "execution_count": 2
  },
  {
   "metadata": {},
   "cell_type": "code",
   "outputs": [],
   "execution_count": null,
   "source": [
    "sentences_bows2 = test_ds_2['sentence_bow']\n",
    "print(sentences_bows2)\n",
    "\n",
    "\n",
    "query2 = 'deer children US 130'\n",
    "embedded_query2 = embed_text(query2, clean2, tokenize, lambda x: bag_of_words(x, token_to_id_2))\n",
    "\n",
    "query_similarity2 = cosine_similarity_1_to_n(embedded_query2, sentences_bows2)\n",
    "\n",
    "top_indices2 = top_k_indices(query_similarity2, k=10).tolist()\n",
    "for idx in top_indices2:\n",
    "    print(split_ds_2['test'][idx]['set'][0])\n",
    "    print(f'similarity: {query_similarity2[idx]}')\n",
    "\n",
    "\n",
    "\n",
    "\n",
    "### YOUR CODE ENDS HERE"
   ]
  },
  {
   "cell_type": "markdown",
   "metadata": {
    "id": "eiIGTfq6eFI5",
    "pycharm": {
     "name": "#%% md\n"
    }
   },
   "source": [
    " matching stop words and punctuation, so system generally matches based off of stop words, meaning that doc returned has almost zero relevance\n",
    " as a result works well if the query contains no stop words\n",
    "\n",
    " if you want to stress certain words more than others like 'deer', repeating them in the query will weight it more resulting more relevant search, because repetition increases overlap count and thus increases cosine similarity.\n",
    "\n",
    " doesn't work well if the query contains punctuation like \"\", and the search will match texts with as many \"\" as possible, same with stop words\n",
    "\n",
    " if the query contains only out of vocab words like 'fox' the search will obviously fail, all cosine similarities will be 0 the search doesn't account for semantic similarity\n",
    "\n",
    " this is a bit of a repetition of the stop word point, but even if we exclude them, search is still obviously dominated by more frequent words in the documents, the more common a word is, and the more it is repeated in a doc the more likely it is that search will match mostly based off of that words take the query; 'happy deer children US' since US is one of the more common words the search will prioritise texts that mention US, although it is probably better if it were to match as many words as possible (without changing the current search too drastically otherwise there are much better search algorithms)\n",
    "\n",
    " Two docs with equal overlap can score differently, shorter ones rank higher. Cosine similarity divides by vector length (L2 norm),\n",
    " biasing scores toward shorter docs when using binary vectors.\n",
    "\n",
    " improvements would generally be better cleaning such as; exclude stop words, punctuation, digit separation - best would be to probably stem or lemmatize but it is too tedious for this, the running time is not fast enough to make it worth. Apart from better cleaning, to better match queries rather than matching based off of frequency it makes more sense to match as many words from the doc as possible, for the reasons mentioned above."
   ]
  },
  {
   "cell_type": "markdown",
   "source": [
    "## 3. Term Frequency - Inverse Document Frequency (TF-IDF)\n",
    "\n",
    "In this section we will implement the TF-IDF algorithm. While BOW is a simple way to represent the documents, it has some limitations. For example, it does not take into account the importance of each word in the document. TF-IDF representation takes into account the frequency of each word in the document and the frequency of the word in the whole dataset. It is a widely used technique in information retrieval and text mining. Refer to the lecture slides for more details."
   ],
   "metadata": {
    "collapsed": false,
    "pycharm": {
     "name": "#%% md\n"
    }
   }
  },
  {
   "cell_type": "markdown",
   "source": [
    "<a name='e8'></a>\n",
    "### Exercise 8: Inverse Document Frequency (IDF)\n",
    "(5p) In this exercise, you will implement the TF-IDF algorithm. First, calculate Inverse Document Frequency (IDF) for each word in the vocabulary. Intuitively, it is a measure of how informative a word is based on the whole dataset. Consult the lecture slides for the details. The IDF is calculated as follows:\n",
    "$$\n",
    "IDF(t) = log_{10}(N/df(t))$$\n",
    "where $N$ is the total number of documents (sentences) in the dataset and $df(t)$ is the number of documents containing the word $t$.\n"
   ],
   "metadata": {
    "collapsed": false,
    "pycharm": {
     "name": "#%% md\n"
    }
   }
  },
  {
   "cell_type": "code",
   "source": [
    "def calculate_idf(bows):\n",
    "    \"\"\"\n",
    "    Calculates the IDF for each word in the vocabulary\n",
    "    Args:\n",
    "        bows: numpy array of size (N x D) where N is the number of documents and D is the vocabulary size\n",
    "\n",
    "    Returns: a numpy array of size D with IDF values for each token\n",
    "    \"\"\"\n",
    "\n",
    "    ### YOUR CODE HERE\n",
    "\n",
    "    N = bows.shape[0]\n",
    "    df = np.count_nonzero(bows > 0, axis=0)\n",
    "    idf = np.log(N /(df+1)) # df+1 divide by 0 issues)\n",
    "\n",
    "    return idf\n",
    "\n",
    "    ### YOUR CODE ENDS HERE\n",
    "\n",
    "idf = calculate_idf(sentences_bows)"
   ],
   "metadata": {
    "collapsed": false,
    "pycharm": {
     "name": "#%%\n"
    },
    "ExecuteTime": {
     "end_time": "2025-04-16T15:18:33.873302Z",
     "start_time": "2025-04-16T15:18:32.810666Z"
    }
   },
   "outputs": [],
   "execution_count": 41
  },
  {
   "cell_type": "markdown",
   "source": [
    "<a name='e9'></a>\n",
    "### Exercise 9: TF-IDF\n",
    "- (5p) Calculate TF-IDF on the `test` subset of the dataset.\n",
    "- (5p) Analyze the search results based on your implemented TF-IDF. Does the search perform well? When does it fail? Discuss several examples that are we get an expected but also unexpected results (find at least 3 from each category). Provide reasons for the good/bad result in each case (e.g. is there some error in the data, is there some linguistic phenomenon that we don't capture, is something wrong with our modeling with average embeddings, ...)\n",
    "- (5p) Compare the results with the ones you got with the bag-of-words representation. Discuss the differences and similarities. Do you think TF-IDF is a better representation for this task? Why or why not? Provide examples to support your arguments.\n"
   ],
   "metadata": {
    "collapsed": false,
    "pycharm": {
     "name": "#%% md\n"
    }
   }
  },
  {
   "cell_type": "code",
   "source": [
    "### YOUR CODE HERE\n",
    "\n",
    "tfidf_bows = sentences_bows2 * idf\n",
    "\n",
    "def bag_of_words2(sentence, token_to_id):\n",
    "    vocab_size = len(token_to_id)\n",
    "    bow = np.zeros(vocab_size, dtype=int)\n",
    "\n",
    "    for token in sentence:\n",
    "        if token in token_to_id:\n",
    "            bow[token_to_id[token]] += 1\n",
    "\n",
    "    return bow\n",
    "\n",
    "query3 = 'fox and deer'\n",
    "\n",
    "embedded_query = embed_text(query3, clean, tokenize, lambda x: bag_of_words2(x, token_to_id_2))\n",
    "\n",
    "similarity_tfidf = cosine_similarity_1_to_n(embedded_query,tfidf_bows)\n",
    "\n",
    "\n",
    "top_indices3 = top_k_indices(similarity_tfidf, k=10).tolist()\n",
    "for idx in top_indices3:\n",
    "    print(split_ds_2['test'][idx]['set'][0])\n",
    "    print(f'similarity: {similarity_tfidf[idx]}')\n",
    "\n",
    "\n",
    "### YOUR CODE ENDS HERE\n",
    "\n",
    "### YOU CAN ADD MORE CELLS"
   ],
   "metadata": {
    "collapsed": false,
    "pycharm": {
     "name": "#%%\n"
    },
    "ExecuteTime": {
     "end_time": "2025-04-16T15:18:33.891667Z",
     "start_time": "2025-04-16T15:18:33.889143Z"
    }
   },
   "outputs": [],
   "execution_count": 42
  },
  {
   "cell_type": "markdown",
   "source": [
    "// your comments"
   ],
   "metadata": {
    "collapsed": false,
    "pycharm": {
     "name": "#%% md\n"
    }
   }
  },
  {
   "cell_type": "markdown",
   "source": [
    "## 4. Word Embeddings\n",
    "\n",
    "In this section you will load the pre-trained word embeddings model - Glove. You can read more about it [here](https://aclanthology.org/D14-1162/) ([https://aclanthology.org/D14-1162/](https://aclanthology.org/D14-1162/)). The embeddings are trained on a large corpus of text and are available in different dimensions. We will start with the dimension of 100, but later you will be asked to experiment with other dimensions.\n",
    "Gensim library maintains a storage containing some pre-trained models. You can read more about it [here](https://github.com/piskvorky/gensim-data) ([https://github.com/piskvorky/gensim-data](https://github.com/piskvorky/gensim-data)). Be sure to read the README of this repository.\n",
    "\n",
    "Let's first load the info of what models are available."
   ],
   "metadata": {
    "collapsed": false,
    "pycharm": {
     "name": "#%% md\n"
    }
   }
  },
  {
   "cell_type": "code",
   "source": [
    "import json\n",
    "import gensim.downloader as api\n",
    "\n",
    "info = api.info()  # show info about available models/datasets\n",
    "print(json.dumps(info['models'], indent=2))"
   ],
   "metadata": {
    "collapsed": false,
    "pycharm": {
     "name": "#%%\n"
    },
    "ExecuteTime": {
     "end_time": "2025-04-16T15:18:34.260635Z",
     "start_time": "2025-04-16T15:18:34.095184Z"
    }
   },
   "outputs": [
    {
     "name": "stdout",
     "output_type": "stream",
     "text": [
      "{\n",
      "  \"fasttext-wiki-news-subwords-300\": {\n",
      "    \"num_records\": 999999,\n",
      "    \"file_size\": 1005007116,\n",
      "    \"base_dataset\": \"Wikipedia 2017, UMBC webbase corpus and statmt.org news dataset (16B tokens)\",\n",
      "    \"reader_code\": \"https://github.com/RaRe-Technologies/gensim-data/releases/download/fasttext-wiki-news-subwords-300/__init__.py\",\n",
      "    \"license\": \"https://creativecommons.org/licenses/by-sa/3.0/\",\n",
      "    \"parameters\": {\n",
      "      \"dimension\": 300\n",
      "    },\n",
      "    \"description\": \"1 million word vectors trained on Wikipedia 2017, UMBC webbase corpus and statmt.org news dataset (16B tokens).\",\n",
      "    \"read_more\": [\n",
      "      \"https://fasttext.cc/docs/en/english-vectors.html\",\n",
      "      \"https://arxiv.org/abs/1712.09405\",\n",
      "      \"https://arxiv.org/abs/1607.01759\"\n",
      "    ],\n",
      "    \"checksum\": \"de2bb3a20c46ce65c9c131e1ad9a77af\",\n",
      "    \"file_name\": \"fasttext-wiki-news-subwords-300.gz\",\n",
      "    \"parts\": 1\n",
      "  },\n",
      "  \"conceptnet-numberbatch-17-06-300\": {\n",
      "    \"num_records\": 1917247,\n",
      "    \"file_size\": 1225497562,\n",
      "    \"base_dataset\": \"ConceptNet, word2vec, GloVe, and OpenSubtitles 2016\",\n",
      "    \"reader_code\": \"https://github.com/RaRe-Technologies/gensim-data/releases/download/conceptnet-numberbatch-17-06-300/__init__.py\",\n",
      "    \"license\": \"https://github.com/commonsense/conceptnet-numberbatch/blob/master/LICENSE.txt\",\n",
      "    \"parameters\": {\n",
      "      \"dimension\": 300\n",
      "    },\n",
      "    \"description\": \"ConceptNet Numberbatch consists of state-of-the-art semantic vectors (also known as word embeddings) that can be used directly as a representation of word meanings or as a starting point for further machine learning. ConceptNet Numberbatch is part of the ConceptNet open data project. ConceptNet provides lots of ways to compute with word meanings, one of which is word embeddings. ConceptNet Numberbatch is a snapshot of just the word embeddings. It is built using an ensemble that combines data from ConceptNet, word2vec, GloVe, and OpenSubtitles 2016, using a variation on retrofitting.\",\n",
      "    \"read_more\": [\n",
      "      \"http://aaai.org/ocs/index.php/AAAI/AAAI17/paper/view/14972\",\n",
      "      \"https://github.com/commonsense/conceptnet-numberbatch\",\n",
      "      \"http://conceptnet.io/\"\n",
      "    ],\n",
      "    \"checksum\": \"fd642d457adcd0ea94da0cd21b150847\",\n",
      "    \"file_name\": \"conceptnet-numberbatch-17-06-300.gz\",\n",
      "    \"parts\": 1\n",
      "  },\n",
      "  \"word2vec-ruscorpora-300\": {\n",
      "    \"num_records\": 184973,\n",
      "    \"file_size\": 208427381,\n",
      "    \"base_dataset\": \"Russian National Corpus (about 250M words)\",\n",
      "    \"reader_code\": \"https://github.com/RaRe-Technologies/gensim-data/releases/download/word2vec-ruscorpora-300/__init__.py\",\n",
      "    \"license\": \"https://creativecommons.org/licenses/by/4.0/deed.en\",\n",
      "    \"parameters\": {\n",
      "      \"dimension\": 300,\n",
      "      \"window_size\": 10\n",
      "    },\n",
      "    \"description\": \"Word2vec Continuous Skipgram vectors trained on full Russian National Corpus (about 250M words). The model contains 185K words.\",\n",
      "    \"preprocessing\": \"The corpus was lemmatized and tagged with Universal PoS\",\n",
      "    \"read_more\": [\n",
      "      \"https://www.academia.edu/24306935/WebVectors_a_Toolkit_for_Building_Web_Interfaces_for_Vector_Semantic_Models\",\n",
      "      \"http://rusvectores.org/en/\",\n",
      "      \"https://github.com/RaRe-Technologies/gensim-data/issues/3\"\n",
      "    ],\n",
      "    \"checksum\": \"9bdebdc8ae6d17d20839dd9b5af10bc4\",\n",
      "    \"file_name\": \"word2vec-ruscorpora-300.gz\",\n",
      "    \"parts\": 1\n",
      "  },\n",
      "  \"word2vec-google-news-300\": {\n",
      "    \"num_records\": 3000000,\n",
      "    \"file_size\": 1743563840,\n",
      "    \"base_dataset\": \"Google News (about 100 billion words)\",\n",
      "    \"reader_code\": \"https://github.com/RaRe-Technologies/gensim-data/releases/download/word2vec-google-news-300/__init__.py\",\n",
      "    \"license\": \"not found\",\n",
      "    \"parameters\": {\n",
      "      \"dimension\": 300\n",
      "    },\n",
      "    \"description\": \"Pre-trained vectors trained on a part of the Google News dataset (about 100 billion words). The model contains 300-dimensional vectors for 3 million words and phrases. The phrases were obtained using a simple data-driven approach described in 'Distributed Representations of Words and Phrases and their Compositionality' (https://code.google.com/archive/p/word2vec/).\",\n",
      "    \"read_more\": [\n",
      "      \"https://code.google.com/archive/p/word2vec/\",\n",
      "      \"https://arxiv.org/abs/1301.3781\",\n",
      "      \"https://arxiv.org/abs/1310.4546\",\n",
      "      \"https://www.microsoft.com/en-us/research/publication/linguistic-regularities-in-continuous-space-word-representations/?from=http%3A%2F%2Fresearch.microsoft.com%2Fpubs%2F189726%2Frvecs.pdf\"\n",
      "    ],\n",
      "    \"checksum\": \"a5e5354d40acb95f9ec66d5977d140ef\",\n",
      "    \"file_name\": \"word2vec-google-news-300.gz\",\n",
      "    \"parts\": 1\n",
      "  },\n",
      "  \"glove-wiki-gigaword-50\": {\n",
      "    \"num_records\": 400000,\n",
      "    \"file_size\": 69182535,\n",
      "    \"base_dataset\": \"Wikipedia 2014 + Gigaword 5 (6B tokens, uncased)\",\n",
      "    \"reader_code\": \"https://github.com/RaRe-Technologies/gensim-data/releases/download/glove-wiki-gigaword-50/__init__.py\",\n",
      "    \"license\": \"http://opendatacommons.org/licenses/pddl/\",\n",
      "    \"parameters\": {\n",
      "      \"dimension\": 50\n",
      "    },\n",
      "    \"description\": \"Pre-trained vectors based on Wikipedia 2014 + Gigaword, 5.6B tokens, 400K vocab, uncased (https://nlp.stanford.edu/projects/glove/).\",\n",
      "    \"preprocessing\": \"Converted to w2v format with `python -m gensim.scripts.glove2word2vec -i <fname> -o glove-wiki-gigaword-50.txt`.\",\n",
      "    \"read_more\": [\n",
      "      \"https://nlp.stanford.edu/projects/glove/\",\n",
      "      \"https://nlp.stanford.edu/pubs/glove.pdf\"\n",
      "    ],\n",
      "    \"checksum\": \"c289bc5d7f2f02c6dc9f2f9b67641813\",\n",
      "    \"file_name\": \"glove-wiki-gigaword-50.gz\",\n",
      "    \"parts\": 1\n",
      "  },\n",
      "  \"glove-wiki-gigaword-100\": {\n",
      "    \"num_records\": 400000,\n",
      "    \"file_size\": 134300434,\n",
      "    \"base_dataset\": \"Wikipedia 2014 + Gigaword 5 (6B tokens, uncased)\",\n",
      "    \"reader_code\": \"https://github.com/RaRe-Technologies/gensim-data/releases/download/glove-wiki-gigaword-100/__init__.py\",\n",
      "    \"license\": \"http://opendatacommons.org/licenses/pddl/\",\n",
      "    \"parameters\": {\n",
      "      \"dimension\": 100\n",
      "    },\n",
      "    \"description\": \"Pre-trained vectors based on Wikipedia 2014 + Gigaword 5.6B tokens, 400K vocab, uncased (https://nlp.stanford.edu/projects/glove/).\",\n",
      "    \"preprocessing\": \"Converted to w2v format with `python -m gensim.scripts.glove2word2vec -i <fname> -o glove-wiki-gigaword-100.txt`.\",\n",
      "    \"read_more\": [\n",
      "      \"https://nlp.stanford.edu/projects/glove/\",\n",
      "      \"https://nlp.stanford.edu/pubs/glove.pdf\"\n",
      "    ],\n",
      "    \"checksum\": \"40ec481866001177b8cd4cb0df92924f\",\n",
      "    \"file_name\": \"glove-wiki-gigaword-100.gz\",\n",
      "    \"parts\": 1\n",
      "  },\n",
      "  \"glove-wiki-gigaword-200\": {\n",
      "    \"num_records\": 400000,\n",
      "    \"file_size\": 264336934,\n",
      "    \"base_dataset\": \"Wikipedia 2014 + Gigaword 5 (6B tokens, uncased)\",\n",
      "    \"reader_code\": \"https://github.com/RaRe-Technologies/gensim-data/releases/download/glove-wiki-gigaword-200/__init__.py\",\n",
      "    \"license\": \"http://opendatacommons.org/licenses/pddl/\",\n",
      "    \"parameters\": {\n",
      "      \"dimension\": 200\n",
      "    },\n",
      "    \"description\": \"Pre-trained vectors based on Wikipedia 2014 + Gigaword, 5.6B tokens, 400K vocab, uncased (https://nlp.stanford.edu/projects/glove/).\",\n",
      "    \"preprocessing\": \"Converted to w2v format with `python -m gensim.scripts.glove2word2vec -i <fname> -o glove-wiki-gigaword-200.txt`.\",\n",
      "    \"read_more\": [\n",
      "      \"https://nlp.stanford.edu/projects/glove/\",\n",
      "      \"https://nlp.stanford.edu/pubs/glove.pdf\"\n",
      "    ],\n",
      "    \"checksum\": \"59652db361b7a87ee73834a6c391dfc1\",\n",
      "    \"file_name\": \"glove-wiki-gigaword-200.gz\",\n",
      "    \"parts\": 1\n",
      "  },\n",
      "  \"glove-wiki-gigaword-300\": {\n",
      "    \"num_records\": 400000,\n",
      "    \"file_size\": 394362229,\n",
      "    \"base_dataset\": \"Wikipedia 2014 + Gigaword 5 (6B tokens, uncased)\",\n",
      "    \"reader_code\": \"https://github.com/RaRe-Technologies/gensim-data/releases/download/glove-wiki-gigaword-300/__init__.py\",\n",
      "    \"license\": \"http://opendatacommons.org/licenses/pddl/\",\n",
      "    \"parameters\": {\n",
      "      \"dimension\": 300\n",
      "    },\n",
      "    \"description\": \"Pre-trained vectors based on Wikipedia 2014 + Gigaword, 5.6B tokens, 400K vocab, uncased (https://nlp.stanford.edu/projects/glove/).\",\n",
      "    \"preprocessing\": \"Converted to w2v format with `python -m gensim.scripts.glove2word2vec -i <fname> -o glove-wiki-gigaword-300.txt`.\",\n",
      "    \"read_more\": [\n",
      "      \"https://nlp.stanford.edu/projects/glove/\",\n",
      "      \"https://nlp.stanford.edu/pubs/glove.pdf\"\n",
      "    ],\n",
      "    \"checksum\": \"29e9329ac2241937d55b852e8284e89b\",\n",
      "    \"file_name\": \"glove-wiki-gigaword-300.gz\",\n",
      "    \"parts\": 1\n",
      "  },\n",
      "  \"glove-twitter-25\": {\n",
      "    \"num_records\": 1193514,\n",
      "    \"file_size\": 109885004,\n",
      "    \"base_dataset\": \"Twitter (2B tweets, 27B tokens, 1.2M vocab, uncased)\",\n",
      "    \"reader_code\": \"https://github.com/RaRe-Technologies/gensim-data/releases/download/glove-twitter-25/__init__.py\",\n",
      "    \"license\": \"http://opendatacommons.org/licenses/pddl/\",\n",
      "    \"parameters\": {\n",
      "      \"dimension\": 25\n",
      "    },\n",
      "    \"description\": \"Pre-trained vectors based on 2B tweets, 27B tokens, 1.2M vocab, uncased (https://nlp.stanford.edu/projects/glove/).\",\n",
      "    \"preprocessing\": \"Converted to w2v format with `python -m gensim.scripts.glove2word2vec -i <fname> -o glove-twitter-25.txt`.\",\n",
      "    \"read_more\": [\n",
      "      \"https://nlp.stanford.edu/projects/glove/\",\n",
      "      \"https://nlp.stanford.edu/pubs/glove.pdf\"\n",
      "    ],\n",
      "    \"checksum\": \"50db0211d7e7a2dcd362c6b774762793\",\n",
      "    \"file_name\": \"glove-twitter-25.gz\",\n",
      "    \"parts\": 1\n",
      "  },\n",
      "  \"glove-twitter-50\": {\n",
      "    \"num_records\": 1193514,\n",
      "    \"file_size\": 209216938,\n",
      "    \"base_dataset\": \"Twitter (2B tweets, 27B tokens, 1.2M vocab, uncased)\",\n",
      "    \"reader_code\": \"https://github.com/RaRe-Technologies/gensim-data/releases/download/glove-twitter-50/__init__.py\",\n",
      "    \"license\": \"http://opendatacommons.org/licenses/pddl/\",\n",
      "    \"parameters\": {\n",
      "      \"dimension\": 50\n",
      "    },\n",
      "    \"description\": \"Pre-trained vectors based on 2B tweets, 27B tokens, 1.2M vocab, uncased (https://nlp.stanford.edu/projects/glove/)\",\n",
      "    \"preprocessing\": \"Converted to w2v format with `python -m gensim.scripts.glove2word2vec -i <fname> -o glove-twitter-50.txt`.\",\n",
      "    \"read_more\": [\n",
      "      \"https://nlp.stanford.edu/projects/glove/\",\n",
      "      \"https://nlp.stanford.edu/pubs/glove.pdf\"\n",
      "    ],\n",
      "    \"checksum\": \"c168f18641f8c8a00fe30984c4799b2b\",\n",
      "    \"file_name\": \"glove-twitter-50.gz\",\n",
      "    \"parts\": 1\n",
      "  },\n",
      "  \"glove-twitter-100\": {\n",
      "    \"num_records\": 1193514,\n",
      "    \"file_size\": 405932991,\n",
      "    \"base_dataset\": \"Twitter (2B tweets, 27B tokens, 1.2M vocab, uncased)\",\n",
      "    \"reader_code\": \"https://github.com/RaRe-Technologies/gensim-data/releases/download/glove-twitter-100/__init__.py\",\n",
      "    \"license\": \"http://opendatacommons.org/licenses/pddl/\",\n",
      "    \"parameters\": {\n",
      "      \"dimension\": 100\n",
      "    },\n",
      "    \"description\": \"Pre-trained vectors based on  2B tweets, 27B tokens, 1.2M vocab, uncased (https://nlp.stanford.edu/projects/glove/)\",\n",
      "    \"preprocessing\": \"Converted to w2v format with `python -m gensim.scripts.glove2word2vec -i <fname> -o glove-twitter-100.txt`.\",\n",
      "    \"read_more\": [\n",
      "      \"https://nlp.stanford.edu/projects/glove/\",\n",
      "      \"https://nlp.stanford.edu/pubs/glove.pdf\"\n",
      "    ],\n",
      "    \"checksum\": \"b04f7bed38756d64cf55b58ce7e97b15\",\n",
      "    \"file_name\": \"glove-twitter-100.gz\",\n",
      "    \"parts\": 1\n",
      "  },\n",
      "  \"glove-twitter-200\": {\n",
      "    \"num_records\": 1193514,\n",
      "    \"file_size\": 795373100,\n",
      "    \"base_dataset\": \"Twitter (2B tweets, 27B tokens, 1.2M vocab, uncased)\",\n",
      "    \"reader_code\": \"https://github.com/RaRe-Technologies/gensim-data/releases/download/glove-twitter-200/__init__.py\",\n",
      "    \"license\": \"http://opendatacommons.org/licenses/pddl/\",\n",
      "    \"parameters\": {\n",
      "      \"dimension\": 200\n",
      "    },\n",
      "    \"description\": \"Pre-trained vectors based on 2B tweets, 27B tokens, 1.2M vocab, uncased (https://nlp.stanford.edu/projects/glove/).\",\n",
      "    \"preprocessing\": \"Converted to w2v format with `python -m gensim.scripts.glove2word2vec -i <fname> -o glove-twitter-200.txt`.\",\n",
      "    \"read_more\": [\n",
      "      \"https://nlp.stanford.edu/projects/glove/\",\n",
      "      \"https://nlp.stanford.edu/pubs/glove.pdf\"\n",
      "    ],\n",
      "    \"checksum\": \"e52e8392d1860b95d5308a525817d8f9\",\n",
      "    \"file_name\": \"glove-twitter-200.gz\",\n",
      "    \"parts\": 1\n",
      "  },\n",
      "  \"__testing_word2vec-matrix-synopsis\": {\n",
      "    \"description\": \"[THIS IS ONLY FOR TESTING] Word vecrors of the movie matrix.\",\n",
      "    \"parameters\": {\n",
      "      \"dimensions\": 50\n",
      "    },\n",
      "    \"preprocessing\": \"Converted to w2v using a preprocessed corpus. Converted to w2v format with `python3.5 -m gensim.models.word2vec -train <input_filename> -iter 50 -output <output_filename>`.\",\n",
      "    \"read_more\": [],\n",
      "    \"checksum\": \"534dcb8b56a360977a269b7bfc62d124\",\n",
      "    \"file_name\": \"__testing_word2vec-matrix-synopsis.gz\",\n",
      "    \"parts\": 1\n",
      "  }\n",
      "}\n"
     ]
    }
   ],
   "execution_count": 43
  },
  {
   "cell_type": "code",
   "source": [
    "glove_model = api.load(\"glove-wiki-gigaword-100\")"
   ],
   "metadata": {
    "collapsed": false,
    "pycharm": {
     "name": "#%%\n"
    },
    "ExecuteTime": {
     "end_time": "2025-04-16T15:18:44.565658Z",
     "start_time": "2025-04-16T15:18:34.274742Z"
    }
   },
   "outputs": [],
   "execution_count": 44
  },
  {
   "cell_type": "markdown",
   "source": [
    "We can use the loaded model's `key_to_index` attribute to retrieve the whole vocabulary (aka for how many words we learned embeddings for)."
   ],
   "metadata": {
    "collapsed": false,
    "pycharm": {
     "name": "#%% md\n"
    }
   }
  },
  {
   "cell_type": "code",
   "source": [
    "vocab = list(glove_model.key_to_index)\n",
    "print(len(vocab))"
   ],
   "metadata": {
    "collapsed": false,
    "pycharm": {
     "name": "#%%\n"
    },
    "ExecuteTime": {
     "end_time": "2025-04-16T15:18:44.770610Z",
     "start_time": "2025-04-16T15:18:44.764503Z"
    }
   },
   "outputs": [
    {
     "name": "stdout",
     "output_type": "stream",
     "text": [
      "400000\n"
     ]
    }
   ],
   "execution_count": 45
  },
  {
   "cell_type": "markdown",
   "source": [
    "Let's explore a bit further the embeddings. In the following cells, the embedding of a single word is returned. Double-check the dimensions (as sanity check). This is like inspecting the `W` matrix (weights) that we discussed in the lecture."
   ],
   "metadata": {
    "collapsed": false,
    "pycharm": {
     "name": "#%% md\n"
    }
   }
  },
  {
   "cell_type": "code",
   "source": [
    "# vector of a particular model. note that it is 100 dimensional as specified.\n",
    "glove_model['what']"
   ],
   "metadata": {
    "collapsed": false,
    "pycharm": {
     "name": "#%%\n"
    },
    "ExecuteTime": {
     "end_time": "2025-04-16T15:18:44.930501Z",
     "start_time": "2025-04-16T15:18:44.924999Z"
    }
   },
   "outputs": [
    {
     "data": {
      "text/plain": [
       "array([-1.5180e-01,  3.8409e-01,  8.9340e-01, -4.2421e-01, -9.2161e-01,\n",
       "        3.7988e-02, -3.2026e-01,  3.4119e-03,  2.2101e-01, -2.2045e-01,\n",
       "        1.6661e-01,  2.1956e-01,  2.5325e-01, -2.9267e-01,  1.0171e-01,\n",
       "       -7.5491e-02, -6.0406e-02,  2.8194e-01, -5.8519e-01,  4.8271e-01,\n",
       "        1.7504e-02, -1.2086e-01, -1.0990e-01, -6.9554e-01,  1.5600e-01,\n",
       "        7.0558e-02, -1.5058e-01, -8.1811e-01, -1.8535e-01, -3.6863e-01,\n",
       "        3.1650e-02,  7.6616e-01,  8.4041e-02,  2.6928e-03, -2.7440e-01,\n",
       "        2.1815e-01, -3.5157e-02,  3.2569e-01,  1.0032e-01, -6.0932e-01,\n",
       "       -7.0316e-01,  1.8299e-01,  3.3134e-01, -1.2416e-01, -9.0542e-01,\n",
       "       -3.9157e-02,  4.4719e-01, -5.7338e-01, -4.0172e-01, -8.2234e-01,\n",
       "        5.5740e-01,  1.5101e-01,  2.4598e-01,  1.0113e+00, -4.6626e-01,\n",
       "       -2.7133e+00,  4.3273e-01, -1.6314e-01,  1.5828e+00,  5.5081e-01,\n",
       "       -2.4738e-01,  1.4184e+00, -1.6867e-02, -1.9368e-01,  1.0090e+00,\n",
       "       -5.9864e-02,  9.1853e-01,  4.3022e-01, -2.0624e-01,  7.6127e-02,\n",
       "        2.1595e-01, -2.6834e-01, -3.3342e-01, -3.7151e-01,  4.5197e-01,\n",
       "       -8.2460e-02,  3.2984e-01, -5.7376e-01, -1.3042e+00,  2.7121e-01,\n",
       "        6.6277e-01, -7.9626e-02, -7.9167e-01, -5.3662e-03, -1.7916e+00,\n",
       "       -3.3298e-01, -3.0698e-01, -3.3980e-01, -5.5618e-01, -6.9471e-01,\n",
       "        2.7427e-01, -2.1898e-01, -2.6714e-01,  2.2561e-03, -5.0178e-01,\n",
       "       -3.2775e-01, -4.5670e-01, -2.7123e-01,  2.2157e-01,  9.2112e-01],\n",
       "      dtype=float32)"
      ]
     },
     "execution_count": 46,
     "metadata": {},
     "output_type": "execute_result"
    }
   ],
   "execution_count": 46
  },
  {
   "cell_type": "markdown",
   "source": [
    "Gensim objects offers different methods to easily run very common tasks. For example, there are different functions to find the most similar words.\n",
    "\n",
    "Check the documentation on how [`most_similar`](https://tedboy.github.io/nlps/generated/generated/gensim.models.Word2Vec.most_similar.html) and [`similar_by_word`](https://tedboy.github.io/nlps/generated/generated/gensim.models.Word2Vec.similar_by_word.html) can be used."
   ],
   "metadata": {
    "collapsed": false,
    "pycharm": {
     "name": "#%% md\n"
    }
   }
  },
  {
   "cell_type": "code",
   "source": [
    "# most similar words to a given word\n",
    "print(glove_model.most_similar('what', topn=10))\n",
    "\n",
    "# also u can use\n",
    "print(glove_model.similar_by_word('miss', topn=5))"
   ],
   "metadata": {
    "collapsed": false,
    "pycharm": {
     "name": "#%%\n"
    },
    "ExecuteTime": {
     "end_time": "2025-04-16T15:18:45.107986Z",
     "start_time": "2025-04-16T15:18:44.948246Z"
    }
   },
   "outputs": [
    {
     "name": "stdout",
     "output_type": "stream",
     "text": [
      "[('how', 0.930321455001831), ('why', 0.9196362495422363), ('fact', 0.9069437980651855), ('know', 0.8876389861106873), ('that', 0.8810365796089172), ('think', 0.8772969841957092), ('so', 0.8753098249435425), ('even', 0.8751895427703857), ('something', 0.874744176864624), ('if', 0.8702542781829834)]\n",
      "[('play', 0.6266525387763977), ('missed', 0.608065128326416), ('she', 0.596325695514679), ('chance', 0.5839369297027588), ('tournament', 0.5722586512565613)]\n"
     ]
    }
   ],
   "execution_count": 47
  },
  {
   "cell_type": "code",
   "source": [
    "print(glove_model.most_similar('why', topn=10))"
   ],
   "metadata": {
    "collapsed": false,
    "pycharm": {
     "name": "#%%\n"
    },
    "ExecuteTime": {
     "end_time": "2025-04-16T15:18:45.261781Z",
     "start_time": "2025-04-16T15:18:45.243190Z"
    }
   },
   "outputs": [
    {
     "name": "stdout",
     "output_type": "stream",
     "text": [
      "[('know', 0.9440940618515015), ('what', 0.9196362495422363), ('think', 0.9086559414863586), ('how', 0.9020735621452332), ('tell', 0.8923122882843018), (\"n't\", 0.8890628814697266), ('sure', 0.8870969414710999), ('thought', 0.8747684955596924), ('believe', 0.8745115995407104), ('say', 0.8730074763298035)]\n"
     ]
    }
   ],
   "execution_count": 48
  },
  {
   "cell_type": "code",
   "source": [
    "print(glove_model.similar_by_word('who', topn=5))"
   ],
   "metadata": {
    "collapsed": false,
    "pycharm": {
     "name": "#%%\n"
    },
    "ExecuteTime": {
     "end_time": "2025-04-16T15:18:45.408170Z",
     "start_time": "2025-04-16T15:18:45.386264Z"
    }
   },
   "outputs": [
    {
     "name": "stdout",
     "output_type": "stream",
     "text": [
      "[('whom', 0.8642492890357971), ('he', 0.8201969861984253), ('whose', 0.8143677711486816), ('had', 0.8035845160484314), ('others', 0.7708419561386108)]\n"
     ]
    }
   ],
   "execution_count": 49
  },
  {
   "cell_type": "markdown",
   "source": [
    "We can now compare our implementation with the one in the pre-trained model and confirm what we already expected."
   ],
   "metadata": {
    "collapsed": false,
    "pycharm": {
     "name": "#%% md\n"
    }
   }
  },
  {
   "cell_type": "code",
   "source": [
    "# simalarity between two words\n",
    "word1 = 'alive'\n",
    "word2 = 'biology'\n",
    "print(glove_model.similarity(word1, word2))\n",
    "print(cosine_similarity(glove_model[word1], glove_model[word2]))"
   ],
   "metadata": {
    "collapsed": false,
    "pycharm": {
     "name": "#%%\n"
    },
    "ExecuteTime": {
     "end_time": "2025-04-16T15:18:45.668853Z",
     "start_time": "2025-04-16T15:18:45.666446Z"
    }
   },
   "outputs": [
    {
     "name": "stdout",
     "output_type": "stream",
     "text": [
      "0.15712574\n",
      "0.15712576\n"
     ]
    }
   ],
   "execution_count": 50
  },
  {
   "cell_type": "code",
   "source": [
    "# simalarity between two words. similar words\n",
    "word1 = 'alive'\n",
    "word2 = 'life'\n",
    "print(glove_model.similarity(word1, word2))\n",
    "print(cosine_similarity(glove_model[word1], glove_model[word2]))"
   ],
   "metadata": {
    "collapsed": false,
    "pycharm": {
     "name": "#%%\n"
    },
    "ExecuteTime": {
     "end_time": "2025-04-16T15:18:45.676960Z",
     "start_time": "2025-04-16T15:18:45.674843Z"
    }
   },
   "outputs": [
    {
     "name": "stdout",
     "output_type": "stream",
     "text": [
      "0.6400604\n",
      "0.6400604\n"
     ]
    }
   ],
   "execution_count": 51
  },
  {
   "cell_type": "code",
   "source": [
    "# simalarity between two words. dissimilar words\n",
    "word1 = 'alive'\n",
    "word2 = 'dead'\n",
    "print(glove_model.similarity(word1, word2))\n",
    "print(cosine_similarity(glove_model[word1], glove_model[word2]))"
   ],
   "metadata": {
    "collapsed": false,
    "pycharm": {
     "name": "#%%\n"
    },
    "ExecuteTime": {
     "end_time": "2025-04-16T15:18:45.752559Z",
     "start_time": "2025-04-16T15:18:45.750329Z"
    }
   },
   "outputs": [
    {
     "name": "stdout",
     "output_type": "stream",
     "text": [
      "0.71035177\n",
      "0.71035177\n"
     ]
    }
   ],
   "execution_count": 52
  },
  {
   "cell_type": "code",
   "source": [
    "# simalarity between two words. unrelated words\n",
    "word1 = 'alive'\n",
    "word2 = 'horse'\n",
    "print(glove_model.similarity(word1, word2))\n",
    "print(cosine_similarity(glove_model[word1], glove_model[word2]))"
   ],
   "metadata": {
    "collapsed": false,
    "pycharm": {
     "name": "#%%\n"
    },
    "ExecuteTime": {
     "end_time": "2025-04-16T15:18:45.825838Z",
     "start_time": "2025-04-16T15:18:45.823501Z"
    }
   },
   "outputs": [
    {
     "name": "stdout",
     "output_type": "stream",
     "text": [
      "0.34625494\n",
      "0.34625494\n"
     ]
    }
   ],
   "execution_count": 53
  },
  {
   "cell_type": "code",
   "source": [
    "# simalarity between two SAME words\n",
    "glove_model.similarity('equal', 'equal')\n",
    "word1 = 'equal'\n",
    "word2 = 'equal'\n",
    "print(glove_model.similarity(word1, word2))\n",
    "print(cosine_similarity(glove_model[word1], glove_model[word2]))"
   ],
   "metadata": {
    "collapsed": false,
    "pycharm": {
     "name": "#%%\n"
    },
    "ExecuteTime": {
     "end_time": "2025-04-16T15:18:45.915241Z",
     "start_time": "2025-04-16T15:18:45.912910Z"
    }
   },
   "outputs": [
    {
     "name": "stdout",
     "output_type": "stream",
     "text": [
      "1.0\n",
      "1.0000001\n"
     ]
    }
   ],
   "execution_count": 54
  },
  {
   "cell_type": "markdown",
   "source": [
    "The next function contains the code to plot a similarity matrix between multiple words (e.g. if we want to compare 10 words and their pair-wise similarities). It requires a matrix with similarities (as input) and labels (aka the words) to display in the final figure."
   ],
   "metadata": {
    "collapsed": false,
    "pycharm": {
     "name": "#%% md\n"
    }
   }
  },
  {
   "cell_type": "code",
   "source": [
    "def plot_similarity_matrix(matrix, labels):\n",
    "    \"\"\"\n",
    "    Displays a plot of the `matrix` of size (N x N) with the labels specified as a list of size N\n",
    "    Args:\n",
    "        matrix: a square-sized (N x N) numpy array\n",
    "        labels: a list of strings of hte size N\n",
    "    \"\"\"\n",
    "\n",
    "    fig, ax = plt.subplots()\n",
    "    im = ax.imshow(matrix)\n",
    "\n",
    "    # Show all ticks and label them with the respective list entries\n",
    "    ax.set_xticks(np.arange(len(labels)), labels=labels)\n",
    "    ax.set_yticks(np.arange(len(labels)), labels=labels)\n",
    "\n",
    "    # Rotate the tick labels and set their alignment.\n",
    "    plt.setp(ax.get_xticklabels(), rotation=45, ha=\"right\",\n",
    "             rotation_mode=\"anchor\")\n",
    "\n",
    "    # Loop over data dimensions and create text annotations.\n",
    "    for i in range(len(labels)):\n",
    "        for j in range(len(labels)):\n",
    "            text = ax.text(j, i, f'{matrix[i, j]:.2f}',\n",
    "                           ha=\"center\", va=\"center\", color=\"w\")\n",
    "\n",
    "    # ax.set_title(\"Give a title if you want\")\n",
    "    fig.tight_layout()\n",
    "    plt.show()"
   ],
   "metadata": {
    "collapsed": false,
    "pycharm": {
     "name": "#%%\n"
    },
    "ExecuteTime": {
     "end_time": "2025-04-16T15:18:46.070679Z",
     "start_time": "2025-04-16T15:18:46.067289Z"
    }
   },
   "outputs": [],
   "execution_count": 55
  },
  {
   "cell_type": "markdown",
   "source": [
    "<a name='e10'></a>\n",
    "### Exercise 10: Plotting similarities between words\n",
    "\n",
    "(10p) In the following, we will explore some properties of word embeddings through some examples. We will use 6 example words for this purpose but experiment with other set of words as well. Fill in the next cell to create a similarity matrix between a list of words.\n",
    "\n",
    "Experiment with different words and their similarities plotted. Try at least 3 different sets of words of at least 6 words each. Use the `plot_similarity_matrix` function to visualize the results.\n",
    "Comment on the results. Do they make sense? Why some words are closer to each other than others? What does it mean?"
   ],
   "metadata": {
    "collapsed": false,
    "pycharm": {
     "name": "#%% md\n"
    }
   }
  },
  {
   "cell_type": "code",
   "source": [
    "list_of_words = ['love', 'hate', 'life', 'equal', 'alive', 'dead']\n",
    "\n",
    "similarity_matrix = np.zeros((len(list_of_words), len(list_of_words)), dtype=float)\n",
    "\n",
    "### YOUR CODE HERE\n",
    "\n",
    "def build_similarity_matrix(similarity_matrix, list_of_words):\n",
    "    for i in range(len(list_of_words)):\n",
    "        for j in range(len(list_of_words)):\n",
    "            similarity_matrix[i, j] = glove_model.similarity(list_of_words[i], list_of_words[j])\n",
    "\n",
    "    return similarity_matrix\n",
    "\n",
    "### YOUR CODE ENDS HERE\n",
    "\n",
    "\n",
    "plot_similarity_matrix(build_similarity_matrix(similarity_matrix, list_of_words), list_of_words)"
   ],
   "metadata": {
    "collapsed": false,
    "pycharm": {
     "name": "#%%\n"
    },
    "ExecuteTime": {
     "end_time": "2025-04-16T15:18:46.952712Z",
     "start_time": "2025-04-16T15:18:46.075590Z"
    }
   },
   "outputs": [
    {
     "data": {
      "text/plain": [
       "<Figure size 640x480 with 1 Axes>"
      ],
      "image/png": "[encoded data removed]"
     },
     "metadata": {},
     "output_type": "display_data"
    }
   ],
   "execution_count": 56
  },
  {
   "cell_type": "code",
   "source": [
    "#### YOUR CODE HERE\n",
    "\n",
    "list_of_words = ['money', 'capitalism', 'war', 'missiles', 'stocks', 'flower']\n",
    "list_of_words_2 = ['ambulance', 'doctor', 'war', 'celebrity', 'ice', 'polar']\n",
    "list_of_words_3 = ['sword', 'shield', 'toilet', 'paper', 'punishment', 'crime']\n",
    "\n",
    "similarity_matrix = np.zeros((len(list_of_words), len(list_of_words)), dtype=float)\n",
    "\n",
    "\n",
    "plot_similarity_matrix(build_similarity_matrix(similarity_matrix, list_of_words), list_of_words)\n",
    "plot_similarity_matrix(build_similarity_matrix(similarity_matrix, list_of_words_2), list_of_words_2)\n",
    "plot_similarity_matrix(build_similarity_matrix(similarity_matrix, list_of_words_3), list_of_words_3)\n",
    "\n",
    "### YOUR CODE ENDS HERE"
   ],
   "metadata": {
    "collapsed": false,
    "pycharm": {
     "name": "#%%\n"
    },
    "ExecuteTime": {
     "end_time": "2025-04-16T15:18:47.231893Z",
     "start_time": "2025-04-16T15:18:47.030827Z"
    }
   },
   "outputs": [
    {
     "data": {
      "text/plain": [
       "<Figure size 640x480 with 1 Axes>"
      ],
      "image/png": "[encoded data removed]"
     },
     "metadata": {},
     "output_type": "display_data"
    },
    {
     "data": {
      "text/plain": [
       "<Figure size 640x480 with 1 Axes>"
      ],
      "image/png": "[encoded data removed]"
     },
     "metadata": {},
     "output_type": "display_data"
    },
    {
     "data": {
      "text/plain": [
       "<Figure size 640x480 with 1 Axes>"
      ],
      "image/png": "[encoded data removed]"
     },
     "metadata": {},
     "output_type": "display_data"
    }
   ],
   "execution_count": 57
  },
  {
   "cell_type": "markdown",
   "source": [
    "<a name='e11'></a>\n",
    "### Exercise 11: Other pre-trained word embeddings\n",
    "(10p) For this exercise, experiment with at least one different word embedding model. You can choose Glove with different dimensions or other pre-trained models. Use the gensim library to download and use the models.\n",
    "Plot similarity matrices between sets of words you used in the previous exercise and compare the results. Are there noticeable differences? Why (not)?"
   ],
   "metadata": {
    "collapsed": false,
    "pycharm": {
     "name": "#%% md\n"
    }
   }
  },
  {
   "cell_type": "code",
   "source": [
    "#### YOUR CODE HERE\n",
    "light_model = api.load(\"glove-twitter-100\")\n",
    "strong_model = api.load(\"glove-wiki-gigaword-200\")\n"
   ],
   "metadata": {
    "collapsed": false,
    "pycharm": {
     "name": "#%%\n"
    },
    "ExecuteTime": {
     "end_time": "2025-04-16T16:22:15.175146Z",
     "start_time": "2025-04-16T16:20:30.393836Z"
    }
   },
   "outputs": [
    {
     "name": "stdout",
     "output_type": "stream",
     "text": [
      "[===-----------------------------------------------] 6.1% 23.4/387.1MB downloaded"
     ]
    },
    {
     "name": "stderr",
     "output_type": "stream",
     "text": [
      "IOPub message rate exceeded.\n",
      "The Jupyter server will temporarily stop sending output\n",
      "to the client in order to avoid crashing it.\n",
      "To change this limit, set the config variable\n",
      "`--ServerApp.iopub_msg_rate_limit`.\n",
      "\n",
      "Current values:\n",
      "ServerApp.iopub_msg_rate_limit=1000.0 (msgs/sec)\n",
      "ServerApp.rate_limit_window=3.0 (secs)\n",
      "\n"
     ]
    },
    {
     "name": "stdout",
     "output_type": "stream",
     "text": [
      "[=======-------------------------------------------] 14.1% 54.7/387.1MB downloaded"
     ]
    },
    {
     "name": "stderr",
     "output_type": "stream",
     "text": [
      "IOPub message rate exceeded.\n",
      "The Jupyter server will temporarily stop sending output\n",
      "to the client in order to avoid crashing it.\n",
      "To change this limit, set the config variable\n",
      "`--ServerApp.iopub_msg_rate_limit`.\n",
      "\n",
      "Current values:\n",
      "ServerApp.iopub_msg_rate_limit=1000.0 (msgs/sec)\n",
      "ServerApp.rate_limit_window=3.0 (secs)\n",
      "\n"
     ]
    },
    {
     "name": "stdout",
     "output_type": "stream",
     "text": [
      "[=========-----------------------------------------] 19.7% 76.4/387.1MB downloaded"
     ]
    },
    {
     "name": "stderr",
     "output_type": "stream",
     "text": [
      "IOPub message rate exceeded.\n",
      "The Jupyter server will temporarily stop sending output\n",
      "to the client in order to avoid crashing it.\n",
      "To change this limit, set the config variable\n",
      "`--ServerApp.iopub_msg_rate_limit`.\n",
      "\n",
      "Current values:\n",
      "ServerApp.iopub_msg_rate_limit=1000.0 (msgs/sec)\n",
      "ServerApp.rate_limit_window=3.0 (secs)\n",
      "\n"
     ]
    },
    {
     "name": "stdout",
     "output_type": "stream",
     "text": [
      "[============--------------------------------------] 24.3% 94.0/387.1MB downloaded"
     ]
    },
    {
     "name": "stderr",
     "output_type": "stream",
     "text": [
      "IOPub message rate exceeded.\n",
      "The Jupyter server will temporarily stop sending output\n",
      "to the client in order to avoid crashing it.\n",
      "To change this limit, set the config variable\n",
      "`--ServerApp.iopub_msg_rate_limit`.\n",
      "\n",
      "Current values:\n",
      "ServerApp.iopub_msg_rate_limit=1000.0 (msgs/sec)\n",
      "ServerApp.rate_limit_window=3.0 (secs)\n",
      "\n"
     ]
    },
    {
     "name": "stdout",
     "output_type": "stream",
     "text": [
      "[===============-----------------------------------] 30.7% 118.8/387.1MB downloaded"
     ]
    },
    {
     "name": "stderr",
     "output_type": "stream",
     "text": [
      "IOPub message rate exceeded.\n",
      "The Jupyter server will temporarily stop sending output\n",
      "to the client in order to avoid crashing it.\n",
      "To change this limit, set the config variable\n",
      "`--ServerApp.iopub_msg_rate_limit`.\n",
      "\n",
      "Current values:\n",
      "ServerApp.iopub_msg_rate_limit=1000.0 (msgs/sec)\n",
      "ServerApp.rate_limit_window=3.0 (secs)\n",
      "\n"
     ]
    },
    {
     "name": "stdout",
     "output_type": "stream",
     "text": [
      "[=================---------------------------------] 35.0% 135.6/387.1MB downloaded"
     ]
    },
    {
     "name": "stderr",
     "output_type": "stream",
     "text": [
      "IOPub message rate exceeded.\n",
      "The Jupyter server will temporarily stop sending output\n",
      "to the client in order to avoid crashing it.\n",
      "To change this limit, set the config variable\n",
      "`--ServerApp.iopub_msg_rate_limit`.\n",
      "\n",
      "Current values:\n",
      "ServerApp.iopub_msg_rate_limit=1000.0 (msgs/sec)\n",
      "ServerApp.rate_limit_window=3.0 (secs)\n",
      "\n"
     ]
    },
    {
     "name": "stdout",
     "output_type": "stream",
     "text": [
      "[========================--------------------------] 50.0% 193.5/387.1MB downloaded"
     ]
    },
    {
     "name": "stderr",
     "output_type": "stream",
     "text": [
      "IOPub message rate exceeded.\n",
      "The Jupyter server will temporarily stop sending output\n",
      "to the client in order to avoid crashing it.\n",
      "To change this limit, set the config variable\n",
      "`--ServerApp.iopub_msg_rate_limit`.\n",
      "\n",
      "Current values:\n",
      "ServerApp.iopub_msg_rate_limit=1000.0 (msgs/sec)\n",
      "ServerApp.rate_limit_window=3.0 (secs)\n",
      "\n"
     ]
    },
    {
     "name": "stdout",
     "output_type": "stream",
     "text": [
      "[==============================--------------------] 61.4% 237.8/387.1MB downloaded"
     ]
    },
    {
     "name": "stderr",
     "output_type": "stream",
     "text": [
      "IOPub message rate exceeded.\n",
      "The Jupyter server will temporarily stop sending output\n",
      "to the client in order to avoid crashing it.\n",
      "To change this limit, set the config variable\n",
      "`--ServerApp.iopub_msg_rate_limit`.\n",
      "\n",
      "Current values:\n",
      "ServerApp.iopub_msg_rate_limit=1000.0 (msgs/sec)\n",
      "ServerApp.rate_limit_window=3.0 (secs)\n",
      "\n"
     ]
    },
    {
     "name": "stdout",
     "output_type": "stream",
     "text": [
      "[===================================---------------] 70.1% 271.3/387.1MB downloaded"
     ]
    },
    {
     "name": "stderr",
     "output_type": "stream",
     "text": [
      "IOPub message rate exceeded.\n",
      "The Jupyter server will temporarily stop sending output\n",
      "to the client in order to avoid crashing it.\n",
      "To change this limit, set the config variable\n",
      "`--ServerApp.iopub_msg_rate_limit`.\n",
      "\n",
      "Current values:\n",
      "ServerApp.iopub_msg_rate_limit=1000.0 (msgs/sec)\n",
      "ServerApp.rate_limit_window=3.0 (secs)\n",
      "\n"
     ]
    },
    {
     "name": "stdout",
     "output_type": "stream",
     "text": [
      "[======================================------------] 77.0% 297.9/387.1MB downloaded"
     ]
    },
    {
     "name": "stderr",
     "output_type": "stream",
     "text": [
      "IOPub message rate exceeded.\n",
      "The Jupyter server will temporarily stop sending output\n",
      "to the client in order to avoid crashing it.\n",
      "To change this limit, set the config variable\n",
      "`--ServerApp.iopub_msg_rate_limit`.\n",
      "\n",
      "Current values:\n",
      "ServerApp.iopub_msg_rate_limit=1000.0 (msgs/sec)\n",
      "ServerApp.rate_limit_window=3.0 (secs)\n",
      "\n"
     ]
    },
    {
     "name": "stdout",
     "output_type": "stream",
     "text": [
      "[==========================================--------] 84.2% 326.0/387.1MB downloaded"
     ]
    },
    {
     "name": "stderr",
     "output_type": "stream",
     "text": [
      "IOPub message rate exceeded.\n",
      "The Jupyter server will temporarily stop sending output\n",
      "to the client in order to avoid crashing it.\n",
      "To change this limit, set the config variable\n",
      "`--ServerApp.iopub_msg_rate_limit`.\n",
      "\n",
      "Current values:\n",
      "ServerApp.iopub_msg_rate_limit=1000.0 (msgs/sec)\n",
      "ServerApp.rate_limit_window=3.0 (secs)\n",
      "\n"
     ]
    },
    {
     "name": "stdout",
     "output_type": "stream",
     "text": [
      "[================================================--] 96.3% 372.7/387.1MB downloaded"
     ]
    },
    {
     "name": "stderr",
     "output_type": "stream",
     "text": [
      "IOPub message rate exceeded.\n",
      "The Jupyter server will temporarily stop sending output\n",
      "to the client in order to avoid crashing it.\n",
      "To change this limit, set the config variable\n",
      "`--ServerApp.iopub_msg_rate_limit`.\n",
      "\n",
      "Current values:\n",
      "ServerApp.iopub_msg_rate_limit=1000.0 (msgs/sec)\n",
      "ServerApp.rate_limit_window=3.0 (secs)\n",
      "\n"
     ]
    },
    {
     "name": "stdout",
     "output_type": "stream",
     "text": [
      "[==================================================] 100.0% 387.1/387.1MB downloaded\n"
     ]
    }
   ],
   "execution_count": 91
  },
  {
   "metadata": {
    "ExecuteTime": {
     "end_time": "2025-04-16T16:22:23.721097Z",
     "start_time": "2025-04-16T16:22:23.706051Z"
    }
   },
   "cell_type": "code",
   "source": [
    "def plot_similarity_matrix_adapted(matrix, labels, ax=None, title=None):\n",
    "    \"\"\"\n",
    "    Displays a plot of the `matrix` with the given `labels`\n",
    "    Optionally draws it on a given `ax` (for subplotting)\n",
    "    \"\"\"\n",
    "\n",
    "    if ax is None:\n",
    "        fig, ax = plt.subplots()\n",
    "\n",
    "    im = ax.imshow(matrix)\n",
    "\n",
    "    ax.set_xticks(np.arange(len(labels)))\n",
    "    ax.set_yticks(np.arange(len(labels)))\n",
    "    ax.set_xticklabels(labels, rotation=45, ha=\"right\", rotation_mode=\"anchor\")\n",
    "    ax.set_yticklabels(labels)\n",
    "\n",
    "    for i in range(len(labels)):\n",
    "        for j in range(len(labels)):\n",
    "            ax.text(j, i, f'{matrix[i, j]:.2f}', ha=\"center\", va=\"center\", color=\"w\")\n",
    "\n",
    "    if title:\n",
    "        ax.set_title(title)\n"
   ],
   "outputs": [],
   "execution_count": 92
  },
  {
   "metadata": {
    "ExecuteTime": {
     "end_time": "2025-04-16T16:41:34.680184Z",
     "start_time": "2025-04-16T16:41:33.413187Z"
    }
   },
   "cell_type": "code",
   "source": [
    "def build_similarity_matrix(model, list_of_words):\n",
    "    size = len(list_of_words)\n",
    "    similarity_matrix = np.zeros((size, size), dtype=float)\n",
    "\n",
    "    for i in range(size):\n",
    "        for j in range(size):\n",
    "            similarity_matrix[i, j] = model.similarity(list_of_words[i], list_of_words[j])\n",
    "\n",
    "    return similarity_matrix\n",
    "\n",
    "\n",
    "list_of_words = ['money', 'capitalism', 'war', 'missiles', 'stocks', 'communism']\n",
    "list_of_words_2 = ['sunny', 'celebrity', 'health', 'body', 'life', 'bad']\n",
    "list_of_words_3 = ['neutron', 'atom', 'photosynthesis', 'acid', 'amino', 'chlorophyll']\n",
    "\n",
    "\n",
    "\n",
    "models = [light_model, glove_model,strong_model]\n",
    "model_names = ['twitter model (100)','glove model (wiki 100)','wiki-200 model']\n",
    "\n",
    "\n",
    "selected_words = list_of_words\n",
    "selected_words_2 = list_of_words_2\n",
    "selected_words_3 = list_of_words_3\n",
    "\n",
    "fig, axes = plt.subplots(3, len(models), figsize=(15, 12))\n",
    "\n",
    "for row, word_list in enumerate([selected_words, selected_words_2, selected_words_3]):\n",
    "    for col, model in enumerate(models):\n",
    "        sim_matrix = build_similarity_matrix(model, word_list)\n",
    "        plot_similarity_matrix_adapted(sim_matrix, word_list, ax=axes[row, col], title=model_names[col])\n",
    "\n",
    "plt.tight_layout()\n",
    "plt.show()\n",
    "\n",
    "### YOUR CODE ENDS HERE"
   ],
   "outputs": [
    {
     "data": {
      "text/plain": [
       "<Figure size 1500x1200 with 9 Axes>"
      ],
      "image/png": "[encoded data removed]"
     },
     "metadata": {},
     "output_type": "display_data"
    }
   ],
   "execution_count": 108
  },
  {
   "cell_type": "markdown",
   "source": [
    "Across models 2 and 3, we observe that the models consistently capture similar types of word associations. This suggests that the core semantic structure is preserved, which is to be expected, as both models were trained on Wikipedia data. However, with an increase in dimensionality, cosine similarity values tend to decrease. Comparing the 100D (glove model) and 200D wiki-trained model, we see that most similarity scores are weaker in the higher-dimensional space. While speculative, this may be due to a larger vector space weakening strong and common word associations in order to better capture more nuanced and complex relationships.\n",
    "Model 1 (the Twitter model) reflects some different kind of behavior, likely due to its training data. Words from list 2, such as 'sunny', 'celebrity', 'health', 'body', 'life', 'bad', show much stronger associations in the Twitter-based model than in the Wikipedia-trained ones, despite both models being 100D. This could be because such words frequently co-occur in informal or emotional contexts typical of tweets.\n",
    "Conversely, scientific terms like those in list 3; 'neutron', 'atom', 'photosynthesis', 'acid', 'amino', 'chlorophyll', are more strongly associated in Wikipedia-trained models. For instance, 'amino' and 'acid' have a cosine similarity of 0.74 in the 100D wiki model, but only 0.43 in the Twitter model. This highlights how the training corpus influences word meaning where context shapes association.\n",
    "However, without further investigation the conclusions above are, as mentioned, speculative."
   ],
   "metadata": {
    "collapsed": false,
    "pycharm": {
     "name": "#%% md\n"
    }
   }
  },
  {
   "cell_type": "markdown",
   "source": [
    "## 5. Sentence Embeddings by Averaging Word Embeddings\n",
    "\n",
    "Word embeddings are a powerful model for representing words and their meaning (in terms of distributional similarity). As we discussed in class, we can use them in a wide variety of tasks with more complex architectures. Word vectors offer a dense vector for each word. What if we wanted to represent a sentence (or a document) based on word vectors. How can we do that?\n",
    "\n",
    "In the course, we will see different architectures that take into account the sequence of words (by combining their vectors). A first naive but simple and sometimes (as we are going to see) quite effective approach would be to represent a sentence with an embedding vector that is the average of the word vectors that form the sentence.\n",
    "\n",
    "So formally, this is what we are aiming for:\n",
    "\n",
    "$\n",
    "\\text{Sentence_Embedding} = \\frac{1}{N} \\sum_{i=1}^{N} \\text{Word_Embedding}_i\n",
    "$\n",
    "\n",
    "where:\n",
    "* $N$ is the number of words in a sentence\n",
    "* $\\text{Word_Embedding}_i$ is the word vector for the $i$-th in the sentence.\n",
    "\n",
    "Things to note:\n",
    "* The embedding vector for the sentence will obviously have the same dimension as the word embedding.\n",
    "* This representation ignores the word order (like bag-of-words). During the course we will see how we can overcome this limitation by using sequence models."
   ],
   "metadata": {
    "collapsed": false,
    "pycharm": {
     "name": "#%% md\n"
    }
   }
  },
  {
   "cell_type": "markdown",
   "source": [
    "<a name='e12'></a>\n",
    "### Exercise 12: Sentence Embedding\n",
    "\n",
    "(10p) Complete the function below that takes as input the sentence in the form of tokens (so it's a list of words) and calculates the sentence embedding vector. First, we would need to retrieve the word embeddings for each word from our loaded model and then average the vectors.\n",
    "\n",
    "Note: There can be cases where all tokens from a sentence are out-of-vocabulary words (OOV). Think what to do in this case and make sure to discuss it in the report."
   ],
   "metadata": {
    "collapsed": false,
    "pycharm": {
     "name": "#%% md\n"
    }
   }
  },
  {
   "cell_type": "code",
   "source": [
    "def embed_sentence_word_model(tokens, model):\n",
    "    \"\"\"\n",
    "    Calculates the sentence embedding by averaging the embeddings of the tokens\n",
    "    Args:\n",
    "        tokens: a list of words from the sentence\n",
    "        model: a trained word embeddings model\n",
    "\n",
    "    Returns: a numpy array of the sentence embedding\n",
    "\n",
    "    \"\"\"\n",
    "    #### YOUR CODE HERE\n",
    "    #### CAUTION: be sure to cover the case where all tokens are out-of-vocabulary!!!\n",
    "\n",
    "    embeddings = []\n",
    "\n",
    "    for token in tokens:\n",
    "        if token in model:\n",
    "            embeddings.append(model[token])\n",
    "\n",
    "    sentence_embedding = np.mean(embeddings, axis=0).astype(np.float32)\n",
    "\n",
    "    return sentence_embedding\n",
    "\n",
    "    ### YOUR CODE ENDS HERE"
   ],
   "metadata": {
    "collapsed": false,
    "pycharm": {
     "name": "#%%\n"
    },
    "ExecuteTime": {
     "end_time": "2025-04-16T17:28:17.900593Z",
     "start_time": "2025-04-16T17:28:17.873955Z"
    }
   },
   "outputs": [],
   "execution_count": 112
  },
  {
   "cell_type": "markdown",
   "source": [
    "Now we can apply the function to the whole dataset. Here we do it both for the sentence and the compressed version. You should know it by now, but this operation might take some time. The next cells will apply your function to the whole dataset."
   ],
   "metadata": {
    "collapsed": false,
    "pycharm": {
     "name": "#%% md\n"
    }
   }
  },
  {
   "cell_type": "code",
   "source": [
    "def embed_sentence_word_model_dataset(example, model):\n",
    "    \"\"\"\n",
    "    Embeds the sentence and the compressed sentence in the example from the Dataset\n",
    "    Args:\n",
    "        example: an example from the Dataset\n",
    "        model: a trained word embeddings model\n",
    "\n",
    "    Returns: updated example with 'sentence_embedding' and 'compressed_embedding' columns\n",
    "\n",
    "    \"\"\"\n",
    "    sentence_tokens = example['sentence_tokens']\n",
    "    clean_compressed = example['clean_compressed']\n",
    "    compressed_tokens = tokenize(clean_compressed)\n",
    "\n",
    "    sentence_embedding = embed_sentence_word_model(sentence_tokens, model)\n",
    "    compressed_embedding = embed_sentence_word_model(compressed_tokens, model)\n",
    "\n",
    "    example['sentence_embedding'] = sentence_embedding\n",
    "    example['compressed_embedding'] = compressed_embedding\n",
    "    return example"
   ],
   "metadata": {
    "collapsed": false,
    "pycharm": {
     "name": "#%%\n"
    },
    "ExecuteTime": {
     "end_time": "2025-04-16T17:28:19.013Z",
     "start_time": "2025-04-16T17:28:19.008171Z"
    }
   },
   "outputs": [],
   "execution_count": 113
  },
  {
   "cell_type": "code",
   "source": [
    "test_ds = test_ds.map(embed_sentence_word_model_dataset, fn_kwargs={'model': glove_model})\n",
    "print(test_ds)"
   ],
   "metadata": {
    "collapsed": false,
    "pycharm": {
     "name": "#%%\n"
    },
    "ExecuteTime": {
     "end_time": "2025-04-16T17:29:55.477892Z",
     "start_time": "2025-04-16T17:29:10.988367Z"
    }
   },
   "outputs": [
    {
     "name": "stderr",
     "output_type": "stream",
     "text": [
      "Map: 100%|██████████| 36000/36000 [00:42<00:00, 840.39 examples/s] "
     ]
    },
    {
     "name": "stdout",
     "output_type": "stream",
     "text": [
      "Dataset({\n",
      "    features: ['set', 'clean_sentence', 'clean_compressed', 'sentence_tokens', 'compressed_tokens', 'sentence_bow', 'compressed_bow', 'sentence_embedding', 'compressed_embedding'],\n",
      "    num_rows: 36000\n",
      "})\n"
     ]
    },
    {
     "name": "stderr",
     "output_type": "stream",
     "text": [
      "\n"
     ]
    }
   ],
   "execution_count": 115
  },
  {
   "cell_type": "code",
   "source": [
    "for i in range(10):\n",
    "    print(test_ds[i])"
   ],
   "metadata": {
    "collapsed": false,
    "pycharm": {
     "name": "#%%\n"
    },
    "ExecuteTime": {
     "end_time": "2025-04-16T17:29:55.621076Z",
     "start_time": "2025-04-16T17:29:55.570949Z"
    }
   },
   "outputs": [
    {
     "name": "stdout",
     "output_type": "stream",
     "text": [
      "{'sentence_bow': array([0., 0., 0., ..., 0., 0., 0.]), 'compressed_bow': array([0., 0., 0., ..., 0., 0., 0.]), 'sentence_embedding': array([ 2.63616323e-01,  6.44152164e-02, -1.04665756e-03, -1.73926666e-01,\n",
      "        3.14628661e-01,  2.90247440e-01, -2.19042331e-01,  8.18181187e-02,\n",
      "        4.04644012e-03, -6.52228892e-02,  1.35399133e-01,  2.16491781e-02,\n",
      "        5.27814478e-02,  1.64718881e-01, -2.32587203e-01, -3.06247920e-01,\n",
      "        9.47026685e-02,  2.41909906e-01, -2.82642454e-01,  9.97011140e-02,\n",
      "        3.26688975e-01,  2.71904439e-01,  2.40680218e-01, -9.09758881e-02,\n",
      "        4.80675511e-02,  4.01033312e-02,  2.95033336e-01, -6.35649979e-01,\n",
      "       -4.42456692e-01,  8.10833275e-02,  2.59136319e-01,  2.18711555e-01,\n",
      "       -4.18311097e-02, -2.27340773e-01,  2.81173229e-01,  3.01879138e-01,\n",
      "        1.15914993e-01, -1.16326183e-01,  3.02666961e-03, -1.93636656e-01,\n",
      "       -1.05018564e-01, -4.39916551e-01,  3.60127777e-01, -4.12097812e-01,\n",
      "        1.48881987e-01, -1.21988334e-01,  1.56009227e-01, -1.89439446e-01,\n",
      "        1.88611113e-02, -5.05093336e-01,  1.98507771e-01, -1.50483310e-01,\n",
      "       -2.11903125e-01,  1.06818545e+00, -2.39844490e-02, -1.46918464e+00,\n",
      "       -1.77291095e-01, -2.40332440e-01,  1.66417778e+00,  3.70031476e-01,\n",
      "       -3.08374524e-01,  3.65456671e-01,  6.44035637e-02,  8.01777765e-02,\n",
      "        4.73330706e-01,  1.17611140e-02,  7.86633253e-01,  1.53169557e-01,\n",
      "        2.37081900e-01, -1.90682352e-01, -1.75274432e-01, -1.32843435e-01,\n",
      "       -3.13141108e-01, -3.90584543e-02, -2.58988261e-01,  9.31830406e-02,\n",
      "        1.19574994e-01, -1.86623372e-02, -7.33847916e-01,  7.78706670e-02,\n",
      "        8.14933360e-01, -8.46879855e-02, -4.58778918e-01,  1.55974790e-01,\n",
      "       -1.05782104e+00, -5.50444424e-01, -1.94855019e-01, -1.08833656e-01,\n",
      "       -2.91255593e-01, -3.15944433e-01, -1.98481113e-01, -1.16537556e-01,\n",
      "       -9.09822285e-02, -3.31972122e-01, -2.85574198e-01,  2.07688636e-03,\n",
      "       -1.96862325e-01, -5.18357679e-02,  1.14445662e+00, -4.75077778e-02]), 'compressed_embedding': array([ 0.52005541, -0.27289861, -0.20994601, -0.09746881,  0.30500159,\n",
      "        0.1683774 ,  0.09190899,  0.074374  ,  0.130422  ,  0.0502316 ,\n",
      "       -0.02619898, -0.08542345, -0.00476801, -0.14256001, -0.210538  ,\n",
      "       -0.2672081 ,  0.37386841,  0.233126  , -0.1048864 ,  0.334894  ,\n",
      "        0.3353942 ,  0.18872002,  0.08694641, -0.25862318, -0.1243124 ,\n",
      "        0.009828  ,  0.25923282, -0.67464399, -0.51963621,  0.40224758,\n",
      "        0.20996201,  0.64650804, -0.077036  , -0.33398199,  0.1513118 ,\n",
      "        0.231832  ,  0.017256  , -0.10188916,  0.075106  , -0.26522398,\n",
      "       -0.03672741, -0.51780844,  0.35154739, -0.51796997,  0.1063868 ,\n",
      "       -0.22414961, -0.0309692 , -0.42448822,  0.06639561, -0.63140404,\n",
      "        0.21714202,  0.00732403, -0.10774161,  0.73635399, -0.09175   ,\n",
      "       -1.10367239, -0.38402   , -0.17371759,  1.86563993,  0.24004459,\n",
      "        0.03421979,  0.28977799,  0.0272784 , -0.01023999,  0.33792251,\n",
      "       -0.10067201,  0.86623204,  0.15402041,  0.49734896, -0.16707198,\n",
      "       -0.148178  , -0.19135758, -0.302818  ,  0.00667801, -0.45798403,\n",
      "        0.07263999,  0.10628401, -0.108458  , -0.97661602,  0.14982441,\n",
      "        0.86794204,  0.0320278 , -0.36547199,  0.12274359, -0.91618001,\n",
      "       -0.54741997, -0.00864401, -0.26217121, -0.46939382, -0.33924198,\n",
      "       -0.20938301, -0.179442  ,  0.02292   , -0.51457798, -0.26289803,\n",
      "        0.16060999, -0.0718746 ,  0.0089592 ,  1.18677402, -0.19667001])}\n",
      "{'sentence_bow': array([0., 0., 0., ..., 0., 0., 0.]), 'compressed_bow': array([0., 0., 0., ..., 0., 0., 0.]), 'sentence_embedding': array([ 7.56181926e-02,  5.00831842e-01,  2.33930454e-01,  5.05230911e-02,\n",
      "        7.22813606e-02, -4.92776692e-01, -1.76166117e-01,  8.56843591e-02,\n",
      "       -1.10511594e-01, -1.78696383e-02,  5.67842759e-02, -1.40185148e-01,\n",
      "        2.31805459e-01,  4.33758693e-03,  2.79726624e-01, -1.33517817e-01,\n",
      "       -1.73131272e-01, -5.24157733e-02, -9.04472694e-02,  2.41437107e-01,\n",
      "        4.30883616e-01, -9.03246328e-02,  3.46449822e-01,  5.29395044e-01,\n",
      "        8.26303586e-02, -1.44915178e-01,  3.49030942e-02, -3.70315462e-01,\n",
      "        6.15121834e-02, -4.66298200e-02,  1.01721905e-01,  1.90771997e-01,\n",
      "       -2.21989378e-01, -2.03662008e-01, -3.69090936e-04,  3.63605648e-01,\n",
      "        4.91380483e-01,  2.34023467e-01, -3.09821367e-01, -1.51048541e-01,\n",
      "       -3.27776164e-01, -4.09077823e-01,  1.63736358e-01,  2.01138347e-01,\n",
      "        3.25522870e-01, -2.24808559e-01,  1.57477990e-01, -4.20625657e-01,\n",
      "       -1.05832741e-01, -1.21938181e+00,  6.36335928e-03, -1.95544630e-01,\n",
      "        6.92781806e-02,  9.38696265e-01, -1.35798261e-01, -1.96839094e+00,\n",
      "       -3.18257451e-01, -3.73102635e-01,  1.85499084e+00,  2.88270205e-01,\n",
      "       -1.64628163e-01,  3.17750007e-01, -5.98895013e-01,  3.86473797e-02,\n",
      "        2.20594555e-01,  2.09820926e-01,  4.99452800e-02, -2.87127286e-01,\n",
      "        6.29532695e-01, -7.60881752e-02,  3.79135571e-02, -8.17814618e-02,\n",
      "       -1.43470272e-01,  4.75682728e-02,  1.14479987e-02, -4.54725288e-02,\n",
      "       -2.88241267e-01,  1.33712113e-01, -9.25000012e-01, -9.69981849e-02,\n",
      "        6.92978203e-01,  1.22550987e-01, -4.58384424e-01,  6.47418201e-02,\n",
      "       -9.80374575e-01, -5.08151054e-01,  8.68491828e-02, -1.16097085e-01,\n",
      "        1.70811832e-01, -2.90324360e-01, -2.37431806e-02,  7.01681897e-02,\n",
      "       -1.89301550e-01, -2.62723640e-02, -6.88464582e-01,  1.15497731e-01,\n",
      "       -1.58162713e-02, -9.33065414e-02,  6.07010007e-01, -2.09111825e-01]), 'compressed_embedding': array([ 1.33085415e-01,  6.70415759e-01,  4.01467830e-01,  3.15955691e-02,\n",
      "        2.08753571e-01, -6.38414264e-01, -3.36198568e-01,  1.62817270e-01,\n",
      "        9.15828422e-02, -5.26208542e-02,  8.50555748e-02, -1.77829713e-01,\n",
      "        8.18499997e-02,  1.41632572e-01,  2.77797103e-01, -9.98831466e-02,\n",
      "       -1.39259562e-01,  3.12112235e-02, -1.70642853e-01,  3.80935401e-01,\n",
      "        2.60194570e-01, -3.28901410e-02,  4.32915688e-01,  4.78685707e-01,\n",
      "        4.77378555e-02, -4.49141450e-02,  7.65305683e-02, -4.49794322e-01,\n",
      "        1.36895701e-01, -1.30531430e-01, -1.42534137e-01,  3.52698833e-01,\n",
      "       -2.53390729e-01, -2.59149998e-01, -6.11285828e-02,  3.67788136e-01,\n",
      "        7.16868579e-01,  1.89553291e-01, -3.42699856e-01,  1.51167130e-02,\n",
      "       -4.55442339e-01, -3.74417990e-01,  8.64428654e-02,  1.25405237e-01,\n",
      "        3.53687137e-01, -3.60855311e-01, -3.27602848e-02, -3.53799134e-01,\n",
      "       -2.74325699e-01, -1.11655152e+00, -9.01581496e-02, -2.05473706e-01,\n",
      "       -1.25515431e-01,  7.80841410e-01, -1.79379001e-01, -1.88069999e+00,\n",
      "       -3.67985725e-01, -3.02052826e-01,  1.72440720e+00,  1.36341721e-01,\n",
      "       -1.48429186e-03,  7.66921267e-02, -6.14932895e-01,  1.00442814e-02,\n",
      "        1.87634721e-01,  2.28432864e-01, -3.70145701e-02, -2.45642871e-01,\n",
      "        6.33174539e-01,  7.34380111e-02,  4.53400090e-02, -4.69657220e-02,\n",
      "       -1.71826571e-01,  6.64614290e-02,  1.49431854e-01, -4.14367020e-02,\n",
      "       -1.86076269e-01,  3.19557153e-02, -8.20959985e-01, -1.90156013e-01,\n",
      "        6.70094311e-01,  1.12791575e-01, -4.47081417e-01,  2.36695156e-01,\n",
      "       -7.68189967e-01, -6.20612979e-01,  1.04070149e-01, -1.52834281e-01,\n",
      "        3.31359863e-01, -1.23814002e-01,  5.16720042e-02,  1.06024280e-01,\n",
      "       -1.63277149e-01, -2.42067128e-01, -7.60128558e-01,  9.89378691e-02,\n",
      "       -7.23595694e-02, -5.70302829e-02,  7.10609972e-01, -1.84335709e-01])}\n",
      "{'sentence_bow': array([0., 0., 0., ..., 0., 0., 0.]), 'compressed_bow': array([1., 1., 0., ..., 0., 0., 0.]), 'sentence_embedding': array([ 1.07205011e-01,  1.61877006e-01,  1.84600398e-01, -2.19827011e-01,\n",
      "        5.56659922e-02,  1.79000676e-01, -9.64600965e-02,  7.15204030e-02,\n",
      "        1.98699674e-03,  6.46358952e-02, -5.55063002e-02, -6.15705028e-02,\n",
      "        2.61608690e-01, -8.21747631e-02, -2.76831035e-02, -2.73114026e-01,\n",
      "        2.84271598e-01, -2.25507811e-01, -5.83402991e-01,  4.24613088e-01,\n",
      "        5.65636046e-02, -2.34211143e-02,  2.48850733e-01, -1.73435211e-02,\n",
      "        3.07699945e-02, -1.03998985e-02, -2.49396086e-01, -4.62113231e-01,\n",
      "        2.78763711e-01,  1.76263720e-01, -4.61033992e-02,  6.34742975e-01,\n",
      "       -1.54068973e-02,  6.47275969e-02,  7.40741044e-02, -1.39197018e-02,\n",
      "        7.17860013e-02,  2.45782688e-01, -2.51967013e-01, -5.24256006e-02,\n",
      "       -6.32324100e-01, -1.43649038e-02,  4.36816067e-01, -3.22199821e-01,\n",
      "        4.48324978e-02,  4.44400404e-03, -5.11030070e-02, -2.95976341e-01,\n",
      "        2.36387610e-01, -5.32582045e-01, -1.66473493e-01, -4.06140000e-01,\n",
      "        2.17263699e-01,  9.68105018e-01, -8.80593956e-02, -2.01425982e+00,\n",
      "       -4.58256632e-01, -2.04108119e-01,  1.23145580e+00,  4.17356014e-01,\n",
      "        1.54543296e-01,  4.23793018e-01, -1.76019669e-01, -1.21974804e-01,\n",
      "        5.53632021e-01,  4.15438972e-02,  2.49928683e-01,  5.45873582e-01,\n",
      "        1.87948704e-01,  1.11452993e-02,  2.93848008e-01, -2.88875490e-01,\n",
      "       -5.32235563e-01, -3.71760577e-01, -5.50086126e-02,  2.52440214e-01,\n",
      "       -1.12467885e-01,  1.51301205e-01, -7.48457372e-01, -1.90261990e-01,\n",
      "        6.04227066e-01,  1.02970086e-01, -1.50972098e-01, -6.03991151e-02,\n",
      "       -1.16001999e+00, -4.54942226e-01, -5.66163957e-02,  1.64363518e-01,\n",
      "       -3.64089310e-01, -5.01878977e-01,  1.39197096e-01, -2.77670294e-01,\n",
      "        6.32639080e-02, -5.82720041e-02, -7.42123961e-01,  1.88586205e-01,\n",
      "       -3.04422498e-01, -1.06875397e-01,  2.62866408e-01, -8.58762041e-02]), 'compressed_embedding': array([-0.23026949,  0.26070374,  0.70089501, -0.6120075 , -0.18705176,\n",
      "        0.1506055 ,  0.14816749, -0.41961998,  0.0756825 , -0.09712999,\n",
      "       -0.2393375 , -0.15944812,  0.1235655 , -0.05560343, -0.02031   ,\n",
      "        0.0401909 ,  0.05039275,  0.00414249, -0.4088825 ,  0.76264   ,\n",
      "        0.249455  ,  0.2319575 ,  0.06090502, -0.38446701,  0.41900998,\n",
      "        0.32046801, -0.34103251, -0.766945  ,  0.0913175 , -0.34576148,\n",
      "        0.01587223,  0.59360647,  0.22521825,  0.02864001, -0.0775205 ,\n",
      "        0.269265  ,  0.0867075 ,  0.12841275,  0.1668175 , -0.44692701,\n",
      "       -0.314695  ,  0.21713623,  0.30001751, -0.16311625, -0.43111849,\n",
      "       -0.38131499,  0.15311   , -0.63537252, -0.26896   , -0.32073751,\n",
      "       -0.13195901, -0.16325501,  0.33542001,  0.8240425 , -0.4194755 ,\n",
      "       -1.56693506,  0.12396248,  0.32872498,  0.95248246,  0.4028275 ,\n",
      "        0.007736  ,  0.60389996, -0.19385125, -0.17684001,  0.68189502,\n",
      "       -0.1967525 ,  0.97466743,  0.46210551,  0.324395  ,  0.34897101,\n",
      "        0.40595752, -0.34621274, -0.14934251, -0.30438   ,  0.1172375 ,\n",
      "       -0.05794625,  0.05995078, -0.06620274, -0.4892475 , -0.33218402,\n",
      "        0.46348602, -0.156808  , -0.21099749,  0.1026025 , -0.78634501,\n",
      "       -0.44807425, -0.17511201, -0.094755  , -0.1315435 , -0.84589249,\n",
      "        0.26796702, -0.45856249,  0.15069425,  0.40724474, -0.1957175 ,\n",
      "        0.31782001,  0.0393075 , -0.3189525 , -0.2389715 ,  0.54526001])}\n",
      "{'sentence_bow': array([0., 0., 0., ..., 0., 0., 0.]), 'compressed_bow': array([0., 0., 0., ..., 0., 0., 0.]), 'sentence_embedding': array([ 2.43942559e-01,  8.28772336e-02,  2.48933867e-01, -1.68595344e-01,\n",
      "       -1.47312880e-01, -8.76233354e-02,  3.37395996e-01,  1.60760343e-01,\n",
      "       -4.06900086e-02, -1.61154512e-02, -1.43548548e-01,  4.73396629e-02,\n",
      "        7.10541010e-01, -1.59581050e-01,  2.16496781e-01, -5.43813920e-03,\n",
      "        1.63892999e-01, -1.00010887e-01, -5.16157806e-01,  5.28448820e-02,\n",
      "        2.65271038e-01, -3.79139185e-02,  1.59570903e-01,  2.72048861e-01,\n",
      "       -4.38069403e-01, -1.86648235e-01,  4.70740944e-01, -2.73884654e-01,\n",
      "       -1.15962349e-01,  2.31577873e-01,  1.99762657e-01,  3.33318084e-01,\n",
      "       -1.43506661e-01,  3.55856478e-01,  3.52292180e-01,  9.31036286e-03,\n",
      "        1.41565567e-02,  1.98302448e-01, -2.37715900e-01,  1.42912671e-01,\n",
      "       -6.47404909e-01, -1.35287583e-01,  1.61222681e-01, -4.09258872e-01,\n",
      "        5.07255852e-01, -2.91165616e-02,  2.15676688e-02, -5.61723113e-01,\n",
      "       -6.19708896e-02, -5.29097199e-01,  3.77893567e-01, -3.31227779e-01,\n",
      "        4.24131118e-02,  6.98042154e-01, -2.25811660e-01, -1.71488881e+00,\n",
      "       -4.28025573e-01, -8.91188905e-02,  1.25543106e+00,  5.25853336e-01,\n",
      "       -1.18313879e-01,  6.29750013e-01, -1.46044999e-01, -2.45227776e-02,\n",
      "        4.51034427e-01,  4.15132225e-01,  2.46284474e-02,  3.41623992e-01,\n",
      "        2.39529103e-01,  1.60141990e-01, -1.25972450e-01, -9.59334522e-02,\n",
      "       -1.22988090e-01, -1.29745454e-01,  2.68268347e-01,  1.56776771e-01,\n",
      "        1.19622219e-02, -1.17454447e-01, -1.15840769e+00, -1.65551126e-01,\n",
      "        6.33154690e-01, -1.38907224e-01, -4.81111795e-01, -1.24627322e-01,\n",
      "       -1.16660774e+00, -1.77350774e-01,  4.00494456e-01,  9.60169137e-02,\n",
      "       -4.56243366e-01,  1.46166980e-03,  4.58048917e-02, -1.07123017e-01,\n",
      "       -6.19039945e-02, -7.06533249e-03, -4.94948864e-01,  6.13624454e-01,\n",
      "       -3.86409998e-01, -3.27330768e-01,  1.53753445e-01, -2.37219989e-01]), 'compressed_embedding': array([ 0.08514199,  0.48819083,  0.53135598, -0.1173202 , -0.39052197,\n",
      "        0.016346  ,  0.19797799,  0.13887259, -0.262916  , -0.08802002,\n",
      "       -0.27018499, -0.126918  ,  0.41153178,  0.05770801,  0.38488799,\n",
      "        0.342186  ,  0.0920994 ,  0.0466124 , -0.155838  ,  0.32173401,\n",
      "        0.10822801,  0.01634235,  0.00832799,  0.2571044 , -0.17152718,\n",
      "        0.22256541,  0.49353281, -0.38479599, -0.24218941,  0.25229797,\n",
      "       -0.19821319,  0.366936  , -0.146424  ,  0.24578997,  0.44344369,\n",
      "       -0.16699001,  0.01083919,  0.014076  , -0.346708  , -0.05059999,\n",
      "       -0.72403401,  0.049882  , -0.08883979, -0.65031797,  0.48964757,\n",
      "        0.14958401,  0.01378119, -0.41545758, -0.30608758, -0.45722002,\n",
      "        0.415198  , -0.08088478, -0.0595564 ,  0.62197381, -0.2964856 ,\n",
      "       -1.7694    , -0.46421799,  0.007866  ,  1.06331003,  0.16875401,\n",
      "       -0.19675599,  0.65688801, -0.0437202 , -0.11914001,  0.58044606,\n",
      "        0.614236  ,  0.10354002,  0.0229472 ,  0.30912402,  0.18016079,\n",
      "       -0.14782819,  0.098588  , -0.1523252 , -0.06604379,  0.4430728 ,\n",
      "        0.19159119,  0.043934  , -0.21228799, -0.96385401, -0.55443203,\n",
      "        0.53643835, -0.253618  , -0.57858521, -0.14008141, -1.22356594,\n",
      "        0.06811859,  0.35189602, -0.01385055, -0.4752326 ,  0.08359881,\n",
      "       -0.1865418 ,  0.06167258,  0.31005818,  0.1319886 , -0.19403999,\n",
      "        0.65997499, -0.158508  , -0.5167442 ,  0.0238498 , -0.1416184 ])}\n",
      "{'sentence_bow': array([0., 0., 0., ..., 0., 0., 0.]), 'compressed_bow': array([0., 0., 0., ..., 0., 0., 0.]), 'sentence_embedding': array([-0.17210609, -0.27868539,  0.26396683, -0.46930268,  0.20178603,\n",
      "       -0.17361917, -0.03365518,  0.09658018, -0.12834892,  0.0822459 ,\n",
      "        0.17797817, -0.08287463,  0.34193298,  0.02117809, -0.24054109,\n",
      "       -0.28655455,  0.4920474 , -0.26295272, -0.63622183,  0.11838754,\n",
      "        0.08855163, -0.30722344,  0.00801673,  0.29296362, -0.22651416,\n",
      "       -0.40627006,  0.12010904, -0.32952544, -0.02656155,  0.25177273,\n",
      "        0.05232209,  0.38448828, -0.39665538, -0.13006271, -0.34154898,\n",
      "        0.35395548, -0.12047637,  0.25715637,  0.04286354, -0.13832365,\n",
      "       -0.55128914, -0.15458071, -0.02468817, -0.06132736,  0.06657536,\n",
      "        0.05172328, -0.07486532, -0.4690178 , -0.19337992, -0.57586902,\n",
      "        0.2479382 , -0.27475139,  0.02713727,  0.8093546 , -0.03719709,\n",
      "       -2.14417267, -0.29536271, -0.08900472,  1.62439382,  0.43088916,\n",
      "       -0.09600005,  0.2465813 , -0.24975619, -0.09660713,  0.65463215,\n",
      "       -0.26136819,  0.21850428,  0.68155646,  0.51817727,  0.3578991 ,\n",
      "        0.06631572, -0.11350965, -0.41957542, -0.50181681,  0.05736845,\n",
      "       -0.14740343, -0.07739236,  0.19470009, -1.05746174, -0.1201648 ,\n",
      "        0.90640181, -0.10145681, -0.08270509, -0.14189717, -1.06415093,\n",
      "       -0.50000304,  0.01589528, -0.04446728,  0.15468548, -0.47380418,\n",
      "        0.42234728, -0.12972838,  0.10704391, -0.01988646, -0.14101954,\n",
      "        0.42095453,  0.09556147, -0.23364638,  0.3585445 ,  0.18704353]), 'compressed_embedding': array([-0.12746002,  0.52354002,  0.47432998, -0.53518999, -0.26951998,\n",
      "        0.17611   , -0.27667999,  0.33764499, -0.18013999, -0.06854001,\n",
      "        0.371975  , -0.385115  ,  0.1177645 ,  0.189785  , -0.10557   ,\n",
      "       -0.36103499,  0.49842   ,  0.11536501, -0.69438505,  1.04100001,\n",
      "        0.13167401, -0.19047411, -0.21834499,  0.01039001,  0.09569   ,\n",
      "       -0.18145999, -0.26549798, -0.610165  ,  0.04389   , -0.44984001,\n",
      "       -0.60017002,  0.54462498, -0.39963502, -0.44549   , -0.27120501,\n",
      "        0.45403501,  0.01523   , -0.036725  ,  0.19121501, -0.159446  ,\n",
      "       -0.05517   , -0.137706  , -0.28707498, -0.51937997, -0.101522  ,\n",
      "       -0.16921701, -0.31599501, -0.23344001, -0.240485  , -0.54821998,\n",
      "       -0.13517   ,  0.076465  , -0.49136502,  1.02087998, -0.38156101,\n",
      "       -1.71815002,  0.0426105 ,  0.01566   ,  1.19280005, -0.03092501,\n",
      "       -0.510575  ,  0.2798    , -0.06367499, -0.29999402,  0.91339499,\n",
      "       -0.249245  ,  0.427935  ,  0.58542502,  0.19763499,  0.31777   ,\n",
      "        0.02941   , -0.13239999, -0.71920502, -0.384395  ,  0.3057    ,\n",
      "       -0.2499    ,  0.30265102,  0.25343502, -0.63247895, -0.66813999,\n",
      "        0.75699002, -0.45209002, -0.24935   , -0.53359503, -0.81924999,\n",
      "       -0.1351825 ,  0.03767   , -0.06202999, -0.1637565 , -0.22536799,\n",
      "        0.1194055 ,  0.16152149,  0.43171999, -0.50748003, -0.15806499,\n",
      "       -0.1596075 , -0.13328502, -0.13552999,  0.41207999, -0.171086  ])}\n",
      "{'sentence_bow': array([0., 0., 0., ..., 0., 0., 0.]), 'compressed_bow': array([0., 0., 0., ..., 0., 0., 0.]), 'sentence_embedding': array([-0.07252831,  0.446228  ,  0.20693493,  0.26849544, -0.01241581,\n",
      "       -0.26676351, -0.10529955,  0.185866  , -0.11509936, -0.044646  ,\n",
      "        0.03221349, -0.33181345,  0.07305317, -0.13108373,  0.30026877,\n",
      "       -0.36741814,  0.00986044, -0.03072125, -0.44447938,  0.30350703,\n",
      "        0.05227287,  0.16079706,  0.21614525,  0.33929542, -0.27906165,\n",
      "       -0.26791617,  0.31993765, -0.20859733, -0.14474069, -0.02233788,\n",
      "        0.04673844,  0.40896264, -0.08953914, -0.12823874, -0.09343451,\n",
      "        0.26433045,  0.1930133 ,  0.19316857, -0.4601067 ,  0.21534543,\n",
      "       -0.18970048, -0.4044221 , -0.01347731, -0.01156306,  0.02720675,\n",
      "       -0.21356322,  0.02924632, -0.26750782, -0.27955988, -0.64379412,\n",
      "       -0.04118376, -0.17425168, -0.15660244,  0.78659725, -0.0726883 ,\n",
      "       -1.52056682,  0.15804894, -0.45236686,  1.36329329,  0.39249232,\n",
      "       -0.054399  ,  0.23222004, -0.33570927, -0.36066884,  0.43345255,\n",
      "        0.30634919, -0.06434201,  0.00290681,  0.68044108, -0.05752832,\n",
      "        0.01259932, -0.0768181 , -0.09836476,  0.11573876,  0.09345963,\n",
      "        0.17434239, -0.22872944, -0.12584256, -0.57764995, -0.22303882,\n",
      "        0.46044061,  0.2161915 , -0.16788606, -0.06131431, -1.06649542,\n",
      "       -0.16203438, -0.09759595, -0.17103925, -0.12499952, -0.04392456,\n",
      "        0.07986621, -0.04387651,  0.06562507, -0.333354  , -0.64728391,\n",
      "        0.34562948, -0.07873125, -0.21143274,  0.55341005, -0.14764686]), 'compressed_embedding': array([-7.94735029e-02,  5.85273743e-01,  2.06749499e-01,  3.19246858e-01,\n",
      "       -1.35903722e-02, -2.37015203e-01, -4.38200012e-02,  3.84952754e-01,\n",
      "       -1.26174986e-02, -1.33689493e-01,  3.04152369e-01, -2.59187251e-01,\n",
      "       -5.53601161e-02,  1.35398135e-01,  4.98631239e-01, -5.71672559e-01,\n",
      "        1.66032374e-01, -5.63131198e-02, -5.86546302e-01,  4.45767522e-01,\n",
      "        2.19157517e-01,  1.40092507e-01,  3.51641744e-01,  4.48438764e-01,\n",
      "       -1.59220994e-01, -2.63867736e-01,  4.48433757e-01, -1.83282122e-01,\n",
      "       -1.19907558e-02, -5.99218756e-02, -5.30228689e-02,  4.93280381e-01,\n",
      "        5.99433742e-02, -4.95287478e-01, -1.48215011e-01,  3.92799616e-01,\n",
      "        3.42917502e-01,  3.33992511e-01, -3.59352589e-01,  3.24252218e-01,\n",
      "       -2.38108516e-01, -6.68063521e-01,  1.76541265e-02, -1.84372723e-01,\n",
      "        1.26313746e-01, -4.84349698e-01, -9.87887457e-02, -2.22480014e-01,\n",
      "       -3.82700622e-01, -6.25693738e-01, -3.14700007e-01, -2.11749971e-01,\n",
      "       -2.38068998e-01,  9.58708763e-01, -3.18039268e-01, -2.01982498e+00,\n",
      "       -3.39806229e-02, -6.26876175e-01,  1.68133748e+00,  5.32416999e-01,\n",
      "       -9.57664996e-02,  1.82919979e-01, -4.73703742e-01, -1.85807988e-01,\n",
      "        3.84383768e-01,  5.90169966e-01, -1.92901507e-01,  9.12420005e-02,\n",
      "        8.72895718e-01, -6.32474292e-03, -6.81680068e-02, -1.32865429e-01,\n",
      "       -1.78666756e-01,  1.04931615e-01,  1.38926625e-01,  3.28868814e-02,\n",
      "       -1.88974619e-01, -1.26190819e-02, -7.03159988e-01, -2.36302495e-01,\n",
      "        5.34377515e-01,  1.72364995e-01, -3.71212751e-01,  1.65240437e-01,\n",
      "       -9.46019590e-01, -1.09592505e-01,  1.42496079e-04, -3.35337520e-02,\n",
      "        8.81506130e-04, -3.37875076e-02,  3.65374982e-03, -2.38663722e-02,\n",
      "       -1.31088242e-01, -1.87033117e-01, -9.37726200e-01,  3.68930250e-01,\n",
      "       -1.20457485e-01, -2.09831253e-01,  6.78554952e-01, -3.98564249e-01])}\n",
      "{'sentence_bow': array([0., 0., 0., ..., 0., 0., 0.]), 'compressed_bow': array([0., 0., 0., ..., 0., 0., 0.]), 'sentence_embedding': array([ 0.34365097,  0.49007118,  0.38733846, -0.19641195, -0.1859152 ,\n",
      "       -0.23236617, -0.11965038,  0.19519001,  0.04718499,  0.0643637 ,\n",
      "        0.22839758,  0.27534553, -0.06605824, -0.0356389 ,  0.25448546,\n",
      "       -0.55024666,  0.01171282, -0.13339709, -0.18139608,  0.3691788 ,\n",
      "        0.64916819,  0.21198359,  0.32420358,  0.42927068,  0.02554942,\n",
      "       -0.66693747,  0.04204206, -0.35045913, -0.0140491 , -0.29499987,\n",
      "        0.35474008,  0.04314378, -0.08974753, -0.0620263 , -0.13546053,\n",
      "        0.28495809,  0.28196457,  0.19328181, -0.18650493,  0.09315506,\n",
      "       -0.37940857, -0.46577585,  0.16071653, -0.12467903,  0.08749589,\n",
      "        0.00451364,  0.14807531, -0.2900624 , -0.02961382, -1.01695359,\n",
      "       -0.2482748 , -0.32864085,  0.01029441,  1.10146809, -0.15176252,\n",
      "       -1.8693924 , -0.09347059, -0.27743495,  1.55636311,  0.67715472,\n",
      "        0.09981499,  0.16213261, -0.41854694, -0.03548006,  0.17113809,\n",
      "        0.27049688,  0.24162497,  0.26872945,  0.67876261, -0.05253112,\n",
      "       -0.18396647,  0.01803329, -0.49049309,  0.03538347, -0.01539753,\n",
      "        0.13896701, -0.24250953,  0.25093344, -0.96332359, -0.05494259,\n",
      "        0.65740603,  0.15569286, -0.38622355,  0.09636995, -1.06541991,\n",
      "       -0.49544311,  0.12611599,  0.02314694, -0.18560471, -0.07987183,\n",
      "        0.0430047 , -0.05457924, -0.17509718, -0.01329481, -0.9508577 ,\n",
      "        0.13107549, -0.091886  , -0.04348019,  0.50619352, -0.27595499]), 'compressed_embedding': array([ 0.41843301,  0.94090492,  0.56796503,  0.0911725 , -0.14300574,\n",
      "       -0.68971753, -0.4020375 ,  0.03907   ,  0.19645375,  0.19277249,\n",
      "        0.14041749,  0.34413999, -0.59011447,  0.0121425 ,  0.99755007,\n",
      "       -0.3585625 , -0.49064973, -0.15275475, -0.06856975,  0.27577251,\n",
      "        0.61688501,  0.27702749, -0.016753  ,  0.94609749,  0.02702325,\n",
      "       -1.00586295,  0.18026724, -0.26418251, -0.35829502, -0.7912575 ,\n",
      "        0.31285501, -0.01210922,  0.27561399, -0.21111125, -0.17178027,\n",
      "        0.53775501,  0.72750497, -0.27723503, -0.07465913,  0.20198599,\n",
      "       -0.22817501, -0.19578975, -0.25949627,  0.24769306,  0.22263977,\n",
      "       -0.01142399,  0.09954824, -0.39589751, -0.06012675, -1.26822996,\n",
      "       -0.13123649, -0.60966253,  0.127066  ,  0.99930501, -0.29437798,\n",
      "       -1.22621691,  0.08291251, -0.43079752,  1.21176243,  0.32075751,\n",
      "        0.419     , -0.52366424, -0.50325501, -0.26148   , -0.33366001,\n",
      "        0.9012    ,  0.16990501, -0.592825  ,  1.18311501, -0.10900875,\n",
      "       -0.13563   ,  0.121286  , -0.62561524,  0.52758253,  0.39326251,\n",
      "        0.0414615 , -0.26455301,  0.34464476, -0.31993249, -0.47920749,\n",
      "        0.448008  ,  0.52351749, -0.36761749,  0.02819   , -0.36856499,\n",
      "       -1.1488775 ,  0.39125443, -0.13844225,  0.39370999,  0.1584025 ,\n",
      "        0.211715  ,  0.158013  , -0.33036271, -0.1619125 , -0.78498501,\n",
      "        0.13606249,  0.07185251, -0.1397    ,  0.64974499, -0.71999753])}\n",
      "{'sentence_bow': array([0., 0., 0., ..., 0., 0., 0.]), 'compressed_bow': array([0., 0., 0., ..., 0., 0., 0.]), 'sentence_embedding': array([ 0.04395064,  0.11460961,  0.29703301, -0.00391774,  0.10466735,\n",
      "       -0.47409114,  0.00445656,  0.15392986,  0.13016631,  0.13428828,\n",
      "        0.05037967,  0.0356657 ,  0.1012964 , -0.25981539, -0.11184964,\n",
      "       -0.16405781,  0.13212515, -0.06083668, -0.09581105,  0.16882877,\n",
      "        0.47092351,  0.00437852,  0.04678975,  0.42460132, -0.03425213,\n",
      "       -0.29249835,  0.01989496, -0.19505602, -0.04100195, -0.11068908,\n",
      "       -0.0119127 ,  0.34022334, -0.1354406 , -0.1252936 , -0.02746165,\n",
      "        0.37222439,  0.30847454,  0.03063126, -0.10782244,  0.0711436 ,\n",
      "       -0.02311387, -0.37039205,  0.10266364,  0.07490474,  0.01118257,\n",
      "       -0.03047322,  0.21479353, -0.3233833 , -0.06239566, -0.86474222,\n",
      "       -0.1274852 , -0.12201392, -0.16393425,  0.65794027, -0.13360517,\n",
      "       -1.82263219, -0.44765523, -0.24836656,  1.61167729,  0.28614122,\n",
      "       -0.06463653,  0.19605848, -0.15248571,  0.27252588,  0.36386511,\n",
      "        0.07199818,  0.10872232,  0.10404243,  0.36374909, -0.12193675,\n",
      "        0.14761396, -0.12216934, -0.38527244, -0.19219437,  0.05669725,\n",
      "        0.08307078, -0.04384527,  0.00595391, -0.94829959, -0.13384451,\n",
      "        0.67662174,  0.09474657, -0.31735596,  0.20082246, -0.84348553,\n",
      "       -0.32419464,  0.00604415, -0.09274913, -0.06070174, -0.21035893,\n",
      "        0.15741716,  0.1371856 , -0.13813861, -0.2476785 , -0.60757864,\n",
      "        0.12661684,  0.07097387, -0.1099968 ,  0.83777213, -0.00846053]), 'compressed_embedding': array([ 0.146291  , -0.22679999, -0.22505499,  0.49728501,  0.30098999,\n",
      "       -0.62888503, -0.067265  ,  0.3851555 ,  0.61368001,  0.57175499,\n",
      "       -0.47454199, -0.10768   ,  0.22013751, -0.50126004, -0.212926  ,\n",
      "       -0.14680001,  0.42232999,  0.38652998, -0.12138002,  0.28089499,\n",
      "        0.32182902,  0.36485499, -0.1122295 ,  0.22005901, -0.0518895 ,\n",
      "       -0.1822335 ,  0.1081855 , -0.43889499,  0.034262  ,  0.17825873,\n",
      "       -0.12114501,  0.787705  ,  0.1113445 , -0.09515499, -0.156754  ,\n",
      "        0.76696002,  0.30279398, -0.69442499,  0.00799501,  0.086325  ,\n",
      "        0.73408496, -0.52921003, -0.16760001,  0.0753055 , -0.41532248,\n",
      "        0.47999001,  0.22455201,  0.10302451,  0.32227999, -0.66109502,\n",
      "       -0.428895  ,  0.126615  , -0.449525  ,  0.35590002,  0.236285  ,\n",
      "       -0.8133235 , -0.38494   , -0.41284499,  1.39824998,  0.08995225,\n",
      "        0.09374999,  0.04483205,  0.25892001,  0.40417498,  0.34634998,\n",
      "       -0.05582   ,  0.1112    ,  0.30363056,  0.38006002,  0.181256  ,\n",
      "        0.62581497, -0.254857  , -0.233005  , -1.04907   ,  0.036768  ,\n",
      "       -0.24830499,  0.18794999, -0.209638  , -0.64508998,  0.1203285 ,\n",
      "        0.35516   ,  0.1212105 , -0.03824   ,  0.216675  , -0.25577   ,\n",
      "        0.02846   ,  0.18021001, -0.152815  , -0.47218001,  0.097815  ,\n",
      "        0.28122652,  0.1398415 ,  0.34114   , -0.82399005, -0.24255499,\n",
      "        0.071115  ,  0.21988499,  0.244372  ,  1.07969999,  0.30413851])}\n",
      "{'sentence_bow': array([0., 0., 0., ..., 0., 0., 0.]), 'compressed_bow': array([0., 0., 0., ..., 0., 0., 0.]), 'sentence_embedding': array([-0.22430563, -0.02510554,  0.39518252, -0.16638204, -0.25748172,\n",
      "        0.22413388,  0.10951427,  0.46318665, -0.58998543, -0.18804426,\n",
      "        0.01621655, -0.24716455,  0.21020383,  0.06898721, -0.06093918,\n",
      "       -0.12876129,  0.18884225,  0.16462217, -0.47697419,  0.03570727,\n",
      "        0.13990301, -0.15052091,  0.20618701,  0.20379944,  0.03783527,\n",
      "       -0.22420126,  0.06449468, -0.128262  ,  0.28104454,  0.03731   ,\n",
      "       -0.25913084,  0.22224088,  0.03354273, -0.00351963,  0.10548976,\n",
      "       -0.07858363, -0.13544056,  0.26765767, -0.33574909, -0.11087155,\n",
      "       -0.33827826, -0.27631974,  0.25494337, -0.47525832,  0.13502727,\n",
      "       -0.15223466,  0.29793027, -0.31031546, -0.11619199, -0.81219083,\n",
      "       -0.04035246, -0.19925617,  0.06664224,  0.9135921 ,  0.0648438 ,\n",
      "       -2.29150915, -0.09342919, -0.24960309,  1.33320916,  0.66977906,\n",
      "       -0.61085087,  0.41010427, -0.20678264,  0.11547918,  0.52704793,\n",
      "       -0.03201382,  0.07761273,  0.53561479, -0.00257382,  0.05066728,\n",
      "       -0.12325037, -0.21142457, -0.1913816 , -0.47078669,  0.23376827,\n",
      "        0.06562364, -0.13055056,  0.05067345, -0.76844633,  0.13306054,\n",
      "        0.62169093,  0.0762991 , -0.4638162 , -0.068525  , -1.12952435,\n",
      "       -0.26233739, -0.18789244,  0.17066564,  0.0719931 , -0.12213695,\n",
      "       -0.23830418, -0.12178636, -0.30686653,  0.45652637, -0.38965836,\n",
      "        0.15503384, -0.13985246,  0.11318001,  0.62719631, -0.01853365]), 'compressed_embedding': array([-2.16615796e-01, -2.31323410e-02,  2.97548652e-01, -1.40148059e-01,\n",
      "       -1.41029894e-01,  1.63199216e-01,  3.37418839e-02,  3.70641440e-01,\n",
      "       -5.17388880e-01, -1.41099989e-01, -4.90931086e-02, -2.59229988e-01,\n",
      "        3.35229069e-01,  1.09675467e-01, -1.22907214e-01, -1.40708238e-01,\n",
      "        2.13398993e-01,  1.08998217e-01, -5.28278887e-01,  6.81999326e-03,\n",
      "        1.05842777e-01, -1.21387787e-01,  2.64848590e-01,  1.90220430e-01,\n",
      "       -1.50024667e-01, -3.14398199e-01, -3.06187440e-02, -1.99689329e-01,\n",
      "        2.10854456e-01,  6.86688945e-02, -1.58429921e-01,  1.80238843e-01,\n",
      "       -8.03667307e-03,  1.26571106e-02,  4.25974801e-02, -3.54833342e-02,\n",
      "       -2.55108695e-04,  3.11361641e-01, -2.59533316e-01, -2.30541136e-02,\n",
      "       -4.71575409e-01, -2.94879675e-01,  2.78909683e-01, -5.27592421e-01,\n",
      "        1.89176664e-01, -1.31345257e-01,  3.64594787e-01, -2.88470000e-01,\n",
      "       -1.76771104e-01, -7.47177839e-01,  2.36442516e-04, -2.25409776e-01,\n",
      "        2.79605184e-02,  9.69629288e-01,  4.99835424e-02, -2.29434443e+00,\n",
      "       -4.21578921e-02, -3.37458014e-01,  1.47635341e+00,  6.65306628e-01,\n",
      "       -5.31149983e-01,  3.67314458e-01, -7.62454420e-02,  1.98388994e-01,\n",
      "        6.09200180e-01, -2.04122234e-02,  8.79011080e-02,  5.38718104e-01,\n",
      "        1.15187563e-01,  1.02948897e-01, -1.66671544e-01, -2.10491106e-01,\n",
      "       -2.91787744e-01, -5.47157526e-01,  1.39285669e-01,  7.14999856e-03,\n",
      "       -1.11095138e-01,  1.23110875e-01, -9.10741091e-01,  7.59028867e-02,\n",
      "        7.00065553e-01,  1.72901094e-01, -4.81190890e-01, -1.52316689e-02,\n",
      "       -1.15924323e+00, -2.13432342e-01, -3.52663286e-02,  7.02824444e-02,\n",
      "        1.72851548e-01, -1.88662946e-01, -2.54374027e-01, -1.69750005e-01,\n",
      "       -4.03985560e-01,  4.15103316e-01, -4.21189100e-01,  1.76576480e-01,\n",
      "       -2.33312234e-01, -4.39981610e-04,  6.70223296e-01, -1.28603339e-01])}\n",
      "{'sentence_bow': array([1., 0., 0., ..., 0., 0., 0.]), 'compressed_bow': array([1., 0., 0., ..., 0., 0., 0.]), 'sentence_embedding': array([ 0.23432258, -0.05949235,  0.06829844, -0.23282079,  0.09380628,\n",
      "        0.27937314, -0.47779557,  0.10293109, -0.06479557, -0.26105398,\n",
      "       -0.13756357, -0.31660798, -0.12032216, -0.04332823, -0.00626443,\n",
      "       -0.05755686,  0.32232285,  0.20561899, -0.43799463,  0.11967257,\n",
      "        0.32810593, -0.03594095,  0.31548163,  0.02604301,  0.01843986,\n",
      "       -0.08202571, -0.09653912, -0.6030854 , -0.43645546, -0.13505329,\n",
      "        0.34628996,  0.40715647,  0.13694812, -0.02813358, -0.02725215,\n",
      "       -0.02621372,  0.1124417 , -0.09863637, -0.34869379,  0.18804815,\n",
      "       -0.26408634, -0.21177498,  0.07288561, -0.00796233, -0.27890885,\n",
      "       -0.28160787, -0.05182436, -0.24823821, -0.28883308, -0.5563336 ,\n",
      "        0.03521242,  0.01092207, -0.06253064,  0.65338898, -0.28373399,\n",
      "       -1.30105209,  0.25624856, -0.0730703 ,  1.33271754,  0.34801826,\n",
      "       -0.27753982,  0.09764238, -0.00868933, -0.0770005 ,  0.68927401,\n",
      "        0.105987  ,  0.1610305 ,  0.41186357,  0.298765  , -0.18265678,\n",
      "        0.12253536, -0.33739322, -0.23176743, -0.0155815 ,  0.02103929,\n",
      "       -0.08213242, -0.15668564, -0.07044337, -0.83074147, -0.28495413,\n",
      "        0.332158  , -0.54915798,  0.18823287,  0.00284914, -1.09243011,\n",
      "       -0.03292264,  0.088485  , -0.16444494,  0.05093769, -0.16677502,\n",
      "        0.08972878, -0.49805215, -0.28480127,  0.21466349, -0.192112  ,\n",
      "        0.25624809, -0.14627694, -0.11521321,  0.44096687, -0.18256047]), 'compressed_embedding': array([ 2.96371639e-01,  3.28570120e-02,  9.67616364e-02, -3.42468292e-01,\n",
      "        6.37379959e-02,  2.62553990e-01, -4.43932533e-01,  1.84804574e-02,\n",
      "       -2.14909807e-01, -3.56509566e-01, -1.69657290e-01, -3.46727490e-01,\n",
      "       -2.05735460e-01, -3.86131965e-02,  1.90090318e-03,  1.05303572e-02,\n",
      "        3.36713612e-01,  2.80830532e-01, -4.76853102e-01,  1.21987820e-01,\n",
      "        3.11683834e-01, -1.32405013e-01,  4.13503647e-01, -9.66370776e-02,\n",
      "        2.49885276e-01,  4.45527285e-02, -2.23587990e-01, -7.16175020e-01,\n",
      "       -3.71438771e-01, -1.52946010e-01,  3.61695468e-01,  5.52940309e-01,\n",
      "        1.16357610e-01,  1.57790948e-02, -2.65972782e-02,  2.61570867e-02,\n",
      "       -3.42016196e-04, -2.37071887e-02, -2.84111202e-01,  1.50457278e-01,\n",
      "       -2.63721704e-01, -2.70587265e-01,  1.18215322e-01, -1.59284547e-02,\n",
      "       -3.06301296e-01, -3.97095472e-01, -8.17327499e-02, -1.64710432e-01,\n",
      "       -2.85908729e-01, -6.59078181e-01,  7.25649074e-02, -1.71553660e-02,\n",
      "       -3.42099257e-02,  6.84456646e-01, -2.17757791e-01, -1.44318354e+00,\n",
      "        2.14241803e-01, -5.15507348e-02,  1.48748553e+00,  3.08085442e-01,\n",
      "       -2.36126170e-01,  4.79235537e-02,  2.43109092e-02, -1.08322717e-01,\n",
      "        7.77252734e-01,  5.64889051e-02,  2.69937009e-01,  4.73149210e-01,\n",
      "        2.54393637e-01, -1.90599531e-01,  1.94449529e-01, -3.59752029e-01,\n",
      "       -2.26518571e-01, -1.86327323e-02, -3.14545408e-02, -9.09559205e-02,\n",
      "       -1.74329907e-01, -9.82479155e-02, -7.83730924e-01, -2.83440739e-01,\n",
      "        3.34761083e-01, -6.65571153e-01,  3.32942694e-01, -4.31209058e-02,\n",
      "       -1.19763100e+00, -1.74063712e-03,  7.84636289e-02, -1.30795375e-01,\n",
      "        7.60570765e-02, -1.78042278e-01,  1.42057240e-02, -5.60929060e-01,\n",
      "       -1.80567086e-01,  2.99890399e-01, -5.08214459e-02,  2.53736675e-01,\n",
      "       -1.70466095e-01, -1.08188629e-01,  4.46580589e-01, -6.58179075e-02])}\n"
     ]
    }
   ],
   "execution_count": 116
  },
  {
   "cell_type": "markdown",
   "source": [
    "Here you can see that the new dataset returned a single numpy array containing all sentence embeddings in our dataset. This is a lot more efficient than returning a list of arrays (which is the default behaviour). Below we check the type and the dimensionality.\n",
    "\n",
    "We will be using `text` subset from our dataset to not use too much RAM."
   ],
   "metadata": {
    "collapsed": false,
    "pycharm": {
     "name": "#%% md\n"
    }
   }
  },
  {
   "cell_type": "code",
   "source": [
    "sent_embedding = test_ds['sentence_embedding']\n",
    "compr_embedding = test_ds['compressed_embedding']\n",
    "print(type(sent_embedding))\n",
    "print(sent_embedding.shape)\n",
    "print(type(compr_embedding))\n",
    "print(compr_embedding.shape)"
   ],
   "metadata": {
    "collapsed": false,
    "pycharm": {
     "name": "#%%\n"
    },
    "ExecuteTime": {
     "end_time": "2025-04-16T17:30:12.047366Z",
     "start_time": "2025-04-16T17:30:11.293325Z"
    }
   },
   "outputs": [
    {
     "name": "stdout",
     "output_type": "stream",
     "text": [
      "<class 'numpy.ndarray'>\n",
      "(36000,)\n",
      "<class 'numpy.ndarray'>\n",
      "(36000,)\n"
     ]
    }
   ],
   "execution_count": 117
  },
  {
   "cell_type": "markdown",
   "source": "Next we try the condensed representation based on a simple query. Feel free to try different queries with different words. What happens if we have OOV words in a query?",
   "metadata": {
    "collapsed": false,
    "pycharm": {
     "name": "#%% md\n"
    }
   }
  },
  {
   "cell_type": "code",
   "source": [
    "query = 'fox and deer'\n",
    "print(query)\n",
    "\n",
    "query_embedding = embed_text(query, clean, tokenize, lambda x: embed_sentence_word_model(x, glove_model))\n",
    "print(query_embedding.shape)\n",
    "print(query_embedding)"
   ],
   "metadata": {
    "collapsed": false,
    "pycharm": {
     "name": "#%%\n"
    },
    "ExecuteTime": {
     "end_time": "2025-04-16T17:30:59.935211Z",
     "start_time": "2025-04-16T17:30:59.925105Z"
    }
   },
   "outputs": [
    {
     "name": "stdout",
     "output_type": "stream",
     "text": [
      "fox and deer\n",
      "(100,)\n",
      "[-0.083385   -0.63719     0.254075   -0.65408504 -0.12458149 -0.57695\n",
      "  0.1151895   0.47937998 -0.05304    -1.16922    -0.479265   -0.117604\n",
      "  0.67665505 -0.2181845   0.86132     0.46395     0.149115    0.352275\n",
      " -0.00642499  0.42123    -0.108593    0.51331     0.1666895  -0.19212\n",
      "  0.552625    0.777605   -0.17123    -0.00441501 -0.62225     0.180445\n",
      "  0.263865    0.50187397  0.22722     0.504755    0.49651998  0.29571\n",
      " -0.273479    0.186705    0.66161     0.42644    -0.10568     0.00512\n",
      " -0.715195    0.4271345  -0.19899699  0.007035    0.217155   -0.270865\n",
      " -0.20389499 -0.205845   -0.847275   -0.370445    0.102978    0.56117\n",
      " -0.4170775  -1.50664    -0.1817145   0.170645    0.528605    0.030635\n",
      "  0.0378895   0.82403004  0.55395997 -0.18147999  1.257       0.539876\n",
      "  0.069414   -0.21291    -0.002545    1.04205    -0.26154    -0.20421065\n",
      " -0.1738185  -0.096082   -0.14954099 -0.209345   -0.749255    0.131181\n",
      " -0.7742      0.45635498  0.2506     -0.2636805  -0.01942    -0.479955\n",
      " -0.233609    0.10405    -0.441785    0.35395798  0.71454     0.4964\n",
      " -0.123225   -1.070775    0.348805   -0.19064    -1.2590001  -0.74045503\n",
      " -0.618595   -0.032615    0.564905   -0.28883   ]\n"
     ]
    }
   ],
   "execution_count": 120
  },
  {
   "cell_type": "markdown",
   "source": [
    "<a name='e13'></a>\n",
    "### Exercise 13: Analyze sentence embeddings\n",
    "- (5p) Calculate similarity between the word embeddings representations of the selected queries and the dataset sentences.\n",
    "- (5p) Analyze the search results. Does the search work as expected? Discuss the results.\n",
    "- (5p) Compare the results with the ones you got with the bag-of-words and TF-IDF representation. Discuss the differences and similarities."
   ],
   "metadata": {
    "collapsed": false,
    "pycharm": {
     "name": "#%% md\n"
    }
   }
  },
  {
   "cell_type": "code",
   "execution_count": null,
   "outputs": [],
   "source": [
    "### YOUR CODE HERE\n",
    "\n",
    "\n",
    "\n",
    "\n",
    "### YOUR CODE ENDS HERE"
   ],
   "metadata": {
    "collapsed": false,
    "pycharm": {
     "name": "#%%\n"
    }
   }
  },
  {
   "cell_type": "markdown",
   "metadata": {
    "id": "ZY2jouFmeHOg",
    "pycharm": {
     "name": "#%% md\n"
    }
   },
   "source": [
    "## 6. Evaluating Retrieval\n",
    "\n",
    "In this last section we will try to evaluate how good our sentence retrieval system is. To keep the computational resources manageable, we will use the test set for that as its size is more manageable.\n",
    "\n",
    "Recall from the lecture in IR that there are several metrics to evaluate retrieval performance by taking into account the relevance of the retrieved results to the query. We will use Recall@K here (for more metrics and more details refer to the lecture slides and the textbooks).\n",
    "\n",
    "RRecall@K is a metric used to measure the effectiveness of a search system in retrieving relevant documents within the top $K$ retrieved documents. It calculates the proportion of relevant documents retrieved within the top-$K$ results, compared to the total number of relevant documents in the collection.\n",
    "\n",
    "$\n",
    "\\text{Recall@K} = \\frac{\\text{Number of relevant documents retrieved in the top }-K}{\\text{Total number of relevant documents}}\n",
    "$\n",
    "\n",
    "In our case, we have a sentence, and it's compressed version. To test our system, we will treat compressed sentences as the queries. Each query will have only a single relevant sentence - the corresponding uncompressed sentence.\n",
    "\n",
    "Therefore, for the calculation of Recall@K we will take into account whether the correct retrieved result is contained within the first $K$ retrieved results. For example, if for a query (i.e. a compressed sentence) we retrieve 10 results and within these we see the relevant one (i.e. the full sentence), then Recall@10 = 1."
   ]
  },
  {
   "cell_type": "markdown",
   "metadata": {
    "id": "QUKPtG-uem9f",
    "pycharm": {
     "name": "#%% md\n"
    }
   },
   "source": [
    "<a name='e14'></a>\n",
    "### Exercise 14: Cosine similarity between two sets of vectors\n",
    "\n",
    "(3p) In this exercise you will revisit your implementation of the cosine similarity. Generalize it so that it can accept two arrays containing two sets of vectors (first one containing $M$ vectors and the second one $N$ vectors). Compute the cosine similarity between each pair of vectors coming from the two sets. The result should be an array of size $M x N$.\n",
    "\n",
    "Once again, try to write an efficient code. This means no loops. Remember the relation between matrix multiplication and dot product. (Depending on your implementation of the previous function calculating cosine similarity, this one can be almost the same)"
   ]
  },
  {
   "cell_type": "code",
   "execution_count": null,
   "metadata": {
    "id": "xKiHDrN9eld7",
    "pycharm": {
     "name": "#%%\n"
    }
   },
   "outputs": [],
   "source": [
    "def cosine_similarity_m_to_n(vectors, other_vectors):\n",
    "    \"\"\"\n",
    "    Calculates the cosine similarity between a multiple vectors and other vectors.\n",
    "    Args:\n",
    "        vectors: a numpy array representing M number of vectors of D dimensions (of the size MxD)\n",
    "        other_vectors: a 2D numpy array representing other vectors (of the size NxD, where N is the number of vectors and D is their dimension)\n",
    "\n",
    "    Returns: a numpy array of cosine similarity between all the vectors and all the other vectors\n",
    "\n",
    "    \"\"\"\n",
    "\n",
    "    #### YOUR CODE HERE\n",
    "\n",
    "\n",
    "\n",
    "\n",
    "    ### YOUR CODE ENDS HERE"
   ]
  },
  {
   "cell_type": "markdown",
   "metadata": {
    "id": "qQ-Yhl1Sgoka",
    "pycharm": {
     "name": "#%% md\n"
    }
   },
   "source": [
    "The following function will use your implementation to calculate Recall@K based on the similarity matrix."
   ]
  },
  {
   "cell_type": "code",
   "execution_count": null,
   "metadata": {
    "id": "z0sLS3uRCfdh",
    "pycharm": {
     "name": "#%%\n"
    }
   },
   "outputs": [],
   "source": [
    "def calculate_recall(queries, sentences, k, batch_size=1000):\n",
    "    \"\"\"\n",
    "    Calculates recall@k given the embeddings of the queries and sentences.\n",
    "    Assumes that only a single sentence with the same index as query is relevant.\n",
    "    Batching is implemented to avoid high memory usage.\n",
    "    Args:\n",
    "        queries: a numpy array with the embeddings of N queries\n",
    "        sentences: a numpy array with the embeddings of N sentences available for retrieval\n",
    "        k: number of top results to search for the relevant sentence\n",
    "        batch_size: number of queries to process at a time\n",
    "\n",
    "    Returns: calculated recall@k\n",
    "\n",
    "    \"\"\"\n",
    "    n_queries = queries.shape[0]\n",
    "    correct = np.zeros(n_queries, dtype=bool)\n",
    "\n",
    "    with tqdm.tqdm(total=n_queries) as pbar:\n",
    "        for batch_start in range(0, n_queries, batch_size):\n",
    "            batch_end = min(batch_start + batch_size, n_queries)\n",
    "            queries_batch = queries[batch_start:batch_end]\n",
    "            batch_similarity = cosine_similarity_m_to_n(queries_batch, sentences)\n",
    "\n",
    "            for i, similarity_row in enumerate(batch_similarity):\n",
    "                query_index = batch_start + i\n",
    "                top_k = top_k_indices(similarity_row, k=k, sorted=False)\n",
    "\n",
    "                if query_index in top_k:\n",
    "                    correct[query_index] = True\n",
    "\n",
    "                pbar.update(1)\n",
    "\n",
    "    recall = np.sum(correct) / n_queries\n",
    "    return recall"
   ]
  },
  {
   "cell_type": "markdown",
   "metadata": {
    "id": "3QgAgMiDgw8m",
    "pycharm": {
     "name": "#%% md\n"
    }
   },
   "source": [
    "You can use it like so:"
   ]
  },
  {
   "cell_type": "code",
   "execution_count": null,
   "metadata": {
    "id": "Yxpex7ZxHM7c",
    "pycharm": {
     "name": "#%%\n"
    }
   },
   "outputs": [],
   "source": [
    "recall_at_1 = calculate_recall(compr_embedding, sent_embedding, k=1, batch_size=1000)\n",
    "print(f'\\n{recall_at_1 * 100:.2f}%')"
   ]
  },
  {
   "cell_type": "markdown",
   "metadata": {
    "id": "zY5ZVq5ogzMI",
    "pycharm": {
     "name": "#%% md\n"
    }
   },
   "source": [
    "<a name='e15'></a>\n",
    "### Exercise 15: Evaluating retrieval methods\n",
    "\n",
    "(10p) Calculate recall for different values of $K$ for all methods:\n",
    "- BOW,\n",
    "- TF-IDF,\n",
    "- Pre-trained embeddings.\n",
    "\n",
    "Discuss the results.\n",
    "Comment on how recall changes based on the value of $K$. Are the results expected or surprising?"
   ]
  },
  {
   "cell_type": "code",
   "execution_count": null,
   "outputs": [],
   "source": [
    "#### YOUR CODE HERE\n",
    "\n",
    "\n",
    "\n",
    "### YOUR CODE ENDS HERE"
   ],
   "metadata": {
    "collapsed": false,
    "pycharm": {
     "name": "#%%\n"
    }
   }
  },
  {
   "cell_type": "markdown",
   "source": [
    "<a name='e16'></a>\n",
    "### Exercise 16: Improving retrieval\n",
    "\n",
    "(10p) Imagine that you work at a company and are tasked with delivering the best retrieval method. Select the most promising one and try to improve the scores (e.g. by changing the vocab size, loading different model, etc.).\n",
    "Discuss the results you achieve, even if you didn't manage to improve the scores."
   ],
   "metadata": {
    "collapsed": false,
    "pycharm": {
     "name": "#%% md\n"
    }
   }
  },
  {
   "cell_type": "code",
   "execution_count": null,
   "metadata": {
    "id": "YA9bEm5ehMq8",
    "pycharm": {
     "name": "#%%\n"
    }
   },
   "outputs": [],
   "source": [
    "#### YOUR CODE HERE\n",
    "\n",
    "\n",
    "\n",
    "### YOUR CODE ENDS HERE"
   ]
  },
  {
   "cell_type": "markdown",
   "source": [
    "// your comments"
   ],
   "metadata": {
    "collapsed": false,
    "pycharm": {
     "name": "#%% md\n"
    }
   }
  }
 ],
 "metadata": {
  "colab": {
   "toc_visible": true,
   "provenance": []
  },
  "kernelspec": {
   "display_name": "Python (nlp-labs)",
   "language": "python",
   "name": "nlp-labs"
  },
  "language_info": {
   "codemirror_mode": {
    "name": "ipython",
    "version": 2
   },
   "file_extension": ".py",
   "mimetype": "text/x-python",
   "name": "python",
   "nbconvert_exporter": "python",
   "pygments_lexer": "ipython2",
   "version": "2.7.6"
  }
 },
 "nbformat": 4,
 "nbformat_minor": 0
}
