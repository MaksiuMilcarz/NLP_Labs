{
 "cells": [
  {
   "cell_type": "markdown",
   "metadata": {
    "collapsed": false,
    "pycharm": {
     "name": "#%% md\n"
    }
   },
   "source": [
    "# NLP 2025\n",
    "# Lab 1: Tokenization\n",
    "\n",
    "Tokenization is a fundamental step in **Natural Language Processing (NLP)** 🧠💬 that transforms raw text into structured data for computational models. In this lab, you will explore different **tokenization techniques** 📝, preprocess text data 🔍, and implement **tokenization pipelines** using popular NLP libraries 🏗️.  \n",
    "\n",
    "You will also gain **hands-on experience** with **Hugging Face Datasets 🤗📚**, while assessing the impact of tokenization choices on downstream NLP tasks. \n",
    "\n",
    "By the end of this lab, you will have a **strong foundation** in tokenization techniques and be able to apply them effectively in **real-world NLP applications** 🌍.  \n",
    "\n",
    "---\n",
    "\n",
    "### 🎯 **Learning Goals**  \n",
    "\n",
    "By the end of this lab, you should be able to:  \n",
    "\n",
    "✅ **Understand the role of tokenization in NLP** 🧠💡  \n",
    "✅ **Explain why tokenization is important** and how it affects text processing 📖🔍  \n",
    "✅ **Implement different tokenization techniques** – Apply **word** 📝, **subword** 🔢, and **character-level** 🔠 tokenization using built-in libraries.  \n",
    "✅ **Use Hugging Face Datasets** 🤗📊 – Load and preprocess text datasets efficiently.  \n",
    "✅ **Evaluate tokenization impact** 📉🔎 – Analyze how different tokenization methods influence model performance.  \n",
    "✅ **Identify challenges in tokenization** ❗🔍 – Recognize issues like **out-of-vocabulary (OOV) words**, **ambiguity**, and **multilingual tokenization** 🌍.  \n",
    "\n",
    "### Score breakdown\n",
    "\n",
    "| Exercise            | Points |\n",
    "|---------------------|--------|\n",
    "| [Exercise 1](#e1)   | 5      |\n",
    "| [Exercise 2](#e2)   | 6      |\n",
    "| [Exercise 3](#e3)   | 5      |\n",
    "| [Exercise 4](#e4)   | 12     |\n",
    "| [Exercise 5](#e5)   | 5      |\n",
    "| [Exercise 6](#e6)   | 22     |\n",
    "| [Exercise 7](#e7)   | 5      |\n",
    "| [Exercise 8](#e8)   | 5      |\n",
    "| [Exercise 9](#e9)   | 10     |\n",
    "| [Exercise 10](#e10) | 25     |\n",
    "| Total               | 100    |\n",
    "\n",
    "This score will be scaled down to 0.5 and that will be your final lab score.\n",
    "\n",
    "### 📌 **Instructions for Delivery** (📅 **Deadline: 11/Apr 18:00**, 🎭 *wildcards possible*)  \n",
    "\n",
    "✅ **Submission Requirements**  \n",
    "+ 📄 You need to submit a **PDF of your report** (use the templates provided in **LaTeX** 🖋️ (*preferred*) or **Word** 📑) and a **copy of your notebook** 📓 with the code.  \n",
    "+ ⚡ Make sure that **all cells are executed properly** ⚙️ and that **all figures/results/plots** 📊 you include in the report are also visible in your **executed notebook**.  \n",
    "\n",
    "✅ **Collaboration & Integrity**  \n",
    "+ 🗣️ While you may **discuss** the lab with others, you must **write your solutions with your group only**. If you **discuss specific tasks** with others, please **include their names** in the appendix of the report.  \n",
    "+ 📜 **Honor Code applies** to this lab. For more details, check **Syllabus §7.2** ⚖️.  \n",
    "+ 📢 **Mandatory Disclosure**:  \n",
    "   - Any **websites** 🌐 (e.g., **Stack Overflow** 💡) or **other resources** used must be **listed and disclosed**.  \n",
    "   - Any **GenAI tools** 🤖 (e.g., **ChatGPT**) used must be **explicitly mentioned**.  \n",
    "   - 🚨 **Failure to disclose these resources is a violation of academic integrity**. See **Syllabus §7.3** for details.   "
   ]
  },
  {
   "cell_type": "markdown",
   "metadata": {
    "collapsed": false,
    "pycharm": {
     "name": "#%% md\n"
    }
   },
   "source": [
    "## Preparation"
   ]
  },
  {
   "cell_type": "code",
   "execution_count": null,
   "metadata": {
    "collapsed": false,
    "pycharm": {
     "name": "#%%\n"
    }
   },
   "outputs": [],
   "source": [
    "# ! pip install -U datasets~=3.2.0\n",
    "# ! python -m pip install -U matplotlib"
   ]
  },
  {
   "cell_type": "code",
   "execution_count": 2,
   "metadata": {
    "collapsed": false,
    "pycharm": {
     "name": "#%%\n"
    }
   },
   "outputs": [],
   "source": [
    "import re\n",
    "from collections import Counter\n",
    "\n",
    "import datasets\n",
    "import pandas as pd\n",
    "import tqdm\n",
    "import matplotlib.pyplot as plt"
   ]
  },
  {
   "cell_type": "markdown",
   "metadata": {
    "collapsed": false,
    "pycharm": {
     "name": "#%% md\n"
    }
   },
   "source": [
    "## 0. Intro to regular expressions\n",
    "\n",
    "In this introduction section, you can practice the use of regular expressions in python. You can find the documentation here: [https://docs.python.org/3/library/re.html](https://docs.python.org/3/library/re.html). The main functions of the re module are:\n",
    "- `re.search()` - searches for a pattern in a string, returns the first match,\n",
    "- `re.findall()` - similar to `search()`, but returns a list of all matches,\n",
    "- `re.sub()` - replaces the matches with a string.\n",
    "\n",
    "All above functions accept the regular expression pattern as their argument. The patterns are strings that represent the rules for matching the text. In python they start with `r` character, e.g. `r'\\d'` is a pattern that matches a digit.\n",
    "\n",
    "Let us start with a simple example. We will search for the word \"world\" in the string \"Hello, world!\"."
   ]
  },
  {
   "cell_type": "code",
   "execution_count": 2,
   "metadata": {
    "collapsed": false,
    "pycharm": {
     "name": "#%%\n"
    }
   },
   "outputs": [
    {
     "name": "stdout",
     "output_type": "stream",
     "text": [
      "<re.Match object; span=(7, 12), match='world'>\n"
     ]
    }
   ],
   "source": [
    "text = \"Hello, world!\"\n",
    "pattern = r'world'\n",
    "match = re.search(pattern, text)\n",
    "print(match)"
   ]
  },
  {
   "cell_type": "markdown",
   "metadata": {
    "collapsed": false,
    "pycharm": {
     "name": "#%% md\n"
    }
   },
   "source": [
    "The `search()` function returns a match object that tells us where the match was found (`span` argument) and the exact part of the string that matched the pattern (`group` argument).\n",
    "\n",
    "Below you can find the examples from the lecture."
   ]
  },
  {
   "cell_type": "code",
   "execution_count": null,
   "metadata": {
    "collapsed": false,
    "pycharm": {
     "name": "#%%\n"
    }
   },
   "outputs": [],
   "source": [
    "# Disjunctions\n",
    "pattern = r'[wW]oodchuck' # matches both \"woodchuck\" and \"Woodchuck\"\n",
    "pattern = r'[1234567890]' # matches any digit\n",
    "pattern = r'[0-9]' # matches any digit\n",
    "pattern = r'[A-Z]' # matches any uppercase letter\n",
    "pattern = r'[a-z]' # matches any lowercase letter\n",
    "pattern = r'[A-Za-z]' # matches any letter\n",
    "\n",
    "# Disjunctions with pipe |\n",
    "pattern = r'groundhog|Woodchuck' # matches both \"woodchuck\" and \"Woodchuck\"\n",
    "\n",
    "# Negation (only when in [])\n",
    "pattern = r'[^0-9]' # matches any character that is not a digit\n",
    "pattern = r'[^Ss]' # matches any character that is not 'S' or 's'\n",
    "pattern = r'a^b' # matches the string \"a^b\"\n",
    "\n",
    "# Quantifiers (+, *, ?, .)\n",
    "pattern = r'baa+' # matches \"ba\" followed by one or more \"a\" (e.g. \"baa\", \"baaa\", \"baaaa\", ...)\n",
    "pattern = r'oo*h' # matches \"o\" followed by zero or more \"o\" and then \"h\" (e.g. \"oh\", \"ooh\", \"oooh\", ...)\n",
    "pattern = r'colou?r' # matches \"color\" and \"colour\"\n",
    "pattern = r'beg.n' # matches \"begun\", \"begin\", \"begnn\", ...\n",
    "\n",
    "# Anchors (^, $)\n",
    "pattern = r'^Hello' # matches \"Hello\" at the beginning of the string\n",
    "pattern = r'world!$' # matches \"world!\" at the end of the string"
   ]
  },
  {
   "cell_type": "markdown",
   "metadata": {
    "collapsed": false,
    "pycharm": {
     "name": "#%% md\n"
    }
   },
   "source": [
    "## 1. Huggingface datasets\n",
    "\n",
    "For this lab, we will use the **Hugging Face Datasets** library ([Hugging Face Datasets](https://huggingface.co/datasets)), which provides an extensive collection of ready-to-use NLP datasets. The library is designed to be lightweight, efficient, and compatible with popular deep learning frameworks such as PyTorch and TensorFlow.  \n",
    "\n",
    "You can find the full documentation and tutorials here:  \n",
    "📌 [Hugging Face Datasets Documentation](https://huggingface.co/docs/datasets/en/index)  \n",
    "\n",
    "### **Why use Hugging Face Datasets?**  \n",
    "- **Easy Access:** Load datasets with a single command without manual downloads.  \n",
    "- **Standardized Format:** Datasets come in a unified structure, making them easy to preprocess and integrate into ML pipelines.  \n",
    "- **Large Collection:** Provides datasets for a wide range of NLP tasks, including classification, translation, summarization, and more.  \n",
    "- **Seamless Integration:** Works with `transformers` and `sklearn` for preprocessing and model training.  \n",
    "\n",
    "### **Dataset for this lab: TweetEval - Emoji Subset**  \n",
    "\n",
    "In this lab, we will work with the **TweetEval** dataset, specifically the **emoji** subset. The TweetEval dataset is a benchmark for evaluating NLP models on Twitter-related tasks, covering tasks such as sentiment analysis, hate speech detection, and irony detection.  \n",
    "\n",
    "For tokenization, we will focus only on the **text** (the content of the tweets), but we will also examine the **labels** to understand the dataset structure.  \n",
    "\n",
    "🔗 The dataset description and details are available in its dataset card: [**TweetEval Dataset**](https://huggingface.co/datasets/cardiffnlp/tweet_eval) \n",
    "\n",
    "💡 Exploring More Datasets\n",
    "Hugging Face provides a vast selection of datasets across different NLP tasks. You can browse and explore more at:\n",
    "🔗 [Hugging Face Datasets Collection](https://huggingface.co/datasets)"
   ]
  },
  {
   "cell_type": "code",
   "execution_count": 3,
   "metadata": {
    "collapsed": false,
    "pycharm": {
     "name": "#%%\n"
    }
   },
   "outputs": [
    {
     "name": "stdout",
     "output_type": "stream",
     "text": [
      "DatasetDict({\n",
      "    train: Dataset({\n",
      "        features: ['text', 'label'],\n",
      "        num_rows: 45000\n",
      "    })\n",
      "    test: Dataset({\n",
      "        features: ['text', 'label'],\n",
      "        num_rows: 50000\n",
      "    })\n",
      "    validation: Dataset({\n",
      "        features: ['text', 'label'],\n",
      "        num_rows: 5000\n",
      "    })\n",
      "})\n"
     ]
    }
   ],
   "source": [
    "tweet_ds = datasets.load_dataset('tweet_eval', 'emoji')\n",
    "print(tweet_ds)"
   ]
  },
  {
   "cell_type": "markdown",
   "metadata": {
    "collapsed": false,
    "pycharm": {
     "name": "#%% md\n"
    }
   },
   "source": [
    "The loaded dataset contains three subsets (“train”, “validation”, and “test”). Each consists of two columns: “text” and “label”. Label is an integer from 0 to 19 representing an emoji. See the dataset's card for more information. We can access the elements of the dataset like so:"
   ]
  },
  {
   "cell_type": "code",
   "execution_count": 4,
   "metadata": {
    "collapsed": false,
    "pycharm": {
     "name": "#%%\n"
    }
   },
   "outputs": [
    {
     "name": "stdout",
     "output_type": "stream",
     "text": [
      "{'text': 'Sunday afternoon walking through Venice in the sun with @user ️ ️ ️ @ Abbot Kinney, Venice', 'label': 12}\n",
      "{'text': \"Time for some BBQ and whiskey libations. Chomp, belch, chomp! (@ Lucille's Smokehouse Bar-B-Que)\", 'label': 19}\n",
      "{'text': 'Love love love all these people ️ ️ ️ #friends #bff #celebrate #blessed #sundayfunday @ San…', 'label': 0}\n",
      "{'text': '️ ️ ️ ️ @ Toys\"R\"Us', 'label': 0}\n",
      "{'text': 'Man these are the funniest kids ever!! That face! #HappyBirthdayBubb @ FLIPnOUT Xtreme', 'label': 2}\n",
      "{'text': '#sandiego @ San Diego, California', 'label': 11}\n",
      "{'text': 'My little ️ ️ ️ ️ ️ #ObsessedWithMyDog @ Cafe Solstice Capitol Hill', 'label': 0}\n",
      "{'text': 'More #tinyepic things #tinyepicwestern, this one is crazy @user I may be one of your…', 'label': 19}\n",
      "{'text': 'Last night ️ @ Omnia Night Club At Caesars Palace', 'label': 0}\n",
      "{'text': 'friendship at its finest. ....#pixar #toystory #buzz #woody #friends #friendship #bff…', 'label': 7}\n"
     ]
    }
   ],
   "source": [
    "for i in range(10):\n",
    "    print(tweet_ds['train'][i])"
   ]
  },
  {
   "cell_type": "markdown",
   "metadata": {
    "collapsed": false,
    "pycharm": {
     "name": "#%% md\n"
    }
   },
   "source": [
    "You can easily cast the dataset to the pandas DataFrame."
   ]
  },
  {
   "cell_type": "code",
   "execution_count": 5,
   "metadata": {
    "collapsed": false,
    "pycharm": {
     "name": "#%%\n"
    }
   },
   "outputs": [
    {
     "name": "stdout",
     "output_type": "stream",
     "text": [
      "                                                    text  label\n",
      "0      Sunday afternoon walking through Venice in the...     12\n",
      "1      Time for some BBQ and whiskey libations. Chomp...     19\n",
      "2      Love love love all these people ️ ️ ️ #friends...      0\n",
      "3                                    ️ ️ ️ ️ @ Toys\"R\"Us      0\n",
      "4      Man these are the funniest kids ever!! That fa...      2\n",
      "...                                                  ...    ...\n",
      "44995  Here to celebrate the Nunez wedding! Love my b...      0\n",
      "44996  1 night in Paris.... Wait... @ Paris Las Vegas...      1\n",
      "44997  Be safe this weekend everyone. #happylaborday ...     11\n",
      "44998          Pizza (@ Five50 - @user in Las Vegas, NV)      1\n",
      "44999  my mini is perfect, no one deserves her @ Las ...     13\n",
      "\n",
      "[45000 rows x 2 columns]\n"
     ]
    }
   ],
   "source": [
    "tweet_train_df = pd.DataFrame(tweet_ds['train'])\n",
    "print(tweet_train_df)"
   ]
  },
  {
   "cell_type": "markdown",
   "metadata": {
    "collapsed": false,
    "pycharm": {
     "name": "#%% md\n"
    }
   },
   "source": [
    "We can plot the distribution of the labels in the training subset."
   ]
  },
  {
   "cell_type": "code",
   "execution_count": 6,
   "metadata": {
    "collapsed": false,
    "pycharm": {
     "name": "#%%\n"
    }
   },
   "outputs": [
    {
     "data": {
      "text/plain": [
       "<Axes: xlabel='label'>"
      ]
     },
     "execution_count": 6,
     "metadata": {},
     "output_type": "execute_result"
    },
    {
     "data": {
      "image/png": "[encoded data removed]",
      "text/plain": [
       "<Figure size 640x480 with 1 Axes>"
      ]
     },
     "metadata": {},
     "output_type": "display_data"
    }
   ],
   "source": [
    "tweet_train_df.groupby('label').count().plot.bar()"
   ]
  },
  {
   "cell_type": "markdown",
   "metadata": {
    "collapsed": false,
    "pycharm": {
     "name": "#%% md\n"
    }
   },
   "source": [
    "### Dataset's filter function\n",
    "We can filter the examples using ```filter()``` method. See this link for more details https://huggingface.co/docs/datasets/en/use_dataset. Here is an example of filtering the short tweets (less than 20 characters) from the ```train``` subset."
   ]
  },
  {
   "cell_type": "code",
   "execution_count": 7,
   "metadata": {
    "collapsed": false,
    "pycharm": {
     "name": "#%%\n"
    }
   },
   "outputs": [
    {
     "name": "stdout",
     "output_type": "stream",
     "text": [
      "Dataset({\n",
      "    features: ['text', 'label'],\n",
      "    num_rows: 506\n",
      "})\n"
     ]
    }
   ],
   "source": [
    "short_tweets = tweet_ds['train'].filter(lambda example: len(example['text']) < 20)\n",
    "print(short_tweets)"
   ]
  },
  {
   "cell_type": "code",
   "execution_count": 8,
   "metadata": {
    "collapsed": false,
    "pycharm": {
     "name": "#%%\n"
    }
   },
   "outputs": [
    {
     "name": "stdout",
     "output_type": "stream",
     "text": [
      "{'text': '️ ️ ️ ️ @ Toys\"R\"Us', 'label': 0}\n",
      "{'text': '️ @ Columbia River', 'label': 12}\n",
      "{'text': 'My weekend: @user 3', 'label': 6}\n",
      "{'text': 'good day today', 'label': 3}\n",
      "{'text': 'My last RT...', 'label': 2}\n",
      "{'text': '@ On Lake Cowichan', 'label': 13}\n",
      "{'text': '@ Macroplaza', 'label': 4}\n",
      "{'text': '@ BART Train', 'label': 6}\n",
      "{'text': '️ 4 a tbh&amp; rate', 'label': 0}\n",
      "{'text': '@user Oh nice!!', 'label': 14}\n"
     ]
    }
   ],
   "source": [
    "for i in range(10):\n",
    "    print(short_tweets[i])"
   ]
  },
  {
   "cell_type": "markdown",
   "metadata": {
    "collapsed": false,
    "pycharm": {
     "name": "#%% md\n"
    }
   },
   "source": [
    "### Dataset's map function\n",
    "Datasets library contains a very useful method map. It expects a function that will receive an example from the dataset. This function will be applied to all entries. We will calculate the length of the text (in characters) in each example."
   ]
  },
  {
   "cell_type": "code",
   "execution_count": 9,
   "metadata": {
    "collapsed": false,
    "pycharm": {
     "name": "#%%\n"
    }
   },
   "outputs": [],
   "source": [
    "def calculate_text_length(example):\n",
    "    example['text_length'] = len(example['text'])\n",
    "    return example"
   ]
  },
  {
   "cell_type": "code",
   "execution_count": 10,
   "metadata": {
    "collapsed": false,
    "pycharm": {
     "name": "#%%\n"
    }
   },
   "outputs": [
    {
     "name": "stdout",
     "output_type": "stream",
     "text": [
      "DatasetDict({\n",
      "    train: Dataset({\n",
      "        features: ['text', 'label', 'text_length'],\n",
      "        num_rows: 45000\n",
      "    })\n",
      "    test: Dataset({\n",
      "        features: ['text', 'label', 'text_length'],\n",
      "        num_rows: 50000\n",
      "    })\n",
      "    validation: Dataset({\n",
      "        features: ['text', 'label', 'text_length'],\n",
      "        num_rows: 5000\n",
      "    })\n",
      "})\n"
     ]
    }
   ],
   "source": [
    "tweet_ds = tweet_ds.map(calculate_text_length)\n",
    "print(tweet_ds)"
   ]
  },
  {
   "cell_type": "markdown",
   "metadata": {
    "collapsed": false,
    "pycharm": {
     "name": "#%% md\n"
    }
   },
   "source": [
    "We can plot the histogram of the text lengths."
   ]
  },
  {
   "cell_type": "code",
   "execution_count": 11,
   "metadata": {
    "collapsed": false,
    "pycharm": {
     "name": "#%%\n"
    }
   },
   "outputs": [
    {
     "data": {
      "text/plain": [
       "<Axes: ylabel='Frequency'>"
      ]
     },
     "execution_count": 11,
     "metadata": {},
     "output_type": "execute_result"
    },
    {
     "data": {
      "image/png": "[encoded data removed]",
      "text/plain": [
       "<Figure size 640x480 with 1 Axes>"
      ]
     },
     "metadata": {},
     "output_type": "display_data"
    }
   ],
   "source": [
    "pd.DataFrame(tweet_ds['train']).groupby('text_length')['text_length'].count().plot.hist(bins=50)"
   ]
  },
  {
   "cell_type": "markdown",
   "metadata": {
    "collapsed": false,
    "pycharm": {
     "name": "#%% md\n"
    }
   },
   "source": [
    "<a name=\"e1\"></a>\n",
    "\n",
    "### Exercise 1: Questions about the datasets\n",
    "1. (1p) What is the size of the training, test and validation datasets?\n",
    "2. (1p) What are the top 5 most frequent emojis in the validation dataset?\n",
    "3. (1p) Compare the distributions of labels (emojis) between training and validation datasets.\n",
    "4. (1p) How many examples with the \"fire\" emoji are in the training dataset?\n",
    "5. (1p) What is the average length (in characters) of the tweets in the training dataset?"
   ]
  },
  {
   "cell_type": "markdown",
   "metadata": {
    "collapsed": false,
    "pycharm": {
     "name": "#%% md\n"
    }
   },
   "source": [
    "You can add cells here to answer the questions"
   ]
  },
  {
   "cell_type": "code",
   "execution_count": 16,
   "metadata": {
    "collapsed": false,
    "pycharm": {
     "name": "#%%\n"
    }
   },
   "outputs": [
    {
     "name": "stdout",
     "output_type": "stream",
     "text": [
      "Train size:  (45000, 3)\n",
      "Test size:  (50000, 3)\n",
      "Validation size:  (5000, 3)\n",
      "Top 5 most frequent emojis:  label\n",
      "0    1056\n",
      "1     521\n",
      "2     504\n",
      "3     308\n",
      "4     243\n",
      "Name: count, dtype: int64\n"
     ]
    },
    {
     "data": {
      "image/png": "[encoded data removed]",
      "text/plain": [
       "<Figure size 640x480 with 1 Axes>"
      ]
     },
     "metadata": {},
     "output_type": "display_data"
    },
    {
     "name": "stdout",
     "output_type": "stream",
     "text": [
      "Number of training examples with the fire emoji:  2146\n",
      "Average length of tweets in the training dataset:  71.01691111111111 characters\n"
     ]
    }
   ],
   "source": [
    "#1\n",
    "size_train = tweet_ds['train'].shape\n",
    "print(\"Train size: \", size_train)\n",
    "size_test = tweet_ds['test'].shape\n",
    "print(\"Test size: \", size_test)\n",
    "size_validation = tweet_ds['validation'].shape\n",
    "print(\"Validation size: \", size_validation)\n",
    "\n",
    "#2\n",
    "tweet_val_df = pd.DataFrame(tweet_ds['validation'])\n",
    "freq_label = tweet_val_df['label'].value_counts()\n",
    "print(\"Top 5 most frequent emojis: \", freq_label.head())\n",
    "\n",
    "#3\n",
    "freq_label_train = (tweet_train_df.groupby('label').size().div(len(tweet_train_df)).reset_index(name='train_ratio'))\n",
    "freq_label_validation = (tweet_val_df.groupby('label').size().div(len(tweet_val_df)).reset_index(name='val_ratio'))\n",
    "\n",
    "df = pd.merge(freq_label_train, freq_label_validation, on='label')\n",
    "ax = df.set_index('label').plot(kind='bar', rot=0)\n",
    "ax.set_ylabel(\"Proportion\")\n",
    "ax.legend([\"Train\", \"Validation\"], bbox_to_anchor=(1.05, 1), loc='upper left')\n",
    "plt.tight_layout()\n",
    "plt.savefig(\"distribution.png\", format='png', dpi=300)\n",
    "plt.show()\n",
    "\n",
    "#4\n",
    "label_names = tweet_ds['train'].features['label'].names\n",
    "fire_index = label_names.index(\"🔥\")\n",
    "fire_count = tweet_train_df[tweet_train_df['label'] == fire_index].shape[0]\n",
    "\n",
    "print(\"Number of training examples with the fire emoji: \", fire_count)\n",
    "\n",
    "#5\n",
    "tweet_ds['train'] = tweet_ds['train'].map(calculate_text_length)\n",
    "text_lengths = [example['text_length'] for example in tweet_ds['train']]\n",
    "average_length = sum(text_lengths) / len(text_lengths)\n",
    "print(\"Average length of tweets in the training dataset: \", average_length , \"characters\")"
   ]
  },
  {
   "cell_type": "markdown",
   "metadata": {
    "collapsed": false,
    "pycharm": {
     "name": "#%% md\n"
    }
   },
   "source": [
    "## 2. Tokenization\n",
    "\n",
    "In this section we will preprocess the dataset by cleaning and tokenizing the entries.\n",
    "Datasets library contains a very useful method map. It expects a function that will receive an example from the dataset. This function will be applied to all entries."
   ]
  },
  {
   "cell_type": "markdown",
   "metadata": {
    "collapsed": false,
    "pycharm": {
     "name": "#%% md\n"
    }
   },
   "source": [
    "### 2.1 Cleaning the text"
   ]
  },
  {
   "cell_type": "markdown",
   "metadata": {
    "collapsed": false,
    "pycharm": {
     "name": "#%% md\n"
    }
   },
   "source": [
    "<a name=\"e2\"></a>\n",
    "### Exercise 2: Write the text cleaning function\n",
    "\n",
    "Include at least the following steps:\n",
    "- (1p) remove comma between numbers, i.e. 15,000 -> 15000\n",
    "- (1p) remove multiple spaces\n",
    "- (1p) space out the punctuation (i.e. \"hello, world.\" -> \"hello , world .\")\n",
    "- (3x1p) three more cleaning steps of your choice"
   ]
  },
  {
   "cell_type": "code",
   "execution_count": null,
   "metadata": {
    "collapsed": false,
    "pycharm": {
     "name": "#%%\n"
    }
   },
   "outputs": [],
   "source": [
    "def clean(example):\n",
    "    \"\"\"\n",
    "    Cleans the example from the Dataset\n",
    "    Args:\n",
    "        example: an example from the Dataset\n",
    "\n",
    "    Returns: update example containing 'clean' column\n",
    "\n",
    "    \"\"\"\n",
    "    text = example['text']\n",
    "\n",
    "    # Empty text\n",
    "    if text == '':\n",
    "        example['clean'] = ''\n",
    "        return example\n",
    "\n",
    "    # 'text' from the example can be of type numpy.str_, let's convert it to a python str\n",
    "    text = str(text)\n",
    "\n",
    "    #4 substitute by one occurance if some punction is repeated more than 4+\n",
    "    text = re.sub(r'([.,!?;:])\\1\\1\\1+', r'\\1\\1\\1', text)\n",
    "    \n",
    "    # remove comma between numbers\n",
    "    text = re.sub(r'(\\d+),(\\d+)', r'\\1\\2', text)\n",
    "    \n",
    "    # space out the punctuation\n",
    "    text = re.sub(r\"([.,!?;:])\", r\" \\1 \", text)\n",
    "\n",
    "    # remove multiple spaces\n",
    "    text = re.sub(r\"\\s+\", r\" \", text)\n",
    "\n",
    "    # three more cleaning steps of your choice\n",
    "    \n",
    "    #1 lowercase\n",
    "    text = text.lower()\n",
    "    \n",
    "    #2 remove #, @, *, ^, () , {} , ...\n",
    "    text = re.sub(r'[@#*^(){}\\'\\\"%\\$&\\[\\]]', r\"\", text)\n",
    "    \n",
    "    #3 delete the \"-\" between words\n",
    "    text = re.sub(r'\\-', r\"\", text)\n",
    "    \n",
    "    # remove the initial and final spaces\n",
    "    text = text.strip()\n",
    "    \n",
    "    # reinforce the previous ones\n",
    "    text = re.sub(r\"([.,!?;:])\", r\" \\1 \", text)\n",
    "    text = re.sub(r\" ️\", r' ', text)\n",
    "    text = re.sub(r\"\\s+\", r' ', text)\n",
    "\n",
    "    # Update the example with the cleaned text\n",
    "    example['clean'] = text.strip()\n",
    "    return example"
   ]
  },
  {
   "cell_type": "markdown",
   "metadata": {
    "collapsed": false,
    "pycharm": {
     "name": "#%% md\n"
    }
   },
   "source": [
    "This is an example of applying the ```clean()``` function you just wrote to a single entry of the dataset. The function added a 'clean' field to the example."
   ]
  },
  {
   "cell_type": "code",
   "execution_count": 65,
   "metadata": {
    "collapsed": false,
    "pycharm": {
     "name": "#%%\n"
    }
   },
   "outputs": [
    {
     "name": "stdout",
     "output_type": "stream",
     "text": [
      "Original tweet item:\n",
      "Love love love all these people ️ ️ ️ #friends #bff #celebrate #blessed #sundayfunday @ San…\n",
      "Cleaned tweet item:\n",
      "love love love all these people friends bff celebrate blessed sundayfunday san…\n"
     ]
    }
   ],
   "source": [
    "print('Original tweet item:')\n",
    "print(tweet_ds['train'][2]['text'])\n",
    "print('Cleaned tweet item:')\n",
    "print(clean(tweet_ds['train'][2])['clean'])"
   ]
  },
  {
   "cell_type": "markdown",
   "metadata": {
    "collapsed": false,
    "pycharm": {
     "name": "#%% md\n"
    }
   },
   "source": [
    "Let's finally use the ```map()``` method and apply your `clean()` function to all entries of the dataset. You can see that the ```clean``` column has been added to each split."
   ]
  },
  {
   "cell_type": "markdown",
   "metadata": {
    "collapsed": false,
    "pycharm": {
     "name": "#%% md\n"
    }
   },
   "source": [
    "Below, we will apply your function to all entries in the dataset."
   ]
  },
  {
   "cell_type": "code",
   "execution_count": 66,
   "metadata": {
    "collapsed": false,
    "pycharm": {
     "name": "#%%\n"
    }
   },
   "outputs": [
    {
     "data": {
      "application/vnd.jupyter.widget-view+json": {
       "model_id": "b6fe158be6aa47f6bad900753df5bf84",
       "version_major": 2,
       "version_minor": 0
      },
      "text/plain": [
       "Map:   0%|          | 0/45000 [00:00<?, ? examples/s]"
      ]
     },
     "metadata": {},
     "output_type": "display_data"
    },
    {
     "data": {
      "application/vnd.jupyter.widget-view+json": {
       "model_id": "2575f130834e4b569d69eab3f6fc2593",
       "version_major": 2,
       "version_minor": 0
      },
      "text/plain": [
       "Map:   0%|          | 0/50000 [00:00<?, ? examples/s]"
      ]
     },
     "metadata": {},
     "output_type": "display_data"
    },
    {
     "data": {
      "application/vnd.jupyter.widget-view+json": {
       "model_id": "79d34acb1b9c48588fdb18f88172c686",
       "version_major": 2,
       "version_minor": 0
      },
      "text/plain": [
       "Map:   0%|          | 0/5000 [00:00<?, ? examples/s]"
      ]
     },
     "metadata": {},
     "output_type": "display_data"
    },
    {
     "name": "stdout",
     "output_type": "stream",
     "text": [
      "DatasetDict({\n",
      "    train: Dataset({\n",
      "        features: ['text', 'label', 'text_length', 'clean', 'tokens', 'bpe_tokens'],\n",
      "        num_rows: 45000\n",
      "    })\n",
      "    test: Dataset({\n",
      "        features: ['text', 'label', 'text_length', 'clean', 'tokens', 'bpe_tokens'],\n",
      "        num_rows: 50000\n",
      "    })\n",
      "    validation: Dataset({\n",
      "        features: ['text', 'label', 'text_length', 'clean', 'tokens', 'bpe_tokens'],\n",
      "        num_rows: 5000\n",
      "    })\n",
      "})\n"
     ]
    }
   ],
   "source": [
    "tweet_ds = tweet_ds.map(clean)\n",
    "print(tweet_ds)"
   ]
  },
  {
   "cell_type": "markdown",
   "metadata": {
    "collapsed": false,
    "pycharm": {
     "name": "#%% md\n"
    }
   },
   "source": [
    "### 2.2 Build vocabulary\n",
    "\n",
    "In the previous section, we implemented the cleaning of the dataset. Now, we will tokenize the text splitting it by spaces. We will build a vocabulary based on the cleaned text of the `train` split. We will investigate some properties of corpora (e.g. Zipf's law).\n",
    "\n",
    "The function below builds a vocabulary from the dataset. It counts the occurrences of the words in the dataset using the Counter class. Check the documentation here [collections.Counter](https://docs.python.org/3/library/collections.html#collections.Counter)."
   ]
  },
  {
   "cell_type": "markdown",
   "metadata": {
    "collapsed": false,
    "pycharm": {
     "name": "#%% md\n"
    }
   },
   "source": [
    "### Exercise 3: Build the vocabulary\n",
    "(5p) Fill in the function below to build the vocabulary from the dataset. The function should return a `Counter` object with the words and their frequencies. The variable named `vocab` is already initialized as an empty `Counter` object."
   ]
  },
  {
   "cell_type": "code",
   "execution_count": 67,
   "metadata": {
    "collapsed": false,
    "pycharm": {
     "name": "#%%\n"
    }
   },
   "outputs": [],
   "source": [
    "def build_vocab_counter(dataset):\n",
    "    \"\"\"\n",
    "    Builds a vocabulary from the dataset\n",
    "    Args:\n",
    "        dataset: a dataset\n",
    "\n",
    "    Returns: a vocabulary\n",
    "\n",
    "    \"\"\"\n",
    "    vocab = Counter()\n",
    "\n",
    "    for example in tqdm.tqdm(dataset):\n",
    "        tokens = example['clean'].split()\n",
    "        vocab.update(tokens)\n",
    "\n",
    "    return vocab"
   ]
  },
  {
   "cell_type": "code",
   "execution_count": 68,
   "metadata": {
    "collapsed": false,
    "pycharm": {
     "name": "#%%\n"
    }
   },
   "outputs": [
    {
     "name": "stderr",
     "output_type": "stream",
     "text": [
      "100%|██████████| 45000/45000 [00:08<00:00, 5085.79it/s]"
     ]
    },
    {
     "name": "stdout",
     "output_type": "stream",
     "text": [
      "Size of the vocabulary: 60513\n"
     ]
    },
    {
     "name": "stderr",
     "output_type": "stream",
     "text": [
      "\n"
     ]
    }
   ],
   "source": [
    "vocab_counter = build_vocab_counter(tweet_ds['train'])\n",
    "print('Size of the vocabulary:', len(vocab_counter))"
   ]
  },
  {
   "cell_type": "markdown",
   "metadata": {
    "collapsed": false,
    "pycharm": {
     "name": "#%% md\n"
    }
   },
   "source": [
    "Because we created a counter, we can easily check the most and least common words in the vocabulary. Do the most common words make sense? How about the least common ones?"
   ]
  },
  {
   "cell_type": "code",
   "execution_count": 69,
   "metadata": {
    "collapsed": false,
    "pycharm": {
     "name": "#%%\n"
    }
   },
   "outputs": [
    {
     "name": "stdout",
     "output_type": "stream",
     "text": [
      "Most common:\n",
      "[('.', 22551), ('!', 16412), ('the', 13458), (',', 12385), ('user', 12236), ('to', 7661), ('my', 7520), ('a', 6830), ('i', 6731), ('in', 5937)]\n",
      "Least common:\n",
      "[('corban…', 1), ('southbayla', 1), ('thedabberchick', 1), ('nector', 1), ('chefking1921express', 1), ('rolltide', 1), ('bffweekend', 1), ('nunez', 1), ('happylaborday', 1), ('five50', 1)]\n"
     ]
    }
   ],
   "source": [
    "print('Most common:')\n",
    "print(vocab_counter.most_common(10))\n",
    "print('Least common:')\n",
    "print(vocab_counter.most_common()[-10:])"
   ]
  },
  {
   "cell_type": "markdown",
   "metadata": {
    "collapsed": false,
    "pycharm": {
     "name": "#%% md\n"
    }
   },
   "source": [
    "We can also plot the counts of the words. You can check the [Power law](https://en.wikipedia.org/wiki/Power_law) if you are more interested."
   ]
  },
  {
   "cell_type": "code",
   "execution_count": 70,
   "metadata": {
    "collapsed": false,
    "pycharm": {
     "name": "#%%\n"
    }
   },
   "outputs": [
    {
     "data": {
      "text/plain": [
       "Text(0, 0.5, 'count')"
      ]
     },
     "execution_count": 70,
     "metadata": {},
     "output_type": "execute_result"
    },
    {
     "data": {
      "image/png": "[encoded data removed]",
      "text/plain": [
       "<Figure size 640x480 with 1 Axes>"
      ]
     },
     "metadata": {},
     "output_type": "display_data"
    }
   ],
   "source": [
    "import matplotlib.pyplot as plt\n",
    "\n",
    "plt.loglog([val for word, val in vocab_counter.most_common()])\n",
    "plt.xlabel('rank')\n",
    "plt.ylabel('count')"
   ]
  },
  {
   "cell_type": "markdown",
   "metadata": {
    "collapsed": false,
    "pycharm": {
     "name": "#%% md\n"
    }
   },
   "source": [
    "The plot shows that the distribution of the words in the vocabulary follows the Zipf's law. The most frequent word occurs approximately twice as often as the second most frequent word, three times as often as the third most frequent word, etc.\n",
    "\n",
    "We can also filter the vocabulary by the frequency of the words. We will only consider the most frequent words and mark the rest as the `<unk>` token. Here we set the maximum vocabulary size to 10,000. But in the later steps, you will experiment with different sizes."
   ]
  },
  {
   "cell_type": "code",
   "execution_count": 71,
   "metadata": {
    "collapsed": false,
    "pycharm": {
     "name": "#%%\n"
    }
   },
   "outputs": [
    {
     "name": "stdout",
     "output_type": "stream",
     "text": [
      "10000\n"
     ]
    }
   ],
   "source": [
    "max_vocab_size = 10000\n",
    "vocab = vocab_counter.most_common(max_vocab_size)\n",
    "# cast to list of words\n",
    "vocab = [word for word, _ in vocab]\n",
    "print(len(vocab))"
   ]
  },
  {
   "cell_type": "markdown",
   "metadata": {
    "collapsed": false,
    "pycharm": {
     "name": "#%% md\n"
    }
   },
   "source": [
    "### Exercise 4: Frequency of pairs of words (bigrams)\n",
    "Calculate the frequency of (neighbouring) pairs of words in the training dataset.\n",
    "- (5p) List the most and least common pairs. Do the most common pairs make sense?\n",
    "- (2p) How many pairs occur only once in the dataset?\n",
    "- (5p) Plot the distribution of the pair frequencies."
   ]
  },
  {
   "cell_type": "code",
   "execution_count": 72,
   "metadata": {},
   "outputs": [
    {
     "name": "stdout",
     "output_type": "stream",
     "text": [
      "Most common pairs:\n",
      "[(('.', '.'), 6611), (('!', '!'), 4402), ((',', 'california'), 3342), (('amp', ';'), 2019), (('los', 'angeles'), 1723), (('with', 'my'), 1071), (('in', 'the'), 1002), (('angeles', ','), 998), (('las', 'vegas'), 988), (('user', 'user'), 983)]\n",
      "Least common pairs:\n",
      "[(('chick', 'loveher'), 1), (('loveher', 'bff'), 1), (('bff', 'carshow'), 1), (('1', 'night'), 1), (('safe', 'this'), 1), (('beer', 'nv'), 1), (('mini', 'is'), 1), (('one', 'deserves'), 1), (('deserves', 'her'), 1), (('her', 'las'), 1)]\n"
     ]
    }
   ],
   "source": [
    "# iterate over each text in dataset and iterate over each word in the text to count occurance over every i-1 i th word count\n",
    "pair_count_counter = Counter()\n",
    "for example in tweet_ds['train']:\n",
    "    tokens = example['clean'].split()\n",
    "    for i in range(len(tokens) - 1):\n",
    "        word1 = tokens[i]\n",
    "        word2 = tokens[i + 1]\n",
    "        if word1 in vocab and word2 in vocab:\n",
    "            pair_count_counter[(word1, word2)] += 1\n",
    "\n",
    "print('Most common pairs:')\n",
    "print(pair_count_counter.most_common(10))\n",
    "print('Least common pairs:')\n",
    "print(pair_count_counter.most_common()[-10:])"
   ]
  },
  {
   "cell_type": "code",
   "execution_count": 73,
   "metadata": {},
   "outputs": [
    {
     "name": "stdout",
     "output_type": "stream",
     "text": [
      "Number of pairs occurring just once: 109115\n"
     ]
    },
    {
     "data": {
      "image/png": "[encoded data removed]",
      "text/plain": [
       "<Figure size 640x480 with 1 Axes>"
      ]
     },
     "metadata": {},
     "output_type": "display_data"
    }
   ],
   "source": [
    "# count the number of pairs occuring just once\n",
    "print('Number of pairs occurring just once:', len([pair for pair, count in pair_count_counter.items() if count == 1]))\n",
    "\n",
    "# plot the distribution of the pairs frequencies\n",
    "plt.loglog([val for pair, val in pair_count_counter.most_common()])\n",
    "plt.xlabel(\"Rank of bigram\")\n",
    "plt.ylabel(\"Frequency\")\n",
    "plt.title(\"Bigram Frequency Distribution\")\n",
    "plt.savefig(\"bigram.png\", dpi=300)\n",
    "plt.show()"
   ]
  },
  {
   "cell_type": "markdown",
   "metadata": {
    "collapsed": false,
    "pycharm": {
     "name": "#%% md\n"
    }
   },
   "source": [
    "### 2.3 Tokenize the dataset\n",
    "The function below tokenizes the cleaned text (```example['clean']```) by splitting it on spaces. It replaces the words that are not in the vocabulary with the `<unk>` token."
   ]
  },
  {
   "cell_type": "markdown",
   "metadata": {
    "collapsed": false,
    "pycharm": {
     "name": "#%% md\n"
    }
   },
   "source": [
    "### Exercise 5: Tokenize the dataset\n",
    "\n",
    "(5p) Fill in the function below to tokenize the dataset. The function will be applied to the dataset through the `map()` method, so it returns the updated example. Your task is to split the text by spaces and replace the words that are not in the vocabulary with the `<unk>` token."
   ]
  },
  {
   "cell_type": "code",
   "execution_count": 74,
   "metadata": {
    "collapsed": false,
    "pycharm": {
     "name": "#%%\n"
    }
   },
   "outputs": [],
   "source": [
    "def tokenize(example, vocab, unknown_token='<unk>'):\n",
    "    \"\"\"\n",
    "    Tokenizes the example from the Dataset\n",
    "    Args:\n",
    "        example: an example from the Dataset\n",
    "        vocab: a vocabulary as a list of words\n",
    "        unknown_token: a token to replace the words that are not in the vocabulary\n",
    "    Returns: update example containing 'tokens' column\n",
    "\n",
    "    \"\"\"\n",
    "    text = example['clean']\n",
    "    tokens = None # list of tokens, your code should fill this variable\n",
    "\n",
    "    ### YOUR CODE HERE\n",
    "\n",
    "    tokens = []\n",
    "\n",
    "    for token in text.split():\n",
    "        if token in vocab:\n",
    "            tokens.append(token)\n",
    "        else:\n",
    "            tokens.append(unknown_token)\n",
    "\n",
    "    ### YOUR CODE ENDS HERE\n",
    "\n",
    "    example['tokens'] = tokens\n",
    "    return example"
   ]
  },
  {
   "cell_type": "code",
   "execution_count": 75,
   "metadata": {
    "collapsed": false,
    "pycharm": {
     "name": "#%%\n"
    }
   },
   "outputs": [
    {
     "data": {
      "application/vnd.jupyter.widget-view+json": {
       "model_id": "0fe7049f7d6445469789838c621b2bcd",
       "version_major": 2,
       "version_minor": 0
      },
      "text/plain": [
       "Map:   0%|          | 0/45000 [00:00<?, ? examples/s]"
      ]
     },
     "metadata": {},
     "output_type": "display_data"
    },
    {
     "data": {
      "application/vnd.jupyter.widget-view+json": {
       "model_id": "10ff33b776404143b1bfb8aeea287c24",
       "version_major": 2,
       "version_minor": 0
      },
      "text/plain": [
       "Map:   0%|          | 0/50000 [00:00<?, ? examples/s]"
      ]
     },
     "metadata": {},
     "output_type": "display_data"
    },
    {
     "data": {
      "application/vnd.jupyter.widget-view+json": {
       "model_id": "67e6ab8ac0614275867125df356d9f05",
       "version_major": 2,
       "version_minor": 0
      },
      "text/plain": [
       "Map:   0%|          | 0/5000 [00:00<?, ? examples/s]"
      ]
     },
     "metadata": {},
     "output_type": "display_data"
    },
    {
     "name": "stdout",
     "output_type": "stream",
     "text": [
      "DatasetDict({\n",
      "    train: Dataset({\n",
      "        features: ['text', 'label', 'text_length', 'clean', 'tokens', 'bpe_tokens'],\n",
      "        num_rows: 45000\n",
      "    })\n",
      "    test: Dataset({\n",
      "        features: ['text', 'label', 'text_length', 'clean', 'tokens', 'bpe_tokens'],\n",
      "        num_rows: 50000\n",
      "    })\n",
      "    validation: Dataset({\n",
      "        features: ['text', 'label', 'text_length', 'clean', 'tokens', 'bpe_tokens'],\n",
      "        num_rows: 5000\n",
      "    })\n",
      "})\n"
     ]
    }
   ],
   "source": [
    "tweet_ds = tweet_ds.map(tokenize, fn_kwargs={'vocab': vocab})\n",
    "print(tweet_ds)"
   ]
  },
  {
   "cell_type": "markdown",
   "metadata": {
    "collapsed": false,
    "pycharm": {
     "name": "#%% md\n"
    }
   },
   "source": [
    "Let us examine several entries from the dataset. We can see that the `tokens` column has been added to each example."
   ]
  },
  {
   "cell_type": "code",
   "execution_count": 76,
   "metadata": {
    "collapsed": false,
    "pycharm": {
     "name": "#%%\n"
    }
   },
   "outputs": [
    {
     "name": "stdout",
     "output_type": "stream",
     "text": [
      "Original tweet:\n",
      "Sunday afternoon walking through Venice in the sun with @user ️ ️ ️ @ Abbot Kinney, Venice\n",
      "Tokenized tweet:\n",
      "['sunday', 'afternoon', 'walking', 'through', 'venice', 'in', 'the', 'sun', 'with', 'user', 'abbot', 'kinney', ',', 'venice']\n",
      "Original tweet:\n",
      "Time for some BBQ and whiskey libations. Chomp, belch, chomp! (@ Lucille's Smokehouse Bar-B-Que)\n",
      "Tokenized tweet:\n",
      "['time', 'for', 'some', 'bbq', 'and', 'whiskey', 'libations', '.', '<unk>', ',', '<unk>', ',', '<unk>', '!', 'lucilles', 'smokehouse', 'barbque']\n",
      "Original tweet:\n",
      "Love love love all these people ️ ️ ️ #friends #bff #celebrate #blessed #sundayfunday @ San…\n",
      "Tokenized tweet:\n",
      "['love', 'love', 'love', 'all', 'these', 'people', 'friends', 'bff', 'celebrate', 'blessed', 'sundayfunday', 'san…']\n",
      "Original tweet:\n",
      "️ ️ ️ ️ @ Toys\"R\"Us\n",
      "Tokenized tweet:\n",
      "['️', '<unk>']\n",
      "Original tweet:\n",
      "Man these are the funniest kids ever!! That face! #HappyBirthdayBubb @ FLIPnOUT Xtreme\n",
      "Tokenized tweet:\n",
      "['man', 'these', 'are', 'the', 'funniest', 'kids', 'ever', '!', '!', 'that', 'face', '!', '<unk>', '<unk>', '<unk>']\n",
      "Original tweet:\n",
      "#sandiego @ San Diego, California\n",
      "Tokenized tweet:\n",
      "['sandiego', 'san', 'diego', ',', 'california']\n",
      "Original tweet:\n",
      "My little ️ ️ ️ ️ ️ #ObsessedWithMyDog @ Cafe Solstice Capitol Hill\n",
      "Tokenized tweet:\n",
      "['my', 'little', '<unk>', 'cafe', 'solstice', 'capitol', 'hill']\n",
      "Original tweet:\n",
      "More #tinyepic things #tinyepicwestern, this one is crazy @user I may be one of your…\n",
      "Tokenized tweet:\n",
      "['more', '<unk>', 'things', '<unk>', ',', 'this', 'one', 'is', 'crazy', 'user', 'i', 'may', 'be', 'one', 'of', 'your…']\n",
      "Original tweet:\n",
      "Last night ️ @ Omnia Night Club At Caesars Palace\n",
      "Tokenized tweet:\n",
      "['last', 'night', 'omnia', 'night', 'club', 'at', 'caesars', 'palace']\n",
      "Original tweet:\n",
      "friendship at its finest. ....#pixar #toystory #buzz #woody #friends #friendship #bff…\n",
      "Tokenized tweet:\n",
      "['friendship', 'at', 'its', 'finest', '.', '.', '.', '.', '<unk>', '<unk>', 'buzz', 'woody', 'friends', 'friendship', 'bff…']\n"
     ]
    }
   ],
   "source": [
    "for i in range(10):\n",
    "    print('Original tweet:')\n",
    "    print(tweet_ds['train'][i]['text'])\n",
    "    print('Tokenized tweet:')\n",
    "    print(tweet_ds['train'][i]['tokens'])"
   ]
  },
  {
   "cell_type": "markdown",
   "metadata": {
    "collapsed": false,
    "pycharm": {
     "name": "#%% md\n"
    }
   },
   "source": [
    "Make sure that the tokenization works as you intended. If not, revisit the cleaning and tokenization functions."
   ]
  },
  {
   "cell_type": "markdown",
   "metadata": {},
   "source": [
    "### Exercise 6: Questions about the tokenization\n",
    "1. (3p) How many unknown tokens are in the validation dataset after tokenization?\n",
    "2. (3p) What is the distribution of the number of tokens in the training dataset?\n",
    "3. (4p) How the number of tokens corresponds to the number of characters in our dataset?\n",
    "4. (4p) How the size of the vocabulary (```max_vocab_size```) affects the number of unknown tokens?\n",
    "5. (4p) How does the size of the vocabulary affect the number of tokens in the dataset?\n",
    "6. (4p) Think about the advantages and disadvantages of the tokenization method we used. What are the cases when it will not work well?\n",
    "\n",
    "For answering these questions make sure to include a proper mix of numbers/plots/tables etc. and comments."
   ]
  },
  {
   "cell_type": "code",
   "execution_count": 77,
   "metadata": {},
   "outputs": [
    {
     "name": "stdout",
     "output_type": "stream",
     "text": [
      "8341\n"
     ]
    }
   ],
   "source": [
    "count = 0\n",
    "for tweet in tweet_ds['validation']:\n",
    "    text = tweet['tokens']\n",
    "    for token in text:\n",
    "        if token == '<unk>':\n",
    "            count += 1\n",
    "\n",
    "print(count)"
   ]
  },
  {
   "cell_type": "code",
   "execution_count": 78,
   "metadata": {},
   "outputs": [
    {
     "data": {
      "image/png": "[encoded data removed]",
      "text/plain": [
       "<Figure size 640x480 with 1 Axes>"
      ]
     },
     "metadata": {},
     "output_type": "display_data"
    }
   ],
   "source": [
    "tokens_per_tweet = [len(tweet['tokens']) for tweet in tweet_ds['train']]\n",
    "\n",
    "plt.hist(tokens_per_tweet, bins=40)\n",
    "plt.title(\"Distribution of Token Counts per Tweet\")\n",
    "plt.xlabel(\"Number of Tokens\")\n",
    "plt.ylabel(\"Number of Tweets\")\n",
    "plt.tight_layout()\n",
    "plt.show()"
   ]
  },
  {
   "cell_type": "code",
   "execution_count": 79,
   "metadata": {},
   "outputs": [
    {
     "name": "stdout",
     "output_type": "stream",
     "text": [
      "total tokens:  555056\n",
      "total chars:  3195761\n",
      "av  5.757546986250036\n"
     ]
    },
    {
     "data": {
      "image/png": "[encoded data removed]",
      "text/plain": [
       "<Figure size 640x480 with 1 Axes>"
      ]
     },
     "metadata": {},
     "output_type": "display_data"
    }
   ],
   "source": [
    "from statistics import mean\n",
    "\n",
    "total_tokens = 0\n",
    "for tweet in tweet_ds['train']:\n",
    "    total_tokens += len(tweet['tokens'])\n",
    "\n",
    "total_characters = 0\n",
    "for tweet in tweet_ds['train']:\n",
    "    total_characters += len(tweet['text'])\n",
    "\n",
    "print('total tokens: ', total_tokens)\n",
    "print('total chars: ', total_characters)\n",
    "print('av ', total_characters/total_tokens)\n",
    "\n",
    "mean_token_length_per_tweet = [mean([len(token) for token in tweet['tokens']]) for tweet in tweet_ds['train']]\n",
    "plt.hist(mean_token_length_per_tweet, bins=40)\n",
    "plt.title(\"Distribution of Token Length\")\n",
    "plt.xlabel(\"Frequency\")\n",
    "plt.ylabel(\"Token Length\")\n",
    "plt.tight_layout()\n",
    "plt.show()"
   ]
  },
  {
   "cell_type": "code",
   "execution_count": 80,
   "metadata": {},
   "outputs": [
    {
     "data": {
      "image/png": "[encoded data removed]",
      "text/plain": [
       "<Figure size 1000x500 with 1 Axes>"
      ]
     },
     "metadata": {},
     "output_type": "display_data"
    }
   ],
   "source": [
    "results = []\n",
    "\n",
    "max_vocab_sizes = [100, 500, 1000, 2000, 5000, 10000, 20000, 50000]\n",
    "\n",
    "for max_vocab_size in max_vocab_sizes:\n",
    "    vocab = vocab_counter.most_common(max_vocab_size)\n",
    "    vocab = [word for word, _ in vocab]\n",
    "\n",
    "    unknown_count = 0\n",
    "    total_count = 0\n",
    "\n",
    "    for tweet in tweet_ds['train']:\n",
    "        text = tweet['clean']\n",
    "        total_count += len(text)\n",
    "        for token in text.split():\n",
    "            if token not in vocab:\n",
    "                unknown_count += 1\n",
    "\n",
    "    results.append({\n",
    "        'vocab_size': max_vocab_size,\n",
    "        'unknown_tokens': unknown_count,\n",
    "        'total_tokens': total_count,\n",
    "        'percentage_unknown': round(unknown_count / total_count * 100, 2)\n",
    "    })\n",
    "\n",
    "df_unknowns = pd.DataFrame(results)\n",
    "\n",
    "# probably a log plot may be more appropriate but I thought that this illustrates the relationship more intuitively\n",
    "df_unknowns.plot(x='vocab_size', y='unknown_tokens', kind='line', marker='o', figsize=(10, 5))\n",
    "plt.title(\"Effect of Vocab Size on Number of Unknown Tokens\")\n",
    "plt.xlabel(\"Max Vocabulary Size\")\n",
    "plt.ylabel(\"Unknown Tokens\")\n",
    "plt.grid(True)\n",
    "plt.show()"
   ]
  },
  {
   "cell_type": "markdown",
   "metadata": {
    "collapsed": false,
    "pycharm": {
     "name": "#%% md\n"
    }
   },
   "source": [
    "## 3. Byte Pair Encoding\n",
    "\n",
    "In this section, you will build the Byte Pair Encoding (BPE) tokenizer. BPE is an algorithm that replaces the most frequent pair of tokens (initially characters) with a new token. The algorithm is configured by the number of merges that are performed. You can find the paper here [Neural Machine Translation of Rare Words with Subword Units](https://arxiv.org/abs/1508.07909)."
   ]
  },
  {
   "cell_type": "markdown",
   "metadata": {
    "collapsed": false,
    "pycharm": {
     "name": "#%% md\n"
    }
   },
   "source": [
    "### 3.1 Finding the initial set of characters\n",
    "BPE algorithm starts with the set of characters that occur in the dataset. We will build a character counter from the dataset."
   ]
  },
  {
   "cell_type": "markdown",
   "metadata": {
    "collapsed": false,
    "pycharm": {
     "name": "#%% md\n"
    }
   },
   "source": [
    "### Exercise 7: Counting the characters\n",
    "\n",
    "(5p) In this exercise, we build a counter with the frequencies of all characters in the dataset. Iterate over the dataset and count the characters in the `clean` column. The function returns a `Counter` object with the characters and their frequencies."
   ]
  },
  {
   "cell_type": "code",
   "execution_count": 81,
   "metadata": {
    "collapsed": false,
    "pycharm": {
     "name": "#%%\n"
    }
   },
   "outputs": [],
   "source": [
    "def build_character_counter(dataset):\n",
    "    \"\"\"\n",
    "    Builds a character counter from the dataset\n",
    "    Args:\n",
    "        dataset: a dataset\n",
    "\n",
    "    Returns: a character counter\n",
    "\n",
    "    \"\"\"\n",
    "    char_counter = Counter()\n",
    "\n",
    "    ### YOUR CODE HERE\n",
    "\n",
    "    for tweet in dataset:\n",
    "        text = tweet['clean']\n",
    "        char_counter.update(text)\n",
    "\n",
    "    ### YOUR CODE ENDS HERE\n",
    "\n",
    "    return char_counter"
   ]
  },
  {
   "cell_type": "markdown",
   "metadata": {
    "collapsed": false,
    "pycharm": {
     "name": "#%% md\n"
    }
   },
   "source": [
    "The next cell applies the function to the training dataset and prints the size of the vocabulary and the most common characters."
   ]
  },
  {
   "cell_type": "code",
   "execution_count": 82,
   "metadata": {
    "collapsed": false,
    "pycharm": {
     "name": "#%%\n"
    }
   },
   "outputs": [
    {
     "name": "stdout",
     "output_type": "stream",
     "text": [
      "496\n",
      "[(' ', 510056), ('e', 263859), ('a', 222430), ('o', 191294), ('t', 187223), ('i', 176273), ('s', 172296), ('n', 157316), ('r', 152188), ('l', 122292), ('h', 106440), ('d', 81100), ('u', 79862), ('m', 73881), ('c', 73644), ('y', 70573), ('g', 62967), ('f', 54175), ('p', 51445), ('w', 47023), ('b', 46238), ('k', 31217), ('v', 30824), ('.', 22551), ('…', 19238), ('!', 16412), (',', 12385), ('j', 6660), ('x', 4469), ('1', 4449), ('z', 4402), ('2', 3592), ('0', 3541), (':', 2784), ('_', 2585), (';', 2354), ('q', 2078), ('6', 1852), ('/', 1711), ('?', 1606), ('5', 1561), ('3', 1430), ('4', 1096), ('️', 949), ('7', 945), ('|', 908), ('9', 817), ('8', 761), ('•', 693), ('・', 642), ('+', 288), ('~', 156), ('—', 130), ('é', 126), ('=', 110), ('’', 84), ('“', 79), ('⠀', 74), ('ñ', 44), ('♡', 31), ('”', 28), ('о', 25), ('▃', 24), ('и', 23), ('͟', 18), ('\\\\', 18), ('р', 17), ('ン', 15), ('▄', 15), ('н', 12), ('ا', 12), ('ᴵ', 12), ('а', 11), ('б', 10), ('ア', 10), ('¡', 10), ('ˢ', 10), ('á', 9), ('︎', 9), ('í', 9), ('к', 8), ('ー', 8), ('è', 8), ('φ', 8), ('ᴬ', 8), ('ᴱ', 8), ('α', 8), ('ス', 7), ('–', 7), ('σ', 7), ('δ', 7), ('д', 7), ('й', 7), ('ч', 7), ('т', 6), ('レ', 6), ('リ', 6), ('カ', 6), ('留', 6), ('学', 6)]\n"
     ]
    }
   ],
   "source": [
    "char_counter = build_character_counter(tweet_ds['train'])\n",
    "print(len(char_counter))\n",
    "print(char_counter.most_common(100))"
   ]
  },
  {
   "cell_type": "markdown",
   "metadata": {
    "collapsed": false,
    "pycharm": {
     "name": "#%% md\n"
    }
   },
   "source": [
    "We will filter the characters that occur less than 10 times in the dataset. We will also replace the space character with the `__` token. This is necessary because we want to preserve the spaces between the words in the tokenization process."
   ]
  },
  {
   "cell_type": "code",
   "execution_count": 83,
   "metadata": {
    "collapsed": false,
    "pycharm": {
     "name": "#%%\n"
    }
   },
   "outputs": [
    {
     "name": "stdout",
     "output_type": "stream",
     "text": [
      "['__', '!', '+', ',', '.', '/', '0', '1', '2', '3', '4', '5', '6', '7', '8', '9', ':', ';', '=', '?', '\\\\', '_', 'a', 'b', 'c', 'd', 'e', 'f', 'g', 'h', 'i', 'j', 'k', 'l', 'm', 'n', 'o', 'p', 'q', 'r', 's', 't', 'u', 'v', 'w', 'x', 'y', 'z', '|', '~', '¡', 'é', 'ñ', 'ˢ', '͟', 'а', 'б', 'и', 'н', 'о', 'р', 'ا', 'ᴵ', '—', '’', '“', '”', '•', '…', '▃', '▄', '♡', '⠀', 'ア', 'ン', '・', '️']\n"
     ]
    }
   ],
   "source": [
    "bpe_init_vocab = sorted([char for char, _ in char_counter.most_common() if char_counter[char] >= 10])\n",
    "bpe_init_vocab[bpe_init_vocab.index(' ')] = '__'\n",
    "print(bpe_init_vocab)"
   ]
  },
  {
   "cell_type": "markdown",
   "metadata": {
    "collapsed": false,
    "pycharm": {
     "name": "#%% md\n"
    }
   },
   "source": [
    "### 3.2 Training the BPE tokenizer\n",
    "\n",
    "In this section, we will implement the BPE algorithm. We will start by initializing the BPE corpus. The corpus is a list of words from the dataset with their frequency. This makes it easier to find the most frequent pairs of neighbouring tokens (or characters in the beginning). Each word is split into characters and the space (the ```__``` token) is added at the end of each word."
   ]
  },
  {
   "cell_type": "code",
   "execution_count": 84,
   "metadata": {
    "collapsed": false,
    "pycharm": {
     "name": "#%%\n"
    }
   },
   "outputs": [],
   "source": [
    "def init_bpe_corpus(dataset):\n",
    "    \"\"\"\n",
    "    Initializes the BPE corpus\n",
    "    Args:\n",
    "        dataset: a dataset\n",
    "\n",
    "    Returns: a BPE corpus\n",
    "\n",
    "    \"\"\"\n",
    "\n",
    "    corpus = Counter()\n",
    "    for example in dataset:\n",
    "        words = example['clean'].split()\n",
    "        words = [' '.join(list(word)) + ' __' for word in words]\n",
    "        corpus.update(words)\n",
    "    return corpus"
   ]
  },
  {
   "cell_type": "code",
   "execution_count": 85,
   "metadata": {
    "collapsed": false,
    "pycharm": {
     "name": "#%%\n"
    }
   },
   "outputs": [
    {
     "name": "stdout",
     "output_type": "stream",
     "text": [
      "60513\n"
     ]
    }
   ],
   "source": [
    "bpe_corpus = init_bpe_corpus(tweet_ds['train'])\n",
    "print(len(bpe_corpus))"
   ]
  },
  {
   "cell_type": "markdown",
   "metadata": {
    "collapsed": false,
    "pycharm": {
     "name": "#%% md\n"
    }
   },
   "source": [
    "We can check the most common words in the corpus along with their frequencies."
   ]
  },
  {
   "cell_type": "code",
   "execution_count": 86,
   "metadata": {
    "collapsed": false,
    "pycharm": {
     "name": "#%%\n"
    }
   },
   "outputs": [
    {
     "data": {
      "text/plain": [
       "[('. __', 22551),\n",
       " ('! __', 16412),\n",
       " ('t h e __', 13458),\n",
       " (', __', 12385),\n",
       " ('u s e r __', 12236),\n",
       " ('t o __', 7661),\n",
       " ('m y __', 7520),\n",
       " ('a __', 6830),\n",
       " ('i __', 6731),\n",
       " ('i n __', 5937),\n",
       " ('a n d __', 5603),\n",
       " ('y o u __', 5214),\n",
       " ('w i t h __', 5169),\n",
       " ('o f __', 5032),\n",
       " ('f o r __', 4746),\n",
       " ('t h i s __', 4520),\n",
       " ('c a l i f o r n i a __', 4337),\n",
       " ('a t __', 3579),\n",
       " ('i s __', 3479),\n",
       " ('l o v e __', 3454),\n",
       " ('… __', 3170),\n",
       " (': __', 2784),\n",
       " ('o n __', 2765),\n",
       " ('; __', 2354),\n",
       " ('s o __', 2265),\n",
       " ('m e __', 2244),\n",
       " ('i t __', 2231),\n",
       " ('a m p __', 2020),\n",
       " ('h a p p y __', 1910),\n",
       " ('d a y __', 1909)]"
      ]
     },
     "execution_count": 86,
     "metadata": {},
     "output_type": "execute_result"
    }
   ],
   "source": [
    "bpe_corpus.most_common(30)"
   ]
  },
  {
   "cell_type": "markdown",
   "metadata": {
    "collapsed": false,
    "pycharm": {
     "name": "#%% md\n"
    }
   },
   "source": [
    "Our BPE implementation will consist of the following steps:\n",
    "1. Calculate the frequency statistics of adjacent symbol pairs in the corpus.\n",
    "2. Find the most frequent pair.\n",
    "3. Merge the most frequent pair.\n",
    "4. Repeat until the specified number of merges is reached.\n",
    "\n",
    "The following function calculates the frequency statistics of adjacent symbol pairs in the corpus."
   ]
  },
  {
   "cell_type": "markdown",
   "metadata": {
    "collapsed": false,
    "pycharm": {
     "name": "#%% md\n"
    }
   },
   "source": [
    "### Exercise 8: Calculate the frequency statistics of adjacent symbol pairs\n",
    "(5p) Fill in the function below to calculate the frequency statistics of adjacent symbol pairs in the corpus. The function returns a Counter object with the counts of adjacent token pairs. The pairs are represented as tuples of two tokens (e.g., `('cali', 'for')`)."
   ]
  },
  {
   "cell_type": "code",
   "execution_count": 54,
   "metadata": {
    "collapsed": false,
    "pycharm": {
     "name": "#%%\n"
    }
   },
   "outputs": [],
   "source": [
    "def calculate_bpe_corpus_stats(corpus):\n",
    "    \"\"\"\n",
    "    Calculates the frequency statistics of adjacent symbol pairs in the corpus.\n",
    "    Args:\n",
    "        corpus: a BPE corpus as a Counter object with words split by space into tokens (initially characters)\n",
    "\n",
    "    Returns: a Counter object with the frequency statistics of adjacent symbol pairs\n",
    "    \"\"\"\n",
    "    stats = Counter()\n",
    "\n",
    "    for word, freq in corpus.items():\n",
    "\n",
    "        ### YOUR CODE HERE\n",
    "\n",
    "        # Split the word into symbols and iterate over adjacent symbol pairs - merge adj symbols\n",
    "        symbols = word.split()\n",
    "        for i in range(len(symbols) - 1):\n",
    "            pair = (symbols[i], symbols[i + 1])\n",
    "            stats[pair] += freq\n",
    "\n",
    "        ### YOUR CODE ENDS HERE\n",
    "\n",
    "    return stats"
   ]
  },
  {
   "cell_type": "markdown",
   "metadata": {
    "collapsed": false,
    "pycharm": {
     "name": "#%% md\n"
    }
   },
   "source": [
    "We can check the most common pairs of characters in the initial corpus."
   ]
  },
  {
   "cell_type": "code",
   "execution_count": 55,
   "metadata": {
    "collapsed": false,
    "pycharm": {
     "name": "#%%\n"
    }
   },
   "outputs": [
    {
     "name": "stdout",
     "output_type": "stream",
     "text": [
      "[(('e', '__'), 75710), (('s', '__'), 57594), (('t', '__'), 43588), (('t', 'h'), 42897), (('e', 'r'), 42178), (('i', 'n'), 40473), (('y', '__'), 39871), (('r', '__'), 36838), (('a', 'n'), 35146), (('n', '__'), 31986)]\n"
     ]
    }
   ],
   "source": [
    "stats = calculate_bpe_corpus_stats(bpe_corpus)\n",
    "print(stats.most_common(10))"
   ]
  },
  {
   "cell_type": "markdown",
   "metadata": {
    "collapsed": false,
    "pycharm": {
     "name": "#%% md\n"
    }
   },
   "source": [
    "Next, we will implement the function that merges the most frequent pair of symbols in the corpus. The function takes the corpus and the most frequent pair of symbols as input and returns the updated corpus."
   ]
  },
  {
   "cell_type": "code",
   "execution_count": 56,
   "metadata": {
    "collapsed": false,
    "pycharm": {
     "name": "#%%\n"
    }
   },
   "outputs": [],
   "source": [
    "def merge_corpus(corpus, pair):\n",
    "    \"\"\"\n",
    "    Merges the most frequent pair of symbols in the corpus.\n",
    "    Args:\n",
    "        corpus (dict): Keys are words as space-separated symbols (e.g., \"l o w\"),\n",
    "                       and values are the frequency counts.\n",
    "        pair (tuple): A pair of symbols to merge.\n",
    "\n",
    "    Returns:\n",
    "        dict: Updated corpus after merging the pair of symbols.\n",
    "    \"\"\"\n",
    "    new_corpus = Counter()\n",
    "    bigram = \" \".join(pair)\n",
    "    replacement = \"\".join(pair)\n",
    "    for word, freq in corpus.items():\n",
    "        new_word = word.replace(bigram, replacement)\n",
    "        new_corpus[new_word] = freq\n",
    "    return new_corpus"
   ]
  },
  {
   "cell_type": "markdown",
   "metadata": {
    "collapsed": false,
    "pycharm": {
     "name": "#%% md\n"
    }
   },
   "source": [
    "The last step is to implement the BPE algorithm. The function takes the initial vocabulary, the corpus, and the number of merges as input. It returns the updated vocabulary, corpus, and the list of merges.\n",
    "Returning the list of merges is useful for the tokenization process - it makes it faster to tokenize the text. It contains the tuples of the two tokens that were merged. For example, ('to', 'day__') will merge the tokens 'to' and 'day__' into the 'today__' token."
   ]
  },
  {
   "cell_type": "markdown",
   "metadata": {
    "collapsed": false,
    "pycharm": {
     "name": "#%% md\n"
    }
   },
   "source": [
    "### Exercise 9: BPE algorithm\n",
    "\n",
    "(10p) Implement the BPE algorithm in the following function. The function should return the updated vocabulary, corpus, and the list of merges. The function should perform the specified number of merges. The vocabulary is a list of tokens, the corpus is a Counter object with the words split by space into tokens, and the merges is a list of tuples with the merged tokens.\n",
    "\n",
    "You should use the functions you implemented earlier in this section (```calculate_bpe_corpus_stats()```, ```merge_corpus()```)."
   ]
  },
  {
   "cell_type": "code",
   "execution_count": 57,
   "metadata": {
    "collapsed": false,
    "pycharm": {
     "name": "#%%\n"
    }
   },
   "outputs": [],
   "source": [
    "def bpe(vocab, corpus, num_merges):\n",
    "    \"\"\"\n",
    "    Applies the BPE algorithm to the corpus. Merges the most frequent adjacent symbol pairs. The function performs the specified number of merges.\n",
    "\n",
    "    Args:\n",
    "        vocab (list): A list of tokens representing the BPE vocabulary.\n",
    "        corpus (Counter): A Counter object with words split by space into tokens.\n",
    "        num_merges (int): The number of merges to perform.\n",
    "\n",
    "    Returns:\n",
    "        list: Updated vocabulary.\n",
    "        Counter: Updated corpus.\n",
    "        list: List of merges.\n",
    "    \"\"\"\n",
    "    vocab = vocab.copy()\n",
    "    corpus = corpus.copy()\n",
    "    merges = []\n",
    "\n",
    "    for i in tqdm.tqdm(range(num_merges)):\n",
    "        ### YOUR CODE HERE\n",
    "    # get the most common adjustent sympbol pair from the CURRENT corpus\n",
    "        stats = calculate_bpe_corpus_stats(corpus)\n",
    "        best_pair = stats.most_common(1)[0][0]\n",
    "\n",
    "    # merge the most common pair in the corpus and UPDATE the corpus\n",
    "        corpus = merge_corpus(corpus, best_pair)\n",
    "\n",
    "    # add the merged pair to the vocabulary\n",
    "        vocab.append(\"\".join(best_pair))\n",
    "\n",
    "    # REGISTER the merging operation\n",
    "        merges.append(best_pair)\n",
    "\n",
    "        ### YOUR CODE ENDS HERE\n",
    "    return vocab, corpus, merges"
   ]
  },
  {
   "cell_type": "markdown",
   "metadata": {
    "collapsed": false,
    "pycharm": {
     "name": "#%% md\n"
    }
   },
   "source": [
    "The following cell applies the BPE algorithm to the initial vocabulary and corpus. We will perform 100 merges at first, but you will experiment with different numbers."
   ]
  },
  {
   "cell_type": "code",
   "execution_count": 58,
   "metadata": {
    "collapsed": false,
    "pycharm": {
     "name": "#%%\n"
    }
   },
   "outputs": [
    {
     "name": "stderr",
     "output_type": "stream",
     "text": [
      "100%|██████████| 100/100 [00:23<00:00,  4.20it/s]\n"
     ]
    }
   ],
   "source": [
    "bpe_vocab, updated_bpe_corpus, bpe_merges = bpe(bpe_init_vocab, bpe_corpus, num_merges=100)"
   ]
  },
  {
   "cell_type": "markdown",
   "metadata": {
    "collapsed": false,
    "pycharm": {
     "name": "#%% md\n"
    }
   },
   "source": [
    "We can check the size of the BPE vocabulary and the most common tokens."
   ]
  },
  {
   "cell_type": "code",
   "execution_count": 59,
   "metadata": {
    "collapsed": false,
    "pycharm": {
     "name": "#%%\n"
    }
   },
   "outputs": [
    {
     "name": "stdout",
     "output_type": "stream",
     "text": [
      "176\n",
      "['__', '!', '+', ',', '.', '/', '0', '1', '2', '3', '4', '5', '6', '7', '8', '9', ':', ';', '=', '?', '\\\\', '_', 'a', 'b', 'c', 'd', 'e', 'f', 'g', 'h', 'i', 'j', 'k', 'l', 'm', 'n', 'o', 'p', 'q', 'r', 's', 't', 'u', 'v', 'w', 'x', 'y', 'z', '|', '~', '¡', 'é', 'ñ', 'ˢ', '͟', 'а', 'б', 'и', 'н', 'о', 'р', 'ا', 'ᴵ', '—', '’', '“', '”', '•', '…', '▃', '▄', '♡', '⠀', 'ア', 'ン', '・', 'e__', 's__', 't__', 'th', 'er', 'in', 'y__', 'an', 'd__', 'or', 'a__', 'er__', '.__', 'on', 'o__', 'al', 'ou', 'ar', '…__', 'ing', 'en', 'us', '!__', 'st', 'ing__', 'ch', 're', 'the__', 'lo', ',__', 'l__', 'user__', 'at', 'am', 'for', 'da', 'el', 'it', 'om', 'ri', 'k__', 'es__', 'on__', 'is__', 'be', 'la', 'ho', 'to__', 'in__', 'ni', 'i__', 'you', 'my__', 'of', 'li', 'p__', 've__', 'ha', 'day__', 'il', 'oo', 'es', 'is', 'w__', 'gh', 'and__', 'as__', 'un', 'ir', 'ne', 'with', 'ac', 'ti', 'you__']\n"
     ]
    }
   ],
   "source": [
    "print(len(bpe_vocab))\n",
    "print(bpe_vocab[:150])"
   ]
  },
  {
   "cell_type": "markdown",
   "metadata": {
    "collapsed": false,
    "pycharm": {
     "name": "#%% md\n"
    }
   },
   "source": [
    "We can also check the most common merges."
   ]
  },
  {
   "cell_type": "code",
   "execution_count": 60,
   "metadata": {
    "collapsed": false,
    "pycharm": {
     "name": "#%%\n"
    }
   },
   "outputs": [
    {
     "name": "stdout",
     "output_type": "stream",
     "text": [
      "[('e', '__'), ('s', '__'), ('t', '__'), ('t', 'h'), ('e', 'r'), ('i', 'n'), ('y', '__'), ('a', 'n'), ('d', '__'), ('o', 'r'), ('a', '__'), ('er', '__'), ('.', '__'), ('o', 'n'), ('o', '__'), ('a', 'l'), ('o', 'u'), ('a', 'r'), ('…', '__'), ('in', 'g'), ('e', 'n'), ('u', 's'), ('!', '__'), ('s', 't'), ('ing', '__'), ('c', 'h'), ('r', 'e'), ('th', 'e__'), ('l', 'o'), (',', '__'), ('l', '__'), ('us', 'er__'), ('a', 't'), ('a', 'm'), ('f', 'or'), ('d', 'a'), ('e', 'l'), ('i', 't'), ('o', 'm'), ('r', 'i'), ('k', '__'), ('e', 's__'), ('on', '__'), ('i', 's__'), ('b', 'e'), ('l', 'a'), ('h', 'o'), ('t', 'o__'), ('in', '__'), ('n', 'i'), ('i', '__'), ('y', 'ou'), ('m', 'y__'), ('o', 'f'), ('l', 'i'), ('p', '__'), ('v', 'e__'), ('h', 'a'), ('da', 'y__'), ('i', 'l'), ('o', 'o'), ('e', 's'), ('i', 's'), ('w', '__'), ('g', 'h'), ('an', 'd__'), ('a', 's__'), ('u', 'n'), ('i', 'r'), ('n', 'e'), ('w', 'ith'), ('a', 'c'), ('t', 'i'), ('you', '__'), ('an', '__'), ('s', 'e'), ('with', '__'), ('l', 'e'), ('of', '__'), ('r', 'o'), ('c', 'ali'), ('t', 'o'), ('for', '__'), ('cali', 'for'), ('califor', 'ni'), ('p', 'p'), ('i', 'c'), ('th', 'is__'), ('m', '__'), ('californi', 'a__'), ('a', 'd'), ('a', 's'), ('m', 'e__'), ('v', 'e'), ('r', '__'), ('lo', 've__'), ('en', '__'), ('a', 'k'), ('gh', 't__'), ('e', 'd__')]\n"
     ]
    }
   ],
   "source": [
    "print(bpe_merges[:150])"
   ]
  },
  {
   "cell_type": "markdown",
   "metadata": {
    "collapsed": false,
    "pycharm": {
     "name": "#%% md\n"
    }
   },
   "source": [
    "### 3.3 Tokenizing the text using BPE\n",
    "\n",
    "With the tokenizer trained we can now tokenize the text using the BPE vocabulary. We will first build a function that tokenizes any text using our BPE tokenizer (vocabulary and merges). Next we will apply it to our dataset.\n",
    "\n",
    "The following function tokenizes the text using the BPE vocabulary. It replaces the most frequent pairs of tokens with the new token. The function also replaces the tokens that are not in the vocabulary with the `<unk>` token."
   ]
  },
  {
   "cell_type": "code",
   "execution_count": 61,
   "metadata": {
    "collapsed": false,
    "pycharm": {
     "name": "#%%\n"
    }
   },
   "outputs": [
    {
     "name": "stdout",
     "output_type": "stream",
     "text": [
      "['s', 'un', 'day__', 'a', 'f', 't', 'er', 'n', 'o', 'on__', 'w', 'al', 'k', 'ing__', 'th', 'r', 'ou', 'gh', '__', 'v', 'en', 'ic', 'e__', 'in__', 'the__', 's', 'un', '__', 'w', 'i', 'th', '__', 'user__', 'a', 'b', 'b', 'o', 't__', 'k', 'in', 'ne', 'y__', ',__', 'v', 'en', 'ic', 'e__', '<unk>']\n"
     ]
    }
   ],
   "source": [
    "def apply_bpe_tokenization(text, vocab, merges, unk_token='<unk>'):\n",
    "    \"\"\"\n",
    "    Tokenizes the text using BPE vocabulary, preserving spaces as '__'.\n",
    "\n",
    "    Args:\n",
    "        text (str): The input text to be tokenized.\n",
    "        vocab (set): A set containing the BPE vocabulary tokens.\n",
    "\n",
    "    Returns:\n",
    "        list: A list of tokens representing the input text.\n",
    "    \"\"\"\n",
    "\n",
    "    words = re.split(r'\\s', text)\n",
    "    words = [' ' + ' '.join(list(word)) + (' __ ' if i < len(words) - 1 else ' ') for i, word in enumerate(words)]\n",
    "\n",
    "    bpe_tokens = []\n",
    "\n",
    "    for i, word in enumerate(words):\n",
    "        for merge in merges:\n",
    "            word = word.replace(' ' + ' '.join(merge) + ' ', ' ' + ''.join(merge) + ' ')\n",
    "        bpe_tokens.extend(word.split())\n",
    "\n",
    "    for i, token in enumerate(bpe_tokens):\n",
    "        if token not in vocab:\n",
    "            bpe_tokens[i] = unk_token\n",
    "    return bpe_tokens\n",
    "\n",
    "\n",
    "# A test example with a special character. Is the character tokenized correctly as <unk> token?\n",
    "print(apply_bpe_tokenization(tweet_ds['train'][0]['clean'] + ' 🇺', bpe_vocab, bpe_merges))"
   ]
  },
  {
   "cell_type": "markdown",
   "metadata": {
    "collapsed": false,
    "pycharm": {
     "name": "#%% md\n"
    }
   },
   "source": [
    "The function below will apply our BPE tokenizer to the dataset. It will add a new column `bpe_tokens` to each example."
   ]
  },
  {
   "cell_type": "code",
   "execution_count": 62,
   "metadata": {
    "collapsed": false,
    "pycharm": {
     "name": "#%%\n"
    }
   },
   "outputs": [
    {
     "data": {
      "application/vnd.jupyter.widget-view+json": {
       "model_id": "f7cc85c740f142898d43186a5c232f49",
       "version_major": 2,
       "version_minor": 0
      },
      "text/plain": [
       "Map:   0%|          | 0/45000 [00:00<?, ? examples/s]"
      ]
     },
     "metadata": {},
     "output_type": "display_data"
    },
    {
     "data": {
      "application/vnd.jupyter.widget-view+json": {
       "model_id": "9248dc2174304d0b852cf6ca3dfa6d7a",
       "version_major": 2,
       "version_minor": 0
      },
      "text/plain": [
       "Map:   0%|          | 0/50000 [00:00<?, ? examples/s]"
      ]
     },
     "metadata": {},
     "output_type": "display_data"
    },
    {
     "data": {
      "application/vnd.jupyter.widget-view+json": {
       "model_id": "c807f7bfab12454a94988448326ada54",
       "version_major": 2,
       "version_minor": 0
      },
      "text/plain": [
       "Map:   0%|          | 0/5000 [00:00<?, ? examples/s]"
      ]
     },
     "metadata": {},
     "output_type": "display_data"
    },
    {
     "name": "stdout",
     "output_type": "stream",
     "text": [
      "DatasetDict({\n",
      "    train: Dataset({\n",
      "        features: ['text', 'label', 'text_length', 'clean', 'tokens', 'bpe_tokens'],\n",
      "        num_rows: 45000\n",
      "    })\n",
      "    test: Dataset({\n",
      "        features: ['text', 'label', 'text_length', 'clean', 'tokens', 'bpe_tokens'],\n",
      "        num_rows: 50000\n",
      "    })\n",
      "    validation: Dataset({\n",
      "        features: ['text', 'label', 'text_length', 'clean', 'tokens', 'bpe_tokens'],\n",
      "        num_rows: 5000\n",
      "    })\n",
      "})\n"
     ]
    }
   ],
   "source": [
    "def tokenize_bpe(example, vocab, merges, unk_token='<unk>'):\n",
    "    \"\"\"\n",
    "    Tokenizes the example from the Dataset using BPE\n",
    "    Args:\n",
    "        example: an example from the Dataset\n",
    "        vocab: a BPE vocabulary\n",
    "\n",
    "    Returns: update example containing 'bpe_tokens' column\n",
    "\n",
    "    \"\"\"\n",
    "    text = example['clean']\n",
    "    bpe_tokens = apply_bpe_tokenization(text, vocab, merges, unk_token)\n",
    "    example['bpe_tokens'] = bpe_tokens\n",
    "    return example\n",
    "\n",
    "tweet_ds = tweet_ds.map(tokenize_bpe, fn_kwargs={'vocab': bpe_vocab, 'merges': bpe_merges})\n",
    "print(tweet_ds)"
   ]
  },
  {
   "cell_type": "markdown",
   "metadata": {
    "collapsed": false,
    "pycharm": {
     "name": "#%% md\n"
    }
   },
   "source": [
    "We will inspect the both tokenizations of several examples from the ```validation``` subset. Try to find the ```<unk>``` tokens in the printed examples."
   ]
  },
  {
   "cell_type": "code",
   "execution_count": 63,
   "metadata": {
    "collapsed": false,
    "pycharm": {
     "name": "#%%\n"
    }
   },
   "outputs": [
    {
     "name": "stdout",
     "output_type": "stream",
     "text": [
      "Original tweet:\n",
      "A little throwback with my favourite person @ Water Wall\n",
      "Word tokenization:\n",
      "['a', 'little', 'throwback', 'with', 'my', 'favourite', 'person', 'water', 'wall']\n",
      "BPE tokenization:\n",
      "['a__', 'l', 'it', 't', 'l', 'e__', 'th', 'ro', 'w', 'b', 'ac', 'k__', 'w', 'i', 'th', '__', 'my__', 'f', 'a', 'v', 'ou', 'r', 'it', 'e__', 'p', 'er', 's', 'on__', 'w', 'at', 'er__', 'w', 'al', 'l']\n",
      "\n",
      "Original tweet:\n",
      "glam on @user yesterday for #kcon makeup using @user in #featherette,…\n",
      "Word tokenization:\n",
      "['glam', 'on', 'user', 'yesterday', 'for', 'kcon', 'makeup', 'using', 'user', 'in', '<unk>', ',', '…']\n",
      "BPE tokenization:\n",
      "['g', 'l', 'am', '__', 'on__', 'user__', 'y', 'e', 'st', 'er', 'day__', 'for__', 'k', 'c', 'on__', 'm', 'ak', 'e', 'u', 'p__', 'us', 'ing__', 'user__', 'in__', 'f', 'e', 'a', 'th', 'er', 'e', 't', 't', 'e__', ',__', '…']\n",
      "\n",
      "Original tweet:\n",
      "Democracy Plaza in the wake of a stunning outcome #Decision2016 @ NBC News\n",
      "Word tokenization:\n",
      "['<unk>', 'plaza', 'in', 'the', 'wake', 'of', 'a', 'stunning', '<unk>', '<unk>', '<unk>', 'news']\n",
      "BPE tokenization:\n",
      "['d', 'e', 'm', 'o', 'c', 'r', 'ac', 'y__', 'p', 'la', 'z', 'a__', 'in__', 'the__', 'w', 'ak', 'e__', 'of__', 'a__', 'st', 'un', 'n', 'ing__', 'ou', 't', 'c', 'om', 'e__', 'd', 'e', 'c', 'is', 'i', 'on', '2', '0', '1', '6', '__', 'n', 'b', 'c', '__', 'ne', 'w', 's']\n",
      "\n",
      "Original tweet:\n",
      "Then &amp; Now. VILO @ Walt Disney Magic Kingdom\n",
      "Word tokenization:\n",
      "['then', 'amp', ';', 'now', '.', '<unk>', 'walt', 'disney', 'magic', 'kingdom']\n",
      "BPE tokenization:\n",
      "['th', 'en__', 'am', 'p__', ';', '__', 'n', 'o', 'w__', '.__', 'v', 'il', 'o__', 'w', 'al', 't__', 'd', 'is', 'ne', 'y__', 'm', 'a', 'g', 'ic', '__', 'k', 'ing', 'd', 'om']\n",
      "\n",
      "Original tweet:\n",
      "Who never... @ A Galaxy Far Far Away\n",
      "Word tokenization:\n",
      "['who', 'never', '.', '.', '.', 'a', 'galaxy', 'far', 'far', 'away']\n",
      "BPE tokenization:\n",
      "['w', 'h', 'o__', 'ne', 'v', 'er__', '.__', '.__', '.__', 'a__', 'g', 'al', 'a', 'x', 'y__', 'f', 'ar', '__', 'f', 'ar', '__', 'a', 'w', 'a', 'y']\n",
      "\n",
      "Original tweet:\n",
      "Dinner in FLA tonight // Pan-seared salmon over couscous veggie salad #yum #dinner #florida #salmon…\n",
      "Word tokenization:\n",
      "['dinner', 'in', '<unk>', 'tonight', '//', '<unk>', 'salmon', 'over', '<unk>', 'veggie', 'salad', 'yum', 'dinner', '<unk>', '<unk>']\n",
      "BPE tokenization:\n",
      "['d', 'in', 'n', 'er__', 'in__', 'f', 'l', 'a__', 't', 'on', 'i', 'ght__', '/', '/', '__', 'p', 'an', 'se', 'ar', 'ed__', 's', 'al', 'm', 'on__', 'o', 'v', 'er__', 'c', 'ou', 's', 'c', 'ou', 's__', 've', 'g', 'g', 'i', 'e__', 's', 'al', 'a', 'd__', 'y', 'u', 'm__', 'd', 'in', 'n', 'er__', 'f', 'l', 'or', 'i', 'd', 'a__', 's', 'al', 'm', 'on', '…']\n",
      "\n",
      "Original tweet:\n",
      "It's my fav seniors last game congrats on beating west @ West Salem…\n",
      "Word tokenization:\n",
      "['its', 'my', 'fav', 'seniors', 'last', 'game', 'congrats', 'on', 'beating', 'west', 'west', '<unk>']\n",
      "BPE tokenization:\n",
      "['it', 's__', 'my__', 'f', 'a', 'v', '__', 's', 'en', 'i', 'or', 's__', 'la', 's', 't__', 'g', 'am', 'e__', 'c', 'on', 'g', 'r', 'at', 's__', 'on__', 'be', 'at', 'ing__', 'w', 'es', 't__', 'w', 'es', 't__', 's', 'al', 'e', 'm', '…']\n",
      "\n",
      "Original tweet:\n",
      "I got to to go formal with my best friend @ Phi Mu at JSU\n",
      "Word tokenization:\n",
      "['i', 'got', 'to', 'to', 'go', 'formal', 'with', 'my', 'best', 'friend', 'phi', 'mu', 'at', '<unk>']\n",
      "BPE tokenization:\n",
      "['i__', 'g', 'o', 't__', 'to__', 'to__', 'g', 'o__', 'for', 'm', 'al', '__', 'w', 'i', 'th', '__', 'my__', 'be', 's', 't__', 'f', 'ri', 'en', 'd__', 'p', 'h', 'i__', 'm', 'u', '__', 'a', 't__', 'j', 's', 'u']\n",
      "\n",
      "Original tweet:\n",
      "'Cause I Miss My Little Homies .#Throwback #CousinLove @ Indiana University\n",
      "Word tokenization:\n",
      "['cause', 'i', 'miss', 'my', 'little', 'homies', '.', 'throwback', 'cousinlove', '<unk>', 'university']\n",
      "BPE tokenization:\n",
      "['c', 'a', 'us', 'e__', 'i__', 'm', 'is', 's__', 'my__', 'l', 'it', 't', 'l', 'e__', 'h', 'om', 'i', 'es__', '.__', 'th', 'ro', 'w', 'b', 'ac', 'k__', 'c', 'ou', 's', 'in', 'love__', 'in', 'd', 'i', 'an', 'a__', 'u', 'ni', 'v', 'er', 's', 'it', 'y']\n",
      "\n",
      "Original tweet:\n",
      "Birthday Kisses @ Madison, Wisconsin\n",
      "Word tokenization:\n",
      "['birthday', 'kisses', 'madison', ',', '<unk>']\n",
      "BPE tokenization:\n",
      "['b', 'ir', 'th', 'day__', 'k', 'is', 's', 'es__', 'm', 'ad', 'is', 'on__', ',__', 'w', 'is', 'c', 'on', 's', 'in']\n",
      "\n"
     ]
    }
   ],
   "source": [
    "for i in range(10):\n",
    "    print('Original tweet:')\n",
    "    print(tweet_ds['validation'][i]['text'])\n",
    "    print('Word tokenization:')\n",
    "    print(tweet_ds['validation'][i]['tokens'])\n",
    "    print('BPE tokenization:')\n",
    "    print(tweet_ds['validation'][i]['bpe_tokens'])\n",
    "    print()"
   ]
  },
  {
   "cell_type": "markdown",
   "metadata": {},
   "source": [
    "### Exercise 10: Comparing tokenizers\n",
    "\n",
    "Train the BPE tokenizer with different number of merges. Compare the tokenization results with the word tokenization.\n",
    "1. (5p) What are the differences?\n",
    "2. (5p) Compare the number of tokens created by your tokenizers.\n",
    "3. (5p) Calculate the number of `<unk>` tokens in the validation dataset for each tokenizer.\n",
    "4. (5p) Compare the average length in tokens between different tokenizers.\n",
    "5. (5p) What are the advantages and disadvantages of the BPE tokenizer?"
   ]
  },
  {
   "cell_type": "code",
   "execution_count": null,
   "metadata": {},
   "outputs": [
    {
     "name": "stderr",
     "output_type": "stream",
     "text": [
      "  0%|          | 0/50 [00:00<?, ?it/s]"
     ]
    },
    {
     "name": "stderr",
     "output_type": "stream",
     "text": [
      "100%|██████████| 50/50 [00:04<00:00, 12.08it/s]\n",
      "100%|██████████| 100/100 [00:08<00:00, 12.36it/s]\n",
      "100%|██████████| 200/200 [00:15<00:00, 12.92it/s]\n",
      "100%|██████████| 500/500 [00:34<00:00, 14.54it/s]\n",
      "100%|██████████| 1000/1000 [01:01<00:00, 16.14it/s]\n"
     ]
    }
   ],
   "source": [
    "# GET BPEs with different number of merges for comparison\n",
    "bpe_vocab50, updated_bpe_corpus50, bpe_merges50 = bpe(bpe_init_vocab, bpe_corpus, num_merges=50)\n",
    "bpe_vocab100, updated_bpe_corpus100, bpe_merges100 = bpe(bpe_init_vocab, bpe_corpus, num_merges=100)\n",
    "bpe_vocab200, updated_bpe_corpus200, bpe_merges200 = bpe(bpe_init_vocab, bpe_corpus, num_merges=200)\n",
    "bpe_vocab500, updated_bpe_corpus500, bpe_merges500 = bpe(bpe_init_vocab, bpe_corpus, num_merges=500)\n",
    "bpe_vocab1000, updated_bpe_corpus1000, bpe_merges1000 = bpe(bpe_init_vocab, bpe_corpus, num_merges=1000)"
   ]
  },
  {
   "cell_type": "code",
   "execution_count": null,
   "metadata": {},
   "outputs": [
    {
     "name": "stderr",
     "output_type": "stream",
     "text": [
      "Map: 100%|██████████| 45000/45000 [00:06<00:00, 6895.15 examples/s]\n",
      "Map: 100%|██████████| 50000/50000 [00:07<00:00, 6773.77 examples/s]\n",
      "Map: 100%|██████████| 5000/5000 [00:00<00:00, 7425.93 examples/s]\n",
      "Map: 100%|██████████| 45000/45000 [00:10<00:00, 4114.17 examples/s]\n",
      "Map: 100%|██████████| 50000/50000 [00:12<00:00, 4008.04 examples/s]\n",
      "Map: 100%|██████████| 5000/5000 [00:01<00:00, 4438.86 examples/s]\n",
      "Map: 100%|██████████| 45000/45000 [00:19<00:00, 2326.86 examples/s]\n",
      "Map: 100%|██████████| 50000/50000 [00:21<00:00, 2283.59 examples/s]\n",
      "Map: 100%|██████████| 5000/5000 [00:02<00:00, 2409.38 examples/s]\n",
      "Map: 100%|██████████| 45000/45000 [00:45<00:00, 984.64 examples/s] \n",
      "Map: 100%|██████████| 50000/50000 [00:51<00:00, 961.72 examples/s] \n",
      "Map: 100%|██████████| 5000/5000 [00:04<00:00, 1038.20 examples/s]\n",
      "Map: 100%|██████████| 45000/45000 [01:33<00:00, 482.01 examples/s]\n",
      "Map: 100%|██████████| 50000/50000 [04:28<00:00, 186.05 examples/s] \n",
      "Map: 100%|██████████| 5000/5000 [00:09<00:00, 505.25 examples/s]\n"
     ]
    }
   ],
   "source": [
    "tweet_ds = tweet_ds.map(tokenize_bpe, fn_kwargs={'vocab': bpe_vocab50, 'merges': bpe_merges50, 'column_name': 'bpe_tokens_50'})\n",
    "tweet_ds = tweet_ds.map(tokenize_bpe, fn_kwargs={'vocab': bpe_vocab100, 'merges': bpe_merges100, 'column_name': 'bpe_tokens_100'})\n",
    "tweet_ds = tweet_ds.map(tokenize_bpe, fn_kwargs={'vocab': bpe_vocab200, 'merges': bpe_merges200, 'column_name': 'bpe_tokens_200'})\n",
    "tweet_ds = tweet_ds.map(tokenize_bpe, fn_kwargs={'vocab': bpe_vocab500, 'merges': bpe_merges500, 'column_name': 'bpe_tokens_500'})\n",
    "tweet_ds = tweet_ds.map(tokenize_bpe, fn_kwargs={'vocab': bpe_vocab1000, 'merges': bpe_merges1000, 'column_name': 'bpe_tokens_1000'})"
   ]
  },
  {
   "cell_type": "code",
   "execution_count": null,
   "metadata": {},
   "outputs": [
    {
     "name": "stdout",
     "output_type": "stream",
     "text": [
      "Original tweet:\n",
      "Democracy Plaza in the wake of a stunning outcome #Decision2016 @ NBC News\n",
      "Word tokenization:\n",
      "['<unk>', 'plaza', 'in', 'the', 'wake', 'of', 'a', 'stunning', '<unk>', '<unk>', '<unk>', 'news']\n",
      "BPE tokenization 100:\n",
      "['d', 'e', 'm', 'o', 'c', 'r', 'ac', 'y__', 'p', 'la', 'z', 'a__', 'in__', 'the__', 'w', 'ak', 'e__', 'of__', 'a__', 'st', 'un', 'n', 'ing__', 'ou', 't', 'c', 'om', 'e__', 'd', 'e', 'c', 'is', 'i', 'on', '2', '0', '1', '6', '__', 'n', 'b', 'c', '__', 'ne', 'w', 's']\n",
      "BPE tokenization 1000:\n",
      "['de', 'mo', 'c', 'r', 'ac', 'y__', 'pla', 'za__', 'in__', 'the__', 'w', 'ak', 'e__', 'of__', 'a__', 'st', 'un', 'n', 'ing__', 'out', 'c', 'om', 'e__', 'de', 'c', 'is', 'i', 'on', '2016__', 'n', 'b', 'c__', 'new', 's']\n"
     ]
    }
   ],
   "source": [
    "#1 The unk tokens are at least much much less likelly to appear, in fact they only appear if the letter is not in the vocab, which itself is unlikely.\n",
    "   # compared to word tokenization where unkown is assigned to any word Out Of Vocabulary\n",
    "   # This comes at the cost of being much more fragmented, with many smaller, many times character tokens.\n",
    "   # Hence I try to increase the number of merges to make the vocabulary more meaningful and less granular\n",
    "print('Original tweet:')\n",
    "print(tweet_ds['validation'][2]['text'])\n",
    "print('Word tokenization:')\n",
    "print(tweet_ds['validation'][2]['tokens'])\n",
    "print('BPE tokenization 100:')\n",
    "print(tweet_ds['validation'][2]['bpe_tokens'])\n",
    "print('BPE tokenization 1000:')\n",
    "print(tweet_ds['validation'][2]['bpe_tokens_1000'])"
   ]
  },
  {
   "cell_type": "code",
   "execution_count": null,
   "metadata": {},
   "outputs": [
    {
     "name": "stdout",
     "output_type": "stream",
     "text": [
      "Number of tokens in tokens: 555056\n",
      "Number of tokens in bpe_tokens_50: 2142505\n",
      "Number of tokens in bpe_tokens_100: 1882195\n",
      "Number of tokens in bpe_tokens_200: 1676402\n",
      "Number of tokens in bpe_tokens_500: 1532990\n",
      "Number of tokens in bpe_tokens_1000: 1473900\n"
     ]
    },
    {
     "name": "stderr",
     "output_type": "stream",
     "text": [
      "/var/folders/84/sbq4d0yx2vdcrx0_5_cy2hmh0000gn/T/ipykernel_97275/2257014270.py:12: MatplotlibDeprecationWarning: The 'labels' parameter of boxplot() has been renamed 'tick_labels' since Matplotlib 3.9; support for the old name will be dropped in 3.11.\n",
      "  plt.boxplot(token_counts_df[column_names].values, labels=column_names)\n"
     ]
    },
    {
     "data": {
      "image/png": "[encoded data removed]",
      "text/plain": [
       "<Figure size 1000x600 with 1 Axes>"
      ]
     },
     "metadata": {},
     "output_type": "display_data"
    }
   ],
   "source": [
    "#2 compare the number of tokens created by each tokenizer: 'tokens', 'bpe_tokens_50', 'bpe_tokens_100', 'bpe_tokens_200', 'bpe_tokens_500', 'bpe_tokens_1000'\n",
    "def compare_token_counts(dataset, column_names):\n",
    "    token_counts = {}\n",
    "    for column_name in column_names:\n",
    "        token_counts[column_name] = [len(example[column_name]) for example in dataset]\n",
    "    return pd.DataFrame(token_counts)\n",
    "\n",
    "column_names = ['tokens', 'bpe_tokens_50', 'bpe_tokens_100', 'bpe_tokens_200', 'bpe_tokens_500', 'bpe_tokens_1000']\n",
    "\n",
    "token_counts_df = compare_token_counts(tweet_ds['train'], column_names)\n",
    "plt.figure(figsize=(10, 6))\n",
    "plt.boxplot(token_counts_df[column_names].values, labels=column_names)\n",
    "plt.title('Distribution of tokens Tokens')\n",
    "\n",
    "# count and print the number of tokens in each column\n",
    "for column_name in column_names:\n",
    "    print(f'Number of tokens in {column_name}:', token_counts_df[column_name].sum())\n",
    "\n",
    "    "
   ]
  },
  {
   "cell_type": "code",
   "execution_count": null,
   "metadata": {},
   "outputs": [
    {
     "name": "stderr",
     "output_type": "stream",
     "text": [
      "/var/folders/84/sbq4d0yx2vdcrx0_5_cy2hmh0000gn/T/ipykernel_97275/1869144620.py:11: MatplotlibDeprecationWarning: The 'labels' parameter of boxplot() has been renamed 'tick_labels' since Matplotlib 3.9; support for the old name will be dropped in 3.11.\n",
      "  plt.boxplot(unk_counts_df[column_names].values, labels=column_names)\n"
     ]
    },
    {
     "data": {
      "image/png": "[encoded data removed]",
      "text/plain": [
       "<Figure size 1000x600 with 1 Axes>"
      ]
     },
     "metadata": {},
     "output_type": "display_data"
    },
    {
     "name": "stdout",
     "output_type": "stream",
     "text": [
      "Number of unkown tokens in tokens: 8341\n",
      "Number of unkown tokens in bpe_tokens_50: 95\n",
      "Number of unkown tokens in bpe_tokens_100: 95\n",
      "Number of unkown tokens in bpe_tokens_200: 95\n",
      "Number of unkown tokens in bpe_tokens_500: 95\n",
      "Number of unkown tokens in bpe_tokens_1000: 95\n"
     ]
    }
   ],
   "source": [
    "#3 compare the number of Unk tokens created by each tokenizer: 'tokens', 'bpe_tokens_50', 'bpe_tokens_100', 'bpe_tokens_200', 'bpe_tokens_500', 'bpe_tokens_1000'\n",
    "# tweet_ds['validation'], column_names\n",
    "def compare_unk_counts(dataset, column_names):\n",
    "    unk_counts = {}\n",
    "    for column_name in column_names:\n",
    "        unk_counts[column_name] = [sum(1 for token in example[column_name] if token == '<unk>') for example in dataset]\n",
    "    return pd.DataFrame(unk_counts)\n",
    "\n",
    "unk_counts_df = compare_unk_counts(tweet_ds['validation'], column_names)\n",
    "plt.figure(figsize=(10, 6))\n",
    "plt.boxplot(unk_counts_df[column_names].values, labels=column_names)\n",
    "plt.title('Distribution of Unknown Tokens')\n",
    "plt.show()\n",
    "\n",
    "# count and print the number of tokens in each column\n",
    "for column_name in column_names:\n",
    "    print(f'Number of unkown tokens in {column_name}:', unk_counts_df[column_name].sum())"
   ]
  },
  {
   "cell_type": "code",
   "execution_count": null,
   "metadata": {},
   "outputs": [
    {
     "name": "stderr",
     "output_type": "stream",
     "text": [
      "/var/folders/84/sbq4d0yx2vdcrx0_5_cy2hmh0000gn/T/ipykernel_97275/2824314438.py:11: MatplotlibDeprecationWarning: The 'labels' parameter of boxplot() has been renamed 'tick_labels' since Matplotlib 3.9; support for the old name will be dropped in 3.11.\n",
      "  plt.boxplot(token_lengths_df[column_names].values, labels=column_names)\n"
     ]
    },
    {
     "data": {
      "image/png": "[encoded data removed]",
      "text/plain": [
       "<Figure size 1000x600 with 1 Axes>"
      ]
     },
     "metadata": {},
     "output_type": "display_data"
    },
    {
     "name": "stdout",
     "output_type": "stream",
     "text": [
      "Average length of tokens in tokens: 4.362834079013316\n",
      "Average length of tokens in bpe_tokens_50: 1.690436749667516\n",
      "Average length of tokens in bpe_tokens_100: 1.9259298157241422\n",
      "Average length of tokens in bpe_tokens_200: 2.1633312577530175\n",
      "Average length of tokens in bpe_tokens_500: 2.3721739028554207\n",
      "Average length of tokens in bpe_tokens_1000: 2.46918509653989\n"
     ]
    }
   ],
   "source": [
    "#4 Compare the average length of the tokens created by each tokenizer: 'tokens', 'bpe_tokens_50', 'bpe_tokens_100', 'bpe_tokens_200', 'bpe_tokens_500', 'bpe_tokens_1000'\n",
    "def compare_token_lengths(dataset, column_names):\n",
    "    token_lengths = {}\n",
    "    for column_name in column_names:\n",
    "        # calculate the length of each token in the column and store the average length\n",
    "        token_lengths[column_name] = [sum(len(token) for token in example[column_name]) / len(example[column_name]) if len(example[column_name]) > 0 else 0 for example in dataset]\n",
    "    return pd.DataFrame(token_lengths)\n",
    "\n",
    "token_lengths_df = compare_token_lengths(tweet_ds['train'], column_names) # limiting myself to the train set for simplicity :D\n",
    "plt.figure(figsize=(10, 6))\n",
    "plt.boxplot(token_lengths_df[column_names].values, labels=column_names)\n",
    "plt.title('Average Length of Tokens')\n",
    "plt.show()\n",
    "\n",
    "for column_name in column_names:\n",
    "    print(f'Average length of tokens in {column_name}:', token_lengths_df[column_name].mean())\n"
   ]
  },
  {
   "cell_type": "code",
   "execution_count": null,
   "metadata": {},
   "outputs": [],
   "source": [
    "#5 advantages and disadvantages of BFE tokenization\n",
    "# Advantages:\n",
    "# - BFE can handle OOV words quite well, as shown by the number of unk tokens compared with the word tokenization\n",
    "\n",
    "# Disadvantages:\n",
    "# - BFE can create a lot of tokens, as shown by the number of tokens created by each tokenizer\n",
    "# - BFE especially with low number of merges creates very granullar, possibly meaningless to humans tokens\n"
   ]
  },
  {
   "cell_type": "markdown",
   "metadata": {
    "collapsed": false,
    "pycharm": {
     "name": "#%% md\n"
    }
   },
   "source": [
    "For answering these questions make sure to include a proper mix of numbers/plots/tables etc. and comments."
   ]
  },
  {
   "cell_type": "markdown",
   "metadata": {
    "collapsed": false,
    "pycharm": {
     "name": "#%% md\n"
    }
   },
   "source": []
  }
 ],
 "metadata": {
  "kernelspec": {
   "display_name": "base",
   "language": "python",
   "name": "python3"
  },
  "language_info": {
   "codemirror_mode": {
    "name": "ipython",
    "version": 3
   },
   "file_extension": ".py",
   "mimetype": "text/x-python",
   "name": "python",
   "nbconvert_exporter": "python",
   "pygments_lexer": "ipython3",
   "version": "3.9.13"
  }
 },
 "nbformat": 4,
 "nbformat_minor": 1
}
