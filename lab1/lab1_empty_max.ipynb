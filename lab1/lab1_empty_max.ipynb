{
 "cells": [
  {
   "cell_type": "markdown",
   "metadata": {
    "collapsed": false,
    "pycharm": {
     "name": "#%% md\n"
    }
   },
   "source": [
    "# NLP 2025\n",
    "# Lab 1: Tokenization\n",
    "\n",
    "Tokenization is a fundamental step in **Natural Language Processing (NLP)** 🧠💬 that transforms raw text into structured data for computational models. In this lab, you will explore different **tokenization techniques** 📝, preprocess text data 🔍, and implement **tokenization pipelines** using popular NLP libraries 🏗️.  \n",
    "\n",
    "You will also gain **hands-on experience** with **Hugging Face Datasets 🤗📚**, while assessing the impact of tokenization choices on downstream NLP tasks. \n",
    "\n",
    "By the end of this lab, you will have a **strong foundation** in tokenization techniques and be able to apply them effectively in **real-world NLP applications** 🌍.  \n",
    "\n",
    "---\n",
    "\n",
    "### 🎯 **Learning Goals**  \n",
    "\n",
    "By the end of this lab, you should be able to:  \n",
    "\n",
    "✅ **Understand the role of tokenization in NLP** 🧠💡  \n",
    "✅ **Explain why tokenization is important** and how it affects text processing 📖🔍  \n",
    "✅ **Implement different tokenization techniques** – Apply **word** 📝, **subword** 🔢, and **character-level** 🔠 tokenization using built-in libraries.  \n",
    "✅ **Use Hugging Face Datasets** 🤗📊 – Load and preprocess text datasets efficiently.  \n",
    "✅ **Evaluate tokenization impact** 📉🔎 – Analyze how different tokenization methods influence model performance.  \n",
    "✅ **Identify challenges in tokenization** ❗🔍 – Recognize issues like **out-of-vocabulary (OOV) words**, **ambiguity**, and **multilingual tokenization** 🌍.  \n",
    "\n",
    "### Score breakdown\n",
    "\n",
    "| Exercise            | Points |\n",
    "|---------------------|--------|\n",
    "| [Exercise 1](#e1)   | 5      |\n",
    "| [Exercise 2](#e2)   | 6      |\n",
    "| [Exercise 3](#e3)   | 5      |\n",
    "| [Exercise 4](#e4)   | 12     |\n",
    "| [Exercise 5](#e5)   | 5      |\n",
    "| [Exercise 6](#e6)   | 22     |\n",
    "| [Exercise 7](#e7)   | 5      |\n",
    "| [Exercise 8](#e8)   | 5      |\n",
    "| [Exercise 9](#e9)   | 10     |\n",
    "| [Exercise 10](#e10) | 25     |\n",
    "| Total               | 100    |\n",
    "\n",
    "This score will be scaled down to 0.5 and that will be your final lab score.\n",
    "\n",
    "### 📌 **Instructions for Delivery** (📅 **Deadline: 11/Apr 18:00**, 🎭 *wildcards possible*)  \n",
    "\n",
    "✅ **Submission Requirements**  \n",
    "+ 📄 You need to submit a **PDF of your report** (use the templates provided in **LaTeX** 🖋️ (*preferred*) or **Word** 📑) and a **copy of your notebook** 📓 with the code.  \n",
    "+ ⚡ Make sure that **all cells are executed properly** ⚙️ and that **all figures/results/plots** 📊 you include in the report are also visible in your **executed notebook**.  \n",
    "\n",
    "✅ **Collaboration & Integrity**  \n",
    "+ 🗣️ While you may **discuss** the lab with others, you must **write your solutions with your group only**. If you **discuss specific tasks** with others, please **include their names** in the appendix of the report.  \n",
    "+ 📜 **Honor Code applies** to this lab. For more details, check **Syllabus §7.2** ⚖️.  \n",
    "+ 📢 **Mandatory Disclosure**:  \n",
    "   - Any **websites** 🌐 (e.g., **Stack Overflow** 💡) or **other resources** used must be **listed and disclosed**.  \n",
    "   - Any **GenAI tools** 🤖 (e.g., **ChatGPT**) used must be **explicitly mentioned**.  \n",
    "   - 🚨 **Failure to disclose these resources is a violation of academic integrity**. See **Syllabus §7.3** for details.   "
   ]
  },
  {
   "cell_type": "markdown",
   "metadata": {
    "collapsed": false,
    "pycharm": {
     "name": "#%% md\n"
    }
   },
   "source": [
    "## Preparation"
   ]
  },
  {
   "cell_type": "code",
   "execution_count": 1,
   "metadata": {
    "ExecuteTime": {
     "end_time": "2025-04-11T07:59:18.532596Z",
     "start_time": "2025-04-11T07:54:19.903753Z"
    },
    "collapsed": false,
    "pycharm": {
     "name": "#%%\n"
    }
   },
   "outputs": [
    {
     "name": "stdout",
     "output_type": "stream",
     "text": [
      "Requirement already satisfied: datasets~=3.2.0 in /Users/mariowettig/PycharmProjects/NLP_Labs/.venv/lib/python3.12/site-packages (3.2.0)\r\n",
      "Requirement already satisfied: filelock in /Users/mariowettig/PycharmProjects/NLP_Labs/.venv/lib/python3.12/site-packages (from datasets~=3.2.0) (3.18.0)\r\n",
      "Requirement already satisfied: numpy>=1.17 in /Users/mariowettig/PycharmProjects/NLP_Labs/.venv/lib/python3.12/site-packages (from datasets~=3.2.0) (2.2.4)\r\n",
      "Requirement already satisfied: pyarrow>=15.0.0 in /Users/mariowettig/PycharmProjects/NLP_Labs/.venv/lib/python3.12/site-packages (from datasets~=3.2.0) (19.0.1)\r\n",
      "Requirement already satisfied: dill<0.3.9,>=0.3.0 in /Users/mariowettig/PycharmProjects/NLP_Labs/.venv/lib/python3.12/site-packages (from datasets~=3.2.0) (0.3.8)\r\n",
      "Requirement already satisfied: pandas in /Users/mariowettig/PycharmProjects/NLP_Labs/.venv/lib/python3.12/site-packages (from datasets~=3.2.0) (2.2.3)\r\n",
      "Requirement already satisfied: requests>=2.32.2 in /Users/mariowettig/PycharmProjects/NLP_Labs/.venv/lib/python3.12/site-packages (from datasets~=3.2.0) (2.32.3)\r\n",
      "Requirement already satisfied: tqdm>=4.66.3 in /Users/mariowettig/PycharmProjects/NLP_Labs/.venv/lib/python3.12/site-packages (from datasets~=3.2.0) (4.67.1)\r\n",
      "Requirement already satisfied: xxhash in /Users/mariowettig/PycharmProjects/NLP_Labs/.venv/lib/python3.12/site-packages (from datasets~=3.2.0) (3.5.0)\r\n",
      "Requirement already satisfied: multiprocess<0.70.17 in /Users/mariowettig/PycharmProjects/NLP_Labs/.venv/lib/python3.12/site-packages (from datasets~=3.2.0) (0.70.16)\r\n",
      "Requirement already satisfied: fsspec[http]<=2024.9.0,>=2023.1.0 in /Users/mariowettig/PycharmProjects/NLP_Labs/.venv/lib/python3.12/site-packages (from datasets~=3.2.0) (2024.9.0)\r\n",
      "Requirement already satisfied: aiohttp in /Users/mariowettig/PycharmProjects/NLP_Labs/.venv/lib/python3.12/site-packages (from datasets~=3.2.0) (3.11.16)\r\n",
      "Requirement already satisfied: huggingface-hub>=0.23.0 in /Users/mariowettig/PycharmProjects/NLP_Labs/.venv/lib/python3.12/site-packages (from datasets~=3.2.0) (0.30.1)\r\n",
      "Requirement already satisfied: packaging in /Users/mariowettig/PycharmProjects/NLP_Labs/.venv/lib/python3.12/site-packages (from datasets~=3.2.0) (24.2)\r\n",
      "Requirement already satisfied: pyyaml>=5.1 in /Users/mariowettig/PycharmProjects/NLP_Labs/.venv/lib/python3.12/site-packages (from datasets~=3.2.0) (6.0.2)\r\n",
      "Requirement already satisfied: aiohappyeyeballs>=2.3.0 in /Users/mariowettig/PycharmProjects/NLP_Labs/.venv/lib/python3.12/site-packages (from aiohttp->datasets~=3.2.0) (2.6.1)\r\n",
      "Requirement already satisfied: aiosignal>=1.1.2 in /Users/mariowettig/PycharmProjects/NLP_Labs/.venv/lib/python3.12/site-packages (from aiohttp->datasets~=3.2.0) (1.3.2)\r\n",
      "Requirement already satisfied: attrs>=17.3.0 in /Users/mariowettig/PycharmProjects/NLP_Labs/.venv/lib/python3.12/site-packages (from aiohttp->datasets~=3.2.0) (25.3.0)\r\n",
      "Requirement already satisfied: frozenlist>=1.1.1 in /Users/mariowettig/PycharmProjects/NLP_Labs/.venv/lib/python3.12/site-packages (from aiohttp->datasets~=3.2.0) (1.5.0)\r\n",
      "Requirement already satisfied: multidict<7.0,>=4.5 in /Users/mariowettig/PycharmProjects/NLP_Labs/.venv/lib/python3.12/site-packages (from aiohttp->datasets~=3.2.0) (6.3.2)\r\n",
      "Requirement already satisfied: propcache>=0.2.0 in /Users/mariowettig/PycharmProjects/NLP_Labs/.venv/lib/python3.12/site-packages (from aiohttp->datasets~=3.2.0) (0.3.1)\r\n",
      "Requirement already satisfied: yarl<2.0,>=1.17.0 in /Users/mariowettig/PycharmProjects/NLP_Labs/.venv/lib/python3.12/site-packages (from aiohttp->datasets~=3.2.0) (1.18.3)\r\n",
      "Requirement already satisfied: typing-extensions>=3.7.4.3 in /Users/mariowettig/PycharmProjects/NLP_Labs/.venv/lib/python3.12/site-packages (from huggingface-hub>=0.23.0->datasets~=3.2.0) (4.13.1)\r\n",
      "Requirement already satisfied: charset-normalizer<4,>=2 in /Users/mariowettig/PycharmProjects/NLP_Labs/.venv/lib/python3.12/site-packages (from requests>=2.32.2->datasets~=3.2.0) (3.4.1)\r\n",
      "Requirement already satisfied: idna<4,>=2.5 in /Users/mariowettig/PycharmProjects/NLP_Labs/.venv/lib/python3.12/site-packages (from requests>=2.32.2->datasets~=3.2.0) (3.10)\r\n",
      "Requirement already satisfied: urllib3<3,>=1.21.1 in /Users/mariowettig/PycharmProjects/NLP_Labs/.venv/lib/python3.12/site-packages (from requests>=2.32.2->datasets~=3.2.0) (2.3.0)\r\n",
      "Requirement already satisfied: certifi>=2017.4.17 in /Users/mariowettig/PycharmProjects/NLP_Labs/.venv/lib/python3.12/site-packages (from requests>=2.32.2->datasets~=3.2.0) (2025.1.31)\r\n",
      "Requirement already satisfied: python-dateutil>=2.8.2 in /Users/mariowettig/PycharmProjects/NLP_Labs/.venv/lib/python3.12/site-packages (from pandas->datasets~=3.2.0) (2.9.0.post0)\r\n",
      "Requirement already satisfied: pytz>=2020.1 in /Users/mariowettig/PycharmProjects/NLP_Labs/.venv/lib/python3.12/site-packages (from pandas->datasets~=3.2.0) (2025.2)\r\n",
      "Requirement already satisfied: tzdata>=2022.7 in /Users/mariowettig/PycharmProjects/NLP_Labs/.venv/lib/python3.12/site-packages (from pandas->datasets~=3.2.0) (2025.2)\r\n",
      "Requirement already satisfied: six>=1.5 in /Users/mariowettig/PycharmProjects/NLP_Labs/.venv/lib/python3.12/site-packages (from python-dateutil>=2.8.2->pandas->datasets~=3.2.0) (1.17.0)\r\n",
      "\r\n",
      "\u001b[1m[\u001b[0m\u001b[34;49mnotice\u001b[0m\u001b[1;39;49m]\u001b[0m\u001b[39;49m A new release of pip is available: \u001b[0m\u001b[31;49m23.2.1\u001b[0m\u001b[39;49m -> \u001b[0m\u001b[32;49m25.0.1\u001b[0m\r\n",
      "\u001b[1m[\u001b[0m\u001b[34;49mnotice\u001b[0m\u001b[1;39;49m]\u001b[0m\u001b[39;49m To update, run: \u001b[0m\u001b[32;49mpip install --upgrade pip\u001b[0m\r\n",
      "Requirement already satisfied: matplotlib in /Users/mariowettig/PycharmProjects/NLP_Labs/.venv/lib/python3.12/site-packages (3.10.1)\r\n",
      "Requirement already satisfied: contourpy>=1.0.1 in /Users/mariowettig/PycharmProjects/NLP_Labs/.venv/lib/python3.12/site-packages (from matplotlib) (1.3.1)\r\n",
      "Requirement already satisfied: cycler>=0.10 in /Users/mariowettig/PycharmProjects/NLP_Labs/.venv/lib/python3.12/site-packages (from matplotlib) (0.12.1)\r\n",
      "Requirement already satisfied: fonttools>=4.22.0 in /Users/mariowettig/PycharmProjects/NLP_Labs/.venv/lib/python3.12/site-packages (from matplotlib) (4.57.0)\r\n",
      "Requirement already satisfied: kiwisolver>=1.3.1 in /Users/mariowettig/PycharmProjects/NLP_Labs/.venv/lib/python3.12/site-packages (from matplotlib) (1.4.8)\r\n",
      "Requirement already satisfied: numpy>=1.23 in /Users/mariowettig/PycharmProjects/NLP_Labs/.venv/lib/python3.12/site-packages (from matplotlib) (2.2.4)\r\n",
      "Requirement already satisfied: packaging>=20.0 in /Users/mariowettig/PycharmProjects/NLP_Labs/.venv/lib/python3.12/site-packages (from matplotlib) (24.2)\r\n",
      "Requirement already satisfied: pillow>=8 in /Users/mariowettig/PycharmProjects/NLP_Labs/.venv/lib/python3.12/site-packages (from matplotlib) (11.1.0)\r\n",
      "Requirement already satisfied: pyparsing>=2.3.1 in /Users/mariowettig/PycharmProjects/NLP_Labs/.venv/lib/python3.12/site-packages (from matplotlib) (3.2.3)\r\n",
      "Requirement already satisfied: python-dateutil>=2.7 in /Users/mariowettig/PycharmProjects/NLP_Labs/.venv/lib/python3.12/site-packages (from matplotlib) (2.9.0.post0)\r\n",
      "Requirement already satisfied: six>=1.5 in /Users/mariowettig/PycharmProjects/NLP_Labs/.venv/lib/python3.12/site-packages (from python-dateutil>=2.7->matplotlib) (1.17.0)\r\n",
      "\r\n",
      "\u001b[1m[\u001b[0m\u001b[34;49mnotice\u001b[0m\u001b[1;39;49m]\u001b[0m\u001b[39;49m A new release of pip is available: \u001b[0m\u001b[31;49m23.2.1\u001b[0m\u001b[39;49m -> \u001b[0m\u001b[32;49m25.0.1\u001b[0m\r\n",
      "\u001b[1m[\u001b[0m\u001b[34;49mnotice\u001b[0m\u001b[1;39;49m]\u001b[0m\u001b[39;49m To update, run: \u001b[0m\u001b[32;49mpip install --upgrade pip\u001b[0m\r\n"
     ]
    }
   ],
   "source": [
    "! pip install -U datasets~=3.2.0\n",
    "! python -m pip install -U matplotlib"
   ]
  },
  {
   "cell_type": "code",
   "execution_count": 2,
   "metadata": {
    "ExecuteTime": {
     "end_time": "2025-04-11T07:59:18.532880Z",
     "start_time": "2025-04-11T07:54:22.150135Z"
    },
    "collapsed": false,
    "pycharm": {
     "name": "#%%\n"
    }
   },
   "outputs": [
    {
     "name": "stderr",
     "output_type": "stream",
     "text": [
      "/Users/mariowettig/PycharmProjects/NLP_Labs/.venv/lib/python3.12/site-packages/tqdm/auto.py:21: TqdmWarning: IProgress not found. Please update jupyter and ipywidgets. See https://ipywidgets.readthedocs.io/en/stable/user_install.html\n",
      "  from .autonotebook import tqdm as notebook_tqdm\n"
     ]
    }
   ],
   "source": [
    "import re\n",
    "from collections import Counter\n",
    "\n",
    "import datasets\n",
    "import pandas as pd\n",
    "import tqdm"
   ]
  },
  {
   "cell_type": "markdown",
   "metadata": {
    "collapsed": false,
    "pycharm": {
     "name": "#%% md\n"
    }
   },
   "source": [
    "## 0. Intro to regular expressions\n",
    "\n",
    "In this introduction section, you can practice the use of regular expressions in python. You can find the documentation here: [https://docs.python.org/3/library/re.html](https://docs.python.org/3/library/re.html). The main functions of the re module are:\n",
    "- `re.search()` - searches for a pattern in a string, returns the first match,\n",
    "- `re.findall()` - similar to `search()`, but returns a list of all matches,\n",
    "- `re.sub()` - replaces the matches with a string.\n",
    "\n",
    "All above functions accept the regular expression pattern as their argument. The patterns are strings that represent the rules for matching the text. In python they start with `r` character, e.g. `r'\\d'` is a pattern that matches a digit.\n",
    "\n",
    "Let us start with a simple example. We will search for the word \"world\" in the string \"Hello, world!\"."
   ]
  },
  {
   "cell_type": "code",
   "execution_count": 3,
   "metadata": {
    "ExecuteTime": {
     "end_time": "2025-04-11T07:59:18.533129Z",
     "start_time": "2025-04-11T07:54:22.539366Z"
    },
    "collapsed": false,
    "pycharm": {
     "name": "#%%\n"
    }
   },
   "outputs": [
    {
     "name": "stdout",
     "output_type": "stream",
     "text": [
      "<re.Match object; span=(7, 12), match='world'>\n"
     ]
    }
   ],
   "source": [
    "text = \"Hello, world!\"\n",
    "pattern = r'world'\n",
    "match = re.search(pattern, text)\n",
    "print(match)"
   ]
  },
  {
   "cell_type": "markdown",
   "metadata": {
    "collapsed": false,
    "pycharm": {
     "name": "#%% md\n"
    }
   },
   "source": [
    "The `search()` function returns a match object that tells us where the match was found (`span` argument) and the exact part of the string that matched the pattern (`group` argument).\n",
    "\n",
    "Below you can find the examples from the lecture."
   ]
  },
  {
   "cell_type": "code",
   "execution_count": 4,
   "metadata": {
    "ExecuteTime": {
     "end_time": "2025-04-11T07:59:18.533241Z",
     "start_time": "2025-04-11T07:54:22.546630Z"
    },
    "collapsed": false,
    "pycharm": {
     "name": "#%%\n"
    }
   },
   "outputs": [],
   "source": [
    "# Disjunctions\n",
    "pattern = r'[wW]oodchuck' # matches both \"woodchuck\" and \"Woodchuck\"\n",
    "pattern = r'[1234567890]' # matches any digit\n",
    "pattern = r'[0-9]' # matches any digit\n",
    "pattern = r'[A-Z]' # matches any uppercase letter\n",
    "pattern = r'[a-z]' # matches any lowercase letter\n",
    "pattern = r'[A-Za-z]' # matches any letter\n",
    "\n",
    "# Disjunctions with pipe |\n",
    "pattern = r'groundhog|Woodchuck' # matches both \"woodchuck\" and \"Woodchuck\"\n",
    "\n",
    "# Negation (only when in [])\n",
    "pattern = r'[^0-9]' # matches any character that is not a digit\n",
    "pattern = r'[^Ss]' # matches any character that is not 'S' or 's'\n",
    "pattern = r'a^b' # matches the string \"a^b\"\n",
    "\n",
    "# Quantifiers (+, *, ?, .)\n",
    "pattern = r'baa+' # matches \"ba\" followed by one or more \"a\" (e.g. \"baa\", \"baaa\", \"baaaa\", ...)\n",
    "pattern = r'oo*h' # matches \"o\" followed by zero or more \"o\" and then \"h\" (e.g. \"oh\", \"ooh\", \"oooh\", ...)\n",
    "pattern = r'colou?r' # matches \"color\" and \"colour\"\n",
    "pattern = r'beg.n' # matches \"begun\", \"begin\", \"begnn\", ...\n",
    "\n",
    "# Anchors (^, $)\n",
    "pattern = r'^Hello' # matches \"Hello\" at the beginning of the string\n",
    "pattern = r'world!$' # matches \"world!\" at the end of the string"
   ]
  },
  {
   "cell_type": "markdown",
   "metadata": {
    "collapsed": false,
    "pycharm": {
     "name": "#%% md\n"
    }
   },
   "source": [
    "## 1. Huggingface datasets\n",
    "\n",
    "For this lab, we will use the **Hugging Face Datasets** library ([Hugging Face Datasets](https://huggingface.co/datasets)), which provides an extensive collection of ready-to-use NLP datasets. The library is designed to be lightweight, efficient, and compatible with popular deep learning frameworks such as PyTorch and TensorFlow.  \n",
    "\n",
    "You can find the full documentation and tutorials here:  \n",
    "📌 [Hugging Face Datasets Documentation](https://huggingface.co/docs/datasets/en/index)  \n",
    "\n",
    "### **Why use Hugging Face Datasets?**  \n",
    "- **Easy Access:** Load datasets with a single command without manual downloads.  \n",
    "- **Standardized Format:** Datasets come in a unified structure, making them easy to preprocess and integrate into ML pipelines.  \n",
    "- **Large Collection:** Provides datasets for a wide range of NLP tasks, including classification, translation, summarization, and more.  \n",
    "- **Seamless Integration:** Works with `transformers` and `sklearn` for preprocessing and model training.  \n",
    "\n",
    "### **Dataset for this lab: TweetEval - Emoji Subset**  \n",
    "\n",
    "In this lab, we will work with the **TweetEval** dataset, specifically the **emoji** subset. The TweetEval dataset is a benchmark for evaluating NLP models on Twitter-related tasks, covering tasks such as sentiment analysis, hate speech detection, and irony detection.  \n",
    "\n",
    "For tokenization, we will focus only on the **text** (the content of the tweets), but we will also examine the **labels** to understand the dataset structure.  \n",
    "\n",
    "🔗 The dataset description and details are available in its dataset card: [**TweetEval Dataset**](https://huggingface.co/datasets/cardiffnlp/tweet_eval) \n",
    "\n",
    "💡 Exploring More Datasets\n",
    "Hugging Face provides a vast selection of datasets across different NLP tasks. You can browse and explore more at:\n",
    "🔗 [Hugging Face Datasets Collection](https://huggingface.co/datasets)"
   ]
  },
  {
   "cell_type": "code",
   "execution_count": 5,
   "metadata": {
    "ExecuteTime": {
     "end_time": "2025-04-11T07:59:18.533312Z",
     "start_time": "2025-04-11T07:54:22.566870Z"
    },
    "collapsed": false,
    "pycharm": {
     "name": "#%%\n"
    }
   },
   "outputs": [
    {
     "name": "stdout",
     "output_type": "stream",
     "text": [
      "DatasetDict({\n",
      "    train: Dataset({\n",
      "        features: ['text', 'label'],\n",
      "        num_rows: 45000\n",
      "    })\n",
      "    test: Dataset({\n",
      "        features: ['text', 'label'],\n",
      "        num_rows: 50000\n",
      "    })\n",
      "    validation: Dataset({\n",
      "        features: ['text', 'label'],\n",
      "        num_rows: 5000\n",
      "    })\n",
      "})\n"
     ]
    }
   ],
   "source": [
    "tweet_ds = datasets.load_dataset('tweet_eval', 'emoji')\n",
    "print(tweet_ds)"
   ]
  },
  {
   "cell_type": "markdown",
   "metadata": {
    "collapsed": false,
    "pycharm": {
     "name": "#%% md\n"
    }
   },
   "source": [
    "The loaded dataset contains three subsets (“train”, “validation”, and “test”). Each consists of two columns: “text” and “label”. Label is an integer from 0 to 19 representing an emoji. See the dataset's card for more information. We can access the elements of the dataset like so:"
   ]
  },
  {
   "cell_type": "code",
   "execution_count": 6,
   "metadata": {
    "ExecuteTime": {
     "end_time": "2025-04-11T07:59:18.533428Z",
     "start_time": "2025-04-11T07:54:26.566415Z"
    },
    "collapsed": false,
    "pycharm": {
     "name": "#%%\n"
    }
   },
   "outputs": [
    {
     "name": "stdout",
     "output_type": "stream",
     "text": [
      "{'text': 'Sunday afternoon walking through Venice in the sun with @user ️ ️ ️ @ Abbot Kinney, Venice', 'label': 12}\n",
      "{'text': \"Time for some BBQ and whiskey libations. Chomp, belch, chomp! (@ Lucille's Smokehouse Bar-B-Que)\", 'label': 19}\n",
      "{'text': 'Love love love all these people ️ ️ ️ #friends #bff #celebrate #blessed #sundayfunday @ San…', 'label': 0}\n",
      "{'text': '️ ️ ️ ️ @ Toys\"R\"Us', 'label': 0}\n",
      "{'text': 'Man these are the funniest kids ever!! That face! #HappyBirthdayBubb @ FLIPnOUT Xtreme', 'label': 2}\n",
      "{'text': '#sandiego @ San Diego, California', 'label': 11}\n",
      "{'text': 'My little ️ ️ ️ ️ ️ #ObsessedWithMyDog @ Cafe Solstice Capitol Hill', 'label': 0}\n",
      "{'text': 'More #tinyepic things #tinyepicwestern, this one is crazy @user I may be one of your…', 'label': 19}\n",
      "{'text': 'Last night ️ @ Omnia Night Club At Caesars Palace', 'label': 0}\n",
      "{'text': 'friendship at its finest. ....#pixar #toystory #buzz #woody #friends #friendship #bff…', 'label': 7}\n"
     ]
    }
   ],
   "source": [
    "for i in range(10):\n",
    "    print(tweet_ds['train'][i])"
   ]
  },
  {
   "cell_type": "markdown",
   "metadata": {
    "collapsed": false,
    "pycharm": {
     "name": "#%% md\n"
    }
   },
   "source": [
    "You can easily cast the dataset to the pandas DataFrame."
   ]
  },
  {
   "cell_type": "code",
   "execution_count": 7,
   "metadata": {
    "ExecuteTime": {
     "end_time": "2025-04-11T07:59:18.533494Z",
     "start_time": "2025-04-11T07:54:26.602241Z"
    },
    "collapsed": false,
    "pycharm": {
     "name": "#%%\n"
    }
   },
   "outputs": [
    {
     "data": {
      "text/html": [
       "<div>\n",
       "<style scoped>\n",
       "    .dataframe tbody tr th:only-of-type {\n",
       "        vertical-align: middle;\n",
       "    }\n",
       "\n",
       "    .dataframe tbody tr th {\n",
       "        vertical-align: top;\n",
       "    }\n",
       "\n",
       "    .dataframe thead th {\n",
       "        text-align: right;\n",
       "    }\n",
       "</style>\n",
       "<table border=\"1\" class=\"dataframe\">\n",
       "  <thead>\n",
       "    <tr style=\"text-align: right;\">\n",
       "      <th></th>\n",
       "      <th>text</th>\n",
       "      <th>label</th>\n",
       "    </tr>\n",
       "  </thead>\n",
       "  <tbody>\n",
       "    <tr>\n",
       "      <th>0</th>\n",
       "      <td>Sunday afternoon walking through Venice in the...</td>\n",
       "      <td>12</td>\n",
       "    </tr>\n",
       "    <tr>\n",
       "      <th>1</th>\n",
       "      <td>Time for some BBQ and whiskey libations. Chomp...</td>\n",
       "      <td>19</td>\n",
       "    </tr>\n",
       "    <tr>\n",
       "      <th>2</th>\n",
       "      <td>Love love love all these people ️ ️ ️ #friends...</td>\n",
       "      <td>0</td>\n",
       "    </tr>\n",
       "    <tr>\n",
       "      <th>3</th>\n",
       "      <td>️ ️ ️ ️ @ Toys\"R\"Us</td>\n",
       "      <td>0</td>\n",
       "    </tr>\n",
       "    <tr>\n",
       "      <th>4</th>\n",
       "      <td>Man these are the funniest kids ever!! That fa...</td>\n",
       "      <td>2</td>\n",
       "    </tr>\n",
       "    <tr>\n",
       "      <th>...</th>\n",
       "      <td>...</td>\n",
       "      <td>...</td>\n",
       "    </tr>\n",
       "    <tr>\n",
       "      <th>44995</th>\n",
       "      <td>Here to celebrate the Nunez wedding! Love my b...</td>\n",
       "      <td>0</td>\n",
       "    </tr>\n",
       "    <tr>\n",
       "      <th>44996</th>\n",
       "      <td>1 night in Paris.... Wait... @ Paris Las Vegas...</td>\n",
       "      <td>1</td>\n",
       "    </tr>\n",
       "    <tr>\n",
       "      <th>44997</th>\n",
       "      <td>Be safe this weekend everyone. #happylaborday ...</td>\n",
       "      <td>11</td>\n",
       "    </tr>\n",
       "    <tr>\n",
       "      <th>44998</th>\n",
       "      <td>Pizza (@ Five50 - @user in Las Vegas, NV)</td>\n",
       "      <td>1</td>\n",
       "    </tr>\n",
       "    <tr>\n",
       "      <th>44999</th>\n",
       "      <td>my mini is perfect, no one deserves her @ Las ...</td>\n",
       "      <td>13</td>\n",
       "    </tr>\n",
       "  </tbody>\n",
       "</table>\n",
       "<p>45000 rows × 2 columns</p>\n",
       "</div>"
      ],
      "text/plain": [
       "                                                    text  label\n",
       "0      Sunday afternoon walking through Venice in the...     12\n",
       "1      Time for some BBQ and whiskey libations. Chomp...     19\n",
       "2      Love love love all these people ️ ️ ️ #friends...      0\n",
       "3                                    ️ ️ ️ ️ @ Toys\"R\"Us      0\n",
       "4      Man these are the funniest kids ever!! That fa...      2\n",
       "...                                                  ...    ...\n",
       "44995  Here to celebrate the Nunez wedding! Love my b...      0\n",
       "44996  1 night in Paris.... Wait... @ Paris Las Vegas...      1\n",
       "44997  Be safe this weekend everyone. #happylaborday ...     11\n",
       "44998          Pizza (@ Five50 - @user in Las Vegas, NV)      1\n",
       "44999  my mini is perfect, no one deserves her @ Las ...     13\n",
       "\n",
       "[45000 rows x 2 columns]"
      ]
     },
     "execution_count": 7,
     "metadata": {},
     "output_type": "execute_result"
    }
   ],
   "source": [
    "tweet_train_df = pd.DataFrame(tweet_ds['train'])\n",
    "tweet_train_df"
   ]
  },
  {
   "cell_type": "markdown",
   "metadata": {
    "collapsed": false,
    "pycharm": {
     "name": "#%% md\n"
    }
   },
   "source": [
    "We can plot the distribution of the labels in the training subset."
   ]
  },
  {
   "cell_type": "code",
   "execution_count": 8,
   "metadata": {
    "ExecuteTime": {
     "end_time": "2025-04-11T07:59:18.534424Z",
     "start_time": "2025-04-11T07:54:27.007342Z"
    },
    "collapsed": false,
    "pycharm": {
     "name": "#%%\n"
    }
   },
   "outputs": [
    {
     "name": "stdout",
     "output_type": "stream",
     "text": [
      "       text\n",
      "label      \n",
      "0      9204\n",
      "1      4901\n",
      "2      4713\n",
      "7      2345\n",
      "4      2146\n"
     ]
    },
    {
     "data": {
      "text/plain": [
       "<Axes: xlabel='label'>"
      ]
     },
     "execution_count": 8,
     "metadata": {},
     "output_type": "execute_result"
    },
    {
     "data": {
      "image/png": "[encoded data removed]",
      "text/plain": [
       "<Figure size 640x480 with 1 Axes>"
      ]
     },
     "metadata": {},
     "output_type": "display_data"
    }
   ],
   "source": [
    "count_label = tweet_train_df.groupby('label').count()\n",
    "print(count_label.sort_values(by='text', ascending=False).head(5))\n",
    "\n",
    "tweet_train_df.groupby('label').count().plot.bar()"
   ]
  },
  {
   "cell_type": "markdown",
   "metadata": {
    "collapsed": false,
    "pycharm": {
     "name": "#%% md\n"
    }
   },
   "source": [
    "### Dataset's filter function\n",
    "We can filter the examples using ```filter()``` method. See this link for more details https://huggingface.co/docs/datasets/en/use_dataset. Here is an example of filtering the short tweets (less than 20 characters) from the ```train``` subset."
   ]
  },
  {
   "cell_type": "code",
   "execution_count": 9,
   "metadata": {
    "ExecuteTime": {
     "end_time": "2025-04-11T07:59:18.534584Z",
     "start_time": "2025-04-11T07:54:27.302246Z"
    },
    "collapsed": false,
    "pycharm": {
     "name": "#%%\n"
    }
   },
   "outputs": [
    {
     "name": "stdout",
     "output_type": "stream",
     "text": [
      "Dataset({\n",
      "    features: ['text', 'label'],\n",
      "    num_rows: 506\n",
      "})\n"
     ]
    }
   ],
   "source": [
    "short_tweets = tweet_ds['train'].filter(lambda example: len(example['text']) < 20)\n",
    "print(short_tweets)"
   ]
  },
  {
   "cell_type": "code",
   "execution_count": 10,
   "metadata": {
    "ExecuteTime": {
     "end_time": "2025-04-11T07:59:18.534659Z",
     "start_time": "2025-04-11T07:54:27.356887Z"
    },
    "collapsed": false,
    "pycharm": {
     "name": "#%%\n"
    }
   },
   "outputs": [
    {
     "name": "stdout",
     "output_type": "stream",
     "text": [
      "{'text': '️ ️ ️ ️ @ Toys\"R\"Us', 'label': 0}\n",
      "{'text': '️ @ Columbia River', 'label': 12}\n",
      "{'text': 'My weekend: @user 3', 'label': 6}\n",
      "{'text': 'good day today', 'label': 3}\n",
      "{'text': 'My last RT...', 'label': 2}\n",
      "{'text': '@ On Lake Cowichan', 'label': 13}\n",
      "{'text': '@ Macroplaza', 'label': 4}\n",
      "{'text': '@ BART Train', 'label': 6}\n",
      "{'text': '️ 4 a tbh&amp; rate', 'label': 0}\n",
      "{'text': '@user Oh nice!!', 'label': 14}\n"
     ]
    }
   ],
   "source": [
    "for i in range(10):\n",
    "    print(short_tweets[i])"
   ]
  },
  {
   "cell_type": "markdown",
   "metadata": {
    "collapsed": false,
    "pycharm": {
     "name": "#%% md\n"
    }
   },
   "source": [
    "### Dataset's map function\n",
    "Datasets library contains a very useful method map. It expects a function that will receive an example from the dataset. This function will be applied to all entries. We will calculate the length of the text (in characters) in each example."
   ]
  },
  {
   "cell_type": "code",
   "execution_count": 11,
   "metadata": {
    "ExecuteTime": {
     "end_time": "2025-04-11T07:59:18.534716Z",
     "start_time": "2025-04-11T07:54:27.401759Z"
    },
    "collapsed": false,
    "pycharm": {
     "name": "#%%\n"
    }
   },
   "outputs": [],
   "source": [
    "def calculate_text_length(example):\n",
    "    example['text_length'] = len(example['text'])\n",
    "    return example"
   ]
  },
  {
   "cell_type": "code",
   "execution_count": 12,
   "metadata": {
    "ExecuteTime": {
     "end_time": "2025-04-11T07:59:18.534808Z",
     "start_time": "2025-04-11T07:54:27.425441Z"
    },
    "collapsed": false,
    "pycharm": {
     "name": "#%%\n"
    }
   },
   "outputs": [
    {
     "name": "stdout",
     "output_type": "stream",
     "text": [
      "DatasetDict({\n",
      "    train: Dataset({\n",
      "        features: ['text', 'label', 'text_length'],\n",
      "        num_rows: 45000\n",
      "    })\n",
      "    test: Dataset({\n",
      "        features: ['text', 'label', 'text_length'],\n",
      "        num_rows: 50000\n",
      "    })\n",
      "    validation: Dataset({\n",
      "        features: ['text', 'label', 'text_length'],\n",
      "        num_rows: 5000\n",
      "    })\n",
      "})\n"
     ]
    }
   ],
   "source": [
    "tweet_ds = tweet_ds.map(calculate_text_length)\n",
    "print(tweet_ds)"
   ]
  },
  {
   "cell_type": "markdown",
   "metadata": {
    "collapsed": false,
    "pycharm": {
     "name": "#%% md\n"
    }
   },
   "source": [
    "We can plot the histogram of the text lengths."
   ]
  },
  {
   "cell_type": "code",
   "execution_count": 13,
   "metadata": {
    "ExecuteTime": {
     "end_time": "2025-04-11T07:59:18.535052Z",
     "start_time": "2025-04-11T07:54:27.455754Z"
    },
    "collapsed": false,
    "pycharm": {
     "name": "#%%\n"
    }
   },
   "outputs": [
    {
     "data": {
      "text/plain": [
       "<Axes: ylabel='Frequency'>"
      ]
     },
     "execution_count": 13,
     "metadata": {},
     "output_type": "execute_result"
    },
    {
     "data": {
      "image/png": "[encoded data removed]",
      "text/plain": [
       "<Figure size 640x480 with 1 Axes>"
      ]
     },
     "metadata": {},
     "output_type": "display_data"
    }
   ],
   "source": [
    "pd.DataFrame(tweet_ds['train']).groupby('text_length')['text_length'].count().plot.hist(bins=50)"
   ]
  },
  {
   "cell_type": "markdown",
   "metadata": {
    "collapsed": false,
    "pycharm": {
     "name": "#%% md\n"
    }
   },
   "source": [
    "<a name=\"e1\"></a>\n",
    "\n",
    "### Exercise 1: Questions about the datasets\n",
    "1. (1p) What is the size of the training, test and validation datasets?\n",
    "2. (1p) What are the top 5 most frequent emojis in the validation dataset?\n",
    "3. (1p) Compare the distributions of labels (emojis) between training and validation datasets.\n",
    "4. (1p) How many examples with the \"fire\" emoji are in the training dataset?\n",
    "5. (1p) What is the average length (in characters) of the tweets in the training dataset?"
   ]
  },
  {
   "cell_type": "markdown",
   "metadata": {},
   "source": []
  },
  {
   "cell_type": "markdown",
   "metadata": {
    "collapsed": false,
    "pycharm": {
     "name": "#%% md\n"
    }
   },
   "source": [
    "You can add cells here to answer the questions"
   ]
  },
  {
   "cell_type": "code",
   "execution_count": 14,
   "metadata": {
    "ExecuteTime": {
     "end_time": "2025-04-11T07:59:18.535323Z",
     "start_time": "2025-04-11T07:54:28.209018Z"
    }
   },
   "outputs": [],
   "source": [
    "tweet_val_df = pd.DataFrame(tweet_ds['validation'])\n",
    "tweet_train_df = pd.DataFrame(tweet_ds['train'])\n",
    "tweet_test_df = pd.DataFrame(tweet_ds['test'])"
   ]
  },
  {
   "cell_type": "code",
   "execution_count": 15,
   "metadata": {
    "ExecuteTime": {
     "end_time": "2025-04-11T07:59:18.535514Z",
     "start_time": "2025-04-11T07:54:29.588038Z"
    },
    "collapsed": false,
    "pycharm": {
     "name": "#%%\n"
    }
   },
   "outputs": [
    {
     "name": "stdout",
     "output_type": "stream",
     "text": [
      "45000 5000 50000\n",
      "       text  text_length\n",
      "label                   \n",
      "0      9204         9204\n",
      "1      4901         4901\n",
      "2      4713         4713\n",
      "7      2345         2345\n",
      "4      2146         2146\n"
     ]
    },
    {
     "data": {
      "image/png": "[encoded data removed]",
      "text/plain": [
       "<Figure size 1000x500 with 2 Axes>"
      ]
     },
     "metadata": {},
     "output_type": "display_data"
    },
    {
     "name": "stdout",
     "output_type": "stream",
     "text": [
      "2146\n",
      "71.01691111111111\n"
     ]
    },
    {
     "name": "stderr",
     "output_type": "stream",
     "text": [
      "/var/folders/5v/x_y24nhs0kzbn0lkzdgqp0x80000gn/T/ipykernel_2408/3658082618.py:40: FutureWarning: Series.__getitem__ treating keys as positions is deprecated. In a future version, integer keys will always be treated as labels (consistent with DataFrame behavior). To access a value by position, use `ser.iloc[pos]`\n",
      "  print(train_label_counts[4]) # fire emoji\n"
     ]
    },
    {
     "data": {
      "text/html": [
       "<div>\n",
       "<style scoped>\n",
       "    .dataframe tbody tr th:only-of-type {\n",
       "        vertical-align: middle;\n",
       "    }\n",
       "\n",
       "    .dataframe tbody tr th {\n",
       "        vertical-align: top;\n",
       "    }\n",
       "\n",
       "    .dataframe thead th {\n",
       "        text-align: right;\n",
       "    }\n",
       "</style>\n",
       "<table border=\"1\" class=\"dataframe\">\n",
       "  <thead>\n",
       "    <tr style=\"text-align: right;\">\n",
       "      <th></th>\n",
       "      <th>text</th>\n",
       "      <th>label</th>\n",
       "      <th>text_length</th>\n",
       "      <th>emoji</th>\n",
       "    </tr>\n",
       "  </thead>\n",
       "  <tbody>\n",
       "    <tr>\n",
       "      <th>0</th>\n",
       "      <td>Sunday afternoon walking through Venice in the sun with @user ️ ️ ️ @ Abbot Kinney, Venice</td>\n",
       "      <td>12</td>\n",
       "      <td>90</td>\n",
       "      <td>☀</td>\n",
       "    </tr>\n",
       "    <tr>\n",
       "      <th>1</th>\n",
       "      <td>Time for some BBQ and whiskey libations. Chomp, belch, chomp! (@ Lucille's Smokehouse Bar-B-Que)</td>\n",
       "      <td>19</td>\n",
       "      <td>96</td>\n",
       "      <td>😜</td>\n",
       "    </tr>\n",
       "    <tr>\n",
       "      <th>2</th>\n",
       "      <td>Love love love all these people ️ ️ ️ #friends #bff #celebrate #blessed #sundayfunday @ San…</td>\n",
       "      <td>0</td>\n",
       "      <td>92</td>\n",
       "      <td>❤</td>\n",
       "    </tr>\n",
       "    <tr>\n",
       "      <th>3</th>\n",
       "      <td>️ ️ ️ ️ @ Toys\"R\"Us</td>\n",
       "      <td>0</td>\n",
       "      <td>19</td>\n",
       "      <td>❤</td>\n",
       "    </tr>\n",
       "    <tr>\n",
       "      <th>4</th>\n",
       "      <td>Man these are the funniest kids ever!! That face! #HappyBirthdayBubb @ FLIPnOUT Xtreme</td>\n",
       "      <td>2</td>\n",
       "      <td>86</td>\n",
       "      <td>😂</td>\n",
       "    </tr>\n",
       "    <tr>\n",
       "      <th>5</th>\n",
       "      <td>#sandiego @ San Diego, California</td>\n",
       "      <td>11</td>\n",
       "      <td>33</td>\n",
       "      <td>🇺🇸</td>\n",
       "    </tr>\n",
       "    <tr>\n",
       "      <th>6</th>\n",
       "      <td>My little ️ ️ ️ ️ ️ #ObsessedWithMyDog @ Cafe Solstice Capitol Hill</td>\n",
       "      <td>0</td>\n",
       "      <td>67</td>\n",
       "      <td>❤</td>\n",
       "    </tr>\n",
       "    <tr>\n",
       "      <th>7</th>\n",
       "      <td>More #tinyepic things #tinyepicwestern, this one is crazy @user I may be one of your…</td>\n",
       "      <td>19</td>\n",
       "      <td>85</td>\n",
       "      <td>😜</td>\n",
       "    </tr>\n",
       "    <tr>\n",
       "      <th>8</th>\n",
       "      <td>Last night ️ @ Omnia Night Club At Caesars Palace</td>\n",
       "      <td>0</td>\n",
       "      <td>49</td>\n",
       "      <td>❤</td>\n",
       "    </tr>\n",
       "    <tr>\n",
       "      <th>9</th>\n",
       "      <td>friendship at its finest. ....#pixar #toystory #buzz #woody #friends #friendship #bff…</td>\n",
       "      <td>7</td>\n",
       "      <td>86</td>\n",
       "      <td>✨</td>\n",
       "    </tr>\n",
       "  </tbody>\n",
       "</table>\n",
       "</div>"
      ],
      "text/plain": [
       "                                                                                               text  \\\n",
       "0        Sunday afternoon walking through Venice in the sun with @user ️ ️ ️ @ Abbot Kinney, Venice   \n",
       "1  Time for some BBQ and whiskey libations. Chomp, belch, chomp! (@ Lucille's Smokehouse Bar-B-Que)   \n",
       "2      Love love love all these people ️ ️ ️ #friends #bff #celebrate #blessed #sundayfunday @ San…   \n",
       "3                                                                               ️ ️ ️ ️ @ Toys\"R\"Us   \n",
       "4            Man these are the funniest kids ever!! That face! #HappyBirthdayBubb @ FLIPnOUT Xtreme   \n",
       "5                                                                 #sandiego @ San Diego, California   \n",
       "6                               My little ️ ️ ️ ️ ️ #ObsessedWithMyDog @ Cafe Solstice Capitol Hill   \n",
       "7             More #tinyepic things #tinyepicwestern, this one is crazy @user I may be one of your…   \n",
       "8                                                 Last night ️ @ Omnia Night Club At Caesars Palace   \n",
       "9            friendship at its finest. ....#pixar #toystory #buzz #woody #friends #friendship #bff…   \n",
       "\n",
       "   label  text_length emoji  \n",
       "0     12           90     ☀  \n",
       "1     19           96     😜  \n",
       "2      0           92     ❤  \n",
       "3      0           19     ❤  \n",
       "4      2           86     😂  \n",
       "5     11           33    🇺🇸  \n",
       "6      0           67     ❤  \n",
       "7     19           85     😜  \n",
       "8      0           49     ❤  \n",
       "9      7           86     ✨  "
      ]
     },
     "execution_count": 15,
     "metadata": {},
     "output_type": "execute_result"
    }
   ],
   "source": [
    "import matplotlib.pyplot as plt\n",
    "import seaborn as sns\n",
    "import numpy as np\n",
    "\n",
    "### YOUR CODE HERE\n",
    "#1 45k, 50k, 5k\n",
    "print(len(tweet_train_df), len(tweet_val_df), len(tweet_test_df))\n",
    "\n",
    "#2 0,1,2,7,4\n",
    "count_label = tweet_train_df.groupby('label').count()\n",
    "print(count_label.sort_values(by='text', ascending=False).head(5))\n",
    "\n",
    "#3 Similar, Validation set looks Smoother and less noisy\n",
    "train_counts = tweet_train_df['label'].value_counts()\n",
    "val_counts = tweet_val_df['label'].value_counts()\n",
    "labels = sorted(set(train_counts.index).union(val_counts.index))\n",
    "train_values = [train_counts.get(label, 0) for label in labels]\n",
    "val_values = [val_counts.get(label, 0) for label in labels]\n",
    "\n",
    "x = range(len(labels))\n",
    "width = 0.4\n",
    "fig, ax1 = plt.subplots(figsize=(10, 5))\n",
    "ax2 = ax1.twinx()\n",
    "ax1.bar([i - width/2 for i in x], train_values, width=width, color='blue', label='Train')\n",
    "ax1.set_ylabel('Train Count', color='blue')\n",
    "ax2.bar([i + width/2 for i in x], val_values, width=width, color='orange', label='Validation')\n",
    "ax2.set_ylabel('Validation Count', color='orange')\n",
    "plt.xticks(x, labels, rotation=90)\n",
    "plt.title('Label Distribution: Train vs Validation')\n",
    "fig.tight_layout()\n",
    "plt.show()\n",
    "\n",
    "#4 2146\n",
    "label_names = tweet_ds['train'].features['label'].names\n",
    "train_label_counts = tweet_train_df['label'].value_counts()\n",
    "train_label_counts.index = train_label_counts.index.map(lambda i: label_names[i])\n",
    "label_mapping = {i: label for i, label in enumerate(label_names)}\n",
    "label_mapping\n",
    "# find count of fire emoji at label 4!!!\n",
    "print(train_label_counts[4]) # fire emoji\n",
    "\n",
    "#5 71.01691111111111\n",
    "print(tweet_train_df[\"text_length\"].mean())\n",
    "tweet_train_df['emoji'] = tweet_train_df['label'].map(label_mapping)\n",
    "# display the whole entry\n",
    "pd.set_option('display.max_colwidth', None)\n",
    "tweet_train_df.head(10)\n"
   ]
  },
  {
   "cell_type": "markdown",
   "metadata": {
    "collapsed": false,
    "pycharm": {
     "name": "#%% md\n"
    }
   },
   "source": [
    "## 2. Tokenization\n",
    "\n",
    "In this section we will preprocess the dataset by cleaning and tokenizing the entries.\n",
    "Datasets library contains a very useful method map. It expects a function that will receive an example from the dataset. This function will be applied to all entries."
   ]
  },
  {
   "cell_type": "markdown",
   "metadata": {
    "collapsed": false,
    "pycharm": {
     "name": "#%% md\n"
    }
   },
   "source": [
    "### 2.1 Cleaning the text"
   ]
  },
  {
   "cell_type": "markdown",
   "metadata": {
    "collapsed": false,
    "pycharm": {
     "name": "#%% md\n"
    }
   },
   "source": [
    "<a name=\"e2\"></a>\n",
    "### Exercise 2: Write the text cleaning function\n",
    "\n",
    "Include at least the following steps:\n",
    "- (1p) remove comma between numbers, i.e. 15,000 -> 15000\n",
    "- (1p) remove multiple spaces\n",
    "- (1p) space out the punctuation (i.e. \"hello, world.\" -> \"hello , world .\")\n",
    "- (3x1p) three more cleaning steps of your choice"
   ]
  },
  {
   "cell_type": "code",
   "execution_count": null,
   "metadata": {
    "ExecuteTime": {
     "end_time": "2025-04-11T07:59:18.535648Z",
     "start_time": "2025-04-11T07:54:29.730208Z"
    },
    "collapsed": false,
    "pycharm": {
     "name": "#%%\n"
    }
   },
   "outputs": [],
   "source": [
    "def clean(example):\n",
    "    \"\"\"\n",
    "    Cleans the example from the Dataset\n",
    "    Args:\n",
    "        example: an example from the Dataset\n",
    "\n",
    "    Returns: update example containing 'clean' column\n",
    "\n",
    "    \"\"\"\n",
    "    text = example['text']\n",
    "\n",
    "    # Empty text\n",
    "    if text == '':\n",
    "        example['clean'] = ''\n",
    "        return example\n",
    "\n",
    "    # 'text' from the example can be of type numpy.str_, let's convert it to a python str\n",
    "    text = str(text)\n",
    "\n",
    "    ### YOUR CODE HERE\n",
    "    \n",
    "    #4 substitute by one occurance if some punction is repeated more than 4+\n",
    "    text = re.sub(r'([.,!?;:])\\1\\1\\1+', r'\\1\\1\\1', text)\n",
    "    \n",
    "    # remove comma between numbers\n",
    "    text = re.sub(r'(\\d+),(\\d+)', r'\\1\\2', text)\n",
    "    \n",
    "    # space out the punctuation\n",
    "    text = re.sub(r\"([.,!?;:])\", r\" \\1 \", text)\n",
    "\n",
    "    # remove multiple spaces\n",
    "    text = re.sub(r\"\\s+\", r\" \", text)\n",
    "\n",
    "    # three more cleaning steps of your choice\n",
    "    \n",
    "    #1 lowercase\n",
    "    text = text.lower()\n",
    "    \n",
    "    #2 remove #, @, *, ^, () , {} , ...\n",
    "    text = re.sub(r'[@#*^(){}\\'\\\"%\\$&\\[\\]]', r\"\", text)\n",
    "    \n",
    "    #3 delete the \"-\" between words\n",
    "    text = re.sub(r'\\-', r\"\", text)\n",
    "    \n",
    "    # remove the initial and final spaces\n",
    "    text = text.strip()\n",
    "    \n",
    "    # reinforce the previous ones\n",
    "    text = re.sub(r\"([.,!?;:])\", r\" \\1 \", text)\n",
    "    text = re.sub(r\" ️\", r' ', text)\n",
    "    text = re.sub(r\"\\s+\", r' ', text)\n",
    "\n",
    "    ### YOUR CODE ENDS HERE\n",
    "\n",
    "    # Update the example with the cleaned text\n",
    "    example['clean'] = text.strip()\n",
    "    return example"
   ]
  },
  {
   "cell_type": "markdown",
   "metadata": {
    "collapsed": false,
    "pycharm": {
     "name": "#%% md\n"
    }
   },
   "source": [
    "This is an example of applying the ```clean()``` function you just wrote to a single entry of the dataset. The function added a 'clean' field to the example."
   ]
  },
  {
   "cell_type": "code",
   "execution_count": 17,
   "metadata": {
    "ExecuteTime": {
     "end_time": "2025-04-11T07:59:18.535827Z",
     "start_time": "2025-04-11T07:54:29.753695Z"
    },
    "collapsed": false,
    "pycharm": {
     "name": "#%%\n"
    }
   },
   "outputs": [
    {
     "name": "stdout",
     "output_type": "stream",
     "text": [
      "Original tweet item:\n",
      "Love love love all these people ️ ️ ️ #friends #bff #celebrate #blessed #sundayfunday @ San…\n",
      "Cleaned tweet item:\n",
      "love love love all these people friends bff celebrate blessed sundayfunday san…\n"
     ]
    }
   ],
   "source": [
    "print('Original tweet item:')\n",
    "print(tweet_ds['train'][2]['text'])\n",
    "print('Cleaned tweet item:')\n",
    "print(clean(tweet_ds['train'][2])['clean'])"
   ]
  },
  {
   "cell_type": "markdown",
   "metadata": {
    "collapsed": false,
    "pycharm": {
     "name": "#%% md\n"
    }
   },
   "source": [
    "Let's finally use the ```map()``` method and apply your `clean()` function to all entries of the dataset. You can see that the ```clean``` column has been added to each split."
   ]
  },
  {
   "cell_type": "markdown",
   "metadata": {
    "collapsed": false,
    "pycharm": {
     "name": "#%% md\n"
    }
   },
   "source": [
    "Below, we will apply your function to all entries in the dataset."
   ]
  },
  {
   "cell_type": "code",
   "execution_count": 18,
   "metadata": {
    "ExecuteTime": {
     "end_time": "2025-04-11T07:59:18.535888Z",
     "start_time": "2025-04-11T07:54:29.809432Z"
    },
    "collapsed": false,
    "pycharm": {
     "name": "#%%\n"
    }
   },
   "outputs": [
    {
     "name": "stdout",
     "output_type": "stream",
     "text": [
      "DatasetDict({\n",
      "    train: Dataset({\n",
      "        features: ['text', 'label', 'text_length', 'clean'],\n",
      "        num_rows: 45000\n",
      "    })\n",
      "    test: Dataset({\n",
      "        features: ['text', 'label', 'text_length', 'clean'],\n",
      "        num_rows: 50000\n",
      "    })\n",
      "    validation: Dataset({\n",
      "        features: ['text', 'label', 'text_length', 'clean'],\n",
      "        num_rows: 5000\n",
      "    })\n",
      "})\n"
     ]
    }
   ],
   "source": [
    "tweet_ds = tweet_ds.map(clean)\n",
    "print(tweet_ds)"
   ]
  },
  {
   "cell_type": "markdown",
   "metadata": {
    "collapsed": false,
    "pycharm": {
     "name": "#%% md\n"
    }
   },
   "source": [
    "### 2.2 Build vocabulary\n",
    "\n",
    "In the previous section, we implemented the cleaning of the dataset. Now, we will tokenize the text splitting it by spaces. We will build a vocabulary based on the cleaned text of the `train` split. We will investigate some properties of corpora (e.g. Zipf's law).\n",
    "\n",
    "The function below builds a vocabulary from the dataset. It counts the occurrences of the words in the dataset using the Counter class. Check the documentation here [collections.Counter](https://docs.python.org/3/library/collections.html#collections.Counter)."
   ]
  },
  {
   "cell_type": "markdown",
   "metadata": {
    "collapsed": false,
    "pycharm": {
     "name": "#%% md\n"
    }
   },
   "source": [
    "### Exercise 3: Build the vocabulary\n",
    "(5p) Fill in the function below to build the vocabulary from the dataset. The function should return a `Counter` object with the words and their frequencies. The variable named `vocab` is already initialized as an empty `Counter` object."
   ]
  },
  {
   "cell_type": "code",
   "execution_count": 19,
   "metadata": {
    "ExecuteTime": {
     "end_time": "2025-04-11T07:59:18.535928Z",
     "start_time": "2025-04-11T07:54:29.885139Z"
    },
    "collapsed": false,
    "pycharm": {
     "name": "#%%\n"
    }
   },
   "outputs": [],
   "source": [
    "def build_vocab_counter(dataset):\n",
    "    \"\"\"\n",
    "    Builds a vocabulary from the dataset\n",
    "    Args:\n",
    "        dataset: a dataset\n",
    "\n",
    "    Returns: a vocabulary\n",
    "\n",
    "    \"\"\"\n",
    "    vocab = Counter()\n",
    "\n",
    "    ### YOUR CODE HERE\n",
    "\n",
    "    for example in tqdm.tqdm(dataset):\n",
    "        tokens = example['clean'].split()\n",
    "        vocab.update(tokens)\n",
    "\n",
    "    ### YOUR CODE ENDS HERE\n",
    "    return vocab"
   ]
  },
  {
   "cell_type": "code",
   "execution_count": 20,
   "metadata": {
    "ExecuteTime": {
     "end_time": "2025-04-11T07:59:18.536004Z",
     "start_time": "2025-04-11T07:54:29.906722Z"
    },
    "collapsed": false,
    "pycharm": {
     "name": "#%%\n"
    }
   },
   "outputs": [
    {
     "name": "stderr",
     "output_type": "stream",
     "text": [
      "100%|██████████| 45000/45000 [00:00<00:00, 62514.32it/s]"
     ]
    },
    {
     "name": "stdout",
     "output_type": "stream",
     "text": [
      "Size of the vocabulary: 60513\n"
     ]
    },
    {
     "name": "stderr",
     "output_type": "stream",
     "text": [
      "\n"
     ]
    }
   ],
   "source": [
    "vocab_counter = build_vocab_counter(tweet_ds['train'])\n",
    "print('Size of the vocabulary:', len(vocab_counter))"
   ]
  },
  {
   "cell_type": "markdown",
   "metadata": {
    "collapsed": false,
    "pycharm": {
     "name": "#%% md\n"
    }
   },
   "source": [
    "Because we created a counter, we can easily check the most and least common words in the vocabulary. Do the most common words make sense? How about the least common ones?"
   ]
  },
  {
   "cell_type": "code",
   "execution_count": 21,
   "metadata": {
    "ExecuteTime": {
     "end_time": "2025-04-11T07:59:18.536071Z",
     "start_time": "2025-04-11T07:54:30.661430Z"
    },
    "collapsed": false,
    "pycharm": {
     "name": "#%%\n"
    }
   },
   "outputs": [
    {
     "name": "stdout",
     "output_type": "stream",
     "text": [
      "Most common:\n",
      "[('.', 22551), ('!', 16412), ('the', 13458), (',', 12385), ('user', 12236), ('to', 7661), ('my', 7520), ('a', 6830), ('i', 6731), ('in', 5937)]\n",
      "Least common:\n",
      "[('corban…', 1), ('southbayla', 1), ('thedabberchick', 1), ('nector', 1), ('chefking1921express', 1), ('rolltide', 1), ('bffweekend', 1), ('nunez', 1), ('happylaborday', 1), ('five50', 1)]\n"
     ]
    }
   ],
   "source": [
    "print('Most common:')\n",
    "print(vocab_counter.most_common(10))\n",
    "print('Least common:')\n",
    "print(vocab_counter.most_common()[-10:]) "
   ]
  },
  {
   "cell_type": "markdown",
   "metadata": {
    "collapsed": false,
    "pycharm": {
     "name": "#%% md\n"
    }
   },
   "source": [
    "We can also plot the counts of the words. You can check the [Power law](https://en.wikipedia.org/wiki/Power_law) if you are more interested."
   ]
  },
  {
   "cell_type": "code",
   "execution_count": 22,
   "metadata": {
    "ExecuteTime": {
     "end_time": "2025-04-11T07:59:18.536143Z",
     "start_time": "2025-04-11T07:54:30.700067Z"
    },
    "collapsed": false,
    "pycharm": {
     "name": "#%%\n"
    }
   },
   "outputs": [
    {
     "data": {
      "text/plain": [
       "Text(0, 0.5, 'count')"
      ]
     },
     "execution_count": 22,
     "metadata": {},
     "output_type": "execute_result"
    },
    {
     "data": {
      "image/png": "[encoded data removed]",
      "text/plain": [
       "<Figure size 640x480 with 1 Axes>"
      ]
     },
     "metadata": {},
     "output_type": "display_data"
    }
   ],
   "source": [
    "import matplotlib.pyplot as plt\n",
    "\n",
    "plt.loglog([val for word, val in vocab_counter.most_common()])\n",
    "plt.xlabel('rank')\n",
    "plt.ylabel('count')"
   ]
  },
  {
   "cell_type": "markdown",
   "metadata": {
    "collapsed": false,
    "pycharm": {
     "name": "#%% md\n"
    }
   },
   "source": [
    "The plot shows that the distribution of the words in the vocabulary follows the Zipf's law. The most frequent word occurs approximately twice as often as the second most frequent word, three times as often as the third most frequent word, etc.\n",
    "\n",
    "We can also filter the vocabulary by the frequency of the words. We will only consider the most frequent words and mark the rest as the `<unk>` token. Here we set the maximum vocabulary size to 10,000. But in the later steps, you will experiment with different sizes."
   ]
  },
  {
   "cell_type": "code",
   "execution_count": 23,
   "metadata": {
    "ExecuteTime": {
     "end_time": "2025-04-11T07:59:18.536240Z",
     "start_time": "2025-04-11T07:54:30.919096Z"
    },
    "collapsed": false,
    "pycharm": {
     "name": "#%%\n"
    }
   },
   "outputs": [
    {
     "name": "stdout",
     "output_type": "stream",
     "text": [
      "10000\n"
     ]
    }
   ],
   "source": [
    "max_vocab_size = 10000\n",
    "vocab = vocab_counter.most_common(max_vocab_size)\n",
    "# cast to list of words\n",
    "vocab = [word for word, _ in vocab]\n",
    "print(len(vocab))"
   ]
  },
  {
   "cell_type": "markdown",
   "metadata": {
    "collapsed": false,
    "pycharm": {
     "name": "#%% md\n"
    }
   },
   "source": [
    "### Exercise 4: Frequency of pairs of words (bigrams)\n",
    "Calculate the frequency of (neighbouring) pairs of words in the training dataset.\n",
    "- (5p) List the most and least common pairs. Do the most common pairs make sense?\n",
    "- (2p) How many pairs occur only once in the dataset?\n",
    "- (5p) Plot the distribution of the pair frequencies."
   ]
  },
  {
   "cell_type": "code",
   "execution_count": 24,
   "metadata": {
    "ExecuteTime": {
     "end_time": "2025-04-11T07:59:18.536366Z",
     "start_time": "2025-04-11T07:54:31.039863Z"
    }
   },
   "outputs": [
    {
     "name": "stdout",
     "output_type": "stream",
     "text": [
      "Most common pairs:\n",
      "[(('.', '.'), 6611), (('!', '!'), 4402), ((',', 'california'), 3342), (('amp', ';'), 2019), (('los', 'angeles'), 1723), (('with', 'my'), 1071), (('in', 'the'), 1002), (('angeles', ','), 998), (('las', 'vegas'), 988), (('user', 'user'), 983)]\n",
      "Least common pairs:\n",
      "[(('chick', 'loveher'), 1), (('loveher', 'bff'), 1), (('bff', 'carshow'), 1), (('1', 'night'), 1), (('safe', 'this'), 1), (('beer', 'nv'), 1), (('mini', 'is'), 1), (('one', 'deserves'), 1), (('deserves', 'her'), 1), (('her', 'las'), 1)]\n"
     ]
    }
   ],
   "source": [
    "# iterate over each text in dataset and iterate over each word in the text to count occurance over every i-1 i th word count\n",
    "pair_count_counter = Counter()\n",
    "for example in tweet_ds['train']:\n",
    "    tokens = example['clean'].split()\n",
    "    for i in range(len(tokens) - 1):\n",
    "        word1 = tokens[i]\n",
    "        word2 = tokens[i + 1]\n",
    "        if word1 in vocab and word2 in vocab:\n",
    "            pair_count_counter[(word1, word2)] += 1\n",
    "\n",
    "print('Most common pairs:')\n",
    "print(pair_count_counter.most_common(10))\n",
    "print('Least common pairs:')\n",
    "print(pair_count_counter.most_common()[-10:])"
   ]
  },
  {
   "cell_type": "code",
   "execution_count": 25,
   "metadata": {
    "ExecuteTime": {
     "end_time": "2025-04-11T07:59:18.536457Z",
     "start_time": "2025-04-11T07:54:42.732862Z"
    }
   },
   "outputs": [
    {
     "name": "stdout",
     "output_type": "stream",
     "text": [
      "Number of pairs occurring just once: 109115\n"
     ]
    },
    {
     "data": {
      "text/plain": [
       "[<matplotlib.lines.Line2D at 0x111e46c30>]"
      ]
     },
     "execution_count": 25,
     "metadata": {},
     "output_type": "execute_result"
    },
    {
     "data": {
      "image/png": "[encoded data removed]",
      "text/plain": [
       "<Figure size 640x480 with 1 Axes>"
      ]
     },
     "metadata": {},
     "output_type": "display_data"
    }
   ],
   "source": [
    "# count the number of pairs occuring just once\n",
    "print('Number of pairs occurring just once:', len([pair for pair, count in pair_count_counter.items() if count == 1]))\n",
    "\n",
    "# plot the distribution of the pairs frequencies\n",
    "plt.loglog([val for pair, val in pair_count_counter.most_common()])\n",
    "\n",
    "\n"
   ]
  },
  {
   "cell_type": "markdown",
   "metadata": {
    "collapsed": false,
    "pycharm": {
     "name": "#%% md\n"
    }
   },
   "source": [
    "### 2.3 Tokenize the dataset\n",
    "The function below tokenizes the cleaned text (```example['clean']```) by splitting it on spaces. It replaces the words that are not in the vocabulary with the `<unk>` token."
   ]
  },
  {
   "cell_type": "markdown",
   "metadata": {
    "collapsed": false,
    "pycharm": {
     "name": "#%% md\n"
    }
   },
   "source": [
    "### Exercise 5: Tokenize the dataset\n",
    "\n",
    "(5p) Fill in the function below to tokenize the dataset. The function will be applied to the dataset through the `map()` method, so it returns the updated example. Your task is to split the text by spaces and replace the words that are not in the vocabulary with the `<unk>` token."
   ]
  },
  {
   "cell_type": "code",
   "execution_count": 26,
   "metadata": {
    "ExecuteTime": {
     "end_time": "2025-04-11T07:59:18.536547Z",
     "start_time": "2025-04-11T07:54:43.006331Z"
    },
    "collapsed": false,
    "pycharm": {
     "name": "#%%\n"
    }
   },
   "outputs": [],
   "source": [
    "def tokenize(example, vocab, unknown_token='<unk>'):\n",
    "    \"\"\"\n",
    "    Tokenizes the example from the Dataset\n",
    "    Args:\n",
    "        example: an example from the Dataset\n",
    "        vocab: a vocabulary as a list of words\n",
    "        unknown_token: a token to replace the words that are not in the vocabulary\n",
    "    Returns: update example containing 'tokens' column\n",
    "\n",
    "    \"\"\"\n",
    "    text = example['clean']\n",
    "    tokens = None # list of tokens, your code should fill this variable\n",
    "\n",
    "    ### YOUR CODE HERE\n",
    "\n",
    "    # Split the text into tokens by whitespaces\n",
    "    tokens = text.split()\n",
    "    \n",
    "    # Replace tokens not in the vocabulary with the unknown token\n",
    "    tokens = [token if token in vocab else unknown_token for token in tokens]\n",
    "\n",
    "    ### YOUR CODE ENDS HERE\n",
    "\n",
    "    example['tokens'] = tokens\n",
    "    return example"
   ]
  },
  {
   "cell_type": "code",
   "execution_count": 27,
   "metadata": {
    "ExecuteTime": {
     "end_time": "2025-04-11T07:59:18.538288Z",
     "start_time": "2025-04-11T07:54:43.110484Z"
    },
    "collapsed": false,
    "pycharm": {
     "name": "#%%\n"
    }
   },
   "outputs": [
    {
     "name": "stdout",
     "output_type": "stream",
     "text": [
      "DatasetDict({\n",
      "    train: Dataset({\n",
      "        features: ['text', 'label', 'text_length', 'clean', 'tokens'],\n",
      "        num_rows: 45000\n",
      "    })\n",
      "    test: Dataset({\n",
      "        features: ['text', 'label', 'text_length', 'clean', 'tokens'],\n",
      "        num_rows: 50000\n",
      "    })\n",
      "    validation: Dataset({\n",
      "        features: ['text', 'label', 'text_length', 'clean', 'tokens'],\n",
      "        num_rows: 5000\n",
      "    })\n",
      "})\n"
     ]
    }
   ],
   "source": [
    "tweet_ds = tweet_ds.map(tokenize, fn_kwargs={'vocab': vocab})\n",
    "print(tweet_ds)"
   ]
  },
  {
   "cell_type": "markdown",
   "metadata": {
    "collapsed": false,
    "pycharm": {
     "name": "#%% md\n"
    }
   },
   "source": [
    "Let us examine several entries from the dataset. We can see that the `tokens` column has been added to each example."
   ]
  },
  {
   "cell_type": "code",
   "execution_count": 28,
   "metadata": {
    "ExecuteTime": {
     "end_time": "2025-04-11T07:59:18.538580Z",
     "start_time": "2025-04-11T07:54:43.247343Z"
    },
    "collapsed": false,
    "pycharm": {
     "name": "#%%\n"
    }
   },
   "outputs": [
    {
     "name": "stdout",
     "output_type": "stream",
     "text": [
      "Original tweet:\n",
      "Sunday afternoon walking through Venice in the sun with @user ️ ️ ️ @ Abbot Kinney, Venice\n",
      "Tokenized tweet:\n",
      "['sunday', 'afternoon', 'walking', 'through', 'venice', 'in', 'the', 'sun', 'with', 'user', 'abbot', 'kinney', ',', 'venice']\n",
      "Original tweet:\n",
      "Time for some BBQ and whiskey libations. Chomp, belch, chomp! (@ Lucille's Smokehouse Bar-B-Que)\n",
      "Tokenized tweet:\n",
      "['time', 'for', 'some', 'bbq', 'and', 'whiskey', 'libations', '.', '<unk>', ',', '<unk>', ',', '<unk>', '!', 'lucilles', 'smokehouse', 'barbque']\n",
      "Original tweet:\n",
      "Love love love all these people ️ ️ ️ #friends #bff #celebrate #blessed #sundayfunday @ San…\n",
      "Tokenized tweet:\n",
      "['love', 'love', 'love', 'all', 'these', 'people', 'friends', 'bff', 'celebrate', 'blessed', 'sundayfunday', 'san…']\n",
      "Original tweet:\n",
      "️ ️ ️ ️ @ Toys\"R\"Us\n",
      "Tokenized tweet:\n",
      "['️', '<unk>']\n",
      "Original tweet:\n",
      "Man these are the funniest kids ever!! That face! #HappyBirthdayBubb @ FLIPnOUT Xtreme\n",
      "Tokenized tweet:\n",
      "['man', 'these', 'are', 'the', 'funniest', 'kids', 'ever', '!', '!', 'that', 'face', '!', '<unk>', '<unk>', '<unk>']\n",
      "Original tweet:\n",
      "#sandiego @ San Diego, California\n",
      "Tokenized tweet:\n",
      "['sandiego', 'san', 'diego', ',', 'california']\n",
      "Original tweet:\n",
      "My little ️ ️ ️ ️ ️ #ObsessedWithMyDog @ Cafe Solstice Capitol Hill\n",
      "Tokenized tweet:\n",
      "['my', 'little', '<unk>', 'cafe', 'solstice', 'capitol', 'hill']\n",
      "Original tweet:\n",
      "More #tinyepic things #tinyepicwestern, this one is crazy @user I may be one of your…\n",
      "Tokenized tweet:\n",
      "['more', '<unk>', 'things', '<unk>', ',', 'this', 'one', 'is', 'crazy', 'user', 'i', 'may', 'be', 'one', 'of', 'your…']\n",
      "Original tweet:\n",
      "Last night ️ @ Omnia Night Club At Caesars Palace\n",
      "Tokenized tweet:\n",
      "['last', 'night', 'omnia', 'night', 'club', 'at', 'caesars', 'palace']\n",
      "Original tweet:\n",
      "friendship at its finest. ....#pixar #toystory #buzz #woody #friends #friendship #bff…\n",
      "Tokenized tweet:\n",
      "['friendship', 'at', 'its', 'finest', '.', '.', '.', '.', '<unk>', '<unk>', 'buzz', 'woody', 'friends', 'friendship', 'bff…']\n",
      "45000\n"
     ]
    }
   ],
   "source": [
    "for i in range(10):\n",
    "    print('Original tweet:')\n",
    "    print(tweet_ds['train'][i]['text'])\n",
    "    print('Tokenized tweet:')\n",
    "    print(tweet_ds['train'][i]['tokens'])\n",
    "\n",
    "print(len(tweet_ds['train']['tokens']))"
   ]
  },
  {
   "cell_type": "markdown",
   "metadata": {
    "collapsed": false,
    "pycharm": {
     "name": "#%% md\n"
    }
   },
   "source": [
    "Make sure that the tokenization works as you intended. If not, revisit the cleaning and tokenization functions."
   ]
  },
  {
   "cell_type": "markdown",
   "metadata": {
    "collapsed": false,
    "pycharm": {
     "name": "#%% md\n"
    }
   },
   "source": [
    "### Exercise 6: Questions about the tokenization\n",
    "1. (3p) How many unknown tokens are in the validation dataset after tokenization?\n",
    "2. (3p) What is the distribution of the number of tokens in the training dataset?\n",
    "3. (4p) How the number of tokens corresponds to the number of characters in our dataset?\n",
    "4. (4p) How the size of the vocabulary (```max_vocab_size```) affects the number of unknown tokens?\n",
    "5. (4p) How does the size of the vocabulary affect the number of tokens in the dataset?\n",
    "6. (4p) Think about the advantages and disadvantages of the tokenization method we used. What are the cases when it will not work well?\n",
    "\n",
    "For answering these questions make sure to include a proper mix of numbers/plots/tables etc. and comments."
   ]
  },
  {
   "cell_type": "code",
   "execution_count": 51,
   "metadata": {
    "ExecuteTime": {
     "end_time": "2025-04-11T07:59:30.996827Z",
     "start_time": "2025-04-11T07:59:26.674860Z"
    }
   },
   "outputs": [
    {
     "name": "stdout",
     "output_type": "stream",
     "text": [
      "3931\n",
      "555056\n"
     ]
    },
    {
     "data": {
      "image/png": "[encoded data removed]",
      "text/plain": [
       "<Figure size 640x480 with 1 Axes>"
      ]
     },
     "metadata": {},
     "output_type": "display_data"
    }
   ],
   "source": [
    "#1 How many unknown tokens are in the validation dataset after tokenization? in column 'tokens' tweet_ds['train']['tokens']\n",
    "unknown_count = sum(1 for tokens in tweet_ds['validation']['tokens'] if '<unk>' in tokens)\n",
    "print(unknown_count)\n",
    "\n",
    "#2 distribution of the number of tokens in the training dataset\n",
    "plt.hist([len(tokens) for tokens in tweet_ds['train']['tokens']], bins=40)\n",
    "plt.xlabel('Number of tokens')\n",
    "plt.ylabel('Count')\n",
    "\n",
    "total_tokens = 0\n",
    "for tweet in tweet_ds['train']:\n",
    "    total_tokens += len(tweet['tokens'])\n",
    "\n",
    "print(total_tokens)\n"
   ]
  },
  {
   "cell_type": "code",
   "execution_count": 30,
   "metadata": {
    "ExecuteTime": {
     "end_time": "2025-04-11T07:59:18.531987Z",
     "start_time": "2025-04-11T07:54:45.217394Z"
    }
   },
   "outputs": [
    {
     "data": {
      "text/plain": [
       "Text(0, 0.5, 'Number of characters')"
      ]
     },
     "execution_count": 30,
     "metadata": {},
     "output_type": "execute_result"
    },
    {
     "data": {
      "image/png": "[encoded data removed]",
      "text/plain": [
       "<Figure size 640x480 with 1 Axes>"
      ]
     },
     "metadata": {},
     "output_type": "display_data"
    }
   ],
   "source": [
    "#3 relation between number of tokens and number of characters\n",
    "plt.scatter([len(tokens) for tokens in tweet_ds['train']['tokens']], [len(example['clean']) for example in tweet_ds['train']])\n",
    "plt.xlabel('Number of tokens')\n",
    "plt.ylabel('Number of characters')"
   ]
  },
  {
   "cell_type": "code",
   "execution_count": 31,
   "metadata": {
    "ExecuteTime": {
     "end_time": "2025-04-11T07:59:18.532422Z",
     "start_time": "2025-04-11T07:54:46.790601Z"
    }
   },
   "outputs": [
    {
     "data": {
      "text/plain": [
       "Text(0, 0.5, 'Number of unknown tokens')"
      ]
     },
     "execution_count": 31,
     "metadata": {},
     "output_type": "execute_result"
    },
    {
     "data": {
      "image/png": "[encoded data removed]",
      "text/plain": [
       "<Figure size 640x480 with 1 Axes>"
      ]
     },
     "metadata": {},
     "output_type": "display_data"
    }
   ],
   "source": [
    "#4 relation between max_vocab_size and number of unknown tokens\n",
    "max_vocab_sizes = np.arange(2000, 20000, 2000)\n",
    "unknown_counts = []\n",
    "for max_vocab_size in max_vocab_sizes:\n",
    "    vocab = vocab_counter.most_common(max_vocab_size)\n",
    "    vocab = [word for word, _ in vocab]\n",
    "    tweet_ds_123 = tweet_ds['train'].map(tokenize, fn_kwargs={'vocab': vocab})\n",
    "    unknown_count = sum(1 for tokens in tweet_ds_123['tokens'] if '<unk>' in tokens)\n",
    "    unknown_counts.append(unknown_count)\n",
    "plt.plot(max_vocab_sizes, unknown_counts)\n",
    "plt.xlabel('Max vocab size')\n",
    "plt.ylabel('Number of unknown tokens')\n"
   ]
  },
  {
   "cell_type": "code",
   "execution_count": 32,
   "metadata": {
    "ExecuteTime": {
     "end_time": "2025-04-11T07:59:18.539331Z",
     "start_time": "2025-04-11T07:54:49.741952Z"
    }
   },
   "outputs": [
    {
     "data": {
      "text/plain": [
       "Text(0, 0.5, 'Number of tokens')"
      ]
     },
     "execution_count": 32,
     "metadata": {},
     "output_type": "execute_result"
    },
    {
     "data": {
      "image/png": "[encoded data removed]",
      "text/plain": [
       "<Figure size 640x480 with 1 Axes>"
      ]
     },
     "metadata": {},
     "output_type": "display_data"
    }
   ],
   "source": [
    "#5 relation between max_vocab_size and number of tokens\n",
    "max_vocab_sizes = np.arange(2000, 20000, 2000)\n",
    "token_counts = []\n",
    "for max_vocab_size in max_vocab_sizes:\n",
    "    vocab = vocab_counter.most_common(max_vocab_size)\n",
    "    vocab = [word for word, _ in vocab]\n",
    "    tweet_ds_123 = tweet_ds['train'].map(tokenize, fn_kwargs={'vocab': vocab})\n",
    "    token_count = sum(len(tokens) for tokens in tweet_ds_123['tokens'])\n",
    "    token_counts.append(token_count)\n",
    "plt.plot(max_vocab_sizes, token_counts)\n",
    "plt.xlabel('Max vocab size')\n",
    "plt.ylabel('Number of tokens')"
   ]
  },
  {
   "cell_type": "markdown",
   "metadata": {
    "collapsed": false,
    "pycharm": {
     "name": "#%% md\n"
    }
   },
   "source": [
    "## 3. Byte Pair Encoding\n",
    "\n",
    "In this section, you will build the Byte Pair Encoding (BPE) tokenizer. BPE is an algorithm that replaces the most frequent pair of tokens (initially characters) with a new token. The algorithm is configured by the number of merges that are performed. You can find the paper here [Neural Machine Translation of Rare Words with Subword Units](https://arxiv.org/abs/1508.07909)."
   ]
  },
  {
   "cell_type": "markdown",
   "metadata": {
    "collapsed": false,
    "pycharm": {
     "name": "#%% md\n"
    }
   },
   "source": [
    "### 3.1 Finding the initial set of characters\n",
    "BPE algorithm starts with the set of characters that occur in the dataset. We will build a character counter from the dataset."
   ]
  },
  {
   "cell_type": "markdown",
   "metadata": {
    "collapsed": false,
    "pycharm": {
     "name": "#%% md\n"
    }
   },
   "source": [
    "### Exercise 7: Counting the characters\n",
    "\n",
    "(5p) In this exercise, we build a counter with the frequencies of all characters in the dataset. Iterate over the dataset and count the characters in the `clean` column. The function returns a `Counter` object with the characters and their frequencies."
   ]
  },
  {
   "cell_type": "code",
   "execution_count": 33,
   "metadata": {
    "ExecuteTime": {
     "end_time": "2025-04-11T07:59:18.539484Z",
     "start_time": "2025-04-11T07:54:52.381634Z"
    },
    "collapsed": false,
    "pycharm": {
     "name": "#%%\n"
    }
   },
   "outputs": [],
   "source": [
    "def build_character_counter(dataset):\n",
    "    \"\"\"\n",
    "    Builds a character counter from the dataset\n",
    "    Args:\n",
    "        dataset: a dataset\n",
    "\n",
    "    Returns: a character counter\n",
    "\n",
    "    \"\"\"\n",
    "    char_counter = Counter()\n",
    "\n",
    "    ### YOUR CODE HERE\n",
    "\n",
    "    for example in tqdm.tqdm(dataset):\n",
    "        text = example['clean']\n",
    "        for char in text:\n",
    "            char_counter[char] += 1\n",
    "\n",
    "\n",
    "    ### YOUR CODE ENDS HERE\n",
    "\n",
    "    return char_counter"
   ]
  },
  {
   "cell_type": "markdown",
   "metadata": {
    "collapsed": false,
    "pycharm": {
     "name": "#%% md\n"
    }
   },
   "source": [
    "The next cell applies the function to the training dataset and prints the size of the vocabulary and the most common characters."
   ]
  },
  {
   "cell_type": "code",
   "execution_count": 34,
   "metadata": {
    "ExecuteTime": {
     "end_time": "2025-04-11T07:59:18.539613Z",
     "start_time": "2025-04-11T07:54:52.485244Z"
    },
    "collapsed": false,
    "pycharm": {
     "name": "#%%\n"
    }
   },
   "outputs": [
    {
     "name": "stderr",
     "output_type": "stream",
     "text": [
      "100%|██████████| 45000/45000 [00:01<00:00, 26923.17it/s]"
     ]
    },
    {
     "name": "stdout",
     "output_type": "stream",
     "text": [
      "496\n",
      "[(' ', 510056), ('e', 263859), ('a', 222430), ('o', 191294), ('t', 187223), ('i', 176273), ('s', 172296), ('n', 157316), ('r', 152188), ('l', 122292), ('h', 106440), ('d', 81100), ('u', 79862), ('m', 73881), ('c', 73644), ('y', 70573), ('g', 62967), ('f', 54175), ('p', 51445), ('w', 47023), ('b', 46238), ('k', 31217), ('v', 30824), ('.', 22551), ('…', 19238), ('!', 16412), (',', 12385), ('j', 6660), ('x', 4469), ('1', 4449), ('z', 4402), ('2', 3592), ('0', 3541), (':', 2784), ('_', 2585), (';', 2354), ('q', 2078), ('6', 1852), ('/', 1711), ('?', 1606), ('5', 1561), ('3', 1430), ('4', 1096), ('️', 949), ('7', 945), ('|', 908), ('9', 817), ('8', 761), ('•', 693), ('・', 642), ('+', 288), ('~', 156), ('—', 130), ('é', 126), ('=', 110), ('’', 84), ('“', 79), ('⠀', 74), ('ñ', 44), ('♡', 31), ('”', 28), ('о', 25), ('▃', 24), ('и', 23), ('͟', 18), ('\\\\', 18), ('р', 17), ('ン', 15), ('▄', 15), ('н', 12), ('ا', 12), ('ᴵ', 12), ('а', 11), ('б', 10), ('ア', 10), ('¡', 10), ('ˢ', 10), ('á', 9), ('︎', 9), ('í', 9), ('к', 8), ('ー', 8), ('è', 8), ('φ', 8), ('ᴬ', 8), ('ᴱ', 8), ('α', 8), ('ス', 7), ('–', 7), ('σ', 7), ('δ', 7), ('д', 7), ('й', 7), ('ч', 7), ('т', 6), ('レ', 6), ('リ', 6), ('カ', 6), ('留', 6), ('学', 6)]\n"
     ]
    },
    {
     "name": "stderr",
     "output_type": "stream",
     "text": [
      "\n"
     ]
    }
   ],
   "source": [
    "char_counter = build_character_counter(tweet_ds['train'])\n",
    "print(len(char_counter))\n",
    "print(char_counter.most_common(100))"
   ]
  },
  {
   "cell_type": "markdown",
   "metadata": {
    "collapsed": false,
    "pycharm": {
     "name": "#%% md\n"
    }
   },
   "source": []
  },
  {
   "cell_type": "markdown",
   "metadata": {
    "collapsed": false,
    "pycharm": {
     "name": "#%% md\n"
    }
   },
   "source": [
    "We will filter the characters that occur less than 10 times in the dataset. We will also replace the space character with the `__` token. This is necessary because we want to preserve the spaces between the words in the tokenization process."
   ]
  },
  {
   "cell_type": "code",
   "execution_count": 35,
   "metadata": {
    "ExecuteTime": {
     "end_time": "2025-04-11T07:59:18.539754Z",
     "start_time": "2025-04-11T07:54:54.552427Z"
    },
    "collapsed": false,
    "pycharm": {
     "name": "#%%\n"
    }
   },
   "outputs": [
    {
     "name": "stdout",
     "output_type": "stream",
     "text": [
      "['__', '!', '+', ',', '.', '/', '0', '1', '2', '3', '4', '5', '6', '7', '8', '9', ':', ';', '=', '?', '\\\\', '_', 'a', 'b', 'c', 'd', 'e', 'f', 'g', 'h', 'i', 'j', 'k', 'l', 'm', 'n', 'o', 'p', 'q', 'r', 's', 't', 'u', 'v', 'w', 'x', 'y', 'z', '|', '~', '¡', 'é', 'ñ', 'ˢ', '͟', 'а', 'б', 'и', 'н', 'о', 'р', 'ا', 'ᴵ', '—', '’', '“', '”', '•', '…', '▃', '▄', '♡', '⠀', 'ア', 'ン', '・', '️']\n"
     ]
    }
   ],
   "source": [
    "bpe_init_vocab = sorted([char for char, _ in char_counter.most_common() if char_counter[char] >= 10])\n",
    "bpe_init_vocab[bpe_init_vocab.index(' ')] = '__'\n",
    "print(bpe_init_vocab)"
   ]
  },
  {
   "cell_type": "markdown",
   "metadata": {
    "collapsed": false,
    "pycharm": {
     "name": "#%% md\n"
    }
   },
   "source": []
  },
  {
   "cell_type": "markdown",
   "metadata": {
    "collapsed": false,
    "pycharm": {
     "name": "#%% md\n"
    }
   },
   "source": [
    "### 3.2 Training the BPE tokenizer\n",
    "\n",
    "In this section, we will implement the BPE algorithm. We will start by initializing the BPE corpus. The corpus is a list of words from the dataset with their frequency. This makes it easier to find the most frequent pairs of neighbouring tokens (or characters in the beginning). Each word is split into characters and the space (the ```__``` token) is added at the end of each word."
   ]
  },
  {
   "cell_type": "code",
   "execution_count": 36,
   "metadata": {
    "ExecuteTime": {
     "end_time": "2025-04-11T07:59:18.539871Z",
     "start_time": "2025-04-11T07:54:54.788406Z"
    },
    "collapsed": false,
    "pycharm": {
     "name": "#%%\n"
    }
   },
   "outputs": [],
   "source": [
    "def init_bpe_corpus(dataset):\n",
    "    \"\"\"\n",
    "    Initializes the BPE corpus\n",
    "    Args:\n",
    "        dataset: a dataset\n",
    "\n",
    "    Returns: a BPE corpus\n",
    "\n",
    "    \"\"\"\n",
    "\n",
    "    corpus = Counter()\n",
    "    for example in dataset:\n",
    "        words = example['clean'].split()\n",
    "        words = [' '.join(list(word)) + ' __' for word in words]\n",
    "        corpus.update(words)\n",
    "    return corpus"
   ]
  },
  {
   "cell_type": "code",
   "execution_count": 37,
   "metadata": {
    "ExecuteTime": {
     "end_time": "2025-04-11T07:59:18.539987Z",
     "start_time": "2025-04-11T07:54:54.796601Z"
    },
    "collapsed": false,
    "pycharm": {
     "name": "#%%\n"
    }
   },
   "outputs": [
    {
     "name": "stdout",
     "output_type": "stream",
     "text": [
      "60513\n"
     ]
    }
   ],
   "source": [
    "bpe_corpus = init_bpe_corpus(tweet_ds['train'])\n",
    "print(len(bpe_corpus))"
   ]
  },
  {
   "cell_type": "markdown",
   "metadata": {
    "collapsed": false,
    "pycharm": {
     "name": "#%% md\n"
    }
   },
   "source": [
    "We can check the most common words in the corpus along with their frequencies."
   ]
  },
  {
   "cell_type": "code",
   "execution_count": 38,
   "metadata": {
    "ExecuteTime": {
     "end_time": "2025-04-11T07:59:18.540126Z",
     "start_time": "2025-04-11T07:54:56.622777Z"
    },
    "collapsed": false,
    "pycharm": {
     "name": "#%%\n"
    }
   },
   "outputs": [
    {
     "data": {
      "text/plain": [
       "[('. __', 22551),\n",
       " ('! __', 16412),\n",
       " ('t h e __', 13458),\n",
       " (', __', 12385),\n",
       " ('u s e r __', 12236),\n",
       " ('t o __', 7661),\n",
       " ('m y __', 7520),\n",
       " ('a __', 6830),\n",
       " ('i __', 6731),\n",
       " ('i n __', 5937),\n",
       " ('a n d __', 5603),\n",
       " ('y o u __', 5214),\n",
       " ('w i t h __', 5169),\n",
       " ('o f __', 5032),\n",
       " ('f o r __', 4746),\n",
       " ('t h i s __', 4520),\n",
       " ('c a l i f o r n i a __', 4337),\n",
       " ('a t __', 3579),\n",
       " ('i s __', 3479),\n",
       " ('l o v e __', 3454),\n",
       " ('… __', 3170),\n",
       " (': __', 2784),\n",
       " ('o n __', 2765),\n",
       " ('; __', 2354),\n",
       " ('s o __', 2265),\n",
       " ('m e __', 2244),\n",
       " ('i t __', 2231),\n",
       " ('a m p __', 2020),\n",
       " ('h a p p y __', 1910),\n",
       " ('d a y __', 1909)]"
      ]
     },
     "execution_count": 38,
     "metadata": {},
     "output_type": "execute_result"
    }
   ],
   "source": [
    "bpe_corpus.most_common(30)"
   ]
  },
  {
   "cell_type": "markdown",
   "metadata": {
    "collapsed": false,
    "pycharm": {
     "name": "#%% md\n"
    }
   },
   "source": [
    "Our BPE implementation will consist of the following steps:\n",
    "1. Calculate the frequency statistics of adjacent symbol pairs in the corpus.\n",
    "2. Find the most frequent pair.\n",
    "3. Merge the most frequent pair.\n",
    "4. Repeat until the specified number of merges is reached.\n",
    "\n",
    "The following function calculates the frequency statistics of adjacent symbol pairs in the corpus."
   ]
  },
  {
   "cell_type": "markdown",
   "metadata": {
    "collapsed": false,
    "pycharm": {
     "name": "#%% md\n"
    }
   },
   "source": [
    "### Exercise 8: Calculate the frequency statistics of adjacent symbol pairs\n",
    "(5p) Fill in the function below to calculate the frequency statistics of adjacent symbol pairs in the corpus. The function returns a Counter object with the counts of adjacent token pairs. The pairs are represented as tuples of two tokens (e.g., `('cali', 'for')`)."
   ]
  },
  {
   "cell_type": "code",
   "execution_count": 39,
   "metadata": {
    "ExecuteTime": {
     "end_time": "2025-04-11T07:59:18.540227Z",
     "start_time": "2025-04-11T07:54:56.785178Z"
    },
    "collapsed": false,
    "pycharm": {
     "name": "#%%\n"
    }
   },
   "outputs": [],
   "source": [
    "def calculate_bpe_corpus_stats(corpus):\n",
    "    stats = Counter()\n",
    "\n",
    "    for word, freq in corpus.items():\n",
    "\n",
    "        ### YOUR CODE HERE\n",
    "\n",
    "        # Split the word into symbols \n",
    "        # and iterate over adjacent symbol pairs - merge adj symbols\n",
    "        symbols = word.split()\n",
    "        for i in range(len(symbols) - 1):\n",
    "            pair = (symbols[i], symbols[i + 1])\n",
    "            stats[pair] += freq\n",
    "\n",
    "        ### YOUR CODE ENDS HERE\n",
    "\n",
    "    return stats"
   ]
  },
  {
   "cell_type": "markdown",
   "metadata": {
    "collapsed": false,
    "pycharm": {
     "name": "#%% md\n"
    }
   },
   "source": [
    "We can check the most common pairs of characters in the initial corpus."
   ]
  },
  {
   "cell_type": "code",
   "execution_count": 40,
   "metadata": {
    "ExecuteTime": {
     "end_time": "2025-04-11T07:59:18.540332Z",
     "start_time": "2025-04-11T07:54:56.919483Z"
    },
    "collapsed": false,
    "pycharm": {
     "name": "#%%\n"
    }
   },
   "outputs": [
    {
     "name": "stdout",
     "output_type": "stream",
     "text": [
      "[(('e', '__'), 75709), (('s', '__'), 57594), (('t', '__'), 43587), (('t', 'h'), 42897), (('e', 'r'), 42178), (('i', 'n'), 40473), (('y', '__'), 39871), (('r', '__'), 36838), (('a', 'n'), 35146), (('n', '__'), 31986)]\n"
     ]
    }
   ],
   "source": [
    "stats = calculate_bpe_corpus_stats(bpe_corpus)\n",
    "print(stats.most_common(10))"
   ]
  },
  {
   "cell_type": "markdown",
   "metadata": {
    "collapsed": false,
    "pycharm": {
     "name": "#%% md\n"
    }
   },
   "source": [
    "Next, we will implement the function that merges the most frequent pair of symbols in the corpus. The function takes the corpus and the most frequent pair of symbols as input and returns the updated corpus."
   ]
  },
  {
   "cell_type": "code",
   "execution_count": 41,
   "metadata": {
    "ExecuteTime": {
     "end_time": "2025-04-11T07:59:18.540478Z",
     "start_time": "2025-04-11T07:54:57.639773Z"
    },
    "collapsed": false,
    "pycharm": {
     "name": "#%%\n"
    }
   },
   "outputs": [],
   "source": [
    "def merge_corpus(corpus, pair):\n",
    "    \"\"\"\n",
    "    Merges the most frequent pair of symbols in the corpus.\n",
    "    Args:\n",
    "        corpus (dict): Keys are words as space-separated symbols (e.g., \"l o w\"),\n",
    "                       and values are the frequency counts.\n",
    "        pair (tuple): A pair of symbols to merge.\n",
    "\n",
    "    Returns:\n",
    "        dict: Updated corpus after merging the pair of symbols.\n",
    "    \"\"\"\n",
    "    new_corpus = Counter()\n",
    "    bigram = \" \".join(pair)\n",
    "    replacement = \"\".join(pair)\n",
    "    for word, freq in corpus.items():\n",
    "        new_word = word.replace(bigram, replacement)\n",
    "        new_corpus[new_word] = freq\n",
    "    return new_corpus"
   ]
  },
  {
   "cell_type": "markdown",
   "metadata": {
    "collapsed": false,
    "pycharm": {
     "name": "#%% md\n"
    }
   },
   "source": [
    "The last step is to implement the BPE algorithm. The function takes the initial vocabulary, the corpus, and the number of merges as input. It returns the updated vocabulary, corpus, and the list of merges.\n",
    "Returning the list of merges is useful for the tokenization process - it makes it faster to tokenize the text. It contains the tuples of the two tokens that were merged. For example, ('to', 'day__') will merge the tokens 'to' and 'day__' into the 'today__' token."
   ]
  },
  {
   "cell_type": "markdown",
   "metadata": {
    "collapsed": false,
    "pycharm": {
     "name": "#%% md\n"
    }
   },
   "source": [
    "### Exercise 9: BPE algorithm\n",
    "\n",
    "(10p) Implement the BPE algorithm in the following function. The function should return the updated vocabulary, corpus, and the list of merges. The function should perform the specified number of merges. The vocabulary is a list of tokens, the corpus is a Counter object with the words split by space into tokens, and the merges is a list of tuples with the merged tokens.\n",
    "\n",
    "You should use the functions you implemented earlier in this section (```calculate_bpe_corpus_stats()```, ```merge_corpus()```)."
   ]
  },
  {
   "cell_type": "code",
   "execution_count": 42,
   "metadata": {
    "ExecuteTime": {
     "end_time": "2025-04-11T07:59:18.540577Z",
     "start_time": "2025-04-11T07:54:57.659764Z"
    },
    "collapsed": false,
    "pycharm": {
     "name": "#%%\n"
    }
   },
   "outputs": [],
   "source": [
    "def bpe(vocab, corpus, num_merges):\n",
    "    vocab = vocab.copy()\n",
    "    corpus = corpus.copy()\n",
    "    merges = []\n",
    "\n",
    "    for i in tqdm.tqdm(range(num_merges)):\n",
    "        ### YOUR CODE HERE\n",
    "\n",
    "# get the most common adjustent sympbol pair from the CURRENT corpus\n",
    "        stats = calculate_bpe_corpus_stats(corpus)\n",
    "        best_pair = stats.most_common(1)[0][0]\n",
    "\n",
    "# merge the most common pair in the corpus and UPDATE the corpus\n",
    "        corpus = merge_corpus(corpus, best_pair)\n",
    "\n",
    "# add the merged pair to the vocabulary\n",
    "        vocab.append(\"\".join(best_pair))\n",
    "\n",
    "# REGISTER the merging operation\n",
    "        merges.append(best_pair)\n",
    "        \n",
    "        ### YOUR CODE ENDS HERE\n",
    "    return vocab, corpus, merges"
   ]
  },
  {
   "cell_type": "markdown",
   "metadata": {
    "collapsed": false,
    "pycharm": {
     "name": "#%% md\n"
    }
   },
   "source": [
    "The following cell applies the BPE algorithm to the initial vocabulary and corpus. We will perform 100 merges at first, but you will experiment with different numbers."
   ]
  },
  {
   "cell_type": "code",
   "execution_count": 43,
   "metadata": {
    "ExecuteTime": {
     "end_time": "2025-04-11T07:59:18.540669Z",
     "start_time": "2025-04-11T07:54:58.085551Z"
    },
    "collapsed": false,
    "pycharm": {
     "name": "#%%\n"
    }
   },
   "outputs": [
    {
     "name": "stderr",
     "output_type": "stream",
     "text": [
      "100%|██████████| 100/100 [00:11<00:00,  8.89it/s]\n"
     ]
    }
   ],
   "source": [
    "bpe_vocab, updated_bpe_corpus, bpe_merges = bpe(bpe_init_vocab, bpe_corpus, num_merges=100)"
   ]
  },
  {
   "cell_type": "markdown",
   "metadata": {
    "collapsed": false,
    "pycharm": {
     "name": "#%% md\n"
    }
   },
   "source": [
    "We can check the size of the BPE vocabulary and the most common tokens."
   ]
  },
  {
   "cell_type": "code",
   "execution_count": 44,
   "metadata": {
    "ExecuteTime": {
     "end_time": "2025-04-11T07:59:18.540791Z",
     "start_time": "2025-04-11T07:55:09.612590Z"
    },
    "collapsed": false,
    "pycharm": {
     "name": "#%%\n"
    }
   },
   "outputs": [
    {
     "name": "stdout",
     "output_type": "stream",
     "text": [
      "177\n",
      "['__', '!', '+', ',', '.', '/', '0', '1', '2', '3', '4', '5', '6', '7', '8', '9', ':', ';', '=', '?', '\\\\', '_', 'a', 'b', 'c', 'd', 'e', 'f', 'g', 'h', 'i', 'j', 'k', 'l', 'm', 'n', 'o', 'p', 'q', 'r', 's', 't', 'u', 'v', 'w', 'x', 'y', 'z', '|', '~', '¡', 'é', 'ñ', 'ˢ', '͟', 'а', 'б', 'и', 'н', 'о', 'р', 'ا', 'ᴵ', '—', '’', '“', '”', '•', '…', '▃', '▄', '♡', '⠀', 'ア', 'ン', '・', '️', 'e__', 's__', 't__', 'th', 'er', 'in', 'y__', 'an', 'd__', 'or', 'a__', 'er__', 'on', '.__', 'o__', 'al', 'ou', 'ar', '…__', 'ing', 'en', 'us', '!__', 'st', 'ing__', 'ch', 're', 'the__', 'lo', ',__', 'l__', 'user__', 'at', 'am', 'for', 'da', 'el', 'it', 'om', 'ri', 'k__', 'es__', 'on__', 'is__', 'be', 'la', 'ho', 'to__', 'in__', 'ni', 'i__', 'you', 'my__', 'of', 'li', 'p__', 've__', 'ha', 'day__', 'il', 'oo', 'es', 'is', 'w__', 'gh', 'and__', 'as__', 'un', 'ir', 'ne', 'with', 'ac', 'ti']\n"
     ]
    }
   ],
   "source": [
    "print(len(bpe_vocab))\n",
    "print(bpe_vocab[:150])"
   ]
  },
  {
   "cell_type": "markdown",
   "metadata": {
    "collapsed": false,
    "pycharm": {
     "name": "#%% md\n"
    }
   },
   "source": [
    "We can also check the most common merges."
   ]
  },
  {
   "cell_type": "code",
   "execution_count": 45,
   "metadata": {
    "ExecuteTime": {
     "end_time": "2025-04-11T07:59:18.540913Z",
     "start_time": "2025-04-11T07:55:09.819686Z"
    },
    "collapsed": false,
    "pycharm": {
     "name": "#%%\n"
    }
   },
   "outputs": [
    {
     "name": "stdout",
     "output_type": "stream",
     "text": [
      "[('e', '__'), ('s', '__'), ('t', '__'), ('t', 'h'), ('e', 'r'), ('i', 'n'), ('y', '__'), ('a', 'n'), ('d', '__'), ('o', 'r'), ('a', '__'), ('er', '__'), ('o', 'n'), ('.', '__'), ('o', '__'), ('a', 'l'), ('o', 'u'), ('a', 'r'), ('…', '__'), ('in', 'g'), ('e', 'n'), ('u', 's'), ('!', '__'), ('s', 't'), ('ing', '__'), ('c', 'h'), ('r', 'e'), ('th', 'e__'), ('l', 'o'), (',', '__'), ('l', '__'), ('us', 'er__'), ('a', 't'), ('a', 'm'), ('f', 'or'), ('d', 'a'), ('e', 'l'), ('i', 't'), ('o', 'm'), ('r', 'i'), ('k', '__'), ('e', 's__'), ('on', '__'), ('i', 's__'), ('b', 'e'), ('l', 'a'), ('h', 'o'), ('t', 'o__'), ('in', '__'), ('n', 'i'), ('i', '__'), ('y', 'ou'), ('m', 'y__'), ('o', 'f'), ('l', 'i'), ('p', '__'), ('v', 'e__'), ('h', 'a'), ('da', 'y__'), ('i', 'l'), ('o', 'o'), ('e', 's'), ('i', 's'), ('w', '__'), ('g', 'h'), ('an', 'd__'), ('a', 's__'), ('u', 'n'), ('i', 'r'), ('n', 'e'), ('w', 'ith'), ('a', 'c'), ('t', 'i'), ('you', '__'), ('an', '__'), ('s', 'e'), ('with', '__'), ('l', 'e'), ('of', '__'), ('r', 'o'), ('c', 'ali'), ('t', 'o'), ('for', '__'), ('cali', 'for'), ('califor', 'ni'), ('p', 'p'), ('i', 'c'), ('th', 'is__'), ('m', '__'), ('californi', 'a__'), ('a', 'd'), ('a', 's'), ('m', 'e__'), ('v', 'e'), ('r', '__'), ('lo', 've__'), ('en', '__'), ('a', 'k'), ('gh', 't__'), ('e', 'd__')]\n"
     ]
    }
   ],
   "source": [
    "print(bpe_merges[:150])"
   ]
  },
  {
   "cell_type": "markdown",
   "metadata": {
    "collapsed": false,
    "pycharm": {
     "name": "#%% md\n"
    }
   },
   "source": [
    "### 3.3 Tokenizing the text using BPE\n",
    "\n",
    "With the tokenizer trained we can now tokenize the text using the BPE vocabulary. We will first build a function that tokenizes any text using our BPE tokenizer (vocabulary and merges). Next we will apply it to our dataset.\n",
    "\n",
    "The following function tokenizes the text using the BPE vocabulary. It replaces the most frequent pairs of tokens with the new token. The function also replaces the tokens that are not in the vocabulary with the `<unk>` token."
   ]
  },
  {
   "cell_type": "code",
   "execution_count": 46,
   "metadata": {
    "ExecuteTime": {
     "end_time": "2025-04-11T07:59:18.541074Z",
     "start_time": "2025-04-11T07:55:10.229114Z"
    },
    "collapsed": false,
    "pycharm": {
     "name": "#%%\n"
    }
   },
   "outputs": [
    {
     "name": "stdout",
     "output_type": "stream",
     "text": [
      "['s', 'un', 'day__', 'a', 'f', 't', 'er', 'n', 'o', 'on__', 'w', 'al', 'k', 'ing__', 'th', 'r', 'ou', 'gh', '__', 'v', 'en', 'ic', 'e__', 'in__', 'the__', 's', 'un', '__', 'w', 'i', 'th', '__', 'user__', 'a', 'b', 'b', 'o', 't__', 'k', 'in', 'ne', 'y__', ',__', 'v', 'en', 'ic', 'e__', '<unk>']\n"
     ]
    }
   ],
   "source": [
    "def apply_bpe_tokenization(text, vocab, merges, unk_token='<unk>'):\n",
    "    \"\"\"\n",
    "    Tokenizes the text using BPE vocabulary, preserving spaces as '__'.\n",
    "\n",
    "    Args:\n",
    "        text (str): The input text to be tokenized.\n",
    "        vocab (set): A set containing the BPE vocabulary tokens.\n",
    "\n",
    "    Returns:\n",
    "        list: A list of tokens representing the input text.\n",
    "    \"\"\"\n",
    "\n",
    "    words = re.split(r'\\s', text)\n",
    "    words = [' ' + ' '.join(list(word)) + (' __ ' if i < len(words) - 1 else ' ') for i, word in enumerate(words)]\n",
    "\n",
    "    bpe_tokens = []\n",
    "\n",
    "    for i, word in enumerate(words):\n",
    "        for merge in merges:\n",
    "            word = word.replace(' ' + ' '.join(merge) + ' ', ' ' + ''.join(merge) + ' ')\n",
    "        bpe_tokens.extend(word.split())\n",
    "\n",
    "    for i, token in enumerate(bpe_tokens):\n",
    "        if token not in vocab:\n",
    "            bpe_tokens[i] = unk_token\n",
    "    return bpe_tokens\n",
    "\n",
    "\n",
    "# A test example with a special character. Is the character tokenized correctly as <unk> token?\n",
    "print(apply_bpe_tokenization(tweet_ds['train'][0]['clean'] + ' 🇺', bpe_vocab, bpe_merges))"
   ]
  },
  {
   "cell_type": "markdown",
   "metadata": {
    "collapsed": false,
    "pycharm": {
     "name": "#%% md\n"
    }
   },
   "source": [
    "The function below will apply our BPE tokenizer to the dataset. It will add a new column `bpe_tokens` to each example."
   ]
  },
  {
   "cell_type": "code",
   "execution_count": 47,
   "metadata": {
    "ExecuteTime": {
     "end_time": "2025-04-11T07:59:18.541209Z",
     "start_time": "2025-04-11T07:55:10.304501Z"
    },
    "collapsed": false,
    "pycharm": {
     "name": "#%%\n"
    }
   },
   "outputs": [
    {
     "name": "stdout",
     "output_type": "stream",
     "text": [
      "DatasetDict({\n",
      "    train: Dataset({\n",
      "        features: ['text', 'label', 'text_length', 'clean', 'tokens', 'bpe_tokens'],\n",
      "        num_rows: 45000\n",
      "    })\n",
      "    test: Dataset({\n",
      "        features: ['text', 'label', 'text_length', 'clean', 'tokens', 'bpe_tokens'],\n",
      "        num_rows: 50000\n",
      "    })\n",
      "    validation: Dataset({\n",
      "        features: ['text', 'label', 'text_length', 'clean', 'tokens', 'bpe_tokens'],\n",
      "        num_rows: 5000\n",
      "    })\n",
      "})\n"
     ]
    }
   ],
   "source": [
    "def tokenize_bpe(example, vocab, merges, column_name='bpe_tokens', unk_token='<unk>'):\n",
    "    \"\"\"\n",
    "    Tokenizes the example from the Dataset using BPE\n",
    "    Args:\n",
    "        example: an example from the Dataset\n",
    "        vocab: a BPE vocabulary\n",
    "\n",
    "    Returns: update example containing 'bpe_tokens' column\n",
    "\n",
    "    \"\"\"\n",
    "    text = example['clean']\n",
    "    bpe_tokens = apply_bpe_tokenization(text, vocab, merges, unk_token)\n",
    "    example[column_name] = bpe_tokens\n",
    "    return example\n",
    "\n",
    "tweet_ds = tweet_ds.map(tokenize_bpe, fn_kwargs={'vocab': bpe_vocab, 'merges': bpe_merges, 'column_name': 'bpe_tokens'})\n",
    "print(tweet_ds)"
   ]
  },
  {
   "cell_type": "markdown",
   "metadata": {
    "collapsed": false,
    "pycharm": {
     "name": "#%% md\n"
    }
   },
   "source": [
    "We will inspect the both tokenizations of several examples from the ```validation``` subset. Try to find the ```<unk>``` tokens in the printed examples."
   ]
  },
  {
   "cell_type": "code",
   "execution_count": 48,
   "metadata": {
    "ExecuteTime": {
     "end_time": "2025-04-11T07:59:18.541314Z",
     "start_time": "2025-04-11T07:55:11.017224Z"
    },
    "collapsed": false,
    "pycharm": {
     "name": "#%%\n"
    }
   },
   "outputs": [
    {
     "name": "stdout",
     "output_type": "stream",
     "text": [
      "Original tweet:\n",
      "A little throwback with my favourite person @ Water Wall\n",
      "Word tokenization:\n",
      "['a', 'little', 'throwback', 'with', 'my', 'favourite', 'person', 'water', 'wall']\n",
      "BPE tokenization:\n",
      "['a__', 'l', 'it', 't', 'l', 'e__', 'th', 'ro', 'w', 'b', 'ac', 'k__', 'w', 'i', 'th', '__', 'my__', 'f', 'a', 'v', 'ou', 'r', 'it', 'e__', 'p', 'er', 's', 'on__', 'w', 'at', 'er__', 'w', 'al', 'l']\n",
      "\n",
      "Original tweet:\n",
      "glam on @user yesterday for #kcon makeup using @user in #featherette,…\n",
      "Word tokenization:\n",
      "['glam', 'on', 'user', 'yesterday', 'for', 'kcon', 'makeup', 'using', 'user', 'in', '<unk>', ',', '…']\n",
      "BPE tokenization:\n",
      "['g', 'l', 'am', '__', 'on__', 'user__', 'y', 'e', 'st', 'er', 'day__', 'for__', 'k', 'c', 'on__', 'm', 'ak', 'e', 'u', 'p__', 'us', 'ing__', 'user__', 'in__', 'f', 'e', 'a', 'th', 'er', 'e', 't', 't', 'e__', ',__', '…']\n",
      "\n",
      "Original tweet:\n",
      "Democracy Plaza in the wake of a stunning outcome #Decision2016 @ NBC News\n",
      "Word tokenization:\n",
      "['<unk>', 'plaza', 'in', 'the', 'wake', 'of', 'a', 'stunning', '<unk>', '<unk>', '<unk>', 'news']\n",
      "BPE tokenization:\n",
      "['d', 'e', 'm', 'o', 'c', 'r', 'ac', 'y__', 'p', 'la', 'z', 'a__', 'in__', 'the__', 'w', 'ak', 'e__', 'of__', 'a__', 'st', 'un', 'n', 'ing__', 'ou', 't', 'c', 'om', 'e__', 'd', 'e', 'c', 'is', 'i', 'on', '2', '0', '1', '6', '__', 'n', 'b', 'c', '__', 'ne', 'w', 's']\n",
      "\n",
      "Original tweet:\n",
      "Then &amp; Now. VILO @ Walt Disney Magic Kingdom\n",
      "Word tokenization:\n",
      "['then', 'amp', ';', 'now', '.', '<unk>', 'walt', 'disney', 'magic', 'kingdom']\n",
      "BPE tokenization:\n",
      "['th', 'en__', 'am', 'p__', ';', '__', 'n', 'o', 'w__', '.__', 'v', 'il', 'o__', 'w', 'al', 't__', 'd', 'is', 'ne', 'y__', 'm', 'a', 'g', 'ic', '__', 'k', 'ing', 'd', 'om']\n",
      "\n",
      "Original tweet:\n",
      "Who never... @ A Galaxy Far Far Away\n",
      "Word tokenization:\n",
      "['who', 'never', '.', '.', '.', 'a', 'galaxy', 'far', 'far', 'away']\n",
      "BPE tokenization:\n",
      "['w', 'h', 'o__', 'ne', 'v', 'er__', '.__', '.__', '.__', 'a__', 'g', 'al', 'a', 'x', 'y__', 'f', 'ar', '__', 'f', 'ar', '__', 'a', 'w', 'a', 'y']\n",
      "\n",
      "Original tweet:\n",
      "Dinner in FLA tonight // Pan-seared salmon over couscous veggie salad #yum #dinner #florida #salmon…\n",
      "Word tokenization:\n",
      "['dinner', 'in', '<unk>', 'tonight', '//', '<unk>', 'salmon', 'over', '<unk>', 'veggie', 'salad', 'yum', 'dinner', '<unk>', '<unk>']\n",
      "BPE tokenization:\n",
      "['d', 'in', 'n', 'er__', 'in__', 'f', 'l', 'a__', 't', 'on', 'i', 'ght__', '/', '/', '__', 'p', 'an', 'se', 'ar', 'ed__', 's', 'al', 'm', 'on__', 'o', 'v', 'er__', 'c', 'ou', 's', 'c', 'ou', 's__', 've', 'g', 'g', 'i', 'e__', 's', 'al', 'a', 'd__', 'y', 'u', 'm__', 'd', 'in', 'n', 'er__', 'f', 'l', 'or', 'i', 'd', 'a__', 's', 'al', 'm', 'on', '…']\n",
      "\n",
      "Original tweet:\n",
      "It's my fav seniors last game congrats on beating west @ West Salem…\n",
      "Word tokenization:\n",
      "['its', 'my', 'fav', 'seniors', 'last', 'game', 'congrats', 'on', 'beating', 'west', 'west', '<unk>']\n",
      "BPE tokenization:\n",
      "['it', 's__', 'my__', 'f', 'a', 'v', '__', 's', 'en', 'i', 'or', 's__', 'la', 's', 't__', 'g', 'am', 'e__', 'c', 'on', 'g', 'r', 'at', 's__', 'on__', 'be', 'at', 'ing__', 'w', 'es', 't__', 'w', 'es', 't__', 's', 'al', 'e', 'm', '…']\n",
      "\n",
      "Original tweet:\n",
      "I got to to go formal with my best friend @ Phi Mu at JSU\n",
      "Word tokenization:\n",
      "['i', 'got', 'to', 'to', 'go', 'formal', 'with', 'my', 'best', 'friend', 'phi', 'mu', 'at', '<unk>']\n",
      "BPE tokenization:\n",
      "['i__', 'g', 'o', 't__', 'to__', 'to__', 'g', 'o__', 'for', 'm', 'al', '__', 'w', 'i', 'th', '__', 'my__', 'be', 's', 't__', 'f', 'ri', 'en', 'd__', 'p', 'h', 'i__', 'm', 'u', '__', 'a', 't__', 'j', 's', 'u']\n",
      "\n",
      "Original tweet:\n",
      "'Cause I Miss My Little Homies .#Throwback #CousinLove @ Indiana University\n",
      "Word tokenization:\n",
      "['cause', 'i', 'miss', 'my', 'little', 'homies', '.', 'throwback', 'cousinlove', '<unk>', 'university']\n",
      "BPE tokenization:\n",
      "['c', 'a', 'us', 'e__', 'i__', 'm', 'is', 's__', 'my__', 'l', 'it', 't', 'l', 'e__', 'h', 'om', 'i', 'es__', '.__', 'th', 'ro', 'w', 'b', 'ac', 'k__', 'c', 'ou', 's', 'in', 'love__', 'in', 'd', 'i', 'an', 'a__', 'u', 'ni', 'v', 'er', 's', 'it', 'y']\n",
      "\n",
      "Original tweet:\n",
      "Birthday Kisses @ Madison, Wisconsin\n",
      "Word tokenization:\n",
      "['birthday', 'kisses', 'madison', ',', '<unk>']\n",
      "BPE tokenization:\n",
      "['b', 'ir', 'th', 'day__', 'k', 'is', 's', 'es__', 'm', 'ad', 'is', 'on__', ',__', 'w', 'is', 'c', 'on', 's', 'in']\n",
      "\n"
     ]
    }
   ],
   "source": [
    "for i in range(10):\n",
    "    print('Original tweet:')\n",
    "    print(tweet_ds['validation'][i]['text'])\n",
    "    print('Word tokenization:')\n",
    "    print(tweet_ds['validation'][i]['tokens'])\n",
    "    print('BPE tokenization:')\n",
    "    print(tweet_ds['validation'][i]['bpe_tokens'])\n",
    "    print()"
   ]
  },
  {
   "cell_type": "markdown",
   "metadata": {
    "collapsed": false,
    "pycharm": {
     "name": "#%% md\n"
    }
   },
   "source": [
    "### Exercise 10: Comparing tokenizers\n",
    "\n",
    "Train the BPE tokenizer with different number of merges. Compare the tokenization results with the word tokenization.\n",
    "1. (5p) What are the differences?\n",
    "2. (5p) Compare the number of tokens created by your tokenizers.\n",
    "3. (5p) Calculate the number of `<unk>` tokens in the validation dataset for each tokenizer.\n",
    "4. (5p) Compare the average length in tokens between different tokenizers.\n",
    "5. (5p) What are the advantages and disadvantages of the BPE tokenizer?"
   ]
  },
  {
   "cell_type": "code",
   "execution_count": 49,
   "metadata": {
    "ExecuteTime": {
     "end_time": "2025-04-11T07:57:56.167208Z",
     "start_time": "2025-04-11T07:55:11.054499Z"
    }
   },
   "outputs": [
    {
     "name": "stderr",
     "output_type": "stream",
     "text": [
      "100%|██████████| 50/50 [00:04<00:00, 10.26it/s]\n",
      "100%|██████████| 100/100 [00:10<00:00,  9.91it/s]\n",
      "100%|██████████| 200/200 [00:20<00:00,  9.68it/s]\n",
      "100%|██████████| 500/500 [00:46<00:00, 10.79it/s]\n",
      "100%|██████████| 1000/1000 [01:23<00:00, 12.03it/s]\n"
     ]
    }
   ],
   "source": [
    "# GET BPEs with different number of merges for comparison\n",
    "bpe_vocab50, updated_bpe_corpus50, bpe_merges50 = bpe(bpe_init_vocab, bpe_corpus, num_merges=50)\n",
    "bpe_vocab100, updated_bpe_corpus100, bpe_merges100 = bpe(bpe_init_vocab, bpe_corpus, num_merges=100)\n",
    "bpe_vocab200, updated_bpe_corpus200, bpe_merges200 = bpe(bpe_init_vocab, bpe_corpus, num_merges=200)\n",
    "bpe_vocab500, updated_bpe_corpus500, bpe_merges500 = bpe(bpe_init_vocab, bpe_corpus, num_merges=500)\n",
    "bpe_vocab1000, updated_bpe_corpus1000, bpe_merges1000 = bpe(bpe_init_vocab, bpe_corpus, num_merges=1000)"
   ]
  },
  {
   "cell_type": "code",
   "execution_count": 50,
   "metadata": {
    "ExecuteTime": {
     "end_time": "2025-04-11T07:59:18.451019Z",
     "start_time": "2025-04-11T07:57:56.997075Z"
    }
   },
   "outputs": [
    {
     "name": "stderr",
     "output_type": "stream",
     "text": [
      "Map: 100%|██████████| 45000/45000 [00:07<00:00, 5754.64 examples/s]\n",
      "Map: 100%|██████████| 50000/50000 [00:08<00:00, 5793.15 examples/s]\n",
      "Map: 100%|██████████| 5000/5000 [00:00<00:00, 6124.40 examples/s]\n",
      "Map: 100%|██████████| 45000/45000 [00:13<00:00, 3410.66 examples/s]\n",
      "Map: 100%|██████████| 50000/50000 [00:14<00:00, 3424.26 examples/s]\n",
      "Map: 100%|██████████| 5000/5000 [00:01<00:00, 3587.48 examples/s]\n",
      "Map: 100%|██████████| 45000/45000 [00:24<00:00, 1869.85 examples/s]\n",
      "Map:  40%|████      | 20082/50000 [00:10<00:15, 1894.16 examples/s]\n"
     ]
    },
    {
     "ename": "KeyboardInterrupt",
     "evalue": "",
     "output_type": "error",
     "traceback": [
      "\u001b[31m---------------------------------------------------------------------------\u001b[39m",
      "\u001b[31mKeyboardInterrupt\u001b[39m                         Traceback (most recent call last)",
      "\u001b[36mCell\u001b[39m\u001b[36m \u001b[39m\u001b[32mIn[50]\u001b[39m\u001b[32m, line 3\u001b[39m\n\u001b[32m      1\u001b[39m tweet_ds = tweet_ds.map(tokenize_bpe, fn_kwargs={\u001b[33m'\u001b[39m\u001b[33mvocab\u001b[39m\u001b[33m'\u001b[39m: bpe_vocab50, \u001b[33m'\u001b[39m\u001b[33mmerges\u001b[39m\u001b[33m'\u001b[39m: bpe_merges50, \u001b[33m'\u001b[39m\u001b[33mcolumn_name\u001b[39m\u001b[33m'\u001b[39m: \u001b[33m'\u001b[39m\u001b[33mbpe_tokens_50\u001b[39m\u001b[33m'\u001b[39m})\n\u001b[32m      2\u001b[39m tweet_ds = tweet_ds.map(tokenize_bpe, fn_kwargs={\u001b[33m'\u001b[39m\u001b[33mvocab\u001b[39m\u001b[33m'\u001b[39m: bpe_vocab100, \u001b[33m'\u001b[39m\u001b[33mmerges\u001b[39m\u001b[33m'\u001b[39m: bpe_merges100, \u001b[33m'\u001b[39m\u001b[33mcolumn_name\u001b[39m\u001b[33m'\u001b[39m: \u001b[33m'\u001b[39m\u001b[33mbpe_tokens_100\u001b[39m\u001b[33m'\u001b[39m})\n\u001b[32m----> \u001b[39m\u001b[32m3\u001b[39m tweet_ds = \u001b[43mtweet_ds\u001b[49m\u001b[43m.\u001b[49m\u001b[43mmap\u001b[49m\u001b[43m(\u001b[49m\u001b[43mtokenize_bpe\u001b[49m\u001b[43m,\u001b[49m\u001b[43m \u001b[49m\u001b[43mfn_kwargs\u001b[49m\u001b[43m=\u001b[49m\u001b[43m{\u001b[49m\u001b[33;43m'\u001b[39;49m\u001b[33;43mvocab\u001b[39;49m\u001b[33;43m'\u001b[39;49m\u001b[43m:\u001b[49m\u001b[43m \u001b[49m\u001b[43mbpe_vocab200\u001b[49m\u001b[43m,\u001b[49m\u001b[43m \u001b[49m\u001b[33;43m'\u001b[39;49m\u001b[33;43mmerges\u001b[39;49m\u001b[33;43m'\u001b[39;49m\u001b[43m:\u001b[49m\u001b[43m \u001b[49m\u001b[43mbpe_merges200\u001b[49m\u001b[43m,\u001b[49m\u001b[43m \u001b[49m\u001b[33;43m'\u001b[39;49m\u001b[33;43mcolumn_name\u001b[39;49m\u001b[33;43m'\u001b[39;49m\u001b[43m:\u001b[49m\u001b[43m \u001b[49m\u001b[33;43m'\u001b[39;49m\u001b[33;43mbpe_tokens_200\u001b[39;49m\u001b[33;43m'\u001b[39;49m\u001b[43m}\u001b[49m\u001b[43m)\u001b[49m\n\u001b[32m      4\u001b[39m tweet_ds = tweet_ds.map(tokenize_bpe, fn_kwargs={\u001b[33m'\u001b[39m\u001b[33mvocab\u001b[39m\u001b[33m'\u001b[39m: bpe_vocab500, \u001b[33m'\u001b[39m\u001b[33mmerges\u001b[39m\u001b[33m'\u001b[39m: bpe_merges500, \u001b[33m'\u001b[39m\u001b[33mcolumn_name\u001b[39m\u001b[33m'\u001b[39m: \u001b[33m'\u001b[39m\u001b[33mbpe_tokens_500\u001b[39m\u001b[33m'\u001b[39m})\n\u001b[32m      5\u001b[39m tweet_ds = tweet_ds.map(tokenize_bpe, fn_kwargs={\u001b[33m'\u001b[39m\u001b[33mvocab\u001b[39m\u001b[33m'\u001b[39m: bpe_vocab1000, \u001b[33m'\u001b[39m\u001b[33mmerges\u001b[39m\u001b[33m'\u001b[39m: bpe_merges1000, \u001b[33m'\u001b[39m\u001b[33mcolumn_name\u001b[39m\u001b[33m'\u001b[39m: \u001b[33m'\u001b[39m\u001b[33mbpe_tokens_1000\u001b[39m\u001b[33m'\u001b[39m})\n",
      "\u001b[36mFile \u001b[39m\u001b[32m~/PycharmProjects/NLP_Labs/.venv/lib/python3.12/site-packages/datasets/dataset_dict.py:887\u001b[39m, in \u001b[36mDatasetDict.map\u001b[39m\u001b[34m(self, function, with_indices, with_rank, input_columns, batched, batch_size, drop_last_batch, remove_columns, keep_in_memory, load_from_cache_file, cache_file_names, writer_batch_size, features, disable_nullable, fn_kwargs, num_proc, desc)\u001b[39m\n\u001b[32m    883\u001b[39m \u001b[38;5;28;01mif\u001b[39;00m cache_file_names \u001b[38;5;129;01mis\u001b[39;00m \u001b[38;5;28;01mNone\u001b[39;00m:\n\u001b[32m    884\u001b[39m     cache_file_names = {k: \u001b[38;5;28;01mNone\u001b[39;00m \u001b[38;5;28;01mfor\u001b[39;00m k \u001b[38;5;129;01min\u001b[39;00m \u001b[38;5;28mself\u001b[39m}\n\u001b[32m    885\u001b[39m \u001b[38;5;28;01mreturn\u001b[39;00m DatasetDict(\n\u001b[32m    886\u001b[39m     {\n\u001b[32m--> \u001b[39m\u001b[32m887\u001b[39m         k: \u001b[43mdataset\u001b[49m\u001b[43m.\u001b[49m\u001b[43mmap\u001b[49m\u001b[43m(\u001b[49m\n\u001b[32m    888\u001b[39m \u001b[43m            \u001b[49m\u001b[43mfunction\u001b[49m\u001b[43m=\u001b[49m\u001b[43mfunction\u001b[49m\u001b[43m,\u001b[49m\n\u001b[32m    889\u001b[39m \u001b[43m            \u001b[49m\u001b[43mwith_indices\u001b[49m\u001b[43m=\u001b[49m\u001b[43mwith_indices\u001b[49m\u001b[43m,\u001b[49m\n\u001b[32m    890\u001b[39m \u001b[43m            \u001b[49m\u001b[43mwith_rank\u001b[49m\u001b[43m=\u001b[49m\u001b[43mwith_rank\u001b[49m\u001b[43m,\u001b[49m\n\u001b[32m    891\u001b[39m \u001b[43m            \u001b[49m\u001b[43minput_columns\u001b[49m\u001b[43m=\u001b[49m\u001b[43minput_columns\u001b[49m\u001b[43m,\u001b[49m\n\u001b[32m    892\u001b[39m \u001b[43m            \u001b[49m\u001b[43mbatched\u001b[49m\u001b[43m=\u001b[49m\u001b[43mbatched\u001b[49m\u001b[43m,\u001b[49m\n\u001b[32m    893\u001b[39m \u001b[43m            \u001b[49m\u001b[43mbatch_size\u001b[49m\u001b[43m=\u001b[49m\u001b[43mbatch_size\u001b[49m\u001b[43m,\u001b[49m\n\u001b[32m    894\u001b[39m \u001b[43m            \u001b[49m\u001b[43mdrop_last_batch\u001b[49m\u001b[43m=\u001b[49m\u001b[43mdrop_last_batch\u001b[49m\u001b[43m,\u001b[49m\n\u001b[32m    895\u001b[39m \u001b[43m            \u001b[49m\u001b[43mremove_columns\u001b[49m\u001b[43m=\u001b[49m\u001b[43mremove_columns\u001b[49m\u001b[43m,\u001b[49m\n\u001b[32m    896\u001b[39m \u001b[43m            \u001b[49m\u001b[43mkeep_in_memory\u001b[49m\u001b[43m=\u001b[49m\u001b[43mkeep_in_memory\u001b[49m\u001b[43m,\u001b[49m\n\u001b[32m    897\u001b[39m \u001b[43m            \u001b[49m\u001b[43mload_from_cache_file\u001b[49m\u001b[43m=\u001b[49m\u001b[43mload_from_cache_file\u001b[49m\u001b[43m,\u001b[49m\n\u001b[32m    898\u001b[39m \u001b[43m            \u001b[49m\u001b[43mcache_file_name\u001b[49m\u001b[43m=\u001b[49m\u001b[43mcache_file_names\u001b[49m\u001b[43m[\u001b[49m\u001b[43mk\u001b[49m\u001b[43m]\u001b[49m\u001b[43m,\u001b[49m\n\u001b[32m    899\u001b[39m \u001b[43m            \u001b[49m\u001b[43mwriter_batch_size\u001b[49m\u001b[43m=\u001b[49m\u001b[43mwriter_batch_size\u001b[49m\u001b[43m,\u001b[49m\n\u001b[32m    900\u001b[39m \u001b[43m            \u001b[49m\u001b[43mfeatures\u001b[49m\u001b[43m=\u001b[49m\u001b[43mfeatures\u001b[49m\u001b[43m,\u001b[49m\n\u001b[32m    901\u001b[39m \u001b[43m            \u001b[49m\u001b[43mdisable_nullable\u001b[49m\u001b[43m=\u001b[49m\u001b[43mdisable_nullable\u001b[49m\u001b[43m,\u001b[49m\n\u001b[32m    902\u001b[39m \u001b[43m            \u001b[49m\u001b[43mfn_kwargs\u001b[49m\u001b[43m=\u001b[49m\u001b[43mfn_kwargs\u001b[49m\u001b[43m,\u001b[49m\n\u001b[32m    903\u001b[39m \u001b[43m            \u001b[49m\u001b[43mnum_proc\u001b[49m\u001b[43m=\u001b[49m\u001b[43mnum_proc\u001b[49m\u001b[43m,\u001b[49m\n\u001b[32m    904\u001b[39m \u001b[43m            \u001b[49m\u001b[43mdesc\u001b[49m\u001b[43m=\u001b[49m\u001b[43mdesc\u001b[49m\u001b[43m,\u001b[49m\n\u001b[32m    905\u001b[39m \u001b[43m        \u001b[49m\u001b[43m)\u001b[49m\n\u001b[32m    906\u001b[39m         \u001b[38;5;28;01mfor\u001b[39;00m k, dataset \u001b[38;5;129;01min\u001b[39;00m \u001b[38;5;28mself\u001b[39m.items()\n\u001b[32m    907\u001b[39m     }\n\u001b[32m    908\u001b[39m )\n",
      "\u001b[36mFile \u001b[39m\u001b[32m~/PycharmProjects/NLP_Labs/.venv/lib/python3.12/site-packages/datasets/arrow_dataset.py:560\u001b[39m, in \u001b[36mtransmit_format.<locals>.wrapper\u001b[39m\u001b[34m(*args, **kwargs)\u001b[39m\n\u001b[32m    553\u001b[39m self_format = {\n\u001b[32m    554\u001b[39m     \u001b[33m\"\u001b[39m\u001b[33mtype\u001b[39m\u001b[33m\"\u001b[39m: \u001b[38;5;28mself\u001b[39m._format_type,\n\u001b[32m    555\u001b[39m     \u001b[33m\"\u001b[39m\u001b[33mformat_kwargs\u001b[39m\u001b[33m\"\u001b[39m: \u001b[38;5;28mself\u001b[39m._format_kwargs,\n\u001b[32m    556\u001b[39m     \u001b[33m\"\u001b[39m\u001b[33mcolumns\u001b[39m\u001b[33m\"\u001b[39m: \u001b[38;5;28mself\u001b[39m._format_columns,\n\u001b[32m    557\u001b[39m     \u001b[33m\"\u001b[39m\u001b[33moutput_all_columns\u001b[39m\u001b[33m\"\u001b[39m: \u001b[38;5;28mself\u001b[39m._output_all_columns,\n\u001b[32m    558\u001b[39m }\n\u001b[32m    559\u001b[39m \u001b[38;5;66;03m# apply actual function\u001b[39;00m\n\u001b[32m--> \u001b[39m\u001b[32m560\u001b[39m out: Union[\u001b[33m\"\u001b[39m\u001b[33mDataset\u001b[39m\u001b[33m\"\u001b[39m, \u001b[33m\"\u001b[39m\u001b[33mDatasetDict\u001b[39m\u001b[33m\"\u001b[39m] = \u001b[43mfunc\u001b[49m\u001b[43m(\u001b[49m\u001b[38;5;28;43mself\u001b[39;49m\u001b[43m,\u001b[49m\u001b[43m \u001b[49m\u001b[43m*\u001b[49m\u001b[43margs\u001b[49m\u001b[43m,\u001b[49m\u001b[43m \u001b[49m\u001b[43m*\u001b[49m\u001b[43m*\u001b[49m\u001b[43mkwargs\u001b[49m\u001b[43m)\u001b[49m\n\u001b[32m    561\u001b[39m datasets: List[\u001b[33m\"\u001b[39m\u001b[33mDataset\u001b[39m\u001b[33m\"\u001b[39m] = \u001b[38;5;28mlist\u001b[39m(out.values()) \u001b[38;5;28;01mif\u001b[39;00m \u001b[38;5;28misinstance\u001b[39m(out, \u001b[38;5;28mdict\u001b[39m) \u001b[38;5;28;01melse\u001b[39;00m [out]\n\u001b[32m    562\u001b[39m \u001b[38;5;66;03m# re-apply format to the output\u001b[39;00m\n",
      "\u001b[36mFile \u001b[39m\u001b[32m~/PycharmProjects/NLP_Labs/.venv/lib/python3.12/site-packages/datasets/arrow_dataset.py:3073\u001b[39m, in \u001b[36mDataset.map\u001b[39m\u001b[34m(self, function, with_indices, with_rank, input_columns, batched, batch_size, drop_last_batch, remove_columns, keep_in_memory, load_from_cache_file, cache_file_name, writer_batch_size, features, disable_nullable, fn_kwargs, num_proc, suffix_template, new_fingerprint, desc)\u001b[39m\n\u001b[32m   3067\u001b[39m \u001b[38;5;28;01mif\u001b[39;00m transformed_dataset \u001b[38;5;129;01mis\u001b[39;00m \u001b[38;5;28;01mNone\u001b[39;00m:\n\u001b[32m   3068\u001b[39m     \u001b[38;5;28;01mwith\u001b[39;00m hf_tqdm(\n\u001b[32m   3069\u001b[39m         unit=\u001b[33m\"\u001b[39m\u001b[33m examples\u001b[39m\u001b[33m\"\u001b[39m,\n\u001b[32m   3070\u001b[39m         total=pbar_total,\n\u001b[32m   3071\u001b[39m         desc=desc \u001b[38;5;129;01mor\u001b[39;00m \u001b[33m\"\u001b[39m\u001b[33mMap\u001b[39m\u001b[33m\"\u001b[39m,\n\u001b[32m   3072\u001b[39m     ) \u001b[38;5;28;01mas\u001b[39;00m pbar:\n\u001b[32m-> \u001b[39m\u001b[32m3073\u001b[39m \u001b[43m        \u001b[49m\u001b[38;5;28;43;01mfor\u001b[39;49;00m\u001b[43m \u001b[49m\u001b[43mrank\u001b[49m\u001b[43m,\u001b[49m\u001b[43m \u001b[49m\u001b[43mdone\u001b[49m\u001b[43m,\u001b[49m\u001b[43m \u001b[49m\u001b[43mcontent\u001b[49m\u001b[43m \u001b[49m\u001b[38;5;129;43;01min\u001b[39;49;00m\u001b[43m \u001b[49m\u001b[43mDataset\u001b[49m\u001b[43m.\u001b[49m\u001b[43m_map_single\u001b[49m\u001b[43m(\u001b[49m\u001b[43m*\u001b[49m\u001b[43m*\u001b[49m\u001b[43mdataset_kwargs\u001b[49m\u001b[43m)\u001b[49m\u001b[43m:\u001b[49m\n\u001b[32m   3074\u001b[39m \u001b[43m            \u001b[49m\u001b[38;5;28;43;01mif\u001b[39;49;00m\u001b[43m \u001b[49m\u001b[43mdone\u001b[49m\u001b[43m:\u001b[49m\n\u001b[32m   3075\u001b[39m \u001b[43m                \u001b[49m\u001b[43mshards_done\u001b[49m\u001b[43m \u001b[49m\u001b[43m+\u001b[49m\u001b[43m=\u001b[49m\u001b[43m \u001b[49m\u001b[32;43m1\u001b[39;49m\n",
      "\u001b[36mFile \u001b[39m\u001b[32m~/PycharmProjects/NLP_Labs/.venv/lib/python3.12/site-packages/datasets/arrow_dataset.py:3446\u001b[39m, in \u001b[36mDataset._map_single\u001b[39m\u001b[34m(shard, function, with_indices, with_rank, input_columns, batched, batch_size, drop_last_batch, remove_columns, keep_in_memory, cache_file_name, writer_batch_size, features, disable_nullable, fn_kwargs, new_fingerprint, rank, offset)\u001b[39m\n\u001b[32m   3444\u001b[39m _time = time.time()\n\u001b[32m   3445\u001b[39m \u001b[38;5;28;01mfor\u001b[39;00m i, example \u001b[38;5;129;01min\u001b[39;00m shard_iterable:\n\u001b[32m-> \u001b[39m\u001b[32m3446\u001b[39m     example = \u001b[43mapply_function_on_filtered_inputs\u001b[49m\u001b[43m(\u001b[49m\u001b[43mexample\u001b[49m\u001b[43m,\u001b[49m\u001b[43m \u001b[49m\u001b[43mi\u001b[49m\u001b[43m,\u001b[49m\u001b[43m \u001b[49m\u001b[43moffset\u001b[49m\u001b[43m=\u001b[49m\u001b[43moffset\u001b[49m\u001b[43m)\u001b[49m\n\u001b[32m   3447\u001b[39m     \u001b[38;5;28;01mif\u001b[39;00m update_data:\n\u001b[32m   3448\u001b[39m         \u001b[38;5;28;01mif\u001b[39;00m i == \u001b[32m0\u001b[39m:\n",
      "\u001b[36mFile \u001b[39m\u001b[32m~/PycharmProjects/NLP_Labs/.venv/lib/python3.12/site-packages/datasets/arrow_dataset.py:3338\u001b[39m, in \u001b[36mDataset._map_single.<locals>.apply_function_on_filtered_inputs\u001b[39m\u001b[34m(pa_inputs, indices, check_same_num_examples, offset)\u001b[39m\n\u001b[32m   3336\u001b[39m \u001b[38;5;28;01mif\u001b[39;00m with_rank:\n\u001b[32m   3337\u001b[39m     additional_args += (rank,)\n\u001b[32m-> \u001b[39m\u001b[32m3338\u001b[39m processed_inputs = \u001b[43mfunction\u001b[49m\u001b[43m(\u001b[49m\u001b[43m*\u001b[49m\u001b[43mfn_args\u001b[49m\u001b[43m,\u001b[49m\u001b[43m \u001b[49m\u001b[43m*\u001b[49m\u001b[43madditional_args\u001b[49m\u001b[43m,\u001b[49m\u001b[43m \u001b[49m\u001b[43m*\u001b[49m\u001b[43m*\u001b[49m\u001b[43mfn_kwargs\u001b[49m\u001b[43m)\u001b[49m\n\u001b[32m   3339\u001b[39m \u001b[38;5;28;01mif\u001b[39;00m \u001b[38;5;28misinstance\u001b[39m(processed_inputs, LazyDict):\n\u001b[32m   3340\u001b[39m     processed_inputs = {\n\u001b[32m   3341\u001b[39m         k: v \u001b[38;5;28;01mfor\u001b[39;00m k, v \u001b[38;5;129;01min\u001b[39;00m processed_inputs.data.items() \u001b[38;5;28;01mif\u001b[39;00m k \u001b[38;5;129;01mnot\u001b[39;00m \u001b[38;5;129;01min\u001b[39;00m processed_inputs.keys_to_format\n\u001b[32m   3342\u001b[39m     }\n",
      "\u001b[36mCell\u001b[39m\u001b[36m \u001b[39m\u001b[32mIn[47]\u001b[39m\u001b[32m, line 12\u001b[39m, in \u001b[36mtokenize_bpe\u001b[39m\u001b[34m(example, vocab, merges, column_name, unk_token)\u001b[39m\n\u001b[32m      2\u001b[39m \u001b[38;5;250m\u001b[39m\u001b[33;03m\"\"\"\u001b[39;00m\n\u001b[32m      3\u001b[39m \u001b[33;03mTokenizes the example from the Dataset using BPE\u001b[39;00m\n\u001b[32m      4\u001b[39m \u001b[33;03mArgs:\u001b[39;00m\n\u001b[32m   (...)\u001b[39m\u001b[32m      9\u001b[39m \n\u001b[32m     10\u001b[39m \u001b[33;03m\"\"\"\u001b[39;00m\n\u001b[32m     11\u001b[39m text = example[\u001b[33m'\u001b[39m\u001b[33mclean\u001b[39m\u001b[33m'\u001b[39m]\n\u001b[32m---> \u001b[39m\u001b[32m12\u001b[39m bpe_tokens = \u001b[43mapply_bpe_tokenization\u001b[49m\u001b[43m(\u001b[49m\u001b[43mtext\u001b[49m\u001b[43m,\u001b[49m\u001b[43m \u001b[49m\u001b[43mvocab\u001b[49m\u001b[43m,\u001b[49m\u001b[43m \u001b[49m\u001b[43mmerges\u001b[49m\u001b[43m,\u001b[49m\u001b[43m \u001b[49m\u001b[43munk_token\u001b[49m\u001b[43m)\u001b[49m\n\u001b[32m     13\u001b[39m example[column_name] = bpe_tokens\n\u001b[32m     14\u001b[39m \u001b[38;5;28;01mreturn\u001b[39;00m example\n",
      "\u001b[36mCell\u001b[39m\u001b[36m \u001b[39m\u001b[32mIn[46]\u001b[39m\u001b[32m, line 20\u001b[39m, in \u001b[36mapply_bpe_tokenization\u001b[39m\u001b[34m(text, vocab, merges, unk_token)\u001b[39m\n\u001b[32m     18\u001b[39m \u001b[38;5;28;01mfor\u001b[39;00m i, word \u001b[38;5;129;01min\u001b[39;00m \u001b[38;5;28menumerate\u001b[39m(words):\n\u001b[32m     19\u001b[39m     \u001b[38;5;28;01mfor\u001b[39;00m merge \u001b[38;5;129;01min\u001b[39;00m merges:\n\u001b[32m---> \u001b[39m\u001b[32m20\u001b[39m         word = word.replace(\u001b[33m'\u001b[39m\u001b[33m \u001b[39m\u001b[33m'\u001b[39m + \u001b[33;43m'\u001b[39;49m\u001b[33;43m \u001b[39;49m\u001b[33;43m'\u001b[39;49m\u001b[43m.\u001b[49m\u001b[43mjoin\u001b[49m\u001b[43m(\u001b[49m\u001b[43mmerge\u001b[49m\u001b[43m)\u001b[49m + \u001b[33m'\u001b[39m\u001b[33m \u001b[39m\u001b[33m'\u001b[39m, \u001b[33m'\u001b[39m\u001b[33m \u001b[39m\u001b[33m'\u001b[39m + \u001b[33m'\u001b[39m\u001b[33m'\u001b[39m.join(merge) + \u001b[33m'\u001b[39m\u001b[33m \u001b[39m\u001b[33m'\u001b[39m)\n\u001b[32m     21\u001b[39m     bpe_tokens.extend(word.split())\n\u001b[32m     23\u001b[39m \u001b[38;5;28;01mfor\u001b[39;00m i, token \u001b[38;5;129;01min\u001b[39;00m \u001b[38;5;28menumerate\u001b[39m(bpe_tokens):\n",
      "\u001b[31mKeyboardInterrupt\u001b[39m: "
     ]
    }
   ],
   "source": [
    "tweet_ds = tweet_ds.map(tokenize_bpe, fn_kwargs={'vocab': bpe_vocab50, 'merges': bpe_merges50, 'column_name': 'bpe_tokens_50'})\n",
    "tweet_ds = tweet_ds.map(tokenize_bpe, fn_kwargs={'vocab': bpe_vocab100, 'merges': bpe_merges100, 'column_name': 'bpe_tokens_100'})\n",
    "tweet_ds = tweet_ds.map(tokenize_bpe, fn_kwargs={'vocab': bpe_vocab200, 'merges': bpe_merges200, 'column_name': 'bpe_tokens_200'})\n",
    "tweet_ds = tweet_ds.map(tokenize_bpe, fn_kwargs={'vocab': bpe_vocab500, 'merges': bpe_merges500, 'column_name': 'bpe_tokens_500'})\n",
    "tweet_ds = tweet_ds.map(tokenize_bpe, fn_kwargs={'vocab': bpe_vocab1000, 'merges': bpe_merges1000, 'column_name': 'bpe_tokens_1000'})"
   ]
  },
  {
   "cell_type": "code",
   "execution_count": 57,
   "metadata": {},
   "outputs": [
    {
     "name": "stdout",
     "output_type": "stream",
     "text": [
      "Original tweet:\n",
      "Democracy Plaza in the wake of a stunning outcome #Decision2016 @ NBC News\n",
      "Word tokenization:\n",
      "['<unk>', 'plaza', 'in', 'the', 'wake', 'of', 'a', 'stunning', '<unk>', '<unk>', '<unk>', 'news']\n",
      "BPE tokenization 100:\n",
      "['d', 'e', 'm', 'o', 'c', 'r', 'ac', 'y__', 'p', 'la', 'z', 'a__', 'in__', 'the__', 'w', 'ak', 'e__', 'of__', 'a__', 'st', 'un', 'n', 'ing__', 'ou', 't', 'c', 'om', 'e__', 'd', 'e', 'c', 'is', 'i', 'on', '2', '0', '1', '6', '__', 'n', 'b', 'c', '__', 'ne', 'w', 's']\n",
      "BPE tokenization 1000:\n",
      "['de', 'mo', 'c', 'r', 'ac', 'y__', 'pla', 'za__', 'in__', 'the__', 'w', 'ak', 'e__', 'of__', 'a__', 'st', 'un', 'n', 'ing__', 'out', 'c', 'om', 'e__', 'de', 'c', 'is', 'i', 'on', '2016__', 'n', 'b', 'c__', 'new', 's']\n"
     ]
    }
   ],
   "source": [
    "#1 The unk tokens are at least much much less likelly to appear, in fact they only appear if the letter is not in the vocab, which itself is unlikely.\n",
    "   # compared to word tokenization where unkown is assigned to any word Out Of Vocabulary\n",
    "   # This comes at the cost of being much more fragmented, with many smaller, many times character tokens.\n",
    "   # Hence I try to increase the number of merges to make the vocabulary more meaningful and less granular\n",
    "print('Original tweet:')\n",
    "print(tweet_ds['validation'][2]['text'])\n",
    "print('Word tokenization:')\n",
    "print(tweet_ds['validation'][2]['tokens'])\n",
    "print('BPE tokenization 100:')\n",
    "print(tweet_ds['validation'][2]['bpe_tokens'])\n",
    "print('BPE tokenization 1000:')\n",
    "print(tweet_ds['validation'][2]['bpe_tokens_1000'])"
   ]
  },
  {
   "cell_type": "code",
   "execution_count": 64,
   "metadata": {},
   "outputs": [
    {
     "name": "stdout",
     "output_type": "stream",
     "text": [
      "Number of tokens in tokens: 555056\n",
      "Number of tokens in bpe_tokens_50: 2142505\n",
      "Number of tokens in bpe_tokens_100: 1882195\n",
      "Number of tokens in bpe_tokens_200: 1676402\n",
      "Number of tokens in bpe_tokens_500: 1532990\n",
      "Number of tokens in bpe_tokens_1000: 1473900\n"
     ]
    },
    {
     "name": "stderr",
     "output_type": "stream",
     "text": [
      "/var/folders/84/sbq4d0yx2vdcrx0_5_cy2hmh0000gn/T/ipykernel_97275/2257014270.py:12: MatplotlibDeprecationWarning: The 'labels' parameter of boxplot() has been renamed 'tick_labels' since Matplotlib 3.9; support for the old name will be dropped in 3.11.\n",
      "  plt.boxplot(token_counts_df[column_names].values, labels=column_names)\n"
     ]
    },
    {
     "data": {
      "image/png": "[encoded data removed]",
      "text/plain": [
       "<Figure size 1000x600 with 1 Axes>"
      ]
     },
     "metadata": {},
     "output_type": "display_data"
    }
   ],
   "source": [
    "#2 compare the number of tokens created by each tokenizer: 'tokens', 'bpe_tokens_50', 'bpe_tokens_100', 'bpe_tokens_200', 'bpe_tokens_500', 'bpe_tokens_1000'\n",
    "def compare_token_counts(dataset, column_names):\n",
    "    token_counts = {}\n",
    "    for column_name in column_names:\n",
    "        token_counts[column_name] = [len(example[column_name]) for example in dataset]\n",
    "    return pd.DataFrame(token_counts)\n",
    "\n",
    "column_names = ['tokens', 'bpe_tokens_50', 'bpe_tokens_100', 'bpe_tokens_200', 'bpe_tokens_500', 'bpe_tokens_1000']\n",
    "\n",
    "token_counts_df = compare_token_counts(tweet_ds['train'], column_names)\n",
    "plt.figure(figsize=(10, 6))\n",
    "plt.boxplot(token_counts_df[column_names].values, labels=column_names)\n",
    "plt.title('Distribution of tokens Tokens')\n",
    "\n",
    "# count and print the number of tokens in each column\n",
    "for column_name in column_names:\n",
    "    print(f'Number of tokens in {column_name}:', token_counts_df[column_name].sum())\n",
    "\n",
    "    "
   ]
  },
  {
   "cell_type": "code",
   "execution_count": 63,
   "metadata": {},
   "outputs": [
    {
     "name": "stderr",
     "output_type": "stream",
     "text": [
      "/var/folders/84/sbq4d0yx2vdcrx0_5_cy2hmh0000gn/T/ipykernel_97275/1869144620.py:11: MatplotlibDeprecationWarning: The 'labels' parameter of boxplot() has been renamed 'tick_labels' since Matplotlib 3.9; support for the old name will be dropped in 3.11.\n",
      "  plt.boxplot(unk_counts_df[column_names].values, labels=column_names)\n"
     ]
    },
    {
     "data": {
      "image/png": "[encoded data removed]",
      "text/plain": [
       "<Figure size 1000x600 with 1 Axes>"
      ]
     },
     "metadata": {},
     "output_type": "display_data"
    },
    {
     "name": "stdout",
     "output_type": "stream",
     "text": [
      "Number of unkown tokens in tokens: 8341\n",
      "Number of unkown tokens in bpe_tokens_50: 95\n",
      "Number of unkown tokens in bpe_tokens_100: 95\n",
      "Number of unkown tokens in bpe_tokens_200: 95\n",
      "Number of unkown tokens in bpe_tokens_500: 95\n",
      "Number of unkown tokens in bpe_tokens_1000: 95\n"
     ]
    }
   ],
   "source": [
    "#3 compare the number of Unk tokens created by each tokenizer: 'tokens', 'bpe_tokens_50', 'bpe_tokens_100', 'bpe_tokens_200', 'bpe_tokens_500', 'bpe_tokens_1000'\n",
    "# tweet_ds['validation'], column_names\n",
    "def compare_unk_counts(dataset, column_names):\n",
    "    unk_counts = {}\n",
    "    for column_name in column_names:\n",
    "        unk_counts[column_name] = [sum(1 for token in example[column_name] if token == '<unk>') for example in dataset]\n",
    "    return pd.DataFrame(unk_counts)\n",
    "\n",
    "unk_counts_df = compare_unk_counts(tweet_ds['validation'], column_names)\n",
    "plt.figure(figsize=(10, 6))\n",
    "plt.boxplot(unk_counts_df[column_names].values, labels=column_names)\n",
    "plt.title('Distribution of Unknown Tokens')\n",
    "plt.show()\n",
    "\n",
    "# count and print the number of tokens in each column\n",
    "for column_name in column_names:\n",
    "    print(f'Number of unkown tokens in {column_name}:', unk_counts_df[column_name].sum())"
   ]
  },
  {
   "cell_type": "code",
   "execution_count": 65,
   "metadata": {},
   "outputs": [
    {
     "name": "stderr",
     "output_type": "stream",
     "text": [
      "/var/folders/84/sbq4d0yx2vdcrx0_5_cy2hmh0000gn/T/ipykernel_97275/2824314438.py:11: MatplotlibDeprecationWarning: The 'labels' parameter of boxplot() has been renamed 'tick_labels' since Matplotlib 3.9; support for the old name will be dropped in 3.11.\n",
      "  plt.boxplot(token_lengths_df[column_names].values, labels=column_names)\n"
     ]
    },
    {
     "data": {
      "image/png": "[encoded data removed]",
      "text/plain": [
       "<Figure size 1000x600 with 1 Axes>"
      ]
     },
     "metadata": {},
     "output_type": "display_data"
    },
    {
     "name": "stdout",
     "output_type": "stream",
     "text": [
      "Average length of tokens in tokens: 4.362834079013316\n",
      "Average length of tokens in bpe_tokens_50: 1.690436749667516\n",
      "Average length of tokens in bpe_tokens_100: 1.9259298157241422\n",
      "Average length of tokens in bpe_tokens_200: 2.1633312577530175\n",
      "Average length of tokens in bpe_tokens_500: 2.3721739028554207\n",
      "Average length of tokens in bpe_tokens_1000: 2.46918509653989\n"
     ]
    }
   ],
   "source": [
    "#4 Compare the average length of the tokens created by each tokenizer: 'tokens', 'bpe_tokens_50', 'bpe_tokens_100', 'bpe_tokens_200', 'bpe_tokens_500', 'bpe_tokens_1000'\n",
    "def compare_token_lengths(dataset, column_names):\n",
    "    token_lengths = {}\n",
    "    for column_name in column_names:\n",
    "        # calculate the length of each token in the column and store the average length\n",
    "        token_lengths[column_name] = [sum(len(token) for token in example[column_name]) / len(example[column_name]) if len(example[column_name]) > 0 else 0 for example in dataset]\n",
    "    return pd.DataFrame(token_lengths)\n",
    "\n",
    "token_lengths_df = compare_token_lengths(tweet_ds['train'], column_names) # limiting myself to the train set for simplicity :D\n",
    "plt.figure(figsize=(10, 6))\n",
    "plt.boxplot(token_lengths_df[column_names].values, labels=column_names)\n",
    "plt.title('Average Length of Tokens')\n",
    "plt.show()\n",
    "\n",
    "for column_name in column_names:\n",
    "    print(f'Average length of tokens in {column_name}:', token_lengths_df[column_name].mean())\n"
   ]
  },
  {
   "cell_type": "code",
   "execution_count": 56,
   "metadata": {},
   "outputs": [],
   "source": [
    "#5 advantages and disadvantages of BFE tokenization\n",
    "# Advantages:\n",
    "# - BFE can handle OOV words quite well, as shown by the number of unk tokens compared with the word tokenization\n",
    "\n",
    "# Disadvantages:\n",
    "# - BFE can create a lot of tokens, as shown by the number of tokens created by each tokenizer\n",
    "# - BFE especially with low number of merges creates very granullar, possibly meaningless to humans tokens\n"
   ]
  },
  {
   "cell_type": "markdown",
   "metadata": {
    "collapsed": false,
    "pycharm": {
     "name": "#%% md\n"
    }
   },
   "source": [
    "For answering these questions make sure to include a proper mix of numbers/plots/tables etc. and comments."
   ]
  },
  {
   "cell_type": "markdown",
   "metadata": {
    "collapsed": false,
    "pycharm": {
     "name": "#%% md\n"
    }
   },
   "source": []
  }
 ],
 "metadata": {
  "kernelspec": {
   "display_name": "base",
   "language": "python",
   "name": "python3"
  },
  "language_info": {
   "codemirror_mode": {
    "name": "ipython",
    "version": 3
   },
   "file_extension": ".py",
   "mimetype": "text/x-python",
   "name": "python",
   "nbconvert_exporter": "python",
   "pygments_lexer": "ipython3",
   "version": "3.12.2"
  }
 },
 "nbformat": 4,
 "nbformat_minor": 1
}
