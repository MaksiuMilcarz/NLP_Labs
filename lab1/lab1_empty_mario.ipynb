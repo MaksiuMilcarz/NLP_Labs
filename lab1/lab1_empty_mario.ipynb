{
 "cells": [
  {
   "cell_type": "markdown",
   "metadata": {
    "collapsed": false,
    "pycharm": {
     "name": "#%% md\n"
    }
   },
   "source": [
    "# NLP 2025\n",
    "# Lab 1: Tokenization\n",
    "\n",
    "Tokenization is a fundamental step in **Natural Language Processing (NLP)** 🧠💬 that transforms raw text into structured data for computational models. In this lab, you will explore different **tokenization techniques** 📝, preprocess text data 🔍, and implement **tokenization pipelines** using popular NLP libraries 🏗️.  \n",
    "\n",
    "You will also gain **hands-on experience** with **Hugging Face Datasets 🤗📚**, while assessing the impact of tokenization choices on downstream NLP tasks. \n",
    "\n",
    "By the end of this lab, you will have a **strong foundation** in tokenization techniques and be able to apply them effectively in **real-world NLP applications** 🌍.  \n",
    "\n",
    "---\n",
    "\n",
    "### 🎯 **Learning Goals**  \n",
    "\n",
    "By the end of this lab, you should be able to:  \n",
    "\n",
    "✅ **Understand the role of tokenization in NLP** 🧠💡  \n",
    "✅ **Explain why tokenization is important** and how it affects text processing 📖🔍  \n",
    "✅ **Implement different tokenization techniques** – Apply **word** 📝, **subword** 🔢, and **character-level** 🔠 tokenization using built-in libraries.  \n",
    "✅ **Use Hugging Face Datasets** 🤗📊 – Load and preprocess text datasets efficiently.  \n",
    "✅ **Evaluate tokenization impact** 📉🔎 – Analyze how different tokenization methods influence model performance.  \n",
    "✅ **Identify challenges in tokenization** ❗🔍 – Recognize issues like **out-of-vocabulary (OOV) words**, **ambiguity**, and **multilingual tokenization** 🌍.  \n",
    "\n",
    "### Score breakdown\n",
    "\n",
    "| Exercise            | Points |\n",
    "|---------------------|--------|\n",
    "| [Exercise 1](#e1)   | 5      |\n",
    "| [Exercise 2](#e2)   | 6      |\n",
    "| [Exercise 3](#e3)   | 5      |\n",
    "| [Exercise 4](#e4)   | 12     |\n",
    "| [Exercise 5](#e5)   | 5      |\n",
    "| [Exercise 6](#e6)   | 22     |\n",
    "| [Exercise 7](#e7)   | 5      |\n",
    "| [Exercise 8](#e8)   | 5      |\n",
    "| [Exercise 9](#e9)   | 10     |\n",
    "| [Exercise 10](#e10) | 25     |\n",
    "| Total               | 100    |\n",
    "\n",
    "This score will be scaled down to 0.5 and that will be your final lab score.\n",
    "\n",
    "### 📌 **Instructions for Delivery** (📅 **Deadline: 11/Apr 18:00**, 🎭 *wildcards possible*)  \n",
    "\n",
    "✅ **Submission Requirements**  \n",
    "+ 📄 You need to submit a **PDF of your report** (use the templates provided in **LaTeX** 🖋️ (*preferred*) or **Word** 📑) and a **copy of your notebook** 📓 with the code.  \n",
    "+ ⚡ Make sure that **all cells are executed properly** ⚙️ and that **all figures/results/plots** 📊 you include in the report are also visible in your **executed notebook**.  \n",
    "\n",
    "✅ **Collaboration & Integrity**  \n",
    "+ 🗣️ While you may **discuss** the lab with others, you must **write your solutions with your group only**. If you **discuss specific tasks** with others, please **include their names** in the appendix of the report.  \n",
    "+ 📜 **Honor Code applies** to this lab. For more details, check **Syllabus §7.2** ⚖️.  \n",
    "+ 📢 **Mandatory Disclosure**:  \n",
    "   - Any **websites** 🌐 (e.g., **Stack Overflow** 💡) or **other resources** used must be **listed and disclosed**.  \n",
    "   - Any **GenAI tools** 🤖 (e.g., **ChatGPT**) used must be **explicitly mentioned**.  \n",
    "   - 🚨 **Failure to disclose these resources is a violation of academic integrity**. See **Syllabus §7.3** for details.   "
   ]
  },
  {
   "cell_type": "markdown",
   "metadata": {
    "collapsed": false,
    "pycharm": {
     "name": "#%% md\n"
    }
   },
   "source": [
    "## Preparation"
   ]
  },
  {
   "cell_type": "code",
   "metadata": {
    "collapsed": false,
    "pycharm": {
     "name": "#%%\n"
    },
    "ExecuteTime": {
     "end_time": "2025-04-04T09:17:17.968856Z",
     "start_time": "2025-04-04T09:17:17.964058Z"
    }
   },
   "source": [
    "# ! pip install -U datasets~=3.2.0\n",
    "# ! python -m pip install -U matplotlib"
   ],
   "outputs": [],
   "execution_count": 4
  },
  {
   "cell_type": "code",
   "metadata": {
    "collapsed": false,
    "pycharm": {
     "name": "#%%\n"
    },
    "ExecuteTime": {
     "end_time": "2025-04-04T09:52:04.207414Z",
     "start_time": "2025-04-04T09:52:04.201159Z"
    }
   },
   "source": [
    "import re\n",
    "from collections import Counter\n",
    "\n",
    "import datasets\n",
    "import pandas as pd\n",
    "import tqdm\n",
    "import matplotlib.pyplot as plt\n",
    "from debugpy.common.sockets import shut_down"
   ],
   "outputs": [],
   "execution_count": 43
  },
  {
   "cell_type": "markdown",
   "metadata": {
    "collapsed": false,
    "pycharm": {
     "name": "#%% md\n"
    }
   },
   "source": [
    "## 0. Intro to regular expressions\n",
    "\n",
    "In this introduction section, you can practice the use of regular expressions in python. You can find the documentation here: [https://docs.python.org/3/library/re.html](https://docs.python.org/3/library/re.html). The main functions of the re module are:\n",
    "- `re.search()` - searches for a pattern in a string, returns the first match,\n",
    "- `re.findall()` - similar to `search()`, but returns a list of all matches,\n",
    "- `re.sub()` - replaces the matches with a string.\n",
    "\n",
    "All above functions accept the regular expression pattern as their argument. The patterns are strings that represent the rules for matching the text. In python they start with `r` character, e.g. `r'\\d'` is a pattern that matches a digit.\n",
    "\n",
    "Let us start with a simple example. We will search for the word \"world\" in the string \"Hello, world!\"."
   ]
  },
  {
   "cell_type": "code",
   "metadata": {
    "collapsed": false,
    "pycharm": {
     "name": "#%%\n"
    },
    "ExecuteTime": {
     "end_time": "2025-04-04T09:17:18.806549Z",
     "start_time": "2025-04-04T09:17:18.804471Z"
    }
   },
   "source": [
    "text = \"Hello, world!\"\n",
    "pattern = r'world'\n",
    "match = re.search(pattern, text)\n",
    "print(match)"
   ],
   "outputs": [
    {
     "name": "stdout",
     "output_type": "stream",
     "text": [
      "<re.Match object; span=(7, 12), match='world'>\n"
     ]
    }
   ],
   "execution_count": 6
  },
  {
   "cell_type": "markdown",
   "metadata": {
    "collapsed": false,
    "pycharm": {
     "name": "#%% md\n"
    }
   },
   "source": [
    "The `search()` function returns a match object that tells us where the match was found (`span` argument) and the exact part of the string that matched the pattern (`group` argument).\n",
    "\n",
    "Below you can find the examples from the lecture."
   ]
  },
  {
   "cell_type": "code",
   "metadata": {
    "collapsed": false,
    "pycharm": {
     "name": "#%%\n"
    },
    "ExecuteTime": {
     "end_time": "2025-04-04T09:17:18.813737Z",
     "start_time": "2025-04-04T09:17:18.811818Z"
    }
   },
   "source": [
    "# Disjunctions\n",
    "pattern = r'[wW]oodchuck' # matches both \"woodchuck\" and \"Woodchuck\"\n",
    "pattern = r'[1234567890]' # matches any digit\n",
    "pattern = r'[0-9]' # matches any digit\n",
    "pattern = r'[A-Z]' # matches any uppercase letter\n",
    "pattern = r'[a-z]' # matches any lowercase letter\n",
    "pattern = r'[A-Za-z]' # matches any letter\n",
    "\n",
    "# Disjunctions with pipe |\n",
    "pattern = r'groundhog|Woodchuck' # matches both \"woodchuck\" and \"Woodchuck\"\n",
    "\n",
    "# Negation (only when in [])\n",
    "pattern = r'[^0-9]' # matches any character that is not a digit\n",
    "pattern = r'[^Ss]' # matches any character that is not 'S' or 's'\n",
    "pattern = r'a^b' # matches the string \"a^b\"\n",
    "\n",
    "# Quantifiers (+, *, ?, .)\n",
    "pattern = r'baa+' # matches \"ba\" followed by one or more \"a\" (e.g. \"baa\", \"baaa\", \"baaaa\", ...)\n",
    "pattern = r'oo*h' # matches \"o\" followed by zero or more \"o\" and then \"h\" (e.g. \"oh\", \"ooh\", \"oooh\", ...)\n",
    "pattern = r'colou?r' # matches \"color\" and \"colour\"\n",
    "pattern = r'beg.n' # matches \"begun\", \"begin\", \"begnn\", ...\n",
    "\n",
    "# Anchors (^, $)\n",
    "pattern = r'^Hello' # matches \"Hello\" at the beginning of the string\n",
    "pattern = r'world!$' # matches \"world!\" at the end of the string"
   ],
   "outputs": [],
   "execution_count": 7
  },
  {
   "cell_type": "markdown",
   "metadata": {
    "collapsed": false,
    "pycharm": {
     "name": "#%% md\n"
    }
   },
   "source": [
    "## 1. Huggingface datasets\n",
    "\n",
    "For this lab, we will use the **Hugging Face Datasets** library ([Hugging Face Datasets](https://huggingface.co/datasets)), which provides an extensive collection of ready-to-use NLP datasets. The library is designed to be lightweight, efficient, and compatible with popular deep learning frameworks such as PyTorch and TensorFlow.  \n",
    "\n",
    "You can find the full documentation and tutorials here:  \n",
    "📌 [Hugging Face Datasets Documentation](https://huggingface.co/docs/datasets/en/index)  \n",
    "\n",
    "### **Why use Hugging Face Datasets?**  \n",
    "- **Easy Access:** Load datasets with a single command without manual downloads.  \n",
    "- **Standardized Format:** Datasets come in a unified structure, making them easy to preprocess and integrate into ML pipelines.  \n",
    "- **Large Collection:** Provides datasets for a wide range of NLP tasks, including classification, translation, summarization, and more.  \n",
    "- **Seamless Integration:** Works with `transformers` and `sklearn` for preprocessing and model training.  \n",
    "\n",
    "### **Dataset for this lab: TweetEval - Emoji Subset**  \n",
    "\n",
    "In this lab, we will work with the **TweetEval** dataset, specifically the **emoji** subset. The TweetEval dataset is a benchmark for evaluating NLP models on Twitter-related tasks, covering tasks such as sentiment analysis, hate speech detection, and irony detection.  \n",
    "\n",
    "For tokenization, we will focus only on the **text** (the content of the tweets), but we will also examine the **labels** to understand the dataset structure.  \n",
    "\n",
    "🔗 The dataset description and details are available in its dataset card: [**TweetEval Dataset**](https://huggingface.co/datasets/cardiffnlp/tweet_eval) \n",
    "\n",
    "💡 Exploring More Datasets\n",
    "Hugging Face provides a vast selection of datasets across different NLP tasks. You can browse and explore more at:\n",
    "🔗 [Hugging Face Datasets Collection](https://huggingface.co/datasets)"
   ]
  },
  {
   "cell_type": "code",
   "metadata": {
    "collapsed": false,
    "pycharm": {
     "name": "#%%\n"
    },
    "ExecuteTime": {
     "end_time": "2025-04-04T09:17:25.865995Z",
     "start_time": "2025-04-04T09:17:18.826765Z"
    }
   },
   "source": [
    "tweet_ds = datasets.load_dataset('tweet_eval', 'emoji')\n",
    "print(tweet_ds)"
   ],
   "outputs": [
    {
     "name": "stdout",
     "output_type": "stream",
     "text": [
      "DatasetDict({\n",
      "    train: Dataset({\n",
      "        features: ['text', 'label'],\n",
      "        num_rows: 45000\n",
      "    })\n",
      "    test: Dataset({\n",
      "        features: ['text', 'label'],\n",
      "        num_rows: 50000\n",
      "    })\n",
      "    validation: Dataset({\n",
      "        features: ['text', 'label'],\n",
      "        num_rows: 5000\n",
      "    })\n",
      "})\n"
     ]
    }
   ],
   "execution_count": 8
  },
  {
   "cell_type": "markdown",
   "metadata": {
    "collapsed": false,
    "pycharm": {
     "name": "#%% md\n"
    }
   },
   "source": [
    "The loaded dataset contains three subsets (“train”, “validation”, and “test”). Each consists of two columns: “text” and “label”. Label is an integer from 0 to 19 representing an emoji. See the dataset's card for more information. We can access the elements of the dataset like so:"
   ]
  },
  {
   "cell_type": "code",
   "metadata": {
    "collapsed": false,
    "pycharm": {
     "name": "#%%\n"
    },
    "ExecuteTime": {
     "end_time": "2025-04-04T09:17:25.881566Z",
     "start_time": "2025-04-04T09:17:25.875755Z"
    }
   },
   "source": [
    "for i in range(10):\n",
    "    print(tweet_ds['train'][i])"
   ],
   "outputs": [
    {
     "name": "stdout",
     "output_type": "stream",
     "text": [
      "{'text': 'Sunday afternoon walking through Venice in the sun with @user ️ ️ ️ @ Abbot Kinney, Venice', 'label': 12}\n",
      "{'text': \"Time for some BBQ and whiskey libations. Chomp, belch, chomp! (@ Lucille's Smokehouse Bar-B-Que)\", 'label': 19}\n",
      "{'text': 'Love love love all these people ️ ️ ️ #friends #bff #celebrate #blessed #sundayfunday @ San…', 'label': 0}\n",
      "{'text': '️ ️ ️ ️ @ Toys\"R\"Us', 'label': 0}\n",
      "{'text': 'Man these are the funniest kids ever!! That face! #HappyBirthdayBubb @ FLIPnOUT Xtreme', 'label': 2}\n",
      "{'text': '#sandiego @ San Diego, California', 'label': 11}\n",
      "{'text': 'My little ️ ️ ️ ️ ️ #ObsessedWithMyDog @ Cafe Solstice Capitol Hill', 'label': 0}\n",
      "{'text': 'More #tinyepic things #tinyepicwestern, this one is crazy @user I may be one of your…', 'label': 19}\n",
      "{'text': 'Last night ️ @ Omnia Night Club At Caesars Palace', 'label': 0}\n",
      "{'text': 'friendship at its finest. ....#pixar #toystory #buzz #woody #friends #friendship #bff…', 'label': 7}\n"
     ]
    }
   ],
   "execution_count": 9
  },
  {
   "cell_type": "markdown",
   "metadata": {
    "collapsed": false,
    "pycharm": {
     "name": "#%% md\n"
    }
   },
   "source": [
    "You can easily cast the dataset to the pandas DataFrame."
   ]
  },
  {
   "cell_type": "code",
   "metadata": {
    "collapsed": false,
    "pycharm": {
     "name": "#%%\n"
    },
    "ExecuteTime": {
     "end_time": "2025-04-04T09:17:26.327109Z",
     "start_time": "2025-04-04T09:17:25.928545Z"
    }
   },
   "source": [
    "tweet_train_df = pd.DataFrame(tweet_ds['train'])\n",
    "print(tweet_train_df)"
   ],
   "outputs": [
    {
     "name": "stdout",
     "output_type": "stream",
     "text": [
      "                                                    text  label\n",
      "0      Sunday afternoon walking through Venice in the...     12\n",
      "1      Time for some BBQ and whiskey libations. Chomp...     19\n",
      "2      Love love love all these people ️ ️ ️ #friends...      0\n",
      "3                                    ️ ️ ️ ️ @ Toys\"R\"Us      0\n",
      "4      Man these are the funniest kids ever!! That fa...      2\n",
      "...                                                  ...    ...\n",
      "44995  Here to celebrate the Nunez wedding! Love my b...      0\n",
      "44996  1 night in Paris.... Wait... @ Paris Las Vegas...      1\n",
      "44997  Be safe this weekend everyone. #happylaborday ...     11\n",
      "44998          Pizza (@ Five50 - @user in Las Vegas, NV)      1\n",
      "44999  my mini is perfect, no one deserves her @ Las ...     13\n",
      "\n",
      "[45000 rows x 2 columns]\n"
     ]
    }
   ],
   "execution_count": 10
  },
  {
   "cell_type": "markdown",
   "metadata": {
    "collapsed": false,
    "pycharm": {
     "name": "#%% md\n"
    }
   },
   "source": [
    "We can plot the distribution of the labels in the training subset."
   ]
  },
  {
   "cell_type": "code",
   "metadata": {
    "collapsed": false,
    "pycharm": {
     "name": "#%%\n"
    },
    "ExecuteTime": {
     "end_time": "2025-04-04T09:17:26.625026Z",
     "start_time": "2025-04-04T09:17:26.332857Z"
    }
   },
   "source": [
    "tweet_train_df.groupby('label').count().plot.bar()"
   ],
   "outputs": [
    {
     "data": {
      "text/plain": [
       "<Axes: xlabel='label'>"
      ]
     },
     "execution_count": 11,
     "metadata": {},
     "output_type": "execute_result"
    },
    {
     "data": {
      "text/plain": [
       "<Figure size 640x480 with 1 Axes>"
      ],
      "image/png": "[encoded data removed]"
     },
     "metadata": {},
     "output_type": "display_data"
    }
   ],
   "execution_count": 11
  },
  {
   "cell_type": "markdown",
   "metadata": {
    "collapsed": false,
    "pycharm": {
     "name": "#%% md\n"
    }
   },
   "source": [
    "### Dataset's filter function\n",
    "We can filter the examples using ```filter()``` method. See this link for more details https://huggingface.co/docs/datasets/en/use_dataset. Here is an example of filtering the short tweets (less than 20 characters) from the ```train``` subset."
   ]
  },
  {
   "cell_type": "code",
   "metadata": {
    "collapsed": false,
    "pycharm": {
     "name": "#%%\n"
    },
    "ExecuteTime": {
     "end_time": "2025-04-04T09:17:26.640281Z",
     "start_time": "2025-04-04T09:17:26.635587Z"
    }
   },
   "source": [
    "short_tweets = tweet_ds['train'].filter(lambda example: len(example['text']) < 20)\n",
    "print(short_tweets)"
   ],
   "outputs": [
    {
     "name": "stdout",
     "output_type": "stream",
     "text": [
      "Dataset({\n",
      "    features: ['text', 'label'],\n",
      "    num_rows: 506\n",
      "})\n"
     ]
    }
   ],
   "execution_count": 12
  },
  {
   "cell_type": "code",
   "metadata": {
    "collapsed": false,
    "pycharm": {
     "name": "#%%\n"
    },
    "ExecuteTime": {
     "end_time": "2025-04-04T09:17:26.651681Z",
     "start_time": "2025-04-04T09:17:26.648126Z"
    }
   },
   "source": [
    "for i in range(10):\n",
    "    print(short_tweets[i])"
   ],
   "outputs": [
    {
     "name": "stdout",
     "output_type": "stream",
     "text": [
      "{'text': '️ ️ ️ ️ @ Toys\"R\"Us', 'label': 0}\n",
      "{'text': '️ @ Columbia River', 'label': 12}\n",
      "{'text': 'My weekend: @user 3', 'label': 6}\n",
      "{'text': 'good day today', 'label': 3}\n",
      "{'text': 'My last RT...', 'label': 2}\n",
      "{'text': '@ On Lake Cowichan', 'label': 13}\n",
      "{'text': '@ Macroplaza', 'label': 4}\n",
      "{'text': '@ BART Train', 'label': 6}\n",
      "{'text': '️ 4 a tbh&amp; rate', 'label': 0}\n",
      "{'text': '@user Oh nice!!', 'label': 14}\n"
     ]
    }
   ],
   "execution_count": 13
  },
  {
   "cell_type": "markdown",
   "metadata": {
    "collapsed": false,
    "pycharm": {
     "name": "#%% md\n"
    }
   },
   "source": [
    "### Dataset's map function\n",
    "Datasets library contains a very useful method map. It expects a function that will receive an example from the dataset. This function will be applied to all entries. We will calculate the length of the text (in characters) in each example."
   ]
  },
  {
   "cell_type": "code",
   "metadata": {
    "collapsed": false,
    "pycharm": {
     "name": "#%%\n"
    },
    "ExecuteTime": {
     "end_time": "2025-04-04T10:05:07.489285Z",
     "start_time": "2025-04-04T10:05:07.481773Z"
    }
   },
   "source": [
    "def calculate_text_length(example):\n",
    "    example['text_length'] = len(example['text'])\n",
    "    return example"
   ],
   "outputs": [],
   "execution_count": 51
  },
  {
   "cell_type": "code",
   "metadata": {
    "collapsed": false,
    "pycharm": {
     "name": "#%%\n"
    },
    "ExecuteTime": {
     "end_time": "2025-04-04T10:05:13.302636Z",
     "start_time": "2025-04-04T10:05:08.744637Z"
    }
   },
   "source": [
    "tweet_ds = tweet_ds.map(calculate_text_length)\n",
    "print(tweet_ds)"
   ],
   "outputs": [
    {
     "name": "stderr",
     "output_type": "stream",
     "text": [
      "Map: 100%|██████████| 45000/45000 [00:02<00:00, 20918.78 examples/s]\n",
      "Map: 100%|██████████| 50000/50000 [00:02<00:00, 22912.12 examples/s]\n",
      "Map: 100%|██████████| 5000/5000 [00:00<00:00, 24659.09 examples/s]"
     ]
    },
    {
     "name": "stdout",
     "output_type": "stream",
     "text": [
      "DatasetDict({\n",
      "    train: Dataset({\n",
      "        features: ['text', 'label', 'text_length', 'clean', 'tokens'],\n",
      "        num_rows: 45000\n",
      "    })\n",
      "    test: Dataset({\n",
      "        features: ['text', 'label', 'text_length', 'clean', 'tokens'],\n",
      "        num_rows: 50000\n",
      "    })\n",
      "    validation: Dataset({\n",
      "        features: ['text', 'label', 'text_length', 'clean', 'tokens'],\n",
      "        num_rows: 5000\n",
      "    })\n",
      "})\n"
     ]
    },
    {
     "name": "stderr",
     "output_type": "stream",
     "text": [
      "\n"
     ]
    }
   ],
   "execution_count": 52
  },
  {
   "cell_type": "markdown",
   "metadata": {
    "collapsed": false,
    "pycharm": {
     "name": "#%% md\n"
    }
   },
   "source": [
    "We can plot the histogram of the text lengths."
   ]
  },
  {
   "cell_type": "code",
   "metadata": {
    "collapsed": false,
    "pycharm": {
     "name": "#%%\n"
    },
    "ExecuteTime": {
     "end_time": "2025-04-04T09:17:27.366189Z",
     "start_time": "2025-04-04T09:17:26.748061Z"
    }
   },
   "source": [
    "pd.DataFrame(tweet_ds['train']).groupby('text_length')['text_length'].count().plot.hist(bins=50)"
   ],
   "outputs": [
    {
     "data": {
      "text/plain": [
       "<Axes: ylabel='Frequency'>"
      ]
     },
     "execution_count": 16,
     "metadata": {},
     "output_type": "execute_result"
    },
    {
     "data": {
      "text/plain": [
       "<Figure size 640x480 with 1 Axes>"
      ],
      "image/png": "[encoded data removed]"
     },
     "metadata": {},
     "output_type": "display_data"
    }
   ],
   "execution_count": 16
  },
  {
   "cell_type": "markdown",
   "metadata": {
    "collapsed": false,
    "pycharm": {
     "name": "#%% md\n"
    }
   },
   "source": [
    "<a name=\"e1\"></a>\n",
    "\n",
    "### Exercise 1: Questions about the datasets\n",
    "1. (1p) What is the size of the training, test and validation datasets? 45000, 50000, 5000\n",
    "2. (1p) What are the top 5 most frequent emojis in the validation dataset? 0, 1, 2, 7, 4, 5\n",
    "3. (1p) Compare the distributions of labels (emojis) between training and validation datasets.\n",
    "4. (1p) How many examples with the \"fire\" emoji are in the training dataset? 2146\n",
    "5. (1p) What is the average length (in characters) of the tweets in the training dataset? 71.02"
   ]
  },
  {
   "cell_type": "markdown",
   "metadata": {
    "collapsed": false,
    "pycharm": {
     "name": "#%% md\n"
    }
   },
   "source": [
    "You can add cells here to answer the questions"
   ]
  },
  {
   "cell_type": "code",
   "metadata": {
    "collapsed": false,
    "pycharm": {
     "name": "#%%\n"
    },
    "ExecuteTime": {
     "end_time": "2025-04-04T10:07:38.785385Z",
     "start_time": "2025-04-04T10:07:38.159474Z"
    }
   },
   "source": [
    "### YOUR CODE HERE\n",
    "\n",
    "# from datasets import get_dataset_config_names\n",
    "# print(get_dataset_config_names(\"tweet_eval\"))\n",
    "\n",
    "train_label_counts = tweet_train_df['label'].value_counts()\n",
    "label_names = tweet_ds['train'].features['label'].names\n",
    "train_label_counts.index = train_label_counts.index.map(lambda i: label_names[i])\n",
    "print(train_label_counts)\n",
    "\n",
    "tweet_train_df.groupby('label').count().plot.bar()\n",
    "\n",
    "tweet_validation_df = pd.DataFrame(tweet_ds['validation'])\n",
    "\n",
    "tweet_validation_df = pd.DataFrame(tweet_ds['validation'])\n",
    "\n",
    "train_counts = tweet_train_df['label'].value_counts(normalize=True).sort_index()\n",
    "validation_counts = tweet_validation_df['label'].value_counts(normalize=True).sort_index()\n",
    "\n",
    "label_dist_df = pd.DataFrame({\n",
    "    'Train': train_counts,\n",
    "    'Validation': validation_counts,\n",
    "})\n",
    "\n",
    "label_dist_df.plot(kind='bar', figsize=(12, 6))\n",
    "plt.title(\"Normalized Emoji Label Distribution Across Splits\")\n",
    "plt.xlabel(\"Emoji\")\n",
    "plt.ylabel(\"Proportion of Samples\")\n",
    "plt.xticks(rotation=45)\n",
    "plt.tight_layout()\n",
    "plt.show()\n",
    "\n",
    "\n",
    "\n",
    "tweet_train_df['text_length'] = tweet_train_df['text'].apply(len)\n",
    "average_tweet_length = tweet_train_df['text_length'].mean()\n",
    "print(average_tweet_length)\n",
    "\n",
    "\n",
    "\n",
    "\n"
   ],
   "outputs": [
    {
     "name": "stdout",
     "output_type": "stream",
     "text": [
      "label\n",
      "❤     9204\n",
      "😍     4901\n",
      "😂     4713\n",
      "✨     2345\n",
      "🔥     2146\n",
      "😊     2132\n",
      "😎     2078\n",
      "💕     2043\n",
      "📷     1982\n",
      "📸     1510\n",
      "🎄     1397\n",
      "😘     1391\n",
      "😁     1350\n",
      "💙     1287\n",
      "☀     1246\n",
      "😉     1224\n",
      "😜     1191\n",
      "💜      980\n",
      "🇺🇸     946\n",
      "💯      934\n",
      "Name: count, dtype: int64\n"
     ]
    },
    {
     "data": {
      "text/plain": [
       "<Figure size 640x480 with 1 Axes>"
      ],
      "image/png": "[encoded data removed]"
     },
     "metadata": {},
     "output_type": "display_data"
    },
    {
     "data": {
      "text/plain": [
       "<Figure size 1200x600 with 1 Axes>"
      ],
      "image/png": "[encoded data removed]"
     },
     "metadata": {},
     "output_type": "display_data"
    },
    {
     "name": "stdout",
     "output_type": "stream",
     "text": [
      "71.01691111111111\n"
     ]
    }
   ],
   "execution_count": 56
  },
  {
   "cell_type": "markdown",
   "metadata": {
    "collapsed": false,
    "pycharm": {
     "name": "#%% md\n"
    }
   },
   "source": [
    "## 2. Tokenization\n",
    "\n",
    "In this section we will preprocess the dataset by cleaning and tokenizing the entries.\n",
    "Datasets library contains a very useful method map. It expects a function that will receive an example from the dataset. This function will be applied to all entries."
   ]
  },
  {
   "cell_type": "markdown",
   "metadata": {
    "collapsed": false,
    "pycharm": {
     "name": "#%% md\n"
    }
   },
   "source": [
    "### 2.1 Cleaning the text"
   ]
  },
  {
   "cell_type": "markdown",
   "metadata": {
    "collapsed": false,
    "pycharm": {
     "name": "#%% md\n"
    }
   },
   "source": [
    "<a name=\"e2\"></a>\n",
    "### Exercise 2: Write the text cleaning function\n",
    "\n",
    "Include at least the following steps:\n",
    "- (1p) remove comma between numbers, i.e. 15,000 -> 15000\n",
    "- (1p) remove multiple spaces\n",
    "- (1p) space out the punctuation (i.e. \"hello, world.\" -> \"hello , world .\")\n",
    "- (3x1p) three more cleaning steps of your choice"
   ]
  },
  {
   "cell_type": "code",
   "metadata": {
    "collapsed": false,
    "pycharm": {
     "name": "#%%\n"
    },
    "ExecuteTime": {
     "end_time": "2025-04-07T19:29:59.711122Z",
     "start_time": "2025-04-07T19:29:59.695723Z"
    }
   },
   "source": [
    "def clean(example):\n",
    "    \"\"\"\n",
    "    Cleans the example from the Dataset\n",
    "    Args:\n",
    "        example: an example from the Dataset\n",
    "\n",
    "    Returns: update example containing 'clean' column\n",
    "\n",
    "    \"\"\"\n",
    "    text = example['text']\n",
    "\n",
    "    # Empty text\n",
    "    if text == '':\n",
    "        example['clean'] = ''\n",
    "        return example\n",
    "\n",
    "    text = str(text)\n",
    "\n",
    "    ### YOUR CODE HERE\n",
    "\n",
    "    # 1. Remove comma between numbers (e.g., 15,000 -> 15000)\n",
    "    text = re.sub(r'(?<=\\d),(?=\\d)', '', text)\n",
    "\n",
    "    # 2 Remove - for words or objects that should be treated as a single unit\n",
    "    text = re.sub(r'\\-', '' , text)\n",
    "\n",
    "    # 3. Replace contractions (a bit extensive i count these contractions as one and also i probably missed a couple)\n",
    "    text = text.replace(\"’\", \"'\").replace(\"‘\", \"'\").replace(\"“\", '\"').replace(\"”\", '\"')\n",
    "    text = re.sub(r\"\\b(what|who|where|when|why|how|there|it|here|she|he|that)\\'s\\b\", r\"\\1 is\", text, flags=re.IGNORECASE)\n",
    "    text = re.sub(r\"let\\'s\\b\", \"let us\", text, flags=re.IGNORECASE)\n",
    "    text = re.sub(r\"\\bi\\'m\\b\", \"i am\", text, flags=re.IGNORECASE)\n",
    "    text = re.sub(r\"\\'re\\b\", \" are\", text, flags=re.IGNORECASE)\n",
    "    text = re.sub(r\"\\'ve\\b\", \" have\", text, flags=re.IGNORECASE)\n",
    "    text = re.sub(r\"\\'ll\\b\", \" will\", text, flags=re.IGNORECASE)\n",
    "    text = re.sub(r\"\\'d\\b\", \" would\", text, flags=re.IGNORECASE)\n",
    "    text = re.sub(r\"n\\'t\\b\", \" not\", text, flags=re.IGNORECASE)\n",
    "    text = re.sub(r\"shan\\'t\\b\", \"shall not\", text, flags=re.IGNORECASE)\n",
    "    text = re.sub(r\"can\\'t\\b\", \"can not\", text, flags=re.IGNORECASE)\n",
    "    text = re.sub(r\"won\\'t\\b\", \"will not\", text, flags=re.IGNORECASE)\n",
    "    text = re.sub(r\"\\by\\'all\\b\", \"you all\", text, flags=re.IGNORECASE)\n",
    "\n",
    "\n",
    "    # 4. Normalize repeated punctuation (e.g., \"!!!\" → \"!!!\", \"....\" → \"...\")\n",
    "    text = re.sub(r'([^\\w\\s])\\1{2,}', r'\\1\\1\\1', text)\n",
    "\n",
    "    # 5. Space out punctuation\n",
    "    text = re.sub(r'([^\\w\\s])', r' \\1 ', text)\n",
    "\n",
    "    # 6. Reduce repeated letters (e.g., \"heelllooo\" → \"hello\")\n",
    "    text = re.sub(r'(.)\\1{2,}', r'\\1\\1', text)\n",
    "\n",
    "    # 7. Lowercase the text\n",
    "    text = text.lower()\n",
    "\n",
    "    # 8. Clean up extra whitespace (especially after spacing punctuation)\n",
    "    text = re.sub(r'\\s+', ' ', text).strip()\n",
    "\n",
    "    example['clean'] = text\n",
    "    return example"
   ],
   "outputs": [],
   "execution_count": 171
  },
  {
   "cell_type": "markdown",
   "metadata": {
    "collapsed": false,
    "pycharm": {
     "name": "#%% md\n"
    }
   },
   "source": [
    "This is an example of applying the ```clean()``` function you just wrote to a single entry of the dataset. The function added a 'clean' field to the example."
   ]
  },
  {
   "cell_type": "code",
   "metadata": {
    "collapsed": false,
    "pycharm": {
     "name": "#%%\n"
    },
    "ExecuteTime": {
     "end_time": "2025-04-07T19:06:18.816691Z",
     "start_time": "2025-04-07T19:06:18.803702Z"
    }
   },
   "source": [
    "print('Original tweet item:')\n",
    "print(tweet_ds['train'][2]['text'])\n",
    "print('Cleaned tweet item:')\n",
    "print(clean(tweet_ds['train'][2])['clean'])"
   ],
   "outputs": [
    {
     "name": "stdout",
     "output_type": "stream",
     "text": [
      "Original tweet item:\n",
      "Love love love all these people ️ ️ ️ #friends #bff #celebrate #blessed #sundayfunday @ San…\n",
      "Cleaned tweet item:\n",
      "love love love all these people ️ ️ ️ # friends # bff # celebrate # blessed # sundayfunday @ san …\n"
     ]
    }
   ],
   "execution_count": 156
  },
  {
   "cell_type": "markdown",
   "metadata": {
    "collapsed": false,
    "pycharm": {
     "name": "#%% md\n"
    }
   },
   "source": [
    "Let's finally use the ```map()``` method and apply your `clean()` function to all entries of the dataset. You can see that the ```clean``` column has been added to each split."
   ]
  },
  {
   "cell_type": "markdown",
   "metadata": {
    "collapsed": false,
    "pycharm": {
     "name": "#%% md\n"
    }
   },
   "source": [
    "Below, we will apply your function to all entries in the dataset."
   ]
  },
  {
   "cell_type": "code",
   "metadata": {
    "collapsed": false,
    "pycharm": {
     "name": "#%%\n"
    },
    "ExecuteTime": {
     "end_time": "2025-04-07T19:30:17.567434Z",
     "start_time": "2025-04-07T19:30:02.469805Z"
    }
   },
   "source": [
    "tweet_ds = tweet_ds.map(clean)\n",
    "print(tweet_ds)"
   ],
   "outputs": [
    {
     "name": "stderr",
     "output_type": "stream",
     "text": [
      "Map: 100%|██████████| 45000/45000 [00:06<00:00, 6591.27 examples/s]\n",
      "Map: 100%|██████████| 50000/50000 [00:07<00:00, 6691.41 examples/s]\n",
      "Map: 100%|██████████| 5000/5000 [00:00<00:00, 6499.01 examples/s]"
     ]
    },
    {
     "name": "stdout",
     "output_type": "stream",
     "text": [
      "DatasetDict({\n",
      "    train: Dataset({\n",
      "        features: ['text', 'label', 'text_length', 'clean', 'tokens'],\n",
      "        num_rows: 45000\n",
      "    })\n",
      "    test: Dataset({\n",
      "        features: ['text', 'label', 'text_length', 'clean', 'tokens'],\n",
      "        num_rows: 50000\n",
      "    })\n",
      "    validation: Dataset({\n",
      "        features: ['text', 'label', 'text_length', 'clean', 'tokens'],\n",
      "        num_rows: 5000\n",
      "    })\n",
      "})\n"
     ]
    },
    {
     "name": "stderr",
     "output_type": "stream",
     "text": [
      "\n"
     ]
    }
   ],
   "execution_count": 172
  },
  {
   "cell_type": "markdown",
   "metadata": {
    "collapsed": false,
    "pycharm": {
     "name": "#%% md\n"
    }
   },
   "source": [
    "### 2.2 Build vocabulary\n",
    "\n",
    "In the previous section, we implemented the cleaning of the dataset. Now, we will tokenize the text splitting it by spaces. We will build a vocabulary based on the cleaned text of the `train` split. We will investigate some properties of corpora (e.g. Zipf's law).\n",
    "\n",
    "The function below builds a vocabulary from the dataset. It counts the occurrences of the words in the dataset using the Counter class. Check the documentation here [collections.Counter](https://docs.python.org/3/library/collections.html#collections.Counter)."
   ]
  },
  {
   "cell_type": "markdown",
   "metadata": {
    "collapsed": false,
    "pycharm": {
     "name": "#%% md\n"
    }
   },
   "source": [
    "### Exercise 3: Build the vocabulary\n",
    "(5p) Fill in the function below to build the vocabulary from the dataset. The function should return a `Counter` object with the words and their frequencies. The variable named `vocab` is already initialized as an empty `Counter` object."
   ]
  },
  {
   "cell_type": "code",
   "metadata": {
    "collapsed": false,
    "pycharm": {
     "name": "#%%\n"
    },
    "ExecuteTime": {
     "end_time": "2025-04-07T19:30:20.897694Z",
     "start_time": "2025-04-07T19:30:20.893167Z"
    }
   },
   "source": [
    "def build_vocab_counter(dataset):\n",
    "    \"\"\"\n",
    "    Builds a vocabulary from the dataset\n",
    "    Args:\n",
    "        dataset: a dataset\n",
    "\n",
    "    Returns: a vocabulary\n",
    "\n",
    "    \"\"\"\n",
    "    vocab = Counter()\n",
    "\n",
    "    ### YOUR CODE HERE\n",
    "\n",
    "    for tweet in dataset:\n",
    "        text = tweet['clean']\n",
    "        vocab.update(text.split())\n",
    "\n",
    "    ### YOUR CODE ENDS HERE\n",
    "    return vocab"
   ],
   "outputs": [],
   "execution_count": 173
  },
  {
   "cell_type": "code",
   "metadata": {
    "collapsed": false,
    "pycharm": {
     "name": "#%%\n"
    },
    "ExecuteTime": {
     "end_time": "2025-04-07T19:30:23.289365Z",
     "start_time": "2025-04-07T19:30:21.975143Z"
    }
   },
   "source": [
    "vocab_counter = build_vocab_counter(tweet_ds['train'])\n",
    "print('Size of the vocabulary:', len(vocab_counter))"
   ],
   "outputs": [
    {
     "name": "stdout",
     "output_type": "stream",
     "text": [
      "Size of the vocabulary: 54671\n"
     ]
    }
   ],
   "execution_count": 174
  },
  {
   "cell_type": "markdown",
   "metadata": {
    "collapsed": false,
    "pycharm": {
     "name": "#%% md\n"
    }
   },
   "source": [
    "Because we created a counter, we can easily check the most and least common words in the vocabulary. Do the most common words make sense? How about the least common ones?"
   ]
  },
  {
   "cell_type": "code",
   "metadata": {
    "collapsed": false,
    "pycharm": {
     "name": "#%%\n"
    },
    "ExecuteTime": {
     "end_time": "2025-04-07T19:30:26.792422Z",
     "start_time": "2025-04-07T19:30:26.765934Z"
    }
   },
   "source": [
    "print('Most common:')\n",
    "print(vocab_counter.most_common(10))\n",
    "print('Least common:')\n",
    "print(vocab_counter.most_common()[-10:])"
   ],
   "outputs": [
    {
     "name": "stdout",
     "output_type": "stream",
     "text": [
      "Most common:\n",
      "[('#', 56729), ('@', 36756), ('.', 22551), ('…', 19238), ('!', 16412), ('the', 13861), (',', 12383), ('user', 12236), ('️', 10782), ('i', 8516)]\n",
      "Least common:\n",
      "[('corban', 1), ('southbayla', 1), ('thedabberchick', 1), ('nector', 1), ('chefking1921express', 1), ('rolltide', 1), ('bffweekend', 1), ('nunez', 1), ('happylaborday', 1), ('five50', 1)]\n"
     ]
    }
   ],
   "execution_count": 175
  },
  {
   "cell_type": "markdown",
   "metadata": {
    "collapsed": false,
    "pycharm": {
     "name": "#%% md\n"
    }
   },
   "source": [
    "We can also plot the counts of the words. You can check the [Power law](https://en.wikipedia.org/wiki/Power_law) if you are more interested."
   ]
  },
  {
   "cell_type": "code",
   "metadata": {
    "collapsed": false,
    "pycharm": {
     "name": "#%%\n"
    },
    "ExecuteTime": {
     "end_time": "2025-04-07T19:30:31.681250Z",
     "start_time": "2025-04-07T19:30:31.324519Z"
    }
   },
   "source": [
    "import matplotlib.pyplot as plt\n",
    "\n",
    "plt.loglog([val for word, val in vocab_counter.most_common()])\n",
    "plt.xlabel('rank')\n",
    "plt.ylabel('count')"
   ],
   "outputs": [
    {
     "data": {
      "text/plain": [
       "Text(0, 0.5, 'count')"
      ]
     },
     "execution_count": 176,
     "metadata": {},
     "output_type": "execute_result"
    },
    {
     "data": {
      "text/plain": [
       "<Figure size 640x480 with 1 Axes>"
      ],
      "image/png": "[encoded data removed]"
     },
     "metadata": {},
     "output_type": "display_data"
    }
   ],
   "execution_count": 176
  },
  {
   "cell_type": "markdown",
   "metadata": {
    "collapsed": false,
    "pycharm": {
     "name": "#%% md\n"
    }
   },
   "source": [
    "The plot shows that the distribution of the words in the vocabulary follows the Zipf's law. The most frequent word occurs approximately twice as often as the second most frequent word, three times as often as the third most frequent word, etc.\n",
    "\n",
    "We can also filter the vocabulary by the frequency of the words. We will only consider the most frequent words and mark the rest as the `<unk>` token. Here we set the maximum vocabulary size to 10,000. But in the later steps, you will experiment with different sizes."
   ]
  },
  {
   "cell_type": "code",
   "metadata": {
    "collapsed": false,
    "pycharm": {
     "name": "#%%\n"
    },
    "ExecuteTime": {
     "end_time": "2025-04-07T19:30:37.775853Z",
     "start_time": "2025-04-07T19:30:37.740301Z"
    }
   },
   "source": [
    "max_vocab_size = 10000\n",
    "vocab = vocab_counter.most_common(max_vocab_size)\n",
    "# cast to list of words\n",
    "vocab = [word for word, _ in vocab]\n",
    "print(len(vocab))"
   ],
   "outputs": [
    {
     "name": "stdout",
     "output_type": "stream",
     "text": [
      "10000\n"
     ]
    }
   ],
   "execution_count": 177
  },
  {
   "metadata": {
    "collapsed": false,
    "pycharm": {
     "name": "#%% md\n"
    }
   },
   "cell_type": "markdown",
   "source": [
    "### Exercise 4: Frequency of pairs of words (bigrams)\n",
    "Calculate the frequency of (neighbouring) pairs of words in the training dataset.\n",
    "- (5p) List the most and least common pairs. Do the most common pairs make sense?\n",
    "\n",
    "    10 most common pairs: (('@', 'user'), 12236), (('.', '.'), 6603), (('!', '!'), 4401), ((',', 'california'), 3343), (('️', '@'), 3287), (('.', '#'), 2784), (('!', '#'), 2623), (('user', '@'), 2443), ((\"'\", 's'), 2424), (('️', '️'), 2359)\n",
    "\n",
    "    10 least common pairs: (('through', 'venice'), 1), (('some', 'bbq'), 1), (('and', 'whiskey'), 1), (('whiskey', 'libations'), 1), (('libations', '.'), 1), (('.', 'chomp'), 1), (('chomp', ','), 1), ((',', 'belch'), 1), (('belch', ','), 1), ((',', 'chomp'), 1)\n",
    "\n",
    "- (2p) How many pairs occur only once in the dataset? 187683\n",
    "- (5p) Plot the distribution of the pair frequencies."
   ]
  },
  {
   "metadata": {
    "ExecuteTime": {
     "end_time": "2025-04-07T19:45:41.723212Z",
     "start_time": "2025-04-07T19:45:40.042716Z"
    }
   },
   "cell_type": "code",
   "source": [
    "def pairs(data):\n",
    "    pair_counts = Counter()\n",
    "\n",
    "    for tweet in data:\n",
    "        text = tweet['clean']\n",
    "        tokens = text.split()\n",
    "\n",
    "        for i in range(len(tokens) - 1):\n",
    "            pair = (tokens[i], tokens[i + 1])\n",
    "            pair_counts[pair] += 1\n",
    "\n",
    "    return pair_counts\n",
    "\n",
    "def least_common(counter, n=10):\n",
    "    return sorted(counter.items(), key=lambda x: x[1])[:n]\n",
    "\n",
    "bigram = pairs(tweet_ds['train'])\n",
    "print(bigram.most_common(10))\n",
    "print(least_common(bigram))"
   ],
   "outputs": [
    {
     "name": "stdout",
     "output_type": "stream",
     "text": [
      "[(('@', 'user'), 12236), (('.', '.'), 6603), (('!', '!'), 4401), ((',', 'california'), 3343), (('️', '@'), 3287), (('.', '#'), 2784), (('!', '#'), 2623), (('user', '@'), 2443), ((\"'\", 's'), 2424), (('️', '️'), 2359)]\n",
      "[(('through', 'venice'), 1), (('some', 'bbq'), 1), (('and', 'whiskey'), 1), (('whiskey', 'libations'), 1), (('libations', '.'), 1), (('.', 'chomp'), 1), (('chomp', ','), 1), ((',', 'belch'), 1), (('belch', ','), 1), ((',', 'chomp'), 1)]\n"
     ]
    }
   ],
   "execution_count": 179
  },
  {
   "metadata": {
    "ExecuteTime": {
     "end_time": "2025-04-07T19:50:38.277700Z",
     "start_time": "2025-04-07T19:50:38.209368Z"
    }
   },
   "cell_type": "code",
   "source": [
    "def rare_pairs(counter):\n",
    "    return [pair for pair, count in counter.items() if count == 1]\n",
    "\n",
    "print(len(rare_pairs(bigram)))"
   ],
   "outputs": [
    {
     "name": "stdout",
     "output_type": "stream",
     "text": [
      "187683\n"
     ]
    }
   ],
   "execution_count": 181
  },
  {
   "metadata": {
    "ExecuteTime": {
     "end_time": "2025-04-07T20:12:42.977620Z",
     "start_time": "2025-04-07T20:12:42.563690Z"
    }
   },
   "cell_type": "code",
   "source": [
    "sorted_counts = sorted(bigram.items(), key=lambda x: x[1], reverse=True)\n",
    "bigram_df = pd.DataFrame(sorted_counts, columns=['pair', 'count'])\n",
    "\n",
    "bigram2_df = bigram_df[bigram_df['count'] > 10].copy() # to get rid of the long tail so that the distribution becomes more clear\n",
    "bigram2_df['rank'] = range(1, len(bigram2_df) + 1)\n",
    "\n",
    "bigram2_df.plot(x='rank', y='count', kind='line', figsize=(12, 6), logy=True)\n",
    "plt.title(\"Filtered Bigram Frequency Distribution (log scale)\")\n",
    "plt.xlabel(\"Rank\")\n",
    "plt.ylabel(\"Log Frequency\")\n",
    "plt.tight_layout()\n",
    "plt.show()\n"
   ],
   "outputs": [
    {
     "data": {
      "text/plain": [
       "<Figure size 1200x600 with 1 Axes>"
      ],
      "image/png": "[encoded data removed]"
     },
     "metadata": {},
     "output_type": "display_data"
    }
   ],
   "execution_count": 191
  },
  {
   "cell_type": "markdown",
   "metadata": {
    "collapsed": false,
    "pycharm": {
     "name": "#%% md\n"
    }
   },
   "source": [
    "### 2.3 Tokenize the dataset\n",
    "The function below tokenizes the cleaned text (```example['clean']```) by splitting it on spaces. It replaces the words that are not in the vocabulary with the `<unk>` token."
   ]
  },
  {
   "cell_type": "markdown",
   "metadata": {
    "collapsed": false,
    "pycharm": {
     "name": "#%% md\n"
    }
   },
   "source": [
    "### Exercise 5: Tokenize the dataset\n",
    "\n",
    "(5p) Fill in the function below to tokenize the dataset. The function will be applied to the dataset through the `map()` method, so it returns the updated example. Your task is to split the text by spaces and replace the words that are not in the vocabulary with the `<unk>` token."
   ]
  },
  {
   "cell_type": "code",
   "metadata": {
    "collapsed": false,
    "pycharm": {
     "name": "#%%\n"
    },
    "ExecuteTime": {
     "end_time": "2025-04-10T14:27:13.909754Z",
     "start_time": "2025-04-10T14:27:13.866393Z"
    }
   },
   "source": [
    "def tokenize(example, vocab, unknown_token='<unk>'):\n",
    "    \"\"\"\n",
    "    Tokenizes the example from the Dataset\n",
    "    Args:\n",
    "        example: an example from the Dataset\n",
    "        vocab: a vocabulary as a list of words\n",
    "        unknown_token: a token to replace the words that are not in the vocabulary\n",
    "    Returns: update example containing 'tokens' column\n",
    "\n",
    "    \"\"\"\n",
    "    text = example['clean']\n",
    "    tokens = None # list of tokens, your code should fill this variable\n",
    "\n",
    "    ### YOUR CODE HERE\n",
    "\n",
    "    tokens = []\n",
    "\n",
    "    for token in text.split():\n",
    "        if token in vocab:\n",
    "            tokens.append(token)\n",
    "        else:\n",
    "            tokens.append(unknown_token)\n",
    "\n",
    "    ### YOUR CODE ENDS HERE\n",
    "\n",
    "    example['tokens'] = tokens\n",
    "    return example"
   ],
   "outputs": [],
   "execution_count": 247
  },
  {
   "cell_type": "code",
   "metadata": {
    "collapsed": false,
    "pycharm": {
     "name": "#%%\n"
    },
    "ExecuteTime": {
     "end_time": "2025-04-10T14:27:17.129841Z",
     "start_time": "2025-04-10T14:27:16.235167Z"
    }
   },
   "source": [
    "tweet_ds = tweet_ds.map(tokenize, fn_kwargs={'vocab': vocab})\n",
    "print(tweet_ds)"
   ],
   "outputs": [
    {
     "name": "stderr",
     "output_type": "stream",
     "text": [
      "Map:   0%|          | 0/45000 [00:00<?, ? examples/s]\n"
     ]
    },
    {
     "ename": "AttributeError",
     "evalue": "'NoneType' object has no attribute 'append'",
     "output_type": "error",
     "traceback": [
      "\u001B[31m---------------------------------------------------------------------------\u001B[39m",
      "\u001B[31mAttributeError\u001B[39m                            Traceback (most recent call last)",
      "\u001B[36mCell\u001B[39m\u001B[36m \u001B[39m\u001B[32mIn[248]\u001B[39m\u001B[32m, line 1\u001B[39m\n\u001B[32m----> \u001B[39m\u001B[32m1\u001B[39m tweet_ds = \u001B[43mtweet_ds\u001B[49m\u001B[43m.\u001B[49m\u001B[43mmap\u001B[49m\u001B[43m(\u001B[49m\u001B[43mtokenize\u001B[49m\u001B[43m,\u001B[49m\u001B[43m \u001B[49m\u001B[43mfn_kwargs\u001B[49m\u001B[43m=\u001B[49m\u001B[43m{\u001B[49m\u001B[33;43m'\u001B[39;49m\u001B[33;43mvocab\u001B[39;49m\u001B[33;43m'\u001B[39;49m\u001B[43m:\u001B[49m\u001B[43m \u001B[49m\u001B[43mvocab\u001B[49m\u001B[43m}\u001B[49m\u001B[43m)\u001B[49m\n\u001B[32m      2\u001B[39m \u001B[38;5;28mprint\u001B[39m(tweet_ds)\n",
      "\u001B[36mFile \u001B[39m\u001B[32m~/PycharmProjects/NLP_Labs/.venv/lib/python3.12/site-packages/datasets/dataset_dict.py:887\u001B[39m, in \u001B[36mDatasetDict.map\u001B[39m\u001B[34m(self, function, with_indices, with_rank, input_columns, batched, batch_size, drop_last_batch, remove_columns, keep_in_memory, load_from_cache_file, cache_file_names, writer_batch_size, features, disable_nullable, fn_kwargs, num_proc, desc)\u001B[39m\n\u001B[32m    883\u001B[39m \u001B[38;5;28;01mif\u001B[39;00m cache_file_names \u001B[38;5;129;01mis\u001B[39;00m \u001B[38;5;28;01mNone\u001B[39;00m:\n\u001B[32m    884\u001B[39m     cache_file_names = {k: \u001B[38;5;28;01mNone\u001B[39;00m \u001B[38;5;28;01mfor\u001B[39;00m k \u001B[38;5;129;01min\u001B[39;00m \u001B[38;5;28mself\u001B[39m}\n\u001B[32m    885\u001B[39m \u001B[38;5;28;01mreturn\u001B[39;00m DatasetDict(\n\u001B[32m    886\u001B[39m     {\n\u001B[32m--> \u001B[39m\u001B[32m887\u001B[39m         k: \u001B[43mdataset\u001B[49m\u001B[43m.\u001B[49m\u001B[43mmap\u001B[49m\u001B[43m(\u001B[49m\n\u001B[32m    888\u001B[39m \u001B[43m            \u001B[49m\u001B[43mfunction\u001B[49m\u001B[43m=\u001B[49m\u001B[43mfunction\u001B[49m\u001B[43m,\u001B[49m\n\u001B[32m    889\u001B[39m \u001B[43m            \u001B[49m\u001B[43mwith_indices\u001B[49m\u001B[43m=\u001B[49m\u001B[43mwith_indices\u001B[49m\u001B[43m,\u001B[49m\n\u001B[32m    890\u001B[39m \u001B[43m            \u001B[49m\u001B[43mwith_rank\u001B[49m\u001B[43m=\u001B[49m\u001B[43mwith_rank\u001B[49m\u001B[43m,\u001B[49m\n\u001B[32m    891\u001B[39m \u001B[43m            \u001B[49m\u001B[43minput_columns\u001B[49m\u001B[43m=\u001B[49m\u001B[43minput_columns\u001B[49m\u001B[43m,\u001B[49m\n\u001B[32m    892\u001B[39m \u001B[43m            \u001B[49m\u001B[43mbatched\u001B[49m\u001B[43m=\u001B[49m\u001B[43mbatched\u001B[49m\u001B[43m,\u001B[49m\n\u001B[32m    893\u001B[39m \u001B[43m            \u001B[49m\u001B[43mbatch_size\u001B[49m\u001B[43m=\u001B[49m\u001B[43mbatch_size\u001B[49m\u001B[43m,\u001B[49m\n\u001B[32m    894\u001B[39m \u001B[43m            \u001B[49m\u001B[43mdrop_last_batch\u001B[49m\u001B[43m=\u001B[49m\u001B[43mdrop_last_batch\u001B[49m\u001B[43m,\u001B[49m\n\u001B[32m    895\u001B[39m \u001B[43m            \u001B[49m\u001B[43mremove_columns\u001B[49m\u001B[43m=\u001B[49m\u001B[43mremove_columns\u001B[49m\u001B[43m,\u001B[49m\n\u001B[32m    896\u001B[39m \u001B[43m            \u001B[49m\u001B[43mkeep_in_memory\u001B[49m\u001B[43m=\u001B[49m\u001B[43mkeep_in_memory\u001B[49m\u001B[43m,\u001B[49m\n\u001B[32m    897\u001B[39m \u001B[43m            \u001B[49m\u001B[43mload_from_cache_file\u001B[49m\u001B[43m=\u001B[49m\u001B[43mload_from_cache_file\u001B[49m\u001B[43m,\u001B[49m\n\u001B[32m    898\u001B[39m \u001B[43m            \u001B[49m\u001B[43mcache_file_name\u001B[49m\u001B[43m=\u001B[49m\u001B[43mcache_file_names\u001B[49m\u001B[43m[\u001B[49m\u001B[43mk\u001B[49m\u001B[43m]\u001B[49m\u001B[43m,\u001B[49m\n\u001B[32m    899\u001B[39m \u001B[43m            \u001B[49m\u001B[43mwriter_batch_size\u001B[49m\u001B[43m=\u001B[49m\u001B[43mwriter_batch_size\u001B[49m\u001B[43m,\u001B[49m\n\u001B[32m    900\u001B[39m \u001B[43m            \u001B[49m\u001B[43mfeatures\u001B[49m\u001B[43m=\u001B[49m\u001B[43mfeatures\u001B[49m\u001B[43m,\u001B[49m\n\u001B[32m    901\u001B[39m \u001B[43m            \u001B[49m\u001B[43mdisable_nullable\u001B[49m\u001B[43m=\u001B[49m\u001B[43mdisable_nullable\u001B[49m\u001B[43m,\u001B[49m\n\u001B[32m    902\u001B[39m \u001B[43m            \u001B[49m\u001B[43mfn_kwargs\u001B[49m\u001B[43m=\u001B[49m\u001B[43mfn_kwargs\u001B[49m\u001B[43m,\u001B[49m\n\u001B[32m    903\u001B[39m \u001B[43m            \u001B[49m\u001B[43mnum_proc\u001B[49m\u001B[43m=\u001B[49m\u001B[43mnum_proc\u001B[49m\u001B[43m,\u001B[49m\n\u001B[32m    904\u001B[39m \u001B[43m            \u001B[49m\u001B[43mdesc\u001B[49m\u001B[43m=\u001B[49m\u001B[43mdesc\u001B[49m\u001B[43m,\u001B[49m\n\u001B[32m    905\u001B[39m \u001B[43m        \u001B[49m\u001B[43m)\u001B[49m\n\u001B[32m    906\u001B[39m         \u001B[38;5;28;01mfor\u001B[39;00m k, dataset \u001B[38;5;129;01min\u001B[39;00m \u001B[38;5;28mself\u001B[39m.items()\n\u001B[32m    907\u001B[39m     }\n\u001B[32m    908\u001B[39m )\n",
      "\u001B[36mFile \u001B[39m\u001B[32m~/PycharmProjects/NLP_Labs/.venv/lib/python3.12/site-packages/datasets/arrow_dataset.py:560\u001B[39m, in \u001B[36mtransmit_format.<locals>.wrapper\u001B[39m\u001B[34m(*args, **kwargs)\u001B[39m\n\u001B[32m    553\u001B[39m self_format = {\n\u001B[32m    554\u001B[39m     \u001B[33m\"\u001B[39m\u001B[33mtype\u001B[39m\u001B[33m\"\u001B[39m: \u001B[38;5;28mself\u001B[39m._format_type,\n\u001B[32m    555\u001B[39m     \u001B[33m\"\u001B[39m\u001B[33mformat_kwargs\u001B[39m\u001B[33m\"\u001B[39m: \u001B[38;5;28mself\u001B[39m._format_kwargs,\n\u001B[32m    556\u001B[39m     \u001B[33m\"\u001B[39m\u001B[33mcolumns\u001B[39m\u001B[33m\"\u001B[39m: \u001B[38;5;28mself\u001B[39m._format_columns,\n\u001B[32m    557\u001B[39m     \u001B[33m\"\u001B[39m\u001B[33moutput_all_columns\u001B[39m\u001B[33m\"\u001B[39m: \u001B[38;5;28mself\u001B[39m._output_all_columns,\n\u001B[32m    558\u001B[39m }\n\u001B[32m    559\u001B[39m \u001B[38;5;66;03m# apply actual function\u001B[39;00m\n\u001B[32m--> \u001B[39m\u001B[32m560\u001B[39m out: Union[\u001B[33m\"\u001B[39m\u001B[33mDataset\u001B[39m\u001B[33m\"\u001B[39m, \u001B[33m\"\u001B[39m\u001B[33mDatasetDict\u001B[39m\u001B[33m\"\u001B[39m] = \u001B[43mfunc\u001B[49m\u001B[43m(\u001B[49m\u001B[38;5;28;43mself\u001B[39;49m\u001B[43m,\u001B[49m\u001B[43m \u001B[49m\u001B[43m*\u001B[49m\u001B[43margs\u001B[49m\u001B[43m,\u001B[49m\u001B[43m \u001B[49m\u001B[43m*\u001B[49m\u001B[43m*\u001B[49m\u001B[43mkwargs\u001B[49m\u001B[43m)\u001B[49m\n\u001B[32m    561\u001B[39m datasets: List[\u001B[33m\"\u001B[39m\u001B[33mDataset\u001B[39m\u001B[33m\"\u001B[39m] = \u001B[38;5;28mlist\u001B[39m(out.values()) \u001B[38;5;28;01mif\u001B[39;00m \u001B[38;5;28misinstance\u001B[39m(out, \u001B[38;5;28mdict\u001B[39m) \u001B[38;5;28;01melse\u001B[39;00m [out]\n\u001B[32m    562\u001B[39m \u001B[38;5;66;03m# re-apply format to the output\u001B[39;00m\n",
      "\u001B[36mFile \u001B[39m\u001B[32m~/PycharmProjects/NLP_Labs/.venv/lib/python3.12/site-packages/datasets/arrow_dataset.py:3073\u001B[39m, in \u001B[36mDataset.map\u001B[39m\u001B[34m(self, function, with_indices, with_rank, input_columns, batched, batch_size, drop_last_batch, remove_columns, keep_in_memory, load_from_cache_file, cache_file_name, writer_batch_size, features, disable_nullable, fn_kwargs, num_proc, suffix_template, new_fingerprint, desc)\u001B[39m\n\u001B[32m   3067\u001B[39m \u001B[38;5;28;01mif\u001B[39;00m transformed_dataset \u001B[38;5;129;01mis\u001B[39;00m \u001B[38;5;28;01mNone\u001B[39;00m:\n\u001B[32m   3068\u001B[39m     \u001B[38;5;28;01mwith\u001B[39;00m hf_tqdm(\n\u001B[32m   3069\u001B[39m         unit=\u001B[33m\"\u001B[39m\u001B[33m examples\u001B[39m\u001B[33m\"\u001B[39m,\n\u001B[32m   3070\u001B[39m         total=pbar_total,\n\u001B[32m   3071\u001B[39m         desc=desc \u001B[38;5;129;01mor\u001B[39;00m \u001B[33m\"\u001B[39m\u001B[33mMap\u001B[39m\u001B[33m\"\u001B[39m,\n\u001B[32m   3072\u001B[39m     ) \u001B[38;5;28;01mas\u001B[39;00m pbar:\n\u001B[32m-> \u001B[39m\u001B[32m3073\u001B[39m \u001B[43m        \u001B[49m\u001B[38;5;28;43;01mfor\u001B[39;49;00m\u001B[43m \u001B[49m\u001B[43mrank\u001B[49m\u001B[43m,\u001B[49m\u001B[43m \u001B[49m\u001B[43mdone\u001B[49m\u001B[43m,\u001B[49m\u001B[43m \u001B[49m\u001B[43mcontent\u001B[49m\u001B[43m \u001B[49m\u001B[38;5;129;43;01min\u001B[39;49;00m\u001B[43m \u001B[49m\u001B[43mDataset\u001B[49m\u001B[43m.\u001B[49m\u001B[43m_map_single\u001B[49m\u001B[43m(\u001B[49m\u001B[43m*\u001B[49m\u001B[43m*\u001B[49m\u001B[43mdataset_kwargs\u001B[49m\u001B[43m)\u001B[49m\u001B[43m:\u001B[49m\n\u001B[32m   3074\u001B[39m \u001B[43m            \u001B[49m\u001B[38;5;28;43;01mif\u001B[39;49;00m\u001B[43m \u001B[49m\u001B[43mdone\u001B[49m\u001B[43m:\u001B[49m\n\u001B[32m   3075\u001B[39m \u001B[43m                \u001B[49m\u001B[43mshards_done\u001B[49m\u001B[43m \u001B[49m\u001B[43m+\u001B[49m\u001B[43m=\u001B[49m\u001B[43m \u001B[49m\u001B[32;43m1\u001B[39;49m\n",
      "\u001B[36mFile \u001B[39m\u001B[32m~/PycharmProjects/NLP_Labs/.venv/lib/python3.12/site-packages/datasets/arrow_dataset.py:3446\u001B[39m, in \u001B[36mDataset._map_single\u001B[39m\u001B[34m(shard, function, with_indices, with_rank, input_columns, batched, batch_size, drop_last_batch, remove_columns, keep_in_memory, cache_file_name, writer_batch_size, features, disable_nullable, fn_kwargs, new_fingerprint, rank, offset)\u001B[39m\n\u001B[32m   3444\u001B[39m _time = time.time()\n\u001B[32m   3445\u001B[39m \u001B[38;5;28;01mfor\u001B[39;00m i, example \u001B[38;5;129;01min\u001B[39;00m shard_iterable:\n\u001B[32m-> \u001B[39m\u001B[32m3446\u001B[39m     example = \u001B[43mapply_function_on_filtered_inputs\u001B[49m\u001B[43m(\u001B[49m\u001B[43mexample\u001B[49m\u001B[43m,\u001B[49m\u001B[43m \u001B[49m\u001B[43mi\u001B[49m\u001B[43m,\u001B[49m\u001B[43m \u001B[49m\u001B[43moffset\u001B[49m\u001B[43m=\u001B[49m\u001B[43moffset\u001B[49m\u001B[43m)\u001B[49m\n\u001B[32m   3447\u001B[39m     \u001B[38;5;28;01mif\u001B[39;00m update_data:\n\u001B[32m   3448\u001B[39m         \u001B[38;5;28;01mif\u001B[39;00m i == \u001B[32m0\u001B[39m:\n",
      "\u001B[36mFile \u001B[39m\u001B[32m~/PycharmProjects/NLP_Labs/.venv/lib/python3.12/site-packages/datasets/arrow_dataset.py:3338\u001B[39m, in \u001B[36mDataset._map_single.<locals>.apply_function_on_filtered_inputs\u001B[39m\u001B[34m(pa_inputs, indices, check_same_num_examples, offset)\u001B[39m\n\u001B[32m   3336\u001B[39m \u001B[38;5;28;01mif\u001B[39;00m with_rank:\n\u001B[32m   3337\u001B[39m     additional_args += (rank,)\n\u001B[32m-> \u001B[39m\u001B[32m3338\u001B[39m processed_inputs = \u001B[43mfunction\u001B[49m\u001B[43m(\u001B[49m\u001B[43m*\u001B[49m\u001B[43mfn_args\u001B[49m\u001B[43m,\u001B[49m\u001B[43m \u001B[49m\u001B[43m*\u001B[49m\u001B[43madditional_args\u001B[49m\u001B[43m,\u001B[49m\u001B[43m \u001B[49m\u001B[43m*\u001B[49m\u001B[43m*\u001B[49m\u001B[43mfn_kwargs\u001B[49m\u001B[43m)\u001B[49m\n\u001B[32m   3339\u001B[39m \u001B[38;5;28;01mif\u001B[39;00m \u001B[38;5;28misinstance\u001B[39m(processed_inputs, LazyDict):\n\u001B[32m   3340\u001B[39m     processed_inputs = {\n\u001B[32m   3341\u001B[39m         k: v \u001B[38;5;28;01mfor\u001B[39;00m k, v \u001B[38;5;129;01min\u001B[39;00m processed_inputs.data.items() \u001B[38;5;28;01mif\u001B[39;00m k \u001B[38;5;129;01mnot\u001B[39;00m \u001B[38;5;129;01min\u001B[39;00m processed_inputs.keys_to_format\n\u001B[32m   3342\u001B[39m     }\n",
      "\u001B[36mCell\u001B[39m\u001B[36m \u001B[39m\u001B[32mIn[247]\u001B[39m\u001B[32m, line 18\u001B[39m, in \u001B[36mtokenize\u001B[39m\u001B[34m(example, vocab, unknown_token)\u001B[39m\n\u001B[32m     16\u001B[39m \u001B[38;5;28;01mfor\u001B[39;00m token \u001B[38;5;129;01min\u001B[39;00m text.split():\n\u001B[32m     17\u001B[39m     \u001B[38;5;28;01mif\u001B[39;00m token \u001B[38;5;129;01min\u001B[39;00m vocab:\n\u001B[32m---> \u001B[39m\u001B[32m18\u001B[39m         \u001B[43mtokens\u001B[49m\u001B[43m.\u001B[49m\u001B[43mappend\u001B[49m(token)\n\u001B[32m     19\u001B[39m     \u001B[38;5;28;01melse\u001B[39;00m:\n\u001B[32m     20\u001B[39m         tokens.append(unknown_token)\n",
      "\u001B[31mAttributeError\u001B[39m: 'NoneType' object has no attribute 'append'"
     ]
    }
   ],
   "execution_count": 248
  },
  {
   "cell_type": "markdown",
   "metadata": {
    "collapsed": false,
    "pycharm": {
     "name": "#%% md\n"
    }
   },
   "source": [
    "Let us examine several entries from the dataset. We can see that the `tokens` column has been added to each example."
   ]
  },
  {
   "cell_type": "code",
   "metadata": {
    "collapsed": false,
    "pycharm": {
     "name": "#%%\n"
    },
    "ExecuteTime": {
     "end_time": "2025-04-07T20:22:11.160282Z",
     "start_time": "2025-04-07T20:22:11.149082Z"
    }
   },
   "source": [
    "for i in range(10):\n",
    "    print('Original tweet:')\n",
    "    print(tweet_ds['train'][i]['text'])\n",
    "    print('Tokenized tweet:')\n",
    "    print(tweet_ds['train'][i]['tokens'])"
   ],
   "outputs": [
    {
     "name": "stdout",
     "output_type": "stream",
     "text": [
      "Original tweet:\n",
      "Sunday afternoon walking through Venice in the sun with @user ️ ️ ️ @ Abbot Kinney, Venice\n",
      "Tokenized tweet:\n",
      "['sunday', 'afternoon', 'walking', 'through', 'venice', 'in', 'the', 'sun', 'with', '@', 'user', '️', '️', '️', '@', 'abbot', 'kinney', ',', 'venice']\n",
      "Original tweet:\n",
      "Time for some BBQ and whiskey libations. Chomp, belch, chomp! (@ Lucille's Smokehouse Bar-B-Que)\n",
      "Tokenized tweet:\n",
      "['time', 'for', 'some', 'bbq', 'and', 'whiskey', 'libations', '.', '<unk>', ',', '<unk>', ',', '<unk>', '!', '(', '@', 'lucille', \"'\", 's', 'smokehouse', 'barbque', ')']\n",
      "Original tweet:\n",
      "Love love love all these people ️ ️ ️ #friends #bff #celebrate #blessed #sundayfunday @ San…\n",
      "Tokenized tweet:\n",
      "['love', 'love', 'love', 'all', 'these', 'people', '️', '️', '️', '#', 'friends', '#', 'bff', '#', 'celebrate', '#', 'blessed', '#', 'sundayfunday', '@', 'san', '…']\n",
      "Original tweet:\n",
      "️ ️ ️ ️ @ Toys\"R\"Us\n",
      "Tokenized tweet:\n",
      "['️', '️', '️', '️', '@', 'toys', '\"', 'r', '\"', 'us']\n",
      "Original tweet:\n",
      "Man these are the funniest kids ever!! That face! #HappyBirthdayBubb @ FLIPnOUT Xtreme\n",
      "Tokenized tweet:\n",
      "['man', 'these', 'are', 'the', 'funniest', 'kids', 'ever', '!', '!', 'that', 'face', '!', '#', '<unk>', '@', '<unk>', '<unk>']\n",
      "Original tweet:\n",
      "#sandiego @ San Diego, California\n",
      "Tokenized tweet:\n",
      "['#', 'sandiego', '@', 'san', 'diego', ',', 'california']\n",
      "Original tweet:\n",
      "My little ️ ️ ️ ️ ️ #ObsessedWithMyDog @ Cafe Solstice Capitol Hill\n",
      "Tokenized tweet:\n",
      "['my', 'little', '️', '️', '️', '️', '️', '#', '<unk>', '@', 'cafe', 'solstice', 'capitol', 'hill']\n",
      "Original tweet:\n",
      "More #tinyepic things #tinyepicwestern, this one is crazy @user I may be one of your…\n",
      "Tokenized tweet:\n",
      "['more', '#', '<unk>', 'things', '#', '<unk>', ',', 'this', 'one', 'is', 'crazy', '@', 'user', 'i', 'may', 'be', 'one', 'of', 'your', '…']\n",
      "Original tweet:\n",
      "Last night ️ @ Omnia Night Club At Caesars Palace\n",
      "Tokenized tweet:\n",
      "['last', 'night', '️', '@', 'omnia', 'night', 'club', 'at', 'caesars', 'palace']\n",
      "Original tweet:\n",
      "friendship at its finest. ....#pixar #toystory #buzz #woody #friends #friendship #bff…\n",
      "Tokenized tweet:\n",
      "['friendship', 'at', 'its', 'finest', '.', '.', '.', '.', '#', '<unk>', '#', '<unk>', '#', 'buzz', '#', 'woody', '#', 'friends', '#', 'friendship', '#', 'bff', '…']\n"
     ]
    }
   ],
   "execution_count": 194
  },
  {
   "cell_type": "markdown",
   "metadata": {
    "collapsed": false,
    "pycharm": {
     "name": "#%% md\n"
    }
   },
   "source": [
    "Make sure that the tokenization works as you intended. If not, revisit the cleaning and tokenization functions."
   ]
  },
  {
   "cell_type": "markdown",
   "metadata": {
    "collapsed": false,
    "pycharm": {
     "name": "#%% md\n"
    }
   },
   "source": [
    "### Exercise 6: Questions about the tokenization\n",
    "1. (3p) How many unknown tokens are in the validation dataset after tokenization? 7595\n",
    "2. (3p) What is the distribution of the number of tokens in the training dataset?\n",
    "    mMst tweets are composed of around 10 to 20 token, with tweets of less than 5 tokens and more than  30 being rarer\n",
    "\n",
    "3. (4p) How the number of tokens corresponds to the number of characters in our dataset?\n",
    "    Total tokens:  701944, and\n",
    "    total chars:  3195761.\n",
    "    There are ≈4.55 times more characters than tokens, so roughly 4-5 characters per token if we look purely at the numbers.\n",
    "4. (4p) How the size of the vocabulary (```max_vocab_size```) affects the number of unknown tokens?\n",
    "    As expected the larger the max_vocab_size the fewer the unknown tokens, conversly the smaller it is the greater the number of unk tokens, this is clearly represented in the graph below\n",
    "5. (4p) How does the size of the vocabulary affect the number of tokens in the dataset?\n",
    "    Regardless of vocab size the total number of tokens doesn't change, just the number of unk tokens changes and obviously the number of unique tokens.\n",
    "6. (4p) Think about the advantages and disadvantages of the tokenization method we used. What are the cases when it will not work well?\n",
    "    Advantages:\n",
    "   A. easy and efficient to implement\n",
    "   B. the tokens are easy to understand and interpret as they resemble natural language\n",
    "    Disadvantages:\n",
    "   A. doesn't treat words with the same subword (stem) as a unit thereby introducing more tokens than necessary, ie. walking and walked.\n",
    "   B. doesn't lend itself well to texts with a lot of irregularities in expression, ie. informal language, abbreviations, slang, emojis, weird punctuation etc.\n",
    "   C. doesn't handle misspellings, or different spellings of the same word well, and will treat those as different tokens\n",
    "\n",
    "The tokenizer will work well for texts written in standard, grammatically correct language, where spelling, punctuation, and word choice are consistent. It performs best when the variety of word types is small and language use is relatively formal or controlled.\n",
    "Whilst for texts with many means of expression, be it through; emoji's, punctuation, slang, or any unconventional or creative use of spelling/writing will render this tokeniser ineffective, as this will result in a sparse vocabulary, and generally many unk tokens, losing in generality and nuance.\n",
    "\n",
    "\n",
    "For answering these questions make sure to include a proper mix of numbers/plots/tables etc. and comments."
   ]
  },
  {
   "metadata": {
    "ExecuteTime": {
     "end_time": "2025-04-07T20:40:11.420063Z",
     "start_time": "2025-04-07T20:40:11.215525Z"
    }
   },
   "cell_type": "code",
   "source": [
    "count = 0\n",
    "for tweet in tweet_ds['validation']:\n",
    "    text = tweet['tokens']\n",
    "    for token in text:\n",
    "        if token == '<unk>':\n",
    "            count += 1\n",
    "\n",
    "print(count)"
   ],
   "outputs": [
    {
     "name": "stdout",
     "output_type": "stream",
     "text": [
      "7595\n"
     ]
    }
   ],
   "execution_count": 197
  },
  {
   "metadata": {
    "ExecuteTime": {
     "end_time": "2025-04-07T20:46:23.137428Z",
     "start_time": "2025-04-07T20:46:21.386305Z"
    }
   },
   "cell_type": "code",
   "source": [
    "\n",
    "tokens_per_tweet = [len(tweet['tokens']) for tweet in tweet_ds['train']]\n",
    "\n",
    "plt.hist(tokens_per_tweet, bins=15)\n",
    "plt.title(\"Distribution of Token Counts per Tweet\")\n",
    "plt.xlabel(\"Number of Tokens\")\n",
    "plt.ylabel(\"Number of Tweets\")\n",
    "plt.tight_layout()\n",
    "plt.show()\n"
   ],
   "outputs": [
    {
     "data": {
      "text/plain": [
       "<Figure size 640x480 with 1 Axes>"
      ],
      "image/png": "[encoded data removed]"
     },
     "metadata": {},
     "output_type": "display_data"
    }
   ],
   "execution_count": 203
  },
  {
   "metadata": {
    "ExecuteTime": {
     "end_time": "2025-04-07T21:14:15.975736Z",
     "start_time": "2025-04-07T21:14:10.091633Z"
    }
   },
   "cell_type": "code",
   "source": [
    "from statistics import mean\n",
    "\n",
    "total_tokens = 0\n",
    "for tweet in tweet_ds['train']:\n",
    "    total_tokens += len(tweet['tokens'])\n",
    "\n",
    "total_characters = 0\n",
    "for tweet in tweet_ds['train']:\n",
    "    total_characters += len(tweet['text'])\n",
    "\n",
    "print('total tokens: ', total_tokens)\n",
    "print('total chars: ', total_characters)\n",
    "print('av ', total_characters/total_tokens)\n",
    "\n",
    "mean_token_length_per_tweet = [mean([len(token) for token in tweet['tokens']]) for tweet in tweet_ds['train']]\n",
    "plt.hist(mean_token_length_per_tweet, bins=20)\n",
    "plt.title(\"Distribution of Token Length\")\n",
    "plt.xlabel(\"Frequency\")\n",
    "plt.ylabel(\"Token Length\")\n",
    "plt.tight_layout()\n",
    "plt.show()\n"
   ],
   "outputs": [
    {
     "name": "stdout",
     "output_type": "stream",
     "text": [
      "total tokens:  701944\n",
      "total chars:  3195761\n",
      "av  4.552729277549206\n"
     ]
    },
    {
     "data": {
      "text/plain": [
       "<Figure size 640x480 with 1 Axes>"
      ],
      "image/png": "[encoded data removed]"
     },
     "metadata": {},
     "output_type": "display_data"
    }
   ],
   "execution_count": 211
  },
  {
   "metadata": {
    "ExecuteTime": {
     "end_time": "2025-04-07T21:34:48.773695Z",
     "start_time": "2025-04-07T21:33:59.432622Z"
    }
   },
   "cell_type": "code",
   "source": [
    "results = []\n",
    "\n",
    "max_vocab_sizes = [100, 500, 1000, 2000, 5000, 10000, 20000, 50000]\n",
    "\n",
    "for max_vocab_size in max_vocab_sizes:\n",
    "    vocab = vocab_counter.most_common(max_vocab_size)\n",
    "    vocab = [word for word, _ in vocab]\n",
    "\n",
    "    unknown_count = 0\n",
    "    total_count = 0\n",
    "\n",
    "    for tweet in tweet_ds['train']:\n",
    "        text = tweet['clean']\n",
    "        total_count += len(text)\n",
    "        for token in text.split():\n",
    "            if token not in vocab:\n",
    "                unknown_count += 1\n",
    "\n",
    "    results.append({\n",
    "        'vocab_size': max_vocab_size,\n",
    "        'unknown_tokens': unknown_count,\n",
    "        'total_tokens': total_count,\n",
    "        'percentage_unknown': round(unknown_count / total_count * 100, 2)\n",
    "    })\n",
    "\n",
    "df_unknowns = pd.DataFrame(results)\n",
    "\n",
    "# probably a log plot may be more appropriate but I thought that this illustrates the relationship more intuitively\n",
    "df_unknowns.plot(x='vocab_size', y='unknown_tokens', kind='line', marker='o', figsize=(10, 5))\n",
    "plt.title(\"Effect of Vocab Size on Number of Unknown Tokens\")\n",
    "plt.xlabel(\"Max Vocabulary Size\")\n",
    "plt.ylabel(\"Unknown Tokens\")\n",
    "plt.grid(True)\n",
    "plt.show()\n"
   ],
   "outputs": [
    {
     "data": {
      "text/plain": [
       "<Figure size 1000x500 with 1 Axes>"
      ],
      "image/png": "[encoded data removed]"
     },
     "metadata": {},
     "output_type": "display_data"
    }
   ],
   "execution_count": 215
  },
  {
   "cell_type": "markdown",
   "metadata": {
    "collapsed": false,
    "pycharm": {
     "name": "#%% md\n"
    }
   },
   "source": [
    "## 3. Byte Pair Encoding\n",
    "\n",
    "In this section, you will build the Byte Pair Encoding (BPE) tokenizer. BPE is an algorithm that replaces the most frequent pair of tokens (initially characters) with a new token. The algorithm is configured by the number of merges that are performed. You can find the paper here [Neural Machine Translation of Rare Words with Subword Units](https://arxiv.org/abs/1508.07909)."
   ]
  },
  {
   "cell_type": "markdown",
   "metadata": {
    "collapsed": false,
    "pycharm": {
     "name": "#%% md\n"
    }
   },
   "source": [
    "### 3.1 Finding the initial set of characters\n",
    "BPE algorithm starts with the set of characters that occur in the dataset. We will build a character counter from the dataset."
   ]
  },
  {
   "cell_type": "markdown",
   "metadata": {
    "collapsed": false,
    "pycharm": {
     "name": "#%% md\n"
    }
   },
   "source": [
    "### Exercise 7: Counting the characters\n",
    "\n",
    "(5p) In this exercise, we build a counter with the frequencies of all characters in the dataset. Iterate over the dataset and count the characters in the `clean` column. The function returns a `Counter` object with the characters and their frequencies."
   ]
  },
  {
   "cell_type": "code",
   "metadata": {
    "collapsed": false,
    "pycharm": {
     "name": "#%%\n"
    },
    "ExecuteTime": {
     "end_time": "2025-04-07T22:38:02.508715Z",
     "start_time": "2025-04-07T22:38:02.481174Z"
    }
   },
   "source": [
    "def build_character_counter(dataset):\n",
    "    \"\"\"\n",
    "    Builds a character counter from the dataset\n",
    "    Args:\n",
    "        dataset: a dataset\n",
    "\n",
    "    Returns: a character counter\n",
    "\n",
    "    \"\"\"\n",
    "    char_counter = Counter()\n",
    "\n",
    "    ### YOUR CODE HERE\n",
    "\n",
    "    for tweet in dataset:\n",
    "        text = tweet['clean']\n",
    "        char_counter.update(text)\n",
    "\n",
    "    ### YOUR CODE ENDS HERE\n",
    "\n",
    "    return char_counter"
   ],
   "outputs": [],
   "execution_count": 216
  },
  {
   "cell_type": "markdown",
   "metadata": {
    "collapsed": false,
    "pycharm": {
     "name": "#%% md\n"
    }
   },
   "source": [
    "The next cell applies the function to the training dataset and prints the size of the vocabulary and the most common characters."
   ]
  },
  {
   "cell_type": "code",
   "metadata": {
    "collapsed": false,
    "pycharm": {
     "name": "#%%\n"
    },
    "ExecuteTime": {
     "end_time": "2025-04-07T22:38:06.888201Z",
     "start_time": "2025-04-07T22:38:05.167300Z"
    }
   },
   "source": [
    "char_counter = build_character_counter(tweet_ds['train'])\n",
    "print(len(char_counter))\n",
    "print(char_counter.most_common(100))"
   ],
   "outputs": [
    {
     "name": "stdout",
     "output_type": "stream",
     "text": [
      "508\n",
      "[(' ', 656944), ('e', 263478), ('a', 224226), ('o', 192781), ('t', 187171), ('i', 178708), ('s', 172071), ('n', 157258), ('r', 152097), ('l', 122306), ('h', 106623), ('d', 81061), ('u', 80151), ('m', 73757), ('c', 73638), ('y', 70427), ('g', 62943), ('#', 56729), ('f', 54164), ('p', 51434), ('w', 47382), ('b', 46237), ('@', 36756), ('k', 31203), ('v', 30816), ('.', 22551), ('…', 19238), ('!', 16412), (',', 12383), ('️', 11732), ('j', 6659), ('x', 4451), ('1', 4434), ('z', 4360), ('2', 3590), ('0', 3487), (\"'\", 3248), (':', 2784), ('\"', 2362), (';', 2354), ('(', 2298), ('&', 2243), (')', 2092), ('q', 2078), ('6', 1850), ('/', 1710), ('?', 1606), ('5', 1556), ('_', 1512), ('3', 1427), ('4', 1096), ('7', 940), ('|', 907), ('9', 815), ('8', 751), ('・', 642), ('•', 509), ('+', 284), ('*', 266), ('$', 179), ('~', 131), ('—', 130), ('[', 127), ('é', 126), ('%', 126), (']', 118), ('=', 107), ('{', 63), ('}', 53), ('ñ', 44), ('♡', 31), ('⠀', 26), ('о', 25), ('и', 23), ('͟', 18), ('\\\\', 18), ('р', 17), ('^', 17), ('ン', 15), ('н', 12), ('ا', 12), ('а', 11), ('б', 10), ('ア', 10), ('¡', 10), ('ᴵ', 10), ('ˢ', 10), ('á', 9), ('︎', 9), ('í', 9), ('к', 8), ('ー', 8), ('è', 8), ('φ', 8), ('ᴬ', 8), ('ᴱ', 8), ('α', 8), ('ス', 7), ('–', 7), ('σ', 7)]\n"
     ]
    }
   ],
   "execution_count": 217
  },
  {
   "cell_type": "markdown",
   "metadata": {
    "collapsed": false,
    "pycharm": {
     "name": "#%% md\n"
    }
   },
   "source": []
  },
  {
   "cell_type": "markdown",
   "metadata": {
    "collapsed": false,
    "pycharm": {
     "name": "#%% md\n"
    }
   },
   "source": [
    "We will filter the characters that occur less than 10 times in the dataset. We will also replace the space character with the `__` token. This is necessary because we want to preserve the spaces between the words in the tokenization process."
   ]
  },
  {
   "cell_type": "code",
   "metadata": {
    "collapsed": false,
    "pycharm": {
     "name": "#%%\n"
    },
    "ExecuteTime": {
     "end_time": "2025-04-07T22:38:59.808669Z",
     "start_time": "2025-04-07T22:38:59.800903Z"
    }
   },
   "source": [
    "bpe_init_vocab = sorted([char for char, _ in char_counter.most_common() if char_counter[char] >= 10])\n",
    "bpe_init_vocab[bpe_init_vocab.index(' ')] = '__'\n",
    "print(bpe_init_vocab)"
   ],
   "outputs": [
    {
     "name": "stdout",
     "output_type": "stream",
     "text": [
      "['__', '!', '\"', '#', '$', '%', '&', \"'\", '(', ')', '*', '+', ',', '.', '/', '0', '1', '2', '3', '4', '5', '6', '7', '8', '9', ':', ';', '=', '?', '@', '[', '\\\\', ']', '^', '_', 'a', 'b', 'c', 'd', 'e', 'f', 'g', 'h', 'i', 'j', 'k', 'l', 'm', 'n', 'o', 'p', 'q', 'r', 's', 't', 'u', 'v', 'w', 'x', 'y', 'z', '{', '|', '}', '~', '¡', 'é', 'ñ', 'ˢ', '͟', 'а', 'б', 'и', 'н', 'о', 'р', 'ا', 'ᴵ', '—', '•', '…', '♡', '⠀', 'ア', 'ン', '・', '️']\n"
     ]
    }
   ],
   "execution_count": 218
  },
  {
   "cell_type": "markdown",
   "metadata": {
    "collapsed": false,
    "pycharm": {
     "name": "#%% md\n"
    }
   },
   "source": []
  },
  {
   "cell_type": "markdown",
   "metadata": {
    "collapsed": false,
    "pycharm": {
     "name": "#%% md\n"
    }
   },
   "source": [
    "### 3.2 Training the BPE tokenizer\n",
    "\n",
    "In this section, we will implement the BPE algorithm. We will start by initializing the BPE corpus. The corpus is a list of words from the dataset with their frequency. This makes it easier to find the most frequent pairs of neighbouring tokens (or characters in the beginning). Each word is split into characters and the space (the ```__``` token) is added at the end of each word."
   ]
  },
  {
   "cell_type": "code",
   "metadata": {
    "collapsed": false,
    "pycharm": {
     "name": "#%%\n"
    },
    "ExecuteTime": {
     "end_time": "2025-04-07T22:40:12.071961Z",
     "start_time": "2025-04-07T22:40:12.059074Z"
    }
   },
   "source": [
    "def init_bpe_corpus(dataset):\n",
    "    \"\"\"\n",
    "    Initializes the BPE corpus\n",
    "    Args:\n",
    "        dataset: a dataset\n",
    "\n",
    "    Returns: a BPE corpus\n",
    "\n",
    "    \"\"\"\n",
    "\n",
    "    corpus = Counter()\n",
    "    for example in dataset:\n",
    "        words = example['clean'].split()\n",
    "        words = [' '.join(list(word)) + ' __' for word in words]\n",
    "        corpus.update(words)\n",
    "    return corpus"
   ],
   "outputs": [],
   "execution_count": 219
  },
  {
   "cell_type": "code",
   "metadata": {
    "collapsed": false,
    "pycharm": {
     "name": "#%%\n"
    },
    "ExecuteTime": {
     "end_time": "2025-04-07T22:40:16.846836Z",
     "start_time": "2025-04-07T22:40:14.106872Z"
    }
   },
   "source": [
    "bpe_corpus = init_bpe_corpus(tweet_ds['train'])\n",
    "print(len(bpe_corpus))"
   ],
   "outputs": [
    {
     "name": "stdout",
     "output_type": "stream",
     "text": [
      "54671\n"
     ]
    }
   ],
   "execution_count": 220
  },
  {
   "cell_type": "markdown",
   "metadata": {
    "collapsed": false,
    "pycharm": {
     "name": "#%% md\n"
    }
   },
   "source": [
    "We can check the most common words in the corpus along with their frequencies."
   ]
  },
  {
   "cell_type": "code",
   "metadata": {
    "collapsed": false,
    "pycharm": {
     "name": "#%%\n"
    },
    "ExecuteTime": {
     "end_time": "2025-04-07T22:40:57.843095Z",
     "start_time": "2025-04-07T22:40:57.812546Z"
    }
   },
   "source": [
    "bpe_corpus.most_common(30)"
   ],
   "outputs": [
    {
     "data": {
      "text/plain": [
       "[('# __', 56729),\n",
       " ('@ __', 36756),\n",
       " ('. __', 22551),\n",
       " ('… __', 19238),\n",
       " ('! __', 16412),\n",
       " ('t h e __', 13861),\n",
       " (', __', 12383),\n",
       " ('u s e r __', 12236),\n",
       " ('️ __', 10782),\n",
       " ('i __', 8516),\n",
       " ('t o __', 7824),\n",
       " ('m y __', 7645),\n",
       " ('a __', 6995),\n",
       " ('i n __', 6022),\n",
       " ('y o u __', 5873),\n",
       " ('i s __', 5814),\n",
       " ('a n d __', 5796),\n",
       " ('w i t h __', 5276),\n",
       " ('o f __', 5191),\n",
       " ('f o r __', 4872),\n",
       " ('t h i s __', 4608),\n",
       " ('c a l i f o r n i a __', 4499),\n",
       " ('a t __', 3733),\n",
       " ('i t __', 3599),\n",
       " ('l o v e __', 3562),\n",
       " (\"' __\", 3248),\n",
       " ('o n __', 2837),\n",
       " (': __', 2784),\n",
       " ('s __', 2672),\n",
       " ('n o t __', 2564)]"
      ]
     },
     "execution_count": 221,
     "metadata": {},
     "output_type": "execute_result"
    }
   ],
   "execution_count": 221
  },
  {
   "cell_type": "markdown",
   "metadata": {
    "collapsed": false,
    "pycharm": {
     "name": "#%% md\n"
    }
   },
   "source": [
    "Our BPE implementation will consist of the following steps:\n",
    "1. Calculate the frequency statistics of adjacent symbol pairs in the corpus.\n",
    "2. Find the most frequent pair.\n",
    "3. Merge the most frequent pair.\n",
    "4. Repeat until the specified number of merges is reached.\n",
    "\n",
    "The following function calculates the frequency statistics of adjacent symbol pairs in the corpus."
   ]
  },
  {
   "metadata": {},
   "cell_type": "code",
   "outputs": [],
   "execution_count": null,
   "source": ""
  },
  {
   "cell_type": "markdown",
   "metadata": {
    "collapsed": false,
    "pycharm": {
     "name": "#%% md\n"
    }
   },
   "source": [
    "### Exercise 8: Calculate the frequency statistics of adjacent symbol pairs\n",
    "(5p) Fill in the function below to calculate the frequency statistics of adjacent symbol pairs in the corpus. The function returns a Counter object with the counts of adjacent token pairs. The pairs are represented as tuples of two tokens (e.g., `('cali', 'for')`)."
   ]
  },
  {
   "cell_type": "code",
   "metadata": {
    "collapsed": false,
    "pycharm": {
     "name": "#%%\n"
    },
    "ExecuteTime": {
     "end_time": "2025-04-07T22:48:53.761903Z",
     "start_time": "2025-04-07T22:48:53.744855Z"
    }
   },
   "source": [
    "def calculate_bpe_corpus_stats(corpus):\n",
    "    \"\"\"\n",
    "    Calculates the frequency statistics of adjacent symbol pairs in the corpus.\n",
    "    Args:\n",
    "        corpus: a BPE corpus as a Counter object with words split by space into tokens (initially characters)\n",
    "\n",
    "    Returns: a Counter object with the frequency statistics of adjacent symbol pairs\n",
    "    \"\"\"\n",
    "    stats = Counter()\n",
    "\n",
    "    for word, freq in corpus.items():\n",
    "\n",
    "        ### YOUR CODE HERE\n",
    "\n",
    "        chars = word.split()\n",
    "        for i in range(len(chars) - 1):\n",
    "            pair = (chars[i], chars[i + 1])\n",
    "            stats[pair] += freq\n",
    "\n",
    "\n",
    "        ### YOUR CODE ENDS HERE\n",
    "\n",
    "    return stats"
   ],
   "outputs": [],
   "execution_count": 222
  },
  {
   "cell_type": "markdown",
   "metadata": {
    "collapsed": false,
    "pycharm": {
     "name": "#%% md\n"
    }
   },
   "source": [
    "We can check the most common pairs of characters in the initial corpus."
   ]
  },
  {
   "cell_type": "code",
   "metadata": {
    "collapsed": false,
    "pycharm": {
     "name": "#%%\n"
    },
    "ExecuteTime": {
     "end_time": "2025-04-07T22:48:57.096827Z",
     "start_time": "2025-04-07T22:48:56.969561Z"
    }
   },
   "source": [
    "stats = calculate_bpe_corpus_stats(bpe_corpus)\n",
    "print(stats.most_common(10))"
   ],
   "outputs": [
    {
     "name": "stdout",
     "output_type": "stream",
     "text": [
      "[(('e', '__'), 79728), (('s', '__'), 60255), (('#', '__'), 56729), (('t', '__'), 46996), (('t', 'h'), 42892), (('e', 'r'), 41953), (('y', '__'), 41940), (('i', 'n'), 40382), (('r', '__'), 38076), (('@', '__'), 36756)]\n"
     ]
    }
   ],
   "execution_count": 223
  },
  {
   "cell_type": "markdown",
   "metadata": {
    "collapsed": false,
    "pycharm": {
     "name": "#%% md\n"
    }
   },
   "source": [
    "Next, we will implement the function that merges the most frequent pair of symbols in the corpus. The function takes the corpus and the most frequent pair of symbols as input and returns the updated corpus."
   ]
  },
  {
   "cell_type": "code",
   "metadata": {
    "collapsed": false,
    "pycharm": {
     "name": "#%%\n"
    },
    "ExecuteTime": {
     "end_time": "2025-04-07T22:49:47.014458Z",
     "start_time": "2025-04-07T22:49:47.002778Z"
    }
   },
   "source": [
    "def merge_corpus(corpus, pair):\n",
    "    \"\"\"\n",
    "    Merges the most frequent pair of symbols in the corpus.\n",
    "    Args:\n",
    "        corpus (dict): Keys are words as space-separated symbols (e.g., \"l o w\"),\n",
    "                       and values are the frequency counts.\n",
    "        pair (tuple): A pair of symbols to merge.\n",
    "\n",
    "    Returns:\n",
    "        dict: Updated corpus after merging the pair of symbols.\n",
    "    \"\"\"\n",
    "    new_corpus = Counter()\n",
    "    bigram = \" \".join(pair)\n",
    "    replacement = \"\".join(pair)\n",
    "    for word, freq in corpus.items():\n",
    "        new_word = word.replace(bigram, replacement)\n",
    "        new_corpus[new_word] = freq\n",
    "    return new_corpus"
   ],
   "outputs": [],
   "execution_count": 224
  },
  {
   "cell_type": "markdown",
   "metadata": {
    "collapsed": false,
    "pycharm": {
     "name": "#%% md\n"
    }
   },
   "source": [
    "The last step is to implement the BPE algorithm. The function takes the initial vocabulary, the corpus, and the number of merges as input. It returns the updated vocabulary, corpus, and the list of merges.\n",
    "Returning the list of merges is useful for the tokenization process - it makes it faster to tokenize the text. It contains the tuples of the two tokens that were merged. For example, ('to', 'day__') will merge the tokens 'to' and 'day__' into the 'today__' token."
   ]
  },
  {
   "cell_type": "markdown",
   "metadata": {
    "collapsed": false,
    "pycharm": {
     "name": "#%% md\n"
    }
   },
   "source": [
    "### Exercise 9: BPE algorithm\n",
    "\n",
    "(10p) Implement the BPE algorithm in the following function. The function should return the updated vocabulary, corpus, and the list of merges. The function should perform the specified number of merges. The vocabulary is a list of tokens, the corpus is a Counter object with the words split by space into tokens, and the merges is a list of tuples with the merged tokens.\n",
    "\n",
    "You should use the functions you implemented earlier in this section (```calculate_bpe_corpus_stats()```, ```merge_corpus()```)."
   ]
  },
  {
   "cell_type": "code",
   "metadata": {
    "collapsed": false,
    "pycharm": {
     "name": "#%%\n"
    },
    "ExecuteTime": {
     "end_time": "2025-04-10T14:06:40.423558Z",
     "start_time": "2025-04-10T14:06:40.410405Z"
    }
   },
   "source": [
    "def bpe(vocab, corpus, num_merges):\n",
    "    \"\"\"\n",
    "    Applies the BPE algorithm to the corpus. Merges the most frequent adjacent symbol pairs. The function performs the specified number of merges.\n",
    "\n",
    "    Args:\n",
    "        vocab (list): A list of tokens representing the BPE vocabulary.\n",
    "        corpus (Counter): A Counter object with words split by space into tokens.\n",
    "        num_merges (int): The number of merges to perform.\n",
    "\n",
    "    Returns:\n",
    "        list: Updated vocabulary.\n",
    "        Counter: Updated corpus.\n",
    "        list: List of merges.\n",
    "    \"\"\"\n",
    "    vocab = vocab.copy()\n",
    "    corpus = corpus.copy()\n",
    "    merges = []\n",
    "\n",
    "    for i in tqdm.tqdm(range(num_merges)):\n",
    "        ### YOUR CODE HERE\n",
    "        stats = calculate_bpe_corpus_stats(corpus)\n",
    "        most_common = stats.most_common(1)[0][0]\n",
    "        merges.append(most_common)\n",
    "        corpus = merge_corpus(corpus, most_common)\n",
    "        merged_string = ''.join(most_common)\n",
    "        vocab.append(merged_string)\n",
    "\n",
    "        ### YOUR CODE ENDS HERE\n",
    "    return vocab, corpus, merges"
   ],
   "outputs": [],
   "execution_count": 240
  },
  {
   "cell_type": "markdown",
   "metadata": {
    "collapsed": false,
    "pycharm": {
     "name": "#%% md\n"
    }
   },
   "source": [
    "The following cell applies the BPE algorithm to the initial vocabulary and corpus. We will perform 100 merges at first, but you will experiment with different numbers."
   ]
  },
  {
   "cell_type": "code",
   "metadata": {
    "collapsed": false,
    "pycharm": {
     "name": "#%%\n"
    },
    "ExecuteTime": {
     "end_time": "2025-04-10T14:06:54.741097Z",
     "start_time": "2025-04-10T14:06:43.053070Z"
    }
   },
   "source": [
    "bpe_vocab, updated_bpe_corpus, bpe_merges = bpe(bpe_init_vocab, bpe_corpus, num_merges=100)"
   ],
   "outputs": [
    {
     "name": "stderr",
     "output_type": "stream",
     "text": [
      "100%|██████████| 100/100 [00:11<00:00,  8.56it/s]\n"
     ]
    }
   ],
   "execution_count": 241
  },
  {
   "cell_type": "markdown",
   "metadata": {
    "collapsed": false,
    "pycharm": {
     "name": "#%% md\n"
    }
   },
   "source": [
    "We can check the size of the BPE vocabulary and the most common tokens."
   ]
  },
  {
   "cell_type": "code",
   "metadata": {
    "collapsed": false,
    "pycharm": {
     "name": "#%%\n"
    },
    "ExecuteTime": {
     "end_time": "2025-04-10T14:06:56.433264Z",
     "start_time": "2025-04-10T14:06:56.425415Z"
    }
   },
   "source": [
    "print(len(bpe_vocab))\n",
    "print(bpe_vocab)"
   ],
   "outputs": [
    {
     "name": "stdout",
     "output_type": "stream",
     "text": [
      "187\n",
      "['__', '!', '\"', '#', '$', '%', '&', \"'\", '(', ')', '*', '+', ',', '.', '/', '0', '1', '2', '3', '4', '5', '6', '7', '8', '9', ':', ';', '=', '?', '@', '[', '\\\\', ']', '^', '_', 'a', 'b', 'c', 'd', 'e', 'f', 'g', 'h', 'i', 'j', 'k', 'l', 'm', 'n', 'o', 'p', 'q', 'r', 's', 't', 'u', 'v', 'w', 'x', 'y', 'z', '{', '|', '}', '~', '¡', 'é', 'ñ', 'ˢ', '͟', 'а', 'б', 'и', 'н', 'о', 'р', 'ا', 'ᴵ', '—', '•', '…', '♡', '⠀', 'ア', 'ン', '・', '️', 'e__', 's__', '#__', 't__', 'th', 'er', 'y__', 'in', '@__', 'an', 'd__', 'a__', 'or', 'er__', 'o__', 'on', '.__', 'al', 'ou', 'ar', '…__', 'ing', 'en', 'us', '!__', 'st', 'ing__', 'the__', 'ch', 're', 'l__', 'lo', ',__', 'am', 'user__', 'is__', 'at', '️__', 'i__', 'for', 'da', 'om', 'el', 'ri', 'k__', 'on__', 'be', 'li', 'to__', 'ni', 'es__', 'la', 'in__', 'ho', 'you', 'f__', 'my__', 'wi', 've__', 'p__', 'day__', 'ha', 'w__', 'th__', 'ti', 'oo', 'ne', 'di', 'and__', 'gh', 'as__', 'you__', 'le', 'un', 'se', 'ir', 'an__', 'ac', 'with__', 'no', 'of__', 'it__', 'ro', 'cali', 'for__', 'to', 'califor', 'californi', 'this__', 'il', 'pp', 'california__', 'ic', 'sh', 'we', 'me__', 'en__', 'it', 'the', 'r__']\n"
     ]
    }
   ],
   "execution_count": 242
  },
  {
   "cell_type": "markdown",
   "metadata": {
    "collapsed": false,
    "pycharm": {
     "name": "#%% md\n"
    }
   },
   "source": [
    "We can also check the most common merges."
   ]
  },
  {
   "cell_type": "code",
   "metadata": {
    "collapsed": false,
    "pycharm": {
     "name": "#%%\n"
    },
    "ExecuteTime": {
     "end_time": "2025-04-10T14:07:11.606737Z",
     "start_time": "2025-04-10T14:07:11.586604Z"
    }
   },
   "source": [
    "print(bpe_merges[:150])"
   ],
   "outputs": [
    {
     "name": "stdout",
     "output_type": "stream",
     "text": [
      "[('e', '__'), ('s', '__'), ('#', '__'), ('t', '__'), ('t', 'h'), ('e', 'r'), ('y', '__'), ('i', 'n'), ('@', '__'), ('a', 'n'), ('d', '__'), ('a', '__'), ('o', 'r'), ('er', '__'), ('o', '__'), ('o', 'n'), ('.', '__'), ('a', 'l'), ('o', 'u'), ('a', 'r'), ('…', '__'), ('in', 'g'), ('e', 'n'), ('u', 's'), ('!', '__'), ('s', 't'), ('ing', '__'), ('th', 'e__'), ('c', 'h'), ('r', 'e'), ('l', '__'), ('l', 'o'), (',', '__'), ('a', 'm'), ('us', 'er__'), ('i', 's__'), ('a', 't'), ('️', '__'), ('i', '__'), ('f', 'or'), ('d', 'a'), ('o', 'm'), ('e', 'l'), ('r', 'i'), ('k', '__'), ('on', '__'), ('b', 'e'), ('l', 'i'), ('t', 'o__'), ('n', 'i'), ('e', 's__'), ('l', 'a'), ('in', '__'), ('h', 'o'), ('y', 'ou'), ('f', '__'), ('m', 'y__'), ('w', 'i'), ('v', 'e__'), ('p', '__'), ('da', 'y__'), ('h', 'a'), ('w', '__'), ('th', '__'), ('t', 'i'), ('o', 'o'), ('n', 'e'), ('d', 'i'), ('an', 'd__'), ('g', 'h'), ('a', 's__'), ('you', '__'), ('l', 'e'), ('u', 'n'), ('s', 'e'), ('i', 'r'), ('an', '__'), ('a', 'c'), ('wi', 'th__'), ('n', 'o'), ('o', 'f__'), ('i', 't__'), ('r', 'o'), ('c', 'ali'), ('for', '__'), ('t', 'o'), ('cali', 'for'), ('califor', 'ni'), ('th', 'is__'), ('i', 'l'), ('p', 'p'), ('californi', 'a__'), ('i', 'c'), ('s', 'h'), ('w', 'e'), ('m', 'e__'), ('en', '__'), ('i', 't'), ('th', 'e'), ('r', '__')]\n"
     ]
    }
   ],
   "execution_count": 243
  },
  {
   "cell_type": "markdown",
   "metadata": {
    "collapsed": false,
    "pycharm": {
     "name": "#%% md\n"
    }
   },
   "source": [
    "### 3.3 Tokenizing the text using BPE\n",
    "\n",
    "With the tokenizer trained we can now tokenize the text using the BPE vocabulary. We will first build a function that tokenizes any text using our BPE tokenizer (vocabulary and merges). Next we will apply it to our dataset.\n",
    "\n",
    "The following function tokenizes the text using the BPE vocabulary. It replaces the most frequent pairs of tokens with the new token. The function also replaces the tokens that are not in the vocabulary with the `<unk>` token."
   ]
  },
  {
   "cell_type": "code",
   "metadata": {
    "collapsed": false,
    "pycharm": {
     "name": "#%%\n"
    },
    "ExecuteTime": {
     "end_time": "2025-04-10T14:07:16.364849Z",
     "start_time": "2025-04-10T14:07:16.324860Z"
    }
   },
   "source": [
    "def apply_bpe_tokenization(text, vocab, merges, unk_token='<unk>'):\n",
    "    \"\"\"\n",
    "    Tokenizes the text using BPE vocabulary, preserving spaces as '__'.\n",
    "\n",
    "    Args:\n",
    "        text (str): The input text to be tokenized.\n",
    "        vocab (set): A set containing the BPE vocabulary tokens.\n",
    "\n",
    "    Returns:\n",
    "        list: A list of tokens representing the input text.\n",
    "    \"\"\"\n",
    "\n",
    "    words = re.split(r'\\s', text)\n",
    "    words = [' ' + ' '.join(list(word)) + (' __ ' if i < len(words) - 1 else ' ') for i, word in enumerate(words)]\n",
    "\n",
    "    bpe_tokens = []\n",
    "\n",
    "    for i, word in enumerate(words):\n",
    "        for merge in merges:\n",
    "            word = word.replace(' ' + ' '.join(merge) + ' ', ' ' + ''.join(merge) + ' ')\n",
    "        bpe_tokens.extend(word.split())\n",
    "\n",
    "    for i, token in enumerate(bpe_tokens):\n",
    "        if token not in vocab:\n",
    "            bpe_tokens[i] = unk_token\n",
    "    return bpe_tokens\n",
    "\n",
    "\n",
    "# A test example with a special character. Is the character tokenized correctly as <unk> token?\n",
    "print(apply_bpe_tokenization(tweet_ds['train'][0]['clean'] + ' 🇺', bpe_vocab, bpe_merges))"
   ],
   "outputs": [
    {
     "name": "stdout",
     "output_type": "stream",
     "text": [
      "['s', 'un', 'day__', 'a', 'f', 't', 'er', 'no', 'on__', 'w', 'al', 'k', 'ing__', 'th', 'r', 'ou', 'gh', '__', 'v', 'en', 'ic', 'e__', 'in__', 'the__', 's', 'un', '__', 'with__', '@__', 'user__', '️__', '️__', '️__', '@__', 'a', 'b', 'b', 'o', 't__', 'k', 'in', 'ne', 'y__', ',__', 'v', 'en', 'ic', 'e__', '<unk>']\n"
     ]
    }
   ],
   "execution_count": 244
  },
  {
   "cell_type": "markdown",
   "metadata": {
    "collapsed": false,
    "pycharm": {
     "name": "#%% md\n"
    }
   },
   "source": [
    "The function below will apply our BPE tokenizer to the dataset. It will add a new column `bpe_tokens` to each example."
   ]
  },
  {
   "cell_type": "code",
   "metadata": {
    "collapsed": false,
    "pycharm": {
     "name": "#%%\n"
    },
    "ExecuteTime": {
     "end_time": "2025-04-10T14:08:08.575692Z",
     "start_time": "2025-04-10T14:07:23.218973Z"
    }
   },
   "source": [
    "def tokenize_bpe(example, vocab, merges, unk_token='<unk>'):\n",
    "    \"\"\"\n",
    "    Tokenizes the example from the Dataset using BPE\n",
    "    Args:\n",
    "        example: an example from the Dataset\n",
    "        vocab: a BPE vocabulary\n",
    "\n",
    "    Returns: update example containing 'bpe_tokens' column\n",
    "\n",
    "    \"\"\"\n",
    "    text = example['clean']\n",
    "    bpe_tokens = apply_bpe_tokenization(text, vocab, merges, unk_token)\n",
    "    example['bpe_tokens'] = bpe_tokens\n",
    "    return example\n",
    "\n",
    "tweet_ds = tweet_ds.map(tokenize_bpe, fn_kwargs={'vocab': bpe_vocab, 'merges': bpe_merges})\n",
    "print(tweet_ds)"
   ],
   "outputs": [
    {
     "name": "stderr",
     "output_type": "stream",
     "text": [
      "Map: 100%|██████████| 45000/45000 [00:20<00:00, 2193.18 examples/s]\n",
      "Map: 100%|██████████| 50000/50000 [00:22<00:00, 2211.97 examples/s]\n",
      "Map: 100%|██████████| 5000/5000 [00:02<00:00, 2291.15 examples/s]"
     ]
    },
    {
     "name": "stdout",
     "output_type": "stream",
     "text": [
      "DatasetDict({\n",
      "    train: Dataset({\n",
      "        features: ['text', 'label', 'text_length', 'clean', 'tokens', 'bpe_tokens'],\n",
      "        num_rows: 45000\n",
      "    })\n",
      "    test: Dataset({\n",
      "        features: ['text', 'label', 'text_length', 'clean', 'tokens', 'bpe_tokens'],\n",
      "        num_rows: 50000\n",
      "    })\n",
      "    validation: Dataset({\n",
      "        features: ['text', 'label', 'text_length', 'clean', 'tokens', 'bpe_tokens'],\n",
      "        num_rows: 5000\n",
      "    })\n",
      "})\n"
     ]
    },
    {
     "name": "stderr",
     "output_type": "stream",
     "text": [
      "\n"
     ]
    }
   ],
   "execution_count": 245
  },
  {
   "cell_type": "markdown",
   "metadata": {
    "collapsed": false,
    "pycharm": {
     "name": "#%% md\n"
    }
   },
   "source": [
    "We will inspect the both tokenizations of several examples from the ```validation``` subset. Try to find the ```<unk>``` tokens in the printed examples."
   ]
  },
  {
   "cell_type": "code",
   "metadata": {
    "collapsed": false,
    "pycharm": {
     "name": "#%%\n"
    },
    "ExecuteTime": {
     "end_time": "2025-04-10T14:08:17.346493Z",
     "start_time": "2025-04-10T14:08:17.328838Z"
    }
   },
   "source": [
    "for i in range(10):\n",
    "    print('Original tweet:')\n",
    "    print(tweet_ds['validation'][i]['text'])\n",
    "    print('Word tokenization:')\n",
    "    print(tweet_ds['validation'][i]['tokens'])\n",
    "    print('BPE tokenization:')\n",
    "    print(tweet_ds['validation'][i]['bpe_tokens'])\n",
    "    print()"
   ],
   "outputs": [
    {
     "name": "stdout",
     "output_type": "stream",
     "text": [
      "Original tweet:\n",
      "A little throwback with my favourite person @ Water Wall\n",
      "Word tokenization:\n",
      "['a', 'little', 'throwback', 'with', 'my', 'favourite', 'person', '@', 'water', 'wall']\n",
      "BPE tokenization:\n",
      "['a__', 'li', 't', 't', 'l', 'e__', 'th', 'ro', 'w', 'b', 'ac', 'k__', 'with__', 'my__', 'f', 'a', 'v', 'ou', 'ri', 't', 'e__', 'p', 'er', 's', 'on__', '@__', 'w', 'at', 'er__', 'w', 'al', 'l']\n",
      "\n",
      "Original tweet:\n",
      "glam on @user yesterday for #kcon makeup using @user in #featherette,…\n",
      "Word tokenization:\n",
      "['glam', 'on', '@', 'user', 'yesterday', 'for', '#', 'kcon', 'makeup', 'using', '@', 'user', 'in', '#', '<unk>', ',', '…']\n",
      "BPE tokenization:\n",
      "['g', 'l', 'am', '__', 'on__', '@__', 'user__', 'y', 'e', 'st', 'er', 'day__', 'for__', '#__', 'k', 'c', 'on__', 'm', 'a', 'k', 'e', 'u', 'p__', 'us', 'ing__', '@__', 'user__', 'in__', '#__', 'f', 'e', 'a', 'th', 'er', 'e', 't', 't', 'e__', ',__', '…']\n",
      "\n",
      "Original tweet:\n",
      "Democracy Plaza in the wake of a stunning outcome #Decision2016 @ NBC News\n",
      "Word tokenization:\n",
      "['<unk>', 'plaza', 'in', 'the', 'wake', 'of', 'a', 'stunning', '<unk>', '#', '<unk>', '@', '<unk>', 'news']\n",
      "BPE tokenization:\n",
      "['d', 'e', 'm', 'o', 'c', 'r', 'ac', 'y__', 'p', 'la', 'z', 'a__', 'in__', 'the__', 'w', 'a', 'k', 'e__', 'of__', 'a__', 'st', 'un', 'n', 'ing__', 'ou', 't', 'c', 'om', 'e__', '#__', 'd', 'e', 'c', 'i', 's', 'i', 'on', '2', '0', '1', '6', '__', '@__', 'n', 'b', 'c', '__', 'ne', 'w', 's']\n",
      "\n",
      "Original tweet:\n",
      "Then &amp; Now. VILO @ Walt Disney Magic Kingdom\n",
      "Word tokenization:\n",
      "['then', '&', 'amp', ';', 'now', '.', '<unk>', '@', 'walt', 'disney', 'magic', 'kingdom']\n",
      "BPE tokenization:\n",
      "['th', 'en__', '&', '__', 'am', 'p__', ';', '__', 'no', 'w__', '.__', 'v', 'il', 'o__', '@__', 'w', 'al', 't__', 'di', 's', 'ne', 'y__', 'm', 'a', 'g', 'ic', '__', 'k', 'ing', 'd', 'om']\n",
      "\n",
      "Original tweet:\n",
      "Who never... @ A Galaxy Far Far Away\n",
      "Word tokenization:\n",
      "['who', 'never', '.', '.', '.', '@', 'a', 'galaxy', 'far', 'far', 'away']\n",
      "BPE tokenization:\n",
      "['w', 'h', 'o__', 'ne', 'v', 'er__', '.__', '.__', '.__', '@__', 'a__', 'g', 'al', 'a', 'x', 'y__', 'f', 'ar', '__', 'f', 'ar', '__', 'a', 'w', 'a', 'y']\n",
      "\n",
      "Original tweet:\n",
      "Dinner in FLA tonight // Pan-seared salmon over couscous veggie salad #yum #dinner #florida #salmon…\n",
      "Word tokenization:\n",
      "['dinner', 'in', '<unk>', 'tonight', '/', '/', '<unk>', 'salmon', 'over', '<unk>', 'veggie', 'salad', '#', 'yum', '#', 'dinner', '#', '<unk>', '#', 'salmon', '…']\n",
      "BPE tokenization:\n",
      "['d', 'in', 'n', 'er__', 'in__', 'f', 'l', 'a__', 't', 'on', 'i', 'gh', 't__', '/', '__', '/', '__', 'p', 'an', 'se', 'ar', 'e', 'd__', 's', 'al', 'm', 'on__', 'o', 'v', 'er__', 'c', 'ou', 's', 'c', 'ou', 's__', 'v', 'e', 'g', 'g', 'i', 'e__', 's', 'al', 'a', 'd__', '#__', 'y', 'u', 'm', '__', '#__', 'd', 'in', 'n', 'er__', '#__', 'f', 'l', 'or', 'i', 'd', 'a__', '#__', 's', 'al', 'm', 'on__', '…']\n",
      "\n",
      "Original tweet:\n",
      "It's my fav seniors last game congrats on beating west @ West Salem…\n",
      "Word tokenization:\n",
      "['it', 'is', 'my', 'fav', 'seniors', 'last', 'game', 'congrats', 'on', 'beating', 'west', '@', 'west', 'salem', '…']\n",
      "BPE tokenization:\n",
      "['it__', 'is__', 'my__', 'f', 'a', 'v', '__', 's', 'en', 'i', 'or', 's__', 'la', 's', 't__', 'g', 'am', 'e__', 'c', 'on', 'g', 'r', 'at', 's__', 'on__', 'be', 'at', 'ing__', 'we', 's', 't__', '@__', 'we', 's', 't__', 's', 'al', 'e', 'm', '__', '…']\n",
      "\n",
      "Original tweet:\n",
      "I got to to go formal with my best friend @ Phi Mu at JSU\n",
      "Word tokenization:\n",
      "['i', 'got', 'to', 'to', 'go', 'formal', 'with', 'my', 'best', 'friend', '@', 'phi', 'mu', 'at', '<unk>']\n",
      "BPE tokenization:\n",
      "['i__', 'g', 'o', 't__', 'to__', 'to__', 'g', 'o__', 'for', 'm', 'al', '__', 'with__', 'my__', 'be', 's', 't__', 'f', 'ri', 'en', 'd__', '@__', 'p', 'h', 'i__', 'm', 'u', '__', 'a', 't__', 'j', 's', 'u']\n",
      "\n",
      "Original tweet:\n",
      "'Cause I Miss My Little Homies .#Throwback #CousinLove @ Indiana University\n",
      "Word tokenization:\n",
      "[\"'\", 'cause', 'i', 'miss', 'my', 'little', 'homies', '.', '#', 'throwback', '#', 'cousinlove', '@', '<unk>', 'university']\n",
      "BPE tokenization:\n",
      "[\"'\", '__', 'c', 'a', 'us', 'e__', 'i__', 'm', 'i', 's', 's__', 'my__', 'li', 't', 't', 'l', 'e__', 'h', 'om', 'i', 'es__', '.__', '#__', 'th', 'ro', 'w', 'b', 'ac', 'k__', '#__', 'c', 'ou', 's', 'in', 'lo', 've__', '@__', 'in', 'di', 'an', 'a__', 'u', 'ni', 'v', 'er', 's', 'it', 'y']\n",
      "\n",
      "Original tweet:\n",
      "Birthday Kisses @ Madison, Wisconsin\n",
      "Word tokenization:\n",
      "['birthday', 'kisses', '@', 'madison', ',', '<unk>']\n",
      "BPE tokenization:\n",
      "['b', 'ir', 'th', 'day__', 'k', 'i', 's', 's', 'es__', '@__', 'm', 'a', 'di', 's', 'on__', ',__', 'wi', 's', 'c', 'on', 's', 'in']\n",
      "\n"
     ]
    }
   ],
   "execution_count": 246
  },
  {
   "cell_type": "markdown",
   "metadata": {
    "collapsed": false,
    "pycharm": {
     "name": "#%% md\n"
    }
   },
   "source": [
    "### Exercise 10: Comparing tokenizers\n",
    "\n",
    "Train the BPE tokenizer with different number of merges. Compare the tokenization results with the word tokenization.\n",
    "1. (5p) What are the differences?\n",
    "2. (5p) Compare the number of tokens created by your tokenizers.\n",
    "3. (5p) Calculate the number of `<unk>` tokens in the validation dataset for each tokenizer.\n",
    "4. (5p) Compare the average length in tokens between different tokenizers.\n",
    "5. (5p) What are the advantages and disadvantages of the BPE tokenizer?"
   ]
  },
  {
   "cell_type": "markdown",
   "metadata": {
    "collapsed": false,
    "pycharm": {
     "name": "#%% md\n"
    }
   },
   "source": [
    "For answering these questions make sure to include a proper mix of numbers/plots/tables etc. and comments."
   ]
  },
  {
   "cell_type": "markdown",
   "metadata": {
    "collapsed": false,
    "pycharm": {
     "name": "#%% md\n"
    }
   },
   "source": []
  }
 ],
 "metadata": {
  "kernelspec": {
   "display_name": "Python 3 (ipykernel)",
   "language": "python",
   "name": "python3"
  },
  "language_info": {
   "codemirror_mode": {
    "name": "ipython",
    "version": 3
   },
   "file_extension": ".py",
   "mimetype": "text/x-python",
   "name": "python",
   "nbconvert_exporter": "python",
   "pygments_lexer": "ipython3",
   "version": "3.12.2"
  }
 },
 "nbformat": 4,
 "nbformat_minor": 1
}
